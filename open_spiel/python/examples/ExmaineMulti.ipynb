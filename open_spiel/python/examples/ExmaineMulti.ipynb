{
 "cells": [
  {
   "cell_type": "code",
   "execution_count": 92,
   "metadata": {},
   "outputs": [
    {
     "name": "stdout",
     "output_type": "stream",
     "text": [
      "The autoreload extension is already loaded. To reload it, use:\n",
      "  %reload_ext autoreload\n",
      "Populating the interactive namespace from numpy and matplotlib\n"
     ]
    }
   ],
   "source": [
    "%load_ext autoreload\n",
    "%autoreload 2\n",
    "%pylab inline\n",
    "import pandas as pd\n",
    "import glob\n",
    "import seaborn as sns\n",
    "import pyspiel\n",
    "import os\n",
    "import json\n",
    "from analysis_tools import *\n",
    "from open_spiel.python.algorithms import cfr, outcome_sampling_mccfr, expected_game_score, exploitability, get_all_states_with_policy\n",
    "import itertools\n",
    "\n",
    "sns.set(font_scale=2)"
   ]
  },
  {
   "cell_type": "code",
   "execution_count": 169,
   "metadata": {},
   "outputs": [],
   "source": [
    "# df = pd.read_csv('/Users/newmanne/research/cfr/tmp/reduced_strategy.csv')\n",
    "df = pd.read_csv('/Users/newmanne/research/cfr/open_spiel/output/reduced_strategy.csv')"
   ]
  },
  {
   "cell_type": "code",
   "execution_count": 170,
   "metadata": {},
   "outputs": [
    {
     "data": {
      "image/png": "[encoded data removed]",
      "text/plain": [
       "<Figure size 432x288 with 1 Axes>"
      ]
     },
     "metadata": {},
     "output_type": "display_data"
    }
   ],
   "source": [
    "round_probs(df)"
   ]
  },
  {
   "cell_type": "code",
   "execution_count": 168,
   "metadata": {},
   "outputs": [
    {
     "data": {
      "text/html": [
       "<div>\n",
       "<style scoped>\n",
       "    .dataframe tbody tr th:only-of-type {\n",
       "        vertical-align: middle;\n",
       "    }\n",
       "\n",
       "    .dataframe tbody tr th {\n",
       "        vertical-align: top;\n",
       "    }\n",
       "\n",
       "    .dataframe thead th {\n",
       "        text-align: right;\n",
       "    }\n",
       "</style>\n",
       "<table border=\"1\" class=\"dataframe\">\n",
       "  <thead>\n",
       "    <tr style=\"text-align: right;\">\n",
       "      <th></th>\n",
       "      <th></th>\n",
       "      <th>Expected Allocation A</th>\n",
       "      <th>Expected Allocation B</th>\n",
       "      <th>Expected Utility</th>\n",
       "    </tr>\n",
       "    <tr>\n",
       "      <th>player</th>\n",
       "      <th>type</th>\n",
       "      <th></th>\n",
       "      <th></th>\n",
       "      <th></th>\n",
       "    </tr>\n",
       "  </thead>\n",
       "  <tbody>\n",
       "    <tr>\n",
       "      <th>0</th>\n",
       "      <th>v150,0b121.0</th>\n",
       "      <td>4.166306e-01</td>\n",
       "      <td>1.388892e-09</td>\n",
       "      <td>20.831528</td>\n",
       "    </tr>\n",
       "    <tr>\n",
       "      <th>1</th>\n",
       "      <th>v0,150b130.0</th>\n",
       "      <td>1.111113e-09</td>\n",
       "      <td>4.166389e-01</td>\n",
       "      <td>20.831944</td>\n",
       "    </tr>\n",
       "    <tr>\n",
       "      <th rowspan=\"2\" valign=\"top\">2</th>\n",
       "      <th>v150,0b110.0</th>\n",
       "      <td>8.333346e-06</td>\n",
       "      <td>1.851853e-16</td>\n",
       "      <td>0.000417</td>\n",
       "    </tr>\n",
       "    <tr>\n",
       "      <th>v150,0b130.0</th>\n",
       "      <td>5.555564e-06</td>\n",
       "      <td>5.555558e-06</td>\n",
       "      <td>-0.000278</td>\n",
       "    </tr>\n",
       "  </tbody>\n",
       "</table>\n",
       "</div>"
      ],
      "text/plain": [
       "                     Expected Allocation A  Expected Allocation B  \\\n",
       "player type                                                         \n",
       "0      v150,0b121.0           4.166306e-01           1.388892e-09   \n",
       "1      v0,150b130.0           1.111113e-09           4.166389e-01   \n",
       "2      v150,0b110.0           8.333346e-06           1.851853e-16   \n",
       "       v150,0b130.0           5.555564e-06           5.555558e-06   \n",
       "\n",
       "                     Expected Utility  \n",
       "player type                            \n",
       "0      v150,0b121.0         20.831528  \n",
       "1      v0,150b130.0         20.831944  \n",
       "2      v150,0b110.0          0.000417  \n",
       "       v150,0b130.0         -0.000278  "
      ]
     },
     "execution_count": 168,
     "metadata": {},
     "output_type": "execute_result"
    }
   ],
   "source": [
    "expected_values_over_types(df)"
   ]
  },
  {
   "cell_type": "code",
   "execution_count": 87,
   "metadata": {},
   "outputs": [
    {
     "data": {
      "text/plain": [
       "Index(['info_state', 'player', 'Allocation 0 A', 'Allocation 0 B',\n",
       "       'Allocation 1 A', 'Allocation 1 B', 'Allocation 2 A', 'Allocation 2 B',\n",
       "       'Bid (0 A, 0 B)', 'Bid (0 A, 1 B)', 'Bid (1 A, 0 B)', 'Price A',\n",
       "       'Price B', 'Utility 0', 'Utility 1', 'Utility 2', 'budget', 'my_bids',\n",
       "       'prob', 'round', 'terminal', 'total_demand', 'value'],\n",
       "      dtype='object')"
      ]
     },
     "execution_count": 87,
     "metadata": {},
     "output_type": "execute_result"
    }
   ],
   "source": [
    "df.columns"
   ]
  },
  {
   "cell_type": "code",
   "execution_count": 171,
   "metadata": {},
   "outputs": [
    {
     "data": {
      "text/html": [
       "<div>\n",
       "<style scoped>\n",
       "    .dataframe tbody tr th:only-of-type {\n",
       "        vertical-align: middle;\n",
       "    }\n",
       "\n",
       "    .dataframe tbody tr th {\n",
       "        vertical-align: top;\n",
       "    }\n",
       "\n",
       "    .dataframe thead th {\n",
       "        text-align: right;\n",
       "    }\n",
       "</style>\n",
       "<table border=\"1\" class=\"dataframe\">\n",
       "  <thead>\n",
       "    <tr style=\"text-align: right;\">\n",
       "      <th></th>\n",
       "      <th>Round</th>\n",
       "      <th>Player</th>\n",
       "      <th>Bid</th>\n",
       "      <th>% Played</th>\n",
       "    </tr>\n",
       "  </thead>\n",
       "  <tbody>\n",
       "    <tr>\n",
       "      <th>0</th>\n",
       "      <td>1</td>\n",
       "      <td>p0tv150, 0b121.0</td>\n",
       "      <td>Bid (0 A, 0 B)</td>\n",
       "      <td>0.000000</td>\n",
       "    </tr>\n",
       "    <tr>\n",
       "      <th>1</th>\n",
       "      <td>2</td>\n",
       "      <td>p0tv150, 0b121.0</td>\n",
       "      <td>Bid (0 A, 0 B)</td>\n",
       "      <td>0.583342</td>\n",
       "    </tr>\n",
       "    <tr>\n",
       "      <th>2</th>\n",
       "      <td>1</td>\n",
       "      <td>p1tv0, 150b130.0</td>\n",
       "      <td>Bid (0 A, 0 B)</td>\n",
       "      <td>0.000000</td>\n",
       "    </tr>\n",
       "    <tr>\n",
       "      <th>3</th>\n",
       "      <td>2</td>\n",
       "      <td>p1tv0, 150b130.0</td>\n",
       "      <td>Bid (0 A, 0 B)</td>\n",
       "      <td>0.583342</td>\n",
       "    </tr>\n",
       "    <tr>\n",
       "      <th>4</th>\n",
       "      <td>1</td>\n",
       "      <td>p2tv150, 0b110.0</td>\n",
       "      <td>Bid (0 A, 0 B)</td>\n",
       "      <td>0.250000</td>\n",
       "    </tr>\n",
       "    <tr>\n",
       "      <th>5</th>\n",
       "      <td>2</td>\n",
       "      <td>p2tv150, 0b110.0</td>\n",
       "      <td>Bid (0 A, 0 B)</td>\n",
       "      <td>0.250008</td>\n",
       "    </tr>\n",
       "    <tr>\n",
       "      <th>6</th>\n",
       "      <td>2</td>\n",
       "      <td>p2tv150, 0b130.0</td>\n",
       "      <td>Bid (0 A, 0 B)</td>\n",
       "      <td>0.333333</td>\n",
       "    </tr>\n",
       "    <tr>\n",
       "      <th>7</th>\n",
       "      <td>1</td>\n",
       "      <td>p0tv150, 0b121.0</td>\n",
       "      <td>Bid (0 A, 1 B)</td>\n",
       "      <td>0.000000</td>\n",
       "    </tr>\n",
       "    <tr>\n",
       "      <th>8</th>\n",
       "      <td>2</td>\n",
       "      <td>p0tv150, 0b121.0</td>\n",
       "      <td>Bid (0 A, 1 B)</td>\n",
       "      <td>0.000000</td>\n",
       "    </tr>\n",
       "    <tr>\n",
       "      <th>9</th>\n",
       "      <td>1</td>\n",
       "      <td>p1tv0, 150b130.0</td>\n",
       "      <td>Bid (0 A, 1 B)</td>\n",
       "      <td>1.000000</td>\n",
       "    </tr>\n",
       "    <tr>\n",
       "      <th>10</th>\n",
       "      <td>2</td>\n",
       "      <td>p1tv0, 150b130.0</td>\n",
       "      <td>Bid (0 A, 1 B)</td>\n",
       "      <td>0.000000</td>\n",
       "    </tr>\n",
       "    <tr>\n",
       "      <th>11</th>\n",
       "      <td>1</td>\n",
       "      <td>p2tv150, 0b110.0</td>\n",
       "      <td>Bid (0 A, 1 B)</td>\n",
       "      <td>0.000000</td>\n",
       "    </tr>\n",
       "    <tr>\n",
       "      <th>12</th>\n",
       "      <td>2</td>\n",
       "      <td>p2tv150, 0b110.0</td>\n",
       "      <td>Bid (0 A, 1 B)</td>\n",
       "      <td>0.000000</td>\n",
       "    </tr>\n",
       "    <tr>\n",
       "      <th>13</th>\n",
       "      <td>2</td>\n",
       "      <td>p2tv150, 0b130.0</td>\n",
       "      <td>Bid (0 A, 1 B)</td>\n",
       "      <td>0.000000</td>\n",
       "    </tr>\n",
       "    <tr>\n",
       "      <th>14</th>\n",
       "      <td>1</td>\n",
       "      <td>p0tv150, 0b121.0</td>\n",
       "      <td>Bid (1 A, 0 B)</td>\n",
       "      <td>1.000000</td>\n",
       "    </tr>\n",
       "    <tr>\n",
       "      <th>15</th>\n",
       "      <td>2</td>\n",
       "      <td>p0tv150, 0b121.0</td>\n",
       "      <td>Bid (1 A, 0 B)</td>\n",
       "      <td>0.000000</td>\n",
       "    </tr>\n",
       "    <tr>\n",
       "      <th>16</th>\n",
       "      <td>1</td>\n",
       "      <td>p1tv0, 150b130.0</td>\n",
       "      <td>Bid (1 A, 0 B)</td>\n",
       "      <td>0.000000</td>\n",
       "    </tr>\n",
       "    <tr>\n",
       "      <th>17</th>\n",
       "      <td>2</td>\n",
       "      <td>p1tv0, 150b130.0</td>\n",
       "      <td>Bid (1 A, 0 B)</td>\n",
       "      <td>0.000000</td>\n",
       "    </tr>\n",
       "    <tr>\n",
       "      <th>18</th>\n",
       "      <td>1</td>\n",
       "      <td>p2tv150, 0b110.0</td>\n",
       "      <td>Bid (1 A, 0 B)</td>\n",
       "      <td>0.250000</td>\n",
       "    </tr>\n",
       "    <tr>\n",
       "      <th>19</th>\n",
       "      <td>2</td>\n",
       "      <td>p2tv150, 0b110.0</td>\n",
       "      <td>Bid (1 A, 0 B)</td>\n",
       "      <td>0.000000</td>\n",
       "    </tr>\n",
       "    <tr>\n",
       "      <th>20</th>\n",
       "      <td>2</td>\n",
       "      <td>p2tv150, 0b130.0</td>\n",
       "      <td>Bid (1 A, 0 B)</td>\n",
       "      <td>0.000000</td>\n",
       "    </tr>\n",
       "  </tbody>\n",
       "</table>\n",
       "</div>"
      ],
      "text/plain": [
       "    Round            Player             Bid  % Played\n",
       "0       1  p0tv150, 0b121.0  Bid (0 A, 0 B)  0.000000\n",
       "1       2  p0tv150, 0b121.0  Bid (0 A, 0 B)  0.583342\n",
       "2       1  p1tv0, 150b130.0  Bid (0 A, 0 B)  0.000000\n",
       "3       2  p1tv0, 150b130.0  Bid (0 A, 0 B)  0.583342\n",
       "4       1  p2tv150, 0b110.0  Bid (0 A, 0 B)  0.250000\n",
       "5       2  p2tv150, 0b110.0  Bid (0 A, 0 B)  0.250008\n",
       "6       2  p2tv150, 0b130.0  Bid (0 A, 0 B)  0.333333\n",
       "7       1  p0tv150, 0b121.0  Bid (0 A, 1 B)  0.000000\n",
       "8       2  p0tv150, 0b121.0  Bid (0 A, 1 B)  0.000000\n",
       "9       1  p1tv0, 150b130.0  Bid (0 A, 1 B)  1.000000\n",
       "10      2  p1tv0, 150b130.0  Bid (0 A, 1 B)  0.000000\n",
       "11      1  p2tv150, 0b110.0  Bid (0 A, 1 B)  0.000000\n",
       "12      2  p2tv150, 0b110.0  Bid (0 A, 1 B)  0.000000\n",
       "13      2  p2tv150, 0b130.0  Bid (0 A, 1 B)  0.000000\n",
       "14      1  p0tv150, 0b121.0  Bid (1 A, 0 B)  1.000000\n",
       "15      2  p0tv150, 0b121.0  Bid (1 A, 0 B)  0.000000\n",
       "16      1  p1tv0, 150b130.0  Bid (1 A, 0 B)  0.000000\n",
       "17      2  p1tv0, 150b130.0  Bid (1 A, 0 B)  0.000000\n",
       "18      1  p2tv150, 0b110.0  Bid (1 A, 0 B)  0.250000\n",
       "19      2  p2tv150, 0b110.0  Bid (1 A, 0 B)  0.000000\n",
       "20      2  p2tv150, 0b130.0  Bid (1 A, 0 B)  0.000000"
      ]
     },
     "execution_count": 171,
     "metadata": {},
     "output_type": "execute_result"
    }
   ],
   "source": [
    "### What do I want my data to look like?\n",
    "bid_cols = [c for c in df.columns if 'Bid' in c]\n",
    "action_df = df.query('~terminal')[bid_cols  + ['prob', 'round', 'player', 'type']].copy()\n",
    "action_df['Player'] = 'p' + action_df['player'].astype(str) + 't' + action_df['type']\n",
    "action_df.drop(['player', 'type'], inplace=True, axis='columns')\n",
    "action_df = action_df.rename(columns={'round': 'Round'})\n",
    "for i in range(3):\n",
    "    action_df.iloc[:, i] *= action_df['prob']\n",
    "action_df.drop('prob', inplace=True, axis='columns')\n",
    "action_df = action_df.groupby(['Player', 'Round']).sum().reset_index().melt(id_vars=['Round', 'Player'], value_name='% Played', var_name='Bid')\n",
    "action_df\n"
   ]
  },
  {
   "cell_type": "code",
   "execution_count": 172,
   "metadata": {},
   "outputs": [],
   "source": [
    "# Above is unconditional of reaching that round. This renormlizes\n",
    "\n",
    "def normalize(df):\n",
    "    normalizer = df['% Played'].sum()\n",
    "    df['% Played'] /= normalizer\n",
    "    return df\n",
    "\n",
    "action_df = action_df.groupby(['Round', 'Player']).apply(normalize)"
   ]
  },
  {
   "cell_type": "code",
   "execution_count": 173,
   "metadata": {},
   "outputs": [
    {
     "data": {
      "image/png": "[encoded data removed]",
      "text/plain": [
       "<Figure size 2264.95x1440 with 2 Axes>"
      ]
     },
     "metadata": {},
     "output_type": "display_data"
    }
   ],
   "source": [
    "g = sns.catplot(x=\"Bid\", y=\"% Played\", hue=\"Player\", col=\"Round\", data=action_df, kind=\"bar\", height=20, aspect=.7);\n",
    "plt.savefig('probs.png', dpi=300)"
   ]
  },
  {
   "cell_type": "code",
   "execution_count": 23,
   "metadata": {},
   "outputs": [
    {
     "data": {
      "text/plain": [
       "{'A', 'B'}"
      ]
     },
     "execution_count": 23,
     "metadata": {},
     "output_type": "execute_result"
    }
   ],
   "source": [
    "alloc_cols = [c for c in df.columns if 'Allocation' in c]\n",
    "goods = set([re.match(r'Allocation \\d ([A-Z])', g).groups()[0] for g in alloc_cols])\n",
    "goods"
   ]
  },
  {
   "cell_type": "code",
   "execution_count": 14,
   "metadata": {},
   "outputs": [
    {
     "data": {
      "text/plain": [
       "\u001b[0;31mSignature:\u001b[0m \u001b[0mre\u001b[0m\u001b[0;34m.\u001b[0m\u001b[0mmatch\u001b[0m\u001b[0;34m(\u001b[0m\u001b[0mpattern\u001b[0m\u001b[0;34m,\u001b[0m \u001b[0mstring\u001b[0m\u001b[0;34m,\u001b[0m \u001b[0mflags\u001b[0m\u001b[0;34m=\u001b[0m\u001b[0;36m0\u001b[0m\u001b[0;34m)\u001b[0m\u001b[0;34m\u001b[0m\u001b[0;34m\u001b[0m\u001b[0m\n",
       "\u001b[0;31mDocstring:\u001b[0m\n",
       "Try to apply the pattern at the start of the string, returning\n",
       "a Match object, or None if no match was found.\n",
       "\u001b[0;31mFile:\u001b[0m      ~/anaconda3/lib/python3.7/re.py\n",
       "\u001b[0;31mType:\u001b[0m      function\n"
      ]
     },
     "metadata": {},
     "output_type": "display_data"
    }
   ],
   "source": [
    "re.match?"
   ]
  },
  {
   "cell_type": "code",
   "execution_count": 75,
   "metadata": {},
   "outputs": [],
   "source": [
    "### How many info sets really don't need to exist, and what fraction are they of the total?\n",
    "strat = pd.read_csv('/Users/newmanne/research/cfr/tmp/strategy.csv')\n",
    "waste = strat.query('~terminal').query('`Bid (0 A, 0 B)` == 1').copy()\n",
    "waste = waste[(pd.isnull(waste['Bid (1 A, 0 B)'])) & (pd.isnull(waste['Bid (0 A, 1 B)']))]"
   ]
  },
  {
   "cell_type": "code",
   "execution_count": 78,
   "metadata": {},
   "outputs": [
    {
     "data": {
      "text/plain": [
       "0.7364618330262636"
      ]
     },
     "execution_count": 78,
     "metadata": {},
     "output_type": "execute_result"
    }
   ],
   "source": [
    "len(waste) / len(strat.query('~terminal'))"
   ]
  },
  {
   "cell_type": "code",
   "execution_count": 77,
   "metadata": {},
   "outputs": [
    {
     "data": {
      "text/plain": [
       "0.7260747230829505"
      ]
     },
     "execution_count": 77,
     "metadata": {},
     "output_type": "execute_result"
    }
   ],
   "source": [
    "len(waste)/len(strat)"
   ]
  },
  {
   "cell_type": "code",
   "execution_count": null,
   "metadata": {},
   "outputs": [],
   "source": []
  }
 ],
 "metadata": {
  "kernelspec": {
   "display_name": "Python 3",
   "language": "python",
   "name": "python3"
  },
  "language_info": {
   "codemirror_mode": {
    "name": "ipython",
    "version": 3
   },
   "file_extension": ".py",
   "mimetype": "text/x-python",
   "name": "python",
   "nbconvert_exporter": "python",
   "pygments_lexer": "ipython3",
   "version": "3.7.3"
  }
 },
 "nbformat": 4,
 "nbformat_minor": 2
}
