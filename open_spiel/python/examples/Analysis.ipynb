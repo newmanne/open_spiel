{
 "cells": [
  {
   "cell_type": "code",
   "execution_count": 4,
   "metadata": {},
   "outputs": [
    {
     "name": "stdout",
     "output_type": "stream",
     "text": [
      "Populating the interactive namespace from numpy and matplotlib\n"
     ]
    }
   ],
   "source": [
    "%pylab inline\n",
    "import pandas as pd\n",
    "import glob\n",
    "import seaborn as sns\n",
    "import pyspiel\n",
    "import os\n",
    "import json\n",
    "sns.set(font_scale=2)"
   ]
  },
  {
   "cell_type": "code",
   "execution_count": 13,
   "metadata": {},
   "outputs": [
    {
     "data": {
      "text/html": [
       "<div>\n",
       "<style scoped>\n",
       "    .dataframe tbody tr th:only-of-type {\n",
       "        vertical-align: middle;\n",
       "    }\n",
       "\n",
       "    .dataframe tbody tr th {\n",
       "        vertical-align: top;\n",
       "    }\n",
       "\n",
       "    .dataframe thead th {\n",
       "        text-align: right;\n",
       "    }\n",
       "</style>\n",
       "<table border=\"1\" class=\"dataframe\">\n",
       "  <thead>\n",
       "    <tr style=\"text-align: right;\">\n",
       "      <th></th>\n",
       "      <th>Unnamed: 0</th>\n",
       "    </tr>\n",
       "  </thead>\n",
       "  <tbody>\n",
       "  </tbody>\n",
       "</table>\n",
       "</div>"
      ],
      "text/plain": [
       "Empty DataFrame\n",
       "Columns: [Unnamed: 0]\n",
       "Index: []"
      ]
     },
     "metadata": {},
     "output_type": "display_data"
    },
    {
     "data": {
      "text/html": [
       "<div>\n",
       "<style scoped>\n",
       "    .dataframe tbody tr th:only-of-type {\n",
       "        vertical-align: middle;\n",
       "    }\n",
       "\n",
       "    .dataframe tbody tr th {\n",
       "        vertical-align: top;\n",
       "    }\n",
       "\n",
       "    .dataframe thead th {\n",
       "        text-align: right;\n",
       "    }\n",
       "</style>\n",
       "<table border=\"1\" class=\"dataframe\">\n",
       "  <thead>\n",
       "    <tr style=\"text-align: right;\">\n",
       "      <th></th>\n",
       "      <th>Unnamed: 0</th>\n",
       "    </tr>\n",
       "  </thead>\n",
       "  <tbody>\n",
       "  </tbody>\n",
       "</table>\n",
       "</div>"
      ],
      "text/plain": [
       "Empty DataFrame\n",
       "Columns: [Unnamed: 0]\n",
       "Index: []"
      ]
     },
     "metadata": {},
     "output_type": "display_data"
    },
    {
     "data": {
      "text/html": [
       "<div>\n",
       "<style scoped>\n",
       "    .dataframe tbody tr th:only-of-type {\n",
       "        vertical-align: middle;\n",
       "    }\n",
       "\n",
       "    .dataframe tbody tr th {\n",
       "        vertical-align: top;\n",
       "    }\n",
       "\n",
       "    .dataframe thead th {\n",
       "        text-align: right;\n",
       "    }\n",
       "</style>\n",
       "<table border=\"1\" class=\"dataframe\">\n",
       "  <thead>\n",
       "    <tr style=\"text-align: right;\">\n",
       "      <th></th>\n",
       "      <th>Unnamed: 0</th>\n",
       "    </tr>\n",
       "  </thead>\n",
       "  <tbody>\n",
       "  </tbody>\n",
       "</table>\n",
       "</div>"
      ],
      "text/plain": [
       "Empty DataFrame\n",
       "Columns: [Unnamed: 0]\n",
       "Index: []"
      ]
     },
     "metadata": {},
     "output_type": "display_data"
    },
    {
     "data": {
      "text/html": [
       "<div>\n",
       "<style scoped>\n",
       "    .dataframe tbody tr th:only-of-type {\n",
       "        vertical-align: middle;\n",
       "    }\n",
       "\n",
       "    .dataframe tbody tr th {\n",
       "        vertical-align: top;\n",
       "    }\n",
       "\n",
       "    .dataframe thead th {\n",
       "        text-align: right;\n",
       "    }\n",
       "</style>\n",
       "<table border=\"1\" class=\"dataframe\">\n",
       "  <thead>\n",
       "    <tr style=\"text-align: right;\">\n",
       "      <th></th>\n",
       "      <th>Unnamed: 0</th>\n",
       "    </tr>\n",
       "  </thead>\n",
       "  <tbody>\n",
       "  </tbody>\n",
       "</table>\n",
       "</div>"
      ],
      "text/plain": [
       "Empty DataFrame\n",
       "Columns: [Unnamed: 0]\n",
       "Index: []"
      ]
     },
     "metadata": {},
     "output_type": "display_data"
    },
    {
     "data": {
      "text/html": [
       "<div>\n",
       "<style scoped>\n",
       "    .dataframe tbody tr th:only-of-type {\n",
       "        vertical-align: middle;\n",
       "    }\n",
       "\n",
       "    .dataframe tbody tr th {\n",
       "        vertical-align: top;\n",
       "    }\n",
       "\n",
       "    .dataframe thead th {\n",
       "        text-align: right;\n",
       "    }\n",
       "</style>\n",
       "<table border=\"1\" class=\"dataframe\">\n",
       "  <thead>\n",
       "    <tr style=\"text-align: right;\">\n",
       "      <th></th>\n",
       "      <th>Unnamed: 0</th>\n",
       "    </tr>\n",
       "  </thead>\n",
       "  <tbody>\n",
       "  </tbody>\n",
       "</table>\n",
       "</div>"
      ],
      "text/plain": [
       "Empty DataFrame\n",
       "Columns: [Unnamed: 0]\n",
       "Index: []"
      ]
     },
     "metadata": {},
     "output_type": "display_data"
    },
    {
     "data": {
      "text/html": [
       "<div>\n",
       "<style scoped>\n",
       "    .dataframe tbody tr th:only-of-type {\n",
       "        vertical-align: middle;\n",
       "    }\n",
       "\n",
       "    .dataframe tbody tr th {\n",
       "        vertical-align: top;\n",
       "    }\n",
       "\n",
       "    .dataframe thead th {\n",
       "        text-align: right;\n",
       "    }\n",
       "</style>\n",
       "<table border=\"1\" class=\"dataframe\">\n",
       "  <thead>\n",
       "    <tr style=\"text-align: right;\">\n",
       "      <th></th>\n",
       "      <th>Unnamed: 0</th>\n",
       "    </tr>\n",
       "  </thead>\n",
       "  <tbody>\n",
       "  </tbody>\n",
       "</table>\n",
       "</div>"
      ],
      "text/plain": [
       "Empty DataFrame\n",
       "Columns: [Unnamed: 0]\n",
       "Index: []"
      ]
     },
     "metadata": {},
     "output_type": "display_data"
    }
   ],
   "source": [
    "# A database/webapp?\n",
    "\n",
    "BASE_DIR = '../../../../experiments/small/1/'\n",
    "for d in glob.glob(BASE_DIR + '*'):\n",
    "    if not os.path.isdir(d):\n",
    "        continue\n",
    "    with open(f'{d}/solver.json', 'r') as f:\n",
    "        solver_config = json.load(f)\n",
    "    df = pd.read_csv(f'{d}/run_metrics.csv')\n",
    "    display(df)\n"
   ]
  },
  {
   "cell_type": "code",
   "execution_count": 56,
   "metadata": {},
   "outputs": [],
   "source": [
    "f = './cc/cfr/1/cfr_123'\n",
    "rs = f'{f}/reduced_strategy.csv'\n",
    "df = pd.read_csv(rs)"
   ]
  },
  {
   "cell_type": "code",
   "execution_count": 54,
   "metadata": {},
   "outputs": [],
   "source": [
    "!open $rs"
   ]
  },
  {
   "cell_type": "code",
   "execution_count": 84,
   "metadata": {},
   "outputs": [
    {
     "name": "stdout",
     "output_type": "stream",
     "text": [
      "{\"increment\": 0.1, \"licenses\": 3, \"opening_price\": 100, \"undersell_rule\": \"undersell_standard\", \"players\": [{\"type\": [{\"value\": 275, \"budget\": 475, \"prob\": 1.0}]}, {\"type\": [{\"value\": 150, \"budget\": 400, \"prob\": 0.5}, {\"value\": 300, \"budget\": 650, \"prob\": 0.5}]}]}"
     ]
    }
   ],
   "source": [
    "!cat './cc/cfr/5/5.json'\n",
    "# Likely that p0 is very weak"
   ]
  },
  {
   "cell_type": "code",
   "execution_count": 15,
   "metadata": {},
   "outputs": [
    {
     "name": "stdout",
     "output_type": "stream",
     "text": [
      "cfr.log              reduced_strategy.csv\n",
      "nash_conv.csv        strategy.csv\n"
     ]
    }
   ],
   "source": [
    "!ls ./cc/cfr/3/cfr_123/"
   ]
  },
  {
   "cell_type": "code",
   "execution_count": null,
   "metadata": {},
   "outputs": [],
   "source": [
    "def plot_nash_conv(nash_convs):\n",
    "    plt.figure(figsize=(9,6))\n",
    "    y = nash_convs\n",
    "    x = range(len(nash_convs))\n",
    "    plt.scatter(x,y, label='Nash Conv')\n",
    "    plt.semilogy()\n",
    "    plt.ylabel(\"Nash Conv\")\n",
    "    plt.xlabel(\"Iteration\")"
   ]
  },
  {
   "cell_type": "code",
   "execution_count": 111,
   "metadata": {},
   "outputs": [
    {
     "data": {
      "text/plain": [
       "[array(['225.0b525.0'], dtype=object),\n",
       " array(['150.0b400.0', '300.0b650.0'], dtype=object)]"
      ]
     },
     "execution_count": 111,
     "metadata": {},
     "output_type": "execute_result"
    }
   ],
   "source": [
    "df['type'] = df['value'].astype(str) + 'b' + df['budget'].astype(str)\n",
    "type_space = []\n",
    "for player in df['player'].unique():\n",
    "    type_space.append(df.query(f'player == {player}')['type'].unique())\n",
    "type_space"
   ]
  },
  {
   "cell_type": "code",
   "execution_count": null,
   "metadata": {},
   "outputs": [],
   "source": [
    "# Bar chart: P(game ends on r=)\n",
    "# TODO: Condition on types?\n",
    "\n",
    "def round_probs(df):\n",
    "    df['type'] = df['value'].astype(str) + 'b' + df['budget'].astype(str)\n",
    "    # TODO: This double counts\n",
    "    df.query('terminal and player == 0').groupby('round')['prob'].sum().plot(kind='bar')\n",
    "    plt.ylabel('P(ending on round)')\n",
    "    plt.xlabel(\"Round\")"
   ]
  },
  {
   "cell_type": "code",
   "execution_count": 99,
   "metadata": {},
   "outputs": [
    {
     "name": "stdout",
     "output_type": "stream",
     "text": [
      "9999    7.761727\n",
      "Name: nash_conv, dtype: float64\n"
     ]
    },
    {
     "data": {
      "image/png": "[encoded data removed]",
      "text/plain": [
       "<Figure size 648x432 with 1 Axes>"
      ]
     },
     "metadata": {},
     "output_type": "display_data"
    }
   ],
   "source": [
    "d = './cc/cfr2/2/mccfr_ext_2/'\n",
    "nc_df = pd.read_csv(f'{d}/nash_conv.csv')\n",
    "\n",
    "    \n",
    "plot_nash_conv(nc_df['nash_conv'])\n",
    "print(nc_df['nash_conv'].tail(1))"
   ]
  },
  {
   "cell_type": "code",
   "execution_count": null,
   "metadata": {},
   "outputs": [],
   "source": []
  },
  {
   "cell_type": "code",
   "execution_count": 114,
   "metadata": {},
   "outputs": [],
   "source": [
    "# !open $d/reduced_strategy.csv\n",
    "d = './cc/cfr2/1/cfr_123'"
   ]
  },
  {
   "cell_type": "code",
   "execution_count": 115,
   "metadata": {},
   "outputs": [
    {
     "ename": "FileNotFoundError",
     "evalue": "[Errno 2] No such file or directory: './cc/cfr2/1/cfr_123/strategy.csv'",
     "output_type": "error",
     "traceback": [
      "\u001b[0;31m---------------------------------------------------------------------------\u001b[0m",
      "\u001b[0;31mFileNotFoundError\u001b[0m                         Traceback (most recent call last)",
      "\u001b[0;32m<ipython-input-115-82cfd6feda00>\u001b[0m in \u001b[0;36m<module>\u001b[0;34m()\u001b[0m\n\u001b[0;32m----> 1\u001b[0;31m \u001b[0mdf\u001b[0m \u001b[0;34m=\u001b[0m \u001b[0mpd\u001b[0m\u001b[0;34m.\u001b[0m\u001b[0mread_csv\u001b[0m\u001b[0;34m(\u001b[0m\u001b[0;34mf'{d}/strategy.csv'\u001b[0m\u001b[0;34m)\u001b[0m\u001b[0;34m\u001b[0m\u001b[0;34m\u001b[0m\u001b[0m\n\u001b[0m\u001b[1;32m      2\u001b[0m \u001b[0;32mdef\u001b[0m \u001b[0mget_line\u001b[0m\u001b[0;34m(\u001b[0m\u001b[0mn\u001b[0m\u001b[0;34m)\u001b[0m\u001b[0;34m:\u001b[0m\u001b[0;34m\u001b[0m\u001b[0;34m\u001b[0m\u001b[0m\n\u001b[1;32m      3\u001b[0m     \u001b[0;32mdef\u001b[0m \u001b[0mq\u001b[0m\u001b[0;34m(\u001b[0m\u001b[0mx\u001b[0m\u001b[0;34m)\u001b[0m\u001b[0;34m:\u001b[0m\u001b[0;34m\u001b[0m\u001b[0;34m\u001b[0m\u001b[0m\n\u001b[1;32m      4\u001b[0m         \u001b[0mlines\u001b[0m \u001b[0;34m=\u001b[0m \u001b[0mx\u001b[0m\u001b[0;34m.\u001b[0m\u001b[0msplit\u001b[0m\u001b[0;34m(\u001b[0m\u001b[0;34m'\\n'\u001b[0m\u001b[0;34m)\u001b[0m\u001b[0;34m\u001b[0m\u001b[0;34m\u001b[0m\u001b[0m\n\u001b[1;32m      5\u001b[0m         \u001b[0;32mif\u001b[0m \u001b[0mlen\u001b[0m\u001b[0;34m(\u001b[0m\u001b[0mlines\u001b[0m\u001b[0;34m)\u001b[0m \u001b[0;34m>\u001b[0m \u001b[0mn\u001b[0m\u001b[0;34m:\u001b[0m\u001b[0;34m\u001b[0m\u001b[0;34m\u001b[0m\u001b[0m\n",
      "\u001b[0;32m/Users/newmanne/research/cfr/open_spiel/venv/lib/python3.7/site-packages/pandas/io/parsers.py\u001b[0m in \u001b[0;36mread_csv\u001b[0;34m(filepath_or_buffer, sep, delimiter, header, names, index_col, usecols, squeeze, prefix, mangle_dupe_cols, dtype, engine, converters, true_values, false_values, skipinitialspace, skiprows, skipfooter, nrows, na_values, keep_default_na, na_filter, verbose, skip_blank_lines, parse_dates, infer_datetime_format, keep_date_col, date_parser, dayfirst, cache_dates, iterator, chunksize, compression, thousands, decimal, lineterminator, quotechar, quoting, doublequote, escapechar, comment, encoding, dialect, error_bad_lines, warn_bad_lines, delim_whitespace, low_memory, memory_map, float_precision)\u001b[0m\n\u001b[1;32m    686\u001b[0m     )\n\u001b[1;32m    687\u001b[0m \u001b[0;34m\u001b[0m\u001b[0m\n\u001b[0;32m--> 688\u001b[0;31m     \u001b[0;32mreturn\u001b[0m \u001b[0m_read\u001b[0m\u001b[0;34m(\u001b[0m\u001b[0mfilepath_or_buffer\u001b[0m\u001b[0;34m,\u001b[0m \u001b[0mkwds\u001b[0m\u001b[0;34m)\u001b[0m\u001b[0;34m\u001b[0m\u001b[0;34m\u001b[0m\u001b[0m\n\u001b[0m\u001b[1;32m    689\u001b[0m \u001b[0;34m\u001b[0m\u001b[0m\n\u001b[1;32m    690\u001b[0m \u001b[0;34m\u001b[0m\u001b[0m\n",
      "\u001b[0;32m/Users/newmanne/research/cfr/open_spiel/venv/lib/python3.7/site-packages/pandas/io/parsers.py\u001b[0m in \u001b[0;36m_read\u001b[0;34m(filepath_or_buffer, kwds)\u001b[0m\n\u001b[1;32m    452\u001b[0m \u001b[0;34m\u001b[0m\u001b[0m\n\u001b[1;32m    453\u001b[0m     \u001b[0;31m# Create the parser.\u001b[0m\u001b[0;34m\u001b[0m\u001b[0;34m\u001b[0m\u001b[0;34m\u001b[0m\u001b[0m\n\u001b[0;32m--> 454\u001b[0;31m     \u001b[0mparser\u001b[0m \u001b[0;34m=\u001b[0m \u001b[0mTextFileReader\u001b[0m\u001b[0;34m(\u001b[0m\u001b[0mfp_or_buf\u001b[0m\u001b[0;34m,\u001b[0m \u001b[0;34m**\u001b[0m\u001b[0mkwds\u001b[0m\u001b[0;34m)\u001b[0m\u001b[0;34m\u001b[0m\u001b[0;34m\u001b[0m\u001b[0m\n\u001b[0m\u001b[1;32m    455\u001b[0m \u001b[0;34m\u001b[0m\u001b[0m\n\u001b[1;32m    456\u001b[0m     \u001b[0;32mif\u001b[0m \u001b[0mchunksize\u001b[0m \u001b[0;32mor\u001b[0m \u001b[0miterator\u001b[0m\u001b[0;34m:\u001b[0m\u001b[0;34m\u001b[0m\u001b[0;34m\u001b[0m\u001b[0m\n",
      "\u001b[0;32m/Users/newmanne/research/cfr/open_spiel/venv/lib/python3.7/site-packages/pandas/io/parsers.py\u001b[0m in \u001b[0;36m__init__\u001b[0;34m(self, f, engine, **kwds)\u001b[0m\n\u001b[1;32m    946\u001b[0m             \u001b[0mself\u001b[0m\u001b[0;34m.\u001b[0m\u001b[0moptions\u001b[0m\u001b[0;34m[\u001b[0m\u001b[0;34m\"has_index_names\"\u001b[0m\u001b[0;34m]\u001b[0m \u001b[0;34m=\u001b[0m \u001b[0mkwds\u001b[0m\u001b[0;34m[\u001b[0m\u001b[0;34m\"has_index_names\"\u001b[0m\u001b[0;34m]\u001b[0m\u001b[0;34m\u001b[0m\u001b[0;34m\u001b[0m\u001b[0m\n\u001b[1;32m    947\u001b[0m \u001b[0;34m\u001b[0m\u001b[0m\n\u001b[0;32m--> 948\u001b[0;31m         \u001b[0mself\u001b[0m\u001b[0;34m.\u001b[0m\u001b[0m_make_engine\u001b[0m\u001b[0;34m(\u001b[0m\u001b[0mself\u001b[0m\u001b[0;34m.\u001b[0m\u001b[0mengine\u001b[0m\u001b[0;34m)\u001b[0m\u001b[0;34m\u001b[0m\u001b[0;34m\u001b[0m\u001b[0m\n\u001b[0m\u001b[1;32m    949\u001b[0m \u001b[0;34m\u001b[0m\u001b[0m\n\u001b[1;32m    950\u001b[0m     \u001b[0;32mdef\u001b[0m \u001b[0mclose\u001b[0m\u001b[0;34m(\u001b[0m\u001b[0mself\u001b[0m\u001b[0;34m)\u001b[0m\u001b[0;34m:\u001b[0m\u001b[0;34m\u001b[0m\u001b[0;34m\u001b[0m\u001b[0m\n",
      "\u001b[0;32m/Users/newmanne/research/cfr/open_spiel/venv/lib/python3.7/site-packages/pandas/io/parsers.py\u001b[0m in \u001b[0;36m_make_engine\u001b[0;34m(self, engine)\u001b[0m\n\u001b[1;32m   1178\u001b[0m     \u001b[0;32mdef\u001b[0m \u001b[0m_make_engine\u001b[0m\u001b[0;34m(\u001b[0m\u001b[0mself\u001b[0m\u001b[0;34m,\u001b[0m \u001b[0mengine\u001b[0m\u001b[0;34m=\u001b[0m\u001b[0;34m\"c\"\u001b[0m\u001b[0;34m)\u001b[0m\u001b[0;34m:\u001b[0m\u001b[0;34m\u001b[0m\u001b[0;34m\u001b[0m\u001b[0m\n\u001b[1;32m   1179\u001b[0m         \u001b[0;32mif\u001b[0m \u001b[0mengine\u001b[0m \u001b[0;34m==\u001b[0m \u001b[0;34m\"c\"\u001b[0m\u001b[0;34m:\u001b[0m\u001b[0;34m\u001b[0m\u001b[0;34m\u001b[0m\u001b[0m\n\u001b[0;32m-> 1180\u001b[0;31m             \u001b[0mself\u001b[0m\u001b[0;34m.\u001b[0m\u001b[0m_engine\u001b[0m \u001b[0;34m=\u001b[0m \u001b[0mCParserWrapper\u001b[0m\u001b[0;34m(\u001b[0m\u001b[0mself\u001b[0m\u001b[0;34m.\u001b[0m\u001b[0mf\u001b[0m\u001b[0;34m,\u001b[0m \u001b[0;34m**\u001b[0m\u001b[0mself\u001b[0m\u001b[0;34m.\u001b[0m\u001b[0moptions\u001b[0m\u001b[0;34m)\u001b[0m\u001b[0;34m\u001b[0m\u001b[0;34m\u001b[0m\u001b[0m\n\u001b[0m\u001b[1;32m   1181\u001b[0m         \u001b[0;32melse\u001b[0m\u001b[0;34m:\u001b[0m\u001b[0;34m\u001b[0m\u001b[0;34m\u001b[0m\u001b[0m\n\u001b[1;32m   1182\u001b[0m             \u001b[0;32mif\u001b[0m \u001b[0mengine\u001b[0m \u001b[0;34m==\u001b[0m \u001b[0;34m\"python\"\u001b[0m\u001b[0;34m:\u001b[0m\u001b[0;34m\u001b[0m\u001b[0;34m\u001b[0m\u001b[0m\n",
      "\u001b[0;32m/Users/newmanne/research/cfr/open_spiel/venv/lib/python3.7/site-packages/pandas/io/parsers.py\u001b[0m in \u001b[0;36m__init__\u001b[0;34m(self, src, **kwds)\u001b[0m\n\u001b[1;32m   2008\u001b[0m         \u001b[0mkwds\u001b[0m\u001b[0;34m[\u001b[0m\u001b[0;34m\"usecols\"\u001b[0m\u001b[0;34m]\u001b[0m \u001b[0;34m=\u001b[0m \u001b[0mself\u001b[0m\u001b[0;34m.\u001b[0m\u001b[0musecols\u001b[0m\u001b[0;34m\u001b[0m\u001b[0;34m\u001b[0m\u001b[0m\n\u001b[1;32m   2009\u001b[0m \u001b[0;34m\u001b[0m\u001b[0m\n\u001b[0;32m-> 2010\u001b[0;31m         \u001b[0mself\u001b[0m\u001b[0;34m.\u001b[0m\u001b[0m_reader\u001b[0m \u001b[0;34m=\u001b[0m \u001b[0mparsers\u001b[0m\u001b[0;34m.\u001b[0m\u001b[0mTextReader\u001b[0m\u001b[0;34m(\u001b[0m\u001b[0msrc\u001b[0m\u001b[0;34m,\u001b[0m \u001b[0;34m**\u001b[0m\u001b[0mkwds\u001b[0m\u001b[0;34m)\u001b[0m\u001b[0;34m\u001b[0m\u001b[0;34m\u001b[0m\u001b[0m\n\u001b[0m\u001b[1;32m   2011\u001b[0m         \u001b[0mself\u001b[0m\u001b[0;34m.\u001b[0m\u001b[0munnamed_cols\u001b[0m \u001b[0;34m=\u001b[0m \u001b[0mself\u001b[0m\u001b[0;34m.\u001b[0m\u001b[0m_reader\u001b[0m\u001b[0;34m.\u001b[0m\u001b[0munnamed_cols\u001b[0m\u001b[0;34m\u001b[0m\u001b[0;34m\u001b[0m\u001b[0m\n\u001b[1;32m   2012\u001b[0m \u001b[0;34m\u001b[0m\u001b[0m\n",
      "\u001b[0;32mpandas/_libs/parsers.pyx\u001b[0m in \u001b[0;36mpandas._libs.parsers.TextReader.__cinit__\u001b[0;34m()\u001b[0m\n",
      "\u001b[0;32mpandas/_libs/parsers.pyx\u001b[0m in \u001b[0;36mpandas._libs.parsers.TextReader._setup_parser_source\u001b[0;34m()\u001b[0m\n",
      "\u001b[0;31mFileNotFoundError\u001b[0m: [Errno 2] No such file or directory: './cc/cfr2/1/cfr_123/strategy.csv'"
     ]
    }
   ],
   "source": [
    "df = pd.read_csv(f'{d}/strategy.csv')\n",
    "def get_line(n):\n",
    "    def q(x):\n",
    "        lines = x.split('\\n')\n",
    "        if len(lines) > n:\n",
    "            return lines[n]\n",
    "        else:\n",
    "            return ''\n",
    "    return q\n",
    "types = df.apply(lambda r: get_line(0)(r['info_state']) if not r['terminal'] else get_line(r['player'])(r['info_state']), axis=1)\n",
    "df['value'] = types.str.extract(r'v(.+)b.*').astype(np.float)\n",
    "df['budget'] = types.str.extract(r'.*b(.+)$').astype(np.float)\n",
    "\n"
   ]
  },
  {
   "cell_type": "code",
   "execution_count": 101,
   "metadata": {},
   "outputs": [
    {
     "name": "stdout",
     "output_type": "stream",
     "text": [
      "Expected utility is 16.03 and expected allocation is 0.48 for player 1 type low\n",
      "Expected utility is 157.04 and expected allocation is 0.99 for player 1 type high\n",
      "Expected utility is 147.13 and expected allocation is 1.52 for player 0\n"
     ]
    }
   ],
   "source": [
    "\n",
    "def eu(df, player):\n",
    "    return df['prob'] @ df[f'Utility {player}']\n",
    "\n",
    "def ea(df, player):\n",
    "    return df['prob'] @ df[f'Allocation {player}']\n",
    "\n",
    "# TODO: You could autogen this by iterating over types\n",
    "\n",
    "expected_utility = eu(df.query('terminal and player == 1 and budget == 400'), 1)\n",
    "expected_allocation = ea(df.query('terminal and player == 1 and budget == 400'), 1)\n",
    "print(f'Expected utility is {expected_utility:.2f} and expected allocation is {expected_allocation:.2f} for player 1 type low')\n",
    "expected_utility = eu(df.query('terminal and player == 1 and budget == 650'), 1)\n",
    "expected_allocation = ea(df.query('terminal and player == 1 and budget == 650'), 1)\n",
    "print(f'Expected utility is {expected_utility:.2f} and expected allocation is {expected_allocation:.2f} for player 1 type high')\n",
    "expected_utility = eu(df.query('terminal and player == 0'), 0)\n",
    "expected_allocation = ea(df.query('terminal and player == 0'), 0)\n",
    "print(f'Expected utility is {expected_utility:.2f} and expected allocation is {expected_allocation:.2f} for player 0')\n",
    "\n"
   ]
  },
  {
   "cell_type": "code",
   "execution_count": 102,
   "metadata": {},
   "outputs": [
    {
     "data": {
      "image/png": "[encoded data removed]",
      "text/plain": [
       "<Figure size 432x288 with 1 Axes>"
      ]
     },
     "metadata": {},
     "output_type": "display_data"
    }
   ],
   "source": [
    "\n",
    "    \n",
    "round_probs(df)\n",
    "\n"
   ]
  },
  {
   "cell_type": "code",
   "execution_count": 25,
   "metadata": {},
   "outputs": [
    {
     "data": {
      "text/html": [
       "<div>\n",
       "<style scoped>\n",
       "    .dataframe tbody tr th:only-of-type {\n",
       "        vertical-align: middle;\n",
       "    }\n",
       "\n",
       "    .dataframe tbody tr th {\n",
       "        vertical-align: top;\n",
       "    }\n",
       "\n",
       "    .dataframe thead th {\n",
       "        text-align: right;\n",
       "    }\n",
       "</style>\n",
       "<table border=\"1\" class=\"dataframe\">\n",
       "  <thead>\n",
       "    <tr style=\"text-align: right;\">\n",
       "      <th></th>\n",
       "      <th>info_state</th>\n",
       "      <th>Allocation 0</th>\n",
       "      <th>Allocation 1</th>\n",
       "      <th>Bid 0</th>\n",
       "      <th>Bid 1</th>\n",
       "      <th>Bid 2</th>\n",
       "      <th>Bid 3</th>\n",
       "      <th>Utility 0</th>\n",
       "      <th>Utility 1</th>\n",
       "      <th>player</th>\n",
       "      <th>price</th>\n",
       "      <th>prob</th>\n",
       "      <th>round</th>\n",
       "      <th>terminal</th>\n",
       "      <th>value</th>\n",
       "      <th>budget</th>\n",
       "    </tr>\n",
       "  </thead>\n",
       "  <tbody>\n",
       "    <tr>\n",
       "      <th>2</th>\n",
       "      <td>p0v275b475\\np1v150b400\\nFinal bids: 0 0\\nPrice...</td>\n",
       "      <td>0.0</td>\n",
       "      <td>0.0</td>\n",
       "      <td>NaN</td>\n",
       "      <td>NaN</td>\n",
       "      <td>NaN</td>\n",
       "      <td>NaN</td>\n",
       "      <td>0.000</td>\n",
       "      <td>0.0</td>\n",
       "      <td>0</td>\n",
       "      <td>100.000</td>\n",
       "      <td>3.125000e-10</td>\n",
       "      <td>1</td>\n",
       "      <td>True</td>\n",
       "      <td>275.0</td>\n",
       "      <td>475.0</td>\n",
       "    </tr>\n",
       "    <tr>\n",
       "      <th>4</th>\n",
       "      <td>p0v275b475\\np1v150b400\\nFinal bids: 0 1\\nPrice...</td>\n",
       "      <td>0.0</td>\n",
       "      <td>1.0</td>\n",
       "      <td>NaN</td>\n",
       "      <td>NaN</td>\n",
       "      <td>NaN</td>\n",
       "      <td>NaN</td>\n",
       "      <td>0.000</td>\n",
       "      <td>50.0</td>\n",
       "      <td>0</td>\n",
       "      <td>100.000</td>\n",
       "      <td>3.283315e-06</td>\n",
       "      <td>1</td>\n",
       "      <td>True</td>\n",
       "      <td>275.0</td>\n",
       "      <td>475.0</td>\n",
       "    </tr>\n",
       "    <tr>\n",
       "      <th>6</th>\n",
       "      <td>p0v275b475\\np1v150b400\\nFinal bids: 0 2\\nPrice...</td>\n",
       "      <td>0.0</td>\n",
       "      <td>2.0</td>\n",
       "      <td>NaN</td>\n",
       "      <td>NaN</td>\n",
       "      <td>NaN</td>\n",
       "      <td>NaN</td>\n",
       "      <td>0.000</td>\n",
       "      <td>100.0</td>\n",
       "      <td>0</td>\n",
       "      <td>100.000</td>\n",
       "      <td>4.966302e-06</td>\n",
       "      <td>1</td>\n",
       "      <td>True</td>\n",
       "      <td>275.0</td>\n",
       "      <td>475.0</td>\n",
       "    </tr>\n",
       "    <tr>\n",
       "      <th>8</th>\n",
       "      <td>p0v275b475\\np1v150b400\\nFinal bids: 0 3\\nPrice...</td>\n",
       "      <td>0.0</td>\n",
       "      <td>3.0</td>\n",
       "      <td>NaN</td>\n",
       "      <td>NaN</td>\n",
       "      <td>NaN</td>\n",
       "      <td>NaN</td>\n",
       "      <td>0.000</td>\n",
       "      <td>150.0</td>\n",
       "      <td>0</td>\n",
       "      <td>100.000</td>\n",
       "      <td>4.250070e-06</td>\n",
       "      <td>1</td>\n",
       "      <td>True</td>\n",
       "      <td>275.0</td>\n",
       "      <td>475.0</td>\n",
       "    </tr>\n",
       "    <tr>\n",
       "      <th>10</th>\n",
       "      <td>p0v275b475\\np1v150b400\\nFinal bids: 1 0\\nPrice...</td>\n",
       "      <td>1.0</td>\n",
       "      <td>0.0</td>\n",
       "      <td>NaN</td>\n",
       "      <td>NaN</td>\n",
       "      <td>NaN</td>\n",
       "      <td>NaN</td>\n",
       "      <td>175.000</td>\n",
       "      <td>0.0</td>\n",
       "      <td>0</td>\n",
       "      <td>100.000</td>\n",
       "      <td>3.125000e-10</td>\n",
       "      <td>1</td>\n",
       "      <td>True</td>\n",
       "      <td>275.0</td>\n",
       "      <td>475.0</td>\n",
       "    </tr>\n",
       "    <tr>\n",
       "      <th>...</th>\n",
       "      <td>...</td>\n",
       "      <td>...</td>\n",
       "      <td>...</td>\n",
       "      <td>...</td>\n",
       "      <td>...</td>\n",
       "      <td>...</td>\n",
       "      <td>...</td>\n",
       "      <td>...</td>\n",
       "      <td>...</td>\n",
       "      <td>...</td>\n",
       "      <td>...</td>\n",
       "      <td>...</td>\n",
       "      <td>...</td>\n",
       "      <td>...</td>\n",
       "      <td>...</td>\n",
       "      <td>...</td>\n",
       "    </tr>\n",
       "    <tr>\n",
       "      <th>784</th>\n",
       "      <td>p0v275b475\\np1v300b650\\nFinal bids: 3 0\\nPrice...</td>\n",
       "      <td>3.0</td>\n",
       "      <td>0.0</td>\n",
       "      <td>NaN</td>\n",
       "      <td>NaN</td>\n",
       "      <td>NaN</td>\n",
       "      <td>NaN</td>\n",
       "      <td>495.000</td>\n",
       "      <td>0.0</td>\n",
       "      <td>0</td>\n",
       "      <td>110.000</td>\n",
       "      <td>3.404867e-06</td>\n",
       "      <td>2</td>\n",
       "      <td>True</td>\n",
       "      <td>275.0</td>\n",
       "      <td>475.0</td>\n",
       "    </tr>\n",
       "    <tr>\n",
       "      <th>787</th>\n",
       "      <td>p0v275b475\\np1v300b650\\nFinal bids: 3 0\\nPrice...</td>\n",
       "      <td>3.0</td>\n",
       "      <td>0.0</td>\n",
       "      <td>NaN</td>\n",
       "      <td>NaN</td>\n",
       "      <td>NaN</td>\n",
       "      <td>NaN</td>\n",
       "      <td>462.000</td>\n",
       "      <td>0.0</td>\n",
       "      <td>0</td>\n",
       "      <td>121.000</td>\n",
       "      <td>2.150103e-06</td>\n",
       "      <td>3</td>\n",
       "      <td>True</td>\n",
       "      <td>275.0</td>\n",
       "      <td>475.0</td>\n",
       "    </tr>\n",
       "    <tr>\n",
       "      <th>790</th>\n",
       "      <td>p0v275b475\\np1v300b650\\nFinal bids: 3 0\\nPrice...</td>\n",
       "      <td>3.0</td>\n",
       "      <td>0.0</td>\n",
       "      <td>NaN</td>\n",
       "      <td>NaN</td>\n",
       "      <td>NaN</td>\n",
       "      <td>NaN</td>\n",
       "      <td>425.700</td>\n",
       "      <td>0.0</td>\n",
       "      <td>0</td>\n",
       "      <td>133.100</td>\n",
       "      <td>1.049487e-06</td>\n",
       "      <td>4</td>\n",
       "      <td>True</td>\n",
       "      <td>275.0</td>\n",
       "      <td>475.0</td>\n",
       "    </tr>\n",
       "    <tr>\n",
       "      <th>793</th>\n",
       "      <td>p0v275b475\\np1v300b650\\nFinal bids: 3 0\\nPrice...</td>\n",
       "      <td>3.0</td>\n",
       "      <td>0.0</td>\n",
       "      <td>NaN</td>\n",
       "      <td>NaN</td>\n",
       "      <td>NaN</td>\n",
       "      <td>NaN</td>\n",
       "      <td>385.770</td>\n",
       "      <td>0.0</td>\n",
       "      <td>0</td>\n",
       "      <td>146.410</td>\n",
       "      <td>5.252571e-07</td>\n",
       "      <td>5</td>\n",
       "      <td>True</td>\n",
       "      <td>275.0</td>\n",
       "      <td>475.0</td>\n",
       "    </tr>\n",
       "    <tr>\n",
       "      <th>796</th>\n",
       "      <td>p0v275b475\\np1v300b650\\nFinal bids: 3 0\\nPrice...</td>\n",
       "      <td>3.0</td>\n",
       "      <td>0.0</td>\n",
       "      <td>NaN</td>\n",
       "      <td>NaN</td>\n",
       "      <td>NaN</td>\n",
       "      <td>NaN</td>\n",
       "      <td>341.847</td>\n",
       "      <td>0.0</td>\n",
       "      <td>0</td>\n",
       "      <td>161.051</td>\n",
       "      <td>1.185738e-07</td>\n",
       "      <td>6</td>\n",
       "      <td>True</td>\n",
       "      <td>275.0</td>\n",
       "      <td>475.0</td>\n",
       "    </tr>\n",
       "  </tbody>\n",
       "</table>\n",
       "<p>79 rows × 16 columns</p>\n",
       "</div>"
      ],
      "text/plain": [
       "                                            info_state  Allocation 0  \\\n",
       "2    p0v275b475\\np1v150b400\\nFinal bids: 0 0\\nPrice...           0.0   \n",
       "4    p0v275b475\\np1v150b400\\nFinal bids: 0 1\\nPrice...           0.0   \n",
       "6    p0v275b475\\np1v150b400\\nFinal bids: 0 2\\nPrice...           0.0   \n",
       "8    p0v275b475\\np1v150b400\\nFinal bids: 0 3\\nPrice...           0.0   \n",
       "10   p0v275b475\\np1v150b400\\nFinal bids: 1 0\\nPrice...           1.0   \n",
       "..                                                 ...           ...   \n",
       "784  p0v275b475\\np1v300b650\\nFinal bids: 3 0\\nPrice...           3.0   \n",
       "787  p0v275b475\\np1v300b650\\nFinal bids: 3 0\\nPrice...           3.0   \n",
       "790  p0v275b475\\np1v300b650\\nFinal bids: 3 0\\nPrice...           3.0   \n",
       "793  p0v275b475\\np1v300b650\\nFinal bids: 3 0\\nPrice...           3.0   \n",
       "796  p0v275b475\\np1v300b650\\nFinal bids: 3 0\\nPrice...           3.0   \n",
       "\n",
       "     Allocation 1  Bid 0  Bid 1  Bid 2  Bid 3  Utility 0  Utility 1  player  \\\n",
       "2             0.0    NaN    NaN    NaN    NaN      0.000        0.0       0   \n",
       "4             1.0    NaN    NaN    NaN    NaN      0.000       50.0       0   \n",
       "6             2.0    NaN    NaN    NaN    NaN      0.000      100.0       0   \n",
       "8             3.0    NaN    NaN    NaN    NaN      0.000      150.0       0   \n",
       "10            0.0    NaN    NaN    NaN    NaN    175.000        0.0       0   \n",
       "..            ...    ...    ...    ...    ...        ...        ...     ...   \n",
       "784           0.0    NaN    NaN    NaN    NaN    495.000        0.0       0   \n",
       "787           0.0    NaN    NaN    NaN    NaN    462.000        0.0       0   \n",
       "790           0.0    NaN    NaN    NaN    NaN    425.700        0.0       0   \n",
       "793           0.0    NaN    NaN    NaN    NaN    385.770        0.0       0   \n",
       "796           0.0    NaN    NaN    NaN    NaN    341.847        0.0       0   \n",
       "\n",
       "       price          prob  round  terminal  value  budget  \n",
       "2    100.000  3.125000e-10      1      True  275.0   475.0  \n",
       "4    100.000  3.283315e-06      1      True  275.0   475.0  \n",
       "6    100.000  4.966302e-06      1      True  275.0   475.0  \n",
       "8    100.000  4.250070e-06      1      True  275.0   475.0  \n",
       "10   100.000  3.125000e-10      1      True  275.0   475.0  \n",
       "..       ...           ...    ...       ...    ...     ...  \n",
       "784  110.000  3.404867e-06      2      True  275.0   475.0  \n",
       "787  121.000  2.150103e-06      3      True  275.0   475.0  \n",
       "790  133.100  1.049487e-06      4      True  275.0   475.0  \n",
       "793  146.410  5.252571e-07      5      True  275.0   475.0  \n",
       "796  161.051  1.185738e-07      6      True  275.0   475.0  \n",
       "\n",
       "[79 rows x 16 columns]"
      ]
     },
     "execution_count": 25,
     "metadata": {},
     "output_type": "execute_result"
    }
   ],
   "source": [
    "df.query('terminal and player == 0')"
   ]
  },
  {
   "cell_type": "code",
   "execution_count": null,
   "metadata": {},
   "outputs": [],
   "source": [
    "d = './cc/cfr2/2/mccfr_ext_3/'\n",
    "nc_df = pd.read_csv(f'{d}/nash_conv.csv')\n",
    "\n",
    "def plot_nash_conv(nash_convs):\n",
    "    plt.figure(figsize=(9,6))\n",
    "    y = nash_convs\n",
    "    x = range(len(nash_convs))\n",
    "    plt.scatter(x,y, label='Nash Conv')\n",
    "    plt.semilogy()\n",
    "    plt.ylabel(\"Nash Conv\")\n",
    "    plt.xlabel(\"Iteration\")\n",
    "    \n",
    "plot_nash_conv(nc_df['nash_conv'])\n",
    "print(nc_df['nash_conv'].tail(1))"
   ]
  },
  {
   "cell_type": "code",
   "execution_count": 10,
   "metadata": {},
   "outputs": [
    {
     "name": "stdout",
     "output_type": "stream",
     "text": [
      "False\n",
      "False\n",
      "False\n",
      "False\n",
      "False\n",
      "False\n",
      "False\n",
      "False\n",
      "False\n",
      "False\n",
      "False\n",
      "False\n",
      "False\n",
      "False\n",
      "False\n",
      "False\n",
      "False\n",
      "False\n"
     ]
    }
   ],
   "source": [
    "root = './cc/cfrMarch3/multi/'\n",
    "folders = glob.glob(f'{root}/1/mccfr*')\n",
    "for folder in folders:\n",
    "    finished = os.path.exists(f'{folder}/strategy.csv')\n",
    "    print(finished)"
   ]
  },
  {
   "cell_type": "code",
   "execution_count": null,
   "metadata": {},
   "outputs": [],
   "source": []
  }
 ],
 "metadata": {
  "kernelspec": {
   "display_name": "Python 3",
   "language": "python",
   "name": "python3"
  },
  "language_info": {
   "codemirror_mode": {
    "name": "ipython",
    "version": 3
   },
   "file_extension": ".py",
   "mimetype": "text/x-python",
   "name": "python",
   "nbconvert_exporter": "python",
   "pygments_lexer": "ipython3",
   "version": "3.7.3"
  }
 },
 "nbformat": 4,
 "nbformat_minor": 4
}
