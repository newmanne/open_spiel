{
 "cells": [
  {
   "cell_type": "code",
   "execution_count": 15,
   "id": "a2bd4dac-8c58-457e-bc84-72027b378ae4",
   "metadata": {},
   "outputs": [],
   "source": [
    "import torch\n",
    "from tqdm import tqdm"
   ]
  },
  {
   "cell_type": "code",
   "execution_count": 16,
   "id": "08d6f9bb-3d20-4b17-b355-5edc5181a998",
   "metadata": {},
   "outputs": [],
   "source": [
    "products = 3\n",
    "rounds = 50\n",
    "embedding_size = 4 + 5*products*rounds\n",
    "num_actions = 3*2*3\n",
    "mlp = torch.nn.Sequential(\n",
    "    torch.nn.Linear(embedding_size, 128), \n",
    "    torch.nn.Linear(128, 128),\n",
    "    torch.nn.Linear(128, num_actions)\n",
    ")"
   ]
  },
  {
   "cell_type": "code",
   "execution_count": 19,
   "id": "e974b8b9-75fe-4012-9526-632c9d5b1af2",
   "metadata": {},
   "outputs": [
    {
     "name": "stderr",
     "output_type": "stream",
     "text": [
      "100%|██████████| 10000/10000 [00:00<00:00, 11803.12it/s]\n"
     ]
    }
   ],
   "source": [
    "with torch.no_grad():\n",
    "    for _ in tqdm(range(10000)):\n",
    "        input_vec = torch.rand(embedding_size)\n",
    "        output_vec = mlp(input_vec)"
   ]
  },
  {
   "cell_type": "code",
   "execution_count": null,
   "id": "b955852d-6b45-4042-8446-2c220bd419ea",
   "metadata": {},
   "outputs": [],
   "source": []
  }
 ],
 "metadata": {
  "kernelspec": {
   "display_name": "Python 3",
   "language": "python",
   "name": "python3"
  },
  "language_info": {
   "codemirror_mode": {
    "name": "ipython",
    "version": 3
   },
   "file_extension": ".py",
   "mimetype": "text/x-python",
   "name": "python",
   "nbconvert_exporter": "python",
   "pygments_lexer": "ipython3",
   "version": "3.6.9"
  }
 },
 "nbformat": 4,
 "nbformat_minor": 5
}
