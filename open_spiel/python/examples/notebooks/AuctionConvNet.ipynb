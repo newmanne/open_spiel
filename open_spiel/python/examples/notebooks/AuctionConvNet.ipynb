{
 "cells": [
  {
   "cell_type": "code",
   "execution_count": 10,
   "id": "382b4d10-f33f-4e86-b5e9-32c9db4da8cd",
   "metadata": {},
   "outputs": [
    {
     "name": "stdout",
     "output_type": "stream",
     "text": [
      "The autoreload extension is already loaded. To reload it, use:\n",
      "  %reload_ext autoreload\n"
     ]
    },
    {
     "data": {
      "text/html": [
       "\n",
       "    <div class=\"bk-root\">\n",
       "        <a href=\"https://bokeh.org\" target=\"_blank\" class=\"bk-logo bk-logo-small bk-logo-notebook\"></a>\n",
       "        <span id=\"1004\">Loading BokehJS ...</span>\n",
       "    </div>"
      ]
     },
     "metadata": {},
     "output_type": "display_data"
    },
    {
     "data": {
      "application/javascript": "\n(function(root) {\n  function now() {\n    return new Date();\n  }\n\n  const force = true;\n\n  if (typeof root._bokeh_onload_callbacks === \"undefined\" || force === true) {\n    root._bokeh_onload_callbacks = [];\n    root._bokeh_is_loading = undefined;\n  }\n\n  const JS_MIME_TYPE = 'application/javascript';\n  const HTML_MIME_TYPE = 'text/html';\n  const EXEC_MIME_TYPE = 'application/vnd.bokehjs_exec.v0+json';\n  const CLASS_NAME = 'output_bokeh rendered_html';\n\n  /**\n   * Render data to the DOM node\n   */\n  function render(props, node) {\n    const script = document.createElement(\"script\");\n    node.appendChild(script);\n  }\n\n  /**\n   * Handle when an output is cleared or removed\n   */\n  function handleClearOutput(event, handle) {\n    const cell = handle.cell;\n\n    const id = cell.output_area._bokeh_element_id;\n    const server_id = cell.output_area._bokeh_server_id;\n    // Clean up Bokeh references\n    if (id != null && id in Bokeh.index) {\n      Bokeh.index[id].model.document.clear();\n      delete Bokeh.index[id];\n    }\n\n    if (server_id !== undefined) {\n      // Clean up Bokeh references\n      const cmd_clean = \"from bokeh.io.state import curstate; print(curstate().uuid_to_server['\" + server_id + \"'].get_sessions()[0].document.roots[0]._id)\";\n      cell.notebook.kernel.execute(cmd_clean, {\n        iopub: {\n          output: function(msg) {\n            const id = msg.content.text.trim();\n            if (id in Bokeh.index) {\n              Bokeh.index[id].model.document.clear();\n              delete Bokeh.index[id];\n            }\n          }\n        }\n      });\n      // Destroy server and session\n      const cmd_destroy = \"import bokeh.io.notebook as ion; ion.destroy_server('\" + server_id + \"')\";\n      cell.notebook.kernel.execute(cmd_destroy);\n    }\n  }\n\n  /**\n   * Handle when a new output is added\n   */\n  function handleAddOutput(event, handle) {\n    const output_area = handle.output_area;\n    const output = handle.output;\n\n    // limit handleAddOutput to display_data with EXEC_MIME_TYPE content only\n    if ((output.output_type != \"display_data\") || (!Object.prototype.hasOwnProperty.call(output.data, EXEC_MIME_TYPE))) {\n      return\n    }\n\n    const toinsert = output_area.element.find(\".\" + CLASS_NAME.split(' ')[0]);\n\n    if (output.metadata[EXEC_MIME_TYPE][\"id\"] !== undefined) {\n      toinsert[toinsert.length - 1].firstChild.textContent = output.data[JS_MIME_TYPE];\n      // store reference to embed id on output_area\n      output_area._bokeh_element_id = output.metadata[EXEC_MIME_TYPE][\"id\"];\n    }\n    if (output.metadata[EXEC_MIME_TYPE][\"server_id\"] !== undefined) {\n      const bk_div = document.createElement(\"div\");\n      bk_div.innerHTML = output.data[HTML_MIME_TYPE];\n      const script_attrs = bk_div.children[0].attributes;\n      for (let i = 0; i < script_attrs.length; i++) {\n        toinsert[toinsert.length - 1].firstChild.setAttribute(script_attrs[i].name, script_attrs[i].value);\n        toinsert[toinsert.length - 1].firstChild.textContent = bk_div.children[0].textContent\n      }\n      // store reference to server id on output_area\n      output_area._bokeh_server_id = output.metadata[EXEC_MIME_TYPE][\"server_id\"];\n    }\n  }\n\n  function register_renderer(events, OutputArea) {\n\n    function append_mime(data, metadata, element) {\n      // create a DOM node to render to\n      const toinsert = this.create_output_subarea(\n        metadata,\n        CLASS_NAME,\n        EXEC_MIME_TYPE\n      );\n      this.keyboard_manager.register_events(toinsert);\n      // Render to node\n      const props = {data: data, metadata: metadata[EXEC_MIME_TYPE]};\n      render(props, toinsert[toinsert.length - 1]);\n      element.append(toinsert);\n      return toinsert\n    }\n\n    /* Handle when an output is cleared or removed */\n    events.on('clear_output.CodeCell', handleClearOutput);\n    events.on('delete.Cell', handleClearOutput);\n\n    /* Handle when a new output is added */\n    events.on('output_added.OutputArea', handleAddOutput);\n\n    /**\n     * Register the mime type and append_mime function with output_area\n     */\n    OutputArea.prototype.register_mime_type(EXEC_MIME_TYPE, append_mime, {\n      /* Is output safe? */\n      safe: true,\n      /* Index of renderer in `output_area.display_order` */\n      index: 0\n    });\n  }\n\n  // register the mime type if in Jupyter Notebook environment and previously unregistered\n  if (root.Jupyter !== undefined) {\n    const events = require('base/js/events');\n    const OutputArea = require('notebook/js/outputarea').OutputArea;\n\n    if (OutputArea.prototype.mime_types().indexOf(EXEC_MIME_TYPE) == -1) {\n      register_renderer(events, OutputArea);\n    }\n  }\n\n  \n  if (typeof (root._bokeh_timeout) === \"undefined\" || force === true) {\n    root._bokeh_timeout = Date.now() + 5000;\n    root._bokeh_failed_load = false;\n  }\n\n  const NB_LOAD_WARNING = {'data': {'text/html':\n     \"<div style='background-color: #fdd'>\\n\"+\n     \"<p>\\n\"+\n     \"BokehJS does not appear to have successfully loaded. If loading BokehJS from CDN, this \\n\"+\n     \"may be due to a slow or bad network connection. Possible fixes:\\n\"+\n     \"</p>\\n\"+\n     \"<ul>\\n\"+\n     \"<li>re-rerun `output_notebook()` to attempt to load from CDN again, or</li>\\n\"+\n     \"<li>use INLINE resources instead, as so:</li>\\n\"+\n     \"</ul>\\n\"+\n     \"<code>\\n\"+\n     \"from bokeh.resources import INLINE\\n\"+\n     \"output_notebook(resources=INLINE)\\n\"+\n     \"</code>\\n\"+\n     \"</div>\"}};\n\n  function display_loaded() {\n    const el = document.getElementById(\"1004\");\n    if (el != null) {\n      el.textContent = \"BokehJS is loading...\";\n    }\n    if (root.Bokeh !== undefined) {\n      if (el != null) {\n        el.textContent = \"BokehJS \" + root.Bokeh.version + \" successfully loaded.\";\n      }\n    } else if (Date.now() < root._bokeh_timeout) {\n      setTimeout(display_loaded, 100)\n    }\n  }\n\n\n  function run_callbacks() {\n    try {\n      root._bokeh_onload_callbacks.forEach(function(callback) {\n        if (callback != null)\n          callback();\n      });\n    } finally {\n      delete root._bokeh_onload_callbacks\n    }\n    console.debug(\"Bokeh: all callbacks have finished\");\n  }\n\n  function load_libs(css_urls, js_urls, callback) {\n    if (css_urls == null) css_urls = [];\n    if (js_urls == null) js_urls = [];\n\n    root._bokeh_onload_callbacks.push(callback);\n    if (root._bokeh_is_loading > 0) {\n      console.debug(\"Bokeh: BokehJS is being loaded, scheduling callback at\", now());\n      return null;\n    }\n    if (js_urls == null || js_urls.length === 0) {\n      run_callbacks();\n      return null;\n    }\n    console.debug(\"Bokeh: BokehJS not loaded, scheduling load and callback at\", now());\n    root._bokeh_is_loading = css_urls.length + js_urls.length;\n\n    function on_load() {\n      root._bokeh_is_loading--;\n      if (root._bokeh_is_loading === 0) {\n        console.debug(\"Bokeh: all BokehJS libraries/stylesheets loaded\");\n        run_callbacks()\n      }\n    }\n\n    function on_error(url) {\n      console.error(\"failed to load \" + url);\n    }\n\n    for (let i = 0; i < css_urls.length; i++) {\n      const url = css_urls[i];\n      const element = document.createElement(\"link\");\n      element.onload = on_load;\n      element.onerror = on_error.bind(null, url);\n      element.rel = \"stylesheet\";\n      element.type = \"text/css\";\n      element.href = url;\n      console.debug(\"Bokeh: injecting link tag for BokehJS stylesheet: \", url);\n      document.body.appendChild(element);\n    }\n\n    for (let i = 0; i < js_urls.length; i++) {\n      const url = js_urls[i];\n      const element = document.createElement('script');\n      element.onload = on_load;\n      element.onerror = on_error.bind(null, url);\n      element.async = false;\n      element.src = url;\n      console.debug(\"Bokeh: injecting script tag for BokehJS library: \", url);\n      document.head.appendChild(element);\n    }\n  };\n\n  function inject_raw_css(css) {\n    const element = document.createElement(\"style\");\n    element.appendChild(document.createTextNode(css));\n    document.body.appendChild(element);\n  }\n\n  \n  const js_urls = [\"https://cdn.bokeh.org/bokeh/release/bokeh-2.4.2.min.js\", \"https://cdn.bokeh.org/bokeh/release/bokeh-gl-2.4.2.min.js\", \"https://cdn.bokeh.org/bokeh/release/bokeh-widgets-2.4.2.min.js\", \"https://cdn.bokeh.org/bokeh/release/bokeh-tables-2.4.2.min.js\", \"https://cdn.bokeh.org/bokeh/release/bokeh-mathjax-2.4.2.min.js\"];\n  const css_urls = [];\n  \n\n  const inline_js = [\n    function(Bokeh) {\n      Bokeh.set_log_level(\"info\");\n    },\n    function(Bokeh) {\n    \n    \n    }\n  ];\n\n  function run_inline_js() {\n    \n    if (root.Bokeh !== undefined || force === true) {\n      \n    for (let i = 0; i < inline_js.length; i++) {\n      inline_js[i].call(root, root.Bokeh);\n    }\n    if (force === true) {\n        display_loaded();\n      }} else if (Date.now() < root._bokeh_timeout) {\n      setTimeout(run_inline_js, 100);\n    } else if (!root._bokeh_failed_load) {\n      console.log(\"Bokeh: BokehJS failed to load within specified timeout.\");\n      root._bokeh_failed_load = true;\n    } else if (force !== true) {\n      const cell = $(document.getElementById(\"1004\")).parents('.cell').data().cell;\n      cell.output_area.append_execute_result(NB_LOAD_WARNING)\n    }\n\n  }\n\n  if (root._bokeh_is_loading === 0) {\n    console.debug(\"Bokeh: BokehJS loaded, going straight to plotting\");\n    run_inline_js();\n  } else {\n    load_libs(css_urls, js_urls, function() {\n      console.debug(\"Bokeh: BokehJS plotting callback run at\", now());\n      run_inline_js();\n    });\n  }\n}(window));",
      "application/vnd.bokehjs_load.v0+json": ""
     },
     "metadata": {},
     "output_type": "display_data"
    }
   ],
   "source": [
    "%load_ext autoreload\n",
    "%autoreload 2\n",
    "%matplotlib inline\n",
    "\n",
    "import sys\n",
    "import glob\n",
    "import pandas as pd\n",
    "import os\n",
    "import seaborn as sns\n",
    "import numpy as np\n",
    "\n",
    "from tqdm import tqdm\n",
    "from statsmodels.distributions.empirical_distribution import ECDF\n",
    "from collections import defaultdict\n",
    "import pickle\n",
    "import re\n",
    "import json\n",
    "from pathlib import Path\n",
    "\n",
    "\n",
    "from open_spiel.python.algorithms.exploitability import nash_conv, best_response\n",
    "from open_spiel.python.examples.ubc_plotting_utils import *\n",
    "from open_spiel.python.examples.ubc_sample_game_tree import sample_game_tree, flatten_trees, flatten_tree\n",
    "from open_spiel.python.examples.ubc_cma import analyze_checkpoint\n",
    "from open_spiel.python.pytorch.auction_convnet import AuctionConvNet, AuctionNet\n",
    "\n",
    "\n",
    "from auctions.webutils import *\n",
    "\n",
    "import bokeh\n",
    "from bokeh.layouts import row, column\n",
    "from bokeh.plotting import figure, show, output_file, save\n",
    "from bokeh.io import output_notebook\n",
    "from bokeh.models import HoverTool, ColumnDataSource, ColorBar, LogColorMapper, LinearColorMapper\n",
    "from bokeh.transform import linear_cmap, log_cmap\n",
    "from bokeh.palettes import Magma256\n",
    "os.environ[\"DJANGO_ALLOW_ASYNC_UNSAFE\"] = \"true\"\n",
    "\n",
    "output_notebook()\n"
   ]
  },
  {
   "cell_type": "code",
   "execution_count": 27,
   "id": "84ebf0e7-4851-432c-a2f9-4f867777a99a",
   "metadata": {},
   "outputs": [],
   "source": [
    "observation_shape = (10, 3, 3, 3)\n",
    "num_observations = 20\n",
    "data = torch.rand(num_observations, *one_product_shape)\n",
    "\n",
    "network = AuctionConvNet(observation_shape, [50, 50], add_skip_connections=False)"
   ]
  },
  {
   "cell_type": "code",
   "execution_count": 78,
   "id": "2bc7748f",
   "metadata": {
    "tags": []
   },
   "outputs": [],
   "source": [
    "\n",
    "one_product_shape = (1, 1, 3)\n",
    "data = torch.rand(20, *one_product_shape)\n",
    "# print(data)\n",
    "# print(data.shape)\n",
    "expanded_data = data.expand(20, *observation_shape[1:])"
   ]
  },
  {
   "cell_type": "code",
   "execution_count": 76,
   "id": "f246ab6c",
   "metadata": {
    "vscode": {
     "languageId": "latex"
    }
   },
   "outputs": [
    {
     "ename": "SyntaxError",
     "evalue": "invalid syntax (787750645.py, line 1)",
     "output_type": "error",
     "traceback": [
      "\u001b[0;36m  Input \u001b[0;32mIn [76]\u001b[0;36m\u001b[0m\n\u001b[0;31m    $x + y$\u001b[0m\n\u001b[0m    ^\u001b[0m\n\u001b[0;31mSyntaxError\u001b[0m\u001b[0;31m:\u001b[0m invalid syntax\n"
     ]
    }
   ],
   "source": [
    "$x + y$"
   ]
  },
  {
   "cell_type": "code",
   "execution_count": 72,
   "id": "5c817ab8",
   "metadata": {
    "tags": [],
    "vscode": {
     "languageId": "latex"
    }
   },
   "outputs": [
    {
     "data": {
      "text/plain": [
       "tensor([[0.9681, 0.1617, 0.0027],\n",
       "        [0.0947, 0.6865, 0.0041],\n",
       "        [0.1417, 0.8920, 0.0695],\n",
       "        [0.3857, 0.0498, 0.2806],\n",
       "        [0.5163, 0.1771, 0.7698],\n",
       "        [0.1702, 0.2417, 0.7978],\n",
       "        [0.3985, 0.9789, 0.3466],\n",
       "        [0.8185, 0.9099, 0.7953],\n",
       "        [0.1717, 0.5009, 0.0099],\n",
       "        [0.5378, 0.6939, 0.4088],\n",
       "        [0.9984, 0.7538, 0.0876],\n",
       "        [0.7842, 0.9031, 0.8082],\n",
       "        [0.2602, 0.5015, 0.0723],\n",
       "        [0.8761, 0.8960, 0.1690],\n",
       "        [0.6893, 0.0970, 0.2920],\n",
       "        [0.5937, 0.2112, 0.5687],\n",
       "        [0.9115, 0.8723, 0.1825],\n",
       "        [0.1751, 0.8222, 0.9085],\n",
       "        [0.3843, 0.4109, 0.0699],\n",
       "        [0.1573, 0.0157, 0.7008]])"
      ]
     },
     "execution_count": 72,
     "metadata": {},
     "output_type": "execute_result"
    }
   ],
   "source": [
    "data.squeeze()"
   ]
  },
  {
   "cell_type": "code",
   "execution_count": 73,
   "id": "17eab59e",
   "metadata": {},
   "outputs": [
    {
     "data": {
      "text/plain": [
       "tensor([[[[0.9681, 0.1617, 0.0027],\n",
       "          [0.9681, 0.1617, 0.0027],\n",
       "          [0.9681, 0.1617, 0.0027]],\n",
       "\n",
       "         [[0.9681, 0.1617, 0.0027],\n",
       "          [0.9681, 0.1617, 0.0027],\n",
       "          [0.9681, 0.1617, 0.0027]],\n",
       "\n",
       "         [[0.9681, 0.1617, 0.0027],\n",
       "          [0.9681, 0.1617, 0.0027],\n",
       "          [0.9681, 0.1617, 0.0027]]],\n",
       "\n",
       "\n",
       "        [[[0.0947, 0.6865, 0.0041],\n",
       "          [0.0947, 0.6865, 0.0041],\n",
       "          [0.0947, 0.6865, 0.0041]],\n",
       "\n",
       "         [[0.0947, 0.6865, 0.0041],\n",
       "          [0.0947, 0.6865, 0.0041],\n",
       "          [0.0947, 0.6865, 0.0041]],\n",
       "\n",
       "         [[0.0947, 0.6865, 0.0041],\n",
       "          [0.0947, 0.6865, 0.0041],\n",
       "          [0.0947, 0.6865, 0.0041]]],\n",
       "\n",
       "\n",
       "        [[[0.1417, 0.8920, 0.0695],\n",
       "          [0.1417, 0.8920, 0.0695],\n",
       "          [0.1417, 0.8920, 0.0695]],\n",
       "\n",
       "         [[0.1417, 0.8920, 0.0695],\n",
       "          [0.1417, 0.8920, 0.0695],\n",
       "          [0.1417, 0.8920, 0.0695]],\n",
       "\n",
       "         [[0.1417, 0.8920, 0.0695],\n",
       "          [0.1417, 0.8920, 0.0695],\n",
       "          [0.1417, 0.8920, 0.0695]]],\n",
       "\n",
       "\n",
       "        [[[0.3857, 0.0498, 0.2806],\n",
       "          [0.3857, 0.0498, 0.2806],\n",
       "          [0.3857, 0.0498, 0.2806]],\n",
       "\n",
       "         [[0.3857, 0.0498, 0.2806],\n",
       "          [0.3857, 0.0498, 0.2806],\n",
       "          [0.3857, 0.0498, 0.2806]],\n",
       "\n",
       "         [[0.3857, 0.0498, 0.2806],\n",
       "          [0.3857, 0.0498, 0.2806],\n",
       "          [0.3857, 0.0498, 0.2806]]],\n",
       "\n",
       "\n",
       "        [[[0.5163, 0.1771, 0.7698],\n",
       "          [0.5163, 0.1771, 0.7698],\n",
       "          [0.5163, 0.1771, 0.7698]],\n",
       "\n",
       "         [[0.5163, 0.1771, 0.7698],\n",
       "          [0.5163, 0.1771, 0.7698],\n",
       "          [0.5163, 0.1771, 0.7698]],\n",
       "\n",
       "         [[0.5163, 0.1771, 0.7698],\n",
       "          [0.5163, 0.1771, 0.7698],\n",
       "          [0.5163, 0.1771, 0.7698]]],\n",
       "\n",
       "\n",
       "        [[[0.1702, 0.2417, 0.7978],\n",
       "          [0.1702, 0.2417, 0.7978],\n",
       "          [0.1702, 0.2417, 0.7978]],\n",
       "\n",
       "         [[0.1702, 0.2417, 0.7978],\n",
       "          [0.1702, 0.2417, 0.7978],\n",
       "          [0.1702, 0.2417, 0.7978]],\n",
       "\n",
       "         [[0.1702, 0.2417, 0.7978],\n",
       "          [0.1702, 0.2417, 0.7978],\n",
       "          [0.1702, 0.2417, 0.7978]]],\n",
       "\n",
       "\n",
       "        [[[0.3985, 0.9789, 0.3466],\n",
       "          [0.3985, 0.9789, 0.3466],\n",
       "          [0.3985, 0.9789, 0.3466]],\n",
       "\n",
       "         [[0.3985, 0.9789, 0.3466],\n",
       "          [0.3985, 0.9789, 0.3466],\n",
       "          [0.3985, 0.9789, 0.3466]],\n",
       "\n",
       "         [[0.3985, 0.9789, 0.3466],\n",
       "          [0.3985, 0.9789, 0.3466],\n",
       "          [0.3985, 0.9789, 0.3466]]],\n",
       "\n",
       "\n",
       "        [[[0.8185, 0.9099, 0.7953],\n",
       "          [0.8185, 0.9099, 0.7953],\n",
       "          [0.8185, 0.9099, 0.7953]],\n",
       "\n",
       "         [[0.8185, 0.9099, 0.7953],\n",
       "          [0.8185, 0.9099, 0.7953],\n",
       "          [0.8185, 0.9099, 0.7953]],\n",
       "\n",
       "         [[0.8185, 0.9099, 0.7953],\n",
       "          [0.8185, 0.9099, 0.7953],\n",
       "          [0.8185, 0.9099, 0.7953]]],\n",
       "\n",
       "\n",
       "        [[[0.1717, 0.5009, 0.0099],\n",
       "          [0.1717, 0.5009, 0.0099],\n",
       "          [0.1717, 0.5009, 0.0099]],\n",
       "\n",
       "         [[0.1717, 0.5009, 0.0099],\n",
       "          [0.1717, 0.5009, 0.0099],\n",
       "          [0.1717, 0.5009, 0.0099]],\n",
       "\n",
       "         [[0.1717, 0.5009, 0.0099],\n",
       "          [0.1717, 0.5009, 0.0099],\n",
       "          [0.1717, 0.5009, 0.0099]]],\n",
       "\n",
       "\n",
       "        [[[0.5378, 0.6939, 0.4088],\n",
       "          [0.5378, 0.6939, 0.4088],\n",
       "          [0.5378, 0.6939, 0.4088]],\n",
       "\n",
       "         [[0.5378, 0.6939, 0.4088],\n",
       "          [0.5378, 0.6939, 0.4088],\n",
       "          [0.5378, 0.6939, 0.4088]],\n",
       "\n",
       "         [[0.5378, 0.6939, 0.4088],\n",
       "          [0.5378, 0.6939, 0.4088],\n",
       "          [0.5378, 0.6939, 0.4088]]],\n",
       "\n",
       "\n",
       "        [[[0.9984, 0.7538, 0.0876],\n",
       "          [0.9984, 0.7538, 0.0876],\n",
       "          [0.9984, 0.7538, 0.0876]],\n",
       "\n",
       "         [[0.9984, 0.7538, 0.0876],\n",
       "          [0.9984, 0.7538, 0.0876],\n",
       "          [0.9984, 0.7538, 0.0876]],\n",
       "\n",
       "         [[0.9984, 0.7538, 0.0876],\n",
       "          [0.9984, 0.7538, 0.0876],\n",
       "          [0.9984, 0.7538, 0.0876]]],\n",
       "\n",
       "\n",
       "        [[[0.7842, 0.9031, 0.8082],\n",
       "          [0.7842, 0.9031, 0.8082],\n",
       "          [0.7842, 0.9031, 0.8082]],\n",
       "\n",
       "         [[0.7842, 0.9031, 0.8082],\n",
       "          [0.7842, 0.9031, 0.8082],\n",
       "          [0.7842, 0.9031, 0.8082]],\n",
       "\n",
       "         [[0.7842, 0.9031, 0.8082],\n",
       "          [0.7842, 0.9031, 0.8082],\n",
       "          [0.7842, 0.9031, 0.8082]]],\n",
       "\n",
       "\n",
       "        [[[0.2602, 0.5015, 0.0723],\n",
       "          [0.2602, 0.5015, 0.0723],\n",
       "          [0.2602, 0.5015, 0.0723]],\n",
       "\n",
       "         [[0.2602, 0.5015, 0.0723],\n",
       "          [0.2602, 0.5015, 0.0723],\n",
       "          [0.2602, 0.5015, 0.0723]],\n",
       "\n",
       "         [[0.2602, 0.5015, 0.0723],\n",
       "          [0.2602, 0.5015, 0.0723],\n",
       "          [0.2602, 0.5015, 0.0723]]],\n",
       "\n",
       "\n",
       "        [[[0.8761, 0.8960, 0.1690],\n",
       "          [0.8761, 0.8960, 0.1690],\n",
       "          [0.8761, 0.8960, 0.1690]],\n",
       "\n",
       "         [[0.8761, 0.8960, 0.1690],\n",
       "          [0.8761, 0.8960, 0.1690],\n",
       "          [0.8761, 0.8960, 0.1690]],\n",
       "\n",
       "         [[0.8761, 0.8960, 0.1690],\n",
       "          [0.8761, 0.8960, 0.1690],\n",
       "          [0.8761, 0.8960, 0.1690]]],\n",
       "\n",
       "\n",
       "        [[[0.6893, 0.0970, 0.2920],\n",
       "          [0.6893, 0.0970, 0.2920],\n",
       "          [0.6893, 0.0970, 0.2920]],\n",
       "\n",
       "         [[0.6893, 0.0970, 0.2920],\n",
       "          [0.6893, 0.0970, 0.2920],\n",
       "          [0.6893, 0.0970, 0.2920]],\n",
       "\n",
       "         [[0.6893, 0.0970, 0.2920],\n",
       "          [0.6893, 0.0970, 0.2920],\n",
       "          [0.6893, 0.0970, 0.2920]]],\n",
       "\n",
       "\n",
       "        [[[0.5937, 0.2112, 0.5687],\n",
       "          [0.5937, 0.2112, 0.5687],\n",
       "          [0.5937, 0.2112, 0.5687]],\n",
       "\n",
       "         [[0.5937, 0.2112, 0.5687],\n",
       "          [0.5937, 0.2112, 0.5687],\n",
       "          [0.5937, 0.2112, 0.5687]],\n",
       "\n",
       "         [[0.5937, 0.2112, 0.5687],\n",
       "          [0.5937, 0.2112, 0.5687],\n",
       "          [0.5937, 0.2112, 0.5687]]],\n",
       "\n",
       "\n",
       "        [[[0.9115, 0.8723, 0.1825],\n",
       "          [0.9115, 0.8723, 0.1825],\n",
       "          [0.9115, 0.8723, 0.1825]],\n",
       "\n",
       "         [[0.9115, 0.8723, 0.1825],\n",
       "          [0.9115, 0.8723, 0.1825],\n",
       "          [0.9115, 0.8723, 0.1825]],\n",
       "\n",
       "         [[0.9115, 0.8723, 0.1825],\n",
       "          [0.9115, 0.8723, 0.1825],\n",
       "          [0.9115, 0.8723, 0.1825]]],\n",
       "\n",
       "\n",
       "        [[[0.1751, 0.8222, 0.9085],\n",
       "          [0.1751, 0.8222, 0.9085],\n",
       "          [0.1751, 0.8222, 0.9085]],\n",
       "\n",
       "         [[0.1751, 0.8222, 0.9085],\n",
       "          [0.1751, 0.8222, 0.9085],\n",
       "          [0.1751, 0.8222, 0.9085]],\n",
       "\n",
       "         [[0.1751, 0.8222, 0.9085],\n",
       "          [0.1751, 0.8222, 0.9085],\n",
       "          [0.1751, 0.8222, 0.9085]]],\n",
       "\n",
       "\n",
       "        [[[0.3843, 0.4109, 0.0699],\n",
       "          [0.3843, 0.4109, 0.0699],\n",
       "          [0.3843, 0.4109, 0.0699]],\n",
       "\n",
       "         [[0.3843, 0.4109, 0.0699],\n",
       "          [0.3843, 0.4109, 0.0699],\n",
       "          [0.3843, 0.4109, 0.0699]],\n",
       "\n",
       "         [[0.3843, 0.4109, 0.0699],\n",
       "          [0.3843, 0.4109, 0.0699],\n",
       "          [0.3843, 0.4109, 0.0699]]],\n",
       "\n",
       "\n",
       "        [[[0.1573, 0.0157, 0.7008],\n",
       "          [0.1573, 0.0157, 0.7008],\n",
       "          [0.1573, 0.0157, 0.7008]],\n",
       "\n",
       "         [[0.1573, 0.0157, 0.7008],\n",
       "          [0.1573, 0.0157, 0.7008],\n",
       "          [0.1573, 0.0157, 0.7008]],\n",
       "\n",
       "         [[0.1573, 0.0157, 0.7008],\n",
       "          [0.1573, 0.0157, 0.7008],\n",
       "          [0.1573, 0.0157, 0.7008]]]])"
      ]
     },
     "execution_count": 73,
     "metadata": {},
     "output_type": "execute_result"
    }
   ],
   "source": [
    "expanded_data"
   ]
  },
  {
   "cell_type": "code",
   "execution_count": 28,
   "id": "0b70e3a4",
   "metadata": {},
   "outputs": [
    {
     "data": {
      "text/plain": [
       "5400"
      ]
     },
     "execution_count": 28,
     "metadata": {},
     "output_type": "execute_result"
    }
   ],
   "source": [
    "np.prod((20, *observation_shape))"
   ]
  },
  {
   "cell_type": "code",
   "execution_count": 29,
   "id": "caec4952",
   "metadata": {},
   "outputs": [
    {
     "data": {
      "text/plain": [
       "600"
      ]
     },
     "execution_count": 29,
     "metadata": {},
     "output_type": "execute_result"
    }
   ],
   "source": [
    "np.prod(data.shape)"
   ]
  },
  {
   "cell_type": "code",
   "execution_count": 32,
   "id": "5ebef525",
   "metadata": {},
   "outputs": [
    {
     "ename": "RuntimeError",
     "evalue": "shape '[20, 10, 3, 3, 3]' is invalid for input of size 600",
     "output_type": "error",
     "traceback": [
      "\u001b[0;31m---------------------------------------------------------------------------\u001b[0m",
      "\u001b[0;31mRuntimeError\u001b[0m                              Traceback (most recent call last)",
      "\u001b[1;32m/apps/open_spiel/notebooks/AuctionConvNet.ipynb Cell 5\u001b[0m in \u001b[0;36m<module>\u001b[0;34m\u001b[0m\n\u001b[0;32m----> <a href='vscode-notebook-cell://ssh-remote%2Bcfrgpu22/apps/open_spiel/notebooks/AuctionConvNet.ipynb#X12sdnNjb2RlLXJlbW90ZQ%3D%3D?line=0'>1</a>\u001b[0m data\u001b[39m.\u001b[39;49mview(num_observations, \u001b[39m*\u001b[39;49mobservation_shape)\u001b[39m.\u001b[39mshape\n",
      "\u001b[0;31mRuntimeError\u001b[0m: shape '[20, 10, 3, 3, 3]' is invalid for input of size 600"
     ]
    }
   ],
   "source": [
    "data.view(num_observations, *observation_shape).shape"
   ]
  },
  {
   "cell_type": "code",
   "execution_count": null,
   "id": "5c203bdf",
   "metadata": {},
   "outputs": [],
   "source": []
  },
  {
   "cell_type": "code",
   "execution_count": 14,
   "id": "e7312e84",
   "metadata": {},
   "outputs": [
    {
     "ename": "RuntimeError",
     "evalue": "Expected 4D (unbatched) or 5D (batched) input to conv3d, but got input of size: [20, 10, 3]",
     "output_type": "error",
     "traceback": [
      "\u001b[0;31m---------------------------------------------------------------------------\u001b[0m",
      "\u001b[0;31mRuntimeError\u001b[0m                              Traceback (most recent call last)",
      "\u001b[1;32m/apps/open_spiel/notebooks/AuctionConvNet.ipynb Cell 3\u001b[0m in \u001b[0;36m<module>\u001b[0;34m\u001b[0m\n\u001b[0;32m----> <a href='vscode-notebook-cell://ssh-remote%2Bcfrgpu22/apps/open_spiel/notebooks/AuctionConvNet.ipynb#W2sdnNjb2RlLXJlbW90ZQ%3D%3D?line=0'>1</a>\u001b[0m actor_output, critic_output \u001b[39m=\u001b[39m network(data)\n",
      "File \u001b[0;32m~/.pyenv/versions/3.8.2/envs/venv/lib/python3.8/site-packages/torch/nn/modules/module.py:1130\u001b[0m, in \u001b[0;36mModule._call_impl\u001b[0;34m(self, *input, **kwargs)\u001b[0m\n\u001b[1;32m   1126\u001b[0m \u001b[39m# If we don't have any hooks, we want to skip the rest of the logic in\u001b[39;00m\n\u001b[1;32m   1127\u001b[0m \u001b[39m# this function, and just call forward.\u001b[39;00m\n\u001b[1;32m   1128\u001b[0m \u001b[39mif\u001b[39;00m \u001b[39mnot\u001b[39;00m (\u001b[39mself\u001b[39m\u001b[39m.\u001b[39m_backward_hooks \u001b[39mor\u001b[39;00m \u001b[39mself\u001b[39m\u001b[39m.\u001b[39m_forward_hooks \u001b[39mor\u001b[39;00m \u001b[39mself\u001b[39m\u001b[39m.\u001b[39m_forward_pre_hooks \u001b[39mor\u001b[39;00m _global_backward_hooks\n\u001b[1;32m   1129\u001b[0m         \u001b[39mor\u001b[39;00m _global_forward_hooks \u001b[39mor\u001b[39;00m _global_forward_pre_hooks):\n\u001b[0;32m-> 1130\u001b[0m     \u001b[39mreturn\u001b[39;00m forward_call(\u001b[39m*\u001b[39;49m\u001b[39minput\u001b[39;49m, \u001b[39m*\u001b[39;49m\u001b[39m*\u001b[39;49mkwargs)\n\u001b[1;32m   1131\u001b[0m \u001b[39m# Do not call functions when jit is used\u001b[39;00m\n\u001b[1;32m   1132\u001b[0m full_backward_hooks, non_full_backward_hooks \u001b[39m=\u001b[39m [], []\n",
      "File \u001b[0;32m/apps/open_spiel/open_spiel/python/pytorch/auction_convnet.py:67\u001b[0m, in \u001b[0;36mAuctionConvNet.forward\u001b[0;34m(self, x)\u001b[0m\n\u001b[1;32m     66\u001b[0m \u001b[39mdef\u001b[39;00m \u001b[39mforward\u001b[39m(\u001b[39mself\u001b[39m, x):\n\u001b[0;32m---> 67\u001b[0m     torso_output \u001b[39m=\u001b[39m \u001b[39mself\u001b[39;49m\u001b[39m.\u001b[39;49mtorso(x)\n\u001b[1;32m     68\u001b[0m     actor_output \u001b[39m=\u001b[39m \u001b[39mself\u001b[39m\u001b[39m.\u001b[39mactor_head(torso_output)\n\u001b[1;32m     69\u001b[0m     critic_output \u001b[39m=\u001b[39m \u001b[39mself\u001b[39m\u001b[39m.\u001b[39mcritic_head(torso_output)\n",
      "File \u001b[0;32m~/.pyenv/versions/3.8.2/envs/venv/lib/python3.8/site-packages/torch/nn/modules/module.py:1130\u001b[0m, in \u001b[0;36mModule._call_impl\u001b[0;34m(self, *input, **kwargs)\u001b[0m\n\u001b[1;32m   1126\u001b[0m \u001b[39m# If we don't have any hooks, we want to skip the rest of the logic in\u001b[39;00m\n\u001b[1;32m   1127\u001b[0m \u001b[39m# this function, and just call forward.\u001b[39;00m\n\u001b[1;32m   1128\u001b[0m \u001b[39mif\u001b[39;00m \u001b[39mnot\u001b[39;00m (\u001b[39mself\u001b[39m\u001b[39m.\u001b[39m_backward_hooks \u001b[39mor\u001b[39;00m \u001b[39mself\u001b[39m\u001b[39m.\u001b[39m_forward_hooks \u001b[39mor\u001b[39;00m \u001b[39mself\u001b[39m\u001b[39m.\u001b[39m_forward_pre_hooks \u001b[39mor\u001b[39;00m _global_backward_hooks\n\u001b[1;32m   1129\u001b[0m         \u001b[39mor\u001b[39;00m _global_forward_hooks \u001b[39mor\u001b[39;00m _global_forward_pre_hooks):\n\u001b[0;32m-> 1130\u001b[0m     \u001b[39mreturn\u001b[39;00m forward_call(\u001b[39m*\u001b[39;49m\u001b[39minput\u001b[39;49m, \u001b[39m*\u001b[39;49m\u001b[39m*\u001b[39;49mkwargs)\n\u001b[1;32m   1131\u001b[0m \u001b[39m# Do not call functions when jit is used\u001b[39;00m\n\u001b[1;32m   1132\u001b[0m full_backward_hooks, non_full_backward_hooks \u001b[39m=\u001b[39m [], []\n",
      "File \u001b[0;32m~/.pyenv/versions/3.8.2/envs/venv/lib/python3.8/site-packages/torch/nn/modules/container.py:139\u001b[0m, in \u001b[0;36mSequential.forward\u001b[0;34m(self, input)\u001b[0m\n\u001b[1;32m    137\u001b[0m \u001b[39mdef\u001b[39;00m \u001b[39mforward\u001b[39m(\u001b[39mself\u001b[39m, \u001b[39minput\u001b[39m):\n\u001b[1;32m    138\u001b[0m     \u001b[39mfor\u001b[39;00m module \u001b[39min\u001b[39;00m \u001b[39mself\u001b[39m:\n\u001b[0;32m--> 139\u001b[0m         \u001b[39minput\u001b[39m \u001b[39m=\u001b[39m module(\u001b[39minput\u001b[39;49m)\n\u001b[1;32m    140\u001b[0m     \u001b[39mreturn\u001b[39;00m \u001b[39minput\u001b[39m\n",
      "File \u001b[0;32m~/.pyenv/versions/3.8.2/envs/venv/lib/python3.8/site-packages/torch/nn/modules/module.py:1130\u001b[0m, in \u001b[0;36mModule._call_impl\u001b[0;34m(self, *input, **kwargs)\u001b[0m\n\u001b[1;32m   1126\u001b[0m \u001b[39m# If we don't have any hooks, we want to skip the rest of the logic in\u001b[39;00m\n\u001b[1;32m   1127\u001b[0m \u001b[39m# this function, and just call forward.\u001b[39;00m\n\u001b[1;32m   1128\u001b[0m \u001b[39mif\u001b[39;00m \u001b[39mnot\u001b[39;00m (\u001b[39mself\u001b[39m\u001b[39m.\u001b[39m_backward_hooks \u001b[39mor\u001b[39;00m \u001b[39mself\u001b[39m\u001b[39m.\u001b[39m_forward_hooks \u001b[39mor\u001b[39;00m \u001b[39mself\u001b[39m\u001b[39m.\u001b[39m_forward_pre_hooks \u001b[39mor\u001b[39;00m _global_backward_hooks\n\u001b[1;32m   1129\u001b[0m         \u001b[39mor\u001b[39;00m _global_forward_hooks \u001b[39mor\u001b[39;00m _global_forward_pre_hooks):\n\u001b[0;32m-> 1130\u001b[0m     \u001b[39mreturn\u001b[39;00m forward_call(\u001b[39m*\u001b[39;49m\u001b[39minput\u001b[39;49m, \u001b[39m*\u001b[39;49m\u001b[39m*\u001b[39;49mkwargs)\n\u001b[1;32m   1131\u001b[0m \u001b[39m# Do not call functions when jit is used\u001b[39;00m\n\u001b[1;32m   1132\u001b[0m full_backward_hooks, non_full_backward_hooks \u001b[39m=\u001b[39m [], []\n",
      "File \u001b[0;32m~/.pyenv/versions/3.8.2/envs/venv/lib/python3.8/site-packages/torch/nn/modules/conv.py:607\u001b[0m, in \u001b[0;36mConv3d.forward\u001b[0;34m(self, input)\u001b[0m\n\u001b[1;32m    606\u001b[0m \u001b[39mdef\u001b[39;00m \u001b[39mforward\u001b[39m(\u001b[39mself\u001b[39m, \u001b[39minput\u001b[39m: Tensor) \u001b[39m-\u001b[39m\u001b[39m>\u001b[39m Tensor:\n\u001b[0;32m--> 607\u001b[0m     \u001b[39mreturn\u001b[39;00m \u001b[39mself\u001b[39;49m\u001b[39m.\u001b[39;49m_conv_forward(\u001b[39minput\u001b[39;49m, \u001b[39mself\u001b[39;49m\u001b[39m.\u001b[39;49mweight, \u001b[39mself\u001b[39;49m\u001b[39m.\u001b[39;49mbias)\n",
      "File \u001b[0;32m~/.pyenv/versions/3.8.2/envs/venv/lib/python3.8/site-packages/torch/nn/modules/conv.py:602\u001b[0m, in \u001b[0;36mConv3d._conv_forward\u001b[0;34m(self, input, weight, bias)\u001b[0m\n\u001b[1;32m    590\u001b[0m \u001b[39mif\u001b[39;00m \u001b[39mself\u001b[39m\u001b[39m.\u001b[39mpadding_mode \u001b[39m!=\u001b[39m \u001b[39m\"\u001b[39m\u001b[39mzeros\u001b[39m\u001b[39m\"\u001b[39m:\n\u001b[1;32m    591\u001b[0m     \u001b[39mreturn\u001b[39;00m F\u001b[39m.\u001b[39mconv3d(\n\u001b[1;32m    592\u001b[0m         F\u001b[39m.\u001b[39mpad(\n\u001b[1;32m    593\u001b[0m             \u001b[39minput\u001b[39m, \u001b[39mself\u001b[39m\u001b[39m.\u001b[39m_reversed_padding_repeated_twice, mode\u001b[39m=\u001b[39m\u001b[39mself\u001b[39m\u001b[39m.\u001b[39mpadding_mode\n\u001b[0;32m   (...)\u001b[0m\n\u001b[1;32m    600\u001b[0m         \u001b[39mself\u001b[39m\u001b[39m.\u001b[39mgroups,\n\u001b[1;32m    601\u001b[0m     )\n\u001b[0;32m--> 602\u001b[0m \u001b[39mreturn\u001b[39;00m F\u001b[39m.\u001b[39;49mconv3d(\n\u001b[1;32m    603\u001b[0m     \u001b[39minput\u001b[39;49m, weight, bias, \u001b[39mself\u001b[39;49m\u001b[39m.\u001b[39;49mstride, \u001b[39mself\u001b[39;49m\u001b[39m.\u001b[39;49mpadding, \u001b[39mself\u001b[39;49m\u001b[39m.\u001b[39;49mdilation, \u001b[39mself\u001b[39;49m\u001b[39m.\u001b[39;49mgroups\n\u001b[1;32m    604\u001b[0m )\n",
      "\u001b[0;31mRuntimeError\u001b[0m: Expected 4D (unbatched) or 5D (batched) input to conv3d, but got input of size: [20, 10, 3]"
     ]
    }
   ],
   "source": [
    "actor_output, critic_output = network(data)"
   ]
  },
  {
   "cell_type": "code",
   "execution_count": 12,
   "id": "def39eed",
   "metadata": {},
   "outputs": [
    {
     "data": {
      "text/plain": [
       "(torch.Size([20, 1, 3, 1, 1]), torch.Size([20, 1]))"
      ]
     },
     "execution_count": 12,
     "metadata": {},
     "output_type": "execute_result"
    }
   ],
   "source": [
    "actor_output.shape, critic_output.shape"
   ]
  },
  {
   "cell_type": "code",
   "execution_count": 8,
   "id": "e19a23d0",
   "metadata": {},
   "outputs": [
    {
     "name": "stdout",
     "output_type": "stream",
     "text": [
      "\u001b[0;31mDocstring:\u001b[0m\n",
      "view_as(other) -> Tensor\n",
      "\n",
      "View this tensor as the same size as :attr:`other`.\n",
      "``self.view_as(other)`` is equivalent to ``self.view(other.size())``.\n",
      "\n",
      "Please see :meth:`~Tensor.view` for more information about ``view``.\n",
      "\n",
      "Args:\n",
      "    other (:class:`torch.Tensor`): The result tensor has the same size\n",
      "        as :attr:`other`.\n",
      "\u001b[0;31mType:\u001b[0m      method_descriptor\n"
     ]
    }
   ],
   "source": [
    "torch.Tensor.view_as??"
   ]
  },
  {
   "cell_type": "code",
   "execution_count": 9,
   "id": "fd3914ea",
   "metadata": {},
   "outputs": [
    {
     "data": {
      "text/plain": [
       "torch.Size([20, 10, 3, 3, 3])"
      ]
     },
     "execution_count": 9,
     "metadata": {},
     "output_type": "execute_result"
    }
   ],
   "source": [
    "data.shape"
   ]
  },
  {
   "cell_type": "code",
   "execution_count": 7,
   "id": "7bf915ec",
   "metadata": {},
   "outputs": [
    {
     "name": "stdout",
     "output_type": "stream",
     "text": [
      "\u001b[0;31mDocstring:\u001b[0m\n",
      "view_as(other) -> Tensor\n",
      "\n",
      "View this tensor as the same size as :attr:`other`.\n",
      "``self.view_as(other)`` is equivalent to ``self.view(other.size())``.\n",
      "\n",
      "Please see :meth:`~Tensor.view` for more information about ``view``.\n",
      "\n",
      "Args:\n",
      "    other (:class:`torch.Tensor`): The result tensor has the same size\n",
      "        as :attr:`other`.\n",
      "\u001b[0;31mType:\u001b[0m      builtin_function_or_method\n"
     ]
    }
   ],
   "source": [
    "# view tensor\n",
    "data.view(20, )"
   ]
  },
  {
   "cell_type": "code",
   "execution_count": null,
   "id": "ec97f09e",
   "metadata": {},
   "outputs": [],
   "source": []
  },
  {
   "attachments": {},
   "cell_type": "markdown",
   "id": "4b50664f",
   "metadata": {},
   "source": [
    "# 1x1 kernel (aka linear)"
   ]
  },
  {
   "cell_type": "code",
   "execution_count": 32,
   "id": "a4e4a39e",
   "metadata": {},
   "outputs": [],
   "source": [
    "\n",
    "from open_spiel.python.pytorch.auction_convnet import AuctionConvNet, AuctionNet"
   ]
  },
  {
   "cell_type": "code",
   "execution_count": 33,
   "id": "a4a79030",
   "metadata": {},
   "outputs": [],
   "source": [
    "observation_shape = (13, 7)\n",
    "num_observations = 20\n",
    "data = torch.rand(num_observations, *observation_shape)\n",
    "\n",
    "network = AuctionNet(observation_shape, [50, 50], add_skip_connections=True, add_max_features=True)"
   ]
  },
  {
   "cell_type": "code",
   "execution_count": 34,
   "id": "a2d74f67",
   "metadata": {},
   "outputs": [],
   "source": [
    "actor_output, critic_output = network(data)"
   ]
  },
  {
   "cell_type": "code",
   "execution_count": 35,
   "id": "b86ec693",
   "metadata": {},
   "outputs": [
    {
     "data": {
      "text/plain": [
       "torch.Size([20, 13])"
      ]
     },
     "execution_count": 35,
     "metadata": {},
     "output_type": "execute_result"
    }
   ],
   "source": [
    "actor_output.shape"
   ]
  },
  {
   "cell_type": "code",
   "execution_count": 36,
   "id": "0177b6d9",
   "metadata": {},
   "outputs": [
    {
     "data": {
      "text/plain": [
       "torch.Size([20, 1])"
      ]
     },
     "execution_count": 36,
     "metadata": {},
     "output_type": "execute_result"
    }
   ],
   "source": [
    "critic_output.shape"
   ]
  },
  {
   "cell_type": "code",
   "execution_count": 37,
   "id": "1961d157",
   "metadata": {},
   "outputs": [
    {
     "data": {
      "text/plain": [
       "tensor([[ 0.0034,  0.0049,  0.0041,  0.0017,  0.0035,  0.0041,  0.0049,  0.0032,\n",
       "          0.0056,  0.0058,  0.0036,  0.0025,  0.0045],\n",
       "        [ 0.0027,  0.0022,  0.0026,  0.0018,  0.0030,  0.0033,  0.0022,  0.0032,\n",
       "          0.0020,  0.0023,  0.0027,  0.0019,  0.0026],\n",
       "        [ 0.0008,  0.0016,  0.0029,  0.0004,  0.0008,  0.0020,  0.0011,  0.0009,\n",
       "          0.0003,  0.0014,  0.0020,  0.0025,  0.0022],\n",
       "        [ 0.0027,  0.0023,  0.0036,  0.0016,  0.0026,  0.0018,  0.0015,  0.0026,\n",
       "          0.0029,  0.0030,  0.0031,  0.0038,  0.0030],\n",
       "        [ 0.0046,  0.0034,  0.0028,  0.0052,  0.0032,  0.0017,  0.0037,  0.0031,\n",
       "          0.0046,  0.0029,  0.0037,  0.0040,  0.0056],\n",
       "        [ 0.0025,  0.0019,  0.0015,  0.0022,  0.0028,  0.0016,  0.0016,  0.0016,\n",
       "          0.0014,  0.0007,  0.0013,  0.0015,  0.0011],\n",
       "        [ 0.0040,  0.0031,  0.0030,  0.0041,  0.0032,  0.0034,  0.0043,  0.0047,\n",
       "          0.0036,  0.0028,  0.0033,  0.0038,  0.0046],\n",
       "        [ 0.0017,  0.0016,  0.0012,  0.0021,  0.0040,  0.0034,  0.0039,  0.0025,\n",
       "          0.0027,  0.0024,  0.0017,  0.0037,  0.0017],\n",
       "        [ 0.0045,  0.0033,  0.0048,  0.0032,  0.0034,  0.0032,  0.0042,  0.0027,\n",
       "          0.0030,  0.0019,  0.0042,  0.0046,  0.0025],\n",
       "        [ 0.0027,  0.0026,  0.0018,  0.0030,  0.0035,  0.0032,  0.0025,  0.0034,\n",
       "          0.0030,  0.0040,  0.0031,  0.0026,  0.0018],\n",
       "        [ 0.0034,  0.0033,  0.0032,  0.0020,  0.0040,  0.0051,  0.0050,  0.0024,\n",
       "          0.0027,  0.0048,  0.0035,  0.0014,  0.0021],\n",
       "        [ 0.0003,  0.0014,  0.0022,  0.0019,  0.0006,  0.0021,  0.0015,  0.0011,\n",
       "          0.0013,  0.0024,  0.0013,  0.0005, -0.0002],\n",
       "        [ 0.0034,  0.0033,  0.0046,  0.0020,  0.0040,  0.0049,  0.0031,  0.0036,\n",
       "          0.0027,  0.0042,  0.0038,  0.0040,  0.0023],\n",
       "        [ 0.0020,  0.0035,  0.0029,  0.0035,  0.0022,  0.0021,  0.0023,  0.0018,\n",
       "          0.0027,  0.0014,  0.0018,  0.0023,  0.0027],\n",
       "        [ 0.0024,  0.0020,  0.0019,  0.0026,  0.0023,  0.0010,  0.0025,  0.0030,\n",
       "          0.0035,  0.0019,  0.0021,  0.0018,  0.0010],\n",
       "        [ 0.0048,  0.0036,  0.0026,  0.0034,  0.0027,  0.0036,  0.0023,  0.0028,\n",
       "          0.0023,  0.0028,  0.0039,  0.0032,  0.0039],\n",
       "        [ 0.0042,  0.0035,  0.0018,  0.0043,  0.0034,  0.0031,  0.0028,  0.0039,\n",
       "          0.0050,  0.0043,  0.0048,  0.0030,  0.0025],\n",
       "        [ 0.0012,  0.0009,  0.0005,  0.0039,  0.0015,  0.0013,  0.0020,  0.0020,\n",
       "          0.0021,  0.0021,  0.0014,  0.0013,  0.0025],\n",
       "        [ 0.0031,  0.0045,  0.0018,  0.0026,  0.0038,  0.0032,  0.0036,  0.0015,\n",
       "          0.0016,  0.0040,  0.0032,  0.0034,  0.0040],\n",
       "        [ 0.0042,  0.0036,  0.0042,  0.0025,  0.0051,  0.0036,  0.0044,  0.0052,\n",
       "          0.0026,  0.0037,  0.0040,  0.0033,  0.0022]],\n",
       "       grad_fn=<SqueezeBackward1>)"
      ]
     },
     "execution_count": 37,
     "metadata": {},
     "output_type": "execute_result"
    }
   ],
   "source": [
    "actor_output"
   ]
  },
  {
   "cell_type": "code",
   "execution_count": 22,
   "id": "ae85d1b8",
   "metadata": {},
   "outputs": [
    {
     "data": {
      "text/plain": [
       "torch.Size([20, 13, 14])"
      ]
     },
     "execution_count": 22,
     "metadata": {},
     "output_type": "execute_result"
    }
   ],
   "source": [
    "torch.cat([data, torch.max(data, dim=1, keepdim=True)[0].expand_as(data)], dim=2).shape"
   ]
  },
  {
   "cell_type": "code",
   "execution_count": 14,
   "id": "c5cf0b8e",
   "metadata": {},
   "outputs": [
    {
     "data": {
      "text/plain": [
       "torch.Size([20, 13, 7])"
      ]
     },
     "execution_count": 14,
     "metadata": {},
     "output_type": "execute_result"
    }
   ],
   "source": [
    "torch.max(data, dim=1, keepdim=True)[0].expand_as(data).shape"
   ]
  },
  {
   "cell_type": "code",
   "execution_count": null,
   "id": "c77a2f0f",
   "metadata": {},
   "outputs": [],
   "source": []
  }
 ],
 "metadata": {
  "kernelspec": {
   "display_name": "Django Shell-Plus",
   "language": "python",
   "name": "django_extensions"
  },
  "language_info": {
   "codemirror_mode": {
    "name": "ipython",
    "version": 3
   },
   "file_extension": ".py",
   "mimetype": "text/x-python",
   "name": "python",
   "nbconvert_exporter": "python",
   "pygments_lexer": "ipython3",
   "version": "3.8.2"
  },
  "vscode": {
   "interpreter": {
    "hash": "e3accfcd37938f9426478dec107e62856506f80a05920eb9bbb7129d1cbce929"
   }
  }
 },
 "nbformat": 4,
 "nbformat_minor": 5
}
