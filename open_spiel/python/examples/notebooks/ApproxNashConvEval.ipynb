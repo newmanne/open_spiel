{
 "cells": [
  {
   "cell_type": "code",
   "execution_count": 90,
   "id": "f50f4792-37a4-4c7a-89ea-082a7551ae44",
   "metadata": {},
   "outputs": [
    {
     "name": "stdout",
     "output_type": "stream",
     "text": [
      "The autoreload extension is already loaded. To reload it, use:\n",
      "  %reload_ext autoreload\n"
     ]
    }
   ],
   "source": [
    "%load_ext autoreload\n",
    "%autoreload 2\n",
    "%matplotlib inline\n",
    "\n",
    "import sys\n",
    "import glob\n",
    "import pandas as pd\n",
    "import os\n",
    "import seaborn as sns\n",
    "\n",
    "from tqdm import tqdm\n",
    "from statsmodels.distributions.empirical_distribution import ECDF\n",
    "from collections import defaultdict\n",
    "import pickle\n",
    "import re\n",
    "import json\n",
    "from pathlib import Path\n",
    "\n",
    "\n",
    "from open_spiel.python.algorithms.exploitability import nash_conv, best_response\n",
    "from open_spiel.python.examples.ubc_plotting_utils import *\n",
    "\n",
    "\n",
    "import bokeh\n",
    "from bokeh.layouts import row, column\n",
    "from bokeh.plotting import figure, show, output_file, save\n",
    "from bokeh.io import output_notebook\n",
    "from bokeh.models import HoverTool, ColumnDataSource, ColorBar, LogColorMapper, LinearColorMapper\n",
    "from bokeh.transform import linear_cmap, log_cmap\n",
    "os.environ[\"DJANGO_ALLOW_ASYNC_UNSAFE\"] = \"true\"\n",
    "from auctions.webutils import *\n",
    "\n"
   ]
  },
  {
   "cell_type": "code",
   "execution_count": 91,
   "id": "5a361679-da0d-42ff-8e2e-9290cb401d05",
   "metadata": {},
   "outputs": [
    {
     "data": {
      "text/plain": [
       "<Experiment: albert_games_revived_6>"
      ]
     },
     "execution_count": 91,
     "metadata": {},
     "output_type": "execute_result"
    }
   ],
   "source": [
    "experiment = Experiment.objects.get(name='albert_games_revived_6')\n",
    "# experiment = Experiment.objects.get(name='albert_games_revived_3_with_require_br')\n",
    "# experiment = Experiment.objects.get(name='albert_games_revived_3_with_random_ic')\n",
    "\n",
    "# experiment = Experiment.objects.get(name='sats_games_10_with_require_br')\n",
    "# experiment = Experiment.objects.get(name='sats_games_10_with_random_ic')\n",
    "experiment"
   ]
  },
  {
   "cell_type": "code",
   "execution_count": 92,
   "id": "86270685-ab1d-4a09-aeaa-9c69b477cc07",
   "metadata": {},
   "outputs": [
    {
     "name": "stderr",
     "output_type": "stream",
     "text": [
      "100%|███████████████████████████████████████████████████████████████████████████████████████████████████████████████████████████████████████████████████████████████████████████████████████████████████████████████████████████████████████████| 3/3 [00:00<00:00,  8.44it/s]\n"
     ]
    }
   ],
   "source": [
    "master_df = get_all_frames(experiment, expected_additional_br=1)"
   ]
  },
  {
   "cell_type": "code",
   "execution_count": 85,
   "id": "0db9142e-8b58-465e-8135-370adb69d66c",
   "metadata": {},
   "outputs": [
    {
     "data": {
      "text/plain": [
       "24"
      ]
     },
     "execution_count": 85,
     "metadata": {},
     "output_type": "execute_result"
    }
   ],
   "source": [
    "len(master_df)"
   ]
  },
  {
   "cell_type": "code",
   "execution_count": 86,
   "id": "afdfcc1c-ec0c-4ffe-9e9e-68c8864b4e41",
   "metadata": {},
   "outputs": [],
   "source": [
    "# !ls /shared/outputs"
   ]
  },
  {
   "cell_type": "code",
   "execution_count": 93,
   "id": "f7f8a0c3-8c9e-45ca-b90e-b31c37f308c1",
   "metadata": {},
   "outputs": [
    {
     "data": {
      "text/html": [
       "\n",
       "    <div class=\"bk-root\">\n",
       "        <a href=\"https://bokeh.org\" target=\"_blank\" class=\"bk-logo bk-logo-small bk-logo-notebook\"></a>\n",
       "        <span id=\"175850\">Loading BokehJS ...</span>\n",
       "    </div>"
      ]
     },
     "metadata": {},
     "output_type": "display_data"
    },
    {
     "data": {
      "application/javascript": [
       "\n",
       "(function(root) {\n",
       "  function now() {\n",
       "    return new Date();\n",
       "  }\n",
       "\n",
       "  const force = true;\n",
       "\n",
       "  if (typeof root._bokeh_onload_callbacks === \"undefined\" || force === true) {\n",
       "    root._bokeh_onload_callbacks = [];\n",
       "    root._bokeh_is_loading = undefined;\n",
       "  }\n",
       "\n",
       "  const JS_MIME_TYPE = 'application/javascript';\n",
       "  const HTML_MIME_TYPE = 'text/html';\n",
       "  const EXEC_MIME_TYPE = 'application/vnd.bokehjs_exec.v0+json';\n",
       "  const CLASS_NAME = 'output_bokeh rendered_html';\n",
       "\n",
       "  /**\n",
       "   * Render data to the DOM node\n",
       "   */\n",
       "  function render(props, node) {\n",
       "    const script = document.createElement(\"script\");\n",
       "    node.appendChild(script);\n",
       "  }\n",
       "\n",
       "  /**\n",
       "   * Handle when an output is cleared or removed\n",
       "   */\n",
       "  function handleClearOutput(event, handle) {\n",
       "    const cell = handle.cell;\n",
       "\n",
       "    const id = cell.output_area._bokeh_element_id;\n",
       "    const server_id = cell.output_area._bokeh_server_id;\n",
       "    // Clean up Bokeh references\n",
       "    if (id != null && id in Bokeh.index) {\n",
       "      Bokeh.index[id].model.document.clear();\n",
       "      delete Bokeh.index[id];\n",
       "    }\n",
       "\n",
       "    if (server_id !== undefined) {\n",
       "      // Clean up Bokeh references\n",
       "      const cmd_clean = \"from bokeh.io.state import curstate; print(curstate().uuid_to_server['\" + server_id + \"'].get_sessions()[0].document.roots[0]._id)\";\n",
       "      cell.notebook.kernel.execute(cmd_clean, {\n",
       "        iopub: {\n",
       "          output: function(msg) {\n",
       "            const id = msg.content.text.trim();\n",
       "            if (id in Bokeh.index) {\n",
       "              Bokeh.index[id].model.document.clear();\n",
       "              delete Bokeh.index[id];\n",
       "            }\n",
       "          }\n",
       "        }\n",
       "      });\n",
       "      // Destroy server and session\n",
       "      const cmd_destroy = \"import bokeh.io.notebook as ion; ion.destroy_server('\" + server_id + \"')\";\n",
       "      cell.notebook.kernel.execute(cmd_destroy);\n",
       "    }\n",
       "  }\n",
       "\n",
       "  /**\n",
       "   * Handle when a new output is added\n",
       "   */\n",
       "  function handleAddOutput(event, handle) {\n",
       "    const output_area = handle.output_area;\n",
       "    const output = handle.output;\n",
       "\n",
       "    // limit handleAddOutput to display_data with EXEC_MIME_TYPE content only\n",
       "    if ((output.output_type != \"display_data\") || (!Object.prototype.hasOwnProperty.call(output.data, EXEC_MIME_TYPE))) {\n",
       "      return\n",
       "    }\n",
       "\n",
       "    const toinsert = output_area.element.find(\".\" + CLASS_NAME.split(' ')[0]);\n",
       "\n",
       "    if (output.metadata[EXEC_MIME_TYPE][\"id\"] !== undefined) {\n",
       "      toinsert[toinsert.length - 1].firstChild.textContent = output.data[JS_MIME_TYPE];\n",
       "      // store reference to embed id on output_area\n",
       "      output_area._bokeh_element_id = output.metadata[EXEC_MIME_TYPE][\"id\"];\n",
       "    }\n",
       "    if (output.metadata[EXEC_MIME_TYPE][\"server_id\"] !== undefined) {\n",
       "      const bk_div = document.createElement(\"div\");\n",
       "      bk_div.innerHTML = output.data[HTML_MIME_TYPE];\n",
       "      const script_attrs = bk_div.children[0].attributes;\n",
       "      for (let i = 0; i < script_attrs.length; i++) {\n",
       "        toinsert[toinsert.length - 1].firstChild.setAttribute(script_attrs[i].name, script_attrs[i].value);\n",
       "        toinsert[toinsert.length - 1].firstChild.textContent = bk_div.children[0].textContent\n",
       "      }\n",
       "      // store reference to server id on output_area\n",
       "      output_area._bokeh_server_id = output.metadata[EXEC_MIME_TYPE][\"server_id\"];\n",
       "    }\n",
       "  }\n",
       "\n",
       "  function register_renderer(events, OutputArea) {\n",
       "\n",
       "    function append_mime(data, metadata, element) {\n",
       "      // create a DOM node to render to\n",
       "      const toinsert = this.create_output_subarea(\n",
       "        metadata,\n",
       "        CLASS_NAME,\n",
       "        EXEC_MIME_TYPE\n",
       "      );\n",
       "      this.keyboard_manager.register_events(toinsert);\n",
       "      // Render to node\n",
       "      const props = {data: data, metadata: metadata[EXEC_MIME_TYPE]};\n",
       "      render(props, toinsert[toinsert.length - 1]);\n",
       "      element.append(toinsert);\n",
       "      return toinsert\n",
       "    }\n",
       "\n",
       "    /* Handle when an output is cleared or removed */\n",
       "    events.on('clear_output.CodeCell', handleClearOutput);\n",
       "    events.on('delete.Cell', handleClearOutput);\n",
       "\n",
       "    /* Handle when a new output is added */\n",
       "    events.on('output_added.OutputArea', handleAddOutput);\n",
       "\n",
       "    /**\n",
       "     * Register the mime type and append_mime function with output_area\n",
       "     */\n",
       "    OutputArea.prototype.register_mime_type(EXEC_MIME_TYPE, append_mime, {\n",
       "      /* Is output safe? */\n",
       "      safe: true,\n",
       "      /* Index of renderer in `output_area.display_order` */\n",
       "      index: 0\n",
       "    });\n",
       "  }\n",
       "\n",
       "  // register the mime type if in Jupyter Notebook environment and previously unregistered\n",
       "  if (root.Jupyter !== undefined) {\n",
       "    const events = require('base/js/events');\n",
       "    const OutputArea = require('notebook/js/outputarea').OutputArea;\n",
       "\n",
       "    if (OutputArea.prototype.mime_types().indexOf(EXEC_MIME_TYPE) == -1) {\n",
       "      register_renderer(events, OutputArea);\n",
       "    }\n",
       "  }\n",
       "\n",
       "  \n",
       "  if (typeof (root._bokeh_timeout) === \"undefined\" || force === true) {\n",
       "    root._bokeh_timeout = Date.now() + 5000;\n",
       "    root._bokeh_failed_load = false;\n",
       "  }\n",
       "\n",
       "  const NB_LOAD_WARNING = {'data': {'text/html':\n",
       "     \"<div style='background-color: #fdd'>\\n\"+\n",
       "     \"<p>\\n\"+\n",
       "     \"BokehJS does not appear to have successfully loaded. If loading BokehJS from CDN, this \\n\"+\n",
       "     \"may be due to a slow or bad network connection. Possible fixes:\\n\"+\n",
       "     \"</p>\\n\"+\n",
       "     \"<ul>\\n\"+\n",
       "     \"<li>re-rerun `output_notebook()` to attempt to load from CDN again, or</li>\\n\"+\n",
       "     \"<li>use INLINE resources instead, as so:</li>\\n\"+\n",
       "     \"</ul>\\n\"+\n",
       "     \"<code>\\n\"+\n",
       "     \"from bokeh.resources import INLINE\\n\"+\n",
       "     \"output_notebook(resources=INLINE)\\n\"+\n",
       "     \"</code>\\n\"+\n",
       "     \"</div>\"}};\n",
       "\n",
       "  function display_loaded() {\n",
       "    const el = document.getElementById(\"175850\");\n",
       "    if (el != null) {\n",
       "      el.textContent = \"BokehJS is loading...\";\n",
       "    }\n",
       "    if (root.Bokeh !== undefined) {\n",
       "      if (el != null) {\n",
       "        el.textContent = \"BokehJS \" + root.Bokeh.version + \" successfully loaded.\";\n",
       "      }\n",
       "    } else if (Date.now() < root._bokeh_timeout) {\n",
       "      setTimeout(display_loaded, 100)\n",
       "    }\n",
       "  }\n",
       "\n",
       "\n",
       "  function run_callbacks() {\n",
       "    try {\n",
       "      root._bokeh_onload_callbacks.forEach(function(callback) {\n",
       "        if (callback != null)\n",
       "          callback();\n",
       "      });\n",
       "    } finally {\n",
       "      delete root._bokeh_onload_callbacks\n",
       "    }\n",
       "    console.debug(\"Bokeh: all callbacks have finished\");\n",
       "  }\n",
       "\n",
       "  function load_libs(css_urls, js_urls, callback) {\n",
       "    if (css_urls == null) css_urls = [];\n",
       "    if (js_urls == null) js_urls = [];\n",
       "\n",
       "    root._bokeh_onload_callbacks.push(callback);\n",
       "    if (root._bokeh_is_loading > 0) {\n",
       "      console.debug(\"Bokeh: BokehJS is being loaded, scheduling callback at\", now());\n",
       "      return null;\n",
       "    }\n",
       "    if (js_urls == null || js_urls.length === 0) {\n",
       "      run_callbacks();\n",
       "      return null;\n",
       "    }\n",
       "    console.debug(\"Bokeh: BokehJS not loaded, scheduling load and callback at\", now());\n",
       "    root._bokeh_is_loading = css_urls.length + js_urls.length;\n",
       "\n",
       "    function on_load() {\n",
       "      root._bokeh_is_loading--;\n",
       "      if (root._bokeh_is_loading === 0) {\n",
       "        console.debug(\"Bokeh: all BokehJS libraries/stylesheets loaded\");\n",
       "        run_callbacks()\n",
       "      }\n",
       "    }\n",
       "\n",
       "    function on_error(url) {\n",
       "      console.error(\"failed to load \" + url);\n",
       "    }\n",
       "\n",
       "    for (let i = 0; i < css_urls.length; i++) {\n",
       "      const url = css_urls[i];\n",
       "      const element = document.createElement(\"link\");\n",
       "      element.onload = on_load;\n",
       "      element.onerror = on_error.bind(null, url);\n",
       "      element.rel = \"stylesheet\";\n",
       "      element.type = \"text/css\";\n",
       "      element.href = url;\n",
       "      console.debug(\"Bokeh: injecting link tag for BokehJS stylesheet: \", url);\n",
       "      document.body.appendChild(element);\n",
       "    }\n",
       "\n",
       "    for (let i = 0; i < js_urls.length; i++) {\n",
       "      const url = js_urls[i];\n",
       "      const element = document.createElement('script');\n",
       "      element.onload = on_load;\n",
       "      element.onerror = on_error.bind(null, url);\n",
       "      element.async = false;\n",
       "      element.src = url;\n",
       "      console.debug(\"Bokeh: injecting script tag for BokehJS library: \", url);\n",
       "      document.head.appendChild(element);\n",
       "    }\n",
       "  };\n",
       "\n",
       "  function inject_raw_css(css) {\n",
       "    const element = document.createElement(\"style\");\n",
       "    element.appendChild(document.createTextNode(css));\n",
       "    document.body.appendChild(element);\n",
       "  }\n",
       "\n",
       "  \n",
       "  const js_urls = [\"https://cdn.bokeh.org/bokeh/release/bokeh-2.4.2.min.js\", \"https://cdn.bokeh.org/bokeh/release/bokeh-gl-2.4.2.min.js\", \"https://cdn.bokeh.org/bokeh/release/bokeh-widgets-2.4.2.min.js\", \"https://cdn.bokeh.org/bokeh/release/bokeh-tables-2.4.2.min.js\", \"https://cdn.bokeh.org/bokeh/release/bokeh-mathjax-2.4.2.min.js\"];\n",
       "  const css_urls = [];\n",
       "  \n",
       "\n",
       "  const inline_js = [\n",
       "    function(Bokeh) {\n",
       "      Bokeh.set_log_level(\"info\");\n",
       "    },\n",
       "    function(Bokeh) {\n",
       "    \n",
       "    \n",
       "    }\n",
       "  ];\n",
       "\n",
       "  function run_inline_js() {\n",
       "    \n",
       "    if (root.Bokeh !== undefined || force === true) {\n",
       "      \n",
       "    for (let i = 0; i < inline_js.length; i++) {\n",
       "      inline_js[i].call(root, root.Bokeh);\n",
       "    }\n",
       "    if (force === true) {\n",
       "        display_loaded();\n",
       "      }} else if (Date.now() < root._bokeh_timeout) {\n",
       "      setTimeout(run_inline_js, 100);\n",
       "    } else if (!root._bokeh_failed_load) {\n",
       "      console.log(\"Bokeh: BokehJS failed to load within specified timeout.\");\n",
       "      root._bokeh_failed_load = true;\n",
       "    } else if (force !== true) {\n",
       "      const cell = $(document.getElementById(\"175850\")).parents('.cell').data().cell;\n",
       "      cell.output_area.append_execute_result(NB_LOAD_WARNING)\n",
       "    }\n",
       "\n",
       "  }\n",
       "\n",
       "  if (root._bokeh_is_loading === 0) {\n",
       "    console.debug(\"Bokeh: BokehJS loaded, going straight to plotting\");\n",
       "    run_inline_js();\n",
       "  } else {\n",
       "    load_libs(css_urls, js_urls, function() {\n",
       "      console.debug(\"Bokeh: BokehJS plotting callback run at\", now());\n",
       "      run_inline_js();\n",
       "    });\n",
       "  }\n",
       "}(window));"
      ],
      "application/vnd.bokehjs_load.v0+json": "\n(function(root) {\n  function now() {\n    return new Date();\n  }\n\n  const force = true;\n\n  if (typeof root._bokeh_onload_callbacks === \"undefined\" || force === true) {\n    root._bokeh_onload_callbacks = [];\n    root._bokeh_is_loading = undefined;\n  }\n\n  \n\n  \n  if (typeof (root._bokeh_timeout) === \"undefined\" || force === true) {\n    root._bokeh_timeout = Date.now() + 5000;\n    root._bokeh_failed_load = false;\n  }\n\n  const NB_LOAD_WARNING = {'data': {'text/html':\n     \"<div style='background-color: #fdd'>\\n\"+\n     \"<p>\\n\"+\n     \"BokehJS does not appear to have successfully loaded. If loading BokehJS from CDN, this \\n\"+\n     \"may be due to a slow or bad network connection. Possible fixes:\\n\"+\n     \"</p>\\n\"+\n     \"<ul>\\n\"+\n     \"<li>re-rerun `output_notebook()` to attempt to load from CDN again, or</li>\\n\"+\n     \"<li>use INLINE resources instead, as so:</li>\\n\"+\n     \"</ul>\\n\"+\n     \"<code>\\n\"+\n     \"from bokeh.resources import INLINE\\n\"+\n     \"output_notebook(resources=INLINE)\\n\"+\n     \"</code>\\n\"+\n     \"</div>\"}};\n\n  function display_loaded() {\n    const el = document.getElementById(\"175850\");\n    if (el != null) {\n      el.textContent = \"BokehJS is loading...\";\n    }\n    if (root.Bokeh !== undefined) {\n      if (el != null) {\n        el.textContent = \"BokehJS \" + root.Bokeh.version + \" successfully loaded.\";\n      }\n    } else if (Date.now() < root._bokeh_timeout) {\n      setTimeout(display_loaded, 100)\n    }\n  }\n\n\n  function run_callbacks() {\n    try {\n      root._bokeh_onload_callbacks.forEach(function(callback) {\n        if (callback != null)\n          callback();\n      });\n    } finally {\n      delete root._bokeh_onload_callbacks\n    }\n    console.debug(\"Bokeh: all callbacks have finished\");\n  }\n\n  function load_libs(css_urls, js_urls, callback) {\n    if (css_urls == null) css_urls = [];\n    if (js_urls == null) js_urls = [];\n\n    root._bokeh_onload_callbacks.push(callback);\n    if (root._bokeh_is_loading > 0) {\n      console.debug(\"Bokeh: BokehJS is being loaded, scheduling callback at\", now());\n      return null;\n    }\n    if (js_urls == null || js_urls.length === 0) {\n      run_callbacks();\n      return null;\n    }\n    console.debug(\"Bokeh: BokehJS not loaded, scheduling load and callback at\", now());\n    root._bokeh_is_loading = css_urls.length + js_urls.length;\n\n    function on_load() {\n      root._bokeh_is_loading--;\n      if (root._bokeh_is_loading === 0) {\n        console.debug(\"Bokeh: all BokehJS libraries/stylesheets loaded\");\n        run_callbacks()\n      }\n    }\n\n    function on_error(url) {\n      console.error(\"failed to load \" + url);\n    }\n\n    for (let i = 0; i < css_urls.length; i++) {\n      const url = css_urls[i];\n      const element = document.createElement(\"link\");\n      element.onload = on_load;\n      element.onerror = on_error.bind(null, url);\n      element.rel = \"stylesheet\";\n      element.type = \"text/css\";\n      element.href = url;\n      console.debug(\"Bokeh: injecting link tag for BokehJS stylesheet: \", url);\n      document.body.appendChild(element);\n    }\n\n    for (let i = 0; i < js_urls.length; i++) {\n      const url = js_urls[i];\n      const element = document.createElement('script');\n      element.onload = on_load;\n      element.onerror = on_error.bind(null, url);\n      element.async = false;\n      element.src = url;\n      console.debug(\"Bokeh: injecting script tag for BokehJS library: \", url);\n      document.head.appendChild(element);\n    }\n  };\n\n  function inject_raw_css(css) {\n    const element = document.createElement(\"style\");\n    element.appendChild(document.createTextNode(css));\n    document.body.appendChild(element);\n  }\n\n  \n  const js_urls = [\"https://cdn.bokeh.org/bokeh/release/bokeh-2.4.2.min.js\", \"https://cdn.bokeh.org/bokeh/release/bokeh-gl-2.4.2.min.js\", \"https://cdn.bokeh.org/bokeh/release/bokeh-widgets-2.4.2.min.js\", \"https://cdn.bokeh.org/bokeh/release/bokeh-tables-2.4.2.min.js\", \"https://cdn.bokeh.org/bokeh/release/bokeh-mathjax-2.4.2.min.js\"];\n  const css_urls = [];\n  \n\n  const inline_js = [\n    function(Bokeh) {\n      Bokeh.set_log_level(\"info\");\n    },\n    function(Bokeh) {\n    \n    \n    }\n  ];\n\n  function run_inline_js() {\n    \n    if (root.Bokeh !== undefined || force === true) {\n      \n    for (let i = 0; i < inline_js.length; i++) {\n      inline_js[i].call(root, root.Bokeh);\n    }\n    if (force === true) {\n        display_loaded();\n      }} else if (Date.now() < root._bokeh_timeout) {\n      setTimeout(run_inline_js, 100);\n    } else if (!root._bokeh_failed_load) {\n      console.log(\"Bokeh: BokehJS failed to load within specified timeout.\");\n      root._bokeh_failed_load = true;\n    } else if (force !== true) {\n      const cell = $(document.getElementById(\"175850\")).parents('.cell').data().cell;\n      cell.output_area.append_execute_result(NB_LOAD_WARNING)\n    }\n\n  }\n\n  if (root._bokeh_is_loading === 0) {\n    console.debug(\"Bokeh: BokehJS loaded, going straight to plotting\");\n    run_inline_js();\n  } else {\n    load_libs(css_urls, js_urls, function() {\n      console.debug(\"Bokeh: BokehJS plotting callback run at\", now());\n      run_inline_js();\n    });\n  }\n}(window));"
     },
     "metadata": {},
     "output_type": "display_data"
    },
    {
     "data": {
      "text/html": [
       "\n",
       "\n",
       "\n",
       "\n",
       "\n",
       "\n",
       "  <div class=\"bk-root\" id=\"6e1f0e61-cf0a-4384-9ce0-b5dceda4d4c8\" data-root-id=\"175006\"></div>\n"
      ]
     },
     "metadata": {},
     "output_type": "display_data"
    },
    {
     "data": {
      "application/javascript": [
       "(function(root) {\n",
       "  function embed_document(root) {\n",
       "    \n",
       "  const docs_json = {\"44351c72-d551-4a8b-b56a-a874cf85b677\":{\"defs\":[],\"roots\":{\"references\":[{\"attributes\":{\"below\":[{\"id\":\"175017\"}],\"center\":[{\"id\":\"175020\"},{\"id\":\"175024\"},{\"id\":\"175056\"}],\"height\":400,\"left\":[{\"id\":\"175021\"}],\"renderers\":[{\"id\":\"175044\"},{\"id\":\"175062\"},{\"id\":\"175068\"}],\"title\":{\"id\":\"175007\"},\"toolbar\":{\"id\":\"175032\"},\"width\":900,\"x_range\":{\"id\":\"175009\"},\"x_scale\":{\"id\":\"175013\"},\"y_range\":{\"id\":\"175011\"},\"y_scale\":{\"id\":\"175015\"}},\"id\":\"175006\",\"subtype\":\"Figure\",\"type\":\"Plot\"},{\"attributes\":{},\"id\":\"178233\",\"type\":\"UnionRenderers\"},{\"attributes\":{\"line_color\":\"#1f77b4\",\"line_width\":3,\"x\":{\"field\":\"t\"},\"y\":{\"field\":\"ApproxNashConv\"}},\"id\":\"175041\",\"type\":\"Line\"},{\"attributes\":{\"axis\":{\"id\":\"175017\"},\"coordinates\":null,\"group\":null,\"ticker\":null},\"id\":\"175020\",\"type\":\"Grid\"},{\"attributes\":{\"data\":{\"x\":[1e-06],\"y\":[0]},\"selected\":{\"id\":\"178234\"},\"selection_policy\":{\"id\":\"178233\"}},\"id\":\"175064\",\"type\":\"ColumnDataSource\"},{\"attributes\":{\"coordinates\":null,\"data_source\":{\"id\":\"175039\"},\"glyph\":{\"id\":\"175059\"},\"group\":null,\"hover_glyph\":null,\"muted_glyph\":{\"id\":\"175061\"},\"name\":\"rw_game_2_settle-may13mlphalf-100\",\"nonselection_glyph\":{\"id\":\"175060\"},\"view\":{\"id\":\"175063\"}},\"id\":\"175062\",\"type\":\"GlyphRenderer\"},{\"attributes\":{},\"id\":\"175013\",\"type\":\"LinearScale\"},{\"attributes\":{\"label\":{\"value\":\"rw_game_2_settle-may13mlphalf-100\"},\"renderers\":[{\"id\":\"175044\"}]},\"id\":\"175057\",\"type\":\"LegendItem\"},{\"attributes\":{\"fill_color\":{\"value\":\"#1f77b4\"},\"hatch_color\":{\"value\":\"#1f77b4\"},\"line_color\":{\"value\":\"#1f77b4\"},\"size\":{\"value\":10},\"x\":{\"field\":\"t\"},\"y\":{\"field\":\"ApproxNashConv\"}},\"id\":\"175059\",\"type\":\"Circle\"},{\"attributes\":{\"line_width\":{\"value\":5},\"x\":{\"field\":\"x\"},\"y\":{\"field\":\"y\"}},\"id\":\"175065\",\"type\":\"Ray\"},{\"attributes\":{},\"id\":\"178234\",\"type\":\"Selection\"},{\"attributes\":{\"overlay\":{\"id\":\"175031\"}},\"id\":\"175027\",\"type\":\"BoxZoomTool\"},{\"attributes\":{\"axis\":{\"id\":\"175021\"},\"coordinates\":null,\"dimension\":1,\"group\":null,\"ticker\":null},\"id\":\"175024\",\"type\":\"Grid\"},{\"attributes\":{},\"id\":\"175009\",\"type\":\"DataRange1d\"},{\"attributes\":{\"source\":{\"id\":\"175039\"}},\"id\":\"175045\",\"type\":\"CDSView\"},{\"attributes\":{\"source\":{\"id\":\"175039\"}},\"id\":\"175063\",\"type\":\"CDSView\"},{\"attributes\":{},\"id\":\"175054\",\"type\":\"Selection\"},{\"attributes\":{},\"id\":\"175015\",\"type\":\"LinearScale\"},{\"attributes\":{\"line_alpha\":0.2,\"line_color\":\"#1f77b4\",\"line_width\":3,\"x\":{\"field\":\"t\"},\"y\":{\"field\":\"ApproxNashConv\"}},\"id\":\"175043\",\"type\":\"Line\"},{\"attributes\":{\"click_policy\":\"hide\",\"coordinates\":null,\"group\":null,\"items\":[{\"id\":\"175057\"}]},\"id\":\"175056\",\"type\":\"Legend\"},{\"attributes\":{\"data\":{\"ApproxNashConv\":{\"__ndarray__\":\"wFuapZ326z8A2efJ6ZDdPwA2gEi8jss/AKsiAQ5ZwD8AMEO6Cu+0PwAQOTOwRKw/\",\"dtype\":\"float64\",\"order\":\"little\",\"shape\":[6]},\"index\":[0,6,16,18,29,34],\"t\":{\"__ndarray__\":\"je21oPfGsD57FK5H4XqUP3sUrkfheqQ/uB6F61G4rj97FK5H4Xq0P5qZmZmZmbk/\",\"dtype\":\"float64\",\"order\":\"little\",\"shape\":[6]}},\"selected\":{\"id\":\"175054\"},\"selection_policy\":{\"id\":\"175053\"}},\"id\":\"175039\",\"type\":\"ColumnDataSource\"},{\"attributes\":{\"axis_label\":\"Iteration (M)\",\"coordinates\":null,\"formatter\":{\"id\":\"175051\"},\"group\":null,\"major_label_policy\":{\"id\":\"175052\"},\"ticker\":{\"id\":\"175018\"}},\"id\":\"175017\",\"type\":\"LinearAxis\"},{\"attributes\":{\"axis_label\":\"Regret\",\"coordinates\":null,\"formatter\":{\"id\":\"175048\"},\"group\":null,\"major_label_policy\":{\"id\":\"175049\"},\"ticker\":{\"id\":\"175022\"}},\"id\":\"175021\",\"type\":\"LinearAxis\"},{\"attributes\":{},\"id\":\"175053\",\"type\":\"UnionRenderers\"},{\"attributes\":{\"fill_alpha\":{\"value\":0.1},\"fill_color\":{\"value\":\"#1f77b4\"},\"hatch_alpha\":{\"value\":0.1},\"hatch_color\":{\"value\":\"#1f77b4\"},\"line_alpha\":{\"value\":0.1},\"line_color\":{\"value\":\"#1f77b4\"},\"size\":{\"value\":10},\"x\":{\"field\":\"t\"},\"y\":{\"field\":\"ApproxNashConv\"}},\"id\":\"175060\",\"type\":\"Circle\"},{\"attributes\":{\"bottom_units\":\"screen\",\"coordinates\":null,\"fill_alpha\":0.5,\"fill_color\":\"lightgrey\",\"group\":null,\"left_units\":\"screen\",\"level\":\"overlay\",\"line_alpha\":1.0,\"line_color\":\"black\",\"line_dash\":[4,4],\"line_width\":2,\"right_units\":\"screen\",\"syncable\":false,\"top_units\":\"screen\"},\"id\":\"175031\",\"type\":\"BoxAnnotation\"},{\"attributes\":{\"fill_alpha\":{\"value\":0.2},\"fill_color\":{\"value\":\"#1f77b4\"},\"hatch_alpha\":{\"value\":0.2},\"hatch_color\":{\"value\":\"#1f77b4\"},\"line_alpha\":{\"value\":0.2},\"line_color\":{\"value\":\"#1f77b4\"},\"size\":{\"value\":10},\"x\":{\"field\":\"t\"},\"y\":{\"field\":\"ApproxNashConv\"}},\"id\":\"175061\",\"type\":\"Circle\"},{\"attributes\":{\"line_alpha\":{\"value\":0.2},\"line_width\":{\"value\":5},\"x\":{\"field\":\"x\"},\"y\":{\"field\":\"y\"}},\"id\":\"175067\",\"type\":\"Ray\"},{\"attributes\":{},\"id\":\"175025\",\"type\":\"PanTool\"},{\"attributes\":{},\"id\":\"175028\",\"type\":\"SaveTool\"},{\"attributes\":{\"source\":{\"id\":\"175064\"}},\"id\":\"175069\",\"type\":\"CDSView\"},{\"attributes\":{},\"id\":\"175030\",\"type\":\"HelpTool\"},{\"attributes\":{},\"id\":\"175048\",\"type\":\"BasicTickFormatter\"},{\"attributes\":{},\"id\":\"175029\",\"type\":\"ResetTool\"},{\"attributes\":{\"coordinates\":null,\"group\":null,\"text\":\"Approximate Nash Conv rw_game_2_settle.json\"},\"id\":\"175007\",\"type\":\"Title\"},{\"attributes\":{},\"id\":\"175051\",\"type\":\"BasicTickFormatter\"},{\"attributes\":{},\"id\":\"175026\",\"type\":\"WheelZoomTool\"},{\"attributes\":{},\"id\":\"175049\",\"type\":\"AllLabels\"},{\"attributes\":{},\"id\":\"175022\",\"type\":\"BasicTicker\"},{\"attributes\":{},\"id\":\"175052\",\"type\":\"AllLabels\"},{\"attributes\":{\"coordinates\":null,\"data_source\":{\"id\":\"175039\"},\"glyph\":{\"id\":\"175041\"},\"group\":null,\"hover_glyph\":null,\"muted_glyph\":{\"id\":\"175043\"},\"name\":\"rw_game_2_settle-may13mlphalf-100\",\"nonselection_glyph\":{\"id\":\"175042\"},\"view\":{\"id\":\"175045\"}},\"id\":\"175044\",\"type\":\"GlyphRenderer\"},{\"attributes\":{\"callback\":null,\"tooltips\":[[\"Name\",\"$name\"],[\"(x, y)\",\"($data_x, $data_y)\"]]},\"id\":\"175070\",\"type\":\"HoverTool\"},{\"attributes\":{\"tools\":[{\"id\":\"175025\"},{\"id\":\"175026\"},{\"id\":\"175027\"},{\"id\":\"175028\"},{\"id\":\"175029\"},{\"id\":\"175030\"},{\"id\":\"175070\"}]},\"id\":\"175032\",\"type\":\"Toolbar\"},{\"attributes\":{\"line_alpha\":0.1,\"line_color\":\"#1f77b4\",\"line_width\":3,\"x\":{\"field\":\"t\"},\"y\":{\"field\":\"ApproxNashConv\"}},\"id\":\"175042\",\"type\":\"Line\"},{\"attributes\":{\"line_alpha\":{\"value\":0.1},\"line_width\":{\"value\":5},\"x\":{\"field\":\"x\"},\"y\":{\"field\":\"y\"}},\"id\":\"175066\",\"type\":\"Ray\"},{\"attributes\":{},\"id\":\"175018\",\"type\":\"BasicTicker\"},{\"attributes\":{},\"id\":\"175011\",\"type\":\"DataRange1d\"},{\"attributes\":{\"coordinates\":null,\"data_source\":{\"id\":\"175064\"},\"glyph\":{\"id\":\"175065\"},\"group\":null,\"hover_glyph\":null,\"muted_glyph\":{\"id\":\"175067\"},\"nonselection_glyph\":{\"id\":\"175066\"},\"view\":{\"id\":\"175069\"}},\"id\":\"175068\",\"type\":\"GlyphRenderer\"}],\"root_ids\":[\"175006\"]},\"title\":\"Bokeh Application\",\"version\":\"2.4.2\"}};\n",
       "  const render_items = [{\"docid\":\"44351c72-d551-4a8b-b56a-a874cf85b677\",\"root_ids\":[\"175006\"],\"roots\":{\"175006\":\"6e1f0e61-cf0a-4384-9ce0-b5dceda4d4c8\"}}];\n",
       "  root.Bokeh.embed.embed_items_notebook(docs_json, render_items);\n",
       "\n",
       "  }\n",
       "  if (root.Bokeh !== undefined) {\n",
       "    embed_document(root);\n",
       "  } else {\n",
       "    let attempts = 0;\n",
       "    const timer = setInterval(function(root) {\n",
       "      if (root.Bokeh !== undefined) {\n",
       "        clearInterval(timer);\n",
       "        embed_document(root);\n",
       "      } else {\n",
       "        attempts++;\n",
       "        if (attempts > 100) {\n",
       "          clearInterval(timer);\n",
       "          console.log(\"Bokeh: ERROR: Unable to run BokehJS code because BokehJS library is missing\");\n",
       "        }\n",
       "      }\n",
       "    }, 10, root)\n",
       "  }\n",
       "})(window);"
      ],
      "application/vnd.bokehjs_exec.v0+json": ""
     },
     "metadata": {
      "application/vnd.bokehjs_exec.v0+json": {
       "id": "175006"
      }
     },
     "output_type": "display_data"
    },
    {
     "data": {
      "text/html": [
       "\n",
       "\n",
       "\n",
       "\n",
       "\n",
       "\n",
       "  <div class=\"bk-root\" id=\"c15ac15d-1725-415e-845f-e74121551e0e\" data-root-id=\"175072\"></div>\n"
      ]
     },
     "metadata": {},
     "output_type": "display_data"
    },
    {
     "data": {
      "application/javascript": [
       "(function(root) {\n",
       "  function embed_document(root) {\n",
       "    \n",
       "  const docs_json = {\"5b86e552-b4d9-4e91-a0c0-11cffb21e6cd\":{\"defs\":[],\"roots\":{\"references\":[{\"attributes\":{\"below\":[{\"id\":\"175083\"}],\"center\":[{\"id\":\"175086\"},{\"id\":\"175090\"},{\"id\":\"175122\"}],\"height\":400,\"left\":[{\"id\":\"175087\"}],\"renderers\":[{\"id\":\"175110\"},{\"id\":\"175128\"},{\"id\":\"175134\"}],\"title\":{\"id\":\"175073\"},\"toolbar\":{\"id\":\"175098\"},\"width\":900,\"x_range\":{\"id\":\"175075\"},\"x_scale\":{\"id\":\"175079\"},\"y_range\":{\"id\":\"175077\"},\"y_scale\":{\"id\":\"175081\"}},\"id\":\"175072\",\"subtype\":\"Figure\",\"type\":\"Plot\"},{\"attributes\":{\"line_width\":{\"value\":5},\"x\":{\"field\":\"x\"},\"y\":{\"field\":\"y\"}},\"id\":\"175131\",\"type\":\"Ray\"},{\"attributes\":{\"coordinates\":null,\"data_source\":{\"id\":\"175105\"},\"glyph\":{\"id\":\"175125\"},\"group\":null,\"hover_glyph\":null,\"muted_glyph\":{\"id\":\"175127\"},\"name\":\"rw_game_2_settle_spiteful-may13mlphalf-100\",\"nonselection_glyph\":{\"id\":\"175126\"},\"view\":{\"id\":\"175129\"}},\"id\":\"175128\",\"type\":\"GlyphRenderer\"},{\"attributes\":{\"click_policy\":\"hide\",\"coordinates\":null,\"group\":null,\"items\":[{\"id\":\"175123\"}]},\"id\":\"175122\",\"type\":\"Legend\"},{\"attributes\":{\"coordinates\":null,\"data_source\":{\"id\":\"175130\"},\"glyph\":{\"id\":\"175131\"},\"group\":null,\"hover_glyph\":null,\"muted_glyph\":{\"id\":\"175133\"},\"nonselection_glyph\":{\"id\":\"175132\"},\"view\":{\"id\":\"175135\"}},\"id\":\"175134\",\"type\":\"GlyphRenderer\"},{\"attributes\":{\"fill_color\":{\"value\":\"#1f77b4\"},\"hatch_color\":{\"value\":\"#1f77b4\"},\"line_color\":{\"value\":\"#1f77b4\"},\"size\":{\"value\":10},\"x\":{\"field\":\"t\"},\"y\":{\"field\":\"ApproxNashConv\"}},\"id\":\"175125\",\"type\":\"Circle\"},{\"attributes\":{},\"id\":\"175092\",\"type\":\"WheelZoomTool\"},{\"attributes\":{\"fill_alpha\":{\"value\":0.2},\"fill_color\":{\"value\":\"#1f77b4\"},\"hatch_alpha\":{\"value\":0.2},\"hatch_color\":{\"value\":\"#1f77b4\"},\"line_alpha\":{\"value\":0.2},\"line_color\":{\"value\":\"#1f77b4\"},\"size\":{\"value\":10},\"x\":{\"field\":\"t\"},\"y\":{\"field\":\"ApproxNashConv\"}},\"id\":\"175127\",\"type\":\"Circle\"},{\"attributes\":{\"label\":{\"value\":\"rw_game_2_settle_spiteful-may13mlphalf-100\"},\"renderers\":[{\"id\":\"175110\"}]},\"id\":\"175123\",\"type\":\"LegendItem\"},{\"attributes\":{},\"id\":\"180690\",\"type\":\"UnionRenderers\"},{\"attributes\":{\"fill_alpha\":{\"value\":0.1},\"fill_color\":{\"value\":\"#1f77b4\"},\"hatch_alpha\":{\"value\":0.1},\"hatch_color\":{\"value\":\"#1f77b4\"},\"line_alpha\":{\"value\":0.1},\"line_color\":{\"value\":\"#1f77b4\"},\"size\":{\"value\":10},\"x\":{\"field\":\"t\"},\"y\":{\"field\":\"ApproxNashConv\"}},\"id\":\"175126\",\"type\":\"Circle\"},{\"attributes\":{\"callback\":null,\"tooltips\":[[\"Name\",\"$name\"],[\"(x, y)\",\"($data_x, $data_y)\"]]},\"id\":\"175136\",\"type\":\"HoverTool\"},{\"attributes\":{\"source\":{\"id\":\"175105\"}},\"id\":\"175129\",\"type\":\"CDSView\"},{\"attributes\":{},\"id\":\"180691\",\"type\":\"Selection\"},{\"attributes\":{\"source\":{\"id\":\"175130\"}},\"id\":\"175135\",\"type\":\"CDSView\"},{\"attributes\":{},\"id\":\"175088\",\"type\":\"BasicTicker\"},{\"attributes\":{\"line_alpha\":{\"value\":0.2},\"line_width\":{\"value\":5},\"x\":{\"field\":\"x\"},\"y\":{\"field\":\"y\"}},\"id\":\"175133\",\"type\":\"Ray\"},{\"attributes\":{\"coordinates\":null,\"group\":null,\"text\":\"Approximate Nash Conv rw_game_2_settle_spiteful.json\"},\"id\":\"175073\",\"type\":\"Title\"},{\"attributes\":{},\"id\":\"175091\",\"type\":\"PanTool\"},{\"attributes\":{},\"id\":\"175120\",\"type\":\"Selection\"},{\"attributes\":{},\"id\":\"175079\",\"type\":\"LinearScale\"},{\"attributes\":{\"axis_label\":\"Iteration (M)\",\"coordinates\":null,\"formatter\":{\"id\":\"175117\"},\"group\":null,\"major_label_policy\":{\"id\":\"175118\"},\"ticker\":{\"id\":\"175084\"}},\"id\":\"175083\",\"type\":\"LinearAxis\"},{\"attributes\":{\"overlay\":{\"id\":\"175097\"}},\"id\":\"175093\",\"type\":\"BoxZoomTool\"},{\"attributes\":{\"line_alpha\":{\"value\":0.1},\"line_width\":{\"value\":5},\"x\":{\"field\":\"x\"},\"y\":{\"field\":\"y\"}},\"id\":\"175132\",\"type\":\"Ray\"},{\"attributes\":{\"data\":{\"ApproxNashConv\":{\"__ndarray__\":\"AAAAAAAAAAA=\",\"dtype\":\"float64\",\"order\":\"little\",\"shape\":[1]},\"index\":[0],\"t\":{\"__ndarray__\":\"exSuR+F6lD8=\",\"dtype\":\"float64\",\"order\":\"little\",\"shape\":[1]}},\"selected\":{\"id\":\"175120\"},\"selection_policy\":{\"id\":\"175119\"}},\"id\":\"175105\",\"type\":\"ColumnDataSource\"},{\"attributes\":{},\"id\":\"175094\",\"type\":\"SaveTool\"},{\"attributes\":{},\"id\":\"175084\",\"type\":\"BasicTicker\"},{\"attributes\":{},\"id\":\"175077\",\"type\":\"DataRange1d\"},{\"attributes\":{},\"id\":\"175095\",\"type\":\"ResetTool\"},{\"attributes\":{},\"id\":\"175081\",\"type\":\"LinearScale\"},{\"attributes\":{},\"id\":\"175114\",\"type\":\"BasicTickFormatter\"},{\"attributes\":{\"coordinates\":null,\"data_source\":{\"id\":\"175105\"},\"glyph\":{\"id\":\"175107\"},\"group\":null,\"hover_glyph\":null,\"muted_glyph\":{\"id\":\"175109\"},\"name\":\"rw_game_2_settle_spiteful-may13mlphalf-100\",\"nonselection_glyph\":{\"id\":\"175108\"},\"view\":{\"id\":\"175111\"}},\"id\":\"175110\",\"type\":\"GlyphRenderer\"},{\"attributes\":{\"data\":{\"x\":[0.02],\"y\":[0]},\"selected\":{\"id\":\"180691\"},\"selection_policy\":{\"id\":\"180690\"}},\"id\":\"175130\",\"type\":\"ColumnDataSource\"},{\"attributes\":{\"axis\":{\"id\":\"175083\"},\"coordinates\":null,\"group\":null,\"ticker\":null},\"id\":\"175086\",\"type\":\"Grid\"},{\"attributes\":{},\"id\":\"175115\",\"type\":\"AllLabels\"},{\"attributes\":{},\"id\":\"175075\",\"type\":\"DataRange1d\"},{\"attributes\":{\"axis\":{\"id\":\"175087\"},\"coordinates\":null,\"dimension\":1,\"group\":null,\"ticker\":null},\"id\":\"175090\",\"type\":\"Grid\"},{\"attributes\":{\"bottom_units\":\"screen\",\"coordinates\":null,\"fill_alpha\":0.5,\"fill_color\":\"lightgrey\",\"group\":null,\"left_units\":\"screen\",\"level\":\"overlay\",\"line_alpha\":1.0,\"line_color\":\"black\",\"line_dash\":[4,4],\"line_width\":2,\"right_units\":\"screen\",\"syncable\":false,\"top_units\":\"screen\"},\"id\":\"175097\",\"type\":\"BoxAnnotation\"},{\"attributes\":{},\"id\":\"175117\",\"type\":\"BasicTickFormatter\"},{\"attributes\":{\"line_alpha\":0.1,\"line_color\":\"#1f77b4\",\"line_width\":3,\"x\":{\"field\":\"t\"},\"y\":{\"field\":\"ApproxNashConv\"}},\"id\":\"175108\",\"type\":\"Line\"},{\"attributes\":{\"source\":{\"id\":\"175105\"}},\"id\":\"175111\",\"type\":\"CDSView\"},{\"attributes\":{},\"id\":\"175118\",\"type\":\"AllLabels\"},{\"attributes\":{},\"id\":\"175096\",\"type\":\"HelpTool\"},{\"attributes\":{\"tools\":[{\"id\":\"175091\"},{\"id\":\"175092\"},{\"id\":\"175093\"},{\"id\":\"175094\"},{\"id\":\"175095\"},{\"id\":\"175096\"},{\"id\":\"175136\"}]},\"id\":\"175098\",\"type\":\"Toolbar\"},{\"attributes\":{\"axis_label\":\"Regret\",\"coordinates\":null,\"formatter\":{\"id\":\"175114\"},\"group\":null,\"major_label_policy\":{\"id\":\"175115\"},\"ticker\":{\"id\":\"175088\"}},\"id\":\"175087\",\"type\":\"LinearAxis\"},{\"attributes\":{\"line_color\":\"#1f77b4\",\"line_width\":3,\"x\":{\"field\":\"t\"},\"y\":{\"field\":\"ApproxNashConv\"}},\"id\":\"175107\",\"type\":\"Line\"},{\"attributes\":{\"line_alpha\":0.2,\"line_color\":\"#1f77b4\",\"line_width\":3,\"x\":{\"field\":\"t\"},\"y\":{\"field\":\"ApproxNashConv\"}},\"id\":\"175109\",\"type\":\"Line\"},{\"attributes\":{},\"id\":\"175119\",\"type\":\"UnionRenderers\"}],\"root_ids\":[\"175072\"]},\"title\":\"Bokeh Application\",\"version\":\"2.4.2\"}};\n",
       "  const render_items = [{\"docid\":\"5b86e552-b4d9-4e91-a0c0-11cffb21e6cd\",\"root_ids\":[\"175072\"],\"roots\":{\"175072\":\"c15ac15d-1725-415e-845f-e74121551e0e\"}}];\n",
       "  root.Bokeh.embed.embed_items_notebook(docs_json, render_items);\n",
       "\n",
       "  }\n",
       "  if (root.Bokeh !== undefined) {\n",
       "    embed_document(root);\n",
       "  } else {\n",
       "    let attempts = 0;\n",
       "    const timer = setInterval(function(root) {\n",
       "      if (root.Bokeh !== undefined) {\n",
       "        clearInterval(timer);\n",
       "        embed_document(root);\n",
       "      } else {\n",
       "        attempts++;\n",
       "        if (attempts > 100) {\n",
       "          clearInterval(timer);\n",
       "          console.log(\"Bokeh: ERROR: Unable to run BokehJS code because BokehJS library is missing\");\n",
       "        }\n",
       "      }\n",
       "    }, 10, root)\n",
       "  }\n",
       "})(window);"
      ],
      "application/vnd.bokehjs_exec.v0+json": ""
     },
     "metadata": {
      "application/vnd.bokehjs_exec.v0+json": {
       "id": "175072"
      }
     },
     "output_type": "display_data"
    },
    {
     "data": {
      "text/html": [
       "\n",
       "\n",
       "\n",
       "\n",
       "\n",
       "\n",
       "  <div class=\"bk-root\" id=\"de632c38-c517-43ec-91fc-aaac06844b35\" data-root-id=\"175138\"></div>\n"
      ]
     },
     "metadata": {},
     "output_type": "display_data"
    },
    {
     "data": {
      "application/javascript": [
       "(function(root) {\n",
       "  function embed_document(root) {\n",
       "    \n",
       "  const docs_json = {\"81d4b41f-a86c-4319-a592-184389026d07\":{\"defs\":[],\"roots\":{\"references\":[{\"attributes\":{\"below\":[{\"id\":\"175149\"}],\"center\":[{\"id\":\"175152\"},{\"id\":\"175156\"},{\"id\":\"175190\"}],\"height\":400,\"left\":[{\"id\":\"175153\"}],\"renderers\":[{\"id\":\"175178\"},{\"id\":\"175196\"},{\"id\":\"175215\"},{\"id\":\"175239\"},{\"id\":\"175262\"},{\"id\":\"175287\"},{\"id\":\"175315\"},{\"id\":\"175344\"}],\"title\":{\"id\":\"175139\"},\"toolbar\":{\"id\":\"175164\"},\"width\":900,\"x_range\":{\"id\":\"175141\"},\"x_scale\":{\"id\":\"175145\"},\"y_range\":{\"id\":\"175143\"},\"y_scale\":{\"id\":\"175147\"}},\"id\":\"175138\",\"subtype\":\"Figure\",\"type\":\"Plot\"},{\"attributes\":{\"line_color\":\"red\",\"line_width\":3,\"x\":{\"field\":\"t\"},\"y\":{\"field\":\"ApproxNashConv\"}},\"id\":\"175312\",\"type\":\"Line\"},{\"attributes\":{},\"id\":\"175306\",\"type\":\"UnionRenderers\"},{\"attributes\":{},\"id\":\"175307\",\"type\":\"Selection\"},{\"attributes\":{},\"id\":\"183171\",\"type\":\"UnionRenderers\"},{\"attributes\":{},\"id\":\"175207\",\"type\":\"UnionRenderers\"},{\"attributes\":{},\"id\":\"175208\",\"type\":\"Selection\"},{\"attributes\":{\"data\":{\"ApproxNashConv\":{\"__ndarray__\":\"wFuapZ326z8A2efJ6ZDdPwA2gEi8jss/AKsiAQ5ZwD8AMEO6Cu+0PwAQOTOwRKw/\",\"dtype\":\"float64\",\"order\":\"little\",\"shape\":[6]},\"index\":[0,6,16,18,29,34],\"t\":{\"__ndarray__\":\"je21oPfGsD57FK5H4XqUP3sUrkfheqQ/uB6F61G4rj97FK5H4Xq0P5qZmZmZmbk/\",\"dtype\":\"float64\",\"order\":\"little\",\"shape\":[6]}},\"selected\":{\"id\":\"175337\"},\"selection_policy\":{\"id\":\"175336\"}},\"id\":\"175310\",\"type\":\"ColumnDataSource\"},{\"attributes\":{\"line_alpha\":0.2,\"line_color\":\"green\",\"line_dash\":[6],\"x\":{\"field\":\"t\"},\"y\":{\"field\":\"PositiveRegret\"}},\"id\":\"175195\",\"type\":\"Line\"},{\"attributes\":{},\"id\":\"183172\",\"type\":\"Selection\"},{\"attributes\":{\"label\":{\"value\":\"P0 Straightforward Regret\"},\"renderers\":[{\"id\":\"175196\"}]},\"id\":\"175210\",\"type\":\"LegendItem\"},{\"attributes\":{\"line_alpha\":0.1,\"line_color\":\"red\",\"line_width\":3,\"x\":{\"field\":\"t\"},\"y\":{\"field\":\"ApproxNashConv\"}},\"id\":\"175313\",\"type\":\"Line\"},{\"attributes\":{\"source\":{\"id\":\"175172\"}},\"id\":\"175197\",\"type\":\"CDSView\"},{\"attributes\":{},\"id\":\"175255\",\"type\":\"Selection\"},{\"attributes\":{},\"id\":\"175254\",\"type\":\"UnionRenderers\"},{\"attributes\":{},\"id\":\"175337\",\"type\":\"Selection\"},{\"attributes\":{\"label\":{\"value\":\"Approximate Nash Conv\"},\"renderers\":[{\"id\":\"175315\"}]},\"id\":\"175339\",\"type\":\"LegendItem\"},{\"attributes\":{},\"id\":\"175336\",\"type\":\"UnionRenderers\"},{\"attributes\":{\"coordinates\":null,\"data_source\":{\"id\":\"175233\"},\"glyph\":{\"id\":\"175259\"},\"group\":null,\"hover_glyph\":null,\"muted_glyph\":{\"id\":\"175261\"},\"name\":\"P1 Straightforward Regret\",\"nonselection_glyph\":{\"id\":\"175260\"},\"view\":{\"id\":\"175263\"}},\"id\":\"175262\",\"type\":\"GlyphRenderer\"},{\"attributes\":{\"source\":{\"id\":\"175310\"}},\"id\":\"175316\",\"type\":\"CDSView\"},{\"attributes\":{},\"id\":\"175228\",\"type\":\"UnionRenderers\"},{\"attributes\":{\"line_alpha\":{\"value\":0.1},\"line_width\":{\"value\":5},\"x\":{\"field\":\"x\"},\"y\":{\"field\":\"y\"}},\"id\":\"175342\",\"type\":\"Ray\"},{\"attributes\":{\"label\":{\"value\":\"P1 Approx Regret\"},\"renderers\":[{\"id\":\"175287\"}]},\"id\":\"175309\",\"type\":\"LegendItem\"},{\"attributes\":{\"line_alpha\":0.1,\"line_color\":\"blue\",\"line_dash\":[6],\"x\":{\"field\":\"t\"},\"y\":{\"field\":\"PositiveRegret\"}},\"id\":\"175260\",\"type\":\"Line\"},{\"attributes\":{},\"id\":\"175229\",\"type\":\"Selection\"},{\"attributes\":{\"line_color\":\"blue\",\"line_dash\":[6],\"x\":{\"field\":\"t\"},\"y\":{\"field\":\"PositiveRegret\"}},\"id\":\"175259\",\"type\":\"Line\"},{\"attributes\":{\"line_alpha\":0.2,\"line_color\":\"red\",\"line_width\":3,\"x\":{\"field\":\"t\"},\"y\":{\"field\":\"ApproxNashConv\"}},\"id\":\"175314\",\"type\":\"Line\"},{\"attributes\":{\"line_alpha\":0.2,\"line_color\":\"blue\",\"line_dash\":[6],\"x\":{\"field\":\"t\"},\"y\":{\"field\":\"PositiveRegret\"}},\"id\":\"175261\",\"type\":\"Line\"},{\"attributes\":{},\"id\":\"175279\",\"type\":\"UnionRenderers\"},{\"attributes\":{\"source\":{\"id\":\"175233\"}},\"id\":\"175263\",\"type\":\"CDSView\"},{\"attributes\":{},\"id\":\"175280\",\"type\":\"Selection\"},{\"attributes\":{\"label\":{\"value\":\"P1 Straightforward Regret\"},\"renderers\":[{\"id\":\"175262\"}]},\"id\":\"175282\",\"type\":\"LegendItem\"},{\"attributes\":{\"line_width\":{\"value\":5},\"x\":{\"field\":\"x\"},\"y\":{\"field\":\"y\"}},\"id\":\"175341\",\"type\":\"Ray\"},{\"attributes\":{\"line_alpha\":{\"value\":0.2},\"line_width\":{\"value\":5},\"x\":{\"field\":\"x\"},\"y\":{\"field\":\"y\"}},\"id\":\"175343\",\"type\":\"Ray\"},{\"attributes\":{\"coordinates\":null,\"data_source\":{\"id\":\"175340\"},\"glyph\":{\"id\":\"175341\"},\"group\":null,\"hover_glyph\":null,\"muted_glyph\":{\"id\":\"175343\"},\"nonselection_glyph\":{\"id\":\"175342\"},\"view\":{\"id\":\"175345\"}},\"id\":\"175344\",\"type\":\"GlyphRenderer\"},{\"attributes\":{\"data\":{\"x\":[1e-06],\"y\":[0]},\"selected\":{\"id\":\"183172\"},\"selection_policy\":{\"id\":\"183171\"}},\"id\":\"175340\",\"type\":\"ColumnDataSource\"},{\"attributes\":{\"source\":{\"id\":\"175340\"}},\"id\":\"175345\",\"type\":\"CDSView\"},{\"attributes\":{\"source\":{\"id\":\"175232\"}},\"id\":\"175240\",\"type\":\"CDSView\"},{\"attributes\":{\"callback\":null,\"tooltips\":[[\"Name\",\"$name\"],[\"(x, y)\",\"($data_x, $data_y)\"]]},\"id\":\"175346\",\"type\":\"HoverTool\"},{\"attributes\":{\"line_color\":\"blue\",\"x\":{\"field\":\"t\"},\"y\":{\"field\":\"PositiveRegret\"}},\"id\":\"175236\",\"type\":\"Line\"},{\"attributes\":{\"label\":{\"value\":\"P1 BR Regret\"},\"renderers\":[{\"id\":\"175239\"}]},\"id\":\"175257\",\"type\":\"LegendItem\"},{\"attributes\":{\"coordinates\":null,\"data_source\":{\"id\":\"175234\"},\"glyph\":{\"id\":\"175284\"},\"group\":null,\"hover_glyph\":null,\"muted_glyph\":{\"id\":\"175286\"},\"name\":\"P1 Approx Regret\",\"nonselection_glyph\":{\"id\":\"175285\"},\"view\":{\"id\":\"175288\"}},\"id\":\"175287\",\"type\":\"GlyphRenderer\"},{\"attributes\":{\"line_alpha\":0.1,\"line_color\":\"blue\",\"x\":{\"field\":\"t\"},\"y\":{\"field\":\"PositiveRegret\"}},\"id\":\"175237\",\"type\":\"Line\"},{\"attributes\":{\"line_alpha\":0.2,\"line_color\":\"blue\",\"x\":{\"field\":\"t\"},\"y\":{\"field\":\"PositiveRegret\"}},\"id\":\"175238\",\"type\":\"Line\"},{\"attributes\":{\"line_alpha\":0.1,\"line_color\":\"darkblue\",\"line_width\":2,\"x\":{\"field\":\"t\"},\"y\":{\"field\":\"MaxPositiveRegret\"}},\"id\":\"175285\",\"type\":\"Line\"},{\"attributes\":{\"line_color\":\"darkblue\",\"line_width\":2,\"x\":{\"field\":\"t\"},\"y\":{\"field\":\"MaxPositiveRegret\"}},\"id\":\"175284\",\"type\":\"Line\"},{\"attributes\":{\"line_alpha\":0.2,\"line_color\":\"darkblue\",\"line_width\":2,\"x\":{\"field\":\"t\"},\"y\":{\"field\":\"MaxPositiveRegret\"}},\"id\":\"175286\",\"type\":\"Line\"},{\"attributes\":{\"source\":{\"id\":\"175234\"}},\"id\":\"175288\",\"type\":\"CDSView\"},{\"attributes\":{\"bottom_units\":\"screen\",\"coordinates\":null,\"fill_alpha\":0.5,\"fill_color\":\"lightgrey\",\"group\":null,\"left_units\":\"screen\",\"level\":\"overlay\",\"line_alpha\":1.0,\"line_color\":\"black\",\"line_dash\":[4,4],\"line_width\":2,\"right_units\":\"screen\",\"syncable\":false,\"top_units\":\"screen\"},\"id\":\"175163\",\"type\":\"BoxAnnotation\"},{\"attributes\":{},\"id\":\"175182\",\"type\":\"BasicTickFormatter\"},{\"attributes\":{},\"id\":\"175183\",\"type\":\"AllLabels\"},{\"attributes\":{\"click_policy\":\"hide\",\"coordinates\":null,\"group\":null,\"items\":[{\"id\":\"175191\"},{\"id\":\"175210\"},{\"id\":\"175231\"},{\"id\":\"175257\"},{\"id\":\"175282\"},{\"id\":\"175309\"},{\"id\":\"175339\"}]},\"id\":\"175190\",\"type\":\"Legend\"},{\"attributes\":{},\"id\":\"175185\",\"type\":\"BasicTickFormatter\"},{\"attributes\":{\"line_alpha\":0.1,\"line_color\":\"green\",\"x\":{\"field\":\"t\"},\"y\":{\"field\":\"PositiveRegret\"}},\"id\":\"175176\",\"type\":\"Line\"},{\"attributes\":{},\"id\":\"175186\",\"type\":\"AllLabels\"},{\"attributes\":{},\"id\":\"175187\",\"type\":\"UnionRenderers\"},{\"attributes\":{},\"id\":\"175188\",\"type\":\"Selection\"},{\"attributes\":{\"data\":{\"MaxPositiveRegret\":{\"__ndarray__\":\"AAAAAAAAAAAAAAAAAAAAAAAAAAAAAAAAAAAAAAAAAAAAAAAAAAAAAAAAAAAAAAAA\",\"dtype\":\"float64\",\"order\":\"little\",\"shape\":[6]},\"index\":[0,9,13,18,25,30],\"t\":{\"__ndarray__\":\"je21oPfGsD57FK5H4XqUP3sUrkfheqQ/uB6F61G4rj97FK5H4Xq0P5qZmZmZmbk/\",\"dtype\":\"float64\",\"order\":\"little\",\"shape\":[6]}},\"selected\":{\"id\":\"175229\"},\"selection_policy\":{\"id\":\"175228\"}},\"id\":\"175173\",\"type\":\"ColumnDataSource\"},{\"attributes\":{\"data\":{\"PositiveRegret\":{\"__ndarray__\":\"AAAAAAAAAAAAAAAAAAAAAAAAAAAAAAAAAAAAAAAAAAAAAAAAAAAAAAAAAAAAAAAA\",\"dtype\":\"float64\",\"order\":\"little\",\"shape\":[6]},\"index\":[0,9,12,18,24,30],\"t\":{\"__ndarray__\":\"je21oPfGsD57FK5H4XqUP3sUrkfheqQ/uB6F61G4rj97FK5H4Xq0P5qZmZmZmbk/\",\"dtype\":\"float64\",\"order\":\"little\",\"shape\":[6]}},\"selected\":{\"id\":\"175208\"},\"selection_policy\":{\"id\":\"175207\"}},\"id\":\"175172\",\"type\":\"ColumnDataSource\"},{\"attributes\":{\"source\":{\"id\":\"175171\"}},\"id\":\"175179\",\"type\":\"CDSView\"},{\"attributes\":{\"coordinates\":null,\"data_source\":{\"id\":\"175232\"},\"glyph\":{\"id\":\"175236\"},\"group\":null,\"hover_glyph\":null,\"muted_glyph\":{\"id\":\"175238\"},\"name\":\"P1 BR Regret\",\"nonselection_glyph\":{\"id\":\"175237\"},\"view\":{\"id\":\"175240\"}},\"id\":\"175239\",\"type\":\"GlyphRenderer\"},{\"attributes\":{\"data\":{\"ApproxNashConv\":{\"__ndarray__\":\"wFuapZ326z8A2efJ6ZDdPwA2gEi8jss/AKsiAQ5ZwD8AMEO6Cu+0PwAQOTOwRKw/\",\"dtype\":\"float64\",\"order\":\"little\",\"shape\":[6]},\"Baseline\":{\"__ndarray__\":\"kuF3NGtQVkBnKAvPlWRWQAX2oVlOclZAJTwnNBJ3VkAXef6ip3lWQNVW8TFke1ZA\",\"dtype\":\"float64\",\"order\":\"little\",\"shape\":[6]},\"MaxPositiveRegret\":{\"__ndarray__\":\"AAAAAAAAAAAAAAAAAAAAAAAAAAAAAAAAAAAAAAAAAAAAAAAAAAAAAAAAAAAAAAAA\",\"dtype\":\"float64\",\"order\":\"little\",\"shape\":[6]},\"PositiveRegret\":{\"__ndarray__\":\"AAAAAAAAAAAAAAAAAAAAAAAAAAAAAAAAAAAAAAAAAAAAAAAAAAAAAAAAAAAAAAAA\",\"dtype\":\"float64\",\"order\":\"little\",\"shape\":[6]},\"Regret\":{\"__ndarray__\":\"kLtZ5MZMHMDALHWhpNz7vyzWrIre7D/AfioLNkYVQMAa2i++5sA9wPYO3y/uyz3A\",\"dtype\":\"float64\",\"order\":\"little\",\"shape\":[6]},\"br_player\":[0,0,0,0,0,0],\"game\":[\"rw_game_2_settle.json\",\"rw_game_2_settle.json\",\"rw_game_2_settle.json\",\"rw_game_2_settle.json\",\"rw_game_2_settle.json\",\"rw_game_2_settle.json\"],\"index\":[1,10,13,19,25,31],\"median_length\":{\"__ndarray__\":\"AAAAAAAA+H8AAAAAAAD4fwAAAAAAAPh/AAAAAAAA+H8AAAAAAAD4fwAAAAAAAPh/\",\"dtype\":\"float64\",\"order\":\"little\",\"shape\":[6]},\"model\":[\"rw_game_2_settle-may13mlphalf-100\",\"rw_game_2_settle-may13mlphalf-100\",\"rw_game_2_settle-may13mlphalf-100\",\"rw_game_2_settle-may13mlphalf-100\",\"rw_game_2_settle-may13mlphalf-100\",\"rw_game_2_settle-may13mlphalf-100\"],\"name\":[\"may13/mlphalf\",\"may13/mlphalf\",\"may13/mlphalf\",\"may13/mlphalf\",\"may13/mlphalf\",\"may13/mlphalf\"],\"num_players\":[2,2,2,2,2,2],\"player\":[0,0,0,0,0,0],\"reward\":{\"__ndarray__\":\"2UUyxp6LVEC0U4U8I/VVQPSA7W0t7kxAzE1DMt7YTEAhBeXm2xJOQC8m80vREE5A\",\"dtype\":\"float64\",\"order\":\"little\",\"shape\":[6]},\"t\":{\"__ndarray__\":\"je21oPfGsD57FK5H4XqUP3sUrkfheqQ/uB6F61G4rj97FK5H4Xq0P5qZmZmZmbk/\",\"dtype\":\"float64\",\"order\":\"little\",\"shape\":[6]}},\"selected\":{\"id\":\"175188\"},\"selection_policy\":{\"id\":\"175187\"}},\"id\":\"175171\",\"type\":\"ColumnDataSource\"},{\"attributes\":{\"coordinates\":null,\"data_source\":{\"id\":\"175310\"},\"glyph\":{\"id\":\"175312\"},\"group\":null,\"hover_glyph\":null,\"muted_glyph\":{\"id\":\"175314\"},\"name\":\"Approximate Nash Conv\",\"nonselection_glyph\":{\"id\":\"175313\"},\"view\":{\"id\":\"175316\"}},\"id\":\"175315\",\"type\":\"GlyphRenderer\"},{\"attributes\":{},\"id\":\"175141\",\"type\":\"DataRange1d\"},{\"attributes\":{\"source\":{\"id\":\"175173\"}},\"id\":\"175216\",\"type\":\"CDSView\"},{\"attributes\":{},\"id\":\"175147\",\"type\":\"LinearScale\"},{\"attributes\":{\"data\":{\"PositiveRegret\":{\"__ndarray__\":\"wFuapZ326z8A2efJ6ZDdPwA2gEi8jss/AKsiAQ5ZwD8AMEO6Cu+0PwAQOTOwRKw/\",\"dtype\":\"float64\",\"order\":\"little\",\"shape\":[6]},\"index\":[3,6,15,21,27,33],\"t\":{\"__ndarray__\":\"je21oPfGsD57FK5H4XqUP3sUrkfheqQ/uB6F61G4rj97FK5H4Xq0P5qZmZmZmbk/\",\"dtype\":\"float64\",\"order\":\"little\",\"shape\":[6]}},\"selected\":{\"id\":\"175280\"},\"selection_policy\":{\"id\":\"175279\"}},\"id\":\"175233\",\"type\":\"ColumnDataSource\"},{\"attributes\":{\"coordinates\":null,\"group\":null,\"text\":\"rw_game_2_settle-may13mlphalf-100 Approximate Nash Conv\"},\"id\":\"175139\",\"type\":\"Title\"},{\"attributes\":{\"axis_label\":\"Regret\",\"coordinates\":null,\"formatter\":{\"id\":\"175182\"},\"group\":null,\"major_label_policy\":{\"id\":\"175183\"},\"ticker\":{\"id\":\"175154\"}},\"id\":\"175153\",\"type\":\"LinearAxis\"},{\"attributes\":{},\"id\":\"175143\",\"type\":\"DataRange1d\"},{\"attributes\":{\"line_color\":\"green\",\"x\":{\"field\":\"t\"},\"y\":{\"field\":\"PositiveRegret\"}},\"id\":\"175175\",\"type\":\"Line\"},{\"attributes\":{},\"id\":\"175150\",\"type\":\"BasicTicker\"},{\"attributes\":{\"axis\":{\"id\":\"175149\"},\"coordinates\":null,\"group\":null,\"ticker\":null},\"id\":\"175152\",\"type\":\"Grid\"},{\"attributes\":{},\"id\":\"175145\",\"type\":\"LinearScale\"},{\"attributes\":{\"label\":{\"value\":\"P0 Approx Regret\"},\"renderers\":[{\"id\":\"175215\"}]},\"id\":\"175231\",\"type\":\"LegendItem\"},{\"attributes\":{\"axis_label\":\"Iteration (M)\",\"coordinates\":null,\"formatter\":{\"id\":\"175185\"},\"group\":null,\"major_label_policy\":{\"id\":\"175186\"},\"ticker\":{\"id\":\"175150\"}},\"id\":\"175149\",\"type\":\"LinearAxis\"},{\"attributes\":{\"line_alpha\":0.2,\"line_color\":\"green\",\"x\":{\"field\":\"t\"},\"y\":{\"field\":\"PositiveRegret\"}},\"id\":\"175177\",\"type\":\"Line\"},{\"attributes\":{},\"id\":\"175162\",\"type\":\"HelpTool\"},{\"attributes\":{\"coordinates\":null,\"data_source\":{\"id\":\"175173\"},\"glyph\":{\"id\":\"175212\"},\"group\":null,\"hover_glyph\":null,\"muted_glyph\":{\"id\":\"175214\"},\"name\":\"P0 Approx Regret\",\"nonselection_glyph\":{\"id\":\"175213\"},\"view\":{\"id\":\"175216\"}},\"id\":\"175215\",\"type\":\"GlyphRenderer\"},{\"attributes\":{\"coordinates\":null,\"data_source\":{\"id\":\"175171\"},\"glyph\":{\"id\":\"175175\"},\"group\":null,\"hover_glyph\":null,\"muted_glyph\":{\"id\":\"175177\"},\"name\":\"P0 BR Regret\",\"nonselection_glyph\":{\"id\":\"175176\"},\"view\":{\"id\":\"175179\"}},\"id\":\"175178\",\"type\":\"GlyphRenderer\"},{\"attributes\":{\"line_color\":\"darkgreen\",\"line_width\":2,\"x\":{\"field\":\"t\"},\"y\":{\"field\":\"MaxPositiveRegret\"}},\"id\":\"175212\",\"type\":\"Line\"},{\"attributes\":{\"label\":{\"value\":\"P0 BR Regret\"},\"renderers\":[{\"id\":\"175178\"}]},\"id\":\"175191\",\"type\":\"LegendItem\"},{\"attributes\":{\"axis\":{\"id\":\"175153\"},\"coordinates\":null,\"dimension\":1,\"group\":null,\"ticker\":null},\"id\":\"175156\",\"type\":\"Grid\"},{\"attributes\":{\"coordinates\":null,\"data_source\":{\"id\":\"175172\"},\"glyph\":{\"id\":\"175193\"},\"group\":null,\"hover_glyph\":null,\"muted_glyph\":{\"id\":\"175195\"},\"name\":\"P0 Straightforward Regret\",\"nonselection_glyph\":{\"id\":\"175194\"},\"view\":{\"id\":\"175197\"}},\"id\":\"175196\",\"type\":\"GlyphRenderer\"},{\"attributes\":{},\"id\":\"175154\",\"type\":\"BasicTicker\"},{\"attributes\":{\"line_alpha\":0.2,\"line_color\":\"darkgreen\",\"line_width\":2,\"x\":{\"field\":\"t\"},\"y\":{\"field\":\"MaxPositiveRegret\"}},\"id\":\"175214\",\"type\":\"Line\"},{\"attributes\":{\"data\":{\"MaxPositiveRegret\":{\"__ndarray__\":\"wFuapZ326z8A2efJ6ZDdPwA2gEi8jss/AKsiAQ5ZwD8AMEO6Cu+0PwAQOTOwRKw/\",\"dtype\":\"float64\",\"order\":\"little\",\"shape\":[6]},\"index\":[3,6,16,21,28,34],\"t\":{\"__ndarray__\":\"je21oPfGsD57FK5H4XqUP3sUrkfheqQ/uB6F61G4rj97FK5H4Xq0P5qZmZmZmbk/\",\"dtype\":\"float64\",\"order\":\"little\",\"shape\":[6]}},\"selected\":{\"id\":\"175307\"},\"selection_policy\":{\"id\":\"175306\"}},\"id\":\"175234\",\"type\":\"ColumnDataSource\"},{\"attributes\":{\"tools\":[{\"id\":\"175157\"},{\"id\":\"175158\"},{\"id\":\"175159\"},{\"id\":\"175160\"},{\"id\":\"175161\"},{\"id\":\"175162\"},{\"id\":\"175346\"}]},\"id\":\"175164\",\"type\":\"Toolbar\"},{\"attributes\":{\"line_alpha\":0.1,\"line_color\":\"green\",\"line_dash\":[6],\"x\":{\"field\":\"t\"},\"y\":{\"field\":\"PositiveRegret\"}},\"id\":\"175194\",\"type\":\"Line\"},{\"attributes\":{},\"id\":\"175158\",\"type\":\"WheelZoomTool\"},{\"attributes\":{\"line_alpha\":0.1,\"line_color\":\"darkgreen\",\"line_width\":2,\"x\":{\"field\":\"t\"},\"y\":{\"field\":\"MaxPositiveRegret\"}},\"id\":\"175213\",\"type\":\"Line\"},{\"attributes\":{\"line_color\":\"green\",\"line_dash\":[6],\"x\":{\"field\":\"t\"},\"y\":{\"field\":\"PositiveRegret\"}},\"id\":\"175193\",\"type\":\"Line\"},{\"attributes\":{\"data\":{\"ApproxNashConv\":{\"__ndarray__\":\"wFuapZ326z8A2efJ6ZDdPwA2gEi8jss/AKsiAQ5ZwD8AMEO6Cu+0PwAQOTOwRKw/\",\"dtype\":\"float64\",\"order\":\"little\",\"shape\":[6]},\"Baseline\":{\"__ndarray__\":\"IsPvaNagQUDNUBaeK8lBQAvsQ7Oc5EFASnhOaCTuQUAs8vxFT/NBQKmt4mPI9kFA\",\"dtype\":\"float64\",\"order\":\"little\",\"shape\":[6]},\"MaxPositiveRegret\":{\"__ndarray__\":\"wFuapZ326z8A2efJ6ZDdPwA2gEi8jss/AKsiAQ5ZwD8AMEO6Cu+0PwAQOTOwRKw/\",\"dtype\":\"float64\",\"order\":\"little\",\"shape\":[6]},\"PositiveRegret\":{\"__ndarray__\":\"AAAAAAAAAAAAAAAAAAAAAAAAAAAAAAAAAAAAAAAAAAAAAAAAAAAAAAAAAAAAAAAA\",\"dtype\":\"float64\",\"order\":\"little\",\"shape\":[6]},\"Regret\":{\"__ndarray__\":\"gJJ8IxDM0L8AhDb4+cjNvwCZ+nrNUc6/AK980T8Owb8AlkH7A2+2vwDoi8r4gb+/\",\"dtype\":\"float64\",\"order\":\"little\",\"shape\":[6]},\"br_player\":[1,1,1,1,1,1],\"game\":[\"rw_game_2_settle.json\",\"rw_game_2_settle.json\",\"rw_game_2_settle.json\",\"rw_game_2_settle.json\",\"rw_game_2_settle.json\",\"rw_game_2_settle.json\"],\"index\":[4,7,16,22,28,34],\"median_length\":{\"__ndarray__\":\"AAAAAAAA+H8AAAAAAAD4fwAAAAAAAPh/AAAAAAAA+H8AAAAAAAD4fwAAAAAAAPh/\",\"dtype\":\"float64\",\"order\":\"little\",\"shape\":[6]},\"model\":[\"rw_game_2_settle-may13mlphalf-100\",\"rw_game_2_settle-may13mlphalf-100\",\"rw_game_2_settle-may13mlphalf-100\",\"rw_game_2_settle-may13mlphalf-100\",\"rw_game_2_settle-may13mlphalf-100\",\"rw_game_2_settle-may13mlphalf-100\"],\"name\":[\"may13/mlphalf\",\"may13/mlphalf\",\"may13/mlphalf\",\"may13/mlphalf\",\"may13/mlphalf\",\"may13/mlphalf\"],\"num_players\":[2,2,2,2,2,2],\"player\":[1,1,1,1,1,1],\"reward\":{\"__ndarray__\":\"/cmoSD5/QUBJGh6kYqtBQHLxyOVKxkFAm/t8KBbdQUBhUf/DF+hBQLVnfWcH50FA\",\"dtype\":\"float64\",\"order\":\"little\",\"shape\":[6]},\"t\":{\"__ndarray__\":\"je21oPfGsD57FK5H4XqUP3sUrkfheqQ/uB6F61G4rj97FK5H4Xq0P5qZmZmZmbk/\",\"dtype\":\"float64\",\"order\":\"little\",\"shape\":[6]}},\"selected\":{\"id\":\"175255\"},\"selection_policy\":{\"id\":\"175254\"}},\"id\":\"175232\",\"type\":\"ColumnDataSource\"},{\"attributes\":{},\"id\":\"175157\",\"type\":\"PanTool\"},{\"attributes\":{\"overlay\":{\"id\":\"175163\"}},\"id\":\"175159\",\"type\":\"BoxZoomTool\"},{\"attributes\":{},\"id\":\"175160\",\"type\":\"SaveTool\"},{\"attributes\":{},\"id\":\"175161\",\"type\":\"ResetTool\"}],\"root_ids\":[\"175138\"]},\"title\":\"Bokeh Application\",\"version\":\"2.4.2\"}};\n",
       "  const render_items = [{\"docid\":\"81d4b41f-a86c-4319-a592-184389026d07\",\"root_ids\":[\"175138\"],\"roots\":{\"175138\":\"de632c38-c517-43ec-91fc-aaac06844b35\"}}];\n",
       "  root.Bokeh.embed.embed_items_notebook(docs_json, render_items);\n",
       "\n",
       "  }\n",
       "  if (root.Bokeh !== undefined) {\n",
       "    embed_document(root);\n",
       "  } else {\n",
       "    let attempts = 0;\n",
       "    const timer = setInterval(function(root) {\n",
       "      if (root.Bokeh !== undefined) {\n",
       "        clearInterval(timer);\n",
       "        embed_document(root);\n",
       "      } else {\n",
       "        attempts++;\n",
       "        if (attempts > 100) {\n",
       "          clearInterval(timer);\n",
       "          console.log(\"Bokeh: ERROR: Unable to run BokehJS code because BokehJS library is missing\");\n",
       "        }\n",
       "      }\n",
       "    }, 10, root)\n",
       "  }\n",
       "})(window);"
      ],
      "application/vnd.bokehjs_exec.v0+json": ""
     },
     "metadata": {
      "application/vnd.bokehjs_exec.v0+json": {
       "id": "175138"
      }
     },
     "output_type": "display_data"
    },
    {
     "data": {
      "text/html": [
       "\n",
       "\n",
       "\n",
       "\n",
       "\n",
       "\n",
       "  <div class=\"bk-root\" id=\"040a4125-be49-4897-b158-58518d1b05b1\" data-root-id=\"175348\"></div>\n"
      ]
     },
     "metadata": {},
     "output_type": "display_data"
    },
    {
     "data": {
      "application/javascript": [
       "(function(root) {\n",
       "  function embed_document(root) {\n",
       "    \n",
       "  const docs_json = {\"f9541344-b7c0-492a-bb80-510dab986625\":{\"defs\":[],\"roots\":{\"references\":[{\"attributes\":{\"below\":[{\"id\":\"175359\"}],\"center\":[{\"id\":\"175362\"},{\"id\":\"175366\"},{\"id\":\"175403\"}],\"extra_y_ranges\":{\"rounds\":{\"id\":\"175381\"}},\"height\":400,\"left\":[{\"id\":\"175363\"}],\"renderers\":[{\"id\":\"175388\"},{\"id\":\"175409\"},{\"id\":\"175416\"},{\"id\":\"175438\"},{\"id\":\"175445\"},{\"id\":\"175470\"}],\"right\":[{\"id\":\"175382\"}],\"title\":{\"id\":\"175349\"},\"toolbar\":{\"id\":\"175374\"},\"width\":900,\"x_range\":{\"id\":\"175351\"},\"x_scale\":{\"id\":\"175355\"},\"y_range\":{\"id\":\"175353\"},\"y_scale\":{\"id\":\"175357\"}},\"id\":\"175348\",\"subtype\":\"Figure\",\"type\":\"Plot\"},{\"attributes\":{},\"id\":\"175367\",\"type\":\"PanTool\"},{\"attributes\":{\"label\":{\"value\":\"Reward 1\"},\"renderers\":[{\"id\":\"175416\"}]},\"id\":\"175433\",\"type\":\"LegendItem\"},{\"attributes\":{},\"id\":\"175368\",\"type\":\"WheelZoomTool\"},{\"attributes\":{\"line_alpha\":0.2,\"line_color\":\"blue\",\"x\":{\"field\":\"t\"},\"y\":{\"field\":\"reward\"}},\"id\":\"175415\",\"type\":\"Line\"},{\"attributes\":{\"coordinates\":null,\"data_source\":{\"id\":\"175440\"},\"glyph\":{\"id\":\"175442\"},\"group\":null,\"hover_glyph\":null,\"muted_glyph\":{\"id\":\"175444\"},\"name\":\"Total Reward\",\"nonselection_glyph\":{\"id\":\"175443\"},\"view\":{\"id\":\"175446\"}},\"id\":\"175445\",\"type\":\"GlyphRenderer\"},{\"attributes\":{\"line_alpha\":0.2,\"line_color\":\"red\",\"x\":{\"field\":\"t\"},\"y\":{\"field\":\"reward\"}},\"id\":\"175444\",\"type\":\"Line\"},{\"attributes\":{},\"id\":\"175370\",\"type\":\"SaveTool\"},{\"attributes\":{\"line_alpha\":0.1,\"line_color\":\"blue\",\"x\":{\"field\":\"t\"},\"y\":{\"field\":\"reward\"}},\"id\":\"175414\",\"type\":\"Line\"},{\"attributes\":{\"overlay\":{\"id\":\"175373\"}},\"id\":\"175369\",\"type\":\"BoxZoomTool\"},{\"attributes\":{\"data\":{\"index\":[5,8,17,23,29,35],\"reward\":{\"__ndarray__\":\"IsPvaNagQUDNUBaeK8lBQAvsQ7Oc5EFASnhOaCTuQUAs8vxFT/NBQKmt4mPI9kFA\",\"dtype\":\"float64\",\"order\":\"little\",\"shape\":[6]},\"t\":{\"__ndarray__\":\"je21oPfGsD57FK5H4XqUP3sUrkfheqQ/uB6F61G4rj97FK5H4Xq0P5qZmZmZmbk/\",\"dtype\":\"float64\",\"order\":\"little\",\"shape\":[6]}},\"selected\":{\"id\":\"175431\"},\"selection_policy\":{\"id\":\"175430\"}},\"id\":\"175411\",\"type\":\"ColumnDataSource\"},{\"attributes\":{},\"id\":\"175371\",\"type\":\"ResetTool\"},{\"attributes\":{},\"id\":\"175372\",\"type\":\"HelpTool\"},{\"attributes\":{\"data\":{\"reward\":{\"__ndarray__\":\"I8PvaNYgX0DOUBaeK0lfQArsQ7OcZF9ASnhOaCRuX0At8vxFT3NfQKqt4mPIdl9A\",\"dtype\":\"float64\",\"order\":\"little\",\"shape\":[6]},\"t\":{\"__ndarray__\":\"je21oPfGsD57FK5H4XqUP3sUrkfheqQ/uB6F61G4rj97FK5H4Xq0P5qZmZmZmbk/\",\"dtype\":\"float64\",\"order\":\"little\",\"shape\":[6]}},\"selected\":{\"id\":\"175462\"},\"selection_policy\":{\"id\":\"175461\"}},\"id\":\"175440\",\"type\":\"ColumnDataSource\"},{\"attributes\":{\"axis\":{\"id\":\"175363\"},\"coordinates\":null,\"dimension\":1,\"group\":null,\"ticker\":null},\"id\":\"175366\",\"type\":\"Grid\"},{\"attributes\":{\"line_color\":\"red\",\"x\":{\"field\":\"t\"},\"y\":{\"field\":\"reward\"}},\"id\":\"175442\",\"type\":\"Line\"},{\"attributes\":{\"bottom_units\":\"screen\",\"coordinates\":null,\"fill_alpha\":0.5,\"fill_color\":\"lightgrey\",\"group\":null,\"left_units\":\"screen\",\"level\":\"overlay\",\"line_alpha\":1.0,\"line_color\":\"black\",\"line_dash\":[4,4],\"line_width\":2,\"right_units\":\"screen\",\"syncable\":false,\"top_units\":\"screen\"},\"id\":\"175373\",\"type\":\"BoxAnnotation\"},{\"attributes\":{\"coordinates\":null,\"data_source\":{\"id\":\"175411\"},\"glyph\":{\"id\":\"175435\"},\"group\":null,\"hover_glyph\":null,\"muted_glyph\":{\"id\":\"175437\"},\"name\":\"rw_game_2_settle-may13mlphalf-100\",\"nonselection_glyph\":{\"id\":\"175436\"},\"view\":{\"id\":\"175439\"}},\"id\":\"175438\",\"type\":\"GlyphRenderer\"},{\"attributes\":{},\"id\":\"175401\",\"type\":\"Selection\"},{\"attributes\":{},\"id\":\"175461\",\"type\":\"UnionRenderers\"},{\"attributes\":{\"line_color\":\"blue\",\"x\":{\"field\":\"t\"},\"y\":{\"field\":\"reward\"}},\"id\":\"175413\",\"type\":\"Line\"},{\"attributes\":{},\"id\":\"175462\",\"type\":\"Selection\"},{\"attributes\":{\"source\":{\"id\":\"175440\"}},\"id\":\"175446\",\"type\":\"CDSView\"},{\"attributes\":{\"axis_label\":\"Rounds\",\"coordinates\":null,\"formatter\":{\"id\":\"175395\"},\"group\":null,\"major_label_policy\":{\"id\":\"175396\"},\"ticker\":{\"id\":\"175394\"},\"y_range_name\":\"rounds\"},\"id\":\"175382\",\"type\":\"LinearAxis\"},{\"attributes\":{},\"id\":\"175430\",\"type\":\"UnionRenderers\"},{\"attributes\":{\"source\":{\"id\":\"175411\"}},\"id\":\"175417\",\"type\":\"CDSView\"},{\"attributes\":{\"tools\":[{\"id\":\"175367\"},{\"id\":\"175368\"},{\"id\":\"175369\"},{\"id\":\"175370\"},{\"id\":\"175371\"},{\"id\":\"175372\"},{\"id\":\"175492\"}]},\"id\":\"175374\",\"type\":\"Toolbar\"},{\"attributes\":{\"line_color\":\"green\",\"x\":{\"field\":\"t\"},\"y\":{\"field\":\"reward\"}},\"id\":\"175385\",\"type\":\"Line\"},{\"attributes\":{\"line_alpha\":0.2,\"line_color\":\"green\",\"x\":{\"field\":\"t\"},\"y\":{\"field\":\"reward\"}},\"id\":\"175387\",\"type\":\"Line\"},{\"attributes\":{},\"id\":\"175431\",\"type\":\"Selection\"},{\"attributes\":{\"label\":{\"value\":\"Reward 0\"},\"renderers\":[{\"id\":\"175388\"}]},\"id\":\"175404\",\"type\":\"LegendItem\"},{\"attributes\":{\"source\":{\"id\":\"175383\"}},\"id\":\"175389\",\"type\":\"CDSView\"},{\"attributes\":{\"line_alpha\":0.2,\"line_dash\":[6],\"x\":{\"field\":\"t\"},\"y\":{\"field\":\"length\"}},\"id\":\"175469\",\"type\":\"Line\"},{\"attributes\":{\"line_dash\":[6],\"x\":{\"field\":\"t\"},\"y\":{\"field\":\"length\"}},\"id\":\"175467\",\"type\":\"Line\"},{\"attributes\":{\"end\":50},\"id\":\"175381\",\"type\":\"Range1d\"},{\"attributes\":{\"click_policy\":\"hide\",\"coordinates\":null,\"group\":null,\"items\":[{\"id\":\"175404\"},{\"id\":\"175433\"},{\"id\":\"175464\"},{\"id\":\"175491\"}]},\"id\":\"175403\",\"type\":\"Legend\"},{\"attributes\":{\"coordinates\":null,\"data_source\":{\"id\":\"175383\"},\"glyph\":{\"id\":\"175385\"},\"group\":null,\"hover_glyph\":null,\"muted_glyph\":{\"id\":\"175387\"},\"name\":\"Reward 0\",\"nonselection_glyph\":{\"id\":\"175386\"},\"view\":{\"id\":\"175389\"}},\"id\":\"175388\",\"type\":\"GlyphRenderer\"},{\"attributes\":{},\"id\":\"175489\",\"type\":\"Selection\"},{\"attributes\":{\"data\":{\"length\":{\"__ndarray__\":\"AAAAAAAAAEAAAAAAAAAAQAAAAAAAAABAAAAAAAAAAEAAAAAAAAAAQAAAAAAAAABA\",\"dtype\":\"float64\",\"order\":\"little\",\"shape\":[6]},\"t\":{\"__ndarray__\":\"je21oPfGsD57FK5H4XqUP3sUrkfheqQ/uB6F61G4rj97FK5H4Xq0P5qZmZmZmbk/\",\"dtype\":\"float64\",\"order\":\"little\",\"shape\":[6]}},\"selected\":{\"id\":\"175489\"},\"selection_policy\":{\"id\":\"175488\"}},\"id\":\"175465\",\"type\":\"ColumnDataSource\"},{\"attributes\":{\"source\":{\"id\":\"175465\"}},\"id\":\"175471\",\"type\":\"CDSView\"},{\"attributes\":{\"line_alpha\":0.1,\"line_dash\":[6],\"x\":{\"field\":\"t\"},\"y\":{\"field\":\"length\"}},\"id\":\"175468\",\"type\":\"Line\"},{\"attributes\":{},\"id\":\"175364\",\"type\":\"BasicTicker\"},{\"attributes\":{},\"id\":\"175400\",\"type\":\"UnionRenderers\"},{\"attributes\":{\"coordinates\":null,\"group\":null,\"text\":\"Utility rw_game_2_settle.json rw_game_2_settle-may13mlphalf-100\"},\"id\":\"175349\",\"type\":\"Title\"},{\"attributes\":{},\"id\":\"175353\",\"type\":\"DataRange1d\"},{\"attributes\":{\"label\":{\"value\":\"Median Length\"},\"renderers\":[{\"id\":\"175470\"}]},\"id\":\"175491\",\"type\":\"LegendItem\"},{\"attributes\":{},\"id\":\"175357\",\"type\":\"LinearScale\"},{\"attributes\":{\"callback\":null,\"tooltips\":[[\"Name\",\"$name\"],[\"(x, y)\",\"($data_x, $data_y)\"]]},\"id\":\"175492\",\"type\":\"HoverTool\"},{\"attributes\":{\"source\":{\"id\":\"175411\"}},\"id\":\"175439\",\"type\":\"CDSView\"},{\"attributes\":{},\"id\":\"175360\",\"type\":\"BasicTicker\"},{\"attributes\":{\"coordinates\":null,\"data_source\":{\"id\":\"175465\"},\"glyph\":{\"id\":\"175467\"},\"group\":null,\"hover_glyph\":null,\"muted_glyph\":{\"id\":\"175469\"},\"name\":\"Median Length\",\"nonselection_glyph\":{\"id\":\"175468\"},\"view\":{\"id\":\"175471\"},\"y_range_name\":\"rounds\"},\"id\":\"175470\",\"type\":\"GlyphRenderer\"},{\"attributes\":{\"line_alpha\":0.1,\"line_color\":\"green\",\"x\":{\"field\":\"t\"},\"y\":{\"field\":\"reward\"}},\"id\":\"175386\",\"type\":\"Line\"},{\"attributes\":{},\"id\":\"175351\",\"type\":\"DataRange1d\"},{\"attributes\":{\"fill_color\":{\"value\":\"blue\"},\"hatch_color\":{\"value\":\"blue\"},\"line_color\":{\"value\":\"blue\"},\"size\":{\"value\":10},\"x\":{\"field\":\"t\"},\"y\":{\"field\":\"reward\"}},\"id\":\"175435\",\"type\":\"Circle\"},{\"attributes\":{},\"id\":\"175488\",\"type\":\"UnionRenderers\"},{\"attributes\":{\"axis\":{\"id\":\"175359\"},\"coordinates\":null,\"group\":null,\"ticker\":null},\"id\":\"175362\",\"type\":\"Grid\"},{\"attributes\":{\"fill_alpha\":{\"value\":0.2},\"fill_color\":{\"value\":\"blue\"},\"hatch_alpha\":{\"value\":0.2},\"hatch_color\":{\"value\":\"blue\"},\"line_alpha\":{\"value\":0.2},\"line_color\":{\"value\":\"blue\"},\"size\":{\"value\":10},\"x\":{\"field\":\"t\"},\"y\":{\"field\":\"reward\"}},\"id\":\"175437\",\"type\":\"Circle\"},{\"attributes\":{},\"id\":\"175355\",\"type\":\"LinearScale\"},{\"attributes\":{\"line_alpha\":0.1,\"line_color\":\"red\",\"x\":{\"field\":\"t\"},\"y\":{\"field\":\"reward\"}},\"id\":\"175443\",\"type\":\"Line\"},{\"attributes\":{\"axis_label\":\"Iteration (M)\",\"coordinates\":null,\"formatter\":{\"id\":\"175398\"},\"group\":null,\"major_label_policy\":{\"id\":\"175399\"},\"ticker\":{\"id\":\"175360\"}},\"id\":\"175359\",\"type\":\"LinearAxis\"},{\"attributes\":{\"fill_alpha\":{\"value\":0.1},\"fill_color\":{\"value\":\"blue\"},\"hatch_alpha\":{\"value\":0.1},\"hatch_color\":{\"value\":\"blue\"},\"line_alpha\":{\"value\":0.1},\"line_color\":{\"value\":\"blue\"},\"size\":{\"value\":10},\"x\":{\"field\":\"t\"},\"y\":{\"field\":\"reward\"}},\"id\":\"175436\",\"type\":\"Circle\"},{\"attributes\":{\"axis_label\":\"Reward\",\"coordinates\":null,\"formatter\":{\"id\":\"175392\"},\"group\":null,\"major_label_policy\":{\"id\":\"175393\"},\"ticker\":{\"id\":\"175364\"}},\"id\":\"175363\",\"type\":\"LinearAxis\"},{\"attributes\":{},\"id\":\"175392\",\"type\":\"BasicTickFormatter\"},{\"attributes\":{},\"id\":\"175393\",\"type\":\"AllLabels\"},{\"attributes\":{},\"id\":\"175394\",\"type\":\"BasicTicker\"},{\"attributes\":{},\"id\":\"175395\",\"type\":\"BasicTickFormatter\"},{\"attributes\":{},\"id\":\"175396\",\"type\":\"AllLabels\"},{\"attributes\":{},\"id\":\"175398\",\"type\":\"BasicTickFormatter\"},{\"attributes\":{},\"id\":\"175399\",\"type\":\"AllLabels\"},{\"attributes\":{\"data\":{\"index\":[2,11,14,20,26,32],\"reward\":{\"__ndarray__\":\"kuF3NGtQVkBnKAvPlWRWQAX2oVlOclZAJTwnNBJ3VkAXef6ip3lWQNVW8TFke1ZA\",\"dtype\":\"float64\",\"order\":\"little\",\"shape\":[6]},\"t\":{\"__ndarray__\":\"je21oPfGsD57FK5H4XqUP3sUrkfheqQ/uB6F61G4rj97FK5H4Xq0P5qZmZmZmbk/\",\"dtype\":\"float64\",\"order\":\"little\",\"shape\":[6]}},\"selected\":{\"id\":\"175401\"},\"selection_policy\":{\"id\":\"175400\"}},\"id\":\"175383\",\"type\":\"ColumnDataSource\"},{\"attributes\":{\"label\":{\"value\":\"Total Reward\"},\"renderers\":[{\"id\":\"175445\"}]},\"id\":\"175464\",\"type\":\"LegendItem\"},{\"attributes\":{\"coordinates\":null,\"data_source\":{\"id\":\"175411\"},\"glyph\":{\"id\":\"175413\"},\"group\":null,\"hover_glyph\":null,\"muted_glyph\":{\"id\":\"175415\"},\"name\":\"Reward 1\",\"nonselection_glyph\":{\"id\":\"175414\"},\"view\":{\"id\":\"175417\"}},\"id\":\"175416\",\"type\":\"GlyphRenderer\"},{\"attributes\":{\"fill_color\":{\"value\":\"green\"},\"hatch_color\":{\"value\":\"green\"},\"line_color\":{\"value\":\"green\"},\"size\":{\"value\":10},\"x\":{\"field\":\"t\"},\"y\":{\"field\":\"reward\"}},\"id\":\"175406\",\"type\":\"Circle\"},{\"attributes\":{\"fill_alpha\":{\"value\":0.2},\"fill_color\":{\"value\":\"green\"},\"hatch_alpha\":{\"value\":0.2},\"hatch_color\":{\"value\":\"green\"},\"line_alpha\":{\"value\":0.2},\"line_color\":{\"value\":\"green\"},\"size\":{\"value\":10},\"x\":{\"field\":\"t\"},\"y\":{\"field\":\"reward\"}},\"id\":\"175408\",\"type\":\"Circle\"},{\"attributes\":{\"fill_alpha\":{\"value\":0.1},\"fill_color\":{\"value\":\"green\"},\"hatch_alpha\":{\"value\":0.1},\"hatch_color\":{\"value\":\"green\"},\"line_alpha\":{\"value\":0.1},\"line_color\":{\"value\":\"green\"},\"size\":{\"value\":10},\"x\":{\"field\":\"t\"},\"y\":{\"field\":\"reward\"}},\"id\":\"175407\",\"type\":\"Circle\"},{\"attributes\":{\"source\":{\"id\":\"175383\"}},\"id\":\"175410\",\"type\":\"CDSView\"},{\"attributes\":{\"coordinates\":null,\"data_source\":{\"id\":\"175383\"},\"glyph\":{\"id\":\"175406\"},\"group\":null,\"hover_glyph\":null,\"muted_glyph\":{\"id\":\"175408\"},\"name\":\"rw_game_2_settle-may13mlphalf-100\",\"nonselection_glyph\":{\"id\":\"175407\"},\"view\":{\"id\":\"175410\"}},\"id\":\"175409\",\"type\":\"GlyphRenderer\"}],\"root_ids\":[\"175348\"]},\"title\":\"Bokeh Application\",\"version\":\"2.4.2\"}};\n",
       "  const render_items = [{\"docid\":\"f9541344-b7c0-492a-bb80-510dab986625\",\"root_ids\":[\"175348\"],\"roots\":{\"175348\":\"040a4125-be49-4897-b158-58518d1b05b1\"}}];\n",
       "  root.Bokeh.embed.embed_items_notebook(docs_json, render_items);\n",
       "\n",
       "  }\n",
       "  if (root.Bokeh !== undefined) {\n",
       "    embed_document(root);\n",
       "  } else {\n",
       "    let attempts = 0;\n",
       "    const timer = setInterval(function(root) {\n",
       "      if (root.Bokeh !== undefined) {\n",
       "        clearInterval(timer);\n",
       "        embed_document(root);\n",
       "      } else {\n",
       "        attempts++;\n",
       "        if (attempts > 100) {\n",
       "          clearInterval(timer);\n",
       "          console.log(\"Bokeh: ERROR: Unable to run BokehJS code because BokehJS library is missing\");\n",
       "        }\n",
       "      }\n",
       "    }, 10, root)\n",
       "  }\n",
       "})(window);"
      ],
      "application/vnd.bokehjs_exec.v0+json": ""
     },
     "metadata": {
      "application/vnd.bokehjs_exec.v0+json": {
       "id": "175348"
      }
     },
     "output_type": "display_data"
    },
    {
     "data": {
      "text/html": [
       "\n",
       "\n",
       "\n",
       "\n",
       "\n",
       "\n",
       "  <div class=\"bk-root\" id=\"13fb7f2b-8c2f-4d21-b0e1-a230369bf347\" data-root-id=\"175494\"></div>\n"
      ]
     },
     "metadata": {},
     "output_type": "display_data"
    },
    {
     "data": {
      "application/javascript": [
       "(function(root) {\n",
       "  function embed_document(root) {\n",
       "    \n",
       "  const docs_json = {\"0acd684f-85b3-4d85-b1a9-342738abbc69\":{\"defs\":[],\"roots\":{\"references\":[{\"attributes\":{\"below\":[{\"id\":\"175505\"}],\"center\":[{\"id\":\"175508\"},{\"id\":\"175512\"},{\"id\":\"175546\"}],\"height\":400,\"left\":[{\"id\":\"175509\"}],\"renderers\":[{\"id\":\"175534\"},{\"id\":\"175552\"},{\"id\":\"175571\"},{\"id\":\"175595\"},{\"id\":\"175618\"},{\"id\":\"175643\"},{\"id\":\"175671\"},{\"id\":\"175700\"}],\"title\":{\"id\":\"175495\"},\"toolbar\":{\"id\":\"175520\"},\"width\":900,\"x_range\":{\"id\":\"175497\"},\"x_scale\":{\"id\":\"175501\"},\"y_range\":{\"id\":\"175499\"},\"y_scale\":{\"id\":\"175503\"}},\"id\":\"175494\",\"subtype\":\"Figure\",\"type\":\"Plot\"},{\"attributes\":{},\"id\":\"175662\",\"type\":\"UnionRenderers\"},{\"attributes\":{},\"id\":\"175503\",\"type\":\"LinearScale\"},{\"attributes\":{},\"id\":\"175663\",\"type\":\"Selection\"},{\"attributes\":{},\"id\":\"175538\",\"type\":\"BasicTickFormatter\"},{\"attributes\":{},\"id\":\"175513\",\"type\":\"PanTool\"},{\"attributes\":{},\"id\":\"175514\",\"type\":\"WheelZoomTool\"},{\"attributes\":{},\"id\":\"175516\",\"type\":\"SaveTool\"},{\"attributes\":{},\"id\":\"175539\",\"type\":\"AllLabels\"},{\"attributes\":{\"data\":{\"ApproxNashConv\":{\"__ndarray__\":\"AAAAAAAAAAA=\",\"dtype\":\"float64\",\"order\":\"little\",\"shape\":[1]},\"Baseline\":{\"__ndarray__\":\"C29A5ZN8TkA=\",\"dtype\":\"float64\",\"order\":\"little\",\"shape\":[1]},\"MaxPositiveRegret\":{\"__ndarray__\":\"AAAAAAAAAAA=\",\"dtype\":\"float64\",\"order\":\"little\",\"shape\":[1]},\"PositiveRegret\":{\"__ndarray__\":\"AAAAAAAAAAA=\",\"dtype\":\"float64\",\"order\":\"little\",\"shape\":[1]},\"Regret\":{\"__ndarray__\":\"wJH0IP7UFMA=\",\"dtype\":\"float64\",\"order\":\"little\",\"shape\":[1]},\"br_player\":[0],\"game\":[\"rw_game_2_settle_spiteful.json\"],\"index\":[1],\"median_length\":{\"__ndarray__\":\"AAAAAAAA+H8=\",\"dtype\":\"float64\",\"order\":\"little\",\"shape\":[1]},\"model\":[\"rw_game_2_settle_spiteful-may13mlphalf-100\"],\"name\":[\"may13/mlphalf\"],\"num_players\":[2],\"player\":[0],\"reward\":{\"__ndarray__\":\"09whIfThS0A=\",\"dtype\":\"float64\",\"order\":\"little\",\"shape\":[1]},\"t\":{\"__ndarray__\":\"exSuR+F6lD8=\",\"dtype\":\"float64\",\"order\":\"little\",\"shape\":[1]}},\"selected\":{\"id\":\"175544\"},\"selection_policy\":{\"id\":\"175543\"}},\"id\":\"175527\",\"type\":\"ColumnDataSource\"},{\"attributes\":{},\"id\":\"175510\",\"type\":\"BasicTicker\"},{\"attributes\":{\"axis\":{\"id\":\"175509\"},\"coordinates\":null,\"dimension\":1,\"group\":null,\"ticker\":null},\"id\":\"175512\",\"type\":\"Grid\"},{\"attributes\":{},\"id\":\"175541\",\"type\":\"BasicTickFormatter\"},{\"attributes\":{},\"id\":\"175501\",\"type\":\"LinearScale\"},{\"attributes\":{},\"id\":\"175499\",\"type\":\"DataRange1d\"},{\"attributes\":{},\"id\":\"175542\",\"type\":\"AllLabels\"},{\"attributes\":{\"axis_label\":\"Regret\",\"coordinates\":null,\"formatter\":{\"id\":\"175538\"},\"group\":null,\"major_label_policy\":{\"id\":\"175539\"},\"ticker\":{\"id\":\"175510\"}},\"id\":\"175509\",\"type\":\"LinearAxis\"},{\"attributes\":{\"overlay\":{\"id\":\"175519\"}},\"id\":\"175515\",\"type\":\"BoxZoomTool\"},{\"attributes\":{\"data\":{\"MaxPositiveRegret\":{\"__ndarray__\":\"\",\"dtype\":\"float64\",\"order\":\"little\",\"shape\":[0]},\"index\":[],\"t\":{\"__ndarray__\":\"\",\"dtype\":\"float64\",\"order\":\"little\",\"shape\":[0]}},\"selected\":{\"id\":\"175663\"},\"selection_policy\":{\"id\":\"175662\"}},\"id\":\"175590\",\"type\":\"ColumnDataSource\"},{\"attributes\":{},\"id\":\"175543\",\"type\":\"UnionRenderers\"},{\"attributes\":{\"line_color\":\"blue\",\"x\":{\"field\":\"t\"},\"y\":{\"field\":\"PositiveRegret\"}},\"id\":\"175592\",\"type\":\"Line\"},{\"attributes\":{},\"id\":\"175544\",\"type\":\"Selection\"},{\"attributes\":{},\"id\":\"175693\",\"type\":\"Selection\"},{\"attributes\":{\"data\":{\"MaxPositiveRegret\":{\"__ndarray__\":\"AAAAAAAAAAA=\",\"dtype\":\"float64\",\"order\":\"little\",\"shape\":[1]},\"index\":[0],\"t\":{\"__ndarray__\":\"exSuR+F6lD8=\",\"dtype\":\"float64\",\"order\":\"little\",\"shape\":[1]}},\"selected\":{\"id\":\"175585\"},\"selection_policy\":{\"id\":\"175584\"}},\"id\":\"175529\",\"type\":\"ColumnDataSource\"},{\"attributes\":{\"source\":{\"id\":\"175527\"}},\"id\":\"175535\",\"type\":\"CDSView\"},{\"attributes\":{\"line_alpha\":0.1,\"line_color\":\"red\",\"line_width\":3,\"x\":{\"field\":\"t\"},\"y\":{\"field\":\"ApproxNashConv\"}},\"id\":\"175669\",\"type\":\"Line\"},{\"attributes\":{\"line_color\":\"red\",\"line_width\":3,\"x\":{\"field\":\"t\"},\"y\":{\"field\":\"ApproxNashConv\"}},\"id\":\"175668\",\"type\":\"Line\"},{\"attributes\":{},\"id\":\"175692\",\"type\":\"UnionRenderers\"},{\"attributes\":{},\"id\":\"188290\",\"type\":\"UnionRenderers\"},{\"attributes\":{\"coordinates\":null,\"data_source\":{\"id\":\"175527\"},\"glyph\":{\"id\":\"175531\"},\"group\":null,\"hover_glyph\":null,\"muted_glyph\":{\"id\":\"175533\"},\"name\":\"P0 BR Regret\",\"nonselection_glyph\":{\"id\":\"175532\"},\"view\":{\"id\":\"175535\"}},\"id\":\"175534\",\"type\":\"GlyphRenderer\"},{\"attributes\":{\"line_alpha\":0.2,\"line_color\":\"green\",\"x\":{\"field\":\"t\"},\"y\":{\"field\":\"PositiveRegret\"}},\"id\":\"175533\",\"type\":\"Line\"},{\"attributes\":{},\"id\":\"188291\",\"type\":\"Selection\"},{\"attributes\":{\"data\":{\"x\":[0.02],\"y\":[0]},\"selected\":{\"id\":\"188291\"},\"selection_policy\":{\"id\":\"188290\"}},\"id\":\"175696\",\"type\":\"ColumnDataSource\"},{\"attributes\":{\"coordinates\":null,\"data_source\":{\"id\":\"175588\"},\"glyph\":{\"id\":\"175592\"},\"group\":null,\"hover_glyph\":null,\"muted_glyph\":{\"id\":\"175594\"},\"name\":\"P1 BR Regret\",\"nonselection_glyph\":{\"id\":\"175593\"},\"view\":{\"id\":\"175596\"}},\"id\":\"175595\",\"type\":\"GlyphRenderer\"},{\"attributes\":{\"data\":{\"PositiveRegret\":{\"__ndarray__\":\"\",\"dtype\":\"float64\",\"order\":\"little\",\"shape\":[0]},\"index\":[],\"t\":{\"__ndarray__\":\"\",\"dtype\":\"float64\",\"order\":\"little\",\"shape\":[0]}},\"selected\":{\"id\":\"175636\"},\"selection_policy\":{\"id\":\"175635\"}},\"id\":\"175589\",\"type\":\"ColumnDataSource\"},{\"attributes\":{\"line_color\":\"green\",\"x\":{\"field\":\"t\"},\"y\":{\"field\":\"PositiveRegret\"}},\"id\":\"175531\",\"type\":\"Line\"},{\"attributes\":{\"line_alpha\":{\"value\":0.2},\"line_width\":{\"value\":5},\"x\":{\"field\":\"x\"},\"y\":{\"field\":\"y\"}},\"id\":\"175699\",\"type\":\"Ray\"},{\"attributes\":{\"data\":{\"PositiveRegret\":{\"__ndarray__\":\"AAAAAAAAAAA=\",\"dtype\":\"float64\",\"order\":\"little\",\"shape\":[1]},\"index\":[0],\"t\":{\"__ndarray__\":\"exSuR+F6lD8=\",\"dtype\":\"float64\",\"order\":\"little\",\"shape\":[1]}},\"selected\":{\"id\":\"175564\"},\"selection_policy\":{\"id\":\"175563\"}},\"id\":\"175528\",\"type\":\"ColumnDataSource\"},{\"attributes\":{\"coordinates\":null,\"data_source\":{\"id\":\"175696\"},\"glyph\":{\"id\":\"175697\"},\"group\":null,\"hover_glyph\":null,\"muted_glyph\":{\"id\":\"175699\"},\"nonselection_glyph\":{\"id\":\"175698\"},\"view\":{\"id\":\"175701\"}},\"id\":\"175700\",\"type\":\"GlyphRenderer\"},{\"attributes\":{\"line_alpha\":{\"value\":0.1},\"line_width\":{\"value\":5},\"x\":{\"field\":\"x\"},\"y\":{\"field\":\"y\"}},\"id\":\"175698\",\"type\":\"Ray\"},{\"attributes\":{\"source\":{\"id\":\"175696\"}},\"id\":\"175701\",\"type\":\"CDSView\"},{\"attributes\":{\"callback\":null,\"tooltips\":[[\"Name\",\"$name\"],[\"(x, y)\",\"($data_x, $data_y)\"]]},\"id\":\"175702\",\"type\":\"HoverTool\"},{\"attributes\":{\"line_alpha\":0.1,\"line_color\":\"green\",\"x\":{\"field\":\"t\"},\"y\":{\"field\":\"PositiveRegret\"}},\"id\":\"175532\",\"type\":\"Line\"},{\"attributes\":{},\"id\":\"175497\",\"type\":\"DataRange1d\"},{\"attributes\":{\"click_policy\":\"hide\",\"coordinates\":null,\"group\":null,\"items\":[{\"id\":\"175547\"},{\"id\":\"175566\"},{\"id\":\"175587\"},{\"id\":\"175613\"},{\"id\":\"175638\"},{\"id\":\"175665\"},{\"id\":\"175695\"}]},\"id\":\"175546\",\"type\":\"Legend\"},{\"attributes\":{\"line_alpha\":0.2,\"line_color\":\"green\",\"line_dash\":[6],\"x\":{\"field\":\"t\"},\"y\":{\"field\":\"PositiveRegret\"}},\"id\":\"175551\",\"type\":\"Line\"},{\"attributes\":{\"coordinates\":null,\"data_source\":{\"id\":\"175528\"},\"glyph\":{\"id\":\"175549\"},\"group\":null,\"hover_glyph\":null,\"muted_glyph\":{\"id\":\"175551\"},\"name\":\"P0 Straightforward Regret\",\"nonselection_glyph\":{\"id\":\"175550\"},\"view\":{\"id\":\"175553\"}},\"id\":\"175552\",\"type\":\"GlyphRenderer\"},{\"attributes\":{\"label\":{\"value\":\"P0 BR Regret\"},\"renderers\":[{\"id\":\"175534\"}]},\"id\":\"175547\",\"type\":\"LegendItem\"},{\"attributes\":{\"line_alpha\":0.1,\"line_color\":\"green\",\"line_dash\":[6],\"x\":{\"field\":\"t\"},\"y\":{\"field\":\"PositiveRegret\"}},\"id\":\"175550\",\"type\":\"Line\"},{\"attributes\":{\"line_color\":\"green\",\"line_dash\":[6],\"x\":{\"field\":\"t\"},\"y\":{\"field\":\"PositiveRegret\"}},\"id\":\"175549\",\"type\":\"Line\"},{\"attributes\":{\"line_alpha\":0.1,\"line_color\":\"blue\",\"line_dash\":[6],\"x\":{\"field\":\"t\"},\"y\":{\"field\":\"PositiveRegret\"}},\"id\":\"175616\",\"type\":\"Line\"},{\"attributes\":{\"line_width\":{\"value\":5},\"x\":{\"field\":\"x\"},\"y\":{\"field\":\"y\"}},\"id\":\"175697\",\"type\":\"Ray\"},{\"attributes\":{\"source\":{\"id\":\"175528\"}},\"id\":\"175553\",\"type\":\"CDSView\"},{\"attributes\":{\"source\":{\"id\":\"175666\"}},\"id\":\"175672\",\"type\":\"CDSView\"},{\"attributes\":{},\"id\":\"175563\",\"type\":\"UnionRenderers\"},{\"attributes\":{\"label\":{\"value\":\"P0 Straightforward Regret\"},\"renderers\":[{\"id\":\"175552\"}]},\"id\":\"175566\",\"type\":\"LegendItem\"},{\"attributes\":{\"line_alpha\":0.2,\"line_color\":\"darkblue\",\"line_width\":2,\"x\":{\"field\":\"t\"},\"y\":{\"field\":\"MaxPositiveRegret\"}},\"id\":\"175642\",\"type\":\"Line\"},{\"attributes\":{},\"id\":\"175564\",\"type\":\"Selection\"},{\"attributes\":{},\"id\":\"175610\",\"type\":\"UnionRenderers\"},{\"attributes\":{},\"id\":\"175611\",\"type\":\"Selection\"},{\"attributes\":{\"label\":{\"value\":\"P1 BR Regret\"},\"renderers\":[{\"id\":\"175595\"}]},\"id\":\"175613\",\"type\":\"LegendItem\"},{\"attributes\":{\"coordinates\":null,\"data_source\":{\"id\":\"175589\"},\"glyph\":{\"id\":\"175615\"},\"group\":null,\"hover_glyph\":null,\"muted_glyph\":{\"id\":\"175617\"},\"name\":\"P1 Straightforward Regret\",\"nonselection_glyph\":{\"id\":\"175616\"},\"view\":{\"id\":\"175619\"}},\"id\":\"175618\",\"type\":\"GlyphRenderer\"},{\"attributes\":{\"coordinates\":null,\"data_source\":{\"id\":\"175529\"},\"glyph\":{\"id\":\"175568\"},\"group\":null,\"hover_glyph\":null,\"muted_glyph\":{\"id\":\"175570\"},\"name\":\"P0 Approx Regret\",\"nonselection_glyph\":{\"id\":\"175569\"},\"view\":{\"id\":\"175572\"}},\"id\":\"175571\",\"type\":\"GlyphRenderer\"},{\"attributes\":{\"line_alpha\":0.1,\"line_color\":\"darkgreen\",\"line_width\":2,\"x\":{\"field\":\"t\"},\"y\":{\"field\":\"MaxPositiveRegret\"}},\"id\":\"175569\",\"type\":\"Line\"},{\"attributes\":{\"label\":{\"value\":\"P1 Approx Regret\"},\"renderers\":[{\"id\":\"175643\"}]},\"id\":\"175665\",\"type\":\"LegendItem\"},{\"attributes\":{\"line_color\":\"darkgreen\",\"line_width\":2,\"x\":{\"field\":\"t\"},\"y\":{\"field\":\"MaxPositiveRegret\"}},\"id\":\"175568\",\"type\":\"Line\"},{\"attributes\":{\"line_alpha\":0.2,\"line_color\":\"darkgreen\",\"line_width\":2,\"x\":{\"field\":\"t\"},\"y\":{\"field\":\"MaxPositiveRegret\"}},\"id\":\"175570\",\"type\":\"Line\"},{\"attributes\":{\"line_color\":\"blue\",\"line_dash\":[6],\"x\":{\"field\":\"t\"},\"y\":{\"field\":\"PositiveRegret\"}},\"id\":\"175615\",\"type\":\"Line\"},{\"attributes\":{},\"id\":\"175584\",\"type\":\"UnionRenderers\"},{\"attributes\":{\"source\":{\"id\":\"175529\"}},\"id\":\"175572\",\"type\":\"CDSView\"},{\"attributes\":{\"axis\":{\"id\":\"175505\"},\"coordinates\":null,\"group\":null,\"ticker\":null},\"id\":\"175508\",\"type\":\"Grid\"},{\"attributes\":{\"coordinates\":null,\"data_source\":{\"id\":\"175666\"},\"glyph\":{\"id\":\"175668\"},\"group\":null,\"hover_glyph\":null,\"muted_glyph\":{\"id\":\"175670\"},\"name\":\"Approximate Nash Conv\",\"nonselection_glyph\":{\"id\":\"175669\"},\"view\":{\"id\":\"175672\"}},\"id\":\"175671\",\"type\":\"GlyphRenderer\"},{\"attributes\":{},\"id\":\"175518\",\"type\":\"HelpTool\"},{\"attributes\":{\"line_alpha\":0.2,\"line_color\":\"blue\",\"line_dash\":[6],\"x\":{\"field\":\"t\"},\"y\":{\"field\":\"PositiveRegret\"}},\"id\":\"175617\",\"type\":\"Line\"},{\"attributes\":{\"label\":{\"value\":\"Approximate Nash Conv\"},\"renderers\":[{\"id\":\"175671\"}]},\"id\":\"175695\",\"type\":\"LegendItem\"},{\"attributes\":{},\"id\":\"175585\",\"type\":\"Selection\"},{\"attributes\":{\"data\":{\"ApproxNashConv\":{\"__ndarray__\":\"\",\"dtype\":\"float64\",\"order\":\"little\",\"shape\":[0]},\"Baseline\":{\"__ndarray__\":\"\",\"dtype\":\"float64\",\"order\":\"little\",\"shape\":[0]},\"MaxPositiveRegret\":{\"__ndarray__\":\"\",\"dtype\":\"float64\",\"order\":\"little\",\"shape\":[0]},\"PositiveRegret\":{\"__ndarray__\":\"\",\"dtype\":\"float64\",\"order\":\"little\",\"shape\":[0]},\"Regret\":{\"__ndarray__\":\"\",\"dtype\":\"float64\",\"order\":\"little\",\"shape\":[0]},\"br_player\":[],\"game\":[],\"index\":[],\"median_length\":{\"__ndarray__\":\"\",\"dtype\":\"float64\",\"order\":\"little\",\"shape\":[0]},\"model\":[],\"name\":[],\"num_players\":[],\"player\":[],\"reward\":{\"__ndarray__\":\"\",\"dtype\":\"float64\",\"order\":\"little\",\"shape\":[0]},\"t\":{\"__ndarray__\":\"\",\"dtype\":\"float64\",\"order\":\"little\",\"shape\":[0]}},\"selected\":{\"id\":\"175611\"},\"selection_policy\":{\"id\":\"175610\"}},\"id\":\"175588\",\"type\":\"ColumnDataSource\"},{\"attributes\":{},\"id\":\"175506\",\"type\":\"BasicTicker\"},{\"attributes\":{},\"id\":\"175635\",\"type\":\"UnionRenderers\"},{\"attributes\":{\"coordinates\":null,\"group\":null,\"text\":\"rw_game_2_settle_spiteful-may13mlphalf-100 Approximate Nash Conv\"},\"id\":\"175495\",\"type\":\"Title\"},{\"attributes\":{\"source\":{\"id\":\"175589\"}},\"id\":\"175619\",\"type\":\"CDSView\"},{\"attributes\":{\"label\":{\"value\":\"P0 Approx Regret\"},\"renderers\":[{\"id\":\"175571\"}]},\"id\":\"175587\",\"type\":\"LegendItem\"},{\"attributes\":{},\"id\":\"175636\",\"type\":\"Selection\"},{\"attributes\":{\"line_alpha\":0.2,\"line_color\":\"red\",\"line_width\":3,\"x\":{\"field\":\"t\"},\"y\":{\"field\":\"ApproxNashConv\"}},\"id\":\"175670\",\"type\":\"Line\"},{\"attributes\":{\"label\":{\"value\":\"P1 Straightforward Regret\"},\"renderers\":[{\"id\":\"175618\"}]},\"id\":\"175638\",\"type\":\"LegendItem\"},{\"attributes\":{},\"id\":\"175517\",\"type\":\"ResetTool\"},{\"attributes\":{\"bottom_units\":\"screen\",\"coordinates\":null,\"fill_alpha\":0.5,\"fill_color\":\"lightgrey\",\"group\":null,\"left_units\":\"screen\",\"level\":\"overlay\",\"line_alpha\":1.0,\"line_color\":\"black\",\"line_dash\":[4,4],\"line_width\":2,\"right_units\":\"screen\",\"syncable\":false,\"top_units\":\"screen\"},\"id\":\"175519\",\"type\":\"BoxAnnotation\"},{\"attributes\":{\"axis_label\":\"Iteration (M)\",\"coordinates\":null,\"formatter\":{\"id\":\"175541\"},\"group\":null,\"major_label_policy\":{\"id\":\"175542\"},\"ticker\":{\"id\":\"175506\"}},\"id\":\"175505\",\"type\":\"LinearAxis\"},{\"attributes\":{\"line_alpha\":0.2,\"line_color\":\"blue\",\"x\":{\"field\":\"t\"},\"y\":{\"field\":\"PositiveRegret\"}},\"id\":\"175594\",\"type\":\"Line\"},{\"attributes\":{\"source\":{\"id\":\"175588\"}},\"id\":\"175596\",\"type\":\"CDSView\"},{\"attributes\":{\"line_alpha\":0.1,\"line_color\":\"blue\",\"x\":{\"field\":\"t\"},\"y\":{\"field\":\"PositiveRegret\"}},\"id\":\"175593\",\"type\":\"Line\"},{\"attributes\":{\"source\":{\"id\":\"175590\"}},\"id\":\"175644\",\"type\":\"CDSView\"},{\"attributes\":{\"data\":{\"ApproxNashConv\":{\"__ndarray__\":\"AAAAAAAAAAA=\",\"dtype\":\"float64\",\"order\":\"little\",\"shape\":[1]},\"index\":[0],\"t\":{\"__ndarray__\":\"exSuR+F6lD8=\",\"dtype\":\"float64\",\"order\":\"little\",\"shape\":[1]}},\"selected\":{\"id\":\"175693\"},\"selection_policy\":{\"id\":\"175692\"}},\"id\":\"175666\",\"type\":\"ColumnDataSource\"},{\"attributes\":{\"coordinates\":null,\"data_source\":{\"id\":\"175590\"},\"glyph\":{\"id\":\"175640\"},\"group\":null,\"hover_glyph\":null,\"muted_glyph\":{\"id\":\"175642\"},\"name\":\"P1 Approx Regret\",\"nonselection_glyph\":{\"id\":\"175641\"},\"view\":{\"id\":\"175644\"}},\"id\":\"175643\",\"type\":\"GlyphRenderer\"},{\"attributes\":{\"tools\":[{\"id\":\"175513\"},{\"id\":\"175514\"},{\"id\":\"175515\"},{\"id\":\"175516\"},{\"id\":\"175517\"},{\"id\":\"175518\"},{\"id\":\"175702\"}]},\"id\":\"175520\",\"type\":\"Toolbar\"},{\"attributes\":{\"line_alpha\":0.1,\"line_color\":\"darkblue\",\"line_width\":2,\"x\":{\"field\":\"t\"},\"y\":{\"field\":\"MaxPositiveRegret\"}},\"id\":\"175641\",\"type\":\"Line\"},{\"attributes\":{\"line_color\":\"darkblue\",\"line_width\":2,\"x\":{\"field\":\"t\"},\"y\":{\"field\":\"MaxPositiveRegret\"}},\"id\":\"175640\",\"type\":\"Line\"}],\"root_ids\":[\"175494\"]},\"title\":\"Bokeh Application\",\"version\":\"2.4.2\"}};\n",
       "  const render_items = [{\"docid\":\"0acd684f-85b3-4d85-b1a9-342738abbc69\",\"root_ids\":[\"175494\"],\"roots\":{\"175494\":\"13fb7f2b-8c2f-4d21-b0e1-a230369bf347\"}}];\n",
       "  root.Bokeh.embed.embed_items_notebook(docs_json, render_items);\n",
       "\n",
       "  }\n",
       "  if (root.Bokeh !== undefined) {\n",
       "    embed_document(root);\n",
       "  } else {\n",
       "    let attempts = 0;\n",
       "    const timer = setInterval(function(root) {\n",
       "      if (root.Bokeh !== undefined) {\n",
       "        clearInterval(timer);\n",
       "        embed_document(root);\n",
       "      } else {\n",
       "        attempts++;\n",
       "        if (attempts > 100) {\n",
       "          clearInterval(timer);\n",
       "          console.log(\"Bokeh: ERROR: Unable to run BokehJS code because BokehJS library is missing\");\n",
       "        }\n",
       "      }\n",
       "    }, 10, root)\n",
       "  }\n",
       "})(window);"
      ],
      "application/vnd.bokehjs_exec.v0+json": ""
     },
     "metadata": {
      "application/vnd.bokehjs_exec.v0+json": {
       "id": "175494"
      }
     },
     "output_type": "display_data"
    },
    {
     "data": {
      "text/html": [
       "\n",
       "\n",
       "\n",
       "\n",
       "\n",
       "\n",
       "  <div class=\"bk-root\" id=\"13e933f0-9d88-43ee-b879-581269d9ec43\" data-root-id=\"175704\"></div>\n"
      ]
     },
     "metadata": {},
     "output_type": "display_data"
    },
    {
     "data": {
      "application/javascript": [
       "(function(root) {\n",
       "  function embed_document(root) {\n",
       "    \n",
       "  const docs_json = {\"74d1061e-aab4-4318-90e0-cb49d104cf5d\":{\"defs\":[],\"roots\":{\"references\":[{\"attributes\":{\"below\":[{\"id\":\"175715\"}],\"center\":[{\"id\":\"175718\"},{\"id\":\"175722\"},{\"id\":\"175759\"}],\"extra_y_ranges\":{\"rounds\":{\"id\":\"175737\"}},\"height\":400,\"left\":[{\"id\":\"175719\"}],\"renderers\":[{\"id\":\"175744\"},{\"id\":\"175765\"},{\"id\":\"175772\"},{\"id\":\"175794\"},{\"id\":\"175801\"},{\"id\":\"175826\"}],\"right\":[{\"id\":\"175738\"}],\"title\":{\"id\":\"175705\"},\"toolbar\":{\"id\":\"175730\"},\"width\":900,\"x_range\":{\"id\":\"175707\"},\"x_scale\":{\"id\":\"175711\"},\"y_range\":{\"id\":\"175709\"},\"y_scale\":{\"id\":\"175713\"}},\"id\":\"175704\",\"subtype\":\"Figure\",\"type\":\"Plot\"},{\"attributes\":{},\"id\":\"175723\",\"type\":\"PanTool\"},{\"attributes\":{},\"id\":\"175724\",\"type\":\"WheelZoomTool\"},{\"attributes\":{\"line_alpha\":0.2,\"line_color\":\"blue\",\"x\":{\"field\":\"t\"},\"y\":{\"field\":\"reward\"}},\"id\":\"175771\",\"type\":\"Line\"},{\"attributes\":{\"line_dash\":[6],\"x\":{\"field\":\"t\"},\"y\":{\"field\":\"length\"}},\"id\":\"175823\",\"type\":\"Line\"},{\"attributes\":{\"label\":{\"value\":\"Reward 1\"},\"renderers\":[{\"id\":\"175772\"}]},\"id\":\"175789\",\"type\":\"LegendItem\"},{\"attributes\":{\"line_alpha\":0.1,\"line_color\":\"red\",\"x\":{\"field\":\"t\"},\"y\":{\"field\":\"reward\"}},\"id\":\"175799\",\"type\":\"Line\"},{\"attributes\":{},\"id\":\"175726\",\"type\":\"SaveTool\"},{\"attributes\":{\"line_alpha\":0.1,\"line_color\":\"blue\",\"x\":{\"field\":\"t\"},\"y\":{\"field\":\"reward\"}},\"id\":\"175770\",\"type\":\"Line\"},{\"attributes\":{\"overlay\":{\"id\":\"175729\"}},\"id\":\"175725\",\"type\":\"BoxZoomTool\"},{\"attributes\":{\"data\":{\"index\":[],\"reward\":{\"__ndarray__\":\"\",\"dtype\":\"float64\",\"order\":\"little\",\"shape\":[0]},\"t\":{\"__ndarray__\":\"\",\"dtype\":\"float64\",\"order\":\"little\",\"shape\":[0]}},\"selected\":{\"id\":\"175787\"},\"selection_policy\":{\"id\":\"175786\"}},\"id\":\"175767\",\"type\":\"ColumnDataSource\"},{\"attributes\":{},\"id\":\"175727\",\"type\":\"ResetTool\"},{\"attributes\":{},\"id\":\"175728\",\"type\":\"HelpTool\"},{\"attributes\":{\"axis\":{\"id\":\"175719\"},\"coordinates\":null,\"dimension\":1,\"group\":null,\"ticker\":null},\"id\":\"175722\",\"type\":\"Grid\"},{\"attributes\":{\"line_color\":\"red\",\"x\":{\"field\":\"t\"},\"y\":{\"field\":\"reward\"}},\"id\":\"175798\",\"type\":\"Line\"},{\"attributes\":{\"source\":{\"id\":\"175796\"}},\"id\":\"175802\",\"type\":\"CDSView\"},{\"attributes\":{},\"id\":\"175751\",\"type\":\"BasicTickFormatter\"},{\"attributes\":{\"label\":{\"value\":\"Total Reward\"},\"renderers\":[{\"id\":\"175801\"}]},\"id\":\"175820\",\"type\":\"LegendItem\"},{\"attributes\":{\"line_alpha\":0.2,\"line_color\":\"red\",\"x\":{\"field\":\"t\"},\"y\":{\"field\":\"reward\"}},\"id\":\"175800\",\"type\":\"Line\"},{\"attributes\":{\"bottom_units\":\"screen\",\"coordinates\":null,\"fill_alpha\":0.5,\"fill_color\":\"lightgrey\",\"group\":null,\"left_units\":\"screen\",\"level\":\"overlay\",\"line_alpha\":1.0,\"line_color\":\"black\",\"line_dash\":[4,4],\"line_width\":2,\"right_units\":\"screen\",\"syncable\":false,\"top_units\":\"screen\"},\"id\":\"175729\",\"type\":\"BoxAnnotation\"},{\"attributes\":{\"coordinates\":null,\"data_source\":{\"id\":\"175767\"},\"glyph\":{\"id\":\"175791\"},\"group\":null,\"hover_glyph\":null,\"muted_glyph\":{\"id\":\"175793\"},\"name\":\"rw_game_2_settle_spiteful-may13mlphalf-100\",\"nonselection_glyph\":{\"id\":\"175792\"},\"view\":{\"id\":\"175795\"}},\"id\":\"175794\",\"type\":\"GlyphRenderer\"},{\"attributes\":{},\"id\":\"175752\",\"type\":\"AllLabels\"},{\"attributes\":{\"line_color\":\"blue\",\"x\":{\"field\":\"t\"},\"y\":{\"field\":\"reward\"}},\"id\":\"175769\",\"type\":\"Line\"},{\"attributes\":{},\"id\":\"175817\",\"type\":\"UnionRenderers\"},{\"attributes\":{},\"id\":\"175818\",\"type\":\"Selection\"},{\"attributes\":{\"axis_label\":\"Rounds\",\"coordinates\":null,\"formatter\":{\"id\":\"175751\"},\"group\":null,\"major_label_policy\":{\"id\":\"175752\"},\"ticker\":{\"id\":\"175750\"},\"y_range_name\":\"rounds\"},\"id\":\"175738\",\"type\":\"LinearAxis\"},{\"attributes\":{},\"id\":\"175786\",\"type\":\"UnionRenderers\"},{\"attributes\":{\"source\":{\"id\":\"175767\"}},\"id\":\"175773\",\"type\":\"CDSView\"},{\"attributes\":{\"tools\":[{\"id\":\"175723\"},{\"id\":\"175724\"},{\"id\":\"175725\"},{\"id\":\"175726\"},{\"id\":\"175727\"},{\"id\":\"175728\"},{\"id\":\"175848\"}]},\"id\":\"175730\",\"type\":\"Toolbar\"},{\"attributes\":{\"line_color\":\"green\",\"x\":{\"field\":\"t\"},\"y\":{\"field\":\"reward\"}},\"id\":\"175741\",\"type\":\"Line\"},{\"attributes\":{\"line_alpha\":0.2,\"line_color\":\"green\",\"x\":{\"field\":\"t\"},\"y\":{\"field\":\"reward\"}},\"id\":\"175743\",\"type\":\"Line\"},{\"attributes\":{},\"id\":\"175787\",\"type\":\"Selection\"},{\"attributes\":{\"label\":{\"value\":\"Reward 0\"},\"renderers\":[{\"id\":\"175744\"}]},\"id\":\"175760\",\"type\":\"LegendItem\"},{\"attributes\":{\"source\":{\"id\":\"175739\"}},\"id\":\"175745\",\"type\":\"CDSView\"},{\"attributes\":{\"coordinates\":null,\"data_source\":{\"id\":\"175739\"},\"glyph\":{\"id\":\"175741\"},\"group\":null,\"hover_glyph\":null,\"muted_glyph\":{\"id\":\"175743\"},\"name\":\"Reward 0\",\"nonselection_glyph\":{\"id\":\"175742\"},\"view\":{\"id\":\"175745\"}},\"id\":\"175744\",\"type\":\"GlyphRenderer\"},{\"attributes\":{\"end\":50},\"id\":\"175737\",\"type\":\"Range1d\"},{\"attributes\":{\"click_policy\":\"hide\",\"coordinates\":null,\"group\":null,\"items\":[{\"id\":\"175760\"},{\"id\":\"175789\"},{\"id\":\"175820\"},{\"id\":\"175847\"}]},\"id\":\"175759\",\"type\":\"Legend\"},{\"attributes\":{},\"id\":\"175845\",\"type\":\"Selection\"},{\"attributes\":{\"line_alpha\":0.2,\"line_dash\":[6],\"x\":{\"field\":\"t\"},\"y\":{\"field\":\"length\"}},\"id\":\"175825\",\"type\":\"Line\"},{\"attributes\":{\"data\":{\"length\":{\"__ndarray__\":\"AAAAAAAAMUA=\",\"dtype\":\"float64\",\"order\":\"little\",\"shape\":[1]},\"t\":{\"__ndarray__\":\"exSuR+F6lD8=\",\"dtype\":\"float64\",\"order\":\"little\",\"shape\":[1]}},\"selected\":{\"id\":\"175845\"},\"selection_policy\":{\"id\":\"175844\"}},\"id\":\"175821\",\"type\":\"ColumnDataSource\"},{\"attributes\":{},\"id\":\"175720\",\"type\":\"BasicTicker\"},{\"attributes\":{},\"id\":\"175750\",\"type\":\"BasicTicker\"},{\"attributes\":{\"source\":{\"id\":\"175821\"}},\"id\":\"175827\",\"type\":\"CDSView\"},{\"attributes\":{\"coordinates\":null,\"group\":null,\"text\":\"Utility rw_game_2_settle_spiteful.json rw_game_2_settle_spiteful-may13mlphalf-100\"},\"id\":\"175705\",\"type\":\"Title\"},{\"attributes\":{},\"id\":\"175709\",\"type\":\"DataRange1d\"},{\"attributes\":{},\"id\":\"175713\",\"type\":\"LinearScale\"},{\"attributes\":{\"fill_color\":{\"value\":\"blue\"},\"hatch_color\":{\"value\":\"blue\"},\"line_color\":{\"value\":\"blue\"},\"size\":{\"value\":10},\"x\":{\"field\":\"t\"},\"y\":{\"field\":\"reward\"}},\"id\":\"175791\",\"type\":\"Circle\"},{\"attributes\":{\"line_alpha\":0.1,\"line_dash\":[6],\"x\":{\"field\":\"t\"},\"y\":{\"field\":\"length\"}},\"id\":\"175824\",\"type\":\"Line\"},{\"attributes\":{},\"id\":\"175716\",\"type\":\"BasicTicker\"},{\"attributes\":{\"line_alpha\":0.1,\"line_color\":\"green\",\"x\":{\"field\":\"t\"},\"y\":{\"field\":\"reward\"}},\"id\":\"175742\",\"type\":\"Line\"},{\"attributes\":{\"fill_alpha\":{\"value\":0.2},\"fill_color\":{\"value\":\"blue\"},\"hatch_alpha\":{\"value\":0.2},\"hatch_color\":{\"value\":\"blue\"},\"line_alpha\":{\"value\":0.2},\"line_color\":{\"value\":\"blue\"},\"size\":{\"value\":10},\"x\":{\"field\":\"t\"},\"y\":{\"field\":\"reward\"}},\"id\":\"175793\",\"type\":\"Circle\"},{\"attributes\":{\"label\":{\"value\":\"Median Length\"},\"renderers\":[{\"id\":\"175826\"}]},\"id\":\"175847\",\"type\":\"LegendItem\"},{\"attributes\":{},\"id\":\"175707\",\"type\":\"DataRange1d\"},{\"attributes\":{\"fill_alpha\":{\"value\":0.1},\"fill_color\":{\"value\":\"blue\"},\"hatch_alpha\":{\"value\":0.1},\"hatch_color\":{\"value\":\"blue\"},\"line_alpha\":{\"value\":0.1},\"line_color\":{\"value\":\"blue\"},\"size\":{\"value\":10},\"x\":{\"field\":\"t\"},\"y\":{\"field\":\"reward\"}},\"id\":\"175792\",\"type\":\"Circle\"},{\"attributes\":{\"callback\":null,\"tooltips\":[[\"Name\",\"$name\"],[\"(x, y)\",\"($data_x, $data_y)\"]]},\"id\":\"175848\",\"type\":\"HoverTool\"},{\"attributes\":{\"source\":{\"id\":\"175767\"}},\"id\":\"175795\",\"type\":\"CDSView\"},{\"attributes\":{\"coordinates\":null,\"data_source\":{\"id\":\"175821\"},\"glyph\":{\"id\":\"175823\"},\"group\":null,\"hover_glyph\":null,\"muted_glyph\":{\"id\":\"175825\"},\"name\":\"Median Length\",\"nonselection_glyph\":{\"id\":\"175824\"},\"view\":{\"id\":\"175827\"},\"y_range_name\":\"rounds\"},\"id\":\"175826\",\"type\":\"GlyphRenderer\"},{\"attributes\":{\"axis\":{\"id\":\"175715\"},\"coordinates\":null,\"group\":null,\"ticker\":null},\"id\":\"175718\",\"type\":\"Grid\"},{\"attributes\":{},\"id\":\"175711\",\"type\":\"LinearScale\"},{\"attributes\":{\"coordinates\":null,\"data_source\":{\"id\":\"175796\"},\"glyph\":{\"id\":\"175798\"},\"group\":null,\"hover_glyph\":null,\"muted_glyph\":{\"id\":\"175800\"},\"name\":\"Total Reward\",\"nonselection_glyph\":{\"id\":\"175799\"},\"view\":{\"id\":\"175802\"}},\"id\":\"175801\",\"type\":\"GlyphRenderer\"},{\"attributes\":{\"axis_label\":\"Iteration (M)\",\"coordinates\":null,\"formatter\":{\"id\":\"175754\"},\"group\":null,\"major_label_policy\":{\"id\":\"175755\"},\"ticker\":{\"id\":\"175716\"}},\"id\":\"175715\",\"type\":\"LinearAxis\"},{\"attributes\":{},\"id\":\"175844\",\"type\":\"UnionRenderers\"},{\"attributes\":{\"data\":{\"reward\":{\"__ndarray__\":\"C29A5ZN8TkA=\",\"dtype\":\"float64\",\"order\":\"little\",\"shape\":[1]},\"t\":{\"__ndarray__\":\"exSuR+F6lD8=\",\"dtype\":\"float64\",\"order\":\"little\",\"shape\":[1]}},\"selected\":{\"id\":\"175818\"},\"selection_policy\":{\"id\":\"175817\"}},\"id\":\"175796\",\"type\":\"ColumnDataSource\"},{\"attributes\":{\"axis_label\":\"Reward\",\"coordinates\":null,\"formatter\":{\"id\":\"175748\"},\"group\":null,\"major_label_policy\":{\"id\":\"175749\"},\"ticker\":{\"id\":\"175720\"}},\"id\":\"175719\",\"type\":\"LinearAxis\"},{\"attributes\":{},\"id\":\"175748\",\"type\":\"BasicTickFormatter\"},{\"attributes\":{},\"id\":\"175749\",\"type\":\"AllLabels\"},{\"attributes\":{},\"id\":\"175755\",\"type\":\"AllLabels\"},{\"attributes\":{},\"id\":\"175756\",\"type\":\"UnionRenderers\"},{\"attributes\":{},\"id\":\"175757\",\"type\":\"Selection\"},{\"attributes\":{},\"id\":\"175754\",\"type\":\"BasicTickFormatter\"},{\"attributes\":{\"data\":{\"index\":[2],\"reward\":{\"__ndarray__\":\"C29A5ZN8TkA=\",\"dtype\":\"float64\",\"order\":\"little\",\"shape\":[1]},\"t\":{\"__ndarray__\":\"exSuR+F6lD8=\",\"dtype\":\"float64\",\"order\":\"little\",\"shape\":[1]}},\"selected\":{\"id\":\"175757\"},\"selection_policy\":{\"id\":\"175756\"}},\"id\":\"175739\",\"type\":\"ColumnDataSource\"},{\"attributes\":{\"coordinates\":null,\"data_source\":{\"id\":\"175767\"},\"glyph\":{\"id\":\"175769\"},\"group\":null,\"hover_glyph\":null,\"muted_glyph\":{\"id\":\"175771\"},\"name\":\"Reward 1\",\"nonselection_glyph\":{\"id\":\"175770\"},\"view\":{\"id\":\"175773\"}},\"id\":\"175772\",\"type\":\"GlyphRenderer\"},{\"attributes\":{\"fill_color\":{\"value\":\"green\"},\"hatch_color\":{\"value\":\"green\"},\"line_color\":{\"value\":\"green\"},\"size\":{\"value\":10},\"x\":{\"field\":\"t\"},\"y\":{\"field\":\"reward\"}},\"id\":\"175762\",\"type\":\"Circle\"},{\"attributes\":{\"fill_alpha\":{\"value\":0.2},\"fill_color\":{\"value\":\"green\"},\"hatch_alpha\":{\"value\":0.2},\"hatch_color\":{\"value\":\"green\"},\"line_alpha\":{\"value\":0.2},\"line_color\":{\"value\":\"green\"},\"size\":{\"value\":10},\"x\":{\"field\":\"t\"},\"y\":{\"field\":\"reward\"}},\"id\":\"175764\",\"type\":\"Circle\"},{\"attributes\":{\"fill_alpha\":{\"value\":0.1},\"fill_color\":{\"value\":\"green\"},\"hatch_alpha\":{\"value\":0.1},\"hatch_color\":{\"value\":\"green\"},\"line_alpha\":{\"value\":0.1},\"line_color\":{\"value\":\"green\"},\"size\":{\"value\":10},\"x\":{\"field\":\"t\"},\"y\":{\"field\":\"reward\"}},\"id\":\"175763\",\"type\":\"Circle\"},{\"attributes\":{\"source\":{\"id\":\"175739\"}},\"id\":\"175766\",\"type\":\"CDSView\"},{\"attributes\":{\"coordinates\":null,\"data_source\":{\"id\":\"175739\"},\"glyph\":{\"id\":\"175762\"},\"group\":null,\"hover_glyph\":null,\"muted_glyph\":{\"id\":\"175764\"},\"name\":\"rw_game_2_settle_spiteful-may13mlphalf-100\",\"nonselection_glyph\":{\"id\":\"175763\"},\"view\":{\"id\":\"175766\"}},\"id\":\"175765\",\"type\":\"GlyphRenderer\"}],\"root_ids\":[\"175704\"]},\"title\":\"Bokeh Application\",\"version\":\"2.4.2\"}};\n",
       "  const render_items = [{\"docid\":\"74d1061e-aab4-4318-90e0-cb49d104cf5d\",\"root_ids\":[\"175704\"],\"roots\":{\"175704\":\"13e933f0-9d88-43ee-b879-581269d9ec43\"}}];\n",
       "  root.Bokeh.embed.embed_items_notebook(docs_json, render_items);\n",
       "\n",
       "  }\n",
       "  if (root.Bokeh !== undefined) {\n",
       "    embed_document(root);\n",
       "  } else {\n",
       "    let attempts = 0;\n",
       "    const timer = setInterval(function(root) {\n",
       "      if (root.Bokeh !== undefined) {\n",
       "        clearInterval(timer);\n",
       "        embed_document(root);\n",
       "      } else {\n",
       "        attempts++;\n",
       "        if (attempts > 100) {\n",
       "          clearInterval(timer);\n",
       "          console.log(\"Bokeh: ERROR: Unable to run BokehJS code because BokehJS library is missing\");\n",
       "        }\n",
       "      }\n",
       "    }, 10, root)\n",
       "  }\n",
       "})(window);"
      ],
      "application/vnd.bokehjs_exec.v0+json": ""
     },
     "metadata": {
      "application/vnd.bokehjs_exec.v0+json": {
       "id": "175704"
      }
     },
     "output_type": "display_data"
    }
   ],
   "source": [
    "plot_all_models(master_df, notebook=True, final_compare=True)"
   ]
  },
  {
   "cell_type": "code",
   "execution_count": 76,
   "id": "abf79de4-3f80-4692-86a5-18a7795df3bb",
   "metadata": {},
   "outputs": [
    {
     "data": {
      "image/png": "[encoded data removed]",
      "text/plain": [
       "<Figure size 2160x648 with 1 Axes>"
      ]
     },
     "metadata": {},
     "output_type": "display_data"
    }
   ],
   "source": [
    "# s = ['_mlp', '_mlp_1', '_mlp_2', '_lstm', '_lstm_1', '_lstm_2', 'Straightforward']\n",
    "# good_configs = ['straightforward', 'mar17/lstm', 'mar17/mlp-Copy6']\n",
    "# fig = compare_best_responses(master_df.query('name in @good_configs'))\n",
    "fig = compare_best_responses(master_df)\n",
    "# special_save_fig(fig, \"configs.png\", fmt=None, dpi=300, tight=True)"
   ]
  },
  {
   "cell_type": "code",
   "execution_count": null,
   "id": "da2d4f35-5206-4619-84e2-76ab3ad04517",
   "metadata": {},
   "outputs": [],
   "source": [
    "master_df.query('t == 10000000 and model == \"large_game_2-flatmlpflat_handcrafted_reversed-100\" and player == 1')"
   ]
  },
  {
   "cell_type": "code",
   "execution_count": null,
   "id": "6ae35114-8154-4d5b-8ab9-68d2bb32bbd8",
   "metadata": {},
   "outputs": [],
   "source": [
    "master_df"
   ]
  },
  {
   "cell_type": "code",
   "execution_count": null,
   "id": "c40a8752-3d7f-4ea8-9158-677b2c5443ba",
   "metadata": {},
   "outputs": [],
   "source": [
    "# import matplotlib.pyplot as plt\n",
    "# plt.figure(figsize=(15, 5))\n",
    "# plt.imshow(list(q_network.output_layer.parameters())[0].data)\n",
    "# plt.colorbar()"
   ]
  },
  {
   "cell_type": "code",
   "execution_count": null,
   "id": "fafcc237-f651-4cbf-a447-42b8f4d55dc6",
   "metadata": {},
   "outputs": [],
   "source": [
    "master_df[['name', 'PositiveRegret']]"
   ]
  },
  {
   "cell_type": "code",
   "execution_count": null,
   "id": "5487a3f5-0377-4e47-835e-78cbec01d334",
   "metadata": {},
   "outputs": [],
   "source": [
    "x = master_df['name'].unique().tolist()\n",
    "x.remove(None)\n",
    "x.remove(\"straightforward\")\n",
    "x"
   ]
  },
  {
   "cell_type": "code",
   "execution_count": null,
   "id": "e58d702a-e60b-4f43-b97e-020e12b00a0a",
   "metadata": {},
   "outputs": [],
   "source": [
    "for config in x:\n",
    "    portfolio = [config, 'straightforward']\n",
    "    p = master_df.query('name in @portfolio and player == br_player').copy()\n",
    "    # NOT QUITE RIGHT\n",
    "    p['frac'] = p['PositiveRegret'] / p['MaxPositiveRegret']\n",
    "    p = p.groupby(['model', 't', 'player']).apply(lambda x: x['frac'].max())\n",
    "    print(config, p.mean())"
   ]
  },
  {
   "cell_type": "code",
   "execution_count": null,
   "id": "e0f34177-d9ea-440d-95bb-1353187da81e",
   "metadata": {},
   "outputs": [],
   "source": [
    "y = list(x)\n",
    "y.remove('mar17/lstm')\n",
    "for config in y:\n",
    "    portfolio = [config, 'mar17/lstm', 'straightforward']\n",
    "    p = master_df.query('name in @portfolio and player == br_player').copy()\n",
    "    # NOT QUITE RIGHT\n",
    "    p['frac'] = p['PositiveRegret'] / p['MaxPositiveRegret']\n",
    "    p = p.groupby(['model', 't', 'player']).apply(lambda x: x['frac'].max())\n",
    "    print(config, p.mean())"
   ]
  },
  {
   "cell_type": "code",
   "execution_count": null,
   "id": "9c29e1fa-e0ed-456b-abe2-2e5a773b3182",
   "metadata": {},
   "outputs": [],
   "source": [
    "z = list(y)\n",
    "z.remove('_mlp_deep_wide')\n",
    "for config in z:\n",
    "    portfolio = [config, '_mlp_deep_wide', '_mlp_wide', 'Straightforward']\n",
    "    p = master_df.query('config in @portfolio and player == best_responder').copy()\n",
    "    # NOT QUITE RIGHT\n",
    "    p['frac'] = p['PositiveRegret'] / p['MaxPositiveRegret']\n",
    "    p = p.groupby(['model', 't', 'player']).apply(lambda x: x['frac'].max())\n",
    "    print(config, p.mean())"
   ]
  },
  {
   "cell_type": "code",
   "execution_count": null,
   "id": "ed603b26-fffa-4c58-85cc-f6345efd4fb5",
   "metadata": {},
   "outputs": [],
   "source": [
    "dir(bokeh.plotting)"
   ]
  },
  {
   "cell_type": "code",
   "execution_count": null,
   "id": "3739cf9b-7fd7-4ccf-b072-7011f4836b3e",
   "metadata": {},
   "outputs": [],
   "source": [
    "EquilibriumSolverRun.objects.last().pk"
   ]
  },
  {
   "cell_type": "code",
   "execution_count": null,
   "id": "65106d7d-085a-4496-9437-45972ea19527",
   "metadata": {},
   "outputs": [],
   "source": [
    "for run in experiment.equilibriumsolverrun_set.all():\n",
    "    print(run, run.walltime())"
   ]
  },
  {
   "cell_type": "code",
   "execution_count": null,
   "id": "1809a1dc-3e0e-4ea2-bbae-4398d75ebd3a",
   "metadata": {},
   "outputs": [],
   "source": [
    "# from bokeh.models import LinearAxis, Range1d\n",
    "\n",
    "# for game_name, grp in master_df.groupby('game'):\n",
    "#     for model, sub_df in grp.groupby('model'):\n",
    "#         ev_df = sub_df\n",
    "\n",
    "# ev_df = ev_df.query('name.isnull() and br_player.isnull()', engine='python').copy()\n",
    "# ev_df['t'] /= 1e6 # Nicer formatting on x-axis\n",
    "# game_name = ev_df['game'].iloc[0]\n",
    "# model = ev_df['model'].iloc[0]\n",
    "# players = range(ev_df['num_players'].iloc[0])\n",
    "# title = f\"Utility {game_name} {model}\"\n",
    "# colors = itertools.cycle(Category20_20) \n",
    "# plot = figure(width=900, height=400, title=title)\n",
    "# plot.yaxis.axis_label = 'Reward'\n",
    "\n",
    "# # Setting the second y axis range name and range\n",
    "# plot.extra_y_ranges = {\"rounds\": Range1d(start=0, end=50)}\n",
    "\n",
    "# # # Adding the second axis to the plot.  \n",
    "# plot.add_layout(LinearAxis(y_range_name=\"rounds\", axis_label='Temperature [°C]'), 'right')\n",
    "\n",
    "# # add a circle renderer with a size, color, and alpha\n",
    "# for p in players:\n",
    "#     player_color = PLAYER_COLORS[p]\n",
    "\n",
    "#     source = ColumnDataSource(ev_df.query(f'player == {p}')[['t', 'reward']])\n",
    "#     label = f'Reward {p}'\n",
    "#     plot.line('t', f'reward', source=source, legend_label=label, name=label, color=player_color)\n",
    "\n",
    "# utility_sum = ev_df.groupby('t')['reward'].sum().to_frame('reward')\n",
    "# source = ColumnDataSource(utility_sum) \n",
    "# label = f'Total Reward'\n",
    "# plot.line('t', f'reward', source=source, legend_label=label, name=label, color='red', line_width=1)\n",
    "\n",
    "# median_length = ev_df.groupby('t')['median_length'].first().to_frame('length')\n",
    "# source = ColumnDataSource(median_length) \n",
    "# label = f'Median Length'\n",
    "# plot.line('t', f'length', source=source, legend_label=label, name=label, color='black', line_width=1, y_range_name=\"rounds\")\n",
    "\n",
    "\n",
    "# plot.legend.click_policy = \"hide\"\n",
    "# plot.xaxis.axis_label = 'Iteration (M)'\n",
    "\n",
    "# TOOLTIPS = [\n",
    "#     (\"Name\", \"$name\",),\n",
    "#     (\"(x,y)\", \"($x, $y)\"),\n",
    "# ]   \n",
    "# plot.add_tools(HoverTool(tooltips=TOOLTIPS))\n",
    "# show(plot)"
   ]
  },
  {
   "cell_type": "code",
   "execution_count": 23,
   "id": "dd45d59b-a27a-44fd-83de-9e976d540efa",
   "metadata": {},
   "outputs": [],
   "source": [
    "x = [0, 1, 0, 0, 1]"
   ]
  },
  {
   "cell_type": "code",
   "execution_count": 27,
   "id": "2ead3610-1cb0-4151-aacb-fa3782d81621",
   "metadata": {},
   "outputs": [
    {
     "data": {
      "text/plain": [
       "[1, 4]"
      ]
     },
     "execution_count": 27,
     "metadata": {},
     "output_type": "execute_result"
    }
   ],
   "source": [
    "np.nonzero(x)[0].tolist()"
   ]
  },
  {
   "cell_type": "code",
   "execution_count": null,
   "id": "d369297f-99a1-462f-a0b3-ca589608c238",
   "metadata": {},
   "outputs": [],
   "source": []
  }
 ],
 "metadata": {
  "kernelspec": {
   "display_name": "Django Shell-Plus",
   "language": "python",
   "name": "django_extensions"
  },
  "language_info": {
   "codemirror_mode": {
    "name": "ipython",
    "version": 3
   },
   "file_extension": ".py",
   "mimetype": "text/x-python",
   "name": "python",
   "nbconvert_exporter": "python",
   "pygments_lexer": "ipython3",
   "version": "3.8.2"
  }
 },
 "nbformat": 4,
 "nbformat_minor": 5
}
