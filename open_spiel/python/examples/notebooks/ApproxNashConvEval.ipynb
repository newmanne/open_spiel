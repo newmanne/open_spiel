{
 "cells": [
  {
   "cell_type": "code",
   "execution_count": 107,
   "id": "f50f4792-37a4-4c7a-89ea-082a7551ae44",
   "metadata": {},
   "outputs": [
    {
     "name": "stdout",
     "output_type": "stream",
     "text": [
      "The autoreload extension is already loaded. To reload it, use:\n",
      "  %reload_ext autoreload\n"
     ]
    }
   ],
   "source": [
    "%load_ext autoreload\n",
    "%autoreload 2\n",
    "%matplotlib inline\n",
    "\n",
    "import sys\n",
    "import glob\n",
    "import pandas as pd\n",
    "import os\n",
    "import seaborn as sns\n",
    "\n",
    "from tqdm import tqdm\n",
    "from statsmodels.distributions.empirical_distribution import ECDF\n",
    "from collections import defaultdict\n",
    "import pickle\n",
    "import re\n",
    "import json\n",
    "from pathlib import Path\n",
    "\n",
    "\n",
    "from open_spiel.python.algorithms.exploitability import nash_conv, best_response\n",
    "from open_spiel.python.examples.ubc_plotting_utils import *\n",
    "\n",
    "\n",
    "import bokeh\n",
    "from bokeh.layouts import row, column\n",
    "from bokeh.plotting import figure, show, output_file, save\n",
    "from bokeh.io import output_notebook\n",
    "from bokeh.models import HoverTool, ColumnDataSource, ColorBar, LogColorMapper, LinearColorMapper\n",
    "from bokeh.transform import linear_cmap, log_cmap\n",
    "os.environ[\"DJANGO_ALLOW_ASYNC_UNSAFE\"] = \"true\"\n",
    "\n"
   ]
  },
  {
   "cell_type": "code",
   "execution_count": 128,
   "id": "5a361679-da0d-42ff-8e2e-9290cb401d05",
   "metadata": {},
   "outputs": [
    {
     "data": {
      "text/plain": [
       "<Experiment: albert_games4>"
      ]
     },
     "execution_count": 128,
     "metadata": {},
     "output_type": "execute_result"
    }
   ],
   "source": [
    "# experiment = Experiment.objects.get(name='april11_flattest_large_2')\n",
    "experiment = Experiment.objects.get(name='albert_games4')\n",
    "experiment"
   ]
  },
  {
   "cell_type": "code",
   "execution_count": 129,
   "id": "86270685-ab1d-4a09-aeaa-9c69b477cc07",
   "metadata": {},
   "outputs": [
    {
     "name": "stderr",
     "output_type": "stream",
     "text": [
      "100%|███████████████████████████████████████████████████████████████████████████████████████████████████████████████████████████████████████████████████████████████████████████████████████████████████████████████████████████████████████████| 3/3 [00:00<00:00, 22.54it/s]\n"
     ]
    }
   ],
   "source": [
    "master_df = get_all_frames(experiment, expected_additional_br=3)"
   ]
  },
  {
   "cell_type": "code",
   "execution_count": 130,
   "id": "8650d99d-bc01-4fab-bfb2-f0bbbf03659d",
   "metadata": {},
   "outputs": [
    {
     "data": {
      "text/plain": [
       "150"
      ]
     },
     "execution_count": 130,
     "metadata": {},
     "output_type": "execute_result"
    }
   ],
   "source": [
    "len(master_df)"
   ]
  },
  {
   "cell_type": "code",
   "execution_count": 131,
   "id": "afdfcc1c-ec0c-4ffe-9e9e-68c8864b4e41",
   "metadata": {},
   "outputs": [],
   "source": [
    "# !ls /shared/outputs"
   ]
  },
  {
   "cell_type": "code",
   "execution_count": 132,
   "id": "f7f8a0c3-8c9e-45ca-b90e-b31c37f308c1",
   "metadata": {},
   "outputs": [
    {
     "data": {
      "text/html": [
       "\n",
       "    <div class=\"bk-root\">\n",
       "        <a href=\"https://bokeh.org\" target=\"_blank\" class=\"bk-logo bk-logo-small bk-logo-notebook\"></a>\n",
       "        <span id=\"98576\">Loading BokehJS ...</span>\n",
       "    </div>"
      ]
     },
     "metadata": {},
     "output_type": "display_data"
    },
    {
     "data": {
      "application/javascript": [
       "\n",
       "(function(root) {\n",
       "  function now() {\n",
       "    return new Date();\n",
       "  }\n",
       "\n",
       "  const force = true;\n",
       "\n",
       "  if (typeof root._bokeh_onload_callbacks === \"undefined\" || force === true) {\n",
       "    root._bokeh_onload_callbacks = [];\n",
       "    root._bokeh_is_loading = undefined;\n",
       "  }\n",
       "\n",
       "  const JS_MIME_TYPE = 'application/javascript';\n",
       "  const HTML_MIME_TYPE = 'text/html';\n",
       "  const EXEC_MIME_TYPE = 'application/vnd.bokehjs_exec.v0+json';\n",
       "  const CLASS_NAME = 'output_bokeh rendered_html';\n",
       "\n",
       "  /**\n",
       "   * Render data to the DOM node\n",
       "   */\n",
       "  function render(props, node) {\n",
       "    const script = document.createElement(\"script\");\n",
       "    node.appendChild(script);\n",
       "  }\n",
       "\n",
       "  /**\n",
       "   * Handle when an output is cleared or removed\n",
       "   */\n",
       "  function handleClearOutput(event, handle) {\n",
       "    const cell = handle.cell;\n",
       "\n",
       "    const id = cell.output_area._bokeh_element_id;\n",
       "    const server_id = cell.output_area._bokeh_server_id;\n",
       "    // Clean up Bokeh references\n",
       "    if (id != null && id in Bokeh.index) {\n",
       "      Bokeh.index[id].model.document.clear();\n",
       "      delete Bokeh.index[id];\n",
       "    }\n",
       "\n",
       "    if (server_id !== undefined) {\n",
       "      // Clean up Bokeh references\n",
       "      const cmd_clean = \"from bokeh.io.state import curstate; print(curstate().uuid_to_server['\" + server_id + \"'].get_sessions()[0].document.roots[0]._id)\";\n",
       "      cell.notebook.kernel.execute(cmd_clean, {\n",
       "        iopub: {\n",
       "          output: function(msg) {\n",
       "            const id = msg.content.text.trim();\n",
       "            if (id in Bokeh.index) {\n",
       "              Bokeh.index[id].model.document.clear();\n",
       "              delete Bokeh.index[id];\n",
       "            }\n",
       "          }\n",
       "        }\n",
       "      });\n",
       "      // Destroy server and session\n",
       "      const cmd_destroy = \"import bokeh.io.notebook as ion; ion.destroy_server('\" + server_id + \"')\";\n",
       "      cell.notebook.kernel.execute(cmd_destroy);\n",
       "    }\n",
       "  }\n",
       "\n",
       "  /**\n",
       "   * Handle when a new output is added\n",
       "   */\n",
       "  function handleAddOutput(event, handle) {\n",
       "    const output_area = handle.output_area;\n",
       "    const output = handle.output;\n",
       "\n",
       "    // limit handleAddOutput to display_data with EXEC_MIME_TYPE content only\n",
       "    if ((output.output_type != \"display_data\") || (!Object.prototype.hasOwnProperty.call(output.data, EXEC_MIME_TYPE))) {\n",
       "      return\n",
       "    }\n",
       "\n",
       "    const toinsert = output_area.element.find(\".\" + CLASS_NAME.split(' ')[0]);\n",
       "\n",
       "    if (output.metadata[EXEC_MIME_TYPE][\"id\"] !== undefined) {\n",
       "      toinsert[toinsert.length - 1].firstChild.textContent = output.data[JS_MIME_TYPE];\n",
       "      // store reference to embed id on output_area\n",
       "      output_area._bokeh_element_id = output.metadata[EXEC_MIME_TYPE][\"id\"];\n",
       "    }\n",
       "    if (output.metadata[EXEC_MIME_TYPE][\"server_id\"] !== undefined) {\n",
       "      const bk_div = document.createElement(\"div\");\n",
       "      bk_div.innerHTML = output.data[HTML_MIME_TYPE];\n",
       "      const script_attrs = bk_div.children[0].attributes;\n",
       "      for (let i = 0; i < script_attrs.length; i++) {\n",
       "        toinsert[toinsert.length - 1].firstChild.setAttribute(script_attrs[i].name, script_attrs[i].value);\n",
       "        toinsert[toinsert.length - 1].firstChild.textContent = bk_div.children[0].textContent\n",
       "      }\n",
       "      // store reference to server id on output_area\n",
       "      output_area._bokeh_server_id = output.metadata[EXEC_MIME_TYPE][\"server_id\"];\n",
       "    }\n",
       "  }\n",
       "\n",
       "  function register_renderer(events, OutputArea) {\n",
       "\n",
       "    function append_mime(data, metadata, element) {\n",
       "      // create a DOM node to render to\n",
       "      const toinsert = this.create_output_subarea(\n",
       "        metadata,\n",
       "        CLASS_NAME,\n",
       "        EXEC_MIME_TYPE\n",
       "      );\n",
       "      this.keyboard_manager.register_events(toinsert);\n",
       "      // Render to node\n",
       "      const props = {data: data, metadata: metadata[EXEC_MIME_TYPE]};\n",
       "      render(props, toinsert[toinsert.length - 1]);\n",
       "      element.append(toinsert);\n",
       "      return toinsert\n",
       "    }\n",
       "\n",
       "    /* Handle when an output is cleared or removed */\n",
       "    events.on('clear_output.CodeCell', handleClearOutput);\n",
       "    events.on('delete.Cell', handleClearOutput);\n",
       "\n",
       "    /* Handle when a new output is added */\n",
       "    events.on('output_added.OutputArea', handleAddOutput);\n",
       "\n",
       "    /**\n",
       "     * Register the mime type and append_mime function with output_area\n",
       "     */\n",
       "    OutputArea.prototype.register_mime_type(EXEC_MIME_TYPE, append_mime, {\n",
       "      /* Is output safe? */\n",
       "      safe: true,\n",
       "      /* Index of renderer in `output_area.display_order` */\n",
       "      index: 0\n",
       "    });\n",
       "  }\n",
       "\n",
       "  // register the mime type if in Jupyter Notebook environment and previously unregistered\n",
       "  if (root.Jupyter !== undefined) {\n",
       "    const events = require('base/js/events');\n",
       "    const OutputArea = require('notebook/js/outputarea').OutputArea;\n",
       "\n",
       "    if (OutputArea.prototype.mime_types().indexOf(EXEC_MIME_TYPE) == -1) {\n",
       "      register_renderer(events, OutputArea);\n",
       "    }\n",
       "  }\n",
       "\n",
       "  \n",
       "  if (typeof (root._bokeh_timeout) === \"undefined\" || force === true) {\n",
       "    root._bokeh_timeout = Date.now() + 5000;\n",
       "    root._bokeh_failed_load = false;\n",
       "  }\n",
       "\n",
       "  const NB_LOAD_WARNING = {'data': {'text/html':\n",
       "     \"<div style='background-color: #fdd'>\\n\"+\n",
       "     \"<p>\\n\"+\n",
       "     \"BokehJS does not appear to have successfully loaded. If loading BokehJS from CDN, this \\n\"+\n",
       "     \"may be due to a slow or bad network connection. Possible fixes:\\n\"+\n",
       "     \"</p>\\n\"+\n",
       "     \"<ul>\\n\"+\n",
       "     \"<li>re-rerun `output_notebook()` to attempt to load from CDN again, or</li>\\n\"+\n",
       "     \"<li>use INLINE resources instead, as so:</li>\\n\"+\n",
       "     \"</ul>\\n\"+\n",
       "     \"<code>\\n\"+\n",
       "     \"from bokeh.resources import INLINE\\n\"+\n",
       "     \"output_notebook(resources=INLINE)\\n\"+\n",
       "     \"</code>\\n\"+\n",
       "     \"</div>\"}};\n",
       "\n",
       "  function display_loaded() {\n",
       "    const el = document.getElementById(\"98576\");\n",
       "    if (el != null) {\n",
       "      el.textContent = \"BokehJS is loading...\";\n",
       "    }\n",
       "    if (root.Bokeh !== undefined) {\n",
       "      if (el != null) {\n",
       "        el.textContent = \"BokehJS \" + root.Bokeh.version + \" successfully loaded.\";\n",
       "      }\n",
       "    } else if (Date.now() < root._bokeh_timeout) {\n",
       "      setTimeout(display_loaded, 100)\n",
       "    }\n",
       "  }\n",
       "\n",
       "\n",
       "  function run_callbacks() {\n",
       "    try {\n",
       "      root._bokeh_onload_callbacks.forEach(function(callback) {\n",
       "        if (callback != null)\n",
       "          callback();\n",
       "      });\n",
       "    } finally {\n",
       "      delete root._bokeh_onload_callbacks\n",
       "    }\n",
       "    console.debug(\"Bokeh: all callbacks have finished\");\n",
       "  }\n",
       "\n",
       "  function load_libs(css_urls, js_urls, callback) {\n",
       "    if (css_urls == null) css_urls = [];\n",
       "    if (js_urls == null) js_urls = [];\n",
       "\n",
       "    root._bokeh_onload_callbacks.push(callback);\n",
       "    if (root._bokeh_is_loading > 0) {\n",
       "      console.debug(\"Bokeh: BokehJS is being loaded, scheduling callback at\", now());\n",
       "      return null;\n",
       "    }\n",
       "    if (js_urls == null || js_urls.length === 0) {\n",
       "      run_callbacks();\n",
       "      return null;\n",
       "    }\n",
       "    console.debug(\"Bokeh: BokehJS not loaded, scheduling load and callback at\", now());\n",
       "    root._bokeh_is_loading = css_urls.length + js_urls.length;\n",
       "\n",
       "    function on_load() {\n",
       "      root._bokeh_is_loading--;\n",
       "      if (root._bokeh_is_loading === 0) {\n",
       "        console.debug(\"Bokeh: all BokehJS libraries/stylesheets loaded\");\n",
       "        run_callbacks()\n",
       "      }\n",
       "    }\n",
       "\n",
       "    function on_error(url) {\n",
       "      console.error(\"failed to load \" + url);\n",
       "    }\n",
       "\n",
       "    for (let i = 0; i < css_urls.length; i++) {\n",
       "      const url = css_urls[i];\n",
       "      const element = document.createElement(\"link\");\n",
       "      element.onload = on_load;\n",
       "      element.onerror = on_error.bind(null, url);\n",
       "      element.rel = \"stylesheet\";\n",
       "      element.type = \"text/css\";\n",
       "      element.href = url;\n",
       "      console.debug(\"Bokeh: injecting link tag for BokehJS stylesheet: \", url);\n",
       "      document.body.appendChild(element);\n",
       "    }\n",
       "\n",
       "    for (let i = 0; i < js_urls.length; i++) {\n",
       "      const url = js_urls[i];\n",
       "      const element = document.createElement('script');\n",
       "      element.onload = on_load;\n",
       "      element.onerror = on_error.bind(null, url);\n",
       "      element.async = false;\n",
       "      element.src = url;\n",
       "      console.debug(\"Bokeh: injecting script tag for BokehJS library: \", url);\n",
       "      document.head.appendChild(element);\n",
       "    }\n",
       "  };\n",
       "\n",
       "  function inject_raw_css(css) {\n",
       "    const element = document.createElement(\"style\");\n",
       "    element.appendChild(document.createTextNode(css));\n",
       "    document.body.appendChild(element);\n",
       "  }\n",
       "\n",
       "  \n",
       "  const js_urls = [\"https://cdn.bokeh.org/bokeh/release/bokeh-2.4.2.min.js\", \"https://cdn.bokeh.org/bokeh/release/bokeh-gl-2.4.2.min.js\", \"https://cdn.bokeh.org/bokeh/release/bokeh-widgets-2.4.2.min.js\", \"https://cdn.bokeh.org/bokeh/release/bokeh-tables-2.4.2.min.js\", \"https://cdn.bokeh.org/bokeh/release/bokeh-mathjax-2.4.2.min.js\"];\n",
       "  const css_urls = [];\n",
       "  \n",
       "\n",
       "  const inline_js = [\n",
       "    function(Bokeh) {\n",
       "      Bokeh.set_log_level(\"info\");\n",
       "    },\n",
       "    function(Bokeh) {\n",
       "    \n",
       "    \n",
       "    }\n",
       "  ];\n",
       "\n",
       "  function run_inline_js() {\n",
       "    \n",
       "    if (root.Bokeh !== undefined || force === true) {\n",
       "      \n",
       "    for (let i = 0; i < inline_js.length; i++) {\n",
       "      inline_js[i].call(root, root.Bokeh);\n",
       "    }\n",
       "    if (force === true) {\n",
       "        display_loaded();\n",
       "      }} else if (Date.now() < root._bokeh_timeout) {\n",
       "      setTimeout(run_inline_js, 100);\n",
       "    } else if (!root._bokeh_failed_load) {\n",
       "      console.log(\"Bokeh: BokehJS failed to load within specified timeout.\");\n",
       "      root._bokeh_failed_load = true;\n",
       "    } else if (force !== true) {\n",
       "      const cell = $(document.getElementById(\"98576\")).parents('.cell').data().cell;\n",
       "      cell.output_area.append_execute_result(NB_LOAD_WARNING)\n",
       "    }\n",
       "\n",
       "  }\n",
       "\n",
       "  if (root._bokeh_is_loading === 0) {\n",
       "    console.debug(\"Bokeh: BokehJS loaded, going straight to plotting\");\n",
       "    run_inline_js();\n",
       "  } else {\n",
       "    load_libs(css_urls, js_urls, function() {\n",
       "      console.debug(\"Bokeh: BokehJS plotting callback run at\", now());\n",
       "      run_inline_js();\n",
       "    });\n",
       "  }\n",
       "}(window));"
      ],
      "application/vnd.bokehjs_load.v0+json": "\n(function(root) {\n  function now() {\n    return new Date();\n  }\n\n  const force = true;\n\n  if (typeof root._bokeh_onload_callbacks === \"undefined\" || force === true) {\n    root._bokeh_onload_callbacks = [];\n    root._bokeh_is_loading = undefined;\n  }\n\n  \n\n  \n  if (typeof (root._bokeh_timeout) === \"undefined\" || force === true) {\n    root._bokeh_timeout = Date.now() + 5000;\n    root._bokeh_failed_load = false;\n  }\n\n  const NB_LOAD_WARNING = {'data': {'text/html':\n     \"<div style='background-color: #fdd'>\\n\"+\n     \"<p>\\n\"+\n     \"BokehJS does not appear to have successfully loaded. If loading BokehJS from CDN, this \\n\"+\n     \"may be due to a slow or bad network connection. Possible fixes:\\n\"+\n     \"</p>\\n\"+\n     \"<ul>\\n\"+\n     \"<li>re-rerun `output_notebook()` to attempt to load from CDN again, or</li>\\n\"+\n     \"<li>use INLINE resources instead, as so:</li>\\n\"+\n     \"</ul>\\n\"+\n     \"<code>\\n\"+\n     \"from bokeh.resources import INLINE\\n\"+\n     \"output_notebook(resources=INLINE)\\n\"+\n     \"</code>\\n\"+\n     \"</div>\"}};\n\n  function display_loaded() {\n    const el = document.getElementById(\"98576\");\n    if (el != null) {\n      el.textContent = \"BokehJS is loading...\";\n    }\n    if (root.Bokeh !== undefined) {\n      if (el != null) {\n        el.textContent = \"BokehJS \" + root.Bokeh.version + \" successfully loaded.\";\n      }\n    } else if (Date.now() < root._bokeh_timeout) {\n      setTimeout(display_loaded, 100)\n    }\n  }\n\n\n  function run_callbacks() {\n    try {\n      root._bokeh_onload_callbacks.forEach(function(callback) {\n        if (callback != null)\n          callback();\n      });\n    } finally {\n      delete root._bokeh_onload_callbacks\n    }\n    console.debug(\"Bokeh: all callbacks have finished\");\n  }\n\n  function load_libs(css_urls, js_urls, callback) {\n    if (css_urls == null) css_urls = [];\n    if (js_urls == null) js_urls = [];\n\n    root._bokeh_onload_callbacks.push(callback);\n    if (root._bokeh_is_loading > 0) {\n      console.debug(\"Bokeh: BokehJS is being loaded, scheduling callback at\", now());\n      return null;\n    }\n    if (js_urls == null || js_urls.length === 0) {\n      run_callbacks();\n      return null;\n    }\n    console.debug(\"Bokeh: BokehJS not loaded, scheduling load and callback at\", now());\n    root._bokeh_is_loading = css_urls.length + js_urls.length;\n\n    function on_load() {\n      root._bokeh_is_loading--;\n      if (root._bokeh_is_loading === 0) {\n        console.debug(\"Bokeh: all BokehJS libraries/stylesheets loaded\");\n        run_callbacks()\n      }\n    }\n\n    function on_error(url) {\n      console.error(\"failed to load \" + url);\n    }\n\n    for (let i = 0; i < css_urls.length; i++) {\n      const url = css_urls[i];\n      const element = document.createElement(\"link\");\n      element.onload = on_load;\n      element.onerror = on_error.bind(null, url);\n      element.rel = \"stylesheet\";\n      element.type = \"text/css\";\n      element.href = url;\n      console.debug(\"Bokeh: injecting link tag for BokehJS stylesheet: \", url);\n      document.body.appendChild(element);\n    }\n\n    for (let i = 0; i < js_urls.length; i++) {\n      const url = js_urls[i];\n      const element = document.createElement('script');\n      element.onload = on_load;\n      element.onerror = on_error.bind(null, url);\n      element.async = false;\n      element.src = url;\n      console.debug(\"Bokeh: injecting script tag for BokehJS library: \", url);\n      document.head.appendChild(element);\n    }\n  };\n\n  function inject_raw_css(css) {\n    const element = document.createElement(\"style\");\n    element.appendChild(document.createTextNode(css));\n    document.body.appendChild(element);\n  }\n\n  \n  const js_urls = [\"https://cdn.bokeh.org/bokeh/release/bokeh-2.4.2.min.js\", \"https://cdn.bokeh.org/bokeh/release/bokeh-gl-2.4.2.min.js\", \"https://cdn.bokeh.org/bokeh/release/bokeh-widgets-2.4.2.min.js\", \"https://cdn.bokeh.org/bokeh/release/bokeh-tables-2.4.2.min.js\", \"https://cdn.bokeh.org/bokeh/release/bokeh-mathjax-2.4.2.min.js\"];\n  const css_urls = [];\n  \n\n  const inline_js = [\n    function(Bokeh) {\n      Bokeh.set_log_level(\"info\");\n    },\n    function(Bokeh) {\n    \n    \n    }\n  ];\n\n  function run_inline_js() {\n    \n    if (root.Bokeh !== undefined || force === true) {\n      \n    for (let i = 0; i < inline_js.length; i++) {\n      inline_js[i].call(root, root.Bokeh);\n    }\n    if (force === true) {\n        display_loaded();\n      }} else if (Date.now() < root._bokeh_timeout) {\n      setTimeout(run_inline_js, 100);\n    } else if (!root._bokeh_failed_load) {\n      console.log(\"Bokeh: BokehJS failed to load within specified timeout.\");\n      root._bokeh_failed_load = true;\n    } else if (force !== true) {\n      const cell = $(document.getElementById(\"98576\")).parents('.cell').data().cell;\n      cell.output_area.append_execute_result(NB_LOAD_WARNING)\n    }\n\n  }\n\n  if (root._bokeh_is_loading === 0) {\n    console.debug(\"Bokeh: BokehJS loaded, going straight to plotting\");\n    run_inline_js();\n  } else {\n    load_libs(css_urls, js_urls, function() {\n      console.debug(\"Bokeh: BokehJS plotting callback run at\", now());\n      run_inline_js();\n    });\n  }\n}(window));"
     },
     "metadata": {},
     "output_type": "display_data"
    },
    {
     "data": {
      "text/html": [
       "\n",
       "\n",
       "\n",
       "\n",
       "\n",
       "\n",
       "  <div class=\"bk-root\" id=\"96797ee1-0704-47d5-a355-d9572b8e8555\" data-root-id=\"97844\"></div>\n"
      ]
     },
     "metadata": {},
     "output_type": "display_data"
    },
    {
     "data": {
      "application/javascript": [
       "(function(root) {\n",
       "  function embed_document(root) {\n",
       "    \n",
       "  const docs_json = {\"3af16afd-39ed-47e2-bd03-1f61d6440b34\":{\"defs\":[],\"roots\":{\"references\":[{\"attributes\":{\"below\":[{\"id\":\"97855\"}],\"center\":[{\"id\":\"97858\"},{\"id\":\"97862\"},{\"id\":\"97894\"}],\"height\":400,\"left\":[{\"id\":\"97859\"}],\"renderers\":[{\"id\":\"97882\"},{\"id\":\"97901\"},{\"id\":\"97921\"},{\"id\":\"97942\"}],\"title\":{\"id\":\"97845\"},\"toolbar\":{\"id\":\"97870\"},\"width\":900,\"x_range\":{\"id\":\"97847\"},\"x_scale\":{\"id\":\"97851\"},\"y_range\":{\"id\":\"97849\"},\"y_scale\":{\"id\":\"97853\"}},\"id\":\"97844\",\"subtype\":\"Figure\",\"type\":\"Plot\"},{\"attributes\":{\"axis_label\":\"Regret\",\"coordinates\":null,\"formatter\":{\"id\":\"97886\"},\"group\":null,\"major_label_policy\":{\"id\":\"97887\"},\"ticker\":{\"id\":\"97860\"}},\"id\":\"97859\",\"type\":\"LinearAxis\"},{\"attributes\":{\"data\":{\"x\":[1.0],\"y\":[0]},\"selected\":{\"id\":\"100401\"},\"selection_policy\":{\"id\":\"100400\"}},\"id\":\"97938\",\"type\":\"ColumnDataSource\"},{\"attributes\":{\"line_alpha\":0.1,\"line_color\":\"#1f77b4\",\"line_width\":3,\"x\":{\"field\":\"t\"},\"y\":{\"field\":\"ApproxNashConv\"}},\"id\":\"97880\",\"type\":\"Line\"},{\"attributes\":{\"axis_label\":\"Iteration (M)\",\"coordinates\":null,\"formatter\":{\"id\":\"97889\"},\"group\":null,\"major_label_policy\":{\"id\":\"97890\"},\"ticker\":{\"id\":\"97856\"}},\"id\":\"97855\",\"type\":\"LinearAxis\"},{\"attributes\":{\"source\":{\"id\":\"97896\"}},\"id\":\"97902\",\"type\":\"CDSView\"},{\"attributes\":{},\"id\":\"97868\",\"type\":\"HelpTool\"},{\"attributes\":{},\"id\":\"97887\",\"type\":\"AllLabels\"},{\"attributes\":{},\"id\":\"97890\",\"type\":\"AllLabels\"},{\"attributes\":{\"line_color\":\"#aec7e8\",\"line_width\":3,\"x\":{\"field\":\"t\"},\"y\":{\"field\":\"ApproxNashConv\"}},\"id\":\"97898\",\"type\":\"Line\"},{\"attributes\":{\"click_policy\":\"hide\",\"coordinates\":null,\"group\":null,\"items\":[{\"id\":\"97895\"},{\"id\":\"97915\"},{\"id\":\"97937\"}]},\"id\":\"97894\",\"type\":\"Legend\"},{\"attributes\":{\"tools\":[{\"id\":\"97863\"},{\"id\":\"97864\"},{\"id\":\"97865\"},{\"id\":\"97866\"},{\"id\":\"97867\"},{\"id\":\"97868\"},{\"id\":\"97944\"}]},\"id\":\"97870\",\"type\":\"Toolbar\"},{\"attributes\":{\"callback\":null},\"id\":\"97944\",\"type\":\"HoverTool\"},{\"attributes\":{\"bottom_units\":\"screen\",\"coordinates\":null,\"fill_alpha\":0.5,\"fill_color\":\"lightgrey\",\"group\":null,\"left_units\":\"screen\",\"level\":\"overlay\",\"line_alpha\":1.0,\"line_color\":\"black\",\"line_dash\":[4,4],\"line_width\":2,\"right_units\":\"screen\",\"syncable\":false,\"top_units\":\"screen\"},\"id\":\"97869\",\"type\":\"BoxAnnotation\"},{\"attributes\":{},\"id\":\"97864\",\"type\":\"WheelZoomTool\"},{\"attributes\":{\"label\":{\"value\":\"rw_game_2_war_95-april12lstm-100\"},\"renderers\":[{\"id\":\"97901\"}]},\"id\":\"97915\",\"type\":\"LegendItem\"},{\"attributes\":{\"label\":{\"value\":\"rw_game_2_war_95-april12mlp-100\"},\"renderers\":[{\"id\":\"97921\"}]},\"id\":\"97937\",\"type\":\"LegendItem\"},{\"attributes\":{\"line_width\":{\"value\":5},\"x\":{\"field\":\"x\"},\"y\":{\"field\":\"y\"}},\"id\":\"97939\",\"type\":\"Ray\"},{\"attributes\":{},\"id\":\"97886\",\"type\":\"BasicTickFormatter\"},{\"attributes\":{\"line_alpha\":0.1,\"line_color\":\"#aec7e8\",\"line_width\":3,\"x\":{\"field\":\"t\"},\"y\":{\"field\":\"ApproxNashConv\"}},\"id\":\"97899\",\"type\":\"Line\"},{\"attributes\":{},\"id\":\"97860\",\"type\":\"BasicTicker\"},{\"attributes\":{\"data\":{\"ApproxNashConv\":{\"__ndarray__\":\"LFKIbKDvJkDUUtse8AAkQDhZH3md3hRAeMsU7K1uEkDQWit6faMRQMAxVpCLHxFA\",\"dtype\":\"float64\",\"order\":\"little\",\"shape\":[6]},\"index\":[0,19,26,39,48,58],\"t\":{\"__ndarray__\":\"AAAAAAAA8D8AAAAAAAAAQAAAAAAAAAhAAAAAAAAAEEAAAAAAAAAUQAAAAAAAABhA\",\"dtype\":\"float64\",\"order\":\"little\",\"shape\":[6]}},\"selected\":{\"id\":\"97935\"},\"selection_policy\":{\"id\":\"97934\"}},\"id\":\"97916\",\"type\":\"ColumnDataSource\"},{\"attributes\":{\"axis\":{\"id\":\"97855\"},\"coordinates\":null,\"group\":null,\"ticker\":null},\"id\":\"97858\",\"type\":\"Grid\"},{\"attributes\":{\"line_color\":\"#ff7f0e\",\"line_width\":3,\"x\":{\"field\":\"t\"},\"y\":{\"field\":\"ApproxNashConv\"}},\"id\":\"97918\",\"type\":\"Line\"},{\"attributes\":{\"line_alpha\":0.1,\"line_color\":\"#ff7f0e\",\"line_width\":3,\"x\":{\"field\":\"t\"},\"y\":{\"field\":\"ApproxNashConv\"}},\"id\":\"97919\",\"type\":\"Line\"},{\"attributes\":{\"source\":{\"id\":\"97877\"}},\"id\":\"97883\",\"type\":\"CDSView\"},{\"attributes\":{},\"id\":\"97935\",\"type\":\"Selection\"},{\"attributes\":{\"line_alpha\":{\"value\":0.2},\"line_width\":{\"value\":5},\"x\":{\"field\":\"x\"},\"y\":{\"field\":\"y\"}},\"id\":\"97941\",\"type\":\"Ray\"},{\"attributes\":{},\"id\":\"97891\",\"type\":\"UnionRenderers\"},{\"attributes\":{},\"id\":\"97853\",\"type\":\"LinearScale\"},{\"attributes\":{\"coordinates\":null,\"data_source\":{\"id\":\"97938\"},\"glyph\":{\"id\":\"97939\"},\"group\":null,\"hover_glyph\":null,\"muted_glyph\":{\"id\":\"97941\"},\"nonselection_glyph\":{\"id\":\"97940\"},\"view\":{\"id\":\"97943\"}},\"id\":\"97942\",\"type\":\"GlyphRenderer\"},{\"attributes\":{\"source\":{\"id\":\"97916\"}},\"id\":\"97922\",\"type\":\"CDSView\"},{\"attributes\":{},\"id\":\"97849\",\"type\":\"DataRange1d\"},{\"attributes\":{\"line_color\":\"#1f77b4\",\"line_width\":3,\"x\":{\"field\":\"t\"},\"y\":{\"field\":\"ApproxNashConv\"}},\"id\":\"97879\",\"type\":\"Line\"},{\"attributes\":{},\"id\":\"97913\",\"type\":\"Selection\"},{\"attributes\":{\"line_alpha\":0.2,\"line_color\":\"#aec7e8\",\"line_width\":3,\"x\":{\"field\":\"t\"},\"y\":{\"field\":\"ApproxNashConv\"}},\"id\":\"97900\",\"type\":\"Line\"},{\"attributes\":{},\"id\":\"97889\",\"type\":\"BasicTickFormatter\"},{\"attributes\":{\"label\":{\"value\":\"rw_game_2_war_95-april12flat_handcrafted-100\"},\"renderers\":[{\"id\":\"97882\"}]},\"id\":\"97895\",\"type\":\"LegendItem\"},{\"attributes\":{\"line_alpha\":{\"value\":0.1},\"line_width\":{\"value\":5},\"x\":{\"field\":\"x\"},\"y\":{\"field\":\"y\"}},\"id\":\"97940\",\"type\":\"Ray\"},{\"attributes\":{},\"id\":\"97856\",\"type\":\"BasicTicker\"},{\"attributes\":{},\"id\":\"100401\",\"type\":\"Selection\"},{\"attributes\":{\"coordinates\":null,\"data_source\":{\"id\":\"97896\"},\"glyph\":{\"id\":\"97898\"},\"group\":null,\"hover_glyph\":null,\"muted_glyph\":{\"id\":\"97900\"},\"nonselection_glyph\":{\"id\":\"97899\"},\"view\":{\"id\":\"97902\"}},\"id\":\"97901\",\"type\":\"GlyphRenderer\"},{\"attributes\":{},\"id\":\"97866\",\"type\":\"SaveTool\"},{\"attributes\":{},\"id\":\"100400\",\"type\":\"UnionRenderers\"},{\"attributes\":{},\"id\":\"97934\",\"type\":\"UnionRenderers\"},{\"attributes\":{\"coordinates\":null,\"data_source\":{\"id\":\"97916\"},\"glyph\":{\"id\":\"97918\"},\"group\":null,\"hover_glyph\":null,\"muted_glyph\":{\"id\":\"97920\"},\"nonselection_glyph\":{\"id\":\"97919\"},\"view\":{\"id\":\"97922\"}},\"id\":\"97921\",\"type\":\"GlyphRenderer\"},{\"attributes\":{\"coordinates\":null,\"group\":null,\"text\":\"Approximate Nash Conv\"},\"id\":\"97845\",\"type\":\"Title\"},{\"attributes\":{},\"id\":\"97892\",\"type\":\"Selection\"},{\"attributes\":{},\"id\":\"97912\",\"type\":\"UnionRenderers\"},{\"attributes\":{\"overlay\":{\"id\":\"97869\"}},\"id\":\"97865\",\"type\":\"BoxZoomTool\"},{\"attributes\":{\"axis\":{\"id\":\"97859\"},\"coordinates\":null,\"dimension\":1,\"group\":null,\"ticker\":null},\"id\":\"97862\",\"type\":\"Grid\"},{\"attributes\":{\"data\":{\"ApproxNashConv\":{\"__ndarray__\":\"1Lr7+Yj8JEA4kaMkxkogQFjpUrmfNRhACI3YsiNrE0A=\",\"dtype\":\"float64\",\"order\":\"little\",\"shape\":[4]},\"index\":[0,18,29,38],\"t\":{\"__ndarray__\":\"AAAAAAAA8D8AAAAAAAAAQAAAAAAAAAhAAAAAAAAAEEA=\",\"dtype\":\"float64\",\"order\":\"little\",\"shape\":[4]}},\"selected\":{\"id\":\"97913\"},\"selection_policy\":{\"id\":\"97912\"}},\"id\":\"97896\",\"type\":\"ColumnDataSource\"},{\"attributes\":{},\"id\":\"97851\",\"type\":\"LinearScale\"},{\"attributes\":{\"coordinates\":null,\"data_source\":{\"id\":\"97877\"},\"glyph\":{\"id\":\"97879\"},\"group\":null,\"hover_glyph\":null,\"muted_glyph\":{\"id\":\"97881\"},\"nonselection_glyph\":{\"id\":\"97880\"},\"view\":{\"id\":\"97883\"}},\"id\":\"97882\",\"type\":\"GlyphRenderer\"},{\"attributes\":{\"line_alpha\":0.2,\"line_color\":\"#ff7f0e\",\"line_width\":3,\"x\":{\"field\":\"t\"},\"y\":{\"field\":\"ApproxNashConv\"}},\"id\":\"97920\",\"type\":\"Line\"},{\"attributes\":{},\"id\":\"97847\",\"type\":\"DataRange1d\"},{\"attributes\":{\"line_alpha\":0.2,\"line_color\":\"#1f77b4\",\"line_width\":3,\"x\":{\"field\":\"t\"},\"y\":{\"field\":\"ApproxNashConv\"}},\"id\":\"97881\",\"type\":\"Line\"},{\"attributes\":{},\"id\":\"97863\",\"type\":\"PanTool\"},{\"attributes\":{},\"id\":\"97867\",\"type\":\"ResetTool\"},{\"attributes\":{\"data\":{\"ApproxNashConv\":{\"__ndarray__\":\"O6FiojlIMkDYBRlTfcIdQGBjHUQVLSdAcHo3prEjGUAACuXEW58YQA==\",\"dtype\":\"float64\",\"order\":\"little\",\"shape\":[5]},\"index\":[0,19,26,39,48],\"t\":{\"__ndarray__\":\"AAAAAAAA8D8AAAAAAAAAQAAAAAAAAAhAAAAAAAAAEEAAAAAAAAAUQA==\",\"dtype\":\"float64\",\"order\":\"little\",\"shape\":[5]}},\"selected\":{\"id\":\"97892\"},\"selection_policy\":{\"id\":\"97891\"}},\"id\":\"97877\",\"type\":\"ColumnDataSource\"},{\"attributes\":{\"source\":{\"id\":\"97938\"}},\"id\":\"97943\",\"type\":\"CDSView\"}],\"root_ids\":[\"97844\"]},\"title\":\"Bokeh Application\",\"version\":\"2.4.2\"}};\n",
       "  const render_items = [{\"docid\":\"3af16afd-39ed-47e2-bd03-1f61d6440b34\",\"root_ids\":[\"97844\"],\"roots\":{\"97844\":\"96797ee1-0704-47d5-a355-d9572b8e8555\"}}];\n",
       "  root.Bokeh.embed.embed_items_notebook(docs_json, render_items);\n",
       "\n",
       "  }\n",
       "  if (root.Bokeh !== undefined) {\n",
       "    embed_document(root);\n",
       "  } else {\n",
       "    let attempts = 0;\n",
       "    const timer = setInterval(function(root) {\n",
       "      if (root.Bokeh !== undefined) {\n",
       "        clearInterval(timer);\n",
       "        embed_document(root);\n",
       "      } else {\n",
       "        attempts++;\n",
       "        if (attempts > 100) {\n",
       "          clearInterval(timer);\n",
       "          console.log(\"Bokeh: ERROR: Unable to run BokehJS code because BokehJS library is missing\");\n",
       "        }\n",
       "      }\n",
       "    }, 10, root)\n",
       "  }\n",
       "})(window);"
      ],
      "application/vnd.bokehjs_exec.v0+json": ""
     },
     "metadata": {
      "application/vnd.bokehjs_exec.v0+json": {
       "id": "97844"
      }
     },
     "output_type": "display_data"
    },
    {
     "data": {
      "text/html": [
       "\n",
       "\n",
       "\n",
       "\n",
       "\n",
       "\n",
       "  <div class=\"bk-root\" id=\"3d66aafb-ae23-4b3c-a27c-403ec6ec0668\" data-root-id=\"97946\"></div>\n"
      ]
     },
     "metadata": {},
     "output_type": "display_data"
    },
    {
     "data": {
      "application/javascript": [
       "(function(root) {\n",
       "  function embed_document(root) {\n",
       "    \n",
       "  const docs_json = {\"0a1e2bbd-ffd9-4bdd-b765-6be253bc53d2\":{\"defs\":[],\"roots\":{\"references\":[{\"attributes\":{\"below\":[{\"id\":\"97957\"}],\"center\":[{\"id\":\"97960\"},{\"id\":\"97964\"},{\"id\":\"97998\"}],\"height\":400,\"left\":[{\"id\":\"97961\"}],\"renderers\":[{\"id\":\"97986\"},{\"id\":\"98004\"},{\"id\":\"98023\"},{\"id\":\"98047\"},{\"id\":\"98070\"},{\"id\":\"98095\"},{\"id\":\"98123\"},{\"id\":\"98152\"}],\"title\":{\"id\":\"97947\"},\"toolbar\":{\"id\":\"97972\"},\"width\":900,\"x_range\":{\"id\":\"97949\"},\"x_scale\":{\"id\":\"97953\"},\"y_range\":{\"id\":\"97951\"},\"y_scale\":{\"id\":\"97955\"}},\"id\":\"97946\",\"subtype\":\"Figure\",\"type\":\"Plot\"},{\"attributes\":{},\"id\":\"97965\",\"type\":\"PanTool\"},{\"attributes\":{\"coordinates\":null,\"data_source\":{\"id\":\"98118\"},\"glyph\":{\"id\":\"98120\"},\"group\":null,\"hover_glyph\":null,\"muted_glyph\":{\"id\":\"98122\"},\"nonselection_glyph\":{\"id\":\"98121\"},\"view\":{\"id\":\"98124\"}},\"id\":\"98123\",\"type\":\"GlyphRenderer\"},{\"attributes\":{\"line_alpha\":0.2,\"line_color\":\"red\",\"line_width\":3,\"x\":{\"field\":\"t\"},\"y\":{\"field\":\"ApproxNashConv\"}},\"id\":\"98122\",\"type\":\"Line\"},{\"attributes\":{\"data\":{\"MaxPositiveRegret\":{\"__ndarray__\":\"eNQtXcHKJUDQKF+KupgaQEiUjs+xQCZAEBUnDkCJGEBw7x3tclAYQA==\",\"dtype\":\"float64\",\"order\":\"little\",\"shape\":[5]},\"index\":[5,12,23,33,48],\"t\":{\"__ndarray__\":\"AAAAAAAA8D8AAAAAAAAAQAAAAAAAAAhAAAAAAAAAEEAAAAAAAAAUQA==\",\"dtype\":\"float64\",\"order\":\"little\",\"shape\":[5]}},\"selected\":{\"id\":\"98037\"},\"selection_policy\":{\"id\":\"98036\"}},\"id\":\"97981\",\"type\":\"ColumnDataSource\"},{\"attributes\":{},\"id\":\"98114\",\"type\":\"UnionRenderers\"},{\"attributes\":{\"line_alpha\":0.1,\"line_color\":\"blue\",\"x\":{\"field\":\"t\"},\"y\":{\"field\":\"PositiveRegret\"}},\"id\":\"98045\",\"type\":\"Line\"},{\"attributes\":{\"label\":{\"value\":\"P0 Straightforward Regret\"},\"renderers\":[{\"id\":\"98004\"}]},\"id\":\"98018\",\"type\":\"LegendItem\"},{\"attributes\":{},\"id\":\"97962\",\"type\":\"BasicTicker\"},{\"attributes\":{},\"id\":\"97969\",\"type\":\"ResetTool\"},{\"attributes\":{\"coordinates\":null,\"data_source\":{\"id\":\"97980\"},\"glyph\":{\"id\":\"98001\"},\"group\":null,\"hover_glyph\":null,\"muted_glyph\":{\"id\":\"98003\"},\"nonselection_glyph\":{\"id\":\"98002\"},\"view\":{\"id\":\"98005\"}},\"id\":\"98004\",\"type\":\"GlyphRenderer\"},{\"attributes\":{\"label\":{\"value\":\"P0 BR Regret\"},\"renderers\":[{\"id\":\"97986\"}]},\"id\":\"97999\",\"type\":\"LegendItem\"},{\"attributes\":{\"source\":{\"id\":\"98118\"}},\"id\":\"98124\",\"type\":\"CDSView\"},{\"attributes\":{},\"id\":\"98063\",\"type\":\"Selection\"},{\"attributes\":{\"line_alpha\":0.1,\"line_color\":\"green\",\"line_dash\":[6],\"x\":{\"field\":\"t\"},\"y\":{\"field\":\"PositiveRegret\"}},\"id\":\"98002\",\"type\":\"Line\"},{\"attributes\":{\"line_color\":\"green\",\"line_dash\":[6],\"x\":{\"field\":\"t\"},\"y\":{\"field\":\"PositiveRegret\"}},\"id\":\"98001\",\"type\":\"Line\"},{\"attributes\":{\"source\":{\"id\":\"98040\"}},\"id\":\"98048\",\"type\":\"CDSView\"},{\"attributes\":{\"line_alpha\":0.2,\"line_color\":\"green\",\"line_dash\":[6],\"x\":{\"field\":\"t\"},\"y\":{\"field\":\"PositiveRegret\"}},\"id\":\"98003\",\"type\":\"Line\"},{\"attributes\":{\"source\":{\"id\":\"97980\"}},\"id\":\"98005\",\"type\":\"CDSView\"},{\"attributes\":{\"line_alpha\":0.1,\"line_color\":\"green\",\"x\":{\"field\":\"t\"},\"y\":{\"field\":\"PositiveRegret\"}},\"id\":\"97984\",\"type\":\"Line\"},{\"attributes\":{\"coordinates\":null,\"data_source\":{\"id\":\"98040\"},\"glyph\":{\"id\":\"98044\"},\"group\":null,\"hover_glyph\":null,\"muted_glyph\":{\"id\":\"98046\"},\"nonselection_glyph\":{\"id\":\"98045\"},\"view\":{\"id\":\"98048\"}},\"id\":\"98047\",\"type\":\"GlyphRenderer\"},{\"attributes\":{},\"id\":\"98015\",\"type\":\"UnionRenderers\"},{\"attributes\":{\"label\":{\"value\":\"P0 Approx Regret\"},\"renderers\":[{\"id\":\"98023\"}]},\"id\":\"98039\",\"type\":\"LegendItem\"},{\"attributes\":{},\"id\":\"98144\",\"type\":\"UnionRenderers\"},{\"attributes\":{\"line_alpha\":0.2,\"line_color\":\"blue\",\"line_dash\":[6],\"x\":{\"field\":\"t\"},\"y\":{\"field\":\"PositiveRegret\"}},\"id\":\"98069\",\"type\":\"Line\"},{\"attributes\":{\"data\":{\"ApproxNashConv\":{\"__ndarray__\":\"O6FiojlIMkDYBRlTfcIdQGBjHUQVLSdAcHo3prEjGUAACuXEW58YQA==\",\"dtype\":\"float64\",\"order\":\"little\",\"shape\":[5]},\"index\":[0,19,26,39,48],\"t\":{\"__ndarray__\":\"AAAAAAAA8D8AAAAAAAAAQAAAAAAAAAhAAAAAAAAAEEAAAAAAAAAUQA==\",\"dtype\":\"float64\",\"order\":\"little\",\"shape\":[5]}},\"selected\":{\"id\":\"98145\"},\"selection_policy\":{\"id\":\"98144\"}},\"id\":\"98118\",\"type\":\"ColumnDataSource\"},{\"attributes\":{\"data\":{\"PositiveRegret\":{\"__ndarray__\":\"eNQtXcHKJUDQKF+KupgaQKBL357sISZAEBUnDkCJGECAjAquA0IYQA==\",\"dtype\":\"float64\",\"order\":\"little\",\"shape\":[5]},\"index\":[8,10,23,30,45],\"t\":{\"__ndarray__\":\"AAAAAAAA8D8AAAAAAAAAQAAAAAAAAAhAAAAAAAAAEEAAAAAAAAAUQA==\",\"dtype\":\"float64\",\"order\":\"little\",\"shape\":[5]}},\"selected\":{\"id\":\"98016\"},\"selection_policy\":{\"id\":\"98015\"}},\"id\":\"97980\",\"type\":\"ColumnDataSource\"},{\"attributes\":{},\"id\":\"98016\",\"type\":\"Selection\"},{\"attributes\":{\"label\":{\"value\":\"P1 Approx Regret\"},\"renderers\":[{\"id\":\"98095\"}]},\"id\":\"98117\",\"type\":\"LegendItem\"},{\"attributes\":{},\"id\":\"98088\",\"type\":\"Selection\"},{\"attributes\":{\"line_color\":\"blue\",\"line_dash\":[6],\"x\":{\"field\":\"t\"},\"y\":{\"field\":\"PositiveRegret\"}},\"id\":\"98067\",\"type\":\"Line\"},{\"attributes\":{},\"id\":\"97951\",\"type\":\"DataRange1d\"},{\"attributes\":{\"click_policy\":\"hide\",\"coordinates\":null,\"group\":null,\"items\":[{\"id\":\"97999\"},{\"id\":\"98018\"},{\"id\":\"98039\"},{\"id\":\"98065\"},{\"id\":\"98090\"},{\"id\":\"98117\"},{\"id\":\"98147\"}]},\"id\":\"97998\",\"type\":\"Legend\"},{\"attributes\":{},\"id\":\"98087\",\"type\":\"UnionRenderers\"},{\"attributes\":{},\"id\":\"97966\",\"type\":\"WheelZoomTool\"},{\"attributes\":{\"axis_label\":\"Regret\",\"coordinates\":null,\"formatter\":{\"id\":\"97990\"},\"group\":null,\"major_label_policy\":{\"id\":\"97991\"},\"ticker\":{\"id\":\"97962\"}},\"id\":\"97961\",\"type\":\"LinearAxis\"},{\"attributes\":{\"line_alpha\":0.2,\"line_color\":\"blue\",\"x\":{\"field\":\"t\"},\"y\":{\"field\":\"PositiveRegret\"}},\"id\":\"98046\",\"type\":\"Line\"},{\"attributes\":{\"axis\":{\"id\":\"97957\"},\"coordinates\":null,\"group\":null,\"ticker\":null},\"id\":\"97960\",\"type\":\"Grid\"},{\"attributes\":{\"data\":{\"ApproxNashConv\":{\"__ndarray__\":\"O6FiojlIMkDYBRlTfcIdQGBjHUQVLSdAcHo3prEjGUAACuXEW58YQA==\",\"dtype\":\"float64\",\"order\":\"little\",\"shape\":[5]},\"Baseline\":{\"__ndarray__\":\"rzXb/swoO0D34XD2kFlBQPP+JOhZpkFAxzFbEL7bQUCL+uHZEO5BQA==\",\"dtype\":\"float64\",\"order\":\"little\",\"shape\":[5]},\"MaxPositiveRegret\":{\"__ndarray__\":\"/Nsuz2OLHUBA6M5FFk7pPwDj2ZFujN0/AKwMAjNOwz8ApMbxNbqzPw==\",\"dtype\":\"float64\",\"order\":\"little\",\"shape\":[5]},\"PositiveRegret\":{\"__ndarray__\":\"/Nsuz2OLHUBA6M5FFk7pPwDj2ZFujN0/AKwMAjNOwz8ApMbxNbqzPw==\",\"dtype\":\"float64\",\"order\":\"little\",\"shape\":[5]},\"Regret\":{\"__ndarray__\":\"/Nsuz2OLHUBA6M5FFk7pPwDj2ZFujN0/AKwMAjNOwz8ApMbxNbqzPw==\",\"dtype\":\"float64\",\"order\":\"little\",\"shape\":[5]},\"br_player\":[1,1,1,1,1],\"index\":[1,18,26,38,40],\"model\":[\"rw_game_2_war_95-april12flat_handcrafted-100\",\"rw_game_2_war_95-april12flat_handcrafted-100\",\"rw_game_2_war_95-april12flat_handcrafted-100\",\"rw_game_2_war_95-april12flat_handcrafted-100\",\"rw_game_2_war_95-april12flat_handcrafted-100\"],\"name\":[\"april12/flat_handcrafted\",\"april12/lstm\",\"april12/flat_handcrafted\",\"april12/lstm\",\"april12/lstm\"],\"num_players\":[2,2,2,2,2],\"player\":[1,1,1,1,1],\"reward\":{\"__ndarray__\":\"V3ZT+dJFQUCYHYhPyb5BQLmySMVy4UFAcz5dQwzvQUDd3dr07fdBQA==\",\"dtype\":\"float64\",\"order\":\"little\",\"shape\":[5]},\"t\":{\"__ndarray__\":\"AAAAAAAA8D8AAAAAAAAAQAAAAAAAAAhAAAAAAAAAEEAAAAAAAAAUQA==\",\"dtype\":\"float64\",\"order\":\"little\",\"shape\":[5]}},\"selected\":{\"id\":\"98063\"},\"selection_policy\":{\"id\":\"98062\"}},\"id\":\"98040\",\"type\":\"ColumnDataSource\"},{\"attributes\":{\"data\":{\"PositiveRegret\":{\"__ndarray__\":\"AAAAAAAAAAAAAAAAAAAAAAAAAAAAAAAAAAAAAAAAAAAAAAAAAAAAAA==\",\"dtype\":\"float64\",\"order\":\"little\",\"shape\":[5]},\"index\":[3,15,28,35,41],\"t\":{\"__ndarray__\":\"AAAAAAAA8D8AAAAAAAAAQAAAAAAAAAhAAAAAAAAAEEAAAAAAAAAUQA==\",\"dtype\":\"float64\",\"order\":\"little\",\"shape\":[5]}},\"selected\":{\"id\":\"98088\"},\"selection_policy\":{\"id\":\"98087\"}},\"id\":\"98041\",\"type\":\"ColumnDataSource\"},{\"attributes\":{\"coordinates\":null,\"data_source\":{\"id\":\"98041\"},\"glyph\":{\"id\":\"98067\"},\"group\":null,\"hover_glyph\":null,\"muted_glyph\":{\"id\":\"98069\"},\"nonselection_glyph\":{\"id\":\"98068\"},\"view\":{\"id\":\"98071\"}},\"id\":\"98070\",\"type\":\"GlyphRenderer\"},{\"attributes\":{\"data\":{\"ApproxNashConv\":{\"__ndarray__\":\"O6FiojlIMkDYBRlTfcIdQGBjHUQVLSdAcHo3prEjGUAACuXEW58YQA==\",\"dtype\":\"float64\",\"order\":\"little\",\"shape\":[5]},\"Baseline\":{\"__ndarray__\":\"hcSS3SoRVUB8xZA4gRdWQHCLEZhAf1ZA/qRC0FFyVkA1DhxwyXdWQA==\",\"dtype\":\"float64\",\"order\":\"little\",\"shape\":[5]},\"MaxPositiveRegret\":{\"__ndarray__\":\"eNQtXcHKJUDQKF+KupgaQEiUjs+xQCZAEBUnDkCJGEBw7x3tclAYQA==\",\"dtype\":\"float64\",\"order\":\"little\",\"shape\":[5]},\"PositiveRegret\":{\"__ndarray__\":\"6FR9M7TDJUCAAKnWBjb4P0iUjs+xQCZAUCw6YhSFGEBw7x3tclAYQA==\",\"dtype\":\"float64\",\"order\":\"little\",\"shape\":[5]},\"Regret\":{\"__ndarray__\":\"6FR9M7TDJUCAAKnWBjb4P0iUjs+xQCZAUCw6YhSFGEBw7x3tclAYQA==\",\"dtype\":\"float64\",\"order\":\"little\",\"shape\":[5]},\"br_player\":[0,0,0,0,0],\"index\":[5,12,22,33,48],\"model\":[\"rw_game_2_war_95-april12flat_handcrafted-100\",\"rw_game_2_war_95-april12flat_handcrafted-100\",\"rw_game_2_war_95-april12flat_handcrafted-100\",\"rw_game_2_war_95-april12flat_handcrafted-100\",\"rw_game_2_war_95-april12flat_handcrafted-100\"],\"name\":[\"april12/mlp\",\"april12/flat_handcrafted\",\"april12/lstm\",\"april12/lstm\",\"april12/lstm\"],\"num_players\":[2,2,2,2,2],\"player\":[0,0,0,0,0],\"reward\":{\"__ndarray__\":\"Im8CZKHJV0B+aetTWXhWQPldA9JWR1lAw0dmFqP6V0As7e2e0PxXQA==\",\"dtype\":\"float64\",\"order\":\"little\",\"shape\":[5]},\"t\":{\"__ndarray__\":\"AAAAAAAA8D8AAAAAAAAAQAAAAAAAAAhAAAAAAAAAEEAAAAAAAAAUQA==\",\"dtype\":\"float64\",\"order\":\"little\",\"shape\":[5]}},\"selected\":{\"id\":\"97996\"},\"selection_policy\":{\"id\":\"97995\"}},\"id\":\"97979\",\"type\":\"ColumnDataSource\"},{\"attributes\":{\"overlay\":{\"id\":\"97971\"}},\"id\":\"97967\",\"type\":\"BoxZoomTool\"},{\"attributes\":{},\"id\":\"97968\",\"type\":\"SaveTool\"},{\"attributes\":{\"label\":{\"value\":\"Approximate Nash Conv\"},\"renderers\":[{\"id\":\"98123\"}]},\"id\":\"98147\",\"type\":\"LegendItem\"},{\"attributes\":{\"data\":{\"MaxPositiveRegret\":{\"__ndarray__\":\"/Nsuz2OLHUBA6M5FFk7pPwDj2ZFujN0/AKwMAjNOwz8ApMbxNbqzPw==\",\"dtype\":\"float64\",\"order\":\"little\",\"shape\":[5]},\"index\":[0,18,26,38,40],\"t\":{\"__ndarray__\":\"AAAAAAAA8D8AAAAAAAAAQAAAAAAAAAhAAAAAAAAAEEAAAAAAAAAUQA==\",\"dtype\":\"float64\",\"order\":\"little\",\"shape\":[5]}},\"selected\":{\"id\":\"98115\"},\"selection_policy\":{\"id\":\"98114\"}},\"id\":\"98042\",\"type\":\"ColumnDataSource\"},{\"attributes\":{\"coordinates\":null,\"data_source\":{\"id\":\"97981\"},\"glyph\":{\"id\":\"98020\"},\"group\":null,\"hover_glyph\":null,\"muted_glyph\":{\"id\":\"98022\"},\"nonselection_glyph\":{\"id\":\"98021\"},\"view\":{\"id\":\"98024\"}},\"id\":\"98023\",\"type\":\"GlyphRenderer\"},{\"attributes\":{\"source\":{\"id\":\"97979\"}},\"id\":\"97987\",\"type\":\"CDSView\"},{\"attributes\":{\"line_alpha\":0.2,\"line_color\":\"green\",\"x\":{\"field\":\"t\"},\"y\":{\"field\":\"PositiveRegret\"}},\"id\":\"97985\",\"type\":\"Line\"},{\"attributes\":{\"line_alpha\":0.1,\"line_color\":\"darkgreen\",\"line_width\":2,\"x\":{\"field\":\"t\"},\"y\":{\"field\":\"MaxPositiveRegret\"}},\"id\":\"98021\",\"type\":\"Line\"},{\"attributes\":{\"line_width\":{\"value\":5},\"x\":{\"field\":\"x\"},\"y\":{\"field\":\"y\"}},\"id\":\"98149\",\"type\":\"Ray\"},{\"attributes\":{\"coordinates\":null,\"data_source\":{\"id\":\"97979\"},\"glyph\":{\"id\":\"97983\"},\"group\":null,\"hover_glyph\":null,\"muted_glyph\":{\"id\":\"97985\"},\"nonselection_glyph\":{\"id\":\"97984\"},\"view\":{\"id\":\"97987\"}},\"id\":\"97986\",\"type\":\"GlyphRenderer\"},{\"attributes\":{\"line_color\":\"darkgreen\",\"line_width\":2,\"x\":{\"field\":\"t\"},\"y\":{\"field\":\"MaxPositiveRegret\"}},\"id\":\"98020\",\"type\":\"Line\"},{\"attributes\":{},\"id\":\"97970\",\"type\":\"HelpTool\"},{\"attributes\":{\"line_alpha\":0.2,\"line_color\":\"darkgreen\",\"line_width\":2,\"x\":{\"field\":\"t\"},\"y\":{\"field\":\"MaxPositiveRegret\"}},\"id\":\"98022\",\"type\":\"Line\"},{\"attributes\":{},\"id\":\"97958\",\"type\":\"BasicTicker\"},{\"attributes\":{\"tools\":[{\"id\":\"97965\"},{\"id\":\"97966\"},{\"id\":\"97967\"},{\"id\":\"97968\"},{\"id\":\"97969\"},{\"id\":\"97970\"},{\"id\":\"98154\"}]},\"id\":\"97972\",\"type\":\"Toolbar\"},{\"attributes\":{\"source\":{\"id\":\"97981\"}},\"id\":\"98024\",\"type\":\"CDSView\"},{\"attributes\":{\"coordinates\":null,\"data_source\":{\"id\":\"98042\"},\"glyph\":{\"id\":\"98092\"},\"group\":null,\"hover_glyph\":null,\"muted_glyph\":{\"id\":\"98094\"},\"nonselection_glyph\":{\"id\":\"98093\"},\"view\":{\"id\":\"98096\"}},\"id\":\"98095\",\"type\":\"GlyphRenderer\"},{\"attributes\":{},\"id\":\"98036\",\"type\":\"UnionRenderers\"},{\"attributes\":{\"line_color\":\"green\",\"x\":{\"field\":\"t\"},\"y\":{\"field\":\"PositiveRegret\"}},\"id\":\"97983\",\"type\":\"Line\"},{\"attributes\":{},\"id\":\"98037\",\"type\":\"Selection\"},{\"attributes\":{},\"id\":\"97955\",\"type\":\"LinearScale\"},{\"attributes\":{\"axis\":{\"id\":\"97961\"},\"coordinates\":null,\"dimension\":1,\"group\":null,\"ticker\":null},\"id\":\"97964\",\"type\":\"Grid\"},{\"attributes\":{},\"id\":\"98062\",\"type\":\"UnionRenderers\"},{\"attributes\":{},\"id\":\"97949\",\"type\":\"DataRange1d\"},{\"attributes\":{\"label\":{\"value\":\"P1 Straightforward Regret\"},\"renderers\":[{\"id\":\"98070\"}]},\"id\":\"98090\",\"type\":\"LegendItem\"},{\"attributes\":{},\"id\":\"98115\",\"type\":\"Selection\"},{\"attributes\":{},\"id\":\"98145\",\"type\":\"Selection\"},{\"attributes\":{},\"id\":\"97953\",\"type\":\"LinearScale\"},{\"attributes\":{\"label\":{\"value\":\"P1 BR Regret\"},\"renderers\":[{\"id\":\"98047\"}]},\"id\":\"98065\",\"type\":\"LegendItem\"},{\"attributes\":{\"line_color\":\"blue\",\"x\":{\"field\":\"t\"},\"y\":{\"field\":\"PositiveRegret\"}},\"id\":\"98044\",\"type\":\"Line\"},{\"attributes\":{\"bottom_units\":\"screen\",\"coordinates\":null,\"fill_alpha\":0.5,\"fill_color\":\"lightgrey\",\"group\":null,\"left_units\":\"screen\",\"level\":\"overlay\",\"line_alpha\":1.0,\"line_color\":\"black\",\"line_dash\":[4,4],\"line_width\":2,\"right_units\":\"screen\",\"syncable\":false,\"top_units\":\"screen\"},\"id\":\"97971\",\"type\":\"BoxAnnotation\"},{\"attributes\":{\"coordinates\":null,\"group\":null,\"text\":\"rw_game_2_war_95-april12flat_handcrafted-100 Approximate Nash Conv\"},\"id\":\"97947\",\"type\":\"Title\"},{\"attributes\":{\"line_color\":\"red\",\"line_width\":3,\"x\":{\"field\":\"t\"},\"y\":{\"field\":\"ApproxNashConv\"}},\"id\":\"98120\",\"type\":\"Line\"},{\"attributes\":{\"line_alpha\":0.1,\"line_color\":\"blue\",\"line_dash\":[6],\"x\":{\"field\":\"t\"},\"y\":{\"field\":\"PositiveRegret\"}},\"id\":\"98068\",\"type\":\"Line\"},{\"attributes\":{\"axis_label\":\"Iteration (M)\",\"coordinates\":null,\"formatter\":{\"id\":\"97993\"},\"group\":null,\"major_label_policy\":{\"id\":\"97994\"},\"ticker\":{\"id\":\"97958\"}},\"id\":\"97957\",\"type\":\"LinearAxis\"},{\"attributes\":{\"line_alpha\":0.1,\"line_color\":\"red\",\"line_width\":3,\"x\":{\"field\":\"t\"},\"y\":{\"field\":\"ApproxNashConv\"}},\"id\":\"98121\",\"type\":\"Line\"},{\"attributes\":{\"source\":{\"id\":\"98041\"}},\"id\":\"98071\",\"type\":\"CDSView\"},{\"attributes\":{\"line_alpha\":0.1,\"line_color\":\"darkblue\",\"line_width\":2,\"x\":{\"field\":\"t\"},\"y\":{\"field\":\"MaxPositiveRegret\"}},\"id\":\"98093\",\"type\":\"Line\"},{\"attributes\":{\"coordinates\":null,\"data_source\":{\"id\":\"98148\"},\"glyph\":{\"id\":\"98149\"},\"group\":null,\"hover_glyph\":null,\"muted_glyph\":{\"id\":\"98151\"},\"nonselection_glyph\":{\"id\":\"98150\"},\"view\":{\"id\":\"98153\"}},\"id\":\"98152\",\"type\":\"GlyphRenderer\"},{\"attributes\":{\"line_color\":\"darkblue\",\"line_width\":2,\"x\":{\"field\":\"t\"},\"y\":{\"field\":\"MaxPositiveRegret\"}},\"id\":\"98092\",\"type\":\"Line\"},{\"attributes\":{\"line_alpha\":0.2,\"line_color\":\"darkblue\",\"line_width\":2,\"x\":{\"field\":\"t\"},\"y\":{\"field\":\"MaxPositiveRegret\"}},\"id\":\"98094\",\"type\":\"Line\"},{\"attributes\":{\"source\":{\"id\":\"98042\"}},\"id\":\"98096\",\"type\":\"CDSView\"},{\"attributes\":{\"data\":{\"x\":[1.0],\"y\":[0]},\"selected\":{\"id\":\"102331\"},\"selection_policy\":{\"id\":\"102330\"}},\"id\":\"98148\",\"type\":\"ColumnDataSource\"},{\"attributes\":{\"source\":{\"id\":\"98148\"}},\"id\":\"98153\",\"type\":\"CDSView\"},{\"attributes\":{\"line_alpha\":{\"value\":0.1},\"line_width\":{\"value\":5},\"x\":{\"field\":\"x\"},\"y\":{\"field\":\"y\"}},\"id\":\"98150\",\"type\":\"Ray\"},{\"attributes\":{\"line_alpha\":{\"value\":0.2},\"line_width\":{\"value\":5},\"x\":{\"field\":\"x\"},\"y\":{\"field\":\"y\"}},\"id\":\"98151\",\"type\":\"Ray\"},{\"attributes\":{\"callback\":null},\"id\":\"98154\",\"type\":\"HoverTool\"},{\"attributes\":{},\"id\":\"102331\",\"type\":\"Selection\"},{\"attributes\":{},\"id\":\"97994\",\"type\":\"AllLabels\"},{\"attributes\":{},\"id\":\"102330\",\"type\":\"UnionRenderers\"},{\"attributes\":{},\"id\":\"97995\",\"type\":\"UnionRenderers\"},{\"attributes\":{},\"id\":\"97996\",\"type\":\"Selection\"},{\"attributes\":{},\"id\":\"97993\",\"type\":\"BasicTickFormatter\"},{\"attributes\":{},\"id\":\"97991\",\"type\":\"AllLabels\"},{\"attributes\":{},\"id\":\"97990\",\"type\":\"BasicTickFormatter\"}],\"root_ids\":[\"97946\"]},\"title\":\"Bokeh Application\",\"version\":\"2.4.2\"}};\n",
       "  const render_items = [{\"docid\":\"0a1e2bbd-ffd9-4bdd-b765-6be253bc53d2\",\"root_ids\":[\"97946\"],\"roots\":{\"97946\":\"3d66aafb-ae23-4b3c-a27c-403ec6ec0668\"}}];\n",
       "  root.Bokeh.embed.embed_items_notebook(docs_json, render_items);\n",
       "\n",
       "  }\n",
       "  if (root.Bokeh !== undefined) {\n",
       "    embed_document(root);\n",
       "  } else {\n",
       "    let attempts = 0;\n",
       "    const timer = setInterval(function(root) {\n",
       "      if (root.Bokeh !== undefined) {\n",
       "        clearInterval(timer);\n",
       "        embed_document(root);\n",
       "      } else {\n",
       "        attempts++;\n",
       "        if (attempts > 100) {\n",
       "          clearInterval(timer);\n",
       "          console.log(\"Bokeh: ERROR: Unable to run BokehJS code because BokehJS library is missing\");\n",
       "        }\n",
       "      }\n",
       "    }, 10, root)\n",
       "  }\n",
       "})(window);"
      ],
      "application/vnd.bokehjs_exec.v0+json": ""
     },
     "metadata": {
      "application/vnd.bokehjs_exec.v0+json": {
       "id": "97946"
      }
     },
     "output_type": "display_data"
    },
    {
     "data": {
      "text/html": [
       "\n",
       "\n",
       "\n",
       "\n",
       "\n",
       "\n",
       "  <div class=\"bk-root\" id=\"02b8e192-3ace-4269-82b4-28e15906be4a\" data-root-id=\"98156\"></div>\n"
      ]
     },
     "metadata": {},
     "output_type": "display_data"
    },
    {
     "data": {
      "application/javascript": [
       "(function(root) {\n",
       "  function embed_document(root) {\n",
       "    \n",
       "  const docs_json = {\"bc9fdad5-5e12-4b02-8364-810379e912ad\":{\"defs\":[],\"roots\":{\"references\":[{\"attributes\":{\"below\":[{\"id\":\"98167\"}],\"center\":[{\"id\":\"98170\"},{\"id\":\"98174\"},{\"id\":\"98208\"}],\"height\":400,\"left\":[{\"id\":\"98171\"}],\"renderers\":[{\"id\":\"98196\"},{\"id\":\"98214\"},{\"id\":\"98233\"},{\"id\":\"98257\"},{\"id\":\"98280\"},{\"id\":\"98305\"},{\"id\":\"98333\"},{\"id\":\"98362\"}],\"title\":{\"id\":\"98157\"},\"toolbar\":{\"id\":\"98182\"},\"width\":900,\"x_range\":{\"id\":\"98159\"},\"x_scale\":{\"id\":\"98163\"},\"y_range\":{\"id\":\"98161\"},\"y_scale\":{\"id\":\"98165\"}},\"id\":\"98156\",\"subtype\":\"Figure\",\"type\":\"Plot\"},{\"attributes\":{},\"id\":\"104325\",\"type\":\"Selection\"},{\"attributes\":{\"data\":{\"ApproxNashConv\":{\"__ndarray__\":\"1Lr7+Yj8JEA4kaMkxkogQFjpUrmfNRhACI3YsiNrE0A=\",\"dtype\":\"float64\",\"order\":\"little\",\"shape\":[4]},\"Baseline\":{\"__ndarray__\":\"m+BTx1rfVUAEXYxBLvpVQPDwFXEBaFZAK6WBAHKPVkA=\",\"dtype\":\"float64\",\"order\":\"little\",\"shape\":[4]},\"MaxPositiveRegret\":{\"__ndarray__\":\"+JMylgbRI0Dgsv2brIIfQBCJ/lm4fBdAYFcVvf0tE0A=\",\"dtype\":\"float64\",\"order\":\"little\",\"shape\":[4]},\"PositiveRegret\":{\"__ndarray__\":\"+JMylgbRI0Dgsv2brIIfQACn3GwTdxdAgGxagRHb5j8=\",\"dtype\":\"float64\",\"order\":\"little\",\"shape\":[4]},\"Regret\":{\"__ndarray__\":\"+JMylgbRI0Dgsv2brIIfQACn3GwTdxdAgGxagRHb5j8=\",\"dtype\":\"float64\",\"order\":\"little\",\"shape\":[4]},\"br_player\":[0,0,0,0],\"index\":[3,15,28,30],\"model\":[\"rw_game_2_war_95-april12lstm-100\",\"rw_game_2_war_95-april12lstm-100\",\"rw_game_2_war_95-april12lstm-100\",\"rw_game_2_war_95-april12lstm-100\"],\"name\":[\"april12/lstm\",\"april12/lstm\",\"april12/lstm\",\"april12/mlp\"],\"num_players\":[2,2,2,2],\"player\":[0,0,0,0],\"reward\":{\"__ndarray__\":\"GjMamntZWEAyOEwLWfJXQGC746dy31dABFqEIyi9VkA=\",\"dtype\":\"float64\",\"order\":\"little\",\"shape\":[4]},\"t\":{\"__ndarray__\":\"AAAAAAAA8D8AAAAAAAAAQAAAAAAAAAhAAAAAAAAAEEA=\",\"dtype\":\"float64\",\"order\":\"little\",\"shape\":[4]}},\"selected\":{\"id\":\"98206\"},\"selection_policy\":{\"id\":\"98205\"}},\"id\":\"98189\",\"type\":\"ColumnDataSource\"},{\"attributes\":{},\"id\":\"104324\",\"type\":\"UnionRenderers\"},{\"attributes\":{\"axis_label\":\"Iteration (M)\",\"coordinates\":null,\"formatter\":{\"id\":\"98203\"},\"group\":null,\"major_label_policy\":{\"id\":\"98204\"},\"ticker\":{\"id\":\"98168\"}},\"id\":\"98167\",\"type\":\"LinearAxis\"},{\"attributes\":{},\"id\":\"98176\",\"type\":\"WheelZoomTool\"},{\"attributes\":{\"data\":{\"PositiveRegret\":{\"__ndarray__\":\"wG2SPCa44j+AtwS+jQzRPwALfrWGGsc/ANSa4fqSrj8=\",\"dtype\":\"float64\",\"order\":\"little\",\"shape\":[4]},\"index\":[5,11,20,36],\"t\":{\"__ndarray__\":\"AAAAAAAA8D8AAAAAAAAAQAAAAAAAAAhAAAAAAAAAEEA=\",\"dtype\":\"float64\",\"order\":\"little\",\"shape\":[4]}},\"selected\":{\"id\":\"98298\"},\"selection_policy\":{\"id\":\"98297\"}},\"id\":\"98251\",\"type\":\"ColumnDataSource\"},{\"attributes\":{},\"id\":\"98165\",\"type\":\"LinearScale\"},{\"attributes\":{\"data\":{\"x\":[1.0],\"y\":[0]},\"selected\":{\"id\":\"104325\"},\"selection_policy\":{\"id\":\"104324\"}},\"id\":\"98358\",\"type\":\"ColumnDataSource\"},{\"attributes\":{\"bottom_units\":\"screen\",\"coordinates\":null,\"fill_alpha\":0.5,\"fill_color\":\"lightgrey\",\"group\":null,\"left_units\":\"screen\",\"level\":\"overlay\",\"line_alpha\":1.0,\"line_color\":\"black\",\"line_dash\":[4,4],\"line_width\":2,\"right_units\":\"screen\",\"syncable\":false,\"top_units\":\"screen\"},\"id\":\"98181\",\"type\":\"BoxAnnotation\"},{\"attributes\":{\"coordinates\":null,\"data_source\":{\"id\":\"98250\"},\"glyph\":{\"id\":\"98254\"},\"group\":null,\"hover_glyph\":null,\"muted_glyph\":{\"id\":\"98256\"},\"nonselection_glyph\":{\"id\":\"98255\"},\"view\":{\"id\":\"98258\"}},\"id\":\"98257\",\"type\":\"GlyphRenderer\"},{\"attributes\":{},\"id\":\"98297\",\"type\":\"UnionRenderers\"},{\"attributes\":{\"coordinates\":null,\"data_source\":{\"id\":\"98358\"},\"glyph\":{\"id\":\"98359\"},\"group\":null,\"hover_glyph\":null,\"muted_glyph\":{\"id\":\"98361\"},\"nonselection_glyph\":{\"id\":\"98360\"},\"view\":{\"id\":\"98363\"}},\"id\":\"98362\",\"type\":\"GlyphRenderer\"},{\"attributes\":{\"label\":{\"value\":\"P0 Straightforward Regret\"},\"renderers\":[{\"id\":\"98214\"}]},\"id\":\"98228\",\"type\":\"LegendItem\"},{\"attributes\":{\"data\":{\"ApproxNashConv\":{\"__ndarray__\":\"1Lr7+Yj8JEA4kaMkxkogQFjpUrmfNRhACI3YsiNrE0A=\",\"dtype\":\"float64\",\"order\":\"little\",\"shape\":[4]},\"index\":[0,18,29,38],\"t\":{\"__ndarray__\":\"AAAAAAAA8D8AAAAAAAAAQAAAAAAAAAhAAAAAAAAAEEA=\",\"dtype\":\"float64\",\"order\":\"little\",\"shape\":[4]}},\"selected\":{\"id\":\"98355\"},\"selection_policy\":{\"id\":\"98354\"}},\"id\":\"98328\",\"type\":\"ColumnDataSource\"},{\"attributes\":{\"source\":{\"id\":\"98358\"}},\"id\":\"98363\",\"type\":\"CDSView\"},{\"attributes\":{\"coordinates\":null,\"data_source\":{\"id\":\"98190\"},\"glyph\":{\"id\":\"98211\"},\"group\":null,\"hover_glyph\":null,\"muted_glyph\":{\"id\":\"98213\"},\"nonselection_glyph\":{\"id\":\"98212\"},\"view\":{\"id\":\"98215\"}},\"id\":\"98214\",\"type\":\"GlyphRenderer\"},{\"attributes\":{\"line_alpha\":0.1,\"line_color\":\"darkblue\",\"line_width\":2,\"x\":{\"field\":\"t\"},\"y\":{\"field\":\"MaxPositiveRegret\"}},\"id\":\"98303\",\"type\":\"Line\"},{\"attributes\":{\"line_alpha\":{\"value\":0.1},\"line_width\":{\"value\":5},\"x\":{\"field\":\"x\"},\"y\":{\"field\":\"y\"}},\"id\":\"98360\",\"type\":\"Ray\"},{\"attributes\":{},\"id\":\"98172\",\"type\":\"BasicTicker\"},{\"attributes\":{\"line_alpha\":0.1,\"line_color\":\"green\",\"line_dash\":[6],\"x\":{\"field\":\"t\"},\"y\":{\"field\":\"PositiveRegret\"}},\"id\":\"98212\",\"type\":\"Line\"},{\"attributes\":{\"line_alpha\":{\"value\":0.2},\"line_width\":{\"value\":5},\"x\":{\"field\":\"x\"},\"y\":{\"field\":\"y\"}},\"id\":\"98361\",\"type\":\"Ray\"},{\"attributes\":{\"callback\":null},\"id\":\"98364\",\"type\":\"HoverTool\"},{\"attributes\":{\"line_alpha\":0.1,\"line_color\":\"blue\",\"x\":{\"field\":\"t\"},\"y\":{\"field\":\"PositiveRegret\"}},\"id\":\"98255\",\"type\":\"Line\"},{\"attributes\":{\"line_color\":\"darkblue\",\"line_width\":2,\"x\":{\"field\":\"t\"},\"y\":{\"field\":\"MaxPositiveRegret\"}},\"id\":\"98302\",\"type\":\"Line\"},{\"attributes\":{\"line_color\":\"green\",\"line_dash\":[6],\"x\":{\"field\":\"t\"},\"y\":{\"field\":\"PositiveRegret\"}},\"id\":\"98211\",\"type\":\"Line\"},{\"attributes\":{\"line_alpha\":0.2,\"line_color\":\"darkblue\",\"line_width\":2,\"x\":{\"field\":\"t\"},\"y\":{\"field\":\"MaxPositiveRegret\"}},\"id\":\"98304\",\"type\":\"Line\"},{\"attributes\":{\"line_alpha\":0.2,\"line_color\":\"green\",\"line_dash\":[6],\"x\":{\"field\":\"t\"},\"y\":{\"field\":\"PositiveRegret\"}},\"id\":\"98213\",\"type\":\"Line\"},{\"attributes\":{\"source\":{\"id\":\"98252\"}},\"id\":\"98306\",\"type\":\"CDSView\"},{\"attributes\":{\"label\":{\"value\":\"P1 Straightforward Regret\"},\"renderers\":[{\"id\":\"98280\"}]},\"id\":\"98300\",\"type\":\"LegendItem\"},{\"attributes\":{\"source\":{\"id\":\"98190\"}},\"id\":\"98215\",\"type\":\"CDSView\"},{\"attributes\":{},\"id\":\"98324\",\"type\":\"UnionRenderers\"},{\"attributes\":{},\"id\":\"98325\",\"type\":\"Selection\"},{\"attributes\":{\"label\":{\"value\":\"P1 Approx Regret\"},\"renderers\":[{\"id\":\"98305\"}]},\"id\":\"98327\",\"type\":\"LegendItem\"},{\"attributes\":{},\"id\":\"98225\",\"type\":\"UnionRenderers\"},{\"attributes\":{\"line_color\":\"blue\",\"line_dash\":[6],\"x\":{\"field\":\"t\"},\"y\":{\"field\":\"PositiveRegret\"}},\"id\":\"98277\",\"type\":\"Line\"},{\"attributes\":{\"label\":{\"value\":\"P0 Approx Regret\"},\"renderers\":[{\"id\":\"98233\"}]},\"id\":\"98249\",\"type\":\"LegendItem\"},{\"attributes\":{\"axis\":{\"id\":\"98167\"},\"coordinates\":null,\"group\":null,\"ticker\":null},\"id\":\"98170\",\"type\":\"Grid\"},{\"attributes\":{\"source\":{\"id\":\"98251\"}},\"id\":\"98281\",\"type\":\"CDSView\"},{\"attributes\":{},\"id\":\"98226\",\"type\":\"Selection\"},{\"attributes\":{},\"id\":\"98272\",\"type\":\"UnionRenderers\"},{\"attributes\":{\"coordinates\":null,\"data_source\":{\"id\":\"98328\"},\"glyph\":{\"id\":\"98330\"},\"group\":null,\"hover_glyph\":null,\"muted_glyph\":{\"id\":\"98332\"},\"nonselection_glyph\":{\"id\":\"98331\"},\"view\":{\"id\":\"98334\"}},\"id\":\"98333\",\"type\":\"GlyphRenderer\"},{\"attributes\":{\"data\":{\"MaxPositiveRegret\":{\"__ndarray__\":\"wG2SPCa44j8A+ZbU+i3RPwAJjOrrHMc/ANSa4fqSrj8=\",\"dtype\":\"float64\",\"order\":\"little\",\"shape\":[4]},\"index\":[5,13,23,38],\"t\":{\"__ndarray__\":\"AAAAAAAA8D8AAAAAAAAAQAAAAAAAAAhAAAAAAAAAEEA=\",\"dtype\":\"float64\",\"order\":\"little\",\"shape\":[4]}},\"selected\":{\"id\":\"98325\"},\"selection_policy\":{\"id\":\"98324\"}},\"id\":\"98252\",\"type\":\"ColumnDataSource\"},{\"attributes\":{},\"id\":\"98168\",\"type\":\"BasicTicker\"},{\"attributes\":{\"axis\":{\"id\":\"98171\"},\"coordinates\":null,\"dimension\":1,\"group\":null,\"ticker\":null},\"id\":\"98174\",\"type\":\"Grid\"},{\"attributes\":{},\"id\":\"98203\",\"type\":\"BasicTickFormatter\"},{\"attributes\":{},\"id\":\"98298\",\"type\":\"Selection\"},{\"attributes\":{\"source\":{\"id\":\"98250\"}},\"id\":\"98258\",\"type\":\"CDSView\"},{\"attributes\":{\"overlay\":{\"id\":\"98181\"}},\"id\":\"98177\",\"type\":\"BoxZoomTool\"},{\"attributes\":{},\"id\":\"98206\",\"type\":\"Selection\"},{\"attributes\":{},\"id\":\"98163\",\"type\":\"LinearScale\"},{\"attributes\":{\"line_alpha\":0.1,\"line_color\":\"blue\",\"line_dash\":[6],\"x\":{\"field\":\"t\"},\"y\":{\"field\":\"PositiveRegret\"}},\"id\":\"98278\",\"type\":\"Line\"},{\"attributes\":{\"coordinates\":null,\"group\":null,\"text\":\"rw_game_2_war_95-april12lstm-100 Approximate Nash Conv\"},\"id\":\"98157\",\"type\":\"Title\"},{\"attributes\":{\"label\":{\"value\":\"P1 BR Regret\"},\"renderers\":[{\"id\":\"98257\"}]},\"id\":\"98275\",\"type\":\"LegendItem\"},{\"attributes\":{\"line_color\":\"blue\",\"x\":{\"field\":\"t\"},\"y\":{\"field\":\"PositiveRegret\"}},\"id\":\"98254\",\"type\":\"Line\"},{\"attributes\":{\"line_alpha\":0.2,\"line_color\":\"red\",\"line_width\":3,\"x\":{\"field\":\"t\"},\"y\":{\"field\":\"ApproxNashConv\"}},\"id\":\"98332\",\"type\":\"Line\"},{\"attributes\":{},\"id\":\"98204\",\"type\":\"AllLabels\"},{\"attributes\":{\"tools\":[{\"id\":\"98175\"},{\"id\":\"98176\"},{\"id\":\"98177\"},{\"id\":\"98178\"},{\"id\":\"98179\"},{\"id\":\"98180\"},{\"id\":\"98364\"}]},\"id\":\"98182\",\"type\":\"Toolbar\"},{\"attributes\":{},\"id\":\"98175\",\"type\":\"PanTool\"},{\"attributes\":{},\"id\":\"98273\",\"type\":\"Selection\"},{\"attributes\":{\"coordinates\":null,\"data_source\":{\"id\":\"98191\"},\"glyph\":{\"id\":\"98230\"},\"group\":null,\"hover_glyph\":null,\"muted_glyph\":{\"id\":\"98232\"},\"nonselection_glyph\":{\"id\":\"98231\"},\"view\":{\"id\":\"98234\"}},\"id\":\"98233\",\"type\":\"GlyphRenderer\"},{\"attributes\":{\"line_width\":{\"value\":5},\"x\":{\"field\":\"x\"},\"y\":{\"field\":\"y\"}},\"id\":\"98359\",\"type\":\"Ray\"},{\"attributes\":{},\"id\":\"98178\",\"type\":\"SaveTool\"},{\"attributes\":{},\"id\":\"98179\",\"type\":\"ResetTool\"},{\"attributes\":{\"label\":{\"value\":\"Approximate Nash Conv\"},\"renderers\":[{\"id\":\"98333\"}]},\"id\":\"98357\",\"type\":\"LegendItem\"},{\"attributes\":{},\"id\":\"98180\",\"type\":\"HelpTool\"},{\"attributes\":{\"line_alpha\":0.1,\"line_color\":\"darkgreen\",\"line_width\":2,\"x\":{\"field\":\"t\"},\"y\":{\"field\":\"MaxPositiveRegret\"}},\"id\":\"98231\",\"type\":\"Line\"},{\"attributes\":{\"axis_label\":\"Regret\",\"coordinates\":null,\"formatter\":{\"id\":\"98200\"},\"group\":null,\"major_label_policy\":{\"id\":\"98201\"},\"ticker\":{\"id\":\"98172\"}},\"id\":\"98171\",\"type\":\"LinearAxis\"},{\"attributes\":{\"data\":{\"ApproxNashConv\":{\"__ndarray__\":\"1Lr7+Yj8JEA4kaMkxkogQFjpUrmfNRhACI3YsiNrE0A=\",\"dtype\":\"float64\",\"order\":\"little\",\"shape\":[4]},\"Baseline\":{\"__ndarray__\":\"D84yBTJwQUBpBCS3h9FBQNSJXhMFGUJA4UWTTWtHQkA=\",\"dtype\":\"float64\",\"order\":\"little\",\"shape\":[4]},\"MaxPositiveRegret\":{\"__ndarray__\":\"wG2SPCa44j8A+ZbU+i3RPwAJjOrrHMc/ANSa4fqSrj8=\",\"dtype\":\"float64\",\"order\":\"little\",\"shape\":[4]},\"PositiveRegret\":{\"__ndarray__\":\"gJvc6fOY4j8A+ZbU+i3RPwAJjOrrHMc/AOiZtPiKrj8=\",\"dtype\":\"float64\",\"order\":\"little\",\"shape\":[4]},\"Regret\":{\"__ndarray__\":\"gJvc6fOY4j8A+ZbU+i3RPwAJjOrrHMc/AOiZtPiKrj8=\",\"dtype\":\"float64\",\"order\":\"little\",\"shape\":[4]},\"br_player\":[1,1,1,1],\"index\":[7,13,23,38],\"model\":[\"rw_game_2_war_95-april12lstm-100\",\"rw_game_2_war_95-april12lstm-100\",\"rw_game_2_war_95-april12lstm-100\",\"rw_game_2_war_95-april12lstm-100\"],\"name\":[\"april12/flat_handcrafted\",\"april12/flat_handcrafted\",\"april12/lstm\",\"april12/mlp\"],\"num_players\":[2,2,2,2],\"player\":[1,1,1,1],\"reward\":{\"__ndarray__\":\"fUDa1JW6QUBbMs2s4/NBQN0VSf8hMEJAW2zACw5PQkA=\",\"dtype\":\"float64\",\"order\":\"little\",\"shape\":[4]},\"t\":{\"__ndarray__\":\"AAAAAAAA8D8AAAAAAAAAQAAAAAAAAAhAAAAAAAAAEEA=\",\"dtype\":\"float64\",\"order\":\"little\",\"shape\":[4]}},\"selected\":{\"id\":\"98273\"},\"selection_policy\":{\"id\":\"98272\"}},\"id\":\"98250\",\"type\":\"ColumnDataSource\"},{\"attributes\":{\"coordinates\":null,\"data_source\":{\"id\":\"98252\"},\"glyph\":{\"id\":\"98302\"},\"group\":null,\"hover_glyph\":null,\"muted_glyph\":{\"id\":\"98304\"},\"nonselection_glyph\":{\"id\":\"98303\"},\"view\":{\"id\":\"98306\"}},\"id\":\"98305\",\"type\":\"GlyphRenderer\"},{\"attributes\":{\"line_color\":\"darkgreen\",\"line_width\":2,\"x\":{\"field\":\"t\"},\"y\":{\"field\":\"MaxPositiveRegret\"}},\"id\":\"98230\",\"type\":\"Line\"},{\"attributes\":{\"line_alpha\":0.2,\"line_color\":\"darkgreen\",\"line_width\":2,\"x\":{\"field\":\"t\"},\"y\":{\"field\":\"MaxPositiveRegret\"}},\"id\":\"98232\",\"type\":\"Line\"},{\"attributes\":{\"line_alpha\":0.2,\"line_color\":\"blue\",\"x\":{\"field\":\"t\"},\"y\":{\"field\":\"PositiveRegret\"}},\"id\":\"98256\",\"type\":\"Line\"},{\"attributes\":{},\"id\":\"98161\",\"type\":\"DataRange1d\"},{\"attributes\":{\"line_alpha\":0.2,\"line_color\":\"blue\",\"line_dash\":[6],\"x\":{\"field\":\"t\"},\"y\":{\"field\":\"PositiveRegret\"}},\"id\":\"98279\",\"type\":\"Line\"},{\"attributes\":{\"source\":{\"id\":\"98191\"}},\"id\":\"98234\",\"type\":\"CDSView\"},{\"attributes\":{\"source\":{\"id\":\"98328\"}},\"id\":\"98334\",\"type\":\"CDSView\"},{\"attributes\":{},\"id\":\"98246\",\"type\":\"UnionRenderers\"},{\"attributes\":{\"line_color\":\"red\",\"line_width\":3,\"x\":{\"field\":\"t\"},\"y\":{\"field\":\"ApproxNashConv\"}},\"id\":\"98330\",\"type\":\"Line\"},{\"attributes\":{},\"id\":\"98247\",\"type\":\"Selection\"},{\"attributes\":{},\"id\":\"98355\",\"type\":\"Selection\"},{\"attributes\":{\"coordinates\":null,\"data_source\":{\"id\":\"98251\"},\"glyph\":{\"id\":\"98277\"},\"group\":null,\"hover_glyph\":null,\"muted_glyph\":{\"id\":\"98279\"},\"nonselection_glyph\":{\"id\":\"98278\"},\"view\":{\"id\":\"98281\"}},\"id\":\"98280\",\"type\":\"GlyphRenderer\"},{\"attributes\":{\"line_alpha\":0.1,\"line_color\":\"red\",\"line_width\":3,\"x\":{\"field\":\"t\"},\"y\":{\"field\":\"ApproxNashConv\"}},\"id\":\"98331\",\"type\":\"Line\"},{\"attributes\":{},\"id\":\"98201\",\"type\":\"AllLabels\"},{\"attributes\":{},\"id\":\"98205\",\"type\":\"UnionRenderers\"},{\"attributes\":{},\"id\":\"98354\",\"type\":\"UnionRenderers\"},{\"attributes\":{},\"id\":\"98159\",\"type\":\"DataRange1d\"},{\"attributes\":{\"line_color\":\"green\",\"x\":{\"field\":\"t\"},\"y\":{\"field\":\"PositiveRegret\"}},\"id\":\"98193\",\"type\":\"Line\"},{\"attributes\":{\"click_policy\":\"hide\",\"coordinates\":null,\"group\":null,\"items\":[{\"id\":\"98209\"},{\"id\":\"98228\"},{\"id\":\"98249\"},{\"id\":\"98275\"},{\"id\":\"98300\"},{\"id\":\"98327\"},{\"id\":\"98357\"}]},\"id\":\"98208\",\"type\":\"Legend\"},{\"attributes\":{},\"id\":\"98200\",\"type\":\"BasicTickFormatter\"},{\"attributes\":{\"label\":{\"value\":\"P0 BR Regret\"},\"renderers\":[{\"id\":\"98196\"}]},\"id\":\"98209\",\"type\":\"LegendItem\"},{\"attributes\":{\"line_alpha\":0.2,\"line_color\":\"green\",\"x\":{\"field\":\"t\"},\"y\":{\"field\":\"PositiveRegret\"}},\"id\":\"98195\",\"type\":\"Line\"},{\"attributes\":{\"data\":{\"MaxPositiveRegret\":{\"__ndarray__\":\"+JMylgbRI0Dgsv2brIIfQBCJ/lm4fBdAYFcVvf0tE0A=\",\"dtype\":\"float64\",\"order\":\"little\",\"shape\":[4]},\"index\":[0,18,28,30],\"t\":{\"__ndarray__\":\"AAAAAAAA8D8AAAAAAAAAQAAAAAAAAAhAAAAAAAAAEEA=\",\"dtype\":\"float64\",\"order\":\"little\",\"shape\":[4]}},\"selected\":{\"id\":\"98247\"},\"selection_policy\":{\"id\":\"98246\"}},\"id\":\"98191\",\"type\":\"ColumnDataSource\"},{\"attributes\":{\"line_alpha\":0.1,\"line_color\":\"green\",\"x\":{\"field\":\"t\"},\"y\":{\"field\":\"PositiveRegret\"}},\"id\":\"98194\",\"type\":\"Line\"},{\"attributes\":{\"data\":{\"PositiveRegret\":{\"__ndarray__\":\"eOk5anrNI0Cwq8xg4nofQBCJ/lm4fBdAYFcVvf0tE0A=\",\"dtype\":\"float64\",\"order\":\"little\",\"shape\":[4]},\"index\":[0,16,25,33],\"t\":{\"__ndarray__\":\"AAAAAAAA8D8AAAAAAAAAQAAAAAAAAAhAAAAAAAAAEEA=\",\"dtype\":\"float64\",\"order\":\"little\",\"shape\":[4]}},\"selected\":{\"id\":\"98226\"},\"selection_policy\":{\"id\":\"98225\"}},\"id\":\"98190\",\"type\":\"ColumnDataSource\"},{\"attributes\":{\"coordinates\":null,\"data_source\":{\"id\":\"98189\"},\"glyph\":{\"id\":\"98193\"},\"group\":null,\"hover_glyph\":null,\"muted_glyph\":{\"id\":\"98195\"},\"nonselection_glyph\":{\"id\":\"98194\"},\"view\":{\"id\":\"98197\"}},\"id\":\"98196\",\"type\":\"GlyphRenderer\"},{\"attributes\":{\"source\":{\"id\":\"98189\"}},\"id\":\"98197\",\"type\":\"CDSView\"}],\"root_ids\":[\"98156\"]},\"title\":\"Bokeh Application\",\"version\":\"2.4.2\"}};\n",
       "  const render_items = [{\"docid\":\"bc9fdad5-5e12-4b02-8364-810379e912ad\",\"root_ids\":[\"98156\"],\"roots\":{\"98156\":\"02b8e192-3ace-4269-82b4-28e15906be4a\"}}];\n",
       "  root.Bokeh.embed.embed_items_notebook(docs_json, render_items);\n",
       "\n",
       "  }\n",
       "  if (root.Bokeh !== undefined) {\n",
       "    embed_document(root);\n",
       "  } else {\n",
       "    let attempts = 0;\n",
       "    const timer = setInterval(function(root) {\n",
       "      if (root.Bokeh !== undefined) {\n",
       "        clearInterval(timer);\n",
       "        embed_document(root);\n",
       "      } else {\n",
       "        attempts++;\n",
       "        if (attempts > 100) {\n",
       "          clearInterval(timer);\n",
       "          console.log(\"Bokeh: ERROR: Unable to run BokehJS code because BokehJS library is missing\");\n",
       "        }\n",
       "      }\n",
       "    }, 10, root)\n",
       "  }\n",
       "})(window);"
      ],
      "application/vnd.bokehjs_exec.v0+json": ""
     },
     "metadata": {
      "application/vnd.bokehjs_exec.v0+json": {
       "id": "98156"
      }
     },
     "output_type": "display_data"
    },
    {
     "data": {
      "text/html": [
       "\n",
       "\n",
       "\n",
       "\n",
       "\n",
       "\n",
       "  <div class=\"bk-root\" id=\"2ba13917-4a94-4234-af95-029b484efc6f\" data-root-id=\"98366\"></div>\n"
      ]
     },
     "metadata": {},
     "output_type": "display_data"
    },
    {
     "data": {
      "application/javascript": [
       "(function(root) {\n",
       "  function embed_document(root) {\n",
       "    \n",
       "  const docs_json = {\"58737622-a5f9-4fe6-829e-887d5aaf2093\":{\"defs\":[],\"roots\":{\"references\":[{\"attributes\":{\"below\":[{\"id\":\"98377\"}],\"center\":[{\"id\":\"98380\"},{\"id\":\"98384\"},{\"id\":\"98418\"}],\"height\":400,\"left\":[{\"id\":\"98381\"}],\"renderers\":[{\"id\":\"98406\"},{\"id\":\"98424\"},{\"id\":\"98443\"},{\"id\":\"98467\"},{\"id\":\"98490\"},{\"id\":\"98515\"},{\"id\":\"98543\"},{\"id\":\"98572\"}],\"title\":{\"id\":\"98367\"},\"toolbar\":{\"id\":\"98392\"},\"width\":900,\"x_range\":{\"id\":\"98369\"},\"x_scale\":{\"id\":\"98373\"},\"y_range\":{\"id\":\"98371\"},\"y_scale\":{\"id\":\"98375\"}},\"id\":\"98366\",\"subtype\":\"Figure\",\"type\":\"Plot\"},{\"attributes\":{\"axis_label\":\"Iteration (M)\",\"coordinates\":null,\"formatter\":{\"id\":\"98413\"},\"group\":null,\"major_label_policy\":{\"id\":\"98414\"},\"ticker\":{\"id\":\"98378\"}},\"id\":\"98377\",\"type\":\"LinearAxis\"},{\"attributes\":{\"data\":{\"x\":[1.0],\"y\":[0]},\"selected\":{\"id\":\"106343\"},\"selection_policy\":{\"id\":\"106342\"}},\"id\":\"98568\",\"type\":\"ColumnDataSource\"},{\"attributes\":{},\"id\":\"98390\",\"type\":\"HelpTool\"},{\"attributes\":{\"coordinates\":null,\"data_source\":{\"id\":\"98568\"},\"glyph\":{\"id\":\"98569\"},\"group\":null,\"hover_glyph\":null,\"muted_glyph\":{\"id\":\"98571\"},\"nonselection_glyph\":{\"id\":\"98570\"},\"view\":{\"id\":\"98573\"}},\"id\":\"98572\",\"type\":\"GlyphRenderer\"},{\"attributes\":{},\"id\":\"98378\",\"type\":\"BasicTicker\"},{\"attributes\":{\"tools\":[{\"id\":\"98385\"},{\"id\":\"98386\"},{\"id\":\"98387\"},{\"id\":\"98388\"},{\"id\":\"98389\"},{\"id\":\"98390\"},{\"id\":\"98574\"}]},\"id\":\"98392\",\"type\":\"Toolbar\"},{\"attributes\":{\"source\":{\"id\":\"98568\"}},\"id\":\"98573\",\"type\":\"CDSView\"},{\"attributes\":{\"bottom_units\":\"screen\",\"coordinates\":null,\"fill_alpha\":0.5,\"fill_color\":\"lightgrey\",\"group\":null,\"left_units\":\"screen\",\"level\":\"overlay\",\"line_alpha\":1.0,\"line_color\":\"black\",\"line_dash\":[4,4],\"line_width\":2,\"right_units\":\"screen\",\"syncable\":false,\"top_units\":\"screen\"},\"id\":\"98391\",\"type\":\"BoxAnnotation\"},{\"attributes\":{\"line_alpha\":{\"value\":0.1},\"line_width\":{\"value\":5},\"x\":{\"field\":\"x\"},\"y\":{\"field\":\"y\"}},\"id\":\"98570\",\"type\":\"Ray\"},{\"attributes\":{\"overlay\":{\"id\":\"98391\"}},\"id\":\"98387\",\"type\":\"BoxZoomTool\"},{\"attributes\":{},\"id\":\"98388\",\"type\":\"SaveTool\"},{\"attributes\":{\"line_alpha\":{\"value\":0.2},\"line_width\":{\"value\":5},\"x\":{\"field\":\"x\"},\"y\":{\"field\":\"y\"}},\"id\":\"98571\",\"type\":\"Ray\"},{\"attributes\":{},\"id\":\"98389\",\"type\":\"ResetTool\"},{\"attributes\":{\"callback\":null},\"id\":\"98574\",\"type\":\"HoverTool\"},{\"attributes\":{},\"id\":\"98371\",\"type\":\"DataRange1d\"},{\"attributes\":{\"axis_label\":\"Regret\",\"coordinates\":null,\"formatter\":{\"id\":\"98410\"},\"group\":null,\"major_label_policy\":{\"id\":\"98411\"},\"ticker\":{\"id\":\"98382\"}},\"id\":\"98381\",\"type\":\"LinearAxis\"},{\"attributes\":{\"axis\":{\"id\":\"98381\"},\"coordinates\":null,\"dimension\":1,\"group\":null,\"ticker\":null},\"id\":\"98384\",\"type\":\"Grid\"},{\"attributes\":{\"data\":{\"ApproxNashConv\":{\"__ndarray__\":\"LFKIbKDvJkDUUtse8AAkQDhZH3md3hRAeMsU7K1uEkDQWit6faMRQMAxVpCLHxFA\",\"dtype\":\"float64\",\"order\":\"little\",\"shape\":[6]},\"Baseline\":{\"__ndarray__\":\"x3Z267zTVUBkwLvsfpxWQKpkzFDOkVZAuIVwjwykVkAcY7Px3qtWQG2JZnwrsVZA\",\"dtype\":\"float64\",\"order\":\"little\",\"shape\":[6]},\"MaxPositiveRegret\":{\"__ndarray__\":\"cMdl7AoWIECo3lA1AsAgQCAq/JfesxJAcJ4puKBtEUAwyPuTevAQQCAaEqBfmBBA\",\"dtype\":\"float64\",\"order\":\"little\",\"shape\":[6]},\"PositiveRegret\":{\"__ndarray__\":\"wAllLNSrAkBg33tn6GsBQAAXHO0gmNU/AJhp0nvwyj8A+o1ecTzEPwDAuZdKSLs/\",\"dtype\":\"float64\",\"order\":\"little\",\"shape\":[6]},\"Regret\":{\"__ndarray__\":\"wAllLNSrAkBg33tn6GsBQAAXHO0gmNU/AJhp0nvwyj8A+o1ecTzEPwDAuZdKSLs/\",\"dtype\":\"float64\",\"order\":\"little\",\"shape\":[6]},\"br_player\":[0,0,0,0,0,0],\"index\":[0,11,26,33,42,50],\"model\":[\"rw_game_2_war_95-april12mlp-100\",\"rw_game_2_war_95-april12mlp-100\",\"rw_game_2_war_95-april12mlp-100\",\"rw_game_2_war_95-april12mlp-100\",\"rw_game_2_war_95-april12mlp-100\",\"rw_game_2_war_95-april12mlp-100\"],\"name\":[\"april12/mlp\",\"april12/mlp\",\"april12/mlp\",\"april12/lstm\",\"april12/flat_handcrafted\",\"april12/mlp\"],\"num_players\":[2,2,2,2,2,2],\"player\":[0,0,0,0,0,0],\"reward\":{\"__ndarray__\":\"FZ/ZjBtpVkBfn/cv3idXQMGAuXFmp1ZAhLpZzYSxVkAZqmIq/bVWQN13DI/9t1ZA\",\"dtype\":\"float64\",\"order\":\"little\",\"shape\":[6]},\"t\":{\"__ndarray__\":\"AAAAAAAA8D8AAAAAAAAAQAAAAAAAAAhAAAAAAAAAEEAAAAAAAAAUQAAAAAAAABhA\",\"dtype\":\"float64\",\"order\":\"little\",\"shape\":[6]}},\"selected\":{\"id\":\"98416\"},\"selection_policy\":{\"id\":\"98415\"}},\"id\":\"98399\",\"type\":\"ColumnDataSource\"},{\"attributes\":{},\"id\":\"98385\",\"type\":\"PanTool\"},{\"attributes\":{},\"id\":\"98375\",\"type\":\"LinearScale\"},{\"attributes\":{},\"id\":\"98369\",\"type\":\"DataRange1d\"},{\"attributes\":{\"data\":{\"ApproxNashConv\":{\"__ndarray__\":\"LFKIbKDvJkDUUtse8AAkQDhZH3md3hRAeMsU7K1uEkDQWit6faMRQMAxVpCLHxFA\",\"dtype\":\"float64\",\"order\":\"little\",\"shape\":[6]},\"index\":[0,19,26,39,48,58],\"t\":{\"__ndarray__\":\"AAAAAAAA8D8AAAAAAAAAQAAAAAAAAAhAAAAAAAAAEEAAAAAAAAAUQAAAAAAAABhA\",\"dtype\":\"float64\",\"order\":\"little\",\"shape\":[6]}},\"selected\":{\"id\":\"98565\"},\"selection_policy\":{\"id\":\"98564\"}},\"id\":\"98538\",\"type\":\"ColumnDataSource\"},{\"attributes\":{\"coordinates\":null,\"data_source\":{\"id\":\"98538\"},\"glyph\":{\"id\":\"98540\"},\"group\":null,\"hover_glyph\":null,\"muted_glyph\":{\"id\":\"98542\"},\"nonselection_glyph\":{\"id\":\"98541\"},\"view\":{\"id\":\"98544\"}},\"id\":\"98543\",\"type\":\"GlyphRenderer\"},{\"attributes\":{\"line_alpha\":0.1,\"line_color\":\"darkblue\",\"line_width\":2,\"x\":{\"field\":\"t\"},\"y\":{\"field\":\"MaxPositiveRegret\"}},\"id\":\"98513\",\"type\":\"Line\"},{\"attributes\":{\"coordinates\":null,\"group\":null,\"text\":\"rw_game_2_war_95-april12mlp-100 Approximate Nash Conv\"},\"id\":\"98367\",\"type\":\"Title\"},{\"attributes\":{\"line_color\":\"darkblue\",\"line_width\":2,\"x\":{\"field\":\"t\"},\"y\":{\"field\":\"MaxPositiveRegret\"}},\"id\":\"98512\",\"type\":\"Line\"},{\"attributes\":{\"line_alpha\":0.2,\"line_color\":\"darkblue\",\"line_width\":2,\"x\":{\"field\":\"t\"},\"y\":{\"field\":\"MaxPositiveRegret\"}},\"id\":\"98514\",\"type\":\"Line\"},{\"attributes\":{\"source\":{\"id\":\"98462\"}},\"id\":\"98516\",\"type\":\"CDSView\"},{\"attributes\":{},\"id\":\"106342\",\"type\":\"UnionRenderers\"},{\"attributes\":{\"line_color\":\"green\",\"x\":{\"field\":\"t\"},\"y\":{\"field\":\"PositiveRegret\"}},\"id\":\"98403\",\"type\":\"Line\"},{\"attributes\":{\"label\":{\"value\":\"P1 Approx Regret\"},\"renderers\":[{\"id\":\"98515\"}]},\"id\":\"98537\",\"type\":\"LegendItem\"},{\"attributes\":{\"label\":{\"value\":\"P0 BR Regret\"},\"renderers\":[{\"id\":\"98406\"}]},\"id\":\"98419\",\"type\":\"LegendItem\"},{\"attributes\":{\"click_policy\":\"hide\",\"coordinates\":null,\"group\":null,\"items\":[{\"id\":\"98419\"},{\"id\":\"98438\"},{\"id\":\"98459\"},{\"id\":\"98485\"},{\"id\":\"98510\"},{\"id\":\"98537\"},{\"id\":\"98567\"}]},\"id\":\"98418\",\"type\":\"Legend\"},{\"attributes\":{},\"id\":\"98435\",\"type\":\"UnionRenderers\"},{\"attributes\":{},\"id\":\"106343\",\"type\":\"Selection\"},{\"attributes\":{\"data\":{\"PositiveRegret\":{\"__ndarray__\":\"cMdl7AoWIECo3lA1AsAgQCAq/JfesxJAcJ4puKBtEUAwyPuTevAQQCAaEqBfmBBA\",\"dtype\":\"float64\",\"order\":\"little\",\"shape\":[6]},\"index\":[3,10,25,30,40,52],\"t\":{\"__ndarray__\":\"AAAAAAAA8D8AAAAAAAAAQAAAAAAAAAhAAAAAAAAAEEAAAAAAAAAUQAAAAAAAABhA\",\"dtype\":\"float64\",\"order\":\"little\",\"shape\":[6]}},\"selected\":{\"id\":\"98436\"},\"selection_policy\":{\"id\":\"98435\"}},\"id\":\"98400\",\"type\":\"ColumnDataSource\"},{\"attributes\":{\"data\":{\"MaxPositiveRegret\":{\"__ndarray__\":\"cMdl7AoWIECo3lA1AsAgQCAq/JfesxJAcJ4puKBtEUAwyPuTevAQQCAaEqBfmBBA\",\"dtype\":\"float64\",\"order\":\"little\",\"shape\":[6]},\"index\":[0,11,26,33,42,50],\"t\":{\"__ndarray__\":\"AAAAAAAA8D8AAAAAAAAAQAAAAAAAAAhAAAAAAAAAEEAAAAAAAAAUQAAAAAAAABhA\",\"dtype\":\"float64\",\"order\":\"little\",\"shape\":[6]}},\"selected\":{\"id\":\"98457\"},\"selection_policy\":{\"id\":\"98456\"}},\"id\":\"98401\",\"type\":\"ColumnDataSource\"},{\"attributes\":{\"line_alpha\":0.1,\"line_color\":\"green\",\"x\":{\"field\":\"t\"},\"y\":{\"field\":\"PositiveRegret\"}},\"id\":\"98404\",\"type\":\"Line\"},{\"attributes\":{},\"id\":\"98382\",\"type\":\"BasicTicker\"},{\"attributes\":{\"line_alpha\":0.2,\"line_color\":\"red\",\"line_width\":3,\"x\":{\"field\":\"t\"},\"y\":{\"field\":\"ApproxNashConv\"}},\"id\":\"98542\",\"type\":\"Line\"},{\"attributes\":{},\"id\":\"98386\",\"type\":\"WheelZoomTool\"},{\"attributes\":{\"axis\":{\"id\":\"98377\"},\"coordinates\":null,\"group\":null,\"ticker\":null},\"id\":\"98380\",\"type\":\"Grid\"},{\"attributes\":{},\"id\":\"98373\",\"type\":\"LinearScale\"},{\"attributes\":{},\"id\":\"98414\",\"type\":\"AllLabels\"},{\"attributes\":{\"line_width\":{\"value\":5},\"x\":{\"field\":\"x\"},\"y\":{\"field\":\"y\"}},\"id\":\"98569\",\"type\":\"Ray\"},{\"attributes\":{},\"id\":\"98415\",\"type\":\"UnionRenderers\"},{\"attributes\":{},\"id\":\"98416\",\"type\":\"Selection\"},{\"attributes\":{\"coordinates\":null,\"data_source\":{\"id\":\"98399\"},\"glyph\":{\"id\":\"98403\"},\"group\":null,\"hover_glyph\":null,\"muted_glyph\":{\"id\":\"98405\"},\"nonselection_glyph\":{\"id\":\"98404\"},\"view\":{\"id\":\"98407\"}},\"id\":\"98406\",\"type\":\"GlyphRenderer\"},{\"attributes\":{\"source\":{\"id\":\"98399\"}},\"id\":\"98407\",\"type\":\"CDSView\"},{\"attributes\":{},\"id\":\"98436\",\"type\":\"Selection\"},{\"attributes\":{},\"id\":\"98413\",\"type\":\"BasicTickFormatter\"},{\"attributes\":{\"line_alpha\":0.1,\"line_color\":\"red\",\"line_width\":3,\"x\":{\"field\":\"t\"},\"y\":{\"field\":\"ApproxNashConv\"}},\"id\":\"98541\",\"type\":\"Line\"},{\"attributes\":{\"line_alpha\":0.2,\"line_color\":\"green\",\"x\":{\"field\":\"t\"},\"y\":{\"field\":\"PositiveRegret\"}},\"id\":\"98405\",\"type\":\"Line\"},{\"attributes\":{},\"id\":\"98411\",\"type\":\"AllLabels\"},{\"attributes\":{},\"id\":\"98410\",\"type\":\"BasicTickFormatter\"},{\"attributes\":{\"source\":{\"id\":\"98538\"}},\"id\":\"98544\",\"type\":\"CDSView\"},{\"attributes\":{},\"id\":\"98564\",\"type\":\"UnionRenderers\"},{\"attributes\":{\"label\":{\"value\":\"Approximate Nash Conv\"},\"renderers\":[{\"id\":\"98543\"}]},\"id\":\"98567\",\"type\":\"LegendItem\"},{\"attributes\":{},\"id\":\"98565\",\"type\":\"Selection\"},{\"attributes\":{\"line_color\":\"red\",\"line_width\":3,\"x\":{\"field\":\"t\"},\"y\":{\"field\":\"ApproxNashConv\"}},\"id\":\"98540\",\"type\":\"Line\"},{\"attributes\":{},\"id\":\"98483\",\"type\":\"Selection\"},{\"attributes\":{\"label\":{\"value\":\"P0 Straightforward Regret\"},\"renderers\":[{\"id\":\"98424\"}]},\"id\":\"98438\",\"type\":\"LegendItem\"},{\"attributes\":{\"coordinates\":null,\"data_source\":{\"id\":\"98400\"},\"glyph\":{\"id\":\"98421\"},\"group\":null,\"hover_glyph\":null,\"muted_glyph\":{\"id\":\"98423\"},\"nonselection_glyph\":{\"id\":\"98422\"},\"view\":{\"id\":\"98425\"}},\"id\":\"98424\",\"type\":\"GlyphRenderer\"},{\"attributes\":{},\"id\":\"98507\",\"type\":\"UnionRenderers\"},{\"attributes\":{\"line_alpha\":0.1,\"line_color\":\"green\",\"line_dash\":[6],\"x\":{\"field\":\"t\"},\"y\":{\"field\":\"PositiveRegret\"}},\"id\":\"98422\",\"type\":\"Line\"},{\"attributes\":{\"line_color\":\"green\",\"line_dash\":[6],\"x\":{\"field\":\"t\"},\"y\":{\"field\":\"PositiveRegret\"}},\"id\":\"98421\",\"type\":\"Line\"},{\"attributes\":{\"line_alpha\":0.2,\"line_color\":\"green\",\"line_dash\":[6],\"x\":{\"field\":\"t\"},\"y\":{\"field\":\"PositiveRegret\"}},\"id\":\"98423\",\"type\":\"Line\"},{\"attributes\":{\"source\":{\"id\":\"98400\"}},\"id\":\"98425\",\"type\":\"CDSView\"},{\"attributes\":{\"line_alpha\":0.2,\"line_color\":\"blue\",\"line_dash\":[6],\"x\":{\"field\":\"t\"},\"y\":{\"field\":\"PositiveRegret\"}},\"id\":\"98489\",\"type\":\"Line\"},{\"attributes\":{\"label\":{\"value\":\"P0 Approx Regret\"},\"renderers\":[{\"id\":\"98443\"}]},\"id\":\"98459\",\"type\":\"LegendItem\"},{\"attributes\":{\"source\":{\"id\":\"98460\"}},\"id\":\"98468\",\"type\":\"CDSView\"},{\"attributes\":{},\"id\":\"98508\",\"type\":\"Selection\"},{\"attributes\":{},\"id\":\"98535\",\"type\":\"Selection\"},{\"attributes\":{\"label\":{\"value\":\"P1 BR Regret\"},\"renderers\":[{\"id\":\"98467\"}]},\"id\":\"98485\",\"type\":\"LegendItem\"},{\"attributes\":{\"line_alpha\":0.2,\"line_color\":\"blue\",\"x\":{\"field\":\"t\"},\"y\":{\"field\":\"PositiveRegret\"}},\"id\":\"98466\",\"type\":\"Line\"},{\"attributes\":{\"line_color\":\"blue\",\"x\":{\"field\":\"t\"},\"y\":{\"field\":\"PositiveRegret\"}},\"id\":\"98464\",\"type\":\"Line\"},{\"attributes\":{\"coordinates\":null,\"data_source\":{\"id\":\"98461\"},\"glyph\":{\"id\":\"98487\"},\"group\":null,\"hover_glyph\":null,\"muted_glyph\":{\"id\":\"98489\"},\"nonselection_glyph\":{\"id\":\"98488\"},\"view\":{\"id\":\"98491\"}},\"id\":\"98490\",\"type\":\"GlyphRenderer\"},{\"attributes\":{\"data\":{\"ApproxNashConv\":{\"__ndarray__\":\"LFKIbKDvJkDUUtse8AAkQDhZH3md3hRAeMsU7K1uEkDQWit6faMRQMAxVpCLHxFA\",\"dtype\":\"float64\",\"order\":\"little\",\"shape\":[6]},\"Baseline\":{\"__ndarray__\":\"NUJxUGlINkA2Wor3BURBQDal1sFzC0JAzlgUkuJDQkDrtW6S61RCQF8+ecJmYUJA\",\"dtype\":\"float64\",\"order\":\"little\",\"shape\":[6]},\"MaxPositiveRegret\":{\"__ndarray__\":\"8CqKAFZmC0BgoVNMbwf6P8B4GQn3VeE/gNCyPtMQ0D8AVPLFXGDGPwD0ggh+5cA/\",\"dtype\":\"float64\",\"order\":\"little\",\"shape\":[6]},\"PositiveRegret\":{\"__ndarray__\":\"cLvtK4I9C0Dgo/WaSv35PwCsJAfAVOE/gNCyPtMQ0D8AVPLFXGDGPwCuj2NQ3cA/\",\"dtype\":\"float64\",\"order\":\"little\",\"shape\":[6]},\"Regret\":{\"__ndarray__\":\"cLvtK4I9C0Dgo/WaSv35PwCsJAfAVOE/gNCyPtMQ0D8AVPLFXGDGPwCuj2NQ3cA/\",\"dtype\":\"float64\",\"order\":\"little\",\"shape\":[6]},\"br_player\":[1,1,1,1,1,1],\"index\":[6,18,23,38,48,58],\"model\":[\"rw_game_2_war_95-april12mlp-100\",\"rw_game_2_war_95-april12mlp-100\",\"rw_game_2_war_95-april12mlp-100\",\"rw_game_2_war_95-april12mlp-100\",\"rw_game_2_war_95-april12mlp-100\",\"rw_game_2_war_95-april12mlp-100\"],\"name\":[\"april12/flat_handcrafted\",\"april12/lstm\",\"april12/lstm\",\"april12/lstm\",\"april12/lstm\",\"april12/mlp\"],\"num_players\":[2,2,2,2,2,2],\"player\":[1,1,1,1,1,1],\"reward\":{\"__ndarray__\":\"o/nulRmwOUBVB2JM8BNCQOY388HGUEJAb76ROARkQkA/qDTvS2tCQA3O3BJEckJA\",\"dtype\":\"float64\",\"order\":\"little\",\"shape\":[6]},\"t\":{\"__ndarray__\":\"AAAAAAAA8D8AAAAAAAAAQAAAAAAAAAhAAAAAAAAAEEAAAAAAAAAUQAAAAAAAABhA\",\"dtype\":\"float64\",\"order\":\"little\",\"shape\":[6]}},\"selected\":{\"id\":\"98483\"},\"selection_policy\":{\"id\":\"98482\"}},\"id\":\"98460\",\"type\":\"ColumnDataSource\"},{\"attributes\":{\"coordinates\":null,\"data_source\":{\"id\":\"98401\"},\"glyph\":{\"id\":\"98440\"},\"group\":null,\"hover_glyph\":null,\"muted_glyph\":{\"id\":\"98442\"},\"nonselection_glyph\":{\"id\":\"98441\"},\"view\":{\"id\":\"98444\"}},\"id\":\"98443\",\"type\":\"GlyphRenderer\"},{\"attributes\":{\"data\":{\"MaxPositiveRegret\":{\"__ndarray__\":\"8CqKAFZmC0BgoVNMbwf6P8B4GQn3VeE/gNCyPtMQ0D8AVPLFXGDGPwD0ggh+5cA/\",\"dtype\":\"float64\",\"order\":\"little\",\"shape\":[6]},\"index\":[5,18,23,38,48,58],\"t\":{\"__ndarray__\":\"AAAAAAAA8D8AAAAAAAAAQAAAAAAAAAhAAAAAAAAAEEAAAAAAAAAUQAAAAAAAABhA\",\"dtype\":\"float64\",\"order\":\"little\",\"shape\":[6]}},\"selected\":{\"id\":\"98535\"},\"selection_policy\":{\"id\":\"98534\"}},\"id\":\"98462\",\"type\":\"ColumnDataSource\"},{\"attributes\":{\"coordinates\":null,\"data_source\":{\"id\":\"98462\"},\"glyph\":{\"id\":\"98512\"},\"group\":null,\"hover_glyph\":null,\"muted_glyph\":{\"id\":\"98514\"},\"nonselection_glyph\":{\"id\":\"98513\"},\"view\":{\"id\":\"98516\"}},\"id\":\"98515\",\"type\":\"GlyphRenderer\"},{\"attributes\":{\"line_alpha\":0.1,\"line_color\":\"darkgreen\",\"line_width\":2,\"x\":{\"field\":\"t\"},\"y\":{\"field\":\"MaxPositiveRegret\"}},\"id\":\"98441\",\"type\":\"Line\"},{\"attributes\":{\"line_color\":\"darkgreen\",\"line_width\":2,\"x\":{\"field\":\"t\"},\"y\":{\"field\":\"MaxPositiveRegret\"}},\"id\":\"98440\",\"type\":\"Line\"},{\"attributes\":{\"line_alpha\":0.2,\"line_color\":\"darkgreen\",\"line_width\":2,\"x\":{\"field\":\"t\"},\"y\":{\"field\":\"MaxPositiveRegret\"}},\"id\":\"98442\",\"type\":\"Line\"},{\"attributes\":{\"line_alpha\":0.1,\"line_color\":\"blue\",\"x\":{\"field\":\"t\"},\"y\":{\"field\":\"PositiveRegret\"}},\"id\":\"98465\",\"type\":\"Line\"},{\"attributes\":{\"source\":{\"id\":\"98401\"}},\"id\":\"98444\",\"type\":\"CDSView\"},{\"attributes\":{\"line_color\":\"blue\",\"line_dash\":[6],\"x\":{\"field\":\"t\"},\"y\":{\"field\":\"PositiveRegret\"}},\"id\":\"98487\",\"type\":\"Line\"},{\"attributes\":{\"coordinates\":null,\"data_source\":{\"id\":\"98460\"},\"glyph\":{\"id\":\"98464\"},\"group\":null,\"hover_glyph\":null,\"muted_glyph\":{\"id\":\"98466\"},\"nonselection_glyph\":{\"id\":\"98465\"},\"view\":{\"id\":\"98468\"}},\"id\":\"98467\",\"type\":\"GlyphRenderer\"},{\"attributes\":{},\"id\":\"98456\",\"type\":\"UnionRenderers\"},{\"attributes\":{},\"id\":\"98457\",\"type\":\"Selection\"},{\"attributes\":{},\"id\":\"98482\",\"type\":\"UnionRenderers\"},{\"attributes\":{},\"id\":\"98534\",\"type\":\"UnionRenderers\"},{\"attributes\":{\"label\":{\"value\":\"P1 Straightforward Regret\"},\"renderers\":[{\"id\":\"98490\"}]},\"id\":\"98510\",\"type\":\"LegendItem\"},{\"attributes\":{\"line_alpha\":0.1,\"line_color\":\"blue\",\"line_dash\":[6],\"x\":{\"field\":\"t\"},\"y\":{\"field\":\"PositiveRegret\"}},\"id\":\"98488\",\"type\":\"Line\"},{\"attributes\":{\"source\":{\"id\":\"98461\"}},\"id\":\"98491\",\"type\":\"CDSView\"},{\"attributes\":{\"data\":{\"PositiveRegret\":{\"__ndarray__\":\"8CqKAFZmC0BgoVNMbwf6P8B4GQn3VeE/AKn7Wlr7zz8A5w3FgjTGPwD0ggh+5cA/\",\"dtype\":\"float64\",\"order\":\"little\",\"shape\":[6]},\"index\":[8,15,20,35,45,57],\"t\":{\"__ndarray__\":\"AAAAAAAA8D8AAAAAAAAAQAAAAAAAAAhAAAAAAAAAEEAAAAAAAAAUQAAAAAAAABhA\",\"dtype\":\"float64\",\"order\":\"little\",\"shape\":[6]}},\"selected\":{\"id\":\"98508\"},\"selection_policy\":{\"id\":\"98507\"}},\"id\":\"98461\",\"type\":\"ColumnDataSource\"}],\"root_ids\":[\"98366\"]},\"title\":\"Bokeh Application\",\"version\":\"2.4.2\"}};\n",
       "  const render_items = [{\"docid\":\"58737622-a5f9-4fe6-829e-887d5aaf2093\",\"root_ids\":[\"98366\"],\"roots\":{\"98366\":\"2ba13917-4a94-4234-af95-029b484efc6f\"}}];\n",
       "  root.Bokeh.embed.embed_items_notebook(docs_json, render_items);\n",
       "\n",
       "  }\n",
       "  if (root.Bokeh !== undefined) {\n",
       "    embed_document(root);\n",
       "  } else {\n",
       "    let attempts = 0;\n",
       "    const timer = setInterval(function(root) {\n",
       "      if (root.Bokeh !== undefined) {\n",
       "        clearInterval(timer);\n",
       "        embed_document(root);\n",
       "      } else {\n",
       "        attempts++;\n",
       "        if (attempts > 100) {\n",
       "          clearInterval(timer);\n",
       "          console.log(\"Bokeh: ERROR: Unable to run BokehJS code because BokehJS library is missing\");\n",
       "        }\n",
       "      }\n",
       "    }, 10, root)\n",
       "  }\n",
       "})(window);"
      ],
      "application/vnd.bokehjs_exec.v0+json": ""
     },
     "metadata": {
      "application/vnd.bokehjs_exec.v0+json": {
       "id": "98366"
      }
     },
     "output_type": "display_data"
    }
   ],
   "source": [
    "plot_all_models(master_df, notebook=True, final_compare=True)"
   ]
  },
  {
   "cell_type": "code",
   "execution_count": 43,
   "id": "abf79de4-3f80-4692-86a5-18a7795df3bb",
   "metadata": {},
   "outputs": [
    {
     "data": {
      "image/png": "[encoded data removed]",
      "text/plain": [
       "<Figure size 2160x648 with 1 Axes>"
      ]
     },
     "metadata": {},
     "output_type": "display_data"
    }
   ],
   "source": [
    "# s = ['_mlp', '_mlp_1', '_mlp_2', '_lstm', '_lstm_1', '_lstm_2', 'Straightforward']\n",
    "# good_configs = ['straightforward', 'mar17/lstm', 'mar17/mlp-Copy6']\n",
    "# fig = compare_best_responses(master_df.query('name in @good_configs'))\n",
    "fig = compare_best_responses(master_df)\n",
    "# special_save_fig(fig, \"configs.png\", fmt=None, dpi=300, tight=True)"
   ]
  },
  {
   "cell_type": "code",
   "execution_count": null,
   "id": "da2d4f35-5206-4619-84e2-76ab3ad04517",
   "metadata": {},
   "outputs": [],
   "source": [
    "master_df.query('t == 10000000 and model == \"large_game_2-flatmlpflat_handcrafted_reversed-100\" and player == 1')"
   ]
  },
  {
   "cell_type": "code",
   "execution_count": null,
   "id": "6ae35114-8154-4d5b-8ab9-68d2bb32bbd8",
   "metadata": {},
   "outputs": [],
   "source": [
    "master_df"
   ]
  },
  {
   "cell_type": "code",
   "execution_count": null,
   "id": "c40a8752-3d7f-4ea8-9158-677b2c5443ba",
   "metadata": {},
   "outputs": [],
   "source": [
    "# import matplotlib.pyplot as plt\n",
    "# plt.figure(figsize=(15, 5))\n",
    "# plt.imshow(list(q_network.output_layer.parameters())[0].data)\n",
    "# plt.colorbar()"
   ]
  },
  {
   "cell_type": "code",
   "execution_count": null,
   "id": "fafcc237-f651-4cbf-a447-42b8f4d55dc6",
   "metadata": {},
   "outputs": [],
   "source": [
    "master_df[['name', 'PositiveRegret']]"
   ]
  },
  {
   "cell_type": "code",
   "execution_count": null,
   "id": "5487a3f5-0377-4e47-835e-78cbec01d334",
   "metadata": {},
   "outputs": [],
   "source": [
    "x = master_df['name'].unique().tolist()\n",
    "x.remove(None)\n",
    "x.remove(\"straightforward\")\n",
    "x"
   ]
  },
  {
   "cell_type": "code",
   "execution_count": null,
   "id": "e58d702a-e60b-4f43-b97e-020e12b00a0a",
   "metadata": {},
   "outputs": [],
   "source": [
    "for config in x:\n",
    "    portfolio = [config, 'straightforward']\n",
    "    p = master_df.query('name in @portfolio and player == br_player').copy()\n",
    "    # NOT QUITE RIGHT\n",
    "    p['frac'] = p['PositiveRegret'] / p['MaxPositiveRegret']\n",
    "    p = p.groupby(['model', 't', 'player']).apply(lambda x: x['frac'].max())\n",
    "    print(config, p.mean())"
   ]
  },
  {
   "cell_type": "code",
   "execution_count": null,
   "id": "e0f34177-d9ea-440d-95bb-1353187da81e",
   "metadata": {},
   "outputs": [],
   "source": [
    "y = list(x)\n",
    "y.remove('mar17/lstm')\n",
    "for config in y:\n",
    "    portfolio = [config, 'mar17/lstm', 'straightforward']\n",
    "    p = master_df.query('name in @portfolio and player == br_player').copy()\n",
    "    # NOT QUITE RIGHT\n",
    "    p['frac'] = p['PositiveRegret'] / p['MaxPositiveRegret']\n",
    "    p = p.groupby(['model', 't', 'player']).apply(lambda x: x['frac'].max())\n",
    "    print(config, p.mean())"
   ]
  },
  {
   "cell_type": "code",
   "execution_count": null,
   "id": "9c29e1fa-e0ed-456b-abe2-2e5a773b3182",
   "metadata": {},
   "outputs": [],
   "source": [
    "z = list(y)\n",
    "z.remove('_mlp_deep_wide')\n",
    "for config in z:\n",
    "    portfolio = [config, '_mlp_deep_wide', '_mlp_wide', 'Straightforward']\n",
    "    p = master_df.query('config in @portfolio and player == best_responder').copy()\n",
    "    # NOT QUITE RIGHT\n",
    "    p['frac'] = p['PositiveRegret'] / p['MaxPositiveRegret']\n",
    "    p = p.groupby(['model', 't', 'player']).apply(lambda x: x['frac'].max())\n",
    "    print(config, p.mean())"
   ]
  },
  {
   "cell_type": "code",
   "execution_count": null,
   "id": "ed603b26-fffa-4c58-85cc-f6345efd4fb5",
   "metadata": {},
   "outputs": [],
   "source": [
    "dir(bokeh.plotting)"
   ]
  },
  {
   "cell_type": "code",
   "execution_count": null,
   "id": "3739cf9b-7fd7-4ccf-b072-7011f4836b3e",
   "metadata": {},
   "outputs": [],
   "source": [
    "EquilibriumSolverRun.objects.last().pk"
   ]
  },
  {
   "cell_type": "code",
   "execution_count": null,
   "id": "65106d7d-085a-4496-9437-45972ea19527",
   "metadata": {},
   "outputs": [],
   "source": [
    "for run in experiment.equilibriumsolverrun_set.all():\n",
    "    print(run, run.walltime())"
   ]
  },
  {
   "cell_type": "code",
   "execution_count": null,
   "id": "1809a1dc-3e0e-4ea2-bbae-4398d75ebd3a",
   "metadata": {},
   "outputs": [],
   "source": [
    "121496.56349015236"
   ]
  }
 ],
 "metadata": {
  "kernelspec": {
   "display_name": "Django Shell-Plus",
   "language": "python",
   "name": "django_extensions"
  },
  "language_info": {
   "codemirror_mode": {
    "name": "ipython",
    "version": 3
   },
   "file_extension": ".py",
   "mimetype": "text/x-python",
   "name": "python",
   "nbconvert_exporter": "python",
   "pygments_lexer": "ipython3",
   "version": "3.8.2"
  }
 },
 "nbformat": 4,
 "nbformat_minor": 5
}
