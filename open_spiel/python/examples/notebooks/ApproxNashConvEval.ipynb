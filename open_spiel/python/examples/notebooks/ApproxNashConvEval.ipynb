{
 "cells": [
  {
   "cell_type": "code",
   "execution_count": 16,
   "id": "fbf36e09-c4ab-43f7-b339-f8fe195bd664",
   "metadata": {},
   "outputs": [
    {
     "name": "stdout",
     "output_type": "stream",
     "text": [
      "The autoreload extension is already loaded. To reload it, use:\n",
      "  %reload_ext autoreload\n",
      "Populating the interactive namespace from numpy and matplotlib\n"
     ]
    },
    {
     "name": "stderr",
     "output_type": "stream",
     "text": [
      "/apps/open_spiel/venv/lib/python3.6/site-packages/IPython/core/magics/pylab.py:160: UserWarning: pylab import has clobbered these variables: ['f']\n",
      "`%matplotlib` prevents importing * from pylab and numpy\n",
      "  \"\\n`%matplotlib` prevents importing * from pylab and numpy\"\n"
     ]
    }
   ],
   "source": [
    "%load_ext autoreload\n",
    "%autoreload 2\n",
    "%pylab inline\n",
    "\n",
    "import sys\n",
    "import glob\n",
    "import pandas as pd\n",
    "import os\n",
    "import seaborn as sns\n",
    "from tqdm import tqdm_notebook as tqdm\n",
    "from statsmodels.distributions.empirical_distribution import ECDF\n",
    "from collections import defaultdict\n",
    "import pickle"
   ]
  },
  {
   "cell_type": "code",
   "execution_count": 23,
   "id": "b1187f25-2624-41f0-9592-df7193568842",
   "metadata": {},
   "outputs": [],
   "source": [
    "EXPERIMENT = 'dec9_big_game_2'\n",
    "MODEL = 'lstm_deep'\n",
    "EXPERIMENT_DIR = f'/shared/outputs/{EXPERIMENT}/{MODEL}'\n",
    "CHECKPOINT_NAME = 'checkpoint_1000'"
   ]
  },
  {
   "cell_type": "code",
   "execution_count": 26,
   "id": "4c0c16fc-25d1-42c4-adfe-814126e1de3d",
   "metadata": {},
   "outputs": [],
   "source": [
    "reward_files = glob.glob(EXPERIMENT_DIR + f'/evaluations/rewards_{CHECKPOINT_NAME}*.pkl')"
   ]
  },
  {
   "cell_type": "code",
   "execution_count": 27,
   "id": "57004399-2da2-4c87-9caa-b87bbab4dcf6",
   "metadata": {},
   "outputs": [
    {
     "data": {
      "text/plain": [
       "['/shared/outputs/dec9_big_game_2/lstm_deep/evaluations/rewards_checkpoint_1000_checkpoint_1000_br_1.pkl',\n",
       " '/shared/outputs/dec9_big_game_2/lstm_deep/evaluations/rewards_checkpoint_1000.pkl',\n",
       " '/shared/outputs/dec9_big_game_2/lstm_deep/evaluations/rewards_checkpoint_1000_checkpoint_1000_br_0.pkl']"
      ]
     },
     "execution_count": 27,
     "metadata": {},
     "output_type": "execute_result"
    }
   ],
   "source": [
    "reward_files"
   ]
  },
  {
   "cell_type": "code",
   "execution_count": 51,
   "id": "753a50d1-2128-4ff7-9a2b-8897af049d75",
   "metadata": {},
   "outputs": [
    {
     "name": "stdout",
     "output_type": "stream",
     "text": [
      "{0: -23.235829274310028, 1: 18.310422548900007}\n",
      "Nash Conv estimate: -4.925406725410021\n"
     ]
    }
   ],
   "source": [
    "expected_values = dict()\n",
    "for reward_file in reward_files:\n",
    "    with open(reward_file, 'rb') as f:\n",
    "        rewards = pickle.load(f)\n",
    "        \n",
    "    for player, values in rewards['rewards'].items():\n",
    "        br_agent = rewards['br_agent']\n",
    "        if br_agent is None:\n",
    "            key = player\n",
    "        else:\n",
    "            key = f'{player}_{br_agent}'\n",
    "        expected_values[key] = np.array(values).mean()\n",
    "\n",
    "deltas = dict()\n",
    "players = [k for k in expected_values.keys() if isinstance(k, int)]\n",
    "for player in players:\n",
    "    deltas[player] = expected_values[f'{player}_{player}'] - expected_values[player]\n",
    "print(deltas)\n",
    "print(\"Nash Conv estimate:\", sum(list(deltas.values())))"
   ]
  },
  {
   "cell_type": "code",
   "execution_count": null,
   "id": "215d3d64-f3be-455b-985c-9f4e70f5cc6e",
   "metadata": {},
   "outputs": [],
   "source": []
  }
 ],
 "metadata": {
  "kernelspec": {
   "display_name": "Python 3",
   "language": "python",
   "name": "python3"
  },
  "language_info": {
   "codemirror_mode": {
    "name": "ipython",
    "version": 3
   },
   "file_extension": ".py",
   "mimetype": "text/x-python",
   "name": "python",
   "nbconvert_exporter": "python",
   "pygments_lexer": "ipython3",
   "version": "3.6.9"
  }
 },
 "nbformat": 4,
 "nbformat_minor": 5
}
