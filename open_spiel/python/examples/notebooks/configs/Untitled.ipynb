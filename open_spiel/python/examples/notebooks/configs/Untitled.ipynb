{
 "cells": [
  {
   "cell_type": "code",
   "execution_count": 1,
   "id": "24e06ae3-f347-4fa6-a373-d796fb186e3e",
   "metadata": {},
   "outputs": [],
   "source": [
    "import torch"
   ]
  },
  {
   "cell_type": "code",
   "execution_count": 6,
   "id": "0b8ca448-bb52-44a5-b888-947fc7a20387",
   "metadata": {},
   "outputs": [],
   "source": [
    "x = torch.Tensor([[ 0.0020, -0.0004, -0.0003],\n",
    "        [ 0.0027, -0.0021, -0.0025],\n",
    "        [ 0.0028, -0.0034, -0.0013],\n",
    "        [ 0.0021, -0.0011,  0.0011],\n",
    "        [ 0.0019,  0.0007,  0.0026],\n",
    "        [ 0.0024, -0.0006,  0.0034],\n",
    "        [ 0.0019,  0.0007,  0.0026],\n",
    "        [ 0.0037, -0.0036, -0.0007],\n",
    "        [ 0.0014,  0.0010,  0.0015],\n",
    "        [ 0.0024, -0.0006,  0.0034]])"
   ]
  },
  {
   "cell_type": "code",
   "execution_count": 10,
   "id": "6858d885-b414-4f32-9f56-1c5f3ca1ed4d",
   "metadata": {},
   "outputs": [
    {
     "data": {
      "text/plain": [
       "tensor([1, 0, 1, 1, 0, 2, 0, 2, 0, 2])"
      ]
     },
     "execution_count": 10,
     "metadata": {},
     "output_type": "execute_result"
    }
   ],
   "source": [
    "torch.distributions.Categorical(logits=x).sample()"
   ]
  },
  {
   "cell_type": "code",
   "execution_count": null,
   "id": "b1628710-a081-4e82-84f8-a15aff173107",
   "metadata": {},
   "outputs": [],
   "source": []
  }
 ],
 "metadata": {
  "kernelspec": {
   "display_name": "Python 3 (ipykernel)",
   "language": "python",
   "name": "python3"
  },
  "language_info": {
   "codemirror_mode": {
    "name": "ipython",
    "version": 3
   },
   "file_extension": ".py",
   "mimetype": "text/x-python",
   "name": "python",
   "nbconvert_exporter": "python",
   "pygments_lexer": "ipython3",
   "version": "3.8.2"
  }
 },
 "nbformat": 4,
 "nbformat_minor": 5
}
