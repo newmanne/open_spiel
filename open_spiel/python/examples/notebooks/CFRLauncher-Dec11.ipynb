{
 "cells": [
  {
   "cell_type": "code",
   "execution_count": 1,
   "id": "e6f6eef1-52e3-4ff5-af4b-2d5b933ad90b",
   "metadata": {},
   "outputs": [
    {
     "name": "stdout",
     "output_type": "stream",
     "text": [
      "%pylab is deprecated, use %matplotlib inline and import the required libraries.\n",
      "Populating the interactive namespace from numpy and matplotlib\n"
     ]
    }
   ],
   "source": [
    "%load_ext autoreload\n",
    "%autoreload 2\n",
    "%pylab inline"
   ]
  },
  {
   "cell_type": "code",
   "execution_count": 2,
   "id": "53d1f915-16a6-42e9-b93a-3f44564ef069",
   "metadata": {},
   "outputs": [],
   "source": [
    "import sys\n",
    "import glob\n",
    "import pandas as pd\n",
    "import os\n",
    "import seaborn as sns\n",
    "from tqdm import tqdm_notebook as tqdm\n",
    "from statsmodels.distributions.empirical_distribution import ECDF\n",
    "from collections import defaultdict\n",
    "import open_spiel.python.examples.ubc_dispatch as dispatch\n",
    "import os\n",
    "os.environ[\"DJANGO_ALLOW_ASYNC_UNSAFE\"] = \"true\"\n",
    "from sklearn.model_selection import ParameterGrid\n",
    "from pathlib import Path\n",
    "import torch.nn.functional as F\n",
    "import torch\n",
    "import pickle\n"
   ]
  },
  {
   "cell_type": "code",
   "execution_count": 3,
   "id": "a963cf68-f084-47bc-86bf-23882e77f392",
   "metadata": {},
   "outputs": [],
   "source": [
    "game_dir = os.environ[\"CLOCK_AUCTION_CONFIG_DIR\"]"
   ]
  },
  {
   "cell_type": "code",
   "execution_count": 7,
   "id": "48036c62-68f7-4580-82c3-0da36da9c6b4",
   "metadata": {},
   "outputs": [
    {
     "name": "stdout",
     "output_type": "stream",
     "text": [
      "20\n",
      "['jan19boring/jan19boring_1_base_dev1000_rho0_t3', 'jan19boring/jan19boring_3_base_dev1000_rho1_t3', 'jan19boring/jan19boring_4_base_dev1000_rho1_t3_tie_break', 'jan19boring/jan19boring_0_base_dev1000_rho0_t3_tie_break', 'jan19boring/jan19boring_4_base_dev1000_rho1_t3', 'jan19boring/jan19boring_0_base_dev1000_rho0_t3', 'jan19boring/jan19boring_0_base_dev1000_rho1_t3', 'jan19boring/jan19boring_3_base_dev1000_rho1_t3_tie_break', 'jan19boring/jan19boring_2_base_dev1000_rho0_t3_tie_break', 'jan19boring/jan19boring_3_base_dev1000_rho0_t3_tie_break', 'jan19boring/jan19boring_2_base_dev1000_rho0_t3', 'jan19boring/jan19boring_2_base_dev1000_rho1_t3', 'jan19boring/jan19boring_4_base_dev1000_rho0_t3_tie_break', 'jan19boring/jan19boring_0_base_dev1000_rho1_t3_tie_break', 'jan19boring/jan19boring_4_base_dev1000_rho0_t3', 'jan19boring/jan19boring_1_base_dev1000_rho0_t3_tie_break', 'jan19boring/jan19boring_1_base_dev1000_rho1_t3_tie_break', 'jan19boring/jan19boring_1_base_dev1000_rho1_t3', 'jan19boring/jan19boring_2_base_dev1000_rho1_t3_tie_break', 'jan19boring/jan19boring_3_base_dev1000_rho0_t3']\n"
     ]
    }
   ],
   "source": [
    "sats_games = []\n",
    "PREFIXES = [\n",
    "    # 'oct16_encumbereddeviations',\n",
    "    # 'sep20',\n",
    "    # 'dec11_bc',\n",
    "    # 'dec13b_bc',\n",
    "    # 'jan19'\n",
    "    'jan19boring'\n",
    "]\n",
    "\n",
    "for prefix in PREFIXES:\n",
    "    sats_games += [f'{prefix}/' + os.path.basename(x).replace('.json','') for x in glob.glob(f'{game_dir}/{prefix}/*')]\n",
    "    \n",
    "sats_games = list(set(sats_games))\n",
    "\n",
    "sats_games = [\n",
    "        s for s in sats_games if ('hide' not in s) and '1000' in s and 'risk_averse' not in s\\\n",
    "    # and 'rho1' in s \\\n",
    "    #and 'jan12_1' in s\n",
    "]\n",
    "\n",
    "\n",
    "# sats_games = [s for s in sats_games if 'activity' not in s]\n",
    "\n",
    "\n",
    "print(len(sats_games))\n",
    "print(sats_games)"
   ]
  },
  {
   "cell_type": "markdown",
   "id": "01e19a7a-7d0c-4d03-963f-2265e950bf0b",
   "metadata": {},
   "source": [
    "# For running the real dumb test case"
   ]
  },
  {
   "cell_type": "code",
   "execution_count": 8,
   "id": "ff77dd62-1983-4468-9c31-fd042294ca5c",
   "metadata": {},
   "outputs": [
    {
     "name": "stdout",
     "output_type": "stream",
     "text": [
      "20\n"
     ]
    }
   ],
   "source": [
    "pgrid = ParameterGrid([\n",
    "    {\n",
    "        # Defaults\n",
    "        'game': [g for g in sats_games]# if 'hide' not in g and 'imperfect' not in g]\n",
    "    },\n",
    "])\n",
    "print(len(pgrid))"
   ]
  },
  {
   "cell_type": "code",
   "execution_count": 9,
   "id": "5d7b0a76-6f04-432b-8d86-41bbbf97fc42",
   "metadata": {},
   "outputs": [],
   "source": [
    "# ### Just GOF CFR\n",
    "# num_iters = 999_000_000\n",
    "# time_limit_seconds = int(3600 * 1)\n",
    "# for config in pgrid:\n",
    "#     CONFIG = 'cfr' # The YML network config folder for the main jobs\n",
    "#     N_SEEDS = 3 # Number of seeds of each experiment to launch\n",
    "#     extra_name = ''\n",
    "#     overrides = f'--overwrite_db True --eval_every 999_999_999 --eval_every_seconds 1800 --eval_zero false --total_timesteps {num_iters} --dispatch_br false --report_freq 50 --time_limit_seconds {time_limit_seconds} --use_wandb true'      \n",
    "#     dispatch.dispatch_experiments(CONFIG, base_job_name='jan18_cfr_v6_seeds_v3', game_name=config['game'], overrides=overrides, n_seeds=N_SEEDS, extra_name=extra_name, alg='cfr', start_seed=200)"
   ]
  },
  {
   "cell_type": "code",
   "execution_count": 10,
   "id": "57ec9e6b-aeae-48e2-94e6-43d066a0db1a",
   "metadata": {},
   "outputs": [
    {
     "name": "stdout",
     "output_type": "stream",
     "text": [
      "Submitted batch job 111276\n",
      "Submitted batch job 111277\n",
      "Submitted batch job 111278\n",
      "Submitted batch job 111279\n",
      "Submitted batch job 111280\n",
      "Submitted batch job 111281\n",
      "Submitted batch job 111282\n",
      "Submitted batch job 111283\n",
      "Submitted batch job 111284\n",
      "Submitted batch job 111285\n",
      "Submitted batch job 111286\n",
      "Submitted batch job 111287\n",
      "Submitted batch job 111288\n",
      "Submitted batch job 111289\n",
      "Submitted batch job 111290\n",
      "Submitted batch job 111291\n",
      "Submitted batch job 111292\n",
      "Submitted batch job 111293\n",
      "Submitted batch job 111294\n",
      "Submitted batch job 111295\n",
      "Submitted batch job 111296\n",
      "Submitted batch job 111297\n",
      "Submitted batch job 111298\n",
      "Submitted batch job 111299\n",
      "Submitted batch job 111300\n",
      "Submitted batch job 111301\n",
      "Submitted batch job 111302\n",
      "Submitted batch job 111303\n",
      "Submitted batch job 111304\n",
      "Submitted batch job 111305\n",
      "Submitted batch job 111306\n",
      "Submitted batch job 111307\n",
      "Submitted batch job 111308\n",
      "Submitted batch job 111309\n",
      "Submitted batch job 111310\n",
      "Submitted batch job 111311\n",
      "Submitted batch job 111312\n",
      "Submitted batch job 111313\n",
      "Submitted batch job 111314\n",
      "Submitted batch job 111315\n",
      "Submitted batch job 111316\n",
      "Submitted batch job 111317\n",
      "Submitted batch job 111318\n",
      "Submitted batch job 111319\n",
      "Submitted batch job 111320\n",
      "Submitted batch job 111321\n",
      "Submitted batch job 111322\n",
      "Submitted batch job 111323\n",
      "Submitted batch job 111324\n",
      "Submitted batch job 111325\n",
      "Submitted batch job 111326\n",
      "Submitted batch job 111327\n",
      "Submitted batch job 111328\n",
      "Submitted batch job 111329\n",
      "Submitted batch job 111330\n",
      "Submitted batch job 111331\n",
      "Submitted batch job 111332\n",
      "Submitted batch job 111333\n",
      "Submitted batch job 111334\n",
      "Submitted batch job 111335\n",
      "Submitted batch job 111336\n",
      "Submitted batch job 111337\n",
      "Submitted batch job 111338\n",
      "Submitted batch job 111339\n",
      "Submitted batch job 111340\n",
      "Submitted batch job 111341\n",
      "Submitted batch job 111342\n",
      "Submitted batch job 111343\n",
      "Submitted batch job 111344\n",
      "Submitted batch job 111345\n",
      "Submitted batch job 111346\n",
      "Submitted batch job 111347\n",
      "Submitted batch job 111348\n",
      "Submitted batch job 111349\n",
      "Submitted batch job 111350\n",
      "Submitted batch job 111351\n",
      "Submitted batch job 111352\n",
      "Submitted batch job 111353\n",
      "Submitted batch job 111354\n",
      "Submitted batch job 111355\n",
      "Submitted batch job 111356\n",
      "Submitted batch job 111357\n",
      "Submitted batch job 111358\n",
      "Submitted batch job 111359\n",
      "Submitted batch job 111360\n",
      "Submitted batch job 111361\n",
      "Submitted batch job 111362\n",
      "Submitted batch job 111363\n",
      "Submitted batch job 111364\n",
      "Submitted batch job 111365\n",
      "Submitted batch job 111366\n",
      "Submitted batch job 111367\n",
      "Submitted batch job 111368\n",
      "Submitted batch job 111369\n",
      "Submitted batch job 111370\n",
      "Submitted batch job 111371\n",
      "Submitted batch job 111372\n",
      "Submitted batch job 111373\n",
      "Submitted batch job 111374\n",
      "Submitted batch job 111375\n"
     ]
    }
   ],
   "source": [
    "num_iters = 999_000_000\n",
    "time_limit_seconds = int(3600 * 1)\n",
    "for config in pgrid:\n",
    "    CONFIG = 'cfr_10' # The YML network config folder for the main jobs\n",
    "    N_SEEDS = 5 # Number of seeds of each experiment to launch\n",
    "    extra_name = ''\n",
    "    overrides = f'--overwrite_db True --eval_every 999_999_999 --eval_every_seconds 99999999 --eval_zero false --total_timesteps {num_iters} --dispatch_br false --report_freq 250 --time_limit_seconds {time_limit_seconds} --use_wandb true'      \n",
    "    dispatch.dispatch_experiments(CONFIG, base_job_name='jan20_boring', game_name=config['game'], overrides=overrides, n_seeds=N_SEEDS, extra_name=extra_name, alg='cfr')"
   ]
  },
  {
   "cell_type": "code",
   "execution_count": null,
   "id": "4a6067d6-ea75-47a7-aec8-265ce62ad4aa",
   "metadata": {},
   "outputs": [],
   "source": [
    "!squeue --format=\"%.18i %.90j %.2t .%.10M%.6D %R\""
   ]
  },
  {
   "cell_type": "code",
   "execution_count": 15,
   "id": "99c796a6-b769-485a-98fa-d295eb214144",
   "metadata": {},
   "outputs": [
    {
     "name": "stdout",
     "output_type": "stream",
     "text": [
      "901\n"
     ]
    }
   ],
   "source": [
    "!squeue | wc -l"
   ]
  },
  {
   "cell_type": "code",
   "execution_count": null,
   "id": "0e80d410-986b-42a1-9d49-1035ef103a0a",
   "metadata": {},
   "outputs": [],
   "source": [
    "def check_queue():\n",
    "    !ssh borg.cs.ubc.ca '/opt/slurm/bin/squeue -u newmanne --format=\"%.18i %.90j %.2t .%.10M %.6D %R\"'\n"
   ]
  },
  {
   "cell_type": "code",
   "execution_count": null,
   "id": "3e5c26b7-d158-4ece-a72a-c3b2fd47a56f",
   "metadata": {
    "tags": []
   },
   "outputs": [],
   "source": [
    "check_queue()"
   ]
  },
  {
   "cell_type": "code",
   "execution_count": null,
   "id": "a8b665af-771f-44c1-8065-4928e1e5ac91",
   "metadata": {},
   "outputs": [],
   "source": [
    "!squeue | grep \"may30\" | wc -l"
   ]
  },
  {
   "cell_type": "code",
   "execution_count": null,
   "id": "c26b508d-9ee0-4878-9aa1-68c611ab651a",
   "metadata": {},
   "outputs": [],
   "source": [
    "!scancel -u ubuntu"
   ]
  },
  {
   "cell_type": "code",
   "execution_count": null,
   "id": "aee5cc7e-228c-4484-bb31-efb870f59efa",
   "metadata": {},
   "outputs": [],
   "source": [
    "# !scancel  46891 46893"
   ]
  },
  {
   "cell_type": "code",
   "execution_count": null,
   "id": "3aeeeeb6-6c6f-4e37-9566-3eb8d73d97d5",
   "metadata": {},
   "outputs": [],
   "source": [
    "!rm -rf /shared/outputs/minitest/\n",
    "try:\n",
    "    Experiment.objects.get(name='minitest').delete()\n",
    "except:\n",
    "    pass\n",
    "dispatch.dispatch_experiments('feb2', base_job_name='minitest', game_name='tiny', overrides = '--br_portfolio_path feb2 --eval_every 500 --num_training_episodes 1_000 --br_overrides \"--num_training_episodes 1_000\" --eval_overrides \"--num_samples 100\"')"
   ]
  },
  {
   "cell_type": "code",
   "execution_count": null,
   "id": "d4ca4c72-ce03-4d1a-8e9d-1abd642e8407",
   "metadata": {},
   "outputs": [],
   "source": [
    "BestResponse.objects.last()"
   ]
  },
  {
   "cell_type": "code",
   "execution_count": null,
   "id": "da1b3451-a927-4467-a90d-077f2de61767",
   "metadata": {},
   "outputs": [],
   "source": [
    "Experiment.objects.all()"
   ]
  },
  {
   "cell_type": "code",
   "execution_count": null,
   "id": "0547418d-7d14-404e-ad7f-892180cd6e50",
   "metadata": {},
   "outputs": [],
   "source": [
    "!sacct --starttime 2022-03-11 --format=User,JobID,Jobname,partition,state,time,start,end,elapsed,MaxRss,MaxVMSize,nnodes,ncpus,nodelist"
   ]
  },
  {
   "cell_type": "code",
   "execution_count": null,
   "id": "2fc59f9d-3861-481c-bcd2-68c25e19267a",
   "metadata": {},
   "outputs": [],
   "source": [
    "Evaluation.objects.last()"
   ]
  },
  {
   "cell_type": "code",
   "execution_count": null,
   "id": "eda9b8b7-ea2f-41b0-a527-4460fb8249fc",
   "metadata": {},
   "outputs": [],
   "source": [
    "os.system(\"ssh borg.cs.ubc.ca '/opt/slurm/bin/sbatch'\")"
   ]
  },
  {
   "cell_type": "code",
   "execution_count": null,
   "id": "b70ae116-1e70-4d32-8405-b479041c18b5",
   "metadata": {},
   "outputs": [],
   "source": [
    "!squeue --format=\"%.18i %.65j %.2t %.10M %.6D %R\" | grep \"eval\" | awk '{print $1}' | xargs scancel"
   ]
  },
  {
   "cell_type": "code",
   "execution_count": null,
   "id": "d6b4808f-f9ca-4e51-8a92-4445dfb6f883",
   "metadata": {},
   "outputs": [],
   "source": [
    "from compress_pickle import dumps, loads\n"
   ]
  },
  {
   "cell_type": "code",
   "execution_count": null,
   "id": "a9b6c536-b575-48e7-8bd9-8b28e9a9619a",
   "metadata": {},
   "outputs": [],
   "source": [
    "loads?"
   ]
  },
  {
   "cell_type": "code",
   "execution_count": null,
   "id": "27346459-d529-47b5-b84f-32511d1b809f",
   "metadata": {},
   "outputs": [],
   "source": [
    "from compress_pickle.compressers.registry import get_known_compressions"
   ]
  },
  {
   "cell_type": "code",
   "execution_count": null,
   "id": "89557fb5-e0fb-471c-80f4-e7d8d4b76abb",
   "metadata": {},
   "outputs": [],
   "source": [
    "get_known_compressions()"
   ]
  },
  {
   "cell_type": "code",
   "execution_count": null,
   "id": "2b42e2b0-3412-46ed-8a7f-7539bc84f752",
   "metadata": {},
   "outputs": [],
   "source": [
    "x = EquilibriumSolverRunCheckpoint.objects.last().policy"
   ]
  },
  {
   "cell_type": "code",
   "execution_count": null,
   "id": "52401c72-bb34-41be-b7f0-a0c9479f60ff",
   "metadata": {},
   "outputs": [],
   "source": [
    "len(x)"
   ]
  },
  {
   "cell_type": "code",
   "execution_count": null,
   "id": "c19c4b6d-95b9-4730-9f52-66ef55bc2b2d",
   "metadata": {},
   "outputs": [],
   "source": [
    "len(dumps(pickle.loads(x), compression='bz2'))"
   ]
  },
  {
   "cell_type": "code",
   "execution_count": null,
   "id": "3b5590c1-0f89-4562-abdb-d9683160d40c",
   "metadata": {},
   "outputs": [],
   "source": [
    "len(pickle.dumps(pickle.loads(x)))"
   ]
  },
  {
   "cell_type": "code",
   "execution_count": null,
   "id": "0a3eae12-4643-46f1-a4ed-a72b4a18a44f",
   "metadata": {},
   "outputs": [],
   "source": [
    "EquilibriumSolverRunCheckpoint.objects.last().walltime"
   ]
  },
  {
   "cell_type": "code",
   "execution_count": null,
   "id": "33a4992c-5f4f-44df-a3cb-6f2a2bd15b6b",
   "metadata": {},
   "outputs": [],
   "source": [
    "EquilibriumSolverRunCheckpoint.objects.last().t"
   ]
  },
  {
   "cell_type": "code",
   "execution_count": null,
   "id": "03993e8f-aa1c-431f-9a5f-8bb5fedd7486",
   "metadata": {},
   "outputs": [],
   "source": [
    "EquilibriumSolverRunCheckpoint.objects.last().bestresponse_set.all()"
   ]
  },
  {
   "cell_type": "code",
   "execution_count": null,
   "id": "eb5535b3-c54c-4b0f-a3ae-ea5a61815694",
   "metadata": {},
   "outputs": [],
   "source": [
    "len(EquilibriumSolverRun.objects.last().equilibriumsolverruncheckpoint_set.all().first().policy)"
   ]
  },
  {
   "cell_type": "code",
   "execution_count": null,
   "id": "d9ec7cbe-0003-41b4-b8a2-c92ee61d9ef6",
   "metadata": {},
   "outputs": [],
   "source": [
    "len(EquilibriumSolverRun.objects.last().equilibriumsolverruncheckpoint_set.all().first().bestresponse_set.all().first().model)"
   ]
  },
  {
   "cell_type": "code",
   "execution_count": null,
   "id": "10dbbad0-9431-4681-9a74-912e50999dc7",
   "metadata": {},
   "outputs": [],
   "source": [
    "len(EquilibriumSolverRun.objects.last().equilibriumsolverruncheckpoint_set.all().first().bestresponse_set.all().last().model)"
   ]
  },
  {
   "cell_type": "code",
   "execution_count": null,
   "id": "813c6ee9-125d-4b02-81e6-c0a3652ba078",
   "metadata": {},
   "outputs": [],
   "source": []
  },
  {
   "cell_type": "code",
   "execution_count": null,
   "id": "ba52b0c7-3569-4e78-b13d-e64f538439ae",
   "metadata": {},
   "outputs": [],
   "source": []
  }
 ],
 "metadata": {
  "kernelspec": {
   "display_name": "Django Shell-Plus",
   "language": "python",
   "name": "django_extensions"
  },
  "language_info": {
   "codemirror_mode": {
    "name": "ipython",
    "version": 3
   },
   "file_extension": ".py",
   "mimetype": "text/x-python",
   "name": "python",
   "nbconvert_exporter": "python",
   "pygments_lexer": "ipython3",
   "version": "3.8.2"
  }
 },
 "nbformat": 4,
 "nbformat_minor": 5
}
