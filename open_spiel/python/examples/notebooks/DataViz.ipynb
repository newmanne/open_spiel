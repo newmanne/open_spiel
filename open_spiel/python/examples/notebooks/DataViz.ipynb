{
 "cells": [
  {
   "cell_type": "code",
   "execution_count": 56,
   "id": "fc1b457e-97e0-44c6-acfa-a53d6d333ebf",
   "metadata": {},
   "outputs": [
    {
     "name": "stdout",
     "output_type": "stream",
     "text": [
      "The autoreload extension is already loaded. To reload it, use:\n",
      "  %reload_ext autoreload\n",
      "%pylab is deprecated, use %matplotlib inline and import the required libraries.\n",
      "Populating the interactive namespace from numpy and matplotlib\n"
     ]
    },
    {
     "name": "stderr",
     "output_type": "stream",
     "text": [
      "/home/ubuntu/.pyenv/versions/venv/lib/python3.8/site-packages/IPython/core/magics/pylab.py:162: UserWarning: pylab import has clobbered these variables: ['record']\n",
      "`%matplotlib` prevents importing * from pylab and numpy\n",
      "  warn(\"pylab import has clobbered these variables: %s\"  % clobbered +\n"
     ]
    }
   ],
   "source": [
    "%load_ext autoreload\n",
    "%autoreload 2\n",
    "%pylab inline\n",
    "\n",
    "import sys\n",
    "import glob\n",
    "import pandas as pd\n",
    "import os\n",
    "import seaborn as sns\n",
    "from tqdm import tqdm_notebook as tqdm\n",
    "from statsmodels.distributions.empirical_distribution import ECDF\n",
    "from collections import defaultdict\n",
    "import open_spiel.python.examples.ubc_dispatch as dispatch\n",
    "import os\n",
    "from open_spiel.python.examples.ubc_plotting_utils import parse_run\n",
    "from auctions.webutils import *\n",
    "from collections import Counter\n",
    "\n",
    "os.environ[\"DJANGO_ALLOW_ASYNC_UNSAFE\"] = \"true\"\n"
   ]
  },
  {
   "cell_type": "code",
   "execution_count": 2,
   "id": "5436e6d6-ed2b-4f17-824b-aec8b1fca8fd",
   "metadata": {},
   "outputs": [],
   "source": [
    "experiment = Experiment.objects.get(name='infocompare')\n",
    "runs = experiment.equilibriumsolverrun_set.all()"
   ]
  },
  {
   "cell_type": "code",
   "execution_count": 68,
   "id": "c55688f4-db31-4615-bd8f-b3d55794de27",
   "metadata": {},
   "outputs": [],
   "source": [
    "def analyze_checkpoint(checkpoint):\n",
    "    record = dict()\n",
    "    samples = checkpoint.evaluation.samples\n",
    "    welfares = np.zeros(len(samples['rewards']['0']))\n",
    "    revenues = np.zeros(len(samples['rewards']['0']))\n",
    "    for player in range(checkpoint.equilibrium_solver_run.game.num_players):\n",
    "        player = str(player)\n",
    "        rewards = pd.Series(samples['rewards'][player])\n",
    "        payments = pd.Series(samples['payments'][player])\n",
    "        record[f'p{player}_utility'] = rewards.mean()\n",
    "        record[f'p{player}_payment'] = payments.mean()\n",
    "        welfares += rewards + payments\n",
    "        revenues += payments\n",
    "    record['total_welfare'] = welfares.mean()\n",
    "    record['total_revenue'] = revenues.mean()\n",
    "\n",
    "    arr = np.array(samples['allocations']['0']).astype(int) # TODO: only player 0's allocation.\n",
    "    c = Counter(tuple(map(tuple, arr)))\n",
    "    record['common_allocations'] = c.most_common(5)\n",
    "    \n",
    "    return record\n",
    "    # print(welfares.mean(), revenues.mean())\n",
    "\n",
    "def find_best_checkpoint(run):\n",
    "    ev_df = parse_run(run, 9_000_000)\n",
    "    best_t = ev_df.groupby('t')['ApproxNashConv'].first().idxmin()\n",
    "    approx_nash_conv = ev_df.groupby('t')['ApproxNashConv'].first().min()\n",
    "    best_checkpoint = get_checkpoint(experiment.name, run.name, t=best_t)\n",
    "    return best_checkpoint, approx_nash_conv"
   ]
  },
  {
   "cell_type": "code",
   "execution_count": 80,
   "id": "b7eb96dc-3e63-4a8c-9fde-2cb656cd0625",
   "metadata": {},
   "outputs": [
    {
     "name": "stdout",
     "output_type": "stream",
     "text": [
      "large_game_2\n"
     ]
    },
    {
     "name": "stderr",
     "output_type": "stream",
     "text": [
      "/tmp/ipykernel_28139/445496683.py:4: TqdmDeprecationWarning: This function will be removed in tqdm==5.0.0\n",
      "Please use `tqdm.notebook.tqdm` instead of `tqdm.tqdm_notebook`\n",
      "  for run in tqdm(runs.filter(game__name=f'{game}.json')):\n"
     ]
    },
    {
     "data": {
      "application/vnd.jupyter.widget-view+json": {
       "model_id": "a5009d6a4f45462eb34144ac7db25c8b",
       "version_major": 2,
       "version_minor": 0
      },
      "text/plain": [
       "  0%|          | 0/9 [00:00<?, ?it/s]"
      ]
     },
     "metadata": {},
     "output_type": "display_data"
    },
    {
     "name": "stdout",
     "output_type": "stream",
     "text": [
      "101\n",
      "105\n",
      "106\n",
      "100\n",
      "102\n",
      "109\n",
      "108\n",
      "103\n",
      "107\n",
      "\n"
     ]
    }
   ],
   "source": [
    "records = []\n",
    "for game in ['large_game_2']:\n",
    "    print(game)\n",
    "    for run in tqdm(runs.filter(game__name=f'{game}.json')):\n",
    "        print(run.config['seed'])\n",
    "        checkpoint, approx_nash_conv = find_best_checkpoint(run)\n",
    "        record = analyze_checkpoint(checkpoint)\n",
    "        record['approx_nash_conv'] = approx_nash_conv\n",
    "        records.append(record)\n",
    "    print()\n",
    "df = pd.DataFrame.from_records(records)"
   ]
  },
  {
   "cell_type": "code",
   "execution_count": 70,
   "id": "50ecff05-f71b-43d8-8fd4-23b374d2e707",
   "metadata": {},
   "outputs": [
    {
     "data": {
      "text/plain": [
       "BootstrapResult(confidence_interval=ConfidenceInterval(low=131.40627455988943, high=131.77069214603736), standard_error=0.11127212808392974)"
      ]
     },
     "execution_count": 70,
     "metadata": {},
     "output_type": "execute_result"
    }
   ],
   "source": [
    "arr = checkpoint.evaluation.samples['rewards']['0']\n",
    "data = (arr,)  \n",
    "from scipy.stats import bootstrap\n",
    "res = bootstrap(data, np.mean, confidence_level=0.9, n_resamples=500, method='percentile')\n",
    "res"
   ]
  },
  {
   "cell_type": "code",
   "execution_count": 79,
   "id": "4c342036-bb8a-48c6-8885-3d7c966226d4",
   "metadata": {},
   "outputs": [
    {
     "data": {
      "text/plain": [
       "[((2, 3, 0), 52473),\n",
       " ((3, 1, 1), 11801),\n",
       " ((0, 3, 2), 8351),\n",
       " ((0, 3, 3), 7247),\n",
       " ((3, 1, 0), 2769),\n",
       " ((1, 3, 0), 1600),\n",
       " ((3, 0, 1), 1533),\n",
       " ((1, 3, 2), 1481),\n",
       " ((3, 0, 2), 1375),\n",
       " ((1, 3, 1), 1299),\n",
       " ((2, 2, 1), 1172),\n",
       " ((2, 2, 2), 1074),\n",
       " ((2, 1, 1), 987),\n",
       " ((2, 0, 2), 924),\n",
       " ((2, 1, 2), 793),\n",
       " ((2, 0, 3), 743),\n",
       " ((0, 3, 1), 496),\n",
       " ((1, 2, 2), 490),\n",
       " ((2, 3, 1), 475),\n",
       " ((3, 0, 0), 297),\n",
       " ((2, 0, 1), 269),\n",
       " ((2, 2, 0), 233),\n",
       " ((0, 3, 0), 232),\n",
       " ((1, 2, 1), 210),\n",
       " ((1, 1, 3), 188),\n",
       " ((1, 2, 3), 184),\n",
       " ((2, 1, 0), 136),\n",
       " ((3, 1, 2), 127),\n",
       " ((0, 2, 2), 122),\n",
       " ((1, 1, 2), 113),\n",
       " ((2, 3, 2), 89),\n",
       " ((2, 1, 3), 79),\n",
       " ((2, 0, 0), 75),\n",
       " ((3, 2, 0), 70),\n",
       " ((1, 1, 1), 67),\n",
       " ((0, 2, 3), 66),\n",
       " ((3, 2, 1), 58),\n",
       " ((1, 0, 2), 42),\n",
       " ((1, 2, 0), 31),\n",
       " ((3, 3, 0), 31),\n",
       " ((1, 0, 3), 26),\n",
       " ((2, 2, 3), 25),\n",
       " ((3, 0, 3), 23),\n",
       " ((0, 2, 0), 17),\n",
       " ((3, 2, 2), 15),\n",
       " ((0, 1, 3), 15),\n",
       " ((3, 3, 1), 13),\n",
       " ((0, 2, 1), 12),\n",
       " ((0, 1, 2), 12),\n",
       " ((1, 0, 1), 10),\n",
       " ((0, 1, 1), 8),\n",
       " ((1, 1, 0), 8),\n",
       " ((1, 3, 3), 4),\n",
       " ((0, 0, 3), 4),\n",
       " ((3, 1, 3), 3),\n",
       " ((0, 0, 2), 1),\n",
       " ((3, 2, 3), 1),\n",
       " ((0, 1, 0), 1)]"
      ]
     },
     "execution_count": 79,
     "metadata": {},
     "output_type": "execute_result"
    }
   ],
   "source": [
    "from collections import Counter\n",
    "arr = np.array(checkpoint.evaluation.samples['allocations']['0']).astype(int)\n",
    "c = Counter(tuple(map(tuple, arr)))\n",
    "c.most_common(len(c))\n",
    "# c.most_common(5)"
   ]
  },
  {
   "cell_type": "code",
   "execution_count": 73,
   "id": "b43f264e-a802-45b7-90ca-5548f7639837",
   "metadata": {},
   "outputs": [],
   "source": [
    "# data"
   ]
  },
  {
   "cell_type": "code",
   "execution_count": 87,
   "id": "7c210c08-058c-4cf8-80f5-1819c6b748d2",
   "metadata": {},
   "outputs": [
    {
     "data": {
      "text/html": [
       "<div>\n",
       "<style scoped>\n",
       "    .dataframe tbody tr th:only-of-type {\n",
       "        vertical-align: middle;\n",
       "    }\n",
       "\n",
       "    .dataframe tbody tr th {\n",
       "        vertical-align: top;\n",
       "    }\n",
       "\n",
       "    .dataframe thead th {\n",
       "        text-align: right;\n",
       "    }\n",
       "</style>\n",
       "<table border=\"1\" class=\"dataframe\">\n",
       "  <thead>\n",
       "    <tr style=\"text-align: right;\">\n",
       "      <th></th>\n",
       "      <th>p0_utility</th>\n",
       "      <th>p0_payment</th>\n",
       "      <th>p1_utility</th>\n",
       "      <th>p1_payment</th>\n",
       "      <th>total_welfare</th>\n",
       "      <th>total_revenue</th>\n",
       "      <th>approx_nash_conv</th>\n",
       "    </tr>\n",
       "  </thead>\n",
       "  <tbody>\n",
       "    <tr>\n",
       "      <th>0</th>\n",
       "      <td>119.299547</td>\n",
       "      <td>260.433953</td>\n",
       "      <td>151.828569</td>\n",
       "      <td>223.894231</td>\n",
       "      <td>755.456300</td>\n",
       "      <td>484.328184</td>\n",
       "      <td>6.136778</td>\n",
       "    </tr>\n",
       "    <tr>\n",
       "      <th>1</th>\n",
       "      <td>110.283074</td>\n",
       "      <td>283.580826</td>\n",
       "      <td>142.192599</td>\n",
       "      <td>218.300201</td>\n",
       "      <td>754.356700</td>\n",
       "      <td>501.881027</td>\n",
       "      <td>4.596013</td>\n",
       "    </tr>\n",
       "    <tr>\n",
       "      <th>2</th>\n",
       "      <td>108.893819</td>\n",
       "      <td>280.877781</td>\n",
       "      <td>147.757828</td>\n",
       "      <td>219.723572</td>\n",
       "      <td>757.253000</td>\n",
       "      <td>500.601353</td>\n",
       "      <td>0.565621</td>\n",
       "    </tr>\n",
       "    <tr>\n",
       "      <th>3</th>\n",
       "      <td>88.345236</td>\n",
       "      <td>204.572365</td>\n",
       "      <td>151.576142</td>\n",
       "      <td>291.493358</td>\n",
       "      <td>735.987100</td>\n",
       "      <td>496.065723</td>\n",
       "      <td>10.670377</td>\n",
       "    </tr>\n",
       "    <tr>\n",
       "      <th>4</th>\n",
       "      <td>128.823059</td>\n",
       "      <td>303.109242</td>\n",
       "      <td>136.434884</td>\n",
       "      <td>189.175516</td>\n",
       "      <td>757.542700</td>\n",
       "      <td>492.284757</td>\n",
       "      <td>1.434662</td>\n",
       "    </tr>\n",
       "    <tr>\n",
       "      <th>5</th>\n",
       "      <td>118.516735</td>\n",
       "      <td>291.097365</td>\n",
       "      <td>144.563827</td>\n",
       "      <td>205.458673</td>\n",
       "      <td>759.636599</td>\n",
       "      <td>496.556037</td>\n",
       "      <td>1.962268</td>\n",
       "    </tr>\n",
       "    <tr>\n",
       "      <th>6</th>\n",
       "      <td>100.129506</td>\n",
       "      <td>278.194794</td>\n",
       "      <td>147.068753</td>\n",
       "      <td>229.939047</td>\n",
       "      <td>755.332100</td>\n",
       "      <td>508.133841</td>\n",
       "      <td>9.096962</td>\n",
       "    </tr>\n",
       "    <tr>\n",
       "      <th>7</th>\n",
       "      <td>112.897518</td>\n",
       "      <td>301.943282</td>\n",
       "      <td>131.527484</td>\n",
       "      <td>205.951316</td>\n",
       "      <td>752.319600</td>\n",
       "      <td>507.894599</td>\n",
       "      <td>3.092972</td>\n",
       "    </tr>\n",
       "    <tr>\n",
       "      <th>8</th>\n",
       "      <td>131.585773</td>\n",
       "      <td>293.050027</td>\n",
       "      <td>131.015494</td>\n",
       "      <td>190.298906</td>\n",
       "      <td>745.950200</td>\n",
       "      <td>483.348932</td>\n",
       "      <td>3.164699</td>\n",
       "    </tr>\n",
       "  </tbody>\n",
       "</table>\n",
       "</div>"
      ],
      "text/plain": [
       "   p0_utility  p0_payment  p1_utility  p1_payment  total_welfare  \\\n",
       "0  119.299547  260.433953  151.828569  223.894231     755.456300   \n",
       "1  110.283074  283.580826  142.192599  218.300201     754.356700   \n",
       "2  108.893819  280.877781  147.757828  219.723572     757.253000   \n",
       "3   88.345236  204.572365  151.576142  291.493358     735.987100   \n",
       "4  128.823059  303.109242  136.434884  189.175516     757.542700   \n",
       "5  118.516735  291.097365  144.563827  205.458673     759.636599   \n",
       "6  100.129506  278.194794  147.068753  229.939047     755.332100   \n",
       "7  112.897518  301.943282  131.527484  205.951316     752.319600   \n",
       "8  131.585773  293.050027  131.015494  190.298906     745.950200   \n",
       "\n",
       "   total_revenue  approx_nash_conv  \n",
       "0     484.328184          6.136778  \n",
       "1     501.881027          4.596013  \n",
       "2     500.601353          0.565621  \n",
       "3     496.065723         10.670377  \n",
       "4     492.284757          1.434662  \n",
       "5     496.556037          1.962268  \n",
       "6     508.133841          9.096962  \n",
       "7     507.894599          3.092972  \n",
       "8     483.348932          3.164699  "
      ]
     },
     "execution_count": 87,
     "metadata": {},
     "output_type": "execute_result"
    }
   ],
   "source": [
    "x = df.copy()\n",
    "del x['common_allocations']\n",
    "x"
   ]
  },
  {
   "cell_type": "code",
   "execution_count": 86,
   "id": "1b47e550-a56c-4395-b70c-903fe797b9bd",
   "metadata": {},
   "outputs": [
    {
     "data": {
      "text/plain": [
       "0     [((3, 1, 0), 48502), ((3, 0, 1), 15740), ((0, 2, 3), 9116), ((2, 1, 1), 5702), ((2, 2, 0), 2920)]\n",
       "1     [((3, 1, 0), 51059), ((3, 1, 1), 18585), ((0, 2, 3), 2915), ((1, 0, 3), 2265), ((1, 2, 0), 2030)]\n",
       "2     [((3, 1, 0), 52859), ((3, 0, 2), 10133), ((3, 1, 1), 7589), ((0, 3, 3), 6406), ((0, 3, 0), 2300)]\n",
       "3     [((2, 1, 0), 53382), ((0, 2, 2), 19880), ((0, 3, 1), 5349), ((2, 0, 1), 2844), ((0, 3, 2), 2425)]\n",
       "4      [((3, 2, 0), 67191), ((0, 1, 3), 9668), ((0, 3, 3), 3597), ((0, 3, 2), 2545), ((3, 1, 0), 1947)]\n",
       "5    [((3, 1, 0), 52412), ((0, 3, 3), 16876), ((3, 0, 2), 16313), ((3, 1, 1), 5705), ((3, 2, 0), 1191)]\n",
       "6      [((3, 1, 0), 57387), ((3, 1, 1), 5073), ((3, 0, 1), 4793), ((2, 1, 1), 4097), ((0, 1, 3), 3189)]\n",
       "7      [((3, 1, 0), 52099), ((0, 3, 3), 8713), ((3, 1, 1), 4749), ((3, 2, 0), 3904), ((1, 3, 3), 2717)]\n",
       "8     [((2, 3, 0), 52473), ((3, 1, 1), 11801), ((0, 3, 2), 8351), ((0, 3, 3), 7247), ((3, 1, 0), 2769)]\n",
       "Name: common_allocations, dtype: object"
      ]
     },
     "metadata": {},
     "output_type": "display_data"
    }
   ],
   "source": [
    "with pd.option_context('display.max_rows', None, 'display.max_colwidth', None):\n",
    "    display(df['common_allocations'])"
   ]
  },
  {
   "cell_type": "code",
   "execution_count": 75,
   "id": "9a0340ff-7249-4497-83f5-5bcadcde68e3",
   "metadata": {},
   "outputs": [
    {
     "data": {
      "text/plain": [
       "0    [((3, 1, 0), 48502), ((3, 0, 1), 15740), ((0, ...\n",
       "1    [((3, 1, 0), 51059), ((3, 1, 1), 18585), ((0, ...\n",
       "2    [((3, 1, 0), 52859), ((3, 0, 2), 10133), ((3, ...\n",
       "3    [((2, 1, 0), 53382), ((0, 2, 2), 19880), ((0, ...\n",
       "4    [((3, 2, 0), 67191), ((0, 1, 3), 9668), ((0, 3...\n",
       "5    [((3, 1, 0), 52412), ((0, 3, 3), 16876), ((3, ...\n",
       "6    [((3, 1, 0), 57387), ((3, 1, 1), 5073), ((3, 0...\n",
       "7    [((3, 1, 0), 52099), ((0, 3, 3), 8713), ((3, 1...\n",
       "8    [((2, 3, 0), 52473), ((3, 1, 1), 11801), ((0, ...\n",
       "Name: common_allocations, dtype: object"
      ]
     },
     "execution_count": 75,
     "metadata": {},
     "output_type": "execute_result"
    }
   ],
   "source": [
    "df['common_allocations']"
   ]
  },
  {
   "cell_type": "code",
   "execution_count": 82,
   "id": "a1830bf4-6d6d-4368-9657-db087a933508",
   "metadata": {},
   "outputs": [
    {
     "data": {
      "text/plain": [
       "[((3, 1, 0), 48502),\n",
       " ((3, 0, 1), 15740),\n",
       " ((0, 2, 3), 9116),\n",
       " ((2, 1, 1), 5702),\n",
       " ((2, 2, 0), 2920)]"
      ]
     },
     "execution_count": 82,
     "metadata": {},
     "output_type": "execute_result"
    }
   ],
   "source": [
    "df['common_allocations'].loc[0]"
   ]
  },
  {
   "cell_type": "code",
   "execution_count": 83,
   "id": "4fd1ad71-29fb-4743-bda2-2737a6782ae8",
   "metadata": {},
   "outputs": [
    {
     "data": {
      "text/plain": [
       "[((3, 1, 0), 51059),\n",
       " ((3, 1, 1), 18585),\n",
       " ((0, 2, 3), 2915),\n",
       " ((1, 0, 3), 2265),\n",
       " ((1, 2, 0), 2030)]"
      ]
     },
     "execution_count": 83,
     "metadata": {},
     "output_type": "execute_result"
    }
   ],
   "source": [
    "df['common_allocations'].loc[1]"
   ]
  },
  {
   "cell_type": "code",
   "execution_count": 78,
   "id": "94e18cb7-d609-441c-942b-ae5b211afdee",
   "metadata": {},
   "outputs": [
    {
     "data": {
      "text/plain": [
       "[((3, 1, 0), 57387),\n",
       " ((3, 1, 1), 5073),\n",
       " ((3, 0, 1), 4793),\n",
       " ((2, 1, 1), 4097),\n",
       " ((0, 1, 3), 3189)]"
      ]
     },
     "execution_count": 78,
     "metadata": {},
     "output_type": "execute_result"
    }
   ],
   "source": [
    "df['common_allocations'].loc[6]"
   ]
  },
  {
   "cell_type": "code",
   "execution_count": 114,
   "id": "3c9e5f4b-26e5-4fc5-8d28-d0b71cf6f2c8",
   "metadata": {},
   "outputs": [
    {
     "name": "stderr",
     "output_type": "stream",
     "text": [
      "Reading from env variable CLOCK_AUCTION_CONFIG_DIR. If it is not set, there will be trouble.\n",
      "CLOCK_AUCTION_CONFIG_DIR=/apps/open_spiel/configs\n",
      "Parsing configuration from /apps/open_spiel/configs/tiny.json\n",
      "Done config parsing\n"
     ]
    },
    {
     "ename": "MemoryError",
     "evalue": "std::bad_alloc",
     "output_type": "error",
     "traceback": [
      "\u001b[0;31m---------------------------------------------------------------------------\u001b[0m",
      "\u001b[0;31mMemoryError\u001b[0m                               Traceback (most recent call last)",
      "Input \u001b[0;32mIn [114]\u001b[0m, in \u001b[0;36m<module>\u001b[0;34m\u001b[0m\n\u001b[1;32m      3\u001b[0m g_db \u001b[38;5;241m=\u001b[39m Game\u001b[38;5;241m.\u001b[39mobjects\u001b[38;5;241m.\u001b[39mfirst()\n\u001b[1;32m      4\u001b[0m g \u001b[38;5;241m=\u001b[39m load_game(g_db)\n\u001b[0;32m----> 5\u001b[0m it \u001b[38;5;241m=\u001b[39m \u001b[43mg\u001b[49m\u001b[38;5;241;43m.\u001b[39;49m\u001b[43mnew_initial_state\u001b[49m\u001b[43m(\u001b[49m\u001b[43m)\u001b[49m\u001b[38;5;241;43m.\u001b[39;49m\u001b[43mchild\u001b[49m\u001b[43m(\u001b[49m\u001b[38;5;241;43m0\u001b[39;49m\u001b[43m)\u001b[49m\u001b[38;5;241;43m.\u001b[39;49m\u001b[43mchild\u001b[49m\u001b[43m(\u001b[49m\u001b[38;5;241;43m0\u001b[39;49m\u001b[43m)\u001b[49m\u001b[38;5;241;43m.\u001b[39;49m\u001b[43mchild\u001b[49m\u001b[43m(\u001b[49m\u001b[38;5;241;43m2\u001b[39;49m\u001b[43m)\u001b[49m\u001b[38;5;241;43m.\u001b[39;49m\u001b[43mchild\u001b[49m\u001b[43m(\u001b[49m\u001b[38;5;241;43m1\u001b[39;49m\u001b[43m)\u001b[49m\u001b[38;5;241m.\u001b[39minformation_state_tensor()\n\u001b[1;32m      7\u001b[0m get_player_type_index(g_db\u001b[38;5;241m.\u001b[39mnum_players, g_db\u001b[38;5;241m.\u001b[39mnum_actions, g_db\u001b[38;5;241m.\u001b[39mnum_products)\n\u001b[1;32m      8\u001b[0m get_player_type(g_db\u001b[38;5;241m.\u001b[39mnum_players, g_db\u001b[38;5;241m.\u001b[39mnum_actions, g_db\u001b[38;5;241m.\u001b[39mnum_products, it)\n",
      "\u001b[0;31mMemoryError\u001b[0m: std::bad_alloc"
     ]
    }
   ],
   "source": [
    "from open_spiel.python.examples.ubc_utils import *\n",
    "\n",
    "g_db = Game.objects.get(name='tin\n",
    "g = load_game(g_db)\n",
    "it = g.new_initial_state().child(0).child(0).child(2).child(1).information_state_tensor()\n",
    "\n",
    "get_player_type_index(g_db.num_players, g_db.num_actions, g_db.num_products)\n",
    "get_player_type(g_db.num_players, g_db.num_actions, g_db.num_products, it)"
   ]
  },
  {
   "cell_type": "code",
   "execution_count": 100,
   "id": "1c43f1b2-69fb-4f9d-8407-f23d25bad97e",
   "metadata": {},
   "outputs": [
    {
     "data": {
      "text/plain": [
       "[0.0, 500.0, 120.0, 80.0, 30.0, 0.0, 0.0, 0.0, 0.0, 0.0]"
      ]
     },
     "execution_count": 100,
     "metadata": {},
     "output_type": "execute_result"
    }
   ],
   "source": [
    "it[145:155]"
   ]
  },
  {
   "cell_type": "code",
   "execution_count": 108,
   "id": "0d817e2d-ddee-4dbc-a0e7-0573d4fea637",
   "metadata": {},
   "outputs": [
    {
     "data": {
      "text/plain": [
       "500.0"
      ]
     },
     "execution_count": 108,
     "metadata": {},
     "output_type": "execute_result"
    }
   ],
   "source": [
    "it[146]"
   ]
  },
  {
   "cell_type": "code",
   "execution_count": 115,
   "id": "71db9f1b-6c22-4779-b8fa-e35ae26e8355",
   "metadata": {},
   "outputs": [
    {
     "data": {
      "text/plain": [
       "<QuerySet [<Game: tiny.json>, <Game: large_game_2.json>, <Game: large_game_2_hide.json>]>"
      ]
     },
     "execution_count": 115,
     "metadata": {},
     "output_type": "execute_result"
    }
   ],
   "source": [
    "Game.objects.all()"
   ]
  },
  {
   "cell_type": "code",
   "execution_count": null,
   "id": "ab19165e-7ace-4f76-8b36-dc5a78b27267",
   "metadata": {},
   "outputs": [],
   "source": []
  }
 ],
 "metadata": {
  "kernelspec": {
   "display_name": "Django Shell-Plus",
   "language": "python",
   "name": "django_extensions"
  },
  "language_info": {
   "codemirror_mode": {
    "name": "ipython",
    "version": 3
   },
   "file_extension": ".py",
   "mimetype": "text/x-python",
   "name": "python",
   "nbconvert_exporter": "python",
   "pygments_lexer": "ipython3",
   "version": "3.8.2"
  }
 },
 "nbformat": 4,
 "nbformat_minor": 5
}
