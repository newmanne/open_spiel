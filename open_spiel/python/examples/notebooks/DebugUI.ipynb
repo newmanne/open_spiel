{
 "cells": [
  {
   "cell_type": "code",
   "execution_count": 1,
   "id": "eb55c663-788f-432d-a7d9-f20516467ffc",
   "metadata": {},
   "outputs": [],
   "source": [
    "%load_ext autoreload\n",
    "%autoreload 2\n",
    "%matplotlib inline"
   ]
  },
  {
   "cell_type": "code",
   "execution_count": 2,
   "id": "36fcc97e-88e3-412c-9ecf-34890efeb842",
   "metadata": {},
   "outputs": [],
   "source": [
    "import sys\n",
    "import glob\n",
    "import pandas as pd\n",
    "import os\n",
    "import seaborn as sns\n",
    "import numpy as np\n",
    "import torch.nn as nn\n",
    "\n",
    "from tqdm import tqdm\n",
    "from statsmodels.distributions.empirical_distribution import ECDF\n",
    "from collections import defaultdict\n",
    "# import pickle\n",
    "import re\n",
    "import json\n",
    "from pathlib import Path\n",
    "\n",
    "from open_spiel.python.algorithms.exploitability import nash_conv, best_response\n",
    "from open_spiel.python.examples.ubc_plotting_utils import *\n",
    "from open_spiel.python.examples.ubc_cma import analyze_checkpoint\n",
    "\n",
    "import dill as pickle\n",
    "import types\n",
    "\n",
    "from auctions.webutils import *\n",
    "\n",
    "os.environ[\"DJANGO_ALLOW_ASYNC_UNSAFE\"] = \"true\"\n",
    "\n",
    "game = pyspiel.load_game('python_clock_auction', dict(filename='/apps/open_spiel/configs/small_sats_complete_symmetric.json'))\n"
   ]
  },
  {
   "cell_type": "code",
   "execution_count": 3,
   "id": "a542b78e-b611-4aa1-864e-01d4f4ab2136",
   "metadata": {},
   "outputs": [],
   "source": [
    "from open_spiel.python.examples.ubc_sample_game_tree import *"
   ]
  },
  {
   "cell_type": "code",
   "execution_count": 4,
   "id": "91eff322-85ed-46f3-a5ea-5729c749597c",
   "metadata": {},
   "outputs": [
    {
     "name": "stdout",
     "output_type": "stream",
     "text": [
      "Using optimizer RMSprop (\n",
      "Parameter Group 0\n",
      "    alpha: 0.99\n",
      "    centered: False\n",
      "    eps: 1e-05\n",
      "    foreach: None\n",
      "    lr: 0.0003\n",
      "    momentum: 0\n",
      "    weight_decay: 0\n",
      ")\n",
      "Using optimizer RMSprop (\n",
      "Parameter Group 0\n",
      "    alpha: 0.99\n",
      "    centered: False\n",
      "    eps: 1e-05\n",
      "    foreach: None\n",
      "    lr: 0.0003\n",
      "    momentum: 0\n",
      "    weight_decay: 0\n",
      ")\n",
      "Using optimizer RMSprop (\n",
      "Parameter Group 0\n",
      "    alpha: 0.99\n",
      "    centered: False\n",
      "    eps: 1e-05\n",
      "    foreach: None\n",
      "    lr: 0.0003\n",
      "    momentum: 0\n",
      "    weight_decay: 0\n",
      ")\n",
      "Using optimizer RMSprop (\n",
      "Parameter Group 0\n",
      "    alpha: 0.99\n",
      "    centered: False\n",
      "    eps: 1e-05\n",
      "    foreach: None\n",
      "    lr: 0.0003\n",
      "    momentum: 0\n",
      "    weight_decay: 0\n",
      ")\n",
      "Using optimizer RMSprop (\n",
      "Parameter Group 0\n",
      "    alpha: 0.99\n",
      "    centered: False\n",
      "    eps: 1e-05\n",
      "    foreach: None\n",
      "    lr: 0.0003\n",
      "    momentum: 0\n",
      "    weight_decay: 0\n",
      ")\n",
      "Using optimizer RMSprop (\n",
      "Parameter Group 0\n",
      "    alpha: 0.99\n",
      "    centered: False\n",
      "    eps: 1e-05\n",
      "    foreach: None\n",
      "    lr: 0.0003\n",
      "    momentum: 0\n",
      "    weight_decay: 0\n",
      ")\n"
     ]
    }
   ],
   "source": [
    "num_samples = 100\n",
    "seed = 1234\n",
    "history_prefix = [0, 0, 7, 7, 5, 5, 8, 4, 4]\n",
    "player_0_checkpoint_pk=14437\n",
    "player_1_checkpoint_pk=14437\n",
    "\n",
    "checkpoint = EquilibriumSolverRunCheckpoint.objects.get(pk=player_0_checkpoint_pk)\n",
    "# TODO: Modify this if you want to collect samples in parallel\n",
    "env_params = EnvParams(track_stats=True, seed=seed, num_envs=1, sync=False, history_prefix=history_prefix)\n",
    "env_and_policy = ppo_db_checkpoint_loader(checkpoint, env_params=env_params)\n",
    "\n",
    "for player in range(2):\n",
    "    checkpoint_pk = player_0_checkpoint_pk if player == 0 else player_1_checkpoint_pk\n",
    "    checkpoint = EquilibriumSolverRunCheckpoint.objects.get(pk=checkpoint_pk)\n",
    "    env_and_model_temp = ppo_db_checkpoint_loader(checkpoint)\n",
    "    env_and_policy.agents[player] = env_and_model_temp.agents[player]\n",
    "\n",
    "data = dict()\n"
   ]
  },
  {
   "cell_type": "code",
   "execution_count": 5,
   "id": "c6950efb-311c-4380-b604-7060e70dade0",
   "metadata": {},
   "outputs": [],
   "source": [
    "\n",
    "# Sample\n",
    "actions = sample_game_from_position(env_and_policy, num_samples, seed=seed)\n"
   ]
  },
  {
   "cell_type": "code",
   "execution_count": null,
   "id": "a014c258-0b06-4679-a713-11eefc88a42b",
   "metadata": {},
   "outputs": [],
   "source": []
  },
  {
   "cell_type": "code",
   "execution_count": null,
   "id": "6b28b789-6524-408e-8f24-cd2ab67ace3c",
   "metadata": {},
   "outputs": [],
   "source": []
  },
  {
   "cell_type": "code",
   "execution_count": null,
   "id": "f2cc1025-7dc0-4837-bf3e-b811b1da39e1",
   "metadata": {},
   "outputs": [],
   "source": []
  }
 ],
 "metadata": {
  "kernelspec": {
   "display_name": "Django Shell-Plus",
   "language": "python",
   "name": "django_extensions"
  },
  "language_info": {
   "codemirror_mode": {
    "name": "ipython",
    "version": 3
   },
   "file_extension": ".py",
   "mimetype": "text/x-python",
   "name": "python",
   "nbconvert_exporter": "python",
   "pygments_lexer": "ipython3",
   "version": "3.8.2"
  }
 },
 "nbformat": 4,
 "nbformat_minor": 5
}
