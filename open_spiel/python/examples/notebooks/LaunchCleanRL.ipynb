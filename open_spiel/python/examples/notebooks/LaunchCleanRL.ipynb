{
 "cells": [
  {
   "cell_type": "code",
   "execution_count": 1,
   "id": "2a5a96e8-344d-48fd-9bcf-3e6bbd109cd1",
   "metadata": {},
   "outputs": [
    {
     "name": "stdout",
     "output_type": "stream",
     "text": [
      "%pylab is deprecated, use %matplotlib inline and import the required libraries.\n",
      "Populating the interactive namespace from numpy and matplotlib\n"
     ]
    }
   ],
   "source": [
    "%load_ext autoreload\n",
    "%autoreload 2\n",
    "%pylab inline"
   ]
  },
  {
   "cell_type": "code",
   "execution_count": 2,
   "id": "34372562-5742-4768-8694-3b528d213cd3",
   "metadata": {},
   "outputs": [],
   "source": [
    "import sys\n",
    "import glob\n",
    "import pandas as pd\n",
    "import os\n",
    "import seaborn as sns\n",
    "from tqdm import tqdm_notebook as tqdm\n",
    "from statsmodels.distributions.empirical_distribution import ECDF\n",
    "from collections import defaultdict\n",
    "import open_spiel.python.examples.ubc_dispatch as dispatch\n",
    "import os\n",
    "os.environ[\"DJANGO_ALLOW_ASYNC_UNSAFE\"] = \"true\"\n",
    "from sklearn.model_selection import ParameterGrid\n",
    "from pathlib import Path\n",
    "import torch.nn.functional as F\n",
    "import torch"
   ]
  },
  {
   "cell_type": "code",
   "execution_count": null,
   "id": "0834a2c1-4952-4868-b9a1-a5879949a35c",
   "metadata": {},
   "outputs": [],
   "source": [
    "job_file_text = f\"\"\"#!/bin/sh\n",
    "#SBATCH --cpus-per-task={cpus}\n",
    "#SBATCH --job-name={slurm_job_name}\n",
    "#SBATCH --time=5-0:00:00 # days-hh:mm:ss\n",
    "#SBATCH -e slurm-%j-{slurm_job_name}.err\n",
    "#SBATCH -o slurm-%j-{slurm_job_name}.out\n",
    "\n",
    "export OPENSPIEL_PATH={spiel_path}\n",
    "export PYTHONPATH=${{OPENSPIEL_PATH}}:$PYTHONPATH\n",
    "export PYTHONPATH=${{OPENSPIEL_PATH}}/build/python:$PYTHONPATH\n",
    "\n",
    "CMD=`{command}`\n",
    "echo $CMD\n",
    "eval $CMD\n",
    "\"\"\""
   ]
  },
  {
   "cell_type": "code",
   "execution_count": null,
   "id": "eba0efdb-3322-4eb9-98c3-bf89db8fe378",
   "metadata": {},
   "outputs": [],
   "source": [
    "configs = []"
   ]
  },
  {
   "cell_type": "code",
   "execution_count": null,
   "id": "c2f8151c-1005-438c-8811-484dd5d9ee1f",
   "metadata": {},
   "outputs": [],
   "source": [
    "pgrid = ParameterGrid([\n",
    "    {\n",
    "    },\n",
    "])\n",
    "print(len(pgrid))"
   ]
  },
  {
   "cell_type": "code",
   "execution_count": null,
   "id": "0d7df7e6-d599-43b7-96f4-e3218a097934",
   "metadata": {},
   "outputs": [],
   "source": [
    "experiment_output_dir = '/shared/outputs/cleanrl'\n",
    "experiment_name = 'test9999'\n",
    "for config in pgrid:\n",
    "    dispatch.write_and_submit(experiment_output_dir, experiment_name, job_file_text, True)"
   ]
  },
  {
   "cell_type": "code",
   "execution_count": null,
   "id": "e7f8e334-7ae2-4f9e-b34c-6a4378ee70c6",
   "metadata": {},
   "outputs": [],
   "source": [
    "0.5 * (1 - c)**steps = 2"
   ]
  },
  {
   "cell_type": "code",
   "execution_count": 3,
   "id": "e9e50fef-a19d-48c4-a87f-00839508801f",
   "metadata": {},
   "outputs": [
    {
     "data": {
      "text/plain": [
       "14.425134878021565"
      ]
     },
     "execution_count": 3,
     "metadata": {},
     "output_type": "execute_result"
    }
   ],
   "source": [
    "np.log(2/50) / np.log(1 - 0.2)"
   ]
  },
  {
   "cell_type": "code",
   "execution_count": null,
   "id": "2efd2cf5-5dc1-4f55-b2c8-810c2df5a5f0",
   "metadata": {},
   "outputs": [],
   "source": []
  }
 ],
 "metadata": {
  "kernelspec": {
   "display_name": "Python 3 (ipykernel)",
   "language": "python",
   "name": "python3"
  },
  "language_info": {
   "codemirror_mode": {
    "name": "ipython",
    "version": 3
   },
   "file_extension": ".py",
   "mimetype": "text/x-python",
   "name": "python",
   "nbconvert_exporter": "python",
   "pygments_lexer": "ipython3",
   "version": "3.8.2"
  }
 },
 "nbformat": 4,
 "nbformat_minor": 5
}
