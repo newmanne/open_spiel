{
 "cells": [
  {
   "cell_type": "code",
   "execution_count": 1,
   "id": "ac86b22c-88d8-4006-9955-d7ace57dd0de",
   "metadata": {},
   "outputs": [
    {
     "name": "stderr",
     "output_type": "stream",
     "text": [
      "/home/ubuntu/.pyenv/versions/3.8.2/envs/venv/lib/python3.8/site-packages/torch/utils/tensorboard/__init__.py:6: DeprecationWarning: distutils Version classes are deprecated. Use packaging.version instead.\n",
      "  if not hasattr(tensorboard, '__version__') or LooseVersion(tensorboard.__version__) < LooseVersion('1.15'):\n",
      "/home/ubuntu/.pyenv/versions/3.8.2/envs/venv/lib/python3.8/site-packages/seaborn/rcmod.py:82: DeprecationWarning: distutils Version classes are deprecated. Use packaging.version instead.\n",
      "  if LooseVersion(mpl.__version__) >= \"3.0\":\n",
      "/home/ubuntu/.pyenv/versions/3.8.2/envs/venv/lib/python3.8/site-packages/setuptools/_distutils/version.py:351: DeprecationWarning: distutils Version classes are deprecated. Use packaging.version instead.\n",
      "  other = LooseVersion(other)\n"
     ]
    }
   ],
   "source": [
    "%load_ext autoreload\n",
    "%autoreload 2\n",
    "%matplotlib inline\n",
    "\n",
    "import pyspiel\n",
    "import open_spiel.python.games\n",
    "from open_spiel.python.observation import make_observation\n",
    "from open_spiel.python.examples.ubc_decorators import TakeSingleActionDecorator\n",
    "from open_spiel.python.examples.straightforward_agent import StraightforwardAgent\n",
    "from open_spiel.python.pytorch.mutations import *\n",
    "from open_spiel.python.examples.ppo_utils import EnvParams\n",
    "from open_spiel.python.examples.ppo_eval import eval_agents_parallel\n",
    "from open_spiel.python.env_decorator import *\n",
    "\n",
    "from auctions.webutils import *\n",
    "import os\n",
    "os.environ[\"DJANGO_ALLOW_ASYNC_UNSAFE\"] = \"true\""
   ]
  },
  {
   "cell_type": "code",
   "execution_count": 2,
   "id": "0e883454-79c5-4d7d-92cb-f76ac34dd50a",
   "metadata": {},
   "outputs": [],
   "source": [
    "EXPERIMENT_NAME = 'speedy_war3'\n",
    "RUN_NAME = 'rw_game_2_war_speedy_2-aug11ppo-100'"
   ]
  },
  {
   "cell_type": "code",
   "execution_count": 3,
   "id": "b6be2c4a-a27a-4fe1-a076-c3fdba0d15fb",
   "metadata": {},
   "outputs": [],
   "source": [
    "equilibrium_solver_run_checkpoint = get_checkpoint_by_name(EXPERIMENT_NAME, RUN_NAME)\n",
    "env_and_policy = ppo_db_checkpoint_loader(equilibrium_solver_run_checkpoint)"
   ]
  },
  {
   "cell_type": "code",
   "execution_count": 4,
   "id": "07ae8b37-faf6-4eab-8363-412887bd2f77",
   "metadata": {},
   "outputs": [],
   "source": [
    "model = env_and_policy.agents[0].network.actor"
   ]
  },
  {
   "cell_type": "code",
   "execution_count": 5,
   "id": "bc7adbb0-acf1-41e7-a80b-2d2015036b4f",
   "metadata": {},
   "outputs": [],
   "source": [
    "agents = env_and_policy.agents"
   ]
  },
  {
   "cell_type": "code",
   "execution_count": 6,
   "id": "7ff34608-744d-4dc3-9ffc-0f6bfd2ba528",
   "metadata": {},
   "outputs": [],
   "source": [
    "tracking_env = EnvParams(num_states_to_save=100).make_env(env_and_policy.game)"
   ]
  },
  {
   "cell_type": "code",
   "execution_count": 7,
   "id": "45e9f176-347d-486c-b241-7168cdd98633",
   "metadata": {},
   "outputs": [
    {
     "data": {
      "text/plain": [
       "{'rewards': array([0.47322298, 0.92307692]), 'walltime': 0.2842555046081543}"
      ]
     },
     "execution_count": 7,
     "metadata": {},
     "output_type": "execute_result"
    }
   ],
   "source": [
    "eval_agents_parallel(tracking_env, agents, num_episodes=100)"
   ]
  },
  {
   "cell_type": "code",
   "execution_count": 8,
   "id": "df1122a6-8f1c-4479-963b-f84c2f7718f0",
   "metadata": {},
   "outputs": [],
   "source": [
    "states = StateSavingEnvDecorator.merge_states(tracking_env)"
   ]
  },
  {
   "cell_type": "code",
   "execution_count": 44,
   "id": "d46ee116-12b5-45d5-85b7-6fc83c400188",
   "metadata": {},
   "outputs": [],
   "source": [
    "new_model = mutate_sm(model, states[0], mag=3e-2, device='cuda:0')"
   ]
  },
  {
   "cell_type": "code",
   "execution_count": 45,
   "id": "ab6b7a91-7feb-4007-8b80-1e3c58686e93",
   "metadata": {},
   "outputs": [
    {
     "data": {
      "text/plain": [
       "tensor([[ 0.0182,  6.0491, -6.0801],\n",
       "        [ 0.0182,  6.0491, -6.0801],\n",
       "        [ 0.0182,  6.0491, -6.0801],\n",
       "        [ 0.0182,  6.0491, -6.0801],\n",
       "        [ 0.0182,  6.0491, -6.0801],\n",
       "        [ 0.0182,  6.0491, -6.0801],\n",
       "        [ 0.0182,  6.0491, -6.0801],\n",
       "        [ 0.0182,  6.0491, -6.0801],\n",
       "        [ 0.0182,  6.0491, -6.0801],\n",
       "        [ 0.0182,  6.0491, -6.0801],\n",
       "        [ 0.0182,  6.0491, -6.0801],\n",
       "        [ 0.0182,  6.0491, -6.0801],\n",
       "        [ 0.0182,  6.0491, -6.0801],\n",
       "        [ 0.0182,  6.0491, -6.0801],\n",
       "        [ 0.0182,  6.0491, -6.0801],\n",
       "        [ 0.0182,  6.0491, -6.0801],\n",
       "        [ 0.0182,  6.0491, -6.0801],\n",
       "        [ 0.0182,  6.0491, -6.0801],\n",
       "        [ 0.0182,  6.0491, -6.0801],\n",
       "        [ 0.0182,  6.0491, -6.0801],\n",
       "        [ 0.0182,  6.0491, -6.0801],\n",
       "        [ 0.0182,  6.0491, -6.0801],\n",
       "        [ 0.0182,  6.0491, -6.0801],\n",
       "        [ 0.0182,  6.0491, -6.0801],\n",
       "        [ 0.0182,  6.0491, -6.0801],\n",
       "        [ 0.0182,  6.0491, -6.0801]], device='cuda:0',\n",
       "       grad_fn=<AddmmBackward0>)"
      ]
     },
     "execution_count": 45,
     "metadata": {},
     "output_type": "execute_result"
    }
   ],
   "source": [
    "model(torch.tensor(states[0]).to('cuda:0'))"
   ]
  },
  {
   "cell_type": "code",
   "execution_count": 46,
   "id": "748a0fe1-6f42-45de-8f0a-f41544ed9c47",
   "metadata": {},
   "outputs": [
    {
     "data": {
      "text/plain": [
       "tensor([[ 3.5794,  0.6697, -1.4903],\n",
       "        [ 3.5794,  0.6697, -1.4903],\n",
       "        [ 3.5794,  0.6697, -1.4903],\n",
       "        [ 3.5794,  0.6697, -1.4903],\n",
       "        [ 3.5794,  0.6697, -1.4903],\n",
       "        [ 3.5794,  0.6697, -1.4903],\n",
       "        [ 3.5794,  0.6697, -1.4903],\n",
       "        [ 3.5794,  0.6697, -1.4903],\n",
       "        [ 3.5794,  0.6697, -1.4903],\n",
       "        [ 3.5794,  0.6697, -1.4903],\n",
       "        [ 3.5794,  0.6697, -1.4903],\n",
       "        [ 3.5794,  0.6697, -1.4903],\n",
       "        [ 3.5794,  0.6697, -1.4903],\n",
       "        [ 3.5794,  0.6697, -1.4903],\n",
       "        [ 3.5794,  0.6697, -1.4903],\n",
       "        [ 3.5794,  0.6697, -1.4903],\n",
       "        [ 3.5794,  0.6697, -1.4903],\n",
       "        [ 3.5794,  0.6697, -1.4903],\n",
       "        [ 3.5794,  0.6697, -1.4903],\n",
       "        [ 3.5794,  0.6697, -1.4903],\n",
       "        [ 3.5794,  0.6697, -1.4903],\n",
       "        [ 3.5794,  0.6697, -1.4903],\n",
       "        [ 3.5794,  0.6697, -1.4903],\n",
       "        [ 3.5794,  0.6697, -1.4903],\n",
       "        [ 3.5794,  0.6697, -1.4903],\n",
       "        [ 3.5794,  0.6697, -1.4903]], grad_fn=<AddmmBackward0>)"
      ]
     },
     "execution_count": 46,
     "metadata": {},
     "output_type": "execute_result"
    }
   ],
   "source": [
    "new_model(torch.tensor(states[0]).to('cpu'))"
   ]
  },
  {
   "cell_type": "code",
   "execution_count": 61,
   "id": "ec721fdb-c085-45ca-9bd3-c6b701514fcd",
   "metadata": {},
   "outputs": [],
   "source": [
    "import dataclasses\n",
    "from dataclasses import asdict"
   ]
  },
  {
   "cell_type": "code",
   "execution_count": 62,
   "id": "c0d94e76-aede-4e3c-a126-f8de12f7dbf7",
   "metadata": {},
   "outputs": [
    {
     "data": {
      "text/plain": [
       "{'num_envs': 8,\n",
       " 'normalize_rewards': True,\n",
       " 'seed': 1234,\n",
       " 'track_stats': False,\n",
       " 'sync': True,\n",
       " 'history_prefix': [],\n",
       " 'num_states_to_save': 0,\n",
       " 'reward_function': None,\n",
       " 'schedule_function': None}"
      ]
     },
     "execution_count": 62,
     "metadata": {},
     "output_type": "execute_result"
    }
   ],
   "source": [
    "a = {'le}"
   ]
  },
  {
   "cell_type": "code",
   "execution_count": 56,
   "id": "607e26ed-75e0-4cb1-828f-d4192d781dd1",
   "metadata": {},
   "outputs": [
    {
     "data": {
      "text/plain": [
       "(Field(name='num_envs',type=<class 'int'>,default=8,default_factory=<dataclasses._MISSING_TYPE object at 0x7fef8b81ad30>,init=True,repr=True,hash=None,compare=True,metadata=mappingproxy({}),_field_type=_FIELD),\n",
       " Field(name='normalize_rewards',type=<class 'bool'>,default=True,default_factory=<dataclasses._MISSING_TYPE object at 0x7fef8b81ad30>,init=True,repr=True,hash=None,compare=True,metadata=mappingproxy({}),_field_type=_FIELD),\n",
       " Field(name='seed',type=<class 'int'>,default=1234,default_factory=<dataclasses._MISSING_TYPE object at 0x7fef8b81ad30>,init=True,repr=True,hash=None,compare=True,metadata=mappingproxy({}),_field_type=_FIELD),\n",
       " Field(name='track_stats',type=<class 'bool'>,default=False,default_factory=<dataclasses._MISSING_TYPE object at 0x7fef8b81ad30>,init=True,repr=True,hash=None,compare=True,metadata=mappingproxy({}),_field_type=_FIELD),\n",
       " Field(name='sync',type=<class 'bool'>,default=True,default_factory=<dataclasses._MISSING_TYPE object at 0x7fef8b81ad30>,init=True,repr=True,hash=None,compare=True,metadata=mappingproxy({}),_field_type=_FIELD),\n",
       " Field(name='history_prefix',type=typing.List,default=<dataclasses._MISSING_TYPE object at 0x7fef8b81ad30>,default_factory=<function EnvParams.<lambda> at 0x7feec6c798b0>,init=True,repr=True,hash=None,compare=True,metadata=mappingproxy({}),_field_type=_FIELD),\n",
       " Field(name='num_states_to_save',type=<class 'int'>,default=0,default_factory=<dataclasses._MISSING_TYPE object at 0x7fef8b81ad30>,init=True,repr=True,hash=None,compare=True,metadata=mappingproxy({}),_field_type=_FIELD),\n",
       " Field(name='reward_function',type=typing.Callable,default=None,default_factory=<dataclasses._MISSING_TYPE object at 0x7fef8b81ad30>,init=True,repr=True,hash=None,compare=True,metadata=mappingproxy({}),_field_type=_FIELD),\n",
       " Field(name='schedule_function',type=typing.Callable,default=None,default_factory=<dataclasses._MISSING_TYPE object at 0x7fef8b81ad30>,init=True,repr=True,hash=None,compare=True,metadata=mappingproxy({}),_field_type=_FIELD))"
      ]
     },
     "execution_count": 56,
     "metadata": {},
     "output_type": "execute_result"
    }
   ],
   "source": [
    "dataclasses.fields(EnvParams)"
   ]
  },
  {
   "cell_type": "code",
   "execution_count": null,
   "id": "63893543-55e6-4486-a9d9-fd3f34eeec82",
   "metadata": {},
   "outputs": [],
   "source": []
  }
 ],
 "metadata": {
  "kernelspec": {
   "display_name": "Django Shell-Plus",
   "language": "python",
   "name": "django_extensions"
  },
  "language_info": {
   "codemirror_mode": {
    "name": "ipython",
    "version": 3
   },
   "file_extension": ".py",
   "mimetype": "text/x-python",
   "name": "python",
   "nbconvert_exporter": "python",
   "pygments_lexer": "ipython3",
   "version": "3.8.2"
  }
 },
 "nbformat": 4,
 "nbformat_minor": 5
}
