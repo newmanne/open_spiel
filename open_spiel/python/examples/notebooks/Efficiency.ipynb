{
 "cells": [
  {
   "cell_type": "code",
   "execution_count": 117,
   "id": "bd5a18c8-5ebe-4495-ac67-4c7c2249cd30",
   "metadata": {},
   "outputs": [],
   "source": [
    "import pyspiel\n",
    "from absl import logging\n",
    "import numpy as np\n",
    "import pandas as pd\n",
    "import itertools\n",
    "import pulp\n",
    "from pulp import LpStatus, LpProblem\n",
    "import random\n",
    "import string\n",
    "from open_spiel.python.rl_agent import StepOutput\n",
    "import torch\n",
    "import humanize\n",
    "import datetime as dt\n",
    "import os\n",
    "import json\n",
    "import yaml\n",
    "from open_spiel.python.examples.ubc_utils import *\n",
    "from open_spiel.python.examples.ubc_cma import *\n",
    "from pulp import LpProblem, LpMinimize, LpVariable, LpStatus, LpBinary, lpSum, lpDot, LpMaximize, LpInteger, value\n"
   ]
  },
  {
   "cell_type": "code",
   "execution_count": 125,
   "id": "d8352bf4-2d2e-477a-ba67-66d7d1961cde",
   "metadata": {},
   "outputs": [],
   "source": [
    "\n",
    "\n"
   ]
  },
  {
   "cell_type": "code",
   "execution_count": 119,
   "id": "c4031a2b-e6b9-4648-bd7e-f989a35d9a09",
   "metadata": {},
   "outputs": [
    {
     "name": "stderr",
     "output_type": "stream",
     "text": [
      "Reading from env variable CLOCK_AUCTION_CONFIG_DIR. If it is not set, there will be trouble.\n",
      "CLOCK_AUCTION_CONFIG_DIR=/apps/open_spiel/configs\n",
      "Parsing configuration from /apps/open_spiel/configs/large_game_2.json\n",
      "Done config parsing\n"
     ]
    }
   ],
   "source": [
    "# OPTIONS\n",
    "game = smart_load_clock_auction('large_game_2.json')\n",
    "game_config = load_game_config('large_game_2.json')\n"
   ]
  },
  {
   "cell_type": "code",
   "execution_count": 120,
   "id": "59d7bcf1-2709-4ba1-95fa-7675ab583221",
   "metadata": {},
   "outputs": [],
   "source": [
    "\n",
    "### Load checkpoint\n",
    "df, d = efficient_allocation(game, game_config)"
   ]
  },
  {
   "cell_type": "code",
   "execution_count": 104,
   "id": "24f543bc-f9fd-4b28-bed9-510268ce9585",
   "metadata": {},
   "outputs": [
    {
     "data": {
      "text/plain": [
       "{(0, 0): 780.0, (0, 1): 780.0, (1, 0): 840.0, (1, 1): 720.0}"
      ]
     },
     "execution_count": 104,
     "metadata": {},
     "output_type": "execute_result"
    }
   ],
   "source": [
    "ans[['combo', 'score']].set_index('combo')['score'].to_dict()"
   ]
  },
  {
   "cell_type": "code",
   "execution_count": 126,
   "id": "fcb6859e-c7ca-404b-9933-4c690bf87eb5",
   "metadata": {},
   "outputs": [],
   "source": [
    "scorer = allocation_scorer(game, game_config, d)"
   ]
  },
  {
   "cell_type": "code",
   "execution_count": 129,
   "id": "b41ce0ab-bd33-49e2-a58f-331e01853de5",
   "metadata": {},
   "outputs": [
    {
     "data": {
      "text/plain": [
       "{(0, 0): 0.134, (0, 1): 0.536, (1, 0): 0.066, (1, 1): 0.264}"
      ]
     },
     "execution_count": 129,
     "metadata": {},
     "output_type": "execute_result"
    }
   ],
   "source": [
    "df.set_index('combo')['prob'].to_dict()"
   ]
  },
  {
   "cell_type": "code",
   "execution_count": 128,
   "id": "431632fd-329b-479b-bb64-cf19c2e71383",
   "metadata": {},
   "outputs": [
    {
     "data": {
      "text/plain": [
       "(500, 0.6410256410256411)"
      ]
     },
     "execution_count": 128,
     "metadata": {},
     "output_type": "execute_result"
    }
   ],
   "source": [
    "scorer([(2, 0, 0), (0, 1, 3)], (0, 1))"
   ]
  },
  {
   "cell_type": "code",
   "execution_count": 115,
   "id": "a282e4d4-698b-451d-b852-4603e8472481",
   "metadata": {},
   "outputs": [
    {
     "data": {
      "text/plain": [
       "{'activity': [75, 50, 25],\n",
       " 'increment': 0.1,\n",
       " 'max_rounds': 75,\n",
       " 'information_policy': 'show_demand',\n",
       " 'licenses': [3, 3, 3],\n",
       " 'opening_price': [75, 50, 25],\n",
       " 'undersell_rule': 'undersell',\n",
       " 'players': [{'type': [{'value': [120, 80, 30], 'budget': 500, 'prob': 0.67},\n",
       "    {'value': [100, 70, 50], 'budget': 500, 'prob': 0.33}]},\n",
       "  {'type': [{'value': [150, 80, 30], 'budget': 500, 'prob': 0.2},\n",
       "    {'value': [100, 80, 60], 'budget': 500, 'prob': 0.8}]}]}"
      ]
     },
     "execution_count": 115,
     "metadata": {},
     "output_type": "execute_result"
    }
   ],
   "source": [
    "game_config"
   ]
  },
  {
   "cell_type": "code",
   "execution_count": null,
   "id": "1d6dd41a-a415-49fb-b493-3d86cbbb4e09",
   "metadata": {},
   "outputs": [],
   "source": []
  }
 ],
 "metadata": {
  "kernelspec": {
   "display_name": "Django Shell-Plus",
   "language": "python",
   "name": "django_extensions"
  },
  "language_info": {
   "codemirror_mode": {
    "name": "ipython",
    "version": 3
   },
   "file_extension": ".py",
   "mimetype": "text/x-python",
   "name": "python",
   "nbconvert_exporter": "python",
   "pygments_lexer": "ipython3",
   "version": "3.8.2"
  }
 },
 "nbformat": 4,
 "nbformat_minor": 5
}
