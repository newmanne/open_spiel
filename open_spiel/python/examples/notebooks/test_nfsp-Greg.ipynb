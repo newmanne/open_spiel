{
 "cells": [
  {
   "cell_type": "code",
   "execution_count": 26,
   "id": "3bb6d298-db47-488d-bc2e-d3966b136d9b",
   "metadata": {},
   "outputs": [
    {
     "name": "stdout",
     "output_type": "stream",
     "text": [
      "The autoreload extension is already loaded. To reload it, use:\n",
      "  %reload_ext autoreload\n",
      "Populating the interactive namespace from numpy and matplotlib\n"
     ]
    },
    {
     "name": "stderr",
     "output_type": "stream",
     "text": [
      "/apps/open_spiel/venv/lib/python3.6/site-packages/IPython/core/magics/pylab.py:160: UserWarning: pylab import has clobbered these variables: ['f']\n",
      "`%matplotlib` prevents importing * from pylab and numpy\n",
      "  \"\\n`%matplotlib` prevents importing * from pylab and numpy\"\n"
     ]
    }
   ],
   "source": [
    "%load_ext autoreload\n",
    "%autoreload 2\n",
    "%pylab inline\n",
    "\n",
    "import sys\n",
    "import glob\n",
    "import pandas as pd\n",
    "import os\n",
    "import seaborn as sns\n",
    "from tqdm import tqdm_notebook as tqdm\n",
    "from statsmodels.distributions.empirical_distribution import ECDF\n",
    "from collections import defaultdict\n",
    "import logging\n",
    "logging.basicConfig(format='%(asctime)s %(levelname)s:%(message)s', level=logging.DEBUG, datefmt='%I:%M:%S')\n",
    "logger = logging.getLogger()\n",
    "logger.setLevel(logging.INFO)"
   ]
  },
  {
   "cell_type": "code",
   "execution_count": 51,
   "id": "1f4dae14-9b90-4b3e-b44e-c8dfe181fd77",
   "metadata": {},
   "outputs": [
    {
     "name": "stdout",
     "output_type": "stream",
     "text": [
      "I1110 01:38:53.861292 140398357239616 ubc_nfsp_example.py:93] Loading network parameters from /apps/open_spiel/open_spiel/python/examples/network_configs/config.yml\n",
      "I1110 01:38:53.863840 140398357239616 ubc_nfsp_example.py:107] Setting numpy and torch seed to 2\n",
      "I1110 01:38:53.864478 140398357239616 ubc_nfsp_example.py:111] Network params: {'num_training_episodes': 100000, 'eval_every': 1000, 'hidden_layers_sizes': [128], 'replay_buffer_capacity': 20000, 'reservoir_buffer_capacity': 2000000, 'anticipatory_param': 0.1, 'seed': 2, 'batch_size': 128, 'rl_learning_rate': 1e-05, 'sl_learning_rate': 0.0001, 'min_buffer_size_to_learn': 100, 'learn_every': 8, 'optimizer_str': 'sgd', 'epsilon_start': 0.1, 'epsilon_end': 0.001}\n",
      "I1110 01:38:53.864581 140398357239616 ubc_nfsp_example.py:114] Loading clock_auction\n",
      "Reading from env variable CLOCK_AUCTION_CONFIG_DIR. If it is not set, there will be trouble.\n",
      "CLOCK_AUCTION_CONFIG_DIR=/apps/open_spiel/configs\n",
      "Parsing configuration from /apps/open_spiel/configs/parameters.json\n",
      "Done config parsing\n",
      "I1110 01:38:53.864959 140398357239616 ubc_nfsp_example.py:124] Game loaded\n",
      "I1110 01:38:53.865415 140398357239616 rl_environment.py:190] Using game instance: turn_based_simultaneous_game\n",
      "I1110 01:38:53.865577 140398357239616 ubc_nfsp_example.py:130] Game has a state size of 57, 4 distinct actions, and 2 players\n",
      "I1110 01:38:54.694861 140398357239616 ubc_nfsp_example.py:172] Losses: [(None, tensor(4.3445)), (None, tensor(0.7448))]\n",
      "I1110 01:38:54.740343 140398357239616 ubc_nfsp_example.py:175] [1000] NashConv AVG 1.3934808862359205e-10\n",
      "I1110 01:38:54.740550 140398357239616 ubc_nfsp_example.py:176] _____________________________________________\n",
      "I1110 01:38:55.726982 140398357239616 ubc_nfsp_example.py:172] Losses: [(tensor(0.6221), tensor(0.4640)), (tensor(0.4443), tensor(2.4624))]\n",
      "I1110 01:38:55.771627 140398357239616 ubc_nfsp_example.py:175] [2000] NashConv AVG 5.38623111799518\n",
      "I1110 01:38:55.771834 140398357239616 ubc_nfsp_example.py:176] _____________________________________________\n",
      "I1110 01:38:56.769602 140398357239616 ubc_nfsp_example.py:172] Losses: [(tensor(0.1904), tensor(1.2884)), (tensor(0.2951), tensor(0.1959))]\n",
      "I1110 01:38:56.814740 140398357239616 ubc_nfsp_example.py:175] [3000] NashConv AVG 3.924798205876513\n",
      "I1110 01:38:56.814926 140398357239616 ubc_nfsp_example.py:176] _____________________________________________\n",
      "I1110 01:38:57.821850 140398357239616 ubc_nfsp_example.py:172] Losses: [(tensor(0.1912), tensor(0.7473)), (tensor(0.1653), tensor(0.0326))]\n",
      "I1110 01:38:57.866868 140398357239616 ubc_nfsp_example.py:175] [4000] NashConv AVG 3.171099873197683\n",
      "I1110 01:38:57.867076 140398357239616 ubc_nfsp_example.py:176] _____________________________________________\n",
      "I1110 01:38:58.972837 140398357239616 ubc_nfsp_example.py:172] Losses: [(tensor(0.0896), tensor(0.3054)), (tensor(0.1900), tensor(1.4339))]\n",
      "I1110 01:38:59.018081 140398357239616 ubc_nfsp_example.py:175] [5000] NashConv AVG 2.882179873528848\n",
      "I1110 01:38:59.018258 140398357239616 ubc_nfsp_example.py:176] _____________________________________________\n",
      "I1110 01:39:00.106076 140398357239616 ubc_nfsp_example.py:172] Losses: [(tensor(0.1707), tensor(1.0662)), (tensor(0.2141), tensor(1.0288))]\n",
      "I1110 01:39:00.160328 140398357239616 ubc_nfsp_example.py:175] [6000] NashConv AVG 2.293267469407848\n",
      "I1110 01:39:00.160513 140398357239616 ubc_nfsp_example.py:176] _____________________________________________\n",
      "I1110 01:39:01.347224 140398357239616 ubc_nfsp_example.py:172] Losses: [(tensor(0.1106), tensor(0.7780)), (tensor(0.3106), tensor(5.5193))]\n",
      "I1110 01:39:01.394315 140398357239616 ubc_nfsp_example.py:175] [7000] NashConv AVG 3.6196002222355332\n",
      "I1110 01:39:01.394508 140398357239616 ubc_nfsp_example.py:176] _____________________________________________\n",
      "I1110 01:39:02.657382 140398357239616 ubc_nfsp_example.py:172] Losses: [(tensor(0.0803), tensor(0.2910)), (tensor(0.0254), tensor(0.7991))]\n",
      "I1110 01:39:02.712123 140398357239616 ubc_nfsp_example.py:175] [8000] NashConv AVG 1.2406900301251866\n",
      "I1110 01:39:02.712390 140398357239616 ubc_nfsp_example.py:176] _____________________________________________\n",
      "I1110 01:39:04.070477 140398357239616 ubc_nfsp_example.py:172] Losses: [(tensor(0.1386), tensor(0.2933)), (tensor(0.2128), tensor(2.0381))]\n",
      "I1110 01:39:04.117223 140398357239616 ubc_nfsp_example.py:175] [9000] NashConv AVG 1.7777340321855704\n",
      "I1110 01:39:04.117410 140398357239616 ubc_nfsp_example.py:176] _____________________________________________\n",
      "I1110 01:39:05.313304 140398357239616 ubc_nfsp_example.py:172] Losses: [(tensor(0.0801), tensor(0.2642)), (tensor(0.1439), tensor(0.6649))]\n",
      "I1110 01:39:05.359372 140398357239616 ubc_nfsp_example.py:175] [10000] NashConv AVG 1.5058945794005005\n",
      "I1110 01:39:05.359549 140398357239616 ubc_nfsp_example.py:176] _____________________________________________\n",
      "I1110 01:39:06.669460 140398357239616 ubc_nfsp_example.py:172] Losses: [(tensor(0.0826), tensor(0.4130)), (tensor(0.0798), tensor(1.1571))]\n",
      "I1110 01:39:06.718967 140398357239616 ubc_nfsp_example.py:175] [11000] NashConv AVG 1.2986748438988656\n",
      "I1110 01:39:06.719159 140398357239616 ubc_nfsp_example.py:176] _____________________________________________\n",
      "I1110 01:39:07.983493 140398357239616 ubc_nfsp_example.py:172] Losses: [(tensor(0.1133), tensor(4.2455e-05)), (tensor(0.1498), tensor(0.0027))]\n",
      "I1110 01:39:08.035764 140398357239616 ubc_nfsp_example.py:175] [12000] NashConv AVG 1.306056773648475\n",
      "I1110 01:39:08.035946 140398357239616 ubc_nfsp_example.py:176] _____________________________________________\n",
      "I1110 01:39:09.425544 140398357239616 ubc_nfsp_example.py:172] Losses: [(tensor(0.0063), tensor(0.1368)), (tensor(0.0459), tensor(0.4663))]\n",
      "I1110 01:39:09.471775 140398357239616 ubc_nfsp_example.py:175] [13000] NashConv AVG 0.6351374740575508\n",
      "I1110 01:39:09.471962 140398357239616 ubc_nfsp_example.py:176] _____________________________________________\n",
      "I1110 01:39:10.899856 140398357239616 ubc_nfsp_example.py:172] Losses: [(tensor(0.1586), tensor(1.0747)), (tensor(0.3503), tensor(0.0217))]\n",
      "I1110 01:39:10.946642 140398357239616 ubc_nfsp_example.py:175] [14000] NashConv AVG 1.351313094221343\n",
      "I1110 01:39:10.946830 140398357239616 ubc_nfsp_example.py:176] _____________________________________________\n",
      "I1110 01:39:12.292080 140398357239616 ubc_nfsp_example.py:172] Losses: [(tensor(0.1131), tensor(0.7947)), (tensor(0.2021), tensor(0.1682))]\n",
      "I1110 01:39:12.341151 140398357239616 ubc_nfsp_example.py:175] [15000] NashConv AVG 1.140667564254045\n",
      "I1110 01:39:12.341330 140398357239616 ubc_nfsp_example.py:176] _____________________________________________\n",
      "I1110 01:39:13.925122 140398357239616 ubc_nfsp_example.py:172] Losses: [(tensor(0.0115), tensor(0.1947)), (tensor(0.1179), tensor(0.0015))]\n",
      "I1110 01:39:13.972086 140398357239616 ubc_nfsp_example.py:175] [16000] NashConv AVG 0.8944665350499434\n",
      "I1110 01:39:13.972267 140398357239616 ubc_nfsp_example.py:176] _____________________________________________\n",
      "I1110 01:39:15.515488 140398357239616 ubc_nfsp_example.py:172] Losses: [(tensor(0.0456), tensor(0.4187)), (tensor(0.2780), tensor(0.0522))]\n",
      "I1110 01:39:15.561980 140398357239616 ubc_nfsp_example.py:175] [17000] NashConv AVG 0.8928556520566424\n",
      "I1110 01:39:15.562192 140398357239616 ubc_nfsp_example.py:176] _____________________________________________\n",
      "I1110 01:39:17.143875 140398357239616 ubc_nfsp_example.py:172] Losses: [(tensor(0.4815), tensor(0.8197)), (tensor(0.0089), tensor(0.2091))]\n",
      "I1110 01:39:17.190196 140398357239616 ubc_nfsp_example.py:175] [18000] NashConv AVG 0.5727312073796114\n",
      "I1110 01:39:17.190374 140398357239616 ubc_nfsp_example.py:176] _____________________________________________\n",
      "I1110 01:39:18.686996 140398357239616 ubc_nfsp_example.py:172] Losses: [(tensor(0.0456), tensor(1.2078)), (tensor(0.0212), tensor(0.3034))]\n",
      "I1110 01:39:18.734097 140398357239616 ubc_nfsp_example.py:175] [19000] NashConv AVG 0.7301380573468315\n",
      "I1110 01:39:18.734283 140398357239616 ubc_nfsp_example.py:176] _____________________________________________\n",
      "I1110 01:39:20.392375 140398357239616 ubc_nfsp_example.py:172] Losses: [(tensor(0.0080), tensor(2.6515e-05)), (tensor(0.0149), tensor(0.4147))]\n",
      "I1110 01:39:20.445197 140398357239616 ubc_nfsp_example.py:175] [20000] NashConv AVG 0.6209331555705582\n",
      "I1110 01:39:20.445414 140398357239616 ubc_nfsp_example.py:176] _____________________________________________\n",
      "I1110 01:39:22.127321 140398357239616 ubc_nfsp_example.py:172] Losses: [(tensor(0.0068), tensor(0.2387)), (tensor(0.1342), tensor(1.6174))]\n",
      "I1110 01:39:22.174552 140398357239616 ubc_nfsp_example.py:175] [21000] NashConv AVG 0.676820705570929\n",
      "I1110 01:39:22.174742 140398357239616 ubc_nfsp_example.py:176] _____________________________________________\n",
      "I1110 01:39:23.848197 140398357239616 ubc_nfsp_example.py:172] Losses: [(tensor(0.0031), tensor(0.2774)), (tensor(0.2744), tensor(0.5026))]\n",
      "I1110 01:39:23.895209 140398357239616 ubc_nfsp_example.py:175] [22000] NashConv AVG 0.7658277680763206\n",
      "I1110 01:39:23.895401 140398357239616 ubc_nfsp_example.py:176] _____________________________________________\n",
      "I1110 01:39:25.613927 140398357239616 ubc_nfsp_example.py:172] Losses: [(tensor(0.0064), tensor(0.0001)), (tensor(0.1965), tensor(0.9092))]\n",
      "I1110 01:39:25.661364 140398357239616 ubc_nfsp_example.py:175] [23000] NashConv AVG 0.6918557278896529\n",
      "I1110 01:39:25.661546 140398357239616 ubc_nfsp_example.py:176] _____________________________________________\n",
      "I1110 01:39:27.237736 140398357239616 ubc_nfsp_example.py:172] Losses: [(tensor(0.0069), tensor(0.6439)), (tensor(0.0718), tensor(185.1210))]\n",
      "I1110 01:39:27.285334 140398357239616 ubc_nfsp_example.py:175] [24000] NashConv AVG 0.5323498113489293\n",
      "I1110 01:39:27.285516 140398357239616 ubc_nfsp_example.py:176] _____________________________________________\n",
      "I1110 01:39:28.981681 140398357239616 ubc_nfsp_example.py:172] Losses: [(tensor(0.0038), tensor(0.0003)), (tensor(0.0133), tensor(0.8803))]\n",
      "I1110 01:39:29.030295 140398357239616 ubc_nfsp_example.py:175] [25000] NashConv AVG 0.40996845039927976\n",
      "I1110 01:39:29.030477 140398357239616 ubc_nfsp_example.py:176] _____________________________________________\n",
      "I1110 01:39:30.752735 140398357239616 ubc_nfsp_example.py:172] Losses: [(tensor(0.0094), tensor(0.2001)), (tensor(0.7181), tensor(3.6459))]\n",
      "I1110 01:39:30.801567 140398357239616 ubc_nfsp_example.py:175] [26000] NashConv AVG 0.7079057212146189\n",
      "I1110 01:39:30.801742 140398357239616 ubc_nfsp_example.py:176] _____________________________________________\n",
      "I1110 01:39:32.511275 140398357239616 ubc_nfsp_example.py:172] Losses: [(tensor(0.4423), tensor(0.0024)), (tensor(0.6717), tensor(2.5914))]\n",
      "I1110 01:39:32.557549 140398357239616 ubc_nfsp_example.py:175] [27000] NashConv AVG 0.9433449819365336\n",
      "I1110 01:39:32.557781 140398357239616 ubc_nfsp_example.py:176] _____________________________________________\n",
      "I1110 01:39:34.139604 140398357239616 ubc_nfsp_example.py:172] Losses: [(tensor(0.0042), tensor(2.3956)), (tensor(0.0630), tensor(6.2199))]\n",
      "I1110 01:39:34.187856 140398357239616 ubc_nfsp_example.py:175] [28000] NashConv AVG 0.5364729537362187\n",
      "I1110 01:39:34.188030 140398357239616 ubc_nfsp_example.py:176] _____________________________________________\n",
      "I1110 01:39:35.930776 140398357239616 ubc_nfsp_example.py:172] Losses: [(tensor(0.0472), tensor(0.6472)), (tensor(0.6156), tensor(1.8897))]\n",
      "I1110 01:39:35.979613 140398357239616 ubc_nfsp_example.py:175] [29000] NashConv AVG 0.6360981218095709\n",
      "I1110 01:39:35.979830 140398357239616 ubc_nfsp_example.py:176] _____________________________________________\n",
      "I1110 01:39:37.702889 140398357239616 ubc_nfsp_example.py:172] Losses: [(tensor(0.0468), tensor(0.0068)), (tensor(0.0916), tensor(1.1258))]\n",
      "I1110 01:39:37.750793 140398357239616 ubc_nfsp_example.py:175] [30000] NashConv AVG 0.7086464344529979\n",
      "I1110 01:39:37.750983 140398357239616 ubc_nfsp_example.py:176] _____________________________________________\n",
      "I1110 01:39:39.472318 140398357239616 ubc_nfsp_example.py:172] Losses: [(tensor(0.0044), tensor(0.2129)), (tensor(0.1010), tensor(1.2539))]\n",
      "I1110 01:39:39.520802 140398357239616 ubc_nfsp_example.py:175] [31000] NashConv AVG 0.5128149532932618\n",
      "I1110 01:39:39.520999 140398357239616 ubc_nfsp_example.py:176] _____________________________________________\n",
      "I1110 01:39:41.128859 140398357239616 ubc_nfsp_example.py:172] Losses: [(tensor(0.1244), tensor(1.0629)), (tensor(0.0809), tensor(160.5950))]\n",
      "I1110 01:39:41.176065 140398357239616 ubc_nfsp_example.py:175] [32000] NashConv AVG 0.9164399391786908\n",
      "I1110 01:39:41.176249 140398357239616 ubc_nfsp_example.py:176] _____________________________________________\n",
      "I1110 01:39:42.901811 140398357239616 ubc_nfsp_example.py:172] Losses: [(tensor(0.0051), tensor(0.9990)), (tensor(0.5912), tensor(0.0365))]\n",
      "I1110 01:39:42.948554 140398357239616 ubc_nfsp_example.py:175] [33000] NashConv AVG 0.9602679187487695\n",
      "I1110 01:39:42.948742 140398357239616 ubc_nfsp_example.py:176] _____________________________________________\n",
      "I1110 01:39:44.749993 140398357239616 ubc_nfsp_example.py:172] Losses: [(tensor(0.0051), tensor(0.1920)), (tensor(0.4314), tensor(0.4052))]\n",
      "I1110 01:39:44.798943 140398357239616 ubc_nfsp_example.py:175] [34000] NashConv AVG 0.4674164790837594\n",
      "I1110 01:39:44.799137 140398357239616 ubc_nfsp_example.py:176] _____________________________________________\n",
      "I1110 01:39:46.553865 140398357239616 ubc_nfsp_example.py:172] Losses: [(tensor(0.3173), tensor(1.7469)), (tensor(0.0863), tensor(0.6269))]\n",
      "I1110 01:39:46.602366 140398357239616 ubc_nfsp_example.py:175] [35000] NashConv AVG 0.5575224141984307\n",
      "I1110 01:39:46.602556 140398357239616 ubc_nfsp_example.py:176] _____________________________________________\n",
      "I1110 01:39:48.350567 140398357239616 ubc_nfsp_example.py:172] Losses: [(tensor(0.3115), tensor(0.4956)), (tensor(0.0402), tensor(7.9211))]\n",
      "I1110 01:39:48.399442 140398357239616 ubc_nfsp_example.py:175] [36000] NashConv AVG 0.4493180089733215\n",
      "I1110 01:39:48.399637 140398357239616 ubc_nfsp_example.py:176] _____________________________________________\n",
      "I1110 01:39:50.018865 140398357239616 ubc_nfsp_example.py:172] Losses: [(tensor(0.0467), tensor(0.9980)), (tensor(0.0259), tensor(4.2835))]\n",
      "I1110 01:39:50.067524 140398357239616 ubc_nfsp_example.py:175] [37000] NashConv AVG 0.43400949670592937\n",
      "I1110 01:39:50.067728 140398357239616 ubc_nfsp_example.py:176] _____________________________________________\n",
      "I1110 01:39:51.830873 140398357239616 ubc_nfsp_example.py:172] Losses: [(tensor(0.0496), tensor(0.1788)), (tensor(0.0123), tensor(84.2438))]\n",
      "I1110 01:39:51.880388 140398357239616 ubc_nfsp_example.py:175] [38000] NashConv AVG 0.32205937757225556\n",
      "I1110 01:39:51.880578 140398357239616 ubc_nfsp_example.py:176] _____________________________________________\n",
      "I1110 01:39:53.655084 140398357239616 ubc_nfsp_example.py:172] Losses: [(tensor(0.0036), tensor(1.3945)), (tensor(0.3494), tensor(1.3910))]\n",
      "I1110 01:39:53.704521 140398357239616 ubc_nfsp_example.py:175] [39000] NashConv AVG 0.30568423184941906\n",
      "I1110 01:39:53.704713 140398357239616 ubc_nfsp_example.py:176] _____________________________________________\n",
      "I1110 01:39:55.490155 140398357239616 ubc_nfsp_example.py:172] Losses: [(tensor(0.0050), tensor(0.3529)), (tensor(0.3191), tensor(61.4411))]\n",
      "I1110 01:39:55.537982 140398357239616 ubc_nfsp_example.py:175] [40000] NashConv AVG 0.3081675962816419\n",
      "I1110 01:39:55.538171 140398357239616 ubc_nfsp_example.py:176] _____________________________________________\n",
      "I1110 01:39:57.325459 140398357239616 ubc_nfsp_example.py:172] Losses: [(tensor(0.0050), tensor(0.4501)), (tensor(0.0300), tensor(126.5752))]\n",
      "I1110 01:39:57.374583 140398357239616 ubc_nfsp_example.py:175] [41000] NashConv AVG 0.3737540574287195\n",
      "I1110 01:39:57.374759 140398357239616 ubc_nfsp_example.py:176] _____________________________________________\n",
      "I1110 01:39:59.156809 140398357239616 ubc_nfsp_example.py:172] Losses: [(tensor(0.0474), tensor(0.9419)), (tensor(0.0556), tensor(0.0487))]\n",
      "I1110 01:39:59.205224 140398357239616 ubc_nfsp_example.py:175] [42000] NashConv AVG 0.35395725638256437\n",
      "I1110 01:39:59.205403 140398357239616 ubc_nfsp_example.py:176] _____________________________________________\n",
      "I1110 01:40:00.865817 140398357239616 ubc_nfsp_example.py:172] Losses: [(tensor(0.0474), tensor(1.5335)), (tensor(0.1028), tensor(3.1803))]\n",
      "I1110 01:40:00.915203 140398357239616 ubc_nfsp_example.py:175] [43000] NashConv AVG 0.5249238633147151\n",
      "I1110 01:40:00.915394 140398357239616 ubc_nfsp_example.py:176] _____________________________________________\n",
      "I1110 01:40:03.359737 140398357239616 ubc_nfsp_example.py:172] Losses: [(tensor(0.0487), tensor(0.0669)), (tensor(0.2927), tensor(5.7260))]\n",
      "I1110 01:40:03.420573 140398357239616 ubc_nfsp_example.py:175] [44000] NashConv AVG 0.48392314938440606\n",
      "I1110 01:40:03.420931 140398357239616 ubc_nfsp_example.py:176] _____________________________________________\n",
      "I1110 01:40:05.892780 140398357239616 ubc_nfsp_example.py:172] Losses: [(tensor(0.0478), tensor(6.8283e-05)), (tensor(0.0208), tensor(3.7586))]\n",
      "I1110 01:40:05.942511 140398357239616 ubc_nfsp_example.py:175] [45000] NashConv AVG 0.36413561605776223\n",
      "I1110 01:40:05.942713 140398357239616 ubc_nfsp_example.py:176] _____________________________________________\n",
      "I1110 01:40:07.759406 140398357239616 ubc_nfsp_example.py:172] Losses: [(tensor(0.0507), tensor(0.2273)), (tensor(0.2583), tensor(0.4597))]\n",
      "I1110 01:40:07.807870 140398357239616 ubc_nfsp_example.py:175] [46000] NashConv AVG 0.491316967307764\n",
      "I1110 01:40:07.808052 140398357239616 ubc_nfsp_example.py:176] _____________________________________________\n",
      "I1110 01:40:09.428241 140398357239616 ubc_nfsp_example.py:172] Losses: [(tensor(0.0041), tensor(0.4191)), (tensor(0.0656), tensor(1.1075))]\n",
      "I1110 01:40:09.475622 140398357239616 ubc_nfsp_example.py:175] [47000] NashConv AVG 0.30169848348361583\n",
      "I1110 01:40:09.475843 140398357239616 ubc_nfsp_example.py:176] _____________________________________________\n",
      "I1110 01:40:11.282939 140398357239616 ubc_nfsp_example.py:172] Losses: [(tensor(0.0487), tensor(0.5117)), (tensor(0.0122), tensor(0.5510))]\n",
      "I1110 01:40:11.338964 140398357239616 ubc_nfsp_example.py:175] [48000] NashConv AVG 0.28829939294278617\n",
      "I1110 01:40:11.339142 140398357239616 ubc_nfsp_example.py:176] _____________________________________________\n",
      "I1110 01:40:13.141663 140398357239616 ubc_nfsp_example.py:172] Losses: [(tensor(0.0498), tensor(0.2013)), (tensor(0.0669), tensor(1.9331))]\n",
      "I1110 01:40:13.190693 140398357239616 ubc_nfsp_example.py:175] [49000] NashConv AVG 0.29467438015437963\n",
      "I1110 01:40:13.190882 140398357239616 ubc_nfsp_example.py:176] _____________________________________________\n",
      "I1110 01:40:15.001174 140398357239616 ubc_nfsp_example.py:172] Losses: [(tensor(0.0065), tensor(0.4756)), (tensor(0.0529), tensor(0.9918))]\n",
      "I1110 01:40:15.064195 140398357239616 ubc_nfsp_example.py:175] [50000] NashConv AVG 0.340959261144441\n",
      "I1110 01:40:15.064380 140398357239616 ubc_nfsp_example.py:176] _____________________________________________\n",
      "I1110 01:40:16.883283 140398357239616 ubc_nfsp_example.py:172] Losses: [(tensor(0.0487), tensor(0.5736)), (tensor(0.2603), tensor(1.2276))]\n",
      "I1110 01:40:16.932610 140398357239616 ubc_nfsp_example.py:175] [51000] NashConv AVG 0.37505058635380806\n",
      "I1110 01:40:16.932800 140398357239616 ubc_nfsp_example.py:176] _____________________________________________\n",
      "I1110 01:40:18.754730 140398357239616 ubc_nfsp_example.py:172] Losses: [(tensor(0.2956), tensor(0.0015)), (tensor(0.0117), tensor(0.2530))]\n",
      "I1110 01:40:18.803689 140398357239616 ubc_nfsp_example.py:175] [52000] NashConv AVG 0.3704918989486181\n",
      "I1110 01:40:18.803870 140398357239616 ubc_nfsp_example.py:176] _____________________________________________\n",
      "I1110 01:40:20.482092 140398357239616 ubc_nfsp_example.py:172] Losses: [(tensor(0.2294), tensor(6.3808e-05)), (tensor(0.0429), tensor(0.0589))]\n",
      "I1110 01:40:20.531450 140398357239616 ubc_nfsp_example.py:175] [53000] NashConv AVG 0.33605161096493674\n",
      "I1110 01:40:20.531645 140398357239616 ubc_nfsp_example.py:176] _____________________________________________\n",
      "I1110 01:40:22.338284 140398357239616 ubc_nfsp_example.py:172] Losses: [(tensor(0.0032), tensor(0.2215)), (tensor(0.0530), tensor(1.0558))]\n",
      "I1110 01:40:22.388025 140398357239616 ubc_nfsp_example.py:175] [54000] NashConv AVG 0.33811201815737846\n",
      "I1110 01:40:22.388212 140398357239616 ubc_nfsp_example.py:176] _____________________________________________\n",
      "I1110 01:40:24.202868 140398357239616 ubc_nfsp_example.py:172] Losses: [(tensor(0.0027), tensor(0.6160)), (tensor(0.0495), tensor(0.6104))]\n",
      "I1110 01:40:24.251939 140398357239616 ubc_nfsp_example.py:175] [55000] NashConv AVG 0.3191278053831823\n",
      "I1110 01:40:24.252133 140398357239616 ubc_nfsp_example.py:176] _____________________________________________\n",
      "I1110 01:40:26.104130 140398357239616 ubc_nfsp_example.py:172] Losses: [(tensor(0.0031), tensor(0.0033)), (tensor(0.1293), tensor(0.5691))]\n",
      "I1110 01:40:26.154699 140398357239616 ubc_nfsp_example.py:175] [56000] NashConv AVG 0.35532145941945714\n",
      "I1110 01:40:26.154894 140398357239616 ubc_nfsp_example.py:176] _____________________________________________\n",
      "I1110 01:40:27.995225 140398357239616 ubc_nfsp_example.py:172] Losses: [(tensor(0.0034), tensor(0.0269)), (tensor(0.0583), tensor(161.5123))]\n",
      "I1110 01:40:28.044176 140398357239616 ubc_nfsp_example.py:175] [57000] NashConv AVG 0.36942865863494845\n",
      "I1110 01:40:28.044349 140398357239616 ubc_nfsp_example.py:176] _____________________________________________\n",
      "I1110 01:40:29.888998 140398357239616 ubc_nfsp_example.py:172] Losses: [(tensor(0.0478), tensor(0.3560)), (tensor(0.0220), tensor(0.5216))]\n",
      "I1110 01:40:29.937937 140398357239616 ubc_nfsp_example.py:175] [58000] NashConv AVG 0.30198738022871296\n",
      "I1110 01:40:29.938127 140398357239616 ubc_nfsp_example.py:176] _____________________________________________\n",
      "I1110 01:40:31.804857 140398357239616 ubc_nfsp_example.py:172] Losses: [(tensor(0.0516), tensor(0.2273)), (tensor(0.0104), tensor(0.2209))]\n",
      "I1110 01:40:31.853880 140398357239616 ubc_nfsp_example.py:175] [59000] NashConv AVG 0.2064146857142788\n",
      "I1110 01:40:31.854068 140398357239616 ubc_nfsp_example.py:176] _____________________________________________\n",
      "I1110 01:40:33.552180 140398357239616 ubc_nfsp_example.py:172] Losses: [(tensor(0.0041), tensor(1.0219)), (tensor(0.0693), tensor(0.4249))]\n",
      "I1110 01:40:33.601315 140398357239616 ubc_nfsp_example.py:175] [60000] NashConv AVG 0.32786608532392947\n",
      "I1110 01:40:33.601514 140398357239616 ubc_nfsp_example.py:176] _____________________________________________\n",
      "I1110 01:40:35.474515 140398357239616 ubc_nfsp_example.py:172] Losses: [(tensor(0.0026), tensor(0.3022)), (tensor(0.0512), tensor(0.3819))]\n",
      "I1110 01:40:35.523540 140398357239616 ubc_nfsp_example.py:175] [61000] NashConv AVG 0.2263928229303538\n",
      "I1110 01:40:35.523748 140398357239616 ubc_nfsp_example.py:176] _____________________________________________\n",
      "I1110 01:40:37.388677 140398357239616 ubc_nfsp_example.py:172] Losses: [(tensor(0.0509), tensor(0.7672)), (tensor(0.0590), tensor(0.4451))]\n",
      "I1110 01:40:37.436621 140398357239616 ubc_nfsp_example.py:175] [62000] NashConv AVG 0.2155881190873039\n",
      "I1110 01:40:37.436796 140398357239616 ubc_nfsp_example.py:176] _____________________________________________\n",
      "I1110 01:40:39.295253 140398357239616 ubc_nfsp_example.py:172] Losses: [(tensor(0.0492), tensor(1.4818)), (tensor(0.0391), tensor(0.4005))]\n",
      "I1110 01:40:39.342847 140398357239616 ubc_nfsp_example.py:175] [63000] NashConv AVG 0.19759360883632837\n",
      "I1110 01:40:39.343039 140398357239616 ubc_nfsp_example.py:176] _____________________________________________\n",
      "I1110 01:40:41.158599 140398357239616 ubc_nfsp_example.py:172] Losses: [(tensor(0.0038), tensor(0.4086)), (tensor(0.0042), tensor(0.3251))]\n",
      "I1110 01:40:41.208243 140398357239616 ubc_nfsp_example.py:175] [64000] NashConv AVG 0.21295137767480554\n",
      "I1110 01:40:41.208429 140398357239616 ubc_nfsp_example.py:176] _____________________________________________\n",
      "I1110 01:40:43.109655 140398357239616 ubc_nfsp_example.py:172] Losses: [(tensor(0.0035), tensor(0.2595)), (tensor(0.0722), tensor(0.1484))]\n",
      "I1110 01:40:43.159250 140398357239616 ubc_nfsp_example.py:175] [65000] NashConv AVG 0.197846052327872\n",
      "I1110 01:40:43.159430 140398357239616 ubc_nfsp_example.py:176] _____________________________________________\n",
      "I1110 01:40:44.879400 140398357239616 ubc_nfsp_example.py:172] Losses: [(tensor(0.0027), tensor(9.3954e-05)), (tensor(0.0130), tensor(0.0068))]\n",
      "I1110 01:40:44.927247 140398357239616 ubc_nfsp_example.py:175] [66000] NashConv AVG 0.2217287703876103\n",
      "I1110 01:40:44.927432 140398357239616 ubc_nfsp_example.py:176] _____________________________________________\n",
      "I1110 01:40:46.811398 140398357239616 ubc_nfsp_example.py:172] Losses: [(tensor(0.0023), tensor(0.6469)), (tensor(0.0056), tensor(0.4122))]\n",
      "I1110 01:40:46.860329 140398357239616 ubc_nfsp_example.py:175] [67000] NashConv AVG 0.13238535123545958\n",
      "I1110 01:40:46.860505 140398357239616 ubc_nfsp_example.py:176] _____________________________________________\n",
      "I1110 01:40:48.723337 140398357239616 ubc_nfsp_example.py:172] Losses: [(tensor(0.0042), tensor(0.0013)), (tensor(0.0455), tensor(0.0089))]\n",
      "I1110 01:40:48.772541 140398357239616 ubc_nfsp_example.py:175] [68000] NashConv AVG 0.19129079724271136\n",
      "I1110 01:40:48.772734 140398357239616 ubc_nfsp_example.py:176] _____________________________________________\n",
      "I1110 01:40:50.701690 140398357239616 ubc_nfsp_example.py:172] Losses: [(tensor(0.0022), tensor(0.4459)), (tensor(0.0307), tensor(0.0425))]\n",
      "I1110 01:40:50.750079 140398357239616 ubc_nfsp_example.py:175] [69000] NashConv AVG 0.21158584648508239\n",
      "I1110 01:40:50.750266 140398357239616 ubc_nfsp_example.py:176] _____________________________________________\n",
      "I1110 01:40:52.651005 140398357239616 ubc_nfsp_example.py:172] Losses: [(tensor(0.0029), tensor(0.0061)), (tensor(0.0031), tensor(0.0128))]\n",
      "I1110 01:40:52.700091 140398357239616 ubc_nfsp_example.py:175] [70000] NashConv AVG 0.12377770109917563\n",
      "I1110 01:40:52.700265 140398357239616 ubc_nfsp_example.py:176] _____________________________________________\n",
      "I1110 01:40:54.601152 140398357239616 ubc_nfsp_example.py:172] Losses: [(tensor(0.0477), tensor(0.2083)), (tensor(0.0241), tensor(0.4048))]\n",
      "I1110 01:40:54.650870 140398357239616 ubc_nfsp_example.py:175] [71000] NashConv AVG 0.23638258248548638\n",
      "I1110 01:40:54.651067 140398357239616 ubc_nfsp_example.py:176] _____________________________________________\n",
      "I1110 01:40:56.566282 140398357239616 ubc_nfsp_example.py:172] Losses: [(tensor(0.0033), tensor(0.4238)), (tensor(0.0996), tensor(0.1373))]\n",
      "I1110 01:40:56.615083 140398357239616 ubc_nfsp_example.py:175] [72000] NashConv AVG 0.2141889376389976\n",
      "I1110 01:40:56.615261 140398357239616 ubc_nfsp_example.py:176] _____________________________________________\n",
      "I1110 01:40:58.521572 140398357239616 ubc_nfsp_example.py:172] Losses: [(tensor(0.0029), tensor(0.0033)), (tensor(0.0224), tensor(5.7702))]\n",
      "I1110 01:40:58.570884 140398357239616 ubc_nfsp_example.py:175] [73000] NashConv AVG 0.22629768710028486\n",
      "I1110 01:40:58.571072 140398357239616 ubc_nfsp_example.py:176] _____________________________________________\n",
      "I1110 01:41:00.320432 140398357239616 ubc_nfsp_example.py:172] Losses: [(tensor(0.0030), tensor(0.1987)), (tensor(0.0138), tensor(0.2166))]\n",
      "I1110 01:41:00.370164 140398357239616 ubc_nfsp_example.py:175] [74000] NashConv AVG 0.17769035313766324\n",
      "I1110 01:41:00.370362 140398357239616 ubc_nfsp_example.py:176] _____________________________________________\n",
      "I1110 01:41:02.319280 140398357239616 ubc_nfsp_example.py:172] Losses: [(tensor(0.0498), tensor(0.4016)), (tensor(0.0820), tensor(0.0141))]\n",
      "I1110 01:41:02.379129 140398357239616 ubc_nfsp_example.py:175] [75000] NashConv AVG 0.20617127004080515\n",
      "I1110 01:41:02.379319 140398357239616 ubc_nfsp_example.py:176] _____________________________________________\n",
      "I1110 01:41:04.473103 140398357239616 ubc_nfsp_example.py:172] Losses: [(tensor(0.0027), tensor(0.1818)), (tensor(0.0244), tensor(0.2842))]\n",
      "I1110 01:41:04.522993 140398357239616 ubc_nfsp_example.py:175] [76000] NashConv AVG 0.16443650835079637\n",
      "I1110 01:41:04.523178 140398357239616 ubc_nfsp_example.py:176] _____________________________________________\n",
      "I1110 01:41:06.467424 140398357239616 ubc_nfsp_example.py:172] Losses: [(tensor(0.0022), tensor(0.1895)), (tensor(0.0091), tensor(0.0140))]\n",
      "I1110 01:41:06.516678 140398357239616 ubc_nfsp_example.py:175] [77000] NashConv AVG 0.14833060577934276\n",
      "I1110 01:41:06.516870 140398357239616 ubc_nfsp_example.py:176] _____________________________________________\n",
      "I1110 01:41:08.441955 140398357239616 ubc_nfsp_example.py:172] Losses: [(tensor(0.0015), tensor(0.0058)), (tensor(0.0699), tensor(0.0328))]\n",
      "I1110 01:41:08.491897 140398357239616 ubc_nfsp_example.py:175] [78000] NashConv AVG 0.24535870808693616\n",
      "I1110 01:41:08.492088 140398357239616 ubc_nfsp_example.py:176] _____________________________________________\n",
      "I1110 01:41:10.452689 140398357239616 ubc_nfsp_example.py:172] Losses: [(tensor(0.0011), tensor(0.0018)), (tensor(0.0074), tensor(43.6204))]\n",
      "I1110 01:41:10.502125 140398357239616 ubc_nfsp_example.py:175] [79000] NashConv AVG 0.11878323695142967\n",
      "I1110 01:41:10.502322 140398357239616 ubc_nfsp_example.py:176] _____________________________________________\n",
      "I1110 01:41:12.442402 140398357239616 ubc_nfsp_example.py:172] Losses: [(tensor(0.0546), tensor(0.3654)), (tensor(0.1366), tensor(0.3863))]\n",
      "I1110 01:41:12.490204 140398357239616 ubc_nfsp_example.py:175] [80000] NashConv AVG 0.18173156791314327\n",
      "I1110 01:41:12.490419 140398357239616 ubc_nfsp_example.py:176] _____________________________________________\n",
      "I1110 01:41:14.442203 140398357239616 ubc_nfsp_example.py:172] Losses: [(tensor(0.0546), tensor(0.1933)), (tensor(0.0294), tensor(0.2259))]\n",
      "I1110 01:41:14.491549 140398357239616 ubc_nfsp_example.py:175] [81000] NashConv AVG 0.16901050623231484\n",
      "I1110 01:41:14.491769 140398357239616 ubc_nfsp_example.py:176] _____________________________________________\n",
      "I1110 01:41:16.298240 140398357239616 ubc_nfsp_example.py:172] Losses: [(tensor(0.0543), tensor(0.0026)), (tensor(0.0074), tensor(0.0001))]\n",
      "I1110 01:41:16.345722 140398357239616 ubc_nfsp_example.py:175] [82000] NashConv AVG 0.13608193516938272\n",
      "I1110 01:41:16.345909 140398357239616 ubc_nfsp_example.py:176] _____________________________________________\n",
      "I1110 01:41:18.285165 140398357239616 ubc_nfsp_example.py:172] Losses: [(tensor(0.0560), tensor(7.9579e-06)), (tensor(0.0131), tensor(1.2350))]\n",
      "I1110 01:41:18.333903 140398357239616 ubc_nfsp_example.py:175] [83000] NashConv AVG 0.12656770775293325\n",
      "I1110 01:41:18.334082 140398357239616 ubc_nfsp_example.py:176] _____________________________________________\n",
      "I1110 01:41:20.310265 140398357239616 ubc_nfsp_example.py:172] Losses: [(tensor(0.0013), tensor(2.0834)), (tensor(0.0182), tensor(0.4892))]\n",
      "I1110 01:41:20.359063 140398357239616 ubc_nfsp_example.py:175] [84000] NashConv AVG 0.1078651703597906\n",
      "I1110 01:41:20.359244 140398357239616 ubc_nfsp_example.py:176] _____________________________________________\n",
      "I1110 01:41:22.319643 140398357239616 ubc_nfsp_example.py:172] Losses: [(tensor(0.0016), tensor(0.1971)), (tensor(0.0066), tensor(0.2029))]\n",
      "I1110 01:41:22.370039 140398357239616 ubc_nfsp_example.py:175] [85000] NashConv AVG 0.12484063813683832\n",
      "I1110 01:41:22.370231 140398357239616 ubc_nfsp_example.py:176] _____________________________________________\n",
      "I1110 01:41:24.332080 140398357239616 ubc_nfsp_example.py:172] Losses: [(tensor(0.0012), tensor(0.2054)), (tensor(0.0280), tensor(0.5454))]\n",
      "I1110 01:41:24.381550 140398357239616 ubc_nfsp_example.py:175] [86000] NashConv AVG 0.19151295880054064\n",
      "I1110 01:41:24.381727 140398357239616 ubc_nfsp_example.py:176] _____________________________________________\n",
      "I1110 01:41:26.376288 140398357239616 ubc_nfsp_example.py:172] Losses: [(tensor(0.0017), tensor(0.0017)), (tensor(0.0739), tensor(0.0029))]\n",
      "I1110 01:41:26.425867 140398357239616 ubc_nfsp_example.py:175] [87000] NashConv AVG 0.15355851363460715\n",
      "I1110 01:41:26.426060 140398357239616 ubc_nfsp_example.py:176] _____________________________________________\n",
      "I1110 01:41:28.389347 140398357239616 ubc_nfsp_example.py:172] Losses: [(tensor(0.0021), tensor(0.3850)), (tensor(0.0188), tensor(0.0125))]\n",
      "I1110 01:41:28.438348 140398357239616 ubc_nfsp_example.py:175] [88000] NashConv AVG 0.12285301446332753\n",
      "I1110 01:41:28.438542 140398357239616 ubc_nfsp_example.py:176] _____________________________________________\n",
      "I1110 01:41:30.428506 140398357239616 ubc_nfsp_example.py:172] Losses: [(tensor(0.0509), tensor(0.4176)), (tensor(0.0581), tensor(0.3788))]\n",
      "I1110 01:41:30.477425 140398357239616 ubc_nfsp_example.py:175] [89000] NashConv AVG 0.15728770075228127\n",
      "I1110 01:41:30.477617 140398357239616 ubc_nfsp_example.py:176] _____________________________________________\n",
      "I1110 01:41:32.475994 140398357239616 ubc_nfsp_example.py:172] Losses: [(tensor(0.0017), tensor(0.1789)), (tensor(0.0018), tensor(0.3680))]\n",
      "I1110 01:41:32.524768 140398357239616 ubc_nfsp_example.py:175] [90000] NashConv AVG 0.1181424118200205\n",
      "I1110 01:41:32.524953 140398357239616 ubc_nfsp_example.py:176] _____________________________________________\n",
      "I1110 01:41:34.521748 140398357239616 ubc_nfsp_example.py:172] Losses: [(tensor(0.0040), tensor(0.3858)), (tensor(0.0033), tensor(0.4709))]\n",
      "I1110 01:41:34.571312 140398357239616 ubc_nfsp_example.py:175] [91000] NashConv AVG 0.13838009781900595\n",
      "I1110 01:41:34.571496 140398357239616 ubc_nfsp_example.py:176] _____________________________________________\n",
      "I1110 01:41:36.588178 140398357239616 ubc_nfsp_example.py:172] Losses: [(tensor(0.0530), tensor(0.1802)), (tensor(0.0035), tensor(0.3410))]\n",
      "I1110 01:41:36.638269 140398357239616 ubc_nfsp_example.py:175] [92000] NashConv AVG 0.14605787281302796\n",
      "I1110 01:41:36.638463 140398357239616 ubc_nfsp_example.py:176] _____________________________________________\n",
      "I1110 01:41:38.454021 140398357239616 ubc_nfsp_example.py:172] Losses: [(tensor(0.0015), tensor(0.1894)), (tensor(0.0691), tensor(0.6352))]\n",
      "I1110 01:41:38.502883 140398357239616 ubc_nfsp_example.py:175] [93000] NashConv AVG 0.15646468508047562\n",
      "I1110 01:41:38.503074 140398357239616 ubc_nfsp_example.py:176] _____________________________________________\n",
      "I1110 01:41:40.527072 140398357239616 ubc_nfsp_example.py:172] Losses: [(tensor(0.0018), tensor(0.0021)), (tensor(0.0063), tensor(0.1850))]\n",
      "I1110 01:41:40.576383 140398357239616 ubc_nfsp_example.py:175] [94000] NashConv AVG 0.1006960762971687\n",
      "I1110 01:41:40.576601 140398357239616 ubc_nfsp_example.py:176] _____________________________________________\n",
      "I1110 01:41:42.583992 140398357239616 ubc_nfsp_example.py:172] Losses: [(tensor(0.0022), tensor(0.1684)), (tensor(0.0042), tensor(0.3620))]\n",
      "I1110 01:41:42.631756 140398357239616 ubc_nfsp_example.py:175] [95000] NashConv AVG 0.16227035853781757\n",
      "I1110 01:41:42.631930 140398357239616 ubc_nfsp_example.py:176] _____________________________________________\n",
      "I1110 01:41:44.674740 140398357239616 ubc_nfsp_example.py:172] Losses: [(tensor(0.0533), tensor(0.0013)), (tensor(0.0553), tensor(0.3908))]\n",
      "I1110 01:41:44.724243 140398357239616 ubc_nfsp_example.py:175] [96000] NashConv AVG 0.13198158271316274\n",
      "I1110 01:41:44.724429 140398357239616 ubc_nfsp_example.py:176] _____________________________________________\n",
      "I1110 01:41:46.769143 140398357239616 ubc_nfsp_example.py:172] Losses: [(tensor(0.0025), tensor(0.5121)), (tensor(0.0040), tensor(0.1788))]\n",
      "I1110 01:41:46.817749 140398357239616 ubc_nfsp_example.py:175] [97000] NashConv AVG 0.14207204549861174\n",
      "I1110 01:41:46.817943 140398357239616 ubc_nfsp_example.py:176] _____________________________________________\n",
      "I1110 01:41:48.849070 140398357239616 ubc_nfsp_example.py:172] Losses: [(tensor(0.0023), tensor(0.1795)), (tensor(0.0120), tensor(0.2239))]\n",
      "I1110 01:41:48.899017 140398357239616 ubc_nfsp_example.py:175] [98000] NashConv AVG 0.18853827440777238\n",
      "I1110 01:41:48.899210 140398357239616 ubc_nfsp_example.py:176] _____________________________________________\n",
      "I1110 01:41:50.938368 140398357239616 ubc_nfsp_example.py:172] Losses: [(tensor(0.0019), tensor(0.4074)), (tensor(0.0752), tensor(3.7152))]\n",
      "I1110 01:41:50.987368 140398357239616 ubc_nfsp_example.py:175] [99000] NashConv AVG 0.26915283974743076\n",
      "I1110 01:41:50.987574 140398357239616 ubc_nfsp_example.py:176] _____________________________________________\n",
      "I1110 01:41:53.012103 140398357239616 ubc_nfsp_example.py:172] Losses: [(tensor(0.0024), tensor(0.4857)), (tensor(0.0058), tensor(0.0163))]\n",
      "I1110 01:41:53.060972 140398357239616 ubc_nfsp_example.py:175] [100000] NashConv AVG 0.15568264255160358\n",
      "I1110 01:41:53.061161 140398357239616 ubc_nfsp_example.py:176] _____________________________________________\n"
     ]
    }
   ],
   "source": [
    "!python ../ubc_nfsp_example.py -- \\\n",
    "    --filename parameters.json \\\n",
    "    --network_config_file /apps/open_spiel/open_spiel/python/examples/network_configs/config.yml \\\n",
    "    --checkpoint_dir /apps/open_spiel/open_spiel/python/examples/checkpoints \\\n",
    "    --eval_every 1000 \\\n",
    "    --seed 2 --sl_learning_rate 1e-4 --epsilon_start 0.1 --optimizer_str sgd --batch_size 128 \\\n",
    "    --num_training_episodes 100000 \\\n",
    "    --min_buffer_size_to_learn 100"
   ]
  },
  {
   "cell_type": "code",
   "execution_count": 5,
   "id": "062e14b0-24ef-433f-96ae-60793e5c68da",
   "metadata": {},
   "outputs": [],
   "source": [
    "import pickle\n",
    "from open_spiel.python.examples.ubc_nfsp_example import NFSPPolicies"
   ]
  },
  {
   "cell_type": "code",
   "execution_count": 6,
   "id": "069d722a-8ffa-4bb7-bad1-9142fff980e1",
   "metadata": {},
   "outputs": [],
   "source": [
    "with open('/apps/open_spiel/open_spiel/python/examples/checkpoints/checkpoint_latest.pkl', 'rb') as f:\n",
    "    policy = pickle.load(f)"
   ]
  },
  {
   "cell_type": "code",
   "execution_count": 7,
   "id": "dd36f368-a5a7-4a8c-8c6e-7581dfbe451a",
   "metadata": {},
   "outputs": [
    {
     "data": {
      "text/plain": [
       "<open_spiel.python.examples.ubc_nfsp_example.NFSPPolicies at 0x7fab696b5b70>"
      ]
     },
     "execution_count": 7,
     "metadata": {},
     "output_type": "execute_result"
    }
   ],
   "source": [
    "policy"
   ]
  },
  {
   "cell_type": "code",
   "execution_count": 8,
   "id": "6830432b-0d03-4366-a61a-316a2032b80e",
   "metadata": {},
   "outputs": [],
   "source": [
    "import pyspiel\n",
    "from open_spiel.python.algorithms.get_all_states import get_all_states"
   ]
  },
  {
   "cell_type": "code",
   "execution_count": 9,
   "id": "99542869-e0b0-45aa-b978-2dc02bcddf07",
   "metadata": {},
   "outputs": [],
   "source": [
    "game = pyspiel.load_game_as_turn_based('clock_auction', {'filename': 'parameters.json'})"
   ]
  },
  {
   "cell_type": "code",
   "execution_count": 18,
   "id": "ff172b2f-46ba-461f-aead-1e9794138ed5",
   "metadata": {},
   "outputs": [],
   "source": [
    "states = get_all_states(game, depth_limit=-1, include_terminals=False, include_chance_states=False, include_mean_field_states=False, to_string=lambda s: s.information_state_string(), stop_if_encountered=False)"
   ]
  },
  {
   "cell_type": "code",
   "execution_count": 11,
   "id": "7691f099-9be5-4380-9bd2-44ee47bc8911",
   "metadata": {},
   "outputs": [
    {
     "data": {
      "text/plain": [
       "119"
      ]
     },
     "metadata": {},
     "output_type": "display_data"
    }
   ],
   "source": [
    "display(len(states))"
   ]
  },
  {
   "cell_type": "code",
   "execution_count": 12,
   "id": "ca41a5bd-971a-4bd7-89c5-f464217fc9c4",
   "metadata": {},
   "outputs": [
    {
     "data": {
      "text/plain": [
       "119"
      ]
     },
     "execution_count": 12,
     "metadata": {},
     "output_type": "execute_result"
    }
   ],
   "source": [
    "len(states)"
   ]
  },
  {
   "cell_type": "code",
   "execution_count": 13,
   "id": "b0fd726b-d53e-4b19-ac18-2814d7f28d92",
   "metadata": {},
   "outputs": [
    {
     "data": {
      "text/plain": [
       "10253"
      ]
     },
     "execution_count": 13,
     "metadata": {},
     "output_type": "execute_result"
    }
   ],
   "source": [
    "len(policy._policies[0]._reservoir_buffer._data)"
   ]
  },
  {
   "cell_type": "code",
   "execution_count": 14,
   "id": "693346d9-a8c0-4c10-86ee-99c4fb232147",
   "metadata": {},
   "outputs": [
    {
     "data": {
      "text/plain": [
       "2000000"
      ]
     },
     "execution_count": 14,
     "metadata": {},
     "output_type": "execute_result"
    }
   ],
   "source": [
    "policy._policies[0]._reservoir_buffer._reservoir_buffer_capacity"
   ]
  },
  {
   "cell_type": "code",
   "execution_count": 15,
   "id": "d79c2694-bf6b-4fa3-90a5-c7c441b20ea0",
   "metadata": {},
   "outputs": [],
   "source": [
    "# for t in policy._policies[0]._reservoir_buffer._data[:100]:\n",
    "#     print(list(map(int, t.info_state)))\n",
    "#     display(t.action_probs)\n",
    "# #     break"
   ]
  },
  {
   "cell_type": "code",
   "execution_count": 19,
   "id": "21490f29-6e5c-4eb1-a18a-5884643700c0",
   "metadata": {},
   "outputs": [
    {
     "data": {
      "text/plain": [
       "Partial joint action: \n",
       "p0v125,125b150\n",
       "p1v0,150b150\n",
       "Price: 100,100\n",
       "Round: 1"
      ]
     },
     "metadata": {},
     "output_type": "display_data"
    },
    {
     "name": "stdout",
     "output_type": "stream",
     "text": [
      "Player: 0\n"
     ]
    },
    {
     "data": {
      "text/plain": [
       "{0: 0.014245483227228708, 1: 7.885396445741539e-06, 2: 0.9857466313763256}"
      ]
     },
     "metadata": {},
     "output_type": "display_data"
    },
    {
     "name": "stdout",
     "output_type": "stream",
     "text": [
      "\n"
     ]
    },
    {
     "data": {
      "text/plain": [
       "Partial joint action: 0 \n",
       "p0v125,125b150\n",
       "p1v0,150b150\n",
       "Price: 100,100\n",
       "Round: 1"
      ]
     },
     "metadata": {},
     "output_type": "display_data"
    },
    {
     "name": "stdout",
     "output_type": "stream",
     "text": [
      "Player: 1\n"
     ]
    },
    {
     "data": {
      "text/plain": [
       "{0: 0.018973407259691308, 1: 0.969478138480099, 2: 0.011548454260209675}"
      ]
     },
     "metadata": {},
     "output_type": "display_data"
    },
    {
     "name": "stdout",
     "output_type": "stream",
     "text": [
      "\n"
     ]
    },
    {
     "data": {
      "text/plain": [
       "Partial joint action: \n",
       "p0v125,125b150\n",
       "p1v0,150b150\n",
       "Price: 100,110\n",
       "Round: 2\n",
       "Player 0 processed: 0, 1\n",
       "Player 1 processed: 0, 1\n",
       "Aggregate demands: 0, 2"
      ]
     },
     "metadata": {},
     "output_type": "display_data"
    },
    {
     "name": "stdout",
     "output_type": "stream",
     "text": [
      "Player: 0\n"
     ]
    },
    {
     "data": {
      "text/plain": [
       "{0: 0.008410610529921484, 1: 1.0929914037851174e-07, 2: 0.9915892801709382}"
      ]
     },
     "metadata": {},
     "output_type": "display_data"
    },
    {
     "name": "stdout",
     "output_type": "stream",
     "text": [
      "\n"
     ]
    },
    {
     "data": {
      "text/plain": [
       "Partial joint action: 0 \n",
       "p0v125,125b150\n",
       "p1v0,150b150\n",
       "Price: 100,110\n",
       "Round: 2\n",
       "Player 0 processed: 0, 1\n",
       "Player 1 processed: 0, 1\n",
       "Aggregate demands: 0, 2"
      ]
     },
     "metadata": {},
     "output_type": "display_data"
    },
    {
     "name": "stdout",
     "output_type": "stream",
     "text": [
      "Player: 1\n"
     ]
    },
    {
     "data": {
      "text/plain": [
       "{0: 3.4163667887470354e-12, 1: 0.9999995202104471, 2: 4.797861365136861e-07}"
      ]
     },
     "metadata": {},
     "output_type": "display_data"
    },
    {
     "name": "stdout",
     "output_type": "stream",
     "text": [
      "\n"
     ]
    },
    {
     "data": {
      "text/plain": [
       "Partial joint action: \n",
       "p0v125,125b150\n",
       "p1v0,150b150\n",
       "Price: 100,121\n",
       "Round: 3\n",
       "Player 0 processed: 0, 1\n",
       "Player 1 processed: 0, 1\n",
       "Aggregate demands: 0, 2"
      ]
     },
     "metadata": {},
     "output_type": "display_data"
    },
    {
     "name": "stdout",
     "output_type": "stream",
     "text": [
      "Player: 0\n"
     ]
    },
    {
     "data": {
      "text/plain": [
       "{0: 1.4737224118486163e-36, 1: 2.743922646502981e-29, 2: 1.0}"
      ]
     },
     "metadata": {},
     "output_type": "display_data"
    },
    {
     "name": "stdout",
     "output_type": "stream",
     "text": [
      "\n"
     ]
    },
    {
     "data": {
      "text/plain": [
       "Partial joint action: 0 \n",
       "p0v125,125b150\n",
       "p1v0,150b150\n",
       "Price: 100,121\n",
       "Round: 3\n",
       "Player 0 processed: 0, 1\n",
       "Player 1 processed: 0, 1\n",
       "Aggregate demands: 0, 2"
      ]
     },
     "metadata": {},
     "output_type": "display_data"
    },
    {
     "name": "stdout",
     "output_type": "stream",
     "text": [
      "Player: 1\n"
     ]
    },
    {
     "data": {
      "text/plain": [
       "{0: 4.0999951873512695e-34, 1: 0.999999980623205, 2: 1.9376794903953084e-08}"
      ]
     },
     "metadata": {},
     "output_type": "display_data"
    },
    {
     "name": "stdout",
     "output_type": "stream",
     "text": [
      "\n"
     ]
    },
    {
     "data": {
      "text/plain": [
       "Partial joint action: \n",
       "p0v125,125b150\n",
       "p1v0,150b150\n",
       "Price: 100,133.1\n",
       "Round: 4\n",
       "Player 0 processed: 0, 1\n",
       "Player 1 processed: 0, 1\n",
       "Aggregate demands: 0, 2"
      ]
     },
     "metadata": {},
     "output_type": "display_data"
    },
    {
     "name": "stdout",
     "output_type": "stream",
     "text": [
      "Player: 0\n"
     ]
    },
    {
     "data": {
      "text/plain": [
       "{0: 0.0, 1: 0.0, 2: 1.0}"
      ]
     },
     "metadata": {},
     "output_type": "display_data"
    },
    {
     "name": "stdout",
     "output_type": "stream",
     "text": [
      "\n"
     ]
    },
    {
     "data": {
      "text/plain": [
       "Partial joint action: 0 \n",
       "p0v125,125b150\n",
       "p1v0,150b150\n",
       "Price: 100,133.1\n",
       "Round: 4\n",
       "Player 0 processed: 0, 1\n",
       "Player 1 processed: 0, 1\n",
       "Aggregate demands: 0, 2"
      ]
     },
     "metadata": {},
     "output_type": "display_data"
    },
    {
     "name": "stdout",
     "output_type": "stream",
     "text": [
      "Player: 1\n"
     ]
    },
    {
     "data": {
      "text/plain": [
       "{0: 1.4385730014995987e-41, 1: 0.9999999986262369, 2: 1.3737631013867478e-09}"
      ]
     },
     "metadata": {},
     "output_type": "display_data"
    },
    {
     "name": "stdout",
     "output_type": "stream",
     "text": [
      "\n"
     ]
    },
    {
     "data": {
      "text/plain": [
       "Partial joint action: \n",
       "p0v125,125b150\n",
       "p1v0,150b150\n",
       "Price: 100,146.41\n",
       "Round: 5\n",
       "Player 0 processed: 0, 1\n",
       "Player 1 processed: 0, 1\n",
       "Aggregate demands: 0, 2"
      ]
     },
     "metadata": {},
     "output_type": "display_data"
    },
    {
     "name": "stdout",
     "output_type": "stream",
     "text": [
      "Player: 0\n"
     ]
    },
    {
     "data": {
      "text/plain": [
       "{0: 0.0, 1: 0.0, 2: 1.0}"
      ]
     },
     "metadata": {},
     "output_type": "display_data"
    },
    {
     "name": "stdout",
     "output_type": "stream",
     "text": [
      "\n"
     ]
    },
    {
     "data": {
      "text/plain": [
       "Partial joint action: 0 \n",
       "p0v125,125b150\n",
       "p1v0,150b150\n",
       "Price: 100,146.41\n",
       "Round: 5\n",
       "Player 0 processed: 0, 1\n",
       "Player 1 processed: 0, 1\n",
       "Aggregate demands: 0, 2"
      ]
     },
     "metadata": {},
     "output_type": "display_data"
    },
    {
     "name": "stdout",
     "output_type": "stream",
     "text": [
      "Player: 1\n"
     ]
    },
    {
     "data": {
      "text/plain": [
       "{0: 0.0, 1: 0.9999999997245421, 2: 2.754578231419292e-10}"
      ]
     },
     "metadata": {},
     "output_type": "display_data"
    },
    {
     "name": "stdout",
     "output_type": "stream",
     "text": [
      "\n"
     ]
    },
    {
     "data": {
      "text/plain": [
       "Partial joint action: \n",
       "p0v125,125b150\n",
       "p1v0,150b150\n",
       "Price: 100,161.051\n",
       "Round: 6\n",
       "Player 0 processed: 0, 1\n",
       "Player 1 processed: 0, 1\n",
       "Aggregate demands: 0, 2"
      ]
     },
     "metadata": {},
     "output_type": "display_data"
    },
    {
     "name": "stdout",
     "output_type": "stream",
     "text": [
      "Player: 0\n"
     ]
    },
    {
     "data": {
      "text/plain": [
       "{0: 0.0, 2: 1.0}"
      ]
     },
     "metadata": {},
     "output_type": "display_data"
    },
    {
     "name": "stdout",
     "output_type": "stream",
     "text": [
      "\n"
     ]
    },
    {
     "data": {
      "text/plain": [
       "Partial joint action: 0 \n",
       "p0v125,125b150\n",
       "p1v0,150b150\n",
       "Price: 100,161.051\n",
       "Round: 6\n",
       "Player 0 processed: 0, 1\n",
       "Player 1 processed: 0, 1\n",
       "Aggregate demands: 0, 2"
      ]
     },
     "metadata": {},
     "output_type": "display_data"
    },
    {
     "name": "stdout",
     "output_type": "stream",
     "text": [
      "Player: 1\n"
     ]
    },
    {
     "data": {
      "text/plain": [
       "{0: 1.0}"
      ]
     },
     "metadata": {},
     "output_type": "display_data"
    },
    {
     "name": "stdout",
     "output_type": "stream",
     "text": [
      "\n"
     ]
    },
    {
     "data": {
      "text/plain": [
       "Partial joint action: \n",
       "p0v125,125b150\n",
       "p1v0,150b150\n",
       "Price: 110,100\n",
       "Round: 2\n",
       "Player 0 processed: 1, 0\n",
       "Player 1 processed: 1, 0\n",
       "Aggregate demands: 2, 0"
      ]
     },
     "metadata": {},
     "output_type": "display_data"
    },
    {
     "name": "stdout",
     "output_type": "stream",
     "text": [
      "Player: 0\n"
     ]
    },
    {
     "data": {
      "text/plain": [
       "{0: 0.01274918364156874, 1: 1.5246008563239556e-07, 2: 0.9872506638983456}"
      ]
     },
     "metadata": {},
     "output_type": "display_data"
    },
    {
     "name": "stdout",
     "output_type": "stream",
     "text": [
      "\n"
     ]
    },
    {
     "data": {
      "text/plain": [
       "Partial joint action: 0 \n",
       "p0v125,125b150\n",
       "p1v0,150b150\n",
       "Price: 110,100\n",
       "Round: 2\n",
       "Player 0 processed: 1, 0\n",
       "Player 1 processed: 1, 0\n",
       "Aggregate demands: 2, 0"
      ]
     },
     "metadata": {},
     "output_type": "display_data"
    },
    {
     "name": "stdout",
     "output_type": "stream",
     "text": [
      "Player: 1\n"
     ]
    },
    {
     "data": {
      "text/plain": [
       "{0: 2.7317552295491304e-12, 1: 0.9999989985306449, 2: 1.0014666235035054e-06}"
      ]
     },
     "metadata": {},
     "output_type": "display_data"
    },
    {
     "name": "stdout",
     "output_type": "stream",
     "text": [
      "\n"
     ]
    },
    {
     "data": {
      "text/plain": [
       "Partial joint action: \n",
       "p0v125,125b150\n",
       "p1v0,150b150\n",
       "Price: 121,100\n",
       "Round: 3\n",
       "Player 0 processed: 1, 0\n",
       "Player 1 processed: 1, 0\n",
       "Aggregate demands: 2, 0"
      ]
     },
     "metadata": {},
     "output_type": "display_data"
    },
    {
     "name": "stdout",
     "output_type": "stream",
     "text": [
      "Player: 0\n"
     ]
    },
    {
     "data": {
      "text/plain": [
       "{0: 1.2841824228316347e-37, 1: 1.0772678094283106e-31, 2: 1.0}"
      ]
     },
     "metadata": {},
     "output_type": "display_data"
    },
    {
     "name": "stdout",
     "output_type": "stream",
     "text": [
      "\n"
     ]
    },
    {
     "data": {
      "text/plain": [
       "Partial joint action: 0 \n",
       "p0v125,125b150\n",
       "p1v0,150b150\n",
       "Price: 121,100\n",
       "Round: 3\n",
       "Player 0 processed: 1, 0\n",
       "Player 1 processed: 1, 0\n",
       "Aggregate demands: 2, 0"
      ]
     },
     "metadata": {},
     "output_type": "display_data"
    },
    {
     "name": "stdout",
     "output_type": "stream",
     "text": [
      "Player: 1\n"
     ]
    },
    {
     "data": {
      "text/plain": [
       "{0: 2.8792665117953698e-33, 1: 0.9999999986016246, 2: 1.3983754135068292e-09}"
      ]
     },
     "metadata": {},
     "output_type": "display_data"
    },
    {
     "name": "stdout",
     "output_type": "stream",
     "text": [
      "\n"
     ]
    },
    {
     "data": {
      "text/plain": [
       "Partial joint action: \n",
       "p0v125,125b150\n",
       "p1v0,150b150\n",
       "Price: 133.1,100\n",
       "Round: 4\n",
       "Player 0 processed: 1, 0\n",
       "Player 1 processed: 1, 0\n",
       "Aggregate demands: 2, 0"
      ]
     },
     "metadata": {},
     "output_type": "display_data"
    },
    {
     "name": "stdout",
     "output_type": "stream",
     "text": [
      "Player: 0\n"
     ]
    },
    {
     "data": {
      "text/plain": [
       "{0: 0.0, 1: 0.0, 2: 1.0}"
      ]
     },
     "metadata": {},
     "output_type": "display_data"
    },
    {
     "name": "stdout",
     "output_type": "stream",
     "text": [
      "\n"
     ]
    },
    {
     "data": {
      "text/plain": [
       "Partial joint action: 0 \n",
       "p0v125,125b150\n",
       "p1v0,150b150\n",
       "Price: 133.1,100\n",
       "Round: 4\n",
       "Player 0 processed: 1, 0\n",
       "Player 1 processed: 1, 0\n",
       "Aggregate demands: 2, 0"
      ]
     },
     "metadata": {},
     "output_type": "display_data"
    },
    {
     "name": "stdout",
     "output_type": "stream",
     "text": [
      "Player: 1\n"
     ]
    },
    {
     "data": {
      "text/plain": [
       "{0: 5.113177101921157e-37, 1: 0.999999997412075, 2: 2.587924978722576e-09}"
      ]
     },
     "metadata": {},
     "output_type": "display_data"
    },
    {
     "name": "stdout",
     "output_type": "stream",
     "text": [
      "\n"
     ]
    },
    {
     "data": {
      "text/plain": [
       "Partial joint action: \n",
       "p0v125,125b150\n",
       "p1v0,150b150\n",
       "Price: 146.41,100\n",
       "Round: 5\n",
       "Player 0 processed: 1, 0\n",
       "Player 1 processed: 1, 0\n",
       "Aggregate demands: 2, 0"
      ]
     },
     "metadata": {},
     "output_type": "display_data"
    },
    {
     "name": "stdout",
     "output_type": "stream",
     "text": [
      "Player: 0\n"
     ]
    },
    {
     "data": {
      "text/plain": [
       "{0: 0.0, 1: 0.0, 2: 1.0}"
      ]
     },
     "metadata": {},
     "output_type": "display_data"
    },
    {
     "name": "stdout",
     "output_type": "stream",
     "text": [
      "\n"
     ]
    },
    {
     "data": {
      "text/plain": [
       "Partial joint action: 0 \n",
       "p0v125,125b150\n",
       "p1v0,150b150\n",
       "Price: 146.41,100\n",
       "Round: 5\n",
       "Player 0 processed: 1, 0\n",
       "Player 1 processed: 1, 0\n",
       "Aggregate demands: 2, 0"
      ]
     },
     "metadata": {},
     "output_type": "display_data"
    },
    {
     "name": "stdout",
     "output_type": "stream",
     "text": [
      "Player: 1\n"
     ]
    },
    {
     "data": {
      "text/plain": [
       "{0: 0.0, 1: 0.999999995302777, 2: 4.697223032897437e-09}"
      ]
     },
     "metadata": {},
     "output_type": "display_data"
    },
    {
     "name": "stdout",
     "output_type": "stream",
     "text": [
      "\n"
     ]
    },
    {
     "data": {
      "text/plain": [
       "Partial joint action: \n",
       "p0v125,125b150\n",
       "p1v0,150b150\n",
       "Price: 161.051,100\n",
       "Round: 6\n",
       "Player 0 processed: 1, 0\n",
       "Player 1 processed: 1, 0\n",
       "Aggregate demands: 2, 0"
      ]
     },
     "metadata": {},
     "output_type": "display_data"
    },
    {
     "name": "stdout",
     "output_type": "stream",
     "text": [
      "Player: 0\n"
     ]
    },
    {
     "data": {
      "text/plain": [
       "{0: 1.401298464324817e-45, 1: 1.0}"
      ]
     },
     "metadata": {},
     "output_type": "display_data"
    },
    {
     "name": "stdout",
     "output_type": "stream",
     "text": [
      "\n"
     ]
    },
    {
     "data": {
      "text/plain": [
       "Partial joint action: 0 \n",
       "p0v125,125b150\n",
       "p1v0,150b150\n",
       "Price: 161.051,100\n",
       "Round: 6\n",
       "Player 0 processed: 1, 0\n",
       "Player 1 processed: 1, 0\n",
       "Aggregate demands: 2, 0"
      ]
     },
     "metadata": {},
     "output_type": "display_data"
    },
    {
     "name": "stdout",
     "output_type": "stream",
     "text": [
      "Player: 1\n"
     ]
    },
    {
     "data": {
      "text/plain": [
       "{0: 0.0, 1: 1.0}"
      ]
     },
     "metadata": {},
     "output_type": "display_data"
    },
    {
     "name": "stdout",
     "output_type": "stream",
     "text": [
      "\n"
     ]
    }
   ],
   "source": [
    "for i in states:\n",
    "    state = states[i]\n",
    "    if state.current_player() >= 0:\n",
    "        display(state)\n",
    "        print('Player:', state.current_player())\n",
    "        display(policy.action_probabilities(state))\n",
    "        print()"
   ]
  },
  {
   "cell_type": "code",
   "execution_count": 87,
   "id": "c81e8611-0d11-452f-ba3b-82583ef09c82",
   "metadata": {},
   "outputs": [
    {
     "data": {
      "text/plain": [
       "[1.0,\n",
       " 0.0,\n",
       " 150.0,\n",
       " 125.0,\n",
       " 125.0,\n",
       " 0.0,\n",
       " 0.0,\n",
       " 0.0,\n",
       " 0.0,\n",
       " 0.0,\n",
       " 0.0,\n",
       " 0.0,\n",
       " 0.0,\n",
       " 0.0,\n",
       " 0.0,\n",
       " 0.0,\n",
       " 0.0,\n",
       " 0.0,\n",
       " 0.0,\n",
       " 0.0,\n",
       " 0.0,\n",
       " 0.0,\n",
       " 0.0,\n",
       " 0.0,\n",
       " 0.0,\n",
       " 0.0,\n",
       " 0.0,\n",
       " 0.0,\n",
       " 0.0,\n",
       " 0.0,\n",
       " 0.0,\n",
       " 0.0,\n",
       " 0.0,\n",
       " 0.0,\n",
       " 0.0,\n",
       " 0.0,\n",
       " 0.0,\n",
       " 0.0,\n",
       " 0.0,\n",
       " 0.0,\n",
       " 0.0,\n",
       " 100.0,\n",
       " 100.0,\n",
       " 0.0,\n",
       " 0.0,\n",
       " 0.0,\n",
       " 0.0,\n",
       " 0.0,\n",
       " 0.0,\n",
       " 0.0,\n",
       " 0.0,\n",
       " 0.0,\n",
       " 0.0]"
      ]
     },
     "execution_count": 87,
     "metadata": {},
     "output_type": "execute_result"
    }
   ],
   "source": [
    "states['0, 0'].information_state_tensor(0)"
   ]
  },
  {
   "cell_type": "code",
   "execution_count": 50,
   "id": "3bf7364a-de7f-45ca-9adf-760506bbfda5",
   "metadata": {},
   "outputs": [
    {
     "data": {
      "text/plain": [
       "<open_spiel.python.pytorch.ubc_nfsp.ReservoirBuffer at 0x7f39d60b1908>"
      ]
     },
     "execution_count": 50,
     "metadata": {},
     "output_type": "execute_result"
    }
   ],
   "source": [
    "policy._policies[0]._reservoir_buffer"
   ]
  }
 ],
 "metadata": {
  "kernelspec": {
   "display_name": "Python 3",
   "language": "python",
   "name": "python3"
  },
  "language_info": {
   "codemirror_mode": {
    "name": "ipython",
    "version": 3
   },
   "file_extension": ".py",
   "mimetype": "text/x-python",
   "name": "python",
   "nbconvert_exporter": "python",
   "pygments_lexer": "ipython3",
   "version": "3.6.9"
  }
 },
 "nbformat": 4,
 "nbformat_minor": 5
}
