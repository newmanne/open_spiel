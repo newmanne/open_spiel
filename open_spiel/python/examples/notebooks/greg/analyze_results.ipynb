{
 "cells": [
  {
   "cell_type": "code",
   "execution_count": 1,
   "metadata": {},
   "outputs": [],
   "source": [
    "%load_ext autoreload\n",
    "%autoreload 2"
   ]
  },
  {
   "cell_type": "code",
   "execution_count": 5,
   "metadata": {},
   "outputs": [],
   "source": [
    "import pandas as pd\n",
    "import os\n",
    "import numpy as np\n",
    "import matplotlib.pyplot as plt\n",
    "from matplotlib.lines import Line2D\n",
    "from matplotlib import ticker\n",
    "\n",
    "plt.style.use('https://raw.githubusercontent.com/gregdeon/plots/main/style.mplstyle')\n",
    "plt.rcParams['axes.titlesize'] = 7\n",
    "plt.rcParams['figure.dpi'] = 300\n",
    "\n",
    "RESULTS_DIR = '/global/scratch/open_spiel/open_spiel/open_spiel/python/examples/notebooks/greg/results'\n",
    "FIGURE_DIR = '/global/scratch/open_spiel/open_spiel/open_spiel/python/examples/notebooks/greg/figures/comparative_statics'\n",
    "FIGURE_WIDTH = 7"
   ]
  },
  {
   "cell_type": "code",
   "execution_count": 6,
   "metadata": {},
   "outputs": [],
   "source": [
    "# names + color scheme\n",
    "METRIC_PRETTY_NAMES = {\n",
    "    'total_revenue': 'Revenue',\n",
    "    'total_welfare': 'Welfare',\n",
    "    'auction_lengths': 'Auction Length',\n",
    "    'num_lotteries': 'Number of Tiebreaks',\n",
    "    'unsold_licenses': 'Unsold Licenses',\n",
    "}\n",
    "POLICY_PRETTY_NAMES_AND_COLORS = {\n",
    "    'DROP_BY_PLAYER': ('Drop by Player', 'tab:blue'),\n",
    "    'DROP_BY_LICENSE': ('Drop by License', 'tab:orange'),\n",
    "}\n",
    "\n",
    "# positioning and limits\n",
    "POLICY_Y_OFFSETS = {\n",
    "    'DROP_BY_PLAYER': -0.12,\n",
    "    'DROP_BY_LICENSE': 0.12,\n",
    "}\n",
    "AXIS_LIMITS = {\n",
    "    'auction_lengths': (2.9, 4.1),\n",
    "    'num_lotteries': (-0.1, 1.1),\n",
    "    'unsold_licenses': (-0.1, 1.1),\n",
    "    'total_revenue': (42.5, 44.5),\n",
    "    'total_welfare': (62.5, 87.5),\n",
    "}\n",
    "\n",
    "AXIS_LIMITS.update({f'straightforward_{k}': v for k,v in AXIS_LIMITS.items()})\n",
    "METRIC_PRETTY_NAMES.update({f'straightforward_{k}': v for k,v in METRIC_PRETTY_NAMES.items()})\n",
    "\n",
    "EPSILON = 1e-6\n"
   ]
  },
  {
   "cell_type": "code",
   "execution_count": 13,
   "metadata": {},
   "outputs": [],
   "source": [
    "def my_fmt(x, pos):\n",
    "    if x == 0:\n",
    "        return '0'\n",
    "    return f'{x:.2f}'\n",
    "\n",
    "def plot_metrics_by_game(df, metrics=None, fname='plot.png', straightforward=False):\n",
    "    if metrics is None:\n",
    "        metrics = ['auction_lengths', 'num_lotteries', 'unsold_licenses', 'total_revenue', 'total_welfare']\n",
    "        \n",
    "    if straightforward:\n",
    "        metrics = [f'straightforward_{m}' for m in metrics]\n",
    "    \n",
    "    fig, ax_list = plt.subplots(1, len(metrics), figsize=(FIGURE_WIDTH, 1.8), sharey=True)\n",
    "\n",
    "    game_names = np.sort(df.base_game_name.unique()).tolist()\n",
    "\n",
    "    df_plt = df[['base_game_name', 'tiebreaking_policy']].drop_duplicates().reset_index(drop=True)\n",
    "    df_plt['plt_y'] = df_plt.apply(lambda x: 1 + game_names.index(x.base_game_name) + POLICY_Y_OFFSETS[x.tiebreaking_policy], axis=1)\n",
    "    df_plt['plt_color'] = df_plt.tiebreaking_policy.apply(lambda x: POLICY_PRETTY_NAMES_AND_COLORS[x][1])\n",
    "\n",
    "    df = df.merge(df_plt, on=['base_game_name', 'tiebreaking_policy'])\n",
    "    agg_dict = {**{f'min_{metric}': (metric, np.min) for metric in metrics}, **{f'max_{metric}': (metric, np.max) for metric in metrics}}\n",
    "    df_ranges = df.groupby(['base_game_name', 'tiebreaking_policy'], as_index=False)[metrics].agg(**agg_dict).reset_index().merge(df_plt, on=['base_game_name', 'tiebreaking_policy'])\n",
    "\n",
    "    for i, metric in enumerate(metrics):\n",
    "        plt.sca(ax_list[i])\n",
    "        plt.scatter(x=df[metric], y=df.plt_y, c=df.plt_color, s=5, zorder=10, clip_on=False)\n",
    "        for _, row in df_ranges.iterrows():\n",
    "            plt.plot([row[f'min_{metric}'], row[f'max_{metric}']], [row.plt_y, row.plt_y], linewidth=1, color=row.plt_color, zorder=10)\n",
    "        \n",
    "        # xmin, xmax = AXIS_LIMITS[metric]\n",
    "        # plt.xlim(xmin, xmax)\n",
    "        # if min(df[metric]) < xmin - EPSILON:\n",
    "        #     print(f'WARNING: minimum {metric} of {min(df[metric])} smaller than axis limit of {xmin}')\n",
    "        # if max(df[metric]) > xmax + EPSILON:\n",
    "        #     print(f'WARNING: maximum {metric} of {max(df[metric])} larger than axis limit of {xmax}')\n",
    "        # alternative: compute x limits depending on data\n",
    "        min_metric, max_metric = min(df_ranges[f'min_{metric}']), max(df_ranges[f'max_{metric}'])\n",
    "        dx = max((0.05 * (max_metric - min_metric)), 0.1)\n",
    "        plt.xlim(max(0, min(df[metric]) - dx), max(df[metric]) + dx)\n",
    "        plt.xlabel(METRIC_PRETTY_NAMES[metric])\n",
    "        plt.gca().xaxis.set_major_formatter(ticker.FuncFormatter(my_fmt))\n",
    "\n",
    "\n",
    "    ax_list[0].set_ylabel('Game')\n",
    "    ax_list[0].set_yticks(np.arange(1, len(game_names) + 1))\n",
    "    ax_list[0].set_ylim(len(game_names) + 0.5, 0.5)\n",
    "\n",
    "    # TODO: legend. something like this, but need to get the positioning right:\n",
    "    fig.subplots_adjust(bottom=0.35)\n",
    "    custom_lines = [Line2D([0], [0], color=POLICY_PRETTY_NAMES_AND_COLORS[p][1], lw=2) for p in POLICY_PRETTY_NAMES_AND_COLORS]\n",
    "\n",
    "    fig.legend(custom_lines, [POLICY_PRETTY_NAMES_AND_COLORS[p][0] for p in POLICY_PRETTY_NAMES_AND_COLORS], loc='lower center', bbox_to_anchor=(0.5,0), ncol=2)\n",
    "\n",
    "    # plt.tight_layout()\n",
    "    path = os.path.join(FIGURE_DIR, fname)\n",
    "    os.makedirs(os.path.dirname(path), exist_ok=True) # make directory if it doesn't exist\n",
    "    plt.savefig(path, bbox_inches='tight')\n",
    "    print(f'Saved figure to {path}')"
   ]
  },
  {
   "cell_type": "markdown",
   "metadata": {},
   "source": [
    "# feb6_v2"
   ]
  },
  {
   "cell_type": "code",
   "execution_count": 14,
   "metadata": {},
   "outputs": [],
   "source": [
    "df = pd.read_csv(f'{RESULTS_DIR}/feb6_v2.csv')"
   ]
  },
  {
   "cell_type": "code",
   "execution_count": 21,
   "metadata": {},
   "outputs": [],
   "source": [
    "for rho in [1, 0]:\n",
    "    plot_metrics_by_game(df.query(f'rho == {rho}'), fname=f'feb6_v2/rho{rho}.png'); plt.show()\n",
    "    plot_metrics_by_game(df.query(f'rho == {rho} and nash_conv < 0.05'), fname=f'feb6_v2/rho{rho}_low_nashconv.png'); plt.show()"
   ]
  },
  {
   "cell_type": "code",
   "execution_count": 10,
   "metadata": {},
   "outputs": [
    {
     "data": {
      "text/plain": [
       "0.7727272727272727"
      ]
     },
     "execution_count": 10,
     "metadata": {},
     "output_type": "execute_result"
    }
   ],
   "source": [
    "(df.nash_conv < 0.2).mean()"
   ]
  }
 ],
 "metadata": {
  "kernelspec": {
   "display_name": "Django Shell-Plus",
   "language": "python",
   "name": "django_extensions"
  },
  "language_info": {
   "codemirror_mode": {
    "name": "ipython",
    "version": 3
   },
   "file_extension": ".py",
   "mimetype": "text/x-python",
   "name": "python",
   "nbconvert_exporter": "python",
   "pygments_lexer": "ipython3",
   "version": "3.8.2"
  }
 },
 "nbformat": 4,
 "nbformat_minor": 2
}
