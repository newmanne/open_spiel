{
 "cells": [
  {
   "cell_type": "code",
   "execution_count": 1,
   "metadata": {},
   "outputs": [],
   "source": [
    "%load_ext autoreload\n",
    "%autoreload 2\n",
    "%matplotlib inline"
   ]
  },
  {
   "cell_type": "code",
   "execution_count": 2,
   "metadata": {},
   "outputs": [
    {
     "data": {
      "text/html": [
       "\n",
       "    <div class=\"bk-root\">\n",
       "        <a href=\"https://bokeh.org\" target=\"_blank\" class=\"bk-logo bk-logo-small bk-logo-notebook\"></a>\n",
       "        <span id=\"1002\">Loading BokehJS ...</span>\n",
       "    </div>"
      ]
     },
     "metadata": {},
     "output_type": "display_data"
    },
    {
     "data": {
      "application/javascript": [
       "\n",
       "(function(root) {\n",
       "  function now() {\n",
       "    return new Date();\n",
       "  }\n",
       "\n",
       "  const force = true;\n",
       "\n",
       "  if (typeof root._bokeh_onload_callbacks === \"undefined\" || force === true) {\n",
       "    root._bokeh_onload_callbacks = [];\n",
       "    root._bokeh_is_loading = undefined;\n",
       "  }\n",
       "\n",
       "  const JS_MIME_TYPE = 'application/javascript';\n",
       "  const HTML_MIME_TYPE = 'text/html';\n",
       "  const EXEC_MIME_TYPE = 'application/vnd.bokehjs_exec.v0+json';\n",
       "  const CLASS_NAME = 'output_bokeh rendered_html';\n",
       "\n",
       "  /**\n",
       "   * Render data to the DOM node\n",
       "   */\n",
       "  function render(props, node) {\n",
       "    const script = document.createElement(\"script\");\n",
       "    node.appendChild(script);\n",
       "  }\n",
       "\n",
       "  /**\n",
       "   * Handle when an output is cleared or removed\n",
       "   */\n",
       "  function handleClearOutput(event, handle) {\n",
       "    const cell = handle.cell;\n",
       "\n",
       "    const id = cell.output_area._bokeh_element_id;\n",
       "    const server_id = cell.output_area._bokeh_server_id;\n",
       "    // Clean up Bokeh references\n",
       "    if (id != null && id in Bokeh.index) {\n",
       "      Bokeh.index[id].model.document.clear();\n",
       "      delete Bokeh.index[id];\n",
       "    }\n",
       "\n",
       "    if (server_id !== undefined) {\n",
       "      // Clean up Bokeh references\n",
       "      const cmd_clean = \"from bokeh.io.state import curstate; print(curstate().uuid_to_server['\" + server_id + \"'].get_sessions()[0].document.roots[0]._id)\";\n",
       "      cell.notebook.kernel.execute(cmd_clean, {\n",
       "        iopub: {\n",
       "          output: function(msg) {\n",
       "            const id = msg.content.text.trim();\n",
       "            if (id in Bokeh.index) {\n",
       "              Bokeh.index[id].model.document.clear();\n",
       "              delete Bokeh.index[id];\n",
       "            }\n",
       "          }\n",
       "        }\n",
       "      });\n",
       "      // Destroy server and session\n",
       "      const cmd_destroy = \"import bokeh.io.notebook as ion; ion.destroy_server('\" + server_id + \"')\";\n",
       "      cell.notebook.kernel.execute(cmd_destroy);\n",
       "    }\n",
       "  }\n",
       "\n",
       "  /**\n",
       "   * Handle when a new output is added\n",
       "   */\n",
       "  function handleAddOutput(event, handle) {\n",
       "    const output_area = handle.output_area;\n",
       "    const output = handle.output;\n",
       "\n",
       "    // limit handleAddOutput to display_data with EXEC_MIME_TYPE content only\n",
       "    if ((output.output_type != \"display_data\") || (!Object.prototype.hasOwnProperty.call(output.data, EXEC_MIME_TYPE))) {\n",
       "      return\n",
       "    }\n",
       "\n",
       "    const toinsert = output_area.element.find(\".\" + CLASS_NAME.split(' ')[0]);\n",
       "\n",
       "    if (output.metadata[EXEC_MIME_TYPE][\"id\"] !== undefined) {\n",
       "      toinsert[toinsert.length - 1].firstChild.textContent = output.data[JS_MIME_TYPE];\n",
       "      // store reference to embed id on output_area\n",
       "      output_area._bokeh_element_id = output.metadata[EXEC_MIME_TYPE][\"id\"];\n",
       "    }\n",
       "    if (output.metadata[EXEC_MIME_TYPE][\"server_id\"] !== undefined) {\n",
       "      const bk_div = document.createElement(\"div\");\n",
       "      bk_div.innerHTML = output.data[HTML_MIME_TYPE];\n",
       "      const script_attrs = bk_div.children[0].attributes;\n",
       "      for (let i = 0; i < script_attrs.length; i++) {\n",
       "        toinsert[toinsert.length - 1].firstChild.setAttribute(script_attrs[i].name, script_attrs[i].value);\n",
       "        toinsert[toinsert.length - 1].firstChild.textContent = bk_div.children[0].textContent\n",
       "      }\n",
       "      // store reference to server id on output_area\n",
       "      output_area._bokeh_server_id = output.metadata[EXEC_MIME_TYPE][\"server_id\"];\n",
       "    }\n",
       "  }\n",
       "\n",
       "  function register_renderer(events, OutputArea) {\n",
       "\n",
       "    function append_mime(data, metadata, element) {\n",
       "      // create a DOM node to render to\n",
       "      const toinsert = this.create_output_subarea(\n",
       "        metadata,\n",
       "        CLASS_NAME,\n",
       "        EXEC_MIME_TYPE\n",
       "      );\n",
       "      this.keyboard_manager.register_events(toinsert);\n",
       "      // Render to node\n",
       "      const props = {data: data, metadata: metadata[EXEC_MIME_TYPE]};\n",
       "      render(props, toinsert[toinsert.length - 1]);\n",
       "      element.append(toinsert);\n",
       "      return toinsert\n",
       "    }\n",
       "\n",
       "    /* Handle when an output is cleared or removed */\n",
       "    events.on('clear_output.CodeCell', handleClearOutput);\n",
       "    events.on('delete.Cell', handleClearOutput);\n",
       "\n",
       "    /* Handle when a new output is added */\n",
       "    events.on('output_added.OutputArea', handleAddOutput);\n",
       "\n",
       "    /**\n",
       "     * Register the mime type and append_mime function with output_area\n",
       "     */\n",
       "    OutputArea.prototype.register_mime_type(EXEC_MIME_TYPE, append_mime, {\n",
       "      /* Is output safe? */\n",
       "      safe: true,\n",
       "      /* Index of renderer in `output_area.display_order` */\n",
       "      index: 0\n",
       "    });\n",
       "  }\n",
       "\n",
       "  // register the mime type if in Jupyter Notebook environment and previously unregistered\n",
       "  if (root.Jupyter !== undefined) {\n",
       "    const events = require('base/js/events');\n",
       "    const OutputArea = require('notebook/js/outputarea').OutputArea;\n",
       "\n",
       "    if (OutputArea.prototype.mime_types().indexOf(EXEC_MIME_TYPE) == -1) {\n",
       "      register_renderer(events, OutputArea);\n",
       "    }\n",
       "  }\n",
       "\n",
       "  \n",
       "  if (typeof (root._bokeh_timeout) === \"undefined\" || force === true) {\n",
       "    root._bokeh_timeout = Date.now() + 5000;\n",
       "    root._bokeh_failed_load = false;\n",
       "  }\n",
       "\n",
       "  const NB_LOAD_WARNING = {'data': {'text/html':\n",
       "     \"<div style='background-color: #fdd'>\\n\"+\n",
       "     \"<p>\\n\"+\n",
       "     \"BokehJS does not appear to have successfully loaded. If loading BokehJS from CDN, this \\n\"+\n",
       "     \"may be due to a slow or bad network connection. Possible fixes:\\n\"+\n",
       "     \"</p>\\n\"+\n",
       "     \"<ul>\\n\"+\n",
       "     \"<li>re-rerun `output_notebook()` to attempt to load from CDN again, or</li>\\n\"+\n",
       "     \"<li>use INLINE resources instead, as so:</li>\\n\"+\n",
       "     \"</ul>\\n\"+\n",
       "     \"<code>\\n\"+\n",
       "     \"from bokeh.resources import INLINE\\n\"+\n",
       "     \"output_notebook(resources=INLINE)\\n\"+\n",
       "     \"</code>\\n\"+\n",
       "     \"</div>\"}};\n",
       "\n",
       "  function display_loaded() {\n",
       "    const el = document.getElementById(\"1002\");\n",
       "    if (el != null) {\n",
       "      el.textContent = \"BokehJS is loading...\";\n",
       "    }\n",
       "    if (root.Bokeh !== undefined) {\n",
       "      if (el != null) {\n",
       "        el.textContent = \"BokehJS \" + root.Bokeh.version + \" successfully loaded.\";\n",
       "      }\n",
       "    } else if (Date.now() < root._bokeh_timeout) {\n",
       "      setTimeout(display_loaded, 100)\n",
       "    }\n",
       "  }\n",
       "\n",
       "\n",
       "  function run_callbacks() {\n",
       "    try {\n",
       "      root._bokeh_onload_callbacks.forEach(function(callback) {\n",
       "        if (callback != null)\n",
       "          callback();\n",
       "      });\n",
       "    } finally {\n",
       "      delete root._bokeh_onload_callbacks\n",
       "    }\n",
       "    console.debug(\"Bokeh: all callbacks have finished\");\n",
       "  }\n",
       "\n",
       "  function load_libs(css_urls, js_urls, callback) {\n",
       "    if (css_urls == null) css_urls = [];\n",
       "    if (js_urls == null) js_urls = [];\n",
       "\n",
       "    root._bokeh_onload_callbacks.push(callback);\n",
       "    if (root._bokeh_is_loading > 0) {\n",
       "      console.debug(\"Bokeh: BokehJS is being loaded, scheduling callback at\", now());\n",
       "      return null;\n",
       "    }\n",
       "    if (js_urls == null || js_urls.length === 0) {\n",
       "      run_callbacks();\n",
       "      return null;\n",
       "    }\n",
       "    console.debug(\"Bokeh: BokehJS not loaded, scheduling load and callback at\", now());\n",
       "    root._bokeh_is_loading = css_urls.length + js_urls.length;\n",
       "\n",
       "    function on_load() {\n",
       "      root._bokeh_is_loading--;\n",
       "      if (root._bokeh_is_loading === 0) {\n",
       "        console.debug(\"Bokeh: all BokehJS libraries/stylesheets loaded\");\n",
       "        run_callbacks()\n",
       "      }\n",
       "    }\n",
       "\n",
       "    function on_error(url) {\n",
       "      console.error(\"failed to load \" + url);\n",
       "    }\n",
       "\n",
       "    for (let i = 0; i < css_urls.length; i++) {\n",
       "      const url = css_urls[i];\n",
       "      const element = document.createElement(\"link\");\n",
       "      element.onload = on_load;\n",
       "      element.onerror = on_error.bind(null, url);\n",
       "      element.rel = \"stylesheet\";\n",
       "      element.type = \"text/css\";\n",
       "      element.href = url;\n",
       "      console.debug(\"Bokeh: injecting link tag for BokehJS stylesheet: \", url);\n",
       "      document.body.appendChild(element);\n",
       "    }\n",
       "\n",
       "    for (let i = 0; i < js_urls.length; i++) {\n",
       "      const url = js_urls[i];\n",
       "      const element = document.createElement('script');\n",
       "      element.onload = on_load;\n",
       "      element.onerror = on_error.bind(null, url);\n",
       "      element.async = false;\n",
       "      element.src = url;\n",
       "      console.debug(\"Bokeh: injecting script tag for BokehJS library: \", url);\n",
       "      document.head.appendChild(element);\n",
       "    }\n",
       "  };\n",
       "\n",
       "  function inject_raw_css(css) {\n",
       "    const element = document.createElement(\"style\");\n",
       "    element.appendChild(document.createTextNode(css));\n",
       "    document.body.appendChild(element);\n",
       "  }\n",
       "\n",
       "  \n",
       "  const js_urls = [\"https://cdn.bokeh.org/bokeh/release/bokeh-2.4.2.min.js\", \"https://cdn.bokeh.org/bokeh/release/bokeh-gl-2.4.2.min.js\", \"https://cdn.bokeh.org/bokeh/release/bokeh-widgets-2.4.2.min.js\", \"https://cdn.bokeh.org/bokeh/release/bokeh-tables-2.4.2.min.js\", \"https://cdn.bokeh.org/bokeh/release/bokeh-mathjax-2.4.2.min.js\"];\n",
       "  const css_urls = [];\n",
       "  \n",
       "\n",
       "  const inline_js = [\n",
       "    function(Bokeh) {\n",
       "      Bokeh.set_log_level(\"info\");\n",
       "    },\n",
       "    function(Bokeh) {\n",
       "    \n",
       "    \n",
       "    }\n",
       "  ];\n",
       "\n",
       "  function run_inline_js() {\n",
       "    \n",
       "    if (root.Bokeh !== undefined || force === true) {\n",
       "      \n",
       "    for (let i = 0; i < inline_js.length; i++) {\n",
       "      inline_js[i].call(root, root.Bokeh);\n",
       "    }\n",
       "    if (force === true) {\n",
       "        display_loaded();\n",
       "      }} else if (Date.now() < root._bokeh_timeout) {\n",
       "      setTimeout(run_inline_js, 100);\n",
       "    } else if (!root._bokeh_failed_load) {\n",
       "      console.log(\"Bokeh: BokehJS failed to load within specified timeout.\");\n",
       "      root._bokeh_failed_load = true;\n",
       "    } else if (force !== true) {\n",
       "      const cell = $(document.getElementById(\"1002\")).parents('.cell').data().cell;\n",
       "      cell.output_area.append_execute_result(NB_LOAD_WARNING)\n",
       "    }\n",
       "\n",
       "  }\n",
       "\n",
       "  if (root._bokeh_is_loading === 0) {\n",
       "    console.debug(\"Bokeh: BokehJS loaded, going straight to plotting\");\n",
       "    run_inline_js();\n",
       "  } else {\n",
       "    load_libs(css_urls, js_urls, function() {\n",
       "      console.debug(\"Bokeh: BokehJS plotting callback run at\", now());\n",
       "      run_inline_js();\n",
       "    });\n",
       "  }\n",
       "}(window));"
      ],
      "application/vnd.bokehjs_load.v0+json": "\n(function(root) {\n  function now() {\n    return new Date();\n  }\n\n  const force = true;\n\n  if (typeof root._bokeh_onload_callbacks === \"undefined\" || force === true) {\n    root._bokeh_onload_callbacks = [];\n    root._bokeh_is_loading = undefined;\n  }\n\n  \n\n  \n  if (typeof (root._bokeh_timeout) === \"undefined\" || force === true) {\n    root._bokeh_timeout = Date.now() + 5000;\n    root._bokeh_failed_load = false;\n  }\n\n  const NB_LOAD_WARNING = {'data': {'text/html':\n     \"<div style='background-color: #fdd'>\\n\"+\n     \"<p>\\n\"+\n     \"BokehJS does not appear to have successfully loaded. If loading BokehJS from CDN, this \\n\"+\n     \"may be due to a slow or bad network connection. Possible fixes:\\n\"+\n     \"</p>\\n\"+\n     \"<ul>\\n\"+\n     \"<li>re-rerun `output_notebook()` to attempt to load from CDN again, or</li>\\n\"+\n     \"<li>use INLINE resources instead, as so:</li>\\n\"+\n     \"</ul>\\n\"+\n     \"<code>\\n\"+\n     \"from bokeh.resources import INLINE\\n\"+\n     \"output_notebook(resources=INLINE)\\n\"+\n     \"</code>\\n\"+\n     \"</div>\"}};\n\n  function display_loaded() {\n    const el = document.getElementById(\"1002\");\n    if (el != null) {\n      el.textContent = \"BokehJS is loading...\";\n    }\n    if (root.Bokeh !== undefined) {\n      if (el != null) {\n        el.textContent = \"BokehJS \" + root.Bokeh.version + \" successfully loaded.\";\n      }\n    } else if (Date.now() < root._bokeh_timeout) {\n      setTimeout(display_loaded, 100)\n    }\n  }\n\n\n  function run_callbacks() {\n    try {\n      root._bokeh_onload_callbacks.forEach(function(callback) {\n        if (callback != null)\n          callback();\n      });\n    } finally {\n      delete root._bokeh_onload_callbacks\n    }\n    console.debug(\"Bokeh: all callbacks have finished\");\n  }\n\n  function load_libs(css_urls, js_urls, callback) {\n    if (css_urls == null) css_urls = [];\n    if (js_urls == null) js_urls = [];\n\n    root._bokeh_onload_callbacks.push(callback);\n    if (root._bokeh_is_loading > 0) {\n      console.debug(\"Bokeh: BokehJS is being loaded, scheduling callback at\", now());\n      return null;\n    }\n    if (js_urls == null || js_urls.length === 0) {\n      run_callbacks();\n      return null;\n    }\n    console.debug(\"Bokeh: BokehJS not loaded, scheduling load and callback at\", now());\n    root._bokeh_is_loading = css_urls.length + js_urls.length;\n\n    function on_load() {\n      root._bokeh_is_loading--;\n      if (root._bokeh_is_loading === 0) {\n        console.debug(\"Bokeh: all BokehJS libraries/stylesheets loaded\");\n        run_callbacks()\n      }\n    }\n\n    function on_error(url) {\n      console.error(\"failed to load \" + url);\n    }\n\n    for (let i = 0; i < css_urls.length; i++) {\n      const url = css_urls[i];\n      const element = document.createElement(\"link\");\n      element.onload = on_load;\n      element.onerror = on_error.bind(null, url);\n      element.rel = \"stylesheet\";\n      element.type = \"text/css\";\n      element.href = url;\n      console.debug(\"Bokeh: injecting link tag for BokehJS stylesheet: \", url);\n      document.body.appendChild(element);\n    }\n\n    for (let i = 0; i < js_urls.length; i++) {\n      const url = js_urls[i];\n      const element = document.createElement('script');\n      element.onload = on_load;\n      element.onerror = on_error.bind(null, url);\n      element.async = false;\n      element.src = url;\n      console.debug(\"Bokeh: injecting script tag for BokehJS library: \", url);\n      document.head.appendChild(element);\n    }\n  };\n\n  function inject_raw_css(css) {\n    const element = document.createElement(\"style\");\n    element.appendChild(document.createTextNode(css));\n    document.body.appendChild(element);\n  }\n\n  \n  const js_urls = [\"https://cdn.bokeh.org/bokeh/release/bokeh-2.4.2.min.js\", \"https://cdn.bokeh.org/bokeh/release/bokeh-gl-2.4.2.min.js\", \"https://cdn.bokeh.org/bokeh/release/bokeh-widgets-2.4.2.min.js\", \"https://cdn.bokeh.org/bokeh/release/bokeh-tables-2.4.2.min.js\", \"https://cdn.bokeh.org/bokeh/release/bokeh-mathjax-2.4.2.min.js\"];\n  const css_urls = [];\n  \n\n  const inline_js = [\n    function(Bokeh) {\n      Bokeh.set_log_level(\"info\");\n    },\n    function(Bokeh) {\n    \n    \n    }\n  ];\n\n  function run_inline_js() {\n    \n    if (root.Bokeh !== undefined || force === true) {\n      \n    for (let i = 0; i < inline_js.length; i++) {\n      inline_js[i].call(root, root.Bokeh);\n    }\n    if (force === true) {\n        display_loaded();\n      }} else if (Date.now() < root._bokeh_timeout) {\n      setTimeout(run_inline_js, 100);\n    } else if (!root._bokeh_failed_load) {\n      console.log(\"Bokeh: BokehJS failed to load within specified timeout.\");\n      root._bokeh_failed_load = true;\n    } else if (force !== true) {\n      const cell = $(document.getElementById(\"1002\")).parents('.cell').data().cell;\n      cell.output_area.append_execute_result(NB_LOAD_WARNING)\n    }\n\n  }\n\n  if (root._bokeh_is_loading === 0) {\n    console.debug(\"Bokeh: BokehJS loaded, going straight to plotting\");\n    run_inline_js();\n  } else {\n    load_libs(css_urls, js_urls, function() {\n      console.debug(\"Bokeh: BokehJS plotting callback run at\", now());\n      run_inline_js();\n    });\n  }\n}(window));"
     },
     "metadata": {},
     "output_type": "display_data"
    }
   ],
   "source": [
    "import sys\n",
    "import glob\n",
    "import pandas as pd\n",
    "import os\n",
    "import seaborn as sns\n",
    "\n",
    "from tqdm import tqdm\n",
    "from statsmodels.distributions.empirical_distribution import ECDF\n",
    "from collections import defaultdict\n",
    "import pickle\n",
    "import re\n",
    "import json\n",
    "from pathlib import Path\n",
    "import scipy.stats\n",
    "import time\n",
    "\n",
    "from open_spiel.python.algorithms.exploitability import nash_conv, best_response\n",
    "from open_spiel.python.examples.ubc_plotting_utils import *\n",
    "from open_spiel.python.examples.ubc_sample_game_tree import sample_game_tree, flatten_trees, flatten_tree\n",
    "from open_spiel.python.examples.ubc_clusters import projectPCA, fitGMM\n",
    "from open_spiel.python.examples.ubc_utils import *\n",
    "import open_spiel.python.examples.ubc_dispatch as dispatch\n",
    "\n",
    "from auctions.webutils import *\n",
    "\n",
    "os.environ[\"DJANGO_ALLOW_ASYNC_UNSAFE\"] = \"true\"\n",
    "\n",
    "from open_spiel.python.examples.ubc_cma import *\n",
    "\n",
    "output_notebook()\n",
    "from open_spiel.python.games.clock_auction_base import InformationPolicy, ActivityPolicy, UndersellPolicy, TiebreakingPolicy\n",
    "from open_spiel.python.algorithms.exploitability import nash_conv, best_response\n",
    "from open_spiel.python.examples.ubc_decorators import TakeSingleActionDecorator, TremblingAgentDecorator, ModalAgentDecorator"
   ]
  },
  {
   "cell_type": "code",
   "execution_count": 3,
   "metadata": {},
   "outputs": [
    {
     "name": "stdout",
     "output_type": "stream",
     "text": [
      "Found 100 runs\n"
     ]
    }
   ],
   "source": [
    "# load runs from experiments\n",
    "experiments = [\n",
    "    # 'sep28v10',\n",
    "    'dec11_bc_v5',\n",
    "]\n",
    "\n",
    "runs = []\n",
    "for experiment in experiments:\n",
    "    runs += Experiment.objects.get(name=experiment).equilibriumsolverrun_set.all()\n",
    "print(f\"Found {len(runs)} runs\")"
   ]
  },
  {
   "cell_type": "markdown",
   "metadata": {},
   "source": [
    "# Analyze runs"
   ]
  },
  {
   "cell_type": "code",
   "execution_count": 4,
   "metadata": {},
   "outputs": [
    {
     "name": "stderr",
     "output_type": "stream",
     "text": [
      "  0%|                                                   | 0/100 [00:00<?, ?it/s]"
     ]
    },
    {
     "name": "stdout",
     "output_type": "stream",
     "text": [
      "Something wrong with dec11_bc_dec11_bc_0_risk_averse-cfr_port_10_extexternal_plus_linear-100 (dec11_bc_v5). Skipping. Evaluation matching query does not exist.\n",
      "Traceback (most recent call last):\n",
      "  File \"/tmp/ipykernel_3596/3763337244.py\", line 27, in <module>\n",
      "    evaluation = final_checkpoint.get_modal_eval()\n",
      "  File \"/apps/open_spiel/web/auctions/auctions/models.py\", line 96, in get_modal_eval\n",
      "    return self.evaluation_set.get(name=modal_name)\n",
      "  File \"/home/ubuntu/.pyenv/versions/3.8.2/envs/venv/lib/python3.8/site-packages/django/db/models/manager.py\", line 85, in manager_method\n",
      "    return getattr(self.get_queryset(), name)(*args, **kwargs)\n",
      "  File \"/home/ubuntu/.pyenv/versions/3.8.2/envs/venv/lib/python3.8/site-packages/django/db/models/query.py\", line 439, in get\n",
      "    raise self.model.DoesNotExist(\n",
      "auctions.models.Evaluation.DoesNotExist: Evaluation matching query does not exist.\n",
      "\n",
      "Something wrong with dec11_bc_dec11_bc_0_risk_averse-cfr_port_10_extexternal_plus_linear-101 (dec11_bc_v5). Skipping. Evaluation matching query does not exist.\n",
      "Traceback (most recent call last):\n",
      "  File \"/tmp/ipykernel_3596/3763337244.py\", line 27, in <module>\n",
      "    evaluation = final_checkpoint.get_modal_eval()\n",
      "  File \"/apps/open_spiel/web/auctions/auctions/models.py\", line 96, in get_modal_eval\n",
      "    return self.evaluation_set.get(name=modal_name)\n",
      "  File \"/home/ubuntu/.pyenv/versions/3.8.2/envs/venv/lib/python3.8/site-packages/django/db/models/manager.py\", line 85, in manager_method\n",
      "    return getattr(self.get_queryset(), name)(*args, **kwargs)\n",
      "  File \"/home/ubuntu/.pyenv/versions/3.8.2/envs/venv/lib/python3.8/site-packages/django/db/models/query.py\", line 439, in get\n",
      "    raise self.model.DoesNotExist(\n",
      "auctions.models.Evaluation.DoesNotExist: Evaluation matching query does not exist.\n",
      "\n",
      "Something wrong with dec11_bc_dec11_bc_2_risk_averse_tie_break-cfr_port_10_extexternal_plus_linear-103 (dec11_bc_v5). Skipping. Evaluation matching query does not exist.\n",
      "Traceback (most recent call last):\n",
      "  File \"/tmp/ipykernel_3596/3763337244.py\", line 27, in <module>\n",
      "    evaluation = final_checkpoint.get_modal_eval()\n",
      "  File \"/apps/open_spiel/web/auctions/auctions/models.py\", line 96, in get_modal_eval\n",
      "    return self.evaluation_set.get(name=modal_name)\n",
      "  File \"/home/ubuntu/.pyenv/versions/3.8.2/envs/venv/lib/python3.8/site-packages/django/db/models/manager.py\", line 85, in manager_method\n",
      "    return getattr(self.get_queryset(), name)(*args, **kwargs)\n",
      "  File \"/home/ubuntu/.pyenv/versions/3.8.2/envs/venv/lib/python3.8/site-packages/django/db/models/query.py\", line 439, in get\n",
      "    raise self.model.DoesNotExist(\n",
      "auctions.models.Evaluation.DoesNotExist: Evaluation matching query does not exist.\n",
      "\n",
      "Something wrong with dec11_bc_dec11_bc_2_risk_averse_tie_break-cfr_port_10_extexternal_plus_linear-104 (dec11_bc_v5). Skipping. Evaluation matching query does not exist.\n",
      "Traceback (most recent call last):\n",
      "  File \"/tmp/ipykernel_3596/3763337244.py\", line 27, in <module>\n",
      "    evaluation = final_checkpoint.get_modal_eval()\n",
      "  File \"/apps/open_spiel/web/auctions/auctions/models.py\", line 96, in get_modal_eval\n",
      "    return self.evaluation_set.get(name=modal_name)\n",
      "  File \"/home/ubuntu/.pyenv/versions/3.8.2/envs/venv/lib/python3.8/site-packages/django/db/models/manager.py\", line 85, in manager_method\n",
      "    return getattr(self.get_queryset(), name)(*args, **kwargs)\n",
      "  File \"/home/ubuntu/.pyenv/versions/3.8.2/envs/venv/lib/python3.8/site-packages/django/db/models/query.py\", line 439, in get\n",
      "    raise self.model.DoesNotExist(\n",
      "auctions.models.Evaluation.DoesNotExist: Evaluation matching query does not exist.\n",
      "\n",
      "Something wrong with dec11_bc_dec11_bc_3_risk_averse-cfr_port_10_extexternal_plus_linear-103 (dec11_bc_v5). Skipping. Evaluation matching query does not exist.\n",
      "Traceback (most recent call last):\n",
      "  File \"/tmp/ipykernel_3596/3763337244.py\", line 27, in <module>\n",
      "    evaluation = final_checkpoint.get_modal_eval()\n",
      "  File \"/apps/open_spiel/web/auctions/auctions/models.py\", line 96, in get_modal_eval\n",
      "    return self.evaluation_set.get(name=modal_name)\n",
      "  File \"/home/ubuntu/.pyenv/versions/3.8.2/envs/venv/lib/python3.8/site-packages/django/db/models/manager.py\", line 85, in manager_method\n",
      "    return getattr(self.get_queryset(), name)(*args, **kwargs)\n",
      "  File \"/home/ubuntu/.pyenv/versions/3.8.2/envs/venv/lib/python3.8/site-packages/django/db/models/query.py\", line 439, in get\n",
      "    raise self.model.DoesNotExist(\n",
      "auctions.models.Evaluation.DoesNotExist: Evaluation matching query does not exist.\n",
      "\n",
      "Something wrong with dec11_bc_dec11_bc_3_risk_averse-cfr_port_10_extexternal_plus_linear-104 (dec11_bc_v5). Skipping. Evaluation matching query does not exist.\n",
      "Traceback (most recent call last):\n",
      "  File \"/tmp/ipykernel_3596/3763337244.py\", line 27, in <module>\n",
      "    evaluation = final_checkpoint.get_modal_eval()\n",
      "  File \"/apps/open_spiel/web/auctions/auctions/models.py\", line 96, in get_modal_eval\n",
      "    return self.evaluation_set.get(name=modal_name)\n",
      "  File \"/home/ubuntu/.pyenv/versions/3.8.2/envs/venv/lib/python3.8/site-packages/django/db/models/manager.py\", line 85, in manager_method\n",
      "    return getattr(self.get_queryset(), name)(*args, **kwargs)\n",
      "  File \"/home/ubuntu/.pyenv/versions/3.8.2/envs/venv/lib/python3.8/site-packages/django/db/models/query.py\", line 439, in get\n",
      "    raise self.model.DoesNotExist(\n",
      "auctions.models.Evaluation.DoesNotExist: Evaluation matching query does not exist.\n",
      "\n"
     ]
    },
    {
     "name": "stderr",
     "output_type": "stream",
     "text": [
      " 36%|███████████████                           | 36/100 [00:00<00:00, 80.97it/s]"
     ]
    },
    {
     "name": "stdout",
     "output_type": "stream",
     "text": [
      "Something wrong with dec11_bc_dec11_bc_0_base-cfr_port_10_extexternal_plus_linear-101 (dec11_bc_v5). Skipping. Evaluation matching query does not exist.\n",
      "Traceback (most recent call last):\n",
      "  File \"/tmp/ipykernel_3596/3763337244.py\", line 27, in <module>\n",
      "    evaluation = final_checkpoint.get_modal_eval()\n",
      "  File \"/apps/open_spiel/web/auctions/auctions/models.py\", line 96, in get_modal_eval\n",
      "    return self.evaluation_set.get(name=modal_name)\n",
      "  File \"/home/ubuntu/.pyenv/versions/3.8.2/envs/venv/lib/python3.8/site-packages/django/db/models/manager.py\", line 85, in manager_method\n",
      "    return getattr(self.get_queryset(), name)(*args, **kwargs)\n",
      "  File \"/home/ubuntu/.pyenv/versions/3.8.2/envs/venv/lib/python3.8/site-packages/django/db/models/query.py\", line 439, in get\n",
      "    raise self.model.DoesNotExist(\n",
      "auctions.models.Evaluation.DoesNotExist: Evaluation matching query does not exist.\n",
      "\n",
      "Something wrong with dec11_bc_dec11_bc_0_base-cfr_port_10_extexternal_plus_linear-102 (dec11_bc_v5). Skipping. Evaluation matching query does not exist.\n",
      "Traceback (most recent call last):\n",
      "  File \"/tmp/ipykernel_3596/3763337244.py\", line 27, in <module>\n",
      "    evaluation = final_checkpoint.get_modal_eval()\n",
      "  File \"/apps/open_spiel/web/auctions/auctions/models.py\", line 96, in get_modal_eval\n",
      "    return self.evaluation_set.get(name=modal_name)\n",
      "  File \"/home/ubuntu/.pyenv/versions/3.8.2/envs/venv/lib/python3.8/site-packages/django/db/models/manager.py\", line 85, in manager_method\n",
      "    return getattr(self.get_queryset(), name)(*args, **kwargs)\n",
      "  File \"/home/ubuntu/.pyenv/versions/3.8.2/envs/venv/lib/python3.8/site-packages/django/db/models/query.py\", line 439, in get\n",
      "    raise self.model.DoesNotExist(\n",
      "auctions.models.Evaluation.DoesNotExist: Evaluation matching query does not exist.\n",
      "\n",
      "Something wrong with dec11_bc_dec11_bc_2_risk_averse-cfr_port_10_extexternal_plus_linear-100 (dec11_bc_v5). Skipping. Evaluation matching query does not exist.\n",
      "Traceback (most recent call last):\n",
      "  File \"/tmp/ipykernel_3596/3763337244.py\", line 27, in <module>\n",
      "    evaluation = final_checkpoint.get_modal_eval()\n",
      "  File \"/apps/open_spiel/web/auctions/auctions/models.py\", line 96, in get_modal_eval\n",
      "    return self.evaluation_set.get(name=modal_name)\n",
      "  File \"/home/ubuntu/.pyenv/versions/3.8.2/envs/venv/lib/python3.8/site-packages/django/db/models/manager.py\", line 85, in manager_method\n",
      "    return getattr(self.get_queryset(), name)(*args, **kwargs)\n",
      "  File \"/home/ubuntu/.pyenv/versions/3.8.2/envs/venv/lib/python3.8/site-packages/django/db/models/query.py\", line 439, in get\n",
      "    raise self.model.DoesNotExist(\n",
      "auctions.models.Evaluation.DoesNotExist: Evaluation matching query does not exist.\n",
      "\n",
      "Something wrong with dec11_bc_dec11_bc_2_risk_averse-cfr_port_10_extexternal_plus_linear-101 (dec11_bc_v5). Skipping. Evaluation matching query does not exist.\n",
      "Traceback (most recent call last):\n",
      "  File \"/tmp/ipykernel_3596/3763337244.py\", line 27, in <module>\n",
      "    evaluation = final_checkpoint.get_modal_eval()\n",
      "  File \"/apps/open_spiel/web/auctions/auctions/models.py\", line 96, in get_modal_eval\n",
      "    return self.evaluation_set.get(name=modal_name)\n",
      "  File \"/home/ubuntu/.pyenv/versions/3.8.2/envs/venv/lib/python3.8/site-packages/django/db/models/manager.py\", line 85, in manager_method\n",
      "    return getattr(self.get_queryset(), name)(*args, **kwargs)\n",
      "  File \"/home/ubuntu/.pyenv/versions/3.8.2/envs/venv/lib/python3.8/site-packages/django/db/models/query.py\", line 439, in get\n",
      "    raise self.model.DoesNotExist(\n",
      "auctions.models.Evaluation.DoesNotExist: Evaluation matching query does not exist.\n",
      "\n",
      "Something wrong with dec11_bc_dec11_bc_3_base_tie_break-cfr_port_10_extexternal_plus_linear-103 (dec11_bc_v5). Skipping. Evaluation matching query does not exist.\n",
      "Traceback (most recent call last):\n",
      "  File \"/tmp/ipykernel_3596/3763337244.py\", line 27, in <module>\n",
      "    evaluation = final_checkpoint.get_modal_eval()\n",
      "  File \"/apps/open_spiel/web/auctions/auctions/models.py\", line 96, in get_modal_eval\n",
      "    return self.evaluation_set.get(name=modal_name)\n",
      "  File \"/home/ubuntu/.pyenv/versions/3.8.2/envs/venv/lib/python3.8/site-packages/django/db/models/manager.py\", line 85, in manager_method\n",
      "    return getattr(self.get_queryset(), name)(*args, **kwargs)\n",
      "  File \"/home/ubuntu/.pyenv/versions/3.8.2/envs/venv/lib/python3.8/site-packages/django/db/models/query.py\", line 439, in get\n",
      "    raise self.model.DoesNotExist(\n",
      "auctions.models.Evaluation.DoesNotExist: Evaluation matching query does not exist.\n",
      "\n",
      "Something wrong with dec11_bc_dec11_bc_0_risk_averse-cfr_port_10_extexternal_plus_linear-104 (dec11_bc_v5). Skipping. Evaluation matching query does not exist.\n",
      "Traceback (most recent call last):\n",
      "  File \"/tmp/ipykernel_3596/3763337244.py\", line 27, in <module>\n",
      "    evaluation = final_checkpoint.get_modal_eval()\n",
      "  File \"/apps/open_spiel/web/auctions/auctions/models.py\", line 96, in get_modal_eval\n",
      "    return self.evaluation_set.get(name=modal_name)\n",
      "  File \"/home/ubuntu/.pyenv/versions/3.8.2/envs/venv/lib/python3.8/site-packages/django/db/models/manager.py\", line 85, in manager_method\n",
      "    return getattr(self.get_queryset(), name)(*args, **kwargs)\n",
      "  File \"/home/ubuntu/.pyenv/versions/3.8.2/envs/venv/lib/python3.8/site-packages/django/db/models/query.py\", line 439, in get\n",
      "    raise self.model.DoesNotExist(\n",
      "auctions.models.Evaluation.DoesNotExist: Evaluation matching query does not exist.\n",
      "\n",
      "Something wrong with dec11_bc_dec11_bc_0_risk_averse_tie_break-cfr_port_10_extexternal_plus_linear-100 (dec11_bc_v5). Skipping. Evaluation matching query does not exist.\n",
      "Traceback (most recent call last):\n",
      "  File \"/tmp/ipykernel_3596/3763337244.py\", line 27, in <module>\n",
      "    evaluation = final_checkpoint.get_modal_eval()\n",
      "  File \"/apps/open_spiel/web/auctions/auctions/models.py\", line 96, in get_modal_eval\n",
      "    return self.evaluation_set.get(name=modal_name)\n",
      "  File \"/home/ubuntu/.pyenv/versions/3.8.2/envs/venv/lib/python3.8/site-packages/django/db/models/manager.py\", line 85, in manager_method\n",
      "    return getattr(self.get_queryset(), name)(*args, **kwargs)\n",
      "  File \"/home/ubuntu/.pyenv/versions/3.8.2/envs/venv/lib/python3.8/site-packages/django/db/models/query.py\", line 439, in get\n",
      "    raise self.model.DoesNotExist(\n",
      "auctions.models.Evaluation.DoesNotExist: Evaluation matching query does not exist.\n",
      "\n",
      "Something wrong with dec11_bc_dec11_bc_3_base_tie_break-cfr_port_10_extexternal_plus_linear-104 (dec11_bc_v5). Skipping. Evaluation matching query does not exist.\n",
      "Traceback (most recent call last):\n",
      "  File \"/tmp/ipykernel_3596/3763337244.py\", line 27, in <module>\n",
      "    evaluation = final_checkpoint.get_modal_eval()\n",
      "  File \"/apps/open_spiel/web/auctions/auctions/models.py\", line 96, in get_modal_eval\n",
      "    return self.evaluation_set.get(name=modal_name)\n",
      "  File \"/home/ubuntu/.pyenv/versions/3.8.2/envs/venv/lib/python3.8/site-packages/django/db/models/manager.py\", line 85, in manager_method\n",
      "    return getattr(self.get_queryset(), name)(*args, **kwargs)\n",
      "  File \"/home/ubuntu/.pyenv/versions/3.8.2/envs/venv/lib/python3.8/site-packages/django/db/models/query.py\", line 439, in get\n",
      "    raise self.model.DoesNotExist(\n",
      "auctions.models.Evaluation.DoesNotExist: Evaluation matching query does not exist.\n",
      "\n",
      "Something wrong with dec11_bc_dec11_bc_4_base-cfr_port_10_extexternal_plus_linear-100 (dec11_bc_v5). Skipping. Evaluation matching query does not exist.\n",
      "Traceback (most recent call last):\n",
      "  File \"/tmp/ipykernel_3596/3763337244.py\", line 27, in <module>\n",
      "    evaluation = final_checkpoint.get_modal_eval()\n",
      "  File \"/apps/open_spiel/web/auctions/auctions/models.py\", line 96, in get_modal_eval\n",
      "    return self.evaluation_set.get(name=modal_name)\n",
      "  File \"/home/ubuntu/.pyenv/versions/3.8.2/envs/venv/lib/python3.8/site-packages/django/db/models/manager.py\", line 85, in manager_method\n",
      "    return getattr(self.get_queryset(), name)(*args, **kwargs)\n",
      "  File \"/home/ubuntu/.pyenv/versions/3.8.2/envs/venv/lib/python3.8/site-packages/django/db/models/query.py\", line 439, in get\n",
      "    raise self.model.DoesNotExist(\n",
      "auctions.models.Evaluation.DoesNotExist: Evaluation matching query does not exist.\n",
      "\n",
      "Something wrong with dec11_bc_dec11_bc_4_base-cfr_port_10_extexternal_plus_linear-101 (dec11_bc_v5). Skipping. Evaluation matching query does not exist.\n",
      "Traceback (most recent call last):\n",
      "  File \"/tmp/ipykernel_3596/3763337244.py\", line 27, in <module>\n",
      "    evaluation = final_checkpoint.get_modal_eval()\n",
      "  File \"/apps/open_spiel/web/auctions/auctions/models.py\", line 96, in get_modal_eval\n",
      "    return self.evaluation_set.get(name=modal_name)\n",
      "  File \"/home/ubuntu/.pyenv/versions/3.8.2/envs/venv/lib/python3.8/site-packages/django/db/models/manager.py\", line 85, in manager_method\n",
      "    return getattr(self.get_queryset(), name)(*args, **kwargs)\n",
      "  File \"/home/ubuntu/.pyenv/versions/3.8.2/envs/venv/lib/python3.8/site-packages/django/db/models/query.py\", line 439, in get\n",
      "    raise self.model.DoesNotExist(\n",
      "auctions.models.Evaluation.DoesNotExist: Evaluation matching query does not exist.\n",
      "\n",
      "Something wrong with dec11_bc_dec11_bc_0_risk_averse_tie_break-cfr_port_10_extexternal_plus_linear-104 (dec11_bc_v5). Skipping. Evaluation matching query does not exist.\n",
      "Traceback (most recent call last):\n",
      "  File \"/tmp/ipykernel_3596/3763337244.py\", line 27, in <module>\n",
      "    evaluation = final_checkpoint.get_modal_eval()\n",
      "  File \"/apps/open_spiel/web/auctions/auctions/models.py\", line 96, in get_modal_eval\n",
      "    return self.evaluation_set.get(name=modal_name)\n",
      "  File \"/home/ubuntu/.pyenv/versions/3.8.2/envs/venv/lib/python3.8/site-packages/django/db/models/manager.py\", line 85, in manager_method\n",
      "    return getattr(self.get_queryset(), name)(*args, **kwargs)\n",
      "  File \"/home/ubuntu/.pyenv/versions/3.8.2/envs/venv/lib/python3.8/site-packages/django/db/models/query.py\", line 439, in get\n",
      "    raise self.model.DoesNotExist(\n",
      "auctions.models.Evaluation.DoesNotExist: Evaluation matching query does not exist.\n",
      "\n",
      "Something wrong with dec11_bc_dec11_bc_2_risk_averse_tie_break-cfr_port_10_extexternal_plus_linear-101 (dec11_bc_v5). Skipping. Evaluation matching query does not exist.\n",
      "Traceback (most recent call last):\n",
      "  File \"/tmp/ipykernel_3596/3763337244.py\", line 27, in <module>\n",
      "    evaluation = final_checkpoint.get_modal_eval()\n",
      "  File \"/apps/open_spiel/web/auctions/auctions/models.py\", line 96, in get_modal_eval\n",
      "    return self.evaluation_set.get(name=modal_name)\n",
      "  File \"/home/ubuntu/.pyenv/versions/3.8.2/envs/venv/lib/python3.8/site-packages/django/db/models/manager.py\", line 85, in manager_method\n",
      "    return getattr(self.get_queryset(), name)(*args, **kwargs)\n",
      "  File \"/home/ubuntu/.pyenv/versions/3.8.2/envs/venv/lib/python3.8/site-packages/django/db/models/query.py\", line 439, in get\n",
      "    raise self.model.DoesNotExist(\n",
      "auctions.models.Evaluation.DoesNotExist: Evaluation matching query does not exist.\n",
      "\n",
      "Something wrong with dec11_bc_dec11_bc_0_risk_averse_tie_break-cfr_port_10_extexternal_plus_linear-103 (dec11_bc_v5). Skipping. Evaluation matching query does not exist.\n",
      "Traceback (most recent call last):\n",
      "  File \"/tmp/ipykernel_3596/3763337244.py\", line 27, in <module>\n",
      "    evaluation = final_checkpoint.get_modal_eval()\n",
      "  File \"/apps/open_spiel/web/auctions/auctions/models.py\", line 96, in get_modal_eval\n",
      "    return self.evaluation_set.get(name=modal_name)\n",
      "  File \"/home/ubuntu/.pyenv/versions/3.8.2/envs/venv/lib/python3.8/site-packages/django/db/models/manager.py\", line 85, in manager_method\n",
      "    return getattr(self.get_queryset(), name)(*args, **kwargs)\n",
      "  File \"/home/ubuntu/.pyenv/versions/3.8.2/envs/venv/lib/python3.8/site-packages/django/db/models/query.py\", line 439, in get\n",
      "    raise self.model.DoesNotExist(\n",
      "auctions.models.Evaluation.DoesNotExist: Evaluation matching query does not exist.\n",
      "\n",
      "Something wrong with dec11_bc_dec11_bc_2_risk_averse_tie_break-cfr_port_10_extexternal_plus_linear-102 (dec11_bc_v5). Skipping. Evaluation matching query does not exist.\n",
      "Traceback (most recent call last):\n",
      "  File \"/tmp/ipykernel_3596/3763337244.py\", line 27, in <module>\n",
      "    evaluation = final_checkpoint.get_modal_eval()\n",
      "  File \"/apps/open_spiel/web/auctions/auctions/models.py\", line 96, in get_modal_eval\n",
      "    return self.evaluation_set.get(name=modal_name)\n",
      "  File \"/home/ubuntu/.pyenv/versions/3.8.2/envs/venv/lib/python3.8/site-packages/django/db/models/manager.py\", line 85, in manager_method\n",
      "    return getattr(self.get_queryset(), name)(*args, **kwargs)\n",
      "  File \"/home/ubuntu/.pyenv/versions/3.8.2/envs/venv/lib/python3.8/site-packages/django/db/models/query.py\", line 439, in get\n",
      "    raise self.model.DoesNotExist(\n",
      "auctions.models.Evaluation.DoesNotExist: Evaluation matching query does not exist.\n",
      "\n",
      "Something wrong with dec11_bc_dec11_bc_0_base-cfr_port_10_extexternal_plus_linear-104 (dec11_bc_v5). Skipping. Evaluation matching query does not exist.\n",
      "Traceback (most recent call last):\n",
      "  File \"/tmp/ipykernel_3596/3763337244.py\", line 27, in <module>\n",
      "    evaluation = final_checkpoint.get_modal_eval()\n",
      "  File \"/apps/open_spiel/web/auctions/auctions/models.py\", line 96, in get_modal_eval\n",
      "    return self.evaluation_set.get(name=modal_name)\n",
      "  File \"/home/ubuntu/.pyenv/versions/3.8.2/envs/venv/lib/python3.8/site-packages/django/db/models/manager.py\", line 85, in manager_method\n",
      "    return getattr(self.get_queryset(), name)(*args, **kwargs)\n",
      "  File \"/home/ubuntu/.pyenv/versions/3.8.2/envs/venv/lib/python3.8/site-packages/django/db/models/query.py\", line 439, in get\n",
      "    raise self.model.DoesNotExist(\n",
      "auctions.models.Evaluation.DoesNotExist: Evaluation matching query does not exist.\n",
      "\n",
      "Something wrong with dec11_bc_dec11_bc_0_base-cfr_port_10_extexternal_plus_linear-103 (dec11_bc_v5). Skipping. Evaluation matching query does not exist.\n",
      "Traceback (most recent call last):\n",
      "  File \"/tmp/ipykernel_3596/3763337244.py\", line 27, in <module>\n",
      "    evaluation = final_checkpoint.get_modal_eval()\n",
      "  File \"/apps/open_spiel/web/auctions/auctions/models.py\", line 96, in get_modal_eval\n",
      "    return self.evaluation_set.get(name=modal_name)\n",
      "  File \"/home/ubuntu/.pyenv/versions/3.8.2/envs/venv/lib/python3.8/site-packages/django/db/models/manager.py\", line 85, in manager_method\n",
      "    return getattr(self.get_queryset(), name)(*args, **kwargs)\n",
      "  File \"/home/ubuntu/.pyenv/versions/3.8.2/envs/venv/lib/python3.8/site-packages/django/db/models/query.py\", line 439, in get\n",
      "    raise self.model.DoesNotExist(\n",
      "auctions.models.Evaluation.DoesNotExist: Evaluation matching query does not exist.\n",
      "\n",
      "Something wrong with dec11_bc_dec11_bc_2_risk_averse-cfr_port_10_extexternal_plus_linear-102 (dec11_bc_v5). Skipping. Evaluation matching query does not exist.\n",
      "Traceback (most recent call last):\n",
      "  File \"/tmp/ipykernel_3596/3763337244.py\", line 27, in <module>\n",
      "    evaluation = final_checkpoint.get_modal_eval()\n",
      "  File \"/apps/open_spiel/web/auctions/auctions/models.py\", line 96, in get_modal_eval\n",
      "    return self.evaluation_set.get(name=modal_name)\n",
      "  File \"/home/ubuntu/.pyenv/versions/3.8.2/envs/venv/lib/python3.8/site-packages/django/db/models/manager.py\", line 85, in manager_method\n",
      "    return getattr(self.get_queryset(), name)(*args, **kwargs)\n",
      "  File \"/home/ubuntu/.pyenv/versions/3.8.2/envs/venv/lib/python3.8/site-packages/django/db/models/query.py\", line 439, in get\n",
      "    raise self.model.DoesNotExist(\n",
      "auctions.models.Evaluation.DoesNotExist: Evaluation matching query does not exist.\n",
      "\n",
      "Something wrong with dec11_bc_dec11_bc_2_risk_averse-cfr_port_10_extexternal_plus_linear-103 (dec11_bc_v5). Skipping. Evaluation matching query does not exist.\n",
      "Traceback (most recent call last):\n",
      "  File \"/tmp/ipykernel_3596/3763337244.py\", line 27, in <module>\n",
      "    evaluation = final_checkpoint.get_modal_eval()\n",
      "  File \"/apps/open_spiel/web/auctions/auctions/models.py\", line 96, in get_modal_eval\n",
      "    return self.evaluation_set.get(name=modal_name)\n",
      "  File \"/home/ubuntu/.pyenv/versions/3.8.2/envs/venv/lib/python3.8/site-packages/django/db/models/manager.py\", line 85, in manager_method\n",
      "    return getattr(self.get_queryset(), name)(*args, **kwargs)\n",
      "  File \"/home/ubuntu/.pyenv/versions/3.8.2/envs/venv/lib/python3.8/site-packages/django/db/models/query.py\", line 439, in get\n",
      "    raise self.model.DoesNotExist(\n",
      "auctions.models.Evaluation.DoesNotExist: Evaluation matching query does not exist.\n",
      "\n",
      "Something wrong with dec11_bc_dec11_bc_4_base_tie_break-cfr_port_10_extexternal_plus_linear-102 (dec11_bc_v5). Skipping. Evaluation matching query does not exist.\n",
      "Traceback (most recent call last):\n",
      "  File \"/tmp/ipykernel_3596/3763337244.py\", line 27, in <module>\n",
      "    evaluation = final_checkpoint.get_modal_eval()\n",
      "  File \"/apps/open_spiel/web/auctions/auctions/models.py\", line 96, in get_modal_eval\n",
      "    return self.evaluation_set.get(name=modal_name)\n",
      "  File \"/home/ubuntu/.pyenv/versions/3.8.2/envs/venv/lib/python3.8/site-packages/django/db/models/manager.py\", line 85, in manager_method\n",
      "    return getattr(self.get_queryset(), name)(*args, **kwargs)\n",
      "  File \"/home/ubuntu/.pyenv/versions/3.8.2/envs/venv/lib/python3.8/site-packages/django/db/models/query.py\", line 439, in get\n",
      "    raise self.model.DoesNotExist(\n",
      "auctions.models.Evaluation.DoesNotExist: Evaluation matching query does not exist.\n",
      "\n",
      "Something wrong with dec11_bc_dec11_bc_4_base_tie_break-cfr_port_10_extexternal_plus_linear-103 (dec11_bc_v5). Skipping. Evaluation matching query does not exist.\n",
      "Traceback (most recent call last):\n",
      "  File \"/tmp/ipykernel_3596/3763337244.py\", line 27, in <module>\n",
      "    evaluation = final_checkpoint.get_modal_eval()\n",
      "  File \"/apps/open_spiel/web/auctions/auctions/models.py\", line 96, in get_modal_eval\n",
      "    return self.evaluation_set.get(name=modal_name)\n",
      "  File \"/home/ubuntu/.pyenv/versions/3.8.2/envs/venv/lib/python3.8/site-packages/django/db/models/manager.py\", line 85, in manager_method\n",
      "    return getattr(self.get_queryset(), name)(*args, **kwargs)\n",
      "  File \"/home/ubuntu/.pyenv/versions/3.8.2/envs/venv/lib/python3.8/site-packages/django/db/models/query.py\", line 439, in get\n",
      "    raise self.model.DoesNotExist(\n",
      "auctions.models.Evaluation.DoesNotExist: Evaluation matching query does not exist.\n",
      "\n",
      "Something wrong with dec11_bc_dec11_bc_4_risk_averse-cfr_port_10_extexternal_plus_linear-103 (dec11_bc_v5). Skipping. Evaluation matching query does not exist.\n",
      "Traceback (most recent call last):\n",
      "  File \"/tmp/ipykernel_3596/3763337244.py\", line 27, in <module>\n",
      "    evaluation = final_checkpoint.get_modal_eval()\n",
      "  File \"/apps/open_spiel/web/auctions/auctions/models.py\", line 96, in get_modal_eval\n",
      "    return self.evaluation_set.get(name=modal_name)\n",
      "  File \"/home/ubuntu/.pyenv/versions/3.8.2/envs/venv/lib/python3.8/site-packages/django/db/models/manager.py\", line 85, in manager_method\n",
      "    return getattr(self.get_queryset(), name)(*args, **kwargs)\n",
      "  File \"/home/ubuntu/.pyenv/versions/3.8.2/envs/venv/lib/python3.8/site-packages/django/db/models/query.py\", line 439, in get\n",
      "    raise self.model.DoesNotExist(\n",
      "auctions.models.Evaluation.DoesNotExist: Evaluation matching query does not exist.\n",
      "\n",
      "Something wrong with dec11_bc_dec11_bc_4_risk_averse-cfr_port_10_extexternal_plus_linear-102 (dec11_bc_v5). Skipping. Evaluation matching query does not exist.\n",
      "Traceback (most recent call last):\n",
      "  File \"/tmp/ipykernel_3596/3763337244.py\", line 27, in <module>\n",
      "    evaluation = final_checkpoint.get_modal_eval()\n",
      "  File \"/apps/open_spiel/web/auctions/auctions/models.py\", line 96, in get_modal_eval\n",
      "    return self.evaluation_set.get(name=modal_name)\n",
      "  File \"/home/ubuntu/.pyenv/versions/3.8.2/envs/venv/lib/python3.8/site-packages/django/db/models/manager.py\", line 85, in manager_method\n",
      "    return getattr(self.get_queryset(), name)(*args, **kwargs)\n",
      "  File \"/home/ubuntu/.pyenv/versions/3.8.2/envs/venv/lib/python3.8/site-packages/django/db/models/query.py\", line 439, in get\n",
      "    raise self.model.DoesNotExist(\n",
      "auctions.models.Evaluation.DoesNotExist: Evaluation matching query does not exist.\n",
      "\n",
      "Something wrong with dec11_bc_dec11_bc_4_base-cfr_port_10_extexternal_plus_linear-103 (dec11_bc_v5). Skipping. Evaluation matching query does not exist.\n",
      "Traceback (most recent call last):\n",
      "  File \"/tmp/ipykernel_3596/3763337244.py\", line 27, in <module>\n",
      "    evaluation = final_checkpoint.get_modal_eval()\n",
      "  File \"/apps/open_spiel/web/auctions/auctions/models.py\", line 96, in get_modal_eval\n",
      "    return self.evaluation_set.get(name=modal_name)\n",
      "  File \"/home/ubuntu/.pyenv/versions/3.8.2/envs/venv/lib/python3.8/site-packages/django/db/models/manager.py\", line 85, in manager_method\n",
      "    return getattr(self.get_queryset(), name)(*args, **kwargs)\n",
      "  File \"/home/ubuntu/.pyenv/versions/3.8.2/envs/venv/lib/python3.8/site-packages/django/db/models/query.py\", line 439, in get\n",
      "    raise self.model.DoesNotExist(\n",
      "auctions.models.Evaluation.DoesNotExist: Evaluation matching query does not exist.\n",
      "\n",
      "Something wrong with dec11_bc_dec11_bc_4_base-cfr_port_10_extexternal_plus_linear-102 (dec11_bc_v5). Skipping. Evaluation matching query does not exist.\n",
      "Traceback (most recent call last):\n",
      "  File \"/tmp/ipykernel_3596/3763337244.py\", line 27, in <module>\n",
      "    evaluation = final_checkpoint.get_modal_eval()\n",
      "  File \"/apps/open_spiel/web/auctions/auctions/models.py\", line 96, in get_modal_eval\n",
      "    return self.evaluation_set.get(name=modal_name)\n",
      "  File \"/home/ubuntu/.pyenv/versions/3.8.2/envs/venv/lib/python3.8/site-packages/django/db/models/manager.py\", line 85, in manager_method\n",
      "    return getattr(self.get_queryset(), name)(*args, **kwargs)\n",
      "  File \"/home/ubuntu/.pyenv/versions/3.8.2/envs/venv/lib/python3.8/site-packages/django/db/models/query.py\", line 439, in get\n",
      "    raise self.model.DoesNotExist(\n",
      "auctions.models.Evaluation.DoesNotExist: Evaluation matching query does not exist.\n",
      "\n",
      "Something wrong with dec11_bc_dec11_bc_1_base_tie_break-cfr_port_10_extexternal_plus_linear-100 (dec11_bc_v5). Skipping. Evaluation matching query does not exist.\n",
      "Traceback (most recent call last):\n",
      "  File \"/tmp/ipykernel_3596/3763337244.py\", line 27, in <module>\n",
      "    evaluation = final_checkpoint.get_modal_eval()\n",
      "  File \"/apps/open_spiel/web/auctions/auctions/models.py\", line 96, in get_modal_eval\n",
      "    return self.evaluation_set.get(name=modal_name)\n",
      "  File \"/home/ubuntu/.pyenv/versions/3.8.2/envs/venv/lib/python3.8/site-packages/django/db/models/manager.py\", line 85, in manager_method\n",
      "    return getattr(self.get_queryset(), name)(*args, **kwargs)\n",
      "  File \"/home/ubuntu/.pyenv/versions/3.8.2/envs/venv/lib/python3.8/site-packages/django/db/models/query.py\", line 439, in get\n",
      "    raise self.model.DoesNotExist(\n",
      "auctions.models.Evaluation.DoesNotExist: Evaluation matching query does not exist.\n",
      "\n",
      "Something wrong with dec11_bc_dec11_bc_4_risk_averse-cfr_port_10_extexternal_plus_linear-104 (dec11_bc_v5). Skipping. Evaluation matching query does not exist.\n",
      "Traceback (most recent call last):\n",
      "  File \"/tmp/ipykernel_3596/3763337244.py\", line 27, in <module>\n",
      "    evaluation = final_checkpoint.get_modal_eval()\n",
      "  File \"/apps/open_spiel/web/auctions/auctions/models.py\", line 96, in get_modal_eval\n",
      "    return self.evaluation_set.get(name=modal_name)\n",
      "  File \"/home/ubuntu/.pyenv/versions/3.8.2/envs/venv/lib/python3.8/site-packages/django/db/models/manager.py\", line 85, in manager_method\n",
      "    return getattr(self.get_queryset(), name)(*args, **kwargs)\n",
      "  File \"/home/ubuntu/.pyenv/versions/3.8.2/envs/venv/lib/python3.8/site-packages/django/db/models/query.py\", line 439, in get\n",
      "    raise self.model.DoesNotExist(\n",
      "auctions.models.Evaluation.DoesNotExist: Evaluation matching query does not exist.\n",
      "\n",
      "Something wrong with dec11_bc_dec11_bc_3_base_tie_break-cfr_port_10_extexternal_plus_linear-100 (dec11_bc_v5). Skipping. Evaluation matching query does not exist.\n",
      "Traceback (most recent call last):\n",
      "  File \"/tmp/ipykernel_3596/3763337244.py\", line 27, in <module>\n",
      "    evaluation = final_checkpoint.get_modal_eval()\n",
      "  File \"/apps/open_spiel/web/auctions/auctions/models.py\", line 96, in get_modal_eval\n",
      "    return self.evaluation_set.get(name=modal_name)\n",
      "  File \"/home/ubuntu/.pyenv/versions/3.8.2/envs/venv/lib/python3.8/site-packages/django/db/models/manager.py\", line 85, in manager_method\n",
      "    return getattr(self.get_queryset(), name)(*args, **kwargs)\n",
      "  File \"/home/ubuntu/.pyenv/versions/3.8.2/envs/venv/lib/python3.8/site-packages/django/db/models/query.py\", line 439, in get\n",
      "    raise self.model.DoesNotExist(\n",
      "auctions.models.Evaluation.DoesNotExist: Evaluation matching query does not exist.\n",
      "\n",
      "Something wrong with dec11_bc_dec11_bc_3_base-cfr_port_10_extexternal_plus_linear-104 (dec11_bc_v5). Skipping. Evaluation matching query does not exist.\n",
      "Traceback (most recent call last):\n",
      "  File \"/tmp/ipykernel_3596/3763337244.py\", line 27, in <module>\n",
      "    evaluation = final_checkpoint.get_modal_eval()\n",
      "  File \"/apps/open_spiel/web/auctions/auctions/models.py\", line 96, in get_modal_eval\n",
      "    return self.evaluation_set.get(name=modal_name)\n",
      "  File \"/home/ubuntu/.pyenv/versions/3.8.2/envs/venv/lib/python3.8/site-packages/django/db/models/manager.py\", line 85, in manager_method\n",
      "    return getattr(self.get_queryset(), name)(*args, **kwargs)\n",
      "  File \"/home/ubuntu/.pyenv/versions/3.8.2/envs/venv/lib/python3.8/site-packages/django/db/models/query.py\", line 439, in get\n",
      "    raise self.model.DoesNotExist(\n",
      "auctions.models.Evaluation.DoesNotExist: Evaluation matching query does not exist.\n",
      "\n",
      "Something wrong with dec11_bc_dec11_bc_3_base-cfr_port_10_extexternal_plus_linear-102 (dec11_bc_v5). Skipping. Evaluation matching query does not exist.\n",
      "Traceback (most recent call last):\n",
      "  File \"/tmp/ipykernel_3596/3763337244.py\", line 27, in <module>\n",
      "    evaluation = final_checkpoint.get_modal_eval()\n",
      "  File \"/apps/open_spiel/web/auctions/auctions/models.py\", line 96, in get_modal_eval\n",
      "    return self.evaluation_set.get(name=modal_name)\n",
      "  File \"/home/ubuntu/.pyenv/versions/3.8.2/envs/venv/lib/python3.8/site-packages/django/db/models/manager.py\", line 85, in manager_method\n",
      "    return getattr(self.get_queryset(), name)(*args, **kwargs)\n",
      "  File \"/home/ubuntu/.pyenv/versions/3.8.2/envs/venv/lib/python3.8/site-packages/django/db/models/query.py\", line 439, in get\n",
      "    raise self.model.DoesNotExist(\n",
      "auctions.models.Evaluation.DoesNotExist: Evaluation matching query does not exist.\n",
      "\n",
      "Something wrong with dec11_bc_dec11_bc_1_base_tie_break-cfr_port_10_extexternal_plus_linear-104 (dec11_bc_v5). Skipping. Evaluation matching query does not exist.\n",
      "Traceback (most recent call last):\n",
      "  File \"/tmp/ipykernel_3596/3763337244.py\", line 27, in <module>\n",
      "    evaluation = final_checkpoint.get_modal_eval()\n",
      "  File \"/apps/open_spiel/web/auctions/auctions/models.py\", line 96, in get_modal_eval\n",
      "    return self.evaluation_set.get(name=modal_name)\n",
      "  File \"/home/ubuntu/.pyenv/versions/3.8.2/envs/venv/lib/python3.8/site-packages/django/db/models/manager.py\", line 85, in manager_method\n",
      "    return getattr(self.get_queryset(), name)(*args, **kwargs)\n",
      "  File \"/home/ubuntu/.pyenv/versions/3.8.2/envs/venv/lib/python3.8/site-packages/django/db/models/query.py\", line 439, in get\n",
      "    raise self.model.DoesNotExist(\n",
      "auctions.models.Evaluation.DoesNotExist: Evaluation matching query does not exist.\n",
      "\n",
      "Something wrong with dec11_bc_dec11_bc_4_base-cfr_port_10_extexternal_plus_linear-104 (dec11_bc_v5). Skipping. Evaluation matching query does not exist.\n",
      "Traceback (most recent call last):\n",
      "  File \"/tmp/ipykernel_3596/3763337244.py\", line 27, in <module>\n",
      "    evaluation = final_checkpoint.get_modal_eval()\n",
      "  File \"/apps/open_spiel/web/auctions/auctions/models.py\", line 96, in get_modal_eval\n",
      "    return self.evaluation_set.get(name=modal_name)\n",
      "  File \"/home/ubuntu/.pyenv/versions/3.8.2/envs/venv/lib/python3.8/site-packages/django/db/models/manager.py\", line 85, in manager_method\n",
      "    return getattr(self.get_queryset(), name)(*args, **kwargs)\n",
      "  File \"/home/ubuntu/.pyenv/versions/3.8.2/envs/venv/lib/python3.8/site-packages/django/db/models/query.py\", line 439, in get\n",
      "    raise self.model.DoesNotExist(\n",
      "auctions.models.Evaluation.DoesNotExist: Evaluation matching query does not exist.\n",
      "\n",
      "Something wrong with dec11_bc_dec11_bc_2_risk_averse_tie_break-cfr_port_10_extexternal_plus_linear-100 (dec11_bc_v5). Skipping. Evaluation matching query does not exist.\n",
      "Traceback (most recent call last):\n",
      "  File \"/tmp/ipykernel_3596/3763337244.py\", line 27, in <module>\n",
      "    evaluation = final_checkpoint.get_modal_eval()\n",
      "  File \"/apps/open_spiel/web/auctions/auctions/models.py\", line 96, in get_modal_eval\n",
      "    return self.evaluation_set.get(name=modal_name)\n",
      "  File \"/home/ubuntu/.pyenv/versions/3.8.2/envs/venv/lib/python3.8/site-packages/django/db/models/manager.py\", line 85, in manager_method\n",
      "    return getattr(self.get_queryset(), name)(*args, **kwargs)\n",
      "  File \"/home/ubuntu/.pyenv/versions/3.8.2/envs/venv/lib/python3.8/site-packages/django/db/models/query.py\", line 439, in get\n",
      "    raise self.model.DoesNotExist(\n",
      "auctions.models.Evaluation.DoesNotExist: Evaluation matching query does not exist.\n",
      "\n",
      "Something wrong with dec11_bc_dec11_bc_1_base_tie_break-cfr_port_10_extexternal_plus_linear-103 (dec11_bc_v5). Skipping. Evaluation matching query does not exist.\n",
      "Traceback (most recent call last):\n",
      "  File \"/tmp/ipykernel_3596/3763337244.py\", line 27, in <module>\n",
      "    evaluation = final_checkpoint.get_modal_eval()\n",
      "  File \"/apps/open_spiel/web/auctions/auctions/models.py\", line 96, in get_modal_eval\n",
      "    return self.evaluation_set.get(name=modal_name)\n",
      "  File \"/home/ubuntu/.pyenv/versions/3.8.2/envs/venv/lib/python3.8/site-packages/django/db/models/manager.py\", line 85, in manager_method\n",
      "    return getattr(self.get_queryset(), name)(*args, **kwargs)\n",
      "  File \"/home/ubuntu/.pyenv/versions/3.8.2/envs/venv/lib/python3.8/site-packages/django/db/models/query.py\", line 439, in get\n",
      "    raise self.model.DoesNotExist(\n",
      "auctions.models.Evaluation.DoesNotExist: Evaluation matching query does not exist.\n",
      "\n",
      "Something wrong with dec11_bc_dec11_bc_3_base_tie_break-cfr_port_10_extexternal_plus_linear-102 (dec11_bc_v5). Skipping. Evaluation matching query does not exist.\n",
      "Traceback (most recent call last):\n",
      "  File \"/tmp/ipykernel_3596/3763337244.py\", line 27, in <module>\n",
      "    evaluation = final_checkpoint.get_modal_eval()\n",
      "  File \"/apps/open_spiel/web/auctions/auctions/models.py\", line 96, in get_modal_eval\n",
      "    return self.evaluation_set.get(name=modal_name)\n",
      "  File \"/home/ubuntu/.pyenv/versions/3.8.2/envs/venv/lib/python3.8/site-packages/django/db/models/manager.py\", line 85, in manager_method\n",
      "    return getattr(self.get_queryset(), name)(*args, **kwargs)\n",
      "  File \"/home/ubuntu/.pyenv/versions/3.8.2/envs/venv/lib/python3.8/site-packages/django/db/models/query.py\", line 439, in get\n",
      "    raise self.model.DoesNotExist(\n",
      "auctions.models.Evaluation.DoesNotExist: Evaluation matching query does not exist.\n",
      "\n",
      "Something wrong with dec11_bc_dec11_bc_3_base_tie_break-cfr_port_10_extexternal_plus_linear-101 (dec11_bc_v5). Skipping. Evaluation matching query does not exist.\n",
      "Traceback (most recent call last):\n",
      "  File \"/tmp/ipykernel_3596/3763337244.py\", line 27, in <module>\n",
      "    evaluation = final_checkpoint.get_modal_eval()\n",
      "  File \"/apps/open_spiel/web/auctions/auctions/models.py\", line 96, in get_modal_eval\n",
      "    return self.evaluation_set.get(name=modal_name)\n",
      "  File \"/home/ubuntu/.pyenv/versions/3.8.2/envs/venv/lib/python3.8/site-packages/django/db/models/manager.py\", line 85, in manager_method\n",
      "    return getattr(self.get_queryset(), name)(*args, **kwargs)\n",
      "  File \"/home/ubuntu/.pyenv/versions/3.8.2/envs/venv/lib/python3.8/site-packages/django/db/models/query.py\", line 439, in get\n",
      "    raise self.model.DoesNotExist(\n",
      "auctions.models.Evaluation.DoesNotExist: Evaluation matching query does not exist.\n",
      "\n"
     ]
    },
    {
     "name": "stderr",
     "output_type": "stream",
     "text": [
      " 49%|████████████████████▌                     | 49/100 [00:01<00:01, 35.08it/s]"
     ]
    },
    {
     "name": "stdout",
     "output_type": "stream",
     "text": [
      "Something wrong with dec11_bc_dec11_bc_3_risk_averse-cfr_port_10_extexternal_plus_linear-100 (dec11_bc_v5). Skipping. Evaluation matching query does not exist.\n",
      "Traceback (most recent call last):\n",
      "  File \"/tmp/ipykernel_3596/3763337244.py\", line 27, in <module>\n",
      "    evaluation = final_checkpoint.get_modal_eval()\n",
      "  File \"/apps/open_spiel/web/auctions/auctions/models.py\", line 96, in get_modal_eval\n",
      "    return self.evaluation_set.get(name=modal_name)\n",
      "  File \"/home/ubuntu/.pyenv/versions/3.8.2/envs/venv/lib/python3.8/site-packages/django/db/models/manager.py\", line 85, in manager_method\n",
      "    return getattr(self.get_queryset(), name)(*args, **kwargs)\n",
      "  File \"/home/ubuntu/.pyenv/versions/3.8.2/envs/venv/lib/python3.8/site-packages/django/db/models/query.py\", line 439, in get\n",
      "    raise self.model.DoesNotExist(\n",
      "auctions.models.Evaluation.DoesNotExist: Evaluation matching query does not exist.\n",
      "\n",
      "Something wrong with dec11_bc_dec11_bc_2_risk_averse-cfr_port_10_extexternal_plus_linear-104 (dec11_bc_v5). Skipping. Evaluation matching query does not exist.\n",
      "Traceback (most recent call last):\n",
      "  File \"/tmp/ipykernel_3596/3763337244.py\", line 27, in <module>\n",
      "    evaluation = final_checkpoint.get_modal_eval()\n",
      "  File \"/apps/open_spiel/web/auctions/auctions/models.py\", line 96, in get_modal_eval\n",
      "    return self.evaluation_set.get(name=modal_name)\n",
      "  File \"/home/ubuntu/.pyenv/versions/3.8.2/envs/venv/lib/python3.8/site-packages/django/db/models/manager.py\", line 85, in manager_method\n",
      "    return getattr(self.get_queryset(), name)(*args, **kwargs)\n",
      "  File \"/home/ubuntu/.pyenv/versions/3.8.2/envs/venv/lib/python3.8/site-packages/django/db/models/query.py\", line 439, in get\n",
      "    raise self.model.DoesNotExist(\n",
      "auctions.models.Evaluation.DoesNotExist: Evaluation matching query does not exist.\n",
      "\n",
      "Something wrong with dec11_bc_dec11_bc_0_risk_averse_tie_break-cfr_port_10_extexternal_plus_linear-101 (dec11_bc_v5). Skipping. Evaluation matching query does not exist.\n",
      "Traceback (most recent call last):\n",
      "  File \"/tmp/ipykernel_3596/3763337244.py\", line 27, in <module>\n",
      "    evaluation = final_checkpoint.get_modal_eval()\n",
      "  File \"/apps/open_spiel/web/auctions/auctions/models.py\", line 96, in get_modal_eval\n",
      "    return self.evaluation_set.get(name=modal_name)\n",
      "  File \"/home/ubuntu/.pyenv/versions/3.8.2/envs/venv/lib/python3.8/site-packages/django/db/models/manager.py\", line 85, in manager_method\n",
      "    return getattr(self.get_queryset(), name)(*args, **kwargs)\n",
      "  File \"/home/ubuntu/.pyenv/versions/3.8.2/envs/venv/lib/python3.8/site-packages/django/db/models/query.py\", line 439, in get\n",
      "    raise self.model.DoesNotExist(\n",
      "auctions.models.Evaluation.DoesNotExist: Evaluation matching query does not exist.\n",
      "\n",
      "Something wrong with dec11_bc_dec11_bc_0_risk_averse_tie_break-cfr_port_10_extexternal_plus_linear-102 (dec11_bc_v5). Skipping. Evaluation matching query does not exist.\n",
      "Traceback (most recent call last):\n",
      "  File \"/tmp/ipykernel_3596/3763337244.py\", line 27, in <module>\n",
      "    evaluation = final_checkpoint.get_modal_eval()\n",
      "  File \"/apps/open_spiel/web/auctions/auctions/models.py\", line 96, in get_modal_eval\n",
      "    return self.evaluation_set.get(name=modal_name)\n",
      "  File \"/home/ubuntu/.pyenv/versions/3.8.2/envs/venv/lib/python3.8/site-packages/django/db/models/manager.py\", line 85, in manager_method\n",
      "    return getattr(self.get_queryset(), name)(*args, **kwargs)\n",
      "  File \"/home/ubuntu/.pyenv/versions/3.8.2/envs/venv/lib/python3.8/site-packages/django/db/models/query.py\", line 439, in get\n",
      "    raise self.model.DoesNotExist(\n",
      "auctions.models.Evaluation.DoesNotExist: Evaluation matching query does not exist.\n",
      "\n",
      "Something wrong with dec11_bc_dec11_bc_1_risk_averse-cfr_port_10_extexternal_plus_linear-100 (dec11_bc_v5). Skipping. Evaluation matching query does not exist.\n",
      "Traceback (most recent call last):\n",
      "  File \"/tmp/ipykernel_3596/3763337244.py\", line 27, in <module>\n",
      "    evaluation = final_checkpoint.get_modal_eval()\n",
      "  File \"/apps/open_spiel/web/auctions/auctions/models.py\", line 96, in get_modal_eval\n",
      "    return self.evaluation_set.get(name=modal_name)\n",
      "  File \"/home/ubuntu/.pyenv/versions/3.8.2/envs/venv/lib/python3.8/site-packages/django/db/models/manager.py\", line 85, in manager_method\n",
      "    return getattr(self.get_queryset(), name)(*args, **kwargs)\n",
      "  File \"/home/ubuntu/.pyenv/versions/3.8.2/envs/venv/lib/python3.8/site-packages/django/db/models/query.py\", line 439, in get\n",
      "    raise self.model.DoesNotExist(\n",
      "auctions.models.Evaluation.DoesNotExist: Evaluation matching query does not exist.\n",
      "\n"
     ]
    },
    {
     "name": "stderr",
     "output_type": "stream",
     "text": [
      " 58%|████████████████████████▎                 | 58/100 [00:01<00:01, 31.64it/s]"
     ]
    },
    {
     "name": "stdout",
     "output_type": "stream",
     "text": [
      "Something wrong with dec11_bc_dec11_bc_3_base-cfr_port_10_extexternal_plus_linear-101 (dec11_bc_v5). Skipping. Evaluation matching query does not exist.\n",
      "Traceback (most recent call last):\n",
      "  File \"/tmp/ipykernel_3596/3763337244.py\", line 27, in <module>\n",
      "    evaluation = final_checkpoint.get_modal_eval()\n",
      "  File \"/apps/open_spiel/web/auctions/auctions/models.py\", line 96, in get_modal_eval\n",
      "    return self.evaluation_set.get(name=modal_name)\n",
      "  File \"/home/ubuntu/.pyenv/versions/3.8.2/envs/venv/lib/python3.8/site-packages/django/db/models/manager.py\", line 85, in manager_method\n",
      "    return getattr(self.get_queryset(), name)(*args, **kwargs)\n",
      "  File \"/home/ubuntu/.pyenv/versions/3.8.2/envs/venv/lib/python3.8/site-packages/django/db/models/query.py\", line 439, in get\n",
      "    raise self.model.DoesNotExist(\n",
      "auctions.models.Evaluation.DoesNotExist: Evaluation matching query does not exist.\n",
      "\n",
      "Something wrong with dec11_bc_dec11_bc_1_risk_averse-cfr_port_10_extexternal_plus_linear-103 (dec11_bc_v5). Skipping. Evaluation matching query does not exist.\n",
      "Traceback (most recent call last):\n",
      "  File \"/tmp/ipykernel_3596/3763337244.py\", line 27, in <module>\n",
      "    evaluation = final_checkpoint.get_modal_eval()\n",
      "  File \"/apps/open_spiel/web/auctions/auctions/models.py\", line 96, in get_modal_eval\n",
      "    return self.evaluation_set.get(name=modal_name)\n",
      "  File \"/home/ubuntu/.pyenv/versions/3.8.2/envs/venv/lib/python3.8/site-packages/django/db/models/manager.py\", line 85, in manager_method\n",
      "    return getattr(self.get_queryset(), name)(*args, **kwargs)\n",
      "  File \"/home/ubuntu/.pyenv/versions/3.8.2/envs/venv/lib/python3.8/site-packages/django/db/models/query.py\", line 439, in get\n",
      "    raise self.model.DoesNotExist(\n",
      "auctions.models.Evaluation.DoesNotExist: Evaluation matching query does not exist.\n",
      "\n",
      "Something wrong with dec11_bc_dec11_bc_1_risk_averse-cfr_port_10_extexternal_plus_linear-102 (dec11_bc_v5). Skipping. Evaluation matching query does not exist.\n",
      "Traceback (most recent call last):\n",
      "  File \"/tmp/ipykernel_3596/3763337244.py\", line 27, in <module>\n",
      "    evaluation = final_checkpoint.get_modal_eval()\n",
      "  File \"/apps/open_spiel/web/auctions/auctions/models.py\", line 96, in get_modal_eval\n",
      "    return self.evaluation_set.get(name=modal_name)\n",
      "  File \"/home/ubuntu/.pyenv/versions/3.8.2/envs/venv/lib/python3.8/site-packages/django/db/models/manager.py\", line 85, in manager_method\n",
      "    return getattr(self.get_queryset(), name)(*args, **kwargs)\n",
      "  File \"/home/ubuntu/.pyenv/versions/3.8.2/envs/venv/lib/python3.8/site-packages/django/db/models/query.py\", line 439, in get\n",
      "    raise self.model.DoesNotExist(\n",
      "auctions.models.Evaluation.DoesNotExist: Evaluation matching query does not exist.\n",
      "\n",
      "Something wrong with dec11_bc_dec11_bc_3_risk_averse-cfr_port_10_extexternal_plus_linear-101 (dec11_bc_v5). Skipping. Evaluation matching query does not exist.\n",
      "Traceback (most recent call last):\n",
      "  File \"/tmp/ipykernel_3596/3763337244.py\", line 27, in <module>\n",
      "    evaluation = final_checkpoint.get_modal_eval()\n",
      "  File \"/apps/open_spiel/web/auctions/auctions/models.py\", line 96, in get_modal_eval\n",
      "    return self.evaluation_set.get(name=modal_name)\n",
      "  File \"/home/ubuntu/.pyenv/versions/3.8.2/envs/venv/lib/python3.8/site-packages/django/db/models/manager.py\", line 85, in manager_method\n",
      "    return getattr(self.get_queryset(), name)(*args, **kwargs)\n",
      "  File \"/home/ubuntu/.pyenv/versions/3.8.2/envs/venv/lib/python3.8/site-packages/django/db/models/query.py\", line 439, in get\n",
      "    raise self.model.DoesNotExist(\n",
      "auctions.models.Evaluation.DoesNotExist: Evaluation matching query does not exist.\n",
      "\n",
      "Something wrong with dec11_bc_dec11_bc_3_risk_averse-cfr_port_10_extexternal_plus_linear-102 (dec11_bc_v5). Skipping. Evaluation matching query does not exist.\n",
      "Traceback (most recent call last):\n",
      "  File \"/tmp/ipykernel_3596/3763337244.py\", line 27, in <module>\n",
      "    evaluation = final_checkpoint.get_modal_eval()\n",
      "  File \"/apps/open_spiel/web/auctions/auctions/models.py\", line 96, in get_modal_eval\n",
      "    return self.evaluation_set.get(name=modal_name)\n",
      "  File \"/home/ubuntu/.pyenv/versions/3.8.2/envs/venv/lib/python3.8/site-packages/django/db/models/manager.py\", line 85, in manager_method\n",
      "    return getattr(self.get_queryset(), name)(*args, **kwargs)\n",
      "  File \"/home/ubuntu/.pyenv/versions/3.8.2/envs/venv/lib/python3.8/site-packages/django/db/models/query.py\", line 439, in get\n",
      "    raise self.model.DoesNotExist(\n",
      "auctions.models.Evaluation.DoesNotExist: Evaluation matching query does not exist.\n",
      "\n"
     ]
    },
    {
     "name": "stderr",
     "output_type": "stream",
     "text": [
      " 91%|██████████████████████████████████████▏   | 91/100 [00:02<00:00, 40.68it/s]"
     ]
    },
    {
     "name": "stdout",
     "output_type": "stream",
     "text": [
      "Something wrong with dec11_bc_dec11_bc_4_risk_averse-cfr_port_10_extexternal_plus_linear-100 (dec11_bc_v5). Skipping. Evaluation matching query does not exist.\n",
      "Traceback (most recent call last):\n",
      "  File \"/tmp/ipykernel_3596/3763337244.py\", line 27, in <module>\n",
      "    evaluation = final_checkpoint.get_modal_eval()\n",
      "  File \"/apps/open_spiel/web/auctions/auctions/models.py\", line 96, in get_modal_eval\n",
      "    return self.evaluation_set.get(name=modal_name)\n",
      "  File \"/home/ubuntu/.pyenv/versions/3.8.2/envs/venv/lib/python3.8/site-packages/django/db/models/manager.py\", line 85, in manager_method\n",
      "    return getattr(self.get_queryset(), name)(*args, **kwargs)\n",
      "  File \"/home/ubuntu/.pyenv/versions/3.8.2/envs/venv/lib/python3.8/site-packages/django/db/models/query.py\", line 439, in get\n",
      "    raise self.model.DoesNotExist(\n",
      "auctions.models.Evaluation.DoesNotExist: Evaluation matching query does not exist.\n",
      "\n",
      "Something wrong with dec11_bc_dec11_bc_4_risk_averse-cfr_port_10_extexternal_plus_linear-101 (dec11_bc_v5). Skipping. Evaluation matching query does not exist.\n",
      "Traceback (most recent call last):\n",
      "  File \"/tmp/ipykernel_3596/3763337244.py\", line 27, in <module>\n",
      "    evaluation = final_checkpoint.get_modal_eval()\n",
      "  File \"/apps/open_spiel/web/auctions/auctions/models.py\", line 96, in get_modal_eval\n",
      "    return self.evaluation_set.get(name=modal_name)\n",
      "  File \"/home/ubuntu/.pyenv/versions/3.8.2/envs/venv/lib/python3.8/site-packages/django/db/models/manager.py\", line 85, in manager_method\n",
      "    return getattr(self.get_queryset(), name)(*args, **kwargs)\n",
      "  File \"/home/ubuntu/.pyenv/versions/3.8.2/envs/venv/lib/python3.8/site-packages/django/db/models/query.py\", line 439, in get\n",
      "    raise self.model.DoesNotExist(\n",
      "auctions.models.Evaluation.DoesNotExist: Evaluation matching query does not exist.\n",
      "\n",
      "Something wrong with dec11_bc_dec11_bc_4_risk_averse_tie_break-cfr_port_10_extexternal_plus_linear-102 (dec11_bc_v5). Skipping. Evaluation matching query does not exist.\n",
      "Traceback (most recent call last):\n",
      "  File \"/tmp/ipykernel_3596/3763337244.py\", line 27, in <module>\n",
      "    evaluation = final_checkpoint.get_modal_eval()\n",
      "  File \"/apps/open_spiel/web/auctions/auctions/models.py\", line 96, in get_modal_eval\n",
      "    return self.evaluation_set.get(name=modal_name)\n",
      "  File \"/home/ubuntu/.pyenv/versions/3.8.2/envs/venv/lib/python3.8/site-packages/django/db/models/manager.py\", line 85, in manager_method\n",
      "    return getattr(self.get_queryset(), name)(*args, **kwargs)\n",
      "  File \"/home/ubuntu/.pyenv/versions/3.8.2/envs/venv/lib/python3.8/site-packages/django/db/models/query.py\", line 439, in get\n",
      "    raise self.model.DoesNotExist(\n",
      "auctions.models.Evaluation.DoesNotExist: Evaluation matching query does not exist.\n",
      "\n",
      "Something wrong with dec11_bc_dec11_bc_4_risk_averse_tie_break-cfr_port_10_extexternal_plus_linear-101 (dec11_bc_v5). Skipping. Evaluation matching query does not exist.\n",
      "Traceback (most recent call last):\n",
      "  File \"/tmp/ipykernel_3596/3763337244.py\", line 27, in <module>\n",
      "    evaluation = final_checkpoint.get_modal_eval()\n",
      "  File \"/apps/open_spiel/web/auctions/auctions/models.py\", line 96, in get_modal_eval\n",
      "    return self.evaluation_set.get(name=modal_name)\n",
      "  File \"/home/ubuntu/.pyenv/versions/3.8.2/envs/venv/lib/python3.8/site-packages/django/db/models/manager.py\", line 85, in manager_method\n",
      "    return getattr(self.get_queryset(), name)(*args, **kwargs)\n",
      "  File \"/home/ubuntu/.pyenv/versions/3.8.2/envs/venv/lib/python3.8/site-packages/django/db/models/query.py\", line 439, in get\n",
      "    raise self.model.DoesNotExist(\n",
      "auctions.models.Evaluation.DoesNotExist: Evaluation matching query does not exist.\n",
      "\n",
      "Something wrong with dec11_bc_dec11_bc_1_risk_averse-cfr_port_10_extexternal_plus_linear-104 (dec11_bc_v5). Skipping. Evaluation matching query does not exist.\n",
      "Traceback (most recent call last):\n",
      "  File \"/tmp/ipykernel_3596/3763337244.py\", line 27, in <module>\n",
      "    evaluation = final_checkpoint.get_modal_eval()\n",
      "  File \"/apps/open_spiel/web/auctions/auctions/models.py\", line 96, in get_modal_eval\n",
      "    return self.evaluation_set.get(name=modal_name)\n",
      "  File \"/home/ubuntu/.pyenv/versions/3.8.2/envs/venv/lib/python3.8/site-packages/django/db/models/manager.py\", line 85, in manager_method\n",
      "    return getattr(self.get_queryset(), name)(*args, **kwargs)\n",
      "  File \"/home/ubuntu/.pyenv/versions/3.8.2/envs/venv/lib/python3.8/site-packages/django/db/models/query.py\", line 439, in get\n",
      "    raise self.model.DoesNotExist(\n",
      "auctions.models.Evaluation.DoesNotExist: Evaluation matching query does not exist.\n",
      "\n",
      "Something wrong with dec11_bc_dec11_bc_4_risk_averse_tie_break-cfr_port_10_extexternal_plus_linear-100 (dec11_bc_v5). Skipping. Evaluation matching query does not exist.\n",
      "Traceback (most recent call last):\n",
      "  File \"/tmp/ipykernel_3596/3763337244.py\", line 27, in <module>\n",
      "    evaluation = final_checkpoint.get_modal_eval()\n",
      "  File \"/apps/open_spiel/web/auctions/auctions/models.py\", line 96, in get_modal_eval\n",
      "    return self.evaluation_set.get(name=modal_name)\n",
      "  File \"/home/ubuntu/.pyenv/versions/3.8.2/envs/venv/lib/python3.8/site-packages/django/db/models/manager.py\", line 85, in manager_method\n",
      "    return getattr(self.get_queryset(), name)(*args, **kwargs)\n",
      "  File \"/home/ubuntu/.pyenv/versions/3.8.2/envs/venv/lib/python3.8/site-packages/django/db/models/query.py\", line 439, in get\n",
      "    raise self.model.DoesNotExist(\n",
      "auctions.models.Evaluation.DoesNotExist: Evaluation matching query does not exist.\n",
      "\n",
      "Something wrong with dec11_bc_dec11_bc_2_base_tie_break-cfr_port_10_extexternal_plus_linear-103 (dec11_bc_v5). Skipping. Evaluation matching query does not exist.\n",
      "Traceback (most recent call last):\n",
      "  File \"/tmp/ipykernel_3596/3763337244.py\", line 27, in <module>\n",
      "    evaluation = final_checkpoint.get_modal_eval()\n",
      "  File \"/apps/open_spiel/web/auctions/auctions/models.py\", line 96, in get_modal_eval\n",
      "    return self.evaluation_set.get(name=modal_name)\n",
      "  File \"/home/ubuntu/.pyenv/versions/3.8.2/envs/venv/lib/python3.8/site-packages/django/db/models/manager.py\", line 85, in manager_method\n",
      "    return getattr(self.get_queryset(), name)(*args, **kwargs)\n",
      "  File \"/home/ubuntu/.pyenv/versions/3.8.2/envs/venv/lib/python3.8/site-packages/django/db/models/query.py\", line 439, in get\n",
      "    raise self.model.DoesNotExist(\n",
      "auctions.models.Evaluation.DoesNotExist: Evaluation matching query does not exist.\n",
      "\n",
      "Something wrong with dec11_bc_dec11_bc_2_base_tie_break-cfr_port_10_extexternal_plus_linear-104 (dec11_bc_v5). Skipping. Evaluation matching query does not exist.\n",
      "Traceback (most recent call last):\n",
      "  File \"/tmp/ipykernel_3596/3763337244.py\", line 27, in <module>\n",
      "    evaluation = final_checkpoint.get_modal_eval()\n",
      "  File \"/apps/open_spiel/web/auctions/auctions/models.py\", line 96, in get_modal_eval\n",
      "    return self.evaluation_set.get(name=modal_name)\n",
      "  File \"/home/ubuntu/.pyenv/versions/3.8.2/envs/venv/lib/python3.8/site-packages/django/db/models/manager.py\", line 85, in manager_method\n",
      "    return getattr(self.get_queryset(), name)(*args, **kwargs)\n",
      "  File \"/home/ubuntu/.pyenv/versions/3.8.2/envs/venv/lib/python3.8/site-packages/django/db/models/query.py\", line 439, in get\n",
      "    raise self.model.DoesNotExist(\n",
      "auctions.models.Evaluation.DoesNotExist: Evaluation matching query does not exist.\n",
      "\n",
      "Something wrong with dec11_bc_dec11_bc_0_base_tie_break-cfr_port_10_extexternal_plus_linear-102 (dec11_bc_v5). Skipping. Evaluation matching query does not exist.\n",
      "Traceback (most recent call last):\n",
      "  File \"/tmp/ipykernel_3596/3763337244.py\", line 27, in <module>\n",
      "    evaluation = final_checkpoint.get_modal_eval()\n",
      "  File \"/apps/open_spiel/web/auctions/auctions/models.py\", line 96, in get_modal_eval\n",
      "    return self.evaluation_set.get(name=modal_name)\n",
      "  File \"/home/ubuntu/.pyenv/versions/3.8.2/envs/venv/lib/python3.8/site-packages/django/db/models/manager.py\", line 85, in manager_method\n",
      "    return getattr(self.get_queryset(), name)(*args, **kwargs)\n",
      "  File \"/home/ubuntu/.pyenv/versions/3.8.2/envs/venv/lib/python3.8/site-packages/django/db/models/query.py\", line 439, in get\n",
      "    raise self.model.DoesNotExist(\n",
      "auctions.models.Evaluation.DoesNotExist: Evaluation matching query does not exist.\n",
      "\n",
      "Something wrong with dec11_bc_dec11_bc_0_base_tie_break-cfr_port_10_extexternal_plus_linear-103 (dec11_bc_v5). Skipping. Evaluation matching query does not exist.\n",
      "Traceback (most recent call last):\n",
      "  File \"/tmp/ipykernel_3596/3763337244.py\", line 27, in <module>\n",
      "    evaluation = final_checkpoint.get_modal_eval()\n",
      "  File \"/apps/open_spiel/web/auctions/auctions/models.py\", line 96, in get_modal_eval\n",
      "    return self.evaluation_set.get(name=modal_name)\n",
      "  File \"/home/ubuntu/.pyenv/versions/3.8.2/envs/venv/lib/python3.8/site-packages/django/db/models/manager.py\", line 85, in manager_method\n",
      "    return getattr(self.get_queryset(), name)(*args, **kwargs)\n",
      "  File \"/home/ubuntu/.pyenv/versions/3.8.2/envs/venv/lib/python3.8/site-packages/django/db/models/query.py\", line 439, in get\n",
      "    raise self.model.DoesNotExist(\n",
      "auctions.models.Evaluation.DoesNotExist: Evaluation matching query does not exist.\n",
      "\n",
      "Something wrong with dec11_bc_dec11_bc_2_base-cfr_port_10_extexternal_plus_linear-100 (dec11_bc_v5). Skipping. Evaluation matching query does not exist.\n",
      "Traceback (most recent call last):\n",
      "  File \"/tmp/ipykernel_3596/3763337244.py\", line 27, in <module>\n",
      "    evaluation = final_checkpoint.get_modal_eval()\n",
      "  File \"/apps/open_spiel/web/auctions/auctions/models.py\", line 96, in get_modal_eval\n",
      "    return self.evaluation_set.get(name=modal_name)\n",
      "  File \"/home/ubuntu/.pyenv/versions/3.8.2/envs/venv/lib/python3.8/site-packages/django/db/models/manager.py\", line 85, in manager_method\n",
      "    return getattr(self.get_queryset(), name)(*args, **kwargs)\n",
      "  File \"/home/ubuntu/.pyenv/versions/3.8.2/envs/venv/lib/python3.8/site-packages/django/db/models/query.py\", line 439, in get\n",
      "    raise self.model.DoesNotExist(\n",
      "auctions.models.Evaluation.DoesNotExist: Evaluation matching query does not exist.\n",
      "\n",
      "Something wrong with dec11_bc_dec11_bc_2_base-cfr_port_10_extexternal_plus_linear-101 (dec11_bc_v5). Skipping. Evaluation matching query does not exist.\n",
      "Traceback (most recent call last):\n",
      "  File \"/tmp/ipykernel_3596/3763337244.py\", line 27, in <module>\n",
      "    evaluation = final_checkpoint.get_modal_eval()\n",
      "  File \"/apps/open_spiel/web/auctions/auctions/models.py\", line 96, in get_modal_eval\n",
      "    return self.evaluation_set.get(name=modal_name)\n",
      "  File \"/home/ubuntu/.pyenv/versions/3.8.2/envs/venv/lib/python3.8/site-packages/django/db/models/manager.py\", line 85, in manager_method\n",
      "    return getattr(self.get_queryset(), name)(*args, **kwargs)\n",
      "  File \"/home/ubuntu/.pyenv/versions/3.8.2/envs/venv/lib/python3.8/site-packages/django/db/models/query.py\", line 439, in get\n",
      "    raise self.model.DoesNotExist(\n",
      "auctions.models.Evaluation.DoesNotExist: Evaluation matching query does not exist.\n",
      "\n",
      "Something wrong with dec11_bc_dec11_bc_1_risk_averse_tie_break-cfr_port_10_extexternal_plus_linear-101 (dec11_bc_v5). Skipping. Evaluation matching query does not exist.\n",
      "Traceback (most recent call last):\n",
      "  File \"/tmp/ipykernel_3596/3763337244.py\", line 27, in <module>\n",
      "    evaluation = final_checkpoint.get_modal_eval()\n",
      "  File \"/apps/open_spiel/web/auctions/auctions/models.py\", line 96, in get_modal_eval\n",
      "    return self.evaluation_set.get(name=modal_name)\n",
      "  File \"/home/ubuntu/.pyenv/versions/3.8.2/envs/venv/lib/python3.8/site-packages/django/db/models/manager.py\", line 85, in manager_method\n",
      "    return getattr(self.get_queryset(), name)(*args, **kwargs)\n",
      "  File \"/home/ubuntu/.pyenv/versions/3.8.2/envs/venv/lib/python3.8/site-packages/django/db/models/query.py\", line 439, in get\n",
      "    raise self.model.DoesNotExist(\n",
      "auctions.models.Evaluation.DoesNotExist: Evaluation matching query does not exist.\n",
      "\n",
      "Something wrong with dec11_bc_dec11_bc_1_risk_averse_tie_break-cfr_port_10_extexternal_plus_linear-102 (dec11_bc_v5). Skipping. Evaluation matching query does not exist.\n",
      "Traceback (most recent call last):\n",
      "  File \"/tmp/ipykernel_3596/3763337244.py\", line 27, in <module>\n",
      "    evaluation = final_checkpoint.get_modal_eval()\n",
      "  File \"/apps/open_spiel/web/auctions/auctions/models.py\", line 96, in get_modal_eval\n",
      "    return self.evaluation_set.get(name=modal_name)\n",
      "  File \"/home/ubuntu/.pyenv/versions/3.8.2/envs/venv/lib/python3.8/site-packages/django/db/models/manager.py\", line 85, in manager_method\n",
      "    return getattr(self.get_queryset(), name)(*args, **kwargs)\n",
      "  File \"/home/ubuntu/.pyenv/versions/3.8.2/envs/venv/lib/python3.8/site-packages/django/db/models/query.py\", line 439, in get\n",
      "    raise self.model.DoesNotExist(\n",
      "auctions.models.Evaluation.DoesNotExist: Evaluation matching query does not exist.\n",
      "\n",
      "Something wrong with dec11_bc_dec11_bc_1_base-cfr_port_10_extexternal_plus_linear-103 (dec11_bc_v5). Skipping. Evaluation matching query does not exist.\n",
      "Traceback (most recent call last):\n",
      "  File \"/tmp/ipykernel_3596/3763337244.py\", line 27, in <module>\n",
      "    evaluation = final_checkpoint.get_modal_eval()\n",
      "  File \"/apps/open_spiel/web/auctions/auctions/models.py\", line 96, in get_modal_eval\n",
      "    return self.evaluation_set.get(name=modal_name)\n",
      "  File \"/home/ubuntu/.pyenv/versions/3.8.2/envs/venv/lib/python3.8/site-packages/django/db/models/manager.py\", line 85, in manager_method\n",
      "    return getattr(self.get_queryset(), name)(*args, **kwargs)\n",
      "  File \"/home/ubuntu/.pyenv/versions/3.8.2/envs/venv/lib/python3.8/site-packages/django/db/models/query.py\", line 439, in get\n",
      "    raise self.model.DoesNotExist(\n",
      "auctions.models.Evaluation.DoesNotExist: Evaluation matching query does not exist.\n",
      "\n",
      "Something wrong with dec11_bc_dec11_bc_3_risk_averse_tie_break-cfr_port_10_extexternal_plus_linear-103 (dec11_bc_v5). Skipping. Evaluation matching query does not exist.\n",
      "Traceback (most recent call last):\n",
      "  File \"/tmp/ipykernel_3596/3763337244.py\", line 27, in <module>\n",
      "    evaluation = final_checkpoint.get_modal_eval()\n",
      "  File \"/apps/open_spiel/web/auctions/auctions/models.py\", line 96, in get_modal_eval\n",
      "    return self.evaluation_set.get(name=modal_name)\n",
      "  File \"/home/ubuntu/.pyenv/versions/3.8.2/envs/venv/lib/python3.8/site-packages/django/db/models/manager.py\", line 85, in manager_method\n",
      "    return getattr(self.get_queryset(), name)(*args, **kwargs)\n",
      "  File \"/home/ubuntu/.pyenv/versions/3.8.2/envs/venv/lib/python3.8/site-packages/django/db/models/query.py\", line 439, in get\n",
      "    raise self.model.DoesNotExist(\n",
      "auctions.models.Evaluation.DoesNotExist: Evaluation matching query does not exist.\n",
      "\n",
      "Something wrong with dec11_bc_dec11_bc_1_base-cfr_port_10_extexternal_plus_linear-102 (dec11_bc_v5). Skipping. Evaluation matching query does not exist.\n",
      "Traceback (most recent call last):\n",
      "  File \"/tmp/ipykernel_3596/3763337244.py\", line 27, in <module>\n",
      "    evaluation = final_checkpoint.get_modal_eval()\n",
      "  File \"/apps/open_spiel/web/auctions/auctions/models.py\", line 96, in get_modal_eval\n",
      "    return self.evaluation_set.get(name=modal_name)\n",
      "  File \"/home/ubuntu/.pyenv/versions/3.8.2/envs/venv/lib/python3.8/site-packages/django/db/models/manager.py\", line 85, in manager_method\n",
      "    return getattr(self.get_queryset(), name)(*args, **kwargs)\n",
      "  File \"/home/ubuntu/.pyenv/versions/3.8.2/envs/venv/lib/python3.8/site-packages/django/db/models/query.py\", line 439, in get\n",
      "    raise self.model.DoesNotExist(\n",
      "auctions.models.Evaluation.DoesNotExist: Evaluation matching query does not exist.\n",
      "\n",
      "Something wrong with dec11_bc_dec11_bc_3_risk_averse_tie_break-cfr_port_10_extexternal_plus_linear-104 (dec11_bc_v5). Skipping. Evaluation matching query does not exist.\n",
      "Traceback (most recent call last):\n",
      "  File \"/tmp/ipykernel_3596/3763337244.py\", line 27, in <module>\n",
      "    evaluation = final_checkpoint.get_modal_eval()\n",
      "  File \"/apps/open_spiel/web/auctions/auctions/models.py\", line 96, in get_modal_eval\n",
      "    return self.evaluation_set.get(name=modal_name)\n",
      "  File \"/home/ubuntu/.pyenv/versions/3.8.2/envs/venv/lib/python3.8/site-packages/django/db/models/manager.py\", line 85, in manager_method\n",
      "    return getattr(self.get_queryset(), name)(*args, **kwargs)\n",
      "  File \"/home/ubuntu/.pyenv/versions/3.8.2/envs/venv/lib/python3.8/site-packages/django/db/models/query.py\", line 439, in get\n",
      "    raise self.model.DoesNotExist(\n",
      "auctions.models.Evaluation.DoesNotExist: Evaluation matching query does not exist.\n",
      "\n",
      "Something wrong with dec11_bc_dec11_bc_0_base_tie_break-cfr_port_10_extexternal_plus_linear-100 (dec11_bc_v5). Skipping. Evaluation matching query does not exist.\n",
      "Traceback (most recent call last):\n",
      "  File \"/tmp/ipykernel_3596/3763337244.py\", line 27, in <module>\n",
      "    evaluation = final_checkpoint.get_modal_eval()\n",
      "  File \"/apps/open_spiel/web/auctions/auctions/models.py\", line 96, in get_modal_eval\n",
      "    return self.evaluation_set.get(name=modal_name)\n",
      "  File \"/home/ubuntu/.pyenv/versions/3.8.2/envs/venv/lib/python3.8/site-packages/django/db/models/manager.py\", line 85, in manager_method\n",
      "    return getattr(self.get_queryset(), name)(*args, **kwargs)\n",
      "  File \"/home/ubuntu/.pyenv/versions/3.8.2/envs/venv/lib/python3.8/site-packages/django/db/models/query.py\", line 439, in get\n",
      "    raise self.model.DoesNotExist(\n",
      "auctions.models.Evaluation.DoesNotExist: Evaluation matching query does not exist.\n",
      "\n",
      "Something wrong with dec11_bc_dec11_bc_0_base_tie_break-cfr_port_10_extexternal_plus_linear-101 (dec11_bc_v5). Skipping. Evaluation matching query does not exist.\n",
      "Traceback (most recent call last):\n",
      "  File \"/tmp/ipykernel_3596/3763337244.py\", line 27, in <module>\n",
      "    evaluation = final_checkpoint.get_modal_eval()\n",
      "  File \"/apps/open_spiel/web/auctions/auctions/models.py\", line 96, in get_modal_eval\n",
      "    return self.evaluation_set.get(name=modal_name)\n",
      "  File \"/home/ubuntu/.pyenv/versions/3.8.2/envs/venv/lib/python3.8/site-packages/django/db/models/manager.py\", line 85, in manager_method\n",
      "    return getattr(self.get_queryset(), name)(*args, **kwargs)\n",
      "  File \"/home/ubuntu/.pyenv/versions/3.8.2/envs/venv/lib/python3.8/site-packages/django/db/models/query.py\", line 439, in get\n",
      "    raise self.model.DoesNotExist(\n",
      "auctions.models.Evaluation.DoesNotExist: Evaluation matching query does not exist.\n",
      "\n",
      "Something wrong with dec11_bc_dec11_bc_1_base-cfr_port_10_extexternal_plus_linear-100 (dec11_bc_v5). Skipping. Evaluation matching query does not exist.\n",
      "Traceback (most recent call last):\n",
      "  File \"/tmp/ipykernel_3596/3763337244.py\", line 27, in <module>\n",
      "    evaluation = final_checkpoint.get_modal_eval()\n",
      "  File \"/apps/open_spiel/web/auctions/auctions/models.py\", line 96, in get_modal_eval\n",
      "    return self.evaluation_set.get(name=modal_name)\n",
      "  File \"/home/ubuntu/.pyenv/versions/3.8.2/envs/venv/lib/python3.8/site-packages/django/db/models/manager.py\", line 85, in manager_method\n",
      "    return getattr(self.get_queryset(), name)(*args, **kwargs)\n",
      "  File \"/home/ubuntu/.pyenv/versions/3.8.2/envs/venv/lib/python3.8/site-packages/django/db/models/query.py\", line 439, in get\n",
      "    raise self.model.DoesNotExist(\n",
      "auctions.models.Evaluation.DoesNotExist: Evaluation matching query does not exist.\n",
      "\n",
      "Something wrong with dec11_bc_dec11_bc_1_base-cfr_port_10_extexternal_plus_linear-101 (dec11_bc_v5). Skipping. Evaluation matching query does not exist.\n",
      "Traceback (most recent call last):\n",
      "  File \"/tmp/ipykernel_3596/3763337244.py\", line 27, in <module>\n",
      "    evaluation = final_checkpoint.get_modal_eval()\n",
      "  File \"/apps/open_spiel/web/auctions/auctions/models.py\", line 96, in get_modal_eval\n",
      "    return self.evaluation_set.get(name=modal_name)\n",
      "  File \"/home/ubuntu/.pyenv/versions/3.8.2/envs/venv/lib/python3.8/site-packages/django/db/models/manager.py\", line 85, in manager_method\n",
      "    return getattr(self.get_queryset(), name)(*args, **kwargs)\n",
      "  File \"/home/ubuntu/.pyenv/versions/3.8.2/envs/venv/lib/python3.8/site-packages/django/db/models/query.py\", line 439, in get\n",
      "    raise self.model.DoesNotExist(\n",
      "auctions.models.Evaluation.DoesNotExist: Evaluation matching query does not exist.\n",
      "\n",
      "Something wrong with dec11_bc_dec11_bc_3_risk_averse_tie_break-cfr_port_10_extexternal_plus_linear-101 (dec11_bc_v5). Skipping. Evaluation matching query does not exist.\n",
      "Traceback (most recent call last):\n",
      "  File \"/tmp/ipykernel_3596/3763337244.py\", line 27, in <module>\n",
      "    evaluation = final_checkpoint.get_modal_eval()\n",
      "  File \"/apps/open_spiel/web/auctions/auctions/models.py\", line 96, in get_modal_eval\n",
      "    return self.evaluation_set.get(name=modal_name)\n",
      "  File \"/home/ubuntu/.pyenv/versions/3.8.2/envs/venv/lib/python3.8/site-packages/django/db/models/manager.py\", line 85, in manager_method\n",
      "    return getattr(self.get_queryset(), name)(*args, **kwargs)\n",
      "  File \"/home/ubuntu/.pyenv/versions/3.8.2/envs/venv/lib/python3.8/site-packages/django/db/models/query.py\", line 439, in get\n",
      "    raise self.model.DoesNotExist(\n",
      "auctions.models.Evaluation.DoesNotExist: Evaluation matching query does not exist.\n",
      "\n",
      "Something wrong with dec11_bc_dec11_bc_3_risk_averse_tie_break-cfr_port_10_extexternal_plus_linear-102 (dec11_bc_v5). Skipping. Evaluation matching query does not exist.\n",
      "Traceback (most recent call last):\n",
      "  File \"/tmp/ipykernel_3596/3763337244.py\", line 27, in <module>\n",
      "    evaluation = final_checkpoint.get_modal_eval()\n",
      "  File \"/apps/open_spiel/web/auctions/auctions/models.py\", line 96, in get_modal_eval\n",
      "    return self.evaluation_set.get(name=modal_name)\n",
      "  File \"/home/ubuntu/.pyenv/versions/3.8.2/envs/venv/lib/python3.8/site-packages/django/db/models/manager.py\", line 85, in manager_method\n",
      "    return getattr(self.get_queryset(), name)(*args, **kwargs)\n",
      "  File \"/home/ubuntu/.pyenv/versions/3.8.2/envs/venv/lib/python3.8/site-packages/django/db/models/query.py\", line 439, in get\n",
      "    raise self.model.DoesNotExist(\n",
      "auctions.models.Evaluation.DoesNotExist: Evaluation matching query does not exist.\n",
      "\n",
      "Something wrong with dec11_bc_dec11_bc_2_base_tie_break-cfr_port_10_extexternal_plus_linear-102 (dec11_bc_v5). Skipping. Evaluation matching query does not exist.\n",
      "Traceback (most recent call last):\n",
      "  File \"/tmp/ipykernel_3596/3763337244.py\", line 27, in <module>\n",
      "    evaluation = final_checkpoint.get_modal_eval()\n",
      "  File \"/apps/open_spiel/web/auctions/auctions/models.py\", line 96, in get_modal_eval\n",
      "    return self.evaluation_set.get(name=modal_name)\n",
      "  File \"/home/ubuntu/.pyenv/versions/3.8.2/envs/venv/lib/python3.8/site-packages/django/db/models/manager.py\", line 85, in manager_method\n",
      "    return getattr(self.get_queryset(), name)(*args, **kwargs)\n",
      "  File \"/home/ubuntu/.pyenv/versions/3.8.2/envs/venv/lib/python3.8/site-packages/django/db/models/query.py\", line 439, in get\n",
      "    raise self.model.DoesNotExist(\n",
      "auctions.models.Evaluation.DoesNotExist: Evaluation matching query does not exist.\n",
      "\n",
      "Something wrong with dec11_bc_dec11_bc_2_base_tie_break-cfr_port_10_extexternal_plus_linear-101 (dec11_bc_v5). Skipping. Evaluation matching query does not exist.\n",
      "Traceback (most recent call last):\n",
      "  File \"/tmp/ipykernel_3596/3763337244.py\", line 27, in <module>\n",
      "    evaluation = final_checkpoint.get_modal_eval()\n",
      "  File \"/apps/open_spiel/web/auctions/auctions/models.py\", line 96, in get_modal_eval\n",
      "    return self.evaluation_set.get(name=modal_name)\n",
      "  File \"/home/ubuntu/.pyenv/versions/3.8.2/envs/venv/lib/python3.8/site-packages/django/db/models/manager.py\", line 85, in manager_method\n",
      "    return getattr(self.get_queryset(), name)(*args, **kwargs)\n",
      "  File \"/home/ubuntu/.pyenv/versions/3.8.2/envs/venv/lib/python3.8/site-packages/django/db/models/query.py\", line 439, in get\n",
      "    raise self.model.DoesNotExist(\n",
      "auctions.models.Evaluation.DoesNotExist: Evaluation matching query does not exist.\n",
      "\n",
      "Something wrong with dec11_bc_dec11_bc_4_risk_averse_tie_break-cfr_port_10_extexternal_plus_linear-104 (dec11_bc_v5). Skipping. Evaluation matching query does not exist.\n",
      "Traceback (most recent call last):\n",
      "  File \"/tmp/ipykernel_3596/3763337244.py\", line 27, in <module>\n",
      "    evaluation = final_checkpoint.get_modal_eval()\n",
      "  File \"/apps/open_spiel/web/auctions/auctions/models.py\", line 96, in get_modal_eval\n",
      "    return self.evaluation_set.get(name=modal_name)\n",
      "  File \"/home/ubuntu/.pyenv/versions/3.8.2/envs/venv/lib/python3.8/site-packages/django/db/models/manager.py\", line 85, in manager_method\n",
      "    return getattr(self.get_queryset(), name)(*args, **kwargs)\n",
      "  File \"/home/ubuntu/.pyenv/versions/3.8.2/envs/venv/lib/python3.8/site-packages/django/db/models/query.py\", line 439, in get\n",
      "    raise self.model.DoesNotExist(\n",
      "auctions.models.Evaluation.DoesNotExist: Evaluation matching query does not exist.\n",
      "\n",
      "Something wrong with dec11_bc_dec11_bc_4_risk_averse_tie_break-cfr_port_10_extexternal_plus_linear-103 (dec11_bc_v5). Skipping. Evaluation matching query does not exist.\n",
      "Traceback (most recent call last):\n",
      "  File \"/tmp/ipykernel_3596/3763337244.py\", line 27, in <module>\n",
      "    evaluation = final_checkpoint.get_modal_eval()\n",
      "  File \"/apps/open_spiel/web/auctions/auctions/models.py\", line 96, in get_modal_eval\n",
      "    return self.evaluation_set.get(name=modal_name)\n",
      "  File \"/home/ubuntu/.pyenv/versions/3.8.2/envs/venv/lib/python3.8/site-packages/django/db/models/manager.py\", line 85, in manager_method\n",
      "    return getattr(self.get_queryset(), name)(*args, **kwargs)\n",
      "  File \"/home/ubuntu/.pyenv/versions/3.8.2/envs/venv/lib/python3.8/site-packages/django/db/models/query.py\", line 439, in get\n",
      "    raise self.model.DoesNotExist(\n",
      "auctions.models.Evaluation.DoesNotExist: Evaluation matching query does not exist.\n",
      "\n",
      "Something wrong with dec11_bc_dec11_bc_2_base-cfr_port_10_extexternal_plus_linear-102 (dec11_bc_v5). Skipping. Evaluation matching query does not exist.\n",
      "Traceback (most recent call last):\n",
      "  File \"/tmp/ipykernel_3596/3763337244.py\", line 27, in <module>\n",
      "    evaluation = final_checkpoint.get_modal_eval()\n",
      "  File \"/apps/open_spiel/web/auctions/auctions/models.py\", line 96, in get_modal_eval\n",
      "    return self.evaluation_set.get(name=modal_name)\n",
      "  File \"/home/ubuntu/.pyenv/versions/3.8.2/envs/venv/lib/python3.8/site-packages/django/db/models/manager.py\", line 85, in manager_method\n",
      "    return getattr(self.get_queryset(), name)(*args, **kwargs)\n",
      "  File \"/home/ubuntu/.pyenv/versions/3.8.2/envs/venv/lib/python3.8/site-packages/django/db/models/query.py\", line 439, in get\n",
      "    raise self.model.DoesNotExist(\n",
      "auctions.models.Evaluation.DoesNotExist: Evaluation matching query does not exist.\n",
      "\n",
      "Something wrong with dec11_bc_dec11_bc_2_base-cfr_port_10_extexternal_plus_linear-104 (dec11_bc_v5). Skipping. Evaluation matching query does not exist.\n",
      "Traceback (most recent call last):\n",
      "  File \"/tmp/ipykernel_3596/3763337244.py\", line 27, in <module>\n",
      "    evaluation = final_checkpoint.get_modal_eval()\n",
      "  File \"/apps/open_spiel/web/auctions/auctions/models.py\", line 96, in get_modal_eval\n",
      "    return self.evaluation_set.get(name=modal_name)\n",
      "  File \"/home/ubuntu/.pyenv/versions/3.8.2/envs/venv/lib/python3.8/site-packages/django/db/models/manager.py\", line 85, in manager_method\n",
      "    return getattr(self.get_queryset(), name)(*args, **kwargs)\n",
      "  File \"/home/ubuntu/.pyenv/versions/3.8.2/envs/venv/lib/python3.8/site-packages/django/db/models/query.py\", line 439, in get\n",
      "    raise self.model.DoesNotExist(\n",
      "auctions.models.Evaluation.DoesNotExist: Evaluation matching query does not exist.\n",
      "\n",
      "Something wrong with dec11_bc_dec11_bc_2_base-cfr_port_10_extexternal_plus_linear-103 (dec11_bc_v5). Skipping. Evaluation matching query does not exist.\n",
      "Traceback (most recent call last):\n",
      "  File \"/tmp/ipykernel_3596/3763337244.py\", line 27, in <module>\n",
      "    evaluation = final_checkpoint.get_modal_eval()\n",
      "  File \"/apps/open_spiel/web/auctions/auctions/models.py\", line 96, in get_modal_eval\n",
      "    return self.evaluation_set.get(name=modal_name)\n",
      "  File \"/home/ubuntu/.pyenv/versions/3.8.2/envs/venv/lib/python3.8/site-packages/django/db/models/manager.py\", line 85, in manager_method\n",
      "    return getattr(self.get_queryset(), name)(*args, **kwargs)\n",
      "  File \"/home/ubuntu/.pyenv/versions/3.8.2/envs/venv/lib/python3.8/site-packages/django/db/models/query.py\", line 439, in get\n",
      "    raise self.model.DoesNotExist(\n",
      "auctions.models.Evaluation.DoesNotExist: Evaluation matching query does not exist.\n",
      "\n"
     ]
    },
    {
     "name": "stderr",
     "output_type": "stream",
     "text": [
      "100%|█████████████████████████████████████████| 100/100 [00:03<00:00, 30.97it/s]"
     ]
    },
    {
     "name": "stdout",
     "output_type": "stream",
     "text": [
      "Something wrong with dec11_bc_dec11_bc_1_base-cfr_port_10_extexternal_plus_linear-104 (dec11_bc_v5). Skipping. Evaluation matching query does not exist.\n",
      "Traceback (most recent call last):\n",
      "  File \"/tmp/ipykernel_3596/3763337244.py\", line 27, in <module>\n",
      "    evaluation = final_checkpoint.get_modal_eval()\n",
      "  File \"/apps/open_spiel/web/auctions/auctions/models.py\", line 96, in get_modal_eval\n",
      "    return self.evaluation_set.get(name=modal_name)\n",
      "  File \"/home/ubuntu/.pyenv/versions/3.8.2/envs/venv/lib/python3.8/site-packages/django/db/models/manager.py\", line 85, in manager_method\n",
      "    return getattr(self.get_queryset(), name)(*args, **kwargs)\n",
      "  File \"/home/ubuntu/.pyenv/versions/3.8.2/envs/venv/lib/python3.8/site-packages/django/db/models/query.py\", line 439, in get\n",
      "    raise self.model.DoesNotExist(\n",
      "auctions.models.Evaluation.DoesNotExist: Evaluation matching query does not exist.\n",
      "\n",
      "Something wrong with dec11_bc_dec11_bc_3_risk_averse_tie_break-cfr_port_10_extexternal_plus_linear-100 (dec11_bc_v5). Skipping. Evaluation matching query does not exist.\n",
      "Traceback (most recent call last):\n",
      "  File \"/tmp/ipykernel_3596/3763337244.py\", line 27, in <module>\n",
      "    evaluation = final_checkpoint.get_modal_eval()\n",
      "  File \"/apps/open_spiel/web/auctions/auctions/models.py\", line 96, in get_modal_eval\n",
      "    return self.evaluation_set.get(name=modal_name)\n",
      "  File \"/home/ubuntu/.pyenv/versions/3.8.2/envs/venv/lib/python3.8/site-packages/django/db/models/manager.py\", line 85, in manager_method\n",
      "    return getattr(self.get_queryset(), name)(*args, **kwargs)\n",
      "  File \"/home/ubuntu/.pyenv/versions/3.8.2/envs/venv/lib/python3.8/site-packages/django/db/models/query.py\", line 439, in get\n",
      "    raise self.model.DoesNotExist(\n",
      "auctions.models.Evaluation.DoesNotExist: Evaluation matching query does not exist.\n",
      "\n",
      "Something wrong with dec11_bc_dec11_bc_1_risk_averse_tie_break-cfr_port_10_extexternal_plus_linear-103 (dec11_bc_v5). Skipping. Evaluation matching query does not exist.\n",
      "Traceback (most recent call last):\n",
      "  File \"/tmp/ipykernel_3596/3763337244.py\", line 27, in <module>\n",
      "    evaluation = final_checkpoint.get_modal_eval()\n",
      "  File \"/apps/open_spiel/web/auctions/auctions/models.py\", line 96, in get_modal_eval\n",
      "    return self.evaluation_set.get(name=modal_name)\n",
      "  File \"/home/ubuntu/.pyenv/versions/3.8.2/envs/venv/lib/python3.8/site-packages/django/db/models/manager.py\", line 85, in manager_method\n",
      "    return getattr(self.get_queryset(), name)(*args, **kwargs)\n",
      "  File \"/home/ubuntu/.pyenv/versions/3.8.2/envs/venv/lib/python3.8/site-packages/django/db/models/query.py\", line 439, in get\n",
      "    raise self.model.DoesNotExist(\n",
      "auctions.models.Evaluation.DoesNotExist: Evaluation matching query does not exist.\n",
      "\n",
      "Something wrong with dec11_bc_dec11_bc_1_risk_averse_tie_break-cfr_port_10_extexternal_plus_linear-104 (dec11_bc_v5). Skipping. Evaluation matching query does not exist.\n",
      "Traceback (most recent call last):\n",
      "  File \"/tmp/ipykernel_3596/3763337244.py\", line 27, in <module>\n",
      "    evaluation = final_checkpoint.get_modal_eval()\n",
      "  File \"/apps/open_spiel/web/auctions/auctions/models.py\", line 96, in get_modal_eval\n",
      "    return self.evaluation_set.get(name=modal_name)\n",
      "  File \"/home/ubuntu/.pyenv/versions/3.8.2/envs/venv/lib/python3.8/site-packages/django/db/models/manager.py\", line 85, in manager_method\n",
      "    return getattr(self.get_queryset(), name)(*args, **kwargs)\n",
      "  File \"/home/ubuntu/.pyenv/versions/3.8.2/envs/venv/lib/python3.8/site-packages/django/db/models/query.py\", line 439, in get\n",
      "    raise self.model.DoesNotExist(\n",
      "auctions.models.Evaluation.DoesNotExist: Evaluation matching query does not exist.\n",
      "\n",
      "100\n"
     ]
    },
    {
     "name": "stderr",
     "output_type": "stream",
     "text": [
      "\n"
     ]
    }
   ],
   "source": [
    "records = []\n",
    "for run in tqdm(runs):    \n",
    "    game = run.game.load_as_spiel()\n",
    "    record = {\n",
    "        'run_name': run.name,\n",
    "        'game_name': run.game.name, \n",
    "        'seed': run.config.get('seed'), \n",
    "        'config': run.get_config_name(),\n",
    "        'alg': get_algorithm_from_run(run),\n",
    "    }\n",
    "    \n",
    "    record.update(get_game_info(game, run.game))  \n",
    "    \n",
    "    record['no_error'] = False\n",
    "    records.append(record) # Put it here so you see the False's in the display\n",
    "        \n",
    "    try:\n",
    "        game, final_checkpoint, policy = get_results(run, load_policy=False)\n",
    "    except Exception as e:\n",
    "        print(f\"Skipping run {run.name} because of error {e}\")\n",
    "        continue\n",
    "    \n",
    "    try:\n",
    "        \n",
    "        record['t'] = final_checkpoint.t\n",
    "        record['walltime'] = run.walltime(),\n",
    "        evaluation = final_checkpoint.get_modal_eval()\n",
    "        \n",
    "        record['nash_conv'] = evaluation.nash_conv\n",
    "        record['rewards'] = evaluation.mean_rewards\n",
    "        record['nash_conv_frac'] = evaluation.nash_conv / sum(evaluation.mean_rewards) if not pd.isnull(evaluation.nash_conv) else np.nan\n",
    "        record['heuristic_conv'] = evaluation.heuristic_conv\n",
    "        record['heuristic_conv_frac'] = evaluation.heuristic_conv / sum(evaluation.mean_rewards) if not pd.isnull(evaluation.heuristic_conv) else np.nan\n",
    "\n",
    "        for i in range(game.num_players()):\n",
    "            record[f'rewards_{i}'] = evaluation.mean_rewards[i]\n",
    "            record[f'nc_player_improvements_{i}'] = evaluation.nash_conv_player_improvements[i] if not pd.isnull(evaluation.nash_conv) else np.nan\n",
    "            record[f'nc_player_improvements_frac_{i}'] = (evaluation.nash_conv_player_improvements[i] / evaluation.mean_rewards[i]) if not pd.isnull(evaluation.nash_conv) else np.nan\n",
    "\n",
    "            record[f'hc_player_improvements_{i}'] = evaluation.heuristic_conv_player_improvements[i] if not pd.isnull(evaluation.heuristic_conv) else np.nan\n",
    "            record[f'hc_player_improvements_frac_{i}'] = (evaluation.heuristic_conv_player_improvements[i] / evaluation.mean_rewards[i]) if not pd.isnull(evaluation.heuristic_conv) else np.nan\n",
    "\n",
    "        record.update(**analyze_samples(evaluation.samples, game))\n",
    "\n",
    "        nc = record['nash_conv']\n",
    "        hc = record['heuristic_conv']\n",
    "        # print(f\"NashConv = {(np.nan if pd.isnull(nc) else nc):.2f}; HeuristicConv = {(np.nan if pd.isnull(hc) else hc):.2f}\")\n",
    "        \n",
    "        record['no_error'] = True\n",
    "    except Exception as e:\n",
    "        print(f\"Something wrong with {run}. Skipping. {e}\")\n",
    "        # raise e\n",
    "        # break\n",
    "        import traceback\n",
    "        print(traceback.format_exc())\n",
    "\n",
    "print(len(records))"
   ]
  },
  {
   "cell_type": "code",
   "execution_count": 5,
   "metadata": {},
   "outputs": [
    {
     "ename": "NameError",
     "evalue": "name 'df' is not defined",
     "output_type": "error",
     "traceback": [
      "\u001b[0;31m---------------------------------------------------------------------------\u001b[0m",
      "\u001b[0;31mNameError\u001b[0m                                 Traceback (most recent call last)",
      "Input \u001b[0;32mIn [5]\u001b[0m, in \u001b[0;36m<module>\u001b[0;34m\u001b[0m\n\u001b[0;32m----> 1\u001b[0m \u001b[43mdf\u001b[49m\u001b[38;5;241m.\u001b[39mcolumns\n",
      "\u001b[0;31mNameError\u001b[0m: name 'df' is not defined"
     ]
    }
   ],
   "source": [
    "df.columns"
   ]
  },
  {
   "cell_type": "code",
   "execution_count": null,
   "metadata": {},
   "outputs": [],
   "source": [
    "len(df.query('heuristic_conv.isnull()'))"
   ]
  },
  {
   "cell_type": "code",
   "execution_count": 6,
   "metadata": {},
   "outputs": [
    {
     "data": {
      "text/plain": [
       "value_structure  rule       base_game_name  no_error\n",
       "quasi_linear     base       dec11_bc_0      False       4\n",
       "                                            True        1\n",
       "                            dec11_bc_1      False       5\n",
       "                            dec11_bc_2      False       5\n",
       "                            dec11_bc_3      False       3\n",
       "                                            True        2\n",
       "                            dec11_bc_4      False       5\n",
       "                 tie_break  dec11_bc_0      False       4\n",
       "                                            True        1\n",
       "                            dec11_bc_1      False       3\n",
       "                                            True        2\n",
       "                            dec11_bc_2      False       4\n",
       "                                            True        1\n",
       "                            dec11_bc_3      False       5\n",
       "                            dec11_bc_4      False       2\n",
       "                                            True        3\n",
       "risk_averse      base       dec11_bc_0      False       3\n",
       "                                            True        2\n",
       "                            dec11_bc_1      False       4\n",
       "                                            True        1\n",
       "                            dec11_bc_2      False       5\n",
       "                            dec11_bc_3      False       5\n",
       "                            dec11_bc_4      False       5\n",
       "                 tie_break  dec11_bc_0      False       5\n",
       "                            dec11_bc_1      False       4\n",
       "                                            True        1\n",
       "                            dec11_bc_2      False       5\n",
       "                            dec11_bc_3      False       5\n",
       "                            dec11_bc_4      False       5\n",
       "Name: count, dtype: int64"
      ]
     },
     "metadata": {},
     "output_type": "display_data"
    }
   ],
   "source": [
    "df = pd.DataFrame.from_records(records)\n",
    "with pd.option_context('display.max_rows', None):\n",
    "    display(df[['value_structure', 'rule', 'base_game_name', 'no_error']].value_counts().sort_index())"
   ]
  },
  {
   "cell_type": "code",
   "execution_count": 7,
   "metadata": {},
   "outputs": [
    {
     "ename": "DoesNotExist",
     "evalue": "EquilibriumSolverRun matching query does not exist.",
     "output_type": "error",
     "traceback": [
      "\u001b[0;31m---------------------------------------------------------------------------\u001b[0m",
      "\u001b[0;31mDoesNotExist\u001b[0m                              Traceback (most recent call last)",
      "Input \u001b[0;32mIn [7]\u001b[0m, in \u001b[0;36m<module>\u001b[0;34m\u001b[0m\n\u001b[1;32m      1\u001b[0m \u001b[38;5;28;01mfor\u001b[39;00m i \u001b[38;5;129;01min\u001b[39;00m \u001b[38;5;28mrange\u001b[39m(\u001b[38;5;241m50\u001b[39m):\n\u001b[1;32m      2\u001b[0m     run_name \u001b[38;5;241m=\u001b[39m df\u001b[38;5;241m.\u001b[39mquery(\u001b[38;5;124m'\u001b[39m\u001b[38;5;124mheuristic_conv.isnull()\u001b[39m\u001b[38;5;124m'\u001b[39m)\u001b[38;5;241m.\u001b[39miloc[i]\u001b[38;5;241m.\u001b[39mrun_name\n\u001b[0;32m----> 3\u001b[0m     run \u001b[38;5;241m=\u001b[39m \u001b[43mEquilibriumSolverRun\u001b[49m\u001b[38;5;241;43m.\u001b[39;49m\u001b[43mobjects\u001b[49m\u001b[38;5;241;43m.\u001b[39;49m\u001b[43mget\u001b[49m\u001b[43m(\u001b[49m\u001b[43mname\u001b[49m\u001b[38;5;241;43m=\u001b[39;49m\u001b[43mrun_name\u001b[49m\u001b[43m,\u001b[49m\u001b[43m \u001b[49m\u001b[43mexperiment__name\u001b[49m\u001b[38;5;241;43m=\u001b[39;49m\u001b[38;5;124;43m'\u001b[39;49m\u001b[38;5;124;43msep28v6\u001b[39;49m\u001b[38;5;124;43m'\u001b[39;49m\u001b[43m)\u001b[49m\n\u001b[1;32m      4\u001b[0m     game, final_checkpoint, avg_policy \u001b[38;5;241m=\u001b[39m get_results(run, load_policy\u001b[38;5;241m=\u001b[39m\u001b[38;5;28;01mTrue\u001b[39;00m)\n\u001b[1;32m      6\u001b[0m     \u001b[38;5;28;01mfrom\u001b[39;00m \u001b[38;5;21;01mopen_spiel\u001b[39;00m\u001b[38;5;21;01m.\u001b[39;00m\u001b[38;5;21;01mpython\u001b[39;00m\u001b[38;5;21;01m.\u001b[39;00m\u001b[38;5;21;01mexamples\u001b[39;00m\u001b[38;5;21;01m.\u001b[39;00m\u001b[38;5;21;01mcfr_utils\u001b[39;00m \u001b[38;5;28;01mimport\u001b[39;00m read_cfr_config, load_solver, make_cfr_agent\n",
      "File \u001b[0;32m~/.pyenv/versions/3.8.2/envs/venv/lib/python3.8/site-packages/django/db/models/manager.py:85\u001b[0m, in \u001b[0;36mBaseManager._get_queryset_methods.<locals>.create_method.<locals>.manager_method\u001b[0;34m(self, *args, **kwargs)\u001b[0m\n\u001b[1;32m     84\u001b[0m \u001b[38;5;28;01mdef\u001b[39;00m \u001b[38;5;21mmanager_method\u001b[39m(\u001b[38;5;28mself\u001b[39m, \u001b[38;5;241m*\u001b[39margs, \u001b[38;5;241m*\u001b[39m\u001b[38;5;241m*\u001b[39mkwargs):\n\u001b[0;32m---> 85\u001b[0m     \u001b[38;5;28;01mreturn\u001b[39;00m \u001b[38;5;28;43mgetattr\u001b[39;49m\u001b[43m(\u001b[49m\u001b[38;5;28;43mself\u001b[39;49m\u001b[38;5;241;43m.\u001b[39;49m\u001b[43mget_queryset\u001b[49m\u001b[43m(\u001b[49m\u001b[43m)\u001b[49m\u001b[43m,\u001b[49m\u001b[43m \u001b[49m\u001b[43mname\u001b[49m\u001b[43m)\u001b[49m\u001b[43m(\u001b[49m\u001b[38;5;241;43m*\u001b[39;49m\u001b[43margs\u001b[49m\u001b[43m,\u001b[49m\u001b[43m \u001b[49m\u001b[38;5;241;43m*\u001b[39;49m\u001b[38;5;241;43m*\u001b[39;49m\u001b[43mkwargs\u001b[49m\u001b[43m)\u001b[49m\n",
      "File \u001b[0;32m~/.pyenv/versions/3.8.2/envs/venv/lib/python3.8/site-packages/django/db/models/query.py:439\u001b[0m, in \u001b[0;36mQuerySet.get\u001b[0;34m(self, *args, **kwargs)\u001b[0m\n\u001b[1;32m    437\u001b[0m     \u001b[38;5;28;01mreturn\u001b[39;00m clone\u001b[38;5;241m.\u001b[39m_result_cache[\u001b[38;5;241m0\u001b[39m]\n\u001b[1;32m    438\u001b[0m \u001b[38;5;28;01mif\u001b[39;00m \u001b[38;5;129;01mnot\u001b[39;00m num:\n\u001b[0;32m--> 439\u001b[0m     \u001b[38;5;28;01mraise\u001b[39;00m \u001b[38;5;28mself\u001b[39m\u001b[38;5;241m.\u001b[39mmodel\u001b[38;5;241m.\u001b[39mDoesNotExist(\n\u001b[1;32m    440\u001b[0m         \u001b[38;5;124m\"\u001b[39m\u001b[38;5;132;01m%s\u001b[39;00m\u001b[38;5;124m matching query does not exist.\u001b[39m\u001b[38;5;124m\"\u001b[39m \u001b[38;5;241m%\u001b[39m\n\u001b[1;32m    441\u001b[0m         \u001b[38;5;28mself\u001b[39m\u001b[38;5;241m.\u001b[39mmodel\u001b[38;5;241m.\u001b[39m_meta\u001b[38;5;241m.\u001b[39mobject_name\n\u001b[1;32m    442\u001b[0m     )\n\u001b[1;32m    443\u001b[0m \u001b[38;5;28;01mraise\u001b[39;00m \u001b[38;5;28mself\u001b[39m\u001b[38;5;241m.\u001b[39mmodel\u001b[38;5;241m.\u001b[39mMultipleObjectsReturned(\n\u001b[1;32m    444\u001b[0m     \u001b[38;5;124m'\u001b[39m\u001b[38;5;124mget() returned more than one \u001b[39m\u001b[38;5;132;01m%s\u001b[39;00m\u001b[38;5;124m -- it returned \u001b[39m\u001b[38;5;132;01m%s\u001b[39;00m\u001b[38;5;124m!\u001b[39m\u001b[38;5;124m'\u001b[39m \u001b[38;5;241m%\u001b[39m (\n\u001b[1;32m    445\u001b[0m         \u001b[38;5;28mself\u001b[39m\u001b[38;5;241m.\u001b[39mmodel\u001b[38;5;241m.\u001b[39m_meta\u001b[38;5;241m.\u001b[39mobject_name,\n\u001b[1;32m    446\u001b[0m         num \u001b[38;5;28;01mif\u001b[39;00m \u001b[38;5;129;01mnot\u001b[39;00m limit \u001b[38;5;129;01mor\u001b[39;00m num \u001b[38;5;241m<\u001b[39m limit \u001b[38;5;28;01melse\u001b[39;00m \u001b[38;5;124m'\u001b[39m\u001b[38;5;124mmore than \u001b[39m\u001b[38;5;132;01m%s\u001b[39;00m\u001b[38;5;124m'\u001b[39m \u001b[38;5;241m%\u001b[39m (limit \u001b[38;5;241m-\u001b[39m \u001b[38;5;241m1\u001b[39m),\n\u001b[1;32m    447\u001b[0m     )\n\u001b[1;32m    448\u001b[0m )\n",
      "\u001b[0;31mDoesNotExist\u001b[0m: EquilibriumSolverRun matching query does not exist."
     ]
    }
   ],
   "source": [
    "for i in range(50):\n",
    "    run_name = df.query('heuristic_conv.isnull()').iloc[i].run_name\n",
    "    run = EquilibriumSolverRun.objects.get(name=run_name, experiment__name='sep28v6')\n",
    "    game, final_checkpoint, avg_policy = get_results(run, load_policy=True)\n",
    "\n",
    "    from open_spiel.python.examples.cfr_utils import read_cfr_config, load_solver, make_cfr_agent\n",
    "    from open_spiel.python.rl_agent_policy import JointRLAgentPolicy\n",
    "\n",
    "    def compute_heuristic_conv(game, avg_policy, time_limit_seconds):\n",
    "        agents = {}\n",
    "        for player_id in range(game.num_players()):\n",
    "            agents[player_id] = make_cfr_agent(player_id, None, None)\n",
    "            agents[player_id].policy = avg_policy\n",
    "            agents[player_id] = ModalAgentDecorator(agents[player_id])\n",
    "        policy = JointRLAgentPolicy(game, agents, False)\n",
    "\n",
    "        worked, heuristic_conv_runtime, res = time_bounded_run(time_limit_seconds, nash_conv, game, policy, return_only_nash_conv=False, restrict_to_heuristics=True)\n",
    "        if worked:\n",
    "            (hc, heuristic_conv_player_improvements, br_policies) = res\n",
    "        else:\n",
    "            (hc, heuristic_conv_player_improvements, br_policies) = (None, None, None)\n",
    "        return worked, hc, heuristic_conv_player_improvements, heuristic_conv_runtime\n",
    "\n",
    "    print(compute_heuristic_conv(game, avg_policy, 300))"
   ]
  },
  {
   "cell_type": "code",
   "execution_count": null,
   "metadata": {},
   "outputs": [],
   "source": [
    "len(df)"
   ]
  },
  {
   "cell_type": "code",
   "execution_count": null,
   "metadata": {},
   "outputs": [],
   "source": [
    "failures = df.query('~no_error')['run_name'].values"
   ]
  },
  {
   "cell_type": "code",
   "execution_count": null,
   "metadata": {},
   "outputs": [],
   "source": [
    "for f in failures:\n",
    "    print(f)\n",
    "    !tail -n 5 /shared/outputs/sep20_3Province/*{f}*.err\n",
    "    print()\n",
    "    print()"
   ]
  },
  {
   "cell_type": "code",
   "execution_count": null,
   "metadata": {},
   "outputs": [],
   "source": [
    "palette = dict()\n",
    "colors = ['red', 'blue', 'magenta', 'green', 'orange', 'brown', 'black', 'navy', 'pink', 'gold', 'darkgreen', 'orangered', 'olive']\n",
    "# for i, v in enumerate(df['variant'].unique()):\n",
    "#     palette[v] = colors[i]"
   ]
  },
  {
   "cell_type": "code",
   "execution_count": 26,
   "metadata": {},
   "outputs": [],
   "source": [
    "# Need to a) Remove \"bad\" entries b) Be careful about comparisons that are missing datapoints \n",
    "df_plt = df.copy()"
   ]
  },
  {
   "cell_type": "code",
   "execution_count": 27,
   "metadata": {},
   "outputs": [
    {
     "data": {
      "text/plain": [
       "value_structure  rule               base_game_name      no_error\n",
       "quasi_linear     base               sep19_encumbered_0  False       6\n",
       "                                    sep19_encumbered_1  False       6\n",
       "                                    sep19_encumbered_2  False       6\n",
       "                                    sep19_encumbered_3  False       6\n",
       "                                    sep19_encumbered_4  False       6\n",
       "                                                                   ..\n",
       "spite            undersell_allowed  sep19_encumbered_0  False       6\n",
       "                                    sep19_encumbered_1  False       6\n",
       "                                    sep19_encumbered_2  False       6\n",
       "                                    sep19_encumbered_3  False       6\n",
       "                                    sep19_encumbered_4  False       6\n",
       "Name: count, Length: 75, dtype: int64"
      ]
     },
     "metadata": {},
     "output_type": "display_data"
    }
   ],
   "source": [
    "display(df_plt[['value_structure', 'rule', 'base_game_name', 'no_error']].value_counts().sort_index())"
   ]
  },
  {
   "cell_type": "code",
   "execution_count": 28,
   "metadata": {},
   "outputs": [
    {
     "data": {
      "text/plain": [
       "(450, 188)"
      ]
     },
     "execution_count": 28,
     "metadata": {},
     "output_type": "execute_result"
    }
   ],
   "source": [
    "### Remove bad entries\n",
    "\n",
    "# TODO: generalize to 3+ players\n",
    "\n",
    "good_thresh = 0.1\n",
    "# good_thresh_abs = 5\n",
    "# df_plt = df.query(f'player_improvements_0 < {good_thresh_abs} and player_improvements_1 < {good_thresh_abs}')\n",
    "df_plt = df.query(f'hc_player_improvements_frac_0 < {good_thresh} and hc_player_improvements_frac_1 < {good_thresh}').copy()\n",
    "# df_plt = df.query(f'nash_conv_frac < {good_thresh}')\n",
    "len(df), len(df_plt)\n"
   ]
  },
  {
   "cell_type": "code",
   "execution_count": 29,
   "metadata": {},
   "outputs": [
    {
     "data": {
      "image/png": "[encoded data removed]",
      "text/plain": [
       "<Figure size 864x576 with 2 Axes>"
      ]
     },
     "metadata": {
      "needs_background": "light"
     },
     "output_type": "display_data"
    },
    {
     "data": {
      "image/png": "[encoded data removed]",
      "text/plain": [
       "<Figure size 864x576 with 2 Axes>"
      ]
     },
     "metadata": {
      "needs_background": "light"
     },
     "output_type": "display_data"
    },
    {
     "data": {
      "image/png": "[encoded data removed]",
      "text/plain": [
       "<Figure size 864x576 with 2 Axes>"
      ]
     },
     "metadata": {
      "needs_background": "light"
     },
     "output_type": "display_data"
    },
    {
     "data": {
      "image/png": "[encoded data removed]",
      "text/plain": [
       "<Figure size 864x576 with 2 Axes>"
      ]
     },
     "metadata": {
      "needs_background": "light"
     },
     "output_type": "display_data"
    },
    {
     "data": {
      "image/png": "[encoded data removed]",
      "text/plain": [
       "<Figure size 864x576 with 2 Axes>"
      ]
     },
     "metadata": {
      "needs_background": "light"
     },
     "output_type": "display_data"
    },
    {
     "data": {
      "image/png": "[encoded data removed]",
      "text/plain": [
       "<Figure size 864x576 with 2 Axes>"
      ]
     },
     "metadata": {
      "needs_background": "light"
     },
     "output_type": "display_data"
    },
    {
     "data": {
      "image/png": "[encoded data removed]",
      "text/plain": [
       "<Figure size 864x576 with 2 Axes>"
      ]
     },
     "metadata": {
      "needs_background": "light"
     },
     "output_type": "display_data"
    },
    {
     "data": {
      "image/png": "[encoded data removed]",
      "text/plain": [
       "<Figure size 864x576 with 2 Axes>"
      ]
     },
     "metadata": {
      "needs_background": "light"
     },
     "output_type": "display_data"
    },
    {
     "data": {
      "image/png": "[encoded data removed]",
      "text/plain": [
       "<Figure size 864x576 with 2 Axes>"
      ]
     },
     "metadata": {
      "needs_background": "light"
     },
     "output_type": "display_data"
    },
    {
     "data": {
      "image/png": "[encoded data removed]",
      "text/plain": [
       "<Figure size 864x576 with 2 Axes>"
      ]
     },
     "metadata": {
      "needs_background": "light"
     },
     "output_type": "display_data"
    },
    {
     "data": {
      "image/png": "[encoded data removed]",
      "text/plain": [
       "<Figure size 864x576 with 2 Axes>"
      ]
     },
     "metadata": {
      "needs_background": "light"
     },
     "output_type": "display_data"
    },
    {
     "data": {
      "image/png": "[encoded data removed]",
      "text/plain": [
       "<Figure size 864x576 with 2 Axes>"
      ]
     },
     "metadata": {
      "needs_background": "light"
     },
     "output_type": "display_data"
    }
   ],
   "source": [
    "# 1) Get max/min for each valuation/treatment pairing over each stat\n",
    "\n",
    "# First query down to relevant datapoints. Then groupby rule change and SATS =(game_name) and max/min?\n",
    "metrics = ['total_revenue', 'total_welfare', 'auction_lengths', 'num_lotteries', 'p_lottery', 'exposure_frac']\n",
    "for i in range(2): # TODO:\n",
    "    metrics += [f'p{i}_utility', f'p{i}_payment']\n",
    "\n",
    "\n",
    "df_plt_indexed = df_plt.set_index(['value_structure', 'rule']).sort_index().copy()\n",
    "\n",
    "def make_data_dict(df):\n",
    "    data = dict()\n",
    "    for metric in metrics:\n",
    "        data[f'max_{metric}'] = df.groupby('base_game_name')[metric].max()\n",
    "        data[f'min_{metric}'] = df.groupby('base_game_name')[metric].min()\n",
    "    return pd.DataFrame(data)\n",
    "    \n",
    "for idx, grp_df in df_plt.groupby(['value_structure', 'rule']):\n",
    "    if idx[1] == 'base':\n",
    "        continue\n",
    "        \n",
    "    try:\n",
    "        data_grp_df = make_data_dict(grp_df)\n",
    "        normalizer_grp_df = df_plt_indexed.loc[(idx[0], 'base')]\n",
    "        data_normalized_df = make_data_dict(normalizer_grp_df)\n",
    "\n",
    "        cmap_norm = plt.matplotlib.colors.TwoSlopeNorm(vmin=0.7, vcenter=1, vmax=1.3)\n",
    "        cmap = plt.cm.get_cmap('RdBu').copy()\n",
    "        cmap.set_bad('magenta')\n",
    "        plt.figure(figsize=(12, 8))\n",
    "        data = (data_grp_df / data_normalized_df).values.T\n",
    "        plt.imshow(data, cmap=cmap, norm=cmap_norm)\n",
    "        plt.title(idx)\n",
    "        plt.yticks(range(len(data_grp_df.columns)), data_grp_df.columns)\n",
    "        plt.colorbar()\n",
    "        plt.show()\n",
    "    except Exception as e:\n",
    "        print(idx, e)"
   ]
  },
  {
   "cell_type": "code",
   "execution_count": null,
   "metadata": {},
   "outputs": [],
   "source": [
    "ATTRIBUTE = 'variant'\n",
    "NORMALIZED = False\n",
    "plot_type = 'scatter'\n",
    "box_df = df_plt.copy()\n",
    "markers = ['o', 'X', '^']\n",
    "\n",
    "# TODO: These strings are getting unwieldy\n",
    "\n",
    "# Vanilla for clock\n",
    "CLOCK_QUERY = 'information_policy == \"SHOW_DEMAND\" and activity_policy == \"ON\" and undersell_policy == \"UNDERSELL\" and grace_rounds == 1 and tiebreaking_policy == \"DROP_BY_PLAYER\"'\n",
    "# box_df = box_df.query(CLOCK_QUERY)\n",
    "\n",
    "# # Check undersell\n",
    "UNDERSELL_QUERY = 'information_policy == \"SHOW_DEMAND\" and activity_policy == \"ON\" and clock_speed == 0.3 and grace_rounds == 1'\n",
    "# box_df = box_df.query(UNDERSELL_QUERY)\n",
    "\n",
    "# # Check activity\n",
    "ACTIVITY_QUERY = 'information_policy == \"SHOW_DEMAND\" and undersell_policy == \"UNDERSELL\" and clock_speed == 0.3 and grace_rounds == 1'\n",
    "# box_df = box_df.query(ACACTIVITY_QUERY)\n",
    "\n",
    "# # Check tiebreaking\n",
    "TIEBREAKING_QUERY = 'information_policy == \"SHOW_DEMAND\" and undersell_policy == \"UNDERSELL\" and clock_speed == 0.3 and activity_policy == \"ON\" and grace_rounds == 1'\n",
    "# box_df = box_df.query(TIEBREAKING_QUERY)\n",
    "\n",
    "# Check grace\n",
    "GRACE_QUERY = 'information_policy == \"SHOW_DEMAND\" and undersell_policy == \"UNDERSELL\" and clock_speed == 0.3 and activity_policy == \"ON\" and tiebreaking_policy == \"DROP_BY_PLAYER\" and not risk_aversion'\n",
    "# box_df = box_df.query(GRACE_QUERY)\n",
    "\n",
    "# Activity ON vs grace vs activity OFF\n",
    "box_df = box_df.query('information_policy == \"SHOW_DEMAND\" and undersell_policy == \"UNDERSELL\" and clock_speed == 0.3 and tiebreaking_policy == \"DROP_BY_PLAYER\" and not risk_aversion')\n",
    "\n",
    "\n",
    "box_df = box_df.sort_values(['clock_speed', 'game_name', 'config'])\n",
    "\n",
    "# box_df = box_df.query('alg.str.contains(\"outcome\")')\n",
    "\n",
    "print(len(box_df))\n",
    "\n",
    "\n",
    "STATS = ['total_revenue', 'total_welfare', 'auction_lengths']\n",
    "# Normalize by the mean of the \"base\" version, so the scales line up better in the same graph\n",
    "if NORMALIZED: \n",
    "    for stat in STATS:\n",
    "        base = str(('SHOW_DEMAND', 0.3))\n",
    "        base_stat = box_df.pivot_table(index=['base_game_name'], values=stat, aggfunc='mean', columns=ATTRIBUTE)\n",
    "        box_df[f'normalized_{stat}'] = box_df.apply(lambda x: x[stat] / base_stat.loc[x['base_game_name'], base], axis=1)\n",
    "\n",
    "for stat in STATS:\n",
    "    if NORMALIZED:\n",
    "        stat = f'normalized_{stat}'\n",
    "    plt.figure(figsize=(20,10))\n",
    "    if plot_type == 'box':\n",
    "        ax = sns.boxplot(data=box_df, x='base_game_name', y=stat, hue=ATTRIBUTE)\n",
    "        # ax.set_xticklabels(ax.get_xticklabels(),rotation=90)\n",
    "    else:\n",
    "        strip_kwargs = dict(x='base_game_name', y=stat, hue=ATTRIBUTE, s=10, alpha=0.5, dodge=True, jitter=False, palette=palette)\n",
    "        sns.stripplot(data=box_df, **strip_kwargs)\n",
    "        # for i, config in enumerate(box_df['config'].unique()):\n",
    "        #     # print(config, markers[i])\n",
    "        #     # TODO: If no entries exist, this pushes colours to the wrong positions\n",
    "        #     ax = sns.stripplot(data=box_df.query(f'config == \"{config}\"'), marker=markers[i], **strip_kwargs)\n",
    "        #     if i == 0:\n",
    "        #         old_handles, old_labels = ax.get_legend_handles_labels()\n",
    "        # ax.legend(old_handles, old_labels)\n",
    "\n",
    "    plt.title(f\"{stat}\")"
   ]
  },
  {
   "cell_type": "code",
   "execution_count": 20,
   "metadata": {},
   "outputs": [
    {
     "name": "stderr",
     "output_type": "stream",
     "text": [
      "  3%|█████▌                                                                                                                                                                | 2/60 [00:00<00:07,  7.81it/s]"
     ]
    },
    {
     "name": "stdout",
     "output_type": "stream",
     "text": [
      "Submitted batch job 99536\n",
      "Submitted batch job 99537\n"
     ]
    },
    {
     "name": "stderr",
     "output_type": "stream",
     "text": [
      "  7%|███████████                                                                                                                                                           | 4/60 [00:00<00:11,  4.79it/s]"
     ]
    },
    {
     "name": "stdout",
     "output_type": "stream",
     "text": [
      "Submitted batch job 99538\n",
      "Submitted batch job 99539\n"
     ]
    },
    {
     "name": "stderr",
     "output_type": "stream",
     "text": [
      " 10%|████████████████▌                                                                                                                                                     | 6/60 [00:01<00:12,  4.30it/s]"
     ]
    },
    {
     "name": "stdout",
     "output_type": "stream",
     "text": [
      "Submitted batch job 99540\n",
      "Submitted batch job 99541\n"
     ]
    },
    {
     "name": "stderr",
     "output_type": "stream",
     "text": [
      " 12%|███████████████████▎                                                                                                                                                  | 7/60 [00:01<00:10,  4.95it/s]"
     ]
    },
    {
     "name": "stdout",
     "output_type": "stream",
     "text": [
      "Submitted batch job 99542\n"
     ]
    },
    {
     "name": "stderr",
     "output_type": "stream",
     "text": [
      " 15%|████████████████████████▉                                                                                                                                             | 9/60 [00:02<00:11,  4.53it/s]"
     ]
    },
    {
     "name": "stdout",
     "output_type": "stream",
     "text": [
      "Submitted batch job 99543\n",
      "Submitted batch job 99544\n"
     ]
    },
    {
     "name": "stderr",
     "output_type": "stream",
     "text": [
      " 18%|██████████████████████████████▏                                                                                                                                      | 11/60 [00:02<00:11,  4.44it/s]"
     ]
    },
    {
     "name": "stdout",
     "output_type": "stream",
     "text": [
      "Submitted batch job 99545\n",
      "Submitted batch job 99546\n"
     ]
    },
    {
     "name": "stderr",
     "output_type": "stream",
     "text": [
      " 22%|███████████████████████████████████▊                                                                                                                                 | 13/60 [00:02<00:07,  6.02it/s]"
     ]
    },
    {
     "name": "stdout",
     "output_type": "stream",
     "text": [
      "Submitted batch job 99547\n",
      "Submitted batch job 99548\n"
     ]
    },
    {
     "name": "stderr",
     "output_type": "stream",
     "text": [
      " 25%|█████████████████████████████████████████▎                                                                                                                           | 15/60 [00:03<00:08,  5.01it/s]"
     ]
    },
    {
     "name": "stdout",
     "output_type": "stream",
     "text": [
      "Submitted batch job 99549\n",
      "Submitted batch job 99550\n"
     ]
    },
    {
     "name": "stderr",
     "output_type": "stream",
     "text": [
      " 28%|██████████████████████████████████████████████▊                                                                                                                      | 17/60 [00:03<00:09,  4.49it/s]"
     ]
    },
    {
     "name": "stdout",
     "output_type": "stream",
     "text": [
      "Submitted batch job 99551\n",
      "Submitted batch job 99552\n"
     ]
    },
    {
     "name": "stderr",
     "output_type": "stream",
     "text": [
      " 30%|█████████████████████████████████████████████████▌                                                                                                                   | 18/60 [00:03<00:08,  5.09it/s]"
     ]
    },
    {
     "name": "stdout",
     "output_type": "stream",
     "text": [
      "Submitted batch job 99553\n"
     ]
    },
    {
     "name": "stderr",
     "output_type": "stream",
     "text": [
      " 33%|███████████████████████████████████████████████████████                                                                                                              | 20/60 [00:04<00:08,  4.46it/s]"
     ]
    },
    {
     "name": "stdout",
     "output_type": "stream",
     "text": [
      "Submitted batch job 99554\n",
      "Submitted batch job 99555\n"
     ]
    },
    {
     "name": "stderr",
     "output_type": "stream",
     "text": [
      " 37%|████████████████████████████████████████████████████████████▍                                                                                                        | 22/60 [00:05<00:09,  4.20it/s]"
     ]
    },
    {
     "name": "stdout",
     "output_type": "stream",
     "text": [
      "Submitted batch job 99556\n",
      "Submitted batch job 99557\n"
     ]
    },
    {
     "name": "stderr",
     "output_type": "stream",
     "text": [
      " 38%|███████████████████████████████████████████████████████████████▎                                                                                                     | 23/60 [00:05<00:07,  4.85it/s]"
     ]
    },
    {
     "name": "stdout",
     "output_type": "stream",
     "text": [
      "Submitted batch job 99558\n"
     ]
    },
    {
     "name": "stderr",
     "output_type": "stream",
     "text": [
      " 42%|████████████████████████████████████████████████████████████████████▊                                                                                                | 25/60 [00:05<00:07,  4.57it/s]"
     ]
    },
    {
     "name": "stdout",
     "output_type": "stream",
     "text": [
      "Submitted batch job 99559\n",
      "Submitted batch job 99560\n"
     ]
    },
    {
     "name": "stderr",
     "output_type": "stream",
     "text": [
      " 43%|███████████████████████████████████████████████████████████████████████▌                                                                                             | 26/60 [00:05<00:06,  5.22it/s]"
     ]
    },
    {
     "name": "stdout",
     "output_type": "stream",
     "text": [
      "Submitted batch job 99561\n"
     ]
    },
    {
     "name": "stderr",
     "output_type": "stream",
     "text": [
      " 47%|█████████████████████████████████████████████████████████████████████████████                                                                                        | 28/60 [00:06<00:06,  4.67it/s]"
     ]
    },
    {
     "name": "stdout",
     "output_type": "stream",
     "text": [
      "Submitted batch job 99562\n",
      "Submitted batch job 99563\n"
     ]
    },
    {
     "name": "stderr",
     "output_type": "stream",
     "text": [
      " 50%|██████████████████████████████████████████████████████████████████████████████████▌                                                                                  | 30/60 [00:06<00:06,  4.49it/s]"
     ]
    },
    {
     "name": "stdout",
     "output_type": "stream",
     "text": [
      "Submitted batch job 99564\n",
      "Submitted batch job 99565\n"
     ]
    },
    {
     "name": "stderr",
     "output_type": "stream",
     "text": [
      " 52%|█████████████████████████████████████████████████████████████████████████████████████▎                                                                               | 31/60 [00:06<00:05,  5.15it/s]"
     ]
    },
    {
     "name": "stdout",
     "output_type": "stream",
     "text": [
      "Submitted batch job 99566\n"
     ]
    },
    {
     "name": "stderr",
     "output_type": "stream",
     "text": [
      " 55%|██████████████████████████████████████████████████████████████████████████████████████████▊                                                                          | 33/60 [00:07<00:05,  4.69it/s]"
     ]
    },
    {
     "name": "stdout",
     "output_type": "stream",
     "text": [
      "Submitted batch job 99567\n",
      "Submitted batch job 99568\n"
     ]
    },
    {
     "name": "stderr",
     "output_type": "stream",
     "text": [
      " 57%|█████████████████████████████████████████████████████████████████████████████████████████████▌                                                                       | 34/60 [00:07<00:04,  5.48it/s]"
     ]
    },
    {
     "name": "stdout",
     "output_type": "stream",
     "text": [
      "Submitted batch job 99569\n"
     ]
    },
    {
     "name": "stderr",
     "output_type": "stream",
     "text": [
      " 60%|███████████████████████████████████████████████████████████████████████████████████████████████████                                                                  | 36/60 [00:08<00:05,  4.66it/s]"
     ]
    },
    {
     "name": "stdout",
     "output_type": "stream",
     "text": [
      "Submitted batch job 99570\n",
      "Submitted batch job 99571\n"
     ]
    },
    {
     "name": "stderr",
     "output_type": "stream",
     "text": [
      " 62%|█████████████████████████████████████████████████████████████████████████████████████████████████████▊                                                               | 37/60 [00:08<00:04,  5.13it/s]"
     ]
    },
    {
     "name": "stdout",
     "output_type": "stream",
     "text": [
      "Submitted batch job 99572\n"
     ]
    },
    {
     "name": "stderr",
     "output_type": "stream",
     "text": [
      " 65%|███████████████████████████████████████████████████████████████████████████████████████████████████████████▎                                                         | 39/60 [00:08<00:04,  4.51it/s]"
     ]
    },
    {
     "name": "stdout",
     "output_type": "stream",
     "text": [
      "Submitted batch job 99573\n",
      "Submitted batch job 99574\n"
     ]
    },
    {
     "name": "stderr",
     "output_type": "stream",
     "text": [
      " 68%|████████████████████████████████████████████████████████████████████████████████████████████████████████████████▊                                                    | 41/60 [00:09<00:04,  4.39it/s]"
     ]
    },
    {
     "name": "stdout",
     "output_type": "stream",
     "text": [
      "Submitted batch job 99575\n",
      "Submitted batch job 99576\n"
     ]
    },
    {
     "name": "stderr",
     "output_type": "stream",
     "text": [
      " 70%|███████████████████████████████████████████████████████████████████████████████████████████████████████████████████▍                                                 | 42/60 [00:09<00:03,  5.20it/s]"
     ]
    },
    {
     "name": "stdout",
     "output_type": "stream",
     "text": [
      "Submitted batch job 99577\n"
     ]
    },
    {
     "name": "stderr",
     "output_type": "stream",
     "text": [
      " 73%|████████████████████████████████████████████████████████████████████████████████████████████████████████████████████████▉                                            | 44/60 [00:09<00:03,  4.56it/s]"
     ]
    },
    {
     "name": "stdout",
     "output_type": "stream",
     "text": [
      "Submitted batch job 99578\n",
      "Submitted batch job 99579\n"
     ]
    },
    {
     "name": "stderr",
     "output_type": "stream",
     "text": [
      " 77%|██████████████████████████████████████████████████████████████████████████████████████████████████████████████████████████████▌                                      | 46/60 [00:10<00:03,  4.25it/s]"
     ]
    },
    {
     "name": "stdout",
     "output_type": "stream",
     "text": [
      "Submitted batch job 99580\n",
      "Submitted batch job 99581\n"
     ]
    },
    {
     "name": "stderr",
     "output_type": "stream",
     "text": [
      " 78%|█████████████████████████████████████████████████████████████████████████████████████████████████████████████████████████████████▎                                   | 47/60 [00:10<00:02,  4.91it/s]"
     ]
    },
    {
     "name": "stdout",
     "output_type": "stream",
     "text": [
      "Submitted batch job 99582\n"
     ]
    },
    {
     "name": "stderr",
     "output_type": "stream",
     "text": [
      " 82%|██████████████████████████████████████████████████████████████████████████████████████████████████████████████████████████████████████▊                              | 49/60 [00:11<00:02,  4.66it/s]"
     ]
    },
    {
     "name": "stdout",
     "output_type": "stream",
     "text": [
      "Submitted batch job 99583\n",
      "Submitted batch job 99584\n"
     ]
    },
    {
     "name": "stderr",
     "output_type": "stream",
     "text": [
      " 83%|█████████████████████████████████████████████████████████████████████████████████████████████████████████████████████████████████████████▌                           | 50/60 [00:11<00:01,  5.45it/s]"
     ]
    },
    {
     "name": "stdout",
     "output_type": "stream",
     "text": [
      "Submitted batch job 99585\n"
     ]
    },
    {
     "name": "stderr",
     "output_type": "stream",
     "text": [
      " 87%|███████████████████████████████████████████████████████████████████████████████████████████████████████████████████████████████████████████████                      | 52/60 [00:11<00:01,  4.90it/s]"
     ]
    },
    {
     "name": "stdout",
     "output_type": "stream",
     "text": [
      "Submitted batch job 99586\n",
      "Submitted batch job 99587\n"
     ]
    },
    {
     "name": "stderr",
     "output_type": "stream",
     "text": [
      " 90%|████████████████████████████████████████████████████████████████████████████████████████████████████████████████████████████████████████████████████▌                | 54/60 [00:11<00:00,  6.36it/s]"
     ]
    },
    {
     "name": "stdout",
     "output_type": "stream",
     "text": [
      "Submitted batch job 99588\n",
      "Submitted batch job 99589\n"
     ]
    },
    {
     "name": "stderr",
     "output_type": "stream",
     "text": [
      " 93%|██████████████████████████████████████████████████████████████████████████████████████████████████████████████████████████████████████████████████████████           | 56/60 [00:12<00:00,  5.22it/s]"
     ]
    },
    {
     "name": "stdout",
     "output_type": "stream",
     "text": [
      "Submitted batch job 99590\n",
      "Submitted batch job 99591\n"
     ]
    },
    {
     "name": "stderr",
     "output_type": "stream",
     "text": [
      " 95%|████████████████████████████████████████████████████████████████████████████████████████████████████████████████████████████████████████████████████████████▊        | 57/60 [00:12<00:00,  5.85it/s]"
     ]
    },
    {
     "name": "stdout",
     "output_type": "stream",
     "text": [
      "Submitted batch job 99592\n"
     ]
    },
    {
     "name": "stderr",
     "output_type": "stream",
     "text": [
      " 98%|██████████████████████████████████████████████████████████████████████████████████████████████████████████████████████████████████████████████████████████████████▎  | 59/60 [00:13<00:00,  5.00it/s]"
     ]
    },
    {
     "name": "stdout",
     "output_type": "stream",
     "text": [
      "Submitted batch job 99593\n",
      "Submitted batch job 99594\n"
     ]
    },
    {
     "name": "stderr",
     "output_type": "stream",
     "text": [
      "100%|█████████████████████████████████████████████████████████████████████████████████████████████████████████████████████████████████████████████████████████████████████| 60/60 [00:13<00:00,  4.55it/s]"
     ]
    },
    {
     "name": "stdout",
     "output_type": "stream",
     "text": [
      "Submitted batch job 99595\n"
     ]
    },
    {
     "name": "stderr",
     "output_type": "stream",
     "text": [
      "\n"
     ]
    }
   ],
   "source": [
    "### This is the cell you run when you want to rerun evals \n",
    "run_names_to_reeval = df.query('(rule == \"tie_break\" or rule == \"base\") and value_structure == \"risk_averse\"')['run_name'].values\n",
    "overwrite_existing = True\n",
    "for run in tqdm(run_names_to_reeval):\n",
    "    run = EquilibriumSolverRun.objects.get(name=run, experiment__name=experiment)\n",
    "    try:\n",
    "        game, final_checkpoint, policy = get_results(run, load_policy=False)\n",
    "    except Exception as e:\n",
    "        print(f\"Skipping run {run.name} because of error {e}\")\n",
    "        continue\n",
    "\n",
    "    try:\n",
    "        ev = final_checkpoint.get_modal_eval()\n",
    "        if not pd.isnull(ev.nash_conv) and not overwrite_existing:\n",
    "            continue\n",
    "        else:\n",
    "            ev.delete()\n",
    "    except Exception as e:\n",
    "        ev = None\n",
    "\n",
    "    br_mapping = {p: 'modal' for p in range(2)}\n",
    "    dispatch.dispatch_eval_database(final_checkpoint.t, run.experiment.name, run.name, str(br_mapping))\n"
   ]
  },
  {
   "cell_type": "code",
   "execution_count": null,
   "metadata": {},
   "outputs": [],
   "source": []
  }
 ],
 "metadata": {
  "kernelspec": {
   "display_name": "Django Shell-Plus",
   "language": "python",
   "name": "django_extensions"
  },
  "language_info": {
   "codemirror_mode": {
    "name": "ipython",
    "version": 3
   },
   "file_extension": ".py",
   "mimetype": "text/x-python",
   "name": "python",
   "nbconvert_exporter": "python",
   "pygments_lexer": "ipython3",
   "version": "3.8.2"
  }
 },
 "nbformat": 4,
 "nbformat_minor": 4
}
