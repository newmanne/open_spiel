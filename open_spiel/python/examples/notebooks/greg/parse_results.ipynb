{
 "cells": [
  {
   "cell_type": "markdown",
   "metadata": {},
   "source": [
    "`parse_results.ipynb`: parse results from database into CSV."
   ]
  },
  {
   "cell_type": "code",
   "execution_count": 1,
   "metadata": {},
   "outputs": [],
   "source": [
    "%load_ext autoreload\n",
    "%autoreload 2"
   ]
  },
  {
   "cell_type": "code",
   "execution_count": 2,
   "metadata": {},
   "outputs": [],
   "source": [
    "# imports\n",
    "import pandas as pd\n",
    "import os\n",
    "import seaborn as sns\n",
    "from tqdm import tqdm\n",
    "\n",
    "os.environ[\"DJANGO_ALLOW_ASYNC_UNSAFE\"] = \"true\"\n",
    "import django\n",
    "django.setup()\n",
    "from auctions.webutils import *\n",
    "\n",
    "from open_spiel.python.examples.ubc_cma import get_results, get_game_info, get_algorithm_from_run, analyze_samples\n",
    "\n",
    "# TODO: run this analysis in the jobs\n",
    "from open_spiel.python.algorithms.exploitability import nash_conv\n",
    "from open_spiel.python.examples.ubc_decorators import ModalAgentDecorator"
   ]
  },
  {
   "cell_type": "code",
   "execution_count": 3,
   "metadata": {},
   "outputs": [],
   "source": [
    "def experiment_to_csv(experiments, csv_path):\n",
    "    runs = []\n",
    "    for experiment in experiments:\n",
    "        runs += Experiment.objects.get(name=experiment).equilibriumsolverrun_set.all()\n",
    "    print(f\"Found {len(runs)} runs\")\n",
    "\n",
    "    records = []\n",
    "    for run in tqdm(runs):    \n",
    "        game = run.game.load_as_spiel()\n",
    "        record = {\n",
    "            'run_name': run.name,\n",
    "            'game_name': run.game.name, \n",
    "            'seed': run.config.get('seed'), \n",
    "            'config': run.get_config_name(),\n",
    "            'alg': get_algorithm_from_run(run),\n",
    "        }\n",
    "        \n",
    "        record.update(get_game_info(game, run.game))  \n",
    "        \n",
    "        record['no_error'] = False\n",
    "        records.append(record) # Put it here so you see the False's in the display\n",
    "            \n",
    "        try:\n",
    "            game, final_checkpoint, _ = get_results(run, load_policy=False)\n",
    "        except Exception as e:\n",
    "            print(f\"Failed to get_results for run {run.name}. Error: {e}\")\n",
    "            continue\n",
    "        \n",
    "        try:\n",
    "            record['t'] = final_checkpoint.t\n",
    "            record['walltime'] = run.walltime()\n",
    "\n",
    "            for (evaluation, prefix) in [\n",
    "                (final_checkpoint.get_modal_eval(), ''),\n",
    "                (final_checkpoint.get_straightforward_eval(), 'straightforward_')\n",
    "            ]:\n",
    "                record[f'{prefix}nash_conv'] = evaluation.nash_conv\n",
    "                record[f'{prefix}rewards'] = evaluation.mean_rewards\n",
    "                record[f'{prefix}nash_conv_frac'] = evaluation.nash_conv / sum(evaluation.mean_rewards) if not pd.isnull(evaluation.nash_conv) else np.nan\n",
    "                record[f'{prefix}heuristic_conv'] = evaluation.heuristic_conv\n",
    "                record[f'{prefix}heuristic_conv_frac'] = evaluation.heuristic_conv / sum(evaluation.mean_rewards) if not pd.isnull(evaluation.heuristic_conv) else np.nan\n",
    "\n",
    "                for i in range(game.num_players()):\n",
    "                    record[f'{prefix}rewards_{i}'] = evaluation.mean_rewards[i]\n",
    "                    record[f'{prefix}nc_player_improvements_{i}'] = evaluation.nash_conv_player_improvements[i] if not pd.isnull(evaluation.nash_conv) else np.nan\n",
    "                    record[f'{prefix}nc_player_improvements_frac_{i}'] = (evaluation.nash_conv_player_improvements[i] / evaluation.mean_rewards[i]) if not pd.isnull(evaluation.nash_conv) else np.nan\n",
    "        \n",
    "                    record[f'{prefix}hc_player_improvements_{i}'] = evaluation.heuristic_conv_player_improvements[i] if not pd.isnull(evaluation.heuristic_conv) else np.nan\n",
    "                    record[f'{prefix}hc_player_improvements_frac_{i}'] = (evaluation.heuristic_conv_player_improvements[i] / evaluation.mean_rewards[i]) if not pd.isnull(evaluation.heuristic_conv) else np.nan\n",
    "\n",
    "                sample_metrics = analyze_samples(evaluation.samples, game)\n",
    "                sample_metrics = {f'{prefix}{k}': sample_metrics[k] for k in sample_metrics} \n",
    "                record.update(**sample_metrics)\n",
    "\n",
    "            record.update(**final_checkpoint.get_modal_eval().validation_info)\n",
    "            record['no_error'] = True\n",
    "        except Exception as e:\n",
    "            print(f\"Failed to parse results for run {run}. Error: {e}\")\n",
    "            # raise e\n",
    "            # break\n",
    "            # import traceback\n",
    "            # print(traceback.format_exc())\n",
    "\n",
    "    print(f'Parsed results for {len(records)} runs.')\n",
    "\n",
    "    df = pd.DataFrame.from_records(records)\n",
    "    df.to_csv(csv_path, index=False)"
   ]
  },
  {
   "cell_type": "code",
   "execution_count": 9,
   "metadata": {},
   "outputs": [
    {
     "name": "stdout",
     "output_type": "stream",
     "text": [
      "Found 200 runs\n"
     ]
    },
    {
     "name": "stderr",
     "output_type": "stream",
     "text": [
      " 57%|█████▊    | 115/200 [03:52<01:13,  1.15it/s]"
     ]
    },
    {
     "name": "stdout",
     "output_type": "stream",
     "text": [
      "Failed to parse results for run feb8_3p_5supply_feb8_3p_5supply_0_base_dev1000_rho1_t3-ppo_jun8_23ppo_76-102 (feb8_3p_5supply_v1). Error: Evaluation matching query does not exist.\n",
      "Failed to parse results for run feb8_3p_5supply_feb8_3p_5supply_0_base_dev1000_rho1_t3-ppo_jun8_23ppo_76-103 (feb8_3p_5supply_v1). Error: Evaluation matching query does not exist.\n",
      "Failed to parse results for run feb8_3p_5supply_feb8_3p_5supply_0_base_dev1000_rho1_t3-ppo_jun8_23ppo_76-104 (feb8_3p_5supply_v1). Error: Evaluation matching query does not exist.\n"
     ]
    },
    {
     "name": "stderr",
     "output_type": "stream",
     "text": [
      " 58%|█████▊    | 117/200 [03:52<00:46,  1.80it/s]"
     ]
    },
    {
     "name": "stdout",
     "output_type": "stream",
     "text": [
      "Failed to parse results for run feb8_3p_5supply_feb8_3p_5supply_0_base_dev1000_rho1_t3_tie_break-ppo_jun8_23ppo_76-100 (feb8_3p_5supply_v1). Error: Evaluation matching query does not exist.\n",
      "Failed to parse results for run feb8_3p_5supply_feb8_3p_5supply_0_base_dev1000_rho1_t3_tie_break-ppo_jun8_23ppo_76-101 (feb8_3p_5supply_v1). Error: Evaluation matching query does not exist.\n",
      "Failed to parse results for run feb8_3p_5supply_feb8_3p_5supply_0_base_dev1000_rho1_t3_tie_break-ppo_jun8_23ppo_76-102 (feb8_3p_5supply_v1). Error: Evaluation matching query does not exist.\n"
     ]
    },
    {
     "name": "stderr",
     "output_type": "stream",
     "text": [
      " 60%|██████    | 121/200 [03:52<00:22,  3.49it/s]"
     ]
    },
    {
     "name": "stdout",
     "output_type": "stream",
     "text": [
      "Failed to parse results for run feb8_3p_5supply_feb8_3p_5supply_0_base_dev1000_rho1_t3_tie_break-ppo_jun8_23ppo_76-104 (feb8_3p_5supply_v1). Error: Evaluation matching query does not exist.\n",
      "Failed to parse results for run feb8_3p_5supply_feb8_3p_5supply_0_base_dev1000_rho1_t3_tie_break-ppo_jun8_23ppo_76-103 (feb8_3p_5supply_v1). Error: Evaluation matching query does not exist.\n",
      "Failed to parse results for run feb8_3p_5supply_feb8_3p_5supply_1_base_dev1000_rho0_t3-ppo_jun8_23ppo_76-100 (feb8_3p_5supply_v1). Error: Evaluation matching query does not exist.\n"
     ]
    },
    {
     "name": "stderr",
     "output_type": "stream",
     "text": [
      " 63%|██████▎   | 126/200 [03:53<00:10,  6.93it/s]"
     ]
    },
    {
     "name": "stdout",
     "output_type": "stream",
     "text": [
      "Failed to parse results for run feb8_3p_5supply_feb8_3p_5supply_1_base_dev1000_rho0_t3-ppo_jun8_23ppo_76-101 (feb8_3p_5supply_v1). Error: Evaluation matching query does not exist.\n",
      "Failed to parse results for run feb8_3p_5supply_feb8_3p_5supply_1_base_dev1000_rho0_t3-ppo_jun8_23ppo_76-102 (feb8_3p_5supply_v1). Error: Evaluation matching query does not exist.\n",
      "Failed to parse results for run feb8_3p_5supply_feb8_3p_5supply_1_base_dev1000_rho0_t3-ppo_jun8_23ppo_76-103 (feb8_3p_5supply_v1). Error: Evaluation matching query does not exist.\n",
      "Failed to get_results for run feb8_3p_5supply_feb8_3p_5supply_1_base_dev1000_rho0_t3-ppo_jun8_23ppo_76-104. Error: None final checkpoint?\n",
      "Failed to get_results for run feb8_3p_5supply_feb8_3p_5supply_1_base_dev1000_rho0_t3_tie_break-ppo_jun8_23ppo_76-100. Error: None final checkpoint?\n",
      "Failed to get_results for run feb8_3p_5supply_feb8_3p_5supply_1_base_dev1000_rho0_t3_tie_break-ppo_jun8_23ppo_76-101. Error: None final checkpoint?\n",
      "Failed to get_results for run feb8_3p_5supply_feb8_3p_5supply_1_base_dev1000_rho0_t3_tie_break-ppo_jun8_23ppo_76-102. Error: None final checkpoint?\n"
     ]
    },
    {
     "name": "stderr",
     "output_type": "stream",
     "text": [
      " 78%|███████▊  | 156/200 [03:53<00:01, 42.05it/s]"
     ]
    },
    {
     "name": "stdout",
     "output_type": "stream",
     "text": [
      "Failed to get_results for run feb8_3p_5supply_feb8_3p_5supply_1_base_dev1000_rho0_t3_tie_break-ppo_jun8_23ppo_76-103. Error: None final checkpoint?\n",
      "Failed to get_results for run feb8_3p_5supply_feb8_3p_5supply_1_base_dev1000_rho1_t3-ppo_jun8_23ppo_76-100. Error: None final checkpoint?\n",
      "Failed to get_results for run feb8_3p_5supply_feb8_3p_5supply_1_base_dev1000_rho0_t3_tie_break-ppo_jun8_23ppo_76-104. Error: None final checkpoint?\n",
      "Failed to get_results for run feb8_3p_5supply_feb8_3p_5supply_1_base_dev1000_rho1_t3-ppo_jun8_23ppo_76-101. Error: None final checkpoint?\n",
      "Failed to get_results for run feb8_3p_5supply_feb8_3p_5supply_1_base_dev1000_rho1_t3-ppo_jun8_23ppo_76-102. Error: None final checkpoint?\n",
      "Failed to get_results for run feb8_3p_5supply_feb8_3p_5supply_1_base_dev1000_rho1_t3-ppo_jun8_23ppo_76-103. Error: None final checkpoint?\n",
      "Failed to get_results for run feb8_3p_5supply_feb8_3p_5supply_1_base_dev1000_rho1_t3-ppo_jun8_23ppo_76-104. Error: None final checkpoint?\n",
      "Failed to get_results for run feb8_3p_5supply_feb8_3p_5supply_1_base_dev1000_rho1_t3_tie_break-ppo_jun8_23ppo_76-100. Error: None final checkpoint?\n",
      "Failed to get_results for run feb8_3p_5supply_feb8_3p_5supply_1_base_dev1000_rho1_t3_tie_break-ppo_jun8_23ppo_76-101. Error: None final checkpoint?\n",
      "Failed to get_results for run feb8_3p_5supply_feb8_3p_5supply_1_base_dev1000_rho1_t3_tie_break-ppo_jun8_23ppo_76-102. Error: None final checkpoint?\n",
      "Failed to get_results for run feb8_3p_5supply_feb8_3p_5supply_1_base_dev1000_rho1_t3_tie_break-ppo_jun8_23ppo_76-103. Error: None final checkpoint?\n",
      "Failed to get_results for run feb8_3p_5supply_feb8_3p_5supply_2_base_dev1000_rho0_t3-ppo_jun8_23ppo_76-100. Error: None final checkpoint?\n",
      "Failed to get_results for run feb8_3p_5supply_feb8_3p_5supply_1_base_dev1000_rho1_t3_tie_break-ppo_jun8_23ppo_76-104. Error: None final checkpoint?\n",
      "Failed to get_results for run feb8_3p_5supply_feb8_3p_5supply_2_base_dev1000_rho0_t3-ppo_jun8_23ppo_76-101. Error: None final checkpoint?\n",
      "Failed to get_results for run feb8_3p_5supply_feb8_3p_5supply_2_base_dev1000_rho0_t3-ppo_jun8_23ppo_76-102. Error: None final checkpoint?\n",
      "Failed to get_results for run feb8_3p_5supply_feb8_3p_5supply_2_base_dev1000_rho0_t3-ppo_jun8_23ppo_76-103. Error: None final checkpoint?\n",
      "Failed to get_results for run feb8_3p_5supply_feb8_3p_5supply_2_base_dev1000_rho0_t3-ppo_jun8_23ppo_76-104. Error: None final checkpoint?\n",
      "Failed to get_results for run feb8_3p_5supply_feb8_3p_5supply_2_base_dev1000_rho0_t3_tie_break-ppo_jun8_23ppo_76-100. Error: None final checkpoint?\n",
      "Failed to get_results for run feb8_3p_5supply_feb8_3p_5supply_2_base_dev1000_rho0_t3_tie_break-ppo_jun8_23ppo_76-101. Error: None final checkpoint?\n",
      "Failed to get_results for run feb8_3p_5supply_feb8_3p_5supply_2_base_dev1000_rho0_t3_tie_break-ppo_jun8_23ppo_76-102. Error: None final checkpoint?\n",
      "Failed to get_results for run feb8_3p_5supply_feb8_3p_5supply_2_base_dev1000_rho0_t3_tie_break-ppo_jun8_23ppo_76-103. Error: None final checkpoint?\n",
      "Failed to get_results for run feb8_3p_5supply_feb8_3p_5supply_2_base_dev1000_rho0_t3_tie_break-ppo_jun8_23ppo_76-104. Error: None final checkpoint?\n",
      "Failed to get_results for run feb8_3p_5supply_feb8_3p_5supply_2_base_dev1000_rho1_t3-ppo_jun8_23ppo_76-100. Error: None final checkpoint?\n",
      "Failed to get_results for run feb8_3p_5supply_feb8_3p_5supply_2_base_dev1000_rho1_t3-ppo_jun8_23ppo_76-101. Error: None final checkpoint?\n",
      "Failed to get_results for run feb8_3p_5supply_feb8_3p_5supply_2_base_dev1000_rho1_t3-ppo_jun8_23ppo_76-102. Error: None final checkpoint?\n",
      "Failed to get_results for run feb8_3p_5supply_feb8_3p_5supply_2_base_dev1000_rho1_t3-ppo_jun8_23ppo_76-103. Error: None final checkpoint?\n",
      "Failed to get_results for run feb8_3p_5supply_feb8_3p_5supply_2_base_dev1000_rho1_t3-ppo_jun8_23ppo_76-104. Error: None final checkpoint?\n",
      "Failed to get_results for run feb8_3p_5supply_feb8_3p_5supply_2_base_dev1000_rho1_t3_tie_break-ppo_jun8_23ppo_76-100. Error: None final checkpoint?\n",
      "Failed to get_results for run feb8_3p_5supply_feb8_3p_5supply_2_base_dev1000_rho1_t3_tie_break-ppo_jun8_23ppo_76-101. Error: None final checkpoint?\n",
      "Failed to get_results for run feb8_3p_5supply_feb8_3p_5supply_2_base_dev1000_rho1_t3_tie_break-ppo_jun8_23ppo_76-102. Error: None final checkpoint?\n"
     ]
    },
    {
     "name": "stderr",
     "output_type": "stream",
     "text": [
      " 93%|█████████▎| 186/200 [03:53<00:00, 77.22it/s]"
     ]
    },
    {
     "name": "stdout",
     "output_type": "stream",
     "text": [
      "Failed to get_results for run feb8_3p_5supply_feb8_3p_5supply_2_base_dev1000_rho1_t3_tie_break-ppo_jun8_23ppo_76-103. Error: None final checkpoint?\n",
      "Failed to get_results for run feb8_3p_5supply_feb8_3p_5supply_3_base_dev1000_rho0_t3-ppo_jun8_23ppo_76-100. Error: None final checkpoint?\n",
      "Failed to get_results for run feb8_3p_5supply_feb8_3p_5supply_3_base_dev1000_rho0_t3-ppo_jun8_23ppo_76-102. Error: None final checkpoint?\n",
      "Failed to get_results for run feb8_3p_5supply_feb8_3p_5supply_2_base_dev1000_rho1_t3_tie_break-ppo_jun8_23ppo_76-104. Error: None final checkpoint?\n",
      "Failed to get_results for run feb8_3p_5supply_feb8_3p_5supply_3_base_dev1000_rho0_t3-ppo_jun8_23ppo_76-101. Error: None final checkpoint?\n",
      "Failed to get_results for run feb8_3p_5supply_feb8_3p_5supply_3_base_dev1000_rho0_t3-ppo_jun8_23ppo_76-103. Error: None final checkpoint?\n",
      "Failed to get_results for run feb8_3p_5supply_feb8_3p_5supply_3_base_dev1000_rho0_t3-ppo_jun8_23ppo_76-104. Error: None final checkpoint?\n",
      "Failed to get_results for run feb8_3p_5supply_feb8_3p_5supply_3_base_dev1000_rho0_t3_tie_break-ppo_jun8_23ppo_76-100. Error: None final checkpoint?\n",
      "Failed to get_results for run feb8_3p_5supply_feb8_3p_5supply_3_base_dev1000_rho0_t3_tie_break-ppo_jun8_23ppo_76-101. Error: None final checkpoint?\n",
      "Failed to get_results for run feb8_3p_5supply_feb8_3p_5supply_3_base_dev1000_rho0_t3_tie_break-ppo_jun8_23ppo_76-102. Error: None final checkpoint?\n",
      "Failed to get_results for run feb8_3p_5supply_feb8_3p_5supply_3_base_dev1000_rho0_t3_tie_break-ppo_jun8_23ppo_76-103. Error: None final checkpoint?\n",
      "Failed to get_results for run feb8_3p_5supply_feb8_3p_5supply_3_base_dev1000_rho0_t3_tie_break-ppo_jun8_23ppo_76-104. Error: None final checkpoint?\n",
      "Failed to get_results for run feb8_3p_5supply_feb8_3p_5supply_3_base_dev1000_rho1_t3-ppo_jun8_23ppo_76-100. Error: None final checkpoint?\n",
      "Failed to get_results for run feb8_3p_5supply_feb8_3p_5supply_3_base_dev1000_rho1_t3-ppo_jun8_23ppo_76-101. Error: None final checkpoint?\n",
      "Failed to get_results for run feb8_3p_5supply_feb8_3p_5supply_3_base_dev1000_rho1_t3-ppo_jun8_23ppo_76-102. Error: None final checkpoint?\n",
      "Failed to get_results for run feb8_3p_5supply_feb8_3p_5supply_3_base_dev1000_rho1_t3-ppo_jun8_23ppo_76-103. Error: None final checkpoint?\n",
      "Failed to get_results for run feb8_3p_5supply_feb8_3p_5supply_3_base_dev1000_rho1_t3-ppo_jun8_23ppo_76-104. Error: None final checkpoint?\n",
      "Failed to get_results for run feb8_3p_5supply_feb8_3p_5supply_3_base_dev1000_rho1_t3_tie_break-ppo_jun8_23ppo_76-100. Error: None final checkpoint?\n",
      "Failed to get_results for run feb8_3p_5supply_feb8_3p_5supply_3_base_dev1000_rho1_t3_tie_break-ppo_jun8_23ppo_76-101. Error: None final checkpoint?\n",
      "Failed to get_results for run feb8_3p_5supply_feb8_3p_5supply_3_base_dev1000_rho1_t3_tie_break-ppo_jun8_23ppo_76-102. Error: None final checkpoint?\n",
      "Failed to get_results for run feb8_3p_5supply_feb8_3p_5supply_3_base_dev1000_rho1_t3_tie_break-ppo_jun8_23ppo_76-103. Error: None final checkpoint?\n",
      "Failed to get_results for run feb8_3p_5supply_feb8_3p_5supply_3_base_dev1000_rho1_t3_tie_break-ppo_jun8_23ppo_76-104. Error: None final checkpoint?\n",
      "Failed to get_results for run feb8_3p_5supply_feb8_3p_5supply_4_base_dev1000_rho0_t3-ppo_jun8_23ppo_76-100. Error: None final checkpoint?\n",
      "Failed to get_results for run feb8_3p_5supply_feb8_3p_5supply_4_base_dev1000_rho0_t3-ppo_jun8_23ppo_76-102. Error: None final checkpoint?\n",
      "Failed to get_results for run feb8_3p_5supply_feb8_3p_5supply_4_base_dev1000_rho0_t3-ppo_jun8_23ppo_76-101. Error: None final checkpoint?\n",
      "Failed to get_results for run feb8_3p_5supply_feb8_3p_5supply_4_base_dev1000_rho0_t3-ppo_jun8_23ppo_76-103. Error: None final checkpoint?\n",
      "Failed to get_results for run feb8_3p_5supply_feb8_3p_5supply_4_base_dev1000_rho0_t3-ppo_jun8_23ppo_76-104. Error: None final checkpoint?\n",
      "Failed to get_results for run feb8_3p_5supply_feb8_3p_5supply_4_base_dev1000_rho0_t3_tie_break-ppo_jun8_23ppo_76-100. Error: None final checkpoint?\n",
      "Failed to get_results for run feb8_3p_5supply_feb8_3p_5supply_4_base_dev1000_rho0_t3_tie_break-ppo_jun8_23ppo_76-101. Error: None final checkpoint?\n",
      "Failed to get_results for run feb8_3p_5supply_feb8_3p_5supply_4_base_dev1000_rho0_t3_tie_break-ppo_jun8_23ppo_76-102. Error: None final checkpoint?\n"
     ]
    },
    {
     "name": "stderr",
     "output_type": "stream",
     "text": [
      "100%|██████████| 200/200 [03:53<00:00,  1.17s/it]"
     ]
    },
    {
     "name": "stdout",
     "output_type": "stream",
     "text": [
      "Failed to get_results for run feb8_3p_5supply_feb8_3p_5supply_4_base_dev1000_rho0_t3_tie_break-ppo_jun8_23ppo_76-103. Error: None final checkpoint?\n",
      "Failed to get_results for run feb8_3p_5supply_feb8_3p_5supply_4_base_dev1000_rho0_t3_tie_break-ppo_jun8_23ppo_76-104. Error: None final checkpoint?\n",
      "Failed to get_results for run feb8_3p_5supply_feb8_3p_5supply_4_base_dev1000_rho1_t3-ppo_jun8_23ppo_76-100. Error: None final checkpoint?\n",
      "Failed to get_results for run feb8_3p_5supply_feb8_3p_5supply_4_base_dev1000_rho1_t3-ppo_jun8_23ppo_76-101. Error: None final checkpoint?\n",
      "Failed to get_results for run feb8_3p_5supply_feb8_3p_5supply_4_base_dev1000_rho1_t3-ppo_jun8_23ppo_76-102. Error: None final checkpoint?\n",
      "Failed to get_results for run feb8_3p_5supply_feb8_3p_5supply_4_base_dev1000_rho1_t3-ppo_jun8_23ppo_76-103. Error: None final checkpoint?\n",
      "Failed to get_results for run feb8_3p_5supply_feb8_3p_5supply_4_base_dev1000_rho1_t3-ppo_jun8_23ppo_76-104. Error: None final checkpoint?\n",
      "Failed to get_results for run feb8_3p_5supply_feb8_3p_5supply_4_base_dev1000_rho1_t3_tie_break-ppo_jun8_23ppo_76-100. Error: None final checkpoint?\n",
      "Failed to get_results for run feb8_3p_5supply_feb8_3p_5supply_4_base_dev1000_rho1_t3_tie_break-ppo_jun8_23ppo_76-101. Error: None final checkpoint?\n",
      "Failed to get_results for run feb8_3p_5supply_feb8_3p_5supply_4_base_dev1000_rho1_t3_tie_break-ppo_jun8_23ppo_76-102. Error: None final checkpoint?\n",
      "Failed to get_results for run feb8_3p_5supply_feb8_3p_5supply_4_base_dev1000_rho1_t3_tie_break-ppo_jun8_23ppo_76-103. Error: None final checkpoint?\n",
      "Failed to get_results for run feb8_3p_5supply_feb8_3p_5supply_4_base_dev1000_rho1_t3_tie_break-ppo_jun8_23ppo_76-104. Error: None final checkpoint?\n",
      "Parsed results for 200 runs.\n"
     ]
    },
    {
     "name": "stderr",
     "output_type": "stream",
     "text": [
      "\n"
     ]
    }
   ],
   "source": [
    "experiment_to_csv(['feb8_3p_5supply_v1'], 'results/feb8_3p_5supply_v1.csv')"
   ]
  },
  {
   "cell_type": "code",
   "execution_count": 7,
   "metadata": {},
   "outputs": [
    {
     "name": "stdout",
     "output_type": "stream",
     "text": [
      "Found 200 runs\n"
     ]
    },
    {
     "name": "stderr",
     "output_type": "stream",
     "text": [
      "100%|██████████| 200/200 [06:43<00:00,  2.02s/it]"
     ]
    },
    {
     "name": "stdout",
     "output_type": "stream",
     "text": [
      "Parsed results for 200 runs.\n"
     ]
    },
    {
     "name": "stderr",
     "output_type": "stream",
     "text": [
      "\n"
     ]
    }
   ],
   "source": [
    "experiment_to_csv(['feb8_3p_7supply_v2'], 'results/feb8_3p_7supply_v2.csv')"
   ]
  },
  {
   "cell_type": "code",
   "execution_count": 6,
   "metadata": {},
   "outputs": [
    {
     "name": "stdout",
     "output_type": "stream",
     "text": [
      "Found 660 runs\n"
     ]
    },
    {
     "name": "stderr",
     "output_type": "stream",
     "text": [
      "100%|██████████| 660/660 [15:47<00:00,  1.44s/it]\n"
     ]
    },
    {
     "name": "stdout",
     "output_type": "stream",
     "text": [
      "Parsed results for 660 runs.\n"
     ]
    }
   ],
   "source": [
    "experiment_to_csv(['feb8_v1'], 'results/feb8_v1.csv')"
   ]
  },
  {
   "cell_type": "code",
   "execution_count": 5,
   "metadata": {},
   "outputs": [
    {
     "name": "stdout",
     "output_type": "stream",
     "text": [
      "Found 400 runs\n"
     ]
    },
    {
     "name": "stderr",
     "output_type": "stream",
     "text": [
      "  4%|▎         | 14/400 [00:19<08:55,  1.39s/it]"
     ]
    },
    {
     "name": "stdout",
     "output_type": "stream",
     "text": [
      "Failed to get_results for run feb4_4t_feb4_4t_0_base_dev1000_rho0_t4-ppo_jun8_23ppo_76-101. Error: None final checkpoint?\n"
     ]
    },
    {
     "name": "stderr",
     "output_type": "stream",
     "text": [
      " 14%|█▎        | 54/400 [01:14<08:18,  1.44s/it]"
     ]
    },
    {
     "name": "stdout",
     "output_type": "stream",
     "text": [
      "Failed to parse results for run feb4_4t_feb4_4t_1_base_dev1000_rho0_t4-ppo_jun8_23ppo_76-101 (feb7_v1). Error: Evaluation matching query does not exist.\n"
     ]
    },
    {
     "name": "stderr",
     "output_type": "stream",
     "text": [
      " 17%|█▋        | 69/400 [01:33<07:43,  1.40s/it]"
     ]
    },
    {
     "name": "stdout",
     "output_type": "stream",
     "text": [
      "Failed to parse results for run feb4_4t_feb4_4t_0_base_dev1000_rho0_t4_tie_break-ppo_jun8_23ppo_76-103 (feb7_v1). Error: Evaluation matching query does not exist.\n"
     ]
    },
    {
     "name": "stderr",
     "output_type": "stream",
     "text": [
      " 25%|██▌       | 101/400 [02:16<06:43,  1.35s/it]"
     ]
    },
    {
     "name": "stdout",
     "output_type": "stream",
     "text": [
      "Failed to get_results for run feb4_4t_feb4_4t_0_base_dev1000_rho1_t4_tie_break-ppo_jun8_23ppo_76-101. Error: None final checkpoint?\n"
     ]
    },
    {
     "name": "stderr",
     "output_type": "stream",
     "text": [
      " 27%|██▋       | 108/400 [02:25<06:32,  1.34s/it]"
     ]
    },
    {
     "name": "stdout",
     "output_type": "stream",
     "text": [
      "Failed to get_results for run feb4_4t_feb4_4t_1_base_dev1000_rho0_t4_tie_break-ppo_jun8_23ppo_76-101. Error: None final checkpoint?\n"
     ]
    },
    {
     "name": "stderr",
     "output_type": "stream",
     "text": [
      " 37%|███▋      | 148/400 [03:21<06:01,  1.43s/it]"
     ]
    },
    {
     "name": "stdout",
     "output_type": "stream",
     "text": [
      "Failed to get_results for run feb4_4t_feb4_4t_1_base_dev1000_rho1_t4_tie_break-ppo_jun8_23ppo_76-101. Error: None final checkpoint?\n"
     ]
    },
    {
     "name": "stderr",
     "output_type": "stream",
     "text": [
      " 48%|████▊     | 190/400 [04:20<05:04,  1.45s/it]"
     ]
    },
    {
     "name": "stdout",
     "output_type": "stream",
     "text": [
      "Failed to get_results for run feb4_4t_feb4_4t_2_base_dev1000_rho0_t4_tie_break-ppo_jun8_23ppo_76-101. Error: None final checkpoint?\n"
     ]
    },
    {
     "name": "stderr",
     "output_type": "stream",
     "text": [
      " 52%|█████▏    | 207/400 [04:42<04:32,  1.41s/it]"
     ]
    },
    {
     "name": "stdout",
     "output_type": "stream",
     "text": [
      "Failed to parse results for run feb4_4t_feb4_4t_2_base_dev1000_rho1_t4-ppo_jun8_23ppo_76-101 (feb7_v1). Error: Evaluation matching query does not exist.\n"
     ]
    },
    {
     "name": "stderr",
     "output_type": "stream",
     "text": [
      " 56%|█████▌    | 222/400 [05:02<04:12,  1.42s/it]"
     ]
    },
    {
     "name": "stdout",
     "output_type": "stream",
     "text": [
      "Failed to get_results for run feb4_4t_feb4_4t_2_base_dev1000_rho1_t4_tie_break-ppo_jun8_23ppo_76-101. Error: None final checkpoint?\n"
     ]
    },
    {
     "name": "stderr",
     "output_type": "stream",
     "text": [
      " 72%|███████▏  | 288/400 [06:35<02:34,  1.38s/it]"
     ]
    },
    {
     "name": "stdout",
     "output_type": "stream",
     "text": [
      "Failed to get_results for run feb4_4t_feb4_4t_3_base_dev1000_rho1_t4-ppo_jun8_23ppo_76-101. Error: None final checkpoint?\n"
     ]
    },
    {
     "name": "stderr",
     "output_type": "stream",
     "text": [
      " 90%|████████▉ | 359/400 [08:14<00:57,  1.41s/it]"
     ]
    },
    {
     "name": "stdout",
     "output_type": "stream",
     "text": [
      "Failed to get_results for run feb4_4t_feb4_4t_4_base_dev1000_rho1_t4-ppo_jun8_23ppo_76-101. Error: None final checkpoint?\n"
     ]
    },
    {
     "name": "stderr",
     "output_type": "stream",
     "text": [
      " 95%|█████████▌| 381/400 [08:45<00:26,  1.42s/it]"
     ]
    },
    {
     "name": "stdout",
     "output_type": "stream",
     "text": [
      "Failed to get_results for run feb4_4t_feb4_4t_4_base_dev1000_rho1_t4_tie_break-ppo_jun8_23ppo_76-101. Error: None final checkpoint?\n"
     ]
    },
    {
     "name": "stderr",
     "output_type": "stream",
     "text": [
      "100%|██████████| 400/400 [09:11<00:00,  1.38s/it]"
     ]
    },
    {
     "name": "stdout",
     "output_type": "stream",
     "text": [
      "Parsed results for 400 runs.\n"
     ]
    },
    {
     "name": "stderr",
     "output_type": "stream",
     "text": [
      "\n"
     ]
    }
   ],
   "source": [
    "experiment_to_csv(['feb7_v1'], 'results/feb7_v1.csv')"
   ]
  },
  {
   "cell_type": "code",
   "execution_count": 4,
   "metadata": {},
   "outputs": [
    {
     "name": "stdout",
     "output_type": "stream",
     "text": [
      "Found 220 runs\n"
     ]
    },
    {
     "name": "stderr",
     "output_type": "stream",
     "text": [
      "  4%|▍         | 9/220 [00:13<05:07,  1.46s/it]"
     ]
    },
    {
     "name": "stdout",
     "output_type": "stream",
     "text": [
      "Failed to get_results for run feb4_4t_feb4_4t_1_base_dev1000_rho1_t4-ppo_jun8_23ppo_76-104. Error: None final checkpoint?\n"
     ]
    },
    {
     "name": "stderr",
     "output_type": "stream",
     "text": [
      "  5%|▌         | 12/220 [00:16<04:19,  1.25s/it]"
     ]
    },
    {
     "name": "stdout",
     "output_type": "stream",
     "text": [
      "Failed to get_results for run feb4_4t_feb4_4t_1_base_dev1000_rho0_t4_tie_break-ppo_jun8_23ppo_76-109. Error: None final checkpoint?\n"
     ]
    },
    {
     "name": "stderr",
     "output_type": "stream",
     "text": [
      " 11%|█         | 24/220 [00:32<04:41,  1.44s/it]"
     ]
    },
    {
     "name": "stdout",
     "output_type": "stream",
     "text": [
      "Failed to get_results for run feb4_4t_feb4_4t_2_base_dev1000_rho0_t4-ppo_jun8_23ppo_76-104. Error: None final checkpoint?\n"
     ]
    },
    {
     "name": "stderr",
     "output_type": "stream",
     "text": [
      " 17%|█▋        | 38/220 [00:50<03:11,  1.05s/it]"
     ]
    },
    {
     "name": "stdout",
     "output_type": "stream",
     "text": [
      "Failed to parse results for run feb4_4t_feb4_4t_0_base_dev1000_rho1_t4-ppo_jun8_23ppo_76-102 (feb6_v2). Error: Evaluation matching query does not exist.\n"
     ]
    },
    {
     "name": "stderr",
     "output_type": "stream",
     "text": [
      " 24%|██▎       | 52/220 [01:10<03:56,  1.41s/it]"
     ]
    },
    {
     "name": "stdout",
     "output_type": "stream",
     "text": [
      "Failed to get_results for run feb4_4t_feb4_4t_0_base_dev1000_rho0_t4_tie_break-ppo_jun8_23ppo_76-102. Error: None final checkpoint?\n"
     ]
    },
    {
     "name": "stderr",
     "output_type": "stream",
     "text": [
      " 30%|███       | 67/220 [01:29<03:37,  1.42s/it]"
     ]
    },
    {
     "name": "stdout",
     "output_type": "stream",
     "text": [
      "Failed to get_results for run feb4_4t_feb4_4t_2_base_dev1000_rho0_t4_tie_break-ppo_jun8_23ppo_76-104. Error: None final checkpoint?\n"
     ]
    },
    {
     "name": "stderr",
     "output_type": "stream",
     "text": [
      " 35%|███▌      | 77/220 [01:42<03:26,  1.44s/it]"
     ]
    },
    {
     "name": "stdout",
     "output_type": "stream",
     "text": [
      "Failed to get_results for run feb4_4t_feb4_4t_0_base_dev1000_rho1_t4-ppo_jun8_23ppo_76-110. Error: None final checkpoint?\n"
     ]
    },
    {
     "name": "stderr",
     "output_type": "stream",
     "text": [
      " 44%|████▎     | 96/220 [02:09<03:03,  1.48s/it]"
     ]
    },
    {
     "name": "stdout",
     "output_type": "stream",
     "text": [
      "Failed to get_results for run feb4_4t_feb4_4t_1_base_dev1000_rho0_t4-ppo_jun8_23ppo_76-100. Error: None final checkpoint?\n"
     ]
    },
    {
     "name": "stderr",
     "output_type": "stream",
     "text": [
      " 53%|█████▎    | 116/220 [02:36<02:23,  1.38s/it]"
     ]
    },
    {
     "name": "stdout",
     "output_type": "stream",
     "text": [
      "Failed to get_results for run feb4_4t_feb4_4t_2_base_dev1000_rho1_t4-ppo_jun8_23ppo_76-106. Error: None final checkpoint?\n"
     ]
    },
    {
     "name": "stderr",
     "output_type": "stream",
     "text": [
      " 54%|█████▍    | 119/220 [02:39<02:01,  1.20s/it]"
     ]
    },
    {
     "name": "stdout",
     "output_type": "stream",
     "text": [
      "Failed to get_results for run feb4_4t_feb4_4t_2_base_dev1000_rho1_t4-ppo_jun8_23ppo_76-109. Error: None final checkpoint?\n"
     ]
    },
    {
     "name": "stderr",
     "output_type": "stream",
     "text": [
      " 55%|█████▌    | 122/220 [02:42<01:48,  1.11s/it]"
     ]
    },
    {
     "name": "stdout",
     "output_type": "stream",
     "text": [
      "Failed to get_results for run feb4_4t_feb4_4t_2_base_dev1000_rho1_t4_tie_break-ppo_jun8_23ppo_76-100. Error: None final checkpoint?\n"
     ]
    },
    {
     "name": "stderr",
     "output_type": "stream",
     "text": [
      " 70%|██████▉   | 153/220 [03:24<01:34,  1.40s/it]"
     ]
    },
    {
     "name": "stdout",
     "output_type": "stream",
     "text": [
      "Failed to get_results for run feb4_4t_feb4_4t_3_base_dev1000_rho0_t4_tie_break-ppo_jun8_23ppo_76-110. Error: None final checkpoint?\n"
     ]
    },
    {
     "name": "stderr",
     "output_type": "stream",
     "text": [
      " 74%|███████▍  | 163/220 [03:37<01:16,  1.35s/it]"
     ]
    },
    {
     "name": "stdout",
     "output_type": "stream",
     "text": [
      "Failed to get_results for run feb4_4t_feb4_4t_3_base_dev1000_rho1_t4-ppo_jun8_23ppo_76-110. Error: None final checkpoint?\n"
     ]
    },
    {
     "name": "stderr",
     "output_type": "stream",
     "text": [
      " 93%|█████████▎| 204/220 [04:33<00:22,  1.42s/it]"
     ]
    },
    {
     "name": "stdout",
     "output_type": "stream",
     "text": [
      "Failed to get_results for run feb4_4t_feb4_4t_4_base_dev1000_rho1_t4-ppo_jun8_23ppo_76-107. Error: None final checkpoint?\n"
     ]
    },
    {
     "name": "stderr",
     "output_type": "stream",
     "text": [
      " 95%|█████████▍| 208/220 [04:38<00:14,  1.23s/it]"
     ]
    },
    {
     "name": "stdout",
     "output_type": "stream",
     "text": [
      "Failed to get_results for run feb4_4t_feb4_4t_4_base_dev1000_rho1_t4-ppo_jun8_23ppo_76-110. Error: None final checkpoint?\n"
     ]
    },
    {
     "name": "stderr",
     "output_type": "stream",
     "text": [
      "100%|██████████| 220/220 [04:48<00:00,  1.31s/it]"
     ]
    },
    {
     "name": "stdout",
     "output_type": "stream",
     "text": [
      "Failed to get_results for run feb4_4t_feb4_4t_4_base_dev1000_rho1_t4_tie_break-ppo_jun8_23ppo_76-107. Error: None final checkpoint?\n",
      "Failed to get_results for run feb4_4t_feb4_4t_4_base_dev1000_rho1_t4_tie_break-ppo_jun8_23ppo_76-108. Error: None final checkpoint?\n",
      "Failed to get_results for run feb4_4t_feb4_4t_4_base_dev1000_rho1_t4_tie_break-ppo_jun8_23ppo_76-109. Error: None final checkpoint?\n",
      "Failed to get_results for run feb4_4t_feb4_4t_4_base_dev1000_rho1_t4_tie_break-ppo_jun8_23ppo_76-110. Error: None final checkpoint?\n",
      "Parsed results for 220 runs.\n"
     ]
    },
    {
     "name": "stderr",
     "output_type": "stream",
     "text": [
      "\n"
     ]
    }
   ],
   "source": [
    "experiment_to_csv(['feb6_v2'], 'results/feb6_v2.csv')"
   ]
  },
  {
   "cell_type": "code",
   "execution_count": 8,
   "metadata": {},
   "outputs": [
    {
     "name": "stdout",
     "output_type": "stream",
     "text": [
      "Found 220 runs\n"
     ]
    },
    {
     "name": "stderr",
     "output_type": "stream",
     "text": [
      "  0%|          | 1/220 [00:01<04:11,  1.15s/it]"
     ]
    },
    {
     "name": "stdout",
     "output_type": "stream",
     "text": [
      "Failed to parse results for run feb4_4t_feb4_4t_1_base_dev1000_rho1_t4-ppo_jun8_23ppo_76-105 (feb6_v1). Error: update() argument after ** must be a mapping, not NoneType\n",
      "Failed to get_results for run feb4_4t_feb4_4t_1_base_dev1000_rho0_t4_tie_break-ppo_jun8_23ppo_76-109. Error: None final checkpoint?\n"
     ]
    },
    {
     "name": "stderr",
     "output_type": "stream",
     "text": [
      "  1%|▏         | 3/220 [00:02<02:37,  1.38it/s]"
     ]
    },
    {
     "name": "stdout",
     "output_type": "stream",
     "text": [
      "Failed to parse results for run feb4_4t_feb4_4t_1_base_dev1000_rho1_t4-ppo_jun8_23ppo_76-101 (feb6_v1). Error: update() argument after ** must be a mapping, not NoneType\n"
     ]
    },
    {
     "name": "stderr",
     "output_type": "stream",
     "text": [
      "  2%|▏         | 4/220 [00:03<03:07,  1.15it/s]"
     ]
    },
    {
     "name": "stdout",
     "output_type": "stream",
     "text": [
      "Failed to parse results for run feb4_4t_feb4_4t_1_base_dev1000_rho1_t4-ppo_jun8_23ppo_76-109 (feb6_v1). Error: update() argument after ** must be a mapping, not NoneType\n"
     ]
    },
    {
     "name": "stderr",
     "output_type": "stream",
     "text": [
      "  2%|▏         | 5/220 [00:04<03:25,  1.05it/s]"
     ]
    },
    {
     "name": "stdout",
     "output_type": "stream",
     "text": [
      "Failed to parse results for run feb4_4t_feb4_4t_1_base_dev1000_rho1_t4_tie_break-ppo_jun8_23ppo_76-100 (feb6_v1). Error: update() argument after ** must be a mapping, not NoneType\n"
     ]
    },
    {
     "name": "stderr",
     "output_type": "stream",
     "text": [
      "  3%|▎         | 6/220 [00:05<03:37,  1.02s/it]"
     ]
    },
    {
     "name": "stdout",
     "output_type": "stream",
     "text": [
      "Failed to parse results for run feb4_4t_feb4_4t_1_base_dev1000_rho1_t4-ppo_jun8_23ppo_76-108 (feb6_v1). Error: update() argument after ** must be a mapping, not NoneType\n"
     ]
    },
    {
     "name": "stderr",
     "output_type": "stream",
     "text": [
      "  3%|▎         | 6/220 [00:06<04:01,  1.13s/it]\n"
     ]
    },
    {
     "ename": "KeyboardInterrupt",
     "evalue": "",
     "output_type": "error",
     "traceback": [
      "\u001b[0;31m---------------------------------------------------------------------------\u001b[0m",
      "\u001b[0;31mKeyboardInterrupt\u001b[0m                         Traceback (most recent call last)",
      "Cell \u001b[0;32mIn[8], line 1\u001b[0m\n\u001b[0;32m----> 1\u001b[0m \u001b[43mexperiment_to_csv\u001b[49m\u001b[43m(\u001b[49m\u001b[43m[\u001b[49m\u001b[38;5;124;43m'\u001b[39;49m\u001b[38;5;124;43mfeb6_v1\u001b[39;49m\u001b[38;5;124;43m'\u001b[39;49m\u001b[43m]\u001b[49m\u001b[43m,\u001b[49m\u001b[43m \u001b[49m\u001b[38;5;124;43m'\u001b[39;49m\u001b[38;5;124;43mresults/feb6_v1.csv\u001b[39;49m\u001b[38;5;124;43m'\u001b[39;49m\u001b[43m)\u001b[49m\n",
      "Cell \u001b[0;32mIn[7], line 35\u001b[0m, in \u001b[0;36mexperiment_to_csv\u001b[0;34m(experiments, csv_path)\u001b[0m\n\u001b[1;32m     30\u001b[0m record[\u001b[38;5;124m'\u001b[39m\u001b[38;5;124mt\u001b[39m\u001b[38;5;124m'\u001b[39m] \u001b[38;5;241m=\u001b[39m final_checkpoint\u001b[38;5;241m.\u001b[39mt\n\u001b[1;32m     31\u001b[0m record[\u001b[38;5;124m'\u001b[39m\u001b[38;5;124mwalltime\u001b[39m\u001b[38;5;124m'\u001b[39m] \u001b[38;5;241m=\u001b[39m run\u001b[38;5;241m.\u001b[39mwalltime()\n\u001b[1;32m     33\u001b[0m \u001b[38;5;28;01mfor\u001b[39;00m (evaluation, prefix) \u001b[38;5;129;01min\u001b[39;00m [\n\u001b[1;32m     34\u001b[0m     (final_checkpoint\u001b[38;5;241m.\u001b[39mget_modal_eval(), \u001b[38;5;124m'\u001b[39m\u001b[38;5;124m'\u001b[39m),\n\u001b[0;32m---> 35\u001b[0m     (\u001b[43mfinal_checkpoint\u001b[49m\u001b[38;5;241;43m.\u001b[39;49m\u001b[43mget_straightforward_eval\u001b[49m\u001b[43m(\u001b[49m\u001b[43m)\u001b[49m, \u001b[38;5;124m'\u001b[39m\u001b[38;5;124mstraightforward_\u001b[39m\u001b[38;5;124m'\u001b[39m)\n\u001b[1;32m     36\u001b[0m ]:\n\u001b[1;32m     37\u001b[0m     record[\u001b[38;5;124mf\u001b[39m\u001b[38;5;124m'\u001b[39m\u001b[38;5;132;01m{\u001b[39;00mprefix\u001b[38;5;132;01m}\u001b[39;00m\u001b[38;5;124mnash_conv\u001b[39m\u001b[38;5;124m'\u001b[39m] \u001b[38;5;241m=\u001b[39m evaluation\u001b[38;5;241m.\u001b[39mnash_conv\n\u001b[1;32m     38\u001b[0m     record[\u001b[38;5;124mf\u001b[39m\u001b[38;5;124m'\u001b[39m\u001b[38;5;132;01m{\u001b[39;00mprefix\u001b[38;5;132;01m}\u001b[39;00m\u001b[38;5;124mrewards\u001b[39m\u001b[38;5;124m'\u001b[39m] \u001b[38;5;241m=\u001b[39m evaluation\u001b[38;5;241m.\u001b[39mmean_rewards\n",
      "File \u001b[0;32m/global/scratch/open_spiel/open_spiel/web/auctions/auctions/models.py:94\u001b[0m, in \u001b[0;36mEquilibriumSolverRunCheckpoint.get_straightforward_eval\u001b[0;34m(self)\u001b[0m\n\u001b[1;32m     93\u001b[0m \u001b[38;5;28;01mdef\u001b[39;00m \u001b[38;5;21mget_straightforward_eval\u001b[39m(\u001b[38;5;28mself\u001b[39m):\n\u001b[0;32m---> 94\u001b[0m     \u001b[38;5;28;01mreturn\u001b[39;00m \u001b[38;5;28;43mself\u001b[39;49m\u001b[38;5;241;43m.\u001b[39;49m\u001b[43mget_named_eval\u001b[49m\u001b[43m(\u001b[49m\u001b[38;5;124;43m'\u001b[39;49m\u001b[38;5;124;43mstraightforward\u001b[39;49m\u001b[38;5;124;43m'\u001b[39;49m\u001b[43m)\u001b[49m\n",
      "File \u001b[0;32m/global/scratch/open_spiel/open_spiel/web/auctions/auctions/models.py:105\u001b[0m, in \u001b[0;36mEquilibriumSolverRunCheckpoint.get_named_eval\u001b[0;34m(self, name)\u001b[0m\n\u001b[1;32m    103\u001b[0m         modal_name \u001b[38;5;241m+\u001b[39m\u001b[38;5;241m=\u001b[39m \u001b[38;5;124m'\u001b[39m\u001b[38;5;124m+\u001b[39m\u001b[38;5;124m'\u001b[39m\n\u001b[1;32m    104\u001b[0m     modal_name \u001b[38;5;241m+\u001b[39m\u001b[38;5;241m=\u001b[39m \u001b[38;5;124mf\u001b[39m\u001b[38;5;124m'\u001b[39m\u001b[38;5;124mp\u001b[39m\u001b[38;5;132;01m{\u001b[39;00mp\u001b[38;5;132;01m}\u001b[39;00m\u001b[38;5;124m=\u001b[39m\u001b[38;5;132;01m{\u001b[39;00mname\u001b[38;5;132;01m}\u001b[39;00m\u001b[38;5;124m'\u001b[39m\n\u001b[0;32m--> 105\u001b[0m \u001b[38;5;28;01mreturn\u001b[39;00m \u001b[38;5;28;43mself\u001b[39;49m\u001b[38;5;241;43m.\u001b[39;49m\u001b[43mevaluation_set\u001b[49m\u001b[38;5;241;43m.\u001b[39;49m\u001b[43mget\u001b[49m\u001b[43m(\u001b[49m\u001b[43mname\u001b[49m\u001b[38;5;241;43m=\u001b[39;49m\u001b[43mmodal_name\u001b[49m\u001b[43m)\u001b[49m\n",
      "File \u001b[0;32m/global/scratch/newmanne/anaconda3NEW/envs/py38/lib/python3.8/site-packages/django/db/models/manager.py:87\u001b[0m, in \u001b[0;36mBaseManager._get_queryset_methods.<locals>.create_method.<locals>.manager_method\u001b[0;34m(self, *args, **kwargs)\u001b[0m\n\u001b[1;32m     85\u001b[0m \u001b[38;5;129m@wraps\u001b[39m(method)\n\u001b[1;32m     86\u001b[0m \u001b[38;5;28;01mdef\u001b[39;00m \u001b[38;5;21mmanager_method\u001b[39m(\u001b[38;5;28mself\u001b[39m, \u001b[38;5;241m*\u001b[39margs, \u001b[38;5;241m*\u001b[39m\u001b[38;5;241m*\u001b[39mkwargs):\n\u001b[0;32m---> 87\u001b[0m     \u001b[38;5;28;01mreturn\u001b[39;00m \u001b[38;5;28;43mgetattr\u001b[39;49m\u001b[43m(\u001b[49m\u001b[38;5;28;43mself\u001b[39;49m\u001b[38;5;241;43m.\u001b[39;49m\u001b[43mget_queryset\u001b[49m\u001b[43m(\u001b[49m\u001b[43m)\u001b[49m\u001b[43m,\u001b[49m\u001b[43m \u001b[49m\u001b[43mname\u001b[49m\u001b[43m)\u001b[49m\u001b[43m(\u001b[49m\u001b[38;5;241;43m*\u001b[39;49m\u001b[43margs\u001b[49m\u001b[43m,\u001b[49m\u001b[43m \u001b[49m\u001b[38;5;241;43m*\u001b[39;49m\u001b[38;5;241;43m*\u001b[39;49m\u001b[43mkwargs\u001b[49m\u001b[43m)\u001b[49m\n",
      "File \u001b[0;32m/global/scratch/newmanne/anaconda3NEW/envs/py38/lib/python3.8/site-packages/django/db/models/query.py:633\u001b[0m, in \u001b[0;36mQuerySet.get\u001b[0;34m(self, *args, **kwargs)\u001b[0m\n\u001b[1;32m    631\u001b[0m     limit \u001b[38;5;241m=\u001b[39m MAX_GET_RESULTS\n\u001b[1;32m    632\u001b[0m     clone\u001b[38;5;241m.\u001b[39mquery\u001b[38;5;241m.\u001b[39mset_limits(high\u001b[38;5;241m=\u001b[39mlimit)\n\u001b[0;32m--> 633\u001b[0m num \u001b[38;5;241m=\u001b[39m \u001b[38;5;28;43mlen\u001b[39;49m\u001b[43m(\u001b[49m\u001b[43mclone\u001b[49m\u001b[43m)\u001b[49m\n\u001b[1;32m    634\u001b[0m \u001b[38;5;28;01mif\u001b[39;00m num \u001b[38;5;241m==\u001b[39m \u001b[38;5;241m1\u001b[39m:\n\u001b[1;32m    635\u001b[0m     \u001b[38;5;28;01mreturn\u001b[39;00m clone\u001b[38;5;241m.\u001b[39m_result_cache[\u001b[38;5;241m0\u001b[39m]\n",
      "File \u001b[0;32m/global/scratch/newmanne/anaconda3NEW/envs/py38/lib/python3.8/site-packages/django/db/models/query.py:380\u001b[0m, in \u001b[0;36mQuerySet.__len__\u001b[0;34m(self)\u001b[0m\n\u001b[1;32m    379\u001b[0m \u001b[38;5;28;01mdef\u001b[39;00m \u001b[38;5;21m__len__\u001b[39m(\u001b[38;5;28mself\u001b[39m):\n\u001b[0;32m--> 380\u001b[0m     \u001b[38;5;28;43mself\u001b[39;49m\u001b[38;5;241;43m.\u001b[39;49m\u001b[43m_fetch_all\u001b[49m\u001b[43m(\u001b[49m\u001b[43m)\u001b[49m\n\u001b[1;32m    381\u001b[0m     \u001b[38;5;28;01mreturn\u001b[39;00m \u001b[38;5;28mlen\u001b[39m(\u001b[38;5;28mself\u001b[39m\u001b[38;5;241m.\u001b[39m_result_cache)\n",
      "File \u001b[0;32m/global/scratch/newmanne/anaconda3NEW/envs/py38/lib/python3.8/site-packages/django/db/models/query.py:1881\u001b[0m, in \u001b[0;36mQuerySet._fetch_all\u001b[0;34m(self)\u001b[0m\n\u001b[1;32m   1879\u001b[0m \u001b[38;5;28;01mdef\u001b[39;00m \u001b[38;5;21m_fetch_all\u001b[39m(\u001b[38;5;28mself\u001b[39m):\n\u001b[1;32m   1880\u001b[0m     \u001b[38;5;28;01mif\u001b[39;00m \u001b[38;5;28mself\u001b[39m\u001b[38;5;241m.\u001b[39m_result_cache \u001b[38;5;129;01mis\u001b[39;00m \u001b[38;5;28;01mNone\u001b[39;00m:\n\u001b[0;32m-> 1881\u001b[0m         \u001b[38;5;28mself\u001b[39m\u001b[38;5;241m.\u001b[39m_result_cache \u001b[38;5;241m=\u001b[39m \u001b[38;5;28;43mlist\u001b[39;49m\u001b[43m(\u001b[49m\u001b[38;5;28;43mself\u001b[39;49m\u001b[38;5;241;43m.\u001b[39;49m\u001b[43m_iterable_class\u001b[49m\u001b[43m(\u001b[49m\u001b[38;5;28;43mself\u001b[39;49m\u001b[43m)\u001b[49m\u001b[43m)\u001b[49m\n\u001b[1;32m   1882\u001b[0m     \u001b[38;5;28;01mif\u001b[39;00m \u001b[38;5;28mself\u001b[39m\u001b[38;5;241m.\u001b[39m_prefetch_related_lookups \u001b[38;5;129;01mand\u001b[39;00m \u001b[38;5;129;01mnot\u001b[39;00m \u001b[38;5;28mself\u001b[39m\u001b[38;5;241m.\u001b[39m_prefetch_done:\n\u001b[1;32m   1883\u001b[0m         \u001b[38;5;28mself\u001b[39m\u001b[38;5;241m.\u001b[39m_prefetch_related_objects()\n",
      "File \u001b[0;32m/global/scratch/newmanne/anaconda3NEW/envs/py38/lib/python3.8/site-packages/django/db/models/query.py:121\u001b[0m, in \u001b[0;36mModelIterable.__iter__\u001b[0;34m(self)\u001b[0m\n\u001b[1;32m    105\u001b[0m related_populators \u001b[38;5;241m=\u001b[39m get_related_populators(klass_info, select, db)\n\u001b[1;32m    106\u001b[0m known_related_objects \u001b[38;5;241m=\u001b[39m [\n\u001b[1;32m    107\u001b[0m     (\n\u001b[1;32m    108\u001b[0m         field,\n\u001b[0;32m   (...)\u001b[0m\n\u001b[1;32m    119\u001b[0m     \u001b[38;5;28;01mfor\u001b[39;00m field, related_objs \u001b[38;5;129;01min\u001b[39;00m queryset\u001b[38;5;241m.\u001b[39m_known_related_objects\u001b[38;5;241m.\u001b[39mitems()\n\u001b[1;32m    120\u001b[0m ]\n\u001b[0;32m--> 121\u001b[0m \u001b[38;5;28;01mfor\u001b[39;00m row \u001b[38;5;129;01min\u001b[39;00m compiler\u001b[38;5;241m.\u001b[39mresults_iter(results):\n\u001b[1;32m    122\u001b[0m     obj \u001b[38;5;241m=\u001b[39m model_cls\u001b[38;5;241m.\u001b[39mfrom_db(\n\u001b[1;32m    123\u001b[0m         db, init_list, row[model_fields_start:model_fields_end]\n\u001b[1;32m    124\u001b[0m     )\n\u001b[1;32m    125\u001b[0m     \u001b[38;5;28;01mfor\u001b[39;00m rel_populator \u001b[38;5;129;01min\u001b[39;00m related_populators:\n",
      "File \u001b[0;32m/global/scratch/newmanne/anaconda3NEW/envs/py38/lib/python3.8/site-packages/django/db/models/sql/compiler.py:1500\u001b[0m, in \u001b[0;36mSQLCompiler.apply_converters\u001b[0;34m(self, rows, converters)\u001b[0m\n\u001b[1;32m   1498\u001b[0m     value \u001b[38;5;241m=\u001b[39m row[pos]\n\u001b[1;32m   1499\u001b[0m     \u001b[38;5;28;01mfor\u001b[39;00m converter \u001b[38;5;129;01min\u001b[39;00m convs:\n\u001b[0;32m-> 1500\u001b[0m         value \u001b[38;5;241m=\u001b[39m \u001b[43mconverter\u001b[49m\u001b[43m(\u001b[49m\u001b[43mvalue\u001b[49m\u001b[43m,\u001b[49m\u001b[43m \u001b[49m\u001b[43mexpression\u001b[49m\u001b[43m,\u001b[49m\u001b[43m \u001b[49m\u001b[43mconnection\u001b[49m\u001b[43m)\u001b[49m\n\u001b[1;32m   1501\u001b[0m     row[pos] \u001b[38;5;241m=\u001b[39m value\n\u001b[1;32m   1502\u001b[0m \u001b[38;5;28;01myield\u001b[39;00m row\n",
      "File \u001b[0;32m/global/scratch/newmanne/anaconda3NEW/envs/py38/lib/python3.8/site-packages/django/db/models/fields/json.py:94\u001b[0m, in \u001b[0;36mJSONField.from_db_value\u001b[0;34m(self, value, expression, connection)\u001b[0m\n\u001b[1;32m     92\u001b[0m     \u001b[38;5;28;01mreturn\u001b[39;00m value\n\u001b[1;32m     93\u001b[0m \u001b[38;5;28;01mtry\u001b[39;00m:\n\u001b[0;32m---> 94\u001b[0m     \u001b[38;5;28;01mreturn\u001b[39;00m \u001b[43mjson\u001b[49m\u001b[38;5;241;43m.\u001b[39;49m\u001b[43mloads\u001b[49m\u001b[43m(\u001b[49m\u001b[43mvalue\u001b[49m\u001b[43m,\u001b[49m\u001b[43m \u001b[49m\u001b[38;5;28;43mcls\u001b[39;49m\u001b[38;5;241;43m=\u001b[39;49m\u001b[38;5;28;43mself\u001b[39;49m\u001b[38;5;241;43m.\u001b[39;49m\u001b[43mdecoder\u001b[49m\u001b[43m)\u001b[49m\n\u001b[1;32m     95\u001b[0m \u001b[38;5;28;01mexcept\u001b[39;00m json\u001b[38;5;241m.\u001b[39mJSONDecodeError:\n\u001b[1;32m     96\u001b[0m     \u001b[38;5;28;01mreturn\u001b[39;00m value\n",
      "File \u001b[0;32m/global/scratch/newmanne/anaconda3NEW/envs/py38/lib/python3.8/json/__init__.py:357\u001b[0m, in \u001b[0;36mloads\u001b[0;34m(s, cls, object_hook, parse_float, parse_int, parse_constant, object_pairs_hook, **kw)\u001b[0m\n\u001b[1;32m    352\u001b[0m     \u001b[38;5;28;01mdel\u001b[39;00m kw[\u001b[38;5;124m'\u001b[39m\u001b[38;5;124mencoding\u001b[39m\u001b[38;5;124m'\u001b[39m]\n\u001b[1;32m    354\u001b[0m \u001b[38;5;28;01mif\u001b[39;00m (\u001b[38;5;28mcls\u001b[39m \u001b[38;5;129;01mis\u001b[39;00m \u001b[38;5;28;01mNone\u001b[39;00m \u001b[38;5;129;01mand\u001b[39;00m object_hook \u001b[38;5;129;01mis\u001b[39;00m \u001b[38;5;28;01mNone\u001b[39;00m \u001b[38;5;129;01mand\u001b[39;00m\n\u001b[1;32m    355\u001b[0m         parse_int \u001b[38;5;129;01mis\u001b[39;00m \u001b[38;5;28;01mNone\u001b[39;00m \u001b[38;5;129;01mand\u001b[39;00m parse_float \u001b[38;5;129;01mis\u001b[39;00m \u001b[38;5;28;01mNone\u001b[39;00m \u001b[38;5;129;01mand\u001b[39;00m\n\u001b[1;32m    356\u001b[0m         parse_constant \u001b[38;5;129;01mis\u001b[39;00m \u001b[38;5;28;01mNone\u001b[39;00m \u001b[38;5;129;01mand\u001b[39;00m object_pairs_hook \u001b[38;5;129;01mis\u001b[39;00m \u001b[38;5;28;01mNone\u001b[39;00m \u001b[38;5;129;01mand\u001b[39;00m \u001b[38;5;129;01mnot\u001b[39;00m kw):\n\u001b[0;32m--> 357\u001b[0m     \u001b[38;5;28;01mreturn\u001b[39;00m \u001b[43m_default_decoder\u001b[49m\u001b[38;5;241;43m.\u001b[39;49m\u001b[43mdecode\u001b[49m\u001b[43m(\u001b[49m\u001b[43ms\u001b[49m\u001b[43m)\u001b[49m\n\u001b[1;32m    358\u001b[0m \u001b[38;5;28;01mif\u001b[39;00m \u001b[38;5;28mcls\u001b[39m \u001b[38;5;129;01mis\u001b[39;00m \u001b[38;5;28;01mNone\u001b[39;00m:\n\u001b[1;32m    359\u001b[0m     \u001b[38;5;28mcls\u001b[39m \u001b[38;5;241m=\u001b[39m JSONDecoder\n",
      "File \u001b[0;32m/global/scratch/newmanne/anaconda3NEW/envs/py38/lib/python3.8/json/decoder.py:337\u001b[0m, in \u001b[0;36mJSONDecoder.decode\u001b[0;34m(self, s, _w)\u001b[0m\n\u001b[1;32m    332\u001b[0m \u001b[38;5;28;01mdef\u001b[39;00m \u001b[38;5;21mdecode\u001b[39m(\u001b[38;5;28mself\u001b[39m, s, _w\u001b[38;5;241m=\u001b[39mWHITESPACE\u001b[38;5;241m.\u001b[39mmatch):\n\u001b[1;32m    333\u001b[0m \u001b[38;5;250m    \u001b[39m\u001b[38;5;124;03m\"\"\"Return the Python representation of ``s`` (a ``str`` instance\u001b[39;00m\n\u001b[1;32m    334\u001b[0m \u001b[38;5;124;03m    containing a JSON document).\u001b[39;00m\n\u001b[1;32m    335\u001b[0m \n\u001b[1;32m    336\u001b[0m \u001b[38;5;124;03m    \"\"\"\u001b[39;00m\n\u001b[0;32m--> 337\u001b[0m     obj, end \u001b[38;5;241m=\u001b[39m \u001b[38;5;28;43mself\u001b[39;49m\u001b[38;5;241;43m.\u001b[39;49m\u001b[43mraw_decode\u001b[49m\u001b[43m(\u001b[49m\u001b[43ms\u001b[49m\u001b[43m,\u001b[49m\u001b[43m \u001b[49m\u001b[43midx\u001b[49m\u001b[38;5;241;43m=\u001b[39;49m\u001b[43m_w\u001b[49m\u001b[43m(\u001b[49m\u001b[43ms\u001b[49m\u001b[43m,\u001b[49m\u001b[43m \u001b[49m\u001b[38;5;241;43m0\u001b[39;49m\u001b[43m)\u001b[49m\u001b[38;5;241;43m.\u001b[39;49m\u001b[43mend\u001b[49m\u001b[43m(\u001b[49m\u001b[43m)\u001b[49m\u001b[43m)\u001b[49m\n\u001b[1;32m    338\u001b[0m     end \u001b[38;5;241m=\u001b[39m _w(s, end)\u001b[38;5;241m.\u001b[39mend()\n\u001b[1;32m    339\u001b[0m     \u001b[38;5;28;01mif\u001b[39;00m end \u001b[38;5;241m!=\u001b[39m \u001b[38;5;28mlen\u001b[39m(s):\n",
      "File \u001b[0;32m/global/scratch/newmanne/anaconda3NEW/envs/py38/lib/python3.8/json/decoder.py:353\u001b[0m, in \u001b[0;36mJSONDecoder.raw_decode\u001b[0;34m(self, s, idx)\u001b[0m\n\u001b[1;32m    344\u001b[0m \u001b[38;5;250m\u001b[39m\u001b[38;5;124;03m\"\"\"Decode a JSON document from ``s`` (a ``str`` beginning with\u001b[39;00m\n\u001b[1;32m    345\u001b[0m \u001b[38;5;124;03ma JSON document) and return a 2-tuple of the Python\u001b[39;00m\n\u001b[1;32m    346\u001b[0m \u001b[38;5;124;03mrepresentation and the index in ``s`` where the document ended.\u001b[39;00m\n\u001b[0;32m   (...)\u001b[0m\n\u001b[1;32m    350\u001b[0m \n\u001b[1;32m    351\u001b[0m \u001b[38;5;124;03m\"\"\"\u001b[39;00m\n\u001b[1;32m    352\u001b[0m \u001b[38;5;28;01mtry\u001b[39;00m:\n\u001b[0;32m--> 353\u001b[0m     obj, end \u001b[38;5;241m=\u001b[39m \u001b[38;5;28;43mself\u001b[39;49m\u001b[38;5;241;43m.\u001b[39;49m\u001b[43mscan_once\u001b[49m\u001b[43m(\u001b[49m\u001b[43ms\u001b[49m\u001b[43m,\u001b[49m\u001b[43m \u001b[49m\u001b[43midx\u001b[49m\u001b[43m)\u001b[49m\n\u001b[1;32m    354\u001b[0m \u001b[38;5;28;01mexcept\u001b[39;00m \u001b[38;5;167;01mStopIteration\u001b[39;00m \u001b[38;5;28;01mas\u001b[39;00m err:\n\u001b[1;32m    355\u001b[0m     \u001b[38;5;28;01mraise\u001b[39;00m JSONDecodeError(\u001b[38;5;124m\"\u001b[39m\u001b[38;5;124mExpecting value\u001b[39m\u001b[38;5;124m\"\u001b[39m, s, err\u001b[38;5;241m.\u001b[39mvalue) \u001b[38;5;28;01mfrom\u001b[39;00m \u001b[38;5;28;01mNone\u001b[39;00m\n",
      "\u001b[0;31mKeyboardInterrupt\u001b[0m: "
     ]
    }
   ],
   "source": [
    "experiment_to_csv(['feb6_v1'], 'results/feb6_v1.csv')"
   ]
  },
  {
   "cell_type": "code",
   "execution_count": null,
   "metadata": {},
   "outputs": [],
   "source": [
    "# only PPO\n",
    "experiment_to_csv(['feb5_v2'], 'results/feb5_v2.csv')"
   ]
  },
  {
   "cell_type": "code",
   "execution_count": 6,
   "metadata": {},
   "outputs": [
    {
     "name": "stdout",
     "output_type": "stream",
     "text": [
      "Found 660 runs\n"
     ]
    },
    {
     "name": "stderr",
     "output_type": "stream",
     "text": [
      " 69%|██████▉   | 455/660 [08:23<03:02,  1.12it/s]"
     ]
    },
    {
     "name": "stdout",
     "output_type": "stream",
     "text": [
      "Failed to parse results for run feb4_4t_feb4_4t_0_base_dev1000_rho0_t4_tie_break-ppo_jun8_23ppo_76-104 (feb5_v2). Error: Evaluation matching query does not exist.\n"
     ]
    },
    {
     "name": "stderr",
     "output_type": "stream",
     "text": [
      " 89%|████████▉ | 590/660 [11:10<01:16,  1.09s/it]"
     ]
    },
    {
     "name": "stdout",
     "output_type": "stream",
     "text": [
      "Failed to parse results for run feb4_4t_feb4_4t_3_base_dev1000_rho0_t4_tie_break-ppo_jun8_23ppo_76-106 (feb5_v2). Error: Evaluation matching query does not exist.\n"
     ]
    },
    {
     "name": "stderr",
     "output_type": "stream",
     "text": [
      "100%|██████████| 660/660 [12:30<00:00,  1.14s/it]\n"
     ]
    },
    {
     "name": "stdout",
     "output_type": "stream",
     "text": [
      "Parsed results for 660 runs.\n"
     ]
    }
   ],
   "source": [
    "experiment_to_csv(['feb5_v2'], 'results/feb5_v2.csv')"
   ]
  },
  {
   "cell_type": "code",
   "execution_count": 5,
   "metadata": {},
   "outputs": [
    {
     "name": "stdout",
     "output_type": "stream",
     "text": [
      "Found 800 runs\n"
     ]
    },
    {
     "name": "stderr",
     "output_type": "stream",
     "text": [
      "  2%|▏         | 14/800 [00:00<00:05, 133.76it/s]"
     ]
    },
    {
     "name": "stdout",
     "output_type": "stream",
     "text": [
      "Skipping run feb4_3t_feb4_3t_2_base_dev1000_rho0_t3_tie_break-cfr_10external_plus_linear-101 because of error None final checkpoint?\n",
      "Skipping run feb4_1t_feb4_1t_0_base_dev1000_rho0_t1-cfr_10external_plus_linear-100 because of error None final checkpoint?\n",
      "Skipping run feb4_4t_feb4_4t_4_base_dev1000_rho1_t4-cfr_10external_plus_linear-104 because of error None final checkpoint?\n",
      "Skipping run feb4_1t_feb4_1t_0_base_dev1000_rho0_t1-cfr_10external_plus_linear-101 because of error None final checkpoint?\n",
      "Skipping run feb4_1t_feb4_1t_1_base_dev1000_rho1_t1_tie_break-cfr_10external_plus_linear-104 because of error None final checkpoint?\n",
      "Skipping run feb4_2t_feb4_2t_2_base_dev1000_rho1_t2-cfr_10external_plus_linear-100 because of error None final checkpoint?\n",
      "Skipping run feb4_2t_feb4_2t_2_base_dev1000_rho1_t2-cfr_10external_plus_linear-101 because of error None final checkpoint?\n",
      "Skipping run feb4_3t_feb4_3t_0_base_dev1000_rho1_t3-cfr_10external_plus_linear-100 because of error None final checkpoint?\n",
      "Skipping run feb4_2t_feb4_2t_2_base_dev1000_rho1_t2-cfr_10external_plus_linear-102 because of error None final checkpoint?\n",
      "Skipping run feb4_3t_feb4_3t_0_base_dev1000_rho1_t3-cfr_10external_plus_linear-101 because of error None final checkpoint?\n",
      "Skipping run feb4_2t_feb4_2t_2_base_dev1000_rho1_t2-cfr_10external_plus_linear-103 because of error None final checkpoint?\n",
      "Skipping run feb4_3t_feb4_3t_0_base_dev1000_rho1_t3-cfr_10external_plus_linear-102 because of error None final checkpoint?\n",
      "Skipping run feb4_2t_feb4_2t_2_base_dev1000_rho1_t2-cfr_10external_plus_linear-104 because of error None final checkpoint?\n",
      "Skipping run feb4_3t_feb4_3t_0_base_dev1000_rho1_t3-cfr_10external_plus_linear-104 because of error None final checkpoint?\n",
      "Skipping run feb4_2t_feb4_2t_2_base_dev1000_rho0_t2-cfr_10external_plus_linear-100 because of error None final checkpoint?\n",
      "Skipping run feb4_4t_feb4_4t_4_base_dev1000_rho0_t4-cfr_10external_plus_linear-101 because of error None final checkpoint?\n",
      "Skipping run feb4_1t_feb4_1t_2_base_dev1000_rho1_t1_tie_break-cfr_10external_plus_linear-100 because of error None final checkpoint?\n",
      "Skipping run feb4_1t_feb4_1t_2_base_dev1000_rho1_t1_tie_break-cfr_10external_plus_linear-101 because of error None final checkpoint?\n",
      "Skipping run feb4_2t_feb4_2t_2_base_dev1000_rho0_t2_tie_break-cfr_10external_plus_linear-102 because of error None final checkpoint?\n"
     ]
    },
    {
     "name": "stderr",
     "output_type": "stream",
     "text": [
      "  4%|▎         | 28/800 [00:05<03:12,  4.00it/s] "
     ]
    },
    {
     "name": "stdout",
     "output_type": "stream",
     "text": [
      "Skipping run feb4_4t_feb4_4t_4_base_dev1000_rho1_t4-cfr_10external_plus_linear-103 because of error None final checkpoint?\n",
      "Skipping run feb4_3t_feb4_3t_2_base_dev1000_rho0_t3_tie_break-cfr_10external_plus_linear-103 because of error None final checkpoint?\n",
      "Skipping run feb4_4t_feb4_4t_4_base_dev1000_rho1_t4-cfr_10external_plus_linear-101 because of error None final checkpoint?\n",
      "Skipping run feb4_3t_feb4_3t_2_base_dev1000_rho0_t3_tie_break-cfr_10external_plus_linear-102 because of error None final checkpoint?\n",
      "Skipping run feb4_4t_feb4_4t_4_base_dev1000_rho1_t4-cfr_10external_plus_linear-100 because of error None final checkpoint?\n",
      "Skipping run feb4_3t_feb4_3t_2_base_dev1000_rho0_t3_tie_break-cfr_10external_plus_linear-104 because of error None final checkpoint?\n",
      "Skipping run feb4_4t_feb4_4t_4_base_dev1000_rho1_t4-cfr_10external_plus_linear-102 because of error None final checkpoint?\n",
      "Skipping run feb4_1t_feb4_1t_0_base_dev1000_rho0_t1-cfr_10external_plus_linear-104 because of error None final checkpoint?\n",
      "Skipping run feb4_1t_feb4_1t_4_base_dev1000_rho0_t1_tie_break-cfr_10external_plus_linear-104 because of error None final checkpoint?\n",
      "Skipping run feb4_1t_feb4_1t_0_base_dev1000_rho0_t1-cfr_10external_plus_linear-103 because of error None final checkpoint?\n",
      "Skipping run feb4_3t_feb4_3t_2_base_dev1000_rho0_t3_tie_break-cfr_10external_plus_linear-100 because of error None final checkpoint?\n",
      "Skipping run feb4_1t_feb4_1t_0_base_dev1000_rho0_t1-cfr_10external_plus_linear-102 because of error None final checkpoint?\n",
      "Skipping run feb4_2t_feb4_2t_2_base_dev1000_rho0_t2-cfr_10external_plus_linear-101 because of error None final checkpoint?\n",
      "Skipping run feb4_4t_feb4_4t_0_base_dev1000_rho1_t4_tie_break-cfr_10external_plus_linear-100 because of error None final checkpoint?\n"
     ]
    },
    {
     "name": "stderr",
     "output_type": "stream",
     "text": [
      "  5%|▍         | 39/800 [00:07<02:25,  5.23it/s]\n",
      "\n",
      "KeyboardInterrupt\n",
      "\n"
     ]
    }
   ],
   "source": [
    "experiment_to_csv(['feb4_v1'], 'results/feb4_v1.csv')"
   ]
  },
  {
   "cell_type": "code",
   "execution_count": 34,
   "metadata": {},
   "outputs": [
    {
     "data": {
      "text/plain": [
       "800"
      ]
     },
     "execution_count": 34,
     "metadata": {},
     "output_type": "execute_result"
    }
   ],
   "source": [
    "EquilibriumSolverRun.objects.filter(experiment__name='feb4_v1').count()"
   ]
  },
  {
   "cell_type": "code",
   "execution_count": 36,
   "metadata": {},
   "outputs": [
    {
     "data": {
      "text/plain": [
       "400"
      ]
     },
     "execution_count": 36,
     "metadata": {},
     "output_type": "execute_result"
    }
   ],
   "source": [
    "EquilibriumSolverRunCheckpoint.objects.filter(equilibrium_solver_run__experiment__name='feb4_v1').count()"
   ]
  },
  {
   "cell_type": "code",
   "execution_count": 40,
   "metadata": {},
   "outputs": [
    {
     "data": {
      "text/plain": [
       "0"
      ]
     },
     "execution_count": 40,
     "metadata": {},
     "output_type": "execute_result"
    }
   ],
   "source": [
    "run = EquilibriumSolverRun.objects.get(name=\"feb4_4t_feb4_4t_0_base_dev1000_rho1_t4_tie_break-cfr_10external_plus_linear-100\")\n",
    "run.equilibriumsolverruncheckpoint_set.count()"
   ]
  },
  {
   "cell_type": "code",
   "execution_count": 15,
   "metadata": {},
   "outputs": [
    {
     "data": {
      "text/plain": [
       "<EquilibriumSolverRunCheckpoint: feb4_2t_feb4_2t_1_base_dev1000_rho1_t2_tie_break-ppo_jun8_23ppo_76-103 (feb4_v1) Iteration 206848>"
      ]
     },
     "execution_count": 15,
     "metadata": {},
     "output_type": "execute_result"
    }
   ],
   "source": [
    "EquilibriumSolverRunCheckpoint.objects.last()"
   ]
  },
  {
   "cell_type": "code",
   "execution_count": 19,
   "metadata": {},
   "outputs": [],
   "source": [
    "cp = EquilibriumSolverRunCheckpoint.objects.filter(equilibrium_solver_run__experiment__name=\"feb4_v1\").first()"
   ]
  },
  {
   "cell_type": "code",
   "execution_count": 21,
   "metadata": {},
   "outputs": [
    {
     "data": {
      "text/plain": [
       "<Evaluation: Evaluation p0=modal+p1=modal for feb4_1t_feb4_1t_4_base_dev1000_rho0_t1_tie_break-ppo_jun8_23ppo_76-100 (feb4_v1) Iteration 190464>"
      ]
     },
     "execution_count": 21,
     "metadata": {},
     "output_type": "execute_result"
    }
   ],
   "source": [
    "cp.get_modal_eval()"
   ]
  },
  {
   "cell_type": "code",
   "execution_count": 24,
   "metadata": {},
   "outputs": [],
   "source": [
    "cp_run = cp.equilibrium_solver_run"
   ]
  },
  {
   "cell_type": "code",
   "execution_count": 25,
   "metadata": {},
   "outputs": [
    {
     "data": {
      "text/plain": [
       "<QuerySet [<EquilibriumSolverRunCheckpoint: feb4_1t_feb4_1t_4_base_dev1000_rho0_t1_tie_break-ppo_jun8_23ppo_76-100 (feb4_v1) Iteration 190464>]>"
      ]
     },
     "execution_count": 25,
     "metadata": {},
     "output_type": "execute_result"
    }
   ],
   "source": [
    "cp_run.equilibriumsolverruncheckpoint_set.all()"
   ]
  },
  {
   "cell_type": "code",
   "execution_count": 32,
   "metadata": {},
   "outputs": [
    {
     "data": {
      "text/plain": [
       "['feb4_3t_feb4_3t_2_base_dev1000_rho0_t3_tie_break-cfr_10external_plus_linear-101',\n",
       " 'feb4_1t_feb4_1t_0_base_dev1000_rho0_t1-cfr_10external_plus_linear-100',\n",
       " 'feb4_4t_feb4_4t_4_base_dev1000_rho1_t4-cfr_10external_plus_linear-104',\n",
       " 'feb4_1t_feb4_1t_0_base_dev1000_rho0_t1-cfr_10external_plus_linear-101',\n",
       " 'feb4_1t_feb4_1t_1_base_dev1000_rho1_t1_tie_break-cfr_10external_plus_linear-104',\n",
       " 'feb4_2t_feb4_2t_2_base_dev1000_rho1_t2-cfr_10external_plus_linear-100',\n",
       " 'feb4_2t_feb4_2t_2_base_dev1000_rho1_t2-cfr_10external_plus_linear-101',\n",
       " 'feb4_3t_feb4_3t_0_base_dev1000_rho1_t3-cfr_10external_plus_linear-100',\n",
       " 'feb4_2t_feb4_2t_2_base_dev1000_rho1_t2-cfr_10external_plus_linear-102',\n",
       " 'feb4_3t_feb4_3t_0_base_dev1000_rho1_t3-cfr_10external_plus_linear-101',\n",
       " 'feb4_2t_feb4_2t_2_base_dev1000_rho1_t2-cfr_10external_plus_linear-103',\n",
       " 'feb4_3t_feb4_3t_0_base_dev1000_rho1_t3-cfr_10external_plus_linear-102',\n",
       " 'feb4_2t_feb4_2t_2_base_dev1000_rho1_t2-cfr_10external_plus_linear-104',\n",
       " 'feb4_3t_feb4_3t_0_base_dev1000_rho1_t3-cfr_10external_plus_linear-104',\n",
       " 'feb4_2t_feb4_2t_2_base_dev1000_rho0_t2-cfr_10external_plus_linear-100',\n",
       " 'feb4_2t_feb4_2t_2_base_dev1000_rho0_t2-ppo_jun8_23ppo_76-102',\n",
       " 'feb4_4t_feb4_4t_4_base_dev1000_rho0_t4-cfr_10external_plus_linear-101',\n",
       " 'feb4_1t_feb4_1t_2_base_dev1000_rho1_t1_tie_break-cfr_10external_plus_linear-100',\n",
       " 'feb4_1t_feb4_1t_2_base_dev1000_rho1_t1_tie_break-cfr_10external_plus_linear-101',\n",
       " 'feb4_1t_feb4_1t_2_base_dev1000_rho1_t1_tie_break-ppo_jun8_23ppo_76-102',\n",
       " 'feb4_1t_feb4_1t_2_base_dev1000_rho1_t1_tie_break-ppo_jun8_23ppo_76-104',\n",
       " 'feb4_2t_feb4_2t_4_base_dev1000_rho1_t2-ppo_jun8_23ppo_76-101',\n",
       " 'feb4_2t_feb4_2t_2_base_dev1000_rho0_t2_tie_break-cfr_10external_plus_linear-102',\n",
       " 'feb4_1t_feb4_1t_4_base_dev1000_rho0_t1_tie_break-ppo_jun8_23ppo_76-102',\n",
       " 'feb4_4t_feb4_4t_4_base_dev1000_rho1_t4-cfr_10external_plus_linear-103',\n",
       " 'feb4_3t_feb4_3t_2_base_dev1000_rho0_t3_tie_break-cfr_10external_plus_linear-103',\n",
       " 'feb4_4t_feb4_4t_4_base_dev1000_rho1_t4-cfr_10external_plus_linear-101',\n",
       " 'feb4_3t_feb4_3t_2_base_dev1000_rho0_t3_tie_break-cfr_10external_plus_linear-102',\n",
       " 'feb4_4t_feb4_4t_4_base_dev1000_rho1_t4-cfr_10external_plus_linear-100',\n",
       " 'feb4_3t_feb4_3t_2_base_dev1000_rho0_t3_tie_break-cfr_10external_plus_linear-104',\n",
       " 'feb4_4t_feb4_4t_4_base_dev1000_rho1_t4-cfr_10external_plus_linear-102',\n",
       " 'feb4_1t_feb4_1t_0_base_dev1000_rho0_t1-cfr_10external_plus_linear-104',\n",
       " 'feb4_1t_feb4_1t_4_base_dev1000_rho0_t1_tie_break-cfr_10external_plus_linear-104',\n",
       " 'feb4_1t_feb4_1t_0_base_dev1000_rho0_t1-cfr_10external_plus_linear-103',\n",
       " 'feb4_3t_feb4_3t_2_base_dev1000_rho0_t3_tie_break-cfr_10external_plus_linear-100',\n",
       " 'feb4_1t_feb4_1t_0_base_dev1000_rho0_t1-cfr_10external_plus_linear-102',\n",
       " 'feb4_2t_feb4_2t_2_base_dev1000_rho0_t2-cfr_10external_plus_linear-101',\n",
       " 'feb4_4t_feb4_4t_0_base_dev1000_rho1_t4_tie_break-cfr_10external_plus_linear-100',\n",
       " 'feb4_4t_feb4_4t_0_base_dev1000_rho1_t4_tie_break-ppo_jun8_23ppo_76-101',\n",
       " 'feb4_4t_feb4_4t_4_base_dev1000_rho0_t4-ppo_jun8_23ppo_76-100',\n",
       " 'feb4_1t_feb4_1t_2_base_dev1000_rho1_t1_tie_break-cfr_10external_plus_linear-103',\n",
       " 'feb4_2t_feb4_2t_4_base_dev1000_rho1_t2-cfr_10external_plus_linear-101',\n",
       " 'feb4_2t_feb4_2t_4_base_dev1000_rho1_t2-cfr_10external_plus_linear-104',\n",
       " 'feb4_2t_feb4_2t_4_base_dev1000_rho1_t2-ppo_jun8_23ppo_76-103',\n",
       " 'feb4_2t_feb4_2t_2_base_dev1000_rho0_t2_tie_break-cfr_10external_plus_linear-104',\n",
       " 'feb4_4t_feb4_4t_2_base_dev1000_rho1_t4_tie_break-cfr_10external_plus_linear-104',\n",
       " 'feb4_2t_feb4_2t_0_base_dev1000_rho0_t2-cfr_10external_plus_linear-101',\n",
       " 'feb4_1t_feb4_1t_4_base_dev1000_rho0_t1_tie_break-ppo_jun8_23ppo_76-100',\n",
       " 'feb4_1t_feb4_1t_4_base_dev1000_rho0_t1_tie_break-ppo_jun8_23ppo_76-101',\n",
       " 'feb4_2t_feb4_2t_2_base_dev1000_rho0_t2-cfr_10external_plus_linear-102',\n",
       " 'feb4_2t_feb4_2t_2_base_dev1000_rho0_t2-ppo_jun8_23ppo_76-104',\n",
       " 'feb4_4t_feb4_4t_0_base_dev1000_rho1_t4_tie_break-ppo_jun8_23ppo_76-102',\n",
       " 'feb4_4t_feb4_4t_4_base_dev1000_rho0_t4-ppo_jun8_23ppo_76-102',\n",
       " 'feb4_1t_feb4_1t_2_base_dev1000_rho1_t1_tie_break-cfr_10external_plus_linear-104',\n",
       " 'feb4_1t_feb4_1t_2_base_dev1000_rho1_t1_tie_break-ppo_jun8_23ppo_76-103',\n",
       " 'feb4_4t_feb4_4t_2_base_dev1000_rho1_t4_tie_break-cfr_10external_plus_linear-101',\n",
       " 'feb4_3t_feb4_3t_0_base_dev1000_rho1_t3-cfr_10external_plus_linear-103',\n",
       " 'feb4_1t_feb4_1t_4_base_dev1000_rho0_t1_tie_break-cfr_10external_plus_linear-100',\n",
       " 'feb4_1t_feb4_1t_4_base_dev1000_rho0_t1_tie_break-cfr_10external_plus_linear-103',\n",
       " 'feb4_1t_feb4_1t_4_base_dev1000_rho0_t1_tie_break-cfr_10external_plus_linear-102',\n",
       " 'feb4_1t_feb4_1t_4_base_dev1000_rho0_t1_tie_break-cfr_10external_plus_linear-101',\n",
       " 'feb4_1t_feb4_1t_1_base_dev1000_rho1_t1_tie_break-ppo_jun8_23ppo_76-101',\n",
       " 'feb4_1t_feb4_1t_1_base_dev1000_rho1_t1_tie_break-cfr_10external_plus_linear-101',\n",
       " 'feb4_1t_feb4_1t_1_base_dev1000_rho1_t1_tie_break-cfr_10external_plus_linear-103',\n",
       " 'feb4_1t_feb4_1t_1_base_dev1000_rho1_t1_tie_break-cfr_10external_plus_linear-100',\n",
       " 'feb4_1t_feb4_1t_1_base_dev1000_rho1_t1_tie_break-cfr_10external_plus_linear-102',\n",
       " 'feb4_1t_feb4_1t_1_base_dev1000_rho1_t1_tie_break-ppo_jun8_23ppo_76-100',\n",
       " 'feb4_1t_feb4_1t_1_base_dev1000_rho1_t1_tie_break-ppo_jun8_23ppo_76-102',\n",
       " 'feb4_3t_feb4_3t_4_base_dev1000_rho0_t3_tie_break-cfr_10external_plus_linear-102',\n",
       " 'feb4_3t_feb4_3t_4_base_dev1000_rho0_t3_tie_break-cfr_10external_plus_linear-101',\n",
       " 'feb4_4t_feb4_4t_4_base_dev1000_rho1_t4-ppo_jun8_23ppo_76-103',\n",
       " 'feb4_4t_feb4_4t_4_base_dev1000_rho1_t4-ppo_jun8_23ppo_76-104',\n",
       " 'feb4_4t_feb4_4t_4_base_dev1000_rho1_t4-ppo_jun8_23ppo_76-102',\n",
       " 'feb4_4t_feb4_4t_4_base_dev1000_rho1_t4-ppo_jun8_23ppo_76-101',\n",
       " 'feb4_3t_feb4_3t_2_base_dev1000_rho0_t3_tie_break-ppo_jun8_23ppo_76-100',\n",
       " 'feb4_4t_feb4_4t_4_base_dev1000_rho1_t4-ppo_jun8_23ppo_76-100',\n",
       " 'feb4_1t_feb4_1t_0_base_dev1000_rho0_t1-ppo_jun8_23ppo_76-100',\n",
       " 'feb4_3t_feb4_3t_2_base_dev1000_rho0_t3_tie_break-ppo_jun8_23ppo_76-103',\n",
       " 'feb4_3t_feb4_3t_2_base_dev1000_rho0_t3_tie_break-ppo_jun8_23ppo_76-101',\n",
       " 'feb4_3t_feb4_3t_2_base_dev1000_rho0_t3_tie_break-ppo_jun8_23ppo_76-104',\n",
       " 'feb4_3t_feb4_3t_2_base_dev1000_rho0_t3_tie_break-ppo_jun8_23ppo_76-102',\n",
       " 'feb4_1t_feb4_1t_4_base_dev1000_rho0_t1_tie_break-ppo_jun8_23ppo_76-103',\n",
       " 'feb4_1t_feb4_1t_1_base_dev1000_rho1_t1_tie_break-ppo_jun8_23ppo_76-103',\n",
       " 'feb4_1t_feb4_1t_1_base_dev1000_rho1_t1_tie_break-ppo_jun8_23ppo_76-104',\n",
       " 'feb4_3t_feb4_3t_4_base_dev1000_rho0_t3_tie_break-cfr_10external_plus_linear-104',\n",
       " 'feb4_3t_feb4_3t_4_base_dev1000_rho0_t3_tie_break-cfr_10external_plus_linear-103',\n",
       " 'feb4_3t_feb4_3t_4_base_dev1000_rho0_t3_tie_break-cfr_10external_plus_linear-100',\n",
       " 'feb4_2t_feb4_2t_2_base_dev1000_rho1_t2-ppo_jun8_23ppo_76-102',\n",
       " 'feb4_2t_feb4_2t_2_base_dev1000_rho1_t2-ppo_jun8_23ppo_76-100',\n",
       " 'feb4_2t_feb4_2t_2_base_dev1000_rho1_t2-ppo_jun8_23ppo_76-101',\n",
       " 'feb4_1t_feb4_1t_0_base_dev1000_rho0_t1-ppo_jun8_23ppo_76-103',\n",
       " 'feb4_1t_feb4_1t_0_base_dev1000_rho0_t1-ppo_jun8_23ppo_76-104',\n",
       " 'feb4_1t_feb4_1t_0_base_dev1000_rho0_t1-ppo_jun8_23ppo_76-102',\n",
       " 'feb4_1t_feb4_1t_0_base_dev1000_rho0_t1-ppo_jun8_23ppo_76-101',\n",
       " 'feb4_4t_feb4_4t_2_base_dev1000_rho0_t4-cfr_10external_plus_linear-102',\n",
       " 'feb4_4t_feb4_4t_2_base_dev1000_rho0_t4-cfr_10external_plus_linear-104',\n",
       " 'feb4_2t_feb4_2t_2_base_dev1000_rho1_t2-ppo_jun8_23ppo_76-103',\n",
       " 'feb4_4t_feb4_4t_2_base_dev1000_rho0_t4-cfr_10external_plus_linear-103',\n",
       " 'feb4_4t_feb4_4t_2_base_dev1000_rho0_t4-cfr_10external_plus_linear-101',\n",
       " 'feb4_4t_feb4_4t_2_base_dev1000_rho0_t4-cfr_10external_plus_linear-100',\n",
       " 'feb4_2t_feb4_2t_2_base_dev1000_rho1_t2-ppo_jun8_23ppo_76-104',\n",
       " 'feb4_3t_feb4_3t_0_base_dev1000_rho1_t3-ppo_jun8_23ppo_76-100',\n",
       " 'feb4_3t_feb4_3t_0_base_dev1000_rho1_t3-ppo_jun8_23ppo_76-101',\n",
       " 'feb4_2t_feb4_2t_1_base_dev1000_rho0_t2-cfr_10external_plus_linear-102',\n",
       " 'feb4_3t_feb4_3t_0_base_dev1000_rho1_t3-ppo_jun8_23ppo_76-103',\n",
       " 'feb4_3t_feb4_3t_0_base_dev1000_rho1_t3-ppo_jun8_23ppo_76-102',\n",
       " 'feb4_3t_feb4_3t_0_base_dev1000_rho1_t3-ppo_jun8_23ppo_76-104',\n",
       " 'feb4_2t_feb4_2t_1_base_dev1000_rho1_t2-cfr_10external_plus_linear-101',\n",
       " 'feb4_2t_feb4_2t_1_base_dev1000_rho1_t2-cfr_10external_plus_linear-100',\n",
       " 'feb4_2t_feb4_2t_1_base_dev1000_rho1_t2-cfr_10external_plus_linear-102',\n",
       " 'feb4_2t_feb4_2t_1_base_dev1000_rho1_t2-cfr_10external_plus_linear-104',\n",
       " 'feb4_2t_feb4_2t_1_base_dev1000_rho1_t2-cfr_10external_plus_linear-103',\n",
       " 'feb4_3t_feb4_3t_4_base_dev1000_rho0_t3_tie_break-ppo_jun8_23ppo_76-100',\n",
       " 'feb4_1t_feb4_1t_4_base_dev1000_rho0_t1_tie_break-ppo_jun8_23ppo_76-104',\n",
       " 'feb4_3t_feb4_3t_4_base_dev1000_rho0_t3_tie_break-ppo_jun8_23ppo_76-102',\n",
       " 'feb4_3t_feb4_3t_4_base_dev1000_rho0_t3_tie_break-ppo_jun8_23ppo_76-103',\n",
       " 'feb4_3t_feb4_3t_4_base_dev1000_rho0_t3_tie_break-ppo_jun8_23ppo_76-101',\n",
       " 'feb4_3t_feb4_3t_4_base_dev1000_rho0_t3_tie_break-ppo_jun8_23ppo_76-104',\n",
       " 'feb4_1t_feb4_1t_4_base_dev1000_rho0_t1-cfr_10external_plus_linear-100',\n",
       " 'feb4_1t_feb4_1t_4_base_dev1000_rho0_t1-cfr_10external_plus_linear-101',\n",
       " 'feb4_1t_feb4_1t_4_base_dev1000_rho0_t1-cfr_10external_plus_linear-104',\n",
       " 'feb4_4t_feb4_4t_2_base_dev1000_rho0_t4-ppo_jun8_23ppo_76-102',\n",
       " 'feb4_4t_feb4_4t_2_base_dev1000_rho0_t4-ppo_jun8_23ppo_76-101',\n",
       " 'feb4_4t_feb4_4t_2_base_dev1000_rho0_t4-ppo_jun8_23ppo_76-104',\n",
       " 'feb4_4t_feb4_4t_2_base_dev1000_rho0_t4-ppo_jun8_23ppo_76-103',\n",
       " 'feb4_4t_feb4_4t_2_base_dev1000_rho0_t4-ppo_jun8_23ppo_76-100',\n",
       " 'feb4_1t_feb4_1t_4_base_dev1000_rho0_t1-cfr_10external_plus_linear-103',\n",
       " 'feb4_1t_feb4_1t_4_base_dev1000_rho0_t1-cfr_10external_plus_linear-102',\n",
       " 'feb4_4t_feb4_4t_1_base_dev1000_rho1_t4-cfr_10external_plus_linear-100',\n",
       " 'feb4_4t_feb4_4t_1_base_dev1000_rho1_t4-cfr_10external_plus_linear-101',\n",
       " 'feb4_4t_feb4_4t_1_base_dev1000_rho1_t4-cfr_10external_plus_linear-103',\n",
       " 'feb4_4t_feb4_4t_1_base_dev1000_rho1_t4-cfr_10external_plus_linear-102',\n",
       " 'feb4_2t_feb4_2t_1_base_dev1000_rho1_t2-ppo_jun8_23ppo_76-103',\n",
       " 'feb4_2t_feb4_2t_1_base_dev1000_rho1_t2-ppo_jun8_23ppo_76-101',\n",
       " 'feb4_2t_feb4_2t_1_base_dev1000_rho1_t2-ppo_jun8_23ppo_76-102',\n",
       " 'feb4_2t_feb4_2t_1_base_dev1000_rho1_t2-ppo_jun8_23ppo_76-100',\n",
       " 'feb4_1t_feb4_1t_4_base_dev1000_rho0_t1-ppo_jun8_23ppo_76-101',\n",
       " 'feb4_1t_feb4_1t_4_base_dev1000_rho0_t1-ppo_jun8_23ppo_76-100',\n",
       " 'feb4_1t_feb4_1t_4_base_dev1000_rho0_t1-ppo_jun8_23ppo_76-102',\n",
       " 'feb4_2t_feb4_2t_1_base_dev1000_rho1_t2-ppo_jun8_23ppo_76-104',\n",
       " 'feb4_1t_feb4_1t_4_base_dev1000_rho0_t1-ppo_jun8_23ppo_76-104',\n",
       " 'feb4_1t_feb4_1t_4_base_dev1000_rho0_t1-ppo_jun8_23ppo_76-103',\n",
       " 'feb4_4t_feb4_4t_1_base_dev1000_rho1_t4-cfr_10external_plus_linear-104',\n",
       " 'feb4_4t_feb4_4t_1_base_dev1000_rho1_t4_tie_break-cfr_10external_plus_linear-101',\n",
       " 'feb4_4t_feb4_4t_1_base_dev1000_rho1_t4_tie_break-cfr_10external_plus_linear-100',\n",
       " 'feb4_4t_feb4_4t_1_base_dev1000_rho1_t4_tie_break-cfr_10external_plus_linear-102',\n",
       " 'feb4_4t_feb4_4t_1_base_dev1000_rho1_t4-ppo_jun8_23ppo_76-101',\n",
       " 'feb4_4t_feb4_4t_1_base_dev1000_rho1_t4-ppo_jun8_23ppo_76-100',\n",
       " 'feb4_4t_feb4_4t_1_base_dev1000_rho1_t4-ppo_jun8_23ppo_76-103',\n",
       " 'feb4_4t_feb4_4t_1_base_dev1000_rho1_t4-ppo_jun8_23ppo_76-102',\n",
       " 'feb4_4t_feb4_4t_1_base_dev1000_rho1_t4_tie_break-cfr_10external_plus_linear-103',\n",
       " 'feb4_4t_feb4_4t_1_base_dev1000_rho1_t4-ppo_jun8_23ppo_76-104',\n",
       " 'feb4_4t_feb4_4t_1_base_dev1000_rho1_t4_tie_break-cfr_10external_plus_linear-104',\n",
       " 'feb4_4t_feb4_4t_1_base_dev1000_rho1_t4_tie_break-ppo_jun8_23ppo_76-100',\n",
       " 'feb4_4t_feb4_4t_1_base_dev1000_rho1_t4_tie_break-ppo_jun8_23ppo_76-101',\n",
       " 'feb4_4t_feb4_4t_1_base_dev1000_rho1_t4_tie_break-ppo_jun8_23ppo_76-103',\n",
       " 'feb4_4t_feb4_4t_1_base_dev1000_rho1_t4_tie_break-ppo_jun8_23ppo_76-102',\n",
       " 'feb4_4t_feb4_4t_1_base_dev1000_rho1_t4_tie_break-ppo_jun8_23ppo_76-104',\n",
       " 'feb4_2t_feb4_2t_1_base_dev1000_rho0_t2-cfr_10external_plus_linear-100',\n",
       " 'feb4_2t_feb4_2t_1_base_dev1000_rho0_t2-cfr_10external_plus_linear-101',\n",
       " 'feb4_2t_feb4_2t_1_base_dev1000_rho0_t2-cfr_10external_plus_linear-103',\n",
       " 'feb4_2t_feb4_2t_1_base_dev1000_rho0_t2-cfr_10external_plus_linear-104',\n",
       " 'feb4_2t_feb4_2t_1_base_dev1000_rho0_t2-ppo_jun8_23ppo_76-100',\n",
       " 'feb4_2t_feb4_2t_1_base_dev1000_rho0_t2-ppo_jun8_23ppo_76-101',\n",
       " 'feb4_1t_feb4_1t_1_base_dev1000_rho0_t1_tie_break-cfr_10external_plus_linear-100',\n",
       " 'feb4_1t_feb4_1t_1_base_dev1000_rho0_t1_tie_break-cfr_10external_plus_linear-101',\n",
       " 'feb4_1t_feb4_1t_1_base_dev1000_rho0_t1_tie_break-cfr_10external_plus_linear-102',\n",
       " 'feb4_1t_feb4_1t_1_base_dev1000_rho0_t1_tie_break-cfr_10external_plus_linear-104',\n",
       " 'feb4_1t_feb4_1t_1_base_dev1000_rho0_t1_tie_break-cfr_10external_plus_linear-103',\n",
       " 'feb4_2t_feb4_2t_1_base_dev1000_rho0_t2-ppo_jun8_23ppo_76-103',\n",
       " 'feb4_2t_feb4_2t_1_base_dev1000_rho0_t2-ppo_jun8_23ppo_76-102',\n",
       " 'feb4_4t_feb4_4t_1_base_dev1000_rho0_t4-cfr_10external_plus_linear-101',\n",
       " 'feb4_2t_feb4_2t_1_base_dev1000_rho0_t2-ppo_jun8_23ppo_76-104',\n",
       " 'feb4_1t_feb4_1t_1_base_dev1000_rho0_t1_tie_break-ppo_jun8_23ppo_76-102',\n",
       " 'feb4_1t_feb4_1t_1_base_dev1000_rho0_t1_tie_break-ppo_jun8_23ppo_76-103',\n",
       " 'feb4_2t_feb4_2t_4_base_dev1000_rho1_t2_tie_break-cfr_10external_plus_linear-103',\n",
       " 'feb4_2t_feb4_2t_4_base_dev1000_rho1_t2_tie_break-cfr_10external_plus_linear-102',\n",
       " 'feb4_2t_feb4_2t_4_base_dev1000_rho1_t2_tie_break-cfr_10external_plus_linear-101',\n",
       " 'feb4_2t_feb4_2t_4_base_dev1000_rho1_t2_tie_break-cfr_10external_plus_linear-100',\n",
       " 'feb4_1t_feb4_1t_1_base_dev1000_rho0_t1_tie_break-ppo_jun8_23ppo_76-101',\n",
       " 'feb4_1t_feb4_1t_1_base_dev1000_rho0_t1_tie_break-ppo_jun8_23ppo_76-100',\n",
       " 'feb4_4t_feb4_4t_1_base_dev1000_rho0_t4-cfr_10external_plus_linear-100',\n",
       " 'feb4_1t_feb4_1t_1_base_dev1000_rho0_t1_tie_break-ppo_jun8_23ppo_76-104',\n",
       " 'feb4_2t_feb4_2t_4_base_dev1000_rho1_t2_tie_break-cfr_10external_plus_linear-104',\n",
       " 'feb4_3t_feb4_3t_4_base_dev1000_rho0_t3-cfr_10external_plus_linear-100',\n",
       " 'feb4_3t_feb4_3t_4_base_dev1000_rho0_t3-cfr_10external_plus_linear-104',\n",
       " 'feb4_3t_feb4_3t_4_base_dev1000_rho0_t3-cfr_10external_plus_linear-103',\n",
       " 'feb4_3t_feb4_3t_4_base_dev1000_rho0_t3-cfr_10external_plus_linear-102',\n",
       " 'feb4_3t_feb4_3t_3_base_dev1000_rho0_t3_tie_break-cfr_10external_plus_linear-100',\n",
       " 'feb4_3t_feb4_3t_4_base_dev1000_rho0_t3-cfr_10external_plus_linear-101',\n",
       " 'feb4_3t_feb4_3t_3_base_dev1000_rho0_t3_tie_break-cfr_10external_plus_linear-103',\n",
       " 'feb4_3t_feb4_3t_3_base_dev1000_rho0_t3_tie_break-cfr_10external_plus_linear-101',\n",
       " 'feb4_2t_feb4_2t_4_base_dev1000_rho1_t2_tie_break-ppo_jun8_23ppo_76-104',\n",
       " 'feb4_3t_feb4_3t_3_base_dev1000_rho0_t3_tie_break-cfr_10external_plus_linear-104',\n",
       " 'feb4_2t_feb4_2t_4_base_dev1000_rho1_t2_tie_break-ppo_jun8_23ppo_76-103',\n",
       " 'feb4_4t_feb4_4t_0_base_dev1000_rho1_t4-cfr_10external_plus_linear-100',\n",
       " 'feb4_2t_feb4_2t_4_base_dev1000_rho1_t2_tie_break-ppo_jun8_23ppo_76-101',\n",
       " 'feb4_2t_feb4_2t_4_base_dev1000_rho1_t2_tie_break-ppo_jun8_23ppo_76-102',\n",
       " 'feb4_3t_feb4_3t_3_base_dev1000_rho0_t3_tie_break-cfr_10external_plus_linear-102',\n",
       " 'feb4_2t_feb4_2t_4_base_dev1000_rho1_t2_tie_break-ppo_jun8_23ppo_76-100',\n",
       " 'feb4_3t_feb4_3t_4_base_dev1000_rho0_t3-ppo_jun8_23ppo_76-103',\n",
       " 'feb4_3t_feb4_3t_4_base_dev1000_rho0_t3-ppo_jun8_23ppo_76-100',\n",
       " 'feb4_3t_feb4_3t_4_base_dev1000_rho0_t3-ppo_jun8_23ppo_76-101',\n",
       " 'feb4_4t_feb4_4t_0_base_dev1000_rho1_t4-cfr_10external_plus_linear-104',\n",
       " 'feb4_3t_feb4_3t_2_base_dev1000_rho0_t3-cfr_10external_plus_linear-103',\n",
       " 'feb4_3t_feb4_3t_4_base_dev1000_rho0_t3-ppo_jun8_23ppo_76-102',\n",
       " 'feb4_3t_feb4_3t_4_base_dev1000_rho0_t3-ppo_jun8_23ppo_76-104',\n",
       " 'feb4_3t_feb4_3t_3_base_dev1000_rho0_t3_tie_break-ppo_jun8_23ppo_76-101',\n",
       " 'feb4_3t_feb4_3t_3_base_dev1000_rho0_t3_tie_break-ppo_jun8_23ppo_76-100',\n",
       " 'feb4_2t_feb4_2t_0_base_dev1000_rho1_t2_tie_break-cfr_10external_plus_linear-100',\n",
       " 'feb4_2t_feb4_2t_0_base_dev1000_rho1_t2_tie_break-cfr_10external_plus_linear-101',\n",
       " 'feb4_2t_feb4_2t_0_base_dev1000_rho1_t2_tie_break-cfr_10external_plus_linear-103',\n",
       " 'feb4_2t_feb4_2t_0_base_dev1000_rho1_t2_tie_break-cfr_10external_plus_linear-102',\n",
       " 'feb4_2t_feb4_2t_0_base_dev1000_rho1_t2_tie_break-cfr_10external_plus_linear-104',\n",
       " 'feb4_3t_feb4_3t_1_base_dev1000_rho1_t3_tie_break-cfr_10external_plus_linear-100',\n",
       " 'feb4_3t_feb4_3t_1_base_dev1000_rho1_t3_tie_break-cfr_10external_plus_linear-102',\n",
       " 'feb4_4t_feb4_4t_0_base_dev1000_rho1_t4-cfr_10external_plus_linear-101',\n",
       " 'feb4_3t_feb4_3t_3_base_dev1000_rho0_t3_tie_break-ppo_jun8_23ppo_76-103',\n",
       " 'feb4_3t_feb4_3t_3_base_dev1000_rho0_t3_tie_break-ppo_jun8_23ppo_76-102',\n",
       " 'feb4_2t_feb4_2t_0_base_dev1000_rho1_t2_tie_break-ppo_jun8_23ppo_76-101',\n",
       " 'feb4_3t_feb4_3t_3_base_dev1000_rho0_t3_tie_break-ppo_jun8_23ppo_76-104',\n",
       " 'feb4_2t_feb4_2t_0_base_dev1000_rho1_t2_tie_break-ppo_jun8_23ppo_76-100',\n",
       " 'feb4_2t_feb4_2t_0_base_dev1000_rho1_t2_tie_break-ppo_jun8_23ppo_76-104',\n",
       " 'feb4_3t_feb4_3t_1_base_dev1000_rho1_t3_tie_break-cfr_10external_plus_linear-104',\n",
       " 'feb4_3t_feb4_3t_1_base_dev1000_rho1_t3_tie_break-cfr_10external_plus_linear-101',\n",
       " 'feb4_3t_feb4_3t_1_base_dev1000_rho1_t3_tie_break-cfr_10external_plus_linear-103',\n",
       " 'feb4_2t_feb4_2t_0_base_dev1000_rho1_t2_tie_break-ppo_jun8_23ppo_76-103',\n",
       " 'feb4_2t_feb4_2t_0_base_dev1000_rho1_t2_tie_break-ppo_jun8_23ppo_76-102',\n",
       " 'feb4_4t_feb4_4t_1_base_dev1000_rho0_t4-cfr_10external_plus_linear-104',\n",
       " 'feb4_3t_feb4_3t_1_base_dev1000_rho1_t3_tie_break-ppo_jun8_23ppo_76-100',\n",
       " 'feb4_4t_feb4_4t_1_base_dev1000_rho0_t4-cfr_10external_plus_linear-103',\n",
       " 'feb4_4t_feb4_4t_1_base_dev1000_rho0_t4-cfr_10external_plus_linear-102',\n",
       " 'feb4_3t_feb4_3t_1_base_dev1000_rho1_t3_tie_break-ppo_jun8_23ppo_76-103',\n",
       " 'feb4_3t_feb4_3t_1_base_dev1000_rho1_t3_tie_break-ppo_jun8_23ppo_76-102',\n",
       " 'feb4_3t_feb4_3t_1_base_dev1000_rho1_t3_tie_break-ppo_jun8_23ppo_76-101',\n",
       " 'feb4_3t_feb4_3t_1_base_dev1000_rho1_t3_tie_break-ppo_jun8_23ppo_76-104',\n",
       " 'feb4_4t_feb4_4t_0_base_dev1000_rho1_t4-cfr_10external_plus_linear-103',\n",
       " 'feb4_4t_feb4_4t_1_base_dev1000_rho0_t4-ppo_jun8_23ppo_76-104',\n",
       " 'feb4_4t_feb4_4t_1_base_dev1000_rho0_t4-ppo_jun8_23ppo_76-100',\n",
       " 'feb4_4t_feb4_4t_1_base_dev1000_rho0_t4-ppo_jun8_23ppo_76-103',\n",
       " 'feb4_4t_feb4_4t_0_base_dev1000_rho1_t4-cfr_10external_plus_linear-102',\n",
       " 'feb4_4t_feb4_4t_1_base_dev1000_rho0_t4-ppo_jun8_23ppo_76-102',\n",
       " 'feb4_4t_feb4_4t_1_base_dev1000_rho0_t4-ppo_jun8_23ppo_76-101',\n",
       " 'feb4_3t_feb4_3t_2_base_dev1000_rho0_t3-cfr_10external_plus_linear-102',\n",
       " 'feb4_4t_feb4_4t_0_base_dev1000_rho1_t4-ppo_jun8_23ppo_76-100',\n",
       " 'feb4_1t_feb4_1t_0_base_dev1000_rho1_t1-cfr_10external_plus_linear-102',\n",
       " 'feb4_1t_feb4_1t_0_base_dev1000_rho1_t1-cfr_10external_plus_linear-104',\n",
       " 'feb4_4t_feb4_4t_0_base_dev1000_rho1_t4-ppo_jun8_23ppo_76-102',\n",
       " 'feb4_1t_feb4_1t_0_base_dev1000_rho1_t1-cfr_10external_plus_linear-101',\n",
       " 'feb4_1t_feb4_1t_0_base_dev1000_rho1_t1-cfr_10external_plus_linear-103',\n",
       " 'feb4_1t_feb4_1t_0_base_dev1000_rho1_t1-cfr_10external_plus_linear-100',\n",
       " 'feb4_4t_feb4_4t_0_base_dev1000_rho1_t4-ppo_jun8_23ppo_76-101',\n",
       " 'feb4_4t_feb4_4t_0_base_dev1000_rho1_t4-ppo_jun8_23ppo_76-104',\n",
       " 'feb4_4t_feb4_4t_0_base_dev1000_rho1_t4-ppo_jun8_23ppo_76-103',\n",
       " 'feb4_3t_feb4_3t_2_base_dev1000_rho0_t3-cfr_10external_plus_linear-104',\n",
       " 'feb4_3t_feb4_3t_2_base_dev1000_rho0_t3-cfr_10external_plus_linear-101',\n",
       " 'feb4_2t_feb4_2t_2_base_dev1000_rho0_t2-cfr_10external_plus_linear-103',\n",
       " 'feb4_4t_feb4_4t_0_base_dev1000_rho1_t4_tie_break-cfr_10external_plus_linear-102',\n",
       " 'feb4_4t_feb4_4t_0_base_dev1000_rho1_t4_tie_break-ppo_jun8_23ppo_76-104',\n",
       " 'feb4_4t_feb4_4t_4_base_dev1000_rho0_t4-ppo_jun8_23ppo_76-103',\n",
       " 'feb4_2t_feb4_2t_4_base_dev1000_rho1_t2-cfr_10external_plus_linear-100',\n",
       " 'feb4_2t_feb4_2t_4_base_dev1000_rho1_t2-cfr_10external_plus_linear-103',\n",
       " 'feb4_2t_feb4_2t_4_base_dev1000_rho1_t2-ppo_jun8_23ppo_76-100',\n",
       " 'feb4_2t_feb4_2t_4_base_dev1000_rho1_t2-ppo_jun8_23ppo_76-102',\n",
       " 'feb4_4t_feb4_4t_2_base_dev1000_rho1_t4_tie_break-cfr_10external_plus_linear-100',\n",
       " 'feb4_4t_feb4_4t_2_base_dev1000_rho1_t4_tie_break-cfr_10external_plus_linear-103',\n",
       " 'feb4_2t_feb4_2t_0_base_dev1000_rho0_t2-cfr_10external_plus_linear-100',\n",
       " 'feb4_1t_feb4_1t_0_base_dev1000_rho1_t1-ppo_jun8_23ppo_76-100',\n",
       " 'feb4_2t_feb4_2t_3_base_dev1000_rho1_t2_tie_break-cfr_10external_plus_linear-100',\n",
       " 'feb4_2t_feb4_2t_3_base_dev1000_rho0_t2-ppo_jun8_23ppo_76-104',\n",
       " 'feb4_4t_feb4_4t_3_base_dev1000_rho0_t4-ppo_jun8_23ppo_76-102',\n",
       " 'feb4_3t_feb4_3t_3_base_dev1000_rho1_t3-ppo_jun8_23ppo_76-104',\n",
       " 'feb4_2t_feb4_2t_3_base_dev1000_rho1_t2-ppo_jun8_23ppo_76-100',\n",
       " 'feb4_2t_feb4_2t_4_base_dev1000_rho0_t2-cfr_10external_plus_linear-102',\n",
       " 'feb4_4t_feb4_4t_2_base_dev1000_rho1_t4-ppo_jun8_23ppo_76-100',\n",
       " 'feb4_1t_feb4_1t_2_base_dev1000_rho1_t1-cfr_10external_plus_linear-100',\n",
       " 'feb4_1t_feb4_1t_0_base_dev1000_rho1_t1-ppo_jun8_23ppo_76-101',\n",
       " 'feb4_2t_feb4_2t_3_base_dev1000_rho1_t2_tie_break-cfr_10external_plus_linear-101',\n",
       " 'feb4_4t_feb4_4t_4_base_dev1000_rho0_t4_tie_break-cfr_10external_plus_linear-101',\n",
       " 'feb4_4t_feb4_4t_3_base_dev1000_rho0_t4-ppo_jun8_23ppo_76-104',\n",
       " 'feb4_3t_feb4_3t_3_base_dev1000_rho1_t3-ppo_jun8_23ppo_76-101',\n",
       " 'feb4_4t_feb4_4t_3_base_dev1000_rho1_t4-cfr_10external_plus_linear-104',\n",
       " 'feb4_4t_feb4_4t_2_base_dev1000_rho0_t4_tie_break-ppo_jun8_23ppo_76-101',\n",
       " 'feb4_4t_feb4_4t_2_base_dev1000_rho1_t4-ppo_jun8_23ppo_76-101',\n",
       " 'feb4_1t_feb4_1t_2_base_dev1000_rho0_t1_tie_break-ppo_jun8_23ppo_76-104',\n",
       " 'feb4_1t_feb4_1t_0_base_dev1000_rho1_t1-ppo_jun8_23ppo_76-102',\n",
       " 'feb4_2t_feb4_2t_3_base_dev1000_rho1_t2_tie_break-cfr_10external_plus_linear-102',\n",
       " 'feb4_4t_feb4_4t_4_base_dev1000_rho0_t4_tie_break-cfr_10external_plus_linear-102',\n",
       " 'feb4_3t_feb4_3t_4_base_dev1000_rho1_t3-cfr_10external_plus_linear-102',\n",
       " 'feb4_4t_feb4_4t_0_base_dev1000_rho0_t4-cfr_10external_plus_linear-102',\n",
       " 'feb4_2t_feb4_2t_3_base_dev1000_rho1_t2-ppo_jun8_23ppo_76-103',\n",
       " 'feb4_4t_feb4_4t_2_base_dev1000_rho0_t4_tie_break-ppo_jun8_23ppo_76-103',\n",
       " 'feb4_4t_feb4_4t_2_base_dev1000_rho1_t4-ppo_jun8_23ppo_76-104',\n",
       " 'feb4_1t_feb4_1t_3_base_dev1000_rho1_t1-cfr_10external_plus_linear-100',\n",
       " 'feb4_3t_feb4_3t_2_base_dev1000_rho1_t3-ppo_jun8_23ppo_76-101',\n",
       " 'feb4_1t_feb4_1t_0_base_dev1000_rho1_t1-ppo_jun8_23ppo_76-103',\n",
       " 'feb4_2t_feb4_2t_3_base_dev1000_rho1_t2_tie_break-cfr_10external_plus_linear-103',\n",
       " 'feb4_4t_feb4_4t_4_base_dev1000_rho0_t4_tie_break-cfr_10external_plus_linear-103',\n",
       " 'feb4_3t_feb4_3t_4_base_dev1000_rho1_t3-cfr_10external_plus_linear-104',\n",
       " 'feb4_4t_feb4_4t_0_base_dev1000_rho0_t4-cfr_10external_plus_linear-101',\n",
       " 'feb4_2t_feb4_2t_3_base_dev1000_rho1_t2-ppo_jun8_23ppo_76-104',\n",
       " 'feb4_4t_feb4_4t_2_base_dev1000_rho0_t4_tie_break-ppo_jun8_23ppo_76-102',\n",
       " 'feb4_3t_feb4_3t_3_base_dev1000_rho0_t3-cfr_10external_plus_linear-103',\n",
       " 'feb4_1t_feb4_1t_3_base_dev1000_rho1_t1-cfr_10external_plus_linear-101',\n",
       " 'feb4_3t_feb4_3t_2_base_dev1000_rho1_t3-ppo_jun8_23ppo_76-103',\n",
       " 'feb4_1t_feb4_1t_2_base_dev1000_rho1_t1-cfr_10external_plus_linear-102',\n",
       " 'feb4_3t_feb4_3t_1_base_dev1000_rho0_t3-cfr_10external_plus_linear-102',\n",
       " 'feb4_1t_feb4_1t_0_base_dev1000_rho1_t1-ppo_jun8_23ppo_76-104',\n",
       " 'feb4_2t_feb4_2t_3_base_dev1000_rho1_t2_tie_break-cfr_10external_plus_linear-104',\n",
       " 'feb4_4t_feb4_4t_4_base_dev1000_rho0_t4_tie_break-cfr_10external_plus_linear-104',\n",
       " 'feb4_3t_feb4_3t_3_base_dev1000_rho1_t3-cfr_10external_plus_linear-101',\n",
       " 'feb4_3t_feb4_3t_3_base_dev1000_rho1_t3-ppo_jun8_23ppo_76-103',\n",
       " 'feb4_2t_feb4_2t_3_base_dev1000_rho1_t2-ppo_jun8_23ppo_76-102',\n",
       " 'feb4_4t_feb4_4t_2_base_dev1000_rho0_t4_tie_break-ppo_jun8_23ppo_76-104',\n",
       " 'feb4_3t_feb4_3t_3_base_dev1000_rho0_t3-cfr_10external_plus_linear-104',\n",
       " 'feb4_1t_feb4_1t_3_base_dev1000_rho1_t1-cfr_10external_plus_linear-102',\n",
       " 'feb4_3t_feb4_3t_0_base_dev1000_rho0_t3_tie_break-cfr_10external_plus_linear-100',\n",
       " 'feb4_1t_feb4_1t_2_base_dev1000_rho1_t1-cfr_10external_plus_linear-104',\n",
       " 'feb4_3t_feb4_3t_1_base_dev1000_rho0_t3-cfr_10external_plus_linear-101',\n",
       " 'feb4_2t_feb4_2t_0_base_dev1000_rho0_t2_tie_break-cfr_10external_plus_linear-100',\n",
       " 'feb4_2t_feb4_2t_3_base_dev1000_rho1_t2_tie_break-ppo_jun8_23ppo_76-100',\n",
       " 'feb4_4t_feb4_4t_4_base_dev1000_rho0_t4_tie_break-ppo_jun8_23ppo_76-100',\n",
       " 'feb4_3t_feb4_3t_3_base_dev1000_rho1_t3-cfr_10external_plus_linear-100',\n",
       " 'feb4_4t_feb4_4t_0_base_dev1000_rho0_t4-ppo_jun8_23ppo_76-101',\n",
       " 'feb4_4t_feb4_4t_2_base_dev1000_rho0_t4_tie_break-cfr_10external_plus_linear-103',\n",
       " 'feb4_4t_feb4_4t_2_base_dev1000_rho1_t4-cfr_10external_plus_linear-100',\n",
       " 'feb4_3t_feb4_3t_3_base_dev1000_rho0_t3-ppo_jun8_23ppo_76-101',\n",
       " 'feb4_1t_feb4_1t_3_base_dev1000_rho1_t1-cfr_10external_plus_linear-103',\n",
       " 'feb4_3t_feb4_3t_2_base_dev1000_rho1_t3-ppo_jun8_23ppo_76-102',\n",
       " 'feb4_3t_feb4_3t_2_base_dev1000_rho0_t3-ppo_jun8_23ppo_76-100',\n",
       " 'feb4_2t_feb4_2t_3_base_dev1000_rho1_t2_tie_break-ppo_jun8_23ppo_76-101',\n",
       " 'feb4_4t_feb4_4t_4_base_dev1000_rho0_t4_tie_break-ppo_jun8_23ppo_76-102',\n",
       " 'feb4_4t_feb4_4t_3_base_dev1000_rho0_t4-ppo_jun8_23ppo_76-101',\n",
       " 'feb4_2t_feb4_2t_3_base_dev1000_rho1_t2-cfr_10external_plus_linear-104',\n",
       " 'feb4_4t_feb4_4t_2_base_dev1000_rho0_t4_tie_break-cfr_10external_plus_linear-102',\n",
       " 'feb4_4t_feb4_4t_2_base_dev1000_rho1_t4-cfr_10external_plus_linear-101',\n",
       " 'feb4_3t_feb4_3t_3_base_dev1000_rho0_t3-ppo_jun8_23ppo_76-100',\n",
       " 'feb4_1t_feb4_1t_3_base_dev1000_rho1_t1-cfr_10external_plus_linear-104',\n",
       " 'feb4_1t_feb4_1t_2_base_dev1000_rho1_t1-cfr_10external_plus_linear-103',\n",
       " 'feb4_3t_feb4_3t_2_base_dev1000_rho0_t3-ppo_jun8_23ppo_76-103',\n",
       " 'feb4_2t_feb4_2t_3_base_dev1000_rho1_t2_tie_break-ppo_jun8_23ppo_76-102',\n",
       " 'feb4_4t_feb4_4t_4_base_dev1000_rho0_t4_tie_break-ppo_jun8_23ppo_76-101',\n",
       " 'feb4_3t_feb4_3t_3_base_dev1000_rho1_t3-cfr_10external_plus_linear-102',\n",
       " 'feb4_2t_feb4_2t_3_base_dev1000_rho1_t2-cfr_10external_plus_linear-101',\n",
       " 'feb4_4t_feb4_4t_2_base_dev1000_rho0_t4_tie_break-cfr_10external_plus_linear-101',\n",
       " 'feb4_4t_feb4_4t_2_base_dev1000_rho1_t4-cfr_10external_plus_linear-102',\n",
       " 'feb4_3t_feb4_3t_3_base_dev1000_rho0_t3-ppo_jun8_23ppo_76-102',\n",
       " 'feb4_1t_feb4_1t_3_base_dev1000_rho1_t1-ppo_jun8_23ppo_76-100',\n",
       " 'feb4_1t_feb4_1t_2_base_dev1000_rho1_t1-cfr_10external_plus_linear-101',\n",
       " 'feb4_3t_feb4_3t_2_base_dev1000_rho0_t3-ppo_jun8_23ppo_76-102',\n",
       " 'feb4_2t_feb4_2t_3_base_dev1000_rho1_t2_tie_break-ppo_jun8_23ppo_76-103',\n",
       " 'feb4_4t_feb4_4t_4_base_dev1000_rho0_t4_tie_break-ppo_jun8_23ppo_76-103',\n",
       " 'feb4_3t_feb4_3t_4_base_dev1000_rho1_t3-ppo_jun8_23ppo_76-100',\n",
       " 'feb4_2t_feb4_2t_3_base_dev1000_rho1_t2-cfr_10external_plus_linear-100',\n",
       " 'feb4_4t_feb4_4t_3_base_dev1000_rho1_t4-ppo_jun8_23ppo_76-102',\n",
       " 'feb4_2t_feb4_2t_4_base_dev1000_rho0_t2-ppo_jun8_23ppo_76-100',\n",
       " 'feb4_3t_feb4_3t_1_base_dev1000_rho0_t3-cfr_10external_plus_linear-100',\n",
       " 'feb4_3t_feb4_3t_3_base_dev1000_rho1_t3_tie_break-cfr_10external_plus_linear-102',\n",
       " 'feb4_3t_feb4_3t_2_base_dev1000_rho0_t3-ppo_jun8_23ppo_76-101',\n",
       " 'feb4_2t_feb4_2t_3_base_dev1000_rho0_t2-cfr_10external_plus_linear-100',\n",
       " 'feb4_4t_feb4_4t_3_base_dev1000_rho0_t4-cfr_10external_plus_linear-100',\n",
       " 'feb4_3t_feb4_3t_4_base_dev1000_rho1_t3-ppo_jun8_23ppo_76-102',\n",
       " 'feb4_2t_feb4_2t_3_base_dev1000_rho1_t2-cfr_10external_plus_linear-103',\n",
       " 'feb4_4t_feb4_4t_2_base_dev1000_rho0_t4_tie_break-cfr_10external_plus_linear-100',\n",
       " 'feb4_2t_feb4_2t_4_base_dev1000_rho0_t2-ppo_jun8_23ppo_76-101',\n",
       " 'feb4_3t_feb4_3t_3_base_dev1000_rho0_t3-ppo_jun8_23ppo_76-103',\n",
       " 'feb4_1t_feb4_1t_3_base_dev1000_rho1_t1-ppo_jun8_23ppo_76-101',\n",
       " 'feb4_3t_feb4_3t_1_base_dev1000_rho0_t3-cfr_10external_plus_linear-104',\n",
       " 'feb4_3t_feb4_3t_3_base_dev1000_rho1_t3_tie_break-cfr_10external_plus_linear-104',\n",
       " 'feb4_3t_feb4_3t_2_base_dev1000_rho0_t3-ppo_jun8_23ppo_76-104',\n",
       " 'feb4_2t_feb4_2t_3_base_dev1000_rho0_t2-cfr_10external_plus_linear-101',\n",
       " 'feb4_4t_feb4_4t_4_base_dev1000_rho0_t4_tie_break-ppo_jun8_23ppo_76-104',\n",
       " 'feb4_3t_feb4_3t_3_base_dev1000_rho1_t3-cfr_10external_plus_linear-104',\n",
       " 'feb4_4t_feb4_4t_0_base_dev1000_rho0_t4-ppo_jun8_23ppo_76-100',\n",
       " 'feb4_4t_feb4_4t_3_base_dev1000_rho1_t4-ppo_jun8_23ppo_76-100',\n",
       " 'feb4_4t_feb4_4t_2_base_dev1000_rho1_t4-cfr_10external_plus_linear-103',\n",
       " 'feb4_3t_feb4_3t_3_base_dev1000_rho0_t3-ppo_jun8_23ppo_76-104',\n",
       " 'feb4_1t_feb4_1t_3_base_dev1000_rho1_t1-ppo_jun8_23ppo_76-102',\n",
       " 'feb4_2t_feb4_2t_0_base_dev1000_rho0_t2_tie_break-cfr_10external_plus_linear-101',\n",
       " 'feb4_2t_feb4_2t_3_base_dev1000_rho1_t2_tie_break-ppo_jun8_23ppo_76-104',\n",
       " 'feb4_4t_feb4_4t_3_base_dev1000_rho0_t4-cfr_10external_plus_linear-104',\n",
       " 'feb4_3t_feb4_3t_4_base_dev1000_rho1_t3-ppo_jun8_23ppo_76-101',\n",
       " 'feb4_2t_feb4_2t_3_base_dev1000_rho1_t2-cfr_10external_plus_linear-102',\n",
       " 'feb4_4t_feb4_4t_3_base_dev1000_rho1_t4-ppo_jun8_23ppo_76-101',\n",
       " 'feb4_2t_feb4_2t_4_base_dev1000_rho0_t2-ppo_jun8_23ppo_76-103',\n",
       " 'feb4_1t_feb4_1t_2_base_dev1000_rho0_t1_tie_break-cfr_10external_plus_linear-100',\n",
       " 'feb4_1t_feb4_1t_3_base_dev1000_rho1_t1-ppo_jun8_23ppo_76-103',\n",
       " 'feb4_3t_feb4_3t_3_base_dev1000_rho1_t3_tie_break-cfr_10external_plus_linear-103',\n",
       " 'feb4_2t_feb4_2t_0_base_dev1000_rho0_t2_tie_break-cfr_10external_plus_linear-102',\n",
       " 'feb4_2t_feb4_2t_3_base_dev1000_rho0_t2-cfr_10external_plus_linear-102',\n",
       " 'feb4_4t_feb4_4t_3_base_dev1000_rho0_t4-cfr_10external_plus_linear-102',\n",
       " 'feb4_3t_feb4_3t_3_base_dev1000_rho1_t3-cfr_10external_plus_linear-103',\n",
       " 'feb4_4t_feb4_4t_3_base_dev1000_rho1_t4-cfr_10external_plus_linear-101',\n",
       " 'feb4_4t_feb4_4t_2_base_dev1000_rho0_t4_tie_break-cfr_10external_plus_linear-104',\n",
       " 'feb4_2t_feb4_2t_4_base_dev1000_rho0_t2-ppo_jun8_23ppo_76-102',\n",
       " 'feb4_1t_feb4_1t_2_base_dev1000_rho0_t1_tie_break-cfr_10external_plus_linear-101',\n",
       " 'feb4_3t_feb4_3t_2_base_dev1000_rho1_t3-cfr_10external_plus_linear-100',\n",
       " 'feb4_3t_feb4_3t_2_base_dev1000_rho1_t3-ppo_jun8_23ppo_76-104',\n",
       " 'feb4_3t_feb4_3t_0_base_dev1000_rho0_t3_tie_break-ppo_jun8_23ppo_76-100',\n",
       " 'feb4_3t_feb4_3t_0_base_dev1000_rho0_t3_tie_break-ppo_jun8_23ppo_76-103',\n",
       " 'feb4_2t_feb4_2t_0_base_dev1000_rho0_t2_tie_break-cfr_10external_plus_linear-103',\n",
       " 'feb4_2t_feb4_2t_3_base_dev1000_rho0_t2-cfr_10external_plus_linear-103',\n",
       " 'feb4_4t_feb4_4t_3_base_dev1000_rho0_t4-cfr_10external_plus_linear-101',\n",
       " 'feb4_3t_feb4_3t_4_base_dev1000_rho1_t3-ppo_jun8_23ppo_76-104',\n",
       " 'feb4_4t_feb4_4t_3_base_dev1000_rho1_t4-cfr_10external_plus_linear-102',\n",
       " 'feb4_4t_feb4_4t_2_base_dev1000_rho0_t4_tie_break-ppo_jun8_23ppo_76-100',\n",
       " 'feb4_4t_feb4_4t_2_base_dev1000_rho1_t4-cfr_10external_plus_linear-104',\n",
       " 'feb4_1t_feb4_1t_2_base_dev1000_rho0_t1_tie_break-cfr_10external_plus_linear-102',\n",
       " 'feb4_1t_feb4_1t_3_base_dev1000_rho1_t1-ppo_jun8_23ppo_76-104',\n",
       " 'feb4_3t_feb4_3t_0_base_dev1000_rho0_t3_tie_break-cfr_10external_plus_linear-101',\n",
       " 'feb4_4t_feb4_4t_3_base_dev1000_rho1_t4_tie_break-cfr_10external_plus_linear-100',\n",
       " 'feb4_3t_feb4_3t_0_base_dev1000_rho0_t3_tie_break-ppo_jun8_23ppo_76-104',\n",
       " 'feb4_2t_feb4_2t_0_base_dev1000_rho0_t2_tie_break-cfr_10external_plus_linear-104',\n",
       " 'feb4_2t_feb4_2t_3_base_dev1000_rho0_t2-cfr_10external_plus_linear-104',\n",
       " 'feb4_4t_feb4_4t_3_base_dev1000_rho0_t4-cfr_10external_plus_linear-103',\n",
       " 'feb4_3t_feb4_3t_4_base_dev1000_rho1_t3-ppo_jun8_23ppo_76-103',\n",
       " 'feb4_4t_feb4_4t_0_base_dev1000_rho0_t4-ppo_jun8_23ppo_76-102',\n",
       " 'feb4_2t_feb4_2t_4_base_dev1000_rho0_t2-cfr_10external_plus_linear-100',\n",
       " 'feb4_2t_feb4_2t_4_base_dev1000_rho0_t2-ppo_jun8_23ppo_76-104',\n",
       " 'feb4_1t_feb4_1t_2_base_dev1000_rho0_t1_tie_break-cfr_10external_plus_linear-103',\n",
       " 'feb4_3t_feb4_3t_2_base_dev1000_rho1_t3-cfr_10external_plus_linear-101',\n",
       " 'feb4_3t_feb4_3t_0_base_dev1000_rho0_t3_tie_break-cfr_10external_plus_linear-103',\n",
       " 'feb4_4t_feb4_4t_3_base_dev1000_rho1_t4_tie_break-cfr_10external_plus_linear-101',\n",
       " 'feb4_3t_feb4_3t_0_base_dev1000_rho0_t3_tie_break-ppo_jun8_23ppo_76-101',\n",
       " 'feb4_2t_feb4_2t_0_base_dev1000_rho0_t2_tie_break-ppo_jun8_23ppo_76-100',\n",
       " 'feb4_2t_feb4_2t_3_base_dev1000_rho0_t2-ppo_jun8_23ppo_76-100',\n",
       " 'feb4_3t_feb4_3t_4_base_dev1000_rho1_t3-cfr_10external_plus_linear-100',\n",
       " 'feb4_4t_feb4_4t_0_base_dev1000_rho0_t4-cfr_10external_plus_linear-103',\n",
       " 'feb4_4t_feb4_4t_3_base_dev1000_rho1_t4-cfr_10external_plus_linear-100',\n",
       " 'feb4_4t_feb4_4t_3_base_dev1000_rho1_t4-ppo_jun8_23ppo_76-104',\n",
       " 'feb4_3t_feb4_3t_3_base_dev1000_rho0_t3-cfr_10external_plus_linear-100',\n",
       " 'feb4_1t_feb4_1t_2_base_dev1000_rho0_t1_tie_break-cfr_10external_plus_linear-104',\n",
       " 'feb4_3t_feb4_3t_2_base_dev1000_rho1_t3-cfr_10external_plus_linear-102',\n",
       " 'feb4_3t_feb4_3t_0_base_dev1000_rho0_t3_tie_break-cfr_10external_plus_linear-104',\n",
       " 'feb4_4t_feb4_4t_3_base_dev1000_rho1_t4_tie_break-cfr_10external_plus_linear-102',\n",
       " 'feb4_3t_feb4_3t_0_base_dev1000_rho0_t3_tie_break-ppo_jun8_23ppo_76-102',\n",
       " 'feb4_2t_feb4_2t_0_base_dev1000_rho0_t2_tie_break-ppo_jun8_23ppo_76-101',\n",
       " 'feb4_2t_feb4_2t_3_base_dev1000_rho0_t2-ppo_jun8_23ppo_76-101',\n",
       " 'feb4_3t_feb4_3t_4_base_dev1000_rho1_t3-cfr_10external_plus_linear-101',\n",
       " 'feb4_4t_feb4_4t_0_base_dev1000_rho0_t4-cfr_10external_plus_linear-104',\n",
       " 'feb4_4t_feb4_4t_0_base_dev1000_rho0_t4-ppo_jun8_23ppo_76-103',\n",
       " 'feb4_2t_feb4_2t_4_base_dev1000_rho0_t2-cfr_10external_plus_linear-103',\n",
       " 'feb4_3t_feb4_3t_3_base_dev1000_rho0_t3-cfr_10external_plus_linear-101',\n",
       " 'feb4_1t_feb4_1t_2_base_dev1000_rho0_t1_tie_break-ppo_jun8_23ppo_76-100',\n",
       " 'feb4_3t_feb4_3t_2_base_dev1000_rho1_t3-cfr_10external_plus_linear-103',\n",
       " 'feb4_3t_feb4_3t_0_base_dev1000_rho0_t3_tie_break-cfr_10external_plus_linear-102',\n",
       " 'feb4_4t_feb4_4t_3_base_dev1000_rho1_t4_tie_break-cfr_10external_plus_linear-103',\n",
       " 'feb4_3t_feb4_3t_1_base_dev1000_rho0_t3-cfr_10external_plus_linear-103',\n",
       " 'feb4_2t_feb4_2t_0_base_dev1000_rho0_t2_tie_break-ppo_jun8_23ppo_76-103',\n",
       " 'feb4_2t_feb4_2t_3_base_dev1000_rho0_t2-ppo_jun8_23ppo_76-102',\n",
       " 'feb4_3t_feb4_3t_4_base_dev1000_rho1_t3-cfr_10external_plus_linear-103',\n",
       " 'feb4_3t_feb4_3t_3_base_dev1000_rho1_t3-ppo_jun8_23ppo_76-100',\n",
       " 'feb4_4t_feb4_4t_0_base_dev1000_rho0_t4-ppo_jun8_23ppo_76-104',\n",
       " 'feb4_4t_feb4_4t_3_base_dev1000_rho1_t4-ppo_jun8_23ppo_76-103',\n",
       " 'feb4_3t_feb4_3t_3_base_dev1000_rho0_t3-cfr_10external_plus_linear-102',\n",
       " 'feb4_1t_feb4_1t_2_base_dev1000_rho0_t1_tie_break-ppo_jun8_23ppo_76-101',\n",
       " 'feb4_3t_feb4_3t_2_base_dev1000_rho1_t3-cfr_10external_plus_linear-104',\n",
       " 'feb4_2t_feb4_2t_0_base_dev1000_rho0_t2_tie_break-ppo_jun8_23ppo_76-102',\n",
       " 'feb4_2t_feb4_2t_3_base_dev1000_rho0_t2-ppo_jun8_23ppo_76-103',\n",
       " 'feb4_4t_feb4_4t_3_base_dev1000_rho0_t4-ppo_jun8_23ppo_76-100',\n",
       " 'feb4_3t_feb4_3t_3_base_dev1000_rho1_t3-ppo_jun8_23ppo_76-102',\n",
       " 'feb4_4t_feb4_4t_3_base_dev1000_rho1_t4-cfr_10external_plus_linear-103',\n",
       " 'feb4_2t_feb4_2t_4_base_dev1000_rho0_t2-cfr_10external_plus_linear-101',\n",
       " 'feb4_4t_feb4_4t_2_base_dev1000_rho1_t4-ppo_jun8_23ppo_76-102',\n",
       " 'feb4_1t_feb4_1t_2_base_dev1000_rho0_t1_tie_break-ppo_jun8_23ppo_76-102',\n",
       " 'feb4_4t_feb4_4t_3_base_dev1000_rho1_t4_tie_break-cfr_10external_plus_linear-104',\n",
       " 'feb4_2t_feb4_2t_0_base_dev1000_rho0_t2_tie_break-ppo_jun8_23ppo_76-104',\n",
       " 'feb4_4t_feb4_4t_4_base_dev1000_rho0_t4_tie_break-cfr_10external_plus_linear-100',\n",
       " 'feb4_4t_feb4_4t_3_base_dev1000_rho0_t4-ppo_jun8_23ppo_76-103',\n",
       " 'feb4_4t_feb4_4t_0_base_dev1000_rho0_t4-cfr_10external_plus_linear-100',\n",
       " 'feb4_2t_feb4_2t_3_base_dev1000_rho1_t2-ppo_jun8_23ppo_76-101',\n",
       " 'feb4_2t_feb4_2t_4_base_dev1000_rho0_t2-cfr_10external_plus_linear-104',\n",
       " 'feb4_4t_feb4_4t_2_base_dev1000_rho1_t4-ppo_jun8_23ppo_76-103',\n",
       " 'feb4_1t_feb4_1t_2_base_dev1000_rho0_t1_tie_break-ppo_jun8_23ppo_76-103',\n",
       " 'feb4_3t_feb4_3t_2_base_dev1000_rho1_t3-ppo_jun8_23ppo_76-100',\n",
       " 'feb4_3t_feb4_3t_2_base_dev1000_rho0_t3-cfr_10external_plus_linear-100',\n",
       " 'feb4_2t_feb4_2t_2_base_dev1000_rho0_t2-cfr_10external_plus_linear-104',\n",
       " 'feb4_2t_feb4_2t_2_base_dev1000_rho0_t2-ppo_jun8_23ppo_76-103',\n",
       " 'feb4_4t_feb4_4t_0_base_dev1000_rho1_t4_tie_break-ppo_jun8_23ppo_76-103',\n",
       " 'feb4_4t_feb4_4t_4_base_dev1000_rho0_t4-ppo_jun8_23ppo_76-101',\n",
       " 'feb4_1t_feb4_1t_2_base_dev1000_rho1_t1_tie_break-ppo_jun8_23ppo_76-101',\n",
       " 'feb4_2t_feb4_2t_4_base_dev1000_rho1_t2-cfr_10external_plus_linear-102',\n",
       " 'feb4_2t_feb4_2t_2_base_dev1000_rho0_t2_tie_break-cfr_10external_plus_linear-100',\n",
       " 'feb4_2t_feb4_2t_4_base_dev1000_rho1_t2-ppo_jun8_23ppo_76-104',\n",
       " 'feb4_4t_feb4_4t_2_base_dev1000_rho1_t4_tie_break-cfr_10external_plus_linear-102',\n",
       " 'feb4_4t_feb4_4t_3_base_dev1000_rho1_t4_tie_break-ppo_jun8_23ppo_76-100',\n",
       " 'feb4_4t_feb4_4t_3_base_dev1000_rho1_t4_tie_break-ppo_jun8_23ppo_76-102',\n",
       " 'feb4_4t_feb4_4t_3_base_dev1000_rho1_t4_tie_break-ppo_jun8_23ppo_76-101',\n",
       " 'feb4_4t_feb4_4t_3_base_dev1000_rho1_t4_tie_break-ppo_jun8_23ppo_76-104',\n",
       " 'feb4_4t_feb4_4t_3_base_dev1000_rho1_t4_tie_break-ppo_jun8_23ppo_76-103',\n",
       " 'feb4_1t_feb4_1t_2_base_dev1000_rho1_t1-ppo_jun8_23ppo_76-100',\n",
       " 'feb4_1t_feb4_1t_2_base_dev1000_rho1_t1-ppo_jun8_23ppo_76-101',\n",
       " 'feb4_1t_feb4_1t_2_base_dev1000_rho1_t1-ppo_jun8_23ppo_76-102',\n",
       " 'feb4_1t_feb4_1t_2_base_dev1000_rho1_t1-ppo_jun8_23ppo_76-104',\n",
       " 'feb4_1t_feb4_1t_2_base_dev1000_rho1_t1-ppo_jun8_23ppo_76-103',\n",
       " 'feb4_2t_feb4_2t_2_base_dev1000_rho0_t2-ppo_jun8_23ppo_76-100',\n",
       " 'feb4_4t_feb4_4t_0_base_dev1000_rho1_t4_tie_break-cfr_10external_plus_linear-101',\n",
       " 'feb4_4t_feb4_4t_4_base_dev1000_rho0_t4-cfr_10external_plus_linear-102',\n",
       " 'feb4_4t_feb4_4t_4_base_dev1000_rho0_t4-ppo_jun8_23ppo_76-104',\n",
       " 'feb4_1t_feb4_1t_2_base_dev1000_rho1_t1_tie_break-ppo_jun8_23ppo_76-100',\n",
       " 'feb4_2t_feb4_2t_2_base_dev1000_rho0_t2_tie_break-cfr_10external_plus_linear-101',\n",
       " 'feb4_3t_feb4_3t_3_base_dev1000_rho1_t3_tie_break-cfr_10external_plus_linear-100',\n",
       " 'feb4_3t_feb4_3t_1_base_dev1000_rho0_t3-ppo_jun8_23ppo_76-100',\n",
       " 'feb4_3t_feb4_3t_3_base_dev1000_rho1_t3_tie_break-cfr_10external_plus_linear-101',\n",
       " 'feb4_3t_feb4_3t_1_base_dev1000_rho0_t3-ppo_jun8_23ppo_76-103',\n",
       " 'feb4_3t_feb4_3t_1_base_dev1000_rho0_t3-ppo_jun8_23ppo_76-104',\n",
       " 'feb4_3t_feb4_3t_1_base_dev1000_rho0_t3-ppo_jun8_23ppo_76-101',\n",
       " 'feb4_3t_feb4_3t_1_base_dev1000_rho0_t3-ppo_jun8_23ppo_76-102',\n",
       " 'feb4_3t_feb4_3t_3_base_dev1000_rho1_t3_tie_break-ppo_jun8_23ppo_76-100',\n",
       " 'feb4_1t_feb4_1t_3_base_dev1000_rho1_t1_tie_break-cfr_10external_plus_linear-101',\n",
       " 'feb4_1t_feb4_1t_3_base_dev1000_rho1_t1_tie_break-cfr_10external_plus_linear-100',\n",
       " 'feb4_1t_feb4_1t_3_base_dev1000_rho1_t1_tie_break-cfr_10external_plus_linear-104',\n",
       " 'feb4_1t_feb4_1t_3_base_dev1000_rho1_t1_tie_break-cfr_10external_plus_linear-102',\n",
       " 'feb4_3t_feb4_3t_3_base_dev1000_rho1_t3_tie_break-ppo_jun8_23ppo_76-102',\n",
       " 'feb4_3t_feb4_3t_3_base_dev1000_rho1_t3_tie_break-ppo_jun8_23ppo_76-101',\n",
       " 'feb4_1t_feb4_1t_3_base_dev1000_rho1_t1_tie_break-cfr_10external_plus_linear-103',\n",
       " 'feb4_3t_feb4_3t_3_base_dev1000_rho1_t3_tie_break-ppo_jun8_23ppo_76-104',\n",
       " 'feb4_3t_feb4_3t_3_base_dev1000_rho1_t3_tie_break-ppo_jun8_23ppo_76-103',\n",
       " 'feb4_1t_feb4_1t_3_base_dev1000_rho1_t1_tie_break-ppo_jun8_23ppo_76-100',\n",
       " 'feb4_1t_feb4_1t_1_base_dev1000_rho0_t1-cfr_10external_plus_linear-101',\n",
       " 'feb4_1t_feb4_1t_3_base_dev1000_rho1_t1_tie_break-ppo_jun8_23ppo_76-101',\n",
       " 'feb4_3t_feb4_3t_1_base_dev1000_rho0_t3_tie_break-cfr_10external_plus_linear-100',\n",
       " 'feb4_3t_feb4_3t_1_base_dev1000_rho0_t3_tie_break-cfr_10external_plus_linear-101',\n",
       " 'feb4_1t_feb4_1t_3_base_dev1000_rho1_t1_tie_break-ppo_jun8_23ppo_76-102',\n",
       " 'feb4_1t_feb4_1t_3_base_dev1000_rho1_t1_tie_break-ppo_jun8_23ppo_76-104',\n",
       " 'feb4_3t_feb4_3t_1_base_dev1000_rho0_t3_tie_break-cfr_10external_plus_linear-102',\n",
       " 'feb4_1t_feb4_1t_3_base_dev1000_rho1_t1_tie_break-ppo_jun8_23ppo_76-103',\n",
       " 'feb4_3t_feb4_3t_1_base_dev1000_rho0_t3_tie_break-cfr_10external_plus_linear-103',\n",
       " 'feb4_3t_feb4_3t_1_base_dev1000_rho0_t3_tie_break-cfr_10external_plus_linear-104',\n",
       " 'feb4_3t_feb4_3t_1_base_dev1000_rho0_t3_tie_break-ppo_jun8_23ppo_76-100',\n",
       " 'feb4_1t_feb4_1t_1_base_dev1000_rho0_t1-cfr_10external_plus_linear-100',\n",
       " 'feb4_3t_feb4_3t_1_base_dev1000_rho0_t3_tie_break-ppo_jun8_23ppo_76-101',\n",
       " 'feb4_1t_feb4_1t_1_base_dev1000_rho0_t1-cfr_10external_plus_linear-103',\n",
       " 'feb4_1t_feb4_1t_1_base_dev1000_rho0_t1-cfr_10external_plus_linear-102',\n",
       " 'feb4_1t_feb4_1t_1_base_dev1000_rho0_t1-cfr_10external_plus_linear-104',\n",
       " 'feb4_3t_feb4_3t_1_base_dev1000_rho0_t3_tie_break-ppo_jun8_23ppo_76-102',\n",
       " 'feb4_3t_feb4_3t_1_base_dev1000_rho0_t3_tie_break-ppo_jun8_23ppo_76-103',\n",
       " 'feb4_3t_feb4_3t_1_base_dev1000_rho0_t3_tie_break-ppo_jun8_23ppo_76-104',\n",
       " 'feb4_1t_feb4_1t_1_base_dev1000_rho1_t1-cfr_10external_plus_linear-101',\n",
       " 'feb4_1t_feb4_1t_1_base_dev1000_rho1_t1-cfr_10external_plus_linear-100',\n",
       " 'feb4_4t_feb4_4t_0_base_dev1000_rho1_t4_tie_break-cfr_10external_plus_linear-103',\n",
       " 'feb4_4t_feb4_4t_4_base_dev1000_rho0_t4-cfr_10external_plus_linear-103',\n",
       " 'feb4_1t_feb4_1t_1_base_dev1000_rho0_t1-ppo_jun8_23ppo_76-100',\n",
       " 'feb4_1t_feb4_1t_1_base_dev1000_rho1_t1-cfr_10external_plus_linear-102',\n",
       " 'feb4_1t_feb4_1t_1_base_dev1000_rho0_t1-ppo_jun8_23ppo_76-101',\n",
       " 'feb4_1t_feb4_1t_1_base_dev1000_rho0_t1-ppo_jun8_23ppo_76-104',\n",
       " 'feb4_1t_feb4_1t_1_base_dev1000_rho0_t1-ppo_jun8_23ppo_76-103',\n",
       " 'feb4_1t_feb4_1t_1_base_dev1000_rho0_t1-ppo_jun8_23ppo_76-102',\n",
       " 'feb4_1t_feb4_1t_1_base_dev1000_rho1_t1-cfr_10external_plus_linear-104',\n",
       " 'feb4_1t_feb4_1t_1_base_dev1000_rho1_t1-cfr_10external_plus_linear-103',\n",
       " 'feb4_1t_feb4_1t_1_base_dev1000_rho1_t1-ppo_jun8_23ppo_76-100',\n",
       " 'feb4_1t_feb4_1t_1_base_dev1000_rho1_t1-ppo_jun8_23ppo_76-101',\n",
       " 'feb4_1t_feb4_1t_1_base_dev1000_rho1_t1-ppo_jun8_23ppo_76-103',\n",
       " 'feb4_1t_feb4_1t_0_base_dev1000_rho0_t1_tie_break-cfr_10external_plus_linear-100',\n",
       " 'feb4_1t_feb4_1t_1_base_dev1000_rho1_t1-ppo_jun8_23ppo_76-102',\n",
       " 'feb4_1t_feb4_1t_0_base_dev1000_rho0_t1_tie_break-cfr_10external_plus_linear-101',\n",
       " 'feb4_1t_feb4_1t_1_base_dev1000_rho1_t1-ppo_jun8_23ppo_76-104',\n",
       " 'feb4_1t_feb4_1t_0_base_dev1000_rho0_t1_tie_break-cfr_10external_plus_linear-102',\n",
       " 'feb4_1t_feb4_1t_0_base_dev1000_rho0_t1_tie_break-cfr_10external_plus_linear-103',\n",
       " 'feb4_1t_feb4_1t_0_base_dev1000_rho0_t1_tie_break-cfr_10external_plus_linear-104',\n",
       " 'feb4_1t_feb4_1t_0_base_dev1000_rho0_t1_tie_break-ppo_jun8_23ppo_76-101',\n",
       " 'feb4_1t_feb4_1t_0_base_dev1000_rho0_t1_tie_break-ppo_jun8_23ppo_76-100',\n",
       " 'feb4_1t_feb4_1t_0_base_dev1000_rho0_t1_tie_break-ppo_jun8_23ppo_76-102',\n",
       " 'feb4_1t_feb4_1t_0_base_dev1000_rho0_t1_tie_break-ppo_jun8_23ppo_76-103',\n",
       " 'feb4_1t_feb4_1t_0_base_dev1000_rho0_t1_tie_break-ppo_jun8_23ppo_76-104',\n",
       " 'feb4_4t_feb4_4t_1_base_dev1000_rho0_t4_tie_break-cfr_10external_plus_linear-100',\n",
       " 'feb4_4t_feb4_4t_1_base_dev1000_rho0_t4_tie_break-cfr_10external_plus_linear-101',\n",
       " 'feb4_4t_feb4_4t_1_base_dev1000_rho0_t4_tie_break-cfr_10external_plus_linear-102',\n",
       " 'feb4_4t_feb4_4t_1_base_dev1000_rho0_t4_tie_break-cfr_10external_plus_linear-103',\n",
       " 'feb4_4t_feb4_4t_1_base_dev1000_rho0_t4_tie_break-cfr_10external_plus_linear-104',\n",
       " 'feb4_4t_feb4_4t_1_base_dev1000_rho0_t4_tie_break-ppo_jun8_23ppo_76-100',\n",
       " 'feb4_4t_feb4_4t_1_base_dev1000_rho0_t4_tie_break-ppo_jun8_23ppo_76-101',\n",
       " 'feb4_4t_feb4_4t_1_base_dev1000_rho0_t4_tie_break-ppo_jun8_23ppo_76-102',\n",
       " 'feb4_4t_feb4_4t_1_base_dev1000_rho0_t4_tie_break-ppo_jun8_23ppo_76-103',\n",
       " 'feb4_4t_feb4_4t_0_base_dev1000_rho0_t4_tie_break-cfr_10external_plus_linear-100',\n",
       " 'feb4_4t_feb4_4t_1_base_dev1000_rho0_t4_tie_break-ppo_jun8_23ppo_76-104',\n",
       " 'feb4_4t_feb4_4t_0_base_dev1000_rho0_t4_tie_break-cfr_10external_plus_linear-101',\n",
       " 'feb4_4t_feb4_4t_0_base_dev1000_rho0_t4_tie_break-cfr_10external_plus_linear-102',\n",
       " 'feb4_4t_feb4_4t_0_base_dev1000_rho0_t4_tie_break-cfr_10external_plus_linear-103',\n",
       " 'feb4_4t_feb4_4t_0_base_dev1000_rho0_t4_tie_break-cfr_10external_plus_linear-104',\n",
       " 'feb4_4t_feb4_4t_0_base_dev1000_rho0_t4_tie_break-ppo_jun8_23ppo_76-100',\n",
       " 'feb4_4t_feb4_4t_0_base_dev1000_rho0_t4_tie_break-ppo_jun8_23ppo_76-101',\n",
       " 'feb4_4t_feb4_4t_0_base_dev1000_rho0_t4_tie_break-ppo_jun8_23ppo_76-102',\n",
       " 'feb4_4t_feb4_4t_0_base_dev1000_rho0_t4_tie_break-ppo_jun8_23ppo_76-103',\n",
       " 'feb4_4t_feb4_4t_0_base_dev1000_rho0_t4_tie_break-ppo_jun8_23ppo_76-104',\n",
       " 'feb4_1t_feb4_1t_4_base_dev1000_rho1_t1-cfr_10external_plus_linear-100',\n",
       " 'feb4_1t_feb4_1t_4_base_dev1000_rho1_t1-cfr_10external_plus_linear-101',\n",
       " 'feb4_1t_feb4_1t_4_base_dev1000_rho1_t1-cfr_10external_plus_linear-102',\n",
       " 'feb4_1t_feb4_1t_4_base_dev1000_rho1_t1-cfr_10external_plus_linear-103',\n",
       " 'feb4_1t_feb4_1t_4_base_dev1000_rho1_t1-cfr_10external_plus_linear-104',\n",
       " 'feb4_1t_feb4_1t_4_base_dev1000_rho1_t1-ppo_jun8_23ppo_76-100',\n",
       " 'feb4_1t_feb4_1t_4_base_dev1000_rho1_t1-ppo_jun8_23ppo_76-101',\n",
       " 'feb4_2t_feb4_2t_4_base_dev1000_rho0_t2_tie_break-cfr_10external_plus_linear-100',\n",
       " 'feb4_2t_feb4_2t_4_base_dev1000_rho0_t2_tie_break-cfr_10external_plus_linear-101',\n",
       " 'feb4_1t_feb4_1t_4_base_dev1000_rho1_t1-ppo_jun8_23ppo_76-103',\n",
       " 'feb4_1t_feb4_1t_4_base_dev1000_rho1_t1-ppo_jun8_23ppo_76-102',\n",
       " 'feb4_2t_feb4_2t_4_base_dev1000_rho0_t2_tie_break-cfr_10external_plus_linear-103',\n",
       " 'feb4_2t_feb4_2t_4_base_dev1000_rho0_t2_tie_break-cfr_10external_plus_linear-102',\n",
       " 'feb4_1t_feb4_1t_4_base_dev1000_rho1_t1-ppo_jun8_23ppo_76-104',\n",
       " 'feb4_2t_feb4_2t_4_base_dev1000_rho0_t2_tie_break-cfr_10external_plus_linear-104',\n",
       " 'feb4_2t_feb4_2t_4_base_dev1000_rho0_t2_tie_break-ppo_jun8_23ppo_76-100',\n",
       " 'feb4_2t_feb4_2t_4_base_dev1000_rho0_t2_tie_break-ppo_jun8_23ppo_76-101',\n",
       " 'feb4_4t_feb4_4t_3_base_dev1000_rho0_t4_tie_break-cfr_10external_plus_linear-100',\n",
       " 'feb4_4t_feb4_4t_3_base_dev1000_rho0_t4_tie_break-cfr_10external_plus_linear-101',\n",
       " 'feb4_2t_feb4_2t_4_base_dev1000_rho0_t2_tie_break-ppo_jun8_23ppo_76-104',\n",
       " 'feb4_2t_feb4_2t_4_base_dev1000_rho0_t2_tie_break-ppo_jun8_23ppo_76-102',\n",
       " 'feb4_2t_feb4_2t_4_base_dev1000_rho0_t2_tie_break-ppo_jun8_23ppo_76-103',\n",
       " 'feb4_4t_feb4_4t_3_base_dev1000_rho0_t4_tie_break-cfr_10external_plus_linear-102',\n",
       " 'feb4_4t_feb4_4t_3_base_dev1000_rho0_t4_tie_break-cfr_10external_plus_linear-103',\n",
       " 'feb4_4t_feb4_4t_3_base_dev1000_rho0_t4_tie_break-cfr_10external_plus_linear-104',\n",
       " 'feb4_4t_feb4_4t_3_base_dev1000_rho0_t4_tie_break-ppo_jun8_23ppo_76-102',\n",
       " 'feb4_4t_feb4_4t_3_base_dev1000_rho0_t4_tie_break-ppo_jun8_23ppo_76-100',\n",
       " 'feb4_1t_feb4_1t_3_base_dev1000_rho0_t1-cfr_10external_plus_linear-100',\n",
       " 'feb4_1t_feb4_1t_3_base_dev1000_rho0_t1-cfr_10external_plus_linear-101',\n",
       " 'feb4_4t_feb4_4t_3_base_dev1000_rho0_t4_tie_break-ppo_jun8_23ppo_76-101',\n",
       " 'feb4_1t_feb4_1t_3_base_dev1000_rho0_t1-cfr_10external_plus_linear-103',\n",
       " 'feb4_1t_feb4_1t_3_base_dev1000_rho0_t1-cfr_10external_plus_linear-102',\n",
       " 'feb4_4t_feb4_4t_3_base_dev1000_rho0_t4_tie_break-ppo_jun8_23ppo_76-104',\n",
       " 'feb4_4t_feb4_4t_3_base_dev1000_rho0_t4_tie_break-ppo_jun8_23ppo_76-103',\n",
       " 'feb4_1t_feb4_1t_3_base_dev1000_rho0_t1-cfr_10external_plus_linear-104',\n",
       " 'feb4_1t_feb4_1t_3_base_dev1000_rho0_t1-ppo_jun8_23ppo_76-101',\n",
       " 'feb4_1t_feb4_1t_3_base_dev1000_rho0_t1-ppo_jun8_23ppo_76-103',\n",
       " 'feb4_1t_feb4_1t_3_base_dev1000_rho0_t1-ppo_jun8_23ppo_76-100',\n",
       " 'feb4_1t_feb4_1t_4_base_dev1000_rho1_t1_tie_break-cfr_10external_plus_linear-100',\n",
       " 'feb4_1t_feb4_1t_3_base_dev1000_rho0_t1-ppo_jun8_23ppo_76-102',\n",
       " 'feb4_1t_feb4_1t_4_base_dev1000_rho1_t1_tie_break-cfr_10external_plus_linear-102',\n",
       " 'feb4_1t_feb4_1t_4_base_dev1000_rho1_t1_tie_break-cfr_10external_plus_linear-101',\n",
       " 'feb4_1t_feb4_1t_3_base_dev1000_rho0_t1-ppo_jun8_23ppo_76-104',\n",
       " 'feb4_1t_feb4_1t_4_base_dev1000_rho1_t1_tie_break-cfr_10external_plus_linear-103',\n",
       " 'feb4_1t_feb4_1t_4_base_dev1000_rho1_t1_tie_break-cfr_10external_plus_linear-104',\n",
       " 'feb4_1t_feb4_1t_4_base_dev1000_rho1_t1_tie_break-ppo_jun8_23ppo_76-100',\n",
       " 'feb4_1t_feb4_1t_4_base_dev1000_rho1_t1_tie_break-ppo_jun8_23ppo_76-101',\n",
       " 'feb4_3t_feb4_3t_0_base_dev1000_rho1_t3_tie_break-cfr_10external_plus_linear-100',\n",
       " 'feb4_3t_feb4_3t_0_base_dev1000_rho1_t3_tie_break-cfr_10external_plus_linear-101',\n",
       " 'feb4_1t_feb4_1t_4_base_dev1000_rho1_t1_tie_break-ppo_jun8_23ppo_76-102',\n",
       " 'feb4_1t_feb4_1t_4_base_dev1000_rho1_t1_tie_break-ppo_jun8_23ppo_76-103',\n",
       " 'feb4_3t_feb4_3t_0_base_dev1000_rho1_t3_tie_break-cfr_10external_plus_linear-102',\n",
       " 'feb4_1t_feb4_1t_4_base_dev1000_rho1_t1_tie_break-ppo_jun8_23ppo_76-104',\n",
       " 'feb4_3t_feb4_3t_0_base_dev1000_rho1_t3_tie_break-cfr_10external_plus_linear-103',\n",
       " 'feb4_3t_feb4_3t_0_base_dev1000_rho1_t3_tie_break-cfr_10external_plus_linear-104',\n",
       " 'feb4_2t_feb4_2t_2_base_dev1000_rho1_t2_tie_break-cfr_10external_plus_linear-101',\n",
       " 'feb4_2t_feb4_2t_2_base_dev1000_rho1_t2_tie_break-cfr_10external_plus_linear-100',\n",
       " 'feb4_4t_feb4_4t_0_base_dev1000_rho1_t4_tie_break-cfr_10external_plus_linear-104',\n",
       " 'feb4_3t_feb4_3t_0_base_dev1000_rho1_t3_tie_break-ppo_jun8_23ppo_76-100',\n",
       " 'feb4_2t_feb4_2t_2_base_dev1000_rho1_t2_tie_break-cfr_10external_plus_linear-102',\n",
       " 'feb4_3t_feb4_3t_0_base_dev1000_rho1_t3_tie_break-ppo_jun8_23ppo_76-101',\n",
       " 'feb4_2t_feb4_2t_2_base_dev1000_rho1_t2_tie_break-cfr_10external_plus_linear-103',\n",
       " 'feb4_2t_feb4_2t_2_base_dev1000_rho1_t2_tie_break-cfr_10external_plus_linear-104',\n",
       " 'feb4_3t_feb4_3t_0_base_dev1000_rho1_t3_tie_break-ppo_jun8_23ppo_76-102',\n",
       " 'feb4_3t_feb4_3t_0_base_dev1000_rho1_t3_tie_break-ppo_jun8_23ppo_76-103',\n",
       " 'feb4_3t_feb4_3t_0_base_dev1000_rho1_t3_tie_break-ppo_jun8_23ppo_76-104',\n",
       " 'feb4_2t_feb4_2t_2_base_dev1000_rho1_t2_tie_break-ppo_jun8_23ppo_76-101',\n",
       " 'feb4_2t_feb4_2t_2_base_dev1000_rho1_t2_tie_break-ppo_jun8_23ppo_76-103',\n",
       " 'feb4_4t_feb4_4t_4_base_dev1000_rho1_t4_tie_break-cfr_10external_plus_linear-100',\n",
       " 'feb4_4t_feb4_4t_4_base_dev1000_rho1_t4_tie_break-cfr_10external_plus_linear-102',\n",
       " 'feb4_2t_feb4_2t_2_base_dev1000_rho1_t2_tie_break-ppo_jun8_23ppo_76-100',\n",
       " 'feb4_4t_feb4_4t_4_base_dev1000_rho1_t4_tie_break-cfr_10external_plus_linear-103',\n",
       " 'feb4_4t_feb4_4t_4_base_dev1000_rho1_t4_tie_break-cfr_10external_plus_linear-101',\n",
       " 'feb4_2t_feb4_2t_2_base_dev1000_rho1_t2_tie_break-ppo_jun8_23ppo_76-102',\n",
       " 'feb4_4t_feb4_4t_4_base_dev1000_rho1_t4_tie_break-cfr_10external_plus_linear-104',\n",
       " 'feb4_2t_feb4_2t_2_base_dev1000_rho1_t2_tie_break-ppo_jun8_23ppo_76-104',\n",
       " 'feb4_4t_feb4_4t_4_base_dev1000_rho1_t4_tie_break-ppo_jun8_23ppo_76-100',\n",
       " 'feb4_4t_feb4_4t_4_base_dev1000_rho1_t4_tie_break-ppo_jun8_23ppo_76-101',\n",
       " 'feb4_4t_feb4_4t_4_base_dev1000_rho1_t4_tie_break-ppo_jun8_23ppo_76-102',\n",
       " 'feb4_2t_feb4_2t_3_base_dev1000_rho0_t2_tie_break-cfr_10external_plus_linear-100',\n",
       " 'feb4_4t_feb4_4t_4_base_dev1000_rho1_t4_tie_break-ppo_jun8_23ppo_76-103',\n",
       " 'feb4_4t_feb4_4t_4_base_dev1000_rho1_t4_tie_break-ppo_jun8_23ppo_76-104',\n",
       " 'feb4_2t_feb4_2t_3_base_dev1000_rho0_t2_tie_break-cfr_10external_plus_linear-101',\n",
       " 'feb4_2t_feb4_2t_3_base_dev1000_rho0_t2_tie_break-cfr_10external_plus_linear-102',\n",
       " 'feb4_2t_feb4_2t_3_base_dev1000_rho0_t2_tie_break-cfr_10external_plus_linear-104',\n",
       " 'feb4_2t_feb4_2t_3_base_dev1000_rho0_t2_tie_break-cfr_10external_plus_linear-103',\n",
       " 'feb4_2t_feb4_2t_3_base_dev1000_rho0_t2_tie_break-ppo_jun8_23ppo_76-100',\n",
       " 'feb4_2t_feb4_2t_3_base_dev1000_rho0_t2_tie_break-ppo_jun8_23ppo_76-101',\n",
       " 'feb4_2t_feb4_2t_3_base_dev1000_rho0_t2_tie_break-ppo_jun8_23ppo_76-102',\n",
       " 'feb4_2t_feb4_2t_0_base_dev1000_rho1_t2-cfr_10external_plus_linear-101',\n",
       " 'feb4_2t_feb4_2t_0_base_dev1000_rho1_t2-cfr_10external_plus_linear-100',\n",
       " 'feb4_2t_feb4_2t_3_base_dev1000_rho0_t2_tie_break-ppo_jun8_23ppo_76-103',\n",
       " 'feb4_2t_feb4_2t_3_base_dev1000_rho0_t2_tie_break-ppo_jun8_23ppo_76-104',\n",
       " 'feb4_2t_feb4_2t_0_base_dev1000_rho1_t2-cfr_10external_plus_linear-102',\n",
       " 'feb4_2t_feb4_2t_0_base_dev1000_rho1_t2-cfr_10external_plus_linear-103',\n",
       " 'feb4_2t_feb4_2t_0_base_dev1000_rho1_t2-cfr_10external_plus_linear-104',\n",
       " 'feb4_2t_feb4_2t_0_base_dev1000_rho1_t2-ppo_jun8_23ppo_76-100',\n",
       " 'feb4_2t_feb4_2t_0_base_dev1000_rho1_t2-ppo_jun8_23ppo_76-101',\n",
       " 'feb4_3t_feb4_3t_0_base_dev1000_rho0_t3-cfr_10external_plus_linear-100',\n",
       " 'feb4_3t_feb4_3t_0_base_dev1000_rho0_t3-cfr_10external_plus_linear-101',\n",
       " 'feb4_2t_feb4_2t_0_base_dev1000_rho1_t2-ppo_jun8_23ppo_76-102',\n",
       " 'feb4_2t_feb4_2t_0_base_dev1000_rho1_t2-ppo_jun8_23ppo_76-103',\n",
       " 'feb4_2t_feb4_2t_0_base_dev1000_rho1_t2-ppo_jun8_23ppo_76-104',\n",
       " 'feb4_3t_feb4_3t_0_base_dev1000_rho0_t3-cfr_10external_plus_linear-103',\n",
       " 'feb4_3t_feb4_3t_0_base_dev1000_rho0_t3-cfr_10external_plus_linear-102',\n",
       " 'feb4_3t_feb4_3t_0_base_dev1000_rho0_t3-cfr_10external_plus_linear-104',\n",
       " 'feb4_3t_feb4_3t_0_base_dev1000_rho0_t3-ppo_jun8_23ppo_76-100',\n",
       " 'feb4_4t_feb4_4t_4_base_dev1000_rho0_t4-cfr_10external_plus_linear-100',\n",
       " 'feb4_3t_feb4_3t_0_base_dev1000_rho0_t3-ppo_jun8_23ppo_76-101',\n",
       " 'feb4_3t_feb4_3t_0_base_dev1000_rho0_t3-ppo_jun8_23ppo_76-102',\n",
       " 'feb4_3t_feb4_3t_0_base_dev1000_rho0_t3-ppo_jun8_23ppo_76-103',\n",
       " 'feb4_3t_feb4_3t_0_base_dev1000_rho0_t3-ppo_jun8_23ppo_76-104',\n",
       " 'feb4_2t_feb4_2t_2_base_dev1000_rho0_t2-ppo_jun8_23ppo_76-101',\n",
       " 'feb4_4t_feb4_4t_0_base_dev1000_rho1_t4_tie_break-ppo_jun8_23ppo_76-100',\n",
       " 'feb4_4t_feb4_4t_4_base_dev1000_rho0_t4-cfr_10external_plus_linear-104',\n",
       " 'feb4_1t_feb4_1t_2_base_dev1000_rho1_t1_tie_break-cfr_10external_plus_linear-102',\n",
       " 'feb4_2t_feb4_2t_2_base_dev1000_rho0_t2_tie_break-cfr_10external_plus_linear-103',\n",
       " 'feb4_2t_feb4_2t_2_base_dev1000_rho0_t2_tie_break-ppo_jun8_23ppo_76-100',\n",
       " 'feb4_2t_feb4_2t_2_base_dev1000_rho0_t2_tie_break-ppo_jun8_23ppo_76-103',\n",
       " 'feb4_2t_feb4_2t_2_base_dev1000_rho0_t2_tie_break-ppo_jun8_23ppo_76-101',\n",
       " 'feb4_2t_feb4_2t_2_base_dev1000_rho0_t2_tie_break-ppo_jun8_23ppo_76-104',\n",
       " 'feb4_2t_feb4_2t_2_base_dev1000_rho0_t2_tie_break-ppo_jun8_23ppo_76-102',\n",
       " 'feb4_4t_feb4_4t_2_base_dev1000_rho1_t4_tie_break-ppo_jun8_23ppo_76-101',\n",
       " 'feb4_4t_feb4_4t_2_base_dev1000_rho1_t4_tie_break-ppo_jun8_23ppo_76-100',\n",
       " 'feb4_4t_feb4_4t_2_base_dev1000_rho1_t4_tie_break-ppo_jun8_23ppo_76-102',\n",
       " 'feb4_4t_feb4_4t_2_base_dev1000_rho1_t4_tie_break-ppo_jun8_23ppo_76-103',\n",
       " 'feb4_4t_feb4_4t_2_base_dev1000_rho1_t4_tie_break-ppo_jun8_23ppo_76-104',\n",
       " 'feb4_2t_feb4_2t_0_base_dev1000_rho0_t2-cfr_10external_plus_linear-102',\n",
       " 'feb4_2t_feb4_2t_0_base_dev1000_rho0_t2-cfr_10external_plus_linear-103',\n",
       " 'feb4_2t_feb4_2t_0_base_dev1000_rho0_t2-cfr_10external_plus_linear-104',\n",
       " 'feb4_2t_feb4_2t_0_base_dev1000_rho0_t2-ppo_jun8_23ppo_76-100',\n",
       " 'feb4_2t_feb4_2t_0_base_dev1000_rho0_t2-ppo_jun8_23ppo_76-101',\n",
       " 'feb4_2t_feb4_2t_0_base_dev1000_rho0_t2-ppo_jun8_23ppo_76-102',\n",
       " 'feb4_2t_feb4_2t_0_base_dev1000_rho0_t2-ppo_jun8_23ppo_76-103',\n",
       " 'feb4_1t_feb4_1t_0_base_dev1000_rho1_t1_tie_break-cfr_10external_plus_linear-100',\n",
       " 'feb4_1t_feb4_1t_0_base_dev1000_rho1_t1_tie_break-cfr_10external_plus_linear-101',\n",
       " 'feb4_1t_feb4_1t_0_base_dev1000_rho1_t1_tie_break-cfr_10external_plus_linear-102',\n",
       " 'feb4_2t_feb4_2t_0_base_dev1000_rho0_t2-ppo_jun8_23ppo_76-104',\n",
       " 'feb4_1t_feb4_1t_0_base_dev1000_rho1_t1_tie_break-cfr_10external_plus_linear-103',\n",
       " 'feb4_1t_feb4_1t_0_base_dev1000_rho1_t1_tie_break-cfr_10external_plus_linear-104',\n",
       " 'feb4_1t_feb4_1t_2_base_dev1000_rho0_t1-cfr_10external_plus_linear-100',\n",
       " 'feb4_1t_feb4_1t_2_base_dev1000_rho0_t1-cfr_10external_plus_linear-102',\n",
       " 'feb4_1t_feb4_1t_0_base_dev1000_rho1_t1_tie_break-ppo_jun8_23ppo_76-100',\n",
       " 'feb4_1t_feb4_1t_2_base_dev1000_rho0_t1-cfr_10external_plus_linear-101',\n",
       " 'feb4_1t_feb4_1t_2_base_dev1000_rho0_t1-cfr_10external_plus_linear-103',\n",
       " 'feb4_1t_feb4_1t_2_base_dev1000_rho0_t1-cfr_10external_plus_linear-104',\n",
       " 'feb4_1t_feb4_1t_0_base_dev1000_rho1_t1_tie_break-ppo_jun8_23ppo_76-102',\n",
       " 'feb4_1t_feb4_1t_0_base_dev1000_rho1_t1_tie_break-ppo_jun8_23ppo_76-103',\n",
       " 'feb4_1t_feb4_1t_0_base_dev1000_rho1_t1_tie_break-ppo_jun8_23ppo_76-104',\n",
       " 'feb4_2t_feb4_2t_1_base_dev1000_rho0_t2_tie_break-cfr_10external_plus_linear-102',\n",
       " 'feb4_1t_feb4_1t_0_base_dev1000_rho1_t1_tie_break-ppo_jun8_23ppo_76-101',\n",
       " 'feb4_1t_feb4_1t_2_base_dev1000_rho0_t1-ppo_jun8_23ppo_76-101',\n",
       " 'feb4_3t_feb4_3t_1_base_dev1000_rho1_t3-cfr_10external_plus_linear-100',\n",
       " 'feb4_3t_feb4_3t_1_base_dev1000_rho1_t3-cfr_10external_plus_linear-101',\n",
       " 'feb4_3t_feb4_3t_1_base_dev1000_rho1_t3-cfr_10external_plus_linear-102',\n",
       " 'feb4_1t_feb4_1t_2_base_dev1000_rho0_t1-ppo_jun8_23ppo_76-102',\n",
       " 'feb4_1t_feb4_1t_2_base_dev1000_rho0_t1-ppo_jun8_23ppo_76-100',\n",
       " 'feb4_3t_feb4_3t_1_base_dev1000_rho1_t3-cfr_10external_plus_linear-103',\n",
       " 'feb4_1t_feb4_1t_2_base_dev1000_rho0_t1-ppo_jun8_23ppo_76-103',\n",
       " 'feb4_2t_feb4_2t_1_base_dev1000_rho0_t2_tie_break-cfr_10external_plus_linear-103',\n",
       " 'feb4_2t_feb4_2t_1_base_dev1000_rho0_t2_tie_break-cfr_10external_plus_linear-104',\n",
       " 'feb4_1t_feb4_1t_2_base_dev1000_rho0_t1-ppo_jun8_23ppo_76-104',\n",
       " 'feb4_3t_feb4_3t_1_base_dev1000_rho1_t3-cfr_10external_plus_linear-104',\n",
       " 'feb4_3t_feb4_3t_1_base_dev1000_rho1_t3-ppo_jun8_23ppo_76-102',\n",
       " 'feb4_2t_feb4_2t_1_base_dev1000_rho0_t2_tie_break-cfr_10external_plus_linear-100',\n",
       " 'feb4_3t_feb4_3t_1_base_dev1000_rho1_t3-ppo_jun8_23ppo_76-104',\n",
       " 'feb4_3t_feb4_3t_1_base_dev1000_rho1_t3-ppo_jun8_23ppo_76-100',\n",
       " 'feb4_3t_feb4_3t_1_base_dev1000_rho1_t3-ppo_jun8_23ppo_76-101',\n",
       " 'feb4_3t_feb4_3t_1_base_dev1000_rho1_t3-ppo_jun8_23ppo_76-103',\n",
       " 'feb4_2t_feb4_2t_1_base_dev1000_rho0_t2_tie_break-cfr_10external_plus_linear-101',\n",
       " 'feb4_2t_feb4_2t_1_base_dev1000_rho0_t2_tie_break-ppo_jun8_23ppo_76-100',\n",
       " 'feb4_2t_feb4_2t_1_base_dev1000_rho0_t2_tie_break-ppo_jun8_23ppo_76-101',\n",
       " 'feb4_2t_feb4_2t_1_base_dev1000_rho0_t2_tie_break-ppo_jun8_23ppo_76-102',\n",
       " 'feb4_2t_feb4_2t_1_base_dev1000_rho0_t2_tie_break-ppo_jun8_23ppo_76-103',\n",
       " 'feb4_1t_feb4_1t_3_base_dev1000_rho0_t1_tie_break-cfr_10external_plus_linear-100',\n",
       " 'feb4_2t_feb4_2t_1_base_dev1000_rho0_t2_tie_break-ppo_jun8_23ppo_76-104',\n",
       " 'feb4_1t_feb4_1t_3_base_dev1000_rho0_t1_tie_break-cfr_10external_plus_linear-101',\n",
       " 'feb4_1t_feb4_1t_3_base_dev1000_rho0_t1_tie_break-cfr_10external_plus_linear-103',\n",
       " 'feb4_1t_feb4_1t_3_base_dev1000_rho0_t1_tie_break-cfr_10external_plus_linear-102',\n",
       " 'feb4_1t_feb4_1t_3_base_dev1000_rho0_t1_tie_break-cfr_10external_plus_linear-104',\n",
       " 'feb4_1t_feb4_1t_3_base_dev1000_rho0_t1_tie_break-ppo_jun8_23ppo_76-100',\n",
       " 'feb4_1t_feb4_1t_3_base_dev1000_rho0_t1_tie_break-ppo_jun8_23ppo_76-101',\n",
       " 'feb4_1t_feb4_1t_3_base_dev1000_rho0_t1_tie_break-ppo_jun8_23ppo_76-102',\n",
       " 'feb4_1t_feb4_1t_3_base_dev1000_rho0_t1_tie_break-ppo_jun8_23ppo_76-103',\n",
       " 'feb4_1t_feb4_1t_3_base_dev1000_rho0_t1_tie_break-ppo_jun8_23ppo_76-104',\n",
       " 'feb4_3t_feb4_3t_2_base_dev1000_rho1_t3_tie_break-cfr_10external_plus_linear-100',\n",
       " 'feb4_3t_feb4_3t_2_base_dev1000_rho1_t3_tie_break-cfr_10external_plus_linear-102',\n",
       " 'feb4_3t_feb4_3t_2_base_dev1000_rho1_t3_tie_break-cfr_10external_plus_linear-101',\n",
       " 'feb4_3t_feb4_3t_2_base_dev1000_rho1_t3_tie_break-cfr_10external_plus_linear-103',\n",
       " 'feb4_3t_feb4_3t_2_base_dev1000_rho1_t3_tie_break-cfr_10external_plus_linear-104',\n",
       " 'feb4_3t_feb4_3t_2_base_dev1000_rho1_t3_tie_break-ppo_jun8_23ppo_76-100',\n",
       " 'feb4_3t_feb4_3t_4_base_dev1000_rho1_t3_tie_break-cfr_10external_plus_linear-100',\n",
       " 'feb4_3t_feb4_3t_2_base_dev1000_rho1_t3_tie_break-ppo_jun8_23ppo_76-103',\n",
       " 'feb4_3t_feb4_3t_2_base_dev1000_rho1_t3_tie_break-ppo_jun8_23ppo_76-102',\n",
       " 'feb4_3t_feb4_3t_2_base_dev1000_rho1_t3_tie_break-ppo_jun8_23ppo_76-104',\n",
       " 'feb4_3t_feb4_3t_2_base_dev1000_rho1_t3_tie_break-ppo_jun8_23ppo_76-101',\n",
       " 'feb4_3t_feb4_3t_4_base_dev1000_rho1_t3_tie_break-cfr_10external_plus_linear-102',\n",
       " 'feb4_3t_feb4_3t_4_base_dev1000_rho1_t3_tie_break-cfr_10external_plus_linear-101',\n",
       " 'feb4_3t_feb4_3t_4_base_dev1000_rho1_t3_tie_break-cfr_10external_plus_linear-103',\n",
       " 'feb4_3t_feb4_3t_4_base_dev1000_rho1_t3_tie_break-cfr_10external_plus_linear-104',\n",
       " 'feb4_2t_feb4_2t_1_base_dev1000_rho1_t2_tie_break-cfr_10external_plus_linear-100',\n",
       " 'feb4_2t_feb4_2t_1_base_dev1000_rho1_t2_tie_break-cfr_10external_plus_linear-101',\n",
       " 'feb4_2t_feb4_2t_1_base_dev1000_rho1_t2_tie_break-cfr_10external_plus_linear-102',\n",
       " 'feb4_3t_feb4_3t_4_base_dev1000_rho1_t3_tie_break-ppo_jun8_23ppo_76-100',\n",
       " 'feb4_2t_feb4_2t_1_base_dev1000_rho1_t2_tie_break-cfr_10external_plus_linear-103',\n",
       " 'feb4_3t_feb4_3t_4_base_dev1000_rho1_t3_tie_break-ppo_jun8_23ppo_76-104',\n",
       " 'feb4_3t_feb4_3t_4_base_dev1000_rho1_t3_tie_break-ppo_jun8_23ppo_76-103',\n",
       " 'feb4_3t_feb4_3t_4_base_dev1000_rho1_t3_tie_break-ppo_jun8_23ppo_76-102',\n",
       " 'feb4_3t_feb4_3t_4_base_dev1000_rho1_t3_tie_break-ppo_jun8_23ppo_76-101',\n",
       " 'feb4_2t_feb4_2t_1_base_dev1000_rho1_t2_tie_break-cfr_10external_plus_linear-104',\n",
       " 'feb4_2t_feb4_2t_1_base_dev1000_rho1_t2_tie_break-ppo_jun8_23ppo_76-101',\n",
       " 'feb4_2t_feb4_2t_1_base_dev1000_rho1_t2_tie_break-ppo_jun8_23ppo_76-102',\n",
       " 'feb4_2t_feb4_2t_1_base_dev1000_rho1_t2_tie_break-ppo_jun8_23ppo_76-103',\n",
       " 'feb4_2t_feb4_2t_1_base_dev1000_rho1_t2_tie_break-ppo_jun8_23ppo_76-100',\n",
       " 'feb4_2t_feb4_2t_1_base_dev1000_rho1_t2_tie_break-ppo_jun8_23ppo_76-104']"
      ]
     },
     "execution_count": 32,
     "metadata": {},
     "output_type": "execute_result"
    }
   ],
   "source": [
    "list(Experiment.objects.get(name='feb4_v1').equilibriumsolverrun_set.values_list('name', flat=True))"
   ]
  },
  {
   "cell_type": "code",
   "execution_count": null,
   "metadata": {},
   "outputs": [],
   "source": []
  }
 ],
 "metadata": {
  "kernelspec": {
   "display_name": "Django Shell-Plus",
   "language": "python",
   "name": "django_extensions"
  },
  "language_info": {
   "codemirror_mode": {
    "name": "ipython",
    "version": 3
   },
   "file_extension": ".py",
   "mimetype": "text/x-python",
   "name": "python",
   "nbconvert_exporter": "python",
   "pygments_lexer": "ipython3",
   "version": "3.8.2"
  }
 },
 "nbformat": 4,
 "nbformat_minor": 4
}
