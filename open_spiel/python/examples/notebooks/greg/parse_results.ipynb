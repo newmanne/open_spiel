{
 "cells": [
  {
   "cell_type": "markdown",
   "metadata": {},
   "source": [
    "`parse_results.ipynb`: parse results from database into CSV."
   ]
  },
  {
   "cell_type": "code",
   "execution_count": 1,
   "metadata": {},
   "outputs": [],
   "source": [
    "%load_ext autoreload\n",
    "%autoreload 2"
   ]
  },
  {
   "cell_type": "code",
   "execution_count": 8,
   "metadata": {},
   "outputs": [],
   "source": [
    "# imports\n",
    "import pandas as pd\n",
    "import os\n",
    "import seaborn as sns\n",
    "from tqdm import tqdm\n",
    "\n",
    "os.environ[\"DJANGO_ALLOW_ASYNC_UNSAFE\"] = \"true\"\n",
    "import django\n",
    "django.setup()\n",
    "from auctions.webutils import *\n",
    "\n",
    "from open_spiel.python.examples.ubc_cma import get_results, get_game_info, get_algorithm_from_run, analyze_samples\n",
    "\n",
    "# TODO: run this analysis in the jobs\n",
    "from open_spiel.python.algorithms.exploitability import nash_conv\n",
    "from open_spiel.python.examples.ubc_decorators import ModalAgentDecorator"
   ]
  },
  {
   "cell_type": "code",
   "execution_count": 3,
   "metadata": {},
   "outputs": [],
   "source": [
    "experiments = [\n",
    "    'feb3_test_short_v4'\n",
    "]\n",
    "\n",
    "csv_path = 'results/feb3_test_short_v4.csv'"
   ]
  },
  {
   "cell_type": "code",
   "execution_count": 4,
   "metadata": {},
   "outputs": [
    {
     "name": "stdout",
     "output_type": "stream",
     "text": [
      "Found 100 runs\n"
     ]
    }
   ],
   "source": [
    "runs = []\n",
    "for experiment in experiments:\n",
    "    runs += Experiment.objects.get(name=experiment).equilibriumsolverrun_set.all()\n",
    "print(f\"Found {len(runs)} runs\")"
   ]
  },
  {
   "cell_type": "code",
   "execution_count": 9,
   "metadata": {},
   "outputs": [
    {
     "name": "stderr",
     "output_type": "stream",
     "text": [
      "100%|██████████| 100/100 [01:55<00:00,  1.16s/it]"
     ]
    },
    {
     "name": "stdout",
     "output_type": "stream",
     "text": [
      "Parsed results for 100 runs.\n"
     ]
    },
    {
     "name": "stderr",
     "output_type": "stream",
     "text": [
      "\n"
     ]
    }
   ],
   "source": [
    "records = []\n",
    "for run in tqdm(runs):    \n",
    "    game = run.game.load_as_spiel()\n",
    "    record = {\n",
    "        'run_name': run.name,\n",
    "        'game_name': run.game.name, \n",
    "        'seed': run.config.get('seed'), \n",
    "        'config': run.get_config_name(),\n",
    "        'alg': get_algorithm_from_run(run),\n",
    "    }\n",
    "    \n",
    "    record.update(get_game_info(game, run.game))  \n",
    "    \n",
    "    record['no_error'] = False\n",
    "    records.append(record) # Put it here so you see the False's in the display\n",
    "        \n",
    "    try:\n",
    "        game, final_checkpoint, _ = get_results(run, load_policy=False)\n",
    "    except Exception as e:\n",
    "        print(f\"Skipping run {run.name} because of error {e}\")\n",
    "        continue\n",
    "    \n",
    "    try:\n",
    "        record['t'] = final_checkpoint.t\n",
    "        record['walltime'] = run.walltime()\n",
    "\n",
    "        for (evaluation, prefix) in [\n",
    "            (final_checkpoint.get_modal_eval(), ''),\n",
    "            (final_checkpoint.get_straightforward_eval(), 'straightforward_')\n",
    "        ]:\n",
    "            record[f'{prefix}nash_conv'] = evaluation.nash_conv\n",
    "            record[f'{prefix}rewards'] = evaluation.mean_rewards\n",
    "            record[f'{prefix}nash_conv_frac'] = evaluation.nash_conv / sum(evaluation.mean_rewards) if not pd.isnull(evaluation.nash_conv) else np.nan\n",
    "            record[f'{prefix}heuristic_conv'] = evaluation.heuristic_conv\n",
    "            record[f'{prefix}heuristic_conv_frac'] = evaluation.heuristic_conv / sum(evaluation.mean_rewards) if not pd.isnull(evaluation.heuristic_conv) else np.nan\n",
    "    \n",
    "            for i in range(game.num_players()):\n",
    "                record[f'{prefix}rewards_{i}'] = evaluation.mean_rewards[i]\n",
    "                record[f'{prefix}nc_player_improvements_{i}'] = evaluation.nash_conv_player_improvements[i] if not pd.isnull(evaluation.nash_conv) else np.nan\n",
    "                record[f'{prefix}nc_player_improvements_frac_{i}'] = (evaluation.nash_conv_player_improvements[i] / evaluation.mean_rewards[i]) if not pd.isnull(evaluation.nash_conv) else np.nan\n",
    "    \n",
    "                record[f'{prefix}hc_player_improvements_{i}'] = evaluation.heuristic_conv_player_improvements[i] if not pd.isnull(evaluation.heuristic_conv) else np.nan\n",
    "                record[f'{prefix}hc_player_improvements_frac_{i}'] = (evaluation.heuristic_conv_player_improvements[i] / evaluation.mean_rewards[i]) if not pd.isnull(evaluation.heuristic_conv) else np.nan\n",
    "\n",
    "            sample_metrics = analyze_samples(evaluation.samples, game)\n",
    "            sample_metrics = {f'{prefix}{k}': sample_metrics[k] for k in sample_metrics} \n",
    "            record.update(**sample_metrics)\n",
    "        record['no_error'] = True\n",
    "    except Exception as e:\n",
    "        print(f\"Something wrong with {run}. Skipping. {e}\")\n",
    "        # raise e\n",
    "        # break\n",
    "        import traceback\n",
    "        print(traceback.format_exc())\n",
    "\n",
    "print(f'Parsed results for {len(records)} runs.')"
   ]
  },
  {
   "cell_type": "code",
   "execution_count": 10,
   "metadata": {},
   "outputs": [],
   "source": [
    "df = pd.DataFrame.from_records(records)\n",
    "df.to_csv(csv_path, index=False)"
   ]
  },
  {
   "cell_type": "code",
   "execution_count": null,
   "metadata": {},
   "outputs": [],
   "source": []
  }
 ],
 "metadata": {
  "kernelspec": {
   "display_name": "Django Shell-Plus",
   "language": "python",
   "name": "django_extensions"
  },
  "language_info": {
   "codemirror_mode": {
    "name": "ipython",
    "version": 3
   },
   "file_extension": ".py",
   "mimetype": "text/x-python",
   "name": "python",
   "nbconvert_exporter": "python",
   "pygments_lexer": "ipython3",
   "version": "3.8.2"
  }
 },
 "nbformat": 4,
 "nbformat_minor": 4
}
