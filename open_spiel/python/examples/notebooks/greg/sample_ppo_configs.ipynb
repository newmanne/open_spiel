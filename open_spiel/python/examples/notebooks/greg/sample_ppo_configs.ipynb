{
 "cells": [
  {
   "cell_type": "code",
   "execution_count": 16,
   "id": "bcee60bd-737d-4956-a573-e1dd150ea46c",
   "metadata": {},
   "outputs": [
    {
     "name": "stdout",
     "output_type": "stream",
     "text": [
      "The autoreload extension is already loaded. To reload it, use:\n",
      "  %reload_ext autoreload\n"
     ]
    }
   ],
   "source": [
    "# Config sampler for PPO hyperparameter tuning\n",
    "%load_ext autoreload\n",
    "%autoreload 2\n",
    "\n",
    "import copy\n",
    "import json\n",
    "import os\n",
    "import random\n",
    "from tqdm import tqdm\n",
    "import yaml\n",
    "\n",
    "import numpy as np\n",
    "from scipy.stats import loguniform"
   ]
  },
  {
   "cell_type": "code",
   "execution_count": 17,
   "id": "b92f209b",
   "metadata": {},
   "outputs": [],
   "source": [
    "CONFIG_DIR = '/global/scratch/open_spiel/open_spiel/notebooks/configs'\n",
    "\n",
    "def sample_config(base_config):\n",
    "    config = copy.deepcopy(base_config)\n",
    "\n",
    "    config['steps_per_batch'] = int(np.random.choice([64, 128]))\n",
    "    config['num_minibatches'] = int(np.random.choice([4, 8]))\n",
    "    config['update_epochs'] = int(np.random.choice([4, 8, 16]))\n",
    "    config['learning_rate'] = float(np.random.choice([3e-5, 6e-6, 9e-5, 1e-4, 3e-4]))\n",
    "    config['gae'] = bool(np.random.choice([True, False]))\n",
    "    # x['gamma'] = float(np.random.uniform(0.8, 1.)) # WE DO NOT WANT THIS\n",
    "    config['anneal_lr'] = bool(np.random.choice([True, False]))\n",
    "    config['gae_lambda'] = float(np.random.uniform(0.94, 1.))\n",
    "    config['clip_coef'] = float(loguniform.rvs(0.0003, .3, size=1)[0])\n",
    "    config['clip_vloss'] = bool(np.random.choice([True, False]))\n",
    "    config['entropy_coef'] = float(np.random.choice([1e-4, 1e-5, 1e-6, 0, 3e-5, 3e-6]))\n",
    "    config['value_coef'] = float(loguniform.rvs(0.1, 1.3, size=1)[0])\n",
    "    config['num_envs'] = int(np.random.choice([4, 8, 16]))\n",
    "    config['normalize_advantages'] = bool(np.random.choice([True, False]))\n",
    "    \n",
    "    config['optimizer'] = random.choice(['adam', 'rmsprop', 'sgd'])\n",
    "    optimizer_kwargs = dict()\n",
    "    if config['optimizer'] == 'adam':\n",
    "        beta1 = float(np.random.uniform(0.8, .9))\n",
    "        beta2 = float(np.random.uniform(0.8, .999))\n",
    "        optimizer_kwargs['betas'] = [beta1, beta2]\n",
    "    elif config['optimizer'] == 'sgd':\n",
    "        pass\n",
    "    elif config['optimizer'] == 'rmsprop':\n",
    "        pass\n",
    "    else:\n",
    "        raise ValueError()\n",
    "    \n",
    "    config['optimizer_kwargs'] = optimizer_kwargs\n",
    "    config['max_grad_norm'] = float(np.random.uniform(0.1, 1)) \n",
    "      \n",
    "    agent_kwargs = dict()\n",
    "    agent_fn = base_config['agent_fn'].lower()\n",
    "    if agent_fn == 'auctionnet':\n",
    "        agent_kwargs['activation'] = str(np.random.choice(['relu', 'tanh']))\n",
    "        agent_kwargs['hidden_sizes'] = random.choice([\n",
    "            [32, 32, 32], [64, 64, 64], [128, 128, 128],\n",
    "        ])\n",
    "        agent_kwargs['add_skip_connections'] = bool(np.random.choice([True, False]))\n",
    "        agent_kwargs['use_torso'] = bool(np.random.choice([True, False]))\n",
    "    elif agent_fn == 'ppoagent': # MLP\n",
    "        hidden_sizes = random.choice([\n",
    "            [64, 64], [128, 128], [256, 256], \n",
    "            [64, 64, 64], [128, 128, 128], [256, 256, 256],\n",
    "        ])\n",
    "        activation = str(np.random.choice(['relu', 'tanh']))\n",
    "        agent_kwargs['actor_hidden_sizes'] = hidden_sizes\n",
    "        agent_kwargs['critic_hidden_sizes'] = hidden_sizes\n",
    "        agent_kwargs['actor_activation'] = activation\n",
    "        agent_kwargs['critic_activation'] = activation\n",
    "    else:\n",
    "        raise ValueError(f'Unrecognized agent_fn {agent_fn}')\n",
    "\n",
    "    config['agent_fn_kwargs'] = agent_kwargs\n",
    "\n",
    "    return config\n",
    "\n",
    "def sample_configs(config_subdir, base_config, n_configs, seed=1234, config_dir=CONFIG_DIR, overwrite=False):\n",
    "    if os.path.exists(f'{config_dir}/{config_subdir}') and not overwrite:\n",
    "        raise ValueError(f'Config subdir {config_subdir} already exists')\n",
    "    os.makedirs(f'{config_dir}/{config_subdir}', exist_ok=True)\n",
    "\n",
    "    random.seed(seed)\n",
    "    np.random.seed(seed)\n",
    "\n",
    "    print(f'Writing {n_configs} configs to {config_dir}/{config_subdir}...')\n",
    "    for i in tqdm(range(n_configs)):\n",
    "        config = sample_config(base_config)\n",
    "        with open(f'{config_dir}/{config_subdir}/ppo_{i}.yml', 'w') as f:\n",
    "            yaml.dump(config, f)\n",
    "    print(f'All done, goodbye!')"
   ]
  },
  {
   "cell_type": "markdown",
   "id": "725b25b3",
   "metadata": {},
   "source": [
    "# Feb10: PPO tuning"
   ]
  },
  {
   "cell_type": "code",
   "execution_count": 10,
   "id": "19964101-0742-4f48-8ba9-2c94b86c64b0",
   "metadata": {},
   "outputs": [],
   "source": [
    "base_auction_net = yaml.safe_load(open('configs/ppo_may31_23/ppo_76.yml'))\n",
    "sample_configs('feb10_ppo_auctionnet', base_auction_net, 30, seed=1234)\n"
   ]
  },
  {
   "cell_type": "code",
   "execution_count": 18,
   "id": "3936ac2a",
   "metadata": {},
   "outputs": [
    {
     "name": "stdout",
     "output_type": "stream",
     "text": [
      "Writing 30 configs to /global/scratch/open_spiel/open_spiel/notebooks/configs/feb10_ppo_mlp...\n"
     ]
    },
    {
     "name": "stderr",
     "output_type": "stream",
     "text": [
      "  0%|          | 0/30 [00:00<?, ?it/s]"
     ]
    },
    {
     "name": "stderr",
     "output_type": "stream",
     "text": [
      "100%|██████████| 30/30 [00:00<00:00, 126.74it/s]\n"
     ]
    }
   ],
   "source": [
    "base_mlp = yaml.safe_load(open('configs/ppo_may31_23/ppo_76.yml'))\n",
    "base_mlp['agent_fn'] = 'PPOAgent'\n",
    "sample_configs('feb10_ppo_mlp', base_mlp, 30, seed=1234, overwrite=True)"
   ]
  },
  {
   "cell_type": "code",
   "execution_count": null,
   "id": "fd66e69d",
   "metadata": {},
   "outputs": [],
   "source": []
  }
 ],
 "metadata": {
  "kernelspec": {
   "display_name": "Django Shell-Plus",
   "language": "python",
   "name": "django_extensions"
  },
  "language_info": {
   "codemirror_mode": {
    "name": "ipython",
    "version": 3
   },
   "file_extension": ".py",
   "mimetype": "text/x-python",
   "name": "python",
   "nbconvert_exporter": "python",
   "pygments_lexer": "ipython3",
   "version": "3.8.2"
  }
 },
 "nbformat": 4,
 "nbformat_minor": 5
}
