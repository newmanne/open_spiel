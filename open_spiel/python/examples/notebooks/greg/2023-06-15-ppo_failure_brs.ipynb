{
 "cells": [
  {
   "cell_type": "code",
   "execution_count": 1,
   "metadata": {},
   "outputs": [],
   "source": [
    "%load_ext autoreload\n",
    "%autoreload 2\n",
    "\n",
    "import pyspiel\n",
    "import open_spiel.python.examples.ubc_utils\n",
    "from open_spiel.python.visualizations import ubc_treeviz\n",
    "from open_spiel.python.examples.ubc_utils import *\n",
    "from auctions.webutils import *\n",
    "from absl import logging\n",
    "logging.set_verbosity(logging.INFO)\n",
    "import os\n",
    "os.environ[\"DJANGO_ALLOW_ASYNC_UNSAFE\"] = \"true\"\n",
    "from open_spiel.python.examples.ubc_cma import *\n",
    "from open_spiel.python.examples.ubc_decorators import TakeSingleActionDecorator, TremblingAgentDecorator, ModalAgentDecorator"
   ]
  },
  {
   "cell_type": "code",
   "execution_count": 2,
   "metadata": {},
   "outputs": [],
   "source": [
    "run = EquilibriumSolverRun.objects.get(name='jun13_jun13_0_high_speed-ppo_no_ent_jun14ppo_76_no_ent_tremble_wall-100', experiment__name='jun14ent_3')\n",
    "game, checkpoint, policy = get_results(run)\n",
    "\n",
    "c = checkpoint.equilibrium_solver_run.config\n",
    "cfr = c.get('solver_type') == 'cfr'\n",
    "\n",
    "env_and_policy = ppo_db_checkpoint_loader(checkpoint, cfr=cfr)\n",
    "for player in range(game.num_players()):\n",
    "    env_and_policy.agents[player] = ModalAgentDecorator(env_and_policy.agents[player])\n",
    "policy = env_and_policy.make_policy()"
   ]
  },
  {
   "cell_type": "code",
   "execution_count": 3,
   "metadata": {},
   "outputs": [
    {
     "name": "stdout",
     "output_type": "stream",
     "text": [
      "338.8\n",
      "176.8\n"
     ]
    }
   ],
   "source": [
    "from open_spiel.python.algorithms.best_response import BestResponsePolicy\n",
    "\n",
    "# P1 best response\n",
    "br = BestResponsePolicy(game, 1, policy)\n",
    "for p1_type in range(2):\n",
    "    state = game.new_initial_state().child(0).child(p1_type)\n",
    "    print(br.value(state))\n",
    "    print(br.best_response_action(state))\n"
   ]
  }
 ],
 "metadata": {
  "kernelspec": {
   "display_name": "Django Shell-Plus",
   "language": "python",
   "name": "django_extensions"
  },
  "language_info": {
   "codemirror_mode": {
    "name": "ipython",
    "version": 3
   },
   "file_extension": ".py",
   "mimetype": "text/x-python",
   "name": "python",
   "nbconvert_exporter": "python",
   "pygments_lexer": "ipython3",
   "version": "3.8.2"
  },
  "orig_nbformat": 4
 },
 "nbformat": 4,
 "nbformat_minor": 2
}
