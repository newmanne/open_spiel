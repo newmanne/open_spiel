{
 "cells": [
  {
   "cell_type": "code",
   "execution_count": 8,
   "metadata": {},
   "outputs": [
    {
     "name": "stdout",
     "output_type": "stream",
     "text": [
      "The autoreload extension is already loaded. To reload it, use:\n",
      "  %reload_ext autoreload\n"
     ]
    }
   ],
   "source": [
    "%load_ext autoreload\n",
    "%autoreload 2\n",
    "%matplotlib inline"
   ]
  },
  {
   "cell_type": "code",
   "execution_count": 1,
   "metadata": {},
   "outputs": [
    {
     "data": {
      "text/html": [
       "\n",
       "    <div class=\"bk-root\">\n",
       "        <a href=\"https://bokeh.org\" target=\"_blank\" class=\"bk-logo bk-logo-small bk-logo-notebook\"></a>\n",
       "        <span id=\"1002\">Loading BokehJS ...</span>\n",
       "    </div>"
      ]
     },
     "metadata": {},
     "output_type": "display_data"
    },
    {
     "data": {
      "application/javascript": [
       "\n",
       "(function(root) {\n",
       "  function now() {\n",
       "    return new Date();\n",
       "  }\n",
       "\n",
       "  const force = true;\n",
       "\n",
       "  if (typeof root._bokeh_onload_callbacks === \"undefined\" || force === true) {\n",
       "    root._bokeh_onload_callbacks = [];\n",
       "    root._bokeh_is_loading = undefined;\n",
       "  }\n",
       "\n",
       "  const JS_MIME_TYPE = 'application/javascript';\n",
       "  const HTML_MIME_TYPE = 'text/html';\n",
       "  const EXEC_MIME_TYPE = 'application/vnd.bokehjs_exec.v0+json';\n",
       "  const CLASS_NAME = 'output_bokeh rendered_html';\n",
       "\n",
       "  /**\n",
       "   * Render data to the DOM node\n",
       "   */\n",
       "  function render(props, node) {\n",
       "    const script = document.createElement(\"script\");\n",
       "    node.appendChild(script);\n",
       "  }\n",
       "\n",
       "  /**\n",
       "   * Handle when an output is cleared or removed\n",
       "   */\n",
       "  function handleClearOutput(event, handle) {\n",
       "    const cell = handle.cell;\n",
       "\n",
       "    const id = cell.output_area._bokeh_element_id;\n",
       "    const server_id = cell.output_area._bokeh_server_id;\n",
       "    // Clean up Bokeh references\n",
       "    if (id != null && id in Bokeh.index) {\n",
       "      Bokeh.index[id].model.document.clear();\n",
       "      delete Bokeh.index[id];\n",
       "    }\n",
       "\n",
       "    if (server_id !== undefined) {\n",
       "      // Clean up Bokeh references\n",
       "      const cmd_clean = \"from bokeh.io.state import curstate; print(curstate().uuid_to_server['\" + server_id + \"'].get_sessions()[0].document.roots[0]._id)\";\n",
       "      cell.notebook.kernel.execute(cmd_clean, {\n",
       "        iopub: {\n",
       "          output: function(msg) {\n",
       "            const id = msg.content.text.trim();\n",
       "            if (id in Bokeh.index) {\n",
       "              Bokeh.index[id].model.document.clear();\n",
       "              delete Bokeh.index[id];\n",
       "            }\n",
       "          }\n",
       "        }\n",
       "      });\n",
       "      // Destroy server and session\n",
       "      const cmd_destroy = \"import bokeh.io.notebook as ion; ion.destroy_server('\" + server_id + \"')\";\n",
       "      cell.notebook.kernel.execute(cmd_destroy);\n",
       "    }\n",
       "  }\n",
       "\n",
       "  /**\n",
       "   * Handle when a new output is added\n",
       "   */\n",
       "  function handleAddOutput(event, handle) {\n",
       "    const output_area = handle.output_area;\n",
       "    const output = handle.output;\n",
       "\n",
       "    // limit handleAddOutput to display_data with EXEC_MIME_TYPE content only\n",
       "    if ((output.output_type != \"display_data\") || (!Object.prototype.hasOwnProperty.call(output.data, EXEC_MIME_TYPE))) {\n",
       "      return\n",
       "    }\n",
       "\n",
       "    const toinsert = output_area.element.find(\".\" + CLASS_NAME.split(' ')[0]);\n",
       "\n",
       "    if (output.metadata[EXEC_MIME_TYPE][\"id\"] !== undefined) {\n",
       "      toinsert[toinsert.length - 1].firstChild.textContent = output.data[JS_MIME_TYPE];\n",
       "      // store reference to embed id on output_area\n",
       "      output_area._bokeh_element_id = output.metadata[EXEC_MIME_TYPE][\"id\"];\n",
       "    }\n",
       "    if (output.metadata[EXEC_MIME_TYPE][\"server_id\"] !== undefined) {\n",
       "      const bk_div = document.createElement(\"div\");\n",
       "      bk_div.innerHTML = output.data[HTML_MIME_TYPE];\n",
       "      const script_attrs = bk_div.children[0].attributes;\n",
       "      for (let i = 0; i < script_attrs.length; i++) {\n",
       "        toinsert[toinsert.length - 1].firstChild.setAttribute(script_attrs[i].name, script_attrs[i].value);\n",
       "        toinsert[toinsert.length - 1].firstChild.textContent = bk_div.children[0].textContent\n",
       "      }\n",
       "      // store reference to server id on output_area\n",
       "      output_area._bokeh_server_id = output.metadata[EXEC_MIME_TYPE][\"server_id\"];\n",
       "    }\n",
       "  }\n",
       "\n",
       "  function register_renderer(events, OutputArea) {\n",
       "\n",
       "    function append_mime(data, metadata, element) {\n",
       "      // create a DOM node to render to\n",
       "      const toinsert = this.create_output_subarea(\n",
       "        metadata,\n",
       "        CLASS_NAME,\n",
       "        EXEC_MIME_TYPE\n",
       "      );\n",
       "      this.keyboard_manager.register_events(toinsert);\n",
       "      // Render to node\n",
       "      const props = {data: data, metadata: metadata[EXEC_MIME_TYPE]};\n",
       "      render(props, toinsert[toinsert.length - 1]);\n",
       "      element.append(toinsert);\n",
       "      return toinsert\n",
       "    }\n",
       "\n",
       "    /* Handle when an output is cleared or removed */\n",
       "    events.on('clear_output.CodeCell', handleClearOutput);\n",
       "    events.on('delete.Cell', handleClearOutput);\n",
       "\n",
       "    /* Handle when a new output is added */\n",
       "    events.on('output_added.OutputArea', handleAddOutput);\n",
       "\n",
       "    /**\n",
       "     * Register the mime type and append_mime function with output_area\n",
       "     */\n",
       "    OutputArea.prototype.register_mime_type(EXEC_MIME_TYPE, append_mime, {\n",
       "      /* Is output safe? */\n",
       "      safe: true,\n",
       "      /* Index of renderer in `output_area.display_order` */\n",
       "      index: 0\n",
       "    });\n",
       "  }\n",
       "\n",
       "  // register the mime type if in Jupyter Notebook environment and previously unregistered\n",
       "  if (root.Jupyter !== undefined) {\n",
       "    const events = require('base/js/events');\n",
       "    const OutputArea = require('notebook/js/outputarea').OutputArea;\n",
       "\n",
       "    if (OutputArea.prototype.mime_types().indexOf(EXEC_MIME_TYPE) == -1) {\n",
       "      register_renderer(events, OutputArea);\n",
       "    }\n",
       "  }\n",
       "\n",
       "  \n",
       "  if (typeof (root._bokeh_timeout) === \"undefined\" || force === true) {\n",
       "    root._bokeh_timeout = Date.now() + 5000;\n",
       "    root._bokeh_failed_load = false;\n",
       "  }\n",
       "\n",
       "  const NB_LOAD_WARNING = {'data': {'text/html':\n",
       "     \"<div style='background-color: #fdd'>\\n\"+\n",
       "     \"<p>\\n\"+\n",
       "     \"BokehJS does not appear to have successfully loaded. If loading BokehJS from CDN, this \\n\"+\n",
       "     \"may be due to a slow or bad network connection. Possible fixes:\\n\"+\n",
       "     \"</p>\\n\"+\n",
       "     \"<ul>\\n\"+\n",
       "     \"<li>re-rerun `output_notebook()` to attempt to load from CDN again, or</li>\\n\"+\n",
       "     \"<li>use INLINE resources instead, as so:</li>\\n\"+\n",
       "     \"</ul>\\n\"+\n",
       "     \"<code>\\n\"+\n",
       "     \"from bokeh.resources import INLINE\\n\"+\n",
       "     \"output_notebook(resources=INLINE)\\n\"+\n",
       "     \"</code>\\n\"+\n",
       "     \"</div>\"}};\n",
       "\n",
       "  function display_loaded() {\n",
       "    const el = document.getElementById(\"1002\");\n",
       "    if (el != null) {\n",
       "      el.textContent = \"BokehJS is loading...\";\n",
       "    }\n",
       "    if (root.Bokeh !== undefined) {\n",
       "      if (el != null) {\n",
       "        el.textContent = \"BokehJS \" + root.Bokeh.version + \" successfully loaded.\";\n",
       "      }\n",
       "    } else if (Date.now() < root._bokeh_timeout) {\n",
       "      setTimeout(display_loaded, 100)\n",
       "    }\n",
       "  }\n",
       "\n",
       "\n",
       "  function run_callbacks() {\n",
       "    try {\n",
       "      root._bokeh_onload_callbacks.forEach(function(callback) {\n",
       "        if (callback != null)\n",
       "          callback();\n",
       "      });\n",
       "    } finally {\n",
       "      delete root._bokeh_onload_callbacks\n",
       "    }\n",
       "    console.debug(\"Bokeh: all callbacks have finished\");\n",
       "  }\n",
       "\n",
       "  function load_libs(css_urls, js_urls, callback) {\n",
       "    if (css_urls == null) css_urls = [];\n",
       "    if (js_urls == null) js_urls = [];\n",
       "\n",
       "    root._bokeh_onload_callbacks.push(callback);\n",
       "    if (root._bokeh_is_loading > 0) {\n",
       "      console.debug(\"Bokeh: BokehJS is being loaded, scheduling callback at\", now());\n",
       "      return null;\n",
       "    }\n",
       "    if (js_urls == null || js_urls.length === 0) {\n",
       "      run_callbacks();\n",
       "      return null;\n",
       "    }\n",
       "    console.debug(\"Bokeh: BokehJS not loaded, scheduling load and callback at\", now());\n",
       "    root._bokeh_is_loading = css_urls.length + js_urls.length;\n",
       "\n",
       "    function on_load() {\n",
       "      root._bokeh_is_loading--;\n",
       "      if (root._bokeh_is_loading === 0) {\n",
       "        console.debug(\"Bokeh: all BokehJS libraries/stylesheets loaded\");\n",
       "        run_callbacks()\n",
       "      }\n",
       "    }\n",
       "\n",
       "    function on_error(url) {\n",
       "      console.error(\"failed to load \" + url);\n",
       "    }\n",
       "\n",
       "    for (let i = 0; i < css_urls.length; i++) {\n",
       "      const url = css_urls[i];\n",
       "      const element = document.createElement(\"link\");\n",
       "      element.onload = on_load;\n",
       "      element.onerror = on_error.bind(null, url);\n",
       "      element.rel = \"stylesheet\";\n",
       "      element.type = \"text/css\";\n",
       "      element.href = url;\n",
       "      console.debug(\"Bokeh: injecting link tag for BokehJS stylesheet: \", url);\n",
       "      document.body.appendChild(element);\n",
       "    }\n",
       "\n",
       "    for (let i = 0; i < js_urls.length; i++) {\n",
       "      const url = js_urls[i];\n",
       "      const element = document.createElement('script');\n",
       "      element.onload = on_load;\n",
       "      element.onerror = on_error.bind(null, url);\n",
       "      element.async = false;\n",
       "      element.src = url;\n",
       "      console.debug(\"Bokeh: injecting script tag for BokehJS library: \", url);\n",
       "      document.head.appendChild(element);\n",
       "    }\n",
       "  };\n",
       "\n",
       "  function inject_raw_css(css) {\n",
       "    const element = document.createElement(\"style\");\n",
       "    element.appendChild(document.createTextNode(css));\n",
       "    document.body.appendChild(element);\n",
       "  }\n",
       "\n",
       "  \n",
       "  const js_urls = [\"https://cdn.bokeh.org/bokeh/release/bokeh-2.4.2.min.js\", \"https://cdn.bokeh.org/bokeh/release/bokeh-gl-2.4.2.min.js\", \"https://cdn.bokeh.org/bokeh/release/bokeh-widgets-2.4.2.min.js\", \"https://cdn.bokeh.org/bokeh/release/bokeh-tables-2.4.2.min.js\", \"https://cdn.bokeh.org/bokeh/release/bokeh-mathjax-2.4.2.min.js\"];\n",
       "  const css_urls = [];\n",
       "  \n",
       "\n",
       "  const inline_js = [\n",
       "    function(Bokeh) {\n",
       "      Bokeh.set_log_level(\"info\");\n",
       "    },\n",
       "    function(Bokeh) {\n",
       "    \n",
       "    \n",
       "    }\n",
       "  ];\n",
       "\n",
       "  function run_inline_js() {\n",
       "    \n",
       "    if (root.Bokeh !== undefined || force === true) {\n",
       "      \n",
       "    for (let i = 0; i < inline_js.length; i++) {\n",
       "      inline_js[i].call(root, root.Bokeh);\n",
       "    }\n",
       "    if (force === true) {\n",
       "        display_loaded();\n",
       "      }} else if (Date.now() < root._bokeh_timeout) {\n",
       "      setTimeout(run_inline_js, 100);\n",
       "    } else if (!root._bokeh_failed_load) {\n",
       "      console.log(\"Bokeh: BokehJS failed to load within specified timeout.\");\n",
       "      root._bokeh_failed_load = true;\n",
       "    } else if (force !== true) {\n",
       "      const cell = $(document.getElementById(\"1002\")).parents('.cell').data().cell;\n",
       "      cell.output_area.append_execute_result(NB_LOAD_WARNING)\n",
       "    }\n",
       "\n",
       "  }\n",
       "\n",
       "  if (root._bokeh_is_loading === 0) {\n",
       "    console.debug(\"Bokeh: BokehJS loaded, going straight to plotting\");\n",
       "    run_inline_js();\n",
       "  } else {\n",
       "    load_libs(css_urls, js_urls, function() {\n",
       "      console.debug(\"Bokeh: BokehJS plotting callback run at\", now());\n",
       "      run_inline_js();\n",
       "    });\n",
       "  }\n",
       "}(window));"
      ],
      "application/vnd.bokehjs_load.v0+json": "\n(function(root) {\n  function now() {\n    return new Date();\n  }\n\n  const force = true;\n\n  if (typeof root._bokeh_onload_callbacks === \"undefined\" || force === true) {\n    root._bokeh_onload_callbacks = [];\n    root._bokeh_is_loading = undefined;\n  }\n\n  \n\n  \n  if (typeof (root._bokeh_timeout) === \"undefined\" || force === true) {\n    root._bokeh_timeout = Date.now() + 5000;\n    root._bokeh_failed_load = false;\n  }\n\n  const NB_LOAD_WARNING = {'data': {'text/html':\n     \"<div style='background-color: #fdd'>\\n\"+\n     \"<p>\\n\"+\n     \"BokehJS does not appear to have successfully loaded. If loading BokehJS from CDN, this \\n\"+\n     \"may be due to a slow or bad network connection. Possible fixes:\\n\"+\n     \"</p>\\n\"+\n     \"<ul>\\n\"+\n     \"<li>re-rerun `output_notebook()` to attempt to load from CDN again, or</li>\\n\"+\n     \"<li>use INLINE resources instead, as so:</li>\\n\"+\n     \"</ul>\\n\"+\n     \"<code>\\n\"+\n     \"from bokeh.resources import INLINE\\n\"+\n     \"output_notebook(resources=INLINE)\\n\"+\n     \"</code>\\n\"+\n     \"</div>\"}};\n\n  function display_loaded() {\n    const el = document.getElementById(\"1002\");\n    if (el != null) {\n      el.textContent = \"BokehJS is loading...\";\n    }\n    if (root.Bokeh !== undefined) {\n      if (el != null) {\n        el.textContent = \"BokehJS \" + root.Bokeh.version + \" successfully loaded.\";\n      }\n    } else if (Date.now() < root._bokeh_timeout) {\n      setTimeout(display_loaded, 100)\n    }\n  }\n\n\n  function run_callbacks() {\n    try {\n      root._bokeh_onload_callbacks.forEach(function(callback) {\n        if (callback != null)\n          callback();\n      });\n    } finally {\n      delete root._bokeh_onload_callbacks\n    }\n    console.debug(\"Bokeh: all callbacks have finished\");\n  }\n\n  function load_libs(css_urls, js_urls, callback) {\n    if (css_urls == null) css_urls = [];\n    if (js_urls == null) js_urls = [];\n\n    root._bokeh_onload_callbacks.push(callback);\n    if (root._bokeh_is_loading > 0) {\n      console.debug(\"Bokeh: BokehJS is being loaded, scheduling callback at\", now());\n      return null;\n    }\n    if (js_urls == null || js_urls.length === 0) {\n      run_callbacks();\n      return null;\n    }\n    console.debug(\"Bokeh: BokehJS not loaded, scheduling load and callback at\", now());\n    root._bokeh_is_loading = css_urls.length + js_urls.length;\n\n    function on_load() {\n      root._bokeh_is_loading--;\n      if (root._bokeh_is_loading === 0) {\n        console.debug(\"Bokeh: all BokehJS libraries/stylesheets loaded\");\n        run_callbacks()\n      }\n    }\n\n    function on_error(url) {\n      console.error(\"failed to load \" + url);\n    }\n\n    for (let i = 0; i < css_urls.length; i++) {\n      const url = css_urls[i];\n      const element = document.createElement(\"link\");\n      element.onload = on_load;\n      element.onerror = on_error.bind(null, url);\n      element.rel = \"stylesheet\";\n      element.type = \"text/css\";\n      element.href = url;\n      console.debug(\"Bokeh: injecting link tag for BokehJS stylesheet: \", url);\n      document.body.appendChild(element);\n    }\n\n    for (let i = 0; i < js_urls.length; i++) {\n      const url = js_urls[i];\n      const element = document.createElement('script');\n      element.onload = on_load;\n      element.onerror = on_error.bind(null, url);\n      element.async = false;\n      element.src = url;\n      console.debug(\"Bokeh: injecting script tag for BokehJS library: \", url);\n      document.head.appendChild(element);\n    }\n  };\n\n  function inject_raw_css(css) {\n    const element = document.createElement(\"style\");\n    element.appendChild(document.createTextNode(css));\n    document.body.appendChild(element);\n  }\n\n  \n  const js_urls = [\"https://cdn.bokeh.org/bokeh/release/bokeh-2.4.2.min.js\", \"https://cdn.bokeh.org/bokeh/release/bokeh-gl-2.4.2.min.js\", \"https://cdn.bokeh.org/bokeh/release/bokeh-widgets-2.4.2.min.js\", \"https://cdn.bokeh.org/bokeh/release/bokeh-tables-2.4.2.min.js\", \"https://cdn.bokeh.org/bokeh/release/bokeh-mathjax-2.4.2.min.js\"];\n  const css_urls = [];\n  \n\n  const inline_js = [\n    function(Bokeh) {\n      Bokeh.set_log_level(\"info\");\n    },\n    function(Bokeh) {\n    \n    \n    }\n  ];\n\n  function run_inline_js() {\n    \n    if (root.Bokeh !== undefined || force === true) {\n      \n    for (let i = 0; i < inline_js.length; i++) {\n      inline_js[i].call(root, root.Bokeh);\n    }\n    if (force === true) {\n        display_loaded();\n      }} else if (Date.now() < root._bokeh_timeout) {\n      setTimeout(run_inline_js, 100);\n    } else if (!root._bokeh_failed_load) {\n      console.log(\"Bokeh: BokehJS failed to load within specified timeout.\");\n      root._bokeh_failed_load = true;\n    } else if (force !== true) {\n      const cell = $(document.getElementById(\"1002\")).parents('.cell').data().cell;\n      cell.output_area.append_execute_result(NB_LOAD_WARNING)\n    }\n\n  }\n\n  if (root._bokeh_is_loading === 0) {\n    console.debug(\"Bokeh: BokehJS loaded, going straight to plotting\");\n    run_inline_js();\n  } else {\n    load_libs(css_urls, js_urls, function() {\n      console.debug(\"Bokeh: BokehJS plotting callback run at\", now());\n      run_inline_js();\n    });\n  }\n}(window));"
     },
     "metadata": {},
     "output_type": "display_data"
    }
   ],
   "source": [
    "import sys\n",
    "import glob\n",
    "import pandas as pd\n",
    "import os\n",
    "import seaborn as sns\n",
    "\n",
    "from tqdm import tqdm\n",
    "from statsmodels.distributions.empirical_distribution import ECDF\n",
    "from collections import defaultdict\n",
    "import pickle\n",
    "import re\n",
    "import json\n",
    "from pathlib import Path\n",
    "import scipy.stats\n",
    "import time\n",
    "\n",
    "from open_spiel.python.algorithms.exploitability import nash_conv, best_response\n",
    "from open_spiel.python.examples.ubc_plotting_utils import *\n",
    "from open_spiel.python.examples.ubc_sample_game_tree import sample_game_tree, flatten_trees, flatten_tree\n",
    "from open_spiel.python.examples.ubc_clusters import projectPCA, fitGMM\n",
    "from open_spiel.python.examples.ubc_utils import *\n",
    "import open_spiel.python.examples.ubc_dispatch as dispatch\n",
    "\n",
    "from auctions.webutils import *\n",
    "\n",
    "os.environ[\"DJANGO_ALLOW_ASYNC_UNSAFE\"] = \"true\"\n",
    "\n",
    "\n",
    "from open_spiel.python.examples.ubc_cma import *\n",
    "\n",
    "output_notebook()\n",
    "from open_spiel.python.games.clock_auction_base import InformationPolicy\n",
    "from open_spiel.python.algorithms.exploitability import nash_conv, best_response\n",
    "from open_spiel.python.examples.ubc_decorators import TakeSingleActionDecorator, TremblingAgentDecorator, ModalAgentDecorator"
   ]
  },
  {
   "cell_type": "code",
   "execution_count": 3,
   "metadata": {},
   "outputs": [
    {
     "name": "stdout",
     "output_type": "stream",
     "text": [
      "Found 75 runs\n"
     ]
    }
   ],
   "source": [
    "# load runs from experiments\n",
    "experiments = []\n",
    "# experiments += ['jun14ent_3']\n",
    "# experiments += ['jun13ppo']\n",
    "# experiments += ['jun13outcome']\n",
    "experiments += ['jun16outcome']\n",
    "runs = []\n",
    "for experiment in experiments:\n",
    "    runs += Experiment.objects.get(name=experiment).equilibriumsolverrun_set.all()\n",
    "print(f\"Found {len(runs)} runs\")"
   ]
  },
  {
   "cell_type": "code",
   "execution_count": null,
   "metadata": {},
   "outputs": [],
   "source": [
    "def make_combo_specific(evaluation):\n",
    "    r = dict()\n",
    "    for k,v in evaluation.samples.items():\n",
    "        if isinstance(v, dict):\n",
    "            for k2, v2 in v.items():\n",
    "                r[f'{k}_{k2}'] = v2\n",
    "        else:\n",
    "            r[k] = v\n",
    "    del r['rewards']\n",
    "\n",
    "    c_df = pd.DataFrame(r)\n",
    "    type_columns = [c for c in c_df if 'types_' in c]\n",
    "    c_df['combo'] = list(map(tuple, c_df[type_columns].values))\n",
    "    mean_lengths = c_df.groupby('combo')['auction_lengths'].mean()\n",
    "    ### A given type combo where tie-breaking (non-final) seems to matter\n",
    "    for v in mean_lengths.values:\n",
    "        if not v.is_integer() and v < 4:\n",
    "            print(\"FOUND YOU\", v)\n",
    "            return True\n",
    "    return False\n"
   ]
  },
  {
   "cell_type": "code",
   "execution_count": 6,
   "metadata": {},
   "outputs": [
    {
     "name": "stdout",
     "output_type": "stream",
     "text": [
      "3000000 0.005912499 0.001831277\n",
      "6000000 0.007820413 0.001828757\n",
      "\n",
      "3000000 0.127671561 0.001614566\n",
      "\n",
      "3000000 0.020310832 0.002021805\n",
      "3000000 0.13152797 0.001695781\n",
      "\n",
      "3000000 0.012322041 0.002135664\n",
      "6000000 0.016652617 0.002237279\n",
      "3000000 0.038234417 0.00199949\n",
      "3000000 0.002549552 0.001643515\n",
      "6000000 0.003236882 0.001645749\n",
      "\n",
      "\n",
      "3000000 0.004432026 0.002004528\n",
      "6000000 0.00591497 0.001959486\n",
      "3000000 0.004715055 0.001710424\n",
      "6000000 0.006013676 0.001722405\n",
      "\n",
      "3000000 0.004534938 0.001989627\n",
      "6000000 0.005997323 0.001988385\n",
      "\n",
      "3000000 0.001746455 0.00165457\n",
      "6000000 0.002180123 0.001648194\n",
      "\n",
      "3000000 0.131489253 0.001609162\n",
      "\n",
      "3000000 0.035647432 0.002255889\n",
      "3000000 0.019092255 0.001974475\n",
      "6000000 0.023565506 0.001966577\n",
      "\n",
      "3000000 0.006970396 0.001838616\n",
      "6000000 0.009660307 0.001830287\n",
      "\n",
      "3000000 0.002743604 0.001696669\n",
      "3000000 0.008717741 0.002160857\n",
      "6000000 0.012465132 0.002230682\n",
      "\n",
      "\n",
      "3000000 0.004715068 0.001708916\n",
      "6000000 0.006040473 0.001718471\n",
      "\n",
      "3000000 0.002760429 0.002110017\n",
      "6000000 0.003138169 0.002111901\n",
      "3000000 0.042186783 0.001980813\n",
      "3000000 0.006411366 0.002152467\n",
      "6000000 0.008270413 0.002154106\n",
      "\n",
      "3000000 0.004534951 0.001982978\n",
      "6000000 0.005906302 0.001976389\n",
      "\n",
      "6000000 0.009367959 0.001870974\n",
      "3000000 0.008139796 0.001915533\n",
      "\n",
      "6000000 0.004329373 0.001761075\n",
      "3000000 0.023228956 0.00218033\n",
      "3000000 0.04218677 0.001983301\n",
      "3000000 0.002549539 0.0016433\n",
      "6000000 0.003236869 0.001647479\n",
      "3000000 0.010892871 0.00211723\n",
      "6000000 0.012767608 0.00198651\n",
      "3000000 0.035647445 0.00225587\n",
      "3000000 0.012322054 0.002136678\n",
      "6000000 0.016677152 0.002239546\n",
      "3000000 0.012197728 0.001997415\n",
      "6000000 0.01581311 0.002007694\n",
      "\n",
      "3000000 0.011295447 0.002067414\n",
      "6000000 0.014405784 0.001969863\n",
      "3000000 0.012603958 0.001637331\n",
      "6000000 0.017136224 0.0016286\n",
      "\n",
      "\n",
      "3000000 0.010892858 0.002111832\n",
      "6000000 0.015845394 0.002094948\n",
      "3000000 0.027659229 0.002084055\n",
      "3000000 0.008717728 0.002161587\n",
      "6000000 0.012226108 0.002220139\n",
      "\n",
      "\n",
      "\n",
      "3000000 0.007870886 0.001920653\n",
      "6000000 0.009871948 0.001915776\n",
      "\n",
      "\n",
      "5000 0.000691652 0.001746447\n",
      "10000 0.001010924 0.00174014\n",
      "15000 0.001219219 0.001736613\n",
      "20000 0.001353366 0.001742773\n"
     ]
    }
   ],
   "source": [
    "for run in runs:\n",
    "    try:\n",
    "        for e in run.equilibriumsolverruncheckpoint_set.all():\n",
    "            print(e.t, len(e.policy) / 1e9, len(str(e.get_old_eval().samples)) / 1e9)\n",
    "        print()\n",
    "    except:\n",
    "        continue"
   ]
  },
  {
   "cell_type": "code",
   "execution_count": 35,
   "metadata": {},
   "outputs": [
    {
     "data": {
      "text/plain": [
       "15679"
      ]
     },
     "execution_count": 35,
     "metadata": {},
     "output_type": "execute_result"
    }
   ],
   "source": [
    "len(e.get_model()._infostates)"
   ]
  },
  {
   "cell_type": "code",
   "execution_count": 37,
   "metadata": {},
   "outputs": [
    {
     "data": {
      "text/plain": [
       "['DoesNotExist',\n",
       " 'Meta',\n",
       " 'MultipleObjectsReturned',\n",
       " '__class__',\n",
       " '__delattr__',\n",
       " '__dict__',\n",
       " '__dir__',\n",
       " '__doc__',\n",
       " '__eq__',\n",
       " '__format__',\n",
       " '__ge__',\n",
       " '__getattribute__',\n",
       " '__getstate__',\n",
       " '__gt__',\n",
       " '__hash__',\n",
       " '__init__',\n",
       " '__init_subclass__',\n",
       " '__le__',\n",
       " '__lt__',\n",
       " '__module__',\n",
       " '__ne__',\n",
       " '__new__',\n",
       " '__reduce__',\n",
       " '__reduce_ex__',\n",
       " '__repr__',\n",
       " '__setattr__',\n",
       " '__setstate__',\n",
       " '__sizeof__',\n",
       " '__str__',\n",
       " '__subclasshook__',\n",
       " '__weakref__',\n",
       " '_check_column_name_clashes',\n",
       " '_check_constraints',\n",
       " '_check_default_pk',\n",
       " '_check_field_name_clashes',\n",
       " '_check_fields',\n",
       " '_check_id_field',\n",
       " '_check_index_together',\n",
       " '_check_indexes',\n",
       " '_check_local_fields',\n",
       " '_check_long_column_names',\n",
       " '_check_m2m_through_same_relationship',\n",
       " '_check_managers',\n",
       " '_check_model',\n",
       " '_check_model_name_db_lookup_clashes',\n",
       " '_check_ordering',\n",
       " '_check_property_name_related_field_accessor_clashes',\n",
       " '_check_single_primary_key',\n",
       " '_check_swappable',\n",
       " '_check_unique_together',\n",
       " '_do_insert',\n",
       " '_do_update',\n",
       " '_get_FIELD_display',\n",
       " '_get_expr_references',\n",
       " '_get_next_or_previous_by_FIELD',\n",
       " '_get_next_or_previous_in_order',\n",
       " '_get_pk_val',\n",
       " '_get_unique_checks',\n",
       " '_meta',\n",
       " '_perform_date_checks',\n",
       " '_perform_unique_checks',\n",
       " '_prepare_related_fields_for_save',\n",
       " '_save_parents',\n",
       " '_save_table',\n",
       " '_set_pk_val',\n",
       " '_state',\n",
       " 'approx_nash_conv',\n",
       " 'bestresponse_set',\n",
       " 'check',\n",
       " 'clean',\n",
       " 'clean_fields',\n",
       " 'created',\n",
       " 'date_error_message',\n",
       " 'delete',\n",
       " 'equilibrium_solver_run',\n",
       " 'equilibrium_solver_run_id',\n",
       " 'equilibriumsolverrun_set',\n",
       " 'evaluation_set',\n",
       " 'from_db',\n",
       " 'full_clean',\n",
       " 'game',\n",
       " 'get_deferred_fields',\n",
       " 'get_modal_eval',\n",
       " 'get_model',\n",
       " 'get_next_by_created',\n",
       " 'get_next_by_modified',\n",
       " 'get_old_eval',\n",
       " 'get_previous_by_created',\n",
       " 'get_previous_by_modified',\n",
       " 'id',\n",
       " 'modified',\n",
       " 'nash_conv',\n",
       " 'objects',\n",
       " 'pk',\n",
       " 'policy',\n",
       " 'prepare_database_save',\n",
       " 'refresh_from_db',\n",
       " 'save',\n",
       " 'save_base',\n",
       " 'serializable_value',\n",
       " 't',\n",
       " 'unique_error_message',\n",
       " 'validate_unique',\n",
       " 'walltime']"
      ]
     },
     "execution_count": 37,
     "metadata": {},
     "output_type": "execute_result"
    }
   ],
   "source": [
    "dir(e)"
   ]
  },
  {
   "cell_type": "markdown",
   "metadata": {},
   "source": [
    "# Analyze runs"
   ]
  },
  {
   "cell_type": "code",
   "execution_count": 16,
   "metadata": {},
   "outputs": [
    {
     "name": "stderr",
     "output_type": "stream",
     "text": [
      "  1%|▌                                           | 1/75 [00:00<00:11,  6.42it/s]"
     ]
    },
    {
     "name": "stdout",
     "output_type": "stream",
     "text": [
      "Something wrong with jun16_jun16_3_medium_speed-cfr_outcomemccfr_outcome-101 (jun16outcome). Skipping Evaluation matching query does not exist.\n",
      "Skipping run jun16_jun16_4_no_activity-cfr_outcomemccfr_outcome-100 because of error None final checkpoint?\n"
     ]
    },
    {
     "name": "stderr",
     "output_type": "stream",
     "text": [
      "  5%|██▎                                         | 4/75 [00:05<01:44,  1.47s/it]"
     ]
    },
    {
     "name": "stdout",
     "output_type": "stream",
     "text": [
      "Something wrong with jun16_jun16_0_medium_speed-cfr_outcomemccfr_outcome-100 (jun16outcome). Skipping Evaluation matching query does not exist.\n"
     ]
    },
    {
     "name": "stderr",
     "output_type": "stream",
     "text": [
      "  8%|███▌                                        | 6/75 [00:11<02:15,  1.96s/it]"
     ]
    },
    {
     "name": "stdout",
     "output_type": "stream",
     "text": [
      "Something wrong with jun16_jun16_3_base-cfr_outcomemccfr_outcome-100 (jun16outcome). Skipping Evaluation matching query does not exist.\n"
     ]
    },
    {
     "name": "stderr",
     "output_type": "stream",
     "text": [
      "  9%|████                                        | 7/75 [00:12<01:58,  1.74s/it]"
     ]
    },
    {
     "name": "stdout",
     "output_type": "stream",
     "text": [
      "Something wrong with jun16_jun16_2_undersell_allowed-cfr_outcomemccfr_outcome-101 (jun16outcome). Skipping Evaluation matching query does not exist.\n"
     ]
    },
    {
     "name": "stderr",
     "output_type": "stream",
     "text": [
      " 11%|████▋                                       | 8/75 [00:14<01:49,  1.64s/it]"
     ]
    },
    {
     "name": "stdout",
     "output_type": "stream",
     "text": [
      "Something wrong with jun16_jun16_2_undersell_allowed-cfr_outcomemccfr_outcome-102 (jun16outcome). Skipping Evaluation matching query does not exist.\n"
     ]
    },
    {
     "name": "stderr",
     "output_type": "stream",
     "text": [
      " 12%|█████▎                                      | 9/75 [00:19<03:13,  2.93s/it]"
     ]
    },
    {
     "name": "stdout",
     "output_type": "stream",
     "text": [
      "Something wrong with jun16_jun16_3_no_activity-cfr_outcomemccfr_outcome-101 (jun16outcome). Skipping Evaluation matching query does not exist.\n"
     ]
    },
    {
     "name": "stderr",
     "output_type": "stream",
     "text": [
      " 13%|█████▋                                     | 10/75 [00:20<02:18,  2.13s/it]"
     ]
    },
    {
     "name": "stdout",
     "output_type": "stream",
     "text": [
      "Something wrong with jun16_jun16_1_undersell_allowed-cfr_outcomemccfr_outcome-102 (jun16outcome). Skipping Evaluation matching query does not exist.\n",
      "Skipping run jun16_jun16_3_no_activity-cfr_outcomemccfr_outcome-102 because of error None final checkpoint?\n"
     ]
    },
    {
     "name": "stderr",
     "output_type": "stream",
     "text": [
      " 19%|████████                                   | 14/75 [00:21<00:51,  1.18it/s]"
     ]
    },
    {
     "name": "stdout",
     "output_type": "stream",
     "text": [
      "Something wrong with jun16_jun16_0_undersell_allowed-cfr_outcomemccfr_outcome-101 (jun16outcome). Skipping Evaluation matching query does not exist.\n",
      "Skipping run jun16_jun16_2_no_activity-cfr_outcomemccfr_outcome-102 because of error None final checkpoint?\n",
      "Something wrong with jun16_jun16_4_undersell_allowed-cfr_outcomemccfr_outcome-102 (jun16outcome). Skipping Evaluation matching query does not exist.\n"
     ]
    },
    {
     "name": "stderr",
     "output_type": "stream",
     "text": [
      " 23%|█████████▋                                 | 17/75 [00:22<00:36,  1.60it/s]"
     ]
    },
    {
     "name": "stdout",
     "output_type": "stream",
     "text": [
      "Something wrong with jun16_jun16_0_undersell_allowed-cfr_outcomemccfr_outcome-102 (jun16outcome). Skipping Evaluation matching query does not exist.\n",
      "Something wrong with jun16_jun16_1_high_speed-cfr_outcomemccfr_outcome-100 (jun16outcome). Skipping Evaluation matching query does not exist.\n",
      "Something wrong with jun16_jun16_3_high_speed-cfr_outcomemccfr_outcome-102 (jun16outcome). Skipping Evaluation matching query does not exist.\n"
     ]
    },
    {
     "name": "stderr",
     "output_type": "stream",
     "text": [
      " 24%|██████████▎                                | 18/75 [00:22<00:29,  1.94it/s]"
     ]
    },
    {
     "name": "stdout",
     "output_type": "stream",
     "text": [
      "Something wrong with jun16_jun16_1_base-cfr_outcomemccfr_outcome-100 (jun16outcome). Skipping Evaluation matching query does not exist.\n",
      "Skipping run jun16_jun16_0_no_activity-cfr_outcomemccfr_outcome-100 because of error None final checkpoint?\n"
     ]
    },
    {
     "name": "stderr",
     "output_type": "stream",
     "text": [
      " 28%|████████████                               | 21/75 [00:23<00:19,  2.78it/s]"
     ]
    },
    {
     "name": "stdout",
     "output_type": "stream",
     "text": [
      "Something wrong with jun16_jun16_2_medium_speed-cfr_outcomemccfr_outcome-100 (jun16outcome). Skipping Evaluation matching query does not exist.\n",
      "Something wrong with jun16_jun16_4_base-cfr_outcomemccfr_outcome-100 (jun16outcome). Skipping Evaluation matching query does not exist.\n",
      "Something wrong with jun16_jun16_1_medium_speed-cfr_outcomemccfr_outcome-101 (jun16outcome). Skipping Evaluation matching query does not exist.\n",
      "Skipping run jun16_jun16_4_no_activity-cfr_outcomemccfr_outcome-102 because of error None final checkpoint?\n"
     ]
    },
    {
     "name": "stderr",
     "output_type": "stream",
     "text": [
      " 33%|██████████████▎                            | 25/75 [00:29<00:51,  1.03s/it]"
     ]
    },
    {
     "name": "stdout",
     "output_type": "stream",
     "text": [
      "Something wrong with jun16_jun16_0_base-cfr_outcomemccfr_outcome-100 (jun16outcome). Skipping Evaluation matching query does not exist.\n"
     ]
    },
    {
     "name": "stderr",
     "output_type": "stream",
     "text": [
      " 35%|██████████████▉                            | 26/75 [00:31<00:53,  1.08s/it]"
     ]
    },
    {
     "name": "stdout",
     "output_type": "stream",
     "text": [
      "Something wrong with jun16_jun16_2_base-cfr_outcomemccfr_outcome-101 (jun16outcome). Skipping Evaluation matching query does not exist.\n"
     ]
    },
    {
     "name": "stderr",
     "output_type": "stream",
     "text": [
      " 36%|███████████████▍                           | 27/75 [00:31<00:45,  1.06it/s]"
     ]
    },
    {
     "name": "stdout",
     "output_type": "stream",
     "text": [
      "Something wrong with jun16_jun16_0_medium_speed-cfr_outcomemccfr_outcome-101 (jun16outcome). Skipping Evaluation matching query does not exist.\n",
      "Something wrong with jun16_jun16_1_high_speed-cfr_outcomemccfr_outcome-102 (jun16outcome). Skipping Evaluation matching query does not exist.\n",
      "Something wrong with jun16_jun16_1_high_speed-cfr_outcomemccfr_outcome-101 (jun16outcome). Skipping Evaluation matching query does not exist.\n"
     ]
    },
    {
     "name": "stderr",
     "output_type": "stream",
     "text": [
      " 43%|██████████████████▎                        | 32/75 [00:32<00:16,  2.67it/s]"
     ]
    },
    {
     "name": "stdout",
     "output_type": "stream",
     "text": [
      "Something wrong with jun16_jun16_2_high_speed-cfr_outcomemccfr_outcome-101 (jun16outcome). Skipping Evaluation matching query does not exist.\n",
      "Something wrong with jun16_jun16_4_medium_speed-cfr_outcomemccfr_outcome-101 (jun16outcome). Skipping Evaluation matching query does not exist.\n",
      "Something wrong with jun16_jun16_4_high_speed-cfr_outcomemccfr_outcome-101 (jun16outcome). Skipping Evaluation matching query does not exist.\n"
     ]
    },
    {
     "name": "stderr",
     "output_type": "stream",
     "text": [
      " 44%|██████████████████▉                        | 33/75 [00:33<00:21,  1.91it/s]"
     ]
    },
    {
     "name": "stdout",
     "output_type": "stream",
     "text": [
      "Something wrong with jun16_jun16_2_base-cfr_outcomemccfr_outcome-102 (jun16outcome). Skipping Evaluation matching query does not exist.\n"
     ]
    },
    {
     "name": "stderr",
     "output_type": "stream",
     "text": [
      " 45%|███████████████████▍                       | 34/75 [00:33<00:21,  1.87it/s]"
     ]
    },
    {
     "name": "stdout",
     "output_type": "stream",
     "text": [
      "Something wrong with jun16_jun16_3_undersell_allowed-cfr_outcomemccfr_outcome-102 (jun16outcome). Skipping Evaluation matching query does not exist.\n"
     ]
    },
    {
     "name": "stderr",
     "output_type": "stream",
     "text": [
      " 47%|████████████████████                       | 35/75 [00:34<00:18,  2.12it/s]"
     ]
    },
    {
     "name": "stdout",
     "output_type": "stream",
     "text": [
      "Something wrong with jun16_jun16_4_undersell_allowed-cfr_outcomemccfr_outcome-101 (jun16outcome). Skipping Evaluation matching query does not exist.\n",
      "Skipping run jun16_jun16_0_no_activity-cfr_outcomemccfr_outcome-101 because of error None final checkpoint?\n",
      "Skipping run jun16_jun16_2_no_activity-cfr_outcomemccfr_outcome-101 because of error None final checkpoint?\n"
     ]
    },
    {
     "name": "stderr",
     "output_type": "stream",
     "text": [
      " 51%|█████████████████████▊                     | 38/75 [00:34<00:11,  3.13it/s]"
     ]
    },
    {
     "name": "stdout",
     "output_type": "stream",
     "text": [
      "Something wrong with jun16_jun16_4_high_speed-cfr_outcomemccfr_outcome-102 (jun16outcome). Skipping Evaluation matching query does not exist.\n"
     ]
    },
    {
     "name": "stderr",
     "output_type": "stream",
     "text": [
      " 53%|██████████████████████▉                    | 40/75 [00:35<00:15,  2.28it/s]"
     ]
    },
    {
     "name": "stdout",
     "output_type": "stream",
     "text": [
      "Something wrong with jun16_jun16_2_undersell_allowed-cfr_outcomemccfr_outcome-100 (jun16outcome). Skipping Evaluation matching query does not exist.\n"
     ]
    },
    {
     "name": "stderr",
     "output_type": "stream",
     "text": [
      " 57%|████████████████████████▋                  | 43/75 [00:38<00:18,  1.69it/s]"
     ]
    },
    {
     "name": "stdout",
     "output_type": "stream",
     "text": [
      "Something wrong with jun16_jun16_4_medium_speed-cfr_outcomemccfr_outcome-102 (jun16outcome). Skipping Evaluation matching query does not exist.\n"
     ]
    },
    {
     "name": "stderr",
     "output_type": "stream",
     "text": [
      " 60%|█████████████████████████▊                 | 45/75 [00:39<00:16,  1.86it/s]"
     ]
    },
    {
     "name": "stdout",
     "output_type": "stream",
     "text": [
      "Something wrong with jun16_jun16_0_base-cfr_outcomemccfr_outcome-101 (jun16outcome). Skipping Evaluation matching query does not exist.\n"
     ]
    },
    {
     "name": "stderr",
     "output_type": "stream",
     "text": [
      " 63%|██████████████████████████▉                | 47/75 [00:40<00:16,  1.73it/s]"
     ]
    },
    {
     "name": "stdout",
     "output_type": "stream",
     "text": [
      "Something wrong with jun16_jun16_2_base-cfr_outcomemccfr_outcome-100 (jun16outcome). Skipping Evaluation matching query does not exist.\n",
      "Something wrong with jun16_jun16_1_base-cfr_outcomemccfr_outcome-102 (jun16outcome). Skipping Evaluation matching query does not exist.\n"
     ]
    },
    {
     "name": "stderr",
     "output_type": "stream",
     "text": [
      " 64%|███████████████████████████▌               | 48/75 [00:40<00:13,  2.03it/s]"
     ]
    },
    {
     "name": "stdout",
     "output_type": "stream",
     "text": [
      "Something wrong with jun16_jun16_3_undersell_allowed-cfr_outcomemccfr_outcome-101 (jun16outcome). Skipping Evaluation matching query does not exist.\n"
     ]
    },
    {
     "name": "stderr",
     "output_type": "stream",
     "text": [
      " 65%|████████████████████████████               | 49/75 [00:42<00:17,  1.49it/s]"
     ]
    },
    {
     "name": "stdout",
     "output_type": "stream",
     "text": [
      "Something wrong with jun16_jun16_0_undersell_allowed-cfr_outcomemccfr_outcome-100 (jun16outcome). Skipping Evaluation matching query does not exist.\n"
     ]
    },
    {
     "name": "stderr",
     "output_type": "stream",
     "text": [
      " 67%|████████████████████████████▋              | 50/75 [00:42<00:16,  1.53it/s]"
     ]
    },
    {
     "name": "stdout",
     "output_type": "stream",
     "text": [
      "Something wrong with jun16_jun16_3_undersell_allowed-cfr_outcomemccfr_outcome-100 (jun16outcome). Skipping Evaluation matching query does not exist.\n"
     ]
    },
    {
     "name": "stderr",
     "output_type": "stream",
     "text": [
      " 68%|█████████████████████████████▏             | 51/75 [00:42<00:13,  1.81it/s]"
     ]
    },
    {
     "name": "stdout",
     "output_type": "stream",
     "text": [
      "Something wrong with jun16_jun16_2_high_speed-cfr_outcomemccfr_outcome-102 (jun16outcome). Skipping Evaluation matching query does not exist.\n"
     ]
    },
    {
     "name": "stderr",
     "output_type": "stream",
     "text": [
      " 69%|█████████████████████████████▊             | 52/75 [00:43<00:11,  2.07it/s]"
     ]
    },
    {
     "name": "stdout",
     "output_type": "stream",
     "text": [
      "Something wrong with jun16_jun16_3_base-cfr_outcomemccfr_outcome-102 (jun16outcome). Skipping Evaluation matching query does not exist.\n"
     ]
    },
    {
     "name": "stderr",
     "output_type": "stream",
     "text": [
      " 71%|██████████████████████████████▍            | 53/75 [00:43<00:10,  2.00it/s]"
     ]
    },
    {
     "name": "stdout",
     "output_type": "stream",
     "text": [
      "Something wrong with jun16_jun16_2_medium_speed-cfr_outcomemccfr_outcome-102 (jun16outcome). Skipping Evaluation matching query does not exist.\n",
      "Skipping run jun16_jun16_2_no_activity-cfr_outcomemccfr_outcome-100 because of error None final checkpoint?\n"
     ]
    },
    {
     "name": "stderr",
     "output_type": "stream",
     "text": [
      " 73%|███████████████████████████████▌           | 55/75 [00:44<00:07,  2.80it/s]"
     ]
    },
    {
     "name": "stdout",
     "output_type": "stream",
     "text": [
      "Something wrong with jun16_jun16_3_base-cfr_outcomemccfr_outcome-101 (jun16outcome). Skipping Evaluation matching query does not exist.\n"
     ]
    },
    {
     "name": "stderr",
     "output_type": "stream",
     "text": [
      " 75%|████████████████████████████████           | 56/75 [00:44<00:08,  2.27it/s]"
     ]
    },
    {
     "name": "stdout",
     "output_type": "stream",
     "text": [
      "Something wrong with jun16_jun16_0_medium_speed-cfr_outcomemccfr_outcome-102 (jun16outcome). Skipping Evaluation matching query does not exist.\n"
     ]
    },
    {
     "name": "stderr",
     "output_type": "stream",
     "text": [
      " 76%|████████████████████████████████▋          | 57/75 [00:45<00:08,  2.23it/s]"
     ]
    },
    {
     "name": "stdout",
     "output_type": "stream",
     "text": [
      "Something wrong with jun16_jun16_4_base-cfr_outcomemccfr_outcome-101 (jun16outcome). Skipping Evaluation matching query does not exist.\n",
      "Skipping run jun16_jun16_4_no_activity-cfr_outcomemccfr_outcome-101 because of error None final checkpoint?\n",
      "Skipping run jun16_jun16_3_no_activity-cfr_outcomemccfr_outcome-100 because of error None final checkpoint?\n",
      "Skipping run jun16_jun16_0_no_activity-cfr_outcomemccfr_outcome-102 because of error None final checkpoint?\n"
     ]
    },
    {
     "name": "stderr",
     "output_type": "stream",
     "text": [
      " 81%|██████████████████████████████████▉        | 61/75 [00:45<00:03,  4.65it/s]"
     ]
    },
    {
     "name": "stdout",
     "output_type": "stream",
     "text": [
      "Something wrong with jun16_jun16_3_medium_speed-cfr_outcomemccfr_outcome-102 (jun16outcome). Skipping Evaluation matching query does not exist.\n"
     ]
    },
    {
     "name": "stderr",
     "output_type": "stream",
     "text": [
      " 84%|████████████████████████████████████       | 63/75 [00:46<00:03,  3.61it/s]"
     ]
    },
    {
     "name": "stdout",
     "output_type": "stream",
     "text": [
      "Something wrong with jun16_jun16_0_base-cfr_outcomemccfr_outcome-102 (jun16outcome). Skipping Evaluation matching query does not exist.\n",
      "Something wrong with jun16_jun16_0_high_speed-cfr_outcomemccfr_outcome-102 (jun16outcome). Skipping Evaluation matching query does not exist.\n"
     ]
    },
    {
     "name": "stderr",
     "output_type": "stream",
     "text": [
      " 87%|█████████████████████████████████████▎     | 65/75 [00:46<00:02,  3.73it/s]"
     ]
    },
    {
     "name": "stdout",
     "output_type": "stream",
     "text": [
      "Something wrong with jun16_jun16_2_medium_speed-cfr_outcomemccfr_outcome-101 (jun16outcome). Skipping Evaluation matching query does not exist.\n",
      "Something wrong with jun16_jun16_2_high_speed-cfr_outcomemccfr_outcome-100 (jun16outcome). Skipping Evaluation matching query does not exist.\n"
     ]
    },
    {
     "name": "stderr",
     "output_type": "stream",
     "text": [
      " 93%|████████████████████████████████████████▏  | 70/75 [00:47<00:00,  8.54it/s]"
     ]
    },
    {
     "name": "stdout",
     "output_type": "stream",
     "text": [
      "Something wrong with jun16_jun16_1_medium_speed-cfr_outcomemccfr_outcome-102 (jun16outcome). Skipping Evaluation matching query does not exist.\n",
      "Something wrong with jun16_jun16_1_undersell_allowed-cfr_outcomemccfr_outcome-101 (jun16outcome). Skipping Evaluation matching query does not exist.\n",
      "Skipping run jun16_jun16_4_high_speed-cfr_outcomemccfr_outcome-100 because of error None final checkpoint?\n",
      "Something wrong with jun16_jun16_1_base-cfr_outcomemccfr_outcome-101 (jun16outcome). Skipping Evaluation matching query does not exist.\n",
      "Something wrong with jun16_jun16_3_high_speed-cfr_outcomemccfr_outcome-100 (jun16outcome). Skipping Evaluation matching query does not exist.\n"
     ]
    },
    {
     "name": "stderr",
     "output_type": "stream",
     "text": [
      " 96%|█████████████████████████████████████████▎ | 72/75 [00:47<00:00,  9.68it/s]"
     ]
    },
    {
     "name": "stdout",
     "output_type": "stream",
     "text": [
      "Something wrong with jun16_jun16_1_medium_speed-cfr_outcomemccfr_outcome-100 (jun16outcome). Skipping Evaluation matching query does not exist.\n",
      "Something wrong with jun16_jun16_3_medium_speed-cfr_outcomemccfr_outcome-100 (jun16outcome). Skipping Evaluation matching query does not exist.\n",
      "Something wrong with jun16_jun16_3_high_speed-cfr_outcomemccfr_outcome-101 (jun16outcome). Skipping Evaluation matching query does not exist.\n"
     ]
    },
    {
     "name": "stderr",
     "output_type": "stream",
     "text": [
      "100%|███████████████████████████████████████████| 75/75 [00:47<00:00,  1.58it/s]"
     ]
    },
    {
     "name": "stdout",
     "output_type": "stream",
     "text": [
      "Something wrong with jun16_jun16_4_medium_speed-cfr_outcomemccfr_outcome-100 (jun16outcome). Skipping Evaluation matching query does not exist.\n",
      "Something wrong with jun16_jun16_0_high_speed-cfr_outcomemccfr_outcome-100 (jun16outcome). Skipping Evaluation matching query does not exist.\n",
      "7\n"
     ]
    },
    {
     "name": "stderr",
     "output_type": "stream",
     "text": [
      "\n"
     ]
    }
   ],
   "source": [
    "# empirical = True\n",
    "USE_MODAL = True\n",
    "\n",
    "records = []\n",
    "for run in tqdm(runs):\n",
    "    try:\n",
    "    \n",
    "        try:\n",
    "            game, final_checkpoint, policy = get_results(run, skip_single_chance_nodes=False)\n",
    "        except Exception as e:\n",
    "            print(f\"Skipping run {run.name} because of error {e}\")\n",
    "            continue\n",
    "\n",
    "        if USE_MODAL:\n",
    "            evaluation = final_checkpoint.get_modal_eval()\n",
    "            # if make_combo_specific(evaluation):\n",
    "            #     print(run.name)\n",
    "        else:\n",
    "            evaluation = final_checkpoint.get_old_eval()\n",
    "            \n",
    "            \n",
    "        # total_entropy = analyze_samples(final_checkpoint.get_old_eval().samples, game)['total_entropy'] # Use old eval since modal is stupid for this and it's a convergence test\n",
    "\n",
    "        # if empirical: \n",
    "        #     history_dists = empirical_history_distribution(final_checkpoint.get_old_eval()) # Always use the old eval here\n",
    "        #     history_entropies = [scipy.stats.entropy(list(history_dists.loc[type_combo].values)) for type_combo in np.unique(history_dists.index.get_level_values(0))]\n",
    "        # else:\n",
    "        #     history_dists = compute_per_type_combo(history_distribution, policy, game, min_prob=0.01, history_type='processed')\n",
    "        #     history_entropies = [scipy.stats.entropy(list(history_dists[type_combo].values())) for type_combo in history_dists]\n",
    "\n",
    "        # try:\n",
    "        #     # TODO: Broken until you remove \"Tremble\" agents\n",
    "        #     _, _, approx_nash_conv = find_best_checkpoint(run)\n",
    "        # except:\n",
    "        #     # TODO: Fix bug where this actually happens because your BRs failed to do better and you have an Empirical Nash Conv of 0, very different from NaN\n",
    "        #     # ev_df = parse_run(run, None)\n",
    "        #     # display(ev_df)\n",
    "        #     approx_nash_conv = np.nan\n",
    "\n",
    "        record = {\n",
    "            # clock auction params\n",
    "            'game_name': run.game.name, \n",
    "            'potential': run.config.get('potential_function', 'None'),\n",
    "            'seed': run.config.get('seed'), \n",
    "            'run_name': run.name,\n",
    "            'experiment': run.experiment.name,\n",
    "            'config': run.get_config_name(),\n",
    "            't': final_checkpoint.t,\n",
    "\n",
    "            # CMA knobs\n",
    "            'information_policy': InformationPolicy(game.auction_params.information_policy).name,\n",
    "            'clock_speed': game.auction_params.increment,\n",
    "            'base_game_name': '_'.join(run.game.name.split('/')[1].split('_')[:2]), # Stupid naming convention that will surely bite us later\n",
    "\n",
    "            # solver information\n",
    "            'alg': get_algorithm_from_run(run),\n",
    "            'walltime': run.walltime(),\n",
    "\n",
    "            # 'approx_nash_conv': approx_nash_conv,\n",
    "\n",
    "            # metrics from eval\n",
    "            # **analyze_samples(evaluation.samples, game),\n",
    "            # 'total_entropy': total_entropy,\n",
    "\n",
    "            # stats about history distribution\n",
    "            # 'avg_distinct_histories': np.mean([len(d) for d in history_dists.values()]),\n",
    "            # 'avg_history_entropy': np.mean(history_entropies),\n",
    "        } \n",
    "        \n",
    "        record['nash_conv'] = final_checkpoint.get_modal_eval().nash_conv\n",
    "\n",
    "        # Slowwwwww you may want to comment this out when not using it\n",
    "#         start = time.time()\n",
    "#         c = final_checkpoint.equilibrium_solver_run.config\n",
    "#         cfr = c.get('solver_type') == 'cfr'\n",
    "#         env_and_policy = ppo_db_checkpoint_loader(final_checkpoint, cfr=cfr)\n",
    "#         for player in range(game.num_players()):\n",
    "#             env_and_policy.agents[player] = ModalAgentDecorator(env_and_policy.agents[player])\n",
    "#         modal_policy = env_and_policy.make_policy()\n",
    "        \n",
    "#         worked, nc = time_bounded_run(30, nash_conv, game, modal_policy)\n",
    "#         if not worked:\n",
    "#             print(\"Aborted run because time\")\n",
    "#         record['nash_conv'] = nc if worked else np.nan\n",
    "#         record['nash_conv_time'] = time.time() - start\n",
    "#         print(time.time() - start)\n",
    "\n",
    "\n",
    "\n",
    "        records.append(record)\n",
    "    except Exception as e:\n",
    "        print(f\"Something wrong with {run}. Skipping {e}\")\n",
    "print(len(records))"
   ]
  },
  {
   "cell_type": "code",
   "execution_count": 17,
   "metadata": {},
   "outputs": [],
   "source": [
    "df = pd.DataFrame.from_records(records)\n",
    "# df['imperfect'] = df['game_name'].str.contains('imperfect')\n"
   ]
  },
  {
   "cell_type": "code",
   "execution_count": 18,
   "metadata": {},
   "outputs": [
    {
     "data": {
      "text/html": [
       "<div>\n",
       "<style scoped>\n",
       "    .dataframe tbody tr th:only-of-type {\n",
       "        vertical-align: middle;\n",
       "    }\n",
       "\n",
       "    .dataframe tbody tr th {\n",
       "        vertical-align: top;\n",
       "    }\n",
       "\n",
       "    .dataframe thead th {\n",
       "        text-align: right;\n",
       "    }\n",
       "</style>\n",
       "<table border=\"1\" class=\"dataframe\">\n",
       "  <thead>\n",
       "    <tr style=\"text-align: right;\">\n",
       "      <th></th>\n",
       "      <th>game_name</th>\n",
       "      <th>potential</th>\n",
       "      <th>seed</th>\n",
       "      <th>run_name</th>\n",
       "      <th>experiment</th>\n",
       "      <th>config</th>\n",
       "      <th>t</th>\n",
       "      <th>information_policy</th>\n",
       "      <th>clock_speed</th>\n",
       "      <th>base_game_name</th>\n",
       "      <th>alg</th>\n",
       "      <th>walltime</th>\n",
       "      <th>nash_conv</th>\n",
       "    </tr>\n",
       "  </thead>\n",
       "  <tbody>\n",
       "    <tr>\n",
       "      <th>0</th>\n",
       "      <td>jun16/jun16_1_no_activity.json</td>\n",
       "      <td>None</td>\n",
       "      <td>101</td>\n",
       "      <td>jun16_jun16_1_no_activity-cfr_outcomemccfr_out...</td>\n",
       "      <td>jun16outcome</td>\n",
       "      <td>cfr_outcomemccfr_outcome</td>\n",
       "      <td>3000000</td>\n",
       "      <td>SHOW_DEMAND</td>\n",
       "      <td>0.3</td>\n",
       "      <td>jun16_1</td>\n",
       "      <td>cfr_outcome</td>\n",
       "      <td>10934.102578</td>\n",
       "      <td>19.3025</td>\n",
       "    </tr>\n",
       "    <tr>\n",
       "      <th>1</th>\n",
       "      <td>jun16/jun16_1_no_activity.json</td>\n",
       "      <td>None</td>\n",
       "      <td>102</td>\n",
       "      <td>jun16_jun16_1_no_activity-cfr_outcomemccfr_out...</td>\n",
       "      <td>jun16outcome</td>\n",
       "      <td>cfr_outcomemccfr_outcome</td>\n",
       "      <td>3000000</td>\n",
       "      <td>SHOW_DEMAND</td>\n",
       "      <td>0.3</td>\n",
       "      <td>jun16_1</td>\n",
       "      <td>cfr_outcome</td>\n",
       "      <td>12907.232714</td>\n",
       "      <td>24.8840</td>\n",
       "    </tr>\n",
       "    <tr>\n",
       "      <th>2</th>\n",
       "      <td>jun16/jun16_1_no_activity.json</td>\n",
       "      <td>None</td>\n",
       "      <td>100</td>\n",
       "      <td>jun16_jun16_1_no_activity-cfr_outcomemccfr_out...</td>\n",
       "      <td>jun16outcome</td>\n",
       "      <td>cfr_outcomemccfr_outcome</td>\n",
       "      <td>3000000</td>\n",
       "      <td>SHOW_DEMAND</td>\n",
       "      <td>0.3</td>\n",
       "      <td>jun16_1</td>\n",
       "      <td>cfr_outcome</td>\n",
       "      <td>10233.574260</td>\n",
       "      <td>22.0800</td>\n",
       "    </tr>\n",
       "    <tr>\n",
       "      <th>3</th>\n",
       "      <td>jun16/jun16_1_undersell_allowed.json</td>\n",
       "      <td>None</td>\n",
       "      <td>100</td>\n",
       "      <td>jun16_jun16_1_undersell_allowed-cfr_outcomemcc...</td>\n",
       "      <td>jun16outcome</td>\n",
       "      <td>cfr_outcomemccfr_outcome</td>\n",
       "      <td>6000000</td>\n",
       "      <td>SHOW_DEMAND</td>\n",
       "      <td>0.3</td>\n",
       "      <td>jun16_1</td>\n",
       "      <td>cfr_outcome</td>\n",
       "      <td>14917.998551</td>\n",
       "      <td>NaN</td>\n",
       "    </tr>\n",
       "    <tr>\n",
       "      <th>4</th>\n",
       "      <td>jun16/jun16_4_base.json</td>\n",
       "      <td>None</td>\n",
       "      <td>102</td>\n",
       "      <td>jun16_jun16_4_base-cfr_outcomemccfr_outcome-102</td>\n",
       "      <td>jun16outcome</td>\n",
       "      <td>cfr_outcomemccfr_outcome</td>\n",
       "      <td>6000000</td>\n",
       "      <td>SHOW_DEMAND</td>\n",
       "      <td>0.3</td>\n",
       "      <td>jun16_4</td>\n",
       "      <td>cfr_outcome</td>\n",
       "      <td>18339.957468</td>\n",
       "      <td>NaN</td>\n",
       "    </tr>\n",
       "    <tr>\n",
       "      <th>5</th>\n",
       "      <td>jun16/jun16_4_undersell_allowed.json</td>\n",
       "      <td>None</td>\n",
       "      <td>100</td>\n",
       "      <td>jun16_jun16_4_undersell_allowed-cfr_outcomemcc...</td>\n",
       "      <td>jun16outcome</td>\n",
       "      <td>cfr_outcomemccfr_outcome</td>\n",
       "      <td>6000000</td>\n",
       "      <td>SHOW_DEMAND</td>\n",
       "      <td>0.3</td>\n",
       "      <td>jun16_4</td>\n",
       "      <td>cfr_outcome</td>\n",
       "      <td>16401.935545</td>\n",
       "      <td>NaN</td>\n",
       "    </tr>\n",
       "    <tr>\n",
       "      <th>6</th>\n",
       "      <td>jun16/jun16_0_high_speed.json</td>\n",
       "      <td>None</td>\n",
       "      <td>101</td>\n",
       "      <td>jun16_jun16_0_high_speed-cfr_outcomemccfr_outc...</td>\n",
       "      <td>jun16outcome</td>\n",
       "      <td>cfr_outcomemccfr_outcome</td>\n",
       "      <td>6000000</td>\n",
       "      <td>SHOW_DEMAND</td>\n",
       "      <td>0.6</td>\n",
       "      <td>jun16_0</td>\n",
       "      <td>cfr_outcome</td>\n",
       "      <td>17614.483184</td>\n",
       "      <td>NaN</td>\n",
       "    </tr>\n",
       "  </tbody>\n",
       "</table>\n",
       "</div>"
      ],
      "text/plain": [
       "                              game_name potential  seed  \\\n",
       "0        jun16/jun16_1_no_activity.json      None   101   \n",
       "1        jun16/jun16_1_no_activity.json      None   102   \n",
       "2        jun16/jun16_1_no_activity.json      None   100   \n",
       "3  jun16/jun16_1_undersell_allowed.json      None   100   \n",
       "4               jun16/jun16_4_base.json      None   102   \n",
       "5  jun16/jun16_4_undersell_allowed.json      None   100   \n",
       "6         jun16/jun16_0_high_speed.json      None   101   \n",
       "\n",
       "                                            run_name    experiment  \\\n",
       "0  jun16_jun16_1_no_activity-cfr_outcomemccfr_out...  jun16outcome   \n",
       "1  jun16_jun16_1_no_activity-cfr_outcomemccfr_out...  jun16outcome   \n",
       "2  jun16_jun16_1_no_activity-cfr_outcomemccfr_out...  jun16outcome   \n",
       "3  jun16_jun16_1_undersell_allowed-cfr_outcomemcc...  jun16outcome   \n",
       "4    jun16_jun16_4_base-cfr_outcomemccfr_outcome-102  jun16outcome   \n",
       "5  jun16_jun16_4_undersell_allowed-cfr_outcomemcc...  jun16outcome   \n",
       "6  jun16_jun16_0_high_speed-cfr_outcomemccfr_outc...  jun16outcome   \n",
       "\n",
       "                     config        t information_policy  clock_speed  \\\n",
       "0  cfr_outcomemccfr_outcome  3000000        SHOW_DEMAND          0.3   \n",
       "1  cfr_outcomemccfr_outcome  3000000        SHOW_DEMAND          0.3   \n",
       "2  cfr_outcomemccfr_outcome  3000000        SHOW_DEMAND          0.3   \n",
       "3  cfr_outcomemccfr_outcome  6000000        SHOW_DEMAND          0.3   \n",
       "4  cfr_outcomemccfr_outcome  6000000        SHOW_DEMAND          0.3   \n",
       "5  cfr_outcomemccfr_outcome  6000000        SHOW_DEMAND          0.3   \n",
       "6  cfr_outcomemccfr_outcome  6000000        SHOW_DEMAND          0.6   \n",
       "\n",
       "  base_game_name          alg      walltime  nash_conv  \n",
       "0        jun16_1  cfr_outcome  10934.102578    19.3025  \n",
       "1        jun16_1  cfr_outcome  12907.232714    24.8840  \n",
       "2        jun16_1  cfr_outcome  10233.574260    22.0800  \n",
       "3        jun16_1  cfr_outcome  14917.998551        NaN  \n",
       "4        jun16_4  cfr_outcome  18339.957468        NaN  \n",
       "5        jun16_4  cfr_outcome  16401.935545        NaN  \n",
       "6        jun16_0  cfr_outcome  17614.483184        NaN  "
      ]
     },
     "execution_count": 18,
     "metadata": {},
     "output_type": "execute_result"
    }
   ],
   "source": [
    "df"
   ]
  },
  {
   "cell_type": "code",
   "execution_count": null,
   "metadata": {},
   "outputs": [],
   "source": [
    "df.groupby('config')['walltime'].describe() / 3600"
   ]
  },
  {
   "cell_type": "code",
   "execution_count": null,
   "metadata": {},
   "outputs": [],
   "source": [
    "df.query('~imperfect')['config'].value_counts(dropna=False)"
   ]
  },
  {
   "cell_type": "code",
   "execution_count": null,
   "metadata": {},
   "outputs": [],
   "source": [
    "df.query('~imperfect').groupby('config')['nash_conv'].describe()"
   ]
  },
  {
   "cell_type": "code",
   "execution_count": null,
   "metadata": {},
   "outputs": [],
   "source": [
    "df.query('~nash_conv.isnull()').sample(10)"
   ]
  },
  {
   "cell_type": "code",
   "execution_count": null,
   "metadata": {},
   "outputs": [],
   "source": [
    "df = _"
   ]
  },
  {
   "cell_type": "code",
   "execution_count": null,
   "metadata": {},
   "outputs": [],
   "source": [
    "df['run_name'].values"
   ]
  },
  {
   "cell_type": "code",
   "execution_count": null,
   "metadata": {},
   "outputs": [],
   "source": [
    "df.groupby('experiment')['avg_history_entropy'].describe()"
   ]
  },
  {
   "cell_type": "code",
   "execution_count": null,
   "metadata": {},
   "outputs": [],
   "source": [
    "groupers = ['base_game_name', 'clock_speed', 'information_policy']\n",
    "df.sort_values(groupers).set_index([df.index]+groupers, drop=True).to_csv('jun5_results.csv')"
   ]
  },
  {
   "cell_type": "code",
   "execution_count": null,
   "metadata": {},
   "outputs": [],
   "source": [
    "df.sort_values(groupers).set_index([df.index]+groupers, drop=True)\n",
    "df.to_csv('greg3.csv')"
   ]
  },
  {
   "cell_type": "code",
   "execution_count": null,
   "metadata": {},
   "outputs": [],
   "source": [
    "palette = {\n",
    "    \"('SHOW_DEMAND', 0.3)\": 'blue',\n",
    "    \"('SHOW_DEMAND', 0.45)\": 'orange',\n",
    "    \"('SHOW_DEMAND', 0.6)\": 'green'\n",
    "}"
   ]
  },
  {
   "cell_type": "code",
   "execution_count": null,
   "metadata": {},
   "outputs": [],
   "source": [
    "df.columns"
   ]
  },
  {
   "cell_type": "code",
   "execution_count": null,
   "metadata": {},
   "outputs": [],
   "source": [
    "ATTRIBUTE = 'variant'\n",
    "NORMALIZED = False\n",
    "plot_type = 'scatter'\n",
    "box_df = df.copy()\n",
    "markers = ['o', 'X', '^']\n",
    "\n",
    "box_df['variant'] = list(map(str,(zip(box_df.information_policy, box_df.clock_speed))))\n",
    "\n",
    "# box_df = box_df.query('clock_speed == 0.3')\n",
    "box_df = box_df.query('information_policy == \"SHOW_DEMAND\"')\n",
    "box_df = box_df.sort_values(['clock_speed', 'game_name', 'config'])\n",
    "\n",
    "STATS = ['total_revenue', 'total_welfare', 'auction_lengths', 'total_entropy']\n",
    "# Normalize by the mean of the \"base\" version, so the scales line up better in the same graph\n",
    "if NORMALIZED: \n",
    "    for stat in STATS:\n",
    "        base = str(('SHOW_DEMAND', 0.3))\n",
    "        base_stat = box_df.pivot_table(index=['base_game_name'], values=stat, aggfunc='mean', columns=ATTRIBUTE)\n",
    "        box_df[f'normalized_{stat}'] = box_df.apply(lambda x: x[stat] / base_stat.loc[x['base_game_name'], base], axis=1)\n",
    "\n",
    "for stat in STATS:\n",
    "    if NORMALIZED:\n",
    "        stat = f'normalized_{stat}'\n",
    "    plt.figure(figsize=(20,10))\n",
    "    if plot_type == 'box':\n",
    "        ax = sns.boxplot(data=box_df, x='base_game_name', y=stat, hue=ATTRIBUTE)\n",
    "        # ax.set_xticklabels(ax.get_xticklabels(),rotation=90)\n",
    "    else:\n",
    "        strip_kwargs = dict(x='base_game_name', y=stat, hue=ATTRIBUTE, s=10, alpha=0.5, dodge=True, jitter=False, palette=palette)\n",
    "        for i, config in enumerate(box_df['config'].unique()):\n",
    "            # print(config, markers[i])\n",
    "            ax = sns.stripplot(data=box_df.query(f'config == \"{config}\"'), marker=markers[i], **strip_kwargs)\n",
    "            if i == 0:\n",
    "                old_handles, old_labels = ax.get_legend_handles_labels()\n",
    "            # ax = sns.stripplot(data=box_df.query('alg.str.contains(\"PPO\") and imperfect'), marker='X', **strip_kwargs)\n",
    "            # ax = sns.stripplot(data=box_df.query('alg.str.contains(\"cfr\")'), marker='^', **strip_kwargs)\n",
    "        ax.legend(old_handles, old_labels)\n",
    "\n",
    "    plt.title(f\"{stat}\")"
   ]
  },
  {
   "cell_type": "code",
   "execution_count": null,
   "metadata": {},
   "outputs": [],
   "source": [
    "\n",
    "\n",
    "# ### Code to rerun evals for a failed experiment\n",
    "# from open_spiel.python.examples.ubc_dispatch import dispatch_eval_database\n",
    "# exp = 'jun5outcome'\n",
    "\n",
    "# for e in Evaluation.objects.filter(checkpoint__equilibrium_solver_run__experiment__name=exp):\n",
    "#     experiment_name = e.checkpoint.equilibrium_solver_run.experiment.name\n",
    "#     run_name = e.checkpoint.equilibrium_solver_run.name\n",
    "#     t = e.checkpoint.t\n",
    "#     dispatch_eval_database(experiment_name, run_name, t, None, None)\n",
    "# print(Evaluation.objects.filter(checkpoint__equilibrium_solver_run__experiment__name=exp).delete())"
   ]
  },
  {
   "cell_type": "code",
   "execution_count": null,
   "metadata": {},
   "outputs": [],
   "source": [
    "df.query('alg == \"PPO\"').groupby(['experiment', 'imperfect']).mean()"
   ]
  },
  {
   "cell_type": "code",
   "execution_count": null,
   "metadata": {},
   "outputs": [],
   "source": [
    "records = []\n",
    "\n",
    "for run in tqdm(runs):\n",
    "    try:\n",
    "        ev_df = parse_run(run, expected_additional_br=0)\n",
    "        if ev_df is None:\n",
    "            continue\n",
    "        ev_df = ev_df.query('name == \"modal\"')\n",
    "        if not ev_df.empty:\n",
    "            val = ((ev_df['Regret'] / ev_df['Baseline']).mean() * 100)\n",
    "            record = dict(val=val, alg=get_algorithm_from_run(run), game=run.game.name)\n",
    "            records.append(record)\n",
    "    except KeyError as e:\n",
    "        continue\n",
    "val_df = pd.DataFrame.from_records(records)"
   ]
  },
  {
   "cell_type": "code",
   "execution_count": null,
   "metadata": {},
   "outputs": [],
   "source": [
    "# val_df.groupby(['game', 'alg']).describe()\n",
    "val_df.groupby(['game', 'alg']).describe()"
   ]
  },
  {
   "cell_type": "code",
   "execution_count": null,
   "metadata": {},
   "outputs": [],
   "source": [
    "# import open_spiel.python.examples.ubc_dispatch as dispatch\n",
    "# for run in runs:\n",
    "#     try:\n",
    "#         game, final_checkpoint, policy = get_results(run, skip_single_chance_nodes=False)\n",
    "#     except:\n",
    "#         print(\"Skipping\", run)\n",
    "#         continue\n",
    "#     final_checkpoint.bestresponse_set.all().delete()\n",
    "#     for player in range(game.num_players()):\n",
    "#         dispatch.dispatch_eval_database(run.experiment.name, run.name, final_checkpoint.t, player, 'modal') \n",
    "#         dispatch.dispatch_eval_database(run.experiment.name, run.name, final_checkpoint.t, player, 'tremble')  "
   ]
  },
  {
   "cell_type": "code",
   "execution_count": null,
   "metadata": {},
   "outputs": [],
   "source": [
    "x = {'blue': 3, 'red': 1111, \"string\": 'tortoise'}\n",
    "y = str(x)\n",
    "y"
   ]
  },
  {
   "cell_type": "code",
   "execution_count": null,
   "metadata": {},
   "outputs": [],
   "source": [
    "eval(y)"
   ]
  },
  {
   "cell_type": "code",
   "execution_count": null,
   "metadata": {},
   "outputs": [],
   "source": [
    "for run in runs:\n",
    "    try:\n",
    "        game, final_checkpoint, policy = get_results(run, skip_single_chance_nodes=False)\n",
    "    except Exception as e:\n",
    "        print(f\"Skipping run {run.name} because of error {e}\")\n",
    "        continue\n",
    "\n",
    "    ev = final_checkpoint.get_modal_eval()\n",
    "    if ev.nash_conv:\n",
    "        continue\n",
    "    else:\n",
    "        ev.delete()\n",
    "        br_mapping = {p: 'modal' for p in range(2)}\n",
    "        dispatch.dispatch_eval_database(final_checkpoint.t, run.experiment.name, run.name, str(br_mapping))"
   ]
  },
  {
   "cell_type": "code",
   "execution_count": 8,
   "metadata": {},
   "outputs": [],
   "source": [
    "game = pyspiel.load_game('python_clock_auction')"
   ]
  },
  {
   "cell_type": "code",
   "execution_count": 11,
   "metadata": {},
   "outputs": [],
   "source": [
    "a = game.new_initial_state()"
   ]
  },
  {
   "cell_type": "code",
   "execution_count": 12,
   "metadata": {},
   "outputs": [],
   "source": [
    "b = a.child(0).child(0)"
   ]
  },
  {
   "cell_type": "code",
   "execution_count": 13,
   "metadata": {},
   "outputs": [
    {
     "data": {
      "text/plain": [
       "AuctionParams(opening_prices=[100, 100], licenses=array([1, 1]), license_names=['A', 'B'], activity=[100, 100], num_products=2, increment=0.1, reveal_type_round=-1, fold_randomness=True, skip_single_chance_nodes=True, max_round=6, player_types=defaultdict(<class 'list'>, {0: [{'prob': 1, 'bidder': <open_spiel.python.games.clock_auction_bidders.LinearBidder object at 0x7f9712e89e80>}], 1: [{'prob': 1, 'bidder': <open_spiel.python.games.clock_auction_bidders.LinearBidder object at 0x7f9712e89a30>}]}), all_bids=array([[0, 0],\n",
       "       [0, 1],\n",
       "       [1, 0],\n",
       "       [1, 1]]), bid_to_index={(0, 0): 0, (0, 1): 1, (1, 0): 2, (1, 1): 3}, all_bids_activity=array([  0, 100, 100, 200]), activity_policy=<ActivityPolicy.ON: 0>, undersell_policy=<UndersellPolicy.UNDERSELL: 0>, information_policy=<InformationPolicy.SHOW_DEMAND: 0>, agent_memory=1)"
      ]
     },
     "execution_count": 13,
     "metadata": {},
     "output_type": "execute_result"
    }
   ],
   "source": [
    "a.auction_params"
   ]
  },
  {
   "cell_type": "code",
   "execution_count": 25,
   "metadata": {},
   "outputs": [
    {
     "data": {
      "text/plain": [
       "140286834024064"
      ]
     },
     "execution_count": 25,
     "metadata": {},
     "output_type": "execute_result"
    }
   ],
   "source": [
    "id(a.auction_params.player_types[0][0]['bidder'])"
   ]
  },
  {
   "cell_type": "code",
   "execution_count": 26,
   "metadata": {},
   "outputs": [
    {
     "data": {
      "text/plain": [
       "140286824802624"
      ]
     },
     "execution_count": 26,
     "metadata": {},
     "output_type": "execute_result"
    }
   ],
   "source": [
    "id(b.auction_params.player_types[0][0]['bidder'])"
   ]
  },
  {
   "cell_type": "code",
   "execution_count": 35,
   "metadata": {},
   "outputs": [
    {
     "data": {
      "text/plain": [
       "(140289819056688, 140286824851296)"
      ]
     },
     "execution_count": 35,
     "metadata": {},
     "output_type": "execute_result"
    }
   ],
   "source": [
    "id(a.auction_params), id(b.auction_params)"
   ]
  },
  {
   "cell_type": "code",
   "execution_count": 36,
   "metadata": {},
   "outputs": [
    {
     "data": {
      "text/plain": [
       "140289819056688"
      ]
     },
     "execution_count": 36,
     "metadata": {},
     "output_type": "execute_result"
    }
   ],
   "source": [
    "x = a.auction_params\n",
    "id(x)"
   ]
  },
  {
   "cell_type": "code",
   "execution_count": 42,
   "metadata": {},
   "outputs": [
    {
     "data": {
      "text/plain": [
       "True"
      ]
     },
     "execution_count": 42,
     "metadata": {},
     "output_type": "execute_result"
    }
   ],
   "source": [
    "id(a.get_game()) == id(b.get_game())"
   ]
  },
  {
   "cell_type": "code",
   "execution_count": null,
   "metadata": {},
   "outputs": [],
   "source": []
  }
 ],
 "metadata": {
  "kernelspec": {
   "display_name": "Django Shell-Plus",
   "language": "python",
   "name": "django_extensions"
  },
  "language_info": {
   "codemirror_mode": {
    "name": "ipython",
    "version": 3
   },
   "file_extension": ".py",
   "mimetype": "text/x-python",
   "name": "python",
   "nbconvert_exporter": "python",
   "pygments_lexer": "ipython3",
   "version": "3.8.2"
  }
 },
 "nbformat": 4,
 "nbformat_minor": 4
}
