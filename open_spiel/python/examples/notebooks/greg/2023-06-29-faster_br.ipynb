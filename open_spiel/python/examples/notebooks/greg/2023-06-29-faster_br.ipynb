{
 "cells": [
  {
   "cell_type": "code",
   "execution_count": 141,
   "id": "97ea3582-ddec-4271-a0f4-671678cf7fb9",
   "metadata": {},
   "outputs": [
    {
     "name": "stdout",
     "output_type": "stream",
     "text": [
      "The autoreload extension is already loaded. To reload it, use:\n",
      "  %reload_ext autoreload\n"
     ]
    }
   ],
   "source": [
    "%load_ext autoreload\n",
    "%autoreload 2\n",
    "\n",
    "import pyspiel\n",
    "import open_spiel.python.examples.ubc_utils\n",
    "from open_spiel.python.examples.ubc_utils import *\n",
    "from auctions.webutils import *\n",
    "from absl import logging\n",
    "logging.set_verbosity(logging.INFO)\n",
    "import os\n",
    "os.environ[\"DJANGO_ALLOW_ASYNC_UNSAFE\"] = \"true\"\n",
    "from open_spiel.python.examples.ubc_cma import *\n",
    "from open_spiel.python.examples.ubc_decorators import TakeSingleActionDecorator, TremblingAgentDecorator, ModalAgentDecorator\n",
    "\n"
   ]
  },
  {
   "cell_type": "code",
   "execution_count": null,
   "id": "eb129382-e30f-4e34-9a81-9e885cde9931",
   "metadata": {},
   "outputs": [],
   "source": []
  },
  {
   "cell_type": "code",
   "execution_count": 42,
   "id": "d560e188-9119-4bf4-9a02-70067c6854c3",
   "metadata": {},
   "outputs": [
    {
     "name": "stderr",
     "output_type": "stream",
     "text": [
      "INFO:absl:Using game instance: python_clock_auction\n"
     ]
    }
   ],
   "source": [
    "# run_name = 'jun26_jun26_1_high_speed-cfr_port_2outcome_lin_avg-101'\n",
    "run_name = 'jun26_jun26_3_medium_speed-cfr_port_2outcome_lin_avg_plus-101'\n",
    "# run_name = 'jun26_jun26_1_base-cfr_port_2outcome_lin_avg_plus-100'\n",
    "\n",
    "# run_name = 'jun26_jun26_3_no_activity-cfr_port_2external_plus-102'\n",
    "# run_name = 'jun26_jun26_1_grace_period-cfr_port_2external_plus-100'\n",
    "run_name = 'jun26_jun26_1_no_activity-cfr_port_2outcome_lin_avg_plus-100'\n",
    "run = EquilibriumSolverRun.objects.get(name=run_name)\n",
    "game, checkpoint, policy = get_results(run)\n",
    "\n",
    "env_and_policy = ppo_db_checkpoint_loader(checkpoint)\n",
    "for player in range(game.num_players()):\n",
    "    env_and_policy.agents[player] = ModalAgentDecorator(env_and_policy.agents[player])\n",
    "policy = env_and_policy.make_policy()"
   ]
  },
  {
   "cell_type": "code",
   "execution_count": 61,
   "id": "b2bc5f60-6644-49ff-a9e2-d8fd02760203",
   "metadata": {},
   "outputs": [],
   "source": [
    "from open_spiel.python.algorithms.ubc_best_response import compute_br_value, _compute_br_value\n",
    "from open_spiel.python.algorithms.ubc_exploitability import nash_conv"
   ]
  },
  {
   "cell_type": "code",
   "execution_count": 62,
   "id": "845b7828-5fcb-4367-9a4d-badac9a547bc",
   "metadata": {},
   "outputs": [],
   "source": [
    "policy = env_and_policy.make_policy()"
   ]
  },
  {
   "cell_type": "code",
   "execution_count": 21,
   "id": "73f191bd-f58d-4521-9d72-8cc679b8f2d8",
   "metadata": {},
   "outputs": [],
   "source": [
    "# _compute_br_value??"
   ]
  },
  {
   "cell_type": "code",
   "execution_count": 38,
   "id": "c2a6e6b1-d80f-4bc5-a8d3-37d5f079cdac",
   "metadata": {},
   "outputs": [
    {
     "name": "stderr",
     "output_type": "stream",
     "text": [
      "INFO:absl:Using game instance: python_clock_auction\n"
     ]
    }
   ],
   "source": [
    "game, checkpoint, policy = get_results(run)\n",
    "env_and_policy = ppo_db_checkpoint_loader(checkpoint)\n",
    "for player in range(game.num_players()):\n",
    "    env_and_policy.agents[player] = ModalAgentDecorator(env_and_policy.agents[player])\n",
    "policy = env_and_policy.make_policy()"
   ]
  },
  {
   "cell_type": "code",
   "execution_count": 39,
   "id": "566f2376-c2db-436c-95fe-dab67ebdfbe9",
   "metadata": {},
   "outputs": [
    {
     "name": "stdout",
     "output_type": "stream",
     "text": [
      "CPU times: user 1.88 s, sys: 15.8 ms, total: 1.89 s\n",
      "Wall time: 1.89 s\n"
     ]
    },
    {
     "data": {
      "text/plain": [
       "22.092900936522433"
      ]
     },
     "execution_count": 39,
     "metadata": {},
     "output_type": "execute_result"
    }
   ],
   "source": [
    "%%time\n",
    "compute_br_value(game.new_initial_state(), 1, policy, prune_subgames=False)"
   ]
  },
  {
   "cell_type": "code",
   "execution_count": 63,
   "id": "c891e735-50ec-47cc-b3a9-a930bb3c46fa",
   "metadata": {},
   "outputs": [
    {
     "name": "stderr",
     "output_type": "stream",
     "text": [
      "INFO:absl:Using game instance: python_clock_auction\n"
     ]
    }
   ],
   "source": [
    "game, checkpoint, policy = get_results(run)\n",
    "env_and_policy = ppo_db_checkpoint_loader(checkpoint)\n",
    "for player in range(game.num_players()):\n",
    "    env_and_policy.agents[player] = ModalAgentDecorator(env_and_policy.agents[player])\n",
    "policy = env_and_policy.make_policy()"
   ]
  },
  {
   "cell_type": "code",
   "execution_count": 119,
   "id": "020219f4-ab33-4add-a4bc-171d2f3a98ff",
   "metadata": {},
   "outputs": [
    {
     "name": "stdout",
     "output_type": "stream",
     "text": [
      "CPU times: user 5.34 s, sys: 51.7 ms, total: 5.4 s\n",
      "Wall time: 5.4 s\n"
     ]
    },
    {
     "data": {
      "text/plain": [
       "56.52624468653316"
      ]
     },
     "execution_count": 119,
     "metadata": {},
     "output_type": "execute_result"
    }
   ],
   "source": [
    "%%time\n",
    "state = game.new_initial_state()\n",
    "compute_br_value(state, 0, policy)"
   ]
  },
  {
   "cell_type": "code",
   "execution_count": 117,
   "id": "5257d1ba-25c2-4f0d-879e-e843c7dfab64",
   "metadata": {},
   "outputs": [
    {
     "data": {
      "text/plain": [
       "50.96859303522709"
      ]
     },
     "execution_count": 117,
     "metadata": {},
     "output_type": "execute_result"
    }
   ],
   "source": [
    "checkpoint.get_modal_eval().mean_rewards[0]"
   ]
  },
  {
   "cell_type": "code",
   "execution_count": 82,
   "id": "1f2aee98-7353-4e2e-883c-ea0a390d1665",
   "metadata": {},
   "outputs": [
    {
     "name": "stdout",
     "output_type": "stream",
     "text": [
      "None\n"
     ]
    }
   ],
   "source": [
    "print(checkpoint.get_modal_eval().nash_conv)"
   ]
  },
  {
   "cell_type": "code",
   "execution_count": 138,
   "id": "8318b5e6-1a2a-4ee6-8d75-db097ac299c8",
   "metadata": {},
   "outputs": [],
   "source": [
    "\n",
    "from open_spiel.python.algorithms.ubc_exploitability import nash_conv as ubc_nash_conv\n",
    "from open_spiel.python.algorithms.exploitability import nash_conv as open_spiel_nash_conv"
   ]
  },
  {
   "cell_type": "code",
   "execution_count": 140,
   "id": "70a6cfa0-4314-4a0b-a430-6a548cdbff5c",
   "metadata": {},
   "outputs": [
    {
     "name": "stderr",
     "output_type": "stream",
     "text": [
      "INFO:absl:Using game instance: python_clock_auction\n"
     ]
    },
    {
     "name": "stdout",
     "output_type": "stream",
     "text": [
      "jun26_jun26_1_high_speed-cfr_port_2outcome_lin_avg-102\n",
      "old: [0.51768830795681, 0.004469353007934274]\n"
     ]
    },
    {
     "name": "stderr",
     "output_type": "stream",
     "text": [
      "\n",
      "KeyboardInterrupt\n",
      "\n"
     ]
    }
   ],
   "source": [
    "for run_name in [\n",
    "    # 'jun26_jun26_1_high_speed-cfr_port_2outcome_lin_avg-101',\n",
    "    # 'jun26_jun26_1_high_speed-cfr_port_2external_plus-101',\n",
    "    # 'jun26_jun26_1_high_speed-cfr_port_2external_plus-100',\n",
    "    'jun26_jun26_1_high_speed-cfr_port_2outcome_lin_avg-102',\n",
    "    'jun26_jun26_1_high_speed-cfr_port_2outcome_lin_avg-100',\n",
    "    'jun26_jun26_1_high_speed-cfr_port_2outcome_lin_avg_plus-102',\n",
    "    'jun26_jun26_1_high_speed-cfr_port_2outcome_lin_avg_plus-100',\n",
    "    'jun26_jun26_1_high_speed-cfr_port_2outcome_lin_avg_plus-101',\n",
    "    'jun26_jun26_1_high_speed-cfr_port_2external_plus-102',\n",
    "]:\n",
    "    print(run_name)\n",
    "    run = EquilibriumSolverRun.objects.get(name=run_name)\n",
    "    game, checkpoint, policy = get_results(run)\n",
    "    print(f'old: {checkpoint.get_modal_eval().player_improvements}')\n",
    "    \n",
    "    env_and_policy = ppo_db_checkpoint_loader(checkpoint)\n",
    "    for player in range(game.num_players()):\n",
    "        env_and_policy.agents[player] = ModalAgentDecorator(env_and_policy.agents[player])\n",
    "    policy = env_and_policy.make_policy()\n",
    "\n",
    "    open_spiel_nc = open_spiel_nash_conv(game, policy, False)\n",
    "    print(f'new (OS) : {open_spiel_nc}')\n",
    "    ubc_nc = ubc_nash_conv(game, policy, False)\n",
    "    print(f'new (UBC): {ubc_nc}')\n",
    "    print()\n",
    "\n",
    "    break"
   ]
  },
  {
   "cell_type": "code",
   "execution_count": 142,
   "id": "fc6ff827-7194-4d19-b763-b6952af93db3",
   "metadata": {},
   "outputs": [
    {
     "name": "stdout",
     "output_type": "stream",
     "text": [
      "p0t0 r3 posted[[32.0, 19.0], [32.0, 30.4], [32.0, 48.64]] sub[[0, 0], [0, 2], [0, 2]] a38 agg[[0, 0], [2, 3], [2, 3]] proc[[0, 0], [0, 2], [0, 2]] 2 15.278399999999984\n",
      "p0t0 r2 posted[[32.0, 19.0], [32.0, 30.4]] sub[[0, 0], [0, 2]] a38 agg[[0, 0], [2, 3]] proc[[0, 0], [0, 2]] 1 23.88843717728055\n",
      "p0t0 r2 posted[[32.0, 19.0], [51.2, 19.0]] sub[[0, 0], [1, 0]] a32 agg[[0, 0], [3, 1]] proc[[0, 0], [1, 0]] 1 -7.356844395058921\n",
      "p0t0 r2 posted[[32.0, 19.0], [51.2, 19.0]] sub[[0, 0], [1, 1]] a51 agg[[0, 0], [3, 2]] proc[[0, 0], [1, 1]] 2 29.025338129496404\n",
      "p0t0 r3 posted[[32.0, 19.0], [51.2, 30.4], [51.2, 48.64]] sub[[0, 0], [1, 2], [0, 2]] a70 agg[[0, 0], [3, 3], [2, 3]] proc[[0, 0], [1, 2], [1, 2]] 2 -34.3879021582734\n",
      "p0t0 r3 posted[[32.0, 19.0], [51.2, 30.4], [51.2, 48.64]] sub[[0, 0], [1, 2], [0, 2]] a38 agg[[0, 0], [3, 3], [2, 3]] proc[[0, 0], [1, 2], [0, 2]] 2 15.276097841726603\n",
      "p0t0 r3 posted[[32.0, 19.0], [51.2, 30.4], [51.2, 48.64]] sub[[0, 0], [1, 2], [1, 2]] a70 agg[[0, 0], [3, 3], [2, 3]] proc[[0, 0], [1, 2], [1, 2]] 2 -34.39121393058905\n",
      "p0t0 r2 posted[[32.0, 19.0], [51.2, 30.4]] sub[[0, 0], [1, 2]] a70 agg[[0, 0], [3, 3]] proc[[0, 0], [1, 2]] 1 -0.9461311158059349\n",
      "p0t0 r2 posted[[32.0, 19.0], [51.2, 19.0]] sub[[0, 0], [2, 0]] a64 agg[[0, 0], [4, 1]] proc[[0, 0], [2, 0]] 2 -13.274000000000001\n",
      "p0t0 r2 posted[[32.0, 19.0], [51.2, 19.0]] sub[[0, 0], [2, 1]] a83 agg[[0, 0], [4, 2]] proc[[0, 0], [2, 1]] 2 4.189884892086333\n",
      "p0t0 r3 posted[[32.0, 19.0], [51.2, 30.4], [51.2, 48.64]] sub[[0, 0], [2, 2], [0, 1]] a83 agg[[0, 0], [4, 3], [2, 3]] proc[[0, 0], [2, 2], [2, 1]] 2 -93.13518956881069\n",
      "p0t0 r3 posted[[32.0, 19.0], [51.2, 30.4], [51.2, 48.64]] sub[[0, 0], [2, 2], [0, 2]] a38 agg[[0, 0], [4, 3], [2, 3]] proc[[0, 0], [2, 2], [0, 2]] 2 15.273795683453221\n",
      "p0t0 r3 posted[[32.0, 19.0], [51.2, 30.4], [51.2, 48.64]] sub[[0, 0], [2, 2], [0, 2]] a102 agg[[0, 0], [4, 3], [2, 4]] proc[[0, 0], [2, 2], [2, 2]] 2 -84.05420431654676\n",
      "p0t0 r3 posted[[32.0, 19.0], [51.2, 30.4], [51.2, 48.64]] sub[[0, 0], [2, 2], [1, 1]] a51 agg[[0, 0], [4, 3], [2, 3]] proc[[0, 0], [2, 2], [1, 1]] 2 -43.47450134112633\n",
      "p0t0 r3 posted[[32.0, 19.0], [51.2, 30.4], [51.2, 48.64]] sub[[0, 0], [2, 2], [1, 1]] a83 agg[[0, 0], [4, 3], [2, 3]] proc[[0, 0], [2, 2], [2, 1]] 2 -93.13850134112634\n",
      "p0t0 r3 posted[[32.0, 19.0], [51.2, 30.4], [51.2, 48.64]] sub[[0, 0], [2, 2], [1, 2]] a70 agg[[0, 0], [4, 3], [2, 4]] proc[[0, 0], [2, 2], [1, 2]] 2 -34.393516088862434\n",
      "p0t0 r3 posted[[32.0, 19.0], [51.2, 30.4], [51.2, 48.64]] sub[[0, 0], [2, 2], [1, 2]] a102 agg[[0, 0], [4, 3], [2, 4]] proc[[0, 0], [2, 2], [2, 2]] 2 -84.05751608886241\n",
      "p0t0 r3 posted[[32.0, 19.0], [51.2, 30.4], [51.2, 48.64]] sub[[0, 0], [2, 2], [2, 1]] a83 agg[[0, 0], [4, 3], [2, 3]] proc[[0, 0], [2, 2], [2, 1]] 2 -93.14181311344198\n",
      "p0t0 r3 posted[[32.0, 19.0], [51.2, 30.4], [51.2, 48.64]] sub[[0, 0], [2, 2], [2, 2]] a102 agg[[0, 0], [4, 3], [2, 4]] proc[[0, 0], [2, 2], [2, 2]] 2 -84.06082786117807\n",
      "p0t0 r2 posted[[32.0, 19.0], [51.2, 30.4]] sub[[0, 0], [2, 2]] a102 agg[[0, 0], [4, 3]] proc[[0, 0], [2, 2]] 2 -34.39020431654677\n",
      "p0t0 r1 posted[[32, 19]] sub[[0, 0]] a102 agg[[0, 0]] proc[[0, 0]] 1 34.94158273381295\n"
     ]
    },
    {
     "data": {
      "text/plain": [
       "34.94158273381295"
      ]
     },
     "execution_count": 142,
     "metadata": {},
     "output_type": "execute_result"
    }
   ],
   "source": [
    "state = game.new_initial_state().child(0).child(0)\n",
    "compute_br_value(state, 0, policy)"
   ]
  },
  {
   "cell_type": "code",
   "execution_count": 147,
   "id": "d67f4ed2-5ee5-4f55-9cf1-4f52b7f80590",
   "metadata": {},
   "outputs": [
    {
     "data": {
      "text/plain": [
       "array([ 34.94158273, 137.76140704])"
      ]
     },
     "execution_count": 147,
     "metadata": {},
     "output_type": "execute_result"
    }
   ],
   "source": [
    "state.child(1).child(7).returns()"
   ]
  },
  {
   "cell_type": "code",
   "execution_count": 192,
   "id": "52db40b9-f559-49d7-aff1-456b3e9dbffc",
   "metadata": {},
   "outputs": [
    {
     "name": "stderr",
     "output_type": "stream",
     "text": [
      "[autoreload of open_spiel.python.algorithms.best_response failed: Traceback (most recent call last):\n",
      "  File \"/global/scratch/newmanne/anaconda3NEW/envs/py38/lib/python3.8/site-packages/IPython/extensions/autoreload.py\", line 273, in check\n",
      "    superreload(m, reload, self.old_objects)\n",
      "  File \"/global/scratch/newmanne/anaconda3NEW/envs/py38/lib/python3.8/site-packages/IPython/extensions/autoreload.py\", line 496, in superreload\n",
      "    update_generic(old_obj, new_obj)\n",
      "  File \"/global/scratch/newmanne/anaconda3NEW/envs/py38/lib/python3.8/site-packages/IPython/extensions/autoreload.py\", line 393, in update_generic\n",
      "    update(a, b)\n",
      "  File \"/global/scratch/newmanne/anaconda3NEW/envs/py38/lib/python3.8/site-packages/IPython/extensions/autoreload.py\", line 345, in update_class\n",
      "    if update_generic(old_obj, new_obj):\n",
      "  File \"/global/scratch/newmanne/anaconda3NEW/envs/py38/lib/python3.8/site-packages/IPython/extensions/autoreload.py\", line 393, in update_generic\n",
      "    update(a, b)\n",
      "  File \"/global/scratch/newmanne/anaconda3NEW/envs/py38/lib/python3.8/site-packages/IPython/extensions/autoreload.py\", line 305, in update_function\n",
      "    setattr(old, name, getattr(new, name))\n",
      "ValueError: wrap() requires a code object with 3 free vars, not 0\n",
      "]\n"
     ]
    }
   ],
   "source": [
    "from open_spiel.python.algorithms.exploitability import best_response\n",
    "from open_spiel.python.algorithms.best_response import BestResponsePolicy"
   ]
  },
  {
   "cell_type": "code",
   "execution_count": 193,
   "id": "525dab2a-f5e8-4f6b-8beb-5eb400845a64",
   "metadata": {},
   "outputs": [],
   "source": [
    "br = BestResponsePolicy(game, 0, policy)"
   ]
  },
  {
   "cell_type": "code",
   "execution_count": 194,
   "id": "37db0bd5-6c1e-4d50-b914-0a2b07919092",
   "metadata": {},
   "outputs": [
    {
     "data": {
      "text/plain": [
       "23.88843717728055"
      ]
     },
     "execution_count": 194,
     "metadata": {},
     "output_type": "execute_result"
    }
   ],
   "source": [
    "br.value(state)"
   ]
  },
  {
   "cell_type": "code",
   "execution_count": 195,
   "id": "33f2b41e-87a2-4bcf-8aef-4ad4bf5237b6",
   "metadata": {},
   "outputs": [
    {
     "data": {
      "text/plain": [
       "2"
      ]
     },
     "execution_count": 195,
     "metadata": {},
     "output_type": "execute_result"
    }
   ],
   "source": [
    "br.best_response_action(state.information_state_string())"
   ]
  },
  {
   "cell_type": "code",
   "execution_count": 204,
   "id": "3e03e14b-5398-4289-a899-7e05e0b56ef2",
   "metadata": {},
   "outputs": [],
   "source": [
    "infoset = br.infosets[state.information_state_string()]"
   ]
  },
  {
   "cell_type": "code",
   "execution_count": 213,
   "id": "0490b4b7-db62-43f5-943f-add13bac4bbb",
   "metadata": {},
   "outputs": [
    {
     "data": {
      "text/plain": [
       "24.167109294320138"
      ]
     },
     "execution_count": 213,
     "metadata": {},
     "output_type": "execute_result"
    }
   ],
   "source": [
    "sum([cf_p*br.q_value(s, 2) for s, cf_p in infoset]) "
   ]
  },
  {
   "cell_type": "code",
   "execution_count": null,
   "id": "d62c045b-5f0b-4ee9-9023-aac67d2c5cd2",
   "metadata": {},
   "outputs": [],
   "source": []
  },
  {
   "cell_type": "code",
   "execution_count": 196,
   "id": "de72c0f8-e309-4057-9fa8-420ad53361e8",
   "metadata": {},
   "outputs": [
    {
     "data": {
      "text/plain": [
       "23.88843717728055"
      ]
     },
     "execution_count": 196,
     "metadata": {},
     "output_type": "execute_result"
    }
   ],
   "source": [
    "br.q_value(state, 2)"
   ]
  },
  {
   "cell_type": "code",
   "execution_count": 197,
   "id": "40f36aa8-7568-4d00-b9d8-103ed36e4eed",
   "metadata": {},
   "outputs": [
    {
     "data": {
      "text/plain": [
       "34.94158273381295"
      ]
     },
     "execution_count": 197,
     "metadata": {},
     "output_type": "execute_result"
    }
   ],
   "source": [
    "br.q_value(state, 1)"
   ]
  },
  {
   "cell_type": "code",
   "execution_count": 191,
   "id": "f9577c8a-3ebd-4062-9256-adb2dcb6cc08",
   "metadata": {},
   "outputs": [
    {
     "data": {
      "text/plain": [
       "<bound method _memoize_method.<locals>.memoizer.<locals>.wrap of <open_spiel.python.algorithms.best_response.BestResponsePolicy object at 0x7f28c9eaed30>>"
      ]
     },
     "execution_count": 191,
     "metadata": {},
     "output_type": "execute_result"
    }
   ],
   "source": [
    "br.value"
   ]
  },
  {
   "cell_type": "code",
   "execution_count": 149,
   "id": "020801d1-5589-43bb-b05b-e948a41fc376",
   "metadata": {},
   "outputs": [
    {
     "name": "stderr",
     "output_type": "stream",
     "text": [
      "\n",
      "KeyboardInterrupt\n",
      "\n"
     ]
    }
   ],
   "source": [
    "br = best_response(game, policy, 0)"
   ]
  },
  {
   "cell_type": "code",
   "execution_count": null,
   "id": "c24b9b99-6b9f-41c2-a2db-d163ce1aa02f",
   "metadata": {},
   "outputs": [],
   "source": [
    "br['best_response_state_value']['0, 0']"
   ]
  },
  {
   "cell_type": "code",
   "execution_count": 134,
   "id": "d3ff1587-4720-4c17-9539-619e984e2fb9",
   "metadata": {},
   "outputs": [
    {
     "data": {
      "text/plain": [
       "dict_keys(['best_response_action', 'best_response_state_value', 'best_response_value', 'info_sets', 'nash_conv', 'on_policy_value', 'on_policy_values'])"
      ]
     },
     "execution_count": 134,
     "metadata": {},
     "output_type": "execute_result"
    }
   ],
   "source": [
    "br.keys()"
   ]
  },
  {
   "cell_type": "code",
   "execution_count": 136,
   "id": "e7b9f1e2-2d05-4102-bb70-d3fe6dbab615",
   "metadata": {},
   "outputs": [
    {
     "data": {
      "text/plain": [
       "2"
      ]
     },
     "execution_count": 136,
     "metadata": {},
     "output_type": "execute_result"
    }
   ],
   "source": [
    "br['best_response_action'][state.information_state_string()]"
   ]
  }
 ],
 "metadata": {
  "kernelspec": {
   "display_name": "Django Shell-Plus",
   "language": "python",
   "name": "django_extensions"
  },
  "language_info": {
   "codemirror_mode": {
    "name": "ipython",
    "version": 3
   },
   "file_extension": ".py",
   "mimetype": "text/x-python",
   "name": "python",
   "nbconvert_exporter": "python",
   "pygments_lexer": "ipython3",
   "version": "3.8.2"
  }
 },
 "nbformat": 4,
 "nbformat_minor": 5
}
