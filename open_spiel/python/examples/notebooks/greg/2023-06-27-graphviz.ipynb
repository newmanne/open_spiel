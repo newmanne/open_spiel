{
 "cells": [
  {
   "cell_type": "code",
   "execution_count": 1,
   "id": "ad35a9b2-993a-4313-8af9-67326123aac3",
   "metadata": {},
   "outputs": [],
   "source": [
    "%load_ext autoreload\n",
    "%autoreload 2\n",
    "%matplotlib inline\n",
    "\n",
    "import pyspiel\n",
    "import open_spiel.python.examples.ubc_utils\n",
    "from open_spiel.python.visualizations import ubc_treeviz\n",
    "from open_spiel.python.examples.ubc_utils import *\n",
    "from auctions.webutils import *\n",
    "from absl import logging\n",
    "logging.set_verbosity(logging.INFO)\n",
    "import os\n",
    "os.environ[\"DJANGO_ALLOW_ASYNC_UNSAFE\"] = \"true\"\n",
    "from open_spiel.python.examples.ubc_cma import *\n",
    "from open_spiel.python.examples.ubc_decorators import TakeSingleActionDecorator, TremblingAgentDecorator, ModalAgentDecorator\n"
   ]
  },
  {
   "cell_type": "code",
   "execution_count": 2,
   "id": "c63d1098-dc36-49b8-a90c-c539b72c17a7",
   "metadata": {},
   "outputs": [
    {
     "name": "stdout",
     "output_type": "stream",
     "text": [
      "Found 223 runs\n"
     ]
    }
   ],
   "source": [
    "# load runs from experiments\n",
    "experiments = []\n",
    "experiments += ['jun27_port']\n",
    "runs = []\n",
    "for experiment in experiments:\n",
    "    runs += Experiment.objects.get(name=experiment).equilibriumsolverrun_set.all()\n",
    "print(f\"Found {len(runs)} runs\")"
   ]
  },
  {
   "cell_type": "code",
   "execution_count": 5,
   "id": "a82d1000-0125-4915-b006-35ce56c27583",
   "metadata": {},
   "outputs": [],
   "source": [
    "def draw_game_tree(game, policy, fname, figure_dir='figures/2023-06-27-graphviz'):\n",
    "    node_policy_decorator, edge_policy_decorator = ubc_treeviz.make_policy_decorators(policy)\n",
    "    gametree = ubc_treeviz.GameTree(\n",
    "        game,\n",
    "        node_decorator=node_policy_decorator,\n",
    "        edge_decorator=edge_policy_decorator,\n",
    "        group_infosets=False,\n",
    "        group_terminal=False,\n",
    "        group_pubsets=False, \n",
    "        target_pubset='*',\n",
    "        depth_limit=20,\n",
    "        state_prob_limit=0.001,\n",
    "        action_prob_limit=0.01, \n",
    "        policy=policy\n",
    "    )\n",
    "    \n",
    "    outfile = os.path.join(figure_dir, fname)\n",
    "    gametree.draw(outfile, prog='dot')\n",
    "    print(\"Game tree saved to file\", outfile)\n",
    "    "
   ]
  },
  {
   "cell_type": "code",
   "execution_count": 6,
   "id": "d89fa82d-bfcf-457e-a20b-0c7d4258f0d9",
   "metadata": {},
   "outputs": [
    {
     "name": "stderr",
     "output_type": "stream",
     "text": [
      "  4%|██████▋                                                                                                                                                               | 2/50 [00:01<00:24,  1.97it/s]"
     ]
    },
    {
     "name": "stdout",
     "output_type": "stream",
     "text": [
      "Game tree saved to file figures/2023-06-28-graphviz/jun26_jun26_4_tie_break-cfr_port_2external_plus-101_(jun28_port)_Iteration_994-jun26_jun26_4_tie_break.json.pdf\n",
      "Game tree saved to file figures/2023-06-28-graphviz/jun26_jun26_0_base-cfr_port_2outcome_lin_avg_plus-100_(jun28_port)_Iteration_3237895-jun26_jun26_0_base.json.pdf\n"
     ]
    },
    {
     "name": "stderr",
     "output_type": "stream",
     "text": [
      "  6%|█████████▉                                                                                                                                                            | 3/50 [00:01<00:24,  1.89it/s]"
     ]
    },
    {
     "name": "stdout",
     "output_type": "stream",
     "text": [
      "Game tree saved to file figures/2023-06-28-graphviz/jun26_jun26_1_grace_period-cfr_port_2outcome_lin_avg-100_(jun28_port)_Iteration_2200001-jun26_jun26_1_grace_period.json.pdf\n"
     ]
    },
    {
     "name": "stderr",
     "output_type": "stream",
     "text": [
      "  8%|█████████████▎                                                                                                                                                        | 4/50 [00:03<00:46,  1.00s/it]"
     ]
    },
    {
     "name": "stdout",
     "output_type": "stream",
     "text": [
      "Game tree saved to file figures/2023-06-28-graphviz/jun26_jun26_1_risk_averse_tie_break-cfr_port_2external_plus-102_(jun28_port)_Iteration_1021-jun26_jun26_1_risk_averse_tie_break.json.pdf\n"
     ]
    },
    {
     "name": "stderr",
     "output_type": "stream",
     "text": [
      " 12%|███████████████████▉                                                                                                                                                  | 6/50 [00:04<00:27,  1.62it/s]"
     ]
    },
    {
     "name": "stdout",
     "output_type": "stream",
     "text": [
      "Game tree saved to file figures/2023-06-28-graphviz/jun26_jun26_1_grace_period-cfr_port_2outcome_lin_avg_plus-102_(jun28_port)_Iteration_2420001-jun26_jun26_1_grace_period.json.pdf\n",
      "Game tree saved to file figures/2023-06-28-graphviz/jun26_jun26_4_tie_break-cfr_port_2outcome_lin_avg-101_(jun28_port)_Iteration_3182152-jun26_jun26_4_tie_break.json.pdf\n"
     ]
    },
    {
     "name": "stderr",
     "output_type": "stream",
     "text": [
      " 16%|██████████████████████████▌                                                                                                                                           | 8/50 [00:04<00:14,  2.93it/s]"
     ]
    },
    {
     "name": "stdout",
     "output_type": "stream",
     "text": [
      "Game tree saved to file figures/2023-06-28-graphviz/jun26_jun26_2_base-cfr_port_2outcome_lin_avg-101_(jun28_port)_Iteration_2951927-jun26_jun26_2_base.json.pdf\n",
      "Game tree saved to file figures/2023-06-28-graphviz/jun26_jun26_4_tie_break-cfr_port_2outcome_lin_avg-102_(jun28_port)_Iteration_3238266-jun26_jun26_4_tie_break.json.pdf\n"
     ]
    },
    {
     "name": "stderr",
     "output_type": "stream",
     "text": [
      " 18%|█████████████████████████████▉                                                                                                                                        | 9/50 [00:04<00:11,  3.70it/s]"
     ]
    },
    {
     "name": "stdout",
     "output_type": "stream",
     "text": [
      "Game tree saved to file figures/2023-06-28-graphviz/jun26_jun26_2_base-cfr_port_2outcome_lin_avg-100_(jun28_port)_Iteration_3078647-jun26_jun26_2_base.json.pdf\n"
     ]
    },
    {
     "name": "stderr",
     "output_type": "stream",
     "text": [
      " 20%|█████████████████████████████████                                                                                                                                    | 10/50 [00:07<00:50,  1.25s/it]"
     ]
    },
    {
     "name": "stdout",
     "output_type": "stream",
     "text": [
      "Game tree saved to file figures/2023-06-28-graphviz/jun26_jun26_4_grace_period-cfr_port_2external_plus-100_(jun28_port)_Iteration_458-jun26_jun26_4_grace_period.json.pdf\n"
     ]
    },
    {
     "name": "stderr",
     "output_type": "stream",
     "text": [
      " 22%|████████████████████████████████████▎                                                                                                                                | 11/50 [00:08<00:37,  1.03it/s]"
     ]
    },
    {
     "name": "stdout",
     "output_type": "stream",
     "text": [
      "Game tree saved to file figures/2023-06-28-graphviz/jun26_jun26_3_tie_break-cfr_port_2outcome_lin_avg_plus-102_(jun28_port)_Iteration_2591644-jun26_jun26_3_tie_break.json.pdf\n"
     ]
    },
    {
     "name": "stderr",
     "output_type": "stream",
     "text": [
      " 24%|███████████████████████████████████████▌                                                                                                                             | 12/50 [00:12<01:09,  1.82s/it]"
     ]
    },
    {
     "name": "stdout",
     "output_type": "stream",
     "text": [
      "Game tree saved to file figures/2023-06-28-graphviz/jun26_jun26_4_grace_period-cfr_port_2external_plus-101_(jun28_port)_Iteration_427-jun26_jun26_4_grace_period.json.pdf\n"
     ]
    },
    {
     "name": "stderr",
     "output_type": "stream",
     "text": [
      " 28%|██████████████████████████████████████████████▏                                                                                                                      | 14/50 [00:12<00:36,  1.00s/it]"
     ]
    },
    {
     "name": "stdout",
     "output_type": "stream",
     "text": [
      "Game tree saved to file figures/2023-06-28-graphviz/jun26_jun26_0_grace_period-cfr_port_2outcome_lin_avg_plus-101_(jun28_port)_Iteration_3140001-jun26_jun26_0_grace_period.json.pdf\n",
      "Game tree saved to file figures/2023-06-28-graphviz/jun26_jun26_3_tie_break-cfr_port_2outcome_lin_avg_plus-101_(jun28_port)_Iteration_2597110-jun26_jun26_3_tie_break.json.pdf\n"
     ]
    },
    {
     "name": "stderr",
     "output_type": "stream",
     "text": [
      " 30%|█████████████████████████████████████████████████▌                                                                                                                   | 15/50 [00:12<00:27,  1.28it/s]"
     ]
    },
    {
     "name": "stdout",
     "output_type": "stream",
     "text": [
      "Game tree saved to file figures/2023-06-28-graphviz/jun26_jun26_1_grace_period-cfr_port_2outcome_lin_avg-101_(jun28_port)_Iteration_2818010-jun26_jun26_1_grace_period.json.pdf\n"
     ]
    },
    {
     "name": "stderr",
     "output_type": "stream",
     "text": [
      " 34%|████████████████████████████████████████████████████████                                                                                                             | 17/50 [00:13<00:15,  2.12it/s]"
     ]
    },
    {
     "name": "stdout",
     "output_type": "stream",
     "text": [
      "Game tree saved to file figures/2023-06-28-graphviz/jun26_jun26_0_grace_period-cfr_port_2outcome_lin_avg_plus-100_(jun28_port)_Iteration_3045001-jun26_jun26_0_grace_period.json.pdf\n",
      "Game tree saved to file figures/2023-06-28-graphviz/jun26_jun26_2_risk_averse-cfr_port_2outcome_lin_avg-102_(jun28_port)_Iteration_3284402-jun26_jun26_2_risk_averse.json.pdf\n"
     ]
    },
    {
     "name": "stderr",
     "output_type": "stream",
     "text": [
      " 36%|███████████████████████████████████████████████████████████▍                                                                                                         | 18/50 [00:13<00:13,  2.39it/s]"
     ]
    },
    {
     "name": "stdout",
     "output_type": "stream",
     "text": [
      "Game tree saved to file figures/2023-06-28-graphviz/jun26_jun26_1_grace_period-cfr_port_2outcome_lin_avg-102_(jun28_port)_Iteration_2582513-jun26_jun26_1_grace_period.json.pdf\n"
     ]
    },
    {
     "name": "stderr",
     "output_type": "stream",
     "text": [
      " 38%|██████████████████████████████████████████████████████████████▋                                                                                                      | 19/50 [00:13<00:11,  2.79it/s]"
     ]
    },
    {
     "name": "stdout",
     "output_type": "stream",
     "text": [
      "Game tree saved to file figures/2023-06-28-graphviz/jun26_jun26_2_grace_period-cfr_port_2outcome_lin_avg_plus-100_(jun28_port)_Iteration_2399564-jun26_jun26_2_grace_period.json.pdf\n"
     ]
    },
    {
     "name": "stderr",
     "output_type": "stream",
     "text": [
      " 42%|█████████████████████████████████████████████████████████████████████▎                                                                                               | 21/50 [00:15<00:13,  2.21it/s]"
     ]
    },
    {
     "name": "stdout",
     "output_type": "stream",
     "text": [
      "Game tree saved to file figures/2023-06-28-graphviz/jun26_jun26_2_risk_averse-cfr_port_2external_plus-100_(jun28_port)_Iteration_305-jun26_jun26_2_risk_averse.json.pdf\n",
      "Game tree saved to file figures/2023-06-28-graphviz/jun26_jun26_3_risk_averse_tie_break-cfr_port_2outcome_lin_avg-102_(jun28_port)_Iteration_3545100-jun26_jun26_3_risk_averse_tie_break.json.pdf\n"
     ]
    },
    {
     "name": "stderr",
     "output_type": "stream",
     "text": [
      " 44%|████████████████████████████████████████████████████████████████████████▌                                                                                            | 22/50 [00:16<00:24,  1.16it/s]"
     ]
    },
    {
     "name": "stdout",
     "output_type": "stream",
     "text": [
      "Game tree saved to file figures/2023-06-28-graphviz/jun26_jun26_0_grace_period-cfr_port_2external_plus-102_(jun28_port)_Iteration_1985-jun26_jun26_0_grace_period.json.pdf\n"
     ]
    },
    {
     "name": "stderr",
     "output_type": "stream",
     "text": [
      " 46%|███████████████████████████████████████████████████████████████████████████▉                                                                                         | 23/50 [00:17<00:18,  1.48it/s]"
     ]
    },
    {
     "name": "stdout",
     "output_type": "stream",
     "text": [
      "Game tree saved to file figures/2023-06-28-graphviz/jun26_jun26_4_tie_break-cfr_port_2outcome_lin_avg_plus-100_(jun28_port)_Iteration_2378637-jun26_jun26_4_tie_break.json.pdf\n"
     ]
    },
    {
     "name": "stderr",
     "output_type": "stream",
     "text": [
      " 48%|███████████████████████████████████████████████████████████████████████████████▏                                                                                     | 24/50 [00:18<00:22,  1.17it/s]"
     ]
    },
    {
     "name": "stdout",
     "output_type": "stream",
     "text": [
      "Game tree saved to file figures/2023-06-28-graphviz/jun26_jun26_3_risk_averse_tie_break-cfr_port_2external_plus-100_(jun28_port)_Iteration_3879-jun26_jun26_3_risk_averse_tie_break.json.pdf\n"
     ]
    },
    {
     "name": "stderr",
     "output_type": "stream",
     "text": [
      " 50%|██████████████████████████████████████████████████████████████████████████████████▌                                                                                  | 25/50 [00:21<00:35,  1.44s/it]"
     ]
    },
    {
     "name": "stdout",
     "output_type": "stream",
     "text": [
      "Game tree saved to file figures/2023-06-28-graphviz/jun26_jun26_2_grace_period-cfr_port_2external_plus-101_(jun28_port)_Iteration_261-jun26_jun26_2_grace_period.json.pdf\n"
     ]
    },
    {
     "name": "stderr",
     "output_type": "stream",
     "text": [
      " 52%|█████████████████████████████████████████████████████████████████████████████████████▊                                                                               | 26/50 [00:21<00:26,  1.09s/it]"
     ]
    },
    {
     "name": "stdout",
     "output_type": "stream",
     "text": [
      "Game tree saved to file figures/2023-06-28-graphviz/jun26_jun26_4_tie_break-cfr_port_2outcome_lin_avg_plus-101_(jun28_port)_Iteration_2382930-jun26_jun26_4_tie_break.json.pdf\n",
      "Game tree saved to file figures/2023-06-28-graphviz/jun26_jun26_0_risk_averse_tie_break-cfr_port_2outcome_lin_avg_plus-102_(jun28_port)_Iteration_3134819-jun26_jun26_0_risk_averse_tie_break.json.pdf\n"
     ]
    },
    {
     "name": "stderr",
     "output_type": "stream",
     "text": [
      " 56%|████████████████████████████████████████████████████████████████████████████████████████████▍                                                                        | 28/50 [00:24<00:26,  1.21s/it]"
     ]
    },
    {
     "name": "stdout",
     "output_type": "stream",
     "text": [
      "Game tree saved to file figures/2023-06-28-graphviz/jun26_jun26_2_grace_period-cfr_port_2external_plus-102_(jun28_port)_Iteration_201-jun26_jun26_2_grace_period.json.pdf\n"
     ]
    },
    {
     "name": "stderr",
     "output_type": "stream",
     "text": [
      " 62%|██████████████████████████████████████████████████████████████████████████████████████████████████████▎                                                              | 31/50 [00:24<00:11,  1.63it/s]"
     ]
    },
    {
     "name": "stdout",
     "output_type": "stream",
     "text": [
      "Game tree saved to file figures/2023-06-28-graphviz/jun26_jun26_2_tie_break-cfr_port_2outcome_lin_avg-100_(jun28_port)_Iteration_3204510-jun26_jun26_2_tie_break.json.pdf\n",
      "Game tree saved to file figures/2023-06-28-graphviz/jun26_jun26_0_risk_averse_tie_break-cfr_port_2outcome_lin_avg_plus-101_(jun28_port)_Iteration_3204577-jun26_jun26_0_risk_averse_tie_break.json.pdf\n",
      "Game tree saved to file figures/2023-06-28-graphviz/jun26_jun26_4_base-cfr_port_2outcome_lin_avg-102_(jun28_port)_Iteration_3335001-jun26_jun26_4_base.json.pdf\n"
     ]
    },
    {
     "name": "stderr",
     "output_type": "stream",
     "text": [
      " 64%|█████████████████████████████████████████████████████████████████████████████████████████████████████████▌                                                           | 32/50 [00:24<00:09,  1.99it/s]"
     ]
    },
    {
     "name": "stdout",
     "output_type": "stream",
     "text": [
      "Game tree saved to file figures/2023-06-28-graphviz/jun26_jun26_2_tie_break-cfr_port_2outcome_lin_avg_plus-102_(jun28_port)_Iteration_2509333-jun26_jun26_2_tie_break.json.pdf\n"
     ]
    },
    {
     "name": "stderr",
     "output_type": "stream",
     "text": [
      " 66%|████████████████████████████████████████████████████████████████████████████████████████████████████████████▉                                                        | 33/50 [00:25<00:07,  2.14it/s]"
     ]
    },
    {
     "name": "stdout",
     "output_type": "stream",
     "text": [
      "Game tree saved to file figures/2023-06-28-graphviz/jun26_jun26_0_base-cfr_port_2external_plus-102_(jun28_port)_Iteration_25005-jun26_jun26_0_base.json.pdf\n"
     ]
    },
    {
     "name": "stderr",
     "output_type": "stream",
     "text": [
      " 68%|████████████████████████████████████████████████████████████████████████████████████████████████████████████████▏                                                    | 34/50 [00:25<00:06,  2.38it/s]"
     ]
    },
    {
     "name": "stdout",
     "output_type": "stream",
     "text": [
      "Game tree saved to file figures/2023-06-28-graphviz/jun26_jun26_4_base-cfr_port_2outcome_lin_avg-101_(jun28_port)_Iteration_2918912-jun26_jun26_4_base.json.pdf\n",
      "Game tree saved to file figures/2023-06-28-graphviz/jun26_jun26_0_risk_averse_tie_break-cfr_port_2outcome_lin_avg_plus-100_(jun28_port)_Iteration_3337785-jun26_jun26_0_risk_averse_tie_break.json.pdf\n"
     ]
    },
    {
     "name": "stderr",
     "output_type": "stream",
     "text": [
      " 74%|██████████████████████████████████████████████████████████████████████████████████████████████████████████████████████████                                           | 37/50 [00:25<00:03,  3.44it/s]"
     ]
    },
    {
     "name": "stdout",
     "output_type": "stream",
     "text": [
      "Game tree saved to file figures/2023-06-28-graphviz/jun26_jun26_0_base-cfr_port_2external_plus-101_(jun28_port)_Iteration_28915-jun26_jun26_0_base.json.pdf\n",
      "Game tree saved to file figures/2023-06-28-graphviz/jun26_jun26_3_risk_averse_tie_break-cfr_port_2outcome_lin_avg_plus-101_(jun28_port)_Iteration_2688520-jun26_jun26_3_risk_averse_tie_break.json.pdf\n"
     ]
    },
    {
     "name": "stderr",
     "output_type": "stream",
     "text": [
      " 76%|█████████████████████████████████████████████████████████████████████████████████████████████████████████████████████████████▍                                       | 38/50 [00:26<00:04,  2.84it/s]"
     ]
    },
    {
     "name": "stdout",
     "output_type": "stream",
     "text": [
      "Game tree saved to file figures/2023-06-28-graphviz/jun26_jun26_0_tie_break-cfr_port_2external_plus-102_(jun28_port)_Iteration_24672-jun26_jun26_0_tie_break.json.pdf\n"
     ]
    },
    {
     "name": "stderr",
     "output_type": "stream",
     "text": [
      " 80%|████████████████████████████████████████████████████████████████████████████████████████████████████████████████████████████████████                                 | 40/50 [00:28<00:05,  1.89it/s]"
     ]
    },
    {
     "name": "stdout",
     "output_type": "stream",
     "text": [
      "Game tree saved to file figures/2023-06-28-graphviz/jun26_jun26_3_risk_averse-cfr_port_2external_plus-100_(jun28_port)_Iteration_3964-jun26_jun26_3_risk_averse.json.pdf\n",
      "Game tree saved to file figures/2023-06-28-graphviz/jun26_jun26_3_risk_averse_tie_break-cfr_port_2outcome_lin_avg_plus-102_(jun28_port)_Iteration_2693199-jun26_jun26_3_risk_averse_tie_break.json.pdf\n"
     ]
    },
    {
     "name": "stderr",
     "output_type": "stream",
     "text": [
      " 84%|██████████████████████████████████████████████████████████████████████████████████████████████████████████████████████████████████████████▌                          | 42/50 [00:29<00:04,  1.83it/s]"
     ]
    },
    {
     "name": "stdout",
     "output_type": "stream",
     "text": [
      "Game tree saved to file figures/2023-06-28-graphviz/jun26_jun26_2_tie_break-cfr_port_2external_plus-100_(jun28_port)_Iteration_459-jun26_jun26_2_tie_break.json.pdf\n",
      "Game tree saved to file figures/2023-06-28-graphviz/jun26_jun26_3_risk_averse-cfr_port_2outcome_lin_avg-102_(jun28_port)_Iteration_3306434-jun26_jun26_3_risk_averse.json.pdf\n"
     ]
    },
    {
     "name": "stderr",
     "output_type": "stream",
     "text": [
      " 86%|█████████████████████████████████████████████████████████████████████████████████████████████████████████████████████████████████████████████▉                       | 43/50 [00:29<00:02,  2.39it/s]"
     ]
    },
    {
     "name": "stdout",
     "output_type": "stream",
     "text": [
      "Game tree saved to file figures/2023-06-28-graphviz/jun26_jun26_3_risk_averse_tie_break-cfr_port_2outcome_lin_avg-100_(jun28_port)_Iteration_3376678-jun26_jun26_3_risk_averse_tie_break.json.pdf\n"
     ]
    },
    {
     "name": "stderr",
     "output_type": "stream",
     "text": [
      " 88%|█████████████████████████████████████████████████████████████████████████████████████████████████████████████████████████████████████████████████▏                   | 44/50 [00:30<00:04,  1.47it/s]"
     ]
    },
    {
     "name": "stdout",
     "output_type": "stream",
     "text": [
      "Game tree saved to file figures/2023-06-28-graphviz/jun26_jun26_2_tie_break-cfr_port_2external_plus-101_(jun28_port)_Iteration_577-jun26_jun26_2_tie_break.json.pdf\n"
     ]
    },
    {
     "name": "stderr",
     "output_type": "stream",
     "text": [
      " 90%|████████████████████████████████████████████████████████████████████████████████████████████████████████████████████████████████████████████████████▌                | 45/50 [00:35<00:09,  1.90s/it]"
     ]
    },
    {
     "name": "stdout",
     "output_type": "stream",
     "text": [
      "Game tree saved to file figures/2023-06-28-graphviz/jun26_jun26_1_grace_period-cfr_port_2external_plus-101_(jun28_port)_Iteration_65-jun26_jun26_1_grace_period.json.pdf\n"
     ]
    },
    {
     "name": "stderr",
     "output_type": "stream",
     "text": [
      " 92%|███████████████████████████████████████████████████████████████████████████████████████████████████████████████████████████████████████████████████████▊             | 46/50 [00:36<00:05,  1.46s/it]"
     ]
    },
    {
     "name": "stdout",
     "output_type": "stream",
     "text": [
      "Game tree saved to file figures/2023-06-28-graphviz/jun26_jun26_3_risk_averse_tie_break-cfr_port_2outcome_lin_avg-101_(jun28_port)_Iteration_3606171-jun26_jun26_3_risk_averse_tie_break.json.pdf\n"
     ]
    },
    {
     "name": "stderr",
     "output_type": "stream",
     "text": [
      " 94%|███████████████████████████████████████████████████████████████████████████████████████████████████████████████████████████████████████████████████████████          | 47/50 [00:36<00:03,  1.14s/it]"
     ]
    },
    {
     "name": "stdout",
     "output_type": "stream",
     "text": [
      "Game tree saved to file figures/2023-06-28-graphviz/jun26_jun26_3_grace_period-cfr_port_2outcome_lin_avg_plus-102_(jun28_port)_Iteration_2280001-jun26_jun26_3_grace_period.json.pdf\n"
     ]
    },
    {
     "name": "stderr",
     "output_type": "stream",
     "text": [
      " 96%|██████████████████████████████████████████████████████████████████████████████████████████████████████████████████████████████████████████████████████████████▍      | 48/50 [00:41<00:04,  2.16s/it]"
     ]
    },
    {
     "name": "stdout",
     "output_type": "stream",
     "text": [
      "Game tree saved to file figures/2023-06-28-graphviz/jun26_jun26_1_grace_period-cfr_port_2external_plus-100_(jun28_port)_Iteration_86-jun26_jun26_1_grace_period.json.pdf\n"
     ]
    },
    {
     "name": "stderr",
     "output_type": "stream",
     "text": [
      "100%|█████████████████████████████████████████████████████████████████████████████████████████████████████████████████████████████████████████████████████████████████████| 50/50 [00:41<00:00,  1.20it/s]"
     ]
    },
    {
     "name": "stdout",
     "output_type": "stream",
     "text": [
      "Game tree saved to file figures/2023-06-28-graphviz/jun26_jun26_3_base-cfr_port_2outcome_lin_avg-101_(jun28_port)_Iteration_3601815-jun26_jun26_3_base.json.pdf\n",
      "Game tree saved to file figures/2023-06-28-graphviz/jun26_jun26_3_grace_period-cfr_port_2outcome_lin_avg-100_(jun28_port)_Iteration_2805053-jun26_jun26_3_grace_period.json.pdf\n"
     ]
    },
    {
     "name": "stderr",
     "output_type": "stream",
     "text": [
      "\n"
     ]
    }
   ],
   "source": [
    "for run in tqdm(runs[:50]):\n",
    "    game, checkpoint, _ = get_results(run, load_policy=False)\n",
    "    env_and_policy = ppo_db_checkpoint_loader(checkpoint)\n",
    "    for player in range(game.num_players()):\n",
    "        env_and_policy.agents[player] = ModalAgentDecorator(env_and_policy.agents[player])\n",
    "    policy = env_and_policy.make_policy()\n",
    "\n",
    "    draw_game_tree(\n",
    "        game, \n",
    "        policy, \n",
    "        fname=f'{checkpoint}-{checkpoint.game.name}.pdf'.replace('/', '_').replace(' ', '_'),\n",
    "        figure_dir='figures/2023-06-28-graphviz'\n",
    "    )\n",
    "    "
   ]
  },
  {
   "cell_type": "code",
   "execution_count": 4,
   "id": "979c0a16-5b4b-44d7-98b2-be1164400353",
   "metadata": {},
   "outputs": [],
   "source": [
    "def find_run_by_graphviz_name(target_fname):\n",
    "    for run in tqdm(runs[:50]):\n",
    "        game, checkpoint, _ = get_results(run, load_policy=False)\n",
    "        fname = f'{checkpoint}-{checkpoint.game.name}.pdf'.replace('/', '_').replace(' ', '_')\n",
    "\n",
    "        if fname == target_fname:\n",
    "            break\n",
    "    return game, checkpoint"
   ]
  },
  {
   "cell_type": "code",
   "execution_count": 5,
   "id": "e1efe848-d23d-434e-9659-e8a99d99309e",
   "metadata": {},
   "outputs": [
    {
     "name": "stderr",
     "output_type": "stream",
     "text": [
      " 18%|█████████████████████████████▉                                                                                                                                        | 9/50 [00:00<00:00, 87.95it/s]\n"
     ]
    }
   ],
   "source": [
    "game, checkpoint = find_run_by_graphviz_name(\n",
    "    'jun26_jun26_2_tie_break-cfr_port_2outcome_lin_avg_plus-101_(jun27_port)_Iteration_27119705-jun26_jun26_2_tie_break.json.pdf'\n",
    ")\n",
    "\n",
    "        \n",
    "# env_and_policy = ppo_db_checkpoint_loader(checkpoint, env_params=EnvParams(history_prefix=[0, 1, 7, 3, 5], include_state=True))\n",
    "# env_and_policy = ppo_db_checkpoint_loader(checkpoint, env_params=EnvParams(include_state=True))\n",
    "env_and_policy = ppo_db_checkpoint_loader(checkpoint)\n",
    "# for player in range(game.num_players()):\n",
    "#     env_and_policy.agents[player] = ModalAgentDecorator(env_and_policy.agents[player])\n",
    "policy = env_and_policy.make_policy()\n"
   ]
  },
  {
   "cell_type": "code",
   "execution_count": 6,
   "id": "02a566c0-f6ca-4ae8-9bb0-0c3a31826167",
   "metadata": {},
   "outputs": [
    {
     "name": "stdout",
     "output_type": "stream",
     "text": [
      "Game tree saved to file figures/2023-06-27-graphviz/non_modal_test.pdf\n"
     ]
    }
   ],
   "source": [
    "draw_game_tree(\n",
    "    game, \n",
    "    policy, \n",
    "    fname=f'non_modal_test.pdf'\n",
    ")"
   ]
  },
  {
   "cell_type": "code",
   "execution_count": 215,
   "id": "42c44a13-0077-41df-a631-3c01bab55a3b",
   "metadata": {},
   "outputs": [],
   "source": [
    "agent = env_and_policy.agents[1]\n",
    "ts = env_and_policy.env.reset()"
   ]
  },
  {
   "cell_type": "code",
   "execution_count": 275,
   "id": "6e233ecc-45fd-4d26-bfcc-fe657222cf6e",
   "metadata": {},
   "outputs": [],
   "source": [
    "state_0 = game.new_initial_state().child(0).child(1).child(5).child(6)\n",
    "p0_policy = policy.action_probabilities(state_0)"
   ]
  },
  {
   "cell_type": "code",
   "execution_count": 276,
   "id": "90df4609-315f-445f-a9da-44e26e7313e8",
   "metadata": {},
   "outputs": [],
   "source": [
    "tremble_prob = 0.25\n",
    "for a in p0_policy:\n",
    "    p0_policy[a] = tremble_prob / len(p0_policy) + (1 - tremble_prob) * p0_policy[a]"
   ]
  },
  {
   "cell_type": "code",
   "execution_count": 277,
   "id": "66f24111-0222-4b7b-9bb7-fea984d6a85e",
   "metadata": {},
   "outputs": [
    {
     "data": {
      "text/plain": [
       "{0: 0.05097339022596157,\n",
       " 1: 0.0509253221554808,\n",
       " 2: 0.051117293302417495,\n",
       " 4: 0.2610026394114132,\n",
       " 5: 0.5859813549047269}"
      ]
     },
     "execution_count": 277,
     "metadata": {},
     "output_type": "execute_result"
    }
   ],
   "source": [
    "p0_policy"
   ]
  },
  {
   "cell_type": "code",
   "execution_count": null,
   "id": "4871375c-1d3e-40f0-a582-25c98b3a8a9f",
   "metadata": {},
   "outputs": [],
   "source": []
  },
  {
   "cell_type": "code",
   "execution_count": 278,
   "id": "c2a588cc-96d1-437d-92f7-264d671c0bb6",
   "metadata": {},
   "outputs": [],
   "source": [
    "state_1 = game.new_initial_state().child(0).child(1).child(5).child(6).child(5)\n",
    "state_1.information_state_string() == 'p1t1 r2 posted[[32.0, 19.0], [41.6, 19.0]] sub[[0, 0], [1, 2]] a70 agg[[0, 0], [2, 3]] proc[[0, 0], [1, 2]]'\n",
    "p1_policy = policy.action_probabilities(state_1)"
   ]
  },
  {
   "cell_type": "code",
   "execution_count": null,
   "id": "2a1cf88f-4378-47e6-be6d-de1c779dfeb3",
   "metadata": {},
   "outputs": [],
   "source": []
  },
  {
   "cell_type": "code",
   "execution_count": 279,
   "id": "a03a0d34-9be1-4e93-9588-b353057e3ee2",
   "metadata": {},
   "outputs": [],
   "source": [
    "def get_exp_reward(p1_action):\n",
    "    p1_exp_reward = 0\n",
    "    for p0_action in p0_policy:\n",
    "        child_state = state_0.child(p0_action).child(p1_action)\n",
    "        if child_state.is_terminal():\n",
    "            p1_exp_reward += p0_policy[p0_action] * child_state.returns()\n",
    "        elif child_state.is_chance_node():\n",
    "            for chance_action_id, chance_prob in child_state.chance_outcomes():\n",
    "                if child_state.child(chance_action_id).is_terminal():\n",
    "                    p1_exp_reward += p0_policy[p0_action] * chance_prob * child_state.child(chance_action_id).returns()\n",
    "                else:\n",
    "                    print(f\"auction didn't end with actions ({p0_action}, {p1_action})\")\n",
    "                    p1_exp_reward += p0_policy[p0_action] * chance_prob * (-23)\n",
    "    return p1_exp_reward\n"
   ]
  },
  {
   "cell_type": "code",
   "execution_count": 280,
   "id": "a9ac0a56-83ee-4ac0-89fd-0b749c48c7e0",
   "metadata": {},
   "outputs": [
    {
     "name": "stdout",
     "output_type": "stream",
     "text": [
      "[117.48991219  28.56168062]\n",
      "[117.48991219  28.56168062]\n"
     ]
    }
   ],
   "source": [
    "print(get_exp_reward(0))\n",
    "print(get_exp_reward(1))\n",
    "# print(get_exp_reward(2))"
   ]
  },
  {
   "cell_type": "code",
   "execution_count": 265,
   "id": "ca4053d8-e9cf-466c-9290-05d1eccc25e8",
   "metadata": {},
   "outputs": [
    {
     "data": {
      "text/plain": [
       "{0: 0.4178864348496503,\n",
       " 1: 0.2165796062193167,\n",
       " 2: 0.22909362982280757,\n",
       " 3: 0.009561295284364005,\n",
       " 4: 0.05347208393775575,\n",
       " 5: 0.039379712758246956,\n",
       " 6: 0.034027237127858455}"
      ]
     },
     "execution_count": 265,
     "metadata": {},
     "output_type": "execute_result"
    }
   ],
   "source": [
    "p1_policy"
   ]
  },
  {
   "cell_type": "code",
   "execution_count": 25,
   "id": "523413d3-62f4-4aef-814a-10fea39f7a6d",
   "metadata": {},
   "outputs": [
    {
     "name": "stderr",
     "output_type": "stream",
     "text": [
      "  2%|███▎                                                                                                                                                                 | 1/50 [00:00<00:00, 146.29it/s]\n"
     ]
    }
   ],
   "source": [
    "game, checkpoint = find_run_by_graphviz_name(\n",
    "    'jun26_jun26_0_base-cfr_port_2outcome_lin_avg-102_(jun27_port)_Iteration_32734471-jun26_jun26_0_base.json.pdf'\n",
    ")\n",
    "env_and_policy = ppo_db_checkpoint_loader(checkpoint)\n",
    "# for player in range(game.num_players()):\n",
    "#     env_and_policy.agents[player] = ModalAgentDecorator(env_and_policy.agents[player])\n",
    "policy = env_and_policy.make_policy()"
   ]
  },
  {
   "cell_type": "code",
   "execution_count": 89,
   "id": "e4836eaf-423f-42a0-b245-5375d09ad449",
   "metadata": {},
   "outputs": [],
   "source": [
    "other_checkpoint = checkpoint.equilibrium_solver_run.equilibriumsolverruncheckpoint_set.order_by('t')[4]\n",
    "env_and_policy = ppo_db_checkpoint_loader(other_checkpoint)\n",
    "# for player in range(game.num_players()):\n",
    "#     env_and_policy.agents[player] = ModalAgentDecorator(env_and_policy.agents[player])\n",
    "policy = env_and_policy.make_policy()"
   ]
  },
  {
   "cell_type": "code",
   "execution_count": 90,
   "id": "0efe63e4-9895-46c4-9398-b81ac3419515",
   "metadata": {},
   "outputs": [
    {
     "data": {
      "text/plain": [
       "[0.0, 2.267499999999984]"
      ]
     },
     "execution_count": 90,
     "metadata": {},
     "output_type": "execute_result"
    }
   ],
   "source": [
    "other_checkpoint.get_modal_eval().player_improvements"
   ]
  },
  {
   "cell_type": "code",
   "execution_count": 91,
   "id": "54a1ce2a-e634-487b-bfe6-86ab5813e96e",
   "metadata": {},
   "outputs": [
    {
     "data": {
      "text/plain": [
       "{0: 0.17162356456899808,\n",
       " 1: 0.11744036472904104,\n",
       " 2: 0.10892114269603584,\n",
       " 3: 0.17021437116411217,\n",
       " 4: 0.14597193111736637,\n",
       " 5: 0.28582862572444634}"
      ]
     },
     "execution_count": 91,
     "metadata": {},
     "output_type": "execute_result"
    }
   ],
   "source": [
    "state = game.new_initial_state().child(1).child(0).child(5).child(3)\n",
    "state.information_state_string() == 'p0t1 r2 posted[[32.0, 19.0], [41.6, 19.0]] sub[[0, 0], [1, 2]] a70 agg[[0, 0], [2, 2]] proc[[0, 0], [1, 2]]'\n",
    "\n",
    "policy.action_probabilities(state)"
   ]
  },
  {
   "cell_type": "code",
   "execution_count": 43,
   "id": "6f7386c5-a8b0-4fd0-bb44-ace5df7f6b25",
   "metadata": {},
   "outputs": [],
   "source": [
    "regrets, avg_policy = policy._agents[0].policy._infostates[state.information_state_string()]"
   ]
  },
  {
   "cell_type": "code",
   "execution_count": 44,
   "id": "17143702-3364-438a-a8f4-c6ac7a31c4a5",
   "metadata": {},
   "outputs": [
    {
     "data": {
      "text/plain": [
       "array([-5.36012297e+15, -5.81796428e+15,  7.15178971e+06])"
      ]
     },
     "execution_count": 44,
     "metadata": {},
     "output_type": "execute_result"
    }
   ],
   "source": [
    "regrets"
   ]
  },
  {
   "cell_type": "code",
   "execution_count": 45,
   "id": "8b871d3e-2f80-4505-ac93-52c12beeed10",
   "metadata": {},
   "outputs": [
    {
     "data": {
      "text/plain": [
       "array([5.33644809e+03, 1.28490232e+02, 3.97179908e+08])"
      ]
     },
     "execution_count": 45,
     "metadata": {},
     "output_type": "execute_result"
    }
   ],
   "source": [
    "avg_policy"
   ]
  },
  {
   "cell_type": "code",
   "execution_count": 33,
   "id": "7866e9b0-a941-4588-9022-4611008e6b60",
   "metadata": {},
   "outputs": [
    {
     "data": {
      "text/plain": [
       "array([-0.33288927,  0.21847515,  0.34070933,  0.18763323,  0.40632068,\n",
       "        0.17975089])"
      ]
     },
     "execution_count": 33,
     "metadata": {},
     "output_type": "execute_result"
    }
   ],
   "source": [
    "regrets / regrets.sum()"
   ]
  },
  {
   "cell_type": "code",
   "execution_count": 34,
   "id": "a793f372-a5ae-4add-9162-35089454b404",
   "metadata": {},
   "outputs": [
    {
     "data": {
      "text/plain": [
       "array([0.17162356, 0.11744036, 0.10892114, 0.17021437, 0.14597193,\n",
       "       0.28582863])"
      ]
     },
     "execution_count": 34,
     "metadata": {},
     "output_type": "execute_result"
    }
   ],
   "source": [
    "avg_policy / avg_policy.sum()"
   ]
  },
  {
   "cell_type": "code",
   "execution_count": null,
   "id": "77b5f206-f2e0-45b1-b029-514b77bb711c",
   "metadata": {},
   "outputs": [],
   "source": [
    "agent = policy._agents[0]\n",
    "infostates = agent.policy._infostates"
   ]
  },
  {
   "cell_type": "code",
   "execution_count": null,
   "id": "ffbd823a-3c8d-4246-942e-2bded7b98a3b",
   "metadata": {},
   "outputs": [],
   "source": [
    "state = game.new_initial_state().child(1).child(0).child(4).child(4)"
   ]
  },
  {
   "cell_type": "code",
   "execution_count": 80,
   "id": "f2a80f04-4d8a-4d55-a070-68399f7975c1",
   "metadata": {},
   "outputs": [
    {
     "data": {
      "text/plain": [
       "'p0t1 r2 posted[[32.0, 19.0], [41.6, 19.0]] sub[[0, 0], [1, 0]] a32 agg[[0, 0], [2, 0]] proc[[0, 0], [1, 0]]'"
      ]
     },
     "execution_count": 80,
     "metadata": {},
     "output_type": "execute_result"
    }
   ],
   "source": [
    "state.information_state_string(0)"
   ]
  },
  {
   "cell_type": "code",
   "execution_count": 81,
   "id": "590f8a88-5303-44ed-b376-65c2a63d3a2d",
   "metadata": {},
   "outputs": [
    {
     "ename": "AttributeError",
     "evalue": "'ClockAuctionGame' object has no attribute 'ob'",
     "output_type": "error",
     "traceback": [
      "\u001b[0;31m---------------------------------------------------------------------------\u001b[0m",
      "\u001b[0;31mAttributeError\u001b[0m                            Traceback (most recent call last)",
      "Input \u001b[0;32mIn [81]\u001b[0m, in \u001b[0;36m<module>\u001b[0;34m\u001b[0m\n\u001b[0;32m----> 1\u001b[0m \u001b[43mgame\u001b[49m\u001b[38;5;241;43m.\u001b[39;49m\u001b[43mob\u001b[49m\n",
      "\u001b[0;31mAttributeError\u001b[0m: 'ClockAuctionGame' object has no attribute 'ob'"
     ]
    }
   ],
   "source": [
    "game.ob"
   ]
  },
  {
   "cell_type": "code",
   "execution_count": 82,
   "id": "aa76b1c5-8490-433d-bbcf-f7701bad9328",
   "metadata": {},
   "outputs": [
    {
     "data": {
      "text/plain": [
       "{0: 0.026900200506226456, 1: 0.02273779054313965, 4: 0.9503620089506339}"
      ]
     },
     "execution_count": 82,
     "metadata": {},
     "output_type": "execute_result"
    }
   ],
   "source": [
    "agent.policy.action_probabilities(state)"
   ]
  },
  {
   "cell_type": "code",
   "execution_count": 51,
   "id": "0a62a32e-dee5-46ea-95bf-5cbe0a8a2365",
   "metadata": {},
   "outputs": [
    {
     "name": "stdout",
     "output_type": "stream",
     "text": [
      "p0t1 r1 posted[[32, 19]] sub[[0, 0]] a89 agg[[0, 0]] proc[[0, 0]] [2.11579216e+01 2.04997729e+01 1.02332616e+03 1.22727141e+05\n",
      " 5.71808349e+07 9.28859416e+05 4.41867890e+05 4.77753707e+05]\n"
     ]
    }
   ],
   "source": [
    "for k in infostates:\n",
    "    \n",
    "    print(k, infostates[k][1])\n",
    "    break"
   ]
  }
 ],
 "metadata": {
  "kernelspec": {
   "display_name": "Django Shell-Plus",
   "language": "python",
   "name": "django_extensions"
  },
  "language_info": {
   "codemirror_mode": {
    "name": "ipython",
    "version": 3
   },
   "file_extension": ".py",
   "mimetype": "text/x-python",
   "name": "python",
   "nbconvert_exporter": "python",
   "pygments_lexer": "ipython3",
   "version": "3.8.2"
  }
 },
 "nbformat": 4,
 "nbformat_minor": 5
}
