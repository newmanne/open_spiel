{
 "cells": [
  {
   "cell_type": "code",
   "execution_count": 3,
   "id": "ad35a9b2-993a-4313-8af9-67326123aac3",
   "metadata": {},
   "outputs": [],
   "source": [
    "%load_ext autoreload\n",
    "%autoreload 2\n",
    "%matplotlib inline\n",
    "\n",
    "import pyspiel\n",
    "import open_spiel.python.examples.ubc_utils\n",
    "from open_spiel.python.visualizations import ubc_treeviz\n",
    "from open_spiel.python.examples.ubc_utils import *\n",
    "from auctions.webutils import *\n",
    "from absl import logging\n",
    "logging.set_verbosity(logging.INFO)\n",
    "import os\n",
    "os.environ[\"DJANGO_ALLOW_ASYNC_UNSAFE\"] = \"true\"\n",
    "from open_spiel.python.examples.ubc_cma import *\n",
    "from open_spiel.python.examples.ubc_decorators import TakeSingleActionDecorator, TremblingAgentDecorator, ModalAgentDecorator"
   ]
  },
  {
   "cell_type": "code",
   "execution_count": 4,
   "id": "c63d1098-dc36-49b8-a90c-c539b72c17a7",
   "metadata": {},
   "outputs": [
    {
     "name": "stdout",
     "output_type": "stream",
     "text": [
      "Found 195 runs\n"
     ]
    }
   ],
   "source": [
    "# load runs from experiments\n",
    "experiments = []\n",
    "# experiments += ['jun27_port']\n",
    "experiments += ['jul18']\n",
    "runs = []\n",
    "for experiment in experiments:\n",
    "    runs += Experiment.objects.get(name=experiment).equilibriumsolverrun_set.all()\n",
    "print(f\"Found {len(runs)} runs\")"
   ]
  },
  {
   "cell_type": "code",
   "execution_count": 5,
   "id": "a82d1000-0125-4915-b006-35ce56c27583",
   "metadata": {},
   "outputs": [],
   "source": [
    "def draw_game_tree(game, policy, br_policies=None, fname='treeviz.png', figure_dir='figures/2023-06-27-graphviz'):\n",
    "    node_policy_decorator, edge_policy_decorator = ubc_treeviz.make_policy_decorators(policy, br_policies)\n",
    "    gametree = ubc_treeviz.GameTree(\n",
    "        game,\n",
    "        node_decorator=node_policy_decorator,\n",
    "        edge_decorator=edge_policy_decorator,\n",
    "        group_infosets=False,\n",
    "        group_terminal=False,\n",
    "        group_pubsets=False, \n",
    "        target_pubset='*',\n",
    "        depth_limit=20,\n",
    "        state_prob_limit=0.001,\n",
    "        action_prob_limit=0.01, \n",
    "        policy=policy,\n",
    "        br_policies=br_policies,\n",
    "    )\n",
    "    \n",
    "    outfile = os.path.join(figure_dir, fname)\n",
    "    gametree.draw(outfile, prog='dot')\n",
    "    print(\"Game tree saved to file\", outfile)\n",
    "    "
   ]
  },
  {
   "cell_type": "code",
   "execution_count": 14,
   "id": "17a4444e-3042-4798-819b-ba0db0cd1640",
   "metadata": {},
   "outputs": [
    {
     "name": "stderr",
     "output_type": "stream",
     "text": [
      "  1%|▊                                                                                                                                                                    | 1/195 [00:06<22:28,  6.95s/it]"
     ]
    },
    {
     "name": "stdout",
     "output_type": "stream",
     "text": [
      "Game tree saved to file figures/2023-07-19-graphviz/jun26_jun26_4_no_activity-cfr_port_2_no_extoutcome_lin_avg_plus-100_(jul18)_Iteration_11140001-jun26_jun26_4_no_activity.json.pdf\n"
     ]
    },
    {
     "name": "stderr",
     "output_type": "stream",
     "text": [
      "  1%|█▋                                                                                                                                                                   | 2/195 [00:07<10:40,  3.32s/it]"
     ]
    },
    {
     "name": "stdout",
     "output_type": "stream",
     "text": [
      "Game tree saved to file figures/2023-07-19-graphviz/jun26_jun26_3_base-cfr_port_2outcome_lin_avg-102_(jul18)_Iteration_24755001-jun26_jun26_3_base.json.pdf\n"
     ]
    },
    {
     "name": "stderr",
     "output_type": "stream",
     "text": [
      "  2%|██▌                                                                                                                                                                  | 3/195 [00:14<15:19,  4.79s/it]"
     ]
    },
    {
     "name": "stdout",
     "output_type": "stream",
     "text": [
      "Game tree saved to file figures/2023-07-19-graphviz/jun26_jun26_4_no_activity-cfr_port_2_no_extoutcome_lin_avg_plus-101_(jul18)_Iteration_11427439-jun26_jun26_4_no_activity.json.pdf\n"
     ]
    },
    {
     "name": "stderr",
     "output_type": "stream",
     "text": [
      "  2%|███▍                                                                                                                                                                 | 4/195 [00:15<11:13,  3.53s/it]"
     ]
    },
    {
     "name": "stdout",
     "output_type": "stream",
     "text": [
      "Game tree saved to file figures/2023-07-19-graphviz/jun26_jun26_1_medium_speed-cfr_port_2outcome_lin_avg_plus-102_(jul18)_Iteration_22347172-jun26_jun26_1_medium_speed.json.pdf\n"
     ]
    },
    {
     "name": "stderr",
     "output_type": "stream",
     "text": [
      "  3%|████▏                                                                                                                                                                | 5/195 [00:16<08:12,  2.59s/it]"
     ]
    },
    {
     "name": "stdout",
     "output_type": "stream",
     "text": [
      "Game tree saved to file figures/2023-07-19-graphviz/jun26_jun26_3_base-cfr_port_2outcome_lin_avg-101_(jul18)_Iteration_27137924-jun26_jun26_3_base.json.pdf\n"
     ]
    },
    {
     "name": "stderr",
     "output_type": "stream",
     "text": [
      "  3%|█████                                                                                                                                                                | 6/195 [00:23<13:04,  4.15s/it]"
     ]
    },
    {
     "name": "stdout",
     "output_type": "stream",
     "text": [
      "Game tree saved to file figures/2023-07-19-graphviz/jun26_jun26_4_no_activity-cfr_port_2_no_extoutcome_lin_avg_plus-102_(jul18)_Iteration_10804171-jun26_jun26_4_no_activity.json.pdf\n"
     ]
    },
    {
     "name": "stderr",
     "output_type": "stream",
     "text": [
      "  4%|█████▉                                                                                                                                                               | 7/195 [00:24<09:30,  3.03s/it]"
     ]
    },
    {
     "name": "stdout",
     "output_type": "stream",
     "text": [
      "Game tree saved to file figures/2023-07-19-graphviz/jun26_jun26_1_medium_speed-cfr_port_2outcome_lin_avg-100_(jul18)_Iteration_33877185-jun26_jun26_1_medium_speed.json.pdf\n"
     ]
    },
    {
     "name": "stderr",
     "output_type": "stream",
     "text": [
      "  4%|██████▊                                                                                                                                                              | 8/195 [00:30<11:58,  3.84s/it]"
     ]
    },
    {
     "name": "stdout",
     "output_type": "stream",
     "text": [
      "Game tree saved to file figures/2023-07-19-graphviz/jun26_jun26_3_no_activity-cfr_port_2_no_extoutcome_lin_avg_plus-100_(jul18)_Iteration_14720001-jun26_jun26_3_no_activity.json.pdf\n"
     ]
    },
    {
     "name": "stderr",
     "output_type": "stream",
     "text": [
      "  5%|███████▌                                                                                                                                                             | 9/195 [00:31<09:29,  3.06s/it]"
     ]
    },
    {
     "name": "stdout",
     "output_type": "stream",
     "text": [
      "Game tree saved to file figures/2023-07-19-graphviz/jun26_jun26_4_medium_speed-cfr_port_2outcome_lin_avg_plus-102_(jul18)_Iteration_20660001-jun26_jun26_4_medium_speed.json.pdf\n"
     ]
    },
    {
     "name": "stderr",
     "output_type": "stream",
     "text": [
      "  5%|████████▍                                                                                                                                                           | 10/195 [00:32<07:40,  2.49s/it]"
     ]
    },
    {
     "name": "stdout",
     "output_type": "stream",
     "text": [
      "Game tree saved to file figures/2023-07-19-graphviz/jun26_jun26_2_grace_period-cfr_port_2_no_extoutcome_lin_avg-102_(jul18)_Iteration_18625001-jun26_jun26_2_grace_period.json.pdf\n"
     ]
    },
    {
     "name": "stderr",
     "output_type": "stream",
     "text": [
      "  6%|█████████▎                                                                                                                                                          | 11/195 [00:33<05:41,  1.86s/it]"
     ]
    },
    {
     "name": "stdout",
     "output_type": "stream",
     "text": [
      "Game tree saved to file figures/2023-07-19-graphviz/jun26_jun26_4_medium_speed-cfr_port_2outcome_lin_avg-100_(jul18)_Iteration_21478870-jun26_jun26_4_medium_speed.json.pdf\n"
     ]
    },
    {
     "name": "stderr",
     "output_type": "stream",
     "text": [
      "  6%|██████████                                                                                                                                                          | 12/195 [00:39<09:24,  3.08s/it]"
     ]
    },
    {
     "name": "stdout",
     "output_type": "stream",
     "text": [
      "Game tree saved to file figures/2023-07-19-graphviz/jun26_jun26_4_no_activity-cfr_port_2_no_extoutcome_lin_avg-101_(jul18)_Iteration_12869244-jun26_jun26_4_no_activity.json.pdf\n"
     ]
    },
    {
     "name": "stderr",
     "output_type": "stream",
     "text": [
      "  7%|██████████▉                                                                                                                                                         | 13/195 [00:39<06:58,  2.30s/it]"
     ]
    },
    {
     "name": "stdout",
     "output_type": "stream",
     "text": [
      "Game tree saved to file figures/2023-07-19-graphviz/jun26_jun26_4_high_speed-cfr_port_2outcome_lin_avg-101_(jul18)_Iteration_27518150-jun26_jun26_4_high_speed.json.pdf\n"
     ]
    },
    {
     "name": "stderr",
     "output_type": "stream",
     "text": [
      "  7%|███████████▊                                                                                                                                                        | 14/195 [00:45<10:16,  3.41s/it]"
     ]
    },
    {
     "name": "stdout",
     "output_type": "stream",
     "text": [
      "Game tree saved to file figures/2023-07-19-graphviz/jun26_jun26_4_no_activity-cfr_port_2_no_extoutcome_lin_avg-100_(jul18)_Iteration_12239243-jun26_jun26_4_no_activity.json.pdf\n"
     ]
    },
    {
     "name": "stderr",
     "output_type": "stream",
     "text": [
      "  8%|████████████▌                                                                                                                                                       | 15/195 [00:46<07:35,  2.53s/it]"
     ]
    },
    {
     "name": "stdout",
     "output_type": "stream",
     "text": [
      "Game tree saved to file figures/2023-07-19-graphviz/jun26_jun26_4_high_speed-cfr_port_2outcome_lin_avg-100_(jul18)_Iteration_27813928-jun26_jun26_4_high_speed.json.pdf\n"
     ]
    },
    {
     "name": "stderr",
     "output_type": "stream",
     "text": [
      "  8%|█████████████▍                                                                                                                                                      | 16/195 [00:47<06:06,  2.04s/it]"
     ]
    },
    {
     "name": "stdout",
     "output_type": "stream",
     "text": [
      "Game tree saved to file figures/2023-07-19-graphviz/jun26_jun26_1_grace_period-cfr_port_2_no_extoutcome_lin_avg-100_(jul18)_Iteration_17665849-jun26_jun26_1_grace_period.json.pdf\n"
     ]
    },
    {
     "name": "stderr",
     "output_type": "stream",
     "text": [
      "  9%|██████████████▎                                                                                                                                                     | 17/195 [00:47<04:42,  1.59s/it]"
     ]
    },
    {
     "name": "stdout",
     "output_type": "stream",
     "text": [
      "Game tree saved to file figures/2023-07-19-graphviz/jun26_jun26_0_high_speed-cfr_port_2external_plus-102_(jul18)_Iteration_1575554-jun26_jun26_0_high_speed.json.pdf\n"
     ]
    },
    {
     "name": "stderr",
     "output_type": "stream",
     "text": [
      "  9%|███████████████▏                                                                                                                                                    | 18/195 [00:51<06:38,  2.25s/it]"
     ]
    },
    {
     "name": "stdout",
     "output_type": "stream",
     "text": [
      "Game tree saved to file figures/2023-07-19-graphviz/jun26_jun26_1_grace_period-cfr_port_2_no_extoutcome_lin_avg-101_(jul18)_Iteration_17443997-jun26_jun26_1_grace_period.json.pdf\n"
     ]
    },
    {
     "name": "stderr",
     "output_type": "stream",
     "text": [
      " 10%|███████████████▉                                                                                                                                                    | 19/195 [00:54<06:59,  2.38s/it]"
     ]
    },
    {
     "name": "stdout",
     "output_type": "stream",
     "text": [
      "Game tree saved to file figures/2023-07-19-graphviz/jun26_jun26_4_base-cfr_port_2outcome_lin_avg_plus-100_(jul18)_Iteration_17553587-jun26_jun26_4_base.json.pdf\n"
     ]
    },
    {
     "name": "stderr",
     "output_type": "stream",
     "text": [
      " 10%|████████████████▊                                                                                                                                                   | 20/195 [00:55<06:07,  2.10s/it]"
     ]
    },
    {
     "name": "stdout",
     "output_type": "stream",
     "text": [
      "Game tree saved to file figures/2023-07-19-graphviz/jun26_jun26_3_grace_period-cfr_port_2_no_extoutcome_lin_avg_plus-101_(jul18)_Iteration_19054439-jun26_jun26_3_grace_period.json.pdf\n"
     ]
    },
    {
     "name": "stderr",
     "output_type": "stream",
     "text": [
      " 11%|█████████████████▋                                                                                                                                                  | 21/195 [00:56<05:23,  1.86s/it]"
     ]
    },
    {
     "name": "stdout",
     "output_type": "stream",
     "text": [
      "Game tree saved to file figures/2023-07-19-graphviz/jun26_jun26_4_base-cfr_port_2outcome_lin_avg-100_(jul18)_Iteration_18828993-jun26_jun26_4_base.json.pdf\n"
     ]
    },
    {
     "name": "stderr",
     "output_type": "stream",
     "text": [
      " 11%|██████████████████▌                                                                                                                                                 | 22/195 [00:58<05:31,  1.92s/it]"
     ]
    },
    {
     "name": "stdout",
     "output_type": "stream",
     "text": [
      "Game tree saved to file figures/2023-07-19-graphviz/jun26_jun26_3_grace_period-cfr_port_2_no_extoutcome_lin_avg_plus-102_(jul18)_Iteration_19360001-jun26_jun26_3_grace_period.json.pdf\n"
     ]
    },
    {
     "name": "stderr",
     "output_type": "stream",
     "text": [
      " 12%|███████████████████▎                                                                                                                                                | 23/195 [00:59<04:10,  1.46s/it]"
     ]
    },
    {
     "name": "stdout",
     "output_type": "stream",
     "text": [
      "Game tree saved to file figures/2023-07-19-graphviz/jun26_jun26_2_high_speed-cfr_port_2outcome_lin_avg-102_(jul18)_Iteration_27477825-jun26_jun26_2_high_speed.json.pdf\n"
     ]
    },
    {
     "name": "stderr",
     "output_type": "stream",
     "text": [
      " 12%|████████████████████▏                                                                                                                                               | 24/195 [01:01<04:35,  1.61s/it]"
     ]
    },
    {
     "name": "stdout",
     "output_type": "stream",
     "text": [
      "Game tree saved to file figures/2023-07-19-graphviz/jun26_jun26_4_grace_period-cfr_port_2_no_extoutcome_lin_avg_plus-101_(jul18)_Iteration_17359923-jun26_jun26_4_grace_period.json.pdf\n"
     ]
    },
    {
     "name": "stderr",
     "output_type": "stream",
     "text": [
      " 13%|█████████████████████                                                                                                                                               | 25/195 [01:04<05:41,  2.01s/it]"
     ]
    },
    {
     "name": "stdout",
     "output_type": "stream",
     "text": [
      "Game tree saved to file figures/2023-07-19-graphviz/jun26_jun26_2_high_speed-cfr_port_2external_plus-100_(jul18)_Iteration_13861-jun26_jun26_2_high_speed.json.pdf\n"
     ]
    },
    {
     "name": "stderr",
     "output_type": "stream",
     "text": [
      " 13%|█████████████████████▊                                                                                                                                              | 26/195 [01:07<06:30,  2.31s/it]"
     ]
    },
    {
     "name": "stdout",
     "output_type": "stream",
     "text": [
      "Game tree saved to file figures/2023-07-19-graphviz/jun26_jun26_4_grace_period-cfr_port_2_no_extoutcome_lin_avg_plus-102_(jul18)_Iteration_16716039-jun26_jun26_4_grace_period.json.pdf\n"
     ]
    },
    {
     "name": "stderr",
     "output_type": "stream",
     "text": [
      " 14%|██████████████████████▋                                                                                                                                             | 27/195 [01:08<05:42,  2.04s/it]"
     ]
    },
    {
     "name": "stdout",
     "output_type": "stream",
     "text": [
      "Game tree saved to file figures/2023-07-19-graphviz/jun26_jun26_4_base-cfr_port_2outcome_lin_avg-101_(jul18)_Iteration_18618671-jun26_jun26_4_base.json.pdf\n"
     ]
    },
    {
     "name": "stderr",
     "output_type": "stream",
     "text": [
      " 14%|███████████████████████▌                                                                                                                                            | 28/195 [01:10<05:42,  2.05s/it]"
     ]
    },
    {
     "name": "stdout",
     "output_type": "stream",
     "text": [
      "Game tree saved to file figures/2023-07-19-graphviz/jun26_jun26_1_grace_period-cfr_port_2_no_extoutcome_lin_avg_plus-101_(jul18)_Iteration_16495001-jun26_jun26_1_grace_period.json.pdf\n"
     ]
    },
    {
     "name": "stderr",
     "output_type": "stream",
     "text": [
      " 15%|████████████████████████▍                                                                                                                                           | 29/195 [01:10<04:16,  1.54s/it]"
     ]
    },
    {
     "name": "stdout",
     "output_type": "stream",
     "text": [
      "Game tree saved to file figures/2023-07-19-graphviz/jun26_jun26_0_high_speed-cfr_port_2outcome_lin_avg_plus-102_(jul18)_Iteration_25420001-jun26_jun26_0_high_speed.json.pdf\n"
     ]
    },
    {
     "name": "stderr",
     "output_type": "stream",
     "text": [
      " 15%|█████████████████████████▏                                                                                                                                          | 30/195 [01:12<03:57,  1.44s/it]"
     ]
    },
    {
     "name": "stdout",
     "output_type": "stream",
     "text": [
      "Game tree saved to file figures/2023-07-19-graphviz/jun26_jun26_1_grace_period-cfr_port_2_no_extoutcome_lin_avg_plus-102_(jul18)_Iteration_17115001-jun26_jun26_1_grace_period.json.pdf\n"
     ]
    },
    {
     "name": "stderr",
     "output_type": "stream",
     "text": [
      " 16%|██████████████████████████                                                                                                                                          | 31/195 [01:12<02:57,  1.08s/it]"
     ]
    },
    {
     "name": "stdout",
     "output_type": "stream",
     "text": [
      "Game tree saved to file figures/2023-07-19-graphviz/jun26_jun26_0_high_speed-cfr_port_2outcome_lin_avg-100_(jul18)_Iteration_28595132-jun26_jun26_0_high_speed.json.pdf\n"
     ]
    },
    {
     "name": "stderr",
     "output_type": "stream",
     "text": [
      " 16%|██████████████████████████▉                                                                                                                                         | 32/195 [01:13<02:53,  1.06s/it]"
     ]
    },
    {
     "name": "stdout",
     "output_type": "stream",
     "text": [
      "Game tree saved to file figures/2023-07-19-graphviz/jun26_jun26_2_grace_period-cfr_port_2_no_extoutcome_lin_avg_plus-101_(jul18)_Iteration_18695113-jun26_jun26_2_grace_period.json.pdf\n"
     ]
    },
    {
     "name": "stderr",
     "output_type": "stream",
     "text": [
      " 17%|███████████████████████████▊                                                                                                                                        | 33/195 [01:14<02:32,  1.06it/s]"
     ]
    },
    {
     "name": "stdout",
     "output_type": "stream",
     "text": [
      "Game tree saved to file figures/2023-07-19-graphviz/jun26_jun26_2_grace_period-cfr_port_2_no_extoutcome_lin_avg_plus-102_(jul18)_Iteration_18575656-jun26_jun26_2_grace_period.json.pdf\n"
     ]
    },
    {
     "name": "stderr",
     "output_type": "stream",
     "text": [
      " 17%|████████████████████████████▌                                                                                                                                       | 34/195 [01:14<02:14,  1.20it/s]"
     ]
    },
    {
     "name": "stdout",
     "output_type": "stream",
     "text": [
      "Game tree saved to file figures/2023-07-19-graphviz/jun26_jun26_3_base-cfr_port_2outcome_lin_avg_plus-100_(jul18)_Iteration_22987065-jun26_jun26_3_base.json.pdf\n"
     ]
    },
    {
     "name": "stderr",
     "output_type": "stream",
     "text": [
      " 18%|█████████████████████████████▍                                                                                                                                      | 35/195 [01:15<02:01,  1.32it/s]"
     ]
    },
    {
     "name": "stdout",
     "output_type": "stream",
     "text": [
      "Game tree saved to file figures/2023-07-19-graphviz/jun26_jun26_3_base-cfr_port_2outcome_lin_avg_plus-101_(jul18)_Iteration_22997947-jun26_jun26_3_base.json.pdf\n"
     ]
    },
    {
     "name": "stderr",
     "output_type": "stream",
     "text": [
      " 18%|██████████████████████████████▎                                                                                                                                     | 36/195 [01:32<15:09,  5.72s/it]"
     ]
    },
    {
     "name": "stdout",
     "output_type": "stream",
     "text": [
      "Game tree saved to file figures/2023-07-19-graphviz/jun26_jun26_1_no_activity-cfr_port_2_no_extoutcome_lin_avg_plus-100_(jul18)_Iteration_10408693-jun26_jun26_1_no_activity.json.pdf\n"
     ]
    },
    {
     "name": "stderr",
     "output_type": "stream",
     "text": [
      " 19%|███████████████████████████████                                                                                                                                     | 37/195 [01:35<12:40,  4.81s/it]"
     ]
    },
    {
     "name": "stdout",
     "output_type": "stream",
     "text": [
      "Game tree saved to file figures/2023-07-19-graphviz/jun26_jun26_1_grace_period-cfr_port_2_no_extoutcome_lin_avg-102_(jul18)_Iteration_21271708-jun26_jun26_1_grace_period.json.pdf\n"
     ]
    },
    {
     "name": "stderr",
     "output_type": "stream",
     "text": [
      " 19%|███████████████████████████████▉                                                                                                                                    | 38/195 [01:36<09:28,  3.62s/it]"
     ]
    },
    {
     "name": "stdout",
     "output_type": "stream",
     "text": [
      "Game tree saved to file figures/2023-07-19-graphviz/jun26_jun26_0_medium_speed-cfr_port_2outcome_lin_avg-102_(jul18)_Iteration_31260186-jun26_jun26_0_medium_speed.json.pdf\n"
     ]
    },
    {
     "name": "stderr",
     "output_type": "stream",
     "text": [
      " 20%|████████████████████████████████▊                                                                                                                                   | 39/195 [01:43<12:15,  4.72s/it]"
     ]
    },
    {
     "name": "stdout",
     "output_type": "stream",
     "text": [
      "Game tree saved to file figures/2023-07-19-graphviz/jun26_jun26_3_no_activity-cfr_port_2_no_extoutcome_lin_avg-100_(jul18)_Iteration_18611289-jun26_jun26_3_no_activity.json.pdf\n"
     ]
    },
    {
     "name": "stderr",
     "output_type": "stream",
     "text": [
      " 21%|█████████████████████████████████▋                                                                                                                                  | 40/195 [01:44<09:16,  3.59s/it]"
     ]
    },
    {
     "name": "stdout",
     "output_type": "stream",
     "text": [
      "Game tree saved to file figures/2023-07-19-graphviz/jun26_jun26_0_medium_speed-cfr_port_2external_plus-100_(jul18)_Iteration_781927-jun26_jun26_0_medium_speed.json.pdf\n"
     ]
    },
    {
     "name": "stderr",
     "output_type": "stream",
     "text": [
      " 21%|██████████████████████████████████▍                                                                                                                                 | 41/195 [01:48<09:56,  3.87s/it]"
     ]
    },
    {
     "name": "stdout",
     "output_type": "stream",
     "text": [
      "Game tree saved to file figures/2023-07-19-graphviz/jun26_jun26_3_no_activity-cfr_port_2_no_extoutcome_lin_avg-101_(jul18)_Iteration_21366963-jun26_jun26_3_no_activity.json.pdf\n"
     ]
    },
    {
     "name": "stderr",
     "output_type": "stream",
     "text": [
      " 22%|████████████████████████████████████▏                                                                                                                               | 43/195 [01:49<05:08,  2.03s/it]"
     ]
    },
    {
     "name": "stdout",
     "output_type": "stream",
     "text": [
      "Game tree saved to file figures/2023-07-19-graphviz/jun26_jun26_0_high_speed-cfr_port_2outcome_lin_avg-102_(jul18)_Iteration_37105337-jun26_jun26_0_high_speed.json.pdf\n",
      "Game tree saved to file figures/2023-07-19-graphviz/jun26_jun26_0_high_speed-cfr_port_2outcome_lin_avg-101_(jul18)_Iteration_33307441-jun26_jun26_0_high_speed.json.pdf\n"
     ]
    },
    {
     "name": "stderr",
     "output_type": "stream",
     "text": [
      " 23%|█████████████████████████████████████                                                                                                                               | 44/195 [01:53<06:56,  2.76s/it]"
     ]
    },
    {
     "name": "stdout",
     "output_type": "stream",
     "text": [
      "Game tree saved to file figures/2023-07-19-graphviz/jun26_jun26_0_no_activity-cfr_port_2_no_extoutcome_lin_avg-100_(jul18)_Iteration_19295001-jun26_jun26_0_no_activity.json.pdf\n"
     ]
    },
    {
     "name": "stderr",
     "output_type": "stream",
     "text": [
      " 23%|█████████████████████████████████████▊                                                                                                                              | 45/195 [01:57<07:31,  3.01s/it]"
     ]
    },
    {
     "name": "stdout",
     "output_type": "stream",
     "text": [
      "Game tree saved to file figures/2023-07-19-graphviz/jun26_jun26_4_medium_speed-cfr_port_2external_plus-102_(jul18)_Iteration_17228-jun26_jun26_4_medium_speed.json.pdf\n"
     ]
    },
    {
     "name": "stderr",
     "output_type": "stream",
     "text": [
      " 24%|██████████████████████████████████████▋                                                                                                                             | 46/195 [02:01<08:32,  3.44s/it]"
     ]
    },
    {
     "name": "stdout",
     "output_type": "stream",
     "text": [
      "Game tree saved to file figures/2023-07-19-graphviz/jun26_jun26_0_no_activity-cfr_port_2_no_extoutcome_lin_avg-101_(jul18)_Iteration_18366633-jun26_jun26_0_no_activity.json.pdf\n"
     ]
    },
    {
     "name": "stderr",
     "output_type": "stream",
     "text": [
      " 24%|███████████████████████████████████████▌                                                                                                                            | 47/195 [02:04<07:33,  3.07s/it]"
     ]
    },
    {
     "name": "stdout",
     "output_type": "stream",
     "text": [
      "Game tree saved to file figures/2023-07-19-graphviz/jun26_jun26_1_base-cfr_port_2outcome_lin_avg_plus-100_(jul18)_Iteration_19795387-jun26_jun26_1_base.json.pdf\n"
     ]
    },
    {
     "name": "stderr",
     "output_type": "stream",
     "text": [
      " 25%|████████████████████████████████████████▎                                                                                                                           | 48/195 [02:07<08:04,  3.30s/it]"
     ]
    },
    {
     "name": "stdout",
     "output_type": "stream",
     "text": [
      "Game tree saved to file figures/2023-07-19-graphviz/jun26_jun26_0_no_activity-cfr_port_2_no_extoutcome_lin_avg-102_(jul18)_Iteration_18817205-jun26_jun26_0_no_activity.json.pdf\n"
     ]
    },
    {
     "name": "stderr",
     "output_type": "stream",
     "text": [
      " 25%|█████████████████████████████████████████▏                                                                                                                          | 49/195 [02:15<11:16,  4.63s/it]"
     ]
    },
    {
     "name": "stdout",
     "output_type": "stream",
     "text": [
      "Game tree saved to file figures/2023-07-19-graphviz/jun26_jun26_1_base-cfr_port_2external_plus-102_(jul18)_Iteration_6098-jun26_jun26_1_base.json.pdf\n"
     ]
    },
    {
     "name": "stderr",
     "output_type": "stream",
     "text": [
      " 26%|██████████████████████████████████████████                                                                                                                          | 50/195 [02:17<09:06,  3.77s/it]"
     ]
    },
    {
     "name": "stdout",
     "output_type": "stream",
     "text": [
      "Game tree saved to file figures/2023-07-19-graphviz/jun26_jun26_1_grace_period-cfr_port_2_no_extoutcome_lin_avg_plus-100_(jul18)_Iteration_17900315-jun26_jun26_1_grace_period.json.pdf\n"
     ]
    },
    {
     "name": "stderr",
     "output_type": "stream",
     "text": [
      " 26%|██████████████████████████████████████████▉                                                                                                                         | 51/195 [02:18<07:00,  2.92s/it]"
     ]
    },
    {
     "name": "stdout",
     "output_type": "stream",
     "text": [
      "Game tree saved to file figures/2023-07-19-graphviz/jun26_jun26_0_grace_period-cfr_port_2_no_extoutcome_lin_avg_plus-102_(jul18)_Iteration_24424304-jun26_jun26_0_grace_period.json.pdf\n"
     ]
    },
    {
     "name": "stderr",
     "output_type": "stream",
     "text": [
      " 27%|███████████████████████████████████████████▋                                                                                                                        | 52/195 [02:25<10:01,  4.20s/it]"
     ]
    },
    {
     "name": "stdout",
     "output_type": "stream",
     "text": [
      "Game tree saved to file figures/2023-07-19-graphviz/jun26_jun26_1_base-cfr_port_2external_plus-101_(jul18)_Iteration_5593-jun26_jun26_1_base.json.pdf\n"
     ]
    },
    {
     "name": "stderr",
     "output_type": "stream",
     "text": [
      " 27%|████████████████████████████████████████████▌                                                                                                                       | 53/195 [02:26<07:28,  3.16s/it]"
     ]
    },
    {
     "name": "stdout",
     "output_type": "stream",
     "text": [
      "Game tree saved to file figures/2023-07-19-graphviz/jun26_jun26_0_base-cfr_port_2outcome_lin_avg-100_(jul18)_Iteration_22475001-jun26_jun26_0_base.json.pdf\n"
     ]
    },
    {
     "name": "stderr",
     "output_type": "stream",
     "text": [
      " 28%|█████████████████████████████████████████████▍                                                                                                                      | 54/195 [02:27<06:05,  2.59s/it]"
     ]
    },
    {
     "name": "stdout",
     "output_type": "stream",
     "text": [
      "Game tree saved to file figures/2023-07-19-graphviz/jun26_jun26_0_grace_period-cfr_port_2_no_extoutcome_lin_avg_plus-101_(jul18)_Iteration_24732881-jun26_jun26_0_grace_period.json.pdf\n"
     ]
    },
    {
     "name": "stderr",
     "output_type": "stream",
     "text": [
      " 28%|██████████████████████████████████████████████▎                                                                                                                     | 55/195 [02:28<04:39,  1.99s/it]"
     ]
    },
    {
     "name": "stdout",
     "output_type": "stream",
     "text": [
      "Game tree saved to file figures/2023-07-19-graphviz/jun26_jun26_0_base-cfr_port_2outcome_lin_avg-101_(jul18)_Iteration_24924471-jun26_jun26_0_base.json.pdf\n"
     ]
    },
    {
     "name": "stderr",
     "output_type": "stream",
     "text": [
      " 29%|███████████████████████████████████████████████                                                                                                                     | 56/195 [02:31<05:48,  2.51s/it]"
     ]
    },
    {
     "name": "stdout",
     "output_type": "stream",
     "text": [
      "Game tree saved to file figures/2023-07-19-graphviz/jun26_jun26_0_no_activity-cfr_port_2_no_extoutcome_lin_avg_plus-101_(jul18)_Iteration_15081785-jun26_jun26_0_no_activity.json.pdf\n"
     ]
    },
    {
     "name": "stderr",
     "output_type": "stream",
     "text": [
      " 29%|███████████████████████████████████████████████▉                                                                                                                    | 57/195 [02:32<04:23,  1.91s/it]"
     ]
    },
    {
     "name": "stdout",
     "output_type": "stream",
     "text": [
      "Game tree saved to file figures/2023-07-19-graphviz/jun26_jun26_2_medium_speed-cfr_port_2outcome_lin_avg-100_(jul18)_Iteration_25952652-jun26_jun26_2_medium_speed.json.pdf\n"
     ]
    },
    {
     "name": "stderr",
     "output_type": "stream",
     "text": [
      " 30%|████████████████████████████████████████████████▊                                                                                                                   | 58/195 [02:36<05:32,  2.42s/it]"
     ]
    },
    {
     "name": "stdout",
     "output_type": "stream",
     "text": [
      "Game tree saved to file figures/2023-07-19-graphviz/jun26_jun26_0_no_activity-cfr_port_2_no_extoutcome_lin_avg_plus-102_(jul18)_Iteration_15096162-jun26_jun26_0_no_activity.json.pdf\n"
     ]
    },
    {
     "name": "stderr",
     "output_type": "stream",
     "text": [
      " 30%|█████████████████████████████████████████████████▌                                                                                                                  | 59/195 [02:38<05:24,  2.39s/it]"
     ]
    },
    {
     "name": "stdout",
     "output_type": "stream",
     "text": [
      "Game tree saved to file figures/2023-07-19-graphviz/jun26_jun26_2_medium_speed-cfr_port_2outcome_lin_avg_plus-102_(jul18)_Iteration_21805616-jun26_jun26_2_medium_speed.json.pdf\n"
     ]
    },
    {
     "name": "stderr",
     "output_type": "stream",
     "text": [
      " 31%|██████████████████████████████████████████████████▍                                                                                                                 | 60/195 [02:44<07:43,  3.44s/it]"
     ]
    },
    {
     "name": "stdout",
     "output_type": "stream",
     "text": [
      "Game tree saved to file figures/2023-07-19-graphviz/jun26_jun26_3_no_activity-cfr_port_2_no_extoutcome_lin_avg_plus-101_(jul18)_Iteration_14568805-jun26_jun26_3_no_activity.json.pdf\n"
     ]
    },
    {
     "name": "stderr",
     "output_type": "stream",
     "text": [
      " 31%|███████████████████████████████████████████████████▎                                                                                                                | 61/195 [02:45<06:09,  2.76s/it]"
     ]
    },
    {
     "name": "stdout",
     "output_type": "stream",
     "text": [
      "Game tree saved to file figures/2023-07-19-graphviz/jun26_jun26_1_high_speed-cfr_port_2outcome_lin_avg-101_(jul18)_Iteration_27692624-jun26_jun26_1_high_speed.json.pdf\n"
     ]
    },
    {
     "name": "stderr",
     "output_type": "stream",
     "text": [
      " 32%|████████████████████████████████████████████████████▏                                                                                                               | 62/195 [02:52<08:55,  4.03s/it]"
     ]
    },
    {
     "name": "stdout",
     "output_type": "stream",
     "text": [
      "Game tree saved to file figures/2023-07-19-graphviz/jun26_jun26_3_no_activity-cfr_port_2_no_extoutcome_lin_avg_plus-102_(jul18)_Iteration_13816492-jun26_jun26_3_no_activity.json.pdf\n"
     ]
    },
    {
     "name": "stderr",
     "output_type": "stream",
     "text": [
      " 32%|████████████████████████████████████████████████████▉                                                                                                               | 63/195 [02:52<06:34,  2.98s/it]"
     ]
    },
    {
     "name": "stdout",
     "output_type": "stream",
     "text": [
      "Game tree saved to file figures/2023-07-19-graphviz/jun26_jun26_1_high_speed-cfr_port_2outcome_lin_avg-100_(jul18)_Iteration_27516821-jun26_jun26_1_high_speed.json.pdf\n"
     ]
    },
    {
     "name": "stderr",
     "output_type": "stream",
     "text": [
      " 33%|█████████████████████████████████████████████████████▊                                                                                                              | 64/195 [02:53<05:00,  2.29s/it]"
     ]
    },
    {
     "name": "stdout",
     "output_type": "stream",
     "text": [
      "Game tree saved to file figures/2023-07-19-graphviz/jun26_jun26_2_grace_period-cfr_port_2_no_extoutcome_lin_avg-101_(jul18)_Iteration_19831413-jun26_jun26_2_grace_period.json.pdf\n"
     ]
    },
    {
     "name": "stderr",
     "output_type": "stream",
     "text": [
      " 33%|██████████████████████████████████████████████████████▋                                                                                                             | 65/195 [02:53<03:39,  1.69s/it]"
     ]
    },
    {
     "name": "stdout",
     "output_type": "stream",
     "text": [
      "Game tree saved to file figures/2023-07-19-graphviz/jun26_jun26_3_medium_speed-cfr_port_2outcome_lin_avg-102_(jul18)_Iteration_31384428-jun26_jun26_3_medium_speed.json.pdf\n"
     ]
    },
    {
     "name": "stderr",
     "output_type": "stream",
     "text": [
      " 34%|███████████████████████████████████████████████████████▌                                                                                                            | 66/195 [02:55<03:23,  1.57s/it]"
     ]
    },
    {
     "name": "stdout",
     "output_type": "stream",
     "text": [
      "Game tree saved to file figures/2023-07-19-graphviz/jun26_jun26_2_grace_period-cfr_port_2_no_extoutcome_lin_avg-100_(jul18)_Iteration_22038312-jun26_jun26_2_grace_period.json.pdf\n"
     ]
    },
    {
     "name": "stderr",
     "output_type": "stream",
     "text": [
      " 34%|████████████████████████████████████████████████████████▎                                                                                                           | 67/195 [02:55<02:31,  1.18s/it]"
     ]
    },
    {
     "name": "stdout",
     "output_type": "stream",
     "text": [
      "Game tree saved to file figures/2023-07-19-graphviz/jun26_jun26_3_medium_speed-cfr_port_2outcome_lin_avg-101_(jul18)_Iteration_33185001-jun26_jun26_3_medium_speed.json.pdf\n"
     ]
    },
    {
     "name": "stderr",
     "output_type": "stream",
     "text": [
      " 35%|█████████████████████████████████████████████████████████▏                                                                                                          | 68/195 [02:56<02:10,  1.03s/it]"
     ]
    },
    {
     "name": "stdout",
     "output_type": "stream",
     "text": [
      "Game tree saved to file figures/2023-07-19-graphviz/jun26_jun26_3_grace_period-cfr_port_2_no_extoutcome_lin_avg-100_(jul18)_Iteration_23778273-jun26_jun26_3_grace_period.json.pdf\n"
     ]
    },
    {
     "name": "stderr",
     "output_type": "stream",
     "text": [
      " 35%|██████████████████████████████████████████████████████████                                                                                                          | 69/195 [02:56<01:58,  1.06it/s]"
     ]
    },
    {
     "name": "stdout",
     "output_type": "stream",
     "text": [
      "Game tree saved to file figures/2023-07-19-graphviz/jun26_jun26_2_high_speed-cfr_port_2outcome_lin_avg_plus-101_(jul18)_Iteration_24990001-jun26_jun26_2_high_speed.json.pdf\n"
     ]
    },
    {
     "name": "stderr",
     "output_type": "stream",
     "text": [
      " 36%|██████████████████████████████████████████████████████████▊                                                                                                         | 70/195 [02:59<02:54,  1.39s/it]"
     ]
    },
    {
     "name": "stdout",
     "output_type": "stream",
     "text": [
      "Game tree saved to file figures/2023-07-19-graphviz/jun26_jun26_4_grace_period-cfr_port_2_no_extoutcome_lin_avg_plus-100_(jul18)_Iteration_16531406-jun26_jun26_4_grace_period.json.pdf\n"
     ]
    },
    {
     "name": "stderr",
     "output_type": "stream",
     "text": [
      " 36%|███████████████████████████████████████████████████████████▋                                                                                                        | 71/195 [02:59<02:26,  1.18s/it]"
     ]
    },
    {
     "name": "stdout",
     "output_type": "stream",
     "text": [
      "Game tree saved to file figures/2023-07-19-graphviz/jun26_jun26_2_high_speed-cfr_port_2outcome_lin_avg_plus-102_(jul18)_Iteration_24890740-jun26_jun26_2_high_speed.json.pdf\n"
     ]
    },
    {
     "name": "stderr",
     "output_type": "stream",
     "text": [
      " 37%|████████████████████████████████████████████████████████████▌                                                                                                       | 72/195 [03:05<05:16,  2.57s/it]"
     ]
    },
    {
     "name": "stdout",
     "output_type": "stream",
     "text": [
      "Game tree saved to file figures/2023-07-19-graphviz/jun26_jun26_2_no_activity-cfr_port_2_no_extoutcome_lin_avg-102_(jul18)_Iteration_16975739-jun26_jun26_2_no_activity.json.pdf\n"
     ]
    },
    {
     "name": "stderr",
     "output_type": "stream",
     "text": [
      " 37%|█████████████████████████████████████████████████████████████▍                                                                                                      | 73/195 [03:06<04:02,  1.99s/it]"
     ]
    },
    {
     "name": "stdout",
     "output_type": "stream",
     "text": [
      "Game tree saved to file figures/2023-07-19-graphviz/jun26_jun26_0_base-cfr_port_2outcome_lin_avg-102_(jul18)_Iteration_26092752-jun26_jun26_0_base.json.pdf\n"
     ]
    },
    {
     "name": "stderr",
     "output_type": "stream",
     "text": [
      " 38%|██████████████████████████████████████████████████████████████▏                                                                                                     | 74/195 [03:07<03:22,  1.68s/it]"
     ]
    },
    {
     "name": "stdout",
     "output_type": "stream",
     "text": [
      "Game tree saved to file figures/2023-07-19-graphviz/jun26_jun26_3_grace_period-cfr_port_2_no_extoutcome_lin_avg-101_(jul18)_Iteration_19160001-jun26_jun26_3_grace_period.json.pdf\n"
     ]
    },
    {
     "name": "stderr",
     "output_type": "stream",
     "text": [
      " 38%|███████████████████████████████████████████████████████████████                                                                                                     | 75/195 [03:09<03:25,  1.71s/it]"
     ]
    },
    {
     "name": "stdout",
     "output_type": "stream",
     "text": [
      "Game tree saved to file figures/2023-07-19-graphviz/jun26_jun26_0_base-cfr_port_2external_plus-100_(jul18)_Iteration_130921-jun26_jun26_0_base.json.pdf\n"
     ]
    },
    {
     "name": "stderr",
     "output_type": "stream",
     "text": [
      " 39%|███████████████████████████████████████████████████████████████▉                                                                                                    | 76/195 [03:10<03:06,  1.56s/it]"
     ]
    },
    {
     "name": "stdout",
     "output_type": "stream",
     "text": [
      "Game tree saved to file figures/2023-07-19-graphviz/jun26_jun26_3_grace_period-cfr_port_2_no_extoutcome_lin_avg-102_(jul18)_Iteration_21080001-jun26_jun26_3_grace_period.json.pdf\n"
     ]
    },
    {
     "name": "stderr",
     "output_type": "stream",
     "text": [
      " 39%|████████████████████████████████████████████████████████████████▊                                                                                                   | 77/195 [03:11<02:34,  1.31s/it]"
     ]
    },
    {
     "name": "stdout",
     "output_type": "stream",
     "text": [
      "Game tree saved to file figures/2023-07-19-graphviz/jun26_jun26_2_high_speed-cfr_port_2outcome_lin_avg_plus-100_(jul18)_Iteration_23760507-jun26_jun26_2_high_speed.json.pdf\n"
     ]
    },
    {
     "name": "stderr",
     "output_type": "stream",
     "text": [
      " 40%|█████████████████████████████████████████████████████████████████▌                                                                                                  | 78/195 [03:14<03:52,  1.98s/it]"
     ]
    },
    {
     "name": "stdout",
     "output_type": "stream",
     "text": [
      "Game tree saved to file figures/2023-07-19-graphviz/jun26_jun26_0_no_activity-cfr_port_2_no_extoutcome_lin_avg_plus-100_(jul18)_Iteration_15210001-jun26_jun26_0_no_activity.json.pdf\n"
     ]
    },
    {
     "name": "stderr",
     "output_type": "stream",
     "text": [
      " 41%|██████████████████████████████████████████████████████████████████▍                                                                                                 | 79/195 [03:18<05:01,  2.59s/it]"
     ]
    },
    {
     "name": "stdout",
     "output_type": "stream",
     "text": [
      "Game tree saved to file figures/2023-07-19-graphviz/jun26_jun26_3_high_speed-cfr_port_2external_plus-102_(jul18)_Iteration_118248-jun26_jun26_3_high_speed.json.pdf\n"
     ]
    },
    {
     "name": "stderr",
     "output_type": "stream",
     "text": [
      " 41%|███████████████████████████████████████████████████████████████████▎                                                                                                | 80/195 [03:30<10:24,  5.43s/it]"
     ]
    },
    {
     "name": "stdout",
     "output_type": "stream",
     "text": [
      "Game tree saved to file figures/2023-07-19-graphviz/jun26_jun26_2_no_activity-cfr_port_2_no_extoutcome_lin_avg-100_(jul18)_Iteration_14125001-jun26_jun26_2_no_activity.json.pdf\n"
     ]
    },
    {
     "name": "stderr",
     "output_type": "stream",
     "text": [
      " 42%|████████████████████████████████████████████████████████████████████                                                                                                | 81/195 [03:31<07:52,  4.15s/it]"
     ]
    },
    {
     "name": "stdout",
     "output_type": "stream",
     "text": [
      "Game tree saved to file figures/2023-07-19-graphviz/jun26_jun26_1_base-cfr_port_2outcome_lin_avg-100_(jul18)_Iteration_23165892-jun26_jun26_1_base.json.pdf\n"
     ]
    },
    {
     "name": "stderr",
     "output_type": "stream",
     "text": [
      " 42%|████████████████████████████████████████████████████████████████████▉                                                                                               | 82/195 [03:38<09:20,  4.96s/it]"
     ]
    },
    {
     "name": "stdout",
     "output_type": "stream",
     "text": [
      "Game tree saved to file figures/2023-07-19-graphviz/jun26_jun26_2_no_activity-cfr_port_2_no_extoutcome_lin_avg-101_(jul18)_Iteration_14760001-jun26_jun26_2_no_activity.json.pdf\n"
     ]
    },
    {
     "name": "stderr",
     "output_type": "stream",
     "text": [
      " 43%|█████████████████████████████████████████████████████████████████████▊                                                                                              | 83/195 [03:40<07:30,  4.02s/it]"
     ]
    },
    {
     "name": "stdout",
     "output_type": "stream",
     "text": [
      "Game tree saved to file figures/2023-07-19-graphviz/jun26_jun26_1_base-cfr_port_2outcome_lin_avg-101_(jul18)_Iteration_23127826-jun26_jun26_1_base.json.pdf\n"
     ]
    },
    {
     "name": "stderr",
     "output_type": "stream",
     "text": [
      " 43%|██████████████████████████████████████████████████████████████████████▋                                                                                             | 84/195 [03:56<13:54,  7.51s/it]"
     ]
    },
    {
     "name": "stdout",
     "output_type": "stream",
     "text": [
      "Game tree saved to file figures/2023-07-19-graphviz/jun26_jun26_1_no_activity-cfr_port_2_no_extoutcome_lin_avg-101_(jul18)_Iteration_10798087-jun26_jun26_1_no_activity.json.pdf\n"
     ]
    },
    {
     "name": "stderr",
     "output_type": "stream",
     "text": [
      " 44%|███████████████████████████████████████████████████████████████████████▍                                                                                            | 85/195 [03:57<10:14,  5.59s/it]"
     ]
    },
    {
     "name": "stdout",
     "output_type": "stream",
     "text": [
      "Game tree saved to file figures/2023-07-19-graphviz/jun26_jun26_3_medium_speed-cfr_port_2outcome_lin_avg-100_(jul18)_Iteration_28183545-jun26_jun26_3_medium_speed.json.pdf\n"
     ]
    },
    {
     "name": "stderr",
     "output_type": "stream",
     "text": [
      " 44%|████████████████████████████████████████████████████████████████████████▎                                                                                           | 86/195 [04:11<14:51,  8.18s/it]"
     ]
    },
    {
     "name": "stdout",
     "output_type": "stream",
     "text": [
      "Game tree saved to file figures/2023-07-19-graphviz/jun26_jun26_1_no_activity-cfr_port_2_no_extoutcome_lin_avg-100_(jul18)_Iteration_12202893-jun26_jun26_1_no_activity.json.pdf\n"
     ]
    },
    {
     "name": "stderr",
     "output_type": "stream",
     "text": [
      " 45%|█████████████████████████████████████████████████████████████████████████▏                                                                                          | 87/195 [04:12<10:55,  6.07s/it]"
     ]
    },
    {
     "name": "stdout",
     "output_type": "stream",
     "text": [
      "Game tree saved to file figures/2023-07-19-graphviz/jun26_jun26_3_medium_speed-cfr_port_2outcome_lin_avg_plus-102_(jul18)_Iteration_26109691-jun26_jun26_3_medium_speed.json.pdf\n"
     ]
    },
    {
     "name": "stderr",
     "output_type": "stream",
     "text": [
      " 45%|██████████████████████████████████████████████████████████████████████████                                                                                          | 88/195 [04:13<08:04,  4.52s/it]"
     ]
    },
    {
     "name": "stdout",
     "output_type": "stream",
     "text": [
      "Game tree saved to file figures/2023-07-19-graphviz/jun26_jun26_2_grace_period-cfr_port_2_no_extoutcome_lin_avg_plus-100_(jul18)_Iteration_17097139-jun26_jun26_2_grace_period.json.pdf\n"
     ]
    },
    {
     "name": "stderr",
     "output_type": "stream",
     "text": [
      " 46%|██████████████████████████████████████████████████████████████████████████▊                                                                                         | 89/195 [04:14<05:57,  3.38s/it]"
     ]
    },
    {
     "name": "stdout",
     "output_type": "stream",
     "text": [
      "Game tree saved to file figures/2023-07-19-graphviz/jun26_jun26_1_base-cfr_port_2outcome_lin_avg-102_(jul18)_Iteration_23055001-jun26_jun26_1_base.json.pdf\n"
     ]
    },
    {
     "name": "stderr",
     "output_type": "stream",
     "text": [
      " 46%|███████████████████████████████████████████████████████████████████████████▋                                                                                        | 90/195 [04:15<04:34,  2.61s/it]"
     ]
    },
    {
     "name": "stdout",
     "output_type": "stream",
     "text": [
      "Game tree saved to file figures/2023-07-19-graphviz/jun26_jun26_0_grace_period-cfr_port_2_no_extoutcome_lin_avg-102_(jul18)_Iteration_27330527-jun26_jun26_0_grace_period.json.pdf\n"
     ]
    },
    {
     "name": "stderr",
     "output_type": "stream",
     "text": [
      " 47%|████████████████████████████████████████████████████████████████████████████▌                                                                                       | 91/195 [04:21<06:22,  3.68s/it]"
     ]
    },
    {
     "name": "stdout",
     "output_type": "stream",
     "text": [
      "Game tree saved to file figures/2023-07-19-graphviz/jun26_jun26_1_base-cfr_port_2external_plus-100_(jul18)_Iteration_6002-jun26_jun26_1_base.json.pdf\n"
     ]
    },
    {
     "name": "stderr",
     "output_type": "stream",
     "text": [
      " 47%|█████████████████████████████████████████████████████████████████████████████▎                                                                                      | 92/195 [04:28<08:06,  4.72s/it]"
     ]
    },
    {
     "name": "stdout",
     "output_type": "stream",
     "text": [
      "Game tree saved to file figures/2023-07-19-graphviz/jun26_jun26_4_no_activity-cfr_port_2_no_extoutcome_lin_avg-102_(jul18)_Iteration_14450001-jun26_jun26_4_no_activity.json.pdf\n"
     ]
    },
    {
     "name": "stderr",
     "output_type": "stream",
     "text": [
      " 48%|██████████████████████████████████████████████████████████████████████████████▏                                                                                     | 93/195 [04:31<07:12,  4.24s/it]"
     ]
    },
    {
     "name": "stdout",
     "output_type": "stream",
     "text": [
      "Game tree saved to file figures/2023-07-19-graphviz/jun26_jun26_2_high_speed-cfr_port_2external_plus-101_(jul18)_Iteration_14301-jun26_jun26_2_high_speed.json.pdf\n"
     ]
    },
    {
     "name": "stderr",
     "output_type": "stream",
     "text": [
      " 48%|███████████████████████████████████████████████████████████████████████████████                                                                                     | 94/195 [04:32<05:27,  3.24s/it]"
     ]
    },
    {
     "name": "stdout",
     "output_type": "stream",
     "text": [
      "Game tree saved to file figures/2023-07-19-graphviz/jun26_jun26_0_grace_period-cfr_port_2_no_extoutcome_lin_avg_plus-100_(jul18)_Iteration_24900001-jun26_jun26_0_grace_period.json.pdf\n"
     ]
    },
    {
     "name": "stderr",
     "output_type": "stream",
     "text": [
      " 49%|███████████████████████████████████████████████████████████████████████████████▉                                                                                    | 95/195 [04:35<05:05,  3.05s/it]"
     ]
    },
    {
     "name": "stdout",
     "output_type": "stream",
     "text": [
      "Game tree saved to file figures/2023-07-19-graphviz/jun26_jun26_2_high_speed-cfr_port_2external_plus-102_(jul18)_Iteration_25751-jun26_jun26_2_high_speed.json.pdf\n"
     ]
    },
    {
     "name": "stderr",
     "output_type": "stream",
     "text": [
      " 49%|████████████████████████████████████████████████████████████████████████████████▋                                                                                   | 96/195 [04:44<07:55,  4.81s/it]"
     ]
    },
    {
     "name": "stdout",
     "output_type": "stream",
     "text": [
      "Game tree saved to file figures/2023-07-19-graphviz/jun26_jun26_2_no_activity-cfr_port_2_no_extoutcome_lin_avg_plus-100_(jul18)_Iteration_13286572-jun26_jun26_2_no_activity.json.pdf\n"
     ]
    },
    {
     "name": "stderr",
     "output_type": "stream",
     "text": [
      " 50%|█████████████████████████████████████████████████████████████████████████████████▌                                                                                  | 97/195 [04:44<05:58,  3.65s/it]"
     ]
    },
    {
     "name": "stdout",
     "output_type": "stream",
     "text": [
      "Game tree saved to file figures/2023-07-19-graphviz/jun26_jun26_4_medium_speed-cfr_port_2outcome_lin_avg_plus-101_(jul18)_Iteration_21140001-jun26_jun26_4_medium_speed.json.pdf\n"
     ]
    },
    {
     "name": "stderr",
     "output_type": "stream",
     "text": [
      " 50%|██████████████████████████████████████████████████████████████████████████████████▍                                                                                 | 98/195 [04:49<06:29,  4.02s/it]"
     ]
    },
    {
     "name": "stdout",
     "output_type": "stream",
     "text": [
      "Game tree saved to file figures/2023-07-19-graphviz/jun26_jun26_3_no_activity-cfr_port_2_no_extoutcome_lin_avg-102_(jul18)_Iteration_17164156-jun26_jun26_3_no_activity.json.pdf\n"
     ]
    },
    {
     "name": "stderr",
     "output_type": "stream",
     "text": [
      " 51%|███████████████████████████████████████████████████████████████████████████████████▎                                                                                | 99/195 [04:50<05:01,  3.14s/it]"
     ]
    },
    {
     "name": "stdout",
     "output_type": "stream",
     "text": [
      "Game tree saved to file figures/2023-07-19-graphviz/jun26_jun26_4_medium_speed-cfr_port_2outcome_lin_avg_plus-100_(jul18)_Iteration_21160579-jun26_jun26_4_medium_speed.json.pdf\n"
     ]
    },
    {
     "name": "stderr",
     "output_type": "stream",
     "text": [
      " 51%|███████████████████████████████████████████████████████████████████████████████████▌                                                                               | 100/195 [04:52<04:15,  2.69s/it]"
     ]
    },
    {
     "name": "stdout",
     "output_type": "stream",
     "text": [
      "Game tree saved to file figures/2023-07-19-graphviz/jun26_jun26_4_grace_period-cfr_port_2_no_extoutcome_lin_avg-101_(jul18)_Iteration_17921305-jun26_jun26_4_grace_period.json.pdf\n"
     ]
    },
    {
     "name": "stderr",
     "output_type": "stream",
     "text": [
      " 52%|████████████████████████████████████████████████████████████████████████████████████▍                                                                              | 101/195 [04:55<04:09,  2.65s/it]"
     ]
    },
    {
     "name": "stdout",
     "output_type": "stream",
     "text": [
      "Game tree saved to file figures/2023-07-19-graphviz/jun26_jun26_4_medium_speed-cfr_port_2external_plus-100_(jul18)_Iteration_17254-jun26_jun26_4_medium_speed.json.pdf\n"
     ]
    },
    {
     "name": "stderr",
     "output_type": "stream",
     "text": [
      " 52%|█████████████████████████████████████████████████████████████████████████████████████▎                                                                             | 102/195 [04:56<03:40,  2.37s/it]"
     ]
    },
    {
     "name": "stdout",
     "output_type": "stream",
     "text": [
      "Game tree saved to file figures/2023-07-19-graphviz/jun26_jun26_4_grace_period-cfr_port_2_no_extoutcome_lin_avg-100_(jul18)_Iteration_16832257-jun26_jun26_4_grace_period.json.pdf\n"
     ]
    },
    {
     "name": "stderr",
     "output_type": "stream",
     "text": [
      " 53%|██████████████████████████████████████████████████████████████████████████████████████                                                                             | 103/195 [04:59<03:36,  2.35s/it]"
     ]
    },
    {
     "name": "stdout",
     "output_type": "stream",
     "text": [
      "Game tree saved to file figures/2023-07-19-graphviz/jun26_jun26_3_grace_period-cfr_port_2_no_extoutcome_lin_avg_plus-100_(jul18)_Iteration_19770345-jun26_jun26_3_grace_period.json.pdf\n"
     ]
    },
    {
     "name": "stderr",
     "output_type": "stream",
     "text": [
      " 53%|██████████████████████████████████████████████████████████████████████████████████████▉                                                                            | 104/195 [05:00<03:18,  2.18s/it]"
     ]
    },
    {
     "name": "stdout",
     "output_type": "stream",
     "text": [
      "Game tree saved to file figures/2023-07-19-graphviz/jun26_jun26_4_medium_speed-cfr_port_2external_plus-101_(jul18)_Iteration_14293-jun26_jun26_4_medium_speed.json.pdf\n"
     ]
    },
    {
     "name": "stderr",
     "output_type": "stream",
     "text": [
      " 54%|███████████████████████████████████████████████████████████████████████████████████████▊                                                                           | 105/195 [05:03<03:20,  2.23s/it]"
     ]
    },
    {
     "name": "stdout",
     "output_type": "stream",
     "text": [
      "Game tree saved to file figures/2023-07-19-graphviz/jun26_jun26_4_grace_period-cfr_port_2_no_extoutcome_lin_avg-102_(jul18)_Iteration_18914918-jun26_jun26_4_grace_period.json.pdf\n"
     ]
    },
    {
     "name": "stderr",
     "output_type": "stream",
     "text": [
      " 54%|████████████████████████████████████████████████████████████████████████████████████████▌                                                                          | 106/195 [05:08<04:25,  2.99s/it]"
     ]
    },
    {
     "name": "stdout",
     "output_type": "stream",
     "text": [
      "Game tree saved to file figures/2023-07-19-graphviz/jun26_jun26_1_medium_speed-cfr_port_2external_plus-100_(jul18)_Iteration_13517-jun26_jun26_1_medium_speed.json.pdf\n"
     ]
    },
    {
     "name": "stderr",
     "output_type": "stream",
     "text": [
      " 55%|█████████████████████████████████████████████████████████████████████████████████████████▍                                                                         | 107/195 [05:13<05:31,  3.76s/it]"
     ]
    },
    {
     "name": "stdout",
     "output_type": "stream",
     "text": [
      "Game tree saved to file figures/2023-07-19-graphviz/jun26_jun26_1_medium_speed-cfr_port_2external_plus-101_(jul18)_Iteration_19722-jun26_jun26_1_medium_speed.json.pdf\n"
     ]
    },
    {
     "name": "stderr",
     "output_type": "stream",
     "text": [
      " 55%|██████████████████████████████████████████████████████████████████████████████████████████▎                                                                        | 108/195 [05:33<12:23,  8.55s/it]"
     ]
    },
    {
     "name": "stdout",
     "output_type": "stream",
     "text": [
      "Game tree saved to file figures/2023-07-19-graphviz/jun26_jun26_1_no_activity-cfr_port_2_no_extoutcome_lin_avg_plus-101_(jul18)_Iteration_10003343-jun26_jun26_1_no_activity.json.pdf\n"
     ]
    },
    {
     "name": "stderr",
     "output_type": "stream",
     "text": [
      " 56%|███████████████████████████████████████████████████████████████████████████████████████████                                                                        | 109/195 [05:48<14:53, 10.39s/it]"
     ]
    },
    {
     "name": "stdout",
     "output_type": "stream",
     "text": [
      "Game tree saved to file figures/2023-07-19-graphviz/jun26_jun26_1_no_activity-cfr_port_2_no_extoutcome_lin_avg_plus-102_(jul18)_Iteration_10505001-jun26_jun26_1_no_activity.json.pdf\n"
     ]
    },
    {
     "name": "stderr",
     "output_type": "stream",
     "text": [
      " 56%|███████████████████████████████████████████████████████████████████████████████████████████▉                                                                       | 110/195 [05:49<11:06,  7.85s/it]"
     ]
    },
    {
     "name": "stdout",
     "output_type": "stream",
     "text": [
      "Game tree saved to file figures/2023-07-19-graphviz/jun26_jun26_0_base-cfr_port_2external_plus-102_(jul18)_Iteration_137656-jun26_jun26_0_base.json.pdf\n"
     ]
    },
    {
     "name": "stderr",
     "output_type": "stream",
     "text": [
      " 57%|████████████████████████████████████████████████████████████████████████████████████████████▊                                                                      | 111/195 [05:51<08:30,  6.08s/it]"
     ]
    },
    {
     "name": "stdout",
     "output_type": "stream",
     "text": [
      "Game tree saved to file figures/2023-07-19-graphviz/jun26_jun26_0_base-cfr_port_2external_plus-101_(jul18)_Iteration_122994-jun26_jun26_0_base.json.pdf\n"
     ]
    },
    {
     "name": "stderr",
     "output_type": "stream",
     "text": [
      " 57%|█████████████████████████████████████████████████████████████████████████████████████████████▌                                                                     | 112/195 [06:00<09:27,  6.84s/it]"
     ]
    },
    {
     "name": "stdout",
     "output_type": "stream",
     "text": [
      "Game tree saved to file figures/2023-07-19-graphviz/jun26_jun26_2_no_activity-cfr_port_2_no_extoutcome_lin_avg_plus-102_(jul18)_Iteration_13217851-jun26_jun26_2_no_activity.json.pdf\n"
     ]
    },
    {
     "name": "stderr",
     "output_type": "stream",
     "text": [
      " 58%|██████████████████████████████████████████████████████████████████████████████████████████████▍                                                                    | 113/195 [06:01<06:52,  5.04s/it]"
     ]
    },
    {
     "name": "stdout",
     "output_type": "stream",
     "text": [
      "Game tree saved to file figures/2023-07-19-graphviz/jun26_jun26_0_high_speed-cfr_port_2outcome_lin_avg_plus-101_(jul18)_Iteration_27957300-jun26_jun26_0_high_speed.json.pdf\n"
     ]
    },
    {
     "name": "stderr",
     "output_type": "stream",
     "text": [
      " 58%|███████████████████████████████████████████████████████████████████████████████████████████████▎                                                                   | 114/195 [06:02<05:10,  3.84s/it]"
     ]
    },
    {
     "name": "stdout",
     "output_type": "stream",
     "text": [
      "Game tree saved to file figures/2023-07-19-graphviz/jun26_jun26_1_medium_speed-cfr_port_2outcome_lin_avg_plus-100_(jul18)_Iteration_22780001-jun26_jun26_1_medium_speed.json.pdf\n"
     ]
    },
    {
     "name": "stderr",
     "output_type": "stream",
     "text": [
      " 59%|████████████████████████████████████████████████████████████████████████████████████████████████▏                                                                  | 115/195 [06:10<07:02,  5.28s/it]"
     ]
    },
    {
     "name": "stdout",
     "output_type": "stream",
     "text": [
      "Game tree saved to file figures/2023-07-19-graphviz/jun26_jun26_2_no_activity-cfr_port_2_no_extoutcome_lin_avg_plus-101_(jul18)_Iteration_13564886-jun26_jun26_2_no_activity.json.pdf\n"
     ]
    },
    {
     "name": "stderr",
     "output_type": "stream",
     "text": [
      " 59%|████████████████████████████████████████████████████████████████████████████████████████████████▉                                                                  | 116/195 [06:12<05:19,  4.04s/it]"
     ]
    },
    {
     "name": "stdout",
     "output_type": "stream",
     "text": [
      "Game tree saved to file figures/2023-07-19-graphviz/jun26_jun26_0_grace_period-cfr_port_2_no_extoutcome_lin_avg-100_(jul18)_Iteration_27861848-jun26_jun26_0_grace_period.json.pdf\n"
     ]
    },
    {
     "name": "stderr",
     "output_type": "stream",
     "text": [
      " 60%|█████████████████████████████████████████████████████████████████████████████████████████████████▊                                                                 | 117/195 [06:12<03:49,  2.94s/it]"
     ]
    },
    {
     "name": "stdout",
     "output_type": "stream",
     "text": [
      "Game tree saved to file figures/2023-07-19-graphviz/jun26_jun26_0_high_speed-cfr_port_2outcome_lin_avg_plus-100_(jul18)_Iteration_27485673-jun26_jun26_0_high_speed.json.pdf\n"
     ]
    },
    {
     "name": "stderr",
     "output_type": "stream",
     "text": [
      " 61%|██████████████████████████████████████████████████████████████████████████████████████████████████▋                                                                | 118/195 [06:14<03:14,  2.52s/it]"
     ]
    },
    {
     "name": "stdout",
     "output_type": "stream",
     "text": [
      "Game tree saved to file figures/2023-07-19-graphviz/jun26_jun26_1_medium_speed-cfr_port_2outcome_lin_avg_plus-101_(jul18)_Iteration_22016806-jun26_jun26_1_medium_speed.json.pdf\n"
     ]
    },
    {
     "name": "stderr",
     "output_type": "stream",
     "text": [
      " 61%|███████████████████████████████████████████████████████████████████████████████████████████████████▍                                                               | 119/195 [06:17<03:38,  2.88s/it]"
     ]
    },
    {
     "name": "stdout",
     "output_type": "stream",
     "text": [
      "Game tree saved to file figures/2023-07-19-graphviz/jun26_jun26_2_medium_speed-cfr_port_2external_plus-102_(jul18)_Iteration_12163-jun26_jun26_2_medium_speed.json.pdf\n"
     ]
    },
    {
     "name": "stderr",
     "output_type": "stream",
     "text": [
      " 62%|████████████████████████████████████████████████████████████████████████████████████████████████████▎                                                              | 120/195 [06:18<02:47,  2.23s/it]"
     ]
    },
    {
     "name": "stdout",
     "output_type": "stream",
     "text": [
      "Game tree saved to file figures/2023-07-19-graphviz/jun26_jun26_0_base-cfr_port_2outcome_lin_avg_plus-102_(jul18)_Iteration_22391763-jun26_jun26_0_base.json.pdf\n"
     ]
    },
    {
     "name": "stderr",
     "output_type": "stream",
     "text": [
      " 62%|█████████████████████████████████████████████████████████████████████████████████████████████████████▏                                                             | 121/195 [06:19<02:13,  1.80s/it]"
     ]
    },
    {
     "name": "stdout",
     "output_type": "stream",
     "text": [
      "Game tree saved to file figures/2023-07-19-graphviz/jun26_jun26_0_grace_period-cfr_port_2_no_extoutcome_lin_avg-101_(jul18)_Iteration_24941001-jun26_jun26_0_grace_period.json.pdf\n"
     ]
    },
    {
     "name": "stderr",
     "output_type": "stream",
     "text": [
      " 63%|█████████████████████████████████████████████████████████████████████████████████████████████████████▉                                                             | 122/195 [06:31<06:04,  5.00s/it]"
     ]
    },
    {
     "name": "stdout",
     "output_type": "stream",
     "text": [
      "Game tree saved to file figures/2023-07-19-graphviz/jun26_jun26_1_no_activity-cfr_port_2_no_extoutcome_lin_avg-102_(jul18)_Iteration_14440001-jun26_jun26_1_no_activity.json.pdf\n"
     ]
    },
    {
     "name": "stderr",
     "output_type": "stream",
     "text": [
      " 63%|██████████████████████████████████████████████████████████████████████████████████████████████████████▊                                                            | 123/195 [06:32<04:35,  3.83s/it]"
     ]
    },
    {
     "name": "stdout",
     "output_type": "stream",
     "text": [
      "Game tree saved to file figures/2023-07-19-graphviz/jun26_jun26_0_medium_speed-cfr_port_2outcome_lin_avg_plus-100_(jul18)_Iteration_23869900-jun26_jun26_0_medium_speed.json.pdf\n"
     ]
    },
    {
     "name": "stderr",
     "output_type": "stream",
     "text": [
      " 64%|███████████████████████████████████████████████████████████████████████████████████████████████████████▋                                                           | 124/195 [06:33<03:22,  2.85s/it]"
     ]
    },
    {
     "name": "stdout",
     "output_type": "stream",
     "text": [
      "Game tree saved to file figures/2023-07-19-graphviz/jun26_jun26_0_base-cfr_port_2outcome_lin_avg_plus-101_(jul18)_Iteration_22585295-jun26_jun26_0_base.json.pdf\n"
     ]
    },
    {
     "name": "stderr",
     "output_type": "stream",
     "text": [
      " 64%|████████████████████████████████████████████████████████████████████████████████████████████████████████▍                                                          | 125/195 [06:33<02:28,  2.12s/it]"
     ]
    },
    {
     "name": "stdout",
     "output_type": "stream",
     "text": [
      "Game tree saved to file figures/2023-07-19-graphviz/jun26_jun26_2_medium_speed-cfr_port_2outcome_lin_avg-102_(jul18)_Iteration_31052794-jun26_jun26_2_medium_speed.json.pdf\n"
     ]
    },
    {
     "name": "stderr",
     "output_type": "stream",
     "text": [
      " 65%|█████████████████████████████████████████████████████████████████████████████████████████████████████████▎                                                         | 126/195 [06:34<01:48,  1.57s/it]"
     ]
    },
    {
     "name": "stdout",
     "output_type": "stream",
     "text": [
      "Game tree saved to file figures/2023-07-19-graphviz/jun26_jun26_3_medium_speed-cfr_port_2outcome_lin_avg_plus-100_(jul18)_Iteration_25474146-jun26_jun26_3_medium_speed.json.pdf\n"
     ]
    },
    {
     "name": "stderr",
     "output_type": "stream",
     "text": [
      " 65%|██████████████████████████████████████████████████████████████████████████████████████████████████████████▏                                                        | 127/195 [06:34<01:21,  1.19s/it]"
     ]
    },
    {
     "name": "stdout",
     "output_type": "stream",
     "text": [
      "Game tree saved to file figures/2023-07-19-graphviz/jun26_jun26_2_medium_speed-cfr_port_2outcome_lin_avg-101_(jul18)_Iteration_29725001-jun26_jun26_2_medium_speed.json.pdf\n"
     ]
    },
    {
     "name": "stderr",
     "output_type": "stream",
     "text": [
      " 66%|██████████████████████████████████████████████████████████████████████████████████████████████████████████▉                                                        | 128/195 [06:34<01:03,  1.06it/s]"
     ]
    },
    {
     "name": "stdout",
     "output_type": "stream",
     "text": [
      "Game tree saved to file figures/2023-07-19-graphviz/jun26_jun26_3_medium_speed-cfr_port_2outcome_lin_avg_plus-101_(jul18)_Iteration_25468537-jun26_jun26_3_medium_speed.json.pdf\n"
     ]
    },
    {
     "name": "stderr",
     "output_type": "stream",
     "text": [
      " 66%|███████████████████████████████████████████████████████████████████████████████████████████████████████████▊                                                       | 129/195 [06:37<01:28,  1.34s/it]"
     ]
    },
    {
     "name": "stdout",
     "output_type": "stream",
     "text": [
      "Game tree saved to file figures/2023-07-19-graphviz/jun26_jun26_2_medium_speed-cfr_port_2external_plus-100_(jul18)_Iteration_19662-jun26_jun26_2_medium_speed.json.pdf\n"
     ]
    },
    {
     "name": "stderr",
     "output_type": "stream",
     "text": [
      " 67%|████████████████████████████████████████████████████████████████████████████████████████████████████████████▋                                                      | 130/195 [06:37<01:13,  1.13s/it]"
     ]
    },
    {
     "name": "stdout",
     "output_type": "stream",
     "text": [
      "Game tree saved to file figures/2023-07-19-graphviz/jun26_jun26_1_high_speed-cfr_port_2outcome_lin_avg_plus-100_(jul18)_Iteration_25797467-jun26_jun26_1_high_speed.json.pdf\n"
     ]
    },
    {
     "name": "stderr",
     "output_type": "stream",
     "text": [
      " 67%|█████████████████████████████████████████████████████████████████████████████████████████████████████████████▌                                                     | 131/195 [06:41<01:56,  1.82s/it]"
     ]
    },
    {
     "name": "stdout",
     "output_type": "stream",
     "text": [
      "Game tree saved to file figures/2023-07-19-graphviz/jun26_jun26_2_medium_speed-cfr_port_2external_plus-101_(jul18)_Iteration_8235-jun26_jun26_2_medium_speed.json.pdf\n"
     ]
    },
    {
     "name": "stderr",
     "output_type": "stream",
     "text": [
      " 68%|██████████████████████████████████████████████████████████████████████████████████████████████████████████████▎                                                    | 132/195 [06:43<01:59,  1.89s/it]"
     ]
    },
    {
     "name": "stdout",
     "output_type": "stream",
     "text": [
      "Game tree saved to file figures/2023-07-19-graphviz/jun26_jun26_3_medium_speed-cfr_port_2external_plus-102_(jul18)_Iteration_73458-jun26_jun26_3_medium_speed.json.pdf\n"
     ]
    },
    {
     "name": "stderr",
     "output_type": "stream",
     "text": [
      " 68%|███████████████████████████████████████████████████████████████████████████████████████████████████████████████▏                                                   | 133/195 [06:43<01:32,  1.49s/it]"
     ]
    },
    {
     "name": "stdout",
     "output_type": "stream",
     "text": [
      "Game tree saved to file figures/2023-07-19-graphviz/jun26_jun26_4_high_speed-cfr_port_2outcome_lin_avg_plus-102_(jul18)_Iteration_25020001-jun26_jun26_4_high_speed.json.pdf\n"
     ]
    },
    {
     "name": "stderr",
     "output_type": "stream",
     "text": [
      " 69%|████████████████████████████████████████████████████████████████████████████████████████████████████████████████                                                   | 134/195 [06:45<01:42,  1.69s/it]"
     ]
    },
    {
     "name": "stdout",
     "output_type": "stream",
     "text": [
      "Game tree saved to file figures/2023-07-19-graphviz/jun26_jun26_1_base-cfr_port_2outcome_lin_avg_plus-101_(jul18)_Iteration_21463100-jun26_jun26_1_base.json.pdf\n"
     ]
    },
    {
     "name": "stderr",
     "output_type": "stream",
     "text": [
      " 69%|████████████████████████████████████████████████████████████████████████████████████████████████████████████████▊                                                  | 135/195 [06:46<01:18,  1.31s/it]"
     ]
    },
    {
     "name": "stdout",
     "output_type": "stream",
     "text": [
      "Game tree saved to file figures/2023-07-19-graphviz/jun26_jun26_4_high_speed-cfr_port_2outcome_lin_avg_plus-101_(jul18)_Iteration_24810160-jun26_jun26_4_high_speed.json.pdf\n"
     ]
    },
    {
     "name": "stderr",
     "output_type": "stream",
     "text": [
      " 70%|█████████████████████████████████████████████████████████████████████████████████████████████████████████████████▋                                                 | 136/195 [06:46<01:00,  1.03s/it]"
     ]
    },
    {
     "name": "stdout",
     "output_type": "stream",
     "text": [
      "Game tree saved to file figures/2023-07-19-graphviz/jun26_jun26_1_base-cfr_port_2outcome_lin_avg_plus-102_(jul18)_Iteration_20782314-jun26_jun26_1_base.json.pdf\n"
     ]
    },
    {
     "name": "stderr",
     "output_type": "stream",
     "text": [
      " 70%|██████████████████████████████████████████████████████████████████████████████████████████████████████████████████▌                                                | 137/195 [06:48<01:09,  1.19s/it]"
     ]
    },
    {
     "name": "stdout",
     "output_type": "stream",
     "text": [
      "Game tree saved to file figures/2023-07-19-graphviz/jun26_jun26_4_base-cfr_port_2outcome_lin_avg_plus-101_(jul18)_Iteration_17476113-jun26_jun26_4_base.json.pdf\n"
     ]
    },
    {
     "name": "stderr",
     "output_type": "stream",
     "text": [
      " 71%|███████████████████████████████████████████████████████████████████████████████████████████████████████████████████▎                                               | 138/195 [06:49<01:07,  1.19s/it]"
     ]
    },
    {
     "name": "stdout",
     "output_type": "stream",
     "text": [
      "Game tree saved to file figures/2023-07-19-graphviz/jun26_jun26_1_medium_speed-cfr_port_2outcome_lin_avg-102_(jul18)_Iteration_26074827-jun26_jun26_1_medium_speed.json.pdf\n"
     ]
    },
    {
     "name": "stderr",
     "output_type": "stream",
     "text": [
      " 71%|████████████████████████████████████████████████████████████████████████████████████████████████████████████████████▏                                              | 139/195 [06:51<01:13,  1.31s/it]"
     ]
    },
    {
     "name": "stdout",
     "output_type": "stream",
     "text": [
      "Game tree saved to file figures/2023-07-19-graphviz/jun26_jun26_4_base-cfr_port_2outcome_lin_avg_plus-102_(jul18)_Iteration_17570100-jun26_jun26_4_base.json.pdf\n"
     ]
    },
    {
     "name": "stderr",
     "output_type": "stream",
     "text": [
      " 72%|█████████████████████████████████████████████████████████████████████████████████████████████████████████████████████                                              | 140/195 [06:51<01:00,  1.10s/it]"
     ]
    },
    {
     "name": "stdout",
     "output_type": "stream",
     "text": [
      "Game tree saved to file figures/2023-07-19-graphviz/jun26_jun26_1_medium_speed-cfr_port_2outcome_lin_avg-101_(jul18)_Iteration_27467821-jun26_jun26_1_medium_speed.json.pdf\n"
     ]
    },
    {
     "name": "stderr",
     "output_type": "stream",
     "text": [
      " 72%|█████████████████████████████████████████████████████████████████████████████████████████████████████████████████████▊                                             | 141/195 [06:57<02:11,  2.43s/it]"
     ]
    },
    {
     "name": "stdout",
     "output_type": "stream",
     "text": [
      "Game tree saved to file figures/2023-07-19-graphviz/jun26_jun26_3_base-cfr_port_2external_plus-100_(jul18)_Iteration_28463-jun26_jun26_3_base.json.pdf\n"
     ]
    },
    {
     "name": "stderr",
     "output_type": "stream",
     "text": [
      " 73%|██████████████████████████████████████████████████████████████████████████████████████████████████████████████████████▋                                            | 142/195 [06:59<02:12,  2.51s/it]"
     ]
    },
    {
     "name": "stdout",
     "output_type": "stream",
     "text": [
      "Game tree saved to file figures/2023-07-19-graphviz/jun26_jun26_3_medium_speed-cfr_port_2external_plus-101_(jul18)_Iteration_147066-jun26_jun26_3_medium_speed.json.pdf\n"
     ]
    },
    {
     "name": "stderr",
     "output_type": "stream",
     "text": [
      " 73%|███████████████████████████████████████████████████████████████████████████████████████████████████████████████████████▌                                           | 143/195 [07:02<02:14,  2.58s/it]"
     ]
    },
    {
     "name": "stdout",
     "output_type": "stream",
     "text": [
      "Game tree saved to file figures/2023-07-19-graphviz/jun26_jun26_3_high_speed-cfr_port_2external_plus-101_(jul18)_Iteration_68956-jun26_jun26_3_high_speed.json.pdf\n"
     ]
    },
    {
     "name": "stderr",
     "output_type": "stream",
     "text": [
      " 74%|████████████████████████████████████████████████████████████████████████████████████████████████████████████████████████▎                                          | 144/195 [07:06<02:31,  2.98s/it]"
     ]
    },
    {
     "name": "stdout",
     "output_type": "stream",
     "text": [
      "Game tree saved to file figures/2023-07-19-graphviz/jun26_jun26_3_medium_speed-cfr_port_2external_plus-100_(jul18)_Iteration_237584-jun26_jun26_3_medium_speed.json.pdf\n"
     ]
    },
    {
     "name": "stderr",
     "output_type": "stream",
     "text": [
      " 74%|█████████████████████████████████████████████████████████████████████████████████████████████████████████████████████████▏                                         | 145/195 [07:11<03:03,  3.67s/it]"
     ]
    },
    {
     "name": "stdout",
     "output_type": "stream",
     "text": [
      "Game tree saved to file figures/2023-07-19-graphviz/jun26_jun26_3_high_speed-cfr_port_2external_plus-100_(jul18)_Iteration_77596-jun26_jun26_3_high_speed.json.pdf\n"
     ]
    },
    {
     "name": "stderr",
     "output_type": "stream",
     "text": [
      " 75%|██████████████████████████████████████████████████████████████████████████████████████████████████████████████████████████                                         | 146/195 [07:16<03:13,  3.96s/it]"
     ]
    },
    {
     "name": "stdout",
     "output_type": "stream",
     "text": [
      "Game tree saved to file figures/2023-07-19-graphviz/jun26_jun26_1_medium_speed-cfr_port_2external_plus-102_(jul18)_Iteration_16706-jun26_jun26_1_medium_speed.json.pdf\n"
     ]
    },
    {
     "name": "stderr",
     "output_type": "stream",
     "text": [
      " 75%|██████████████████████████████████████████████████████████████████████████████████████████████████████████████████████████▉                                        | 147/195 [07:21<03:25,  4.28s/it]"
     ]
    },
    {
     "name": "stdout",
     "output_type": "stream",
     "text": [
      "Game tree saved to file figures/2023-07-19-graphviz/jun26_jun26_3_base-cfr_port_2external_plus-101_(jul18)_Iteration_25143-jun26_jun26_3_base.json.pdf\n"
     ]
    },
    {
     "name": "stderr",
     "output_type": "stream",
     "text": [
      " 76%|███████████████████████████████████████████████████████████████████████████████████████████████████████████████████████████▋                                       | 148/195 [07:22<02:33,  3.27s/it]"
     ]
    },
    {
     "name": "stdout",
     "output_type": "stream",
     "text": [
      "Game tree saved to file figures/2023-07-19-graphviz/jun26_jun26_0_base-cfr_port_2outcome_lin_avg_plus-100_(jul18)_Iteration_22775001-jun26_jun26_0_base.json.pdf\n"
     ]
    },
    {
     "name": "stderr",
     "output_type": "stream",
     "text": [
      " 76%|████████████████████████████████████████████████████████████████████████████████████████████████████████████████████████████▌                                      | 149/195 [07:24<02:21,  3.07s/it]"
     ]
    },
    {
     "name": "stdout",
     "output_type": "stream",
     "text": [
      "Game tree saved to file figures/2023-07-19-graphviz/jun26_jun26_2_medium_speed-cfr_port_2outcome_lin_avg_plus-100_(jul18)_Iteration_20705001-jun26_jun26_2_medium_speed.json.pdf\n"
     ]
    },
    {
     "name": "stderr",
     "output_type": "stream",
     "text": [
      " 77%|█████████████████████████████████████████████████████████████████████████████████████████████████████████████████████████████▍                                     | 150/195 [07:25<01:44,  2.33s/it]"
     ]
    },
    {
     "name": "stdout",
     "output_type": "stream",
     "text": [
      "Game tree saved to file figures/2023-07-19-graphviz/jun26_jun26_4_medium_speed-cfr_port_2outcome_lin_avg-101_(jul18)_Iteration_21919276-jun26_jun26_4_medium_speed.json.pdf\n"
     ]
    },
    {
     "name": "stderr",
     "output_type": "stream",
     "text": [
      " 77%|██████████████████████████████████████████████████████████████████████████████████████████████████████████████████████████████▏                                    | 151/195 [07:27<01:41,  2.30s/it]"
     ]
    },
    {
     "name": "stdout",
     "output_type": "stream",
     "text": [
      "Game tree saved to file figures/2023-07-19-graphviz/jun26_jun26_2_medium_speed-cfr_port_2outcome_lin_avg_plus-101_(jul18)_Iteration_20822753-jun26_jun26_2_medium_speed.json.pdf\n"
     ]
    },
    {
     "name": "stderr",
     "output_type": "stream",
     "text": [
      " 78%|███████████████████████████████████████████████████████████████████████████████████████████████████████████████████████████████                                    | 152/195 [07:28<01:15,  1.75s/it]"
     ]
    },
    {
     "name": "stdout",
     "output_type": "stream",
     "text": [
      "Game tree saved to file figures/2023-07-19-graphviz/jun26_jun26_4_medium_speed-cfr_port_2outcome_lin_avg-102_(jul18)_Iteration_23729884-jun26_jun26_4_medium_speed.json.pdf\n"
     ]
    },
    {
     "name": "stderr",
     "output_type": "stream",
     "text": [
      " 78%|███████████████████████████████████████████████████████████████████████████████████████████████████████████████████████████████▉                                   | 153/195 [07:29<01:02,  1.49s/it]"
     ]
    },
    {
     "name": "stdout",
     "output_type": "stream",
     "text": [
      "Game tree saved to file figures/2023-07-19-graphviz/jun26_jun26_0_medium_speed-cfr_port_2external_plus-102_(jul18)_Iteration_433310-jun26_jun26_0_medium_speed.json.pdf\n"
     ]
    },
    {
     "name": "stderr",
     "output_type": "stream",
     "text": [
      " 79%|████████████████████████████████████████████████████████████████████████████████████████████████████████████████████████████████▋                                  | 154/195 [07:29<00:46,  1.12s/it]"
     ]
    },
    {
     "name": "stdout",
     "output_type": "stream",
     "text": [
      "Game tree saved to file figures/2023-07-19-graphviz/jun26_jun26_2_high_speed-cfr_port_2outcome_lin_avg-100_(jul18)_Iteration_31479256-jun26_jun26_2_high_speed.json.pdf\n"
     ]
    },
    {
     "name": "stderr",
     "output_type": "stream",
     "text": [
      " 79%|█████████████████████████████████████████████████████████████████████████████████████████████████████████████████████████████████▌                                 | 155/195 [07:30<00:41,  1.03s/it]"
     ]
    },
    {
     "name": "stdout",
     "output_type": "stream",
     "text": [
      "Game tree saved to file figures/2023-07-19-graphviz/jun26_jun26_0_medium_speed-cfr_port_2external_plus-101_(jul18)_Iteration_692250-jun26_jun26_0_medium_speed.json.pdf\n"
     ]
    },
    {
     "name": "stderr",
     "output_type": "stream",
     "text": [
      " 80%|██████████████████████████████████████████████████████████████████████████████████████████████████████████████████████████████████▍                                | 156/195 [07:31<00:38,  1.02it/s]"
     ]
    },
    {
     "name": "stdout",
     "output_type": "stream",
     "text": [
      "Game tree saved to file figures/2023-07-19-graphviz/jun26_jun26_2_high_speed-cfr_port_2outcome_lin_avg-101_(jul18)_Iteration_31890001-jun26_jun26_2_high_speed.json.pdf\n"
     ]
    },
    {
     "name": "stderr",
     "output_type": "stream",
     "text": [
      " 81%|███████████████████████████████████████████████████████████████████████████████████████████████████████████████████████████████████▏                               | 157/195 [07:32<00:41,  1.08s/it]"
     ]
    },
    {
     "name": "stdout",
     "output_type": "stream",
     "text": [
      "Game tree saved to file figures/2023-07-19-graphviz/jun26_jun26_4_high_speed-cfr_port_2external_plus-100_(jul18)_Iteration_33053-jun26_jun26_4_high_speed.json.pdf\n"
     ]
    },
    {
     "name": "stderr",
     "output_type": "stream",
     "text": [
      " 81%|████████████████████████████████████████████████████████████████████████████████████████████████████████████████████████████████████                               | 158/195 [07:33<00:34,  1.07it/s]"
     ]
    },
    {
     "name": "stdout",
     "output_type": "stream",
     "text": [
      "Game tree saved to file figures/2023-07-19-graphviz/jun26_jun26_1_high_speed-cfr_port_2outcome_lin_avg_plus-101_(jul18)_Iteration_26083996-jun26_jun26_1_high_speed.json.pdf\n"
     ]
    },
    {
     "name": "stderr",
     "output_type": "stream",
     "text": [
      " 82%|████████████████████████████████████████████████████████████████████████████████████████████████████████████████████████████████████▉                              | 159/195 [07:33<00:25,  1.39it/s]"
     ]
    },
    {
     "name": "stdout",
     "output_type": "stream",
     "text": [
      "Game tree saved to file figures/2023-07-19-graphviz/jun26_jun26_4_high_speed-cfr_port_2outcome_lin_avg-102_(jul18)_Iteration_28290564-jun26_jun26_4_high_speed.json.pdf\n"
     ]
    },
    {
     "name": "stderr",
     "output_type": "stream",
     "text": [
      " 82%|█████████████████████████████████████████████████████████████████████████████████████████████████████████████████████████████████████▋                             | 160/195 [07:33<00:22,  1.53it/s]"
     ]
    },
    {
     "name": "stdout",
     "output_type": "stream",
     "text": [
      "Game tree saved to file figures/2023-07-19-graphviz/jun26_jun26_1_high_speed-cfr_port_2outcome_lin_avg_plus-102_(jul18)_Iteration_25867993-jun26_jun26_1_high_speed.json.pdf\n"
     ]
    },
    {
     "name": "stderr",
     "output_type": "stream",
     "text": [
      " 83%|██████████████████████████████████████████████████████████████████████████████████████████████████████████████████████████████████████▌                            | 161/195 [07:39<01:13,  2.17s/it]"
     ]
    },
    {
     "name": "stdout",
     "output_type": "stream",
     "text": [
      "Game tree saved to file figures/2023-07-19-graphviz/jun26_jun26_3_base-cfr_port_2external_plus-102_(jul18)_Iteration_27497-jun26_jun26_3_base.json.pdf\n"
     ]
    },
    {
     "name": "stderr",
     "output_type": "stream",
     "text": [
      " 83%|███████████████████████████████████████████████████████████████████████████████████████████████████████████████████████████████████████▍                           | 162/195 [07:44<01:41,  3.07s/it]"
     ]
    },
    {
     "name": "stdout",
     "output_type": "stream",
     "text": [
      "Game tree saved to file figures/2023-07-19-graphviz/jun26_jun26_2_base-cfr_port_2external_plus-102_(jul18)_Iteration_3729-jun26_jun26_2_base.json.pdf\n"
     ]
    },
    {
     "name": "stderr",
     "output_type": "stream",
     "text": [
      " 84%|████████████████████████████████████████████████████████████████████████████████████████████████████████████████████████████████████████▎                          | 163/195 [07:45<01:15,  2.34s/it]"
     ]
    },
    {
     "name": "stdout",
     "output_type": "stream",
     "text": [
      "Game tree saved to file figures/2023-07-19-graphviz/jun26_jun26_4_high_speed-cfr_port_2outcome_lin_avg_plus-100_(jul18)_Iteration_25855374-jun26_jun26_4_high_speed.json.pdf\n"
     ]
    },
    {
     "name": "stderr",
     "output_type": "stream",
     "text": [
      " 84%|█████████████████████████████████████████████████████████████████████████████████████████████████████████████████████████████████████████                          | 164/195 [07:49<01:34,  3.06s/it]"
     ]
    },
    {
     "name": "stdout",
     "output_type": "stream",
     "text": [
      "Game tree saved to file figures/2023-07-19-graphviz/jun26_jun26_1_high_speed-cfr_port_2external_plus-100_(jul18)_Iteration_38889-jun26_jun26_1_high_speed.json.pdf\n"
     ]
    },
    {
     "name": "stderr",
     "output_type": "stream",
     "text": [
      " 85%|█████████████████████████████████████████████████████████████████████████████████████████████████████████████████████████████████████████▉                         | 165/195 [07:50<01:10,  2.36s/it]"
     ]
    },
    {
     "name": "stdout",
     "output_type": "stream",
     "text": [
      "Game tree saved to file figures/2023-07-19-graphviz/jun26_jun26_0_medium_speed-cfr_port_2outcome_lin_avg_plus-102_(jul18)_Iteration_25278130-jun26_jun26_0_medium_speed.json.pdf\n"
     ]
    },
    {
     "name": "stderr",
     "output_type": "stream",
     "text": [
      " 85%|██████████████████████████████████████████████████████████████████████████████████████████████████████████████████████████████████████████▊                        | 166/195 [07:51<00:50,  1.74s/it]"
     ]
    },
    {
     "name": "stdout",
     "output_type": "stream",
     "text": [
      "Game tree saved to file figures/2023-07-19-graphviz/jun26_jun26_1_high_speed-cfr_port_2outcome_lin_avg-102_(jul18)_Iteration_27182766-jun26_jun26_1_high_speed.json.pdf\n"
     ]
    },
    {
     "name": "stderr",
     "output_type": "stream",
     "text": [
      " 86%|███████████████████████████████████████████████████████████████████████████████████████████████████████████████████████████████████████████▌                       | 167/195 [07:51<00:36,  1.31s/it]"
     ]
    },
    {
     "name": "stdout",
     "output_type": "stream",
     "text": [
      "Game tree saved to file figures/2023-07-19-graphviz/jun26_jun26_0_medium_speed-cfr_port_2outcome_lin_avg_plus-101_(jul18)_Iteration_26863983-jun26_jun26_0_medium_speed.json.pdf\n"
     ]
    },
    {
     "name": "stderr",
     "output_type": "stream",
     "text": [
      " 86%|████████████████████████████████████████████████████████████████████████████████████████████████████████████████████████████████████████████▍                      | 168/195 [07:51<00:26,  1.01it/s]"
     ]
    },
    {
     "name": "stdout",
     "output_type": "stream",
     "text": [
      "Game tree saved to file figures/2023-07-19-graphviz/jun26_jun26_2_base-cfr_port_2outcome_lin_avg_plus-101_(jul18)_Iteration_18810001-jun26_jun26_2_base.json.pdf\n"
     ]
    },
    {
     "name": "stderr",
     "output_type": "stream",
     "text": [
      " 87%|█████████████████████████████████████████████████████████████████████████████████████████████████████████████████████████████████████████████▎                     | 169/195 [07:51<00:19,  1.31it/s]"
     ]
    },
    {
     "name": "stdout",
     "output_type": "stream",
     "text": [
      "Game tree saved to file figures/2023-07-19-graphviz/jun26_jun26_0_medium_speed-cfr_port_2outcome_lin_avg-101_(jul18)_Iteration_31687923-jun26_jun26_0_medium_speed.json.pdf\n"
     ]
    },
    {
     "name": "stderr",
     "output_type": "stream",
     "text": [
      " 87%|██████████████████████████████████████████████████████████████████████████████████████████████████████████████████████████████████████████████                     | 170/195 [07:52<00:19,  1.26it/s]"
     ]
    },
    {
     "name": "stdout",
     "output_type": "stream",
     "text": [
      "Game tree saved to file figures/2023-07-19-graphviz/jun26_jun26_2_base-cfr_port_2outcome_lin_avg_plus-100_(jul18)_Iteration_15528878-jun26_jun26_2_base.json.pdf\n"
     ]
    },
    {
     "name": "stderr",
     "output_type": "stream",
     "text": [
      " 88%|██████████████████████████████████████████████████████████████████████████████████████████████████████████████████████████████████████████████▉                    | 171/195 [07:52<00:15,  1.57it/s]"
     ]
    },
    {
     "name": "stdout",
     "output_type": "stream",
     "text": [
      "Game tree saved to file figures/2023-07-19-graphviz/jun26_jun26_0_medium_speed-cfr_port_2outcome_lin_avg-100_(jul18)_Iteration_28355001-jun26_jun26_0_medium_speed.json.pdf\n"
     ]
    },
    {
     "name": "stderr",
     "output_type": "stream",
     "text": [
      " 88%|███████████████████████████████████████████████████████████████████████████████████████████████████████████████████████████████████████████████▊                   | 172/195 [07:53<00:14,  1.58it/s]"
     ]
    },
    {
     "name": "stdout",
     "output_type": "stream",
     "text": [
      "Game tree saved to file figures/2023-07-19-graphviz/jun26_jun26_2_base-cfr_port_2outcome_lin_avg-101_(jul18)_Iteration_20793421-jun26_jun26_2_base.json.pdf\n"
     ]
    },
    {
     "name": "stderr",
     "output_type": "stream",
     "text": [
      " 89%|████████████████████████████████████████████████████████████████████████████████████████████████████████████████████████████████████████████████▌                  | 173/195 [07:53<00:11,  1.98it/s]"
     ]
    },
    {
     "name": "stdout",
     "output_type": "stream",
     "text": [
      "Game tree saved to file figures/2023-07-19-graphviz/jun26_jun26_3_high_speed-cfr_port_2outcome_lin_avg-102_(jul18)_Iteration_35108004-jun26_jun26_3_high_speed.json.pdf\n"
     ]
    },
    {
     "name": "stderr",
     "output_type": "stream",
     "text": [
      " 89%|█████████████████████████████████████████████████████████████████████████████████████████████████████████████████████████████████████████████████▍                 | 174/195 [07:56<00:26,  1.28s/it]"
     ]
    },
    {
     "name": "stdout",
     "output_type": "stream",
     "text": [
      "Game tree saved to file figures/2023-07-19-graphviz/jun26_jun26_2_base-cfr_port_2outcome_lin_avg-102_(jul18)_Iteration_20045001-jun26_jun26_2_base.json.pdf\n"
     ]
    },
    {
     "name": "stderr",
     "output_type": "stream",
     "text": [
      " 90%|██████████████████████████████████████████████████████████████████████████████████████████████████████████████████████████████████████████████████▎                | 175/195 [07:57<00:19,  1.03it/s]"
     ]
    },
    {
     "name": "stdout",
     "output_type": "stream",
     "text": [
      "Game tree saved to file figures/2023-07-19-graphviz/jun26_jun26_3_high_speed-cfr_port_2outcome_lin_avg-101_(jul18)_Iteration_33470001-jun26_jun26_3_high_speed.json.pdf\n"
     ]
    },
    {
     "name": "stderr",
     "output_type": "stream",
     "text": [
      " 90%|███████████████████████████████████████████████████████████████████████████████████████████████████████████████████████████████████████████████████                | 176/195 [08:02<00:42,  2.22s/it]"
     ]
    },
    {
     "name": "stdout",
     "output_type": "stream",
     "text": [
      "Game tree saved to file figures/2023-07-19-graphviz/jun26_jun26_2_base-cfr_port_2external_plus-100_(jul18)_Iteration_5304-jun26_jun26_2_base.json.pdf\n"
     ]
    },
    {
     "name": "stderr",
     "output_type": "stream",
     "text": [
      " 91%|███████████████████████████████████████████████████████████████████████████████████████████████████████████████████████████████████████████████████▉               | 177/195 [08:02<00:30,  1.70s/it]"
     ]
    },
    {
     "name": "stdout",
     "output_type": "stream",
     "text": [
      "Game tree saved to file figures/2023-07-19-graphviz/jun26_jun26_3_high_speed-cfr_port_2outcome_lin_avg_plus-102_(jul18)_Iteration_32841130-jun26_jun26_3_high_speed.json.pdf\n"
     ]
    },
    {
     "name": "stderr",
     "output_type": "stream",
     "text": [
      " 91%|████████████████████████████████████████████████████████████████████████████████████████████████████████████████████████████████████████████████████▊              | 178/195 [08:07<00:44,  2.60s/it]"
     ]
    },
    {
     "name": "stdout",
     "output_type": "stream",
     "text": [
      "Game tree saved to file figures/2023-07-19-graphviz/jun26_jun26_2_base-cfr_port_2external_plus-101_(jul18)_Iteration_2949-jun26_jun26_2_base.json.pdf\n"
     ]
    },
    {
     "name": "stderr",
     "output_type": "stream",
     "text": [
      " 92%|█████████████████████████████████████████████████████████████████████████████████████████████████████████████████████████████████████████████████████▋             | 179/195 [08:07<00:31,  1.95s/it]"
     ]
    },
    {
     "name": "stdout",
     "output_type": "stream",
     "text": [
      "Game tree saved to file figures/2023-07-19-graphviz/jun26_jun26_3_high_speed-cfr_port_2outcome_lin_avg-100_(jul18)_Iteration_37003138-jun26_jun26_3_high_speed.json.pdf\n"
     ]
    },
    {
     "name": "stderr",
     "output_type": "stream",
     "text": [
      " 92%|██████████████████████████████████████████████████████████████████████████████████████████████████████████████████████████████████████████████████████▍            | 180/195 [08:13<00:45,  3.05s/it]"
     ]
    },
    {
     "name": "stdout",
     "output_type": "stream",
     "text": [
      "Game tree saved to file figures/2023-07-19-graphviz/jun26_jun26_1_high_speed-cfr_port_2external_plus-101_(jul18)_Iteration_28763-jun26_jun26_1_high_speed.json.pdf\n"
     ]
    },
    {
     "name": "stderr",
     "output_type": "stream",
     "text": [
      " 93%|███████████████████████████████████████████████████████████████████████████████████████████████████████████████████████████████████████████████████████▎           | 181/195 [08:14<00:32,  2.32s/it]"
     ]
    },
    {
     "name": "stdout",
     "output_type": "stream",
     "text": [
      "Game tree saved to file figures/2023-07-19-graphviz/jun26_jun26_3_base-cfr_port_2outcome_lin_avg-100_(jul18)_Iteration_29354739-jun26_jun26_3_base.json.pdf\n"
     ]
    },
    {
     "name": "stderr",
     "output_type": "stream",
     "text": [
      " 93%|████████████████████████████████████████████████████████████████████████████████████████████████████████████████████████████████████████████████████████▏          | 182/195 [08:17<00:34,  2.66s/it]"
     ]
    },
    {
     "name": "stdout",
     "output_type": "stream",
     "text": [
      "Game tree saved to file figures/2023-07-19-graphviz/jun26_jun26_1_high_speed-cfr_port_2external_plus-102_(jul18)_Iteration_31588-jun26_jun26_1_high_speed.json.pdf\n"
     ]
    },
    {
     "name": "stderr",
     "output_type": "stream",
     "text": [
      " 94%|████████████████████████████████████████████████████████████████████████████████████████████████████████████████████████████████████████████████████████▉          | 183/195 [08:18<00:24,  2.08s/it]"
     ]
    },
    {
     "name": "stdout",
     "output_type": "stream",
     "text": [
      "Game tree saved to file figures/2023-07-19-graphviz/jun26_jun26_3_base-cfr_port_2outcome_lin_avg_plus-102_(jul18)_Iteration_23087171-jun26_jun26_3_base.json.pdf\n"
     ]
    },
    {
     "name": "stderr",
     "output_type": "stream",
     "text": [
      " 94%|█████████████████████████████████████████████████████████████████████████████████████████████████████████████████████████████████████████████████████████▊         | 184/195 [08:19<00:19,  1.80s/it]"
     ]
    },
    {
     "name": "stdout",
     "output_type": "stream",
     "text": [
      "Game tree saved to file figures/2023-07-19-graphviz/jun26_jun26_2_base-cfr_port_2outcome_lin_avg-100_(jul18)_Iteration_20710001-jun26_jun26_2_base.json.pdf\n"
     ]
    },
    {
     "name": "stderr",
     "output_type": "stream",
     "text": [
      " 95%|██████████████████████████████████████████████████████████████████████████████████████████████████████████████████████████████████████████████████████████▋        | 185/195 [08:21<00:18,  1.88s/it]"
     ]
    },
    {
     "name": "stdout",
     "output_type": "stream",
     "text": [
      "Game tree saved to file figures/2023-07-19-graphviz/jun26_jun26_4_high_speed-cfr_port_2external_plus-101_(jul18)_Iteration_20210-jun26_jun26_4_high_speed.json.pdf\n"
     ]
    },
    {
     "name": "stderr",
     "output_type": "stream",
     "text": [
      " 95%|███████████████████████████████████████████████████████████████████████████████████████████████████████████████████████████████████████████████████████████▍       | 186/195 [08:21<00:12,  1.42s/it]"
     ]
    },
    {
     "name": "stdout",
     "output_type": "stream",
     "text": [
      "Game tree saved to file figures/2023-07-19-graphviz/jun26_jun26_2_base-cfr_port_2outcome_lin_avg_plus-102_(jul18)_Iteration_18045001-jun26_jun26_2_base.json.pdf\n"
     ]
    },
    {
     "name": "stderr",
     "output_type": "stream",
     "text": [
      " 96%|████████████████████████████████████████████████████████████████████████████████████████████████████████████████████████████████████████████████████████████▎      | 187/195 [08:23<00:11,  1.41s/it]"
     ]
    },
    {
     "name": "stdout",
     "output_type": "stream",
     "text": [
      "Game tree saved to file figures/2023-07-19-graphviz/jun26_jun26_4_high_speed-cfr_port_2external_plus-102_(jul18)_Iteration_23415-jun26_jun26_4_high_speed.json.pdf\n"
     ]
    },
    {
     "name": "stderr",
     "output_type": "stream",
     "text": [
      " 96%|█████████████████████████████████████████████████████████████████████████████████████████████████████████████████████████████████████████████████████████████▏     | 188/195 [08:28<00:18,  2.68s/it]"
     ]
    },
    {
     "name": "stdout",
     "output_type": "stream",
     "text": [
      "Game tree saved to file figures/2023-07-19-graphviz/jun26_jun26_4_base-cfr_port_2external_plus-102_(jul18)_Iteration_4902-jun26_jun26_4_base.json.pdf\n"
     ]
    },
    {
     "name": "stderr",
     "output_type": "stream",
     "text": [
      " 97%|█████████████████████████████████████████████████████████████████████████████████████████████████████████████████████████████████████████████████████████████▉     | 189/195 [08:33<00:19,  3.33s/it]"
     ]
    },
    {
     "name": "stdout",
     "output_type": "stream",
     "text": [
      "Game tree saved to file figures/2023-07-19-graphviz/jun26_jun26_4_base-cfr_port_2external_plus-101_(jul18)_Iteration_4692-jun26_jun26_4_base.json.pdf\n"
     ]
    },
    {
     "name": "stderr",
     "output_type": "stream",
     "text": [
      " 97%|██████████████████████████████████████████████████████████████████████████████████████████████████████████████████████████████████████████████████████████████▊    | 190/195 [08:34<00:12,  2.47s/it]"
     ]
    },
    {
     "name": "stdout",
     "output_type": "stream",
     "text": [
      "Game tree saved to file figures/2023-07-19-graphviz/jun26_jun26_3_high_speed-cfr_port_2outcome_lin_avg_plus-100_(jul18)_Iteration_30620566-jun26_jun26_3_high_speed.json.pdf\n"
     ]
    },
    {
     "name": "stderr",
     "output_type": "stream",
     "text": [
      " 98%|███████████████████████████████████████████████████████████████████████████████████████████████████████████████████████████████████████████████████████████████▋   | 191/195 [08:34<00:07,  1.79s/it]"
     ]
    },
    {
     "name": "stdout",
     "output_type": "stream",
     "text": [
      "Game tree saved to file figures/2023-07-19-graphviz/jun26_jun26_3_high_speed-cfr_port_2outcome_lin_avg_plus-101_(jul18)_Iteration_30565001-jun26_jun26_3_high_speed.json.pdf\n"
     ]
    },
    {
     "name": "stderr",
     "output_type": "stream",
     "text": [
      " 98%|████████████████████████████████████████████████████████████████████████████████████████████████████████████████████████████████████████████████████████████████▍  | 192/195 [08:36<00:05,  1.75s/it]"
     ]
    },
    {
     "name": "stdout",
     "output_type": "stream",
     "text": [
      "Game tree saved to file figures/2023-07-19-graphviz/jun26_jun26_4_base-cfr_port_2outcome_lin_avg-102_(jul18)_Iteration_18508444-jun26_jun26_4_base.json.pdf\n"
     ]
    },
    {
     "name": "stderr",
     "output_type": "stream",
     "text": [
      " 99%|█████████████████████████████████████████████████████████████████████████████████████████████████████████████████████████████████████████████████████████████████▎ | 193/195 [08:40<00:05,  2.67s/it]"
     ]
    },
    {
     "name": "stdout",
     "output_type": "stream",
     "text": [
      "Game tree saved to file figures/2023-07-19-graphviz/jun26_jun26_4_base-cfr_port_2external_plus-100_(jul18)_Iteration_5585-jun26_jun26_4_base.json.pdf\n"
     ]
    },
    {
     "name": "stderr",
     "output_type": "stream",
     "text": [
      " 99%|██████████████████████████████████████████████████████████████████████████████████████████████████████████████████████████████████████████████████████████████████▏| 194/195 [08:41<00:02,  2.08s/it]"
     ]
    },
    {
     "name": "stdout",
     "output_type": "stream",
     "text": [
      "Game tree saved to file figures/2023-07-19-graphviz/jun26_jun26_0_high_speed-cfr_port_2external_plus-101_(jul18)_Iteration_1400327-jun26_jun26_0_high_speed.json.pdf\n"
     ]
    },
    {
     "name": "stderr",
     "output_type": "stream",
     "text": [
      "100%|███████████████████████████████████████████████████████████████████████████████████████████████████████████████████████████████████████████████████████████████████| 195/195 [08:42<00:00,  2.68s/it]"
     ]
    },
    {
     "name": "stdout",
     "output_type": "stream",
     "text": [
      "Game tree saved to file figures/2023-07-19-graphviz/jun26_jun26_0_high_speed-cfr_port_2external_plus-100_(jul18)_Iteration_1610037-jun26_jun26_0_high_speed.json.pdf\n"
     ]
    },
    {
     "name": "stderr",
     "output_type": "stream",
     "text": [
      "\n"
     ]
    }
   ],
   "source": [
    "# policy\n",
    "for run in tqdm(runs):\n",
    "    game, checkpoint, _ = get_results(run, load_policy=False)\n",
    "    env_and_policy = ppo_db_checkpoint_loader(checkpoint)\n",
    "    for player in range(game.num_players()):\n",
    "        env_and_policy.agents[player] = ModalAgentDecorator(env_and_policy.agents[player])\n",
    "    policy = env_and_policy.make_policy()\n",
    "    \n",
    "    try:\n",
    "        nash_conv_brs = BestResponse.objects.filter(\n",
    "            checkpoint=checkpoint,\n",
    "            name='NashConv'\n",
    "        ).order_by('br_player')\n",
    "        br_policies = [br.load_model() for br in nash_conv_brs]\n",
    "        if len(br_policies) == 0:\n",
    "            br_policies = None\n",
    "    except Exception as e: # TODO which exception?\n",
    "        print(e)\n",
    "        br_policies = None\n",
    "\n",
    "    # print(br_policies)\n",
    "    draw_game_tree(\n",
    "        game, \n",
    "        policy, \n",
    "        br_policies,\n",
    "        fname=f'{checkpoint}-{checkpoint.game.name}.pdf'.replace('/', '_').replace(' ', '_'),\n",
    "        figure_dir='figures/2023-07-19-graphviz'\n",
    "    )"
   ]
  },
  {
   "cell_type": "code",
   "execution_count": null,
   "id": "d89fa82d-bfcf-457e-a20b-0c7d4258f0d9",
   "metadata": {},
   "outputs": [
    {
     "name": "stderr",
     "output_type": "stream",
     "text": [
      "  0%|                                                                                                                                                                             | 0/194 [00:00<?, ?it/s]"
     ]
    }
   ],
   "source": [
    "# best responses (from nashconv)\n",
    "for run in tqdm(runs[1:]):\n",
    "    game, checkpoint, _ = get_results(run, load_policy=False)\n",
    "    for player in range(game.num_players()):\n",
    "        env_and_policy = ppo_db_checkpoint_loader(checkpoint)\n",
    "        for player in range(game.num_players()):\n",
    "            env_and_policy.agents[player] = ModalAgentDecorator(env_and_policy.agents[player])\n",
    "    \n",
    "        nc_best_response = BestResponse.objects.get(\n",
    "            checkpoint=checkpoint,\n",
    "            name='NashConv',\n",
    "            br_player=player,\n",
    "        )\n",
    "        env_and_policy.agents[player] = nc_best_response.load_model()\n",
    "        policy = env_and_policy.make_policy()\n",
    "        \n",
    "        draw_game_tree(\n",
    "            game, \n",
    "            policy, \n",
    "            fname=f'{checkpoint}-{checkpoint.game.name}-br{player}.pdf'.replace('/', '_').replace(' ', '_'),\n",
    "            figure_dir='figures/2023-07-19-graphviz'\n",
    "        )"
   ]
  },
  {
   "cell_type": "code",
   "execution_count": 4,
   "id": "979c0a16-5b4b-44d7-98b2-be1164400353",
   "metadata": {},
   "outputs": [],
   "source": [
    "def find_run_by_graphviz_name(target_fname):\n",
    "    for run in tqdm(runs[:50]):\n",
    "        game, checkpoint, _ = get_results(run, load_policy=False)\n",
    "        fname = f'{checkpoint}-{checkpoint.game.name}.pdf'.replace('/', '_').replace(' ', '_')\n",
    "\n",
    "        if fname == target_fname:\n",
    "            break\n",
    "    return game, checkpoint"
   ]
  },
  {
   "cell_type": "code",
   "execution_count": 5,
   "id": "e1efe848-d23d-434e-9659-e8a99d99309e",
   "metadata": {},
   "outputs": [
    {
     "name": "stderr",
     "output_type": "stream",
     "text": [
      " 18%|█████████████████████████████▉                                                                                                                                        | 9/50 [00:00<00:00, 87.95it/s]\n"
     ]
    }
   ],
   "source": [
    "game, checkpoint = find_run_by_graphviz_name(\n",
    "    'jun26_jun26_2_tie_break-cfr_port_2outcome_lin_avg_plus-101_(jun27_port)_Iteration_27119705-jun26_jun26_2_tie_break.json.pdf'\n",
    ")\n",
    "\n",
    "        \n",
    "# env_and_policy = ppo_db_checkpoint_loader(checkpoint, env_params=EnvParams(history_prefix=[0, 1, 7, 3, 5], include_state=True))\n",
    "# env_and_policy = ppo_db_checkpoint_loader(checkpoint, env_params=EnvParams(include_state=True))\n",
    "env_and_policy = ppo_db_checkpoint_loader(checkpoint)\n",
    "# for player in range(game.num_players()):\n",
    "#     env_and_policy.agents[player] = ModalAgentDecorator(env_and_policy.agents[player])\n",
    "policy = env_and_policy.make_policy()\n"
   ]
  },
  {
   "cell_type": "code",
   "execution_count": 6,
   "id": "02a566c0-f6ca-4ae8-9bb0-0c3a31826167",
   "metadata": {},
   "outputs": [
    {
     "name": "stdout",
     "output_type": "stream",
     "text": [
      "Game tree saved to file figures/2023-06-27-graphviz/non_modal_test.pdf\n"
     ]
    }
   ],
   "source": [
    "draw_game_tree(\n",
    "    game, \n",
    "    policy, \n",
    "    fname=f'non_modal_test.pdf'\n",
    ")"
   ]
  },
  {
   "cell_type": "code",
   "execution_count": 215,
   "id": "42c44a13-0077-41df-a631-3c01bab55a3b",
   "metadata": {},
   "outputs": [],
   "source": [
    "agent = env_and_policy.agents[1]\n",
    "ts = env_and_policy.env.reset()"
   ]
  },
  {
   "cell_type": "code",
   "execution_count": 275,
   "id": "6e233ecc-45fd-4d26-bfcc-fe657222cf6e",
   "metadata": {},
   "outputs": [],
   "source": [
    "state_0 = game.new_initial_state().child(0).child(1).child(5).child(6)\n",
    "p0_policy = policy.action_probabilities(state_0)"
   ]
  },
  {
   "cell_type": "code",
   "execution_count": 276,
   "id": "90df4609-315f-445f-a9da-44e26e7313e8",
   "metadata": {},
   "outputs": [],
   "source": [
    "tremble_prob = 0.25\n",
    "for a in p0_policy:\n",
    "    p0_policy[a] = tremble_prob / len(p0_policy) + (1 - tremble_prob) * p0_policy[a]"
   ]
  },
  {
   "cell_type": "code",
   "execution_count": 277,
   "id": "66f24111-0222-4b7b-9bb7-fea984d6a85e",
   "metadata": {},
   "outputs": [
    {
     "data": {
      "text/plain": [
       "{0: 0.05097339022596157,\n",
       " 1: 0.0509253221554808,\n",
       " 2: 0.051117293302417495,\n",
       " 4: 0.2610026394114132,\n",
       " 5: 0.5859813549047269}"
      ]
     },
     "execution_count": 277,
     "metadata": {},
     "output_type": "execute_result"
    }
   ],
   "source": [
    "p0_policy"
   ]
  },
  {
   "cell_type": "code",
   "execution_count": null,
   "id": "4871375c-1d3e-40f0-a582-25c98b3a8a9f",
   "metadata": {},
   "outputs": [],
   "source": []
  },
  {
   "cell_type": "code",
   "execution_count": 278,
   "id": "c2a588cc-96d1-437d-92f7-264d671c0bb6",
   "metadata": {},
   "outputs": [],
   "source": [
    "state_1 = game.new_initial_state().child(0).child(1).child(5).child(6).child(5)\n",
    "state_1.information_state_string() == 'p1t1 r2 posted[[32.0, 19.0], [41.6, 19.0]] sub[[0, 0], [1, 2]] a70 agg[[0, 0], [2, 3]] proc[[0, 0], [1, 2]]'\n",
    "p1_policy = policy.action_probabilities(state_1)"
   ]
  },
  {
   "cell_type": "code",
   "execution_count": null,
   "id": "2a1cf88f-4378-47e6-be6d-de1c779dfeb3",
   "metadata": {},
   "outputs": [],
   "source": []
  },
  {
   "cell_type": "code",
   "execution_count": 279,
   "id": "a03a0d34-9be1-4e93-9588-b353057e3ee2",
   "metadata": {},
   "outputs": [],
   "source": [
    "def get_exp_reward(p1_action):\n",
    "    p1_exp_reward = 0\n",
    "    for p0_action in p0_policy:\n",
    "        child_state = state_0.child(p0_action).child(p1_action)\n",
    "        if child_state.is_terminal():\n",
    "            p1_exp_reward += p0_policy[p0_action] * child_state.returns()\n",
    "        elif child_state.is_chance_node():\n",
    "            for chance_action_id, chance_prob in child_state.chance_outcomes():\n",
    "                if child_state.child(chance_action_id).is_terminal():\n",
    "                    p1_exp_reward += p0_policy[p0_action] * chance_prob * child_state.child(chance_action_id).returns()\n",
    "                else:\n",
    "                    print(f\"auction didn't end with actions ({p0_action}, {p1_action})\")\n",
    "                    p1_exp_reward += p0_policy[p0_action] * chance_prob * (-23)\n",
    "    return p1_exp_reward\n"
   ]
  },
  {
   "cell_type": "code",
   "execution_count": 280,
   "id": "a9ac0a56-83ee-4ac0-89fd-0b749c48c7e0",
   "metadata": {},
   "outputs": [
    {
     "name": "stdout",
     "output_type": "stream",
     "text": [
      "[117.48991219  28.56168062]\n",
      "[117.48991219  28.56168062]\n"
     ]
    }
   ],
   "source": [
    "print(get_exp_reward(0))\n",
    "print(get_exp_reward(1))\n",
    "# print(get_exp_reward(2))"
   ]
  },
  {
   "cell_type": "code",
   "execution_count": 265,
   "id": "ca4053d8-e9cf-466c-9290-05d1eccc25e8",
   "metadata": {},
   "outputs": [
    {
     "data": {
      "text/plain": [
       "{0: 0.4178864348496503,\n",
       " 1: 0.2165796062193167,\n",
       " 2: 0.22909362982280757,\n",
       " 3: 0.009561295284364005,\n",
       " 4: 0.05347208393775575,\n",
       " 5: 0.039379712758246956,\n",
       " 6: 0.034027237127858455}"
      ]
     },
     "execution_count": 265,
     "metadata": {},
     "output_type": "execute_result"
    }
   ],
   "source": [
    "p1_policy"
   ]
  },
  {
   "cell_type": "code",
   "execution_count": 25,
   "id": "523413d3-62f4-4aef-814a-10fea39f7a6d",
   "metadata": {},
   "outputs": [
    {
     "name": "stderr",
     "output_type": "stream",
     "text": [
      "  2%|███▎                                                                                                                                                                 | 1/50 [00:00<00:00, 146.29it/s]\n"
     ]
    }
   ],
   "source": [
    "game, checkpoint = find_run_by_graphviz_name(\n",
    "    'jun26_jun26_0_base-cfr_port_2outcome_lin_avg-102_(jun27_port)_Iteration_32734471-jun26_jun26_0_base.json.pdf'\n",
    ")\n",
    "env_and_policy = ppo_db_checkpoint_loader(checkpoint)\n",
    "# for player in range(game.num_players()):\n",
    "#     env_and_policy.agents[player] = ModalAgentDecorator(env_and_policy.agents[player])\n",
    "policy = env_and_policy.make_policy()"
   ]
  },
  {
   "cell_type": "code",
   "execution_count": 89,
   "id": "e4836eaf-423f-42a0-b245-5375d09ad449",
   "metadata": {},
   "outputs": [],
   "source": [
    "other_checkpoint = checkpoint.equilibrium_solver_run.equilibriumsolverruncheckpoint_set.order_by('t')[4]\n",
    "env_and_policy = ppo_db_checkpoint_loader(other_checkpoint)\n",
    "# for player in range(game.num_players()):\n",
    "#     env_and_policy.agents[player] = ModalAgentDecorator(env_and_policy.agents[player])\n",
    "policy = env_and_policy.make_policy()"
   ]
  },
  {
   "cell_type": "code",
   "execution_count": 90,
   "id": "0efe63e4-9895-46c4-9398-b81ac3419515",
   "metadata": {},
   "outputs": [
    {
     "data": {
      "text/plain": [
       "[0.0, 2.267499999999984]"
      ]
     },
     "execution_count": 90,
     "metadata": {},
     "output_type": "execute_result"
    }
   ],
   "source": [
    "other_checkpoint.get_modal_eval().player_improvements"
   ]
  },
  {
   "cell_type": "code",
   "execution_count": 91,
   "id": "54a1ce2a-e634-487b-bfe6-86ab5813e96e",
   "metadata": {},
   "outputs": [
    {
     "data": {
      "text/plain": [
       "{0: 0.17162356456899808,\n",
       " 1: 0.11744036472904104,\n",
       " 2: 0.10892114269603584,\n",
       " 3: 0.17021437116411217,\n",
       " 4: 0.14597193111736637,\n",
       " 5: 0.28582862572444634}"
      ]
     },
     "execution_count": 91,
     "metadata": {},
     "output_type": "execute_result"
    }
   ],
   "source": [
    "state = game.new_initial_state().child(1).child(0).child(5).child(3)\n",
    "state.information_state_string() == 'p0t1 r2 posted[[32.0, 19.0], [41.6, 19.0]] sub[[0, 0], [1, 2]] a70 agg[[0, 0], [2, 2]] proc[[0, 0], [1, 2]]'\n",
    "\n",
    "policy.action_probabilities(state)"
   ]
  },
  {
   "cell_type": "code",
   "execution_count": 43,
   "id": "6f7386c5-a8b0-4fd0-bb44-ace5df7f6b25",
   "metadata": {},
   "outputs": [],
   "source": [
    "regrets, avg_policy = policy._agents[0].policy._infostates[state.information_state_string()]"
   ]
  },
  {
   "cell_type": "code",
   "execution_count": 44,
   "id": "17143702-3364-438a-a8f4-c6ac7a31c4a5",
   "metadata": {},
   "outputs": [
    {
     "data": {
      "text/plain": [
       "array([-5.36012297e+15, -5.81796428e+15,  7.15178971e+06])"
      ]
     },
     "execution_count": 44,
     "metadata": {},
     "output_type": "execute_result"
    }
   ],
   "source": [
    "regrets"
   ]
  },
  {
   "cell_type": "code",
   "execution_count": 45,
   "id": "8b871d3e-2f80-4505-ac93-52c12beeed10",
   "metadata": {},
   "outputs": [
    {
     "data": {
      "text/plain": [
       "array([5.33644809e+03, 1.28490232e+02, 3.97179908e+08])"
      ]
     },
     "execution_count": 45,
     "metadata": {},
     "output_type": "execute_result"
    }
   ],
   "source": [
    "avg_policy"
   ]
  },
  {
   "cell_type": "code",
   "execution_count": 33,
   "id": "7866e9b0-a941-4588-9022-4611008e6b60",
   "metadata": {},
   "outputs": [
    {
     "data": {
      "text/plain": [
       "array([-0.33288927,  0.21847515,  0.34070933,  0.18763323,  0.40632068,\n",
       "        0.17975089])"
      ]
     },
     "execution_count": 33,
     "metadata": {},
     "output_type": "execute_result"
    }
   ],
   "source": [
    "regrets / regrets.sum()"
   ]
  },
  {
   "cell_type": "code",
   "execution_count": 34,
   "id": "a793f372-a5ae-4add-9162-35089454b404",
   "metadata": {},
   "outputs": [
    {
     "data": {
      "text/plain": [
       "array([0.17162356, 0.11744036, 0.10892114, 0.17021437, 0.14597193,\n",
       "       0.28582863])"
      ]
     },
     "execution_count": 34,
     "metadata": {},
     "output_type": "execute_result"
    }
   ],
   "source": [
    "avg_policy / avg_policy.sum()"
   ]
  },
  {
   "cell_type": "code",
   "execution_count": null,
   "id": "77b5f206-f2e0-45b1-b029-514b77bb711c",
   "metadata": {},
   "outputs": [],
   "source": [
    "agent = policy._agents[0]\n",
    "infostates = agent.policy._infostates"
   ]
  },
  {
   "cell_type": "code",
   "execution_count": null,
   "id": "ffbd823a-3c8d-4246-942e-2bded7b98a3b",
   "metadata": {},
   "outputs": [],
   "source": [
    "state = game.new_initial_state().child(1).child(0).child(4).child(4)"
   ]
  },
  {
   "cell_type": "code",
   "execution_count": 80,
   "id": "f2a80f04-4d8a-4d55-a070-68399f7975c1",
   "metadata": {},
   "outputs": [
    {
     "data": {
      "text/plain": [
       "'p0t1 r2 posted[[32.0, 19.0], [41.6, 19.0]] sub[[0, 0], [1, 0]] a32 agg[[0, 0], [2, 0]] proc[[0, 0], [1, 0]]'"
      ]
     },
     "execution_count": 80,
     "metadata": {},
     "output_type": "execute_result"
    }
   ],
   "source": [
    "state.information_state_string(0)"
   ]
  },
  {
   "cell_type": "code",
   "execution_count": 81,
   "id": "590f8a88-5303-44ed-b376-65c2a63d3a2d",
   "metadata": {},
   "outputs": [
    {
     "ename": "AttributeError",
     "evalue": "'ClockAuctionGame' object has no attribute 'ob'",
     "output_type": "error",
     "traceback": [
      "\u001b[0;31m---------------------------------------------------------------------------\u001b[0m",
      "\u001b[0;31mAttributeError\u001b[0m                            Traceback (most recent call last)",
      "Input \u001b[0;32mIn [81]\u001b[0m, in \u001b[0;36m<module>\u001b[0;34m\u001b[0m\n\u001b[0;32m----> 1\u001b[0m \u001b[43mgame\u001b[49m\u001b[38;5;241;43m.\u001b[39;49m\u001b[43mob\u001b[49m\n",
      "\u001b[0;31mAttributeError\u001b[0m: 'ClockAuctionGame' object has no attribute 'ob'"
     ]
    }
   ],
   "source": [
    "game.ob"
   ]
  },
  {
   "cell_type": "code",
   "execution_count": 82,
   "id": "aa76b1c5-8490-433d-bbcf-f7701bad9328",
   "metadata": {},
   "outputs": [
    {
     "data": {
      "text/plain": [
       "{0: 0.026900200506226456, 1: 0.02273779054313965, 4: 0.9503620089506339}"
      ]
     },
     "execution_count": 82,
     "metadata": {},
     "output_type": "execute_result"
    }
   ],
   "source": [
    "agent.policy.action_probabilities(state)"
   ]
  },
  {
   "cell_type": "code",
   "execution_count": 51,
   "id": "0a62a32e-dee5-46ea-95bf-5cbe0a8a2365",
   "metadata": {},
   "outputs": [
    {
     "name": "stdout",
     "output_type": "stream",
     "text": [
      "p0t1 r1 posted[[32, 19]] sub[[0, 0]] a89 agg[[0, 0]] proc[[0, 0]] [2.11579216e+01 2.04997729e+01 1.02332616e+03 1.22727141e+05\n",
      " 5.71808349e+07 9.28859416e+05 4.41867890e+05 4.77753707e+05]\n"
     ]
    }
   ],
   "source": [
    "for k in infostates:\n",
    "    \n",
    "    print(k, infostates[k][1])\n",
    "    break"
   ]
  }
 ],
 "metadata": {
  "kernelspec": {
   "display_name": "Django Shell-Plus",
   "language": "python",
   "name": "django_extensions"
  },
  "language_info": {
   "codemirror_mode": {
    "name": "ipython",
    "version": 3
   },
   "file_extension": ".py",
   "mimetype": "text/x-python",
   "name": "python",
   "nbconvert_exporter": "python",
   "pygments_lexer": "ipython3",
   "version": "3.8.2"
  }
 },
 "nbformat": 4,
 "nbformat_minor": 5
}
