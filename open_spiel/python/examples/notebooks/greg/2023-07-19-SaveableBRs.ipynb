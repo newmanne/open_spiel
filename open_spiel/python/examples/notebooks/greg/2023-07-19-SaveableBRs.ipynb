{
 "cells": [
  {
   "cell_type": "code",
   "execution_count": 1,
   "id": "ae8f648b-d658-4070-9f6d-e751f590a692",
   "metadata": {},
   "outputs": [],
   "source": [
    "%load_ext autoreload\n",
    "%autoreload 2\n",
    "%matplotlib inline\n",
    "\n",
    "import pyspiel\n",
    "import open_spiel.python.examples.ubc_utils\n",
    "from open_spiel.python.visualizations import ubc_treeviz\n",
    "from open_spiel.python.examples.ubc_utils import *\n",
    "from auctions.webutils import *\n",
    "from absl import logging\n",
    "logging.set_verbosity(logging.INFO)\n",
    "import os\n",
    "os.environ[\"DJANGO_ALLOW_ASYNC_UNSAFE\"] = \"true\"\n",
    "from open_spiel.python.examples.ubc_cma import *\n",
    "from open_spiel.python.examples.ubc_decorators import TakeSingleActionDecorator, TremblingAgentDecorator, ModalAgentDecorator"
   ]
  },
  {
   "cell_type": "code",
   "execution_count": 4,
   "id": "2ca53f11-d33e-4712-8bf0-d8e3080a956a",
   "metadata": {},
   "outputs": [],
   "source": [
    "run = EquilibriumSolverRun.objects.last()\n",
    "game, checkpoint, policy = get_results(run)\n",
    "env_and_policy = ppo_db_checkpoint_loader(checkpoint)\n",
    "for player in range(game.num_players()):\n",
    "    env_and_policy.agents[player] = ModalAgentDecorator(env_and_policy.agents[player])\n",
    "policy = env_and_policy.make_policy()"
   ]
  },
  {
   "cell_type": "code",
   "execution_count": 5,
   "id": "22efd081-9dbd-4682-b1b2-b52629075fb7",
   "metadata": {},
   "outputs": [
    {
     "name": "stdout",
     "output_type": "stream",
     "text": [
      "Initializing best-responder...\n",
      "Computing best reponse...\n",
      "66.44504442498001\n",
      "Initializing best-responder...\n",
      "Computing best reponse...\n",
      "106.69810959916856\n"
     ]
    }
   ],
   "source": [
    "from open_spiel.python.algorithms.best_response import BestResponsePolicy\n",
    "for player_num in range(game.num_players()):\n",
    "    print(\"Initializing best-responder...\")\n",
    "    br = BestResponsePolicy(game, player_num, policy, restrict_to_heuristics=True)\n",
    "    print(\"Computing best reponse...\")\n",
    "    print(br.value(game.new_initial_state()))"
   ]
  },
  {
   "cell_type": "code",
   "execution_count": 14,
   "id": "58e10c19-5edd-445a-acc4-57c6b50fc862",
   "metadata": {},
   "outputs": [],
   "source": [
    "from compress_pickle import dumps, loads\n",
    "import pickle"
   ]
  },
  {
   "cell_type": "code",
   "execution_count": 36,
   "id": "d330869c-2baf-41a8-b5eb-8e40453590e0",
   "metadata": {},
   "outputs": [],
   "source": [
    "# br_pickle = pickle.dumps(br)\n",
    "br_pickle = dumps(br, compression='gzip')"
   ]
  },
  {
   "cell_type": "code",
   "execution_count": 37,
   "id": "f0cfa903-f87b-4f30-b84d-5cae192d67d9",
   "metadata": {},
   "outputs": [
    {
     "data": {
      "text/plain": [
       "50448"
      ]
     },
     "execution_count": 37,
     "metadata": {},
     "output_type": "execute_result"
    }
   ],
   "source": [
    "len(br_pickle)"
   ]
  },
  {
   "cell_type": "code",
   "execution_count": 22,
   "id": "48ef9248-5346-49c2-91c4-4f86ddc27c1b",
   "metadata": {},
   "outputs": [],
   "source": [
    "del br._policy"
   ]
  },
  {
   "cell_type": "code",
   "execution_count": 39,
   "id": "f9d559fe-f763-4170-a5e1-17bad1947bda",
   "metadata": {},
   "outputs": [
    {
     "data": {
      "text/plain": [
       "<open_spiel.python.algorithms.best_response.BestResponsePolicy at 0x7f7d00019c10>"
      ]
     },
     "execution_count": 39,
     "metadata": {},
     "output_type": "execute_result"
    }
   ],
   "source": [
    "loads(br_pickle, compression='gzip')"
   ]
  }
 ],
 "metadata": {
  "kernelspec": {
   "display_name": "Django Shell-Plus",
   "language": "python",
   "name": "django_extensions"
  },
  "language_info": {
   "codemirror_mode": {
    "name": "ipython",
    "version": 3
   },
   "file_extension": ".py",
   "mimetype": "text/x-python",
   "name": "python",
   "nbconvert_exporter": "python",
   "pygments_lexer": "ipython3",
   "version": "3.8.2"
  }
 },
 "nbformat": 4,
 "nbformat_minor": 5
}
