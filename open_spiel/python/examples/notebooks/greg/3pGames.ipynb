{
 "cells": [
  {
   "cell_type": "code",
   "execution_count": 20,
   "metadata": {},
   "outputs": [
    {
     "name": "stdout",
     "output_type": "stream",
     "text": [
      "The autoreload extension is already loaded. To reload it, use:\n",
      "  %reload_ext autoreload\n"
     ]
    }
   ],
   "source": [
    "%load_ext autoreload\n",
    "%autoreload 2\n",
    "%matplotlib inline"
   ]
  },
  {
   "cell_type": "code",
   "execution_count": 21,
   "metadata": {},
   "outputs": [
    {
     "data": {
      "text/html": [
       "\n",
       "    <div class=\"bk-root\">\n",
       "        <a href=\"https://bokeh.org\" target=\"_blank\" class=\"bk-logo bk-logo-small bk-logo-notebook\"></a>\n",
       "        <span id=\"1003\">Loading BokehJS ...</span>\n",
       "    </div>"
      ]
     },
     "metadata": {},
     "output_type": "display_data"
    },
    {
     "data": {
      "application/javascript": [
       "\n",
       "(function(root) {\n",
       "  function now() {\n",
       "    return new Date();\n",
       "  }\n",
       "\n",
       "  const force = true;\n",
       "\n",
       "  if (typeof root._bokeh_onload_callbacks === \"undefined\" || force === true) {\n",
       "    root._bokeh_onload_callbacks = [];\n",
       "    root._bokeh_is_loading = undefined;\n",
       "  }\n",
       "\n",
       "  const JS_MIME_TYPE = 'application/javascript';\n",
       "  const HTML_MIME_TYPE = 'text/html';\n",
       "  const EXEC_MIME_TYPE = 'application/vnd.bokehjs_exec.v0+json';\n",
       "  const CLASS_NAME = 'output_bokeh rendered_html';\n",
       "\n",
       "  /**\n",
       "   * Render data to the DOM node\n",
       "   */\n",
       "  function render(props, node) {\n",
       "    const script = document.createElement(\"script\");\n",
       "    node.appendChild(script);\n",
       "  }\n",
       "\n",
       "  /**\n",
       "   * Handle when an output is cleared or removed\n",
       "   */\n",
       "  function handleClearOutput(event, handle) {\n",
       "    const cell = handle.cell;\n",
       "\n",
       "    const id = cell.output_area._bokeh_element_id;\n",
       "    const server_id = cell.output_area._bokeh_server_id;\n",
       "    // Clean up Bokeh references\n",
       "    if (id != null && id in Bokeh.index) {\n",
       "      Bokeh.index[id].model.document.clear();\n",
       "      delete Bokeh.index[id];\n",
       "    }\n",
       "\n",
       "    if (server_id !== undefined) {\n",
       "      // Clean up Bokeh references\n",
       "      const cmd_clean = \"from bokeh.io.state import curstate; print(curstate().uuid_to_server['\" + server_id + \"'].get_sessions()[0].document.roots[0]._id)\";\n",
       "      cell.notebook.kernel.execute(cmd_clean, {\n",
       "        iopub: {\n",
       "          output: function(msg) {\n",
       "            const id = msg.content.text.trim();\n",
       "            if (id in Bokeh.index) {\n",
       "              Bokeh.index[id].model.document.clear();\n",
       "              delete Bokeh.index[id];\n",
       "            }\n",
       "          }\n",
       "        }\n",
       "      });\n",
       "      // Destroy server and session\n",
       "      const cmd_destroy = \"import bokeh.io.notebook as ion; ion.destroy_server('\" + server_id + \"')\";\n",
       "      cell.notebook.kernel.execute(cmd_destroy);\n",
       "    }\n",
       "  }\n",
       "\n",
       "  /**\n",
       "   * Handle when a new output is added\n",
       "   */\n",
       "  function handleAddOutput(event, handle) {\n",
       "    const output_area = handle.output_area;\n",
       "    const output = handle.output;\n",
       "\n",
       "    // limit handleAddOutput to display_data with EXEC_MIME_TYPE content only\n",
       "    if ((output.output_type != \"display_data\") || (!Object.prototype.hasOwnProperty.call(output.data, EXEC_MIME_TYPE))) {\n",
       "      return\n",
       "    }\n",
       "\n",
       "    const toinsert = output_area.element.find(\".\" + CLASS_NAME.split(' ')[0]);\n",
       "\n",
       "    if (output.metadata[EXEC_MIME_TYPE][\"id\"] !== undefined) {\n",
       "      toinsert[toinsert.length - 1].firstChild.textContent = output.data[JS_MIME_TYPE];\n",
       "      // store reference to embed id on output_area\n",
       "      output_area._bokeh_element_id = output.metadata[EXEC_MIME_TYPE][\"id\"];\n",
       "    }\n",
       "    if (output.metadata[EXEC_MIME_TYPE][\"server_id\"] !== undefined) {\n",
       "      const bk_div = document.createElement(\"div\");\n",
       "      bk_div.innerHTML = output.data[HTML_MIME_TYPE];\n",
       "      const script_attrs = bk_div.children[0].attributes;\n",
       "      for (let i = 0; i < script_attrs.length; i++) {\n",
       "        toinsert[toinsert.length - 1].firstChild.setAttribute(script_attrs[i].name, script_attrs[i].value);\n",
       "        toinsert[toinsert.length - 1].firstChild.textContent = bk_div.children[0].textContent\n",
       "      }\n",
       "      // store reference to server id on output_area\n",
       "      output_area._bokeh_server_id = output.metadata[EXEC_MIME_TYPE][\"server_id\"];\n",
       "    }\n",
       "  }\n",
       "\n",
       "  function register_renderer(events, OutputArea) {\n",
       "\n",
       "    function append_mime(data, metadata, element) {\n",
       "      // create a DOM node to render to\n",
       "      const toinsert = this.create_output_subarea(\n",
       "        metadata,\n",
       "        CLASS_NAME,\n",
       "        EXEC_MIME_TYPE\n",
       "      );\n",
       "      this.keyboard_manager.register_events(toinsert);\n",
       "      // Render to node\n",
       "      const props = {data: data, metadata: metadata[EXEC_MIME_TYPE]};\n",
       "      render(props, toinsert[toinsert.length - 1]);\n",
       "      element.append(toinsert);\n",
       "      return toinsert\n",
       "    }\n",
       "\n",
       "    /* Handle when an output is cleared or removed */\n",
       "    events.on('clear_output.CodeCell', handleClearOutput);\n",
       "    events.on('delete.Cell', handleClearOutput);\n",
       "\n",
       "    /* Handle when a new output is added */\n",
       "    events.on('output_added.OutputArea', handleAddOutput);\n",
       "\n",
       "    /**\n",
       "     * Register the mime type and append_mime function with output_area\n",
       "     */\n",
       "    OutputArea.prototype.register_mime_type(EXEC_MIME_TYPE, append_mime, {\n",
       "      /* Is output safe? */\n",
       "      safe: true,\n",
       "      /* Index of renderer in `output_area.display_order` */\n",
       "      index: 0\n",
       "    });\n",
       "  }\n",
       "\n",
       "  // register the mime type if in Jupyter Notebook environment and previously unregistered\n",
       "  if (root.Jupyter !== undefined) {\n",
       "    const events = require('base/js/events');\n",
       "    const OutputArea = require('notebook/js/outputarea').OutputArea;\n",
       "\n",
       "    if (OutputArea.prototype.mime_types().indexOf(EXEC_MIME_TYPE) == -1) {\n",
       "      register_renderer(events, OutputArea);\n",
       "    }\n",
       "  }\n",
       "\n",
       "  \n",
       "  if (typeof (root._bokeh_timeout) === \"undefined\" || force === true) {\n",
       "    root._bokeh_timeout = Date.now() + 5000;\n",
       "    root._bokeh_failed_load = false;\n",
       "  }\n",
       "\n",
       "  const NB_LOAD_WARNING = {'data': {'text/html':\n",
       "     \"<div style='background-color: #fdd'>\\n\"+\n",
       "     \"<p>\\n\"+\n",
       "     \"BokehJS does not appear to have successfully loaded. If loading BokehJS from CDN, this \\n\"+\n",
       "     \"may be due to a slow or bad network connection. Possible fixes:\\n\"+\n",
       "     \"</p>\\n\"+\n",
       "     \"<ul>\\n\"+\n",
       "     \"<li>re-rerun `output_notebook()` to attempt to load from CDN again, or</li>\\n\"+\n",
       "     \"<li>use INLINE resources instead, as so:</li>\\n\"+\n",
       "     \"</ul>\\n\"+\n",
       "     \"<code>\\n\"+\n",
       "     \"from bokeh.resources import INLINE\\n\"+\n",
       "     \"output_notebook(resources=INLINE)\\n\"+\n",
       "     \"</code>\\n\"+\n",
       "     \"</div>\"}};\n",
       "\n",
       "  function display_loaded() {\n",
       "    const el = document.getElementById(\"1003\");\n",
       "    if (el != null) {\n",
       "      el.textContent = \"BokehJS is loading...\";\n",
       "    }\n",
       "    if (root.Bokeh !== undefined) {\n",
       "      if (el != null) {\n",
       "        el.textContent = \"BokehJS \" + root.Bokeh.version + \" successfully loaded.\";\n",
       "      }\n",
       "    } else if (Date.now() < root._bokeh_timeout) {\n",
       "      setTimeout(display_loaded, 100)\n",
       "    }\n",
       "  }\n",
       "\n",
       "\n",
       "  function run_callbacks() {\n",
       "    try {\n",
       "      root._bokeh_onload_callbacks.forEach(function(callback) {\n",
       "        if (callback != null)\n",
       "          callback();\n",
       "      });\n",
       "    } finally {\n",
       "      delete root._bokeh_onload_callbacks\n",
       "    }\n",
       "    console.debug(\"Bokeh: all callbacks have finished\");\n",
       "  }\n",
       "\n",
       "  function load_libs(css_urls, js_urls, callback) {\n",
       "    if (css_urls == null) css_urls = [];\n",
       "    if (js_urls == null) js_urls = [];\n",
       "\n",
       "    root._bokeh_onload_callbacks.push(callback);\n",
       "    if (root._bokeh_is_loading > 0) {\n",
       "      console.debug(\"Bokeh: BokehJS is being loaded, scheduling callback at\", now());\n",
       "      return null;\n",
       "    }\n",
       "    if (js_urls == null || js_urls.length === 0) {\n",
       "      run_callbacks();\n",
       "      return null;\n",
       "    }\n",
       "    console.debug(\"Bokeh: BokehJS not loaded, scheduling load and callback at\", now());\n",
       "    root._bokeh_is_loading = css_urls.length + js_urls.length;\n",
       "\n",
       "    function on_load() {\n",
       "      root._bokeh_is_loading--;\n",
       "      if (root._bokeh_is_loading === 0) {\n",
       "        console.debug(\"Bokeh: all BokehJS libraries/stylesheets loaded\");\n",
       "        run_callbacks()\n",
       "      }\n",
       "    }\n",
       "\n",
       "    function on_error(url) {\n",
       "      console.error(\"failed to load \" + url);\n",
       "    }\n",
       "\n",
       "    for (let i = 0; i < css_urls.length; i++) {\n",
       "      const url = css_urls[i];\n",
       "      const element = document.createElement(\"link\");\n",
       "      element.onload = on_load;\n",
       "      element.onerror = on_error.bind(null, url);\n",
       "      element.rel = \"stylesheet\";\n",
       "      element.type = \"text/css\";\n",
       "      element.href = url;\n",
       "      console.debug(\"Bokeh: injecting link tag for BokehJS stylesheet: \", url);\n",
       "      document.body.appendChild(element);\n",
       "    }\n",
       "\n",
       "    for (let i = 0; i < js_urls.length; i++) {\n",
       "      const url = js_urls[i];\n",
       "      const element = document.createElement('script');\n",
       "      element.onload = on_load;\n",
       "      element.onerror = on_error.bind(null, url);\n",
       "      element.async = false;\n",
       "      element.src = url;\n",
       "      console.debug(\"Bokeh: injecting script tag for BokehJS library: \", url);\n",
       "      document.head.appendChild(element);\n",
       "    }\n",
       "  };\n",
       "\n",
       "  function inject_raw_css(css) {\n",
       "    const element = document.createElement(\"style\");\n",
       "    element.appendChild(document.createTextNode(css));\n",
       "    document.body.appendChild(element);\n",
       "  }\n",
       "\n",
       "  \n",
       "  const js_urls = [\"https://cdn.bokeh.org/bokeh/release/bokeh-2.4.2.min.js\", \"https://cdn.bokeh.org/bokeh/release/bokeh-gl-2.4.2.min.js\", \"https://cdn.bokeh.org/bokeh/release/bokeh-widgets-2.4.2.min.js\", \"https://cdn.bokeh.org/bokeh/release/bokeh-tables-2.4.2.min.js\", \"https://cdn.bokeh.org/bokeh/release/bokeh-mathjax-2.4.2.min.js\"];\n",
       "  const css_urls = [];\n",
       "  \n",
       "\n",
       "  const inline_js = [\n",
       "    function(Bokeh) {\n",
       "      Bokeh.set_log_level(\"info\");\n",
       "    },\n",
       "    function(Bokeh) {\n",
       "    \n",
       "    \n",
       "    }\n",
       "  ];\n",
       "\n",
       "  function run_inline_js() {\n",
       "    \n",
       "    if (root.Bokeh !== undefined || force === true) {\n",
       "      \n",
       "    for (let i = 0; i < inline_js.length; i++) {\n",
       "      inline_js[i].call(root, root.Bokeh);\n",
       "    }\n",
       "    if (force === true) {\n",
       "        display_loaded();\n",
       "      }} else if (Date.now() < root._bokeh_timeout) {\n",
       "      setTimeout(run_inline_js, 100);\n",
       "    } else if (!root._bokeh_failed_load) {\n",
       "      console.log(\"Bokeh: BokehJS failed to load within specified timeout.\");\n",
       "      root._bokeh_failed_load = true;\n",
       "    } else if (force !== true) {\n",
       "      const cell = $(document.getElementById(\"1003\")).parents('.cell').data().cell;\n",
       "      cell.output_area.append_execute_result(NB_LOAD_WARNING)\n",
       "    }\n",
       "\n",
       "  }\n",
       "\n",
       "  if (root._bokeh_is_loading === 0) {\n",
       "    console.debug(\"Bokeh: BokehJS loaded, going straight to plotting\");\n",
       "    run_inline_js();\n",
       "  } else {\n",
       "    load_libs(css_urls, js_urls, function() {\n",
       "      console.debug(\"Bokeh: BokehJS plotting callback run at\", now());\n",
       "      run_inline_js();\n",
       "    });\n",
       "  }\n",
       "}(window));"
      ],
      "application/vnd.bokehjs_load.v0+json": "\n(function(root) {\n  function now() {\n    return new Date();\n  }\n\n  const force = true;\n\n  if (typeof root._bokeh_onload_callbacks === \"undefined\" || force === true) {\n    root._bokeh_onload_callbacks = [];\n    root._bokeh_is_loading = undefined;\n  }\n\n  \n\n  \n  if (typeof (root._bokeh_timeout) === \"undefined\" || force === true) {\n    root._bokeh_timeout = Date.now() + 5000;\n    root._bokeh_failed_load = false;\n  }\n\n  const NB_LOAD_WARNING = {'data': {'text/html':\n     \"<div style='background-color: #fdd'>\\n\"+\n     \"<p>\\n\"+\n     \"BokehJS does not appear to have successfully loaded. If loading BokehJS from CDN, this \\n\"+\n     \"may be due to a slow or bad network connection. Possible fixes:\\n\"+\n     \"</p>\\n\"+\n     \"<ul>\\n\"+\n     \"<li>re-rerun `output_notebook()` to attempt to load from CDN again, or</li>\\n\"+\n     \"<li>use INLINE resources instead, as so:</li>\\n\"+\n     \"</ul>\\n\"+\n     \"<code>\\n\"+\n     \"from bokeh.resources import INLINE\\n\"+\n     \"output_notebook(resources=INLINE)\\n\"+\n     \"</code>\\n\"+\n     \"</div>\"}};\n\n  function display_loaded() {\n    const el = document.getElementById(\"1003\");\n    if (el != null) {\n      el.textContent = \"BokehJS is loading...\";\n    }\n    if (root.Bokeh !== undefined) {\n      if (el != null) {\n        el.textContent = \"BokehJS \" + root.Bokeh.version + \" successfully loaded.\";\n      }\n    } else if (Date.now() < root._bokeh_timeout) {\n      setTimeout(display_loaded, 100)\n    }\n  }\n\n\n  function run_callbacks() {\n    try {\n      root._bokeh_onload_callbacks.forEach(function(callback) {\n        if (callback != null)\n          callback();\n      });\n    } finally {\n      delete root._bokeh_onload_callbacks\n    }\n    console.debug(\"Bokeh: all callbacks have finished\");\n  }\n\n  function load_libs(css_urls, js_urls, callback) {\n    if (css_urls == null) css_urls = [];\n    if (js_urls == null) js_urls = [];\n\n    root._bokeh_onload_callbacks.push(callback);\n    if (root._bokeh_is_loading > 0) {\n      console.debug(\"Bokeh: BokehJS is being loaded, scheduling callback at\", now());\n      return null;\n    }\n    if (js_urls == null || js_urls.length === 0) {\n      run_callbacks();\n      return null;\n    }\n    console.debug(\"Bokeh: BokehJS not loaded, scheduling load and callback at\", now());\n    root._bokeh_is_loading = css_urls.length + js_urls.length;\n\n    function on_load() {\n      root._bokeh_is_loading--;\n      if (root._bokeh_is_loading === 0) {\n        console.debug(\"Bokeh: all BokehJS libraries/stylesheets loaded\");\n        run_callbacks()\n      }\n    }\n\n    function on_error(url) {\n      console.error(\"failed to load \" + url);\n    }\n\n    for (let i = 0; i < css_urls.length; i++) {\n      const url = css_urls[i];\n      const element = document.createElement(\"link\");\n      element.onload = on_load;\n      element.onerror = on_error.bind(null, url);\n      element.rel = \"stylesheet\";\n      element.type = \"text/css\";\n      element.href = url;\n      console.debug(\"Bokeh: injecting link tag for BokehJS stylesheet: \", url);\n      document.body.appendChild(element);\n    }\n\n    for (let i = 0; i < js_urls.length; i++) {\n      const url = js_urls[i];\n      const element = document.createElement('script');\n      element.onload = on_load;\n      element.onerror = on_error.bind(null, url);\n      element.async = false;\n      element.src = url;\n      console.debug(\"Bokeh: injecting script tag for BokehJS library: \", url);\n      document.head.appendChild(element);\n    }\n  };\n\n  function inject_raw_css(css) {\n    const element = document.createElement(\"style\");\n    element.appendChild(document.createTextNode(css));\n    document.body.appendChild(element);\n  }\n\n  \n  const js_urls = [\"https://cdn.bokeh.org/bokeh/release/bokeh-2.4.2.min.js\", \"https://cdn.bokeh.org/bokeh/release/bokeh-gl-2.4.2.min.js\", \"https://cdn.bokeh.org/bokeh/release/bokeh-widgets-2.4.2.min.js\", \"https://cdn.bokeh.org/bokeh/release/bokeh-tables-2.4.2.min.js\", \"https://cdn.bokeh.org/bokeh/release/bokeh-mathjax-2.4.2.min.js\"];\n  const css_urls = [];\n  \n\n  const inline_js = [\n    function(Bokeh) {\n      Bokeh.set_log_level(\"info\");\n    },\n    function(Bokeh) {\n    \n    \n    }\n  ];\n\n  function run_inline_js() {\n    \n    if (root.Bokeh !== undefined || force === true) {\n      \n    for (let i = 0; i < inline_js.length; i++) {\n      inline_js[i].call(root, root.Bokeh);\n    }\n    if (force === true) {\n        display_loaded();\n      }} else if (Date.now() < root._bokeh_timeout) {\n      setTimeout(run_inline_js, 100);\n    } else if (!root._bokeh_failed_load) {\n      console.log(\"Bokeh: BokehJS failed to load within specified timeout.\");\n      root._bokeh_failed_load = true;\n    } else if (force !== true) {\n      const cell = $(document.getElementById(\"1003\")).parents('.cell').data().cell;\n      cell.output_area.append_execute_result(NB_LOAD_WARNING)\n    }\n\n  }\n\n  if (root._bokeh_is_loading === 0) {\n    console.debug(\"Bokeh: BokehJS loaded, going straight to plotting\");\n    run_inline_js();\n  } else {\n    load_libs(css_urls, js_urls, function() {\n      console.debug(\"Bokeh: BokehJS plotting callback run at\", now());\n      run_inline_js();\n    });\n  }\n}(window));"
     },
     "metadata": {},
     "output_type": "display_data"
    }
   ],
   "source": [
    "import sys\n",
    "import glob\n",
    "import pandas as pd\n",
    "import os\n",
    "import seaborn as sns\n",
    "\n",
    "from tqdm import tqdm\n",
    "from statsmodels.distributions.empirical_distribution import ECDF\n",
    "from collections import defaultdict\n",
    "import pickle\n",
    "import re\n",
    "import json\n",
    "from pathlib import Path\n",
    "import scipy.stats\n",
    "import time\n",
    "\n",
    "from open_spiel.python.algorithms.exploitability import nash_conv, best_response\n",
    "from open_spiel.python.examples.ubc_plotting_utils import *\n",
    "from open_spiel.python.examples.ubc_sample_game_tree import sample_game_tree, flatten_trees, flatten_tree\n",
    "from open_spiel.python.examples.ubc_clusters import projectPCA, fitGMM\n",
    "from open_spiel.python.examples.ubc_utils import *\n",
    "import open_spiel.python.examples.ubc_dispatch as dispatch\n",
    "\n",
    "from auctions.webutils import *\n",
    "\n",
    "os.environ[\"DJANGO_ALLOW_ASYNC_UNSAFE\"] = \"true\"\n",
    "\n",
    "\n",
    "from open_spiel.python.examples.ubc_cma import *\n",
    "\n",
    "output_notebook()\n",
    "from open_spiel.python.games.clock_auction_base import InformationPolicy, ActivityPolicy, UndersellPolicy, TiebreakingPolicy\n",
    "from open_spiel.python.algorithms.exploitability import nash_conv, best_response\n",
    "from open_spiel.python.examples.ubc_decorators import TakeSingleActionDecorator, TremblingAgentDecorator, ModalAgentDecorator"
   ]
  },
  {
   "cell_type": "code",
   "execution_count": 22,
   "metadata": {},
   "outputs": [
    {
     "name": "stdout",
     "output_type": "stream",
     "text": [
      "Found 60 runs\n"
     ]
    }
   ],
   "source": [
    "# load runs from experiments\n",
    "experiments = []\n",
    "experiments += ['3players_sep1']\n",
    "runs = []\n",
    "for experiment in experiments:\n",
    "    runs += Experiment.objects.get(name=experiment).equilibriumsolverrun_set.all()\n",
    "print(f\"Found {len(runs)} runs\")"
   ]
  },
  {
   "cell_type": "markdown",
   "metadata": {},
   "source": [
    "# Analyze runs"
   ]
  },
  {
   "cell_type": "code",
   "execution_count": 23,
   "metadata": {},
   "outputs": [
    {
     "name": "stderr",
     "output_type": "stream",
     "text": [
      "  2%|███▉                                                                                                                                                                                                                                      | 1/60 [00:00<00:22,  2.62it/s]"
     ]
    },
    {
     "name": "stdout",
     "output_type": "stream",
     "text": [
      "NashConv = nan; HeuristicConv = 4.87\n"
     ]
    },
    {
     "name": "stderr",
     "output_type": "stream",
     "text": [
      "  3%|███████▊                                                                                                                                                                                                                                  | 2/60 [00:00<00:19,  2.93it/s]"
     ]
    },
    {
     "name": "stdout",
     "output_type": "stream",
     "text": [
      "NashConv = nan; HeuristicConv = 0.01\n"
     ]
    },
    {
     "name": "stderr",
     "output_type": "stream",
     "text": [
      "  5%|███████████▋                                                                                                                                                                                                                              | 3/60 [00:00<00:18,  3.13it/s]"
     ]
    },
    {
     "name": "stdout",
     "output_type": "stream",
     "text": [
      "NashConv = nan; HeuristicConv = 0.09\n"
     ]
    },
    {
     "name": "stderr",
     "output_type": "stream",
     "text": [
      "  7%|███████████████▌                                                                                                                                                                                                                          | 4/60 [00:01<00:19,  2.87it/s]"
     ]
    },
    {
     "name": "stdout",
     "output_type": "stream",
     "text": [
      "NashConv = nan; HeuristicConv = 8.27\n"
     ]
    },
    {
     "name": "stderr",
     "output_type": "stream",
     "text": [
      " 10%|███████████████████████▍                                                                                                                                                                                                                  | 6/60 [00:02<00:17,  3.08it/s]"
     ]
    },
    {
     "name": "stdout",
     "output_type": "stream",
     "text": [
      "NashConv = nan; HeuristicConv = 4.88\n",
      "NashConv = 0.88; HeuristicConv = 0.84\n"
     ]
    },
    {
     "name": "stderr",
     "output_type": "stream",
     "text": [
      " 12%|███████████████████████████▎                                                                                                                                                                                                              | 7/60 [00:02<00:19,  2.71it/s]"
     ]
    },
    {
     "name": "stdout",
     "output_type": "stream",
     "text": [
      "NashConv = nan; HeuristicConv = 0.58\n"
     ]
    },
    {
     "name": "stderr",
     "output_type": "stream",
     "text": [
      " 13%|███████████████████████████████▏                                                                                                                                                                                                          | 8/60 [00:02<00:20,  2.57it/s]"
     ]
    },
    {
     "name": "stdout",
     "output_type": "stream",
     "text": [
      "NashConv = nan; HeuristicConv = 4.82\n"
     ]
    },
    {
     "name": "stderr",
     "output_type": "stream",
     "text": [
      " 15%|███████████████████████████████████                                                                                                                                                                                                       | 9/60 [00:03<00:19,  2.60it/s]"
     ]
    },
    {
     "name": "stdout",
     "output_type": "stream",
     "text": [
      "NashConv = nan; HeuristicConv = 4.23\n"
     ]
    },
    {
     "name": "stderr",
     "output_type": "stream",
     "text": [
      " 17%|██████████████████████████████████████▊                                                                                                                                                                                                  | 10/60 [00:03<00:17,  2.80it/s]"
     ]
    },
    {
     "name": "stdout",
     "output_type": "stream",
     "text": [
      "NashConv = nan; HeuristicConv = 0.14\n"
     ]
    },
    {
     "name": "stderr",
     "output_type": "stream",
     "text": [
      " 18%|██████████████████████████████████████████▋                                                                                                                                                                                              | 11/60 [00:03<00:15,  3.08it/s]"
     ]
    },
    {
     "name": "stdout",
     "output_type": "stream",
     "text": [
      "NashConv = nan; HeuristicConv = 0.14\n"
     ]
    },
    {
     "name": "stderr",
     "output_type": "stream",
     "text": [
      " 20%|██████████████████████████████████████████████▌                                                                                                                                                                                          | 12/60 [00:04<00:15,  3.12it/s]"
     ]
    },
    {
     "name": "stdout",
     "output_type": "stream",
     "text": [
      "NashConv = 8.63; HeuristicConv = 1.86\n"
     ]
    },
    {
     "name": "stderr",
     "output_type": "stream",
     "text": [
      " 22%|██████████████████████████████████████████████████▍                                                                                                                                                                                      | 13/60 [00:04<00:15,  2.96it/s]"
     ]
    },
    {
     "name": "stdout",
     "output_type": "stream",
     "text": [
      "NashConv = 14.44; HeuristicConv = 2.90\n"
     ]
    },
    {
     "name": "stderr",
     "output_type": "stream",
     "text": [
      " 23%|██████████████████████████████████████████████████████▎                                                                                                                                                                                  | 14/60 [00:04<00:16,  2.79it/s]"
     ]
    },
    {
     "name": "stdout",
     "output_type": "stream",
     "text": [
      "NashConv = nan; HeuristicConv = 5.53\n"
     ]
    },
    {
     "name": "stderr",
     "output_type": "stream",
     "text": [
      " 27%|██████████████████████████████████████████████████████████████▏                                                                                                                                                                          | 16/60 [00:05<00:14,  3.03it/s]"
     ]
    },
    {
     "name": "stdout",
     "output_type": "stream",
     "text": [
      "NashConv = 18.43; HeuristicConv = 15.70\n",
      "NashConv = nan; HeuristicConv = 1.12\n"
     ]
    },
    {
     "name": "stderr",
     "output_type": "stream",
     "text": [
      " 30%|█████████████████████████████████████████████████████████████████████▉                                                                                                                                                                   | 18/60 [00:06<00:12,  3.31it/s]"
     ]
    },
    {
     "name": "stdout",
     "output_type": "stream",
     "text": [
      "NashConv = nan; HeuristicConv = 1.10\n",
      "NashConv = nan; HeuristicConv = 0.14\n"
     ]
    },
    {
     "name": "stderr",
     "output_type": "stream",
     "text": [
      " 32%|█████████████████████████████████████████████████████████████████████████▊                                                                                                                                                               | 19/60 [00:06<00:12,  3.35it/s]"
     ]
    },
    {
     "name": "stdout",
     "output_type": "stream",
     "text": [
      "NashConv = nan; HeuristicConv = 0.14\n"
     ]
    },
    {
     "name": "stderr",
     "output_type": "stream",
     "text": [
      " 33%|█████████████████████████████████████████████████████████████████████████████▋                                                                                                                                                           | 20/60 [00:06<00:12,  3.32it/s]"
     ]
    },
    {
     "name": "stdout",
     "output_type": "stream",
     "text": [
      "NashConv = nan; HeuristicConv = 0.67\n"
     ]
    },
    {
     "name": "stderr",
     "output_type": "stream",
     "text": [
      " 35%|█████████████████████████████████████████████████████████████████████████████████▌                                                                                                                                                       | 21/60 [00:07<00:13,  2.92it/s]"
     ]
    },
    {
     "name": "stdout",
     "output_type": "stream",
     "text": [
      "NashConv = nan; HeuristicConv = 0.17\n"
     ]
    },
    {
     "name": "stderr",
     "output_type": "stream",
     "text": [
      " 38%|█████████████████████████████████████████████████████████████████████████████████████████▎                                                                                                                                               | 23/60 [00:07<00:10,  3.43it/s]"
     ]
    },
    {
     "name": "stdout",
     "output_type": "stream",
     "text": [
      "NashConv = nan; HeuristicConv = 0.00\n",
      "NashConv = nan; HeuristicConv = 0.00\n"
     ]
    },
    {
     "name": "stderr",
     "output_type": "stream",
     "text": [
      " 40%|█████████████████████████████████████████████████████████████████████████████████████████████▏                                                                                                                                           | 24/60 [00:08<00:11,  3.01it/s]"
     ]
    },
    {
     "name": "stdout",
     "output_type": "stream",
     "text": [
      "NashConv = nan; HeuristicConv = 0.79\n"
     ]
    },
    {
     "name": "stderr",
     "output_type": "stream",
     "text": [
      " 42%|█████████████████████████████████████████████████████████████████████████████████████████████████                                                                                                                                        | 25/60 [00:08<00:10,  3.35it/s]"
     ]
    },
    {
     "name": "stdout",
     "output_type": "stream",
     "text": [
      "NashConv = nan; HeuristicConv = 0.47\n"
     ]
    },
    {
     "name": "stderr",
     "output_type": "stream",
     "text": [
      " 43%|████████████████████████████████████████████████████████████████████████████████████████████████████▉                                                                                                                                    | 26/60 [00:08<00:12,  2.72it/s]"
     ]
    },
    {
     "name": "stdout",
     "output_type": "stream",
     "text": [
      "NashConv = nan; HeuristicConv = 1.09\n"
     ]
    },
    {
     "name": "stderr",
     "output_type": "stream",
     "text": [
      " 45%|████████████████████████████████████████████████████████████████████████████████████████████████████████▊                                                                                                                                | 27/60 [00:09<00:12,  2.63it/s]"
     ]
    },
    {
     "name": "stdout",
     "output_type": "stream",
     "text": [
      "NashConv = nan; HeuristicConv = 1.18\n"
     ]
    },
    {
     "name": "stderr",
     "output_type": "stream",
     "text": [
      " 47%|████████████████████████████████████████████████████████████████████████████████████████████████████████████▋                                                                                                                            | 28/60 [00:09<00:11,  2.75it/s]"
     ]
    },
    {
     "name": "stdout",
     "output_type": "stream",
     "text": [
      "NashConv = 0.03; HeuristicConv = 0.00\n"
     ]
    },
    {
     "name": "stderr",
     "output_type": "stream",
     "text": [
      " 48%|████████████████████████████████████████████████████████████████████████████████████████████████████████████████▌                                                                                                                        | 29/60 [00:10<00:10,  2.86it/s]"
     ]
    },
    {
     "name": "stdout",
     "output_type": "stream",
     "text": [
      "NashConv = 0.88; HeuristicConv = 0.03\n"
     ]
    },
    {
     "name": "stderr",
     "output_type": "stream",
     "text": [
      " 50%|████████████████████████████████████████████████████████████████████████████████████████████████████████████████████▌                                                                                                                    | 30/60 [00:10<00:10,  2.92it/s]"
     ]
    },
    {
     "name": "stdout",
     "output_type": "stream",
     "text": [
      "NashConv = 3.26; HeuristicConv = 1.28\n"
     ]
    },
    {
     "name": "stderr",
     "output_type": "stream",
     "text": [
      " 52%|████████████████████████████████████████████████████████████████████████████████████████████████████████████████████████▍                                                                                                                | 31/60 [00:10<00:10,  2.89it/s]"
     ]
    },
    {
     "name": "stdout",
     "output_type": "stream",
     "text": [
      "NashConv = nan; HeuristicConv = 3.38\n"
     ]
    },
    {
     "name": "stderr",
     "output_type": "stream",
     "text": [
      " 53%|████████████████████████████████████████████████████████████████████████████████████████████████████████████████████████████▎                                                                                                            | 32/60 [00:10<00:09,  3.01it/s]"
     ]
    },
    {
     "name": "stdout",
     "output_type": "stream",
     "text": [
      "NashConv = nan; HeuristicConv = 0.00\n"
     ]
    },
    {
     "name": "stderr",
     "output_type": "stream",
     "text": [
      " 63%|███████████████████████████████████████████████████████████████████████████████████████████████████████████████████████████████████████████████████▌                                                                                     | 38/60 [00:11<00:02,  7.95it/s]"
     ]
    },
    {
     "name": "stdout",
     "output_type": "stream",
     "text": [
      "NashConv = nan; HeuristicConv = 0.00\n",
      "Something wrong with sep1_sep1_3_hide_demand-cfr_port_2_no_extoutcome_lin_avg_plus-102 (3players_sep1). Skipping. Evaluation matching query does not exist.\n",
      "Traceback (most recent call last):\n",
      "  File \"/tmp/ipykernel_9949/1734247546.py\", line 47, in <module>\n",
      "    evaluation = final_checkpoint.get_modal_eval()\n",
      "  File \"/apps/open_spiel/web/auctions/auctions/models.py\", line 96, in get_modal_eval\n",
      "    return self.evaluation_set.get(name=modal_name)\n",
      "  File \"/home/ubuntu/.pyenv/versions/3.8.2/envs/venv/lib/python3.8/site-packages/django/db/models/manager.py\", line 85, in manager_method\n",
      "    return getattr(self.get_queryset(), name)(*args, **kwargs)\n",
      "  File \"/home/ubuntu/.pyenv/versions/3.8.2/envs/venv/lib/python3.8/site-packages/django/db/models/query.py\", line 439, in get\n",
      "    raise self.model.DoesNotExist(\n",
      "auctions.models.Evaluation.DoesNotExist: Evaluation matching query does not exist.\n",
      "\n",
      "Something wrong with sep1_sep1_3_hide_demand-cfr_port_2_no_extoutcome_lin_avg-100 (3players_sep1). Skipping. Evaluation matching query does not exist.\n",
      "Traceback (most recent call last):\n",
      "  File \"/tmp/ipykernel_9949/1734247546.py\", line 47, in <module>\n",
      "    evaluation = final_checkpoint.get_modal_eval()\n",
      "  File \"/apps/open_spiel/web/auctions/auctions/models.py\", line 96, in get_modal_eval\n",
      "    return self.evaluation_set.get(name=modal_name)\n",
      "  File \"/home/ubuntu/.pyenv/versions/3.8.2/envs/venv/lib/python3.8/site-packages/django/db/models/manager.py\", line 85, in manager_method\n",
      "    return getattr(self.get_queryset(), name)(*args, **kwargs)\n",
      "  File \"/home/ubuntu/.pyenv/versions/3.8.2/envs/venv/lib/python3.8/site-packages/django/db/models/query.py\", line 439, in get\n",
      "    raise self.model.DoesNotExist(\n",
      "auctions.models.Evaluation.DoesNotExist: Evaluation matching query does not exist.\n",
      "\n",
      "Something wrong with sep1_sep1_4_hide_demand-cfr_port_2_no_extoutcome_lin_avg-100 (3players_sep1). Skipping. Evaluation matching query does not exist.\n",
      "Traceback (most recent call last):\n",
      "  File \"/tmp/ipykernel_9949/1734247546.py\", line 47, in <module>\n",
      "    evaluation = final_checkpoint.get_modal_eval()\n",
      "  File \"/apps/open_spiel/web/auctions/auctions/models.py\", line 96, in get_modal_eval\n",
      "    return self.evaluation_set.get(name=modal_name)\n",
      "  File \"/home/ubuntu/.pyenv/versions/3.8.2/envs/venv/lib/python3.8/site-packages/django/db/models/manager.py\", line 85, in manager_method\n",
      "    return getattr(self.get_queryset(), name)(*args, **kwargs)\n",
      "  File \"/home/ubuntu/.pyenv/versions/3.8.2/envs/venv/lib/python3.8/site-packages/django/db/models/query.py\", line 439, in get\n",
      "    raise self.model.DoesNotExist(\n",
      "auctions.models.Evaluation.DoesNotExist: Evaluation matching query does not exist.\n",
      "\n",
      "Something wrong with sep1_sep1_4_hide_demand-cfr_port_2_no_extoutcome_lin_avg_plus-102 (3players_sep1). Skipping. Evaluation matching query does not exist.\n",
      "Traceback (most recent call last):\n",
      "  File \"/tmp/ipykernel_9949/1734247546.py\", line 47, in <module>\n",
      "    evaluation = final_checkpoint.get_modal_eval()\n",
      "  File \"/apps/open_spiel/web/auctions/auctions/models.py\", line 96, in get_modal_eval\n",
      "    return self.evaluation_set.get(name=modal_name)\n",
      "  File \"/home/ubuntu/.pyenv/versions/3.8.2/envs/venv/lib/python3.8/site-packages/django/db/models/manager.py\", line 85, in manager_method\n",
      "    return getattr(self.get_queryset(), name)(*args, **kwargs)\n",
      "  File \"/home/ubuntu/.pyenv/versions/3.8.2/envs/venv/lib/python3.8/site-packages/django/db/models/query.py\", line 439, in get\n",
      "    raise self.model.DoesNotExist(\n",
      "auctions.models.Evaluation.DoesNotExist: Evaluation matching query does not exist.\n",
      "\n",
      "NashConv = nan; HeuristicConv = 0.14\n"
     ]
    },
    {
     "name": "stderr",
     "output_type": "stream",
     "text": [
      " 67%|███████████████████████████████████████████████████████████████████████████████████████████████████████████████████████████████████████████████████████████▎                                                                             | 40/60 [00:11<00:02,  7.85it/s]"
     ]
    },
    {
     "name": "stdout",
     "output_type": "stream",
     "text": [
      "NashConv = nan; HeuristicConv = 0.14\n",
      "Something wrong with sep1_sep1_4_hide_demand-cfr_port_2_no_extoutcome_lin_avg_plus-100 (3players_sep1). Skipping. Evaluation matching query does not exist.\n",
      "Traceback (most recent call last):\n",
      "  File \"/tmp/ipykernel_9949/1734247546.py\", line 47, in <module>\n",
      "    evaluation = final_checkpoint.get_modal_eval()\n",
      "  File \"/apps/open_spiel/web/auctions/auctions/models.py\", line 96, in get_modal_eval\n",
      "    return self.evaluation_set.get(name=modal_name)\n",
      "  File \"/home/ubuntu/.pyenv/versions/3.8.2/envs/venv/lib/python3.8/site-packages/django/db/models/manager.py\", line 85, in manager_method\n",
      "    return getattr(self.get_queryset(), name)(*args, **kwargs)\n",
      "  File \"/home/ubuntu/.pyenv/versions/3.8.2/envs/venv/lib/python3.8/site-packages/django/db/models/query.py\", line 439, in get\n",
      "    raise self.model.DoesNotExist(\n",
      "auctions.models.Evaluation.DoesNotExist: Evaluation matching query does not exist.\n",
      "\n",
      "Something wrong with sep1_sep1_4_hide_demand-cfr_port_2_no_extoutcome_lin_avg_plus-101 (3players_sep1). Skipping. Evaluation matching query does not exist.\n",
      "Traceback (most recent call last):\n",
      "  File \"/tmp/ipykernel_9949/1734247546.py\", line 47, in <module>\n",
      "    evaluation = final_checkpoint.get_modal_eval()\n",
      "  File \"/apps/open_spiel/web/auctions/auctions/models.py\", line 96, in get_modal_eval\n",
      "    return self.evaluation_set.get(name=modal_name)\n",
      "  File \"/home/ubuntu/.pyenv/versions/3.8.2/envs/venv/lib/python3.8/site-packages/django/db/models/manager.py\", line 85, in manager_method\n",
      "    return getattr(self.get_queryset(), name)(*args, **kwargs)\n",
      "  File \"/home/ubuntu/.pyenv/versions/3.8.2/envs/venv/lib/python3.8/site-packages/django/db/models/query.py\", line 439, in get\n",
      "    raise self.model.DoesNotExist(\n",
      "auctions.models.Evaluation.DoesNotExist: Evaluation matching query does not exist.\n",
      "\n",
      "Something wrong with sep1_sep1_4_hide_demand-cfr_port_2_no_extoutcome_lin_avg-101 (3players_sep1). Skipping. Evaluation matching query does not exist.\n",
      "Traceback (most recent call last):\n",
      "  File \"/tmp/ipykernel_9949/1734247546.py\", line 47, in <module>\n",
      "    evaluation = final_checkpoint.get_modal_eval()\n",
      "  File \"/apps/open_spiel/web/auctions/auctions/models.py\", line 96, in get_modal_eval\n",
      "    return self.evaluation_set.get(name=modal_name)\n",
      "  File \"/home/ubuntu/.pyenv/versions/3.8.2/envs/venv/lib/python3.8/site-packages/django/db/models/manager.py\", line 85, in manager_method\n",
      "    return getattr(self.get_queryset(), name)(*args, **kwargs)\n",
      "  File \"/home/ubuntu/.pyenv/versions/3.8.2/envs/venv/lib/python3.8/site-packages/django/db/models/query.py\", line 439, in get\n",
      "    raise self.model.DoesNotExist(\n",
      "auctions.models.Evaluation.DoesNotExist: Evaluation matching query does not exist.\n",
      "\n",
      "Something wrong with sep1_sep1_4_hide_demand-cfr_port_2_no_extoutcome_lin_avg-102 (3players_sep1). Skipping. Evaluation matching query does not exist.\n",
      "Traceback (most recent call last):\n",
      "  File \"/tmp/ipykernel_9949/1734247546.py\", line 47, in <module>\n",
      "    evaluation = final_checkpoint.get_modal_eval()\n",
      "  File \"/apps/open_spiel/web/auctions/auctions/models.py\", line 96, in get_modal_eval\n",
      "    return self.evaluation_set.get(name=modal_name)\n",
      "  File \"/home/ubuntu/.pyenv/versions/3.8.2/envs/venv/lib/python3.8/site-packages/django/db/models/manager.py\", line 85, in manager_method\n",
      "    return getattr(self.get_queryset(), name)(*args, **kwargs)\n",
      "  File \"/home/ubuntu/.pyenv/versions/3.8.2/envs/venv/lib/python3.8/site-packages/django/db/models/query.py\", line 439, in get\n",
      "    raise self.model.DoesNotExist(\n",
      "auctions.models.Evaluation.DoesNotExist: Evaluation matching query does not exist.\n",
      "\n",
      "Something wrong with sep1_sep1_2_hide_demand-cfr_port_2_no_extoutcome_lin_avg-100 (3players_sep1). Skipping. Evaluation matching query does not exist.\n",
      "Traceback (most recent call last):\n",
      "  File \"/tmp/ipykernel_9949/1734247546.py\", line 47, in <module>\n",
      "    evaluation = final_checkpoint.get_modal_eval()\n",
      "  File \"/apps/open_spiel/web/auctions/auctions/models.py\", line 96, in get_modal_eval\n",
      "    return self.evaluation_set.get(name=modal_name)\n",
      "  File \"/home/ubuntu/.pyenv/versions/3.8.2/envs/venv/lib/python3.8/site-packages/django/db/models/manager.py\", line 85, in manager_method\n",
      "    return getattr(self.get_queryset(), name)(*args, **kwargs)\n",
      "  File \"/home/ubuntu/.pyenv/versions/3.8.2/envs/venv/lib/python3.8/site-packages/django/db/models/query.py\", line 439, in get\n",
      "    raise self.model.DoesNotExist(\n",
      "auctions.models.Evaluation.DoesNotExist: Evaluation matching query does not exist.\n",
      "\n"
     ]
    },
    {
     "name": "stderr",
     "output_type": "stream",
     "text": [
      " 75%|██████████████████████████████████████████████████████████████████████████████████████████████████████████████████████████████████████████████████████████████████████████████▊                                                          | 45/60 [00:12<00:01,  8.71it/s]"
     ]
    },
    {
     "name": "stdout",
     "output_type": "stream",
     "text": [
      "NashConv = nan; HeuristicConv = 2.01\n"
     ]
    },
    {
     "name": "stderr",
     "output_type": "stream",
     "text": [
      " 82%|██████████████████████████████████████████████████████████████████████████████████████████████████████████████████████████████████████████████████████████████████████████████████████████████▎                                          | 49/60 [00:12<00:01,  9.07it/s]"
     ]
    },
    {
     "name": "stdout",
     "output_type": "stream",
     "text": [
      "NashConv = nan; HeuristicConv = 0.42\n",
      "Something wrong with sep1_sep1_1_hide_demand-cfr_port_2_no_extoutcome_lin_avg-102 (3players_sep1). Skipping. Evaluation matching query does not exist.\n",
      "Traceback (most recent call last):\n",
      "  File \"/tmp/ipykernel_9949/1734247546.py\", line 47, in <module>\n",
      "    evaluation = final_checkpoint.get_modal_eval()\n",
      "  File \"/apps/open_spiel/web/auctions/auctions/models.py\", line 96, in get_modal_eval\n",
      "    return self.evaluation_set.get(name=modal_name)\n",
      "  File \"/home/ubuntu/.pyenv/versions/3.8.2/envs/venv/lib/python3.8/site-packages/django/db/models/manager.py\", line 85, in manager_method\n",
      "    return getattr(self.get_queryset(), name)(*args, **kwargs)\n",
      "  File \"/home/ubuntu/.pyenv/versions/3.8.2/envs/venv/lib/python3.8/site-packages/django/db/models/query.py\", line 439, in get\n",
      "    raise self.model.DoesNotExist(\n",
      "auctions.models.Evaluation.DoesNotExist: Evaluation matching query does not exist.\n",
      "\n",
      "Something wrong with sep1_sep1_3_hide_demand-cfr_port_2_no_extoutcome_lin_avg_plus-101 (3players_sep1). Skipping. Evaluation matching query does not exist.\n",
      "Traceback (most recent call last):\n",
      "  File \"/tmp/ipykernel_9949/1734247546.py\", line 47, in <module>\n",
      "    evaluation = final_checkpoint.get_modal_eval()\n",
      "  File \"/apps/open_spiel/web/auctions/auctions/models.py\", line 96, in get_modal_eval\n",
      "    return self.evaluation_set.get(name=modal_name)\n",
      "  File \"/home/ubuntu/.pyenv/versions/3.8.2/envs/venv/lib/python3.8/site-packages/django/db/models/manager.py\", line 85, in manager_method\n",
      "    return getattr(self.get_queryset(), name)(*args, **kwargs)\n",
      "  File \"/home/ubuntu/.pyenv/versions/3.8.2/envs/venv/lib/python3.8/site-packages/django/db/models/query.py\", line 439, in get\n",
      "    raise self.model.DoesNotExist(\n",
      "auctions.models.Evaluation.DoesNotExist: Evaluation matching query does not exist.\n",
      "\n",
      "NashConv = nan; HeuristicConv = 0.14\n",
      "Something wrong with sep1_sep1_0_hide_demand-cfr_port_2_no_extoutcome_lin_avg-101 (3players_sep1). Skipping. Evaluation matching query does not exist.\n",
      "Traceback (most recent call last):\n",
      "  File \"/tmp/ipykernel_9949/1734247546.py\", line 47, in <module>\n",
      "    evaluation = final_checkpoint.get_modal_eval()\n",
      "  File \"/apps/open_spiel/web/auctions/auctions/models.py\", line 96, in get_modal_eval\n",
      "    return self.evaluation_set.get(name=modal_name)\n",
      "  File \"/home/ubuntu/.pyenv/versions/3.8.2/envs/venv/lib/python3.8/site-packages/django/db/models/manager.py\", line 85, in manager_method\n",
      "    return getattr(self.get_queryset(), name)(*args, **kwargs)\n",
      "  File \"/home/ubuntu/.pyenv/versions/3.8.2/envs/venv/lib/python3.8/site-packages/django/db/models/query.py\", line 439, in get\n",
      "    raise self.model.DoesNotExist(\n",
      "auctions.models.Evaluation.DoesNotExist: Evaluation matching query does not exist.\n",
      "\n"
     ]
    },
    {
     "name": "stderr",
     "output_type": "stream",
     "text": [
      " 85%|██████████████████████████████████████████████████████████████████████████████████████████████████████████████████████████████████████████████████████████████████████████████████████████████████████                                   | 51/60 [00:13<00:01,  7.21it/s]"
     ]
    },
    {
     "name": "stdout",
     "output_type": "stream",
     "text": [
      "NashConv = nan; HeuristicConv = 0.59\n",
      "Something wrong with sep1_sep1_0_hide_demand-cfr_port_2_no_extoutcome_lin_avg_plus-100 (3players_sep1). Skipping. Evaluation matching query does not exist.\n",
      "Traceback (most recent call last):\n",
      "  File \"/tmp/ipykernel_9949/1734247546.py\", line 47, in <module>\n",
      "    evaluation = final_checkpoint.get_modal_eval()\n",
      "  File \"/apps/open_spiel/web/auctions/auctions/models.py\", line 96, in get_modal_eval\n",
      "    return self.evaluation_set.get(name=modal_name)\n",
      "  File \"/home/ubuntu/.pyenv/versions/3.8.2/envs/venv/lib/python3.8/site-packages/django/db/models/manager.py\", line 85, in manager_method\n",
      "    return getattr(self.get_queryset(), name)(*args, **kwargs)\n",
      "  File \"/home/ubuntu/.pyenv/versions/3.8.2/envs/venv/lib/python3.8/site-packages/django/db/models/query.py\", line 439, in get\n",
      "    raise self.model.DoesNotExist(\n",
      "auctions.models.Evaluation.DoesNotExist: Evaluation matching query does not exist.\n",
      "\n",
      "Something wrong with sep1_sep1_0_hide_demand-cfr_port_2_no_extoutcome_lin_avg_plus-101 (3players_sep1). Skipping. Evaluation matching query does not exist.\n",
      "Traceback (most recent call last):\n",
      "  File \"/tmp/ipykernel_9949/1734247546.py\", line 47, in <module>\n",
      "    evaluation = final_checkpoint.get_modal_eval()\n",
      "  File \"/apps/open_spiel/web/auctions/auctions/models.py\", line 96, in get_modal_eval\n",
      "    return self.evaluation_set.get(name=modal_name)\n",
      "  File \"/home/ubuntu/.pyenv/versions/3.8.2/envs/venv/lib/python3.8/site-packages/django/db/models/manager.py\", line 85, in manager_method\n",
      "    return getattr(self.get_queryset(), name)(*args, **kwargs)\n",
      "  File \"/home/ubuntu/.pyenv/versions/3.8.2/envs/venv/lib/python3.8/site-packages/django/db/models/query.py\", line 439, in get\n",
      "    raise self.model.DoesNotExist(\n",
      "auctions.models.Evaluation.DoesNotExist: Evaluation matching query does not exist.\n",
      "\n"
     ]
    },
    {
     "name": "stderr",
     "output_type": "stream",
     "text": [
      " 90%|█████████████████████████████████████████████████████████████████████████████████████████████████████████████████████████████████████████████████████████████████████████████████████████████████████████████████▋                       | 54/60 [00:13<00:00,  7.38it/s]"
     ]
    },
    {
     "name": "stdout",
     "output_type": "stream",
     "text": [
      "NashConv = nan; HeuristicConv = 4.00\n"
     ]
    },
    {
     "name": "stderr",
     "output_type": "stream",
     "text": [
      " 92%|█████████████████████████████████████████████████████████████████████████████████████████████████████████████████████████████████████████████████████████████████████████████████████████████████████████████████████▌                   | 55/60 [00:14<00:00,  5.32it/s]"
     ]
    },
    {
     "name": "stdout",
     "output_type": "stream",
     "text": [
      "NashConv = nan; HeuristicConv = 15.08\n"
     ]
    },
    {
     "name": "stderr",
     "output_type": "stream",
     "text": [
      " 97%|█████████████████████████████████████████████████████████████████████████████████████████████████████████████████████████████████████████████████████████████████████████████████████████████████████████████████████████████████▏       | 58/60 [00:14<00:00,  5.90it/s]"
     ]
    },
    {
     "name": "stdout",
     "output_type": "stream",
     "text": [
      "NashConv = nan; HeuristicConv = 0.12\n",
      "Something wrong with sep1_sep1_0_hide_demand-cfr_port_2_no_extoutcome_lin_avg_plus-102 (3players_sep1). Skipping. Evaluation matching query does not exist.\n",
      "Traceback (most recent call last):\n",
      "  File \"/tmp/ipykernel_9949/1734247546.py\", line 47, in <module>\n",
      "    evaluation = final_checkpoint.get_modal_eval()\n",
      "  File \"/apps/open_spiel/web/auctions/auctions/models.py\", line 96, in get_modal_eval\n",
      "    return self.evaluation_set.get(name=modal_name)\n",
      "  File \"/home/ubuntu/.pyenv/versions/3.8.2/envs/venv/lib/python3.8/site-packages/django/db/models/manager.py\", line 85, in manager_method\n",
      "    return getattr(self.get_queryset(), name)(*args, **kwargs)\n",
      "  File \"/home/ubuntu/.pyenv/versions/3.8.2/envs/venv/lib/python3.8/site-packages/django/db/models/query.py\", line 439, in get\n",
      "    raise self.model.DoesNotExist(\n",
      "auctions.models.Evaluation.DoesNotExist: Evaluation matching query does not exist.\n",
      "\n",
      "NashConv = nan; HeuristicConv = 0.67\n"
     ]
    },
    {
     "name": "stderr",
     "output_type": "stream",
     "text": [
      "100%|█████████████████████████████████████████████████████████████████████████████████████████████████████████████████████████████████████████████████████████████████████████████████████████████████████████████████████████████████████████| 60/60 [00:14<00:00,  4.04it/s]"
     ]
    },
    {
     "name": "stdout",
     "output_type": "stream",
     "text": [
      "NashConv = nan; HeuristicConv = 0.00\n",
      "Something wrong with sep1_sep1_2_hide_demand-cfr_port_2_no_extoutcome_lin_avg_plus-101 (3players_sep1). Skipping. Evaluation matching query does not exist.\n",
      "Traceback (most recent call last):\n",
      "  File \"/tmp/ipykernel_9949/1734247546.py\", line 47, in <module>\n",
      "    evaluation = final_checkpoint.get_modal_eval()\n",
      "  File \"/apps/open_spiel/web/auctions/auctions/models.py\", line 96, in get_modal_eval\n",
      "    return self.evaluation_set.get(name=modal_name)\n",
      "  File \"/home/ubuntu/.pyenv/versions/3.8.2/envs/venv/lib/python3.8/site-packages/django/db/models/manager.py\", line 85, in manager_method\n",
      "    return getattr(self.get_queryset(), name)(*args, **kwargs)\n",
      "  File \"/home/ubuntu/.pyenv/versions/3.8.2/envs/venv/lib/python3.8/site-packages/django/db/models/query.py\", line 439, in get\n",
      "    raise self.model.DoesNotExist(\n",
      "auctions.models.Evaluation.DoesNotExist: Evaluation matching query does not exist.\n",
      "\n",
      "44\n"
     ]
    },
    {
     "name": "stderr",
     "output_type": "stream",
     "text": [
      "\n"
     ]
    }
   ],
   "source": [
    "# empirical = True\n",
    "# USE_MODAL = True\n",
    "\n",
    "records = []\n",
    "for run in tqdm(runs):\n",
    "    try:\n",
    "    \n",
    "        try:\n",
    "            game, final_checkpoint, policy = get_results(run, skip_single_chance_nodes=True, load_policy=False)\n",
    "        except Exception as e:\n",
    "            print(f\"Skipping run {run.name} because of error {e}\")\n",
    "            continue\n",
    "\n",
    "        record = {\n",
    "            # clock auction params\n",
    "            'game_name': run.game.name, \n",
    "            'potential': run.config.get('potential_function', 'None'),\n",
    "            'seed': run.config.get('seed'), \n",
    "            'run_name': run.name,\n",
    "            'experiment': run.experiment.name,\n",
    "            'config': run.get_config_name(),\n",
    "            't': final_checkpoint.t,\n",
    "\n",
    "            # CMA knobs\n",
    "            'information_policy': InformationPolicy(game.auction_params.information_policy).name,\n",
    "            'activity_policy': ActivityPolicy(game.auction_params.activity_policy).name,\n",
    "            'undersell_policy': UndersellPolicy(game.auction_params.undersell_policy).name,\n",
    "            'tiebreaking_policy': TiebreakingPolicy(game.auction_params.tiebreaking_policy).name,\n",
    "            'grace_rounds': game.auction_params.grace_rounds,\n",
    "            'risk_aversion': 'risk' in run.game.name, # TODO: actually read this from players\n",
    "            'spite': 'spite' in run.game.name, # TODO: actually read this from players\n",
    "            'clock_speed': game.auction_params.increment,\n",
    "            'base_game_name': '_'.join(run.game.name.split('/')[1].split('_')[:2]), # Stupid naming convention that will surely bite us later\n",
    "\n",
    "            # solver information\n",
    "            'alg': get_algorithm_from_run(run),\n",
    "            'walltime': run.walltime(),\n",
    "\n",
    "            # metrics from eval\n",
    "            # 'total_entropy': total_entropy,\n",
    "\n",
    "            # stats about history distribution\n",
    "            # 'avg_distinct_histories': np.mean([len(d) for d in history_dists.values()]),\n",
    "            # 'avg_history_entropy': np.mean(history_entropies),\n",
    "        } \n",
    "        \n",
    "        evaluation = final_checkpoint.get_modal_eval()\n",
    "        \n",
    "        record['nash_conv'] = evaluation.nash_conv\n",
    "        record['rewards'] = evaluation.mean_rewards\n",
    "        record['nash_conv_frac'] = evaluation.nash_conv / sum(evaluation.mean_rewards) if not pd.isnull(evaluation.nash_conv) else np.nan\n",
    "        record['heuristic_conv'] = evaluation.heuristic_conv\n",
    "        record['heuristic_conv_frac'] = evaluation.heuristic_conv / sum(evaluation.mean_rewards) if not pd.isnull(evaluation.heuristic_conv) else np.nan\n",
    "        \n",
    "        for i in range(game.num_players()):\n",
    "            record[f'rewards_{i}'] = evaluation.mean_rewards[i]\n",
    "            record[f'nc_player_improvements_{i}'] = evaluation.nash_conv_player_improvements[i] if not pd.isnull(evaluation.nash_conv) else np.nan\n",
    "            record[f'nc_player_improvements_frac_{i}'] = (evaluation.nash_conv_player_improvements[i] / evaluation.mean_rewards[i]) if not pd.isnull(evaluation.nash_conv) else np.nan\n",
    "        \n",
    "            record[f'hc_player_improvements_{i}'] = evaluation.heuristic_conv_player_improvements[i] if not pd.isnull(evaluation.heuristic_conv) else np.nan\n",
    "            record[f'hc_player_improvements_frac_{i}'] = (evaluation.heuristic_conv_player_improvements[i] / evaluation.mean_rewards[i]) if not pd.isnull(evaluation.heuristic_conv) else np.nan\n",
    "          \n",
    "        record.update(**analyze_samples(evaluation.samples, game))\n",
    "\n",
    "        records.append(record)\n",
    "    \n",
    "        nc = record['nash_conv']\n",
    "        hc = record['heuristic_conv']\n",
    "        print(f\"NashConv = {(np.nan if pd.isnull(nc) else nc):.2f}; HeuristicConv = {(np.nan if pd.isnull(hc) else hc):.2f}\")\n",
    "    except Exception as e:\n",
    "        print(f\"Something wrong with {run}. Skipping. {e}\")\n",
    "        # raise e\n",
    "        # break\n",
    "        import traceback\n",
    "        print(traceback.format_exc())\n",
    "\n",
    "print(len(records))"
   ]
  },
  {
   "cell_type": "code",
   "execution_count": 26,
   "metadata": {},
   "outputs": [],
   "source": [
    "df = pd.DataFrame.from_records(records)"
   ]
  },
  {
   "cell_type": "code",
   "execution_count": 27,
   "metadata": {},
   "outputs": [],
   "source": [
    "df['rule_set'] = df.apply(lambda row: row.game_name.split(row.base_game_name)[1][1:-5], axis=1)"
   ]
  },
  {
   "cell_type": "code",
   "execution_count": 28,
   "metadata": {},
   "outputs": [
    {
     "name": "stdout",
     "output_type": "stream",
     "text": [
      "OVERALL\n",
      "NC\n",
      "count     7.000000\n",
      "mean      6.650561\n",
      "std       7.363352\n",
      "min       0.032836\n",
      "25%       0.881866\n",
      "50%       3.255481\n",
      "75%      11.534798\n",
      "max      18.432285\n",
      "Name: nash_conv, dtype: float64\n",
      "HC when NC is not null\n",
      "count     7.000000\n",
      "mean      3.230277\n",
      "std       5.590856\n",
      "min       0.000000\n",
      "25%       0.435677\n",
      "50%       1.284916\n",
      "75%       2.379913\n",
      "max      15.695844\n",
      "Name: heuristic_conv, dtype: float64\n",
      "HC when NC is null\n",
      "count    37.000000\n",
      "mean      1.813600\n",
      "std       3.039643\n",
      "min       0.000000\n",
      "25%       0.137255\n",
      "50%       0.578431\n",
      "75%       2.005345\n",
      "max      15.077540\n",
      "Name: heuristic_conv, dtype: float64\n",
      "HC overall\n",
      "count    44.000000\n",
      "mean      2.038981\n",
      "std       3.517330\n",
      "min       0.000000\n",
      "25%       0.137255\n",
      "50%       0.629111\n",
      "75%       2.229930\n",
      "max      15.695844\n",
      "Name: heuristic_conv, dtype: float64\n",
      "\n",
      "NO BIAS\n",
      "NC\n",
      "count     7.000000\n",
      "mean      6.650561\n",
      "std       7.363352\n",
      "min       0.032836\n",
      "25%       0.881866\n",
      "50%       3.255481\n",
      "75%      11.534798\n",
      "max      18.432285\n",
      "Name: nash_conv, dtype: float64\n",
      "HC when NC is not null\n",
      "count     7.000000\n",
      "mean      3.230277\n",
      "std       5.590856\n",
      "min       0.000000\n",
      "25%       0.435677\n",
      "50%       1.284916\n",
      "75%       2.379913\n",
      "max      15.695844\n",
      "Name: heuristic_conv, dtype: float64\n",
      "HC when NC is null\n",
      "count    37.000000\n",
      "mean      1.813600\n",
      "std       3.039643\n",
      "min       0.000000\n",
      "25%       0.137255\n",
      "50%       0.578431\n",
      "75%       2.005345\n",
      "max      15.077540\n",
      "Name: heuristic_conv, dtype: float64\n",
      "HC overall\n",
      "count    44.000000\n",
      "mean      2.038981\n",
      "std       3.517330\n",
      "min       0.000000\n",
      "25%       0.137255\n",
      "50%       0.629111\n",
      "75%       2.229930\n",
      "max      15.695844\n",
      "Name: heuristic_conv, dtype: float64\n",
      "\n",
      "YES BIAS\n",
      "NC\n",
      "count    0.0\n",
      "mean     NaN\n",
      "std      NaN\n",
      "min      NaN\n",
      "25%      NaN\n",
      "50%      NaN\n",
      "75%      NaN\n",
      "max      NaN\n",
      "Name: nash_conv, dtype: float64\n",
      "HC when NC is not null\n",
      "count    0.0\n",
      "mean     NaN\n",
      "std      NaN\n",
      "min      NaN\n",
      "25%      NaN\n",
      "50%      NaN\n",
      "75%      NaN\n",
      "max      NaN\n",
      "Name: heuristic_conv, dtype: float64\n",
      "HC when NC is null\n",
      "count    0.0\n",
      "mean     NaN\n",
      "std      NaN\n",
      "min      NaN\n",
      "25%      NaN\n",
      "50%      NaN\n",
      "75%      NaN\n",
      "max      NaN\n",
      "Name: heuristic_conv, dtype: float64\n",
      "HC overall\n",
      "count    0.0\n",
      "mean     NaN\n",
      "std      NaN\n",
      "min      NaN\n",
      "25%      NaN\n",
      "50%      NaN\n",
      "75%      NaN\n",
      "max      NaN\n",
      "Name: heuristic_conv, dtype: float64\n",
      "\n"
     ]
    }
   ],
   "source": [
    "def describe_nc(df):\n",
    "    print(\"NC\")\n",
    "    print(df['nash_conv'].describe())\n",
    "    \n",
    "    print(\"HC when NC is not null\")\n",
    "    print(df.query('~nash_conv.isnull()')['heuristic_conv'].describe())\n",
    "    \n",
    "    print(\"HC when NC is null\")\n",
    "    print(df.query('nash_conv.isnull()')['heuristic_conv'].describe())\n",
    "    \n",
    "    print(\"HC overall\")\n",
    "    print(df['heuristic_conv'].describe())\n",
    "    print()\n",
    "    \n",
    "    \n",
    "\n",
    "\n",
    "# Overall\n",
    "print(\"OVERALL\")\n",
    "describe_nc(df)\n",
    "\n",
    "# Did biasing towards heuristics help?\n",
    "no_bias = df.query('config.str.contains(\"cfr_port_2_no_ext\")')\n",
    "print(\"NO BIAS\")\n",
    "describe_nc(no_bias)\n",
    "\n",
    "yes_bias = df.query('config.str.contains(\"cfr_port_3\")')\n",
    "print(\"YES BIAS\")\n",
    "describe_nc(yes_bias)\n"
   ]
  },
  {
   "cell_type": "code",
   "execution_count": 9,
   "metadata": {},
   "outputs": [
    {
     "data": {
      "text/plain": [
       "count    195.000000\n",
       "mean       3.329215\n",
       "std        5.492855\n",
       "min        0.000000\n",
       "25%        0.364938\n",
       "50%        1.022989\n",
       "75%        3.769000\n",
       "max       32.920099\n",
       "Name: heuristic_conv, dtype: float64"
      ]
     },
     "execution_count": 9,
     "metadata": {},
     "output_type": "execute_result"
    }
   ],
   "source": [
    "df.heuristic_conv.describe()"
   ]
  },
  {
   "cell_type": "code",
   "execution_count": 8,
   "metadata": {},
   "outputs": [
    {
     "data": {
      "text/plain": [
       "Text(0, 0.5, 'HeuristicConv')"
      ]
     },
     "execution_count": 8,
     "metadata": {},
     "output_type": "execute_result"
    },
    {
     "data": {
      "image/png": "[encoded data removed]",
      "text/plain": [
       "<Figure size 432x288 with 1 Axes>"
      ]
     },
     "metadata": {
      "needs_background": "light"
     },
     "output_type": "display_data"
    }
   ],
   "source": [
    "plt.scatter(\n",
    "    df.nash_conv.values,\n",
    "    df.heuristic_conv.values,\n",
    "    s=2\n",
    ")\n",
    "plt.xlabel('NashConv')\n",
    "plt.ylabel('HeuristicConv')"
   ]
  },
  {
   "cell_type": "code",
   "execution_count": 9,
   "metadata": {},
   "outputs": [],
   "source": [
    "# TODO: Maybe actually make this readable?\n",
    "df['variant'] = list(map(str,(zip(df.information_policy, df.clock_speed, df.activity_policy, df.undersell_policy, df.tiebreaking_policy, df.risk_aversion, df.grace_rounds))))\n",
    "palette = dict()\n",
    "\n",
    "colors = ['red', 'blue', 'magenta', 'green', 'orange']\n",
    "\n",
    "for i, v in enumerate(df['variant'].unique()):\n",
    "    palette[v] = colors[i]"
   ]
  },
  {
   "cell_type": "code",
   "execution_count": 31,
   "metadata": {},
   "outputs": [],
   "source": [
    "# Need to a) Remove \"bad\" entries b) Be careful about comparisons that are missing datapoints \n",
    "df_plt = df"
   ]
  },
  {
   "cell_type": "code",
   "execution_count": 37,
   "metadata": {},
   "outputs": [
    {
     "data": {
      "text/plain": [
       "(44, 36)"
      ]
     },
     "execution_count": 37,
     "metadata": {},
     "output_type": "execute_result"
    }
   ],
   "source": [
    "### Remove bad entries\n",
    "good_thresh = 0.1\n",
    "# good_thresh_abs = 5\n",
    "# df_plt = df.query(f'player_improvements_0 < {good_thresh_abs} and player_improvements_1 < {good_thresh_abs}')\n",
    "df_plt = df.query(f'hc_player_improvements_frac_0 < {good_thresh} and hc_player_improvements_frac_1 < {good_thresh} and hc_player_improvements_frac_2 < {good_thresh}')\n",
    "# df_plt = df.query(f'nash_conv_frac < {good_thresh}')\n",
    "len(df), len(df_plt)\n",
    "\n",
    "# (df.groupby('game_name').size() - df_plt.groupby('game_name').size()).sort_values()"
   ]
  },
  {
   "cell_type": "code",
   "execution_count": 12,
   "metadata": {},
   "outputs": [],
   "source": [
    "# df.query('activity_policy == \"OFF\"')['nash_conv_frac']\n",
    "# df.query('undersell_policy == \"UNDERSELL\" and information_policy == \"SHOW_DEMAND\" and activity_policy == \"ON\" and clock_speed == 0.3 ')[['t', 'nash_conv', 'nash_conv_frac']]"
   ]
  },
  {
   "cell_type": "code",
   "execution_count": 17,
   "metadata": {},
   "outputs": [
    {
     "name": "stdout",
     "output_type": "stream",
     "text": [
      "27\n"
     ]
    },
    {
     "data": {
      "image/png": "[encoded data removed]",
      "text/plain": [
       "<Figure size 1440x720 with 1 Axes>"
      ]
     },
     "metadata": {
      "needs_background": "light"
     },
     "output_type": "display_data"
    },
    {
     "data": {
      "image/png": "[encoded data removed]",
      "text/plain": [
       "<Figure size 1440x720 with 1 Axes>"
      ]
     },
     "metadata": {
      "needs_background": "light"
     },
     "output_type": "display_data"
    },
    {
     "data": {
      "image/png": "[encoded data removed]",
      "text/plain": [
       "<Figure size 1440x720 with 1 Axes>"
      ]
     },
     "metadata": {
      "needs_background": "light"
     },
     "output_type": "display_data"
    }
   ],
   "source": [
    "ATTRIBUTE = 'variant'\n",
    "NORMALIZED = False\n",
    "plot_type = 'scatter'\n",
    "box_df = df_plt.copy()\n",
    "markers = ['o', 'X', '^']\n",
    "\n",
    "# TODO: These strings are getting unwieldy\n",
    "\n",
    "# Vanilla for clock\n",
    "CLOCK_QUERY = 'information_policy == \"SHOW_DEMAND\" and activity_policy == \"ON\" and undersell_policy == \"UNDERSELL\" and grace_rounds == 1 and tiebreaking_policy == \"DROP_BY_PLAYER\"'\n",
    "# box_df = box_df.query(CLOCK_QUERY)\n",
    "\n",
    "# # Check undersell\n",
    "UNDERSELL_QUERY = 'information_policy == \"SHOW_DEMAND\" and activity_policy == \"ON\" and clock_speed == 0.3 and grace_rounds == 1'\n",
    "# box_df = box_df.query(UNDERSELL_QUERY)\n",
    "\n",
    "# # Check activity\n",
    "ACTIVITY_QUERY = 'information_policy == \"SHOW_DEMAND\" and undersell_policy == \"UNDERSELL\" and clock_speed == 0.3 and grace_rounds == 1'\n",
    "# box_df = box_df.query(ACACTIVITY_QUERY)\n",
    "\n",
    "# # Check tiebreaking\n",
    "TIEBREAKING_QUERY = 'information_policy == \"SHOW_DEMAND\" and undersell_policy == \"UNDERSELL\" and clock_speed == 0.3 and activity_policy == \"ON\" and grace_rounds == 1'\n",
    "# box_df = box_df.query(TIEBREAKING_QUERY)\n",
    "\n",
    "# Check grace\n",
    "GRACE_QUERY = 'information_policy == \"SHOW_DEMAND\" and undersell_policy == \"UNDERSELL\" and clock_speed == 0.3 and activity_policy == \"ON\" and tiebreaking_policy == \"DROP_BY_PLAYER\" and not risk_aversion'\n",
    "# box_df = box_df.query(GRACE_QUERY)\n",
    "\n",
    "# Activity ON vs grace vs activity OFF\n",
    "box_df = box_df.query('information_policy == \"SHOW_DEMAND\" and undersell_policy == \"UNDERSELL\" and clock_speed == 0.3 and tiebreaking_policy == \"DROP_BY_PLAYER\" and not risk_aversion')\n",
    "\n",
    "\n",
    "box_df = box_df.sort_values(['clock_speed', 'game_name', 'config'])\n",
    "\n",
    "# box_df = box_df.query('alg.str.contains(\"outcome\")')\n",
    "\n",
    "print(len(box_df))\n",
    "\n",
    "\n",
    "STATS = ['total_revenue', 'total_welfare', 'auction_lengths']\n",
    "# Normalize by the mean of the \"base\" version, so the scales line up better in the same graph\n",
    "if NORMALIZED: \n",
    "    for stat in STATS:\n",
    "        base = str(('SHOW_DEMAND', 0.3))\n",
    "        base_stat = box_df.pivot_table(index=['base_game_name'], values=stat, aggfunc='mean', columns=ATTRIBUTE)\n",
    "        box_df[f'normalized_{stat}'] = box_df.apply(lambda x: x[stat] / base_stat.loc[x['base_game_name'], base], axis=1)\n",
    "\n",
    "for stat in STATS:\n",
    "    if NORMALIZED:\n",
    "        stat = f'normalized_{stat}'\n",
    "    plt.figure(figsize=(20,10))\n",
    "    if plot_type == 'box':\n",
    "        ax = sns.boxplot(data=box_df, x='base_game_name', y=stat, hue=ATTRIBUTE)\n",
    "        # ax.set_xticklabels(ax.get_xticklabels(),rotation=90)\n",
    "    else:\n",
    "        strip_kwargs = dict(x='base_game_name', y=stat, hue=ATTRIBUTE, s=10, alpha=0.5, dodge=True, jitter=False, palette=palette)\n",
    "        sns.stripplot(data=box_df, **strip_kwargs)\n",
    "        # for i, config in enumerate(box_df['config'].unique()):\n",
    "        #     # print(config, markers[i])\n",
    "        #     # TODO: If no entries exist, this pushes colours to the wrong positions\n",
    "        #     ax = sns.stripplot(data=box_df.query(f'config == \"{config}\"'), marker=markers[i], **strip_kwargs)\n",
    "        #     if i == 0:\n",
    "        #         old_handles, old_labels = ax.get_legend_handles_labels()\n",
    "        # ax.legend(old_handles, old_labels)\n",
    "\n",
    "    plt.title(f\"{stat}\")"
   ]
  },
  {
   "cell_type": "code",
   "execution_count": 38,
   "metadata": {},
   "outputs": [],
   "source": [
    "# 1) Get max/min for each valuation/treatment pairing over each stat\n",
    "\n",
    "# First query down to relevant datapoints. Then groupby rule change and SATS =(game_name) and max/min?\n",
    "metrics = ['total_revenue', 'total_welfare', 'auction_lengths']\n",
    "for i in range(3): # TODO:\n",
    "    metrics += [f'p{i}_utility', f'p{i}_payment']\n",
    "\n",
    "for query in [CLOCK_QUERY, UNDERSELL_QUERY, ACTIVITY_QUERY, TIEBREAKING_QUERY, GRACE_QUERY]: \n",
    "    clock_df = df_plt.query(query)\n",
    "    data = dict()\n",
    "    for metric in metrics:\n",
    "        data[f'max_{metric}'] = clock_df.groupby(['rule_set', 'base_game_name'])[metric].max()\n",
    "        data[f'min_{metric}'] = clock_df.groupby(['rule_set', 'base_game_name'])[metric].min()\n",
    "\n",
    "    heatmap_df = pd.DataFrame(data) \n",
    "    \n",
    "    for rule_set in heatmap_df.reset_index()['rule_set'].unique():\n",
    "        if rule_set != 'base':\n",
    "            cmap_norm = plt.matplotlib.colors.TwoSlopeNorm(vmin=0.5, vcenter=1, vmax=2)\n",
    "            plt.figure(figsize=(12, 8))\n",
    "            plt.imshow((heatmap_df.loc[rule_set] / heatmap_df.loc['base']).values.T, cmap='RdBu', norm=cmap_norm)\n",
    "            plt.title(rule_set)\n",
    "            plt.yticks(range(len(heatmap_df.loc['base'].columns)), heatmap_df.loc['base'].columns)\n",
    "            plt.colorbar()\n",
    "            plt.show()\n"
   ]
  },
  {
   "cell_type": "code",
   "execution_count": 39,
   "metadata": {},
   "outputs": [],
   "source": [
    "for rule_set in heatmap_df.reset_index()['rule_set'].unique():\n",
    "    if rule_set != 'base':\n",
    "\n",
    "        cmap_norm = plt.matplotlib.colors.TwoSlopeNorm(vmin=0.6, vcenter=1, vmax=1.4)\n",
    "        plt.figure(figsize=(12, 8))\n",
    "        plt.imshow((heatmap_df.loc[rule_set] / heatmap_df.loc['base']).values.T, cmap='RdBu', norm=cmap_norm)\n",
    "        plt.title(rule_set)\n",
    "        plt.yticks(range(len(heatmap_df.loc['base'].columns)), heatmap_df.loc['base'].columns)\n",
    "        plt.colorbar()\n",
    "        plt.show()\n"
   ]
  },
  {
   "cell_type": "code",
   "execution_count": null,
   "metadata": {},
   "outputs": [],
   "source": []
  },
  {
   "cell_type": "code",
   "execution_count": 41,
   "metadata": {},
   "outputs": [
    {
     "name": "stderr",
     "output_type": "stream",
     "text": [
      "/tmp/ipykernel_9949/4273131473.py:30: SettingWithCopyWarning: \n",
      "A value is trying to be set on a copy of a slice from a DataFrame.\n",
      "Try using .loc[row_indexer,col_indexer] = value instead\n",
      "\n",
      "See the caveats in the documentation: https://pandas.pydata.org/pandas-docs/stable/user_guide/indexing.html#returning-a-view-versus-a-copy\n",
      "  df_plt['value_structure'] = df_plt['rule_set'].apply(rule_set_to_value_structure)\n",
      "/tmp/ipykernel_9949/4273131473.py:31: SettingWithCopyWarning: \n",
      "A value is trying to be set on a copy of a slice from a DataFrame.\n",
      "Try using .loc[row_indexer,col_indexer] = value instead\n",
      "\n",
      "See the caveats in the documentation: https://pandas.pydata.org/pandas-docs/stable/user_guide/indexing.html#returning-a-view-versus-a-copy\n",
      "  df_plt['rule'] = df_plt['rule_set'].apply(rule_set_to_rule)\n"
     ]
    }
   ],
   "source": [
    "df_plt['rule_set'].value_counts()\n",
    "\n",
    "def rule_set_to_value_structure(s):\n",
    "    if 'spite' in s:\n",
    "        return 'spite'\n",
    "    elif 'risk_averse' in s:\n",
    "        return 'risk_averse'\n",
    "    else:\n",
    "        return 'quasi_linear'\n",
    "\n",
    "def rule_set_to_rule(s):\n",
    "    if 'high_speed' in s:\n",
    "        return 'high_speed'\n",
    "    elif 'medium_speed' in s:\n",
    "        return 'medium_speed'\n",
    "    elif 'grace' in s:\n",
    "        return 'grace'\n",
    "    elif 'tie_break' in s:\n",
    "        return 'tie_break'\n",
    "    elif 'undersell_allowed' in s:\n",
    "        return 'undersell_allowed'\n",
    "    elif 'hide_demand' in s:\n",
    "        return 'hide_demand'\n",
    "    elif 'no_activity' in s:\n",
    "        return 'no_activity'\n",
    "    else:\n",
    "        return 'base'\n",
    "    \n",
    "    \n",
    "df_plt['value_structure'] = df_plt['rule_set'].apply(rule_set_to_value_structure)\n",
    "df_plt['rule'] = df_plt['rule_set'].apply(rule_set_to_rule)"
   ]
  },
  {
   "cell_type": "code",
   "execution_count": 42,
   "metadata": {},
   "outputs": [
    {
     "data": {
      "image/png": "[encoded data removed]",
      "text/plain": [
       "<Figure size 864x576 with 2 Axes>"
      ]
     },
     "metadata": {
      "needs_background": "light"
     },
     "output_type": "display_data"
    }
   ],
   "source": [
    "# 1) Get max/min for each valuation/treatment pairing over each stat\n",
    "\n",
    "# First query down to relevant datapoints. Then groupby rule change and SATS =(game_name) and max/min?\n",
    "metrics = ['total_revenue', 'total_welfare', 'auction_lengths']\n",
    "for i in range(2): # TODO:\n",
    "    metrics += [f'p{i}_utility', f'p{i}_payment']\n",
    "\n",
    "\n",
    "df_plt_indexed = df_plt.set_index(['value_structure', 'rule']).sort_index().copy()\n",
    "\n",
    "def make_data_dict(df):\n",
    "    data = dict()\n",
    "    for metric in metrics:\n",
    "        data[f'max_{metric}'] = df.groupby('base_game_name')[metric].max()\n",
    "        data[f'min_{metric}'] = df.groupby('base_game_name')[metric].min()\n",
    "    return pd.DataFrame(data)\n",
    "    \n",
    "for idx, grp_df in df_plt.groupby(['value_structure', 'rule']):\n",
    "    if idx[1] == 'base':\n",
    "        continue\n",
    "    \n",
    "    data_grp_df = make_data_dict(grp_df)\n",
    "    normalizer_grp_df = df_plt_indexed.loc[(idx[0], 'base')]\n",
    "    data_normalized_df = make_data_dict(normalizer_grp_df)\n",
    "    \n",
    "    cmap_norm = plt.matplotlib.colors.TwoSlopeNorm(vmin=0.7, vcenter=1, vmax=1.3)\n",
    "    cmap = plt.cm.get_cmap('RdBu').copy()\n",
    "    cmap.set_bad('magenta')\n",
    "    plt.figure(figsize=(12, 8))\n",
    "    plt.imshow((data_grp_df / data_normalized_df).values.T, cmap=cmap, norm=cmap_norm)\n",
    "    plt.title(idx)\n",
    "    plt.yticks(range(len(data_grp_df.columns)), data_grp_df.columns)\n",
    "    plt.colorbar()\n",
    "    plt.show()\n",
    "\n",
    "    \n",
    "# for query in [CLOCK_QUERY, UNDERSELL_QUERY, ACTIVITY_QUERY, TIEBREAKING_QUERY, GRACE_QUERY]: \n",
    "#     clock_df = df_plt.query(query)\n",
    "#     data = dict()\n",
    "#     for metric in metrics:\n",
    "#         data[f'max_{metric}'] = clock_df.groupby(['rule_set', 'base_game_name'])[metric].max()\n",
    "#         data[f'min_{metric}'] = clock_df.groupby(['rule_set', 'base_game_name'])[metric].min()\n",
    "\n",
    "#     heatmap_df = pd.DataFrame(data) \n",
    "    \n"
   ]
  },
  {
   "cell_type": "code",
   "execution_count": null,
   "metadata": {},
   "outputs": [],
   "source": []
  }
 ],
 "metadata": {
  "kernelspec": {
   "display_name": "Django Shell-Plus",
   "language": "python",
   "name": "django_extensions"
  },
  "language_info": {
   "codemirror_mode": {
    "name": "ipython",
    "version": 3
   },
   "file_extension": ".py",
   "mimetype": "text/x-python",
   "name": "python",
   "nbconvert_exporter": "python",
   "pygments_lexer": "ipython3",
   "version": "3.8.2"
  }
 },
 "nbformat": 4,
 "nbformat_minor": 4
}
