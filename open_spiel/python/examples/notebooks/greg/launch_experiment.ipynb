{
 "cells": [
  {
   "cell_type": "code",
   "execution_count": 24,
   "id": "e6f6eef1-52e3-4ff5-af4b-2d5b933ad90b",
   "metadata": {},
   "outputs": [
    {
     "name": "stdout",
     "output_type": "stream",
     "text": [
      "The autoreload extension is already loaded. To reload it, use:\n",
      "  %reload_ext autoreload\n"
     ]
    }
   ],
   "source": [
    "%load_ext autoreload\n",
    "%autoreload 2"
   ]
  },
  {
   "cell_type": "code",
   "execution_count": 25,
   "id": "53d1f915-16a6-42e9-b93a-3f44564ef069",
   "metadata": {},
   "outputs": [],
   "source": [
    "import sys\n",
    "import glob\n",
    "import os\n",
    "import open_spiel.python.examples.ubc_dispatch as dispatch\n",
    "import os\n",
    "os.environ[\"DJANGO_ALLOW_ASYNC_UNSAFE\"] = \"true\"\n",
    "from sklearn.model_selection import ParameterGrid\n",
    "from pathlib import Path\n",
    "import pickle\n",
    "\n",
    "game_dir = os.environ[\"CLOCK_AUCTION_CONFIG_DIR\"]"
   ]
  },
  {
   "cell_type": "code",
   "execution_count": 29,
   "id": "a963cf68-f084-47bc-86bf-23882e77f392",
   "metadata": {},
   "outputs": [],
   "source": [
    "def get_sats_games_from_prefixes(prefixes):\n",
    "    game_list = []\n",
    "    for prefix in prefixes:\n",
    "        game_list += [f'{prefix}/' + os.path.basename(x).replace('.json','') for x in glob.glob(f'{game_dir}/{prefix}/*')]\n",
    "    return sorted(set(game_list))\n",
    "\n",
    "# can apply other filters like:\n",
    "# sats_games = [s for s in sats_games if ('hide' not in s) and '1000' in s and 'risk_averse' not in s]\n",
    "# sats_games = sats_games[:1] # debug"
   ]
  },
  {
   "cell_type": "code",
   "execution_count": 33,
   "id": "48036c62-68f7-4580-82c3-0da36da9c6b4",
   "metadata": {},
   "outputs": [
    {
     "name": "stdout",
     "output_type": "stream",
     "text": [
      "Games: 20; Grid: 40\n"
     ]
    }
   ],
   "source": [
    "# feb4 4-type game; 11 seeds of CFR/CFR-no-tremble/PPO\n",
    "sats_games = get_sats_games_from_prefixes(['feb4_4t'])\n",
    "pgrid = ParameterGrid([{\n",
    "    'game': [g for g in sats_games][:],\n",
    "    'alg_and_config': [('cfr', 'cfr_port_10_ext'), ('ppo', 'ppo_jun8_23')]\n",
    "}])\n",
    "BASE_JOB_NAME = 'feb5_v1'\n",
    "N_SEEDS = 11 # Number of seeds of each experiment to launch\n",
    "time_limit_seconds = int(3600 * 1)\n",
    "num_iters = 999_000_000\n",
    "extra_name = ''\n",
    "overrides = f'--overwrite_db True --eval_every 999_999_999 --eval_every_seconds 99999999 --eval_zero false --total_timesteps {num_iters} --dispatch_br false --report_freq 1000 --time_limit_seconds {time_limit_seconds} --use_wandb true'\n",
    "\n",
    "# ----------------------------------------------------\n",
    "\n",
    "print(f'Games: {len(sats_games)}; Grid: {len(pgrid)}')\n",
    "for params in pgrid:\n",
    "    game_name = params['game']\n",
    "    (alg_name, alg_config) = params['alg_and_config']\n",
    "    dispatch.dispatch_experiments(alg_config, base_job_name=BASE_JOB_NAME, game_name=game_name, overrides=overrides, n_seeds=N_SEEDS, extra_name=extra_name, alg=alg_name)"
   ]
  },
  {
   "cell_type": "code",
   "execution_count": 19,
   "id": "7049247f-158d-4a02-9415-eee14afefa1d",
   "metadata": {},
   "outputs": [],
   "source": [
    "# other example jobs below"
   ]
  },
  {
   "cell_type": "code",
   "execution_count": 6,
   "id": "5d7b0a76-6f04-432b-8d86-41bbbf97fc42",
   "metadata": {},
   "outputs": [],
   "source": [
    "# ### Just GOF CFR\n",
    "# num_iters = 999_000_000\n",
    "# time_limit_seconds = int(3600 * 1)\n",
    "# for config in pgrid:\n",
    "#     CONFIG = 'cfr' # The YML network config folder for the main jobs\n",
    "#     N_SEEDS = 3 # Number of seeds of each experiment to launch\n",
    "#     extra_name = ''\n",
    "#     overrides = f'--overwrite_db True --eval_every 999_999_999 --eval_every_seconds 1800 --eval_zero false --total_timesteps {num_iters} --dispatch_br false --report_freq 50 --time_limit_seconds {time_limit_seconds} --use_wandb true'      \n",
    "#     dispatch.dispatch_experiments(CONFIG, base_job_name='jan18_cfr_v6_seeds_v3', game_name=config['game'], overrides=overrides, n_seeds=N_SEEDS, extra_name=extra_name, alg='cfr', start_seed=200)"
   ]
  },
  {
   "cell_type": "code",
   "execution_count": 10,
   "id": "57ec9e6b-aeae-48e2-94e6-43d066a0db1a",
   "metadata": {},
   "outputs": [
    {
     "name": "stdout",
     "output_type": "stream",
     "text": [
      "Submitted batch job 1079913\n"
     ]
    }
   ],
   "source": [
    "num_iters = 999_000_000\n",
    "time_limit_seconds = int(3600 * 1)\n",
    "for config in pgrid:\n",
    "    CONFIG = 'cfr_10' # The YML network config folder for the main jobs\n",
    "    N_SEEDS = 5 # Number of seeds of each experiment to launch\n",
    "    extra_name = ''\n",
    "    overrides = f'--overwrite_db True --eval_every 999_999_999 --eval_every_seconds 99999999 --eval_zero false --total_timesteps {num_iters} --dispatch_br false --report_freq 250 --time_limit_seconds {time_limit_seconds} --use_wandb true'      \n",
    "    dispatch.dispatch_experiments(CONFIG, base_job_name='feb4_v1', game_name=config['game'], overrides=overrides, n_seeds=N_SEEDS, extra_name=extra_name, alg='cfr')"
   ]
  },
  {
   "cell_type": "code",
   "execution_count": 10,
   "id": "426bd0de-99de-4c99-9932-d539f37f4615",
   "metadata": {},
   "outputs": [
    {
     "name": "stdout",
     "output_type": "stream",
     "text": [
      "Submitted batch job 1080222\n",
      "Submitted batch job 1080223\n",
      "Submitted batch job 1080224\n",
      "Submitted batch job 1080225\n",
      "Submitted batch job 1080226\n",
      "Submitted batch job 1080227\n",
      "Submitted batch job 1080228\n",
      "Submitted batch job 1080229\n",
      "Submitted batch job 1080230\n",
      "Submitted batch job 1080231\n",
      "Submitted batch job 1080232\n",
      "Submitted batch job 1080233\n",
      "Submitted batch job 1080234\n",
      "Submitted batch job 1080235\n",
      "Submitted batch job 1080236\n",
      "Submitted batch job 1080237\n",
      "Submitted batch job 1080238\n",
      "Submitted batch job 1080239\n",
      "Submitted batch job 1080240\n",
      "Submitted batch job 1080241\n",
      "Submitted batch job 1080242\n",
      "Submitted batch job 1080243\n",
      "Submitted batch job 1080244\n",
      "Submitted batch job 1080245\n",
      "Submitted batch job 1080246\n",
      "Submitted batch job 1080247\n",
      "Submitted batch job 1080248\n",
      "Submitted batch job 1080249\n",
      "Submitted batch job 1080250\n",
      "Submitted batch job 1080251\n",
      "Submitted batch job 1080252\n",
      "Submitted batch job 1080253\n",
      "Submitted batch job 1080254\n",
      "Submitted batch job 1080255\n",
      "Submitted batch job 1080256\n",
      "Submitted batch job 1080257\n",
      "Submitted batch job 1080258\n",
      "Submitted batch job 1080259\n",
      "Submitted batch job 1080260\n",
      "Submitted batch job 1080261\n",
      "Submitted batch job 1080262\n",
      "Submitted batch job 1080263\n",
      "Submitted batch job 1080264\n",
      "Submitted batch job 1080265\n",
      "Submitted batch job 1080266\n",
      "Submitted batch job 1080267\n",
      "Submitted batch job 1080268\n",
      "Submitted batch job 1080269\n",
      "Submitted batch job 1080270\n",
      "Submitted batch job 1080271\n",
      "Submitted batch job 1080272\n",
      "Submitted batch job 1080273\n",
      "Submitted batch job 1080274\n",
      "Submitted batch job 1080275\n",
      "Submitted batch job 1080276\n",
      "Submitted batch job 1080277\n",
      "Submitted batch job 1080278\n",
      "Submitted batch job 1080279\n",
      "Submitted batch job 1080280\n",
      "Submitted batch job 1080281\n",
      "Submitted batch job 1080282\n",
      "Submitted batch job 1080283\n",
      "Submitted batch job 1080284\n",
      "Submitted batch job 1080285\n",
      "Submitted batch job 1080286\n",
      "Submitted batch job 1080287\n",
      "Submitted batch job 1080288\n",
      "Submitted batch job 1080289\n",
      "Submitted batch job 1080290\n",
      "Submitted batch job 1080291\n",
      "Submitted batch job 1080292\n",
      "Submitted batch job 1080293\n",
      "Submitted batch job 1080294\n",
      "Submitted batch job 1080295\n",
      "Submitted batch job 1080296\n",
      "Submitted batch job 1080297\n",
      "Submitted batch job 1080298\n",
      "Submitted batch job 1080299\n",
      "Submitted batch job 1080300\n",
      "Submitted batch job 1080301\n",
      "Submitted batch job 1080302\n",
      "Submitted batch job 1080303\n",
      "Submitted batch job 1080304\n",
      "Submitted batch job 1080305\n",
      "Submitted batch job 1080306\n",
      "Submitted batch job 1080307\n",
      "Submitted batch job 1080308\n",
      "Submitted batch job 1080309\n",
      "Submitted batch job 1080310\n",
      "Submitted batch job 1080311\n",
      "Submitted batch job 1080312\n",
      "Submitted batch job 1080313\n",
      "Submitted batch job 1080314\n",
      "Submitted batch job 1080315\n",
      "Submitted batch job 1080316\n",
      "Submitted batch job 1080317\n",
      "Submitted batch job 1080318\n",
      "Submitted batch job 1080319\n",
      "Submitted batch job 1080320\n",
      "Submitted batch job 1080321\n"
     ]
    }
   ],
   "source": [
    "num_iters = 999_000_000\n",
    "time_limit_seconds = int(3600 * 1 / 60)\n",
    "for config in pgrid:\n",
    "    CONFIG = 'ppo_jun8_23' # The YML network config folder for the main jobs\n",
    "    N_SEEDS = 5 # Number of seeds of each experiment to launch\n",
    "    extra_name = ''\n",
    "    overrides = f'--overwrite_db True --eval_every 999_999_999 --eval_every_seconds 99999999 --eval_zero false --total_timesteps {num_iters} --dispatch_br false --report_freq 250 --time_limit_seconds {time_limit_seconds} --use_wandb true'      \n",
    "    dispatch.dispatch_experiments(CONFIG, base_job_name='feb3_test_short_v4', game_name=config['game'], overrides=overrides, n_seeds=N_SEEDS, extra_name=extra_name, alg='ppo')"
   ]
  },
  {
   "cell_type": "code",
   "execution_count": 25,
   "id": "4a6067d6-ea75-47a7-aec8-265ce62ad4aa",
   "metadata": {},
   "outputs": [
    {
     "name": "stdout",
     "output_type": "stream",
     "text": [
      "             JOBID                                                                                       NAME ST .      TIME NODES NODELIST(REASON)\n",
      "           1079910                                                                                    jupyter  R .   1:45:52     1 ada21\n",
      "           1080011 jan12_repro_4t_jan12_repro_4t_1_base_dev1000_rho0_t4-ppo_jun8_23ppo_76-100_feb3_test_short  R .      1:08     1 vickrey07\n",
      "           1080012 jan12_repro_4t_jan12_repro_4t_1_base_dev1000_rho0_t4-ppo_jun8_23ppo_76-101_feb3_test_short  R .      1:08     1 vickrey07\n",
      "           1080013 jan12_repro_4t_jan12_repro_4t_1_base_dev1000_rho0_t4-ppo_jun8_23ppo_76-102_feb3_test_short  R .      1:08     1 vickrey08\n",
      "           1080014 jan12_repro_4t_jan12_repro_4t_1_base_dev1000_rho0_t4-ppo_jun8_23ppo_76-103_feb3_test_short  R .      1:08     1 vickrey08\n",
      "           1080015 jan12_repro_4t_jan12_repro_4t_1_base_dev1000_rho0_t4-ppo_jun8_23ppo_76-104_feb3_test_short  R .      1:08     1 vickrey08\n",
      "           1079991 jan12_repro_4t_jan12_repro_4t_4_base_dev1000_rho1_t4-ppo_jun8_23ppo_76-100_feb3_test_short  R .      1:14     1 vickrey02\n",
      "           1079992 jan12_repro_4t_jan12_repro_4t_4_base_dev1000_rho1_t4-ppo_jun8_23ppo_76-101_feb3_test_short  R .      1:14     1 vickrey02\n",
      "           1079993 jan12_repro_4t_jan12_repro_4t_4_base_dev1000_rho1_t4-ppo_jun8_23ppo_76-102_feb3_test_short  R .      1:14     1 vickrey03\n",
      "           1079994 jan12_repro_4t_jan12_repro_4t_4_base_dev1000_rho1_t4-ppo_jun8_23ppo_76-103_feb3_test_short  R .      1:14     1 vickrey03\n",
      "           1079995 jan12_repro_4t_jan12_repro_4t_4_base_dev1000_rho1_t4-ppo_jun8_23ppo_76-104_feb3_test_short  R .      1:14     1 vickrey03\n",
      "           1079983 jan12_repro_4t_jan12_repro_4t_4_base_dev1000_rho0_t4_tie_break-ppo_jun8_23ppo_76-102_feb3_  R .      1:17     1 ada16\n",
      "           1079984 jan12_repro_4t_jan12_repro_4t_4_base_dev1000_rho0_t4_tie_break-ppo_jun8_23ppo_76-103_feb3_  R .      1:17     1 ada16\n",
      "           1079986 jan12_repro_4t_jan12_repro_4t_2_base_dev1000_rho0_t4-ppo_jun8_23ppo_76-100_feb3_test_short  R .      1:17     1 vickrey01\n",
      "           1079987 jan12_repro_4t_jan12_repro_4t_2_base_dev1000_rho0_t4-ppo_jun8_23ppo_76-101_feb3_test_short  R .      1:17     1 vickrey01\n",
      "           1079988 jan12_repro_4t_jan12_repro_4t_2_base_dev1000_rho0_t4-ppo_jun8_23ppo_76-102_feb3_test_short  R .      1:17     1 vickrey01\n",
      "           1079989 jan12_repro_4t_jan12_repro_4t_2_base_dev1000_rho0_t4-ppo_jun8_23ppo_76-103_feb3_test_short  R .      1:17     1 vickrey02\n",
      "           1079990 jan12_repro_4t_jan12_repro_4t_2_base_dev1000_rho0_t4-ppo_jun8_23ppo_76-104_feb3_test_short  R .      1:17     1 vickrey02\n",
      "           1079974 jan12_repro_4t_jan12_repro_4t_0_base_dev1000_rho0_t4_tie_break-ppo_jun8_23ppo_76-103_feb3_  R .      1:20     1 ada14\n",
      "           1079975 jan12_repro_4t_jan12_repro_4t_0_base_dev1000_rho0_t4_tie_break-ppo_jun8_23ppo_76-104_feb3_  R .      1:20     1 ada14\n",
      "           1079976 jan12_repro_4t_jan12_repro_4t_0_base_dev1000_rho0_t4-ppo_jun8_23ppo_76-100_feb3_test_short  R .      1:20     1 ada14\n",
      "           1079977 jan12_repro_4t_jan12_repro_4t_0_base_dev1000_rho0_t4-ppo_jun8_23ppo_76-101_feb3_test_short  R .      1:20     1 ada15\n",
      "           1079978 jan12_repro_4t_jan12_repro_4t_0_base_dev1000_rho0_t4-ppo_jun8_23ppo_76-102_feb3_test_short  R .      1:20     1 ada15\n",
      "           1079979 jan12_repro_4t_jan12_repro_4t_0_base_dev1000_rho0_t4-ppo_jun8_23ppo_76-103_feb3_test_short  R .      1:20     1 ada15\n",
      "           1079980 jan12_repro_4t_jan12_repro_4t_0_base_dev1000_rho0_t4-ppo_jun8_23ppo_76-104_feb3_test_short  R .      1:20     1 ada15\n",
      "           1079981 jan12_repro_4t_jan12_repro_4t_4_base_dev1000_rho0_t4_tie_break-ppo_jun8_23ppo_76-100_feb3_  R .      1:20     1 ada16\n",
      "           1079982 jan12_repro_4t_jan12_repro_4t_4_base_dev1000_rho0_t4_tie_break-ppo_jun8_23ppo_76-101_feb3_  R .      1:20     1 ada16\n",
      "           1079965 jan12_repro_4t_jan12_repro_4t_1_base_dev1000_rho0_t4_tie_break-ppo_jun8_23ppo_76-104_feb3_  R .      1:23     1 ada12\n",
      "           1079966 jan12_repro_4t_jan12_repro_4t_1_base_dev1000_rho1_t4_tie_break-ppo_jun8_23ppo_76-100_feb3_  R .      1:23     1 ada12\n",
      "           1079967 jan12_repro_4t_jan12_repro_4t_1_base_dev1000_rho1_t4_tie_break-ppo_jun8_23ppo_76-101_feb3_  R .      1:23     1 ada12\n",
      "           1079968 jan12_repro_4t_jan12_repro_4t_1_base_dev1000_rho1_t4_tie_break-ppo_jun8_23ppo_76-102_feb3_  R .      1:23     1 ada12\n",
      "           1079969 jan12_repro_4t_jan12_repro_4t_1_base_dev1000_rho1_t4_tie_break-ppo_jun8_23ppo_76-103_feb3_  R .      1:23     1 ada13\n",
      "           1079970 jan12_repro_4t_jan12_repro_4t_1_base_dev1000_rho1_t4_tie_break-ppo_jun8_23ppo_76-104_feb3_  R .      1:23     1 ada13\n",
      "           1079971 jan12_repro_4t_jan12_repro_4t_0_base_dev1000_rho0_t4_tie_break-ppo_jun8_23ppo_76-100_feb3_  R .      1:23     1 ada13\n",
      "           1079972 jan12_repro_4t_jan12_repro_4t_0_base_dev1000_rho0_t4_tie_break-ppo_jun8_23ppo_76-101_feb3_  R .      1:23     1 ada13\n",
      "           1079973 jan12_repro_4t_jan12_repro_4t_0_base_dev1000_rho0_t4_tie_break-ppo_jun8_23ppo_76-102_feb3_  R .      1:23     1 ada14\n",
      "           1079959 jan12_repro_4t_jan12_repro_4t_2_base_dev1000_rho1_t4_tie_break-ppo_jun8_23ppo_76-103_feb3_  R .      1:26     1 ada10\n",
      "           1079960 jan12_repro_4t_jan12_repro_4t_2_base_dev1000_rho1_t4_tie_break-ppo_jun8_23ppo_76-104_feb3_  R .      1:26     1 ada10\n",
      "           1079961 jan12_repro_4t_jan12_repro_4t_1_base_dev1000_rho0_t4_tie_break-ppo_jun8_23ppo_76-100_feb3_  R .      1:26     1 ada11\n",
      "           1079962 jan12_repro_4t_jan12_repro_4t_1_base_dev1000_rho0_t4_tie_break-ppo_jun8_23ppo_76-101_feb3_  R .      1:26     1 ada11\n",
      "           1079963 jan12_repro_4t_jan12_repro_4t_1_base_dev1000_rho0_t4_tie_break-ppo_jun8_23ppo_76-102_feb3_  R .      1:26     1 ada11\n",
      "           1079964 jan12_repro_4t_jan12_repro_4t_1_base_dev1000_rho0_t4_tie_break-ppo_jun8_23ppo_76-103_feb3_  R .      1:26     1 ada11\n",
      "           1079957 jan12_repro_4t_jan12_repro_4t_2_base_dev1000_rho1_t4_tie_break-ppo_jun8_23ppo_76-101_feb3_  R .      1:28     1 ada10\n",
      "           1079958 jan12_repro_4t_jan12_repro_4t_2_base_dev1000_rho1_t4_tie_break-ppo_jun8_23ppo_76-102_feb3_  R .      1:28     1 ada10\n",
      "           1079948 jan12_repro_4t_jan12_repro_4t_3_base_dev1000_rho0_t4-ppo_jun8_23ppo_76-102_feb3_test_short  R .      1:29     1 ada07\n",
      "           1079949 jan12_repro_4t_jan12_repro_4t_3_base_dev1000_rho0_t4-ppo_jun8_23ppo_76-103_feb3_test_short  R .      1:29     1 ada08\n",
      "           1079950 jan12_repro_4t_jan12_repro_4t_3_base_dev1000_rho0_t4-ppo_jun8_23ppo_76-104_feb3_test_short  R .      1:29     1 ada08\n",
      "           1079951 jan12_repro_4t_jan12_repro_4t_1_base_dev1000_rho1_t4-ppo_jun8_23ppo_76-100_feb3_test_short  R .      1:29     1 ada08\n",
      "           1079952 jan12_repro_4t_jan12_repro_4t_1_base_dev1000_rho1_t4-ppo_jun8_23ppo_76-101_feb3_test_short  R .      1:29     1 ada08\n",
      "           1079953 jan12_repro_4t_jan12_repro_4t_1_base_dev1000_rho1_t4-ppo_jun8_23ppo_76-102_feb3_test_short  R .      1:29     1 ada09\n",
      "           1079954 jan12_repro_4t_jan12_repro_4t_1_base_dev1000_rho1_t4-ppo_jun8_23ppo_76-103_feb3_test_short  R .      1:29     1 ada09\n",
      "           1079955 jan12_repro_4t_jan12_repro_4t_1_base_dev1000_rho1_t4-ppo_jun8_23ppo_76-104_feb3_test_short  R .      1:29     1 ada09\n",
      "           1079956 jan12_repro_4t_jan12_repro_4t_2_base_dev1000_rho1_t4_tie_break-ppo_jun8_23ppo_76-100_feb3_  R .      1:29     1 ada09\n",
      "           1079939 jan12_repro_4t_jan12_repro_4t_0_base_dev1000_rho1_t4-ppo_jun8_23ppo_76-103_feb3_test_short  R .      1:32     1 ada05\n",
      "           1079940 jan12_repro_4t_jan12_repro_4t_0_base_dev1000_rho1_t4-ppo_jun8_23ppo_76-104_feb3_test_short  R .      1:32     1 ada05\n",
      "           1079941 jan12_repro_4t_jan12_repro_4t_3_base_dev1000_rho0_t4_tie_break-ppo_jun8_23ppo_76-100_feb3_  R .      1:32     1 ada06\n",
      "           1079942 jan12_repro_4t_jan12_repro_4t_3_base_dev1000_rho0_t4_tie_break-ppo_jun8_23ppo_76-101_feb3_  R .      1:32     1 ada06\n",
      "           1079943 jan12_repro_4t_jan12_repro_4t_3_base_dev1000_rho0_t4_tie_break-ppo_jun8_23ppo_76-102_feb3_  R .      1:32     1 ada06\n",
      "           1079944 jan12_repro_4t_jan12_repro_4t_3_base_dev1000_rho0_t4_tie_break-ppo_jun8_23ppo_76-103_feb3_  R .      1:32     1 ada06\n",
      "           1079946 jan12_repro_4t_jan12_repro_4t_3_base_dev1000_rho0_t4-ppo_jun8_23ppo_76-100_feb3_test_short  R .      1:32     1 ada07\n",
      "           1079947 jan12_repro_4t_jan12_repro_4t_3_base_dev1000_rho0_t4-ppo_jun8_23ppo_76-101_feb3_test_short  R .      1:32     1 ada07\n",
      "           1079931 jan12_repro_4t_jan12_repro_4t_4_base_dev1000_rho0_t4-ppo_jun8_23ppo_76-100_feb3_test_short  R .      1:35     1 ada03\n",
      "           1079932 jan12_repro_4t_jan12_repro_4t_4_base_dev1000_rho0_t4-ppo_jun8_23ppo_76-101_feb3_test_short  R .      1:35     1 ada03\n",
      "           1079933 jan12_repro_4t_jan12_repro_4t_4_base_dev1000_rho0_t4-ppo_jun8_23ppo_76-102_feb3_test_short  R .      1:35     1 ada04\n",
      "           1079934 jan12_repro_4t_jan12_repro_4t_4_base_dev1000_rho0_t4-ppo_jun8_23ppo_76-103_feb3_test_short  R .      1:35     1 ada04\n",
      "           1079935 jan12_repro_4t_jan12_repro_4t_4_base_dev1000_rho0_t4-ppo_jun8_23ppo_76-104_feb3_test_short  R .      1:35     1 ada04\n",
      "           1079936 jan12_repro_4t_jan12_repro_4t_0_base_dev1000_rho1_t4-ppo_jun8_23ppo_76-100_feb3_test_short  R .      1:35     1 ada04\n",
      "           1079937 jan12_repro_4t_jan12_repro_4t_0_base_dev1000_rho1_t4-ppo_jun8_23ppo_76-101_feb3_test_short  R .      1:35     1 ada05\n",
      "           1079938 jan12_repro_4t_jan12_repro_4t_0_base_dev1000_rho1_t4-ppo_jun8_23ppo_76-102_feb3_test_short  R .      1:35     1 ada05\n",
      "           1079922 jan12_repro_4t_jan12_repro_4t_2_base_dev1000_rho1_t4-ppo_jun8_23ppo_76-101_feb3_test_short  R .      1:38     1 ada01\n",
      "           1079923 jan12_repro_4t_jan12_repro_4t_2_base_dev1000_rho1_t4-ppo_jun8_23ppo_76-102_feb3_test_short  R .      1:38     1 ada01\n",
      "           1079924 jan12_repro_4t_jan12_repro_4t_2_base_dev1000_rho1_t4-ppo_jun8_23ppo_76-103_feb3_test_short  R .      1:38     1 ada01\n",
      "           1079925 jan12_repro_4t_jan12_repro_4t_2_base_dev1000_rho1_t4-ppo_jun8_23ppo_76-104_feb3_test_short  R .      1:38     1 ada02\n",
      "           1079926 jan12_repro_4t_jan12_repro_4t_3_base_dev1000_rho1_t4-ppo_jun8_23ppo_76-100_feb3_test_short  R .      1:38     1 ada02\n",
      "           1079927 jan12_repro_4t_jan12_repro_4t_3_base_dev1000_rho1_t4-ppo_jun8_23ppo_76-101_feb3_test_short  R .      1:38     1 ada02\n",
      "           1079928 jan12_repro_4t_jan12_repro_4t_3_base_dev1000_rho1_t4-ppo_jun8_23ppo_76-102_feb3_test_short  R .      1:38     1 ada02\n",
      "           1079929 jan12_repro_4t_jan12_repro_4t_3_base_dev1000_rho1_t4-ppo_jun8_23ppo_76-103_feb3_test_short  R .      1:38     1 ada03\n",
      "           1079930 jan12_repro_4t_jan12_repro_4t_3_base_dev1000_rho1_t4-ppo_jun8_23ppo_76-104_feb3_test_short  R .      1:38     1 ada03\n",
      "           1079921 jan12_repro_4t_jan12_repro_4t_2_base_dev1000_rho1_t4-ppo_jun8_23ppo_76-100_feb3_test_short  R .      1:41     1 ada01\n"
     ]
    }
   ],
   "source": [
    "!squeue -u $USER --format=\"%.18i %.90j %.2t .%.10M%.6D %R\""
   ]
  },
  {
   "cell_type": "code",
   "execution_count": 7,
   "id": "dc10a98c-5908-4820-a69b-8298ef316ec7",
   "metadata": {},
   "outputs": [
    {
     "name": "stdout",
     "output_type": "stream",
     "text": [
      "JOBID\n",
      "1080186\n",
      "1080187\n",
      "1080188\n",
      "1080189\n",
      "1080190\n",
      "1080191\n",
      "1080192\n",
      "1080193\n",
      "1080194\n",
      "1080195\n",
      "1080196\n",
      "1080197\n",
      "1080198\n",
      "1080199\n",
      "1080200\n",
      "1080201\n",
      "1080202\n",
      "1080203\n",
      "1080204\n",
      "1080205\n",
      "1080206\n",
      "1080207\n",
      "1080208\n",
      "1080209\n",
      "1080210\n",
      "1080211\n",
      "1080212\n",
      "1080213\n",
      "1080214\n",
      "1080215\n",
      "1080216\n",
      "1080217\n",
      "1080218\n",
      "1080219\n",
      "1080220\n",
      "1080221\n",
      "1080180\n",
      "1080181\n",
      "1080182\n",
      "1080183\n",
      "1080184\n",
      "1080185\n",
      "1080171\n",
      "1080172\n",
      "1080173\n",
      "1080174\n",
      "1080175\n",
      "1080176\n",
      "1080177\n",
      "1080178\n",
      "1080179\n",
      "1080163\n",
      "1080164\n",
      "1080165\n",
      "1080166\n",
      "1080167\n",
      "1080168\n",
      "1080169\n",
      "1080170\n",
      "1080154\n",
      "1080155\n",
      "1080156\n",
      "1080157\n",
      "1080158\n",
      "1080159\n",
      "1080160\n",
      "1080161\n",
      "1080162\n",
      "1080146\n",
      "1080147\n",
      "1080148\n",
      "1080149\n",
      "1080150\n",
      "1080151\n",
      "1080152\n",
      "1080153\n",
      "1080140\n",
      "1080141\n",
      "1080142\n",
      "1080143\n",
      "1080144\n",
      "1080145\n",
      "1080131\n",
      "1080132\n",
      "1080133\n",
      "1080134\n",
      "1080135\n",
      "1080136\n",
      "1080137\n",
      "1080138\n",
      "1080139\n",
      "1080125\n",
      "1080126\n",
      "1080127\n",
      "1080128\n",
      "1080129\n",
      "1080130\n",
      "1080123\n",
      "1080124\n",
      "1080122\n"
     ]
    }
   ],
   "source": [
    "!squeue -u $USER --format=\"%.18i %.65j %.2t %.10M %.6D %R\" | grep -v \"jupyter\" | awk '{print $1}'"
   ]
  },
  {
   "cell_type": "code",
   "execution_count": 9,
   "id": "99c796a6-b769-485a-98fa-d295eb214144",
   "metadata": {},
   "outputs": [
    {
     "name": "stdout",
     "output_type": "stream",
     "text": [
      "102\n"
     ]
    }
   ],
   "source": [
    "!squeue -u $USER | wc -l"
   ]
  },
  {
   "cell_type": "code",
   "execution_count": 17,
   "id": "0e80d410-986b-42a1-9d49-1035ef103a0a",
   "metadata": {},
   "outputs": [],
   "source": [
    "def check_queue():\n",
    "    !ssh borg.cs.ubc.ca '/opt/slurm/bin/squeue -u $USER --format=\"%.18i %.90j %.2t .%.10M %.6D %R\"'\n"
   ]
  },
  {
   "cell_type": "code",
   "execution_count": 18,
   "id": "3e5c26b7-d158-4ece-a72a-c3b2fd47a56f",
   "metadata": {
    "tags": []
   },
   "outputs": [
    {
     "name": "stdout",
     "output_type": "stream",
     "text": [
      "             JOBID                                                                                       NAME ST .      TIME  NODES NODELIST(REASON)\n",
      "           1079910                                                                                    jupyter  R .     49:46      1 ada21\n",
      "           1079915 jan12_repro_4t_jan12_repro_4t_1_base_dev1000_rho1_t4-ppo_jun8_23ppo_76-1350985_who_cares_p  R .      1:27      1 ada01\n",
      "           1079913 jan12_repro_4t_jan12_repro_4t_1_base_dev1000_rho1_t4-cfr_10external_plus_linear-100_who_ca  R .     36:32      1 ada01\n"
     ]
    }
   ],
   "source": [
    "check_queue()"
   ]
  },
  {
   "cell_type": "code",
   "execution_count": null,
   "id": "a8b665af-771f-44c1-8065-4928e1e5ac91",
   "metadata": {},
   "outputs": [],
   "source": [
    "!squeue | grep \"may30\" | wc -l"
   ]
  },
  {
   "cell_type": "code",
   "execution_count": null,
   "id": "c26b508d-9ee0-4878-9aa1-68c611ab651a",
   "metadata": {},
   "outputs": [],
   "source": [
    "!scancel -u ubuntu"
   ]
  },
  {
   "cell_type": "code",
   "execution_count": 20,
   "id": "aee5cc7e-228c-4484-bb31-efb870f59efa",
   "metadata": {},
   "outputs": [],
   "source": [
    "!scancel  1079920 "
   ]
  },
  {
   "cell_type": "code",
   "execution_count": null,
   "id": "3aeeeeb6-6c6f-4e37-9566-3eb8d73d97d5",
   "metadata": {},
   "outputs": [],
   "source": [
    "!rm -rf /shared/outputs/minitest/\n",
    "try:\n",
    "    Experiment.objects.get(name='minitest').delete()\n",
    "except:\n",
    "    pass\n",
    "dispatch.dispatch_experiments('feb2', base_job_name='minitest', game_name='tiny', overrides = '--br_portfolio_path feb2 --eval_every 500 --num_training_episodes 1_000 --br_overrides \"--num_training_episodes 1_000\" --eval_overrides \"--num_samples 100\"')"
   ]
  },
  {
   "cell_type": "code",
   "execution_count": null,
   "id": "d4ca4c72-ce03-4d1a-8e9d-1abd642e8407",
   "metadata": {},
   "outputs": [],
   "source": [
    "BestResponse.objects.last()"
   ]
  },
  {
   "cell_type": "code",
   "execution_count": null,
   "id": "da1b3451-a927-4467-a90d-077f2de61767",
   "metadata": {},
   "outputs": [],
   "source": [
    "Experiment.objects.all()"
   ]
  },
  {
   "cell_type": "code",
   "execution_count": null,
   "id": "0547418d-7d14-404e-ad7f-892180cd6e50",
   "metadata": {},
   "outputs": [],
   "source": [
    "!sacct --starttime 2022-03-11 --format=User,JobID,Jobname,partition,state,time,start,end,elapsed,MaxRss,MaxVMSize,nnodes,ncpus,nodelist"
   ]
  },
  {
   "cell_type": "code",
   "execution_count": null,
   "id": "2fc59f9d-3861-481c-bcd2-68c25e19267a",
   "metadata": {},
   "outputs": [],
   "source": [
    "Evaluation.objects.last()"
   ]
  },
  {
   "cell_type": "code",
   "execution_count": null,
   "id": "eda9b8b7-ea2f-41b0-a527-4460fb8249fc",
   "metadata": {},
   "outputs": [],
   "source": [
    "os.system(\"ssh borg.cs.ubc.ca '/opt/slurm/bin/sbatch'\")"
   ]
  },
  {
   "cell_type": "code",
   "execution_count": null,
   "id": "b70ae116-1e70-4d32-8405-b479041c18b5",
   "metadata": {},
   "outputs": [],
   "source": [
    "!squeue --format=\"%.18i %.65j %.2t %.10M %.6D %R\" | grep \"eval\" | awk '{print $1}' | xargs scancel"
   ]
  },
  {
   "cell_type": "code",
   "execution_count": null,
   "id": "d6b4808f-f9ca-4e51-8a92-4445dfb6f883",
   "metadata": {},
   "outputs": [],
   "source": [
    "from compress_pickle import dumps, loads\n"
   ]
  },
  {
   "cell_type": "code",
   "execution_count": null,
   "id": "a9b6c536-b575-48e7-8bd9-8b28e9a9619a",
   "metadata": {},
   "outputs": [],
   "source": [
    "loads?"
   ]
  },
  {
   "cell_type": "code",
   "execution_count": null,
   "id": "27346459-d529-47b5-b84f-32511d1b809f",
   "metadata": {},
   "outputs": [],
   "source": [
    "from compress_pickle.compressers.registry import get_known_compressions"
   ]
  },
  {
   "cell_type": "code",
   "execution_count": null,
   "id": "89557fb5-e0fb-471c-80f4-e7d8d4b76abb",
   "metadata": {},
   "outputs": [],
   "source": [
    "get_known_compressions()"
   ]
  },
  {
   "cell_type": "code",
   "execution_count": null,
   "id": "2b42e2b0-3412-46ed-8a7f-7539bc84f752",
   "metadata": {},
   "outputs": [],
   "source": [
    "x = EquilibriumSolverRunCheckpoint.objects.last().policy"
   ]
  },
  {
   "cell_type": "code",
   "execution_count": null,
   "id": "52401c72-bb34-41be-b7f0-a0c9479f60ff",
   "metadata": {},
   "outputs": [],
   "source": [
    "len(x)"
   ]
  },
  {
   "cell_type": "code",
   "execution_count": null,
   "id": "c19c4b6d-95b9-4730-9f52-66ef55bc2b2d",
   "metadata": {},
   "outputs": [],
   "source": [
    "len(dumps(pickle.loads(x), compression='bz2'))"
   ]
  },
  {
   "cell_type": "code",
   "execution_count": null,
   "id": "3b5590c1-0f89-4562-abdb-d9683160d40c",
   "metadata": {},
   "outputs": [],
   "source": [
    "len(pickle.dumps(pickle.loads(x)))"
   ]
  },
  {
   "cell_type": "code",
   "execution_count": null,
   "id": "0a3eae12-4643-46f1-a4ed-a72b4a18a44f",
   "metadata": {},
   "outputs": [],
   "source": [
    "EquilibriumSolverRunCheckpoint.objects.last().walltime"
   ]
  },
  {
   "cell_type": "code",
   "execution_count": null,
   "id": "33a4992c-5f4f-44df-a3cb-6f2a2bd15b6b",
   "metadata": {},
   "outputs": [],
   "source": [
    "EquilibriumSolverRunCheckpoint.objects.last().t"
   ]
  },
  {
   "cell_type": "code",
   "execution_count": null,
   "id": "03993e8f-aa1c-431f-9a5f-8bb5fedd7486",
   "metadata": {},
   "outputs": [],
   "source": [
    "EquilibriumSolverRunCheckpoint.objects.last().bestresponse_set.all()"
   ]
  },
  {
   "cell_type": "code",
   "execution_count": null,
   "id": "eb5535b3-c54c-4b0f-a3ae-ea5a61815694",
   "metadata": {},
   "outputs": [],
   "source": [
    "len(EquilibriumSolverRun.objects.last().equilibriumsolverruncheckpoint_set.all().first().policy)"
   ]
  },
  {
   "cell_type": "code",
   "execution_count": null,
   "id": "d9ec7cbe-0003-41b4-b8a2-c92ee61d9ef6",
   "metadata": {},
   "outputs": [],
   "source": [
    "len(EquilibriumSolverRun.objects.last().equilibriumsolverruncheckpoint_set.all().first().bestresponse_set.all().first().model)"
   ]
  },
  {
   "cell_type": "code",
   "execution_count": null,
   "id": "10dbbad0-9431-4681-9a74-912e50999dc7",
   "metadata": {},
   "outputs": [],
   "source": [
    "len(EquilibriumSolverRun.objects.last().equilibriumsolverruncheckpoint_set.all().first().bestresponse_set.all().last().model)"
   ]
  },
  {
   "cell_type": "code",
   "execution_count": null,
   "id": "813c6ee9-125d-4b02-81e6-c0a3652ba078",
   "metadata": {},
   "outputs": [],
   "source": []
  },
  {
   "cell_type": "code",
   "execution_count": null,
   "id": "ba52b0c7-3569-4e78-b13d-e64f538439ae",
   "metadata": {},
   "outputs": [],
   "source": []
  }
 ],
 "metadata": {
  "kernelspec": {
   "display_name": "Django Shell-Plus",
   "language": "python",
   "name": "django_extensions"
  },
  "language_info": {
   "codemirror_mode": {
    "name": "ipython",
    "version": 3
   },
   "file_extension": ".py",
   "mimetype": "text/x-python",
   "name": "python",
   "nbconvert_exporter": "python",
   "pygments_lexer": "ipython3",
   "version": "3.8.2"
  }
 },
 "nbformat": 4,
 "nbformat_minor": 5
}
