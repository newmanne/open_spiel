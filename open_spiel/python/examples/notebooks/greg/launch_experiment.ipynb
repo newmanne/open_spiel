{
 "cells": [
  {
   "cell_type": "code",
   "execution_count": 24,
   "id": "e6f6eef1-52e3-4ff5-af4b-2d5b933ad90b",
   "metadata": {},
   "outputs": [
    {
     "name": "stdout",
     "output_type": "stream",
     "text": [
      "The autoreload extension is already loaded. To reload it, use:\n",
      "  %reload_ext autoreload\n"
     ]
    }
   ],
   "source": [
    "%load_ext autoreload\n",
    "%autoreload 2"
   ]
  },
  {
   "cell_type": "code",
   "execution_count": 25,
   "id": "53d1f915-16a6-42e9-b93a-3f44564ef069",
   "metadata": {},
   "outputs": [],
   "source": [
    "import sys\n",
    "import glob\n",
    "import os\n",
    "import open_spiel.python.examples.ubc_dispatch as dispatch\n",
    "import os\n",
    "os.environ[\"DJANGO_ALLOW_ASYNC_UNSAFE\"] = \"true\"\n",
    "from sklearn.model_selection import ParameterGrid\n",
    "from pathlib import Path\n",
    "import pickle\n",
    "\n",
    "game_dir = os.environ[\"CLOCK_AUCTION_CONFIG_DIR\"]"
   ]
  },
  {
   "cell_type": "code",
   "execution_count": 29,
   "id": "a963cf68-f084-47bc-86bf-23882e77f392",
   "metadata": {},
   "outputs": [],
   "source": [
    "def get_sats_games_from_prefixes(prefixes):\n",
    "    game_list = []\n",
    "    for prefix in prefixes:\n",
    "        game_list += [f'{prefix}/' + os.path.basename(x).replace('.json','') for x in glob.glob(f'{game_dir}/{prefix}/*')]\n",
    "    return sorted(set(game_list))\n",
    "\n",
    "# can apply other filters like:\n",
    "# sats_games = [s for s in sats_games if ('hide' not in s) and '1000' in s and 'risk_averse' not in s]\n",
    "# sats_games = sats_games[:1] # debug"
   ]
  },
  {
   "cell_type": "code",
   "execution_count": 34,
   "id": "48036c62-68f7-4580-82c3-0da36da9c6b4",
   "metadata": {},
   "outputs": [
    {
     "name": "stdout",
     "output_type": "stream",
     "text": [
      "Games: 20; Grid: 40\n",
      "Submitted batch job 1081224\n",
      "Submitted batch job 1081225\n",
      "Submitted batch job 1081226\n",
      "Submitted batch job 1081227\n",
      "Submitted batch job 1081228\n",
      "Submitted batch job 1081229\n",
      "Submitted batch job 1081230\n",
      "Submitted batch job 1081231\n",
      "Submitted batch job 1081232\n",
      "Submitted batch job 1081233\n",
      "Submitted batch job 1081234\n",
      "Submitted batch job 1081235\n",
      "Submitted batch job 1081236\n",
      "Submitted batch job 1081237\n",
      "Submitted batch job 1081238\n",
      "Submitted batch job 1081239\n",
      "Submitted batch job 1081240\n",
      "Submitted batch job 1081241\n",
      "Submitted batch job 1081242\n",
      "Submitted batch job 1081243\n",
      "Submitted batch job 1081244\n",
      "Submitted batch job 1081245\n",
      "Submitted batch job 1081246\n",
      "Submitted batch job 1081247\n",
      "Submitted batch job 1081248\n",
      "Submitted batch job 1081249\n",
      "Submitted batch job 1081250\n",
      "Submitted batch job 1081251\n",
      "Submitted batch job 1081252\n",
      "Submitted batch job 1081253\n",
      "Submitted batch job 1081254\n",
      "Submitted batch job 1081255\n",
      "Submitted batch job 1081256\n",
      "Submitted batch job 1081257\n",
      "Submitted batch job 1081258\n",
      "Submitted batch job 1081259\n",
      "Submitted batch job 1081260\n",
      "Submitted batch job 1081261\n",
      "Submitted batch job 1081262\n",
      "Submitted batch job 1081263\n",
      "Submitted batch job 1081264\n",
      "Submitted batch job 1081265\n",
      "Submitted batch job 1081266\n",
      "Submitted batch job 1081267\n",
      "Submitted batch job 1081268\n",
      "Submitted batch job 1081269\n",
      "Submitted batch job 1081270\n",
      "Submitted batch job 1081271\n",
      "Submitted batch job 1081272\n",
      "Submitted batch job 1081273\n",
      "Submitted batch job 1081274\n",
      "Submitted batch job 1081275\n",
      "Submitted batch job 1081276\n",
      "Submitted batch job 1081277\n",
      "Submitted batch job 1081278\n",
      "Submitted batch job 1081279\n",
      "Submitted batch job 1081280\n",
      "Submitted batch job 1081281\n",
      "Submitted batch job 1081282\n",
      "Submitted batch job 1081283\n",
      "Submitted batch job 1081284\n",
      "Submitted batch job 1081285\n",
      "Submitted batch job 1081286\n",
      "Submitted batch job 1081287\n",
      "Submitted batch job 1081288\n",
      "Submitted batch job 1081289\n",
      "Submitted batch job 1081290\n",
      "Submitted batch job 1081291\n",
      "Submitted batch job 1081292\n",
      "Submitted batch job 1081293\n",
      "Submitted batch job 1081294\n",
      "Submitted batch job 1081295\n",
      "Submitted batch job 1081296\n",
      "Submitted batch job 1081297\n",
      "Submitted batch job 1081298\n",
      "Submitted batch job 1081299\n",
      "Submitted batch job 1081300\n",
      "Submitted batch job 1081301\n",
      "Submitted batch job 1081302\n",
      "Submitted batch job 1081303\n",
      "Submitted batch job 1081304\n",
      "Submitted batch job 1081305\n",
      "Submitted batch job 1081306\n",
      "Submitted batch job 1081307\n",
      "Submitted batch job 1081308\n",
      "Submitted batch job 1081309\n",
      "Submitted batch job 1081310\n",
      "Submitted batch job 1081311\n",
      "Submitted batch job 1081312\n",
      "Submitted batch job 1081313\n",
      "Submitted batch job 1081314\n",
      "Submitted batch job 1081315\n",
      "Submitted batch job 1081316\n",
      "Submitted batch job 1081317\n",
      "Submitted batch job 1081318\n",
      "Submitted batch job 1081319\n",
      "Submitted batch job 1081320\n",
      "Submitted batch job 1081321\n",
      "Submitted batch job 1081322\n",
      "Submitted batch job 1081323\n",
      "Submitted batch job 1081324\n",
      "Submitted batch job 1081325\n",
      "Submitted batch job 1081326\n",
      "Submitted batch job 1081327\n",
      "Submitted batch job 1081328\n",
      "Submitted batch job 1081329\n",
      "Submitted batch job 1081330\n",
      "Submitted batch job 1081331\n",
      "Submitted batch job 1081332\n",
      "Submitted batch job 1081333\n",
      "Submitted batch job 1081334\n",
      "Submitted batch job 1081335\n",
      "Submitted batch job 1081336\n",
      "Submitted batch job 1081337\n",
      "Submitted batch job 1081338\n",
      "Submitted batch job 1081339\n",
      "Submitted batch job 1081340\n",
      "Submitted batch job 1081341\n",
      "Submitted batch job 1081342\n",
      "Submitted batch job 1081343\n",
      "Submitted batch job 1081344\n",
      "Submitted batch job 1081345\n",
      "Submitted batch job 1081346\n",
      "Submitted batch job 1081347\n",
      "Submitted batch job 1081348\n",
      "Submitted batch job 1081349\n",
      "Submitted batch job 1081350\n",
      "Submitted batch job 1081351\n",
      "Submitted batch job 1081352\n",
      "Submitted batch job 1081353\n",
      "Submitted batch job 1081354\n",
      "Submitted batch job 1081355\n",
      "Submitted batch job 1081356\n",
      "Submitted batch job 1081357\n",
      "Submitted batch job 1081358\n",
      "Submitted batch job 1081359\n",
      "Submitted batch job 1081360\n",
      "Submitted batch job 1081361\n",
      "Submitted batch job 1081362\n",
      "Submitted batch job 1081363\n",
      "Submitted batch job 1081364\n",
      "Submitted batch job 1081365\n",
      "Submitted batch job 1081366\n",
      "Submitted batch job 1081367\n",
      "Submitted batch job 1081368\n",
      "Submitted batch job 1081369\n",
      "Submitted batch job 1081370\n",
      "Submitted batch job 1081371\n",
      "Submitted batch job 1081372\n",
      "Submitted batch job 1081373\n",
      "Submitted batch job 1081374\n",
      "Submitted batch job 1081375\n",
      "Submitted batch job 1081376\n",
      "Submitted batch job 1081377\n",
      "Submitted batch job 1081378\n",
      "Submitted batch job 1081379\n",
      "Submitted batch job 1081380\n",
      "Submitted batch job 1081381\n",
      "Submitted batch job 1081382\n",
      "Submitted batch job 1081383\n",
      "Submitted batch job 1081384\n",
      "Submitted batch job 1081385\n"
     ]
    },
    {
     "ename": "KeyboardInterrupt",
     "evalue": "",
     "output_type": "error",
     "traceback": [
      "\u001b[0;31m---------------------------------------------------------------------------\u001b[0m",
      "\u001b[0;31mKeyboardInterrupt\u001b[0m                         Traceback (most recent call last)",
      "Cell \u001b[0;32mIn[34], line 20\u001b[0m\n\u001b[1;32m     18\u001b[0m game_name \u001b[38;5;241m=\u001b[39m params[\u001b[38;5;124m'\u001b[39m\u001b[38;5;124mgame\u001b[39m\u001b[38;5;124m'\u001b[39m]\n\u001b[1;32m     19\u001b[0m (alg_name, alg_config) \u001b[38;5;241m=\u001b[39m params[\u001b[38;5;124m'\u001b[39m\u001b[38;5;124malg_and_config\u001b[39m\u001b[38;5;124m'\u001b[39m]\n\u001b[0;32m---> 20\u001b[0m \u001b[43mdispatch\u001b[49m\u001b[38;5;241;43m.\u001b[39;49m\u001b[43mdispatch_experiments\u001b[49m\u001b[43m(\u001b[49m\u001b[43malg_config\u001b[49m\u001b[43m,\u001b[49m\u001b[43m \u001b[49m\u001b[43mbase_job_name\u001b[49m\u001b[38;5;241;43m=\u001b[39;49m\u001b[43mBASE_JOB_NAME\u001b[49m\u001b[43m,\u001b[49m\u001b[43m \u001b[49m\u001b[43mgame_name\u001b[49m\u001b[38;5;241;43m=\u001b[39;49m\u001b[43mgame_name\u001b[49m\u001b[43m,\u001b[49m\u001b[43m \u001b[49m\u001b[43moverrides\u001b[49m\u001b[38;5;241;43m=\u001b[39;49m\u001b[43moverrides\u001b[49m\u001b[43m,\u001b[49m\u001b[43m \u001b[49m\u001b[43mn_seeds\u001b[49m\u001b[38;5;241;43m=\u001b[39;49m\u001b[43mN_SEEDS\u001b[49m\u001b[43m,\u001b[49m\u001b[43m \u001b[49m\u001b[43mextra_name\u001b[49m\u001b[38;5;241;43m=\u001b[39;49m\u001b[43mextra_name\u001b[49m\u001b[43m,\u001b[49m\u001b[43m \u001b[49m\u001b[43malg\u001b[49m\u001b[38;5;241;43m=\u001b[39;49m\u001b[43malg_name\u001b[49m\u001b[43m)\u001b[49m\n",
      "File \u001b[0;32m/global/scratch/open_spiel/open_spiel/open_spiel/python/examples/ubc_dispatch.py:117\u001b[0m, in \u001b[0;36mdispatch_experiments\u001b[0;34m(yml_config, base_job_name, game_name, submit, overrides, cfr_also, database, n_seeds, start_seed, alg, extra_name)\u001b[0m\n\u001b[1;32m    114\u001b[0m         Path(output_dir)\u001b[38;5;241m.\u001b[39mmkdir(parents\u001b[38;5;241m=\u001b[39m\u001b[38;5;28;01mTrue\u001b[39;00m, exist_ok\u001b[38;5;241m=\u001b[39m\u001b[38;5;28;01mTrue\u001b[39;00m)\n\u001b[1;32m    116\u001b[0m         \u001b[38;5;28;01mif\u001b[39;00m CLUSTER \u001b[38;5;241m==\u001b[39m \u001b[38;5;124m'\u001b[39m\u001b[38;5;124mada\u001b[39m\u001b[38;5;124m'\u001b[39m:\n\u001b[0;32m--> 117\u001b[0m             \u001b[43mtime\u001b[49m\u001b[38;5;241;43m.\u001b[39;49m\u001b[43msleep\u001b[49m\u001b[43m(\u001b[49m\u001b[38;5;241;43m0.3\u001b[39;49m\u001b[43m)\u001b[49m \u001b[38;5;66;03m# FS is stupid and sometimes you need to wait or the file won't exist.\u001b[39;00m\n\u001b[1;32m    119\u001b[0m         slurm_job_name \u001b[38;5;241m=\u001b[39m experiment_name \u001b[38;5;241m+\u001b[39m \u001b[38;5;124m'\u001b[39m\u001b[38;5;124m_\u001b[39m\u001b[38;5;124m'\u001b[39m \u001b[38;5;241m+\u001b[39m base_job_name\n\u001b[1;32m    120\u001b[0m         job_file_text \u001b[38;5;241m=\u001b[39m \u001b[38;5;124mf\u001b[39m\u001b[38;5;124m\"\"\"\u001b[39m\u001b[38;5;132;01m{\u001b[39;00mshell\u001b[38;5;132;01m}\u001b[39;00m\n\u001b[1;32m    121\u001b[0m \u001b[38;5;132;01m{\u001b[39;00mpreamble\u001b[38;5;132;01m}\u001b[39;00m\n\u001b[1;32m    122\u001b[0m \u001b[38;5;124m#SBATCH --job-name=\u001b[39m\u001b[38;5;132;01m{\u001b[39;00mslurm_job_name\u001b[38;5;132;01m}\u001b[39;00m\n\u001b[0;32m   (...)\u001b[0m\n\u001b[1;32m    134\u001b[0m \u001b[38;5;124meval $CMD\u001b[39m\n\u001b[1;32m    135\u001b[0m \u001b[38;5;124m\"\"\"\u001b[39m\n",
      "\u001b[0;31mKeyboardInterrupt\u001b[0m: "
     ]
    }
   ],
   "source": [
    "# feb4 4-type game; 11 seeds of CFR/CFR-no-tremble/PPO\n",
    "sats_games = get_sats_games_from_prefixes(['feb4_4t'])\n",
    "pgrid = ParameterGrid([{\n",
    "    'game': [g for g in sats_games][:],\n",
    "    'alg_and_config': [('cfr', 'cfr_port_10_ext'), ('ppo', 'ppo_jun8_23')]\n",
    "}])\n",
    "BASE_JOB_NAME = 'feb5_v2'\n",
    "N_SEEDS = 11 # Number of seeds of each experiment to launch\n",
    "time_limit_seconds = int(3600 * 1)\n",
    "num_iters = 999_000_000\n",
    "extra_name = ''\n",
    "overrides = f'--overwrite_db True --eval_every 999_999_999 --eval_every_seconds 99999999 --eval_zero false --total_timesteps {num_iters} --dispatch_br false --report_freq 1000 --time_limit_seconds {time_limit_seconds} --use_wandb true'\n",
    "\n",
    "# ----------------------------------------------------\n",
    "\n",
    "print(f'Games: {len(sats_games)}; Grid: {len(pgrid)}')\n",
    "for params in pgrid:\n",
    "    game_name = params['game']\n",
    "    (alg_name, alg_config) = params['alg_and_config']\n",
    "    dispatch.dispatch_experiments(alg_config, base_job_name=BASE_JOB_NAME, game_name=game_name, overrides=overrides, n_seeds=N_SEEDS, extra_name=extra_name, alg=alg_name)"
   ]
  },
  {
   "cell_type": "code",
   "execution_count": 19,
   "id": "7049247f-158d-4a02-9415-eee14afefa1d",
   "metadata": {},
   "outputs": [],
   "source": [
    "# other example jobs below"
   ]
  },
  {
   "cell_type": "code",
   "execution_count": 6,
   "id": "5d7b0a76-6f04-432b-8d86-41bbbf97fc42",
   "metadata": {},
   "outputs": [],
   "source": [
    "# ### Just GOF CFR\n",
    "# num_iters = 999_000_000\n",
    "# time_limit_seconds = int(3600 * 1)\n",
    "# for config in pgrid:\n",
    "#     CONFIG = 'cfr' # The YML network config folder for the main jobs\n",
    "#     N_SEEDS = 3 # Number of seeds of each experiment to launch\n",
    "#     extra_name = ''\n",
    "#     overrides = f'--overwrite_db True --eval_every 999_999_999 --eval_every_seconds 1800 --eval_zero false --total_timesteps {num_iters} --dispatch_br false --report_freq 50 --time_limit_seconds {time_limit_seconds} --use_wandb true'      \n",
    "#     dispatch.dispatch_experiments(CONFIG, base_job_name='jan18_cfr_v6_seeds_v3', game_name=config['game'], overrides=overrides, n_seeds=N_SEEDS, extra_name=extra_name, alg='cfr', start_seed=200)"
   ]
  },
  {
   "cell_type": "code",
   "execution_count": 10,
   "id": "57ec9e6b-aeae-48e2-94e6-43d066a0db1a",
   "metadata": {},
   "outputs": [
    {
     "name": "stdout",
     "output_type": "stream",
     "text": [
      "Submitted batch job 1079913\n"
     ]
    }
   ],
   "source": [
    "num_iters = 999_000_000\n",
    "time_limit_seconds = int(3600 * 1)\n",
    "for config in pgrid:\n",
    "    CONFIG = 'cfr_10' # The YML network config folder for the main jobs\n",
    "    N_SEEDS = 5 # Number of seeds of each experiment to launch\n",
    "    extra_name = ''\n",
    "    overrides = f'--overwrite_db True --eval_every 999_999_999 --eval_every_seconds 99999999 --eval_zero false --total_timesteps {num_iters} --dispatch_br false --report_freq 250 --time_limit_seconds {time_limit_seconds} --use_wandb true'      \n",
    "    dispatch.dispatch_experiments(CONFIG, base_job_name='feb4_v1', game_name=config['game'], overrides=overrides, n_seeds=N_SEEDS, extra_name=extra_name, alg='cfr')"
   ]
  },
  {
   "cell_type": "code",
   "execution_count": 10,
   "id": "426bd0de-99de-4c99-9932-d539f37f4615",
   "metadata": {},
   "outputs": [
    {
     "name": "stdout",
     "output_type": "stream",
     "text": [
      "Submitted batch job 1080222\n",
      "Submitted batch job 1080223\n",
      "Submitted batch job 1080224\n",
      "Submitted batch job 1080225\n",
      "Submitted batch job 1080226\n",
      "Submitted batch job 1080227\n",
      "Submitted batch job 1080228\n",
      "Submitted batch job 1080229\n",
      "Submitted batch job 1080230\n",
      "Submitted batch job 1080231\n",
      "Submitted batch job 1080232\n",
      "Submitted batch job 1080233\n",
      "Submitted batch job 1080234\n",
      "Submitted batch job 1080235\n",
      "Submitted batch job 1080236\n",
      "Submitted batch job 1080237\n",
      "Submitted batch job 1080238\n",
      "Submitted batch job 1080239\n",
      "Submitted batch job 1080240\n",
      "Submitted batch job 1080241\n",
      "Submitted batch job 1080242\n",
      "Submitted batch job 1080243\n",
      "Submitted batch job 1080244\n",
      "Submitted batch job 1080245\n",
      "Submitted batch job 1080246\n",
      "Submitted batch job 1080247\n",
      "Submitted batch job 1080248\n",
      "Submitted batch job 1080249\n",
      "Submitted batch job 1080250\n",
      "Submitted batch job 1080251\n",
      "Submitted batch job 1080252\n",
      "Submitted batch job 1080253\n",
      "Submitted batch job 1080254\n",
      "Submitted batch job 1080255\n",
      "Submitted batch job 1080256\n",
      "Submitted batch job 1080257\n",
      "Submitted batch job 1080258\n",
      "Submitted batch job 1080259\n",
      "Submitted batch job 1080260\n",
      "Submitted batch job 1080261\n",
      "Submitted batch job 1080262\n",
      "Submitted batch job 1080263\n",
      "Submitted batch job 1080264\n",
      "Submitted batch job 1080265\n",
      "Submitted batch job 1080266\n",
      "Submitted batch job 1080267\n",
      "Submitted batch job 1080268\n",
      "Submitted batch job 1080269\n",
      "Submitted batch job 1080270\n",
      "Submitted batch job 1080271\n",
      "Submitted batch job 1080272\n",
      "Submitted batch job 1080273\n",
      "Submitted batch job 1080274\n",
      "Submitted batch job 1080275\n",
      "Submitted batch job 1080276\n",
      "Submitted batch job 1080277\n",
      "Submitted batch job 1080278\n",
      "Submitted batch job 1080279\n",
      "Submitted batch job 1080280\n",
      "Submitted batch job 1080281\n",
      "Submitted batch job 1080282\n",
      "Submitted batch job 1080283\n",
      "Submitted batch job 1080284\n",
      "Submitted batch job 1080285\n",
      "Submitted batch job 1080286\n",
      "Submitted batch job 1080287\n",
      "Submitted batch job 1080288\n",
      "Submitted batch job 1080289\n",
      "Submitted batch job 1080290\n",
      "Submitted batch job 1080291\n",
      "Submitted batch job 1080292\n",
      "Submitted batch job 1080293\n",
      "Submitted batch job 1080294\n",
      "Submitted batch job 1080295\n",
      "Submitted batch job 1080296\n",
      "Submitted batch job 1080297\n",
      "Submitted batch job 1080298\n",
      "Submitted batch job 1080299\n",
      "Submitted batch job 1080300\n",
      "Submitted batch job 1080301\n",
      "Submitted batch job 1080302\n",
      "Submitted batch job 1080303\n",
      "Submitted batch job 1080304\n",
      "Submitted batch job 1080305\n",
      "Submitted batch job 1080306\n",
      "Submitted batch job 1080307\n",
      "Submitted batch job 1080308\n",
      "Submitted batch job 1080309\n",
      "Submitted batch job 1080310\n",
      "Submitted batch job 1080311\n",
      "Submitted batch job 1080312\n",
      "Submitted batch job 1080313\n",
      "Submitted batch job 1080314\n",
      "Submitted batch job 1080315\n",
      "Submitted batch job 1080316\n",
      "Submitted batch job 1080317\n",
      "Submitted batch job 1080318\n",
      "Submitted batch job 1080319\n",
      "Submitted batch job 1080320\n",
      "Submitted batch job 1080321\n"
     ]
    }
   ],
   "source": [
    "num_iters = 999_000_000\n",
    "time_limit_seconds = int(3600 * 1 / 60)\n",
    "for config in pgrid:\n",
    "    CONFIG = 'ppo_jun8_23' # The YML network config folder for the main jobs\n",
    "    N_SEEDS = 5 # Number of seeds of each experiment to launch\n",
    "    extra_name = ''\n",
    "    overrides = f'--overwrite_db True --eval_every 999_999_999 --eval_every_seconds 99999999 --eval_zero false --total_timesteps {num_iters} --dispatch_br false --report_freq 250 --time_limit_seconds {time_limit_seconds} --use_wandb true'      \n",
    "    dispatch.dispatch_experiments(CONFIG, base_job_name='feb3_test_short_v4', game_name=config['game'], overrides=overrides, n_seeds=N_SEEDS, extra_name=extra_name, alg='ppo')"
   ]
  },
  {
   "cell_type": "code",
   "execution_count": 37,
   "id": "4a6067d6-ea75-47a7-aec8-265ce62ad4aa",
   "metadata": {},
   "outputs": [
    {
     "name": "stdout",
     "output_type": "stream",
     "text": [
      "             JOBID                                                                                       NAME ST .      TIME NODES NODELIST(REASON)\n",
      "           1080121                                                                                    jupyter  R .2-07:39:51     1 ada21\n"
     ]
    }
   ],
   "source": [
    "!squeue -u $USER --format=\"%.18i %.90j %.2t .%.10M%.6D %R\""
   ]
  },
  {
   "cell_type": "code",
   "execution_count": 36,
   "id": "8bc4451c",
   "metadata": {},
   "outputs": [],
   "source": [
    "!scancel 1081263 1081264 1081265 1081266 1081267 1081268 1081269 1081270 1081271 1081272 1081273 1081274 1081275 1081276 1081277 1081278 1081279 1081280 1081281 1081282 1081283 1081284 1081285 1081286 1081287 1081288 1081289 1081290 1081291 1081292 1081293 1081294 1081295 1081296 1081297 1081298 1081299 1081300 1081301 1081302 1081303 1081304 1081305 1081306 1081307 1081308 1081309 1081310 1081311 1081312 1081313 1081314 1081315 1081316 1081317 1081318 1081319 1081320 1081321 1081322 1081323 1081324 1081325 1081326 1081327 1081328 1081329 1081330 1081331 1081332 1081333 1081334 1081335 1081336 1081337 1081338 1081339 1081340 1081341 1081342 1081343 1081344 1081345 1081346 1081347 1081348 1081349 1081350 1081351 1081352 1081353 1081354 1081355 1081356 1081357 1081358 1081359 1081360 1081361 1081362 1081363 1081364 1081365 1081366 1081367 1081368 1081369 1081370 1081371 1081372 1081373 1081374 1081375 1081376 1081377 1081378 1081379 1081380 1081381 1081382 1081383 1081384 1081385 1081260 1081261 1081262 1081252 1081253 1081254 1081255 1081256 1081257 1081258 1081259 1081243 1081244 1081245 1081246 1081247 1081248 1081249 1081250 1081251 1081234 1081235 1081236 1081237 1081238 1081239 1081240 1081241 1081242 1081226 1081227 1081228 1081229 1081230 1081231 1081232 1081233 1081224 1081225 1081223\n"
   ]
  },
  {
   "cell_type": "code",
   "execution_count": 35,
   "id": "dc10a98c-5908-4820-a69b-8298ef316ec7",
   "metadata": {},
   "outputs": [
    {
     "name": "stdout",
     "output_type": "stream",
     "text": [
      "JOBID\n",
      "1081263\n",
      "1081264\n",
      "1081265\n",
      "1081266\n",
      "1081267\n",
      "1081268\n",
      "1081269\n",
      "1081270\n",
      "1081271\n",
      "1081272\n",
      "1081273\n",
      "1081274\n",
      "1081275\n",
      "1081276\n",
      "1081277\n",
      "1081278\n",
      "1081279\n",
      "1081280\n",
      "1081281\n",
      "1081282\n",
      "1081283\n",
      "1081284\n",
      "1081285\n",
      "1081286\n",
      "1081287\n",
      "1081288\n",
      "1081289\n",
      "1081290\n",
      "1081291\n",
      "1081292\n",
      "1081293\n",
      "1081294\n",
      "1081295\n",
      "1081296\n",
      "1081297\n",
      "1081298\n",
      "1081299\n",
      "1081300\n",
      "1081301\n",
      "1081302\n",
      "1081303\n",
      "1081304\n",
      "1081305\n",
      "1081306\n",
      "1081307\n",
      "1081308\n",
      "1081309\n",
      "1081310\n",
      "1081311\n",
      "1081312\n",
      "1081313\n",
      "1081314\n",
      "1081315\n",
      "1081316\n",
      "1081317\n",
      "1081318\n",
      "1081319\n",
      "1081320\n",
      "1081321\n",
      "1081322\n",
      "1081323\n",
      "1081324\n",
      "1081325\n",
      "1081326\n",
      "1081327\n",
      "1081328\n",
      "1081329\n",
      "1081330\n",
      "1081331\n",
      "1081332\n",
      "1081333\n",
      "1081334\n",
      "1081335\n",
      "1081336\n",
      "1081337\n",
      "1081338\n",
      "1081339\n",
      "1081340\n",
      "1081341\n",
      "1081342\n",
      "1081343\n",
      "1081344\n",
      "1081345\n",
      "1081346\n",
      "1081347\n",
      "1081348\n",
      "1081349\n",
      "1081350\n",
      "1081351\n",
      "1081352\n",
      "1081353\n",
      "1081354\n",
      "1081355\n",
      "1081356\n",
      "1081357\n",
      "1081358\n",
      "1081359\n",
      "1081360\n",
      "1081361\n",
      "1081362\n",
      "1081363\n",
      "1081364\n",
      "1081365\n",
      "1081366\n",
      "1081367\n",
      "1081368\n",
      "1081369\n",
      "1081370\n",
      "1081371\n",
      "1081372\n",
      "1081373\n",
      "1081374\n",
      "1081375\n",
      "1081376\n",
      "1081377\n",
      "1081378\n",
      "1081379\n",
      "1081380\n",
      "1081381\n",
      "1081382\n",
      "1081383\n",
      "1081384\n",
      "1081385\n",
      "1081260\n",
      "1081261\n",
      "1081262\n",
      "1081252\n",
      "1081253\n",
      "1081254\n",
      "1081255\n",
      "1081256\n",
      "1081257\n",
      "1081258\n",
      "1081259\n",
      "1081243\n",
      "1081244\n",
      "1081245\n",
      "1081246\n",
      "1081247\n",
      "1081248\n",
      "1081249\n",
      "1081250\n",
      "1081251\n",
      "1081234\n",
      "1081235\n",
      "1081236\n",
      "1081237\n",
      "1081238\n",
      "1081239\n",
      "1081240\n",
      "1081241\n",
      "1081242\n",
      "1081226\n",
      "1081227\n",
      "1081228\n",
      "1081229\n",
      "1081230\n",
      "1081231\n",
      "1081232\n",
      "1081233\n",
      "1081224\n",
      "1081225\n",
      "1081223\n"
     ]
    }
   ],
   "source": [
    "!squeue -u $USER --format=\"%.18i %.65j %.2t %.10M %.6D %R\" | grep -v \"jupyter\" | awk '{print $1}'"
   ]
  },
  {
   "cell_type": "code",
   "execution_count": 9,
   "id": "99c796a6-b769-485a-98fa-d295eb214144",
   "metadata": {},
   "outputs": [
    {
     "name": "stdout",
     "output_type": "stream",
     "text": [
      "102\n"
     ]
    }
   ],
   "source": [
    "!squeue -u $USER | wc -l"
   ]
  },
  {
   "cell_type": "code",
   "execution_count": 17,
   "id": "0e80d410-986b-42a1-9d49-1035ef103a0a",
   "metadata": {},
   "outputs": [],
   "source": [
    "def check_queue():\n",
    "    !ssh borg.cs.ubc.ca '/opt/slurm/bin/squeue -u $USER --format=\"%.18i %.90j %.2t .%.10M %.6D %R\"'\n"
   ]
  },
  {
   "cell_type": "code",
   "execution_count": 18,
   "id": "3e5c26b7-d158-4ece-a72a-c3b2fd47a56f",
   "metadata": {
    "tags": []
   },
   "outputs": [
    {
     "name": "stdout",
     "output_type": "stream",
     "text": [
      "             JOBID                                                                                       NAME ST .      TIME  NODES NODELIST(REASON)\n",
      "           1079910                                                                                    jupyter  R .     49:46      1 ada21\n",
      "           1079915 jan12_repro_4t_jan12_repro_4t_1_base_dev1000_rho1_t4-ppo_jun8_23ppo_76-1350985_who_cares_p  R .      1:27      1 ada01\n",
      "           1079913 jan12_repro_4t_jan12_repro_4t_1_base_dev1000_rho1_t4-cfr_10external_plus_linear-100_who_ca  R .     36:32      1 ada01\n"
     ]
    }
   ],
   "source": [
    "check_queue()"
   ]
  },
  {
   "cell_type": "code",
   "execution_count": null,
   "id": "a8b665af-771f-44c1-8065-4928e1e5ac91",
   "metadata": {},
   "outputs": [],
   "source": [
    "!squeue | grep \"may30\" | wc -l"
   ]
  },
  {
   "cell_type": "code",
   "execution_count": null,
   "id": "c26b508d-9ee0-4878-9aa1-68c611ab651a",
   "metadata": {},
   "outputs": [],
   "source": [
    "!scancel -u ubuntu"
   ]
  },
  {
   "cell_type": "code",
   "execution_count": 20,
   "id": "aee5cc7e-228c-4484-bb31-efb870f59efa",
   "metadata": {},
   "outputs": [],
   "source": [
    "!scancel  1079920 "
   ]
  },
  {
   "cell_type": "code",
   "execution_count": null,
   "id": "3aeeeeb6-6c6f-4e37-9566-3eb8d73d97d5",
   "metadata": {},
   "outputs": [],
   "source": [
    "!rm -rf /shared/outputs/minitest/\n",
    "try:\n",
    "    Experiment.objects.get(name='minitest').delete()\n",
    "except:\n",
    "    pass\n",
    "dispatch.dispatch_experiments('feb2', base_job_name='minitest', game_name='tiny', overrides = '--br_portfolio_path feb2 --eval_every 500 --num_training_episodes 1_000 --br_overrides \"--num_training_episodes 1_000\" --eval_overrides \"--num_samples 100\"')"
   ]
  },
  {
   "cell_type": "code",
   "execution_count": null,
   "id": "d4ca4c72-ce03-4d1a-8e9d-1abd642e8407",
   "metadata": {},
   "outputs": [],
   "source": [
    "BestResponse.objects.last()"
   ]
  },
  {
   "cell_type": "code",
   "execution_count": null,
   "id": "da1b3451-a927-4467-a90d-077f2de61767",
   "metadata": {},
   "outputs": [],
   "source": [
    "Experiment.objects.all()"
   ]
  },
  {
   "cell_type": "code",
   "execution_count": null,
   "id": "0547418d-7d14-404e-ad7f-892180cd6e50",
   "metadata": {},
   "outputs": [],
   "source": [
    "!sacct --starttime 2022-03-11 --format=User,JobID,Jobname,partition,state,time,start,end,elapsed,MaxRss,MaxVMSize,nnodes,ncpus,nodelist"
   ]
  },
  {
   "cell_type": "code",
   "execution_count": null,
   "id": "2fc59f9d-3861-481c-bcd2-68c25e19267a",
   "metadata": {},
   "outputs": [],
   "source": [
    "Evaluation.objects.last()"
   ]
  },
  {
   "cell_type": "code",
   "execution_count": null,
   "id": "eda9b8b7-ea2f-41b0-a527-4460fb8249fc",
   "metadata": {},
   "outputs": [],
   "source": [
    "os.system(\"ssh borg.cs.ubc.ca '/opt/slurm/bin/sbatch'\")"
   ]
  },
  {
   "cell_type": "code",
   "execution_count": null,
   "id": "b70ae116-1e70-4d32-8405-b479041c18b5",
   "metadata": {},
   "outputs": [],
   "source": [
    "!squeue --format=\"%.18i %.65j %.2t %.10M %.6D %R\" | grep \"eval\" | awk '{print $1}' | xargs scancel"
   ]
  },
  {
   "cell_type": "code",
   "execution_count": null,
   "id": "d6b4808f-f9ca-4e51-8a92-4445dfb6f883",
   "metadata": {},
   "outputs": [],
   "source": [
    "from compress_pickle import dumps, loads\n"
   ]
  },
  {
   "cell_type": "code",
   "execution_count": null,
   "id": "a9b6c536-b575-48e7-8bd9-8b28e9a9619a",
   "metadata": {},
   "outputs": [],
   "source": [
    "loads?"
   ]
  },
  {
   "cell_type": "code",
   "execution_count": null,
   "id": "27346459-d529-47b5-b84f-32511d1b809f",
   "metadata": {},
   "outputs": [],
   "source": [
    "from compress_pickle.compressers.registry import get_known_compressions"
   ]
  },
  {
   "cell_type": "code",
   "execution_count": null,
   "id": "89557fb5-e0fb-471c-80f4-e7d8d4b76abb",
   "metadata": {},
   "outputs": [],
   "source": [
    "get_known_compressions()"
   ]
  },
  {
   "cell_type": "code",
   "execution_count": null,
   "id": "2b42e2b0-3412-46ed-8a7f-7539bc84f752",
   "metadata": {},
   "outputs": [],
   "source": [
    "x = EquilibriumSolverRunCheckpoint.objects.last().policy"
   ]
  },
  {
   "cell_type": "code",
   "execution_count": null,
   "id": "52401c72-bb34-41be-b7f0-a0c9479f60ff",
   "metadata": {},
   "outputs": [],
   "source": [
    "len(x)"
   ]
  },
  {
   "cell_type": "code",
   "execution_count": null,
   "id": "c19c4b6d-95b9-4730-9f52-66ef55bc2b2d",
   "metadata": {},
   "outputs": [],
   "source": [
    "len(dumps(pickle.loads(x), compression='bz2'))"
   ]
  },
  {
   "cell_type": "code",
   "execution_count": null,
   "id": "3b5590c1-0f89-4562-abdb-d9683160d40c",
   "metadata": {},
   "outputs": [],
   "source": [
    "len(pickle.dumps(pickle.loads(x)))"
   ]
  },
  {
   "cell_type": "code",
   "execution_count": null,
   "id": "0a3eae12-4643-46f1-a4ed-a72b4a18a44f",
   "metadata": {},
   "outputs": [],
   "source": [
    "EquilibriumSolverRunCheckpoint.objects.last().walltime"
   ]
  },
  {
   "cell_type": "code",
   "execution_count": null,
   "id": "33a4992c-5f4f-44df-a3cb-6f2a2bd15b6b",
   "metadata": {},
   "outputs": [],
   "source": [
    "EquilibriumSolverRunCheckpoint.objects.last().t"
   ]
  },
  {
   "cell_type": "code",
   "execution_count": null,
   "id": "03993e8f-aa1c-431f-9a5f-8bb5fedd7486",
   "metadata": {},
   "outputs": [],
   "source": [
    "EquilibriumSolverRunCheckpoint.objects.last().bestresponse_set.all()"
   ]
  },
  {
   "cell_type": "code",
   "execution_count": null,
   "id": "eb5535b3-c54c-4b0f-a3ae-ea5a61815694",
   "metadata": {},
   "outputs": [],
   "source": [
    "len(EquilibriumSolverRun.objects.last().equilibriumsolverruncheckpoint_set.all().first().policy)"
   ]
  },
  {
   "cell_type": "code",
   "execution_count": null,
   "id": "d9ec7cbe-0003-41b4-b8a2-c92ee61d9ef6",
   "metadata": {},
   "outputs": [],
   "source": [
    "len(EquilibriumSolverRun.objects.last().equilibriumsolverruncheckpoint_set.all().first().bestresponse_set.all().first().model)"
   ]
  },
  {
   "cell_type": "code",
   "execution_count": null,
   "id": "10dbbad0-9431-4681-9a74-912e50999dc7",
   "metadata": {},
   "outputs": [],
   "source": [
    "len(EquilibriumSolverRun.objects.last().equilibriumsolverruncheckpoint_set.all().first().bestresponse_set.all().last().model)"
   ]
  },
  {
   "cell_type": "code",
   "execution_count": null,
   "id": "813c6ee9-125d-4b02-81e6-c0a3652ba078",
   "metadata": {},
   "outputs": [],
   "source": []
  },
  {
   "cell_type": "code",
   "execution_count": null,
   "id": "ba52b0c7-3569-4e78-b13d-e64f538439ae",
   "metadata": {},
   "outputs": [],
   "source": []
  }
 ],
 "metadata": {
  "kernelspec": {
   "display_name": "Django Shell-Plus",
   "language": "python",
   "name": "django_extensions"
  },
  "language_info": {
   "codemirror_mode": {
    "name": "ipython",
    "version": 3
   },
   "file_extension": ".py",
   "mimetype": "text/x-python",
   "name": "python",
   "nbconvert_exporter": "python",
   "pygments_lexer": "ipython3",
   "version": "3.8.2"
  }
 },
 "nbformat": 4,
 "nbformat_minor": 5
}
