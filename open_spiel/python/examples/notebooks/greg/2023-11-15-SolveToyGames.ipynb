{
 "cells": [
  {
   "cell_type": "code",
   "execution_count": 21,
   "metadata": {},
   "outputs": [],
   "source": [
    "import pygambit as gambit\n",
    "import itertools\n",
    "import numpy as np\n",
    "\n",
    "def get_utilities(supply, prices, p1_values, p2_values, p1_strategy, p2_strategy):\n",
    "    round_num = 0\n",
    "    try:\n",
    "        while p1_strategy[round_num] + p2_strategy[round_num] > supply:\n",
    "            round_num += 1\n",
    "    except IndexError:\n",
    "        print(f'p1_strategy: {p1_strategy}; p2_strategy: {p2_strategy}')\n",
    "        raise\n",
    "    \n",
    "    price = prices[round_num]\n",
    "    p1_allocation = p1_strategy[round_num]\n",
    "    p2_allocation = p2_strategy[round_num]\n",
    "    return (\n",
    "        sum(p1_values[:p1_allocation]) - p1_allocation * price,\n",
    "        sum(p2_values[:p2_allocation]) - p2_allocation * price\n",
    "    )\n",
    "\n",
    "def build_auction(supply, prices, p_weak, weak_values, strong_values, weak_strategies, strong_strategies):\n",
    "    p_strong = 1 - p_weak\n",
    "    joint_strategies = list(itertools.product(weak_strategies, strong_strategies))\n",
    "    num_joint_strategies = len(joint_strategies)\n",
    "\n",
    "    p1_payoffs = np.zeros((num_joint_strategies, num_joint_strategies))\n",
    "    p2_payoffs = np.zeros((num_joint_strategies, num_joint_strategies))\n",
    "\n",
    "    for i, (weak_strat_1, strong_strat_1) in enumerate(joint_strategies):\n",
    "        for j, (weak_strat_2, strong_strat_2) in enumerate(joint_strategies):\n",
    "\n",
    "            type_probs_and_utilities = [\n",
    "                (p_weak*p_weak, get_utilities(supply, prices, weak_values, weak_values, weak_strat_1, weak_strat_2)),\n",
    "                (p_weak*p_strong, get_utilities(supply, prices, weak_values, strong_values, weak_strat_1, strong_strat_2)),\n",
    "                (p_strong*p_weak, get_utilities(supply, prices, strong_values, weak_values, strong_strat_1, weak_strat_2)),\n",
    "                (p_strong*p_strong, get_utilities(supply, prices, strong_values, strong_values, strong_strat_1, strong_strat_2))\n",
    "            ]\n",
    "\n",
    "            p1_payoffs[i, j] = np.round(sum([p * u[0] for p, u in type_probs_and_utilities]), 3)\n",
    "            p2_payoffs[i, j] = np.round(sum([p * u[1] for p, u in type_probs_and_utilities]), 3)\n",
    "\n",
    "    \n",
    "    \n",
    "    auction = gambit.Game.from_arrays(p1_payoffs, p2_payoffs)\n",
    "\n",
    "    # label the strategies\n",
    "    for i, (weak_strat, strong_strat) in enumerate(joint_strategies):\n",
    "        joint_strat_string = f'W: {weak_strat} | S: {strong_strat}'\n",
    "        auction.players[0].strategies[i].label = joint_strat_string\n",
    "        auction.players[1].strategies[i].label = joint_strat_string\n",
    "        \n",
    "    return auction"
   ]
  },
  {
   "cell_type": "code",
   "execution_count": 22,
   "metadata": {},
   "outputs": [
    {
     "ename": "IndexError",
     "evalue": "tuple index out of range",
     "output_type": "error",
     "traceback": [
      "\u001b[0;31m---------------------------------------------------------------------------\u001b[0m",
      "\u001b[0;31mIndexError\u001b[0m                                Traceback (most recent call last)",
      "\u001b[1;32m/apps/open_spiel/open_spiel/python/examples/notebooks/greg/2023-11-15-SolveToyGames.ipynb Cell 2\u001b[0m line \u001b[0;36m<module>\u001b[0;34m\u001b[0m\n\u001b[1;32m      <a href='vscode-notebook-cell://ssh-remote%2Bcfrgpu22/apps/open_spiel/open_spiel/python/examples/notebooks/greg/2023-11-15-SolveToyGames.ipynb#W1sdnNjb2RlLXJlbW90ZQ%3D%3D?line=4'>5</a>\u001b[0m weak_strategies \u001b[39m=\u001b[39m [(\u001b[39m1\u001b[39m,), (\u001b[39m2\u001b[39m, \u001b[39m1\u001b[39m)]\n\u001b[1;32m      <a href='vscode-notebook-cell://ssh-remote%2Bcfrgpu22/apps/open_spiel/open_spiel/python/examples/notebooks/greg/2023-11-15-SolveToyGames.ipynb#W1sdnNjb2RlLXJlbW90ZQ%3D%3D?line=5'>6</a>\u001b[0m strong_strategies \u001b[39m=\u001b[39m [(\u001b[39m2\u001b[39m,), (\u001b[39m3\u001b[39m, \u001b[39m2\u001b[39m), (\u001b[39m3\u001b[39m, \u001b[39m3\u001b[39m, \u001b[39m2\u001b[39m)]\n\u001b[0;32m----> <a href='vscode-notebook-cell://ssh-remote%2Bcfrgpu22/apps/open_spiel/open_spiel/python/examples/notebooks/greg/2023-11-15-SolveToyGames.ipynb#W1sdnNjb2RlLXJlbW90ZQ%3D%3D?line=7'>8</a>\u001b[0m auction \u001b[39m=\u001b[39m build_auction(\u001b[39m4\u001b[39;49m, prices, p_weak, weak_values, strong_values, weak_strategies, strong_strategies)\n",
      "\u001b[1;32m/apps/open_spiel/open_spiel/python/examples/notebooks/greg/2023-11-15-SolveToyGames.ipynb Cell 2\u001b[0m line \u001b[0;36mbuild_auction\u001b[0;34m(supply, prices, p_weak, weak_values, strong_values, weak_strategies, strong_strategies)\u001b[0m\n\u001b[1;32m     <a href='vscode-notebook-cell://ssh-remote%2Bcfrgpu22/apps/open_spiel/open_spiel/python/examples/notebooks/greg/2023-11-15-SolveToyGames.ipynb#W1sdnNjb2RlLXJlbW90ZQ%3D%3D?line=25'>26</a>\u001b[0m \u001b[39mfor\u001b[39;00m i, (weak_strat_1, strong_strat_1) \u001b[39min\u001b[39;00m \u001b[39menumerate\u001b[39m(joint_strategies):\n\u001b[1;32m     <a href='vscode-notebook-cell://ssh-remote%2Bcfrgpu22/apps/open_spiel/open_spiel/python/examples/notebooks/greg/2023-11-15-SolveToyGames.ipynb#W1sdnNjb2RlLXJlbW90ZQ%3D%3D?line=26'>27</a>\u001b[0m     \u001b[39mfor\u001b[39;00m j, (weak_strat_2, strong_strat_2) \u001b[39min\u001b[39;00m \u001b[39menumerate\u001b[39m(joint_strategies):\n\u001b[1;32m     <a href='vscode-notebook-cell://ssh-remote%2Bcfrgpu22/apps/open_spiel/open_spiel/python/examples/notebooks/greg/2023-11-15-SolveToyGames.ipynb#W1sdnNjb2RlLXJlbW90ZQ%3D%3D?line=28'>29</a>\u001b[0m         type_probs_and_utilities \u001b[39m=\u001b[39m [\n\u001b[1;32m     <a href='vscode-notebook-cell://ssh-remote%2Bcfrgpu22/apps/open_spiel/open_spiel/python/examples/notebooks/greg/2023-11-15-SolveToyGames.ipynb#W1sdnNjb2RlLXJlbW90ZQ%3D%3D?line=29'>30</a>\u001b[0m             (p_weak\u001b[39m*\u001b[39mp_weak, get_utilities(supply, prices, weak_values, weak_values, weak_strat_1, weak_strat_2)),\n\u001b[1;32m     <a href='vscode-notebook-cell://ssh-remote%2Bcfrgpu22/apps/open_spiel/open_spiel/python/examples/notebooks/greg/2023-11-15-SolveToyGames.ipynb#W1sdnNjb2RlLXJlbW90ZQ%3D%3D?line=30'>31</a>\u001b[0m             (p_weak\u001b[39m*\u001b[39mp_strong, get_utilities(supply, prices, weak_values, strong_values, weak_strat_1, strong_strat_2)),\n\u001b[1;32m     <a href='vscode-notebook-cell://ssh-remote%2Bcfrgpu22/apps/open_spiel/open_spiel/python/examples/notebooks/greg/2023-11-15-SolveToyGames.ipynb#W1sdnNjb2RlLXJlbW90ZQ%3D%3D?line=31'>32</a>\u001b[0m             (p_strong\u001b[39m*\u001b[39mp_weak, get_utilities(supply, prices, strong_values, weak_values, strong_strat_1, weak_strat_2)),\n\u001b[0;32m---> <a href='vscode-notebook-cell://ssh-remote%2Bcfrgpu22/apps/open_spiel/open_spiel/python/examples/notebooks/greg/2023-11-15-SolveToyGames.ipynb#W1sdnNjb2RlLXJlbW90ZQ%3D%3D?line=32'>33</a>\u001b[0m             (p_strong\u001b[39m*\u001b[39mp_strong, get_utilities(supply, prices, strong_values, strong_values, strong_strat_1, strong_strat_2))\n\u001b[1;32m     <a href='vscode-notebook-cell://ssh-remote%2Bcfrgpu22/apps/open_spiel/open_spiel/python/examples/notebooks/greg/2023-11-15-SolveToyGames.ipynb#W1sdnNjb2RlLXJlbW90ZQ%3D%3D?line=33'>34</a>\u001b[0m         ]\n\u001b[1;32m     <a href='vscode-notebook-cell://ssh-remote%2Bcfrgpu22/apps/open_spiel/open_spiel/python/examples/notebooks/greg/2023-11-15-SolveToyGames.ipynb#W1sdnNjb2RlLXJlbW90ZQ%3D%3D?line=35'>36</a>\u001b[0m         p1_payoffs[i, j] \u001b[39m=\u001b[39m np\u001b[39m.\u001b[39mround(\u001b[39msum\u001b[39m([p \u001b[39m*\u001b[39m u[\u001b[39m0\u001b[39m] \u001b[39mfor\u001b[39;00m p, u \u001b[39min\u001b[39;00m type_probs_and_utilities]), \u001b[39m3\u001b[39m)\n\u001b[1;32m     <a href='vscode-notebook-cell://ssh-remote%2Bcfrgpu22/apps/open_spiel/open_spiel/python/examples/notebooks/greg/2023-11-15-SolveToyGames.ipynb#W1sdnNjb2RlLXJlbW90ZQ%3D%3D?line=36'>37</a>\u001b[0m         p2_payoffs[i, j] \u001b[39m=\u001b[39m np\u001b[39m.\u001b[39mround(\u001b[39msum\u001b[39m([p \u001b[39m*\u001b[39m u[\u001b[39m1\u001b[39m] \u001b[39mfor\u001b[39;00m p, u \u001b[39min\u001b[39;00m type_probs_and_utilities]), \u001b[39m3\u001b[39m)\n",
      "\u001b[1;32m/apps/open_spiel/open_spiel/python/examples/notebooks/greg/2023-11-15-SolveToyGames.ipynb Cell 2\u001b[0m line \u001b[0;36mget_utilities\u001b[0;34m(supply, prices, p1_values, p2_values, p1_strategy, p2_strategy)\u001b[0m\n\u001b[1;32m      <a href='vscode-notebook-cell://ssh-remote%2Bcfrgpu22/apps/open_spiel/open_spiel/python/examples/notebooks/greg/2023-11-15-SolveToyGames.ipynb#W1sdnNjb2RlLXJlbW90ZQ%3D%3D?line=4'>5</a>\u001b[0m \u001b[39mdef\u001b[39;00m \u001b[39mget_utilities\u001b[39m(supply, prices, p1_values, p2_values, p1_strategy, p2_strategy):\n\u001b[1;32m      <a href='vscode-notebook-cell://ssh-remote%2Bcfrgpu22/apps/open_spiel/open_spiel/python/examples/notebooks/greg/2023-11-15-SolveToyGames.ipynb#W1sdnNjb2RlLXJlbW90ZQ%3D%3D?line=5'>6</a>\u001b[0m     round_num \u001b[39m=\u001b[39m \u001b[39m0\u001b[39m\n\u001b[0;32m----> <a href='vscode-notebook-cell://ssh-remote%2Bcfrgpu22/apps/open_spiel/open_spiel/python/examples/notebooks/greg/2023-11-15-SolveToyGames.ipynb#W1sdnNjb2RlLXJlbW90ZQ%3D%3D?line=6'>7</a>\u001b[0m     \u001b[39mwhile\u001b[39;00m p1_strategy[round_num] \u001b[39m+\u001b[39m p2_strategy[round_num] \u001b[39m>\u001b[39m supply:\n\u001b[1;32m      <a href='vscode-notebook-cell://ssh-remote%2Bcfrgpu22/apps/open_spiel/open_spiel/python/examples/notebooks/greg/2023-11-15-SolveToyGames.ipynb#W1sdnNjb2RlLXJlbW90ZQ%3D%3D?line=7'>8</a>\u001b[0m         round_num \u001b[39m+\u001b[39m\u001b[39m=\u001b[39m \u001b[39m1\u001b[39m\n\u001b[1;32m     <a href='vscode-notebook-cell://ssh-remote%2Bcfrgpu22/apps/open_spiel/open_spiel/python/examples/notebooks/greg/2023-11-15-SolveToyGames.ipynb#W1sdnNjb2RlLXJlbW90ZQ%3D%3D?line=9'>10</a>\u001b[0m     price \u001b[39m=\u001b[39m prices[round_num]\n",
      "\u001b[0;31mIndexError\u001b[0m: tuple index out of range"
     ]
    }
   ],
   "source": [
    "prices = [10, 20, 30]\n",
    "p_weak = 0.8\n",
    "weak_values = [100, 15, 0, 0]\n",
    "strong_values = [100, 100, 25, 0]\n",
    "weak_strategies = [(1,), (2, 1)]\n",
    "strong_strategies = [(2,), (3, 2), (3, 3, 2)]\n",
    "\n",
    "auction = build_auction(4, prices, p_weak, weak_values, strong_values, weak_strategies, strong_strategies)"
   ]
  },
  {
   "cell_type": "code",
   "execution_count": 20,
   "metadata": {},
   "outputs": [
    {
     "data": {
      "text/html": [
       "<center><h1>Untitled strategic game</h1></center>\n",
       "<table><tr><td></td><td align=center><b>W: (1,) | S: (2,)</b></td><td align=center><b>W: (1,) | S: (3, 2)</b></td><td align=center><b>W: (1,) | S: (3, 3, 2)</b></td><td align=center><b>W: (2, 1) | S: (2,)</b></td><td align=center><b>W: (2, 1) | S: (3, 2)</b></td><td align=center><b>W: (2, 1) | S: (3, 3, 2)</b></td></tr><tr><td align=center><b>W: (1,) | S: (2,)</b></td><td align=center>108.0,108.0</td><td align=center>109.6,109.6</td><td align=center>108.8,108.8</td><td align=center>112.0,112.0</td><td align=center>105.6,105.6</td><td align=center>105.6,105.6</td></tr><tr><td align=center><b>W: (1,) | S: (3, 2)</b></td><td align=center>108.0,108.0</td><td align=center>109.6,109.6</td><td align=center>108.8,108.8</td><td align=center>112.0,112.0</td><td align=center>105.6,105.6</td><td align=center>105.6,105.6</td></tr><tr><td align=center><b>W: (1,) | S: (3, 3, 2)</b></td><td align=center>108.0,108.0</td><td align=center>109.6,109.6</td><td align=center>108.8,108.8</td><td align=center>112.0,112.0</td><td align=center>105.6,105.6</td><td align=center>105.6,105.6</td></tr><tr><td align=center><b>W: (2, 1) | S: (2,)</b></td><td align=center>108.0,108.0</td><td align=center>109.6,109.6</td><td align=center>108.8,108.8</td><td align=center>112.0,112.0</td><td align=center>105.6,105.6</td><td align=center>105.6,105.6</td></tr><tr><td align=center><b>W: (2, 1) | S: (3, 2)</b></td><td align=center>108.0,108.0</td><td align=center>109.6,109.6</td><td align=center>108.8,108.8</td><td align=center>112.0,112.0</td><td align=center>105.6,105.6</td><td align=center>105.6,105.6</td></tr><tr><td align=center><b>W: (2, 1) | S: (3, 3, 2)</b></td><td align=center>108.0,108.0</td><td align=center>109.6,109.6</td><td align=center>108.8,108.8</td><td align=center>112.0,112.0</td><td align=center>105.6,105.6</td><td align=center>105.6,105.6</td></tr></table>\n"
      ],
      "text/plain": [
       "NFG 1 R \"Untitled strategic game\" { \"1\" \"2\" }\n",
       "\n",
       "{ { \"W: (1,) | S: (2,)\" \"W: (1,) | S: (3, 2)\" \"W: (1,) | S: (3, 3, 2)\" \"W: (2, 1) | S: (2,)\" \"W: (2, 1) | S: (3, 2)\" \"W: (2, 1) | S: (3, 3, 2)\" }\n",
       "{ \"W: (1,) | S: (2,)\" \"W: (1,) | S: (3, 2)\" \"W: (1,) | S: (3, 3, 2)\" \"W: (2, 1) | S: (2,)\" \"W: (2, 1) | S: (3, 2)\" \"W: (2, 1) | S: (3, 3, 2)\" }\n",
       "}\n",
       "\"\"\n",
       "\n",
       "{\n",
       "{ \"\" 108.0, 108.0 }\n",
       "{ \"\" 108.0, 108.0 }\n",
       "{ \"\" 108.0, 108.0 }\n",
       "{ \"\" 108.0, 108.0 }\n",
       "{ \"\" 108.0, 108.0 }\n",
       "{ \"\" 108.0, 108.0 }\n",
       "{ \"\" 109.6, 109.6 }\n",
       "{ \"\" 109.6, 109.6 }\n",
       "{ \"\" 109.6, 109.6 }\n",
       "{ \"\" 109.6, 109.6 }\n",
       "{ \"\" 109.6, 109.6 }\n",
       "{ \"\" 109.6, 109.6 }\n",
       "{ \"\" 108.8, 108.8 }\n",
       "{ \"\" 108.8, 108.8 }\n",
       "{ \"\" 108.8, 108.8 }\n",
       "{ \"\" 108.8, 108.8 }\n",
       "{ \"\" 108.8, 108.8 }\n",
       "{ \"\" 108.8, 108.8 }\n",
       "{ \"\" 112.0, 112.0 }\n",
       "{ \"\" 112.0, 112.0 }\n",
       "{ \"\" 112.0, 112.0 }\n",
       "{ \"\" 112.0, 112.0 }\n",
       "{ \"\" 112.0, 112.0 }\n",
       "{ \"\" 112.0, 112.0 }\n",
       "{ \"\" 105.6, 105.6 }\n",
       "{ \"\" 105.6, 105.6 }\n",
       "{ \"\" 105.6, 105.6 }\n",
       "{ \"\" 105.6, 105.6 }\n",
       "{ \"\" 105.6, 105.6 }\n",
       "{ \"\" 105.6, 105.6 }\n",
       "{ \"\" 105.6, 105.6 }\n",
       "{ \"\" 105.6, 105.6 }\n",
       "{ \"\" 105.6, 105.6 }\n",
       "{ \"\" 105.6, 105.6 }\n",
       "{ \"\" 105.6, 105.6 }\n",
       "{ \"\" 105.6, 105.6 }\n",
       "}\n",
       "1 2 3 4 5 6 7 8 9 10 11 12 13 14 15 16 17 18 19 20 21 22 23 24 25 26 27 28 29 30 31 32 33 34 35 36 "
      ]
     },
     "execution_count": 20,
     "metadata": {},
     "output_type": "execute_result"
    }
   ],
   "source": [
    "auction"
   ]
  },
  {
   "cell_type": "code",
   "execution_count": null,
   "metadata": {},
   "outputs": [],
   "source": []
  }
 ],
 "metadata": {
  "kernelspec": {
   "display_name": "venv",
   "language": "python",
   "name": "python3"
  },
  "language_info": {
   "codemirror_mode": {
    "name": "ipython",
    "version": 3
   },
   "file_extension": ".py",
   "mimetype": "text/x-python",
   "name": "python",
   "nbconvert_exporter": "python",
   "pygments_lexer": "ipython3",
   "version": "3.8.2"
  }
 },
 "nbformat": 4,
 "nbformat_minor": 2
}
