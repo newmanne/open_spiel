{
 "cells": [
  {
   "cell_type": "code",
   "execution_count": 1,
   "metadata": {},
   "outputs": [],
   "source": [
    "%load_ext autoreload\n",
    "%autoreload 2"
   ]
  },
  {
   "cell_type": "code",
   "execution_count": 2,
   "metadata": {},
   "outputs": [],
   "source": [
    "# imports\n",
    "import pandas as pd\n",
    "import itertools\n",
    "import os\n",
    "from tqdm import tqdm\n",
    "import time\n",
    "\n",
    "os.environ[\"DJANGO_ALLOW_ASYNC_UNSAFE\"] = \"true\"\n",
    "import django\n",
    "django.setup()\n",
    "from auctions.webutils import *\n",
    "import matplotlib.pyplot as plt\n",
    "from matplotlib.lines import Line2D\n",
    "from open_spiel.python.examples.ubc_dispatch import verify_config, get_cluster_details, write_and_submit, dispatch_eval_database, dispatch_single_br_database\n",
    "\n",
    "plt.style.use('https://raw.githubusercontent.com/gregdeon/plots/main/style.mplstyle')\n",
    "plt.rcParams['axes.titlesize'] = 7\n",
    "plt.rcParams['figure.dpi'] = 300"
   ]
  },
  {
   "cell_type": "code",
   "execution_count": 23,
   "metadata": {},
   "outputs": [],
   "source": [
    "# Step 1: Find a game that you want to do this on. \n",
    "# (Ensure you have a the rho=0 game)\n",
    "\n",
    "experiment = 'feb8_3p_5supply_v2'\n",
    "run_name = 'feb8_3p_5supply_feb8_3p_5supply_3_base_dev1000_rho1_t3-cfr_10external_plus_linear-100'\n",
    "run_name_tb = 'feb8_3p_5supply_feb8_3p_5supply_3_base_dev1000_rho1_t3_tie_break-cfr_10external_plus_linear-100'\n",
    "\n",
    "run = EquilibriumSolverRun.objects.get(name=run_name, experiment__name=experiment)\n",
    "run_tb = EquilibriumSolverRun.objects.get(name=run_name_tb, experiment__name=experiment)"
   ]
  },
  {
   "cell_type": "code",
   "execution_count": 27,
   "metadata": {},
   "outputs": [
    {
     "data": {
      "text/plain": [
       "100"
      ]
     },
     "execution_count": 27,
     "metadata": {},
     "output_type": "execute_result"
    }
   ],
   "source": [
    "Experiment.objects.get(name='feb8_3p_5supply_v2').equilibriumsolverrun_set.all()"
   ]
  },
  {
   "cell_type": "code",
   "execution_count": 24,
   "metadata": {},
   "outputs": [
    {
     "name": "stdout",
     "output_type": "stream",
     "text": [
      "0.0\n",
      "0.0\n",
      "None\n",
      "0.0\n"
     ]
    }
   ],
   "source": [
    "print(run.equilibriumsolverruncheckpoint_set.last().get_modal_eval().nash_conv)\n",
    "print(run.equilibriumsolverruncheckpoint_set.last().get_modal_eval().heuristic_conv)\n",
    "print(run_tb.equilibriumsolverruncheckpoint_set.last().get_modal_eval().nash_conv)\n",
    "print(run_tb.equilibriumsolverruncheckpoint_set.last().get_modal_eval().heuristic_conv)"
   ]
  },
  {
   "cell_type": "code",
   "execution_count": 5,
   "metadata": {},
   "outputs": [
    {
     "name": "stdout",
     "output_type": "stream",
     "text": [
      "Submitted batch job 1090716\n",
      "Submitted batch job 1090717\n",
      "Submitted batch job 1090718\n",
      "Submitted batch job 1090719\n"
     ]
    }
   ],
   "source": [
    "# Step 2: Code that will run HC and NC for longer \n",
    "BASE_OUTPUT_DIR = os.environ['CLOCK_AUCTION_OUTPUT_ROOT']\n",
    "BR_DIR = 'best_responses'\n",
    "\n",
    "def dispatch_one_off_command(cmd, experiment_name, run_name, extra_name='', cluster='ada_cpu_short', submit=True):\n",
    "    spiel_path, config_dir, pydir, manage_path = verify_config()\n",
    "    cluster_details = get_cluster_details(cluster)\n",
    "    command = f'python {manage_path} {cmd}'\n",
    "\n",
    "    slurm_job_name = f'one_off_{experiment_name}_{run_name}_{extra_name}'\n",
    "    job_file_text = f\"\"\"{cluster_details['shell']}\n",
    "{cluster_details['preamble']}\n",
    "#SBATCH --job-name={slurm_job_name}\n",
    "#SBATCH --time=0-3:00:00 # days-hh:mm:ss\n",
    "#SBATCH -e slurm-%j-{slurm_job_name}.err\n",
    "#SBATCH -o slurm-%j-{slurm_job_name}.out\n",
    "\n",
    "{cluster_details['load_py']}\n",
    "export OPENSPIEL_PATH={spiel_path}\n",
    "\n",
    "CMD=`{command}`\n",
    "echo $CMD\n",
    "eval $CMD\n",
    "\"\"\"\n",
    "\n",
    "    experiment_dir = f'{BASE_OUTPUT_DIR}/{experiment_name}/{run_name}/{BR_DIR}'\n",
    "    write_and_submit(experiment_dir, slurm_job_name, job_file_text, submit)\n",
    "\n",
    "    logging.info(f\"Dispatched experiment!\")\n",
    "\n",
    "for r in [run, run_tb]:\n",
    "    for heuristic in [True, False]:\n",
    "        cp = r.equilibriumsolverruncheckpoint_set.last()\n",
    "        cmd = f\"nashconv --time_limit_seconds 3600 --t {cp.t} --run_name {cp.equilibrium_solver_run.name} --experiment_name {cp.equilibrium_solver_run.experiment.name} --heuristic {heuristic}\"\n",
    "        dispatch_one_off_command(cmd, cp.equilibrium_solver_run.experiment.name, cp.equilibrium_solver_run.name, extra_name='heuristic' if heuristic else 'nc')"
   ]
  },
  {
   "cell_type": "code",
   "execution_count": 28,
   "metadata": {},
   "outputs": [
    {
     "name": "stdout",
     "output_type": "stream",
     "text": [
      "Submitted batch job 1090755\n",
      "Submitted batch job 1090756\n",
      "Submitted batch job 1090757\n",
      "Submitted batch job 1090758\n",
      "Submitted batch job 1090759\n",
      "Submitted batch job 1090760\n",
      "Submitted batch job 1090761\n",
      "Submitted batch job 1090762\n",
      "Submitted batch job 1090763\n",
      "Submitted batch job 1090764\n",
      "Submitted batch job 1090765\n",
      "Submitted batch job 1090766\n",
      "Submitted batch job 1090767\n",
      "Submitted batch job 1090768\n",
      "Submitted batch job 1090769\n",
      "Submitted batch job 1090770\n",
      "Submitted batch job 1090771\n",
      "Submitted batch job 1090772\n",
      "Submitted batch job 1090773\n",
      "Submitted batch job 1090774\n",
      "Submitted batch job 1090775\n",
      "Submitted batch job 1090776\n",
      "Submitted batch job 1090777\n",
      "Submitted batch job 1090778\n",
      "Submitted batch job 1090779\n",
      "Submitted batch job 1090780\n",
      "Submitted batch job 1090781\n",
      "Submitted batch job 1090782\n",
      "Submitted batch job 1090783\n",
      "Submitted batch job 1090784\n",
      "Submitted batch job 1090785\n",
      "Submitted batch job 1090786\n",
      "Submitted batch job 1090787\n",
      "Submitted batch job 1090788\n",
      "Submitted batch job 1090789\n",
      "Submitted batch job 1090790\n",
      "Submitted batch job 1090791\n",
      "Submitted batch job 1090792\n",
      "Submitted batch job 1090793\n",
      "Submitted batch job 1090794\n",
      "Submitted batch job 1090795\n",
      "Submitted batch job 1090796\n",
      "Submitted batch job 1090797\n",
      "Submitted batch job 1090798\n",
      "Submitted batch job 1090799\n",
      "Submitted batch job 1090800\n",
      "Submitted batch job 1090801\n",
      "Submitted batch job 1090802\n",
      "Submitted batch job 1090803\n",
      "Submitted batch job 1090804\n",
      "Submitted batch job 1090805\n",
      "Submitted batch job 1090806\n",
      "Submitted batch job 1090807\n",
      "Submitted batch job 1090808\n",
      "Submitted batch job 1090809\n",
      "Submitted batch job 1090810\n",
      "Submitted batch job 1090811\n",
      "Submitted batch job 1090812\n",
      "Submitted batch job 1090813\n",
      "Submitted batch job 1090814\n",
      "Submitted batch job 1090815\n",
      "Submitted batch job 1090816\n",
      "Submitted batch job 1090817\n",
      "Submitted batch job 1090818\n",
      "Submitted batch job 1090819\n",
      "Submitted batch job 1090820\n",
      "Submitted batch job 1090821\n",
      "Submitted batch job 1090822\n",
      "Submitted batch job 1090823\n",
      "Submitted batch job 1090824\n",
      "Submitted batch job 1090825\n",
      "Submitted batch job 1090826\n",
      "Submitted batch job 1090827\n",
      "Submitted batch job 1090828\n",
      "Submitted batch job 1090829\n",
      "Submitted batch job 1090830\n",
      "Submitted batch job 1090831\n",
      "Submitted batch job 1090832\n",
      "Submitted batch job 1090833\n",
      "Submitted batch job 1090834\n",
      "Submitted batch job 1090835\n",
      "Submitted batch job 1090836\n",
      "Submitted batch job 1090837\n",
      "Submitted batch job 1090838\n",
      "Submitted batch job 1090839\n",
      "Submitted batch job 1090840\n",
      "Submitted batch job 1090841\n",
      "Submitted batch job 1090842\n",
      "Submitted batch job 1090843\n",
      "Submitted batch job 1090844\n",
      "Submitted batch job 1090845\n",
      "Submitted batch job 1090846\n",
      "Submitted batch job 1090847\n",
      "Submitted batch job 1090848\n",
      "Submitted batch job 1090849\n",
      "Submitted batch job 1090850\n",
      "Submitted batch job 1090851\n",
      "Submitted batch job 1090852\n",
      "Submitted batch job 1090853\n",
      "Submitted batch job 1090854\n",
      "Submitted batch job 1090855\n",
      "Submitted batch job 1090856\n",
      "Submitted batch job 1090857\n",
      "Submitted batch job 1090858\n",
      "Submitted batch job 1090859\n",
      "Submitted batch job 1090860\n",
      "Submitted batch job 1090861\n",
      "Submitted batch job 1090862\n",
      "Submitted batch job 1090863\n",
      "Submitted batch job 1090864\n",
      "Submitted batch job 1090865\n",
      "Submitted batch job 1090866\n",
      "Submitted batch job 1090867\n",
      "Submitted batch job 1090868\n",
      "Submitted batch job 1090869\n",
      "Submitted batch job 1090870\n",
      "Submitted batch job 1090871\n",
      "Submitted batch job 1090872\n",
      "Submitted batch job 1090873\n",
      "Submitted batch job 1090874\n",
      "Submitted batch job 1090875\n",
      "Submitted batch job 1090876\n",
      "Submitted batch job 1090877\n",
      "Submitted batch job 1090878\n",
      "Submitted batch job 1090879\n",
      "Submitted batch job 1090880\n",
      "Submitted batch job 1090881\n",
      "Submitted batch job 1090882\n",
      "Submitted batch job 1090883\n",
      "Submitted batch job 1090884\n",
      "Submitted batch job 1090885\n",
      "Submitted batch job 1090886\n",
      "Submitted batch job 1090887\n",
      "Submitted batch job 1090888\n",
      "Submitted batch job 1090889\n",
      "Submitted batch job 1090890\n",
      "Submitted batch job 1090891\n",
      "Submitted batch job 1090892\n",
      "Submitted batch job 1090893\n",
      "Submitted batch job 1090894\n",
      "Submitted batch job 1090895\n",
      "Submitted batch job 1090896\n",
      "Submitted batch job 1090897\n",
      "Submitted batch job 1090898\n",
      "Submitted batch job 1090899\n",
      "Submitted batch job 1090900\n",
      "Submitted batch job 1090901\n",
      "Submitted batch job 1090902\n",
      "Submitted batch job 1090903\n",
      "Submitted batch job 1090904\n",
      "Submitted batch job 1090905\n",
      "Submitted batch job 1090906\n",
      "Submitted batch job 1090907\n",
      "Submitted batch job 1090908\n",
      "Submitted batch job 1090909\n",
      "Submitted batch job 1090910\n",
      "Submitted batch job 1090911\n",
      "Submitted batch job 1090912\n",
      "Submitted batch job 1090913\n",
      "Submitted batch job 1090914\n",
      "Submitted batch job 1090915\n",
      "Submitted batch job 1090916\n",
      "Submitted batch job 1090917\n",
      "Submitted batch job 1090918\n",
      "Submitted batch job 1090919\n",
      "Submitted batch job 1090920\n",
      "Submitted batch job 1090921\n",
      "Submitted batch job 1090922\n",
      "Submitted batch job 1090923\n",
      "Submitted batch job 1090924\n",
      "Submitted batch job 1090925\n",
      "Submitted batch job 1090926\n",
      "Submitted batch job 1090927\n",
      "Submitted batch job 1090928\n",
      "Submitted batch job 1090929\n",
      "Submitted batch job 1090930\n",
      "Submitted batch job 1090931\n",
      "Submitted batch job 1090932\n",
      "Submitted batch job 1090933\n",
      "Submitted batch job 1090934\n",
      "Submitted batch job 1090935\n",
      "Submitted batch job 1090936\n",
      "Submitted batch job 1090937\n",
      "Submitted batch job 1090938\n",
      "Submitted batch job 1090939\n",
      "Submitted batch job 1090940\n",
      "Submitted batch job 1090941\n",
      "Submitted batch job 1090942\n",
      "Submitted batch job 1090943\n",
      "Submitted batch job 1090944\n",
      "Submitted batch job 1090945\n",
      "Submitted batch job 1090946\n",
      "Submitted batch job 1090947\n",
      "Submitted batch job 1090948\n",
      "Submitted batch job 1090949\n",
      "Submitted batch job 1090950\n",
      "Submitted batch job 1090951\n",
      "Submitted batch job 1090952\n",
      "Submitted batch job 1090953\n",
      "Submitted batch job 1090954\n"
     ]
    }
   ],
   "source": [
    "#### ALL RUNS ###\n",
    "for r in Experiment.objects.get(name='feb8_3p_5supply_v2').equilibriumsolverrun_set.all():\n",
    "    for heuristic in [True, False]:\n",
    "        cp = r.equilibriumsolverruncheckpoint_set.last()\n",
    "        cmd = f\"nashconv --time_limit_seconds 3600 --t {cp.t} --run_name {cp.equilibrium_solver_run.name} --experiment_name {cp.equilibrium_solver_run.experiment.name} --heuristic {heuristic}\"\n",
    "        dispatch_one_off_command(cmd, cp.equilibrium_solver_run.experiment.name, cp.equilibrium_solver_run.name, extra_name='heuristic' if heuristic else 'nc')\n",
    "\n"
   ]
  },
  {
   "cell_type": "code",
   "execution_count": 21,
   "metadata": {},
   "outputs": [
    {
     "name": "stdout",
     "output_type": "stream",
     "text": [
      "Submitted batch job 1090749\n",
      "Submitted batch job 1090750\n",
      "Submitted batch job 1090751\n",
      "Submitted batch job 1090752\n",
      "Submitted batch job 1090753\n",
      "Submitted batch job 1090754\n"
     ]
    }
   ],
   "source": [
    "# Step 4: Code that will run PPO-BR \n",
    "config = 'ppo_jun8_23/ppo_76'\n",
    "\n",
    "for r in [run, run_tb]:\n",
    "    game = r.game.load_as_spiel()\n",
    "    for br_player in range(game.num_players()):\n",
    "        cp = r.equilibriumsolverruncheckpoint_set.last()\n",
    "        experiment_name = cp.equilibrium_solver_run.experiment.name\n",
    "        run_name = cp.equilibrium_solver_run.name\n",
    "        t = cp.t\n",
    "        dispatch_single_br_database(experiment_name, run_name, t, br_player, config, True, '--total_timesteps 500', django_command='ppo_br', cluster='ada_cpu_short')"
   ]
  },
  {
   "cell_type": "code",
   "execution_count": null,
   "metadata": {},
   "outputs": [],
   "source": [
    "# Step 5: Code that will run single agent MCCFR\n",
    "# Require a game wrapper"
   ]
  },
  {
   "cell_type": "code",
   "execution_count": 30,
   "metadata": {},
   "outputs": [
    {
     "name": "stdout",
     "output_type": "stream",
     "text": [
      "178\n"
     ]
    }
   ],
   "source": [
    "!squeue --format=\"%.18i %.65j %.2t %.10M %.6D %R\" | grep \"one_off\"  | wc -l"
   ]
  },
  {
   "cell_type": "code",
   "execution_count": null,
   "metadata": {},
   "outputs": [],
   "source": [
    "!squeue --format=\"%.18i %.65j %.2t %.10M %.6D %R\" | grep \"one_off\" | awk '{print $1}' | xargs scancel"
   ]
  },
  {
   "cell_type": "code",
   "execution_count": 19,
   "metadata": {},
   "outputs": [],
   "source": [
    "!squeue --format=\"%.18i %.65j %.2t %.10M %.6D %R\" | grep \"ppo_br\" "
   ]
  },
  {
   "cell_type": "code",
   "execution_count": 25,
   "metadata": {},
   "outputs": [
    {
     "name": "stdout",
     "output_type": "stream",
     "text": [
      "PARTITION     AVAIL  TIMELIMIT  NODES  STATE NODELIST \n",
      "archipelago*     up   infinite     14   idle archipelago[15-28] \n",
      "ada_cpu_long     up   infinite     16    mix ada[01-16] \n",
      "ada_cpu_short    up    3:00:00     19    mix ada[01-17,20-21] \n",
      "ada_cpu_short    up    3:00:00      2  alloc ada[18-19] \n",
      "ada_gpu          up   infinite      3    mix ada[17,20-21] \n",
      "ada_gpu          up   infinite      2  alloc ada[18-19] \n",
      "plai             up   infinite      1  down* plai10 \n",
      "plai             up   infinite      1   drng plai11 \n",
      "plai             up   infinite      1    mix plai12 \n",
      "plai             up   infinite      9   idle plai[01-09] \n",
      "plai_towers      up   infinite      3   idle alexandria,berkeley,lowpoint \n",
      "blackboxml       up   infinite      1   idle chicago \n",
      "plai_cpus        up   infinite      2    mix nodeb,noded \n",
      "plai_cpus        up   infinite      2   idle nodea,nodec \n",
      "edith            up   infinite      4    mix edith[1-2,4],friday \n",
      "edith            up   infinite      1  alloc edith3 \n",
      "edith            up   infinite      5   idle jarvis[1-5] \n",
      "edith_prio       up   infinite      4    mix edith[1-2,4],friday \n",
      "edith_prio       up   infinite      1  alloc edith3 \n",
      "edith_prio       up   infinite      5   idle jarvis[1-5] \n",
      "vickrey          up   infinite     10   idle vickrey[01-10] \n",
      "snubfin          up   infinite      2    mix snubfin[0-1] \n"
     ]
    }
   ],
   "source": [
    "!sinfo"
   ]
  },
  {
   "cell_type": "code",
   "execution_count": null,
   "metadata": {},
   "outputs": [],
   "source": []
  }
 ],
 "metadata": {
  "kernelspec": {
   "display_name": "Django Shell-Plus",
   "language": "python",
   "name": "django_extensions"
  },
  "language_info": {
   "codemirror_mode": {
    "name": "ipython",
    "version": 3
   },
   "file_extension": ".py",
   "mimetype": "text/x-python",
   "name": "python",
   "nbconvert_exporter": "python",
   "pygments_lexer": "ipython3",
   "version": "3.8.2"
  }
 },
 "nbformat": 4,
 "nbformat_minor": 4
}
