{
 "cells": [
  {
   "cell_type": "code",
   "execution_count": 1,
   "metadata": {},
   "outputs": [],
   "source": [
    "%load_ext autoreload\n",
    "%autoreload 2"
   ]
  },
  {
   "cell_type": "code",
   "execution_count": 2,
   "metadata": {},
   "outputs": [],
   "source": [
    "# imports\n",
    "import pandas as pd\n",
    "import itertools\n",
    "import os\n",
    "from tqdm import tqdm\n",
    "import time\n",
    "\n",
    "os.environ[\"DJANGO_ALLOW_ASYNC_UNSAFE\"] = \"true\"\n",
    "import django\n",
    "django.setup()\n",
    "from auctions.webutils import *\n",
    "import matplotlib.pyplot as plt\n",
    "from matplotlib.lines import Line2D\n",
    "from open_spiel.python.examples.ubc_dispatch import verify_config, get_cluster_details, write_and_submit, dispatch_eval_database, dispatch_single_br_database\n",
    "\n",
    "plt.style.use('https://raw.githubusercontent.com/gregdeon/plots/main/style.mplstyle')\n",
    "plt.rcParams['axes.titlesize'] = 7\n",
    "plt.rcParams['figure.dpi'] = 300"
   ]
  },
  {
   "cell_type": "code",
   "execution_count": 3,
   "metadata": {},
   "outputs": [],
   "source": [
    "# Step 1: Find a game that you want to do this on. \n",
    "# (Ensure you have a the rho=0 game)\n",
    "\n",
    "experiment = 'feb8_3p_5supply_v2'\n",
    "run_name = 'feb8_3p_5supply_feb8_3p_5supply_3_base_dev1000_rho1_t3-cfr_10external_plus_linear-100'\n",
    "run_name_tb = 'feb8_3p_5supply_feb8_3p_5supply_3_base_dev1000_rho1_t3_tie_break-cfr_10external_plus_linear-100'\n",
    "\n",
    "run = EquilibriumSolverRun.objects.get(name=run_name, experiment__name=experiment)\n",
    "run_tb = EquilibriumSolverRun.objects.get(name=run_name_tb, experiment__name=experiment)"
   ]
  },
  {
   "cell_type": "code",
   "execution_count": 4,
   "metadata": {},
   "outputs": [
    {
     "data": {
      "text/plain": [
       "<QuerySet [<EquilibriumSolverRun: feb8_3p_5supply_feb8_3p_5supply_3_base_dev1000_rho0_t3_tie_break-cfr_10_no_tremexternal_plus_linear_no_trem-104 (feb8_3p_5supply_v2)>, <EquilibriumSolverRun: feb8_3p_5supply_feb8_3p_5supply_2_base_dev1000_rho0_t3_tie_break-cfr_10_no_tremexternal_plus_linear_no_trem-101 (feb8_3p_5supply_v2)>, <EquilibriumSolverRun: feb8_3p_5supply_feb8_3p_5supply_0_base_dev1000_rho1_t3-cfr_10external_plus_linear-100 (feb8_3p_5supply_v2)>, <EquilibriumSolverRun: feb8_3p_5supply_feb8_3p_5supply_2_base_dev1000_rho0_t3_tie_break-cfr_10_no_tremexternal_plus_linear_no_trem-104 (feb8_3p_5supply_v2)>, <EquilibriumSolverRun: feb8_3p_5supply_feb8_3p_5supply_0_base_dev1000_rho1_t3-cfr_10external_plus_linear-102 (feb8_3p_5supply_v2)>, <EquilibriumSolverRun: feb8_3p_5supply_feb8_3p_5supply_3_base_dev1000_rho0_t3_tie_break-cfr_10_no_tremexternal_plus_linear_no_trem-100 (feb8_3p_5supply_v2)>, <EquilibriumSolverRun: feb8_3p_5supply_feb8_3p_5supply_0_base_dev1000_rho1_t3-cfr_10external_plus_linear-103 (feb8_3p_5supply_v2)>, <EquilibriumSolverRun: feb8_3p_5supply_feb8_3p_5supply_3_base_dev1000_rho0_t3-cfr_10_no_tremexternal_plus_linear_no_trem-104 (feb8_3p_5supply_v2)>, <EquilibriumSolverRun: feb8_3p_5supply_feb8_3p_5supply_0_base_dev1000_rho1_t3-cfr_10external_plus_linear-101 (feb8_3p_5supply_v2)>, <EquilibriumSolverRun: feb8_3p_5supply_feb8_3p_5supply_3_base_dev1000_rho0_t3_tie_break-cfr_10_no_tremexternal_plus_linear_no_trem-101 (feb8_3p_5supply_v2)>, <EquilibriumSolverRun: feb8_3p_5supply_feb8_3p_5supply_1_base_dev1000_rho1_t3-cfr_10external_plus_linear-101 (feb8_3p_5supply_v2)>, <EquilibriumSolverRun: feb8_3p_5supply_feb8_3p_5supply_3_base_dev1000_rho0_t3_tie_break-cfr_10_no_tremexternal_plus_linear_no_trem-102 (feb8_3p_5supply_v2)>, <EquilibriumSolverRun: feb8_3p_5supply_feb8_3p_5supply_0_base_dev1000_rho1_t3_tie_break-cfr_10external_plus_linear-103 (feb8_3p_5supply_v2)>, <EquilibriumSolverRun: feb8_3p_5supply_feb8_3p_5supply_4_base_dev1000_rho0_t3-cfr_10_no_tremexternal_plus_linear_no_trem-103 (feb8_3p_5supply_v2)>, <EquilibriumSolverRun: feb8_3p_5supply_feb8_3p_5supply_1_base_dev1000_rho1_t3-cfr_10external_plus_linear-100 (feb8_3p_5supply_v2)>, <EquilibriumSolverRun: feb8_3p_5supply_feb8_3p_5supply_4_base_dev1000_rho0_t3_tie_break-cfr_10_no_tremexternal_plus_linear_no_trem-100 (feb8_3p_5supply_v2)>, <EquilibriumSolverRun: feb8_3p_5supply_feb8_3p_5supply_0_base_dev1000_rho1_t3_tie_break-cfr_10external_plus_linear-104 (feb8_3p_5supply_v2)>, <EquilibriumSolverRun: feb8_3p_5supply_feb8_3p_5supply_4_base_dev1000_rho0_t3-cfr_10_no_tremexternal_plus_linear_no_trem-104 (feb8_3p_5supply_v2)>, <EquilibriumSolverRun: feb8_3p_5supply_feb8_3p_5supply_1_base_dev1000_rho1_t3_tie_break-cfr_10external_plus_linear-101 (feb8_3p_5supply_v2)>, <EquilibriumSolverRun: feb8_3p_5supply_feb8_3p_5supply_4_base_dev1000_rho0_t3-cfr_10_no_tremexternal_plus_linear_no_trem-102 (feb8_3p_5supply_v2)>, '...(remaining elements truncated)...']>"
      ]
     },
     "execution_count": 4,
     "metadata": {},
     "output_type": "execute_result"
    }
   ],
   "source": [
    "Experiment.objects.get(name='feb8_3p_5supply_v2').equilibriumsolverrun_set.all()"
   ]
  },
  {
   "cell_type": "code",
   "execution_count": null,
   "metadata": {},
   "outputs": [],
   "source": [
    "print(run.equilibriumsolverruncheckpoint_set.last().get_modal_eval().nash_conv)\n",
    "print(run.equilibriumsolverruncheckpoint_set.last().get_modal_eval().heuristic_conv)\n",
    "print(run_tb.equilibriumsolverruncheckpoint_set.last().get_modal_eval().nash_conv)\n",
    "print(run_tb.equilibriumsolverruncheckpoint_set.last().get_modal_eval().heuristic_conv)"
   ]
  },
  {
   "cell_type": "code",
   "execution_count": 8,
   "metadata": {},
   "outputs": [],
   "source": [
    "# Step 2: Code that will run HC and NC for longer \n",
    "BASE_OUTPUT_DIR = os.environ['CLOCK_AUCTION_OUTPUT_ROOT']\n",
    "BR_DIR = 'best_responses'\n",
    "\n",
    "def dispatch_one_off_command(cmd, experiment_name, run_name, extra_name='', cluster='ada_cpu_short', submit=True):\n",
    "    spiel_path, config_dir, pydir, manage_path = verify_config()\n",
    "    cluster_details = get_cluster_details(cluster)\n",
    "    command = f'python {manage_path} {cmd}'\n",
    "\n",
    "    slurm_job_name = f'one_off_{experiment_name}_{run_name}_{extra_name}'\n",
    "    job_file_text = f\"\"\"{cluster_details['shell']}\n",
    "{cluster_details['preamble']}\n",
    "#SBATCH --job-name={slurm_job_name}\n",
    "#SBATCH --time=0-3:00:00 # days-hh:mm:ss\n",
    "#SBATCH -e slurm-%j-{slurm_job_name}.err\n",
    "#SBATCH -o slurm-%j-{slurm_job_name}.out\n",
    "\n",
    "{cluster_details['load_py']}\n",
    "export OPENSPIEL_PATH={spiel_path}\n",
    "\n",
    "CMD=`{command}`\n",
    "echo $CMD\n",
    "eval $CMD\n",
    "\"\"\"\n",
    "\n",
    "    experiment_dir = f'{BASE_OUTPUT_DIR}/{experiment_name}/{run_name}/{BR_DIR}'\n",
    "    write_and_submit(experiment_dir, slurm_job_name, job_file_text, submit)\n",
    "\n",
    "    logging.info(f\"Dispatched experiment!\")\n",
    "\n",
    "# for r in [run, run_tb]:\n",
    "#     for heuristic in [True, False]:\n",
    "#         cp = r.equilibriumsolverruncheckpoint_set.last()\n",
    "#         cmd = f\"nashconv --time_limit_seconds 3600 --t {cp.t} --run_name {cp.equilibrium_solver_run.name} --experiment_name {cp.equilibrium_solver_run.experiment.name} --heuristic {heuristic}\"\n",
    "#         dispatch_one_off_command(cmd, cp.equilibrium_solver_run.experiment.name, cp.equilibrium_solver_run.name, extra_name='heuristic' if heuristic else 'nc')"
   ]
  },
  {
   "cell_type": "code",
   "execution_count": 9,
   "metadata": {},
   "outputs": [
    {
     "name": "stdout",
     "output_type": "stream",
     "text": [
      "Submitted batch job 1091677\n",
      "Submitted batch job 1091678\n",
      "Submitted batch job 1091679\n",
      "Submitted batch job 1091680\n",
      "Submitted batch job 1091681\n",
      "Submitted batch job 1091682\n",
      "Submitted batch job 1091683\n",
      "Submitted batch job 1091684\n",
      "Submitted batch job 1091685\n",
      "Submitted batch job 1091686\n",
      "Submitted batch job 1091687\n",
      "Submitted batch job 1091688\n",
      "Submitted batch job 1091689\n",
      "Submitted batch job 1091690\n",
      "Submitted batch job 1091691\n",
      "Submitted batch job 1091692\n",
      "Submitted batch job 1091693\n",
      "Submitted batch job 1091694\n",
      "Submitted batch job 1091695\n",
      "Submitted batch job 1091696\n",
      "Submitted batch job 1091697\n",
      "Submitted batch job 1091698\n",
      "Submitted batch job 1091699\n",
      "Submitted batch job 1091700\n",
      "Submitted batch job 1091701\n",
      "Submitted batch job 1091702\n",
      "Submitted batch job 1091703\n",
      "Submitted batch job 1091704\n",
      "Submitted batch job 1091705\n",
      "Submitted batch job 1091706\n",
      "Submitted batch job 1091707\n",
      "Submitted batch job 1091708\n",
      "Submitted batch job 1091709\n",
      "Submitted batch job 1091710\n",
      "Submitted batch job 1091711\n",
      "Submitted batch job 1091712\n",
      "Submitted batch job 1091713\n",
      "Submitted batch job 1091714\n",
      "Submitted batch job 1091715\n",
      "Submitted batch job 1091716\n",
      "Submitted batch job 1091717\n",
      "Submitted batch job 1091718\n",
      "Submitted batch job 1091719\n",
      "Submitted batch job 1091720\n",
      "Submitted batch job 1091721\n",
      "Submitted batch job 1091722\n",
      "Submitted batch job 1091723\n",
      "Submitted batch job 1091724\n",
      "Submitted batch job 1091725\n",
      "Submitted batch job 1091726\n"
     ]
    }
   ],
   "source": [
    "#### ALL RUNS ###\n",
    "for r in Experiment.objects.get(name='feb12_3p_ppo_v1').equilibriumsolverrun_set.all():\n",
    "# for r in Experiment.objects.get(name='feb8_3p_5supply_v2').equilibriumsolverrun_set.all():\n",
    "    # for heuristic in [True, False]:\n",
    "    for heuristic in [False]:\n",
    "        cp = r.equilibriumsolverruncheckpoint_set.last()\n",
    "        cmd = f\"nashconv --time_limit_seconds 3600 --t {cp.t} --run_name {cp.equilibrium_solver_run.name} --experiment_name {cp.equilibrium_solver_run.experiment.name} --heuristic {heuristic}\"\n",
    "        dispatch_one_off_command(cmd, cp.equilibrium_solver_run.experiment.name, cp.equilibrium_solver_run.name, extra_name='heuristic' if heuristic else 'nc')\n",
    "\n"
   ]
  },
  {
   "cell_type": "code",
   "execution_count": null,
   "metadata": {},
   "outputs": [],
   "source": [
    "# Step 4: Code that will run PPO-BR \n",
    "config = 'ppo_jun8_23/ppo_76'\n",
    "\n",
    "for r in [run, run_tb]:\n",
    "    game = r.game.load_as_spiel()\n",
    "    for br_player in range(game.num_players()):\n",
    "        cp = r.equilibriumsolverruncheckpoint_set.last()\n",
    "        experiment_name = cp.equilibrium_solver_run.experiment.name\n",
    "        run_name = cp.equilibrium_solver_run.name\n",
    "        t = cp.t\n",
    "        dispatch_single_br_database(experiment_name, run_name, t, br_player, config, True, '--total_timesteps 500', django_command='ppo_br', cluster='ada_cpu_short')"
   ]
  },
  {
   "cell_type": "code",
   "execution_count": null,
   "metadata": {},
   "outputs": [],
   "source": [
    "# Step 5: Code that will run single agent MCCFR\n",
    "# Require a game wrapper"
   ]
  },
  {
   "cell_type": "code",
   "execution_count": null,
   "metadata": {},
   "outputs": [],
   "source": [
    "!squeue --format=\"%.18i %.65j %.2t %.10M %.6D %R\" | grep \"one_off\"  | wc -l"
   ]
  },
  {
   "cell_type": "code",
   "execution_count": null,
   "metadata": {},
   "outputs": [],
   "source": [
    "!squeue --format=\"%.18i %.65j %.2t %.10M %.6D %R\" | grep \"one_off\" | awk '{print $1}' | xargs scancel"
   ]
  },
  {
   "cell_type": "code",
   "execution_count": null,
   "metadata": {},
   "outputs": [],
   "source": [
    "!squeue --format=\"%.18i %.65j %.2t %.10M %.6D %R\" | grep \"ppo_br\" "
   ]
  },
  {
   "cell_type": "code",
   "execution_count": null,
   "metadata": {},
   "outputs": [],
   "source": [
    "!sinfo"
   ]
  },
  {
   "cell_type": "code",
   "execution_count": 6,
   "metadata": {},
   "outputs": [
    {
     "ename": "ProgrammingError",
     "evalue": "syntax error at or near \"\\\"\nLINE 1: \\dt+\n        ^\n",
     "output_type": "error",
     "traceback": [
      "\u001b[0;31m---------------------------------------------------------------------------\u001b[0m",
      "\u001b[0;31mSyntaxError\u001b[0m                               Traceback (most recent call last)",
      "File \u001b[0;32m/global/scratch/newmanne/anaconda3NEW/envs/py38/lib/python3.8/site-packages/django/db/backends/utils.py:87\u001b[0m, in \u001b[0;36mCursorWrapper._execute\u001b[0;34m(self, sql, params, *ignored_wrapper_args)\u001b[0m\n\u001b[1;32m     85\u001b[0m \u001b[38;5;28;01mif\u001b[39;00m params \u001b[38;5;129;01mis\u001b[39;00m \u001b[38;5;28;01mNone\u001b[39;00m:\n\u001b[1;32m     86\u001b[0m     \u001b[38;5;66;03m# params default might be backend specific.\u001b[39;00m\n\u001b[0;32m---> 87\u001b[0m     \u001b[38;5;28;01mreturn\u001b[39;00m \u001b[38;5;28;43mself\u001b[39;49m\u001b[38;5;241;43m.\u001b[39;49m\u001b[43mcursor\u001b[49m\u001b[38;5;241;43m.\u001b[39;49m\u001b[43mexecute\u001b[49m\u001b[43m(\u001b[49m\u001b[43msql\u001b[49m\u001b[43m)\u001b[49m\n\u001b[1;32m     88\u001b[0m \u001b[38;5;28;01melse\u001b[39;00m:\n",
      "\u001b[0;31mSyntaxError\u001b[0m: syntax error at or near \"\\\"\nLINE 1: \\dt+\n        ^\n",
      "\nThe above exception was the direct cause of the following exception:\n",
      "\u001b[0;31mProgrammingError\u001b[0m                          Traceback (most recent call last)",
      "Cell \u001b[0;32mIn[6], line 3\u001b[0m\n\u001b[1;32m      1\u001b[0m \u001b[38;5;28;01mfrom\u001b[39;00m \u001b[38;5;21;01mdjango\u001b[39;00m\u001b[38;5;21;01m.\u001b[39;00m\u001b[38;5;21;01mdb\u001b[39;00m \u001b[38;5;28;01mimport\u001b[39;00m connection\n\u001b[1;32m      2\u001b[0m \u001b[38;5;28;01mwith\u001b[39;00m connection\u001b[38;5;241m.\u001b[39mcursor() \u001b[38;5;28;01mas\u001b[39;00m c:\n\u001b[0;32m----> 3\u001b[0m     \u001b[43mc\u001b[49m\u001b[38;5;241;43m.\u001b[39;49m\u001b[43mexecute\u001b[49m\u001b[43m(\u001b[49m\u001b[38;5;124;43m\"\u001b[39;49m\u001b[38;5;124;43m\\\u001b[39;49m\u001b[38;5;124;43mdt+\u001b[39;49m\u001b[38;5;124;43m\"\u001b[39;49m\u001b[43m)\u001b[49m\n\u001b[1;32m      4\u001b[0m     c\u001b[38;5;241m.\u001b[39mfetchall()\n",
      "File \u001b[0;32m/global/scratch/newmanne/anaconda3NEW/envs/py38/lib/python3.8/site-packages/django/db/backends/utils.py:102\u001b[0m, in \u001b[0;36mCursorDebugWrapper.execute\u001b[0;34m(self, sql, params)\u001b[0m\n\u001b[1;32m    100\u001b[0m \u001b[38;5;28;01mdef\u001b[39;00m \u001b[38;5;21mexecute\u001b[39m(\u001b[38;5;28mself\u001b[39m, sql, params\u001b[38;5;241m=\u001b[39m\u001b[38;5;28;01mNone\u001b[39;00m):\n\u001b[1;32m    101\u001b[0m     \u001b[38;5;28;01mwith\u001b[39;00m \u001b[38;5;28mself\u001b[39m\u001b[38;5;241m.\u001b[39mdebug_sql(sql, params, use_last_executed_query\u001b[38;5;241m=\u001b[39m\u001b[38;5;28;01mTrue\u001b[39;00m):\n\u001b[0;32m--> 102\u001b[0m         \u001b[38;5;28;01mreturn\u001b[39;00m \u001b[38;5;28;43msuper\u001b[39;49m\u001b[43m(\u001b[49m\u001b[43m)\u001b[49m\u001b[38;5;241;43m.\u001b[39;49m\u001b[43mexecute\u001b[49m\u001b[43m(\u001b[49m\u001b[43msql\u001b[49m\u001b[43m,\u001b[49m\u001b[43m \u001b[49m\u001b[43mparams\u001b[49m\u001b[43m)\u001b[49m\n",
      "File \u001b[0;32m/global/scratch/newmanne/anaconda3NEW/envs/py38/lib/python3.8/site-packages/django/db/backends/utils.py:67\u001b[0m, in \u001b[0;36mCursorWrapper.execute\u001b[0;34m(self, sql, params)\u001b[0m\n\u001b[1;32m     66\u001b[0m \u001b[38;5;28;01mdef\u001b[39;00m \u001b[38;5;21mexecute\u001b[39m(\u001b[38;5;28mself\u001b[39m, sql, params\u001b[38;5;241m=\u001b[39m\u001b[38;5;28;01mNone\u001b[39;00m):\n\u001b[0;32m---> 67\u001b[0m     \u001b[38;5;28;01mreturn\u001b[39;00m \u001b[38;5;28;43mself\u001b[39;49m\u001b[38;5;241;43m.\u001b[39;49m\u001b[43m_execute_with_wrappers\u001b[49m\u001b[43m(\u001b[49m\n\u001b[1;32m     68\u001b[0m \u001b[43m        \u001b[49m\u001b[43msql\u001b[49m\u001b[43m,\u001b[49m\u001b[43m \u001b[49m\u001b[43mparams\u001b[49m\u001b[43m,\u001b[49m\u001b[43m \u001b[49m\u001b[43mmany\u001b[49m\u001b[38;5;241;43m=\u001b[39;49m\u001b[38;5;28;43;01mFalse\u001b[39;49;00m\u001b[43m,\u001b[49m\u001b[43m \u001b[49m\u001b[43mexecutor\u001b[49m\u001b[38;5;241;43m=\u001b[39;49m\u001b[38;5;28;43mself\u001b[39;49m\u001b[38;5;241;43m.\u001b[39;49m\u001b[43m_execute\u001b[49m\n\u001b[1;32m     69\u001b[0m \u001b[43m    \u001b[49m\u001b[43m)\u001b[49m\n",
      "File \u001b[0;32m/global/scratch/newmanne/anaconda3NEW/envs/py38/lib/python3.8/site-packages/django/db/backends/utils.py:80\u001b[0m, in \u001b[0;36mCursorWrapper._execute_with_wrappers\u001b[0;34m(self, sql, params, many, executor)\u001b[0m\n\u001b[1;32m     78\u001b[0m \u001b[38;5;28;01mfor\u001b[39;00m wrapper \u001b[38;5;129;01min\u001b[39;00m \u001b[38;5;28mreversed\u001b[39m(\u001b[38;5;28mself\u001b[39m\u001b[38;5;241m.\u001b[39mdb\u001b[38;5;241m.\u001b[39mexecute_wrappers):\n\u001b[1;32m     79\u001b[0m     executor \u001b[38;5;241m=\u001b[39m functools\u001b[38;5;241m.\u001b[39mpartial(wrapper, executor)\n\u001b[0;32m---> 80\u001b[0m \u001b[38;5;28;01mreturn\u001b[39;00m \u001b[43mexecutor\u001b[49m\u001b[43m(\u001b[49m\u001b[43msql\u001b[49m\u001b[43m,\u001b[49m\u001b[43m \u001b[49m\u001b[43mparams\u001b[49m\u001b[43m,\u001b[49m\u001b[43m \u001b[49m\u001b[43mmany\u001b[49m\u001b[43m,\u001b[49m\u001b[43m \u001b[49m\u001b[43mcontext\u001b[49m\u001b[43m)\u001b[49m\n",
      "File \u001b[0;32m/global/scratch/newmanne/anaconda3NEW/envs/py38/lib/python3.8/site-packages/django/db/backends/utils.py:89\u001b[0m, in \u001b[0;36mCursorWrapper._execute\u001b[0;34m(self, sql, params, *ignored_wrapper_args)\u001b[0m\n\u001b[1;32m     87\u001b[0m     \u001b[38;5;28;01mreturn\u001b[39;00m \u001b[38;5;28mself\u001b[39m\u001b[38;5;241m.\u001b[39mcursor\u001b[38;5;241m.\u001b[39mexecute(sql)\n\u001b[1;32m     88\u001b[0m \u001b[38;5;28;01melse\u001b[39;00m:\n\u001b[0;32m---> 89\u001b[0m     \u001b[38;5;28;01mreturn\u001b[39;00m \u001b[38;5;28mself\u001b[39m\u001b[38;5;241m.\u001b[39mcursor\u001b[38;5;241m.\u001b[39mexecute(sql, params)\n",
      "File \u001b[0;32m/global/scratch/newmanne/anaconda3NEW/envs/py38/lib/python3.8/site-packages/django/db/utils.py:91\u001b[0m, in \u001b[0;36mDatabaseErrorWrapper.__exit__\u001b[0;34m(self, exc_type, exc_value, traceback)\u001b[0m\n\u001b[1;32m     89\u001b[0m \u001b[38;5;28;01mif\u001b[39;00m dj_exc_type \u001b[38;5;129;01mnot\u001b[39;00m \u001b[38;5;129;01min\u001b[39;00m (DataError, IntegrityError):\n\u001b[1;32m     90\u001b[0m     \u001b[38;5;28mself\u001b[39m\u001b[38;5;241m.\u001b[39mwrapper\u001b[38;5;241m.\u001b[39merrors_occurred \u001b[38;5;241m=\u001b[39m \u001b[38;5;28;01mTrue\u001b[39;00m\n\u001b[0;32m---> 91\u001b[0m \u001b[38;5;28;01mraise\u001b[39;00m dj_exc_value\u001b[38;5;241m.\u001b[39mwith_traceback(traceback) \u001b[38;5;28;01mfrom\u001b[39;00m \u001b[38;5;21;01mexc_value\u001b[39;00m\n",
      "File \u001b[0;32m/global/scratch/newmanne/anaconda3NEW/envs/py38/lib/python3.8/site-packages/django/db/backends/utils.py:87\u001b[0m, in \u001b[0;36mCursorWrapper._execute\u001b[0;34m(self, sql, params, *ignored_wrapper_args)\u001b[0m\n\u001b[1;32m     84\u001b[0m \u001b[38;5;28;01mwith\u001b[39;00m \u001b[38;5;28mself\u001b[39m\u001b[38;5;241m.\u001b[39mdb\u001b[38;5;241m.\u001b[39mwrap_database_errors:\n\u001b[1;32m     85\u001b[0m     \u001b[38;5;28;01mif\u001b[39;00m params \u001b[38;5;129;01mis\u001b[39;00m \u001b[38;5;28;01mNone\u001b[39;00m:\n\u001b[1;32m     86\u001b[0m         \u001b[38;5;66;03m# params default might be backend specific.\u001b[39;00m\n\u001b[0;32m---> 87\u001b[0m         \u001b[38;5;28;01mreturn\u001b[39;00m \u001b[38;5;28;43mself\u001b[39;49m\u001b[38;5;241;43m.\u001b[39;49m\u001b[43mcursor\u001b[49m\u001b[38;5;241;43m.\u001b[39;49m\u001b[43mexecute\u001b[49m\u001b[43m(\u001b[49m\u001b[43msql\u001b[49m\u001b[43m)\u001b[49m\n\u001b[1;32m     88\u001b[0m     \u001b[38;5;28;01melse\u001b[39;00m:\n\u001b[1;32m     89\u001b[0m         \u001b[38;5;28;01mreturn\u001b[39;00m \u001b[38;5;28mself\u001b[39m\u001b[38;5;241m.\u001b[39mcursor\u001b[38;5;241m.\u001b[39mexecute(sql, params)\n",
      "\u001b[0;31mProgrammingError\u001b[0m: syntax error at or near \"\\\"\nLINE 1: \\dt+\n        ^\n"
     ]
    }
   ],
   "source": [
    "from django.db import connection\n",
    "with connection.cursor() as c:\n",
    "    c.execute(\"\\dt+\")\n",
    "    c.fetchall()\n"
   ]
  },
  {
   "cell_type": "code",
   "execution_count": null,
   "metadata": {},
   "outputs": [],
   "source": []
  }
 ],
 "metadata": {
  "kernelspec": {
   "display_name": "Django Shell-Plus",
   "language": "python",
   "name": "django_extensions"
  },
  "language_info": {
   "codemirror_mode": {
    "name": "ipython",
    "version": 3
   },
   "file_extension": ".py",
   "mimetype": "text/x-python",
   "name": "python",
   "nbconvert_exporter": "python",
   "pygments_lexer": "ipython3",
   "version": "3.8.2"
  }
 },
 "nbformat": 4,
 "nbformat_minor": 4
}
