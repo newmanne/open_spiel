{
 "cells": [
  {
   "cell_type": "code",
   "execution_count": 2,
   "id": "427b72b0-4025-4def-8ad9-a4551ee296cd",
   "metadata": {},
   "outputs": [],
   "source": [
    "%load_ext autoreload\n",
    "%autoreload 2\n",
    "%matplotlib inline"
   ]
  },
  {
   "cell_type": "code",
   "execution_count": 42,
   "id": "42d19042-19dc-454a-bc7a-81d7cc0873a2",
   "metadata": {},
   "outputs": [
    {
     "data": {
      "text/html": [
       "\n",
       "    <div class=\"bk-root\">\n",
       "        <a href=\"https://bokeh.org\" target=\"_blank\" class=\"bk-logo bk-logo-small bk-logo-notebook\"></a>\n",
       "        <span id=\"1003\">Loading BokehJS ...</span>\n",
       "    </div>"
      ]
     },
     "metadata": {},
     "output_type": "display_data"
    },
    {
     "data": {
      "application/javascript": [
       "\n",
       "(function(root) {\n",
       "  function now() {\n",
       "    return new Date();\n",
       "  }\n",
       "\n",
       "  const force = true;\n",
       "\n",
       "  if (typeof root._bokeh_onload_callbacks === \"undefined\" || force === true) {\n",
       "    root._bokeh_onload_callbacks = [];\n",
       "    root._bokeh_is_loading = undefined;\n",
       "  }\n",
       "\n",
       "  const JS_MIME_TYPE = 'application/javascript';\n",
       "  const HTML_MIME_TYPE = 'text/html';\n",
       "  const EXEC_MIME_TYPE = 'application/vnd.bokehjs_exec.v0+json';\n",
       "  const CLASS_NAME = 'output_bokeh rendered_html';\n",
       "\n",
       "  /**\n",
       "   * Render data to the DOM node\n",
       "   */\n",
       "  function render(props, node) {\n",
       "    const script = document.createElement(\"script\");\n",
       "    node.appendChild(script);\n",
       "  }\n",
       "\n",
       "  /**\n",
       "   * Handle when an output is cleared or removed\n",
       "   */\n",
       "  function handleClearOutput(event, handle) {\n",
       "    const cell = handle.cell;\n",
       "\n",
       "    const id = cell.output_area._bokeh_element_id;\n",
       "    const server_id = cell.output_area._bokeh_server_id;\n",
       "    // Clean up Bokeh references\n",
       "    if (id != null && id in Bokeh.index) {\n",
       "      Bokeh.index[id].model.document.clear();\n",
       "      delete Bokeh.index[id];\n",
       "    }\n",
       "\n",
       "    if (server_id !== undefined) {\n",
       "      // Clean up Bokeh references\n",
       "      const cmd_clean = \"from bokeh.io.state import curstate; print(curstate().uuid_to_server['\" + server_id + \"'].get_sessions()[0].document.roots[0]._id)\";\n",
       "      cell.notebook.kernel.execute(cmd_clean, {\n",
       "        iopub: {\n",
       "          output: function(msg) {\n",
       "            const id = msg.content.text.trim();\n",
       "            if (id in Bokeh.index) {\n",
       "              Bokeh.index[id].model.document.clear();\n",
       "              delete Bokeh.index[id];\n",
       "            }\n",
       "          }\n",
       "        }\n",
       "      });\n",
       "      // Destroy server and session\n",
       "      const cmd_destroy = \"import bokeh.io.notebook as ion; ion.destroy_server('\" + server_id + \"')\";\n",
       "      cell.notebook.kernel.execute(cmd_destroy);\n",
       "    }\n",
       "  }\n",
       "\n",
       "  /**\n",
       "   * Handle when a new output is added\n",
       "   */\n",
       "  function handleAddOutput(event, handle) {\n",
       "    const output_area = handle.output_area;\n",
       "    const output = handle.output;\n",
       "\n",
       "    // limit handleAddOutput to display_data with EXEC_MIME_TYPE content only\n",
       "    if ((output.output_type != \"display_data\") || (!Object.prototype.hasOwnProperty.call(output.data, EXEC_MIME_TYPE))) {\n",
       "      return\n",
       "    }\n",
       "\n",
       "    const toinsert = output_area.element.find(\".\" + CLASS_NAME.split(' ')[0]);\n",
       "\n",
       "    if (output.metadata[EXEC_MIME_TYPE][\"id\"] !== undefined) {\n",
       "      toinsert[toinsert.length - 1].firstChild.textContent = output.data[JS_MIME_TYPE];\n",
       "      // store reference to embed id on output_area\n",
       "      output_area._bokeh_element_id = output.metadata[EXEC_MIME_TYPE][\"id\"];\n",
       "    }\n",
       "    if (output.metadata[EXEC_MIME_TYPE][\"server_id\"] !== undefined) {\n",
       "      const bk_div = document.createElement(\"div\");\n",
       "      bk_div.innerHTML = output.data[HTML_MIME_TYPE];\n",
       "      const script_attrs = bk_div.children[0].attributes;\n",
       "      for (let i = 0; i < script_attrs.length; i++) {\n",
       "        toinsert[toinsert.length - 1].firstChild.setAttribute(script_attrs[i].name, script_attrs[i].value);\n",
       "        toinsert[toinsert.length - 1].firstChild.textContent = bk_div.children[0].textContent\n",
       "      }\n",
       "      // store reference to server id on output_area\n",
       "      output_area._bokeh_server_id = output.metadata[EXEC_MIME_TYPE][\"server_id\"];\n",
       "    }\n",
       "  }\n",
       "\n",
       "  function register_renderer(events, OutputArea) {\n",
       "\n",
       "    function append_mime(data, metadata, element) {\n",
       "      // create a DOM node to render to\n",
       "      const toinsert = this.create_output_subarea(\n",
       "        metadata,\n",
       "        CLASS_NAME,\n",
       "        EXEC_MIME_TYPE\n",
       "      );\n",
       "      this.keyboard_manager.register_events(toinsert);\n",
       "      // Render to node\n",
       "      const props = {data: data, metadata: metadata[EXEC_MIME_TYPE]};\n",
       "      render(props, toinsert[toinsert.length - 1]);\n",
       "      element.append(toinsert);\n",
       "      return toinsert\n",
       "    }\n",
       "\n",
       "    /* Handle when an output is cleared or removed */\n",
       "    events.on('clear_output.CodeCell', handleClearOutput);\n",
       "    events.on('delete.Cell', handleClearOutput);\n",
       "\n",
       "    /* Handle when a new output is added */\n",
       "    events.on('output_added.OutputArea', handleAddOutput);\n",
       "\n",
       "    /**\n",
       "     * Register the mime type and append_mime function with output_area\n",
       "     */\n",
       "    OutputArea.prototype.register_mime_type(EXEC_MIME_TYPE, append_mime, {\n",
       "      /* Is output safe? */\n",
       "      safe: true,\n",
       "      /* Index of renderer in `output_area.display_order` */\n",
       "      index: 0\n",
       "    });\n",
       "  }\n",
       "\n",
       "  // register the mime type if in Jupyter Notebook environment and previously unregistered\n",
       "  if (root.Jupyter !== undefined) {\n",
       "    const events = require('base/js/events');\n",
       "    const OutputArea = require('notebook/js/outputarea').OutputArea;\n",
       "\n",
       "    if (OutputArea.prototype.mime_types().indexOf(EXEC_MIME_TYPE) == -1) {\n",
       "      register_renderer(events, OutputArea);\n",
       "    }\n",
       "  }\n",
       "\n",
       "  \n",
       "  if (typeof (root._bokeh_timeout) === \"undefined\" || force === true) {\n",
       "    root._bokeh_timeout = Date.now() + 5000;\n",
       "    root._bokeh_failed_load = false;\n",
       "  }\n",
       "\n",
       "  const NB_LOAD_WARNING = {'data': {'text/html':\n",
       "     \"<div style='background-color: #fdd'>\\n\"+\n",
       "     \"<p>\\n\"+\n",
       "     \"BokehJS does not appear to have successfully loaded. If loading BokehJS from CDN, this \\n\"+\n",
       "     \"may be due to a slow or bad network connection. Possible fixes:\\n\"+\n",
       "     \"</p>\\n\"+\n",
       "     \"<ul>\\n\"+\n",
       "     \"<li>re-rerun `output_notebook()` to attempt to load from CDN again, or</li>\\n\"+\n",
       "     \"<li>use INLINE resources instead, as so:</li>\\n\"+\n",
       "     \"</ul>\\n\"+\n",
       "     \"<code>\\n\"+\n",
       "     \"from bokeh.resources import INLINE\\n\"+\n",
       "     \"output_notebook(resources=INLINE)\\n\"+\n",
       "     \"</code>\\n\"+\n",
       "     \"</div>\"}};\n",
       "\n",
       "  function display_loaded() {\n",
       "    const el = document.getElementById(\"1003\");\n",
       "    if (el != null) {\n",
       "      el.textContent = \"BokehJS is loading...\";\n",
       "    }\n",
       "    if (root.Bokeh !== undefined) {\n",
       "      if (el != null) {\n",
       "        el.textContent = \"BokehJS \" + root.Bokeh.version + \" successfully loaded.\";\n",
       "      }\n",
       "    } else if (Date.now() < root._bokeh_timeout) {\n",
       "      setTimeout(display_loaded, 100)\n",
       "    }\n",
       "  }\n",
       "\n",
       "\n",
       "  function run_callbacks() {\n",
       "    try {\n",
       "      root._bokeh_onload_callbacks.forEach(function(callback) {\n",
       "        if (callback != null)\n",
       "          callback();\n",
       "      });\n",
       "    } finally {\n",
       "      delete root._bokeh_onload_callbacks\n",
       "    }\n",
       "    console.debug(\"Bokeh: all callbacks have finished\");\n",
       "  }\n",
       "\n",
       "  function load_libs(css_urls, js_urls, callback) {\n",
       "    if (css_urls == null) css_urls = [];\n",
       "    if (js_urls == null) js_urls = [];\n",
       "\n",
       "    root._bokeh_onload_callbacks.push(callback);\n",
       "    if (root._bokeh_is_loading > 0) {\n",
       "      console.debug(\"Bokeh: BokehJS is being loaded, scheduling callback at\", now());\n",
       "      return null;\n",
       "    }\n",
       "    if (js_urls == null || js_urls.length === 0) {\n",
       "      run_callbacks();\n",
       "      return null;\n",
       "    }\n",
       "    console.debug(\"Bokeh: BokehJS not loaded, scheduling load and callback at\", now());\n",
       "    root._bokeh_is_loading = css_urls.length + js_urls.length;\n",
       "\n",
       "    function on_load() {\n",
       "      root._bokeh_is_loading--;\n",
       "      if (root._bokeh_is_loading === 0) {\n",
       "        console.debug(\"Bokeh: all BokehJS libraries/stylesheets loaded\");\n",
       "        run_callbacks()\n",
       "      }\n",
       "    }\n",
       "\n",
       "    function on_error(url) {\n",
       "      console.error(\"failed to load \" + url);\n",
       "    }\n",
       "\n",
       "    for (let i = 0; i < css_urls.length; i++) {\n",
       "      const url = css_urls[i];\n",
       "      const element = document.createElement(\"link\");\n",
       "      element.onload = on_load;\n",
       "      element.onerror = on_error.bind(null, url);\n",
       "      element.rel = \"stylesheet\";\n",
       "      element.type = \"text/css\";\n",
       "      element.href = url;\n",
       "      console.debug(\"Bokeh: injecting link tag for BokehJS stylesheet: \", url);\n",
       "      document.body.appendChild(element);\n",
       "    }\n",
       "\n",
       "    for (let i = 0; i < js_urls.length; i++) {\n",
       "      const url = js_urls[i];\n",
       "      const element = document.createElement('script');\n",
       "      element.onload = on_load;\n",
       "      element.onerror = on_error.bind(null, url);\n",
       "      element.async = false;\n",
       "      element.src = url;\n",
       "      console.debug(\"Bokeh: injecting script tag for BokehJS library: \", url);\n",
       "      document.head.appendChild(element);\n",
       "    }\n",
       "  };\n",
       "\n",
       "  function inject_raw_css(css) {\n",
       "    const element = document.createElement(\"style\");\n",
       "    element.appendChild(document.createTextNode(css));\n",
       "    document.body.appendChild(element);\n",
       "  }\n",
       "\n",
       "  \n",
       "  const js_urls = [\"https://cdn.bokeh.org/bokeh/release/bokeh-2.4.2.min.js\", \"https://cdn.bokeh.org/bokeh/release/bokeh-gl-2.4.2.min.js\", \"https://cdn.bokeh.org/bokeh/release/bokeh-widgets-2.4.2.min.js\", \"https://cdn.bokeh.org/bokeh/release/bokeh-tables-2.4.2.min.js\", \"https://cdn.bokeh.org/bokeh/release/bokeh-mathjax-2.4.2.min.js\"];\n",
       "  const css_urls = [];\n",
       "  \n",
       "\n",
       "  const inline_js = [\n",
       "    function(Bokeh) {\n",
       "      Bokeh.set_log_level(\"info\");\n",
       "    },\n",
       "    function(Bokeh) {\n",
       "    \n",
       "    \n",
       "    }\n",
       "  ];\n",
       "\n",
       "  function run_inline_js() {\n",
       "    \n",
       "    if (root.Bokeh !== undefined || force === true) {\n",
       "      \n",
       "    for (let i = 0; i < inline_js.length; i++) {\n",
       "      inline_js[i].call(root, root.Bokeh);\n",
       "    }\n",
       "    if (force === true) {\n",
       "        display_loaded();\n",
       "      }} else if (Date.now() < root._bokeh_timeout) {\n",
       "      setTimeout(run_inline_js, 100);\n",
       "    } else if (!root._bokeh_failed_load) {\n",
       "      console.log(\"Bokeh: BokehJS failed to load within specified timeout.\");\n",
       "      root._bokeh_failed_load = true;\n",
       "    } else if (force !== true) {\n",
       "      const cell = $(document.getElementById(\"1003\")).parents('.cell').data().cell;\n",
       "      cell.output_area.append_execute_result(NB_LOAD_WARNING)\n",
       "    }\n",
       "\n",
       "  }\n",
       "\n",
       "  if (root._bokeh_is_loading === 0) {\n",
       "    console.debug(\"Bokeh: BokehJS loaded, going straight to plotting\");\n",
       "    run_inline_js();\n",
       "  } else {\n",
       "    load_libs(css_urls, js_urls, function() {\n",
       "      console.debug(\"Bokeh: BokehJS plotting callback run at\", now());\n",
       "      run_inline_js();\n",
       "    });\n",
       "  }\n",
       "}(window));"
      ],
      "application/vnd.bokehjs_load.v0+json": "\n(function(root) {\n  function now() {\n    return new Date();\n  }\n\n  const force = true;\n\n  if (typeof root._bokeh_onload_callbacks === \"undefined\" || force === true) {\n    root._bokeh_onload_callbacks = [];\n    root._bokeh_is_loading = undefined;\n  }\n\n  \n\n  \n  if (typeof (root._bokeh_timeout) === \"undefined\" || force === true) {\n    root._bokeh_timeout = Date.now() + 5000;\n    root._bokeh_failed_load = false;\n  }\n\n  const NB_LOAD_WARNING = {'data': {'text/html':\n     \"<div style='background-color: #fdd'>\\n\"+\n     \"<p>\\n\"+\n     \"BokehJS does not appear to have successfully loaded. If loading BokehJS from CDN, this \\n\"+\n     \"may be due to a slow or bad network connection. Possible fixes:\\n\"+\n     \"</p>\\n\"+\n     \"<ul>\\n\"+\n     \"<li>re-rerun `output_notebook()` to attempt to load from CDN again, or</li>\\n\"+\n     \"<li>use INLINE resources instead, as so:</li>\\n\"+\n     \"</ul>\\n\"+\n     \"<code>\\n\"+\n     \"from bokeh.resources import INLINE\\n\"+\n     \"output_notebook(resources=INLINE)\\n\"+\n     \"</code>\\n\"+\n     \"</div>\"}};\n\n  function display_loaded() {\n    const el = document.getElementById(\"1003\");\n    if (el != null) {\n      el.textContent = \"BokehJS is loading...\";\n    }\n    if (root.Bokeh !== undefined) {\n      if (el != null) {\n        el.textContent = \"BokehJS \" + root.Bokeh.version + \" successfully loaded.\";\n      }\n    } else if (Date.now() < root._bokeh_timeout) {\n      setTimeout(display_loaded, 100)\n    }\n  }\n\n\n  function run_callbacks() {\n    try {\n      root._bokeh_onload_callbacks.forEach(function(callback) {\n        if (callback != null)\n          callback();\n      });\n    } finally {\n      delete root._bokeh_onload_callbacks\n    }\n    console.debug(\"Bokeh: all callbacks have finished\");\n  }\n\n  function load_libs(css_urls, js_urls, callback) {\n    if (css_urls == null) css_urls = [];\n    if (js_urls == null) js_urls = [];\n\n    root._bokeh_onload_callbacks.push(callback);\n    if (root._bokeh_is_loading > 0) {\n      console.debug(\"Bokeh: BokehJS is being loaded, scheduling callback at\", now());\n      return null;\n    }\n    if (js_urls == null || js_urls.length === 0) {\n      run_callbacks();\n      return null;\n    }\n    console.debug(\"Bokeh: BokehJS not loaded, scheduling load and callback at\", now());\n    root._bokeh_is_loading = css_urls.length + js_urls.length;\n\n    function on_load() {\n      root._bokeh_is_loading--;\n      if (root._bokeh_is_loading === 0) {\n        console.debug(\"Bokeh: all BokehJS libraries/stylesheets loaded\");\n        run_callbacks()\n      }\n    }\n\n    function on_error(url) {\n      console.error(\"failed to load \" + url);\n    }\n\n    for (let i = 0; i < css_urls.length; i++) {\n      const url = css_urls[i];\n      const element = document.createElement(\"link\");\n      element.onload = on_load;\n      element.onerror = on_error.bind(null, url);\n      element.rel = \"stylesheet\";\n      element.type = \"text/css\";\n      element.href = url;\n      console.debug(\"Bokeh: injecting link tag for BokehJS stylesheet: \", url);\n      document.body.appendChild(element);\n    }\n\n    for (let i = 0; i < js_urls.length; i++) {\n      const url = js_urls[i];\n      const element = document.createElement('script');\n      element.onload = on_load;\n      element.onerror = on_error.bind(null, url);\n      element.async = false;\n      element.src = url;\n      console.debug(\"Bokeh: injecting script tag for BokehJS library: \", url);\n      document.head.appendChild(element);\n    }\n  };\n\n  function inject_raw_css(css) {\n    const element = document.createElement(\"style\");\n    element.appendChild(document.createTextNode(css));\n    document.body.appendChild(element);\n  }\n\n  \n  const js_urls = [\"https://cdn.bokeh.org/bokeh/release/bokeh-2.4.2.min.js\", \"https://cdn.bokeh.org/bokeh/release/bokeh-gl-2.4.2.min.js\", \"https://cdn.bokeh.org/bokeh/release/bokeh-widgets-2.4.2.min.js\", \"https://cdn.bokeh.org/bokeh/release/bokeh-tables-2.4.2.min.js\", \"https://cdn.bokeh.org/bokeh/release/bokeh-mathjax-2.4.2.min.js\"];\n  const css_urls = [];\n  \n\n  const inline_js = [\n    function(Bokeh) {\n      Bokeh.set_log_level(\"info\");\n    },\n    function(Bokeh) {\n    \n    \n    }\n  ];\n\n  function run_inline_js() {\n    \n    if (root.Bokeh !== undefined || force === true) {\n      \n    for (let i = 0; i < inline_js.length; i++) {\n      inline_js[i].call(root, root.Bokeh);\n    }\n    if (force === true) {\n        display_loaded();\n      }} else if (Date.now() < root._bokeh_timeout) {\n      setTimeout(run_inline_js, 100);\n    } else if (!root._bokeh_failed_load) {\n      console.log(\"Bokeh: BokehJS failed to load within specified timeout.\");\n      root._bokeh_failed_load = true;\n    } else if (force !== true) {\n      const cell = $(document.getElementById(\"1003\")).parents('.cell').data().cell;\n      cell.output_area.append_execute_result(NB_LOAD_WARNING)\n    }\n\n  }\n\n  if (root._bokeh_is_loading === 0) {\n    console.debug(\"Bokeh: BokehJS loaded, going straight to plotting\");\n    run_inline_js();\n  } else {\n    load_libs(css_urls, js_urls, function() {\n      console.debug(\"Bokeh: BokehJS plotting callback run at\", now());\n      run_inline_js();\n    });\n  }\n}(window));"
     },
     "metadata": {},
     "output_type": "display_data"
    }
   ],
   "source": [
    "import sys\n",
    "import glob\n",
    "import pandas as pd\n",
    "import os\n",
    "import seaborn as sns\n",
    "\n",
    "from tqdm import tqdm\n",
    "from statsmodels.distributions.empirical_distribution import ECDF\n",
    "from collections import defaultdict\n",
    "import pickle\n",
    "import re\n",
    "import json\n",
    "from pathlib import Path\n",
    "import scipy.stats\n",
    "import time\n",
    "\n",
    "from open_spiel.python.algorithms.exploitability import nash_conv, best_response\n",
    "from open_spiel.python.examples.ubc_plotting_utils import *\n",
    "from open_spiel.python.examples.ubc_sample_game_tree import sample_game_tree, flatten_trees, flatten_tree\n",
    "from open_spiel.python.examples.ubc_clusters import projectPCA, fitGMM\n",
    "from open_spiel.python.examples.ubc_utils import *\n",
    "import open_spiel.python.examples.ubc_dispatch as dispatch\n",
    "\n",
    "from auctions.webutils import *\n",
    "\n",
    "os.environ[\"DJANGO_ALLOW_ASYNC_UNSAFE\"] = \"true\"\n",
    "\n",
    "from open_spiel.python.examples.ubc_cma import *\n",
    "\n",
    "output_notebook()\n",
    "from open_spiel.python.games.clock_auction_base import InformationPolicy, ActivityPolicy, UndersellPolicy, TiebreakingPolicy, action_to_bundles\n",
    "from open_spiel.python.algorithms.exploitability import nash_conv, best_response\n",
    "from open_spiel.python.examples.ubc_decorators import TakeSingleActionDecorator, TremblingAgentDecorator, ModalAgentDecorator\n",
    "\n",
    "plt.style.use('https://raw.githubusercontent.com/gregdeon/plots/main/style.mplstyle')"
   ]
  },
  {
   "cell_type": "markdown",
   "id": "1d3b3cac-f1b8-48df-bd55-21bcfc48f769",
   "metadata": {},
   "source": [
    "# Sampler"
   ]
  },
  {
   "cell_type": "code",
   "execution_count": 4,
   "id": "714c5e2e-5da7-497e-8405-e85ee2b765b0",
   "metadata": {},
   "outputs": [],
   "source": [
    "import copy\n",
    "from open_spiel.python.examples.sats_game_sampler import test_config_is_wieldy \n",
    "from open_spiel.python.examples.pysats import map_generators, run_sats\n"
   ]
  },
  {
   "cell_type": "code",
   "execution_count": 77,
   "id": "ef97afa5-e710-4c89-977c-5ab861705ee5",
   "metadata": {},
   "outputs": [
    {
     "data": {
      "text/plain": [
       "array([[0, 0],\n",
       "       [0, 1],\n",
       "       [0, 2],\n",
       "       [1, 0],\n",
       "       [1, 1],\n",
       "       [1, 2],\n",
       "       [2, 0],\n",
       "       [2, 1],\n",
       "       [2, 2],\n",
       "       [3, 0],\n",
       "       [3, 1],\n",
       "       [3, 2]])"
      ]
     },
     "execution_count": 77,
     "metadata": {},
     "output_type": "execute_result"
    }
   ],
   "source": [
    "action_to_bundles([3, 2])"
   ]
  },
  {
   "cell_type": "code",
   "execution_count": 78,
   "id": "74007e11-6280-4bc7-acba-b417edd8bf45",
   "metadata": {},
   "outputs": [],
   "source": [
    "seed = 1234\n",
    "external = True\n",
    "output='configs/dec13b.pkl'\n",
    "\n",
    "N_CONFIGS = 5\n",
    "MIN_TYPES = 2\n",
    "MAX_TYPES = 2\n",
    "MIN_BIDDERS = 2\n",
    "MAX_BIDDERS = 3\n",
    "MAX_ACTION_SPACE = 27\n",
    "MAX_NUM_LICENSES = 6\n",
    "ACTION_PREFIX = [9]"
   ]
  },
  {
   "cell_type": "code",
   "execution_count": 79,
   "id": "900ba09c-02a6-48d8-b4e2-e426f009b396",
   "metadata": {},
   "outputs": [
    {
     "name": "stderr",
     "output_type": "stream",
     "text": [
      "6it [00:00, 27.39it/s]"
     ]
    },
    {
     "name": "stdout",
     "output_type": "stream",
     "text": [
      "Starting test for slowness\n",
      "Speed of 249.64 iters/s\n",
      "SUCCESS\n",
      "{'scale': 1000000, 'auction_params': {'increment': 0.3, 'max_rounds': 10, 'heuristic_deviations': 0, 'agent_memory': 10, 'licenses': [3, 2], 'opening_price': [12, 8], 'activity': [12, 8]}, 'bidders': [{'player': 0, 'types': [{'type': 'local', 'value_per_subscriber': {'lower': 30, 'upper': 50}, 'market_share': {'lower': 0.2, 'upper': 0.5}, 'local_regions': [1]}, {'type': 'local', 'value_per_subscriber': {'lower': 30, 'upper': 50}, 'market_share': {'lower': 0.2, 'upper': 0.5}, 'local_regions': [1]}], 'action_prefix': [9]}, {'player': 1, 'types': [{'type': 'local', 'value_per_subscriber': {'lower': 30, 'upper': 50}, 'market_share': {'lower': 0.2, 'upper': 0.5}, 'local_regions': [1]}, {'type': 'local', 'value_per_subscriber': {'lower': 30, 'upper': 50}, 'market_share': {'lower': 0.2, 'upper': 0.5}, 'local_regions': [1]}], 'action_prefix': [9]}], 'sats_seed': 795857520, 'map': 'BCEncumbered'}\n",
      "{'increment': 0.3, 'max_rounds': 10, 'heuristic_deviations': 0, 'agent_memory': 10, 'licenses': [3, 2], 'opening_price': [12, 8], 'activity': [12, 8], 'license_names': ['British Columbia'], 'players': [{'type': [{'value': [0, 29, 44, 33, 49, 62, 55, 68, 82, 74, 89, 106], 'value_format': 'full', 'budget': 106, 'prob': 0.5, 'name': 'local', 'action_prefix': [9]}, {'value': [0, 20, 29, 23, 32, 39, 35, 41, 45, 43, 47, 52], 'value_format': 'full', 'budget': 52, 'prob': 0.5, 'name': 'local', 'action_prefix': [9]}]}, {'type': [{'value': [0, 23, 34, 26, 38, 48, 42, 52, 62, 56, 67, 79], 'value_format': 'full', 'budget': 79, 'prob': 0.5, 'name': 'local', 'action_prefix': [9]}, {'value': [0, 26, 39, 30, 44, 55, 48, 59, 71, 64, 77, 90], 'value_format': 'full', 'budget': 90, 'prob': 0.5, 'name': 'local', 'action_prefix': [9]}]}]}\n",
      "Acceptance rate is 14.28571%\n",
      "Starting test for slowness\n"
     ]
    },
    {
     "name": "stderr",
     "output_type": "stream",
     "text": [
      "9it [00:10,  1.63s/it]"
     ]
    },
    {
     "name": "stdout",
     "output_type": "stream",
     "text": [
      "Speed of 844.62 iters/s\n",
      "SUCCESS\n",
      "{'scale': 1000000, 'auction_params': {'increment': 0.3, 'max_rounds': 10, 'heuristic_deviations': 0, 'agent_memory': 10, 'licenses': [3, 2], 'opening_price': [12, 8], 'activity': [12, 8]}, 'bidders': [{'player': 0, 'types': [{'type': 'local', 'value_per_subscriber': {'lower': 30, 'upper': 50}, 'market_share': {'lower': 0.2, 'upper': 0.5}, 'local_regions': [1]}, {'type': 'local', 'value_per_subscriber': {'lower': 30, 'upper': 50}, 'market_share': {'lower': 0.2, 'upper': 0.5}, 'local_regions': [1]}], 'action_prefix': [9]}, {'player': 1, 'types': [{'type': 'local', 'value_per_subscriber': {'lower': 30, 'upper': 50}, 'market_share': {'lower': 0.2, 'upper': 0.5}, 'local_regions': [1]}, {'type': 'local', 'value_per_subscriber': {'lower': 30, 'upper': 50}, 'market_share': {'lower': 0.2, 'upper': 0.5}, 'local_regions': [1]}], 'action_prefix': [9]}], 'sats_seed': 786055720, 'map': 'BCEncumbered'}\n",
      "{'increment': 0.3, 'max_rounds': 10, 'heuristic_deviations': 0, 'agent_memory': 10, 'licenses': [3, 2], 'opening_price': [12, 8], 'activity': [12, 8], 'license_names': ['British Columbia'], 'players': [{'type': [{'value': [0, 24, 35, 27, 39, 49, 44, 53, 64, 58, 69, 80], 'value_format': 'full', 'budget': 80, 'prob': 0.5, 'name': 'local', 'action_prefix': [9]}, {'value': [0, 24, 35, 27, 39, 48, 43, 52, 61, 56, 65, 75], 'value_format': 'full', 'budget': 75, 'prob': 0.5, 'name': 'local', 'action_prefix': [9]}]}, {'type': [{'value': [0, 19, 27, 22, 30, 36, 33, 39, 44, 41, 47, 52], 'value_format': 'full', 'budget': 52, 'prob': 0.5, 'name': 'local', 'action_prefix': [9]}, {'value': [0, 27, 40, 31, 44, 55, 49, 60, 72, 65, 77, 90], 'value_format': 'full', 'budget': 90, 'prob': 0.5, 'name': 'local', 'action_prefix': [9]}]}]}\n",
      "Acceptance rate is 25.00000%\n",
      "Starting test for slowness\n"
     ]
    },
    {
     "name": "stderr",
     "output_type": "stream",
     "text": [
      "10it [00:31,  4.97s/it]"
     ]
    },
    {
     "name": "stdout",
     "output_type": "stream",
     "text": [
      "Speed of 10.78 iters/s\n",
      "Cutoff exceeded\n",
      "defaultdict(<class 'int'>, {'There exists a combo that does not sell everything': 6, 'Slow MCCFR iters': 1})\n",
      "Starting test for slowness\n"
     ]
    },
    {
     "name": "stderr",
     "output_type": "stream",
     "text": [
      "12it [00:34,  3.91s/it]"
     ]
    },
    {
     "name": "stdout",
     "output_type": "stream",
     "text": [
      "Speed of 563.20 iters/s\n",
      "SUCCESS\n",
      "{'scale': 1000000, 'auction_params': {'increment': 0.3, 'max_rounds': 10, 'heuristic_deviations': 0, 'agent_memory': 10, 'licenses': [3, 2], 'opening_price': [12, 8], 'activity': [12, 8]}, 'bidders': [{'player': 0, 'types': [{'type': 'local', 'value_per_subscriber': {'lower': 30, 'upper': 50}, 'market_share': {'lower': 0.2, 'upper': 0.5}, 'local_regions': [1]}, {'type': 'local', 'value_per_subscriber': {'lower': 30, 'upper': 50}, 'market_share': {'lower': 0.2, 'upper': 0.5}, 'local_regions': [1]}], 'action_prefix': [9]}, {'player': 1, 'types': [{'type': 'local', 'value_per_subscriber': {'lower': 30, 'upper': 50}, 'market_share': {'lower': 0.2, 'upper': 0.5}, 'local_regions': [1]}, {'type': 'local', 'value_per_subscriber': {'lower': 30, 'upper': 50}, 'market_share': {'lower': 0.2, 'upper': 0.5}, 'local_regions': [1]}], 'action_prefix': [9]}], 'sats_seed': 555616330, 'map': 'BCEncumbered'}\n",
      "{'increment': 0.3, 'max_rounds': 10, 'heuristic_deviations': 0, 'agent_memory': 10, 'licenses': [3, 2], 'opening_price': [12, 8], 'activity': [12, 8], 'license_names': ['British Columbia'], 'players': [{'type': [{'value': [0, 25, 36, 28, 40, 49, 43, 53, 62, 57, 66, 75], 'value_format': 'full', 'budget': 75, 'prob': 0.5, 'name': 'local', 'action_prefix': [9]}, {'value': [0, 17, 28, 21, 32, 41, 36, 45, 54, 48, 59, 72], 'value_format': 'full', 'budget': 72, 'prob': 0.5, 'name': 'local', 'action_prefix': [9]}]}, {'type': [{'value': [0, 24, 33, 26, 37, 45, 40, 48, 54, 50, 57, 63], 'value_format': 'full', 'budget': 63, 'prob': 0.5, 'name': 'local', 'action_prefix': [9]}, {'value': [0, 28, 41, 32, 46, 58, 51, 63, 75, 68, 81, 94], 'value_format': 'full', 'budget': 94, 'prob': 0.5, 'name': 'local', 'action_prefix': [9]}]}]}\n",
      "Acceptance rate is 27.27273%\n"
     ]
    },
    {
     "name": "stderr",
     "output_type": "stream",
     "text": [
      "16it [00:35,  1.84s/it]"
     ]
    },
    {
     "name": "stdout",
     "output_type": "stream",
     "text": [
      "Starting test for slowness\n"
     ]
    },
    {
     "name": "stderr",
     "output_type": "stream",
     "text": [
      "17it [00:55,  5.27s/it]"
     ]
    },
    {
     "name": "stdout",
     "output_type": "stream",
     "text": [
      "Speed of 3.32 iters/s\n",
      "Cutoff exceeded\n",
      "defaultdict(<class 'int'>, {'There exists a combo that does not sell everything': 10, 'Slow MCCFR iters': 2, 'Not enough competition': 1})\n"
     ]
    },
    {
     "name": "stderr",
     "output_type": "stream",
     "text": [
      "20it [00:55,  2.96s/it]"
     ]
    },
    {
     "name": "stdout",
     "output_type": "stream",
     "text": [
      "Starting test for slowness\n"
     ]
    },
    {
     "name": "stderr",
     "output_type": "stream",
     "text": [
      "21it [01:15,  5.97s/it]"
     ]
    },
    {
     "name": "stdout",
     "output_type": "stream",
     "text": [
      "Speed of 13.54 iters/s\n",
      "Cutoff exceeded\n",
      "defaultdict(<class 'int'>, {'There exists a combo that does not sell everything': 12, 'Slow MCCFR iters': 3, 'Not enough competition': 2})\n"
     ]
    },
    {
     "name": "stderr",
     "output_type": "stream",
     "text": [
      "23it [01:16,  4.01s/it]"
     ]
    },
    {
     "name": "stdout",
     "output_type": "stream",
     "text": [
      "Starting test for slowness\n"
     ]
    },
    {
     "name": "stderr",
     "output_type": "stream",
     "text": [
      "24it [01:36,  7.12s/it]"
     ]
    },
    {
     "name": "stdout",
     "output_type": "stream",
     "text": [
      "Speed of 20.83 iters/s\n",
      "Cutoff exceeded\n",
      "defaultdict(<class 'int'>, {'There exists a combo that does not sell everything': 13, 'Slow MCCFR iters': 4, 'Not enough competition': 3})\n"
     ]
    },
    {
     "name": "stderr",
     "output_type": "stream",
     "text": [
      "29it [01:36,  2.54s/it]"
     ]
    },
    {
     "name": "stdout",
     "output_type": "stream",
     "text": [
      "Starting test for slowness\n"
     ]
    },
    {
     "name": "stderr",
     "output_type": "stream",
     "text": [
      "30it [01:56,  5.45s/it]"
     ]
    },
    {
     "name": "stdout",
     "output_type": "stream",
     "text": [
      "Speed of 25.42 iters/s\n",
      "Cutoff exceeded\n",
      "defaultdict(<class 'int'>, {'There exists a combo that does not sell everything': 18, 'Slow MCCFR iters': 5, 'Not enough competition': 3})\n",
      "Starting test for slowness\n"
     ]
    },
    {
     "name": "stderr",
     "output_type": "stream",
     "text": [
      "32it [02:03,  4.77s/it]"
     ]
    },
    {
     "name": "stdout",
     "output_type": "stream",
     "text": [
      "Speed of 309.70 iters/s\n"
     ]
    },
    {
     "name": "stderr",
     "output_type": "stream",
     "text": [
      "34it [02:03,  3.29s/it]"
     ]
    },
    {
     "name": "stdout",
     "output_type": "stream",
     "text": [
      "Starting test for slowness\n"
     ]
    },
    {
     "name": "stderr",
     "output_type": "stream",
     "text": [
      "35it [02:25,  6.65s/it]"
     ]
    },
    {
     "name": "stdout",
     "output_type": "stream",
     "text": [
      "Speed of 6.25 iters/s\n",
      "Cutoff exceeded\n",
      "defaultdict(<class 'int'>, {'There exists a combo that does not sell everything': 21, 'Slow MCCFR iters': 6, 'Not enough competition': 3, 'Worst-case straightfoward too long': 1})\n",
      "Starting test for slowness\n"
     ]
    },
    {
     "name": "stderr",
     "output_type": "stream",
     "text": [
      "37it [02:37,  6.56s/it]"
     ]
    },
    {
     "name": "stdout",
     "output_type": "stream",
     "text": [
      "Speed of 159.23 iters/s\n",
      "Starting test for slowness\n"
     ]
    },
    {
     "name": "stderr",
     "output_type": "stream",
     "text": [
      "38it [02:58,  9.33s/it]"
     ]
    },
    {
     "name": "stdout",
     "output_type": "stream",
     "text": [
      "Speed of 2.17 iters/s\n",
      "Cutoff exceeded\n",
      "defaultdict(<class 'int'>, {'There exists a combo that does not sell everything': 22, 'Slow MCCFR iters': 7, 'Not enough competition': 3, 'Worst-case straightfoward too long': 2})\n",
      "Starting test for slowness\n"
     ]
    },
    {
     "name": "stderr",
     "output_type": "stream",
     "text": [
      "39it [03:18, 11.73s/it]"
     ]
    },
    {
     "name": "stdout",
     "output_type": "stream",
     "text": [
      "Speed of 30.67 iters/s\n",
      "Cutoff exceeded\n",
      "defaultdict(<class 'int'>, {'There exists a combo that does not sell everything': 22, 'Slow MCCFR iters': 8, 'Not enough competition': 3, 'Worst-case straightfoward too long': 2})\n",
      "Starting test for slowness\n"
     ]
    },
    {
     "name": "stderr",
     "output_type": "stream",
     "text": [
      "41it [03:39, 11.11s/it]"
     ]
    },
    {
     "name": "stdout",
     "output_type": "stream",
     "text": [
      "Speed of 12.30 iters/s\n",
      "Cutoff exceeded\n",
      "defaultdict(<class 'int'>, {'There exists a combo that does not sell everything': 23, 'Slow MCCFR iters': 9, 'Not enough competition': 3, 'Worst-case straightfoward too long': 2})\n",
      "Starting test for slowness\n"
     ]
    },
    {
     "name": "stderr",
     "output_type": "stream",
     "text": [
      "42it [03:41,  9.28s/it]"
     ]
    },
    {
     "name": "stdout",
     "output_type": "stream",
     "text": [
      "Speed of 791.51 iters/s\n",
      "SUCCESS\n",
      "{'scale': 1000000, 'auction_params': {'increment': 0.3, 'max_rounds': 10, 'heuristic_deviations': 0, 'agent_memory': 10, 'licenses': [3, 2], 'opening_price': [12, 8], 'activity': [12, 8]}, 'bidders': [{'player': 0, 'types': [{'type': 'local', 'value_per_subscriber': {'lower': 30, 'upper': 50}, 'market_share': {'lower': 0.2, 'upper': 0.5}, 'local_regions': [1]}, {'type': 'local', 'value_per_subscriber': {'lower': 30, 'upper': 50}, 'market_share': {'lower': 0.2, 'upper': 0.5}, 'local_regions': [1]}], 'action_prefix': [9]}, {'player': 1, 'types': [{'type': 'local', 'value_per_subscriber': {'lower': 30, 'upper': 50}, 'market_share': {'lower': 0.2, 'upper': 0.5}, 'local_regions': [1]}, {'type': 'local', 'value_per_subscriber': {'lower': 30, 'upper': 50}, 'market_share': {'lower': 0.2, 'upper': 0.5}, 'local_regions': [1]}], 'action_prefix': [9]}], 'sats_seed': 905231308, 'map': 'BCEncumbered'}\n",
      "{'increment': 0.3, 'max_rounds': 10, 'heuristic_deviations': 0, 'agent_memory': 10, 'licenses': [3, 2], 'opening_price': [12, 8], 'activity': [12, 8], 'license_names': ['British Columbia'], 'players': [{'type': [{'value': [0, 22, 32, 25, 36, 45, 40, 49, 57, 52, 61, 71], 'value_format': 'full', 'budget': 71, 'prob': 0.5, 'name': 'local', 'action_prefix': [9]}, {'value': [0, 17, 32, 24, 36, 47, 41, 51, 62, 56, 68, 84], 'value_format': 'full', 'budget': 84, 'prob': 0.5, 'name': 'local', 'action_prefix': [9]}]}, {'type': [{'value': [0, 22, 33, 26, 37, 47, 41, 51, 61, 55, 66, 78], 'value_format': 'full', 'budget': 78, 'prob': 0.5, 'name': 'local', 'action_prefix': [9]}, {'value': [0, 28, 40, 31, 45, 55, 49, 60, 70, 64, 75, 86], 'value_format': 'full', 'budget': 86, 'prob': 0.5, 'name': 'local', 'action_prefix': [9]}]}]}\n",
      "Acceptance rate is 9.75610%\n",
      "Starting test for slowness\n"
     ]
    },
    {
     "name": "stderr",
     "output_type": "stream",
     "text": [
      "43it [04:02, 11.89s/it]"
     ]
    },
    {
     "name": "stdout",
     "output_type": "stream",
     "text": [
      "Speed of 4.44 iters/s\n",
      "Cutoff exceeded\n",
      "defaultdict(<class 'int'>, {'There exists a combo that does not sell everything': 23, 'Slow MCCFR iters': 10, 'Not enough competition': 3, 'Worst-case straightfoward too long': 2})\n",
      "Starting test for slowness\n"
     ]
    },
    {
     "name": "stderr",
     "output_type": "stream",
     "text": [
      "44it [04:22, 14.00s/it]"
     ]
    },
    {
     "name": "stdout",
     "output_type": "stream",
     "text": [
      "Speed of 8.90 iters/s\n",
      "Cutoff exceeded\n",
      "defaultdict(<class 'int'>, {'There exists a combo that does not sell everything': 23, 'Slow MCCFR iters': 11, 'Not enough competition': 3, 'Worst-case straightfoward too long': 2})\n"
     ]
    },
    {
     "name": "stderr",
     "output_type": "stream",
     "text": [
      "48it [04:22,  5.76s/it]"
     ]
    },
    {
     "name": "stdout",
     "output_type": "stream",
     "text": [
      "Starting test for slowness\n"
     ]
    },
    {
     "name": "stderr",
     "output_type": "stream",
     "text": [
      "49it [04:42,  8.27s/it]"
     ]
    },
    {
     "name": "stdout",
     "output_type": "stream",
     "text": [
      "Speed of 69.76 iters/s\n",
      "Cutoff exceeded\n",
      "defaultdict(<class 'int'>, {'There exists a combo that does not sell everything': 27, 'Slow MCCFR iters': 12, 'Not enough competition': 3, 'Worst-case straightfoward too long': 2})\n",
      "Starting test for slowness\n"
     ]
    },
    {
     "name": "stderr",
     "output_type": "stream",
     "text": [
      "50it [04:45,  5.70s/it]"
     ]
    },
    {
     "name": "stdout",
     "output_type": "stream",
     "text": [
      "Speed of 857.21 iters/s\n",
      "SUCCESS\n",
      "{'scale': 1000000, 'auction_params': {'increment': 0.3, 'max_rounds': 10, 'heuristic_deviations': 0, 'agent_memory': 10, 'licenses': [3, 2], 'opening_price': [12, 8], 'activity': [12, 8]}, 'bidders': [{'player': 0, 'types': [{'type': 'local', 'value_per_subscriber': {'lower': 30, 'upper': 50}, 'market_share': {'lower': 0.2, 'upper': 0.5}, 'local_regions': [1]}, {'type': 'local', 'value_per_subscriber': {'lower': 30, 'upper': 50}, 'market_share': {'lower': 0.2, 'upper': 0.5}, 'local_regions': [1]}], 'action_prefix': [9]}, {'player': 1, 'types': [{'type': 'local', 'value_per_subscriber': {'lower': 30, 'upper': 50}, 'market_share': {'lower': 0.2, 'upper': 0.5}, 'local_regions': [1]}, {'type': 'local', 'value_per_subscriber': {'lower': 30, 'upper': 50}, 'market_share': {'lower': 0.2, 'upper': 0.5}, 'local_regions': [1]}], 'action_prefix': [9]}], 'sats_seed': 733231651, 'map': 'BCEncumbered'}\n",
      "{'increment': 0.3, 'max_rounds': 10, 'heuristic_deviations': 0, 'agent_memory': 10, 'licenses': [3, 2], 'opening_price': [12, 8], 'activity': [12, 8], 'license_names': ['British Columbia'], 'players': [{'type': [{'value': [0, 18, 26, 21, 28, 35, 31, 37, 42, 39, 44, 49], 'value_format': 'full', 'budget': 49, 'prob': 0.5, 'name': 'local', 'action_prefix': [9]}, {'value': [0, 23, 35, 27, 39, 49, 43, 53, 64, 57, 68, 80], 'value_format': 'full', 'budget': 80, 'prob': 0.5, 'name': 'local', 'action_prefix': [9]}]}, {'type': [{'value': [0, 28, 40, 32, 44, 55, 49, 59, 69, 63, 73, 83], 'value_format': 'full', 'budget': 83, 'prob': 0.5, 'name': 'local', 'action_prefix': [9]}, {'value': [0, 18, 32, 24, 36, 46, 40, 50, 61, 55, 67, 82], 'value_format': 'full', 'budget': 82, 'prob': 0.5, 'name': 'local', 'action_prefix': [9]}]}]}\n",
      "Acceptance rate is 10.00000%\n"
     ]
    },
    {
     "name": "stderr",
     "output_type": "stream",
     "text": [
      "\n"
     ]
    }
   ],
   "source": [
    "# TODO: see more magic constants in the wieldy function\n",
    "\n",
    "failures = defaultdict(int)\n",
    "\n",
    "configs = []\n",
    "base = {\n",
    "    'scale': 1_000_000,\n",
    "    'auction_params': {\n",
    "        'increment': .3,\n",
    "        'max_rounds': 10, \n",
    "        'heuristic_deviations': 0,\n",
    "    },\n",
    "    'bidders': [\n",
    "    ]\n",
    "}\n",
    "base['auction_params']['agent_memory'] = base['auction_params']['max_rounds']\n",
    "\n",
    "iters = 0\n",
    "rng = np.random.default_rng(seed=seed)\n",
    "\n",
    "with tqdm() as pbar:\n",
    "    while len(configs) < N_CONFIGS:\n",
    "        iters += 1\n",
    "        pbar.update(1)\n",
    "\n",
    "        sats_seed = rng.integers(int(1e9))\n",
    "        x = copy.deepcopy(base)\n",
    "        x['sats_seed'] = sats_seed\n",
    "        x['map'] = 'BCEncumbered'\n",
    "\n",
    "        map_generator, bid_to_quantity_matrix = map_generators[x['map']]\n",
    "        selected_map = map_generator()\n",
    "        if bid_to_quantity_matrix is None:\n",
    "            bid_to_quantity_matrix = np.eye(len(selected_map))\n",
    "\n",
    "        num_regions, num_products = bid_to_quantity_matrix.shape\n",
    "        licenses = [3, 2]\n",
    "\n",
    "        ap = x['auction_params']\n",
    "        ap['licenses'] = licenses\n",
    "\n",
    "        license_mhz = 10\n",
    "        mhz_per_pop_open = 0.232 # Real value (for 3800 I think?)\n",
    "\n",
    "        region_opening_prices = np.array([int(np.round(license_mhz * mhz_per_pop_open * node.population / x['scale'])) for node in selected_map])\n",
    "        product_opening_prices = region_opening_prices @ bid_to_quantity_matrix # opening prices of encumbered licenses are proportional to bandwidth\n",
    "        product_opening_prices = np.clip(product_opening_prices, np.min(region_opening_prices) * 0.05, None) # signalling products are worth 5% of cheapest region\n",
    "        product_opening_prices = np.array([int(np.round(p)) for p in product_opening_prices])\n",
    "        ap['opening_price'] = product_opening_prices.tolist()\n",
    "        ap['activity'] = [op for op in ap['opening_price']]\n",
    "\n",
    "        bidders = x['bidders']\n",
    "        n_bidders = rng.integers(MIN_BIDDERS, MAX_BIDDERS + 1)\n",
    "\n",
    "        for j in range(n_bidders):\n",
    "            bidder_types = []\n",
    "            bidders.append({\n",
    "                'player': j,\n",
    "                'types': bidder_types,\n",
    "                'action_prefix': ACTION_PREFIX,\n",
    "            })\n",
    "            for _ in range(rng.integers(MIN_TYPES, MAX_TYPES + 1)):\n",
    "                bidder = {\n",
    "                    'type': 'local',\n",
    "                    'value_per_subscriber': {\n",
    "                        'lower': 30,\n",
    "                        'upper': 50,\n",
    "                    },\n",
    "                    'market_share': {\n",
    "                        'lower': 0.20,\n",
    "                        'upper': 0.50,\n",
    "                    },\n",
    "                    'local_regions': [1],\n",
    "                }\n",
    "\n",
    "                bidder_types.append(bidder)\n",
    "                \n",
    "        retval = test_config_is_wieldy(x, external=external)\n",
    "        if not retval['failed']:\n",
    "            print(\"SUCCESS\")\n",
    "            print(x)\n",
    "            print(retval['sats_config'])\n",
    "            configs.append(x)\n",
    "            with open(output, 'wb') as f: # Will keep overwriting\n",
    "                pickle.dump(configs, f)\n",
    "            print(f\"Acceptance rate is {len(configs) / iters:.5%}\")\n",
    "        else:\n",
    "            failures[retval['failure_reason']] += 1\n",
    "            if retval['failure_reason'] == 'Slow MCCFR iters':\n",
    "                print(failures) "
   ]
  },
  {
   "cell_type": "markdown",
   "id": "dd296159-a376-4e83-b8de-3d8a9c60aca1",
   "metadata": {},
   "source": [
    "# Details about samples"
   ]
  },
  {
   "cell_type": "code",
   "execution_count": 80,
   "id": "1f18fc9c-e375-48f0-b927-de6e8bda6355",
   "metadata": {},
   "outputs": [],
   "source": [
    "with open(output, 'rb') as f:\n",
    "    sampled_configs = pickle.load(f)"
   ]
  },
  {
   "cell_type": "code",
   "execution_count": 81,
   "id": "290a4654-3744-4b94-8080-b3deb6164e44",
   "metadata": {},
   "outputs": [
    {
     "data": {
      "text/plain": [
       "{'scale': 1000000,\n",
       " 'auction_params': {'increment': 0.3,\n",
       "  'max_rounds': 10,\n",
       "  'heuristic_deviations': 0,\n",
       "  'agent_memory': 10,\n",
       "  'licenses': [3, 2],\n",
       "  'opening_price': [12, 8],\n",
       "  'activity': [12, 8]},\n",
       " 'bidders': [{'player': 0,\n",
       "   'types': [{'type': 'local',\n",
       "     'value_per_subscriber': {'lower': 30, 'upper': 50},\n",
       "     'market_share': {'lower': 0.2, 'upper': 0.5},\n",
       "     'local_regions': [1]},\n",
       "    {'type': 'local',\n",
       "     'value_per_subscriber': {'lower': 30, 'upper': 50},\n",
       "     'market_share': {'lower': 0.2, 'upper': 0.5},\n",
       "     'local_regions': [1]}],\n",
       "   'action_prefix': [9]},\n",
       "  {'player': 1,\n",
       "   'types': [{'type': 'local',\n",
       "     'value_per_subscriber': {'lower': 30, 'upper': 50},\n",
       "     'market_share': {'lower': 0.2, 'upper': 0.5},\n",
       "     'local_regions': [1]},\n",
       "    {'type': 'local',\n",
       "     'value_per_subscriber': {'lower': 30, 'upper': 50},\n",
       "     'market_share': {'lower': 0.2, 'upper': 0.5},\n",
       "     'local_regions': [1]}],\n",
       "   'action_prefix': [9]}],\n",
       " 'sats_seed': 795857520,\n",
       " 'map': 'BCEncumbered'}"
      ]
     },
     "execution_count": 81,
     "metadata": {},
     "output_type": "execute_result"
    }
   ],
   "source": [
    "sampled_configs[0]"
   ]
  },
  {
   "cell_type": "code",
   "execution_count": 82,
   "id": "b4a99dc3-05fe-40d9-a270-ca720bc3a2cb",
   "metadata": {},
   "outputs": [],
   "source": [
    "config = sampled_configs[0]\n",
    "with tempfile.NamedTemporaryFile(mode='w+', delete=False) as fp:\n",
    "    sats_config = run_sats(config, fp.name, seed=config['sats_seed'])"
   ]
  },
  {
   "cell_type": "code",
   "execution_count": 83,
   "id": "8b9f2bf5-3ac5-4f97-a7e3-26ed1c49ccf8",
   "metadata": {},
   "outputs": [
    {
     "data": {
      "text/plain": [
       "{'increment': 0.3,\n",
       " 'max_rounds': 10,\n",
       " 'heuristic_deviations': 0,\n",
       " 'agent_memory': 10,\n",
       " 'licenses': [3, 2],\n",
       " 'opening_price': [12, 8],\n",
       " 'activity': [12, 8]}"
      ]
     },
     "execution_count": 83,
     "metadata": {},
     "output_type": "execute_result"
    }
   ],
   "source": [
    "config['auction_params']"
   ]
  },
  {
   "cell_type": "code",
   "execution_count": 73,
   "id": "4283c34c-9553-4d38-ba75-a7768c56cc4e",
   "metadata": {},
   "outputs": [
    {
     "data": {
      "text/plain": [
       "60.84"
      ]
     },
     "execution_count": 73,
     "metadata": {},
     "output_type": "execute_result"
    }
   ],
   "source": [
    "config['auction_params']['opening_price'][0] * 3 * (1 + config['auction_params']['increment'])**2"
   ]
  },
  {
   "cell_type": "code",
   "execution_count": 74,
   "id": "1be8f98c-c45e-481e-b8a7-f529743e7639",
   "metadata": {},
   "outputs": [],
   "source": [
    "bundles = action_to_bundles([3, 2])\n",
    "spectrum_per_license = np.array([1, 0.7]).reshape(-1, 1)\n",
    "bandwidths = (bundles @ spectrum_per_license).flatten()\n",
    "idx = np.argsort(bandwidths)"
   ]
  },
  {
   "cell_type": "code",
   "execution_count": 75,
   "id": "9f2a942a-4b75-4686-8df1-80f267036a3c",
   "metadata": {},
   "outputs": [
    {
     "data": {
      "image/png": "[encoded data removed]",
      "text/plain": [
       "<Figure size 1200x900 with 1 Axes>"
      ]
     },
     "metadata": {
      "needs_background": "light"
     },
     "output_type": "display_data"
    }
   ],
   "source": [
    "for player_id in range(len(sats_config['players'])):\n",
    "    for type_id in range(len(sats_config['players'][player_id]['type'])):\n",
    "        values = np.array(sats_config['players'][player_id]['type'][type_id]['value'])\n",
    "        plt.plot(bandwidths[idx], values[idx], label=f'P{player_id}_{type_id}')\n",
    "        plt.scatter(bandwidths[idx], values[idx], s=4, clip_on=False)\n",
    "plt.legend()\n",
    "plt.xlabel('licenses')\n",
    "plt.ylabel('value')\n",
    "plt.xlim(0, None)\n",
    "plt.ylim(0, None)\n",
    "plt.show()"
   ]
  }
 ],
 "metadata": {
  "kernelspec": {
   "display_name": "Django Shell-Plus",
   "language": "python",
   "name": "django_extensions"
  },
  "language_info": {
   "codemirror_mode": {
    "name": "ipython",
    "version": 3
   },
   "file_extension": ".py",
   "mimetype": "text/x-python",
   "name": "python",
   "nbconvert_exporter": "python",
   "pygments_lexer": "ipython3",
   "version": "3.8.2"
  }
 },
 "nbformat": 4,
 "nbformat_minor": 5
}
