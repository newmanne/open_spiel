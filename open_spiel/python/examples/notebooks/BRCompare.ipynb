{
 "cells": [
  {
   "cell_type": "code",
   "execution_count": 3,
   "id": "3b274c55-cb90-4acc-aeaf-1a79585612a1",
   "metadata": {},
   "outputs": [
    {
     "data": {
      "text/html": [
       "\n",
       "    <div class=\"bk-root\">\n",
       "        <a href=\"https://bokeh.org\" target=\"_blank\" class=\"bk-logo bk-logo-small bk-logo-notebook\"></a>\n",
       "        <span id=\"1002\">Loading BokehJS ...</span>\n",
       "    </div>"
      ]
     },
     "metadata": {},
     "output_type": "display_data"
    },
    {
     "data": {
      "application/javascript": [
       "\n",
       "(function(root) {\n",
       "  function now() {\n",
       "    return new Date();\n",
       "  }\n",
       "\n",
       "  const force = true;\n",
       "\n",
       "  if (typeof root._bokeh_onload_callbacks === \"undefined\" || force === true) {\n",
       "    root._bokeh_onload_callbacks = [];\n",
       "    root._bokeh_is_loading = undefined;\n",
       "  }\n",
       "\n",
       "  const JS_MIME_TYPE = 'application/javascript';\n",
       "  const HTML_MIME_TYPE = 'text/html';\n",
       "  const EXEC_MIME_TYPE = 'application/vnd.bokehjs_exec.v0+json';\n",
       "  const CLASS_NAME = 'output_bokeh rendered_html';\n",
       "\n",
       "  /**\n",
       "   * Render data to the DOM node\n",
       "   */\n",
       "  function render(props, node) {\n",
       "    const script = document.createElement(\"script\");\n",
       "    node.appendChild(script);\n",
       "  }\n",
       "\n",
       "  /**\n",
       "   * Handle when an output is cleared or removed\n",
       "   */\n",
       "  function handleClearOutput(event, handle) {\n",
       "    const cell = handle.cell;\n",
       "\n",
       "    const id = cell.output_area._bokeh_element_id;\n",
       "    const server_id = cell.output_area._bokeh_server_id;\n",
       "    // Clean up Bokeh references\n",
       "    if (id != null && id in Bokeh.index) {\n",
       "      Bokeh.index[id].model.document.clear();\n",
       "      delete Bokeh.index[id];\n",
       "    }\n",
       "\n",
       "    if (server_id !== undefined) {\n",
       "      // Clean up Bokeh references\n",
       "      const cmd_clean = \"from bokeh.io.state import curstate; print(curstate().uuid_to_server['\" + server_id + \"'].get_sessions()[0].document.roots[0]._id)\";\n",
       "      cell.notebook.kernel.execute(cmd_clean, {\n",
       "        iopub: {\n",
       "          output: function(msg) {\n",
       "            const id = msg.content.text.trim();\n",
       "            if (id in Bokeh.index) {\n",
       "              Bokeh.index[id].model.document.clear();\n",
       "              delete Bokeh.index[id];\n",
       "            }\n",
       "          }\n",
       "        }\n",
       "      });\n",
       "      // Destroy server and session\n",
       "      const cmd_destroy = \"import bokeh.io.notebook as ion; ion.destroy_server('\" + server_id + \"')\";\n",
       "      cell.notebook.kernel.execute(cmd_destroy);\n",
       "    }\n",
       "  }\n",
       "\n",
       "  /**\n",
       "   * Handle when a new output is added\n",
       "   */\n",
       "  function handleAddOutput(event, handle) {\n",
       "    const output_area = handle.output_area;\n",
       "    const output = handle.output;\n",
       "\n",
       "    // limit handleAddOutput to display_data with EXEC_MIME_TYPE content only\n",
       "    if ((output.output_type != \"display_data\") || (!Object.prototype.hasOwnProperty.call(output.data, EXEC_MIME_TYPE))) {\n",
       "      return\n",
       "    }\n",
       "\n",
       "    const toinsert = output_area.element.find(\".\" + CLASS_NAME.split(' ')[0]);\n",
       "\n",
       "    if (output.metadata[EXEC_MIME_TYPE][\"id\"] !== undefined) {\n",
       "      toinsert[toinsert.length - 1].firstChild.textContent = output.data[JS_MIME_TYPE];\n",
       "      // store reference to embed id on output_area\n",
       "      output_area._bokeh_element_id = output.metadata[EXEC_MIME_TYPE][\"id\"];\n",
       "    }\n",
       "    if (output.metadata[EXEC_MIME_TYPE][\"server_id\"] !== undefined) {\n",
       "      const bk_div = document.createElement(\"div\");\n",
       "      bk_div.innerHTML = output.data[HTML_MIME_TYPE];\n",
       "      const script_attrs = bk_div.children[0].attributes;\n",
       "      for (let i = 0; i < script_attrs.length; i++) {\n",
       "        toinsert[toinsert.length - 1].firstChild.setAttribute(script_attrs[i].name, script_attrs[i].value);\n",
       "        toinsert[toinsert.length - 1].firstChild.textContent = bk_div.children[0].textContent\n",
       "      }\n",
       "      // store reference to server id on output_area\n",
       "      output_area._bokeh_server_id = output.metadata[EXEC_MIME_TYPE][\"server_id\"];\n",
       "    }\n",
       "  }\n",
       "\n",
       "  function register_renderer(events, OutputArea) {\n",
       "\n",
       "    function append_mime(data, metadata, element) {\n",
       "      // create a DOM node to render to\n",
       "      const toinsert = this.create_output_subarea(\n",
       "        metadata,\n",
       "        CLASS_NAME,\n",
       "        EXEC_MIME_TYPE\n",
       "      );\n",
       "      this.keyboard_manager.register_events(toinsert);\n",
       "      // Render to node\n",
       "      const props = {data: data, metadata: metadata[EXEC_MIME_TYPE]};\n",
       "      render(props, toinsert[toinsert.length - 1]);\n",
       "      element.append(toinsert);\n",
       "      return toinsert\n",
       "    }\n",
       "\n",
       "    /* Handle when an output is cleared or removed */\n",
       "    events.on('clear_output.CodeCell', handleClearOutput);\n",
       "    events.on('delete.Cell', handleClearOutput);\n",
       "\n",
       "    /* Handle when a new output is added */\n",
       "    events.on('output_added.OutputArea', handleAddOutput);\n",
       "\n",
       "    /**\n",
       "     * Register the mime type and append_mime function with output_area\n",
       "     */\n",
       "    OutputArea.prototype.register_mime_type(EXEC_MIME_TYPE, append_mime, {\n",
       "      /* Is output safe? */\n",
       "      safe: true,\n",
       "      /* Index of renderer in `output_area.display_order` */\n",
       "      index: 0\n",
       "    });\n",
       "  }\n",
       "\n",
       "  // register the mime type if in Jupyter Notebook environment and previously unregistered\n",
       "  if (root.Jupyter !== undefined) {\n",
       "    const events = require('base/js/events');\n",
       "    const OutputArea = require('notebook/js/outputarea').OutputArea;\n",
       "\n",
       "    if (OutputArea.prototype.mime_types().indexOf(EXEC_MIME_TYPE) == -1) {\n",
       "      register_renderer(events, OutputArea);\n",
       "    }\n",
       "  }\n",
       "\n",
       "  \n",
       "  if (typeof (root._bokeh_timeout) === \"undefined\" || force === true) {\n",
       "    root._bokeh_timeout = Date.now() + 5000;\n",
       "    root._bokeh_failed_load = false;\n",
       "  }\n",
       "\n",
       "  const NB_LOAD_WARNING = {'data': {'text/html':\n",
       "     \"<div style='background-color: #fdd'>\\n\"+\n",
       "     \"<p>\\n\"+\n",
       "     \"BokehJS does not appear to have successfully loaded. If loading BokehJS from CDN, this \\n\"+\n",
       "     \"may be due to a slow or bad network connection. Possible fixes:\\n\"+\n",
       "     \"</p>\\n\"+\n",
       "     \"<ul>\\n\"+\n",
       "     \"<li>re-rerun `output_notebook()` to attempt to load from CDN again, or</li>\\n\"+\n",
       "     \"<li>use INLINE resources instead, as so:</li>\\n\"+\n",
       "     \"</ul>\\n\"+\n",
       "     \"<code>\\n\"+\n",
       "     \"from bokeh.resources import INLINE\\n\"+\n",
       "     \"output_notebook(resources=INLINE)\\n\"+\n",
       "     \"</code>\\n\"+\n",
       "     \"</div>\"}};\n",
       "\n",
       "  function display_loaded() {\n",
       "    const el = document.getElementById(\"1002\");\n",
       "    if (el != null) {\n",
       "      el.textContent = \"BokehJS is loading...\";\n",
       "    }\n",
       "    if (root.Bokeh !== undefined) {\n",
       "      if (el != null) {\n",
       "        el.textContent = \"BokehJS \" + root.Bokeh.version + \" successfully loaded.\";\n",
       "      }\n",
       "    } else if (Date.now() < root._bokeh_timeout) {\n",
       "      setTimeout(display_loaded, 100)\n",
       "    }\n",
       "  }\n",
       "\n",
       "\n",
       "  function run_callbacks() {\n",
       "    try {\n",
       "      root._bokeh_onload_callbacks.forEach(function(callback) {\n",
       "        if (callback != null)\n",
       "          callback();\n",
       "      });\n",
       "    } finally {\n",
       "      delete root._bokeh_onload_callbacks\n",
       "    }\n",
       "    console.debug(\"Bokeh: all callbacks have finished\");\n",
       "  }\n",
       "\n",
       "  function load_libs(css_urls, js_urls, callback) {\n",
       "    if (css_urls == null) css_urls = [];\n",
       "    if (js_urls == null) js_urls = [];\n",
       "\n",
       "    root._bokeh_onload_callbacks.push(callback);\n",
       "    if (root._bokeh_is_loading > 0) {\n",
       "      console.debug(\"Bokeh: BokehJS is being loaded, scheduling callback at\", now());\n",
       "      return null;\n",
       "    }\n",
       "    if (js_urls == null || js_urls.length === 0) {\n",
       "      run_callbacks();\n",
       "      return null;\n",
       "    }\n",
       "    console.debug(\"Bokeh: BokehJS not loaded, scheduling load and callback at\", now());\n",
       "    root._bokeh_is_loading = css_urls.length + js_urls.length;\n",
       "\n",
       "    function on_load() {\n",
       "      root._bokeh_is_loading--;\n",
       "      if (root._bokeh_is_loading === 0) {\n",
       "        console.debug(\"Bokeh: all BokehJS libraries/stylesheets loaded\");\n",
       "        run_callbacks()\n",
       "      }\n",
       "    }\n",
       "\n",
       "    function on_error(url) {\n",
       "      console.error(\"failed to load \" + url);\n",
       "    }\n",
       "\n",
       "    for (let i = 0; i < css_urls.length; i++) {\n",
       "      const url = css_urls[i];\n",
       "      const element = document.createElement(\"link\");\n",
       "      element.onload = on_load;\n",
       "      element.onerror = on_error.bind(null, url);\n",
       "      element.rel = \"stylesheet\";\n",
       "      element.type = \"text/css\";\n",
       "      element.href = url;\n",
       "      console.debug(\"Bokeh: injecting link tag for BokehJS stylesheet: \", url);\n",
       "      document.body.appendChild(element);\n",
       "    }\n",
       "\n",
       "    for (let i = 0; i < js_urls.length; i++) {\n",
       "      const url = js_urls[i];\n",
       "      const element = document.createElement('script');\n",
       "      element.onload = on_load;\n",
       "      element.onerror = on_error.bind(null, url);\n",
       "      element.async = false;\n",
       "      element.src = url;\n",
       "      console.debug(\"Bokeh: injecting script tag for BokehJS library: \", url);\n",
       "      document.head.appendChild(element);\n",
       "    }\n",
       "  };\n",
       "\n",
       "  function inject_raw_css(css) {\n",
       "    const element = document.createElement(\"style\");\n",
       "    element.appendChild(document.createTextNode(css));\n",
       "    document.body.appendChild(element);\n",
       "  }\n",
       "\n",
       "  \n",
       "  const js_urls = [\"https://cdn.bokeh.org/bokeh/release/bokeh-2.4.2.min.js\", \"https://cdn.bokeh.org/bokeh/release/bokeh-gl-2.4.2.min.js\", \"https://cdn.bokeh.org/bokeh/release/bokeh-widgets-2.4.2.min.js\", \"https://cdn.bokeh.org/bokeh/release/bokeh-tables-2.4.2.min.js\", \"https://cdn.bokeh.org/bokeh/release/bokeh-mathjax-2.4.2.min.js\"];\n",
       "  const css_urls = [];\n",
       "  \n",
       "\n",
       "  const inline_js = [\n",
       "    function(Bokeh) {\n",
       "      Bokeh.set_log_level(\"info\");\n",
       "    },\n",
       "    function(Bokeh) {\n",
       "    \n",
       "    \n",
       "    }\n",
       "  ];\n",
       "\n",
       "  function run_inline_js() {\n",
       "    \n",
       "    if (root.Bokeh !== undefined || force === true) {\n",
       "      \n",
       "    for (let i = 0; i < inline_js.length; i++) {\n",
       "      inline_js[i].call(root, root.Bokeh);\n",
       "    }\n",
       "    if (force === true) {\n",
       "        display_loaded();\n",
       "      }} else if (Date.now() < root._bokeh_timeout) {\n",
       "      setTimeout(run_inline_js, 100);\n",
       "    } else if (!root._bokeh_failed_load) {\n",
       "      console.log(\"Bokeh: BokehJS failed to load within specified timeout.\");\n",
       "      root._bokeh_failed_load = true;\n",
       "    } else if (force !== true) {\n",
       "      const cell = $(document.getElementById(\"1002\")).parents('.cell').data().cell;\n",
       "      cell.output_area.append_execute_result(NB_LOAD_WARNING)\n",
       "    }\n",
       "\n",
       "  }\n",
       "\n",
       "  if (root._bokeh_is_loading === 0) {\n",
       "    console.debug(\"Bokeh: BokehJS loaded, going straight to plotting\");\n",
       "    run_inline_js();\n",
       "  } else {\n",
       "    load_libs(css_urls, js_urls, function() {\n",
       "      console.debug(\"Bokeh: BokehJS plotting callback run at\", now());\n",
       "      run_inline_js();\n",
       "    });\n",
       "  }\n",
       "}(window));"
      ],
      "application/vnd.bokehjs_load.v0+json": "\n(function(root) {\n  function now() {\n    return new Date();\n  }\n\n  const force = true;\n\n  if (typeof root._bokeh_onload_callbacks === \"undefined\" || force === true) {\n    root._bokeh_onload_callbacks = [];\n    root._bokeh_is_loading = undefined;\n  }\n\n  \n\n  \n  if (typeof (root._bokeh_timeout) === \"undefined\" || force === true) {\n    root._bokeh_timeout = Date.now() + 5000;\n    root._bokeh_failed_load = false;\n  }\n\n  const NB_LOAD_WARNING = {'data': {'text/html':\n     \"<div style='background-color: #fdd'>\\n\"+\n     \"<p>\\n\"+\n     \"BokehJS does not appear to have successfully loaded. If loading BokehJS from CDN, this \\n\"+\n     \"may be due to a slow or bad network connection. Possible fixes:\\n\"+\n     \"</p>\\n\"+\n     \"<ul>\\n\"+\n     \"<li>re-rerun `output_notebook()` to attempt to load from CDN again, or</li>\\n\"+\n     \"<li>use INLINE resources instead, as so:</li>\\n\"+\n     \"</ul>\\n\"+\n     \"<code>\\n\"+\n     \"from bokeh.resources import INLINE\\n\"+\n     \"output_notebook(resources=INLINE)\\n\"+\n     \"</code>\\n\"+\n     \"</div>\"}};\n\n  function display_loaded() {\n    const el = document.getElementById(\"1002\");\n    if (el != null) {\n      el.textContent = \"BokehJS is loading...\";\n    }\n    if (root.Bokeh !== undefined) {\n      if (el != null) {\n        el.textContent = \"BokehJS \" + root.Bokeh.version + \" successfully loaded.\";\n      }\n    } else if (Date.now() < root._bokeh_timeout) {\n      setTimeout(display_loaded, 100)\n    }\n  }\n\n\n  function run_callbacks() {\n    try {\n      root._bokeh_onload_callbacks.forEach(function(callback) {\n        if (callback != null)\n          callback();\n      });\n    } finally {\n      delete root._bokeh_onload_callbacks\n    }\n    console.debug(\"Bokeh: all callbacks have finished\");\n  }\n\n  function load_libs(css_urls, js_urls, callback) {\n    if (css_urls == null) css_urls = [];\n    if (js_urls == null) js_urls = [];\n\n    root._bokeh_onload_callbacks.push(callback);\n    if (root._bokeh_is_loading > 0) {\n      console.debug(\"Bokeh: BokehJS is being loaded, scheduling callback at\", now());\n      return null;\n    }\n    if (js_urls == null || js_urls.length === 0) {\n      run_callbacks();\n      return null;\n    }\n    console.debug(\"Bokeh: BokehJS not loaded, scheduling load and callback at\", now());\n    root._bokeh_is_loading = css_urls.length + js_urls.length;\n\n    function on_load() {\n      root._bokeh_is_loading--;\n      if (root._bokeh_is_loading === 0) {\n        console.debug(\"Bokeh: all BokehJS libraries/stylesheets loaded\");\n        run_callbacks()\n      }\n    }\n\n    function on_error(url) {\n      console.error(\"failed to load \" + url);\n    }\n\n    for (let i = 0; i < css_urls.length; i++) {\n      const url = css_urls[i];\n      const element = document.createElement(\"link\");\n      element.onload = on_load;\n      element.onerror = on_error.bind(null, url);\n      element.rel = \"stylesheet\";\n      element.type = \"text/css\";\n      element.href = url;\n      console.debug(\"Bokeh: injecting link tag for BokehJS stylesheet: \", url);\n      document.body.appendChild(element);\n    }\n\n    for (let i = 0; i < js_urls.length; i++) {\n      const url = js_urls[i];\n      const element = document.createElement('script');\n      element.onload = on_load;\n      element.onerror = on_error.bind(null, url);\n      element.async = false;\n      element.src = url;\n      console.debug(\"Bokeh: injecting script tag for BokehJS library: \", url);\n      document.head.appendChild(element);\n    }\n  };\n\n  function inject_raw_css(css) {\n    const element = document.createElement(\"style\");\n    element.appendChild(document.createTextNode(css));\n    document.body.appendChild(element);\n  }\n\n  \n  const js_urls = [\"https://cdn.bokeh.org/bokeh/release/bokeh-2.4.2.min.js\", \"https://cdn.bokeh.org/bokeh/release/bokeh-gl-2.4.2.min.js\", \"https://cdn.bokeh.org/bokeh/release/bokeh-widgets-2.4.2.min.js\", \"https://cdn.bokeh.org/bokeh/release/bokeh-tables-2.4.2.min.js\", \"https://cdn.bokeh.org/bokeh/release/bokeh-mathjax-2.4.2.min.js\"];\n  const css_urls = [];\n  \n\n  const inline_js = [\n    function(Bokeh) {\n      Bokeh.set_log_level(\"info\");\n    },\n    function(Bokeh) {\n    \n    \n    }\n  ];\n\n  function run_inline_js() {\n    \n    if (root.Bokeh !== undefined || force === true) {\n      \n    for (let i = 0; i < inline_js.length; i++) {\n      inline_js[i].call(root, root.Bokeh);\n    }\n    if (force === true) {\n        display_loaded();\n      }} else if (Date.now() < root._bokeh_timeout) {\n      setTimeout(run_inline_js, 100);\n    } else if (!root._bokeh_failed_load) {\n      console.log(\"Bokeh: BokehJS failed to load within specified timeout.\");\n      root._bokeh_failed_load = true;\n    } else if (force !== true) {\n      const cell = $(document.getElementById(\"1002\")).parents('.cell').data().cell;\n      cell.output_area.append_execute_result(NB_LOAD_WARNING)\n    }\n\n  }\n\n  if (root._bokeh_is_loading === 0) {\n    console.debug(\"Bokeh: BokehJS loaded, going straight to plotting\");\n    run_inline_js();\n  } else {\n    load_libs(css_urls, js_urls, function() {\n      console.debug(\"Bokeh: BokehJS plotting callback run at\", now());\n      run_inline_js();\n    });\n  }\n}(window));"
     },
     "metadata": {},
     "output_type": "display_data"
    }
   ],
   "source": [
    "%load_ext autoreload\n",
    "%autoreload 2\n",
    "%matplotlib inline\n",
    "\n",
    "import sys\n",
    "import glob\n",
    "import pandas as pd\n",
    "import os\n",
    "import seaborn as sns\n",
    "\n",
    "from tqdm import tqdm\n",
    "from statsmodels.distributions.empirical_distribution import ECDF\n",
    "from collections import defaultdict\n",
    "import pickle\n",
    "import re\n",
    "import json\n",
    "from pathlib import Path\n",
    "\n",
    "\n",
    "from open_spiel.python.algorithms.exploitability import nash_conv, best_response\n",
    "from open_spiel.python.examples.ubc_plotting_utils import *\n",
    "from open_spiel.python.examples.ubc_sample_game_tree import sample_game_tree, flatten_trees, flatten_tree\n",
    "from open_spiel.python.examples.ubc_clusters import projectPCA, projectUMAP, fitGMM\n",
    "\n",
    "from auctions.webutils import *\n",
    "\n",
    "from scipy.stats import loguniform\n",
    "import copy\n",
    "\n",
    "import bokeh\n",
    "from bokeh.layouts import row, column\n",
    "from bokeh.plotting import figure, show, output_file, save\n",
    "from bokeh.io import output_notebook\n",
    "from bokeh.models import HoverTool, ColumnDataSource, ColorBar, LogColorMapper, LinearColorMapper\n",
    "from bokeh.transform import linear_cmap, log_cmap\n",
    "from bokeh.palettes import Magma256\n",
    "os.environ[\"DJANGO_ALLOW_ASYNC_UNSAFE\"] = \"true\"\n",
    "\n",
    "output_notebook()\n"
   ]
  },
  {
   "cell_type": "code",
   "execution_count": 28,
   "id": "c3dc6000-a50a-4a4a-ba9c-a05c74d00209",
   "metadata": {},
   "outputs": [],
   "source": [
    "# Question 1: What is the NashConv of each run?\n",
    "\n",
    "checkpoint = EquilibriumSolverRunCheckpoint.objects.last()"
   ]
  },
  {
   "cell_type": "code",
   "execution_count": 29,
   "id": "e3d93cd5-14b9-446f-8086-c521c9c6d5a3",
   "metadata": {},
   "outputs": [],
   "source": [
    "policy = pickle.loads(checkpoint.policy)"
   ]
  },
  {
   "cell_type": "code",
   "execution_count": 30,
   "id": "f992137b-e97b-4e34-84de-3d154515b738",
   "metadata": {},
   "outputs": [
    {
     "data": {
      "text/plain": [
       "torch.Size([200, 200])"
      ]
     },
     "execution_count": 30,
     "metadata": {},
     "output_type": "execute_result"
    }
   ],
   "source": [
    "policy[0]['ppo_network']['critic.2.weight'].shape"
   ]
  },
  {
   "cell_type": "code",
   "execution_count": 56,
   "id": "783618e0-f59a-4471-836a-23a558b78b61",
   "metadata": {},
   "outputs": [],
   "source": [
    "all_eq_pks = EquilibriumSolverRunCheckpoint.objects.filter(equilibrium_solver_run__experiment__name='confused_national_wide_test_with_gpu', t__gte=10_000).values_list('pk', flat=True)"
   ]
  },
  {
   "cell_type": "code",
   "execution_count": 130,
   "id": "aae20ecf-3fb3-4410-8fb5-2f52976a1ed3",
   "metadata": {},
   "outputs": [
    {
     "data": {
      "text/plain": [
       "array([5520])"
      ]
     },
     "execution_count": 130,
     "metadata": {},
     "output_type": "execute_result"
    }
   ],
   "source": [
    "np.random.choice(all_eq_pks, size=1, replace=False)"
   ]
  },
  {
   "cell_type": "code",
   "execution_count": 132,
   "id": "acd014fd-c11c-4c7f-b81d-1759ea84600c",
   "metadata": {},
   "outputs": [],
   "source": [
    "checkpoints = EquilibriumSolverRunCheckpoint.objects.filter(pk__in=pks)"
   ]
  },
  {
   "cell_type": "code",
   "execution_count": 134,
   "id": "2035f685-76b0-4f3c-903b-a624a8af26ba",
   "metadata": {},
   "outputs": [
    {
     "data": {
      "text/plain": [
       "<EquilibriumSolverRunCheckpoint: confused_national-nov18ppo_potential_pricing-102 (confused_national_wide_test_with_gpu) Iteration 2560000>"
      ]
     },
     "execution_count": 134,
     "metadata": {},
     "output_type": "execute_result"
    }
   ],
   "source": [
    "EquilibriumSolverRunCheckpoint.objects.get(pk__in=[5520])"
   ]
  },
  {
   "cell_type": "code",
   "execution_count": 133,
   "id": "aa83ce55-4120-4c1a-881f-548ccdbeaa15",
   "metadata": {},
   "outputs": [
    {
     "data": {
      "text/plain": [
       "<QuerySet [<EquilibriumSolverRunCheckpoint: confused_national-aug11ppo_potential_length-100 (confused_national_wide_test_with_gpu) Iteration 2560000>, <EquilibriumSolverRunCheckpoint: confused_national-nov18ppo_potential_pricing-102 (confused_national_wide_test_with_gpu) Iteration 2560000>, <EquilibriumSolverRunCheckpoint: confused_national_with_undersell-nov18ppo_potential_revenue-101 (confused_national_wide_test_with_gpu) Iteration 7680000>]>"
      ]
     },
     "execution_count": 133,
     "metadata": {},
     "output_type": "execute_result"
    }
   ],
   "source": [
    "checkpoints"
   ]
  },
  {
   "cell_type": "code",
   "execution_count": 276,
   "id": "d154099d-d940-4910-8a1c-9672f071ca45",
   "metadata": {},
   "outputs": [],
   "source": [
    "pks = np.array([5347, 5592, 5520])\n",
    "# pks = np.array([5520])\n"
   ]
  },
  {
   "cell_type": "code",
   "execution_count": null,
   "id": "0ae89ce4-a93e-4552-8d7c-79f163e13d7a",
   "metadata": {},
   "outputs": [],
   "source": [
    "# from open_spiel.python.examples.ubc_dispatch import *\n",
    "\n",
    "# for checkpoint in checkpoints:\n",
    "#     experiment_name = checkpoint.equilibrium_solver_run.experiment.name\n",
    "#     run_name = checkpoint.equilibrium_solver_run.name\n",
    "#     t = checkpoint.t\n",
    "#     configs = 'nov22'\n",
    "#     for br_player in range(2):\n",
    "#         dispatch_br_database(experiment_name, run_name, t, br_player, configs, submit=True, mem=32, overrides='--total_timesteps 1_000_000')"
   ]
  },
  {
   "cell_type": "code",
   "execution_count": 269,
   "id": "e0ed9e3e-9b86-4061-b1b6-2d72c0233a61",
   "metadata": {},
   "outputs": [],
   "source": [
    "### CONFIG GENERATOR\n",
    "\n",
    "base = yaml.safe_load(open('configs/nov21/ppo_default.yml'))"
   ]
  },
  {
   "cell_type": "code",
   "execution_count": 273,
   "id": "3fca8d7b-7ff9-49b6-878a-5fa9b88ad857",
   "metadata": {},
   "outputs": [],
   "source": [
    "N_CONFIGS = 100\n",
    "\n",
    "configs = []\n",
    "\n",
    "\n",
    "# TODO: NUM_ANNEALING_UPDATES\n",
    "\n",
    "for _ in range(N_CONFIGS):\n",
    "    x = copy.deepcopy(base)\n",
    "    \n",
    "    x['steps_per_batch'] = int(np.random.choice([64, 128, 256, 512]))\n",
    "    x['num_minibatches'] = int(np.random.choice([2, 4, 8]))\n",
    "    x['update_epochs'] = int(np.random.choice([2, 4, 8]))\n",
    "    x['learning_rate'] = float(np.random.choice([1e-5, 1e-4, 1-3, 3e-5, 3e-4, 3e-3]))\n",
    "    x['gae'] = bool(np.random.choice([True, False]))\n",
    "    x['gamma'] = float(np.random.uniform(0.8, 1.))\n",
    "    x['anneal_lr'] = bool(np.random.choice([True, False]))\n",
    "    x['gae_lambda'] = float(np.random.uniform(0.8, 1.))\n",
    "    x['clip_coef'] = float(loguniform.rvs(0.001, .07, size=1)[0])\n",
    "    x['clip_vloss'] = bool(np.random.choice([True, False]))\n",
    "    x['entropy_coef'] = float(loguniform.rvs(0.001, .1, size=1)[0])\n",
    "    x['value_coef'] = float(loguniform.rvs(0.1, 1.5, size=1)[0])\n",
    "    x['num_envs'] = int(np.random.choice([4, 8, 16]))\n",
    "    \n",
    "    agent_kwargs = dict()\n",
    "    agent_kwargs['actor_activation'] = str(np.random.choice(['relu', 'tanh']))\n",
    "    agent_kwargs['critic_activation'] = str(np.random.choice(['relu', 'tanh']))\n",
    "    agent_kwargs['actor_hidden_sizes'] = np.random.choice(np.array([\n",
    "        [64, 64], [128, 128], [256, 256], [64, 64, 64], [128, 128, 128], [256, 256, 256],\n",
    "    ], dtype=object))\n",
    "    agent_kwargs['critic_hidden_sizes'] = np.random.choice(np.array([\n",
    "        [64, 64], [128, 128], [256, 256], [64, 64, 64], [128, 128, 128], [256, 256, 256],\n",
    "    ], dtype=object))\n",
    "    x['agent_fn_kwargs'] = agent_kwargs\n",
    "    \n",
    "    configs.append(x)"
   ]
  },
  {
   "cell_type": "code",
   "execution_count": 275,
   "id": "dbe0dc42-f239-4f14-9e55-427bcaf8a716",
   "metadata": {},
   "outputs": [],
   "source": [
    "for i, config in enumerate(configs):\n",
    "    yaml.dump(config, open(f'configs/nov22/ppo_{i}.yml', 'w'))\n",
    "    "
   ]
  },
  {
   "cell_type": "code",
   "execution_count": 346,
   "id": "e4a27022-7a91-4cfa-a876-8b39ed0c5fd7",
   "metadata": {},
   "outputs": [],
   "source": [
    "pks = np.array([5347, 5592, 5520])\n"
   ]
  },
  {
   "cell_type": "code",
   "execution_count": 347,
   "id": "5f96887c-91d9-4794-89d5-a39dff9dad61",
   "metadata": {},
   "outputs": [],
   "source": [
    "# Load all of the BRs for a given config\n",
    "dfs = []\n",
    "for pk in pks:\n",
    "    checkpoint = EquilibriumSolverRunCheckpoint.objects.get(pk=pk)\n",
    "    df = parse_run(checkpoint.equilibrium_solver_run)\n",
    "    # Remove bad checkopints\n",
    "    df = df.query(f't == {df[\"t\"].value_counts().idxmax()}')\n",
    "    dfs.append(df)"
   ]
  },
  {
   "cell_type": "code",
   "execution_count": 348,
   "id": "b7616481-bc6c-4e8d-8f7f-8dd7b27567c4",
   "metadata": {},
   "outputs": [],
   "source": [
    "master_df = pd.concat((*dfs,))"
   ]
  },
  {
   "cell_type": "code",
   "execution_count": 349,
   "id": "5bc83b1c-36fa-473a-81ad-fea363fc728f",
   "metadata": {},
   "outputs": [
    {
     "name": "stdout",
     "output_type": "stream",
     "text": [
      "191\n"
     ]
    },
    {
     "data": {
      "text/plain": [
       "190"
      ]
     },
     "execution_count": 349,
     "metadata": {},
     "output_type": "execute_result"
    }
   ],
   "source": [
    "print(master_df['name'].nunique())\n",
    "master_df['freq'] = master_df['name'].map(master_df['name'].value_counts())\n",
    "master_df = master_df.query('freq >= 4')\n",
    "del master_df['freq']\n",
    "master_df['name'].nunique()"
   ]
  },
  {
   "cell_type": "code",
   "execution_count": 350,
   "id": "75a91692-284e-411a-860f-aba0569c5702",
   "metadata": {},
   "outputs": [],
   "source": [
    "sub_frames = []\n",
    "for _, sub_df in master_df.query('not name.isnull() and player == br_player', engine='python').groupby(['model', 't']):\n",
    "    sub_df = sub_df[['name', 'MaxPositiveRegret', 'Regret']].copy()\n",
    "    sub_df['Δ to Best Known Response'] = sub_df['Regret'] - sub_df['MaxPositiveRegret']\n",
    "    sub_df = sub_df[['name', 'Δ to Best Known Response']]\n",
    "    sub_df['name'] = sub_df['name'].str.replace('_', ' ').str.strip()\n",
    "    sub_frames.append(sub_df)\n",
    "distance_frame = pd.concat(sub_frames)\n"
   ]
  },
  {
   "cell_type": "code",
   "execution_count": 351,
   "id": "0daa68d2-3f46-4dd2-a613-2089193e06b7",
   "metadata": {},
   "outputs": [
    {
     "name": "stdout",
     "output_type": "stream",
     "text": [
      "-281.33012712166965\n"
     ]
    }
   ],
   "source": [
    "# Only show those near the current defaults\n",
    "target_mean = distance_frame.query('name == \"nov21/ppo default\"')['Δ to Best Known Response'].mean()\n",
    "fudge = 200\n",
    "print(target_mean)\n",
    "distance_frame = distance_frame.groupby('name').filter(lambda x: x['Δ to Best Known Response'].mean() >= target_mean - 500)"
   ]
  },
  {
   "cell_type": "code",
   "execution_count": 352,
   "id": "a71381b3-44f8-4d03-9dee-2b07a4c2bc1f",
   "metadata": {},
   "outputs": [],
   "source": [
    "distance_frame['median'] = distance_frame['name'].map(distance_frame.groupby('name')['Δ to Best Known Response'].median().sort_values(ascending=False))\n",
    "distance_frame = distance_frame.sort_values('median')\n",
    "del distance_frame['median']"
   ]
  },
  {
   "cell_type": "code",
   "execution_count": 353,
   "id": "277c3ac4-7693-4027-90df-e7d5d673e461",
   "metadata": {},
   "outputs": [
    {
     "data": {
      "text/plain": [
       "[Text(0, 0, 'nov21/ppo 84'),\n",
       " Text(1, 0, 'nov21/ppo 0'),\n",
       " Text(2, 0, 'nov21/ppo 18'),\n",
       " Text(3, 0, 'nov22/ppo 82'),\n",
       " Text(4, 0, 'nov22/ppo 28'),\n",
       " Text(5, 0, 'nov22/ppo 49'),\n",
       " Text(6, 0, 'nov21/ppo 75'),\n",
       " Text(7, 0, 'nov22/ppo 80'),\n",
       " Text(8, 0, 'nov22/ppo 89'),\n",
       " Text(9, 0, 'nov21/ppo 38'),\n",
       " Text(10, 0, 'nov21/ppo 96'),\n",
       " Text(11, 0, 'nov22/ppo 27'),\n",
       " Text(12, 0, 'nov22/ppo 53'),\n",
       " Text(13, 0, 'nov22/ppo 43'),\n",
       " Text(14, 0, 'nov22/ppo 20'),\n",
       " Text(15, 0, 'nov21/ppo 42'),\n",
       " Text(16, 0, 'nov21/ppo 93'),\n",
       " Text(17, 0, 'nov21/ppo 24'),\n",
       " Text(18, 0, 'nov21/ppo 53'),\n",
       " Text(19, 0, 'nov22/ppo 25'),\n",
       " Text(20, 0, 'nov21/ppo 61'),\n",
       " Text(21, 0, 'nov22/ppo 23'),\n",
       " Text(22, 0, 'nov22/ppo 32'),\n",
       " Text(23, 0, 'nov21/ppo 52'),\n",
       " Text(24, 0, 'nov22/ppo 90'),\n",
       " Text(25, 0, 'nov22/ppo 93'),\n",
       " Text(26, 0, 'nov21/ppo 28'),\n",
       " Text(27, 0, 'nov22/ppo 79'),\n",
       " Text(28, 0, 'nov21/ppo 11'),\n",
       " Text(29, 0, 'nov21/ppo 7'),\n",
       " Text(30, 0, 'nov21/ppo 10'),\n",
       " Text(31, 0, 'nov21/ppo 76'),\n",
       " Text(32, 0, 'nov21/ppo 60'),\n",
       " Text(33, 0, 'nov22/ppo 33'),\n",
       " Text(34, 0, 'nov22/ppo 86'),\n",
       " Text(35, 0, 'nov22/ppo 59'),\n",
       " Text(36, 0, 'nov22/ppo 78'),\n",
       " Text(37, 0, 'nov22/ppo 66'),\n",
       " Text(38, 0, 'nov21/ppo 68'),\n",
       " Text(39, 0, 'nov22/ppo 81'),\n",
       " Text(40, 0, 'nov21/ppo 4'),\n",
       " Text(41, 0, 'nov21/ppo 15'),\n",
       " Text(42, 0, 'nov22/ppo 3'),\n",
       " Text(43, 0, 'nov21/ppo 26'),\n",
       " Text(44, 0, 'nov21/ppo 85'),\n",
       " Text(45, 0, 'nov21/ppo 97'),\n",
       " Text(46, 0, 'nov21/ppo 46'),\n",
       " Text(47, 0, 'nov22/ppo 92'),\n",
       " Text(48, 0, 'nov21/ppo default'),\n",
       " Text(49, 0, 'nov22/ppo 2'),\n",
       " Text(50, 0, 'nov22/ppo 29'),\n",
       " Text(51, 0, 'nov22/ppo 91'),\n",
       " Text(52, 0, 'nov21/ppo 22'),\n",
       " Text(53, 0, 'nov21/ppo'),\n",
       " Text(54, 0, 'nov22/ppo 13'),\n",
       " Text(55, 0, 'nov21/ppo n'),\n",
       " Text(56, 0, 'nov18 br/ppo'),\n",
       " Text(57, 0, 'nov21/ppo 21'),\n",
       " Text(58, 0, 'nov21/ppo 3')]"
      ]
     },
     "execution_count": 353,
     "metadata": {},
     "output_type": "execute_result"
    },
    {
     "data": {
      "image/png": "[encoded data removed]",
      "text/plain": [
       "<Figure size 2160x648 with 1 Axes>"
      ]
     },
     "metadata": {},
     "output_type": "display_data"
    }
   ],
   "source": [
    "sns.set_theme(style=\"ticks\", palette=\"pastel\", font_scale=2)\n",
    "\n",
    "# Draw a nested boxplot \n",
    "fig = plt.figure(figsize=(30, 9))\n",
    "# sns.ecdfplot(hue=\"config\", x=\"Δ to Best Known Response\", data=distance_frame.sort_values('config'))\n",
    "ax = sns.boxplot(x=\"name\", y=\"Δ to Best Known Response\", data=distance_frame)\n",
    "ax.set_xticklabels(ax.get_xticklabels(),rotation = 90)"
   ]
  },
  {
   "cell_type": "code",
   "execution_count": null,
   "id": "61cbca61-611a-43e8-9e91-bf3a4bd01087",
   "metadata": {},
   "outputs": [],
   "source": []
  },
  {
   "cell_type": "code",
   "execution_count": 4,
   "id": "a0020376-1e5c-4784-b765-075db6bbd3f9",
   "metadata": {},
   "outputs": [],
   "source": [
    "checkpoint = EquilibriumSolverRunCheckpoint.objects.get(equilibrium_solver_run__name='confused_national-nov23ppo_3_neg_revenue-101')\n",
    "df = parse_run(checkpoint.equilibrium_solver_run)\n"
   ]
  },
  {
   "cell_type": "code",
   "execution_count": 7,
   "id": "26ec6cf6-1981-4570-af8d-4b4b2cc56733",
   "metadata": {},
   "outputs": [
    {
     "data": {
      "text/html": [
       "<div>\n",
       "<style scoped>\n",
       "    .dataframe tbody tr th:only-of-type {\n",
       "        vertical-align: middle;\n",
       "    }\n",
       "\n",
       "    .dataframe tbody tr th {\n",
       "        vertical-align: top;\n",
       "    }\n",
       "\n",
       "    .dataframe thead th {\n",
       "        text-align: right;\n",
       "    }\n",
       "</style>\n",
       "<table border=\"1\" class=\"dataframe\">\n",
       "  <thead>\n",
       "    <tr style=\"text-align: right;\">\n",
       "      <th></th>\n",
       "      <th>t</th>\n",
       "      <th>name</th>\n",
       "      <th>reward</th>\n",
       "      <th>br_player</th>\n",
       "      <th>player</th>\n",
       "      <th>median_length</th>\n",
       "      <th>Baseline</th>\n",
       "      <th>Regret</th>\n",
       "      <th>PositiveRegret</th>\n",
       "      <th>MaxPositiveRegret</th>\n",
       "      <th>ApproxNashConv</th>\n",
       "      <th>num_players</th>\n",
       "      <th>model</th>\n",
       "      <th>game</th>\n",
       "    </tr>\n",
       "  </thead>\n",
       "  <tbody>\n",
       "    <tr>\n",
       "      <th>1</th>\n",
       "      <td>2499968</td>\n",
       "      <td>nov23br/ppo_3</td>\n",
       "      <td>4643.864873</td>\n",
       "      <td>0</td>\n",
       "      <td>0</td>\n",
       "      <td>NaN</td>\n",
       "      <td>4649.953152</td>\n",
       "      <td>-6.088279</td>\n",
       "      <td>0.0</td>\n",
       "      <td>0.0</td>\n",
       "      <td>0.0</td>\n",
       "      <td>2</td>\n",
       "      <td>confused_national-nov23ppo_3_neg_revenue-101</td>\n",
       "      <td>confused_national.json</td>\n",
       "    </tr>\n",
       "    <tr>\n",
       "      <th>2</th>\n",
       "      <td>2499968</td>\n",
       "      <td>None</td>\n",
       "      <td>4649.953152</td>\n",
       "      <td>None</td>\n",
       "      <td>0</td>\n",
       "      <td>5.0</td>\n",
       "      <td>4649.953152</td>\n",
       "      <td>0.000000</td>\n",
       "      <td>0.0</td>\n",
       "      <td>0.0</td>\n",
       "      <td>0.0</td>\n",
       "      <td>2</td>\n",
       "      <td>confused_national-nov23ppo_3_neg_revenue-101</td>\n",
       "      <td>confused_national.json</td>\n",
       "    </tr>\n",
       "    <tr>\n",
       "      <th>4</th>\n",
       "      <td>2499968</td>\n",
       "      <td>nov23br/ppo_3</td>\n",
       "      <td>5443.463836</td>\n",
       "      <td>1</td>\n",
       "      <td>1</td>\n",
       "      <td>NaN</td>\n",
       "      <td>5454.410489</td>\n",
       "      <td>-10.946653</td>\n",
       "      <td>0.0</td>\n",
       "      <td>0.0</td>\n",
       "      <td>0.0</td>\n",
       "      <td>2</td>\n",
       "      <td>confused_national-nov23ppo_3_neg_revenue-101</td>\n",
       "      <td>confused_national.json</td>\n",
       "    </tr>\n",
       "    <tr>\n",
       "      <th>5</th>\n",
       "      <td>2499968</td>\n",
       "      <td>None</td>\n",
       "      <td>5454.410489</td>\n",
       "      <td>None</td>\n",
       "      <td>1</td>\n",
       "      <td>5.0</td>\n",
       "      <td>5454.410489</td>\n",
       "      <td>0.000000</td>\n",
       "      <td>0.0</td>\n",
       "      <td>0.0</td>\n",
       "      <td>0.0</td>\n",
       "      <td>2</td>\n",
       "      <td>confused_national-nov23ppo_3_neg_revenue-101</td>\n",
       "      <td>confused_national.json</td>\n",
       "    </tr>\n",
       "  </tbody>\n",
       "</table>\n",
       "</div>"
      ],
      "text/plain": [
       "         t           name       reward br_player  player  median_length  \\\n",
       "1  2499968  nov23br/ppo_3  4643.864873         0       0            NaN   \n",
       "2  2499968           None  4649.953152      None       0            5.0   \n",
       "4  2499968  nov23br/ppo_3  5443.463836         1       1            NaN   \n",
       "5  2499968           None  5454.410489      None       1            5.0   \n",
       "\n",
       "      Baseline     Regret  PositiveRegret  MaxPositiveRegret  ApproxNashConv  \\\n",
       "1  4649.953152  -6.088279             0.0                0.0             0.0   \n",
       "2  4649.953152   0.000000             0.0                0.0             0.0   \n",
       "4  5454.410489 -10.946653             0.0                0.0             0.0   \n",
       "5  5454.410489   0.000000             0.0                0.0             0.0   \n",
       "\n",
       "   num_players                                         model  \\\n",
       "1            2  confused_national-nov23ppo_3_neg_revenue-101   \n",
       "2            2  confused_national-nov23ppo_3_neg_revenue-101   \n",
       "4            2  confused_national-nov23ppo_3_neg_revenue-101   \n",
       "5            2  confused_national-nov23ppo_3_neg_revenue-101   \n",
       "\n",
       "                     game  \n",
       "1  confused_national.json  \n",
       "2  confused_national.json  \n",
       "4  confused_national.json  \n",
       "5  confused_national.json  "
      ]
     },
     "execution_count": 7,
     "metadata": {},
     "output_type": "execute_result"
    }
   ],
   "source": [
    "df.query('name != \"straightforward\"')"
   ]
  },
  {
   "cell_type": "code",
   "execution_count": null,
   "id": "2a833bdb-dfd9-4a2f-8ed9-d6cb474fc6cd",
   "metadata": {},
   "outputs": [],
   "source": []
  }
 ],
 "metadata": {
  "kernelspec": {
   "display_name": "Django Shell-Plus",
   "language": "python",
   "name": "django_extensions"
  },
  "language_info": {
   "codemirror_mode": {
    "name": "ipython",
    "version": 3
   },
   "file_extension": ".py",
   "mimetype": "text/x-python",
   "name": "python",
   "nbconvert_exporter": "python",
   "pygments_lexer": "ipython3",
   "version": "3.8.2"
  }
 },
 "nbformat": 4,
 "nbformat_minor": 5
}
