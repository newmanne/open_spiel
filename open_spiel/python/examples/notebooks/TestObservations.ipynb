{
 "cells": [
  {
   "cell_type": "code",
   "execution_count": 2,
   "id": "4e3741d2-897f-459b-a4fb-a4758e673143",
   "metadata": {},
   "outputs": [
    {
     "name": "stdout",
     "output_type": "stream",
     "text": [
      "The autoreload extension is already loaded. To reload it, use:\n",
      "  %reload_ext autoreload\n"
     ]
    }
   ],
   "source": [
    "%load_ext autoreload\n",
    "%autoreload 2\n",
    "%matplotlib inline\n",
    "\n",
    "import types\n",
    "import pyspiel\n",
    "import open_spiel.python.games\n",
    "from open_spiel.python.observation import make_observation\n",
    "import numpy as np\n"
   ]
  },
  {
   "cell_type": "code",
   "execution_count": 47,
   "id": "3356bee4-f936-4043-a78f-16ed604948ff",
   "metadata": {},
   "outputs": [],
   "source": [
    "# game = pyspiel.load_game('python_kuhn_poker')\n",
    "# state = game.new_initial_state()\n",
    "# state.apply_action(1)\n",
    "# state.apply_action(1)\n",
    "# state.information_state_tensor()"
   ]
  },
  {
   "cell_type": "code",
   "execution_count": 48,
   "id": "871d115b-254f-468f-b82e-38fbb690648d",
   "metadata": {},
   "outputs": [
    {
     "data": {
      "text/plain": [
       "11"
      ]
     },
     "execution_count": 48,
     "metadata": {},
     "output_type": "execute_result"
    }
   ],
   "source": [
    "len(state.information_state_tensor())"
   ]
  },
  {
   "cell_type": "code",
   "execution_count": 63,
   "id": "65b10e1b",
   "metadata": {},
   "outputs": [
    {
     "data": {
      "text/plain": [
       "4"
      ]
     },
     "execution_count": 63,
     "metadata": {},
     "output_type": "execute_result"
    }
   ],
   "source": []
  },
  {
   "cell_type": "code",
   "execution_count": 74,
   "id": "8399086c",
   "metadata": {},
   "outputs": [],
   "source": [
    "# np.array(state.information_state_tensor()).reshape(len(game.auction_params.all_bids), -1, order='F')"
   ]
  },
  {
   "cell_type": "code",
   "execution_count": 4,
   "id": "8baf2e5a",
   "metadata": {},
   "outputs": [
    {
     "ename": "NameError",
     "evalue": "name 'state' is not defined",
     "output_type": "error",
     "traceback": [
      "\u001b[0;31m---------------------------------------------------------------------------\u001b[0m",
      "\u001b[0;31mNameError\u001b[0m                                 Traceback (most recent call last)",
      "\u001b[1;32m/apps/open_spiel/notebooks/TestObservations.ipynb Cell 6\u001b[0m in \u001b[0;36m<module>\u001b[0;34m\u001b[0m\n\u001b[1;32m      <a href='vscode-notebook-cell://ssh-remote%2Bcfrgpu22/apps/open_spiel/notebooks/TestObservations.ipynb#W5sdnNjb2RlLXJlbW90ZQ%3D%3D?line=0'>1</a>\u001b[0m \u001b[39mimport\u001b[39;00m \u001b[39mnumpy\u001b[39;00m \u001b[39mas\u001b[39;00m \u001b[39mnp\u001b[39;00m\n\u001b[0;32m----> <a href='vscode-notebook-cell://ssh-remote%2Bcfrgpu22/apps/open_spiel/notebooks/TestObservations.ipynb#W5sdnNjb2RlLXJlbW90ZQ%3D%3D?line=1'>2</a>\u001b[0m np\u001b[39m.\u001b[39marray(state\u001b[39m.\u001b[39minformation_state_tensor())\u001b[39m.\u001b[39mreshape(\u001b[39m-\u001b[39m\u001b[39m1\u001b[39m, \u001b[39mlen\u001b[39m(game\u001b[39m.\u001b[39mauction_params\u001b[39m.\u001b[39mall_bids))\n",
      "\u001b[0;31mNameError\u001b[0m: name 'state' is not defined"
     ]
    }
   ],
   "source": [
    "np.array(state.information_state_tensor()).reshape(-1, len(game.auction_params.all_bids))"
   ]
  },
  {
   "cell_type": "code",
   "execution_count": 44,
   "id": "80957e73-8c51-4aa7-a95d-71d815530f6e",
   "metadata": {},
   "outputs": [
    {
     "name": "stdout",
     "output_type": "stream",
     "text": [
      "PlayerId.CHANCE\n",
      "PlayerId.CHANCE\n",
      "[array([0, 0])]\n",
      "0\n",
      "[array([0, 0])]\n",
      "1\n",
      "[array([0, 0])]\n",
      "0\n",
      "[array([0, 0]), array([0, 1])]\n",
      "1\n",
      "[array([0, 0]), array([0, 1])]\n",
      "PlayerId.CHANCE\n",
      "[array([0, 0]), array([0, 1])]\n",
      "0\n",
      "[array([0, 0]), array([0, 1]), array([0, 1])]\n",
      "1\n",
      "[array([0, 0]), array([0, 1]), array([0, 1])]\n",
      "PlayerId.CHANCE\n",
      "[array([0, 0]), array([0, 1]), array([0, 1])]\n",
      "CURRENT PLAYER PlayerId.TERMINAL\n",
      "ROUND 3\n",
      "TERMINAL True\n"
     ]
    }
   ],
   "source": [
    "game = pyspiel.load_game('python_clock_auction', dict(filename='parameters.json')) \n",
    "state = game.new_initial_state()\n",
    "for action in [0, 0, # Chance\n",
    "1, 1, # R1 bids \n",
    "1, 1, # R2 bids\n",
    "0, # Chance\n",
    "2, 1, # R3 bids\n",
    "0,  # Chance\n",
    "# # 0,  # Chance\n",
    "]:\n",
    "    print(state.current_player())\n",
    "    if len(state.bidders) >= 1:\n",
    "        print(state.bidders[0].processed_demand)\n",
    "    state.apply_action(action)\n",
    "\n",
    "print(\"CURRENT PLAYER\", state.current_player())\n",
    "print(\"ROUND\", state.round)\n",
    "print(\"TERMINAL\", state.is_terminal())\n",
    "obs = make_observation(game, params={'normalize': False})\n",
    "obs.set_from(state, player=0)"
   ]
  },
  {
   "cell_type": "code",
   "execution_count": 45,
   "id": "eda58802-727d-405d-98a1-d87442f06119",
   "metadata": {},
   "outputs": [
    {
     "name": "stdout",
     "output_type": "stream",
     "text": [
      "my_activity (4,)\n",
      "[100. 100. 100. 100.]\n",
      "\n",
      "sor_exposure (4,)\n",
      "[100. 100. 100. 100.]\n",
      "\n",
      "amount (2, 4)\n",
      "[[0. 0. 1. 1.]\n",
      " [0. 1. 0. 1.]]\n",
      "\n",
      "activity (4,)\n",
      "[  0. 100. 100. 200.]\n",
      "\n",
      "values (4,)\n",
      "[  0. 125. 125. 250.]\n",
      "\n",
      "prev_processed (4,)\n",
      "[0. 0. 1. 0.]\n",
      "\n",
      "prev_demanded (4,)\n",
      "[0. 0. 1. 0.]\n",
      "\n",
      "submitted_demand_history (3, 4)\n",
      "[[0. 0. 1. 0.]\n",
      " [0. 1. 0. 0.]\n",
      " [0. 1. 0. 0.]]\n",
      "\n",
      "processed_demand_history (3, 4)\n",
      "[[0. 0. 1. 0.]\n",
      " [0. 1. 0. 0.]\n",
      " [0. 1. 0. 0.]]\n",
      "\n",
      "agg_demand_history (3, 2, 4)\n",
      "[[[0. 0. 0. 0.]\n",
      "  [2. 2. 2. 2.]]\n",
      "\n",
      " [[0. 0. 0. 0.]\n",
      "  [2. 2. 2. 2.]]\n",
      "\n",
      " [[1. 1. 1. 1.]\n",
      "  [1. 1. 1. 1.]]]\n",
      "\n",
      "sor_bundle_prices_history (3, 4)\n",
      "[[  0. 100. 100. 200.]\n",
      " [  0. 110. 100. 210.]\n",
      " [  0. 121. 100. 221.]]\n",
      "\n"
     ]
    }
   ],
   "source": [
    "for k in obs.dict:\n",
    "    print(k, obs.dict[k].shape) \n",
    "    print(obs.dict[k])\n",
    "    print()\n",
    "# pprint(obs.dict)"
   ]
  },
  {
   "cell_type": "code",
   "execution_count": 39,
   "id": "9c77da48-453f-42a8-a849-5a4b5ad074a8",
   "metadata": {},
   "outputs": [
    {
     "data": {
      "text/plain": [
       "array([[100., 100., 100., 100.],\n",
       "       [110., 110., 110., 110.],\n",
       "       [  0.,   0.,   1.,   1.],\n",
       "       [  0.,   1.,   0.,   1.],\n",
       "       [  0., 100., 100., 200.],\n",
       "       [  0., 125., 125., 250.],\n",
       "       [  0.,   1.,   0.,   0.],\n",
       "       [  0.,   1.,   0.,   0.],\n",
       "       [  0.,   0.,   0.,   0.],\n",
       "       [  0.,   0.,   0.,   0.],\n",
       "       [  0.,   1.,   0.,   0.],\n",
       "       [  0.,   0.,   0.,   0.],\n",
       "       [  0.,   0.,   0.,   0.],\n",
       "       [  0.,   1.,   0.,   0.],\n",
       "       [  0.,   0.,   0.,   0.],\n",
       "       [  0.,   0.,   0.,   0.],\n",
       "       [  0.,   0.,   0.,   0.],\n",
       "       [  0.,   0.,   0.,   0.],\n",
       "       [  0.,   0.,   0.,   0.],\n",
       "       [  2.,   2.,   2.,   2.],\n",
       "       [  0.,   0.,   0.,   0.],\n",
       "       [  0., 100., 100., 200.],\n",
       "       [  0., 110., 100., 210.]], dtype=float32)"
      ]
     },
     "execution_count": 39,
     "metadata": {},
     "output_type": "execute_result"
    }
   ],
   "source": [
    "obs.tensor.reshape(obs.observation_shape)"
   ]
  },
  {
   "cell_type": "code",
   "execution_count": 28,
   "id": "d184a817",
   "metadata": {},
   "outputs": [
    {
     "name": "stdout",
     "output_type": "stream",
     "text": [
      "my_activity\n",
      "sor_exposure\n",
      "amount\n",
      "activity\n",
      "values\n",
      "prev_processed\n",
      "prev_demanded\n",
      "submitted_demand_history\n",
      "processed_demand_history\n",
      "agg_demand_history\n",
      "sor_bundle_prices_history\n"
     ]
    }
   ],
   "source": [
    "for k, _, _, _ in obs.pieces:\n",
    "    print(k)"
   ]
  },
  {
   "cell_type": "code",
   "execution_count": 92,
   "id": "411d4645",
   "metadata": {},
   "outputs": [],
   "source": [
    "from pprint import pprint"
   ]
  },
  {
   "cell_type": "code",
   "execution_count": 6,
   "id": "9be239aa-3e09-47dc-9134-641c3536e849",
   "metadata": {},
   "outputs": [
    {
     "data": {
      "text/plain": [
       "'Round: 2\\nPlayer 0: LinearValues: [125 125] Budget: 150\\nPlayer 1: LinearValues: [  0 150] Budget: 150\\nPrice: [100. 110.]\\nProcessed Demand:\\n[0 1]\\n[0 1]\\nAggregate demand: [0 2]\\n'"
      ]
     },
     "execution_count": 6,
     "metadata": {},
     "output_type": "execute_result"
    }
   ],
   "source": [
    "str(state)"
   ]
  },
  {
   "cell_type": "code",
   "execution_count": null,
   "id": "a3fdd5c8-f43f-4b36-b2ac-06b4a73f4f09",
   "metadata": {},
   "outputs": [],
   "source": [
    "state.information_state_tensor()"
   ]
  },
  {
   "cell_type": "code",
   "execution_count": null,
   "id": "fb990aa5-06c7-48e1-9b35-f99bf5e8a4ca",
   "metadata": {},
   "outputs": [],
   "source": [
    "state.observation_tensor()"
   ]
  },
  {
   "cell_type": "code",
   "execution_count": null,
   "id": "fe8910dd-8f79-4c63-8dbf-152fe8cc89f5",
   "metadata": {},
   "outputs": [],
   "source": [
    "state.bidders[0]"
   ]
  },
  {
   "cell_type": "code",
   "execution_count": null,
   "id": "256951da-7d41-420d-9662-67b63ea8fedf",
   "metadata": {},
   "outputs": [],
   "source": []
  },
  {
   "cell_type": "code",
   "execution_count": 40,
   "id": "94c1281e-5768-49f1-8e91-79a4bb715b1c",
   "metadata": {},
   "outputs": [],
   "source": [
    "x = state.auction_params.all_bids.T \n",
    "y= state.auction_params.licenses"
   ]
  },
  {
   "cell_type": "code",
   "execution_count": 55,
   "id": "8fbc2487",
   "metadata": {},
   "outputs": [
    {
     "data": {
      "text/plain": [
       "array([[0., 0., 1., 1.],\n",
       "       [0., 1., 0., 1.]])"
      ]
     },
     "execution_count": 55,
     "metadata": {},
     "output_type": "execute_result"
    }
   ],
   "source": [
    "x / y[:, None]"
   ]
  }
 ],
 "metadata": {
  "kernelspec": {
   "display_name": "Django Shell-Plus",
   "language": "python",
   "name": "django_extensions"
  },
  "language_info": {
   "codemirror_mode": {
    "name": "ipython",
    "version": 3
   },
   "file_extension": ".py",
   "mimetype": "text/x-python",
   "name": "python",
   "nbconvert_exporter": "python",
   "pygments_lexer": "ipython3",
   "version": "3.8.2"
  },
  "vscode": {
   "interpreter": {
    "hash": "e3accfcd37938f9426478dec107e62856506f80a05920eb9bbb7129d1cbce929"
   }
  }
 },
 "nbformat": 4,
 "nbformat_minor": 5
}
