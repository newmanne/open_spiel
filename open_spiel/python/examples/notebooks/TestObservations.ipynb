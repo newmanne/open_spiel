{
 "cells": [
  {
   "cell_type": "code",
   "execution_count": 46,
   "id": "4e3741d2-897f-459b-a4fb-a4758e673143",
   "metadata": {},
   "outputs": [
    {
     "name": "stdout",
     "output_type": "stream",
     "text": [
      "The autoreload extension is already loaded. To reload it, use:\n",
      "  %reload_ext autoreload\n"
     ]
    }
   ],
   "source": [
    "%load_ext autoreload\n",
    "%autoreload 2\n",
    "%matplotlib inline\n",
    "\n",
    "import types\n",
    "import pyspiel\n",
    "import open_spiel.python.games\n",
    "from open_spiel.python.observation import make_observation\n"
   ]
  },
  {
   "cell_type": "code",
   "execution_count": 9,
   "id": "3356bee4-f936-4043-a78f-16ed604948ff",
   "metadata": {},
   "outputs": [],
   "source": [
    "# game = pyspiel.load_game('python_kuhn_poker')\n",
    "# state = game.new_initial_state()\n",
    "# state.apply_action(1)\n",
    "# state.apply_action(1)\n",
    "# state.information_state_tensor()"
   ]
  },
  {
   "cell_type": "code",
   "execution_count": 47,
   "id": "e582aab1-dd19-47eb-b5ed-ebeb43654ce8",
   "metadata": {},
   "outputs": [
    {
     "data": {
      "text/plain": [
       "[1, 2]"
      ]
     },
     "execution_count": 47,
     "metadata": {},
     "output_type": "execute_result"
    }
   ],
   "source": [
    "game = pyspiel.load_game('python_clock_auction', dict(filename='parameters.json')) \n",
    "state = game.new_initial_state()\n",
    "state.apply_action(0)\n",
    "state.apply_action(0)\n",
    "state.legal_actions()"
   ]
  },
  {
   "cell_type": "code",
   "execution_count": 48,
   "id": "871d115b-254f-468f-b82e-38fbb690648d",
   "metadata": {},
   "outputs": [
    {
     "data": {
      "text/plain": [
       "910"
      ]
     },
     "execution_count": 48,
     "metadata": {},
     "output_type": "execute_result"
    }
   ],
   "source": [
    "len(state.information_state_tensor())"
   ]
  },
  {
   "cell_type": "code",
   "execution_count": 49,
   "id": "80957e73-8c51-4aa7-a95d-71d815530f6e",
   "metadata": {},
   "outputs": [],
   "source": [
    "obs = make_observation(game)\n",
    "obs.set_from(state, player=0)"
   ]
  },
  {
   "cell_type": "code",
   "execution_count": 53,
   "id": "9c77da48-453f-42a8-a849-5a4b5ad074a8",
   "metadata": {},
   "outputs": [
    {
     "ename": "AttributeError",
     "evalue": "'ClockAuctionObserver' object has no attribute 'information_state_tensor'",
     "output_type": "error",
     "traceback": [
      "\u001b[0;31m---------------------------------------------------------------------------\u001b[0m",
      "\u001b[0;31mAttributeError\u001b[0m                            Traceback (most recent call last)",
      "Input \u001b[0;32mIn [53]\u001b[0m, in \u001b[0;36m<module>\u001b[0;34m\u001b[0m\n\u001b[0;32m----> 1\u001b[0m \u001b[43mobs\u001b[49m\u001b[38;5;241;43m.\u001b[39;49m\u001b[43minformation_state_tensor\u001b[49m()\n",
      "\u001b[0;31mAttributeError\u001b[0m: 'ClockAuctionObserver' object has no attribute 'information_state_tensor'"
     ]
    }
   ],
   "source": [
    "obs.information_state_tensor()"
   ]
  },
  {
   "cell_type": "code",
   "execution_count": 51,
   "id": "eda58802-727d-405d-98a1-d87442f06119",
   "metadata": {},
   "outputs": [
    {
     "data": {
      "text/plain": [
       "{'player': array([1., 0.], dtype=float32),\n",
       " 'bidder_type': array([1.], dtype=float32),\n",
       " 'activity': array([1.], dtype=float32),\n",
       " 'submitted_demand_history': array([[0., 0.],\n",
       "        [0., 0.],\n",
       "        [0., 0.],\n",
       "        [0., 0.],\n",
       "        [0., 0.],\n",
       "        [0., 0.],\n",
       "        [0., 0.],\n",
       "        [0., 0.],\n",
       "        [0., 0.],\n",
       "        [0., 0.],\n",
       "        [0., 0.],\n",
       "        [0., 0.],\n",
       "        [0., 0.],\n",
       "        [0., 0.],\n",
       "        [0., 0.],\n",
       "        [0., 0.],\n",
       "        [0., 0.],\n",
       "        [0., 0.],\n",
       "        [0., 0.],\n",
       "        [0., 0.],\n",
       "        [0., 0.],\n",
       "        [0., 0.],\n",
       "        [0., 0.],\n",
       "        [0., 0.],\n",
       "        [0., 0.]], dtype=float32),\n",
       " 'processed_demand_history': array([[0., 0.],\n",
       "        [0., 0.],\n",
       "        [0., 0.],\n",
       "        [0., 0.],\n",
       "        [0., 0.],\n",
       "        [0., 0.],\n",
       "        [0., 0.],\n",
       "        [0., 0.],\n",
       "        [0., 0.],\n",
       "        [0., 0.],\n",
       "        [0., 0.],\n",
       "        [0., 0.],\n",
       "        [0., 0.],\n",
       "        [0., 0.],\n",
       "        [0., 0.],\n",
       "        [0., 0.],\n",
       "        [0., 0.],\n",
       "        [0., 0.],\n",
       "        [0., 0.],\n",
       "        [0., 0.],\n",
       "        [0., 0.],\n",
       "        [0., 0.],\n",
       "        [0., 0.],\n",
       "        [0., 0.],\n",
       "        [0., 0.]], dtype=float32),\n",
       " 'sor_profits': array([0.        , 0.16666667, 0.16666667, 0.33333333]),\n",
       " 'round': array([1., 0., 0., 0., 0., 0., 0., 0., 0., 0., 0., 0., 0., 0., 0., 0., 0.,\n",
       "        0., 0., 0., 0., 0., 0., 0., 0.], dtype=float32),\n",
       " 'agg_demand_history': array([[0., 0.],\n",
       "        [0., 0.],\n",
       "        [0., 0.],\n",
       "        [0., 0.],\n",
       "        [0., 0.],\n",
       "        [0., 0.],\n",
       "        [0., 0.],\n",
       "        [0., 0.],\n",
       "        [0., 0.],\n",
       "        [0., 0.],\n",
       "        [0., 0.],\n",
       "        [0., 0.],\n",
       "        [0., 0.],\n",
       "        [0., 0.],\n",
       "        [0., 0.],\n",
       "        [0., 0.],\n",
       "        [0., 0.],\n",
       "        [0., 0.],\n",
       "        [0., 0.],\n",
       "        [0., 0.],\n",
       "        [0., 0.],\n",
       "        [0., 0.],\n",
       "        [0., 0.],\n",
       "        [0., 0.],\n",
       "        [0., 0.]], dtype=float32),\n",
       " 'posted_price_history': array([[0.6666667, 0.6666667],\n",
       "        [0.       , 0.       ],\n",
       "        [0.       , 0.       ],\n",
       "        [0.       , 0.       ],\n",
       "        [0.       , 0.       ],\n",
       "        [0.       , 0.       ],\n",
       "        [0.       , 0.       ],\n",
       "        [0.       , 0.       ],\n",
       "        [0.       , 0.       ],\n",
       "        [0.       , 0.       ],\n",
       "        [0.       , 0.       ],\n",
       "        [0.       , 0.       ],\n",
       "        [0.       , 0.       ],\n",
       "        [0.       , 0.       ],\n",
       "        [0.       , 0.       ],\n",
       "        [0.       , 0.       ],\n",
       "        [0.       , 0.       ],\n",
       "        [0.       , 0.       ],\n",
       "        [0.       , 0.       ],\n",
       "        [0.       , 0.       ],\n",
       "        [0.       , 0.       ],\n",
       "        [0.       , 0.       ],\n",
       "        [0.       , 0.       ],\n",
       "        [0.       , 0.       ],\n",
       "        [0.       , 0.       ],\n",
       "        [0.       , 0.       ]], dtype=float32)}"
      ]
     },
     "execution_count": 51,
     "metadata": {},
     "output_type": "execute_result"
    }
   ],
   "source": [
    "obs.dict"
   ]
  },
  {
   "cell_type": "code",
   "execution_count": null,
   "id": "9be239aa-3e09-47dc-9134-641c3536e849",
   "metadata": {},
   "outputs": [],
   "source": [
    "str(state)"
   ]
  },
  {
   "cell_type": "code",
   "execution_count": null,
   "id": "a3fdd5c8-f43f-4b36-b2ac-06b4a73f4f09",
   "metadata": {},
   "outputs": [],
   "source": [
    "state.information_state_tensor()"
   ]
  },
  {
   "cell_type": "code",
   "execution_count": null,
   "id": "fb990aa5-06c7-48e1-9b35-f99bf5e8a4ca",
   "metadata": {},
   "outputs": [],
   "source": [
    "state.observation_tensor()"
   ]
  },
  {
   "cell_type": "code",
   "execution_count": null,
   "id": "fe8910dd-8f79-4c63-8dbf-152fe8cc89f5",
   "metadata": {},
   "outputs": [],
   "source": [
    "state.bidders[0]"
   ]
  },
  {
   "cell_type": "code",
   "execution_count": null,
   "id": "256951da-7d41-420d-9662-67b63ea8fedf",
   "metadata": {},
   "outputs": [],
   "source": []
  },
  {
   "cell_type": "code",
   "execution_count": null,
   "id": "94c1281e-5768-49f1-8e91-79a4bb715b1c",
   "metadata": {},
   "outputs": [],
   "source": []
  }
 ],
 "metadata": {
  "kernelspec": {
   "display_name": "Django Shell-Plus",
   "language": "python",
   "name": "django_extensions"
  },
  "language_info": {
   "codemirror_mode": {
    "name": "ipython",
    "version": 3
   },
   "file_extension": ".py",
   "mimetype": "text/x-python",
   "name": "python",
   "nbconvert_exporter": "python",
   "pygments_lexer": "ipython3",
   "version": "3.8.2"
  }
 },
 "nbformat": 4,
 "nbformat_minor": 5
}
