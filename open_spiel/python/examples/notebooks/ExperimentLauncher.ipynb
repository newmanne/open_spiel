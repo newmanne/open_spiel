{
 "cells": [
  {
   "cell_type": "code",
   "execution_count": 2,
   "id": "53d1f915-16a6-42e9-b93a-3f44564ef069",
   "metadata": {},
   "outputs": [
    {
     "name": "stdout",
     "output_type": "stream",
     "text": [
      "The autoreload extension is already loaded. To reload it, use:\n",
      "  %reload_ext autoreload\n",
      "%pylab is deprecated, use %matplotlib inline and import the required libraries.\n",
      "Populating the interactive namespace from numpy and matplotlib\n"
     ]
    }
   ],
   "source": [
    "%load_ext autoreload\n",
    "%autoreload 2\n",
    "%pylab inline\n",
    "\n",
    "import sys\n",
    "import glob\n",
    "import pandas as pd\n",
    "import os\n",
    "import seaborn as sns\n",
    "from tqdm import tqdm_notebook as tqdm\n",
    "from statsmodels.distributions.empirical_distribution import ECDF\n",
    "from collections import defaultdict\n",
    "import open_spiel.python.examples.ubc_dispatch as dispatch\n",
    "import os\n",
    "os.environ[\"DJANGO_ALLOW_ASYNC_UNSAFE\"] = \"true\"\n"
   ]
  },
  {
   "cell_type": "code",
   "execution_count": 16,
   "id": "eafabe34-690b-4655-8a41-7ad23360ecc8",
   "metadata": {},
   "outputs": [
    {
     "name": "stdout",
     "output_type": "stream",
     "text": [
      "Submitted batch job 1257\n",
      "Submitted batch job 1258\n",
      "Submitted batch job 1259\n",
      "Submitted batch job 1260\n",
      "Submitted batch job 1261\n",
      "Submitted batch job 1262\n",
      "Submitted batch job 1263\n",
      "Submitted batch job 1264\n",
      "Submitted batch job 1265\n",
      "Submitted batch job 1266\n",
      "Submitted batch job 1267\n",
      "Dispatched 11 experiments!\n",
      "Submitted batch job 1268\n",
      "Submitted batch job 1269\n",
      "Submitted batch job 1270\n",
      "Submitted batch job 1271\n",
      "Submitted batch job 1272\n",
      "Submitted batch job 1273\n",
      "Submitted batch job 1274\n",
      "Submitted batch job 1275\n",
      "Submitted batch job 1276\n",
      "Submitted batch job 1277\n",
      "Submitted batch job 1278\n",
      "Dispatched 11 experiments!\n"
     ]
    }
   ],
   "source": [
    "overrides = f'--br_portfolio_path feb22 --eval_every 1_000_000 --num_training_episodes 10_000_000 --br_overrides \"--num_training_episodes 1_000_000\"'\n",
    "dispatch.dispatch_experiments('feb22', base_job_name='infocompare', game_name='large_game_2', overrides = overrides, n_seeds=10)\n",
    "dispatch.dispatch_experiments('feb22', base_job_name='infocompare', game_name='large_game_2_hide', overrides = overrides, n_seeds=10)"
   ]
  },
  {
   "cell_type": "code",
   "execution_count": 19,
   "id": "9d200227-7a69-417a-be93-58c262f123b9",
   "metadata": {},
   "outputs": [],
   "source": [
    "# !squeue --format=\"%.18i %.65j %.2t %.10M %.6D %R\" | grep \"_mlp  R\" | awk '{print $1}' | xargs scancel"
   ]
  },
  {
   "cell_type": "code",
   "execution_count": 93,
   "id": "1517f441-4c4c-47fe-9dcb-2ae7cebca8c2",
   "metadata": {},
   "outputs": [
    {
     "name": "stdout",
     "output_type": "stream",
     "text": [
      "             JOBID                                                              NAME ST       TIME  NODES NODELIST(REASON)\n",
      "              2384                      br_0_minitest_tiny-feb2lstm-100_500_feb2_mlp PD       0:00      1 (Resources)\n",
      "              2385                     br_0_minitest_tiny-feb2lstm-100_500_feb2_lstm PD       0:00      1 (Priority)\n",
      "              2386             eval_tiny-feb2lstm-100_500_minitest_straightforward_0 PD       0:00      1 (Priority)\n",
      "              2387                      br_1_minitest_tiny-feb2lstm-100_500_feb2_mlp PD       0:00      1 (Priority)\n",
      "              2388                     br_1_minitest_tiny-feb2lstm-100_500_feb2_lstm PD       0:00      1 (Priority)\n",
      "              2389             eval_tiny-feb2lstm-100_500_minitest_straightforward_1 PD       0:00      1 (Priority)\n",
      "              2390                               eval_tiny-feb2lstm-100_500_minitest PD       0:00      1 (Priority)\n",
      "              2391                     br_0_minitest_tiny-feb2lstm-100_1000_feb2_mlp PD       0:00      1 (Priority)\n",
      "              2392                    br_0_minitest_tiny-feb2lstm-100_1000_feb2_lstm PD       0:00      1 (Priority)\n",
      "              2393            eval_tiny-feb2lstm-100_1000_minitest_straightforward_0 PD       0:00      1 (Priority)\n",
      "              2394                     br_1_minitest_tiny-feb2lstm-100_1000_feb2_mlp PD       0:00      1 (Priority)\n",
      "              2395                    br_1_minitest_tiny-feb2lstm-100_1000_feb2_lstm PD       0:00      1 (Priority)\n",
      "              2396            eval_tiny-feb2lstm-100_1000_minitest_straightforward_1 PD       0:00      1 (Priority)\n",
      "              2397                              eval_tiny-feb2lstm-100_1000_minitest PD       0:00      1 (Priority)\n",
      "              2398                        eval_tiny-feb2mlp-100_1_minitest_feb2mlp_0 PD       0:00      1 (Priority)\n",
      "              2399                       eval_tiny-feb2mlp-100_1_minitest_feb2lstm_0 PD       0:00      1 (Priority)\n",
      "              2400                        eval_tiny-feb2mlp-100_1_minitest_feb2mlp_1 PD       0:00      1 (Priority)\n",
      "              2401                       eval_tiny-feb2mlp-100_1_minitest_feb2lstm_1 PD       0:00      1 (Priority)\n",
      "              2402                      eval_tiny-feb2mlp-100_500_minitest_feb2mlp_0 PD       0:00      1 (Priority)\n",
      "              2403                     eval_tiny-feb2mlp-100_500_minitest_feb2lstm_0 PD       0:00      1 (Priority)\n",
      "              2404                      eval_tiny-feb2mlp-100_500_minitest_feb2mlp_1 PD       0:00      1 (Priority)\n",
      "              2405                     eval_tiny-feb2mlp-100_500_minitest_feb2lstm_1 PD       0:00      1 (Priority)\n",
      "              2406                     eval_tiny-feb2mlp-100_1000_minitest_feb2mlp_0 PD       0:00      1 (Priority)\n",
      "              2407                    eval_tiny-feb2mlp-100_1000_minitest_feb2lstm_0 PD       0:00      1 (Priority)\n",
      "              2408                     eval_tiny-feb2mlp-100_1000_minitest_feb2mlp_1 PD       0:00      1 (Priority)\n",
      "              2409                    eval_tiny-feb2mlp-100_1000_minitest_feb2lstm_1 PD       0:00      1 (Priority)\n",
      "              2410                       eval_tiny-feb2lstm-100_1_minitest_feb2mlp_0 PD       0:00      1 (Priority)\n",
      "              2411                      eval_tiny-feb2lstm-100_1_minitest_feb2lstm_0 PD       0:00      1 (Priority)\n",
      "              2380                        br_1_minitest_tiny-feb2lstm-100_1_feb2_mlp  R       0:08      1 ip-10-255-7-12\n",
      "              2381                       br_1_minitest_tiny-feb2lstm-100_1_feb2_lstm  R       0:05      1 ip-10-255-7-80\n",
      "              2382               eval_tiny-feb2lstm-100_1_minitest_straightforward_1  R       0:04      1 ip-10-255-7-119\n",
      "              2383                                 eval_tiny-feb2lstm-100_1_minitest  R       0:03      1 ip-10-255-7-87\n"
     ]
    }
   ],
   "source": [
    "!squeue --format=\"%.18i %.65j %.2t %.10M %.6D %R\""
   ]
  },
  {
   "cell_type": "code",
   "execution_count": 79,
   "id": "a8ee533f-357a-4bbc-956e-1cf136ef9266",
   "metadata": {},
   "outputs": [],
   "source": [
    "# !scancel 5306 5307"
   ]
  },
  {
   "cell_type": "code",
   "execution_count": 83,
   "id": "c26b508d-9ee0-4878-9aa1-68c611ab651a",
   "metadata": {},
   "outputs": [],
   "source": [
    "!scancel -u ubuntu"
   ]
  },
  {
   "cell_type": "code",
   "execution_count": 89,
   "id": "3aeeeeb6-6c6f-4e37-9566-3eb8d73d97d5",
   "metadata": {},
   "outputs": [
    {
     "name": "stdout",
     "output_type": "stream",
     "text": [
      "Submitted batch job 2354\n",
      "Submitted batch job 2355\n"
     ]
    }
   ],
   "source": [
    "!rm -rf /shared/outputs/minitest/\n",
    "try:\n",
    "    Experiment.objects.get(name='minitest').delete()\n",
    "except:\n",
    "    pass\n",
    "dispatch.dispatch_experiments('feb2', base_job_name='minitest', game_name='tiny', overrides = '--br_portfolio_path feb2 --eval_every 500 --num_training_episodes 1_000 --br_overrides \"--num_training_episodes 1_000\" --eval_overrides \"--num_samples 100\"')"
   ]
  },
  {
   "cell_type": "code",
   "execution_count": null,
   "id": "f3849fe3-b50d-4875-9290-9f5eaa39a7c7",
   "metadata": {},
   "outputs": [],
   "source": []
  }
 ],
 "metadata": {
  "kernelspec": {
   "display_name": "Django Shell-Plus",
   "language": "python",
   "name": "django_extensions"
  },
  "language_info": {
   "codemirror_mode": {
    "name": "ipython",
    "version": 3
   },
   "file_extension": ".py",
   "mimetype": "text/x-python",
   "name": "python",
   "nbconvert_exporter": "python",
   "pygments_lexer": "ipython3",
   "version": "3.8.2"
  }
 },
 "nbformat": 4,
 "nbformat_minor": 5
}
