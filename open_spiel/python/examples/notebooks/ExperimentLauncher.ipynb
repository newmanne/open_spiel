{
 "cells": [
  {
   "cell_type": "code",
   "execution_count": 5,
   "id": "53d1f915-16a6-42e9-b93a-3f44564ef069",
   "metadata": {},
   "outputs": [
    {
     "name": "stdout",
     "output_type": "stream",
     "text": [
      "The autoreload extension is already loaded. To reload it, use:\n",
      "  %reload_ext autoreload\n",
      "%pylab is deprecated, use %matplotlib inline and import the required libraries.\n",
      "Populating the interactive namespace from numpy and matplotlib\n"
     ]
    }
   ],
   "source": [
    "%load_ext autoreload\n",
    "%autoreload 2\n",
    "%pylab inline\n",
    "\n",
    "import sys\n",
    "import glob\n",
    "import pandas as pd\n",
    "import os\n",
    "import seaborn as sns\n",
    "from tqdm import tqdm_notebook as tqdm\n",
    "from statsmodels.distributions.empirical_distribution import ECDF\n",
    "from collections import defaultdict\n",
    "import open_spiel.python.examples.ubc_dispatch as dispatch\n",
    "import os\n",
    "os.environ[\"DJANGO_ALLOW_ASYNC_UNSAFE\"] = \"true\"\n"
   ]
  },
  {
   "cell_type": "code",
   "execution_count": 6,
   "id": "332e41bc-15e4-445d-9c0a-2967c7c907b8",
   "metadata": {},
   "outputs": [
    {
     "data": {
      "text/plain": [
       "['sats_2regions_2licenses_2players_5types']"
      ]
     },
     "execution_count": 6,
     "metadata": {},
     "output_type": "execute_result"
    }
   ],
   "source": [
    "game_dir = os.environ[\"CLOCK_AUCTION_CONFIG_DIR\"]\n",
    "sats_games = [os.path.basename(x).replace('.json','') for x in glob.glob(f'{game_dir}/sats*')]\n",
    "sats_games = ['sats_2regions_2licenses_2players_5types']\n",
    "sats_games"
   ]
  },
  {
   "cell_type": "code",
   "execution_count": 7,
   "id": "797f2f6e-14f5-4fd5-b926-3504b729bc5c",
   "metadata": {},
   "outputs": [
    {
     "name": "stdout",
     "output_type": "stream",
     "text": [
      "Submitted batch job 35157\n",
      "Submitted batch job 35158\n",
      "Submitted batch job 35159\n",
      "Submitted batch job 35160\n",
      "Submitted batch job 35161\n",
      "Submitted batch job 35162\n",
      "Submitted batch job 35163\n",
      "Submitted batch job 35164\n",
      "Submitted batch job 35165\n",
      "Submitted batch job 35166\n",
      "Submitted batch job 35167\n",
      "Submitted batch job 35168\n",
      "Submitted batch job 35169\n",
      "Submitted batch job 35170\n",
      "Submitted batch job 35171\n",
      "Submitted batch job 35172\n",
      "Submitted batch job 35173\n",
      "Submitted batch job 35174\n",
      "Submitted batch job 35175\n",
      "Submitted batch job 35176\n",
      "Submitted batch job 35177\n"
     ]
    }
   ],
   "source": [
    "# SATS Games\n",
    "CONFIG = 'april26'\n",
    "BR_CONFIG = 'april25_br'\n",
    "N_SEEDS = 1\n",
    "overrides = f'--overwrite_db True --br_portfolio_path {BR_CONFIG} --eval_every 1_000_000 --eval_zero true --num_training_episodes 10_000_000 --br_overrides \"--num_training_episodes 1_000_000\"'\n",
    "for GAME_NAME in sats_games:\n",
    "    dispatch.dispatch_experiments(CONFIG, base_job_name='sats_games_10', game_name=f'{GAME_NAME}', overrides = overrides, n_seeds=N_SEEDS)\n",
    "    dispatch.dispatch_experiments(CONFIG, base_job_name='sats_games_10_with_require_br', game_name=f'{GAME_NAME}', overrides = overrides + ' --iterate_br false --require_br true', n_seeds=N_SEEDS)\n",
    "    dispatch.dispatch_experiments(CONFIG, base_job_name='sats_games_10_with_random_ic', game_name=f'{GAME_NAME}', overrides = overrides + ' --random_ic true', n_seeds=N_SEEDS)"
   ]
  },
  {
   "cell_type": "code",
   "execution_count": 156,
   "id": "e2179215-a8af-4432-a7db-0144903c2bdc",
   "metadata": {},
   "outputs": [
    {
     "data": {
      "text/plain": [
       "['rw_game_2_settle',\n",
       " 'rw_game_2_war',\n",
       " 'rw_game_2_settle_pricing',\n",
       " 'rw_game_2_war_99_neil']"
      ]
     },
     "execution_count": 156,
     "metadata": {},
     "output_type": "execute_result"
    }
   ],
   "source": [
    "# game_dir = os.environ[\"CLOCK_AUCTION_CONFIG_DIR\"]\n",
    "albert_games = [os.path.basename(x).replace('.json','') for x in glob.glob(f'{game_dir}/rw*')]\n",
    "albert_games = ['rw_game_2_settle', 'rw_game_2_war', 'rw_game_2_settle_pricing', 'rw_game_2_war_99_neil']# + [f'rw_game_2_war_{x}' for x in [95, 97, 99, 200]]\n",
    "albert_games"
   ]
  },
  {
   "cell_type": "code",
   "execution_count": 158,
   "id": "f2ddc1da-5e96-48f2-a6af-6a8cb5bcf73d",
   "metadata": {},
   "outputs": [
    {
     "name": "stdout",
     "output_type": "stream",
     "text": [
      "Submitted batch job 32486\n",
      "Submitted batch job 32487\n",
      "Submitted batch job 32488\n",
      "Submitted batch job 32489\n",
      "Submitted batch job 32490\n",
      "Submitted batch job 32491\n",
      "Submitted batch job 32492\n",
      "Submitted batch job 32493\n",
      "Submitted batch job 32494\n",
      "Submitted batch job 32495\n",
      "Submitted batch job 32496\n",
      "Submitted batch job 32497\n",
      "Submitted batch job 32498\n",
      "Submitted batch job 32499\n",
      "Submitted batch job 32500\n",
      "Submitted batch job 32501\n",
      "Submitted batch job 32502\n",
      "Submitted batch job 32503\n",
      "Submitted batch job 32504\n",
      "Submitted batch job 32505\n",
      "Submitted batch job 32506\n",
      "Submitted batch job 32507\n",
      "Submitted batch job 32508\n",
      "Submitted batch job 32509\n",
      "Submitted batch job 32510\n",
      "Submitted batch job 32511\n",
      "Submitted batch job 32512\n",
      "Submitted batch job 32513\n",
      "Submitted batch job 32514\n",
      "Submitted batch job 32515\n",
      "Submitted batch job 32516\n",
      "Submitted batch job 32517\n"
     ]
    }
   ],
   "source": [
    "# Albert's games without iterate_br\n",
    "CONFIG = 'april25'\n",
    "BR_CONFIG = 'april25_br'\n",
    "N_SEEDS = 2\n",
    "overrides = f'--overwrite_db True --iterate_br false --require_br true --br_portfolio_path {BR_CONFIG} --eval_every 1_000_000 --eval_zero true --num_training_episodes 10_000_000 --br_overrides \"--num_training_episodes 1_000_000\"'\n",
    "for GAME_NAME in albert_games:\n",
    "    dispatch.dispatch_experiments(CONFIG, base_job_name='albert_games6_with_eps', game_name=f'{GAME_NAME}', overrides = overrides, n_seeds=N_SEEDS)"
   ]
  },
  {
   "cell_type": "code",
   "execution_count": 121,
   "id": "092dfe59-4885-4b18-bac4-b4b6036ea5d8",
   "metadata": {},
   "outputs": [
    {
     "name": "stdout",
     "output_type": "stream",
     "text": [
      "Submitted batch job 29214\n",
      "Submitted batch job 29215\n",
      "Submitted batch job 29216\n"
     ]
    }
   ],
   "source": [
    "# # Albert's games\n",
    "CONFIG = 'april12'\n",
    "N_SEEDS = 1\n",
    "overrides = f'--overwrite_db True --br_portfolio_path {CONFIG} --eval_every 1_000_000 --eval_zero false --num_training_episodes 10_000_000 --br_overrides \"--num_training_episodes 1_000_000\" --random_ic true'\n",
    "for GAME_NAME in albert_games:\n",
    "    dispatch.dispatch_experiments(CONFIG, base_job_name='albert_games5', game_name=f'{GAME_NAME}', overrides = overrides, n_seeds=N_SEEDS)"
   ]
  },
  {
   "cell_type": "code",
   "execution_count": 56,
   "id": "d85ef383-869e-4533-a5f4-5e930243c7ef",
   "metadata": {},
   "outputs": [
    {
     "name": "stdout",
     "output_type": "stream",
     "text": [
      "Submitted batch job 24595\n",
      "Submitted batch job 24596\n",
      "Submitted batch job 24597\n",
      "Submitted batch job 24598\n",
      "Submitted batch job 24599\n",
      "Submitted batch job 24600\n"
     ]
    }
   ],
   "source": [
    "CONFIG = 'flatmlp'\n",
    "GAME_NAME = 'large_game_2'\n",
    "N_SEEDS = 1\n",
    "overrides = f'--overwrite_db True --br_portfolio_path flatmlp --eval_every 1_000_000 --eval_zero true --num_training_episodes 10_000_000 --br_overrides \"--num_training_episodes 1_000_000\"'\n",
    "dispatch.dispatch_experiments(CONFIG, base_job_name='april11_flattest_large_2', game_name=f'{GAME_NAME}', overrides = overrides, n_seeds=N_SEEDS)"
   ]
  },
  {
   "cell_type": "code",
   "execution_count": 67,
   "id": "48a4a759-38c6-4876-a965-b8cfff413329",
   "metadata": {},
   "outputs": [],
   "source": [
    "# CONFIG = 'flatmlp'\n",
    "# GAME_NAME = 'very_large_game_2'\n",
    "# N_SEEDS = 1\n",
    "# overrides = f'--overwrite_db True --br_portfolio_path flatmlp --eval_every 1_000_000 --eval_zero true --num_training_episodes 10_000_000 --br_overrides \"--num_training_episodes 1_000_000\"'\n",
    "# dispatch.dispatch_experiments(CONFIG, base_job_name='april11_flattest_very_large_2', game_name=f'{GAME_NAME}', overrides = overrides, n_seeds=N_SEEDS)"
   ]
  },
  {
   "cell_type": "code",
   "execution_count": null,
   "id": "d92ea616-82bb-4726-8f0d-1f7cda6ed24c",
   "metadata": {},
   "outputs": [],
   "source": [
    "CONFIG = 'mar17'\n",
    "GAME_NAME = 'large_game_2'\n",
    "N_SEEDS = 5\n",
    "overrides = f'--br_portfolio_path mar17 --eval_every 1_000_000 --num_training_episodes 10_000_000 --br_overrides \"--num_training_episodes 1_000_000\"'\n",
    "\n",
    "# Base\n",
    "dispatch.dispatch_experiments(CONFIG, base_job_name='mar24', game_name=f'{GAME_NAME}', overrides = overrides, n_seeds=N_SEEDS)\n",
    "\n",
    "# Hidden demands\n",
    "# dispatch.dispatch_experiments(CONFIG, base_job_name='mar19', game_name=f'{GAME_NAME}_hide', overrides = overrides, n_seeds=N_SEEDS)\n",
    "\n",
    "# Reserve prices\n",
    "# TODO: Holding off for now b/c rounds issue\n",
    "# dispatch.dispatch_experiments(CONFIG, base_job_name='mar19', game_name=f'{GAME_NAME}_low_reserve', overrides = overrides, n_seeds=N_SEEDS)\n",
    "# dispatch.dispatch_experiments(CONFIG, base_job_name='mar19', game_name=f'{GAME_NAME}_same_reserve', overrides = overrides, n_seeds=N_SEEDS)\n",
    "\n",
    "# Activity\n",
    "# dispatch.dispatch_experiments(CONFIG, base_job_name='mar19', game_name=f'{GAME_NAME}_no_activity', overrides = overrides, n_seeds=N_SEEDS)\n",
    "# Undersell\n",
    "# dispatch.dispatch_experiments(CONFIG, base_job_name='mar19', game_name=f'{GAME_NAME}_no_undersell', overrides = overrides, n_seeds=N_SEEDS)\n",
    "\n",
    "# Initial pricing experiment, on the base game\n",
    "dispatch.dispatch_experiments(CONFIG, base_job_name='mar24', game_name=f'{GAME_NAME}_pricing05', overrides = overrides, n_seeds=N_SEEDS)"
   ]
  },
  {
   "cell_type": "code",
   "execution_count": null,
   "id": "c6a00156-d311-45a7-bf9b-cf374c46b755",
   "metadata": {},
   "outputs": [],
   "source": [
    "CONFIG = 'mar17'\n",
    "GAME_NAME = 'large_game_3b'\n",
    "N_SEEDS = 5\n",
    "overrides = f'--br_portfolio_path mar17 --eval_every 1_000_000 --num_training_episodes 10_000_000 --br_overrides \"--num_training_episodes 1_000_000\"'\n",
    "\n",
    "# Base\n",
    "dispatch.dispatch_experiments(CONFIG, base_job_name='mar22_4', game_name=f'{GAME_NAME}', overrides = overrides, n_seeds=N_SEEDS)\n",
    "\n",
    "# Hidden demands\n",
    "dispatch.dispatch_experiments(CONFIG, base_job_name='mar22_4', game_name=f'{GAME_NAME}_hide', overrides = overrides, n_seeds=N_SEEDS)\n",
    "\n",
    "# Reserve prices\n",
    "# TODO: Holding off for now b/c rounds issue\n",
    "# dispatch.dispatch_experiments(CONFIG, base_job_name='mar19', game_name=f'{GAME_NAME}_low_reserve', overrides = overrides, n_seeds=N_SEEDS)\n",
    "# dispatch.dispatch_experiments(CONFIG, base_job_name='mar19', game_name=f'{GAME_NAME}_same_reserve', overrides = overrides, n_seeds=N_SEEDS)\n",
    "\n",
    "# Activity\n",
    "# dispatch.dispatch_experiments(CONFIG, base_job_name='mar19', game_name=f'{GAME_NAME}_no_activity', overrides = overrides, n_seeds=N_SEEDS)\n",
    "# Undersell\n",
    "# dispatch.dispatch_experiments(CONFIG, base_job_name='mar19', game_name=f'{GAME_NAME}_no_undersell', overrides = overrides, n_seeds=N_SEEDS)\n",
    "\n",
    "# Initial pricing experiment, on the base game\n",
    "dispatch.dispatch_experiments(CONFIG, base_job_name='mar22_4', game_name=f'{GAME_NAME}_pricing05', overrides = overrides, n_seeds=N_SEEDS)"
   ]
  },
  {
   "cell_type": "code",
   "execution_count": null,
   "id": "1242532a-9a66-4e43-a0e9-6b96639dbb3b",
   "metadata": {},
   "outputs": [],
   "source": [
    "pks = list(map(str, EquilibriumSolverRunCheckpoint.objects.filter(equilibrium_solver_run__experiment__name='infocompare4', equilibrium_solver_run__game__name='large_game_2.json', t=1e7, equilibrium_solver_run__name__contains='mlp').values_list('pk', flat=True)))\n",
    "CONFIG = 'feb22'\n",
    "GAME_NAME = 'large_game_2'\n",
    "N_SEEDS = 1\n",
    "overrides = f'--br_portfolio_path feb22 --eval_every 1_000_000 --num_training_episodes 10_000_000 --br_overrides \"--num_training_episodes 1_000_000\" --rnr_player 0 --rnr_checkpoints {\" \".join(pks)}'\n",
    "\n",
    "dispatch.dispatch_experiments(CONFIG, base_job_name='rnrtest', game_name=GAME_NAME, overrides = overrides, n_seeds=N_SEEDS)\n",
    "# # dispatch.dispatch_experiments('feb22', base_job_name='infocompare3', game_name='large_game_2_hide', overrides = overrides, n_seeds=5)\n",
    "\n",
    "# dispatch.dispatch_experiments('mar14', base_job_name='mar15_brier_lr', game_name='large_game_2', overrides = overrides, n_seeds=1)\n",
    "# dispatch.dispatch_experiments('mar10', base_job_name='switch_and_brier3', game_name='large_game_2_switch10', overrides = overrides, n_seeds=1)\n",
    "# dispatch.dispatch_experiments('feb22', base_job_name='switch_and_brier3_old_config', game_name='large_game_2_switch10', overrides = overrides, n_seeds=1)\n",
    "\n",
    "# dispatch.dispatch_experiments('feb22', base_job_name='mar14_very_large_game_2', game_name='very_large_game_2', overrides = overrides, n_seeds=1)\n",
    "# dispatch.dispatch_experiments('feb22', base_job_name='mar14_large_game_3', game_name='large_game_3', overrides = overrides, n_seeds=5)\n",
    "# dispatch.dispatch_experiments('feb22', base_job_name='mar14_large_game_3', game_name='large_game_3_hide', overrides = overrides, n_seeds=5)\n",
    "# dispatch.dispatch_experiments('feb22', base_job_name='tiny_game_Test', game_name='tiny', overrides = overrides, n_seeds=1)"
   ]
  },
  {
   "cell_type": "code",
   "execution_count": null,
   "id": "9d200227-7a69-417a-be93-58c262f123b9",
   "metadata": {},
   "outputs": [],
   "source": [
    "# !squeue --format=\"%.18i %.65j %.2t %.10M %.6D %R\" | grep \"rnrtest\" | awk '{print $1}' | xargs scancel"
   ]
  },
  {
   "cell_type": "code",
   "execution_count": 18,
   "id": "3e5c26b7-d158-4ece-a72a-c3b2fd47a56f",
   "metadata": {
    "tags": []
   },
   "outputs": [
    {
     "name": "stdout",
     "output_type": "stream",
     "text": [
      "             JOBID                                                                             NAME ST .      TIME  NODES NODELIST(REASON)\n"
     ]
    }
   ],
   "source": [
    "!squeue --format=\"%.18i %.80j %.2t .%.10M %.6D %R\""
   ]
  },
  {
   "cell_type": "code",
   "execution_count": 18,
   "id": "a8ee533f-357a-4bbc-956e-1cf136ef9266",
   "metadata": {},
   "outputs": [
    {
     "name": "stdout",
     "output_type": "stream",
     "text": [
      "21\n"
     ]
    }
   ],
   "source": [
    "!squeue | wc -l"
   ]
  },
  {
   "cell_type": "code",
   "execution_count": 27,
   "id": "c26b508d-9ee0-4878-9aa1-68c611ab651a",
   "metadata": {},
   "outputs": [],
   "source": [
    "!scancel -u ubuntu"
   ]
  },
  {
   "cell_type": "code",
   "execution_count": 98,
   "id": "aee5cc7e-228c-4484-bb31-efb870f59efa",
   "metadata": {},
   "outputs": [],
   "source": [
    "# !scancel  25809"
   ]
  },
  {
   "cell_type": "code",
   "execution_count": null,
   "id": "3aeeeeb6-6c6f-4e37-9566-3eb8d73d97d5",
   "metadata": {},
   "outputs": [],
   "source": [
    "!rm -rf /shared/outputs/minitest/\n",
    "try:\n",
    "    Experiment.objects.get(name='minitest').delete()\n",
    "except:\n",
    "    pass\n",
    "dispatch.dispatch_experiments('feb2', base_job_name='minitest', game_name='tiny', overrides = '--br_portfolio_path feb2 --eval_every 500 --num_training_episodes 1_000 --br_overrides \"--num_training_episodes 1_000\" --eval_overrides \"--num_samples 100\"')"
   ]
  },
  {
   "cell_type": "code",
   "execution_count": null,
   "id": "d4ca4c72-ce03-4d1a-8e9d-1abd642e8407",
   "metadata": {},
   "outputs": [],
   "source": [
    "BestResponse.objects.last()"
   ]
  },
  {
   "cell_type": "code",
   "execution_count": null,
   "id": "da1b3451-a927-4467-a90d-077f2de61767",
   "metadata": {},
   "outputs": [],
   "source": [
    "Experiment.objects.all()"
   ]
  },
  {
   "cell_type": "code",
   "execution_count": null,
   "id": "0547418d-7d14-404e-ad7f-892180cd6e50",
   "metadata": {},
   "outputs": [],
   "source": [
    "!sacct --starttime 2022-03-11 --format=User,JobID,Jobname,partition,state,time,start,end,elapsed,MaxRss,MaxVMSize,nnodes,ncpus,nodelist"
   ]
  },
  {
   "cell_type": "code",
   "execution_count": null,
   "id": "7bc11eb7-da86-46db-9a6b-fe5ac595f1d6",
   "metadata": {},
   "outputs": [],
   "source": [
    "from open_spiel.python.examples.ubc_plotting_utils import parse_run\n",
    "from auctions.webutils import *\n",
    "\n",
    "def find_best_checkpoint(run, max_t=None):\n",
    "    ev_df = parse_run(run, max_t)\n",
    "    best_t = ev_df.groupby('t')['ApproxNashConv'].first().idxmin()\n",
    "    nash_conv_by_t = ev_df.groupby('t')['ApproxNashConv'].first()\n",
    "    best_checkpoint = get_checkpoint(run, t=best_t)\n",
    "    return nash_conv_by_t, best_checkpoint, nash_conv_by_t.min()\n",
    "\n",
    "\n",
    "run = EquilibriumSolverRun.objects.last()\n",
    "find_best_checkpoint(run)"
   ]
  },
  {
   "cell_type": "code",
   "execution_count": null,
   "id": "e9a3abf2-1dca-40a7-8c86-f558ac16c5c4",
   "metadata": {},
   "outputs": [],
   "source": [
    "Experiment.objects.get(name='large_game_2_no_activity.json').delete()"
   ]
  },
  {
   "cell_type": "code",
   "execution_count": null,
   "id": "f5184d7b-9f29-48aa-ae93-8920db084b8a",
   "metadata": {},
   "outputs": [],
   "source": [
    "Game.objects.get(name='large_game_2_pricing_extreme.json').delete()"
   ]
  },
  {
   "cell_type": "code",
   "execution_count": null,
   "id": "e706f461-6a88-4392-bfe4-6187661e1533",
   "metadata": {},
   "outputs": [],
   "source": [
    "!python /apps/open_spiel/web/auctions/manage.py nfsp --seed 109 --filename rounds.json --network_config_file mar17/lstm --experiment_name lstmtest --job_name \"lstm_for_greg\" --dispatch_br false --br_portfolio_path feb22 --eval_every 10_000 --num_training_episodes 10_000_000 --br_overrides \"--num_training_episodes 1_000_000\" --report_freq 10_000 --overwrite_db true"
   ]
  },
  {
   "cell_type": "code",
   "execution_count": null,
   "id": "f95b85fe-1070-463b-9b8c-3f3392d9f178",
   "metadata": {},
   "outputs": [],
   "source": [
    "list(Experiment.objects.all().values_list('name', flat=True))"
   ]
  },
  {
   "cell_type": "code",
   "execution_count": null,
   "id": "d371b8e4-55d3-4859-b28d-ff8ef2098380",
   "metadata": {},
   "outputs": [],
   "source": [
    "r = EquilibriumSolverRun.objects.get(name='large_game_3b_hide-mar17lstm-100')"
   ]
  },
  {
   "cell_type": "code",
   "execution_count": null,
   "id": "b3cdffb6-5085-4c1b-9d33-1b343934cbdb",
   "metadata": {},
   "outputs": [],
   "source": [
    "from auctions.webutils import *\n",
    "from open_spiel.python.examples.ubc_plotting_utils import *\n",
    "parse_run(r, conservative=False)"
   ]
  },
  {
   "cell_type": "code",
   "execution_count": null,
   "id": "733ad314-b27a-41d4-94d6-214cb903b5bd",
   "metadata": {},
   "outputs": [],
   "source": [
    "BREvaluation.objects.filter(best_response__checkpoint__equilibrium_solver_run=r)"
   ]
  },
  {
   "cell_type": "code",
   "execution_count": null,
   "id": "6cae40c6-7e65-4f2b-8233-3597d7096772",
   "metadata": {},
   "outputs": [],
   "source": [
    "list(BestResponse.objects.filter(checkpoint__equilibrium_solver_run=r).values('name'))"
   ]
  },
  {
   "cell_type": "code",
   "execution_count": null,
   "id": "6f8126fd-9169-41f8-85dc-1cc748b31578",
   "metadata": {},
   "outputs": [],
   "source": [
    "BestResponse.objects.filter(checkpoint=pk)[0].brevaluation.__dict__"
   ]
  },
  {
   "cell_type": "code",
   "execution_count": null,
   "id": "6bb37f06-5475-4c99-98db-bbf8f4385198",
   "metadata": {},
   "outputs": [],
   "source": [
    "from open_spiel.python.examples.ubc_plotting_utils import *\n",
    "parse_run(r, conservative=False)"
   ]
  },
  {
   "cell_type": "code",
   "execution_count": null,
   "id": "7a4a0414-e2de-4a61-84d7-128d9ec1605b",
   "metadata": {},
   "outputs": [],
   "source": [
    "BREvaluation.objects.filter(best_response__checkpoint__equilibrium_solver_run=r).values('best_response__name')"
   ]
  },
  {
   "cell_type": "code",
   "execution_count": null,
   "id": "18a64a9d-f0fd-4f83-a7a5-e4533efdef75",
   "metadata": {},
   "outputs": [],
   "source": [
    "BestResponse.objects.filter(checkpoint__equilibrium_solver_run=r).values('name')"
   ]
  },
  {
   "cell_type": "code",
   "execution_count": null,
   "id": "a3d30846-58d7-48ea-8c37-26a8e3ff3e4b",
   "metadata": {},
   "outputs": [],
   "source": [
    "experiments = ['mar24', 'mar22_4']\n",
    "all_scripts = []\n",
    "for e in experiments:\n",
    "    scripts = glob.glob(f'/shared/outputs/{e}/*/evaluations/*.sh')\n",
    "    scripts = [s for s in scripts if 'straightforward' not in s]\n",
    "    scripts = [s for s in scripts if s[-5:] == \"_2.sh\"]\n",
    "    all_scripts += scripts"
   ]
  },
  {
   "cell_type": "code",
   "execution_count": null,
   "id": "1add0f96-beb4-4aa2-b729-61c3d03e9746",
   "metadata": {},
   "outputs": [],
   "source": [
    "for script in all_scripts:\n",
    "    parent = Path(script).parent\n",
    "    !cd {parent} && sbatch {script}"
   ]
  },
  {
   "cell_type": "code",
   "execution_count": null,
   "id": "e19fcfab-57c4-4fea-bebc-a59ecde20baf",
   "metadata": {},
   "outputs": [],
   "source": [
    "x = Evaluation.objects.last()"
   ]
  },
  {
   "cell_type": "code",
   "execution_count": null,
   "id": "99f49bbf-6fcb-438a-a773-7dac9b989148",
   "metadata": {},
   "outputs": [],
   "source": [
    "x.samples['allocations']"
   ]
  },
  {
   "cell_type": "code",
   "execution_count": 17,
   "id": "d61d2c89-07b8-43c7-ba5d-f8bfcbce3496",
   "metadata": {},
   "outputs": [
    {
     "data": {
      "text/plain": [
       "<Evaluation: Evaluation for large_game_2-april1lstm-100 (april7_test_3) Iteration 1>"
      ]
     },
     "execution_count": 17,
     "metadata": {},
     "output_type": "execute_result"
    }
   ],
   "source": [
    "Evaluation.objects.last()"
   ]
  },
  {
   "cell_type": "code",
   "execution_count": 8,
   "id": "9be1d94a-3886-4c7e-9aec-74dd5ff08c0d",
   "metadata": {},
   "outputs": [],
   "source": [
    "import torch.nn.functional as F\n",
    "import torch\n",
    "x = torch.tensor([1,2,3])"
   ]
  },
  {
   "cell_type": "code",
   "execution_count": 15,
   "id": "f9ffdfc7-0d45-4213-91e2-4efb2759f568",
   "metadata": {},
   "outputs": [
    {
     "data": {
      "text/plain": [
       "tensor([1, 2, 3, 0, 0])"
      ]
     },
     "execution_count": 15,
     "metadata": {},
     "output_type": "execute_result"
    }
   ],
   "source": [
    "F.pad(x, (0, 2))"
   ]
  },
  {
   "cell_type": "code",
   "execution_count": null,
   "id": "1220a6ad-d54f-4259-8c48-12f7a6d7ced6",
   "metadata": {},
   "outputs": [],
   "source": [
    "torch.nn.functional.pad(input, pad, mode='constant', value=0.0)"
   ]
  },
  {
   "cell_type": "code",
   "execution_count": 89,
   "id": "32bbb5ea-b58a-4655-87ff-d0cf9a47876f",
   "metadata": {},
   "outputs": [],
   "source": [
    "x =np.array([[1,2,3],[4,5,6]])"
   ]
  },
  {
   "cell_type": "code",
   "execution_count": 90,
   "id": "19f4c3f8-975e-4a73-bb9d-83278298adf5",
   "metadata": {},
   "outputs": [
    {
     "data": {
      "text/plain": [
       "array([5, 7, 9])"
      ]
     },
     "execution_count": 90,
     "metadata": {},
     "output_type": "execute_result"
    }
   ],
   "source": [
    "x.sum(axis=0)"
   ]
  },
  {
   "cell_type": "code",
   "execution_count": 91,
   "id": "b42c3f97-59ef-405a-9d9a-901c8e194738",
   "metadata": {},
   "outputs": [
    {
     "data": {
      "text/plain": [
       "array([ 6, 15])"
      ]
     },
     "execution_count": 91,
     "metadata": {},
     "output_type": "execute_result"
    }
   ],
   "source": [
    "x.sum(axis=1)"
   ]
  },
  {
   "cell_type": "code",
   "execution_count": 92,
   "id": "80ea65a0-18d5-49e8-a18d-c04a39db4035",
   "metadata": {},
   "outputs": [
    {
     "ename": "AxisError",
     "evalue": "axis 1 is out of bounds for array of dimension 1",
     "output_type": "error",
     "traceback": [
      "\u001b[0;31m---------------------------------------------------------------------------\u001b[0m",
      "\u001b[0;31mAxisError\u001b[0m                                 Traceback (most recent call last)",
      "Input \u001b[0;32mIn [92]\u001b[0m, in \u001b[0;36m<module>\u001b[0;34m\u001b[0m\n\u001b[0;32m----> 1\u001b[0m \u001b[43mnp\u001b[49m\u001b[38;5;241;43m.\u001b[39;49m\u001b[43marray\u001b[49m\u001b[43m(\u001b[49m\u001b[43m[\u001b[49m\u001b[38;5;241;43m5\u001b[39;49m\u001b[43m,\u001b[49m\u001b[38;5;241;43m10\u001b[39;49m\u001b[43m]\u001b[49m\u001b[43m)\u001b[49m\u001b[38;5;241;43m.\u001b[39;49m\u001b[43msum\u001b[49m\u001b[43m(\u001b[49m\u001b[43maxis\u001b[49m\u001b[38;5;241;43m=\u001b[39;49m\u001b[38;5;241;43m1\u001b[39;49m\u001b[43m)\u001b[49m\n",
      "File \u001b[0;32m~/.pyenv/versions/3.8.2/envs/venv/lib/python3.8/site-packages/numpy/core/_methods.py:48\u001b[0m, in \u001b[0;36m_sum\u001b[0;34m(a, axis, dtype, out, keepdims, initial, where)\u001b[0m\n\u001b[1;32m     46\u001b[0m \u001b[38;5;28;01mdef\u001b[39;00m \u001b[38;5;21m_sum\u001b[39m(a, axis\u001b[38;5;241m=\u001b[39m\u001b[38;5;28;01mNone\u001b[39;00m, dtype\u001b[38;5;241m=\u001b[39m\u001b[38;5;28;01mNone\u001b[39;00m, out\u001b[38;5;241m=\u001b[39m\u001b[38;5;28;01mNone\u001b[39;00m, keepdims\u001b[38;5;241m=\u001b[39m\u001b[38;5;28;01mFalse\u001b[39;00m,\n\u001b[1;32m     47\u001b[0m          initial\u001b[38;5;241m=\u001b[39m_NoValue, where\u001b[38;5;241m=\u001b[39m\u001b[38;5;28;01mTrue\u001b[39;00m):\n\u001b[0;32m---> 48\u001b[0m     \u001b[38;5;28;01mreturn\u001b[39;00m \u001b[43mumr_sum\u001b[49m\u001b[43m(\u001b[49m\u001b[43ma\u001b[49m\u001b[43m,\u001b[49m\u001b[43m \u001b[49m\u001b[43maxis\u001b[49m\u001b[43m,\u001b[49m\u001b[43m \u001b[49m\u001b[43mdtype\u001b[49m\u001b[43m,\u001b[49m\u001b[43m \u001b[49m\u001b[43mout\u001b[49m\u001b[43m,\u001b[49m\u001b[43m \u001b[49m\u001b[43mkeepdims\u001b[49m\u001b[43m,\u001b[49m\u001b[43m \u001b[49m\u001b[43minitial\u001b[49m\u001b[43m,\u001b[49m\u001b[43m \u001b[49m\u001b[43mwhere\u001b[49m\u001b[43m)\u001b[49m\n",
      "\u001b[0;31mAxisError\u001b[0m: axis 1 is out of bounds for array of dimension 1"
     ]
    }
   ],
   "source": [
    "np.array([5,10]).sum(axis=1)"
   ]
  },
  {
   "cell_type": "code",
   "execution_count": null,
   "id": "b745d521-0b5b-4c8a-bfb4-3f6ad0f4c107",
   "metadata": {},
   "outputs": [],
   "source": [
    "python /apps/open_spiel/web/auctions/manage.py nfsp --seed 100 --filename sats_5.json --network_config_file flatmlp/mlp --experiment_name test_require_br --job_name \"sats_5_test-flatmlpmlp-100\" --dispatch_br false --dry_run true --overwrite_db True --br_portfolio_path flatmlp --eval_every 1_000_000 --eval_zero false --num_training_episodes 8_000_000 --br_overrides \"--num_training_episodes 1_000_000\" --iterate_br false --require_br true\n",
    "\n",
    "# Get env_and_model\n",
    "\n",
    "\n",
    "# run_nfsp(env_and_model, 10_000, True, False, NullResultSaver(), 1, False, NullDispatcher(), eval_every, eval_every_early, eval_exactly, eval_zero, report_freq, dispatch_br, agent_selector, random_ic=False):"
   ]
  },
  {
   "cell_type": "code",
   "execution_count": null,
   "id": "d1c7170f-13f4-4ce5-a820-f262f723198c",
   "metadata": {},
   "outputs": [],
   "source": []
  }
 ],
 "metadata": {
  "kernelspec": {
   "display_name": "Django Shell-Plus",
   "language": "python",
   "name": "django_extensions"
  },
  "language_info": {
   "codemirror_mode": {
    "name": "ipython",
    "version": 3
   },
   "file_extension": ".py",
   "mimetype": "text/x-python",
   "name": "python",
   "nbconvert_exporter": "python",
   "pygments_lexer": "ipython3",
   "version": "3.8.2"
  }
 },
 "nbformat": 4,
 "nbformat_minor": 5
}
