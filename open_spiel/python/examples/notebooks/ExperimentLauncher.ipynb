{
 "cells": [
  {
   "cell_type": "code",
   "execution_count": 74,
   "id": "53d1f915-16a6-42e9-b93a-3f44564ef069",
   "metadata": {},
   "outputs": [
    {
     "name": "stdout",
     "output_type": "stream",
     "text": [
      "The autoreload extension is already loaded. To reload it, use:\n",
      "  %reload_ext autoreload\n",
      "%pylab is deprecated, use %matplotlib inline and import the required libraries.\n",
      "Populating the interactive namespace from numpy and matplotlib\n"
     ]
    }
   ],
   "source": [
    "%load_ext autoreload\n",
    "%autoreload 2\n",
    "%pylab inline\n",
    "\n",
    "import sys\n",
    "import glob\n",
    "import pandas as pd\n",
    "import os\n",
    "import seaborn as sns\n",
    "from tqdm import tqdm_notebook as tqdm\n",
    "from statsmodels.distributions.empirical_distribution import ECDF\n",
    "from collections import defaultdict\n",
    "import open_spiel.python.examples.ubc_dispatch as dispatch\n",
    "import os\n",
    "os.environ[\"DJANGO_ALLOW_ASYNC_UNSAFE\"] = \"true\"\n"
   ]
  },
  {
   "cell_type": "code",
   "execution_count": 71,
   "id": "eafabe34-690b-4655-8a41-7ad23360ecc8",
   "metadata": {},
   "outputs": [
    {
     "name": "stdout",
     "output_type": "stream",
     "text": [
      "Submitted batch job 10402\n",
      "Submitted batch job 10403\n",
      "Submitted batch job 10404\n",
      "Submitted batch job 10405\n",
      "Submitted batch job 10406\n"
     ]
    }
   ],
   "source": [
    "overrides = f'--br_portfolio_path feb22 --eval_every 1_000_000 --num_training_episodes 10_000_000 --br_overrides \"--num_training_episodes 1_000_000\"'\n",
    "dispatch.dispatch_experiments('mar17', base_job_name='infocompare4', game_name='large_game_2', overrides = overrides, n_seeds=5)\n",
    "\n",
    "# dispatch.dispatch_experiments('feb22', base_job_name='infocompare4', game_name='large_game_2', overrides = overrides, n_seeds=5)\n",
    "# # dispatch.dispatch_experiments('feb22', base_job_name='infocompare3', game_name='large_game_2_hide', overrides = overrides, n_seeds=5)\n",
    "\n",
    "# dispatch.dispatch_experiments('mar14', base_job_name='mar15_brier_lr', game_name='large_game_2', overrides = overrides, n_seeds=1)\n",
    "# dispatch.dispatch_experiments('mar10', base_job_name='switch_and_brier3', game_name='large_game_2_switch10', overrides = overrides, n_seeds=1)\n",
    "# dispatch.dispatch_experiments('feb22', base_job_name='switch_and_brier3_old_config', game_name='large_game_2_switch10', overrides = overrides, n_seeds=1)\n",
    "\n",
    "# dispatch.dispatch_experiments('feb22', base_job_name='mar14_very_large_game_2', game_name='very_large_game_2', overrides = overrides, n_seeds=1)\n",
    "# dispatch.dispatch_experiments('feb22', base_job_name='mar14_large_game_3', game_name='large_game_3', overrides = overrides, n_seeds=5)\n",
    "# dispatch.dispatch_experiments('feb22', base_job_name='mar14_large_game_3', game_name='large_game_3_hide', overrides = overrides, n_seeds=5)\n",
    "# dispatch.dispatch_experiments('feb22', base_job_name='tiny_game_Test', game_name='tiny', overrides = overrides, n_seeds=1)"
   ]
  },
  {
   "cell_type": "code",
   "execution_count": 75,
   "id": "d92ea616-82bb-4726-8f0d-1f7cda6ed24c",
   "metadata": {},
   "outputs": [
    {
     "name": "stdout",
     "output_type": "stream",
     "text": [
      "Submitted batch job 10987\n",
      "Submitted batch job 10988\n",
      "Submitted batch job 10989\n",
      "Submitted batch job 10990\n",
      "Submitted batch job 10991\n",
      "Submitted batch job 10992\n",
      "Submitted batch job 10993\n",
      "Submitted batch job 10994\n",
      "Submitted batch job 10995\n",
      "Submitted batch job 10996\n",
      "Submitted batch job 10997\n",
      "Submitted batch job 10998\n",
      "Submitted batch job 10999\n",
      "Submitted batch job 11000\n",
      "Submitted batch job 11001\n",
      "Submitted batch job 11002\n",
      "Submitted batch job 11003\n",
      "Submitted batch job 11004\n",
      "Submitted batch job 11005\n",
      "Submitted batch job 11006\n"
     ]
    }
   ],
   "source": [
    "CONFIG = 'feb22'\n",
    "GAME_NAME = 'large_game_2'\n",
    "N_SEEDS = 5\n",
    "overrides = f'--br_portfolio_path feb22 --eval_every 1_000_000 --num_training_episodes 10_000_000 --br_overrides \"--num_training_episodes 1_000_000\"'\n",
    "\n",
    "# You have base and hidden demands inside of infocompare4 already\n",
    "# Base\n",
    "# dispatch.dispatch_experiments(CONFIG, base_job_name='mar19', game_name=f'{GAME_NAME}', overrides = overrides, n_seeds=N_SEEDS)\n",
    "\n",
    "# Hidden demands\n",
    "dispatch.dispatch_experiments(CONFIG, base_job_name='mar19', game_name=f'{GAME_NAME}_hide', overrides = overrides, n_seeds=N_SEEDS)\n",
    "\n",
    "# Reserve prices\n",
    "# TODO: Holding off for now b/c rounds issue\n",
    "# dispatch.dispatch_experiments(CONFIG, base_job_name='mar19', game_name=f'{GAME_NAME}_low_reserve', overrides = overrides, n_seeds=N_SEEDS)\n",
    "# dispatch.dispatch_experiments(CONFIG, base_job_name='mar19', game_name=f'{GAME_NAME}_same_reserve', overrides = overrides, n_seeds=N_SEEDS)\n",
    "\n",
    "# Activity\n",
    "dispatch.dispatch_experiments(CONFIG, base_job_name='mar19', game_name=f'{GAME_NAME}_no_activity', overrides = overrides, n_seeds=N_SEEDS)\n",
    "# Undersell\n",
    "dispatch.dispatch_experiments(CONFIG, base_job_name='mar19', game_name=f'{GAME_NAME}_no_undersell', overrides = overrides, n_seeds=N_SEEDS)\n",
    "\n",
    "# Initial pricing experiment, on the base game\n",
    "dispatch.dispatch_experiments(CONFIG, base_job_name='pricing', game_name=f'{GAME_NAME}_pricing', overrides = overrides, n_seeds=N_SEEDS)\n",
    "\n",
    "\n",
    "# TODO: Rerun all of these w/ pricing\n",
    "# TODO: Rerun on 3p variants"
   ]
  },
  {
   "cell_type": "code",
   "execution_count": 27,
   "id": "9d200227-7a69-417a-be93-58c262f123b9",
   "metadata": {},
   "outputs": [],
   "source": [
    "# !squeue --format=\"%.18i %.65j %.2t %.10M %.6D %R\" | grep \"_mlp  R\" | awk '{print $1}' | xargs scancel"
   ]
  },
  {
   "cell_type": "code",
   "execution_count": 79,
   "id": "1517f441-4c4c-47fe-9dcb-2ae7cebca8c2",
   "metadata": {},
   "outputs": [
    {
     "name": "stdout",
     "output_type": "stream",
     "text": [
      "             JOBID                                                              NAME ST       TIME  NODES NODELIST(REASON)\n",
      "             12201 br_1_mar19_large_game_2_low_reserve-feb22mlp-104_10000000_feb22_m  R    2:33:03      1 ip-10-255-7-35\n",
      "             12206 eval_large_game_2_low_reserve-feb22mlp-104_10000000_mar19_feb22ml  R       4:26      1 ip-10-255-7-118\n"
     ]
    }
   ],
   "source": [
    "!squeue --format=\"%.18i %.65j %.2t %.10M %.6D %R\""
   ]
  },
  {
   "cell_type": "code",
   "execution_count": 62,
   "id": "a8ee533f-357a-4bbc-956e-1cf136ef9266",
   "metadata": {},
   "outputs": [],
   "source": [
    "# !scancel 9587"
   ]
  },
  {
   "cell_type": "code",
   "execution_count": 69,
   "id": "c26b508d-9ee0-4878-9aa1-68c611ab651a",
   "metadata": {},
   "outputs": [],
   "source": [
    "!scancel -u ubuntu"
   ]
  },
  {
   "cell_type": "code",
   "execution_count": null,
   "id": "3aeeeeb6-6c6f-4e37-9566-3eb8d73d97d5",
   "metadata": {},
   "outputs": [],
   "source": [
    "!rm -rf /shared/outputs/minitest/\n",
    "try:\n",
    "    Experiment.objects.get(name='minitest').delete()\n",
    "except:\n",
    "    pass\n",
    "dispatch.dispatch_experiments('feb2', base_job_name='minitest', game_name='tiny', overrides = '--br_portfolio_path feb2 --eval_every 500 --num_training_episodes 1_000 --br_overrides \"--num_training_episodes 1_000\" --eval_overrides \"--num_samples 100\"')"
   ]
  },
  {
   "cell_type": "code",
   "execution_count": null,
   "id": "d4ca4c72-ce03-4d1a-8e9d-1abd642e8407",
   "metadata": {},
   "outputs": [],
   "source": [
    "BestResponse.objects.last()"
   ]
  },
  {
   "cell_type": "code",
   "execution_count": null,
   "id": "da1b3451-a927-4467-a90d-077f2de61767",
   "metadata": {},
   "outputs": [],
   "source": [
    "Experiment.objects.all()"
   ]
  },
  {
   "cell_type": "code",
   "execution_count": 37,
   "id": "0547418d-7d14-404e-ad7f-892180cd6e50",
   "metadata": {},
   "outputs": [
    {
     "name": "stdout",
     "output_type": "stream",
     "text": [
      "Slurm accounting storage is disabled\n"
     ]
    }
   ],
   "source": [
    "!sacct --starttime 2022-03-11 --format=User,JobID,Jobname,partition,state,time,start,end,elapsed,MaxRss,MaxVMSize,nnodes,ncpus,nodelist"
   ]
  },
  {
   "cell_type": "code",
   "execution_count": 50,
   "id": "7bc11eb7-da86-46db-9a6b-fe5ac595f1d6",
   "metadata": {},
   "outputs": [
    {
     "data": {
      "text/plain": [
       "(t\n",
       " 1          215.790510\n",
       " 1000000     17.236075\n",
       " 2000000     14.384932\n",
       " 3000000     19.374879\n",
       " 4000000     15.771433\n",
       " 5000000     13.261669\n",
       " 6000000      9.768694\n",
       " Name: ApproxNashConv, dtype: float64,\n",
       " <EquilibriumSolverRunCheckpoint: large_game_2_switch-feb22mlp-100 Iteration 6000000>,\n",
       " 9.768694201495364)"
      ]
     },
     "execution_count": 50,
     "metadata": {},
     "output_type": "execute_result"
    }
   ],
   "source": [
    "from open_spiel.python.examples.ubc_plotting_utils import parse_run\n",
    "from auctions.webutils import *\n",
    "\n",
    "def find_best_checkpoint(run, max_t=None):\n",
    "    ev_df = parse_run(run, max_t)\n",
    "    best_t = ev_df.groupby('t')['ApproxNashConv'].first().idxmin()\n",
    "    nash_conv_by_t = ev_df.groupby('t')['ApproxNashConv'].first()\n",
    "    best_checkpoint = get_checkpoint(run, t=best_t)\n",
    "    return nash_conv_by_t, best_checkpoint, nash_conv_by_t.min()\n",
    "\n",
    "\n",
    "run = EquilibriumSolverRun.objects.last()\n",
    "find_best_checkpoint(run)"
   ]
  },
  {
   "cell_type": "code",
   "execution_count": 80,
   "id": "e9a3abf2-1dca-40a7-8c86-f558ac16c5c4",
   "metadata": {},
   "outputs": [
    {
     "ename": "DoesNotExist",
     "evalue": "Experiment matching query does not exist.",
     "output_type": "error",
     "traceback": [
      "\u001b[0;31m---------------------------------------------------------------------------\u001b[0m",
      "\u001b[0;31mDoesNotExist\u001b[0m                              Traceback (most recent call last)",
      "Input \u001b[0;32mIn [80]\u001b[0m, in \u001b[0;36m<module>\u001b[0;34m\u001b[0m\n\u001b[0;32m----> 1\u001b[0m \u001b[43mExperiment\u001b[49m\u001b[38;5;241;43m.\u001b[39;49m\u001b[43mobjects\u001b[49m\u001b[38;5;241;43m.\u001b[39;49m\u001b[43mget\u001b[49m\u001b[43m(\u001b[49m\u001b[43mname\u001b[49m\u001b[38;5;241;43m=\u001b[39;49m\u001b[38;5;124;43m'\u001b[39;49m\u001b[38;5;124;43mlarge_game_2_no_activity.json\u001b[39;49m\u001b[38;5;124;43m'\u001b[39;49m\u001b[43m)\u001b[49m\u001b[38;5;241m.\u001b[39mdelete()\n",
      "File \u001b[0;32m~/.pyenv/versions/3.8.2/envs/venv/lib/python3.8/site-packages/django/db/models/manager.py:85\u001b[0m, in \u001b[0;36mBaseManager._get_queryset_methods.<locals>.create_method.<locals>.manager_method\u001b[0;34m(self, *args, **kwargs)\u001b[0m\n\u001b[1;32m     84\u001b[0m \u001b[38;5;28;01mdef\u001b[39;00m \u001b[38;5;21mmanager_method\u001b[39m(\u001b[38;5;28mself\u001b[39m, \u001b[38;5;241m*\u001b[39margs, \u001b[38;5;241m*\u001b[39m\u001b[38;5;241m*\u001b[39mkwargs):\n\u001b[0;32m---> 85\u001b[0m     \u001b[38;5;28;01mreturn\u001b[39;00m \u001b[38;5;28;43mgetattr\u001b[39;49m\u001b[43m(\u001b[49m\u001b[38;5;28;43mself\u001b[39;49m\u001b[38;5;241;43m.\u001b[39;49m\u001b[43mget_queryset\u001b[49m\u001b[43m(\u001b[49m\u001b[43m)\u001b[49m\u001b[43m,\u001b[49m\u001b[43m \u001b[49m\u001b[43mname\u001b[49m\u001b[43m)\u001b[49m\u001b[43m(\u001b[49m\u001b[38;5;241;43m*\u001b[39;49m\u001b[43margs\u001b[49m\u001b[43m,\u001b[49m\u001b[43m \u001b[49m\u001b[38;5;241;43m*\u001b[39;49m\u001b[38;5;241;43m*\u001b[39;49m\u001b[43mkwargs\u001b[49m\u001b[43m)\u001b[49m\n",
      "File \u001b[0;32m~/.pyenv/versions/3.8.2/envs/venv/lib/python3.8/site-packages/django/db/models/query.py:439\u001b[0m, in \u001b[0;36mQuerySet.get\u001b[0;34m(self, *args, **kwargs)\u001b[0m\n\u001b[1;32m    437\u001b[0m     \u001b[38;5;28;01mreturn\u001b[39;00m clone\u001b[38;5;241m.\u001b[39m_result_cache[\u001b[38;5;241m0\u001b[39m]\n\u001b[1;32m    438\u001b[0m \u001b[38;5;28;01mif\u001b[39;00m \u001b[38;5;129;01mnot\u001b[39;00m num:\n\u001b[0;32m--> 439\u001b[0m     \u001b[38;5;28;01mraise\u001b[39;00m \u001b[38;5;28mself\u001b[39m\u001b[38;5;241m.\u001b[39mmodel\u001b[38;5;241m.\u001b[39mDoesNotExist(\n\u001b[1;32m    440\u001b[0m         \u001b[38;5;124m\"\u001b[39m\u001b[38;5;132;01m%s\u001b[39;00m\u001b[38;5;124m matching query does not exist.\u001b[39m\u001b[38;5;124m\"\u001b[39m \u001b[38;5;241m%\u001b[39m\n\u001b[1;32m    441\u001b[0m         \u001b[38;5;28mself\u001b[39m\u001b[38;5;241m.\u001b[39mmodel\u001b[38;5;241m.\u001b[39m_meta\u001b[38;5;241m.\u001b[39mobject_name\n\u001b[1;32m    442\u001b[0m     )\n\u001b[1;32m    443\u001b[0m \u001b[38;5;28;01mraise\u001b[39;00m \u001b[38;5;28mself\u001b[39m\u001b[38;5;241m.\u001b[39mmodel\u001b[38;5;241m.\u001b[39mMultipleObjectsReturned(\n\u001b[1;32m    444\u001b[0m     \u001b[38;5;124m'\u001b[39m\u001b[38;5;124mget() returned more than one \u001b[39m\u001b[38;5;132;01m%s\u001b[39;00m\u001b[38;5;124m -- it returned \u001b[39m\u001b[38;5;132;01m%s\u001b[39;00m\u001b[38;5;124m!\u001b[39m\u001b[38;5;124m'\u001b[39m \u001b[38;5;241m%\u001b[39m (\n\u001b[1;32m    445\u001b[0m         \u001b[38;5;28mself\u001b[39m\u001b[38;5;241m.\u001b[39mmodel\u001b[38;5;241m.\u001b[39m_meta\u001b[38;5;241m.\u001b[39mobject_name,\n\u001b[1;32m    446\u001b[0m         num \u001b[38;5;28;01mif\u001b[39;00m \u001b[38;5;129;01mnot\u001b[39;00m limit \u001b[38;5;129;01mor\u001b[39;00m num \u001b[38;5;241m<\u001b[39m limit \u001b[38;5;28;01melse\u001b[39;00m \u001b[38;5;124m'\u001b[39m\u001b[38;5;124mmore than \u001b[39m\u001b[38;5;132;01m%s\u001b[39;00m\u001b[38;5;124m'\u001b[39m \u001b[38;5;241m%\u001b[39m (limit \u001b[38;5;241m-\u001b[39m \u001b[38;5;241m1\u001b[39m),\n\u001b[1;32m    447\u001b[0m     )\n\u001b[1;32m    448\u001b[0m )\n",
      "\u001b[0;31mDoesNotExist\u001b[0m: Experiment matching query does not exist."
     ]
    }
   ],
   "source": [
    "Experiment.objects.get(name='large_game_2_no_activity.json').delete()"
   ]
  },
  {
   "cell_type": "code",
   "execution_count": 81,
   "id": "f5184d7b-9f29-48aa-ae93-8920db084b8a",
   "metadata": {},
   "outputs": [
    {
     "ename": "DoesNotExist",
     "evalue": "Experiment matching query does not exist.",
     "output_type": "error",
     "traceback": [
      "\u001b[0;31m---------------------------------------------------------------------------\u001b[0m",
      "\u001b[0;31mDoesNotExist\u001b[0m                              Traceback (most recent call last)",
      "Input \u001b[0;32mIn [81]\u001b[0m, in \u001b[0;36m<module>\u001b[0;34m\u001b[0m\n\u001b[0;32m----> 1\u001b[0m \u001b[43mExperiment\u001b[49m\u001b[38;5;241;43m.\u001b[39;49m\u001b[43mobjects\u001b[49m\u001b[38;5;241;43m.\u001b[39;49m\u001b[43mget\u001b[49m\u001b[43m(\u001b[49m\u001b[43mname\u001b[49m\u001b[38;5;241;43m=\u001b[39;49m\u001b[38;5;124;43m'\u001b[39;49m\u001b[38;5;124;43mlarge_game_2_no_undersell.json\u001b[39;49m\u001b[38;5;124;43m'\u001b[39;49m\u001b[43m)\u001b[49m\u001b[38;5;241m.\u001b[39mdelete()\n",
      "File \u001b[0;32m~/.pyenv/versions/3.8.2/envs/venv/lib/python3.8/site-packages/django/db/models/manager.py:85\u001b[0m, in \u001b[0;36mBaseManager._get_queryset_methods.<locals>.create_method.<locals>.manager_method\u001b[0;34m(self, *args, **kwargs)\u001b[0m\n\u001b[1;32m     84\u001b[0m \u001b[38;5;28;01mdef\u001b[39;00m \u001b[38;5;21mmanager_method\u001b[39m(\u001b[38;5;28mself\u001b[39m, \u001b[38;5;241m*\u001b[39margs, \u001b[38;5;241m*\u001b[39m\u001b[38;5;241m*\u001b[39mkwargs):\n\u001b[0;32m---> 85\u001b[0m     \u001b[38;5;28;01mreturn\u001b[39;00m \u001b[38;5;28;43mgetattr\u001b[39;49m\u001b[43m(\u001b[49m\u001b[38;5;28;43mself\u001b[39;49m\u001b[38;5;241;43m.\u001b[39;49m\u001b[43mget_queryset\u001b[49m\u001b[43m(\u001b[49m\u001b[43m)\u001b[49m\u001b[43m,\u001b[49m\u001b[43m \u001b[49m\u001b[43mname\u001b[49m\u001b[43m)\u001b[49m\u001b[43m(\u001b[49m\u001b[38;5;241;43m*\u001b[39;49m\u001b[43margs\u001b[49m\u001b[43m,\u001b[49m\u001b[43m \u001b[49m\u001b[38;5;241;43m*\u001b[39;49m\u001b[38;5;241;43m*\u001b[39;49m\u001b[43mkwargs\u001b[49m\u001b[43m)\u001b[49m\n",
      "File \u001b[0;32m~/.pyenv/versions/3.8.2/envs/venv/lib/python3.8/site-packages/django/db/models/query.py:439\u001b[0m, in \u001b[0;36mQuerySet.get\u001b[0;34m(self, *args, **kwargs)\u001b[0m\n\u001b[1;32m    437\u001b[0m     \u001b[38;5;28;01mreturn\u001b[39;00m clone\u001b[38;5;241m.\u001b[39m_result_cache[\u001b[38;5;241m0\u001b[39m]\n\u001b[1;32m    438\u001b[0m \u001b[38;5;28;01mif\u001b[39;00m \u001b[38;5;129;01mnot\u001b[39;00m num:\n\u001b[0;32m--> 439\u001b[0m     \u001b[38;5;28;01mraise\u001b[39;00m \u001b[38;5;28mself\u001b[39m\u001b[38;5;241m.\u001b[39mmodel\u001b[38;5;241m.\u001b[39mDoesNotExist(\n\u001b[1;32m    440\u001b[0m         \u001b[38;5;124m\"\u001b[39m\u001b[38;5;132;01m%s\u001b[39;00m\u001b[38;5;124m matching query does not exist.\u001b[39m\u001b[38;5;124m\"\u001b[39m \u001b[38;5;241m%\u001b[39m\n\u001b[1;32m    441\u001b[0m         \u001b[38;5;28mself\u001b[39m\u001b[38;5;241m.\u001b[39mmodel\u001b[38;5;241m.\u001b[39m_meta\u001b[38;5;241m.\u001b[39mobject_name\n\u001b[1;32m    442\u001b[0m     )\n\u001b[1;32m    443\u001b[0m \u001b[38;5;28;01mraise\u001b[39;00m \u001b[38;5;28mself\u001b[39m\u001b[38;5;241m.\u001b[39mmodel\u001b[38;5;241m.\u001b[39mMultipleObjectsReturned(\n\u001b[1;32m    444\u001b[0m     \u001b[38;5;124m'\u001b[39m\u001b[38;5;124mget() returned more than one \u001b[39m\u001b[38;5;132;01m%s\u001b[39;00m\u001b[38;5;124m -- it returned \u001b[39m\u001b[38;5;132;01m%s\u001b[39;00m\u001b[38;5;124m!\u001b[39m\u001b[38;5;124m'\u001b[39m \u001b[38;5;241m%\u001b[39m (\n\u001b[1;32m    445\u001b[0m         \u001b[38;5;28mself\u001b[39m\u001b[38;5;241m.\u001b[39mmodel\u001b[38;5;241m.\u001b[39m_meta\u001b[38;5;241m.\u001b[39mobject_name,\n\u001b[1;32m    446\u001b[0m         num \u001b[38;5;28;01mif\u001b[39;00m \u001b[38;5;129;01mnot\u001b[39;00m limit \u001b[38;5;129;01mor\u001b[39;00m num \u001b[38;5;241m<\u001b[39m limit \u001b[38;5;28;01melse\u001b[39;00m \u001b[38;5;124m'\u001b[39m\u001b[38;5;124mmore than \u001b[39m\u001b[38;5;132;01m%s\u001b[39;00m\u001b[38;5;124m'\u001b[39m \u001b[38;5;241m%\u001b[39m (limit \u001b[38;5;241m-\u001b[39m \u001b[38;5;241m1\u001b[39m),\n\u001b[1;32m    447\u001b[0m     )\n\u001b[1;32m    448\u001b[0m )\n",
      "\u001b[0;31mDoesNotExist\u001b[0m: Experiment matching query does not exist."
     ]
    }
   ],
   "source": [
    "Experiment.objects.get(name='large_game_2_no_undersell.json').delete()"
   ]
  },
  {
   "cell_type": "code",
   "execution_count": null,
   "id": "e706f461-6a88-4392-bfe4-6187661e1533",
   "metadata": {},
   "outputs": [],
   "source": []
  }
 ],
 "metadata": {
  "kernelspec": {
   "display_name": "Django Shell-Plus",
   "language": "python",
   "name": "django_extensions"
  },
  "language_info": {
   "codemirror_mode": {
    "name": "ipython",
    "version": 3
   },
   "file_extension": ".py",
   "mimetype": "text/x-python",
   "name": "python",
   "nbconvert_exporter": "python",
   "pygments_lexer": "ipython3",
   "version": "3.8.2"
  }
 },
 "nbformat": 4,
 "nbformat_minor": 5
}
