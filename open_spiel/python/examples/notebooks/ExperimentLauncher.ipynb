{
 "cells": [
  {
   "cell_type": "code",
   "execution_count": 1,
   "id": "53d1f915-16a6-42e9-b93a-3f44564ef069",
   "metadata": {},
   "outputs": [
    {
     "name": "stdout",
     "output_type": "stream",
     "text": [
      "%pylab is deprecated, use %matplotlib inline and import the required libraries.\n",
      "Populating the interactive namespace from numpy and matplotlib\n"
     ]
    }
   ],
   "source": [
    "%load_ext autoreload\n",
    "%autoreload 2\n",
    "%pylab inline\n",
    "\n",
    "import sys\n",
    "import glob\n",
    "import pandas as pd\n",
    "import os\n",
    "import seaborn as sns\n",
    "from tqdm import tqdm_notebook as tqdm\n",
    "from statsmodels.distributions.empirical_distribution import ECDF\n",
    "from collections import defaultdict\n",
    "import open_spiel.python.examples.ubc_dispatch as dispatch\n",
    "import os\n",
    "os.environ[\"DJANGO_ALLOW_ASYNC_UNSAFE\"] = \"true\"\n"
   ]
  },
  {
   "cell_type": "code",
   "execution_count": 10,
   "id": "eafabe34-690b-4655-8a41-7ad23360ecc8",
   "metadata": {},
   "outputs": [
    {
     "name": "stdout",
     "output_type": "stream",
     "text": [
      "Submitted batch job 4833\n",
      "Submitted batch job 4834\n",
      "Submitted batch job 4835\n",
      "Submitted batch job 4836\n",
      "Submitted batch job 4837\n",
      "Submitted batch job 4838\n",
      "Submitted batch job 4839\n",
      "Submitted batch job 4840\n",
      "Submitted batch job 4841\n",
      "Submitted batch job 4842\n",
      "Submitted batch job 4843\n",
      "Submitted batch job 4844\n",
      "Submitted batch job 4845\n",
      "Submitted batch job 4846\n",
      "Submitted batch job 4847\n",
      "Submitted batch job 4848\n",
      "Submitted batch job 4849\n",
      "Submitted batch job 4850\n",
      "Submitted batch job 4851\n",
      "Submitted batch job 4852\n"
     ]
    }
   ],
   "source": [
    "overrides = f'--br_portfolio_path feb22 --eval_every 1_000_000 --num_training_episodes 10_000_000 --br_overrides \"--num_training_episodes 1_000_000\"'\n",
    "# dispatch.dispatch_experiments('feb22', base_job_name='infocompare', game_name='large_game_2', overrides = overrides, n_seeds=10)\n",
    "\n",
    "# TODO: RL Learning rate issues???\n",
    " # dispatch.dispatch_experiments('feb22', base_job_name='very_large_game', game_name='very_large_game_2', overrides = overrides, n_seeds=10)\n",
    "#dispatch.dispatch_experiments('feb22', base_job_name='large_game_3', game_name='large_game_3', overrides = overrides, n_seeds=10)\n",
    "#dispatch.dispatch_experiments('feb22', base_job_name='large_game_3', game_name='large_game_3_hide', overrides = overrides, n_seeds=10)"
   ]
  },
  {
   "cell_type": "code",
   "execution_count": 19,
   "id": "9d200227-7a69-417a-be93-58c262f123b9",
   "metadata": {},
   "outputs": [],
   "source": [
    "# !squeue --format=\"%.18i %.65j %.2t %.10M %.6D %R\" | grep \"_mlp  R\" | awk '{print $1}' | xargs scancel"
   ]
  },
  {
   "cell_type": "code",
   "execution_count": 11,
   "id": "1517f441-4c4c-47fe-9dcb-2ae7cebca8c2",
   "metadata": {},
   "outputs": [
    {
     "name": "stdout",
     "output_type": "stream",
     "text": [
      "             JOBID                                                              NAME ST       TIME  NODES NODELIST(REASON)\n",
      "              4833                            large_game_3-feb22mlp-100_large_game_3  R   10:44:46      1 ip-10-255-7-4\n",
      "              4834                            large_game_3-feb22mlp-101_large_game_3  R   10:44:46      1 ip-10-255-7-6\n",
      "              4835                            large_game_3-feb22mlp-102_large_game_3  R   10:44:46      1 ip-10-255-7-8\n",
      "              4836                            large_game_3-feb22mlp-103_large_game_3  R   10:44:46      1 ip-10-255-7-9\n",
      "              4837                            large_game_3-feb22mlp-104_large_game_3  R   10:44:46      1 ip-10-255-7-11\n",
      "              4838                            large_game_3-feb22mlp-105_large_game_3  R   10:44:46      1 ip-10-255-7-13\n",
      "              4839                            large_game_3-feb22mlp-106_large_game_3  R   10:44:46      1 ip-10-255-7-24\n",
      "              4840                            large_game_3-feb22mlp-107_large_game_3  R   10:44:46      1 ip-10-255-7-25\n",
      "              4841                            large_game_3-feb22mlp-108_large_game_3  R   10:44:46      1 ip-10-255-7-31\n",
      "              4842                            large_game_3-feb22mlp-109_large_game_3  R   10:44:46      1 ip-10-255-7-32\n",
      "              4843                       large_game_3_hide-feb22mlp-100_large_game_3  R   10:44:46      1 ip-10-255-7-34\n",
      "              4844                       large_game_3_hide-feb22mlp-101_large_game_3  R   10:44:46      1 ip-10-255-7-40\n",
      "              4845                       large_game_3_hide-feb22mlp-102_large_game_3  R   10:44:46      1 ip-10-255-7-43\n",
      "              4846                       large_game_3_hide-feb22mlp-103_large_game_3  R   10:44:46      1 ip-10-255-7-44\n",
      "              4847                       large_game_3_hide-feb22mlp-104_large_game_3  R   10:44:46      1 ip-10-255-7-46\n",
      "              4848                       large_game_3_hide-feb22mlp-105_large_game_3  R   10:44:46      1 ip-10-255-7-47\n",
      "              4849                       large_game_3_hide-feb22mlp-106_large_game_3  R   10:44:46      1 ip-10-255-7-50\n",
      "              4850                       large_game_3_hide-feb22mlp-107_large_game_3  R   10:44:46      1 ip-10-255-7-54\n",
      "              4851                       large_game_3_hide-feb22mlp-108_large_game_3  R   10:44:46      1 ip-10-255-7-59\n",
      "              4852                       large_game_3_hide-feb22mlp-109_large_game_3  R   10:44:46      1 ip-10-255-7-62\n"
     ]
    }
   ],
   "source": [
    "!squeue --format=\"%.18i %.65j %.2t %.10M %.6D %R\""
   ]
  },
  {
   "cell_type": "code",
   "execution_count": 79,
   "id": "a8ee533f-357a-4bbc-956e-1cf136ef9266",
   "metadata": {},
   "outputs": [],
   "source": [
    "# !scancel 5306 5307"
   ]
  },
  {
   "cell_type": "code",
   "execution_count": 8,
   "id": "c26b508d-9ee0-4878-9aa1-68c611ab651a",
   "metadata": {},
   "outputs": [],
   "source": [
    "!scancel -u ubuntu"
   ]
  },
  {
   "cell_type": "code",
   "execution_count": 112,
   "id": "3aeeeeb6-6c6f-4e37-9566-3eb8d73d97d5",
   "metadata": {},
   "outputs": [
    {
     "name": "stdout",
     "output_type": "stream",
     "text": [
      "Submitted batch job 2422\n",
      "Submitted batch job 2423\n"
     ]
    }
   ],
   "source": [
    "!rm -rf /shared/outputs/minitest/\n",
    "try:\n",
    "    Experiment.objects.get(name='minitest').delete()\n",
    "except:\n",
    "    pass\n",
    "dispatch.dispatch_experiments('feb2', base_job_name='minitest', game_name='tiny', overrides = '--br_portfolio_path feb2 --eval_every 500 --num_training_episodes 1_000 --br_overrides \"--num_training_episodes 1_000\" --eval_overrides \"--num_samples 100\"')"
   ]
  },
  {
   "cell_type": "code",
   "execution_count": null,
   "id": "d4ca4c72-ce03-4d1a-8e9d-1abd642e8407",
   "metadata": {},
   "outputs": [],
   "source": [
    "Eq"
   ]
  }
 ],
 "metadata": {
  "kernelspec": {
   "display_name": "Django Shell-Plus",
   "language": "python",
   "name": "django_extensions"
  },
  "language_info": {
   "codemirror_mode": {
    "name": "ipython",
    "version": 3
   },
   "file_extension": ".py",
   "mimetype": "text/x-python",
   "name": "python",
   "nbconvert_exporter": "python",
   "pygments_lexer": "ipython3",
   "version": "3.8.2"
  }
 },
 "nbformat": 4,
 "nbformat_minor": 5
}
