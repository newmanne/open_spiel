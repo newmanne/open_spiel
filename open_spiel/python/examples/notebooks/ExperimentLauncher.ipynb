{
 "cells": [
  {
   "cell_type": "code",
   "execution_count": 30,
   "id": "e6f6eef1-52e3-4ff5-af4b-2d5b933ad90b",
   "metadata": {},
   "outputs": [
    {
     "name": "stdout",
     "output_type": "stream",
     "text": [
      "The autoreload extension is already loaded. To reload it, use:\n",
      "  %reload_ext autoreload\n",
      "%pylab is deprecated, use %matplotlib inline and import the required libraries.\n",
      "Populating the interactive namespace from numpy and matplotlib\n"
     ]
    }
   ],
   "source": [
    "%load_ext autoreload\n",
    "%autoreload 2\n",
    "%pylab inline"
   ]
  },
  {
   "cell_type": "code",
   "execution_count": 31,
   "id": "53d1f915-16a6-42e9-b93a-3f44564ef069",
   "metadata": {},
   "outputs": [],
   "source": [
    "import sys\n",
    "import glob\n",
    "import pandas as pd\n",
    "import os\n",
    "import seaborn as sns\n",
    "from tqdm import tqdm_notebook as tqdm\n",
    "from statsmodels.distributions.empirical_distribution import ECDF\n",
    "from collections import defaultdict\n",
    "import open_spiel.python.examples.ubc_dispatch as dispatch\n",
    "import os\n",
    "os.environ[\"DJANGO_ALLOW_ASYNC_UNSAFE\"] = \"true\"\n",
    "from sklearn.model_selection import ParameterGrid\n",
    "from pathlib import Path\n",
    "import torch.nn.functional as F\n",
    "import torch"
   ]
  },
  {
   "cell_type": "code",
   "execution_count": 32,
   "id": "a963cf68-f084-47bc-86bf-23882e77f392",
   "metadata": {},
   "outputs": [],
   "source": [
    "game_dir = os.environ[\"CLOCK_AUCTION_CONFIG_DIR\"]"
   ]
  },
  {
   "cell_type": "markdown",
   "id": "01e19a7a-7d0c-4d03-963f-2265e950bf0b",
   "metadata": {},
   "source": [
    "# For running the real dumb test case"
   ]
  },
  {
   "cell_type": "code",
   "execution_count": 33,
   "id": "2bb16ad5-3fcc-4f40-bc6d-907b8c850417",
   "metadata": {},
   "outputs": [
    {
     "data": {
      "text/plain": [
       "['jun5/jun5_1_high_speed',\n",
       " 'jun5/jun5_2_hide_demand',\n",
       " 'jun5/jun5_3_high_speed',\n",
       " 'jun5/jun5_3_hide_demand',\n",
       " 'jun5/jun5_4_high_speed',\n",
       " 'jun5/jun5_0_base',\n",
       " 'jun5/jun5_4_hide_demand',\n",
       " 'jun5/jun5_0_hide_demand',\n",
       " 'jun5/jun5_1_hide_demand',\n",
       " 'jun5/jun5_4_base',\n",
       " 'jun5/jun5_2_base',\n",
       " 'jun5/jun5_3_base',\n",
       " 'jun5/jun5_0_high_speed',\n",
       " 'jun5/jun5_1_base',\n",
       " 'jun5/jun5_2_high_speed']"
      ]
     },
     "execution_count": 33,
     "metadata": {},
     "output_type": "execute_result"
    }
   ],
   "source": [
    "PREFIX = 'jun5'\n",
    "sats_games = [f'{PREFIX}/' + os.path.basename(x).replace('.json','') for x in glob.glob(f'{game_dir}/{PREFIX}/*')]\n",
    "sats_games"
   ]
  },
  {
   "cell_type": "code",
   "execution_count": 34,
   "id": "ff77dd62-1983-4468-9c31-fd042294ca5c",
   "metadata": {},
   "outputs": [
    {
     "name": "stdout",
     "output_type": "stream",
     "text": [
      "15\n"
     ]
    }
   ],
   "source": [
    "pgrid = ParameterGrid([\n",
    "    {\n",
    "        # Defaults\n",
    "        'game': sats_games\n",
    "        # 'game': [\n",
    "            # 'small_sats_complete_symmetric',\n",
    "            # 'very_small_sats_complete_symmetric'\n",
    "        # ], \n",
    "    },\n",
    "])\n",
    "print(len(pgrid))"
   ]
  },
  {
   "cell_type": "code",
   "execution_count": 35,
   "id": "670efe1e-8e7e-4cef-b04d-78fc7a4cbce6",
   "metadata": {},
   "outputs": [
    {
     "name": "stdout",
     "output_type": "stream",
     "text": [
      "Submitted batch job 82074\n",
      "Submitted batch job 82075\n",
      "Submitted batch job 82076\n",
      "Submitted batch job 82077\n",
      "Submitted batch job 82078\n",
      "Submitted batch job 82079\n",
      "Submitted batch job 82080\n",
      "Submitted batch job 82081\n",
      "Submitted batch job 82082\n",
      "Submitted batch job 82083\n",
      "Submitted batch job 82084\n",
      "Submitted batch job 82085\n",
      "Submitted batch job 82086\n",
      "Submitted batch job 82087\n",
      "Submitted batch job 82088\n",
      "Submitted batch job 82089\n",
      "Submitted batch job 82090\n",
      "Submitted batch job 82091\n",
      "Submitted batch job 82092\n",
      "Submitted batch job 82093\n",
      "Submitted batch job 82094\n",
      "Submitted batch job 82095\n",
      "Submitted batch job 82096\n",
      "Submitted batch job 82097\n",
      "Submitted batch job 82098\n",
      "Submitted batch job 82099\n",
      "Submitted batch job 82100\n",
      "Submitted batch job 82101\n",
      "Submitted batch job 82102\n",
      "Submitted batch job 82103\n",
      "Submitted batch job 82104\n",
      "Submitted batch job 82105\n",
      "Submitted batch job 82106\n",
      "Submitted batch job 82107\n",
      "Submitted batch job 82108\n",
      "Submitted batch job 82109\n",
      "Submitted batch job 82110\n",
      "Submitted batch job 82111\n",
      "Submitted batch job 82112\n",
      "Submitted batch job 82113\n",
      "Submitted batch job 82114\n",
      "Submitted batch job 82115\n",
      "Submitted batch job 82116\n",
      "Submitted batch job 82117\n",
      "Submitted batch job 82118\n"
     ]
    }
   ],
   "source": [
    "for config in pgrid:\n",
    "    CONFIG = 'ppo_may31_23' # The YML network config folder for the main jobs\n",
    "    BR_CONFIG = 'ppo_may31_23' # Ditto for BRs\n",
    "    N_SEEDS = 3 # Number of seeds of each experiment to launch\n",
    "    extra_name = ''\n",
    "    overrides = f'--overwrite_db True --br_portfolio_path {BR_CONFIG} --eval_every 999_000_000 --eval_zero false --total_timesteps 5_000_000 --dispatch_br true --br_overrides \"--total_timesteps 1_000_000\"'        \n",
    "    dispatch.dispatch_experiments(CONFIG, base_job_name='jun5ppo', game_name=config['game'], overrides=overrides, n_seeds=N_SEEDS, extra_name=extra_name)"
   ]
  },
  {
   "cell_type": "markdown",
   "id": "97a27477-3e2c-467a-bfb2-24c6e7e0108f",
   "metadata": {
    "tags": []
   },
   "source": [
    "# For testing params"
   ]
  },
  {
   "cell_type": "code",
   "execution_count": 221,
   "id": "9ff529f0-4add-4250-be6d-0169f4f5a3ac",
   "metadata": {},
   "outputs": [
    {
     "name": "stdout",
     "output_type": "stream",
     "text": [
      "1\n"
     ]
    }
   ],
   "source": [
    "pgrid = ParameterGrid([\n",
    "    {\n",
    "        # Defaults\n",
    "        'game': ['jan12_confused_national_base'], \n",
    "    },\n",
    "])\n",
    "print(len(pgrid))"
   ]
  },
  {
   "cell_type": "code",
   "execution_count": null,
   "id": "3068cbb7-0b87-401c-a525-8eb8a249ac3d",
   "metadata": {},
   "outputs": [],
   "source": [
    "for config in pgrid:\n",
    "    CONFIG = 'jan17' # The YML network config folder for the main jobs\n",
    "    BR_CONFIG = 'jan17' # Ditto for BRs\n",
    "    N_SEEDS = 1 # Number of seeds of each experiment to launch\n",
    "    overrides = f'--overwrite_db True --br_portfolio_path {BR_CONFIG} --eval_every 5_000_000 --eval_zero false --total_timesteps 5_000_000 --dispatch_br false --br_overrides \"--total_timesteps 1_000_000\"'        \n",
    "    dispatch.dispatch_experiments(CONFIG, base_job_name='jan17_many_configs_2', game_name=config['game'], overrides=overrides, n_seeds=N_SEEDS, extra_name=extra_name)\n"
   ]
  },
  {
   "cell_type": "markdown",
   "id": "eecd9ca2-586b-4ac3-9b84-2f212555fa90",
   "metadata": {},
   "source": [
    "# For running experiments"
   ]
  },
  {
   "cell_type": "code",
   "execution_count": 45,
   "id": "c8c2385e-6b10-4beb-b452-86901d06d7c2",
   "metadata": {},
   "outputs": [
    {
     "name": "stdout",
     "output_type": "stream",
     "text": [
      "5\n"
     ]
    }
   ],
   "source": [
    "pgrid = ParameterGrid([\n",
    "    {\n",
    "        # Defaults\n",
    "        'game': [Path(x).stem for x in glob.glob(f'{game_dir}/jan12*') if 'base' in x], \n",
    "    },\n",
    "    # {   # Potentials\n",
    "        # 'game': [Path(x).stem for x in glob.glob(f'{game_dir}/jan12*')], \n",
    "    #     'potential_function': ['auction_length', 'revenue', 'pricing'],\n",
    "    #     'scale_coef': [1, 5],\n",
    "    # },\n",
    "])\n",
    "print(len(pgrid))"
   ]
  },
  {
   "cell_type": "code",
   "execution_count": 49,
   "id": "37b7905e-ccdb-4e0e-965d-1606de6103f5",
   "metadata": {},
   "outputs": [],
   "source": [
    "pgrid = ParameterGrid([\n",
    "    {\n",
    "        # Defaults\n",
    "        'game': ['jan12_confused_national_base', 'jan12_regional_vs_national_base'], \n",
    "    },\n",
    "    {   # Potentials\n",
    "        'game': ['jan12_confused_national_base', 'jan12_regional_vs_national_base'], \n",
    "        'potential_function': ['neg_auction_length'],\n",
    "        'scale_coef': [5, 20],\n",
    "    },\n",
    "])"
   ]
  },
  {
   "cell_type": "code",
   "execution_count": 50,
   "id": "d9bf5abd-7857-45c6-857b-f2b9cef5d5f8",
   "metadata": {},
   "outputs": [
    {
     "name": "stdout",
     "output_type": "stream",
     "text": [
      "[{'game': 'jan12_confused_national_base'}, {'game': 'jan12_regional_vs_national_base'}, {'game': 'jan12_confused_national_base', 'potential_function': 'neg_auction_length', 'scale_coef': 5}, {'game': 'jan12_confused_national_base', 'potential_function': 'neg_auction_length', 'scale_coef': 20}, {'game': 'jan12_regional_vs_national_base', 'potential_function': 'neg_auction_length', 'scale_coef': 5}, {'game': 'jan12_regional_vs_national_base', 'potential_function': 'neg_auction_length', 'scale_coef': 20}]\n"
     ]
    }
   ],
   "source": [
    "print(list(pgrid))"
   ]
  },
  {
   "cell_type": "code",
   "execution_count": 55,
   "id": "bcf73586-b35c-4016-b3b5-b728feb1bd98",
   "metadata": {},
   "outputs": [
    {
     "name": "stdout",
     "output_type": "stream",
     "text": [
      "Submitted batch job 81282\n",
      "Submitted batch job 81283\n",
      "Submitted batch job 81284\n",
      "Submitted batch job 81285\n",
      "Submitted batch job 81286\n",
      "Submitted batch job 81287\n",
      "Submitted batch job 81288\n",
      "Submitted batch job 81289\n",
      "Submitted batch job 81290\n",
      "Submitted batch job 81291\n",
      "Submitted batch job 81292\n",
      "Submitted batch job 81293\n"
     ]
    }
   ],
   "source": [
    "for config in pgrid:\n",
    "    CONFIG = 'feb28' # The YML network config folder for the main jobs\n",
    "    BR_CONFIG = 'feb28' # Ditto for BRs\n",
    "    N_SEEDS = 1 # Number of seeds of each experiment to launch\n",
    "    overrides = f'--overwrite_db True --eval_every 10_000_000 --eval_zero false --total_timesteps 10_000_000'\n",
    "    potential_function = config.get('potential_function')\n",
    "    scale_coef = config.get('scale_coef')\n",
    "    extra_name = ''\n",
    "    if potential_function is not None:\n",
    "        overrides += f' --potential_function {potential_function}'\n",
    "        extra_name += f'_pot{potential_function}_'\n",
    "    \n",
    "    if scale_coef is not None:\n",
    "        overrides += f' --scale_coef {scale_coef}'\n",
    "        extra_name += f'_s_{scale_coef}_'\n",
    "        \n",
    "    dispatch.dispatch_experiments(CONFIG, base_job_name='feb28', game_name=config['game'], overrides=overrides, n_seeds=N_SEEDS, extra_name=extra_name)\n"
   ]
  },
  {
   "cell_type": "code",
   "execution_count": null,
   "id": "a5d45adc-3684-4f3d-9dfc-a1b1f4c523d0",
   "metadata": {},
   "outputs": [],
   "source": [
    "# for config in pgrid:\n",
    "#     CONFIG = 'feb28' # The YML network config folder for the main jobs\n",
    "#     BR_CONFIG = 'feb28' # Ditto for BRs\n",
    "#     N_SEEDS = 1 # Number of seeds of each experiment to launch\n",
    "#     overrides = f'--overwrite_db True --br_portfolio_path {BR_CONFIG} --eval_every 10_000_000 --eval_zero false --total_timesteps 10_000_000 --dispatch_br true --br_overrides \"--total_timesteps 1_000_000\"'\n",
    "#     potential_function = config.get('potential_function')\n",
    "#     scale_coef = config.get('scale_coef')\n",
    "#     extra_name = ''\n",
    "#     if potential_function is not None:\n",
    "#         overrides += f' --potential_function {potential_function}'\n",
    "#         extra_name += f'_pot{potential_function}_'\n",
    "    \n",
    "#     if scale_coef is not None:\n",
    "#         overrides += f' --scale_coef {scale_coef}'\n",
    "#         extra_name += f'_s_{scale_coef}_'\n",
    "        \n",
    "#     dispatch.dispatch_experiments(CONFIG, base_job_name='jan22', game_name=config['game'], overrides=overrides, n_seeds=N_SEEDS, extra_name=extra_name)\n"
   ]
  },
  {
   "cell_type": "code",
   "execution_count": null,
   "id": "332e41bc-15e4-445d-9c0a-2967c7c907b8",
   "metadata": {},
   "outputs": [],
   "source": [
    "sats_games = [os.path.basename(x).replace('.json','') for x in glob.glob(f'{game_dir}/sats*')]\n",
    "# sats_games = ['sats_2regions_2licenses_2players_5types']\n",
    "# sats_games = ['sats_3regions_3licenses_5types']\n",
    "# sats_games = ['sats_2regions_2licenses_2players_5types', 'sats_3regions_3licenses_5types']\n",
    "# sats_games = ['rw_game_2_war_speedy_2']\n",
    "# sats_games = ['confused_national']\n",
    "\n",
    "\n",
    "# sats_games = ['confused_national', 'confused_national_with_signal', 'confused_national_with_undersell']\n",
    "# sats_games = ['confused_national_with_signal', 'confused_national_with_undersell']\n",
    "# sats_games = ['confused_national', 'confused_national_with_undersell']\n",
    "\n",
    "sats_games = ['confused_national', 'regional_vs_national']\n",
    "\n",
    "# sats_games = ['regional_vs_national']\n",
    "# sats_games = ['regional_vs_national_signal']\n"
   ]
  },
  {
   "cell_type": "code",
   "execution_count": null,
   "id": "ba95c3f6-0638-4cbf-ac0b-73967dbf10c0",
   "metadata": {},
   "outputs": [],
   "source": [
    "# SATS Games\n",
    "CONFIG = 'dec11trap'\n",
    "BR_CONFIG = 'dec11trap'\n",
    "N_SEEDS = 1\n",
    "# overrides = f'--overwrite_db True --br_portfolio_path {BR_CONFIG} --eval_every 999999 --eval_zero false --total_timesteps 1_000_000 --dispatch_br false'\n",
    "# NOTE: eval every is phrased in units of UPDATES, not steps\n",
    "overrides = f'--overwrite_db True --br_portfolio_path {BR_CONFIG} --eval_every 2_500_000 --eval_zero false --total_timesteps 10_000_000 --dispatch_br false --br_overrides \"--total_timesteps 2_000_000\"'\n",
    "for GAME_NAME in sats_games:\n",
    "    dispatch.dispatch_experiments(CONFIG, base_job_name='itsatrap_decorator16', game_name=f'{GAME_NAME}', overrides = overrides, n_seeds=N_SEEDS)\n",
    "    # dispatch.dispatch_experiments(CONFIG, base_job_name='sats_games_11_with_require_br', game_name=f'{GAME_NAME}', overrides = overrides + ' --iterate_br false --require_br true', n_seeds=N_SEEDS)\n",
    "    # dispatch.dispatch_experiments(CONFIG, base_job_name='sats_games_11_with_random_ic', game_name=f'{GAME_NAME}', overrides = overrides + ' --random_ic true', n_seeds=N_SEEDS)"
   ]
  },
  {
   "cell_type": "code",
   "execution_count": null,
   "id": "797f2f6e-14f5-4fd5-b926-3504b729bc5c",
   "metadata": {},
   "outputs": [],
   "source": [
    "# SATS Games\n",
    "# CONFIG = 'aug11'\n",
    "# BR_CONFIG = 'oct31'\n",
    "CONFIG = 'dec6'\n",
    "BR_CONFIG = 'dec6br'\n",
    "N_SEEDS = 3\n",
    "# overrides = f'--overwrite_db True --br_portfolio_path {BR_CONFIG} --eval_every 999999 --eval_zero false --total_timesteps 1_000_000 --dispatch_br false'\n",
    "# NOTE: eval every is phrased in units of UPDATES, not steps\n",
    "overrides = f'--overwrite_db True --br_portfolio_path {BR_CONFIG} --eval_every 2_500_000 --eval_zero false --total_timesteps 10_000_000 --dispatch_br true --br_overrides \"--total_timesteps 2_000_000\"'\n",
    "for GAME_NAME in sats_games:\n",
    "    dispatch.dispatch_experiments(CONFIG, base_job_name='new_configs_dec_8', game_name=f'{GAME_NAME}', overrides = overrides, n_seeds=N_SEEDS)\n",
    "    # dispatch.dispatch_experiments(CONFIG, base_job_name='sats_games_11_with_require_br', game_name=f'{GAME_NAME}', overrides = overrides + ' --iterate_br false --require_br true', n_seeds=N_SEEDS)\n",
    "    # dispatch.dispatch_experiments(CONFIG, base_job_name='sats_games_11_with_random_ic', game_name=f'{GAME_NAME}', overrides = overrides + ' --random_ic true', n_seeds=N_SEEDS)"
   ]
  },
  {
   "cell_type": "code",
   "execution_count": 2,
   "id": "9d200227-7a69-417a-be93-58c262f123b9",
   "metadata": {},
   "outputs": [],
   "source": [
    "# !squeue --format=\"%.18i %.65j %.2t %.10M %.6D %R\" | grep \"external\" | awk '{print $1}' | xargs scancel"
   ]
  },
  {
   "cell_type": "code",
   "execution_count": 3,
   "id": "3e5c26b7-d158-4ece-a72a-c3b2fd47a56f",
   "metadata": {
    "tags": []
   },
   "outputs": [
    {
     "name": "stdout",
     "output_type": "stream",
     "text": [
      "             JOBID                                                                                       NAME ST .      TIME  NODES NODELIST(REASON)\n",
      "             86619                       jun19_jun19_0_medium_speed-cfr_outcomemccfr_outcome-100_jun21outcome  R .  15:07:34      1 ip-10-255-1-191\n",
      "             86620                       jun19_jun19_0_medium_speed-cfr_outcomemccfr_outcome-101_jun21outcome  R .  15:07:34      1 ip-10-255-1-191\n",
      "             86621                       jun19_jun19_0_medium_speed-cfr_outcomemccfr_outcome-102_jun21outcome  R .  15:07:34      1 ip-10-255-1-192\n",
      "             86626                  jun19_jun19_0_undersell_allowed-cfr_outcomemccfr_outcome-101_jun21outcome  R .  15:07:34      1 ip-10-255-1-156\n",
      "             86640                               jun19_jun19_2_base-cfr_outcomemccfr_outcome-100_jun21outcome  R .  15:07:34      1 ip-10-255-1-176\n",
      "             86641                               jun19_jun19_2_base-cfr_outcomemccfr_outcome-101_jun21outcome  R .  15:07:34      1 ip-10-255-1-201\n",
      "             86642                               jun19_jun19_2_base-cfr_outcomemccfr_outcome-102_jun21outcome  R .  15:07:34      1 ip-10-255-1-201\n",
      "             86647                               jun19_jun19_4_base-cfr_outcomemccfr_outcome-101_jun21outcome  R .  15:07:34      1 ip-10-255-1-210\n",
      "             86649                               jun19_jun19_0_base-cfr_outcomemccfr_outcome-100_jun21outcome  R .  15:07:34      1 ip-10-255-1-212\n",
      "             86650                               jun19_jun19_0_base-cfr_outcomemccfr_outcome-101_jun21outcome  R .  15:07:34      1 ip-10-255-1-212\n",
      "             86651                               jun19_jun19_0_base-cfr_outcomemccfr_outcome-102_jun21outcome  R .  15:07:34      1 ip-10-255-1-212\n",
      "             86664                               jun19_jun19_3_base-cfr_outcomemccfr_outcome-100_jun21outcome  R .  15:07:04      1 ip-10-255-1-163\n",
      "             86665                               jun19_jun19_3_base-cfr_outcomemccfr_outcome-101_jun21outcome  R .  15:07:04      1 ip-10-255-1-174\n",
      "             86666                               jun19_jun19_3_base-cfr_outcomemccfr_outcome-102_jun21outcome  R .  15:07:04      1 ip-10-255-1-174\n",
      "             86672                       jun19_jun19_3_medium_speed-cfr_outcomemccfr_outcome-102_jun21outcome  R .  15:07:04      1 ip-10-255-1-177\n"
     ]
    }
   ],
   "source": [
    "!squeue --format=\"%.18i %.90j %.2t .%.10M %.6D %R\""
   ]
  },
  {
   "cell_type": "code",
   "execution_count": 100,
   "id": "a8ee533f-357a-4bbc-956e-1cf136ef9266",
   "metadata": {},
   "outputs": [
    {
     "name": "stdout",
     "output_type": "stream",
     "text": [
      "33\n"
     ]
    }
   ],
   "source": [
    "!squeue | wc -l"
   ]
  },
  {
   "cell_type": "code",
   "execution_count": 88,
   "id": "a8b665af-771f-44c1-8065-4928e1e5ac91",
   "metadata": {},
   "outputs": [
    {
     "name": "stdout",
     "output_type": "stream",
     "text": [
      "23\n"
     ]
    }
   ],
   "source": [
    "!squeue --format=\"%.18i %.90j %.2t .%.10M %.6D %R\" | grep \"modal\" | wc -l"
   ]
  },
  {
   "cell_type": "code",
   "execution_count": 73,
   "id": "c26b508d-9ee0-4878-9aa1-68c611ab651a",
   "metadata": {},
   "outputs": [],
   "source": [
    "!scancel -u ubuntu"
   ]
  },
  {
   "cell_type": "code",
   "execution_count": null,
   "id": "aee5cc7e-228c-4484-bb31-efb870f59efa",
   "metadata": {},
   "outputs": [],
   "source": [
    "# !scancel  46891 46893"
   ]
  },
  {
   "cell_type": "code",
   "execution_count": null,
   "id": "3aeeeeb6-6c6f-4e37-9566-3eb8d73d97d5",
   "metadata": {},
   "outputs": [],
   "source": [
    "!rm -rf /shared/outputs/minitest/\n",
    "try:\n",
    "    Experiment.objects.get(name='minitest').delete()\n",
    "except:\n",
    "    pass\n",
    "dispatch.dispatch_experiments('feb2', base_job_name='minitest', game_name='tiny', overrides = '--br_portfolio_path feb2 --eval_every 500 --num_training_episodes 1_000 --br_overrides \"--num_training_episodes 1_000\" --eval_overrides \"--num_samples 100\"')"
   ]
  },
  {
   "cell_type": "code",
   "execution_count": null,
   "id": "d4ca4c72-ce03-4d1a-8e9d-1abd642e8407",
   "metadata": {},
   "outputs": [],
   "source": [
    "BestResponse.objects.last()"
   ]
  },
  {
   "cell_type": "code",
   "execution_count": null,
   "id": "da1b3451-a927-4467-a90d-077f2de61767",
   "metadata": {},
   "outputs": [],
   "source": [
    "Experiment.objects.all()"
   ]
  },
  {
   "cell_type": "code",
   "execution_count": null,
   "id": "0547418d-7d14-404e-ad7f-892180cd6e50",
   "metadata": {},
   "outputs": [],
   "source": [
    "!sacct --starttime 2022-03-11 --format=User,JobID,Jobname,partition,state,time,start,end,elapsed,MaxRss,MaxVMSize,nnodes,ncpus,nodelist"
   ]
  },
  {
   "cell_type": "code",
   "execution_count": null,
   "id": "7bc11eb7-da86-46db-9a6b-fe5ac595f1d6",
   "metadata": {},
   "outputs": [],
   "source": [
    "from open_spiel.python.examples.ubc_plotting_utils import parse_run\n",
    "from auctions.webutils import *\n",
    "\n",
    "def find_best_checkpoint(run, max_t=None):\n",
    "    ev_df = parse_run(run, max_t)\n",
    "    best_t = ev_df.groupby('t')['ApproxNashConv'].first().idxmin()\n",
    "    nash_conv_by_t = ev_df.groupby('t')['ApproxNashConv'].first()\n",
    "    best_checkpoint = get_checkpoint(run, t=best_t)\n",
    "    return nash_conv_by_t, best_checkpoint, nash_conv_by_t.min()\n",
    "\n",
    "\n",
    "run = EquilibriumSolverRun.objects.last()\n",
    "find_best_checkpoint(run)"
   ]
  },
  {
   "cell_type": "code",
   "execution_count": null,
   "id": "e9a3abf2-1dca-40a7-8c86-f558ac16c5c4",
   "metadata": {},
   "outputs": [],
   "source": [
    "Experiment.objects.get(name='large_game_2_no_activity.json').delete()"
   ]
  },
  {
   "cell_type": "code",
   "execution_count": null,
   "id": "f5184d7b-9f29-48aa-ae93-8920db084b8a",
   "metadata": {},
   "outputs": [],
   "source": [
    "Game.objects.get(name='large_game_2_pricing_extreme.json').delete()"
   ]
  },
  {
   "cell_type": "code",
   "execution_count": null,
   "id": "e706f461-6a88-4392-bfe4-6187661e1533",
   "metadata": {},
   "outputs": [],
   "source": [
    "!python /apps/open_spiel/web/auctions/manage.py nfsp --seed 109 --filename rounds.json --network_config_file mar17/lstm --experiment_name lstmtest --job_name \"lstm_for_greg\" --dispatch_br false --br_portfolio_path feb22 --eval_every 10_000 --num_training_episodes 10_000_000 --br_overrides \"--num_training_episodes 1_000_000\" --report_freq 10_000 --overwrite_db true"
   ]
  },
  {
   "cell_type": "code",
   "execution_count": null,
   "id": "f95b85fe-1070-463b-9b8c-3f3392d9f178",
   "metadata": {},
   "outputs": [],
   "source": [
    "list(Experiment.objects.all().values_list('name', flat=True))"
   ]
  },
  {
   "cell_type": "code",
   "execution_count": null,
   "id": "d371b8e4-55d3-4859-b28d-ff8ef2098380",
   "metadata": {},
   "outputs": [],
   "source": [
    "r = EquilibriumSolverRun.objects.get(name='large_game_3b_hide-mar17lstm-100')"
   ]
  },
  {
   "cell_type": "code",
   "execution_count": null,
   "id": "b3cdffb6-5085-4c1b-9d33-1b343934cbdb",
   "metadata": {},
   "outputs": [],
   "source": [
    "from auctions.webutils import *\n",
    "from open_spiel.python.examples.ubc_plotting_utils import *\n",
    "parse_run(r, conservative=False)"
   ]
  },
  {
   "cell_type": "code",
   "execution_count": null,
   "id": "733ad314-b27a-41d4-94d6-214cb903b5bd",
   "metadata": {},
   "outputs": [],
   "source": [
    "BREvaluation.objects.filter(best_response__checkpoint__equilibrium_solver_run=r)"
   ]
  },
  {
   "cell_type": "code",
   "execution_count": null,
   "id": "6cae40c6-7e65-4f2b-8233-3597d7096772",
   "metadata": {},
   "outputs": [],
   "source": [
    "list(BestResponse.objects.filter(checkpoint__equilibrium_solver_run=r).values('name'))"
   ]
  },
  {
   "cell_type": "code",
   "execution_count": null,
   "id": "6f8126fd-9169-41f8-85dc-1cc748b31578",
   "metadata": {},
   "outputs": [],
   "source": [
    "BestResponse.objects.filter(checkpoint=pk)[0].brevaluation.__dict__"
   ]
  },
  {
   "cell_type": "code",
   "execution_count": null,
   "id": "6bb37f06-5475-4c99-98db-bbf8f4385198",
   "metadata": {},
   "outputs": [],
   "source": [
    "from open_spiel.python.examples.ubc_plotting_utils import *\n",
    "parse_run(r, conservative=False)"
   ]
  },
  {
   "cell_type": "code",
   "execution_count": null,
   "id": "7a4a0414-e2de-4a61-84d7-128d9ec1605b",
   "metadata": {},
   "outputs": [],
   "source": [
    "BREvaluation.objects.filter(best_response__checkpoint__equilibrium_solver_run=r).values('best_response__name')"
   ]
  },
  {
   "cell_type": "code",
   "execution_count": null,
   "id": "18a64a9d-f0fd-4f83-a7a5-e4533efdef75",
   "metadata": {},
   "outputs": [],
   "source": [
    "BestResponse.objects.filter(checkpoint__equilibrium_solver_run=r).values('name')"
   ]
  },
  {
   "cell_type": "code",
   "execution_count": null,
   "id": "a3d30846-58d7-48ea-8c37-26a8e3ff3e4b",
   "metadata": {},
   "outputs": [],
   "source": [
    "experiments = ['mar24', 'mar22_4']\n",
    "all_scripts = []\n",
    "for e in experiments:\n",
    "    scripts = glob.glob(f'/shared/outputs/{e}/*/evaluations/*.sh')\n",
    "    scripts = [s for s in scripts if 'straightforward' not in s]\n",
    "    scripts = [s for s in scripts if s[-5:] == \"_2.sh\"]\n",
    "    all_scripts += scripts"
   ]
  },
  {
   "cell_type": "code",
   "execution_count": null,
   "id": "1add0f96-beb4-4aa2-b729-61c3d03e9746",
   "metadata": {},
   "outputs": [],
   "source": [
    "for script in all_scripts:\n",
    "    parent = Path(script).parent\n",
    "    !cd {parent} && sbatch {script}"
   ]
  },
  {
   "cell_type": "code",
   "execution_count": null,
   "id": "e19fcfab-57c4-4fea-bebc-a59ecde20baf",
   "metadata": {},
   "outputs": [],
   "source": [
    "x = Evaluation.objects.last()"
   ]
  },
  {
   "cell_type": "code",
   "execution_count": null,
   "id": "99f49bbf-6fcb-438a-a773-7dac9b989148",
   "metadata": {},
   "outputs": [],
   "source": [
    "x.samples['allocations']"
   ]
  },
  {
   "cell_type": "code",
   "execution_count": null,
   "id": "d61d2c89-07b8-43c7-ba5d-f8bfcbce3496",
   "metadata": {},
   "outputs": [],
   "source": [
    "Evaluation.objects.last()"
   ]
  },
  {
   "cell_type": "code",
   "execution_count": null,
   "id": "b745d521-0b5b-4c8a-bfb4-3f6ad0f4c107",
   "metadata": {},
   "outputs": [],
   "source": [
    "python /apps/open_spiel/web/auctions/manage.py nfsp --seed 100 --filename sats_5.json --network_config_file flatmlp/mlp --experiment_name test_require_br --job_name \"sats_5_test-flatmlpmlp-100\" --dispatch_br false --dry_run true --overwrite_db True --br_portfolio_path flatmlp --eval_every 1_000_000 --eval_zero false --num_training_episodes 8_000_000 --br_overrides \"--num_training_episodes 1_000_000\" --iterate_br false --require_br true\n",
    "\n",
    "# Get env_and_model\n",
    "\n",
    "\n",
    "# run_nfsp(env_and_model, 10_000, True, False, NullResultSaver(), 1, False, NullDispatcher(), eval_every, eval_every_early, eval_exactly, eval_zero, report_freq, dispatch_br, agent_selector, random_ic=False):"
   ]
  },
  {
   "cell_type": "code",
   "execution_count": null,
   "id": "d1c7170f-13f4-4ce5-a820-f262f723198c",
   "metadata": {},
   "outputs": [],
   "source": [
    "BREvaluation.objects.filter(best_response__name='straightforward').last().expected_value_cdf"
   ]
  },
  {
   "cell_type": "code",
   "execution_count": null,
   "id": "488facaa-1c0d-4501-ad6f-58bb7a5d951c",
   "metadata": {},
   "outputs": [],
   "source": [
    "!pip install wandb"
   ]
  },
  {
   "cell_type": "code",
   "execution_count": null,
   "id": "50ff4a62-6efa-4c03-97d1-7179df936e79",
   "metadata": {},
   "outputs": [],
   "source": [
    "Evaluation.objects.last().samples.keys()"
   ]
  },
  {
   "cell_type": "code",
   "execution_count": null,
   "id": "2d9147a8-cbcb-46aa-b85c-c58d5ce2a243",
   "metadata": {},
   "outputs": [],
   "source": [
    "Evaluation.objects.filter(\n",
    "                    checkpoint__equilibrium_solver_run__experiment__name='testevolution3',\n",
    "                    checkpoint__equilibrium_solver_run__generation=0,\n",
    "                ).count()"
   ]
  },
  {
   "cell_type": "code",
   "execution_count": null,
   "id": "0d3440a1-8cf7-4b38-ab49-ee35de8e7c46",
   "metadata": {},
   "outputs": [],
   "source": [
    "Evaluation.objects.last()"
   ]
  },
  {
   "cell_type": "code",
   "execution_count": null,
   "id": "621a423d-68c3-4749-ae0c-ad40dcbcd32f",
   "metadata": {},
   "outputs": [],
   "source": [
    "!python /apps/cluster_open_spiel/web/auctions/manage.py ppo --filename bully1_2.json --network_config_file aug11/ppo --experiment_name bully1 --job_name \"baseline\" --overwrite_db True --eval_every 9999 --eval_zero false --total_timesteps 1_000_000 --use_wandb true --dry_run true"
   ]
  },
  {
   "cell_type": "code",
   "execution_count": null,
   "id": "7c37b5a9-0c4e-4e87-a35b-f7b2d7cb93b6",
   "metadata": {},
   "outputs": [],
   "source": [
    "!python /apps/cluster_open_spiel/web/auctions/manage.py ppo --filename bully_2.json --network_config_file aug11/ppo_potential_neg_pricing --experiment_name bully --job_name \"neg_pricing\" --overwrite_db True --eval_every 9999 --eval_zero false --total_timesteps 1_000_000 --use_wandb true --dry_run false"
   ]
  },
  {
   "cell_type": "code",
   "execution_count": null,
   "id": "60627c9c-06c2-48fe-bbbb-b0c56fe5d11e",
   "metadata": {},
   "outputs": [],
   "source": [
    "Evaluation.objects.last()"
   ]
  },
  {
   "cell_type": "code",
   "execution_count": null,
   "id": "a3265472-62f5-4cb0-af5b-ccc46a6b0934",
   "metadata": {},
   "outputs": [],
   "source": [
    "BestResponse.objects.exclude(name__contains='straightforward').last()"
   ]
  },
  {
   "cell_type": "code",
   "execution_count": null,
   "id": "798d4f71-5eaa-45cb-9660-eda9249beb18",
   "metadata": {},
   "outputs": [],
   "source": [
    "potential_functions = ('auction_length', 'neg_auction_length', 'neg_revenue', 'revenue')"
   ]
  },
  {
   "cell_type": "code",
   "execution_count": null,
   "id": "ff87bf34-7b8d-40f6-933d-b96f3cffda3c",
   "metadata": {},
   "outputs": [],
   "source": [
    "from pathlib import Path\n",
    "import glob\n",
    "import yaml\n",
    "ROOT = 'configs/nov23'\n",
    "for f in glob.glob(f'{ROOT}/*.yml'):\n",
    "    config = yaml.safe_load(open(f, 'rb'))\n",
    "    stem = Path(f).stem\n",
    "    for potential in potential_functions:\n",
    "        config['potential_function'] = potential\n",
    "        yaml.dump(config, open(f'{ROOT}/{stem}_{potential}.yml', 'w'))"
   ]
  },
  {
   "cell_type": "code",
   "execution_count": null,
   "id": "cc7c7d91-0116-433c-a308-d7f085fa3779",
   "metadata": {},
   "outputs": [],
   "source": [
    "Game.objects.filter(name__startswith='dec15').delete()"
   ]
  },
  {
   "cell_type": "markdown",
   "id": "e08cde4c-3c53-4ace-bb62-4974659d3c64",
   "metadata": {},
   "source": [
    "# Test CFR"
   ]
  },
  {
   "cell_type": "code",
   "execution_count": 44,
   "id": "164137ca-fb0a-4f4f-b45b-ecafea36b19d",
   "metadata": {},
   "outputs": [
    {
     "name": "stdout",
     "output_type": "stream",
     "text": [
      "Reading from env variable CLOCK_AUCTION_CONFIG_DIR. If it is not set, there will be trouble.\n",
      "CLOCK_AUCTION_CONFIG_DIR=/apps/open_spiel/configs\n",
      "Parsing configuration from /apps/open_spiel/configs/small_sats_complete_symmetric.json\n",
      "Done config parsing\n",
      "I0204 03:36:16.852158 140691547054208 ubc_mccfr_cpp_example.py:169] Using C++ implementations\n",
      "I0204 03:36:16.852356 140691547054208 ubc_mccfr_cpp_example.py:171] Using CFR solver\n"
     ]
    }
   ],
   "source": [
    "!python /apps/cluster_open_spiel/open_spiel/python/examples/ubc_mccfr_cpp_example.py --filename small_sats_complete_symmetric.json --iterations 1000 "
   ]
  },
  {
   "cell_type": "code",
   "execution_count": 11,
   "id": "22f8b478-f2bb-4b23-9750-25baee4e28c5",
   "metadata": {},
   "outputs": [
    {
     "data": {
      "text/plain": [
       "((),)"
      ]
     },
     "execution_count": 11,
     "metadata": {},
     "output_type": "execute_result"
    }
   ],
   "source": [
    "from cachetools.keys import hashkey\n",
    "hashkey(())"
   ]
  },
  {
   "cell_type": "code",
   "execution_count": 13,
   "id": "3931bdd9-011d-42b6-ba96-425d5d441812",
   "metadata": {},
   "outputs": [
    {
     "data": {
      "text/plain": [
       "((72, 3),)"
      ]
     },
     "execution_count": 13,
     "metadata": {},
     "output_type": "execute_result"
    }
   ],
   "source": [
    "hashkey((72,3))"
   ]
  }
 ],
 "metadata": {
  "kernelspec": {
   "display_name": "Django Shell-Plus",
   "language": "python",
   "name": "django_extensions"
  },
  "language_info": {
   "codemirror_mode": {
    "name": "ipython",
    "version": 3
   },
   "file_extension": ".py",
   "mimetype": "text/x-python",
   "name": "python",
   "nbconvert_exporter": "python",
   "pygments_lexer": "ipython3",
   "version": "3.8.2"
  }
 },
 "nbformat": 4,
 "nbformat_minor": 5
}
