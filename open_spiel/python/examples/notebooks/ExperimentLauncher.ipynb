{
 "cells": [
  {
   "cell_type": "code",
   "execution_count": 6,
   "id": "53d1f915-16a6-42e9-b93a-3f44564ef069",
   "metadata": {},
   "outputs": [
    {
     "name": "stdout",
     "output_type": "stream",
     "text": [
      "%pylab is deprecated, use %matplotlib inline and import the required libraries.\n",
      "Populating the interactive namespace from numpy and matplotlib\n"
     ]
    },
    {
     "ename": "ModuleNotFoundError",
     "evalue": "No module named 'seaborn'",
     "output_type": "error",
     "traceback": [
      "\u001b[0;31m---------------------------------------------------------------------------\u001b[0m",
      "\u001b[0;31mModuleNotFoundError\u001b[0m                       Traceback (most recent call last)",
      "Input \u001b[0;32mIn [6]\u001b[0m, in \u001b[0;36m<module>\u001b[0;34m\u001b[0m\n\u001b[1;32m      7\u001b[0m \u001b[38;5;28;01mimport\u001b[39;00m \u001b[38;5;21;01mpandas\u001b[39;00m \u001b[38;5;28;01mas\u001b[39;00m \u001b[38;5;21;01mpd\u001b[39;00m\n\u001b[1;32m      8\u001b[0m \u001b[38;5;28;01mimport\u001b[39;00m \u001b[38;5;21;01mos\u001b[39;00m\n\u001b[0;32m----> 9\u001b[0m \u001b[38;5;28;01mimport\u001b[39;00m \u001b[38;5;21;01mseaborn\u001b[39;00m \u001b[38;5;28;01mas\u001b[39;00m \u001b[38;5;21;01msns\u001b[39;00m\n\u001b[1;32m     10\u001b[0m \u001b[38;5;28;01mfrom\u001b[39;00m \u001b[38;5;21;01mtqdm\u001b[39;00m \u001b[38;5;28;01mimport\u001b[39;00m tqdm_notebook \u001b[38;5;28;01mas\u001b[39;00m tqdm\n\u001b[1;32m     11\u001b[0m \u001b[38;5;28;01mfrom\u001b[39;00m \u001b[38;5;21;01mstatsmodels\u001b[39;00m\u001b[38;5;21;01m.\u001b[39;00m\u001b[38;5;21;01mdistributions\u001b[39;00m\u001b[38;5;21;01m.\u001b[39;00m\u001b[38;5;21;01mempirical_distribution\u001b[39;00m \u001b[38;5;28;01mimport\u001b[39;00m ECDF\n",
      "\u001b[0;31mModuleNotFoundError\u001b[0m: No module named 'seaborn'"
     ]
    }
   ],
   "source": [
    "%load_ext autoreload\n",
    "%autoreload 2\n",
    "%pylab inline\n",
    "\n",
    "import sys\n",
    "import glob\n",
    "import pandas as pd\n",
    "import os\n",
    "import seaborn as sns\n",
    "from tqdm import tqdm_notebook as tqdm\n",
    "from statsmodels.distributions.empirical_distribution import ECDF\n",
    "from collections import defaultdict\n",
    "import open_spiel.python.examples.ubc_dispatch as dispatch"
   ]
  },
  {
   "cell_type": "code",
   "execution_count": null,
   "id": "e2599673-955f-4f26-8d07-ef991fb4884d",
   "metadata": {},
   "outputs": [],
   "source": [
    "overrides = '--num_training_episodes 5_000_000 --eval_every 500_000 --iterate_br true --br_overrides \"--num_training_episodes 2_000_000\"' \n",
    "CONFIG_DIR = '/apps/open_spiel/open_spiel/python/examples/notebooks/configs/old_jan13'\n",
    "dispatch.dispatch_experiments(CONFIG_DIR, overrides=overrides, game_name='small_game_2', base_job_name='jan25_small_gpu')\n",
    "# dispatch.dispatch_experiments(CONFIG_DIR, overrides=overrides, game_name='medium_game_2', base_job_name='jan14_medium')\n",
    "# dispatch.dispatch_experiments(CONFIG_DIR, overrides=overrides, game_name='big_game_2', base_job_name='jan14_big')"
   ]
  },
  {
   "cell_type": "code",
   "execution_count": 13,
   "id": "5f043871-7b57-4cb9-ad79-8afde5e054c4",
   "metadata": {},
   "outputs": [
    {
     "name": "stdout",
     "output_type": "stream",
     "text": [
      "Dispatched 4 experiments!\n"
     ]
    }
   ],
   "source": [
    "overrides = '--num_training_episodes 5_000_000 --eval_every 500_000 --eval_every_early 50_000 --iterate_br true --br_overrides \"--num_training_episodes 1_000_000\"' \n",
    "CONFIG_DIR = '/apps/open_spiel/open_spiel/python/examples/notebooks/configs/feb2'\n",
    "# dispatch.dispatch_experiments(CONFIG_DIR, overrides=overrides, game_name='small_game_2', base_job_name='jan25_small_gpu')\n",
    "# dispatch.dispatch_experiments(CONFIG_DIR, overrides=overrides, game_name='medium_game_2', base_job_name='jan25_medium')\n",
    "dispatch.dispatch_experiments(CONFIG_DIR, overrides=overrides, game_name='large_game_2', base_job_name='feb2_large')"
   ]
  },
  {
   "cell_type": "code",
   "execution_count": 13,
   "id": "ae81e33e-0082-462b-b19d-2a0a04f5f739",
   "metadata": {},
   "outputs": [
    {
     "name": "stdout",
     "output_type": "stream",
     "text": [
      "Dispatched 2 experiments!\n"
     ]
    }
   ],
   "source": [
    "overrides = '--num_training_episodes 10_000_000 --eval_every 1_000_000 --eval_every_early 250_000 --eval_zero true --br_portfolio /apps/open_spiel/open_spiel/python/examples/notebooks/configs/feb4 --iterate_br true --br_overrides \"--num_training_episodes 1_000_000\"' \n",
    "CONFIG_DIR = '/apps/open_spiel/open_spiel/python/examples/notebooks/configs/feb2'\n",
    "dispatch.dispatch_experiments(CONFIG_DIR, overrides=overrides, game_name='large_game_2', base_job_name='feb8_large')"
   ]
  },
  {
   "cell_type": "code",
   "execution_count": 88,
   "id": "9d200227-7a69-417a-be93-58c262f123b9",
   "metadata": {},
   "outputs": [],
   "source": [
    "# !squeue --format=\"%.18i %.65j %.2t %.10M %.6D %R\" | grep \"_mlp  R\" | awk '{print $1}' | xargs scancel"
   ]
  },
  {
   "cell_type": "code",
   "execution_count": 5,
   "id": "1517f441-4c4c-47fe-9dcb-2ae7cebca8c2",
   "metadata": {},
   "outputs": [
    {
     "name": "stdout",
     "output_type": "stream",
     "text": [
      "             JOBID                                                              NAME ST       TIME  NODES NODELIST(REASON)\n",
      "             23006                                           eval_test_run_5000_test PD       0:00      1 (Resources)\n",
      "             23005                         eval_test_run_5000_test_straightforward_1  R       0:00      1 ip-10-255-3-196\n"
     ]
    }
   ],
   "source": [
    "!squeue --format=\"%.18i %.65j %.2t %.10M %.6D %R\""
   ]
  },
  {
   "cell_type": "code",
   "execution_count": null,
   "id": "a8ee533f-357a-4bbc-956e-1cf136ef9266",
   "metadata": {},
   "outputs": [],
   "source": [
    "# !scancel 5306 5307"
   ]
  },
  {
   "cell_type": "code",
   "execution_count": 5,
   "id": "c26b508d-9ee0-4878-9aa1-68c611ab651a",
   "metadata": {},
   "outputs": [],
   "source": [
    "!scancel -u ubuntu"
   ]
  },
  {
   "cell_type": "code",
   "execution_count": 6,
   "id": "8f0815e1-788b-42c9-a1c7-9eda16d07bd6",
   "metadata": {},
   "outputs": [
    {
     "name": "stdout",
     "output_type": "stream",
     "text": [
      "Dispatched 2 experiments!\n"
     ]
    }
   ],
   "source": [
    "# Tiny example for pipeline verification\n",
    "\n",
    "overrides = '--num_training_episodes 5000 --eval_every 1000 --iterate_br true --br_portfolio /apps/open_spiel/open_spiel/python/examples/notebooks/configs/feb4 --br_overrides \"--num_training_episodes 1000\"' \n",
    "CONFIG_DIR = '/apps/open_spiel/open_spiel/python/examples/notebooks/configs/feb2'\n",
    "dispatch.dispatch_experiments(CONFIG_DIR, overrides=overrides, game_name='tiny', base_job_name='jan13_tiny_2')\n"
   ]
  },
  {
   "cell_type": "code",
   "execution_count": 17,
   "id": "304300aa-fc99-4960-b417-0fba586951ec",
   "metadata": {},
   "outputs": [
    {
     "data": {
      "text/plain": [
       "1183.4480459690094"
      ]
     },
     "execution_count": 17,
     "metadata": {},
     "output_type": "execute_result"
    }
   ],
   "source": [
    "import pickle\n",
    "pickle.load(open('/shared/outputs/feb2_large/lstm_deep/evaluations/rewards_checkpoint_3500000.pkl', 'rb'))['walltime']"
   ]
  },
  {
   "cell_type": "code",
   "execution_count": null,
   "id": "1901d723-5b7b-4c15-9d0e-f281f8cfe06b",
   "metadata": {},
   "outputs": [],
   "source": []
  }
 ],
 "metadata": {
  "kernelspec": {
   "display_name": "Python 3 (ipykernel)",
   "language": "python",
   "name": "python3"
  },
  "language_info": {
   "codemirror_mode": {
    "name": "ipython",
    "version": 3
   },
   "file_extension": ".py",
   "mimetype": "text/x-python",
   "name": "python",
   "nbconvert_exporter": "python",
   "pygments_lexer": "ipython3",
   "version": "3.8.0"
  }
 },
 "nbformat": 4,
 "nbformat_minor": 5
}
