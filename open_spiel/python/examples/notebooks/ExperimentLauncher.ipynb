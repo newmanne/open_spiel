{
 "cells": [
  {
   "cell_type": "code",
   "execution_count": 123,
   "id": "53d1f915-16a6-42e9-b93a-3f44564ef069",
   "metadata": {},
   "outputs": [
    {
     "name": "stdout",
     "output_type": "stream",
     "text": [
      "The autoreload extension is already loaded. To reload it, use:\n",
      "  %reload_ext autoreload\n",
      "Populating the interactive namespace from numpy and matplotlib\n"
     ]
    },
    {
     "name": "stderr",
     "output_type": "stream",
     "text": [
      "/apps/open_spiel/venv/lib/python3.6/site-packages/IPython/core/magics/pylab.py:160: UserWarning: pylab import has clobbered these variables: ['logging', 'copy']\n",
      "`%matplotlib` prevents importing * from pylab and numpy\n",
      "  \"\\n`%matplotlib` prevents importing * from pylab and numpy\"\n"
     ]
    }
   ],
   "source": [
    "%load_ext autoreload\n",
    "%autoreload 2\n",
    "%pylab inline\n",
    "\n",
    "import sys\n",
    "import glob\n",
    "import pandas as pd\n",
    "import os\n",
    "import seaborn as sns\n",
    "from tqdm import tqdm_notebook as tqdm\n",
    "from statsmodels.distributions.empirical_distribution import ECDF\n",
    "from collections import defaultdict\n",
    "import open_spiel.python.examples.ubc_dispatch as dispatch"
   ]
  },
  {
   "cell_type": "code",
   "execution_count": 154,
   "id": "e2599673-955f-4f26-8d07-ef991fb4884d",
   "metadata": {},
   "outputs": [
    {
     "name": "stdout",
     "output_type": "stream",
     "text": [
      "Dispatched 1 experiments!\n"
     ]
    }
   ],
   "source": [
    "overrides = '--num_training_episodes 3_000_000 --eval_every 300_000 --br_overrides \"--num_training_episodes 1_000_000\"' \n",
    "CONFIG_DIR = '/apps/open_spiel/open_spiel/python/examples/notebooks/configs/dec13'\n",
    "# dispatch.dispatch_experiments(CONFIG_DIR, overrides=overrides, game_name='parameters2', cfr_also=True)\n",
    "# dispatch.dispatch_experiments(CONFIG_DIR, overrides=overrides, game_name='signal', cfr_also=True)\n",
    "dispatch.dispatch_experiments(CONFIG_DIR, single_config='lstm_deep', overrides=overrides, game_name='big_game_3', base_job_name='dec14_big_game_3', cfr_also=False)"
   ]
  },
  {
   "cell_type": "code",
   "execution_count": 155,
   "id": "1517f441-4c4c-47fe-9dcb-2ae7cebca8c2",
   "metadata": {},
   "outputs": [
    {
     "name": "stdout",
     "output_type": "stream",
     "text": [
      "             JOBID                                     NAME ST       TIME  NODES NODELIST(REASON)\n",
      "              2209               lstm_deep_dec14_big_game_3 PD       0:00      1 (None)\n"
     ]
    }
   ],
   "source": [
    "!squeue --format=\"%.18i %.40j %.2t %.10M %.6D %R\""
   ]
  },
  {
   "cell_type": "code",
   "execution_count": 153,
   "id": "c26b508d-9ee0-4878-9aa1-68c611ab651a",
   "metadata": {},
   "outputs": [],
   "source": [
    "# !scancel -u ubuntu"
   ]
  },
  {
   "cell_type": "code",
   "execution_count": null,
   "id": "ee7dad65-115b-49f3-83d8-25d93ad3e892",
   "metadata": {},
   "outputs": [],
   "source": []
  }
 ],
 "metadata": {
  "kernelspec": {
   "display_name": "Python 3",
   "language": "python",
   "name": "python3"
  },
  "language_info": {
   "codemirror_mode": {
    "name": "ipython",
    "version": 3
   },
   "file_extension": ".py",
   "mimetype": "text/x-python",
   "name": "python",
   "nbconvert_exporter": "python",
   "pygments_lexer": "ipython3",
   "version": "3.6.9"
  }
 },
 "nbformat": 4,
 "nbformat_minor": 5
}
