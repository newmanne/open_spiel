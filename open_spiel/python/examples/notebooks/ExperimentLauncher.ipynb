{
 "cells": [
  {
   "cell_type": "code",
   "execution_count": 60,
   "id": "e6f6eef1-52e3-4ff5-af4b-2d5b933ad90b",
   "metadata": {},
   "outputs": [
    {
     "name": "stdout",
     "output_type": "stream",
     "text": [
      "The autoreload extension is already loaded. To reload it, use:\n",
      "  %reload_ext autoreload\n",
      "%pylab is deprecated, use %matplotlib inline and import the required libraries.\n",
      "Populating the interactive namespace from numpy and matplotlib\n"
     ]
    }
   ],
   "source": [
    "%load_ext autoreload\n",
    "%autoreload 2\n",
    "%pylab inline"
   ]
  },
  {
   "cell_type": "code",
   "execution_count": 141,
   "id": "53d1f915-16a6-42e9-b93a-3f44564ef069",
   "metadata": {},
   "outputs": [],
   "source": [
    "import sys\n",
    "import glob\n",
    "import pandas as pd\n",
    "import os\n",
    "import seaborn as sns\n",
    "from tqdm import tqdm_notebook as tqdm\n",
    "from statsmodels.distributions.empirical_distribution import ECDF\n",
    "from collections import defaultdict\n",
    "import open_spiel.python.examples.ubc_dispatch as dispatch\n",
    "import os\n",
    "os.environ[\"DJANGO_ALLOW_ASYNC_UNSAFE\"] = \"true\"\n",
    "from sklearn.model_selection import ParameterGrid\n",
    "from pathlib import Path"
   ]
  },
  {
   "cell_type": "code",
   "execution_count": 142,
   "id": "a963cf68-f084-47bc-86bf-23882e77f392",
   "metadata": {},
   "outputs": [],
   "source": [
    "game_dir = os.environ[\"CLOCK_AUCTION_CONFIG_DIR\"]"
   ]
  },
  {
   "cell_type": "code",
   "execution_count": 143,
   "id": "c8c2385e-6b10-4beb-b452-86901d06d7c2",
   "metadata": {},
   "outputs": [
    {
     "name": "stdout",
     "output_type": "stream",
     "text": [
      "20\n"
     ]
    }
   ],
   "source": [
    "pgrid = ParameterGrid([\n",
    "    {\n",
    "        # Defaults\n",
    "        'game': [Path(x).stem for x in glob.glob(f'{game_dir}/jan12*')], \n",
    "    },\n",
    "    # {   # Potentials\n",
    "    #     'game': [Path(x).stem for x in glob.glob(f'{game_dir}/jan12*')], \n",
    "    #     'potential_function': ['auction_length', 'revenue', 'pricing'],\n",
    "    #     'scale_coef': [1, 5],\n",
    "    # },\n",
    "])\n",
    "print(len(pgrid))"
   ]
  },
  {
   "cell_type": "code",
   "execution_count": 145,
   "id": "bcf73586-b35c-4016-b3b5-b728feb1bd98",
   "metadata": {},
   "outputs": [
    {
     "name": "stdout",
     "output_type": "stream",
     "text": [
      "Submitted batch job 76841\n",
      "Submitted batch job 76842\n",
      "Submitted batch job 76843\n",
      "Submitted batch job 76844\n",
      "Submitted batch job 76845\n",
      "Submitted batch job 76846\n",
      "Submitted batch job 76847\n",
      "Submitted batch job 76848\n",
      "Submitted batch job 76849\n",
      "Submitted batch job 76850\n",
      "Submitted batch job 76851\n",
      "Submitted batch job 76852\n",
      "Submitted batch job 76853\n",
      "Submitted batch job 76854\n",
      "Submitted batch job 76855\n",
      "Submitted batch job 76856\n",
      "Submitted batch job 76857\n",
      "Submitted batch job 76858\n",
      "Submitted batch job 76859\n",
      "Submitted batch job 76860\n"
     ]
    }
   ],
   "source": [
    "for config in pgrid:\n",
    "    CONFIG = 'dec15' # The YML network config folder for the main jobs\n",
    "    BR_CONFIG = 'dec15' # Ditto for BRs\n",
    "    N_SEEDS = 3 # Number of seeds of each experiment to launch\n",
    "    overrides = f'--overwrite_db True --br_portfolio_path {BR_CONFIG} --eval_every 10_000_000 --eval_zero false --total_timesteps 10_000_000 --dispatch_br false --br_overrides \"--total_timesteps 1_000_000\"'\n",
    "    potential_function = config.get('potential_function')\n",
    "    scale_coef = config.get('scale_coef')\n",
    "    extra_name = ''\n",
    "    if potential_function is not None:\n",
    "        overrides += f' --potential_function {potential_function}'\n",
    "        extra_name += f'_pot{potential_function}_'\n",
    "    \n",
    "    if scale_coef is not None:\n",
    "        overrides += f' --scale_coef {scale_coef}'\n",
    "        extra_name += f'_s_{scale_coef}_'\n",
    "        \n",
    "    dispatch.dispatch_experiments(CONFIG, base_job_name='jan12_1', game_name=config['game'], overrides=overrides, n_seeds=N_SEEDS, extra_name=extra_name)\n"
   ]
  },
  {
   "cell_type": "code",
   "execution_count": null,
   "id": "332e41bc-15e4-445d-9c0a-2967c7c907b8",
   "metadata": {},
   "outputs": [],
   "source": [
    "sats_games = [os.path.basename(x).replace('.json','') for x in glob.glob(f'{game_dir}/sats*')]\n",
    "# sats_games = ['sats_2regions_2licenses_2players_5types']\n",
    "# sats_games = ['sats_3regions_3licenses_5types']\n",
    "# sats_games = ['sats_2regions_2licenses_2players_5types', 'sats_3regions_3licenses_5types']\n",
    "# sats_games = ['rw_game_2_war_speedy_2']\n",
    "# sats_games = ['confused_national']\n",
    "\n",
    "\n",
    "# sats_games = ['confused_national', 'confused_national_with_signal', 'confused_national_with_undersell']\n",
    "# sats_games = ['confused_national_with_signal', 'confused_national_with_undersell']\n",
    "# sats_games = ['confused_national', 'confused_national_with_undersell']\n",
    "\n",
    "sats_games = ['confused_national', 'regional_vs_national']\n",
    "\n",
    "# sats_games = ['regional_vs_national']\n",
    "# sats_games = ['regional_vs_national_signal']\n"
   ]
  },
  {
   "cell_type": "code",
   "execution_count": null,
   "id": "ba95c3f6-0638-4cbf-ac0b-73967dbf10c0",
   "metadata": {},
   "outputs": [],
   "source": [
    "# SATS Games\n",
    "CONFIG = 'dec11trap'\n",
    "BR_CONFIG = 'dec11trap'\n",
    "N_SEEDS = 1\n",
    "# overrides = f'--overwrite_db True --br_portfolio_path {BR_CONFIG} --eval_every 999999 --eval_zero false --total_timesteps 1_000_000 --dispatch_br false'\n",
    "# NOTE: eval every is phrased in units of UPDATES, not steps\n",
    "overrides = f'--overwrite_db True --br_portfolio_path {BR_CONFIG} --eval_every 2_500_000 --eval_zero false --total_timesteps 10_000_000 --dispatch_br false --br_overrides \"--total_timesteps 2_000_000\"'\n",
    "for GAME_NAME in sats_games:\n",
    "    dispatch.dispatch_experiments(CONFIG, base_job_name='itsatrap_decorator16', game_name=f'{GAME_NAME}', overrides = overrides, n_seeds=N_SEEDS)\n",
    "    # dispatch.dispatch_experiments(CONFIG, base_job_name='sats_games_11_with_require_br', game_name=f'{GAME_NAME}', overrides = overrides + ' --iterate_br false --require_br true', n_seeds=N_SEEDS)\n",
    "    # dispatch.dispatch_experiments(CONFIG, base_job_name='sats_games_11_with_random_ic', game_name=f'{GAME_NAME}', overrides = overrides + ' --random_ic true', n_seeds=N_SEEDS)"
   ]
  },
  {
   "cell_type": "code",
   "execution_count": null,
   "id": "797f2f6e-14f5-4fd5-b926-3504b729bc5c",
   "metadata": {},
   "outputs": [],
   "source": [
    "# SATS Games\n",
    "# CONFIG = 'aug11'\n",
    "# BR_CONFIG = 'oct31'\n",
    "CONFIG = 'dec6'\n",
    "BR_CONFIG = 'dec6br'\n",
    "N_SEEDS = 3\n",
    "# overrides = f'--overwrite_db True --br_portfolio_path {BR_CONFIG} --eval_every 999999 --eval_zero false --total_timesteps 1_000_000 --dispatch_br false'\n",
    "# NOTE: eval every is phrased in units of UPDATES, not steps\n",
    "overrides = f'--overwrite_db True --br_portfolio_path {BR_CONFIG} --eval_every 2_500_000 --eval_zero false --total_timesteps 10_000_000 --dispatch_br true --br_overrides \"--total_timesteps 2_000_000\"'\n",
    "for GAME_NAME in sats_games:\n",
    "    dispatch.dispatch_experiments(CONFIG, base_job_name='new_configs_dec_8', game_name=f'{GAME_NAME}', overrides = overrides, n_seeds=N_SEEDS)\n",
    "    # dispatch.dispatch_experiments(CONFIG, base_job_name='sats_games_11_with_require_br', game_name=f'{GAME_NAME}', overrides = overrides + ' --iterate_br false --require_br true', n_seeds=N_SEEDS)\n",
    "    # dispatch.dispatch_experiments(CONFIG, base_job_name='sats_games_11_with_random_ic', game_name=f'{GAME_NAME}', overrides = overrides + ' --random_ic true', n_seeds=N_SEEDS)"
   ]
  },
  {
   "cell_type": "code",
   "execution_count": null,
   "id": "9d200227-7a69-417a-be93-58c262f123b9",
   "metadata": {},
   "outputs": [],
   "source": [
    "# !squeue --format=\"%.18i %.65j %.2t %.10M %.6D %R\" | grep \"straightforward\" | awk '{print $1}' | xargs scancel"
   ]
  },
  {
   "cell_type": "code",
   "execution_count": 164,
   "id": "3e5c26b7-d158-4ece-a72a-c3b2fd47a56f",
   "metadata": {
    "tags": []
   },
   "outputs": [
    {
     "name": "stdout",
     "output_type": "stream",
     "text": [
      "             JOBID                                                                                       NAME ST .      TIME  NODES NODELIST(REASON)\n",
      "             76861                                  jan12_all_confused_with_local_base-dec15ppo_3-100_jan12_2  R .  21:27:52      1 ip-10-255-1-174\n",
      "             76862                                  jan12_all_confused_with_local_base-dec15ppo_3-101_jan12_2  R .  21:26:04      1 ip-10-255-1-133\n",
      "             76863                                  jan12_all_confused_with_local_base-dec15ppo_3-102_jan12_2  R .  21:26:04      1 ip-10-255-1-138\n",
      "             76864                                              jan12_2rvn_hide_demand-dec15ppo_3-100_jan12_2  R .  21:26:04      1 ip-10-255-1-145\n",
      "             76865                                              jan12_2rvn_hide_demand-dec15ppo_3-101_jan12_2  R .  21:26:04      1 ip-10-255-1-146\n",
      "             76866                                              jan12_2rvn_hide_demand-dec15ppo_3-102_jan12_2  R .  21:26:04      1 ip-10-255-1-150\n",
      "             76867                                jan12_all_confused_with_local_reveal-dec15ppo_3-100_jan12_2  R .  21:26:04      1 ip-10-255-1-153\n",
      "             76868                                jan12_all_confused_with_local_reveal-dec15ppo_3-101_jan12_2  R .  21:26:04      1 ip-10-255-1-155\n",
      "             76869                                jan12_all_confused_with_local_reveal-dec15ppo_3-102_jan12_2  R .  21:26:04      1 ip-10-255-1-158\n",
      "             76879                           jan12_all_confused_with_local_hide_demand-dec15ppo_3-100_jan12_2  R .  21:26:04      1 ip-10-255-1-218\n",
      "             76880                           jan12_all_confused_with_local_hide_demand-dec15ppo_3-101_jan12_2  R .  21:26:04      1 ip-10-255-1-221\n",
      "             76881                           jan12_all_confused_with_local_hide_demand-dec15ppo_3-102_jan12_2  R .  21:26:04      1 ip-10-255-1-223\n",
      "             76882                                                jan12_2rvn_undersell-dec15ppo_3-100_jan12_2  R .  21:26:04      1 ip-10-255-1-224\n",
      "             76883                                                jan12_2rvn_undersell-dec15ppo_3-101_jan12_2  R .  21:26:04      1 ip-10-255-1-235\n",
      "             76884                                                jan12_2rvn_undersell-dec15ppo_3-102_jan12_2  R .  21:26:04      1 ip-10-255-1-236\n",
      "             76888                                                     jan12_2rvn_base-dec15ppo_3-100_jan12_2  R .  21:26:04      1 ip-10-255-1-252\n",
      "             76889                                                     jan12_2rvn_base-dec15ppo_3-101_jan12_2  R .  21:26:04      1 ip-10-255-1-253\n",
      "             76890                                                     jan12_2rvn_base-dec15ppo_3-102_jan12_2  R .  21:25:35      1 ip-10-255-1-132\n",
      "             76894                                                   jan12_2rvn_reveal-dec15ppo_3-100_jan12_2  R .  21:25:35      1 ip-10-255-1-209\n",
      "             76895                                                   jan12_2rvn_reveal-dec15ppo_3-101_jan12_2  R .  21:25:35      1 ip-10-255-1-220\n",
      "             76896                                                   jan12_2rvn_reveal-dec15ppo_3-102_jan12_2  R .  21:25:35      1 ip-10-255-1-226\n",
      "             76897                             jan12_all_confused_with_local_undersell-dec15ppo_3-100_jan12_2  R .  21:25:35      1 ip-10-255-1-245\n",
      "             76898                             jan12_all_confused_with_local_undersell-dec15ppo_3-101_jan12_2  R .  21:25:35      1 ip-10-255-1-250\n",
      "             76899                             jan12_all_confused_with_local_undersell-dec15ppo_3-102_jan12_2  R .  21:25:35      1 ip-10-255-1-142\n"
     ]
    }
   ],
   "source": [
    "!squeue --format=\"%.18i %.90j %.2t .%.10M %.6D %R\""
   ]
  },
  {
   "cell_type": "code",
   "execution_count": 163,
   "id": "a8ee533f-357a-4bbc-956e-1cf136ef9266",
   "metadata": {},
   "outputs": [
    {
     "name": "stdout",
     "output_type": "stream",
     "text": [
      "25\n"
     ]
    }
   ],
   "source": [
    "!squeue | wc -l"
   ]
  },
  {
   "cell_type": "code",
   "execution_count": 75,
   "id": "a8b665af-771f-44c1-8065-4928e1e5ac91",
   "metadata": {},
   "outputs": [
    {
     "name": "stdout",
     "output_type": "stream",
     "text": [
      "0\n"
     ]
    }
   ],
   "source": [
    "!squeue | grep \"br_1\" | wc -l"
   ]
  },
  {
   "cell_type": "code",
   "execution_count": 147,
   "id": "c26b508d-9ee0-4878-9aa1-68c611ab651a",
   "metadata": {},
   "outputs": [],
   "source": [
    "!scancel -u ubuntu"
   ]
  },
  {
   "cell_type": "code",
   "execution_count": null,
   "id": "aee5cc7e-228c-4484-bb31-efb870f59efa",
   "metadata": {},
   "outputs": [],
   "source": [
    "# !scancel  46891 46893"
   ]
  },
  {
   "cell_type": "code",
   "execution_count": null,
   "id": "3aeeeeb6-6c6f-4e37-9566-3eb8d73d97d5",
   "metadata": {},
   "outputs": [],
   "source": [
    "!rm -rf /shared/outputs/minitest/\n",
    "try:\n",
    "    Experiment.objects.get(name='minitest').delete()\n",
    "except:\n",
    "    pass\n",
    "dispatch.dispatch_experiments('feb2', base_job_name='minitest', game_name='tiny', overrides = '--br_portfolio_path feb2 --eval_every 500 --num_training_episodes 1_000 --br_overrides \"--num_training_episodes 1_000\" --eval_overrides \"--num_samples 100\"')"
   ]
  },
  {
   "cell_type": "code",
   "execution_count": null,
   "id": "d4ca4c72-ce03-4d1a-8e9d-1abd642e8407",
   "metadata": {},
   "outputs": [],
   "source": [
    "BestResponse.objects.last()"
   ]
  },
  {
   "cell_type": "code",
   "execution_count": null,
   "id": "da1b3451-a927-4467-a90d-077f2de61767",
   "metadata": {},
   "outputs": [],
   "source": [
    "Experiment.objects.all()"
   ]
  },
  {
   "cell_type": "code",
   "execution_count": null,
   "id": "0547418d-7d14-404e-ad7f-892180cd6e50",
   "metadata": {},
   "outputs": [],
   "source": [
    "!sacct --starttime 2022-03-11 --format=User,JobID,Jobname,partition,state,time,start,end,elapsed,MaxRss,MaxVMSize,nnodes,ncpus,nodelist"
   ]
  },
  {
   "cell_type": "code",
   "execution_count": null,
   "id": "7bc11eb7-da86-46db-9a6b-fe5ac595f1d6",
   "metadata": {},
   "outputs": [],
   "source": [
    "from open_spiel.python.examples.ubc_plotting_utils import parse_run\n",
    "from auctions.webutils import *\n",
    "\n",
    "def find_best_checkpoint(run, max_t=None):\n",
    "    ev_df = parse_run(run, max_t)\n",
    "    best_t = ev_df.groupby('t')['ApproxNashConv'].first().idxmin()\n",
    "    nash_conv_by_t = ev_df.groupby('t')['ApproxNashConv'].first()\n",
    "    best_checkpoint = get_checkpoint(run, t=best_t)\n",
    "    return nash_conv_by_t, best_checkpoint, nash_conv_by_t.min()\n",
    "\n",
    "\n",
    "run = EquilibriumSolverRun.objects.last()\n",
    "find_best_checkpoint(run)"
   ]
  },
  {
   "cell_type": "code",
   "execution_count": null,
   "id": "e9a3abf2-1dca-40a7-8c86-f558ac16c5c4",
   "metadata": {},
   "outputs": [],
   "source": [
    "Experiment.objects.get(name='large_game_2_no_activity.json').delete()"
   ]
  },
  {
   "cell_type": "code",
   "execution_count": null,
   "id": "f5184d7b-9f29-48aa-ae93-8920db084b8a",
   "metadata": {},
   "outputs": [],
   "source": [
    "Game.objects.get(name='large_game_2_pricing_extreme.json').delete()"
   ]
  },
  {
   "cell_type": "code",
   "execution_count": null,
   "id": "e706f461-6a88-4392-bfe4-6187661e1533",
   "metadata": {},
   "outputs": [],
   "source": [
    "!python /apps/open_spiel/web/auctions/manage.py nfsp --seed 109 --filename rounds.json --network_config_file mar17/lstm --experiment_name lstmtest --job_name \"lstm_for_greg\" --dispatch_br false --br_portfolio_path feb22 --eval_every 10_000 --num_training_episodes 10_000_000 --br_overrides \"--num_training_episodes 1_000_000\" --report_freq 10_000 --overwrite_db true"
   ]
  },
  {
   "cell_type": "code",
   "execution_count": null,
   "id": "f95b85fe-1070-463b-9b8c-3f3392d9f178",
   "metadata": {},
   "outputs": [],
   "source": [
    "list(Experiment.objects.all().values_list('name', flat=True))"
   ]
  },
  {
   "cell_type": "code",
   "execution_count": null,
   "id": "d371b8e4-55d3-4859-b28d-ff8ef2098380",
   "metadata": {},
   "outputs": [],
   "source": [
    "r = EquilibriumSolverRun.objects.get(name='large_game_3b_hide-mar17lstm-100')"
   ]
  },
  {
   "cell_type": "code",
   "execution_count": null,
   "id": "b3cdffb6-5085-4c1b-9d33-1b343934cbdb",
   "metadata": {},
   "outputs": [],
   "source": [
    "from auctions.webutils import *\n",
    "from open_spiel.python.examples.ubc_plotting_utils import *\n",
    "parse_run(r, conservative=False)"
   ]
  },
  {
   "cell_type": "code",
   "execution_count": null,
   "id": "733ad314-b27a-41d4-94d6-214cb903b5bd",
   "metadata": {},
   "outputs": [],
   "source": [
    "BREvaluation.objects.filter(best_response__checkpoint__equilibrium_solver_run=r)"
   ]
  },
  {
   "cell_type": "code",
   "execution_count": null,
   "id": "6cae40c6-7e65-4f2b-8233-3597d7096772",
   "metadata": {},
   "outputs": [],
   "source": [
    "list(BestResponse.objects.filter(checkpoint__equilibrium_solver_run=r).values('name'))"
   ]
  },
  {
   "cell_type": "code",
   "execution_count": null,
   "id": "6f8126fd-9169-41f8-85dc-1cc748b31578",
   "metadata": {},
   "outputs": [],
   "source": [
    "BestResponse.objects.filter(checkpoint=pk)[0].brevaluation.__dict__"
   ]
  },
  {
   "cell_type": "code",
   "execution_count": null,
   "id": "6bb37f06-5475-4c99-98db-bbf8f4385198",
   "metadata": {},
   "outputs": [],
   "source": [
    "from open_spiel.python.examples.ubc_plotting_utils import *\n",
    "parse_run(r, conservative=False)"
   ]
  },
  {
   "cell_type": "code",
   "execution_count": null,
   "id": "7a4a0414-e2de-4a61-84d7-128d9ec1605b",
   "metadata": {},
   "outputs": [],
   "source": [
    "BREvaluation.objects.filter(best_response__checkpoint__equilibrium_solver_run=r).values('best_response__name')"
   ]
  },
  {
   "cell_type": "code",
   "execution_count": null,
   "id": "18a64a9d-f0fd-4f83-a7a5-e4533efdef75",
   "metadata": {},
   "outputs": [],
   "source": [
    "BestResponse.objects.filter(checkpoint__equilibrium_solver_run=r).values('name')"
   ]
  },
  {
   "cell_type": "code",
   "execution_count": null,
   "id": "a3d30846-58d7-48ea-8c37-26a8e3ff3e4b",
   "metadata": {},
   "outputs": [],
   "source": [
    "experiments = ['mar24', 'mar22_4']\n",
    "all_scripts = []\n",
    "for e in experiments:\n",
    "    scripts = glob.glob(f'/shared/outputs/{e}/*/evaluations/*.sh')\n",
    "    scripts = [s for s in scripts if 'straightforward' not in s]\n",
    "    scripts = [s for s in scripts if s[-5:] == \"_2.sh\"]\n",
    "    all_scripts += scripts"
   ]
  },
  {
   "cell_type": "code",
   "execution_count": null,
   "id": "1add0f96-beb4-4aa2-b729-61c3d03e9746",
   "metadata": {},
   "outputs": [],
   "source": [
    "for script in all_scripts:\n",
    "    parent = Path(script).parent\n",
    "    !cd {parent} && sbatch {script}"
   ]
  },
  {
   "cell_type": "code",
   "execution_count": null,
   "id": "e19fcfab-57c4-4fea-bebc-a59ecde20baf",
   "metadata": {},
   "outputs": [],
   "source": [
    "x = Evaluation.objects.last()"
   ]
  },
  {
   "cell_type": "code",
   "execution_count": null,
   "id": "99f49bbf-6fcb-438a-a773-7dac9b989148",
   "metadata": {},
   "outputs": [],
   "source": [
    "x.samples['allocations']"
   ]
  },
  {
   "cell_type": "code",
   "execution_count": null,
   "id": "d61d2c89-07b8-43c7-ba5d-f8bfcbce3496",
   "metadata": {},
   "outputs": [],
   "source": [
    "Evaluation.objects.last()"
   ]
  },
  {
   "cell_type": "code",
   "execution_count": null,
   "id": "9be1d94a-3886-4c7e-9aec-74dd5ff08c0d",
   "metadata": {},
   "outputs": [],
   "source": [
    "import torch.nn.functional as F\n",
    "import torch\n",
    "x = torch.tensor([1,2,3])"
   ]
  },
  {
   "cell_type": "code",
   "execution_count": null,
   "id": "f9ffdfc7-0d45-4213-91e2-4efb2759f568",
   "metadata": {},
   "outputs": [],
   "source": [
    "F.pad(x, (0, 2))"
   ]
  },
  {
   "cell_type": "code",
   "execution_count": null,
   "id": "1220a6ad-d54f-4259-8c48-12f7a6d7ced6",
   "metadata": {},
   "outputs": [],
   "source": [
    "torch.nn.functional.pad(input, pad, mode='constant', value=0.0)"
   ]
  },
  {
   "cell_type": "code",
   "execution_count": null,
   "id": "b745d521-0b5b-4c8a-bfb4-3f6ad0f4c107",
   "metadata": {},
   "outputs": [],
   "source": [
    "python /apps/open_spiel/web/auctions/manage.py nfsp --seed 100 --filename sats_5.json --network_config_file flatmlp/mlp --experiment_name test_require_br --job_name \"sats_5_test-flatmlpmlp-100\" --dispatch_br false --dry_run true --overwrite_db True --br_portfolio_path flatmlp --eval_every 1_000_000 --eval_zero false --num_training_episodes 8_000_000 --br_overrides \"--num_training_episodes 1_000_000\" --iterate_br false --require_br true\n",
    "\n",
    "# Get env_and_model\n",
    "\n",
    "\n",
    "# run_nfsp(env_and_model, 10_000, True, False, NullResultSaver(), 1, False, NullDispatcher(), eval_every, eval_every_early, eval_exactly, eval_zero, report_freq, dispatch_br, agent_selector, random_ic=False):"
   ]
  },
  {
   "cell_type": "code",
   "execution_count": null,
   "id": "d1c7170f-13f4-4ce5-a820-f262f723198c",
   "metadata": {},
   "outputs": [],
   "source": [
    "BREvaluation.objects.filter(best_response__name='straightforward').last().expected_value_cdf"
   ]
  },
  {
   "cell_type": "code",
   "execution_count": null,
   "id": "488facaa-1c0d-4501-ad6f-58bb7a5d951c",
   "metadata": {},
   "outputs": [],
   "source": [
    "!pip install wandb"
   ]
  },
  {
   "cell_type": "code",
   "execution_count": null,
   "id": "50ff4a62-6efa-4c03-97d1-7179df936e79",
   "metadata": {},
   "outputs": [],
   "source": [
    "Evaluation.objects.last().samples.keys()"
   ]
  },
  {
   "cell_type": "code",
   "execution_count": null,
   "id": "2d9147a8-cbcb-46aa-b85c-c58d5ce2a243",
   "metadata": {},
   "outputs": [],
   "source": [
    "Evaluation.objects.filter(\n",
    "                    checkpoint__equilibrium_solver_run__experiment__name='testevolution3',\n",
    "                    checkpoint__equilibrium_solver_run__generation=0,\n",
    "                ).count()"
   ]
  },
  {
   "cell_type": "code",
   "execution_count": null,
   "id": "0d3440a1-8cf7-4b38-ab49-ee35de8e7c46",
   "metadata": {},
   "outputs": [],
   "source": [
    "Evaluation.objects.last()"
   ]
  },
  {
   "cell_type": "code",
   "execution_count": null,
   "id": "621a423d-68c3-4749-ae0c-ad40dcbcd32f",
   "metadata": {},
   "outputs": [],
   "source": [
    "!python /apps/cluster_open_spiel/web/auctions/manage.py ppo --filename bully1_2.json --network_config_file aug11/ppo --experiment_name bully1 --job_name \"baseline\" --overwrite_db True --eval_every 9999 --eval_zero false --total_timesteps 1_000_000 --use_wandb true --dry_run true"
   ]
  },
  {
   "cell_type": "code",
   "execution_count": null,
   "id": "7c37b5a9-0c4e-4e87-a35b-f7b2d7cb93b6",
   "metadata": {},
   "outputs": [],
   "source": [
    "!python /apps/cluster_open_spiel/web/auctions/manage.py ppo --filename bully_2.json --network_config_file aug11/ppo_potential_neg_pricing --experiment_name bully --job_name \"neg_pricing\" --overwrite_db True --eval_every 9999 --eval_zero false --total_timesteps 1_000_000 --use_wandb true --dry_run false"
   ]
  },
  {
   "cell_type": "code",
   "execution_count": null,
   "id": "60627c9c-06c2-48fe-bbbb-b0c56fe5d11e",
   "metadata": {},
   "outputs": [],
   "source": [
    "Evaluation.objects.last()"
   ]
  },
  {
   "cell_type": "code",
   "execution_count": null,
   "id": "a3265472-62f5-4cb0-af5b-ccc46a6b0934",
   "metadata": {},
   "outputs": [],
   "source": [
    "BestResponse.objects.exclude(name__contains='straightforward').last()"
   ]
  },
  {
   "cell_type": "code",
   "execution_count": null,
   "id": "798d4f71-5eaa-45cb-9660-eda9249beb18",
   "metadata": {},
   "outputs": [],
   "source": [
    "potential_functions = ('auction_length', 'neg_auction_length', 'neg_revenue', 'revenue')"
   ]
  },
  {
   "cell_type": "code",
   "execution_count": null,
   "id": "ff87bf34-7b8d-40f6-933d-b96f3cffda3c",
   "metadata": {},
   "outputs": [],
   "source": [
    "from pathlib import Path\n",
    "import glob\n",
    "import yaml\n",
    "ROOT = 'configs/nov23'\n",
    "for f in glob.glob(f'{ROOT}/*.yml'):\n",
    "    config = yaml.safe_load(open(f, 'rb'))\n",
    "    stem = Path(f).stem\n",
    "    for potential in potential_functions:\n",
    "        config['potential_function'] = potential\n",
    "        yaml.dump(config, open(f'{ROOT}/{stem}_{potential}.yml', 'w'))"
   ]
  },
  {
   "cell_type": "code",
   "execution_count": null,
   "id": "bfe2f49c-edc7-4cee-b172-9b21a80ea776",
   "metadata": {},
   "outputs": [],
   "source": [
    "x = Evaluation.objects.last()"
   ]
  },
  {
   "cell_type": "code",
   "execution_count": null,
   "id": "d5e5eb95-ac5b-46c5-9696-b0eca1d5fd37",
   "metadata": {},
   "outputs": [],
   "source": [
    "np.array(x.samples['traps_triggered']).mean()"
   ]
  },
  {
   "cell_type": "code",
   "execution_count": 59,
   "id": "cc7c7d91-0116-433c-a308-d7f085fa3779",
   "metadata": {},
   "outputs": [
    {
     "data": {
      "text/plain": [
       "(975,\n",
       " {'auctions.BREvaluation': 112,\n",
       "  'auctions.Evaluation': 19,\n",
       "  'auctions.BestResponse': 112,\n",
       "  'auctions.EquilibriumSolverRunCheckpoint': 473,\n",
       "  'auctions.EquilibriumSolverRun': 244,\n",
       "  'auctions.Game': 15})"
      ]
     },
     "execution_count": 59,
     "metadata": {},
     "output_type": "execute_result"
    }
   ],
   "source": [
    "Game.objects.filter(name__startswith='dec15').delete()"
   ]
  },
  {
   "cell_type": "code",
   "execution_count": null,
   "id": "6122d2a4-bbb0-4fee-8230-894c116a4174",
   "metadata": {},
   "outputs": [],
   "source": []
  }
 ],
 "metadata": {
  "kernelspec": {
   "display_name": "Django Shell-Plus",
   "language": "python",
   "name": "django_extensions"
  },
  "language_info": {
   "codemirror_mode": {
    "name": "ipython",
    "version": 3
   },
   "file_extension": ".py",
   "mimetype": "text/x-python",
   "name": "python",
   "nbconvert_exporter": "python",
   "pygments_lexer": "ipython3",
   "version": "3.8.2"
  }
 },
 "nbformat": 4,
 "nbformat_minor": 5
}
