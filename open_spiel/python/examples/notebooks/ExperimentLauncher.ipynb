{
 "cells": [
  {
   "cell_type": "code",
   "execution_count": 2,
   "id": "53d1f915-16a6-42e9-b93a-3f44564ef069",
   "metadata": {},
   "outputs": [
    {
     "name": "stdout",
     "output_type": "stream",
     "text": [
      "The autoreload extension is already loaded. To reload it, use:\n",
      "  %reload_ext autoreload\n",
      "%pylab is deprecated, use %matplotlib inline and import the required libraries.\n",
      "Populating the interactive namespace from numpy and matplotlib\n"
     ]
    }
   ],
   "source": [
    "%load_ext autoreload\n",
    "%autoreload 2\n",
    "%pylab inline\n",
    "\n",
    "import sys\n",
    "import glob\n",
    "import pandas as pd\n",
    "import os\n",
    "import seaborn as sns\n",
    "from tqdm import tqdm_notebook as tqdm\n",
    "from statsmodels.distributions.empirical_distribution import ECDF\n",
    "from collections import defaultdict\n",
    "import open_spiel.python.examples.ubc_dispatch as dispatch\n",
    "import os\n",
    "os.environ[\"DJANGO_ALLOW_ASYNC_UNSAFE\"] = \"true\"\n"
   ]
  },
  {
   "cell_type": "code",
   "execution_count": 16,
   "id": "eafabe34-690b-4655-8a41-7ad23360ecc8",
   "metadata": {},
   "outputs": [
    {
     "name": "stdout",
     "output_type": "stream",
     "text": [
      "Submitted batch job 1257\n",
      "Submitted batch job 1258\n",
      "Submitted batch job 1259\n",
      "Submitted batch job 1260\n",
      "Submitted batch job 1261\n",
      "Submitted batch job 1262\n",
      "Submitted batch job 1263\n",
      "Submitted batch job 1264\n",
      "Submitted batch job 1265\n",
      "Submitted batch job 1266\n",
      "Submitted batch job 1267\n",
      "Dispatched 11 experiments!\n",
      "Submitted batch job 1268\n",
      "Submitted batch job 1269\n",
      "Submitted batch job 1270\n",
      "Submitted batch job 1271\n",
      "Submitted batch job 1272\n",
      "Submitted batch job 1273\n",
      "Submitted batch job 1274\n",
      "Submitted batch job 1275\n",
      "Submitted batch job 1276\n",
      "Submitted batch job 1277\n",
      "Submitted batch job 1278\n",
      "Dispatched 11 experiments!\n"
     ]
    }
   ],
   "source": [
    "overrides = f'--br_portfolio_path feb22 --eval_every 1_000_000 --num_training_episodes 10_000_000 --br_overrides \"--num_training_episodes 1_000_000\"'\n",
    "dispatch.dispatch_experiments('feb22', base_job_name='infocompare', game_name='large_game_2', overrides = overrides, n_seeds=10)\n",
    "dispatch.dispatch_experiments('feb22', base_job_name='infocompare', game_name='large_game_2_hide', overrides = overrides, n_seeds=10)"
   ]
  },
  {
   "cell_type": "code",
   "execution_count": 19,
   "id": "9d200227-7a69-417a-be93-58c262f123b9",
   "metadata": {},
   "outputs": [],
   "source": [
    "# !squeue --format=\"%.18i %.65j %.2t %.10M %.6D %R\" | grep \"_mlp  R\" | awk '{print $1}' | xargs scancel"
   ]
  },
  {
   "cell_type": "code",
   "execution_count": 86,
   "id": "1517f441-4c4c-47fe-9dcb-2ae7cebca8c2",
   "metadata": {},
   "outputs": [
    {
     "name": "stdout",
     "output_type": "stream",
     "text": [
      "             JOBID                                                              NAME ST       TIME  NODES NODELIST(REASON)\n",
      "              2322                       br_0_minitest_tiny-feb2lstm-100_1_feb2_lstm  R       1:42      1 ip-10-255-7-11\n",
      "              2323               eval_tiny-feb2lstm-100_1_minitest_straightforward_0  R       1:42      1 ip-10-255-7-12\n",
      "              2324                        br_1_minitest_tiny-feb2lstm-100_1_feb2_mlp  R       1:39      1 ip-10-255-7-16\n",
      "              2326               eval_tiny-feb2lstm-100_1_minitest_straightforward_1  R       1:39      1 ip-10-255-7-25\n",
      "              2328                      br_0_minitest_tiny-feb2lstm-100_500_feb2_mlp  R       1:39      1 ip-10-255-7-28\n",
      "              2331                      br_1_minitest_tiny-feb2lstm-100_500_feb2_mlp  R       1:39      1 ip-10-255-7-32\n",
      "              2332                     br_1_minitest_tiny-feb2lstm-100_500_feb2_lstm  R       1:39      1 ip-10-255-7-33\n",
      "              2340            eval_tiny-feb2lstm-100_1000_minitest_straightforward_1  R       1:36      1 ip-10-255-7-95\n"
     ]
    }
   ],
   "source": [
    "!squeue --format=\"%.18i %.65j %.2t %.10M %.6D %R\""
   ]
  },
  {
   "cell_type": "code",
   "execution_count": 79,
   "id": "a8ee533f-357a-4bbc-956e-1cf136ef9266",
   "metadata": {},
   "outputs": [],
   "source": [
    "# !scancel 5306 5307"
   ]
  },
  {
   "cell_type": "code",
   "execution_count": 83,
   "id": "c26b508d-9ee0-4878-9aa1-68c611ab651a",
   "metadata": {},
   "outputs": [],
   "source": [
    "!scancel -u ubuntu"
   ]
  },
  {
   "cell_type": "code",
   "execution_count": 89,
   "id": "3aeeeeb6-6c6f-4e37-9566-3eb8d73d97d5",
   "metadata": {},
   "outputs": [
    {
     "name": "stdout",
     "output_type": "stream",
     "text": [
      "Submitted batch job 2354\n",
      "Submitted batch job 2355\n"
     ]
    }
   ],
   "source": [
    "!rm -rf /shared/outputs/minitest/\n",
    "try:\n",
    "    Experiment.objects.get(name='minitest').delete()\n",
    "except:\n",
    "    pass\n",
    "dispatch.dispatch_experiments('feb2', base_job_name='minitest', game_name='tiny', overrides = '--br_portfolio_path feb2 --eval_every 500 --num_training_episodes 1_000 --br_overrides \"--num_training_episodes 1_000\" --eval_overrides \"--num_samples 100\"')"
   ]
  },
  {
   "cell_type": "code",
   "execution_count": null,
   "id": "f3849fe3-b50d-4875-9290-9f5eaa39a7c7",
   "metadata": {},
   "outputs": [],
   "source": []
  }
 ],
 "metadata": {
  "kernelspec": {
   "display_name": "Django Shell-Plus",
   "language": "python",
   "name": "django_extensions"
  },
  "language_info": {
   "codemirror_mode": {
    "name": "ipython",
    "version": 3
   },
   "file_extension": ".py",
   "mimetype": "text/x-python",
   "name": "python",
   "nbconvert_exporter": "python",
   "pygments_lexer": "ipython3",
   "version": "3.8.2"
  }
 },
 "nbformat": 4,
 "nbformat_minor": 5
}
