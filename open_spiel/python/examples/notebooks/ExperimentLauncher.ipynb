{
 "cells": [
  {
   "cell_type": "code",
   "execution_count": 167,
   "id": "53d1f915-16a6-42e9-b93a-3f44564ef069",
   "metadata": {},
   "outputs": [
    {
     "name": "stdout",
     "output_type": "stream",
     "text": [
      "The autoreload extension is already loaded. To reload it, use:\n",
      "  %reload_ext autoreload\n",
      "%pylab is deprecated, use %matplotlib inline and import the required libraries.\n",
      "Populating the interactive namespace from numpy and matplotlib\n"
     ]
    }
   ],
   "source": [
    "%load_ext autoreload\n",
    "%autoreload 2\n",
    "%pylab inline\n",
    "\n",
    "import sys\n",
    "import glob\n",
    "import pandas as pd\n",
    "import os\n",
    "import seaborn as sns\n",
    "from tqdm import tqdm_notebook as tqdm\n",
    "from statsmodels.distributions.empirical_distribution import ECDF\n",
    "from collections import defaultdict\n",
    "import open_spiel.python.examples.ubc_dispatch as dispatch\n",
    "import os\n",
    "os.environ[\"DJANGO_ALLOW_ASYNC_UNSAFE\"] = \"true\"\n"
   ]
  },
  {
   "cell_type": "code",
   "execution_count": 168,
   "id": "d92ea616-82bb-4726-8f0d-1f7cda6ed24c",
   "metadata": {},
   "outputs": [
    {
     "name": "stdout",
     "output_type": "stream",
     "text": [
      "Submitted batch job 13834\n",
      "Submitted batch job 13835\n",
      "Submitted batch job 13836\n",
      "Submitted batch job 13837\n",
      "Submitted batch job 13838\n",
      "Submitted batch job 13839\n",
      "Submitted batch job 13840\n",
      "Submitted batch job 13841\n",
      "Submitted batch job 13842\n",
      "Submitted batch job 13843\n",
      "Submitted batch job 13844\n",
      "Submitted batch job 13845\n",
      "Submitted batch job 13846\n",
      "Submitted batch job 13847\n",
      "Submitted batch job 13848\n",
      "Submitted batch job 13849\n",
      "Submitted batch job 13850\n",
      "Submitted batch job 13851\n",
      "Submitted batch job 13852\n",
      "Submitted batch job 13853\n"
     ]
    }
   ],
   "source": [
    "CONFIG = 'mar17'\n",
    "GAME_NAME = 'large_game_2'\n",
    "N_SEEDS = 5\n",
    "overrides = f'--br_portfolio_path mar17 --eval_every 1_000_000 --num_training_episodes 10_000_000 --br_overrides \"--num_training_episodes 1_000_000\"'\n",
    "\n",
    "# Base\n",
    "dispatch.dispatch_experiments(CONFIG, base_job_name='mar23', game_name=f'{GAME_NAME}', overrides = overrides, n_seeds=N_SEEDS)\n",
    "\n",
    "# Hidden demands\n",
    "# dispatch.dispatch_experiments(CONFIG, base_job_name='mar19', game_name=f'{GAME_NAME}_hide', overrides = overrides, n_seeds=N_SEEDS)\n",
    "\n",
    "# Reserve prices\n",
    "# TODO: Holding off for now b/c rounds issue\n",
    "# dispatch.dispatch_experiments(CONFIG, base_job_name='mar19', game_name=f'{GAME_NAME}_low_reserve', overrides = overrides, n_seeds=N_SEEDS)\n",
    "# dispatch.dispatch_experiments(CONFIG, base_job_name='mar19', game_name=f'{GAME_NAME}_same_reserve', overrides = overrides, n_seeds=N_SEEDS)\n",
    "\n",
    "# Activity\n",
    "# dispatch.dispatch_experiments(CONFIG, base_job_name='mar19', game_name=f'{GAME_NAME}_no_activity', overrides = overrides, n_seeds=N_SEEDS)\n",
    "# Undersell\n",
    "# dispatch.dispatch_experiments(CONFIG, base_job_name='mar19', game_name=f'{GAME_NAME}_no_undersell', overrides = overrides, n_seeds=N_SEEDS)\n",
    "\n",
    "# Initial pricing experiment, on the base game\n",
    "dispatch.dispatch_experiments(CONFIG, base_job_name='mar23', game_name=f'{GAME_NAME}_pricing05', overrides = overrides, n_seeds=N_SEEDS)"
   ]
  },
  {
   "cell_type": "code",
   "execution_count": 169,
   "id": "c6a00156-d311-45a7-bf9b-cf374c46b755",
   "metadata": {},
   "outputs": [
    {
     "name": "stdout",
     "output_type": "stream",
     "text": [
      "Submitted batch job 13854\n",
      "Submitted batch job 13855\n",
      "Submitted batch job 13856\n",
      "Submitted batch job 13857\n",
      "Submitted batch job 13858\n",
      "Submitted batch job 13859\n",
      "Submitted batch job 13860\n",
      "Submitted batch job 13861\n",
      "Submitted batch job 13862\n",
      "Submitted batch job 13863\n",
      "Submitted batch job 13864\n",
      "Submitted batch job 13865\n",
      "Submitted batch job 13866\n",
      "Submitted batch job 13867\n",
      "Submitted batch job 13868\n",
      "Submitted batch job 13869\n",
      "Submitted batch job 13870\n",
      "Submitted batch job 13871\n",
      "Submitted batch job 13872\n",
      "Submitted batch job 13873\n",
      "Submitted batch job 13874\n",
      "Submitted batch job 13875\n",
      "Submitted batch job 13876\n",
      "Submitted batch job 13877\n",
      "Submitted batch job 13878\n",
      "Submitted batch job 13879\n",
      "Submitted batch job 13880\n",
      "Submitted batch job 13881\n",
      "Submitted batch job 13882\n",
      "Submitted batch job 13883\n"
     ]
    }
   ],
   "source": [
    "CONFIG = 'mar17'\n",
    "GAME_NAME = 'large_game_3b'\n",
    "N_SEEDS = 5\n",
    "overrides = f'--br_portfolio_path mar17 --eval_every 1_000_000 --num_training_episodes 10_000_000 --br_overrides \"--num_training_episodes 1_000_000\"'\n",
    "\n",
    "# Base\n",
    "dispatch.dispatch_experiments(CONFIG, base_job_name='mar22_3', game_name=f'{GAME_NAME}', overrides = overrides, n_seeds=N_SEEDS)\n",
    "\n",
    "# Hidden demands\n",
    "dispatch.dispatch_experiments(CONFIG, base_job_name='mar22_3', game_name=f'{GAME_NAME}_hide', overrides = overrides, n_seeds=N_SEEDS)\n",
    "\n",
    "# Reserve prices\n",
    "# TODO: Holding off for now b/c rounds issue\n",
    "# dispatch.dispatch_experiments(CONFIG, base_job_name='mar19', game_name=f'{GAME_NAME}_low_reserve', overrides = overrides, n_seeds=N_SEEDS)\n",
    "# dispatch.dispatch_experiments(CONFIG, base_job_name='mar19', game_name=f'{GAME_NAME}_same_reserve', overrides = overrides, n_seeds=N_SEEDS)\n",
    "\n",
    "# Activity\n",
    "# dispatch.dispatch_experiments(CONFIG, base_job_name='mar19', game_name=f'{GAME_NAME}_no_activity', overrides = overrides, n_seeds=N_SEEDS)\n",
    "# Undersell\n",
    "# dispatch.dispatch_experiments(CONFIG, base_job_name='mar19', game_name=f'{GAME_NAME}_no_undersell', overrides = overrides, n_seeds=N_SEEDS)\n",
    "\n",
    "# Initial pricing experiment, on the base game\n",
    "dispatch.dispatch_experiments(CONFIG, base_job_name='mar22_3', game_name=f'{GAME_NAME}_pricing05', overrides = overrides, n_seeds=N_SEEDS)"
   ]
  },
  {
   "cell_type": "code",
   "execution_count": 115,
   "id": "1242532a-9a66-4e43-a0e9-6b96639dbb3b",
   "metadata": {},
   "outputs": [
    {
     "name": "stdout",
     "output_type": "stream",
     "text": [
      "Submitted batch job 12737\n"
     ]
    }
   ],
   "source": [
    "pks = list(map(str, EquilibriumSolverRunCheckpoint.objects.filter(equilibrium_solver_run__experiment__name='infocompare4', equilibrium_solver_run__game__name='large_game_2.json', t=1e7, equilibrium_solver_run__name__contains='mlp').values_list('pk', flat=True)))\n",
    "CONFIG = 'feb22'\n",
    "GAME_NAME = 'large_game_2'\n",
    "N_SEEDS = 1\n",
    "overrides = f'--br_portfolio_path feb22 --eval_every 1_000_000 --num_training_episodes 10_000_000 --br_overrides \"--num_training_episodes 1_000_000\" --rnr_player 0 --rnr_checkpoints {\" \".join(pks)}'\n",
    "\n",
    "dispatch.dispatch_experiments(CONFIG, base_job_name='rnrtest', game_name=GAME_NAME, overrides = overrides, n_seeds=N_SEEDS)\n",
    "# # dispatch.dispatch_experiments('feb22', base_job_name='infocompare3', game_name='large_game_2_hide', overrides = overrides, n_seeds=5)\n",
    "\n",
    "# dispatch.dispatch_experiments('mar14', base_job_name='mar15_brier_lr', game_name='large_game_2', overrides = overrides, n_seeds=1)\n",
    "# dispatch.dispatch_experiments('mar10', base_job_name='switch_and_brier3', game_name='large_game_2_switch10', overrides = overrides, n_seeds=1)\n",
    "# dispatch.dispatch_experiments('feb22', base_job_name='switch_and_brier3_old_config', game_name='large_game_2_switch10', overrides = overrides, n_seeds=1)\n",
    "\n",
    "# dispatch.dispatch_experiments('feb22', base_job_name='mar14_very_large_game_2', game_name='very_large_game_2', overrides = overrides, n_seeds=1)\n",
    "# dispatch.dispatch_experiments('feb22', base_job_name='mar14_large_game_3', game_name='large_game_3', overrides = overrides, n_seeds=5)\n",
    "# dispatch.dispatch_experiments('feb22', base_job_name='mar14_large_game_3', game_name='large_game_3_hide', overrides = overrides, n_seeds=5)\n",
    "# dispatch.dispatch_experiments('feb22', base_job_name='tiny_game_Test', game_name='tiny', overrides = overrides, n_seeds=1)"
   ]
  },
  {
   "cell_type": "code",
   "execution_count": 135,
   "id": "9d200227-7a69-417a-be93-58c262f123b9",
   "metadata": {},
   "outputs": [],
   "source": [
    "# !squeue --format=\"%.18i %.65j %.2t %.10M %.6D %R\" | grep \"rnrtest\" | awk '{print $1}' | xargs scancel"
   ]
  },
  {
   "cell_type": "code",
   "execution_count": 176,
   "id": "1517f441-4c4c-47fe-9dcb-2ae7cebca8c2",
   "metadata": {},
   "outputs": [
    {
     "name": "stdout",
     "output_type": "stream",
     "text": [
      "             JOBID                                                              NAME ST       TIME  NODES NODELIST(REASON)\n"
     ]
    }
   ],
   "source": [
    "!squeue --format=\"%.18i %.65j %.2t %.10M %.6D %R\""
   ]
  },
  {
   "cell_type": "code",
   "execution_count": null,
   "id": "a8ee533f-357a-4bbc-956e-1cf136ef9266",
   "metadata": {},
   "outputs": [],
   "source": []
  },
  {
   "cell_type": "code",
   "execution_count": 175,
   "id": "c26b508d-9ee0-4878-9aa1-68c611ab651a",
   "metadata": {},
   "outputs": [],
   "source": [
    "!scancel -u ubuntu"
   ]
  },
  {
   "cell_type": "code",
   "execution_count": null,
   "id": "3aeeeeb6-6c6f-4e37-9566-3eb8d73d97d5",
   "metadata": {},
   "outputs": [],
   "source": [
    "!rm -rf /shared/outputs/minitest/\n",
    "try:\n",
    "    Experiment.objects.get(name='minitest').delete()\n",
    "except:\n",
    "    pass\n",
    "dispatch.dispatch_experiments('feb2', base_job_name='minitest', game_name='tiny', overrides = '--br_portfolio_path feb2 --eval_every 500 --num_training_episodes 1_000 --br_overrides \"--num_training_episodes 1_000\" --eval_overrides \"--num_samples 100\"')"
   ]
  },
  {
   "cell_type": "code",
   "execution_count": null,
   "id": "d4ca4c72-ce03-4d1a-8e9d-1abd642e8407",
   "metadata": {},
   "outputs": [],
   "source": [
    "BestResponse.objects.last()"
   ]
  },
  {
   "cell_type": "code",
   "execution_count": null,
   "id": "da1b3451-a927-4467-a90d-077f2de61767",
   "metadata": {},
   "outputs": [],
   "source": [
    "Experiment.objects.all()"
   ]
  },
  {
   "cell_type": "code",
   "execution_count": 37,
   "id": "0547418d-7d14-404e-ad7f-892180cd6e50",
   "metadata": {},
   "outputs": [
    {
     "name": "stdout",
     "output_type": "stream",
     "text": [
      "Slurm accounting storage is disabled\n"
     ]
    }
   ],
   "source": [
    "!sacct --starttime 2022-03-11 --format=User,JobID,Jobname,partition,state,time,start,end,elapsed,MaxRss,MaxVMSize,nnodes,ncpus,nodelist"
   ]
  },
  {
   "cell_type": "code",
   "execution_count": 50,
   "id": "7bc11eb7-da86-46db-9a6b-fe5ac595f1d6",
   "metadata": {},
   "outputs": [
    {
     "data": {
      "text/plain": [
       "(t\n",
       " 1          215.790510\n",
       " 1000000     17.236075\n",
       " 2000000     14.384932\n",
       " 3000000     19.374879\n",
       " 4000000     15.771433\n",
       " 5000000     13.261669\n",
       " 6000000      9.768694\n",
       " Name: ApproxNashConv, dtype: float64,\n",
       " <EquilibriumSolverRunCheckpoint: large_game_2_switch-feb22mlp-100 Iteration 6000000>,\n",
       " 9.768694201495364)"
      ]
     },
     "execution_count": 50,
     "metadata": {},
     "output_type": "execute_result"
    }
   ],
   "source": [
    "from open_spiel.python.examples.ubc_plotting_utils import parse_run\n",
    "from auctions.webutils import *\n",
    "\n",
    "def find_best_checkpoint(run, max_t=None):\n",
    "    ev_df = parse_run(run, max_t)\n",
    "    best_t = ev_df.groupby('t')['ApproxNashConv'].first().idxmin()\n",
    "    nash_conv_by_t = ev_df.groupby('t')['ApproxNashConv'].first()\n",
    "    best_checkpoint = get_checkpoint(run, t=best_t)\n",
    "    return nash_conv_by_t, best_checkpoint, nash_conv_by_t.min()\n",
    "\n",
    "\n",
    "run = EquilibriumSolverRun.objects.last()\n",
    "find_best_checkpoint(run)"
   ]
  },
  {
   "cell_type": "code",
   "execution_count": 80,
   "id": "e9a3abf2-1dca-40a7-8c86-f558ac16c5c4",
   "metadata": {},
   "outputs": [
    {
     "ename": "DoesNotExist",
     "evalue": "Experiment matching query does not exist.",
     "output_type": "error",
     "traceback": [
      "\u001b[0;31m---------------------------------------------------------------------------\u001b[0m",
      "\u001b[0;31mDoesNotExist\u001b[0m                              Traceback (most recent call last)",
      "Input \u001b[0;32mIn [80]\u001b[0m, in \u001b[0;36m<module>\u001b[0;34m\u001b[0m\n\u001b[0;32m----> 1\u001b[0m \u001b[43mExperiment\u001b[49m\u001b[38;5;241;43m.\u001b[39;49m\u001b[43mobjects\u001b[49m\u001b[38;5;241;43m.\u001b[39;49m\u001b[43mget\u001b[49m\u001b[43m(\u001b[49m\u001b[43mname\u001b[49m\u001b[38;5;241;43m=\u001b[39;49m\u001b[38;5;124;43m'\u001b[39;49m\u001b[38;5;124;43mlarge_game_2_no_activity.json\u001b[39;49m\u001b[38;5;124;43m'\u001b[39;49m\u001b[43m)\u001b[49m\u001b[38;5;241m.\u001b[39mdelete()\n",
      "File \u001b[0;32m~/.pyenv/versions/3.8.2/envs/venv/lib/python3.8/site-packages/django/db/models/manager.py:85\u001b[0m, in \u001b[0;36mBaseManager._get_queryset_methods.<locals>.create_method.<locals>.manager_method\u001b[0;34m(self, *args, **kwargs)\u001b[0m\n\u001b[1;32m     84\u001b[0m \u001b[38;5;28;01mdef\u001b[39;00m \u001b[38;5;21mmanager_method\u001b[39m(\u001b[38;5;28mself\u001b[39m, \u001b[38;5;241m*\u001b[39margs, \u001b[38;5;241m*\u001b[39m\u001b[38;5;241m*\u001b[39mkwargs):\n\u001b[0;32m---> 85\u001b[0m     \u001b[38;5;28;01mreturn\u001b[39;00m \u001b[38;5;28;43mgetattr\u001b[39;49m\u001b[43m(\u001b[49m\u001b[38;5;28;43mself\u001b[39;49m\u001b[38;5;241;43m.\u001b[39;49m\u001b[43mget_queryset\u001b[49m\u001b[43m(\u001b[49m\u001b[43m)\u001b[49m\u001b[43m,\u001b[49m\u001b[43m \u001b[49m\u001b[43mname\u001b[49m\u001b[43m)\u001b[49m\u001b[43m(\u001b[49m\u001b[38;5;241;43m*\u001b[39;49m\u001b[43margs\u001b[49m\u001b[43m,\u001b[49m\u001b[43m \u001b[49m\u001b[38;5;241;43m*\u001b[39;49m\u001b[38;5;241;43m*\u001b[39;49m\u001b[43mkwargs\u001b[49m\u001b[43m)\u001b[49m\n",
      "File \u001b[0;32m~/.pyenv/versions/3.8.2/envs/venv/lib/python3.8/site-packages/django/db/models/query.py:439\u001b[0m, in \u001b[0;36mQuerySet.get\u001b[0;34m(self, *args, **kwargs)\u001b[0m\n\u001b[1;32m    437\u001b[0m     \u001b[38;5;28;01mreturn\u001b[39;00m clone\u001b[38;5;241m.\u001b[39m_result_cache[\u001b[38;5;241m0\u001b[39m]\n\u001b[1;32m    438\u001b[0m \u001b[38;5;28;01mif\u001b[39;00m \u001b[38;5;129;01mnot\u001b[39;00m num:\n\u001b[0;32m--> 439\u001b[0m     \u001b[38;5;28;01mraise\u001b[39;00m \u001b[38;5;28mself\u001b[39m\u001b[38;5;241m.\u001b[39mmodel\u001b[38;5;241m.\u001b[39mDoesNotExist(\n\u001b[1;32m    440\u001b[0m         \u001b[38;5;124m\"\u001b[39m\u001b[38;5;132;01m%s\u001b[39;00m\u001b[38;5;124m matching query does not exist.\u001b[39m\u001b[38;5;124m\"\u001b[39m \u001b[38;5;241m%\u001b[39m\n\u001b[1;32m    441\u001b[0m         \u001b[38;5;28mself\u001b[39m\u001b[38;5;241m.\u001b[39mmodel\u001b[38;5;241m.\u001b[39m_meta\u001b[38;5;241m.\u001b[39mobject_name\n\u001b[1;32m    442\u001b[0m     )\n\u001b[1;32m    443\u001b[0m \u001b[38;5;28;01mraise\u001b[39;00m \u001b[38;5;28mself\u001b[39m\u001b[38;5;241m.\u001b[39mmodel\u001b[38;5;241m.\u001b[39mMultipleObjectsReturned(\n\u001b[1;32m    444\u001b[0m     \u001b[38;5;124m'\u001b[39m\u001b[38;5;124mget() returned more than one \u001b[39m\u001b[38;5;132;01m%s\u001b[39;00m\u001b[38;5;124m -- it returned \u001b[39m\u001b[38;5;132;01m%s\u001b[39;00m\u001b[38;5;124m!\u001b[39m\u001b[38;5;124m'\u001b[39m \u001b[38;5;241m%\u001b[39m (\n\u001b[1;32m    445\u001b[0m         \u001b[38;5;28mself\u001b[39m\u001b[38;5;241m.\u001b[39mmodel\u001b[38;5;241m.\u001b[39m_meta\u001b[38;5;241m.\u001b[39mobject_name,\n\u001b[1;32m    446\u001b[0m         num \u001b[38;5;28;01mif\u001b[39;00m \u001b[38;5;129;01mnot\u001b[39;00m limit \u001b[38;5;129;01mor\u001b[39;00m num \u001b[38;5;241m<\u001b[39m limit \u001b[38;5;28;01melse\u001b[39;00m \u001b[38;5;124m'\u001b[39m\u001b[38;5;124mmore than \u001b[39m\u001b[38;5;132;01m%s\u001b[39;00m\u001b[38;5;124m'\u001b[39m \u001b[38;5;241m%\u001b[39m (limit \u001b[38;5;241m-\u001b[39m \u001b[38;5;241m1\u001b[39m),\n\u001b[1;32m    447\u001b[0m     )\n\u001b[1;32m    448\u001b[0m )\n",
      "\u001b[0;31mDoesNotExist\u001b[0m: Experiment matching query does not exist."
     ]
    }
   ],
   "source": [
    "Experiment.objects.get(name='large_game_2_no_activity.json').delete()"
   ]
  },
  {
   "cell_type": "code",
   "execution_count": 125,
   "id": "f5184d7b-9f29-48aa-ae93-8920db084b8a",
   "metadata": {},
   "outputs": [
    {
     "ename": "DoesNotExist",
     "evalue": "Game matching query does not exist.",
     "output_type": "error",
     "traceback": [
      "\u001b[0;31m---------------------------------------------------------------------------\u001b[0m",
      "\u001b[0;31mDoesNotExist\u001b[0m                              Traceback (most recent call last)",
      "Input \u001b[0;32mIn [125]\u001b[0m, in \u001b[0;36m<module>\u001b[0;34m\u001b[0m\n\u001b[0;32m----> 1\u001b[0m \u001b[43mGame\u001b[49m\u001b[38;5;241;43m.\u001b[39;49m\u001b[43mobjects\u001b[49m\u001b[38;5;241;43m.\u001b[39;49m\u001b[43mget\u001b[49m\u001b[43m(\u001b[49m\u001b[43mname\u001b[49m\u001b[38;5;241;43m=\u001b[39;49m\u001b[38;5;124;43m'\u001b[39;49m\u001b[38;5;124;43mlarge_game_2_pricing_extreme.json\u001b[39;49m\u001b[38;5;124;43m'\u001b[39;49m\u001b[43m)\u001b[49m\u001b[38;5;241m.\u001b[39mdelete()\n",
      "File \u001b[0;32m~/.pyenv/versions/3.8.2/envs/venv/lib/python3.8/site-packages/django/db/models/manager.py:85\u001b[0m, in \u001b[0;36mBaseManager._get_queryset_methods.<locals>.create_method.<locals>.manager_method\u001b[0;34m(self, *args, **kwargs)\u001b[0m\n\u001b[1;32m     84\u001b[0m \u001b[38;5;28;01mdef\u001b[39;00m \u001b[38;5;21mmanager_method\u001b[39m(\u001b[38;5;28mself\u001b[39m, \u001b[38;5;241m*\u001b[39margs, \u001b[38;5;241m*\u001b[39m\u001b[38;5;241m*\u001b[39mkwargs):\n\u001b[0;32m---> 85\u001b[0m     \u001b[38;5;28;01mreturn\u001b[39;00m \u001b[38;5;28;43mgetattr\u001b[39;49m\u001b[43m(\u001b[49m\u001b[38;5;28;43mself\u001b[39;49m\u001b[38;5;241;43m.\u001b[39;49m\u001b[43mget_queryset\u001b[49m\u001b[43m(\u001b[49m\u001b[43m)\u001b[49m\u001b[43m,\u001b[49m\u001b[43m \u001b[49m\u001b[43mname\u001b[49m\u001b[43m)\u001b[49m\u001b[43m(\u001b[49m\u001b[38;5;241;43m*\u001b[39;49m\u001b[43margs\u001b[49m\u001b[43m,\u001b[49m\u001b[43m \u001b[49m\u001b[38;5;241;43m*\u001b[39;49m\u001b[38;5;241;43m*\u001b[39;49m\u001b[43mkwargs\u001b[49m\u001b[43m)\u001b[49m\n",
      "File \u001b[0;32m~/.pyenv/versions/3.8.2/envs/venv/lib/python3.8/site-packages/django/db/models/query.py:439\u001b[0m, in \u001b[0;36mQuerySet.get\u001b[0;34m(self, *args, **kwargs)\u001b[0m\n\u001b[1;32m    437\u001b[0m     \u001b[38;5;28;01mreturn\u001b[39;00m clone\u001b[38;5;241m.\u001b[39m_result_cache[\u001b[38;5;241m0\u001b[39m]\n\u001b[1;32m    438\u001b[0m \u001b[38;5;28;01mif\u001b[39;00m \u001b[38;5;129;01mnot\u001b[39;00m num:\n\u001b[0;32m--> 439\u001b[0m     \u001b[38;5;28;01mraise\u001b[39;00m \u001b[38;5;28mself\u001b[39m\u001b[38;5;241m.\u001b[39mmodel\u001b[38;5;241m.\u001b[39mDoesNotExist(\n\u001b[1;32m    440\u001b[0m         \u001b[38;5;124m\"\u001b[39m\u001b[38;5;132;01m%s\u001b[39;00m\u001b[38;5;124m matching query does not exist.\u001b[39m\u001b[38;5;124m\"\u001b[39m \u001b[38;5;241m%\u001b[39m\n\u001b[1;32m    441\u001b[0m         \u001b[38;5;28mself\u001b[39m\u001b[38;5;241m.\u001b[39mmodel\u001b[38;5;241m.\u001b[39m_meta\u001b[38;5;241m.\u001b[39mobject_name\n\u001b[1;32m    442\u001b[0m     )\n\u001b[1;32m    443\u001b[0m \u001b[38;5;28;01mraise\u001b[39;00m \u001b[38;5;28mself\u001b[39m\u001b[38;5;241m.\u001b[39mmodel\u001b[38;5;241m.\u001b[39mMultipleObjectsReturned(\n\u001b[1;32m    444\u001b[0m     \u001b[38;5;124m'\u001b[39m\u001b[38;5;124mget() returned more than one \u001b[39m\u001b[38;5;132;01m%s\u001b[39;00m\u001b[38;5;124m -- it returned \u001b[39m\u001b[38;5;132;01m%s\u001b[39;00m\u001b[38;5;124m!\u001b[39m\u001b[38;5;124m'\u001b[39m \u001b[38;5;241m%\u001b[39m (\n\u001b[1;32m    445\u001b[0m         \u001b[38;5;28mself\u001b[39m\u001b[38;5;241m.\u001b[39mmodel\u001b[38;5;241m.\u001b[39m_meta\u001b[38;5;241m.\u001b[39mobject_name,\n\u001b[1;32m    446\u001b[0m         num \u001b[38;5;28;01mif\u001b[39;00m \u001b[38;5;129;01mnot\u001b[39;00m limit \u001b[38;5;129;01mor\u001b[39;00m num \u001b[38;5;241m<\u001b[39m limit \u001b[38;5;28;01melse\u001b[39;00m \u001b[38;5;124m'\u001b[39m\u001b[38;5;124mmore than \u001b[39m\u001b[38;5;132;01m%s\u001b[39;00m\u001b[38;5;124m'\u001b[39m \u001b[38;5;241m%\u001b[39m (limit \u001b[38;5;241m-\u001b[39m \u001b[38;5;241m1\u001b[39m),\n\u001b[1;32m    447\u001b[0m     )\n\u001b[1;32m    448\u001b[0m )\n",
      "\u001b[0;31mDoesNotExist\u001b[0m: Game matching query does not exist."
     ]
    }
   ],
   "source": [
    "Game.objects.get(name='large_game_2_pricing_extreme.json').delete()"
   ]
  },
  {
   "cell_type": "code",
   "execution_count": 137,
   "id": "e706f461-6a88-4392-bfe4-6187661e1533",
   "metadata": {},
   "outputs": [
    {
     "name": "stderr",
     "output_type": "stream",
     "text": [
      "[autoreload of open_spiel.python.examples.ubc_br failed: Traceback (most recent call last):\n",
      "  File \"/home/ubuntu/.pyenv/versions/3.8.2/envs/venv/lib/python3.8/site-packages/IPython/extensions/autoreload.py\", line 257, in check\n",
      "    superreload(m, reload, self.old_objects)\n",
      "  File \"/home/ubuntu/.pyenv/versions/3.8.2/envs/venv/lib/python3.8/site-packages/IPython/extensions/autoreload.py\", line 455, in superreload\n",
      "    module = reload(module)\n",
      "  File \"/home/ubuntu/.pyenv/versions/3.8.2/lib/python3.8/importlib/__init__.py\", line 169, in reload\n",
      "    _bootstrap._exec(spec, module)\n",
      "  File \"<frozen importlib._bootstrap>\", line 604, in _exec\n",
      "  File \"<frozen importlib._bootstrap_external>\", line 783, in exec_module\n",
      "  File \"<frozen importlib._bootstrap>\", line 219, in _call_with_frames_removed\n",
      "  File \"/apps/open_spiel/open_spiel/python/examples/ubc_br.py\", line 21, in <module>\n",
      "    from open_spiel.python.examples.ubc_utils import check_on_q_values, make_dqn_kwargs_from_config, fix_seeds, pretty_time, game_spec, make_normalizer_for_game\n",
      "ImportError: cannot import name 'make_normalizer_for_game' from 'open_spiel.python.examples.ubc_utils' (/apps/open_spiel/open_spiel/python/examples/ubc_utils.py)\n",
      "]\n"
     ]
    },
    {
     "name": "stdout",
     "output_type": "stream",
     "text": [
      "[2022-03-23 01:03:36,952] {ubc_utils.py:112} INFO - Setting numpy and torch seed to 109\n",
      "[2022-03-23 01:03:36,953] {ubc_utils.py:382} INFO - Reading config from /apps/open_spiel/notebooks/configs/mar17/lstm.yml\n",
      "[2022-03-23 01:03:36,961] {nfsp.py:132} INFO - Network params: {'add_explore_transitions': False, 'anticipatory_param': 0.1, 'batch_size': 1024, 'epsilon_end': 0.05, 'epsilon_start': 0.9, 'learn_every': 16, 'loss_str': 'mse', 'sl_loss_str': 'cross_entropy', 'min_buffer_size_to_learn': 1000, 'optimizer_str': 'sgd', 'replay_buffer_capacity': 50000, 'reservoir_buffer_capacity': 2000000, 'rl_learning_rate': 0.01, 'rl_model': 'recurrent', 'rl_model_args': {'hidden_size': 128, 'num_layers': 2, 'rnn_model': 'lstm'}, 'sl_learning_rate': 0.01, 'sl_model': 'recurrent', 'sl_model_args': {'hidden_size': 128, 'num_layers': 2, 'rnn_model': 'lstm'}, 'update_target_network_every': 1000, 'double_dqn': True, 'device': 'cuda', 'num_training_episodes': 10000000}\n",
      "[2022-03-23 01:03:36,961] {nfsp.py:133} INFO - Command line commands {'verbosity': 1, 'settings': None, 'pythonpath': None, 'traceback': False, 'no_color': False, 'force_color': False, 'skip_checks': False, 'num_training_episodes': 10000000, 'iterate_br': 1, 'seed': 109, 'network_config_file': 'mar17/lstm', 'compute_nash_conv': False, 'device': <function default_device at 0x7f9c2a4405e0>, 'overwrite_db': 1, 'dry_run': 0, 'output_dir': 'output', 'warn_on_overwrite': False, 'experiment_name': 'lstmtest', 'job_name': 'lstm_for_greg', 'filename': 'rounds.json', 'game_name': 'clock_auction', 'report_freq': 10000, 'eval_every': 10000, 'eval_every_early': None, 'eval_exactly': [], 'eval_zero': 1, 'dispatch_br': 0, 'br_portfolio_path': 'feb22', 'br_overrides': '--num_training_episodes 1_000_000', 'eval_overrides': '', 'rnr_player': None, 'rnr_exploit_prob': 0.5, 'rnr_checkpoints': [], 'replay_buffer_capacity': None, 'reservoir_buffer_capacity': None, 'batch_size': None, 'rl_learning_rate': None, 'sl_learning_rate': None, 'min_buffer_size_to_learn': None, 'learn_every': None, 'optimizer_str': None, 'epsilon_start': None, 'epsilon_end': None}\n",
      "Reading from env variable CLOCK_AUCTION_CONFIG_DIR. If it is not set, there will be trouble.\n",
      "CLOCK_AUCTION_CONFIG_DIR=/apps/open_spiel/configs\n",
      "Parsing configuration from /apps/open_spiel/configs/rounds.json\n",
      "Done config parsing\n",
      "[2022-03-23 01:03:37,081] {rl_environment.py:195} INFO - Using game instance: turn_based_simultaneous_game\n",
      "[2022-03-23 01:03:37,081] {ubc_nfsp_example.py:53} INFO - Game has a state size of 626, 4 distinct actions, and 2 players\n",
      "[2022-03-23 01:03:37,081] {ubc_nfsp_example.py:54} INFO - Game has 2 products\n",
      "[2022-03-23 01:03:37,082] {ubc_nfsp.py:118} INFO - Creating NFSP using device: cuda for player 0\n",
      "[2022-03-23 01:03:37,082] {ubc_dqn.py:261} INFO - Double DQN activated for player 0\n",
      "[2022-03-23 01:03:37,082] {ubc_dqn.py:296} INFO - Creating DQN using device: cuda for player 0\n",
      "[2022-03-23 01:03:40,828] {ubc_nfsp.py:118} INFO - Creating NFSP using device: cuda for player 1\n",
      "[2022-03-23 01:03:40,828] {ubc_dqn.py:261} INFO - Double DQN activated for player 1\n",
      "[2022-03-23 01:03:40,828] {ubc_dqn.py:296} INFO - Creating DQN using device: cuda for player 1\n",
      "[2022-03-23 01:03:40,836] {ubc_utils.py:112} INFO - Setting numpy and torch seed to 109\n",
      "[2022-03-23 01:03:40,840] {ubc_nfsp_example.py:114} INFO - ----Episode 1 ---\n",
      "[2022-03-23 01:03:40,844] {ubc_nfsp_example.py:115} INFO - Episode length stats:\n",
      "count    1.0\n",
      "mean     2.0\n",
      "std      NaN\n",
      "min      2.0\n",
      "25%      2.0\n",
      "50%      2.0\n",
      "75%      2.0\n",
      "max      2.0\n",
      "dtype: float64\n",
      "[2022-03-23 01:03:40,844] {ubc_nfsp_example.py:117} INFO - PLAYER 0\n",
      "[2022-03-23 01:03:40,845] {ubc_nfsp_example.py:120} INFO - {'Bid for 0,0 licenses @ $0 with activity 0': tensor(0.0279), 'Bid for 0,1 licenses @ $11 with activity 50': tensor(0.0714), 'Bid for 1,0 licenses @ $11 with activity 75': tensor(0.0337), 'Bid for 1,1 licenses @ $22 with activity 125': tensor(0.0064)}\n",
      "[2022-03-23 01:03:40,848] {ubc_nfsp_example.py:121} INFO - Train time 0 seconds\n",
      "[2022-03-23 01:03:40,848] {ubc_nfsp_example.py:122} INFO - Total time 0.01 seconds\n",
      "[2022-03-23 01:03:40,848] {ubc_nfsp_example.py:123} INFO - Training the DQN for player 0 is a 0.00 fraction\n",
      "[2022-03-23 01:03:40,848] {ubc_nfsp_example.py:124} INFO - Loss (Supervised, RL): (None, tensor([0]))\n",
      "[2022-03-23 01:03:40,848] {ubc_nfsp_example.py:117} INFO - PLAYER 1\n",
      "[2022-03-23 01:03:40,849] {ubc_nfsp_example.py:120} INFO - {'Bid for 0,0 licenses @ $0 with activity 0': tensor(-0.0809), 'Bid for 0,1 licenses @ $11 with activity 50': tensor(0.0472), 'Bid for 1,0 licenses @ $11 with activity 75': tensor(0.0150), 'Bid for 1,1 licenses @ $22 with activity 125': tensor(0.0403)}\n",
      "[2022-03-23 01:03:40,851] {ubc_nfsp_example.py:121} INFO - Train time 0 seconds\n",
      "[2022-03-23 01:03:40,851] {ubc_nfsp_example.py:122} INFO - Total time 0.01 seconds\n",
      "[2022-03-23 01:03:40,851] {ubc_nfsp_example.py:123} INFO - Training the DQN for player 1 is a 0.00 fraction\n",
      "[2022-03-23 01:03:40,851] {ubc_nfsp_example.py:124} INFO - Loss (Supervised, RL): (None, tensor([0]))\n",
      "[2022-03-23 01:03:40,851] {ubc_nfsp_example.py:127} INFO - EVALUATION AT ITERATION 1\n",
      "[2022-03-23 01:03:40,852] {nfsp.py:25} INFO - Saving episode 1 to DB\n",
      "[2022-03-23 01:04:18,628] {ubc_nfsp_example.py:114} INFO - ----Episode 10000 ---\n",
      "[2022-03-23 01:04:18,632] {ubc_nfsp_example.py:115} INFO - Episode length stats:\n",
      "count    10000.000000\n",
      "mean         3.282600\n",
      "std          1.707053\n",
      "min          2.000000\n",
      "25%          2.000000\n",
      "50%          2.000000\n",
      "75%          4.000000\n",
      "max         18.000000\n",
      "dtype: float64\n",
      "[2022-03-23 01:04:18,633] {ubc_nfsp_example.py:117} INFO - PLAYER 0\n",
      "[2022-03-23 01:04:18,634] {ubc_nfsp_example.py:120} INFO - {'Bid for 0,0 licenses @ $0 with activity 0': tensor(-1.3729), 'Bid for 0,1 licenses @ $11 with activity 50': tensor(66.6226), 'Bid for 1,0 licenses @ $11 with activity 75': tensor(103.5805), 'Bid for 1,1 licenses @ $22 with activity 125': tensor(152.9355)}\n",
      "[2022-03-23 01:04:18,635] {ubc_nfsp_example.py:121} INFO - Train time 9.58 seconds\n",
      "[2022-03-23 01:04:18,636] {ubc_nfsp_example.py:122} INFO - Total time 37.80 seconds\n",
      "[2022-03-23 01:04:18,636] {ubc_nfsp_example.py:123} INFO - Training the DQN for player 0 is a 0.25 fraction\n",
      "[2022-03-23 01:04:18,636] {ubc_nfsp_example.py:124} INFO - Loss (Supervised, RL): (None, tensor(632.9495))\n",
      "[2022-03-23 01:04:18,636] {ubc_nfsp_example.py:117} INFO - PLAYER 1\n",
      "[2022-03-23 01:04:18,637] {ubc_nfsp_example.py:120} INFO - {'Bid for 0,0 licenses @ $0 with activity 0': tensor(0.5995), 'Bid for 0,1 licenses @ $11 with activity 50': tensor(69.5256), 'Bid for 1,0 licenses @ $11 with activity 75': tensor(138.0812), 'Bid for 1,1 licenses @ $22 with activity 125': tensor(196.2779)}\n",
      "[2022-03-23 01:04:18,639] {ubc_nfsp_example.py:121} INFO - Train time 9.68 seconds\n",
      "[2022-03-23 01:04:18,639] {ubc_nfsp_example.py:122} INFO - Total time 37.80 seconds\n",
      "[2022-03-23 01:04:18,639] {ubc_nfsp_example.py:123} INFO - Training the DQN for player 1 is a 0.26 fraction\n",
      "[2022-03-23 01:04:18,639] {ubc_nfsp_example.py:124} INFO - Loss (Supervised, RL): (None, tensor(1086.0377))\n",
      "[2022-03-23 01:04:18,639] {ubc_nfsp_example.py:127} INFO - EVALUATION AT ITERATION 10000\n",
      "[2022-03-23 01:04:18,640] {nfsp.py:25} INFO - Saving episode 10000 to DB\n",
      "[2022-03-23 01:05:05,969] {ubc_nfsp_example.py:114} INFO - ----Episode 20000 ---\n",
      "[2022-03-23 01:05:05,976] {ubc_nfsp_example.py:115} INFO - Episode length stats:\n",
      "count    20000.000000\n",
      "mean         3.425800\n",
      "std          1.867423\n",
      "min          2.000000\n",
      "25%          2.000000\n",
      "50%          2.000000\n",
      "75%          4.000000\n",
      "max         20.000000\n",
      "dtype: float64\n",
      "[2022-03-23 01:05:05,976] {ubc_nfsp_example.py:117} INFO - PLAYER 0\n",
      "[2022-03-23 01:05:05,978] {ubc_nfsp_example.py:120} INFO - {'Bid for 0,0 licenses @ $0 with activity 0': tensor(-0.0129), 'Bid for 0,1 licenses @ $11 with activity 50': tensor(66.7660), 'Bid for 1,0 licenses @ $11 with activity 75': tensor(102.6517), 'Bid for 1,1 licenses @ $22 with activity 125': tensor(158.3643)}\n",
      "[2022-03-23 01:05:05,979] {ubc_nfsp_example.py:121} INFO - Train time 19.43 seconds\n",
      "[2022-03-23 01:05:05,979] {ubc_nfsp_example.py:122} INFO - Total time 1 minute and 25.14 seconds\n",
      "[2022-03-23 01:05:05,979] {ubc_nfsp_example.py:123} INFO - Training the DQN for player 0 is a 0.23 fraction\n",
      "[2022-03-23 01:05:05,980] {ubc_nfsp_example.py:124} INFO - Loss (Supervised, RL): (tensor(1.0812), tensor(618.6423))\n",
      "[2022-03-23 01:05:05,980] {ubc_nfsp_example.py:117} INFO - PLAYER 1\n",
      "[2022-03-23 01:05:05,981] {ubc_nfsp_example.py:120} INFO - {'Bid for 0,0 licenses @ $0 with activity 0': tensor(4.6089), 'Bid for 0,1 licenses @ $11 with activity 50': tensor(70.3054), 'Bid for 1,0 licenses @ $11 with activity 75': tensor(137.3629), 'Bid for 1,1 licenses @ $22 with activity 125': tensor(205.0603)}\n",
      "[2022-03-23 01:05:05,983] {ubc_nfsp_example.py:121} INFO - Train time 19.50 seconds\n",
      "[2022-03-23 01:05:05,983] {ubc_nfsp_example.py:122} INFO - Total time 1 minute and 25.15 seconds\n",
      "[2022-03-23 01:05:05,983] {ubc_nfsp_example.py:123} INFO - Training the DQN for player 1 is a 0.23 fraction\n",
      "[2022-03-23 01:05:05,983] {ubc_nfsp_example.py:124} INFO - Loss (Supervised, RL): (tensor(1.0293), tensor(976.4415))\n",
      "[2022-03-23 01:05:05,983] {ubc_nfsp_example.py:127} INFO - EVALUATION AT ITERATION 20000\n",
      "[2022-03-23 01:05:05,984] {nfsp.py:25} INFO - Saving episode 20000 to DB\n",
      "[2022-03-23 01:06:01,034] {ubc_nfsp_example.py:114} INFO - ----Episode 30000 ---\n",
      "[2022-03-23 01:06:01,043] {ubc_nfsp_example.py:115} INFO - Episode length stats:\n",
      "count    30000.000000\n",
      "mean         3.693533\n",
      "std          2.151519\n",
      "min          2.000000\n",
      "25%          2.000000\n",
      "50%          4.000000\n",
      "75%          4.000000\n",
      "max         26.000000\n",
      "dtype: float64\n",
      "[2022-03-23 01:06:01,044] {ubc_nfsp_example.py:117} INFO - PLAYER 0\n",
      "[2022-03-23 01:06:01,045] {ubc_nfsp_example.py:120} INFO - {'Bid for 0,0 licenses @ $0 with activity 0': tensor(1.4437), 'Bid for 0,1 licenses @ $11 with activity 50': tensor(66.2810), 'Bid for 1,0 licenses @ $11 with activity 75': tensor(100.8167), 'Bid for 1,1 licenses @ $22 with activity 125': tensor(162.6636)}\n",
      "[2022-03-23 01:06:01,047] {ubc_nfsp_example.py:121} INFO - Train time 29.60 seconds\n",
      "[2022-03-23 01:06:01,047] {ubc_nfsp_example.py:122} INFO - Total time 2 minutes and 20.21 seconds\n",
      "[2022-03-23 01:06:01,047] {ubc_nfsp_example.py:123} INFO - Training the DQN for player 0 is a 0.21 fraction\n",
      "[2022-03-23 01:06:01,047] {ubc_nfsp_example.py:124} INFO - Loss (Supervised, RL): (tensor(0.9447), tensor(372.2995))\n",
      "[2022-03-23 01:06:01,047] {ubc_nfsp_example.py:117} INFO - PLAYER 1\n",
      "[2022-03-23 01:06:01,049] {ubc_nfsp_example.py:120} INFO - {'Bid for 0,0 licenses @ $0 with activity 0': tensor(2.7205), 'Bid for 0,1 licenses @ $11 with activity 50': tensor(70.7950), 'Bid for 1,0 licenses @ $11 with activity 75': tensor(138.0348), 'Bid for 1,1 licenses @ $22 with activity 125': tensor(202.2244)}\n",
      "[2022-03-23 01:06:01,050] {ubc_nfsp_example.py:121} INFO - Train time 29.68 seconds\n",
      "[2022-03-23 01:06:01,050] {ubc_nfsp_example.py:122} INFO - Total time 2 minutes and 20.21 seconds\n",
      "[2022-03-23 01:06:01,050] {ubc_nfsp_example.py:123} INFO - Training the DQN for player 1 is a 0.21 fraction\n",
      "[2022-03-23 01:06:01,051] {ubc_nfsp_example.py:124} INFO - Loss (Supervised, RL): (tensor(0.9148), tensor(718.2902))\n",
      "[2022-03-23 01:06:01,051] {ubc_nfsp_example.py:127} INFO - EVALUATION AT ITERATION 30000\n",
      "[2022-03-23 01:06:01,051] {nfsp.py:25} INFO - Saving episode 30000 to DB\n",
      "[2022-03-23 01:06:59,108] {ubc_nfsp_example.py:114} INFO - ----Episode 40000 ---\n",
      "[2022-03-23 01:06:59,120] {ubc_nfsp_example.py:115} INFO - Episode length stats:\n",
      "count    40000.000000\n",
      "mean         3.908750\n",
      "std          2.359303\n",
      "min          2.000000\n",
      "25%          2.000000\n",
      "50%          4.000000\n",
      "75%          4.000000\n",
      "max         28.000000\n",
      "dtype: float64\n",
      "[2022-03-23 01:06:59,120] {ubc_nfsp_example.py:117} INFO - PLAYER 0\n",
      "[2022-03-23 01:06:59,121] {ubc_nfsp_example.py:120} INFO - {'Bid for 0,0 licenses @ $0 with activity 0': tensor(1.4666), 'Bid for 0,1 licenses @ $11 with activity 50': tensor(64.6976), 'Bid for 1,0 licenses @ $11 with activity 75': tensor(101.0435), 'Bid for 1,1 licenses @ $22 with activity 125': tensor(159.3089)}\n",
      "[2022-03-23 01:06:59,123] {ubc_nfsp_example.py:121} INFO - Train time 39.90 seconds\n",
      "[2022-03-23 01:06:59,123] {ubc_nfsp_example.py:122} INFO - Total time 3 minutes and 18.29 seconds\n",
      "[2022-03-23 01:06:59,123] {ubc_nfsp_example.py:123} INFO - Training the DQN for player 0 is a 0.20 fraction\n",
      "[2022-03-23 01:06:59,124] {ubc_nfsp_example.py:124} INFO - Loss (Supervised, RL): (tensor(0.9186), tensor(303.5016))\n",
      "[2022-03-23 01:06:59,124] {ubc_nfsp_example.py:117} INFO - PLAYER 1\n",
      "[2022-03-23 01:06:59,125] {ubc_nfsp_example.py:120} INFO - {'Bid for 0,0 licenses @ $0 with activity 0': tensor(2.1392), 'Bid for 0,1 licenses @ $11 with activity 50': tensor(66.7028), 'Bid for 1,0 licenses @ $11 with activity 75': tensor(133.9016), 'Bid for 1,1 licenses @ $22 with activity 125': tensor(199.9194)}\n",
      "[2022-03-23 01:06:59,127] {ubc_nfsp_example.py:121} INFO - Train time 40.05 seconds\n",
      "[2022-03-23 01:06:59,127] {ubc_nfsp_example.py:122} INFO - Total time 3 minutes and 18.29 seconds\n",
      "[2022-03-23 01:06:59,127] {ubc_nfsp_example.py:123} INFO - Training the DQN for player 1 is a 0.20 fraction\n",
      "[2022-03-23 01:06:59,127] {ubc_nfsp_example.py:124} INFO - Loss (Supervised, RL): (tensor(0.8691), tensor(483.4698))\n",
      "[2022-03-23 01:06:59,127] {ubc_nfsp_example.py:127} INFO - EVALUATION AT ITERATION 40000\n",
      "[2022-03-23 01:06:59,128] {nfsp.py:25} INFO - Saving episode 40000 to DB\n",
      "[2022-03-23 01:07:55,925] {ubc_nfsp_example.py:114} INFO - ----Episode 50000 ---\n",
      "[2022-03-23 01:07:55,939] {ubc_nfsp_example.py:115} INFO - Episode length stats:\n",
      "count    50000.000000\n",
      "mean         4.056200\n",
      "std          2.493818\n",
      "min          2.000000\n",
      "25%          2.000000\n",
      "50%          4.000000\n",
      "75%          6.000000\n",
      "max         28.000000\n",
      "dtype: float64\n",
      "[2022-03-23 01:07:55,939] {ubc_nfsp_example.py:117} INFO - PLAYER 0\n",
      "[2022-03-23 01:07:55,940] {ubc_nfsp_example.py:120} INFO - {'Bid for 0,0 licenses @ $0 with activity 0': tensor(0.4989), 'Bid for 0,1 licenses @ $11 with activity 50': tensor(62.2250), 'Bid for 1,0 licenses @ $11 with activity 75': tensor(99.2988), 'Bid for 1,1 licenses @ $22 with activity 125': tensor(155.9427)}\n",
      "[2022-03-23 01:07:55,942] {ubc_nfsp_example.py:121} INFO - Train time 49.99 seconds\n",
      "[2022-03-23 01:07:55,942] {ubc_nfsp_example.py:122} INFO - Total time 4 minutes and 15.11 seconds\n",
      "[2022-03-23 01:07:55,942] {ubc_nfsp_example.py:123} INFO - Training the DQN for player 0 is a 0.20 fraction\n",
      "[2022-03-23 01:07:55,943] {ubc_nfsp_example.py:124} INFO - Loss (Supervised, RL): (tensor(0.9001), tensor(285.1131))\n",
      "[2022-03-23 01:07:55,943] {ubc_nfsp_example.py:117} INFO - PLAYER 1\n",
      "[2022-03-23 01:07:55,944] {ubc_nfsp_example.py:120} INFO - {'Bid for 0,0 licenses @ $0 with activity 0': tensor(1.7876), 'Bid for 0,1 licenses @ $11 with activity 50': tensor(67.0323), 'Bid for 1,0 licenses @ $11 with activity 75': tensor(135.4424), 'Bid for 1,1 licenses @ $22 with activity 125': tensor(202.6031)}\n",
      "[2022-03-23 01:07:55,945] {ubc_nfsp_example.py:121} INFO - Train time 50.19 seconds\n",
      "[2022-03-23 01:07:55,946] {ubc_nfsp_example.py:122} INFO - Total time 4 minutes and 15.11 seconds\n",
      "[2022-03-23 01:07:55,946] {ubc_nfsp_example.py:123} INFO - Training the DQN for player 1 is a 0.20 fraction\n",
      "[2022-03-23 01:07:55,946] {ubc_nfsp_example.py:124} INFO - Loss (Supervised, RL): (tensor(0.8844), tensor(802.8435))\n",
      "[2022-03-23 01:07:55,946] {ubc_nfsp_example.py:127} INFO - EVALUATION AT ITERATION 50000\n",
      "[2022-03-23 01:07:55,946] {nfsp.py:25} INFO - Saving episode 50000 to DB\n",
      "[2022-03-23 01:08:56,495] {ubc_nfsp_example.py:114} INFO - ----Episode 60000 ---\n",
      "[2022-03-23 01:08:56,510] {ubc_nfsp_example.py:115} INFO - Episode length stats:\n",
      "count    60000.000000\n",
      "mean         4.176167\n",
      "std          2.601784\n",
      "min          2.000000\n",
      "25%          2.000000\n",
      "50%          4.000000\n",
      "75%          6.000000\n",
      "max         36.000000\n",
      "dtype: float64\n",
      "[2022-03-23 01:08:56,511] {ubc_nfsp_example.py:117} INFO - PLAYER 0\n",
      "[2022-03-23 01:08:56,512] {ubc_nfsp_example.py:120} INFO - {'Bid for 0,0 licenses @ $0 with activity 0': tensor(-1.2585), 'Bid for 0,1 licenses @ $11 with activity 50': tensor(59.9408), 'Bid for 1,0 licenses @ $11 with activity 75': tensor(94.4391), 'Bid for 1,1 licenses @ $22 with activity 125': tensor(150.5225)}\n",
      "[2022-03-23 01:08:56,514] {ubc_nfsp_example.py:121} INFO - Train time 1 minute and 0.35 seconds\n",
      "[2022-03-23 01:08:56,514] {ubc_nfsp_example.py:122} INFO - Total time 5 minutes and 15.68 seconds\n",
      "[2022-03-23 01:08:56,514] {ubc_nfsp_example.py:123} INFO - Training the DQN for player 0 is a 0.19 fraction\n",
      "[2022-03-23 01:08:56,514] {ubc_nfsp_example.py:124} INFO - Loss (Supervised, RL): (tensor(0.9194), tensor(202.9889))\n",
      "[2022-03-23 01:08:56,514] {ubc_nfsp_example.py:117} INFO - PLAYER 1\n",
      "[2022-03-23 01:08:56,516] {ubc_nfsp_example.py:120} INFO - {'Bid for 0,0 licenses @ $0 with activity 0': tensor(1.5662), 'Bid for 0,1 licenses @ $11 with activity 50': tensor(66.4399), 'Bid for 1,0 licenses @ $11 with activity 75': tensor(135.5555), 'Bid for 1,1 licenses @ $22 with activity 125': tensor(192.3204)}\n",
      "[2022-03-23 01:08:56,517] {ubc_nfsp_example.py:121} INFO - Train time 1 minute and 0.75 seconds\n",
      "[2022-03-23 01:08:56,517] {ubc_nfsp_example.py:122} INFO - Total time 5 minutes and 15.68 seconds\n",
      "[2022-03-23 01:08:56,517] {ubc_nfsp_example.py:123} INFO - Training the DQN for player 1 is a 0.19 fraction\n",
      "[2022-03-23 01:08:56,518] {ubc_nfsp_example.py:124} INFO - Loss (Supervised, RL): (tensor(0.8542), tensor(413.9958))\n",
      "[2022-03-23 01:08:56,518] {ubc_nfsp_example.py:127} INFO - EVALUATION AT ITERATION 60000\n",
      "[2022-03-23 01:08:56,518] {nfsp.py:25} INFO - Saving episode 60000 to DB\n",
      "[2022-03-23 01:09:59,015] {ubc_nfsp_example.py:114} INFO - ----Episode 70000 ---\n",
      "[2022-03-23 01:09:59,034] {ubc_nfsp_example.py:115} INFO - Episode length stats:\n",
      "count    70000.000000\n",
      "mean         4.263800\n",
      "std          2.672109\n",
      "min          2.000000\n",
      "25%          2.000000\n",
      "50%          4.000000\n",
      "75%          6.000000\n",
      "max         36.000000\n",
      "dtype: float64\n",
      "[2022-03-23 01:09:59,034] {ubc_nfsp_example.py:117} INFO - PLAYER 0\n",
      "[2022-03-23 01:09:59,035] {ubc_nfsp_example.py:120} INFO - {'Bid for 0,0 licenses @ $0 with activity 0': tensor(0.3684), 'Bid for 0,1 licenses @ $11 with activity 50': tensor(61.8133), 'Bid for 1,0 licenses @ $11 with activity 75': tensor(97.2422), 'Bid for 1,1 licenses @ $22 with activity 125': tensor(155.0685)}\n",
      "[2022-03-23 01:09:59,037] {ubc_nfsp_example.py:121} INFO - Train time 1 minute and 11.12 seconds\n",
      "[2022-03-23 01:09:59,037] {ubc_nfsp_example.py:122} INFO - Total time 6 minutes and 18.20 seconds\n",
      "[2022-03-23 01:09:59,037] {ubc_nfsp_example.py:123} INFO - Training the DQN for player 0 is a 0.19 fraction\n",
      "[2022-03-23 01:09:59,038] {ubc_nfsp_example.py:124} INFO - Loss (Supervised, RL): (tensor(0.9045), tensor(271.4680))\n",
      "[2022-03-23 01:09:59,038] {ubc_nfsp_example.py:117} INFO - PLAYER 1\n",
      "[2022-03-23 01:09:59,039] {ubc_nfsp_example.py:120} INFO - {'Bid for 0,0 licenses @ $0 with activity 0': tensor(1.2540), 'Bid for 0,1 licenses @ $11 with activity 50': tensor(63.7436), 'Bid for 1,0 licenses @ $11 with activity 75': tensor(135.2432), 'Bid for 1,1 licenses @ $22 with activity 125': tensor(190.7485)}\n",
      "[2022-03-23 01:09:59,041] {ubc_nfsp_example.py:121} INFO - Train time 1 minute and 11.65 seconds\n",
      "[2022-03-23 01:09:59,041] {ubc_nfsp_example.py:122} INFO - Total time 6 minutes and 18.21 seconds\n",
      "[2022-03-23 01:09:59,041] {ubc_nfsp_example.py:123} INFO - Training the DQN for player 1 is a 0.19 fraction\n",
      "[2022-03-23 01:09:59,042] {ubc_nfsp_example.py:124} INFO - Loss (Supervised, RL): (tensor(0.8508), tensor(338.1745))\n",
      "[2022-03-23 01:09:59,042] {ubc_nfsp_example.py:127} INFO - EVALUATION AT ITERATION 70000\n",
      "[2022-03-23 01:09:59,042] {nfsp.py:25} INFO - Saving episode 70000 to DB\n",
      "[2022-03-23 01:11:00,696] {ubc_nfsp_example.py:114} INFO - ----Episode 80000 ---\n",
      "[2022-03-23 01:11:00,717] {ubc_nfsp_example.py:115} INFO - Episode length stats:\n",
      "count    80000.000000\n",
      "mean         4.331850\n",
      "std          2.723687\n",
      "min          2.000000\n",
      "25%          2.000000\n",
      "50%          4.000000\n",
      "75%          6.000000\n",
      "max         36.000000\n",
      "dtype: float64\n",
      "[2022-03-23 01:11:00,717] {ubc_nfsp_example.py:117} INFO - PLAYER 0\n",
      "[2022-03-23 01:11:00,718] {ubc_nfsp_example.py:120} INFO - {'Bid for 0,0 licenses @ $0 with activity 0': tensor(0.6428), 'Bid for 0,1 licenses @ $11 with activity 50': tensor(62.6243), 'Bid for 1,0 licenses @ $11 with activity 75': tensor(97.7294), 'Bid for 1,1 licenses @ $22 with activity 125': tensor(156.2522)}\n",
      "[2022-03-23 01:11:00,720] {ubc_nfsp_example.py:121} INFO - Train time 1 minute and 21.62 seconds\n",
      "[2022-03-23 01:11:00,720] {ubc_nfsp_example.py:122} INFO - Total time 7 minutes and 19.88 seconds\n",
      "[2022-03-23 01:11:00,720] {ubc_nfsp_example.py:123} INFO - Training the DQN for player 0 is a 0.19 fraction\n",
      "[2022-03-23 01:11:00,721] {ubc_nfsp_example.py:124} INFO - Loss (Supervised, RL): (tensor(0.8539), tensor(233.9108))\n",
      "[2022-03-23 01:11:00,721] {ubc_nfsp_example.py:117} INFO - PLAYER 1\n",
      "[2022-03-23 01:11:00,722] {ubc_nfsp_example.py:120} INFO - {'Bid for 0,0 licenses @ $0 with activity 0': tensor(-0.1964), 'Bid for 0,1 licenses @ $11 with activity 50': tensor(64.6909), 'Bid for 1,0 licenses @ $11 with activity 75': tensor(135.0322), 'Bid for 1,1 licenses @ $22 with activity 125': tensor(190.9280)}\n",
      "[2022-03-23 01:11:00,724] {ubc_nfsp_example.py:121} INFO - Train time 1 minute and 22.28 seconds\n",
      "[2022-03-23 01:11:00,724] {ubc_nfsp_example.py:122} INFO - Total time 7 minutes and 19.89 seconds\n",
      "[2022-03-23 01:11:00,724] {ubc_nfsp_example.py:123} INFO - Training the DQN for player 1 is a 0.19 fraction\n",
      "[2022-03-23 01:11:00,724] {ubc_nfsp_example.py:124} INFO - Loss (Supervised, RL): (tensor(0.8117), tensor(305.7933))\n",
      "[2022-03-23 01:11:00,724] {ubc_nfsp_example.py:127} INFO - EVALUATION AT ITERATION 80000\n",
      "[2022-03-23 01:11:00,725] {nfsp.py:25} INFO - Saving episode 80000 to DB\n",
      "[2022-03-23 01:12:01,540] {ubc_nfsp_example.py:114} INFO - ----Episode 90000 ---\n",
      "[2022-03-23 01:12:01,561] {ubc_nfsp_example.py:115} INFO - Episode length stats:\n",
      "count    90000.000000\n",
      "mean         4.394556\n",
      "std          2.779243\n",
      "min          2.000000\n",
      "25%          2.000000\n",
      "50%          4.000000\n",
      "75%          6.000000\n",
      "max         36.000000\n",
      "dtype: float64\n",
      "[2022-03-23 01:12:01,562] {ubc_nfsp_example.py:117} INFO - PLAYER 0\n",
      "[2022-03-23 01:12:01,563] {ubc_nfsp_example.py:120} INFO - {'Bid for 0,0 licenses @ $0 with activity 0': tensor(1.5866), 'Bid for 0,1 licenses @ $11 with activity 50': tensor(62.8722), 'Bid for 1,0 licenses @ $11 with activity 75': tensor(99.2139), 'Bid for 1,1 licenses @ $22 with activity 125': tensor(156.6936)}\n",
      "[2022-03-23 01:12:01,564] {ubc_nfsp_example.py:121} INFO - Train time 1 minute and 32.21 seconds\n",
      "[2022-03-23 01:12:01,565] {ubc_nfsp_example.py:122} INFO - Total time 8 minutes and 20.73 seconds\n",
      "[2022-03-23 01:12:01,565] {ubc_nfsp_example.py:123} INFO - Training the DQN for player 0 is a 0.18 fraction\n",
      "[2022-03-23 01:12:01,565] {ubc_nfsp_example.py:124} INFO - Loss (Supervised, RL): (tensor(0.8195), tensor(197.7962))\n",
      "[2022-03-23 01:12:01,565] {ubc_nfsp_example.py:117} INFO - PLAYER 1\n",
      "[2022-03-23 01:12:01,567] {ubc_nfsp_example.py:120} INFO - {'Bid for 0,0 licenses @ $0 with activity 0': tensor(-0.6832), 'Bid for 0,1 licenses @ $11 with activity 50': tensor(65.1691), 'Bid for 1,0 licenses @ $11 with activity 75': tensor(135.4653), 'Bid for 1,1 licenses @ $22 with activity 125': tensor(194.6626)}\n",
      "[2022-03-23 01:12:01,568] {ubc_nfsp_example.py:121} INFO - Train time 1 minute and 33.04 seconds\n",
      "[2022-03-23 01:12:01,568] {ubc_nfsp_example.py:122} INFO - Total time 8 minutes and 20.73 seconds\n",
      "[2022-03-23 01:12:01,568] {ubc_nfsp_example.py:123} INFO - Training the DQN for player 1 is a 0.19 fraction\n",
      "[2022-03-23 01:12:01,569] {ubc_nfsp_example.py:124} INFO - Loss (Supervised, RL): (tensor(0.8108), tensor(271.5420))\n",
      "[2022-03-23 01:12:01,569] {ubc_nfsp_example.py:127} INFO - EVALUATION AT ITERATION 90000\n",
      "[2022-03-23 01:12:01,569] {nfsp.py:25} INFO - Saving episode 90000 to DB\n",
      "[2022-03-23 01:13:02,706] {ubc_nfsp_example.py:114} INFO - ----Episode 100000 ---\n",
      "[2022-03-23 01:13:02,730] {ubc_nfsp_example.py:115} INFO - Episode length stats:\n",
      "count    100000.000000\n",
      "mean          4.443240\n",
      "std           2.815148\n",
      "min           2.000000\n",
      "25%           2.000000\n",
      "50%           4.000000\n",
      "75%           6.000000\n",
      "max          42.000000\n",
      "dtype: float64\n",
      "[2022-03-23 01:13:02,730] {ubc_nfsp_example.py:117} INFO - PLAYER 0\n",
      "[2022-03-23 01:13:02,732] {ubc_nfsp_example.py:120} INFO - {'Bid for 0,0 licenses @ $0 with activity 0': tensor(-0.7795), 'Bid for 0,1 licenses @ $11 with activity 50': tensor(59.7398), 'Bid for 1,0 licenses @ $11 with activity 75': tensor(94.2632), 'Bid for 1,1 licenses @ $22 with activity 125': tensor(149.5536)}\n",
      "[2022-03-23 01:13:02,733] {ubc_nfsp_example.py:121} INFO - Train time 1 minute and 42.66 seconds\n",
      "[2022-03-23 01:13:02,733] {ubc_nfsp_example.py:122} INFO - Total time 9 minutes and 21.90 seconds\n",
      "[2022-03-23 01:13:02,734] {ubc_nfsp_example.py:123} INFO - Training the DQN for player 0 is a 0.18 fraction\n",
      "[2022-03-23 01:13:02,734] {ubc_nfsp_example.py:124} INFO - Loss (Supervised, RL): (tensor(0.8041), tensor(163.3072))\n",
      "[2022-03-23 01:13:02,734] {ubc_nfsp_example.py:117} INFO - PLAYER 1\n",
      "[2022-03-23 01:13:02,735] {ubc_nfsp_example.py:120} INFO - {'Bid for 0,0 licenses @ $0 with activity 0': tensor(-0.4755), 'Bid for 0,1 licenses @ $11 with activity 50': tensor(64.3829), 'Bid for 1,0 licenses @ $11 with activity 75': tensor(134.2814), 'Bid for 1,1 licenses @ $22 with activity 125': tensor(195.5147)}\n",
      "[2022-03-23 01:13:02,737] {ubc_nfsp_example.py:121} INFO - Train time 1 minute and 43.52 seconds\n",
      "[2022-03-23 01:13:02,737] {ubc_nfsp_example.py:122} INFO - Total time 9 minutes and 21.90 seconds\n",
      "[2022-03-23 01:13:02,737] {ubc_nfsp_example.py:123} INFO - Training the DQN for player 1 is a 0.18 fraction\n",
      "[2022-03-23 01:13:02,738] {ubc_nfsp_example.py:124} INFO - Loss (Supervised, RL): (tensor(0.7706), tensor(331.3427))\n",
      "[2022-03-23 01:13:02,738] {ubc_nfsp_example.py:127} INFO - EVALUATION AT ITERATION 100000\n",
      "[2022-03-23 01:13:02,738] {nfsp.py:25} INFO - Saving episode 100000 to DB\n"
     ]
    },
    {
     "name": "stderr",
     "output_type": "stream",
     "text": [
      "\n",
      "KeyboardInterrupt\n",
      "\n"
     ]
    }
   ],
   "source": [
    "!python /apps/open_spiel/web/auctions/manage.py nfsp --seed 109 --filename rounds.json --network_config_file mar17/lstm --experiment_name lstmtest --job_name \"lstm_for_greg\" --dispatch_br false --br_portfolio_path feb22 --eval_every 10_000 --num_training_episodes 10_000_000 --br_overrides \"--num_training_episodes 1_000_000\" --report_freq 10_000 --overwrite_db true"
   ]
  },
  {
   "cell_type": "code",
   "execution_count": 152,
   "id": "ea56c19d-4ab7-453f-9721-528fea1b8956",
   "metadata": {},
   "outputs": [
    {
     "data": {
      "text/plain": [
       "True"
      ]
     },
     "execution_count": 152,
     "metadata": {},
     "output_type": "execute_result"
    }
   ],
   "source": [
    "BestResponse.objects.last().created < datetime.datetime.now(tz=pytz.UTC)\n"
   ]
  },
  {
   "cell_type": "code",
   "execution_count": 141,
   "id": "5861782c-0467-4416-8f10-b46dd469e7dd",
   "metadata": {},
   "outputs": [
    {
     "ename": "AttributeError",
     "evalue": "module 'datetime' has no attribute 'now'",
     "output_type": "error",
     "traceback": [
      "\u001b[0;31m---------------------------------------------------------------------------\u001b[0m",
      "\u001b[0;31mAttributeError\u001b[0m                            Traceback (most recent call last)",
      "Input \u001b[0;32mIn [141]\u001b[0m, in \u001b[0;36m<module>\u001b[0;34m\u001b[0m\n\u001b[0;32m----> 1\u001b[0m \u001b[43mdatetime\u001b[49m\u001b[38;5;241;43m.\u001b[39;49m\u001b[43mnow\u001b[49m()\n",
      "\u001b[0;31mAttributeError\u001b[0m: module 'datetime' has no attribute 'now'"
     ]
    }
   ],
   "source": [
    "datetime.now()"
   ]
  },
  {
   "cell_type": "code",
   "execution_count": 151,
   "id": "a4bbf7ec-b76e-4194-9fd0-4625e0bd5bf7",
   "metadata": {},
   "outputs": [
    {
     "data": {
      "text/plain": [
       "datetime.datetime(2022, 3, 23, 4, 33, 3, 722237, tzinfo=<UTC>)"
      ]
     },
     "execution_count": 151,
     "metadata": {},
     "output_type": "execute_result"
    }
   ],
   "source": [
    "import pytz\n"
   ]
  },
  {
   "cell_type": "code",
   "execution_count": 154,
   "id": "ac29aa81-6f22-430f-bf8d-fa4077d07e73",
   "metadata": {},
   "outputs": [
    {
     "data": {
      "text/plain": [
       "datetime.datetime(2022, 3, 23, 4, 33, 3, 722237, tzinfo=<UTC>)"
      ]
     },
     "execution_count": 154,
     "metadata": {},
     "output_type": "execute_result"
    }
   ],
   "source": [
    "datetime.datetime(2022, 3, 23, 4, 33, 3, 722237, tzinfo=pytz.UTC)\n"
   ]
  },
  {
   "cell_type": "code",
   "execution_count": 156,
   "id": "4064c532-2243-45a8-9e52-f86f1cf2108e",
   "metadata": {},
   "outputs": [
    {
     "data": {
      "text/plain": [
       "tensor([1., 1., 1., 1., 1., 1., 1., 1., 1., 1., 1., 1., 1., 1., 1., 1., 1., 1.,\n",
       "        1., 1., 1., 1., 1., 1., 1., 1., 1., 1., 1., 1., 1., 1., 1., 1., 1., 1.,\n",
       "        1., 1., 1., 1., 1., 1., 1., 1., 1., 1., 1., 1., 1., 1., 1., 1., 1., 1.,\n",
       "        1., 1., 1., 1., 1., 1., 1., 1., 1., 1., 1., 1., 1., 1., 1., 1., 1., 1.,\n",
       "        1., 1., 1., 1., 1., 1., 1., 1., 1., 1., 1., 1., 1., 1., 1., 1., 1., 1.,\n",
       "        1., 1., 1., 1., 1., 1., 1., 1., 1., 1., 1., 1., 1., 1., 1., 1., 1., 1.,\n",
       "        1., 1., 1., 1., 1., 1., 1., 1., 1., 1., 1., 1., 1., 1., 1., 1., 1., 1.,\n",
       "        1., 1., 1., 1., 1., 1., 1., 1., 1., 1., 1., 1., 1., 1., 1., 1., 1., 1.,\n",
       "        1., 1., 1., 1., 1., 1., 1., 1., 1., 1., 1., 1., 1., 1., 1., 1., 1., 1.,\n",
       "        1., 1., 1., 1., 1., 1., 1., 1., 1., 1., 1., 1., 1., 1., 1., 1., 1., 1.,\n",
       "        1., 1., 1., 1., 1., 1., 1., 1., 1., 1., 1., 1., 1., 1., 1., 1., 1., 1.,\n",
       "        1., 1., 1., 1., 1., 1., 1., 1., 1., 1., 1., 1., 1., 1., 1., 1., 1., 1.,\n",
       "        1., 1., 1., 1., 1., 1., 1., 1., 1., 1., 1., 1., 1., 1., 1., 1., 1., 1.,\n",
       "        1., 1., 1., 1., 1., 1., 1., 1., 1., 1., 1., 1., 1., 1., 1., 1., 1., 1.,\n",
       "        1., 1., 1., 1., 1., 1., 1., 1., 1., 1., 1., 1., 1., 1., 1., 1., 1., 1.,\n",
       "        1., 1., 1., 1., 1., 1., 1., 1., 1., 1., 1., 1., 1., 1., 1., 1., 1., 1.,\n",
       "        1., 1., 1., 1., 1., 1., 1., 1., 1., 1., 1., 1., 1., 1., 1., 1., 1., 1.,\n",
       "        1., 1., 1., 1., 1., 1., 1., 1., 1., 1., 1., 1., 1., 1., 1., 1., 1., 1.,\n",
       "        1., 1., 1., 1., 1., 1., 1., 1., 1., 1., 1., 1., 1., 1., 1., 1., 1., 1.,\n",
       "        1., 1., 1., 1., 1., 1., 1., 1., 1., 1., 1., 1., 1., 1., 1., 1., 1., 1.,\n",
       "        1., 1., 1., 1., 1., 1., 1., 1., 1., 1., 1., 1., 1., 1., 1., 1., 1., 1.,\n",
       "        1., 1., 1., 1., 1., 1., 1., 1., 1., 1., 1., 1., 1., 1., 1., 1., 1., 1.,\n",
       "        1., 1., 1., 1., 1., 1., 1., 1., 1., 1., 1., 1., 1., 1., 1., 1., 1., 1.,\n",
       "        1., 1., 1., 1., 1., 1., 1., 1., 1., 1., 1., 1., 1., 1., 1., 1., 1., 1.,\n",
       "        1., 1., 1., 1., 1., 1., 1., 1., 1., 1., 1., 1., 1., 1., 1., 1., 1., 1.,\n",
       "        1., 1., 1., 1., 1., 1., 1., 1., 1., 1., 1., 1., 1., 1., 1., 1., 1., 1.,\n",
       "        1., 1., 1., 1., 1., 1., 1., 1., 1., 1., 1., 1., 1., 1., 1., 1., 1., 1.,\n",
       "        1., 1., 1., 1., 1., 1., 1., 1., 1., 1., 1., 1., 1., 1., 1., 1., 1., 1.,\n",
       "        1., 1., 1., 1., 1., 1., 1., 1., 1., 1., 1., 1., 1., 1., 1., 1., 1., 1.,\n",
       "        1., 1., 1., 1., 1., 1., 1., 1., 1., 1., 1., 1., 1., 1., 1., 1., 1., 1.,\n",
       "        1., 1., 1., 1., 1., 1., 1., 1., 1., 1., 1., 1., 1., 1., 1., 1., 1., 1.,\n",
       "        1., 1., 1., 1., 1., 1., 1., 1., 1., 1., 1., 1., 1., 1., 1., 1., 1., 1.,\n",
       "        1., 1., 1., 1., 1., 1., 1., 1., 1., 1., 1., 1., 1., 1., 1., 1., 1., 1.,\n",
       "        1., 1., 1., 1., 1., 1., 1., 1., 1., 1., 1., 1., 1., 1., 1., 1., 1., 1.,\n",
       "        1., 1., 1., 1., 1., 1., 1., 1., 1., 1., 1., 1., 1., 1., 1., 1., 1., 1.,\n",
       "        1., 1., 1., 1., 1., 1., 1., 1., 1., 1., 1., 1., 1., 1., 1., 1., 1., 1.,\n",
       "        1., 1., 1., 1., 1., 1., 1., 1., 1., 1., 1., 1., 1., 1., 1., 1., 1., 1.,\n",
       "        1., 1., 1., 1., 1., 1., 1., 1., 1., 1., 1., 1., 1., 1., 1., 1., 1., 1.,\n",
       "        1., 1., 1., 1., 1., 1., 1., 1., 1., 1., 1., 1., 1., 1., 1., 1., 1., 1.,\n",
       "        1., 1., 1., 1., 1., 1., 1., 1., 1., 1., 1., 1., 1., 1., 1., 1., 1., 1.,\n",
       "        1., 1., 1., 1., 1., 1., 1., 1., 1., 1., 1., 1., 1., 1., 1., 1., 1., 1.,\n",
       "        1., 1., 1., 1., 1., 1., 1., 1., 1., 1., 1., 1., 1., 1., 1., 1., 1., 1.,\n",
       "        1., 1., 1., 1., 1., 1., 1., 1., 1., 1., 1., 1., 1., 1., 1., 1., 1., 1.,\n",
       "        1., 1., 1., 1., 1., 1., 1., 1., 1., 1., 1., 1., 1., 1., 1., 1., 1., 1.,\n",
       "        1., 1., 1., 1., 1., 1., 1., 1., 1., 1., 1., 1., 1., 1., 1., 1., 1., 1.,\n",
       "        1., 1., 1., 1., 1., 1., 1., 1., 1., 1., 1., 1., 1., 1., 1., 1., 1., 1.,\n",
       "        1., 1., 1., 1., 1., 1., 1., 1., 1., 1., 1., 1., 1., 1., 1., 1., 1., 1.,\n",
       "        1., 1., 1., 1., 1., 1., 1., 1., 1., 1., 1., 1., 1., 1., 1., 1., 1., 1.,\n",
       "        1., 1., 1., 1., 1., 1., 1., 1., 1., 1., 1., 1., 1., 1., 1., 1., 1., 1.,\n",
       "        1., 1., 1., 1., 1., 1., 1., 1., 1., 1., 1., 1., 1., 1., 1., 1., 1., 1.,\n",
       "        1., 1., 1., 1., 1., 1., 1., 1., 1., 1., 1., 1., 1., 1., 1., 1., 1., 1.,\n",
       "        1., 1., 1., 1., 1., 1., 1., 1., 1., 1., 1., 1., 1., 1., 1., 1., 1., 1.,\n",
       "        1., 1., 1., 1., 1., 1., 1., 1., 1., 1., 1., 1., 1., 1., 1., 1., 1., 1.,\n",
       "        1., 1., 1., 1., 1., 1., 1., 1., 1., 1., 1., 1., 1., 1., 1., 1., 1., 1.,\n",
       "        1., 1., 1., 1., 1., 1., 1., 1., 1., 1., 1., 1., 1., 1., 1., 1., 1., 1.,\n",
       "        1., 1., 1., 1., 1., 1., 1., 1., 1., 1.])"
      ]
     },
     "execution_count": 156,
     "metadata": {},
     "output_type": "execute_result"
    }
   ],
   "source": [
    "import torch\n",
    "torch.ones(1000)"
   ]
  },
  {
   "cell_type": "code",
   "execution_count": null,
   "id": "1b4fd95e-e5ef-44c7-a556-041044c81361",
   "metadata": {},
   "outputs": [],
   "source": []
  }
 ],
 "metadata": {
  "kernelspec": {
   "display_name": "Django Shell-Plus",
   "language": "python",
   "name": "django_extensions"
  },
  "language_info": {
   "codemirror_mode": {
    "name": "ipython",
    "version": 3
   },
   "file_extension": ".py",
   "mimetype": "text/x-python",
   "name": "python",
   "nbconvert_exporter": "python",
   "pygments_lexer": "ipython3",
   "version": "3.8.2"
  }
 },
 "nbformat": 4,
 "nbformat_minor": 5
}
