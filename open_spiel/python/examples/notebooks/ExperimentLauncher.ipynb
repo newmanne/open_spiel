{
 "cells": [
  {
   "cell_type": "code",
   "execution_count": 2,
   "id": "53d1f915-16a6-42e9-b93a-3f44564ef069",
   "metadata": {},
   "outputs": [
    {
     "name": "stdout",
     "output_type": "stream",
     "text": [
      "%pylab is deprecated, use %matplotlib inline and import the required libraries.\n",
      "Populating the interactive namespace from numpy and matplotlib\n"
     ]
    }
   ],
   "source": [
    "%load_ext autoreload\n",
    "%autoreload 2\n",
    "%pylab inline\n",
    "\n",
    "import sys\n",
    "import glob\n",
    "import pandas as pd\n",
    "import os\n",
    "import seaborn as sns\n",
    "from tqdm import tqdm_notebook as tqdm\n",
    "from statsmodels.distributions.empirical_distribution import ECDF\n",
    "from collections import defaultdict\n",
    "import open_spiel.python.examples.ubc_dispatch as dispatch\n",
    "import os\n",
    "os.environ[\"DJANGO_ALLOW_ASYNC_UNSAFE\"] = \"true\"\n"
   ]
  },
  {
   "cell_type": "code",
   "execution_count": 8,
   "id": "eafabe34-690b-4655-8a41-7ad23360ecc8",
   "metadata": {},
   "outputs": [
    {
     "name": "stdout",
     "output_type": "stream",
     "text": [
      "Submitted batch job 3983\n",
      "Submitted batch job 3984\n",
      "Submitted batch job 3985\n",
      "Submitted batch job 3986\n",
      "Submitted batch job 3987\n",
      "Submitted batch job 3988\n",
      "Submitted batch job 3989\n",
      "Submitted batch job 3990\n",
      "Submitted batch job 3991\n",
      "Submitted batch job 3992\n"
     ]
    }
   ],
   "source": [
    "overrides = f'--br_portfolio_path feb22 --eval_every 1_000_000 --num_training_episodes 10_000_000 --br_overrides \"--num_training_episodes 1_000_000\"'\n",
    "# dispatch.dispatch_experiments('feb22', base_job_name='infocompare', game_name='large_game_2', overrides = overrides, n_seeds=10)\n",
    "dispatch.dispatch_experiments('feb22', base_job_name='infocompare', game_name='large_game_2_hide', overrides = overrides, n_seeds=10)"
   ]
  },
  {
   "cell_type": "code",
   "execution_count": 19,
   "id": "9d200227-7a69-417a-be93-58c262f123b9",
   "metadata": {},
   "outputs": [],
   "source": [
    "# !squeue --format=\"%.18i %.65j %.2t %.10M %.6D %R\" | grep \"_mlp  R\" | awk '{print $1}' | xargs scancel"
   ]
  },
  {
   "cell_type": "code",
   "execution_count": 12,
   "id": "1517f441-4c4c-47fe-9dcb-2ae7cebca8c2",
   "metadata": {},
   "outputs": [
    {
     "name": "stdout",
     "output_type": "stream",
     "text": [
      "             JOBID                                                              NAME ST       TIME  NODES NODELIST(REASON)\n",
      "              3984                        large_game_2_hide-feb22mlp-101_infocompare  R   19:34:34      1 ip-10-255-7-17\n",
      "              3985                        large_game_2_hide-feb22mlp-102_infocompare  R   19:34:34      1 ip-10-255-7-63\n",
      "              3986                        large_game_2_hide-feb22mlp-103_infocompare  R   19:34:34      1 ip-10-255-7-80\n",
      "              3987                        large_game_2_hide-feb22mlp-104_infocompare  R   19:34:34      1 ip-10-255-7-81\n",
      "              3988                        large_game_2_hide-feb22mlp-105_infocompare  R   19:34:34      1 ip-10-255-7-96\n",
      "              3989                        large_game_2_hide-feb22mlp-106_infocompare  R   19:34:34      1 ip-10-255-7-101\n",
      "              3990                        large_game_2_hide-feb22mlp-107_infocompare  R   19:34:34      1 ip-10-255-7-106\n",
      "              3991                        large_game_2_hide-feb22mlp-108_infocompare  R   19:34:34      1 ip-10-255-7-114\n",
      "              3992                        large_game_2_hide-feb22mlp-109_infocompare  R   19:34:34      1 ip-10-255-7-124\n",
      "              4644 br_0_infocompare_large_game_2_hide-feb22mlp-101_9000000_feb22_mlp  R      45:45      1 ip-10-255-7-115\n",
      "              4646 br_1_infocompare_large_game_2_hide-feb22mlp-101_9000000_feb22_mlp  R      42:55      1 ip-10-255-7-7\n",
      "              4655 br_0_infocompare_large_game_2_hide-feb22mlp-105_9000000_feb22_mlp  R      20:52      1 ip-10-255-7-45\n",
      "              4657 br_1_infocompare_large_game_2_hide-feb22mlp-105_9000000_feb22_mlp  R      20:52      1 ip-10-255-7-23\n",
      "              4667 eval_large_game_2_hide-feb22mlp-102_9000000_infocompare_feb22mlp_  R       1:16      1 ip-10-255-7-20\n"
     ]
    }
   ],
   "source": [
    "!squeue --format=\"%.18i %.65j %.2t %.10M %.6D %R\""
   ]
  },
  {
   "cell_type": "code",
   "execution_count": 79,
   "id": "a8ee533f-357a-4bbc-956e-1cf136ef9266",
   "metadata": {},
   "outputs": [],
   "source": [
    "# !scancel 5306 5307"
   ]
  },
  {
   "cell_type": "code",
   "execution_count": null,
   "id": "c26b508d-9ee0-4878-9aa1-68c611ab651a",
   "metadata": {},
   "outputs": [],
   "source": [
    "!scancel -u ubuntu"
   ]
  },
  {
   "cell_type": "code",
   "execution_count": 112,
   "id": "3aeeeeb6-6c6f-4e37-9566-3eb8d73d97d5",
   "metadata": {},
   "outputs": [
    {
     "name": "stdout",
     "output_type": "stream",
     "text": [
      "Submitted batch job 2422\n",
      "Submitted batch job 2423\n"
     ]
    }
   ],
   "source": [
    "!rm -rf /shared/outputs/minitest/\n",
    "try:\n",
    "    Experiment.objects.get(name='minitest').delete()\n",
    "except:\n",
    "    pass\n",
    "dispatch.dispatch_experiments('feb2', base_job_name='minitest', game_name='tiny', overrides = '--br_portfolio_path feb2 --eval_every 500 --num_training_episodes 1_000 --br_overrides \"--num_training_episodes 1_000\" --eval_overrides \"--num_samples 100\"')"
   ]
  },
  {
   "cell_type": "code",
   "execution_count": null,
   "id": "d4ca4c72-ce03-4d1a-8e9d-1abd642e8407",
   "metadata": {},
   "outputs": [],
   "source": []
  }
 ],
 "metadata": {
  "kernelspec": {
   "display_name": "Django Shell-Plus",
   "language": "python",
   "name": "django_extensions"
  },
  "language_info": {
   "codemirror_mode": {
    "name": "ipython",
    "version": 3
   },
   "file_extension": ".py",
   "mimetype": "text/x-python",
   "name": "python",
   "nbconvert_exporter": "python",
   "pygments_lexer": "ipython3",
   "version": "3.8.2"
  }
 },
 "nbformat": 4,
 "nbformat_minor": 5
}
