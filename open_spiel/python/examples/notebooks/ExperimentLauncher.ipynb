{
 "cells": [
  {
   "cell_type": "code",
   "execution_count": 3,
   "id": "53d1f915-16a6-42e9-b93a-3f44564ef069",
   "metadata": {},
   "outputs": [
    {
     "name": "stdout",
     "output_type": "stream",
     "text": [
      "Populating the interactive namespace from numpy and matplotlib\n"
     ]
    }
   ],
   "source": [
    "%load_ext autoreload\n",
    "%autoreload 2\n",
    "%pylab inline\n",
    "\n",
    "import sys\n",
    "import glob\n",
    "import pandas as pd\n",
    "import os\n",
    "import seaborn as sns\n",
    "from tqdm import tqdm_notebook as tqdm\n",
    "from statsmodels.distributions.empirical_distribution import ECDF\n",
    "from collections import defaultdict\n",
    "import open_spiel.python.examples.ubc_dispatch as dispatch"
   ]
  },
  {
   "cell_type": "code",
   "execution_count": 108,
   "id": "e2599673-955f-4f26-8d07-ef991fb4884d",
   "metadata": {},
   "outputs": [
    {
     "name": "stdout",
     "output_type": "stream",
     "text": [
      "Dispatched 10 experiments!\n"
     ]
    }
   ],
   "source": [
    "overrides = '--num_training_episodes 3_000_000 --eval_every 300_000 --br_overrides \"--num_training_episodes 1_000_000\"' \n",
    "CONFIG_DIR = '/apps/open_spiel/open_spiel/python/examples/notebooks/dec7'\n",
    "# dispatch.dispatch_experiments(CONFIG_DIR, overrides=overrides, game_name='parameters2', cfr_also=True)\n",
    "# dispatch.dispatch_experiments(CONFIG_DIR, overrides=overrides, game_name='signal', cfr_also=True)\n",
    "dispatch.dispatch_experiments(CONFIG_DIR, overrides=overrides, game_name='big_game_2', base_job_name='dec9_big_game_2', cfr_also=False)"
   ]
  },
  {
   "cell_type": "code",
   "execution_count": 104,
   "id": "016fe946-c13f-4249-b29d-81aaf85ba589",
   "metadata": {},
   "outputs": [
    {
     "name": "stdout",
     "output_type": "stream",
     "text": [
      "Dispatched 10 experiments!\n"
     ]
    }
   ],
   "source": [
    "# overrides = '--num_training_episodes 1000 --eval_every 300_000 --br_overrides \"--num_training_episodes 500\" --eval_overrides \"--num_samples 500\"'\n",
    "# CONFIG_DIR = '/apps/open_spiel/open_spiel/python/examples/notebooks/dec7'\n",
    "# # dispatch.dispatch_experiments(CONFIG_DIR, overrides=overrides, game_name='parameters2', cfr_also=True)\n",
    "# # dispatch.dispatch_experiments(CONFIG_DIR, overrides=overrides, game_name='signal', cfr_also=True)\n",
    "# dispatch.dispatch_experiments(CONFIG_DIR, overrides=overrides, game_name='big_game_2', base_job_name='dec9_big_game_2', cfr_also=False)"
   ]
  },
  {
   "cell_type": "code",
   "execution_count": 112,
   "id": "1517f441-4c4c-47fe-9dcb-2ae7cebca8c2",
   "metadata": {},
   "outputs": [
    {
     "name": "stdout",
     "output_type": "stream",
     "text": [
      "             JOBID                                     NAME ST       TIME  NODES NODELIST(REASON)\n",
      "              1044                 gru_deep_dec9_big_game_2 PD       0:00      1 (Resources)\n",
      "              1045                lstm_deep_dec9_big_game_2 PD       0:00      1 (Priority)\n",
      "              1046                      gru_dec9_big_game_2 PD       0:00      1 (Priority)\n",
      "              1047                 rnn_deep_dec9_big_game_2 PD       0:00      1 (Priority)\n",
      "              1048                rnn_small_dec9_big_game_2 PD       0:00      1 (Priority)\n",
      "              1049               lstm_small_dec9_big_game_2 PD       0:00      1 (Priority)\n",
      "              1050                     lstm_dec9_big_game_2 PD       0:00      1 (Priority)\n",
      "              1051       lstm_deep_weighted_dec9_big_game_2 PD       0:00      1 (Priority)\n",
      "              1042                      rnn_dec9_big_game_2  R       3:04      1 ip-10-255-2-106\n",
      "              1043                gru_small_dec9_big_game_2  R       3:04      1 ip-10-255-2-106\n"
     ]
    }
   ],
   "source": [
    "!squeue --format=\"%.18i %.40j %.2t %.10M %.6D %R\""
   ]
  },
  {
   "cell_type": "code",
   "execution_count": 92,
   "id": "c26b508d-9ee0-4878-9aa1-68c611ab651a",
   "metadata": {},
   "outputs": [],
   "source": [
    "!scancel -u ubuntu"
   ]
  },
  {
   "cell_type": "code",
   "execution_count": 10,
   "id": "9f50d0b7-d85f-401c-9105-17caa7085546",
   "metadata": {},
   "outputs": [
    {
     "name": "stdout",
     "output_type": "stream",
     "text": [
      "Dispatched experiment!\n"
     ]
    }
   ],
   "source": [
    "dispatch.dispatch_br('/shared/outputs/dec7_big_game_2/lstm_deep', player=1)"
   ]
  },
  {
   "cell_type": "code",
   "execution_count": 9,
   "id": "69cc659c-8d40-4bfb-8242-7173a35343de",
   "metadata": {},
   "outputs": [
    {
     "name": "stdout",
     "output_type": "stream",
     "text": [
      "Dispatched experiment!\n"
     ]
    }
   ],
   "source": [
    "dispatch.dispatch_eval('/shared/outputs/dec7_big_game_2/lstm_deep')"
   ]
  },
  {
   "cell_type": "code",
   "execution_count": 11,
   "id": "a3f57901-b39c-41fb-899d-0c46173c0b5d",
   "metadata": {},
   "outputs": [
    {
     "name": "stdout",
     "output_type": "stream",
     "text": [
      "/bin/bash: sq: command not found\n"
     ]
    }
   ],
   "source": []
  },
  {
   "cell_type": "code",
   "execution_count": 72,
   "id": "b42a51c2-ba7d-4977-899b-89361149f8f4",
   "metadata": {},
   "outputs": [],
   "source": [
    "from open_spiel.python.examples.ubc_br import BR_DIR\n"
   ]
  },
  {
   "cell_type": "code",
   "execution_count": null,
   "id": "98b6ac93-3b6c-4d64-926c-200f36fda773",
   "metadata": {},
   "outputs": [],
   "source": []
  }
 ],
 "metadata": {
  "kernelspec": {
   "display_name": "Python 3",
   "language": "python",
   "name": "python3"
  },
  "language_info": {
   "codemirror_mode": {
    "name": "ipython",
    "version": 3
   },
   "file_extension": ".py",
   "mimetype": "text/x-python",
   "name": "python",
   "nbconvert_exporter": "python",
   "pygments_lexer": "ipython3",
   "version": "3.6.9"
  }
 },
 "nbformat": 4,
 "nbformat_minor": 5
}
