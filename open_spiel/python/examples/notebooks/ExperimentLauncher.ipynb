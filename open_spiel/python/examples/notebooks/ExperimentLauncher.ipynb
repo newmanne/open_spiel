{
 "cells": [
  {
   "cell_type": "code",
   "execution_count": 109,
   "id": "53d1f915-16a6-42e9-b93a-3f44564ef069",
   "metadata": {},
   "outputs": [
    {
     "name": "stdout",
     "output_type": "stream",
     "text": [
      "The autoreload extension is already loaded. To reload it, use:\n",
      "  %reload_ext autoreload\n",
      "%pylab is deprecated, use %matplotlib inline and import the required libraries.\n",
      "Populating the interactive namespace from numpy and matplotlib\n"
     ]
    }
   ],
   "source": [
    "%load_ext autoreload\n",
    "%autoreload 2\n",
    "%pylab inline\n",
    "\n",
    "import sys\n",
    "import glob\n",
    "import pandas as pd\n",
    "import os\n",
    "import seaborn as sns\n",
    "from tqdm import tqdm_notebook as tqdm\n",
    "from statsmodels.distributions.empirical_distribution import ECDF\n",
    "from collections import defaultdict\n",
    "import open_spiel.python.examples.ubc_dispatch as dispatch\n",
    "import os\n",
    "os.environ[\"DJANGO_ALLOW_ASYNC_UNSAFE\"] = \"true\"\n"
   ]
  },
  {
   "cell_type": "code",
   "execution_count": 130,
   "id": "9eb6d795-0019-4fcf-a0ac-53e69baf2ce8",
   "metadata": {},
   "outputs": [
    {
     "data": {
      "text/plain": [
       "(4,\n",
       " {'auctions.BestResponse': 1,\n",
       "  'auctions.EquilibriumSolverRunCheckpoint': 1,\n",
       "  'auctions.EquilibriumSolverRun': 1,\n",
       "  'auctions.Experiment': 1})"
      ]
     },
     "execution_count": 130,
     "metadata": {},
     "output_type": "execute_result"
    }
   ],
   "source": [
    "Experiment.objects.get(name='sats_games').delete()"
   ]
  },
  {
   "cell_type": "code",
   "execution_count": 122,
   "id": "332e41bc-15e4-445d-9c0a-2967c7c907b8",
   "metadata": {},
   "outputs": [
    {
     "data": {
      "text/plain": [
       "['sats_50', 'sats_5', 'sats_10', 'sats_100', 'sats_20']"
      ]
     },
     "execution_count": 122,
     "metadata": {},
     "output_type": "execute_result"
    }
   ],
   "source": [
    "game_dir = os.environ[\"CLOCK_AUCTION_CONFIG_DIR\"]\n",
    "sats_games = [os.path.basename(x).replace('.json','') for x in glob.glob(f'{game_dir}/sats*')]\n",
    "sats_games"
   ]
  },
  {
   "cell_type": "code",
   "execution_count": 123,
   "id": "797f2f6e-14f5-4fd5-b926-3504b729bc5c",
   "metadata": {},
   "outputs": [
    {
     "name": "stdout",
     "output_type": "stream",
     "text": [
      "Submitted batch job 29559\n",
      "Submitted batch job 29560\n",
      "Submitted batch job 29561\n",
      "Submitted batch job 29562\n",
      "Submitted batch job 29563\n",
      "Submitted batch job 29564\n",
      "Submitted batch job 29565\n",
      "Submitted batch job 29566\n",
      "Submitted batch job 29567\n",
      "Submitted batch job 29568\n",
      "Submitted batch job 29569\n",
      "Submitted batch job 29570\n",
      "Submitted batch job 29571\n",
      "Submitted batch job 29572\n",
      "Submitted batch job 29573\n"
     ]
    }
   ],
   "source": [
    "# SATS Games\n",
    "CONFIG = 'april12'\n",
    "N_SEEDS = 1\n",
    "overrides = f'--overwrite_db True --br_portfolio_path {CONFIG} --eval_every 1_000_000 --eval_zero true --num_training_episodes 10_000_000 --br_overrides \"--num_training_episodes 1_000_000\"'\n",
    "for GAME_NAME in sats_games:\n",
    "    dispatch.dispatch_experiments(CONFIG, base_job_name='sats_games', game_name=f'{GAME_NAME}', overrides = overrides, n_seeds=N_SEEDS)"
   ]
  },
  {
   "cell_type": "code",
   "execution_count": null,
   "id": "e2179215-a8af-4432-a7db-0144903c2bdc",
   "metadata": {},
   "outputs": [
    {
     "data": {
      "text/plain": [
       "['rw_game_3_settle',\n",
       " 'rw_game_2_war_95',\n",
       " 'rw_game_3_settle_hide',\n",
       " 'rw_game_2_war_hide',\n",
       " 'rw_game_2_war',\n",
       " 'rw_game_2_war_97',\n",
       " 'rw_game_2_settle',\n",
       " 'rw_game_2_settle_no_undersell',\n",
       " 'rw_game_2_war_99',\n",
       " 'rw_game_2_settle_hide',\n",
       " 'rw_game_3_settle_marginal']"
      ]
     },
     "execution_count": 115,
     "metadata": {},
     "output_type": "execute_result"
    }
   ],
   "source": [
    "# game_dir = os.environ[\"CLOCK_AUCTION_CONFIG_DIR\"]\n",
    "# albert_games = [os.path.basename(x).replace('.json','') for x in glob.glob(f'{game_dir}/rw*')]\n",
    "# albert_games"
   ]
  },
  {
   "cell_type": "code",
   "execution_count": 121,
   "id": "092dfe59-4885-4b18-bac4-b4b6036ea5d8",
   "metadata": {},
   "outputs": [
    {
     "name": "stdout",
     "output_type": "stream",
     "text": [
      "Submitted batch job 29214\n",
      "Submitted batch job 29215\n",
      "Submitted batch job 29216\n"
     ]
    }
   ],
   "source": [
    "# # Albert's games\n",
    "# CONFIG = 'april12'\n",
    "# N_SEEDS = 1\n",
    "# overrides = f'--overwrite_db True --br_portfolio_path {CONFIG} --eval_every 1_000_000 --eval_zero false --num_training_episodes 10_000_000 --br_overrides \"--num_training_episodes 1_000_000\" --random_ic true'\n",
    "# for GAME_NAME in albert_games:\n",
    "#     dispatch.dispatch_experiments(CONFIG, base_job_name='albert_games4', game_name=f'{GAME_NAME}', overrides = overrides, n_seeds=N_SEEDS)"
   ]
  },
  {
   "cell_type": "code",
   "execution_count": 56,
   "id": "d85ef383-869e-4533-a5f4-5e930243c7ef",
   "metadata": {},
   "outputs": [
    {
     "name": "stdout",
     "output_type": "stream",
     "text": [
      "Submitted batch job 24595\n",
      "Submitted batch job 24596\n",
      "Submitted batch job 24597\n",
      "Submitted batch job 24598\n",
      "Submitted batch job 24599\n",
      "Submitted batch job 24600\n"
     ]
    }
   ],
   "source": [
    "CONFIG = 'flatmlp'\n",
    "GAME_NAME = 'large_game_2'\n",
    "N_SEEDS = 1\n",
    "overrides = f'--overwrite_db True --br_portfolio_path flatmlp --eval_every 1_000_000 --eval_zero true --num_training_episodes 10_000_000 --br_overrides \"--num_training_episodes 1_000_000\"'\n",
    "dispatch.dispatch_experiments(CONFIG, base_job_name='april11_flattest_large_2', game_name=f'{GAME_NAME}', overrides = overrides, n_seeds=N_SEEDS)"
   ]
  },
  {
   "cell_type": "code",
   "execution_count": 67,
   "id": "48a4a759-38c6-4876-a965-b8cfff413329",
   "metadata": {},
   "outputs": [],
   "source": [
    "# CONFIG = 'flatmlp'\n",
    "# GAME_NAME = 'very_large_game_2'\n",
    "# N_SEEDS = 1\n",
    "# overrides = f'--overwrite_db True --br_portfolio_path flatmlp --eval_every 1_000_000 --eval_zero true --num_training_episodes 10_000_000 --br_overrides \"--num_training_episodes 1_000_000\"'\n",
    "# dispatch.dispatch_experiments(CONFIG, base_job_name='april11_flattest_very_large_2', game_name=f'{GAME_NAME}', overrides = overrides, n_seeds=N_SEEDS)"
   ]
  },
  {
   "cell_type": "code",
   "execution_count": null,
   "id": "d92ea616-82bb-4726-8f0d-1f7cda6ed24c",
   "metadata": {},
   "outputs": [],
   "source": [
    "CONFIG = 'mar17'\n",
    "GAME_NAME = 'large_game_2'\n",
    "N_SEEDS = 5\n",
    "overrides = f'--br_portfolio_path mar17 --eval_every 1_000_000 --num_training_episodes 10_000_000 --br_overrides \"--num_training_episodes 1_000_000\"'\n",
    "\n",
    "# Base\n",
    "dispatch.dispatch_experiments(CONFIG, base_job_name='mar24', game_name=f'{GAME_NAME}', overrides = overrides, n_seeds=N_SEEDS)\n",
    "\n",
    "# Hidden demands\n",
    "# dispatch.dispatch_experiments(CONFIG, base_job_name='mar19', game_name=f'{GAME_NAME}_hide', overrides = overrides, n_seeds=N_SEEDS)\n",
    "\n",
    "# Reserve prices\n",
    "# TODO: Holding off for now b/c rounds issue\n",
    "# dispatch.dispatch_experiments(CONFIG, base_job_name='mar19', game_name=f'{GAME_NAME}_low_reserve', overrides = overrides, n_seeds=N_SEEDS)\n",
    "# dispatch.dispatch_experiments(CONFIG, base_job_name='mar19', game_name=f'{GAME_NAME}_same_reserve', overrides = overrides, n_seeds=N_SEEDS)\n",
    "\n",
    "# Activity\n",
    "# dispatch.dispatch_experiments(CONFIG, base_job_name='mar19', game_name=f'{GAME_NAME}_no_activity', overrides = overrides, n_seeds=N_SEEDS)\n",
    "# Undersell\n",
    "# dispatch.dispatch_experiments(CONFIG, base_job_name='mar19', game_name=f'{GAME_NAME}_no_undersell', overrides = overrides, n_seeds=N_SEEDS)\n",
    "\n",
    "# Initial pricing experiment, on the base game\n",
    "dispatch.dispatch_experiments(CONFIG, base_job_name='mar24', game_name=f'{GAME_NAME}_pricing05', overrides = overrides, n_seeds=N_SEEDS)"
   ]
  },
  {
   "cell_type": "code",
   "execution_count": null,
   "id": "c6a00156-d311-45a7-bf9b-cf374c46b755",
   "metadata": {},
   "outputs": [],
   "source": [
    "CONFIG = 'mar17'\n",
    "GAME_NAME = 'large_game_3b'\n",
    "N_SEEDS = 5\n",
    "overrides = f'--br_portfolio_path mar17 --eval_every 1_000_000 --num_training_episodes 10_000_000 --br_overrides \"--num_training_episodes 1_000_000\"'\n",
    "\n",
    "# Base\n",
    "dispatch.dispatch_experiments(CONFIG, base_job_name='mar22_4', game_name=f'{GAME_NAME}', overrides = overrides, n_seeds=N_SEEDS)\n",
    "\n",
    "# Hidden demands\n",
    "dispatch.dispatch_experiments(CONFIG, base_job_name='mar22_4', game_name=f'{GAME_NAME}_hide', overrides = overrides, n_seeds=N_SEEDS)\n",
    "\n",
    "# Reserve prices\n",
    "# TODO: Holding off for now b/c rounds issue\n",
    "# dispatch.dispatch_experiments(CONFIG, base_job_name='mar19', game_name=f'{GAME_NAME}_low_reserve', overrides = overrides, n_seeds=N_SEEDS)\n",
    "# dispatch.dispatch_experiments(CONFIG, base_job_name='mar19', game_name=f'{GAME_NAME}_same_reserve', overrides = overrides, n_seeds=N_SEEDS)\n",
    "\n",
    "# Activity\n",
    "# dispatch.dispatch_experiments(CONFIG, base_job_name='mar19', game_name=f'{GAME_NAME}_no_activity', overrides = overrides, n_seeds=N_SEEDS)\n",
    "# Undersell\n",
    "# dispatch.dispatch_experiments(CONFIG, base_job_name='mar19', game_name=f'{GAME_NAME}_no_undersell', overrides = overrides, n_seeds=N_SEEDS)\n",
    "\n",
    "# Initial pricing experiment, on the base game\n",
    "dispatch.dispatch_experiments(CONFIG, base_job_name='mar22_4', game_name=f'{GAME_NAME}_pricing05', overrides = overrides, n_seeds=N_SEEDS)"
   ]
  },
  {
   "cell_type": "code",
   "execution_count": null,
   "id": "1242532a-9a66-4e43-a0e9-6b96639dbb3b",
   "metadata": {},
   "outputs": [],
   "source": [
    "pks = list(map(str, EquilibriumSolverRunCheckpoint.objects.filter(equilibrium_solver_run__experiment__name='infocompare4', equilibrium_solver_run__game__name='large_game_2.json', t=1e7, equilibrium_solver_run__name__contains='mlp').values_list('pk', flat=True)))\n",
    "CONFIG = 'feb22'\n",
    "GAME_NAME = 'large_game_2'\n",
    "N_SEEDS = 1\n",
    "overrides = f'--br_portfolio_path feb22 --eval_every 1_000_000 --num_training_episodes 10_000_000 --br_overrides \"--num_training_episodes 1_000_000\" --rnr_player 0 --rnr_checkpoints {\" \".join(pks)}'\n",
    "\n",
    "dispatch.dispatch_experiments(CONFIG, base_job_name='rnrtest', game_name=GAME_NAME, overrides = overrides, n_seeds=N_SEEDS)\n",
    "# # dispatch.dispatch_experiments('feb22', base_job_name='infocompare3', game_name='large_game_2_hide', overrides = overrides, n_seeds=5)\n",
    "\n",
    "# dispatch.dispatch_experiments('mar14', base_job_name='mar15_brier_lr', game_name='large_game_2', overrides = overrides, n_seeds=1)\n",
    "# dispatch.dispatch_experiments('mar10', base_job_name='switch_and_brier3', game_name='large_game_2_switch10', overrides = overrides, n_seeds=1)\n",
    "# dispatch.dispatch_experiments('feb22', base_job_name='switch_and_brier3_old_config', game_name='large_game_2_switch10', overrides = overrides, n_seeds=1)\n",
    "\n",
    "# dispatch.dispatch_experiments('feb22', base_job_name='mar14_very_large_game_2', game_name='very_large_game_2', overrides = overrides, n_seeds=1)\n",
    "# dispatch.dispatch_experiments('feb22', base_job_name='mar14_large_game_3', game_name='large_game_3', overrides = overrides, n_seeds=5)\n",
    "# dispatch.dispatch_experiments('feb22', base_job_name='mar14_large_game_3', game_name='large_game_3_hide', overrides = overrides, n_seeds=5)\n",
    "# dispatch.dispatch_experiments('feb22', base_job_name='tiny_game_Test', game_name='tiny', overrides = overrides, n_seeds=1)"
   ]
  },
  {
   "cell_type": "code",
   "execution_count": null,
   "id": "9d200227-7a69-417a-be93-58c262f123b9",
   "metadata": {},
   "outputs": [],
   "source": [
    "# !squeue --format=\"%.18i %.65j %.2t %.10M %.6D %R\" | grep \"rnrtest\" | awk '{print $1}' | xargs scancel"
   ]
  },
  {
   "cell_type": "code",
   "execution_count": 128,
   "id": "3e5c26b7-d158-4ece-a72a-c3b2fd47a56f",
   "metadata": {
    "tags": []
   },
   "outputs": [
    {
     "name": "stdout",
     "output_type": "stream",
     "text": [
      "squeue: error: Invalid job format specification: +\n",
      "             JOBID                                                                             NAME ST .%+.10M  NODES NODELIST(REASON)\n",
      "             29565                                                sats_10-april12mlp-100_sats_games PD .%+.10M      1 (Resources)\n",
      "             29566                                               sats_10-april12lstm-100_sats_games PD .%+.10M      1 (Priority)\n",
      "             29567                                   sats_10-april12flat_handcrafted-100_sats_games PD .%+.10M      1 (Priority)\n",
      "             29568                                               sats_100-april12mlp-100_sats_games PD .%+.10M      1 (Priority)\n",
      "             29569                                              sats_100-april12lstm-100_sats_games PD .%+.10M      1 (Priority)\n",
      "             29570                                  sats_100-april12flat_handcrafted-100_sats_games PD .%+.10M      1 (Priority)\n",
      "             29571                                                sats_20-april12mlp-100_sats_games PD .%+.10M      1 (Priority)\n",
      "             29572                                               sats_20-april12lstm-100_sats_games PD .%+.10M      1 (Priority)\n",
      "             29573                                   sats_20-april12flat_handcrafted-100_sats_games PD .%+.10M      1 (Priority)\n",
      "             28603                                    parking_war-april12lstm-100_random_ic_control  R .%+.10M      1 ip-10-255-7-96\n",
      "             28604                        parking_war-april12flat_handcrafted-100_random_ic_control  R .%+.10M      1 ip-10-255-7-101\n",
      "             28606                                            parking_war-april12lstm-100_random_ic  R .%+.10M      1 ip-10-255-7-6\n",
      "             28924                                   rw_game_2_war_95-april12lstm-100_albert_games3  R .%+.10M      1 ip-10-255-7-13\n",
      "             29214                                    rw_game_2_war_95-april12mlp-100_albert_games4  R .%+.10M      1 ip-10-255-7-4\n",
      "             29215                                   rw_game_2_war_95-april12lstm-100_albert_games4  R .%+.10M      1 ip-10-255-7-18\n",
      "             29216                       rw_game_2_war_95-april12flat_handcrafted-100_albert_games4  R .%+.10M      1 ip-10-255-7-19\n",
      "             29515          br_0_random_ic_control_parking_war-april12lstm-100_7000000_april12_lstm  R .%+.10M      1 ip-10-255-7-94\n",
      "             29517     eval_parking_war-april12lstm-100_7000000_random_ic_control_straightforward_0  R .%+.10M      1 ip-10-255-7-15\n",
      "             29519          br_1_random_ic_control_parking_war-april12lstm-100_7000000_april12_lstm  R .%+.10M      1 ip-10-255-7-91\n",
      "             29520 br_1_random_ic_control_parking_war-april12lstm-100_7000000_april12_flat_handcraf  R .%+.10M      1 ip-10-255-7-108\n",
      "             29521     eval_parking_war-april12lstm-100_7000000_random_ic_control_straightforward_1  R .%+.10M      1 ip-10-255-7-15\n",
      "             29523                   br_0_random_ic_parking_war-april12lstm-100_7000000_april12_mlp  R .%+.10M      1 ip-10-255-7-16\n",
      "             29524                  br_0_random_ic_parking_war-april12lstm-100_7000000_april12_lstm  R .%+.10M      1 ip-10-255-7-58\n",
      "             29525      br_0_random_ic_parking_war-april12lstm-100_7000000_april12_flat_handcrafted  R .%+.10M      1 ip-10-255-7-99\n",
      "             29526             eval_parking_war-april12lstm-100_7000000_random_ic_straightforward_0  R .%+.10M      1 ip-10-255-7-114\n",
      "             29527                   br_1_random_ic_parking_war-april12lstm-100_7000000_april12_mlp  R .%+.10M      1 ip-10-255-7-111\n",
      "             29528                  br_1_random_ic_parking_war-april12lstm-100_7000000_april12_lstm  R .%+.10M      1 ip-10-255-7-124\n",
      "             29529      br_1_random_ic_parking_war-april12lstm-100_7000000_april12_flat_handcrafted  R .%+.10M      1 ip-10-255-7-72\n",
      "             29531                               eval_parking_war-april12lstm-100_7000000_random_ic  R .%+.10M      1 ip-10-255-7-75\n",
      "             29533          br_0_albert_games4_rw_game_2_war_95-april12mlp-100_7000000_april12_lstm  R .%+.10M      1 ip-10-255-7-93\n",
      "             29534 br_0_albert_games4_rw_game_2_war_95-april12mlp-100_7000000_april12_flat_handcraf  R .%+.10M      1 ip-10-255-7-113\n",
      "             29535     eval_rw_game_2_war_95-april12mlp-100_7000000_albert_games4_straightforward_0  R .%+.10M      1 ip-10-255-7-75\n",
      "             29536           br_1_albert_games4_rw_game_2_war_95-april12mlp-100_7000000_april12_mlp  R .%+.10M      1 ip-10-255-7-10\n",
      "             29537          br_1_albert_games4_rw_game_2_war_95-april12mlp-100_7000000_april12_lstm  R .%+.10M      1 ip-10-255-7-12\n",
      "             29538 br_1_albert_games4_rw_game_2_war_95-april12mlp-100_7000000_april12_flat_handcraf  R .%+.10M      1 ip-10-255-7-85\n",
      "             29539     eval_rw_game_2_war_95-april12mlp-100_7000000_albert_games4_straightforward_1  R .%+.10M      1 ip-10-255-7-87\n",
      "             29540                       eval_rw_game_2_war_95-april12mlp-100_7000000_albert_games4  R .%+.10M      1 ip-10-255-7-87\n",
      "             29541 br_0_albert_games4_rw_game_2_war_95-april12flat_handcrafted-100_6000000_april12_  R .%+.10M      1 ip-10-255-7-23\n",
      "             29542 br_0_albert_games4_rw_game_2_war_95-april12flat_handcrafted-100_6000000_april12_  R .%+.10M      1 ip-10-255-7-57\n",
      "             29543 br_0_albert_games4_rw_game_2_war_95-april12flat_handcrafted-100_6000000_april12_  R .%+.10M      1 ip-10-255-7-59\n",
      "             29544 eval_rw_game_2_war_95-april12flat_handcrafted-100_6000000_albert_games4_straight  R .%+.10M      1 ip-10-255-7-74\n",
      "             29545 br_1_albert_games4_rw_game_2_war_95-april12flat_handcrafted-100_6000000_april12_  R .%+.10M      1 ip-10-255-7-86\n",
      "             29546 br_1_albert_games4_rw_game_2_war_95-april12flat_handcrafted-100_6000000_april12_  R .%+.10M      1 ip-10-255-7-112\n",
      "             29547 br_1_albert_games4_rw_game_2_war_95-april12flat_handcrafted-100_6000000_april12_  R .%+.10M      1 ip-10-255-7-65\n",
      "             29548 eval_rw_game_2_war_95-april12flat_handcrafted-100_6000000_albert_games4_straight  R .%+.10M      1 ip-10-255-7-74\n",
      "             29549          eval_rw_game_2_war_95-april12flat_handcrafted-100_6000000_albert_games4  R .%+.10M      1 ip-10-255-7-71\n",
      "             29550          br_0_albert_games4_rw_game_2_war_95-april12lstm-100_5000000_april12_mlp  R .%+.10M      1 ip-10-255-7-60\n",
      "             29551         br_0_albert_games4_rw_game_2_war_95-april12lstm-100_5000000_april12_lstm  R .%+.10M      1 ip-10-255-7-83\n",
      "             29552 br_0_albert_games4_rw_game_2_war_95-april12lstm-100_5000000_april12_flat_handcra  R .%+.10M      1 ip-10-255-7-33\n",
      "             29553    eval_rw_game_2_war_95-april12lstm-100_5000000_albert_games4_straightforward_0  R .%+.10M      1 ip-10-255-7-71\n",
      "             29554          br_1_albert_games4_rw_game_2_war_95-april12lstm-100_5000000_april12_mlp  R .%+.10M      1 ip-10-255-7-39\n",
      "             29555         br_1_albert_games4_rw_game_2_war_95-april12lstm-100_5000000_april12_lstm  R .%+.10M      1 ip-10-255-7-45\n",
      "             29556 br_1_albert_games4_rw_game_2_war_95-april12lstm-100_5000000_april12_flat_handcra  R .%+.10M      1 ip-10-255-7-46\n",
      "             29558                      eval_rw_game_2_war_95-april12lstm-100_5000000_albert_games4  R .%+.10M      1 ip-10-255-7-97\n",
      "             29562                                                 sats_5-april12mlp-100_sats_games  R .%+.10M      1 ip-10-255-7-54\n",
      "             29563                                                sats_5-april12lstm-100_sats_games  R .%+.10M      1 ip-10-255-7-78\n",
      "             29564                                    sats_5-april12flat_handcrafted-100_sats_games  R .%+.10M      1 ip-10-255-7-110\n"
     ]
    }
   ],
   "source": [
    "!squeue --format=\"%.18i %.80j %.2t .%+.10M %.6D %R\""
   ]
  },
  {
   "cell_type": "code",
   "execution_count": null,
   "id": "a8ee533f-357a-4bbc-956e-1cf136ef9266",
   "metadata": {},
   "outputs": [],
   "source": [
    "!squeue | wc -l"
   ]
  },
  {
   "cell_type": "code",
   "execution_count": 129,
   "id": "c26b508d-9ee0-4878-9aa1-68c611ab651a",
   "metadata": {},
   "outputs": [],
   "source": [
    "!scancel -u ubuntu"
   ]
  },
  {
   "cell_type": "code",
   "execution_count": 98,
   "id": "aee5cc7e-228c-4484-bb31-efb870f59efa",
   "metadata": {},
   "outputs": [],
   "source": [
    "# !scancel  25809"
   ]
  },
  {
   "cell_type": "code",
   "execution_count": null,
   "id": "3aeeeeb6-6c6f-4e37-9566-3eb8d73d97d5",
   "metadata": {},
   "outputs": [],
   "source": [
    "!rm -rf /shared/outputs/minitest/\n",
    "try:\n",
    "    Experiment.objects.get(name='minitest').delete()\n",
    "except:\n",
    "    pass\n",
    "dispatch.dispatch_experiments('feb2', base_job_name='minitest', game_name='tiny', overrides = '--br_portfolio_path feb2 --eval_every 500 --num_training_episodes 1_000 --br_overrides \"--num_training_episodes 1_000\" --eval_overrides \"--num_samples 100\"')"
   ]
  },
  {
   "cell_type": "code",
   "execution_count": null,
   "id": "d4ca4c72-ce03-4d1a-8e9d-1abd642e8407",
   "metadata": {},
   "outputs": [],
   "source": [
    "BestResponse.objects.last()"
   ]
  },
  {
   "cell_type": "code",
   "execution_count": null,
   "id": "da1b3451-a927-4467-a90d-077f2de61767",
   "metadata": {},
   "outputs": [],
   "source": [
    "Experiment.objects.all()"
   ]
  },
  {
   "cell_type": "code",
   "execution_count": null,
   "id": "0547418d-7d14-404e-ad7f-892180cd6e50",
   "metadata": {},
   "outputs": [],
   "source": [
    "!sacct --starttime 2022-03-11 --format=User,JobID,Jobname,partition,state,time,start,end,elapsed,MaxRss,MaxVMSize,nnodes,ncpus,nodelist"
   ]
  },
  {
   "cell_type": "code",
   "execution_count": null,
   "id": "7bc11eb7-da86-46db-9a6b-fe5ac595f1d6",
   "metadata": {},
   "outputs": [],
   "source": [
    "from open_spiel.python.examples.ubc_plotting_utils import parse_run\n",
    "from auctions.webutils import *\n",
    "\n",
    "def find_best_checkpoint(run, max_t=None):\n",
    "    ev_df = parse_run(run, max_t)\n",
    "    best_t = ev_df.groupby('t')['ApproxNashConv'].first().idxmin()\n",
    "    nash_conv_by_t = ev_df.groupby('t')['ApproxNashConv'].first()\n",
    "    best_checkpoint = get_checkpoint(run, t=best_t)\n",
    "    return nash_conv_by_t, best_checkpoint, nash_conv_by_t.min()\n",
    "\n",
    "\n",
    "run = EquilibriumSolverRun.objects.last()\n",
    "find_best_checkpoint(run)"
   ]
  },
  {
   "cell_type": "code",
   "execution_count": null,
   "id": "e9a3abf2-1dca-40a7-8c86-f558ac16c5c4",
   "metadata": {},
   "outputs": [],
   "source": [
    "Experiment.objects.get(name='large_game_2_no_activity.json').delete()"
   ]
  },
  {
   "cell_type": "code",
   "execution_count": null,
   "id": "f5184d7b-9f29-48aa-ae93-8920db084b8a",
   "metadata": {},
   "outputs": [],
   "source": [
    "Game.objects.get(name='large_game_2_pricing_extreme.json').delete()"
   ]
  },
  {
   "cell_type": "code",
   "execution_count": null,
   "id": "e706f461-6a88-4392-bfe4-6187661e1533",
   "metadata": {},
   "outputs": [],
   "source": [
    "!python /apps/open_spiel/web/auctions/manage.py nfsp --seed 109 --filename rounds.json --network_config_file mar17/lstm --experiment_name lstmtest --job_name \"lstm_for_greg\" --dispatch_br false --br_portfolio_path feb22 --eval_every 10_000 --num_training_episodes 10_000_000 --br_overrides \"--num_training_episodes 1_000_000\" --report_freq 10_000 --overwrite_db true"
   ]
  },
  {
   "cell_type": "code",
   "execution_count": null,
   "id": "f95b85fe-1070-463b-9b8c-3f3392d9f178",
   "metadata": {},
   "outputs": [],
   "source": [
    "list(Experiment.objects.all().values_list('name', flat=True))"
   ]
  },
  {
   "cell_type": "code",
   "execution_count": null,
   "id": "d371b8e4-55d3-4859-b28d-ff8ef2098380",
   "metadata": {},
   "outputs": [],
   "source": [
    "r = EquilibriumSolverRun.objects.get(name='large_game_3b_hide-mar17lstm-100')"
   ]
  },
  {
   "cell_type": "code",
   "execution_count": null,
   "id": "b3cdffb6-5085-4c1b-9d33-1b343934cbdb",
   "metadata": {},
   "outputs": [],
   "source": [
    "from auctions.webutils import *\n",
    "from open_spiel.python.examples.ubc_plotting_utils import *\n",
    "parse_run(r, conservative=False)"
   ]
  },
  {
   "cell_type": "code",
   "execution_count": null,
   "id": "733ad314-b27a-41d4-94d6-214cb903b5bd",
   "metadata": {},
   "outputs": [],
   "source": [
    "BREvaluation.objects.filter(best_response__checkpoint__equilibrium_solver_run=r)"
   ]
  },
  {
   "cell_type": "code",
   "execution_count": null,
   "id": "6cae40c6-7e65-4f2b-8233-3597d7096772",
   "metadata": {},
   "outputs": [],
   "source": [
    "list(BestResponse.objects.filter(checkpoint__equilibrium_solver_run=r).values('name'))"
   ]
  },
  {
   "cell_type": "code",
   "execution_count": null,
   "id": "6f8126fd-9169-41f8-85dc-1cc748b31578",
   "metadata": {},
   "outputs": [],
   "source": [
    "BestResponse.objects.filter(checkpoint=pk)[0].brevaluation.__dict__"
   ]
  },
  {
   "cell_type": "code",
   "execution_count": null,
   "id": "6bb37f06-5475-4c99-98db-bbf8f4385198",
   "metadata": {},
   "outputs": [],
   "source": [
    "from open_spiel.python.examples.ubc_plotting_utils import *\n",
    "parse_run(r, conservative=False)"
   ]
  },
  {
   "cell_type": "code",
   "execution_count": null,
   "id": "7a4a0414-e2de-4a61-84d7-128d9ec1605b",
   "metadata": {},
   "outputs": [],
   "source": [
    "BREvaluation.objects.filter(best_response__checkpoint__equilibrium_solver_run=r).values('best_response__name')"
   ]
  },
  {
   "cell_type": "code",
   "execution_count": null,
   "id": "18a64a9d-f0fd-4f83-a7a5-e4533efdef75",
   "metadata": {},
   "outputs": [],
   "source": [
    "BestResponse.objects.filter(checkpoint__equilibrium_solver_run=r).values('name')"
   ]
  },
  {
   "cell_type": "code",
   "execution_count": null,
   "id": "a3d30846-58d7-48ea-8c37-26a8e3ff3e4b",
   "metadata": {},
   "outputs": [],
   "source": [
    "experiments = ['mar24', 'mar22_4']\n",
    "all_scripts = []\n",
    "for e in experiments:\n",
    "    scripts = glob.glob(f'/shared/outputs/{e}/*/evaluations/*.sh')\n",
    "    scripts = [s for s in scripts if 'straightforward' not in s]\n",
    "    scripts = [s for s in scripts if s[-5:] == \"_2.sh\"]\n",
    "    all_scripts += scripts"
   ]
  },
  {
   "cell_type": "code",
   "execution_count": null,
   "id": "1add0f96-beb4-4aa2-b729-61c3d03e9746",
   "metadata": {},
   "outputs": [],
   "source": [
    "for script in all_scripts:\n",
    "    parent = Path(script).parent\n",
    "    !cd {parent} && sbatch {script}"
   ]
  },
  {
   "cell_type": "code",
   "execution_count": null,
   "id": "e19fcfab-57c4-4fea-bebc-a59ecde20baf",
   "metadata": {},
   "outputs": [],
   "source": [
    "x = Evaluation.objects.last()"
   ]
  },
  {
   "cell_type": "code",
   "execution_count": null,
   "id": "99f49bbf-6fcb-438a-a773-7dac9b989148",
   "metadata": {},
   "outputs": [],
   "source": [
    "x.samples['allocations']"
   ]
  },
  {
   "cell_type": "code",
   "execution_count": 17,
   "id": "d61d2c89-07b8-43c7-ba5d-f8bfcbce3496",
   "metadata": {},
   "outputs": [
    {
     "data": {
      "text/plain": [
       "<Evaluation: Evaluation for large_game_2-april1lstm-100 (april7_test_3) Iteration 1>"
      ]
     },
     "execution_count": 17,
     "metadata": {},
     "output_type": "execute_result"
    }
   ],
   "source": [
    "Evaluation.objects.last()"
   ]
  },
  {
   "cell_type": "code",
   "execution_count": 8,
   "id": "9be1d94a-3886-4c7e-9aec-74dd5ff08c0d",
   "metadata": {},
   "outputs": [],
   "source": [
    "import torch.nn.functional as F\n",
    "import torch\n",
    "x = torch.tensor([1,2,3])"
   ]
  },
  {
   "cell_type": "code",
   "execution_count": 15,
   "id": "f9ffdfc7-0d45-4213-91e2-4efb2759f568",
   "metadata": {},
   "outputs": [
    {
     "data": {
      "text/plain": [
       "tensor([1, 2, 3, 0, 0])"
      ]
     },
     "execution_count": 15,
     "metadata": {},
     "output_type": "execute_result"
    }
   ],
   "source": [
    "F.pad(x, (0, 2))"
   ]
  },
  {
   "cell_type": "code",
   "execution_count": null,
   "id": "1220a6ad-d54f-4259-8c48-12f7a6d7ced6",
   "metadata": {},
   "outputs": [],
   "source": [
    "torch.nn.functional.pad(input, pad, mode='constant', value=0.0)"
   ]
  },
  {
   "cell_type": "code",
   "execution_count": 89,
   "id": "32bbb5ea-b58a-4655-87ff-d0cf9a47876f",
   "metadata": {},
   "outputs": [],
   "source": [
    "x =np.array([[1,2,3],[4,5,6]])"
   ]
  },
  {
   "cell_type": "code",
   "execution_count": 90,
   "id": "19f4c3f8-975e-4a73-bb9d-83278298adf5",
   "metadata": {},
   "outputs": [
    {
     "data": {
      "text/plain": [
       "array([5, 7, 9])"
      ]
     },
     "execution_count": 90,
     "metadata": {},
     "output_type": "execute_result"
    }
   ],
   "source": [
    "x.sum(axis=0)"
   ]
  },
  {
   "cell_type": "code",
   "execution_count": 91,
   "id": "b42c3f97-59ef-405a-9d9a-901c8e194738",
   "metadata": {},
   "outputs": [
    {
     "data": {
      "text/plain": [
       "array([ 6, 15])"
      ]
     },
     "execution_count": 91,
     "metadata": {},
     "output_type": "execute_result"
    }
   ],
   "source": [
    "x.sum(axis=1)"
   ]
  },
  {
   "cell_type": "code",
   "execution_count": 92,
   "id": "80ea65a0-18d5-49e8-a18d-c04a39db4035",
   "metadata": {},
   "outputs": [
    {
     "ename": "AxisError",
     "evalue": "axis 1 is out of bounds for array of dimension 1",
     "output_type": "error",
     "traceback": [
      "\u001b[0;31m---------------------------------------------------------------------------\u001b[0m",
      "\u001b[0;31mAxisError\u001b[0m                                 Traceback (most recent call last)",
      "Input \u001b[0;32mIn [92]\u001b[0m, in \u001b[0;36m<module>\u001b[0;34m\u001b[0m\n\u001b[0;32m----> 1\u001b[0m \u001b[43mnp\u001b[49m\u001b[38;5;241;43m.\u001b[39;49m\u001b[43marray\u001b[49m\u001b[43m(\u001b[49m\u001b[43m[\u001b[49m\u001b[38;5;241;43m5\u001b[39;49m\u001b[43m,\u001b[49m\u001b[38;5;241;43m10\u001b[39;49m\u001b[43m]\u001b[49m\u001b[43m)\u001b[49m\u001b[38;5;241;43m.\u001b[39;49m\u001b[43msum\u001b[49m\u001b[43m(\u001b[49m\u001b[43maxis\u001b[49m\u001b[38;5;241;43m=\u001b[39;49m\u001b[38;5;241;43m1\u001b[39;49m\u001b[43m)\u001b[49m\n",
      "File \u001b[0;32m~/.pyenv/versions/3.8.2/envs/venv/lib/python3.8/site-packages/numpy/core/_methods.py:48\u001b[0m, in \u001b[0;36m_sum\u001b[0;34m(a, axis, dtype, out, keepdims, initial, where)\u001b[0m\n\u001b[1;32m     46\u001b[0m \u001b[38;5;28;01mdef\u001b[39;00m \u001b[38;5;21m_sum\u001b[39m(a, axis\u001b[38;5;241m=\u001b[39m\u001b[38;5;28;01mNone\u001b[39;00m, dtype\u001b[38;5;241m=\u001b[39m\u001b[38;5;28;01mNone\u001b[39;00m, out\u001b[38;5;241m=\u001b[39m\u001b[38;5;28;01mNone\u001b[39;00m, keepdims\u001b[38;5;241m=\u001b[39m\u001b[38;5;28;01mFalse\u001b[39;00m,\n\u001b[1;32m     47\u001b[0m          initial\u001b[38;5;241m=\u001b[39m_NoValue, where\u001b[38;5;241m=\u001b[39m\u001b[38;5;28;01mTrue\u001b[39;00m):\n\u001b[0;32m---> 48\u001b[0m     \u001b[38;5;28;01mreturn\u001b[39;00m \u001b[43mumr_sum\u001b[49m\u001b[43m(\u001b[49m\u001b[43ma\u001b[49m\u001b[43m,\u001b[49m\u001b[43m \u001b[49m\u001b[43maxis\u001b[49m\u001b[43m,\u001b[49m\u001b[43m \u001b[49m\u001b[43mdtype\u001b[49m\u001b[43m,\u001b[49m\u001b[43m \u001b[49m\u001b[43mout\u001b[49m\u001b[43m,\u001b[49m\u001b[43m \u001b[49m\u001b[43mkeepdims\u001b[49m\u001b[43m,\u001b[49m\u001b[43m \u001b[49m\u001b[43minitial\u001b[49m\u001b[43m,\u001b[49m\u001b[43m \u001b[49m\u001b[43mwhere\u001b[49m\u001b[43m)\u001b[49m\n",
      "\u001b[0;31mAxisError\u001b[0m: axis 1 is out of bounds for array of dimension 1"
     ]
    }
   ],
   "source": [
    "np.array([5,10]).sum(axis=1)"
   ]
  },
  {
   "cell_type": "code",
   "execution_count": null,
   "id": "b745d521-0b5b-4c8a-bfb4-3f6ad0f4c107",
   "metadata": {},
   "outputs": [],
   "source": []
  }
 ],
 "metadata": {
  "kernelspec": {
   "display_name": "Django Shell-Plus",
   "language": "python",
   "name": "django_extensions"
  },
  "language_info": {
   "codemirror_mode": {
    "name": "ipython",
    "version": 3
   },
   "file_extension": ".py",
   "mimetype": "text/x-python",
   "name": "python",
   "nbconvert_exporter": "python",
   "pygments_lexer": "ipython3",
   "version": "3.8.2"
  }
 },
 "nbformat": 4,
 "nbformat_minor": 5
}
