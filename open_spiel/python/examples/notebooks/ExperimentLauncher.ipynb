{
 "cells": [
  {
   "cell_type": "code",
   "execution_count": 3,
   "id": "53d1f915-16a6-42e9-b93a-3f44564ef069",
   "metadata": {},
   "outputs": [
    {
     "name": "stdout",
     "output_type": "stream",
     "text": [
      "The autoreload extension is already loaded. To reload it, use:\n",
      "  %reload_ext autoreload\n",
      "%pylab is deprecated, use %matplotlib inline and import the required libraries.\n",
      "Populating the interactive namespace from numpy and matplotlib\n"
     ]
    }
   ],
   "source": [
    "%load_ext autoreload\n",
    "%autoreload 2\n",
    "%pylab inline\n",
    "\n",
    "import sys\n",
    "import glob\n",
    "import pandas as pd\n",
    "import os\n",
    "import seaborn as sns\n",
    "from tqdm import tqdm_notebook as tqdm\n",
    "from statsmodels.distributions.empirical_distribution import ECDF\n",
    "from collections import defaultdict\n",
    "import open_spiel.python.examples.ubc_dispatch as dispatch\n",
    "import os\n",
    "os.environ[\"DJANGO_ALLOW_ASYNC_UNSAFE\"] = \"true\"\n"
   ]
  },
  {
   "cell_type": "code",
   "execution_count": 4,
   "id": "eafabe34-690b-4655-8a41-7ad23360ecc8",
   "metadata": {},
   "outputs": [
    {
     "name": "stdout",
     "output_type": "stream",
     "text": [
      "Submitted batch job 7014\n",
      "Submitted batch job 7015\n",
      "Submitted batch job 7016\n",
      "Submitted batch job 7017\n",
      "Submitted batch job 7018\n",
      "Submitted batch job 7019\n",
      "Submitted batch job 7020\n",
      "Submitted batch job 7021\n",
      "Submitted batch job 7022\n",
      "Submitted batch job 7023\n",
      "Submitted batch job 7024\n",
      "Submitted batch job 7025\n",
      "Submitted batch job 7026\n",
      "Submitted batch job 7027\n",
      "Submitted batch job 7028\n",
      "Submitted batch job 7029\n",
      "Submitted batch job 7030\n",
      "Submitted batch job 7031\n",
      "Submitted batch job 7032\n",
      "Submitted batch job 7033\n",
      "Submitted batch job 7034\n",
      "Submitted batch job 7035\n",
      "Submitted batch job 7036\n",
      "Submitted batch job 7037\n",
      "Submitted batch job 7038\n",
      "Submitted batch job 7039\n",
      "Submitted batch job 7040\n",
      "Submitted batch job 7041\n",
      "Submitted batch job 7042\n",
      "Submitted batch job 7043\n"
     ]
    }
   ],
   "source": [
    "overrides = f'--br_portfolio_path feb22 --eval_every 1_000_000 --num_training_episodes 10_000_000 --br_overrides \"--num_training_episodes 1_000_000\"'\n",
    "dispatch.dispatch_experiments('feb22', base_job_name='infocompare2', game_name='large_game_2', overrides = overrides, n_seeds=10)\n",
    "dispatch.dispatch_experiments('feb22', base_job_name='infocompare2', game_name='large_game_2_hide', overrides = overrides, n_seeds=10)\n",
    "\n",
    "\n",
    "# TODO: RL Learning rate issues???\n",
    "dispatch.dispatch_experiments('feb22', base_job_name='mar10_very_large_game', game_name='very_large_game_2', overrides = overrides, n_seeds=5)\n",
    "dispatch.dispatch_experiments('feb22', base_job_name='mar10_large_game_3', game_name='large_game_3', overrides = overrides, n_seeds=5)\n",
    "# dispatch.dispatch_experiments('feb22', base_job_name='tiny_game_Test', game_name='tiny', overrides = overrides, n_seeds=1)"
   ]
  },
  {
   "cell_type": "code",
   "execution_count": null,
   "id": "9d200227-7a69-417a-be93-58c262f123b9",
   "metadata": {},
   "outputs": [],
   "source": [
    "# !squeue --format=\"%.18i %.65j %.2t %.10M %.6D %R\" | grep \"_mlp  R\" | awk '{print $1}' | xargs scancel"
   ]
  },
  {
   "cell_type": "code",
   "execution_count": 18,
   "id": "1517f441-4c4c-47fe-9dcb-2ae7cebca8c2",
   "metadata": {},
   "outputs": [
    {
     "name": "stdout",
     "output_type": "stream",
     "text": [
      "             JOBID                                                              NAME ST       TIME  NODES NODELIST(REASON)\n",
      "              7014                            large_game_2-feb22mlp-100_infocompare2  R   20:08:32      1 ip-10-255-7-72\n",
      "              7015                            large_game_2-feb22mlp-101_infocompare2  R   20:05:58      1 ip-10-255-7-66\n",
      "              7016                            large_game_2-feb22mlp-102_infocompare2  R   20:05:58      1 ip-10-255-7-83\n",
      "              7019                            large_game_2-feb22mlp-105_infocompare2  R   20:05:58      1 ip-10-255-7-113\n",
      "              7022                            large_game_2-feb22mlp-108_infocompare2  R   20:05:33      1 ip-10-255-7-67\n",
      "              7023                            large_game_2-feb22mlp-109_infocompare2  R   20:05:33      1 ip-10-255-7-80\n",
      "              7024                       large_game_2_hide-feb22mlp-100_infocompare2  R   20:05:33      1 ip-10-255-7-115\n",
      "              7025                       large_game_2_hide-feb22mlp-101_infocompare2  R   20:05:33      1 ip-10-255-7-88\n",
      "              7026                       large_game_2_hide-feb22mlp-102_infocompare2  R   20:05:33      1 ip-10-255-7-90\n",
      "              7027                       large_game_2_hide-feb22mlp-103_infocompare2  R   20:05:33      1 ip-10-255-7-104\n",
      "              7028                       large_game_2_hide-feb22mlp-104_infocompare2  R   20:05:33      1 ip-10-255-7-105\n",
      "              7030                       large_game_2_hide-feb22mlp-106_infocompare2  R   20:05:33      1 ip-10-255-7-122\n",
      "              7031                       large_game_2_hide-feb22mlp-107_infocompare2  R   20:05:33      1 ip-10-255-7-124\n",
      "              7032                       large_game_2_hide-feb22mlp-108_infocompare2  R   20:05:33      1 ip-10-255-7-10\n",
      "              7033                       large_game_2_hide-feb22mlp-109_infocompare2  R   20:05:33      1 ip-10-255-7-16\n",
      "              7036              very_large_game_2-feb22mlp-102_mar10_very_large_game  R   20:05:33      1 ip-10-255-7-26\n"
     ]
    }
   ],
   "source": [
    "!squeue --format=\"%.18i %.65j %.2t %.10M %.6D %R\""
   ]
  },
  {
   "cell_type": "code",
   "execution_count": null,
   "id": "a8ee533f-357a-4bbc-956e-1cf136ef9266",
   "metadata": {},
   "outputs": [],
   "source": [
    "# !scancel 5306 5307"
   ]
  },
  {
   "cell_type": "code",
   "execution_count": null,
   "id": "c26b508d-9ee0-4878-9aa1-68c611ab651a",
   "metadata": {},
   "outputs": [],
   "source": [
    "!scancel -u ubuntu"
   ]
  },
  {
   "cell_type": "code",
   "execution_count": null,
   "id": "3aeeeeb6-6c6f-4e37-9566-3eb8d73d97d5",
   "metadata": {},
   "outputs": [],
   "source": [
    "!rm -rf /shared/outputs/minitest/\n",
    "try:\n",
    "    Experiment.objects.get(name='minitest').delete()\n",
    "except:\n",
    "    pass\n",
    "dispatch.dispatch_experiments('feb2', base_job_name='minitest', game_name='tiny', overrides = '--br_portfolio_path feb2 --eval_every 500 --num_training_episodes 1_000 --br_overrides \"--num_training_episodes 1_000\" --eval_overrides \"--num_samples 100\"')"
   ]
  },
  {
   "cell_type": "code",
   "execution_count": null,
   "id": "d4ca4c72-ce03-4d1a-8e9d-1abd642e8407",
   "metadata": {},
   "outputs": [],
   "source": [
    "BestResponse.objects.last()"
   ]
  },
  {
   "cell_type": "code",
   "execution_count": null,
   "id": "da1b3451-a927-4467-a90d-077f2de61767",
   "metadata": {},
   "outputs": [],
   "source": [
    "Experiment.objects.all()"
   ]
  },
  {
   "cell_type": "code",
   "execution_count": null,
   "id": "0547418d-7d14-404e-ad7f-892180cd6e50",
   "metadata": {},
   "outputs": [],
   "source": []
  }
 ],
 "metadata": {
  "kernelspec": {
   "display_name": "Django Shell-Plus",
   "language": "python",
   "name": "django_extensions"
  },
  "language_info": {
   "codemirror_mode": {
    "name": "ipython",
    "version": 3
   },
   "file_extension": ".py",
   "mimetype": "text/x-python",
   "name": "python",
   "nbconvert_exporter": "python",
   "pygments_lexer": "ipython3",
   "version": "3.8.2"
  }
 },
 "nbformat": 4,
 "nbformat_minor": 5
}
