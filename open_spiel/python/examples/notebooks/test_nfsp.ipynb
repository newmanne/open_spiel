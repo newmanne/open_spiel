{
 "cells": [
  {
   "cell_type": "code",
   "execution_count": 5,
   "id": "3bb6d298-db47-488d-bc2e-d3966b136d9b",
   "metadata": {},
   "outputs": [
    {
     "name": "stdout",
     "output_type": "stream",
     "text": [
      "The autoreload extension is already loaded. To reload it, use:\n",
      "  %reload_ext autoreload\n",
      "Populating the interactive namespace from numpy and matplotlib\n"
     ]
    }
   ],
   "source": [
    "%load_ext autoreload\n",
    "%autoreload 2\n",
    "%pylab inline\n",
    "\n",
    "import sys\n",
    "import glob\n",
    "import pandas as pd\n",
    "import os\n",
    "import seaborn as sns\n",
    "from tqdm import tqdm_notebook as tqdm\n",
    "from statsmodels.distributions.empirical_distribution import ECDF\n",
    "from collections import defaultdict\n",
    "import logging\n",
    "logging.basicConfig(format='%(asctime)s %(levelname)s:%(message)s', level=logging.DEBUG, datefmt='%I:%M:%S')\n",
    "logger = logging.getLogger()\n",
    "logger.setLevel(logging.INFO)"
   ]
  },
  {
   "cell_type": "code",
   "execution_count": 67,
   "id": "1f4dae14-9b90-4b3e-b44e-c8dfe181fd77",
   "metadata": {},
   "outputs": [
    {
     "name": "stdout",
     "output_type": "stream",
     "text": [
      "I1109 01:53:21.071132 140392006190912 ubc_nfsp_example.py:90] Loading network parameters from /apps/open_spiel/open_spiel/python/examples/network_configs/config.yml\n",
      "I1109 01:53:21.073650 140392006190912 ubc_nfsp_example.py:104] Setting numpy and torch seed to 1234\n",
      "I1109 01:53:21.074241 140392006190912 ubc_nfsp_example.py:108] Network params: {'num_training_episodes': 3000000, 'eval_every': 10000, 'hidden_layers_sizes': [128], 'replay_buffer_capacity': 20000, 'reservoir_buffer_capacity': 2000000, 'anticipatory_param': 0.1, 'seed': 1234, 'batch_size': 128, 'rl_learning_rate': 0.01, 'sl_learning_rate': 0.01, 'min_buffer_size_to_learn': 1000, 'learn_every': 64, 'optimizer_str': 'sgd', 'epsilon_start': 0.06, 'epsilon_end': 0.001}\n",
      "I1109 01:53:21.074343 140392006190912 ubc_nfsp_example.py:111] Loading clock_auction\n",
      "Reading from env variable CLOCK_AUCTION_CONFIG_DIR. If it is not set, there will be trouble.\n",
      "CLOCK_AUCTION_CONFIG_DIR=/apps/open_spiel/configs\n",
      "Parsing configuration from /apps/open_spiel/configs/parameters.json\n",
      "Done config parsing\n",
      "I1109 01:53:21.074729 140392006190912 ubc_nfsp_example.py:121] Game loaded\n",
      "I1109 01:53:21.075198 140392006190912 rl_environment.py:190] Using game instance: turn_based_simultaneous_game\n",
      "I1109 01:53:21.075336 140392006190912 ubc_nfsp_example.py:127] Game has a state size of 57, 4 distinct actions, and 2 players\n",
      "/apps/open_spiel/open_spiel/python/pytorch/nfsp.py:236: UserWarning: Creating a tensor from a list of numpy.ndarrays is extremely slow. Please consider converting the list to a single numpy.ndarray with numpy.array() before converting to a tensor. (Triggered internally at  ../torch/csrc/utils/tensor_new.cpp:201.)\n",
      "  action_probs = torch.Tensor([t.action_probs for t in transitions])\n",
      "I1109 01:53:29.321547 140392006190912 ubc_nfsp_example.py:154] Losses: [(None, tensor(23432.4238)), (tensor(0.7036), tensor(634173.6250))]\n",
      "/apps/open_spiel/open_spiel/python/pytorch/nfsp.py:141: RuntimeWarning: invalid value encountered in true_divide\n",
      "  probs /= sum(probs)\n",
      "Traceback (most recent call last):\n",
      "  File \"../ubc_nfsp_example.py\", line 173, in <module>\n",
      "    app.run(main)\n",
      "  File \"/apps/open_spiel/venv/lib/python3.6/site-packages/absl/app.py\", line 312, in run\n",
      "    _run_main(main, args)\n",
      "  File \"/apps/open_spiel/venv/lib/python3.6/site-packages/absl/app.py\", line 258, in _run_main\n",
      "    sys.exit(main(argv))\n",
      "  File \"../ubc_nfsp_example.py\", line 156, in main\n",
      "    n_conv = nash_conv(game, expl_policies_avg, use_cpp_br=True)\n",
      "  File \"/apps/open_spiel/open_spiel/python/algorithms/exploitability.py\", line 186, in nash_conv\n",
      "    for best_responder in range(game.num_players())\n",
      "  File \"/apps/open_spiel/open_spiel/python/algorithms/exploitability.py\", line 186, in <listcomp>\n",
      "    for best_responder in range(game.num_players())\n",
      "  File \"/apps/open_spiel/open_spiel/python/algorithms/best_response.py\", line 272, in __init__\n",
      "    policy, game, self.all_states, self.state_to_information_state)\n",
      "  File \"/apps/open_spiel/open_spiel/python/algorithms/policy_utils.py\", line 60, in policy_to_dict\n",
      "    player_policy.action_probabilities(all_states[state]).items())\n",
      "  File \"../ubc_nfsp_example.py\", line 60, in action_probabilities\n",
      "    p = self._policies[cur_player].step(info_state, is_evaluation=True).probs\n",
      "  File \"/apps/open_spiel/open_spiel/python/pytorch/nfsp.py\", line 173, in step\n",
      "    action, probs = self._act(info_state, legal_actions)\n",
      "  File \"/apps/open_spiel/open_spiel/python/pytorch/nfsp.py\", line 142, in _act\n",
      "    action = np.random.choice(len(probs), p=probs)\n",
      "  File \"mtrand.pyx\", line 928, in numpy.random.mtrand.RandomState.choice\n",
      "ValueError: probabilities contain NaN\n"
     ]
    }
   ],
   "source": [
    "!python ../ubc_nfsp_example.py -- --filename parameters.json --network_config_file /apps/open_spiel/open_spiel/python/examples/network_configs/config.yml "
   ]
  },
  {
   "cell_type": "code",
   "execution_count": null,
   "id": "c2aaf73d-2373-4350-b112-a74bc3ca4706",
   "metadata": {},
   "outputs": [],
   "source": []
  }
 ],
 "metadata": {
  "kernelspec": {
   "display_name": "Python 3",
   "language": "python",
   "name": "python3"
  },
  "language_info": {
   "codemirror_mode": {
    "name": "ipython",
    "version": 3
   },
   "file_extension": ".py",
   "mimetype": "text/x-python",
   "name": "python",
   "nbconvert_exporter": "python",
   "pygments_lexer": "ipython3",
   "version": "3.6.9"
  }
 },
 "nbformat": 4,
 "nbformat_minor": 5
}
