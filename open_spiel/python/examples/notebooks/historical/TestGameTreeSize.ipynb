{
 "cells": [
  {
   "cell_type": "code",
   "execution_count": 1,
   "id": "947d2a70-4383-46c8-81cb-66746e26d08b",
   "metadata": {},
   "outputs": [
    {
     "name": "stdout",
     "output_type": "stream",
     "text": [
      "Populating the interactive namespace from numpy and matplotlib\n"
     ]
    }
   ],
   "source": [
    "%load_ext autoreload\n",
    "%autoreload 2\n",
    "%pylab inline\n",
    "\n",
    "import sys\n",
    "import glob\n",
    "import pandas as pd\n",
    "import os\n",
    "import seaborn as sns\n",
    "from tqdm import tqdm_notebook as tqdm\n",
    "from statsmodels.distributions.empirical_distribution import ECDF\n",
    "from collections import defaultdict\n",
    "import logging\n",
    "logging.basicConfig(format='%(asctime)s %(levelname)s:%(message)s', level=logging.DEBUG, datefmt='%I:%M:%S')\n",
    "logger = logging.getLogger()\n",
    "logger.setLevel(logging.INFO)"
   ]
  },
  {
   "cell_type": "code",
   "execution_count": 2,
   "id": "c2e7640a-54ac-40eb-b7a6-ba665c7185fd",
   "metadata": {},
   "outputs": [],
   "source": [
    "from open_spiel.python.algorithms import ubc_exploitability\n",
    "from open_spiel.python.examples.ubc_nfsp_example import policy_from_checkpoint\n",
    "from open_spiel.python.examples.ubc_utils import smart_load_sequential_game"
   ]
  },
  {
   "cell_type": "code",
   "execution_count": 11,
   "id": "4afb4626-437c-4905-8035-c212ed8e25f9",
   "metadata": {},
   "outputs": [],
   "source": [
    "game = smart_load_sequential_game('clock_auction', dict(filename='big_game.json'))"
   ]
  },
  {
   "cell_type": "code",
   "execution_count": null,
   "id": "73231ea0-7ca6-4170-999f-4a9c24852cdf",
   "metadata": {},
   "outputs": [],
   "source": [
    "ubc_exploitability.game_tree_size(game.new_initial_state())"
   ]
  },
  {
   "cell_type": "code",
   "execution_count": null,
   "id": "6df99c22-3b1a-4068-b325-fa03e2ea34d9",
   "metadata": {},
   "outputs": [],
   "source": []
  }
 ],
 "metadata": {
  "kernelspec": {
   "display_name": "Python 3",
   "language": "python",
   "name": "python3"
  },
  "language_info": {
   "codemirror_mode": {
    "name": "ipython",
    "version": 3
   },
   "file_extension": ".py",
   "mimetype": "text/x-python",
   "name": "python",
   "nbconvert_exporter": "python",
   "pygments_lexer": "ipython3",
   "version": "3.6.9"
  }
 },
 "nbformat": 4,
 "nbformat_minor": 5
}
