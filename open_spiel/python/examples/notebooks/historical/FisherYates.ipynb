{
 "cells": [
  {
   "cell_type": "code",
   "execution_count": 94,
   "id": "ff643229-a0f0-4712-8c3f-9083b29805fb",
   "metadata": {},
   "outputs": [],
   "source": [
    "import numpy as np\n",
    "\n",
    "def factorial(k):\n",
    "    return np.math.factorial(k)\n",
    "\n",
    "def convert_seed_to_swaps(seed):\n",
    "    \"\"\"\n",
    "    arguments:\n",
    "    - seed: non-negative int\n",
    "    \n",
    "    returns: \n",
    "    - list (f_0, f_1, f_2, ..., f_k) such that \\sum_{i=0}^k f_i * i! = seed\n",
    "    \"\"\"\n",
    "    ret = [0]\n",
    "    while seed > 0:\n",
    "        divisor = len(ret) + 1\n",
    "        ret.append(seed % divisor)\n",
    "        seed //= divisor\n",
    "    return ret\n",
    "\n",
    "def permute_array(arr, seed):\n",
    "    \"\"\"\n",
    "    Permute an array into a canonical permutation.\n",
    "\n",
    "    Arguments:\n",
    "    - arr: list\n",
    "    - seed: int in range [0, len(arr)! - 1]\n",
    "    \n",
    "    Returns:\n",
    "    - A permutation of arr\n",
    "    \"\"\"\n",
    "\n",
    "    if seed >= factorial(len(arr)):\n",
    "        raise ValueError(f'seed {seed} too large for array of length {len(arr)}') \n",
    "    \n",
    "    # Fisher-Yates shuffle\n",
    "    permuted_arr = [a for a in arr]\n",
    "    swap_indices = convert_seed_to_swaps(seed)\n",
    "    swap_indices = swap_indices + [0] * (len(permuted_arr) - len(swap_indices))\n",
    "    \n",
    "    for i, swap_idx in enumerate(swap_indices):\n",
    "        permuted_arr[i], permuted_arr[swap_idx] = permuted_arr[swap_idx], permuted_arr[i]\n",
    "    return permuted_arr\n",
    "    "
   ]
  },
  {
   "cell_type": "code",
   "execution_count": 95,
   "id": "137951ba-a8dc-4dcc-b42f-50984183def4",
   "metadata": {},
   "outputs": [
    {
     "data": {
      "text/plain": [
       "[0, 0, 0, 0, 4, 2, 3, 0, 3]"
      ]
     },
     "execution_count": 95,
     "metadata": {},
     "output_type": "execute_result"
    }
   ],
   "source": [
    "convert_seed_to_swaps(123456)"
   ]
  },
  {
   "cell_type": "code",
   "execution_count": 84,
   "id": "f1e31516-fb3b-47c4-9220-575ba720d87e",
   "metadata": {},
   "outputs": [
    {
     "name": "stdout",
     "output_type": "stream",
     "text": [
      "[0, 0, 0, 2, 0, 3, 4, 2, 7, 3, 9, 8, 10, 5, 1]\n",
      "True\n"
     ]
    }
   ],
   "source": [
    "seed = 123456789012\n",
    "f = convert_seed_to_swaps(seed)\n",
    "print(f)\n",
    "print(sum([factorial(i) * f[i] for i in range(len(f))]) == seed)"
   ]
  },
  {
   "cell_type": "code",
   "execution_count": 107,
   "id": "f1029567-3177-4f24-8073-5e85eee62228",
   "metadata": {},
   "outputs": [
    {
     "data": {
      "text/plain": [
       "[3, 4, 7, 8, 2, 5, 6, 1, 0]"
      ]
     },
     "execution_count": 107,
     "metadata": {},
     "output_type": "execute_result"
    }
   ],
   "source": [
    "permute_array(list(range(9)), 135987)"
   ]
  },
  {
   "cell_type": "code",
   "execution_count": 102,
   "id": "d405d28e-9f9f-44d5-8721-ea6bcd04d93a",
   "metadata": {},
   "outputs": [],
   "source": [
    "arr_len = 5\n",
    "permutations = [permute_array(list(range(arr_len)), seed) for seed in range(factorial(arr_len))]"
   ]
  },
  {
   "cell_type": "code",
   "execution_count": 103,
   "id": "f3ace7b7-d752-4ed7-a17d-df256dbcf50d",
   "metadata": {},
   "outputs": [
    {
     "data": {
      "text/plain": [
       "[[4, 0, 1, 2, 3],\n",
       " [4, 1, 0, 2, 3],\n",
       " [4, 2, 0, 1, 3],\n",
       " [4, 2, 1, 0, 3],\n",
       " [4, 0, 2, 1, 3],\n",
       " [4, 1, 2, 0, 3],\n",
       " [4, 3, 1, 0, 2],\n",
       " [4, 3, 0, 1, 2],\n",
       " [4, 3, 0, 2, 1],\n",
       " [4, 3, 1, 2, 0],\n",
       " [4, 3, 2, 0, 1],\n",
       " [4, 3, 2, 1, 0],\n",
       " [4, 0, 3, 1, 2],\n",
       " [4, 1, 3, 0, 2],\n",
       " [4, 2, 3, 0, 1],\n",
       " [4, 2, 3, 1, 0],\n",
       " [4, 0, 3, 2, 1],\n",
       " [4, 1, 3, 2, 0],\n",
       " [4, 0, 1, 3, 2],\n",
       " [4, 1, 0, 3, 2],\n",
       " [4, 2, 0, 3, 1],\n",
       " [4, 2, 1, 3, 0],\n",
       " [4, 0, 2, 3, 1],\n",
       " [4, 1, 2, 3, 0],\n",
       " [3, 4, 1, 2, 0],\n",
       " [3, 4, 0, 2, 1],\n",
       " [3, 4, 0, 1, 2],\n",
       " [3, 4, 1, 0, 2],\n",
       " [3, 4, 2, 1, 0],\n",
       " [3, 4, 2, 0, 1],\n",
       " [2, 4, 1, 0, 3],\n",
       " [2, 4, 0, 1, 3],\n",
       " [1, 4, 0, 2, 3],\n",
       " [0, 4, 1, 2, 3],\n",
       " [1, 4, 2, 0, 3],\n",
       " [0, 4, 2, 1, 3],\n",
       " [2, 4, 3, 1, 0],\n",
       " [2, 4, 3, 0, 1],\n",
       " [1, 4, 3, 0, 2],\n",
       " [0, 4, 3, 1, 2],\n",
       " [1, 4, 3, 2, 0],\n",
       " [0, 4, 3, 2, 1],\n",
       " [2, 4, 1, 3, 0],\n",
       " [2, 4, 0, 3, 1],\n",
       " [1, 4, 0, 3, 2],\n",
       " [0, 4, 1, 3, 2],\n",
       " [1, 4, 2, 3, 0],\n",
       " [0, 4, 2, 3, 1],\n",
       " [3, 0, 4, 2, 1],\n",
       " [3, 1, 4, 2, 0],\n",
       " [3, 2, 4, 1, 0],\n",
       " [3, 2, 4, 0, 1],\n",
       " [3, 0, 4, 1, 2],\n",
       " [3, 1, 4, 0, 2],\n",
       " [2, 3, 4, 0, 1],\n",
       " [2, 3, 4, 1, 0],\n",
       " [1, 3, 4, 2, 0],\n",
       " [0, 3, 4, 2, 1],\n",
       " [1, 3, 4, 0, 2],\n",
       " [0, 3, 4, 1, 2],\n",
       " [2, 0, 4, 1, 3],\n",
       " [2, 1, 4, 0, 3],\n",
       " [1, 2, 4, 0, 3],\n",
       " [0, 2, 4, 1, 3],\n",
       " [1, 0, 4, 2, 3],\n",
       " [0, 1, 4, 2, 3],\n",
       " [2, 0, 4, 3, 1],\n",
       " [2, 1, 4, 3, 0],\n",
       " [1, 2, 4, 3, 0],\n",
       " [0, 2, 4, 3, 1],\n",
       " [1, 0, 4, 3, 2],\n",
       " [0, 1, 4, 3, 2],\n",
       " [3, 0, 1, 4, 2],\n",
       " [3, 1, 0, 4, 2],\n",
       " [3, 2, 0, 4, 1],\n",
       " [3, 2, 1, 4, 0],\n",
       " [3, 0, 2, 4, 1],\n",
       " [3, 1, 2, 4, 0],\n",
       " [2, 3, 1, 4, 0],\n",
       " [2, 3, 0, 4, 1],\n",
       " [1, 3, 0, 4, 2],\n",
       " [0, 3, 1, 4, 2],\n",
       " [1, 3, 2, 4, 0],\n",
       " [0, 3, 2, 4, 1],\n",
       " [2, 0, 3, 4, 1],\n",
       " [2, 1, 3, 4, 0],\n",
       " [1, 2, 3, 4, 0],\n",
       " [0, 2, 3, 4, 1],\n",
       " [1, 0, 3, 4, 2],\n",
       " [0, 1, 3, 4, 2],\n",
       " [2, 0, 1, 4, 3],\n",
       " [2, 1, 0, 4, 3],\n",
       " [1, 2, 0, 4, 3],\n",
       " [0, 2, 1, 4, 3],\n",
       " [1, 0, 2, 4, 3],\n",
       " [0, 1, 2, 4, 3],\n",
       " [3, 0, 1, 2, 4],\n",
       " [3, 1, 0, 2, 4],\n",
       " [3, 2, 0, 1, 4],\n",
       " [3, 2, 1, 0, 4],\n",
       " [3, 0, 2, 1, 4],\n",
       " [3, 1, 2, 0, 4],\n",
       " [2, 3, 1, 0, 4],\n",
       " [2, 3, 0, 1, 4],\n",
       " [1, 3, 0, 2, 4],\n",
       " [0, 3, 1, 2, 4],\n",
       " [1, 3, 2, 0, 4],\n",
       " [0, 3, 2, 1, 4],\n",
       " [2, 0, 3, 1, 4],\n",
       " [2, 1, 3, 0, 4],\n",
       " [1, 2, 3, 0, 4],\n",
       " [0, 2, 3, 1, 4],\n",
       " [1, 0, 3, 2, 4],\n",
       " [0, 1, 3, 2, 4],\n",
       " [2, 0, 1, 3, 4],\n",
       " [2, 1, 0, 3, 4],\n",
       " [1, 2, 0, 3, 4],\n",
       " [0, 2, 1, 3, 4],\n",
       " [1, 0, 2, 3, 4],\n",
       " [0, 1, 2, 3, 4]]"
      ]
     },
     "execution_count": 103,
     "metadata": {},
     "output_type": "execute_result"
    }
   ],
   "source": [
    "permutations"
   ]
  }
 ],
 "metadata": {
  "kernelspec": {
   "display_name": "Python 3 (ipykernel)",
   "language": "python",
   "name": "python3"
  },
  "language_info": {
   "codemirror_mode": {
    "name": "ipython",
    "version": 3
   },
   "file_extension": ".py",
   "mimetype": "text/x-python",
   "name": "python",
   "nbconvert_exporter": "python",
   "pygments_lexer": "ipython3",
   "version": "3.8.2"
  }
 },
 "nbformat": 4,
 "nbformat_minor": 5
}
