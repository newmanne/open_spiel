{
 "cells": [
  {
   "cell_type": "code",
   "execution_count": 125,
   "id": "a4b35c9c-bac7-47eb-9d0b-0deac530660c",
   "metadata": {},
   "outputs": [
    {
     "name": "stdout",
     "output_type": "stream",
     "text": [
      "The autoreload extension is already loaded. To reload it, use:\n",
      "  %reload_ext autoreload\n",
      "%pylab is deprecated, use %matplotlib inline and import the required libraries.\n",
      "Populating the interactive namespace from numpy and matplotlib\n"
     ]
    }
   ],
   "source": [
    "%load_ext autoreload\n",
    "%autoreload 2\n",
    "%pylab inline\n",
    "\n",
    "import sys\n",
    "import glob\n",
    "import pandas as pd\n",
    "import os\n",
    "import seaborn as sns\n",
    "from tqdm import tqdm_notebook as tqdm\n",
    "from statsmodels.distributions.empirical_distribution import ECDF\n",
    "from collections import defaultdict\n",
    "import pickle\n",
    "import re\n",
    "import json\n",
    "from open_spiel.python.examples.ubc_utils import *\n",
    "from open_spiel.python.examples.ubc_decorators import *\n",
    "from open_spiel.python.examples.straightforward_agent import StraightforwardAgent\n",
    "from open_spiel.python.examples.straightforward_agent_2 import StraightforwardAgent as StraightforwardAgent2\n",
    "from open_spiel.python import rl_environment\n"
   ]
  },
  {
   "cell_type": "code",
   "execution_count": 126,
   "id": "d06484fd-6056-4267-b768-e6376d41f656",
   "metadata": {},
   "outputs": [
    {
     "name": "stderr",
     "output_type": "stream",
     "text": [
      "Reading from env variable CLOCK_AUCTION_CONFIG_DIR. If it is not set, there will be trouble.\n",
      "CLOCK_AUCTION_CONFIG_DIR=/apps/open_spiel/configs\n",
      "Parsing configuration from /apps/open_spiel/configs/large_game_2_one_profile.json\n",
      "Done config parsing\n"
     ]
    }
   ],
   "source": [
    "game_name = 'large_game_2_one_profile'\n",
    "game_config = json.load(open(f\"{os.environ['CLOCK_AUCTION_CONFIG_DIR']}/{game_name}.json\"))\n",
    "game = smart_load_sequential_game('clock_auction', game_parameters=dict(filename=f'{game_name}.json'))\n"
   ]
  },
  {
   "cell_type": "code",
   "execution_count": 127,
   "id": "85ed7aa3-3984-48c4-adc5-604d9cbf689a",
   "metadata": {},
   "outputs": [],
   "source": [
    "# x = np.array(game.new_initial_state().child(0).child(0).child(10).child(10).child(10).child(10).information_state_tensor())\n",
    "# x[x.nonzero()]"
   ]
  },
  {
   "cell_type": "code",
   "execution_count": 140,
   "id": "816b8a6c-94c9-4936-8468-73ab530d259d",
   "metadata": {},
   "outputs": [
    {
     "name": "stdout",
     "output_type": "stream",
     "text": [
      "Writing LP\n",
      "only 1 feasible bundle\n",
      "0 0\n",
      "Writing LP\n",
      "only 1 feasible bundle\n",
      "1 0\n",
      "Outcome\n",
      "defaultdict(<class 'list'>, {0: 0.0, 1: 0.0})\n",
      "defaultdict(<class 'list'>, {0: [0.0, 0.0, 0.0], 1: [0.0, 0.0, 0.0]})\n",
      "defaultdict(<class 'list'>, {0: 0.0, 1: 0.0})\n",
      "2\n"
     ]
    }
   ],
   "source": [
    "fix_seeds(1234)\n",
    "env = rl_environment.Environment(game)\n",
    "num_actions = env.action_spec()[\"num_actions\"]\n",
    "time_step = env.reset()\n",
    "\n",
    "agents = [TakeSingleActionDecorator(StraightforwardAgent2(i, game_config, num_actions), num_actions) for i in range(game.num_players())]\n",
    "\n",
    "rewards = defaultdict(list)\n",
    "allocations = defaultdict(list)\n",
    "payments = defaultdict(list)\n",
    "episode_length = 0\n",
    "episode_rewards = defaultdict(int)\n",
    "num_players, num_actions, num_products = game_spec(game, game_config)\n",
    "\n",
    "while not time_step.last():\n",
    "    episode_length += 1\n",
    "            \n",
    "    player_id = time_step.observations[\"current_player\"]\n",
    "    # print(time_step.observations.keys())\n",
    "    agent = agents[player_id]\n",
    "    agent_output = agent.step(time_step)\n",
    "    print(player_id, agent_output.action)\n",
    "    action_list = [agent_output.action]\n",
    "    time_step = env.step(action_list)\n",
    "\n",
    "for i, agent in enumerate(agents):\n",
    "    agent.step(time_step, is_evaluation=True)\n",
    "    episode_rewards[i] += time_step.rewards[i] \n",
    "    rewards[i] = episode_rewards[i]\n",
    "    infostate = time_step.observations['info_state'][i]\n",
    "    payment, allocation = payment_and_allocation(num_players, num_actions, num_products, infostate)\n",
    "    payments[i] = payment\n",
    "    allocations[i] = allocation\n",
    "    \n",
    "print('Outcome')\n",
    "print(rewards)\n",
    "print(allocations)\n",
    "print(payments)\n",
    "print(episode_length)"
   ]
  },
  {
   "cell_type": "code",
   "execution_count": null,
   "id": "0bcec1fc-e0d4-4842-b069-d1c66f82c9d5",
   "metadata": {},
   "outputs": [],
   "source": []
  }
 ],
 "metadata": {
  "kernelspec": {
   "display_name": "Python 3 (ipykernel)",
   "language": "python",
   "name": "python3"
  },
  "language_info": {
   "codemirror_mode": {
    "name": "ipython",
    "version": 3
   },
   "file_extension": ".py",
   "mimetype": "text/x-python",
   "name": "python",
   "nbconvert_exporter": "python",
   "pygments_lexer": "ipython3",
   "version": "3.8.2"
  }
 },
 "nbformat": 4,
 "nbformat_minor": 5
}
