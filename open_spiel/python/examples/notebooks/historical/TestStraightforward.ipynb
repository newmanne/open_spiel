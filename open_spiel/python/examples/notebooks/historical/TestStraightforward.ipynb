{
 "cells": [
  {
   "cell_type": "code",
   "execution_count": 2,
   "id": "a4b35c9c-bac7-47eb-9d0b-0deac530660c",
   "metadata": {},
   "outputs": [
    {
     "name": "stdout",
     "output_type": "stream",
     "text": [
      "The autoreload extension is already loaded. To reload it, use:\n",
      "  %reload_ext autoreload\n",
      "%pylab is deprecated, use %matplotlib inline and import the required libraries.\n",
      "Populating the interactive namespace from numpy and matplotlib\n"
     ]
    },
    {
     "name": "stderr",
     "output_type": "stream",
     "text": [
      "/home/ubuntu/.pyenv/versions/venv/lib/python3.8/site-packages/IPython/core/magics/pylab.py:162: UserWarning: pylab import has clobbered these variables: ['logging', 'solve', 'random']\n",
      "`%matplotlib` prevents importing * from pylab and numpy\n",
      "  warn(\"pylab import has clobbered these variables: %s\"  % clobbered +\n"
     ]
    }
   ],
   "source": [
    "%load_ext autoreload\n",
    "%autoreload 2\n",
    "%pylab inline\n",
    "\n",
    "import sys\n",
    "import glob\n",
    "import pandas as pd\n",
    "import os\n",
    "import seaborn as sns\n",
    "from tqdm import tqdm_notebook as tqdm\n",
    "from statsmodels.distributions.empirical_distribution import ECDF\n",
    "from collections import defaultdict\n",
    "import pickle\n",
    "import re\n",
    "import json\n",
    "from open_spiel.python.examples.ubc_utils import *\n",
    "from open_spiel.python.examples.ubc_decorators import *\n",
    "from open_spiel.python.examples.straightforward_agent import StraightforwardAgent\n",
    "from open_spiel.python import rl_environment\n"
   ]
  },
  {
   "cell_type": "code",
   "execution_count": 3,
   "id": "d06484fd-6056-4267-b768-e6376d41f656",
   "metadata": {},
   "outputs": [
    {
     "name": "stderr",
     "output_type": "stream",
     "text": [
      "Reading from env variable CLOCK_AUCTION_CONFIG_DIR. If it is not set, there will be trouble.\n",
      "CLOCK_AUCTION_CONFIG_DIR=/apps/open_spiel/configs\n",
      "Parsing configuration from /apps/open_spiel/configs/big_game_2.json\n",
      "Done config parsing\n"
     ]
    }
   ],
   "source": [
    "game_name = 'big_game_2'\n",
    "game_config = json.load(open(f\"{os.environ['CLOCK_AUCTION_CONFIG_DIR']}/{game_name}.json\"))\n",
    "game = smart_load_sequential_game('clock_auction', game_parameters=dict(filename=f'{game_name}.json'))\n"
   ]
  },
  {
   "cell_type": "code",
   "execution_count": 4,
   "id": "85ed7aa3-3984-48c4-adc5-604d9cbf689a",
   "metadata": {},
   "outputs": [
    {
     "data": {
      "text/plain": [
       "array([  1.        ,   1.        ,   3.        ,   5.        ,\n",
       "        19.5       ,  24.5       ,  29.25      ,  34.25      ,\n",
       "        48.75      ,  53.75      ,  58.5       ,  63.5       ,\n",
       "        78.        ,  83.        ,   2.5       ,  13.44999981,\n",
       "        15.94999981,  20.17499924,  22.67499924,  33.625     ,\n",
       "        36.125     ,  40.34999847,  42.84999847,  53.79999924,\n",
       "        56.29999924, 200.        , 242.        ,  99.82499695,\n",
       "        66.55000305,  27.5       ,   2.        ,   1.        ,\n",
       "         4.        ,   2.        ,   1.        , 300.        ,\n",
       "       120.        ,  80.        ,  30.        ,  75.        ,\n",
       "        50.        ,  25.        ,   2.        ,   1.        ,\n",
       "         2.        ,   1.        ,   4.        ,   2.        ,\n",
       "        82.5       ,  55.        ,  25.        ,   2.        ,\n",
       "         1.        ,   2.        ,   1.        ,   4.        ,\n",
       "         2.        ,  90.75      ,  60.5       ,  25.        ])"
      ]
     },
     "execution_count": 4,
     "metadata": {},
     "output_type": "execute_result"
    }
   ],
   "source": [
    "x = np.array(game.new_initial_state().child(0).child(0).child(10).child(10).child(10).child(10).information_state_tensor())\n",
    "x[x.nonzero()]"
   ]
  },
  {
   "cell_type": "code",
   "execution_count": 5,
   "id": "816b8a6c-94c9-4936-8468-73ab530d259d",
   "metadata": {},
   "outputs": [
    {
     "name": "stdout",
     "output_type": "stream",
     "text": [
      "0 11\n",
      "1 11\n",
      "0 10\n",
      "1 11\n",
      "0 10\n",
      "1 11\n",
      "0 10\n",
      "1 3\n",
      "0 8\n",
      "1 1\n"
     ]
    }
   ],
   "source": [
    "env = rl_environment.Environment(game)\n",
    "num_actions = env.action_spec()[\"num_actions\"]\n",
    "time_step = env.reset()\n",
    "\n",
    "agents = [TakeSingleActionDecorator(StraightforwardAgent(i, game_config, num_actions), num_actions) for i in range(game.num_players())]\n",
    "\n",
    "while not time_step.last():\n",
    "    player_id = time_step.observations[\"current_player\"]\n",
    "    agent = agents[player_id]\n",
    "    agent_output = agent.step(time_step)\n",
    "    print(player_id, agent_output.action)\n",
    "    action_list = [agent_output.action]\n",
    "    time_step = env.step(action_list)\n",
    "\n",
    "for i, agent in enumerate(agents):\n",
    "    agent.step(time_step)\n",
    "\n"
   ]
  },
  {
   "cell_type": "code",
   "execution_count": null,
   "id": "0bcec1fc-e0d4-4842-b069-d1c66f82c9d5",
   "metadata": {},
   "outputs": [],
   "source": []
  }
 ],
 "metadata": {
  "kernelspec": {
   "display_name": "Python 3 (ipykernel)",
   "language": "python",
   "name": "python3"
  },
  "language_info": {
   "codemirror_mode": {
    "name": "ipython",
    "version": 3
   },
   "file_extension": ".py",
   "mimetype": "text/x-python",
   "name": "python",
   "nbconvert_exporter": "python",
   "pygments_lexer": "ipython3",
   "version": "3.8.2"
  }
 },
 "nbformat": 4,
 "nbformat_minor": 5
}
