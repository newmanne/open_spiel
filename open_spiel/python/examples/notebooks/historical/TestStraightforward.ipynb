{
 "cells": [
  {
   "cell_type": "code",
   "execution_count": 28,
   "id": "a4b35c9c-bac7-47eb-9d0b-0deac530660c",
   "metadata": {},
   "outputs": [
    {
     "name": "stdout",
     "output_type": "stream",
     "text": [
      "The autoreload extension is already loaded. To reload it, use:\n",
      "  %reload_ext autoreload\n",
      "Populating the interactive namespace from numpy and matplotlib\n"
     ]
    }
   ],
   "source": [
    "%load_ext autoreload\n",
    "%autoreload 2\n",
    "%pylab inline\n",
    "\n",
    "import sys\n",
    "import glob\n",
    "import pandas as pd\n",
    "import os\n",
    "import seaborn as sns\n",
    "from tqdm import tqdm_notebook as tqdm\n",
    "from statsmodels.distributions.empirical_distribution import ECDF\n",
    "from collections import defaultdict\n",
    "import pickle\n",
    "import re\n",
    "import json\n",
    "from open_spiel.python.examples.ubc_utils import *\n",
    "from open_spiel.python.examples.ubc_decorators import *\n",
    "from open_spiel.python.examples.straightforward_agent import StraightforwardAgent\n",
    "from open_spiel.python import rl_environment\n"
   ]
  },
  {
   "cell_type": "code",
   "execution_count": 21,
   "id": "d06484fd-6056-4267-b768-e6376d41f656",
   "metadata": {},
   "outputs": [],
   "source": [
    "game_name = 'big_game_2'\n",
    "game_config = json.load(open(f\"{os.environ['CLOCK_AUCTION_CONFIG_DIR']}/{game_name}.json\"))\n",
    "game = smart_load_sequential_game('clock_auction', game_parameters=dict(filename=f'{game_name}.json'))\n"
   ]
  },
  {
   "cell_type": "code",
   "execution_count": 22,
   "id": "85ed7aa3-3984-48c4-adc5-604d9cbf689a",
   "metadata": {},
   "outputs": [
    {
     "data": {
      "text/plain": [
       "array([  1.  ,   1.  ,   1.  , 300.  , 120.  ,  80.  ,  30.  ,   2.  ,\n",
       "         1.  ,   2.  ,   1.  ,   2.  ,   1.  ,   2.  ,   1.  ,   4.  ,\n",
       "         2.  ,   4.  ,   2.  ,  75.  ,  50.  ,  25.  ,  82.5 ,  55.  ,\n",
       "        25.  ,  90.75,  60.5 ,  25.  ])"
      ]
     },
     "execution_count": 22,
     "metadata": {},
     "output_type": "execute_result"
    }
   ],
   "source": [
    "x = np.array(game.new_initial_state().child(0).child(0).child(10).child(10).child(10).child(10).information_state_tensor())\n",
    "x[x.nonzero()]"
   ]
  },
  {
   "cell_type": "code",
   "execution_count": 37,
   "id": "816b8a6c-94c9-4936-8468-73ab530d259d",
   "metadata": {},
   "outputs": [
    {
     "name": "stdout",
     "output_type": "stream",
     "text": [
      "0 11\n",
      "1 11\n",
      "0 11\n",
      "1 11\n",
      "0 11\n",
      "1 11\n",
      "0 11\n",
      "1 11\n",
      "0 10\n",
      "1 10\n",
      "0 0\n",
      "1 9\n"
     ]
    }
   ],
   "source": [
    "env = rl_environment.Environment(game)\n",
    "num_actions = env.action_spec()[\"num_actions\"]\n",
    "time_step = env.reset()\n",
    "\n",
    "agents = [TakeSingleActionDecorator(StraightforwardAgent(i, game_config, num_actions), num_actions) for i in range(game.num_players())]\n",
    "\n",
    "while not time_step.last():\n",
    "    player_id = time_step.observations[\"current_player\"]\n",
    "    agent = agents[player_id]\n",
    "    agent_output = agent.step(time_step)\n",
    "    print(player_id, agent_output.action)\n",
    "    action_list = [agent_output.action]\n",
    "    time_step = env.step(action_list)\n",
    "\n",
    "for i, agent in enumerate(agents):\n",
    "    agent.step(time_step)\n",
    "\n"
   ]
  },
  {
   "cell_type": "code",
   "execution_count": null,
   "id": "0bcec1fc-e0d4-4842-b069-d1c66f82c9d5",
   "metadata": {},
   "outputs": [],
   "source": []
  }
 ],
 "metadata": {
  "kernelspec": {
   "display_name": "Python 3",
   "language": "python",
   "name": "python3"
  },
  "language_info": {
   "codemirror_mode": {
    "name": "ipython",
    "version": 3
   },
   "file_extension": ".py",
   "mimetype": "text/x-python",
   "name": "python",
   "nbconvert_exporter": "python",
   "pygments_lexer": "ipython3",
   "version": "3.6.9"
  }
 },
 "nbformat": 4,
 "nbformat_minor": 5
}
