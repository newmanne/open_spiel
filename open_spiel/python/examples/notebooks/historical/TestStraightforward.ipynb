{
 "cells": [
  {
   "cell_type": "code",
   "execution_count": 13,
   "id": "a4b35c9c-bac7-47eb-9d0b-0deac530660c",
   "metadata": {},
   "outputs": [
    {
     "name": "stdout",
     "output_type": "stream",
     "text": [
      "The autoreload extension is already loaded. To reload it, use:\n",
      "  %reload_ext autoreload\n",
      "%pylab is deprecated, use %matplotlib inline and import the required libraries.\n",
      "Populating the interactive namespace from numpy and matplotlib\n"
     ]
    }
   ],
   "source": [
    "%load_ext autoreload\n",
    "%autoreload 2\n",
    "%pylab inline\n",
    "\n",
    "import sys\n",
    "import glob\n",
    "import pandas as pd\n",
    "import os\n",
    "import seaborn as sns\n",
    "from tqdm import tqdm_notebook as tqdm\n",
    "from statsmodels.distributions.empirical_distribution import ECDF\n",
    "from collections import defaultdict\n",
    "import pickle\n",
    "import re\n",
    "import json\n",
    "from open_spiel.python.examples.ubc_utils import *\n",
    "from open_spiel.python.examples.ubc_decorators import *\n",
    "from open_spiel.python.examples.straightforward_agent import StraightforwardAgent\n",
    "from open_spiel.python import rl_environment\n"
   ]
  },
  {
   "cell_type": "code",
   "execution_count": 14,
   "id": "d06484fd-6056-4267-b768-e6376d41f656",
   "metadata": {},
   "outputs": [
    {
     "name": "stderr",
     "output_type": "stream",
     "text": [
      "Reading from env variable CLOCK_AUCTION_CONFIG_DIR. If it is not set, there will be trouble.\n",
      "CLOCK_AUCTION_CONFIG_DIR=/apps/open_spiel/configs\n",
      "Parsing configuration from /apps/open_spiel/configs/large_game_2.json\n",
      "Done config parsing\n"
     ]
    }
   ],
   "source": [
    "game_name = 'large_game_2'\n",
    "game_config = json.load(open(f\"{os.environ['CLOCK_AUCTION_CONFIG_DIR']}/{game_name}.json\"))\n",
    "game = smart_load_sequential_game('clock_auction', game_parameters=dict(filename=f'{game_name}.json'))\n"
   ]
  },
  {
   "cell_type": "code",
   "execution_count": 15,
   "id": "85ed7aa3-3984-48c4-adc5-604d9cbf689a",
   "metadata": {},
   "outputs": [
    {
     "data": {
      "text/plain": [
       "array([ 1.00000000e+00,  1.00000000e+00,  3.00000000e+00, -2.50000000e-01,\n",
       "       -5.00000000e-01, -7.50000000e-01,  1.95000000e+01,  1.92500000e+01,\n",
       "        1.90000000e+01,  1.87500000e+01,  3.90000000e+01,  3.87500000e+01,\n",
       "        3.85000000e+01,  3.82500000e+01,  5.85000000e+01,  5.82500000e+01,\n",
       "        5.80000000e+01,  5.77500000e+01,  4.50000000e+01,  4.47500000e+01,\n",
       "        4.45000000e+01,  4.42500000e+01,  6.45000000e+01,  6.42500000e+01,\n",
       "        6.40000000e+01,  6.37500000e+01,  8.40000000e+01,  8.37500000e+01,\n",
       "        8.35000000e+01,  8.32500000e+01,  1.03500000e+02,  1.03250000e+02,\n",
       "        1.03000000e+02,  1.02750000e+02,  9.00000000e+01,  8.97500000e+01,\n",
       "        8.95000000e+01,  8.92500000e+01,  1.09500000e+02,  1.09250000e+02,\n",
       "        1.09000000e+02,  1.08750000e+02,  1.29000000e+02,  1.28750000e+02,\n",
       "        1.28500000e+02,  1.28250000e+02,  1.48500000e+02,  1.48250000e+02,\n",
       "        1.48000000e+02,  1.47750000e+02,  1.35000000e+02,  1.34750000e+02,\n",
       "        1.34500000e+02,  1.34250000e+02,  1.54500000e+02,  1.54250000e+02,\n",
       "        1.54000000e+02,  1.53750000e+02,  1.74000000e+02,  1.73750000e+02,\n",
       "        1.73500000e+02,  1.73250000e+02,  1.93500000e+02,  1.93250000e+02,\n",
       "        1.93000000e+02,  1.92750000e+02, -3.27500010e+00, -6.55000019e+00,\n",
       "       -9.82499981e+00,  1.34499998e+01,  1.01750002e+01,  6.90000010e+00,\n",
       "        3.62500000e+00,  2.68999996e+01,  2.36250000e+01,  2.03500004e+01,\n",
       "        1.70750008e+01,  4.03499985e+01,  3.70750008e+01,  3.37999992e+01,\n",
       "        3.05249996e+01,  3.75000000e+01,  3.42249985e+01,  3.09500008e+01,\n",
       "        2.76749992e+01,  5.09500008e+01,  4.76749992e+01,  4.44000015e+01,\n",
       "        4.11250000e+01,  6.44000015e+01,  6.11250000e+01,  5.78499985e+01,\n",
       "        5.45750008e+01,  7.78499985e+01,  7.45749969e+01,  7.13000031e+01,\n",
       "        6.80250015e+01,  7.50000000e+01,  7.17249985e+01,  6.84499969e+01,\n",
       "        6.51750031e+01,  8.84499969e+01,  8.51750031e+01,  8.19000015e+01,\n",
       "        7.86250000e+01,  1.01900002e+02,  9.86250000e+01,  9.53499985e+01,\n",
       "        9.20749969e+01,  1.15349998e+02,  1.12074997e+02,  1.08800003e+02,\n",
       "        1.05525002e+02,  1.12500000e+02,  1.09224998e+02,  1.05949997e+02,\n",
       "        1.02675003e+02,  1.25949997e+02,  1.22675003e+02,  1.19400002e+02,\n",
       "        1.16125000e+02,  1.39399994e+02,  1.36125000e+02,  1.32850006e+02,\n",
       "        1.29574997e+02,  1.52850006e+02,  1.49574997e+02,  1.46300003e+02,\n",
       "        1.43024994e+02,  1.50000000e+02,  1.81500000e+02,  8.25000000e+01,\n",
       "        6.65500031e+01,  3.32750015e+01,  2.00000000e+00,  2.00000000e+00,\n",
       "        4.00000000e+00,  4.00000000e+00,  1.00000000e+00,  5.00000000e+02,\n",
       "        1.20000000e+02,  8.00000000e+01,  3.00000000e+01,  7.50000000e+01,\n",
       "        5.00000000e+01,  2.50000000e+01,  2.00000000e+00,  2.00000000e+00,\n",
       "        2.00000000e+00,  2.00000000e+00,  4.00000000e+00,  4.00000000e+00,\n",
       "        7.50000000e+01,  5.50000000e+01,  2.75000000e+01,  2.00000000e+00,\n",
       "        2.00000000e+00,  2.00000000e+00,  2.00000000e+00,  4.00000000e+00,\n",
       "        4.00000000e+00,  7.50000000e+01,  6.05000000e+01,  3.02500000e+01])"
      ]
     },
     "execution_count": 15,
     "metadata": {},
     "output_type": "execute_result"
    }
   ],
   "source": [
    "x = np.array(game.new_initial_state().child(0).child(0).child(10).child(10).child(10).child(10).information_state_tensor())\n",
    "x[x.nonzero()]"
   ]
  },
  {
   "cell_type": "code",
   "execution_count": 16,
   "id": "816b8a6c-94c9-4936-8468-73ab530d259d",
   "metadata": {},
   "outputs": [
    {
     "name": "stdout",
     "output_type": "stream",
     "text": [
      "0 63\n",
      "1 63\n",
      "0 63\n",
      "1 63\n",
      "0 47\n",
      "1 47\n",
      "0 3\n",
      "1 15\n",
      "0 3\n",
      "1 15\n",
      "0 3\n",
      "1 15\n",
      "0 3\n",
      "1 15\n",
      "0 0\n",
      "1 15\n"
     ]
    }
   ],
   "source": [
    "env = rl_environment.Environment(game)\n",
    "num_actions = env.action_spec()[\"num_actions\"]\n",
    "time_step = env.reset()\n",
    "\n",
    "agents = [TakeSingleActionDecorator(StraightforwardAgent(i, game_config, num_actions), num_actions) for i in range(game.num_players())]\n",
    "\n",
    "while not time_step.last():\n",
    "    player_id = time_step.observations[\"current_player\"]\n",
    "    agent = agents[player_id]\n",
    "    agent_output = agent.step(time_step)\n",
    "    print(player_id, agent_output.action)\n",
    "    action_list = [agent_output.action]\n",
    "    time_step = env.step(action_list)\n",
    "\n",
    "for i, agent in enumerate(agents):\n",
    "    agent.step(time_step)\n"
   ]
  },
  {
   "cell_type": "code",
   "execution_count": null,
   "id": "0bcec1fc-e0d4-4842-b069-d1c66f82c9d5",
   "metadata": {},
   "outputs": [],
   "source": []
  }
 ],
 "metadata": {
  "kernelspec": {
   "display_name": "Python 3 (ipykernel)",
   "language": "python",
   "name": "python3"
  },
  "language_info": {
   "codemirror_mode": {
    "name": "ipython",
    "version": 3
   },
   "file_extension": ".py",
   "mimetype": "text/x-python",
   "name": "python",
   "nbconvert_exporter": "python",
   "pygments_lexer": "ipython3",
   "version": "3.8.2"
  }
 },
 "nbformat": 4,
 "nbformat_minor": 5
}
