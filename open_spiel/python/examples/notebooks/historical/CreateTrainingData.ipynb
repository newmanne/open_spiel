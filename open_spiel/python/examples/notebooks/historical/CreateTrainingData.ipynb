{
 "cells": [
  {
   "cell_type": "code",
   "execution_count": 29,
   "id": "af597ea9-58a3-4093-a926-aa7fe8ea4450",
   "metadata": {},
   "outputs": [],
   "source": [
    "import pyspiel\n",
    "import pickle\n",
    "import numpy as np\n",
    "import pandas as pd\n",
    "from open_spiel.python.algorithms import cfr, outcome_sampling_mccfr, expected_game_score, exploitability, get_all_states_with_policy\n",
    "from open_spiel.python.examples.ubc_mccfr_cpp_example import state_to_final\n",
    "from open_spiel.python.algorithms import get_all_states\n",
    "from tqdm import tqdm"
   ]
  },
  {
   "cell_type": "code",
   "execution_count": 30,
   "id": "149c92a5-5572-46ed-a2b3-d75d49832a0e",
   "metadata": {},
   "outputs": [],
   "source": [
    "params = dict()\n",
    "params['filename'] = 'parking_with_instants_1.json'\n",
    "game = pyspiel.load_game_as_turn_based('clock_auction', params)"
   ]
  },
  {
   "cell_type": "code",
   "execution_count": 31,
   "id": "2cc756de-a90b-4239-8943-0382910eeb32",
   "metadata": {},
   "outputs": [],
   "source": [
    "information_state_string_to_state = get_all_states.get_all_states(game, depth_limit=-1, include_terminals=False, include_chance_states=False, include_mean_field_states=False, to_string=lambda s: s.information_state_string(), stop_if_encountered=False)"
   ]
  },
  {
   "cell_type": "code",
   "execution_count": 40,
   "id": "d3ee76d0-bd63-47e8-afd1-e73931575936",
   "metadata": {},
   "outputs": [],
   "source": [
    "# root = '/shared/cfr/parking_with_instants/1/cfr_3_123'\n",
    "root = '/shared/cfr/parking_with_instants/1/mccfr_0_0'"
   ]
  },
  {
   "cell_type": "code",
   "execution_count": 43,
   "id": "fe906558-9c77-40fe-b924-94cfde744a23",
   "metadata": {},
   "outputs": [
    {
     "name": "stderr",
     "output_type": "stream",
     "text": [
      "100%|██████████| 9999/9999 [03:51<00:00, 43.21it/s]  \n"
     ]
    }
   ],
   "source": [
    "records = []\n",
    "for t in tqdm(range(1, 10_000)):\n",
    "#     with open(f'{root}/cfr_{t}.pkl', 'rb') as f:\n",
    "    with open(f'{root}/mccfr_external_{t}.pkl', 'rb') as f:\n",
    "        solver = pickle.load(f)\n",
    "        info_state_values_table = solver.info_state_values_table()\n",
    "        for info_state_string, state in information_state_string_to_state.items():\n",
    "            player = state.current_player()\n",
    "            info_state_tensor = state.information_state_tensor()\n",
    "            for i, action in enumerate(state.legal_actions()):\n",
    "#                 regret = info_state_values_table[info_state_string].cumulative_regrets[i]\n",
    "                regret = info_state_values_table[info_state_string].instantaneous_regrets[i]\n",
    "                record = dict(player=player, info_state_tensor=info_state_tensor, action=action, regret=regret, t=t)\n",
    "                  # Commented out to save memory. Only useful for debugging\n",
    "#                 record['info_state_string'] = info_state_string \n",
    "                records.append(record)\n",
    "df = pd.DataFrame.from_records(records)"
   ]
  },
  {
   "cell_type": "code",
   "execution_count": 44,
   "id": "35175b8b-b9e2-413d-a09d-45c62572aee0",
   "metadata": {},
   "outputs": [
    {
     "data": {
      "text/html": [
       "<div>\n",
       "<style scoped>\n",
       "    .dataframe tbody tr th:only-of-type {\n",
       "        vertical-align: middle;\n",
       "    }\n",
       "\n",
       "    .dataframe tbody tr th {\n",
       "        vertical-align: top;\n",
       "    }\n",
       "\n",
       "    .dataframe thead th {\n",
       "        text-align: right;\n",
       "    }\n",
       "</style>\n",
       "<table border=\"1\" class=\"dataframe\">\n",
       "  <thead>\n",
       "    <tr style=\"text-align: right;\">\n",
       "      <th></th>\n",
       "      <th>player</th>\n",
       "      <th>info_state_tensor</th>\n",
       "      <th>action</th>\n",
       "      <th>regret</th>\n",
       "      <th>t</th>\n",
       "    </tr>\n",
       "  </thead>\n",
       "  <tbody>\n",
       "    <tr>\n",
       "      <th>0</th>\n",
       "      <td>0</td>\n",
       "      <td>[1.0, 0.0, 0.0, 1.0, 0.0, 0.0, 1.0, 0.0, 0.0, ...</td>\n",
       "      <td>0</td>\n",
       "      <td>27.272726</td>\n",
       "      <td>1</td>\n",
       "    </tr>\n",
       "    <tr>\n",
       "      <th>1</th>\n",
       "      <td>0</td>\n",
       "      <td>[1.0, 0.0, 0.0, 1.0, 0.0, 0.0, 1.0, 0.0, 0.0, ...</td>\n",
       "      <td>1</td>\n",
       "      <td>-2.727274</td>\n",
       "      <td>1</td>\n",
       "    </tr>\n",
       "    <tr>\n",
       "      <th>2</th>\n",
       "      <td>0</td>\n",
       "      <td>[1.0, 0.0, 0.0, 1.0, 0.0, 0.0, 1.0, 0.0, 0.0, ...</td>\n",
       "      <td>2</td>\n",
       "      <td>36.161615</td>\n",
       "      <td>1</td>\n",
       "    </tr>\n",
       "    <tr>\n",
       "      <th>3</th>\n",
       "      <td>1</td>\n",
       "      <td>[0.0, 1.0, 0.0, 0.0, 1.0, 0.0, 0.0, 1.0, 0.0, ...</td>\n",
       "      <td>0</td>\n",
       "      <td>-1.111111</td>\n",
       "      <td>1</td>\n",
       "    </tr>\n",
       "    <tr>\n",
       "      <th>4</th>\n",
       "      <td>1</td>\n",
       "      <td>[0.0, 1.0, 0.0, 0.0, 1.0, 0.0, 0.0, 1.0, 0.0, ...</td>\n",
       "      <td>1</td>\n",
       "      <td>0.000000</td>\n",
       "      <td>1</td>\n",
       "    </tr>\n",
       "    <tr>\n",
       "      <th>...</th>\n",
       "      <td>...</td>\n",
       "      <td>...</td>\n",
       "      <td>...</td>\n",
       "      <td>...</td>\n",
       "      <td>...</td>\n",
       "    </tr>\n",
       "    <tr>\n",
       "      <th>24947500</th>\n",
       "      <td>2</td>\n",
       "      <td>[0.0, 0.0, 1.0, 0.0, 0.0, 1.0, 0.0, 0.0, 1.0, ...</td>\n",
       "      <td>2</td>\n",
       "      <td>0.000000</td>\n",
       "      <td>9999</td>\n",
       "    </tr>\n",
       "    <tr>\n",
       "      <th>24947501</th>\n",
       "      <td>0</td>\n",
       "      <td>[1.0, 0.0, 0.0, 1.0, 0.0, 0.0, 1.0, 0.0, 0.0, ...</td>\n",
       "      <td>0</td>\n",
       "      <td>0.000000</td>\n",
       "      <td>9999</td>\n",
       "    </tr>\n",
       "    <tr>\n",
       "      <th>24947502</th>\n",
       "      <td>1</td>\n",
       "      <td>[0.0, 1.0, 0.0, 0.0, 1.0, 0.0, 0.0, 1.0, 0.0, ...</td>\n",
       "      <td>0</td>\n",
       "      <td>-50.000000</td>\n",
       "      <td>9999</td>\n",
       "    </tr>\n",
       "    <tr>\n",
       "      <th>24947503</th>\n",
       "      <td>1</td>\n",
       "      <td>[0.0, 1.0, 0.0, 0.0, 1.0, 0.0, 0.0, 1.0, 0.0, ...</td>\n",
       "      <td>1</td>\n",
       "      <td>0.000000</td>\n",
       "      <td>9999</td>\n",
       "    </tr>\n",
       "    <tr>\n",
       "      <th>24947504</th>\n",
       "      <td>2</td>\n",
       "      <td>[0.0, 0.0, 1.0, 0.0, 0.0, 1.0, 0.0, 0.0, 1.0, ...</td>\n",
       "      <td>0</td>\n",
       "      <td>0.000000</td>\n",
       "      <td>9999</td>\n",
       "    </tr>\n",
       "  </tbody>\n",
       "</table>\n",
       "<p>24947505 rows × 5 columns</p>\n",
       "</div>"
      ],
      "text/plain": [
       "          player                                  info_state_tensor  action  \\\n",
       "0              0  [1.0, 0.0, 0.0, 1.0, 0.0, 0.0, 1.0, 0.0, 0.0, ...       0   \n",
       "1              0  [1.0, 0.0, 0.0, 1.0, 0.0, 0.0, 1.0, 0.0, 0.0, ...       1   \n",
       "2              0  [1.0, 0.0, 0.0, 1.0, 0.0, 0.0, 1.0, 0.0, 0.0, ...       2   \n",
       "3              1  [0.0, 1.0, 0.0, 0.0, 1.0, 0.0, 0.0, 1.0, 0.0, ...       0   \n",
       "4              1  [0.0, 1.0, 0.0, 0.0, 1.0, 0.0, 0.0, 1.0, 0.0, ...       1   \n",
       "...          ...                                                ...     ...   \n",
       "24947500       2  [0.0, 0.0, 1.0, 0.0, 0.0, 1.0, 0.0, 0.0, 1.0, ...       2   \n",
       "24947501       0  [1.0, 0.0, 0.0, 1.0, 0.0, 0.0, 1.0, 0.0, 0.0, ...       0   \n",
       "24947502       1  [0.0, 1.0, 0.0, 0.0, 1.0, 0.0, 0.0, 1.0, 0.0, ...       0   \n",
       "24947503       1  [0.0, 1.0, 0.0, 0.0, 1.0, 0.0, 0.0, 1.0, 0.0, ...       1   \n",
       "24947504       2  [0.0, 0.0, 1.0, 0.0, 0.0, 1.0, 0.0, 0.0, 1.0, ...       0   \n",
       "\n",
       "             regret     t  \n",
       "0         27.272726     1  \n",
       "1         -2.727274     1  \n",
       "2         36.161615     1  \n",
       "3         -1.111111     1  \n",
       "4          0.000000     1  \n",
       "...             ...   ...  \n",
       "24947500   0.000000  9999  \n",
       "24947501   0.000000  9999  \n",
       "24947502 -50.000000  9999  \n",
       "24947503   0.000000  9999  \n",
       "24947504   0.000000  9999  \n",
       "\n",
       "[24947505 rows x 5 columns]"
      ]
     },
     "execution_count": 44,
     "metadata": {},
     "output_type": "execute_result"
    }
   ],
   "source": [
    "df"
   ]
  },
  {
   "cell_type": "code",
   "execution_count": 45,
   "id": "9b72e3f1-3f07-4bb4-94f5-c148438fac85",
   "metadata": {},
   "outputs": [],
   "source": [
    "df.to_csv(\"training_mccfr_0.csv\", index=False)"
   ]
  },
  {
   "cell_type": "code",
   "execution_count": null,
   "id": "7e1fe2bd-7cd7-4266-b9a6-92107faaa326",
   "metadata": {},
   "outputs": [],
   "source": [
    "len(information_state_string_to_state)"
   ]
  },
  {
   "cell_type": "code",
   "execution_count": null,
   "id": "6b2a8c5d-94fe-47d1-bc63-43676abbc146",
   "metadata": {},
   "outputs": [],
   "source": [
    "dir(solver)"
   ]
  },
  {
   "cell_type": "code",
   "execution_count": null,
   "id": "8159177f-6d0d-43c8-a8e0-e35b1b6106e2",
   "metadata": {},
   "outputs": [],
   "source": []
  },
  {
   "cell_type": "code",
   "execution_count": null,
   "id": "4afe4f18-fa35-49b7-b10d-238135a0b5bc",
   "metadata": {},
   "outputs": [],
   "source": [
    "# # For an MCCFR solver, you need to do this because the implementation only calls this on copies and so when it serializes these nodes, the current policy actually isn't updated. \n",
    "# # See https://github.com/newmanne/open_spiel/blob/master/open_spiel/algorithms/external_sampling_mccfr.cc#L145\n",
    "# # Possible I'm not understanding something and it's subtly important why this occurs in this way\n",
    "# l = list(info_state_values_table.values())\n",
    "# for i in range(len(l)):\n",
    "#     l[i].apply_regret_matching()\n",
    "# for i in range(5):\n",
    "#     print(l[i].current_policy)"
   ]
  }
 ],
 "metadata": {
  "kernelspec": {
   "display_name": "Python 3 (ipykernel)",
   "language": "python",
   "name": "python3"
  },
  "language_info": {
   "codemirror_mode": {
    "name": "ipython",
    "version": 3
   },
   "file_extension": ".py",
   "mimetype": "text/x-python",
   "name": "python",
   "nbconvert_exporter": "python",
   "pygments_lexer": "ipython3",
   "version": "3.8.2"
  }
 },
 "nbformat": 4,
 "nbformat_minor": 5
}
