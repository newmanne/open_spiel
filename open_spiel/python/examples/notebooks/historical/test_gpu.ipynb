{
 "cells": [
  {
   "cell_type": "code",
   "execution_count": 1,
   "id": "3446f2cd-6835-4d3b-b972-9390336160bf",
   "metadata": {},
   "outputs": [
    {
     "name": "stdout",
     "output_type": "stream",
     "text": [
      "Populating the interactive namespace from numpy and matplotlib\n"
     ]
    },
    {
     "data": {
      "text/html": [
       "\n",
       "    <div class=\"bk-root\">\n",
       "        <a href=\"https://bokeh.org\" target=\"_blank\" class=\"bk-logo bk-logo-small bk-logo-notebook\"></a>\n",
       "        <span id=\"1002\">Loading BokehJS ...</span>\n",
       "    </div>"
      ]
     },
     "metadata": {},
     "output_type": "display_data"
    },
    {
     "data": {
      "application/javascript": [
       "\n",
       "(function(root) {\n",
       "  function now() {\n",
       "    return new Date();\n",
       "  }\n",
       "\n",
       "  var force = true;\n",
       "\n",
       "  if (typeof root._bokeh_onload_callbacks === \"undefined\" || force === true) {\n",
       "    root._bokeh_onload_callbacks = [];\n",
       "    root._bokeh_is_loading = undefined;\n",
       "  }\n",
       "\n",
       "  var JS_MIME_TYPE = 'application/javascript';\n",
       "  var HTML_MIME_TYPE = 'text/html';\n",
       "  var EXEC_MIME_TYPE = 'application/vnd.bokehjs_exec.v0+json';\n",
       "  var CLASS_NAME = 'output_bokeh rendered_html';\n",
       "\n",
       "  /**\n",
       "   * Render data to the DOM node\n",
       "   */\n",
       "  function render(props, node) {\n",
       "    var script = document.createElement(\"script\");\n",
       "    node.appendChild(script);\n",
       "  }\n",
       "\n",
       "  /**\n",
       "   * Handle when an output is cleared or removed\n",
       "   */\n",
       "  function handleClearOutput(event, handle) {\n",
       "    var cell = handle.cell;\n",
       "\n",
       "    var id = cell.output_area._bokeh_element_id;\n",
       "    var server_id = cell.output_area._bokeh_server_id;\n",
       "    // Clean up Bokeh references\n",
       "    if (id != null && id in Bokeh.index) {\n",
       "      Bokeh.index[id].model.document.clear();\n",
       "      delete Bokeh.index[id];\n",
       "    }\n",
       "\n",
       "    if (server_id !== undefined) {\n",
       "      // Clean up Bokeh references\n",
       "      var cmd = \"from bokeh.io.state import curstate; print(curstate().uuid_to_server['\" + server_id + \"'].get_sessions()[0].document.roots[0]._id)\";\n",
       "      cell.notebook.kernel.execute(cmd, {\n",
       "        iopub: {\n",
       "          output: function(msg) {\n",
       "            var id = msg.content.text.trim();\n",
       "            if (id in Bokeh.index) {\n",
       "              Bokeh.index[id].model.document.clear();\n",
       "              delete Bokeh.index[id];\n",
       "            }\n",
       "          }\n",
       "        }\n",
       "      });\n",
       "      // Destroy server and session\n",
       "      var cmd = \"import bokeh.io.notebook as ion; ion.destroy_server('\" + server_id + \"')\";\n",
       "      cell.notebook.kernel.execute(cmd);\n",
       "    }\n",
       "  }\n",
       "\n",
       "  /**\n",
       "   * Handle when a new output is added\n",
       "   */\n",
       "  function handleAddOutput(event, handle) {\n",
       "    var output_area = handle.output_area;\n",
       "    var output = handle.output;\n",
       "\n",
       "    // limit handleAddOutput to display_data with EXEC_MIME_TYPE content only\n",
       "    if ((output.output_type != \"display_data\") || (!Object.prototype.hasOwnProperty.call(output.data, EXEC_MIME_TYPE))) {\n",
       "      return\n",
       "    }\n",
       "\n",
       "    var toinsert = output_area.element.find(\".\" + CLASS_NAME.split(' ')[0]);\n",
       "\n",
       "    if (output.metadata[EXEC_MIME_TYPE][\"id\"] !== undefined) {\n",
       "      toinsert[toinsert.length - 1].firstChild.textContent = output.data[JS_MIME_TYPE];\n",
       "      // store reference to embed id on output_area\n",
       "      output_area._bokeh_element_id = output.metadata[EXEC_MIME_TYPE][\"id\"];\n",
       "    }\n",
       "    if (output.metadata[EXEC_MIME_TYPE][\"server_id\"] !== undefined) {\n",
       "      var bk_div = document.createElement(\"div\");\n",
       "      bk_div.innerHTML = output.data[HTML_MIME_TYPE];\n",
       "      var script_attrs = bk_div.children[0].attributes;\n",
       "      for (var i = 0; i < script_attrs.length; i++) {\n",
       "        toinsert[toinsert.length - 1].firstChild.setAttribute(script_attrs[i].name, script_attrs[i].value);\n",
       "        toinsert[toinsert.length - 1].firstChild.textContent = bk_div.children[0].textContent\n",
       "      }\n",
       "      // store reference to server id on output_area\n",
       "      output_area._bokeh_server_id = output.metadata[EXEC_MIME_TYPE][\"server_id\"];\n",
       "    }\n",
       "  }\n",
       "\n",
       "  function register_renderer(events, OutputArea) {\n",
       "\n",
       "    function append_mime(data, metadata, element) {\n",
       "      // create a DOM node to render to\n",
       "      var toinsert = this.create_output_subarea(\n",
       "        metadata,\n",
       "        CLASS_NAME,\n",
       "        EXEC_MIME_TYPE\n",
       "      );\n",
       "      this.keyboard_manager.register_events(toinsert);\n",
       "      // Render to node\n",
       "      var props = {data: data, metadata: metadata[EXEC_MIME_TYPE]};\n",
       "      render(props, toinsert[toinsert.length - 1]);\n",
       "      element.append(toinsert);\n",
       "      return toinsert\n",
       "    }\n",
       "\n",
       "    /* Handle when an output is cleared or removed */\n",
       "    events.on('clear_output.CodeCell', handleClearOutput);\n",
       "    events.on('delete.Cell', handleClearOutput);\n",
       "\n",
       "    /* Handle when a new output is added */\n",
       "    events.on('output_added.OutputArea', handleAddOutput);\n",
       "\n",
       "    /**\n",
       "     * Register the mime type and append_mime function with output_area\n",
       "     */\n",
       "    OutputArea.prototype.register_mime_type(EXEC_MIME_TYPE, append_mime, {\n",
       "      /* Is output safe? */\n",
       "      safe: true,\n",
       "      /* Index of renderer in `output_area.display_order` */\n",
       "      index: 0\n",
       "    });\n",
       "  }\n",
       "\n",
       "  // register the mime type if in Jupyter Notebook environment and previously unregistered\n",
       "  if (root.Jupyter !== undefined) {\n",
       "    var events = require('base/js/events');\n",
       "    var OutputArea = require('notebook/js/outputarea').OutputArea;\n",
       "\n",
       "    if (OutputArea.prototype.mime_types().indexOf(EXEC_MIME_TYPE) == -1) {\n",
       "      register_renderer(events, OutputArea);\n",
       "    }\n",
       "  }\n",
       "\n",
       "  \n",
       "  if (typeof (root._bokeh_timeout) === \"undefined\" || force === true) {\n",
       "    root._bokeh_timeout = Date.now() + 5000;\n",
       "    root._bokeh_failed_load = false;\n",
       "  }\n",
       "\n",
       "  var NB_LOAD_WARNING = {'data': {'text/html':\n",
       "     \"<div style='background-color: #fdd'>\\n\"+\n",
       "     \"<p>\\n\"+\n",
       "     \"BokehJS does not appear to have successfully loaded. If loading BokehJS from CDN, this \\n\"+\n",
       "     \"may be due to a slow or bad network connection. Possible fixes:\\n\"+\n",
       "     \"</p>\\n\"+\n",
       "     \"<ul>\\n\"+\n",
       "     \"<li>re-rerun `output_notebook()` to attempt to load from CDN again, or</li>\\n\"+\n",
       "     \"<li>use INLINE resources instead, as so:</li>\\n\"+\n",
       "     \"</ul>\\n\"+\n",
       "     \"<code>\\n\"+\n",
       "     \"from bokeh.resources import INLINE\\n\"+\n",
       "     \"output_notebook(resources=INLINE)\\n\"+\n",
       "     \"</code>\\n\"+\n",
       "     \"</div>\"}};\n",
       "\n",
       "  function display_loaded() {\n",
       "    var el = document.getElementById(\"1002\");\n",
       "    if (el != null) {\n",
       "      el.textContent = \"BokehJS is loading...\";\n",
       "    }\n",
       "    if (root.Bokeh !== undefined) {\n",
       "      if (el != null) {\n",
       "        el.textContent = \"BokehJS \" + root.Bokeh.version + \" successfully loaded.\";\n",
       "      }\n",
       "    } else if (Date.now() < root._bokeh_timeout) {\n",
       "      setTimeout(display_loaded, 100)\n",
       "    }\n",
       "  }\n",
       "\n",
       "\n",
       "  function run_callbacks() {\n",
       "    try {\n",
       "      root._bokeh_onload_callbacks.forEach(function(callback) {\n",
       "        if (callback != null)\n",
       "          callback();\n",
       "      });\n",
       "    } finally {\n",
       "      delete root._bokeh_onload_callbacks\n",
       "    }\n",
       "    console.debug(\"Bokeh: all callbacks have finished\");\n",
       "  }\n",
       "\n",
       "  function load_libs(css_urls, js_urls, callback) {\n",
       "    if (css_urls == null) css_urls = [];\n",
       "    if (js_urls == null) js_urls = [];\n",
       "\n",
       "    root._bokeh_onload_callbacks.push(callback);\n",
       "    if (root._bokeh_is_loading > 0) {\n",
       "      console.debug(\"Bokeh: BokehJS is being loaded, scheduling callback at\", now());\n",
       "      return null;\n",
       "    }\n",
       "    if (js_urls == null || js_urls.length === 0) {\n",
       "      run_callbacks();\n",
       "      return null;\n",
       "    }\n",
       "    console.debug(\"Bokeh: BokehJS not loaded, scheduling load and callback at\", now());\n",
       "    root._bokeh_is_loading = css_urls.length + js_urls.length;\n",
       "\n",
       "    function on_load() {\n",
       "      root._bokeh_is_loading--;\n",
       "      if (root._bokeh_is_loading === 0) {\n",
       "        console.debug(\"Bokeh: all BokehJS libraries/stylesheets loaded\");\n",
       "        run_callbacks()\n",
       "      }\n",
       "    }\n",
       "\n",
       "    function on_error(url) {\n",
       "      console.error(\"failed to load \" + url);\n",
       "    }\n",
       "\n",
       "    for (let i = 0; i < css_urls.length; i++) {\n",
       "      const url = css_urls[i];\n",
       "      const element = document.createElement(\"link\");\n",
       "      element.onload = on_load;\n",
       "      element.onerror = on_error.bind(null, url);\n",
       "      element.rel = \"stylesheet\";\n",
       "      element.type = \"text/css\";\n",
       "      element.href = url;\n",
       "      console.debug(\"Bokeh: injecting link tag for BokehJS stylesheet: \", url);\n",
       "      document.body.appendChild(element);\n",
       "    }\n",
       "\n",
       "    const hashes = {\"https://cdn.bokeh.org/bokeh/release/bokeh-2.3.3.min.js\": \"dM3QQsP+wXdHg42wTqW85BjZQdLNNIXqlPw/BgKoExPmTG7ZLML4EGqLMfqHT6ON\", \"https://cdn.bokeh.org/bokeh/release/bokeh-tables-2.3.3.min.js\": \"8x57I4YuIfu8XyZfFo0XVr2WAT8EK4rh/uDe3wF7YuW2FNUSNEpJbsPaB1nJ2fz2\", \"https://cdn.bokeh.org/bokeh/release/bokeh-widgets-2.3.3.min.js\": \"3QTqdz9LyAm2i0sG5XTePsHec3UHWwVsrOL68SYRoAXsafvfAyqtQ+h440+qIBhS\"};\n",
       "\n",
       "    for (let i = 0; i < js_urls.length; i++) {\n",
       "      const url = js_urls[i];\n",
       "      const element = document.createElement('script');\n",
       "      element.onload = on_load;\n",
       "      element.onerror = on_error.bind(null, url);\n",
       "      element.async = false;\n",
       "      element.src = url;\n",
       "      if (url in hashes) {\n",
       "        element.crossOrigin = \"anonymous\";\n",
       "        element.integrity = \"sha384-\" + hashes[url];\n",
       "      }\n",
       "      console.debug(\"Bokeh: injecting script tag for BokehJS library: \", url);\n",
       "      document.head.appendChild(element);\n",
       "    }\n",
       "  };\n",
       "\n",
       "  function inject_raw_css(css) {\n",
       "    const element = document.createElement(\"style\");\n",
       "    element.appendChild(document.createTextNode(css));\n",
       "    document.body.appendChild(element);\n",
       "  }\n",
       "\n",
       "  \n",
       "  var js_urls = [\"https://cdn.bokeh.org/bokeh/release/bokeh-2.3.3.min.js\", \"https://cdn.bokeh.org/bokeh/release/bokeh-widgets-2.3.3.min.js\", \"https://cdn.bokeh.org/bokeh/release/bokeh-tables-2.3.3.min.js\"];\n",
       "  var css_urls = [];\n",
       "  \n",
       "\n",
       "  var inline_js = [\n",
       "    function(Bokeh) {\n",
       "      Bokeh.set_log_level(\"info\");\n",
       "    },\n",
       "    function(Bokeh) {\n",
       "    \n",
       "    \n",
       "    }\n",
       "  ];\n",
       "\n",
       "  function run_inline_js() {\n",
       "    \n",
       "    if (root.Bokeh !== undefined || force === true) {\n",
       "      \n",
       "    for (var i = 0; i < inline_js.length; i++) {\n",
       "      inline_js[i].call(root, root.Bokeh);\n",
       "    }\n",
       "    if (force === true) {\n",
       "        display_loaded();\n",
       "      }} else if (Date.now() < root._bokeh_timeout) {\n",
       "      setTimeout(run_inline_js, 100);\n",
       "    } else if (!root._bokeh_failed_load) {\n",
       "      console.log(\"Bokeh: BokehJS failed to load within specified timeout.\");\n",
       "      root._bokeh_failed_load = true;\n",
       "    } else if (force !== true) {\n",
       "      var cell = $(document.getElementById(\"1002\")).parents('.cell').data().cell;\n",
       "      cell.output_area.append_execute_result(NB_LOAD_WARNING)\n",
       "    }\n",
       "\n",
       "  }\n",
       "\n",
       "  if (root._bokeh_is_loading === 0) {\n",
       "    console.debug(\"Bokeh: BokehJS loaded, going straight to plotting\");\n",
       "    run_inline_js();\n",
       "  } else {\n",
       "    load_libs(css_urls, js_urls, function() {\n",
       "      console.debug(\"Bokeh: BokehJS plotting callback run at\", now());\n",
       "      run_inline_js();\n",
       "    });\n",
       "  }\n",
       "}(window));"
      ],
      "application/vnd.bokehjs_load.v0+json": "\n(function(root) {\n  function now() {\n    return new Date();\n  }\n\n  var force = true;\n\n  if (typeof root._bokeh_onload_callbacks === \"undefined\" || force === true) {\n    root._bokeh_onload_callbacks = [];\n    root._bokeh_is_loading = undefined;\n  }\n\n  \n\n  \n  if (typeof (root._bokeh_timeout) === \"undefined\" || force === true) {\n    root._bokeh_timeout = Date.now() + 5000;\n    root._bokeh_failed_load = false;\n  }\n\n  var NB_LOAD_WARNING = {'data': {'text/html':\n     \"<div style='background-color: #fdd'>\\n\"+\n     \"<p>\\n\"+\n     \"BokehJS does not appear to have successfully loaded. If loading BokehJS from CDN, this \\n\"+\n     \"may be due to a slow or bad network connection. Possible fixes:\\n\"+\n     \"</p>\\n\"+\n     \"<ul>\\n\"+\n     \"<li>re-rerun `output_notebook()` to attempt to load from CDN again, or</li>\\n\"+\n     \"<li>use INLINE resources instead, as so:</li>\\n\"+\n     \"</ul>\\n\"+\n     \"<code>\\n\"+\n     \"from bokeh.resources import INLINE\\n\"+\n     \"output_notebook(resources=INLINE)\\n\"+\n     \"</code>\\n\"+\n     \"</div>\"}};\n\n  function display_loaded() {\n    var el = document.getElementById(\"1002\");\n    if (el != null) {\n      el.textContent = \"BokehJS is loading...\";\n    }\n    if (root.Bokeh !== undefined) {\n      if (el != null) {\n        el.textContent = \"BokehJS \" + root.Bokeh.version + \" successfully loaded.\";\n      }\n    } else if (Date.now() < root._bokeh_timeout) {\n      setTimeout(display_loaded, 100)\n    }\n  }\n\n\n  function run_callbacks() {\n    try {\n      root._bokeh_onload_callbacks.forEach(function(callback) {\n        if (callback != null)\n          callback();\n      });\n    } finally {\n      delete root._bokeh_onload_callbacks\n    }\n    console.debug(\"Bokeh: all callbacks have finished\");\n  }\n\n  function load_libs(css_urls, js_urls, callback) {\n    if (css_urls == null) css_urls = [];\n    if (js_urls == null) js_urls = [];\n\n    root._bokeh_onload_callbacks.push(callback);\n    if (root._bokeh_is_loading > 0) {\n      console.debug(\"Bokeh: BokehJS is being loaded, scheduling callback at\", now());\n      return null;\n    }\n    if (js_urls == null || js_urls.length === 0) {\n      run_callbacks();\n      return null;\n    }\n    console.debug(\"Bokeh: BokehJS not loaded, scheduling load and callback at\", now());\n    root._bokeh_is_loading = css_urls.length + js_urls.length;\n\n    function on_load() {\n      root._bokeh_is_loading--;\n      if (root._bokeh_is_loading === 0) {\n        console.debug(\"Bokeh: all BokehJS libraries/stylesheets loaded\");\n        run_callbacks()\n      }\n    }\n\n    function on_error(url) {\n      console.error(\"failed to load \" + url);\n    }\n\n    for (let i = 0; i < css_urls.length; i++) {\n      const url = css_urls[i];\n      const element = document.createElement(\"link\");\n      element.onload = on_load;\n      element.onerror = on_error.bind(null, url);\n      element.rel = \"stylesheet\";\n      element.type = \"text/css\";\n      element.href = url;\n      console.debug(\"Bokeh: injecting link tag for BokehJS stylesheet: \", url);\n      document.body.appendChild(element);\n    }\n\n    const hashes = {\"https://cdn.bokeh.org/bokeh/release/bokeh-2.3.3.min.js\": \"dM3QQsP+wXdHg42wTqW85BjZQdLNNIXqlPw/BgKoExPmTG7ZLML4EGqLMfqHT6ON\", \"https://cdn.bokeh.org/bokeh/release/bokeh-tables-2.3.3.min.js\": \"8x57I4YuIfu8XyZfFo0XVr2WAT8EK4rh/uDe3wF7YuW2FNUSNEpJbsPaB1nJ2fz2\", \"https://cdn.bokeh.org/bokeh/release/bokeh-widgets-2.3.3.min.js\": \"3QTqdz9LyAm2i0sG5XTePsHec3UHWwVsrOL68SYRoAXsafvfAyqtQ+h440+qIBhS\"};\n\n    for (let i = 0; i < js_urls.length; i++) {\n      const url = js_urls[i];\n      const element = document.createElement('script');\n      element.onload = on_load;\n      element.onerror = on_error.bind(null, url);\n      element.async = false;\n      element.src = url;\n      if (url in hashes) {\n        element.crossOrigin = \"anonymous\";\n        element.integrity = \"sha384-\" + hashes[url];\n      }\n      console.debug(\"Bokeh: injecting script tag for BokehJS library: \", url);\n      document.head.appendChild(element);\n    }\n  };\n\n  function inject_raw_css(css) {\n    const element = document.createElement(\"style\");\n    element.appendChild(document.createTextNode(css));\n    document.body.appendChild(element);\n  }\n\n  \n  var js_urls = [\"https://cdn.bokeh.org/bokeh/release/bokeh-2.3.3.min.js\", \"https://cdn.bokeh.org/bokeh/release/bokeh-widgets-2.3.3.min.js\", \"https://cdn.bokeh.org/bokeh/release/bokeh-tables-2.3.3.min.js\"];\n  var css_urls = [];\n  \n\n  var inline_js = [\n    function(Bokeh) {\n      Bokeh.set_log_level(\"info\");\n    },\n    function(Bokeh) {\n    \n    \n    }\n  ];\n\n  function run_inline_js() {\n    \n    if (root.Bokeh !== undefined || force === true) {\n      \n    for (var i = 0; i < inline_js.length; i++) {\n      inline_js[i].call(root, root.Bokeh);\n    }\n    if (force === true) {\n        display_loaded();\n      }} else if (Date.now() < root._bokeh_timeout) {\n      setTimeout(run_inline_js, 100);\n    } else if (!root._bokeh_failed_load) {\n      console.log(\"Bokeh: BokehJS failed to load within specified timeout.\");\n      root._bokeh_failed_load = true;\n    } else if (force !== true) {\n      var cell = $(document.getElementById(\"1002\")).parents('.cell').data().cell;\n      cell.output_area.append_execute_result(NB_LOAD_WARNING)\n    }\n\n  }\n\n  if (root._bokeh_is_loading === 0) {\n    console.debug(\"Bokeh: BokehJS loaded, going straight to plotting\");\n    run_inline_js();\n  } else {\n    load_libs(css_urls, js_urls, function() {\n      console.debug(\"Bokeh: BokehJS plotting callback run at\", now());\n      run_inline_js();\n    });\n  }\n}(window));"
     },
     "metadata": {},
     "output_type": "display_data"
    }
   ],
   "source": [
    "%load_ext autoreload\n",
    "%autoreload 2\n",
    "%pylab inline\n",
    "import json\n",
    "\n",
    "import sys\n",
    "import glob\n",
    "import pandas as pda\n",
    "import os\n",
    "import seaborn as sns\n",
    "# from tqdm import tqdm_notebook as tqdm\n",
    "from tqdm import tqdm\n",
    "import pickle\n",
    "from statsmodels.distributions.empirical_distribution import ECDF\n",
    "from collections import defaultdict\n",
    "import logging\n",
    "from open_spiel.python.examples.ubc_mccfr_cpp_example import action_to_bids\n",
    "from open_spiel.python.examples.ubc_nfsp_example import policy_from_checkpoint\n",
    "from open_spiel.python.examples.ubc_br import BR_DIR, make_dqn_agent\n",
    "from open_spiel.python.examples.ubc_utils import *\n",
    "from open_spiel.python.examples.ubc_decorators import CachingAgentDecorator\n",
    "from open_spiel.python.examples.ubc_decorators import CachingAgentDecorator, TakeSingleActionDecorator\n",
    "from open_spiel.python.examples.straightforward_agent import StraightforwardAgent\n",
    "\n",
    "from open_spiel.python.pytorch.ubc_nfsp import NFSP\n",
    "import bokeh\n",
    "from bokeh.plotting import figure, show\n",
    "from bokeh.io import output_notebook\n",
    "from bokeh.models import HoverTool, ColumnDataSource, ColorBar, LogColorMapper, LinearColorMapper\n",
    "from bokeh.transform import linear_cmap, log_cmap\n",
    "from open_spiel.python import rl_environment\n",
    "import yaml\n",
    "from open_spiel.python.pytorch.ubc_rnn import AuctionRNN\n",
    "output_notebook()"
   ]
  },
  {
   "cell_type": "code",
   "execution_count": 2,
   "id": "f93c22d9-11ce-42c8-93f3-182a8bf412b5",
   "metadata": {},
   "outputs": [],
   "source": [
    "game_name = 'big_game_2.json'\n",
    "game = smart_load_sequential_game('clock_auction', dict(filename=game_name))\n",
    "num_players = 2\n",
    "num_products = 3\n",
    "num_actions = game.num_distinct_actions()"
   ]
  },
  {
   "cell_type": "code",
   "execution_count": 3,
   "id": "c4b446b6-ec1a-470e-a707-9713cfb8f0b7",
   "metadata": {},
   "outputs": [],
   "source": [
    "input_size = len(game.new_initial_state().child(0).child(0).information_state_tensor())"
   ]
  },
  {
   "cell_type": "code",
   "execution_count": 4,
   "id": "d71defca-6075-43a5-92cd-02cc8f384e8c",
   "metadata": {},
   "outputs": [
    {
     "data": {
      "text/plain": [
       "3046"
      ]
     },
     "execution_count": 4,
     "metadata": {},
     "output_type": "execute_result"
    }
   ],
   "source": [
    "input_size"
   ]
  },
  {
   "cell_type": "code",
   "execution_count": 5,
   "id": "4e94d1f4-49e2-4a00-8a27-e8f8aa7b8900",
   "metadata": {},
   "outputs": [],
   "source": [
    "model = AuctionRNN(2, 3, input_size, game.num_distinct_actions())\n",
    "model_gpu = AuctionRNN(2, 3, input_size, game.num_distinct_actions()).to('cuda')"
   ]
  },
  {
   "cell_type": "code",
   "execution_count": 6,
   "id": "ffd1f599-8845-4f8c-b85f-04f181e73d11",
   "metadata": {},
   "outputs": [],
   "source": [
    "from open_spiel.python.pytorch import ubc_nfsp, ubc_dqn\n",
    "model = ubc_dqn.MLP(36, [128,], num_actions, 2, 3)\n",
    "model_gpu = ubc_dqn.MLP(36, [128,], num_actions, 2, 3).to('cuda')"
   ]
  },
  {
   "cell_type": "code",
   "execution_count": 7,
   "id": "7262ce54-9bc1-497f-996c-139015ba1029",
   "metadata": {},
   "outputs": [],
   "source": [
    "x = game.new_initial_state().child(0).child(0).child(num_actions - 1).child(num_actions - 1).child(num_actions - 1).child(num_actions - 1).information_state_tensor()"
   ]
  },
  {
   "cell_type": "code",
   "execution_count": 8,
   "id": "07c391e2-b17a-4d8f-be49-59a7bae494ce",
   "metadata": {},
   "outputs": [],
   "source": [
    "batch = model.prep_batch([model.reshape_infostate(x) for _ in range(1024)])\n",
    "batch_gpu = model_gpu.prep_batch([model_gpu.reshape_infostate(x) for _ in range(1024)]).cuda()"
   ]
  },
  {
   "cell_type": "code",
   "execution_count": 9,
   "id": "e60ab169-2ad9-4e82-839e-2478a0b4ae59",
   "metadata": {},
   "outputs": [
    {
     "name": "stderr",
     "output_type": "stream",
     "text": [
      "100%|██████████| 10000/10000 [00:02<00:00, 3828.25it/s]\n"
     ]
    }
   ],
   "source": [
    "with torch.no_grad():\n",
    "    for _ in tqdm(range(10000)):\n",
    "        model(batch)"
   ]
  },
  {
   "cell_type": "code",
   "execution_count": 10,
   "id": "68a4cb7a-5ab9-45e3-8e8d-c8a6895f863c",
   "metadata": {},
   "outputs": [
    {
     "name": "stderr",
     "output_type": "stream",
     "text": [
      "100%|██████████| 10000/10000 [00:01<00:00, 8854.76it/s]\n"
     ]
    }
   ],
   "source": [
    "with torch.no_grad():\n",
    "    for _ in tqdm(range(10000)):\n",
    "        model_gpu(batch_gpu)"
   ]
  },
  {
   "cell_type": "code",
   "execution_count": 11,
   "id": "61e09d46-c31b-47a8-99ff-eca08eb0e772",
   "metadata": {},
   "outputs": [
    {
     "name": "stderr",
     "output_type": "stream",
     "text": [
      "  0%|          | 0/100 [00:00<?, ?it/s]\n"
     ]
    },
    {
     "ename": "AttributeError",
     "evalue": "'MLP' object has no attribute 'rnn'",
     "output_type": "error",
     "traceback": [
      "\u001b[0;31m---------------------------------------------------------------------------\u001b[0m",
      "\u001b[0;31mAttributeError\u001b[0m                            Traceback (most recent call last)",
      "\u001b[0;32m<ipython-input-11-9b33438dbc47>\u001b[0m in \u001b[0;36m<module>\u001b[0;34m\u001b[0m\n\u001b[1;32m      1\u001b[0m \u001b[0;32mfor\u001b[0m \u001b[0m_\u001b[0m \u001b[0;32min\u001b[0m \u001b[0mtqdm\u001b[0m\u001b[0;34m(\u001b[0m\u001b[0mrange\u001b[0m\u001b[0;34m(\u001b[0m\u001b[0;36m100\u001b[0m\u001b[0;34m)\u001b[0m\u001b[0;34m)\u001b[0m\u001b[0;34m:\u001b[0m\u001b[0;34m\u001b[0m\u001b[0;34m\u001b[0m\u001b[0m\n\u001b[0;32m----> 2\u001b[0;31m     \u001b[0mmodel\u001b[0m\u001b[0;34m.\u001b[0m\u001b[0mrnn\u001b[0m\u001b[0;34m(\u001b[0m\u001b[0mbatch\u001b[0m\u001b[0;34m)\u001b[0m\u001b[0;34m\u001b[0m\u001b[0;34m\u001b[0m\u001b[0m\n\u001b[0m",
      "\u001b[0;32m/apps/open_spiel/venv/lib/python3.6/site-packages/torch/nn/modules/module.py\u001b[0m in \u001b[0;36m__getattr__\u001b[0;34m(self, name)\u001b[0m\n\u001b[1;32m   1176\u001b[0m                 \u001b[0;32mreturn\u001b[0m \u001b[0mmodules\u001b[0m\u001b[0;34m[\u001b[0m\u001b[0mname\u001b[0m\u001b[0;34m]\u001b[0m\u001b[0;34m\u001b[0m\u001b[0;34m\u001b[0m\u001b[0m\n\u001b[1;32m   1177\u001b[0m         raise AttributeError(\"'{}' object has no attribute '{}'\".format(\n\u001b[0;32m-> 1178\u001b[0;31m             type(self).__name__, name))\n\u001b[0m\u001b[1;32m   1179\u001b[0m \u001b[0;34m\u001b[0m\u001b[0m\n\u001b[1;32m   1180\u001b[0m     \u001b[0;32mdef\u001b[0m \u001b[0m__setattr__\u001b[0m\u001b[0;34m(\u001b[0m\u001b[0mself\u001b[0m\u001b[0;34m,\u001b[0m \u001b[0mname\u001b[0m\u001b[0;34m:\u001b[0m \u001b[0mstr\u001b[0m\u001b[0;34m,\u001b[0m \u001b[0mvalue\u001b[0m\u001b[0;34m:\u001b[0m \u001b[0mUnion\u001b[0m\u001b[0;34m[\u001b[0m\u001b[0mTensor\u001b[0m\u001b[0;34m,\u001b[0m \u001b[0;34m'Module'\u001b[0m\u001b[0;34m]\u001b[0m\u001b[0;34m)\u001b[0m \u001b[0;34m->\u001b[0m \u001b[0;32mNone\u001b[0m\u001b[0;34m:\u001b[0m\u001b[0;34m\u001b[0m\u001b[0;34m\u001b[0m\u001b[0m\n",
      "\u001b[0;31mAttributeError\u001b[0m: 'MLP' object has no attribute 'rnn'"
     ]
    }
   ],
   "source": [
    "for _ in tqdm(range(100)):\n",
    "    model.rnn(batch)"
   ]
  },
  {
   "cell_type": "code",
   "execution_count": null,
   "id": "efad3067-bac4-4bf8-9dec-6001431292b8",
   "metadata": {},
   "outputs": [],
   "source": [
    "for _ in tqdm(range(100)):\n",
    "    model_gpu.rnn(batch_gpu)"
   ]
  },
  {
   "cell_type": "code",
   "execution_count": 32,
   "id": "bf53edc5-dcc5-470d-aa40-681327772b3a",
   "metadata": {
    "tags": []
   },
   "outputs": [
    {
     "name": "stderr",
     "output_type": "stream",
     "text": [
      "INFO:absl:Iterating best responses\n",
      "INFO:absl:Loading network parameters from /apps/open_spiel/open_spiel/python/examples/notebooks/configs/jan13/lstm_deep.yml\n",
      "WARNING:absl:Found argument filename on command line but not in config\n",
      "WARNING:absl:Found argument network_config_file on command line but not in config\n",
      "WARNING:absl:Found argument output_dir on command line but not in config\n",
      "WARNING:absl:Found argument dispatch_br on command line but not in config\n",
      "WARNING:absl:Found argument report_freq on command line but not in config\n",
      "WARNING:absl:Found argument iterate_br on command line but not in config\n",
      "WARNING:absl:Found argument device on command line but not in config\n",
      "INFO:absl:Setting numpy and torch seed to 1234\n",
      "INFO:absl:Network params: {'add_explore_transitions': False, 'anticipatory_param': 0.1, 'batch_size': 256, 'epsilon_end': 0.05, 'epsilon_start': 0.9, 'eval_every': 10000, 'learn_every': 64, 'loss_str': 'mse', 'min_buffer_size_to_learn': 5000, 'num_training_episodes': 10000, 'optimizer_str': 'sgd', 'replay_buffer_capacity': 50000, 'reservoir_buffer_capacity': 2000000, 'rl_learning_rate': 0.01, 'rl_model': 'recurrent', 'rl_model_args': {'hidden_size': 128, 'num_layers': 2, 'rnn_model': 'lstm'}, 'seed': 1234, 'sl_learning_rate': 0.01, 'sl_model': 'recurrent', 'sl_model_args': {'hidden_size': 128, 'num_layers': 2, 'rnn_model': 'lstm'}, 'update_target_network_every': 10000, 'filename': 'small_game_2.json', 'network_config_file': '/apps/open_spiel/open_spiel/python/examples/notebooks/configs/jan13/lstm_deep.yml', 'output_dir': '/shared/outputs/jan14_small/lstm_creep', 'dispatch_br': 0, 'report_freq': 2000, 'iterate_br': 1, 'device': 'cpu'}\n",
      "INFO:absl:Loading clock_auction\n",
      "INFO:absl:Game loaded\n",
      "INFO:absl:Using game instance: turn_based_simultaneous_game\n",
      "INFO:absl:Game has a state size of 106, 4 distinct actions, and 2 players\n",
      "INFO:absl:Game has 2 products\n",
      "INFO:absl:Creating NFSP using device: cpu\n",
      "INFO:absl:Creating DQN using device: cpu\n",
      "INFO:absl:Creating NFSP using device: cpu\n",
      "INFO:absl:Creating DQN using device: cpu\n",
      "INFO:absl:----Episode 2000 ---\n",
      "INFO:absl:Episode length stats:\n",
      "count    2000.000000\n",
      "mean        3.267000\n",
      "std         1.545932\n",
      "min         2.000000\n",
      "25%         2.000000\n",
      "50%         2.000000\n",
      "75%         4.000000\n",
      "max        10.000000\n",
      "dtype: float64\n",
      "INFO:absl:{'Bid for 0,0 licenses @ $0 with activity 0': tensor(0.0499), 'Bid for 0,1 licenses @ $50 with activity 50': tensor(0.0006), 'Bid for 1,0 licenses @ $75 with activity 75': tensor(-0.0108), 'Bid for 1,1 licenses @ $125 with activity 125': tensor(0.0582)}\n",
      "INFO:absl:Train time 0\n",
      "INFO:absl:Total time 10.119734764099121\n",
      "INFO:absl:Training the DQN for player 0 is a 0.0 fraction\n",
      "INFO:absl:(None, tensor([0]))\n",
      "INFO:absl:{'Bid for 0,0 licenses @ $0 with activity 0': tensor(0.0132), 'Bid for 0,1 licenses @ $50 with activity 50': tensor(-0.0120), 'Bid for 1,0 licenses @ $75 with activity 75': tensor(0.1226), 'Bid for 1,1 licenses @ $125 with activity 125': tensor(-0.0524)}\n",
      "INFO:absl:Train time 0\n",
      "INFO:absl:Total time 10.141223907470703\n",
      "INFO:absl:Training the DQN for player 1 is a 0.0 fraction\n",
      "INFO:absl:(None, tensor([0]))\n",
      "INFO:absl:----Episode 4000 ---\n",
      "INFO:absl:Episode length stats:\n",
      "count    4000.000000\n",
      "mean        3.269000\n",
      "std         1.561489\n",
      "min         2.000000\n",
      "25%         2.000000\n",
      "50%         2.000000\n",
      "75%         4.000000\n",
      "max        10.000000\n",
      "dtype: float64\n",
      "INFO:absl:{'Bid for 0,0 licenses @ $0 with activity 0': tensor(0.0499), 'Bid for 0,1 licenses @ $50 with activity 50': tensor(0.0006), 'Bid for 1,0 licenses @ $75 with activity 75': tensor(-0.0108), 'Bid for 1,1 licenses @ $125 with activity 125': tensor(0.0582)}\n",
      "INFO:absl:Train time 0\n",
      "INFO:absl:Total time 20.269797563552856\n",
      "INFO:absl:Training the DQN for player 0 is a 0.0 fraction\n",
      "INFO:absl:(None, tensor([0]))\n",
      "INFO:absl:{'Bid for 0,0 licenses @ $0 with activity 0': tensor(0.0132), 'Bid for 0,1 licenses @ $50 with activity 50': tensor(-0.0120), 'Bid for 1,0 licenses @ $75 with activity 75': tensor(0.1226), 'Bid for 1,1 licenses @ $125 with activity 125': tensor(-0.0524)}\n",
      "INFO:absl:Train time 0\n",
      "INFO:absl:Total time 20.28831934928894\n",
      "INFO:absl:Training the DQN for player 1 is a 0.0 fraction\n",
      "INFO:absl:(None, tensor([0]))\n",
      "INFO:absl:----Episode 6000 ---\n",
      "INFO:absl:Episode length stats:\n",
      "count    6000.000000\n",
      "mean        3.271333\n",
      "std         1.563794\n",
      "min         2.000000\n",
      "25%         2.000000\n",
      "50%         2.000000\n",
      "75%         4.000000\n",
      "max        14.000000\n",
      "dtype: float64\n",
      "INFO:absl:{'Bid for 0,0 licenses @ $0 with activity 0': tensor(0.0499), 'Bid for 0,1 licenses @ $50 with activity 50': tensor(0.0006), 'Bid for 1,0 licenses @ $75 with activity 75': tensor(-0.0108), 'Bid for 1,1 licenses @ $125 with activity 125': tensor(0.0582)}\n",
      "INFO:absl:Train time 0\n",
      "INFO:absl:Total time 30.5522358417511\n",
      "INFO:absl:Training the DQN for player 0 is a 0.0 fraction\n",
      "INFO:absl:(None, tensor([0]))\n",
      "INFO:absl:{'Bid for 0,0 licenses @ $0 with activity 0': tensor(0.0132), 'Bid for 0,1 licenses @ $50 with activity 50': tensor(-0.0120), 'Bid for 1,0 licenses @ $75 with activity 75': tensor(0.1226), 'Bid for 1,1 licenses @ $125 with activity 125': tensor(-0.0524)}\n",
      "INFO:absl:Train time 0\n",
      "INFO:absl:Total time 30.570632457733154\n",
      "INFO:absl:Training the DQN for player 1 is a 0.0 fraction\n",
      "INFO:absl:(None, tensor([0]))\n",
      "INFO:absl:----Episode 8000 ---\n",
      "INFO:absl:Episode length stats:\n",
      "count    8000.000000\n",
      "mean        3.307500\n",
      "std         1.622274\n",
      "min         2.000000\n",
      "25%         2.000000\n",
      "50%         2.000000\n",
      "75%         4.000000\n",
      "max        14.000000\n",
      "dtype: float64\n",
      "INFO:absl:{'Bid for 0,0 licenses @ $0 with activity 0': tensor(7.9028), 'Bid for 0,1 licenses @ $50 with activity 50': tensor(12.2267), 'Bid for 1,0 licenses @ $75 with activity 75': tensor(14.8691), 'Bid for 1,1 licenses @ $125 with activity 125': tensor(14.2639)}\n",
      "INFO:absl:Train time 1.4927186965942383\n",
      "INFO:absl:Total time 44.51571559906006\n",
      "INFO:absl:Training the DQN for player 0 is a 0.033530685388347505 fraction\n",
      "INFO:absl:(None, tensor(387.8259))\n",
      "INFO:absl:{'Bid for 0,0 licenses @ $0 with activity 0': tensor(3.8871), 'Bid for 0,1 licenses @ $50 with activity 50': tensor(11.7210), 'Bid for 1,0 licenses @ $75 with activity 75': tensor(14.4040), 'Bid for 1,1 licenses @ $125 with activity 125': tensor(11.0262)}\n",
      "INFO:absl:Train time 1.2767953872680664\n",
      "INFO:absl:Total time 44.53565573692322\n",
      "INFO:absl:Training the DQN for player 1 is a 0.028667513351821695 fraction\n",
      "INFO:absl:(None, tensor(502.5058))\n",
      "INFO:absl:[0] Loss: (None, tensor(515.1539))\n",
      "INFO:absl:[1] Loss: (None, tensor(417.2265))\n",
      "INFO:absl:----Episode 10000 ---\n",
      "INFO:absl:Episode length stats:\n",
      "count    10000.000000\n",
      "mean         3.379400\n",
      "std          1.716144\n",
      "min          2.000000\n",
      "25%          2.000000\n",
      "50%          2.000000\n",
      "75%          4.000000\n",
      "max         14.000000\n",
      "dtype: float64\n",
      "INFO:absl:{'Bid for 0,0 licenses @ $0 with activity 0': tensor(7.2675), 'Bid for 0,1 licenses @ $50 with activity 50': tensor(13.3940), 'Bid for 1,0 licenses @ $75 with activity 75': tensor(15.7178), 'Bid for 1,1 licenses @ $125 with activity 125': tensor(16.6880)}\n",
      "INFO:absl:Train time 3.2271573543548584\n",
      "INFO:absl:Total time 60.20210909843445\n",
      "INFO:absl:Training the DQN for player 0 is a 0.053603429053391126 fraction\n",
      "INFO:absl:(None, tensor(515.1539))\n",
      "INFO:absl:{'Bid for 0,0 licenses @ $0 with activity 0': tensor(3.3489), 'Bid for 0,1 licenses @ $50 with activity 50': tensor(13.8989), 'Bid for 1,0 licenses @ $75 with activity 75': tensor(15.0832), 'Bid for 1,1 licenses @ $125 with activity 125': tensor(13.3342)}\n",
      "INFO:absl:Train time 2.8828253746032715\n",
      "INFO:absl:Total time 60.224260091781616\n",
      "INFO:absl:Training the DQN for player 1 is a 0.047866489604267676 fraction\n",
      "INFO:absl:(None, tensor(417.2265))\n",
      "INFO:absl:All done. Goodbye!\n"
     ]
    }
   ],
   "source": [
    "from open_spiel.python.examples.ubc_nfsp_example import policy_from_checkpoint, main\n",
    "import pprofile\n",
    "profiler = pprofile.Profile()\n",
    "with profiler:\n",
    "    main(['/apps/open_spiel/open_spiel/python/examples/ubc_nfsp_example.py', '--filename', 'small_game_2.json', '--network_config_file', '/apps/open_spiel/open_spiel/python/examples/notebooks/configs/jan13/lstm_deep.yml', '--output_dir', '/shared/outputs/jan14_small/lstm_creep', '--dispatch_br', 'false', '--num_training_episodes', '10_000', '--iterate_br', 'true', '--report_freq', '2_000', '--device', 'cpu'])\n",
    "\n",
    "# profiler.print_stats()\n",
    "profiler.dump_stats(\"output/profile.txt\")\n"
   ]
  },
  {
   "cell_type": "code",
   "execution_count": 27,
   "id": "64061869-d2b2-4172-9830-9e0017493347",
   "metadata": {},
   "outputs": [],
   "source": [
    "t = torch.tensor([1, 2, 3])"
   ]
  },
  {
   "cell_type": "code",
   "execution_count": 29,
   "id": "88ea2704-d888-4ea0-a9a3-f234f0b879be",
   "metadata": {},
   "outputs": [
    {
     "data": {
      "text/plain": [
       "tensor([[1, 2, 3]])"
      ]
     },
     "execution_count": 29,
     "metadata": {},
     "output_type": "execute_result"
    }
   ],
   "source": [
    "t.unsqueeze(0)"
   ]
  },
  {
   "cell_type": "code",
   "execution_count": 8,
   "id": "a84fde35-03c4-49d6-b1c8-9e09e334784b",
   "metadata": {},
   "outputs": [],
   "source": [
    "infostate = torch.tensor([1, 2, 3, 4, 5, 6, 7, 8])\n",
    "idx = torch.tensor([0, 1, 2, 3, 0, 1, 4, 5, 0, 1, 6, 7])\n",
    "infostate_reshaped = infostate[idx].reshape(3, 4)"
   ]
  },
  {
   "cell_type": "code",
   "execution_count": 12,
   "id": "5d08a953-d932-4ebc-b607-5e382a788daa",
   "metadata": {},
   "outputs": [
    {
     "data": {
      "text/plain": [
       "3"
      ]
     },
     "execution_count": 12,
     "metadata": {},
     "output_type": "execute_result"
    }
   ],
   "source": [
    "len(infostate_reshaped)"
   ]
  },
  {
   "cell_type": "code",
   "execution_count": 19,
   "id": "c6479bbc-0daf-4849-a029-006369010a00",
   "metadata": {},
   "outputs": [],
   "source": [
    "padded_seq_batch = torch.nn.utils.rnn.pad_sequence([infostate_reshaped], batch_first=True)\n",
    "sequence_lengths = [len(seq) for seq in [infostate_reshaped]]\n",
    "packed_seq_batch = torch.nn.utils.rnn.pack_padded_sequence(padded_seq_batch, lengths=sequence_lengths, batch_first=True, enforce_sorted=False)"
   ]
  },
  {
   "cell_type": "code",
   "execution_count": 20,
   "id": "444fd3db-c93b-483d-97e1-f7c035d65c1f",
   "metadata": {},
   "outputs": [
    {
     "data": {
      "text/plain": [
       "tensor([[[1, 2, 3, 4],\n",
       "         [1, 2, 5, 6],\n",
       "         [1, 2, 7, 8]]])"
      ]
     },
     "execution_count": 20,
     "metadata": {},
     "output_type": "execute_result"
    }
   ],
   "source": [
    "padded_seq_batch"
   ]
  },
  {
   "cell_type": "code",
   "execution_count": 21,
   "id": "f86c39b9-2df8-4790-abf2-2fb961092b15",
   "metadata": {},
   "outputs": [
    {
     "data": {
      "text/plain": [
       "PackedSequence(data=tensor([[1, 2, 3, 4],\n",
       "        [1, 2, 5, 6],\n",
       "        [1, 2, 7, 8]]), batch_sizes=tensor([1, 1, 1]), sorted_indices=tensor([0]), unsorted_indices=tensor([0]))"
      ]
     },
     "execution_count": 21,
     "metadata": {},
     "output_type": "execute_result"
    }
   ],
   "source": [
    "packed_seq_batch"
   ]
  },
  {
   "cell_type": "code",
   "execution_count": 138,
   "id": "84b8d589-19ab-4ecd-bd43-2709ea95b3aa",
   "metadata": {},
   "outputs": [
    {
     "data": {
      "text/plain": [
       "tensor([[1, 2, 3, 4],\n",
       "        [1, 2, 5, 6],\n",
       "        [1, 2, 7, 8]])"
      ]
     },
     "execution_count": 138,
     "metadata": {},
     "output_type": "execute_result"
    }
   ],
   "source": [
    "tr"
   ]
  },
  {
   "cell_type": "code",
   "execution_count": 147,
   "id": "df2c455a-0509-4537-b263-98b25dc7bedd",
   "metadata": {},
   "outputs": [],
   "source": [
    "def profile():\n",
    "    for _ in range(1000):\n",
    "        model_gpu(batch_gpu)"
   ]
  },
  {
   "cell_type": "code",
   "execution_count": 148,
   "id": "a5aa721f-95cb-41b6-9d33-cb6c77151cdb",
   "metadata": {},
   "outputs": [
    {
     "name": "stdout",
     "output_type": "stream",
     "text": [
      "         311048 function calls (309048 primitive calls) in 5.641 seconds\n",
      "\n",
      "   Ordered by: internal time\n",
      "\n",
      "   ncalls  tottime  percall  cumtime  percall filename:lineno(function)\n",
      "     1000    3.414    0.003    4.213    0.004 /apps/open_spiel/open_spiel/python/pytorch/ubc_rnn.py:115(<listcomp>)\n",
      "   256000    0.799    0.000    0.799    0.000 {method 'unsqueeze' of 'torch._C._TensorBase' objects}\n",
      "     1000    0.311    0.000    0.311    0.000 {built-in method lstm}\n",
      "        1    0.186    0.186    5.640    5.640 <ipython-input-147-545d23a2d6f9>:1(profile)\n",
      "     1000    0.184    0.000    0.184    0.000 {built-in method cat}\n",
      "     1000    0.162    0.000    0.162    0.000 {method 'unbind' of 'torch._C._TensorBase' objects}\n",
      "     1000    0.079    0.000    5.437    0.005 /apps/open_spiel/open_spiel/python/pytorch/ubc_rnn.py:101(forward)\n",
      "     3000    0.078    0.000    0.078    0.000 {method 'index_select' of 'torch._C._TensorBase' objects}\n",
      "     1000    0.074    0.000    0.074    0.000 {built-in method _pad_packed_sequence}\n",
      "     1000    0.072    0.000    0.072    0.000 {built-in method torch._C._nn.linear}\n",
      "     1000    0.066    0.000    0.171    0.000 /apps/open_spiel/venv/lib/python3.6/site-packages/torch/nn/utils/rnn.py:253(pad_packed_sequence)\n",
      "     2000    0.043    0.000    0.043    0.000 {built-in method zeros}\n",
      "     1000    0.038    0.000    0.510    0.001 /apps/open_spiel/venv/lib/python3.6/site-packages/torch/nn/modules/rnn.py:661(forward)\n",
      "3000/1000    0.029    0.000    5.455    0.005 /apps/open_spiel/venv/lib/python3.6/site-packages/torch/nn/modules/module.py:1096(_call_impl)\n",
      "     1000    0.010    0.000    0.010    0.000 /apps/open_spiel/venv/lib/python3.6/site-packages/torch/nn/modules/rnn.py:209(get_expected_hidden_size)\n",
      "     1000    0.009    0.000    0.009    0.000 /apps/open_spiel/venv/lib/python3.6/site-packages/torch/nn/utils/rnn.py:156(_packed_sequence_init_args)\n",
      "     4000    0.008    0.000    0.008    0.000 {built-in method torch._C._get_tracing_state}\n",
      "     1000    0.007    0.000    0.034    0.000 /apps/open_spiel/venv/lib/python3.6/site-packages/torch/nn/modules/rnn.py:627(check_forward_args)\n",
      "     4000    0.007    0.000    0.007    0.000 /apps/open_spiel/venv/lib/python3.6/site-packages/torch/nn/modules/module.py:1164(__getattr__)\n",
      "     1000    0.007    0.000    0.173    0.000 /apps/open_spiel/venv/lib/python3.6/site-packages/torch/_tensor.py:632(__iter__)\n",
      "     4000    0.006    0.000    0.006    0.000 {method 'size' of 'torch._C._TensorBase' objects}\n",
      "     1000    0.006    0.000    0.019    0.000 /apps/open_spiel/venv/lib/python3.6/site-packages/torch/nn/utils/rnn.py:63(__new__)\n",
      "     1000    0.006    0.000    0.085    0.000 /apps/open_spiel/venv/lib/python3.6/site-packages/torch/nn/modules/linear.py:102(forward)\n",
      "     2000    0.004    0.000    0.007    0.000 /apps/open_spiel/venv/lib/python3.6/site-packages/torch/_VF.py:25(__getattr__)\n",
      "     2000    0.004    0.000    0.056    0.000 /apps/open_spiel/venv/lib/python3.6/site-packages/torch/nn/modules/rnn.py:20(apply_permutation)\n",
      "     1000    0.004    0.000    0.004    0.000 /apps/open_spiel/venv/lib/python3.6/site-packages/torch/nn/modules/rnn.py:615(get_expected_cell_size)\n",
      "     1000    0.004    0.000    0.007    0.000 /apps/open_spiel/venv/lib/python3.6/site-packages/torch/nn/modules/rnn.py:198(check_input)\n",
      "     1000    0.004    0.000    0.060    0.000 /apps/open_spiel/venv/lib/python3.6/site-packages/torch/nn/modules/rnn.py:639(permute_hidden)\n",
      "     2000    0.004    0.000    0.006    0.000 /apps/open_spiel/venv/lib/python3.6/site-packages/torch/nn/modules/rnn.py:223(check_hidden_size)\n",
      "     1000    0.004    0.000    0.077    0.000 /apps/open_spiel/venv/lib/python3.6/site-packages/torch/nn/functional.py:1832(linear)\n",
      "     2000    0.003    0.000    0.003    0.000 {method 'dim' of 'torch._C._TensorBase' objects}\n",
      "     2004    0.002    0.000    0.002    0.000 {built-in method builtins.getattr}\n",
      "     2000    0.002    0.000    0.002    0.000 {built-in method builtins.isinstance}\n",
      "     1000    0.002    0.000    0.004    0.000 <string>:12(__new__)\n",
      "     1000    0.002    0.000    0.002    0.000 {built-in method __new__ of type object at 0x9d12c0}\n",
      "     1000    0.001    0.000    0.001    0.000 {built-in method torch._C._has_torch_function_variadic}\n",
      "     1000    0.001    0.000    0.001    0.000 {built-in method builtins.iter}\n",
      "        2    0.000    0.000    0.000    0.000 {built-in method builtins.compile}\n",
      "        2    0.000    0.000    5.641    2.820 /apps/open_spiel/venv/lib/python3.6/site-packages/IPython/core/interactiveshell.py:3302(run_code)\n",
      "        2    0.000    0.000    0.000    0.000 /usr/lib/python3.6/codeop.py:132(__call__)\n",
      "        2    0.000    0.000    0.000    0.000 /usr/lib/python3.6/contextlib.py:59(__init__)\n",
      "        4    0.000    0.000    0.000    0.000 {built-in method builtins.next}\n",
      "        2    0.000    0.000    0.000    0.000 /apps/open_spiel/venv/lib/python3.6/site-packages/IPython/core/hooks.py:103(__call__)\n",
      "        4    0.000    0.000    0.000    0.000 /apps/open_spiel/venv/lib/python3.6/site-packages/IPython/core/compilerop.py:138(extra_flags)\n",
      "        2    0.000    0.000    5.640    2.820 {built-in method builtins.exec}\n",
      "        2    0.000    0.000    0.000    0.000 /apps/open_spiel/venv/lib/python3.6/site-packages/traitlets/traitlets.py:545(__get__)\n",
      "        2    0.000    0.000    0.000    0.000 /usr/lib/python3.6/contextlib.py:157(helper)\n",
      "        2    0.000    0.000    0.000    0.000 /usr/lib/python3.6/contextlib.py:85(__exit__)\n",
      "        1    0.000    0.000    0.000    0.000 <ipython-input-148-5cc6c8bad18a>:5(<module>)\n",
      "        2    0.000    0.000    0.000    0.000 /apps/open_spiel/venv/lib/python3.6/site-packages/IPython/core/interactiveshell.py:117(<lambda>)\n",
      "        2    0.000    0.000    0.000    0.000 /usr/lib/python3.6/contextlib.py:79(__enter__)\n",
      "        1    0.000    0.000    5.640    5.640 <ipython-input-148-5cc6c8bad18a>:4(<module>)\n",
      "        2    0.000    0.000    0.000    0.000 /apps/open_spiel/venv/lib/python3.6/site-packages/IPython/utils/ipstruct.py:125(__getattr__)\n",
      "        2    0.000    0.000    0.000    0.000 /apps/open_spiel/venv/lib/python3.6/site-packages/IPython/core/interactiveshell.py:1276(user_global_ns)\n",
      "        2    0.000    0.000    0.000    0.000 /apps/open_spiel/venv/lib/python3.6/site-packages/traitlets/traitlets.py:526(get)\n",
      "        2    0.000    0.000    0.000    0.000 /apps/open_spiel/venv/lib/python3.6/site-packages/IPython/core/hooks.py:168(pre_run_code_hook)\n",
      "        1    0.000    0.000    0.000    0.000 {method 'disable' of '_lsprof.Profiler' objects}\n",
      "        2    0.000    0.000    0.000    0.000 /apps/open_spiel/venv/lib/python3.6/site-packages/IPython/core/interactiveshell.py:3244(compare)\n",
      "\n",
      "\n"
     ]
    },
    {
     "data": {
      "text/plain": [
       "<pstats.Stats at 0x7f50ccd9a588>"
      ]
     },
     "execution_count": 148,
     "metadata": {},
     "output_type": "execute_result"
    }
   ],
   "source": [
    "import cProfile, pstats\n",
    "profiler = cProfile.Profile()\n",
    "profiler.enable()\n",
    "profile()\n",
    "profiler.disable()\n",
    "stats = pstats.Stats(profiler).sort_stats('tottime')\n",
    "stats.print_stats()   "
   ]
  },
  {
   "cell_type": "code",
   "execution_count": 30,
   "id": "51edc1ad-9450-4ab6-940b-c0c534731b56",
   "metadata": {},
   "outputs": [],
   "source": [
    "t = torch.tensor([1, 2, 3]).cuda()"
   ]
  },
  {
   "cell_type": "code",
   "execution_count": 32,
   "id": "43b1493f-9e60-462d-ace8-938d41657960",
   "metadata": {},
   "outputs": [
    {
     "data": {
      "text/plain": [
       "tensor([1, 2, 3], device='cuda:0')"
      ]
     },
     "execution_count": 32,
     "metadata": {},
     "output_type": "execute_result"
    }
   ],
   "source": [
    "t.detach()"
   ]
  },
  {
   "cell_type": "code",
   "execution_count": 14,
   "id": "091f76e5-1c41-41bb-ae14-50f31356dcdc",
   "metadata": {},
   "outputs": [
    {
     "name": "stdout",
     "output_type": "stream",
     "text": [
      "torch.Size([512, 18])\n",
      "torch.Size([512, 128])\n",
      "torch.Size([512])\n",
      "torch.Size([512])\n",
      "torch.Size([12, 128])\n",
      "torch.Size([12])\n"
     ]
    }
   ],
   "source": [
    "for p in model.parameters():\n",
    "    print(p.shape)"
   ]
  },
  {
   "cell_type": "code",
   "execution_count": 13,
   "id": "2fe21553-00c5-4dc7-85cb-51262e06aba2",
   "metadata": {},
   "outputs": [
    {
     "name": "stdout",
     "output_type": "stream",
     "text": [
      "absl-py==0.13.0\n",
      "adjustText==0.7.3\n",
      "anyio==3.3.0\n",
      "argon2-cffi==20.1.0\n",
      "astunparse==1.6.3\n",
      "async-generator==1.10\n",
      "attrs==21.2.0\n",
      "Babel==2.9.1\n",
      "backcall==0.2.0\n",
      "bleach==4.0.0\n",
      "bokeh==2.3.3\n",
      "cached-property==1.5.2\n",
      "cachetools==4.2.4\n",
      "certifi==2021.5.30\n",
      "cffi==1.14.6\n",
      "charset-normalizer==2.0.4\n",
      "clang==5.0\n",
      "configparser==5.1.0\n",
      "contextvars==2.4\n",
      "cycler==0.10.0\n",
      "dataclasses==0.8\n",
      "decorator==5.0.9\n",
      "defusedxml==0.7.1\n",
      "entrypoints==0.3\n",
      "flatbuffers==1.12\n",
      "gast==0.4.0\n",
      "google-auth==1.35.0\n",
      "google-auth-oauthlib==0.4.6\n",
      "google-pasta==0.2.0\n",
      "grpcio==1.41.1\n",
      "h5py==3.1.0\n",
      "idna==3.2\n",
      "immutables==0.16\n",
      "importlib-metadata==4.6.3\n",
      "ipykernel==5.5.5\n",
      "ipython==7.16.1\n",
      "ipython-genutils==0.2.0\n",
      "ipywidgets==7.6.5\n",
      "jedi==0.18.0\n",
      "Jinja2==3.0.1\n",
      "joblib==1.0.1\n",
      "json5==0.9.6\n",
      "jsonschema==3.2.0\n",
      "jupyter==1.0.0\n",
      "jupyter-bokeh==3.0.3\n",
      "jupyter-client==6.1.12\n",
      "jupyter-console==6.4.0\n",
      "jupyter-core==4.7.1\n",
      "jupyter-server==1.10.2\n",
      "jupyterlab==3.1.4\n",
      "jupyterlab-pygments==0.1.2\n",
      "jupyterlab-server==2.7.0\n",
      "jupyterlab-widgets==1.0.2\n",
      "keras==2.6.0\n",
      "Keras-Preprocessing==1.1.2\n",
      "kiwisolver==1.3.1\n",
      "Markdown==3.3.4\n",
      "MarkupSafe==2.0.1\n",
      "matplotlib==3.3.4\n",
      "mistune==0.8.4\n",
      "nbclassic==0.3.1\n",
      "nbclient==0.5.3\n",
      "nbconvert==6.0.7\n",
      "nbformat==5.1.3\n",
      "nest-asyncio==1.5.1\n",
      "notebook==6.4.3\n",
      "numpy==1.19.5\n",
      "oauthlib==3.1.1\n",
      "opt-einsum==3.3.0\n",
      "packaging==21.0\n",
      "pandas==1.1.5\n",
      "pandocfilters==1.4.3\n",
      "parso==0.8.2\n",
      "patsy==0.5.2\n",
      "pexpect==4.8.0\n",
      "pickleshare==0.7.5\n",
      "Pillow==8.3.1\n",
      "pkg_resources==0.0.0\n",
      "pprofile==2.1.0\n",
      "prometheus-client==0.11.0\n",
      "prompt-toolkit==3.0.19\n",
      "protobuf==3.19.1\n",
      "ptyprocess==0.7.0\n",
      "PuLP==2.6.0\n",
      "pyasn1==0.4.8\n",
      "pyasn1-modules==0.2.8\n",
      "pycparser==2.20\n",
      "Pygments==2.9.0\n",
      "pygraphviz==1.6\n",
      "PyMySQL==1.0.2\n",
      "pyparsing==2.4.7\n",
      "pyrsistent==0.18.0\n",
      "python-dateutil==2.8.2\n",
      "pytz==2021.1\n",
      "PyYAML==6.0\n",
      "pyzmq==22.2.1\n",
      "qtconsole==5.2.1\n",
      "QtPy==1.11.3\n",
      "requests==2.26.0\n",
      "requests-oauthlib==1.3.0\n",
      "requests-unixsocket==0.2.0\n",
      "rsa==4.7.2\n",
      "scikit-learn==0.24.2\n",
      "scipy==1.5.4\n",
      "seaborn==0.11.1\n",
      "Send2Trash==1.8.0\n",
      "six==1.15.0\n",
      "sklearn==0.0\n",
      "sniffio==1.2.0\n",
      "statsmodels==0.12.2\n",
      "tensorboard==2.6.0\n",
      "tensorboard-data-server==0.6.1\n",
      "tensorboard-plugin-wit==1.8.0\n",
      "tensorflow==2.6.2\n",
      "tensorflow-estimator==2.6.0\n",
      "termcolor==1.1.0\n",
      "terminado==0.10.1\n",
      "testpath==0.5.0\n",
      "threadpoolctl==2.2.0\n",
      "torch==1.10.0+cpu\n",
      "torchaudio==0.10.0+cpu\n",
      "torchvision==0.11.1+cpu\n",
      "tornado==6.1\n",
      "tqdm==4.62.3\n",
      "traitlets==4.3.3\n",
      "typing-extensions==3.7.4.3\n",
      "urllib3==1.26.6\n",
      "wcwidth==0.2.5\n",
      "webencodings==0.5.1\n",
      "websocket-client==1.2.0\n",
      "Werkzeug==2.0.2\n",
      "widgetsnbextension==3.5.2\n",
      "wrapt==1.12.1\n",
      "zipp==3.5.0\n"
     ]
    }
   ],
   "source": [
    "!pip freeze"
   ]
  },
  {
   "cell_type": "code",
   "execution_count": 14,
   "id": "fbb53852-5076-4cbb-97c3-35e03eeb5caf",
   "metadata": {},
   "outputs": [
    {
     "name": "stdout",
     "output_type": "stream",
     "text": [
      "Found existing installation: torch 1.10.0+cpu\n",
      "Uninstalling torch-1.10.0+cpu:\n",
      "  Would remove:\n",
      "    /apps/open_spiel/venv/bin/convert-caffe2-to-onnx\n",
      "    /apps/open_spiel/venv/bin/convert-onnx-to-caffe2\n",
      "    /apps/open_spiel/venv/bin/torchrun\n",
      "    /apps/open_spiel/venv/lib/python3.6/site-packages/caffe2/*\n",
      "    /apps/open_spiel/venv/lib/python3.6/site-packages/torch-1.10.0+cpu.dist-info/*\n",
      "    /apps/open_spiel/venv/lib/python3.6/site-packages/torch/*\n",
      "Proceed (Y/n)? ^C\n",
      "\u001b[31mERROR: Operation cancelled by user\u001b[0m\n"
     ]
    }
   ],
   "source": [
    "!pip uninstall torch"
   ]
  },
  {
   "cell_type": "code",
   "execution_count": null,
   "id": "2f7d1a53-f01b-43f5-b4a4-77c844ad02b7",
   "metadata": {},
   "outputs": [],
   "source": [
    "from open_spiel.python.pytorch import ubc_nfsp, ubc_dqn, ubc_rnn\n",
    "ubc_dqn.AuctionRNN(\n",
    "   input_size,\n",
    "   [128,],\n",
    "   num_actions,\n",
    "   2, \n",
    "   3,\n",
    ").reshape_infostate(x)"
   ]
  }
 ],
 "metadata": {
  "kernelspec": {
   "display_name": "Python 3",
   "language": "python",
   "name": "python3"
  },
  "language_info": {
   "codemirror_mode": {
    "name": "ipython",
    "version": 3
   },
   "file_extension": ".py",
   "mimetype": "text/x-python",
   "name": "python",
   "nbconvert_exporter": "python",
   "pygments_lexer": "ipython3",
   "version": "3.6.9"
  }
 },
 "nbformat": 4,
 "nbformat_minor": 5
}
