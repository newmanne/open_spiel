{
 "cells": [
  {
   "cell_type": "code",
   "execution_count": 137,
   "id": "feb4d600-f27c-459e-afa4-3f542c5d4d99",
   "metadata": {},
   "outputs": [
    {
     "name": "stdout",
     "output_type": "stream",
     "text": [
      "The autoreload extension is already loaded. To reload it, use:\n",
      "  %reload_ext autoreload\n",
      "Populating the interactive namespace from numpy and matplotlib\n"
     ]
    },
    {
     "name": "stderr",
     "output_type": "stream",
     "text": [
      "/apps/open_spiel/venv/lib/python3.6/site-packages/IPython/core/magics/pylab.py:160: UserWarning: pylab import has clobbered these variables: ['show', 'figure', 'logging']\n",
      "`%matplotlib` prevents importing * from pylab and numpy\n",
      "  \"\\n`%matplotlib` prevents importing * from pylab and numpy\"\n"
     ]
    },
    {
     "data": {
      "text/html": [
       "\n",
       "    <div class=\"bk-root\">\n",
       "        <a href=\"https://bokeh.org\" target=\"_blank\" class=\"bk-logo bk-logo-small bk-logo-notebook\"></a>\n",
       "        <span id=\"1005\">Loading BokehJS ...</span>\n",
       "    </div>"
      ]
     },
     "metadata": {},
     "output_type": "display_data"
    },
    {
     "data": {
      "application/javascript": [
       "\n",
       "(function(root) {\n",
       "  function now() {\n",
       "    return new Date();\n",
       "  }\n",
       "\n",
       "  var force = true;\n",
       "\n",
       "  if (typeof root._bokeh_onload_callbacks === \"undefined\" || force === true) {\n",
       "    root._bokeh_onload_callbacks = [];\n",
       "    root._bokeh_is_loading = undefined;\n",
       "  }\n",
       "\n",
       "  var JS_MIME_TYPE = 'application/javascript';\n",
       "  var HTML_MIME_TYPE = 'text/html';\n",
       "  var EXEC_MIME_TYPE = 'application/vnd.bokehjs_exec.v0+json';\n",
       "  var CLASS_NAME = 'output_bokeh rendered_html';\n",
       "\n",
       "  /**\n",
       "   * Render data to the DOM node\n",
       "   */\n",
       "  function render(props, node) {\n",
       "    var script = document.createElement(\"script\");\n",
       "    node.appendChild(script);\n",
       "  }\n",
       "\n",
       "  /**\n",
       "   * Handle when an output is cleared or removed\n",
       "   */\n",
       "  function handleClearOutput(event, handle) {\n",
       "    var cell = handle.cell;\n",
       "\n",
       "    var id = cell.output_area._bokeh_element_id;\n",
       "    var server_id = cell.output_area._bokeh_server_id;\n",
       "    // Clean up Bokeh references\n",
       "    if (id != null && id in Bokeh.index) {\n",
       "      Bokeh.index[id].model.document.clear();\n",
       "      delete Bokeh.index[id];\n",
       "    }\n",
       "\n",
       "    if (server_id !== undefined) {\n",
       "      // Clean up Bokeh references\n",
       "      var cmd = \"from bokeh.io.state import curstate; print(curstate().uuid_to_server['\" + server_id + \"'].get_sessions()[0].document.roots[0]._id)\";\n",
       "      cell.notebook.kernel.execute(cmd, {\n",
       "        iopub: {\n",
       "          output: function(msg) {\n",
       "            var id = msg.content.text.trim();\n",
       "            if (id in Bokeh.index) {\n",
       "              Bokeh.index[id].model.document.clear();\n",
       "              delete Bokeh.index[id];\n",
       "            }\n",
       "          }\n",
       "        }\n",
       "      });\n",
       "      // Destroy server and session\n",
       "      var cmd = \"import bokeh.io.notebook as ion; ion.destroy_server('\" + server_id + \"')\";\n",
       "      cell.notebook.kernel.execute(cmd);\n",
       "    }\n",
       "  }\n",
       "\n",
       "  /**\n",
       "   * Handle when a new output is added\n",
       "   */\n",
       "  function handleAddOutput(event, handle) {\n",
       "    var output_area = handle.output_area;\n",
       "    var output = handle.output;\n",
       "\n",
       "    // limit handleAddOutput to display_data with EXEC_MIME_TYPE content only\n",
       "    if ((output.output_type != \"display_data\") || (!Object.prototype.hasOwnProperty.call(output.data, EXEC_MIME_TYPE))) {\n",
       "      return\n",
       "    }\n",
       "\n",
       "    var toinsert = output_area.element.find(\".\" + CLASS_NAME.split(' ')[0]);\n",
       "\n",
       "    if (output.metadata[EXEC_MIME_TYPE][\"id\"] !== undefined) {\n",
       "      toinsert[toinsert.length - 1].firstChild.textContent = output.data[JS_MIME_TYPE];\n",
       "      // store reference to embed id on output_area\n",
       "      output_area._bokeh_element_id = output.metadata[EXEC_MIME_TYPE][\"id\"];\n",
       "    }\n",
       "    if (output.metadata[EXEC_MIME_TYPE][\"server_id\"] !== undefined) {\n",
       "      var bk_div = document.createElement(\"div\");\n",
       "      bk_div.innerHTML = output.data[HTML_MIME_TYPE];\n",
       "      var script_attrs = bk_div.children[0].attributes;\n",
       "      for (var i = 0; i < script_attrs.length; i++) {\n",
       "        toinsert[toinsert.length - 1].firstChild.setAttribute(script_attrs[i].name, script_attrs[i].value);\n",
       "        toinsert[toinsert.length - 1].firstChild.textContent = bk_div.children[0].textContent\n",
       "      }\n",
       "      // store reference to server id on output_area\n",
       "      output_area._bokeh_server_id = output.metadata[EXEC_MIME_TYPE][\"server_id\"];\n",
       "    }\n",
       "  }\n",
       "\n",
       "  function register_renderer(events, OutputArea) {\n",
       "\n",
       "    function append_mime(data, metadata, element) {\n",
       "      // create a DOM node to render to\n",
       "      var toinsert = this.create_output_subarea(\n",
       "        metadata,\n",
       "        CLASS_NAME,\n",
       "        EXEC_MIME_TYPE\n",
       "      );\n",
       "      this.keyboard_manager.register_events(toinsert);\n",
       "      // Render to node\n",
       "      var props = {data: data, metadata: metadata[EXEC_MIME_TYPE]};\n",
       "      render(props, toinsert[toinsert.length - 1]);\n",
       "      element.append(toinsert);\n",
       "      return toinsert\n",
       "    }\n",
       "\n",
       "    /* Handle when an output is cleared or removed */\n",
       "    events.on('clear_output.CodeCell', handleClearOutput);\n",
       "    events.on('delete.Cell', handleClearOutput);\n",
       "\n",
       "    /* Handle when a new output is added */\n",
       "    events.on('output_added.OutputArea', handleAddOutput);\n",
       "\n",
       "    /**\n",
       "     * Register the mime type and append_mime function with output_area\n",
       "     */\n",
       "    OutputArea.prototype.register_mime_type(EXEC_MIME_TYPE, append_mime, {\n",
       "      /* Is output safe? */\n",
       "      safe: true,\n",
       "      /* Index of renderer in `output_area.display_order` */\n",
       "      index: 0\n",
       "    });\n",
       "  }\n",
       "\n",
       "  // register the mime type if in Jupyter Notebook environment and previously unregistered\n",
       "  if (root.Jupyter !== undefined) {\n",
       "    var events = require('base/js/events');\n",
       "    var OutputArea = require('notebook/js/outputarea').OutputArea;\n",
       "\n",
       "    if (OutputArea.prototype.mime_types().indexOf(EXEC_MIME_TYPE) == -1) {\n",
       "      register_renderer(events, OutputArea);\n",
       "    }\n",
       "  }\n",
       "\n",
       "  \n",
       "  if (typeof (root._bokeh_timeout) === \"undefined\" || force === true) {\n",
       "    root._bokeh_timeout = Date.now() + 5000;\n",
       "    root._bokeh_failed_load = false;\n",
       "  }\n",
       "\n",
       "  var NB_LOAD_WARNING = {'data': {'text/html':\n",
       "     \"<div style='background-color: #fdd'>\\n\"+\n",
       "     \"<p>\\n\"+\n",
       "     \"BokehJS does not appear to have successfully loaded. If loading BokehJS from CDN, this \\n\"+\n",
       "     \"may be due to a slow or bad network connection. Possible fixes:\\n\"+\n",
       "     \"</p>\\n\"+\n",
       "     \"<ul>\\n\"+\n",
       "     \"<li>re-rerun `output_notebook()` to attempt to load from CDN again, or</li>\\n\"+\n",
       "     \"<li>use INLINE resources instead, as so:</li>\\n\"+\n",
       "     \"</ul>\\n\"+\n",
       "     \"<code>\\n\"+\n",
       "     \"from bokeh.resources import INLINE\\n\"+\n",
       "     \"output_notebook(resources=INLINE)\\n\"+\n",
       "     \"</code>\\n\"+\n",
       "     \"</div>\"}};\n",
       "\n",
       "  function display_loaded() {\n",
       "    var el = document.getElementById(\"1005\");\n",
       "    if (el != null) {\n",
       "      el.textContent = \"BokehJS is loading...\";\n",
       "    }\n",
       "    if (root.Bokeh !== undefined) {\n",
       "      if (el != null) {\n",
       "        el.textContent = \"BokehJS \" + root.Bokeh.version + \" successfully loaded.\";\n",
       "      }\n",
       "    } else if (Date.now() < root._bokeh_timeout) {\n",
       "      setTimeout(display_loaded, 100)\n",
       "    }\n",
       "  }\n",
       "\n",
       "\n",
       "  function run_callbacks() {\n",
       "    try {\n",
       "      root._bokeh_onload_callbacks.forEach(function(callback) {\n",
       "        if (callback != null)\n",
       "          callback();\n",
       "      });\n",
       "    } finally {\n",
       "      delete root._bokeh_onload_callbacks\n",
       "    }\n",
       "    console.debug(\"Bokeh: all callbacks have finished\");\n",
       "  }\n",
       "\n",
       "  function load_libs(css_urls, js_urls, callback) {\n",
       "    if (css_urls == null) css_urls = [];\n",
       "    if (js_urls == null) js_urls = [];\n",
       "\n",
       "    root._bokeh_onload_callbacks.push(callback);\n",
       "    if (root._bokeh_is_loading > 0) {\n",
       "      console.debug(\"Bokeh: BokehJS is being loaded, scheduling callback at\", now());\n",
       "      return null;\n",
       "    }\n",
       "    if (js_urls == null || js_urls.length === 0) {\n",
       "      run_callbacks();\n",
       "      return null;\n",
       "    }\n",
       "    console.debug(\"Bokeh: BokehJS not loaded, scheduling load and callback at\", now());\n",
       "    root._bokeh_is_loading = css_urls.length + js_urls.length;\n",
       "\n",
       "    function on_load() {\n",
       "      root._bokeh_is_loading--;\n",
       "      if (root._bokeh_is_loading === 0) {\n",
       "        console.debug(\"Bokeh: all BokehJS libraries/stylesheets loaded\");\n",
       "        run_callbacks()\n",
       "      }\n",
       "    }\n",
       "\n",
       "    function on_error(url) {\n",
       "      console.error(\"failed to load \" + url);\n",
       "    }\n",
       "\n",
       "    for (let i = 0; i < css_urls.length; i++) {\n",
       "      const url = css_urls[i];\n",
       "      const element = document.createElement(\"link\");\n",
       "      element.onload = on_load;\n",
       "      element.onerror = on_error.bind(null, url);\n",
       "      element.rel = \"stylesheet\";\n",
       "      element.type = \"text/css\";\n",
       "      element.href = url;\n",
       "      console.debug(\"Bokeh: injecting link tag for BokehJS stylesheet: \", url);\n",
       "      document.body.appendChild(element);\n",
       "    }\n",
       "\n",
       "    const hashes = {\"https://cdn.bokeh.org/bokeh/release/bokeh-2.3.3.min.js\": \"dM3QQsP+wXdHg42wTqW85BjZQdLNNIXqlPw/BgKoExPmTG7ZLML4EGqLMfqHT6ON\", \"https://cdn.bokeh.org/bokeh/release/bokeh-tables-2.3.3.min.js\": \"8x57I4YuIfu8XyZfFo0XVr2WAT8EK4rh/uDe3wF7YuW2FNUSNEpJbsPaB1nJ2fz2\", \"https://cdn.bokeh.org/bokeh/release/bokeh-widgets-2.3.3.min.js\": \"3QTqdz9LyAm2i0sG5XTePsHec3UHWwVsrOL68SYRoAXsafvfAyqtQ+h440+qIBhS\"};\n",
       "\n",
       "    for (let i = 0; i < js_urls.length; i++) {\n",
       "      const url = js_urls[i];\n",
       "      const element = document.createElement('script');\n",
       "      element.onload = on_load;\n",
       "      element.onerror = on_error.bind(null, url);\n",
       "      element.async = false;\n",
       "      element.src = url;\n",
       "      if (url in hashes) {\n",
       "        element.crossOrigin = \"anonymous\";\n",
       "        element.integrity = \"sha384-\" + hashes[url];\n",
       "      }\n",
       "      console.debug(\"Bokeh: injecting script tag for BokehJS library: \", url);\n",
       "      document.head.appendChild(element);\n",
       "    }\n",
       "  };\n",
       "\n",
       "  function inject_raw_css(css) {\n",
       "    const element = document.createElement(\"style\");\n",
       "    element.appendChild(document.createTextNode(css));\n",
       "    document.body.appendChild(element);\n",
       "  }\n",
       "\n",
       "  \n",
       "  var js_urls = [\"https://cdn.bokeh.org/bokeh/release/bokeh-2.3.3.min.js\", \"https://cdn.bokeh.org/bokeh/release/bokeh-widgets-2.3.3.min.js\", \"https://cdn.bokeh.org/bokeh/release/bokeh-tables-2.3.3.min.js\"];\n",
       "  var css_urls = [];\n",
       "  \n",
       "\n",
       "  var inline_js = [\n",
       "    function(Bokeh) {\n",
       "      Bokeh.set_log_level(\"info\");\n",
       "    },\n",
       "    function(Bokeh) {\n",
       "    \n",
       "    \n",
       "    }\n",
       "  ];\n",
       "\n",
       "  function run_inline_js() {\n",
       "    \n",
       "    if (root.Bokeh !== undefined || force === true) {\n",
       "      \n",
       "    for (var i = 0; i < inline_js.length; i++) {\n",
       "      inline_js[i].call(root, root.Bokeh);\n",
       "    }\n",
       "    if (force === true) {\n",
       "        display_loaded();\n",
       "      }} else if (Date.now() < root._bokeh_timeout) {\n",
       "      setTimeout(run_inline_js, 100);\n",
       "    } else if (!root._bokeh_failed_load) {\n",
       "      console.log(\"Bokeh: BokehJS failed to load within specified timeout.\");\n",
       "      root._bokeh_failed_load = true;\n",
       "    } else if (force !== true) {\n",
       "      var cell = $(document.getElementById(\"1005\")).parents('.cell').data().cell;\n",
       "      cell.output_area.append_execute_result(NB_LOAD_WARNING)\n",
       "    }\n",
       "\n",
       "  }\n",
       "\n",
       "  if (root._bokeh_is_loading === 0) {\n",
       "    console.debug(\"Bokeh: BokehJS loaded, going straight to plotting\");\n",
       "    run_inline_js();\n",
       "  } else {\n",
       "    load_libs(css_urls, js_urls, function() {\n",
       "      console.debug(\"Bokeh: BokehJS plotting callback run at\", now());\n",
       "      run_inline_js();\n",
       "    });\n",
       "  }\n",
       "}(window));"
      ],
      "application/vnd.bokehjs_load.v0+json": "\n(function(root) {\n  function now() {\n    return new Date();\n  }\n\n  var force = true;\n\n  if (typeof root._bokeh_onload_callbacks === \"undefined\" || force === true) {\n    root._bokeh_onload_callbacks = [];\n    root._bokeh_is_loading = undefined;\n  }\n\n  \n\n  \n  if (typeof (root._bokeh_timeout) === \"undefined\" || force === true) {\n    root._bokeh_timeout = Date.now() + 5000;\n    root._bokeh_failed_load = false;\n  }\n\n  var NB_LOAD_WARNING = {'data': {'text/html':\n     \"<div style='background-color: #fdd'>\\n\"+\n     \"<p>\\n\"+\n     \"BokehJS does not appear to have successfully loaded. If loading BokehJS from CDN, this \\n\"+\n     \"may be due to a slow or bad network connection. Possible fixes:\\n\"+\n     \"</p>\\n\"+\n     \"<ul>\\n\"+\n     \"<li>re-rerun `output_notebook()` to attempt to load from CDN again, or</li>\\n\"+\n     \"<li>use INLINE resources instead, as so:</li>\\n\"+\n     \"</ul>\\n\"+\n     \"<code>\\n\"+\n     \"from bokeh.resources import INLINE\\n\"+\n     \"output_notebook(resources=INLINE)\\n\"+\n     \"</code>\\n\"+\n     \"</div>\"}};\n\n  function display_loaded() {\n    var el = document.getElementById(\"1005\");\n    if (el != null) {\n      el.textContent = \"BokehJS is loading...\";\n    }\n    if (root.Bokeh !== undefined) {\n      if (el != null) {\n        el.textContent = \"BokehJS \" + root.Bokeh.version + \" successfully loaded.\";\n      }\n    } else if (Date.now() < root._bokeh_timeout) {\n      setTimeout(display_loaded, 100)\n    }\n  }\n\n\n  function run_callbacks() {\n    try {\n      root._bokeh_onload_callbacks.forEach(function(callback) {\n        if (callback != null)\n          callback();\n      });\n    } finally {\n      delete root._bokeh_onload_callbacks\n    }\n    console.debug(\"Bokeh: all callbacks have finished\");\n  }\n\n  function load_libs(css_urls, js_urls, callback) {\n    if (css_urls == null) css_urls = [];\n    if (js_urls == null) js_urls = [];\n\n    root._bokeh_onload_callbacks.push(callback);\n    if (root._bokeh_is_loading > 0) {\n      console.debug(\"Bokeh: BokehJS is being loaded, scheduling callback at\", now());\n      return null;\n    }\n    if (js_urls == null || js_urls.length === 0) {\n      run_callbacks();\n      return null;\n    }\n    console.debug(\"Bokeh: BokehJS not loaded, scheduling load and callback at\", now());\n    root._bokeh_is_loading = css_urls.length + js_urls.length;\n\n    function on_load() {\n      root._bokeh_is_loading--;\n      if (root._bokeh_is_loading === 0) {\n        console.debug(\"Bokeh: all BokehJS libraries/stylesheets loaded\");\n        run_callbacks()\n      }\n    }\n\n    function on_error(url) {\n      console.error(\"failed to load \" + url);\n    }\n\n    for (let i = 0; i < css_urls.length; i++) {\n      const url = css_urls[i];\n      const element = document.createElement(\"link\");\n      element.onload = on_load;\n      element.onerror = on_error.bind(null, url);\n      element.rel = \"stylesheet\";\n      element.type = \"text/css\";\n      element.href = url;\n      console.debug(\"Bokeh: injecting link tag for BokehJS stylesheet: \", url);\n      document.body.appendChild(element);\n    }\n\n    const hashes = {\"https://cdn.bokeh.org/bokeh/release/bokeh-2.3.3.min.js\": \"dM3QQsP+wXdHg42wTqW85BjZQdLNNIXqlPw/BgKoExPmTG7ZLML4EGqLMfqHT6ON\", \"https://cdn.bokeh.org/bokeh/release/bokeh-tables-2.3.3.min.js\": \"8x57I4YuIfu8XyZfFo0XVr2WAT8EK4rh/uDe3wF7YuW2FNUSNEpJbsPaB1nJ2fz2\", \"https://cdn.bokeh.org/bokeh/release/bokeh-widgets-2.3.3.min.js\": \"3QTqdz9LyAm2i0sG5XTePsHec3UHWwVsrOL68SYRoAXsafvfAyqtQ+h440+qIBhS\"};\n\n    for (let i = 0; i < js_urls.length; i++) {\n      const url = js_urls[i];\n      const element = document.createElement('script');\n      element.onload = on_load;\n      element.onerror = on_error.bind(null, url);\n      element.async = false;\n      element.src = url;\n      if (url in hashes) {\n        element.crossOrigin = \"anonymous\";\n        element.integrity = \"sha384-\" + hashes[url];\n      }\n      console.debug(\"Bokeh: injecting script tag for BokehJS library: \", url);\n      document.head.appendChild(element);\n    }\n  };\n\n  function inject_raw_css(css) {\n    const element = document.createElement(\"style\");\n    element.appendChild(document.createTextNode(css));\n    document.body.appendChild(element);\n  }\n\n  \n  var js_urls = [\"https://cdn.bokeh.org/bokeh/release/bokeh-2.3.3.min.js\", \"https://cdn.bokeh.org/bokeh/release/bokeh-widgets-2.3.3.min.js\", \"https://cdn.bokeh.org/bokeh/release/bokeh-tables-2.3.3.min.js\"];\n  var css_urls = [];\n  \n\n  var inline_js = [\n    function(Bokeh) {\n      Bokeh.set_log_level(\"info\");\n    },\n    function(Bokeh) {\n    \n    \n    }\n  ];\n\n  function run_inline_js() {\n    \n    if (root.Bokeh !== undefined || force === true) {\n      \n    for (var i = 0; i < inline_js.length; i++) {\n      inline_js[i].call(root, root.Bokeh);\n    }\n    if (force === true) {\n        display_loaded();\n      }} else if (Date.now() < root._bokeh_timeout) {\n      setTimeout(run_inline_js, 100);\n    } else if (!root._bokeh_failed_load) {\n      console.log(\"Bokeh: BokehJS failed to load within specified timeout.\");\n      root._bokeh_failed_load = true;\n    } else if (force !== true) {\n      var cell = $(document.getElementById(\"1005\")).parents('.cell').data().cell;\n      cell.output_area.append_execute_result(NB_LOAD_WARNING)\n    }\n\n  }\n\n  if (root._bokeh_is_loading === 0) {\n    console.debug(\"Bokeh: BokehJS loaded, going straight to plotting\");\n    run_inline_js();\n  } else {\n    load_libs(css_urls, js_urls, function() {\n      console.debug(\"Bokeh: BokehJS plotting callback run at\", now());\n      run_inline_js();\n    });\n  }\n}(window));"
     },
     "metadata": {},
     "output_type": "display_data"
    }
   ],
   "source": [
    "%load_ext autoreload\n",
    "%autoreload 2\n",
    "%pylab inline\n",
    "\n",
    "import sys\n",
    "import glob\n",
    "import pandas as pd\n",
    "import os\n",
    "import seaborn as sns\n",
    "# from tqdm import tqdm_notebook as tqdm\n",
    "from tqdm import tqdm\n",
    "import pickle\n",
    "from statsmodels.distributions.empirical_distribution import ECDF\n",
    "from collections import defaultdict\n",
    "import logging\n",
    "from open_spiel.python.examples.ubc_mccfr_cpp_example import action_to_bids\n",
    "from open_spiel.python.examples.ubc_nfsp_example import policy_from_checkpoint\n",
    "from open_spiel.python.examples.ubc_utils import *\n",
    "\n",
    "from open_spiel.python.pytorch.ubc_nfsp import NFSP\n",
    "import bokeh\n",
    "from bokeh.plotting import figure, show\n",
    "from bokeh.io import output_notebook\n",
    "from bokeh.models import HoverTool, ColumnDataSource, ColorBar, LogColorMapper, LinearColorMapper\n",
    "from bokeh.transform import linear_cmap, log_cmap\n",
    "\n",
    "output_notebook()\n",
    "# logging.basicConfig(format='%(asctime)s %(levelname)s:%(message)s', level=logging.DEBUG, datefmt='%I:%M:%S')\n",
    "# logger = logging.getLogger()\n",
    "# logger.setLevel(logging.INFO)"
   ]
  },
  {
   "cell_type": "code",
   "execution_count": 138,
   "id": "f39ab657-3e19-4932-a061-a235f6bb1a7d",
   "metadata": {},
   "outputs": [],
   "source": [
    "EXPERIMENT_DIR = '/shared/outputs/big_game_2/lstm_deep'"
   ]
  },
  {
   "cell_type": "code",
   "execution_count": 139,
   "id": "1c2ef918-c5e5-4a18-857a-052d67a2e7d1",
   "metadata": {},
   "outputs": [],
   "source": [
    "CHECKPOINT_NAME = 'checkpoint_latest'\n",
    "checkpoint = policy_from_checkpoint(EXPERIMENT_DIR, CHECKPOINT_NAME)"
   ]
  },
  {
   "cell_type": "code",
   "execution_count": 140,
   "id": "110c4d28-e812-4d68-aefe-3d7b75b279c4",
   "metadata": {},
   "outputs": [],
   "source": [
    "def check_on_q_values(checkpoint, agent, state=None):\n",
    "    q_network = checkpoint.agents[agent]._rl_agent._q_network\n",
    "    if state is None:\n",
    "        state = checkpoint.game.new_initial_state().child(0).child(0)\n",
    "    legal_actions = state.legal_actions()\n",
    "    it = state.information_state_tensor()\n",
    "    info_state = q_network.prep_batch([q_network.reshape_infostate(it)])\n",
    "    q_values = q_network(info_state).detach()[0]\n",
    "    legal_q_values = q_values[legal_actions]\n",
    "    action_dict = get_actions(checkpoint.game)\n",
    "    return {s: q for s,q in zip(action_dict.values(), legal_q_values)}"
   ]
  },
  {
   "cell_type": "code",
   "execution_count": 141,
   "id": "ac9ebf11-0e68-49ff-bc81-fada0a498829",
   "metadata": {},
   "outputs": [
    {
     "data": {
      "text/plain": [
       "{'Bid for 0,0,0 licenses @ $0 with activity 0': tensor(1.1621),\n",
       " 'Bid for 0,0,1 licenses @ $25 with activity 25': tensor(9.7418),\n",
       " 'Bid for 0,1,0 licenses @ $50 with activity 50': tensor(6.5731),\n",
       " 'Bid for 0,1,1 licenses @ $75 with activity 75': tensor(9.3640),\n",
       " 'Bid for 1,0,0 licenses @ $75 with activity 75': tensor(45.0049),\n",
       " 'Bid for 1,0,1 licenses @ $100 with activity 100': tensor(14.9747),\n",
       " 'Bid for 1,1,0 licenses @ $125 with activity 125': tensor(9.5806),\n",
       " 'Bid for 1,1,1 licenses @ $150 with activity 150': tensor(7.7787),\n",
       " 'Bid for 2,0,0 licenses @ $150 with activity 150': tensor(10.6129),\n",
       " 'Bid for 2,0,1 licenses @ $175 with activity 175': tensor(6.6275),\n",
       " 'Bid for 2,1,0 licenses @ $200 with activity 200': tensor(5.8766),\n",
       " 'Bid for 2,1,1 licenses @ $225 with activity 225': tensor(5.0969)}"
      ]
     },
     "execution_count": 141,
     "metadata": {},
     "output_type": "execute_result"
    }
   ],
   "source": [
    "check_on_q_values(checkpoint, 0)"
   ]
  },
  {
   "cell_type": "code",
   "execution_count": 142,
   "id": "87673a9e-a971-4344-92de-735e51450d31",
   "metadata": {},
   "outputs": [
    {
     "data": {
      "text/plain": [
       "{'Bid for 0,0,0 licenses @ $0 with activity 0': tensor(1.4211),\n",
       " 'Bid for 0,0,1 licenses @ $25 with activity 25': tensor(11.3263),\n",
       " 'Bid for 0,1,0 licenses @ $50 with activity 50': tensor(8.9059),\n",
       " 'Bid for 0,1,1 licenses @ $75 with activity 75': tensor(11.0143),\n",
       " 'Bid for 1,0,0 licenses @ $75 with activity 75': tensor(10.2344),\n",
       " 'Bid for 1,0,1 licenses @ $100 with activity 100': tensor(10.9816),\n",
       " 'Bid for 1,1,0 licenses @ $125 with activity 125': tensor(104.9926),\n",
       " 'Bid for 1,1,1 licenses @ $150 with activity 150': tensor(11.7331),\n",
       " 'Bid for 2,0,0 licenses @ $150 with activity 150': tensor(11.1616),\n",
       " 'Bid for 2,0,1 licenses @ $175 with activity 175': tensor(7.7227),\n",
       " 'Bid for 2,1,0 licenses @ $200 with activity 200': tensor(7.2141),\n",
       " 'Bid for 2,1,1 licenses @ $225 with activity 225': tensor(7.7755)}"
      ]
     },
     "execution_count": 142,
     "metadata": {},
     "output_type": "execute_result"
    }
   ],
   "source": [
    "check_on_q_values(checkpoint, 1, checkpoint.game.new_initial_state().child(0).child(0).child(4))"
   ]
  },
  {
   "cell_type": "code",
   "execution_count": 143,
   "id": "f6332950-a110-4e8d-a6cf-6b776144714b",
   "metadata": {},
   "outputs": [],
   "source": [
    "time_step = checkpoint.env.reset()"
   ]
  },
  {
   "cell_type": "code",
   "execution_count": 144,
   "id": "1215048b-341d-42e6-909c-67781eae7d76",
   "metadata": {},
   "outputs": [
    {
     "data": {
      "text/plain": [
       "0"
      ]
     },
     "execution_count": 144,
     "metadata": {},
     "output_type": "execute_result"
    }
   ],
   "source": [
    "time_step.observations['current_player']"
   ]
  },
  {
   "cell_type": "code",
   "execution_count": 145,
   "id": "8048753c-3069-411a-9b02-8f0f49dd9949",
   "metadata": {},
   "outputs": [],
   "source": [
    "time_step = checkpoint.env.step([5])\n",
    "# time_step = checkpoint.env.step(action_list)"
   ]
  },
  {
   "cell_type": "code",
   "execution_count": 146,
   "id": "c0d3bc96-478f-4634-bc1b-3e78bf53ac33",
   "metadata": {},
   "outputs": [
    {
     "data": {
      "text/plain": [
       "1"
      ]
     },
     "execution_count": 146,
     "metadata": {},
     "output_type": "execute_result"
    }
   ],
   "source": [
    "time_step.observations['current_player']"
   ]
  },
  {
   "cell_type": "code",
   "execution_count": 147,
   "id": "d37b31e5-6f04-435e-9986-80219add881b",
   "metadata": {},
   "outputs": [],
   "source": [
    "time_step = checkpoint.env.step([6])"
   ]
  },
  {
   "cell_type": "code",
   "execution_count": 148,
   "id": "ec76f85e-0547-41dd-947a-843936594d54",
   "metadata": {},
   "outputs": [
    {
     "data": {
      "text/plain": [
       "['__add__',\n",
       " '__class__',\n",
       " '__contains__',\n",
       " '__delattr__',\n",
       " '__dir__',\n",
       " '__doc__',\n",
       " '__eq__',\n",
       " '__format__',\n",
       " '__ge__',\n",
       " '__getattribute__',\n",
       " '__getitem__',\n",
       " '__getnewargs__',\n",
       " '__gt__',\n",
       " '__hash__',\n",
       " '__init__',\n",
       " '__init_subclass__',\n",
       " '__iter__',\n",
       " '__le__',\n",
       " '__len__',\n",
       " '__lt__',\n",
       " '__module__',\n",
       " '__mul__',\n",
       " '__ne__',\n",
       " '__new__',\n",
       " '__reduce__',\n",
       " '__reduce_ex__',\n",
       " '__repr__',\n",
       " '__rmul__',\n",
       " '__setattr__',\n",
       " '__sizeof__',\n",
       " '__slots__',\n",
       " '__str__',\n",
       " '__subclasshook__',\n",
       " '_asdict',\n",
       " '_fields',\n",
       " '_make',\n",
       " '_replace',\n",
       " '_source',\n",
       " 'count',\n",
       " 'current_player',\n",
       " 'discounts',\n",
       " 'first',\n",
       " 'index',\n",
       " 'is_simultaneous_move',\n",
       " 'last',\n",
       " 'mid',\n",
       " 'observations',\n",
       " 'rewards',\n",
       " 'step_type']"
      ]
     },
     "execution_count": 148,
     "metadata": {},
     "output_type": "execute_result"
    }
   ],
   "source": [
    "dir(time_step)"
   ]
  },
  {
   "cell_type": "code",
   "execution_count": 149,
   "id": "7bf595de-56bc-40d7-a4cc-076fbabb2753",
   "metadata": {},
   "outputs": [
    {
     "data": {
      "text/plain": [
       "[50.0, 55.0]"
      ]
     },
     "execution_count": 149,
     "metadata": {},
     "output_type": "execute_result"
    }
   ],
   "source": [
    "time_step.rewards"
   ]
  },
  {
   "cell_type": "code",
   "execution_count": 150,
   "id": "3ea5e170-9784-4e16-aec2-61077f6d4c96",
   "metadata": {},
   "outputs": [],
   "source": [
    "checkpoint.agents[0]._rl_agent._optimizer.param_groups[0]['lr'] = 1e-3"
   ]
  },
  {
   "cell_type": "code",
   "execution_count": 151,
   "id": "fa731a58-2130-48e7-a7c5-aeb4b5c1539c",
   "metadata": {},
   "outputs": [],
   "source": [
    "checkpoint.agents[0]._rl_agent._batch_size = 1000"
   ]
  },
  {
   "cell_type": "code",
   "execution_count": 152,
   "id": "8dd4a33b-606b-4994-8214-8f81ee18764d",
   "metadata": {},
   "outputs": [],
   "source": [
    "checkpoint.agents[0]._rl_agent._epsilon_start = 0.5"
   ]
  },
  {
   "cell_type": "code",
   "execution_count": 153,
   "id": "8d2491af-d34c-4f86-ab4a-67c51517fe22",
   "metadata": {},
   "outputs": [
    {
     "name": "stderr",
     "output_type": "stream",
     "text": [
      "  0%|          | 0/1000000 [00:00<?, ?it/s]/apps/open_spiel/venv/lib/python3.6/site-packages/ipykernel_launcher.py:7: DeprecationWarning: The default dtype for empty Series will be 'object' instead of 'float64' in a future version. Specify a dtype explicitly to silence this warning.\n",
      "  import sys\n",
      "  0%|          | 12/1000000 [00:00<2:45:10, 100.90it/s]"
     ]
    },
    {
     "name": "stdout",
     "output_type": "stream",
     "text": [
      "Bid for 1,0,0 licenses @ $75 with activity 75 - tensor(45.0049)\n",
      "Bid for 1,0,1 licenses @ $100 with activity 100 - tensor(14.9747)\n",
      "Series([], dtype: int64)\n"
     ]
    },
    {
     "name": "stderr",
     "output_type": "stream",
     "text": [
      "  0%|          | 1021/1000000 [00:06<1:48:06, 154.02it/s]"
     ]
    },
    {
     "name": "stdout",
     "output_type": "stream",
     "text": [
      "Bid for 1,0,0 licenses @ $75 with activity 75 - tensor(45.0049)\n",
      "Bid for 1,0,1 licenses @ $100 with activity 100 - tensor(14.9747)\n",
      "4     575\n",
      "11     52\n",
      "1      48\n",
      "9      39\n",
      "5      39\n",
      "3      39\n",
      "2      38\n",
      "8      35\n",
      "10     34\n",
      "7      34\n",
      "6      34\n",
      "0      33\n",
      "dtype: int64\n"
     ]
    },
    {
     "name": "stderr",
     "output_type": "stream",
     "text": [
      "  0%|          | 2017/1000000 [00:12<1:42:30, 162.26it/s]"
     ]
    },
    {
     "name": "stdout",
     "output_type": "stream",
     "text": [
      "Bid for 1,0,0 licenses @ $75 with activity 75 - tensor(45.0049)\n",
      "Bid for 1,0,1 licenses @ $100 with activity 100 - tensor(14.9747)\n",
      "4     1120\n",
      "11      93\n",
      "9       88\n",
      "2       88\n",
      "3       87\n",
      "1       81\n",
      "8       77\n",
      "0       77\n",
      "5       74\n",
      "10      72\n",
      "6       72\n",
      "7       71\n",
      "dtype: int64\n"
     ]
    },
    {
     "name": "stderr",
     "output_type": "stream",
     "text": [
      "  0%|          | 3017/1000000 [00:19<1:49:38, 151.56it/s]"
     ]
    },
    {
     "name": "stdout",
     "output_type": "stream",
     "text": [
      "Bid for 1,0,0 licenses @ $75 with activity 75 - tensor(45.0049)\n",
      "Bid for 1,0,1 licenses @ $100 with activity 100 - tensor(14.9747)\n",
      "4     1691\n",
      "11     134\n",
      "9      124\n",
      "3      124\n",
      "2      122\n",
      "8      121\n",
      "10     118\n",
      "6      116\n",
      "0      116\n",
      "1      115\n",
      "5      111\n",
      "7      108\n",
      "dtype: int64\n"
     ]
    },
    {
     "name": "stderr",
     "output_type": "stream",
     "text": [
      "  0%|          | 3997/1000000 [00:39<7:18:32, 37.85it/s] "
     ]
    },
    {
     "name": "stdout",
     "output_type": "stream",
     "text": [
      "Bid for 1,0,0 licenses @ $75 with activity 75 - tensor(37.3079)\n",
      "Bid for 1,0,1 licenses @ $100 with activity 100 - tensor(14.0359)\n",
      "4     2239\n",
      "11     178\n",
      "8      166\n",
      "10     165\n",
      "2      164\n",
      "9      161\n",
      "3      161\n",
      "0      159\n",
      "6      153\n",
      "7      152\n",
      "5      152\n",
      "1      150\n",
      "dtype: int64\n"
     ]
    },
    {
     "name": "stderr",
     "output_type": "stream",
     "text": [
      "  0%|          | 4998/1000000 [01:12<7:43:32, 35.78it/s] "
     ]
    },
    {
     "name": "stdout",
     "output_type": "stream",
     "text": [
      "Bid for 1,0,0 licenses @ $75 with activity 75 - tensor(39.6727)\n",
      "Bid for 1,0,1 licenses @ $100 with activity 100 - tensor(18.8770)\n",
      "4     2792\n",
      "11     229\n",
      "8      207\n",
      "2      204\n",
      "10     202\n",
      "9      201\n",
      "5      201\n",
      "3      198\n",
      "0      197\n",
      "6      195\n",
      "7      194\n",
      "1      180\n",
      "dtype: int64\n"
     ]
    },
    {
     "name": "stderr",
     "output_type": "stream",
     "text": [
      "  1%|          | 5994/1000000 [01:46<7:56:03, 34.80it/s] "
     ]
    },
    {
     "name": "stdout",
     "output_type": "stream",
     "text": [
      "Bid for 1,0,0 licenses @ $75 with activity 75 - tensor(38.9117)\n",
      "Bid for 1,0,1 licenses @ $100 with activity 100 - tensor(22.7736)\n",
      "4     3353\n",
      "11     263\n",
      "3      251\n",
      "8      249\n",
      "2      247\n",
      "9      243\n",
      "10     242\n",
      "6      241\n",
      "0      238\n",
      "5      235\n",
      "7      221\n",
      "1      217\n",
      "dtype: int64\n"
     ]
    },
    {
     "name": "stderr",
     "output_type": "stream",
     "text": [
      "  1%|          | 7006/1000000 [02:21<7:52:12, 35.05it/s] "
     ]
    },
    {
     "name": "stdout",
     "output_type": "stream",
     "text": [
      "Bid for 1,0,0 licenses @ $75 with activity 75 - tensor(38.5151)\n",
      "Bid for 1,0,1 licenses @ $100 with activity 100 - tensor(26.4795)\n",
      "4     3925\n",
      "8      306\n",
      "11     302\n",
      "3      291\n",
      "2      285\n",
      "9      279\n",
      "10     277\n",
      "6      274\n",
      "5      274\n",
      "0      269\n",
      "1      262\n",
      "7      256\n",
      "dtype: int64\n"
     ]
    },
    {
     "name": "stderr",
     "output_type": "stream",
     "text": [
      "  1%|          | 8016/1000000 [02:56<7:50:05, 35.17it/s] "
     ]
    },
    {
     "name": "stdout",
     "output_type": "stream",
     "text": [
      "Bid for 1,0,0 licenses @ $75 with activity 75 - tensor(38.4048)\n",
      "Bid for 1,0,1 licenses @ $100 with activity 100 - tensor(29.8784)\n",
      "4     4472\n",
      "8      349\n",
      "11     343\n",
      "9      329\n",
      "10     328\n",
      "3      322\n",
      "2      321\n",
      "6      311\n",
      "1      310\n",
      "5      309\n",
      "0      308\n",
      "7      298\n",
      "dtype: int64\n"
     ]
    },
    {
     "name": "stderr",
     "output_type": "stream",
     "text": [
      "  1%|          | 9014/1000000 [03:38<9:55:25, 27.74it/s] "
     ]
    },
    {
     "name": "stdout",
     "output_type": "stream",
     "text": [
      "Bid for 1,0,0 licenses @ $75 with activity 75 - tensor(38.2562)\n",
      "Bid for 1,0,1 licenses @ $100 with activity 100 - tensor(32.7598)\n",
      "4     5031\n",
      "8      401\n",
      "9      379\n",
      "11     374\n",
      "10     362\n",
      "5      359\n",
      "6      355\n",
      "1      353\n",
      "2      352\n",
      "3      351\n",
      "0      348\n",
      "7      335\n",
      "dtype: int64\n"
     ]
    },
    {
     "name": "stderr",
     "output_type": "stream",
     "text": [
      "  1%|          | 10003/1000000 [04:24<12:57:22, 21.23it/s]"
     ]
    },
    {
     "name": "stdout",
     "output_type": "stream",
     "text": [
      "Bid for 1,0,0 licenses @ $75 with activity 75 - tensor(38.1490)\n",
      "Bid for 1,0,1 licenses @ $100 with activity 100 - tensor(35.4013)\n",
      "4     5579\n",
      "8      443\n",
      "9      420\n",
      "11     414\n",
      "6      401\n",
      "10     401\n",
      "0      396\n",
      "3      395\n",
      "5      394\n",
      "1      394\n",
      "2      386\n",
      "7      377\n",
      "dtype: int64\n"
     ]
    },
    {
     "name": "stderr",
     "output_type": "stream",
     "text": [
      "  1%|          | 11001/1000000 [05:15<14:32:04, 18.90it/s]"
     ]
    },
    {
     "name": "stdout",
     "output_type": "stream",
     "text": [
      "Bid for 1,0,0 licenses @ $75 with activity 75 - tensor(38.1968)\n",
      "Bid for 1,0,1 licenses @ $100 with activity 100 - tensor(37.7461)\n",
      "4     6132\n",
      "8      480\n",
      "9      467\n",
      "11     466\n",
      "3      443\n",
      "6      439\n",
      "5      439\n",
      "10     433\n",
      "1      433\n",
      "0      432\n",
      "7      420\n",
      "2      416\n",
      "dtype: int64\n"
     ]
    },
    {
     "name": "stderr",
     "output_type": "stream",
     "text": [
      "  1%|          | 11994/1000000 [06:08<11:07:10, 24.68it/s]"
     ]
    },
    {
     "name": "stdout",
     "output_type": "stream",
     "text": [
      "Bid for 1,0,0 licenses @ $75 with activity 75 - tensor(37.8962)\n",
      "Bid for 1,0,1 licenses @ $100 with activity 100 - tensor(39.7643)\n",
      "4     6281\n",
      "5      881\n",
      "8      525\n",
      "9      504\n",
      "11     497\n",
      "1      486\n",
      "3      485\n",
      "6      482\n",
      "10     476\n",
      "0      475\n",
      "2      456\n",
      "7      452\n",
      "dtype: int64\n"
     ]
    },
    {
     "name": "stderr",
     "output_type": "stream",
     "text": [
      "  1%|▏         | 13012/1000000 [07:12<12:32:25, 21.86it/s]"
     ]
    },
    {
     "name": "stdout",
     "output_type": "stream",
     "text": [
      "Bid for 1,0,0 licenses @ $75 with activity 75 - tensor(37.9929)\n",
      "Bid for 1,0,1 licenses @ $100 with activity 100 - tensor(41.9835)\n",
      "4     6316\n",
      "5     1426\n",
      "8      571\n",
      "9      555\n",
      "11     548\n",
      "1      527\n",
      "3      526\n",
      "6      517\n",
      "10     515\n",
      "0      509\n",
      "7      500\n",
      "2      490\n",
      "dtype: int64\n"
     ]
    },
    {
     "name": "stderr",
     "output_type": "stream",
     "text": [
      "  1%|▏         | 14020/1000000 [08:24<11:48:12, 23.20it/s]"
     ]
    },
    {
     "name": "stdout",
     "output_type": "stream",
     "text": [
      "Bid for 1,0,0 licenses @ $75 with activity 75 - tensor(38.1255)\n",
      "Bid for 1,0,1 licenses @ $100 with activity 100 - tensor(43.7562)\n",
      "4     6353\n",
      "5     1958\n",
      "8      606\n",
      "9      601\n",
      "11     597\n",
      "3      571\n",
      "1      569\n",
      "6      567\n",
      "10     563\n",
      "0      544\n",
      "7      536\n",
      "2      535\n",
      "dtype: int64\n"
     ]
    },
    {
     "name": "stderr",
     "output_type": "stream",
     "text": [
      "  2%|▏         | 15008/1000000 [09:36<19:09:54, 14.28it/s]"
     ]
    },
    {
     "name": "stdout",
     "output_type": "stream",
     "text": [
      "Bid for 1,0,0 licenses @ $75 with activity 75 - tensor(38.1149)\n",
      "Bid for 1,0,1 licenses @ $100 with activity 100 - tensor(44.9482)\n",
      "4     6395\n",
      "5     2535\n",
      "11     646\n",
      "8      642\n",
      "9      634\n",
      "3      617\n",
      "1      612\n",
      "6      603\n",
      "10     603\n",
      "0      576\n",
      "2      573\n",
      "7      564\n",
      "dtype: int64\n"
     ]
    },
    {
     "name": "stderr",
     "output_type": "stream",
     "text": [
      "  2%|▏         | 16010/1000000 [10:55<14:37:05, 18.70it/s]"
     ]
    },
    {
     "name": "stdout",
     "output_type": "stream",
     "text": [
      "Bid for 1,0,0 licenses @ $75 with activity 75 - tensor(38.3521)\n",
      "Bid for 1,0,1 licenses @ $100 with activity 100 - tensor(45.9338)\n",
      "4     6428\n",
      "5     3104\n",
      "11     688\n",
      "8      683\n",
      "9      682\n",
      "1      654\n",
      "3      651\n",
      "6      641\n",
      "10     637\n",
      "0      619\n",
      "2      607\n",
      "7      606\n",
      "dtype: int64\n"
     ]
    },
    {
     "name": "stderr",
     "output_type": "stream",
     "text": [
      "  2%|▏         | 17014/1000000 [12:23<17:01:11, 16.04it/s]"
     ]
    },
    {
     "name": "stdout",
     "output_type": "stream",
     "text": [
      "Bid for 1,0,0 licenses @ $75 with activity 75 - tensor(38.3809)\n",
      "Bid for 1,0,1 licenses @ $100 with activity 100 - tensor(46.3854)\n",
      "4     6462\n",
      "5     3633\n",
      "8      734\n",
      "9      726\n",
      "11     725\n",
      "3      700\n",
      "1      697\n",
      "6      688\n",
      "10     684\n",
      "0      664\n",
      "2      648\n",
      "7      639\n",
      "dtype: int64\n"
     ]
    },
    {
     "name": "stderr",
     "output_type": "stream",
     "text": [
      "  2%|▏         | 18014/1000000 [14:04<28:46:51,  9.48it/s]"
     ]
    },
    {
     "name": "stdout",
     "output_type": "stream",
     "text": [
      "Bid for 1,0,0 licenses @ $75 with activity 75 - tensor(38.4102)\n",
      "Bid for 1,0,1 licenses @ $100 with activity 100 - tensor(46.9294)\n",
      "4     6514\n",
      "5     4160\n",
      "9      775\n",
      "11     770\n",
      "8      769\n",
      "1      744\n",
      "3      741\n",
      "10     735\n",
      "6      726\n",
      "0      708\n",
      "2      681\n",
      "7      677\n",
      "dtype: int64\n"
     ]
    },
    {
     "name": "stderr",
     "output_type": "stream",
     "text": [
      "  2%|▏         | 19002/1000000 [15:58<30:10:27,  9.03it/s]"
     ]
    },
    {
     "name": "stdout",
     "output_type": "stream",
     "text": [
      "Bid for 1,0,0 licenses @ $75 with activity 75 - tensor(38.4056)\n",
      "Bid for 1,0,1 licenses @ $100 with activity 100 - tensor(47.4680)\n",
      "4     6561\n",
      "5     4685\n",
      "11     818\n",
      "8      815\n",
      "9      811\n",
      "3      796\n",
      "1      784\n",
      "10     772\n",
      "6      771\n",
      "0      747\n",
      "7      721\n",
      "2      719\n",
      "dtype: int64\n"
     ]
    },
    {
     "name": "stderr",
     "output_type": "stream",
     "text": [
      "  2%|▏         | 20007/1000000 [17:53<23:03:19, 11.81it/s]"
     ]
    },
    {
     "name": "stdout",
     "output_type": "stream",
     "text": [
      "Bid for 1,0,0 licenses @ $75 with activity 75 - tensor(38.4097)\n",
      "Bid for 1,0,1 licenses @ $100 with activity 100 - tensor(47.9321)\n",
      "4     6612\n",
      "5     5247\n",
      "9      854\n",
      "11     851\n",
      "8      846\n",
      "3      835\n",
      "10     825\n",
      "1      820\n",
      "6      814\n",
      "0      780\n",
      "2      761\n",
      "7      755\n",
      "dtype: int64\n"
     ]
    },
    {
     "name": "stderr",
     "output_type": "stream",
     "text": [
      "  2%|▏         | 20993/1000000 [19:52<36:22:27,  7.48it/s]"
     ]
    },
    {
     "name": "stdout",
     "output_type": "stream",
     "text": [
      "Bid for 1,0,0 licenses @ $75 with activity 75 - tensor(38.5187)\n",
      "Bid for 1,0,1 licenses @ $100 with activity 100 - tensor(48.3127)\n",
      "4     6647\n",
      "5     5804\n",
      "11     903\n",
      "9      900\n",
      "3      878\n",
      "8      875\n",
      "1      862\n",
      "10     860\n",
      "6      855\n",
      "0      825\n",
      "2      807\n",
      "7      784\n",
      "dtype: int64\n"
     ]
    },
    {
     "name": "stderr",
     "output_type": "stream",
     "text": [
      "  2%|▏         | 22001/1000000 [22:03<27:38:27,  9.83it/s]"
     ]
    },
    {
     "name": "stdout",
     "output_type": "stream",
     "text": [
      "Bid for 1,0,0 licenses @ $75 with activity 75 - tensor(38.5164)\n",
      "Bid for 1,0,1 licenses @ $100 with activity 100 - tensor(48.6078)\n",
      "4     6684\n",
      "5     6320\n",
      "11     938\n",
      "9      936\n",
      "8      928\n",
      "3      920\n",
      "6      919\n",
      "1      900\n",
      "10     898\n",
      "0      880\n",
      "2      850\n",
      "7      827\n",
      "dtype: int64\n"
     ]
    },
    {
     "name": "stderr",
     "output_type": "stream",
     "text": [
      "  2%|▏         | 23007/1000000 [25:23<36:30:37,  7.43it/s]"
     ]
    },
    {
     "name": "stdout",
     "output_type": "stream",
     "text": [
      "Bid for 1,0,0 licenses @ $75 with activity 75 - tensor(38.7599)\n",
      "Bid for 1,0,1 licenses @ $100 with activity 100 - tensor(48.9394)\n",
      "4     6727\n",
      "5     6356\n",
      "6     1483\n",
      "9      976\n",
      "11     974\n",
      "8      970\n",
      "3      962\n",
      "1      944\n",
      "10     932\n",
      "0      925\n",
      "2      886\n",
      "7      865\n",
      "dtype: int64\n"
     ]
    },
    {
     "name": "stderr",
     "output_type": "stream",
     "text": [
      "  2%|▏         | 24004/1000000 [28:56<42:24:54,  6.39it/s] "
     ]
    },
    {
     "name": "stdout",
     "output_type": "stream",
     "text": [
      "Bid for 1,0,0 licenses @ $75 with activity 75 - tensor(38.8638)\n",
      "Bid for 1,0,1 licenses @ $100 with activity 100 - tensor(49.1506)\n",
      "4     6773\n",
      "5     6390\n",
      "6     2016\n",
      "9     1019\n",
      "8     1016\n",
      "11    1007\n",
      "3      999\n",
      "1      985\n",
      "10     972\n",
      "0      971\n",
      "2      932\n",
      "7      920\n",
      "dtype: int64\n"
     ]
    },
    {
     "name": "stderr",
     "output_type": "stream",
     "text": [
      "  3%|▎         | 25007/1000000 [32:23<41:47:22,  6.48it/s]"
     ]
    },
    {
     "name": "stdout",
     "output_type": "stream",
     "text": [
      "Bid for 1,0,0 licenses @ $75 with activity 75 - tensor(38.8839)\n",
      "Bid for 1,0,1 licenses @ $100 with activity 100 - tensor(49.3230)\n",
      "4     6811\n",
      "5     6426\n",
      "6     2554\n",
      "9     1057\n",
      "8     1056\n",
      "11    1053\n",
      "3     1048\n",
      "1     1037\n",
      "0     1023\n",
      "10    1016\n",
      "2      968\n",
      "7      951\n",
      "dtype: int64\n"
     ]
    },
    {
     "name": "stderr",
     "output_type": "stream",
     "text": [
      "  3%|▎         | 26004/1000000 [35:51<35:23:58,  7.64it/s] "
     ]
    },
    {
     "name": "stdout",
     "output_type": "stream",
     "text": [
      "Bid for 1,0,0 licenses @ $75 with activity 75 - tensor(38.9492)\n",
      "Bid for 1,0,1 licenses @ $100 with activity 100 - tensor(49.5317)\n",
      "4     6861\n",
      "5     6475\n",
      "6     3092\n",
      "11    1102\n",
      "9     1093\n",
      "8     1093\n",
      "3     1092\n",
      "1     1071\n",
      "0     1062\n",
      "10    1058\n",
      "2     1018\n",
      "7      983\n",
      "dtype: int64\n"
     ]
    },
    {
     "name": "stderr",
     "output_type": "stream",
     "text": [
      "  3%|▎         | 27001/1000000 [39:33<37:16:09,  7.25it/s] "
     ]
    },
    {
     "name": "stdout",
     "output_type": "stream",
     "text": [
      "Bid for 1,0,0 licenses @ $75 with activity 75 - tensor(39.0499)\n",
      "Bid for 1,0,1 licenses @ $100 with activity 100 - tensor(49.8454)\n",
      "4     6899\n",
      "5     6520\n",
      "6     3649\n",
      "11    1143\n",
      "8     1143\n",
      "9     1133\n",
      "3     1125\n",
      "1     1110\n",
      "10    1103\n",
      "0     1101\n",
      "2     1056\n",
      "7     1018\n",
      "dtype: int64\n"
     ]
    },
    {
     "name": "stderr",
     "output_type": "stream",
     "text": [
      "  3%|▎         | 28005/1000000 [43:17<57:07:17,  4.73it/s] "
     ]
    },
    {
     "name": "stdout",
     "output_type": "stream",
     "text": [
      "Bid for 1,0,0 licenses @ $75 with activity 75 - tensor(39.1035)\n",
      "Bid for 1,0,1 licenses @ $100 with activity 100 - tensor(50.0950)\n",
      "4     6943\n",
      "5     6562\n",
      "6     4206\n",
      "9     1182\n",
      "8     1181\n",
      "11    1178\n",
      "1     1156\n",
      "3     1150\n",
      "0     1149\n",
      "10    1135\n",
      "2     1089\n",
      "7     1069\n",
      "dtype: int64\n"
     ]
    },
    {
     "name": "stderr",
     "output_type": "stream",
     "text": [
      "  3%|▎         | 29002/1000000 [47:10<67:00:29,  4.03it/s] "
     ]
    },
    {
     "name": "stdout",
     "output_type": "stream",
     "text": [
      "Bid for 1,0,0 licenses @ $75 with activity 75 - tensor(39.3687)\n",
      "Bid for 1,0,1 licenses @ $100 with activity 100 - tensor(50.4319)\n",
      "4     6981\n",
      "5     6607\n",
      "6     4749\n",
      "9     1218\n",
      "11    1215\n",
      "8     1210\n",
      "3     1210\n",
      "1     1206\n",
      "0     1180\n",
      "10    1178\n",
      "2     1135\n",
      "7     1111\n",
      "dtype: int64\n"
     ]
    },
    {
     "name": "stderr",
     "output_type": "stream",
     "text": [
      "  3%|▎         | 30000/1000000 [51:11<47:04:32,  5.72it/s] "
     ]
    },
    {
     "name": "stdout",
     "output_type": "stream",
     "text": [
      "Bid for 1,0,0 licenses @ $75 with activity 75 - tensor(40.0210)\n",
      "Bid for 1,0,1 licenses @ $100 with activity 100 - tensor(50.6569)\n",
      "4     7018\n",
      "5     6652\n",
      "6     5326\n",
      "11    1259\n",
      "8     1249\n",
      "1     1246\n",
      "9     1244\n",
      "3     1244\n",
      "10    1222\n",
      "0     1214\n",
      "2     1183\n",
      "7     1143\n",
      "dtype: int64\n"
     ]
    },
    {
     "name": "stderr",
     "output_type": "stream",
     "text": [
      "  3%|▎         | 31002/1000000 [55:19<45:41:16,  5.89it/s] "
     ]
    },
    {
     "name": "stdout",
     "output_type": "stream",
     "text": [
      "Bid for 1,0,0 licenses @ $75 with activity 75 - tensor(40.4551)\n",
      "Bid for 1,0,1 licenses @ $100 with activity 100 - tensor(50.8088)\n",
      "4     7066\n",
      "5     6705\n",
      "6     5862\n",
      "11    1304\n",
      "8     1296\n",
      "3     1286\n",
      "1     1280\n",
      "9     1279\n",
      "0     1260\n",
      "10    1258\n",
      "2     1213\n",
      "7     1191\n",
      "dtype: int64\n"
     ]
    },
    {
     "name": "stderr",
     "output_type": "stream",
     "text": [
      "  3%|▎         | 32005/1000000 [59:31<46:49:24,  5.74it/s] "
     ]
    },
    {
     "name": "stdout",
     "output_type": "stream",
     "text": [
      "Bid for 1,0,0 licenses @ $75 with activity 75 - tensor(40.9345)\n",
      "Bid for 1,0,1 licenses @ $100 with activity 100 - tensor(51.0159)\n",
      "4     7119\n",
      "5     6740\n",
      "6     6179\n",
      "11    1576\n",
      "8     1335\n",
      "9     1331\n",
      "3     1328\n",
      "1     1316\n",
      "0     1301\n",
      "10    1300\n",
      "2     1247\n",
      "7     1228\n",
      "dtype: int64\n"
     ]
    },
    {
     "name": "stderr",
     "output_type": "stream",
     "text": [
      "  3%|▎         | 33006/1000000 [1:04:03<45:58:04,  5.84it/s] "
     ]
    },
    {
     "name": "stdout",
     "output_type": "stream",
     "text": [
      "Bid for 1,0,0 licenses @ $75 with activity 75 - tensor(41.0891)\n",
      "Bid for 1,0,1 licenses @ $100 with activity 100 - tensor(51.0009)\n",
      "4     7164\n",
      "5     6772\n",
      "6     6227\n",
      "11    2132\n",
      "8     1376\n",
      "3     1370\n",
      "9     1365\n",
      "1     1354\n",
      "0     1352\n",
      "10    1340\n",
      "2     1285\n",
      "7     1263\n",
      "dtype: int64\n"
     ]
    },
    {
     "name": "stderr",
     "output_type": "stream",
     "text": [
      "  3%|▎         | 34008/1000000 [1:08:46<40:52:37,  6.56it/s] "
     ]
    },
    {
     "name": "stdout",
     "output_type": "stream",
     "text": [
      "Bid for 1,0,0 licenses @ $75 with activity 75 - tensor(41.0454)\n",
      "Bid for 1,0,1 licenses @ $100 with activity 100 - tensor(50.6922)\n",
      "4     7205\n",
      "5     6827\n",
      "6     6262\n",
      "11    2693\n",
      "8     1413\n",
      "9     1407\n",
      "3     1403\n",
      "1     1398\n",
      "0     1387\n",
      "10    1381\n",
      "2     1324\n",
      "7     1300\n",
      "dtype: int64\n"
     ]
    },
    {
     "name": "stderr",
     "output_type": "stream",
     "text": [
      "  4%|▎         | 35004/1000000 [1:13:40<64:15:20,  4.17it/s] "
     ]
    },
    {
     "name": "stdout",
     "output_type": "stream",
     "text": [
      "Bid for 1,0,0 licenses @ $75 with activity 75 - tensor(41.3415)\n",
      "Bid for 1,0,1 licenses @ $100 with activity 100 - tensor(50.6790)\n",
      "4     7246\n",
      "5     6860\n",
      "6     6305\n",
      "11    3269\n",
      "8     1457\n",
      "9     1450\n",
      "3     1437\n",
      "1     1437\n",
      "0     1428\n",
      "10    1421\n",
      "2     1359\n",
      "7     1331\n",
      "dtype: int64\n"
     ]
    },
    {
     "name": "stderr",
     "output_type": "stream",
     "text": [
      "  4%|▎         | 36007/1000000 [1:18:37<66:10:21,  4.05it/s] "
     ]
    },
    {
     "name": "stdout",
     "output_type": "stream",
     "text": [
      "Bid for 1,0,0 licenses @ $75 with activity 75 - tensor(41.0104)\n",
      "Bid for 1,0,1 licenses @ $100 with activity 100 - tensor(50.1306)\n",
      "4     7293\n",
      "5     6901\n",
      "6     6341\n",
      "11    3837\n",
      "8     1515\n",
      "9     1482\n",
      "3     1477\n",
      "1     1466\n",
      "10    1459\n",
      "0     1459\n",
      "2     1399\n",
      "7     1371\n",
      "dtype: int64\n"
     ]
    },
    {
     "name": "stderr",
     "output_type": "stream",
     "text": [
      "  4%|▎         | 37003/1000000 [1:23:35<87:00:06,  3.07it/s] "
     ]
    },
    {
     "name": "stdout",
     "output_type": "stream",
     "text": [
      "Bid for 1,0,0 licenses @ $75 with activity 75 - tensor(41.3363)\n",
      "Bid for 1,0,1 licenses @ $100 with activity 100 - tensor(50.4027)\n",
      "4     7350\n",
      "5     6940\n",
      "6     6367\n",
      "11    4270\n",
      "10    1621\n",
      "8     1560\n",
      "9     1520\n",
      "3     1507\n",
      "1     1507\n",
      "0     1504\n",
      "2     1439\n",
      "7     1415\n",
      "dtype: int64\n"
     ]
    },
    {
     "name": "stderr",
     "output_type": "stream",
     "text": [
      "  4%|▍         | 38004/1000000 [1:28:36<47:49:29,  5.59it/s] "
     ]
    },
    {
     "name": "stdout",
     "output_type": "stream",
     "text": [
      "Bid for 1,0,0 licenses @ $75 with activity 75 - tensor(39.4676)\n",
      "Bid for 1,0,1 licenses @ $100 with activity 100 - tensor(48.0339)\n",
      "4     7381\n",
      "5     6975\n",
      "6     6415\n",
      "11    4311\n",
      "10    2172\n",
      "8     1598\n",
      "9     1561\n",
      "1     1558\n",
      "3     1553\n",
      "0     1549\n",
      "2     1476\n",
      "7     1451\n",
      "dtype: int64\n"
     ]
    },
    {
     "name": "stderr",
     "output_type": "stream",
     "text": [
      "  4%|▍         | 39005/1000000 [1:32:43<49:30:58,  5.39it/s] "
     ]
    },
    {
     "name": "stdout",
     "output_type": "stream",
     "text": [
      "Bid for 1,0,0 licenses @ $75 with activity 75 - tensor(37.8402)\n",
      "Bid for 1,0,1 licenses @ $100 with activity 100 - tensor(46.0917)\n",
      "4     7412\n",
      "5     7020\n",
      "6     6451\n",
      "11    4354\n",
      "10    2744\n",
      "8     1636\n",
      "9     1599\n",
      "0     1598\n",
      "1     1593\n",
      "3     1585\n",
      "2     1518\n",
      "7     1490\n",
      "dtype: int64\n"
     ]
    },
    {
     "name": "stderr",
     "output_type": "stream",
     "text": [
      "  4%|▍         | 40011/1000000 [1:35:30<40:06:32,  6.65it/s]"
     ]
    },
    {
     "name": "stdout",
     "output_type": "stream",
     "text": [
      "Bid for 1,0,0 licenses @ $75 with activity 75 - tensor(37.4189)\n",
      "Bid for 1,0,1 licenses @ $100 with activity 100 - tensor(45.5187)\n",
      "4     7462\n",
      "5     7386\n",
      "6     6488\n",
      "11    4399\n",
      "10    2933\n",
      "8     1688\n",
      "9     1638\n",
      "0     1637\n",
      "1     1630\n",
      "3     1627\n",
      "2     1576\n",
      "7     1536\n",
      "dtype: int64\n"
     ]
    },
    {
     "name": "stderr",
     "output_type": "stream",
     "text": [
      "  4%|▍         | 41013/1000000 [1:37:43<24:56:58, 10.68it/s]"
     ]
    },
    {
     "name": "stdout",
     "output_type": "stream",
     "text": [
      "Bid for 1,0,0 licenses @ $75 with activity 75 - tensor(37.0780)\n",
      "Bid for 1,0,1 licenses @ $100 with activity 100 - tensor(45.2729)\n",
      "5     7955\n",
      "4     7515\n",
      "6     6529\n",
      "11    4435\n",
      "10    2975\n",
      "8     1732\n",
      "0     1677\n",
      "9     1676\n",
      "3     1668\n",
      "1     1661\n",
      "2     1612\n",
      "7     1565\n",
      "dtype: int64\n"
     ]
    },
    {
     "name": "stderr",
     "output_type": "stream",
     "text": [
      "  4%|▍         | 41997/1000000 [1:39:52<26:15:15, 10.14it/s]"
     ]
    },
    {
     "name": "stdout",
     "output_type": "stream",
     "text": [
      "Bid for 1,0,0 licenses @ $75 with activity 75 - tensor(37.4883)\n",
      "Bid for 1,0,1 licenses @ $100 with activity 100 - tensor(46.2613)\n",
      "5     8520\n",
      "4     7544\n",
      "6     6561\n",
      "11    4476\n",
      "10    3010\n",
      "8     1769\n",
      "0     1730\n",
      "3     1712\n",
      "9     1710\n",
      "1     1709\n",
      "2     1654\n",
      "7     1605\n",
      "dtype: int64\n"
     ]
    },
    {
     "name": "stderr",
     "output_type": "stream",
     "text": [
      "  4%|▍         | 42991/1000000 [1:42:09<30:21:29,  8.76it/s]"
     ]
    },
    {
     "name": "stdout",
     "output_type": "stream",
     "text": [
      "Bid for 1,0,0 licenses @ $75 with activity 75 - tensor(37.9267)\n",
      "Bid for 1,0,1 licenses @ $100 with activity 100 - tensor(46.9824)\n",
      "5     9065\n",
      "4     7591\n",
      "6     6601\n",
      "11    4512\n",
      "10    3057\n",
      "8     1807\n",
      "0     1763\n",
      "3     1754\n",
      "1     1753\n",
      "9     1749\n",
      "2     1697\n",
      "7     1651\n",
      "dtype: int64\n"
     ]
    },
    {
     "name": "stderr",
     "output_type": "stream",
     "text": [
      "  4%|▍         | 44001/1000000 [1:44:26<25:59:46, 10.22it/s]"
     ]
    },
    {
     "name": "stdout",
     "output_type": "stream",
     "text": [
      "Bid for 1,0,0 licenses @ $75 with activity 75 - tensor(38.3244)\n",
      "Bid for 1,0,1 licenses @ $100 with activity 100 - tensor(47.7626)\n",
      "5     9635\n",
      "4     7630\n",
      "6     6646\n",
      "11    4551\n",
      "10    3092\n",
      "8     1850\n",
      "1     1796\n",
      "0     1794\n",
      "3     1784\n",
      "9     1780\n",
      "2     1743\n",
      "7     1699\n",
      "dtype: int64\n"
     ]
    },
    {
     "name": "stderr",
     "output_type": "stream",
     "text": [
      "  5%|▍         | 45001/1000000 [1:46:27<26:34:55,  9.98it/s]"
     ]
    },
    {
     "name": "stdout",
     "output_type": "stream",
     "text": [
      "Bid for 1,0,0 licenses @ $75 with activity 75 - tensor(38.5358)\n",
      "Bid for 1,0,1 licenses @ $100 with activity 100 - tensor(48.3784)\n",
      "5     10206\n",
      "4      7673\n",
      "6      6684\n",
      "11     4584\n",
      "10     3125\n",
      "8      1874\n",
      "1      1843\n",
      "0      1833\n",
      "3      1824\n",
      "9      1817\n",
      "2      1788\n",
      "7      1749\n",
      "dtype: int64\n"
     ]
    },
    {
     "name": "stderr",
     "output_type": "stream",
     "text": [
      "  5%|▍         | 46005/1000000 [1:48:35<20:18:31, 13.05it/s]"
     ]
    },
    {
     "name": "stdout",
     "output_type": "stream",
     "text": [
      "Bid for 1,0,0 licenses @ $75 with activity 75 - tensor(38.8705)\n",
      "Bid for 1,0,1 licenses @ $100 with activity 100 - tensor(49.0633)\n",
      "5     10773\n",
      "4      7711\n",
      "6      6725\n",
      "11     4623\n",
      "10     3173\n",
      "8      1912\n",
      "1      1893\n",
      "0      1865\n",
      "3      1863\n",
      "9      1849\n",
      "2      1821\n",
      "7      1792\n",
      "dtype: int64\n"
     ]
    },
    {
     "name": "stderr",
     "output_type": "stream",
     "text": [
      "  5%|▍         | 47008/1000000 [1:50:39<19:22:37, 13.66it/s]"
     ]
    },
    {
     "name": "stdout",
     "output_type": "stream",
     "text": [
      "Bid for 1,0,0 licenses @ $75 with activity 75 - tensor(38.7676)\n",
      "Bid for 1,0,1 licenses @ $100 with activity 100 - tensor(49.2547)\n",
      "5     11328\n",
      "4      7756\n",
      "6      6755\n",
      "11     4661\n",
      "10     3217\n",
      "8      1950\n",
      "1      1935\n",
      "3      1913\n",
      "0      1901\n",
      "9      1887\n",
      "2      1865\n",
      "7      1832\n",
      "dtype: int64\n"
     ]
    },
    {
     "name": "stderr",
     "output_type": "stream",
     "text": [
      "  5%|▍         | 48005/1000000 [1:52:39<22:04:53, 11.98it/s]"
     ]
    },
    {
     "name": "stdout",
     "output_type": "stream",
     "text": [
      "Bid for 1,0,0 licenses @ $75 with activity 75 - tensor(38.8357)\n",
      "Bid for 1,0,1 licenses @ $100 with activity 100 - tensor(49.5392)\n",
      "5     11911\n",
      "4      7792\n",
      "6      6804\n",
      "11     4689\n",
      "10     3247\n",
      "8      1981\n",
      "1      1975\n",
      "3      1943\n",
      "0      1941\n",
      "9      1936\n",
      "2      1912\n",
      "7      1869\n",
      "dtype: int64\n"
     ]
    },
    {
     "name": "stderr",
     "output_type": "stream",
     "text": [
      "  5%|▍         | 48999/1000000 [1:54:43<24:52:54, 10.62it/s]"
     ]
    },
    {
     "name": "stdout",
     "output_type": "stream",
     "text": [
      "Bid for 1,0,0 licenses @ $75 with activity 75 - tensor(38.4739)\n",
      "Bid for 1,0,1 licenses @ $100 with activity 100 - tensor(49.4844)\n",
      "5     12476\n",
      "4      7827\n",
      "6      6838\n",
      "11     4726\n",
      "10     3295\n",
      "8      2018\n",
      "1      2014\n",
      "3      1994\n",
      "0      1979\n",
      "9      1976\n",
      "2      1947\n",
      "7      1910\n",
      "dtype: int64\n"
     ]
    },
    {
     "name": "stderr",
     "output_type": "stream",
     "text": [
      "  5%|▌         | 50004/1000000 [1:56:45<19:33:22, 13.49it/s]"
     ]
    },
    {
     "name": "stdout",
     "output_type": "stream",
     "text": [
      "Bid for 1,0,0 licenses @ $75 with activity 75 - tensor(38.6603)\n",
      "Bid for 1,0,1 licenses @ $100 with activity 100 - tensor(49.7831)\n",
      "5     13061\n",
      "4      7866\n",
      "6      6864\n",
      "11     4772\n",
      "10     3329\n",
      "1      2056\n",
      "8      2055\n",
      "3      2045\n",
      "0      2016\n",
      "9      2011\n",
      "2      1982\n",
      "7      1943\n",
      "dtype: int64\n"
     ]
    },
    {
     "name": "stderr",
     "output_type": "stream",
     "text": [
      "  5%|▌         | 51007/1000000 [1:58:45<20:24:02, 12.92it/s]"
     ]
    },
    {
     "name": "stdout",
     "output_type": "stream",
     "text": [
      "Bid for 1,0,0 licenses @ $75 with activity 75 - tensor(38.6636)\n",
      "Bid for 1,0,1 licenses @ $100 with activity 100 - tensor(49.8375)\n",
      "5     13642\n",
      "4      7907\n",
      "6      6905\n",
      "11     4810\n",
      "10     3360\n",
      "8      2092\n",
      "1      2091\n",
      "3      2083\n",
      "0      2058\n",
      "9      2049\n",
      "2      2016\n",
      "7      1987\n",
      "dtype: int64\n"
     ]
    },
    {
     "name": "stderr",
     "output_type": "stream",
     "text": [
      "  5%|▌         | 52009/1000000 [2:00:45<23:34:08, 11.17it/s]"
     ]
    },
    {
     "name": "stdout",
     "output_type": "stream",
     "text": [
      "Bid for 1,0,0 licenses @ $75 with activity 75 - tensor(38.5552)\n",
      "Bid for 1,0,1 licenses @ $100 with activity 100 - tensor(49.8574)\n",
      "5     14208\n",
      "4      7949\n",
      "6      6944\n",
      "11     4858\n",
      "10     3395\n",
      "8      2136\n",
      "3      2130\n",
      "1      2129\n",
      "0      2091\n",
      "9      2087\n",
      "2      2050\n",
      "7      2023\n",
      "dtype: int64\n"
     ]
    },
    {
     "name": "stderr",
     "output_type": "stream",
     "text": [
      "  5%|▌         | 53006/1000000 [2:02:42<24:08:13, 10.90it/s]"
     ]
    },
    {
     "name": "stdout",
     "output_type": "stream",
     "text": [
      "Bid for 1,0,0 licenses @ $75 with activity 75 - tensor(38.4468)\n",
      "Bid for 1,0,1 licenses @ $100 with activity 100 - tensor(50.0517)\n",
      "5     14772\n",
      "4      7991\n",
      "6      6988\n",
      "11     4901\n",
      "10     3425\n",
      "3      2178\n",
      "8      2173\n",
      "1      2163\n",
      "0      2141\n",
      "9      2128\n",
      "2      2090\n",
      "7      2050\n",
      "dtype: int64\n"
     ]
    },
    {
     "name": "stderr",
     "output_type": "stream",
     "text": [
      "  5%|▌         | 53994/1000000 [2:04:33<26:49:23,  9.80it/s]"
     ]
    },
    {
     "name": "stdout",
     "output_type": "stream",
     "text": [
      "Bid for 1,0,0 licenses @ $75 with activity 75 - tensor(38.5371)\n",
      "Bid for 1,0,1 licenses @ $100 with activity 100 - tensor(50.2065)\n",
      "5     15355\n",
      "4      8034\n",
      "6      7018\n",
      "11     4943\n",
      "10     3473\n",
      "3      2222\n",
      "8      2206\n",
      "1      2202\n",
      "0      2175\n",
      "9      2162\n",
      "2      2116\n",
      "7      2094\n",
      "dtype: int64\n"
     ]
    },
    {
     "name": "stderr",
     "output_type": "stream",
     "text": [
      "  6%|▌         | 55012/1000000 [2:06:33<19:01:00, 13.80it/s]"
     ]
    },
    {
     "name": "stdout",
     "output_type": "stream",
     "text": [
      "Bid for 1,0,0 licenses @ $75 with activity 75 - tensor(38.3737)\n",
      "Bid for 1,0,1 licenses @ $100 with activity 100 - tensor(50.1219)\n",
      "5     15920\n",
      "4      8074\n",
      "6      7059\n",
      "11     4978\n",
      "10     3513\n",
      "3      2273\n",
      "1      2244\n",
      "8      2236\n",
      "0      2215\n",
      "9      2201\n",
      "2      2156\n",
      "7      2131\n",
      "dtype: int64\n"
     ]
    },
    {
     "name": "stderr",
     "output_type": "stream",
     "text": [
      "  6%|▌         | 56004/1000000 [2:08:25<19:03:47, 13.76it/s]"
     ]
    },
    {
     "name": "stdout",
     "output_type": "stream",
     "text": [
      "Bid for 1,0,0 licenses @ $75 with activity 75 - tensor(38.3812)\n",
      "Bid for 1,0,1 licenses @ $100 with activity 100 - tensor(50.1661)\n",
      "5     16487\n",
      "4      8125\n",
      "6      7105\n",
      "11     5011\n",
      "10     3549\n",
      "3      2312\n",
      "8      2285\n",
      "1      2279\n",
      "9      2245\n",
      "0      2245\n",
      "2      2191\n",
      "7      2166\n",
      "dtype: int64\n"
     ]
    },
    {
     "name": "stderr",
     "output_type": "stream",
     "text": [
      "  6%|▌         | 57019/1000000 [2:10:13<19:15:49, 13.60it/s]"
     ]
    },
    {
     "name": "stdout",
     "output_type": "stream",
     "text": [
      "Bid for 1,0,0 licenses @ $75 with activity 75 - tensor(38.2349)\n",
      "Bid for 1,0,1 licenses @ $100 with activity 100 - tensor(50.1198)\n",
      "5     17058\n",
      "4      8163\n",
      "6      7160\n",
      "11     5047\n",
      "10     3582\n",
      "3      2352\n",
      "8      2320\n",
      "1      2317\n",
      "0      2284\n",
      "9      2280\n",
      "2      2233\n",
      "7      2204\n",
      "dtype: int64\n"
     ]
    },
    {
     "name": "stderr",
     "output_type": "stream",
     "text": [
      "  6%|▌         | 57990/1000000 [2:11:54<23:23:48, 11.18it/s]"
     ]
    },
    {
     "name": "stdout",
     "output_type": "stream",
     "text": [
      "Bid for 1,0,0 licenses @ $75 with activity 75 - tensor(38.2665)\n",
      "Bid for 1,0,1 licenses @ $100 with activity 100 - tensor(50.1161)\n",
      "5     17617\n",
      "4      8204\n",
      "6      7202\n",
      "11     5090\n",
      "10     3629\n",
      "3      2399\n",
      "1      2358\n",
      "8      2356\n",
      "9      2322\n",
      "0      2317\n",
      "2      2269\n",
      "7      2237\n",
      "dtype: int64\n"
     ]
    },
    {
     "name": "stderr",
     "output_type": "stream",
     "text": [
      "  6%|▌         | 58999/1000000 [2:13:40<20:48:23, 12.56it/s]"
     ]
    },
    {
     "name": "stdout",
     "output_type": "stream",
     "text": [
      "Bid for 1,0,0 licenses @ $75 with activity 75 - tensor(38.2098)\n",
      "Bid for 1,0,1 licenses @ $100 with activity 100 - tensor(50.0729)\n",
      "5     18190\n",
      "4      8239\n",
      "6      7238\n",
      "11     5133\n",
      "10     3663\n",
      "3      2434\n",
      "8      2401\n",
      "1      2394\n",
      "9      2368\n",
      "0      2359\n",
      "2      2308\n",
      "7      2273\n",
      "dtype: int64\n"
     ]
    },
    {
     "name": "stderr",
     "output_type": "stream",
     "text": [
      "  6%|▌         | 59996/1000000 [2:15:22<21:04:21, 12.39it/s]"
     ]
    },
    {
     "name": "stdout",
     "output_type": "stream",
     "text": [
      "Bid for 1,0,0 licenses @ $75 with activity 75 - tensor(38.0610)\n",
      "Bid for 1,0,1 licenses @ $100 with activity 100 - tensor(50.0897)\n",
      "5     18776\n",
      "4      8289\n",
      "6      7279\n",
      "11     5175\n",
      "10     3703\n",
      "3      2472\n",
      "1      2435\n",
      "8      2430\n",
      "9      2399\n",
      "0      2388\n",
      "2      2340\n",
      "7      2314\n",
      "dtype: int64\n"
     ]
    },
    {
     "name": "stderr",
     "output_type": "stream",
     "text": [
      "  6%|▌         | 61001/1000000 [2:17:08<18:40:41, 13.96it/s]"
     ]
    },
    {
     "name": "stdout",
     "output_type": "stream",
     "text": [
      "Bid for 1,0,0 licenses @ $75 with activity 75 - tensor(37.9652)\n",
      "Bid for 1,0,1 licenses @ $100 with activity 100 - tensor(50.1085)\n",
      "5     19373\n",
      "4      8325\n",
      "6      7328\n",
      "11     5210\n",
      "10     3738\n",
      "3      2508\n",
      "1      2473\n",
      "8      2460\n",
      "9      2443\n",
      "0      2425\n",
      "2      2373\n",
      "7      2344\n",
      "dtype: int64\n"
     ]
    },
    {
     "name": "stderr",
     "output_type": "stream",
     "text": [
      "  6%|▌         | 62001/1000000 [2:18:57<24:55:57, 10.45it/s]"
     ]
    },
    {
     "name": "stdout",
     "output_type": "stream",
     "text": [
      "Bid for 1,0,0 licenses @ $75 with activity 75 - tensor(37.7607)\n",
      "Bid for 1,0,1 licenses @ $100 with activity 100 - tensor(50.1469)\n",
      "5     19938\n",
      "4      8355\n",
      "6      7368\n",
      "11     5253\n",
      "10     3780\n",
      "3      2548\n",
      "1      2510\n",
      "8      2505\n",
      "9      2482\n",
      "0      2476\n",
      "2      2401\n",
      "7      2384\n",
      "dtype: int64\n"
     ]
    },
    {
     "name": "stderr",
     "output_type": "stream",
     "text": [
      "  6%|▋         | 63014/1000000 [2:20:39<16:12:35, 16.06it/s]"
     ]
    },
    {
     "name": "stdout",
     "output_type": "stream",
     "text": [
      "Bid for 1,0,0 licenses @ $75 with activity 75 - tensor(37.6928)\n",
      "Bid for 1,0,1 licenses @ $100 with activity 100 - tensor(50.1424)\n",
      "5     20531\n",
      "4      8401\n",
      "6      7406\n",
      "11     5293\n",
      "10     3828\n",
      "3      2586\n",
      "1      2541\n",
      "8      2539\n",
      "9      2528\n",
      "0      2510\n",
      "2      2434\n",
      "7      2403\n",
      "dtype: int64\n"
     ]
    },
    {
     "name": "stderr",
     "output_type": "stream",
     "text": [
      "  6%|▋         | 64025/1000000 [2:22:21<14:18:17, 18.18it/s]"
     ]
    },
    {
     "name": "stdout",
     "output_type": "stream",
     "text": [
      "Bid for 1,0,0 licenses @ $75 with activity 75 - tensor(37.6108)\n",
      "Bid for 1,0,1 licenses @ $100 with activity 100 - tensor(50.1177)\n",
      "5     21091\n",
      "4      8440\n",
      "6      7445\n",
      "11     5325\n",
      "10     3868\n",
      "3      2636\n",
      "1      2589\n",
      "8      2583\n",
      "9      2563\n",
      "0      2547\n",
      "2      2471\n",
      "7      2442\n",
      "dtype: int64\n"
     ]
    },
    {
     "name": "stderr",
     "output_type": "stream",
     "text": [
      "  7%|▋         | 65016/1000000 [2:23:57<18:17:02, 14.20it/s]"
     ]
    },
    {
     "name": "stdout",
     "output_type": "stream",
     "text": [
      "Bid for 1,0,0 licenses @ $75 with activity 75 - tensor(37.4438)\n",
      "Bid for 1,0,1 licenses @ $100 with activity 100 - tensor(50.1086)\n",
      "5     21671\n",
      "4      8477\n",
      "6      7487\n",
      "11     5364\n",
      "10     3904\n",
      "3      2676\n",
      "8      2627\n",
      "1      2626\n",
      "9      2597\n",
      "0      2587\n",
      "2      2506\n",
      "7      2478\n",
      "dtype: int64\n"
     ]
    },
    {
     "name": "stderr",
     "output_type": "stream",
     "text": [
      "  7%|▋         | 66005/1000000 [2:25:27<24:46:53, 10.47it/s]"
     ]
    },
    {
     "name": "stdout",
     "output_type": "stream",
     "text": [
      "Bid for 1,0,0 licenses @ $75 with activity 75 - tensor(37.3428)\n",
      "Bid for 1,0,1 licenses @ $100 with activity 100 - tensor(50.1033)\n",
      "5     22255\n",
      "4      8516\n",
      "6      7528\n",
      "11     5398\n",
      "10     3945\n",
      "3      2720\n",
      "8      2660\n",
      "1      2659\n",
      "9      2628\n",
      "0      2626\n",
      "2      2538\n",
      "7      2527\n",
      "dtype: int64\n"
     ]
    },
    {
     "name": "stderr",
     "output_type": "stream",
     "text": [
      "  7%|▋         | 67009/1000000 [2:26:58<21:20:39, 12.14it/s]"
     ]
    },
    {
     "name": "stdout",
     "output_type": "stream",
     "text": [
      "Bid for 1,0,0 licenses @ $75 with activity 75 - tensor(37.2300)\n",
      "Bid for 1,0,1 licenses @ $100 with activity 100 - tensor(50.0568)\n",
      "5     22824\n",
      "4      8551\n",
      "6      7572\n",
      "11     5439\n",
      "10     3990\n",
      "3      2757\n",
      "8      2698\n",
      "1      2688\n",
      "0      2676\n",
      "9      2660\n",
      "2      2573\n",
      "7      2572\n",
      "dtype: int64\n"
     ]
    },
    {
     "name": "stderr",
     "output_type": "stream",
     "text": [
      "  7%|▋         | 68012/1000000 [2:28:21<11:51:21, 21.84it/s]"
     ]
    },
    {
     "name": "stdout",
     "output_type": "stream",
     "text": [
      "Bid for 1,0,0 licenses @ $75 with activity 75 - tensor(37.1851)\n",
      "Bid for 1,0,1 licenses @ $100 with activity 100 - tensor(50.0966)\n",
      "5     23428\n",
      "4      8585\n",
      "6      7612\n",
      "11     5471\n",
      "10     4018\n",
      "3      2791\n",
      "8      2735\n",
      "1      2723\n",
      "0      2714\n",
      "9      2709\n",
      "7      2610\n",
      "2      2604\n",
      "dtype: int64\n"
     ]
    },
    {
     "name": "stderr",
     "output_type": "stream",
     "text": [
      "  7%|▋         | 69014/1000000 [2:29:41<11:25:12, 22.65it/s]"
     ]
    },
    {
     "name": "stdout",
     "output_type": "stream",
     "text": [
      "Bid for 1,0,0 licenses @ $75 with activity 75 - tensor(37.1017)\n",
      "Bid for 1,0,1 licenses @ $100 with activity 100 - tensor(50.0892)\n",
      "5     23990\n",
      "4      8617\n",
      "6      7654\n",
      "11     5506\n",
      "10     4054\n",
      "3      2829\n",
      "8      2776\n",
      "0      2765\n",
      "1      2757\n",
      "9      2750\n",
      "7      2653\n",
      "2      2649\n",
      "dtype: int64\n"
     ]
    },
    {
     "name": "stderr",
     "output_type": "stream",
     "text": [
      "  7%|▋         | 69991/1000000 [2:30:45<12:52:10, 20.07it/s]"
     ]
    },
    {
     "name": "stdout",
     "output_type": "stream",
     "text": [
      "Bid for 1,0,0 licenses @ $75 with activity 75 - tensor(37.1446)\n",
      "Bid for 1,0,1 licenses @ $100 with activity 100 - tensor(50.0803)\n",
      "5     24591\n",
      "4      8651\n",
      "6      7694\n",
      "11     5542\n",
      "10     4094\n",
      "3      2867\n",
      "8      2813\n",
      "0      2802\n",
      "9      2796\n",
      "1      2790\n",
      "7      2683\n",
      "2      2677\n",
      "dtype: int64\n"
     ]
    },
    {
     "name": "stderr",
     "output_type": "stream",
     "text": [
      "  7%|▋         | 71019/1000000 [2:31:40<9:01:13, 28.61it/s] "
     ]
    },
    {
     "name": "stdout",
     "output_type": "stream",
     "text": [
      "Bid for 1,0,0 licenses @ $75 with activity 75 - tensor(37.1803)\n",
      "Bid for 1,0,1 licenses @ $100 with activity 100 - tensor(50.1258)\n",
      "5     25155\n",
      "4      8688\n",
      "6      7747\n",
      "11     5572\n",
      "10     4136\n",
      "3      2902\n",
      "8      2854\n",
      "0      2841\n",
      "1      2832\n",
      "9      2826\n",
      "2      2724\n",
      "7      2723\n",
      "dtype: int64\n"
     ]
    },
    {
     "name": "stderr",
     "output_type": "stream",
     "text": [
      "  7%|▋         | 72008/1000000 [2:32:29<8:33:56, 30.09it/s] "
     ]
    },
    {
     "name": "stdout",
     "output_type": "stream",
     "text": [
      "Bid for 1,0,0 licenses @ $75 with activity 75 - tensor(37.1862)\n",
      "Bid for 1,0,1 licenses @ $100 with activity 100 - tensor(50.0776)\n",
      "5     25747\n",
      "4      8727\n",
      "6      7787\n",
      "11     5607\n",
      "10     4172\n",
      "3      2944\n",
      "8      2889\n",
      "0      2888\n",
      "1      2866\n",
      "9      2864\n",
      "7      2757\n",
      "2      2752\n",
      "dtype: int64\n"
     ]
    },
    {
     "name": "stderr",
     "output_type": "stream",
     "text": [
      "  7%|▋         | 72999/1000000 [2:33:18<9:16:39, 27.75it/s] "
     ]
    },
    {
     "name": "stdout",
     "output_type": "stream",
     "text": [
      "Bid for 1,0,0 licenses @ $75 with activity 75 - tensor(37.2251)\n",
      "Bid for 1,0,1 licenses @ $100 with activity 100 - tensor(50.1106)\n",
      "5     26317\n",
      "4      8777\n",
      "6      7823\n",
      "11     5642\n",
      "10     4204\n",
      "3      2981\n",
      "8      2939\n",
      "0      2918\n",
      "9      2907\n",
      "1      2893\n",
      "7      2805\n",
      "2      2794\n",
      "dtype: int64\n"
     ]
    },
    {
     "name": "stderr",
     "output_type": "stream",
     "text": [
      "  7%|▋         | 74006/1000000 [2:34:04<8:17:16, 31.04it/s] "
     ]
    },
    {
     "name": "stdout",
     "output_type": "stream",
     "text": [
      "Bid for 1,0,0 licenses @ $75 with activity 75 - tensor(37.1799)\n",
      "Bid for 1,0,1 licenses @ $100 with activity 100 - tensor(50.0613)\n",
      "5     26896\n",
      "4      8815\n",
      "6      7868\n",
      "11     5672\n",
      "10     4235\n",
      "3      3012\n",
      "8      2976\n",
      "0      2957\n",
      "9      2946\n",
      "1      2942\n",
      "7      2844\n",
      "2      2837\n",
      "dtype: int64\n"
     ]
    },
    {
     "name": "stderr",
     "output_type": "stream",
     "text": [
      "  8%|▊         | 75004/1000000 [2:34:51<10:37:41, 24.18it/s]"
     ]
    },
    {
     "name": "stdout",
     "output_type": "stream",
     "text": [
      "Bid for 1,0,0 licenses @ $75 with activity 75 - tensor(37.0252)\n",
      "Bid for 1,0,1 licenses @ $100 with activity 100 - tensor(50.0062)\n",
      "5     27473\n",
      "4      8838\n",
      "6      7908\n",
      "11     5719\n",
      "10     4274\n",
      "3      3044\n",
      "8      3013\n",
      "0      2993\n",
      "1      2992\n",
      "9      2991\n",
      "7      2879\n",
      "2      2876\n",
      "dtype: int64\n"
     ]
    },
    {
     "name": "stderr",
     "output_type": "stream",
     "text": [
      "  8%|▊         | 76008/1000000 [2:35:38<8:17:58, 30.93it/s] "
     ]
    },
    {
     "name": "stdout",
     "output_type": "stream",
     "text": [
      "Bid for 1,0,0 licenses @ $75 with activity 75 - tensor(36.9369)\n",
      "Bid for 1,0,1 licenses @ $100 with activity 100 - tensor(49.9828)\n",
      "5     28048\n",
      "4      8873\n",
      "6      7948\n",
      "11     5757\n",
      "10     4311\n",
      "3      3102\n",
      "8      3055\n",
      "9      3029\n",
      "1      3027\n",
      "0      3026\n",
      "7      2919\n",
      "2      2905\n",
      "dtype: int64\n"
     ]
    },
    {
     "name": "stderr",
     "output_type": "stream",
     "text": [
      "  8%|▊         | 77014/1000000 [2:36:23<8:14:26, 31.11it/s] "
     ]
    },
    {
     "name": "stdout",
     "output_type": "stream",
     "text": [
      "Bid for 1,0,0 licenses @ $75 with activity 75 - tensor(36.8378)\n",
      "Bid for 1,0,1 licenses @ $100 with activity 100 - tensor(49.9640)\n",
      "5     28600\n",
      "4      8928\n",
      "6      8002\n",
      "11     5798\n",
      "10     4350\n",
      "3      3138\n",
      "8      3088\n",
      "1      3072\n",
      "9      3070\n",
      "0      3056\n",
      "7      2959\n",
      "2      2939\n",
      "dtype: int64\n"
     ]
    },
    {
     "name": "stderr",
     "output_type": "stream",
     "text": [
      "  8%|▊         | 78001/1000000 [2:37:13<11:44:44, 21.80it/s]"
     ]
    },
    {
     "name": "stdout",
     "output_type": "stream",
     "text": [
      "Bid for 1,0,0 licenses @ $75 with activity 75 - tensor(36.7543)\n",
      "Bid for 1,0,1 licenses @ $100 with activity 100 - tensor(49.9470)\n",
      "5     29153\n",
      "4      8967\n",
      "6      8039\n",
      "11     5842\n",
      "10     4399\n",
      "3      3167\n",
      "8      3131\n",
      "9      3117\n",
      "1      3114\n",
      "0      3101\n",
      "7      2997\n",
      "2      2973\n",
      "dtype: int64\n"
     ]
    },
    {
     "name": "stderr",
     "output_type": "stream",
     "text": [
      "  8%|▊         | 79020/1000000 [2:38:01<7:29:44, 34.13it/s] "
     ]
    },
    {
     "name": "stdout",
     "output_type": "stream",
     "text": [
      "Bid for 1,0,0 licenses @ $75 with activity 75 - tensor(36.6939)\n",
      "Bid for 1,0,1 licenses @ $100 with activity 100 - tensor(50.0060)\n",
      "5     29694\n",
      "4      9005\n",
      "6      8088\n",
      "11     5887\n",
      "10     4444\n",
      "3      3208\n",
      "8      3172\n",
      "9      3154\n",
      "1      3147\n",
      "0      3134\n",
      "7      3042\n",
      "2      3025\n",
      "dtype: int64\n"
     ]
    },
    {
     "name": "stderr",
     "output_type": "stream",
     "text": [
      "  8%|▊         | 80007/1000000 [2:38:49<7:48:28, 32.73it/s] "
     ]
    },
    {
     "name": "stdout",
     "output_type": "stream",
     "text": [
      "Bid for 1,0,0 licenses @ $75 with activity 75 - tensor(36.6429)\n",
      "Bid for 1,0,1 licenses @ $100 with activity 100 - tensor(49.9514)\n",
      "5     30265\n",
      "4      9048\n",
      "6      8117\n",
      "11     5926\n",
      "10     4475\n",
      "3      3252\n",
      "8      3204\n",
      "1      3196\n",
      "9      3194\n",
      "0      3180\n",
      "2      3072\n",
      "7      3071\n",
      "dtype: int64\n"
     ]
    },
    {
     "name": "stderr",
     "output_type": "stream",
     "text": [
      "  8%|▊         | 81001/1000000 [2:39:37<11:32:13, 22.13it/s]"
     ]
    },
    {
     "name": "stdout",
     "output_type": "stream",
     "text": [
      "Bid for 1,0,0 licenses @ $75 with activity 75 - tensor(36.5977)\n",
      "Bid for 1,0,1 licenses @ $100 with activity 100 - tensor(50.0302)\n",
      "5     30832\n",
      "4      9096\n",
      "6      8148\n",
      "11     5962\n",
      "10     4520\n",
      "3      3296\n",
      "9      3232\n",
      "1      3232\n",
      "8      3230\n",
      "0      3223\n",
      "2      3116\n",
      "7      3113\n",
      "dtype: int64\n"
     ]
    },
    {
     "name": "stderr",
     "output_type": "stream",
     "text": [
      "  8%|▊         | 81995/1000000 [2:40:29<12:10:48, 20.94it/s]"
     ]
    },
    {
     "name": "stdout",
     "output_type": "stream",
     "text": [
      "Bid for 1,0,0 licenses @ $75 with activity 75 - tensor(36.3983)\n",
      "Bid for 1,0,1 licenses @ $100 with activity 100 - tensor(49.9571)\n",
      "5     31439\n",
      "4      9138\n",
      "6      8182\n",
      "11     5998\n",
      "10     4550\n",
      "3      3339\n",
      "9      3274\n",
      "1      3264\n",
      "8      3259\n",
      "0      3257\n",
      "2      3152\n",
      "7      3148\n",
      "dtype: int64\n"
     ]
    },
    {
     "name": "stderr",
     "output_type": "stream",
     "text": [
      "  8%|▊         | 83008/1000000 [2:41:26<12:28:15, 20.43it/s]"
     ]
    },
    {
     "name": "stdout",
     "output_type": "stream",
     "text": [
      "Bid for 1,0,0 licenses @ $75 with activity 75 - tensor(36.4409)\n",
      "Bid for 1,0,1 licenses @ $100 with activity 100 - tensor(50.0147)\n",
      "5     32011\n",
      "4      9170\n",
      "6      8223\n",
      "11     6043\n",
      "10     4590\n",
      "3      3387\n",
      "9      3314\n",
      "1      3303\n",
      "8      3299\n",
      "0      3299\n",
      "7      3183\n",
      "2      3178\n",
      "dtype: int64\n"
     ]
    },
    {
     "name": "stderr",
     "output_type": "stream",
     "text": [
      "  8%|▊         | 84015/1000000 [2:42:25<12:01:35, 21.16it/s]"
     ]
    },
    {
     "name": "stdout",
     "output_type": "stream",
     "text": [
      "Bid for 1,0,0 licenses @ $75 with activity 75 - tensor(36.3990)\n",
      "Bid for 1,0,1 licenses @ $100 with activity 100 - tensor(50.0059)\n",
      "5     32590\n",
      "4      9217\n",
      "6      8247\n",
      "11     6079\n",
      "10     4628\n",
      "3      3419\n",
      "9      3360\n",
      "1      3348\n",
      "8      3347\n",
      "0      3342\n",
      "7      3218\n",
      "2      3205\n",
      "dtype: int64\n"
     ]
    },
    {
     "name": "stderr",
     "output_type": "stream",
     "text": [
      "  9%|▊         | 85008/1000000 [2:43:26<10:27:23, 24.31it/s]"
     ]
    },
    {
     "name": "stdout",
     "output_type": "stream",
     "text": [
      "Bid for 1,0,0 licenses @ $75 with activity 75 - tensor(36.3489)\n",
      "Bid for 1,0,1 licenses @ $100 with activity 100 - tensor(49.9391)\n",
      "5     33175\n",
      "4      9259\n",
      "6      8280\n",
      "11     6112\n",
      "10     4667\n",
      "3      3464\n",
      "9      3399\n",
      "8      3389\n",
      "1      3377\n",
      "0      3377\n",
      "7      3263\n",
      "2      3238\n",
      "dtype: int64\n"
     ]
    },
    {
     "name": "stderr",
     "output_type": "stream",
     "text": [
      "  9%|▊         | 86014/1000000 [2:44:30<11:48:21, 21.51it/s]"
     ]
    },
    {
     "name": "stdout",
     "output_type": "stream",
     "text": [
      "Bid for 1,0,0 licenses @ $75 with activity 75 - tensor(36.3566)\n",
      "Bid for 1,0,1 licenses @ $100 with activity 100 - tensor(49.9839)\n",
      "5     33782\n",
      "4      9292\n",
      "6      8301\n",
      "11     6152\n",
      "10     4699\n",
      "3      3500\n",
      "8      3430\n",
      "9      3429\n",
      "1      3429\n",
      "0      3413\n",
      "7      3295\n",
      "2      3278\n",
      "dtype: int64\n"
     ]
    },
    {
     "name": "stderr",
     "output_type": "stream",
     "text": [
      "  9%|▊         | 87002/1000000 [2:45:34<11:44:15, 21.61it/s]"
     ]
    },
    {
     "name": "stdout",
     "output_type": "stream",
     "text": [
      "Bid for 1,0,0 licenses @ $75 with activity 75 - tensor(36.3721)\n",
      "Bid for 1,0,1 licenses @ $100 with activity 100 - tensor(49.9545)\n",
      "5     34359\n",
      "4      9329\n",
      "6      8341\n",
      "11     6192\n",
      "10     4730\n",
      "3      3544\n",
      "9      3470\n",
      "8      3468\n",
      "1      3466\n",
      "0      3451\n",
      "7      3334\n",
      "2      3316\n",
      "dtype: int64\n"
     ]
    },
    {
     "name": "stderr",
     "output_type": "stream",
     "text": [
      "  9%|▉         | 88024/1000000 [2:46:39<9:44:46, 25.99it/s] "
     ]
    },
    {
     "name": "stdout",
     "output_type": "stream",
     "text": [
      "Bid for 1,0,0 licenses @ $75 with activity 75 - tensor(36.4578)\n",
      "Bid for 1,0,1 licenses @ $100 with activity 100 - tensor(49.9745)\n",
      "5     34979\n",
      "4      9361\n",
      "6      8378\n",
      "11     6239\n",
      "10     4776\n",
      "3      3575\n",
      "9      3505\n",
      "8      3493\n",
      "1      3493\n",
      "0      3476\n",
      "7      3364\n",
      "2      3361\n",
      "dtype: int64\n"
     ]
    },
    {
     "name": "stderr",
     "output_type": "stream",
     "text": [
      "  9%|▉         | 89001/1000000 [2:47:45<14:23:42, 17.58it/s]"
     ]
    },
    {
     "name": "stdout",
     "output_type": "stream",
     "text": [
      "Bid for 1,0,0 licenses @ $75 with activity 75 - tensor(36.5321)\n",
      "Bid for 1,0,1 licenses @ $100 with activity 100 - tensor(49.9766)\n",
      "5     35584\n",
      "4      9400\n",
      "6      8419\n",
      "11     6272\n",
      "10     4808\n",
      "3      3609\n",
      "9      3537\n",
      "1      3530\n",
      "0      3524\n",
      "8      3522\n",
      "2      3401\n",
      "7      3394\n",
      "dtype: int64\n"
     ]
    },
    {
     "name": "stderr",
     "output_type": "stream",
     "text": [
      "  9%|▉         | 90006/1000000 [2:48:57<13:43:01, 18.43it/s]"
     ]
    },
    {
     "name": "stdout",
     "output_type": "stream",
     "text": [
      "Bid for 1,0,0 licenses @ $75 with activity 75 - tensor(36.5960)\n",
      "Bid for 1,0,1 licenses @ $100 with activity 100 - tensor(49.9519)\n",
      "5     36147\n",
      "4      9435\n",
      "6      8465\n",
      "11     6312\n",
      "10     4841\n",
      "3      3638\n",
      "8      3576\n",
      "1      3571\n",
      "9      3569\n",
      "0      3559\n",
      "2      3447\n",
      "7      3440\n",
      "dtype: int64\n"
     ]
    },
    {
     "name": "stderr",
     "output_type": "stream",
     "text": [
      "  9%|▉         | 91022/1000000 [2:50:12<9:38:47, 26.17it/s] "
     ]
    },
    {
     "name": "stdout",
     "output_type": "stream",
     "text": [
      "Bid for 1,0,0 licenses @ $75 with activity 75 - tensor(36.6523)\n",
      "Bid for 1,0,1 licenses @ $100 with activity 100 - tensor(49.9730)\n",
      "5     36745\n",
      "4      9461\n",
      "6      8495\n",
      "11     6359\n",
      "10     4878\n",
      "3      3688\n",
      "8      3609\n",
      "1      3608\n",
      "9      3604\n",
      "0      3598\n",
      "2      3482\n",
      "7      3473\n",
      "dtype: int64\n"
     ]
    },
    {
     "name": "stderr",
     "output_type": "stream",
     "text": [
      "  9%|▉         | 92017/1000000 [2:51:28<11:55:21, 21.15it/s]"
     ]
    },
    {
     "name": "stdout",
     "output_type": "stream",
     "text": [
      "Bid for 1,0,0 licenses @ $75 with activity 75 - tensor(36.6082)\n",
      "Bid for 1,0,1 licenses @ $100 with activity 100 - tensor(49.9999)\n",
      "5     37327\n",
      "4      9494\n",
      "6      8540\n",
      "11     6403\n",
      "10     4913\n",
      "3      3728\n",
      "8      3652\n",
      "9      3643\n",
      "1      3635\n",
      "0      3635\n",
      "2      3518\n",
      "7      3512\n",
      "dtype: int64\n"
     ]
    },
    {
     "name": "stderr",
     "output_type": "stream",
     "text": [
      "  9%|▉         | 93000/1000000 [2:52:45<17:56:25, 14.04it/s]"
     ]
    },
    {
     "name": "stdout",
     "output_type": "stream",
     "text": [
      "Bid for 1,0,0 licenses @ $75 with activity 75 - tensor(36.8025)\n",
      "Bid for 1,0,1 licenses @ $100 with activity 100 - tensor(49.9996)\n",
      "5     37917\n",
      "4      9529\n",
      "6      8593\n",
      "11     6432\n",
      "10     4953\n",
      "3      3764\n",
      "8      3695\n",
      "9      3682\n",
      "0      3670\n",
      "1      3660\n",
      "2      3557\n",
      "7      3548\n",
      "dtype: int64\n"
     ]
    },
    {
     "name": "stderr",
     "output_type": "stream",
     "text": [
      "  9%|▉         | 93987/1000000 [2:53:59<18:11:11, 13.84it/s]"
     ]
    },
    {
     "name": "stdout",
     "output_type": "stream",
     "text": [
      "Bid for 1,0,0 licenses @ $75 with activity 75 - tensor(36.7361)\n",
      "Bid for 1,0,1 licenses @ $100 with activity 100 - tensor(49.9692)\n",
      "5     38508\n",
      "4      9567\n",
      "6      8633\n",
      "11     6462\n",
      "10     5001\n",
      "3      3799\n",
      "8      3727\n",
      "0      3715\n",
      "9      3707\n",
      "1      3707\n",
      "2      3591\n",
      "7      3583\n",
      "dtype: int64\n"
     ]
    },
    {
     "name": "stderr",
     "output_type": "stream",
     "text": [
      " 10%|▉         | 95008/1000000 [2:55:21<15:49:00, 15.89it/s]"
     ]
    },
    {
     "name": "stdout",
     "output_type": "stream",
     "text": [
      "Bid for 1,0,0 licenses @ $75 with activity 75 - tensor(36.8256)\n",
      "Bid for 1,0,1 licenses @ $100 with activity 100 - tensor(49.9911)\n",
      "5     39103\n",
      "4      9601\n",
      "6      8665\n",
      "11     6495\n",
      "10     5042\n",
      "3      3839\n",
      "8      3761\n",
      "0      3750\n",
      "1      3748\n",
      "9      3741\n",
      "2      3636\n",
      "7      3619\n",
      "dtype: int64\n"
     ]
    },
    {
     "name": "stderr",
     "output_type": "stream",
     "text": [
      " 10%|▉         | 96006/1000000 [2:56:47<14:47:14, 16.98it/s]"
     ]
    },
    {
     "name": "stdout",
     "output_type": "stream",
     "text": [
      "Bid for 1,0,0 licenses @ $75 with activity 75 - tensor(36.8447)\n",
      "Bid for 1,0,1 licenses @ $100 with activity 100 - tensor(50.0545)\n",
      "5     39691\n",
      "4      9637\n",
      "6      8702\n",
      "11     6538\n",
      "10     5086\n",
      "3      3883\n",
      "8      3790\n",
      "0      3789\n",
      "9      3778\n",
      "1      3778\n",
      "2      3675\n",
      "7      3653\n",
      "dtype: int64\n"
     ]
    },
    {
     "name": "stderr",
     "output_type": "stream",
     "text": [
      " 10%|▉         | 97008/1000000 [2:58:09<14:04:38, 17.82it/s]"
     ]
    },
    {
     "name": "stdout",
     "output_type": "stream",
     "text": [
      "Bid for 1,0,0 licenses @ $75 with activity 75 - tensor(36.8908)\n",
      "Bid for 1,0,1 licenses @ $100 with activity 100 - tensor(50.0485)\n",
      "5     40288\n",
      "4      9668\n",
      "6      8737\n",
      "11     6575\n",
      "10     5139\n",
      "3      3914\n",
      "8      3818\n",
      "9      3816\n",
      "1      3816\n",
      "0      3816\n",
      "2      3722\n",
      "7      3691\n",
      "dtype: int64\n"
     ]
    },
    {
     "name": "stderr",
     "output_type": "stream",
     "text": [
      " 10%|▉         | 98000/1000000 [2:59:26<15:12:29, 16.48it/s]"
     ]
    },
    {
     "name": "stdout",
     "output_type": "stream",
     "text": [
      "Bid for 1,0,0 licenses @ $75 with activity 75 - tensor(36.8603)\n",
      "Bid for 1,0,1 licenses @ $100 with activity 100 - tensor(49.9852)\n",
      "5     40865\n",
      "4      9715\n",
      "6      8789\n",
      "11     6605\n",
      "10     5174\n",
      "3      3960\n",
      "9      3859\n",
      "8      3857\n",
      "1      3847\n",
      "0      3843\n",
      "2      3760\n",
      "7      3726\n",
      "dtype: int64\n"
     ]
    },
    {
     "name": "stderr",
     "output_type": "stream",
     "text": [
      " 10%|▉         | 99001/1000000 [3:00:40<12:30:12, 20.02it/s]"
     ]
    },
    {
     "name": "stdout",
     "output_type": "stream",
     "text": [
      "Bid for 1,0,0 licenses @ $75 with activity 75 - tensor(36.9554)\n",
      "Bid for 1,0,1 licenses @ $100 with activity 100 - tensor(49.9490)\n",
      "5     41463\n",
      "4      9750\n",
      "6      8826\n",
      "11     6643\n",
      "10     5202\n",
      "3      3985\n",
      "9      3902\n",
      "8      3896\n",
      "0      3884\n",
      "1      3877\n",
      "2      3801\n",
      "7      3771\n",
      "dtype: int64\n"
     ]
    },
    {
     "name": "stderr",
     "output_type": "stream",
     "text": [
      " 10%|█         | 100006/1000000 [3:01:57<16:36:12, 15.06it/s]"
     ]
    },
    {
     "name": "stdout",
     "output_type": "stream",
     "text": [
      "Bid for 1,0,0 licenses @ $75 with activity 75 - tensor(37.1943)\n",
      "Bid for 1,0,1 licenses @ $100 with activity 100 - tensor(50.0148)\n",
      "5     42023\n",
      "4      9790\n",
      "6      8852\n",
      "11     6685\n",
      "10     5244\n",
      "3      4032\n",
      "9      3945\n",
      "8      3934\n",
      "0      3928\n",
      "1      3906\n",
      "2      3839\n",
      "7      3822\n",
      "dtype: int64\n"
     ]
    },
    {
     "name": "stderr",
     "output_type": "stream",
     "text": [
      " 10%|█         | 101003/1000000 [3:03:13<17:39:37, 14.14it/s]"
     ]
    },
    {
     "name": "stdout",
     "output_type": "stream",
     "text": [
      "Bid for 1,0,0 licenses @ $75 with activity 75 - tensor(37.2173)\n",
      "Bid for 1,0,1 licenses @ $100 with activity 100 - tensor(49.9926)\n",
      "5     42593\n",
      "4      9819\n",
      "6      8890\n",
      "11     6726\n",
      "10     5286\n",
      "3      4077\n",
      "9      3986\n",
      "8      3974\n",
      "0      3970\n",
      "1      3944\n",
      "2      3877\n",
      "7      3858\n",
      "dtype: int64\n"
     ]
    },
    {
     "name": "stderr",
     "output_type": "stream",
     "text": [
      " 10%|█         | 102002/1000000 [3:04:28<16:43:12, 14.92it/s]"
     ]
    },
    {
     "name": "stdout",
     "output_type": "stream",
     "text": [
      "Bid for 1,0,0 licenses @ $75 with activity 75 - tensor(37.2150)\n",
      "Bid for 1,0,1 licenses @ $100 with activity 100 - tensor(49.9940)\n",
      "5     43179\n",
      "4      9856\n",
      "6      8925\n",
      "11     6768\n",
      "10     5317\n",
      "3      4118\n",
      "9      4029\n",
      "0      4012\n",
      "8      4009\n",
      "1      3982\n",
      "2      3914\n",
      "7      3891\n",
      "dtype: int64\n"
     ]
    },
    {
     "name": "stderr",
     "output_type": "stream",
     "text": [
      " 10%|█         | 103004/1000000 [3:05:45<19:17:38, 12.91it/s]"
     ]
    },
    {
     "name": "stdout",
     "output_type": "stream",
     "text": [
      "Bid for 1,0,0 licenses @ $75 with activity 75 - tensor(37.3752)\n",
      "Bid for 1,0,1 licenses @ $100 with activity 100 - tensor(50.0288)\n",
      "5     43777\n",
      "4      9892\n",
      "6      8974\n",
      "11     6810\n",
      "10     5362\n",
      "3      4161\n",
      "9      4057\n",
      "0      4043\n",
      "8      4036\n",
      "1      4012\n",
      "2      3946\n",
      "7      3930\n",
      "dtype: int64\n"
     ]
    },
    {
     "name": "stderr",
     "output_type": "stream",
     "text": [
      " 10%|█         | 103448/1000000 [3:06:17<26:54:35,  9.25it/s]\n"
     ]
    },
    {
     "ename": "KeyboardInterrupt",
     "evalue": "",
     "output_type": "error",
     "traceback": [
      "\u001b[0;31m---------------------------------------------------------------------------\u001b[0m",
      "\u001b[0;31mKeyboardInterrupt\u001b[0m                         Traceback (most recent call last)",
      "\u001b[0;32m<ipython-input-153-75120d865a65>\u001b[0m in \u001b[0;36m<module>\u001b[0;34m\u001b[0m\n\u001b[1;32m     28\u001b[0m     \u001b[0;31m# Episode is over, step all agents with final info state.\u001b[0m\u001b[0;34m\u001b[0m\u001b[0;34m\u001b[0m\u001b[0;34m\u001b[0m\u001b[0m\n\u001b[1;32m     29\u001b[0m     \u001b[0;32mfor\u001b[0m \u001b[0mplayer_id\u001b[0m\u001b[0;34m,\u001b[0m \u001b[0magent\u001b[0m \u001b[0;32min\u001b[0m \u001b[0menumerate\u001b[0m\u001b[0;34m(\u001b[0m\u001b[0mcheckpoint\u001b[0m\u001b[0;34m.\u001b[0m\u001b[0magents\u001b[0m\u001b[0;34m)\u001b[0m\u001b[0;34m:\u001b[0m\u001b[0;34m\u001b[0m\u001b[0;34m\u001b[0m\u001b[0m\n\u001b[0;32m---> 30\u001b[0;31m         \u001b[0magent\u001b[0m\u001b[0;34m.\u001b[0m\u001b[0mstep\u001b[0m\u001b[0;34m(\u001b[0m\u001b[0mtime_step\u001b[0m\u001b[0;34m)\u001b[0m\u001b[0;34m\u001b[0m\u001b[0;34m\u001b[0m\u001b[0m\n\u001b[0m\u001b[1;32m     31\u001b[0m \u001b[0;34m\u001b[0m\u001b[0m\n",
      "\u001b[0;32m/apps/open_spiel/open_spiel/python/pytorch/ubc_nfsp.py\u001b[0m in \u001b[0;36mstep\u001b[0;34m(self, time_step, is_evaluation)\u001b[0m\n\u001b[1;32m    173\u001b[0m \u001b[0;34m\u001b[0m\u001b[0m\n\u001b[1;32m    174\u001b[0m     \u001b[0;32mif\u001b[0m \u001b[0mself\u001b[0m\u001b[0;34m.\u001b[0m\u001b[0m_best_response_mode\u001b[0m\u001b[0;34m:\u001b[0m\u001b[0;34m\u001b[0m\u001b[0;34m\u001b[0m\u001b[0m\n\u001b[0;32m--> 175\u001b[0;31m       \u001b[0magent_output\u001b[0m \u001b[0;34m=\u001b[0m \u001b[0mself\u001b[0m\u001b[0;34m.\u001b[0m\u001b[0m_rl_agent\u001b[0m\u001b[0;34m.\u001b[0m\u001b[0mstep\u001b[0m\u001b[0;34m(\u001b[0m\u001b[0mtime_step\u001b[0m\u001b[0;34m,\u001b[0m \u001b[0mis_evaluation\u001b[0m\u001b[0;34m)\u001b[0m\u001b[0;34m\u001b[0m\u001b[0;34m\u001b[0m\u001b[0m\n\u001b[0m\u001b[1;32m    176\u001b[0m       \u001b[0;32mif\u001b[0m \u001b[0;32mnot\u001b[0m \u001b[0mis_evaluation\u001b[0m \u001b[0;32mand\u001b[0m \u001b[0;32mnot\u001b[0m \u001b[0mtime_step\u001b[0m\u001b[0;34m.\u001b[0m\u001b[0mlast\u001b[0m\u001b[0;34m(\u001b[0m\u001b[0;34m)\u001b[0m\u001b[0;34m:\u001b[0m\u001b[0;34m\u001b[0m\u001b[0;34m\u001b[0m\u001b[0m\n\u001b[1;32m    177\u001b[0m         \u001b[0mself\u001b[0m\u001b[0;34m.\u001b[0m\u001b[0m_add_transition\u001b[0m\u001b[0;34m(\u001b[0m\u001b[0mtime_step\u001b[0m\u001b[0;34m,\u001b[0m \u001b[0magent_output\u001b[0m\u001b[0;34m)\u001b[0m\u001b[0;34m\u001b[0m\u001b[0;34m\u001b[0m\u001b[0m\n",
      "\u001b[0;32m/apps/open_spiel/open_spiel/python/pytorch/ubc_dqn.py\u001b[0m in \u001b[0;36mstep\u001b[0;34m(self, time_step, is_evaluation, add_transition_record)\u001b[0m\n\u001b[1;32m    296\u001b[0m \u001b[0;34m\u001b[0m\u001b[0m\n\u001b[1;32m    297\u001b[0m       \u001b[0;32mif\u001b[0m \u001b[0mself\u001b[0m\u001b[0;34m.\u001b[0m\u001b[0m_iteration\u001b[0m \u001b[0;34m%\u001b[0m \u001b[0mself\u001b[0m\u001b[0;34m.\u001b[0m\u001b[0m_learn_every\u001b[0m \u001b[0;34m==\u001b[0m \u001b[0;36m0\u001b[0m\u001b[0;34m:\u001b[0m\u001b[0;34m\u001b[0m\u001b[0;34m\u001b[0m\u001b[0m\n\u001b[0;32m--> 298\u001b[0;31m         \u001b[0mself\u001b[0m\u001b[0;34m.\u001b[0m\u001b[0m_last_loss_value\u001b[0m \u001b[0;34m=\u001b[0m \u001b[0mself\u001b[0m\u001b[0;34m.\u001b[0m\u001b[0mlearn\u001b[0m\u001b[0;34m(\u001b[0m\u001b[0;34m)\u001b[0m\u001b[0;34m\u001b[0m\u001b[0;34m\u001b[0m\u001b[0m\n\u001b[0m\u001b[1;32m    299\u001b[0m \u001b[0;34m\u001b[0m\u001b[0m\n\u001b[1;32m    300\u001b[0m       \u001b[0;32mif\u001b[0m \u001b[0mself\u001b[0m\u001b[0;34m.\u001b[0m\u001b[0m_iteration\u001b[0m \u001b[0;34m%\u001b[0m \u001b[0mself\u001b[0m\u001b[0;34m.\u001b[0m\u001b[0m_update_target_network_every\u001b[0m \u001b[0;34m==\u001b[0m \u001b[0;36m0\u001b[0m\u001b[0;34m:\u001b[0m\u001b[0;34m\u001b[0m\u001b[0;34m\u001b[0m\u001b[0m\n",
      "\u001b[0;32m/apps/open_spiel/open_spiel/python/pytorch/ubc_dqn.py\u001b[0m in \u001b[0;36mlearn\u001b[0;34m(self)\u001b[0m\n\u001b[1;32m    434\u001b[0m \u001b[0;34m\u001b[0m\u001b[0m\n\u001b[1;32m    435\u001b[0m     \u001b[0mself\u001b[0m\u001b[0;34m.\u001b[0m\u001b[0m_optimizer\u001b[0m\u001b[0;34m.\u001b[0m\u001b[0mzero_grad\u001b[0m\u001b[0;34m(\u001b[0m\u001b[0;34m)\u001b[0m\u001b[0;34m\u001b[0m\u001b[0;34m\u001b[0m\u001b[0m\n\u001b[0;32m--> 436\u001b[0;31m     \u001b[0mloss\u001b[0m\u001b[0;34m.\u001b[0m\u001b[0mbackward\u001b[0m\u001b[0;34m(\u001b[0m\u001b[0;34m)\u001b[0m\u001b[0;34m\u001b[0m\u001b[0;34m\u001b[0m\u001b[0m\n\u001b[0m\u001b[1;32m    437\u001b[0m     \u001b[0mself\u001b[0m\u001b[0;34m.\u001b[0m\u001b[0m_optimizer\u001b[0m\u001b[0;34m.\u001b[0m\u001b[0mstep\u001b[0m\u001b[0;34m(\u001b[0m\u001b[0;34m)\u001b[0m\u001b[0;34m\u001b[0m\u001b[0;34m\u001b[0m\u001b[0m\n\u001b[1;32m    438\u001b[0m     \u001b[0;32mreturn\u001b[0m \u001b[0mloss\u001b[0m\u001b[0;34m\u001b[0m\u001b[0;34m\u001b[0m\u001b[0m\n",
      "\u001b[0;32m/apps/open_spiel/venv/lib/python3.6/site-packages/torch/_tensor.py\u001b[0m in \u001b[0;36mbackward\u001b[0;34m(self, gradient, retain_graph, create_graph, inputs)\u001b[0m\n\u001b[1;32m    305\u001b[0m                 \u001b[0mcreate_graph\u001b[0m\u001b[0;34m=\u001b[0m\u001b[0mcreate_graph\u001b[0m\u001b[0;34m,\u001b[0m\u001b[0;34m\u001b[0m\u001b[0;34m\u001b[0m\u001b[0m\n\u001b[1;32m    306\u001b[0m                 inputs=inputs)\n\u001b[0;32m--> 307\u001b[0;31m         \u001b[0mtorch\u001b[0m\u001b[0;34m.\u001b[0m\u001b[0mautograd\u001b[0m\u001b[0;34m.\u001b[0m\u001b[0mbackward\u001b[0m\u001b[0;34m(\u001b[0m\u001b[0mself\u001b[0m\u001b[0;34m,\u001b[0m \u001b[0mgradient\u001b[0m\u001b[0;34m,\u001b[0m \u001b[0mretain_graph\u001b[0m\u001b[0;34m,\u001b[0m \u001b[0mcreate_graph\u001b[0m\u001b[0;34m,\u001b[0m \u001b[0minputs\u001b[0m\u001b[0;34m=\u001b[0m\u001b[0minputs\u001b[0m\u001b[0;34m)\u001b[0m\u001b[0;34m\u001b[0m\u001b[0;34m\u001b[0m\u001b[0m\n\u001b[0m\u001b[1;32m    308\u001b[0m \u001b[0;34m\u001b[0m\u001b[0m\n\u001b[1;32m    309\u001b[0m     \u001b[0;32mdef\u001b[0m \u001b[0mregister_hook\u001b[0m\u001b[0;34m(\u001b[0m\u001b[0mself\u001b[0m\u001b[0;34m,\u001b[0m \u001b[0mhook\u001b[0m\u001b[0;34m)\u001b[0m\u001b[0;34m:\u001b[0m\u001b[0;34m\u001b[0m\u001b[0;34m\u001b[0m\u001b[0m\n",
      "\u001b[0;32m/apps/open_spiel/venv/lib/python3.6/site-packages/torch/autograd/__init__.py\u001b[0m in \u001b[0;36mbackward\u001b[0;34m(tensors, grad_tensors, retain_graph, create_graph, grad_variables, inputs)\u001b[0m\n\u001b[1;32m    154\u001b[0m     Variable._execution_engine.run_backward(\n\u001b[1;32m    155\u001b[0m         \u001b[0mtensors\u001b[0m\u001b[0;34m,\u001b[0m \u001b[0mgrad_tensors_\u001b[0m\u001b[0;34m,\u001b[0m \u001b[0mretain_graph\u001b[0m\u001b[0;34m,\u001b[0m \u001b[0mcreate_graph\u001b[0m\u001b[0;34m,\u001b[0m \u001b[0minputs\u001b[0m\u001b[0;34m,\u001b[0m\u001b[0;34m\u001b[0m\u001b[0;34m\u001b[0m\u001b[0m\n\u001b[0;32m--> 156\u001b[0;31m         allow_unreachable=True, accumulate_grad=True)  # allow_unreachable flag\n\u001b[0m\u001b[1;32m    157\u001b[0m \u001b[0;34m\u001b[0m\u001b[0m\n\u001b[1;32m    158\u001b[0m \u001b[0;34m\u001b[0m\u001b[0m\n",
      "\u001b[0;31mKeyboardInterrupt\u001b[0m: "
     ]
    }
   ],
   "source": [
    "actions = []\n",
    "for episode in tqdm(range(1000000)):\n",
    "    if episode % 1000 == 0:\n",
    "        qs = check_on_q_values(checkpoint, 0)\n",
    "        print(\"Bid for 1,0,0 licenses @ $75 with activity 75 -\", qs[\"Bid for 1,0,0 licenses @ $75 with activity 75\"])\n",
    "        print(\"Bid for 1,0,1 licenses @ $100 with activity 100 -\", qs[\"Bid for 1,0,1 licenses @ $100 with activity 100\"])\n",
    "        print(pd.Series(actions).value_counts())\n",
    "        \n",
    "    time_step = checkpoint.env.reset()\n",
    "    first_action = True\n",
    "\n",
    "    while not time_step.last():\n",
    "        player_id = time_step.observations[\"current_player\"]\n",
    "        agent = checkpoint.agents[player_id]\n",
    "        if player_id == 0:\n",
    "            agent._best_response_mode = True\n",
    "        # Player 1 is fixed\n",
    "        agent_output = agent.step(time_step, is_evaluation = player_id==1) \n",
    "#         if player_id == 0 and agent_output.action != 4:\n",
    "#             print(agent_output.action)\n",
    "        \n",
    "        if player_id == 0 and first_action:\n",
    "            actions.append(agent_output.action)\n",
    "            first_action = False\n",
    "        action_list = [agent_output.action]\n",
    "        time_step = checkpoint.env.step(action_list)\n",
    "\n",
    "    # Episode is over, step all agents with final info state.\n",
    "    for player_id, agent in enumerate(checkpoint.agents):\n",
    "        agent.step(time_step)\n",
    "    "
   ]
  },
  {
   "cell_type": "code",
   "execution_count": 125,
   "id": "3c4b5e8d-e5b3-48e4-85ae-f54ad7d6311b",
   "metadata": {},
   "outputs": [
    {
     "data": {
      "text/plain": [
       "[(2826,\n",
       "  Transition(info_state=tensor([[  1.,   0.,   1.,   0.,   1.,   0., 300., 100.,  70.,  50.,   0.,   0.,\n",
       "             0.,   0.,   0.,   0.,   0.,   0.,   0.,  75.,  50.,  25.]]), action=5, reward=50.0, next_info_state=tensor([[  0.,   0.,   1.,   0.,   1.,   0., 300., 100.,  70.,  50.,   1.,   0.,\n",
       "             1.,   1.,   0.,   1.,   2.,   1.,   1.,  75.,  50.,  25.]]), is_final_step=1.0, legal_actions_mask=array([0., 0., 0., 0., 0., 0., 0., 0., 0., 0., 0., 0.]), iteration=2802)),\n",
       " (3182,\n",
       "  Transition(info_state=tensor([[  1.,   0.,   1.,   0.,   1.,   0., 300., 100.,  70.,  50.,   0.,   0.,\n",
       "             0.,   0.,   0.,   0.,   0.,   0.,   0.,  75.,  50.,  25.]]), action=5, reward=50.0, next_info_state=tensor([[  0.,   0.,   1.,   0.,   1.,   0., 300., 100.,  70.,  50.,   1.,   0.,\n",
       "             1.,   1.,   0.,   1.,   2.,   1.,   1.,  75.,  50.,  25.]]), is_final_step=1.0, legal_actions_mask=array([0., 0., 0., 0., 0., 0., 0., 0., 0., 0., 0., 0.]), iteration=3157))]"
      ]
     },
     "execution_count": 125,
     "metadata": {},
     "output_type": "execute_result"
    }
   ],
   "source": [
    "[(i, t) for (i, t) in enumerate(checkpoint.agents[0]._rl_agent.replay_buffer._data) if t.action == 5]"
   ]
  },
  {
   "cell_type": "code",
   "execution_count": 126,
   "id": "aa1179c8-117c-4726-9e75-59fc9274a412",
   "metadata": {},
   "outputs": [
    {
     "data": {
      "text/plain": [
       "[(0,\n",
       "  Transition(info_state=tensor([[  1.,   0.,   1.,   0.,   1.,   0., 300., 120.,  80.,  30.,   0.,   0.,\n",
       "             0.,   0.,   0.,   0.,   0.,   0.,   0.,  75.,  50.,  25.]]), action=4, reward=45.0, next_info_state=tensor([[  0.,   0.,   1.,   0.,   1.,   0., 300., 120.,  80.,  30.,   1.,   0.,\n",
       "             0.,   1.,   0.,   0.,   2.,   1.,   0.,  75.,  50.,  25.]]), is_final_step=1.0, legal_actions_mask=array([0., 0., 0., 0., 0., 0., 0., 0., 0., 0., 0., 0.]), iteration=0))]"
      ]
     },
     "execution_count": 126,
     "metadata": {},
     "output_type": "execute_result"
    }
   ],
   "source": [
    "[(i, t) for (i, t) in enumerate(checkpoint.agents[0]._rl_agent.replay_buffer._data) if t.action == 4][:1]"
   ]
  },
  {
   "cell_type": "code",
   "execution_count": 128,
   "id": "f10e0673-e0fd-4e0c-8dc8-c2deb2ecdc19",
   "metadata": {},
   "outputs": [],
   "source": [
    "good_transition_1 = checkpoint.agents[0]._rl_agent.replay_buffer._data[2826]\n",
    "good_transition_2 = checkpoint.agents[0]._rl_agent.replay_buffer._data[0]"
   ]
  },
  {
   "cell_type": "code",
   "execution_count": 129,
   "id": "8a77720f-44d5-4f4d-9e20-9367b8cc703a",
   "metadata": {},
   "outputs": [],
   "source": [
    "checkpoint.agents[0]._rl_agent.replay_buffer._data = [good_transition_1 for _ in range(2500)] + [good_transition_2 for _ in range(2500)]"
   ]
  },
  {
   "cell_type": "code",
   "execution_count": 130,
   "id": "30caaab9-ed13-45de-952b-7a9f773e3866",
   "metadata": {},
   "outputs": [
    {
     "name": "stdout",
     "output_type": "stream",
     "text": [
      "807.5289306640625\n",
      "Bid for 1,0,0 licenses @ $75 with activity 75 - tensor(45.8867)\n",
      "Bid for 1,0,1 licenses @ $100 with activity 100 - tensor(16.0223)\n",
      "586.7173461914062\n",
      "543.442138671875\n",
      "514.162841796875\n",
      "507.9754638671875\n",
      "436.6761169433594\n",
      "417.8582763671875\n",
      "371.98883056640625\n",
      "340.9349670410156\n",
      "324.2243957519531\n",
      "277.7006530761719\n",
      "Bid for 1,0,0 licenses @ $75 with activity 75 - tensor(46.6113)\n",
      "Bid for 1,0,1 licenses @ $100 with activity 100 - tensor(26.9745)\n",
      "279.0695495605469\n",
      "239.5868377685547\n",
      "225.343505859375\n",
      "195.4790496826172\n",
      "179.09288024902344\n",
      "183.2227325439453\n",
      "163.67933654785156\n",
      "151.09359741210938\n",
      "134.9404754638672\n",
      "120.89849853515625\n",
      "Bid for 1,0,0 licenses @ $75 with activity 75 - tensor(47.2011)\n",
      "Bid for 1,0,1 licenses @ $100 with activity 100 - tensor(35.2648)\n",
      "109.08171844482422\n",
      "100.81904602050781\n",
      "97.08745574951172\n",
      "84.25435638427734\n",
      "75.76222229003906\n",
      "69.11871337890625\n",
      "62.33546829223633\n",
      "60.39402770996094\n",
      "49.9107780456543\n",
      "50.1098518371582\n",
      "Bid for 1,0,0 licenses @ $75 with activity 75 - tensor(47.0784)\n",
      "Bid for 1,0,1 licenses @ $100 with activity 100 - tensor(40.7794)\n",
      "46.60900115966797\n",
      "42.54848861694336\n",
      "37.23661422729492\n",
      "32.80147933959961\n",
      "30.140113830566406\n",
      "28.77354621887207\n",
      "25.956178665161133\n",
      "22.61267852783203\n",
      "19.975112915039062\n",
      "18.326372146606445\n",
      "Bid for 1,0,0 licenses @ $75 with activity 75 - tensor(46.7157)\n",
      "Bid for 1,0,1 licenses @ $100 with activity 100 - tensor(44.3590)\n",
      "17.382400512695312\n",
      "16.285995483398438\n",
      "14.394248008728027\n",
      "13.176462173461914\n",
      "11.918935775756836\n",
      "10.80448055267334\n",
      "10.394372940063477\n",
      "8.817648887634277\n",
      "8.19977855682373\n",
      "7.7090959548950195\n",
      "Bid for 1,0,0 licenses @ $75 with activity 75 - tensor(46.3253)\n",
      "Bid for 1,0,1 licenses @ $100 with activity 100 - tensor(46.6042)\n",
      "6.760530948638916\n",
      "5.921360969543457\n",
      "5.454967975616455\n",
      "5.204431056976318\n",
      "4.4705352783203125\n",
      "4.069946765899658\n",
      "3.840205192565918\n",
      "3.338212490081787\n",
      "3.0581085681915283\n",
      "2.727661371231079\n",
      "Bid for 1,0,0 licenses @ $75 with activity 75 - tensor(45.9638)\n",
      "Bid for 1,0,1 licenses @ $100 with activity 100 - tensor(47.9405)\n",
      "2.5552732944488525\n",
      "2.311337471008301\n",
      "2.1003470420837402\n",
      "1.9281796216964722\n",
      "1.7788532972335815\n",
      "1.609456181526184\n",
      "1.4355716705322266\n",
      "1.3047195672988892\n",
      "1.186381459236145\n",
      "1.1285207271575928\n",
      "Bid for 1,0,0 licenses @ $75 with activity 75 - tensor(45.6748)\n",
      "Bid for 1,0,1 licenses @ $100 with activity 100 - tensor(48.7375)\n",
      "0.9755285382270813\n",
      "0.9171966910362244\n",
      "0.8264310359954834\n",
      "0.7577122449874878\n",
      "0.6770219802856445\n",
      "0.6256819367408752\n",
      "0.5941691398620605\n",
      "0.5176613330841064\n",
      "0.47989222407341003\n",
      "0.44297006726264954\n",
      "Bid for 1,0,0 licenses @ $75 with activity 75 - tensor(45.4623)\n",
      "Bid for 1,0,1 licenses @ $100 with activity 100 - tensor(49.2189)\n",
      "0.3893167972564697\n",
      "0.35896921157836914\n",
      "0.3291095495223999\n",
      "0.2985743284225464\n",
      "0.276618629693985\n",
      "0.2477377951145172\n",
      "0.23084843158721924\n",
      "0.20852026343345642\n",
      "0.189082071185112\n",
      "0.17297399044036865\n",
      "Bid for 1,0,0 licenses @ $75 with activity 75 - tensor(45.3111)\n",
      "Bid for 1,0,1 licenses @ $100 with activity 100 - tensor(49.5102)\n",
      "0.1574319452047348\n",
      "0.14556309580802917\n",
      "0.13242372870445251\n",
      "0.12024854123592377\n",
      "0.11066822707653046\n",
      "0.10099766403436661\n",
      "0.09034578502178192\n",
      "0.08232437074184418\n",
      "0.07456200569868088\n"
     ]
    }
   ],
   "source": [
    "for iteration in range(100):\n",
    "    loss = checkpoint.agents[0]._rl_agent.learn()\n",
    "    print(loss.detach().item())\n",
    "#     print(loss)\n",
    "    \n",
    "    if iteration % 10 == 0:\n",
    "        qs = check_on_q_values(checkpoint, 0)\n",
    "        print(\"Bid for 1,0,0 licenses @ $75 with activity 75 -\", qs[\"Bid for 1,0,0 licenses @ $75 with activity 75\"])\n",
    "        print(\"Bid for 1,0,1 licenses @ $100 with activity 100 -\", qs[\"Bid for 1,0,1 licenses @ $100 with activity 100\"])"
   ]
  },
  {
   "cell_type": "code",
   "execution_count": null,
   "id": "feb3d7da-7b6b-4d24-a38e-58936c6978f3",
   "metadata": {},
   "outputs": [],
   "source": []
  },
  {
   "cell_type": "code",
   "execution_count": null,
   "id": "001c7b19-093b-47ca-9e42-a0957eb9a574",
   "metadata": {},
   "outputs": [],
   "source": [
    "[d for d in checkpoint.agents[0]._rl_agent._replay_buffer._data if d.reward in [50., 30.]]"
   ]
  },
  {
   "cell_type": "code",
   "execution_count": null,
   "id": "ba97c530-9107-4371-bb38-0bb67809cec1",
   "metadata": {},
   "outputs": [],
   "source": [
    "pd.DataFrame(q).drop_duplicates()"
   ]
  },
  {
   "cell_type": "code",
   "execution_count": null,
   "id": "a5358ba3-30e8-4d81-b8cf-7e94aea39490",
   "metadata": {},
   "outputs": [],
   "source": [
    "df = pd.DataFrame.from_records(records)"
   ]
  },
  {
   "cell_type": "code",
   "execution_count": null,
   "id": "d6f2c303-50ee-49ea-822a-bd9deef5589f",
   "metadata": {},
   "outputs": [],
   "source": [
    "df = df.drop_duplicates(subset=['infostate_string'])\n",
    "print(f'After dropping, {len(df)} unique infostates remaining')"
   ]
  }
 ],
 "metadata": {
  "kernelspec": {
   "display_name": "Python 3 (ipykernel)",
   "language": "python",
   "name": "python3"
  },
  "language_info": {
   "codemirror_mode": {
    "name": "ipython",
    "version": 3
   },
   "file_extension": ".py",
   "mimetype": "text/x-python",
   "name": "python",
   "nbconvert_exporter": "python",
   "pygments_lexer": "ipython3",
   "version": "3.8.2"
  }
 },
 "nbformat": 4,
 "nbformat_minor": 5
}
