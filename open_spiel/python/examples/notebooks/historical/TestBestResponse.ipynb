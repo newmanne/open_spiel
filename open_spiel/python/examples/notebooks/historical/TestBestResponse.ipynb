{
 "cells": [
  {
   "cell_type": "code",
   "execution_count": 1,
   "id": "947d2a70-4383-46c8-81cb-66746e26d08b",
   "metadata": {},
   "outputs": [
    {
     "name": "stdout",
     "output_type": "stream",
     "text": [
      "Populating the interactive namespace from numpy and matplotlib\n"
     ]
    }
   ],
   "source": [
    "%load_ext autoreload\n",
    "%autoreload 2\n",
    "%pylab inline\n",
    "\n",
    "import sys\n",
    "import glob\n",
    "import pandas as pd\n",
    "import os\n",
    "import seaborn as sns\n",
    "from tqdm import tqdm_notebook as tqdm\n",
    "from statsmodels.distributions.empirical_distribution import ECDF\n",
    "from collections import defaultdict\n",
    "import logging\n",
    "logging.basicConfig(format='%(asctime)s %(levelname)s:%(message)s', level=logging.DEBUG, datefmt='%I:%M:%S')\n",
    "logger = logging.getLogger()\n",
    "logger.setLevel(logging.INFO)"
   ]
  },
  {
   "cell_type": "code",
   "execution_count": 5,
   "id": "c2e7640a-54ac-40eb-b7a6-ba665c7185fd",
   "metadata": {},
   "outputs": [],
   "source": [
    "from open_spiel.python.algorithms import ubc_exploitability\n",
    "from open_spiel.python.examples.ubc_nfsp_example import policy_from_checkpoint"
   ]
  },
  {
   "cell_type": "code",
   "execution_count": 8,
   "id": "4afb4626-437c-4905-8035-c212ed8e25f9",
   "metadata": {},
   "outputs": [
    {
     "name": "stderr",
     "output_type": "stream",
     "text": [
      "12:33:38 INFO:Game loaded\n",
      "12:33:38 INFO:Using game instance: turn_based_simultaneous_game\n",
      "12:33:38 INFO:Game has a state size of 4009, 6 distinct actions, and 2 players\n",
      "12:33:38 INFO:Game has 2 products\n"
     ]
    }
   ],
   "source": [
    "env_and_model = policy_from_checkpoint('/shared/outputs/big_game/lstm', checkpoint_suffix='checkpoint_latest')"
   ]
  },
  {
   "cell_type": "code",
   "execution_count": 9,
   "id": "ad1ed7fc-9433-4a2a-87de-666bcb0865f3",
   "metadata": {},
   "outputs": [],
   "source": [
    "game = env_and_model.game\n",
    "policy = env_and_model.nfsp_policies"
   ]
  },
  {
   "cell_type": "code",
   "execution_count": null,
   "id": "73231ea0-7ca6-4170-999f-4a9c24852cdf",
   "metadata": {},
   "outputs": [],
   "source": [
    "ubc_exploitability.expected_value_of_best_responder(game.new_initial_state(), policy, 0, cut_prob=0.5)"
   ]
  },
  {
   "cell_type": "code",
   "execution_count": null,
   "id": "6df99c22-3b1a-4068-b325-fa03e2ea34d9",
   "metadata": {},
   "outputs": [],
   "source": []
  }
 ],
 "metadata": {
  "kernelspec": {
   "display_name": "Python 3",
   "language": "python",
   "name": "python3"
  },
  "language_info": {
   "codemirror_mode": {
    "name": "ipython",
    "version": 3
   },
   "file_extension": ".py",
   "mimetype": "text/x-python",
   "name": "python",
   "nbconvert_exporter": "python",
   "pygments_lexer": "ipython3",
   "version": "3.6.9"
  }
 },
 "nbformat": 4,
 "nbformat_minor": 5
}
