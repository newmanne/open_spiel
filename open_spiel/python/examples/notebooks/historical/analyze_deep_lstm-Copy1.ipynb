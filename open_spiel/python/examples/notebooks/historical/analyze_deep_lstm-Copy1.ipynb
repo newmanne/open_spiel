{
 "cells": [
  {
   "cell_type": "code",
   "execution_count": 39,
   "id": "feb4d600-f27c-459e-afa4-3f542c5d4d99",
   "metadata": {},
   "outputs": [
    {
     "name": "stdout",
     "output_type": "stream",
     "text": [
      "The autoreload extension is already loaded. To reload it, use:\n",
      "  %reload_ext autoreload\n",
      "Populating the interactive namespace from numpy and matplotlib\n"
     ]
    },
    {
     "data": {
      "text/html": [
       "\n",
       "    <div class=\"bk-root\">\n",
       "        <a href=\"https://bokeh.org\" target=\"_blank\" class=\"bk-logo bk-logo-small bk-logo-notebook\"></a>\n",
       "        <span id=\"1004\">Loading BokehJS ...</span>\n",
       "    </div>"
      ]
     },
     "metadata": {},
     "output_type": "display_data"
    },
    {
     "data": {
      "application/javascript": [
       "\n",
       "(function(root) {\n",
       "  function now() {\n",
       "    return new Date();\n",
       "  }\n",
       "\n",
       "  var force = true;\n",
       "\n",
       "  if (typeof root._bokeh_onload_callbacks === \"undefined\" || force === true) {\n",
       "    root._bokeh_onload_callbacks = [];\n",
       "    root._bokeh_is_loading = undefined;\n",
       "  }\n",
       "\n",
       "  var JS_MIME_TYPE = 'application/javascript';\n",
       "  var HTML_MIME_TYPE = 'text/html';\n",
       "  var EXEC_MIME_TYPE = 'application/vnd.bokehjs_exec.v0+json';\n",
       "  var CLASS_NAME = 'output_bokeh rendered_html';\n",
       "\n",
       "  /**\n",
       "   * Render data to the DOM node\n",
       "   */\n",
       "  function render(props, node) {\n",
       "    var script = document.createElement(\"script\");\n",
       "    node.appendChild(script);\n",
       "  }\n",
       "\n",
       "  /**\n",
       "   * Handle when an output is cleared or removed\n",
       "   */\n",
       "  function handleClearOutput(event, handle) {\n",
       "    var cell = handle.cell;\n",
       "\n",
       "    var id = cell.output_area._bokeh_element_id;\n",
       "    var server_id = cell.output_area._bokeh_server_id;\n",
       "    // Clean up Bokeh references\n",
       "    if (id != null && id in Bokeh.index) {\n",
       "      Bokeh.index[id].model.document.clear();\n",
       "      delete Bokeh.index[id];\n",
       "    }\n",
       "\n",
       "    if (server_id !== undefined) {\n",
       "      // Clean up Bokeh references\n",
       "      var cmd = \"from bokeh.io.state import curstate; print(curstate().uuid_to_server['\" + server_id + \"'].get_sessions()[0].document.roots[0]._id)\";\n",
       "      cell.notebook.kernel.execute(cmd, {\n",
       "        iopub: {\n",
       "          output: function(msg) {\n",
       "            var id = msg.content.text.trim();\n",
       "            if (id in Bokeh.index) {\n",
       "              Bokeh.index[id].model.document.clear();\n",
       "              delete Bokeh.index[id];\n",
       "            }\n",
       "          }\n",
       "        }\n",
       "      });\n",
       "      // Destroy server and session\n",
       "      var cmd = \"import bokeh.io.notebook as ion; ion.destroy_server('\" + server_id + \"')\";\n",
       "      cell.notebook.kernel.execute(cmd);\n",
       "    }\n",
       "  }\n",
       "\n",
       "  /**\n",
       "   * Handle when a new output is added\n",
       "   */\n",
       "  function handleAddOutput(event, handle) {\n",
       "    var output_area = handle.output_area;\n",
       "    var output = handle.output;\n",
       "\n",
       "    // limit handleAddOutput to display_data with EXEC_MIME_TYPE content only\n",
       "    if ((output.output_type != \"display_data\") || (!Object.prototype.hasOwnProperty.call(output.data, EXEC_MIME_TYPE))) {\n",
       "      return\n",
       "    }\n",
       "\n",
       "    var toinsert = output_area.element.find(\".\" + CLASS_NAME.split(' ')[0]);\n",
       "\n",
       "    if (output.metadata[EXEC_MIME_TYPE][\"id\"] !== undefined) {\n",
       "      toinsert[toinsert.length - 1].firstChild.textContent = output.data[JS_MIME_TYPE];\n",
       "      // store reference to embed id on output_area\n",
       "      output_area._bokeh_element_id = output.metadata[EXEC_MIME_TYPE][\"id\"];\n",
       "    }\n",
       "    if (output.metadata[EXEC_MIME_TYPE][\"server_id\"] !== undefined) {\n",
       "      var bk_div = document.createElement(\"div\");\n",
       "      bk_div.innerHTML = output.data[HTML_MIME_TYPE];\n",
       "      var script_attrs = bk_div.children[0].attributes;\n",
       "      for (var i = 0; i < script_attrs.length; i++) {\n",
       "        toinsert[toinsert.length - 1].firstChild.setAttribute(script_attrs[i].name, script_attrs[i].value);\n",
       "        toinsert[toinsert.length - 1].firstChild.textContent = bk_div.children[0].textContent\n",
       "      }\n",
       "      // store reference to server id on output_area\n",
       "      output_area._bokeh_server_id = output.metadata[EXEC_MIME_TYPE][\"server_id\"];\n",
       "    }\n",
       "  }\n",
       "\n",
       "  function register_renderer(events, OutputArea) {\n",
       "\n",
       "    function append_mime(data, metadata, element) {\n",
       "      // create a DOM node to render to\n",
       "      var toinsert = this.create_output_subarea(\n",
       "        metadata,\n",
       "        CLASS_NAME,\n",
       "        EXEC_MIME_TYPE\n",
       "      );\n",
       "      this.keyboard_manager.register_events(toinsert);\n",
       "      // Render to node\n",
       "      var props = {data: data, metadata: metadata[EXEC_MIME_TYPE]};\n",
       "      render(props, toinsert[toinsert.length - 1]);\n",
       "      element.append(toinsert);\n",
       "      return toinsert\n",
       "    }\n",
       "\n",
       "    /* Handle when an output is cleared or removed */\n",
       "    events.on('clear_output.CodeCell', handleClearOutput);\n",
       "    events.on('delete.Cell', handleClearOutput);\n",
       "\n",
       "    /* Handle when a new output is added */\n",
       "    events.on('output_added.OutputArea', handleAddOutput);\n",
       "\n",
       "    /**\n",
       "     * Register the mime type and append_mime function with output_area\n",
       "     */\n",
       "    OutputArea.prototype.register_mime_type(EXEC_MIME_TYPE, append_mime, {\n",
       "      /* Is output safe? */\n",
       "      safe: true,\n",
       "      /* Index of renderer in `output_area.display_order` */\n",
       "      index: 0\n",
       "    });\n",
       "  }\n",
       "\n",
       "  // register the mime type if in Jupyter Notebook environment and previously unregistered\n",
       "  if (root.Jupyter !== undefined) {\n",
       "    var events = require('base/js/events');\n",
       "    var OutputArea = require('notebook/js/outputarea').OutputArea;\n",
       "\n",
       "    if (OutputArea.prototype.mime_types().indexOf(EXEC_MIME_TYPE) == -1) {\n",
       "      register_renderer(events, OutputArea);\n",
       "    }\n",
       "  }\n",
       "\n",
       "  \n",
       "  if (typeof (root._bokeh_timeout) === \"undefined\" || force === true) {\n",
       "    root._bokeh_timeout = Date.now() + 5000;\n",
       "    root._bokeh_failed_load = false;\n",
       "  }\n",
       "\n",
       "  var NB_LOAD_WARNING = {'data': {'text/html':\n",
       "     \"<div style='background-color: #fdd'>\\n\"+\n",
       "     \"<p>\\n\"+\n",
       "     \"BokehJS does not appear to have successfully loaded. If loading BokehJS from CDN, this \\n\"+\n",
       "     \"may be due to a slow or bad network connection. Possible fixes:\\n\"+\n",
       "     \"</p>\\n\"+\n",
       "     \"<ul>\\n\"+\n",
       "     \"<li>re-rerun `output_notebook()` to attempt to load from CDN again, or</li>\\n\"+\n",
       "     \"<li>use INLINE resources instead, as so:</li>\\n\"+\n",
       "     \"</ul>\\n\"+\n",
       "     \"<code>\\n\"+\n",
       "     \"from bokeh.resources import INLINE\\n\"+\n",
       "     \"output_notebook(resources=INLINE)\\n\"+\n",
       "     \"</code>\\n\"+\n",
       "     \"</div>\"}};\n",
       "\n",
       "  function display_loaded() {\n",
       "    var el = document.getElementById(\"1004\");\n",
       "    if (el != null) {\n",
       "      el.textContent = \"BokehJS is loading...\";\n",
       "    }\n",
       "    if (root.Bokeh !== undefined) {\n",
       "      if (el != null) {\n",
       "        el.textContent = \"BokehJS \" + root.Bokeh.version + \" successfully loaded.\";\n",
       "      }\n",
       "    } else if (Date.now() < root._bokeh_timeout) {\n",
       "      setTimeout(display_loaded, 100)\n",
       "    }\n",
       "  }\n",
       "\n",
       "\n",
       "  function run_callbacks() {\n",
       "    try {\n",
       "      root._bokeh_onload_callbacks.forEach(function(callback) {\n",
       "        if (callback != null)\n",
       "          callback();\n",
       "      });\n",
       "    } finally {\n",
       "      delete root._bokeh_onload_callbacks\n",
       "    }\n",
       "    console.debug(\"Bokeh: all callbacks have finished\");\n",
       "  }\n",
       "\n",
       "  function load_libs(css_urls, js_urls, callback) {\n",
       "    if (css_urls == null) css_urls = [];\n",
       "    if (js_urls == null) js_urls = [];\n",
       "\n",
       "    root._bokeh_onload_callbacks.push(callback);\n",
       "    if (root._bokeh_is_loading > 0) {\n",
       "      console.debug(\"Bokeh: BokehJS is being loaded, scheduling callback at\", now());\n",
       "      return null;\n",
       "    }\n",
       "    if (js_urls == null || js_urls.length === 0) {\n",
       "      run_callbacks();\n",
       "      return null;\n",
       "    }\n",
       "    console.debug(\"Bokeh: BokehJS not loaded, scheduling load and callback at\", now());\n",
       "    root._bokeh_is_loading = css_urls.length + js_urls.length;\n",
       "\n",
       "    function on_load() {\n",
       "      root._bokeh_is_loading--;\n",
       "      if (root._bokeh_is_loading === 0) {\n",
       "        console.debug(\"Bokeh: all BokehJS libraries/stylesheets loaded\");\n",
       "        run_callbacks()\n",
       "      }\n",
       "    }\n",
       "\n",
       "    function on_error(url) {\n",
       "      console.error(\"failed to load \" + url);\n",
       "    }\n",
       "\n",
       "    for (let i = 0; i < css_urls.length; i++) {\n",
       "      const url = css_urls[i];\n",
       "      const element = document.createElement(\"link\");\n",
       "      element.onload = on_load;\n",
       "      element.onerror = on_error.bind(null, url);\n",
       "      element.rel = \"stylesheet\";\n",
       "      element.type = \"text/css\";\n",
       "      element.href = url;\n",
       "      console.debug(\"Bokeh: injecting link tag for BokehJS stylesheet: \", url);\n",
       "      document.body.appendChild(element);\n",
       "    }\n",
       "\n",
       "    const hashes = {\"https://cdn.bokeh.org/bokeh/release/bokeh-2.3.3.min.js\": \"dM3QQsP+wXdHg42wTqW85BjZQdLNNIXqlPw/BgKoExPmTG7ZLML4EGqLMfqHT6ON\", \"https://cdn.bokeh.org/bokeh/release/bokeh-tables-2.3.3.min.js\": \"8x57I4YuIfu8XyZfFo0XVr2WAT8EK4rh/uDe3wF7YuW2FNUSNEpJbsPaB1nJ2fz2\", \"https://cdn.bokeh.org/bokeh/release/bokeh-widgets-2.3.3.min.js\": \"3QTqdz9LyAm2i0sG5XTePsHec3UHWwVsrOL68SYRoAXsafvfAyqtQ+h440+qIBhS\"};\n",
       "\n",
       "    for (let i = 0; i < js_urls.length; i++) {\n",
       "      const url = js_urls[i];\n",
       "      const element = document.createElement('script');\n",
       "      element.onload = on_load;\n",
       "      element.onerror = on_error.bind(null, url);\n",
       "      element.async = false;\n",
       "      element.src = url;\n",
       "      if (url in hashes) {\n",
       "        element.crossOrigin = \"anonymous\";\n",
       "        element.integrity = \"sha384-\" + hashes[url];\n",
       "      }\n",
       "      console.debug(\"Bokeh: injecting script tag for BokehJS library: \", url);\n",
       "      document.head.appendChild(element);\n",
       "    }\n",
       "  };\n",
       "\n",
       "  function inject_raw_css(css) {\n",
       "    const element = document.createElement(\"style\");\n",
       "    element.appendChild(document.createTextNode(css));\n",
       "    document.body.appendChild(element);\n",
       "  }\n",
       "\n",
       "  \n",
       "  var js_urls = [\"https://cdn.bokeh.org/bokeh/release/bokeh-2.3.3.min.js\", \"https://cdn.bokeh.org/bokeh/release/bokeh-widgets-2.3.3.min.js\", \"https://cdn.bokeh.org/bokeh/release/bokeh-tables-2.3.3.min.js\"];\n",
       "  var css_urls = [];\n",
       "  \n",
       "\n",
       "  var inline_js = [\n",
       "    function(Bokeh) {\n",
       "      Bokeh.set_log_level(\"info\");\n",
       "    },\n",
       "    function(Bokeh) {\n",
       "    \n",
       "    \n",
       "    }\n",
       "  ];\n",
       "\n",
       "  function run_inline_js() {\n",
       "    \n",
       "    if (root.Bokeh !== undefined || force === true) {\n",
       "      \n",
       "    for (var i = 0; i < inline_js.length; i++) {\n",
       "      inline_js[i].call(root, root.Bokeh);\n",
       "    }\n",
       "    if (force === true) {\n",
       "        display_loaded();\n",
       "      }} else if (Date.now() < root._bokeh_timeout) {\n",
       "      setTimeout(run_inline_js, 100);\n",
       "    } else if (!root._bokeh_failed_load) {\n",
       "      console.log(\"Bokeh: BokehJS failed to load within specified timeout.\");\n",
       "      root._bokeh_failed_load = true;\n",
       "    } else if (force !== true) {\n",
       "      var cell = $(document.getElementById(\"1004\")).parents('.cell').data().cell;\n",
       "      cell.output_area.append_execute_result(NB_LOAD_WARNING)\n",
       "    }\n",
       "\n",
       "  }\n",
       "\n",
       "  if (root._bokeh_is_loading === 0) {\n",
       "    console.debug(\"Bokeh: BokehJS loaded, going straight to plotting\");\n",
       "    run_inline_js();\n",
       "  } else {\n",
       "    load_libs(css_urls, js_urls, function() {\n",
       "      console.debug(\"Bokeh: BokehJS plotting callback run at\", now());\n",
       "      run_inline_js();\n",
       "    });\n",
       "  }\n",
       "}(window));"
      ],
      "application/vnd.bokehjs_load.v0+json": "\n(function(root) {\n  function now() {\n    return new Date();\n  }\n\n  var force = true;\n\n  if (typeof root._bokeh_onload_callbacks === \"undefined\" || force === true) {\n    root._bokeh_onload_callbacks = [];\n    root._bokeh_is_loading = undefined;\n  }\n\n  \n\n  \n  if (typeof (root._bokeh_timeout) === \"undefined\" || force === true) {\n    root._bokeh_timeout = Date.now() + 5000;\n    root._bokeh_failed_load = false;\n  }\n\n  var NB_LOAD_WARNING = {'data': {'text/html':\n     \"<div style='background-color: #fdd'>\\n\"+\n     \"<p>\\n\"+\n     \"BokehJS does not appear to have successfully loaded. If loading BokehJS from CDN, this \\n\"+\n     \"may be due to a slow or bad network connection. Possible fixes:\\n\"+\n     \"</p>\\n\"+\n     \"<ul>\\n\"+\n     \"<li>re-rerun `output_notebook()` to attempt to load from CDN again, or</li>\\n\"+\n     \"<li>use INLINE resources instead, as so:</li>\\n\"+\n     \"</ul>\\n\"+\n     \"<code>\\n\"+\n     \"from bokeh.resources import INLINE\\n\"+\n     \"output_notebook(resources=INLINE)\\n\"+\n     \"</code>\\n\"+\n     \"</div>\"}};\n\n  function display_loaded() {\n    var el = document.getElementById(\"1004\");\n    if (el != null) {\n      el.textContent = \"BokehJS is loading...\";\n    }\n    if (root.Bokeh !== undefined) {\n      if (el != null) {\n        el.textContent = \"BokehJS \" + root.Bokeh.version + \" successfully loaded.\";\n      }\n    } else if (Date.now() < root._bokeh_timeout) {\n      setTimeout(display_loaded, 100)\n    }\n  }\n\n\n  function run_callbacks() {\n    try {\n      root._bokeh_onload_callbacks.forEach(function(callback) {\n        if (callback != null)\n          callback();\n      });\n    } finally {\n      delete root._bokeh_onload_callbacks\n    }\n    console.debug(\"Bokeh: all callbacks have finished\");\n  }\n\n  function load_libs(css_urls, js_urls, callback) {\n    if (css_urls == null) css_urls = [];\n    if (js_urls == null) js_urls = [];\n\n    root._bokeh_onload_callbacks.push(callback);\n    if (root._bokeh_is_loading > 0) {\n      console.debug(\"Bokeh: BokehJS is being loaded, scheduling callback at\", now());\n      return null;\n    }\n    if (js_urls == null || js_urls.length === 0) {\n      run_callbacks();\n      return null;\n    }\n    console.debug(\"Bokeh: BokehJS not loaded, scheduling load and callback at\", now());\n    root._bokeh_is_loading = css_urls.length + js_urls.length;\n\n    function on_load() {\n      root._bokeh_is_loading--;\n      if (root._bokeh_is_loading === 0) {\n        console.debug(\"Bokeh: all BokehJS libraries/stylesheets loaded\");\n        run_callbacks()\n      }\n    }\n\n    function on_error(url) {\n      console.error(\"failed to load \" + url);\n    }\n\n    for (let i = 0; i < css_urls.length; i++) {\n      const url = css_urls[i];\n      const element = document.createElement(\"link\");\n      element.onload = on_load;\n      element.onerror = on_error.bind(null, url);\n      element.rel = \"stylesheet\";\n      element.type = \"text/css\";\n      element.href = url;\n      console.debug(\"Bokeh: injecting link tag for BokehJS stylesheet: \", url);\n      document.body.appendChild(element);\n    }\n\n    const hashes = {\"https://cdn.bokeh.org/bokeh/release/bokeh-2.3.3.min.js\": \"dM3QQsP+wXdHg42wTqW85BjZQdLNNIXqlPw/BgKoExPmTG7ZLML4EGqLMfqHT6ON\", \"https://cdn.bokeh.org/bokeh/release/bokeh-tables-2.3.3.min.js\": \"8x57I4YuIfu8XyZfFo0XVr2WAT8EK4rh/uDe3wF7YuW2FNUSNEpJbsPaB1nJ2fz2\", \"https://cdn.bokeh.org/bokeh/release/bokeh-widgets-2.3.3.min.js\": \"3QTqdz9LyAm2i0sG5XTePsHec3UHWwVsrOL68SYRoAXsafvfAyqtQ+h440+qIBhS\"};\n\n    for (let i = 0; i < js_urls.length; i++) {\n      const url = js_urls[i];\n      const element = document.createElement('script');\n      element.onload = on_load;\n      element.onerror = on_error.bind(null, url);\n      element.async = false;\n      element.src = url;\n      if (url in hashes) {\n        element.crossOrigin = \"anonymous\";\n        element.integrity = \"sha384-\" + hashes[url];\n      }\n      console.debug(\"Bokeh: injecting script tag for BokehJS library: \", url);\n      document.head.appendChild(element);\n    }\n  };\n\n  function inject_raw_css(css) {\n    const element = document.createElement(\"style\");\n    element.appendChild(document.createTextNode(css));\n    document.body.appendChild(element);\n  }\n\n  \n  var js_urls = [\"https://cdn.bokeh.org/bokeh/release/bokeh-2.3.3.min.js\", \"https://cdn.bokeh.org/bokeh/release/bokeh-widgets-2.3.3.min.js\", \"https://cdn.bokeh.org/bokeh/release/bokeh-tables-2.3.3.min.js\"];\n  var css_urls = [];\n  \n\n  var inline_js = [\n    function(Bokeh) {\n      Bokeh.set_log_level(\"info\");\n    },\n    function(Bokeh) {\n    \n    \n    }\n  ];\n\n  function run_inline_js() {\n    \n    if (root.Bokeh !== undefined || force === true) {\n      \n    for (var i = 0; i < inline_js.length; i++) {\n      inline_js[i].call(root, root.Bokeh);\n    }\n    if (force === true) {\n        display_loaded();\n      }} else if (Date.now() < root._bokeh_timeout) {\n      setTimeout(run_inline_js, 100);\n    } else if (!root._bokeh_failed_load) {\n      console.log(\"Bokeh: BokehJS failed to load within specified timeout.\");\n      root._bokeh_failed_load = true;\n    } else if (force !== true) {\n      var cell = $(document.getElementById(\"1004\")).parents('.cell').data().cell;\n      cell.output_area.append_execute_result(NB_LOAD_WARNING)\n    }\n\n  }\n\n  if (root._bokeh_is_loading === 0) {\n    console.debug(\"Bokeh: BokehJS loaded, going straight to plotting\");\n    run_inline_js();\n  } else {\n    load_libs(css_urls, js_urls, function() {\n      console.debug(\"Bokeh: BokehJS plotting callback run at\", now());\n      run_inline_js();\n    });\n  }\n}(window));"
     },
     "metadata": {},
     "output_type": "display_data"
    }
   ],
   "source": [
    "%load_ext autoreload\n",
    "%autoreload 2\n",
    "%pylab inline\n",
    "\n",
    "import sys\n",
    "import glob\n",
    "import pandas as pd\n",
    "import os\n",
    "import seaborn as sns\n",
    "# from tqdm import tqdm_notebook as tqdm\n",
    "from tqdm import tqdm\n",
    "import pickle\n",
    "from statsmodels.distributions.empirical_distribution import ECDF\n",
    "from collections import defaultdict\n",
    "import logging\n",
    "from open_spiel.python.examples.ubc_mccfr_cpp_example import action_to_bids\n",
    "from open_spiel.python.examples.ubc_nfsp_example import policy_from_checkpoint\n",
    "from open_spiel.python.examples.ubc_utils import *\n",
    "\n",
    "from open_spiel.python.pytorch.ubc_nfsp import NFSP\n",
    "import bokeh\n",
    "from bokeh.plotting import figure, show\n",
    "from bokeh.io import output_notebook\n",
    "from bokeh.models import HoverTool, ColumnDataSource, ColorBar, LogColorMapper, LinearColorMapper\n",
    "from bokeh.transform import linear_cmap, log_cmap\n",
    "\n",
    "output_notebook()\n",
    "# logging.basicConfig(format='%(asctime)s %(levelname)s:%(message)s', level=logging.DEBUG, datefmt='%I:%M:%S')\n",
    "# logger = logging.getLogger()\n",
    "# logger.setLevel(logging.INFO)"
   ]
  },
  {
   "cell_type": "code",
   "execution_count": 40,
   "id": "f39ab657-3e19-4932-a061-a235f6bb1a7d",
   "metadata": {},
   "outputs": [],
   "source": [
    "EXPERIMENT_DIR = '/shared/outputs/big_game_2/lstm_deep'"
   ]
  },
  {
   "cell_type": "code",
   "execution_count": 41,
   "id": "1c2ef918-c5e5-4a18-857a-052d67a2e7d1",
   "metadata": {},
   "outputs": [],
   "source": [
    "CHECKPOINT_NAME = 'checkpoint_latest'\n",
    "checkpoint = policy_from_checkpoint(EXPERIMENT_DIR, CHECKPOINT_NAME)"
   ]
  },
  {
   "cell_type": "code",
   "execution_count": 42,
   "id": "110c4d28-e812-4d68-aefe-3d7b75b279c4",
   "metadata": {},
   "outputs": [],
   "source": [
    "def check_on_q_values(checkpoint):\n",
    "    q_network = checkpoint.agents[0]._rl_agent._q_network\n",
    "    state = checkpoint.game.new_initial_state().child(0).child(0)\n",
    "    legal_actions = state.legal_actions()\n",
    "    it = state.information_state_tensor()\n",
    "    info_state = q_network.prep_batch([q_network.reshape_infostate(it)])\n",
    "    q_values = q_network(info_state).detach()[0]\n",
    "    legal_q_values = q_values[legal_actions]\n",
    "    action_dict = get_actions(checkpoint.game)\n",
    "    return {s: q for s,q in zip(action_dict.values(), legal_q_values)}"
   ]
  },
  {
   "cell_type": "code",
   "execution_count": null,
   "id": "87673a9e-a971-4344-92de-735e51450d31",
   "metadata": {},
   "outputs": [],
   "source": []
  },
  {
   "cell_type": "code",
   "execution_count": 38,
   "id": "8d2491af-d34c-4f86-ab4a-67c51517fe22",
   "metadata": {},
   "outputs": [
    {
     "name": "stderr",
     "output_type": "stream",
     "text": [
      "  0%|          | 0/1000000 [00:00<?, ?it/s]/apps/open_spiel/venv/lib/python3.6/site-packages/ipykernel_launcher.py:7: DeprecationWarning: The default dtype for empty Series will be 'object' instead of 'float64' in a future version. Specify a dtype explicitly to silence this warning.\n",
      "  import sys\n",
      "  0%|          | 17/1000000 [00:00<1:42:08, 163.16it/s]"
     ]
    },
    {
     "name": "stdout",
     "output_type": "stream",
     "text": [
      "Bid for 1,0,0 licenses @ $75 with activity 75 - tensor(44.9937)\n",
      "Bid for 1,0,1 licenses @ $100 with activity 100 - tensor(15.0661)\n",
      "Series([], dtype: int64)\n"
     ]
    },
    {
     "name": "stderr",
     "output_type": "stream",
     "text": [
      "  5%|▌         | 50018/1000000 [06:01<2:07:53, 123.80it/s]"
     ]
    },
    {
     "name": "stdout",
     "output_type": "stream",
     "text": [
      "Bid for 1,0,0 licenses @ $75 with activity 75 - tensor(45.0075)\n",
      "Bid for 1,0,1 licenses @ $100 with activity 100 - tensor(15.0917)\n",
      "4     49544\n",
      "0       382\n",
      "1        36\n",
      "3         8\n",
      "6         6\n",
      "10        5\n",
      "9         4\n",
      "8         4\n",
      "5         4\n",
      "2         3\n",
      "11        2\n",
      "7         2\n",
      "dtype: int64\n"
     ]
    },
    {
     "name": "stderr",
     "output_type": "stream",
     "text": [
      " 10%|█         | 100015/1000000 [12:07<2:03:36, 121.35it/s]"
     ]
    },
    {
     "name": "stdout",
     "output_type": "stream",
     "text": [
      "Bid for 1,0,0 licenses @ $75 with activity 75 - tensor(45.0003)\n",
      "Bid for 1,0,1 licenses @ $100 with activity 100 - tensor(15.1011)\n",
      "4     99049\n",
      "0       794\n",
      "1        65\n",
      "9        15\n",
      "6        12\n",
      "3        12\n",
      "10       11\n",
      "8        10\n",
      "11        9\n",
      "7         8\n",
      "2         8\n",
      "5         7\n",
      "dtype: int64\n"
     ]
    },
    {
     "name": "stderr",
     "output_type": "stream",
     "text": [
      " 15%|█▌        | 150022/1000000 [18:05<1:46:39, 132.83it/s]"
     ]
    },
    {
     "name": "stdout",
     "output_type": "stream",
     "text": [
      "Bid for 1,0,0 licenses @ $75 with activity 75 - tensor(45.0131)\n",
      "Bid for 1,0,1 licenses @ $100 with activity 100 - tensor(15.1214)\n",
      "4     148512\n",
      "0       1238\n",
      "1        100\n",
      "9         21\n",
      "10        20\n",
      "3         20\n",
      "7         18\n",
      "8         17\n",
      "2         15\n",
      "6         14\n",
      "11        13\n",
      "5         12\n",
      "dtype: int64\n"
     ]
    },
    {
     "name": "stderr",
     "output_type": "stream",
     "text": [
      " 20%|██        | 200004/1000000 [23:58<1:43:28, 128.86it/s]"
     ]
    },
    {
     "name": "stdout",
     "output_type": "stream",
     "text": [
      "Bid for 1,0,0 licenses @ $75 with activity 75 - tensor(45.0102)\n",
      "Bid for 1,0,1 licenses @ $100 with activity 100 - tensor(15.1434)\n",
      "4     197913\n",
      "0       1744\n",
      "1        138\n",
      "3         29\n",
      "10        26\n",
      "9         26\n",
      "7         25\n",
      "8         24\n",
      "2         21\n",
      "11        19\n",
      "6         18\n",
      "5         17\n",
      "dtype: int64\n"
     ]
    },
    {
     "name": "stderr",
     "output_type": "stream",
     "text": [
      " 25%|██▌       | 250002/1000000 [29:52<1:39:16, 125.91it/s]"
     ]
    },
    {
     "name": "stdout",
     "output_type": "stream",
     "text": [
      "Bid for 1,0,0 licenses @ $75 with activity 75 - tensor(44.9981)\n",
      "Bid for 1,0,1 licenses @ $100 with activity 100 - tensor(15.1650)\n",
      "4     247363\n",
      "0       2200\n",
      "1        187\n",
      "9         35\n",
      "10        34\n",
      "3         31\n",
      "7         28\n",
      "11        26\n",
      "8         24\n",
      "6         24\n",
      "5         24\n",
      "2         24\n",
      "dtype: int64\n"
     ]
    },
    {
     "name": "stderr",
     "output_type": "stream",
     "text": [
      " 30%|███       | 300015/1000000 [35:46<1:38:17, 118.70it/s]"
     ]
    },
    {
     "name": "stdout",
     "output_type": "stream",
     "text": [
      "Bid for 1,0,0 licenses @ $75 with activity 75 - tensor(44.9993)\n",
      "Bid for 1,0,1 licenses @ $100 with activity 100 - tensor(15.1979)\n",
      "4     296795\n",
      "0       2691\n",
      "1        221\n",
      "9         43\n",
      "3         36\n",
      "10        35\n",
      "7         34\n",
      "11        31\n",
      "5         30\n",
      "8         28\n",
      "6         28\n",
      "2         28\n",
      "dtype: int64\n"
     ]
    },
    {
     "name": "stderr",
     "output_type": "stream",
     "text": [
      " 35%|███▌      | 350001/1000000 [41:42<1:28:14, 122.77it/s]"
     ]
    },
    {
     "name": "stdout",
     "output_type": "stream",
     "text": [
      "Bid for 1,0,0 licenses @ $75 with activity 75 - tensor(44.9915)\n",
      "Bid for 1,0,1 licenses @ $100 with activity 100 - tensor(15.2180)\n",
      "4     346262\n",
      "0       3147\n",
      "1        259\n",
      "9         49\n",
      "3         43\n",
      "10        40\n",
      "8         37\n",
      "7         35\n",
      "5         34\n",
      "11        32\n",
      "2         32\n",
      "6         30\n",
      "dtype: int64\n"
     ]
    },
    {
     "name": "stderr",
     "output_type": "stream",
     "text": [
      " 40%|███▉      | 399993/1000000 [47:41<1:12:21, 138.21it/s]"
     ]
    },
    {
     "name": "stdout",
     "output_type": "stream",
     "text": [
      "Bid for 1,0,0 licenses @ $75 with activity 75 - tensor(44.9993)\n",
      "Bid for 1,0,1 licenses @ $100 with activity 100 - tensor(15.2332)\n",
      "4     395739\n",
      "0       3587\n",
      "1        302\n",
      "9         51\n",
      "10        49\n",
      "3         45\n",
      "8         41\n",
      "5         41\n",
      "7         39\n",
      "11        38\n",
      "2         37\n",
      "6         31\n",
      "dtype: int64\n"
     ]
    },
    {
     "name": "stderr",
     "output_type": "stream",
     "text": [
      " 45%|████▍     | 449999/1000000 [53:36<1:04:37, 141.86it/s]"
     ]
    },
    {
     "name": "stdout",
     "output_type": "stream",
     "text": [
      "Bid for 1,0,0 licenses @ $75 with activity 75 - tensor(44.9881)\n",
      "Bid for 1,0,1 licenses @ $100 with activity 100 - tensor(15.2514)\n",
      "4     445227\n",
      "0       4025\n",
      "1        340\n",
      "10        53\n",
      "9         52\n",
      "7         48\n",
      "3         48\n",
      "8         46\n",
      "5         44\n",
      "11        43\n",
      "2         38\n",
      "6         36\n",
      "dtype: int64\n"
     ]
    },
    {
     "name": "stderr",
     "output_type": "stream",
     "text": [
      " 50%|█████     | 500001/1000000 [59:34<1:11:54, 115.88it/s]"
     ]
    },
    {
     "name": "stdout",
     "output_type": "stream",
     "text": [
      "Bid for 1,0,0 licenses @ $75 with activity 75 - tensor(44.9945)\n",
      "Bid for 1,0,1 licenses @ $100 with activity 100 - tensor(15.2702)\n",
      "4     494735\n",
      "0       4441\n",
      "1        381\n",
      "10        58\n",
      "9         55\n",
      "3         54\n",
      "7         52\n",
      "8         49\n",
      "5         48\n",
      "11        45\n",
      "2         42\n",
      "6         40\n",
      "dtype: int64\n"
     ]
    },
    {
     "name": "stderr",
     "output_type": "stream",
     "text": [
      " 55%|█████▌    | 550001/1000000 [1:05:27<1:05:04, 115.24it/s]"
     ]
    },
    {
     "name": "stdout",
     "output_type": "stream",
     "text": [
      "Bid for 1,0,0 licenses @ $75 with activity 75 - tensor(44.9964)\n",
      "Bid for 1,0,1 licenses @ $100 with activity 100 - tensor(15.2841)\n",
      "4     544242\n",
      "0       4863\n",
      "1        419\n",
      "10        63\n",
      "9         60\n",
      "3         55\n",
      "7         54\n",
      "5         53\n",
      "8         51\n",
      "11        48\n",
      "2         47\n",
      "6         45\n",
      "dtype: int64\n"
     ]
    },
    {
     "name": "stderr",
     "output_type": "stream",
     "text": [
      " 60%|██████    | 600004/1000000 [1:11:25<1:03:20, 105.23it/s]"
     ]
    },
    {
     "name": "stdout",
     "output_type": "stream",
     "text": [
      "Bid for 1,0,0 licenses @ $75 with activity 75 - tensor(45.0054)\n",
      "Bid for 1,0,1 licenses @ $100 with activity 100 - tensor(15.3113)\n",
      "4     593739\n",
      "0       5287\n",
      "1        450\n",
      "9         67\n",
      "10        66\n",
      "3         63\n",
      "5         60\n",
      "7         58\n",
      "8         54\n",
      "11        53\n",
      "6         53\n",
      "2         50\n",
      "dtype: int64\n"
     ]
    },
    {
     "name": "stderr",
     "output_type": "stream",
     "text": [
      " 65%|██████▌   | 650012/1000000 [1:17:23<53:20, 109.37it/s]  "
     ]
    },
    {
     "name": "stdout",
     "output_type": "stream",
     "text": [
      "Bid for 1,0,0 licenses @ $75 with activity 75 - tensor(44.9947)\n",
      "Bid for 1,0,1 licenses @ $100 with activity 100 - tensor(15.3417)\n",
      "4     643205\n",
      "0       5731\n",
      "1        487\n",
      "9         72\n",
      "5         69\n",
      "10        68\n",
      "3         67\n",
      "8         64\n",
      "7         61\n",
      "6         60\n",
      "11        59\n",
      "2         57\n",
      "dtype: int64\n"
     ]
    },
    {
     "name": "stderr",
     "output_type": "stream",
     "text": [
      " 70%|███████   | 700000/1000000 [1:23:26<41:55, 119.27it/s] "
     ]
    },
    {
     "name": "stdout",
     "output_type": "stream",
     "text": [
      "Bid for 1,0,0 licenses @ $75 with activity 75 - tensor(44.9818)\n",
      "Bid for 1,0,1 licenses @ $100 with activity 100 - tensor(15.3591)\n",
      "4     692727\n",
      "0       6142\n",
      "1        519\n",
      "9         75\n",
      "3         73\n",
      "5         72\n",
      "10        70\n",
      "8         68\n",
      "7         68\n",
      "6         66\n",
      "11        60\n",
      "2         60\n",
      "dtype: int64\n"
     ]
    },
    {
     "name": "stderr",
     "output_type": "stream",
     "text": [
      " 75%|███████▌  | 750001/1000000 [1:29:33<41:15, 100.99it/s]"
     ]
    },
    {
     "name": "stdout",
     "output_type": "stream",
     "text": [
      "Bid for 1,0,0 licenses @ $75 with activity 75 - tensor(45.0093)\n",
      "Bid for 1,0,1 licenses @ $100 with activity 100 - tensor(15.3883)\n",
      "4     742216\n",
      "0       6576\n",
      "1        551\n",
      "9         83\n",
      "5         77\n",
      "10        76\n",
      "7         76\n",
      "3         73\n",
      "8         71\n",
      "6         71\n",
      "11        65\n",
      "2         65\n",
      "dtype: int64\n"
     ]
    },
    {
     "name": "stderr",
     "output_type": "stream",
     "text": [
      " 80%|████████  | 800001/1000000 [1:35:33<34:31, 96.56it/s] "
     ]
    },
    {
     "name": "stdout",
     "output_type": "stream",
     "text": [
      "Bid for 1,0,0 licenses @ $75 with activity 75 - tensor(44.9727)\n",
      "Bid for 1,0,1 licenses @ $100 with activity 100 - tensor(15.3879)\n",
      "4     791711\n",
      "0       6997\n",
      "1        586\n",
      "9         89\n",
      "3         83\n",
      "7         82\n",
      "5         81\n",
      "10        79\n",
      "8         76\n",
      "6         74\n",
      "11        71\n",
      "2         71\n",
      "dtype: int64\n"
     ]
    },
    {
     "name": "stderr",
     "output_type": "stream",
     "text": [
      " 85%|████████▍ | 849998/1000000 [1:41:33<17:15, 144.85it/s]"
     ]
    },
    {
     "name": "stdout",
     "output_type": "stream",
     "text": [
      "Bid for 1,0,0 licenses @ $75 with activity 75 - tensor(45.0018)\n",
      "Bid for 1,0,1 licenses @ $100 with activity 100 - tensor(15.4248)\n",
      "4     841195\n",
      "0       7439\n",
      "1        609\n",
      "9         93\n",
      "5         89\n",
      "7         88\n",
      "10        87\n",
      "3         85\n",
      "8         82\n",
      "6         80\n",
      "2         77\n",
      "11        76\n",
      "dtype: int64\n"
     ]
    },
    {
     "name": "stderr",
     "output_type": "stream",
     "text": [
      " 90%|████████▉ | 899985/1000000 [1:47:33<11:36, 143.55it/s]"
     ]
    },
    {
     "name": "stdout",
     "output_type": "stream",
     "text": [
      "Bid for 1,0,0 licenses @ $75 with activity 75 - tensor(44.9824)\n",
      "Bid for 1,0,1 licenses @ $100 with activity 100 - tensor(15.4474)\n"
     ]
    },
    {
     "name": "stderr",
     "output_type": "stream",
     "text": [
      " 90%|█████████ | 900013/1000000 [1:47:33<19:24, 85.84it/s] "
     ]
    },
    {
     "name": "stdout",
     "output_type": "stream",
     "text": [
      "4     890680\n",
      "0       7875\n",
      "1        642\n",
      "9         97\n",
      "5         97\n",
      "7         93\n",
      "10        90\n",
      "3         89\n",
      "6         87\n",
      "8         84\n",
      "11        83\n",
      "2         83\n",
      "dtype: int64\n"
     ]
    },
    {
     "name": "stderr",
     "output_type": "stream",
     "text": [
      " 95%|█████████▍| 949989/1000000 [1:53:32<05:46, 144.31it/s]"
     ]
    },
    {
     "name": "stdout",
     "output_type": "stream",
     "text": [
      "Bid for 1,0,0 licenses @ $75 with activity 75 - tensor(45.0122)\n",
      "Bid for 1,0,1 licenses @ $100 with activity 100 - tensor(15.4791)\n"
     ]
    },
    {
     "name": "stderr",
     "output_type": "stream",
     "text": [
      " 95%|█████████▌| 950026/1000000 [1:53:32<07:10, 116.04it/s]"
     ]
    },
    {
     "name": "stdout",
     "output_type": "stream",
     "text": [
      "4     940230\n",
      "0       8262\n",
      "1        669\n",
      "5        102\n",
      "9        100\n",
      "7         98\n",
      "10        93\n",
      "3         93\n",
      "8         90\n",
      "6         89\n",
      "2         89\n",
      "11        85\n",
      "dtype: int64\n"
     ]
    },
    {
     "name": "stderr",
     "output_type": "stream",
     "text": [
      "100%|██████████| 1000000/1000000 [1:59:36<00:00, 139.35it/s]\n"
     ]
    }
   ],
   "source": [
    "actions = []\n",
    "for episode in tqdm(range(1000000)):\n",
    "    if episode % 50000 == 0:\n",
    "        qs = check_on_q_values(checkpoint)\n",
    "        print(\"Bid for 1,0,0 licenses @ $75 with activity 75 -\", qs[\"Bid for 1,0,0 licenses @ $75 with activity 75\"])\n",
    "        print(\"Bid for 1,0,1 licenses @ $100 with activity 100 -\", qs[\"Bid for 1,0,1 licenses @ $100 with activity 100\"])\n",
    "        print(pd.Series(actions).value_counts())\n",
    "        \n",
    "    time_step = checkpoint.env.reset()\n",
    "    first_action = True\n",
    "\n",
    "    while not time_step.last():\n",
    "        player_id = time_step.observations[\"current_player\"]\n",
    "        agent = checkpoint.agents[player_id]\n",
    "        # Player 1 is fixed\n",
    "        agent_output = agent.step(time_step, is_evaluation = player_id==1) \n",
    "#         if player_id == 0 and agent_output.action != 4:\n",
    "#             print(agent_output.action)\n",
    "        \n",
    "        if player_id == 0 and first_action:\n",
    "            actions.append(agent_output.action)\n",
    "            first_action = False\n",
    "        action_list = [agent_output.action]\n",
    "        time_step = checkpoint.env.step(action_list)\n",
    "\n",
    "    # Episode is over, step all agents with final info state.\n",
    "    for player_id, agent in enumerate(checkpoint.agents):\n",
    "        agent.step(time_step)\n",
    "    "
   ]
  },
  {
   "cell_type": "code",
   "execution_count": null,
   "id": "001c7b19-093b-47ca-9e42-a0957eb9a574",
   "metadata": {},
   "outputs": [],
   "source": [
    "[d for d in checkpoint.agents[0]._rl_agent._replay_buffer._data if d.reward in [50., 30.]]"
   ]
  },
  {
   "cell_type": "code",
   "execution_count": null,
   "id": "ba97c530-9107-4371-bb38-0bb67809cec1",
   "metadata": {},
   "outputs": [],
   "source": [
    "pd.DataFrame(q).drop_duplicates()"
   ]
  },
  {
   "cell_type": "code",
   "execution_count": null,
   "id": "a5358ba3-30e8-4d81-b8cf-7e94aea39490",
   "metadata": {},
   "outputs": [],
   "source": [
    "df = pd.DataFrame.from_records(records)"
   ]
  },
  {
   "cell_type": "code",
   "execution_count": null,
   "id": "d6f2c303-50ee-49ea-822a-bd9deef5589f",
   "metadata": {},
   "outputs": [],
   "source": [
    "df = df.drop_duplicates(subset=['infostate_string'])\n",
    "print(f'After dropping, {len(df)} unique infostates remaining')"
   ]
  }
 ],
 "metadata": {
  "kernelspec": {
   "display_name": "Python 3 (ipykernel)",
   "language": "python",
   "name": "python3"
  },
  "language_info": {
   "codemirror_mode": {
    "name": "ipython",
    "version": 3
   },
   "file_extension": ".py",
   "mimetype": "text/x-python",
   "name": "python",
   "nbconvert_exporter": "python",
   "pygments_lexer": "ipython3",
   "version": "3.8.2"
  }
 },
 "nbformat": 4,
 "nbformat_minor": 5
}
