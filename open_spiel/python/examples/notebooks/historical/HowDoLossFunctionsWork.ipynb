{
 "cells": [
  {
   "cell_type": "code",
   "execution_count": 10,
   "id": "d09c9871-2365-451f-8db8-34690f65eae1",
   "metadata": {},
   "outputs": [
    {
     "name": "stdout",
     "output_type": "stream",
     "text": [
      "The autoreload extension is already loaded. To reload it, use:\n",
      "  %reload_ext autoreload\n"
     ]
    }
   ],
   "source": [
    "%load_ext autoreload\n",
    "%autoreload 2\n",
    "%matplotlib inline\n",
    "\n",
    "import sys\n",
    "import glob\n",
    "import pandas as pd\n",
    "import os\n",
    "import seaborn as sns\n",
    "\n",
    "from tqdm import tqdm\n",
    "from statsmodels.distributions.empirical_distribution import ECDF\n",
    "from collections import defaultdict\n",
    "import pickle\n",
    "import re\n",
    "import json\n",
    "from pathlib import Path\n",
    "\n",
    "\n",
    "from open_spiel.python.algorithms.exploitability import nash_conv, best_response\n",
    "from open_spiel.python.examples.ubc_plotting_utils import *\n",
    "from open_spiel.python.pytorch.ubc_nfsp import brier_score\n",
    "import torch.nn.functional as F\n",
    "\n",
    "import bokeh\n",
    "from bokeh.layouts import row, column\n",
    "from bokeh.plotting import figure, show, output_file, save\n",
    "from bokeh.io import output_notebook\n",
    "from bokeh.models import HoverTool, ColumnDataSource, ColorBar, LogColorMapper, LinearColorMapper\n",
    "from bokeh.transform import linear_cmap, log_cmap\n",
    "os.environ[\"DJANGO_ALLOW_ASYNC_UNSAFE\"] = \"true\"\n",
    "\n"
   ]
  },
  {
   "cell_type": "code",
   "execution_count": 11,
   "id": "3b671b3f-a986-4ef4-a186-c8bedeeef6bd",
   "metadata": {},
   "outputs": [],
   "source": [
    "prediction_prob = torch.tensor([[0.75, 0.2, 0.04, 0.01]])\n",
    "prediction_logits = torch.log(prediction_prob)"
   ]
  },
  {
   "cell_type": "code",
   "execution_count": 12,
   "id": "4a5f41ff-46e7-4a76-b4e4-c9a4581c2c2c",
   "metadata": {},
   "outputs": [
    {
     "data": {
      "text/plain": [
       "tensor(0.1042)"
      ]
     },
     "execution_count": 12,
     "metadata": {},
     "output_type": "execute_result"
    }
   ],
   "source": [
    "brier_score(prediction_logits, torch.tensor([0]))"
   ]
  },
  {
   "cell_type": "code",
   "execution_count": 18,
   "id": "fc3e8098-79f3-4478-b6c7-3a0fccbacc5e",
   "metadata": {},
   "outputs": [],
   "source": [
    "# (1 - prediction_prob[0, 0])**2 + prediction_prob[0, 1:]**2"
   ]
  },
  {
   "cell_type": "code",
   "execution_count": null,
   "id": "6d9713b9-bd6c-4401-b4f5-13e44f3c2b7b",
   "metadata": {},
   "outputs": [],
   "source": []
  }
 ],
 "metadata": {
  "kernelspec": {
   "display_name": "Django Shell-Plus",
   "language": "python",
   "name": "django_extensions"
  },
  "language_info": {
   "codemirror_mode": {
    "name": "ipython",
    "version": 3
   },
   "file_extension": ".py",
   "mimetype": "text/x-python",
   "name": "python",
   "nbconvert_exporter": "python",
   "pygments_lexer": "ipython3",
   "version": "3.8.2"
  }
 },
 "nbformat": 4,
 "nbformat_minor": 5
}
