{
 "cells": [
  {
   "cell_type": "code",
   "execution_count": 3,
   "id": "0223d840-34cf-4ac7-ab5d-37d63b65f76e",
   "metadata": {},
   "outputs": [
    {
     "name": "stdout",
     "output_type": "stream",
     "text": [
      "The autoreload extension is already loaded. To reload it, use:\n",
      "  %reload_ext autoreload\n"
     ]
    }
   ],
   "source": [
    "%load_ext autoreload\n",
    "%autoreload 2\n",
    "%matplotlib inline\n",
    "\n",
    "import sys\n",
    "import glob\n",
    "import pandas as pd\n",
    "import os\n",
    "import seaborn as sns\n",
    "\n",
    "from tqdm import tqdm\n",
    "from statsmodels.distributions.empirical_distribution import ECDF\n",
    "from collections import defaultdict\n",
    "import pickle\n",
    "import re\n",
    "import json\n",
    "from pathlib import Path\n",
    "\n",
    "\n",
    "from open_spiel.python.algorithms.exploitability import nash_conv, best_response\n",
    "from open_spiel.python.examples.ubc_plotting_utils import *\n",
    "\n",
    "\n",
    "import bokeh\n",
    "from bokeh.layouts import row, column\n",
    "from bokeh.plotting import figure, show, output_file, save\n",
    "from bokeh.io import output_notebook\n",
    "from bokeh.models import HoverTool, ColumnDataSource, ColorBar, LogColorMapper, LinearColorMapper\n",
    "from bokeh.transform import linear_cmap, log_cmap\n",
    "os.environ[\"DJANGO_ALLOW_ASYNC_UNSAFE\"] = \"true\""
   ]
  },
  {
   "cell_type": "code",
   "execution_count": 4,
   "id": "b46cff32-518f-48f3-a4fd-8cf1cce49f02",
   "metadata": {},
   "outputs": [
    {
     "name": "stdout",
     "output_type": "stream",
     "text": [
      "Reading from env variable CLOCK_AUCTION_CONFIG_DIR. If it is not set, there will be trouble.\n",
      "CLOCK_AUCTION_CONFIG_DIR=/apps/open_spiel/configs\n",
      "Parsing configuration from /apps/open_spiel/configs/rw_game_2_settle_spiteful.json\n",
      "Done config parsing\n",
      "I0517 22:54:45.857346 139852049412224 ubc_mccfr_cpp_example.py:169] Using C++ implementations\n",
      "I0517 22:54:45.857650 139852049412224 ubc_mccfr_cpp_example.py:171] Using CFR solver\n",
      "I0517 22:54:45.868486 139852049412224 ubc_mccfr_cpp_example.py:228] Starting iteration 0\n",
      "I0517 22:54:45.984766 139852049412224 ubc_mccfr_cpp_example.py:265] Updated best policy on iteration 0\n",
      "I0517 22:54:45.985294 139852049412224 ubc_mccfr_cpp_example.py:268] Iteration 0\n",
      "I0517 22:54:45.985397 139852049412224 ubc_mccfr_cpp_example.py:272] walltime=0.031359\n",
      "I0517 22:54:45.985480 139852049412224 ubc_mccfr_cpp_example.py:272] max_on_path_regret=0.574654\n",
      "I0517 22:54:45.985557 139852049412224 ubc_mccfr_cpp_example.py:272] nash_conv=1.149248\n",
      "I0517 22:54:46.174520 139852049412224 ubc_mccfr_cpp_example.py:228] Starting iteration 100\n",
      "I0517 22:54:46.270862 139852049412224 ubc_mccfr_cpp_example.py:265] Updated best policy on iteration 100\n",
      "I0517 22:54:46.271134 139852049412224 ubc_mccfr_cpp_example.py:268] Iteration 100\n",
      "I0517 22:54:46.271237 139852049412224 ubc_mccfr_cpp_example.py:272] walltime=0.320070\n",
      "I0517 22:54:46.271319 139852049412224 ubc_mccfr_cpp_example.py:272] max_on_path_regret=0.008225\n",
      "I0517 22:54:46.271396 139852049412224 ubc_mccfr_cpp_example.py:272] nash_conv=0.016449\n",
      "I0517 22:54:46.461405 139852049412224 ubc_mccfr_cpp_example.py:228] Starting iteration 200\n",
      "I0517 22:54:46.555438 139852049412224 ubc_mccfr_cpp_example.py:265] Updated best policy on iteration 200\n",
      "I0517 22:54:46.555765 139852049412224 ubc_mccfr_cpp_example.py:268] Iteration 200\n",
      "I0517 22:54:46.555874 139852049412224 ubc_mccfr_cpp_example.py:272] walltime=0.606807\n",
      "I0517 22:54:46.555958 139852049412224 ubc_mccfr_cpp_example.py:272] max_on_path_regret=0.004139\n",
      "I0517 22:54:46.556036 139852049412224 ubc_mccfr_cpp_example.py:272] nash_conv=0.008278\n",
      "I0517 22:54:46.745935 139852049412224 ubc_mccfr_cpp_example.py:228] Starting iteration 300\n",
      "I0517 22:54:46.842720 139852049412224 ubc_mccfr_cpp_example.py:265] Updated best policy on iteration 300\n",
      "I0517 22:54:46.842997 139852049412224 ubc_mccfr_cpp_example.py:268] Iteration 300\n",
      "I0517 22:54:46.843101 139852049412224 ubc_mccfr_cpp_example.py:272] walltime=0.891367\n",
      "I0517 22:54:46.843183 139852049412224 ubc_mccfr_cpp_example.py:272] max_on_path_regret=0.002766\n",
      "I0517 22:54:46.843260 139852049412224 ubc_mccfr_cpp_example.py:272] nash_conv=0.005531\n",
      "I0517 22:54:47.032697 139852049412224 ubc_mccfr_cpp_example.py:228] Starting iteration 400\n",
      "I0517 22:54:47.125986 139852049412224 ubc_mccfr_cpp_example.py:265] Updated best policy on iteration 400\n",
      "I0517 22:54:47.126299 139852049412224 ubc_mccfr_cpp_example.py:268] Iteration 400\n",
      "I0517 22:54:47.126409 139852049412224 ubc_mccfr_cpp_example.py:272] walltime=1.178092\n",
      "I0517 22:54:47.126490 139852049412224 ubc_mccfr_cpp_example.py:272] max_on_path_regret=0.002076\n",
      "I0517 22:54:47.126566 139852049412224 ubc_mccfr_cpp_example.py:272] nash_conv=0.004153\n",
      "I0517 22:54:47.316993 139852049412224 ubc_mccfr_cpp_example.py:228] Starting iteration 500\n",
      "I0517 22:54:47.411436 139852049412224 ubc_mccfr_cpp_example.py:265] Updated best policy on iteration 500\n",
      "I0517 22:54:47.411697 139852049412224 ubc_mccfr_cpp_example.py:268] Iteration 500\n",
      "I0517 22:54:47.411795 139852049412224 ubc_mccfr_cpp_example.py:272] walltime=1.463409\n",
      "I0517 22:54:47.411878 139852049412224 ubc_mccfr_cpp_example.py:272] max_on_path_regret=0.001662\n",
      "I0517 22:54:47.411955 139852049412224 ubc_mccfr_cpp_example.py:272] nash_conv=0.003324\n",
      "I0517 22:54:47.602131 139852049412224 ubc_mccfr_cpp_example.py:228] Starting iteration 600\n",
      "I0517 22:54:47.697989 139852049412224 ubc_mccfr_cpp_example.py:265] Updated best policy on iteration 600\n",
      "I0517 22:54:47.698276 139852049412224 ubc_mccfr_cpp_example.py:268] Iteration 600\n",
      "I0517 22:54:47.698382 139852049412224 ubc_mccfr_cpp_example.py:272] walltime=1.747548\n",
      "I0517 22:54:47.698465 139852049412224 ubc_mccfr_cpp_example.py:272] max_on_path_regret=0.001386\n",
      "I0517 22:54:47.698542 139852049412224 ubc_mccfr_cpp_example.py:272] nash_conv=0.002771\n",
      "I0517 22:54:47.889192 139852049412224 ubc_mccfr_cpp_example.py:228] Starting iteration 700\n",
      "I0517 22:54:47.983043 139852049412224 ubc_mccfr_cpp_example.py:265] Updated best policy on iteration 700\n",
      "I0517 22:54:47.983294 139852049412224 ubc_mccfr_cpp_example.py:268] Iteration 700\n",
      "I0517 22:54:47.983406 139852049412224 ubc_mccfr_cpp_example.py:272] walltime=2.034606\n",
      "I0517 22:54:47.983486 139852049412224 ubc_mccfr_cpp_example.py:272] max_on_path_regret=0.001188\n",
      "I0517 22:54:47.983562 139852049412224 ubc_mccfr_cpp_example.py:272] nash_conv=0.002376\n",
      "I0517 22:54:48.174516 139852049412224 ubc_mccfr_cpp_example.py:228] Starting iteration 800\n",
      "I0517 22:54:48.269352 139852049412224 ubc_mccfr_cpp_example.py:265] Updated best policy on iteration 800\n",
      "I0517 22:54:48.269675 139852049412224 ubc_mccfr_cpp_example.py:268] Iteration 800\n",
      "I0517 22:54:48.269780 139852049412224 ubc_mccfr_cpp_example.py:272] walltime=2.319961\n",
      "I0517 22:54:48.269861 139852049412224 ubc_mccfr_cpp_example.py:272] max_on_path_regret=0.001040\n",
      "I0517 22:54:48.269937 139852049412224 ubc_mccfr_cpp_example.py:272] nash_conv=0.002080\n",
      "I0517 22:54:48.460688 139852049412224 ubc_mccfr_cpp_example.py:228] Starting iteration 900\n",
      "I0517 22:54:48.555424 139852049412224 ubc_mccfr_cpp_example.py:265] Updated best policy on iteration 900\n",
      "I0517 22:54:48.555678 139852049412224 ubc_mccfr_cpp_example.py:268] Iteration 900\n",
      "I0517 22:54:48.555778 139852049412224 ubc_mccfr_cpp_example.py:272] walltime=2.606099\n",
      "I0517 22:54:48.555858 139852049412224 ubc_mccfr_cpp_example.py:272] max_on_path_regret=0.000925\n",
      "I0517 22:54:48.555933 139852049412224 ubc_mccfr_cpp_example.py:272] nash_conv=0.001849\n",
      "I0517 22:54:48.840595 139852049412224 ubc_mccfr_cpp_example.py:265] Updated best policy on iteration 999\n",
      "I0517 22:54:48.840863 139852049412224 ubc_mccfr_cpp_example.py:268] Iteration 999\n",
      "I0517 22:54:48.840969 139852049412224 ubc_mccfr_cpp_example.py:272] walltime=2.889541\n",
      "I0517 22:54:48.841049 139852049412224 ubc_mccfr_cpp_example.py:272] max_on_path_regret=0.000833\n",
      "I0517 22:54:48.841125 139852049412224 ubc_mccfr_cpp_example.py:272] nash_conv=0.001666\n",
      "I0517 22:54:48.842897 139852049412224 ubc_mccfr_cpp_example.py:131] Persisting the model...\n",
      "Max Depth: 36\n",
      "I0517 22:54:48.953828 139852049412224 ubc_mccfr_cpp_example.py:336] Saving strategy to ./neil/strategy.csv\n",
      "I0517 22:54:48.962810 139852049412224 ubc_mccfr_cpp_example.py:339] Running processing script\n",
      "I0517 22:54:48.962993 139852049412224 sharpen_solution.py:46] Reading raw strategy from ./neil/strategy.csv\n",
      "I0517 22:54:49.015431 139852049412224 sharpen_solution.py:67] Filtered out 287 infostates\n"
     ]
    }
   ],
   "source": [
    "!python /apps/open_spiel/open_spiel/python/examples/ubc_mccfr_cpp_example.py --solver cfr --filename rw_game_2_settle_spiteful.json --iterations 1000 --output ./neil"
   ]
  },
  {
   "cell_type": "code",
   "execution_count": 5,
   "id": "cbf764b5-e6c9-44f5-a228-1e12e72d463e",
   "metadata": {},
   "outputs": [],
   "source": [
    "df = pd.read_csv('./neil/reduced_strategy.csv')"
   ]
  },
  {
   "cell_type": "code",
   "execution_count": 7,
   "id": "e1ac3707-eb22-4a10-857f-7dc2ccfa22b1",
   "metadata": {},
   "outputs": [
    {
     "data": {
      "text/html": [
       "<div>\n",
       "<style scoped>\n",
       "    .dataframe tbody tr th:only-of-type {\n",
       "        vertical-align: middle;\n",
       "    }\n",
       "\n",
       "    .dataframe tbody tr th {\n",
       "        vertical-align: top;\n",
       "    }\n",
       "\n",
       "    .dataframe thead th {\n",
       "        text-align: right;\n",
       "    }\n",
       "</style>\n",
       "<table border=\"1\" class=\"dataframe\">\n",
       "  <thead>\n",
       "    <tr style=\"text-align: right;\">\n",
       "      <th></th>\n",
       "      <th>info_state</th>\n",
       "      <th>player</th>\n",
       "      <th>Allocation 0 A</th>\n",
       "      <th>Allocation 1 A</th>\n",
       "      <th>Bid (0 A)</th>\n",
       "      <th>Bid (1 A)</th>\n",
       "      <th>Bid (2 A)</th>\n",
       "      <th>Price A</th>\n",
       "      <th>Utility 0</th>\n",
       "      <th>Utility 1</th>\n",
       "      <th>budget</th>\n",
       "      <th>my_bids</th>\n",
       "      <th>prob</th>\n",
       "      <th>round</th>\n",
       "      <th>terminal</th>\n",
       "      <th>total_demand</th>\n",
       "      <th>value</th>\n",
       "    </tr>\n",
       "  </thead>\n",
       "  <tbody>\n",
       "    <tr>\n",
       "      <th>0</th>\n",
       "      <td>Player 0\\nMarginalValues:101, 51 Budget: 200\\n</td>\n",
       "      <td>0</td>\n",
       "      <td>NaN</td>\n",
       "      <td>NaN</td>\n",
       "      <td>0.0</td>\n",
       "      <td>1.0</td>\n",
       "      <td>0.0</td>\n",
       "      <td>10.0</td>\n",
       "      <td>NaN</td>\n",
       "      <td>NaN</td>\n",
       "      <td>NaN</td>\n",
       "      <td>NaN</td>\n",
       "      <td>1.0</td>\n",
       "      <td>1</td>\n",
       "      <td>False</td>\n",
       "      <td>NaN</td>\n",
       "      <td>NaN</td>\n",
       "    </tr>\n",
       "  </tbody>\n",
       "</table>\n",
       "</div>"
      ],
      "text/plain": [
       "                                       info_state  player  Allocation 0 A  \\\n",
       "0  Player 0\\nMarginalValues:101, 51 Budget: 200\\n       0             NaN   \n",
       "\n",
       "   Allocation 1 A  Bid (0 A)  Bid (1 A)  Bid (2 A)  Price A  Utility 0  \\\n",
       "0             NaN        0.0        1.0        0.0     10.0        NaN   \n",
       "\n",
       "   Utility 1  budget my_bids  prob  round  terminal total_demand  value  \n",
       "0        NaN     NaN     NaN   1.0      1     False          NaN    NaN  "
      ]
     },
     "execution_count": 7,
     "metadata": {},
     "output_type": "execute_result"
    }
   ],
   "source": [
    "df.query('player == 0 and round == 1')"
   ]
  },
  {
   "cell_type": "code",
   "execution_count": null,
   "id": "7b368f66-1b87-4914-8d26-585e879e86a4",
   "metadata": {},
   "outputs": [],
   "source": [
    "q = df.query('terminal and player == 0')\n",
    "q['prob'] @ q['Utility 0']"
   ]
  },
  {
   "cell_type": "code",
   "execution_count": null,
   "id": "aeb638b4-e814-4d94-b4e7-9a39e0a743dd",
   "metadata": {},
   "outputs": [],
   "source": [
    "# df.query('not terminal').query('player == 0').query('round == 18').sort_values('prob', ascending=False)\n",
    "with pd.options('make columns bigger'):\n",
    "    df.query('terminal').query('player == 0').sort_values('prob', ascending=False)"
   ]
  },
  {
   "cell_type": "code",
   "execution_count": null,
   "id": "03b43b14-0425-4613-a7d8-cfc6b248c7f1",
   "metadata": {},
   "outputs": [],
   "source": [
    "df = pd.read_csv('./neil/reduced_strategy.csv')\n",
    "df.query('terminal').query('player == 0').sort_values('prob', ascending=False)\n",
    "q = df.query('terminal and player == 0')\n",
    "q['prob'] @ q['Utility 0']"
   ]
  },
  {
   "cell_type": "code",
   "execution_count": null,
   "id": "16b97c71-1da7-424d-8ef8-6ee81fe8bd7e",
   "metadata": {},
   "outputs": [],
   "source": [
    "game_name = 'very_large_game_2.json'\n",
    "game = smart_load_clock_auction(game_name)\n",
    "game_config = load_game_config(game_name)\n",
    "\n",
    "\n"
   ]
  },
  {
   "cell_type": "code",
   "execution_count": null,
   "id": "42722e12-bc98-41f4-9f66-332c604ae15c",
   "metadata": {},
   "outputs": [],
   "source": []
  },
  {
   "cell_type": "code",
   "execution_count": null,
   "id": "ad20e09d-dad0-4591-83cd-b5b610c7c828",
   "metadata": {},
   "outputs": [],
   "source": [
    "print(k_max)"
   ]
  },
  {
   "cell_type": "code",
   "execution_count": null,
   "id": "507b2e87-de06-41d8-89eb-a957be28bc82",
   "metadata": {},
   "outputs": [],
   "source": [
    "n_chance = game.max_chance_outcomes()\n",
    "n_actions = game.num_distinct_actions()\n",
    "k_max = max(n_chance, n_actions) + 1 # +1 for parent\n",
    "\n",
    "n_steps = 0\n",
    "N_STEPS_MAX = 10_000\n",
    "state = game.new_initial_state()\n",
    "action_hist = []\n",
    "state_hist = []\n",
    "\n",
    "randomness = np.random.rand(N_STEPS_MAX * 10000)\n",
    "rand_index = 0\n"
   ]
  },
  {
   "cell_type": "code",
   "execution_count": null,
   "id": "2e70d23d-f136-42e9-a4f0-26da539a706d",
   "metadata": {},
   "outputs": [],
   "source": [
    "def flip_coin(p):\n",
    "    rand_index += 1\n",
    "    return randomness[rand_index] < p\n",
    "\n",
    "failure_count = 0\n",
    "while n_steps < N_STEPS_MAX:\n",
    "    stay = True\n",
    "    node_degree = 1 # Parent\n",
    "    if state.is_chance_node():\n",
    "        legal_actions = state.chance_outcomes()\n",
    "    else:\n",
    "        legal_actions = state.legal_actions()\n",
    "    node_degree += len(legal_actions)\n",
    "\n",
    "    # Should I stay or should I go?\n",
    "    # Stay at node 𝑛 with probability 1−𝑘𝑛/𝑘max\n",
    "    stay_prob = 1 - (node_degree / k_max)\n",
    "    while stay:\n",
    "        stay = flip_coin(stay_prob)\n",
    "        if stay:\n",
    "            n_steps += 1 \n",
    "            continue\n",
    "    else:\n",
    "        if state.is_initial_state():\n",
    "            transition_to_parent = False\n",
    "        else:\n",
    "             transition_to_parent = flip_coin(1 / node_degree)\n",
    "        if transition_to_parent:\n",
    "            state = state_hist.pop()\n",
    "            action = action_hist.pop()\n",
    "            n_steps += 1\n",
    "        else:\n",
    "            if state.is_chance_node():\n",
    "                outcomes = state.chance_outcomes()\n",
    "                action_list, prob_list = zip(*outcomes)\n",
    "                action = np.random.choice(action_list, p=prob_list)\n",
    "            else:\n",
    "                action = random.choice(state.legal_actions(state.current_player()))\n",
    "            # Only go through with this if it's not terminal\n",
    "            clone = state.clone()\n",
    "            clone.apply_action(action)\n",
    "            if not clone.is_terminal(): # TODO: Could be smarter about resmampling here by taking away the same choices\n",
    "                state_hist.append(state.clone())\n",
    "                state = clone\n",
    "                action_hist.append(action)\n",
    "            else:\n",
    "                failure_count += 1\n",
    "\n",
    "# print(state)"
   ]
  },
  {
   "cell_type": "code",
   "execution_count": null,
   "id": "37314593-71e4-4455-b030-0e10b1330aa5",
   "metadata": {},
   "outputs": [],
   "source": []
  },
  {
   "cell_type": "code",
   "execution_count": null,
   "id": "7c9615aa-aade-4ad6-b500-38ff368a3a0f",
   "metadata": {},
   "outputs": [],
   "source": [
    "print(game.new_initial_state())"
   ]
  },
  {
   "cell_type": "code",
   "execution_count": null,
   "id": "8449e10b-3dec-4a67-a47c-6d8f2fda43bb",
   "metadata": {},
   "outputs": [],
   "source": [
    "state.clone()"
   ]
  },
  {
   "cell_type": "code",
   "execution_count": null,
   "id": "5414ccd1-4525-476d-9306-c3a021b3de65",
   "metadata": {},
   "outputs": [],
   "source": [
    "from auctions.webutils import *\n",
    "\n",
    "env_and_model = db_checkpoint_loader(EquilibriumSolverRunCheckpoint.objects.last())"
   ]
  },
  {
   "cell_type": "code",
   "execution_count": null,
   "id": "bf3cebc3-f7aa-4f0d-ad11-c668975fc8f1",
   "metadata": {},
   "outputs": [],
   "source": [
    "env_and_model.agents[0]._rl_agent._get_epsilon(False)"
   ]
  },
  {
   "cell_type": "code",
   "execution_count": null,
   "id": "7d6314a6-26df-4856-b88c-c429e7a77db5",
   "metadata": {},
   "outputs": [],
   "source": [
    "np.random.binomial(1, 0.9)"
   ]
  },
  {
   "cell_type": "code",
   "execution_count": null,
   "id": "1487533e-8087-4600-9895-f4887ef37589",
   "metadata": {},
   "outputs": [],
   "source": [
    "import torch"
   ]
  },
  {
   "cell_type": "code",
   "execution_count": null,
   "id": "72b465fd-f9b6-4acc-bef4-7f781c0bc783",
   "metadata": {},
   "outputs": [],
   "source": []
  }
 ],
 "metadata": {
  "kernelspec": {
   "display_name": "Django Shell-Plus",
   "language": "python",
   "name": "django_extensions"
  },
  "language_info": {
   "codemirror_mode": {
    "name": "ipython",
    "version": 3
   },
   "file_extension": ".py",
   "mimetype": "text/x-python",
   "name": "python",
   "nbconvert_exporter": "python",
   "pygments_lexer": "ipython3",
   "version": "3.8.2"
  }
 },
 "nbformat": 4,
 "nbformat_minor": 5
}
