{
 "cells": [
  {
   "cell_type": "code",
   "execution_count": null,
   "id": "6820aaa5-0e6a-4169-86d7-9bdc5bc15405",
   "metadata": {},
   "outputs": [],
   "source": []
  },
  {
   "cell_type": "code",
   "execution_count": 48,
   "id": "95ca502c-4af5-4680-bc28-14ec5027f1ba",
   "metadata": {},
   "outputs": [
    {
     "name": "stderr",
     "output_type": "stream",
     "text": [
      "INFO:absl:Game loaded\n",
      "INFO:absl:Using game instance: turn_based_simultaneous_game\n",
      "INFO:absl:Game has a state size of 6010, 12 distinct actions, and 2 players\n",
      "INFO:absl:Game has 3 products\n"
     ]
    }
   ],
   "source": [
    "\n",
    "checkpoint = policy_from_checkpoint('/shared/outputs/dec7_big_game_2/lstm_deep', 'checkpoint_latest')"
   ]
  },
  {
   "cell_type": "code",
   "execution_count": 92,
   "id": "5ffddc7b-fa53-43bf-ad80-7706d90f5071",
   "metadata": {},
   "outputs": [],
   "source": [
    "q_network = checkpoint.agents[0]._rl_agent._q_network"
   ]
  },
  {
   "cell_type": "code",
   "execution_count": 93,
   "id": "2864d1c3-89c6-4816-9ca4-7bf3f315ff30",
   "metadata": {},
   "outputs": [],
   "source": [
    "state = game.new_initial_state().child(0).child(0)\n",
    "legal_actions = state.legal_actions()\n",
    "it = state.information_state_tensor()"
   ]
  },
  {
   "cell_type": "code",
   "execution_count": 94,
   "id": "c3c01b46-f0fb-466d-978b-52562139101c",
   "metadata": {},
   "outputs": [
    {
     "data": {
      "text/plain": [
       "tensor([ 0.0555, 10.6634,  8.6882, 16.2662, 45.0000, 21.9578, 17.2361, 15.6083,\n",
       "        18.0281, 14.4786, 14.7735, 13.7235])"
      ]
     },
     "execution_count": 94,
     "metadata": {},
     "output_type": "execute_result"
    }
   ],
   "source": [
    "info_state = q_network.prep_batch([q_network.reshape_infostate(it)])\n",
    "q_values = q_network(info_state).detach()[0]\n",
    "legal_q_values = q_values[legal_actions]\n",
    "legal_q_values"
   ]
  },
  {
   "cell_type": "code",
   "execution_count": 95,
   "id": "c83eb58d-df44-4d36-b8d8-166d0ec84f61",
   "metadata": {},
   "outputs": [],
   "source": [
    "\n",
    "action_dict = get_actions(checkpoint.game)"
   ]
  },
  {
   "cell_type": "code",
   "execution_count": 96,
   "id": "6d4ebf83-c31b-4787-ba6d-ef41fcf17547",
   "metadata": {},
   "outputs": [
    {
     "data": {
      "text/plain": [
       "{'Bid for 0,0,0 licenses @ $0 with activity 0': tensor(0.0555),\n",
       " 'Bid for 0,0,1 licenses @ $25 with activity 25': tensor(10.6634),\n",
       " 'Bid for 0,1,0 licenses @ $50 with activity 50': tensor(8.6882),\n",
       " 'Bid for 0,1,1 licenses @ $75 with activity 75': tensor(16.2662),\n",
       " 'Bid for 1,0,0 licenses @ $75 with activity 75': tensor(45.0000),\n",
       " 'Bid for 1,0,1 licenses @ $100 with activity 100': tensor(21.9578),\n",
       " 'Bid for 1,1,0 licenses @ $125 with activity 125': tensor(17.2361),\n",
       " 'Bid for 1,1,1 licenses @ $150 with activity 150': tensor(15.6083),\n",
       " 'Bid for 2,0,0 licenses @ $150 with activity 150': tensor(18.0281),\n",
       " 'Bid for 2,0,1 licenses @ $175 with activity 175': tensor(14.4786),\n",
       " 'Bid for 2,1,0 licenses @ $200 with activity 200': tensor(14.7735),\n",
       " 'Bid for 2,1,1 licenses @ $225 with activity 225': tensor(13.7235)}"
      ]
     },
     "execution_count": 96,
     "metadata": {},
     "output_type": "execute_result"
    }
   ],
   "source": [
    "{s: q for s,q in zip(action_dict.values(), legal_q_values)}"
   ]
  }
 ],
 "metadata": {
  "kernelspec": {
   "display_name": "Python 3 (ipykernel)",
   "language": "python",
   "name": "python3"
  },
  "language_info": {
   "codemirror_mode": {
    "name": "ipython",
    "version": 3
   },
   "file_extension": ".py",
   "mimetype": "text/x-python",
   "name": "python",
   "nbconvert_exporter": "python",
   "pygments_lexer": "ipython3",
   "version": "3.8.2"
  }
 },
 "nbformat": 4,
 "nbformat_minor": 5
}
