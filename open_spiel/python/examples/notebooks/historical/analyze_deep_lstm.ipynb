{
 "cells": [
  {
   "cell_type": "code",
   "execution_count": 1,
   "id": "feb4d600-f27c-459e-afa4-3f542c5d4d99",
   "metadata": {},
   "outputs": [
    {
     "name": "stdout",
     "output_type": "stream",
     "text": [
      "Populating the interactive namespace from numpy and matplotlib\n"
     ]
    },
    {
     "data": {
      "text/html": [
       "\n",
       "    <div class=\"bk-root\">\n",
       "        <a href=\"https://bokeh.org\" target=\"_blank\" class=\"bk-logo bk-logo-small bk-logo-notebook\"></a>\n",
       "        <span id=\"1002\">Loading BokehJS ...</span>\n",
       "    </div>"
      ]
     },
     "metadata": {},
     "output_type": "display_data"
    },
    {
     "data": {
      "application/javascript": [
       "\n",
       "(function(root) {\n",
       "  function now() {\n",
       "    return new Date();\n",
       "  }\n",
       "\n",
       "  var force = true;\n",
       "\n",
       "  if (typeof root._bokeh_onload_callbacks === \"undefined\" || force === true) {\n",
       "    root._bokeh_onload_callbacks = [];\n",
       "    root._bokeh_is_loading = undefined;\n",
       "  }\n",
       "\n",
       "  var JS_MIME_TYPE = 'application/javascript';\n",
       "  var HTML_MIME_TYPE = 'text/html';\n",
       "  var EXEC_MIME_TYPE = 'application/vnd.bokehjs_exec.v0+json';\n",
       "  var CLASS_NAME = 'output_bokeh rendered_html';\n",
       "\n",
       "  /**\n",
       "   * Render data to the DOM node\n",
       "   */\n",
       "  function render(props, node) {\n",
       "    var script = document.createElement(\"script\");\n",
       "    node.appendChild(script);\n",
       "  }\n",
       "\n",
       "  /**\n",
       "   * Handle when an output is cleared or removed\n",
       "   */\n",
       "  function handleClearOutput(event, handle) {\n",
       "    var cell = handle.cell;\n",
       "\n",
       "    var id = cell.output_area._bokeh_element_id;\n",
       "    var server_id = cell.output_area._bokeh_server_id;\n",
       "    // Clean up Bokeh references\n",
       "    if (id != null && id in Bokeh.index) {\n",
       "      Bokeh.index[id].model.document.clear();\n",
       "      delete Bokeh.index[id];\n",
       "    }\n",
       "\n",
       "    if (server_id !== undefined) {\n",
       "      // Clean up Bokeh references\n",
       "      var cmd = \"from bokeh.io.state import curstate; print(curstate().uuid_to_server['\" + server_id + \"'].get_sessions()[0].document.roots[0]._id)\";\n",
       "      cell.notebook.kernel.execute(cmd, {\n",
       "        iopub: {\n",
       "          output: function(msg) {\n",
       "            var id = msg.content.text.trim();\n",
       "            if (id in Bokeh.index) {\n",
       "              Bokeh.index[id].model.document.clear();\n",
       "              delete Bokeh.index[id];\n",
       "            }\n",
       "          }\n",
       "        }\n",
       "      });\n",
       "      // Destroy server and session\n",
       "      var cmd = \"import bokeh.io.notebook as ion; ion.destroy_server('\" + server_id + \"')\";\n",
       "      cell.notebook.kernel.execute(cmd);\n",
       "    }\n",
       "  }\n",
       "\n",
       "  /**\n",
       "   * Handle when a new output is added\n",
       "   */\n",
       "  function handleAddOutput(event, handle) {\n",
       "    var output_area = handle.output_area;\n",
       "    var output = handle.output;\n",
       "\n",
       "    // limit handleAddOutput to display_data with EXEC_MIME_TYPE content only\n",
       "    if ((output.output_type != \"display_data\") || (!Object.prototype.hasOwnProperty.call(output.data, EXEC_MIME_TYPE))) {\n",
       "      return\n",
       "    }\n",
       "\n",
       "    var toinsert = output_area.element.find(\".\" + CLASS_NAME.split(' ')[0]);\n",
       "\n",
       "    if (output.metadata[EXEC_MIME_TYPE][\"id\"] !== undefined) {\n",
       "      toinsert[toinsert.length - 1].firstChild.textContent = output.data[JS_MIME_TYPE];\n",
       "      // store reference to embed id on output_area\n",
       "      output_area._bokeh_element_id = output.metadata[EXEC_MIME_TYPE][\"id\"];\n",
       "    }\n",
       "    if (output.metadata[EXEC_MIME_TYPE][\"server_id\"] !== undefined) {\n",
       "      var bk_div = document.createElement(\"div\");\n",
       "      bk_div.innerHTML = output.data[HTML_MIME_TYPE];\n",
       "      var script_attrs = bk_div.children[0].attributes;\n",
       "      for (var i = 0; i < script_attrs.length; i++) {\n",
       "        toinsert[toinsert.length - 1].firstChild.setAttribute(script_attrs[i].name, script_attrs[i].value);\n",
       "        toinsert[toinsert.length - 1].firstChild.textContent = bk_div.children[0].textContent\n",
       "      }\n",
       "      // store reference to server id on output_area\n",
       "      output_area._bokeh_server_id = output.metadata[EXEC_MIME_TYPE][\"server_id\"];\n",
       "    }\n",
       "  }\n",
       "\n",
       "  function register_renderer(events, OutputArea) {\n",
       "\n",
       "    function append_mime(data, metadata, element) {\n",
       "      // create a DOM node to render to\n",
       "      var toinsert = this.create_output_subarea(\n",
       "        metadata,\n",
       "        CLASS_NAME,\n",
       "        EXEC_MIME_TYPE\n",
       "      );\n",
       "      this.keyboard_manager.register_events(toinsert);\n",
       "      // Render to node\n",
       "      var props = {data: data, metadata: metadata[EXEC_MIME_TYPE]};\n",
       "      render(props, toinsert[toinsert.length - 1]);\n",
       "      element.append(toinsert);\n",
       "      return toinsert\n",
       "    }\n",
       "\n",
       "    /* Handle when an output is cleared or removed */\n",
       "    events.on('clear_output.CodeCell', handleClearOutput);\n",
       "    events.on('delete.Cell', handleClearOutput);\n",
       "\n",
       "    /* Handle when a new output is added */\n",
       "    events.on('output_added.OutputArea', handleAddOutput);\n",
       "\n",
       "    /**\n",
       "     * Register the mime type and append_mime function with output_area\n",
       "     */\n",
       "    OutputArea.prototype.register_mime_type(EXEC_MIME_TYPE, append_mime, {\n",
       "      /* Is output safe? */\n",
       "      safe: true,\n",
       "      /* Index of renderer in `output_area.display_order` */\n",
       "      index: 0\n",
       "    });\n",
       "  }\n",
       "\n",
       "  // register the mime type if in Jupyter Notebook environment and previously unregistered\n",
       "  if (root.Jupyter !== undefined) {\n",
       "    var events = require('base/js/events');\n",
       "    var OutputArea = require('notebook/js/outputarea').OutputArea;\n",
       "\n",
       "    if (OutputArea.prototype.mime_types().indexOf(EXEC_MIME_TYPE) == -1) {\n",
       "      register_renderer(events, OutputArea);\n",
       "    }\n",
       "  }\n",
       "\n",
       "  \n",
       "  if (typeof (root._bokeh_timeout) === \"undefined\" || force === true) {\n",
       "    root._bokeh_timeout = Date.now() + 5000;\n",
       "    root._bokeh_failed_load = false;\n",
       "  }\n",
       "\n",
       "  var NB_LOAD_WARNING = {'data': {'text/html':\n",
       "     \"<div style='background-color: #fdd'>\\n\"+\n",
       "     \"<p>\\n\"+\n",
       "     \"BokehJS does not appear to have successfully loaded. If loading BokehJS from CDN, this \\n\"+\n",
       "     \"may be due to a slow or bad network connection. Possible fixes:\\n\"+\n",
       "     \"</p>\\n\"+\n",
       "     \"<ul>\\n\"+\n",
       "     \"<li>re-rerun `output_notebook()` to attempt to load from CDN again, or</li>\\n\"+\n",
       "     \"<li>use INLINE resources instead, as so:</li>\\n\"+\n",
       "     \"</ul>\\n\"+\n",
       "     \"<code>\\n\"+\n",
       "     \"from bokeh.resources import INLINE\\n\"+\n",
       "     \"output_notebook(resources=INLINE)\\n\"+\n",
       "     \"</code>\\n\"+\n",
       "     \"</div>\"}};\n",
       "\n",
       "  function display_loaded() {\n",
       "    var el = document.getElementById(\"1002\");\n",
       "    if (el != null) {\n",
       "      el.textContent = \"BokehJS is loading...\";\n",
       "    }\n",
       "    if (root.Bokeh !== undefined) {\n",
       "      if (el != null) {\n",
       "        el.textContent = \"BokehJS \" + root.Bokeh.version + \" successfully loaded.\";\n",
       "      }\n",
       "    } else if (Date.now() < root._bokeh_timeout) {\n",
       "      setTimeout(display_loaded, 100)\n",
       "    }\n",
       "  }\n",
       "\n",
       "\n",
       "  function run_callbacks() {\n",
       "    try {\n",
       "      root._bokeh_onload_callbacks.forEach(function(callback) {\n",
       "        if (callback != null)\n",
       "          callback();\n",
       "      });\n",
       "    } finally {\n",
       "      delete root._bokeh_onload_callbacks\n",
       "    }\n",
       "    console.debug(\"Bokeh: all callbacks have finished\");\n",
       "  }\n",
       "\n",
       "  function load_libs(css_urls, js_urls, callback) {\n",
       "    if (css_urls == null) css_urls = [];\n",
       "    if (js_urls == null) js_urls = [];\n",
       "\n",
       "    root._bokeh_onload_callbacks.push(callback);\n",
       "    if (root._bokeh_is_loading > 0) {\n",
       "      console.debug(\"Bokeh: BokehJS is being loaded, scheduling callback at\", now());\n",
       "      return null;\n",
       "    }\n",
       "    if (js_urls == null || js_urls.length === 0) {\n",
       "      run_callbacks();\n",
       "      return null;\n",
       "    }\n",
       "    console.debug(\"Bokeh: BokehJS not loaded, scheduling load and callback at\", now());\n",
       "    root._bokeh_is_loading = css_urls.length + js_urls.length;\n",
       "\n",
       "    function on_load() {\n",
       "      root._bokeh_is_loading--;\n",
       "      if (root._bokeh_is_loading === 0) {\n",
       "        console.debug(\"Bokeh: all BokehJS libraries/stylesheets loaded\");\n",
       "        run_callbacks()\n",
       "      }\n",
       "    }\n",
       "\n",
       "    function on_error(url) {\n",
       "      console.error(\"failed to load \" + url);\n",
       "    }\n",
       "\n",
       "    for (let i = 0; i < css_urls.length; i++) {\n",
       "      const url = css_urls[i];\n",
       "      const element = document.createElement(\"link\");\n",
       "      element.onload = on_load;\n",
       "      element.onerror = on_error.bind(null, url);\n",
       "      element.rel = \"stylesheet\";\n",
       "      element.type = \"text/css\";\n",
       "      element.href = url;\n",
       "      console.debug(\"Bokeh: injecting link tag for BokehJS stylesheet: \", url);\n",
       "      document.body.appendChild(element);\n",
       "    }\n",
       "\n",
       "    const hashes = {\"https://cdn.bokeh.org/bokeh/release/bokeh-2.3.3.min.js\": \"dM3QQsP+wXdHg42wTqW85BjZQdLNNIXqlPw/BgKoExPmTG7ZLML4EGqLMfqHT6ON\", \"https://cdn.bokeh.org/bokeh/release/bokeh-tables-2.3.3.min.js\": \"8x57I4YuIfu8XyZfFo0XVr2WAT8EK4rh/uDe3wF7YuW2FNUSNEpJbsPaB1nJ2fz2\", \"https://cdn.bokeh.org/bokeh/release/bokeh-widgets-2.3.3.min.js\": \"3QTqdz9LyAm2i0sG5XTePsHec3UHWwVsrOL68SYRoAXsafvfAyqtQ+h440+qIBhS\"};\n",
       "\n",
       "    for (let i = 0; i < js_urls.length; i++) {\n",
       "      const url = js_urls[i];\n",
       "      const element = document.createElement('script');\n",
       "      element.onload = on_load;\n",
       "      element.onerror = on_error.bind(null, url);\n",
       "      element.async = false;\n",
       "      element.src = url;\n",
       "      if (url in hashes) {\n",
       "        element.crossOrigin = \"anonymous\";\n",
       "        element.integrity = \"sha384-\" + hashes[url];\n",
       "      }\n",
       "      console.debug(\"Bokeh: injecting script tag for BokehJS library: \", url);\n",
       "      document.head.appendChild(element);\n",
       "    }\n",
       "  };\n",
       "\n",
       "  function inject_raw_css(css) {\n",
       "    const element = document.createElement(\"style\");\n",
       "    element.appendChild(document.createTextNode(css));\n",
       "    document.body.appendChild(element);\n",
       "  }\n",
       "\n",
       "  \n",
       "  var js_urls = [\"https://cdn.bokeh.org/bokeh/release/bokeh-2.3.3.min.js\", \"https://cdn.bokeh.org/bokeh/release/bokeh-widgets-2.3.3.min.js\", \"https://cdn.bokeh.org/bokeh/release/bokeh-tables-2.3.3.min.js\"];\n",
       "  var css_urls = [];\n",
       "  \n",
       "\n",
       "  var inline_js = [\n",
       "    function(Bokeh) {\n",
       "      Bokeh.set_log_level(\"info\");\n",
       "    },\n",
       "    function(Bokeh) {\n",
       "    \n",
       "    \n",
       "    }\n",
       "  ];\n",
       "\n",
       "  function run_inline_js() {\n",
       "    \n",
       "    if (root.Bokeh !== undefined || force === true) {\n",
       "      \n",
       "    for (var i = 0; i < inline_js.length; i++) {\n",
       "      inline_js[i].call(root, root.Bokeh);\n",
       "    }\n",
       "    if (force === true) {\n",
       "        display_loaded();\n",
       "      }} else if (Date.now() < root._bokeh_timeout) {\n",
       "      setTimeout(run_inline_js, 100);\n",
       "    } else if (!root._bokeh_failed_load) {\n",
       "      console.log(\"Bokeh: BokehJS failed to load within specified timeout.\");\n",
       "      root._bokeh_failed_load = true;\n",
       "    } else if (force !== true) {\n",
       "      var cell = $(document.getElementById(\"1002\")).parents('.cell').data().cell;\n",
       "      cell.output_area.append_execute_result(NB_LOAD_WARNING)\n",
       "    }\n",
       "\n",
       "  }\n",
       "\n",
       "  if (root._bokeh_is_loading === 0) {\n",
       "    console.debug(\"Bokeh: BokehJS loaded, going straight to plotting\");\n",
       "    run_inline_js();\n",
       "  } else {\n",
       "    load_libs(css_urls, js_urls, function() {\n",
       "      console.debug(\"Bokeh: BokehJS plotting callback run at\", now());\n",
       "      run_inline_js();\n",
       "    });\n",
       "  }\n",
       "}(window));"
      ],
      "application/vnd.bokehjs_load.v0+json": "\n(function(root) {\n  function now() {\n    return new Date();\n  }\n\n  var force = true;\n\n  if (typeof root._bokeh_onload_callbacks === \"undefined\" || force === true) {\n    root._bokeh_onload_callbacks = [];\n    root._bokeh_is_loading = undefined;\n  }\n\n  \n\n  \n  if (typeof (root._bokeh_timeout) === \"undefined\" || force === true) {\n    root._bokeh_timeout = Date.now() + 5000;\n    root._bokeh_failed_load = false;\n  }\n\n  var NB_LOAD_WARNING = {'data': {'text/html':\n     \"<div style='background-color: #fdd'>\\n\"+\n     \"<p>\\n\"+\n     \"BokehJS does not appear to have successfully loaded. If loading BokehJS from CDN, this \\n\"+\n     \"may be due to a slow or bad network connection. Possible fixes:\\n\"+\n     \"</p>\\n\"+\n     \"<ul>\\n\"+\n     \"<li>re-rerun `output_notebook()` to attempt to load from CDN again, or</li>\\n\"+\n     \"<li>use INLINE resources instead, as so:</li>\\n\"+\n     \"</ul>\\n\"+\n     \"<code>\\n\"+\n     \"from bokeh.resources import INLINE\\n\"+\n     \"output_notebook(resources=INLINE)\\n\"+\n     \"</code>\\n\"+\n     \"</div>\"}};\n\n  function display_loaded() {\n    var el = document.getElementById(\"1002\");\n    if (el != null) {\n      el.textContent = \"BokehJS is loading...\";\n    }\n    if (root.Bokeh !== undefined) {\n      if (el != null) {\n        el.textContent = \"BokehJS \" + root.Bokeh.version + \" successfully loaded.\";\n      }\n    } else if (Date.now() < root._bokeh_timeout) {\n      setTimeout(display_loaded, 100)\n    }\n  }\n\n\n  function run_callbacks() {\n    try {\n      root._bokeh_onload_callbacks.forEach(function(callback) {\n        if (callback != null)\n          callback();\n      });\n    } finally {\n      delete root._bokeh_onload_callbacks\n    }\n    console.debug(\"Bokeh: all callbacks have finished\");\n  }\n\n  function load_libs(css_urls, js_urls, callback) {\n    if (css_urls == null) css_urls = [];\n    if (js_urls == null) js_urls = [];\n\n    root._bokeh_onload_callbacks.push(callback);\n    if (root._bokeh_is_loading > 0) {\n      console.debug(\"Bokeh: BokehJS is being loaded, scheduling callback at\", now());\n      return null;\n    }\n    if (js_urls == null || js_urls.length === 0) {\n      run_callbacks();\n      return null;\n    }\n    console.debug(\"Bokeh: BokehJS not loaded, scheduling load and callback at\", now());\n    root._bokeh_is_loading = css_urls.length + js_urls.length;\n\n    function on_load() {\n      root._bokeh_is_loading--;\n      if (root._bokeh_is_loading === 0) {\n        console.debug(\"Bokeh: all BokehJS libraries/stylesheets loaded\");\n        run_callbacks()\n      }\n    }\n\n    function on_error(url) {\n      console.error(\"failed to load \" + url);\n    }\n\n    for (let i = 0; i < css_urls.length; i++) {\n      const url = css_urls[i];\n      const element = document.createElement(\"link\");\n      element.onload = on_load;\n      element.onerror = on_error.bind(null, url);\n      element.rel = \"stylesheet\";\n      element.type = \"text/css\";\n      element.href = url;\n      console.debug(\"Bokeh: injecting link tag for BokehJS stylesheet: \", url);\n      document.body.appendChild(element);\n    }\n\n    const hashes = {\"https://cdn.bokeh.org/bokeh/release/bokeh-2.3.3.min.js\": \"dM3QQsP+wXdHg42wTqW85BjZQdLNNIXqlPw/BgKoExPmTG7ZLML4EGqLMfqHT6ON\", \"https://cdn.bokeh.org/bokeh/release/bokeh-tables-2.3.3.min.js\": \"8x57I4YuIfu8XyZfFo0XVr2WAT8EK4rh/uDe3wF7YuW2FNUSNEpJbsPaB1nJ2fz2\", \"https://cdn.bokeh.org/bokeh/release/bokeh-widgets-2.3.3.min.js\": \"3QTqdz9LyAm2i0sG5XTePsHec3UHWwVsrOL68SYRoAXsafvfAyqtQ+h440+qIBhS\"};\n\n    for (let i = 0; i < js_urls.length; i++) {\n      const url = js_urls[i];\n      const element = document.createElement('script');\n      element.onload = on_load;\n      element.onerror = on_error.bind(null, url);\n      element.async = false;\n      element.src = url;\n      if (url in hashes) {\n        element.crossOrigin = \"anonymous\";\n        element.integrity = \"sha384-\" + hashes[url];\n      }\n      console.debug(\"Bokeh: injecting script tag for BokehJS library: \", url);\n      document.head.appendChild(element);\n    }\n  };\n\n  function inject_raw_css(css) {\n    const element = document.createElement(\"style\");\n    element.appendChild(document.createTextNode(css));\n    document.body.appendChild(element);\n  }\n\n  \n  var js_urls = [\"https://cdn.bokeh.org/bokeh/release/bokeh-2.3.3.min.js\", \"https://cdn.bokeh.org/bokeh/release/bokeh-widgets-2.3.3.min.js\", \"https://cdn.bokeh.org/bokeh/release/bokeh-tables-2.3.3.min.js\"];\n  var css_urls = [];\n  \n\n  var inline_js = [\n    function(Bokeh) {\n      Bokeh.set_log_level(\"info\");\n    },\n    function(Bokeh) {\n    \n    \n    }\n  ];\n\n  function run_inline_js() {\n    \n    if (root.Bokeh !== undefined || force === true) {\n      \n    for (var i = 0; i < inline_js.length; i++) {\n      inline_js[i].call(root, root.Bokeh);\n    }\n    if (force === true) {\n        display_loaded();\n      }} else if (Date.now() < root._bokeh_timeout) {\n      setTimeout(run_inline_js, 100);\n    } else if (!root._bokeh_failed_load) {\n      console.log(\"Bokeh: BokehJS failed to load within specified timeout.\");\n      root._bokeh_failed_load = true;\n    } else if (force !== true) {\n      var cell = $(document.getElementById(\"1002\")).parents('.cell').data().cell;\n      cell.output_area.append_execute_result(NB_LOAD_WARNING)\n    }\n\n  }\n\n  if (root._bokeh_is_loading === 0) {\n    console.debug(\"Bokeh: BokehJS loaded, going straight to plotting\");\n    run_inline_js();\n  } else {\n    load_libs(css_urls, js_urls, function() {\n      console.debug(\"Bokeh: BokehJS plotting callback run at\", now());\n      run_inline_js();\n    });\n  }\n}(window));"
     },
     "metadata": {},
     "output_type": "display_data"
    }
   ],
   "source": [
    "%load_ext autoreload\n",
    "%autoreload 2\n",
    "%pylab inline\n",
    "\n",
    "import sys\n",
    "import glob\n",
    "import pandas as pd\n",
    "import os\n",
    "import seaborn as sns\n",
    "# from tqdm import tqdm_notebook as tqdm\n",
    "from tqdm import tqdm\n",
    "import pickle\n",
    "from statsmodels.distributions.empirical_distribution import ECDF\n",
    "from collections import defaultdict\n",
    "import logging\n",
    "from open_spiel.python.examples.ubc_mccfr_cpp_example import action_to_bids\n",
    "from open_spiel.python.examples.ubc_nfsp_example import policy_from_checkpoint\n",
    "from open_spiel.python.pytorch.ubc_nfsp import NFSP\n",
    "import bokeh\n",
    "from bokeh.plotting import figure, show\n",
    "from bokeh.io import output_notebook\n",
    "from bokeh.models import HoverTool, ColumnDataSource, ColorBar, LogColorMapper, LinearColorMapper\n",
    "from bokeh.transform import linear_cmap, log_cmap\n",
    "\n",
    "output_notebook()\n",
    "logging.basicConfig(format='%(asctime)s %(levelname)s:%(message)s', level=logging.DEBUG, datefmt='%I:%M:%S')\n",
    "logger = logging.getLogger()\n",
    "logger.setLevel(logging.INFO)"
   ]
  },
  {
   "cell_type": "code",
   "execution_count": 288,
   "id": "f39ab657-3e19-4932-a061-a235f6bb1a7d",
   "metadata": {},
   "outputs": [],
   "source": [
    "EXPERIMENT_DIR = '/shared/outputs/big_game_2/lstm_deep'"
   ]
  },
  {
   "cell_type": "code",
   "execution_count": 289,
   "id": "1c2ef918-c5e5-4a18-857a-052d67a2e7d1",
   "metadata": {},
   "outputs": [
    {
     "name": "stderr",
     "output_type": "stream",
     "text": [
      "11:45:41 INFO:Game loaded\n",
      "11:45:41 INFO:Using game instance: turn_based_simultaneous_game\n",
      "11:45:41 INFO:Game has a state size of 6010, 12 distinct actions, and 2 players\n",
      "11:45:41 INFO:Game has 3 products\n"
     ]
    }
   ],
   "source": [
    "CHECKPOINT_NAME = 'checkpoint_latest'\n",
    "checkpoint = policy_from_checkpoint(EXPERIMENT_DIR, CHECKPOINT_NAME)"
   ]
  },
  {
   "cell_type": "code",
   "execution_count": 290,
   "id": "0f4862fd-dd18-4b91-a783-4076ef55029f",
   "metadata": {},
   "outputs": [],
   "source": [
    "\n",
    "import torch.nn.functional as F\n",
    "def noisy_act(temperature):\n",
    "    def _act(self, info_state, legal_actions):\n",
    "        info_state = self._avg_network.prep_batch([info_state])\n",
    "        action_values = self._avg_network(info_state) * temperature\n",
    "        self._last_action_values = action_values[0]\n",
    "\n",
    "        legal_values = action_values[0][legal_actions]\n",
    "        probs = np.zeros(self._num_actions)\n",
    "        probs[legal_actions] = F.softmax(legal_values, dim=0).detach().numpy()\n",
    "        probs /= sum(probs)\n",
    "        action = np.random.choice(len(probs), p=probs)\n",
    "        return action, probs\n",
    "    \n",
    "    return _act"
   ]
  },
  {
   "cell_type": "code",
   "execution_count": 291,
   "id": "266dc00f-2f45-43d0-a18e-3e51988089bd",
   "metadata": {},
   "outputs": [],
   "source": [
    "checkpoint.agents[1]._act = noisy_act(0.1).__get__(checkpoint.agents[1], NFSP)"
   ]
  },
  {
   "cell_type": "code",
   "execution_count": 292,
   "id": "321e35f2-6368-4697-a0fa-fffb393ba9f8",
   "metadata": {},
   "outputs": [],
   "source": [
    "hidden_layers = {}\n",
    "def get_input(name):\n",
    "    def hook(model, input, output):\n",
    "        if name in hidden_layers:\n",
    "            del hidden_layers[name]\n",
    "        hidden_layers[name] = input[0].detach()\n",
    "    return hook\n",
    "\n",
    "for agent in checkpoint.agents:\n",
    "    agent._avg_network.output_layer.register_forward_hook(get_input('last_layer'))"
   ]
  },
  {
   "cell_type": "code",
   "execution_count": 293,
   "id": "8d2491af-d34c-4f86-ab4a-67c51517fe22",
   "metadata": {},
   "outputs": [
    {
     "name": "stderr",
     "output_type": "stream",
     "text": [
      "100%|██████████| 10000/10000 [00:48<00:00, 204.77it/s]\n"
     ]
    }
   ],
   "source": [
    "records = []\n",
    "\n",
    "for episode in tqdm(range(10000)):\n",
    "    time_step = checkpoint.env.reset()\n",
    "\n",
    "    while not time_step.last():\n",
    "        player_id = time_step.observations[\"current_player\"]\n",
    "        agent = checkpoint.agents[player_id]\n",
    "\n",
    "        legal_actions = time_step.observations[\"legal_actions\"][player_id]\n",
    "        info_state_flat = time_step.observations[\"info_state\"][player_id]\n",
    "        info_state = agent._avg_network.reshape_infostate(info_state_flat)\n",
    "        info_state_string = str(checkpoint.env._state.information_state_string())\n",
    "        agent_action, agent_probs = agent._act(info_state, legal_actions)\n",
    "        prob_dict = dict()\n",
    "        for i in range(len(agent_probs)):\n",
    "            prob_dict[f'Prob_{i}'] = agent_probs[i]\n",
    "        \n",
    "        action_list = [agent_action]\n",
    "        time_step = checkpoint.env.step(action_list)\n",
    "        \n",
    "        if len(info_state) > 1:\n",
    "            last_round_infostate_tensor = info_state[-2]\n",
    "            num_products = 3 # TODO: read from game_config\n",
    "            current_prices = last_round_infostate_tensor[-num_products:]\n",
    "            processed_demand = last_round_infostate_tensor[-3 * num_products: -2 * num_products]\n",
    "            sor_exposure = float(current_prices @ processed_demand)\n",
    "        else:\n",
    "            sor_exposure = 0\n",
    "        \n",
    "        record = {\n",
    "            'infostate_string': info_state_string,\n",
    "            'infostate_tensor': info_state,\n",
    "            'agent_embedding': hidden_layers['last_layer'],\n",
    "            'agent_id': player_id,\n",
    "            'sor_exposure': sor_exposure,\n",
    "            'round': len(info_state),\n",
    "        }\n",
    "        record.update(prob_dict)\n",
    "        records.append(record)"
   ]
  },
  {
   "cell_type": "code",
   "execution_count": 294,
   "id": "a5358ba3-30e8-4d81-b8cf-7e94aea39490",
   "metadata": {},
   "outputs": [],
   "source": [
    "df = pd.DataFrame.from_records(records)"
   ]
  },
  {
   "cell_type": "code",
   "execution_count": 295,
   "id": "d6f2c303-50ee-49ea-822a-bd9deef5589f",
   "metadata": {},
   "outputs": [
    {
     "name": "stdout",
     "output_type": "stream",
     "text": [
      "After dropping, 152 unique infostates remaining\n"
     ]
    }
   ],
   "source": [
    "df = df.drop_duplicates(subset=['infostate_string'])\n",
    "print(f'After dropping, {len(df)} unique infostates remaining')"
   ]
  },
  {
   "cell_type": "code",
   "execution_count": 296,
   "id": "fe1aac53-c8de-469c-bf98-4923525fb230",
   "metadata": {},
   "outputs": [],
   "source": [
    "OUTPUT_DIR = EXPERIMENT_DIR + '/analysis'\n",
    "!mkdir -p {OUTPUT_DIR}\n",
    "with open(f'{OUTPUT_DIR}/{CHECKPOINT_NAME}.pkl', 'wb') as f:\n",
    "    pickle.dump(df, f)\n"
   ]
  },
  {
   "cell_type": "code",
   "execution_count": 297,
   "id": "ee08bbcf-794e-45b8-9777-07fdf35d6c10",
   "metadata": {},
   "outputs": [],
   "source": [
    "# with open(f'{OUTPUT_DIR}/{CHECKPOINT_NAME}.pkl', 'rb') as f:\n",
    "#     df = pickle.load(f)\n"
   ]
  },
  {
   "cell_type": "code",
   "execution_count": 298,
   "id": "6ea4eb44-da5b-4ede-b2fc-d2ea646affb6",
   "metadata": {},
   "outputs": [
    {
     "name": "stdout",
     "output_type": "stream",
     "text": [
      "Type/Player combo contains 29 infostates\n"
     ]
    }
   ],
   "source": [
    "sub_df = df.query('agent_id == 0 and infostate_string.str.contains(\"Values:120\")', engine='python').copy() # Silly way to filter for type... need better\n",
    "\n",
    "embeddings = np.stack(sub_df.agent_embedding.map(lambda t: t.numpy()).values).squeeze()\n",
    "infostates = sub_df.infostate_tensor.map(lambda t: t.numpy()).values\n",
    "infostate_strings = sub_df.infostate_string.values\n",
    "# probs = np.stack(sub_df.agent_probs.values).squeeze()\n",
    "\n",
    "print(f\"Type/Player combo contains {len(sub_df)} infostates\")"
   ]
  },
  {
   "cell_type": "code",
   "execution_count": 299,
   "id": "d80277d8-e5c6-492a-8d08-b3706def819c",
   "metadata": {},
   "outputs": [],
   "source": [
    "from sklearn.decomposition import PCA\n",
    "\n",
    "def projectPCA(X, components=10):\n",
    "    \"\"\"\n",
    "    Find the principal axes of X.\n",
    "    \n",
    "    Arguments:\n",
    "    - X: (n, d) array of data\n",
    "    - components: number of PCA components to return\n",
    "    \n",
    "    Returns:\n",
    "    - X': (n, components) array of data, projected onto principal components\n",
    "    - explained_variance: ratio of variance explained by each axis\n",
    "    \"\"\"\n",
    "    pca = PCA(n_components=components)\n",
    "    X_transformed = pca.fit_transform(X)\n",
    "    return X_transformed, pca.explained_variance_ratio_\n",
    "\n",
    "def truncate_colormap(cmap, minval=0.0, maxval=1.0, n=100):\n",
    "    new_cmap = plt.matplotlib.colors.LinearSegmentedColormap.from_list(\n",
    "        'trunc({n},{a:.2f},{b:.2f})'.format(n=cmap.name, a=minval, b=maxval),\n",
    "        cmap(np.linspace(minval, maxval, n)))\n",
    "    return new_cmap\n",
    "\n",
    "blues_trunc = truncate_colormap(plt.get_cmap('Blues'), 0.2, 1.0)"
   ]
  },
  {
   "cell_type": "code",
   "execution_count": 300,
   "id": "b439f3d0-1ff5-403d-a41c-fa8c59ad1a2c",
   "metadata": {},
   "outputs": [],
   "source": [
    "pca, variance = projectPCA(embeddings)"
   ]
  },
  {
   "cell_type": "code",
   "execution_count": 301,
   "id": "f1718d10-dfef-4bb3-b633-fd9025309263",
   "metadata": {},
   "outputs": [],
   "source": [
    "sub_df['pca_0'] = pca[:, 0]\n",
    "sub_df['pca_1'] = pca[:, 1]"
   ]
  },
  {
   "cell_type": "code",
   "execution_count": 302,
   "id": "56a11a5f-789d-4036-8a9d-765ffa44a104",
   "metadata": {},
   "outputs": [
    {
     "name": "stdout",
     "output_type": "stream",
     "text": [
      "Bid for 0,0,0 licenses @ $0 with activity 0\n",
      "Bid for 0,0,1 licenses @ $25 with activity 25\n",
      "Bid for 0,1,0 licenses @ $50 with activity 50\n",
      "Bid for 0,1,1 licenses @ $75 with activity 75\n",
      "Bid for 1,0,0 licenses @ $75 with activity 75\n",
      "Bid for 1,0,1 licenses @ $100 with activity 100\n",
      "Bid for 1,1,0 licenses @ $125 with activity 125\n",
      "Bid for 1,1,1 licenses @ $150 with activity 150\n",
      "Bid for 2,0,0 licenses @ $150 with activity 150\n",
      "Bid for 2,0,1 licenses @ $175 with activity 175\n",
      "Bid for 2,1,0 licenses @ $200 with activity 200\n",
      "Bid for 2,1,1 licenses @ $225 with activity 225\n"
     ]
    }
   ],
   "source": [
    "def get_actions(game):\n",
    "    state = checkpoint.game.new_initial_state()\n",
    "    # Skip over chance nodes\n",
    "    while state.current_player() < 0:\n",
    "        state = state.child(0) # Let chance choose first outcome. We're assuming all moves are possible at starting prices for all players, that may not really be true though\n",
    "\n",
    "    # Now we are at a player state\n",
    "    for i in range(len(state.legal_actions())):\n",
    "        print(state.action_to_string(i))\n",
    "\n",
    "get_actions(checkpoint.game)"
   ]
  },
  {
   "cell_type": "code",
   "execution_count": 306,
   "id": "3cbb4349-db87-49b7-92c7-0df5dd0f6b3c",
   "metadata": {},
   "outputs": [],
   "source": [
    "from bokeh.palettes import Magma256"
   ]
  },
  {
   "cell_type": "code",
   "execution_count": 313,
   "id": "e1ad0f50-20bc-47f5-a64d-5b3489aa1421",
   "metadata": {},
   "outputs": [
    {
     "data": {
      "text/html": [
       "\n",
       "\n",
       "\n",
       "\n",
       "\n",
       "\n",
       "  <div class=\"bk-root\" id=\"31655f54-dedb-4939-82fb-28c4c231f86b\" data-root-id=\"1472463\"></div>\n"
      ]
     },
     "metadata": {},
     "output_type": "display_data"
    },
    {
     "data": {
      "application/javascript": [
       "(function(root) {\n",
       "  function embed_document(root) {\n",
       "    \n",
       "  var docs_json = {\"4447c40c-54d7-49e7-a696-97b56e736bea\":{\"defs\":[],\"roots\":{\"references\":[{\"attributes\":{\"below\":[{\"id\":\"1472474\"}],\"center\":[{\"id\":\"1472477\"},{\"id\":\"1472481\"}],\"height\":400,\"left\":[{\"id\":\"1472478\"}],\"renderers\":[{\"id\":\"1472500\"}],\"right\":[{\"id\":\"1472504\"}],\"title\":{\"id\":\"1472464\"},\"toolbar\":{\"id\":\"1472489\"},\"width\":900,\"x_range\":{\"id\":\"1472466\"},\"x_scale\":{\"id\":\"1472470\"},\"y_range\":{\"id\":\"1472468\"},\"y_scale\":{\"id\":\"1472472\"}},\"id\":\"1472463\",\"subtype\":\"Figure\",\"type\":\"Plot\"},{\"attributes\":{\"axis\":{\"id\":\"1472478\"},\"dimension\":1,\"ticker\":null},\"id\":\"1472481\",\"type\":\"Grid\"},{\"attributes\":{},\"id\":\"1472466\",\"type\":\"DataRange1d\"},{\"attributes\":{},\"id\":\"1472479\",\"type\":\"BasicTicker\"},{\"attributes\":{\"data\":{\"Prob_0\":{\"__ndarray__\":\"U3ymrppVgz/8KwkrjPt9Pxhb5Y15+30/9ShR2IT7fT8rlWkAgft9P2UwCgQ9hn0/CL0q1jSGfT8KFBfaM4Z9P2NY8Wg5hn0/d3uMgLIrfj85SNHpVrp+P+0+6umpK34/DmSTfKIrfj+9UQDuP7p+Pwf7ScowGH8/YUq8M9hRfz9C+mwH6bPtP4jWZ7Eyun4/bZ03l/MDfj9oBg+FVxh/PzBPyNwHUn8/coGGxKJ+fz8cdyNL6LPtPzsgrQZJ+30/Nwwmkeez7T+9YIyXkit+P7m6iUZj+30/Y72swBsYfz8oEe/7gwp+Pw==\",\"dtype\":\"float64\",\"order\":\"little\",\"shape\":[29]},\"Prob_1\":{\"__ndarray__\":\"0wxF22ntSj/unwszBodCP/lAlmgHh0I/4ZpAewiHQj94PkEABYdCP+kXg0L3W0I/i7jIzepbQj8uODmQ4VtCP46aj0X/W0I/59VYwCoUQz8ZH9GRm6VDPy4iRYZIFEM//wsScjUUQz/e1/OovqVDP9s5BxKnAkQ/29+/jK07RD/xLZjEt2CyP1Icq9aepUM/i3b29S+SQj+SwqmuhQJEP/Pn612MO0Q/AAbvAsJqRD8fR+SmvWCyPxwhIITUhkI/RZ7PdsNgsj/Kvqf6UBRDPxopRJDbhkI/ZHjX63YCRD/Tz0xx55pCPw==\",\"dtype\":\"float64\",\"order\":\"little\",\"shape\":[29]},\"Prob_10\":{\"__ndarray__\":\"rmD8ZZ+69j4AAAAAAAAAAAAAAAAAAAAAAAAAAAAAAAAAAAAAAAAAAAAAAAAAAAAAAAAAAAAAAAAAAAAAAAAAAAAAAAAAAAAAAAAAAAAAAAAAAAAAAAAAAAAAAAAAAAAAAAAAAAAAAAAAAAAAAAAAAAAAAAAAAAAAAAAAAAAAAAAAAAAAAAAAAAAAAAAAAAAAcPXPwkD+1j4AAAAAAAAAAAAAAAAAAAAAAAAAAAAAAAAAAAAAAAAAACwDG8V87dY+AAAAAAAAAAAAAAAAAAAAAEUQh4zb7dY+AAAAAAAAAAAAAAAAAAAAAA==\",\"dtype\":\"float64\",\"order\":\"little\",\"shape\":[29]},\"Prob_11\":{\"__ndarray__\":\"zcWJS76N9D4AAAAAAAAAAAAAAAAAAAAAAAAAAAAAAAAAAAAAAAAAAAAAAAAAAAAAAAAAAAAAAAAAAAAAAAAAAAAAAAAAAAAAAAAAAAAAAAAAAAAAAAAAAAAAAAAAAAAAAAAAAAAAAAAAAAAAAAAAAAAAAAAAAAAAAAAAAAAAAAAAAAAAAAAAAAAAAAAAAAAA/jJpOOBp0z4AAAAAAAAAAAAAAAAAAAAAAAAAAAAAAAAAAAAAAAAAAAAAAAAAAAAAAAAAAAAAAAAAAAAAAAAAAIuWk2/GVtM+AAAAAAAAAAAAAAAAAAAAAA==\",\"dtype\":\"float64\",\"order\":\"little\",\"shape\":[29]},\"Prob_2\":{\"__ndarray__\":\"qLLYBk5k9j69U+rPBgHXPjt5qQo1Adc+muwaehwB1z50AlGAHwHXPpCqWWQWy88+893edxbLzz4Qlxj8TcvPPqk3ocncys8+Y+6EIIqMzD6KBSIMQoXLPqS0YQkvjMw+jukJmzKMzD5YBIqMy4TLPiIBDy26IMs+m5X5UFLwyj4AAAAAAAAAANb87bLEhMs+i2gUQ88V1z7mfn6IRiHLPlJ8O33f8Mo++9nbQ/fayj4AAAAAAAAAACxLH6W2ANc+AAAAAAAAAABX2ACY0IvMPqgydyyKANc+7cWrBJ8gyz4b/YZVtybXPg==\",\"dtype\":\"float64\",\"order\":\"little\",\"shape\":[29]},\"Prob_3\":{\"__ndarray__\":\"MsKPY8Wt9z4tLBHvmDfYPkpCOYtxN9g+s2DL2Yk32D5uR1UgfzfYPjChRgITotA+JPN8rAei0D7HxbLOCqLQPjK+CQUPotA+mEaK4GGyzT5JeGoLhYPMPopYwmlAss0+bV4gnDGyzT7Q9v2MQYPMPo7DayyFCsw+M9yGsYXQyz4AAAAAAAAAACoqddImg8w+iziY5nlL2D7fGbQH4ArMPqR4JL3m0Ms+uv37Y6S6yz4AAAAAAAAAAPZ7ZKVuN9g+AAAAAAAAAAAubK63CrLNPjUCb6ugN9g+FlTAQ1QKzD5uQ6UWllrYPg==\",\"dtype\":\"float64\",\"order\":\"little\",\"shape\":[29]},\"Prob_4\":{\"__ndarray__\":\"ji8tj1Kq7z9CS82JT7/vP8jEtq5Pv+8/lGPdl0+/7z8zzG+gT7/vP6AwWERMwO8/IsTWV0zA7z8q3Q5cTMDvP3sEnklMwO8/kNCTANW+7z9FIxbpk73vP3G9bgrVvu8/6kYRHtW+7z8FfHYOlL3vP90T1ynBvO8/01b/sz+87z8AAAAAAAAAADOk7DCUve8/88Y+POy+7z92k4DkwLzvP9BlvVw/vO8/Rk2PZNq77z8AAAAAAAAAAPC4EWcKv+8/AAAAAAAAAABjaRs31b7vP/cyCoUAv+8/jN4GYMG87z+UGIV9LL/vPw==\",\"dtype\":\"float64\",\"order\":\"little\",\"shape\":[29]},\"Prob_5\":{\"__ndarray__\":\"uR0dgUej+D4AAAAAAAAAAAAAAAAAAAAAAAAAAAAAAAAAAAAAAAAAAAAAAAAAAAAAAAAAAAAAAAAAAAAAAAAAAAAAAAAAAAAAAAAAAAAAAAAAAAAAAAAAAAAAAAAAAAAAAAAAAAAAAAAAAAAAAAAAAAAAAAAAAAAAAAAAAAAAAAAAAAAAAAAAAAAAAAAAAAAATiTeqwsc2j4AAAAAAAAAAAAAAAAAAAAAAAAAAAAAAAAAAAAAAAAAAHCAy0UPBto+AAAAAAAAAAAAAAAAAAAAAKus5smbBdo+AAAAAAAAAAAAAAAAAAAAAA==\",\"dtype\":\"float64\",\"order\":\"little\",\"shape\":[29]},\"Prob_6\":{\"__ndarray__\":\"1C9GhQAC9z4AAAAAAAAAAAAAAAAAAAAAAAAAAAAAAAAAAAAAAAAAAAAAAAAAAAAAAAAAAAAAAAAAAAAAAAAAAAAAAAAAAAAAAAAAAAAAAAAAAAAAAAAAAAAAAAAAAAAAAAAAAAAAAAAAAAAAAAAAAAAAAAAAAAAAAAAAAAAAAAAAAAAAAAAAAAAAAAAAAAAAIxW1Aeec1j4AAAAAAAAAAAAAAAAAAAAAAAAAAAAAAAAAAAAAAAAAAM7kBGUoitY+AAAAAAAAAAAAAAAAAAAAAEqJ26xjitY+AAAAAAAAAAAAAAAAAAAAAA==\",\"dtype\":\"float64\",\"order\":\"little\",\"shape\":[29]},\"Prob_7\":{\"__ndarray__\":\"t8KQ42Ct9z4AAAAAAAAAAAAAAAAAAAAAAAAAAAAAAAAAAAAAAAAAAAAAAAAAAAAAAAAAAAAAAAAAAAAAAAAAAAAAAAAAAAAAAAAAAAAAAAAAAAAAAAAAAAAAAAAAAAAAAAAAAAAAAAAAAAAAAAAAAAAAAAAAAAAAAAAAAAAAAAAAAAAAAAAAAAAAAAAAAAAAvlXVRE6w1z4AAAAAAAAAAAAAAAAAAAAAAAAAAAAAAAAAAAAAAAAAABz4QeVunNc+AAAAAAAAAAAAAAAAAAAAAGKw8kuSnNc+AAAAAAAAAAAAAAAAAAAAAA==\",\"dtype\":\"float64\",\"order\":\"little\",\"shape\":[29]},\"Prob_8\":{\"__ndarray__\":\"iVpwiJfE9T4AAAAAAAAAAAAAAAAAAAAAAAAAAAAAAAAAAAAAAAAAAAAAAAAAAAAAAAAAAAAAAAAAAAAAAAAAAAAAAAAAAAAAAAAAAAAAAAAAAAAAAAAAAAAAAAAAAAAAAAAAAAAAAAAAAAAAAAAAAAAAAAAAAAAAAAAAAAAAAAAAAAAAAAAAAAAAAAAAAAAAIa1OPCfB1D4AAAAAAAAAAAAAAAAAAAAAAAAAAAAAAAAAAAAAAAAAAOi/m+T6sdQ+AAAAAAAAAAAAAAAAAAAAAEaQbA4sstQ+AAAAAAAAAAAAAAAAAAAAAA==\",\"dtype\":\"float64\",\"order\":\"little\",\"shape\":[29]},\"Prob_9\":{\"__ndarray__\":\"U75LJB9k9z4AAAAAAAAAAAAAAAAAAAAAAAAAAAAAAAAAAAAAAAAAAAAAAAAAAAAAAAAAAAAAAAAAAAAAAAAAAAAAAAAAAAAAAAAAAAAAAAAAAAAAAAAAAAAAAAAAAAAAAAAAAAAAAAAAAAAAAAAAAAAAAAAAAAAAAAAAAAAAAAAAAAAAAAAAAAAAAAAAAAAAMLvMRFit1z4AAAAAAAAAAAAAAAAAAAAAAAAAAAAAAAAAAAAAAAAAANqXQkU8n9c+AAAAAAAAAAAAAAAAAAAAANU08Kt+n9c+AAAAAAAAAAAAAAAAAAAAAA==\",\"dtype\":\"float64\",\"order\":\"little\",\"shape\":[29]},\"agent_id\":[0,0,0,0,0,0,0,0,0,0,0,0,0,0,0,0,0,0,0,0,0,0,0,0,0,0,0,0,0],\"index\":[0,12,24,28,138,234,246,268,370,564,810,3416,5124,5542,5544,5546,5656,6128,6916,8170,8172,8174,9492,10546,10972,17404,19108,19294,24044],\"infostate_string\":[\"\",\"1, 0, 0<br>1, 0, 0<br>3,0,0\",\"1, 0, 0<br>1, 0, 0<br>3,1,1\",\"1, 0, 0<br>1, 0, 0<br>3,0,1\",\"1, 0, 0<br>1, 0, 0<br>3,1,0\",\"1, 0, 0 | 1, 0, 0<br>1, 0, 0 | 1, 0, 0<br>3,0,1 | 3,0,1\",\"1, 0, 0 | 1, 0, 0<br>1, 0, 0 | 1, 0, 0<br>3,1,0 | 3,1,0\",\"1, 0, 0 | 1, 0, 0<br>1, 0, 0 | 1, 0, 0<br>3,1,1 | 3,1,1\",\"1, 0, 0 | 1, 0, 0<br>1, 0, 0 | 1, 0, 0<br>3,0,0 | 3,0,0\",\"1, 0, 0 | 1, 0, 0 | 1, 0, 0<br>1, 0, 0 | 1, 0, 0 | 1, 0, 0<br>3,1,1 | 3,1,1 | 3,1,1\",\"1, 0, 0 | 1, 0, 0 | 1, 0, 0 | 1, 0, 0<br>1, 0, 0 | 1, 0, 0 | 1, 0, 0 | 1, 0, 0<br>3,1,1 | 3,1,1 | 3,1,1 | 3,1,1\",\"1, 0, 0 | 1, 0, 0 | 1, 0, 0<br>1, 0, 0 | 1, 0, 0 | 1, 0, 0<br>3,0,1 | 3,0,1 | 3,0,1\",\"1, 0, 0 | 1, 0, 0 | 1, 0, 0<br>1, 0, 0 | 1, 0, 0 | 1, 0, 0<br>3,1,0 | 3,1,0 | 3,1,0\",\"1, 0, 0 | 1, 0, 0 | 1, 0, 0 | 1, 0, 0<br>1, 0, 0 | 1, 0, 0 | 1, 0, 0 | 1, 0, 0<br>3,0,1 | 3,0,1 | 3,0,1 | 3,0,1\",\"1, 0, 0 | 1, 0, 0 | 1, 0, 0 | 1, 0, 0 | 1, 0, 0<br>1, 0, 0 | 1, 0, 0 | 1, 0, 0 | 1, 0, 0 | 1, 0, 0<br>3,0,1 | 3,0,1 | 3,0,1 | 3,0,1 | 3,0,1\",\"1, 0, 0 | 1, 0, 0 | 1, 0, 0 | 1, 0, 0 | 1, 0, 0 | 1, 0, 0<br>1, 0, 0 | 1, 0, 0 | 1, 0, 0 | 1, 0, 0 | 1, 0, 0 | 1, 0, 0<br>3,0,1 | 3,0,1 | 3,0,1 | 3,0,1 | 3,0,1 | 3,0,1\",\"0, 0, 1<br>0, 0, 1<br>1,0,2\",\"1, 0, 0 | 1, 0, 0 | 1, 0, 0 | 1, 0, 0<br>1, 0, 0 | 1, 0, 0 | 1, 0, 0 | 1, 0, 0<br>3,1,0 | 3,1,0 | 3,1,0 | 3,1,0\",\"2, 1, 1<br>2, 1, 1<br>2,1,2\",\"1, 0, 0 | 1, 0, 0 | 1, 0, 0 | 1, 0, 0 | 1, 0, 0<br>1, 0, 0 | 1, 0, 0 | 1, 0, 0 | 1, 0, 0 | 1, 0, 0<br>3,1,1 | 3,1,1 | 3,1,1 | 3,1,1 | 3,1,1\",\"1, 0, 0 | 1, 0, 0 | 1, 0, 0 | 1, 0, 0 | 1, 0, 0 | 1, 0, 0<br>1, 0, 0 | 1, 0, 0 | 1, 0, 0 | 1, 0, 0 | 1, 0, 0 | 1, 0, 0<br>3,1,1 | 3,1,1 | 3,1,1 | 3,1,1 | 3,1,1 | 3,1,1\",\"1, 0, 0 | 1, 0, 0 | 1, 0, 0 | 1, 0, 0 | 1, 0, 0 | 1, 0, 0 | 1, 0, 0<br>1, 0, 0 | 1, 0, 0 | 1, 0, 0 | 1, 0, 0 | 1, 0, 0 | 1, 0, 0 | 1, 0, 0<br>3,1,1 | 3,1,1 | 3,1,1 | 3,1,1 | 3,1,1 | 3,1,1 | 3,1,1\",\"0, 0, 1<br>0, 0, 1<br>2,0,2\",\"2, 1, 0<br>2, 1, 0<br>3,1,0\",\"0, 0, 1<br>0, 0, 1<br>2,1,2\",\"1, 0, 0 | 1, 0, 0 | 1, 0, 0<br>1, 0, 0 | 1, 0, 0 | 1, 0, 0<br>3,0,0 | 3,0,0 | 3,0,0\",\"2, 1, 1<br>2, 1, 1<br>3,1,1\",\"1, 0, 0 | 1, 0, 0 | 1, 0, 0 | 1, 0, 0 | 1, 0, 0<br>1, 0, 0 | 1, 0, 0 | 1, 0, 0 | 1, 0, 0 | 1, 0, 0<br>3,1,0 | 3,1,0 | 3,1,0 | 3,1,0 | 3,1,0\",\"0, 1, 1<br>0, 1, 1<br>1,2,1\"],\"pca_0\":{\"__ndarray__\":\"TSWYP22nqz7WpKs+O6arPv6lqz4w9Ie9MPKHvf/vh71k9oe9uhKEviYTtb4MFoS+0BSEvscXtb6jpM6+tKDcvpHQqz77FbW+K9SrPoCfzr61m9y+JA7lvmDPqz6Yqas+BM6rPigYhL44q6s+RKLOvh32qz4=\",\"dtype\":\"float32\",\"order\":\"little\",\"shape\":[29]},\"pca_1\":{\"__ndarray__\":\"W3qJPuVqMr2VWzK9YGMyvfpiMr0DfT+9hn8/vXl0P71KiD+9xqv2uxi81jwt2/a7cxP3u8a21jzDCks9HciEPeRjNb3TmtY8oHc1vWEKSz0oxYQ9nZOZPdRbNb36djK9q1M1vb9E97sDgDK96vBKPYaeN70=\",\"dtype\":\"float32\",\"order\":\"little\",\"shape\":[29]},\"round\":[1,2,2,2,2,3,3,3,3,4,5,4,4,5,6,7,2,5,2,6,7,8,2,2,2,4,2,6,2],\"sor_exposure\":{\"__ndarray__\":\"AAAAAAAAAAAAAAAAAMBSQAAAAAAAwFJAAAAAAADAUkAAAAAAAMBSQAAAAAAAoFRAAAAAAACgVEAAAAAAAKBUQAAAAAAAoFRAAAAAAACwVkAAAADAzPRYQAAAAAAAsFZAAAAAAACwVkAAAADAzPRYQAAAACCuc1tAAAAAwHIyXkAAAAAAAAA5QAAAAMDM9FhAAAAAAAAgbEAAAAAgrnNbQAAAAMByMl5AAAAAIL+bYEAAAAAAAAA5QAAAAAAAAGlAAAAAAAAAOUAAAAAAALBWQAAAAAAAIGxAAAAAIK5zW0AAAAAAAMBSQA==\",\"dtype\":\"float64\",\"order\":\"little\",\"shape\":[29]}},\"selected\":{\"id\":\"1478099\"},\"selection_policy\":{\"id\":\"1478098\"}},\"id\":\"1472462\",\"type\":\"ColumnDataSource\"},{\"attributes\":{\"formatter\":{\"id\":\"1478092\"},\"major_label_policy\":{\"id\":\"1478091\"},\"ticker\":{\"id\":\"1472479\"}},\"id\":\"1472478\",\"type\":\"LinearAxis\"},{\"attributes\":{\"bottom_units\":\"screen\",\"fill_alpha\":0.5,\"fill_color\":\"lightgrey\",\"left_units\":\"screen\",\"level\":\"overlay\",\"line_alpha\":1.0,\"line_color\":\"black\",\"line_dash\":[4,4],\"line_width\":2,\"right_units\":\"screen\",\"syncable\":false,\"top_units\":\"screen\"},\"id\":\"1472488\",\"type\":\"BoxAnnotation\"},{\"attributes\":{\"axis\":{\"id\":\"1472474\"},\"ticker\":null},\"id\":\"1472477\",\"type\":\"Grid\"},{\"attributes\":{\"high\":0.9922239110955264,\"low\":-0.1,\"palette\":[\"#FBFCBF\",\"#FBFABD\",\"#FBF9BB\",\"#FBF7B9\",\"#FCF5B7\",\"#FCF3B5\",\"#FCF1B3\",\"#FCF0B1\",\"#FCEEB0\",\"#FCECAE\",\"#FCEAAC\",\"#FCE8AA\",\"#FCE6A8\",\"#FCE5A6\",\"#FCE3A5\",\"#FDE1A3\",\"#FDDFA1\",\"#FDDD9F\",\"#FDDC9D\",\"#FDDA9C\",\"#FDD89A\",\"#FDD698\",\"#FDD497\",\"#FDD295\",\"#FDD193\",\"#FDCF92\",\"#FDCD90\",\"#FECB8E\",\"#FEC98D\",\"#FEC78B\",\"#FEC689\",\"#FEC488\",\"#FEC286\",\"#FEC085\",\"#FEBE83\",\"#FEBC82\",\"#FEBB80\",\"#FEB97F\",\"#FEB77D\",\"#FEB57C\",\"#FEB37B\",\"#FEB179\",\"#FEAF78\",\"#FEAE76\",\"#FEAC75\",\"#FEAA74\",\"#FEA873\",\"#FEA671\",\"#FDA470\",\"#FDA26F\",\"#FDA16E\",\"#FD9F6C\",\"#FD9D6B\",\"#FD9B6A\",\"#FD9969\",\"#FD9768\",\"#FD9567\",\"#FC9366\",\"#FC9265\",\"#FC9064\",\"#FC8E63\",\"#FC8C63\",\"#FB8A62\",\"#FB8861\",\"#FB8660\",\"#FB8460\",\"#FA825F\",\"#FA805E\",\"#FA7F5E\",\"#F97D5D\",\"#F97B5D\",\"#F9795C\",\"#F8775C\",\"#F8755C\",\"#F7735C\",\"#F7715B\",\"#F6705B\",\"#F66E5B\",\"#F56C5B\",\"#F56A5B\",\"#F4685B\",\"#F3675B\",\"#F3655C\",\"#F2635C\",\"#F1615C\",\"#F0605D\",\"#EF5E5D\",\"#EE5D5D\",\"#EE5B5E\",\"#ED595F\",\"#EC585F\",\"#EB5660\",\"#EA5560\",\"#E85461\",\"#E75262\",\"#E65162\",\"#E55063\",\"#E44E64\",\"#E24D65\",\"#E14C66\",\"#E04B66\",\"#DE4A67\",\"#DD4968\",\"#DC4869\",\"#DA4769\",\"#D9466A\",\"#D7456B\",\"#D6446C\",\"#D4436D\",\"#D3426D\",\"#D1426E\",\"#D0416F\",\"#CE4070\",\"#CD3F70\",\"#CB3E71\",\"#CA3E72\",\"#C83D72\",\"#C63C73\",\"#C53C74\",\"#C33B74\",\"#C23A75\",\"#C03A75\",\"#BE3976\",\"#BD3977\",\"#BB3877\",\"#B93778\",\"#B83778\",\"#B63679\",\"#B53679\",\"#B3357A\",\"#B1357A\",\"#B0347B\",\"#AE347B\",\"#AC337B\",\"#AB337C\",\"#A9327C\",\"#A7317D\",\"#A6317D\",\"#A4307D\",\"#A3307E\",\"#A12F7E\",\"#9F2F7E\",\"#9E2E7E\",\"#9C2E7F\",\"#9A2D7F\",\"#992D7F\",\"#972C7F\",\"#952C80\",\"#942B80\",\"#922B80\",\"#912A80\",\"#8F2A80\",\"#8D2980\",\"#8C2980\",\"#8A2881\",\"#892881\",\"#872781\",\"#852681\",\"#842681\",\"#822581\",\"#812581\",\"#7F2481\",\"#7E2481\",\"#7C2381\",\"#7A2281\",\"#792281\",\"#772181\",\"#762181\",\"#742081\",\"#731F81\",\"#711F81\",\"#6F1E81\",\"#6E1E81\",\"#6C1D80\",\"#6B1C80\",\"#691C80\",\"#681B80\",\"#661A80\",\"#651A80\",\"#63197F\",\"#61187F\",\"#60187F\",\"#5E177F\",\"#5D177E\",\"#5B167E\",\"#5A157E\",\"#58157E\",\"#57147D\",\"#55137D\",\"#53137C\",\"#52127C\",\"#50127B\",\"#4F117B\",\"#4D117A\",\"#4B1079\",\"#4A1079\",\"#481078\",\"#470F77\",\"#450F76\",\"#430F75\",\"#420F74\",\"#400F73\",\"#3E0F72\",\"#3C0F71\",\"#3B0F6F\",\"#390F6E\",\"#370F6C\",\"#350F6A\",\"#341068\",\"#321067\",\"#301065\",\"#2F1062\",\"#2D1060\",\"#2B115E\",\"#2A115C\",\"#281159\",\"#261157\",\"#251155\",\"#231152\",\"#221150\",\"#20114D\",\"#1F114B\",\"#1E1049\",\"#1C1046\",\"#1B1044\",\"#1A1041\",\"#180F3F\",\"#170F3C\",\"#160E3A\",\"#150E38\",\"#140D35\",\"#120D33\",\"#110C31\",\"#100C2F\",\"#0F0B2C\",\"#0E0A2A\",\"#0D0A28\",\"#0C0926\",\"#0B0824\",\"#0A0722\",\"#09071F\",\"#08061D\",\"#07051B\",\"#060519\",\"#050417\",\"#040415\",\"#040313\",\"#030311\",\"#02020F\",\"#02020D\",\"#01010B\",\"#010109\",\"#010007\",\"#000006\",\"#000004\",\"#000003\"]},\"id\":\"1472496\",\"type\":\"LinearColorMapper\"},{\"attributes\":{\"color_mapper\":{\"id\":\"1472496\"},\"label_standoff\":12,\"major_label_policy\":{\"id\":\"1478090\"}},\"id\":\"1472504\",\"type\":\"ColorBar\"},{\"attributes\":{},\"id\":\"1472468\",\"type\":\"DataRange1d\"},{\"attributes\":{\"source\":{\"id\":\"1472462\"}},\"id\":\"1472501\",\"type\":\"CDSView\"},{\"attributes\":{},\"id\":\"1472475\",\"type\":\"BasicTicker\"},{\"attributes\":{},\"id\":\"1478090\",\"type\":\"NoOverlap\"},{\"attributes\":{\"formatter\":{\"id\":\"1478095\"},\"major_label_policy\":{\"id\":\"1478094\"},\"ticker\":{\"id\":\"1472475\"}},\"id\":\"1472474\",\"type\":\"LinearAxis\"},{\"attributes\":{},\"id\":\"1472472\",\"type\":\"LinearScale\"},{\"attributes\":{\"fill_alpha\":{\"value\":0.3},\"fill_color\":{\"field\":\"Prob_0\",\"transform\":{\"id\":\"1472496\"}},\"line_alpha\":{\"value\":0.3},\"line_color\":{\"field\":\"Prob_0\",\"transform\":{\"id\":\"1472496\"}},\"size\":{\"value\":10},\"x\":{\"field\":\"pca_0\"},\"y\":{\"field\":\"pca_1\"}},\"id\":\"1472498\",\"type\":\"Circle\"},{\"attributes\":{\"data_source\":{\"id\":\"1472462\"},\"glyph\":{\"id\":\"1472498\"},\"hover_glyph\":null,\"muted_glyph\":null,\"nonselection_glyph\":{\"id\":\"1472499\"},\"view\":{\"id\":\"1472501\"}},\"id\":\"1472500\",\"type\":\"GlyphRenderer\"},{\"attributes\":{},\"id\":\"1472470\",\"type\":\"LinearScale\"},{\"attributes\":{\"callback\":null,\"tooltips\":[[\"Infostate\",\"@infostate_string\"],[\"Prob\",\"@Prob_0{(.00)}\"],[\"SoRExposure\",\"@sor_exposure\"],[\"Round\",\"@round\"]]},\"id\":\"1472502\",\"type\":\"HoverTool\"},{\"attributes\":{},\"id\":\"1478091\",\"type\":\"AllLabels\"},{\"attributes\":{},\"id\":\"1478092\",\"type\":\"BasicTickFormatter\"},{\"attributes\":{\"fill_alpha\":{\"value\":0.1},\"fill_color\":{\"field\":\"Prob_0\",\"transform\":{\"id\":\"1472496\"}},\"line_alpha\":{\"value\":0.1},\"line_color\":{\"field\":\"Prob_0\",\"transform\":{\"id\":\"1472496\"}},\"size\":{\"value\":10},\"x\":{\"field\":\"pca_0\"},\"y\":{\"field\":\"pca_1\"}},\"id\":\"1472499\",\"type\":\"Circle\"},{\"attributes\":{},\"id\":\"1472482\",\"type\":\"PanTool\"},{\"attributes\":{},\"id\":\"1478094\",\"type\":\"AllLabels\"},{\"attributes\":{},\"id\":\"1472483\",\"type\":\"WheelZoomTool\"},{\"attributes\":{},\"id\":\"1478095\",\"type\":\"BasicTickFormatter\"},{\"attributes\":{\"overlay\":{\"id\":\"1472488\"}},\"id\":\"1472484\",\"type\":\"BoxZoomTool\"},{\"attributes\":{},\"id\":\"1478098\",\"type\":\"UnionRenderers\"},{\"attributes\":{},\"id\":\"1472485\",\"type\":\"SaveTool\"},{\"attributes\":{},\"id\":\"1478099\",\"type\":\"Selection\"},{\"attributes\":{},\"id\":\"1472486\",\"type\":\"ResetTool\"},{\"attributes\":{\"text\":\"Action 0: 0 A, 0 B, 0 C\"},\"id\":\"1472464\",\"type\":\"Title\"},{\"attributes\":{},\"id\":\"1472487\",\"type\":\"HelpTool\"},{\"attributes\":{\"active_multi\":null,\"tools\":[{\"id\":\"1472482\"},{\"id\":\"1472483\"},{\"id\":\"1472484\"},{\"id\":\"1472485\"},{\"id\":\"1472486\"},{\"id\":\"1472487\"},{\"id\":\"1472502\"}]},\"id\":\"1472489\",\"type\":\"Toolbar\"}],\"root_ids\":[\"1472463\"]},\"title\":\"Bokeh Application\",\"version\":\"2.3.3\"}};\n",
       "  var render_items = [{\"docid\":\"4447c40c-54d7-49e7-a696-97b56e736bea\",\"root_ids\":[\"1472463\"],\"roots\":{\"1472463\":\"31655f54-dedb-4939-82fb-28c4c231f86b\"}}];\n",
       "  root.Bokeh.embed.embed_items_notebook(docs_json, render_items);\n",
       "\n",
       "  }\n",
       "  if (root.Bokeh !== undefined) {\n",
       "    embed_document(root);\n",
       "  } else {\n",
       "    var attempts = 0;\n",
       "    var timer = setInterval(function(root) {\n",
       "      if (root.Bokeh !== undefined) {\n",
       "        clearInterval(timer);\n",
       "        embed_document(root);\n",
       "      } else {\n",
       "        attempts++;\n",
       "        if (attempts > 100) {\n",
       "          clearInterval(timer);\n",
       "          console.log(\"Bokeh: ERROR: Unable to run BokehJS code because BokehJS library is missing\");\n",
       "        }\n",
       "      }\n",
       "    }, 10, root)\n",
       "  }\n",
       "})(window);"
      ],
      "application/vnd.bokehjs_exec.v0+json": ""
     },
     "metadata": {
      "application/vnd.bokehjs_exec.v0+json": {
       "id": "1472463"
      }
     },
     "output_type": "display_data"
    },
    {
     "data": {
      "text/html": [
       "\n",
       "\n",
       "\n",
       "\n",
       "\n",
       "\n",
       "  <div class=\"bk-root\" id=\"941b03a7-5c43-4d9f-b332-1dd721a9b9a0\" data-root-id=\"1478155\"></div>\n"
      ]
     },
     "metadata": {},
     "output_type": "display_data"
    },
    {
     "data": {
      "application/javascript": [
       "(function(root) {\n",
       "  function embed_document(root) {\n",
       "    \n",
       "  var docs_json = {\"f810f654-4222-480f-8e3a-826da39d1888\":{\"defs\":[],\"roots\":{\"references\":[{\"attributes\":{\"below\":[{\"id\":\"1478166\"}],\"center\":[{\"id\":\"1478169\"},{\"id\":\"1478173\"}],\"height\":400,\"left\":[{\"id\":\"1478170\"}],\"renderers\":[{\"id\":\"1478192\"}],\"right\":[{\"id\":\"1478196\"}],\"title\":{\"id\":\"1478156\"},\"toolbar\":{\"id\":\"1478181\"},\"width\":900,\"x_range\":{\"id\":\"1478158\"},\"x_scale\":{\"id\":\"1478162\"},\"y_range\":{\"id\":\"1478160\"},\"y_scale\":{\"id\":\"1478164\"}},\"id\":\"1478155\",\"subtype\":\"Figure\",\"type\":\"Plot\"},{\"attributes\":{},\"id\":\"1478178\",\"type\":\"ResetTool\"},{\"attributes\":{},\"id\":\"1478158\",\"type\":\"DataRange1d\"},{\"attributes\":{},\"id\":\"1478179\",\"type\":\"HelpTool\"},{\"attributes\":{\"text\":\"Action 1: 0 A, 0 B, 1 C\"},\"id\":\"1478156\",\"type\":\"Title\"},{\"attributes\":{\"data\":{\"Prob_0\":{\"__ndarray__\":\"U3ymrppVgz/8KwkrjPt9Pxhb5Y15+30/9ShR2IT7fT8rlWkAgft9P2UwCgQ9hn0/CL0q1jSGfT8KFBfaM4Z9P2NY8Wg5hn0/d3uMgLIrfj85SNHpVrp+P+0+6umpK34/DmSTfKIrfj+9UQDuP7p+Pwf7ScowGH8/YUq8M9hRfz9C+mwH6bPtP4jWZ7Eyun4/bZ03l/MDfj9oBg+FVxh/PzBPyNwHUn8/coGGxKJ+fz8cdyNL6LPtPzsgrQZJ+30/Nwwmkeez7T+9YIyXkit+P7m6iUZj+30/Y72swBsYfz8oEe/7gwp+Pw==\",\"dtype\":\"float64\",\"order\":\"little\",\"shape\":[29]},\"Prob_1\":{\"__ndarray__\":\"0wxF22ntSj/unwszBodCP/lAlmgHh0I/4ZpAewiHQj94PkEABYdCP+kXg0L3W0I/i7jIzepbQj8uODmQ4VtCP46aj0X/W0I/59VYwCoUQz8ZH9GRm6VDPy4iRYZIFEM//wsScjUUQz/e1/OovqVDP9s5BxKnAkQ/29+/jK07RD/xLZjEt2CyP1Icq9aepUM/i3b29S+SQj+SwqmuhQJEP/Pn612MO0Q/AAbvAsJqRD8fR+SmvWCyPxwhIITUhkI/RZ7PdsNgsj/Kvqf6UBRDPxopRJDbhkI/ZHjX63YCRD/Tz0xx55pCPw==\",\"dtype\":\"float64\",\"order\":\"little\",\"shape\":[29]},\"Prob_10\":{\"__ndarray__\":\"rmD8ZZ+69j4AAAAAAAAAAAAAAAAAAAAAAAAAAAAAAAAAAAAAAAAAAAAAAAAAAAAAAAAAAAAAAAAAAAAAAAAAAAAAAAAAAAAAAAAAAAAAAAAAAAAAAAAAAAAAAAAAAAAAAAAAAAAAAAAAAAAAAAAAAAAAAAAAAAAAAAAAAAAAAAAAAAAAAAAAAAAAAAAAAAAAcPXPwkD+1j4AAAAAAAAAAAAAAAAAAAAAAAAAAAAAAAAAAAAAAAAAACwDG8V87dY+AAAAAAAAAAAAAAAAAAAAAEUQh4zb7dY+AAAAAAAAAAAAAAAAAAAAAA==\",\"dtype\":\"float64\",\"order\":\"little\",\"shape\":[29]},\"Prob_11\":{\"__ndarray__\":\"zcWJS76N9D4AAAAAAAAAAAAAAAAAAAAAAAAAAAAAAAAAAAAAAAAAAAAAAAAAAAAAAAAAAAAAAAAAAAAAAAAAAAAAAAAAAAAAAAAAAAAAAAAAAAAAAAAAAAAAAAAAAAAAAAAAAAAAAAAAAAAAAAAAAAAAAAAAAAAAAAAAAAAAAAAAAAAAAAAAAAAAAAAAAAAA/jJpOOBp0z4AAAAAAAAAAAAAAAAAAAAAAAAAAAAAAAAAAAAAAAAAAAAAAAAAAAAAAAAAAAAAAAAAAAAAAAAAAIuWk2/GVtM+AAAAAAAAAAAAAAAAAAAAAA==\",\"dtype\":\"float64\",\"order\":\"little\",\"shape\":[29]},\"Prob_2\":{\"__ndarray__\":\"qLLYBk5k9j69U+rPBgHXPjt5qQo1Adc+muwaehwB1z50AlGAHwHXPpCqWWQWy88+893edxbLzz4Qlxj8TcvPPqk3ocncys8+Y+6EIIqMzD6KBSIMQoXLPqS0YQkvjMw+jukJmzKMzD5YBIqMy4TLPiIBDy26IMs+m5X5UFLwyj4AAAAAAAAAANb87bLEhMs+i2gUQ88V1z7mfn6IRiHLPlJ8O33f8Mo++9nbQ/fayj4AAAAAAAAAACxLH6W2ANc+AAAAAAAAAABX2ACY0IvMPqgydyyKANc+7cWrBJ8gyz4b/YZVtybXPg==\",\"dtype\":\"float64\",\"order\":\"little\",\"shape\":[29]},\"Prob_3\":{\"__ndarray__\":\"MsKPY8Wt9z4tLBHvmDfYPkpCOYtxN9g+s2DL2Yk32D5uR1UgfzfYPjChRgITotA+JPN8rAei0D7HxbLOCqLQPjK+CQUPotA+mEaK4GGyzT5JeGoLhYPMPopYwmlAss0+bV4gnDGyzT7Q9v2MQYPMPo7DayyFCsw+M9yGsYXQyz4AAAAAAAAAACoqddImg8w+iziY5nlL2D7fGbQH4ArMPqR4JL3m0Ms+uv37Y6S6yz4AAAAAAAAAAPZ7ZKVuN9g+AAAAAAAAAAAubK63CrLNPjUCb6ugN9g+FlTAQ1QKzD5uQ6UWllrYPg==\",\"dtype\":\"float64\",\"order\":\"little\",\"shape\":[29]},\"Prob_4\":{\"__ndarray__\":\"ji8tj1Kq7z9CS82JT7/vP8jEtq5Pv+8/lGPdl0+/7z8zzG+gT7/vP6AwWERMwO8/IsTWV0zA7z8q3Q5cTMDvP3sEnklMwO8/kNCTANW+7z9FIxbpk73vP3G9bgrVvu8/6kYRHtW+7z8FfHYOlL3vP90T1ynBvO8/01b/sz+87z8AAAAAAAAAADOk7DCUve8/88Y+POy+7z92k4DkwLzvP9BlvVw/vO8/Rk2PZNq77z8AAAAAAAAAAPC4EWcKv+8/AAAAAAAAAABjaRs31b7vP/cyCoUAv+8/jN4GYMG87z+UGIV9LL/vPw==\",\"dtype\":\"float64\",\"order\":\"little\",\"shape\":[29]},\"Prob_5\":{\"__ndarray__\":\"uR0dgUej+D4AAAAAAAAAAAAAAAAAAAAAAAAAAAAAAAAAAAAAAAAAAAAAAAAAAAAAAAAAAAAAAAAAAAAAAAAAAAAAAAAAAAAAAAAAAAAAAAAAAAAAAAAAAAAAAAAAAAAAAAAAAAAAAAAAAAAAAAAAAAAAAAAAAAAAAAAAAAAAAAAAAAAAAAAAAAAAAAAAAAAATiTeqwsc2j4AAAAAAAAAAAAAAAAAAAAAAAAAAAAAAAAAAAAAAAAAAHCAy0UPBto+AAAAAAAAAAAAAAAAAAAAAKus5smbBdo+AAAAAAAAAAAAAAAAAAAAAA==\",\"dtype\":\"float64\",\"order\":\"little\",\"shape\":[29]},\"Prob_6\":{\"__ndarray__\":\"1C9GhQAC9z4AAAAAAAAAAAAAAAAAAAAAAAAAAAAAAAAAAAAAAAAAAAAAAAAAAAAAAAAAAAAAAAAAAAAAAAAAAAAAAAAAAAAAAAAAAAAAAAAAAAAAAAAAAAAAAAAAAAAAAAAAAAAAAAAAAAAAAAAAAAAAAAAAAAAAAAAAAAAAAAAAAAAAAAAAAAAAAAAAAAAAIxW1Aeec1j4AAAAAAAAAAAAAAAAAAAAAAAAAAAAAAAAAAAAAAAAAAM7kBGUoitY+AAAAAAAAAAAAAAAAAAAAAEqJ26xjitY+AAAAAAAAAAAAAAAAAAAAAA==\",\"dtype\":\"float64\",\"order\":\"little\",\"shape\":[29]},\"Prob_7\":{\"__ndarray__\":\"t8KQ42Ct9z4AAAAAAAAAAAAAAAAAAAAAAAAAAAAAAAAAAAAAAAAAAAAAAAAAAAAAAAAAAAAAAAAAAAAAAAAAAAAAAAAAAAAAAAAAAAAAAAAAAAAAAAAAAAAAAAAAAAAAAAAAAAAAAAAAAAAAAAAAAAAAAAAAAAAAAAAAAAAAAAAAAAAAAAAAAAAAAAAAAAAAvlXVRE6w1z4AAAAAAAAAAAAAAAAAAAAAAAAAAAAAAAAAAAAAAAAAABz4QeVunNc+AAAAAAAAAAAAAAAAAAAAAGKw8kuSnNc+AAAAAAAAAAAAAAAAAAAAAA==\",\"dtype\":\"float64\",\"order\":\"little\",\"shape\":[29]},\"Prob_8\":{\"__ndarray__\":\"iVpwiJfE9T4AAAAAAAAAAAAAAAAAAAAAAAAAAAAAAAAAAAAAAAAAAAAAAAAAAAAAAAAAAAAAAAAAAAAAAAAAAAAAAAAAAAAAAAAAAAAAAAAAAAAAAAAAAAAAAAAAAAAAAAAAAAAAAAAAAAAAAAAAAAAAAAAAAAAAAAAAAAAAAAAAAAAAAAAAAAAAAAAAAAAAIa1OPCfB1D4AAAAAAAAAAAAAAAAAAAAAAAAAAAAAAAAAAAAAAAAAAOi/m+T6sdQ+AAAAAAAAAAAAAAAAAAAAAEaQbA4sstQ+AAAAAAAAAAAAAAAAAAAAAA==\",\"dtype\":\"float64\",\"order\":\"little\",\"shape\":[29]},\"Prob_9\":{\"__ndarray__\":\"U75LJB9k9z4AAAAAAAAAAAAAAAAAAAAAAAAAAAAAAAAAAAAAAAAAAAAAAAAAAAAAAAAAAAAAAAAAAAAAAAAAAAAAAAAAAAAAAAAAAAAAAAAAAAAAAAAAAAAAAAAAAAAAAAAAAAAAAAAAAAAAAAAAAAAAAAAAAAAAAAAAAAAAAAAAAAAAAAAAAAAAAAAAAAAAMLvMRFit1z4AAAAAAAAAAAAAAAAAAAAAAAAAAAAAAAAAAAAAAAAAANqXQkU8n9c+AAAAAAAAAAAAAAAAAAAAANU08Kt+n9c+AAAAAAAAAAAAAAAAAAAAAA==\",\"dtype\":\"float64\",\"order\":\"little\",\"shape\":[29]},\"agent_id\":[0,0,0,0,0,0,0,0,0,0,0,0,0,0,0,0,0,0,0,0,0,0,0,0,0,0,0,0,0],\"index\":[0,12,24,28,138,234,246,268,370,564,810,3416,5124,5542,5544,5546,5656,6128,6916,8170,8172,8174,9492,10546,10972,17404,19108,19294,24044],\"infostate_string\":[\"\",\"1, 0, 0<br>1, 0, 0<br>3,0,0\",\"1, 0, 0<br>1, 0, 0<br>3,1,1\",\"1, 0, 0<br>1, 0, 0<br>3,0,1\",\"1, 0, 0<br>1, 0, 0<br>3,1,0\",\"1, 0, 0 | 1, 0, 0<br>1, 0, 0 | 1, 0, 0<br>3,0,1 | 3,0,1\",\"1, 0, 0 | 1, 0, 0<br>1, 0, 0 | 1, 0, 0<br>3,1,0 | 3,1,0\",\"1, 0, 0 | 1, 0, 0<br>1, 0, 0 | 1, 0, 0<br>3,1,1 | 3,1,1\",\"1, 0, 0 | 1, 0, 0<br>1, 0, 0 | 1, 0, 0<br>3,0,0 | 3,0,0\",\"1, 0, 0 | 1, 0, 0 | 1, 0, 0<br>1, 0, 0 | 1, 0, 0 | 1, 0, 0<br>3,1,1 | 3,1,1 | 3,1,1\",\"1, 0, 0 | 1, 0, 0 | 1, 0, 0 | 1, 0, 0<br>1, 0, 0 | 1, 0, 0 | 1, 0, 0 | 1, 0, 0<br>3,1,1 | 3,1,1 | 3,1,1 | 3,1,1\",\"1, 0, 0 | 1, 0, 0 | 1, 0, 0<br>1, 0, 0 | 1, 0, 0 | 1, 0, 0<br>3,0,1 | 3,0,1 | 3,0,1\",\"1, 0, 0 | 1, 0, 0 | 1, 0, 0<br>1, 0, 0 | 1, 0, 0 | 1, 0, 0<br>3,1,0 | 3,1,0 | 3,1,0\",\"1, 0, 0 | 1, 0, 0 | 1, 0, 0 | 1, 0, 0<br>1, 0, 0 | 1, 0, 0 | 1, 0, 0 | 1, 0, 0<br>3,0,1 | 3,0,1 | 3,0,1 | 3,0,1\",\"1, 0, 0 | 1, 0, 0 | 1, 0, 0 | 1, 0, 0 | 1, 0, 0<br>1, 0, 0 | 1, 0, 0 | 1, 0, 0 | 1, 0, 0 | 1, 0, 0<br>3,0,1 | 3,0,1 | 3,0,1 | 3,0,1 | 3,0,1\",\"1, 0, 0 | 1, 0, 0 | 1, 0, 0 | 1, 0, 0 | 1, 0, 0 | 1, 0, 0<br>1, 0, 0 | 1, 0, 0 | 1, 0, 0 | 1, 0, 0 | 1, 0, 0 | 1, 0, 0<br>3,0,1 | 3,0,1 | 3,0,1 | 3,0,1 | 3,0,1 | 3,0,1\",\"0, 0, 1<br>0, 0, 1<br>1,0,2\",\"1, 0, 0 | 1, 0, 0 | 1, 0, 0 | 1, 0, 0<br>1, 0, 0 | 1, 0, 0 | 1, 0, 0 | 1, 0, 0<br>3,1,0 | 3,1,0 | 3,1,0 | 3,1,0\",\"2, 1, 1<br>2, 1, 1<br>2,1,2\",\"1, 0, 0 | 1, 0, 0 | 1, 0, 0 | 1, 0, 0 | 1, 0, 0<br>1, 0, 0 | 1, 0, 0 | 1, 0, 0 | 1, 0, 0 | 1, 0, 0<br>3,1,1 | 3,1,1 | 3,1,1 | 3,1,1 | 3,1,1\",\"1, 0, 0 | 1, 0, 0 | 1, 0, 0 | 1, 0, 0 | 1, 0, 0 | 1, 0, 0<br>1, 0, 0 | 1, 0, 0 | 1, 0, 0 | 1, 0, 0 | 1, 0, 0 | 1, 0, 0<br>3,1,1 | 3,1,1 | 3,1,1 | 3,1,1 | 3,1,1 | 3,1,1\",\"1, 0, 0 | 1, 0, 0 | 1, 0, 0 | 1, 0, 0 | 1, 0, 0 | 1, 0, 0 | 1, 0, 0<br>1, 0, 0 | 1, 0, 0 | 1, 0, 0 | 1, 0, 0 | 1, 0, 0 | 1, 0, 0 | 1, 0, 0<br>3,1,1 | 3,1,1 | 3,1,1 | 3,1,1 | 3,1,1 | 3,1,1 | 3,1,1\",\"0, 0, 1<br>0, 0, 1<br>2,0,2\",\"2, 1, 0<br>2, 1, 0<br>3,1,0\",\"0, 0, 1<br>0, 0, 1<br>2,1,2\",\"1, 0, 0 | 1, 0, 0 | 1, 0, 0<br>1, 0, 0 | 1, 0, 0 | 1, 0, 0<br>3,0,0 | 3,0,0 | 3,0,0\",\"2, 1, 1<br>2, 1, 1<br>3,1,1\",\"1, 0, 0 | 1, 0, 0 | 1, 0, 0 | 1, 0, 0 | 1, 0, 0<br>1, 0, 0 | 1, 0, 0 | 1, 0, 0 | 1, 0, 0 | 1, 0, 0<br>3,1,0 | 3,1,0 | 3,1,0 | 3,1,0 | 3,1,0\",\"0, 1, 1<br>0, 1, 1<br>1,2,1\"],\"pca_0\":{\"__ndarray__\":\"TSWYP22nqz7WpKs+O6arPv6lqz4w9Ie9MPKHvf/vh71k9oe9uhKEviYTtb4MFoS+0BSEvscXtb6jpM6+tKDcvpHQqz77FbW+K9SrPoCfzr61m9y+JA7lvmDPqz6Yqas+BM6rPigYhL44q6s+RKLOvh32qz4=\",\"dtype\":\"float32\",\"order\":\"little\",\"shape\":[29]},\"pca_1\":{\"__ndarray__\":\"W3qJPuVqMr2VWzK9YGMyvfpiMr0DfT+9hn8/vXl0P71KiD+9xqv2uxi81jwt2/a7cxP3u8a21jzDCks9HciEPeRjNb3TmtY8oHc1vWEKSz0oxYQ9nZOZPdRbNb36djK9q1M1vb9E97sDgDK96vBKPYaeN70=\",\"dtype\":\"float32\",\"order\":\"little\",\"shape\":[29]},\"round\":[1,2,2,2,2,3,3,3,3,4,5,4,4,5,6,7,2,5,2,6,7,8,2,2,2,4,2,6,2],\"sor_exposure\":{\"__ndarray__\":\"AAAAAAAAAAAAAAAAAMBSQAAAAAAAwFJAAAAAAADAUkAAAAAAAMBSQAAAAAAAoFRAAAAAAACgVEAAAAAAAKBUQAAAAAAAoFRAAAAAAACwVkAAAADAzPRYQAAAAAAAsFZAAAAAAACwVkAAAADAzPRYQAAAACCuc1tAAAAAwHIyXkAAAAAAAAA5QAAAAMDM9FhAAAAAAAAgbEAAAAAgrnNbQAAAAMByMl5AAAAAIL+bYEAAAAAAAAA5QAAAAAAAAGlAAAAAAAAAOUAAAAAAALBWQAAAAAAAIGxAAAAAIK5zW0AAAAAAAMBSQA==\",\"dtype\":\"float64\",\"order\":\"little\",\"shape\":[29]}},\"selected\":{\"id\":\"1478099\"},\"selection_policy\":{\"id\":\"1478098\"}},\"id\":\"1472462\",\"type\":\"ColumnDataSource\"},{\"attributes\":{},\"id\":\"1478160\",\"type\":\"DataRange1d\"},{\"attributes\":{},\"id\":\"1478162\",\"type\":\"LinearScale\"},{\"attributes\":{},\"id\":\"1478164\",\"type\":\"LinearScale\"},{\"attributes\":{\"formatter\":{\"id\":\"1483798\"},\"major_label_policy\":{\"id\":\"1483797\"},\"ticker\":{\"id\":\"1478167\"}},\"id\":\"1478166\",\"type\":\"LinearAxis\"},{\"attributes\":{\"bottom_units\":\"screen\",\"fill_alpha\":0.5,\"fill_color\":\"lightgrey\",\"left_units\":\"screen\",\"level\":\"overlay\",\"line_alpha\":1.0,\"line_color\":\"black\",\"line_dash\":[4,4],\"line_width\":2,\"right_units\":\"screen\",\"syncable\":false,\"top_units\":\"screen\"},\"id\":\"1478180\",\"type\":\"BoxAnnotation\"},{\"attributes\":{},\"id\":\"1478167\",\"type\":\"BasicTicker\"},{\"attributes\":{\"source\":{\"id\":\"1472462\"}},\"id\":\"1478193\",\"type\":\"CDSView\"},{\"attributes\":{\"axis\":{\"id\":\"1478166\"},\"ticker\":null},\"id\":\"1478169\",\"type\":\"Grid\"},{\"attributes\":{\"fill_alpha\":{\"value\":0.3},\"fill_color\":{\"field\":\"Prob_1\",\"transform\":{\"id\":\"1478188\"}},\"line_alpha\":{\"value\":0.3},\"line_color\":{\"field\":\"Prob_1\",\"transform\":{\"id\":\"1478188\"}},\"size\":{\"value\":10},\"x\":{\"field\":\"pca_0\"},\"y\":{\"field\":\"pca_1\"}},\"id\":\"1478190\",\"type\":\"Circle\"},{\"attributes\":{\"formatter\":{\"id\":\"1483795\"},\"major_label_policy\":{\"id\":\"1483794\"},\"ticker\":{\"id\":\"1478171\"}},\"id\":\"1478170\",\"type\":\"LinearAxis\"},{\"attributes\":{\"data_source\":{\"id\":\"1472462\"},\"glyph\":{\"id\":\"1478190\"},\"hover_glyph\":null,\"muted_glyph\":null,\"nonselection_glyph\":{\"id\":\"1478191\"},\"view\":{\"id\":\"1478193\"}},\"id\":\"1478192\",\"type\":\"GlyphRenderer\"},{\"attributes\":{\"fill_alpha\":{\"value\":0.1},\"fill_color\":{\"field\":\"Prob_1\",\"transform\":{\"id\":\"1478188\"}},\"line_alpha\":{\"value\":0.1},\"line_color\":{\"field\":\"Prob_1\",\"transform\":{\"id\":\"1478188\"}},\"size\":{\"value\":10},\"x\":{\"field\":\"pca_0\"},\"y\":{\"field\":\"pca_1\"}},\"id\":\"1478191\",\"type\":\"Circle\"},{\"attributes\":{},\"id\":\"1478171\",\"type\":\"BasicTicker\"},{\"attributes\":{\"callback\":null,\"tooltips\":[[\"Infostate\",\"@infostate_string\"],[\"Prob\",\"@Prob_1{(.00)}\"],[\"SoRExposure\",\"@sor_exposure\"],[\"Round\",\"@round\"]]},\"id\":\"1478194\",\"type\":\"HoverTool\"},{\"attributes\":{\"axis\":{\"id\":\"1478170\"},\"dimension\":1,\"ticker\":null},\"id\":\"1478173\",\"type\":\"Grid\"},{\"attributes\":{},\"id\":\"1483794\",\"type\":\"AllLabels\"},{\"attributes\":{\"color_mapper\":{\"id\":\"1478188\"},\"label_standoff\":12,\"major_label_policy\":{\"id\":\"1483793\"}},\"id\":\"1478196\",\"type\":\"ColorBar\"},{\"attributes\":{},\"id\":\"1483793\",\"type\":\"NoOverlap\"},{\"attributes\":{},\"id\":\"1483795\",\"type\":\"BasicTickFormatter\"},{\"attributes\":{},\"id\":\"1483797\",\"type\":\"AllLabels\"},{\"attributes\":{},\"id\":\"1478098\",\"type\":\"UnionRenderers\"},{\"attributes\":{},\"id\":\"1478174\",\"type\":\"PanTool\"},{\"attributes\":{},\"id\":\"1483798\",\"type\":\"BasicTickFormatter\"},{\"attributes\":{},\"id\":\"1478099\",\"type\":\"Selection\"},{\"attributes\":{},\"id\":\"1478175\",\"type\":\"WheelZoomTool\"},{\"attributes\":{\"active_multi\":null,\"tools\":[{\"id\":\"1478174\"},{\"id\":\"1478175\"},{\"id\":\"1478176\"},{\"id\":\"1478177\"},{\"id\":\"1478178\"},{\"id\":\"1478179\"},{\"id\":\"1478194\"}]},\"id\":\"1478181\",\"type\":\"Toolbar\"},{\"attributes\":{\"overlay\":{\"id\":\"1478180\"}},\"id\":\"1478176\",\"type\":\"BoxZoomTool\"},{\"attributes\":{},\"id\":\"1478177\",\"type\":\"SaveTool\"},{\"attributes\":{\"high\":0.9922239110955264,\"low\":-0.1,\"palette\":[\"#FBFCBF\",\"#FBFABD\",\"#FBF9BB\",\"#FBF7B9\",\"#FCF5B7\",\"#FCF3B5\",\"#FCF1B3\",\"#FCF0B1\",\"#FCEEB0\",\"#FCECAE\",\"#FCEAAC\",\"#FCE8AA\",\"#FCE6A8\",\"#FCE5A6\",\"#FCE3A5\",\"#FDE1A3\",\"#FDDFA1\",\"#FDDD9F\",\"#FDDC9D\",\"#FDDA9C\",\"#FDD89A\",\"#FDD698\",\"#FDD497\",\"#FDD295\",\"#FDD193\",\"#FDCF92\",\"#FDCD90\",\"#FECB8E\",\"#FEC98D\",\"#FEC78B\",\"#FEC689\",\"#FEC488\",\"#FEC286\",\"#FEC085\",\"#FEBE83\",\"#FEBC82\",\"#FEBB80\",\"#FEB97F\",\"#FEB77D\",\"#FEB57C\",\"#FEB37B\",\"#FEB179\",\"#FEAF78\",\"#FEAE76\",\"#FEAC75\",\"#FEAA74\",\"#FEA873\",\"#FEA671\",\"#FDA470\",\"#FDA26F\",\"#FDA16E\",\"#FD9F6C\",\"#FD9D6B\",\"#FD9B6A\",\"#FD9969\",\"#FD9768\",\"#FD9567\",\"#FC9366\",\"#FC9265\",\"#FC9064\",\"#FC8E63\",\"#FC8C63\",\"#FB8A62\",\"#FB8861\",\"#FB8660\",\"#FB8460\",\"#FA825F\",\"#FA805E\",\"#FA7F5E\",\"#F97D5D\",\"#F97B5D\",\"#F9795C\",\"#F8775C\",\"#F8755C\",\"#F7735C\",\"#F7715B\",\"#F6705B\",\"#F66E5B\",\"#F56C5B\",\"#F56A5B\",\"#F4685B\",\"#F3675B\",\"#F3655C\",\"#F2635C\",\"#F1615C\",\"#F0605D\",\"#EF5E5D\",\"#EE5D5D\",\"#EE5B5E\",\"#ED595F\",\"#EC585F\",\"#EB5660\",\"#EA5560\",\"#E85461\",\"#E75262\",\"#E65162\",\"#E55063\",\"#E44E64\",\"#E24D65\",\"#E14C66\",\"#E04B66\",\"#DE4A67\",\"#DD4968\",\"#DC4869\",\"#DA4769\",\"#D9466A\",\"#D7456B\",\"#D6446C\",\"#D4436D\",\"#D3426D\",\"#D1426E\",\"#D0416F\",\"#CE4070\",\"#CD3F70\",\"#CB3E71\",\"#CA3E72\",\"#C83D72\",\"#C63C73\",\"#C53C74\",\"#C33B74\",\"#C23A75\",\"#C03A75\",\"#BE3976\",\"#BD3977\",\"#BB3877\",\"#B93778\",\"#B83778\",\"#B63679\",\"#B53679\",\"#B3357A\",\"#B1357A\",\"#B0347B\",\"#AE347B\",\"#AC337B\",\"#AB337C\",\"#A9327C\",\"#A7317D\",\"#A6317D\",\"#A4307D\",\"#A3307E\",\"#A12F7E\",\"#9F2F7E\",\"#9E2E7E\",\"#9C2E7F\",\"#9A2D7F\",\"#992D7F\",\"#972C7F\",\"#952C80\",\"#942B80\",\"#922B80\",\"#912A80\",\"#8F2A80\",\"#8D2980\",\"#8C2980\",\"#8A2881\",\"#892881\",\"#872781\",\"#852681\",\"#842681\",\"#822581\",\"#812581\",\"#7F2481\",\"#7E2481\",\"#7C2381\",\"#7A2281\",\"#792281\",\"#772181\",\"#762181\",\"#742081\",\"#731F81\",\"#711F81\",\"#6F1E81\",\"#6E1E81\",\"#6C1D80\",\"#6B1C80\",\"#691C80\",\"#681B80\",\"#661A80\",\"#651A80\",\"#63197F\",\"#61187F\",\"#60187F\",\"#5E177F\",\"#5D177E\",\"#5B167E\",\"#5A157E\",\"#58157E\",\"#57147D\",\"#55137D\",\"#53137C\",\"#52127C\",\"#50127B\",\"#4F117B\",\"#4D117A\",\"#4B1079\",\"#4A1079\",\"#481078\",\"#470F77\",\"#450F76\",\"#430F75\",\"#420F74\",\"#400F73\",\"#3E0F72\",\"#3C0F71\",\"#3B0F6F\",\"#390F6E\",\"#370F6C\",\"#350F6A\",\"#341068\",\"#321067\",\"#301065\",\"#2F1062\",\"#2D1060\",\"#2B115E\",\"#2A115C\",\"#281159\",\"#261157\",\"#251155\",\"#231152\",\"#221150\",\"#20114D\",\"#1F114B\",\"#1E1049\",\"#1C1046\",\"#1B1044\",\"#1A1041\",\"#180F3F\",\"#170F3C\",\"#160E3A\",\"#150E38\",\"#140D35\",\"#120D33\",\"#110C31\",\"#100C2F\",\"#0F0B2C\",\"#0E0A2A\",\"#0D0A28\",\"#0C0926\",\"#0B0824\",\"#0A0722\",\"#09071F\",\"#08061D\",\"#07051B\",\"#060519\",\"#050417\",\"#040415\",\"#040313\",\"#030311\",\"#02020F\",\"#02020D\",\"#01010B\",\"#010109\",\"#010007\",\"#000006\",\"#000004\",\"#000003\"]},\"id\":\"1478188\",\"type\":\"LinearColorMapper\"}],\"root_ids\":[\"1478155\"]},\"title\":\"Bokeh Application\",\"version\":\"2.3.3\"}};\n",
       "  var render_items = [{\"docid\":\"f810f654-4222-480f-8e3a-826da39d1888\",\"root_ids\":[\"1478155\"],\"roots\":{\"1478155\":\"941b03a7-5c43-4d9f-b332-1dd721a9b9a0\"}}];\n",
       "  root.Bokeh.embed.embed_items_notebook(docs_json, render_items);\n",
       "\n",
       "  }\n",
       "  if (root.Bokeh !== undefined) {\n",
       "    embed_document(root);\n",
       "  } else {\n",
       "    var attempts = 0;\n",
       "    var timer = setInterval(function(root) {\n",
       "      if (root.Bokeh !== undefined) {\n",
       "        clearInterval(timer);\n",
       "        embed_document(root);\n",
       "      } else {\n",
       "        attempts++;\n",
       "        if (attempts > 100) {\n",
       "          clearInterval(timer);\n",
       "          console.log(\"Bokeh: ERROR: Unable to run BokehJS code because BokehJS library is missing\");\n",
       "        }\n",
       "      }\n",
       "    }, 10, root)\n",
       "  }\n",
       "})(window);"
      ],
      "application/vnd.bokehjs_exec.v0+json": ""
     },
     "metadata": {
      "application/vnd.bokehjs_exec.v0+json": {
       "id": "1478155"
      }
     },
     "output_type": "display_data"
    },
    {
     "data": {
      "text/html": [
       "\n",
       "\n",
       "\n",
       "\n",
       "\n",
       "\n",
       "  <div class=\"bk-root\" id=\"03814cc4-3930-4204-897d-6548ef18c972\" data-root-id=\"1483858\"></div>\n"
      ]
     },
     "metadata": {},
     "output_type": "display_data"
    },
    {
     "data": {
      "application/javascript": [
       "(function(root) {\n",
       "  function embed_document(root) {\n",
       "    \n",
       "  var docs_json = {\"acb96f87-8fdf-4b6c-9f73-477ca3ba1a0a\":{\"defs\":[],\"roots\":{\"references\":[{\"attributes\":{\"below\":[{\"id\":\"1483869\"}],\"center\":[{\"id\":\"1483872\"},{\"id\":\"1483876\"}],\"height\":400,\"left\":[{\"id\":\"1483873\"}],\"renderers\":[{\"id\":\"1483895\"}],\"right\":[{\"id\":\"1483899\"}],\"title\":{\"id\":\"1483859\"},\"toolbar\":{\"id\":\"1483884\"},\"width\":900,\"x_range\":{\"id\":\"1483861\"},\"x_scale\":{\"id\":\"1483865\"},\"y_range\":{\"id\":\"1483863\"},\"y_scale\":{\"id\":\"1483867\"}},\"id\":\"1483858\",\"subtype\":\"Figure\",\"type\":\"Plot\"},{\"attributes\":{},\"id\":\"1483881\",\"type\":\"ResetTool\"},{\"attributes\":{},\"id\":\"1483861\",\"type\":\"DataRange1d\"},{\"attributes\":{},\"id\":\"1483882\",\"type\":\"HelpTool\"},{\"attributes\":{\"text\":\"Action 2: 0 A, 1 B, 0 C\"},\"id\":\"1483859\",\"type\":\"Title\"},{\"attributes\":{\"data\":{\"Prob_0\":{\"__ndarray__\":\"U3ymrppVgz/8KwkrjPt9Pxhb5Y15+30/9ShR2IT7fT8rlWkAgft9P2UwCgQ9hn0/CL0q1jSGfT8KFBfaM4Z9P2NY8Wg5hn0/d3uMgLIrfj85SNHpVrp+P+0+6umpK34/DmSTfKIrfj+9UQDuP7p+Pwf7ScowGH8/YUq8M9hRfz9C+mwH6bPtP4jWZ7Eyun4/bZ03l/MDfj9oBg+FVxh/PzBPyNwHUn8/coGGxKJ+fz8cdyNL6LPtPzsgrQZJ+30/Nwwmkeez7T+9YIyXkit+P7m6iUZj+30/Y72swBsYfz8oEe/7gwp+Pw==\",\"dtype\":\"float64\",\"order\":\"little\",\"shape\":[29]},\"Prob_1\":{\"__ndarray__\":\"0wxF22ntSj/unwszBodCP/lAlmgHh0I/4ZpAewiHQj94PkEABYdCP+kXg0L3W0I/i7jIzepbQj8uODmQ4VtCP46aj0X/W0I/59VYwCoUQz8ZH9GRm6VDPy4iRYZIFEM//wsScjUUQz/e1/OovqVDP9s5BxKnAkQ/29+/jK07RD/xLZjEt2CyP1Icq9aepUM/i3b29S+SQj+SwqmuhQJEP/Pn612MO0Q/AAbvAsJqRD8fR+SmvWCyPxwhIITUhkI/RZ7PdsNgsj/Kvqf6UBRDPxopRJDbhkI/ZHjX63YCRD/Tz0xx55pCPw==\",\"dtype\":\"float64\",\"order\":\"little\",\"shape\":[29]},\"Prob_10\":{\"__ndarray__\":\"rmD8ZZ+69j4AAAAAAAAAAAAAAAAAAAAAAAAAAAAAAAAAAAAAAAAAAAAAAAAAAAAAAAAAAAAAAAAAAAAAAAAAAAAAAAAAAAAAAAAAAAAAAAAAAAAAAAAAAAAAAAAAAAAAAAAAAAAAAAAAAAAAAAAAAAAAAAAAAAAAAAAAAAAAAAAAAAAAAAAAAAAAAAAAAAAAcPXPwkD+1j4AAAAAAAAAAAAAAAAAAAAAAAAAAAAAAAAAAAAAAAAAACwDG8V87dY+AAAAAAAAAAAAAAAAAAAAAEUQh4zb7dY+AAAAAAAAAAAAAAAAAAAAAA==\",\"dtype\":\"float64\",\"order\":\"little\",\"shape\":[29]},\"Prob_11\":{\"__ndarray__\":\"zcWJS76N9D4AAAAAAAAAAAAAAAAAAAAAAAAAAAAAAAAAAAAAAAAAAAAAAAAAAAAAAAAAAAAAAAAAAAAAAAAAAAAAAAAAAAAAAAAAAAAAAAAAAAAAAAAAAAAAAAAAAAAAAAAAAAAAAAAAAAAAAAAAAAAAAAAAAAAAAAAAAAAAAAAAAAAAAAAAAAAAAAAAAAAA/jJpOOBp0z4AAAAAAAAAAAAAAAAAAAAAAAAAAAAAAAAAAAAAAAAAAAAAAAAAAAAAAAAAAAAAAAAAAAAAAAAAAIuWk2/GVtM+AAAAAAAAAAAAAAAAAAAAAA==\",\"dtype\":\"float64\",\"order\":\"little\",\"shape\":[29]},\"Prob_2\":{\"__ndarray__\":\"qLLYBk5k9j69U+rPBgHXPjt5qQo1Adc+muwaehwB1z50AlGAHwHXPpCqWWQWy88+893edxbLzz4Qlxj8TcvPPqk3ocncys8+Y+6EIIqMzD6KBSIMQoXLPqS0YQkvjMw+jukJmzKMzD5YBIqMy4TLPiIBDy26IMs+m5X5UFLwyj4AAAAAAAAAANb87bLEhMs+i2gUQ88V1z7mfn6IRiHLPlJ8O33f8Mo++9nbQ/fayj4AAAAAAAAAACxLH6W2ANc+AAAAAAAAAABX2ACY0IvMPqgydyyKANc+7cWrBJ8gyz4b/YZVtybXPg==\",\"dtype\":\"float64\",\"order\":\"little\",\"shape\":[29]},\"Prob_3\":{\"__ndarray__\":\"MsKPY8Wt9z4tLBHvmDfYPkpCOYtxN9g+s2DL2Yk32D5uR1UgfzfYPjChRgITotA+JPN8rAei0D7HxbLOCqLQPjK+CQUPotA+mEaK4GGyzT5JeGoLhYPMPopYwmlAss0+bV4gnDGyzT7Q9v2MQYPMPo7DayyFCsw+M9yGsYXQyz4AAAAAAAAAACoqddImg8w+iziY5nlL2D7fGbQH4ArMPqR4JL3m0Ms+uv37Y6S6yz4AAAAAAAAAAPZ7ZKVuN9g+AAAAAAAAAAAubK63CrLNPjUCb6ugN9g+FlTAQ1QKzD5uQ6UWllrYPg==\",\"dtype\":\"float64\",\"order\":\"little\",\"shape\":[29]},\"Prob_4\":{\"__ndarray__\":\"ji8tj1Kq7z9CS82JT7/vP8jEtq5Pv+8/lGPdl0+/7z8zzG+gT7/vP6AwWERMwO8/IsTWV0zA7z8q3Q5cTMDvP3sEnklMwO8/kNCTANW+7z9FIxbpk73vP3G9bgrVvu8/6kYRHtW+7z8FfHYOlL3vP90T1ynBvO8/01b/sz+87z8AAAAAAAAAADOk7DCUve8/88Y+POy+7z92k4DkwLzvP9BlvVw/vO8/Rk2PZNq77z8AAAAAAAAAAPC4EWcKv+8/AAAAAAAAAABjaRs31b7vP/cyCoUAv+8/jN4GYMG87z+UGIV9LL/vPw==\",\"dtype\":\"float64\",\"order\":\"little\",\"shape\":[29]},\"Prob_5\":{\"__ndarray__\":\"uR0dgUej+D4AAAAAAAAAAAAAAAAAAAAAAAAAAAAAAAAAAAAAAAAAAAAAAAAAAAAAAAAAAAAAAAAAAAAAAAAAAAAAAAAAAAAAAAAAAAAAAAAAAAAAAAAAAAAAAAAAAAAAAAAAAAAAAAAAAAAAAAAAAAAAAAAAAAAAAAAAAAAAAAAAAAAAAAAAAAAAAAAAAAAATiTeqwsc2j4AAAAAAAAAAAAAAAAAAAAAAAAAAAAAAAAAAAAAAAAAAHCAy0UPBto+AAAAAAAAAAAAAAAAAAAAAKus5smbBdo+AAAAAAAAAAAAAAAAAAAAAA==\",\"dtype\":\"float64\",\"order\":\"little\",\"shape\":[29]},\"Prob_6\":{\"__ndarray__\":\"1C9GhQAC9z4AAAAAAAAAAAAAAAAAAAAAAAAAAAAAAAAAAAAAAAAAAAAAAAAAAAAAAAAAAAAAAAAAAAAAAAAAAAAAAAAAAAAAAAAAAAAAAAAAAAAAAAAAAAAAAAAAAAAAAAAAAAAAAAAAAAAAAAAAAAAAAAAAAAAAAAAAAAAAAAAAAAAAAAAAAAAAAAAAAAAAIxW1Aeec1j4AAAAAAAAAAAAAAAAAAAAAAAAAAAAAAAAAAAAAAAAAAM7kBGUoitY+AAAAAAAAAAAAAAAAAAAAAEqJ26xjitY+AAAAAAAAAAAAAAAAAAAAAA==\",\"dtype\":\"float64\",\"order\":\"little\",\"shape\":[29]},\"Prob_7\":{\"__ndarray__\":\"t8KQ42Ct9z4AAAAAAAAAAAAAAAAAAAAAAAAAAAAAAAAAAAAAAAAAAAAAAAAAAAAAAAAAAAAAAAAAAAAAAAAAAAAAAAAAAAAAAAAAAAAAAAAAAAAAAAAAAAAAAAAAAAAAAAAAAAAAAAAAAAAAAAAAAAAAAAAAAAAAAAAAAAAAAAAAAAAAAAAAAAAAAAAAAAAAvlXVRE6w1z4AAAAAAAAAAAAAAAAAAAAAAAAAAAAAAAAAAAAAAAAAABz4QeVunNc+AAAAAAAAAAAAAAAAAAAAAGKw8kuSnNc+AAAAAAAAAAAAAAAAAAAAAA==\",\"dtype\":\"float64\",\"order\":\"little\",\"shape\":[29]},\"Prob_8\":{\"__ndarray__\":\"iVpwiJfE9T4AAAAAAAAAAAAAAAAAAAAAAAAAAAAAAAAAAAAAAAAAAAAAAAAAAAAAAAAAAAAAAAAAAAAAAAAAAAAAAAAAAAAAAAAAAAAAAAAAAAAAAAAAAAAAAAAAAAAAAAAAAAAAAAAAAAAAAAAAAAAAAAAAAAAAAAAAAAAAAAAAAAAAAAAAAAAAAAAAAAAAIa1OPCfB1D4AAAAAAAAAAAAAAAAAAAAAAAAAAAAAAAAAAAAAAAAAAOi/m+T6sdQ+AAAAAAAAAAAAAAAAAAAAAEaQbA4sstQ+AAAAAAAAAAAAAAAAAAAAAA==\",\"dtype\":\"float64\",\"order\":\"little\",\"shape\":[29]},\"Prob_9\":{\"__ndarray__\":\"U75LJB9k9z4AAAAAAAAAAAAAAAAAAAAAAAAAAAAAAAAAAAAAAAAAAAAAAAAAAAAAAAAAAAAAAAAAAAAAAAAAAAAAAAAAAAAAAAAAAAAAAAAAAAAAAAAAAAAAAAAAAAAAAAAAAAAAAAAAAAAAAAAAAAAAAAAAAAAAAAAAAAAAAAAAAAAAAAAAAAAAAAAAAAAAMLvMRFit1z4AAAAAAAAAAAAAAAAAAAAAAAAAAAAAAAAAAAAAAAAAANqXQkU8n9c+AAAAAAAAAAAAAAAAAAAAANU08Kt+n9c+AAAAAAAAAAAAAAAAAAAAAA==\",\"dtype\":\"float64\",\"order\":\"little\",\"shape\":[29]},\"agent_id\":[0,0,0,0,0,0,0,0,0,0,0,0,0,0,0,0,0,0,0,0,0,0,0,0,0,0,0,0,0],\"index\":[0,12,24,28,138,234,246,268,370,564,810,3416,5124,5542,5544,5546,5656,6128,6916,8170,8172,8174,9492,10546,10972,17404,19108,19294,24044],\"infostate_string\":[\"\",\"1, 0, 0<br>1, 0, 0<br>3,0,0\",\"1, 0, 0<br>1, 0, 0<br>3,1,1\",\"1, 0, 0<br>1, 0, 0<br>3,0,1\",\"1, 0, 0<br>1, 0, 0<br>3,1,0\",\"1, 0, 0 | 1, 0, 0<br>1, 0, 0 | 1, 0, 0<br>3,0,1 | 3,0,1\",\"1, 0, 0 | 1, 0, 0<br>1, 0, 0 | 1, 0, 0<br>3,1,0 | 3,1,0\",\"1, 0, 0 | 1, 0, 0<br>1, 0, 0 | 1, 0, 0<br>3,1,1 | 3,1,1\",\"1, 0, 0 | 1, 0, 0<br>1, 0, 0 | 1, 0, 0<br>3,0,0 | 3,0,0\",\"1, 0, 0 | 1, 0, 0 | 1, 0, 0<br>1, 0, 0 | 1, 0, 0 | 1, 0, 0<br>3,1,1 | 3,1,1 | 3,1,1\",\"1, 0, 0 | 1, 0, 0 | 1, 0, 0 | 1, 0, 0<br>1, 0, 0 | 1, 0, 0 | 1, 0, 0 | 1, 0, 0<br>3,1,1 | 3,1,1 | 3,1,1 | 3,1,1\",\"1, 0, 0 | 1, 0, 0 | 1, 0, 0<br>1, 0, 0 | 1, 0, 0 | 1, 0, 0<br>3,0,1 | 3,0,1 | 3,0,1\",\"1, 0, 0 | 1, 0, 0 | 1, 0, 0<br>1, 0, 0 | 1, 0, 0 | 1, 0, 0<br>3,1,0 | 3,1,0 | 3,1,0\",\"1, 0, 0 | 1, 0, 0 | 1, 0, 0 | 1, 0, 0<br>1, 0, 0 | 1, 0, 0 | 1, 0, 0 | 1, 0, 0<br>3,0,1 | 3,0,1 | 3,0,1 | 3,0,1\",\"1, 0, 0 | 1, 0, 0 | 1, 0, 0 | 1, 0, 0 | 1, 0, 0<br>1, 0, 0 | 1, 0, 0 | 1, 0, 0 | 1, 0, 0 | 1, 0, 0<br>3,0,1 | 3,0,1 | 3,0,1 | 3,0,1 | 3,0,1\",\"1, 0, 0 | 1, 0, 0 | 1, 0, 0 | 1, 0, 0 | 1, 0, 0 | 1, 0, 0<br>1, 0, 0 | 1, 0, 0 | 1, 0, 0 | 1, 0, 0 | 1, 0, 0 | 1, 0, 0<br>3,0,1 | 3,0,1 | 3,0,1 | 3,0,1 | 3,0,1 | 3,0,1\",\"0, 0, 1<br>0, 0, 1<br>1,0,2\",\"1, 0, 0 | 1, 0, 0 | 1, 0, 0 | 1, 0, 0<br>1, 0, 0 | 1, 0, 0 | 1, 0, 0 | 1, 0, 0<br>3,1,0 | 3,1,0 | 3,1,0 | 3,1,0\",\"2, 1, 1<br>2, 1, 1<br>2,1,2\",\"1, 0, 0 | 1, 0, 0 | 1, 0, 0 | 1, 0, 0 | 1, 0, 0<br>1, 0, 0 | 1, 0, 0 | 1, 0, 0 | 1, 0, 0 | 1, 0, 0<br>3,1,1 | 3,1,1 | 3,1,1 | 3,1,1 | 3,1,1\",\"1, 0, 0 | 1, 0, 0 | 1, 0, 0 | 1, 0, 0 | 1, 0, 0 | 1, 0, 0<br>1, 0, 0 | 1, 0, 0 | 1, 0, 0 | 1, 0, 0 | 1, 0, 0 | 1, 0, 0<br>3,1,1 | 3,1,1 | 3,1,1 | 3,1,1 | 3,1,1 | 3,1,1\",\"1, 0, 0 | 1, 0, 0 | 1, 0, 0 | 1, 0, 0 | 1, 0, 0 | 1, 0, 0 | 1, 0, 0<br>1, 0, 0 | 1, 0, 0 | 1, 0, 0 | 1, 0, 0 | 1, 0, 0 | 1, 0, 0 | 1, 0, 0<br>3,1,1 | 3,1,1 | 3,1,1 | 3,1,1 | 3,1,1 | 3,1,1 | 3,1,1\",\"0, 0, 1<br>0, 0, 1<br>2,0,2\",\"2, 1, 0<br>2, 1, 0<br>3,1,0\",\"0, 0, 1<br>0, 0, 1<br>2,1,2\",\"1, 0, 0 | 1, 0, 0 | 1, 0, 0<br>1, 0, 0 | 1, 0, 0 | 1, 0, 0<br>3,0,0 | 3,0,0 | 3,0,0\",\"2, 1, 1<br>2, 1, 1<br>3,1,1\",\"1, 0, 0 | 1, 0, 0 | 1, 0, 0 | 1, 0, 0 | 1, 0, 0<br>1, 0, 0 | 1, 0, 0 | 1, 0, 0 | 1, 0, 0 | 1, 0, 0<br>3,1,0 | 3,1,0 | 3,1,0 | 3,1,0 | 3,1,0\",\"0, 1, 1<br>0, 1, 1<br>1,2,1\"],\"pca_0\":{\"__ndarray__\":\"TSWYP22nqz7WpKs+O6arPv6lqz4w9Ie9MPKHvf/vh71k9oe9uhKEviYTtb4MFoS+0BSEvscXtb6jpM6+tKDcvpHQqz77FbW+K9SrPoCfzr61m9y+JA7lvmDPqz6Yqas+BM6rPigYhL44q6s+RKLOvh32qz4=\",\"dtype\":\"float32\",\"order\":\"little\",\"shape\":[29]},\"pca_1\":{\"__ndarray__\":\"W3qJPuVqMr2VWzK9YGMyvfpiMr0DfT+9hn8/vXl0P71KiD+9xqv2uxi81jwt2/a7cxP3u8a21jzDCks9HciEPeRjNb3TmtY8oHc1vWEKSz0oxYQ9nZOZPdRbNb36djK9q1M1vb9E97sDgDK96vBKPYaeN70=\",\"dtype\":\"float32\",\"order\":\"little\",\"shape\":[29]},\"round\":[1,2,2,2,2,3,3,3,3,4,5,4,4,5,6,7,2,5,2,6,7,8,2,2,2,4,2,6,2],\"sor_exposure\":{\"__ndarray__\":\"AAAAAAAAAAAAAAAAAMBSQAAAAAAAwFJAAAAAAADAUkAAAAAAAMBSQAAAAAAAoFRAAAAAAACgVEAAAAAAAKBUQAAAAAAAoFRAAAAAAACwVkAAAADAzPRYQAAAAAAAsFZAAAAAAACwVkAAAADAzPRYQAAAACCuc1tAAAAAwHIyXkAAAAAAAAA5QAAAAMDM9FhAAAAAAAAgbEAAAAAgrnNbQAAAAMByMl5AAAAAIL+bYEAAAAAAAAA5QAAAAAAAAGlAAAAAAAAAOUAAAAAAALBWQAAAAAAAIGxAAAAAIK5zW0AAAAAAAMBSQA==\",\"dtype\":\"float64\",\"order\":\"little\",\"shape\":[29]}},\"selected\":{\"id\":\"1478099\"},\"selection_policy\":{\"id\":\"1478098\"}},\"id\":\"1472462\",\"type\":\"ColumnDataSource\"},{\"attributes\":{\"source\":{\"id\":\"1472462\"}},\"id\":\"1483896\",\"type\":\"CDSView\"},{\"attributes\":{},\"id\":\"1483863\",\"type\":\"DataRange1d\"},{\"attributes\":{},\"id\":\"1483865\",\"type\":\"LinearScale\"},{\"attributes\":{},\"id\":\"1483867\",\"type\":\"LinearScale\"},{\"attributes\":{\"formatter\":{\"id\":\"1489512\"},\"major_label_policy\":{\"id\":\"1489511\"},\"ticker\":{\"id\":\"1483870\"}},\"id\":\"1483869\",\"type\":\"LinearAxis\"},{\"attributes\":{\"bottom_units\":\"screen\",\"fill_alpha\":0.5,\"fill_color\":\"lightgrey\",\"left_units\":\"screen\",\"level\":\"overlay\",\"line_alpha\":1.0,\"line_color\":\"black\",\"line_dash\":[4,4],\"line_width\":2,\"right_units\":\"screen\",\"syncable\":false,\"top_units\":\"screen\"},\"id\":\"1483883\",\"type\":\"BoxAnnotation\"},{\"attributes\":{},\"id\":\"1483870\",\"type\":\"BasicTicker\"},{\"attributes\":{\"axis\":{\"id\":\"1483869\"},\"ticker\":null},\"id\":\"1483872\",\"type\":\"Grid\"},{\"attributes\":{\"fill_alpha\":{\"value\":0.3},\"fill_color\":{\"field\":\"Prob_2\",\"transform\":{\"id\":\"1483891\"}},\"line_alpha\":{\"value\":0.3},\"line_color\":{\"field\":\"Prob_2\",\"transform\":{\"id\":\"1483891\"}},\"size\":{\"value\":10},\"x\":{\"field\":\"pca_0\"},\"y\":{\"field\":\"pca_1\"}},\"id\":\"1483893\",\"type\":\"Circle\"},{\"attributes\":{\"data_source\":{\"id\":\"1472462\"},\"glyph\":{\"id\":\"1483893\"},\"hover_glyph\":null,\"muted_glyph\":null,\"nonselection_glyph\":{\"id\":\"1483894\"},\"view\":{\"id\":\"1483896\"}},\"id\":\"1483895\",\"type\":\"GlyphRenderer\"},{\"attributes\":{\"formatter\":{\"id\":\"1489509\"},\"major_label_policy\":{\"id\":\"1489508\"},\"ticker\":{\"id\":\"1483874\"}},\"id\":\"1483873\",\"type\":\"LinearAxis\"},{\"attributes\":{\"fill_alpha\":{\"value\":0.1},\"fill_color\":{\"field\":\"Prob_2\",\"transform\":{\"id\":\"1483891\"}},\"line_alpha\":{\"value\":0.1},\"line_color\":{\"field\":\"Prob_2\",\"transform\":{\"id\":\"1483891\"}},\"size\":{\"value\":10},\"x\":{\"field\":\"pca_0\"},\"y\":{\"field\":\"pca_1\"}},\"id\":\"1483894\",\"type\":\"Circle\"},{\"attributes\":{\"callback\":null,\"tooltips\":[[\"Infostate\",\"@infostate_string\"],[\"Prob\",\"@Prob_2{(.00)}\"],[\"SoRExposure\",\"@sor_exposure\"],[\"Round\",\"@round\"]]},\"id\":\"1483897\",\"type\":\"HoverTool\"},{\"attributes\":{},\"id\":\"1483874\",\"type\":\"BasicTicker\"},{\"attributes\":{\"axis\":{\"id\":\"1483873\"},\"dimension\":1,\"ticker\":null},\"id\":\"1483876\",\"type\":\"Grid\"},{\"attributes\":{},\"id\":\"1489507\",\"type\":\"NoOverlap\"},{\"attributes\":{},\"id\":\"1489508\",\"type\":\"AllLabels\"},{\"attributes\":{\"color_mapper\":{\"id\":\"1483891\"},\"label_standoff\":12,\"major_label_policy\":{\"id\":\"1489507\"}},\"id\":\"1483899\",\"type\":\"ColorBar\"},{\"attributes\":{\"high\":0.9922239110955264,\"low\":-0.1,\"palette\":[\"#FBFCBF\",\"#FBFABD\",\"#FBF9BB\",\"#FBF7B9\",\"#FCF5B7\",\"#FCF3B5\",\"#FCF1B3\",\"#FCF0B1\",\"#FCEEB0\",\"#FCECAE\",\"#FCEAAC\",\"#FCE8AA\",\"#FCE6A8\",\"#FCE5A6\",\"#FCE3A5\",\"#FDE1A3\",\"#FDDFA1\",\"#FDDD9F\",\"#FDDC9D\",\"#FDDA9C\",\"#FDD89A\",\"#FDD698\",\"#FDD497\",\"#FDD295\",\"#FDD193\",\"#FDCF92\",\"#FDCD90\",\"#FECB8E\",\"#FEC98D\",\"#FEC78B\",\"#FEC689\",\"#FEC488\",\"#FEC286\",\"#FEC085\",\"#FEBE83\",\"#FEBC82\",\"#FEBB80\",\"#FEB97F\",\"#FEB77D\",\"#FEB57C\",\"#FEB37B\",\"#FEB179\",\"#FEAF78\",\"#FEAE76\",\"#FEAC75\",\"#FEAA74\",\"#FEA873\",\"#FEA671\",\"#FDA470\",\"#FDA26F\",\"#FDA16E\",\"#FD9F6C\",\"#FD9D6B\",\"#FD9B6A\",\"#FD9969\",\"#FD9768\",\"#FD9567\",\"#FC9366\",\"#FC9265\",\"#FC9064\",\"#FC8E63\",\"#FC8C63\",\"#FB8A62\",\"#FB8861\",\"#FB8660\",\"#FB8460\",\"#FA825F\",\"#FA805E\",\"#FA7F5E\",\"#F97D5D\",\"#F97B5D\",\"#F9795C\",\"#F8775C\",\"#F8755C\",\"#F7735C\",\"#F7715B\",\"#F6705B\",\"#F66E5B\",\"#F56C5B\",\"#F56A5B\",\"#F4685B\",\"#F3675B\",\"#F3655C\",\"#F2635C\",\"#F1615C\",\"#F0605D\",\"#EF5E5D\",\"#EE5D5D\",\"#EE5B5E\",\"#ED595F\",\"#EC585F\",\"#EB5660\",\"#EA5560\",\"#E85461\",\"#E75262\",\"#E65162\",\"#E55063\",\"#E44E64\",\"#E24D65\",\"#E14C66\",\"#E04B66\",\"#DE4A67\",\"#DD4968\",\"#DC4869\",\"#DA4769\",\"#D9466A\",\"#D7456B\",\"#D6446C\",\"#D4436D\",\"#D3426D\",\"#D1426E\",\"#D0416F\",\"#CE4070\",\"#CD3F70\",\"#CB3E71\",\"#CA3E72\",\"#C83D72\",\"#C63C73\",\"#C53C74\",\"#C33B74\",\"#C23A75\",\"#C03A75\",\"#BE3976\",\"#BD3977\",\"#BB3877\",\"#B93778\",\"#B83778\",\"#B63679\",\"#B53679\",\"#B3357A\",\"#B1357A\",\"#B0347B\",\"#AE347B\",\"#AC337B\",\"#AB337C\",\"#A9327C\",\"#A7317D\",\"#A6317D\",\"#A4307D\",\"#A3307E\",\"#A12F7E\",\"#9F2F7E\",\"#9E2E7E\",\"#9C2E7F\",\"#9A2D7F\",\"#992D7F\",\"#972C7F\",\"#952C80\",\"#942B80\",\"#922B80\",\"#912A80\",\"#8F2A80\",\"#8D2980\",\"#8C2980\",\"#8A2881\",\"#892881\",\"#872781\",\"#852681\",\"#842681\",\"#822581\",\"#812581\",\"#7F2481\",\"#7E2481\",\"#7C2381\",\"#7A2281\",\"#792281\",\"#772181\",\"#762181\",\"#742081\",\"#731F81\",\"#711F81\",\"#6F1E81\",\"#6E1E81\",\"#6C1D80\",\"#6B1C80\",\"#691C80\",\"#681B80\",\"#661A80\",\"#651A80\",\"#63197F\",\"#61187F\",\"#60187F\",\"#5E177F\",\"#5D177E\",\"#5B167E\",\"#5A157E\",\"#58157E\",\"#57147D\",\"#55137D\",\"#53137C\",\"#52127C\",\"#50127B\",\"#4F117B\",\"#4D117A\",\"#4B1079\",\"#4A1079\",\"#481078\",\"#470F77\",\"#450F76\",\"#430F75\",\"#420F74\",\"#400F73\",\"#3E0F72\",\"#3C0F71\",\"#3B0F6F\",\"#390F6E\",\"#370F6C\",\"#350F6A\",\"#341068\",\"#321067\",\"#301065\",\"#2F1062\",\"#2D1060\",\"#2B115E\",\"#2A115C\",\"#281159\",\"#261157\",\"#251155\",\"#231152\",\"#221150\",\"#20114D\",\"#1F114B\",\"#1E1049\",\"#1C1046\",\"#1B1044\",\"#1A1041\",\"#180F3F\",\"#170F3C\",\"#160E3A\",\"#150E38\",\"#140D35\",\"#120D33\",\"#110C31\",\"#100C2F\",\"#0F0B2C\",\"#0E0A2A\",\"#0D0A28\",\"#0C0926\",\"#0B0824\",\"#0A0722\",\"#09071F\",\"#08061D\",\"#07051B\",\"#060519\",\"#050417\",\"#040415\",\"#040313\",\"#030311\",\"#02020F\",\"#02020D\",\"#01010B\",\"#010109\",\"#010007\",\"#000006\",\"#000004\",\"#000003\"]},\"id\":\"1483891\",\"type\":\"LinearColorMapper\"},{\"attributes\":{},\"id\":\"1489509\",\"type\":\"BasicTickFormatter\"},{\"attributes\":{},\"id\":\"1489511\",\"type\":\"AllLabels\"},{\"attributes\":{},\"id\":\"1478098\",\"type\":\"UnionRenderers\"},{\"attributes\":{},\"id\":\"1483877\",\"type\":\"PanTool\"},{\"attributes\":{},\"id\":\"1489512\",\"type\":\"BasicTickFormatter\"},{\"attributes\":{},\"id\":\"1478099\",\"type\":\"Selection\"},{\"attributes\":{},\"id\":\"1483878\",\"type\":\"WheelZoomTool\"},{\"attributes\":{\"overlay\":{\"id\":\"1483883\"}},\"id\":\"1483879\",\"type\":\"BoxZoomTool\"},{\"attributes\":{\"active_multi\":null,\"tools\":[{\"id\":\"1483877\"},{\"id\":\"1483878\"},{\"id\":\"1483879\"},{\"id\":\"1483880\"},{\"id\":\"1483881\"},{\"id\":\"1483882\"},{\"id\":\"1483897\"}]},\"id\":\"1483884\",\"type\":\"Toolbar\"},{\"attributes\":{},\"id\":\"1483880\",\"type\":\"SaveTool\"}],\"root_ids\":[\"1483858\"]},\"title\":\"Bokeh Application\",\"version\":\"2.3.3\"}};\n",
       "  var render_items = [{\"docid\":\"acb96f87-8fdf-4b6c-9f73-477ca3ba1a0a\",\"root_ids\":[\"1483858\"],\"roots\":{\"1483858\":\"03814cc4-3930-4204-897d-6548ef18c972\"}}];\n",
       "  root.Bokeh.embed.embed_items_notebook(docs_json, render_items);\n",
       "\n",
       "  }\n",
       "  if (root.Bokeh !== undefined) {\n",
       "    embed_document(root);\n",
       "  } else {\n",
       "    var attempts = 0;\n",
       "    var timer = setInterval(function(root) {\n",
       "      if (root.Bokeh !== undefined) {\n",
       "        clearInterval(timer);\n",
       "        embed_document(root);\n",
       "      } else {\n",
       "        attempts++;\n",
       "        if (attempts > 100) {\n",
       "          clearInterval(timer);\n",
       "          console.log(\"Bokeh: ERROR: Unable to run BokehJS code because BokehJS library is missing\");\n",
       "        }\n",
       "      }\n",
       "    }, 10, root)\n",
       "  }\n",
       "})(window);"
      ],
      "application/vnd.bokehjs_exec.v0+json": ""
     },
     "metadata": {
      "application/vnd.bokehjs_exec.v0+json": {
       "id": "1483858"
      }
     },
     "output_type": "display_data"
    },
    {
     "data": {
      "text/html": [
       "\n",
       "\n",
       "\n",
       "\n",
       "\n",
       "\n",
       "  <div class=\"bk-root\" id=\"e6430306-a9d0-456f-a9f0-49fa53e1df34\" data-root-id=\"1489572\"></div>\n"
      ]
     },
     "metadata": {},
     "output_type": "display_data"
    },
    {
     "data": {
      "application/javascript": [
       "(function(root) {\n",
       "  function embed_document(root) {\n",
       "    \n",
       "  var docs_json = {\"dccd4c35-4b0a-401a-9b53-ed254121c971\":{\"defs\":[],\"roots\":{\"references\":[{\"attributes\":{\"below\":[{\"id\":\"1489583\"}],\"center\":[{\"id\":\"1489586\"},{\"id\":\"1489590\"}],\"height\":400,\"left\":[{\"id\":\"1489587\"}],\"renderers\":[{\"id\":\"1489609\"}],\"right\":[{\"id\":\"1489613\"}],\"title\":{\"id\":\"1489573\"},\"toolbar\":{\"id\":\"1489598\"},\"width\":900,\"x_range\":{\"id\":\"1489575\"},\"x_scale\":{\"id\":\"1489579\"},\"y_range\":{\"id\":\"1489577\"},\"y_scale\":{\"id\":\"1489581\"}},\"id\":\"1489572\",\"subtype\":\"Figure\",\"type\":\"Plot\"},{\"attributes\":{},\"id\":\"1489596\",\"type\":\"HelpTool\"},{\"attributes\":{\"active_multi\":null,\"tools\":[{\"id\":\"1489591\"},{\"id\":\"1489592\"},{\"id\":\"1489593\"},{\"id\":\"1489594\"},{\"id\":\"1489595\"},{\"id\":\"1489596\"},{\"id\":\"1489611\"}]},\"id\":\"1489598\",\"type\":\"Toolbar\"},{\"attributes\":{},\"id\":\"1489575\",\"type\":\"DataRange1d\"},{\"attributes\":{\"text\":\"Action 3: 0 A, 1 B, 1 C\"},\"id\":\"1489573\",\"type\":\"Title\"},{\"attributes\":{},\"id\":\"1489595\",\"type\":\"ResetTool\"},{\"attributes\":{},\"id\":\"1489581\",\"type\":\"LinearScale\"},{\"attributes\":{\"data\":{\"Prob_0\":{\"__ndarray__\":\"U3ymrppVgz/8KwkrjPt9Pxhb5Y15+30/9ShR2IT7fT8rlWkAgft9P2UwCgQ9hn0/CL0q1jSGfT8KFBfaM4Z9P2NY8Wg5hn0/d3uMgLIrfj85SNHpVrp+P+0+6umpK34/DmSTfKIrfj+9UQDuP7p+Pwf7ScowGH8/YUq8M9hRfz9C+mwH6bPtP4jWZ7Eyun4/bZ03l/MDfj9oBg+FVxh/PzBPyNwHUn8/coGGxKJ+fz8cdyNL6LPtPzsgrQZJ+30/Nwwmkeez7T+9YIyXkit+P7m6iUZj+30/Y72swBsYfz8oEe/7gwp+Pw==\",\"dtype\":\"float64\",\"order\":\"little\",\"shape\":[29]},\"Prob_1\":{\"__ndarray__\":\"0wxF22ntSj/unwszBodCP/lAlmgHh0I/4ZpAewiHQj94PkEABYdCP+kXg0L3W0I/i7jIzepbQj8uODmQ4VtCP46aj0X/W0I/59VYwCoUQz8ZH9GRm6VDPy4iRYZIFEM//wsScjUUQz/e1/OovqVDP9s5BxKnAkQ/29+/jK07RD/xLZjEt2CyP1Icq9aepUM/i3b29S+SQj+SwqmuhQJEP/Pn612MO0Q/AAbvAsJqRD8fR+SmvWCyPxwhIITUhkI/RZ7PdsNgsj/Kvqf6UBRDPxopRJDbhkI/ZHjX63YCRD/Tz0xx55pCPw==\",\"dtype\":\"float64\",\"order\":\"little\",\"shape\":[29]},\"Prob_10\":{\"__ndarray__\":\"rmD8ZZ+69j4AAAAAAAAAAAAAAAAAAAAAAAAAAAAAAAAAAAAAAAAAAAAAAAAAAAAAAAAAAAAAAAAAAAAAAAAAAAAAAAAAAAAAAAAAAAAAAAAAAAAAAAAAAAAAAAAAAAAAAAAAAAAAAAAAAAAAAAAAAAAAAAAAAAAAAAAAAAAAAAAAAAAAAAAAAAAAAAAAAAAAcPXPwkD+1j4AAAAAAAAAAAAAAAAAAAAAAAAAAAAAAAAAAAAAAAAAACwDG8V87dY+AAAAAAAAAAAAAAAAAAAAAEUQh4zb7dY+AAAAAAAAAAAAAAAAAAAAAA==\",\"dtype\":\"float64\",\"order\":\"little\",\"shape\":[29]},\"Prob_11\":{\"__ndarray__\":\"zcWJS76N9D4AAAAAAAAAAAAAAAAAAAAAAAAAAAAAAAAAAAAAAAAAAAAAAAAAAAAAAAAAAAAAAAAAAAAAAAAAAAAAAAAAAAAAAAAAAAAAAAAAAAAAAAAAAAAAAAAAAAAAAAAAAAAAAAAAAAAAAAAAAAAAAAAAAAAAAAAAAAAAAAAAAAAAAAAAAAAAAAAAAAAA/jJpOOBp0z4AAAAAAAAAAAAAAAAAAAAAAAAAAAAAAAAAAAAAAAAAAAAAAAAAAAAAAAAAAAAAAAAAAAAAAAAAAIuWk2/GVtM+AAAAAAAAAAAAAAAAAAAAAA==\",\"dtype\":\"float64\",\"order\":\"little\",\"shape\":[29]},\"Prob_2\":{\"__ndarray__\":\"qLLYBk5k9j69U+rPBgHXPjt5qQo1Adc+muwaehwB1z50AlGAHwHXPpCqWWQWy88+893edxbLzz4Qlxj8TcvPPqk3ocncys8+Y+6EIIqMzD6KBSIMQoXLPqS0YQkvjMw+jukJmzKMzD5YBIqMy4TLPiIBDy26IMs+m5X5UFLwyj4AAAAAAAAAANb87bLEhMs+i2gUQ88V1z7mfn6IRiHLPlJ8O33f8Mo++9nbQ/fayj4AAAAAAAAAACxLH6W2ANc+AAAAAAAAAABX2ACY0IvMPqgydyyKANc+7cWrBJ8gyz4b/YZVtybXPg==\",\"dtype\":\"float64\",\"order\":\"little\",\"shape\":[29]},\"Prob_3\":{\"__ndarray__\":\"MsKPY8Wt9z4tLBHvmDfYPkpCOYtxN9g+s2DL2Yk32D5uR1UgfzfYPjChRgITotA+JPN8rAei0D7HxbLOCqLQPjK+CQUPotA+mEaK4GGyzT5JeGoLhYPMPopYwmlAss0+bV4gnDGyzT7Q9v2MQYPMPo7DayyFCsw+M9yGsYXQyz4AAAAAAAAAACoqddImg8w+iziY5nlL2D7fGbQH4ArMPqR4JL3m0Ms+uv37Y6S6yz4AAAAAAAAAAPZ7ZKVuN9g+AAAAAAAAAAAubK63CrLNPjUCb6ugN9g+FlTAQ1QKzD5uQ6UWllrYPg==\",\"dtype\":\"float64\",\"order\":\"little\",\"shape\":[29]},\"Prob_4\":{\"__ndarray__\":\"ji8tj1Kq7z9CS82JT7/vP8jEtq5Pv+8/lGPdl0+/7z8zzG+gT7/vP6AwWERMwO8/IsTWV0zA7z8q3Q5cTMDvP3sEnklMwO8/kNCTANW+7z9FIxbpk73vP3G9bgrVvu8/6kYRHtW+7z8FfHYOlL3vP90T1ynBvO8/01b/sz+87z8AAAAAAAAAADOk7DCUve8/88Y+POy+7z92k4DkwLzvP9BlvVw/vO8/Rk2PZNq77z8AAAAAAAAAAPC4EWcKv+8/AAAAAAAAAABjaRs31b7vP/cyCoUAv+8/jN4GYMG87z+UGIV9LL/vPw==\",\"dtype\":\"float64\",\"order\":\"little\",\"shape\":[29]},\"Prob_5\":{\"__ndarray__\":\"uR0dgUej+D4AAAAAAAAAAAAAAAAAAAAAAAAAAAAAAAAAAAAAAAAAAAAAAAAAAAAAAAAAAAAAAAAAAAAAAAAAAAAAAAAAAAAAAAAAAAAAAAAAAAAAAAAAAAAAAAAAAAAAAAAAAAAAAAAAAAAAAAAAAAAAAAAAAAAAAAAAAAAAAAAAAAAAAAAAAAAAAAAAAAAATiTeqwsc2j4AAAAAAAAAAAAAAAAAAAAAAAAAAAAAAAAAAAAAAAAAAHCAy0UPBto+AAAAAAAAAAAAAAAAAAAAAKus5smbBdo+AAAAAAAAAAAAAAAAAAAAAA==\",\"dtype\":\"float64\",\"order\":\"little\",\"shape\":[29]},\"Prob_6\":{\"__ndarray__\":\"1C9GhQAC9z4AAAAAAAAAAAAAAAAAAAAAAAAAAAAAAAAAAAAAAAAAAAAAAAAAAAAAAAAAAAAAAAAAAAAAAAAAAAAAAAAAAAAAAAAAAAAAAAAAAAAAAAAAAAAAAAAAAAAAAAAAAAAAAAAAAAAAAAAAAAAAAAAAAAAAAAAAAAAAAAAAAAAAAAAAAAAAAAAAAAAAIxW1Aeec1j4AAAAAAAAAAAAAAAAAAAAAAAAAAAAAAAAAAAAAAAAAAM7kBGUoitY+AAAAAAAAAAAAAAAAAAAAAEqJ26xjitY+AAAAAAAAAAAAAAAAAAAAAA==\",\"dtype\":\"float64\",\"order\":\"little\",\"shape\":[29]},\"Prob_7\":{\"__ndarray__\":\"t8KQ42Ct9z4AAAAAAAAAAAAAAAAAAAAAAAAAAAAAAAAAAAAAAAAAAAAAAAAAAAAAAAAAAAAAAAAAAAAAAAAAAAAAAAAAAAAAAAAAAAAAAAAAAAAAAAAAAAAAAAAAAAAAAAAAAAAAAAAAAAAAAAAAAAAAAAAAAAAAAAAAAAAAAAAAAAAAAAAAAAAAAAAAAAAAvlXVRE6w1z4AAAAAAAAAAAAAAAAAAAAAAAAAAAAAAAAAAAAAAAAAABz4QeVunNc+AAAAAAAAAAAAAAAAAAAAAGKw8kuSnNc+AAAAAAAAAAAAAAAAAAAAAA==\",\"dtype\":\"float64\",\"order\":\"little\",\"shape\":[29]},\"Prob_8\":{\"__ndarray__\":\"iVpwiJfE9T4AAAAAAAAAAAAAAAAAAAAAAAAAAAAAAAAAAAAAAAAAAAAAAAAAAAAAAAAAAAAAAAAAAAAAAAAAAAAAAAAAAAAAAAAAAAAAAAAAAAAAAAAAAAAAAAAAAAAAAAAAAAAAAAAAAAAAAAAAAAAAAAAAAAAAAAAAAAAAAAAAAAAAAAAAAAAAAAAAAAAAIa1OPCfB1D4AAAAAAAAAAAAAAAAAAAAAAAAAAAAAAAAAAAAAAAAAAOi/m+T6sdQ+AAAAAAAAAAAAAAAAAAAAAEaQbA4sstQ+AAAAAAAAAAAAAAAAAAAAAA==\",\"dtype\":\"float64\",\"order\":\"little\",\"shape\":[29]},\"Prob_9\":{\"__ndarray__\":\"U75LJB9k9z4AAAAAAAAAAAAAAAAAAAAAAAAAAAAAAAAAAAAAAAAAAAAAAAAAAAAAAAAAAAAAAAAAAAAAAAAAAAAAAAAAAAAAAAAAAAAAAAAAAAAAAAAAAAAAAAAAAAAAAAAAAAAAAAAAAAAAAAAAAAAAAAAAAAAAAAAAAAAAAAAAAAAAAAAAAAAAAAAAAAAAMLvMRFit1z4AAAAAAAAAAAAAAAAAAAAAAAAAAAAAAAAAAAAAAAAAANqXQkU8n9c+AAAAAAAAAAAAAAAAAAAAANU08Kt+n9c+AAAAAAAAAAAAAAAAAAAAAA==\",\"dtype\":\"float64\",\"order\":\"little\",\"shape\":[29]},\"agent_id\":[0,0,0,0,0,0,0,0,0,0,0,0,0,0,0,0,0,0,0,0,0,0,0,0,0,0,0,0,0],\"index\":[0,12,24,28,138,234,246,268,370,564,810,3416,5124,5542,5544,5546,5656,6128,6916,8170,8172,8174,9492,10546,10972,17404,19108,19294,24044],\"infostate_string\":[\"\",\"1, 0, 0<br>1, 0, 0<br>3,0,0\",\"1, 0, 0<br>1, 0, 0<br>3,1,1\",\"1, 0, 0<br>1, 0, 0<br>3,0,1\",\"1, 0, 0<br>1, 0, 0<br>3,1,0\",\"1, 0, 0 | 1, 0, 0<br>1, 0, 0 | 1, 0, 0<br>3,0,1 | 3,0,1\",\"1, 0, 0 | 1, 0, 0<br>1, 0, 0 | 1, 0, 0<br>3,1,0 | 3,1,0\",\"1, 0, 0 | 1, 0, 0<br>1, 0, 0 | 1, 0, 0<br>3,1,1 | 3,1,1\",\"1, 0, 0 | 1, 0, 0<br>1, 0, 0 | 1, 0, 0<br>3,0,0 | 3,0,0\",\"1, 0, 0 | 1, 0, 0 | 1, 0, 0<br>1, 0, 0 | 1, 0, 0 | 1, 0, 0<br>3,1,1 | 3,1,1 | 3,1,1\",\"1, 0, 0 | 1, 0, 0 | 1, 0, 0 | 1, 0, 0<br>1, 0, 0 | 1, 0, 0 | 1, 0, 0 | 1, 0, 0<br>3,1,1 | 3,1,1 | 3,1,1 | 3,1,1\",\"1, 0, 0 | 1, 0, 0 | 1, 0, 0<br>1, 0, 0 | 1, 0, 0 | 1, 0, 0<br>3,0,1 | 3,0,1 | 3,0,1\",\"1, 0, 0 | 1, 0, 0 | 1, 0, 0<br>1, 0, 0 | 1, 0, 0 | 1, 0, 0<br>3,1,0 | 3,1,0 | 3,1,0\",\"1, 0, 0 | 1, 0, 0 | 1, 0, 0 | 1, 0, 0<br>1, 0, 0 | 1, 0, 0 | 1, 0, 0 | 1, 0, 0<br>3,0,1 | 3,0,1 | 3,0,1 | 3,0,1\",\"1, 0, 0 | 1, 0, 0 | 1, 0, 0 | 1, 0, 0 | 1, 0, 0<br>1, 0, 0 | 1, 0, 0 | 1, 0, 0 | 1, 0, 0 | 1, 0, 0<br>3,0,1 | 3,0,1 | 3,0,1 | 3,0,1 | 3,0,1\",\"1, 0, 0 | 1, 0, 0 | 1, 0, 0 | 1, 0, 0 | 1, 0, 0 | 1, 0, 0<br>1, 0, 0 | 1, 0, 0 | 1, 0, 0 | 1, 0, 0 | 1, 0, 0 | 1, 0, 0<br>3,0,1 | 3,0,1 | 3,0,1 | 3,0,1 | 3,0,1 | 3,0,1\",\"0, 0, 1<br>0, 0, 1<br>1,0,2\",\"1, 0, 0 | 1, 0, 0 | 1, 0, 0 | 1, 0, 0<br>1, 0, 0 | 1, 0, 0 | 1, 0, 0 | 1, 0, 0<br>3,1,0 | 3,1,0 | 3,1,0 | 3,1,0\",\"2, 1, 1<br>2, 1, 1<br>2,1,2\",\"1, 0, 0 | 1, 0, 0 | 1, 0, 0 | 1, 0, 0 | 1, 0, 0<br>1, 0, 0 | 1, 0, 0 | 1, 0, 0 | 1, 0, 0 | 1, 0, 0<br>3,1,1 | 3,1,1 | 3,1,1 | 3,1,1 | 3,1,1\",\"1, 0, 0 | 1, 0, 0 | 1, 0, 0 | 1, 0, 0 | 1, 0, 0 | 1, 0, 0<br>1, 0, 0 | 1, 0, 0 | 1, 0, 0 | 1, 0, 0 | 1, 0, 0 | 1, 0, 0<br>3,1,1 | 3,1,1 | 3,1,1 | 3,1,1 | 3,1,1 | 3,1,1\",\"1, 0, 0 | 1, 0, 0 | 1, 0, 0 | 1, 0, 0 | 1, 0, 0 | 1, 0, 0 | 1, 0, 0<br>1, 0, 0 | 1, 0, 0 | 1, 0, 0 | 1, 0, 0 | 1, 0, 0 | 1, 0, 0 | 1, 0, 0<br>3,1,1 | 3,1,1 | 3,1,1 | 3,1,1 | 3,1,1 | 3,1,1 | 3,1,1\",\"0, 0, 1<br>0, 0, 1<br>2,0,2\",\"2, 1, 0<br>2, 1, 0<br>3,1,0\",\"0, 0, 1<br>0, 0, 1<br>2,1,2\",\"1, 0, 0 | 1, 0, 0 | 1, 0, 0<br>1, 0, 0 | 1, 0, 0 | 1, 0, 0<br>3,0,0 | 3,0,0 | 3,0,0\",\"2, 1, 1<br>2, 1, 1<br>3,1,1\",\"1, 0, 0 | 1, 0, 0 | 1, 0, 0 | 1, 0, 0 | 1, 0, 0<br>1, 0, 0 | 1, 0, 0 | 1, 0, 0 | 1, 0, 0 | 1, 0, 0<br>3,1,0 | 3,1,0 | 3,1,0 | 3,1,0 | 3,1,0\",\"0, 1, 1<br>0, 1, 1<br>1,2,1\"],\"pca_0\":{\"__ndarray__\":\"TSWYP22nqz7WpKs+O6arPv6lqz4w9Ie9MPKHvf/vh71k9oe9uhKEviYTtb4MFoS+0BSEvscXtb6jpM6+tKDcvpHQqz77FbW+K9SrPoCfzr61m9y+JA7lvmDPqz6Yqas+BM6rPigYhL44q6s+RKLOvh32qz4=\",\"dtype\":\"float32\",\"order\":\"little\",\"shape\":[29]},\"pca_1\":{\"__ndarray__\":\"W3qJPuVqMr2VWzK9YGMyvfpiMr0DfT+9hn8/vXl0P71KiD+9xqv2uxi81jwt2/a7cxP3u8a21jzDCks9HciEPeRjNb3TmtY8oHc1vWEKSz0oxYQ9nZOZPdRbNb36djK9q1M1vb9E97sDgDK96vBKPYaeN70=\",\"dtype\":\"float32\",\"order\":\"little\",\"shape\":[29]},\"round\":[1,2,2,2,2,3,3,3,3,4,5,4,4,5,6,7,2,5,2,6,7,8,2,2,2,4,2,6,2],\"sor_exposure\":{\"__ndarray__\":\"AAAAAAAAAAAAAAAAAMBSQAAAAAAAwFJAAAAAAADAUkAAAAAAAMBSQAAAAAAAoFRAAAAAAACgVEAAAAAAAKBUQAAAAAAAoFRAAAAAAACwVkAAAADAzPRYQAAAAAAAsFZAAAAAAACwVkAAAADAzPRYQAAAACCuc1tAAAAAwHIyXkAAAAAAAAA5QAAAAMDM9FhAAAAAAAAgbEAAAAAgrnNbQAAAAMByMl5AAAAAIL+bYEAAAAAAAAA5QAAAAAAAAGlAAAAAAAAAOUAAAAAAALBWQAAAAAAAIGxAAAAAIK5zW0AAAAAAAMBSQA==\",\"dtype\":\"float64\",\"order\":\"little\",\"shape\":[29]}},\"selected\":{\"id\":\"1478099\"},\"selection_policy\":{\"id\":\"1478098\"}},\"id\":\"1472462\",\"type\":\"ColumnDataSource\"},{\"attributes\":{},\"id\":\"1489594\",\"type\":\"SaveTool\"},{\"attributes\":{},\"id\":\"1489579\",\"type\":\"LinearScale\"},{\"attributes\":{},\"id\":\"1489592\",\"type\":\"WheelZoomTool\"},{\"attributes\":{},\"id\":\"1489577\",\"type\":\"DataRange1d\"},{\"attributes\":{},\"id\":\"1489591\",\"type\":\"PanTool\"},{\"attributes\":{\"bottom_units\":\"screen\",\"fill_alpha\":0.5,\"fill_color\":\"lightgrey\",\"left_units\":\"screen\",\"level\":\"overlay\",\"line_alpha\":1.0,\"line_color\":\"black\",\"line_dash\":[4,4],\"line_width\":2,\"right_units\":\"screen\",\"syncable\":false,\"top_units\":\"screen\"},\"id\":\"1489597\",\"type\":\"BoxAnnotation\"},{\"attributes\":{\"formatter\":{\"id\":\"1495234\"},\"major_label_policy\":{\"id\":\"1495233\"},\"ticker\":{\"id\":\"1489588\"}},\"id\":\"1489587\",\"type\":\"LinearAxis\"},{\"attributes\":{},\"id\":\"1489584\",\"type\":\"BasicTicker\"},{\"attributes\":{\"axis\":{\"id\":\"1489583\"},\"ticker\":null},\"id\":\"1489586\",\"type\":\"Grid\"},{\"attributes\":{\"formatter\":{\"id\":\"1495237\"},\"major_label_policy\":{\"id\":\"1495236\"},\"ticker\":{\"id\":\"1489584\"}},\"id\":\"1489583\",\"type\":\"LinearAxis\"},{\"attributes\":{},\"id\":\"1495233\",\"type\":\"AllLabels\"},{\"attributes\":{},\"id\":\"1495232\",\"type\":\"NoOverlap\"},{\"attributes\":{\"source\":{\"id\":\"1472462\"}},\"id\":\"1489610\",\"type\":\"CDSView\"},{\"attributes\":{\"overlay\":{\"id\":\"1489597\"}},\"id\":\"1489593\",\"type\":\"BoxZoomTool\"},{\"attributes\":{\"data_source\":{\"id\":\"1472462\"},\"glyph\":{\"id\":\"1489607\"},\"hover_glyph\":null,\"muted_glyph\":null,\"nonselection_glyph\":{\"id\":\"1489608\"},\"view\":{\"id\":\"1489610\"}},\"id\":\"1489609\",\"type\":\"GlyphRenderer\"},{\"attributes\":{},\"id\":\"1495234\",\"type\":\"BasicTickFormatter\"},{\"attributes\":{},\"id\":\"1478098\",\"type\":\"UnionRenderers\"},{\"attributes\":{\"callback\":null,\"tooltips\":[[\"Infostate\",\"@infostate_string\"],[\"Prob\",\"@Prob_3{(.00)}\"],[\"SoRExposure\",\"@sor_exposure\"],[\"Round\",\"@round\"]]},\"id\":\"1489611\",\"type\":\"HoverTool\"},{\"attributes\":{\"fill_alpha\":{\"value\":0.3},\"fill_color\":{\"field\":\"Prob_3\",\"transform\":{\"id\":\"1489605\"}},\"line_alpha\":{\"value\":0.3},\"line_color\":{\"field\":\"Prob_3\",\"transform\":{\"id\":\"1489605\"}},\"size\":{\"value\":10},\"x\":{\"field\":\"pca_0\"},\"y\":{\"field\":\"pca_1\"}},\"id\":\"1489607\",\"type\":\"Circle\"},{\"attributes\":{},\"id\":\"1495237\",\"type\":\"BasicTickFormatter\"},{\"attributes\":{},\"id\":\"1478099\",\"type\":\"Selection\"},{\"attributes\":{\"axis\":{\"id\":\"1489587\"},\"dimension\":1,\"ticker\":null},\"id\":\"1489590\",\"type\":\"Grid\"},{\"attributes\":{},\"id\":\"1489588\",\"type\":\"BasicTicker\"},{\"attributes\":{\"fill_alpha\":{\"value\":0.1},\"fill_color\":{\"field\":\"Prob_3\",\"transform\":{\"id\":\"1489605\"}},\"line_alpha\":{\"value\":0.1},\"line_color\":{\"field\":\"Prob_3\",\"transform\":{\"id\":\"1489605\"}},\"size\":{\"value\":10},\"x\":{\"field\":\"pca_0\"},\"y\":{\"field\":\"pca_1\"}},\"id\":\"1489608\",\"type\":\"Circle\"},{\"attributes\":{},\"id\":\"1495236\",\"type\":\"AllLabels\"},{\"attributes\":{\"high\":0.9922239110955264,\"low\":-0.1,\"palette\":[\"#FBFCBF\",\"#FBFABD\",\"#FBF9BB\",\"#FBF7B9\",\"#FCF5B7\",\"#FCF3B5\",\"#FCF1B3\",\"#FCF0B1\",\"#FCEEB0\",\"#FCECAE\",\"#FCEAAC\",\"#FCE8AA\",\"#FCE6A8\",\"#FCE5A6\",\"#FCE3A5\",\"#FDE1A3\",\"#FDDFA1\",\"#FDDD9F\",\"#FDDC9D\",\"#FDDA9C\",\"#FDD89A\",\"#FDD698\",\"#FDD497\",\"#FDD295\",\"#FDD193\",\"#FDCF92\",\"#FDCD90\",\"#FECB8E\",\"#FEC98D\",\"#FEC78B\",\"#FEC689\",\"#FEC488\",\"#FEC286\",\"#FEC085\",\"#FEBE83\",\"#FEBC82\",\"#FEBB80\",\"#FEB97F\",\"#FEB77D\",\"#FEB57C\",\"#FEB37B\",\"#FEB179\",\"#FEAF78\",\"#FEAE76\",\"#FEAC75\",\"#FEAA74\",\"#FEA873\",\"#FEA671\",\"#FDA470\",\"#FDA26F\",\"#FDA16E\",\"#FD9F6C\",\"#FD9D6B\",\"#FD9B6A\",\"#FD9969\",\"#FD9768\",\"#FD9567\",\"#FC9366\",\"#FC9265\",\"#FC9064\",\"#FC8E63\",\"#FC8C63\",\"#FB8A62\",\"#FB8861\",\"#FB8660\",\"#FB8460\",\"#FA825F\",\"#FA805E\",\"#FA7F5E\",\"#F97D5D\",\"#F97B5D\",\"#F9795C\",\"#F8775C\",\"#F8755C\",\"#F7735C\",\"#F7715B\",\"#F6705B\",\"#F66E5B\",\"#F56C5B\",\"#F56A5B\",\"#F4685B\",\"#F3675B\",\"#F3655C\",\"#F2635C\",\"#F1615C\",\"#F0605D\",\"#EF5E5D\",\"#EE5D5D\",\"#EE5B5E\",\"#ED595F\",\"#EC585F\",\"#EB5660\",\"#EA5560\",\"#E85461\",\"#E75262\",\"#E65162\",\"#E55063\",\"#E44E64\",\"#E24D65\",\"#E14C66\",\"#E04B66\",\"#DE4A67\",\"#DD4968\",\"#DC4869\",\"#DA4769\",\"#D9466A\",\"#D7456B\",\"#D6446C\",\"#D4436D\",\"#D3426D\",\"#D1426E\",\"#D0416F\",\"#CE4070\",\"#CD3F70\",\"#CB3E71\",\"#CA3E72\",\"#C83D72\",\"#C63C73\",\"#C53C74\",\"#C33B74\",\"#C23A75\",\"#C03A75\",\"#BE3976\",\"#BD3977\",\"#BB3877\",\"#B93778\",\"#B83778\",\"#B63679\",\"#B53679\",\"#B3357A\",\"#B1357A\",\"#B0347B\",\"#AE347B\",\"#AC337B\",\"#AB337C\",\"#A9327C\",\"#A7317D\",\"#A6317D\",\"#A4307D\",\"#A3307E\",\"#A12F7E\",\"#9F2F7E\",\"#9E2E7E\",\"#9C2E7F\",\"#9A2D7F\",\"#992D7F\",\"#972C7F\",\"#952C80\",\"#942B80\",\"#922B80\",\"#912A80\",\"#8F2A80\",\"#8D2980\",\"#8C2980\",\"#8A2881\",\"#892881\",\"#872781\",\"#852681\",\"#842681\",\"#822581\",\"#812581\",\"#7F2481\",\"#7E2481\",\"#7C2381\",\"#7A2281\",\"#792281\",\"#772181\",\"#762181\",\"#742081\",\"#731F81\",\"#711F81\",\"#6F1E81\",\"#6E1E81\",\"#6C1D80\",\"#6B1C80\",\"#691C80\",\"#681B80\",\"#661A80\",\"#651A80\",\"#63197F\",\"#61187F\",\"#60187F\",\"#5E177F\",\"#5D177E\",\"#5B167E\",\"#5A157E\",\"#58157E\",\"#57147D\",\"#55137D\",\"#53137C\",\"#52127C\",\"#50127B\",\"#4F117B\",\"#4D117A\",\"#4B1079\",\"#4A1079\",\"#481078\",\"#470F77\",\"#450F76\",\"#430F75\",\"#420F74\",\"#400F73\",\"#3E0F72\",\"#3C0F71\",\"#3B0F6F\",\"#390F6E\",\"#370F6C\",\"#350F6A\",\"#341068\",\"#321067\",\"#301065\",\"#2F1062\",\"#2D1060\",\"#2B115E\",\"#2A115C\",\"#281159\",\"#261157\",\"#251155\",\"#231152\",\"#221150\",\"#20114D\",\"#1F114B\",\"#1E1049\",\"#1C1046\",\"#1B1044\",\"#1A1041\",\"#180F3F\",\"#170F3C\",\"#160E3A\",\"#150E38\",\"#140D35\",\"#120D33\",\"#110C31\",\"#100C2F\",\"#0F0B2C\",\"#0E0A2A\",\"#0D0A28\",\"#0C0926\",\"#0B0824\",\"#0A0722\",\"#09071F\",\"#08061D\",\"#07051B\",\"#060519\",\"#050417\",\"#040415\",\"#040313\",\"#030311\",\"#02020F\",\"#02020D\",\"#01010B\",\"#010109\",\"#010007\",\"#000006\",\"#000004\",\"#000003\"]},\"id\":\"1489605\",\"type\":\"LinearColorMapper\"},{\"attributes\":{\"color_mapper\":{\"id\":\"1489605\"},\"label_standoff\":12,\"major_label_policy\":{\"id\":\"1495232\"}},\"id\":\"1489613\",\"type\":\"ColorBar\"}],\"root_ids\":[\"1489572\"]},\"title\":\"Bokeh Application\",\"version\":\"2.3.3\"}};\n",
       "  var render_items = [{\"docid\":\"dccd4c35-4b0a-401a-9b53-ed254121c971\",\"root_ids\":[\"1489572\"],\"roots\":{\"1489572\":\"e6430306-a9d0-456f-a9f0-49fa53e1df34\"}}];\n",
       "  root.Bokeh.embed.embed_items_notebook(docs_json, render_items);\n",
       "\n",
       "  }\n",
       "  if (root.Bokeh !== undefined) {\n",
       "    embed_document(root);\n",
       "  } else {\n",
       "    var attempts = 0;\n",
       "    var timer = setInterval(function(root) {\n",
       "      if (root.Bokeh !== undefined) {\n",
       "        clearInterval(timer);\n",
       "        embed_document(root);\n",
       "      } else {\n",
       "        attempts++;\n",
       "        if (attempts > 100) {\n",
       "          clearInterval(timer);\n",
       "          console.log(\"Bokeh: ERROR: Unable to run BokehJS code because BokehJS library is missing\");\n",
       "        }\n",
       "      }\n",
       "    }, 10, root)\n",
       "  }\n",
       "})(window);"
      ],
      "application/vnd.bokehjs_exec.v0+json": ""
     },
     "metadata": {
      "application/vnd.bokehjs_exec.v0+json": {
       "id": "1489572"
      }
     },
     "output_type": "display_data"
    },
    {
     "data": {
      "text/html": [
       "\n",
       "\n",
       "\n",
       "\n",
       "\n",
       "\n",
       "  <div class=\"bk-root\" id=\"f7ef02ec-8333-417e-ba6b-4b7875da6917\" data-root-id=\"1495297\"></div>\n"
      ]
     },
     "metadata": {},
     "output_type": "display_data"
    },
    {
     "data": {
      "application/javascript": [
       "(function(root) {\n",
       "  function embed_document(root) {\n",
       "    \n",
       "  var docs_json = {\"957fb14e-d3cd-4156-bb10-fdc040e84e3a\":{\"defs\":[],\"roots\":{\"references\":[{\"attributes\":{\"below\":[{\"id\":\"1495308\"}],\"center\":[{\"id\":\"1495311\"},{\"id\":\"1495315\"}],\"height\":400,\"left\":[{\"id\":\"1495312\"}],\"renderers\":[{\"id\":\"1495334\"}],\"right\":[{\"id\":\"1495338\"}],\"title\":{\"id\":\"1495298\"},\"toolbar\":{\"id\":\"1495323\"},\"width\":900,\"x_range\":{\"id\":\"1495300\"},\"x_scale\":{\"id\":\"1495304\"},\"y_range\":{\"id\":\"1495302\"},\"y_scale\":{\"id\":\"1495306\"}},\"id\":\"1495297\",\"subtype\":\"Figure\",\"type\":\"Plot\"},{\"attributes\":{\"axis\":{\"id\":\"1495308\"},\"ticker\":null},\"id\":\"1495311\",\"type\":\"Grid\"},{\"attributes\":{\"bottom_units\":\"screen\",\"fill_alpha\":0.5,\"fill_color\":\"lightgrey\",\"left_units\":\"screen\",\"level\":\"overlay\",\"line_alpha\":1.0,\"line_color\":\"black\",\"line_dash\":[4,4],\"line_width\":2,\"right_units\":\"screen\",\"syncable\":false,\"top_units\":\"screen\"},\"id\":\"1495322\",\"type\":\"BoxAnnotation\"},{\"attributes\":{},\"id\":\"1495304\",\"type\":\"LinearScale\"},{\"attributes\":{\"formatter\":{\"id\":\"1500973\"},\"major_label_policy\":{\"id\":\"1500972\"},\"ticker\":{\"id\":\"1495309\"}},\"id\":\"1495308\",\"type\":\"LinearAxis\"},{\"attributes\":{\"source\":{\"id\":\"1472462\"}},\"id\":\"1495335\",\"type\":\"CDSView\"},{\"attributes\":{\"data\":{\"Prob_0\":{\"__ndarray__\":\"U3ymrppVgz/8KwkrjPt9Pxhb5Y15+30/9ShR2IT7fT8rlWkAgft9P2UwCgQ9hn0/CL0q1jSGfT8KFBfaM4Z9P2NY8Wg5hn0/d3uMgLIrfj85SNHpVrp+P+0+6umpK34/DmSTfKIrfj+9UQDuP7p+Pwf7ScowGH8/YUq8M9hRfz9C+mwH6bPtP4jWZ7Eyun4/bZ03l/MDfj9oBg+FVxh/PzBPyNwHUn8/coGGxKJ+fz8cdyNL6LPtPzsgrQZJ+30/Nwwmkeez7T+9YIyXkit+P7m6iUZj+30/Y72swBsYfz8oEe/7gwp+Pw==\",\"dtype\":\"float64\",\"order\":\"little\",\"shape\":[29]},\"Prob_1\":{\"__ndarray__\":\"0wxF22ntSj/unwszBodCP/lAlmgHh0I/4ZpAewiHQj94PkEABYdCP+kXg0L3W0I/i7jIzepbQj8uODmQ4VtCP46aj0X/W0I/59VYwCoUQz8ZH9GRm6VDPy4iRYZIFEM//wsScjUUQz/e1/OovqVDP9s5BxKnAkQ/29+/jK07RD/xLZjEt2CyP1Icq9aepUM/i3b29S+SQj+SwqmuhQJEP/Pn612MO0Q/AAbvAsJqRD8fR+SmvWCyPxwhIITUhkI/RZ7PdsNgsj/Kvqf6UBRDPxopRJDbhkI/ZHjX63YCRD/Tz0xx55pCPw==\",\"dtype\":\"float64\",\"order\":\"little\",\"shape\":[29]},\"Prob_10\":{\"__ndarray__\":\"rmD8ZZ+69j4AAAAAAAAAAAAAAAAAAAAAAAAAAAAAAAAAAAAAAAAAAAAAAAAAAAAAAAAAAAAAAAAAAAAAAAAAAAAAAAAAAAAAAAAAAAAAAAAAAAAAAAAAAAAAAAAAAAAAAAAAAAAAAAAAAAAAAAAAAAAAAAAAAAAAAAAAAAAAAAAAAAAAAAAAAAAAAAAAAAAAcPXPwkD+1j4AAAAAAAAAAAAAAAAAAAAAAAAAAAAAAAAAAAAAAAAAACwDG8V87dY+AAAAAAAAAAAAAAAAAAAAAEUQh4zb7dY+AAAAAAAAAAAAAAAAAAAAAA==\",\"dtype\":\"float64\",\"order\":\"little\",\"shape\":[29]},\"Prob_11\":{\"__ndarray__\":\"zcWJS76N9D4AAAAAAAAAAAAAAAAAAAAAAAAAAAAAAAAAAAAAAAAAAAAAAAAAAAAAAAAAAAAAAAAAAAAAAAAAAAAAAAAAAAAAAAAAAAAAAAAAAAAAAAAAAAAAAAAAAAAAAAAAAAAAAAAAAAAAAAAAAAAAAAAAAAAAAAAAAAAAAAAAAAAAAAAAAAAAAAAAAAAA/jJpOOBp0z4AAAAAAAAAAAAAAAAAAAAAAAAAAAAAAAAAAAAAAAAAAAAAAAAAAAAAAAAAAAAAAAAAAAAAAAAAAIuWk2/GVtM+AAAAAAAAAAAAAAAAAAAAAA==\",\"dtype\":\"float64\",\"order\":\"little\",\"shape\":[29]},\"Prob_2\":{\"__ndarray__\":\"qLLYBk5k9j69U+rPBgHXPjt5qQo1Adc+muwaehwB1z50AlGAHwHXPpCqWWQWy88+893edxbLzz4Qlxj8TcvPPqk3ocncys8+Y+6EIIqMzD6KBSIMQoXLPqS0YQkvjMw+jukJmzKMzD5YBIqMy4TLPiIBDy26IMs+m5X5UFLwyj4AAAAAAAAAANb87bLEhMs+i2gUQ88V1z7mfn6IRiHLPlJ8O33f8Mo++9nbQ/fayj4AAAAAAAAAACxLH6W2ANc+AAAAAAAAAABX2ACY0IvMPqgydyyKANc+7cWrBJ8gyz4b/YZVtybXPg==\",\"dtype\":\"float64\",\"order\":\"little\",\"shape\":[29]},\"Prob_3\":{\"__ndarray__\":\"MsKPY8Wt9z4tLBHvmDfYPkpCOYtxN9g+s2DL2Yk32D5uR1UgfzfYPjChRgITotA+JPN8rAei0D7HxbLOCqLQPjK+CQUPotA+mEaK4GGyzT5JeGoLhYPMPopYwmlAss0+bV4gnDGyzT7Q9v2MQYPMPo7DayyFCsw+M9yGsYXQyz4AAAAAAAAAACoqddImg8w+iziY5nlL2D7fGbQH4ArMPqR4JL3m0Ms+uv37Y6S6yz4AAAAAAAAAAPZ7ZKVuN9g+AAAAAAAAAAAubK63CrLNPjUCb6ugN9g+FlTAQ1QKzD5uQ6UWllrYPg==\",\"dtype\":\"float64\",\"order\":\"little\",\"shape\":[29]},\"Prob_4\":{\"__ndarray__\":\"ji8tj1Kq7z9CS82JT7/vP8jEtq5Pv+8/lGPdl0+/7z8zzG+gT7/vP6AwWERMwO8/IsTWV0zA7z8q3Q5cTMDvP3sEnklMwO8/kNCTANW+7z9FIxbpk73vP3G9bgrVvu8/6kYRHtW+7z8FfHYOlL3vP90T1ynBvO8/01b/sz+87z8AAAAAAAAAADOk7DCUve8/88Y+POy+7z92k4DkwLzvP9BlvVw/vO8/Rk2PZNq77z8AAAAAAAAAAPC4EWcKv+8/AAAAAAAAAABjaRs31b7vP/cyCoUAv+8/jN4GYMG87z+UGIV9LL/vPw==\",\"dtype\":\"float64\",\"order\":\"little\",\"shape\":[29]},\"Prob_5\":{\"__ndarray__\":\"uR0dgUej+D4AAAAAAAAAAAAAAAAAAAAAAAAAAAAAAAAAAAAAAAAAAAAAAAAAAAAAAAAAAAAAAAAAAAAAAAAAAAAAAAAAAAAAAAAAAAAAAAAAAAAAAAAAAAAAAAAAAAAAAAAAAAAAAAAAAAAAAAAAAAAAAAAAAAAAAAAAAAAAAAAAAAAAAAAAAAAAAAAAAAAATiTeqwsc2j4AAAAAAAAAAAAAAAAAAAAAAAAAAAAAAAAAAAAAAAAAAHCAy0UPBto+AAAAAAAAAAAAAAAAAAAAAKus5smbBdo+AAAAAAAAAAAAAAAAAAAAAA==\",\"dtype\":\"float64\",\"order\":\"little\",\"shape\":[29]},\"Prob_6\":{\"__ndarray__\":\"1C9GhQAC9z4AAAAAAAAAAAAAAAAAAAAAAAAAAAAAAAAAAAAAAAAAAAAAAAAAAAAAAAAAAAAAAAAAAAAAAAAAAAAAAAAAAAAAAAAAAAAAAAAAAAAAAAAAAAAAAAAAAAAAAAAAAAAAAAAAAAAAAAAAAAAAAAAAAAAAAAAAAAAAAAAAAAAAAAAAAAAAAAAAAAAAIxW1Aeec1j4AAAAAAAAAAAAAAAAAAAAAAAAAAAAAAAAAAAAAAAAAAM7kBGUoitY+AAAAAAAAAAAAAAAAAAAAAEqJ26xjitY+AAAAAAAAAAAAAAAAAAAAAA==\",\"dtype\":\"float64\",\"order\":\"little\",\"shape\":[29]},\"Prob_7\":{\"__ndarray__\":\"t8KQ42Ct9z4AAAAAAAAAAAAAAAAAAAAAAAAAAAAAAAAAAAAAAAAAAAAAAAAAAAAAAAAAAAAAAAAAAAAAAAAAAAAAAAAAAAAAAAAAAAAAAAAAAAAAAAAAAAAAAAAAAAAAAAAAAAAAAAAAAAAAAAAAAAAAAAAAAAAAAAAAAAAAAAAAAAAAAAAAAAAAAAAAAAAAvlXVRE6w1z4AAAAAAAAAAAAAAAAAAAAAAAAAAAAAAAAAAAAAAAAAABz4QeVunNc+AAAAAAAAAAAAAAAAAAAAAGKw8kuSnNc+AAAAAAAAAAAAAAAAAAAAAA==\",\"dtype\":\"float64\",\"order\":\"little\",\"shape\":[29]},\"Prob_8\":{\"__ndarray__\":\"iVpwiJfE9T4AAAAAAAAAAAAAAAAAAAAAAAAAAAAAAAAAAAAAAAAAAAAAAAAAAAAAAAAAAAAAAAAAAAAAAAAAAAAAAAAAAAAAAAAAAAAAAAAAAAAAAAAAAAAAAAAAAAAAAAAAAAAAAAAAAAAAAAAAAAAAAAAAAAAAAAAAAAAAAAAAAAAAAAAAAAAAAAAAAAAAIa1OPCfB1D4AAAAAAAAAAAAAAAAAAAAAAAAAAAAAAAAAAAAAAAAAAOi/m+T6sdQ+AAAAAAAAAAAAAAAAAAAAAEaQbA4sstQ+AAAAAAAAAAAAAAAAAAAAAA==\",\"dtype\":\"float64\",\"order\":\"little\",\"shape\":[29]},\"Prob_9\":{\"__ndarray__\":\"U75LJB9k9z4AAAAAAAAAAAAAAAAAAAAAAAAAAAAAAAAAAAAAAAAAAAAAAAAAAAAAAAAAAAAAAAAAAAAAAAAAAAAAAAAAAAAAAAAAAAAAAAAAAAAAAAAAAAAAAAAAAAAAAAAAAAAAAAAAAAAAAAAAAAAAAAAAAAAAAAAAAAAAAAAAAAAAAAAAAAAAAAAAAAAAMLvMRFit1z4AAAAAAAAAAAAAAAAAAAAAAAAAAAAAAAAAAAAAAAAAANqXQkU8n9c+AAAAAAAAAAAAAAAAAAAAANU08Kt+n9c+AAAAAAAAAAAAAAAAAAAAAA==\",\"dtype\":\"float64\",\"order\":\"little\",\"shape\":[29]},\"agent_id\":[0,0,0,0,0,0,0,0,0,0,0,0,0,0,0,0,0,0,0,0,0,0,0,0,0,0,0,0,0],\"index\":[0,12,24,28,138,234,246,268,370,564,810,3416,5124,5542,5544,5546,5656,6128,6916,8170,8172,8174,9492,10546,10972,17404,19108,19294,24044],\"infostate_string\":[\"\",\"1, 0, 0<br>1, 0, 0<br>3,0,0\",\"1, 0, 0<br>1, 0, 0<br>3,1,1\",\"1, 0, 0<br>1, 0, 0<br>3,0,1\",\"1, 0, 0<br>1, 0, 0<br>3,1,0\",\"1, 0, 0 | 1, 0, 0<br>1, 0, 0 | 1, 0, 0<br>3,0,1 | 3,0,1\",\"1, 0, 0 | 1, 0, 0<br>1, 0, 0 | 1, 0, 0<br>3,1,0 | 3,1,0\",\"1, 0, 0 | 1, 0, 0<br>1, 0, 0 | 1, 0, 0<br>3,1,1 | 3,1,1\",\"1, 0, 0 | 1, 0, 0<br>1, 0, 0 | 1, 0, 0<br>3,0,0 | 3,0,0\",\"1, 0, 0 | 1, 0, 0 | 1, 0, 0<br>1, 0, 0 | 1, 0, 0 | 1, 0, 0<br>3,1,1 | 3,1,1 | 3,1,1\",\"1, 0, 0 | 1, 0, 0 | 1, 0, 0 | 1, 0, 0<br>1, 0, 0 | 1, 0, 0 | 1, 0, 0 | 1, 0, 0<br>3,1,1 | 3,1,1 | 3,1,1 | 3,1,1\",\"1, 0, 0 | 1, 0, 0 | 1, 0, 0<br>1, 0, 0 | 1, 0, 0 | 1, 0, 0<br>3,0,1 | 3,0,1 | 3,0,1\",\"1, 0, 0 | 1, 0, 0 | 1, 0, 0<br>1, 0, 0 | 1, 0, 0 | 1, 0, 0<br>3,1,0 | 3,1,0 | 3,1,0\",\"1, 0, 0 | 1, 0, 0 | 1, 0, 0 | 1, 0, 0<br>1, 0, 0 | 1, 0, 0 | 1, 0, 0 | 1, 0, 0<br>3,0,1 | 3,0,1 | 3,0,1 | 3,0,1\",\"1, 0, 0 | 1, 0, 0 | 1, 0, 0 | 1, 0, 0 | 1, 0, 0<br>1, 0, 0 | 1, 0, 0 | 1, 0, 0 | 1, 0, 0 | 1, 0, 0<br>3,0,1 | 3,0,1 | 3,0,1 | 3,0,1 | 3,0,1\",\"1, 0, 0 | 1, 0, 0 | 1, 0, 0 | 1, 0, 0 | 1, 0, 0 | 1, 0, 0<br>1, 0, 0 | 1, 0, 0 | 1, 0, 0 | 1, 0, 0 | 1, 0, 0 | 1, 0, 0<br>3,0,1 | 3,0,1 | 3,0,1 | 3,0,1 | 3,0,1 | 3,0,1\",\"0, 0, 1<br>0, 0, 1<br>1,0,2\",\"1, 0, 0 | 1, 0, 0 | 1, 0, 0 | 1, 0, 0<br>1, 0, 0 | 1, 0, 0 | 1, 0, 0 | 1, 0, 0<br>3,1,0 | 3,1,0 | 3,1,0 | 3,1,0\",\"2, 1, 1<br>2, 1, 1<br>2,1,2\",\"1, 0, 0 | 1, 0, 0 | 1, 0, 0 | 1, 0, 0 | 1, 0, 0<br>1, 0, 0 | 1, 0, 0 | 1, 0, 0 | 1, 0, 0 | 1, 0, 0<br>3,1,1 | 3,1,1 | 3,1,1 | 3,1,1 | 3,1,1\",\"1, 0, 0 | 1, 0, 0 | 1, 0, 0 | 1, 0, 0 | 1, 0, 0 | 1, 0, 0<br>1, 0, 0 | 1, 0, 0 | 1, 0, 0 | 1, 0, 0 | 1, 0, 0 | 1, 0, 0<br>3,1,1 | 3,1,1 | 3,1,1 | 3,1,1 | 3,1,1 | 3,1,1\",\"1, 0, 0 | 1, 0, 0 | 1, 0, 0 | 1, 0, 0 | 1, 0, 0 | 1, 0, 0 | 1, 0, 0<br>1, 0, 0 | 1, 0, 0 | 1, 0, 0 | 1, 0, 0 | 1, 0, 0 | 1, 0, 0 | 1, 0, 0<br>3,1,1 | 3,1,1 | 3,1,1 | 3,1,1 | 3,1,1 | 3,1,1 | 3,1,1\",\"0, 0, 1<br>0, 0, 1<br>2,0,2\",\"2, 1, 0<br>2, 1, 0<br>3,1,0\",\"0, 0, 1<br>0, 0, 1<br>2,1,2\",\"1, 0, 0 | 1, 0, 0 | 1, 0, 0<br>1, 0, 0 | 1, 0, 0 | 1, 0, 0<br>3,0,0 | 3,0,0 | 3,0,0\",\"2, 1, 1<br>2, 1, 1<br>3,1,1\",\"1, 0, 0 | 1, 0, 0 | 1, 0, 0 | 1, 0, 0 | 1, 0, 0<br>1, 0, 0 | 1, 0, 0 | 1, 0, 0 | 1, 0, 0 | 1, 0, 0<br>3,1,0 | 3,1,0 | 3,1,0 | 3,1,0 | 3,1,0\",\"0, 1, 1<br>0, 1, 1<br>1,2,1\"],\"pca_0\":{\"__ndarray__\":\"TSWYP22nqz7WpKs+O6arPv6lqz4w9Ie9MPKHvf/vh71k9oe9uhKEviYTtb4MFoS+0BSEvscXtb6jpM6+tKDcvpHQqz77FbW+K9SrPoCfzr61m9y+JA7lvmDPqz6Yqas+BM6rPigYhL44q6s+RKLOvh32qz4=\",\"dtype\":\"float32\",\"order\":\"little\",\"shape\":[29]},\"pca_1\":{\"__ndarray__\":\"W3qJPuVqMr2VWzK9YGMyvfpiMr0DfT+9hn8/vXl0P71KiD+9xqv2uxi81jwt2/a7cxP3u8a21jzDCks9HciEPeRjNb3TmtY8oHc1vWEKSz0oxYQ9nZOZPdRbNb36djK9q1M1vb9E97sDgDK96vBKPYaeN70=\",\"dtype\":\"float32\",\"order\":\"little\",\"shape\":[29]},\"round\":[1,2,2,2,2,3,3,3,3,4,5,4,4,5,6,7,2,5,2,6,7,8,2,2,2,4,2,6,2],\"sor_exposure\":{\"__ndarray__\":\"AAAAAAAAAAAAAAAAAMBSQAAAAAAAwFJAAAAAAADAUkAAAAAAAMBSQAAAAAAAoFRAAAAAAACgVEAAAAAAAKBUQAAAAAAAoFRAAAAAAACwVkAAAADAzPRYQAAAAAAAsFZAAAAAAACwVkAAAADAzPRYQAAAACCuc1tAAAAAwHIyXkAAAAAAAAA5QAAAAMDM9FhAAAAAAAAgbEAAAAAgrnNbQAAAAMByMl5AAAAAIL+bYEAAAAAAAAA5QAAAAAAAAGlAAAAAAAAAOUAAAAAAALBWQAAAAAAAIGxAAAAAIK5zW0AAAAAAAMBSQA==\",\"dtype\":\"float64\",\"order\":\"little\",\"shape\":[29]}},\"selected\":{\"id\":\"1478099\"},\"selection_policy\":{\"id\":\"1478098\"}},\"id\":\"1472462\",\"type\":\"ColumnDataSource\"},{\"attributes\":{},\"id\":\"1500973\",\"type\":\"BasicTickFormatter\"},{\"attributes\":{\"active_multi\":null,\"tools\":[{\"id\":\"1495316\"},{\"id\":\"1495317\"},{\"id\":\"1495318\"},{\"id\":\"1495319\"},{\"id\":\"1495320\"},{\"id\":\"1495321\"},{\"id\":\"1495336\"}]},\"id\":\"1495323\",\"type\":\"Toolbar\"},{\"attributes\":{},\"id\":\"1495306\",\"type\":\"LinearScale\"},{\"attributes\":{},\"id\":\"1500972\",\"type\":\"AllLabels\"},{\"attributes\":{},\"id\":\"1495320\",\"type\":\"ResetTool\"},{\"attributes\":{\"axis\":{\"id\":\"1495312\"},\"dimension\":1,\"ticker\":null},\"id\":\"1495315\",\"type\":\"Grid\"},{\"attributes\":{\"data_source\":{\"id\":\"1472462\"},\"glyph\":{\"id\":\"1495332\"},\"hover_glyph\":null,\"muted_glyph\":null,\"nonselection_glyph\":{\"id\":\"1495333\"},\"view\":{\"id\":\"1495335\"}},\"id\":\"1495334\",\"type\":\"GlyphRenderer\"},{\"attributes\":{\"text\":\"Action 4: 1 A, 0 B, 0 C\"},\"id\":\"1495298\",\"type\":\"Title\"},{\"attributes\":{},\"id\":\"1495316\",\"type\":\"PanTool\"},{\"attributes\":{\"fill_alpha\":{\"value\":0.3},\"fill_color\":{\"field\":\"Prob_4\",\"transform\":{\"id\":\"1495330\"}},\"line_alpha\":{\"value\":0.3},\"line_color\":{\"field\":\"Prob_4\",\"transform\":{\"id\":\"1495330\"}},\"size\":{\"value\":10},\"x\":{\"field\":\"pca_0\"},\"y\":{\"field\":\"pca_1\"}},\"id\":\"1495332\",\"type\":\"Circle\"},{\"attributes\":{},\"id\":\"1495321\",\"type\":\"HelpTool\"},{\"attributes\":{},\"id\":\"1495313\",\"type\":\"BasicTicker\"},{\"attributes\":{},\"id\":\"1495302\",\"type\":\"DataRange1d\"},{\"attributes\":{\"color_mapper\":{\"id\":\"1495330\"},\"label_standoff\":12,\"major_label_policy\":{\"id\":\"1500968\"}},\"id\":\"1495338\",\"type\":\"ColorBar\"},{\"attributes\":{\"formatter\":{\"id\":\"1500970\"},\"major_label_policy\":{\"id\":\"1500969\"},\"ticker\":{\"id\":\"1495313\"}},\"id\":\"1495312\",\"type\":\"LinearAxis\"},{\"attributes\":{},\"id\":\"1495309\",\"type\":\"BasicTicker\"},{\"attributes\":{\"high\":0.9922239110955264,\"low\":-0.1,\"palette\":[\"#FBFCBF\",\"#FBFABD\",\"#FBF9BB\",\"#FBF7B9\",\"#FCF5B7\",\"#FCF3B5\",\"#FCF1B3\",\"#FCF0B1\",\"#FCEEB0\",\"#FCECAE\",\"#FCEAAC\",\"#FCE8AA\",\"#FCE6A8\",\"#FCE5A6\",\"#FCE3A5\",\"#FDE1A3\",\"#FDDFA1\",\"#FDDD9F\",\"#FDDC9D\",\"#FDDA9C\",\"#FDD89A\",\"#FDD698\",\"#FDD497\",\"#FDD295\",\"#FDD193\",\"#FDCF92\",\"#FDCD90\",\"#FECB8E\",\"#FEC98D\",\"#FEC78B\",\"#FEC689\",\"#FEC488\",\"#FEC286\",\"#FEC085\",\"#FEBE83\",\"#FEBC82\",\"#FEBB80\",\"#FEB97F\",\"#FEB77D\",\"#FEB57C\",\"#FEB37B\",\"#FEB179\",\"#FEAF78\",\"#FEAE76\",\"#FEAC75\",\"#FEAA74\",\"#FEA873\",\"#FEA671\",\"#FDA470\",\"#FDA26F\",\"#FDA16E\",\"#FD9F6C\",\"#FD9D6B\",\"#FD9B6A\",\"#FD9969\",\"#FD9768\",\"#FD9567\",\"#FC9366\",\"#FC9265\",\"#FC9064\",\"#FC8E63\",\"#FC8C63\",\"#FB8A62\",\"#FB8861\",\"#FB8660\",\"#FB8460\",\"#FA825F\",\"#FA805E\",\"#FA7F5E\",\"#F97D5D\",\"#F97B5D\",\"#F9795C\",\"#F8775C\",\"#F8755C\",\"#F7735C\",\"#F7715B\",\"#F6705B\",\"#F66E5B\",\"#F56C5B\",\"#F56A5B\",\"#F4685B\",\"#F3675B\",\"#F3655C\",\"#F2635C\",\"#F1615C\",\"#F0605D\",\"#EF5E5D\",\"#EE5D5D\",\"#EE5B5E\",\"#ED595F\",\"#EC585F\",\"#EB5660\",\"#EA5560\",\"#E85461\",\"#E75262\",\"#E65162\",\"#E55063\",\"#E44E64\",\"#E24D65\",\"#E14C66\",\"#E04B66\",\"#DE4A67\",\"#DD4968\",\"#DC4869\",\"#DA4769\",\"#D9466A\",\"#D7456B\",\"#D6446C\",\"#D4436D\",\"#D3426D\",\"#D1426E\",\"#D0416F\",\"#CE4070\",\"#CD3F70\",\"#CB3E71\",\"#CA3E72\",\"#C83D72\",\"#C63C73\",\"#C53C74\",\"#C33B74\",\"#C23A75\",\"#C03A75\",\"#BE3976\",\"#BD3977\",\"#BB3877\",\"#B93778\",\"#B83778\",\"#B63679\",\"#B53679\",\"#B3357A\",\"#B1357A\",\"#B0347B\",\"#AE347B\",\"#AC337B\",\"#AB337C\",\"#A9327C\",\"#A7317D\",\"#A6317D\",\"#A4307D\",\"#A3307E\",\"#A12F7E\",\"#9F2F7E\",\"#9E2E7E\",\"#9C2E7F\",\"#9A2D7F\",\"#992D7F\",\"#972C7F\",\"#952C80\",\"#942B80\",\"#922B80\",\"#912A80\",\"#8F2A80\",\"#8D2980\",\"#8C2980\",\"#8A2881\",\"#892881\",\"#872781\",\"#852681\",\"#842681\",\"#822581\",\"#812581\",\"#7F2481\",\"#7E2481\",\"#7C2381\",\"#7A2281\",\"#792281\",\"#772181\",\"#762181\",\"#742081\",\"#731F81\",\"#711F81\",\"#6F1E81\",\"#6E1E81\",\"#6C1D80\",\"#6B1C80\",\"#691C80\",\"#681B80\",\"#661A80\",\"#651A80\",\"#63197F\",\"#61187F\",\"#60187F\",\"#5E177F\",\"#5D177E\",\"#5B167E\",\"#5A157E\",\"#58157E\",\"#57147D\",\"#55137D\",\"#53137C\",\"#52127C\",\"#50127B\",\"#4F117B\",\"#4D117A\",\"#4B1079\",\"#4A1079\",\"#481078\",\"#470F77\",\"#450F76\",\"#430F75\",\"#420F74\",\"#400F73\",\"#3E0F72\",\"#3C0F71\",\"#3B0F6F\",\"#390F6E\",\"#370F6C\",\"#350F6A\",\"#341068\",\"#321067\",\"#301065\",\"#2F1062\",\"#2D1060\",\"#2B115E\",\"#2A115C\",\"#281159\",\"#261157\",\"#251155\",\"#231152\",\"#221150\",\"#20114D\",\"#1F114B\",\"#1E1049\",\"#1C1046\",\"#1B1044\",\"#1A1041\",\"#180F3F\",\"#170F3C\",\"#160E3A\",\"#150E38\",\"#140D35\",\"#120D33\",\"#110C31\",\"#100C2F\",\"#0F0B2C\",\"#0E0A2A\",\"#0D0A28\",\"#0C0926\",\"#0B0824\",\"#0A0722\",\"#09071F\",\"#08061D\",\"#07051B\",\"#060519\",\"#050417\",\"#040415\",\"#040313\",\"#030311\",\"#02020F\",\"#02020D\",\"#01010B\",\"#010109\",\"#010007\",\"#000006\",\"#000004\",\"#000003\"]},\"id\":\"1495330\",\"type\":\"LinearColorMapper\"},{\"attributes\":{\"fill_alpha\":{\"value\":0.1},\"fill_color\":{\"field\":\"Prob_4\",\"transform\":{\"id\":\"1495330\"}},\"line_alpha\":{\"value\":0.1},\"line_color\":{\"field\":\"Prob_4\",\"transform\":{\"id\":\"1495330\"}},\"size\":{\"value\":10},\"x\":{\"field\":\"pca_0\"},\"y\":{\"field\":\"pca_1\"}},\"id\":\"1495333\",\"type\":\"Circle\"},{\"attributes\":{},\"id\":\"1500968\",\"type\":\"NoOverlap\"},{\"attributes\":{},\"id\":\"1495319\",\"type\":\"SaveTool\"},{\"attributes\":{},\"id\":\"1495317\",\"type\":\"WheelZoomTool\"},{\"attributes\":{},\"id\":\"1478098\",\"type\":\"UnionRenderers\"},{\"attributes\":{},\"id\":\"1478099\",\"type\":\"Selection\"},{\"attributes\":{\"overlay\":{\"id\":\"1495322\"}},\"id\":\"1495318\",\"type\":\"BoxZoomTool\"},{\"attributes\":{},\"id\":\"1500969\",\"type\":\"AllLabels\"},{\"attributes\":{},\"id\":\"1500970\",\"type\":\"BasicTickFormatter\"},{\"attributes\":{},\"id\":\"1495300\",\"type\":\"DataRange1d\"},{\"attributes\":{\"callback\":null,\"tooltips\":[[\"Infostate\",\"@infostate_string\"],[\"Prob\",\"@Prob_4{(.00)}\"],[\"SoRExposure\",\"@sor_exposure\"],[\"Round\",\"@round\"]]},\"id\":\"1495336\",\"type\":\"HoverTool\"}],\"root_ids\":[\"1495297\"]},\"title\":\"Bokeh Application\",\"version\":\"2.3.3\"}};\n",
       "  var render_items = [{\"docid\":\"957fb14e-d3cd-4156-bb10-fdc040e84e3a\",\"root_ids\":[\"1495297\"],\"roots\":{\"1495297\":\"f7ef02ec-8333-417e-ba6b-4b7875da6917\"}}];\n",
       "  root.Bokeh.embed.embed_items_notebook(docs_json, render_items);\n",
       "\n",
       "  }\n",
       "  if (root.Bokeh !== undefined) {\n",
       "    embed_document(root);\n",
       "  } else {\n",
       "    var attempts = 0;\n",
       "    var timer = setInterval(function(root) {\n",
       "      if (root.Bokeh !== undefined) {\n",
       "        clearInterval(timer);\n",
       "        embed_document(root);\n",
       "      } else {\n",
       "        attempts++;\n",
       "        if (attempts > 100) {\n",
       "          clearInterval(timer);\n",
       "          console.log(\"Bokeh: ERROR: Unable to run BokehJS code because BokehJS library is missing\");\n",
       "        }\n",
       "      }\n",
       "    }, 10, root)\n",
       "  }\n",
       "})(window);"
      ],
      "application/vnd.bokehjs_exec.v0+json": ""
     },
     "metadata": {
      "application/vnd.bokehjs_exec.v0+json": {
       "id": "1495297"
      }
     },
     "output_type": "display_data"
    },
    {
     "data": {
      "text/html": [
       "\n",
       "\n",
       "\n",
       "\n",
       "\n",
       "\n",
       "  <div class=\"bk-root\" id=\"44237c09-10c1-4f9c-bf5c-529daa06d563\" data-root-id=\"1501033\"></div>\n"
      ]
     },
     "metadata": {},
     "output_type": "display_data"
    },
    {
     "data": {
      "application/javascript": [
       "(function(root) {\n",
       "  function embed_document(root) {\n",
       "    \n",
       "  var docs_json = {\"c5e50c7e-70c1-44d2-9f7e-20b3d747790e\":{\"defs\":[],\"roots\":{\"references\":[{\"attributes\":{\"below\":[{\"id\":\"1501044\"}],\"center\":[{\"id\":\"1501047\"},{\"id\":\"1501051\"}],\"height\":400,\"left\":[{\"id\":\"1501048\"}],\"renderers\":[{\"id\":\"1501070\"}],\"right\":[{\"id\":\"1501074\"}],\"title\":{\"id\":\"1501034\"},\"toolbar\":{\"id\":\"1501059\"},\"width\":900,\"x_range\":{\"id\":\"1501036\"},\"x_scale\":{\"id\":\"1501040\"},\"y_range\":{\"id\":\"1501038\"},\"y_scale\":{\"id\":\"1501042\"}},\"id\":\"1501033\",\"subtype\":\"Figure\",\"type\":\"Plot\"},{\"attributes\":{\"formatter\":{\"id\":\"1506717\"},\"major_label_policy\":{\"id\":\"1506716\"},\"ticker\":{\"id\":\"1501049\"}},\"id\":\"1501048\",\"type\":\"LinearAxis\"},{\"attributes\":{\"color_mapper\":{\"id\":\"1501066\"},\"label_standoff\":12,\"major_label_policy\":{\"id\":\"1506715\"}},\"id\":\"1501074\",\"type\":\"ColorBar\"},{\"attributes\":{},\"id\":\"1501049\",\"type\":\"BasicTicker\"},{\"attributes\":{\"fill_alpha\":{\"value\":0.3},\"fill_color\":{\"field\":\"Prob_5\",\"transform\":{\"id\":\"1501066\"}},\"line_alpha\":{\"value\":0.3},\"line_color\":{\"field\":\"Prob_5\",\"transform\":{\"id\":\"1501066\"}},\"size\":{\"value\":10},\"x\":{\"field\":\"pca_0\"},\"y\":{\"field\":\"pca_1\"}},\"id\":\"1501068\",\"type\":\"Circle\"},{\"attributes\":{},\"id\":\"1501045\",\"type\":\"BasicTicker\"},{\"attributes\":{\"data_source\":{\"id\":\"1472462\"},\"glyph\":{\"id\":\"1501068\"},\"hover_glyph\":null,\"muted_glyph\":null,\"nonselection_glyph\":{\"id\":\"1501069\"},\"view\":{\"id\":\"1501071\"}},\"id\":\"1501070\",\"type\":\"GlyphRenderer\"},{\"attributes\":{\"data\":{\"Prob_0\":{\"__ndarray__\":\"U3ymrppVgz/8KwkrjPt9Pxhb5Y15+30/9ShR2IT7fT8rlWkAgft9P2UwCgQ9hn0/CL0q1jSGfT8KFBfaM4Z9P2NY8Wg5hn0/d3uMgLIrfj85SNHpVrp+P+0+6umpK34/DmSTfKIrfj+9UQDuP7p+Pwf7ScowGH8/YUq8M9hRfz9C+mwH6bPtP4jWZ7Eyun4/bZ03l/MDfj9oBg+FVxh/PzBPyNwHUn8/coGGxKJ+fz8cdyNL6LPtPzsgrQZJ+30/Nwwmkeez7T+9YIyXkit+P7m6iUZj+30/Y72swBsYfz8oEe/7gwp+Pw==\",\"dtype\":\"float64\",\"order\":\"little\",\"shape\":[29]},\"Prob_1\":{\"__ndarray__\":\"0wxF22ntSj/unwszBodCP/lAlmgHh0I/4ZpAewiHQj94PkEABYdCP+kXg0L3W0I/i7jIzepbQj8uODmQ4VtCP46aj0X/W0I/59VYwCoUQz8ZH9GRm6VDPy4iRYZIFEM//wsScjUUQz/e1/OovqVDP9s5BxKnAkQ/29+/jK07RD/xLZjEt2CyP1Icq9aepUM/i3b29S+SQj+SwqmuhQJEP/Pn612MO0Q/AAbvAsJqRD8fR+SmvWCyPxwhIITUhkI/RZ7PdsNgsj/Kvqf6UBRDPxopRJDbhkI/ZHjX63YCRD/Tz0xx55pCPw==\",\"dtype\":\"float64\",\"order\":\"little\",\"shape\":[29]},\"Prob_10\":{\"__ndarray__\":\"rmD8ZZ+69j4AAAAAAAAAAAAAAAAAAAAAAAAAAAAAAAAAAAAAAAAAAAAAAAAAAAAAAAAAAAAAAAAAAAAAAAAAAAAAAAAAAAAAAAAAAAAAAAAAAAAAAAAAAAAAAAAAAAAAAAAAAAAAAAAAAAAAAAAAAAAAAAAAAAAAAAAAAAAAAAAAAAAAAAAAAAAAAAAAAAAAcPXPwkD+1j4AAAAAAAAAAAAAAAAAAAAAAAAAAAAAAAAAAAAAAAAAACwDG8V87dY+AAAAAAAAAAAAAAAAAAAAAEUQh4zb7dY+AAAAAAAAAAAAAAAAAAAAAA==\",\"dtype\":\"float64\",\"order\":\"little\",\"shape\":[29]},\"Prob_11\":{\"__ndarray__\":\"zcWJS76N9D4AAAAAAAAAAAAAAAAAAAAAAAAAAAAAAAAAAAAAAAAAAAAAAAAAAAAAAAAAAAAAAAAAAAAAAAAAAAAAAAAAAAAAAAAAAAAAAAAAAAAAAAAAAAAAAAAAAAAAAAAAAAAAAAAAAAAAAAAAAAAAAAAAAAAAAAAAAAAAAAAAAAAAAAAAAAAAAAAAAAAA/jJpOOBp0z4AAAAAAAAAAAAAAAAAAAAAAAAAAAAAAAAAAAAAAAAAAAAAAAAAAAAAAAAAAAAAAAAAAAAAAAAAAIuWk2/GVtM+AAAAAAAAAAAAAAAAAAAAAA==\",\"dtype\":\"float64\",\"order\":\"little\",\"shape\":[29]},\"Prob_2\":{\"__ndarray__\":\"qLLYBk5k9j69U+rPBgHXPjt5qQo1Adc+muwaehwB1z50AlGAHwHXPpCqWWQWy88+893edxbLzz4Qlxj8TcvPPqk3ocncys8+Y+6EIIqMzD6KBSIMQoXLPqS0YQkvjMw+jukJmzKMzD5YBIqMy4TLPiIBDy26IMs+m5X5UFLwyj4AAAAAAAAAANb87bLEhMs+i2gUQ88V1z7mfn6IRiHLPlJ8O33f8Mo++9nbQ/fayj4AAAAAAAAAACxLH6W2ANc+AAAAAAAAAABX2ACY0IvMPqgydyyKANc+7cWrBJ8gyz4b/YZVtybXPg==\",\"dtype\":\"float64\",\"order\":\"little\",\"shape\":[29]},\"Prob_3\":{\"__ndarray__\":\"MsKPY8Wt9z4tLBHvmDfYPkpCOYtxN9g+s2DL2Yk32D5uR1UgfzfYPjChRgITotA+JPN8rAei0D7HxbLOCqLQPjK+CQUPotA+mEaK4GGyzT5JeGoLhYPMPopYwmlAss0+bV4gnDGyzT7Q9v2MQYPMPo7DayyFCsw+M9yGsYXQyz4AAAAAAAAAACoqddImg8w+iziY5nlL2D7fGbQH4ArMPqR4JL3m0Ms+uv37Y6S6yz4AAAAAAAAAAPZ7ZKVuN9g+AAAAAAAAAAAubK63CrLNPjUCb6ugN9g+FlTAQ1QKzD5uQ6UWllrYPg==\",\"dtype\":\"float64\",\"order\":\"little\",\"shape\":[29]},\"Prob_4\":{\"__ndarray__\":\"ji8tj1Kq7z9CS82JT7/vP8jEtq5Pv+8/lGPdl0+/7z8zzG+gT7/vP6AwWERMwO8/IsTWV0zA7z8q3Q5cTMDvP3sEnklMwO8/kNCTANW+7z9FIxbpk73vP3G9bgrVvu8/6kYRHtW+7z8FfHYOlL3vP90T1ynBvO8/01b/sz+87z8AAAAAAAAAADOk7DCUve8/88Y+POy+7z92k4DkwLzvP9BlvVw/vO8/Rk2PZNq77z8AAAAAAAAAAPC4EWcKv+8/AAAAAAAAAABjaRs31b7vP/cyCoUAv+8/jN4GYMG87z+UGIV9LL/vPw==\",\"dtype\":\"float64\",\"order\":\"little\",\"shape\":[29]},\"Prob_5\":{\"__ndarray__\":\"uR0dgUej+D4AAAAAAAAAAAAAAAAAAAAAAAAAAAAAAAAAAAAAAAAAAAAAAAAAAAAAAAAAAAAAAAAAAAAAAAAAAAAAAAAAAAAAAAAAAAAAAAAAAAAAAAAAAAAAAAAAAAAAAAAAAAAAAAAAAAAAAAAAAAAAAAAAAAAAAAAAAAAAAAAAAAAAAAAAAAAAAAAAAAAATiTeqwsc2j4AAAAAAAAAAAAAAAAAAAAAAAAAAAAAAAAAAAAAAAAAAHCAy0UPBto+AAAAAAAAAAAAAAAAAAAAAKus5smbBdo+AAAAAAAAAAAAAAAAAAAAAA==\",\"dtype\":\"float64\",\"order\":\"little\",\"shape\":[29]},\"Prob_6\":{\"__ndarray__\":\"1C9GhQAC9z4AAAAAAAAAAAAAAAAAAAAAAAAAAAAAAAAAAAAAAAAAAAAAAAAAAAAAAAAAAAAAAAAAAAAAAAAAAAAAAAAAAAAAAAAAAAAAAAAAAAAAAAAAAAAAAAAAAAAAAAAAAAAAAAAAAAAAAAAAAAAAAAAAAAAAAAAAAAAAAAAAAAAAAAAAAAAAAAAAAAAAIxW1Aeec1j4AAAAAAAAAAAAAAAAAAAAAAAAAAAAAAAAAAAAAAAAAAM7kBGUoitY+AAAAAAAAAAAAAAAAAAAAAEqJ26xjitY+AAAAAAAAAAAAAAAAAAAAAA==\",\"dtype\":\"float64\",\"order\":\"little\",\"shape\":[29]},\"Prob_7\":{\"__ndarray__\":\"t8KQ42Ct9z4AAAAAAAAAAAAAAAAAAAAAAAAAAAAAAAAAAAAAAAAAAAAAAAAAAAAAAAAAAAAAAAAAAAAAAAAAAAAAAAAAAAAAAAAAAAAAAAAAAAAAAAAAAAAAAAAAAAAAAAAAAAAAAAAAAAAAAAAAAAAAAAAAAAAAAAAAAAAAAAAAAAAAAAAAAAAAAAAAAAAAvlXVRE6w1z4AAAAAAAAAAAAAAAAAAAAAAAAAAAAAAAAAAAAAAAAAABz4QeVunNc+AAAAAAAAAAAAAAAAAAAAAGKw8kuSnNc+AAAAAAAAAAAAAAAAAAAAAA==\",\"dtype\":\"float64\",\"order\":\"little\",\"shape\":[29]},\"Prob_8\":{\"__ndarray__\":\"iVpwiJfE9T4AAAAAAAAAAAAAAAAAAAAAAAAAAAAAAAAAAAAAAAAAAAAAAAAAAAAAAAAAAAAAAAAAAAAAAAAAAAAAAAAAAAAAAAAAAAAAAAAAAAAAAAAAAAAAAAAAAAAAAAAAAAAAAAAAAAAAAAAAAAAAAAAAAAAAAAAAAAAAAAAAAAAAAAAAAAAAAAAAAAAAIa1OPCfB1D4AAAAAAAAAAAAAAAAAAAAAAAAAAAAAAAAAAAAAAAAAAOi/m+T6sdQ+AAAAAAAAAAAAAAAAAAAAAEaQbA4sstQ+AAAAAAAAAAAAAAAAAAAAAA==\",\"dtype\":\"float64\",\"order\":\"little\",\"shape\":[29]},\"Prob_9\":{\"__ndarray__\":\"U75LJB9k9z4AAAAAAAAAAAAAAAAAAAAAAAAAAAAAAAAAAAAAAAAAAAAAAAAAAAAAAAAAAAAAAAAAAAAAAAAAAAAAAAAAAAAAAAAAAAAAAAAAAAAAAAAAAAAAAAAAAAAAAAAAAAAAAAAAAAAAAAAAAAAAAAAAAAAAAAAAAAAAAAAAAAAAAAAAAAAAAAAAAAAAMLvMRFit1z4AAAAAAAAAAAAAAAAAAAAAAAAAAAAAAAAAAAAAAAAAANqXQkU8n9c+AAAAAAAAAAAAAAAAAAAAANU08Kt+n9c+AAAAAAAAAAAAAAAAAAAAAA==\",\"dtype\":\"float64\",\"order\":\"little\",\"shape\":[29]},\"agent_id\":[0,0,0,0,0,0,0,0,0,0,0,0,0,0,0,0,0,0,0,0,0,0,0,0,0,0,0,0,0],\"index\":[0,12,24,28,138,234,246,268,370,564,810,3416,5124,5542,5544,5546,5656,6128,6916,8170,8172,8174,9492,10546,10972,17404,19108,19294,24044],\"infostate_string\":[\"\",\"1, 0, 0<br>1, 0, 0<br>3,0,0\",\"1, 0, 0<br>1, 0, 0<br>3,1,1\",\"1, 0, 0<br>1, 0, 0<br>3,0,1\",\"1, 0, 0<br>1, 0, 0<br>3,1,0\",\"1, 0, 0 | 1, 0, 0<br>1, 0, 0 | 1, 0, 0<br>3,0,1 | 3,0,1\",\"1, 0, 0 | 1, 0, 0<br>1, 0, 0 | 1, 0, 0<br>3,1,0 | 3,1,0\",\"1, 0, 0 | 1, 0, 0<br>1, 0, 0 | 1, 0, 0<br>3,1,1 | 3,1,1\",\"1, 0, 0 | 1, 0, 0<br>1, 0, 0 | 1, 0, 0<br>3,0,0 | 3,0,0\",\"1, 0, 0 | 1, 0, 0 | 1, 0, 0<br>1, 0, 0 | 1, 0, 0 | 1, 0, 0<br>3,1,1 | 3,1,1 | 3,1,1\",\"1, 0, 0 | 1, 0, 0 | 1, 0, 0 | 1, 0, 0<br>1, 0, 0 | 1, 0, 0 | 1, 0, 0 | 1, 0, 0<br>3,1,1 | 3,1,1 | 3,1,1 | 3,1,1\",\"1, 0, 0 | 1, 0, 0 | 1, 0, 0<br>1, 0, 0 | 1, 0, 0 | 1, 0, 0<br>3,0,1 | 3,0,1 | 3,0,1\",\"1, 0, 0 | 1, 0, 0 | 1, 0, 0<br>1, 0, 0 | 1, 0, 0 | 1, 0, 0<br>3,1,0 | 3,1,0 | 3,1,0\",\"1, 0, 0 | 1, 0, 0 | 1, 0, 0 | 1, 0, 0<br>1, 0, 0 | 1, 0, 0 | 1, 0, 0 | 1, 0, 0<br>3,0,1 | 3,0,1 | 3,0,1 | 3,0,1\",\"1, 0, 0 | 1, 0, 0 | 1, 0, 0 | 1, 0, 0 | 1, 0, 0<br>1, 0, 0 | 1, 0, 0 | 1, 0, 0 | 1, 0, 0 | 1, 0, 0<br>3,0,1 | 3,0,1 | 3,0,1 | 3,0,1 | 3,0,1\",\"1, 0, 0 | 1, 0, 0 | 1, 0, 0 | 1, 0, 0 | 1, 0, 0 | 1, 0, 0<br>1, 0, 0 | 1, 0, 0 | 1, 0, 0 | 1, 0, 0 | 1, 0, 0 | 1, 0, 0<br>3,0,1 | 3,0,1 | 3,0,1 | 3,0,1 | 3,0,1 | 3,0,1\",\"0, 0, 1<br>0, 0, 1<br>1,0,2\",\"1, 0, 0 | 1, 0, 0 | 1, 0, 0 | 1, 0, 0<br>1, 0, 0 | 1, 0, 0 | 1, 0, 0 | 1, 0, 0<br>3,1,0 | 3,1,0 | 3,1,0 | 3,1,0\",\"2, 1, 1<br>2, 1, 1<br>2,1,2\",\"1, 0, 0 | 1, 0, 0 | 1, 0, 0 | 1, 0, 0 | 1, 0, 0<br>1, 0, 0 | 1, 0, 0 | 1, 0, 0 | 1, 0, 0 | 1, 0, 0<br>3,1,1 | 3,1,1 | 3,1,1 | 3,1,1 | 3,1,1\",\"1, 0, 0 | 1, 0, 0 | 1, 0, 0 | 1, 0, 0 | 1, 0, 0 | 1, 0, 0<br>1, 0, 0 | 1, 0, 0 | 1, 0, 0 | 1, 0, 0 | 1, 0, 0 | 1, 0, 0<br>3,1,1 | 3,1,1 | 3,1,1 | 3,1,1 | 3,1,1 | 3,1,1\",\"1, 0, 0 | 1, 0, 0 | 1, 0, 0 | 1, 0, 0 | 1, 0, 0 | 1, 0, 0 | 1, 0, 0<br>1, 0, 0 | 1, 0, 0 | 1, 0, 0 | 1, 0, 0 | 1, 0, 0 | 1, 0, 0 | 1, 0, 0<br>3,1,1 | 3,1,1 | 3,1,1 | 3,1,1 | 3,1,1 | 3,1,1 | 3,1,1\",\"0, 0, 1<br>0, 0, 1<br>2,0,2\",\"2, 1, 0<br>2, 1, 0<br>3,1,0\",\"0, 0, 1<br>0, 0, 1<br>2,1,2\",\"1, 0, 0 | 1, 0, 0 | 1, 0, 0<br>1, 0, 0 | 1, 0, 0 | 1, 0, 0<br>3,0,0 | 3,0,0 | 3,0,0\",\"2, 1, 1<br>2, 1, 1<br>3,1,1\",\"1, 0, 0 | 1, 0, 0 | 1, 0, 0 | 1, 0, 0 | 1, 0, 0<br>1, 0, 0 | 1, 0, 0 | 1, 0, 0 | 1, 0, 0 | 1, 0, 0<br>3,1,0 | 3,1,0 | 3,1,0 | 3,1,0 | 3,1,0\",\"0, 1, 1<br>0, 1, 1<br>1,2,1\"],\"pca_0\":{\"__ndarray__\":\"TSWYP22nqz7WpKs+O6arPv6lqz4w9Ie9MPKHvf/vh71k9oe9uhKEviYTtb4MFoS+0BSEvscXtb6jpM6+tKDcvpHQqz77FbW+K9SrPoCfzr61m9y+JA7lvmDPqz6Yqas+BM6rPigYhL44q6s+RKLOvh32qz4=\",\"dtype\":\"float32\",\"order\":\"little\",\"shape\":[29]},\"pca_1\":{\"__ndarray__\":\"W3qJPuVqMr2VWzK9YGMyvfpiMr0DfT+9hn8/vXl0P71KiD+9xqv2uxi81jwt2/a7cxP3u8a21jzDCks9HciEPeRjNb3TmtY8oHc1vWEKSz0oxYQ9nZOZPdRbNb36djK9q1M1vb9E97sDgDK96vBKPYaeN70=\",\"dtype\":\"float32\",\"order\":\"little\",\"shape\":[29]},\"round\":[1,2,2,2,2,3,3,3,3,4,5,4,4,5,6,7,2,5,2,6,7,8,2,2,2,4,2,6,2],\"sor_exposure\":{\"__ndarray__\":\"AAAAAAAAAAAAAAAAAMBSQAAAAAAAwFJAAAAAAADAUkAAAAAAAMBSQAAAAAAAoFRAAAAAAACgVEAAAAAAAKBUQAAAAAAAoFRAAAAAAACwVkAAAADAzPRYQAAAAAAAsFZAAAAAAACwVkAAAADAzPRYQAAAACCuc1tAAAAAwHIyXkAAAAAAAAA5QAAAAMDM9FhAAAAAAAAgbEAAAAAgrnNbQAAAAMByMl5AAAAAIL+bYEAAAAAAAAA5QAAAAAAAAGlAAAAAAAAAOUAAAAAAALBWQAAAAAAAIGxAAAAAIK5zW0AAAAAAAMBSQA==\",\"dtype\":\"float64\",\"order\":\"little\",\"shape\":[29]}},\"selected\":{\"id\":\"1478099\"},\"selection_policy\":{\"id\":\"1478098\"}},\"id\":\"1472462\",\"type\":\"ColumnDataSource\"},{\"attributes\":{\"axis\":{\"id\":\"1501048\"},\"dimension\":1,\"ticker\":null},\"id\":\"1501051\",\"type\":\"Grid\"},{\"attributes\":{\"callback\":null,\"tooltips\":[[\"Infostate\",\"@infostate_string\"],[\"Prob\",\"@Prob_5{(.00)}\"],[\"SoRExposure\",\"@sor_exposure\"],[\"Round\",\"@round\"]]},\"id\":\"1501072\",\"type\":\"HoverTool\"},{\"attributes\":{\"high\":0.9922239110955264,\"low\":-0.1,\"palette\":[\"#FBFCBF\",\"#FBFABD\",\"#FBF9BB\",\"#FBF7B9\",\"#FCF5B7\",\"#FCF3B5\",\"#FCF1B3\",\"#FCF0B1\",\"#FCEEB0\",\"#FCECAE\",\"#FCEAAC\",\"#FCE8AA\",\"#FCE6A8\",\"#FCE5A6\",\"#FCE3A5\",\"#FDE1A3\",\"#FDDFA1\",\"#FDDD9F\",\"#FDDC9D\",\"#FDDA9C\",\"#FDD89A\",\"#FDD698\",\"#FDD497\",\"#FDD295\",\"#FDD193\",\"#FDCF92\",\"#FDCD90\",\"#FECB8E\",\"#FEC98D\",\"#FEC78B\",\"#FEC689\",\"#FEC488\",\"#FEC286\",\"#FEC085\",\"#FEBE83\",\"#FEBC82\",\"#FEBB80\",\"#FEB97F\",\"#FEB77D\",\"#FEB57C\",\"#FEB37B\",\"#FEB179\",\"#FEAF78\",\"#FEAE76\",\"#FEAC75\",\"#FEAA74\",\"#FEA873\",\"#FEA671\",\"#FDA470\",\"#FDA26F\",\"#FDA16E\",\"#FD9F6C\",\"#FD9D6B\",\"#FD9B6A\",\"#FD9969\",\"#FD9768\",\"#FD9567\",\"#FC9366\",\"#FC9265\",\"#FC9064\",\"#FC8E63\",\"#FC8C63\",\"#FB8A62\",\"#FB8861\",\"#FB8660\",\"#FB8460\",\"#FA825F\",\"#FA805E\",\"#FA7F5E\",\"#F97D5D\",\"#F97B5D\",\"#F9795C\",\"#F8775C\",\"#F8755C\",\"#F7735C\",\"#F7715B\",\"#F6705B\",\"#F66E5B\",\"#F56C5B\",\"#F56A5B\",\"#F4685B\",\"#F3675B\",\"#F3655C\",\"#F2635C\",\"#F1615C\",\"#F0605D\",\"#EF5E5D\",\"#EE5D5D\",\"#EE5B5E\",\"#ED595F\",\"#EC585F\",\"#EB5660\",\"#EA5560\",\"#E85461\",\"#E75262\",\"#E65162\",\"#E55063\",\"#E44E64\",\"#E24D65\",\"#E14C66\",\"#E04B66\",\"#DE4A67\",\"#DD4968\",\"#DC4869\",\"#DA4769\",\"#D9466A\",\"#D7456B\",\"#D6446C\",\"#D4436D\",\"#D3426D\",\"#D1426E\",\"#D0416F\",\"#CE4070\",\"#CD3F70\",\"#CB3E71\",\"#CA3E72\",\"#C83D72\",\"#C63C73\",\"#C53C74\",\"#C33B74\",\"#C23A75\",\"#C03A75\",\"#BE3976\",\"#BD3977\",\"#BB3877\",\"#B93778\",\"#B83778\",\"#B63679\",\"#B53679\",\"#B3357A\",\"#B1357A\",\"#B0347B\",\"#AE347B\",\"#AC337B\",\"#AB337C\",\"#A9327C\",\"#A7317D\",\"#A6317D\",\"#A4307D\",\"#A3307E\",\"#A12F7E\",\"#9F2F7E\",\"#9E2E7E\",\"#9C2E7F\",\"#9A2D7F\",\"#992D7F\",\"#972C7F\",\"#952C80\",\"#942B80\",\"#922B80\",\"#912A80\",\"#8F2A80\",\"#8D2980\",\"#8C2980\",\"#8A2881\",\"#892881\",\"#872781\",\"#852681\",\"#842681\",\"#822581\",\"#812581\",\"#7F2481\",\"#7E2481\",\"#7C2381\",\"#7A2281\",\"#792281\",\"#772181\",\"#762181\",\"#742081\",\"#731F81\",\"#711F81\",\"#6F1E81\",\"#6E1E81\",\"#6C1D80\",\"#6B1C80\",\"#691C80\",\"#681B80\",\"#661A80\",\"#651A80\",\"#63197F\",\"#61187F\",\"#60187F\",\"#5E177F\",\"#5D177E\",\"#5B167E\",\"#5A157E\",\"#58157E\",\"#57147D\",\"#55137D\",\"#53137C\",\"#52127C\",\"#50127B\",\"#4F117B\",\"#4D117A\",\"#4B1079\",\"#4A1079\",\"#481078\",\"#470F77\",\"#450F76\",\"#430F75\",\"#420F74\",\"#400F73\",\"#3E0F72\",\"#3C0F71\",\"#3B0F6F\",\"#390F6E\",\"#370F6C\",\"#350F6A\",\"#341068\",\"#321067\",\"#301065\",\"#2F1062\",\"#2D1060\",\"#2B115E\",\"#2A115C\",\"#281159\",\"#261157\",\"#251155\",\"#231152\",\"#221150\",\"#20114D\",\"#1F114B\",\"#1E1049\",\"#1C1046\",\"#1B1044\",\"#1A1041\",\"#180F3F\",\"#170F3C\",\"#160E3A\",\"#150E38\",\"#140D35\",\"#120D33\",\"#110C31\",\"#100C2F\",\"#0F0B2C\",\"#0E0A2A\",\"#0D0A28\",\"#0C0926\",\"#0B0824\",\"#0A0722\",\"#09071F\",\"#08061D\",\"#07051B\",\"#060519\",\"#050417\",\"#040415\",\"#040313\",\"#030311\",\"#02020F\",\"#02020D\",\"#01010B\",\"#010109\",\"#010007\",\"#000006\",\"#000004\",\"#000003\"]},\"id\":\"1501066\",\"type\":\"LinearColorMapper\"},{\"attributes\":{},\"id\":\"1506717\",\"type\":\"BasicTickFormatter\"},{\"attributes\":{},\"id\":\"1501042\",\"type\":\"LinearScale\"},{\"attributes\":{},\"id\":\"1501052\",\"type\":\"PanTool\"},{\"attributes\":{},\"id\":\"1501053\",\"type\":\"WheelZoomTool\"},{\"attributes\":{\"overlay\":{\"id\":\"1501058\"}},\"id\":\"1501054\",\"type\":\"BoxZoomTool\"},{\"attributes\":{\"axis\":{\"id\":\"1501044\"},\"ticker\":null},\"id\":\"1501047\",\"type\":\"Grid\"},{\"attributes\":{\"formatter\":{\"id\":\"1506720\"},\"major_label_policy\":{\"id\":\"1506719\"},\"ticker\":{\"id\":\"1501045\"}},\"id\":\"1501044\",\"type\":\"LinearAxis\"},{\"attributes\":{},\"id\":\"1501055\",\"type\":\"SaveTool\"},{\"attributes\":{},\"id\":\"1501056\",\"type\":\"ResetTool\"},{\"attributes\":{},\"id\":\"1501057\",\"type\":\"HelpTool\"},{\"attributes\":{},\"id\":\"1501040\",\"type\":\"LinearScale\"},{\"attributes\":{},\"id\":\"1506719\",\"type\":\"AllLabels\"},{\"attributes\":{},\"id\":\"1501038\",\"type\":\"DataRange1d\"},{\"attributes\":{\"active_multi\":null,\"tools\":[{\"id\":\"1501052\"},{\"id\":\"1501053\"},{\"id\":\"1501054\"},{\"id\":\"1501055\"},{\"id\":\"1501056\"},{\"id\":\"1501057\"},{\"id\":\"1501072\"}]},\"id\":\"1501059\",\"type\":\"Toolbar\"},{\"attributes\":{},\"id\":\"1501036\",\"type\":\"DataRange1d\"},{\"attributes\":{},\"id\":\"1478098\",\"type\":\"UnionRenderers\"},{\"attributes\":{},\"id\":\"1506715\",\"type\":\"NoOverlap\"},{\"attributes\":{\"fill_alpha\":{\"value\":0.1},\"fill_color\":{\"field\":\"Prob_5\",\"transform\":{\"id\":\"1501066\"}},\"line_alpha\":{\"value\":0.1},\"line_color\":{\"field\":\"Prob_5\",\"transform\":{\"id\":\"1501066\"}},\"size\":{\"value\":10},\"x\":{\"field\":\"pca_0\"},\"y\":{\"field\":\"pca_1\"}},\"id\":\"1501069\",\"type\":\"Circle\"},{\"attributes\":{},\"id\":\"1478099\",\"type\":\"Selection\"},{\"attributes\":{},\"id\":\"1506716\",\"type\":\"AllLabels\"},{\"attributes\":{\"text\":\"Action 5: 1 A, 0 B, 1 C\"},\"id\":\"1501034\",\"type\":\"Title\"},{\"attributes\":{\"bottom_units\":\"screen\",\"fill_alpha\":0.5,\"fill_color\":\"lightgrey\",\"left_units\":\"screen\",\"level\":\"overlay\",\"line_alpha\":1.0,\"line_color\":\"black\",\"line_dash\":[4,4],\"line_width\":2,\"right_units\":\"screen\",\"syncable\":false,\"top_units\":\"screen\"},\"id\":\"1501058\",\"type\":\"BoxAnnotation\"},{\"attributes\":{},\"id\":\"1506720\",\"type\":\"BasicTickFormatter\"},{\"attributes\":{\"source\":{\"id\":\"1472462\"}},\"id\":\"1501071\",\"type\":\"CDSView\"}],\"root_ids\":[\"1501033\"]},\"title\":\"Bokeh Application\",\"version\":\"2.3.3\"}};\n",
       "  var render_items = [{\"docid\":\"c5e50c7e-70c1-44d2-9f7e-20b3d747790e\",\"root_ids\":[\"1501033\"],\"roots\":{\"1501033\":\"44237c09-10c1-4f9c-bf5c-529daa06d563\"}}];\n",
       "  root.Bokeh.embed.embed_items_notebook(docs_json, render_items);\n",
       "\n",
       "  }\n",
       "  if (root.Bokeh !== undefined) {\n",
       "    embed_document(root);\n",
       "  } else {\n",
       "    var attempts = 0;\n",
       "    var timer = setInterval(function(root) {\n",
       "      if (root.Bokeh !== undefined) {\n",
       "        clearInterval(timer);\n",
       "        embed_document(root);\n",
       "      } else {\n",
       "        attempts++;\n",
       "        if (attempts > 100) {\n",
       "          clearInterval(timer);\n",
       "          console.log(\"Bokeh: ERROR: Unable to run BokehJS code because BokehJS library is missing\");\n",
       "        }\n",
       "      }\n",
       "    }, 10, root)\n",
       "  }\n",
       "})(window);"
      ],
      "application/vnd.bokehjs_exec.v0+json": ""
     },
     "metadata": {
      "application/vnd.bokehjs_exec.v0+json": {
       "id": "1501033"
      }
     },
     "output_type": "display_data"
    },
    {
     "data": {
      "text/html": [
       "\n",
       "\n",
       "\n",
       "\n",
       "\n",
       "\n",
       "  <div class=\"bk-root\" id=\"cf4fe287-79ae-48a6-848e-9d9e408fd1ac\" data-root-id=\"1506780\"></div>\n"
      ]
     },
     "metadata": {},
     "output_type": "display_data"
    },
    {
     "data": {
      "application/javascript": [
       "(function(root) {\n",
       "  function embed_document(root) {\n",
       "    \n",
       "  var docs_json = {\"c5fd36fc-a1a4-4be1-a5d5-b4fa16ff863b\":{\"defs\":[],\"roots\":{\"references\":[{\"attributes\":{\"below\":[{\"id\":\"1506791\"}],\"center\":[{\"id\":\"1506794\"},{\"id\":\"1506798\"}],\"height\":400,\"left\":[{\"id\":\"1506795\"}],\"renderers\":[{\"id\":\"1506817\"}],\"right\":[{\"id\":\"1506821\"}],\"title\":{\"id\":\"1506781\"},\"toolbar\":{\"id\":\"1506806\"},\"width\":900,\"x_range\":{\"id\":\"1506783\"},\"x_scale\":{\"id\":\"1506787\"},\"y_range\":{\"id\":\"1506785\"},\"y_scale\":{\"id\":\"1506789\"}},\"id\":\"1506780\",\"subtype\":\"Figure\",\"type\":\"Plot\"},{\"attributes\":{},\"id\":\"1512474\",\"type\":\"AllLabels\"},{\"attributes\":{},\"id\":\"1512475\",\"type\":\"BasicTickFormatter\"},{\"attributes\":{\"data\":{\"Prob_0\":{\"__ndarray__\":\"U3ymrppVgz/8KwkrjPt9Pxhb5Y15+30/9ShR2IT7fT8rlWkAgft9P2UwCgQ9hn0/CL0q1jSGfT8KFBfaM4Z9P2NY8Wg5hn0/d3uMgLIrfj85SNHpVrp+P+0+6umpK34/DmSTfKIrfj+9UQDuP7p+Pwf7ScowGH8/YUq8M9hRfz9C+mwH6bPtP4jWZ7Eyun4/bZ03l/MDfj9oBg+FVxh/PzBPyNwHUn8/coGGxKJ+fz8cdyNL6LPtPzsgrQZJ+30/Nwwmkeez7T+9YIyXkit+P7m6iUZj+30/Y72swBsYfz8oEe/7gwp+Pw==\",\"dtype\":\"float64\",\"order\":\"little\",\"shape\":[29]},\"Prob_1\":{\"__ndarray__\":\"0wxF22ntSj/unwszBodCP/lAlmgHh0I/4ZpAewiHQj94PkEABYdCP+kXg0L3W0I/i7jIzepbQj8uODmQ4VtCP46aj0X/W0I/59VYwCoUQz8ZH9GRm6VDPy4iRYZIFEM//wsScjUUQz/e1/OovqVDP9s5BxKnAkQ/29+/jK07RD/xLZjEt2CyP1Icq9aepUM/i3b29S+SQj+SwqmuhQJEP/Pn612MO0Q/AAbvAsJqRD8fR+SmvWCyPxwhIITUhkI/RZ7PdsNgsj/Kvqf6UBRDPxopRJDbhkI/ZHjX63YCRD/Tz0xx55pCPw==\",\"dtype\":\"float64\",\"order\":\"little\",\"shape\":[29]},\"Prob_10\":{\"__ndarray__\":\"rmD8ZZ+69j4AAAAAAAAAAAAAAAAAAAAAAAAAAAAAAAAAAAAAAAAAAAAAAAAAAAAAAAAAAAAAAAAAAAAAAAAAAAAAAAAAAAAAAAAAAAAAAAAAAAAAAAAAAAAAAAAAAAAAAAAAAAAAAAAAAAAAAAAAAAAAAAAAAAAAAAAAAAAAAAAAAAAAAAAAAAAAAAAAAAAAcPXPwkD+1j4AAAAAAAAAAAAAAAAAAAAAAAAAAAAAAAAAAAAAAAAAACwDG8V87dY+AAAAAAAAAAAAAAAAAAAAAEUQh4zb7dY+AAAAAAAAAAAAAAAAAAAAAA==\",\"dtype\":\"float64\",\"order\":\"little\",\"shape\":[29]},\"Prob_11\":{\"__ndarray__\":\"zcWJS76N9D4AAAAAAAAAAAAAAAAAAAAAAAAAAAAAAAAAAAAAAAAAAAAAAAAAAAAAAAAAAAAAAAAAAAAAAAAAAAAAAAAAAAAAAAAAAAAAAAAAAAAAAAAAAAAAAAAAAAAAAAAAAAAAAAAAAAAAAAAAAAAAAAAAAAAAAAAAAAAAAAAAAAAAAAAAAAAAAAAAAAAA/jJpOOBp0z4AAAAAAAAAAAAAAAAAAAAAAAAAAAAAAAAAAAAAAAAAAAAAAAAAAAAAAAAAAAAAAAAAAAAAAAAAAIuWk2/GVtM+AAAAAAAAAAAAAAAAAAAAAA==\",\"dtype\":\"float64\",\"order\":\"little\",\"shape\":[29]},\"Prob_2\":{\"__ndarray__\":\"qLLYBk5k9j69U+rPBgHXPjt5qQo1Adc+muwaehwB1z50AlGAHwHXPpCqWWQWy88+893edxbLzz4Qlxj8TcvPPqk3ocncys8+Y+6EIIqMzD6KBSIMQoXLPqS0YQkvjMw+jukJmzKMzD5YBIqMy4TLPiIBDy26IMs+m5X5UFLwyj4AAAAAAAAAANb87bLEhMs+i2gUQ88V1z7mfn6IRiHLPlJ8O33f8Mo++9nbQ/fayj4AAAAAAAAAACxLH6W2ANc+AAAAAAAAAABX2ACY0IvMPqgydyyKANc+7cWrBJ8gyz4b/YZVtybXPg==\",\"dtype\":\"float64\",\"order\":\"little\",\"shape\":[29]},\"Prob_3\":{\"__ndarray__\":\"MsKPY8Wt9z4tLBHvmDfYPkpCOYtxN9g+s2DL2Yk32D5uR1UgfzfYPjChRgITotA+JPN8rAei0D7HxbLOCqLQPjK+CQUPotA+mEaK4GGyzT5JeGoLhYPMPopYwmlAss0+bV4gnDGyzT7Q9v2MQYPMPo7DayyFCsw+M9yGsYXQyz4AAAAAAAAAACoqddImg8w+iziY5nlL2D7fGbQH4ArMPqR4JL3m0Ms+uv37Y6S6yz4AAAAAAAAAAPZ7ZKVuN9g+AAAAAAAAAAAubK63CrLNPjUCb6ugN9g+FlTAQ1QKzD5uQ6UWllrYPg==\",\"dtype\":\"float64\",\"order\":\"little\",\"shape\":[29]},\"Prob_4\":{\"__ndarray__\":\"ji8tj1Kq7z9CS82JT7/vP8jEtq5Pv+8/lGPdl0+/7z8zzG+gT7/vP6AwWERMwO8/IsTWV0zA7z8q3Q5cTMDvP3sEnklMwO8/kNCTANW+7z9FIxbpk73vP3G9bgrVvu8/6kYRHtW+7z8FfHYOlL3vP90T1ynBvO8/01b/sz+87z8AAAAAAAAAADOk7DCUve8/88Y+POy+7z92k4DkwLzvP9BlvVw/vO8/Rk2PZNq77z8AAAAAAAAAAPC4EWcKv+8/AAAAAAAAAABjaRs31b7vP/cyCoUAv+8/jN4GYMG87z+UGIV9LL/vPw==\",\"dtype\":\"float64\",\"order\":\"little\",\"shape\":[29]},\"Prob_5\":{\"__ndarray__\":\"uR0dgUej+D4AAAAAAAAAAAAAAAAAAAAAAAAAAAAAAAAAAAAAAAAAAAAAAAAAAAAAAAAAAAAAAAAAAAAAAAAAAAAAAAAAAAAAAAAAAAAAAAAAAAAAAAAAAAAAAAAAAAAAAAAAAAAAAAAAAAAAAAAAAAAAAAAAAAAAAAAAAAAAAAAAAAAAAAAAAAAAAAAAAAAATiTeqwsc2j4AAAAAAAAAAAAAAAAAAAAAAAAAAAAAAAAAAAAAAAAAAHCAy0UPBto+AAAAAAAAAAAAAAAAAAAAAKus5smbBdo+AAAAAAAAAAAAAAAAAAAAAA==\",\"dtype\":\"float64\",\"order\":\"little\",\"shape\":[29]},\"Prob_6\":{\"__ndarray__\":\"1C9GhQAC9z4AAAAAAAAAAAAAAAAAAAAAAAAAAAAAAAAAAAAAAAAAAAAAAAAAAAAAAAAAAAAAAAAAAAAAAAAAAAAAAAAAAAAAAAAAAAAAAAAAAAAAAAAAAAAAAAAAAAAAAAAAAAAAAAAAAAAAAAAAAAAAAAAAAAAAAAAAAAAAAAAAAAAAAAAAAAAAAAAAAAAAIxW1Aeec1j4AAAAAAAAAAAAAAAAAAAAAAAAAAAAAAAAAAAAAAAAAAM7kBGUoitY+AAAAAAAAAAAAAAAAAAAAAEqJ26xjitY+AAAAAAAAAAAAAAAAAAAAAA==\",\"dtype\":\"float64\",\"order\":\"little\",\"shape\":[29]},\"Prob_7\":{\"__ndarray__\":\"t8KQ42Ct9z4AAAAAAAAAAAAAAAAAAAAAAAAAAAAAAAAAAAAAAAAAAAAAAAAAAAAAAAAAAAAAAAAAAAAAAAAAAAAAAAAAAAAAAAAAAAAAAAAAAAAAAAAAAAAAAAAAAAAAAAAAAAAAAAAAAAAAAAAAAAAAAAAAAAAAAAAAAAAAAAAAAAAAAAAAAAAAAAAAAAAAvlXVRE6w1z4AAAAAAAAAAAAAAAAAAAAAAAAAAAAAAAAAAAAAAAAAABz4QeVunNc+AAAAAAAAAAAAAAAAAAAAAGKw8kuSnNc+AAAAAAAAAAAAAAAAAAAAAA==\",\"dtype\":\"float64\",\"order\":\"little\",\"shape\":[29]},\"Prob_8\":{\"__ndarray__\":\"iVpwiJfE9T4AAAAAAAAAAAAAAAAAAAAAAAAAAAAAAAAAAAAAAAAAAAAAAAAAAAAAAAAAAAAAAAAAAAAAAAAAAAAAAAAAAAAAAAAAAAAAAAAAAAAAAAAAAAAAAAAAAAAAAAAAAAAAAAAAAAAAAAAAAAAAAAAAAAAAAAAAAAAAAAAAAAAAAAAAAAAAAAAAAAAAIa1OPCfB1D4AAAAAAAAAAAAAAAAAAAAAAAAAAAAAAAAAAAAAAAAAAOi/m+T6sdQ+AAAAAAAAAAAAAAAAAAAAAEaQbA4sstQ+AAAAAAAAAAAAAAAAAAAAAA==\",\"dtype\":\"float64\",\"order\":\"little\",\"shape\":[29]},\"Prob_9\":{\"__ndarray__\":\"U75LJB9k9z4AAAAAAAAAAAAAAAAAAAAAAAAAAAAAAAAAAAAAAAAAAAAAAAAAAAAAAAAAAAAAAAAAAAAAAAAAAAAAAAAAAAAAAAAAAAAAAAAAAAAAAAAAAAAAAAAAAAAAAAAAAAAAAAAAAAAAAAAAAAAAAAAAAAAAAAAAAAAAAAAAAAAAAAAAAAAAAAAAAAAAMLvMRFit1z4AAAAAAAAAAAAAAAAAAAAAAAAAAAAAAAAAAAAAAAAAANqXQkU8n9c+AAAAAAAAAAAAAAAAAAAAANU08Kt+n9c+AAAAAAAAAAAAAAAAAAAAAA==\",\"dtype\":\"float64\",\"order\":\"little\",\"shape\":[29]},\"agent_id\":[0,0,0,0,0,0,0,0,0,0,0,0,0,0,0,0,0,0,0,0,0,0,0,0,0,0,0,0,0],\"index\":[0,12,24,28,138,234,246,268,370,564,810,3416,5124,5542,5544,5546,5656,6128,6916,8170,8172,8174,9492,10546,10972,17404,19108,19294,24044],\"infostate_string\":[\"\",\"1, 0, 0<br>1, 0, 0<br>3,0,0\",\"1, 0, 0<br>1, 0, 0<br>3,1,1\",\"1, 0, 0<br>1, 0, 0<br>3,0,1\",\"1, 0, 0<br>1, 0, 0<br>3,1,0\",\"1, 0, 0 | 1, 0, 0<br>1, 0, 0 | 1, 0, 0<br>3,0,1 | 3,0,1\",\"1, 0, 0 | 1, 0, 0<br>1, 0, 0 | 1, 0, 0<br>3,1,0 | 3,1,0\",\"1, 0, 0 | 1, 0, 0<br>1, 0, 0 | 1, 0, 0<br>3,1,1 | 3,1,1\",\"1, 0, 0 | 1, 0, 0<br>1, 0, 0 | 1, 0, 0<br>3,0,0 | 3,0,0\",\"1, 0, 0 | 1, 0, 0 | 1, 0, 0<br>1, 0, 0 | 1, 0, 0 | 1, 0, 0<br>3,1,1 | 3,1,1 | 3,1,1\",\"1, 0, 0 | 1, 0, 0 | 1, 0, 0 | 1, 0, 0<br>1, 0, 0 | 1, 0, 0 | 1, 0, 0 | 1, 0, 0<br>3,1,1 | 3,1,1 | 3,1,1 | 3,1,1\",\"1, 0, 0 | 1, 0, 0 | 1, 0, 0<br>1, 0, 0 | 1, 0, 0 | 1, 0, 0<br>3,0,1 | 3,0,1 | 3,0,1\",\"1, 0, 0 | 1, 0, 0 | 1, 0, 0<br>1, 0, 0 | 1, 0, 0 | 1, 0, 0<br>3,1,0 | 3,1,0 | 3,1,0\",\"1, 0, 0 | 1, 0, 0 | 1, 0, 0 | 1, 0, 0<br>1, 0, 0 | 1, 0, 0 | 1, 0, 0 | 1, 0, 0<br>3,0,1 | 3,0,1 | 3,0,1 | 3,0,1\",\"1, 0, 0 | 1, 0, 0 | 1, 0, 0 | 1, 0, 0 | 1, 0, 0<br>1, 0, 0 | 1, 0, 0 | 1, 0, 0 | 1, 0, 0 | 1, 0, 0<br>3,0,1 | 3,0,1 | 3,0,1 | 3,0,1 | 3,0,1\",\"1, 0, 0 | 1, 0, 0 | 1, 0, 0 | 1, 0, 0 | 1, 0, 0 | 1, 0, 0<br>1, 0, 0 | 1, 0, 0 | 1, 0, 0 | 1, 0, 0 | 1, 0, 0 | 1, 0, 0<br>3,0,1 | 3,0,1 | 3,0,1 | 3,0,1 | 3,0,1 | 3,0,1\",\"0, 0, 1<br>0, 0, 1<br>1,0,2\",\"1, 0, 0 | 1, 0, 0 | 1, 0, 0 | 1, 0, 0<br>1, 0, 0 | 1, 0, 0 | 1, 0, 0 | 1, 0, 0<br>3,1,0 | 3,1,0 | 3,1,0 | 3,1,0\",\"2, 1, 1<br>2, 1, 1<br>2,1,2\",\"1, 0, 0 | 1, 0, 0 | 1, 0, 0 | 1, 0, 0 | 1, 0, 0<br>1, 0, 0 | 1, 0, 0 | 1, 0, 0 | 1, 0, 0 | 1, 0, 0<br>3,1,1 | 3,1,1 | 3,1,1 | 3,1,1 | 3,1,1\",\"1, 0, 0 | 1, 0, 0 | 1, 0, 0 | 1, 0, 0 | 1, 0, 0 | 1, 0, 0<br>1, 0, 0 | 1, 0, 0 | 1, 0, 0 | 1, 0, 0 | 1, 0, 0 | 1, 0, 0<br>3,1,1 | 3,1,1 | 3,1,1 | 3,1,1 | 3,1,1 | 3,1,1\",\"1, 0, 0 | 1, 0, 0 | 1, 0, 0 | 1, 0, 0 | 1, 0, 0 | 1, 0, 0 | 1, 0, 0<br>1, 0, 0 | 1, 0, 0 | 1, 0, 0 | 1, 0, 0 | 1, 0, 0 | 1, 0, 0 | 1, 0, 0<br>3,1,1 | 3,1,1 | 3,1,1 | 3,1,1 | 3,1,1 | 3,1,1 | 3,1,1\",\"0, 0, 1<br>0, 0, 1<br>2,0,2\",\"2, 1, 0<br>2, 1, 0<br>3,1,0\",\"0, 0, 1<br>0, 0, 1<br>2,1,2\",\"1, 0, 0 | 1, 0, 0 | 1, 0, 0<br>1, 0, 0 | 1, 0, 0 | 1, 0, 0<br>3,0,0 | 3,0,0 | 3,0,0\",\"2, 1, 1<br>2, 1, 1<br>3,1,1\",\"1, 0, 0 | 1, 0, 0 | 1, 0, 0 | 1, 0, 0 | 1, 0, 0<br>1, 0, 0 | 1, 0, 0 | 1, 0, 0 | 1, 0, 0 | 1, 0, 0<br>3,1,0 | 3,1,0 | 3,1,0 | 3,1,0 | 3,1,0\",\"0, 1, 1<br>0, 1, 1<br>1,2,1\"],\"pca_0\":{\"__ndarray__\":\"TSWYP22nqz7WpKs+O6arPv6lqz4w9Ie9MPKHvf/vh71k9oe9uhKEviYTtb4MFoS+0BSEvscXtb6jpM6+tKDcvpHQqz77FbW+K9SrPoCfzr61m9y+JA7lvmDPqz6Yqas+BM6rPigYhL44q6s+RKLOvh32qz4=\",\"dtype\":\"float32\",\"order\":\"little\",\"shape\":[29]},\"pca_1\":{\"__ndarray__\":\"W3qJPuVqMr2VWzK9YGMyvfpiMr0DfT+9hn8/vXl0P71KiD+9xqv2uxi81jwt2/a7cxP3u8a21jzDCks9HciEPeRjNb3TmtY8oHc1vWEKSz0oxYQ9nZOZPdRbNb36djK9q1M1vb9E97sDgDK96vBKPYaeN70=\",\"dtype\":\"float32\",\"order\":\"little\",\"shape\":[29]},\"round\":[1,2,2,2,2,3,3,3,3,4,5,4,4,5,6,7,2,5,2,6,7,8,2,2,2,4,2,6,2],\"sor_exposure\":{\"__ndarray__\":\"AAAAAAAAAAAAAAAAAMBSQAAAAAAAwFJAAAAAAADAUkAAAAAAAMBSQAAAAAAAoFRAAAAAAACgVEAAAAAAAKBUQAAAAAAAoFRAAAAAAACwVkAAAADAzPRYQAAAAAAAsFZAAAAAAACwVkAAAADAzPRYQAAAACCuc1tAAAAAwHIyXkAAAAAAAAA5QAAAAMDM9FhAAAAAAAAgbEAAAAAgrnNbQAAAAMByMl5AAAAAIL+bYEAAAAAAAAA5QAAAAAAAAGlAAAAAAAAAOUAAAAAAALBWQAAAAAAAIGxAAAAAIK5zW0AAAAAAAMBSQA==\",\"dtype\":\"float64\",\"order\":\"little\",\"shape\":[29]}},\"selected\":{\"id\":\"1478099\"},\"selection_policy\":{\"id\":\"1478098\"}},\"id\":\"1472462\",\"type\":\"ColumnDataSource\"},{\"attributes\":{},\"id\":\"1506799\",\"type\":\"PanTool\"},{\"attributes\":{},\"id\":\"1512477\",\"type\":\"AllLabels\"},{\"attributes\":{},\"id\":\"1506800\",\"type\":\"WheelZoomTool\"},{\"attributes\":{},\"id\":\"1512478\",\"type\":\"BasicTickFormatter\"},{\"attributes\":{\"overlay\":{\"id\":\"1506805\"}},\"id\":\"1506801\",\"type\":\"BoxZoomTool\"},{\"attributes\":{\"active_multi\":null,\"tools\":[{\"id\":\"1506799\"},{\"id\":\"1506800\"},{\"id\":\"1506801\"},{\"id\":\"1506802\"},{\"id\":\"1506803\"},{\"id\":\"1506804\"},{\"id\":\"1506819\"}]},\"id\":\"1506806\",\"type\":\"Toolbar\"},{\"attributes\":{},\"id\":\"1506802\",\"type\":\"SaveTool\"},{\"attributes\":{},\"id\":\"1506787\",\"type\":\"LinearScale\"},{\"attributes\":{},\"id\":\"1506803\",\"type\":\"ResetTool\"},{\"attributes\":{},\"id\":\"1506789\",\"type\":\"LinearScale\"},{\"attributes\":{},\"id\":\"1506804\",\"type\":\"HelpTool\"},{\"attributes\":{\"formatter\":{\"id\":\"1512478\"},\"major_label_policy\":{\"id\":\"1512477\"},\"ticker\":{\"id\":\"1506792\"}},\"id\":\"1506791\",\"type\":\"LinearAxis\"},{\"attributes\":{},\"id\":\"1506792\",\"type\":\"BasicTicker\"},{\"attributes\":{\"axis\":{\"id\":\"1506791\"},\"ticker\":null},\"id\":\"1506794\",\"type\":\"Grid\"},{\"attributes\":{\"formatter\":{\"id\":\"1512475\"},\"major_label_policy\":{\"id\":\"1512474\"},\"ticker\":{\"id\":\"1506796\"}},\"id\":\"1506795\",\"type\":\"LinearAxis\"},{\"attributes\":{},\"id\":\"1506796\",\"type\":\"BasicTicker\"},{\"attributes\":{\"bottom_units\":\"screen\",\"fill_alpha\":0.5,\"fill_color\":\"lightgrey\",\"left_units\":\"screen\",\"level\":\"overlay\",\"line_alpha\":1.0,\"line_color\":\"black\",\"line_dash\":[4,4],\"line_width\":2,\"right_units\":\"screen\",\"syncable\":false,\"top_units\":\"screen\"},\"id\":\"1506805\",\"type\":\"BoxAnnotation\"},{\"attributes\":{\"axis\":{\"id\":\"1506795\"},\"dimension\":1,\"ticker\":null},\"id\":\"1506798\",\"type\":\"Grid\"},{\"attributes\":{\"color_mapper\":{\"id\":\"1506813\"},\"label_standoff\":12,\"major_label_policy\":{\"id\":\"1512473\"}},\"id\":\"1506821\",\"type\":\"ColorBar\"},{\"attributes\":{\"high\":0.9922239110955264,\"low\":-0.1,\"palette\":[\"#FBFCBF\",\"#FBFABD\",\"#FBF9BB\",\"#FBF7B9\",\"#FCF5B7\",\"#FCF3B5\",\"#FCF1B3\",\"#FCF0B1\",\"#FCEEB0\",\"#FCECAE\",\"#FCEAAC\",\"#FCE8AA\",\"#FCE6A8\",\"#FCE5A6\",\"#FCE3A5\",\"#FDE1A3\",\"#FDDFA1\",\"#FDDD9F\",\"#FDDC9D\",\"#FDDA9C\",\"#FDD89A\",\"#FDD698\",\"#FDD497\",\"#FDD295\",\"#FDD193\",\"#FDCF92\",\"#FDCD90\",\"#FECB8E\",\"#FEC98D\",\"#FEC78B\",\"#FEC689\",\"#FEC488\",\"#FEC286\",\"#FEC085\",\"#FEBE83\",\"#FEBC82\",\"#FEBB80\",\"#FEB97F\",\"#FEB77D\",\"#FEB57C\",\"#FEB37B\",\"#FEB179\",\"#FEAF78\",\"#FEAE76\",\"#FEAC75\",\"#FEAA74\",\"#FEA873\",\"#FEA671\",\"#FDA470\",\"#FDA26F\",\"#FDA16E\",\"#FD9F6C\",\"#FD9D6B\",\"#FD9B6A\",\"#FD9969\",\"#FD9768\",\"#FD9567\",\"#FC9366\",\"#FC9265\",\"#FC9064\",\"#FC8E63\",\"#FC8C63\",\"#FB8A62\",\"#FB8861\",\"#FB8660\",\"#FB8460\",\"#FA825F\",\"#FA805E\",\"#FA7F5E\",\"#F97D5D\",\"#F97B5D\",\"#F9795C\",\"#F8775C\",\"#F8755C\",\"#F7735C\",\"#F7715B\",\"#F6705B\",\"#F66E5B\",\"#F56C5B\",\"#F56A5B\",\"#F4685B\",\"#F3675B\",\"#F3655C\",\"#F2635C\",\"#F1615C\",\"#F0605D\",\"#EF5E5D\",\"#EE5D5D\",\"#EE5B5E\",\"#ED595F\",\"#EC585F\",\"#EB5660\",\"#EA5560\",\"#E85461\",\"#E75262\",\"#E65162\",\"#E55063\",\"#E44E64\",\"#E24D65\",\"#E14C66\",\"#E04B66\",\"#DE4A67\",\"#DD4968\",\"#DC4869\",\"#DA4769\",\"#D9466A\",\"#D7456B\",\"#D6446C\",\"#D4436D\",\"#D3426D\",\"#D1426E\",\"#D0416F\",\"#CE4070\",\"#CD3F70\",\"#CB3E71\",\"#CA3E72\",\"#C83D72\",\"#C63C73\",\"#C53C74\",\"#C33B74\",\"#C23A75\",\"#C03A75\",\"#BE3976\",\"#BD3977\",\"#BB3877\",\"#B93778\",\"#B83778\",\"#B63679\",\"#B53679\",\"#B3357A\",\"#B1357A\",\"#B0347B\",\"#AE347B\",\"#AC337B\",\"#AB337C\",\"#A9327C\",\"#A7317D\",\"#A6317D\",\"#A4307D\",\"#A3307E\",\"#A12F7E\",\"#9F2F7E\",\"#9E2E7E\",\"#9C2E7F\",\"#9A2D7F\",\"#992D7F\",\"#972C7F\",\"#952C80\",\"#942B80\",\"#922B80\",\"#912A80\",\"#8F2A80\",\"#8D2980\",\"#8C2980\",\"#8A2881\",\"#892881\",\"#872781\",\"#852681\",\"#842681\",\"#822581\",\"#812581\",\"#7F2481\",\"#7E2481\",\"#7C2381\",\"#7A2281\",\"#792281\",\"#772181\",\"#762181\",\"#742081\",\"#731F81\",\"#711F81\",\"#6F1E81\",\"#6E1E81\",\"#6C1D80\",\"#6B1C80\",\"#691C80\",\"#681B80\",\"#661A80\",\"#651A80\",\"#63197F\",\"#61187F\",\"#60187F\",\"#5E177F\",\"#5D177E\",\"#5B167E\",\"#5A157E\",\"#58157E\",\"#57147D\",\"#55137D\",\"#53137C\",\"#52127C\",\"#50127B\",\"#4F117B\",\"#4D117A\",\"#4B1079\",\"#4A1079\",\"#481078\",\"#470F77\",\"#450F76\",\"#430F75\",\"#420F74\",\"#400F73\",\"#3E0F72\",\"#3C0F71\",\"#3B0F6F\",\"#390F6E\",\"#370F6C\",\"#350F6A\",\"#341068\",\"#321067\",\"#301065\",\"#2F1062\",\"#2D1060\",\"#2B115E\",\"#2A115C\",\"#281159\",\"#261157\",\"#251155\",\"#231152\",\"#221150\",\"#20114D\",\"#1F114B\",\"#1E1049\",\"#1C1046\",\"#1B1044\",\"#1A1041\",\"#180F3F\",\"#170F3C\",\"#160E3A\",\"#150E38\",\"#140D35\",\"#120D33\",\"#110C31\",\"#100C2F\",\"#0F0B2C\",\"#0E0A2A\",\"#0D0A28\",\"#0C0926\",\"#0B0824\",\"#0A0722\",\"#09071F\",\"#08061D\",\"#07051B\",\"#060519\",\"#050417\",\"#040415\",\"#040313\",\"#030311\",\"#02020F\",\"#02020D\",\"#01010B\",\"#010109\",\"#010007\",\"#000006\",\"#000004\",\"#000003\"]},\"id\":\"1506813\",\"type\":\"LinearColorMapper\"},{\"attributes\":{},\"id\":\"1478098\",\"type\":\"UnionRenderers\"},{\"attributes\":{\"source\":{\"id\":\"1472462\"}},\"id\":\"1506818\",\"type\":\"CDSView\"},{\"attributes\":{},\"id\":\"1506785\",\"type\":\"DataRange1d\"},{\"attributes\":{},\"id\":\"1478099\",\"type\":\"Selection\"},{\"attributes\":{\"text\":\"Action 6: 1 A, 1 B, 0 C\"},\"id\":\"1506781\",\"type\":\"Title\"},{\"attributes\":{},\"id\":\"1512473\",\"type\":\"NoOverlap\"},{\"attributes\":{\"fill_alpha\":{\"value\":0.3},\"fill_color\":{\"field\":\"Prob_6\",\"transform\":{\"id\":\"1506813\"}},\"line_alpha\":{\"value\":0.3},\"line_color\":{\"field\":\"Prob_6\",\"transform\":{\"id\":\"1506813\"}},\"size\":{\"value\":10},\"x\":{\"field\":\"pca_0\"},\"y\":{\"field\":\"pca_1\"}},\"id\":\"1506815\",\"type\":\"Circle\"},{\"attributes\":{},\"id\":\"1506783\",\"type\":\"DataRange1d\"},{\"attributes\":{\"data_source\":{\"id\":\"1472462\"},\"glyph\":{\"id\":\"1506815\"},\"hover_glyph\":null,\"muted_glyph\":null,\"nonselection_glyph\":{\"id\":\"1506816\"},\"view\":{\"id\":\"1506818\"}},\"id\":\"1506817\",\"type\":\"GlyphRenderer\"},{\"attributes\":{\"fill_alpha\":{\"value\":0.1},\"fill_color\":{\"field\":\"Prob_6\",\"transform\":{\"id\":\"1506813\"}},\"line_alpha\":{\"value\":0.1},\"line_color\":{\"field\":\"Prob_6\",\"transform\":{\"id\":\"1506813\"}},\"size\":{\"value\":10},\"x\":{\"field\":\"pca_0\"},\"y\":{\"field\":\"pca_1\"}},\"id\":\"1506816\",\"type\":\"Circle\"},{\"attributes\":{\"callback\":null,\"tooltips\":[[\"Infostate\",\"@infostate_string\"],[\"Prob\",\"@Prob_6{(.00)}\"],[\"SoRExposure\",\"@sor_exposure\"],[\"Round\",\"@round\"]]},\"id\":\"1506819\",\"type\":\"HoverTool\"}],\"root_ids\":[\"1506780\"]},\"title\":\"Bokeh Application\",\"version\":\"2.3.3\"}};\n",
       "  var render_items = [{\"docid\":\"c5fd36fc-a1a4-4be1-a5d5-b4fa16ff863b\",\"root_ids\":[\"1506780\"],\"roots\":{\"1506780\":\"cf4fe287-79ae-48a6-848e-9d9e408fd1ac\"}}];\n",
       "  root.Bokeh.embed.embed_items_notebook(docs_json, render_items);\n",
       "\n",
       "  }\n",
       "  if (root.Bokeh !== undefined) {\n",
       "    embed_document(root);\n",
       "  } else {\n",
       "    var attempts = 0;\n",
       "    var timer = setInterval(function(root) {\n",
       "      if (root.Bokeh !== undefined) {\n",
       "        clearInterval(timer);\n",
       "        embed_document(root);\n",
       "      } else {\n",
       "        attempts++;\n",
       "        if (attempts > 100) {\n",
       "          clearInterval(timer);\n",
       "          console.log(\"Bokeh: ERROR: Unable to run BokehJS code because BokehJS library is missing\");\n",
       "        }\n",
       "      }\n",
       "    }, 10, root)\n",
       "  }\n",
       "})(window);"
      ],
      "application/vnd.bokehjs_exec.v0+json": ""
     },
     "metadata": {
      "application/vnd.bokehjs_exec.v0+json": {
       "id": "1506780"
      }
     },
     "output_type": "display_data"
    },
    {
     "data": {
      "text/html": [
       "\n",
       "\n",
       "\n",
       "\n",
       "\n",
       "\n",
       "  <div class=\"bk-root\" id=\"f6b69d08-9800-43af-b870-d8fe7da74eb5\" data-root-id=\"1512538\"></div>\n"
      ]
     },
     "metadata": {},
     "output_type": "display_data"
    },
    {
     "data": {
      "application/javascript": [
       "(function(root) {\n",
       "  function embed_document(root) {\n",
       "    \n",
       "  var docs_json = {\"dfe4803f-c4e0-47cb-bb31-bf0210d34806\":{\"defs\":[],\"roots\":{\"references\":[{\"attributes\":{\"below\":[{\"id\":\"1512549\"}],\"center\":[{\"id\":\"1512552\"},{\"id\":\"1512556\"}],\"height\":400,\"left\":[{\"id\":\"1512553\"}],\"renderers\":[{\"id\":\"1512575\"}],\"right\":[{\"id\":\"1512579\"}],\"title\":{\"id\":\"1512539\"},\"toolbar\":{\"id\":\"1512564\"},\"width\":900,\"x_range\":{\"id\":\"1512541\"},\"x_scale\":{\"id\":\"1512545\"},\"y_range\":{\"id\":\"1512543\"},\"y_scale\":{\"id\":\"1512547\"}},\"id\":\"1512538\",\"subtype\":\"Figure\",\"type\":\"Plot\"},{\"attributes\":{\"axis\":{\"id\":\"1512553\"},\"dimension\":1,\"ticker\":null},\"id\":\"1512556\",\"type\":\"Grid\"},{\"attributes\":{},\"id\":\"1518243\",\"type\":\"AllLabels\"},{\"attributes\":{},\"id\":\"1518244\",\"type\":\"BasicTickFormatter\"},{\"attributes\":{\"data\":{\"Prob_0\":{\"__ndarray__\":\"U3ymrppVgz/8KwkrjPt9Pxhb5Y15+30/9ShR2IT7fT8rlWkAgft9P2UwCgQ9hn0/CL0q1jSGfT8KFBfaM4Z9P2NY8Wg5hn0/d3uMgLIrfj85SNHpVrp+P+0+6umpK34/DmSTfKIrfj+9UQDuP7p+Pwf7ScowGH8/YUq8M9hRfz9C+mwH6bPtP4jWZ7Eyun4/bZ03l/MDfj9oBg+FVxh/PzBPyNwHUn8/coGGxKJ+fz8cdyNL6LPtPzsgrQZJ+30/Nwwmkeez7T+9YIyXkit+P7m6iUZj+30/Y72swBsYfz8oEe/7gwp+Pw==\",\"dtype\":\"float64\",\"order\":\"little\",\"shape\":[29]},\"Prob_1\":{\"__ndarray__\":\"0wxF22ntSj/unwszBodCP/lAlmgHh0I/4ZpAewiHQj94PkEABYdCP+kXg0L3W0I/i7jIzepbQj8uODmQ4VtCP46aj0X/W0I/59VYwCoUQz8ZH9GRm6VDPy4iRYZIFEM//wsScjUUQz/e1/OovqVDP9s5BxKnAkQ/29+/jK07RD/xLZjEt2CyP1Icq9aepUM/i3b29S+SQj+SwqmuhQJEP/Pn612MO0Q/AAbvAsJqRD8fR+SmvWCyPxwhIITUhkI/RZ7PdsNgsj/Kvqf6UBRDPxopRJDbhkI/ZHjX63YCRD/Tz0xx55pCPw==\",\"dtype\":\"float64\",\"order\":\"little\",\"shape\":[29]},\"Prob_10\":{\"__ndarray__\":\"rmD8ZZ+69j4AAAAAAAAAAAAAAAAAAAAAAAAAAAAAAAAAAAAAAAAAAAAAAAAAAAAAAAAAAAAAAAAAAAAAAAAAAAAAAAAAAAAAAAAAAAAAAAAAAAAAAAAAAAAAAAAAAAAAAAAAAAAAAAAAAAAAAAAAAAAAAAAAAAAAAAAAAAAAAAAAAAAAAAAAAAAAAAAAAAAAcPXPwkD+1j4AAAAAAAAAAAAAAAAAAAAAAAAAAAAAAAAAAAAAAAAAACwDG8V87dY+AAAAAAAAAAAAAAAAAAAAAEUQh4zb7dY+AAAAAAAAAAAAAAAAAAAAAA==\",\"dtype\":\"float64\",\"order\":\"little\",\"shape\":[29]},\"Prob_11\":{\"__ndarray__\":\"zcWJS76N9D4AAAAAAAAAAAAAAAAAAAAAAAAAAAAAAAAAAAAAAAAAAAAAAAAAAAAAAAAAAAAAAAAAAAAAAAAAAAAAAAAAAAAAAAAAAAAAAAAAAAAAAAAAAAAAAAAAAAAAAAAAAAAAAAAAAAAAAAAAAAAAAAAAAAAAAAAAAAAAAAAAAAAAAAAAAAAAAAAAAAAA/jJpOOBp0z4AAAAAAAAAAAAAAAAAAAAAAAAAAAAAAAAAAAAAAAAAAAAAAAAAAAAAAAAAAAAAAAAAAAAAAAAAAIuWk2/GVtM+AAAAAAAAAAAAAAAAAAAAAA==\",\"dtype\":\"float64\",\"order\":\"little\",\"shape\":[29]},\"Prob_2\":{\"__ndarray__\":\"qLLYBk5k9j69U+rPBgHXPjt5qQo1Adc+muwaehwB1z50AlGAHwHXPpCqWWQWy88+893edxbLzz4Qlxj8TcvPPqk3ocncys8+Y+6EIIqMzD6KBSIMQoXLPqS0YQkvjMw+jukJmzKMzD5YBIqMy4TLPiIBDy26IMs+m5X5UFLwyj4AAAAAAAAAANb87bLEhMs+i2gUQ88V1z7mfn6IRiHLPlJ8O33f8Mo++9nbQ/fayj4AAAAAAAAAACxLH6W2ANc+AAAAAAAAAABX2ACY0IvMPqgydyyKANc+7cWrBJ8gyz4b/YZVtybXPg==\",\"dtype\":\"float64\",\"order\":\"little\",\"shape\":[29]},\"Prob_3\":{\"__ndarray__\":\"MsKPY8Wt9z4tLBHvmDfYPkpCOYtxN9g+s2DL2Yk32D5uR1UgfzfYPjChRgITotA+JPN8rAei0D7HxbLOCqLQPjK+CQUPotA+mEaK4GGyzT5JeGoLhYPMPopYwmlAss0+bV4gnDGyzT7Q9v2MQYPMPo7DayyFCsw+M9yGsYXQyz4AAAAAAAAAACoqddImg8w+iziY5nlL2D7fGbQH4ArMPqR4JL3m0Ms+uv37Y6S6yz4AAAAAAAAAAPZ7ZKVuN9g+AAAAAAAAAAAubK63CrLNPjUCb6ugN9g+FlTAQ1QKzD5uQ6UWllrYPg==\",\"dtype\":\"float64\",\"order\":\"little\",\"shape\":[29]},\"Prob_4\":{\"__ndarray__\":\"ji8tj1Kq7z9CS82JT7/vP8jEtq5Pv+8/lGPdl0+/7z8zzG+gT7/vP6AwWERMwO8/IsTWV0zA7z8q3Q5cTMDvP3sEnklMwO8/kNCTANW+7z9FIxbpk73vP3G9bgrVvu8/6kYRHtW+7z8FfHYOlL3vP90T1ynBvO8/01b/sz+87z8AAAAAAAAAADOk7DCUve8/88Y+POy+7z92k4DkwLzvP9BlvVw/vO8/Rk2PZNq77z8AAAAAAAAAAPC4EWcKv+8/AAAAAAAAAABjaRs31b7vP/cyCoUAv+8/jN4GYMG87z+UGIV9LL/vPw==\",\"dtype\":\"float64\",\"order\":\"little\",\"shape\":[29]},\"Prob_5\":{\"__ndarray__\":\"uR0dgUej+D4AAAAAAAAAAAAAAAAAAAAAAAAAAAAAAAAAAAAAAAAAAAAAAAAAAAAAAAAAAAAAAAAAAAAAAAAAAAAAAAAAAAAAAAAAAAAAAAAAAAAAAAAAAAAAAAAAAAAAAAAAAAAAAAAAAAAAAAAAAAAAAAAAAAAAAAAAAAAAAAAAAAAAAAAAAAAAAAAAAAAATiTeqwsc2j4AAAAAAAAAAAAAAAAAAAAAAAAAAAAAAAAAAAAAAAAAAHCAy0UPBto+AAAAAAAAAAAAAAAAAAAAAKus5smbBdo+AAAAAAAAAAAAAAAAAAAAAA==\",\"dtype\":\"float64\",\"order\":\"little\",\"shape\":[29]},\"Prob_6\":{\"__ndarray__\":\"1C9GhQAC9z4AAAAAAAAAAAAAAAAAAAAAAAAAAAAAAAAAAAAAAAAAAAAAAAAAAAAAAAAAAAAAAAAAAAAAAAAAAAAAAAAAAAAAAAAAAAAAAAAAAAAAAAAAAAAAAAAAAAAAAAAAAAAAAAAAAAAAAAAAAAAAAAAAAAAAAAAAAAAAAAAAAAAAAAAAAAAAAAAAAAAAIxW1Aeec1j4AAAAAAAAAAAAAAAAAAAAAAAAAAAAAAAAAAAAAAAAAAM7kBGUoitY+AAAAAAAAAAAAAAAAAAAAAEqJ26xjitY+AAAAAAAAAAAAAAAAAAAAAA==\",\"dtype\":\"float64\",\"order\":\"little\",\"shape\":[29]},\"Prob_7\":{\"__ndarray__\":\"t8KQ42Ct9z4AAAAAAAAAAAAAAAAAAAAAAAAAAAAAAAAAAAAAAAAAAAAAAAAAAAAAAAAAAAAAAAAAAAAAAAAAAAAAAAAAAAAAAAAAAAAAAAAAAAAAAAAAAAAAAAAAAAAAAAAAAAAAAAAAAAAAAAAAAAAAAAAAAAAAAAAAAAAAAAAAAAAAAAAAAAAAAAAAAAAAvlXVRE6w1z4AAAAAAAAAAAAAAAAAAAAAAAAAAAAAAAAAAAAAAAAAABz4QeVunNc+AAAAAAAAAAAAAAAAAAAAAGKw8kuSnNc+AAAAAAAAAAAAAAAAAAAAAA==\",\"dtype\":\"float64\",\"order\":\"little\",\"shape\":[29]},\"Prob_8\":{\"__ndarray__\":\"iVpwiJfE9T4AAAAAAAAAAAAAAAAAAAAAAAAAAAAAAAAAAAAAAAAAAAAAAAAAAAAAAAAAAAAAAAAAAAAAAAAAAAAAAAAAAAAAAAAAAAAAAAAAAAAAAAAAAAAAAAAAAAAAAAAAAAAAAAAAAAAAAAAAAAAAAAAAAAAAAAAAAAAAAAAAAAAAAAAAAAAAAAAAAAAAIa1OPCfB1D4AAAAAAAAAAAAAAAAAAAAAAAAAAAAAAAAAAAAAAAAAAOi/m+T6sdQ+AAAAAAAAAAAAAAAAAAAAAEaQbA4sstQ+AAAAAAAAAAAAAAAAAAAAAA==\",\"dtype\":\"float64\",\"order\":\"little\",\"shape\":[29]},\"Prob_9\":{\"__ndarray__\":\"U75LJB9k9z4AAAAAAAAAAAAAAAAAAAAAAAAAAAAAAAAAAAAAAAAAAAAAAAAAAAAAAAAAAAAAAAAAAAAAAAAAAAAAAAAAAAAAAAAAAAAAAAAAAAAAAAAAAAAAAAAAAAAAAAAAAAAAAAAAAAAAAAAAAAAAAAAAAAAAAAAAAAAAAAAAAAAAAAAAAAAAAAAAAAAAMLvMRFit1z4AAAAAAAAAAAAAAAAAAAAAAAAAAAAAAAAAAAAAAAAAANqXQkU8n9c+AAAAAAAAAAAAAAAAAAAAANU08Kt+n9c+AAAAAAAAAAAAAAAAAAAAAA==\",\"dtype\":\"float64\",\"order\":\"little\",\"shape\":[29]},\"agent_id\":[0,0,0,0,0,0,0,0,0,0,0,0,0,0,0,0,0,0,0,0,0,0,0,0,0,0,0,0,0],\"index\":[0,12,24,28,138,234,246,268,370,564,810,3416,5124,5542,5544,5546,5656,6128,6916,8170,8172,8174,9492,10546,10972,17404,19108,19294,24044],\"infostate_string\":[\"\",\"1, 0, 0<br>1, 0, 0<br>3,0,0\",\"1, 0, 0<br>1, 0, 0<br>3,1,1\",\"1, 0, 0<br>1, 0, 0<br>3,0,1\",\"1, 0, 0<br>1, 0, 0<br>3,1,0\",\"1, 0, 0 | 1, 0, 0<br>1, 0, 0 | 1, 0, 0<br>3,0,1 | 3,0,1\",\"1, 0, 0 | 1, 0, 0<br>1, 0, 0 | 1, 0, 0<br>3,1,0 | 3,1,0\",\"1, 0, 0 | 1, 0, 0<br>1, 0, 0 | 1, 0, 0<br>3,1,1 | 3,1,1\",\"1, 0, 0 | 1, 0, 0<br>1, 0, 0 | 1, 0, 0<br>3,0,0 | 3,0,0\",\"1, 0, 0 | 1, 0, 0 | 1, 0, 0<br>1, 0, 0 | 1, 0, 0 | 1, 0, 0<br>3,1,1 | 3,1,1 | 3,1,1\",\"1, 0, 0 | 1, 0, 0 | 1, 0, 0 | 1, 0, 0<br>1, 0, 0 | 1, 0, 0 | 1, 0, 0 | 1, 0, 0<br>3,1,1 | 3,1,1 | 3,1,1 | 3,1,1\",\"1, 0, 0 | 1, 0, 0 | 1, 0, 0<br>1, 0, 0 | 1, 0, 0 | 1, 0, 0<br>3,0,1 | 3,0,1 | 3,0,1\",\"1, 0, 0 | 1, 0, 0 | 1, 0, 0<br>1, 0, 0 | 1, 0, 0 | 1, 0, 0<br>3,1,0 | 3,1,0 | 3,1,0\",\"1, 0, 0 | 1, 0, 0 | 1, 0, 0 | 1, 0, 0<br>1, 0, 0 | 1, 0, 0 | 1, 0, 0 | 1, 0, 0<br>3,0,1 | 3,0,1 | 3,0,1 | 3,0,1\",\"1, 0, 0 | 1, 0, 0 | 1, 0, 0 | 1, 0, 0 | 1, 0, 0<br>1, 0, 0 | 1, 0, 0 | 1, 0, 0 | 1, 0, 0 | 1, 0, 0<br>3,0,1 | 3,0,1 | 3,0,1 | 3,0,1 | 3,0,1\",\"1, 0, 0 | 1, 0, 0 | 1, 0, 0 | 1, 0, 0 | 1, 0, 0 | 1, 0, 0<br>1, 0, 0 | 1, 0, 0 | 1, 0, 0 | 1, 0, 0 | 1, 0, 0 | 1, 0, 0<br>3,0,1 | 3,0,1 | 3,0,1 | 3,0,1 | 3,0,1 | 3,0,1\",\"0, 0, 1<br>0, 0, 1<br>1,0,2\",\"1, 0, 0 | 1, 0, 0 | 1, 0, 0 | 1, 0, 0<br>1, 0, 0 | 1, 0, 0 | 1, 0, 0 | 1, 0, 0<br>3,1,0 | 3,1,0 | 3,1,0 | 3,1,0\",\"2, 1, 1<br>2, 1, 1<br>2,1,2\",\"1, 0, 0 | 1, 0, 0 | 1, 0, 0 | 1, 0, 0 | 1, 0, 0<br>1, 0, 0 | 1, 0, 0 | 1, 0, 0 | 1, 0, 0 | 1, 0, 0<br>3,1,1 | 3,1,1 | 3,1,1 | 3,1,1 | 3,1,1\",\"1, 0, 0 | 1, 0, 0 | 1, 0, 0 | 1, 0, 0 | 1, 0, 0 | 1, 0, 0<br>1, 0, 0 | 1, 0, 0 | 1, 0, 0 | 1, 0, 0 | 1, 0, 0 | 1, 0, 0<br>3,1,1 | 3,1,1 | 3,1,1 | 3,1,1 | 3,1,1 | 3,1,1\",\"1, 0, 0 | 1, 0, 0 | 1, 0, 0 | 1, 0, 0 | 1, 0, 0 | 1, 0, 0 | 1, 0, 0<br>1, 0, 0 | 1, 0, 0 | 1, 0, 0 | 1, 0, 0 | 1, 0, 0 | 1, 0, 0 | 1, 0, 0<br>3,1,1 | 3,1,1 | 3,1,1 | 3,1,1 | 3,1,1 | 3,1,1 | 3,1,1\",\"0, 0, 1<br>0, 0, 1<br>2,0,2\",\"2, 1, 0<br>2, 1, 0<br>3,1,0\",\"0, 0, 1<br>0, 0, 1<br>2,1,2\",\"1, 0, 0 | 1, 0, 0 | 1, 0, 0<br>1, 0, 0 | 1, 0, 0 | 1, 0, 0<br>3,0,0 | 3,0,0 | 3,0,0\",\"2, 1, 1<br>2, 1, 1<br>3,1,1\",\"1, 0, 0 | 1, 0, 0 | 1, 0, 0 | 1, 0, 0 | 1, 0, 0<br>1, 0, 0 | 1, 0, 0 | 1, 0, 0 | 1, 0, 0 | 1, 0, 0<br>3,1,0 | 3,1,0 | 3,1,0 | 3,1,0 | 3,1,0\",\"0, 1, 1<br>0, 1, 1<br>1,2,1\"],\"pca_0\":{\"__ndarray__\":\"TSWYP22nqz7WpKs+O6arPv6lqz4w9Ie9MPKHvf/vh71k9oe9uhKEviYTtb4MFoS+0BSEvscXtb6jpM6+tKDcvpHQqz77FbW+K9SrPoCfzr61m9y+JA7lvmDPqz6Yqas+BM6rPigYhL44q6s+RKLOvh32qz4=\",\"dtype\":\"float32\",\"order\":\"little\",\"shape\":[29]},\"pca_1\":{\"__ndarray__\":\"W3qJPuVqMr2VWzK9YGMyvfpiMr0DfT+9hn8/vXl0P71KiD+9xqv2uxi81jwt2/a7cxP3u8a21jzDCks9HciEPeRjNb3TmtY8oHc1vWEKSz0oxYQ9nZOZPdRbNb36djK9q1M1vb9E97sDgDK96vBKPYaeN70=\",\"dtype\":\"float32\",\"order\":\"little\",\"shape\":[29]},\"round\":[1,2,2,2,2,3,3,3,3,4,5,4,4,5,6,7,2,5,2,6,7,8,2,2,2,4,2,6,2],\"sor_exposure\":{\"__ndarray__\":\"AAAAAAAAAAAAAAAAAMBSQAAAAAAAwFJAAAAAAADAUkAAAAAAAMBSQAAAAAAAoFRAAAAAAACgVEAAAAAAAKBUQAAAAAAAoFRAAAAAAACwVkAAAADAzPRYQAAAAAAAsFZAAAAAAACwVkAAAADAzPRYQAAAACCuc1tAAAAAwHIyXkAAAAAAAAA5QAAAAMDM9FhAAAAAAAAgbEAAAAAgrnNbQAAAAMByMl5AAAAAIL+bYEAAAAAAAAA5QAAAAAAAAGlAAAAAAAAAOUAAAAAAALBWQAAAAAAAIGxAAAAAIK5zW0AAAAAAAMBSQA==\",\"dtype\":\"float64\",\"order\":\"little\",\"shape\":[29]}},\"selected\":{\"id\":\"1478099\"},\"selection_policy\":{\"id\":\"1478098\"}},\"id\":\"1472462\",\"type\":\"ColumnDataSource\"},{\"attributes\":{\"bottom_units\":\"screen\",\"fill_alpha\":0.5,\"fill_color\":\"lightgrey\",\"left_units\":\"screen\",\"level\":\"overlay\",\"line_alpha\":1.0,\"line_color\":\"black\",\"line_dash\":[4,4],\"line_width\":2,\"right_units\":\"screen\",\"syncable\":false,\"top_units\":\"screen\"},\"id\":\"1512563\",\"type\":\"BoxAnnotation\"},{\"attributes\":{},\"id\":\"1518246\",\"type\":\"AllLabels\"},{\"attributes\":{},\"id\":\"1512557\",\"type\":\"PanTool\"},{\"attributes\":{},\"id\":\"1518247\",\"type\":\"BasicTickFormatter\"},{\"attributes\":{},\"id\":\"1512558\",\"type\":\"WheelZoomTool\"},{\"attributes\":{\"overlay\":{\"id\":\"1512563\"}},\"id\":\"1512559\",\"type\":\"BoxZoomTool\"},{\"attributes\":{},\"id\":\"1512560\",\"type\":\"SaveTool\"},{\"attributes\":{},\"id\":\"1512543\",\"type\":\"DataRange1d\"},{\"attributes\":{},\"id\":\"1512561\",\"type\":\"ResetTool\"},{\"attributes\":{},\"id\":\"1512545\",\"type\":\"LinearScale\"},{\"attributes\":{},\"id\":\"1512562\",\"type\":\"HelpTool\"},{\"attributes\":{},\"id\":\"1512547\",\"type\":\"LinearScale\"},{\"attributes\":{\"formatter\":{\"id\":\"1518247\"},\"major_label_policy\":{\"id\":\"1518246\"},\"ticker\":{\"id\":\"1512550\"}},\"id\":\"1512549\",\"type\":\"LinearAxis\"},{\"attributes\":{\"active_multi\":null,\"tools\":[{\"id\":\"1512557\"},{\"id\":\"1512558\"},{\"id\":\"1512559\"},{\"id\":\"1512560\"},{\"id\":\"1512561\"},{\"id\":\"1512562\"},{\"id\":\"1512577\"}]},\"id\":\"1512564\",\"type\":\"Toolbar\"},{\"attributes\":{},\"id\":\"1512550\",\"type\":\"BasicTicker\"},{\"attributes\":{\"axis\":{\"id\":\"1512549\"},\"ticker\":null},\"id\":\"1512552\",\"type\":\"Grid\"},{\"attributes\":{\"formatter\":{\"id\":\"1518244\"},\"major_label_policy\":{\"id\":\"1518243\"},\"ticker\":{\"id\":\"1512554\"}},\"id\":\"1512553\",\"type\":\"LinearAxis\"},{\"attributes\":{\"color_mapper\":{\"id\":\"1512571\"},\"label_standoff\":12,\"major_label_policy\":{\"id\":\"1518242\"}},\"id\":\"1512579\",\"type\":\"ColorBar\"},{\"attributes\":{},\"id\":\"1478098\",\"type\":\"UnionRenderers\"},{\"attributes\":{\"source\":{\"id\":\"1472462\"}},\"id\":\"1512576\",\"type\":\"CDSView\"},{\"attributes\":{},\"id\":\"1512554\",\"type\":\"BasicTicker\"},{\"attributes\":{\"high\":0.9922239110955264,\"low\":-0.1,\"palette\":[\"#FBFCBF\",\"#FBFABD\",\"#FBF9BB\",\"#FBF7B9\",\"#FCF5B7\",\"#FCF3B5\",\"#FCF1B3\",\"#FCF0B1\",\"#FCEEB0\",\"#FCECAE\",\"#FCEAAC\",\"#FCE8AA\",\"#FCE6A8\",\"#FCE5A6\",\"#FCE3A5\",\"#FDE1A3\",\"#FDDFA1\",\"#FDDD9F\",\"#FDDC9D\",\"#FDDA9C\",\"#FDD89A\",\"#FDD698\",\"#FDD497\",\"#FDD295\",\"#FDD193\",\"#FDCF92\",\"#FDCD90\",\"#FECB8E\",\"#FEC98D\",\"#FEC78B\",\"#FEC689\",\"#FEC488\",\"#FEC286\",\"#FEC085\",\"#FEBE83\",\"#FEBC82\",\"#FEBB80\",\"#FEB97F\",\"#FEB77D\",\"#FEB57C\",\"#FEB37B\",\"#FEB179\",\"#FEAF78\",\"#FEAE76\",\"#FEAC75\",\"#FEAA74\",\"#FEA873\",\"#FEA671\",\"#FDA470\",\"#FDA26F\",\"#FDA16E\",\"#FD9F6C\",\"#FD9D6B\",\"#FD9B6A\",\"#FD9969\",\"#FD9768\",\"#FD9567\",\"#FC9366\",\"#FC9265\",\"#FC9064\",\"#FC8E63\",\"#FC8C63\",\"#FB8A62\",\"#FB8861\",\"#FB8660\",\"#FB8460\",\"#FA825F\",\"#FA805E\",\"#FA7F5E\",\"#F97D5D\",\"#F97B5D\",\"#F9795C\",\"#F8775C\",\"#F8755C\",\"#F7735C\",\"#F7715B\",\"#F6705B\",\"#F66E5B\",\"#F56C5B\",\"#F56A5B\",\"#F4685B\",\"#F3675B\",\"#F3655C\",\"#F2635C\",\"#F1615C\",\"#F0605D\",\"#EF5E5D\",\"#EE5D5D\",\"#EE5B5E\",\"#ED595F\",\"#EC585F\",\"#EB5660\",\"#EA5560\",\"#E85461\",\"#E75262\",\"#E65162\",\"#E55063\",\"#E44E64\",\"#E24D65\",\"#E14C66\",\"#E04B66\",\"#DE4A67\",\"#DD4968\",\"#DC4869\",\"#DA4769\",\"#D9466A\",\"#D7456B\",\"#D6446C\",\"#D4436D\",\"#D3426D\",\"#D1426E\",\"#D0416F\",\"#CE4070\",\"#CD3F70\",\"#CB3E71\",\"#CA3E72\",\"#C83D72\",\"#C63C73\",\"#C53C74\",\"#C33B74\",\"#C23A75\",\"#C03A75\",\"#BE3976\",\"#BD3977\",\"#BB3877\",\"#B93778\",\"#B83778\",\"#B63679\",\"#B53679\",\"#B3357A\",\"#B1357A\",\"#B0347B\",\"#AE347B\",\"#AC337B\",\"#AB337C\",\"#A9327C\",\"#A7317D\",\"#A6317D\",\"#A4307D\",\"#A3307E\",\"#A12F7E\",\"#9F2F7E\",\"#9E2E7E\",\"#9C2E7F\",\"#9A2D7F\",\"#992D7F\",\"#972C7F\",\"#952C80\",\"#942B80\",\"#922B80\",\"#912A80\",\"#8F2A80\",\"#8D2980\",\"#8C2980\",\"#8A2881\",\"#892881\",\"#872781\",\"#852681\",\"#842681\",\"#822581\",\"#812581\",\"#7F2481\",\"#7E2481\",\"#7C2381\",\"#7A2281\",\"#792281\",\"#772181\",\"#762181\",\"#742081\",\"#731F81\",\"#711F81\",\"#6F1E81\",\"#6E1E81\",\"#6C1D80\",\"#6B1C80\",\"#691C80\",\"#681B80\",\"#661A80\",\"#651A80\",\"#63197F\",\"#61187F\",\"#60187F\",\"#5E177F\",\"#5D177E\",\"#5B167E\",\"#5A157E\",\"#58157E\",\"#57147D\",\"#55137D\",\"#53137C\",\"#52127C\",\"#50127B\",\"#4F117B\",\"#4D117A\",\"#4B1079\",\"#4A1079\",\"#481078\",\"#470F77\",\"#450F76\",\"#430F75\",\"#420F74\",\"#400F73\",\"#3E0F72\",\"#3C0F71\",\"#3B0F6F\",\"#390F6E\",\"#370F6C\",\"#350F6A\",\"#341068\",\"#321067\",\"#301065\",\"#2F1062\",\"#2D1060\",\"#2B115E\",\"#2A115C\",\"#281159\",\"#261157\",\"#251155\",\"#231152\",\"#221150\",\"#20114D\",\"#1F114B\",\"#1E1049\",\"#1C1046\",\"#1B1044\",\"#1A1041\",\"#180F3F\",\"#170F3C\",\"#160E3A\",\"#150E38\",\"#140D35\",\"#120D33\",\"#110C31\",\"#100C2F\",\"#0F0B2C\",\"#0E0A2A\",\"#0D0A28\",\"#0C0926\",\"#0B0824\",\"#0A0722\",\"#09071F\",\"#08061D\",\"#07051B\",\"#060519\",\"#050417\",\"#040415\",\"#040313\",\"#030311\",\"#02020F\",\"#02020D\",\"#01010B\",\"#010109\",\"#010007\",\"#000006\",\"#000004\",\"#000003\"]},\"id\":\"1512571\",\"type\":\"LinearColorMapper\"},{\"attributes\":{},\"id\":\"1478099\",\"type\":\"Selection\"},{\"attributes\":{\"fill_alpha\":{\"value\":0.3},\"fill_color\":{\"field\":\"Prob_7\",\"transform\":{\"id\":\"1512571\"}},\"line_alpha\":{\"value\":0.3},\"line_color\":{\"field\":\"Prob_7\",\"transform\":{\"id\":\"1512571\"}},\"size\":{\"value\":10},\"x\":{\"field\":\"pca_0\"},\"y\":{\"field\":\"pca_1\"}},\"id\":\"1512573\",\"type\":\"Circle\"},{\"attributes\":{\"text\":\"Action 7: 1 A, 1 B, 1 C\"},\"id\":\"1512539\",\"type\":\"Title\"},{\"attributes\":{\"data_source\":{\"id\":\"1472462\"},\"glyph\":{\"id\":\"1512573\"},\"hover_glyph\":null,\"muted_glyph\":null,\"nonselection_glyph\":{\"id\":\"1512574\"},\"view\":{\"id\":\"1512576\"}},\"id\":\"1512575\",\"type\":\"GlyphRenderer\"},{\"attributes\":{},\"id\":\"1518242\",\"type\":\"NoOverlap\"},{\"attributes\":{\"fill_alpha\":{\"value\":0.1},\"fill_color\":{\"field\":\"Prob_7\",\"transform\":{\"id\":\"1512571\"}},\"line_alpha\":{\"value\":0.1},\"line_color\":{\"field\":\"Prob_7\",\"transform\":{\"id\":\"1512571\"}},\"size\":{\"value\":10},\"x\":{\"field\":\"pca_0\"},\"y\":{\"field\":\"pca_1\"}},\"id\":\"1512574\",\"type\":\"Circle\"},{\"attributes\":{},\"id\":\"1512541\",\"type\":\"DataRange1d\"},{\"attributes\":{\"callback\":null,\"tooltips\":[[\"Infostate\",\"@infostate_string\"],[\"Prob\",\"@Prob_7{(.00)}\"],[\"SoRExposure\",\"@sor_exposure\"],[\"Round\",\"@round\"]]},\"id\":\"1512577\",\"type\":\"HoverTool\"}],\"root_ids\":[\"1512538\"]},\"title\":\"Bokeh Application\",\"version\":\"2.3.3\"}};\n",
       "  var render_items = [{\"docid\":\"dfe4803f-c4e0-47cb-bb31-bf0210d34806\",\"root_ids\":[\"1512538\"],\"roots\":{\"1512538\":\"f6b69d08-9800-43af-b870-d8fe7da74eb5\"}}];\n",
       "  root.Bokeh.embed.embed_items_notebook(docs_json, render_items);\n",
       "\n",
       "  }\n",
       "  if (root.Bokeh !== undefined) {\n",
       "    embed_document(root);\n",
       "  } else {\n",
       "    var attempts = 0;\n",
       "    var timer = setInterval(function(root) {\n",
       "      if (root.Bokeh !== undefined) {\n",
       "        clearInterval(timer);\n",
       "        embed_document(root);\n",
       "      } else {\n",
       "        attempts++;\n",
       "        if (attempts > 100) {\n",
       "          clearInterval(timer);\n",
       "          console.log(\"Bokeh: ERROR: Unable to run BokehJS code because BokehJS library is missing\");\n",
       "        }\n",
       "      }\n",
       "    }, 10, root)\n",
       "  }\n",
       "})(window);"
      ],
      "application/vnd.bokehjs_exec.v0+json": ""
     },
     "metadata": {
      "application/vnd.bokehjs_exec.v0+json": {
       "id": "1512538"
      }
     },
     "output_type": "display_data"
    },
    {
     "data": {
      "text/html": [
       "\n",
       "\n",
       "\n",
       "\n",
       "\n",
       "\n",
       "  <div class=\"bk-root\" id=\"6745c04b-0acc-4154-a3c2-1ce7f24e2b4a\" data-root-id=\"1518307\"></div>\n"
      ]
     },
     "metadata": {},
     "output_type": "display_data"
    },
    {
     "data": {
      "application/javascript": [
       "(function(root) {\n",
       "  function embed_document(root) {\n",
       "    \n",
       "  var docs_json = {\"7d9420c9-f7ff-4cbb-adf0-5ac375fe077c\":{\"defs\":[],\"roots\":{\"references\":[{\"attributes\":{\"below\":[{\"id\":\"1518318\"}],\"center\":[{\"id\":\"1518321\"},{\"id\":\"1518325\"}],\"height\":400,\"left\":[{\"id\":\"1518322\"}],\"renderers\":[{\"id\":\"1518344\"}],\"right\":[{\"id\":\"1518348\"}],\"title\":{\"id\":\"1518308\"},\"toolbar\":{\"id\":\"1518333\"},\"width\":900,\"x_range\":{\"id\":\"1518310\"},\"x_scale\":{\"id\":\"1518314\"},\"y_range\":{\"id\":\"1518312\"},\"y_scale\":{\"id\":\"1518316\"}},\"id\":\"1518307\",\"subtype\":\"Figure\",\"type\":\"Plot\"},{\"attributes\":{},\"id\":\"1524023\",\"type\":\"AllLabels\"},{\"attributes\":{\"fill_alpha\":{\"value\":0.1},\"fill_color\":{\"field\":\"Prob_8\",\"transform\":{\"id\":\"1518340\"}},\"line_alpha\":{\"value\":0.1},\"line_color\":{\"field\":\"Prob_8\",\"transform\":{\"id\":\"1518340\"}},\"size\":{\"value\":10},\"x\":{\"field\":\"pca_0\"},\"y\":{\"field\":\"pca_1\"}},\"id\":\"1518343\",\"type\":\"Circle\"},{\"attributes\":{},\"id\":\"1524022\",\"type\":\"NoOverlap\"},{\"attributes\":{},\"id\":\"1524024\",\"type\":\"BasicTickFormatter\"},{\"attributes\":{\"text\":\"Action 8: 2 A, 0 B, 0 C\"},\"id\":\"1518308\",\"type\":\"Title\"},{\"attributes\":{},\"id\":\"1518310\",\"type\":\"DataRange1d\"},{\"attributes\":{\"data\":{\"Prob_0\":{\"__ndarray__\":\"U3ymrppVgz/8KwkrjPt9Pxhb5Y15+30/9ShR2IT7fT8rlWkAgft9P2UwCgQ9hn0/CL0q1jSGfT8KFBfaM4Z9P2NY8Wg5hn0/d3uMgLIrfj85SNHpVrp+P+0+6umpK34/DmSTfKIrfj+9UQDuP7p+Pwf7ScowGH8/YUq8M9hRfz9C+mwH6bPtP4jWZ7Eyun4/bZ03l/MDfj9oBg+FVxh/PzBPyNwHUn8/coGGxKJ+fz8cdyNL6LPtPzsgrQZJ+30/Nwwmkeez7T+9YIyXkit+P7m6iUZj+30/Y72swBsYfz8oEe/7gwp+Pw==\",\"dtype\":\"float64\",\"order\":\"little\",\"shape\":[29]},\"Prob_1\":{\"__ndarray__\":\"0wxF22ntSj/unwszBodCP/lAlmgHh0I/4ZpAewiHQj94PkEABYdCP+kXg0L3W0I/i7jIzepbQj8uODmQ4VtCP46aj0X/W0I/59VYwCoUQz8ZH9GRm6VDPy4iRYZIFEM//wsScjUUQz/e1/OovqVDP9s5BxKnAkQ/29+/jK07RD/xLZjEt2CyP1Icq9aepUM/i3b29S+SQj+SwqmuhQJEP/Pn612MO0Q/AAbvAsJqRD8fR+SmvWCyPxwhIITUhkI/RZ7PdsNgsj/Kvqf6UBRDPxopRJDbhkI/ZHjX63YCRD/Tz0xx55pCPw==\",\"dtype\":\"float64\",\"order\":\"little\",\"shape\":[29]},\"Prob_10\":{\"__ndarray__\":\"rmD8ZZ+69j4AAAAAAAAAAAAAAAAAAAAAAAAAAAAAAAAAAAAAAAAAAAAAAAAAAAAAAAAAAAAAAAAAAAAAAAAAAAAAAAAAAAAAAAAAAAAAAAAAAAAAAAAAAAAAAAAAAAAAAAAAAAAAAAAAAAAAAAAAAAAAAAAAAAAAAAAAAAAAAAAAAAAAAAAAAAAAAAAAAAAAcPXPwkD+1j4AAAAAAAAAAAAAAAAAAAAAAAAAAAAAAAAAAAAAAAAAACwDG8V87dY+AAAAAAAAAAAAAAAAAAAAAEUQh4zb7dY+AAAAAAAAAAAAAAAAAAAAAA==\",\"dtype\":\"float64\",\"order\":\"little\",\"shape\":[29]},\"Prob_11\":{\"__ndarray__\":\"zcWJS76N9D4AAAAAAAAAAAAAAAAAAAAAAAAAAAAAAAAAAAAAAAAAAAAAAAAAAAAAAAAAAAAAAAAAAAAAAAAAAAAAAAAAAAAAAAAAAAAAAAAAAAAAAAAAAAAAAAAAAAAAAAAAAAAAAAAAAAAAAAAAAAAAAAAAAAAAAAAAAAAAAAAAAAAAAAAAAAAAAAAAAAAA/jJpOOBp0z4AAAAAAAAAAAAAAAAAAAAAAAAAAAAAAAAAAAAAAAAAAAAAAAAAAAAAAAAAAAAAAAAAAAAAAAAAAIuWk2/GVtM+AAAAAAAAAAAAAAAAAAAAAA==\",\"dtype\":\"float64\",\"order\":\"little\",\"shape\":[29]},\"Prob_2\":{\"__ndarray__\":\"qLLYBk5k9j69U+rPBgHXPjt5qQo1Adc+muwaehwB1z50AlGAHwHXPpCqWWQWy88+893edxbLzz4Qlxj8TcvPPqk3ocncys8+Y+6EIIqMzD6KBSIMQoXLPqS0YQkvjMw+jukJmzKMzD5YBIqMy4TLPiIBDy26IMs+m5X5UFLwyj4AAAAAAAAAANb87bLEhMs+i2gUQ88V1z7mfn6IRiHLPlJ8O33f8Mo++9nbQ/fayj4AAAAAAAAAACxLH6W2ANc+AAAAAAAAAABX2ACY0IvMPqgydyyKANc+7cWrBJ8gyz4b/YZVtybXPg==\",\"dtype\":\"float64\",\"order\":\"little\",\"shape\":[29]},\"Prob_3\":{\"__ndarray__\":\"MsKPY8Wt9z4tLBHvmDfYPkpCOYtxN9g+s2DL2Yk32D5uR1UgfzfYPjChRgITotA+JPN8rAei0D7HxbLOCqLQPjK+CQUPotA+mEaK4GGyzT5JeGoLhYPMPopYwmlAss0+bV4gnDGyzT7Q9v2MQYPMPo7DayyFCsw+M9yGsYXQyz4AAAAAAAAAACoqddImg8w+iziY5nlL2D7fGbQH4ArMPqR4JL3m0Ms+uv37Y6S6yz4AAAAAAAAAAPZ7ZKVuN9g+AAAAAAAAAAAubK63CrLNPjUCb6ugN9g+FlTAQ1QKzD5uQ6UWllrYPg==\",\"dtype\":\"float64\",\"order\":\"little\",\"shape\":[29]},\"Prob_4\":{\"__ndarray__\":\"ji8tj1Kq7z9CS82JT7/vP8jEtq5Pv+8/lGPdl0+/7z8zzG+gT7/vP6AwWERMwO8/IsTWV0zA7z8q3Q5cTMDvP3sEnklMwO8/kNCTANW+7z9FIxbpk73vP3G9bgrVvu8/6kYRHtW+7z8FfHYOlL3vP90T1ynBvO8/01b/sz+87z8AAAAAAAAAADOk7DCUve8/88Y+POy+7z92k4DkwLzvP9BlvVw/vO8/Rk2PZNq77z8AAAAAAAAAAPC4EWcKv+8/AAAAAAAAAABjaRs31b7vP/cyCoUAv+8/jN4GYMG87z+UGIV9LL/vPw==\",\"dtype\":\"float64\",\"order\":\"little\",\"shape\":[29]},\"Prob_5\":{\"__ndarray__\":\"uR0dgUej+D4AAAAAAAAAAAAAAAAAAAAAAAAAAAAAAAAAAAAAAAAAAAAAAAAAAAAAAAAAAAAAAAAAAAAAAAAAAAAAAAAAAAAAAAAAAAAAAAAAAAAAAAAAAAAAAAAAAAAAAAAAAAAAAAAAAAAAAAAAAAAAAAAAAAAAAAAAAAAAAAAAAAAAAAAAAAAAAAAAAAAATiTeqwsc2j4AAAAAAAAAAAAAAAAAAAAAAAAAAAAAAAAAAAAAAAAAAHCAy0UPBto+AAAAAAAAAAAAAAAAAAAAAKus5smbBdo+AAAAAAAAAAAAAAAAAAAAAA==\",\"dtype\":\"float64\",\"order\":\"little\",\"shape\":[29]},\"Prob_6\":{\"__ndarray__\":\"1C9GhQAC9z4AAAAAAAAAAAAAAAAAAAAAAAAAAAAAAAAAAAAAAAAAAAAAAAAAAAAAAAAAAAAAAAAAAAAAAAAAAAAAAAAAAAAAAAAAAAAAAAAAAAAAAAAAAAAAAAAAAAAAAAAAAAAAAAAAAAAAAAAAAAAAAAAAAAAAAAAAAAAAAAAAAAAAAAAAAAAAAAAAAAAAIxW1Aeec1j4AAAAAAAAAAAAAAAAAAAAAAAAAAAAAAAAAAAAAAAAAAM7kBGUoitY+AAAAAAAAAAAAAAAAAAAAAEqJ26xjitY+AAAAAAAAAAAAAAAAAAAAAA==\",\"dtype\":\"float64\",\"order\":\"little\",\"shape\":[29]},\"Prob_7\":{\"__ndarray__\":\"t8KQ42Ct9z4AAAAAAAAAAAAAAAAAAAAAAAAAAAAAAAAAAAAAAAAAAAAAAAAAAAAAAAAAAAAAAAAAAAAAAAAAAAAAAAAAAAAAAAAAAAAAAAAAAAAAAAAAAAAAAAAAAAAAAAAAAAAAAAAAAAAAAAAAAAAAAAAAAAAAAAAAAAAAAAAAAAAAAAAAAAAAAAAAAAAAvlXVRE6w1z4AAAAAAAAAAAAAAAAAAAAAAAAAAAAAAAAAAAAAAAAAABz4QeVunNc+AAAAAAAAAAAAAAAAAAAAAGKw8kuSnNc+AAAAAAAAAAAAAAAAAAAAAA==\",\"dtype\":\"float64\",\"order\":\"little\",\"shape\":[29]},\"Prob_8\":{\"__ndarray__\":\"iVpwiJfE9T4AAAAAAAAAAAAAAAAAAAAAAAAAAAAAAAAAAAAAAAAAAAAAAAAAAAAAAAAAAAAAAAAAAAAAAAAAAAAAAAAAAAAAAAAAAAAAAAAAAAAAAAAAAAAAAAAAAAAAAAAAAAAAAAAAAAAAAAAAAAAAAAAAAAAAAAAAAAAAAAAAAAAAAAAAAAAAAAAAAAAAIa1OPCfB1D4AAAAAAAAAAAAAAAAAAAAAAAAAAAAAAAAAAAAAAAAAAOi/m+T6sdQ+AAAAAAAAAAAAAAAAAAAAAEaQbA4sstQ+AAAAAAAAAAAAAAAAAAAAAA==\",\"dtype\":\"float64\",\"order\":\"little\",\"shape\":[29]},\"Prob_9\":{\"__ndarray__\":\"U75LJB9k9z4AAAAAAAAAAAAAAAAAAAAAAAAAAAAAAAAAAAAAAAAAAAAAAAAAAAAAAAAAAAAAAAAAAAAAAAAAAAAAAAAAAAAAAAAAAAAAAAAAAAAAAAAAAAAAAAAAAAAAAAAAAAAAAAAAAAAAAAAAAAAAAAAAAAAAAAAAAAAAAAAAAAAAAAAAAAAAAAAAAAAAMLvMRFit1z4AAAAAAAAAAAAAAAAAAAAAAAAAAAAAAAAAAAAAAAAAANqXQkU8n9c+AAAAAAAAAAAAAAAAAAAAANU08Kt+n9c+AAAAAAAAAAAAAAAAAAAAAA==\",\"dtype\":\"float64\",\"order\":\"little\",\"shape\":[29]},\"agent_id\":[0,0,0,0,0,0,0,0,0,0,0,0,0,0,0,0,0,0,0,0,0,0,0,0,0,0,0,0,0],\"index\":[0,12,24,28,138,234,246,268,370,564,810,3416,5124,5542,5544,5546,5656,6128,6916,8170,8172,8174,9492,10546,10972,17404,19108,19294,24044],\"infostate_string\":[\"\",\"1, 0, 0<br>1, 0, 0<br>3,0,0\",\"1, 0, 0<br>1, 0, 0<br>3,1,1\",\"1, 0, 0<br>1, 0, 0<br>3,0,1\",\"1, 0, 0<br>1, 0, 0<br>3,1,0\",\"1, 0, 0 | 1, 0, 0<br>1, 0, 0 | 1, 0, 0<br>3,0,1 | 3,0,1\",\"1, 0, 0 | 1, 0, 0<br>1, 0, 0 | 1, 0, 0<br>3,1,0 | 3,1,0\",\"1, 0, 0 | 1, 0, 0<br>1, 0, 0 | 1, 0, 0<br>3,1,1 | 3,1,1\",\"1, 0, 0 | 1, 0, 0<br>1, 0, 0 | 1, 0, 0<br>3,0,0 | 3,0,0\",\"1, 0, 0 | 1, 0, 0 | 1, 0, 0<br>1, 0, 0 | 1, 0, 0 | 1, 0, 0<br>3,1,1 | 3,1,1 | 3,1,1\",\"1, 0, 0 | 1, 0, 0 | 1, 0, 0 | 1, 0, 0<br>1, 0, 0 | 1, 0, 0 | 1, 0, 0 | 1, 0, 0<br>3,1,1 | 3,1,1 | 3,1,1 | 3,1,1\",\"1, 0, 0 | 1, 0, 0 | 1, 0, 0<br>1, 0, 0 | 1, 0, 0 | 1, 0, 0<br>3,0,1 | 3,0,1 | 3,0,1\",\"1, 0, 0 | 1, 0, 0 | 1, 0, 0<br>1, 0, 0 | 1, 0, 0 | 1, 0, 0<br>3,1,0 | 3,1,0 | 3,1,0\",\"1, 0, 0 | 1, 0, 0 | 1, 0, 0 | 1, 0, 0<br>1, 0, 0 | 1, 0, 0 | 1, 0, 0 | 1, 0, 0<br>3,0,1 | 3,0,1 | 3,0,1 | 3,0,1\",\"1, 0, 0 | 1, 0, 0 | 1, 0, 0 | 1, 0, 0 | 1, 0, 0<br>1, 0, 0 | 1, 0, 0 | 1, 0, 0 | 1, 0, 0 | 1, 0, 0<br>3,0,1 | 3,0,1 | 3,0,1 | 3,0,1 | 3,0,1\",\"1, 0, 0 | 1, 0, 0 | 1, 0, 0 | 1, 0, 0 | 1, 0, 0 | 1, 0, 0<br>1, 0, 0 | 1, 0, 0 | 1, 0, 0 | 1, 0, 0 | 1, 0, 0 | 1, 0, 0<br>3,0,1 | 3,0,1 | 3,0,1 | 3,0,1 | 3,0,1 | 3,0,1\",\"0, 0, 1<br>0, 0, 1<br>1,0,2\",\"1, 0, 0 | 1, 0, 0 | 1, 0, 0 | 1, 0, 0<br>1, 0, 0 | 1, 0, 0 | 1, 0, 0 | 1, 0, 0<br>3,1,0 | 3,1,0 | 3,1,0 | 3,1,0\",\"2, 1, 1<br>2, 1, 1<br>2,1,2\",\"1, 0, 0 | 1, 0, 0 | 1, 0, 0 | 1, 0, 0 | 1, 0, 0<br>1, 0, 0 | 1, 0, 0 | 1, 0, 0 | 1, 0, 0 | 1, 0, 0<br>3,1,1 | 3,1,1 | 3,1,1 | 3,1,1 | 3,1,1\",\"1, 0, 0 | 1, 0, 0 | 1, 0, 0 | 1, 0, 0 | 1, 0, 0 | 1, 0, 0<br>1, 0, 0 | 1, 0, 0 | 1, 0, 0 | 1, 0, 0 | 1, 0, 0 | 1, 0, 0<br>3,1,1 | 3,1,1 | 3,1,1 | 3,1,1 | 3,1,1 | 3,1,1\",\"1, 0, 0 | 1, 0, 0 | 1, 0, 0 | 1, 0, 0 | 1, 0, 0 | 1, 0, 0 | 1, 0, 0<br>1, 0, 0 | 1, 0, 0 | 1, 0, 0 | 1, 0, 0 | 1, 0, 0 | 1, 0, 0 | 1, 0, 0<br>3,1,1 | 3,1,1 | 3,1,1 | 3,1,1 | 3,1,1 | 3,1,1 | 3,1,1\",\"0, 0, 1<br>0, 0, 1<br>2,0,2\",\"2, 1, 0<br>2, 1, 0<br>3,1,0\",\"0, 0, 1<br>0, 0, 1<br>2,1,2\",\"1, 0, 0 | 1, 0, 0 | 1, 0, 0<br>1, 0, 0 | 1, 0, 0 | 1, 0, 0<br>3,0,0 | 3,0,0 | 3,0,0\",\"2, 1, 1<br>2, 1, 1<br>3,1,1\",\"1, 0, 0 | 1, 0, 0 | 1, 0, 0 | 1, 0, 0 | 1, 0, 0<br>1, 0, 0 | 1, 0, 0 | 1, 0, 0 | 1, 0, 0 | 1, 0, 0<br>3,1,0 | 3,1,0 | 3,1,0 | 3,1,0 | 3,1,0\",\"0, 1, 1<br>0, 1, 1<br>1,2,1\"],\"pca_0\":{\"__ndarray__\":\"TSWYP22nqz7WpKs+O6arPv6lqz4w9Ie9MPKHvf/vh71k9oe9uhKEviYTtb4MFoS+0BSEvscXtb6jpM6+tKDcvpHQqz77FbW+K9SrPoCfzr61m9y+JA7lvmDPqz6Yqas+BM6rPigYhL44q6s+RKLOvh32qz4=\",\"dtype\":\"float32\",\"order\":\"little\",\"shape\":[29]},\"pca_1\":{\"__ndarray__\":\"W3qJPuVqMr2VWzK9YGMyvfpiMr0DfT+9hn8/vXl0P71KiD+9xqv2uxi81jwt2/a7cxP3u8a21jzDCks9HciEPeRjNb3TmtY8oHc1vWEKSz0oxYQ9nZOZPdRbNb36djK9q1M1vb9E97sDgDK96vBKPYaeN70=\",\"dtype\":\"float32\",\"order\":\"little\",\"shape\":[29]},\"round\":[1,2,2,2,2,3,3,3,3,4,5,4,4,5,6,7,2,5,2,6,7,8,2,2,2,4,2,6,2],\"sor_exposure\":{\"__ndarray__\":\"AAAAAAAAAAAAAAAAAMBSQAAAAAAAwFJAAAAAAADAUkAAAAAAAMBSQAAAAAAAoFRAAAAAAACgVEAAAAAAAKBUQAAAAAAAoFRAAAAAAACwVkAAAADAzPRYQAAAAAAAsFZAAAAAAACwVkAAAADAzPRYQAAAACCuc1tAAAAAwHIyXkAAAAAAAAA5QAAAAMDM9FhAAAAAAAAgbEAAAAAgrnNbQAAAAMByMl5AAAAAIL+bYEAAAAAAAAA5QAAAAAAAAGlAAAAAAAAAOUAAAAAAALBWQAAAAAAAIGxAAAAAIK5zW0AAAAAAAMBSQA==\",\"dtype\":\"float64\",\"order\":\"little\",\"shape\":[29]}},\"selected\":{\"id\":\"1478099\"},\"selection_policy\":{\"id\":\"1478098\"}},\"id\":\"1472462\",\"type\":\"ColumnDataSource\"},{\"attributes\":{},\"id\":\"1524026\",\"type\":\"AllLabels\"},{\"attributes\":{},\"id\":\"1518314\",\"type\":\"LinearScale\"},{\"attributes\":{\"formatter\":{\"id\":\"1524027\"},\"major_label_policy\":{\"id\":\"1524026\"},\"ticker\":{\"id\":\"1518319\"}},\"id\":\"1518318\",\"type\":\"LinearAxis\"},{\"attributes\":{\"axis\":{\"id\":\"1518318\"},\"ticker\":null},\"id\":\"1518321\",\"type\":\"Grid\"},{\"attributes\":{},\"id\":\"1524027\",\"type\":\"BasicTickFormatter\"},{\"attributes\":{},\"id\":\"1518316\",\"type\":\"LinearScale\"},{\"attributes\":{},\"id\":\"1518323\",\"type\":\"BasicTicker\"},{\"attributes\":{\"formatter\":{\"id\":\"1524024\"},\"major_label_policy\":{\"id\":\"1524023\"},\"ticker\":{\"id\":\"1518323\"}},\"id\":\"1518322\",\"type\":\"LinearAxis\"},{\"attributes\":{},\"id\":\"1518312\",\"type\":\"DataRange1d\"},{\"attributes\":{},\"id\":\"1518319\",\"type\":\"BasicTicker\"},{\"attributes\":{\"source\":{\"id\":\"1472462\"}},\"id\":\"1518345\",\"type\":\"CDSView\"},{\"attributes\":{\"fill_alpha\":{\"value\":0.3},\"fill_color\":{\"field\":\"Prob_8\",\"transform\":{\"id\":\"1518340\"}},\"line_alpha\":{\"value\":0.3},\"line_color\":{\"field\":\"Prob_8\",\"transform\":{\"id\":\"1518340\"}},\"size\":{\"value\":10},\"x\":{\"field\":\"pca_0\"},\"y\":{\"field\":\"pca_1\"}},\"id\":\"1518342\",\"type\":\"Circle\"},{\"attributes\":{\"active_multi\":null,\"tools\":[{\"id\":\"1518326\"},{\"id\":\"1518327\"},{\"id\":\"1518328\"},{\"id\":\"1518329\"},{\"id\":\"1518330\"},{\"id\":\"1518331\"},{\"id\":\"1518346\"}]},\"id\":\"1518333\",\"type\":\"Toolbar\"},{\"attributes\":{\"color_mapper\":{\"id\":\"1518340\"},\"label_standoff\":12,\"major_label_policy\":{\"id\":\"1524022\"}},\"id\":\"1518348\",\"type\":\"ColorBar\"},{\"attributes\":{\"data_source\":{\"id\":\"1472462\"},\"glyph\":{\"id\":\"1518342\"},\"hover_glyph\":null,\"muted_glyph\":null,\"nonselection_glyph\":{\"id\":\"1518343\"},\"view\":{\"id\":\"1518345\"}},\"id\":\"1518344\",\"type\":\"GlyphRenderer\"},{\"attributes\":{\"high\":0.9922239110955264,\"low\":-0.1,\"palette\":[\"#FBFCBF\",\"#FBFABD\",\"#FBF9BB\",\"#FBF7B9\",\"#FCF5B7\",\"#FCF3B5\",\"#FCF1B3\",\"#FCF0B1\",\"#FCEEB0\",\"#FCECAE\",\"#FCEAAC\",\"#FCE8AA\",\"#FCE6A8\",\"#FCE5A6\",\"#FCE3A5\",\"#FDE1A3\",\"#FDDFA1\",\"#FDDD9F\",\"#FDDC9D\",\"#FDDA9C\",\"#FDD89A\",\"#FDD698\",\"#FDD497\",\"#FDD295\",\"#FDD193\",\"#FDCF92\",\"#FDCD90\",\"#FECB8E\",\"#FEC98D\",\"#FEC78B\",\"#FEC689\",\"#FEC488\",\"#FEC286\",\"#FEC085\",\"#FEBE83\",\"#FEBC82\",\"#FEBB80\",\"#FEB97F\",\"#FEB77D\",\"#FEB57C\",\"#FEB37B\",\"#FEB179\",\"#FEAF78\",\"#FEAE76\",\"#FEAC75\",\"#FEAA74\",\"#FEA873\",\"#FEA671\",\"#FDA470\",\"#FDA26F\",\"#FDA16E\",\"#FD9F6C\",\"#FD9D6B\",\"#FD9B6A\",\"#FD9969\",\"#FD9768\",\"#FD9567\",\"#FC9366\",\"#FC9265\",\"#FC9064\",\"#FC8E63\",\"#FC8C63\",\"#FB8A62\",\"#FB8861\",\"#FB8660\",\"#FB8460\",\"#FA825F\",\"#FA805E\",\"#FA7F5E\",\"#F97D5D\",\"#F97B5D\",\"#F9795C\",\"#F8775C\",\"#F8755C\",\"#F7735C\",\"#F7715B\",\"#F6705B\",\"#F66E5B\",\"#F56C5B\",\"#F56A5B\",\"#F4685B\",\"#F3675B\",\"#F3655C\",\"#F2635C\",\"#F1615C\",\"#F0605D\",\"#EF5E5D\",\"#EE5D5D\",\"#EE5B5E\",\"#ED595F\",\"#EC585F\",\"#EB5660\",\"#EA5560\",\"#E85461\",\"#E75262\",\"#E65162\",\"#E55063\",\"#E44E64\",\"#E24D65\",\"#E14C66\",\"#E04B66\",\"#DE4A67\",\"#DD4968\",\"#DC4869\",\"#DA4769\",\"#D9466A\",\"#D7456B\",\"#D6446C\",\"#D4436D\",\"#D3426D\",\"#D1426E\",\"#D0416F\",\"#CE4070\",\"#CD3F70\",\"#CB3E71\",\"#CA3E72\",\"#C83D72\",\"#C63C73\",\"#C53C74\",\"#C33B74\",\"#C23A75\",\"#C03A75\",\"#BE3976\",\"#BD3977\",\"#BB3877\",\"#B93778\",\"#B83778\",\"#B63679\",\"#B53679\",\"#B3357A\",\"#B1357A\",\"#B0347B\",\"#AE347B\",\"#AC337B\",\"#AB337C\",\"#A9327C\",\"#A7317D\",\"#A6317D\",\"#A4307D\",\"#A3307E\",\"#A12F7E\",\"#9F2F7E\",\"#9E2E7E\",\"#9C2E7F\",\"#9A2D7F\",\"#992D7F\",\"#972C7F\",\"#952C80\",\"#942B80\",\"#922B80\",\"#912A80\",\"#8F2A80\",\"#8D2980\",\"#8C2980\",\"#8A2881\",\"#892881\",\"#872781\",\"#852681\",\"#842681\",\"#822581\",\"#812581\",\"#7F2481\",\"#7E2481\",\"#7C2381\",\"#7A2281\",\"#792281\",\"#772181\",\"#762181\",\"#742081\",\"#731F81\",\"#711F81\",\"#6F1E81\",\"#6E1E81\",\"#6C1D80\",\"#6B1C80\",\"#691C80\",\"#681B80\",\"#661A80\",\"#651A80\",\"#63197F\",\"#61187F\",\"#60187F\",\"#5E177F\",\"#5D177E\",\"#5B167E\",\"#5A157E\",\"#58157E\",\"#57147D\",\"#55137D\",\"#53137C\",\"#52127C\",\"#50127B\",\"#4F117B\",\"#4D117A\",\"#4B1079\",\"#4A1079\",\"#481078\",\"#470F77\",\"#450F76\",\"#430F75\",\"#420F74\",\"#400F73\",\"#3E0F72\",\"#3C0F71\",\"#3B0F6F\",\"#390F6E\",\"#370F6C\",\"#350F6A\",\"#341068\",\"#321067\",\"#301065\",\"#2F1062\",\"#2D1060\",\"#2B115E\",\"#2A115C\",\"#281159\",\"#261157\",\"#251155\",\"#231152\",\"#221150\",\"#20114D\",\"#1F114B\",\"#1E1049\",\"#1C1046\",\"#1B1044\",\"#1A1041\",\"#180F3F\",\"#170F3C\",\"#160E3A\",\"#150E38\",\"#140D35\",\"#120D33\",\"#110C31\",\"#100C2F\",\"#0F0B2C\",\"#0E0A2A\",\"#0D0A28\",\"#0C0926\",\"#0B0824\",\"#0A0722\",\"#09071F\",\"#08061D\",\"#07051B\",\"#060519\",\"#050417\",\"#040415\",\"#040313\",\"#030311\",\"#02020F\",\"#02020D\",\"#01010B\",\"#010109\",\"#010007\",\"#000006\",\"#000004\",\"#000003\"]},\"id\":\"1518340\",\"type\":\"LinearColorMapper\"},{\"attributes\":{},\"id\":\"1518329\",\"type\":\"SaveTool\"},{\"attributes\":{\"axis\":{\"id\":\"1518322\"},\"dimension\":1,\"ticker\":null},\"id\":\"1518325\",\"type\":\"Grid\"},{\"attributes\":{\"callback\":null,\"tooltips\":[[\"Infostate\",\"@infostate_string\"],[\"Prob\",\"@Prob_8{(.00)}\"],[\"SoRExposure\",\"@sor_exposure\"],[\"Round\",\"@round\"]]},\"id\":\"1518346\",\"type\":\"HoverTool\"},{\"attributes\":{\"bottom_units\":\"screen\",\"fill_alpha\":0.5,\"fill_color\":\"lightgrey\",\"left_units\":\"screen\",\"level\":\"overlay\",\"line_alpha\":1.0,\"line_color\":\"black\",\"line_dash\":[4,4],\"line_width\":2,\"right_units\":\"screen\",\"syncable\":false,\"top_units\":\"screen\"},\"id\":\"1518332\",\"type\":\"BoxAnnotation\"},{\"attributes\":{\"overlay\":{\"id\":\"1518332\"}},\"id\":\"1518328\",\"type\":\"BoxZoomTool\"},{\"attributes\":{},\"id\":\"1478098\",\"type\":\"UnionRenderers\"},{\"attributes\":{},\"id\":\"1518326\",\"type\":\"PanTool\"},{\"attributes\":{},\"id\":\"1478099\",\"type\":\"Selection\"},{\"attributes\":{},\"id\":\"1518331\",\"type\":\"HelpTool\"},{\"attributes\":{},\"id\":\"1518327\",\"type\":\"WheelZoomTool\"},{\"attributes\":{},\"id\":\"1518330\",\"type\":\"ResetTool\"}],\"root_ids\":[\"1518307\"]},\"title\":\"Bokeh Application\",\"version\":\"2.3.3\"}};\n",
       "  var render_items = [{\"docid\":\"7d9420c9-f7ff-4cbb-adf0-5ac375fe077c\",\"root_ids\":[\"1518307\"],\"roots\":{\"1518307\":\"6745c04b-0acc-4154-a3c2-1ce7f24e2b4a\"}}];\n",
       "  root.Bokeh.embed.embed_items_notebook(docs_json, render_items);\n",
       "\n",
       "  }\n",
       "  if (root.Bokeh !== undefined) {\n",
       "    embed_document(root);\n",
       "  } else {\n",
       "    var attempts = 0;\n",
       "    var timer = setInterval(function(root) {\n",
       "      if (root.Bokeh !== undefined) {\n",
       "        clearInterval(timer);\n",
       "        embed_document(root);\n",
       "      } else {\n",
       "        attempts++;\n",
       "        if (attempts > 100) {\n",
       "          clearInterval(timer);\n",
       "          console.log(\"Bokeh: ERROR: Unable to run BokehJS code because BokehJS library is missing\");\n",
       "        }\n",
       "      }\n",
       "    }, 10, root)\n",
       "  }\n",
       "})(window);"
      ],
      "application/vnd.bokehjs_exec.v0+json": ""
     },
     "metadata": {
      "application/vnd.bokehjs_exec.v0+json": {
       "id": "1518307"
      }
     },
     "output_type": "display_data"
    },
    {
     "data": {
      "text/html": [
       "\n",
       "\n",
       "\n",
       "\n",
       "\n",
       "\n",
       "  <div class=\"bk-root\" id=\"08163ca1-e0c1-40b6-9dbd-8253e8576bb3\" data-root-id=\"1524087\"></div>\n"
      ]
     },
     "metadata": {},
     "output_type": "display_data"
    },
    {
     "data": {
      "application/javascript": [
       "(function(root) {\n",
       "  function embed_document(root) {\n",
       "    \n",
       "  var docs_json = {\"6a59ae83-2ea1-434a-9f05-0462d91d1478\":{\"defs\":[],\"roots\":{\"references\":[{\"attributes\":{\"below\":[{\"id\":\"1524098\"}],\"center\":[{\"id\":\"1524101\"},{\"id\":\"1524105\"}],\"height\":400,\"left\":[{\"id\":\"1524102\"}],\"renderers\":[{\"id\":\"1524124\"}],\"right\":[{\"id\":\"1524128\"}],\"title\":{\"id\":\"1524088\"},\"toolbar\":{\"id\":\"1524113\"},\"width\":900,\"x_range\":{\"id\":\"1524090\"},\"x_scale\":{\"id\":\"1524094\"},\"y_range\":{\"id\":\"1524092\"},\"y_scale\":{\"id\":\"1524096\"}},\"id\":\"1524087\",\"subtype\":\"Figure\",\"type\":\"Plot\"},{\"attributes\":{\"text\":\"Action 9: 2 A, 0 B, 1 C\"},\"id\":\"1524088\",\"type\":\"Title\"},{\"attributes\":{},\"id\":\"1529815\",\"type\":\"BasicTickFormatter\"},{\"attributes\":{},\"id\":\"1529817\",\"type\":\"AllLabels\"},{\"attributes\":{},\"id\":\"1529818\",\"type\":\"BasicTickFormatter\"},{\"attributes\":{\"data\":{\"Prob_0\":{\"__ndarray__\":\"U3ymrppVgz/8KwkrjPt9Pxhb5Y15+30/9ShR2IT7fT8rlWkAgft9P2UwCgQ9hn0/CL0q1jSGfT8KFBfaM4Z9P2NY8Wg5hn0/d3uMgLIrfj85SNHpVrp+P+0+6umpK34/DmSTfKIrfj+9UQDuP7p+Pwf7ScowGH8/YUq8M9hRfz9C+mwH6bPtP4jWZ7Eyun4/bZ03l/MDfj9oBg+FVxh/PzBPyNwHUn8/coGGxKJ+fz8cdyNL6LPtPzsgrQZJ+30/Nwwmkeez7T+9YIyXkit+P7m6iUZj+30/Y72swBsYfz8oEe/7gwp+Pw==\",\"dtype\":\"float64\",\"order\":\"little\",\"shape\":[29]},\"Prob_1\":{\"__ndarray__\":\"0wxF22ntSj/unwszBodCP/lAlmgHh0I/4ZpAewiHQj94PkEABYdCP+kXg0L3W0I/i7jIzepbQj8uODmQ4VtCP46aj0X/W0I/59VYwCoUQz8ZH9GRm6VDPy4iRYZIFEM//wsScjUUQz/e1/OovqVDP9s5BxKnAkQ/29+/jK07RD/xLZjEt2CyP1Icq9aepUM/i3b29S+SQj+SwqmuhQJEP/Pn612MO0Q/AAbvAsJqRD8fR+SmvWCyPxwhIITUhkI/RZ7PdsNgsj/Kvqf6UBRDPxopRJDbhkI/ZHjX63YCRD/Tz0xx55pCPw==\",\"dtype\":\"float64\",\"order\":\"little\",\"shape\":[29]},\"Prob_10\":{\"__ndarray__\":\"rmD8ZZ+69j4AAAAAAAAAAAAAAAAAAAAAAAAAAAAAAAAAAAAAAAAAAAAAAAAAAAAAAAAAAAAAAAAAAAAAAAAAAAAAAAAAAAAAAAAAAAAAAAAAAAAAAAAAAAAAAAAAAAAAAAAAAAAAAAAAAAAAAAAAAAAAAAAAAAAAAAAAAAAAAAAAAAAAAAAAAAAAAAAAAAAAcPXPwkD+1j4AAAAAAAAAAAAAAAAAAAAAAAAAAAAAAAAAAAAAAAAAACwDG8V87dY+AAAAAAAAAAAAAAAAAAAAAEUQh4zb7dY+AAAAAAAAAAAAAAAAAAAAAA==\",\"dtype\":\"float64\",\"order\":\"little\",\"shape\":[29]},\"Prob_11\":{\"__ndarray__\":\"zcWJS76N9D4AAAAAAAAAAAAAAAAAAAAAAAAAAAAAAAAAAAAAAAAAAAAAAAAAAAAAAAAAAAAAAAAAAAAAAAAAAAAAAAAAAAAAAAAAAAAAAAAAAAAAAAAAAAAAAAAAAAAAAAAAAAAAAAAAAAAAAAAAAAAAAAAAAAAAAAAAAAAAAAAAAAAAAAAAAAAAAAAAAAAA/jJpOOBp0z4AAAAAAAAAAAAAAAAAAAAAAAAAAAAAAAAAAAAAAAAAAAAAAAAAAAAAAAAAAAAAAAAAAAAAAAAAAIuWk2/GVtM+AAAAAAAAAAAAAAAAAAAAAA==\",\"dtype\":\"float64\",\"order\":\"little\",\"shape\":[29]},\"Prob_2\":{\"__ndarray__\":\"qLLYBk5k9j69U+rPBgHXPjt5qQo1Adc+muwaehwB1z50AlGAHwHXPpCqWWQWy88+893edxbLzz4Qlxj8TcvPPqk3ocncys8+Y+6EIIqMzD6KBSIMQoXLPqS0YQkvjMw+jukJmzKMzD5YBIqMy4TLPiIBDy26IMs+m5X5UFLwyj4AAAAAAAAAANb87bLEhMs+i2gUQ88V1z7mfn6IRiHLPlJ8O33f8Mo++9nbQ/fayj4AAAAAAAAAACxLH6W2ANc+AAAAAAAAAABX2ACY0IvMPqgydyyKANc+7cWrBJ8gyz4b/YZVtybXPg==\",\"dtype\":\"float64\",\"order\":\"little\",\"shape\":[29]},\"Prob_3\":{\"__ndarray__\":\"MsKPY8Wt9z4tLBHvmDfYPkpCOYtxN9g+s2DL2Yk32D5uR1UgfzfYPjChRgITotA+JPN8rAei0D7HxbLOCqLQPjK+CQUPotA+mEaK4GGyzT5JeGoLhYPMPopYwmlAss0+bV4gnDGyzT7Q9v2MQYPMPo7DayyFCsw+M9yGsYXQyz4AAAAAAAAAACoqddImg8w+iziY5nlL2D7fGbQH4ArMPqR4JL3m0Ms+uv37Y6S6yz4AAAAAAAAAAPZ7ZKVuN9g+AAAAAAAAAAAubK63CrLNPjUCb6ugN9g+FlTAQ1QKzD5uQ6UWllrYPg==\",\"dtype\":\"float64\",\"order\":\"little\",\"shape\":[29]},\"Prob_4\":{\"__ndarray__\":\"ji8tj1Kq7z9CS82JT7/vP8jEtq5Pv+8/lGPdl0+/7z8zzG+gT7/vP6AwWERMwO8/IsTWV0zA7z8q3Q5cTMDvP3sEnklMwO8/kNCTANW+7z9FIxbpk73vP3G9bgrVvu8/6kYRHtW+7z8FfHYOlL3vP90T1ynBvO8/01b/sz+87z8AAAAAAAAAADOk7DCUve8/88Y+POy+7z92k4DkwLzvP9BlvVw/vO8/Rk2PZNq77z8AAAAAAAAAAPC4EWcKv+8/AAAAAAAAAABjaRs31b7vP/cyCoUAv+8/jN4GYMG87z+UGIV9LL/vPw==\",\"dtype\":\"float64\",\"order\":\"little\",\"shape\":[29]},\"Prob_5\":{\"__ndarray__\":\"uR0dgUej+D4AAAAAAAAAAAAAAAAAAAAAAAAAAAAAAAAAAAAAAAAAAAAAAAAAAAAAAAAAAAAAAAAAAAAAAAAAAAAAAAAAAAAAAAAAAAAAAAAAAAAAAAAAAAAAAAAAAAAAAAAAAAAAAAAAAAAAAAAAAAAAAAAAAAAAAAAAAAAAAAAAAAAAAAAAAAAAAAAAAAAATiTeqwsc2j4AAAAAAAAAAAAAAAAAAAAAAAAAAAAAAAAAAAAAAAAAAHCAy0UPBto+AAAAAAAAAAAAAAAAAAAAAKus5smbBdo+AAAAAAAAAAAAAAAAAAAAAA==\",\"dtype\":\"float64\",\"order\":\"little\",\"shape\":[29]},\"Prob_6\":{\"__ndarray__\":\"1C9GhQAC9z4AAAAAAAAAAAAAAAAAAAAAAAAAAAAAAAAAAAAAAAAAAAAAAAAAAAAAAAAAAAAAAAAAAAAAAAAAAAAAAAAAAAAAAAAAAAAAAAAAAAAAAAAAAAAAAAAAAAAAAAAAAAAAAAAAAAAAAAAAAAAAAAAAAAAAAAAAAAAAAAAAAAAAAAAAAAAAAAAAAAAAIxW1Aeec1j4AAAAAAAAAAAAAAAAAAAAAAAAAAAAAAAAAAAAAAAAAAM7kBGUoitY+AAAAAAAAAAAAAAAAAAAAAEqJ26xjitY+AAAAAAAAAAAAAAAAAAAAAA==\",\"dtype\":\"float64\",\"order\":\"little\",\"shape\":[29]},\"Prob_7\":{\"__ndarray__\":\"t8KQ42Ct9z4AAAAAAAAAAAAAAAAAAAAAAAAAAAAAAAAAAAAAAAAAAAAAAAAAAAAAAAAAAAAAAAAAAAAAAAAAAAAAAAAAAAAAAAAAAAAAAAAAAAAAAAAAAAAAAAAAAAAAAAAAAAAAAAAAAAAAAAAAAAAAAAAAAAAAAAAAAAAAAAAAAAAAAAAAAAAAAAAAAAAAvlXVRE6w1z4AAAAAAAAAAAAAAAAAAAAAAAAAAAAAAAAAAAAAAAAAABz4QeVunNc+AAAAAAAAAAAAAAAAAAAAAGKw8kuSnNc+AAAAAAAAAAAAAAAAAAAAAA==\",\"dtype\":\"float64\",\"order\":\"little\",\"shape\":[29]},\"Prob_8\":{\"__ndarray__\":\"iVpwiJfE9T4AAAAAAAAAAAAAAAAAAAAAAAAAAAAAAAAAAAAAAAAAAAAAAAAAAAAAAAAAAAAAAAAAAAAAAAAAAAAAAAAAAAAAAAAAAAAAAAAAAAAAAAAAAAAAAAAAAAAAAAAAAAAAAAAAAAAAAAAAAAAAAAAAAAAAAAAAAAAAAAAAAAAAAAAAAAAAAAAAAAAAIa1OPCfB1D4AAAAAAAAAAAAAAAAAAAAAAAAAAAAAAAAAAAAAAAAAAOi/m+T6sdQ+AAAAAAAAAAAAAAAAAAAAAEaQbA4sstQ+AAAAAAAAAAAAAAAAAAAAAA==\",\"dtype\":\"float64\",\"order\":\"little\",\"shape\":[29]},\"Prob_9\":{\"__ndarray__\":\"U75LJB9k9z4AAAAAAAAAAAAAAAAAAAAAAAAAAAAAAAAAAAAAAAAAAAAAAAAAAAAAAAAAAAAAAAAAAAAAAAAAAAAAAAAAAAAAAAAAAAAAAAAAAAAAAAAAAAAAAAAAAAAAAAAAAAAAAAAAAAAAAAAAAAAAAAAAAAAAAAAAAAAAAAAAAAAAAAAAAAAAAAAAAAAAMLvMRFit1z4AAAAAAAAAAAAAAAAAAAAAAAAAAAAAAAAAAAAAAAAAANqXQkU8n9c+AAAAAAAAAAAAAAAAAAAAANU08Kt+n9c+AAAAAAAAAAAAAAAAAAAAAA==\",\"dtype\":\"float64\",\"order\":\"little\",\"shape\":[29]},\"agent_id\":[0,0,0,0,0,0,0,0,0,0,0,0,0,0,0,0,0,0,0,0,0,0,0,0,0,0,0,0,0],\"index\":[0,12,24,28,138,234,246,268,370,564,810,3416,5124,5542,5544,5546,5656,6128,6916,8170,8172,8174,9492,10546,10972,17404,19108,19294,24044],\"infostate_string\":[\"\",\"1, 0, 0<br>1, 0, 0<br>3,0,0\",\"1, 0, 0<br>1, 0, 0<br>3,1,1\",\"1, 0, 0<br>1, 0, 0<br>3,0,1\",\"1, 0, 0<br>1, 0, 0<br>3,1,0\",\"1, 0, 0 | 1, 0, 0<br>1, 0, 0 | 1, 0, 0<br>3,0,1 | 3,0,1\",\"1, 0, 0 | 1, 0, 0<br>1, 0, 0 | 1, 0, 0<br>3,1,0 | 3,1,0\",\"1, 0, 0 | 1, 0, 0<br>1, 0, 0 | 1, 0, 0<br>3,1,1 | 3,1,1\",\"1, 0, 0 | 1, 0, 0<br>1, 0, 0 | 1, 0, 0<br>3,0,0 | 3,0,0\",\"1, 0, 0 | 1, 0, 0 | 1, 0, 0<br>1, 0, 0 | 1, 0, 0 | 1, 0, 0<br>3,1,1 | 3,1,1 | 3,1,1\",\"1, 0, 0 | 1, 0, 0 | 1, 0, 0 | 1, 0, 0<br>1, 0, 0 | 1, 0, 0 | 1, 0, 0 | 1, 0, 0<br>3,1,1 | 3,1,1 | 3,1,1 | 3,1,1\",\"1, 0, 0 | 1, 0, 0 | 1, 0, 0<br>1, 0, 0 | 1, 0, 0 | 1, 0, 0<br>3,0,1 | 3,0,1 | 3,0,1\",\"1, 0, 0 | 1, 0, 0 | 1, 0, 0<br>1, 0, 0 | 1, 0, 0 | 1, 0, 0<br>3,1,0 | 3,1,0 | 3,1,0\",\"1, 0, 0 | 1, 0, 0 | 1, 0, 0 | 1, 0, 0<br>1, 0, 0 | 1, 0, 0 | 1, 0, 0 | 1, 0, 0<br>3,0,1 | 3,0,1 | 3,0,1 | 3,0,1\",\"1, 0, 0 | 1, 0, 0 | 1, 0, 0 | 1, 0, 0 | 1, 0, 0<br>1, 0, 0 | 1, 0, 0 | 1, 0, 0 | 1, 0, 0 | 1, 0, 0<br>3,0,1 | 3,0,1 | 3,0,1 | 3,0,1 | 3,0,1\",\"1, 0, 0 | 1, 0, 0 | 1, 0, 0 | 1, 0, 0 | 1, 0, 0 | 1, 0, 0<br>1, 0, 0 | 1, 0, 0 | 1, 0, 0 | 1, 0, 0 | 1, 0, 0 | 1, 0, 0<br>3,0,1 | 3,0,1 | 3,0,1 | 3,0,1 | 3,0,1 | 3,0,1\",\"0, 0, 1<br>0, 0, 1<br>1,0,2\",\"1, 0, 0 | 1, 0, 0 | 1, 0, 0 | 1, 0, 0<br>1, 0, 0 | 1, 0, 0 | 1, 0, 0 | 1, 0, 0<br>3,1,0 | 3,1,0 | 3,1,0 | 3,1,0\",\"2, 1, 1<br>2, 1, 1<br>2,1,2\",\"1, 0, 0 | 1, 0, 0 | 1, 0, 0 | 1, 0, 0 | 1, 0, 0<br>1, 0, 0 | 1, 0, 0 | 1, 0, 0 | 1, 0, 0 | 1, 0, 0<br>3,1,1 | 3,1,1 | 3,1,1 | 3,1,1 | 3,1,1\",\"1, 0, 0 | 1, 0, 0 | 1, 0, 0 | 1, 0, 0 | 1, 0, 0 | 1, 0, 0<br>1, 0, 0 | 1, 0, 0 | 1, 0, 0 | 1, 0, 0 | 1, 0, 0 | 1, 0, 0<br>3,1,1 | 3,1,1 | 3,1,1 | 3,1,1 | 3,1,1 | 3,1,1\",\"1, 0, 0 | 1, 0, 0 | 1, 0, 0 | 1, 0, 0 | 1, 0, 0 | 1, 0, 0 | 1, 0, 0<br>1, 0, 0 | 1, 0, 0 | 1, 0, 0 | 1, 0, 0 | 1, 0, 0 | 1, 0, 0 | 1, 0, 0<br>3,1,1 | 3,1,1 | 3,1,1 | 3,1,1 | 3,1,1 | 3,1,1 | 3,1,1\",\"0, 0, 1<br>0, 0, 1<br>2,0,2\",\"2, 1, 0<br>2, 1, 0<br>3,1,0\",\"0, 0, 1<br>0, 0, 1<br>2,1,2\",\"1, 0, 0 | 1, 0, 0 | 1, 0, 0<br>1, 0, 0 | 1, 0, 0 | 1, 0, 0<br>3,0,0 | 3,0,0 | 3,0,0\",\"2, 1, 1<br>2, 1, 1<br>3,1,1\",\"1, 0, 0 | 1, 0, 0 | 1, 0, 0 | 1, 0, 0 | 1, 0, 0<br>1, 0, 0 | 1, 0, 0 | 1, 0, 0 | 1, 0, 0 | 1, 0, 0<br>3,1,0 | 3,1,0 | 3,1,0 | 3,1,0 | 3,1,0\",\"0, 1, 1<br>0, 1, 1<br>1,2,1\"],\"pca_0\":{\"__ndarray__\":\"TSWYP22nqz7WpKs+O6arPv6lqz4w9Ie9MPKHvf/vh71k9oe9uhKEviYTtb4MFoS+0BSEvscXtb6jpM6+tKDcvpHQqz77FbW+K9SrPoCfzr61m9y+JA7lvmDPqz6Yqas+BM6rPigYhL44q6s+RKLOvh32qz4=\",\"dtype\":\"float32\",\"order\":\"little\",\"shape\":[29]},\"pca_1\":{\"__ndarray__\":\"W3qJPuVqMr2VWzK9YGMyvfpiMr0DfT+9hn8/vXl0P71KiD+9xqv2uxi81jwt2/a7cxP3u8a21jzDCks9HciEPeRjNb3TmtY8oHc1vWEKSz0oxYQ9nZOZPdRbNb36djK9q1M1vb9E97sDgDK96vBKPYaeN70=\",\"dtype\":\"float32\",\"order\":\"little\",\"shape\":[29]},\"round\":[1,2,2,2,2,3,3,3,3,4,5,4,4,5,6,7,2,5,2,6,7,8,2,2,2,4,2,6,2],\"sor_exposure\":{\"__ndarray__\":\"AAAAAAAAAAAAAAAAAMBSQAAAAAAAwFJAAAAAAADAUkAAAAAAAMBSQAAAAAAAoFRAAAAAAACgVEAAAAAAAKBUQAAAAAAAoFRAAAAAAACwVkAAAADAzPRYQAAAAAAAsFZAAAAAAACwVkAAAADAzPRYQAAAACCuc1tAAAAAwHIyXkAAAAAAAAA5QAAAAMDM9FhAAAAAAAAgbEAAAAAgrnNbQAAAAMByMl5AAAAAIL+bYEAAAAAAAAA5QAAAAAAAAGlAAAAAAAAAOUAAAAAAALBWQAAAAAAAIGxAAAAAIK5zW0AAAAAAAMBSQA==\",\"dtype\":\"float64\",\"order\":\"little\",\"shape\":[29]}},\"selected\":{\"id\":\"1478099\"},\"selection_policy\":{\"id\":\"1478098\"}},\"id\":\"1472462\",\"type\":\"ColumnDataSource\"},{\"attributes\":{\"high\":0.9922239110955264,\"low\":-0.1,\"palette\":[\"#FBFCBF\",\"#FBFABD\",\"#FBF9BB\",\"#FBF7B9\",\"#FCF5B7\",\"#FCF3B5\",\"#FCF1B3\",\"#FCF0B1\",\"#FCEEB0\",\"#FCECAE\",\"#FCEAAC\",\"#FCE8AA\",\"#FCE6A8\",\"#FCE5A6\",\"#FCE3A5\",\"#FDE1A3\",\"#FDDFA1\",\"#FDDD9F\",\"#FDDC9D\",\"#FDDA9C\",\"#FDD89A\",\"#FDD698\",\"#FDD497\",\"#FDD295\",\"#FDD193\",\"#FDCF92\",\"#FDCD90\",\"#FECB8E\",\"#FEC98D\",\"#FEC78B\",\"#FEC689\",\"#FEC488\",\"#FEC286\",\"#FEC085\",\"#FEBE83\",\"#FEBC82\",\"#FEBB80\",\"#FEB97F\",\"#FEB77D\",\"#FEB57C\",\"#FEB37B\",\"#FEB179\",\"#FEAF78\",\"#FEAE76\",\"#FEAC75\",\"#FEAA74\",\"#FEA873\",\"#FEA671\",\"#FDA470\",\"#FDA26F\",\"#FDA16E\",\"#FD9F6C\",\"#FD9D6B\",\"#FD9B6A\",\"#FD9969\",\"#FD9768\",\"#FD9567\",\"#FC9366\",\"#FC9265\",\"#FC9064\",\"#FC8E63\",\"#FC8C63\",\"#FB8A62\",\"#FB8861\",\"#FB8660\",\"#FB8460\",\"#FA825F\",\"#FA805E\",\"#FA7F5E\",\"#F97D5D\",\"#F97B5D\",\"#F9795C\",\"#F8775C\",\"#F8755C\",\"#F7735C\",\"#F7715B\",\"#F6705B\",\"#F66E5B\",\"#F56C5B\",\"#F56A5B\",\"#F4685B\",\"#F3675B\",\"#F3655C\",\"#F2635C\",\"#F1615C\",\"#F0605D\",\"#EF5E5D\",\"#EE5D5D\",\"#EE5B5E\",\"#ED595F\",\"#EC585F\",\"#EB5660\",\"#EA5560\",\"#E85461\",\"#E75262\",\"#E65162\",\"#E55063\",\"#E44E64\",\"#E24D65\",\"#E14C66\",\"#E04B66\",\"#DE4A67\",\"#DD4968\",\"#DC4869\",\"#DA4769\",\"#D9466A\",\"#D7456B\",\"#D6446C\",\"#D4436D\",\"#D3426D\",\"#D1426E\",\"#D0416F\",\"#CE4070\",\"#CD3F70\",\"#CB3E71\",\"#CA3E72\",\"#C83D72\",\"#C63C73\",\"#C53C74\",\"#C33B74\",\"#C23A75\",\"#C03A75\",\"#BE3976\",\"#BD3977\",\"#BB3877\",\"#B93778\",\"#B83778\",\"#B63679\",\"#B53679\",\"#B3357A\",\"#B1357A\",\"#B0347B\",\"#AE347B\",\"#AC337B\",\"#AB337C\",\"#A9327C\",\"#A7317D\",\"#A6317D\",\"#A4307D\",\"#A3307E\",\"#A12F7E\",\"#9F2F7E\",\"#9E2E7E\",\"#9C2E7F\",\"#9A2D7F\",\"#992D7F\",\"#972C7F\",\"#952C80\",\"#942B80\",\"#922B80\",\"#912A80\",\"#8F2A80\",\"#8D2980\",\"#8C2980\",\"#8A2881\",\"#892881\",\"#872781\",\"#852681\",\"#842681\",\"#822581\",\"#812581\",\"#7F2481\",\"#7E2481\",\"#7C2381\",\"#7A2281\",\"#792281\",\"#772181\",\"#762181\",\"#742081\",\"#731F81\",\"#711F81\",\"#6F1E81\",\"#6E1E81\",\"#6C1D80\",\"#6B1C80\",\"#691C80\",\"#681B80\",\"#661A80\",\"#651A80\",\"#63197F\",\"#61187F\",\"#60187F\",\"#5E177F\",\"#5D177E\",\"#5B167E\",\"#5A157E\",\"#58157E\",\"#57147D\",\"#55137D\",\"#53137C\",\"#52127C\",\"#50127B\",\"#4F117B\",\"#4D117A\",\"#4B1079\",\"#4A1079\",\"#481078\",\"#470F77\",\"#450F76\",\"#430F75\",\"#420F74\",\"#400F73\",\"#3E0F72\",\"#3C0F71\",\"#3B0F6F\",\"#390F6E\",\"#370F6C\",\"#350F6A\",\"#341068\",\"#321067\",\"#301065\",\"#2F1062\",\"#2D1060\",\"#2B115E\",\"#2A115C\",\"#281159\",\"#261157\",\"#251155\",\"#231152\",\"#221150\",\"#20114D\",\"#1F114B\",\"#1E1049\",\"#1C1046\",\"#1B1044\",\"#1A1041\",\"#180F3F\",\"#170F3C\",\"#160E3A\",\"#150E38\",\"#140D35\",\"#120D33\",\"#110C31\",\"#100C2F\",\"#0F0B2C\",\"#0E0A2A\",\"#0D0A28\",\"#0C0926\",\"#0B0824\",\"#0A0722\",\"#09071F\",\"#08061D\",\"#07051B\",\"#060519\",\"#050417\",\"#040415\",\"#040313\",\"#030311\",\"#02020F\",\"#02020D\",\"#01010B\",\"#010109\",\"#010007\",\"#000006\",\"#000004\",\"#000003\"]},\"id\":\"1524120\",\"type\":\"LinearColorMapper\"},{\"attributes\":{},\"id\":\"1524107\",\"type\":\"WheelZoomTool\"},{\"attributes\":{},\"id\":\"1524099\",\"type\":\"BasicTicker\"},{\"attributes\":{},\"id\":\"1529813\",\"type\":\"NoOverlap\"},{\"attributes\":{\"bottom_units\":\"screen\",\"fill_alpha\":0.5,\"fill_color\":\"lightgrey\",\"left_units\":\"screen\",\"level\":\"overlay\",\"line_alpha\":1.0,\"line_color\":\"black\",\"line_dash\":[4,4],\"line_width\":2,\"right_units\":\"screen\",\"syncable\":false,\"top_units\":\"screen\"},\"id\":\"1524112\",\"type\":\"BoxAnnotation\"},{\"attributes\":{\"source\":{\"id\":\"1472462\"}},\"id\":\"1524125\",\"type\":\"CDSView\"},{\"attributes\":{\"axis\":{\"id\":\"1524098\"},\"ticker\":null},\"id\":\"1524101\",\"type\":\"Grid\"},{\"attributes\":{\"axis\":{\"id\":\"1524102\"},\"dimension\":1,\"ticker\":null},\"id\":\"1524105\",\"type\":\"Grid\"},{\"attributes\":{\"overlay\":{\"id\":\"1524112\"}},\"id\":\"1524108\",\"type\":\"BoxZoomTool\"},{\"attributes\":{\"formatter\":{\"id\":\"1529815\"},\"major_label_policy\":{\"id\":\"1529814\"},\"ticker\":{\"id\":\"1524103\"}},\"id\":\"1524102\",\"type\":\"LinearAxis\"},{\"attributes\":{},\"id\":\"1529814\",\"type\":\"AllLabels\"},{\"attributes\":{},\"id\":\"1524103\",\"type\":\"BasicTicker\"},{\"attributes\":{},\"id\":\"1524110\",\"type\":\"ResetTool\"},{\"attributes\":{\"active_multi\":null,\"tools\":[{\"id\":\"1524106\"},{\"id\":\"1524107\"},{\"id\":\"1524108\"},{\"id\":\"1524109\"},{\"id\":\"1524110\"},{\"id\":\"1524111\"},{\"id\":\"1524126\"}]},\"id\":\"1524113\",\"type\":\"Toolbar\"},{\"attributes\":{\"color_mapper\":{\"id\":\"1524120\"},\"label_standoff\":12,\"major_label_policy\":{\"id\":\"1529813\"}},\"id\":\"1524128\",\"type\":\"ColorBar\"},{\"attributes\":{},\"id\":\"1524109\",\"type\":\"SaveTool\"},{\"attributes\":{\"formatter\":{\"id\":\"1529818\"},\"major_label_policy\":{\"id\":\"1529817\"},\"ticker\":{\"id\":\"1524099\"}},\"id\":\"1524098\",\"type\":\"LinearAxis\"},{\"attributes\":{\"fill_alpha\":{\"value\":0.1},\"fill_color\":{\"field\":\"Prob_9\",\"transform\":{\"id\":\"1524120\"}},\"line_alpha\":{\"value\":0.1},\"line_color\":{\"field\":\"Prob_9\",\"transform\":{\"id\":\"1524120\"}},\"size\":{\"value\":10},\"x\":{\"field\":\"pca_0\"},\"y\":{\"field\":\"pca_1\"}},\"id\":\"1524123\",\"type\":\"Circle\"},{\"attributes\":{},\"id\":\"1524106\",\"type\":\"PanTool\"},{\"attributes\":{\"callback\":null,\"tooltips\":[[\"Infostate\",\"@infostate_string\"],[\"Prob\",\"@Prob_9{(.00)}\"],[\"SoRExposure\",\"@sor_exposure\"],[\"Round\",\"@round\"]]},\"id\":\"1524126\",\"type\":\"HoverTool\"},{\"attributes\":{},\"id\":\"1478098\",\"type\":\"UnionRenderers\"},{\"attributes\":{},\"id\":\"1524096\",\"type\":\"LinearScale\"},{\"attributes\":{},\"id\":\"1524111\",\"type\":\"HelpTool\"},{\"attributes\":{},\"id\":\"1478099\",\"type\":\"Selection\"},{\"attributes\":{},\"id\":\"1524094\",\"type\":\"LinearScale\"},{\"attributes\":{\"data_source\":{\"id\":\"1472462\"},\"glyph\":{\"id\":\"1524122\"},\"hover_glyph\":null,\"muted_glyph\":null,\"nonselection_glyph\":{\"id\":\"1524123\"},\"view\":{\"id\":\"1524125\"}},\"id\":\"1524124\",\"type\":\"GlyphRenderer\"},{\"attributes\":{},\"id\":\"1524092\",\"type\":\"DataRange1d\"},{\"attributes\":{\"fill_alpha\":{\"value\":0.3},\"fill_color\":{\"field\":\"Prob_9\",\"transform\":{\"id\":\"1524120\"}},\"line_alpha\":{\"value\":0.3},\"line_color\":{\"field\":\"Prob_9\",\"transform\":{\"id\":\"1524120\"}},\"size\":{\"value\":10},\"x\":{\"field\":\"pca_0\"},\"y\":{\"field\":\"pca_1\"}},\"id\":\"1524122\",\"type\":\"Circle\"},{\"attributes\":{},\"id\":\"1524090\",\"type\":\"DataRange1d\"}],\"root_ids\":[\"1524087\"]},\"title\":\"Bokeh Application\",\"version\":\"2.3.3\"}};\n",
       "  var render_items = [{\"docid\":\"6a59ae83-2ea1-434a-9f05-0462d91d1478\",\"root_ids\":[\"1524087\"],\"roots\":{\"1524087\":\"08163ca1-e0c1-40b6-9dbd-8253e8576bb3\"}}];\n",
       "  root.Bokeh.embed.embed_items_notebook(docs_json, render_items);\n",
       "\n",
       "  }\n",
       "  if (root.Bokeh !== undefined) {\n",
       "    embed_document(root);\n",
       "  } else {\n",
       "    var attempts = 0;\n",
       "    var timer = setInterval(function(root) {\n",
       "      if (root.Bokeh !== undefined) {\n",
       "        clearInterval(timer);\n",
       "        embed_document(root);\n",
       "      } else {\n",
       "        attempts++;\n",
       "        if (attempts > 100) {\n",
       "          clearInterval(timer);\n",
       "          console.log(\"Bokeh: ERROR: Unable to run BokehJS code because BokehJS library is missing\");\n",
       "        }\n",
       "      }\n",
       "    }, 10, root)\n",
       "  }\n",
       "})(window);"
      ],
      "application/vnd.bokehjs_exec.v0+json": ""
     },
     "metadata": {
      "application/vnd.bokehjs_exec.v0+json": {
       "id": "1524087"
      }
     },
     "output_type": "display_data"
    },
    {
     "data": {
      "text/html": [
       "\n",
       "\n",
       "\n",
       "\n",
       "\n",
       "\n",
       "  <div class=\"bk-root\" id=\"91e1d858-9069-415c-8ffe-5748288fb579\" data-root-id=\"1529878\"></div>\n"
      ]
     },
     "metadata": {},
     "output_type": "display_data"
    },
    {
     "data": {
      "application/javascript": [
       "(function(root) {\n",
       "  function embed_document(root) {\n",
       "    \n",
       "  var docs_json = {\"d16d26e2-239b-456b-aad6-dba4984d5a30\":{\"defs\":[],\"roots\":{\"references\":[{\"attributes\":{\"below\":[{\"id\":\"1529889\"}],\"center\":[{\"id\":\"1529892\"},{\"id\":\"1529896\"}],\"height\":400,\"left\":[{\"id\":\"1529893\"}],\"renderers\":[{\"id\":\"1529915\"}],\"right\":[{\"id\":\"1529919\"}],\"title\":{\"id\":\"1529879\"},\"toolbar\":{\"id\":\"1529904\"},\"width\":900,\"x_range\":{\"id\":\"1529881\"},\"x_scale\":{\"id\":\"1529885\"},\"y_range\":{\"id\":\"1529883\"},\"y_scale\":{\"id\":\"1529887\"}},\"id\":\"1529878\",\"subtype\":\"Figure\",\"type\":\"Plot\"},{\"attributes\":{},\"id\":\"1535615\",\"type\":\"NoOverlap\"},{\"attributes\":{},\"id\":\"1529898\",\"type\":\"WheelZoomTool\"},{\"attributes\":{},\"id\":\"1535616\",\"type\":\"AllLabels\"},{\"attributes\":{\"data\":{\"Prob_0\":{\"__ndarray__\":\"U3ymrppVgz/8KwkrjPt9Pxhb5Y15+30/9ShR2IT7fT8rlWkAgft9P2UwCgQ9hn0/CL0q1jSGfT8KFBfaM4Z9P2NY8Wg5hn0/d3uMgLIrfj85SNHpVrp+P+0+6umpK34/DmSTfKIrfj+9UQDuP7p+Pwf7ScowGH8/YUq8M9hRfz9C+mwH6bPtP4jWZ7Eyun4/bZ03l/MDfj9oBg+FVxh/PzBPyNwHUn8/coGGxKJ+fz8cdyNL6LPtPzsgrQZJ+30/Nwwmkeez7T+9YIyXkit+P7m6iUZj+30/Y72swBsYfz8oEe/7gwp+Pw==\",\"dtype\":\"float64\",\"order\":\"little\",\"shape\":[29]},\"Prob_1\":{\"__ndarray__\":\"0wxF22ntSj/unwszBodCP/lAlmgHh0I/4ZpAewiHQj94PkEABYdCP+kXg0L3W0I/i7jIzepbQj8uODmQ4VtCP46aj0X/W0I/59VYwCoUQz8ZH9GRm6VDPy4iRYZIFEM//wsScjUUQz/e1/OovqVDP9s5BxKnAkQ/29+/jK07RD/xLZjEt2CyP1Icq9aepUM/i3b29S+SQj+SwqmuhQJEP/Pn612MO0Q/AAbvAsJqRD8fR+SmvWCyPxwhIITUhkI/RZ7PdsNgsj/Kvqf6UBRDPxopRJDbhkI/ZHjX63YCRD/Tz0xx55pCPw==\",\"dtype\":\"float64\",\"order\":\"little\",\"shape\":[29]},\"Prob_10\":{\"__ndarray__\":\"rmD8ZZ+69j4AAAAAAAAAAAAAAAAAAAAAAAAAAAAAAAAAAAAAAAAAAAAAAAAAAAAAAAAAAAAAAAAAAAAAAAAAAAAAAAAAAAAAAAAAAAAAAAAAAAAAAAAAAAAAAAAAAAAAAAAAAAAAAAAAAAAAAAAAAAAAAAAAAAAAAAAAAAAAAAAAAAAAAAAAAAAAAAAAAAAAcPXPwkD+1j4AAAAAAAAAAAAAAAAAAAAAAAAAAAAAAAAAAAAAAAAAACwDG8V87dY+AAAAAAAAAAAAAAAAAAAAAEUQh4zb7dY+AAAAAAAAAAAAAAAAAAAAAA==\",\"dtype\":\"float64\",\"order\":\"little\",\"shape\":[29]},\"Prob_11\":{\"__ndarray__\":\"zcWJS76N9D4AAAAAAAAAAAAAAAAAAAAAAAAAAAAAAAAAAAAAAAAAAAAAAAAAAAAAAAAAAAAAAAAAAAAAAAAAAAAAAAAAAAAAAAAAAAAAAAAAAAAAAAAAAAAAAAAAAAAAAAAAAAAAAAAAAAAAAAAAAAAAAAAAAAAAAAAAAAAAAAAAAAAAAAAAAAAAAAAAAAAA/jJpOOBp0z4AAAAAAAAAAAAAAAAAAAAAAAAAAAAAAAAAAAAAAAAAAAAAAAAAAAAAAAAAAAAAAAAAAAAAAAAAAIuWk2/GVtM+AAAAAAAAAAAAAAAAAAAAAA==\",\"dtype\":\"float64\",\"order\":\"little\",\"shape\":[29]},\"Prob_2\":{\"__ndarray__\":\"qLLYBk5k9j69U+rPBgHXPjt5qQo1Adc+muwaehwB1z50AlGAHwHXPpCqWWQWy88+893edxbLzz4Qlxj8TcvPPqk3ocncys8+Y+6EIIqMzD6KBSIMQoXLPqS0YQkvjMw+jukJmzKMzD5YBIqMy4TLPiIBDy26IMs+m5X5UFLwyj4AAAAAAAAAANb87bLEhMs+i2gUQ88V1z7mfn6IRiHLPlJ8O33f8Mo++9nbQ/fayj4AAAAAAAAAACxLH6W2ANc+AAAAAAAAAABX2ACY0IvMPqgydyyKANc+7cWrBJ8gyz4b/YZVtybXPg==\",\"dtype\":\"float64\",\"order\":\"little\",\"shape\":[29]},\"Prob_3\":{\"__ndarray__\":\"MsKPY8Wt9z4tLBHvmDfYPkpCOYtxN9g+s2DL2Yk32D5uR1UgfzfYPjChRgITotA+JPN8rAei0D7HxbLOCqLQPjK+CQUPotA+mEaK4GGyzT5JeGoLhYPMPopYwmlAss0+bV4gnDGyzT7Q9v2MQYPMPo7DayyFCsw+M9yGsYXQyz4AAAAAAAAAACoqddImg8w+iziY5nlL2D7fGbQH4ArMPqR4JL3m0Ms+uv37Y6S6yz4AAAAAAAAAAPZ7ZKVuN9g+AAAAAAAAAAAubK63CrLNPjUCb6ugN9g+FlTAQ1QKzD5uQ6UWllrYPg==\",\"dtype\":\"float64\",\"order\":\"little\",\"shape\":[29]},\"Prob_4\":{\"__ndarray__\":\"ji8tj1Kq7z9CS82JT7/vP8jEtq5Pv+8/lGPdl0+/7z8zzG+gT7/vP6AwWERMwO8/IsTWV0zA7z8q3Q5cTMDvP3sEnklMwO8/kNCTANW+7z9FIxbpk73vP3G9bgrVvu8/6kYRHtW+7z8FfHYOlL3vP90T1ynBvO8/01b/sz+87z8AAAAAAAAAADOk7DCUve8/88Y+POy+7z92k4DkwLzvP9BlvVw/vO8/Rk2PZNq77z8AAAAAAAAAAPC4EWcKv+8/AAAAAAAAAABjaRs31b7vP/cyCoUAv+8/jN4GYMG87z+UGIV9LL/vPw==\",\"dtype\":\"float64\",\"order\":\"little\",\"shape\":[29]},\"Prob_5\":{\"__ndarray__\":\"uR0dgUej+D4AAAAAAAAAAAAAAAAAAAAAAAAAAAAAAAAAAAAAAAAAAAAAAAAAAAAAAAAAAAAAAAAAAAAAAAAAAAAAAAAAAAAAAAAAAAAAAAAAAAAAAAAAAAAAAAAAAAAAAAAAAAAAAAAAAAAAAAAAAAAAAAAAAAAAAAAAAAAAAAAAAAAAAAAAAAAAAAAAAAAATiTeqwsc2j4AAAAAAAAAAAAAAAAAAAAAAAAAAAAAAAAAAAAAAAAAAHCAy0UPBto+AAAAAAAAAAAAAAAAAAAAAKus5smbBdo+AAAAAAAAAAAAAAAAAAAAAA==\",\"dtype\":\"float64\",\"order\":\"little\",\"shape\":[29]},\"Prob_6\":{\"__ndarray__\":\"1C9GhQAC9z4AAAAAAAAAAAAAAAAAAAAAAAAAAAAAAAAAAAAAAAAAAAAAAAAAAAAAAAAAAAAAAAAAAAAAAAAAAAAAAAAAAAAAAAAAAAAAAAAAAAAAAAAAAAAAAAAAAAAAAAAAAAAAAAAAAAAAAAAAAAAAAAAAAAAAAAAAAAAAAAAAAAAAAAAAAAAAAAAAAAAAIxW1Aeec1j4AAAAAAAAAAAAAAAAAAAAAAAAAAAAAAAAAAAAAAAAAAM7kBGUoitY+AAAAAAAAAAAAAAAAAAAAAEqJ26xjitY+AAAAAAAAAAAAAAAAAAAAAA==\",\"dtype\":\"float64\",\"order\":\"little\",\"shape\":[29]},\"Prob_7\":{\"__ndarray__\":\"t8KQ42Ct9z4AAAAAAAAAAAAAAAAAAAAAAAAAAAAAAAAAAAAAAAAAAAAAAAAAAAAAAAAAAAAAAAAAAAAAAAAAAAAAAAAAAAAAAAAAAAAAAAAAAAAAAAAAAAAAAAAAAAAAAAAAAAAAAAAAAAAAAAAAAAAAAAAAAAAAAAAAAAAAAAAAAAAAAAAAAAAAAAAAAAAAvlXVRE6w1z4AAAAAAAAAAAAAAAAAAAAAAAAAAAAAAAAAAAAAAAAAABz4QeVunNc+AAAAAAAAAAAAAAAAAAAAAGKw8kuSnNc+AAAAAAAAAAAAAAAAAAAAAA==\",\"dtype\":\"float64\",\"order\":\"little\",\"shape\":[29]},\"Prob_8\":{\"__ndarray__\":\"iVpwiJfE9T4AAAAAAAAAAAAAAAAAAAAAAAAAAAAAAAAAAAAAAAAAAAAAAAAAAAAAAAAAAAAAAAAAAAAAAAAAAAAAAAAAAAAAAAAAAAAAAAAAAAAAAAAAAAAAAAAAAAAAAAAAAAAAAAAAAAAAAAAAAAAAAAAAAAAAAAAAAAAAAAAAAAAAAAAAAAAAAAAAAAAAIa1OPCfB1D4AAAAAAAAAAAAAAAAAAAAAAAAAAAAAAAAAAAAAAAAAAOi/m+T6sdQ+AAAAAAAAAAAAAAAAAAAAAEaQbA4sstQ+AAAAAAAAAAAAAAAAAAAAAA==\",\"dtype\":\"float64\",\"order\":\"little\",\"shape\":[29]},\"Prob_9\":{\"__ndarray__\":\"U75LJB9k9z4AAAAAAAAAAAAAAAAAAAAAAAAAAAAAAAAAAAAAAAAAAAAAAAAAAAAAAAAAAAAAAAAAAAAAAAAAAAAAAAAAAAAAAAAAAAAAAAAAAAAAAAAAAAAAAAAAAAAAAAAAAAAAAAAAAAAAAAAAAAAAAAAAAAAAAAAAAAAAAAAAAAAAAAAAAAAAAAAAAAAAMLvMRFit1z4AAAAAAAAAAAAAAAAAAAAAAAAAAAAAAAAAAAAAAAAAANqXQkU8n9c+AAAAAAAAAAAAAAAAAAAAANU08Kt+n9c+AAAAAAAAAAAAAAAAAAAAAA==\",\"dtype\":\"float64\",\"order\":\"little\",\"shape\":[29]},\"agent_id\":[0,0,0,0,0,0,0,0,0,0,0,0,0,0,0,0,0,0,0,0,0,0,0,0,0,0,0,0,0],\"index\":[0,12,24,28,138,234,246,268,370,564,810,3416,5124,5542,5544,5546,5656,6128,6916,8170,8172,8174,9492,10546,10972,17404,19108,19294,24044],\"infostate_string\":[\"\",\"1, 0, 0<br>1, 0, 0<br>3,0,0\",\"1, 0, 0<br>1, 0, 0<br>3,1,1\",\"1, 0, 0<br>1, 0, 0<br>3,0,1\",\"1, 0, 0<br>1, 0, 0<br>3,1,0\",\"1, 0, 0 | 1, 0, 0<br>1, 0, 0 | 1, 0, 0<br>3,0,1 | 3,0,1\",\"1, 0, 0 | 1, 0, 0<br>1, 0, 0 | 1, 0, 0<br>3,1,0 | 3,1,0\",\"1, 0, 0 | 1, 0, 0<br>1, 0, 0 | 1, 0, 0<br>3,1,1 | 3,1,1\",\"1, 0, 0 | 1, 0, 0<br>1, 0, 0 | 1, 0, 0<br>3,0,0 | 3,0,0\",\"1, 0, 0 | 1, 0, 0 | 1, 0, 0<br>1, 0, 0 | 1, 0, 0 | 1, 0, 0<br>3,1,1 | 3,1,1 | 3,1,1\",\"1, 0, 0 | 1, 0, 0 | 1, 0, 0 | 1, 0, 0<br>1, 0, 0 | 1, 0, 0 | 1, 0, 0 | 1, 0, 0<br>3,1,1 | 3,1,1 | 3,1,1 | 3,1,1\",\"1, 0, 0 | 1, 0, 0 | 1, 0, 0<br>1, 0, 0 | 1, 0, 0 | 1, 0, 0<br>3,0,1 | 3,0,1 | 3,0,1\",\"1, 0, 0 | 1, 0, 0 | 1, 0, 0<br>1, 0, 0 | 1, 0, 0 | 1, 0, 0<br>3,1,0 | 3,1,0 | 3,1,0\",\"1, 0, 0 | 1, 0, 0 | 1, 0, 0 | 1, 0, 0<br>1, 0, 0 | 1, 0, 0 | 1, 0, 0 | 1, 0, 0<br>3,0,1 | 3,0,1 | 3,0,1 | 3,0,1\",\"1, 0, 0 | 1, 0, 0 | 1, 0, 0 | 1, 0, 0 | 1, 0, 0<br>1, 0, 0 | 1, 0, 0 | 1, 0, 0 | 1, 0, 0 | 1, 0, 0<br>3,0,1 | 3,0,1 | 3,0,1 | 3,0,1 | 3,0,1\",\"1, 0, 0 | 1, 0, 0 | 1, 0, 0 | 1, 0, 0 | 1, 0, 0 | 1, 0, 0<br>1, 0, 0 | 1, 0, 0 | 1, 0, 0 | 1, 0, 0 | 1, 0, 0 | 1, 0, 0<br>3,0,1 | 3,0,1 | 3,0,1 | 3,0,1 | 3,0,1 | 3,0,1\",\"0, 0, 1<br>0, 0, 1<br>1,0,2\",\"1, 0, 0 | 1, 0, 0 | 1, 0, 0 | 1, 0, 0<br>1, 0, 0 | 1, 0, 0 | 1, 0, 0 | 1, 0, 0<br>3,1,0 | 3,1,0 | 3,1,0 | 3,1,0\",\"2, 1, 1<br>2, 1, 1<br>2,1,2\",\"1, 0, 0 | 1, 0, 0 | 1, 0, 0 | 1, 0, 0 | 1, 0, 0<br>1, 0, 0 | 1, 0, 0 | 1, 0, 0 | 1, 0, 0 | 1, 0, 0<br>3,1,1 | 3,1,1 | 3,1,1 | 3,1,1 | 3,1,1\",\"1, 0, 0 | 1, 0, 0 | 1, 0, 0 | 1, 0, 0 | 1, 0, 0 | 1, 0, 0<br>1, 0, 0 | 1, 0, 0 | 1, 0, 0 | 1, 0, 0 | 1, 0, 0 | 1, 0, 0<br>3,1,1 | 3,1,1 | 3,1,1 | 3,1,1 | 3,1,1 | 3,1,1\",\"1, 0, 0 | 1, 0, 0 | 1, 0, 0 | 1, 0, 0 | 1, 0, 0 | 1, 0, 0 | 1, 0, 0<br>1, 0, 0 | 1, 0, 0 | 1, 0, 0 | 1, 0, 0 | 1, 0, 0 | 1, 0, 0 | 1, 0, 0<br>3,1,1 | 3,1,1 | 3,1,1 | 3,1,1 | 3,1,1 | 3,1,1 | 3,1,1\",\"0, 0, 1<br>0, 0, 1<br>2,0,2\",\"2, 1, 0<br>2, 1, 0<br>3,1,0\",\"0, 0, 1<br>0, 0, 1<br>2,1,2\",\"1, 0, 0 | 1, 0, 0 | 1, 0, 0<br>1, 0, 0 | 1, 0, 0 | 1, 0, 0<br>3,0,0 | 3,0,0 | 3,0,0\",\"2, 1, 1<br>2, 1, 1<br>3,1,1\",\"1, 0, 0 | 1, 0, 0 | 1, 0, 0 | 1, 0, 0 | 1, 0, 0<br>1, 0, 0 | 1, 0, 0 | 1, 0, 0 | 1, 0, 0 | 1, 0, 0<br>3,1,0 | 3,1,0 | 3,1,0 | 3,1,0 | 3,1,0\",\"0, 1, 1<br>0, 1, 1<br>1,2,1\"],\"pca_0\":{\"__ndarray__\":\"TSWYP22nqz7WpKs+O6arPv6lqz4w9Ie9MPKHvf/vh71k9oe9uhKEviYTtb4MFoS+0BSEvscXtb6jpM6+tKDcvpHQqz77FbW+K9SrPoCfzr61m9y+JA7lvmDPqz6Yqas+BM6rPigYhL44q6s+RKLOvh32qz4=\",\"dtype\":\"float32\",\"order\":\"little\",\"shape\":[29]},\"pca_1\":{\"__ndarray__\":\"W3qJPuVqMr2VWzK9YGMyvfpiMr0DfT+9hn8/vXl0P71KiD+9xqv2uxi81jwt2/a7cxP3u8a21jzDCks9HciEPeRjNb3TmtY8oHc1vWEKSz0oxYQ9nZOZPdRbNb36djK9q1M1vb9E97sDgDK96vBKPYaeN70=\",\"dtype\":\"float32\",\"order\":\"little\",\"shape\":[29]},\"round\":[1,2,2,2,2,3,3,3,3,4,5,4,4,5,6,7,2,5,2,6,7,8,2,2,2,4,2,6,2],\"sor_exposure\":{\"__ndarray__\":\"AAAAAAAAAAAAAAAAAMBSQAAAAAAAwFJAAAAAAADAUkAAAAAAAMBSQAAAAAAAoFRAAAAAAACgVEAAAAAAAKBUQAAAAAAAoFRAAAAAAACwVkAAAADAzPRYQAAAAAAAsFZAAAAAAACwVkAAAADAzPRYQAAAACCuc1tAAAAAwHIyXkAAAAAAAAA5QAAAAMDM9FhAAAAAAAAgbEAAAAAgrnNbQAAAAMByMl5AAAAAIL+bYEAAAAAAAAA5QAAAAAAAAGlAAAAAAAAAOUAAAAAAALBWQAAAAAAAIGxAAAAAIK5zW0AAAAAAAMBSQA==\",\"dtype\":\"float64\",\"order\":\"little\",\"shape\":[29]}},\"selected\":{\"id\":\"1478099\"},\"selection_policy\":{\"id\":\"1478098\"}},\"id\":\"1472462\",\"type\":\"ColumnDataSource\"},{\"attributes\":{},\"id\":\"1535619\",\"type\":\"AllLabels\"},{\"attributes\":{},\"id\":\"1529890\",\"type\":\"BasicTicker\"},{\"attributes\":{\"axis\":{\"id\":\"1529889\"},\"ticker\":null},\"id\":\"1529892\",\"type\":\"Grid\"},{\"attributes\":{},\"id\":\"1529897\",\"type\":\"PanTool\"},{\"attributes\":{\"formatter\":{\"id\":\"1535617\"},\"major_label_policy\":{\"id\":\"1535616\"},\"ticker\":{\"id\":\"1529894\"}},\"id\":\"1529893\",\"type\":\"LinearAxis\"},{\"attributes\":{\"fill_alpha\":{\"value\":0.1},\"fill_color\":{\"field\":\"Prob_10\",\"transform\":{\"id\":\"1529911\"}},\"line_alpha\":{\"value\":0.1},\"line_color\":{\"field\":\"Prob_10\",\"transform\":{\"id\":\"1529911\"}},\"size\":{\"value\":10},\"x\":{\"field\":\"pca_0\"},\"y\":{\"field\":\"pca_1\"}},\"id\":\"1529914\",\"type\":\"Circle\"},{\"attributes\":{\"data_source\":{\"id\":\"1472462\"},\"glyph\":{\"id\":\"1529913\"},\"hover_glyph\":null,\"muted_glyph\":null,\"nonselection_glyph\":{\"id\":\"1529914\"},\"view\":{\"id\":\"1529916\"}},\"id\":\"1529915\",\"type\":\"GlyphRenderer\"},{\"attributes\":{},\"id\":\"1529894\",\"type\":\"BasicTicker\"},{\"attributes\":{\"fill_alpha\":{\"value\":0.3},\"fill_color\":{\"field\":\"Prob_10\",\"transform\":{\"id\":\"1529911\"}},\"line_alpha\":{\"value\":0.3},\"line_color\":{\"field\":\"Prob_10\",\"transform\":{\"id\":\"1529911\"}},\"size\":{\"value\":10},\"x\":{\"field\":\"pca_0\"},\"y\":{\"field\":\"pca_1\"}},\"id\":\"1529913\",\"type\":\"Circle\"},{\"attributes\":{\"callback\":null,\"tooltips\":[[\"Infostate\",\"@infostate_string\"],[\"Prob\",\"@Prob_10{(.00)}\"],[\"SoRExposure\",\"@sor_exposure\"],[\"Round\",\"@round\"]]},\"id\":\"1529917\",\"type\":\"HoverTool\"},{\"attributes\":{\"axis\":{\"id\":\"1529893\"},\"dimension\":1,\"ticker\":null},\"id\":\"1529896\",\"type\":\"Grid\"},{\"attributes\":{\"formatter\":{\"id\":\"1535620\"},\"major_label_policy\":{\"id\":\"1535619\"},\"ticker\":{\"id\":\"1529890\"}},\"id\":\"1529889\",\"type\":\"LinearAxis\"},{\"attributes\":{},\"id\":\"1529900\",\"type\":\"SaveTool\"},{\"attributes\":{},\"id\":\"1529901\",\"type\":\"ResetTool\"},{\"attributes\":{\"overlay\":{\"id\":\"1529903\"}},\"id\":\"1529899\",\"type\":\"BoxZoomTool\"},{\"attributes\":{\"source\":{\"id\":\"1472462\"}},\"id\":\"1529916\",\"type\":\"CDSView\"},{\"attributes\":{\"color_mapper\":{\"id\":\"1529911\"},\"label_standoff\":12,\"major_label_policy\":{\"id\":\"1535615\"}},\"id\":\"1529919\",\"type\":\"ColorBar\"},{\"attributes\":{},\"id\":\"1529887\",\"type\":\"LinearScale\"},{\"attributes\":{\"bottom_units\":\"screen\",\"fill_alpha\":0.5,\"fill_color\":\"lightgrey\",\"left_units\":\"screen\",\"level\":\"overlay\",\"line_alpha\":1.0,\"line_color\":\"black\",\"line_dash\":[4,4],\"line_width\":2,\"right_units\":\"screen\",\"syncable\":false,\"top_units\":\"screen\"},\"id\":\"1529903\",\"type\":\"BoxAnnotation\"},{\"attributes\":{},\"id\":\"1535620\",\"type\":\"BasicTickFormatter\"},{\"attributes\":{},\"id\":\"1529885\",\"type\":\"LinearScale\"},{\"attributes\":{},\"id\":\"1529883\",\"type\":\"DataRange1d\"},{\"attributes\":{},\"id\":\"1529881\",\"type\":\"DataRange1d\"},{\"attributes\":{},\"id\":\"1478098\",\"type\":\"UnionRenderers\"},{\"attributes\":{},\"id\":\"1478099\",\"type\":\"Selection\"},{\"attributes\":{\"active_multi\":null,\"tools\":[{\"id\":\"1529897\"},{\"id\":\"1529898\"},{\"id\":\"1529899\"},{\"id\":\"1529900\"},{\"id\":\"1529901\"},{\"id\":\"1529902\"},{\"id\":\"1529917\"}]},\"id\":\"1529904\",\"type\":\"Toolbar\"},{\"attributes\":{\"text\":\"Action 10: 2 A, 1 B, 0 C\"},\"id\":\"1529879\",\"type\":\"Title\"},{\"attributes\":{\"high\":0.9922239110955264,\"low\":-0.1,\"palette\":[\"#FBFCBF\",\"#FBFABD\",\"#FBF9BB\",\"#FBF7B9\",\"#FCF5B7\",\"#FCF3B5\",\"#FCF1B3\",\"#FCF0B1\",\"#FCEEB0\",\"#FCECAE\",\"#FCEAAC\",\"#FCE8AA\",\"#FCE6A8\",\"#FCE5A6\",\"#FCE3A5\",\"#FDE1A3\",\"#FDDFA1\",\"#FDDD9F\",\"#FDDC9D\",\"#FDDA9C\",\"#FDD89A\",\"#FDD698\",\"#FDD497\",\"#FDD295\",\"#FDD193\",\"#FDCF92\",\"#FDCD90\",\"#FECB8E\",\"#FEC98D\",\"#FEC78B\",\"#FEC689\",\"#FEC488\",\"#FEC286\",\"#FEC085\",\"#FEBE83\",\"#FEBC82\",\"#FEBB80\",\"#FEB97F\",\"#FEB77D\",\"#FEB57C\",\"#FEB37B\",\"#FEB179\",\"#FEAF78\",\"#FEAE76\",\"#FEAC75\",\"#FEAA74\",\"#FEA873\",\"#FEA671\",\"#FDA470\",\"#FDA26F\",\"#FDA16E\",\"#FD9F6C\",\"#FD9D6B\",\"#FD9B6A\",\"#FD9969\",\"#FD9768\",\"#FD9567\",\"#FC9366\",\"#FC9265\",\"#FC9064\",\"#FC8E63\",\"#FC8C63\",\"#FB8A62\",\"#FB8861\",\"#FB8660\",\"#FB8460\",\"#FA825F\",\"#FA805E\",\"#FA7F5E\",\"#F97D5D\",\"#F97B5D\",\"#F9795C\",\"#F8775C\",\"#F8755C\",\"#F7735C\",\"#F7715B\",\"#F6705B\",\"#F66E5B\",\"#F56C5B\",\"#F56A5B\",\"#F4685B\",\"#F3675B\",\"#F3655C\",\"#F2635C\",\"#F1615C\",\"#F0605D\",\"#EF5E5D\",\"#EE5D5D\",\"#EE5B5E\",\"#ED595F\",\"#EC585F\",\"#EB5660\",\"#EA5560\",\"#E85461\",\"#E75262\",\"#E65162\",\"#E55063\",\"#E44E64\",\"#E24D65\",\"#E14C66\",\"#E04B66\",\"#DE4A67\",\"#DD4968\",\"#DC4869\",\"#DA4769\",\"#D9466A\",\"#D7456B\",\"#D6446C\",\"#D4436D\",\"#D3426D\",\"#D1426E\",\"#D0416F\",\"#CE4070\",\"#CD3F70\",\"#CB3E71\",\"#CA3E72\",\"#C83D72\",\"#C63C73\",\"#C53C74\",\"#C33B74\",\"#C23A75\",\"#C03A75\",\"#BE3976\",\"#BD3977\",\"#BB3877\",\"#B93778\",\"#B83778\",\"#B63679\",\"#B53679\",\"#B3357A\",\"#B1357A\",\"#B0347B\",\"#AE347B\",\"#AC337B\",\"#AB337C\",\"#A9327C\",\"#A7317D\",\"#A6317D\",\"#A4307D\",\"#A3307E\",\"#A12F7E\",\"#9F2F7E\",\"#9E2E7E\",\"#9C2E7F\",\"#9A2D7F\",\"#992D7F\",\"#972C7F\",\"#952C80\",\"#942B80\",\"#922B80\",\"#912A80\",\"#8F2A80\",\"#8D2980\",\"#8C2980\",\"#8A2881\",\"#892881\",\"#872781\",\"#852681\",\"#842681\",\"#822581\",\"#812581\",\"#7F2481\",\"#7E2481\",\"#7C2381\",\"#7A2281\",\"#792281\",\"#772181\",\"#762181\",\"#742081\",\"#731F81\",\"#711F81\",\"#6F1E81\",\"#6E1E81\",\"#6C1D80\",\"#6B1C80\",\"#691C80\",\"#681B80\",\"#661A80\",\"#651A80\",\"#63197F\",\"#61187F\",\"#60187F\",\"#5E177F\",\"#5D177E\",\"#5B167E\",\"#5A157E\",\"#58157E\",\"#57147D\",\"#55137D\",\"#53137C\",\"#52127C\",\"#50127B\",\"#4F117B\",\"#4D117A\",\"#4B1079\",\"#4A1079\",\"#481078\",\"#470F77\",\"#450F76\",\"#430F75\",\"#420F74\",\"#400F73\",\"#3E0F72\",\"#3C0F71\",\"#3B0F6F\",\"#390F6E\",\"#370F6C\",\"#350F6A\",\"#341068\",\"#321067\",\"#301065\",\"#2F1062\",\"#2D1060\",\"#2B115E\",\"#2A115C\",\"#281159\",\"#261157\",\"#251155\",\"#231152\",\"#221150\",\"#20114D\",\"#1F114B\",\"#1E1049\",\"#1C1046\",\"#1B1044\",\"#1A1041\",\"#180F3F\",\"#170F3C\",\"#160E3A\",\"#150E38\",\"#140D35\",\"#120D33\",\"#110C31\",\"#100C2F\",\"#0F0B2C\",\"#0E0A2A\",\"#0D0A28\",\"#0C0926\",\"#0B0824\",\"#0A0722\",\"#09071F\",\"#08061D\",\"#07051B\",\"#060519\",\"#050417\",\"#040415\",\"#040313\",\"#030311\",\"#02020F\",\"#02020D\",\"#01010B\",\"#010109\",\"#010007\",\"#000006\",\"#000004\",\"#000003\"]},\"id\":\"1529911\",\"type\":\"LinearColorMapper\"},{\"attributes\":{},\"id\":\"1535617\",\"type\":\"BasicTickFormatter\"},{\"attributes\":{},\"id\":\"1529902\",\"type\":\"HelpTool\"}],\"root_ids\":[\"1529878\"]},\"title\":\"Bokeh Application\",\"version\":\"2.3.3\"}};\n",
       "  var render_items = [{\"docid\":\"d16d26e2-239b-456b-aad6-dba4984d5a30\",\"root_ids\":[\"1529878\"],\"roots\":{\"1529878\":\"91e1d858-9069-415c-8ffe-5748288fb579\"}}];\n",
       "  root.Bokeh.embed.embed_items_notebook(docs_json, render_items);\n",
       "\n",
       "  }\n",
       "  if (root.Bokeh !== undefined) {\n",
       "    embed_document(root);\n",
       "  } else {\n",
       "    var attempts = 0;\n",
       "    var timer = setInterval(function(root) {\n",
       "      if (root.Bokeh !== undefined) {\n",
       "        clearInterval(timer);\n",
       "        embed_document(root);\n",
       "      } else {\n",
       "        attempts++;\n",
       "        if (attempts > 100) {\n",
       "          clearInterval(timer);\n",
       "          console.log(\"Bokeh: ERROR: Unable to run BokehJS code because BokehJS library is missing\");\n",
       "        }\n",
       "      }\n",
       "    }, 10, root)\n",
       "  }\n",
       "})(window);"
      ],
      "application/vnd.bokehjs_exec.v0+json": ""
     },
     "metadata": {
      "application/vnd.bokehjs_exec.v0+json": {
       "id": "1529878"
      }
     },
     "output_type": "display_data"
    },
    {
     "data": {
      "text/html": [
       "\n",
       "\n",
       "\n",
       "\n",
       "\n",
       "\n",
       "  <div class=\"bk-root\" id=\"82ccac32-bb0a-4407-933b-4c0fa6020f54\" data-root-id=\"1535680\"></div>\n"
      ]
     },
     "metadata": {},
     "output_type": "display_data"
    },
    {
     "data": {
      "application/javascript": [
       "(function(root) {\n",
       "  function embed_document(root) {\n",
       "    \n",
       "  var docs_json = {\"08eca3c5-81e4-4d76-87f3-55d80c62936f\":{\"defs\":[],\"roots\":{\"references\":[{\"attributes\":{\"below\":[{\"id\":\"1535691\"}],\"center\":[{\"id\":\"1535694\"},{\"id\":\"1535698\"}],\"height\":400,\"left\":[{\"id\":\"1535695\"}],\"renderers\":[{\"id\":\"1535717\"}],\"right\":[{\"id\":\"1535721\"}],\"title\":{\"id\":\"1535681\"},\"toolbar\":{\"id\":\"1535706\"},\"width\":900,\"x_range\":{\"id\":\"1535683\"},\"x_scale\":{\"id\":\"1535687\"},\"y_range\":{\"id\":\"1535685\"},\"y_scale\":{\"id\":\"1535689\"}},\"id\":\"1535680\",\"subtype\":\"Figure\",\"type\":\"Plot\"},{\"attributes\":{},\"id\":\"1535687\",\"type\":\"LinearScale\"},{\"attributes\":{},\"id\":\"1535685\",\"type\":\"DataRange1d\"},{\"attributes\":{},\"id\":\"1535689\",\"type\":\"LinearScale\"},{\"attributes\":{\"text\":\"Action 11: 2 A, 1 B, 1 C\"},\"id\":\"1535681\",\"type\":\"Title\"},{\"attributes\":{\"formatter\":{\"id\":\"1541433\"},\"major_label_policy\":{\"id\":\"1541432\"},\"ticker\":{\"id\":\"1535692\"}},\"id\":\"1535691\",\"type\":\"LinearAxis\"},{\"attributes\":{\"data\":{\"Prob_0\":{\"__ndarray__\":\"U3ymrppVgz/8KwkrjPt9Pxhb5Y15+30/9ShR2IT7fT8rlWkAgft9P2UwCgQ9hn0/CL0q1jSGfT8KFBfaM4Z9P2NY8Wg5hn0/d3uMgLIrfj85SNHpVrp+P+0+6umpK34/DmSTfKIrfj+9UQDuP7p+Pwf7ScowGH8/YUq8M9hRfz9C+mwH6bPtP4jWZ7Eyun4/bZ03l/MDfj9oBg+FVxh/PzBPyNwHUn8/coGGxKJ+fz8cdyNL6LPtPzsgrQZJ+30/Nwwmkeez7T+9YIyXkit+P7m6iUZj+30/Y72swBsYfz8oEe/7gwp+Pw==\",\"dtype\":\"float64\",\"order\":\"little\",\"shape\":[29]},\"Prob_1\":{\"__ndarray__\":\"0wxF22ntSj/unwszBodCP/lAlmgHh0I/4ZpAewiHQj94PkEABYdCP+kXg0L3W0I/i7jIzepbQj8uODmQ4VtCP46aj0X/W0I/59VYwCoUQz8ZH9GRm6VDPy4iRYZIFEM//wsScjUUQz/e1/OovqVDP9s5BxKnAkQ/29+/jK07RD/xLZjEt2CyP1Icq9aepUM/i3b29S+SQj+SwqmuhQJEP/Pn612MO0Q/AAbvAsJqRD8fR+SmvWCyPxwhIITUhkI/RZ7PdsNgsj/Kvqf6UBRDPxopRJDbhkI/ZHjX63YCRD/Tz0xx55pCPw==\",\"dtype\":\"float64\",\"order\":\"little\",\"shape\":[29]},\"Prob_10\":{\"__ndarray__\":\"rmD8ZZ+69j4AAAAAAAAAAAAAAAAAAAAAAAAAAAAAAAAAAAAAAAAAAAAAAAAAAAAAAAAAAAAAAAAAAAAAAAAAAAAAAAAAAAAAAAAAAAAAAAAAAAAAAAAAAAAAAAAAAAAAAAAAAAAAAAAAAAAAAAAAAAAAAAAAAAAAAAAAAAAAAAAAAAAAAAAAAAAAAAAAAAAAcPXPwkD+1j4AAAAAAAAAAAAAAAAAAAAAAAAAAAAAAAAAAAAAAAAAACwDG8V87dY+AAAAAAAAAAAAAAAAAAAAAEUQh4zb7dY+AAAAAAAAAAAAAAAAAAAAAA==\",\"dtype\":\"float64\",\"order\":\"little\",\"shape\":[29]},\"Prob_11\":{\"__ndarray__\":\"zcWJS76N9D4AAAAAAAAAAAAAAAAAAAAAAAAAAAAAAAAAAAAAAAAAAAAAAAAAAAAAAAAAAAAAAAAAAAAAAAAAAAAAAAAAAAAAAAAAAAAAAAAAAAAAAAAAAAAAAAAAAAAAAAAAAAAAAAAAAAAAAAAAAAAAAAAAAAAAAAAAAAAAAAAAAAAAAAAAAAAAAAAAAAAA/jJpOOBp0z4AAAAAAAAAAAAAAAAAAAAAAAAAAAAAAAAAAAAAAAAAAAAAAAAAAAAAAAAAAAAAAAAAAAAAAAAAAIuWk2/GVtM+AAAAAAAAAAAAAAAAAAAAAA==\",\"dtype\":\"float64\",\"order\":\"little\",\"shape\":[29]},\"Prob_2\":{\"__ndarray__\":\"qLLYBk5k9j69U+rPBgHXPjt5qQo1Adc+muwaehwB1z50AlGAHwHXPpCqWWQWy88+893edxbLzz4Qlxj8TcvPPqk3ocncys8+Y+6EIIqMzD6KBSIMQoXLPqS0YQkvjMw+jukJmzKMzD5YBIqMy4TLPiIBDy26IMs+m5X5UFLwyj4AAAAAAAAAANb87bLEhMs+i2gUQ88V1z7mfn6IRiHLPlJ8O33f8Mo++9nbQ/fayj4AAAAAAAAAACxLH6W2ANc+AAAAAAAAAABX2ACY0IvMPqgydyyKANc+7cWrBJ8gyz4b/YZVtybXPg==\",\"dtype\":\"float64\",\"order\":\"little\",\"shape\":[29]},\"Prob_3\":{\"__ndarray__\":\"MsKPY8Wt9z4tLBHvmDfYPkpCOYtxN9g+s2DL2Yk32D5uR1UgfzfYPjChRgITotA+JPN8rAei0D7HxbLOCqLQPjK+CQUPotA+mEaK4GGyzT5JeGoLhYPMPopYwmlAss0+bV4gnDGyzT7Q9v2MQYPMPo7DayyFCsw+M9yGsYXQyz4AAAAAAAAAACoqddImg8w+iziY5nlL2D7fGbQH4ArMPqR4JL3m0Ms+uv37Y6S6yz4AAAAAAAAAAPZ7ZKVuN9g+AAAAAAAAAAAubK63CrLNPjUCb6ugN9g+FlTAQ1QKzD5uQ6UWllrYPg==\",\"dtype\":\"float64\",\"order\":\"little\",\"shape\":[29]},\"Prob_4\":{\"__ndarray__\":\"ji8tj1Kq7z9CS82JT7/vP8jEtq5Pv+8/lGPdl0+/7z8zzG+gT7/vP6AwWERMwO8/IsTWV0zA7z8q3Q5cTMDvP3sEnklMwO8/kNCTANW+7z9FIxbpk73vP3G9bgrVvu8/6kYRHtW+7z8FfHYOlL3vP90T1ynBvO8/01b/sz+87z8AAAAAAAAAADOk7DCUve8/88Y+POy+7z92k4DkwLzvP9BlvVw/vO8/Rk2PZNq77z8AAAAAAAAAAPC4EWcKv+8/AAAAAAAAAABjaRs31b7vP/cyCoUAv+8/jN4GYMG87z+UGIV9LL/vPw==\",\"dtype\":\"float64\",\"order\":\"little\",\"shape\":[29]},\"Prob_5\":{\"__ndarray__\":\"uR0dgUej+D4AAAAAAAAAAAAAAAAAAAAAAAAAAAAAAAAAAAAAAAAAAAAAAAAAAAAAAAAAAAAAAAAAAAAAAAAAAAAAAAAAAAAAAAAAAAAAAAAAAAAAAAAAAAAAAAAAAAAAAAAAAAAAAAAAAAAAAAAAAAAAAAAAAAAAAAAAAAAAAAAAAAAAAAAAAAAAAAAAAAAATiTeqwsc2j4AAAAAAAAAAAAAAAAAAAAAAAAAAAAAAAAAAAAAAAAAAHCAy0UPBto+AAAAAAAAAAAAAAAAAAAAAKus5smbBdo+AAAAAAAAAAAAAAAAAAAAAA==\",\"dtype\":\"float64\",\"order\":\"little\",\"shape\":[29]},\"Prob_6\":{\"__ndarray__\":\"1C9GhQAC9z4AAAAAAAAAAAAAAAAAAAAAAAAAAAAAAAAAAAAAAAAAAAAAAAAAAAAAAAAAAAAAAAAAAAAAAAAAAAAAAAAAAAAAAAAAAAAAAAAAAAAAAAAAAAAAAAAAAAAAAAAAAAAAAAAAAAAAAAAAAAAAAAAAAAAAAAAAAAAAAAAAAAAAAAAAAAAAAAAAAAAAIxW1Aeec1j4AAAAAAAAAAAAAAAAAAAAAAAAAAAAAAAAAAAAAAAAAAM7kBGUoitY+AAAAAAAAAAAAAAAAAAAAAEqJ26xjitY+AAAAAAAAAAAAAAAAAAAAAA==\",\"dtype\":\"float64\",\"order\":\"little\",\"shape\":[29]},\"Prob_7\":{\"__ndarray__\":\"t8KQ42Ct9z4AAAAAAAAAAAAAAAAAAAAAAAAAAAAAAAAAAAAAAAAAAAAAAAAAAAAAAAAAAAAAAAAAAAAAAAAAAAAAAAAAAAAAAAAAAAAAAAAAAAAAAAAAAAAAAAAAAAAAAAAAAAAAAAAAAAAAAAAAAAAAAAAAAAAAAAAAAAAAAAAAAAAAAAAAAAAAAAAAAAAAvlXVRE6w1z4AAAAAAAAAAAAAAAAAAAAAAAAAAAAAAAAAAAAAAAAAABz4QeVunNc+AAAAAAAAAAAAAAAAAAAAAGKw8kuSnNc+AAAAAAAAAAAAAAAAAAAAAA==\",\"dtype\":\"float64\",\"order\":\"little\",\"shape\":[29]},\"Prob_8\":{\"__ndarray__\":\"iVpwiJfE9T4AAAAAAAAAAAAAAAAAAAAAAAAAAAAAAAAAAAAAAAAAAAAAAAAAAAAAAAAAAAAAAAAAAAAAAAAAAAAAAAAAAAAAAAAAAAAAAAAAAAAAAAAAAAAAAAAAAAAAAAAAAAAAAAAAAAAAAAAAAAAAAAAAAAAAAAAAAAAAAAAAAAAAAAAAAAAAAAAAAAAAIa1OPCfB1D4AAAAAAAAAAAAAAAAAAAAAAAAAAAAAAAAAAAAAAAAAAOi/m+T6sdQ+AAAAAAAAAAAAAAAAAAAAAEaQbA4sstQ+AAAAAAAAAAAAAAAAAAAAAA==\",\"dtype\":\"float64\",\"order\":\"little\",\"shape\":[29]},\"Prob_9\":{\"__ndarray__\":\"U75LJB9k9z4AAAAAAAAAAAAAAAAAAAAAAAAAAAAAAAAAAAAAAAAAAAAAAAAAAAAAAAAAAAAAAAAAAAAAAAAAAAAAAAAAAAAAAAAAAAAAAAAAAAAAAAAAAAAAAAAAAAAAAAAAAAAAAAAAAAAAAAAAAAAAAAAAAAAAAAAAAAAAAAAAAAAAAAAAAAAAAAAAAAAAMLvMRFit1z4AAAAAAAAAAAAAAAAAAAAAAAAAAAAAAAAAAAAAAAAAANqXQkU8n9c+AAAAAAAAAAAAAAAAAAAAANU08Kt+n9c+AAAAAAAAAAAAAAAAAAAAAA==\",\"dtype\":\"float64\",\"order\":\"little\",\"shape\":[29]},\"agent_id\":[0,0,0,0,0,0,0,0,0,0,0,0,0,0,0,0,0,0,0,0,0,0,0,0,0,0,0,0,0],\"index\":[0,12,24,28,138,234,246,268,370,564,810,3416,5124,5542,5544,5546,5656,6128,6916,8170,8172,8174,9492,10546,10972,17404,19108,19294,24044],\"infostate_string\":[\"\",\"1, 0, 0<br>1, 0, 0<br>3,0,0\",\"1, 0, 0<br>1, 0, 0<br>3,1,1\",\"1, 0, 0<br>1, 0, 0<br>3,0,1\",\"1, 0, 0<br>1, 0, 0<br>3,1,0\",\"1, 0, 0 | 1, 0, 0<br>1, 0, 0 | 1, 0, 0<br>3,0,1 | 3,0,1\",\"1, 0, 0 | 1, 0, 0<br>1, 0, 0 | 1, 0, 0<br>3,1,0 | 3,1,0\",\"1, 0, 0 | 1, 0, 0<br>1, 0, 0 | 1, 0, 0<br>3,1,1 | 3,1,1\",\"1, 0, 0 | 1, 0, 0<br>1, 0, 0 | 1, 0, 0<br>3,0,0 | 3,0,0\",\"1, 0, 0 | 1, 0, 0 | 1, 0, 0<br>1, 0, 0 | 1, 0, 0 | 1, 0, 0<br>3,1,1 | 3,1,1 | 3,1,1\",\"1, 0, 0 | 1, 0, 0 | 1, 0, 0 | 1, 0, 0<br>1, 0, 0 | 1, 0, 0 | 1, 0, 0 | 1, 0, 0<br>3,1,1 | 3,1,1 | 3,1,1 | 3,1,1\",\"1, 0, 0 | 1, 0, 0 | 1, 0, 0<br>1, 0, 0 | 1, 0, 0 | 1, 0, 0<br>3,0,1 | 3,0,1 | 3,0,1\",\"1, 0, 0 | 1, 0, 0 | 1, 0, 0<br>1, 0, 0 | 1, 0, 0 | 1, 0, 0<br>3,1,0 | 3,1,0 | 3,1,0\",\"1, 0, 0 | 1, 0, 0 | 1, 0, 0 | 1, 0, 0<br>1, 0, 0 | 1, 0, 0 | 1, 0, 0 | 1, 0, 0<br>3,0,1 | 3,0,1 | 3,0,1 | 3,0,1\",\"1, 0, 0 | 1, 0, 0 | 1, 0, 0 | 1, 0, 0 | 1, 0, 0<br>1, 0, 0 | 1, 0, 0 | 1, 0, 0 | 1, 0, 0 | 1, 0, 0<br>3,0,1 | 3,0,1 | 3,0,1 | 3,0,1 | 3,0,1\",\"1, 0, 0 | 1, 0, 0 | 1, 0, 0 | 1, 0, 0 | 1, 0, 0 | 1, 0, 0<br>1, 0, 0 | 1, 0, 0 | 1, 0, 0 | 1, 0, 0 | 1, 0, 0 | 1, 0, 0<br>3,0,1 | 3,0,1 | 3,0,1 | 3,0,1 | 3,0,1 | 3,0,1\",\"0, 0, 1<br>0, 0, 1<br>1,0,2\",\"1, 0, 0 | 1, 0, 0 | 1, 0, 0 | 1, 0, 0<br>1, 0, 0 | 1, 0, 0 | 1, 0, 0 | 1, 0, 0<br>3,1,0 | 3,1,0 | 3,1,0 | 3,1,0\",\"2, 1, 1<br>2, 1, 1<br>2,1,2\",\"1, 0, 0 | 1, 0, 0 | 1, 0, 0 | 1, 0, 0 | 1, 0, 0<br>1, 0, 0 | 1, 0, 0 | 1, 0, 0 | 1, 0, 0 | 1, 0, 0<br>3,1,1 | 3,1,1 | 3,1,1 | 3,1,1 | 3,1,1\",\"1, 0, 0 | 1, 0, 0 | 1, 0, 0 | 1, 0, 0 | 1, 0, 0 | 1, 0, 0<br>1, 0, 0 | 1, 0, 0 | 1, 0, 0 | 1, 0, 0 | 1, 0, 0 | 1, 0, 0<br>3,1,1 | 3,1,1 | 3,1,1 | 3,1,1 | 3,1,1 | 3,1,1\",\"1, 0, 0 | 1, 0, 0 | 1, 0, 0 | 1, 0, 0 | 1, 0, 0 | 1, 0, 0 | 1, 0, 0<br>1, 0, 0 | 1, 0, 0 | 1, 0, 0 | 1, 0, 0 | 1, 0, 0 | 1, 0, 0 | 1, 0, 0<br>3,1,1 | 3,1,1 | 3,1,1 | 3,1,1 | 3,1,1 | 3,1,1 | 3,1,1\",\"0, 0, 1<br>0, 0, 1<br>2,0,2\",\"2, 1, 0<br>2, 1, 0<br>3,1,0\",\"0, 0, 1<br>0, 0, 1<br>2,1,2\",\"1, 0, 0 | 1, 0, 0 | 1, 0, 0<br>1, 0, 0 | 1, 0, 0 | 1, 0, 0<br>3,0,0 | 3,0,0 | 3,0,0\",\"2, 1, 1<br>2, 1, 1<br>3,1,1\",\"1, 0, 0 | 1, 0, 0 | 1, 0, 0 | 1, 0, 0 | 1, 0, 0<br>1, 0, 0 | 1, 0, 0 | 1, 0, 0 | 1, 0, 0 | 1, 0, 0<br>3,1,0 | 3,1,0 | 3,1,0 | 3,1,0 | 3,1,0\",\"0, 1, 1<br>0, 1, 1<br>1,2,1\"],\"pca_0\":{\"__ndarray__\":\"TSWYP22nqz7WpKs+O6arPv6lqz4w9Ie9MPKHvf/vh71k9oe9uhKEviYTtb4MFoS+0BSEvscXtb6jpM6+tKDcvpHQqz77FbW+K9SrPoCfzr61m9y+JA7lvmDPqz6Yqas+BM6rPigYhL44q6s+RKLOvh32qz4=\",\"dtype\":\"float32\",\"order\":\"little\",\"shape\":[29]},\"pca_1\":{\"__ndarray__\":\"W3qJPuVqMr2VWzK9YGMyvfpiMr0DfT+9hn8/vXl0P71KiD+9xqv2uxi81jwt2/a7cxP3u8a21jzDCks9HciEPeRjNb3TmtY8oHc1vWEKSz0oxYQ9nZOZPdRbNb36djK9q1M1vb9E97sDgDK96vBKPYaeN70=\",\"dtype\":\"float32\",\"order\":\"little\",\"shape\":[29]},\"round\":[1,2,2,2,2,3,3,3,3,4,5,4,4,5,6,7,2,5,2,6,7,8,2,2,2,4,2,6,2],\"sor_exposure\":{\"__ndarray__\":\"AAAAAAAAAAAAAAAAAMBSQAAAAAAAwFJAAAAAAADAUkAAAAAAAMBSQAAAAAAAoFRAAAAAAACgVEAAAAAAAKBUQAAAAAAAoFRAAAAAAACwVkAAAADAzPRYQAAAAAAAsFZAAAAAAACwVkAAAADAzPRYQAAAACCuc1tAAAAAwHIyXkAAAAAAAAA5QAAAAMDM9FhAAAAAAAAgbEAAAAAgrnNbQAAAAMByMl5AAAAAIL+bYEAAAAAAAAA5QAAAAAAAAGlAAAAAAAAAOUAAAAAAALBWQAAAAAAAIGxAAAAAIK5zW0AAAAAAAMBSQA==\",\"dtype\":\"float64\",\"order\":\"little\",\"shape\":[29]}},\"selected\":{\"id\":\"1478099\"},\"selection_policy\":{\"id\":\"1478098\"}},\"id\":\"1472462\",\"type\":\"ColumnDataSource\"},{\"attributes\":{\"bottom_units\":\"screen\",\"fill_alpha\":0.5,\"fill_color\":\"lightgrey\",\"left_units\":\"screen\",\"level\":\"overlay\",\"line_alpha\":1.0,\"line_color\":\"black\",\"line_dash\":[4,4],\"line_width\":2,\"right_units\":\"screen\",\"syncable\":false,\"top_units\":\"screen\"},\"id\":\"1535705\",\"type\":\"BoxAnnotation\"},{\"attributes\":{},\"id\":\"1535692\",\"type\":\"BasicTicker\"},{\"attributes\":{\"color_mapper\":{\"id\":\"1535713\"},\"label_standoff\":12,\"major_label_policy\":{\"id\":\"1541428\"}},\"id\":\"1535721\",\"type\":\"ColorBar\"},{\"attributes\":{\"source\":{\"id\":\"1472462\"}},\"id\":\"1535718\",\"type\":\"CDSView\"},{\"attributes\":{\"axis\":{\"id\":\"1535691\"},\"ticker\":null},\"id\":\"1535694\",\"type\":\"Grid\"},{\"attributes\":{\"formatter\":{\"id\":\"1541430\"},\"major_label_policy\":{\"id\":\"1541429\"},\"ticker\":{\"id\":\"1535696\"}},\"id\":\"1535695\",\"type\":\"LinearAxis\"},{\"attributes\":{\"callback\":null,\"tooltips\":[[\"Infostate\",\"@infostate_string\"],[\"Prob\",\"@Prob_11{(.00)}\"],[\"SoRExposure\",\"@sor_exposure\"],[\"Round\",\"@round\"]]},\"id\":\"1535719\",\"type\":\"HoverTool\"},{\"attributes\":{},\"id\":\"1535696\",\"type\":\"BasicTicker\"},{\"attributes\":{\"fill_alpha\":{\"value\":0.3},\"fill_color\":{\"field\":\"Prob_11\",\"transform\":{\"id\":\"1535713\"}},\"line_alpha\":{\"value\":0.3},\"line_color\":{\"field\":\"Prob_11\",\"transform\":{\"id\":\"1535713\"}},\"size\":{\"value\":10},\"x\":{\"field\":\"pca_0\"},\"y\":{\"field\":\"pca_1\"}},\"id\":\"1535715\",\"type\":\"Circle\"},{\"attributes\":{\"data_source\":{\"id\":\"1472462\"},\"glyph\":{\"id\":\"1535715\"},\"hover_glyph\":null,\"muted_glyph\":null,\"nonselection_glyph\":{\"id\":\"1535716\"},\"view\":{\"id\":\"1535718\"}},\"id\":\"1535717\",\"type\":\"GlyphRenderer\"},{\"attributes\":{\"axis\":{\"id\":\"1535695\"},\"dimension\":1,\"ticker\":null},\"id\":\"1535698\",\"type\":\"Grid\"},{\"attributes\":{},\"id\":\"1541429\",\"type\":\"AllLabels\"},{\"attributes\":{},\"id\":\"1535699\",\"type\":\"PanTool\"},{\"attributes\":{},\"id\":\"1541428\",\"type\":\"NoOverlap\"},{\"attributes\":{},\"id\":\"1541430\",\"type\":\"BasicTickFormatter\"},{\"attributes\":{},\"id\":\"1535700\",\"type\":\"WheelZoomTool\"},{\"attributes\":{},\"id\":\"1541432\",\"type\":\"AllLabels\"},{\"attributes\":{\"overlay\":{\"id\":\"1535705\"}},\"id\":\"1535701\",\"type\":\"BoxZoomTool\"},{\"attributes\":{\"fill_alpha\":{\"value\":0.1},\"fill_color\":{\"field\":\"Prob_11\",\"transform\":{\"id\":\"1535713\"}},\"line_alpha\":{\"value\":0.1},\"line_color\":{\"field\":\"Prob_11\",\"transform\":{\"id\":\"1535713\"}},\"size\":{\"value\":10},\"x\":{\"field\":\"pca_0\"},\"y\":{\"field\":\"pca_1\"}},\"id\":\"1535716\",\"type\":\"Circle\"},{\"attributes\":{},\"id\":\"1541433\",\"type\":\"BasicTickFormatter\"},{\"attributes\":{},\"id\":\"1535702\",\"type\":\"SaveTool\"},{\"attributes\":{\"high\":0.9922239110955264,\"low\":-0.1,\"palette\":[\"#FBFCBF\",\"#FBFABD\",\"#FBF9BB\",\"#FBF7B9\",\"#FCF5B7\",\"#FCF3B5\",\"#FCF1B3\",\"#FCF0B1\",\"#FCEEB0\",\"#FCECAE\",\"#FCEAAC\",\"#FCE8AA\",\"#FCE6A8\",\"#FCE5A6\",\"#FCE3A5\",\"#FDE1A3\",\"#FDDFA1\",\"#FDDD9F\",\"#FDDC9D\",\"#FDDA9C\",\"#FDD89A\",\"#FDD698\",\"#FDD497\",\"#FDD295\",\"#FDD193\",\"#FDCF92\",\"#FDCD90\",\"#FECB8E\",\"#FEC98D\",\"#FEC78B\",\"#FEC689\",\"#FEC488\",\"#FEC286\",\"#FEC085\",\"#FEBE83\",\"#FEBC82\",\"#FEBB80\",\"#FEB97F\",\"#FEB77D\",\"#FEB57C\",\"#FEB37B\",\"#FEB179\",\"#FEAF78\",\"#FEAE76\",\"#FEAC75\",\"#FEAA74\",\"#FEA873\",\"#FEA671\",\"#FDA470\",\"#FDA26F\",\"#FDA16E\",\"#FD9F6C\",\"#FD9D6B\",\"#FD9B6A\",\"#FD9969\",\"#FD9768\",\"#FD9567\",\"#FC9366\",\"#FC9265\",\"#FC9064\",\"#FC8E63\",\"#FC8C63\",\"#FB8A62\",\"#FB8861\",\"#FB8660\",\"#FB8460\",\"#FA825F\",\"#FA805E\",\"#FA7F5E\",\"#F97D5D\",\"#F97B5D\",\"#F9795C\",\"#F8775C\",\"#F8755C\",\"#F7735C\",\"#F7715B\",\"#F6705B\",\"#F66E5B\",\"#F56C5B\",\"#F56A5B\",\"#F4685B\",\"#F3675B\",\"#F3655C\",\"#F2635C\",\"#F1615C\",\"#F0605D\",\"#EF5E5D\",\"#EE5D5D\",\"#EE5B5E\",\"#ED595F\",\"#EC585F\",\"#EB5660\",\"#EA5560\",\"#E85461\",\"#E75262\",\"#E65162\",\"#E55063\",\"#E44E64\",\"#E24D65\",\"#E14C66\",\"#E04B66\",\"#DE4A67\",\"#DD4968\",\"#DC4869\",\"#DA4769\",\"#D9466A\",\"#D7456B\",\"#D6446C\",\"#D4436D\",\"#D3426D\",\"#D1426E\",\"#D0416F\",\"#CE4070\",\"#CD3F70\",\"#CB3E71\",\"#CA3E72\",\"#C83D72\",\"#C63C73\",\"#C53C74\",\"#C33B74\",\"#C23A75\",\"#C03A75\",\"#BE3976\",\"#BD3977\",\"#BB3877\",\"#B93778\",\"#B83778\",\"#B63679\",\"#B53679\",\"#B3357A\",\"#B1357A\",\"#B0347B\",\"#AE347B\",\"#AC337B\",\"#AB337C\",\"#A9327C\",\"#A7317D\",\"#A6317D\",\"#A4307D\",\"#A3307E\",\"#A12F7E\",\"#9F2F7E\",\"#9E2E7E\",\"#9C2E7F\",\"#9A2D7F\",\"#992D7F\",\"#972C7F\",\"#952C80\",\"#942B80\",\"#922B80\",\"#912A80\",\"#8F2A80\",\"#8D2980\",\"#8C2980\",\"#8A2881\",\"#892881\",\"#872781\",\"#852681\",\"#842681\",\"#822581\",\"#812581\",\"#7F2481\",\"#7E2481\",\"#7C2381\",\"#7A2281\",\"#792281\",\"#772181\",\"#762181\",\"#742081\",\"#731F81\",\"#711F81\",\"#6F1E81\",\"#6E1E81\",\"#6C1D80\",\"#6B1C80\",\"#691C80\",\"#681B80\",\"#661A80\",\"#651A80\",\"#63197F\",\"#61187F\",\"#60187F\",\"#5E177F\",\"#5D177E\",\"#5B167E\",\"#5A157E\",\"#58157E\",\"#57147D\",\"#55137D\",\"#53137C\",\"#52127C\",\"#50127B\",\"#4F117B\",\"#4D117A\",\"#4B1079\",\"#4A1079\",\"#481078\",\"#470F77\",\"#450F76\",\"#430F75\",\"#420F74\",\"#400F73\",\"#3E0F72\",\"#3C0F71\",\"#3B0F6F\",\"#390F6E\",\"#370F6C\",\"#350F6A\",\"#341068\",\"#321067\",\"#301065\",\"#2F1062\",\"#2D1060\",\"#2B115E\",\"#2A115C\",\"#281159\",\"#261157\",\"#251155\",\"#231152\",\"#221150\",\"#20114D\",\"#1F114B\",\"#1E1049\",\"#1C1046\",\"#1B1044\",\"#1A1041\",\"#180F3F\",\"#170F3C\",\"#160E3A\",\"#150E38\",\"#140D35\",\"#120D33\",\"#110C31\",\"#100C2F\",\"#0F0B2C\",\"#0E0A2A\",\"#0D0A28\",\"#0C0926\",\"#0B0824\",\"#0A0722\",\"#09071F\",\"#08061D\",\"#07051B\",\"#060519\",\"#050417\",\"#040415\",\"#040313\",\"#030311\",\"#02020F\",\"#02020D\",\"#01010B\",\"#010109\",\"#010007\",\"#000006\",\"#000004\",\"#000003\"]},\"id\":\"1535713\",\"type\":\"LinearColorMapper\"},{\"attributes\":{},\"id\":\"1478098\",\"type\":\"UnionRenderers\"},{\"attributes\":{},\"id\":\"1535703\",\"type\":\"ResetTool\"},{\"attributes\":{},\"id\":\"1478099\",\"type\":\"Selection\"},{\"attributes\":{},\"id\":\"1535704\",\"type\":\"HelpTool\"},{\"attributes\":{},\"id\":\"1535683\",\"type\":\"DataRange1d\"},{\"attributes\":{\"active_multi\":null,\"tools\":[{\"id\":\"1535699\"},{\"id\":\"1535700\"},{\"id\":\"1535701\"},{\"id\":\"1535702\"},{\"id\":\"1535703\"},{\"id\":\"1535704\"},{\"id\":\"1535719\"}]},\"id\":\"1535706\",\"type\":\"Toolbar\"}],\"root_ids\":[\"1535680\"]},\"title\":\"Bokeh Application\",\"version\":\"2.3.3\"}};\n",
       "  var render_items = [{\"docid\":\"08eca3c5-81e4-4d76-87f3-55d80c62936f\",\"root_ids\":[\"1535680\"],\"roots\":{\"1535680\":\"82ccac32-bb0a-4407-933b-4c0fa6020f54\"}}];\n",
       "  root.Bokeh.embed.embed_items_notebook(docs_json, render_items);\n",
       "\n",
       "  }\n",
       "  if (root.Bokeh !== undefined) {\n",
       "    embed_document(root);\n",
       "  } else {\n",
       "    var attempts = 0;\n",
       "    var timer = setInterval(function(root) {\n",
       "      if (root.Bokeh !== undefined) {\n",
       "        clearInterval(timer);\n",
       "        embed_document(root);\n",
       "      } else {\n",
       "        attempts++;\n",
       "        if (attempts > 100) {\n",
       "          clearInterval(timer);\n",
       "          console.log(\"Bokeh: ERROR: Unable to run BokehJS code because BokehJS library is missing\");\n",
       "        }\n",
       "      }\n",
       "    }, 10, root)\n",
       "  }\n",
       "})(window);"
      ],
      "application/vnd.bokehjs_exec.v0+json": ""
     },
     "metadata": {
      "application/vnd.bokehjs_exec.v0+json": {
       "id": "1535680"
      }
     },
     "output_type": "display_data"
    }
   ],
   "source": [
    "q = sub_df.copy()\n",
    "# Need to change newlines into <br> to have them actually break in the tooltip\n",
    "q['infostate_string'] = q['infostate_string'].apply(lambda x: x.replace('\\n', '<br>').split(\"Budget: 300<br>\")[1])\n",
    "action_cols = [f'Prob_{i}' for i in range(checkpoint.game.num_distinct_actions())]\n",
    "source = ColumnDataSource(q.drop(['infostate_tensor', 'agent_embedding'], axis='columns')) # Need to drop tensors b/c of serialization issues\n",
    "\n",
    "for action_num, action_name in action_dict.items():\n",
    "\n",
    "    plot = figure(width=900, height=400, title=f\"Action {action_num}: {action_name}\")\n",
    "\n",
    "    # add a circle renderer with a size, color, and alpha\n",
    "    mapper = linear_cmap(field_name=f'Prob_{action_num}', palette=list(reversed(Magma256)) ,low=-.1, high=q[action_cols].values.max())\n",
    "#     mapper = log_cmap(field_name=f'Prob_{action_num}', palette=\"Magma256\" ,low=1e-9, high=q[action_cols].values.max())\n",
    "    plot.circle('pca_0', 'pca_1', size=10, color=mapper, alpha=0.3, source=source)\n",
    "\n",
    "    \n",
    "    plot.add_tools(HoverTool(tooltips=[['Infostate', '@infostate_string'],\n",
    "                                       ['Prob', f'@Prob_{action_num}' + '{(.00)}'],\n",
    "                                       ['SoRExposure', f'@sor_exposure'],\n",
    "                                       ['Round', '@round'],\n",
    "                                      ]))\n",
    "    color_bar = ColorBar(color_mapper=mapper['transform'], label_standoff=12)\n",
    "    plot.add_layout(color_bar, 'right')\n",
    "\n",
    "    \n",
    "    show(plot)\n"
   ]
  },
  {
   "cell_type": "code",
   "execution_count": null,
   "id": "d7c56c9d-1f67-4d76-bdcc-74256c2b1dee",
   "metadata": {},
   "outputs": [],
   "source": [
    "for feature_num in range(17):\n",
    "    plt_y = [infostates[i][-1][feature_num] for i in range(len(infostates))]\n",
    "    plt.scatter(pca[:, 0], plt_y, c=probs[:, action_num], alpha=1, cmap=blues_trunc)\n",
    "    plt.title(feature_num)\n",
    "    plt.show()"
   ]
  },
  {
   "cell_type": "code",
   "execution_count": null,
   "id": "b5d4d73b-c9f0-4144-8a57-fb72665a7380",
   "metadata": {},
   "outputs": [],
   "source": [
    "# action_dict = action_to_bids([2,1,1])\n",
    "\n",
    "\n",
    "# for action_num, action_name in action_dict.items():\n",
    "#     plt.scatter(pca[:, 0], pca[:, 1], c=probs[:, action_num], alpha=1, cmap=blues_trunc)\n",
    "#     plt.clim(0, 1) # Consistent across all actions\n",
    "#     cbar = plt.colorbar()\n",
    "#     cbar.set_label(f'Action Probability') \n",
    "#     plt.title(action_name)\n",
    "#     plt.show()\n",
    "\n",
    "\n"
   ]
  },
  {
   "cell_type": "code",
   "execution_count": null,
   "id": "216ef284-b536-4c8e-b8fa-2a565d6844fa",
   "metadata": {},
   "outputs": [],
   "source": []
  }
 ],
 "metadata": {
  "kernelspec": {
   "display_name": "Python 3 (ipykernel)",
   "language": "python",
   "name": "python3"
  },
  "language_info": {
   "codemirror_mode": {
    "name": "ipython",
    "version": 3
   },
   "file_extension": ".py",
   "mimetype": "text/x-python",
   "name": "python",
   "nbconvert_exporter": "python",
   "pygments_lexer": "ipython3",
   "version": "3.8.2"
  }
 },
 "nbformat": 4,
 "nbformat_minor": 5
}
