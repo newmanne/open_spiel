{
 "cells": [
  {
   "cell_type": "code",
   "execution_count": 1,
   "id": "2e8c1ff4-dfe1-40a5-96d7-99c0712cd615",
   "metadata": {},
   "outputs": [],
   "source": [
    "%load_ext autoreload\n",
    "%autoreload 2\n",
    "%matplotlib inline"
   ]
  },
  {
   "cell_type": "code",
   "execution_count": 2,
   "id": "443a96a5-1245-453f-85b7-41c53fc921ec",
   "metadata": {},
   "outputs": [],
   "source": [
    "import pyspiel\n",
    "import open_spiel.python.games\n",
    "from open_spiel.python.observation import make_observation\n",
    "from open_spiel.python.examples.ubc_decorators import TakeSingleActionDecorator\n",
    "from open_spiel.python.examples.straightforward_agent import StraightforwardAgent\n",
    "from open_spiel.python.examples.ppo_utils import EnvParams\n",
    "from open_spiel.python.examples.ppo_eval import eval_agents_parallel\n",
    "from open_spiel.python.env_decorator import *\n",
    "\n",
    "\n",
    "from auctions.webutils import *\n",
    "import os\n",
    "os.environ[\"DJANGO_ALLOW_ASYNC_UNSAFE\"] = \"true\"\n",
    "\n",
    "import sys\n",
    "import glob\n",
    "import pandas as pd\n",
    "import os\n",
    "import seaborn as sns\n",
    "\n",
    "from tqdm import tqdm\n",
    "from statsmodels.distributions.empirical_distribution import ECDF\n",
    "from collections import defaultdict\n",
    "import pickle\n",
    "import re\n",
    "import json\n",
    "import numpy as np \n",
    "import pandas as pd\n",
    "from absl import logging\n",
    "import tempfile\n",
    "import subprocess\n",
    "\n",
    "import open_spiel.python.games\n",
    "from open_spiel.python.games.clock_auction_base import *\n",
    "from open_spiel.python.examples.ubc_utils import *\n",
    "\n",
    "from pathlib import Path\n",
    "\n",
    "import matplotlib.pyplot as plt\n",
    "import seaborn as sns\n",
    "from django.db.models import F\n",
    "from auctions.models import *\n",
    "\n",
    "\n",
    "os.environ[\"DJANGO_ALLOW_ASYNC_UNSAFE\"] = \"true\"\n",
    "\n",
    "import itertools\n",
    "from open_spiel.python.examples.ubc_cma import *\n",
    "from open_spiel.python.examples.env_and_policy import *\n",
    "from open_spiel.python.examples.ppo_eval import run_eval\n",
    "from open_spiel.python.examples.straightforward_agent import StraightforwardAgent\n",
    "import copy\n",
    "import sys\n",
    "sys.path.append('/apps/sats/python')\n",
    "from pysats import map_generators, run_sats\n",
    "\n",
    "from auctions.webutils import convert_pesky_np\n",
    "\n",
    "from open_spiel.python.algorithms import get_all_states_with_policy\n",
    "import time\n",
    "import tempfile\n",
    "import copy\n",
    "import pickle\n",
    "\n",
    "from open_spiel.python.algorithms.outcome_sampling_mccfr import OutcomeSamplingSolver\n",
    "from open_spiel.python.algorithms.external_sampling_mccfr import ExternalSamplingSolver\n",
    "import signal\n"
   ]
  },
  {
   "cell_type": "code",
   "execution_count": 4,
   "id": "6927dea7-a90d-49df-85d4-18eb91167fbc",
   "metadata": {},
   "outputs": [],
   "source": [
    "PREFIX = 'jan19boring'\n",
    "CONFIG_DIR = os.environ['CLOCK_AUCTION_CONFIG_DIR']\n",
    "PYSATS = '/apps/open_spiel/open_spiel/python/examples'"
   ]
  },
  {
   "cell_type": "code",
   "execution_count": 5,
   "id": "dd9e8a18-9ad2-4c6d-815c-e57989cbc157",
   "metadata": {},
   "outputs": [
    {
     "name": "stdout",
     "output_type": "stream",
     "text": [
      "5\n"
     ]
    }
   ],
   "source": [
    "config_fnames = [\n",
    "    # This is the old 2 player games you know and love\n",
    "    # '/apps/open_spiel/open_spiel/python/examples/oq4.pkl', \n",
    "    # These are new 2 player games from later in the summer\n",
    "    # '/apps/open_spiel/open_spiel/python/examples/oq5.pkl', \n",
    "    \n",
    "    # '/apps/open_spiel/open_spiel/python/examples/sep18_encumbered.pkl',\n",
    "    # '/apps/open_spiel/open_spiel/python/examples/sep18_3province.pkl',\n",
    "    \n",
    "    # These are 3 player games\n",
    "    # '/apps/open_spiel/open_spiel/python/examples/oq7.pkl',\n",
    "    # '/apps/open_spiel/open_spiel/python/examples/oq6.pkl',\n",
    "    \n",
    "    # BC-only with encumbered licenses\n",
    "    # '/apps/open_spiel/notebooks/greg/configs.pkl',\n",
    "    # '/apps/open_spiel/notebooks/greg/configs/dec13b.pkl'\n",
    "    \n",
    "    # BC-only with encumbered licenses, slower clocks than above\n",
    "    # '/apps/open_spiel/notebooks/greg/configs/jan12.pkl'\n",
    "    \n",
    "    # '/apps/open_spiel/notebooks/greg/configs/jan12_repro_1t.pkl',\n",
    "    # '/apps/open_spiel/notebooks/greg/configs/jan12_repro_2t.pkl',\n",
    "    # '/apps/open_spiel/notebooks/greg/configs/jan12_repro_3t.pkl',\n",
    "    # '/apps/open_spiel/notebooks/greg/configs/jan12_repro_4t.pkl'\n",
    "    \n",
    "    '/apps/open_spiel/notebooks/greg/configs/jan19_boring.pkl'\n",
    "    \n",
    "    # same as above, 3p\n",
    "    # '/apps/open_spiel/notebooks/greg/configs/jan83.pkl'\n",
    "]\n",
    "\n",
    "configs = []\n",
    "for config_fname in config_fnames:\n",
    "    with open(config_fname, 'rb') as f:\n",
    "        configs += pickle.load(f)\n",
    "\n",
    "print(len(configs))\n",
    "# configs"
   ]
  },
  {
   "cell_type": "code",
   "execution_count": 6,
   "id": "d1129995-c214-4510-bbda-4a9608f0e232",
   "metadata": {},
   "outputs": [],
   "source": [
    "# Generate a mod for each game\n",
    "all_mods = defaultdict()\n",
    "for i, settings_original in enumerate(configs):\n",
    "    mods = defaultdict()\n",
    "    for deviations in [1000]:\n",
    "        for rho in [0, 1]:\n",
    "        \n",
    "            settings = copy.deepcopy(settings_original)\n",
    "\n",
    "            ####\n",
    "            settings['auction_params']['agent_memory'] = 10\n",
    "            settings['auction_params']['max_rounds'] = 10\n",
    "            settings['auction_params']['heuristic_deviations'] = deviations\n",
    "            settings['auction_params']['sor_bid_bonus_rho'] = rho\n",
    "            settings['auction_params']['information_policy'] = 'show_demand'\n",
    "            ####\n",
    "\n",
    "            \n",
    "            n_types = len(settings['bidders'][0]['types'])\n",
    "            \n",
    "            # First, do the valuation \"bases\"\n",
    "\n",
    "            mods[f'base_dev{deviations}_rho{rho}_t{n_types}'] = settings\n",
    "\n",
    "            # Spite\n",
    "            # spite = copy.deepcopy(settings)\n",
    "            # spite['pricing_bonus'] = 0.05\n",
    "            # mods['spite'] = spite \n",
    "\n",
    "            # Default with risk aversion \n",
    "            # risk_averse = copy.deepcopy(settings)\n",
    "            # risk_averse['risk_averse'] = True\n",
    "            # mods[f'risk_averse_dev{deviations}'] = risk_averse\n",
    "\n",
    "            # for valuation in ['base', 'risk_averse', 'spite']:\n",
    "            for valuation in ['base']:\n",
    "                valuation = f'{valuation}_dev{deviations}_rho{rho}_t{n_types}'\n",
    "                # Change to hide demand\n",
    "                # hide_demand = copy.deepcopy(mods[valuation])\n",
    "                # hide_demand['auction_params']['information_policy'] = 'hide_demand'\n",
    "                # mods[f'{valuation}_hide_demand'] = hide_demand\n",
    "\n",
    "                # Change clock speed\n",
    "                # high_speed = copy.deepcopy(mods[valuation])\n",
    "                # high_speed['auction_params']['increment'] *= 2\n",
    "                # mods[f'{valuation}_high_speed'] = high_speed\n",
    "\n",
    "                # Change clock speed again\n",
    "                # medium_speed = copy.deepcopy(mods[valuation])\n",
    "                # medium_speed['auction_params']['increment'] = float(np.round(1.5 * medium_speed['auction_params']['increment'], 2))\n",
    "                # mods[f'{valuation}_medium_speed'] = medium_speed\n",
    "\n",
    "                # Sanity check: allow undersell\n",
    "                # undersell_allowed = copy.deepcopy(mods[valuation])\n",
    "                # undersell_allowed['auction_params']['undersell_policy'] = UndersellPolicy.UNDERSELL_ALLOWED.name\n",
    "                # mods[f'{valuation}_undersell_allowed'] = undersell_allowed\n",
    "\n",
    "                # Sanity check: activity doesn't matter\n",
    "                # no_activity = copy.deepcopy(mods[valuation])\n",
    "                # no_activity['auction_params']['activity_policy'] = ActivityPolicy.OFF.name\n",
    "                # mods[f'{valuation}_no_activity'] = no_activity\n",
    "\n",
    "                # Change the tie-breaking method\n",
    "                tie_break = copy.deepcopy(mods[valuation])\n",
    "                tie_break['auction_params']['tiebreaking_policy'] = TiebreakingPolicy.DROP_BY_LICENSE.name\n",
    "                mods[f'{valuation}_tie_break'] = tie_break\n",
    "\n",
    "                # Grace period\n",
    "                # grace_period = copy.deepcopy(mods[valuation])\n",
    "                # grace_period['auction_params']['grace_rounds'] = 2\n",
    "                # mods[f'{valuation}_grace_period'] = grace_period\n",
    "\n",
    "                # TODO: Signal, Greg's signal idea\n",
    "\n",
    "                # # Mod 3 imperfect base\n",
    "                # imperfect = copy.deepcopy(settings)\n",
    "                # imperfect['auction_params']['agent_memory'] = 2\n",
    "                # mods['imperfect'] = imperfect\n",
    "\n",
    "            all_mods[i] = mods"
   ]
  },
  {
   "cell_type": "code",
   "execution_count": 7,
   "id": "6131e834-91e4-4b76-acc1-5f0b07e0e1a5",
   "metadata": {},
   "outputs": [
    {
     "data": {
      "text/plain": [
       "4"
      ]
     },
     "execution_count": 7,
     "metadata": {},
     "output_type": "execute_result"
    }
   ],
   "source": [
    "len(all_mods[1])"
   ]
  },
  {
   "cell_type": "code",
   "execution_count": 8,
   "id": "99686177-652f-45a5-bc1c-55f928d6a9e5",
   "metadata": {},
   "outputs": [],
   "source": [
    "OUTPUT_DIR = f'{PYSATS}/{PREFIX}'\n",
    "!mkdir -p {OUTPUT_DIR}\n",
    "!rm -rf {CONFIG_DIR}/{PREFIX}\n",
    "!mkdir -p {CONFIG_DIR}/{PREFIX}"
   ]
  },
  {
   "cell_type": "code",
   "execution_count": 9,
   "id": "4f37cb8f-a677-434c-8f11-e27ed6c0a236",
   "metadata": {},
   "outputs": [
    {
     "name": "stderr",
     "output_type": "stream",
     "text": [
      "100%|███████████████████████████████████████████████████████████████████████████████████████████████████████████████████████████████████████████████████████████████████████████████████████████████████████████████████████████████████████████| 5/5 [00:13<00:00,  2.69s/it]\n"
     ]
    }
   ],
   "source": [
    "# Write out YML files for the modified games\n",
    "for base_name, game_mods in tqdm(all_mods.items()):\n",
    "    for mod_name, mod in game_mods.items():\n",
    "        g_name = f'{base_name}_{mod_name}'\n",
    "        outfile_name = f'{OUTPUT_DIR}/{g_name}.yml'\n",
    "        with open(outfile_name, 'w') as f:\n",
    "            yaml.dump(convert_pesky_np(mod), f)\n",
    "        # Run SATS\n",
    "        command = f'{PYSATS}/pysats.py --config_file {outfile_name} --seed {mod[\"sats_seed\"]} --output_file {CONFIG_DIR}/{PREFIX}/{PREFIX}_{g_name}.json'\n",
    "        !python {command}"
   ]
  },
  {
   "cell_type": "code",
   "execution_count": null,
   "id": "214ff9b4-f309-43be-90b3-f1bfa8e72f8f",
   "metadata": {},
   "outputs": [],
   "source": []
  },
  {
   "cell_type": "code",
   "execution_count": null,
   "id": "e8a569d0-11bf-436b-8f1b-c236a9874432",
   "metadata": {},
   "outputs": [],
   "source": []
  }
 ],
 "metadata": {
  "kernelspec": {
   "display_name": "Django Shell-Plus",
   "language": "python",
   "name": "django_extensions"
  },
  "language_info": {
   "codemirror_mode": {
    "name": "ipython",
    "version": 3
   },
   "file_extension": ".py",
   "mimetype": "text/x-python",
   "name": "python",
   "nbconvert_exporter": "python",
   "pygments_lexer": "ipython3",
   "version": "3.8.2"
  }
 },
 "nbformat": 4,
 "nbformat_minor": 5
}
