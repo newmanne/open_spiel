{
 "cells": [
  {
   "cell_type": "code",
   "execution_count": 6,
   "id": "f190d3de-aa4f-414f-898a-a66f55ca712b",
   "metadata": {},
   "outputs": [
    {
     "name": "stdout",
     "output_type": "stream",
     "text": [
      "The autoreload extension is already loaded. To reload it, use:\n",
      "  %reload_ext autoreload\n",
      "Populating the interactive namespace from numpy and matplotlib\n"
     ]
    },
    {
     "name": "stderr",
     "output_type": "stream",
     "text": [
      "/apps/open_spiel/venv/lib/python3.6/site-packages/IPython/core/magics/pylab.py:160: UserWarning: pylab import has clobbered these variables: ['copy']\n",
      "`%matplotlib` prevents importing * from pylab and numpy\n",
      "  \"\\n`%matplotlib` prevents importing * from pylab and numpy\"\n"
     ]
    }
   ],
   "source": [
    "%load_ext autoreload\n",
    "%autoreload 2\n",
    "%pylab inline\n",
    "\n",
    "import sys\n",
    "import glob\n",
    "import pandas as pd\n",
    "import os\n",
    "import seaborn as sns\n",
    "import yaml\n",
    "from tqdm import tqdm_notebook as tqdm\n",
    "from collections import defaultdict\n",
    "import copy\n",
    "import pathlib"
   ]
  },
  {
   "cell_type": "code",
   "execution_count": 7,
   "id": "80344dc0-fd8c-4f9a-8148-c5e05b4fa7c8",
   "metadata": {},
   "outputs": [],
   "source": [
    "config_folder = '/apps/open_spiel/open_spiel/python/examples/network_configs'\n",
    "with open(f'{config_folder}/config_example_rnn.yml', 'rb') as fh:\n",
    "    default_recurrent = yaml.load(fh, Loader=yaml.FullLoader)\n",
    "with open(f'{config_folder}/config_example_mlp.yml', 'rb') as fh:\n",
    "    default_mlp = yaml.load(fh, Loader=yaml.FullLoader)\n",
    "    "
   ]
  },
  {
   "cell_type": "code",
   "execution_count": 8,
   "id": "6bbbe002-c092-4776-951f-02411eb3a8ec",
   "metadata": {},
   "outputs": [],
   "source": [
    "configs = []\n",
    "configs.append({'name': 'lstm', 'config': default_recurrent})\n",
    "# configs.append({'name': 'mlp', 'config': default_mlp})\n",
    "\n",
    "\n"
   ]
  },
  {
   "cell_type": "code",
   "execution_count": 9,
   "id": "657b27b0-2e0b-4dc6-bbda-e201ec868b88",
   "metadata": {},
   "outputs": [],
   "source": [
    "### RNN & GRU\n",
    "for model in ['rnn', 'gru']:\n",
    "    cfg = copy.deepcopy(default_recurrent)\n",
    "    for m_type in ['sl', 'rl']:\n",
    "        cfg[f'{m_type}_model_args'].update({\n",
    "          'rnn_model': model,\n",
    "        })\n",
    "    configs.append({'name': model, 'config': cfg})\n",
    "\n",
    "### Small\n",
    "for model in ['rnn', 'lstm', 'gru']:\n",
    "    cfg = copy.deepcopy(default_recurrent)\n",
    "    for m_type in ['sl', 'rl']:\n",
    "        cfg[f'{m_type}_model_args'].update({\n",
    "          'rnn_model': model,\n",
    "          'hidden_size': 4\n",
    "        })\n",
    "        configs.append({'name': f'{model}_small', 'config': cfg})\n",
    "    \n",
    "### Deep\n",
    "for model in ['rnn', 'lstm', 'gru']:\n",
    "    cfg = copy.deepcopy(default_recurrent)\n",
    "    for m_type in ['sl', 'rl']:\n",
    "        cfg[f'{m_type}_model_args'].update({\n",
    "          'rnn_model': model,\n",
    "          'num_layers': 2\n",
    "        })\n",
    "        configs.append({'name': f'{model}_deep', 'config': cfg})"
   ]
  },
  {
   "cell_type": "code",
   "execution_count": 10,
   "id": "f250c59a-83d9-486b-ba8d-ac6c5374504d",
   "metadata": {},
   "outputs": [],
   "source": [
    "OUTPUT_DIR = './dec7'\n",
    "pathlib.Path(OUTPUT_DIR).mkdir(parents=True, exist_ok=True)\n",
    "for config in configs:\n",
    "    with open(f'{OUTPUT_DIR}/{config[\"name\"]}.yml', 'w') as outfile:\n",
    "        yaml.dump(config['config'], outfile)"
   ]
  },
  {
   "cell_type": "code",
   "execution_count": null,
   "id": "4504da12-4702-461a-93eb-21289e10f999",
   "metadata": {},
   "outputs": [],
   "source": []
  },
  {
   "cell_type": "code",
   "execution_count": null,
   "id": "0969ecbb-fe78-4536-b747-722a90df2689",
   "metadata": {},
   "outputs": [],
   "source": []
  }
 ],
 "metadata": {
  "kernelspec": {
   "display_name": "Python 3",
   "language": "python",
   "name": "python3"
  },
  "language_info": {
   "codemirror_mode": {
    "name": "ipython",
    "version": 3
   },
   "file_extension": ".py",
   "mimetype": "text/x-python",
   "name": "python",
   "nbconvert_exporter": "python",
   "pygments_lexer": "ipython3",
   "version": "3.6.9"
  }
 },
 "nbformat": 4,
 "nbformat_minor": 5
}
