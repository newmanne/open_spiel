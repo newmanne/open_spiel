{
 "cells": [
  {
   "cell_type": "code",
   "execution_count": 32,
   "id": "3bb6d298-db47-488d-bc2e-d3966b136d9b",
   "metadata": {},
   "outputs": [
    {
     "name": "stdout",
     "output_type": "stream",
     "text": [
      "The autoreload extension is already loaded. To reload it, use:\n",
      "  %reload_ext autoreload\n",
      "Populating the interactive namespace from numpy and matplotlib\n"
     ]
    }
   ],
   "source": [
    "%load_ext autoreload\n",
    "%autoreload 2\n",
    "%pylab inline\n",
    "\n",
    "import sys\n",
    "import glob\n",
    "import pandas as pd\n",
    "import os\n",
    "import seaborn as sns\n",
    "from tqdm import tqdm_notebook as tqdm\n",
    "from statsmodels.distributions.empirical_distribution import ECDF\n",
    "from collections import defaultdict\n",
    "import logging\n",
    "logging.basicConfig(format='%(asctime)s %(levelname)s:%(message)s', level=logging.DEBUG, datefmt='%I:%M:%S')\n",
    "logger = logging.getLogger()\n",
    "logger.setLevel(logging.INFO)"
   ]
  },
  {
   "cell_type": "markdown",
   "id": "69f7c2b4-3932-4562-b602-2c791f59d297",
   "metadata": {},
   "source": [
    "###### !python ../ubc_nfsp_example.py --alsologtostderr -- \\\n",
    "    --filename small_game_2.json \\\n",
    "    --network_config_file /apps/open_spiel/notebooks/configs/feb4/lstm.yml \\\n",
    "    --eval_every 10_000 \\\n",
    "    --br_portfolio_path /apps/open_spiel/notebooks/configs/feb4 \\\n",
    "    --dispatch_br true \\\n",
    "    --eval_exactly 10 15 \\\n",
    "    --seed 2 \n"
   ]
  },
  {
   "cell_type": "code",
   "execution_count": 6,
   "id": "630b8208-4b8d-44f8-90f3-ebdf84ec93a1",
   "metadata": {},
   "outputs": [
    {
     "name": "stdout",
     "output_type": "stream",
     "text": [
      "Reading from env variable CLOCK_AUCTION_CONFIG_DIR. If it is not set, there will be trouble.\n",
      "CLOCK_AUCTION_CONFIG_DIR=/apps/open_spiel/configs\n",
      "Parsing configuration from /apps/open_spiel/configs/medium_game_2.json\n",
      "Done config parsing\n",
      "I0120 21:28:49.643532 140596781180736 ubc_mccfr_cpp_example.py:166] Using C++ implementations\n",
      "I0120 21:28:49.643796 140596781180736 ubc_mccfr_cpp_example.py:177] Using MCCFR solver\n",
      "I0120 21:28:49.643885 140596781180736 ubc_mccfr_cpp_example.py:180] Using external sampling\n",
      "I0120 21:28:49.644385 140596781180736 ubc_mccfr_cpp_example.py:224] Starting iteration 0\n"
     ]
    }
   ],
   "source": [
    "!python ../ubc_mccfr_cpp_example.py --filename medium_game_2.json --iterations 150000 --report_freq 1 --solver mccfr"
   ]
  },
  {
   "cell_type": "code",
   "execution_count": 7,
   "id": "29d145ca-85d5-46e7-a135-b378a8256297",
   "metadata": {},
   "outputs": [
    {
     "name": "stdout",
     "output_type": "stream",
     "text": [
      "Parsing configuration from /shared/outputs/feb5_large/lstm/game.json\n",
      "Done config parsing\n",
      "I0208 02:24:39.490868 140536539367232 ubc_nfsp_example.py:165] Game loaded\n",
      "I0208 02:24:39.491086 140536539367232 rl_environment.py:195] Using game instance: turn_based_simultaneous_game\n",
      "I0208 02:24:39.491875 140536539367232 ubc_nfsp_example.py:175] Game has a state size of 1050, 64 distinct actions, and 2 players\n",
      "I0208 02:24:39.491944 140536539367232 ubc_nfsp_example.py:176] Game has 3 products\n",
      "I0208 02:24:39.497785 140536539367232 ubc_nfsp.py:91] Creating NFSP using device: cuda for player 0\n",
      "I0208 02:24:39.497918 140536539367232 ubc_dqn.py:247] Double DQN activated for player 0\n",
      "I0208 02:24:39.498142 140536539367232 ubc_dqn.py:281] Creating DQN using device: cuda for player 0\n",
      "I0208 02:24:43.409825 140536539367232 ubc_nfsp.py:91] Creating NFSP using device: cuda for player 1\n",
      "I0208 02:24:43.410015 140536539367232 ubc_dqn.py:247] Double DQN activated for player 1\n",
      "I0208 02:24:43.410130 140536539367232 ubc_dqn.py:281] Creating DQN using device: cuda for player 1\n",
      "I0208 02:24:43.451184 140536539367232 ubc_br.py:135] Reading BR config from /apps/open_spiel/open_spiel/python/examples/notebooks/configs/feb4/lstm.yml\n",
      "I0208 02:24:43.454002 140536539367232 ubc_utils.py:91] Setting numpy and torch seed to 1234\n",
      "I0208 02:24:43.454460 140536539367232 ubc_dqn.py:247] Double DQN activated for player 1\n",
      "I0208 02:24:43.454604 140536539367232 ubc_dqn.py:281] Creating DQN using device: cuda for player 1\n",
      "I0208 02:24:43.459895 140536539367232 ubc_br.py:154] Training for 500 episodes\n",
      "I0208 02:24:45.962470 140536539367232 ubc_br.py:198] Walltime: 6.47 seconds\n",
      "I0208 02:24:45.962684 140536539367232 ubc_br.py:205] Pickling model to /tmp/1.pkl\n",
      "I0208 02:24:45.994764 140536539367232 ubc_br.py:212] All done. Goodbye!\n"
     ]
    }
   ],
   "source": [
    "!python /apps/open_spiel/open_spiel/python/examples/ubc_br.py --alsologtostderr -- --experiment_dir /shared/outputs/feb5_large/lstm --br_player 1 --checkpoint checkpoint_3000000 --dispatch_rewards False --num_training_episodes 500 --config /apps/open_spiel/open_spiel/python/examples/notebooks/configs/feb4/lstm.yml --pickle_path /tmp/1.pkl"
   ]
  },
  {
   "cell_type": "code",
   "execution_count": 8,
   "id": "5fe95b40-41f4-44cd-836b-ace5ffa79f8f",
   "metadata": {},
   "outputs": [
    {
     "name": "stdout",
     "output_type": "stream",
     "text": [
      "Parsing configuration from /shared/outputs/feb5_large/lstm/game.json\n",
      "Done config parsing\n",
      "I0208 02:24:47.909521 140585657055040 ubc_nfsp_example.py:165] Game loaded\n",
      "I0208 02:24:47.909737 140585657055040 rl_environment.py:195] Using game instance: turn_based_simultaneous_game\n",
      "I0208 02:24:47.910518 140585657055040 ubc_nfsp_example.py:175] Game has a state size of 1050, 64 distinct actions, and 2 players\n",
      "I0208 02:24:47.910585 140585657055040 ubc_nfsp_example.py:176] Game has 3 products\n",
      "I0208 02:24:47.916460 140585657055040 ubc_nfsp.py:91] Creating NFSP using device: cuda for player 0\n",
      "I0208 02:24:47.916588 140585657055040 ubc_dqn.py:247] Double DQN activated for player 0\n",
      "I0208 02:24:47.916816 140585657055040 ubc_dqn.py:281] Creating DQN using device: cuda for player 0\n",
      "I0208 02:24:51.775290 140585657055040 ubc_nfsp.py:91] Creating NFSP using device: cuda for player 1\n",
      "I0208 02:24:51.775474 140585657055040 ubc_dqn.py:247] Double DQN activated for player 1\n",
      "I0208 02:24:51.775580 140585657055040 ubc_dqn.py:281] Creating DQN using device: cuda for player 1\n",
      "I0208 02:24:51.820008 140585657055040 ubc_br.py:135] Reading BR config from /apps/open_spiel/open_spiel/python/examples/notebooks/configs/feb4/lstm.yml\n",
      "I0208 02:24:51.822765 140585657055040 ubc_utils.py:91] Setting numpy and torch seed to 1234\n",
      "I0208 02:24:51.823192 140585657055040 ubc_dqn.py:247] Double DQN activated for player 1\n",
      "I0208 02:24:51.823324 140585657055040 ubc_dqn.py:281] Creating DQN using device: cuda for player 1\n",
      "I0208 02:24:51.828457 140585657055040 ubc_br.py:154] Training for 500 episodes\n",
      "I0208 02:24:54.268926 140585657055040 ubc_br.py:198] Walltime: 6.36 seconds\n",
      "I0208 02:24:54.269108 140585657055040 ubc_br.py:205] Pickling model to /tmp/2.pkl\n",
      "I0208 02:24:54.305435 140585657055040 ubc_br.py:212] All done. Goodbye!\n"
     ]
    }
   ],
   "source": [
    "!python /apps/open_spiel/open_spiel/python/examples/ubc_br.py --alsologtostderr -- --experiment_dir /shared/outputs/feb5_large/lstm --br_player 1 --checkpoint checkpoint_3000000 --dispatch_rewards False --num_training_episodes 500 --config /apps/open_spiel/open_spiel/python/examples/notebooks/configs/feb4/lstm.yml --pickle_path /tmp/2.pkl"
   ]
  },
  {
   "cell_type": "code",
   "execution_count": 9,
   "id": "971f78db-185d-4f07-abe9-390107946aca",
   "metadata": {},
   "outputs": [
    {
     "name": "stdout",
     "output_type": "stream",
     "text": [
      "rnn.weight_ih_l0 tensor(1., device='cuda:0')\n",
      "rnn.weight_hh_l0 tensor(1., device='cuda:0')\n",
      "rnn.bias_ih_l0 tensor(1., device='cuda:0')\n",
      "rnn.bias_hh_l0 tensor(1., device='cuda:0')\n",
      "rnn.weight_ih_l1 tensor(1., device='cuda:0')\n",
      "rnn.weight_hh_l1 tensor(1., device='cuda:0')\n",
      "rnn.bias_ih_l1 tensor(1., device='cuda:0')\n",
      "rnn.bias_hh_l1 tensor(1., device='cuda:0')\n",
      "output_layer.weight tensor(1., device='cuda:0')\n",
      "output_layer.bias tensor(1., device='cuda:0')\n"
     ]
    }
   ],
   "source": [
    "import pickle\n",
    "with open('/tmp/1.pkl', 'rb') as f:\n",
    "    lstm = pickle.load(f)\n",
    "with open('/tmp/2.pkl', 'rb') as f:\n",
    "    lstm_wide = pickle.load(f)\n",
    "for k,v in lstm['agent'].items():\n",
    "    print(k, (lstm_wide['agent'][k] == v).sum() / v.numel())"
   ]
  },
  {
   "cell_type": "code",
   "execution_count": null,
   "id": "36d625cc-bd81-45e8-9a4a-d3beaaceec09",
   "metadata": {},
   "outputs": [],
   "source": []
  },
  {
   "cell_type": "code",
   "execution_count": 23,
   "id": "efaef0b1-9185-4996-84ce-9e3208a6db14",
   "metadata": {},
   "outputs": [
    {
     "name": "stdout",
     "output_type": "stream",
     "text": [
      "I0208 02:52:46.951164 140590642902848 ubc_nfsp_example.py:264] Loading network parameters from /apps/open_spiel/open_spiel/python/examples/notebooks/configs/feb4/mlp.yml\n",
      "W0208 02:52:46.954378 140590642902848 ubc_utils.py:288] Found argument rl_learning_rate on command line but not in config\n",
      "I0208 02:52:46.956497 140590642902848 ubc_utils.py:91] Setting numpy and torch seed to 1234\n",
      "I0208 02:52:46.957134 140590642902848 ubc_nfsp_example.py:278] Iterating best responses\n",
      "I0208 02:52:46.957243 140590642902848 ubc_nfsp_example.py:280] Network params: {'add_explore_transitions': False, 'anticipatory_param': 0.1, 'batch_size': 1024, 'epsilon_end': 0.05, 'epsilon_start': 0.9, 'learn_every': 64, 'loss_str': 'mse', 'min_buffer_size_to_learn': 1000, 'optimizer_str': 'sgd', 'replay_buffer_capacity': 50000, 'reservoir_buffer_capacity': 2000000, 'rl_learning_rate': 5200.0, 'rl_model': 'mlp', 'rl_model_args': {'hidden_sizes': [128, 128]}, 'seed': 1234, 'sl_learning_rate': 0.01, 'sl_model': 'mlp', 'sl_model_args': {'hidden_sizes': [128, 128]}, 'update_target_network_every': 1000, 'filename': 'large_game_2.json', 'network_config_file': '/apps/open_spiel/open_spiel/python/examples/notebooks/configs/feb4/mlp.yml', 'output_dir': '/shared/outputs/test/mlp', 'eval_every': 1000, 'eval_every_early': 50000, 'eval_zero': 1, 'dispatch_br': 0, 'report_freq': 5000, 'num_training_episodes': 5000000, 'iterate_br': 1}\n",
      "I0208 02:52:46.957564 140590642902848 ubc_nfsp_example.py:292] Loading clock_auction\n",
      "Parsing configuration from /shared/outputs/test/mlp/game.json\n",
      "Done config parsing\n",
      "I0208 02:52:46.958168 140590642902848 ubc_nfsp_example.py:165] Game loaded\n",
      "I0208 02:52:46.958305 140590642902848 rl_environment.py:195] Using game instance: turn_based_simultaneous_game\n",
      "I0208 02:52:46.958436 140590642902848 ubc_nfsp_example.py:175] Game has a state size of 1050, 64 distinct actions, and 2 players\n",
      "I0208 02:52:46.958551 140590642902848 ubc_nfsp_example.py:176] Game has 3 products\n",
      "I0208 02:52:46.964437 140590642902848 ubc_nfsp.py:92] Creating NFSP using device: cuda for player 0\n",
      "I0208 02:52:46.964564 140590642902848 ubc_dqn.py:247] Double DQN activated for player 0\n",
      "I0208 02:52:46.964814 140590642902848 ubc_dqn.py:281] Creating DQN using device: cuda for player 0\n",
      "I0208 02:52:50.794152 140590642902848 ubc_nfsp.py:92] Creating NFSP using device: cuda for player 1\n",
      "I0208 02:52:50.794346 140590642902848 ubc_dqn.py:247] Double DQN activated for player 1\n",
      "I0208 02:52:50.794451 140590642902848 ubc_dqn.py:281] Creating DQN using device: cuda for player 1\n",
      "I0208 02:52:50.808205 140590642902848 ubc_nfsp_example.py:340] EVALUATION AT ITERATION 1\n",
      "I0208 02:52:52.259443 140590642902848 ubc_nfsp_example.py:340] EVALUATION AT ITERATION 1000\n",
      "Traceback (most recent call last):\n",
      "  File \"/apps/open_spiel/open_spiel/python/examples/ubc_nfsp_example.py\", line 396, in <module>\n",
      "    app.run(main)\n",
      "  File \"/apps/open_spiel/venv/lib/python3.6/site-packages/absl/app.py\", line 312, in run\n",
      "    _run_main(main, args)\n",
      "  File \"/apps/open_spiel/venv/lib/python3.6/site-packages/absl/app.py\", line 258, in _run_main\n",
      "    sys.exit(main(argv))\n",
      "  File \"/apps/open_spiel/open_spiel/python/examples/ubc_nfsp_example.py\", line 318, in main\n",
      "    agent_output = agent.step(time_step)\n",
      "  File \"/apps/open_spiel/open_spiel/python/pytorch/ubc_nfsp.py\", line 190, in step\n",
      "    agent_output = self._rl_agent.step(time_step, is_evaluation)\n",
      "  File \"/apps/open_spiel/open_spiel/python/pytorch/ubc_dqn.py\", line 333, in step\n",
      "    self._last_loss_value = self.learn()\n",
      "  File \"/apps/open_spiel/open_spiel/python/pytorch/ubc_dqn.py\", line 521, in learn\n",
      "    raise ValueError(\"NaN loss - is your RL learning rate too high?\")\n",
      "ValueError: NaN loss - is your RL learning rate too high?\n"
     ]
    }
   ],
   "source": [
    "!python /apps/open_spiel/open_spiel/python/examples/ubc_nfsp_example.py --alsologtostderr -- --filename large_game_2.json --network_config_file /apps/open_spiel/open_spiel/python/examples/notebooks/configs/feb4/mlp.yml --output_dir /shared/outputs/test/mlp --dispatch_br false --num_training_episodes 5_000_000 --eval_every 1000 --eval_every_early 50_000 --eval_zero true --br_portfolio /apps/open_spiel/open_spiel/python/examples/notebooks/configs/feb4 --iterate_br true --rl_learning_rate 5200 --report_freq 5000"
   ]
  },
  {
   "cell_type": "code",
   "execution_count": null,
   "id": "5add6847-2911-4da1-8bf5-d8783f1e0e2b",
   "metadata": {},
   "outputs": [],
   "source": []
  }
 ],
 "metadata": {
  "kernelspec": {
   "display_name": "Python 3",
   "language": "python",
   "name": "python3"
  },
  "language_info": {
   "codemirror_mode": {
    "name": "ipython",
    "version": 3
   },
   "file_extension": ".py",
   "mimetype": "text/x-python",
   "name": "python",
   "nbconvert_exporter": "python",
   "pygments_lexer": "ipython3",
   "version": "3.6.9"
  }
 },
 "nbformat": 4,
 "nbformat_minor": 5
}
