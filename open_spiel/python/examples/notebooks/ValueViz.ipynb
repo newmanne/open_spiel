{
 "cells": [
  {
   "cell_type": "code",
   "execution_count": 47,
   "id": "2e8c1ff4-dfe1-40a5-96d7-99c0712cd615",
   "metadata": {},
   "outputs": [],
   "source": [
    "%load_ext autoreload\n",
    "%autoreload 2\n",
    "%matplotlib inline"
   ]
  },
  {
   "cell_type": "code",
   "execution_count": 70,
   "id": "443a96a5-1245-453f-85b7-41c53fc921ec",
   "metadata": {},
   "outputs": [
    {
     "data": {
      "text/html": [
       "\n",
       "    <div class=\"bk-root\">\n",
       "        <a href=\"https://bokeh.org\" target=\"_blank\" class=\"bk-logo bk-logo-small bk-logo-notebook\"></a>\n",
       "        <span id=\"6145\">Loading BokehJS ...</span>\n",
       "    </div>"
      ]
     },
     "metadata": {},
     "output_type": "display_data"
    },
    {
     "data": {
      "application/javascript": [
       "\n",
       "(function(root) {\n",
       "  function now() {\n",
       "    return new Date();\n",
       "  }\n",
       "\n",
       "  const force = true;\n",
       "\n",
       "  if (typeof root._bokeh_onload_callbacks === \"undefined\" || force === true) {\n",
       "    root._bokeh_onload_callbacks = [];\n",
       "    root._bokeh_is_loading = undefined;\n",
       "  }\n",
       "\n",
       "  const JS_MIME_TYPE = 'application/javascript';\n",
       "  const HTML_MIME_TYPE = 'text/html';\n",
       "  const EXEC_MIME_TYPE = 'application/vnd.bokehjs_exec.v0+json';\n",
       "  const CLASS_NAME = 'output_bokeh rendered_html';\n",
       "\n",
       "  /**\n",
       "   * Render data to the DOM node\n",
       "   */\n",
       "  function render(props, node) {\n",
       "    const script = document.createElement(\"script\");\n",
       "    node.appendChild(script);\n",
       "  }\n",
       "\n",
       "  /**\n",
       "   * Handle when an output is cleared or removed\n",
       "   */\n",
       "  function handleClearOutput(event, handle) {\n",
       "    const cell = handle.cell;\n",
       "\n",
       "    const id = cell.output_area._bokeh_element_id;\n",
       "    const server_id = cell.output_area._bokeh_server_id;\n",
       "    // Clean up Bokeh references\n",
       "    if (id != null && id in Bokeh.index) {\n",
       "      Bokeh.index[id].model.document.clear();\n",
       "      delete Bokeh.index[id];\n",
       "    }\n",
       "\n",
       "    if (server_id !== undefined) {\n",
       "      // Clean up Bokeh references\n",
       "      const cmd_clean = \"from bokeh.io.state import curstate; print(curstate().uuid_to_server['\" + server_id + \"'].get_sessions()[0].document.roots[0]._id)\";\n",
       "      cell.notebook.kernel.execute(cmd_clean, {\n",
       "        iopub: {\n",
       "          output: function(msg) {\n",
       "            const id = msg.content.text.trim();\n",
       "            if (id in Bokeh.index) {\n",
       "              Bokeh.index[id].model.document.clear();\n",
       "              delete Bokeh.index[id];\n",
       "            }\n",
       "          }\n",
       "        }\n",
       "      });\n",
       "      // Destroy server and session\n",
       "      const cmd_destroy = \"import bokeh.io.notebook as ion; ion.destroy_server('\" + server_id + \"')\";\n",
       "      cell.notebook.kernel.execute(cmd_destroy);\n",
       "    }\n",
       "  }\n",
       "\n",
       "  /**\n",
       "   * Handle when a new output is added\n",
       "   */\n",
       "  function handleAddOutput(event, handle) {\n",
       "    const output_area = handle.output_area;\n",
       "    const output = handle.output;\n",
       "\n",
       "    // limit handleAddOutput to display_data with EXEC_MIME_TYPE content only\n",
       "    if ((output.output_type != \"display_data\") || (!Object.prototype.hasOwnProperty.call(output.data, EXEC_MIME_TYPE))) {\n",
       "      return\n",
       "    }\n",
       "\n",
       "    const toinsert = output_area.element.find(\".\" + CLASS_NAME.split(' ')[0]);\n",
       "\n",
       "    if (output.metadata[EXEC_MIME_TYPE][\"id\"] !== undefined) {\n",
       "      toinsert[toinsert.length - 1].firstChild.textContent = output.data[JS_MIME_TYPE];\n",
       "      // store reference to embed id on output_area\n",
       "      output_area._bokeh_element_id = output.metadata[EXEC_MIME_TYPE][\"id\"];\n",
       "    }\n",
       "    if (output.metadata[EXEC_MIME_TYPE][\"server_id\"] !== undefined) {\n",
       "      const bk_div = document.createElement(\"div\");\n",
       "      bk_div.innerHTML = output.data[HTML_MIME_TYPE];\n",
       "      const script_attrs = bk_div.children[0].attributes;\n",
       "      for (let i = 0; i < script_attrs.length; i++) {\n",
       "        toinsert[toinsert.length - 1].firstChild.setAttribute(script_attrs[i].name, script_attrs[i].value);\n",
       "        toinsert[toinsert.length - 1].firstChild.textContent = bk_div.children[0].textContent\n",
       "      }\n",
       "      // store reference to server id on output_area\n",
       "      output_area._bokeh_server_id = output.metadata[EXEC_MIME_TYPE][\"server_id\"];\n",
       "    }\n",
       "  }\n",
       "\n",
       "  function register_renderer(events, OutputArea) {\n",
       "\n",
       "    function append_mime(data, metadata, element) {\n",
       "      // create a DOM node to render to\n",
       "      const toinsert = this.create_output_subarea(\n",
       "        metadata,\n",
       "        CLASS_NAME,\n",
       "        EXEC_MIME_TYPE\n",
       "      );\n",
       "      this.keyboard_manager.register_events(toinsert);\n",
       "      // Render to node\n",
       "      const props = {data: data, metadata: metadata[EXEC_MIME_TYPE]};\n",
       "      render(props, toinsert[toinsert.length - 1]);\n",
       "      element.append(toinsert);\n",
       "      return toinsert\n",
       "    }\n",
       "\n",
       "    /* Handle when an output is cleared or removed */\n",
       "    events.on('clear_output.CodeCell', handleClearOutput);\n",
       "    events.on('delete.Cell', handleClearOutput);\n",
       "\n",
       "    /* Handle when a new output is added */\n",
       "    events.on('output_added.OutputArea', handleAddOutput);\n",
       "\n",
       "    /**\n",
       "     * Register the mime type and append_mime function with output_area\n",
       "     */\n",
       "    OutputArea.prototype.register_mime_type(EXEC_MIME_TYPE, append_mime, {\n",
       "      /* Is output safe? */\n",
       "      safe: true,\n",
       "      /* Index of renderer in `output_area.display_order` */\n",
       "      index: 0\n",
       "    });\n",
       "  }\n",
       "\n",
       "  // register the mime type if in Jupyter Notebook environment and previously unregistered\n",
       "  if (root.Jupyter !== undefined) {\n",
       "    const events = require('base/js/events');\n",
       "    const OutputArea = require('notebook/js/outputarea').OutputArea;\n",
       "\n",
       "    if (OutputArea.prototype.mime_types().indexOf(EXEC_MIME_TYPE) == -1) {\n",
       "      register_renderer(events, OutputArea);\n",
       "    }\n",
       "  }\n",
       "\n",
       "  \n",
       "  if (typeof (root._bokeh_timeout) === \"undefined\" || force === true) {\n",
       "    root._bokeh_timeout = Date.now() + 5000;\n",
       "    root._bokeh_failed_load = false;\n",
       "  }\n",
       "\n",
       "  const NB_LOAD_WARNING = {'data': {'text/html':\n",
       "     \"<div style='background-color: #fdd'>\\n\"+\n",
       "     \"<p>\\n\"+\n",
       "     \"BokehJS does not appear to have successfully loaded. If loading BokehJS from CDN, this \\n\"+\n",
       "     \"may be due to a slow or bad network connection. Possible fixes:\\n\"+\n",
       "     \"</p>\\n\"+\n",
       "     \"<ul>\\n\"+\n",
       "     \"<li>re-rerun `output_notebook()` to attempt to load from CDN again, or</li>\\n\"+\n",
       "     \"<li>use INLINE resources instead, as so:</li>\\n\"+\n",
       "     \"</ul>\\n\"+\n",
       "     \"<code>\\n\"+\n",
       "     \"from bokeh.resources import INLINE\\n\"+\n",
       "     \"output_notebook(resources=INLINE)\\n\"+\n",
       "     \"</code>\\n\"+\n",
       "     \"</div>\"}};\n",
       "\n",
       "  function display_loaded() {\n",
       "    const el = document.getElementById(\"6145\");\n",
       "    if (el != null) {\n",
       "      el.textContent = \"BokehJS is loading...\";\n",
       "    }\n",
       "    if (root.Bokeh !== undefined) {\n",
       "      if (el != null) {\n",
       "        el.textContent = \"BokehJS \" + root.Bokeh.version + \" successfully loaded.\";\n",
       "      }\n",
       "    } else if (Date.now() < root._bokeh_timeout) {\n",
       "      setTimeout(display_loaded, 100)\n",
       "    }\n",
       "  }\n",
       "\n",
       "\n",
       "  function run_callbacks() {\n",
       "    try {\n",
       "      root._bokeh_onload_callbacks.forEach(function(callback) {\n",
       "        if (callback != null)\n",
       "          callback();\n",
       "      });\n",
       "    } finally {\n",
       "      delete root._bokeh_onload_callbacks\n",
       "    }\n",
       "    console.debug(\"Bokeh: all callbacks have finished\");\n",
       "  }\n",
       "\n",
       "  function load_libs(css_urls, js_urls, callback) {\n",
       "    if (css_urls == null) css_urls = [];\n",
       "    if (js_urls == null) js_urls = [];\n",
       "\n",
       "    root._bokeh_onload_callbacks.push(callback);\n",
       "    if (root._bokeh_is_loading > 0) {\n",
       "      console.debug(\"Bokeh: BokehJS is being loaded, scheduling callback at\", now());\n",
       "      return null;\n",
       "    }\n",
       "    if (js_urls == null || js_urls.length === 0) {\n",
       "      run_callbacks();\n",
       "      return null;\n",
       "    }\n",
       "    console.debug(\"Bokeh: BokehJS not loaded, scheduling load and callback at\", now());\n",
       "    root._bokeh_is_loading = css_urls.length + js_urls.length;\n",
       "\n",
       "    function on_load() {\n",
       "      root._bokeh_is_loading--;\n",
       "      if (root._bokeh_is_loading === 0) {\n",
       "        console.debug(\"Bokeh: all BokehJS libraries/stylesheets loaded\");\n",
       "        run_callbacks()\n",
       "      }\n",
       "    }\n",
       "\n",
       "    function on_error(url) {\n",
       "      console.error(\"failed to load \" + url);\n",
       "    }\n",
       "\n",
       "    for (let i = 0; i < css_urls.length; i++) {\n",
       "      const url = css_urls[i];\n",
       "      const element = document.createElement(\"link\");\n",
       "      element.onload = on_load;\n",
       "      element.onerror = on_error.bind(null, url);\n",
       "      element.rel = \"stylesheet\";\n",
       "      element.type = \"text/css\";\n",
       "      element.href = url;\n",
       "      console.debug(\"Bokeh: injecting link tag for BokehJS stylesheet: \", url);\n",
       "      document.body.appendChild(element);\n",
       "    }\n",
       "\n",
       "    for (let i = 0; i < js_urls.length; i++) {\n",
       "      const url = js_urls[i];\n",
       "      const element = document.createElement('script');\n",
       "      element.onload = on_load;\n",
       "      element.onerror = on_error.bind(null, url);\n",
       "      element.async = false;\n",
       "      element.src = url;\n",
       "      console.debug(\"Bokeh: injecting script tag for BokehJS library: \", url);\n",
       "      document.head.appendChild(element);\n",
       "    }\n",
       "  };\n",
       "\n",
       "  function inject_raw_css(css) {\n",
       "    const element = document.createElement(\"style\");\n",
       "    element.appendChild(document.createTextNode(css));\n",
       "    document.body.appendChild(element);\n",
       "  }\n",
       "\n",
       "  \n",
       "  const js_urls = [\"https://cdn.bokeh.org/bokeh/release/bokeh-2.4.2.min.js\", \"https://cdn.bokeh.org/bokeh/release/bokeh-gl-2.4.2.min.js\", \"https://cdn.bokeh.org/bokeh/release/bokeh-widgets-2.4.2.min.js\", \"https://cdn.bokeh.org/bokeh/release/bokeh-tables-2.4.2.min.js\", \"https://cdn.bokeh.org/bokeh/release/bokeh-mathjax-2.4.2.min.js\"];\n",
       "  const css_urls = [];\n",
       "  \n",
       "\n",
       "  const inline_js = [\n",
       "    function(Bokeh) {\n",
       "      Bokeh.set_log_level(\"info\");\n",
       "    },\n",
       "    function(Bokeh) {\n",
       "    \n",
       "    \n",
       "    }\n",
       "  ];\n",
       "\n",
       "  function run_inline_js() {\n",
       "    \n",
       "    if (root.Bokeh !== undefined || force === true) {\n",
       "      \n",
       "    for (let i = 0; i < inline_js.length; i++) {\n",
       "      inline_js[i].call(root, root.Bokeh);\n",
       "    }\n",
       "    if (force === true) {\n",
       "        display_loaded();\n",
       "      }} else if (Date.now() < root._bokeh_timeout) {\n",
       "      setTimeout(run_inline_js, 100);\n",
       "    } else if (!root._bokeh_failed_load) {\n",
       "      console.log(\"Bokeh: BokehJS failed to load within specified timeout.\");\n",
       "      root._bokeh_failed_load = true;\n",
       "    } else if (force !== true) {\n",
       "      const cell = $(document.getElementById(\"6145\")).parents('.cell').data().cell;\n",
       "      cell.output_area.append_execute_result(NB_LOAD_WARNING)\n",
       "    }\n",
       "\n",
       "  }\n",
       "\n",
       "  if (root._bokeh_is_loading === 0) {\n",
       "    console.debug(\"Bokeh: BokehJS loaded, going straight to plotting\");\n",
       "    run_inline_js();\n",
       "  } else {\n",
       "    load_libs(css_urls, js_urls, function() {\n",
       "      console.debug(\"Bokeh: BokehJS plotting callback run at\", now());\n",
       "      run_inline_js();\n",
       "    });\n",
       "  }\n",
       "}(window));"
      ],
      "application/vnd.bokehjs_load.v0+json": "\n(function(root) {\n  function now() {\n    return new Date();\n  }\n\n  const force = true;\n\n  if (typeof root._bokeh_onload_callbacks === \"undefined\" || force === true) {\n    root._bokeh_onload_callbacks = [];\n    root._bokeh_is_loading = undefined;\n  }\n\n  \n\n  \n  if (typeof (root._bokeh_timeout) === \"undefined\" || force === true) {\n    root._bokeh_timeout = Date.now() + 5000;\n    root._bokeh_failed_load = false;\n  }\n\n  const NB_LOAD_WARNING = {'data': {'text/html':\n     \"<div style='background-color: #fdd'>\\n\"+\n     \"<p>\\n\"+\n     \"BokehJS does not appear to have successfully loaded. If loading BokehJS from CDN, this \\n\"+\n     \"may be due to a slow or bad network connection. Possible fixes:\\n\"+\n     \"</p>\\n\"+\n     \"<ul>\\n\"+\n     \"<li>re-rerun `output_notebook()` to attempt to load from CDN again, or</li>\\n\"+\n     \"<li>use INLINE resources instead, as so:</li>\\n\"+\n     \"</ul>\\n\"+\n     \"<code>\\n\"+\n     \"from bokeh.resources import INLINE\\n\"+\n     \"output_notebook(resources=INLINE)\\n\"+\n     \"</code>\\n\"+\n     \"</div>\"}};\n\n  function display_loaded() {\n    const el = document.getElementById(\"6145\");\n    if (el != null) {\n      el.textContent = \"BokehJS is loading...\";\n    }\n    if (root.Bokeh !== undefined) {\n      if (el != null) {\n        el.textContent = \"BokehJS \" + root.Bokeh.version + \" successfully loaded.\";\n      }\n    } else if (Date.now() < root._bokeh_timeout) {\n      setTimeout(display_loaded, 100)\n    }\n  }\n\n\n  function run_callbacks() {\n    try {\n      root._bokeh_onload_callbacks.forEach(function(callback) {\n        if (callback != null)\n          callback();\n      });\n    } finally {\n      delete root._bokeh_onload_callbacks\n    }\n    console.debug(\"Bokeh: all callbacks have finished\");\n  }\n\n  function load_libs(css_urls, js_urls, callback) {\n    if (css_urls == null) css_urls = [];\n    if (js_urls == null) js_urls = [];\n\n    root._bokeh_onload_callbacks.push(callback);\n    if (root._bokeh_is_loading > 0) {\n      console.debug(\"Bokeh: BokehJS is being loaded, scheduling callback at\", now());\n      return null;\n    }\n    if (js_urls == null || js_urls.length === 0) {\n      run_callbacks();\n      return null;\n    }\n    console.debug(\"Bokeh: BokehJS not loaded, scheduling load and callback at\", now());\n    root._bokeh_is_loading = css_urls.length + js_urls.length;\n\n    function on_load() {\n      root._bokeh_is_loading--;\n      if (root._bokeh_is_loading === 0) {\n        console.debug(\"Bokeh: all BokehJS libraries/stylesheets loaded\");\n        run_callbacks()\n      }\n    }\n\n    function on_error(url) {\n      console.error(\"failed to load \" + url);\n    }\n\n    for (let i = 0; i < css_urls.length; i++) {\n      const url = css_urls[i];\n      const element = document.createElement(\"link\");\n      element.onload = on_load;\n      element.onerror = on_error.bind(null, url);\n      element.rel = \"stylesheet\";\n      element.type = \"text/css\";\n      element.href = url;\n      console.debug(\"Bokeh: injecting link tag for BokehJS stylesheet: \", url);\n      document.body.appendChild(element);\n    }\n\n    for (let i = 0; i < js_urls.length; i++) {\n      const url = js_urls[i];\n      const element = document.createElement('script');\n      element.onload = on_load;\n      element.onerror = on_error.bind(null, url);\n      element.async = false;\n      element.src = url;\n      console.debug(\"Bokeh: injecting script tag for BokehJS library: \", url);\n      document.head.appendChild(element);\n    }\n  };\n\n  function inject_raw_css(css) {\n    const element = document.createElement(\"style\");\n    element.appendChild(document.createTextNode(css));\n    document.body.appendChild(element);\n  }\n\n  \n  const js_urls = [\"https://cdn.bokeh.org/bokeh/release/bokeh-2.4.2.min.js\", \"https://cdn.bokeh.org/bokeh/release/bokeh-gl-2.4.2.min.js\", \"https://cdn.bokeh.org/bokeh/release/bokeh-widgets-2.4.2.min.js\", \"https://cdn.bokeh.org/bokeh/release/bokeh-tables-2.4.2.min.js\", \"https://cdn.bokeh.org/bokeh/release/bokeh-mathjax-2.4.2.min.js\"];\n  const css_urls = [];\n  \n\n  const inline_js = [\n    function(Bokeh) {\n      Bokeh.set_log_level(\"info\");\n    },\n    function(Bokeh) {\n    \n    \n    }\n  ];\n\n  function run_inline_js() {\n    \n    if (root.Bokeh !== undefined || force === true) {\n      \n    for (let i = 0; i < inline_js.length; i++) {\n      inline_js[i].call(root, root.Bokeh);\n    }\n    if (force === true) {\n        display_loaded();\n      }} else if (Date.now() < root._bokeh_timeout) {\n      setTimeout(run_inline_js, 100);\n    } else if (!root._bokeh_failed_load) {\n      console.log(\"Bokeh: BokehJS failed to load within specified timeout.\");\n      root._bokeh_failed_load = true;\n    } else if (force !== true) {\n      const cell = $(document.getElementById(\"6145\")).parents('.cell').data().cell;\n      cell.output_area.append_execute_result(NB_LOAD_WARNING)\n    }\n\n  }\n\n  if (root._bokeh_is_loading === 0) {\n    console.debug(\"Bokeh: BokehJS loaded, going straight to plotting\");\n    run_inline_js();\n  } else {\n    load_libs(css_urls, js_urls, function() {\n      console.debug(\"Bokeh: BokehJS plotting callback run at\", now());\n      run_inline_js();\n    });\n  }\n}(window));"
     },
     "metadata": {},
     "output_type": "display_data"
    }
   ],
   "source": [
    "import pyspiel\n",
    "import open_spiel.python.games\n",
    "from open_spiel.python.observation import make_observation\n",
    "from open_spiel.python.examples.ubc_decorators import TakeSingleActionDecorator\n",
    "from open_spiel.python.examples.straightforward_agent import StraightforwardAgent\n",
    "from open_spiel.python.pytorch.mutations import *\n",
    "from open_spiel.python.examples.ppo_utils import EnvParams\n",
    "from open_spiel.python.examples.ppo_eval import eval_agents_parallel\n",
    "from open_spiel.python.env_decorator import *\n",
    "\n",
    "from auctions.webutils import *\n",
    "import os\n",
    "os.environ[\"DJANGO_ALLOW_ASYNC_UNSAFE\"] = \"true\"\n",
    "\n",
    "import sys\n",
    "import glob\n",
    "import pandas as pd\n",
    "import os\n",
    "import seaborn as sns\n",
    "\n",
    "from tqdm import tqdm\n",
    "from statsmodels.distributions.empirical_distribution import ECDF\n",
    "from collections import defaultdict\n",
    "import pickle\n",
    "import re\n",
    "import json\n",
    "import numpy as np \n",
    "import pandas as pd\n",
    "from absl import logging\n",
    "import tempfile\n",
    "import subprocess\n",
    "\n",
    "import open_spiel.python.games\n",
    "from open_spiel.python.examples.ubc_utils import *\n",
    "from open_spiel.python.algorithms.exploitability import nash_conv, best_response\n",
    "\n",
    "import bokeh\n",
    "from bokeh.io import curdoc\n",
    "from bokeh.plotting import figure, show, output_file, save\n",
    "from bokeh.layouts import row, column\n",
    "from bokeh.io import output_notebook\n",
    "from bokeh.models import HoverTool, ColumnDataSource, ColorBar, LogColorMapper, LinearColorMapper\n",
    "from bokeh.transform import linear_cmap, log_cmap, factor_cmap\n",
    "from bokeh.palettes import Category10_10, Magma256, Spectral10, Category20_20\n",
    "from bokeh.models import LinearAxis, Range1d\n",
    "from bokeh.models import ColumnDataSource, FactorRange\n",
    "\n",
    "from bokeh.resources import CDN\n",
    "from bokeh.embed import file_html\n",
    "\n",
    "from pathlib import Path\n",
    "\n",
    "import matplotlib.pyplot as plt\n",
    "import seaborn as sns\n",
    "from django.db.models import F\n",
    "from auctions.models import *\n",
    "\n",
    "import bokeh\n",
    "from bokeh.layouts import row, column\n",
    "from bokeh.plotting import figure, show, output_file, save\n",
    "from bokeh.io import output_notebook\n",
    "from bokeh.models import HoverTool, ColumnDataSource, ColorBar, LogColorMapper, LinearColorMapper\n",
    "from bokeh.transform import linear_cmap, log_cmap\n",
    "from bokeh.palettes import Category10_10, Magma256, Spectral10, Category20_20\n",
    "os.environ[\"DJANGO_ALLOW_ASYNC_UNSAFE\"] = \"true\"\n",
    "from open_spiel.python.examples.ubc_cma import *\n",
    "\n",
    "import itertools\n",
    "output_notebook()\n",
    "from open_spiel.python.examples.ubc_cma import *\n",
    "from open_spiel.python.examples.env_and_policy import *\n",
    "from open_spiel.python.examples.ppo_eval import run_eval\n",
    "from open_spiel.python.examples.straightforward_agent import StraightforwardAgent"
   ]
  },
  {
   "cell_type": "code",
   "execution_count": 71,
   "id": "4f37cb8f-a677-434c-8f11-e27ed6c0a236",
   "metadata": {},
   "outputs": [],
   "source": [
    "# GAME_NAME = 'confused_national'\n",
    "# GAME_NAME = 'all_confused_with_local'\n",
    "# GAME_NAME = '2rvn'\n",
    "# GAME_NAME = 'all_confused'\n",
    "# GAME_NAME = 'regional_vs_national'\n",
    "# GAME_NAME = 'very_small_sats_complete_symmetric'\n",
    "# GAME_NAME = 'may17'\n",
    "\n",
    "\n",
    "# GAME_NAME = 'may17'\n",
    "\n",
    "\n",
    "\n",
    "# PYSATS = '/apps/sats/python'\n",
    "# !python {PYSATS}/pysats.py --config_file {PYSATS}/{GAME_NAME}.yml --seed 777 --output_file {PYSATS}/{GAME_NAME}.json\n",
    "# GAME_NAME = f'{PYSATS}/{GAME_NAME}'"
   ]
  },
  {
   "cell_type": "code",
   "execution_count": 72,
   "id": "a1ff909f-3385-473e-9dec-e3705d962fee",
   "metadata": {},
   "outputs": [],
   "source": [
    "# # GAME_NAME = 'sats_2regions_2licenses_2players_5types'\n",
    "# GAME_NAME = 'confused_national'\n",
    "# # GAME_NAME = '/apps/sats/python/regional_vs_national'"
   ]
  },
  {
   "cell_type": "code",
   "execution_count": 73,
   "id": "002ff431-95bf-4b61-b2d1-d06ead98c392",
   "metadata": {},
   "outputs": [],
   "source": [
    "# GAME_NAME = 'jun2/jun2_4_base'\n",
    "GAME_NAME = 'jun5/jun5_0_base'\n"
   ]
  },
  {
   "cell_type": "code",
   "execution_count": 74,
   "id": "6e096029-75fa-4d5f-b508-33d8f8f8bc2b",
   "metadata": {},
   "outputs": [],
   "source": [
    "game = pyspiel.load_game('python_clock_auction', dict(filename=f'{GAME_NAME}.json'))"
   ]
  },
  {
   "cell_type": "code",
   "execution_count": 75,
   "id": "b18bcfc2-3dcd-44e5-b14d-14aee76f69df",
   "metadata": {},
   "outputs": [],
   "source": [
    "FACTOR_OPENING_PRICES = True\n",
    "# FACTOR_OPENING_PRICES = False"
   ]
  },
  {
   "cell_type": "code",
   "execution_count": 76,
   "id": "81cafe34-5f91-4bd9-b2f0-c0d0a2325e4d",
   "metadata": {},
   "outputs": [
    {
     "data": {
      "text/html": [
       "\n",
       "\n",
       "\n",
       "\n",
       "\n",
       "\n",
       "  <div class=\"bk-root\" id=\"faee9d6b-ba38-46a4-be01-ba0d64d71d22\" data-root-id=\"6148\"></div>\n"
      ]
     },
     "metadata": {},
     "output_type": "display_data"
    },
    {
     "data": {
      "application/javascript": [
       "(function(root) {\n",
       "  function embed_document(root) {\n",
       "    \n",
       "  const docs_json = {\"14fde29e-4f84-4a9b-a7fe-8d2b5b05e4c8\":{\"defs\":[],\"roots\":{\"references\":[{\"attributes\":{\"below\":[{\"id\":\"6156\"}],\"center\":[{\"id\":\"6158\"},{\"id\":\"6162\"},{\"id\":\"6190\"}],\"height\":250,\"left\":[{\"id\":\"6159\"}],\"renderers\":[{\"id\":\"6178\"},{\"id\":\"6196\"},{\"id\":\"6213\"},{\"id\":\"6230\"}],\"right\":[{\"id\":\"6190\"}],\"title\":{\"id\":\"6180\"},\"toolbar\":{\"id\":\"6164\"},\"toolbar_location\":null,\"x_range\":{\"id\":\"6147\"},\"x_scale\":{\"id\":\"6152\"},\"y_range\":{\"id\":\"6150\"},\"y_scale\":{\"id\":\"6154\"}},\"id\":\"6148\",\"subtype\":\"Figure\",\"type\":\"Plot\"},{\"attributes\":{\"label\":{\"value\":\"1\"},\"renderers\":[{\"id\":\"6178\"}]},\"id\":\"6191\",\"type\":\"LegendItem\"},{\"attributes\":{\"fields\":[\"1\"]},\"id\":\"6168\",\"type\":\"Stack\"},{\"attributes\":{\"coordinates\":null,\"group\":null,\"text\":\"Player 0\"},\"id\":\"6180\",\"type\":\"Title\"},{\"attributes\":{\"fields\":[\"1\",\"2\",\"3\"]},\"id\":\"6171\",\"type\":\"Stack\"},{\"attributes\":{\"axis\":{\"id\":\"6159\"},\"coordinates\":null,\"dimension\":1,\"group\":null,\"ticker\":null},\"id\":\"6162\",\"type\":\"Grid\"},{\"attributes\":{\"data\":{\"1\":{\"__ndarray__\":\"AAAAAAAwckAAAAAAAAAAAAAAAAAAACRAAAAAAAAAKEA=\",\"dtype\":\"float64\",\"order\":\"little\",\"shape\":[4]},\"2\":{\"__ndarray__\":\"AAAAAAAA+H8AAAAAAAD4fwAAAAAAABhAAAAAAAAAEEA=\",\"dtype\":\"float64\",\"order\":\"little\",\"shape\":[4]},\"3\":{\"__ndarray__\":\"AAAAAAAA+H8AAAAAAAD4fwAAAAAAAABAAAAAAAAA8D8=\",\"dtype\":\"float64\",\"order\":\"little\",\"shape\":[4]},\"4\":{\"__ndarray__\":\"AAAAAAAA+H8AAAAAAAD4fwAAAAAAAC5AAAAAAAAAJEA=\",\"dtype\":\"float64\",\"order\":\"little\",\"shape\":[4]},\"index\":[0,1,2,3],\"x\":[[\"Ontario\",\"0_national\"],[\"Ontario\",\"1_local\"],[\"Quebec\",\"0_national\"],[\"Quebec\",\"1_local\"]]},\"selected\":{\"id\":\"6189\"},\"selection_policy\":{\"id\":\"6188\"}},\"id\":\"6146\",\"type\":\"ColumnDataSource\"},{\"attributes\":{},\"id\":\"6183\",\"type\":\"BasicTickFormatter\"},{\"attributes\":{\"click_policy\":\"mute\",\"coordinates\":null,\"group\":null,\"items\":[{\"id\":\"6191\"},{\"id\":\"6208\"},{\"id\":\"6225\"},{\"id\":\"6242\"}],\"location\":\"top_center\",\"orientation\":\"horizontal\"},\"id\":\"6190\",\"type\":\"Legend\"},{\"attributes\":{\"bottom\":{\"expr\":{\"id\":\"6166\"}},\"fill_alpha\":{\"value\":0.5},\"fill_color\":{\"value\":\"#1f77b4\"},\"hatch_alpha\":{\"value\":0.5},\"hatch_color\":{\"value\":\"#1f77b4\"},\"line_alpha\":{\"value\":0.5},\"line_color\":{\"value\":\"#1f77b4\"},\"top\":{\"expr\":{\"id\":\"6167\"}},\"width\":{\"value\":0.9},\"x\":{\"field\":\"x\"}},\"id\":\"6175\",\"type\":\"VBar\"},{\"attributes\":{},\"id\":\"6184\",\"type\":\"AllLabels\"},{\"attributes\":{},\"id\":\"6152\",\"type\":\"CategoricalScale\"},{\"attributes\":{},\"id\":\"6150\",\"type\":\"DataRange1d\"},{\"attributes\":{},\"id\":\"6186\",\"type\":\"CategoricalTickFormatter\"},{\"attributes\":{\"tools\":[{\"id\":\"6163\"}]},\"id\":\"6164\",\"type\":\"Toolbar\"},{\"attributes\":{\"axis\":{\"id\":\"6156\"},\"coordinates\":null,\"grid_line_color\":null,\"group\":null,\"ticker\":null},\"id\":\"6158\",\"type\":\"Grid\"},{\"attributes\":{\"factors\":[[\"Ontario\",\"0_national\"],[\"Ontario\",\"1_local\"],[\"Quebec\",\"0_national\"],[\"Quebec\",\"1_local\"]],\"range_padding\":0.1},\"id\":\"6147\",\"type\":\"FactorRange\"},{\"attributes\":{},\"id\":\"6154\",\"type\":\"LinearScale\"},{\"attributes\":{},\"id\":\"6157\",\"type\":\"CategoricalTicker\"},{\"attributes\":{\"coordinates\":null,\"formatter\":{\"id\":\"6183\"},\"group\":null,\"major_label_policy\":{\"id\":\"6184\"},\"ticker\":{\"id\":\"6160\"}},\"id\":\"6159\",\"type\":\"LinearAxis\"},{\"attributes\":{},\"id\":\"6189\",\"type\":\"Selection\"},{\"attributes\":{},\"id\":\"6188\",\"type\":\"UnionRenderers\"},{\"attributes\":{\"coordinates\":null,\"formatter\":{\"id\":\"6186\"},\"group\":null,\"major_label_orientation\":1,\"major_label_policy\":{\"id\":\"6187\"},\"ticker\":{\"id\":\"6157\"}},\"id\":\"6156\",\"type\":\"CategoricalAxis\"},{\"attributes\":{\"coordinates\":null,\"data_source\":{\"id\":\"6146\"},\"glyph\":{\"id\":\"6175\"},\"group\":null,\"hover_glyph\":null,\"muted_glyph\":{\"id\":\"6177\"},\"name\":\"1\",\"nonselection_glyph\":{\"id\":\"6176\"},\"view\":{\"id\":\"6179\"}},\"id\":\"6178\",\"type\":\"GlyphRenderer\"},{\"attributes\":{},\"id\":\"6160\",\"type\":\"BasicTicker\"},{\"attributes\":{\"fields\":[]},\"id\":\"6166\",\"type\":\"Stack\"},{\"attributes\":{\"bottom\":{\"expr\":{\"id\":\"6168\"}},\"fill_alpha\":{\"value\":0.5},\"fill_color\":{\"value\":\"#ff7f0e\"},\"hatch_alpha\":{\"value\":0.5},\"hatch_color\":{\"value\":\"#ff7f0e\"},\"line_alpha\":{\"value\":0.5},\"line_color\":{\"value\":\"#ff7f0e\"},\"top\":{\"expr\":{\"id\":\"6169\"}},\"width\":{\"value\":0.9},\"x\":{\"field\":\"x\"}},\"id\":\"6193\",\"type\":\"VBar\"},{\"attributes\":{\"fields\":[\"1\",\"2\",\"3\",\"4\"]},\"id\":\"6173\",\"type\":\"Stack\"},{\"attributes\":{\"fields\":[\"1\",\"2\",\"3\"]},\"id\":\"6172\",\"type\":\"Stack\"},{\"attributes\":{\"fields\":[\"1\",\"2\"]},\"id\":\"6169\",\"type\":\"Stack\"},{\"attributes\":{\"bottom\":{\"expr\":{\"id\":\"6168\"}},\"fill_alpha\":{\"value\":0.1},\"fill_color\":{\"value\":\"#ff7f0e\"},\"hatch_alpha\":{\"value\":0.1},\"hatch_color\":{\"value\":\"#ff7f0e\"},\"line_alpha\":{\"value\":0.1},\"line_color\":{\"value\":\"#ff7f0e\"},\"top\":{\"expr\":{\"id\":\"6169\"}},\"width\":{\"value\":0.9},\"x\":{\"field\":\"x\"}},\"id\":\"6194\",\"type\":\"VBar\"},{\"attributes\":{\"bottom\":{\"expr\":{\"id\":\"6170\"}},\"fill_alpha\":{\"value\":0.5},\"fill_color\":{\"value\":\"#2ca02c\"},\"hatch_alpha\":{\"value\":0.5},\"hatch_color\":{\"value\":\"#2ca02c\"},\"line_alpha\":{\"value\":0.5},\"line_color\":{\"value\":\"#2ca02c\"},\"top\":{\"expr\":{\"id\":\"6171\"}},\"width\":{\"value\":0.9},\"x\":{\"field\":\"x\"}},\"id\":\"6210\",\"type\":\"VBar\"},{\"attributes\":{\"bottom\":{\"expr\":{\"id\":\"6168\"}},\"fill_alpha\":{\"value\":0.2},\"fill_color\":{\"value\":\"#ff7f0e\"},\"hatch_alpha\":{\"value\":0.2},\"hatch_color\":{\"value\":\"#ff7f0e\"},\"line_alpha\":{\"value\":0.2},\"line_color\":{\"value\":\"#ff7f0e\"},\"top\":{\"expr\":{\"id\":\"6169\"}},\"width\":{\"value\":0.9},\"x\":{\"field\":\"x\"}},\"id\":\"6195\",\"type\":\"VBar\"},{\"attributes\":{\"label\":{\"value\":\"4\"},\"renderers\":[{\"id\":\"6230\"}]},\"id\":\"6242\",\"type\":\"LegendItem\"},{\"attributes\":{\"source\":{\"id\":\"6146\"}},\"id\":\"6179\",\"type\":\"CDSView\"},{\"attributes\":{\"bottom\":{\"expr\":{\"id\":\"6170\"}},\"fill_alpha\":{\"value\":0.1},\"fill_color\":{\"value\":\"#2ca02c\"},\"hatch_alpha\":{\"value\":0.1},\"hatch_color\":{\"value\":\"#2ca02c\"},\"line_alpha\":{\"value\":0.1},\"line_color\":{\"value\":\"#2ca02c\"},\"top\":{\"expr\":{\"id\":\"6171\"}},\"width\":{\"value\":0.9},\"x\":{\"field\":\"x\"}},\"id\":\"6211\",\"type\":\"VBar\"},{\"attributes\":{\"coordinates\":null,\"data_source\":{\"id\":\"6146\"},\"glyph\":{\"id\":\"6193\"},\"group\":null,\"hover_glyph\":null,\"muted_glyph\":{\"id\":\"6195\"},\"name\":\"2\",\"nonselection_glyph\":{\"id\":\"6194\"},\"view\":{\"id\":\"6197\"}},\"id\":\"6196\",\"type\":\"GlyphRenderer\"},{\"attributes\":{\"fields\":[\"1\"]},\"id\":\"6167\",\"type\":\"Stack\"},{\"attributes\":{\"bottom\":{\"expr\":{\"id\":\"6170\"}},\"fill_alpha\":{\"value\":0.2},\"fill_color\":{\"value\":\"#2ca02c\"},\"hatch_alpha\":{\"value\":0.2},\"hatch_color\":{\"value\":\"#2ca02c\"},\"line_alpha\":{\"value\":0.2},\"line_color\":{\"value\":\"#2ca02c\"},\"top\":{\"expr\":{\"id\":\"6171\"}},\"width\":{\"value\":0.9},\"x\":{\"field\":\"x\"}},\"id\":\"6212\",\"type\":\"VBar\"},{\"attributes\":{\"callback\":null,\"tooltips\":\"$name: @$name\"},\"id\":\"6163\",\"type\":\"HoverTool\"},{\"attributes\":{\"bottom\":{\"expr\":{\"id\":\"6166\"}},\"fill_alpha\":{\"value\":0.2},\"fill_color\":{\"value\":\"#1f77b4\"},\"hatch_alpha\":{\"value\":0.2},\"hatch_color\":{\"value\":\"#1f77b4\"},\"line_alpha\":{\"value\":0.2},\"line_color\":{\"value\":\"#1f77b4\"},\"top\":{\"expr\":{\"id\":\"6167\"}},\"width\":{\"value\":0.9},\"x\":{\"field\":\"x\"}},\"id\":\"6177\",\"type\":\"VBar\"},{\"attributes\":{\"bottom\":{\"expr\":{\"id\":\"6172\"}},\"fill_alpha\":{\"value\":0.1},\"fill_color\":{\"value\":\"#d62728\"},\"hatch_alpha\":{\"value\":0.1},\"hatch_color\":{\"value\":\"#d62728\"},\"line_alpha\":{\"value\":0.1},\"line_color\":{\"value\":\"#d62728\"},\"top\":{\"expr\":{\"id\":\"6173\"}},\"width\":{\"value\":0.9},\"x\":{\"field\":\"x\"}},\"id\":\"6228\",\"type\":\"VBar\"},{\"attributes\":{\"label\":{\"value\":\"3\"},\"renderers\":[{\"id\":\"6213\"}]},\"id\":\"6225\",\"type\":\"LegendItem\"},{\"attributes\":{\"source\":{\"id\":\"6146\"}},\"id\":\"6197\",\"type\":\"CDSView\"},{\"attributes\":{\"fields\":[\"1\",\"2\"]},\"id\":\"6170\",\"type\":\"Stack\"},{\"attributes\":{\"coordinates\":null,\"data_source\":{\"id\":\"6146\"},\"glyph\":{\"id\":\"6210\"},\"group\":null,\"hover_glyph\":null,\"muted_glyph\":{\"id\":\"6212\"},\"name\":\"3\",\"nonselection_glyph\":{\"id\":\"6211\"},\"view\":{\"id\":\"6214\"}},\"id\":\"6213\",\"type\":\"GlyphRenderer\"},{\"attributes\":{\"bottom\":{\"expr\":{\"id\":\"6166\"}},\"fill_alpha\":{\"value\":0.1},\"fill_color\":{\"value\":\"#1f77b4\"},\"hatch_alpha\":{\"value\":0.1},\"hatch_color\":{\"value\":\"#1f77b4\"},\"line_alpha\":{\"value\":0.1},\"line_color\":{\"value\":\"#1f77b4\"},\"top\":{\"expr\":{\"id\":\"6167\"}},\"width\":{\"value\":0.9},\"x\":{\"field\":\"x\"}},\"id\":\"6176\",\"type\":\"VBar\"},{\"attributes\":{\"bottom\":{\"expr\":{\"id\":\"6172\"}},\"fill_alpha\":{\"value\":0.2},\"fill_color\":{\"value\":\"#d62728\"},\"hatch_alpha\":{\"value\":0.2},\"hatch_color\":{\"value\":\"#d62728\"},\"line_alpha\":{\"value\":0.2},\"line_color\":{\"value\":\"#d62728\"},\"top\":{\"expr\":{\"id\":\"6173\"}},\"width\":{\"value\":0.9},\"x\":{\"field\":\"x\"}},\"id\":\"6229\",\"type\":\"VBar\"},{\"attributes\":{\"label\":{\"value\":\"2\"},\"renderers\":[{\"id\":\"6196\"}]},\"id\":\"6208\",\"type\":\"LegendItem\"},{\"attributes\":{\"bottom\":{\"expr\":{\"id\":\"6172\"}},\"fill_alpha\":{\"value\":0.5},\"fill_color\":{\"value\":\"#d62728\"},\"hatch_alpha\":{\"value\":0.5},\"hatch_color\":{\"value\":\"#d62728\"},\"line_alpha\":{\"value\":0.5},\"line_color\":{\"value\":\"#d62728\"},\"top\":{\"expr\":{\"id\":\"6173\"}},\"width\":{\"value\":0.9},\"x\":{\"field\":\"x\"}},\"id\":\"6227\",\"type\":\"VBar\"},{\"attributes\":{},\"id\":\"6187\",\"type\":\"AllLabels\"},{\"attributes\":{\"source\":{\"id\":\"6146\"}},\"id\":\"6214\",\"type\":\"CDSView\"},{\"attributes\":{\"coordinates\":null,\"data_source\":{\"id\":\"6146\"},\"glyph\":{\"id\":\"6227\"},\"group\":null,\"hover_glyph\":null,\"muted_glyph\":{\"id\":\"6229\"},\"name\":\"4\",\"nonselection_glyph\":{\"id\":\"6228\"},\"view\":{\"id\":\"6231\"}},\"id\":\"6230\",\"type\":\"GlyphRenderer\"},{\"attributes\":{\"source\":{\"id\":\"6146\"}},\"id\":\"6231\",\"type\":\"CDSView\"}],\"root_ids\":[\"6148\"]},\"title\":\"Bokeh Application\",\"version\":\"2.4.2\"}};\n",
       "  const render_items = [{\"docid\":\"14fde29e-4f84-4a9b-a7fe-8d2b5b05e4c8\",\"root_ids\":[\"6148\"],\"roots\":{\"6148\":\"faee9d6b-ba38-46a4-be01-ba0d64d71d22\"}}];\n",
       "  root.Bokeh.embed.embed_items_notebook(docs_json, render_items);\n",
       "\n",
       "  }\n",
       "  if (root.Bokeh !== undefined) {\n",
       "    embed_document(root);\n",
       "  } else {\n",
       "    let attempts = 0;\n",
       "    const timer = setInterval(function(root) {\n",
       "      if (root.Bokeh !== undefined) {\n",
       "        clearInterval(timer);\n",
       "        embed_document(root);\n",
       "      } else {\n",
       "        attempts++;\n",
       "        if (attempts > 100) {\n",
       "          clearInterval(timer);\n",
       "          console.log(\"Bokeh: ERROR: Unable to run BokehJS code because BokehJS library is missing\");\n",
       "        }\n",
       "      }\n",
       "    }, 10, root)\n",
       "  }\n",
       "})(window);"
      ],
      "application/vnd.bokehjs_exec.v0+json": ""
     },
     "metadata": {
      "application/vnd.bokehjs_exec.v0+json": {
       "id": "6148"
      }
     },
     "output_type": "display_data"
    },
    {
     "data": {
      "text/html": [
       "\n",
       "\n",
       "\n",
       "\n",
       "\n",
       "\n",
       "  <div class=\"bk-root\" id=\"e0c3f6fe-0e4a-4613-ae15-3beed45b2449\" data-root-id=\"6526\"></div>\n"
      ]
     },
     "metadata": {},
     "output_type": "display_data"
    },
    {
     "data": {
      "application/javascript": [
       "(function(root) {\n",
       "  function embed_document(root) {\n",
       "    \n",
       "  const docs_json = {\"8aca54fb-dcf1-4290-99ef-c8555719bd50\":{\"defs\":[],\"roots\":{\"references\":[{\"attributes\":{\"below\":[{\"id\":\"6534\"}],\"center\":[{\"id\":\"6536\"},{\"id\":\"6540\"},{\"id\":\"6568\"}],\"height\":250,\"left\":[{\"id\":\"6537\"}],\"renderers\":[{\"id\":\"6556\"},{\"id\":\"6574\"},{\"id\":\"6591\"},{\"id\":\"6608\"}],\"right\":[{\"id\":\"6568\"}],\"title\":{\"id\":\"6558\"},\"toolbar\":{\"id\":\"6542\"},\"toolbar_location\":null,\"x_range\":{\"id\":\"6525\"},\"x_scale\":{\"id\":\"6530\"},\"y_range\":{\"id\":\"6528\"},\"y_scale\":{\"id\":\"6532\"}},\"id\":\"6526\",\"subtype\":\"Figure\",\"type\":\"Plot\"},{\"attributes\":{},\"id\":\"6528\",\"type\":\"DataRange1d\"},{\"attributes\":{\"label\":{\"value\":\"1\"},\"renderers\":[{\"id\":\"6556\"}]},\"id\":\"6569\",\"type\":\"LegendItem\"},{\"attributes\":{\"coordinates\":null,\"data_source\":{\"id\":\"6524\"},\"glyph\":{\"id\":\"6571\"},\"group\":null,\"hover_glyph\":null,\"muted_glyph\":{\"id\":\"6573\"},\"name\":\"2\",\"nonselection_glyph\":{\"id\":\"6572\"},\"view\":{\"id\":\"6575\"}},\"id\":\"6574\",\"type\":\"GlyphRenderer\"},{\"attributes\":{\"coordinates\":null,\"formatter\":{\"id\":\"6564\"},\"group\":null,\"major_label_orientation\":1,\"major_label_policy\":{\"id\":\"6565\"},\"ticker\":{\"id\":\"6535\"}},\"id\":\"6534\",\"type\":\"CategoricalAxis\"},{\"attributes\":{\"source\":{\"id\":\"6524\"}},\"id\":\"6575\",\"type\":\"CDSView\"},{\"attributes\":{},\"id\":\"6532\",\"type\":\"LinearScale\"},{\"attributes\":{},\"id\":\"6535\",\"type\":\"CategoricalTicker\"},{\"attributes\":{\"fields\":[\"1\",\"2\"]},\"id\":\"6548\",\"type\":\"Stack\"},{\"attributes\":{\"fields\":[\"1\",\"2\",\"3\"]},\"id\":\"6550\",\"type\":\"Stack\"},{\"attributes\":{},\"id\":\"6566\",\"type\":\"UnionRenderers\"},{\"attributes\":{\"bottom\":{\"expr\":{\"id\":\"6544\"}},\"fill_alpha\":{\"value\":0.5},\"fill_color\":{\"value\":\"#1f77b4\"},\"hatch_alpha\":{\"value\":0.5},\"hatch_color\":{\"value\":\"#1f77b4\"},\"line_alpha\":{\"value\":0.5},\"line_color\":{\"value\":\"#1f77b4\"},\"top\":{\"expr\":{\"id\":\"6545\"}},\"width\":{\"value\":0.9},\"x\":{\"field\":\"x\"}},\"id\":\"6553\",\"type\":\"VBar\"},{\"attributes\":{},\"id\":\"6567\",\"type\":\"Selection\"},{\"attributes\":{\"fields\":[\"1\",\"2\",\"3\"]},\"id\":\"6549\",\"type\":\"Stack\"},{\"attributes\":{\"coordinates\":null,\"group\":null,\"text\":\"Player 1\"},\"id\":\"6558\",\"type\":\"Title\"},{\"attributes\":{\"bottom\":{\"expr\":{\"id\":\"6550\"}},\"fill_alpha\":{\"value\":0.5},\"fill_color\":{\"value\":\"#d62728\"},\"hatch_alpha\":{\"value\":0.5},\"hatch_color\":{\"value\":\"#d62728\"},\"line_alpha\":{\"value\":0.5},\"line_color\":{\"value\":\"#d62728\"},\"top\":{\"expr\":{\"id\":\"6551\"}},\"width\":{\"value\":0.9},\"x\":{\"field\":\"x\"}},\"id\":\"6605\",\"type\":\"VBar\"},{\"attributes\":{\"bottom\":{\"expr\":{\"id\":\"6544\"}},\"fill_alpha\":{\"value\":0.1},\"fill_color\":{\"value\":\"#1f77b4\"},\"hatch_alpha\":{\"value\":0.1},\"hatch_color\":{\"value\":\"#1f77b4\"},\"line_alpha\":{\"value\":0.1},\"line_color\":{\"value\":\"#1f77b4\"},\"top\":{\"expr\":{\"id\":\"6545\"}},\"width\":{\"value\":0.9},\"x\":{\"field\":\"x\"}},\"id\":\"6554\",\"type\":\"VBar\"},{\"attributes\":{},\"id\":\"6530\",\"type\":\"CategoricalScale\"},{\"attributes\":{\"bottom\":{\"expr\":{\"id\":\"6548\"}},\"fill_alpha\":{\"value\":0.5},\"fill_color\":{\"value\":\"#2ca02c\"},\"hatch_alpha\":{\"value\":0.5},\"hatch_color\":{\"value\":\"#2ca02c\"},\"line_alpha\":{\"value\":0.5},\"line_color\":{\"value\":\"#2ca02c\"},\"top\":{\"expr\":{\"id\":\"6549\"}},\"width\":{\"value\":0.9},\"x\":{\"field\":\"x\"}},\"id\":\"6588\",\"type\":\"VBar\"},{\"attributes\":{\"bottom\":{\"expr\":{\"id\":\"6548\"}},\"fill_alpha\":{\"value\":0.1},\"fill_color\":{\"value\":\"#2ca02c\"},\"hatch_alpha\":{\"value\":0.1},\"hatch_color\":{\"value\":\"#2ca02c\"},\"line_alpha\":{\"value\":0.1},\"line_color\":{\"value\":\"#2ca02c\"},\"top\":{\"expr\":{\"id\":\"6549\"}},\"width\":{\"value\":0.9},\"x\":{\"field\":\"x\"}},\"id\":\"6589\",\"type\":\"VBar\"},{\"attributes\":{\"fields\":[\"1\"]},\"id\":\"6545\",\"type\":\"Stack\"},{\"attributes\":{\"bottom\":{\"expr\":{\"id\":\"6546\"}},\"fill_alpha\":{\"value\":0.5},\"fill_color\":{\"value\":\"#ff7f0e\"},\"hatch_alpha\":{\"value\":0.5},\"hatch_color\":{\"value\":\"#ff7f0e\"},\"line_alpha\":{\"value\":0.5},\"line_color\":{\"value\":\"#ff7f0e\"},\"top\":{\"expr\":{\"id\":\"6547\"}},\"width\":{\"value\":0.9},\"x\":{\"field\":\"x\"}},\"id\":\"6571\",\"type\":\"VBar\"},{\"attributes\":{\"bottom\":{\"expr\":{\"id\":\"6550\"}},\"fill_alpha\":{\"value\":0.1},\"fill_color\":{\"value\":\"#d62728\"},\"hatch_alpha\":{\"value\":0.1},\"hatch_color\":{\"value\":\"#d62728\"},\"line_alpha\":{\"value\":0.1},\"line_color\":{\"value\":\"#d62728\"},\"top\":{\"expr\":{\"id\":\"6551\"}},\"width\":{\"value\":0.9},\"x\":{\"field\":\"x\"}},\"id\":\"6606\",\"type\":\"VBar\"},{\"attributes\":{\"bottom\":{\"expr\":{\"id\":\"6548\"}},\"fill_alpha\":{\"value\":0.2},\"fill_color\":{\"value\":\"#2ca02c\"},\"hatch_alpha\":{\"value\":0.2},\"hatch_color\":{\"value\":\"#2ca02c\"},\"line_alpha\":{\"value\":0.2},\"line_color\":{\"value\":\"#2ca02c\"},\"top\":{\"expr\":{\"id\":\"6549\"}},\"width\":{\"value\":0.9},\"x\":{\"field\":\"x\"}},\"id\":\"6590\",\"type\":\"VBar\"},{\"attributes\":{\"fields\":[\"1\",\"2\",\"3\",\"4\"]},\"id\":\"6551\",\"type\":\"Stack\"},{\"attributes\":{\"bottom\":{\"expr\":{\"id\":\"6550\"}},\"fill_alpha\":{\"value\":0.2},\"fill_color\":{\"value\":\"#d62728\"},\"hatch_alpha\":{\"value\":0.2},\"hatch_color\":{\"value\":\"#d62728\"},\"line_alpha\":{\"value\":0.2},\"line_color\":{\"value\":\"#d62728\"},\"top\":{\"expr\":{\"id\":\"6551\"}},\"width\":{\"value\":0.9},\"x\":{\"field\":\"x\"}},\"id\":\"6607\",\"type\":\"VBar\"},{\"attributes\":{\"axis\":{\"id\":\"6534\"},\"coordinates\":null,\"grid_line_color\":null,\"group\":null,\"ticker\":null},\"id\":\"6536\",\"type\":\"Grid\"},{\"attributes\":{\"coordinates\":null,\"data_source\":{\"id\":\"6524\"},\"glyph\":{\"id\":\"6588\"},\"group\":null,\"hover_glyph\":null,\"muted_glyph\":{\"id\":\"6590\"},\"name\":\"3\",\"nonselection_glyph\":{\"id\":\"6589\"},\"view\":{\"id\":\"6592\"}},\"id\":\"6591\",\"type\":\"GlyphRenderer\"},{\"attributes\":{\"fields\":[]},\"id\":\"6544\",\"type\":\"Stack\"},{\"attributes\":{\"coordinates\":null,\"data_source\":{\"id\":\"6524\"},\"glyph\":{\"id\":\"6605\"},\"group\":null,\"hover_glyph\":null,\"muted_glyph\":{\"id\":\"6607\"},\"name\":\"4\",\"nonselection_glyph\":{\"id\":\"6606\"},\"view\":{\"id\":\"6609\"}},\"id\":\"6608\",\"type\":\"GlyphRenderer\"},{\"attributes\":{\"callback\":null,\"tooltips\":\"$name: @$name\"},\"id\":\"6541\",\"type\":\"HoverTool\"},{\"attributes\":{\"source\":{\"id\":\"6524\"}},\"id\":\"6592\",\"type\":\"CDSView\"},{\"attributes\":{\"bottom\":{\"expr\":{\"id\":\"6546\"}},\"fill_alpha\":{\"value\":0.2},\"fill_color\":{\"value\":\"#ff7f0e\"},\"hatch_alpha\":{\"value\":0.2},\"hatch_color\":{\"value\":\"#ff7f0e\"},\"line_alpha\":{\"value\":0.2},\"line_color\":{\"value\":\"#ff7f0e\"},\"top\":{\"expr\":{\"id\":\"6547\"}},\"width\":{\"value\":0.9},\"x\":{\"field\":\"x\"}},\"id\":\"6573\",\"type\":\"VBar\"},{\"attributes\":{\"source\":{\"id\":\"6524\"}},\"id\":\"6609\",\"type\":\"CDSView\"},{\"attributes\":{\"label\":{\"value\":\"3\"},\"renderers\":[{\"id\":\"6591\"}]},\"id\":\"6603\",\"type\":\"LegendItem\"},{\"attributes\":{\"factors\":[[\"Ontario\",\"0_national\"],[\"Ontario\",\"1_local\"],[\"Quebec\",\"0_national\"],[\"Quebec\",\"1_local\"]],\"range_padding\":0.1},\"id\":\"6525\",\"type\":\"FactorRange\"},{\"attributes\":{},\"id\":\"6561\",\"type\":\"BasicTickFormatter\"},{\"attributes\":{\"label\":{\"value\":\"2\"},\"renderers\":[{\"id\":\"6574\"}]},\"id\":\"6586\",\"type\":\"LegendItem\"},{\"attributes\":{\"label\":{\"value\":\"4\"},\"renderers\":[{\"id\":\"6608\"}]},\"id\":\"6620\",\"type\":\"LegendItem\"},{\"attributes\":{\"fields\":[\"1\"]},\"id\":\"6546\",\"type\":\"Stack\"},{\"attributes\":{\"tools\":[{\"id\":\"6541\"}]},\"id\":\"6542\",\"type\":\"Toolbar\"},{\"attributes\":{\"axis\":{\"id\":\"6537\"},\"coordinates\":null,\"dimension\":1,\"group\":null,\"ticker\":null},\"id\":\"6540\",\"type\":\"Grid\"},{\"attributes\":{},\"id\":\"6565\",\"type\":\"AllLabels\"},{\"attributes\":{\"bottom\":{\"expr\":{\"id\":\"6546\"}},\"fill_alpha\":{\"value\":0.1},\"fill_color\":{\"value\":\"#ff7f0e\"},\"hatch_alpha\":{\"value\":0.1},\"hatch_color\":{\"value\":\"#ff7f0e\"},\"line_alpha\":{\"value\":0.1},\"line_color\":{\"value\":\"#ff7f0e\"},\"top\":{\"expr\":{\"id\":\"6547\"}},\"width\":{\"value\":0.9},\"x\":{\"field\":\"x\"}},\"id\":\"6572\",\"type\":\"VBar\"},{\"attributes\":{\"coordinates\":null,\"data_source\":{\"id\":\"6524\"},\"glyph\":{\"id\":\"6553\"},\"group\":null,\"hover_glyph\":null,\"muted_glyph\":{\"id\":\"6555\"},\"name\":\"1\",\"nonselection_glyph\":{\"id\":\"6554\"},\"view\":{\"id\":\"6557\"}},\"id\":\"6556\",\"type\":\"GlyphRenderer\"},{\"attributes\":{},\"id\":\"6562\",\"type\":\"AllLabels\"},{\"attributes\":{},\"id\":\"6564\",\"type\":\"CategoricalTickFormatter\"},{\"attributes\":{\"coordinates\":null,\"formatter\":{\"id\":\"6561\"},\"group\":null,\"major_label_policy\":{\"id\":\"6562\"},\"ticker\":{\"id\":\"6538\"}},\"id\":\"6537\",\"type\":\"LinearAxis\"},{\"attributes\":{\"source\":{\"id\":\"6524\"}},\"id\":\"6557\",\"type\":\"CDSView\"},{\"attributes\":{},\"id\":\"6538\",\"type\":\"BasicTicker\"},{\"attributes\":{\"fields\":[\"1\",\"2\"]},\"id\":\"6547\",\"type\":\"Stack\"},{\"attributes\":{\"bottom\":{\"expr\":{\"id\":\"6544\"}},\"fill_alpha\":{\"value\":0.2},\"fill_color\":{\"value\":\"#1f77b4\"},\"hatch_alpha\":{\"value\":0.2},\"hatch_color\":{\"value\":\"#1f77b4\"},\"line_alpha\":{\"value\":0.2},\"line_color\":{\"value\":\"#1f77b4\"},\"top\":{\"expr\":{\"id\":\"6545\"}},\"width\":{\"value\":0.9},\"x\":{\"field\":\"x\"}},\"id\":\"6555\",\"type\":\"VBar\"},{\"attributes\":{\"click_policy\":\"mute\",\"coordinates\":null,\"group\":null,\"items\":[{\"id\":\"6569\"},{\"id\":\"6586\"},{\"id\":\"6603\"},{\"id\":\"6620\"}],\"location\":\"top_center\",\"orientation\":\"horizontal\"},\"id\":\"6568\",\"type\":\"Legend\"},{\"attributes\":{\"data\":{\"1\":{\"__ndarray__\":\"AAAAAADgc0AAAAAAAIBoQAAAAAAAAAhAAAAAAAAAAAA=\",\"dtype\":\"float64\",\"order\":\"little\",\"shape\":[4]},\"2\":{\"__ndarray__\":\"AAAAAAAA+H8AAAAAAAD4fwAAAAAAAC5AAAAAAAAAAAA=\",\"dtype\":\"float64\",\"order\":\"little\",\"shape\":[4]},\"3\":{\"__ndarray__\":\"AAAAAAAA+H8AAAAAAAD4fwAAAAAAACZAAAAAAAAAAAA=\",\"dtype\":\"float64\",\"order\":\"little\",\"shape\":[4]},\"4\":{\"__ndarray__\":\"AAAAAAAA+H8AAAAAAAD4fwAAAAAAgEtAAAAAAAAAAAA=\",\"dtype\":\"float64\",\"order\":\"little\",\"shape\":[4]},\"index\":[0,1,2,3],\"x\":[[\"Ontario\",\"0_national\"],[\"Ontario\",\"1_local\"],[\"Quebec\",\"0_national\"],[\"Quebec\",\"1_local\"]]},\"selected\":{\"id\":\"6567\"},\"selection_policy\":{\"id\":\"6566\"}},\"id\":\"6524\",\"type\":\"ColumnDataSource\"}],\"root_ids\":[\"6526\"]},\"title\":\"Bokeh Application\",\"version\":\"2.4.2\"}};\n",
       "  const render_items = [{\"docid\":\"8aca54fb-dcf1-4290-99ef-c8555719bd50\",\"root_ids\":[\"6526\"],\"roots\":{\"6526\":\"e0c3f6fe-0e4a-4613-ae15-3beed45b2449\"}}];\n",
       "  root.Bokeh.embed.embed_items_notebook(docs_json, render_items);\n",
       "\n",
       "  }\n",
       "  if (root.Bokeh !== undefined) {\n",
       "    embed_document(root);\n",
       "  } else {\n",
       "    let attempts = 0;\n",
       "    const timer = setInterval(function(root) {\n",
       "      if (root.Bokeh !== undefined) {\n",
       "        clearInterval(timer);\n",
       "        embed_document(root);\n",
       "      } else {\n",
       "        attempts++;\n",
       "        if (attempts > 100) {\n",
       "          clearInterval(timer);\n",
       "          console.log(\"Bokeh: ERROR: Unable to run BokehJS code because BokehJS library is missing\");\n",
       "        }\n",
       "      }\n",
       "    }, 10, root)\n",
       "  }\n",
       "})(window);"
      ],
      "application/vnd.bokehjs_exec.v0+json": ""
     },
     "metadata": {
      "application/vnd.bokehjs_exec.v0+json": {
       "id": "6526"
      }
     },
     "output_type": "display_data"
    }
   ],
   "source": [
    "# Stuff that doesn't chagne per player\n",
    "packages = game.auction_params.all_bids\n",
    "pure_packages_indices = np.where(np.count_nonzero(packages, axis=1) == 1)\n",
    "pure_packages = packages[pure_packages_indices]\n",
    "products = [num_to_letter(i) for i in range(game.auction_params.num_products)]\n",
    "quantities = list(map(str, range(1, max(game.auction_params.licenses) + 1)))\n",
    "max_quantity = max(game.auction_params.licenses)\n",
    "colors = Category10_10[:len(quantities)]\n",
    "player_types = game.auction_params.player_types\n",
    "\n",
    "# TODO: Should assert this only works for Enumerated Bidder\n",
    "for player_index, player_type in player_types.items():\n",
    "    num_types = len(player_types[player_index])\n",
    "\n",
    "    records = []\n",
    "    \n",
    "    num_types = len(player_types[player_index])\n",
    "\n",
    "    for type_index in range(num_types):\n",
    "        bidder = player_types[player_index][type_index]['bidder']\n",
    "        values = bidder.get_profits(game.auction_params.opening_prices) if FACTOR_OPENING_PRICES else bidder.get_values()\n",
    "        values = values[pure_packages_indices]\n",
    "        \n",
    "        for package_index, pure_package in enumerate(pure_packages):\n",
    "            product_index = np.nonzero(pure_package)[0][0]\n",
    "            q = pure_package[product_index]\n",
    "            record = dict(x=(game.auction_params.license_names[product_index], f'{type_index}_{bidder.name}' or str(type_index)), q=q, value=values[package_index])\n",
    "            records.append(record)\n",
    "    \n",
    "    df = pd.DataFrame.from_records(records).pivot(index='x', columns='q')\n",
    "    df.columns = map(str,df.columns.get_level_values(1))\n",
    "    df = df.reset_index()\n",
    "    marginal_df = df.copy()\n",
    "    marginal_df[\"1\"] = np.maximum(marginal_df[\"1\"], 0)\n",
    "    for z in range(2, max_quantity + 1):\n",
    "        marginal_df[str(z)] = np.maximum(0, df[str(z)] - df[str(z - 1)])\n",
    "\n",
    "    df = marginal_df\n",
    "    \n",
    "    if not FACTOR_OPENING_PRICES and (df.select_dtypes(include=np.number) < 0).sum().sum():\n",
    "        # for pkg, val in zip(game.auction_params.all_bids,bidder.values):\n",
    "        #     print(pkg, val)\n",
    "        raise ValueError(\"No negative numbers expected!\")\n",
    "    \n",
    "    source = ColumnDataSource(df)\n",
    "    factors = df['x'].values\n",
    "\n",
    "    p = figure(x_range=FactorRange(*factors), height=250, toolbar_location=None, tools=\"hover\", tooltips=\"$name: @$name\")\n",
    "\n",
    "    p.vbar_stack(quantities, x='x', width=0.9, alpha=0.5, color=colors, source=source, legend_label=quantities)\n",
    "\n",
    "    # p.y_range.start = 0\n",
    "    # p.y_range.end = 18\n",
    "    p.x_range.range_padding = 0.1\n",
    "    p.xaxis.major_label_orientation = 1\n",
    "    p.xgrid.grid_line_color = None\n",
    "    p.legend.location = \"top_center\"\n",
    "    p.legend.click_policy = 'mute'\n",
    "    p.legend.orientation = \"horizontal\"\n",
    "    p.add_layout(p.legend[0], 'right')\n",
    "    p.title.text = f'Player {player_index}'\n",
    "\n",
    "    # TODO: Add total value to hover, not just marginal\n",
    "    show(p)\n"
   ]
  },
  {
   "cell_type": "code",
   "execution_count": 77,
   "id": "1fb416a0-936e-4d58-a937-ad51517ae928",
   "metadata": {},
   "outputs": [
    {
     "name": "stdout",
     "output_type": "stream",
     "text": [
      "[32, 19]\n",
      "[  0   0   0   0   0 228 228 228 228 228]\n"
     ]
    },
    {
     "data": {
      "text/plain": [
       "array([[0, 0],\n",
       "       [0, 1],\n",
       "       [0, 2],\n",
       "       [0, 3],\n",
       "       [0, 4],\n",
       "       [1, 0],\n",
       "       [1, 1],\n",
       "       [1, 2],\n",
       "       [1, 3],\n",
       "       [1, 4]])"
      ]
     },
     "execution_count": 77,
     "metadata": {},
     "output_type": "execute_result"
    }
   ],
   "source": [
    "print(game.auction_params.opening_prices)\n",
    "game.auction_params.licenses\n",
    "print(game.new_initial_state().child(0).child(1).bidders[1].bidder.get_values())\n",
    "game.new_initial_state().child(0).child(1).bidders[1].bidder.all_bids"
   ]
  },
  {
   "cell_type": "code",
   "execution_count": 60,
   "id": "c77f249a-cd68-4789-a269-7b004ad46be0",
   "metadata": {},
   "outputs": [
    {
     "name": "stderr",
     "output_type": "stream",
     "text": [
      "100%|██████████████████████████████████████████████████████████████████████████████████████████████████████████████████████████████████████████████████████████████████████████████████████████████████████████████████████████████████████████| 4/4 [00:00<00:00, 174.21it/s]\n"
     ]
    }
   ],
   "source": [
    "df, combo_to_score, scorer = efficient_allocation(game, factor_in_opening_prices=FACTOR_OPENING_PRICES)"
   ]
  },
  {
   "cell_type": "code",
   "execution_count": null,
   "id": "20c296ee-ff72-4581-a9fd-8caa8732d1d9",
   "metadata": {},
   "outputs": [],
   "source": [
    "pd.DataFrame(*df['allocation'].values)"
   ]
  },
  {
   "cell_type": "code",
   "execution_count": null,
   "id": "07fcceb0-2abf-4856-8cae-0dee0d7a8c7c",
   "metadata": {},
   "outputs": [],
   "source": [
    "worst_case_profit, allocation = efficient_allocation_avg_type(game, factor_in_opening_prices=FACTOR_OPENING_PRICES)"
   ]
  },
  {
   "cell_type": "code",
   "execution_count": null,
   "id": "8358acf2-469e-486e-92c6-52c3c60fbc2b",
   "metadata": {},
   "outputs": [],
   "source": [
    "allocation"
   ]
  },
  {
   "cell_type": "code",
   "execution_count": null,
   "id": "531f14a1-53b3-40f9-abb4-f42e00f861e9",
   "metadata": {},
   "outputs": [],
   "source": [
    "worst_case_profit / df['score'].mean()"
   ]
  },
  {
   "cell_type": "code",
   "execution_count": null,
   "id": "bde65433-4e1d-4aa4-a195-1d449d5f7f14",
   "metadata": {},
   "outputs": [],
   "source": [
    "worst_case_profit"
   ]
  },
  {
   "cell_type": "code",
   "execution_count": null,
   "id": "4a09a5cc-eefb-4c79-99c3-dfcf55dc75ab",
   "metadata": {},
   "outputs": [],
   "source": [
    "df['score'].mean()"
   ]
  },
  {
   "cell_type": "code",
   "execution_count": null,
   "id": "a5f3a9e9-2b50-410c-b60e-4080a383bf96",
   "metadata": {},
   "outputs": [],
   "source": [
    "df"
   ]
  },
  {
   "cell_type": "code",
   "execution_count": null,
   "id": "55793e10-cf9c-4d79-b0dc-5d34424beb68",
   "metadata": {},
   "outputs": [],
   "source": [
    "# TODO: Only works for 2p\n",
    "df[['p0_type', 'p1_type']] = pd.DataFrame(df['combo'].apply(lambda x: x[:2]).tolist())\n",
    "df[['p0_allocation', 'p1_allocation']] = pd.DataFrame(df['allocation'].apply(lambda x: x[:2]).tolist())\n",
    "df[['r', 'g', 'b']] = pd.DataFrame(df['p0_allocation'].tolist()) / 3\n",
    "\n",
    "plt_rgb = df[['r', 'g', 'b']].values\n",
    "plt_x = df['p0_type'].values\n",
    "plt_y = df['p1_type'].values\n",
    "plt_colors = np.zeros((max(plt_x)+1, max(plt_y)+1, 3))\n",
    "plt_colors[plt_y, plt_x, :] = plt_rgb\n",
    "plt.imshow(plt_colors, interpolation='nearest')\n",
    "plt.xlabel('Player 0 type')\n",
    "plt.ylabel('Player 1 type')\n",
    "plt.show()"
   ]
  },
  {
   "cell_type": "code",
   "execution_count": null,
   "id": "af1e255e-b455-4212-939e-fd8680f2bb91",
   "metadata": {},
   "outputs": [],
   "source": [
    "plt_colors[1, 2]"
   ]
  },
  {
   "cell_type": "code",
   "execution_count": null,
   "id": "44985de3-a896-4a0a-b00c-8197ff82805d",
   "metadata": {},
   "outputs": [],
   "source": [
    "plt_colors[0, 2]"
   ]
  },
  {
   "cell_type": "code",
   "execution_count": null,
   "id": "366d4f3f-6700-4709-9d69-4bc6b121bd0b",
   "metadata": {},
   "outputs": [],
   "source": [
    "df"
   ]
  },
  {
   "cell_type": "code",
   "execution_count": null,
   "id": "242b528d-54ab-49d1-912b-b3f3b166d6dc",
   "metadata": {},
   "outputs": [],
   "source": [
    "df['allocation'].value_counts()"
   ]
  },
  {
   "cell_type": "code",
   "execution_count": null,
   "id": "701cb94f-8099-47d4-8803-98b5c20f926e",
   "metadata": {},
   "outputs": [],
   "source": [
    "a = game.auction_params.player_types[0][0]['bidder'].value_for_package([1,2,1])\n",
    "b = game.auction_params.player_types[1][0]['bidder'].value_for_package([2,1,2])\n",
    "print(a, b, a+b)"
   ]
  },
  {
   "cell_type": "code",
   "execution_count": null,
   "id": "ed4f48ed-decf-4d4d-bc91-364ddbaad4a9",
   "metadata": {},
   "outputs": [],
   "source": [
    "a = game.auction_params.player_types[0][0]['bidder'].value_for_package([0,2,0])\n",
    "b = game.auction_params.player_types[1][0]['bidder'].value_for_package([3,1,3])\n",
    "print(a, b, a+b)"
   ]
  },
  {
   "cell_type": "code",
   "execution_count": null,
   "id": "93458242-7b9a-4911-b801-b86276305ee0",
   "metadata": {},
   "outputs": [],
   "source": [
    "game.auction_params.player_types[1][0]['bidder'].value_for_package([3,0,0])"
   ]
  },
  {
   "cell_type": "code",
   "execution_count": null,
   "id": "5ef1e2cb-2594-4c6c-8fd1-82befc832a08",
   "metadata": {},
   "outputs": [],
   "source": [
    "df"
   ]
  },
  {
   "cell_type": "code",
   "execution_count": null,
   "id": "ab72de9b-3e34-4083-add8-b19745a915a9",
   "metadata": {},
   "outputs": [],
   "source": [
    "from open_spiel.python.examples.ubc_cma import *\n",
    "from open_spiel.python.examples.env_and_policy import *\n",
    "from open_spiel.python.examples.ppo_eval import run_eval\n",
    "from open_spiel.python.examples.straightforward_agent import StraightforwardAgent"
   ]
  },
  {
   "cell_type": "code",
   "execution_count": null,
   "id": "2e4f56c2-2b06-4cdc-a439-7d7c8ea7ce76",
   "metadata": {},
   "outputs": [],
   "source": [
    "game.auction_params.increment = 0.05"
   ]
  },
  {
   "cell_type": "code",
   "execution_count": null,
   "id": "cc96d79c-abe9-4f37-93d7-921d03697fa9",
   "metadata": {},
   "outputs": [],
   "source": [
    "all_allocations = []\n",
    "for combo in tqdm(type_combos(game)):\n",
    "    history_prefix = [combo[p]['index'] for p in range(game.num_players())]\n",
    "    named_combo = [combo[p]['bidder'].name for p in range(game.num_players())]\n",
    "    env = EnvParams(track_stats=True, history_prefix=history_prefix, num_envs=1, normalize_rewards=False).make_env(game)\n",
    "    env_and_policy = EnvAndPolicy(env=env, agents=[StraightforwardAgent(0, game), StraightforwardAgent(1, game)], game=game)\n",
    "    evaluation = run_eval(env_and_policy, num_samples=10)\n",
    "    allocations = []\n",
    "    for player in range(game.num_players()):\n",
    "        allocation = np.array(evaluation['allocations'][player]).mean(axis=0)\n",
    "        allocations.append(allocation)\n",
    "    all_allocations.append((named_combo, np.round(allocations, 2)))"
   ]
  },
  {
   "cell_type": "code",
   "execution_count": null,
   "id": "1c217fc8-f1ee-4dff-b76b-75e78c0b0214",
   "metadata": {},
   "outputs": [],
   "source": [
    "all_allocations"
   ]
  },
  {
   "cell_type": "code",
   "execution_count": null,
   "id": "bd7d94f4-426c-4e88-b207-03a41c118e6a",
   "metadata": {},
   "outputs": [],
   "source": [
    "# Iterate over cartesian product of types\n"
   ]
  },
  {
   "cell_type": "code",
   "execution_count": null,
   "id": "887af035-8d26-4319-a067-9c9f84a736a4",
   "metadata": {},
   "outputs": [],
   "source": [
    "history_prefix = [1,1]\n",
    "named_combo = ['n', 'n']\n",
    "env = EnvParams(track_stats=True, history_prefix=history_prefix, num_envs=1, normalize_rewards=False).make_env(game)\n",
    "env_and_policy = EnvAndPolicy(env=env, agents=[StraightforwardAgent(0, game), StraightforwardAgent(1, game)], game=game)\n",
    "evaluation = run_eval(env_and_policy, num_samples=2)\n"
   ]
  },
  {
   "cell_type": "code",
   "execution_count": null,
   "id": "37421c9a-8e2e-43ae-ad05-268f5fc40e7a",
   "metadata": {},
   "outputs": [],
   "source": [
    "x = [(1,2,3), (4,5,6)]\n",
    "for item in x:\n",
    "    x.remove((4,5,6))"
   ]
  },
  {
   "cell_type": "code",
   "execution_count": null,
   "id": "e20d2ff5-f9e1-4caa-8bef-6364da9cf23f",
   "metadata": {},
   "outputs": [],
   "source": [
    "x"
   ]
  },
  {
   "cell_type": "code",
   "execution_count": 16,
   "id": "943dcb97-d72a-4d16-8987-33d62b025063",
   "metadata": {},
   "outputs": [],
   "source": [
    "s= game.new_initial_state()"
   ]
  },
  {
   "cell_type": "code",
   "execution_count": 18,
   "id": "15fd9a88-2810-4ecd-bad9-745971ac25e7",
   "metadata": {},
   "outputs": [
    {
     "data": {
      "text/plain": [
       "\u001b[0;31mDocstring:\u001b[0m clone(self: pyspiel.State) -> pyspiel.State\n",
       "\u001b[0;31mType:\u001b[0m      method\n"
      ]
     },
     "metadata": {},
     "output_type": "display_data"
    }
   ],
   "source": [
    "s.clone?"
   ]
  },
  {
   "cell_type": "code",
   "execution_count": null,
   "id": "512909cf-99b0-4b3a-b89d-cd9101e986d1",
   "metadata": {},
   "outputs": [],
   "source": []
  }
 ],
 "metadata": {
  "kernelspec": {
   "display_name": "Django Shell-Plus",
   "language": "python",
   "name": "django_extensions"
  },
  "language_info": {
   "codemirror_mode": {
    "name": "ipython",
    "version": 3
   },
   "file_extension": ".py",
   "mimetype": "text/x-python",
   "name": "python",
   "nbconvert_exporter": "python",
   "pygments_lexer": "ipython3",
   "version": "3.8.2"
  }
 },
 "nbformat": 4,
 "nbformat_minor": 5
}
