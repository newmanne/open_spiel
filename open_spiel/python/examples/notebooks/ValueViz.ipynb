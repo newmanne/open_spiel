{
 "cells": [
  {
   "cell_type": "code",
   "execution_count": 4,
   "id": "2e8c1ff4-dfe1-40a5-96d7-99c0712cd615",
   "metadata": {},
   "outputs": [],
   "source": [
    "%load_ext autoreload\n",
    "%autoreload 2\n",
    "%matplotlib inline"
   ]
  },
  {
   "cell_type": "code",
   "execution_count": 5,
   "id": "443a96a5-1245-453f-85b7-41c53fc921ec",
   "metadata": {},
   "outputs": [
    {
     "data": {
      "text/html": [
       "\n",
       "    <div class=\"bk-root\">\n",
       "        <a href=\"https://bokeh.org\" target=\"_blank\" class=\"bk-logo bk-logo-small bk-logo-notebook\"></a>\n",
       "        <span id=\"1002\">Loading BokehJS ...</span>\n",
       "    </div>"
      ]
     },
     "metadata": {},
     "output_type": "display_data"
    },
    {
     "data": {
      "application/javascript": [
       "\n",
       "(function(root) {\n",
       "  function now() {\n",
       "    return new Date();\n",
       "  }\n",
       "\n",
       "  const force = true;\n",
       "\n",
       "  if (typeof root._bokeh_onload_callbacks === \"undefined\" || force === true) {\n",
       "    root._bokeh_onload_callbacks = [];\n",
       "    root._bokeh_is_loading = undefined;\n",
       "  }\n",
       "\n",
       "  const JS_MIME_TYPE = 'application/javascript';\n",
       "  const HTML_MIME_TYPE = 'text/html';\n",
       "  const EXEC_MIME_TYPE = 'application/vnd.bokehjs_exec.v0+json';\n",
       "  const CLASS_NAME = 'output_bokeh rendered_html';\n",
       "\n",
       "  /**\n",
       "   * Render data to the DOM node\n",
       "   */\n",
       "  function render(props, node) {\n",
       "    const script = document.createElement(\"script\");\n",
       "    node.appendChild(script);\n",
       "  }\n",
       "\n",
       "  /**\n",
       "   * Handle when an output is cleared or removed\n",
       "   */\n",
       "  function handleClearOutput(event, handle) {\n",
       "    const cell = handle.cell;\n",
       "\n",
       "    const id = cell.output_area._bokeh_element_id;\n",
       "    const server_id = cell.output_area._bokeh_server_id;\n",
       "    // Clean up Bokeh references\n",
       "    if (id != null && id in Bokeh.index) {\n",
       "      Bokeh.index[id].model.document.clear();\n",
       "      delete Bokeh.index[id];\n",
       "    }\n",
       "\n",
       "    if (server_id !== undefined) {\n",
       "      // Clean up Bokeh references\n",
       "      const cmd_clean = \"from bokeh.io.state import curstate; print(curstate().uuid_to_server['\" + server_id + \"'].get_sessions()[0].document.roots[0]._id)\";\n",
       "      cell.notebook.kernel.execute(cmd_clean, {\n",
       "        iopub: {\n",
       "          output: function(msg) {\n",
       "            const id = msg.content.text.trim();\n",
       "            if (id in Bokeh.index) {\n",
       "              Bokeh.index[id].model.document.clear();\n",
       "              delete Bokeh.index[id];\n",
       "            }\n",
       "          }\n",
       "        }\n",
       "      });\n",
       "      // Destroy server and session\n",
       "      const cmd_destroy = \"import bokeh.io.notebook as ion; ion.destroy_server('\" + server_id + \"')\";\n",
       "      cell.notebook.kernel.execute(cmd_destroy);\n",
       "    }\n",
       "  }\n",
       "\n",
       "  /**\n",
       "   * Handle when a new output is added\n",
       "   */\n",
       "  function handleAddOutput(event, handle) {\n",
       "    const output_area = handle.output_area;\n",
       "    const output = handle.output;\n",
       "\n",
       "    // limit handleAddOutput to display_data with EXEC_MIME_TYPE content only\n",
       "    if ((output.output_type != \"display_data\") || (!Object.prototype.hasOwnProperty.call(output.data, EXEC_MIME_TYPE))) {\n",
       "      return\n",
       "    }\n",
       "\n",
       "    const toinsert = output_area.element.find(\".\" + CLASS_NAME.split(' ')[0]);\n",
       "\n",
       "    if (output.metadata[EXEC_MIME_TYPE][\"id\"] !== undefined) {\n",
       "      toinsert[toinsert.length - 1].firstChild.textContent = output.data[JS_MIME_TYPE];\n",
       "      // store reference to embed id on output_area\n",
       "      output_area._bokeh_element_id = output.metadata[EXEC_MIME_TYPE][\"id\"];\n",
       "    }\n",
       "    if (output.metadata[EXEC_MIME_TYPE][\"server_id\"] !== undefined) {\n",
       "      const bk_div = document.createElement(\"div\");\n",
       "      bk_div.innerHTML = output.data[HTML_MIME_TYPE];\n",
       "      const script_attrs = bk_div.children[0].attributes;\n",
       "      for (let i = 0; i < script_attrs.length; i++) {\n",
       "        toinsert[toinsert.length - 1].firstChild.setAttribute(script_attrs[i].name, script_attrs[i].value);\n",
       "        toinsert[toinsert.length - 1].firstChild.textContent = bk_div.children[0].textContent\n",
       "      }\n",
       "      // store reference to server id on output_area\n",
       "      output_area._bokeh_server_id = output.metadata[EXEC_MIME_TYPE][\"server_id\"];\n",
       "    }\n",
       "  }\n",
       "\n",
       "  function register_renderer(events, OutputArea) {\n",
       "\n",
       "    function append_mime(data, metadata, element) {\n",
       "      // create a DOM node to render to\n",
       "      const toinsert = this.create_output_subarea(\n",
       "        metadata,\n",
       "        CLASS_NAME,\n",
       "        EXEC_MIME_TYPE\n",
       "      );\n",
       "      this.keyboard_manager.register_events(toinsert);\n",
       "      // Render to node\n",
       "      const props = {data: data, metadata: metadata[EXEC_MIME_TYPE]};\n",
       "      render(props, toinsert[toinsert.length - 1]);\n",
       "      element.append(toinsert);\n",
       "      return toinsert\n",
       "    }\n",
       "\n",
       "    /* Handle when an output is cleared or removed */\n",
       "    events.on('clear_output.CodeCell', handleClearOutput);\n",
       "    events.on('delete.Cell', handleClearOutput);\n",
       "\n",
       "    /* Handle when a new output is added */\n",
       "    events.on('output_added.OutputArea', handleAddOutput);\n",
       "\n",
       "    /**\n",
       "     * Register the mime type and append_mime function with output_area\n",
       "     */\n",
       "    OutputArea.prototype.register_mime_type(EXEC_MIME_TYPE, append_mime, {\n",
       "      /* Is output safe? */\n",
       "      safe: true,\n",
       "      /* Index of renderer in `output_area.display_order` */\n",
       "      index: 0\n",
       "    });\n",
       "  }\n",
       "\n",
       "  // register the mime type if in Jupyter Notebook environment and previously unregistered\n",
       "  if (root.Jupyter !== undefined) {\n",
       "    const events = require('base/js/events');\n",
       "    const OutputArea = require('notebook/js/outputarea').OutputArea;\n",
       "\n",
       "    if (OutputArea.prototype.mime_types().indexOf(EXEC_MIME_TYPE) == -1) {\n",
       "      register_renderer(events, OutputArea);\n",
       "    }\n",
       "  }\n",
       "\n",
       "  \n",
       "  if (typeof (root._bokeh_timeout) === \"undefined\" || force === true) {\n",
       "    root._bokeh_timeout = Date.now() + 5000;\n",
       "    root._bokeh_failed_load = false;\n",
       "  }\n",
       "\n",
       "  const NB_LOAD_WARNING = {'data': {'text/html':\n",
       "     \"<div style='background-color: #fdd'>\\n\"+\n",
       "     \"<p>\\n\"+\n",
       "     \"BokehJS does not appear to have successfully loaded. If loading BokehJS from CDN, this \\n\"+\n",
       "     \"may be due to a slow or bad network connection. Possible fixes:\\n\"+\n",
       "     \"</p>\\n\"+\n",
       "     \"<ul>\\n\"+\n",
       "     \"<li>re-rerun `output_notebook()` to attempt to load from CDN again, or</li>\\n\"+\n",
       "     \"<li>use INLINE resources instead, as so:</li>\\n\"+\n",
       "     \"</ul>\\n\"+\n",
       "     \"<code>\\n\"+\n",
       "     \"from bokeh.resources import INLINE\\n\"+\n",
       "     \"output_notebook(resources=INLINE)\\n\"+\n",
       "     \"</code>\\n\"+\n",
       "     \"</div>\"}};\n",
       "\n",
       "  function display_loaded() {\n",
       "    const el = document.getElementById(\"1002\");\n",
       "    if (el != null) {\n",
       "      el.textContent = \"BokehJS is loading...\";\n",
       "    }\n",
       "    if (root.Bokeh !== undefined) {\n",
       "      if (el != null) {\n",
       "        el.textContent = \"BokehJS \" + root.Bokeh.version + \" successfully loaded.\";\n",
       "      }\n",
       "    } else if (Date.now() < root._bokeh_timeout) {\n",
       "      setTimeout(display_loaded, 100)\n",
       "    }\n",
       "  }\n",
       "\n",
       "\n",
       "  function run_callbacks() {\n",
       "    try {\n",
       "      root._bokeh_onload_callbacks.forEach(function(callback) {\n",
       "        if (callback != null)\n",
       "          callback();\n",
       "      });\n",
       "    } finally {\n",
       "      delete root._bokeh_onload_callbacks\n",
       "    }\n",
       "    console.debug(\"Bokeh: all callbacks have finished\");\n",
       "  }\n",
       "\n",
       "  function load_libs(css_urls, js_urls, callback) {\n",
       "    if (css_urls == null) css_urls = [];\n",
       "    if (js_urls == null) js_urls = [];\n",
       "\n",
       "    root._bokeh_onload_callbacks.push(callback);\n",
       "    if (root._bokeh_is_loading > 0) {\n",
       "      console.debug(\"Bokeh: BokehJS is being loaded, scheduling callback at\", now());\n",
       "      return null;\n",
       "    }\n",
       "    if (js_urls == null || js_urls.length === 0) {\n",
       "      run_callbacks();\n",
       "      return null;\n",
       "    }\n",
       "    console.debug(\"Bokeh: BokehJS not loaded, scheduling load and callback at\", now());\n",
       "    root._bokeh_is_loading = css_urls.length + js_urls.length;\n",
       "\n",
       "    function on_load() {\n",
       "      root._bokeh_is_loading--;\n",
       "      if (root._bokeh_is_loading === 0) {\n",
       "        console.debug(\"Bokeh: all BokehJS libraries/stylesheets loaded\");\n",
       "        run_callbacks()\n",
       "      }\n",
       "    }\n",
       "\n",
       "    function on_error(url) {\n",
       "      console.error(\"failed to load \" + url);\n",
       "    }\n",
       "\n",
       "    for (let i = 0; i < css_urls.length; i++) {\n",
       "      const url = css_urls[i];\n",
       "      const element = document.createElement(\"link\");\n",
       "      element.onload = on_load;\n",
       "      element.onerror = on_error.bind(null, url);\n",
       "      element.rel = \"stylesheet\";\n",
       "      element.type = \"text/css\";\n",
       "      element.href = url;\n",
       "      console.debug(\"Bokeh: injecting link tag for BokehJS stylesheet: \", url);\n",
       "      document.body.appendChild(element);\n",
       "    }\n",
       "\n",
       "    for (let i = 0; i < js_urls.length; i++) {\n",
       "      const url = js_urls[i];\n",
       "      const element = document.createElement('script');\n",
       "      element.onload = on_load;\n",
       "      element.onerror = on_error.bind(null, url);\n",
       "      element.async = false;\n",
       "      element.src = url;\n",
       "      console.debug(\"Bokeh: injecting script tag for BokehJS library: \", url);\n",
       "      document.head.appendChild(element);\n",
       "    }\n",
       "  };\n",
       "\n",
       "  function inject_raw_css(css) {\n",
       "    const element = document.createElement(\"style\");\n",
       "    element.appendChild(document.createTextNode(css));\n",
       "    document.body.appendChild(element);\n",
       "  }\n",
       "\n",
       "  \n",
       "  const js_urls = [\"https://cdn.bokeh.org/bokeh/release/bokeh-2.4.2.min.js\", \"https://cdn.bokeh.org/bokeh/release/bokeh-gl-2.4.2.min.js\", \"https://cdn.bokeh.org/bokeh/release/bokeh-widgets-2.4.2.min.js\", \"https://cdn.bokeh.org/bokeh/release/bokeh-tables-2.4.2.min.js\", \"https://cdn.bokeh.org/bokeh/release/bokeh-mathjax-2.4.2.min.js\"];\n",
       "  const css_urls = [];\n",
       "  \n",
       "\n",
       "  const inline_js = [\n",
       "    function(Bokeh) {\n",
       "      Bokeh.set_log_level(\"info\");\n",
       "    },\n",
       "    function(Bokeh) {\n",
       "    \n",
       "    \n",
       "    }\n",
       "  ];\n",
       "\n",
       "  function run_inline_js() {\n",
       "    \n",
       "    if (root.Bokeh !== undefined || force === true) {\n",
       "      \n",
       "    for (let i = 0; i < inline_js.length; i++) {\n",
       "      inline_js[i].call(root, root.Bokeh);\n",
       "    }\n",
       "    if (force === true) {\n",
       "        display_loaded();\n",
       "      }} else if (Date.now() < root._bokeh_timeout) {\n",
       "      setTimeout(run_inline_js, 100);\n",
       "    } else if (!root._bokeh_failed_load) {\n",
       "      console.log(\"Bokeh: BokehJS failed to load within specified timeout.\");\n",
       "      root._bokeh_failed_load = true;\n",
       "    } else if (force !== true) {\n",
       "      const cell = $(document.getElementById(\"1002\")).parents('.cell').data().cell;\n",
       "      cell.output_area.append_execute_result(NB_LOAD_WARNING)\n",
       "    }\n",
       "\n",
       "  }\n",
       "\n",
       "  if (root._bokeh_is_loading === 0) {\n",
       "    console.debug(\"Bokeh: BokehJS loaded, going straight to plotting\");\n",
       "    run_inline_js();\n",
       "  } else {\n",
       "    load_libs(css_urls, js_urls, function() {\n",
       "      console.debug(\"Bokeh: BokehJS plotting callback run at\", now());\n",
       "      run_inline_js();\n",
       "    });\n",
       "  }\n",
       "}(window));"
      ],
      "application/vnd.bokehjs_load.v0+json": "\n(function(root) {\n  function now() {\n    return new Date();\n  }\n\n  const force = true;\n\n  if (typeof root._bokeh_onload_callbacks === \"undefined\" || force === true) {\n    root._bokeh_onload_callbacks = [];\n    root._bokeh_is_loading = undefined;\n  }\n\n  \n\n  \n  if (typeof (root._bokeh_timeout) === \"undefined\" || force === true) {\n    root._bokeh_timeout = Date.now() + 5000;\n    root._bokeh_failed_load = false;\n  }\n\n  const NB_LOAD_WARNING = {'data': {'text/html':\n     \"<div style='background-color: #fdd'>\\n\"+\n     \"<p>\\n\"+\n     \"BokehJS does not appear to have successfully loaded. If loading BokehJS from CDN, this \\n\"+\n     \"may be due to a slow or bad network connection. Possible fixes:\\n\"+\n     \"</p>\\n\"+\n     \"<ul>\\n\"+\n     \"<li>re-rerun `output_notebook()` to attempt to load from CDN again, or</li>\\n\"+\n     \"<li>use INLINE resources instead, as so:</li>\\n\"+\n     \"</ul>\\n\"+\n     \"<code>\\n\"+\n     \"from bokeh.resources import INLINE\\n\"+\n     \"output_notebook(resources=INLINE)\\n\"+\n     \"</code>\\n\"+\n     \"</div>\"}};\n\n  function display_loaded() {\n    const el = document.getElementById(\"1002\");\n    if (el != null) {\n      el.textContent = \"BokehJS is loading...\";\n    }\n    if (root.Bokeh !== undefined) {\n      if (el != null) {\n        el.textContent = \"BokehJS \" + root.Bokeh.version + \" successfully loaded.\";\n      }\n    } else if (Date.now() < root._bokeh_timeout) {\n      setTimeout(display_loaded, 100)\n    }\n  }\n\n\n  function run_callbacks() {\n    try {\n      root._bokeh_onload_callbacks.forEach(function(callback) {\n        if (callback != null)\n          callback();\n      });\n    } finally {\n      delete root._bokeh_onload_callbacks\n    }\n    console.debug(\"Bokeh: all callbacks have finished\");\n  }\n\n  function load_libs(css_urls, js_urls, callback) {\n    if (css_urls == null) css_urls = [];\n    if (js_urls == null) js_urls = [];\n\n    root._bokeh_onload_callbacks.push(callback);\n    if (root._bokeh_is_loading > 0) {\n      console.debug(\"Bokeh: BokehJS is being loaded, scheduling callback at\", now());\n      return null;\n    }\n    if (js_urls == null || js_urls.length === 0) {\n      run_callbacks();\n      return null;\n    }\n    console.debug(\"Bokeh: BokehJS not loaded, scheduling load and callback at\", now());\n    root._bokeh_is_loading = css_urls.length + js_urls.length;\n\n    function on_load() {\n      root._bokeh_is_loading--;\n      if (root._bokeh_is_loading === 0) {\n        console.debug(\"Bokeh: all BokehJS libraries/stylesheets loaded\");\n        run_callbacks()\n      }\n    }\n\n    function on_error(url) {\n      console.error(\"failed to load \" + url);\n    }\n\n    for (let i = 0; i < css_urls.length; i++) {\n      const url = css_urls[i];\n      const element = document.createElement(\"link\");\n      element.onload = on_load;\n      element.onerror = on_error.bind(null, url);\n      element.rel = \"stylesheet\";\n      element.type = \"text/css\";\n      element.href = url;\n      console.debug(\"Bokeh: injecting link tag for BokehJS stylesheet: \", url);\n      document.body.appendChild(element);\n    }\n\n    for (let i = 0; i < js_urls.length; i++) {\n      const url = js_urls[i];\n      const element = document.createElement('script');\n      element.onload = on_load;\n      element.onerror = on_error.bind(null, url);\n      element.async = false;\n      element.src = url;\n      console.debug(\"Bokeh: injecting script tag for BokehJS library: \", url);\n      document.head.appendChild(element);\n    }\n  };\n\n  function inject_raw_css(css) {\n    const element = document.createElement(\"style\");\n    element.appendChild(document.createTextNode(css));\n    document.body.appendChild(element);\n  }\n\n  \n  const js_urls = [\"https://cdn.bokeh.org/bokeh/release/bokeh-2.4.2.min.js\", \"https://cdn.bokeh.org/bokeh/release/bokeh-gl-2.4.2.min.js\", \"https://cdn.bokeh.org/bokeh/release/bokeh-widgets-2.4.2.min.js\", \"https://cdn.bokeh.org/bokeh/release/bokeh-tables-2.4.2.min.js\", \"https://cdn.bokeh.org/bokeh/release/bokeh-mathjax-2.4.2.min.js\"];\n  const css_urls = [];\n  \n\n  const inline_js = [\n    function(Bokeh) {\n      Bokeh.set_log_level(\"info\");\n    },\n    function(Bokeh) {\n    \n    \n    }\n  ];\n\n  function run_inline_js() {\n    \n    if (root.Bokeh !== undefined || force === true) {\n      \n    for (let i = 0; i < inline_js.length; i++) {\n      inline_js[i].call(root, root.Bokeh);\n    }\n    if (force === true) {\n        display_loaded();\n      }} else if (Date.now() < root._bokeh_timeout) {\n      setTimeout(run_inline_js, 100);\n    } else if (!root._bokeh_failed_load) {\n      console.log(\"Bokeh: BokehJS failed to load within specified timeout.\");\n      root._bokeh_failed_load = true;\n    } else if (force !== true) {\n      const cell = $(document.getElementById(\"1002\")).parents('.cell').data().cell;\n      cell.output_area.append_execute_result(NB_LOAD_WARNING)\n    }\n\n  }\n\n  if (root._bokeh_is_loading === 0) {\n    console.debug(\"Bokeh: BokehJS loaded, going straight to plotting\");\n    run_inline_js();\n  } else {\n    load_libs(css_urls, js_urls, function() {\n      console.debug(\"Bokeh: BokehJS plotting callback run at\", now());\n      run_inline_js();\n    });\n  }\n}(window));"
     },
     "metadata": {},
     "output_type": "display_data"
    }
   ],
   "source": [
    "import pyspiel\n",
    "import open_spiel.python.games\n",
    "from open_spiel.python.observation import make_observation\n",
    "from open_spiel.python.examples.ubc_decorators import TakeSingleActionDecorator\n",
    "from open_spiel.python.examples.straightforward_agent import StraightforwardAgent\n",
    "from open_spiel.python.pytorch.mutations import *\n",
    "from open_spiel.python.examples.ppo_utils import EnvParams\n",
    "from open_spiel.python.examples.ppo_eval import eval_agents_parallel\n",
    "from open_spiel.python.env_decorator import *\n",
    "\n",
    "from auctions.webutils import *\n",
    "import os\n",
    "os.environ[\"DJANGO_ALLOW_ASYNC_UNSAFE\"] = \"true\"\n",
    "\n",
    "import sys\n",
    "import glob\n",
    "import pandas as pd\n",
    "import os\n",
    "import seaborn as sns\n",
    "\n",
    "from tqdm import tqdm\n",
    "from statsmodels.distributions.empirical_distribution import ECDF\n",
    "from collections import defaultdict\n",
    "import pickle\n",
    "import re\n",
    "import json\n",
    "import numpy as np \n",
    "import pandas as pd\n",
    "from absl import logging\n",
    "import tempfile\n",
    "import subprocess\n",
    "\n",
    "import open_spiel.python.games\n",
    "from open_spiel.python.examples.ubc_utils import *\n",
    "from open_spiel.python.algorithms.exploitability import nash_conv, best_response\n",
    "\n",
    "import bokeh\n",
    "from bokeh.io import curdoc\n",
    "from bokeh.plotting import figure, show, output_file, save\n",
    "from bokeh.layouts import row, column\n",
    "from bokeh.io import output_notebook\n",
    "from bokeh.models import HoverTool, ColumnDataSource, ColorBar, LogColorMapper, LinearColorMapper\n",
    "from bokeh.transform import linear_cmap, log_cmap, factor_cmap\n",
    "from bokeh.palettes import Category10_10, Magma256, Spectral10, Category20_20\n",
    "from bokeh.models import LinearAxis, Range1d\n",
    "from bokeh.models import ColumnDataSource, FactorRange\n",
    "\n",
    "from bokeh.resources import CDN\n",
    "from bokeh.embed import file_html\n",
    "\n",
    "from pathlib import Path\n",
    "\n",
    "import matplotlib.pyplot as plt\n",
    "import seaborn as sns\n",
    "from django.db.models import F\n",
    "from auctions.models import *\n",
    "\n",
    "import bokeh\n",
    "from bokeh.layouts import row, column\n",
    "from bokeh.plotting import figure, show, output_file, save\n",
    "from bokeh.io import output_notebook\n",
    "from bokeh.models import HoverTool, ColumnDataSource, ColorBar, LogColorMapper, LinearColorMapper\n",
    "from bokeh.transform import linear_cmap, log_cmap\n",
    "from bokeh.palettes import Category10_10, Magma256, Spectral10, Category20_20\n",
    "os.environ[\"DJANGO_ALLOW_ASYNC_UNSAFE\"] = \"true\"\n",
    "from open_spiel.python.examples.ubc_cma import *\n",
    "\n",
    "import itertools\n",
    "output_notebook()\n",
    "from open_spiel.python.examples.ubc_cma import *\n",
    "from open_spiel.python.examples.env_and_policy import *\n",
    "from open_spiel.python.examples.ppo_eval import run_eval\n",
    "from open_spiel.python.examples.straightforward_agent import StraightforwardAgent"
   ]
  },
  {
   "cell_type": "code",
   "execution_count": 6,
   "id": "4f37cb8f-a677-434c-8f11-e27ed6c0a236",
   "metadata": {},
   "outputs": [],
   "source": [
    "# GAME_NAME = 'confused_national'\n",
    "# GAME_NAME = 'all_confused_with_local'\n",
    "# GAME_NAME = '2rvn'\n",
    "# GAME_NAME = 'all_confused'\n",
    "# GAME_NAME = 'regional_vs_national'\n",
    "# GAME_NAME = 'very_small_sats_complete_symmetric'\n",
    "# GAME_NAME = 'may17'\n",
    "\n",
    "\n",
    "# GAME_NAME = 'may17'\n",
    "\n",
    "\n",
    "\n",
    "# PYSATS = '/apps/sats/python'\n",
    "# !python {PYSATS}/pysats.py --config_file {PYSATS}/{GAME_NAME}.yml --seed 777 --output_file {PYSATS}/{GAME_NAME}.json\n",
    "# GAME_NAME = f'{PYSATS}/{GAME_NAME}'"
   ]
  },
  {
   "cell_type": "code",
   "execution_count": 7,
   "id": "a1ff909f-3385-473e-9dec-e3705d962fee",
   "metadata": {},
   "outputs": [],
   "source": [
    "# # GAME_NAME = 'sats_2regions_2licenses_2players_5types'\n",
    "# GAME_NAME = 'confused_national'\n",
    "# # GAME_NAME = '/apps/sats/python/regional_vs_national'"
   ]
  },
  {
   "cell_type": "code",
   "execution_count": 26,
   "id": "002ff431-95bf-4b61-b2d1-d06ead98c392",
   "metadata": {},
   "outputs": [],
   "source": [
    "# GAME_NAME = 'jun2/jun2_4_base'\n",
    "GAME_NAME = 'jun24/jun24_1_base'\n"
   ]
  },
  {
   "cell_type": "code",
   "execution_count": 27,
   "id": "6e096029-75fa-4d5f-b508-33d8f8f8bc2b",
   "metadata": {},
   "outputs": [],
   "source": [
    "game = pyspiel.load_game('python_clock_auction', dict(filename=f'{GAME_NAME}.json'))"
   ]
  },
  {
   "cell_type": "code",
   "execution_count": 28,
   "id": "b18bcfc2-3dcd-44e5-b14d-14aee76f69df",
   "metadata": {},
   "outputs": [],
   "source": [
    "FACTOR_OPENING_PRICES = True\n",
    "# FACTOR_OPENING_PRICES = False"
   ]
  },
  {
   "cell_type": "code",
   "execution_count": 29,
   "id": "81cafe34-5f91-4bd9-b2f0-c0d0a2325e4d",
   "metadata": {},
   "outputs": [
    {
     "data": {
      "text/html": [
       "\n",
       "\n",
       "\n",
       "\n",
       "\n",
       "\n",
       "  <div class=\"bk-root\" id=\"c3937e69-86b1-4361-ab04-c18f1414fe70\" data-root-id=\"2321\"></div>\n"
      ]
     },
     "metadata": {},
     "output_type": "display_data"
    },
    {
     "data": {
      "application/javascript": [
       "(function(root) {\n",
       "  function embed_document(root) {\n",
       "    \n",
       "  const docs_json = {\"a9592377-4f61-4fb1-85bf-6f66f74e2d9b\":{\"defs\":[],\"roots\":{\"references\":[{\"attributes\":{\"below\":[{\"id\":\"2329\"}],\"center\":[{\"id\":\"2331\"},{\"id\":\"2335\"},{\"id\":\"2359\"}],\"height\":250,\"left\":[{\"id\":\"2332\"}],\"renderers\":[{\"id\":\"2347\"},{\"id\":\"2365\"}],\"right\":[{\"id\":\"2359\"}],\"title\":{\"id\":\"2349\"},\"toolbar\":{\"id\":\"2337\"},\"toolbar_location\":null,\"x_range\":{\"id\":\"2320\"},\"x_scale\":{\"id\":\"2325\"},\"y_range\":{\"id\":\"2323\"},\"y_scale\":{\"id\":\"2327\"}},\"id\":\"2321\",\"subtype\":\"Figure\",\"type\":\"Plot\"},{\"attributes\":{\"bottom\":{\"expr\":{\"id\":\"2339\"}},\"fill_alpha\":{\"value\":0.5},\"fill_color\":{\"value\":\"#1f77b4\"},\"hatch_alpha\":{\"value\":0.5},\"hatch_color\":{\"value\":\"#1f77b4\"},\"line_alpha\":{\"value\":0.5},\"line_color\":{\"value\":\"#1f77b4\"},\"top\":{\"expr\":{\"id\":\"2340\"}},\"width\":{\"value\":0.9},\"x\":{\"field\":\"x\"}},\"id\":\"2344\",\"type\":\"VBar\"},{\"attributes\":{\"tools\":[{\"id\":\"2336\"}]},\"id\":\"2337\",\"type\":\"Toolbar\"},{\"attributes\":{},\"id\":\"2353\",\"type\":\"AllLabels\"},{\"attributes\":{\"factors\":[[\"Ontario\",\"0_local\"],[\"Ontario\",\"1_regional\"],[\"Quebec\",\"0_local\"],[\"Quebec\",\"1_regional\"]],\"range_padding\":0.1},\"id\":\"2320\",\"type\":\"FactorRange\"},{\"attributes\":{},\"id\":\"2355\",\"type\":\"CategoricalTickFormatter\"},{\"attributes\":{\"coordinates\":null,\"formatter\":{\"id\":\"2352\"},\"group\":null,\"major_label_policy\":{\"id\":\"2353\"},\"ticker\":{\"id\":\"2333\"}},\"id\":\"2332\",\"type\":\"LinearAxis\"},{\"attributes\":{\"callback\":null,\"tooltips\":\"$name: @$name\"},\"id\":\"2336\",\"type\":\"HoverTool\"},{\"attributes\":{\"coordinates\":null,\"group\":null,\"text\":\"Player 0\"},\"id\":\"2349\",\"type\":\"Title\"},{\"attributes\":{},\"id\":\"2356\",\"type\":\"AllLabels\"},{\"attributes\":{\"click_policy\":\"mute\",\"coordinates\":null,\"group\":null,\"items\":[{\"id\":\"2360\"},{\"id\":\"2377\"}],\"location\":\"top_center\",\"orientation\":\"horizontal\"},\"id\":\"2359\",\"type\":\"Legend\"},{\"attributes\":{\"fields\":[\"1\"]},\"id\":\"2341\",\"type\":\"Stack\"},{\"attributes\":{\"bottom\":{\"expr\":{\"id\":\"2339\"}},\"fill_alpha\":{\"value\":0.2},\"fill_color\":{\"value\":\"#1f77b4\"},\"hatch_alpha\":{\"value\":0.2},\"hatch_color\":{\"value\":\"#1f77b4\"},\"line_alpha\":{\"value\":0.2},\"line_color\":{\"value\":\"#1f77b4\"},\"top\":{\"expr\":{\"id\":\"2340\"}},\"width\":{\"value\":0.9},\"x\":{\"field\":\"x\"}},\"id\":\"2346\",\"type\":\"VBar\"},{\"attributes\":{\"fields\":[\"1\",\"2\"]},\"id\":\"2342\",\"type\":\"Stack\"},{\"attributes\":{\"coordinates\":null,\"data_source\":{\"id\":\"2319\"},\"glyph\":{\"id\":\"2344\"},\"group\":null,\"hover_glyph\":null,\"muted_glyph\":{\"id\":\"2346\"},\"name\":\"1\",\"nonselection_glyph\":{\"id\":\"2345\"},\"view\":{\"id\":\"2348\"}},\"id\":\"2347\",\"type\":\"GlyphRenderer\"},{\"attributes\":{\"fields\":[\"1\"]},\"id\":\"2340\",\"type\":\"Stack\"},{\"attributes\":{\"axis\":{\"id\":\"2329\"},\"coordinates\":null,\"grid_line_color\":null,\"group\":null,\"ticker\":null},\"id\":\"2331\",\"type\":\"Grid\"},{\"attributes\":{},\"id\":\"2357\",\"type\":\"UnionRenderers\"},{\"attributes\":{\"source\":{\"id\":\"2319\"}},\"id\":\"2348\",\"type\":\"CDSView\"},{\"attributes\":{},\"id\":\"2358\",\"type\":\"Selection\"},{\"attributes\":{\"data\":{\"1\":[0,6,36,36],\"2\":[0,0,39,50],\"index\":[0,1,2,3],\"x\":[[\"Ontario\",\"0_local\"],[\"Ontario\",\"1_regional\"],[\"Quebec\",\"0_local\"],[\"Quebec\",\"1_regional\"]]},\"selected\":{\"id\":\"2358\"},\"selection_policy\":{\"id\":\"2357\"}},\"id\":\"2319\",\"type\":\"ColumnDataSource\"},{\"attributes\":{\"coordinates\":null,\"formatter\":{\"id\":\"2355\"},\"group\":null,\"major_label_orientation\":1,\"major_label_policy\":{\"id\":\"2356\"},\"ticker\":{\"id\":\"2330\"}},\"id\":\"2329\",\"type\":\"CategoricalAxis\"},{\"attributes\":{},\"id\":\"2333\",\"type\":\"BasicTicker\"},{\"attributes\":{\"axis\":{\"id\":\"2332\"},\"coordinates\":null,\"dimension\":1,\"group\":null,\"ticker\":null},\"id\":\"2335\",\"type\":\"Grid\"},{\"attributes\":{\"fields\":[]},\"id\":\"2339\",\"type\":\"Stack\"},{\"attributes\":{},\"id\":\"2323\",\"type\":\"DataRange1d\"},{\"attributes\":{},\"id\":\"2327\",\"type\":\"LinearScale\"},{\"attributes\":{\"bottom\":{\"expr\":{\"id\":\"2341\"}},\"fill_alpha\":{\"value\":0.5},\"fill_color\":{\"value\":\"#ff7f0e\"},\"hatch_alpha\":{\"value\":0.5},\"hatch_color\":{\"value\":\"#ff7f0e\"},\"line_alpha\":{\"value\":0.5},\"line_color\":{\"value\":\"#ff7f0e\"},\"top\":{\"expr\":{\"id\":\"2342\"}},\"width\":{\"value\":0.9},\"x\":{\"field\":\"x\"}},\"id\":\"2362\",\"type\":\"VBar\"},{\"attributes\":{\"bottom\":{\"expr\":{\"id\":\"2341\"}},\"fill_alpha\":{\"value\":0.1},\"fill_color\":{\"value\":\"#ff7f0e\"},\"hatch_alpha\":{\"value\":0.1},\"hatch_color\":{\"value\":\"#ff7f0e\"},\"line_alpha\":{\"value\":0.1},\"line_color\":{\"value\":\"#ff7f0e\"},\"top\":{\"expr\":{\"id\":\"2342\"}},\"width\":{\"value\":0.9},\"x\":{\"field\":\"x\"}},\"id\":\"2363\",\"type\":\"VBar\"},{\"attributes\":{\"label\":{\"value\":\"1\"},\"renderers\":[{\"id\":\"2347\"}]},\"id\":\"2360\",\"type\":\"LegendItem\"},{\"attributes\":{\"bottom\":{\"expr\":{\"id\":\"2339\"}},\"fill_alpha\":{\"value\":0.1},\"fill_color\":{\"value\":\"#1f77b4\"},\"hatch_alpha\":{\"value\":0.1},\"hatch_color\":{\"value\":\"#1f77b4\"},\"line_alpha\":{\"value\":0.1},\"line_color\":{\"value\":\"#1f77b4\"},\"top\":{\"expr\":{\"id\":\"2340\"}},\"width\":{\"value\":0.9},\"x\":{\"field\":\"x\"}},\"id\":\"2345\",\"type\":\"VBar\"},{\"attributes\":{\"bottom\":{\"expr\":{\"id\":\"2341\"}},\"fill_alpha\":{\"value\":0.2},\"fill_color\":{\"value\":\"#ff7f0e\"},\"hatch_alpha\":{\"value\":0.2},\"hatch_color\":{\"value\":\"#ff7f0e\"},\"line_alpha\":{\"value\":0.2},\"line_color\":{\"value\":\"#ff7f0e\"},\"top\":{\"expr\":{\"id\":\"2342\"}},\"width\":{\"value\":0.9},\"x\":{\"field\":\"x\"}},\"id\":\"2364\",\"type\":\"VBar\"},{\"attributes\":{},\"id\":\"2325\",\"type\":\"CategoricalScale\"},{\"attributes\":{\"coordinates\":null,\"data_source\":{\"id\":\"2319\"},\"glyph\":{\"id\":\"2362\"},\"group\":null,\"hover_glyph\":null,\"muted_glyph\":{\"id\":\"2364\"},\"name\":\"2\",\"nonselection_glyph\":{\"id\":\"2363\"},\"view\":{\"id\":\"2366\"}},\"id\":\"2365\",\"type\":\"GlyphRenderer\"},{\"attributes\":{},\"id\":\"2330\",\"type\":\"CategoricalTicker\"},{\"attributes\":{\"source\":{\"id\":\"2319\"}},\"id\":\"2366\",\"type\":\"CDSView\"},{\"attributes\":{},\"id\":\"2352\",\"type\":\"BasicTickFormatter\"},{\"attributes\":{\"label\":{\"value\":\"2\"},\"renderers\":[{\"id\":\"2365\"}]},\"id\":\"2377\",\"type\":\"LegendItem\"}],\"root_ids\":[\"2321\"]},\"title\":\"Bokeh Application\",\"version\":\"2.4.2\"}};\n",
       "  const render_items = [{\"docid\":\"a9592377-4f61-4fb1-85bf-6f66f74e2d9b\",\"root_ids\":[\"2321\"],\"roots\":{\"2321\":\"c3937e69-86b1-4361-ab04-c18f1414fe70\"}}];\n",
       "  root.Bokeh.embed.embed_items_notebook(docs_json, render_items);\n",
       "\n",
       "  }\n",
       "  if (root.Bokeh !== undefined) {\n",
       "    embed_document(root);\n",
       "  } else {\n",
       "    let attempts = 0;\n",
       "    const timer = setInterval(function(root) {\n",
       "      if (root.Bokeh !== undefined) {\n",
       "        clearInterval(timer);\n",
       "        embed_document(root);\n",
       "      } else {\n",
       "        attempts++;\n",
       "        if (attempts > 100) {\n",
       "          clearInterval(timer);\n",
       "          console.log(\"Bokeh: ERROR: Unable to run BokehJS code because BokehJS library is missing\");\n",
       "        }\n",
       "      }\n",
       "    }, 10, root)\n",
       "  }\n",
       "})(window);"
      ],
      "application/vnd.bokehjs_exec.v0+json": ""
     },
     "metadata": {
      "application/vnd.bokehjs_exec.v0+json": {
       "id": "2321"
      }
     },
     "output_type": "display_data"
    },
    {
     "data": {
      "text/html": [
       "\n",
       "\n",
       "\n",
       "\n",
       "\n",
       "\n",
       "  <div class=\"bk-root\" id=\"b7405c27-71ad-4cf6-a077-12a30b58e9d9\" data-root-id=\"2521\"></div>\n"
      ]
     },
     "metadata": {},
     "output_type": "display_data"
    },
    {
     "data": {
      "application/javascript": [
       "(function(root) {\n",
       "  function embed_document(root) {\n",
       "    \n",
       "  const docs_json = {\"d0abf933-cbc2-42ad-8139-459e484acb07\":{\"defs\":[],\"roots\":{\"references\":[{\"attributes\":{\"below\":[{\"id\":\"2529\"}],\"center\":[{\"id\":\"2531\"},{\"id\":\"2535\"},{\"id\":\"2559\"}],\"height\":250,\"left\":[{\"id\":\"2532\"}],\"renderers\":[{\"id\":\"2547\"},{\"id\":\"2565\"}],\"right\":[{\"id\":\"2559\"}],\"title\":{\"id\":\"2549\"},\"toolbar\":{\"id\":\"2537\"},\"toolbar_location\":null,\"x_range\":{\"id\":\"2520\"},\"x_scale\":{\"id\":\"2525\"},\"y_range\":{\"id\":\"2523\"},\"y_scale\":{\"id\":\"2527\"}},\"id\":\"2521\",\"subtype\":\"Figure\",\"type\":\"Plot\"},{\"attributes\":{\"click_policy\":\"mute\",\"coordinates\":null,\"group\":null,\"items\":[{\"id\":\"2560\"},{\"id\":\"2577\"}],\"location\":\"top_center\",\"orientation\":\"horizontal\"},\"id\":\"2559\",\"type\":\"Legend\"},{\"attributes\":{},\"id\":\"2556\",\"type\":\"AllLabels\"},{\"attributes\":{\"coordinates\":null,\"formatter\":{\"id\":\"2555\"},\"group\":null,\"major_label_orientation\":1,\"major_label_policy\":{\"id\":\"2556\"},\"ticker\":{\"id\":\"2530\"}},\"id\":\"2529\",\"type\":\"CategoricalAxis\"},{\"attributes\":{},\"id\":\"2557\",\"type\":\"UnionRenderers\"},{\"attributes\":{\"coordinates\":null,\"group\":null,\"text\":\"Player 1\"},\"id\":\"2549\",\"type\":\"Title\"},{\"attributes\":{\"tools\":[{\"id\":\"2536\"}]},\"id\":\"2537\",\"type\":\"Toolbar\"},{\"attributes\":{},\"id\":\"2527\",\"type\":\"LinearScale\"},{\"attributes\":{\"fields\":[\"1\"]},\"id\":\"2540\",\"type\":\"Stack\"},{\"attributes\":{},\"id\":\"2558\",\"type\":\"Selection\"},{\"attributes\":{\"bottom\":{\"expr\":{\"id\":\"2541\"}},\"fill_alpha\":{\"value\":0.5},\"fill_color\":{\"value\":\"#ff7f0e\"},\"hatch_alpha\":{\"value\":0.5},\"hatch_color\":{\"value\":\"#ff7f0e\"},\"line_alpha\":{\"value\":0.5},\"line_color\":{\"value\":\"#ff7f0e\"},\"top\":{\"expr\":{\"id\":\"2542\"}},\"width\":{\"value\":0.9},\"x\":{\"field\":\"x\"}},\"id\":\"2562\",\"type\":\"VBar\"},{\"attributes\":{\"factors\":[[\"Ontario\",\"0_national\"],[\"Ontario\",\"1_regional\"],[\"Quebec\",\"0_national\"],[\"Quebec\",\"1_regional\"]],\"range_padding\":0.1},\"id\":\"2520\",\"type\":\"FactorRange\"},{\"attributes\":{\"coordinates\":null,\"formatter\":{\"id\":\"2552\"},\"group\":null,\"major_label_policy\":{\"id\":\"2553\"},\"ticker\":{\"id\":\"2533\"}},\"id\":\"2532\",\"type\":\"LinearAxis\"},{\"attributes\":{\"fields\":[]},\"id\":\"2539\",\"type\":\"Stack\"},{\"attributes\":{\"bottom\":{\"expr\":{\"id\":\"2541\"}},\"fill_alpha\":{\"value\":0.1},\"fill_color\":{\"value\":\"#ff7f0e\"},\"hatch_alpha\":{\"value\":0.1},\"hatch_color\":{\"value\":\"#ff7f0e\"},\"line_alpha\":{\"value\":0.1},\"line_color\":{\"value\":\"#ff7f0e\"},\"top\":{\"expr\":{\"id\":\"2542\"}},\"width\":{\"value\":0.9},\"x\":{\"field\":\"x\"}},\"id\":\"2563\",\"type\":\"VBar\"},{\"attributes\":{\"bottom\":{\"expr\":{\"id\":\"2541\"}},\"fill_alpha\":{\"value\":0.2},\"fill_color\":{\"value\":\"#ff7f0e\"},\"hatch_alpha\":{\"value\":0.2},\"hatch_color\":{\"value\":\"#ff7f0e\"},\"line_alpha\":{\"value\":0.2},\"line_color\":{\"value\":\"#ff7f0e\"},\"top\":{\"expr\":{\"id\":\"2542\"}},\"width\":{\"value\":0.9},\"x\":{\"field\":\"x\"}},\"id\":\"2564\",\"type\":\"VBar\"},{\"attributes\":{\"bottom\":{\"expr\":{\"id\":\"2539\"}},\"fill_alpha\":{\"value\":0.2},\"fill_color\":{\"value\":\"#1f77b4\"},\"hatch_alpha\":{\"value\":0.2},\"hatch_color\":{\"value\":\"#1f77b4\"},\"line_alpha\":{\"value\":0.2},\"line_color\":{\"value\":\"#1f77b4\"},\"top\":{\"expr\":{\"id\":\"2540\"}},\"width\":{\"value\":0.9},\"x\":{\"field\":\"x\"}},\"id\":\"2546\",\"type\":\"VBar\"},{\"attributes\":{\"source\":{\"id\":\"2519\"}},\"id\":\"2548\",\"type\":\"CDSView\"},{\"attributes\":{},\"id\":\"2530\",\"type\":\"CategoricalTicker\"},{\"attributes\":{\"coordinates\":null,\"data_source\":{\"id\":\"2519\"},\"glyph\":{\"id\":\"2562\"},\"group\":null,\"hover_glyph\":null,\"muted_glyph\":{\"id\":\"2564\"},\"name\":\"2\",\"nonselection_glyph\":{\"id\":\"2563\"},\"view\":{\"id\":\"2566\"}},\"id\":\"2565\",\"type\":\"GlyphRenderer\"},{\"attributes\":{},\"id\":\"2525\",\"type\":\"CategoricalScale\"},{\"attributes\":{},\"id\":\"2523\",\"type\":\"DataRange1d\"},{\"attributes\":{\"source\":{\"id\":\"2519\"}},\"id\":\"2566\",\"type\":\"CDSView\"},{\"attributes\":{\"coordinates\":null,\"data_source\":{\"id\":\"2519\"},\"glyph\":{\"id\":\"2544\"},\"group\":null,\"hover_glyph\":null,\"muted_glyph\":{\"id\":\"2546\"},\"name\":\"1\",\"nonselection_glyph\":{\"id\":\"2545\"},\"view\":{\"id\":\"2548\"}},\"id\":\"2547\",\"type\":\"GlyphRenderer\"},{\"attributes\":{\"label\":{\"value\":\"2\"},\"renderers\":[{\"id\":\"2565\"}]},\"id\":\"2577\",\"type\":\"LegendItem\"},{\"attributes\":{\"axis\":{\"id\":\"2532\"},\"coordinates\":null,\"dimension\":1,\"group\":null,\"ticker\":null},\"id\":\"2535\",\"type\":\"Grid\"},{\"attributes\":{\"bottom\":{\"expr\":{\"id\":\"2539\"}},\"fill_alpha\":{\"value\":0.5},\"fill_color\":{\"value\":\"#1f77b4\"},\"hatch_alpha\":{\"value\":0.5},\"hatch_color\":{\"value\":\"#1f77b4\"},\"line_alpha\":{\"value\":0.5},\"line_color\":{\"value\":\"#1f77b4\"},\"top\":{\"expr\":{\"id\":\"2540\"}},\"width\":{\"value\":0.9},\"x\":{\"field\":\"x\"}},\"id\":\"2544\",\"type\":\"VBar\"},{\"attributes\":{\"bottom\":{\"expr\":{\"id\":\"2539\"}},\"fill_alpha\":{\"value\":0.1},\"fill_color\":{\"value\":\"#1f77b4\"},\"hatch_alpha\":{\"value\":0.1},\"hatch_color\":{\"value\":\"#1f77b4\"},\"line_alpha\":{\"value\":0.1},\"line_color\":{\"value\":\"#1f77b4\"},\"top\":{\"expr\":{\"id\":\"2540\"}},\"width\":{\"value\":0.9},\"x\":{\"field\":\"x\"}},\"id\":\"2545\",\"type\":\"VBar\"},{\"attributes\":{\"data\":{\"1\":[52,46,37,0],\"2\":[48,19,55,0],\"index\":[0,1,2,3],\"x\":[[\"Ontario\",\"0_national\"],[\"Ontario\",\"1_regional\"],[\"Quebec\",\"0_national\"],[\"Quebec\",\"1_regional\"]]},\"selected\":{\"id\":\"2558\"},\"selection_policy\":{\"id\":\"2557\"}},\"id\":\"2519\",\"type\":\"ColumnDataSource\"},{\"attributes\":{\"callback\":null,\"tooltips\":\"$name: @$name\"},\"id\":\"2536\",\"type\":\"HoverTool\"},{\"attributes\":{},\"id\":\"2552\",\"type\":\"BasicTickFormatter\"},{\"attributes\":{\"label\":{\"value\":\"1\"},\"renderers\":[{\"id\":\"2547\"}]},\"id\":\"2560\",\"type\":\"LegendItem\"},{\"attributes\":{},\"id\":\"2533\",\"type\":\"BasicTicker\"},{\"attributes\":{},\"id\":\"2553\",\"type\":\"AllLabels\"},{\"attributes\":{\"axis\":{\"id\":\"2529\"},\"coordinates\":null,\"grid_line_color\":null,\"group\":null,\"ticker\":null},\"id\":\"2531\",\"type\":\"Grid\"},{\"attributes\":{\"fields\":[\"1\",\"2\"]},\"id\":\"2542\",\"type\":\"Stack\"},{\"attributes\":{},\"id\":\"2555\",\"type\":\"CategoricalTickFormatter\"},{\"attributes\":{\"fields\":[\"1\"]},\"id\":\"2541\",\"type\":\"Stack\"}],\"root_ids\":[\"2521\"]},\"title\":\"Bokeh Application\",\"version\":\"2.4.2\"}};\n",
       "  const render_items = [{\"docid\":\"d0abf933-cbc2-42ad-8139-459e484acb07\",\"root_ids\":[\"2521\"],\"roots\":{\"2521\":\"b7405c27-71ad-4cf6-a077-12a30b58e9d9\"}}];\n",
       "  root.Bokeh.embed.embed_items_notebook(docs_json, render_items);\n",
       "\n",
       "  }\n",
       "  if (root.Bokeh !== undefined) {\n",
       "    embed_document(root);\n",
       "  } else {\n",
       "    let attempts = 0;\n",
       "    const timer = setInterval(function(root) {\n",
       "      if (root.Bokeh !== undefined) {\n",
       "        clearInterval(timer);\n",
       "        embed_document(root);\n",
       "      } else {\n",
       "        attempts++;\n",
       "        if (attempts > 100) {\n",
       "          clearInterval(timer);\n",
       "          console.log(\"Bokeh: ERROR: Unable to run BokehJS code because BokehJS library is missing\");\n",
       "        }\n",
       "      }\n",
       "    }, 10, root)\n",
       "  }\n",
       "})(window);"
      ],
      "application/vnd.bokehjs_exec.v0+json": ""
     },
     "metadata": {
      "application/vnd.bokehjs_exec.v0+json": {
       "id": "2521"
      }
     },
     "output_type": "display_data"
    }
   ],
   "source": [
    "# Stuff that doesn't chagne per player\n",
    "packages = game.auction_params.all_bids\n",
    "pure_packages_indices = np.where(np.count_nonzero(packages, axis=1) == 1)\n",
    "pure_packages = packages[pure_packages_indices]\n",
    "products = [num_to_letter(i) for i in range(game.auction_params.num_products)]\n",
    "quantities = list(map(str, range(1, max(game.auction_params.licenses) + 1)))\n",
    "max_quantity = max(game.auction_params.licenses)\n",
    "colors = Category10_10[:len(quantities)]\n",
    "player_types = game.auction_params.player_types\n",
    "\n",
    "# TODO: Should assert this only works for Enumerated Bidder\n",
    "for player_index, player_type in player_types.items():\n",
    "    num_types = len(player_types[player_index])\n",
    "\n",
    "    records = []\n",
    "    \n",
    "    num_types = len(player_types[player_index])\n",
    "\n",
    "    for type_index in range(num_types):\n",
    "        bidder = player_types[player_index][type_index]['bidder']\n",
    "        values = bidder.get_profits(game.auction_params.opening_prices) if FACTOR_OPENING_PRICES else bidder.get_values()\n",
    "        values = values[pure_packages_indices]\n",
    "        \n",
    "        for package_index, pure_package in enumerate(pure_packages):\n",
    "            product_index = np.nonzero(pure_package)[0][0]\n",
    "            q = pure_package[product_index]\n",
    "            record = dict(x=(game.auction_params.license_names[product_index], f'{type_index}_{bidder.name}' or str(type_index)), q=q, value=values[package_index])\n",
    "            records.append(record)\n",
    "    \n",
    "    df = pd.DataFrame.from_records(records).pivot(index='x', columns='q')\n",
    "    df.columns = map(str,df.columns.get_level_values(1))\n",
    "    df = df.reset_index()\n",
    "    marginal_df = df.copy()\n",
    "    marginal_df[\"1\"] = np.maximum(marginal_df[\"1\"], 0)\n",
    "    for z in range(2, max_quantity + 1):\n",
    "        marginal_df[str(z)] = np.maximum(0, df[str(z)] - df[str(z - 1)])\n",
    "\n",
    "    df = marginal_df\n",
    "    \n",
    "    if not FACTOR_OPENING_PRICES and (df.select_dtypes(include=np.number) < 0).sum().sum():\n",
    "        # for pkg, val in zip(game.auction_params.all_bids,bidder.values):\n",
    "        #     print(pkg, val)\n",
    "        raise ValueError(\"No negative numbers expected!\")\n",
    "    \n",
    "    source = ColumnDataSource(df)\n",
    "    factors = df['x'].values\n",
    "\n",
    "    p = figure(x_range=FactorRange(*factors), height=250, toolbar_location=None, tools=\"hover\", tooltips=\"$name: @$name\")\n",
    "\n",
    "    p.vbar_stack(quantities, x='x', width=0.9, alpha=0.5, color=colors, source=source, legend_label=quantities)\n",
    "\n",
    "    # p.y_range.start = 0\n",
    "    # p.y_range.end = 18\n",
    "    p.x_range.range_padding = 0.1\n",
    "    p.xaxis.major_label_orientation = 1\n",
    "    p.xgrid.grid_line_color = None\n",
    "    p.legend.location = \"top_center\"\n",
    "    p.legend.click_policy = 'mute'\n",
    "    p.legend.orientation = \"horizontal\"\n",
    "    p.add_layout(p.legend[0], 'right')\n",
    "    p.title.text = f'Player {player_index}'\n",
    "\n",
    "    # TODO: Add total value to hover, not just marginal\n",
    "    show(p)\n"
   ]
  },
  {
   "cell_type": "code",
   "execution_count": 21,
   "id": "1fb416a0-936e-4d58-a937-ad51517ae928",
   "metadata": {},
   "outputs": [
    {
     "name": "stdout",
     "output_type": "stream",
     "text": [
      "[32, 19]\n",
      "[  0  37  60  35  73  96  68 105 128]\n"
     ]
    },
    {
     "data": {
      "text/plain": [
       "array([[0, 0],\n",
       "       [0, 1],\n",
       "       [0, 2],\n",
       "       [1, 0],\n",
       "       [1, 1],\n",
       "       [1, 2],\n",
       "       [2, 0],\n",
       "       [2, 1],\n",
       "       [2, 2]])"
      ]
     },
     "execution_count": 21,
     "metadata": {},
     "output_type": "execute_result"
    }
   ],
   "source": [
    "print(game.auction_params.opening_prices)\n",
    "game.auction_params.licenses\n",
    "print(game.new_initial_state().child(0).child(1).bidders[1].bidder.get_values())\n",
    "game.new_initial_state().child(0).child(1).bidders[1].bidder.all_bids"
   ]
  },
  {
   "cell_type": "code",
   "execution_count": 60,
   "id": "c77f249a-cd68-4789-a269-7b004ad46be0",
   "metadata": {},
   "outputs": [
    {
     "name": "stderr",
     "output_type": "stream",
     "text": [
      "100%|██████████████████████████████████████████████████████████████████████████████████████████████████████████████████████████████████████████████████████████████████████████████████████████████████████████████████████████████████████████| 4/4 [00:00<00:00, 174.21it/s]\n"
     ]
    }
   ],
   "source": [
    "df, combo_to_score, scorer = efficient_allocation(game, factor_in_opening_prices=FACTOR_OPENING_PRICES)"
   ]
  },
  {
   "cell_type": "code",
   "execution_count": null,
   "id": "20c296ee-ff72-4581-a9fd-8caa8732d1d9",
   "metadata": {},
   "outputs": [],
   "source": [
    "pd.DataFrame(*df['allocation'].values)"
   ]
  },
  {
   "cell_type": "code",
   "execution_count": null,
   "id": "07fcceb0-2abf-4856-8cae-0dee0d7a8c7c",
   "metadata": {},
   "outputs": [],
   "source": [
    "worst_case_profit, allocation = efficient_allocation_avg_type(game, factor_in_opening_prices=FACTOR_OPENING_PRICES)"
   ]
  },
  {
   "cell_type": "code",
   "execution_count": null,
   "id": "8358acf2-469e-486e-92c6-52c3c60fbc2b",
   "metadata": {},
   "outputs": [],
   "source": [
    "allocation"
   ]
  },
  {
   "cell_type": "code",
   "execution_count": null,
   "id": "531f14a1-53b3-40f9-abb4-f42e00f861e9",
   "metadata": {},
   "outputs": [],
   "source": [
    "worst_case_profit / df['score'].mean()"
   ]
  },
  {
   "cell_type": "code",
   "execution_count": null,
   "id": "bde65433-4e1d-4aa4-a195-1d449d5f7f14",
   "metadata": {},
   "outputs": [],
   "source": [
    "worst_case_profit"
   ]
  },
  {
   "cell_type": "code",
   "execution_count": null,
   "id": "4a09a5cc-eefb-4c79-99c3-dfcf55dc75ab",
   "metadata": {},
   "outputs": [],
   "source": [
    "df['score'].mean()"
   ]
  },
  {
   "cell_type": "code",
   "execution_count": null,
   "id": "a5f3a9e9-2b50-410c-b60e-4080a383bf96",
   "metadata": {},
   "outputs": [],
   "source": [
    "df"
   ]
  },
  {
   "cell_type": "code",
   "execution_count": null,
   "id": "55793e10-cf9c-4d79-b0dc-5d34424beb68",
   "metadata": {},
   "outputs": [],
   "source": [
    "# TODO: Only works for 2p\n",
    "df[['p0_type', 'p1_type']] = pd.DataFrame(df['combo'].apply(lambda x: x[:2]).tolist())\n",
    "df[['p0_allocation', 'p1_allocation']] = pd.DataFrame(df['allocation'].apply(lambda x: x[:2]).tolist())\n",
    "df[['r', 'g', 'b']] = pd.DataFrame(df['p0_allocation'].tolist()) / 3\n",
    "\n",
    "plt_rgb = df[['r', 'g', 'b']].values\n",
    "plt_x = df['p0_type'].values\n",
    "plt_y = df['p1_type'].values\n",
    "plt_colors = np.zeros((max(plt_x)+1, max(plt_y)+1, 3))\n",
    "plt_colors[plt_y, plt_x, :] = plt_rgb\n",
    "plt.imshow(plt_colors, interpolation='nearest')\n",
    "plt.xlabel('Player 0 type')\n",
    "plt.ylabel('Player 1 type')\n",
    "plt.show()"
   ]
  },
  {
   "cell_type": "code",
   "execution_count": null,
   "id": "af1e255e-b455-4212-939e-fd8680f2bb91",
   "metadata": {},
   "outputs": [],
   "source": [
    "plt_colors[1, 2]"
   ]
  },
  {
   "cell_type": "code",
   "execution_count": null,
   "id": "44985de3-a896-4a0a-b00c-8197ff82805d",
   "metadata": {},
   "outputs": [],
   "source": [
    "plt_colors[0, 2]"
   ]
  },
  {
   "cell_type": "code",
   "execution_count": null,
   "id": "366d4f3f-6700-4709-9d69-4bc6b121bd0b",
   "metadata": {},
   "outputs": [],
   "source": [
    "df"
   ]
  },
  {
   "cell_type": "code",
   "execution_count": null,
   "id": "242b528d-54ab-49d1-912b-b3f3b166d6dc",
   "metadata": {},
   "outputs": [],
   "source": [
    "df['allocation'].value_counts()"
   ]
  },
  {
   "cell_type": "code",
   "execution_count": null,
   "id": "701cb94f-8099-47d4-8803-98b5c20f926e",
   "metadata": {},
   "outputs": [],
   "source": [
    "a = game.auction_params.player_types[0][0]['bidder'].value_for_package([1,2,1])\n",
    "b = game.auction_params.player_types[1][0]['bidder'].value_for_package([2,1,2])\n",
    "print(a, b, a+b)"
   ]
  },
  {
   "cell_type": "code",
   "execution_count": null,
   "id": "ed4f48ed-decf-4d4d-bc91-364ddbaad4a9",
   "metadata": {},
   "outputs": [],
   "source": [
    "a = game.auction_params.player_types[0][0]['bidder'].value_for_package([0,2,0])\n",
    "b = game.auction_params.player_types[1][0]['bidder'].value_for_package([3,1,3])\n",
    "print(a, b, a+b)"
   ]
  },
  {
   "cell_type": "code",
   "execution_count": null,
   "id": "93458242-7b9a-4911-b801-b86276305ee0",
   "metadata": {},
   "outputs": [],
   "source": [
    "game.auction_params.player_types[1][0]['bidder'].value_for_package([3,0,0])"
   ]
  },
  {
   "cell_type": "code",
   "execution_count": null,
   "id": "5ef1e2cb-2594-4c6c-8fd1-82befc832a08",
   "metadata": {},
   "outputs": [],
   "source": [
    "df"
   ]
  },
  {
   "cell_type": "code",
   "execution_count": null,
   "id": "ab72de9b-3e34-4083-add8-b19745a915a9",
   "metadata": {},
   "outputs": [],
   "source": [
    "from open_spiel.python.examples.ubc_cma import *\n",
    "from open_spiel.python.examples.env_and_policy import *\n",
    "from open_spiel.python.examples.ppo_eval import run_eval\n",
    "from open_spiel.python.examples.straightforward_agent import StraightforwardAgent"
   ]
  },
  {
   "cell_type": "code",
   "execution_count": null,
   "id": "2e4f56c2-2b06-4cdc-a439-7d7c8ea7ce76",
   "metadata": {},
   "outputs": [],
   "source": [
    "game.auction_params.increment = 0.05"
   ]
  },
  {
   "cell_type": "code",
   "execution_count": null,
   "id": "cc96d79c-abe9-4f37-93d7-921d03697fa9",
   "metadata": {},
   "outputs": [],
   "source": [
    "all_allocations = []\n",
    "for combo in tqdm(type_combos(game)):\n",
    "    history_prefix = [combo[p]['index'] for p in range(game.num_players())]\n",
    "    named_combo = [combo[p]['bidder'].name for p in range(game.num_players())]\n",
    "    env = EnvParams(track_stats=True, history_prefix=history_prefix, num_envs=1, normalize_rewards=False).make_env(game)\n",
    "    env_and_policy = EnvAndPolicy(env=env, agents=[StraightforwardAgent(0, game), StraightforwardAgent(1, game)], game=game)\n",
    "    evaluation = run_eval(env_and_policy, num_samples=10)\n",
    "    allocations = []\n",
    "    for player in range(game.num_players()):\n",
    "        allocation = np.array(evaluation['allocations'][player]).mean(axis=0)\n",
    "        allocations.append(allocation)\n",
    "    all_allocations.append((named_combo, np.round(allocations, 2)))"
   ]
  },
  {
   "cell_type": "code",
   "execution_count": null,
   "id": "1c217fc8-f1ee-4dff-b76b-75e78c0b0214",
   "metadata": {},
   "outputs": [],
   "source": [
    "all_allocations"
   ]
  },
  {
   "cell_type": "code",
   "execution_count": null,
   "id": "bd7d94f4-426c-4e88-b207-03a41c118e6a",
   "metadata": {},
   "outputs": [],
   "source": [
    "# Iterate over cartesian product of types\n"
   ]
  },
  {
   "cell_type": "code",
   "execution_count": null,
   "id": "887af035-8d26-4319-a067-9c9f84a736a4",
   "metadata": {},
   "outputs": [],
   "source": [
    "history_prefix = [1,1]\n",
    "named_combo = ['n', 'n']\n",
    "env = EnvParams(track_stats=True, history_prefix=history_prefix, num_envs=1, normalize_rewards=False).make_env(game)\n",
    "env_and_policy = EnvAndPolicy(env=env, agents=[StraightforwardAgent(0, game), StraightforwardAgent(1, game)], game=game)\n",
    "evaluation = run_eval(env_and_policy, num_samples=2)\n"
   ]
  },
  {
   "cell_type": "code",
   "execution_count": null,
   "id": "37421c9a-8e2e-43ae-ad05-268f5fc40e7a",
   "metadata": {},
   "outputs": [],
   "source": [
    "x = [(1,2,3), (4,5,6)]\n",
    "for item in x:\n",
    "    x.remove((4,5,6))"
   ]
  },
  {
   "cell_type": "code",
   "execution_count": null,
   "id": "e20d2ff5-f9e1-4caa-8bef-6364da9cf23f",
   "metadata": {},
   "outputs": [],
   "source": [
    "x"
   ]
  },
  {
   "cell_type": "code",
   "execution_count": 16,
   "id": "943dcb97-d72a-4d16-8987-33d62b025063",
   "metadata": {},
   "outputs": [],
   "source": [
    "s= game.new_initial_state()"
   ]
  },
  {
   "cell_type": "code",
   "execution_count": 18,
   "id": "15fd9a88-2810-4ecd-bad9-745971ac25e7",
   "metadata": {},
   "outputs": [
    {
     "data": {
      "text/plain": [
       "\u001b[0;31mDocstring:\u001b[0m clone(self: pyspiel.State) -> pyspiel.State\n",
       "\u001b[0;31mType:\u001b[0m      method\n"
      ]
     },
     "metadata": {},
     "output_type": "display_data"
    }
   ],
   "source": [
    "s.clone?"
   ]
  },
  {
   "cell_type": "code",
   "execution_count": null,
   "id": "512909cf-99b0-4b3a-b89d-cd9101e986d1",
   "metadata": {},
   "outputs": [],
   "source": []
  }
 ],
 "metadata": {
  "kernelspec": {
   "display_name": "Django Shell-Plus",
   "language": "python",
   "name": "django_extensions"
  },
  "language_info": {
   "codemirror_mode": {
    "name": "ipython",
    "version": 3
   },
   "file_extension": ".py",
   "mimetype": "text/x-python",
   "name": "python",
   "nbconvert_exporter": "python",
   "pygments_lexer": "ipython3",
   "version": "3.8.2"
  }
 },
 "nbformat": 4,
 "nbformat_minor": 5
}
