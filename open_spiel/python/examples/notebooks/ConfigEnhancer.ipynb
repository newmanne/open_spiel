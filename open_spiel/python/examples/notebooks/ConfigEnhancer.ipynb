{
 "cells": [
  {
   "cell_type": "code",
   "execution_count": 18,
   "id": "aeb9f400-f86c-4413-844c-2c5ef8b6f835",
   "metadata": {},
   "outputs": [
    {
     "name": "stdout",
     "output_type": "stream",
     "text": [
      "The autoreload extension is already loaded. To reload it, use:\n",
      "  %reload_ext autoreload\n"
     ]
    }
   ],
   "source": [
    "%load_ext autoreload\n",
    "%autoreload 2\n",
    "%matplotlib inline\n",
    "\n",
    "import sys\n",
    "import glob\n",
    "import pandas as pd\n",
    "import os\n",
    "import seaborn as sns\n",
    "\n",
    "from tqdm import tqdm\n",
    "from statsmodels.distributions.empirical_distribution import ECDF\n",
    "from collections import defaultdict\n",
    "import pickle\n",
    "import re\n",
    "import json\n",
    "from pathlib import Path\n",
    "\n",
    "\n",
    "from open_spiel.python.algorithms.exploitability import nash_conv, best_response\n",
    "from open_spiel.python.examples.ubc_plotting_utils import *\n",
    "\n",
    "\n",
    "import bokeh\n",
    "from bokeh.layouts import row, column\n",
    "from bokeh.plotting import figure, show, output_file, save\n",
    "from bokeh.io import output_notebook\n",
    "from bokeh.models import HoverTool, ColumnDataSource, ColorBar, LogColorMapper, LinearColorMapper\n",
    "from bokeh.transform import linear_cmap, log_cmap\n",
    "os.environ[\"DJANGO_ALLOW_ASYNC_UNSAFE\"] = \"true\"\n",
    "from auctions.webutils import *\n",
    "\n",
    "from sklearn.model_selection import ParameterGrid\n",
    "import json\n",
    "import copy"
   ]
  },
  {
   "cell_type": "code",
   "execution_count": 19,
   "id": "ea4b3e0e-6c25-469c-aded-6688bbaf124e",
   "metadata": {},
   "outputs": [],
   "source": [
    "base_name = '/apps/open_spiel/configs/sats_3regions_3licenses_5types.json'\n",
    "with open(base_name, 'r') as f:\n",
    "    base_config = json.load(f)\n",
    "    \n"
   ]
  },
  {
   "cell_type": "code",
   "execution_count": 20,
   "id": "8006df7d-a028-47ff-b150-1cc49d1e6860",
   "metadata": {},
   "outputs": [],
   "source": [
    "choices = {\n",
    "    'information_policy': ['show_demand', 'hide_demand'],\n",
    "    'pricing_bonus': [0.0, 0.05, 0.25],\n",
    "}\n",
    "\n",
    "grid = ParameterGrid(choices)"
   ]
  },
  {
   "cell_type": "code",
   "execution_count": 32,
   "id": "85cbb6cb-3f44-4524-9e04-1180a79b1fb7",
   "metadata": {},
   "outputs": [],
   "source": [
    "def write_config(base_config, params, base_name):\n",
    "    config = copy.deepcopy(base_config)\n",
    "    config['information_policy'] = params['information_policy']\n",
    "    for player in base_config['players']:\n",
    "        for player_type in range(len(player['type'])):\n",
    "            player['type'][player_type]['pricing_bonus'] = params['pricing_bonus']\n",
    "    \n",
    "    extension = '_hide' if params['information_policy'] == 'hide_demand' else ''\n",
    "    if params.get('pricing_bonus', 0) > 0:\n",
    "        pretty_pricing = int(100 * params[\"pricing_bonus\"])\n",
    "        extension += f'_spiteful_{pretty_pricing}'\n",
    "    base_name = base_name.replace('.json','')\n",
    "    with open(f'{base_name}{extension}.json', 'w') as f:\n",
    "        json.dump(config, f, indent=4)"
   ]
  },
  {
   "cell_type": "code",
   "execution_count": 33,
   "id": "fa90ab3d-534e-45d1-b58c-603097b66364",
   "metadata": {},
   "outputs": [],
   "source": [
    "for config in grid:\n",
    "    write_config(base_config, config, base_name)"
   ]
  },
  {
   "cell_type": "code",
   "execution_count": null,
   "id": "dc997b50-87db-418c-b359-603c7b0c180a",
   "metadata": {},
   "outputs": [],
   "source": []
  },
  {
   "cell_type": "code",
   "execution_count": null,
   "id": "2c8316c7-bcb7-404d-9cda-dfa6b3540822",
   "metadata": {},
   "outputs": [],
   "source": []
  }
 ],
 "metadata": {
  "kernelspec": {
   "display_name": "Django Shell-Plus",
   "language": "python",
   "name": "django_extensions"
  },
  "language_info": {
   "codemirror_mode": {
    "name": "ipython",
    "version": 3
   },
   "file_extension": ".py",
   "mimetype": "text/x-python",
   "name": "python",
   "nbconvert_exporter": "python",
   "pygments_lexer": "ipython3",
   "version": "3.8.2"
  }
 },
 "nbformat": 4,
 "nbformat_minor": 5
}
