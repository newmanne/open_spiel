{
 "cells": [
  {
   "cell_type": "code",
   "execution_count": 26,
   "id": "e6f6eef1-52e3-4ff5-af4b-2d5b933ad90b",
   "metadata": {},
   "outputs": [
    {
     "name": "stdout",
     "output_type": "stream",
     "text": [
      "The autoreload extension is already loaded. To reload it, use:\n",
      "  %reload_ext autoreload\n",
      "%pylab is deprecated, use %matplotlib inline and import the required libraries.\n",
      "Populating the interactive namespace from numpy and matplotlib\n"
     ]
    }
   ],
   "source": [
    "%load_ext autoreload\n",
    "%autoreload 2\n",
    "%pylab inline"
   ]
  },
  {
   "cell_type": "code",
   "execution_count": 27,
   "id": "53d1f915-16a6-42e9-b93a-3f44564ef069",
   "metadata": {},
   "outputs": [],
   "source": [
    "import sys\n",
    "import glob\n",
    "import pandas as pd\n",
    "import os\n",
    "import seaborn as sns\n",
    "from tqdm import tqdm_notebook as tqdm\n",
    "from statsmodels.distributions.empirical_distribution import ECDF\n",
    "from collections import defaultdict\n",
    "import open_spiel.python.examples.ubc_dispatch as dispatch\n",
    "import os\n",
    "os.environ[\"DJANGO_ALLOW_ASYNC_UNSAFE\"] = \"true\"\n",
    "from sklearn.model_selection import ParameterGrid\n",
    "from pathlib import Path\n",
    "import torch.nn.functional as F\n",
    "import torch\n",
    "import pickle\n"
   ]
  },
  {
   "cell_type": "code",
   "execution_count": 28,
   "id": "a963cf68-f084-47bc-86bf-23882e77f392",
   "metadata": {},
   "outputs": [],
   "source": [
    "game_dir = os.environ[\"CLOCK_AUCTION_CONFIG_DIR\"]"
   ]
  },
  {
   "cell_type": "code",
   "execution_count": 29,
   "id": "48036c62-68f7-4580-82c3-0da36da9c6b4",
   "metadata": {},
   "outputs": [
    {
     "name": "stdout",
     "output_type": "stream",
     "text": [
      "60\n",
      "['oct04_encumberedheuristic/oct04_encumberedheuristic_4_risk_averse_undersell_allowed', 'oct04_encumberedheuristic/oct04_encumberedheuristic_0_base_tie_break', 'oct04_encumberedheuristic/oct04_encumberedheuristic_0_risk_averse_undersell_allowed', 'oct04_encumberedheuristic/oct04_encumberedheuristic_4_risk_averse_tie_break', 'oct04_encumberedheuristic/oct04_encumberedheuristic_4_base_undersell_allowed', 'oct04_encumberedheuristic/oct04_encumberedheuristic_2_base_tie_break', 'oct04_encumberedheuristic/oct04_encumberedheuristic_1_risk_averse_grace_period', 'oct04_encumberedheuristic/oct04_encumberedheuristic_2_base_undersell_allowed', 'oct04_encumberedheuristic/oct04_encumberedheuristic_1_risk_averse_undersell_allowed', 'oct04_encumberedheuristic/oct04_encumberedheuristic_3_base_tie_break', 'oct04_encumberedheuristic/oct04_encumberedheuristic_1_base_tie_break', 'oct04_encumberedheuristic/oct04_encumberedheuristic_4_spite_undersell_allowed', 'oct04_encumberedheuristic/oct04_encumberedheuristic_0_base', 'oct04_encumberedheuristic/oct04_encumberedheuristic_0_spite_undersell_allowed', 'oct04_encumberedheuristic/oct04_encumberedheuristic_3_risk_averse_undersell_allowed', 'oct04_encumberedheuristic/oct04_encumberedheuristic_3_risk_averse', 'oct04_encumberedheuristic/oct04_encumberedheuristic_3_spite_tie_break', 'oct04_encumberedheuristic/oct04_encumberedheuristic_2_base', 'oct04_encumberedheuristic/oct04_encumberedheuristic_2_risk_averse_tie_break', 'oct04_encumberedheuristic/oct04_encumberedheuristic_2_spite_tie_break', 'oct04_encumberedheuristic/oct04_encumberedheuristic_1_spite', 'oct04_encumberedheuristic/oct04_encumberedheuristic_1_base', 'oct04_encumberedheuristic/oct04_encumberedheuristic_3_spite_undersell_allowed', 'oct04_encumberedheuristic/oct04_encumberedheuristic_3_risk_averse_grace_period', 'oct04_encumberedheuristic/oct04_encumberedheuristic_2_risk_averse_grace_period', 'oct04_encumberedheuristic/oct04_encumberedheuristic_1_spite_grace_period', 'oct04_encumberedheuristic/oct04_encumberedheuristic_4_risk_averse_grace_period', 'oct04_encumberedheuristic/oct04_encumberedheuristic_2_spite_grace_period', 'oct04_encumberedheuristic/oct04_encumberedheuristic_4_spite', 'oct04_encumberedheuristic/oct04_encumberedheuristic_4_base', 'oct04_encumberedheuristic/oct04_encumberedheuristic_2_risk_averse_undersell_allowed', 'oct04_encumberedheuristic/oct04_encumberedheuristic_4_spite_grace_period', 'oct04_encumberedheuristic/oct04_encumberedheuristic_4_base_tie_break', 'oct04_encumberedheuristic/oct04_encumberedheuristic_2_risk_averse', 'oct04_encumberedheuristic/oct04_encumberedheuristic_1_base_grace_period', 'oct04_encumberedheuristic/oct04_encumberedheuristic_0_base_grace_period', 'oct04_encumberedheuristic/oct04_encumberedheuristic_2_spite', 'oct04_encumberedheuristic/oct04_encumberedheuristic_1_base_undersell_allowed', 'oct04_encumberedheuristic/oct04_encumberedheuristic_4_base_grace_period', 'oct04_encumberedheuristic/oct04_encumberedheuristic_1_spite_undersell_allowed', 'oct04_encumberedheuristic/oct04_encumberedheuristic_1_spite_tie_break', 'oct04_encumberedheuristic/oct04_encumberedheuristic_4_spite_tie_break', 'oct04_encumberedheuristic/oct04_encumberedheuristic_0_spite_tie_break', 'oct04_encumberedheuristic/oct04_encumberedheuristic_2_spite_undersell_allowed', 'oct04_encumberedheuristic/oct04_encumberedheuristic_0_risk_averse', 'oct04_encumberedheuristic/oct04_encumberedheuristic_0_base_undersell_allowed', 'oct04_encumberedheuristic/oct04_encumberedheuristic_3_base_grace_period', 'oct04_encumberedheuristic/oct04_encumberedheuristic_0_risk_averse_grace_period', 'oct04_encumberedheuristic/oct04_encumberedheuristic_3_risk_averse_tie_break', 'oct04_encumberedheuristic/oct04_encumberedheuristic_0_spite', 'oct04_encumberedheuristic/oct04_encumberedheuristic_2_base_grace_period', 'oct04_encumberedheuristic/oct04_encumberedheuristic_1_risk_averse_tie_break', 'oct04_encumberedheuristic/oct04_encumberedheuristic_3_spite_grace_period', 'oct04_encumberedheuristic/oct04_encumberedheuristic_0_risk_averse_tie_break', 'oct04_encumberedheuristic/oct04_encumberedheuristic_3_spite', 'oct04_encumberedheuristic/oct04_encumberedheuristic_1_risk_averse', 'oct04_encumberedheuristic/oct04_encumberedheuristic_0_spite_grace_period', 'oct04_encumberedheuristic/oct04_encumberedheuristic_3_base', 'oct04_encumberedheuristic/oct04_encumberedheuristic_4_risk_averse', 'oct04_encumberedheuristic/oct04_encumberedheuristic_3_base_undersell_allowed']\n"
     ]
    }
   ],
   "source": [
    "sats_games = []\n",
    "PREFIXES = ['oct04_encumberedheuristic']\n",
    "# PREFIXES = ['sep20']\n",
    "for prefix in PREFIXES:\n",
    "    sats_games += [f'{prefix}/' + os.path.basename(x).replace('.json','') for x in glob.glob(f'{game_dir}/{prefix}/*')]\n",
    "    \n",
    "sats_games = list(set(sats_games))\n",
    "\n",
    "sats_games = [\n",
    "        s for s in sats_games if ('undersell_allowed' in s) or ('tie_break' in s) or (s.endswith('base') or s.endswith('risk_averse') or s.endswith('spite')) or ('no_activity' in s) or ('grace_period' in s)\n",
    "]\n",
    "\n",
    "sats_games = [s for s in sats_games if 'activity' not in s]\n",
    "\n",
    "\n",
    "print(len(sats_games))\n",
    "print(sats_games)"
   ]
  },
  {
   "cell_type": "markdown",
   "id": "01e19a7a-7d0c-4d03-963f-2265e950bf0b",
   "metadata": {},
   "source": [
    "# For running the real dumb test case"
   ]
  },
  {
   "cell_type": "code",
   "execution_count": 18,
   "id": "ff77dd62-1983-4468-9c31-fd042294ca5c",
   "metadata": {},
   "outputs": [
    {
     "name": "stdout",
     "output_type": "stream",
     "text": [
      "60\n"
     ]
    }
   ],
   "source": [
    "pgrid = ParameterGrid([\n",
    "    {\n",
    "        # Defaults\n",
    "        'game': [g for g in sats_games]# if 'hide' not in g and 'imperfect' not in g]\n",
    "    },\n",
    "])\n",
    "print(len(pgrid))"
   ]
  },
  {
   "cell_type": "code",
   "execution_count": 19,
   "id": "ef682f8a-a882-4937-8b86-21a03ee10607",
   "metadata": {},
   "outputs": [],
   "source": [
    "# num_iters = 999_000_000\n",
    "# time_limit_seconds = int(3600 * 0.5)\n",
    "# for config in pgrid:\n",
    "#     CONFIG = 'cfr_init_2' # The YML network config folder for the main jobs\n",
    "#     N_SEEDS = 1 # Number of seeds of each experiment to launch\n",
    "#     extra_name = ''\n",
    "#     overrides = f'--overwrite_db True --eval_every 999_999_000 --eval_zero false --total_timesteps {num_iters} --dispatch_br false --report_freq 5000 --time_limit_seconds {time_limit_seconds}'      \n",
    "#     dispatch.dispatch_experiments(CONFIG, base_job_name='jun24_cfr_gamut_7', game_name=config['game'], overrides=overrides, n_seeds=N_SEEDS, extra_name=extra_name, alg='cfr')"
   ]
  },
  {
   "cell_type": "code",
   "execution_count": 30,
   "id": "57ec9e6b-aeae-48e2-94e6-43d066a0db1a",
   "metadata": {},
   "outputs": [
    {
     "name": "stdout",
     "output_type": "stream",
     "text": [
      "Submitted batch job 105776\n",
      "Submitted batch job 105777\n",
      "Submitted batch job 105778\n",
      "Submitted batch job 105779\n",
      "Submitted batch job 105780\n",
      "Submitted batch job 105781\n",
      "Submitted batch job 105782\n",
      "Submitted batch job 105783\n",
      "Submitted batch job 105784\n",
      "Submitted batch job 105785\n",
      "Submitted batch job 105786\n",
      "Submitted batch job 105787\n",
      "Submitted batch job 105788\n",
      "Submitted batch job 105789\n",
      "Submitted batch job 105790\n",
      "Submitted batch job 105791\n",
      "Submitted batch job 105792\n",
      "Submitted batch job 105793\n",
      "Submitted batch job 105794\n",
      "Submitted batch job 105795\n",
      "Submitted batch job 105796\n",
      "Submitted batch job 105797\n",
      "Submitted batch job 105798\n",
      "Submitted batch job 105799\n",
      "Submitted batch job 105800\n",
      "Submitted batch job 105801\n",
      "Submitted batch job 105802\n",
      "Submitted batch job 105803\n",
      "Submitted batch job 105804\n",
      "Submitted batch job 105805\n",
      "Submitted batch job 105806\n",
      "Submitted batch job 105807\n",
      "Submitted batch job 105808\n",
      "Submitted batch job 105809\n",
      "Submitted batch job 105810\n",
      "Submitted batch job 105811\n",
      "Submitted batch job 105812\n",
      "Submitted batch job 105813\n",
      "Submitted batch job 105814\n",
      "Submitted batch job 105815\n",
      "Submitted batch job 105816\n",
      "Submitted batch job 105817\n",
      "Submitted batch job 105818\n",
      "Submitted batch job 105819\n",
      "Submitted batch job 105820\n",
      "Submitted batch job 105821\n",
      "Submitted batch job 105822\n",
      "Submitted batch job 105823\n",
      "Submitted batch job 105824\n",
      "Submitted batch job 105825\n",
      "Submitted batch job 105826\n",
      "Submitted batch job 105827\n",
      "Submitted batch job 105828\n",
      "Submitted batch job 105829\n",
      "Submitted batch job 105830\n",
      "Submitted batch job 105831\n",
      "Submitted batch job 105832\n",
      "Submitted batch job 105833\n",
      "Submitted batch job 105834\n",
      "Submitted batch job 105835\n",
      "Submitted batch job 105836\n",
      "Submitted batch job 105837\n",
      "Submitted batch job 105838\n",
      "Submitted batch job 105839\n",
      "Submitted batch job 105840\n",
      "Submitted batch job 105841\n",
      "Submitted batch job 105842\n",
      "Submitted batch job 105843\n",
      "Submitted batch job 105844\n",
      "Submitted batch job 105845\n",
      "Submitted batch job 105846\n",
      "Submitted batch job 105847\n",
      "Submitted batch job 105848\n",
      "Submitted batch job 105849\n",
      "Submitted batch job 105850\n",
      "Submitted batch job 105851\n",
      "Submitted batch job 105852\n",
      "Submitted batch job 105853\n",
      "Submitted batch job 105854\n",
      "Submitted batch job 105855\n",
      "Submitted batch job 105856\n",
      "Submitted batch job 105857\n",
      "Submitted batch job 105858\n",
      "Submitted batch job 105859\n",
      "Submitted batch job 105860\n",
      "Submitted batch job 105861\n",
      "Submitted batch job 105862\n",
      "Submitted batch job 105863\n",
      "Submitted batch job 105864\n",
      "Submitted batch job 105865\n",
      "Submitted batch job 105866\n",
      "Submitted batch job 105867\n",
      "Submitted batch job 105868\n",
      "Submitted batch job 105869\n",
      "Submitted batch job 105870\n",
      "Submitted batch job 105871\n",
      "Submitted batch job 105872\n",
      "Submitted batch job 105873\n",
      "Submitted batch job 105874\n",
      "Submitted batch job 105875\n",
      "Submitted batch job 105876\n",
      "Submitted batch job 105877\n",
      "Submitted batch job 105878\n",
      "Submitted batch job 105879\n",
      "Submitted batch job 105880\n",
      "Submitted batch job 105881\n",
      "Submitted batch job 105882\n",
      "Submitted batch job 105883\n",
      "Submitted batch job 105884\n",
      "Submitted batch job 105885\n",
      "Submitted batch job 105886\n",
      "Submitted batch job 105887\n",
      "Submitted batch job 105888\n",
      "Submitted batch job 105889\n",
      "Submitted batch job 105890\n",
      "Submitted batch job 105891\n",
      "Submitted batch job 105892\n",
      "Submitted batch job 105893\n",
      "Submitted batch job 105894\n",
      "Submitted batch job 105895\n",
      "Submitted batch job 105896\n",
      "Submitted batch job 105897\n",
      "Submitted batch job 105898\n",
      "Submitted batch job 105899\n",
      "Submitted batch job 105900\n",
      "Submitted batch job 105901\n",
      "Submitted batch job 105902\n",
      "Submitted batch job 105903\n",
      "Submitted batch job 105904\n",
      "Submitted batch job 105905\n",
      "Submitted batch job 105906\n",
      "Submitted batch job 105907\n",
      "Submitted batch job 105908\n",
      "Submitted batch job 105909\n",
      "Submitted batch job 105910\n",
      "Submitted batch job 105911\n",
      "Submitted batch job 105912\n",
      "Submitted batch job 105913\n",
      "Submitted batch job 105914\n",
      "Submitted batch job 105915\n",
      "Submitted batch job 105916\n",
      "Submitted batch job 105917\n",
      "Submitted batch job 105918\n",
      "Submitted batch job 105919\n",
      "Submitted batch job 105920\n",
      "Submitted batch job 105921\n",
      "Submitted batch job 105922\n",
      "Submitted batch job 105923\n",
      "Submitted batch job 105924\n",
      "Submitted batch job 105925\n",
      "Submitted batch job 105926\n",
      "Submitted batch job 105927\n",
      "Submitted batch job 105928\n",
      "Submitted batch job 105929\n",
      "Submitted batch job 105930\n",
      "Submitted batch job 105931\n",
      "Submitted batch job 105932\n",
      "Submitted batch job 105933\n",
      "Submitted batch job 105934\n",
      "Submitted batch job 105935\n",
      "Submitted batch job 105936\n",
      "Submitted batch job 105937\n",
      "Submitted batch job 105938\n",
      "Submitted batch job 105939\n",
      "Submitted batch job 105940\n",
      "Submitted batch job 105941\n",
      "Submitted batch job 105942\n",
      "Submitted batch job 105943\n",
      "Submitted batch job 105944\n",
      "Submitted batch job 105945\n",
      "Submitted batch job 105946\n",
      "Submitted batch job 105947\n",
      "Submitted batch job 105948\n",
      "Submitted batch job 105949\n",
      "Submitted batch job 105950\n",
      "Submitted batch job 105951\n",
      "Submitted batch job 105952\n",
      "Submitted batch job 105953\n",
      "Submitted batch job 105954\n",
      "Submitted batch job 105955\n"
     ]
    }
   ],
   "source": [
    "num_iters = 999_000_000\n",
    "time_limit_seconds = int(3600 * 6)\n",
    "for config in pgrid:\n",
    "    CONFIG = 'cfr_port_10_ext' # The YML network config folder for the main jobs\n",
    "    N_SEEDS = 3 # Number of seeds of each experiment to launch\n",
    "    extra_name = ''\n",
    "    overrides = f'--overwrite_db True --eval_every 999_999_999 --eval_every_seconds 5400 --eval_zero false --total_timesteps {num_iters} --dispatch_br false --report_freq 50 --time_limit_seconds {time_limit_seconds} --use_wandb true'      \n",
    "    dispatch.dispatch_experiments(CONFIG, base_job_name='nov21_external_fixed_v4_no_other_heuristics', game_name=config['game'], overrides=overrides, n_seeds=N_SEEDS, extra_name=extra_name, alg='cfr')"
   ]
  },
  {
   "cell_type": "code",
   "execution_count": 23,
   "id": "4a6067d6-ea75-47a7-aec8-265ce62ad4aa",
   "metadata": {},
   "outputs": [
    {
     "name": "stdout",
     "output_type": "stream",
     "text": [
      "             JOBID                                                                                       NAME ST .      TIME NODES NODELIST(REASON)\n",
      "            105296 oct16_encumbereddeviations_oct16_encumbereddeviations_4_spite_grace_period-cfr_port_10_ext  R .     21:39     1 ip-10-255-1-184\n",
      "            105297 oct16_encumbereddeviations_oct16_encumbereddeviations_4_risk_averse_tie_break-cfr_port_10_  R .     21:39     1 ip-10-255-1-184\n",
      "            105298 oct16_encumbereddeviations_oct16_encumbereddeviations_1_base-cfr_port_10_extexternal_plus_  R .     21:39     1 ip-10-255-1-188\n",
      "            105299 oct16_encumbereddeviations_oct16_encumbereddeviations_0_base_tie_break-cfr_port_10_extexte  R .     21:39     1 ip-10-255-1-188\n",
      "            105300 oct16_encumbereddeviations_oct16_encumbereddeviations_0_risk_averse_grace_period-cfr_port_  R .     21:39     1 ip-10-255-1-192\n",
      "            105301 oct16_encumbereddeviations_oct16_encumbereddeviations_4_spite_tie_break-cfr_port_10_extext  R .     21:39     1 ip-10-255-1-192\n",
      "            105302 oct16_encumbereddeviations_oct16_encumbereddeviations_3_base-cfr_port_10_extexternal_plus_  R .     21:39     1 ip-10-255-1-196\n",
      "            105303 oct16_encumbereddeviations_oct16_encumbereddeviations_3_base_grace_period-cfr_port_10_exte  R .     21:39     1 ip-10-255-1-196\n",
      "            105304 oct16_encumbereddeviations_oct16_encumbereddeviations_2_spite_tie_break-cfr_port_10_extext  R .     21:39     1 ip-10-255-1-205\n",
      "            105305 oct16_encumbereddeviations_oct16_encumbereddeviations_1_base_tie_break-cfr_port_10_extexte  R .     21:39     1 ip-10-255-1-205\n",
      "            105306 oct16_encumbereddeviations_oct16_encumbereddeviations_1_spite-cfr_port_10_extexternal_plus  R .     21:39     1 ip-10-255-1-211\n",
      "            105307 oct16_encumbereddeviations_oct16_encumbereddeviations_2_risk_averse_tie_break-cfr_port_10_  R .     21:39     1 ip-10-255-1-211\n",
      "            105308 oct16_encumbereddeviations_oct16_encumbereddeviations_0_spite_grace_period-cfr_port_10_ext  R .     21:39     1 ip-10-255-1-216\n",
      "            105309 oct16_encumbereddeviations_oct16_encumbereddeviations_0_spite_undersell_allowed-cfr_port_1  R .     21:39     1 ip-10-255-1-216\n",
      "            105310 oct16_encumbereddeviations_oct16_encumbereddeviations_4_base-cfr_port_10_extexternal_plus_  R .     21:39     1 ip-10-255-1-245\n",
      "            105311 oct16_encumbereddeviations_oct16_encumbereddeviations_1_spite_tie_break-cfr_port_10_extext  R .     21:39     1 ip-10-255-1-245\n",
      "            105312 oct16_encumbereddeviations_oct16_encumbereddeviations_4_risk_averse-cfr_port_10_extexterna  R .     21:39     1 ip-10-255-1-248\n",
      "            105313 oct16_encumbereddeviations_oct16_encumbereddeviations_0_spite_tie_break-cfr_port_10_extext  R .     21:39     1 ip-10-255-1-248\n",
      "            105314 oct16_encumbereddeviations_oct16_encumbereddeviations_0_risk_averse-cfr_port_10_extexterna  R .     21:39     1 ip-10-255-1-253\n",
      "            105315 oct16_encumbereddeviations_oct16_encumbereddeviations_2_base_grace_period-cfr_port_10_exte  R .     21:39     1 ip-10-255-1-253\n",
      "            105316 oct16_encumbereddeviations_oct16_encumbereddeviations_2_spite-cfr_port_10_extexternal_plus  R .     21:39     1 ip-10-255-1-134\n",
      "            105317 oct16_encumbereddeviations_oct16_encumbereddeviations_2_risk_averse_undersell_allowed-cfr_  R .     21:39     1 ip-10-255-1-134\n",
      "            105318 oct16_encumbereddeviations_oct16_encumbereddeviations_0_base-cfr_port_10_extexternal_plus_  R .     21:39     1 ip-10-255-1-135\n",
      "            105319 oct16_encumbereddeviations_oct16_encumbereddeviations_1_risk_averse-cfr_port_10_extexterna  R .     21:39     1 ip-10-255-1-135\n",
      "            105320 oct16_encumbereddeviations_oct16_encumbereddeviations_1_spite_grace_period-cfr_port_10_ext  R .     21:39     1 ip-10-255-1-146\n",
      "            105321 oct16_encumbereddeviations_oct16_encumbereddeviations_4_base_tie_break-cfr_port_10_extexte  R .     21:39     1 ip-10-255-1-146\n",
      "            105322 oct16_encumbereddeviations_oct16_encumbereddeviations_1_spite_undersell_allowed-cfr_port_1  R .     21:39     1 ip-10-255-1-147\n",
      "            105323 oct16_encumbereddeviations_oct16_encumbereddeviations_1_base_grace_period-cfr_port_10_exte  R .     21:39     1 ip-10-255-1-147\n",
      "            105324 oct16_encumbereddeviations_oct16_encumbereddeviations_2_risk_averse-cfr_port_10_extexterna  R .     21:39     1 ip-10-255-1-154\n",
      "            105325 oct16_encumbereddeviations_oct16_encumbereddeviations_4_risk_averse_grace_period-cfr_port_  R .     21:39     1 ip-10-255-1-154\n",
      "            105326 oct16_encumbereddeviations_oct16_encumbereddeviations_3_spite-cfr_port_10_extexternal_plus  R .     21:39     1 ip-10-255-1-155\n",
      "            105327 oct16_encumbereddeviations_oct16_encumbereddeviations_3_risk_averse_grace_period-cfr_port_  R .     21:39     1 ip-10-255-1-155\n",
      "            105328 oct16_encumbereddeviations_oct16_encumbereddeviations_3_spite_tie_break-cfr_port_10_extext  R .     21:39     1 ip-10-255-1-168\n",
      "            105329 oct16_encumbereddeviations_oct16_encumbereddeviations_0_spite-cfr_port_10_extexternal_plus  R .     21:39     1 ip-10-255-1-168\n",
      "            105330 oct16_encumbereddeviations_oct16_encumbereddeviations_4_spite_undersell_allowed-cfr_port_1  R .     21:39     1 ip-10-255-1-170\n",
      "            105331 oct16_encumbereddeviations_oct16_encumbereddeviations_3_risk_averse_tie_break-cfr_port_10_  R .     21:39     1 ip-10-255-1-170\n",
      "            105332 oct16_encumbereddeviations_oct16_encumbereddeviations_2_base-cfr_port_10_extexternal_plus_  R .     21:39     1 ip-10-255-1-220\n",
      "            105333 oct16_encumbereddeviations_oct16_encumbereddeviations_2_base_undersell_allowed-cfr_port_10  R .     21:39     1 ip-10-255-1-220\n",
      "            105334 oct16_encumbereddeviations_oct16_encumbereddeviations_1_risk_averse_grace_period-cfr_port_  R .     21:39     1 ip-10-255-1-222\n",
      "            105335 oct16_encumbereddeviations_oct16_encumbereddeviations_3_base_tie_break-cfr_port_10_extexte  R .     21:39     1 ip-10-255-1-222\n",
      "            105336 oct16_encumbereddeviations_oct16_encumbereddeviations_2_spite_undersell_allowed-cfr_port_1  R .     21:39     1 ip-10-255-1-235\n",
      "            105337 oct16_encumbereddeviations_oct16_encumbereddeviations_4_risk_averse_undersell_allowed-cfr_  R .     21:39     1 ip-10-255-1-235\n",
      "            105338 oct16_encumbereddeviations_oct16_encumbereddeviations_3_base_undersell_allowed-cfr_port_10  R .     21:39     1 ip-10-255-1-236\n",
      "            105339 oct16_encumbereddeviations_oct16_encumbereddeviations_3_spite_undersell_allowed-cfr_port_1  R .     21:39     1 ip-10-255-1-236\n",
      "            105340 oct16_encumbereddeviations_oct16_encumbereddeviations_2_base_tie_break-cfr_port_10_extexte  R .     21:39     1 ip-10-255-1-237\n",
      "            105341 oct16_encumbereddeviations_oct16_encumbereddeviations_3_risk_averse_undersell_allowed-cfr_  R .     21:39     1 ip-10-255-1-237\n",
      "            105342 oct16_encumbereddeviations_oct16_encumbereddeviations_4_base_undersell_allowed-cfr_port_10  R .     21:22     1 ip-10-255-1-200\n",
      "            105343 oct16_encumbereddeviations_oct16_encumbereddeviations_4_spite-cfr_port_10_extexternal_plus  R .     21:22     1 ip-10-255-1-200\n",
      "            105344 oct16_encumbereddeviations_oct16_encumbereddeviations_0_risk_averse_tie_break-cfr_port_10_  R .     20:49     1 ip-10-255-1-142\n",
      "            105345 oct16_encumbereddeviations_oct16_encumbereddeviations_2_spite_grace_period-cfr_port_10_ext  R .     20:49     1 ip-10-255-1-142\n",
      "            105346 oct16_encumbereddeviations_oct16_encumbereddeviations_2_risk_averse_grace_period-cfr_port_  R .     20:49     1 ip-10-255-1-197\n",
      "            105347 oct16_encumbereddeviations_oct16_encumbereddeviations_1_base_undersell_allowed-cfr_port_10  R .     20:49     1 ip-10-255-1-197\n",
      "            105348 oct16_encumbereddeviations_oct16_encumbereddeviations_1_risk_averse_tie_break-cfr_port_10_  R .     20:48     1 ip-10-255-1-254\n",
      "            105349 oct16_encumbereddeviations_oct16_encumbereddeviations_0_risk_averse_undersell_allowed-cfr_  R .     20:48     1 ip-10-255-1-254\n",
      "            105350 oct16_encumbereddeviations_oct16_encumbereddeviations_1_risk_averse_undersell_allowed-cfr_  R .     20:48     1 ip-10-255-1-203\n",
      "            105351 oct16_encumbereddeviations_oct16_encumbereddeviations_3_spite_grace_period-cfr_port_10_ext  R .     20:48     1 ip-10-255-1-203\n",
      "            105352 oct16_encumbereddeviations_oct16_encumbereddeviations_4_base_grace_period-cfr_port_10_exte  R .     20:47     1 ip-10-255-1-186\n",
      "            105353 oct16_encumbereddeviations_oct16_encumbereddeviations_0_base_grace_period-cfr_port_10_exte  R .     20:47     1 ip-10-255-1-186\n",
      "            105354 oct16_encumbereddeviations_oct16_encumbereddeviations_0_base_undersell_allowed-cfr_port_10  R .     20:47     1 ip-10-255-1-164\n",
      "            105355 oct16_encumbereddeviations_oct16_encumbereddeviations_3_risk_averse-cfr_port_10_extexterna  R .     20:47     1 ip-10-255-1-164\n",
      "            105356 oct04_encumberedheuristic_oct04_encumberedheuristic_4_risk_averse_undersell_allowed-cfr_po  R .     20:47     1 ip-10-255-1-225\n",
      "            105357 oct04_encumberedheuristic_oct04_encumberedheuristic_4_risk_averse_undersell_allowed-cfr_po  R .     20:47     1 ip-10-255-1-225\n",
      "            105358 oct04_encumberedheuristic_oct04_encumberedheuristic_4_risk_averse_undersell_allowed-cfr_po  R .     20:47     1 ip-10-255-1-161\n",
      "            105359 oct04_encumberedheuristic_oct04_encumberedheuristic_0_base_tie_break-cfr_port_10_extextern  R .     20:47     1 ip-10-255-1-161\n",
      "            105360 oct04_encumberedheuristic_oct04_encumberedheuristic_0_base_tie_break-cfr_port_10_extextern  R .     20:46     1 ip-10-255-1-185\n",
      "            105361 oct04_encumberedheuristic_oct04_encumberedheuristic_0_base_tie_break-cfr_port_10_extextern  R .     20:46     1 ip-10-255-1-185\n",
      "            105362 oct04_encumberedheuristic_oct04_encumberedheuristic_0_risk_averse_undersell_allowed-cfr_po  R .     20:46     1 ip-10-255-1-214\n",
      "            105363 oct04_encumberedheuristic_oct04_encumberedheuristic_0_risk_averse_undersell_allowed-cfr_po  R .     20:46     1 ip-10-255-1-214\n",
      "            105364 oct04_encumberedheuristic_oct04_encumberedheuristic_0_risk_averse_undersell_allowed-cfr_po  R .     20:46     1 ip-10-255-1-209\n",
      "            105365 oct04_encumberedheuristic_oct04_encumberedheuristic_4_risk_averse_tie_break-cfr_port_10_ex  R .     20:46     1 ip-10-255-1-209\n",
      "            105366 oct04_encumberedheuristic_oct04_encumberedheuristic_4_risk_averse_tie_break-cfr_port_10_ex  R .     20:46     1 ip-10-255-1-190\n",
      "            105367 oct04_encumberedheuristic_oct04_encumberedheuristic_4_risk_averse_tie_break-cfr_port_10_ex  R .     20:46     1 ip-10-255-1-190\n",
      "            105368 oct04_encumberedheuristic_oct04_encumberedheuristic_4_base_undersell_allowed-cfr_port_10_e  R .     20:46     1 ip-10-255-1-137\n",
      "            105369 oct04_encumberedheuristic_oct04_encumberedheuristic_4_base_undersell_allowed-cfr_port_10_e  R .     20:46     1 ip-10-255-1-137\n",
      "            105370 oct04_encumberedheuristic_oct04_encumberedheuristic_4_base_undersell_allowed-cfr_port_10_e  R .     20:46     1 ip-10-255-1-199\n",
      "            105371 oct04_encumberedheuristic_oct04_encumberedheuristic_2_base_tie_break-cfr_port_10_extextern  R .     20:46     1 ip-10-255-1-199\n",
      "            105372 oct04_encumberedheuristic_oct04_encumberedheuristic_2_base_tie_break-cfr_port_10_extextern  R .     20:46     1 ip-10-255-1-202\n",
      "            105373 oct04_encumberedheuristic_oct04_encumberedheuristic_2_base_tie_break-cfr_port_10_extextern  R .     20:46     1 ip-10-255-1-202\n",
      "            105374 oct04_encumberedheuristic_oct04_encumberedheuristic_1_risk_averse_grace_period-cfr_port_10  R .     20:46     1 ip-10-255-1-218\n",
      "            105375 oct04_encumberedheuristic_oct04_encumberedheuristic_1_risk_averse_grace_period-cfr_port_10  R .     20:46     1 ip-10-255-1-218\n",
      "            105376 oct04_encumberedheuristic_oct04_encumberedheuristic_1_risk_averse_grace_period-cfr_port_10  R .     20:46     1 ip-10-255-1-177\n",
      "            105377 oct04_encumberedheuristic_oct04_encumberedheuristic_2_base_undersell_allowed-cfr_port_10_e  R .     20:46     1 ip-10-255-1-177\n",
      "            105378 oct04_encumberedheuristic_oct04_encumberedheuristic_2_base_undersell_allowed-cfr_port_10_e  R .     20:45     1 ip-10-255-1-234\n",
      "            105379 oct04_encumberedheuristic_oct04_encumberedheuristic_2_base_undersell_allowed-cfr_port_10_e  R .     20:45     1 ip-10-255-1-234\n",
      "            105380 oct04_encumberedheuristic_oct04_encumberedheuristic_1_risk_averse_undersell_allowed-cfr_po  R .     20:45     1 ip-10-255-1-194\n",
      "            105381 oct04_encumberedheuristic_oct04_encumberedheuristic_1_risk_averse_undersell_allowed-cfr_po  R .     20:45     1 ip-10-255-1-194\n",
      "            105382 oct04_encumberedheuristic_oct04_encumberedheuristic_1_risk_averse_undersell_allowed-cfr_po  R .     20:45     1 ip-10-255-1-240\n",
      "            105383 oct04_encumberedheuristic_oct04_encumberedheuristic_3_base_tie_break-cfr_port_10_extextern  R .     20:45     1 ip-10-255-1-240\n",
      "            105384 oct04_encumberedheuristic_oct04_encumberedheuristic_3_base_tie_break-cfr_port_10_extextern  R .     20:45     1 ip-10-255-1-230\n",
      "            105385 oct04_encumberedheuristic_oct04_encumberedheuristic_3_base_tie_break-cfr_port_10_extextern  R .     20:45     1 ip-10-255-1-230\n",
      "            105386 oct04_encumberedheuristic_oct04_encumberedheuristic_1_base_tie_break-cfr_port_10_extextern  R .     20:45     1 ip-10-255-1-213\n",
      "            105387 oct04_encumberedheuristic_oct04_encumberedheuristic_1_base_tie_break-cfr_port_10_extextern  R .     20:45     1 ip-10-255-1-213\n",
      "            105388 oct04_encumberedheuristic_oct04_encumberedheuristic_1_base_tie_break-cfr_port_10_extextern  R .     20:45     1 ip-10-255-1-151\n",
      "            105389 oct04_encumberedheuristic_oct04_encumberedheuristic_4_spite_undersell_allowed-cfr_port_10_  R .     20:45     1 ip-10-255-1-151\n",
      "            105390 oct04_encumberedheuristic_oct04_encumberedheuristic_4_spite_undersell_allowed-cfr_port_10_  R .     20:45     1 ip-10-255-1-133\n",
      "            105391 oct04_encumberedheuristic_oct04_encumberedheuristic_4_spite_undersell_allowed-cfr_port_10_  R .     20:45     1 ip-10-255-1-133\n",
      "            105392 oct04_encumberedheuristic_oct04_encumberedheuristic_0_base-cfr_port_10_extexternal_plus_li  R .     20:45     1 ip-10-255-1-198\n",
      "            105393 oct04_encumberedheuristic_oct04_encumberedheuristic_0_base-cfr_port_10_extexternal_plus_li  R .     20:45     1 ip-10-255-1-198\n",
      "            105394 oct04_encumberedheuristic_oct04_encumberedheuristic_0_base-cfr_port_10_extexternal_plus_li  R .     20:45     1 ip-10-255-1-206\n",
      "            105395 oct04_encumberedheuristic_oct04_encumberedheuristic_0_spite_undersell_allowed-cfr_port_10_  R .     20:45     1 ip-10-255-1-206\n",
      "            105396 oct04_encumberedheuristic_oct04_encumberedheuristic_0_spite_undersell_allowed-cfr_port_10_  R .     20:45     1 ip-10-255-1-244\n",
      "            105397 oct04_encumberedheuristic_oct04_encumberedheuristic_0_spite_undersell_allowed-cfr_port_10_  R .     20:45     1 ip-10-255-1-244\n",
      "            105398 oct04_encumberedheuristic_oct04_encumberedheuristic_3_risk_averse_undersell_allowed-cfr_po  R .     20:45     1 ip-10-255-1-166\n",
      "            105399 oct04_encumberedheuristic_oct04_encumberedheuristic_3_risk_averse_undersell_allowed-cfr_po  R .     20:45     1 ip-10-255-1-166\n",
      "            105400 oct04_encumberedheuristic_oct04_encumberedheuristic_3_risk_averse_undersell_allowed-cfr_po  R .     20:45     1 ip-10-255-1-171\n",
      "            105401 oct04_encumberedheuristic_oct04_encumberedheuristic_3_risk_averse-cfr_port_10_extexternal_  R .     20:45     1 ip-10-255-1-171\n",
      "            105402 oct04_encumberedheuristic_oct04_encumberedheuristic_3_risk_averse-cfr_port_10_extexternal_  R .     20:45     1 ip-10-255-1-165\n",
      "            105403 oct04_encumberedheuristic_oct04_encumberedheuristic_3_risk_averse-cfr_port_10_extexternal_  R .     20:45     1 ip-10-255-1-165\n",
      "            105404 oct04_encumberedheuristic_oct04_encumberedheuristic_3_spite_tie_break-cfr_port_10_extexter  R .     20:45     1 ip-10-255-1-159\n",
      "            105405 oct04_encumberedheuristic_oct04_encumberedheuristic_3_spite_tie_break-cfr_port_10_extexter  R .     20:45     1 ip-10-255-1-159\n",
      "            105406 oct04_encumberedheuristic_oct04_encumberedheuristic_3_spite_tie_break-cfr_port_10_extexter  R .     20:45     1 ip-10-255-1-139\n",
      "            105407 oct04_encumberedheuristic_oct04_encumberedheuristic_2_base-cfr_port_10_extexternal_plus_li  R .     20:45     1 ip-10-255-1-139\n",
      "            105408 oct04_encumberedheuristic_oct04_encumberedheuristic_2_base-cfr_port_10_extexternal_plus_li  R .     20:45     1 ip-10-255-1-208\n",
      "            105409 oct04_encumberedheuristic_oct04_encumberedheuristic_2_base-cfr_port_10_extexternal_plus_li  R .     20:45     1 ip-10-255-1-208\n",
      "            105410 oct04_encumberedheuristic_oct04_encumberedheuristic_2_risk_averse_tie_break-cfr_port_10_ex  R .     20:45     1 ip-10-255-1-227\n",
      "            105411 oct04_encumberedheuristic_oct04_encumberedheuristic_2_risk_averse_tie_break-cfr_port_10_ex  R .     20:45     1 ip-10-255-1-227\n",
      "            105412 oct04_encumberedheuristic_oct04_encumberedheuristic_2_risk_averse_tie_break-cfr_port_10_ex  R .     20:44     1 ip-10-255-1-162\n",
      "            105413 oct04_encumberedheuristic_oct04_encumberedheuristic_2_spite_tie_break-cfr_port_10_extexter  R .     20:44     1 ip-10-255-1-162\n",
      "            105414 oct04_encumberedheuristic_oct04_encumberedheuristic_2_spite_tie_break-cfr_port_10_extexter  R .     20:44     1 ip-10-255-1-183\n",
      "            105415 oct04_encumberedheuristic_oct04_encumberedheuristic_2_spite_tie_break-cfr_port_10_extexter  R .     20:44     1 ip-10-255-1-183\n",
      "            105416 oct04_encumberedheuristic_oct04_encumberedheuristic_1_spite-cfr_port_10_extexternal_plus_l  R .     20:44     1 ip-10-255-1-136\n",
      "            105417 oct04_encumberedheuristic_oct04_encumberedheuristic_1_spite-cfr_port_10_extexternal_plus_l  R .     20:44     1 ip-10-255-1-136\n",
      "            105418 oct04_encumberedheuristic_oct04_encumberedheuristic_1_spite-cfr_port_10_extexternal_plus_l  R .     20:44     1 ip-10-255-1-152\n",
      "            105419 oct04_encumberedheuristic_oct04_encumberedheuristic_1_base-cfr_port_10_extexternal_plus_li  R .     20:44     1 ip-10-255-1-152\n",
      "            105420 oct04_encumberedheuristic_oct04_encumberedheuristic_1_base-cfr_port_10_extexternal_plus_li  R .     20:43     1 ip-10-255-1-157\n",
      "            105421 oct04_encumberedheuristic_oct04_encumberedheuristic_1_base-cfr_port_10_extexternal_plus_li  R .     20:43     1 ip-10-255-1-157\n",
      "            105422 oct04_encumberedheuristic_oct04_encumberedheuristic_3_spite_undersell_allowed-cfr_port_10_  R .     20:43     1 ip-10-255-1-243\n",
      "            105423 oct04_encumberedheuristic_oct04_encumberedheuristic_3_spite_undersell_allowed-cfr_port_10_  R .     20:43     1 ip-10-255-1-243\n",
      "            105424 oct04_encumberedheuristic_oct04_encumberedheuristic_3_spite_undersell_allowed-cfr_port_10_  R .     20:43     1 ip-10-255-1-174\n",
      "            105425 oct04_encumberedheuristic_oct04_encumberedheuristic_3_risk_averse_grace_period-cfr_port_10  R .     20:43     1 ip-10-255-1-174\n",
      "            105426 oct04_encumberedheuristic_oct04_encumberedheuristic_3_risk_averse_grace_period-cfr_port_10  R .     20:43     1 ip-10-255-1-193\n",
      "            105427 oct04_encumberedheuristic_oct04_encumberedheuristic_3_risk_averse_grace_period-cfr_port_10  R .     20:43     1 ip-10-255-1-193\n",
      "            105428 oct04_encumberedheuristic_oct04_encumberedheuristic_2_risk_averse_grace_period-cfr_port_10  R .     20:43     1 ip-10-255-1-178\n",
      "            105429 oct04_encumberedheuristic_oct04_encumberedheuristic_2_risk_averse_grace_period-cfr_port_10  R .     20:43     1 ip-10-255-1-178\n",
      "            105430 oct04_encumberedheuristic_oct04_encumberedheuristic_2_risk_averse_grace_period-cfr_port_10  R .     20:43     1 ip-10-255-1-195\n",
      "            105431 oct04_encumberedheuristic_oct04_encumberedheuristic_1_spite_grace_period-cfr_port_10_extex  R .     20:43     1 ip-10-255-1-195\n",
      "            105432 oct04_encumberedheuristic_oct04_encumberedheuristic_1_spite_grace_period-cfr_port_10_extex  R .     20:42     1 ip-10-255-1-246\n",
      "            105433 oct04_encumberedheuristic_oct04_encumberedheuristic_1_spite_grace_period-cfr_port_10_extex  R .     20:42     1 ip-10-255-1-246\n",
      "            105434 oct04_encumberedheuristic_oct04_encumberedheuristic_4_risk_averse_grace_period-cfr_port_10  R .     20:42     1 ip-10-255-1-226\n",
      "            105435 oct04_encumberedheuristic_oct04_encumberedheuristic_4_risk_averse_grace_period-cfr_port_10  R .     20:42     1 ip-10-255-1-226\n",
      "            105436 oct04_encumberedheuristic_oct04_encumberedheuristic_4_risk_averse_grace_period-cfr_port_10  R .     20:42     1 ip-10-255-1-176\n",
      "            105437 oct04_encumberedheuristic_oct04_encumberedheuristic_2_spite_grace_period-cfr_port_10_extex  R .     20:42     1 ip-10-255-1-176\n",
      "            105438 oct04_encumberedheuristic_oct04_encumberedheuristic_2_spite_grace_period-cfr_port_10_extex  R .     20:42     1 ip-10-255-1-144\n",
      "            105439 oct04_encumberedheuristic_oct04_encumberedheuristic_2_spite_grace_period-cfr_port_10_extex  R .     20:42     1 ip-10-255-1-144\n",
      "            105440 oct04_encumberedheuristic_oct04_encumberedheuristic_4_spite-cfr_port_10_extexternal_plus_l  R .     20:42     1 ip-10-255-1-242\n",
      "            105441 oct04_encumberedheuristic_oct04_encumberedheuristic_4_spite-cfr_port_10_extexternal_plus_l  R .     20:42     1 ip-10-255-1-242\n",
      "            105442 oct04_encumberedheuristic_oct04_encumberedheuristic_4_spite-cfr_port_10_extexternal_plus_l  R .     20:42     1 ip-10-255-1-233\n",
      "            105443 oct04_encumberedheuristic_oct04_encumberedheuristic_4_base-cfr_port_10_extexternal_plus_li  R .     20:42     1 ip-10-255-1-233\n",
      "            105444 oct04_encumberedheuristic_oct04_encumberedheuristic_4_base-cfr_port_10_extexternal_plus_li  R .     20:42     1 ip-10-255-1-251\n",
      "            105445 oct04_encumberedheuristic_oct04_encumberedheuristic_4_base-cfr_port_10_extexternal_plus_li  R .     20:42     1 ip-10-255-1-251\n",
      "            105446 oct04_encumberedheuristic_oct04_encumberedheuristic_2_risk_averse_undersell_allowed-cfr_po  R .     20:42     1 ip-10-255-1-212\n",
      "            105447 oct04_encumberedheuristic_oct04_encumberedheuristic_2_risk_averse_undersell_allowed-cfr_po  R .     20:42     1 ip-10-255-1-212\n",
      "            105448 oct04_encumberedheuristic_oct04_encumberedheuristic_2_risk_averse_undersell_allowed-cfr_po  R .     20:42     1 ip-10-255-1-207\n",
      "            105449 oct04_encumberedheuristic_oct04_encumberedheuristic_4_spite_grace_period-cfr_port_10_extex  R .     20:42     1 ip-10-255-1-207\n",
      "            105450 oct04_encumberedheuristic_oct04_encumberedheuristic_4_spite_grace_period-cfr_port_10_extex  R .     20:42     1 ip-10-255-1-232\n",
      "            105451 oct04_encumberedheuristic_oct04_encumberedheuristic_4_spite_grace_period-cfr_port_10_extex  R .     20:42     1 ip-10-255-1-232\n",
      "            105452 oct04_encumberedheuristic_oct04_encumberedheuristic_4_base_tie_break-cfr_port_10_extextern  R .     20:42     1 ip-10-255-1-241\n",
      "            105453 oct04_encumberedheuristic_oct04_encumberedheuristic_4_base_tie_break-cfr_port_10_extextern  R .     20:42     1 ip-10-255-1-241\n",
      "            105454 oct04_encumberedheuristic_oct04_encumberedheuristic_4_base_tie_break-cfr_port_10_extextern  R .     20:42     1 ip-10-255-1-173\n",
      "            105455 oct04_encumberedheuristic_oct04_encumberedheuristic_2_risk_averse-cfr_port_10_extexternal_  R .     20:42     1 ip-10-255-1-173\n",
      "            105456 oct04_encumberedheuristic_oct04_encumberedheuristic_2_risk_averse-cfr_port_10_extexternal_  R .     20:42     1 ip-10-255-1-153\n",
      "            105457 oct04_encumberedheuristic_oct04_encumberedheuristic_2_risk_averse-cfr_port_10_extexternal_  R .     20:42     1 ip-10-255-1-153\n",
      "            105458 oct04_encumberedheuristic_oct04_encumberedheuristic_1_base_grace_period-cfr_port_10_extext  R .     20:41     1 ip-10-255-1-158\n",
      "            105459 oct04_encumberedheuristic_oct04_encumberedheuristic_1_base_grace_period-cfr_port_10_extext  R .     20:41     1 ip-10-255-1-158\n",
      "            105460 oct04_encumberedheuristic_oct04_encumberedheuristic_1_base_grace_period-cfr_port_10_extext  R .     20:41     1 ip-10-255-1-156\n",
      "            105461 oct04_encumberedheuristic_oct04_encumberedheuristic_0_base_grace_period-cfr_port_10_extext  R .     20:41     1 ip-10-255-1-156\n",
      "            105462 oct04_encumberedheuristic_oct04_encumberedheuristic_0_base_grace_period-cfr_port_10_extext  R .     20:41     1 ip-10-255-1-231\n",
      "            105463 oct04_encumberedheuristic_oct04_encumberedheuristic_0_base_grace_period-cfr_port_10_extext  R .     20:41     1 ip-10-255-1-231\n",
      "            105464 oct04_encumberedheuristic_oct04_encumberedheuristic_2_spite-cfr_port_10_extexternal_plus_l  R .     20:41     1 ip-10-255-1-160\n",
      "            105465 oct04_encumberedheuristic_oct04_encumberedheuristic_2_spite-cfr_port_10_extexternal_plus_l  R .     20:41     1 ip-10-255-1-160\n",
      "            105466 oct04_encumberedheuristic_oct04_encumberedheuristic_2_spite-cfr_port_10_extexternal_plus_l  R .     20:41     1 ip-10-255-1-181\n",
      "            105467 oct04_encumberedheuristic_oct04_encumberedheuristic_1_base_undersell_allowed-cfr_port_10_e  R .     20:41     1 ip-10-255-1-181\n",
      "            105468 oct04_encumberedheuristic_oct04_encumberedheuristic_1_base_undersell_allowed-cfr_port_10_e  R .     20:40     1 ip-10-255-1-189\n",
      "            105469 oct04_encumberedheuristic_oct04_encumberedheuristic_1_base_undersell_allowed-cfr_port_10_e  R .     20:40     1 ip-10-255-1-189\n",
      "            105470 oct04_encumberedheuristic_oct04_encumberedheuristic_4_base_grace_period-cfr_port_10_extext  R .     20:40     1 ip-10-255-1-138\n",
      "            105471 oct04_encumberedheuristic_oct04_encumberedheuristic_4_base_grace_period-cfr_port_10_extext  R .     20:40     1 ip-10-255-1-138\n",
      "            105472 oct04_encumberedheuristic_oct04_encumberedheuristic_4_base_grace_period-cfr_port_10_extext  R .     20:40     1 ip-10-255-1-179\n",
      "            105473 oct04_encumberedheuristic_oct04_encumberedheuristic_1_spite_undersell_allowed-cfr_port_10_  R .     20:40     1 ip-10-255-1-179\n",
      "            105474 oct04_encumberedheuristic_oct04_encumberedheuristic_1_spite_undersell_allowed-cfr_port_10_  R .     20:16     1 ip-10-255-1-132\n",
      "            105475 oct04_encumberedheuristic_oct04_encumberedheuristic_1_spite_undersell_allowed-cfr_port_10_  R .     20:16     1 ip-10-255-1-132\n",
      "            105476 oct04_encumberedheuristic_oct04_encumberedheuristic_1_spite_tie_break-cfr_port_10_extexter  R .     20:16     1 ip-10-255-1-149\n",
      "            105477 oct04_encumberedheuristic_oct04_encumberedheuristic_1_spite_tie_break-cfr_port_10_extexter  R .     20:16     1 ip-10-255-1-149\n",
      "            105478 oct04_encumberedheuristic_oct04_encumberedheuristic_1_spite_tie_break-cfr_port_10_extexter  R .     20:16     1 ip-10-255-1-175\n",
      "            105479 oct04_encumberedheuristic_oct04_encumberedheuristic_4_spite_tie_break-cfr_port_10_extexter  R .     20:16     1 ip-10-255-1-175\n",
      "            105480 oct04_encumberedheuristic_oct04_encumberedheuristic_4_spite_tie_break-cfr_port_10_extexter  R .     20:16     1 ip-10-255-1-204\n",
      "            105481 oct04_encumberedheuristic_oct04_encumberedheuristic_4_spite_tie_break-cfr_port_10_extexter  R .     20:16     1 ip-10-255-1-204\n",
      "            105482 oct04_encumberedheuristic_oct04_encumberedheuristic_0_spite_tie_break-cfr_port_10_extexter  R .     20:16     1 ip-10-255-1-210\n",
      "            105483 oct04_encumberedheuristic_oct04_encumberedheuristic_0_spite_tie_break-cfr_port_10_extexter  R .     20:16     1 ip-10-255-1-210\n",
      "            105484 oct04_encumberedheuristic_oct04_encumberedheuristic_0_spite_tie_break-cfr_port_10_extexter  R .     20:16     1 ip-10-255-1-217\n",
      "            105485 oct04_encumberedheuristic_oct04_encumberedheuristic_2_spite_undersell_allowed-cfr_port_10_  R .     20:16     1 ip-10-255-1-217\n",
      "            105486 oct04_encumberedheuristic_oct04_encumberedheuristic_2_spite_undersell_allowed-cfr_port_10_  R .     20:16     1 ip-10-255-1-219\n",
      "            105487 oct04_encumberedheuristic_oct04_encumberedheuristic_2_spite_undersell_allowed-cfr_port_10_  R .     20:16     1 ip-10-255-1-219\n",
      "            105488 oct04_encumberedheuristic_oct04_encumberedheuristic_0_risk_averse-cfr_port_10_extexternal_  R .     20:16     1 ip-10-255-1-221\n",
      "            105489 oct04_encumberedheuristic_oct04_encumberedheuristic_0_risk_averse-cfr_port_10_extexternal_  R .     20:16     1 ip-10-255-1-221\n",
      "            105490 oct04_encumberedheuristic_oct04_encumberedheuristic_0_risk_averse-cfr_port_10_extexternal_  R .     20:16     1 ip-10-255-1-224\n",
      "            105491 oct04_encumberedheuristic_oct04_encumberedheuristic_0_base_undersell_allowed-cfr_port_10_e  R .     20:16     1 ip-10-255-1-224\n",
      "            105492 oct04_encumberedheuristic_oct04_encumberedheuristic_0_base_undersell_allowed-cfr_port_10_e  R .     20:16     1 ip-10-255-1-229\n",
      "            105493 oct04_encumberedheuristic_oct04_encumberedheuristic_0_base_undersell_allowed-cfr_port_10_e  R .     20:16     1 ip-10-255-1-229\n",
      "            105494 oct04_encumberedheuristic_oct04_encumberedheuristic_3_base_grace_period-cfr_port_10_extext  R .     20:16     1 ip-10-255-1-247\n",
      "            105495 oct04_encumberedheuristic_oct04_encumberedheuristic_3_base_grace_period-cfr_port_10_extext  R .     20:16     1 ip-10-255-1-247\n",
      "            105496 oct04_encumberedheuristic_oct04_encumberedheuristic_3_base_grace_period-cfr_port_10_extext  R .     20:16     1 ip-10-255-1-250\n",
      "            105497 oct04_encumberedheuristic_oct04_encumberedheuristic_0_risk_averse_grace_period-cfr_port_10  R .     20:16     1 ip-10-255-1-250\n",
      "            105498 oct04_encumberedheuristic_oct04_encumberedheuristic_0_risk_averse_grace_period-cfr_port_10  R .     20:16     1 ip-10-255-1-252\n",
      "            105499 oct04_encumberedheuristic_oct04_encumberedheuristic_0_risk_averse_grace_period-cfr_port_10  R .     20:16     1 ip-10-255-1-252\n",
      "            105500 oct04_encumberedheuristic_oct04_encumberedheuristic_3_risk_averse_tie_break-cfr_port_10_ex  R .     19:16     1 ip-10-255-1-141\n",
      "            105501 oct04_encumberedheuristic_oct04_encumberedheuristic_3_risk_averse_tie_break-cfr_port_10_ex  R .     19:16     1 ip-10-255-1-141\n",
      "            105502 oct04_encumberedheuristic_oct04_encumberedheuristic_3_risk_averse_tie_break-cfr_port_10_ex  R .     19:16     1 ip-10-255-1-143\n",
      "            105503 oct04_encumberedheuristic_oct04_encumberedheuristic_0_spite-cfr_port_10_extexternal_plus_l  R .     19:16     1 ip-10-255-1-143\n",
      "            105504 oct04_encumberedheuristic_oct04_encumberedheuristic_0_spite-cfr_port_10_extexternal_plus_l  R .     19:16     1 ip-10-255-1-145\n",
      "            105505 oct04_encumberedheuristic_oct04_encumberedheuristic_0_spite-cfr_port_10_extexternal_plus_l  R .     19:16     1 ip-10-255-1-145\n",
      "            105506 oct04_encumberedheuristic_oct04_encumberedheuristic_2_base_grace_period-cfr_port_10_extext  R .     19:16     1 ip-10-255-1-148\n",
      "            105507 oct04_encumberedheuristic_oct04_encumberedheuristic_2_base_grace_period-cfr_port_10_extext  R .     19:16     1 ip-10-255-1-148\n",
      "            105508 oct04_encumberedheuristic_oct04_encumberedheuristic_2_base_grace_period-cfr_port_10_extext  R .     19:16     1 ip-10-255-1-150\n",
      "            105509 oct04_encumberedheuristic_oct04_encumberedheuristic_1_risk_averse_tie_break-cfr_port_10_ex  R .     19:16     1 ip-10-255-1-150\n",
      "            105510 oct04_encumberedheuristic_oct04_encumberedheuristic_1_risk_averse_tie_break-cfr_port_10_ex  R .     19:16     1 ip-10-255-1-163\n",
      "            105511 oct04_encumberedheuristic_oct04_encumberedheuristic_1_risk_averse_tie_break-cfr_port_10_ex  R .     19:16     1 ip-10-255-1-163\n",
      "            105512 oct04_encumberedheuristic_oct04_encumberedheuristic_3_spite_grace_period-cfr_port_10_extex  R .     19:16     1 ip-10-255-1-167\n",
      "            105513 oct04_encumberedheuristic_oct04_encumberedheuristic_3_spite_grace_period-cfr_port_10_extex  R .     19:16     1 ip-10-255-1-167\n",
      "            105514 oct04_encumberedheuristic_oct04_encumberedheuristic_3_spite_grace_period-cfr_port_10_extex  R .     19:16     1 ip-10-255-1-169\n",
      "            105515 oct04_encumberedheuristic_oct04_encumberedheuristic_0_risk_averse_tie_break-cfr_port_10_ex  R .     19:16     1 ip-10-255-1-169\n",
      "            105516 oct04_encumberedheuristic_oct04_encumberedheuristic_0_risk_averse_tie_break-cfr_port_10_ex  R .     19:16     1 ip-10-255-1-172\n",
      "            105517 oct04_encumberedheuristic_oct04_encumberedheuristic_0_risk_averse_tie_break-cfr_port_10_ex  R .     19:16     1 ip-10-255-1-172\n",
      "            105518 oct04_encumberedheuristic_oct04_encumberedheuristic_3_spite-cfr_port_10_extexternal_plus_l  R .     19:16     1 ip-10-255-1-180\n",
      "            105519 oct04_encumberedheuristic_oct04_encumberedheuristic_3_spite-cfr_port_10_extexternal_plus_l  R .     19:16     1 ip-10-255-1-180\n",
      "            105520 oct04_encumberedheuristic_oct04_encumberedheuristic_3_spite-cfr_port_10_extexternal_plus_l  R .     19:16     1 ip-10-255-1-182\n",
      "            105521 oct04_encumberedheuristic_oct04_encumberedheuristic_1_risk_averse-cfr_port_10_extexternal_  R .     19:16     1 ip-10-255-1-182\n",
      "            105522 oct04_encumberedheuristic_oct04_encumberedheuristic_1_risk_averse-cfr_port_10_extexternal_  R .     19:16     1 ip-10-255-1-191\n",
      "            105523 oct04_encumberedheuristic_oct04_encumberedheuristic_1_risk_averse-cfr_port_10_extexternal_  R .     19:16     1 ip-10-255-1-191\n",
      "            105524 oct04_encumberedheuristic_oct04_encumberedheuristic_0_spite_grace_period-cfr_port_10_extex  R .     19:16     1 ip-10-255-1-201\n",
      "            105525 oct04_encumberedheuristic_oct04_encumberedheuristic_0_spite_grace_period-cfr_port_10_extex  R .     19:16     1 ip-10-255-1-201\n",
      "            105526 oct04_encumberedheuristic_oct04_encumberedheuristic_0_spite_grace_period-cfr_port_10_extex  R .     19:16     1 ip-10-255-1-215\n",
      "            105527 oct04_encumberedheuristic_oct04_encumberedheuristic_3_base-cfr_port_10_extexternal_plus_li  R .     19:16     1 ip-10-255-1-215\n",
      "            105528 oct04_encumberedheuristic_oct04_encumberedheuristic_3_base-cfr_port_10_extexternal_plus_li  R .     19:16     1 ip-10-255-1-223\n",
      "            105529 oct04_encumberedheuristic_oct04_encumberedheuristic_3_base-cfr_port_10_extexternal_plus_li  R .     19:16     1 ip-10-255-1-223\n",
      "            105530 oct04_encumberedheuristic_oct04_encumberedheuristic_4_risk_averse-cfr_port_10_extexternal_  R .     19:16     1 ip-10-255-1-249\n",
      "            105531 oct04_encumberedheuristic_oct04_encumberedheuristic_4_risk_averse-cfr_port_10_extexternal_  R .     19:16     1 ip-10-255-1-249\n",
      "            105532 oct04_encumberedheuristic_oct04_encumberedheuristic_4_risk_averse-cfr_port_10_extexternal_  R .     19:16     1 ip-10-255-1-238\n",
      "            105533 oct04_encumberedheuristic_oct04_encumberedheuristic_3_base_undersell_allowed-cfr_port_10_e  R .     19:16     1 ip-10-255-1-238\n",
      "            105534 oct04_encumberedheuristic_oct04_encumberedheuristic_3_base_undersell_allowed-cfr_port_10_e  R .     19:16     1 ip-10-255-1-239\n",
      "            105535 oct04_encumberedheuristic_oct04_encumberedheuristic_3_base_undersell_allowed-cfr_port_10_e  R .     19:16     1 ip-10-255-1-239\n"
     ]
    }
   ],
   "source": [
    "!squeue --format=\"%.18i %.90j %.2t .%.10M%.6D %R\""
   ]
  },
  {
   "cell_type": "code",
   "execution_count": null,
   "id": "0e80d410-986b-42a1-9d49-1035ef103a0a",
   "metadata": {},
   "outputs": [],
   "source": [
    "def check_queue():\n",
    "    !ssh borg.cs.ubc.ca '/opt/slurm/bin/squeue -u newmanne --format=\"%.18i %.90j %.2t .%.10M %.6D %R\"'\n"
   ]
  },
  {
   "cell_type": "code",
   "execution_count": null,
   "id": "3e5c26b7-d158-4ece-a72a-c3b2fd47a56f",
   "metadata": {
    "tags": []
   },
   "outputs": [],
   "source": [
    "check_queue()"
   ]
  },
  {
   "cell_type": "code",
   "execution_count": 24,
   "id": "a8ee533f-357a-4bbc-956e-1cf136ef9266",
   "metadata": {},
   "outputs": [
    {
     "name": "stdout",
     "output_type": "stream",
     "text": [
      "241\n"
     ]
    }
   ],
   "source": [
    "!squeue | wc -l"
   ]
  },
  {
   "cell_type": "code",
   "execution_count": null,
   "id": "a8b665af-771f-44c1-8065-4928e1e5ac91",
   "metadata": {},
   "outputs": [],
   "source": [
    "!squeue | grep \"may30\" | wc -l"
   ]
  },
  {
   "cell_type": "code",
   "execution_count": 7,
   "id": "c26b508d-9ee0-4878-9aa1-68c611ab651a",
   "metadata": {},
   "outputs": [],
   "source": [
    "!scancel -u ubuntu"
   ]
  },
  {
   "cell_type": "code",
   "execution_count": null,
   "id": "aee5cc7e-228c-4484-bb31-efb870f59efa",
   "metadata": {},
   "outputs": [],
   "source": [
    "# !scancel  46891 46893"
   ]
  },
  {
   "cell_type": "code",
   "execution_count": null,
   "id": "3aeeeeb6-6c6f-4e37-9566-3eb8d73d97d5",
   "metadata": {},
   "outputs": [],
   "source": [
    "!rm -rf /shared/outputs/minitest/\n",
    "try:\n",
    "    Experiment.objects.get(name='minitest').delete()\n",
    "except:\n",
    "    pass\n",
    "dispatch.dispatch_experiments('feb2', base_job_name='minitest', game_name='tiny', overrides = '--br_portfolio_path feb2 --eval_every 500 --num_training_episodes 1_000 --br_overrides \"--num_training_episodes 1_000\" --eval_overrides \"--num_samples 100\"')"
   ]
  },
  {
   "cell_type": "code",
   "execution_count": null,
   "id": "d4ca4c72-ce03-4d1a-8e9d-1abd642e8407",
   "metadata": {},
   "outputs": [],
   "source": [
    "BestResponse.objects.last()"
   ]
  },
  {
   "cell_type": "code",
   "execution_count": null,
   "id": "da1b3451-a927-4467-a90d-077f2de61767",
   "metadata": {},
   "outputs": [],
   "source": [
    "Experiment.objects.all()"
   ]
  },
  {
   "cell_type": "code",
   "execution_count": null,
   "id": "0547418d-7d14-404e-ad7f-892180cd6e50",
   "metadata": {},
   "outputs": [],
   "source": [
    "!sacct --starttime 2022-03-11 --format=User,JobID,Jobname,partition,state,time,start,end,elapsed,MaxRss,MaxVMSize,nnodes,ncpus,nodelist"
   ]
  },
  {
   "cell_type": "code",
   "execution_count": null,
   "id": "2fc59f9d-3861-481c-bcd2-68c25e19267a",
   "metadata": {},
   "outputs": [],
   "source": [
    "Evaluation.objects.last()"
   ]
  },
  {
   "cell_type": "code",
   "execution_count": null,
   "id": "eda9b8b7-ea2f-41b0-a527-4460fb8249fc",
   "metadata": {},
   "outputs": [],
   "source": [
    "os.system(\"ssh borg.cs.ubc.ca '/opt/slurm/bin/sbatch'\")"
   ]
  },
  {
   "cell_type": "code",
   "execution_count": null,
   "id": "b70ae116-1e70-4d32-8405-b479041c18b5",
   "metadata": {},
   "outputs": [],
   "source": [
    "!squeue --format=\"%.18i %.65j %.2t %.10M %.6D %R\" | grep \"eval\" | awk '{print $1}' | xargs scancel"
   ]
  },
  {
   "cell_type": "code",
   "execution_count": null,
   "id": "d6b4808f-f9ca-4e51-8a92-4445dfb6f883",
   "metadata": {},
   "outputs": [],
   "source": [
    "from compress_pickle import dumps, loads\n"
   ]
  },
  {
   "cell_type": "code",
   "execution_count": null,
   "id": "a9b6c536-b575-48e7-8bd9-8b28e9a9619a",
   "metadata": {},
   "outputs": [],
   "source": [
    "loads?"
   ]
  },
  {
   "cell_type": "code",
   "execution_count": null,
   "id": "27346459-d529-47b5-b84f-32511d1b809f",
   "metadata": {},
   "outputs": [],
   "source": [
    "from compress_pickle.compressers.registry import get_known_compressions"
   ]
  },
  {
   "cell_type": "code",
   "execution_count": null,
   "id": "89557fb5-e0fb-471c-80f4-e7d8d4b76abb",
   "metadata": {},
   "outputs": [],
   "source": [
    "get_known_compressions()"
   ]
  },
  {
   "cell_type": "code",
   "execution_count": null,
   "id": "2b42e2b0-3412-46ed-8a7f-7539bc84f752",
   "metadata": {},
   "outputs": [],
   "source": [
    "x = EquilibriumSolverRunCheckpoint.objects.last().policy"
   ]
  },
  {
   "cell_type": "code",
   "execution_count": null,
   "id": "52401c72-bb34-41be-b7f0-a0c9479f60ff",
   "metadata": {},
   "outputs": [],
   "source": [
    "len(x)"
   ]
  },
  {
   "cell_type": "code",
   "execution_count": null,
   "id": "c19c4b6d-95b9-4730-9f52-66ef55bc2b2d",
   "metadata": {},
   "outputs": [],
   "source": [
    "len(dumps(pickle.loads(x), compression='bz2'))"
   ]
  },
  {
   "cell_type": "code",
   "execution_count": null,
   "id": "3b5590c1-0f89-4562-abdb-d9683160d40c",
   "metadata": {},
   "outputs": [],
   "source": [
    "len(pickle.dumps(pickle.loads(x)))"
   ]
  },
  {
   "cell_type": "code",
   "execution_count": null,
   "id": "0a3eae12-4643-46f1-a4ed-a72b4a18a44f",
   "metadata": {},
   "outputs": [],
   "source": [
    "EquilibriumSolverRunCheckpoint.objects.last().walltime"
   ]
  },
  {
   "cell_type": "code",
   "execution_count": null,
   "id": "33a4992c-5f4f-44df-a3cb-6f2a2bd15b6b",
   "metadata": {},
   "outputs": [],
   "source": [
    "EquilibriumSolverRunCheckpoint.objects.last().t"
   ]
  },
  {
   "cell_type": "code",
   "execution_count": null,
   "id": "03993e8f-aa1c-431f-9a5f-8bb5fedd7486",
   "metadata": {},
   "outputs": [],
   "source": [
    "EquilibriumSolverRunCheckpoint.objects.last().bestresponse_set.all()"
   ]
  },
  {
   "cell_type": "code",
   "execution_count": null,
   "id": "eb5535b3-c54c-4b0f-a3ae-ea5a61815694",
   "metadata": {},
   "outputs": [],
   "source": [
    "len(EquilibriumSolverRun.objects.last().equilibriumsolverruncheckpoint_set.all().first().policy)"
   ]
  },
  {
   "cell_type": "code",
   "execution_count": null,
   "id": "d9ec7cbe-0003-41b4-b8a2-c92ee61d9ef6",
   "metadata": {},
   "outputs": [],
   "source": [
    "len(EquilibriumSolverRun.objects.last().equilibriumsolverruncheckpoint_set.all().first().bestresponse_set.all().first().model)"
   ]
  },
  {
   "cell_type": "code",
   "execution_count": null,
   "id": "10dbbad0-9431-4681-9a74-912e50999dc7",
   "metadata": {},
   "outputs": [],
   "source": [
    "len(EquilibriumSolverRun.objects.last().equilibriumsolverruncheckpoint_set.all().first().bestresponse_set.all().last().model)"
   ]
  },
  {
   "cell_type": "code",
   "execution_count": null,
   "id": "813c6ee9-125d-4b02-81e6-c0a3652ba078",
   "metadata": {},
   "outputs": [],
   "source": []
  },
  {
   "cell_type": "code",
   "execution_count": null,
   "id": "ba52b0c7-3569-4e78-b13d-e64f538439ae",
   "metadata": {},
   "outputs": [],
   "source": []
  }
 ],
 "metadata": {
  "kernelspec": {
   "display_name": "Django Shell-Plus",
   "language": "python",
   "name": "django_extensions"
  },
  "language_info": {
   "codemirror_mode": {
    "name": "ipython",
    "version": 3
   },
   "file_extension": ".py",
   "mimetype": "text/x-python",
   "name": "python",
   "nbconvert_exporter": "python",
   "pygments_lexer": "ipython3",
   "version": "3.8.2"
  }
 },
 "nbformat": 4,
 "nbformat_minor": 5
}
