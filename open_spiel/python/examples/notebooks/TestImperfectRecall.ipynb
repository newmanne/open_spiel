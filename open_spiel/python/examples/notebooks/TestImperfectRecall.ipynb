{
 "cells": [
  {
   "cell_type": "code",
   "execution_count": 57,
   "id": "c1bd01ce-e91f-4ecb-b207-03bfe0c45f49",
   "metadata": {},
   "outputs": [],
   "source": [
    "import re\n",
    "from open_spiel.python.algorithms import cfr, outcome_sampling_mccfr, expected_game_score, exploitability, get_all_states_with_policy\n",
    "import pyspiel\n",
    "from open_spiel.python.algorithms.cfr import CFRSolver\n",
    "import pandas as pd\n",
    "import pickle\n",
    "import cProfile, pstats"
   ]
  },
  {
   "cell_type": "code",
   "execution_count": 58,
   "id": "3bc9b7d8-44d7-489d-a86e-3f4f76f97b53",
   "metadata": {},
   "outputs": [],
   "source": [
    "# GAME_PATH = '/apps/open_spiel/sats/python/odd_licenses.json'\n",
    "# GAME_PATH = 'very_small_sats_complete_symmetric.json'\n",
    "# GAME_PATH = '/apps/open_spiel/sats/python/mixed.json'"
   ]
  },
  {
   "cell_type": "code",
   "execution_count": 59,
   "id": "53d144f5-817d-4c3c-8f78-65e2f2d2414f",
   "metadata": {},
   "outputs": [],
   "source": [
    "def setup_game(GAME_NAME):\n",
    "    GAME_PATH = f'/apps/open_spiel/sats/python/{GAME_NAME}.json'\n",
    "    PYSATS = '/apps/sats/python'\n",
    "    !python {PYSATS}/pysats.py --config_file {PYSATS}/{GAME_NAME}.yml --seed 777 --output_file {PYSATS}/{GAME_NAME}.json\n",
    "    # GAME_NAME = f'{PYSATS}/{GAME_NAME}'\n",
    "    !mv {GAME_PATH} /apps/open_spiel/configs/{GAME_NAME}.json"
   ]
  },
  {
   "cell_type": "code",
   "execution_count": 61,
   "id": "3e1ef768-6ab6-4851-b83f-e0d43f859735",
   "metadata": {},
   "outputs": [
    {
     "name": "stdout",
     "output_type": "stream",
     "text": [
      "{'licenses': [3], 'activity': [1], 'opening_price': [18], 'information_policy': 'show_demand', 'undersell_rule': 'undersell', 'increment': 1, 'fold_randomness': True, 'max_rounds': 5, 'agent_memory': 20, 'license_names': ['British Columbia'], 'players': [{'type': [{'value': [0, 60, 120, 120], 'value_format': 'full', 'budget': 120, 'prob': 1.0, 'name': 'normal', 'drop_out_heuristic': True}]}, {'type': [{'value': [0, 100, 250, 250], 'value_format': 'full', 'budget': 250, 'prob': 1.0, 'name': 'normal', 'drop_out_heuristic': True, 'straightforward': True}]}]}\n",
      "/apps/cluster_open_spiel/open_spiel/python/examples/ubc_mccfr_cpp_example.py --filename may9.json --iterations 100 --output results/may9_1234 --game python_clock_auction --python true --solver cfr  --seed 1234\n",
      "I0509 19:49:14.884173 140211714671104 clock_auction_parser.py:14] Reading from env variable CLOCK_AUCTION_CONFIG_DIR. If it is not set, there will be trouble.\n",
      "I0509 19:49:14.884336 140211714671104 clock_auction_parser.py:18] CLOCK_AUCTION_CONFIG_DIR=/apps/open_spiel/configs\n",
      "I0509 19:49:14.884397 140211714671104 clock_auction_parser.py:21] Parsing configuration from /apps/open_spiel/configs/may9.json\n",
      "I0509 19:49:14.884641 140211714671104 clock_auction_parser.py:100] Done config parsing\n",
      "I0509 19:49:14.884735 140211714671104 clock_auction.py:133] Folding randomnesss...\n",
      "I0509 19:49:14.884948 140211714671104 ubc_mccfr_cpp_example.py:168] Using python implementations\n",
      "I0509 19:49:14.885071 140211714671104 ubc_mccfr_cpp_example.py:170] Using CFR solver\n",
      "Game has 12 info states!\n",
      "I0509 19:49:14.927936 140211714671104 ubc_mccfr_cpp_example.py:224] Starting iteration 0\n",
      "I0509 19:49:14.935603 140211714671104 ubc_mccfr_cpp_example.py:256] Iteration 0\n",
      "I0509 19:49:14.935757 140211714671104 ubc_mccfr_cpp_example.py:260] walltime=0.047062\n",
      "I0509 19:49:14.937860 140211714671104 ubc_mccfr_cpp_example.py:227] Done iteration 1. Took 0.05 seconds\n",
      "I0509 19:49:14.940240 140211714671104 ubc_mccfr_cpp_example.py:227] Done iteration 2. Took 0.06 seconds\n",
      "I0509 19:49:14.942577 140211714671104 ubc_mccfr_cpp_example.py:227] Done iteration 3. Took 0.06 seconds\n",
      "I0509 19:49:15.152791 140211714671104 ubc_mccfr_cpp_example.py:256] Iteration 99\n",
      "I0509 19:49:15.153005 140211714671104 ubc_mccfr_cpp_example.py:260] walltime=0.264724\n",
      "I0509 19:49:15.154563 140211714671104 ubc_mccfr_cpp_example.py:135] Persisting the model...\n",
      "Max Depth: 10\n",
      "I0509 19:49:15.174644 140211714671104 ubc_mccfr_cpp_example.py:328] Saving strategy to results/may9_1234/strategy.csv\n"
     ]
    }
   ],
   "source": [
    "GAME_NAMES = ['may9']\n",
    "solver = 'cfr'\n",
    "n_seeds = 1\n",
    "seeds = range(1234, 1234 + n_seeds)\n",
    "iters = 100\n",
    "for GAME_NAME in GAME_NAMES:\n",
    "    setup_game(GAME_NAME)\n",
    "    for seed in seeds:\n",
    "        command = f'/apps/cluster_open_spiel/open_spiel/python/examples/ubc_mccfr_cpp_example.py --filename {GAME_NAME}.json --iterations {iters} --output results/{GAME_NAME}_{seed} --game python_clock_auction --python true --solver {solver}  --seed {seed}'\n",
    "        print(command)\n",
    "        !python {command}"
   ]
  },
  {
   "cell_type": "code",
   "execution_count": null,
   "id": "2b27572a-a305-4ad1-af85-2fe05e4bf420",
   "metadata": {},
   "outputs": [],
   "source": [
    "# def prof():\n",
    "#     game = pyspiel.load_game(\"python_clock_auction\", dict(filename='april6_t1.json'))\n",
    "#     num_iterations = 500\n",
    "#     cfr_solver = CFRSolver(game)\n",
    "#     for i in range(num_iterations):\n",
    "#         cfr_solver.evaluate_and_update_policy()\n",
    "\n",
    "\n",
    "# profiler = cProfile.Profile()\n",
    "# profiler.enable()\n",
    "# prof()\n",
    "# profiler.disable()"
   ]
  },
  {
   "cell_type": "code",
   "execution_count": null,
   "id": "5d43fd1e-7c18-45d8-bf16-0c3f6ee9bce4",
   "metadata": {},
   "outputs": [],
   "source": [
    "stats = pstats.Stats(profiler).sort_stats('cumtime')\n",
    "stats.print_stats()\n"
   ]
  },
  {
   "cell_type": "code",
   "execution_count": null,
   "id": "89a05986-b805-4466-9c3c-95fa291b2583",
   "metadata": {},
   "outputs": [],
   "source": [
    "game = pyspiel.load_game(\"python_clock_auction\", dict(filename='april6_t1.json'))\n",
    "\n",
    "\n",
    "def state_to_final_python(game, s):\n",
    "    '''Convert a state into unique final outcomes (but not caring about bidding being different in the middle). i.e., the allocation and the types and the price are all the same'''\n",
    "    info_state_string = f'Price: {s.posted_prices[-1]}\\n'\n",
    "    info_state_string += f'Final bids: {s.get_allocation()}\\n'\n",
    "    info_state_string += f'Round: {s.round}\\n'\n",
    "    return info_state_string\n",
    "\n",
    "\n",
    "all_states = get_all_states_with_policy.get_all_info_states_with_policy(\n",
    "    game,\n",
    "    depth_limit=-1,\n",
    "    include_terminals=True,\n",
    "    policy=None,\n",
    "    to_string=lambda s: state_to_final_python(game, s)\n",
    ")\n"
   ]
  },
  {
   "cell_type": "code",
   "execution_count": null,
   "id": "8d59433f-77de-40c3-9122-533b27c12847",
   "metadata": {},
   "outputs": [],
   "source": [
    "game = pyspiel.load_game(\"python_clock_auction\", dict(filename='april6_t1.json'))\n",
    "solver = pickle.load(open('april6_t1/cfr_9.pkl', 'rb'))\n",
    "policy = solver.average_policy()\n",
    "\n",
    "all_states = get_all_states_with_policy.get_all_info_states_with_policy(\n",
    "    game,\n",
    "    depth_limit=-1,\n",
    "    include_terminals=True,\n",
    "    policy=policy,\n",
    "    to_string=lambda s: state_to_final_python(game, s)\n",
    ")\n"
   ]
  },
  {
   "cell_type": "code",
   "execution_count": null,
   "id": "de8a996f-47f6-4999-b2e2-f3c68aba6ba7",
   "metadata": {},
   "outputs": [],
   "source": [
    "game.new_initial_state().get_game()"
   ]
  },
  {
   "cell_type": "code",
   "execution_count": null,
   "id": "9d8aa81b-3134-47b5-a78f-e1f707b86544",
   "metadata": {},
   "outputs": [],
   "source": []
  },
  {
   "cell_type": "code",
   "execution_count": null,
   "id": "5a2ff6d3-00e6-4a8f-8979-282de45f428c",
   "metadata": {},
   "outputs": [],
   "source": [
    "import pprofile\n",
    "profiler = pprofile.Profile()\n",
    "with profiler:\n",
    "    prof()\n",
    "profiler.dump_stats('output_april17.prof')"
   ]
  },
  {
   "cell_type": "code",
   "execution_count": null,
   "id": "35a3e366-a786-4d47-a3e0-b5dbdd9bf38d",
   "metadata": {},
   "outputs": [],
   "source": [
    "game = pyspiel.load_game(\"python_clock_auction\", dict(filename='april6_t1.json'))"
   ]
  },
  {
   "cell_type": "code",
   "execution_count": null,
   "id": "d71e43b9-c947-4b19-97c5-f68e2f124840",
   "metadata": {},
   "outputs": [],
   "source": [
    "game.make_py_observer().string_from.cache_info()"
   ]
  },
  {
   "cell_type": "code",
   "execution_count": null,
   "id": "ff7db916-8ecb-41c2-a01c-87fda2c806bc",
   "metadata": {},
   "outputs": [],
   "source": []
  }
 ],
 "metadata": {
  "kernelspec": {
   "display_name": "Django Shell-Plus",
   "language": "python",
   "name": "django_extensions"
  },
  "language_info": {
   "codemirror_mode": {
    "name": "ipython",
    "version": 3
   },
   "file_extension": ".py",
   "mimetype": "text/x-python",
   "name": "python",
   "nbconvert_exporter": "python",
   "pygments_lexer": "ipython3",
   "version": "3.8.2"
  }
 },
 "nbformat": 4,
 "nbformat_minor": 5
}
