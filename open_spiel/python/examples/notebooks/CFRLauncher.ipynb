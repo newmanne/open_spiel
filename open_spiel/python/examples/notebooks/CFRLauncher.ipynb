{
 "cells": [
  {
   "cell_type": "code",
   "execution_count": 12,
   "id": "e6f6eef1-52e3-4ff5-af4b-2d5b933ad90b",
   "metadata": {},
   "outputs": [
    {
     "name": "stdout",
     "output_type": "stream",
     "text": [
      "The autoreload extension is already loaded. To reload it, use:\n",
      "  %reload_ext autoreload\n",
      "%pylab is deprecated, use %matplotlib inline and import the required libraries.\n",
      "Populating the interactive namespace from numpy and matplotlib\n"
     ]
    }
   ],
   "source": [
    "%load_ext autoreload\n",
    "%autoreload 2\n",
    "%pylab inline"
   ]
  },
  {
   "cell_type": "code",
   "execution_count": 13,
   "id": "53d1f915-16a6-42e9-b93a-3f44564ef069",
   "metadata": {},
   "outputs": [],
   "source": [
    "import sys\n",
    "import glob\n",
    "import pandas as pd\n",
    "import os\n",
    "import seaborn as sns\n",
    "from tqdm import tqdm_notebook as tqdm\n",
    "from statsmodels.distributions.empirical_distribution import ECDF\n",
    "from collections import defaultdict\n",
    "import open_spiel.python.examples.ubc_dispatch as dispatch\n",
    "import os\n",
    "os.environ[\"DJANGO_ALLOW_ASYNC_UNSAFE\"] = \"true\"\n",
    "from sklearn.model_selection import ParameterGrid\n",
    "from pathlib import Path\n",
    "import torch.nn.functional as F\n",
    "import torch"
   ]
  },
  {
   "cell_type": "code",
   "execution_count": 14,
   "id": "a963cf68-f084-47bc-86bf-23882e77f392",
   "metadata": {},
   "outputs": [],
   "source": [
    "game_dir = os.environ[\"CLOCK_AUCTION_CONFIG_DIR\"]"
   ]
  },
  {
   "cell_type": "code",
   "execution_count": 15,
   "id": "48036c62-68f7-4580-82c3-0da36da9c6b4",
   "metadata": {},
   "outputs": [
    {
     "data": {
      "text/plain": [
       "['jun19/jun19_2_no_activity',\n",
       " 'jun19/jun19_3_undersell_allowed',\n",
       " 'jun19/jun19_1_high_speed',\n",
       " 'jun19/jun19_3_no_activity',\n",
       " 'jun19/jun19_0_high_speed',\n",
       " 'jun19/jun19_0_no_activity',\n",
       " 'jun19/jun19_0_medium_speed',\n",
       " 'jun19/jun19_1_no_activity',\n",
       " 'jun19/jun19_2_undersell_allowed',\n",
       " 'jun19/jun19_0_undersell_allowed',\n",
       " 'jun19/jun19_4_base',\n",
       " 'jun19/jun19_3_high_speed',\n",
       " 'jun19/jun19_2_base',\n",
       " 'jun19/jun19_3_base',\n",
       " 'jun19/jun19_1_undersell_allowed',\n",
       " 'jun19/jun19_0_base',\n",
       " 'jun19/jun19_4_no_activity',\n",
       " 'jun19/jun19_1_medium_speed',\n",
       " 'jun19/jun19_2_high_speed',\n",
       " 'jun19/jun19_1_base',\n",
       " 'jun19/jun19_4_medium_speed',\n",
       " 'jun19/jun19_4_high_speed',\n",
       " 'jun19/jun19_4_undersell_allowed',\n",
       " 'jun19/jun19_2_medium_speed',\n",
       " 'jun19/jun19_3_medium_speed']"
      ]
     },
     "execution_count": 15,
     "metadata": {},
     "output_type": "execute_result"
    }
   ],
   "source": [
    "PREFIX = 'jun19'\n",
    "sats_games = [f'{PREFIX}/' + os.path.basename(x).replace('.json','') for x in glob.glob(f'{game_dir}/{PREFIX}/*')]\n",
    "sats_games"
   ]
  },
  {
   "cell_type": "markdown",
   "id": "01e19a7a-7d0c-4d03-963f-2265e950bf0b",
   "metadata": {},
   "source": [
    "# For running the real dumb test case"
   ]
  },
  {
   "cell_type": "code",
   "execution_count": 16,
   "id": "ff77dd62-1983-4468-9c31-fd042294ca5c",
   "metadata": {},
   "outputs": [
    {
     "name": "stdout",
     "output_type": "stream",
     "text": [
      "25\n"
     ]
    }
   ],
   "source": [
    "pgrid = ParameterGrid([\n",
    "    {\n",
    "        # Defaults\n",
    "        'game': [g for g in sats_games]# if 'hide' not in g and 'imperfect' not in g]\n",
    "    },\n",
    "])\n",
    "print(len(pgrid))"
   ]
  },
  {
   "cell_type": "code",
   "execution_count": 21,
   "id": "670efe1e-8e7e-4cef-b04d-78fc7a4cbce6",
   "metadata": {},
   "outputs": [
    {
     "name": "stdout",
     "output_type": "stream",
     "text": [
      "Submitted batch job 1019638\n",
      "Submitted batch job 1019639\n",
      "Submitted batch job 1019640\n",
      "Submitted batch job 1019641\n",
      "Submitted batch job 1019642\n",
      "Submitted batch job 1019643\n",
      "Submitted batch job 1019644\n",
      "Submitted batch job 1019645\n",
      "Submitted batch job 1019646\n",
      "Submitted batch job 1019647\n",
      "Submitted batch job 1019648\n",
      "Submitted batch job 1019649\n",
      "Submitted batch job 1019650\n",
      "Submitted batch job 1019651\n",
      "Submitted batch job 1019652\n",
      "Submitted batch job 1019654\n",
      "Submitted batch job 1019655\n",
      "Submitted batch job 1019656\n",
      "Submitted batch job 1019657\n",
      "Submitted batch job 1019658\n",
      "Submitted batch job 1019659\n",
      "Submitted batch job 1019661\n",
      "Submitted batch job 1019662\n",
      "Submitted batch job 1019663\n",
      "Submitted batch job 1019664\n",
      "Submitted batch job 1019665\n",
      "Submitted batch job 1019666\n",
      "Submitted batch job 1019667\n",
      "Submitted batch job 1019668\n",
      "Submitted batch job 1019669\n",
      "Submitted batch job 1019670\n",
      "Submitted batch job 1019671\n",
      "Submitted batch job 1019672\n",
      "Submitted batch job 1019673\n",
      "Submitted batch job 1019674\n",
      "Submitted batch job 1019675\n",
      "Submitted batch job 1019676\n",
      "Submitted batch job 1019677\n",
      "Submitted batch job 1019678\n",
      "Submitted batch job 1019679\n",
      "Submitted batch job 1019680\n",
      "Submitted batch job 1019681\n",
      "Submitted batch job 1019682\n",
      "Submitted batch job 1019683\n",
      "Submitted batch job 1019684\n",
      "Submitted batch job 1019685\n",
      "Submitted batch job 1019686\n",
      "Submitted batch job 1019687\n",
      "Submitted batch job 1019688\n",
      "Submitted batch job 1019689\n",
      "Submitted batch job 1019690\n",
      "Submitted batch job 1019691\n",
      "Submitted batch job 1019692\n",
      "Submitted batch job 1019693\n",
      "Submitted batch job 1019694\n",
      "Submitted batch job 1019695\n",
      "Submitted batch job 1019696\n",
      "Submitted batch job 1019697\n",
      "Submitted batch job 1019698\n",
      "Submitted batch job 1019699\n",
      "Submitted batch job 1019700\n",
      "Submitted batch job 1019701\n",
      "Submitted batch job 1019702\n",
      "Submitted batch job 1019703\n",
      "Submitted batch job 1019704\n",
      "Submitted batch job 1019705\n",
      "Submitted batch job 1019706\n",
      "Submitted batch job 1019707\n",
      "Submitted batch job 1019708\n",
      "Submitted batch job 1019709\n",
      "Submitted batch job 1019710\n",
      "Submitted batch job 1019711\n",
      "Submitted batch job 1019712\n",
      "Submitted batch job 1019713\n",
      "Submitted batch job 1019714\n"
     ]
    }
   ],
   "source": [
    "num_iters = 10_000_000\n",
    "time_limit_seconds = 3600 * 12\n",
    "for config in pgrid:\n",
    "    CONFIG = 'cfr_external' # The YML network config folder for the main jobs\n",
    "    N_SEEDS = 3 # Number of seeds of each experiment to launch\n",
    "    extra_name = ''\n",
    "    overrides = f'--overwrite_db True --eval_every 3_000_000 --eval_zero false --total_timesteps {num_iters} --dispatch_br false --report_freq 5000 --time_limit_seconds {time_limit_seconds}'      \n",
    "    dispatch.dispatch_experiments(CONFIG, base_job_name='jun20external', game_name=config['game'], overrides=overrides, n_seeds=N_SEEDS, extra_name=extra_name, alg='cfr')"
   ]
  },
  {
   "cell_type": "code",
   "execution_count": 20,
   "id": "457a17e0-3467-49e7-a1fc-ef7b061e49ff",
   "metadata": {},
   "outputs": [
    {
     "name": "stdout",
     "output_type": "stream",
     "text": [
      "Submitted batch job 1019562\n",
      "Submitted batch job 1019563\n",
      "Submitted batch job 1019564\n",
      "Submitted batch job 1019565\n",
      "Submitted batch job 1019566\n",
      "Submitted batch job 1019567\n",
      "Submitted batch job 1019568\n",
      "Submitted batch job 1019569\n",
      "Submitted batch job 1019570\n",
      "Submitted batch job 1019571\n",
      "Submitted batch job 1019572\n",
      "Submitted batch job 1019573\n",
      "Submitted batch job 1019574\n",
      "Submitted batch job 1019575\n",
      "Submitted batch job 1019576\n",
      "Submitted batch job 1019577\n",
      "Submitted batch job 1019578\n",
      "Submitted batch job 1019579\n",
      "Submitted batch job 1019580\n",
      "Submitted batch job 1019581\n",
      "Submitted batch job 1019582\n",
      "Submitted batch job 1019583\n",
      "Submitted batch job 1019584\n",
      "Submitted batch job 1019585\n",
      "Submitted batch job 1019586\n",
      "Submitted batch job 1019587\n",
      "Submitted batch job 1019588\n",
      "Submitted batch job 1019589\n",
      "Submitted batch job 1019590\n",
      "Submitted batch job 1019591\n",
      "Submitted batch job 1019592\n",
      "Submitted batch job 1019593\n",
      "Submitted batch job 1019594\n",
      "Submitted batch job 1019595\n",
      "Submitted batch job 1019596\n",
      "Submitted batch job 1019597\n",
      "Submitted batch job 1019598\n",
      "Submitted batch job 1019599\n",
      "Submitted batch job 1019600\n",
      "Submitted batch job 1019601\n",
      "Submitted batch job 1019602\n",
      "Submitted batch job 1019603\n",
      "Submitted batch job 1019604\n",
      "Submitted batch job 1019605\n",
      "Submitted batch job 1019606\n",
      "Submitted batch job 1019607\n",
      "Submitted batch job 1019608\n",
      "Submitted batch job 1019609\n",
      "Submitted batch job 1019610\n",
      "Submitted batch job 1019611\n",
      "Submitted batch job 1019612\n",
      "Submitted batch job 1019613\n",
      "Submitted batch job 1019614\n",
      "Submitted batch job 1019615\n",
      "Submitted batch job 1019616\n",
      "Submitted batch job 1019617\n",
      "Submitted batch job 1019618\n",
      "Submitted batch job 1019619\n",
      "Submitted batch job 1019620\n",
      "Submitted batch job 1019621\n",
      "Submitted batch job 1019622\n",
      "Submitted batch job 1019623\n",
      "Submitted batch job 1019624\n",
      "Submitted batch job 1019625\n",
      "Submitted batch job 1019626\n",
      "Submitted batch job 1019627\n",
      "Submitted batch job 1019628\n",
      "Submitted batch job 1019629\n",
      "Submitted batch job 1019630\n",
      "Submitted batch job 1019631\n",
      "Submitted batch job 1019632\n",
      "Submitted batch job 1019633\n",
      "Submitted batch job 1019634\n",
      "Submitted batch job 1019635\n",
      "Submitted batch job 1019636\n"
     ]
    }
   ],
   "source": [
    "num_iters = 30_000_000\n",
    "time_limit_seconds = 3600 * 24\n",
    "for config in pgrid:\n",
    "    CONFIG = 'cfr_outcome' # The YML network config folder for the main jobs\n",
    "    N_SEEDS = 3 # Number of seeds of each experiment to launch\n",
    "    extra_name = ''\n",
    "    overrides = f'--overwrite_db True --eval_every 3_000_000 --eval_zero false --total_timesteps {num_iters} --dispatch_br false --report_freq 5000'      \n",
    "    dispatch.dispatch_experiments(CONFIG, base_job_name='jun20outcome', game_name=config['game'], overrides=overrides, n_seeds=N_SEEDS, extra_name=extra_name, alg='cfr')"
   ]
  },
  {
   "cell_type": "code",
   "execution_count": null,
   "id": "534e93c4-35cb-4af5-8140-6ca5bb9d859b",
   "metadata": {},
   "outputs": [],
   "source": [
    "# for config in pgrid:\n",
    "#     CONFIG = 'ppo_no_ent_jun14'\n",
    "#     # CONFIG = 'ppo_may31_23' # The YML network config folder for the main jobs\n",
    "#     # BR_CONFIG = 'ppo_may31_23' \n",
    "#     N_SEEDS = 3 # Number of seeds of each experiment to launch\n",
    "#     extra_name = ''\n",
    "#     overrides = f'--overwrite_db True --br_portfolio_path {BR_CONFIG} --eval_every 999_000_000 --eval_zero false --total_timesteps 5_000_000 --dispatch_br false --br_overrides \"--total_timesteps 1_000_000\"'        \n",
    "#     dispatch.dispatch_experiments(CONFIG, base_job_name='jun14ent_3', game_name=config['game'], overrides=overrides, n_seeds=N_SEEDS, extra_name=extra_name)"
   ]
  },
  {
   "cell_type": "code",
   "execution_count": 10,
   "id": "0e80d410-986b-42a1-9d49-1035ef103a0a",
   "metadata": {},
   "outputs": [],
   "source": [
    "def check_queue():\n",
    "    !ssh borg.cs.ubc.ca '/opt/slurm/bin/squeue -u newmanne --format=\"%.18i %.90j %.2t .%.10M %.6D %R\"'\n"
   ]
  },
  {
   "cell_type": "code",
   "execution_count": 19,
   "id": "3e5c26b7-d158-4ece-a72a-c3b2fd47a56f",
   "metadata": {
    "tags": []
   },
   "outputs": [
    {
     "name": "stdout",
     "output_type": "stream",
     "text": [
      "             JOBID                                                                                       NAME ST .      TIME  NODES NODELIST(REASON)\n",
      "           1019561                  jun19_jun19_3_undersell_allowed-cfr_outcomemccfr_outcome-100_jun19outcome  R .      0:07      1 ada01\n",
      "           1019560                        jun19_jun19_2_no_activity-cfr_outcomemccfr_outcome-100_jun19outcome  R .      0:10      1 ada01\n",
      "           1019502                                                                                    jupyter  R .  14:56:25      1 ada21\n"
     ]
    }
   ],
   "source": [
    "check_queue()"
   ]
  },
  {
   "cell_type": "code",
   "execution_count": null,
   "id": "a8ee533f-357a-4bbc-956e-1cf136ef9266",
   "metadata": {},
   "outputs": [],
   "source": [
    "!squeue | wc -l"
   ]
  },
  {
   "cell_type": "code",
   "execution_count": null,
   "id": "a8b665af-771f-44c1-8065-4928e1e5ac91",
   "metadata": {},
   "outputs": [],
   "source": [
    "!squeue | grep \"may30\" | wc -l"
   ]
  },
  {
   "cell_type": "code",
   "execution_count": null,
   "id": "c26b508d-9ee0-4878-9aa1-68c611ab651a",
   "metadata": {},
   "outputs": [],
   "source": [
    "!scancel -u ubuntu"
   ]
  },
  {
   "cell_type": "code",
   "execution_count": null,
   "id": "aee5cc7e-228c-4484-bb31-efb870f59efa",
   "metadata": {},
   "outputs": [],
   "source": [
    "# !scancel  46891 46893"
   ]
  },
  {
   "cell_type": "code",
   "execution_count": null,
   "id": "3aeeeeb6-6c6f-4e37-9566-3eb8d73d97d5",
   "metadata": {},
   "outputs": [],
   "source": [
    "!rm -rf /shared/outputs/minitest/\n",
    "try:\n",
    "    Experiment.objects.get(name='minitest').delete()\n",
    "except:\n",
    "    pass\n",
    "dispatch.dispatch_experiments('feb2', base_job_name='minitest', game_name='tiny', overrides = '--br_portfolio_path feb2 --eval_every 500 --num_training_episodes 1_000 --br_overrides \"--num_training_episodes 1_000\" --eval_overrides \"--num_samples 100\"')"
   ]
  },
  {
   "cell_type": "code",
   "execution_count": null,
   "id": "d4ca4c72-ce03-4d1a-8e9d-1abd642e8407",
   "metadata": {},
   "outputs": [],
   "source": [
    "BestResponse.objects.last()"
   ]
  },
  {
   "cell_type": "code",
   "execution_count": null,
   "id": "da1b3451-a927-4467-a90d-077f2de61767",
   "metadata": {},
   "outputs": [],
   "source": [
    "Experiment.objects.all()"
   ]
  },
  {
   "cell_type": "code",
   "execution_count": null,
   "id": "0547418d-7d14-404e-ad7f-892180cd6e50",
   "metadata": {},
   "outputs": [],
   "source": [
    "!sacct --starttime 2022-03-11 --format=User,JobID,Jobname,partition,state,time,start,end,elapsed,MaxRss,MaxVMSize,nnodes,ncpus,nodelist"
   ]
  },
  {
   "cell_type": "code",
   "execution_count": null,
   "id": "2fc59f9d-3861-481c-bcd2-68c25e19267a",
   "metadata": {},
   "outputs": [],
   "source": [
    "Evaluation.objects.last()"
   ]
  },
  {
   "cell_type": "code",
   "execution_count": null,
   "id": "eda9b8b7-ea2f-41b0-a527-4460fb8249fc",
   "metadata": {},
   "outputs": [],
   "source": [
    "os.system(\"ssh borg.cs.ubc.ca '/opt/slurm/bin/sbatch'\")"
   ]
  },
  {
   "cell_type": "code",
   "execution_count": null,
   "id": "b70ae116-1e70-4d32-8405-b479041c18b5",
   "metadata": {},
   "outputs": [],
   "source": []
  }
 ],
 "metadata": {
  "kernelspec": {
   "display_name": "Django Shell-Plus",
   "language": "python",
   "name": "django_extensions"
  },
  "language_info": {
   "codemirror_mode": {
    "name": "ipython",
    "version": 3
   },
   "file_extension": ".py",
   "mimetype": "text/x-python",
   "name": "python",
   "nbconvert_exporter": "python",
   "pygments_lexer": "ipython3",
   "version": "3.8.2"
  }
 },
 "nbformat": 4,
 "nbformat_minor": 5
}
