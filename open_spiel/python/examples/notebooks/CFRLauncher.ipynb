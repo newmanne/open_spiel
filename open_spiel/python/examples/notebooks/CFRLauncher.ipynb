{
 "cells": [
  {
   "cell_type": "code",
   "execution_count": 41,
   "id": "e6f6eef1-52e3-4ff5-af4b-2d5b933ad90b",
   "metadata": {},
   "outputs": [
    {
     "name": "stdout",
     "output_type": "stream",
     "text": [
      "%pylab is deprecated, use %matplotlib inline and import the required libraries.\n",
      "Populating the interactive namespace from numpy and matplotlib\n"
     ]
    }
   ],
   "source": [
    "%load_ext autoreload\n",
    "%autoreload 2\n",
    "%pylab inline"
   ]
  },
  {
   "cell_type": "code",
   "execution_count": 42,
   "id": "53d1f915-16a6-42e9-b93a-3f44564ef069",
   "metadata": {},
   "outputs": [],
   "source": [
    "import sys\n",
    "import glob\n",
    "import pandas as pd\n",
    "import os\n",
    "import seaborn as sns\n",
    "from tqdm import tqdm_notebook as tqdm\n",
    "from statsmodels.distributions.empirical_distribution import ECDF\n",
    "from collections import defaultdict\n",
    "import open_spiel.python.examples.ubc_dispatch as dispatch\n",
    "import os\n",
    "os.environ[\"DJANGO_ALLOW_ASYNC_UNSAFE\"] = \"true\"\n",
    "from sklearn.model_selection import ParameterGrid\n",
    "from pathlib import Path\n",
    "import torch.nn.functional as F\n",
    "import torch"
   ]
  },
  {
   "cell_type": "code",
   "execution_count": 43,
   "id": "a963cf68-f084-47bc-86bf-23882e77f392",
   "metadata": {},
   "outputs": [],
   "source": [
    "game_dir = os.environ[\"CLOCK_AUCTION_CONFIG_DIR\"]"
   ]
  },
  {
   "cell_type": "code",
   "execution_count": 44,
   "id": "48036c62-68f7-4580-82c3-0da36da9c6b4",
   "metadata": {},
   "outputs": [
    {
     "data": {
      "text/plain": [
       "['jun24/jun24_0_base',\n",
       " 'jun24/jun24_3_medium_speed',\n",
       " 'jun24/jun24_1_undersell_allowed',\n",
       " 'jun24/jun24_1_medium_speed',\n",
       " 'jun24/jun24_1_base',\n",
       " 'jun24/jun24_4_base',\n",
       " 'jun24/jun24_3_undersell_allowed',\n",
       " 'jun24/jun24_1_no_activity',\n",
       " 'jun24/jun24_2_high_speed',\n",
       " 'jun24/jun24_4_no_activity',\n",
       " 'jun24/jun24_4_medium_speed',\n",
       " 'jun24/jun24_0_medium_speed',\n",
       " 'jun24/jun24_3_base',\n",
       " 'jun24/jun24_2_base',\n",
       " 'jun24/jun24_3_no_activity',\n",
       " 'jun24/jun24_2_medium_speed',\n",
       " 'jun24/jun24_0_no_activity',\n",
       " 'jun24/jun24_0_high_speed',\n",
       " 'jun24/jun24_1_high_speed',\n",
       " 'jun24/jun24_4_high_speed',\n",
       " 'jun24/jun24_4_undersell_allowed',\n",
       " 'jun24/jun24_2_undersell_allowed',\n",
       " 'jun24/jun24_2_no_activity',\n",
       " 'jun24/jun24_3_high_speed',\n",
       " 'jun24/jun24_0_undersell_allowed']"
      ]
     },
     "execution_count": 44,
     "metadata": {},
     "output_type": "execute_result"
    }
   ],
   "source": [
    "PREFIX = 'jun24'\n",
    "sats_games = [f'{PREFIX}/' + os.path.basename(x).replace('.json','') for x in glob.glob(f'{game_dir}/{PREFIX}/*')]\n",
    "sats_games"
   ]
  },
  {
   "cell_type": "markdown",
   "id": "01e19a7a-7d0c-4d03-963f-2265e950bf0b",
   "metadata": {},
   "source": [
    "# For running the real dumb test case"
   ]
  },
  {
   "cell_type": "code",
   "execution_count": 45,
   "id": "ff77dd62-1983-4468-9c31-fd042294ca5c",
   "metadata": {},
   "outputs": [
    {
     "name": "stdout",
     "output_type": "stream",
     "text": [
      "25\n"
     ]
    }
   ],
   "source": [
    "pgrid = ParameterGrid([\n",
    "    {\n",
    "        # Defaults\n",
    "        'game': [g for g in sats_games]# if 'hide' not in g and 'imperfect' not in g]\n",
    "    },\n",
    "])\n",
    "print(len(pgrid))"
   ]
  },
  {
   "cell_type": "code",
   "execution_count": 12,
   "id": "670efe1e-8e7e-4cef-b04d-78fc7a4cbce6",
   "metadata": {},
   "outputs": [
    {
     "name": "stdout",
     "output_type": "stream",
     "text": [
      "Submitted batch job 86951\n",
      "Submitted batch job 86952\n",
      "Submitted batch job 86953\n",
      "Submitted batch job 86954\n",
      "Submitted batch job 86955\n",
      "Submitted batch job 86956\n",
      "Submitted batch job 86957\n",
      "Submitted batch job 86958\n",
      "Submitted batch job 86959\n",
      "Submitted batch job 86960\n",
      "Submitted batch job 86961\n",
      "Submitted batch job 86962\n",
      "Submitted batch job 86963\n",
      "Submitted batch job 86964\n",
      "Submitted batch job 86965\n",
      "Submitted batch job 86966\n",
      "Submitted batch job 86967\n",
      "Submitted batch job 86968\n",
      "Submitted batch job 86969\n",
      "Submitted batch job 86970\n",
      "Submitted batch job 86971\n",
      "Submitted batch job 86972\n",
      "Submitted batch job 86973\n",
      "Submitted batch job 86974\n",
      "Submitted batch job 86975\n"
     ]
    }
   ],
   "source": [
    "num_iters = 10_000_000\n",
    "time_limit_seconds = 3600 * 4\n",
    "for config in pgrid:\n",
    "    CONFIG = 'cfr_external' # The YML network config folder for the main jobs\n",
    "    N_SEEDS = 3 # Number of seeds of each experiment to launch\n",
    "    extra_name = ''\n",
    "    overrides = f'--overwrite_db True --eval_every 250_000 --eval_zero false --total_timesteps {num_iters} --dispatch_br false --report_freq 5000 --time_limit_seconds {time_limit_seconds}'      \n",
    "    dispatch.dispatch_experiments(CONFIG, base_job_name='jun23external', game_name=config['game'], overrides=overrides, n_seeds=N_SEEDS, extra_name=extra_name, alg='cfr')"
   ]
  },
  {
   "cell_type": "code",
   "execution_count": 46,
   "id": "457a17e0-3467-49e7-a1fc-ef7b061e49ff",
   "metadata": {},
   "outputs": [
    {
     "name": "stdout",
     "output_type": "stream",
     "text": [
      "Submitted batch job 86976\n",
      "Submitted batch job 86977\n",
      "Submitted batch job 86978\n",
      "Submitted batch job 86979\n",
      "Submitted batch job 86980\n",
      "Submitted batch job 86981\n",
      "Submitted batch job 86982\n",
      "Submitted batch job 86983\n",
      "Submitted batch job 86984\n",
      "Submitted batch job 86985\n",
      "Submitted batch job 86986\n",
      "Submitted batch job 86987\n",
      "Submitted batch job 86988\n",
      "Submitted batch job 86989\n",
      "Submitted batch job 86990\n",
      "Submitted batch job 86991\n",
      "Submitted batch job 86992\n",
      "Submitted batch job 86993\n",
      "Submitted batch job 86994\n",
      "Submitted batch job 86995\n",
      "Submitted batch job 86996\n",
      "Submitted batch job 86997\n",
      "Submitted batch job 86998\n",
      "Submitted batch job 86999\n",
      "Submitted batch job 87000\n",
      "Submitted batch job 87001\n",
      "Submitted batch job 87002\n",
      "Submitted batch job 87003\n",
      "Submitted batch job 87004\n",
      "Submitted batch job 87005\n",
      "Submitted batch job 87006\n",
      "Submitted batch job 87007\n",
      "Submitted batch job 87008\n",
      "Submitted batch job 87009\n",
      "Submitted batch job 87010\n",
      "Submitted batch job 87011\n",
      "Submitted batch job 87012\n",
      "Submitted batch job 87013\n",
      "Submitted batch job 87014\n",
      "Submitted batch job 87015\n",
      "Submitted batch job 87016\n",
      "Submitted batch job 87017\n",
      "Submitted batch job 87018\n",
      "Submitted batch job 87019\n",
      "Submitted batch job 87020\n",
      "Submitted batch job 87021\n",
      "Submitted batch job 87022\n",
      "Submitted batch job 87023\n",
      "Submitted batch job 87024\n",
      "Submitted batch job 87025\n",
      "Submitted batch job 87026\n",
      "Submitted batch job 87027\n",
      "Submitted batch job 87028\n",
      "Submitted batch job 87029\n",
      "Submitted batch job 87030\n",
      "Submitted batch job 87031\n",
      "Submitted batch job 87032\n",
      "Submitted batch job 87033\n",
      "Submitted batch job 87034\n",
      "Submitted batch job 87035\n",
      "Submitted batch job 87036\n",
      "Submitted batch job 87037\n",
      "Submitted batch job 87038\n",
      "Submitted batch job 87039\n",
      "Submitted batch job 87040\n",
      "Submitted batch job 87041\n",
      "Submitted batch job 87042\n",
      "Submitted batch job 87043\n",
      "Submitted batch job 87044\n",
      "Submitted batch job 87045\n",
      "Submitted batch job 87046\n",
      "Submitted batch job 87047\n",
      "Submitted batch job 87048\n",
      "Submitted batch job 87049\n",
      "Submitted batch job 87050\n"
     ]
    }
   ],
   "source": [
    "num_iters = 30_000_000\n",
    "time_limit_seconds = 3600 * 4\n",
    "for config in pgrid:\n",
    "    CONFIG = 'cfr_outcome' # The YML network config folder for the main jobs\n",
    "    N_SEEDS = 3 # Number of seeds of each experiment to launch\n",
    "    extra_name = ''\n",
    "    overrides = f'--overwrite_db True --eval_every 5_000_000 --eval_zero false --total_timesteps {num_iters} --dispatch_br false --report_freq 5000'      \n",
    "    dispatch.dispatch_experiments(CONFIG, base_job_name='jun23outcome', game_name=config['game'], overrides=overrides, n_seeds=N_SEEDS, extra_name=extra_name, alg='cfr')"
   ]
  },
  {
   "cell_type": "code",
   "execution_count": null,
   "id": "534e93c4-35cb-4af5-8140-6ca5bb9d859b",
   "metadata": {},
   "outputs": [],
   "source": [
    "# for config in pgrid:\n",
    "#     CONFIG = 'ppo_no_ent_jun14'\n",
    "#     # CONFIG = 'ppo_may31_23' # The YML network config folder for the main jobs\n",
    "#     # BR_CONFIG = 'ppo_may31_23' \n",
    "#     N_SEEDS = 3 # Number of seeds of each experiment to launch\n",
    "#     extra_name = ''\n",
    "#     overrides = f'--overwrite_db True --br_portfolio_path {BR_CONFIG} --eval_every 999_000_000 --eval_zero false --total_timesteps 5_000_000 --dispatch_br false --br_overrides \"--total_timesteps 1_000_000\"'        \n",
    "#     dispatch.dispatch_experiments(CONFIG, base_job_name='jun14ent_3', game_name=config['game'], overrides=overrides, n_seeds=N_SEEDS, extra_name=extra_name)"
   ]
  },
  {
   "cell_type": "code",
   "execution_count": 40,
   "id": "4a6067d6-ea75-47a7-aec8-265ce62ad4aa",
   "metadata": {},
   "outputs": [
    {
     "name": "stdout",
     "output_type": "stream",
     "text": [
      "             JOBID                                                                                       NAME ST .      TIME  NODES NODELIST(REASON)\n"
     ]
    }
   ],
   "source": [
    "!squeue --format=\"%.18i %.90j %.2t .%.10M %.6D %R\""
   ]
  },
  {
   "cell_type": "code",
   "execution_count": null,
   "id": "0e80d410-986b-42a1-9d49-1035ef103a0a",
   "metadata": {},
   "outputs": [],
   "source": [
    "def check_queue():\n",
    "    !ssh borg.cs.ubc.ca '/opt/slurm/bin/squeue -u newmanne --format=\"%.18i %.90j %.2t .%.10M %.6D %R\"'\n"
   ]
  },
  {
   "cell_type": "code",
   "execution_count": 4,
   "id": "d259264e-30e0-4a72-b9dd-5655ad371f6f",
   "metadata": {},
   "outputs": [
    {
     "name": "stdout",
     "output_type": "stream",
     "text": [
      "             JOBID                                                                                       NAME ST .      TIME  NODES NODELIST(REASON)\n"
     ]
    }
   ],
   "source": [
    "!squeue --format \"%.18i %.90j %.2t .%.10M %.6D %R\""
   ]
  },
  {
   "cell_type": "code",
   "execution_count": null,
   "id": "3e5c26b7-d158-4ece-a72a-c3b2fd47a56f",
   "metadata": {
    "tags": []
   },
   "outputs": [],
   "source": [
    "check_queue()"
   ]
  },
  {
   "cell_type": "code",
   "execution_count": 37,
   "id": "a8ee533f-357a-4bbc-956e-1cf136ef9266",
   "metadata": {},
   "outputs": [
    {
     "name": "stdout",
     "output_type": "stream",
     "text": [
      "101\n"
     ]
    }
   ],
   "source": [
    "!squeue | wc -l"
   ]
  },
  {
   "cell_type": "code",
   "execution_count": null,
   "id": "a8b665af-771f-44c1-8065-4928e1e5ac91",
   "metadata": {},
   "outputs": [],
   "source": [
    "!squeue | grep \"may30\" | wc -l"
   ]
  },
  {
   "cell_type": "code",
   "execution_count": 39,
   "id": "c26b508d-9ee0-4878-9aa1-68c611ab651a",
   "metadata": {},
   "outputs": [],
   "source": [
    "!scancel -u ubuntu"
   ]
  },
  {
   "cell_type": "code",
   "execution_count": null,
   "id": "aee5cc7e-228c-4484-bb31-efb870f59efa",
   "metadata": {},
   "outputs": [],
   "source": [
    "# !scancel  46891 46893"
   ]
  },
  {
   "cell_type": "code",
   "execution_count": null,
   "id": "3aeeeeb6-6c6f-4e37-9566-3eb8d73d97d5",
   "metadata": {},
   "outputs": [],
   "source": [
    "!rm -rf /shared/outputs/minitest/\n",
    "try:\n",
    "    Experiment.objects.get(name='minitest').delete()\n",
    "except:\n",
    "    pass\n",
    "dispatch.dispatch_experiments('feb2', base_job_name='minitest', game_name='tiny', overrides = '--br_portfolio_path feb2 --eval_every 500 --num_training_episodes 1_000 --br_overrides \"--num_training_episodes 1_000\" --eval_overrides \"--num_samples 100\"')"
   ]
  },
  {
   "cell_type": "code",
   "execution_count": null,
   "id": "d4ca4c72-ce03-4d1a-8e9d-1abd642e8407",
   "metadata": {},
   "outputs": [],
   "source": [
    "BestResponse.objects.last()"
   ]
  },
  {
   "cell_type": "code",
   "execution_count": null,
   "id": "da1b3451-a927-4467-a90d-077f2de61767",
   "metadata": {},
   "outputs": [],
   "source": [
    "Experiment.objects.all()"
   ]
  },
  {
   "cell_type": "code",
   "execution_count": null,
   "id": "0547418d-7d14-404e-ad7f-892180cd6e50",
   "metadata": {},
   "outputs": [],
   "source": [
    "!sacct --starttime 2022-03-11 --format=User,JobID,Jobname,partition,state,time,start,end,elapsed,MaxRss,MaxVMSize,nnodes,ncpus,nodelist"
   ]
  },
  {
   "cell_type": "code",
   "execution_count": null,
   "id": "2fc59f9d-3861-481c-bcd2-68c25e19267a",
   "metadata": {},
   "outputs": [],
   "source": [
    "Evaluation.objects.last()"
   ]
  },
  {
   "cell_type": "code",
   "execution_count": null,
   "id": "eda9b8b7-ea2f-41b0-a527-4460fb8249fc",
   "metadata": {},
   "outputs": [],
   "source": [
    "os.system(\"ssh borg.cs.ubc.ca '/opt/slurm/bin/sbatch'\")"
   ]
  },
  {
   "cell_type": "code",
   "execution_count": null,
   "id": "b70ae116-1e70-4d32-8405-b479041c18b5",
   "metadata": {},
   "outputs": [],
   "source": []
  }
 ],
 "metadata": {
  "kernelspec": {
   "display_name": "Django Shell-Plus",
   "language": "python",
   "name": "django_extensions"
  },
  "language_info": {
   "codemirror_mode": {
    "name": "ipython",
    "version": 3
   },
   "file_extension": ".py",
   "mimetype": "text/x-python",
   "name": "python",
   "nbconvert_exporter": "python",
   "pygments_lexer": "ipython3",
   "version": "3.8.2"
  }
 },
 "nbformat": 4,
 "nbformat_minor": 5
}
