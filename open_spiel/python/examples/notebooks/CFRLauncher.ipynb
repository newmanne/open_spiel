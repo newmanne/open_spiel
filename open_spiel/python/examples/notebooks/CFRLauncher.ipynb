{
 "cells": [
  {
   "cell_type": "code",
   "execution_count": 238,
   "id": "e6f6eef1-52e3-4ff5-af4b-2d5b933ad90b",
   "metadata": {},
   "outputs": [
    {
     "name": "stderr",
     "output_type": "stream",
     "text": [
      "[autoreload of open_spiel.python.games.clock_auction_base failed: Traceback (most recent call last):\n",
      "  File \"/home/ubuntu/.pyenv/versions/3.8.2/envs/venv/lib/python3.8/site-packages/IPython/extensions/autoreload.py\", line 257, in check\n",
      "    superreload(m, reload, self.old_objects)\n",
      "  File \"/home/ubuntu/.pyenv/versions/3.8.2/envs/venv/lib/python3.8/site-packages/IPython/extensions/autoreload.py\", line 480, in superreload\n",
      "    update_generic(old_obj, new_obj)\n",
      "  File \"/home/ubuntu/.pyenv/versions/3.8.2/envs/venv/lib/python3.8/site-packages/IPython/extensions/autoreload.py\", line 377, in update_generic\n",
      "    update(a, b)\n",
      "  File \"/home/ubuntu/.pyenv/versions/3.8.2/envs/venv/lib/python3.8/site-packages/IPython/extensions/autoreload.py\", line 329, in update_class\n",
      "    if update_generic(old_obj, new_obj):\n",
      "  File \"/home/ubuntu/.pyenv/versions/3.8.2/envs/venv/lib/python3.8/site-packages/IPython/extensions/autoreload.py\", line 377, in update_generic\n",
      "    update(a, b)\n",
      "  File \"/home/ubuntu/.pyenv/versions/3.8.2/envs/venv/lib/python3.8/site-packages/IPython/extensions/autoreload.py\", line 289, in update_function\n",
      "    setattr(old, name, getattr(new, name))\n",
      "ValueError: __init__() requires a code object with 3 free vars, not 4\n",
      "]\n"
     ]
    },
    {
     "name": "stdout",
     "output_type": "stream",
     "text": [
      "The autoreload extension is already loaded. To reload it, use:\n",
      "  %reload_ext autoreload\n",
      "%pylab is deprecated, use %matplotlib inline and import the required libraries.\n",
      "Populating the interactive namespace from numpy and matplotlib\n"
     ]
    }
   ],
   "source": [
    "%load_ext autoreload\n",
    "%autoreload 2\n",
    "%pylab inline"
   ]
  },
  {
   "cell_type": "code",
   "execution_count": 239,
   "id": "53d1f915-16a6-42e9-b93a-3f44564ef069",
   "metadata": {},
   "outputs": [],
   "source": [
    "import sys\n",
    "import glob\n",
    "import pandas as pd\n",
    "import os\n",
    "import seaborn as sns\n",
    "from tqdm import tqdm_notebook as tqdm\n",
    "from statsmodels.distributions.empirical_distribution import ECDF\n",
    "from collections import defaultdict\n",
    "import open_spiel.python.examples.ubc_dispatch as dispatch\n",
    "import os\n",
    "os.environ[\"DJANGO_ALLOW_ASYNC_UNSAFE\"] = \"true\"\n",
    "from sklearn.model_selection import ParameterGrid\n",
    "from pathlib import Path\n",
    "import torch.nn.functional as F\n",
    "import torch\n",
    "import pickle\n"
   ]
  },
  {
   "cell_type": "code",
   "execution_count": 240,
   "id": "a963cf68-f084-47bc-86bf-23882e77f392",
   "metadata": {},
   "outputs": [],
   "source": [
    "game_dir = os.environ[\"CLOCK_AUCTION_CONFIG_DIR\"]"
   ]
  },
  {
   "cell_type": "code",
   "execution_count": 305,
   "id": "48036c62-68f7-4580-82c3-0da36da9c6b4",
   "metadata": {},
   "outputs": [],
   "source": [
    "PREFIX = 'jun26'\n",
    "sats_games = [f'{PREFIX}/' + os.path.basename(x).replace('.json','') for x in glob.glob(f'{game_dir}/{PREFIX}/*')]\n",
    "# sats_games = [s for s in sats_games if 'hide' not in s and 'no_activity' not in s and 'undersell' not in s and 'speed' not in s and 'spite' not in s]\n",
    "# sats_games = [s for s in sats_games if ('base' in s or 'grace' in s or 'activity' in s or 'speed' in s) and 'spite' not in s and 'risk' not in s]\n",
    "sats_games = [s for s in sats_games if ('base' in s or 'speed' in s) and 'spite' not in s and 'risk' not in s]"
   ]
  },
  {
   "cell_type": "markdown",
   "id": "01e19a7a-7d0c-4d03-963f-2265e950bf0b",
   "metadata": {},
   "source": [
    "# For running the real dumb test case"
   ]
  },
  {
   "cell_type": "code",
   "execution_count": 306,
   "id": "ff77dd62-1983-4468-9c31-fd042294ca5c",
   "metadata": {},
   "outputs": [
    {
     "name": "stdout",
     "output_type": "stream",
     "text": [
      "15\n"
     ]
    }
   ],
   "source": [
    "pgrid = ParameterGrid([\n",
    "    {\n",
    "        # Defaults\n",
    "        'game': [g for g in sats_games]# if 'hide' not in g and 'imperfect' not in g]\n",
    "    },\n",
    "])\n",
    "print(len(pgrid))"
   ]
  },
  {
   "cell_type": "code",
   "execution_count": 303,
   "id": "ef682f8a-a882-4937-8b86-21a03ee10607",
   "metadata": {},
   "outputs": [],
   "source": [
    "# num_iters = 999_000_000\n",
    "# time_limit_seconds = int(3600 * 0.5)\n",
    "# for config in pgrid:\n",
    "#     CONFIG = 'cfr_init_2' # The YML network config folder for the main jobs\n",
    "#     N_SEEDS = 1 # Number of seeds of each experiment to launch\n",
    "#     extra_name = ''\n",
    "#     overrides = f'--overwrite_db True --eval_every 999_999_000 --eval_zero false --total_timesteps {num_iters} --dispatch_br false --report_freq 5000 --time_limit_seconds {time_limit_seconds}'      \n",
    "#     dispatch.dispatch_experiments(CONFIG, base_job_name='jun24_cfr_gamut_7', game_name=config['game'], overrides=overrides, n_seeds=N_SEEDS, extra_name=extra_name, alg='cfr')"
   ]
  },
  {
   "cell_type": "code",
   "execution_count": 307,
   "id": "57ec9e6b-aeae-48e2-94e6-43d066a0db1a",
   "metadata": {},
   "outputs": [
    {
     "name": "stdout",
     "output_type": "stream",
     "text": [
      "Submitted batch job 91078\n",
      "Submitted batch job 91079\n",
      "Submitted batch job 91080\n",
      "Submitted batch job 91081\n",
      "Submitted batch job 91082\n",
      "Submitted batch job 91083\n",
      "Submitted batch job 91084\n",
      "Submitted batch job 91085\n",
      "Submitted batch job 91086\n",
      "Submitted batch job 91087\n",
      "Submitted batch job 91088\n",
      "Submitted batch job 91089\n",
      "Submitted batch job 91090\n",
      "Submitted batch job 91091\n",
      "Submitted batch job 91092\n",
      "Submitted batch job 91093\n",
      "Submitted batch job 91094\n",
      "Submitted batch job 91095\n",
      "Submitted batch job 91096\n",
      "Submitted batch job 91097\n",
      "Submitted batch job 91098\n",
      "Submitted batch job 91099\n",
      "Submitted batch job 91100\n",
      "Submitted batch job 91101\n",
      "Submitted batch job 91102\n",
      "Submitted batch job 91103\n",
      "Submitted batch job 91104\n",
      "Submitted batch job 91105\n",
      "Submitted batch job 91106\n",
      "Submitted batch job 91107\n",
      "Submitted batch job 91108\n",
      "Submitted batch job 91109\n",
      "Submitted batch job 91110\n",
      "Submitted batch job 91111\n",
      "Submitted batch job 91112\n",
      "Submitted batch job 91113\n",
      "Submitted batch job 91114\n",
      "Submitted batch job 91115\n",
      "Submitted batch job 91116\n",
      "Submitted batch job 91117\n",
      "Submitted batch job 91118\n",
      "Submitted batch job 91119\n",
      "Submitted batch job 91120\n",
      "Submitted batch job 91121\n",
      "Submitted batch job 91122\n"
     ]
    }
   ],
   "source": [
    "num_iters = 999_000_000\n",
    "time_limit_seconds = int(3600 * 12)\n",
    "for config in pgrid:\n",
    "    CONFIG = 'cfr_ext' # The YML network config folder for the main jobs\n",
    "    N_SEEDS = 3 # Number of seeds of each experiment to launch\n",
    "    extra_name = ''\n",
    "    overrides = f'--overwrite_db True --eval_every 999_999_999 --eval_every_seconds 9000 --eval_zero false --total_timesteps {num_iters} --dispatch_br false --report_freq 5000 --time_limit_seconds {time_limit_seconds}'      \n",
    "    dispatch.dispatch_experiments(CONFIG, base_job_name='jun28_3percent', game_name=config['game'], overrides=overrides, n_seeds=N_SEEDS, extra_name=extra_name, alg='cfr')"
   ]
  },
  {
   "cell_type": "code",
   "execution_count": null,
   "id": "670efe1e-8e7e-4cef-b04d-78fc7a4cbce6",
   "metadata": {},
   "outputs": [],
   "source": [
    "# num_iters = 10_000_000\n",
    "# time_limit_seconds = 3600 * 4\n",
    "# for config in pgrid:\n",
    "#     CONFIG = 'cfr_external' # The YML network config folder for the main jobs\n",
    "#     N_SEEDS = 3 # Number of seeds of each experiment to launch\n",
    "#     extra_name = ''\n",
    "#     overrides = f'--overwrite_db True --eval_every 250_000 --eval_zero false --total_timesteps {num_iters} --dispatch_br false --report_freq 5000 --time_limit_seconds {time_limit_seconds}'      \n",
    "#     dispatch.dispatch_experiments(CONFIG, base_job_name='jun23external', game_name=config['game'], overrides=overrides, n_seeds=N_SEEDS, extra_name=extra_name, alg='cfr')"
   ]
  },
  {
   "cell_type": "code",
   "execution_count": null,
   "id": "457a17e0-3467-49e7-a1fc-ef7b061e49ff",
   "metadata": {},
   "outputs": [],
   "source": [
    "# num_iters = 30_000_000\n",
    "# time_limit_seconds = 3600 * 4\n",
    "# for config in pgrid:\n",
    "#     CONFIG = 'cfr_outcome' # The YML network config folder for the main jobs\n",
    "#     N_SEEDS = 3 # Number of seeds of each experiment to launch\n",
    "#     extra_name = ''\n",
    "#     overrides = f'--overwrite_db True --eval_every 999_000_000 --eval_zero false --total_timesteps {num_iters} --dispatch_br false --report_freq 5000 --time_limit_seconds {time_limit_seconds}'      \n",
    "#     dispatch.dispatch_experiments(CONFIG, base_job_name='jun23outcome_2', game_name=config['game'], overrides=overrides, n_seeds=N_SEEDS, extra_name=extra_name, alg='cfr')"
   ]
  },
  {
   "cell_type": "code",
   "execution_count": null,
   "id": "534e93c4-35cb-4af5-8140-6ca5bb9d859b",
   "metadata": {},
   "outputs": [],
   "source": [
    "# for config in pgrid:\n",
    "#     CONFIG = 'ppo_no_ent_jun14'\n",
    "#     # CONFIG = 'ppo_may31_23' # The YML network config folder for the main jobs\n",
    "#     # BR_CONFIG = 'ppo_may31_23' \n",
    "#     N_SEEDS = 3 # Number of seeds of each experiment to launch\n",
    "#     extra_name = ''\n",
    "#     overrides = f'--overwrite_db True --br_portfolio_path {BR_CONFIG} --eval_every 999_000_000 --eval_zero false --total_timesteps 5_000_000 --dispatch_br false --br_overrides \"--total_timesteps 1_000_000\"'        \n",
    "#     dispatch.dispatch_experiments(CONFIG, base_job_name='jun14ent_3', game_name=config['game'], overrides=overrides, n_seeds=N_SEEDS, extra_name=extra_name)"
   ]
  },
  {
   "cell_type": "code",
   "execution_count": 308,
   "id": "4a6067d6-ea75-47a7-aec8-265ce62ad4aa",
   "metadata": {},
   "outputs": [
    {
     "name": "stdout",
     "output_type": "stream",
     "text": [
      "             JOBID                                                                                       NAME ST .      TIME NODES NODELIST(REASON)\n",
      "             90928         jun26_jun26_4_no_activity-cfr_port_2_no_extoutcome_lin_avg_plus-100_jun28_3percent  R .      5:16     1 ip-10-255-1-245\n",
      "             90929         jun26_jun26_4_no_activity-cfr_port_2_no_extoutcome_lin_avg_plus-101_jun28_3percent  R .      5:16     1 ip-10-255-1-245\n",
      "             90930         jun26_jun26_4_no_activity-cfr_port_2_no_extoutcome_lin_avg_plus-102_jun28_3percent  R .      2:27     1 ip-10-255-1-246\n",
      "             90931              jun26_jun26_4_no_activity-cfr_port_2_no_extoutcome_lin_avg-100_jun28_3percent  R .      2:27     1 ip-10-255-1-246\n",
      "             90932              jun26_jun26_4_no_activity-cfr_port_2_no_extoutcome_lin_avg-101_jun28_3percent  R .      2:27     1 ip-10-255-1-254\n",
      "             90933              jun26_jun26_4_no_activity-cfr_port_2_no_extoutcome_lin_avg-102_jun28_3percent  R .      2:27     1 ip-10-255-1-254\n",
      "             90934        jun26_jun26_0_grace_period-cfr_port_2_no_extoutcome_lin_avg_plus-100_jun28_3percent  R .      2:27     1 ip-10-255-1-135\n",
      "             90935        jun26_jun26_0_grace_period-cfr_port_2_no_extoutcome_lin_avg_plus-101_jun28_3percent  R .      2:27     1 ip-10-255-1-135\n",
      "             90936        jun26_jun26_0_grace_period-cfr_port_2_no_extoutcome_lin_avg_plus-102_jun28_3percent  R .      2:27     1 ip-10-255-1-140\n",
      "             90937             jun26_jun26_0_grace_period-cfr_port_2_no_extoutcome_lin_avg-100_jun28_3percent  R .      2:27     1 ip-10-255-1-140\n",
      "             90938             jun26_jun26_0_grace_period-cfr_port_2_no_extoutcome_lin_avg-101_jun28_3percent  R .      2:27     1 ip-10-255-1-146\n",
      "             90939             jun26_jun26_0_grace_period-cfr_port_2_no_extoutcome_lin_avg-102_jun28_3percent  R .      2:27     1 ip-10-255-1-146\n",
      "             90940        jun26_jun26_2_grace_period-cfr_port_2_no_extoutcome_lin_avg_plus-100_jun28_3percent  R .      2:27     1 ip-10-255-1-153\n",
      "             90941        jun26_jun26_2_grace_period-cfr_port_2_no_extoutcome_lin_avg_plus-101_jun28_3percent  R .      2:27     1 ip-10-255-1-153\n",
      "             90942        jun26_jun26_2_grace_period-cfr_port_2_no_extoutcome_lin_avg_plus-102_jun28_3percent  R .      2:27     1 ip-10-255-1-154\n",
      "             90943             jun26_jun26_2_grace_period-cfr_port_2_no_extoutcome_lin_avg-100_jun28_3percent  R .      2:27     1 ip-10-255-1-154\n",
      "             90944             jun26_jun26_2_grace_period-cfr_port_2_no_extoutcome_lin_avg-101_jun28_3percent  R .      2:27     1 ip-10-255-1-164\n",
      "             90945             jun26_jun26_2_grace_period-cfr_port_2_no_extoutcome_lin_avg-102_jun28_3percent  R .      2:27     1 ip-10-255-1-164\n",
      "             90946          jun26_jun26_0_high_speed-cfr_port_2_no_extoutcome_lin_avg_plus-100_jun28_3percent  R .      2:27     1 ip-10-255-1-171\n",
      "             90947          jun26_jun26_0_high_speed-cfr_port_2_no_extoutcome_lin_avg_plus-101_jun28_3percent  R .      2:27     1 ip-10-255-1-171\n",
      "             90948          jun26_jun26_0_high_speed-cfr_port_2_no_extoutcome_lin_avg_plus-102_jun28_3percent  R .      2:27     1 ip-10-255-1-175\n",
      "             90949               jun26_jun26_0_high_speed-cfr_port_2_no_extoutcome_lin_avg-100_jun28_3percent  R .      2:27     1 ip-10-255-1-175\n",
      "             90950               jun26_jun26_0_high_speed-cfr_port_2_no_extoutcome_lin_avg-101_jun28_3percent  R .      2:27     1 ip-10-255-1-176\n",
      "             90951               jun26_jun26_0_high_speed-cfr_port_2_no_extoutcome_lin_avg-102_jun28_3percent  R .      2:27     1 ip-10-255-1-176\n",
      "             90952         jun26_jun26_3_no_activity-cfr_port_2_no_extoutcome_lin_avg_plus-100_jun28_3percent  R .      2:27     1 ip-10-255-1-179\n",
      "             90953         jun26_jun26_3_no_activity-cfr_port_2_no_extoutcome_lin_avg_plus-101_jun28_3percent  R .      2:27     1 ip-10-255-1-179\n",
      "             90954         jun26_jun26_3_no_activity-cfr_port_2_no_extoutcome_lin_avg_plus-102_jun28_3percent  R .      2:27     1 ip-10-255-1-182\n",
      "             90955              jun26_jun26_3_no_activity-cfr_port_2_no_extoutcome_lin_avg-100_jun28_3percent  R .      2:27     1 ip-10-255-1-182\n",
      "             90956              jun26_jun26_3_no_activity-cfr_port_2_no_extoutcome_lin_avg-101_jun28_3percent  R .      2:27     1 ip-10-255-1-183\n",
      "             90957              jun26_jun26_3_no_activity-cfr_port_2_no_extoutcome_lin_avg-102_jun28_3percent  R .      2:27     1 ip-10-255-1-183\n",
      "             90958                jun26_jun26_4_base-cfr_port_2_no_extoutcome_lin_avg_plus-100_jun28_3percent  R .      2:27     1 ip-10-255-1-185\n",
      "             90959                jun26_jun26_4_base-cfr_port_2_no_extoutcome_lin_avg_plus-101_jun28_3percent  R .      2:27     1 ip-10-255-1-185\n",
      "             90960                jun26_jun26_4_base-cfr_port_2_no_extoutcome_lin_avg_plus-102_jun28_3percent  R .      2:27     1 ip-10-255-1-189\n",
      "             90961                     jun26_jun26_4_base-cfr_port_2_no_extoutcome_lin_avg-100_jun28_3percent  R .      2:27     1 ip-10-255-1-189\n",
      "             90962                     jun26_jun26_4_base-cfr_port_2_no_extoutcome_lin_avg-101_jun28_3percent  R .      2:27     1 ip-10-255-1-203\n",
      "             90963                     jun26_jun26_4_base-cfr_port_2_no_extoutcome_lin_avg-102_jun28_3percent  R .      2:27     1 ip-10-255-1-203\n",
      "             90964                jun26_jun26_3_base-cfr_port_2_no_extoutcome_lin_avg_plus-100_jun28_3percent  R .      2:27     1 ip-10-255-1-204\n",
      "             90965                jun26_jun26_3_base-cfr_port_2_no_extoutcome_lin_avg_plus-101_jun28_3percent  R .      2:27     1 ip-10-255-1-204\n",
      "             90966                jun26_jun26_3_base-cfr_port_2_no_extoutcome_lin_avg_plus-102_jun28_3percent  R .      2:27     1 ip-10-255-1-213\n",
      "             90967                     jun26_jun26_3_base-cfr_port_2_no_extoutcome_lin_avg-100_jun28_3percent  R .      2:27     1 ip-10-255-1-213\n",
      "             90968                     jun26_jun26_3_base-cfr_port_2_no_extoutcome_lin_avg-101_jun28_3percent  R .      2:27     1 ip-10-255-1-222\n",
      "             90969                     jun26_jun26_3_base-cfr_port_2_no_extoutcome_lin_avg-102_jun28_3percent  R .      2:27     1 ip-10-255-1-222\n",
      "             90970          jun26_jun26_4_high_speed-cfr_port_2_no_extoutcome_lin_avg_plus-100_jun28_3percent  R .      2:27     1 ip-10-255-1-224\n",
      "             90971          jun26_jun26_4_high_speed-cfr_port_2_no_extoutcome_lin_avg_plus-101_jun28_3percent  R .      2:27     1 ip-10-255-1-224\n",
      "             90972          jun26_jun26_4_high_speed-cfr_port_2_no_extoutcome_lin_avg_plus-102_jun28_3percent  R .      2:27     1 ip-10-255-1-231\n",
      "             90973               jun26_jun26_4_high_speed-cfr_port_2_no_extoutcome_lin_avg-100_jun28_3percent  R .      2:27     1 ip-10-255-1-231\n",
      "             90974               jun26_jun26_4_high_speed-cfr_port_2_no_extoutcome_lin_avg-101_jun28_3percent  R .      2:27     1 ip-10-255-1-234\n",
      "             90975               jun26_jun26_4_high_speed-cfr_port_2_no_extoutcome_lin_avg-102_jun28_3percent  R .      2:27     1 ip-10-255-1-234\n",
      "             90976         jun26_jun26_2_no_activity-cfr_port_2_no_extoutcome_lin_avg_plus-100_jun28_3percent  R .      2:27     1 ip-10-255-1-244\n",
      "             90977         jun26_jun26_2_no_activity-cfr_port_2_no_extoutcome_lin_avg_plus-101_jun28_3percent  R .      2:27     1 ip-10-255-1-244\n",
      "             90978         jun26_jun26_2_no_activity-cfr_port_2_no_extoutcome_lin_avg_plus-102_jun28_3percent  R .      1:52     1 ip-10-255-1-142\n",
      "             90979              jun26_jun26_2_no_activity-cfr_port_2_no_extoutcome_lin_avg-100_jun28_3percent  R .      1:52     1 ip-10-255-1-142\n",
      "             90980              jun26_jun26_2_no_activity-cfr_port_2_no_extoutcome_lin_avg-101_jun28_3percent  R .      1:52     1 ip-10-255-1-147\n",
      "             90981              jun26_jun26_2_no_activity-cfr_port_2_no_extoutcome_lin_avg-102_jun28_3percent  R .      1:52     1 ip-10-255-1-147\n",
      "             90982        jun26_jun26_2_medium_speed-cfr_port_2_no_extoutcome_lin_avg_plus-100_jun28_3percent  R .      1:52     1 ip-10-255-1-151\n",
      "             90983        jun26_jun26_2_medium_speed-cfr_port_2_no_extoutcome_lin_avg_plus-101_jun28_3percent  R .      1:52     1 ip-10-255-1-151\n",
      "             90984        jun26_jun26_2_medium_speed-cfr_port_2_no_extoutcome_lin_avg_plus-102_jun28_3percent  R .      1:52     1 ip-10-255-1-184\n",
      "             90985             jun26_jun26_2_medium_speed-cfr_port_2_no_extoutcome_lin_avg-100_jun28_3percent  R .      1:52     1 ip-10-255-1-184\n",
      "             90986             jun26_jun26_2_medium_speed-cfr_port_2_no_extoutcome_lin_avg-101_jun28_3percent  R .      1:52     1 ip-10-255-1-188\n",
      "             90987             jun26_jun26_2_medium_speed-cfr_port_2_no_extoutcome_lin_avg-102_jun28_3percent  R .      1:52     1 ip-10-255-1-188\n",
      "             90988        jun26_jun26_0_medium_speed-cfr_port_2_no_extoutcome_lin_avg_plus-100_jun28_3percent  R .      1:52     1 ip-10-255-1-202\n",
      "             90989        jun26_jun26_0_medium_speed-cfr_port_2_no_extoutcome_lin_avg_plus-101_jun28_3percent  R .      1:52     1 ip-10-255-1-202\n",
      "             90990        jun26_jun26_0_medium_speed-cfr_port_2_no_extoutcome_lin_avg_plus-102_jun28_3percent  R .      1:52     1 ip-10-255-1-216\n",
      "             90991             jun26_jun26_0_medium_speed-cfr_port_2_no_extoutcome_lin_avg-100_jun28_3percent  R .      1:52     1 ip-10-255-1-216\n",
      "             90992             jun26_jun26_0_medium_speed-cfr_port_2_no_extoutcome_lin_avg-101_jun28_3percent  R .      1:52     1 ip-10-255-1-223\n",
      "             90993             jun26_jun26_0_medium_speed-cfr_port_2_no_extoutcome_lin_avg-102_jun28_3percent  R .      1:52     1 ip-10-255-1-223\n",
      "             90994        jun26_jun26_4_grace_period-cfr_port_2_no_extoutcome_lin_avg_plus-100_jun28_3percent  R .      1:52     1 ip-10-255-1-233\n",
      "             90995        jun26_jun26_4_grace_period-cfr_port_2_no_extoutcome_lin_avg_plus-101_jun28_3percent  R .      1:52     1 ip-10-255-1-233\n",
      "             90996        jun26_jun26_4_grace_period-cfr_port_2_no_extoutcome_lin_avg_plus-102_jun28_3percent  R .      1:52     1 ip-10-255-1-238\n",
      "             90997             jun26_jun26_4_grace_period-cfr_port_2_no_extoutcome_lin_avg-100_jun28_3percent  R .      1:52     1 ip-10-255-1-238\n",
      "             90998             jun26_jun26_4_grace_period-cfr_port_2_no_extoutcome_lin_avg-101_jun28_3percent  R .      1:52     1 ip-10-255-1-166\n",
      "             90999             jun26_jun26_4_grace_period-cfr_port_2_no_extoutcome_lin_avg-102_jun28_3percent  R .      1:52     1 ip-10-255-1-166\n",
      "             91000          jun26_jun26_3_high_speed-cfr_port_2_no_extoutcome_lin_avg_plus-100_jun28_3percent  R .      1:52     1 ip-10-255-1-170\n",
      "             91001          jun26_jun26_3_high_speed-cfr_port_2_no_extoutcome_lin_avg_plus-101_jun28_3percent  R .      1:52     1 ip-10-255-1-170\n",
      "             91002          jun26_jun26_3_high_speed-cfr_port_2_no_extoutcome_lin_avg_plus-102_jun28_3percent  R .      1:52     1 ip-10-255-1-177\n",
      "             91003               jun26_jun26_3_high_speed-cfr_port_2_no_extoutcome_lin_avg-100_jun28_3percent  R .      1:52     1 ip-10-255-1-177\n",
      "             91004               jun26_jun26_3_high_speed-cfr_port_2_no_extoutcome_lin_avg-101_jun28_3percent  R .      1:52     1 ip-10-255-1-178\n",
      "             91005               jun26_jun26_3_high_speed-cfr_port_2_no_extoutcome_lin_avg-102_jun28_3percent  R .      1:52     1 ip-10-255-1-178\n",
      "             91006          jun26_jun26_2_high_speed-cfr_port_2_no_extoutcome_lin_avg_plus-100_jun28_3percent  R .      1:52     1 ip-10-255-1-180\n",
      "             91007          jun26_jun26_2_high_speed-cfr_port_2_no_extoutcome_lin_avg_plus-101_jun28_3percent  R .      1:52     1 ip-10-255-1-180\n",
      "             91008          jun26_jun26_2_high_speed-cfr_port_2_no_extoutcome_lin_avg_plus-102_jun28_3percent  R .      1:52     1 ip-10-255-1-181\n",
      "             91009               jun26_jun26_2_high_speed-cfr_port_2_no_extoutcome_lin_avg-100_jun28_3percent  R .      1:52     1 ip-10-255-1-181\n",
      "             91010               jun26_jun26_2_high_speed-cfr_port_2_no_extoutcome_lin_avg-101_jun28_3percent  R .      1:52     1 ip-10-255-1-226\n",
      "             91011               jun26_jun26_2_high_speed-cfr_port_2_no_extoutcome_lin_avg-102_jun28_3percent  R .      1:52     1 ip-10-255-1-226\n",
      "             91012        jun26_jun26_3_grace_period-cfr_port_2_no_extoutcome_lin_avg_plus-100_jun28_3percent  R .      1:52     1 ip-10-255-1-227\n",
      "             91013        jun26_jun26_3_grace_period-cfr_port_2_no_extoutcome_lin_avg_plus-101_jun28_3percent  R .      1:52     1 ip-10-255-1-227\n",
      "             91014        jun26_jun26_3_grace_period-cfr_port_2_no_extoutcome_lin_avg_plus-102_jun28_3percent  R .      1:52     1 ip-10-255-1-241\n",
      "             91015             jun26_jun26_3_grace_period-cfr_port_2_no_extoutcome_lin_avg-100_jun28_3percent  R .      1:52     1 ip-10-255-1-241\n",
      "             91016             jun26_jun26_3_grace_period-cfr_port_2_no_extoutcome_lin_avg-101_jun28_3percent  R .      1:52     1 ip-10-255-1-242\n",
      "             91017             jun26_jun26_3_grace_period-cfr_port_2_no_extoutcome_lin_avg-102_jun28_3percent  R .      1:52     1 ip-10-255-1-242\n",
      "             91018        jun26_jun26_4_medium_speed-cfr_port_2_no_extoutcome_lin_avg_plus-100_jun28_3percent  R .      1:52     1 ip-10-255-1-159\n",
      "             91019        jun26_jun26_4_medium_speed-cfr_port_2_no_extoutcome_lin_avg_plus-101_jun28_3percent  R .      1:52     1 ip-10-255-1-159\n",
      "             91020        jun26_jun26_4_medium_speed-cfr_port_2_no_extoutcome_lin_avg_plus-102_jun28_3percent  R .      1:52     1 ip-10-255-1-160\n",
      "             91021             jun26_jun26_4_medium_speed-cfr_port_2_no_extoutcome_lin_avg-100_jun28_3percent  R .      1:52     1 ip-10-255-1-160\n",
      "             91022             jun26_jun26_4_medium_speed-cfr_port_2_no_extoutcome_lin_avg-101_jun28_3percent  R .      1:52     1 ip-10-255-1-161\n",
      "             91023             jun26_jun26_4_medium_speed-cfr_port_2_no_extoutcome_lin_avg-102_jun28_3percent  R .      1:52     1 ip-10-255-1-161\n",
      "             91024                jun26_jun26_1_base-cfr_port_2_no_extoutcome_lin_avg_plus-100_jun28_3percent  R .      1:52     1 ip-10-255-1-249\n",
      "             91025                jun26_jun26_1_base-cfr_port_2_no_extoutcome_lin_avg_plus-101_jun28_3percent  R .      1:52     1 ip-10-255-1-249\n",
      "             91026                jun26_jun26_1_base-cfr_port_2_no_extoutcome_lin_avg_plus-102_jun28_3percent  R .      1:52     1 ip-10-255-1-250\n",
      "             91027                     jun26_jun26_1_base-cfr_port_2_no_extoutcome_lin_avg-100_jun28_3percent  R .      1:52     1 ip-10-255-1-250\n",
      "             91028                     jun26_jun26_1_base-cfr_port_2_no_extoutcome_lin_avg-101_jun28_3percent  R .      1:52     1 ip-10-255-1-253\n",
      "             91029                     jun26_jun26_1_base-cfr_port_2_no_extoutcome_lin_avg-102_jun28_3percent  R .      1:52     1 ip-10-255-1-253\n",
      "             91030        jun26_jun26_1_medium_speed-cfr_port_2_no_extoutcome_lin_avg_plus-100_jun28_3percent  R .      1:52     1 ip-10-255-1-193\n",
      "             91031        jun26_jun26_1_medium_speed-cfr_port_2_no_extoutcome_lin_avg_plus-101_jun28_3percent  R .      1:52     1 ip-10-255-1-193\n",
      "             91032        jun26_jun26_1_medium_speed-cfr_port_2_no_extoutcome_lin_avg_plus-102_jun28_3percent  R .      1:52     1 ip-10-255-1-194\n",
      "             91033             jun26_jun26_1_medium_speed-cfr_port_2_no_extoutcome_lin_avg-100_jun28_3percent  R .      1:52     1 ip-10-255-1-194\n",
      "             91034             jun26_jun26_1_medium_speed-cfr_port_2_no_extoutcome_lin_avg-101_jun28_3percent  R .      1:52     1 ip-10-255-1-196\n",
      "             91035             jun26_jun26_1_medium_speed-cfr_port_2_no_extoutcome_lin_avg-102_jun28_3percent  R .      1:52     1 ip-10-255-1-196\n",
      "             91036         jun26_jun26_0_no_activity-cfr_port_2_no_extoutcome_lin_avg_plus-100_jun28_3percent  R .      1:52     1 ip-10-255-1-198\n",
      "             91037         jun26_jun26_0_no_activity-cfr_port_2_no_extoutcome_lin_avg_plus-101_jun28_3percent  R .      1:52     1 ip-10-255-1-198\n",
      "             91038         jun26_jun26_0_no_activity-cfr_port_2_no_extoutcome_lin_avg_plus-102_jun28_3percent  R .      1:49     1 ip-10-255-1-144\n",
      "             91039              jun26_jun26_0_no_activity-cfr_port_2_no_extoutcome_lin_avg-100_jun28_3percent  R .      1:49     1 ip-10-255-1-144\n",
      "             91040              jun26_jun26_0_no_activity-cfr_port_2_no_extoutcome_lin_avg-101_jun28_3percent  R .      1:49     1 ip-10-255-1-148\n",
      "             91041              jun26_jun26_0_no_activity-cfr_port_2_no_extoutcome_lin_avg-102_jun28_3percent  R .      1:49     1 ip-10-255-1-148\n",
      "             91042                jun26_jun26_0_base-cfr_port_2_no_extoutcome_lin_avg_plus-100_jun28_3percent  R .      1:49     1 ip-10-255-1-165\n",
      "             91043                jun26_jun26_0_base-cfr_port_2_no_extoutcome_lin_avg_plus-101_jun28_3percent  R .      1:49     1 ip-10-255-1-165\n",
      "             91044                jun26_jun26_0_base-cfr_port_2_no_extoutcome_lin_avg_plus-102_jun28_3percent  R .      1:49     1 ip-10-255-1-192\n",
      "             91045                     jun26_jun26_0_base-cfr_port_2_no_extoutcome_lin_avg-100_jun28_3percent  R .      1:49     1 ip-10-255-1-192\n",
      "             91046                     jun26_jun26_0_base-cfr_port_2_no_extoutcome_lin_avg-101_jun28_3percent  R .      1:49     1 ip-10-255-1-214\n",
      "             91047                     jun26_jun26_0_base-cfr_port_2_no_extoutcome_lin_avg-102_jun28_3percent  R .      1:49     1 ip-10-255-1-214\n",
      "             91048        jun26_jun26_1_grace_period-cfr_port_2_no_extoutcome_lin_avg_plus-100_jun28_3percent  R .      1:49     1 ip-10-255-1-225\n",
      "             91049        jun26_jun26_1_grace_period-cfr_port_2_no_extoutcome_lin_avg_plus-101_jun28_3percent  R .      1:49     1 ip-10-255-1-225\n",
      "             91050        jun26_jun26_1_grace_period-cfr_port_2_no_extoutcome_lin_avg_plus-102_jun28_3percent  R .      1:49     1 ip-10-255-1-230\n",
      "             91051             jun26_jun26_1_grace_period-cfr_port_2_no_extoutcome_lin_avg-100_jun28_3percent  R .      1:49     1 ip-10-255-1-230\n",
      "             91052             jun26_jun26_1_grace_period-cfr_port_2_no_extoutcome_lin_avg-101_jun28_3percent  R .      1:49     1 ip-10-255-1-232\n",
      "             91053             jun26_jun26_1_grace_period-cfr_port_2_no_extoutcome_lin_avg-102_jun28_3percent  R .      1:49     1 ip-10-255-1-232\n",
      "             91054        jun26_jun26_3_medium_speed-cfr_port_2_no_extoutcome_lin_avg_plus-100_jun28_3percent  R .      1:49     1 ip-10-255-1-239\n",
      "             91055        jun26_jun26_3_medium_speed-cfr_port_2_no_extoutcome_lin_avg_plus-101_jun28_3percent  R .      1:49     1 ip-10-255-1-239\n",
      "             91056        jun26_jun26_3_medium_speed-cfr_port_2_no_extoutcome_lin_avg_plus-102_jun28_3percent  R .      1:49     1 ip-10-255-1-247\n",
      "             91057             jun26_jun26_3_medium_speed-cfr_port_2_no_extoutcome_lin_avg-100_jun28_3percent  R .      1:49     1 ip-10-255-1-247\n",
      "             91058             jun26_jun26_3_medium_speed-cfr_port_2_no_extoutcome_lin_avg-101_jun28_3percent  R .      1:49     1 ip-10-255-1-137\n",
      "             91059             jun26_jun26_3_medium_speed-cfr_port_2_no_extoutcome_lin_avg-102_jun28_3percent  R .      1:49     1 ip-10-255-1-137\n",
      "             91060          jun26_jun26_1_high_speed-cfr_port_2_no_extoutcome_lin_avg_plus-100_jun28_3percent  R .      1:49     1 ip-10-255-1-138\n",
      "             91061          jun26_jun26_1_high_speed-cfr_port_2_no_extoutcome_lin_avg_plus-101_jun28_3percent  R .      1:49     1 ip-10-255-1-138\n",
      "             91062          jun26_jun26_1_high_speed-cfr_port_2_no_extoutcome_lin_avg_plus-102_jun28_3percent  R .      1:49     1 ip-10-255-1-173\n",
      "             91063               jun26_jun26_1_high_speed-cfr_port_2_no_extoutcome_lin_avg-100_jun28_3percent  R .      1:49     1 ip-10-255-1-173\n",
      "             91064               jun26_jun26_1_high_speed-cfr_port_2_no_extoutcome_lin_avg-101_jun28_3percent  R .      1:49     1 ip-10-255-1-174\n",
      "             91065               jun26_jun26_1_high_speed-cfr_port_2_no_extoutcome_lin_avg-102_jun28_3percent  R .      1:49     1 ip-10-255-1-174\n",
      "             91066                jun26_jun26_2_base-cfr_port_2_no_extoutcome_lin_avg_plus-100_jun28_3percent  R .      1:49     1 ip-10-255-1-186\n",
      "             91067                jun26_jun26_2_base-cfr_port_2_no_extoutcome_lin_avg_plus-101_jun28_3percent  R .      1:49     1 ip-10-255-1-186\n",
      "             91068                jun26_jun26_2_base-cfr_port_2_no_extoutcome_lin_avg_plus-102_jun28_3percent  R .      1:49     1 ip-10-255-1-187\n",
      "             91069                     jun26_jun26_2_base-cfr_port_2_no_extoutcome_lin_avg-100_jun28_3percent  R .      1:49     1 ip-10-255-1-187\n",
      "             91070                     jun26_jun26_2_base-cfr_port_2_no_extoutcome_lin_avg-101_jun28_3percent  R .      1:49     1 ip-10-255-1-199\n",
      "             91071                     jun26_jun26_2_base-cfr_port_2_no_extoutcome_lin_avg-102_jun28_3percent  R .      1:49     1 ip-10-255-1-199\n",
      "             91072         jun26_jun26_1_no_activity-cfr_port_2_no_extoutcome_lin_avg_plus-100_jun28_3percent  R .      1:49     1 ip-10-255-1-200\n",
      "             91073         jun26_jun26_1_no_activity-cfr_port_2_no_extoutcome_lin_avg_plus-101_jun28_3percent  R .      1:49     1 ip-10-255-1-200\n",
      "             91074         jun26_jun26_1_no_activity-cfr_port_2_no_extoutcome_lin_avg_plus-102_jun28_3percent  R .      1:49     1 ip-10-255-1-217\n",
      "             91075              jun26_jun26_1_no_activity-cfr_port_2_no_extoutcome_lin_avg-100_jun28_3percent  R .      1:49     1 ip-10-255-1-217\n",
      "             91076              jun26_jun26_1_no_activity-cfr_port_2_no_extoutcome_lin_avg-101_jun28_3percent  R .      1:49     1 ip-10-255-1-219\n",
      "             91077              jun26_jun26_1_no_activity-cfr_port_2_no_extoutcome_lin_avg-102_jun28_3percent  R .      1:49     1 ip-10-255-1-219\n",
      "             91078                           jun26_jun26_0_high_speed-cfr_extexternal_plus-100_jun28_3percent  R .      1:49     1 ip-10-255-1-235\n",
      "             91079                           jun26_jun26_0_high_speed-cfr_extexternal_plus-101_jun28_3percent  R .      1:49     1 ip-10-255-1-235\n",
      "             91080                           jun26_jun26_0_high_speed-cfr_extexternal_plus-102_jun28_3percent  R .      1:49     1 ip-10-255-1-236\n",
      "             91081                                 jun26_jun26_4_base-cfr_extexternal_plus-100_jun28_3percent  R .      1:49     1 ip-10-255-1-236\n",
      "             91082                                 jun26_jun26_4_base-cfr_extexternal_plus-101_jun28_3percent  R .      1:49     1 ip-10-255-1-132\n",
      "             91083                                 jun26_jun26_4_base-cfr_extexternal_plus-102_jun28_3percent  R .      1:49     1 ip-10-255-1-132\n",
      "             91084                                 jun26_jun26_3_base-cfr_extexternal_plus-100_jun28_3percent  R .      1:49     1 ip-10-255-1-133\n",
      "             91085                                 jun26_jun26_3_base-cfr_extexternal_plus-101_jun28_3percent  R .      1:49     1 ip-10-255-1-133\n",
      "             91086                                 jun26_jun26_3_base-cfr_extexternal_plus-102_jun28_3percent  R .      1:49     1 ip-10-255-1-134\n",
      "             91087                           jun26_jun26_4_high_speed-cfr_extexternal_plus-100_jun28_3percent  R .      1:49     1 ip-10-255-1-134\n",
      "             91088                           jun26_jun26_4_high_speed-cfr_extexternal_plus-101_jun28_3percent  R .      1:49     1 ip-10-255-1-205\n",
      "             91089                           jun26_jun26_4_high_speed-cfr_extexternal_plus-102_jun28_3percent  R .      1:49     1 ip-10-255-1-205\n",
      "             91090                         jun26_jun26_2_medium_speed-cfr_extexternal_plus-100_jun28_3percent  R .      1:49     1 ip-10-255-1-208\n",
      "             91091                         jun26_jun26_2_medium_speed-cfr_extexternal_plus-101_jun28_3percent  R .      1:49     1 ip-10-255-1-208\n",
      "             91092                         jun26_jun26_2_medium_speed-cfr_extexternal_plus-102_jun28_3percent  R .      1:49     1 ip-10-255-1-209\n",
      "             91093                         jun26_jun26_0_medium_speed-cfr_extexternal_plus-100_jun28_3percent  R .      1:49     1 ip-10-255-1-209\n",
      "             91094                         jun26_jun26_0_medium_speed-cfr_extexternal_plus-101_jun28_3percent  R .      1:49     1 ip-10-255-1-210\n",
      "             91095                         jun26_jun26_0_medium_speed-cfr_extexternal_plus-102_jun28_3percent  R .      1:49     1 ip-10-255-1-210\n",
      "             91096                           jun26_jun26_3_high_speed-cfr_extexternal_plus-100_jun28_3percent  R .      1:27     1 ip-10-255-1-143\n",
      "             91097                           jun26_jun26_3_high_speed-cfr_extexternal_plus-101_jun28_3percent  R .      1:27     1 ip-10-255-1-143\n",
      "             91098                           jun26_jun26_3_high_speed-cfr_extexternal_plus-102_jun28_3percent  R .      1:27     1 ip-10-255-1-149\n",
      "             91099                           jun26_jun26_2_high_speed-cfr_extexternal_plus-100_jun28_3percent  R .      1:27     1 ip-10-255-1-149\n",
      "             91100                           jun26_jun26_2_high_speed-cfr_extexternal_plus-101_jun28_3percent  R .      1:27     1 ip-10-255-1-163\n",
      "             91101                           jun26_jun26_2_high_speed-cfr_extexternal_plus-102_jun28_3percent  R .      1:27     1 ip-10-255-1-163\n",
      "             91102                         jun26_jun26_4_medium_speed-cfr_extexternal_plus-100_jun28_3percent  R .      1:27     1 ip-10-255-1-167\n",
      "             91103                         jun26_jun26_4_medium_speed-cfr_extexternal_plus-101_jun28_3percent  R .      1:27     1 ip-10-255-1-167\n",
      "             91104                         jun26_jun26_4_medium_speed-cfr_extexternal_plus-102_jun28_3percent  R .      1:27     1 ip-10-255-1-172\n",
      "             91105                                 jun26_jun26_1_base-cfr_extexternal_plus-100_jun28_3percent  R .      1:27     1 ip-10-255-1-172\n",
      "             91106                                 jun26_jun26_1_base-cfr_extexternal_plus-101_jun28_3percent  R .      1:27     1 ip-10-255-1-191\n",
      "             91107                                 jun26_jun26_1_base-cfr_extexternal_plus-102_jun28_3percent  R .      1:27     1 ip-10-255-1-191\n",
      "             91108                         jun26_jun26_1_medium_speed-cfr_extexternal_plus-100_jun28_3percent  R .      1:27     1 ip-10-255-1-206\n",
      "             91109                         jun26_jun26_1_medium_speed-cfr_extexternal_plus-101_jun28_3percent  R .      1:27     1 ip-10-255-1-206\n",
      "             91110                         jun26_jun26_1_medium_speed-cfr_extexternal_plus-102_jun28_3percent  R .      1:27     1 ip-10-255-1-220\n",
      "             91111                                 jun26_jun26_0_base-cfr_extexternal_plus-100_jun28_3percent  R .      1:27     1 ip-10-255-1-220\n",
      "             91112                                 jun26_jun26_0_base-cfr_extexternal_plus-101_jun28_3percent  R .      1:27     1 ip-10-255-1-243\n",
      "             91113                                 jun26_jun26_0_base-cfr_extexternal_plus-102_jun28_3percent  R .      1:27     1 ip-10-255-1-243\n",
      "             91114                         jun26_jun26_3_medium_speed-cfr_extexternal_plus-100_jun28_3percent  R .      1:27     1 ip-10-255-1-248\n",
      "             91115                         jun26_jun26_3_medium_speed-cfr_extexternal_plus-101_jun28_3percent  R .      1:27     1 ip-10-255-1-248\n",
      "             91116                         jun26_jun26_3_medium_speed-cfr_extexternal_plus-102_jun28_3percent  R .      1:27     1 ip-10-255-1-155\n",
      "             91117                           jun26_jun26_1_high_speed-cfr_extexternal_plus-100_jun28_3percent  R .      1:27     1 ip-10-255-1-155\n",
      "             91118                           jun26_jun26_1_high_speed-cfr_extexternal_plus-101_jun28_3percent  R .      1:27     1 ip-10-255-1-156\n",
      "             91119                           jun26_jun26_1_high_speed-cfr_extexternal_plus-102_jun28_3percent  R .      1:27     1 ip-10-255-1-156\n",
      "             91120                                 jun26_jun26_2_base-cfr_extexternal_plus-100_jun28_3percent  R .      1:27     1 ip-10-255-1-251\n",
      "             91121                                 jun26_jun26_2_base-cfr_extexternal_plus-101_jun28_3percent  R .      1:27     1 ip-10-255-1-251\n",
      "             91122                                 jun26_jun26_2_base-cfr_extexternal_plus-102_jun28_3percent  R .      1:27     1 ip-10-255-1-252\n"
     ]
    }
   ],
   "source": [
    "!squeue --format=\"%.18i %.90j %.2t .%.10M%.6D %R\""
   ]
  },
  {
   "cell_type": "code",
   "execution_count": 63,
   "id": "0e80d410-986b-42a1-9d49-1035ef103a0a",
   "metadata": {},
   "outputs": [],
   "source": [
    "def check_queue():\n",
    "    !ssh borg.cs.ubc.ca '/opt/slurm/bin/squeue -u newmanne --format=\"%.18i %.90j %.2t .%.10M %.6D %R\"'\n"
   ]
  },
  {
   "cell_type": "code",
   "execution_count": 116,
   "id": "3e5c26b7-d158-4ece-a72a-c3b2fd47a56f",
   "metadata": {
    "tags": []
   },
   "outputs": [
    {
     "name": "stdout",
     "output_type": "stream",
     "text": [
      "^C\n"
     ]
    }
   ],
   "source": [
    "check_queue()"
   ]
  },
  {
   "cell_type": "code",
   "execution_count": 293,
   "id": "a8ee533f-357a-4bbc-956e-1cf136ef9266",
   "metadata": {},
   "outputs": [
    {
     "name": "stdout",
     "output_type": "stream",
     "text": [
      "2\n"
     ]
    }
   ],
   "source": [
    "!squeue | wc -l"
   ]
  },
  {
   "cell_type": "code",
   "execution_count": null,
   "id": "a8b665af-771f-44c1-8065-4928e1e5ac91",
   "metadata": {},
   "outputs": [],
   "source": [
    "!squeue | grep \"may30\" | wc -l"
   ]
  },
  {
   "cell_type": "code",
   "execution_count": 186,
   "id": "c26b508d-9ee0-4878-9aa1-68c611ab651a",
   "metadata": {},
   "outputs": [],
   "source": [
    "!scancel -u ubuntu"
   ]
  },
  {
   "cell_type": "code",
   "execution_count": 187,
   "id": "aee5cc7e-228c-4484-bb31-efb870f59efa",
   "metadata": {},
   "outputs": [],
   "source": [
    "# !scancel  46891 46893"
   ]
  },
  {
   "cell_type": "code",
   "execution_count": null,
   "id": "3aeeeeb6-6c6f-4e37-9566-3eb8d73d97d5",
   "metadata": {},
   "outputs": [],
   "source": [
    "!rm -rf /shared/outputs/minitest/\n",
    "try:\n",
    "    Experiment.objects.get(name='minitest').delete()\n",
    "except:\n",
    "    pass\n",
    "dispatch.dispatch_experiments('feb2', base_job_name='minitest', game_name='tiny', overrides = '--br_portfolio_path feb2 --eval_every 500 --num_training_episodes 1_000 --br_overrides \"--num_training_episodes 1_000\" --eval_overrides \"--num_samples 100\"')"
   ]
  },
  {
   "cell_type": "code",
   "execution_count": null,
   "id": "d4ca4c72-ce03-4d1a-8e9d-1abd642e8407",
   "metadata": {},
   "outputs": [],
   "source": [
    "BestResponse.objects.last()"
   ]
  },
  {
   "cell_type": "code",
   "execution_count": null,
   "id": "da1b3451-a927-4467-a90d-077f2de61767",
   "metadata": {},
   "outputs": [],
   "source": [
    "Experiment.objects.all()"
   ]
  },
  {
   "cell_type": "code",
   "execution_count": null,
   "id": "0547418d-7d14-404e-ad7f-892180cd6e50",
   "metadata": {},
   "outputs": [],
   "source": [
    "!sacct --starttime 2022-03-11 --format=User,JobID,Jobname,partition,state,time,start,end,elapsed,MaxRss,MaxVMSize,nnodes,ncpus,nodelist"
   ]
  },
  {
   "cell_type": "code",
   "execution_count": null,
   "id": "2fc59f9d-3861-481c-bcd2-68c25e19267a",
   "metadata": {},
   "outputs": [],
   "source": [
    "Evaluation.objects.last()"
   ]
  },
  {
   "cell_type": "code",
   "execution_count": null,
   "id": "eda9b8b7-ea2f-41b0-a527-4460fb8249fc",
   "metadata": {},
   "outputs": [],
   "source": [
    "os.system(\"ssh borg.cs.ubc.ca '/opt/slurm/bin/sbatch'\")"
   ]
  },
  {
   "cell_type": "code",
   "execution_count": 79,
   "id": "b70ae116-1e70-4d32-8405-b479041c18b5",
   "metadata": {},
   "outputs": [],
   "source": [
    "!squeue --format=\"%.18i %.65j %.2t %.10M %.6D %R\" | grep \"eval\" | awk '{print $1}' | xargs scancel"
   ]
  },
  {
   "cell_type": "code",
   "execution_count": 22,
   "id": "d6b4808f-f9ca-4e51-8a92-4445dfb6f883",
   "metadata": {},
   "outputs": [],
   "source": [
    "from compress_pickle import dumps, loads\n"
   ]
  },
  {
   "cell_type": "code",
   "execution_count": 24,
   "id": "a9b6c536-b575-48e7-8bd9-8b28e9a9619a",
   "metadata": {},
   "outputs": [
    {
     "data": {
      "text/plain": [
       "\u001b[0;31mSignature:\u001b[0m\n",
       "\u001b[0mloads\u001b[0m\u001b[0;34m(\u001b[0m\u001b[0;34m\u001b[0m\n",
       "\u001b[0;34m\u001b[0m    \u001b[0mdata\u001b[0m\u001b[0;34m:\u001b[0m \u001b[0mbytes\u001b[0m\u001b[0;34m,\u001b[0m\u001b[0;34m\u001b[0m\n",
       "\u001b[0;34m\u001b[0m    \u001b[0mcompression\u001b[0m\u001b[0;34m:\u001b[0m \u001b[0mUnion\u001b[0m\u001b[0;34m[\u001b[0m\u001b[0mstr\u001b[0m\u001b[0;34m,\u001b[0m \u001b[0mNoneType\u001b[0m\u001b[0;34m]\u001b[0m\u001b[0;34m,\u001b[0m\u001b[0;34m\u001b[0m\n",
       "\u001b[0;34m\u001b[0m    \u001b[0mpickler_method\u001b[0m\u001b[0;34m:\u001b[0m \u001b[0mstr\u001b[0m \u001b[0;34m=\u001b[0m \u001b[0;34m'pickle'\u001b[0m\u001b[0;34m,\u001b[0m\u001b[0;34m\u001b[0m\n",
       "\u001b[0;34m\u001b[0m    \u001b[0mpickler_kwargs\u001b[0m\u001b[0;34m:\u001b[0m \u001b[0mUnion\u001b[0m\u001b[0;34m[\u001b[0m\u001b[0mDict\u001b[0m\u001b[0;34m[\u001b[0m\u001b[0mstr\u001b[0m\u001b[0;34m,\u001b[0m \u001b[0mAny\u001b[0m\u001b[0;34m]\u001b[0m\u001b[0;34m,\u001b[0m \u001b[0mNoneType\u001b[0m\u001b[0;34m]\u001b[0m \u001b[0;34m=\u001b[0m \u001b[0;32mNone\u001b[0m\u001b[0;34m,\u001b[0m\u001b[0;34m\u001b[0m\n",
       "\u001b[0;34m\u001b[0m    \u001b[0;34m**\u001b[0m\u001b[0mkwargs\u001b[0m\u001b[0;34m,\u001b[0m\u001b[0;34m\u001b[0m\n",
       "\u001b[0;34m\u001b[0m\u001b[0;34m)\u001b[0m \u001b[0;34m->\u001b[0m \u001b[0mAny\u001b[0m\u001b[0;34m\u001b[0m\u001b[0;34m\u001b[0m\u001b[0m\n",
       "\u001b[0;31mDocstring:\u001b[0m\n",
       "Load an object from its serialized binary representation.\n",
       "\n",
       "It is possible to specify a desired serialization method and a compression protocol to use.\n",
       "For example, if ``gzip`` compression is specified, the supplied binary data is uncompressed with\n",
       "gzip and then loaded using standard :func:`pickle.load`.\n",
       "\n",
       "Behind the scenes, this function only instantiates\n",
       ":class:`~compress_pickle.compressers.base.BaseCompresser` around a ``io.BinaryIO(data)`` stream\n",
       "and :class:`~compress_pickle.picklers.base.BasePicklerIO` instances depending on the supplied\n",
       "names, and then calls :func:`~compress_pickle.io.base.uncompress_and_unpickle` with them.\n",
       "\n",
       "Parameters\n",
       "----------\n",
       "data : bytes\n",
       "    The bytes that contain the compressed serialized binary representation of the object that\n",
       "    must be loaded.\n",
       "compression : Optional[str]\n",
       "    The compression protocol to use. By default, the compression is inferred from the path's\n",
       "    extension. This compression name passed to\n",
       "    :func:`~compress_pickle.compressers.registry.get_compresser` to create a\n",
       "    :class:`~compress_pickle.compressers.base.BaseCompresser` instance. This instance will be\n",
       "    used to open a file-like object from which to read the serialized binary representation\n",
       "    of ``obj``.\n",
       "    To see available compression protocols refer to\n",
       "    :func:`~compress_pickle.compressers.registry.get_known_compressions`.\n",
       "pickler_method : str\n",
       "    The name of the serialization method to use. This method name is passed to\n",
       "    :func:`~compress_pickle.picklers.registry.get_pickler` to create a\n",
       "    :class:`~compress_pickle.picklers.base.BasePicklerIO` instance. The default method is\n",
       "    ``\"pickle\"``, which means that a :class:`~compress_pickle.picklers.pickle.BuiltinPicklerIO`\n",
       "    will be created by default, and its\n",
       "    :meth:`~compress_pickle.picklers.pickle.BuiltinPicklerIO.load` will be used for\n",
       "    unserializing the ``obj``.\n",
       "    Refer to :func:`~compress_pickle.picklers.registry.get_known_picklers` to see the available\n",
       "    serialization methods.\n",
       "pickler_kwargs : Optional[Dict[str, Any]]\n",
       "    An optional dictionary of keyword arguments to pass to\n",
       "    :meth:`~compress_pickle.picklers.base.BasePicklerIO.load` when the ``obj`` is loaded. For\n",
       "    example, this could be ``{\"fix_imports\": True}`` when the default ``\"pickle\"``\n",
       "    serialization method is used.\n",
       "kwargs :\n",
       "    Any extra keyword arguments are passed to\n",
       "    :func:`compress_pickle.utils.instantiate_compresser`, which in turn creates the\n",
       "    compresser instance that will be used.\n",
       "\n",
       "Returns\n",
       "-------\n",
       "obj : Any\n",
       "    The object that is loaded from its compressed binary representation.\n",
       "\n",
       "Notes\n",
       "-----\n",
       "The ``compression`` argument is mandatory because it cannot be inferred.\n",
       "\u001b[0;31mFile:\u001b[0m      ~/.pyenv/versions/3.8.2/envs/venv/lib/python3.8/site-packages/compress_pickle/compress_pickle.py\n",
       "\u001b[0;31mType:\u001b[0m      function\n"
      ]
     },
     "metadata": {},
     "output_type": "display_data"
    }
   ],
   "source": [
    "loads?"
   ]
  },
  {
   "cell_type": "code",
   "execution_count": 26,
   "id": "27346459-d529-47b5-b84f-32511d1b809f",
   "metadata": {},
   "outputs": [],
   "source": [
    "from compress_pickle.compressers.registry import get_known_compressions"
   ]
  },
  {
   "cell_type": "code",
   "execution_count": 27,
   "id": "89557fb5-e0fb-471c-80f4-e7d8d4b76abb",
   "metadata": {},
   "outputs": [
    {
     "data": {
      "text/plain": [
       "['bz2', 'gzip', 'lz4', 'lzma', None, 'pickle', 'zipfile']"
      ]
     },
     "execution_count": 27,
     "metadata": {},
     "output_type": "execute_result"
    }
   ],
   "source": [
    "get_known_compressions()"
   ]
  },
  {
   "cell_type": "code",
   "execution_count": 30,
   "id": "2b42e2b0-3412-46ed-8a7f-7539bc84f752",
   "metadata": {},
   "outputs": [],
   "source": [
    "x = EquilibriumSolverRunCheckpoint.objects.last().policy"
   ]
  },
  {
   "cell_type": "code",
   "execution_count": 31,
   "id": "52401c72-bb34-41be-b7f0-a0c9479f60ff",
   "metadata": {},
   "outputs": [
    {
     "data": {
      "text/plain": [
       "246889008"
      ]
     },
     "execution_count": 31,
     "metadata": {},
     "output_type": "execute_result"
    }
   ],
   "source": [
    "len(x)"
   ]
  },
  {
   "cell_type": "code",
   "execution_count": 36,
   "id": "c19c4b6d-95b9-4730-9f52-66ef55bc2b2d",
   "metadata": {},
   "outputs": [
    {
     "data": {
      "text/plain": [
       "16491138"
      ]
     },
     "execution_count": 36,
     "metadata": {},
     "output_type": "execute_result"
    }
   ],
   "source": [
    "len(dumps(pickle.loads(x), compression='bz2'))"
   ]
  },
  {
   "cell_type": "code",
   "execution_count": 37,
   "id": "3b5590c1-0f89-4562-abdb-d9683160d40c",
   "metadata": {},
   "outputs": [
    {
     "data": {
      "text/plain": [
       "246889008"
      ]
     },
     "execution_count": 37,
     "metadata": {},
     "output_type": "execute_result"
    }
   ],
   "source": [
    "len(pickle.dumps(pickle.loads(x)))"
   ]
  },
  {
   "cell_type": "code",
   "execution_count": 39,
   "id": "0a3eae12-4643-46f1-a4ed-a72b4a18a44f",
   "metadata": {},
   "outputs": [
    {
     "data": {
      "text/plain": [
       "47143.19465947151"
      ]
     },
     "execution_count": 39,
     "metadata": {},
     "output_type": "execute_result"
    }
   ],
   "source": [
    "EquilibriumSolverRunCheckpoint.objects.last().walltime"
   ]
  },
  {
   "cell_type": "code",
   "execution_count": 40,
   "id": "33a4992c-5f4f-44df-a3cb-6f2a2bd15b6b",
   "metadata": {},
   "outputs": [
    {
     "data": {
      "text/plain": [
       "29999999"
      ]
     },
     "execution_count": 40,
     "metadata": {},
     "output_type": "execute_result"
    }
   ],
   "source": [
    "EquilibriumSolverRunCheckpoint.objects.last().t"
   ]
  },
  {
   "cell_type": "code",
   "execution_count": null,
   "id": "cc544fd9-ad6f-4616-b8e6-8881a66bb7c2",
   "metadata": {},
   "outputs": [],
   "source": []
  }
 ],
 "metadata": {
  "kernelspec": {
   "display_name": "Django Shell-Plus",
   "language": "python",
   "name": "django_extensions"
  },
  "language_info": {
   "codemirror_mode": {
    "name": "ipython",
    "version": 3
   },
   "file_extension": ".py",
   "mimetype": "text/x-python",
   "name": "python",
   "nbconvert_exporter": "python",
   "pygments_lexer": "ipython3",
   "version": "3.8.2"
  }
 },
 "nbformat": 4,
 "nbformat_minor": 5
}
