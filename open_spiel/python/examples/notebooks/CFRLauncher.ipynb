{
 "cells": [
  {
   "cell_type": "code",
   "execution_count": 80,
   "id": "e6f6eef1-52e3-4ff5-af4b-2d5b933ad90b",
   "metadata": {},
   "outputs": [
    {
     "name": "stdout",
     "output_type": "stream",
     "text": [
      "The autoreload extension is already loaded. To reload it, use:\n",
      "  %reload_ext autoreload\n",
      "%pylab is deprecated, use %matplotlib inline and import the required libraries.\n",
      "Populating the interactive namespace from numpy and matplotlib\n"
     ]
    }
   ],
   "source": [
    "%load_ext autoreload\n",
    "%autoreload 2\n",
    "%pylab inline"
   ]
  },
  {
   "cell_type": "code",
   "execution_count": 81,
   "id": "53d1f915-16a6-42e9-b93a-3f44564ef069",
   "metadata": {},
   "outputs": [],
   "source": [
    "import sys\n",
    "import glob\n",
    "import pandas as pd\n",
    "import os\n",
    "import seaborn as sns\n",
    "from tqdm import tqdm_notebook as tqdm\n",
    "from statsmodels.distributions.empirical_distribution import ECDF\n",
    "from collections import defaultdict\n",
    "import open_spiel.python.examples.ubc_dispatch as dispatch\n",
    "import os\n",
    "os.environ[\"DJANGO_ALLOW_ASYNC_UNSAFE\"] = \"true\"\n",
    "from sklearn.model_selection import ParameterGrid\n",
    "from pathlib import Path\n",
    "import torch.nn.functional as F\n",
    "import torch\n",
    "import pickle\n"
   ]
  },
  {
   "cell_type": "code",
   "execution_count": 44,
   "id": "a963cf68-f084-47bc-86bf-23882e77f392",
   "metadata": {},
   "outputs": [],
   "source": [
    "game_dir = os.environ[\"CLOCK_AUCTION_CONFIG_DIR\"]"
   ]
  },
  {
   "cell_type": "code",
   "execution_count": 208,
   "id": "48036c62-68f7-4580-82c3-0da36da9c6b4",
   "metadata": {},
   "outputs": [
    {
     "data": {
      "text/plain": [
       "['jun26/jun26_0_grace_period',\n",
       " 'jun26/jun26_2_grace_period',\n",
       " 'jun26/jun26_4_base',\n",
       " 'jun26/jun26_3_risk_averse_tie_break',\n",
       " 'jun26/jun26_3_base',\n",
       " 'jun26/jun26_1_tie_break',\n",
       " 'jun26/jun26_0_tie_break',\n",
       " 'jun26/jun26_0_risk_averse_tie_break',\n",
       " 'jun26/jun26_4_risk_averse',\n",
       " 'jun26/jun26_2_risk_averse',\n",
       " 'jun26/jun26_4_grace_period',\n",
       " 'jun26/jun26_3_tie_break',\n",
       " 'jun26/jun26_2_risk_averse_tie_break',\n",
       " 'jun26/jun26_3_risk_averse',\n",
       " 'jun26/jun26_4_tie_break',\n",
       " 'jun26/jun26_0_risk_averse',\n",
       " 'jun26/jun26_3_grace_period',\n",
       " 'jun26/jun26_1_risk_averse',\n",
       " 'jun26/jun26_4_risk_averse_tie_break',\n",
       " 'jun26/jun26_1_base',\n",
       " 'jun26/jun26_1_risk_averse_tie_break',\n",
       " 'jun26/jun26_0_base',\n",
       " 'jun26/jun26_1_grace_period',\n",
       " 'jun26/jun26_2_base',\n",
       " 'jun26/jun26_2_tie_break']"
      ]
     },
     "execution_count": 208,
     "metadata": {},
     "output_type": "execute_result"
    }
   ],
   "source": [
    "PREFIX = 'jun26'\n",
    "sats_games = [f'{PREFIX}/' + os.path.basename(x).replace('.json','') for x in glob.glob(f'{game_dir}/{PREFIX}/*')]\n",
    "sats_games = [s for s in sats_games if 'hide' not in s and 'no_activity' not in s and 'undersell' not in s and 'speed' not in s]\n",
    "sats_games"
   ]
  },
  {
   "cell_type": "markdown",
   "id": "01e19a7a-7d0c-4d03-963f-2265e950bf0b",
   "metadata": {},
   "source": [
    "# For running the real dumb test case"
   ]
  },
  {
   "cell_type": "code",
   "execution_count": 209,
   "id": "ff77dd62-1983-4468-9c31-fd042294ca5c",
   "metadata": {},
   "outputs": [
    {
     "name": "stdout",
     "output_type": "stream",
     "text": [
      "25\n"
     ]
    }
   ],
   "source": [
    "pgrid = ParameterGrid([\n",
    "    {\n",
    "        # Defaults\n",
    "        'game': [g for g in sats_games]# if 'hide' not in g and 'imperfect' not in g]\n",
    "    },\n",
    "])\n",
    "print(len(pgrid))"
   ]
  },
  {
   "cell_type": "code",
   "execution_count": 199,
   "id": "ef682f8a-a882-4937-8b86-21a03ee10607",
   "metadata": {},
   "outputs": [
    {
     "name": "stdout",
     "output_type": "stream",
     "text": [
      "Submitted batch job 90453\n",
      "Submitted batch job 90454\n",
      "Submitted batch job 90455\n",
      "Submitted batch job 90456\n",
      "Submitted batch job 90457\n",
      "Submitted batch job 90458\n",
      "Submitted batch job 90459\n",
      "Submitted batch job 90460\n",
      "Submitted batch job 90461\n",
      "Submitted batch job 90462\n",
      "Submitted batch job 90463\n",
      "Submitted batch job 90464\n",
      "Submitted batch job 90465\n",
      "Submitted batch job 90466\n",
      "Submitted batch job 90467\n",
      "Submitted batch job 90468\n",
      "Submitted batch job 90469\n",
      "Submitted batch job 90470\n",
      "Submitted batch job 90471\n",
      "Submitted batch job 90472\n",
      "Submitted batch job 90473\n",
      "Submitted batch job 90474\n",
      "Submitted batch job 90475\n",
      "Submitted batch job 90476\n",
      "Submitted batch job 90477\n"
     ]
    }
   ],
   "source": [
    "num_iters = 999_000_000\n",
    "time_limit_seconds = int(3600 * 0.5)\n",
    "for config in pgrid:\n",
    "    CONFIG = 'cfr_init_2' # The YML network config folder for the main jobs\n",
    "    N_SEEDS = 1 # Number of seeds of each experiment to launch\n",
    "    extra_name = ''\n",
    "    overrides = f'--overwrite_db True --eval_every 999_999_000 --eval_zero false --total_timesteps {num_iters} --dispatch_br false --report_freq 5000 --time_limit_seconds {time_limit_seconds}'      \n",
    "    dispatch.dispatch_experiments(CONFIG, base_job_name='jun24_cfr_gamut_7', game_name=config['game'], overrides=overrides, n_seeds=N_SEEDS, extra_name=extra_name, alg='cfr')"
   ]
  },
  {
   "cell_type": "code",
   "execution_count": 67,
   "id": "57ec9e6b-aeae-48e2-94e6-43d066a0db1a",
   "metadata": {},
   "outputs": [
    {
     "name": "stdout",
     "output_type": "stream",
     "text": [
      "Submitted batch job 89222\n",
      "Submitted batch job 89223\n",
      "Submitted batch job 89224\n",
      "Submitted batch job 89225\n",
      "Submitted batch job 89226\n",
      "Submitted batch job 89227\n",
      "Submitted batch job 89228\n",
      "Submitted batch job 89229\n",
      "Submitted batch job 89230\n",
      "Submitted batch job 89231\n",
      "Submitted batch job 89232\n",
      "Submitted batch job 89233\n",
      "Submitted batch job 89234\n",
      "Submitted batch job 89235\n",
      "Submitted batch job 89236\n",
      "Submitted batch job 89237\n",
      "Submitted batch job 89238\n",
      "Submitted batch job 89239\n",
      "Submitted batch job 89240\n",
      "Submitted batch job 89241\n",
      "Submitted batch job 89242\n",
      "Submitted batch job 89243\n",
      "Submitted batch job 89244\n",
      "Submitted batch job 89245\n",
      "Submitted batch job 89246\n",
      "Submitted batch job 89247\n",
      "Submitted batch job 89248\n",
      "Submitted batch job 89249\n",
      "Submitted batch job 89250\n",
      "Submitted batch job 89251\n",
      "Submitted batch job 89252\n",
      "Submitted batch job 89253\n",
      "Submitted batch job 89254\n",
      "Submitted batch job 89255\n",
      "Submitted batch job 89256\n",
      "Submitted batch job 89257\n",
      "Submitted batch job 89258\n",
      "Submitted batch job 89259\n",
      "Submitted batch job 89260\n",
      "Submitted batch job 89261\n",
      "Submitted batch job 89262\n",
      "Submitted batch job 89263\n",
      "Submitted batch job 89264\n",
      "Submitted batch job 89265\n",
      "Submitted batch job 89266\n",
      "Submitted batch job 89267\n",
      "Submitted batch job 89268\n",
      "Submitted batch job 89269\n",
      "Submitted batch job 89270\n",
      "Submitted batch job 89271\n",
      "Submitted batch job 89272\n",
      "Submitted batch job 89273\n",
      "Submitted batch job 89274\n",
      "Submitted batch job 89275\n",
      "Submitted batch job 89276\n",
      "Submitted batch job 89277\n",
      "Submitted batch job 89278\n",
      "Submitted batch job 89279\n",
      "Submitted batch job 89280\n",
      "Submitted batch job 89281\n",
      "Submitted batch job 89282\n",
      "Submitted batch job 89283\n",
      "Submitted batch job 89284\n",
      "Submitted batch job 89285\n",
      "Submitted batch job 89286\n",
      "Submitted batch job 89287\n",
      "Submitted batch job 89288\n",
      "Submitted batch job 89289\n",
      "Submitted batch job 89290\n",
      "Submitted batch job 89291\n",
      "Submitted batch job 89292\n",
      "Submitted batch job 89293\n",
      "Submitted batch job 89294\n",
      "Submitted batch job 89295\n",
      "Submitted batch job 89296\n",
      "Submitted batch job 89297\n",
      "Submitted batch job 89298\n",
      "Submitted batch job 89299\n",
      "Submitted batch job 89300\n",
      "Submitted batch job 89301\n",
      "Submitted batch job 89302\n",
      "Submitted batch job 89303\n",
      "Submitted batch job 89304\n",
      "Submitted batch job 89305\n",
      "Submitted batch job 89306\n",
      "Submitted batch job 89307\n",
      "Submitted batch job 89308\n",
      "Submitted batch job 89309\n",
      "Submitted batch job 89310\n",
      "Submitted batch job 89311\n",
      "Submitted batch job 89312\n",
      "Submitted batch job 89313\n",
      "Submitted batch job 89314\n",
      "Submitted batch job 89315\n",
      "Submitted batch job 89316\n",
      "Submitted batch job 89317\n",
      "Submitted batch job 89318\n",
      "Submitted batch job 89319\n",
      "Submitted batch job 89320\n",
      "Submitted batch job 89321\n",
      "Submitted batch job 89322\n",
      "Submitted batch job 89323\n",
      "Submitted batch job 89324\n",
      "Submitted batch job 89325\n",
      "Submitted batch job 89326\n",
      "Submitted batch job 89327\n",
      "Submitted batch job 89328\n",
      "Submitted batch job 89329\n",
      "Submitted batch job 89330\n",
      "Submitted batch job 89331\n",
      "Submitted batch job 89332\n",
      "Submitted batch job 89333\n",
      "Submitted batch job 89334\n",
      "Submitted batch job 89335\n",
      "Submitted batch job 89336\n",
      "Submitted batch job 89337\n",
      "Submitted batch job 89338\n",
      "Submitted batch job 89339\n",
      "Submitted batch job 89340\n",
      "Submitted batch job 89341\n",
      "Submitted batch job 89342\n",
      "Submitted batch job 89343\n",
      "Submitted batch job 89344\n",
      "Submitted batch job 89345\n",
      "Submitted batch job 89346\n",
      "Submitted batch job 89347\n",
      "Submitted batch job 89348\n",
      "Submitted batch job 89349\n",
      "Submitted batch job 89350\n",
      "Submitted batch job 89351\n",
      "Submitted batch job 89352\n",
      "Submitted batch job 89353\n",
      "Submitted batch job 89354\n",
      "Submitted batch job 89355\n",
      "Submitted batch job 89356\n",
      "Submitted batch job 89357\n",
      "Submitted batch job 89358\n",
      "Submitted batch job 89359\n",
      "Submitted batch job 89360\n",
      "Submitted batch job 89361\n",
      "Submitted batch job 89362\n",
      "Submitted batch job 89363\n",
      "Submitted batch job 89364\n",
      "Submitted batch job 89365\n",
      "Submitted batch job 89366\n",
      "Submitted batch job 89367\n",
      "Submitted batch job 89368\n",
      "Submitted batch job 89369\n",
      "Submitted batch job 89370\n",
      "Submitted batch job 89371\n",
      "Submitted batch job 89372\n",
      "Submitted batch job 89373\n",
      "Submitted batch job 89374\n",
      "Submitted batch job 89375\n",
      "Submitted batch job 89376\n",
      "Submitted batch job 89377\n",
      "Submitted batch job 89378\n",
      "Submitted batch job 89379\n",
      "Submitted batch job 89380\n",
      "Submitted batch job 89381\n",
      "Submitted batch job 89382\n",
      "Submitted batch job 89383\n",
      "Submitted batch job 89384\n",
      "Submitted batch job 89385\n",
      "Submitted batch job 89386\n",
      "Submitted batch job 89387\n",
      "Submitted batch job 89388\n",
      "Submitted batch job 89389\n",
      "Submitted batch job 89390\n",
      "Submitted batch job 89391\n",
      "Submitted batch job 89392\n",
      "Submitted batch job 89393\n",
      "Submitted batch job 89394\n",
      "Submitted batch job 89395\n",
      "Submitted batch job 89396\n",
      "Submitted batch job 89397\n",
      "Submitted batch job 89398\n",
      "Submitted batch job 89399\n",
      "Submitted batch job 89400\n",
      "Submitted batch job 89401\n",
      "Submitted batch job 89402\n",
      "Submitted batch job 89403\n",
      "Submitted batch job 89404\n",
      "Submitted batch job 89405\n",
      "Submitted batch job 89406\n",
      "Submitted batch job 89407\n",
      "Submitted batch job 89408\n",
      "Submitted batch job 89409\n",
      "Submitted batch job 89410\n",
      "Submitted batch job 89411\n",
      "Submitted batch job 89412\n",
      "Submitted batch job 89413\n",
      "Submitted batch job 89414\n",
      "Submitted batch job 89415\n",
      "Submitted batch job 89416\n",
      "Submitted batch job 89417\n",
      "Submitted batch job 89418\n",
      "Submitted batch job 89419\n",
      "Submitted batch job 89420\n",
      "Submitted batch job 89421\n",
      "Submitted batch job 89422\n",
      "Submitted batch job 89423\n",
      "Submitted batch job 89424\n",
      "Submitted batch job 89425\n",
      "Submitted batch job 89426\n",
      "Submitted batch job 89427\n",
      "Submitted batch job 89428\n",
      "Submitted batch job 89429\n",
      "Submitted batch job 89430\n",
      "Submitted batch job 89431\n",
      "Submitted batch job 89432\n",
      "Submitted batch job 89433\n",
      "Submitted batch job 89434\n",
      "Submitted batch job 89435\n",
      "Submitted batch job 89436\n",
      "Submitted batch job 89437\n",
      "Submitted batch job 89438\n",
      "Submitted batch job 89439\n",
      "Submitted batch job 89440\n",
      "Submitted batch job 89441\n",
      "Submitted batch job 89442\n",
      "Submitted batch job 89443\n",
      "Submitted batch job 89444\n",
      "Submitted batch job 89445\n",
      "Submitted batch job 89446\n"
     ]
    }
   ],
   "source": [
    "num_iters = 999_000_000\n",
    "time_limit_seconds = int(3600 * 12)\n",
    "for config in pgrid:\n",
    "    CONFIG = 'cfr_port_2' # The YML network config folder for the main jobs\n",
    "    N_SEEDS = 3 # Number of seeds of each experiment to launch\n",
    "    extra_name = ''\n",
    "    overrides = f'--overwrite_db True --eval_every 999_999_999 --eval_every_seconds 7200 --eval_zero false --total_timesteps {num_iters} --dispatch_br false --report_freq 5000 --time_limit_seconds {time_limit_seconds}'      \n",
    "    dispatch.dispatch_experiments(CONFIG, base_job_name='jun27_port', game_name=config['game'], overrides=overrides, n_seeds=N_SEEDS, extra_name=extra_name, alg='cfr')"
   ]
  },
  {
   "cell_type": "code",
   "execution_count": null,
   "id": "670efe1e-8e7e-4cef-b04d-78fc7a4cbce6",
   "metadata": {},
   "outputs": [],
   "source": [
    "# num_iters = 10_000_000\n",
    "# time_limit_seconds = 3600 * 4\n",
    "# for config in pgrid:\n",
    "#     CONFIG = 'cfr_external' # The YML network config folder for the main jobs\n",
    "#     N_SEEDS = 3 # Number of seeds of each experiment to launch\n",
    "#     extra_name = ''\n",
    "#     overrides = f'--overwrite_db True --eval_every 250_000 --eval_zero false --total_timesteps {num_iters} --dispatch_br false --report_freq 5000 --time_limit_seconds {time_limit_seconds}'      \n",
    "#     dispatch.dispatch_experiments(CONFIG, base_job_name='jun23external', game_name=config['game'], overrides=overrides, n_seeds=N_SEEDS, extra_name=extra_name, alg='cfr')"
   ]
  },
  {
   "cell_type": "code",
   "execution_count": null,
   "id": "457a17e0-3467-49e7-a1fc-ef7b061e49ff",
   "metadata": {},
   "outputs": [],
   "source": [
    "# num_iters = 30_000_000\n",
    "# time_limit_seconds = 3600 * 4\n",
    "# for config in pgrid:\n",
    "#     CONFIG = 'cfr_outcome' # The YML network config folder for the main jobs\n",
    "#     N_SEEDS = 3 # Number of seeds of each experiment to launch\n",
    "#     extra_name = ''\n",
    "#     overrides = f'--overwrite_db True --eval_every 999_000_000 --eval_zero false --total_timesteps {num_iters} --dispatch_br false --report_freq 5000 --time_limit_seconds {time_limit_seconds}'      \n",
    "#     dispatch.dispatch_experiments(CONFIG, base_job_name='jun23outcome_2', game_name=config['game'], overrides=overrides, n_seeds=N_SEEDS, extra_name=extra_name, alg='cfr')"
   ]
  },
  {
   "cell_type": "code",
   "execution_count": null,
   "id": "534e93c4-35cb-4af5-8140-6ca5bb9d859b",
   "metadata": {},
   "outputs": [],
   "source": [
    "# for config in pgrid:\n",
    "#     CONFIG = 'ppo_no_ent_jun14'\n",
    "#     # CONFIG = 'ppo_may31_23' # The YML network config folder for the main jobs\n",
    "#     # BR_CONFIG = 'ppo_may31_23' \n",
    "#     N_SEEDS = 3 # Number of seeds of each experiment to launch\n",
    "#     extra_name = ''\n",
    "#     overrides = f'--overwrite_db True --br_portfolio_path {BR_CONFIG} --eval_every 999_000_000 --eval_zero false --total_timesteps 5_000_000 --dispatch_br false --br_overrides \"--total_timesteps 1_000_000\"'        \n",
    "#     dispatch.dispatch_experiments(CONFIG, base_job_name='jun14ent_3', game_name=config['game'], overrides=overrides, n_seeds=N_SEEDS, extra_name=extra_name)"
   ]
  },
  {
   "cell_type": "code",
   "execution_count": 213,
   "id": "4a6067d6-ea75-47a7-aec8-265ce62ad4aa",
   "metadata": {},
   "outputs": [
    {
     "name": "stdout",
     "output_type": "stream",
     "text": [
      "             JOBID                                                                                       NAME ST .      TIME NODES NODELIST(REASON)\n"
     ]
    }
   ],
   "source": [
    "!squeue --format=\"%.18i %.90j %.2t .%.10M%.6D %R\""
   ]
  },
  {
   "cell_type": "code",
   "execution_count": 63,
   "id": "0e80d410-986b-42a1-9d49-1035ef103a0a",
   "metadata": {},
   "outputs": [],
   "source": [
    "def check_queue():\n",
    "    !ssh borg.cs.ubc.ca '/opt/slurm/bin/squeue -u newmanne --format=\"%.18i %.90j %.2t .%.10M %.6D %R\"'\n"
   ]
  },
  {
   "cell_type": "code",
   "execution_count": 116,
   "id": "3e5c26b7-d158-4ece-a72a-c3b2fd47a56f",
   "metadata": {
    "tags": []
   },
   "outputs": [
    {
     "name": "stdout",
     "output_type": "stream",
     "text": [
      "^C\n"
     ]
    }
   ],
   "source": [
    "check_queue()"
   ]
  },
  {
   "cell_type": "code",
   "execution_count": 192,
   "id": "a8ee533f-357a-4bbc-956e-1cf136ef9266",
   "metadata": {},
   "outputs": [
    {
     "name": "stdout",
     "output_type": "stream",
     "text": [
      "32\n"
     ]
    }
   ],
   "source": [
    "!squeue | wc -l"
   ]
  },
  {
   "cell_type": "code",
   "execution_count": null,
   "id": "a8b665af-771f-44c1-8065-4928e1e5ac91",
   "metadata": {},
   "outputs": [],
   "source": [
    "!squeue | grep \"may30\" | wc -l"
   ]
  },
  {
   "cell_type": "code",
   "execution_count": 186,
   "id": "c26b508d-9ee0-4878-9aa1-68c611ab651a",
   "metadata": {},
   "outputs": [],
   "source": [
    "!scancel -u ubuntu"
   ]
  },
  {
   "cell_type": "code",
   "execution_count": 187,
   "id": "aee5cc7e-228c-4484-bb31-efb870f59efa",
   "metadata": {},
   "outputs": [],
   "source": [
    "# !scancel  46891 46893"
   ]
  },
  {
   "cell_type": "code",
   "execution_count": null,
   "id": "3aeeeeb6-6c6f-4e37-9566-3eb8d73d97d5",
   "metadata": {},
   "outputs": [],
   "source": [
    "!rm -rf /shared/outputs/minitest/\n",
    "try:\n",
    "    Experiment.objects.get(name='minitest').delete()\n",
    "except:\n",
    "    pass\n",
    "dispatch.dispatch_experiments('feb2', base_job_name='minitest', game_name='tiny', overrides = '--br_portfolio_path feb2 --eval_every 500 --num_training_episodes 1_000 --br_overrides \"--num_training_episodes 1_000\" --eval_overrides \"--num_samples 100\"')"
   ]
  },
  {
   "cell_type": "code",
   "execution_count": null,
   "id": "d4ca4c72-ce03-4d1a-8e9d-1abd642e8407",
   "metadata": {},
   "outputs": [],
   "source": [
    "BestResponse.objects.last()"
   ]
  },
  {
   "cell_type": "code",
   "execution_count": null,
   "id": "da1b3451-a927-4467-a90d-077f2de61767",
   "metadata": {},
   "outputs": [],
   "source": [
    "Experiment.objects.all()"
   ]
  },
  {
   "cell_type": "code",
   "execution_count": null,
   "id": "0547418d-7d14-404e-ad7f-892180cd6e50",
   "metadata": {},
   "outputs": [],
   "source": [
    "!sacct --starttime 2022-03-11 --format=User,JobID,Jobname,partition,state,time,start,end,elapsed,MaxRss,MaxVMSize,nnodes,ncpus,nodelist"
   ]
  },
  {
   "cell_type": "code",
   "execution_count": null,
   "id": "2fc59f9d-3861-481c-bcd2-68c25e19267a",
   "metadata": {},
   "outputs": [],
   "source": [
    "Evaluation.objects.last()"
   ]
  },
  {
   "cell_type": "code",
   "execution_count": null,
   "id": "eda9b8b7-ea2f-41b0-a527-4460fb8249fc",
   "metadata": {},
   "outputs": [],
   "source": [
    "os.system(\"ssh borg.cs.ubc.ca '/opt/slurm/bin/sbatch'\")"
   ]
  },
  {
   "cell_type": "code",
   "execution_count": 79,
   "id": "b70ae116-1e70-4d32-8405-b479041c18b5",
   "metadata": {},
   "outputs": [],
   "source": [
    "!squeue --format=\"%.18i %.65j %.2t %.10M %.6D %R\" | grep \"eval\" | awk '{print $1}' | xargs scancel"
   ]
  },
  {
   "cell_type": "code",
   "execution_count": 22,
   "id": "d6b4808f-f9ca-4e51-8a92-4445dfb6f883",
   "metadata": {},
   "outputs": [],
   "source": [
    "from compress_pickle import dumps, loads\n"
   ]
  },
  {
   "cell_type": "code",
   "execution_count": 24,
   "id": "a9b6c536-b575-48e7-8bd9-8b28e9a9619a",
   "metadata": {},
   "outputs": [
    {
     "data": {
      "text/plain": [
       "\u001b[0;31mSignature:\u001b[0m\n",
       "\u001b[0mloads\u001b[0m\u001b[0;34m(\u001b[0m\u001b[0;34m\u001b[0m\n",
       "\u001b[0;34m\u001b[0m    \u001b[0mdata\u001b[0m\u001b[0;34m:\u001b[0m \u001b[0mbytes\u001b[0m\u001b[0;34m,\u001b[0m\u001b[0;34m\u001b[0m\n",
       "\u001b[0;34m\u001b[0m    \u001b[0mcompression\u001b[0m\u001b[0;34m:\u001b[0m \u001b[0mUnion\u001b[0m\u001b[0;34m[\u001b[0m\u001b[0mstr\u001b[0m\u001b[0;34m,\u001b[0m \u001b[0mNoneType\u001b[0m\u001b[0;34m]\u001b[0m\u001b[0;34m,\u001b[0m\u001b[0;34m\u001b[0m\n",
       "\u001b[0;34m\u001b[0m    \u001b[0mpickler_method\u001b[0m\u001b[0;34m:\u001b[0m \u001b[0mstr\u001b[0m \u001b[0;34m=\u001b[0m \u001b[0;34m'pickle'\u001b[0m\u001b[0;34m,\u001b[0m\u001b[0;34m\u001b[0m\n",
       "\u001b[0;34m\u001b[0m    \u001b[0mpickler_kwargs\u001b[0m\u001b[0;34m:\u001b[0m \u001b[0mUnion\u001b[0m\u001b[0;34m[\u001b[0m\u001b[0mDict\u001b[0m\u001b[0;34m[\u001b[0m\u001b[0mstr\u001b[0m\u001b[0;34m,\u001b[0m \u001b[0mAny\u001b[0m\u001b[0;34m]\u001b[0m\u001b[0;34m,\u001b[0m \u001b[0mNoneType\u001b[0m\u001b[0;34m]\u001b[0m \u001b[0;34m=\u001b[0m \u001b[0;32mNone\u001b[0m\u001b[0;34m,\u001b[0m\u001b[0;34m\u001b[0m\n",
       "\u001b[0;34m\u001b[0m    \u001b[0;34m**\u001b[0m\u001b[0mkwargs\u001b[0m\u001b[0;34m,\u001b[0m\u001b[0;34m\u001b[0m\n",
       "\u001b[0;34m\u001b[0m\u001b[0;34m)\u001b[0m \u001b[0;34m->\u001b[0m \u001b[0mAny\u001b[0m\u001b[0;34m\u001b[0m\u001b[0;34m\u001b[0m\u001b[0m\n",
       "\u001b[0;31mDocstring:\u001b[0m\n",
       "Load an object from its serialized binary representation.\n",
       "\n",
       "It is possible to specify a desired serialization method and a compression protocol to use.\n",
       "For example, if ``gzip`` compression is specified, the supplied binary data is uncompressed with\n",
       "gzip and then loaded using standard :func:`pickle.load`.\n",
       "\n",
       "Behind the scenes, this function only instantiates\n",
       ":class:`~compress_pickle.compressers.base.BaseCompresser` around a ``io.BinaryIO(data)`` stream\n",
       "and :class:`~compress_pickle.picklers.base.BasePicklerIO` instances depending on the supplied\n",
       "names, and then calls :func:`~compress_pickle.io.base.uncompress_and_unpickle` with them.\n",
       "\n",
       "Parameters\n",
       "----------\n",
       "data : bytes\n",
       "    The bytes that contain the compressed serialized binary representation of the object that\n",
       "    must be loaded.\n",
       "compression : Optional[str]\n",
       "    The compression protocol to use. By default, the compression is inferred from the path's\n",
       "    extension. This compression name passed to\n",
       "    :func:`~compress_pickle.compressers.registry.get_compresser` to create a\n",
       "    :class:`~compress_pickle.compressers.base.BaseCompresser` instance. This instance will be\n",
       "    used to open a file-like object from which to read the serialized binary representation\n",
       "    of ``obj``.\n",
       "    To see available compression protocols refer to\n",
       "    :func:`~compress_pickle.compressers.registry.get_known_compressions`.\n",
       "pickler_method : str\n",
       "    The name of the serialization method to use. This method name is passed to\n",
       "    :func:`~compress_pickle.picklers.registry.get_pickler` to create a\n",
       "    :class:`~compress_pickle.picklers.base.BasePicklerIO` instance. The default method is\n",
       "    ``\"pickle\"``, which means that a :class:`~compress_pickle.picklers.pickle.BuiltinPicklerIO`\n",
       "    will be created by default, and its\n",
       "    :meth:`~compress_pickle.picklers.pickle.BuiltinPicklerIO.load` will be used for\n",
       "    unserializing the ``obj``.\n",
       "    Refer to :func:`~compress_pickle.picklers.registry.get_known_picklers` to see the available\n",
       "    serialization methods.\n",
       "pickler_kwargs : Optional[Dict[str, Any]]\n",
       "    An optional dictionary of keyword arguments to pass to\n",
       "    :meth:`~compress_pickle.picklers.base.BasePicklerIO.load` when the ``obj`` is loaded. For\n",
       "    example, this could be ``{\"fix_imports\": True}`` when the default ``\"pickle\"``\n",
       "    serialization method is used.\n",
       "kwargs :\n",
       "    Any extra keyword arguments are passed to\n",
       "    :func:`compress_pickle.utils.instantiate_compresser`, which in turn creates the\n",
       "    compresser instance that will be used.\n",
       "\n",
       "Returns\n",
       "-------\n",
       "obj : Any\n",
       "    The object that is loaded from its compressed binary representation.\n",
       "\n",
       "Notes\n",
       "-----\n",
       "The ``compression`` argument is mandatory because it cannot be inferred.\n",
       "\u001b[0;31mFile:\u001b[0m      ~/.pyenv/versions/3.8.2/envs/venv/lib/python3.8/site-packages/compress_pickle/compress_pickle.py\n",
       "\u001b[0;31mType:\u001b[0m      function\n"
      ]
     },
     "metadata": {},
     "output_type": "display_data"
    }
   ],
   "source": [
    "loads?"
   ]
  },
  {
   "cell_type": "code",
   "execution_count": 26,
   "id": "27346459-d529-47b5-b84f-32511d1b809f",
   "metadata": {},
   "outputs": [],
   "source": [
    "from compress_pickle.compressers.registry import get_known_compressions"
   ]
  },
  {
   "cell_type": "code",
   "execution_count": 27,
   "id": "89557fb5-e0fb-471c-80f4-e7d8d4b76abb",
   "metadata": {},
   "outputs": [
    {
     "data": {
      "text/plain": [
       "['bz2', 'gzip', 'lz4', 'lzma', None, 'pickle', 'zipfile']"
      ]
     },
     "execution_count": 27,
     "metadata": {},
     "output_type": "execute_result"
    }
   ],
   "source": [
    "get_known_compressions()"
   ]
  },
  {
   "cell_type": "code",
   "execution_count": 30,
   "id": "2b42e2b0-3412-46ed-8a7f-7539bc84f752",
   "metadata": {},
   "outputs": [],
   "source": [
    "x = EquilibriumSolverRunCheckpoint.objects.last().policy"
   ]
  },
  {
   "cell_type": "code",
   "execution_count": 31,
   "id": "52401c72-bb34-41be-b7f0-a0c9479f60ff",
   "metadata": {},
   "outputs": [
    {
     "data": {
      "text/plain": [
       "246889008"
      ]
     },
     "execution_count": 31,
     "metadata": {},
     "output_type": "execute_result"
    }
   ],
   "source": [
    "len(x)"
   ]
  },
  {
   "cell_type": "code",
   "execution_count": 36,
   "id": "c19c4b6d-95b9-4730-9f52-66ef55bc2b2d",
   "metadata": {},
   "outputs": [
    {
     "data": {
      "text/plain": [
       "16491138"
      ]
     },
     "execution_count": 36,
     "metadata": {},
     "output_type": "execute_result"
    }
   ],
   "source": [
    "len(dumps(pickle.loads(x), compression='bz2'))"
   ]
  },
  {
   "cell_type": "code",
   "execution_count": 37,
   "id": "3b5590c1-0f89-4562-abdb-d9683160d40c",
   "metadata": {},
   "outputs": [
    {
     "data": {
      "text/plain": [
       "246889008"
      ]
     },
     "execution_count": 37,
     "metadata": {},
     "output_type": "execute_result"
    }
   ],
   "source": [
    "len(pickle.dumps(pickle.loads(x)))"
   ]
  },
  {
   "cell_type": "code",
   "execution_count": 39,
   "id": "0a3eae12-4643-46f1-a4ed-a72b4a18a44f",
   "metadata": {},
   "outputs": [
    {
     "data": {
      "text/plain": [
       "47143.19465947151"
      ]
     },
     "execution_count": 39,
     "metadata": {},
     "output_type": "execute_result"
    }
   ],
   "source": [
    "EquilibriumSolverRunCheckpoint.objects.last().walltime"
   ]
  },
  {
   "cell_type": "code",
   "execution_count": 40,
   "id": "33a4992c-5f4f-44df-a3cb-6f2a2bd15b6b",
   "metadata": {},
   "outputs": [
    {
     "data": {
      "text/plain": [
       "29999999"
      ]
     },
     "execution_count": 40,
     "metadata": {},
     "output_type": "execute_result"
    }
   ],
   "source": [
    "EquilibriumSolverRunCheckpoint.objects.last().t"
   ]
  },
  {
   "cell_type": "code",
   "execution_count": null,
   "id": "cc544fd9-ad6f-4616-b8e6-8881a66bb7c2",
   "metadata": {},
   "outputs": [],
   "source": []
  }
 ],
 "metadata": {
  "kernelspec": {
   "display_name": "Django Shell-Plus",
   "language": "python",
   "name": "django_extensions"
  },
  "language_info": {
   "codemirror_mode": {
    "name": "ipython",
    "version": 3
   },
   "file_extension": ".py",
   "mimetype": "text/x-python",
   "name": "python",
   "nbconvert_exporter": "python",
   "pygments_lexer": "ipython3",
   "version": "3.8.2"
  }
 },
 "nbformat": 4,
 "nbformat_minor": 5
}
