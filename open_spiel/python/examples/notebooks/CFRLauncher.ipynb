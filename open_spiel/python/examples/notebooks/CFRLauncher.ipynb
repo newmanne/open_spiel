{
 "cells": [
  {
   "cell_type": "code",
   "execution_count": 24,
   "id": "e6f6eef1-52e3-4ff5-af4b-2d5b933ad90b",
   "metadata": {},
   "outputs": [
    {
     "name": "stdout",
     "output_type": "stream",
     "text": [
      "The autoreload extension is already loaded. To reload it, use:\n",
      "  %reload_ext autoreload\n",
      "%pylab is deprecated, use %matplotlib inline and import the required libraries.\n",
      "Populating the interactive namespace from numpy and matplotlib\n"
     ]
    }
   ],
   "source": [
    "%load_ext autoreload\n",
    "%autoreload 2\n",
    "%pylab inline"
   ]
  },
  {
   "cell_type": "code",
   "execution_count": 25,
   "id": "53d1f915-16a6-42e9-b93a-3f44564ef069",
   "metadata": {},
   "outputs": [],
   "source": [
    "import sys\n",
    "import glob\n",
    "import pandas as pd\n",
    "import os\n",
    "import seaborn as sns\n",
    "from tqdm import tqdm_notebook as tqdm\n",
    "from statsmodels.distributions.empirical_distribution import ECDF\n",
    "from collections import defaultdict\n",
    "import open_spiel.python.examples.ubc_dispatch as dispatch\n",
    "import os\n",
    "os.environ[\"DJANGO_ALLOW_ASYNC_UNSAFE\"] = \"true\"\n",
    "from sklearn.model_selection import ParameterGrid\n",
    "from pathlib import Path\n",
    "import torch.nn.functional as F\n",
    "import torch\n",
    "import pickle\n"
   ]
  },
  {
   "cell_type": "code",
   "execution_count": 26,
   "id": "a963cf68-f084-47bc-86bf-23882e77f392",
   "metadata": {},
   "outputs": [],
   "source": [
    "game_dir = os.environ[\"CLOCK_AUCTION_CONFIG_DIR\"]"
   ]
  },
  {
   "cell_type": "code",
   "execution_count": 41,
   "id": "48036c62-68f7-4580-82c3-0da36da9c6b4",
   "metadata": {},
   "outputs": [
    {
     "data": {
      "text/plain": [
       "['jun26/jun26_2_no_activity',\n",
       " 'jun26/jun26_0_no_activity',\n",
       " 'jun26/jun26_4_no_activity',\n",
       " 'jun26/jun26_1_no_activity',\n",
       " 'jun26/jun26_3_no_activity']"
      ]
     },
     "execution_count": 41,
     "metadata": {},
     "output_type": "execute_result"
    }
   ],
   "source": [
    "PREFIX = 'jun26'\n",
    "sats_games = [f'{PREFIX}/' + os.path.basename(x).replace('.json','') for x in glob.glob(f'{game_dir}/{PREFIX}/*')]\n",
    "# sats_games = [s for s in sats_games if ('speed' in s or 'base' in s or 'grace' in s) and 'spite' not in s]\n",
    "sats_games = [s for s in sats_games if 'activity' in s]\n",
    "sats_games "
   ]
  },
  {
   "cell_type": "markdown",
   "id": "01e19a7a-7d0c-4d03-963f-2265e950bf0b",
   "metadata": {},
   "source": [
    "# For running the real dumb test case"
   ]
  },
  {
   "cell_type": "code",
   "execution_count": 43,
   "id": "ff77dd62-1983-4468-9c31-fd042294ca5c",
   "metadata": {},
   "outputs": [
    {
     "name": "stdout",
     "output_type": "stream",
     "text": [
      "5\n"
     ]
    }
   ],
   "source": [
    "pgrid = ParameterGrid([\n",
    "    {\n",
    "        # Defaults\n",
    "        'game': [g for g in sats_games]# if 'hide' not in g and 'imperfect' not in g]\n",
    "    },\n",
    "])\n",
    "print(len(pgrid))"
   ]
  },
  {
   "cell_type": "code",
   "execution_count": null,
   "id": "ef682f8a-a882-4937-8b86-21a03ee10607",
   "metadata": {},
   "outputs": [],
   "source": [
    "num_iters = 999_000_000\n",
    "time_limit_seconds = int(3600 * 0.5)\n",
    "for config in pgrid:\n",
    "    CONFIG = 'cfr_init_2' # The YML network config folder for the main jobs\n",
    "    N_SEEDS = 1 # Number of seeds of each experiment to launch\n",
    "    extra_name = ''\n",
    "    overrides = f'--overwrite_db True --eval_every 999_999_000 --eval_zero false --total_timesteps {num_iters} --dispatch_br false --report_freq 5000 --time_limit_seconds {time_limit_seconds}'      \n",
    "    dispatch.dispatch_experiments(CONFIG, base_job_name='jun24_cfr_gamut_7', game_name=config['game'], overrides=overrides, n_seeds=N_SEEDS, extra_name=extra_name, alg='cfr')"
   ]
  },
  {
   "cell_type": "code",
   "execution_count": 44,
   "id": "57ec9e6b-aeae-48e2-94e6-43d066a0db1a",
   "metadata": {},
   "outputs": [
    {
     "name": "stdout",
     "output_type": "stream",
     "text": [
      "Submitted batch job 1021074\n",
      "Submitted batch job 1021075\n",
      "Submitted batch job 1021076\n",
      "Submitted batch job 1021077\n",
      "Submitted batch job 1021078\n",
      "Submitted batch job 1021079\n",
      "Submitted batch job 1021080\n",
      "Submitted batch job 1021081\n",
      "Submitted batch job 1021082\n",
      "Submitted batch job 1021083\n",
      "Submitted batch job 1021084\n",
      "Submitted batch job 1021085\n",
      "Submitted batch job 1021086\n",
      "Submitted batch job 1021087\n",
      "Submitted batch job 1021088\n",
      "Submitted batch job 1021089\n",
      "Submitted batch job 1021090\n",
      "Submitted batch job 1021091\n",
      "Submitted batch job 1021092\n",
      "Submitted batch job 1021093\n",
      "Submitted batch job 1021094\n",
      "Submitted batch job 1021095\n",
      "Submitted batch job 1021096\n",
      "Submitted batch job 1021097\n",
      "Submitted batch job 1021098\n",
      "Submitted batch job 1021099\n",
      "Submitted batch job 1021100\n",
      "Submitted batch job 1021101\n",
      "Submitted batch job 1021102\n",
      "Submitted batch job 1021103\n",
      "Submitted batch job 1021104\n",
      "Submitted batch job 1021105\n",
      "Submitted batch job 1021106\n",
      "Submitted batch job 1021107\n",
      "Submitted batch job 1021108\n",
      "Submitted batch job 1021109\n",
      "Submitted batch job 1021110\n",
      "Submitted batch job 1021111\n",
      "Submitted batch job 1021112\n",
      "Submitted batch job 1021113\n",
      "Submitted batch job 1021114\n",
      "Submitted batch job 1021115\n",
      "Submitted batch job 1021116\n",
      "Submitted batch job 1021117\n",
      "Submitted batch job 1021118\n"
     ]
    }
   ],
   "source": [
    "num_iters = 999_000_000\n",
    "time_limit_seconds = int(3600 * 12)\n",
    "for config in pgrid:\n",
    "    CONFIG = 'cfr_port_2' # The YML network config folder for the main jobs\n",
    "    N_SEEDS = 3 # Number of seeds of each experiment to launch\n",
    "    extra_name = ''\n",
    "    overrides = f'--overwrite_db True --eval_every 999_999_999 --eval_every_seconds 9000 --eval_zero false --total_timesteps {num_iters} --dispatch_br false --report_freq 5000 --time_limit_seconds {time_limit_seconds}'      \n",
    "    dispatch.dispatch_experiments(CONFIG, base_job_name='jun28_port_2', game_name=config['game'], overrides=overrides, n_seeds=N_SEEDS, extra_name=extra_name, alg='cfr')"
   ]
  },
  {
   "cell_type": "code",
   "execution_count": null,
   "id": "670efe1e-8e7e-4cef-b04d-78fc7a4cbce6",
   "metadata": {},
   "outputs": [],
   "source": [
    "# num_iters = 10_000_000\n",
    "# time_limit_seconds = 3600 * 4\n",
    "# for config in pgrid:\n",
    "#     CONFIG = 'cfr_external' # The YML network config folder for the main jobs\n",
    "#     N_SEEDS = 3 # Number of seeds of each experiment to launch\n",
    "#     extra_name = ''\n",
    "#     overrides = f'--overwrite_db True --eval_every 250_000 --eval_zero false --total_timesteps {num_iters} --dispatch_br false --report_freq 5000 --time_limit_seconds {time_limit_seconds}'      \n",
    "#     dispatch.dispatch_experiments(CONFIG, base_job_name='jun23external', game_name=config['game'], overrides=overrides, n_seeds=N_SEEDS, extra_name=extra_name, alg='cfr')"
   ]
  },
  {
   "cell_type": "code",
   "execution_count": null,
   "id": "457a17e0-3467-49e7-a1fc-ef7b061e49ff",
   "metadata": {},
   "outputs": [],
   "source": [
    "# num_iters = 30_000_000\n",
    "# time_limit_seconds = 3600 * 4\n",
    "# for config in pgrid:\n",
    "#     CONFIG = 'cfr_outcome' # The YML network config folder for the main jobs\n",
    "#     N_SEEDS = 3 # Number of seeds of each experiment to launch\n",
    "#     extra_name = ''\n",
    "#     overrides = f'--overwrite_db True --eval_every 999_000_000 --eval_zero false --total_timesteps {num_iters} --dispatch_br false --report_freq 5000 --time_limit_seconds {time_limit_seconds}'      \n",
    "#     dispatch.dispatch_experiments(CONFIG, base_job_name='jun23outcome_2', game_name=config['game'], overrides=overrides, n_seeds=N_SEEDS, extra_name=extra_name, alg='cfr')"
   ]
  },
  {
   "cell_type": "code",
   "execution_count": null,
   "id": "534e93c4-35cb-4af5-8140-6ca5bb9d859b",
   "metadata": {},
   "outputs": [],
   "source": [
    "# for config in pgrid:\n",
    "#     CONFIG = 'ppo_no_ent_jun14'\n",
    "#     # CONFIG = 'ppo_may31_23' # The YML network config folder for the main jobs\n",
    "#     # BR_CONFIG = 'ppo_may31_23' \n",
    "#     N_SEEDS = 3 # Number of seeds of each experiment to launch\n",
    "#     extra_name = ''\n",
    "#     overrides = f'--overwrite_db True --br_portfolio_path {BR_CONFIG} --eval_every 999_000_000 --eval_zero false --total_timesteps 5_000_000 --dispatch_br false --br_overrides \"--total_timesteps 1_000_000\"'        \n",
    "#     dispatch.dispatch_experiments(CONFIG, base_job_name='jun14ent_3', game_name=config['game'], overrides=overrides, n_seeds=N_SEEDS, extra_name=extra_name)"
   ]
  },
  {
   "cell_type": "code",
   "execution_count": 42,
   "id": "4a6067d6-ea75-47a7-aec8-265ce62ad4aa",
   "metadata": {},
   "outputs": [
    {
     "name": "stdout",
     "output_type": "stream",
     "text": [
      "             JOBID                                                                                       NAME ST .      TIME NODES NODELIST(REASON)\n",
      "           1020990                              jun26_jun26_4_base-cfr_port_2outcome_lin_avg-102_jun28_port_2 PD .      0:00     1 (Resources)\n",
      "           1020991                                jun26_jun26_4_base-cfr_port_2external_plus-100_jun28_port_2 PD .      0:00     1 (Priority)\n",
      "           1020992                                jun26_jun26_4_base-cfr_port_2external_plus-101_jun28_port_2 PD .      0:00     1 (Priority)\n",
      "           1020993                                jun26_jun26_4_base-cfr_port_2external_plus-102_jun28_port_2 PD .      0:00     1 (Priority)\n",
      "           1020994                   jun26_jun26_3_high_speed-cfr_port_2outcome_lin_avg_plus-100_jun28_port_2 PD .      0:00     1 (Priority)\n",
      "           1020995                   jun26_jun26_3_high_speed-cfr_port_2outcome_lin_avg_plus-101_jun28_port_2 PD .      0:00     1 (Priority)\n",
      "           1020996                   jun26_jun26_3_high_speed-cfr_port_2outcome_lin_avg_plus-102_jun28_port_2 PD .      0:00     1 (Priority)\n",
      "           1020997                        jun26_jun26_3_high_speed-cfr_port_2outcome_lin_avg-100_jun28_port_2 PD .      0:00     1 (Priority)\n",
      "           1020998                        jun26_jun26_3_high_speed-cfr_port_2outcome_lin_avg-101_jun28_port_2 PD .      0:00     1 (Priority)\n",
      "           1020999                        jun26_jun26_3_high_speed-cfr_port_2outcome_lin_avg-102_jun28_port_2 PD .      0:00     1 (Priority)\n",
      "           1021000                          jun26_jun26_3_high_speed-cfr_port_2external_plus-100_jun28_port_2 PD .      0:00     1 (Priority)\n",
      "           1021001                          jun26_jun26_3_high_speed-cfr_port_2external_plus-101_jun28_port_2 PD .      0:00     1 (Priority)\n",
      "           1021002                          jun26_jun26_3_high_speed-cfr_port_2external_plus-102_jun28_port_2 PD .      0:00     1 (Priority)\n",
      "           1021003                         jun26_jun26_0_base-cfr_port_2outcome_lin_avg_plus-100_jun28_port_2 PD .      0:00     1 (Priority)\n",
      "           1021004                         jun26_jun26_0_base-cfr_port_2outcome_lin_avg_plus-101_jun28_port_2 PD .      0:00     1 (Priority)\n",
      "           1021005                         jun26_jun26_0_base-cfr_port_2outcome_lin_avg_plus-102_jun28_port_2 PD .      0:00     1 (Priority)\n",
      "           1021006                              jun26_jun26_0_base-cfr_port_2outcome_lin_avg-100_jun28_port_2 PD .      0:00     1 (Priority)\n",
      "           1021007                              jun26_jun26_0_base-cfr_port_2outcome_lin_avg-101_jun28_port_2 PD .      0:00     1 (Priority)\n",
      "           1021008                              jun26_jun26_0_base-cfr_port_2outcome_lin_avg-102_jun28_port_2 PD .      0:00     1 (Priority)\n",
      "           1021009                                jun26_jun26_0_base-cfr_port_2external_plus-100_jun28_port_2 PD .      0:00     1 (Priority)\n",
      "           1021010                                jun26_jun26_0_base-cfr_port_2external_plus-101_jun28_port_2 PD .      0:00     1 (Priority)\n",
      "           1021011                                jun26_jun26_0_base-cfr_port_2external_plus-102_jun28_port_2 PD .      0:00     1 (Priority)\n",
      "           1021012                 jun26_jun26_2_grace_period-cfr_port_2outcome_lin_avg_plus-100_jun28_port_2 PD .      0:00     1 (Priority)\n",
      "           1021013                 jun26_jun26_2_grace_period-cfr_port_2outcome_lin_avg_plus-101_jun28_port_2 PD .      0:00     1 (Priority)\n",
      "           1021014                 jun26_jun26_2_grace_period-cfr_port_2outcome_lin_avg_plus-102_jun28_port_2 PD .      0:00     1 (Priority)\n",
      "           1021015                      jun26_jun26_2_grace_period-cfr_port_2outcome_lin_avg-100_jun28_port_2 PD .      0:00     1 (Priority)\n",
      "           1021016                      jun26_jun26_2_grace_period-cfr_port_2outcome_lin_avg-101_jun28_port_2 PD .      0:00     1 (Priority)\n",
      "           1021017                      jun26_jun26_2_grace_period-cfr_port_2outcome_lin_avg-102_jun28_port_2 PD .      0:00     1 (Priority)\n",
      "           1021018                        jun26_jun26_2_grace_period-cfr_port_2external_plus-100_jun28_port_2 PD .      0:00     1 (Priority)\n",
      "           1021019                        jun26_jun26_2_grace_period-cfr_port_2external_plus-101_jun28_port_2 PD .      0:00     1 (Priority)\n",
      "           1021020                        jun26_jun26_2_grace_period-cfr_port_2external_plus-102_jun28_port_2 PD .      0:00     1 (Priority)\n",
      "           1021021                 jun26_jun26_3_grace_period-cfr_port_2outcome_lin_avg_plus-100_jun28_port_2 PD .      0:00     1 (Priority)\n",
      "           1021022                 jun26_jun26_3_grace_period-cfr_port_2outcome_lin_avg_plus-101_jun28_port_2 PD .      0:00     1 (Priority)\n",
      "           1021023                 jun26_jun26_3_grace_period-cfr_port_2outcome_lin_avg_plus-102_jun28_port_2 PD .      0:00     1 (Priority)\n",
      "           1021024                      jun26_jun26_3_grace_period-cfr_port_2outcome_lin_avg-100_jun28_port_2 PD .      0:00     1 (Priority)\n",
      "           1021025                      jun26_jun26_3_grace_period-cfr_port_2outcome_lin_avg-101_jun28_port_2 PD .      0:00     1 (Priority)\n",
      "           1021026                      jun26_jun26_3_grace_period-cfr_port_2outcome_lin_avg-102_jun28_port_2 PD .      0:00     1 (Priority)\n",
      "           1021027                        jun26_jun26_3_grace_period-cfr_port_2external_plus-100_jun28_port_2 PD .      0:00     1 (Priority)\n",
      "           1021028                        jun26_jun26_3_grace_period-cfr_port_2external_plus-101_jun28_port_2 PD .      0:00     1 (Priority)\n",
      "           1021029                        jun26_jun26_3_grace_period-cfr_port_2external_plus-102_jun28_port_2 PD .      0:00     1 (Priority)\n",
      "           1021030                 jun26_jun26_2_medium_speed-cfr_port_2outcome_lin_avg_plus-100_jun28_port_2 PD .      0:00     1 (Priority)\n",
      "           1021031                 jun26_jun26_2_medium_speed-cfr_port_2outcome_lin_avg_plus-101_jun28_port_2 PD .      0:00     1 (Priority)\n",
      "           1021032                 jun26_jun26_2_medium_speed-cfr_port_2outcome_lin_avg_plus-102_jun28_port_2 PD .      0:00     1 (Priority)\n",
      "           1021033                      jun26_jun26_2_medium_speed-cfr_port_2outcome_lin_avg-100_jun28_port_2 PD .      0:00     1 (Priority)\n",
      "           1021034                      jun26_jun26_2_medium_speed-cfr_port_2outcome_lin_avg-101_jun28_port_2 PD .      0:00     1 (Priority)\n",
      "           1021035                      jun26_jun26_2_medium_speed-cfr_port_2outcome_lin_avg-102_jun28_port_2 PD .      0:00     1 (Priority)\n",
      "           1021036                        jun26_jun26_2_medium_speed-cfr_port_2external_plus-100_jun28_port_2 PD .      0:00     1 (Priority)\n",
      "           1021037                        jun26_jun26_2_medium_speed-cfr_port_2external_plus-101_jun28_port_2 PD .      0:00     1 (Priority)\n",
      "           1021038                        jun26_jun26_2_medium_speed-cfr_port_2external_plus-102_jun28_port_2 PD .      0:00     1 (Priority)\n",
      "           1021039                 jun26_jun26_0_grace_period-cfr_port_2outcome_lin_avg_plus-100_jun28_port_2 PD .      0:00     1 (Priority)\n",
      "           1021040                 jun26_jun26_0_grace_period-cfr_port_2outcome_lin_avg_plus-101_jun28_port_2 PD .      0:00     1 (Priority)\n",
      "           1021041                 jun26_jun26_0_grace_period-cfr_port_2outcome_lin_avg_plus-102_jun28_port_2 PD .      0:00     1 (Priority)\n",
      "           1021042                      jun26_jun26_0_grace_period-cfr_port_2outcome_lin_avg-100_jun28_port_2 PD .      0:00     1 (Priority)\n",
      "           1021043                      jun26_jun26_0_grace_period-cfr_port_2outcome_lin_avg-101_jun28_port_2 PD .      0:00     1 (Priority)\n",
      "           1021044                      jun26_jun26_0_grace_period-cfr_port_2outcome_lin_avg-102_jun28_port_2 PD .      0:00     1 (Priority)\n",
      "           1021045                        jun26_jun26_0_grace_period-cfr_port_2external_plus-100_jun28_port_2 PD .      0:00     1 (Priority)\n",
      "           1021046                        jun26_jun26_0_grace_period-cfr_port_2external_plus-101_jun28_port_2 PD .      0:00     1 (Priority)\n",
      "           1021047                        jun26_jun26_0_grace_period-cfr_port_2external_plus-102_jun28_port_2 PD .      0:00     1 (Priority)\n",
      "           1021048                 jun26_jun26_4_medium_speed-cfr_port_2outcome_lin_avg_plus-100_jun28_port_2 PD .      0:00     1 (Priority)\n",
      "           1021049                 jun26_jun26_4_medium_speed-cfr_port_2outcome_lin_avg_plus-101_jun28_port_2 PD .      0:00     1 (Priority)\n",
      "           1021050                 jun26_jun26_4_medium_speed-cfr_port_2outcome_lin_avg_plus-102_jun28_port_2 PD .      0:00     1 (Priority)\n",
      "           1021051                      jun26_jun26_4_medium_speed-cfr_port_2outcome_lin_avg-100_jun28_port_2 PD .      0:00     1 (Priority)\n",
      "           1021052                      jun26_jun26_4_medium_speed-cfr_port_2outcome_lin_avg-101_jun28_port_2 PD .      0:00     1 (Priority)\n",
      "           1021053                      jun26_jun26_4_medium_speed-cfr_port_2outcome_lin_avg-102_jun28_port_2 PD .      0:00     1 (Priority)\n",
      "           1021054                        jun26_jun26_4_medium_speed-cfr_port_2external_plus-100_jun28_port_2 PD .      0:00     1 (Priority)\n",
      "           1021055                        jun26_jun26_4_medium_speed-cfr_port_2external_plus-101_jun28_port_2 PD .      0:00     1 (Priority)\n",
      "           1021056                        jun26_jun26_4_medium_speed-cfr_port_2external_plus-102_jun28_port_2 PD .      0:00     1 (Priority)\n",
      "           1021057                 jun26_jun26_1_medium_speed-cfr_port_2outcome_lin_avg_plus-100_jun28_port_2 PD .      0:00     1 (Priority)\n",
      "           1021058                 jun26_jun26_1_medium_speed-cfr_port_2outcome_lin_avg_plus-101_jun28_port_2 PD .      0:00     1 (Priority)\n",
      "           1021059                 jun26_jun26_1_medium_speed-cfr_port_2outcome_lin_avg_plus-102_jun28_port_2 PD .      0:00     1 (Priority)\n",
      "           1021060                      jun26_jun26_1_medium_speed-cfr_port_2outcome_lin_avg-100_jun28_port_2 PD .      0:00     1 (Priority)\n",
      "           1021061                      jun26_jun26_1_medium_speed-cfr_port_2outcome_lin_avg-101_jun28_port_2 PD .      0:00     1 (Priority)\n",
      "           1021062                      jun26_jun26_1_medium_speed-cfr_port_2outcome_lin_avg-102_jun28_port_2 PD .      0:00     1 (Priority)\n",
      "           1021063                        jun26_jun26_1_medium_speed-cfr_port_2external_plus-100_jun28_port_2 PD .      0:00     1 (Priority)\n",
      "           1021064                        jun26_jun26_1_medium_speed-cfr_port_2external_plus-101_jun28_port_2 PD .      0:00     1 (Priority)\n",
      "           1021065                        jun26_jun26_1_medium_speed-cfr_port_2external_plus-102_jun28_port_2 PD .      0:00     1 (Priority)\n",
      "1020843_[18-24%16]                                                           job_ac-smc-jobs-ac-smc.yaml-0.sh PD .      0:00     1 (JobArrayTaskLimit)\n",
      "1020827_[18-24%16]                                                            job_ac-smc-jobs-p-smc.yaml-0.sh PD .      0:00     1 (JobArrayTaskLimit)\n",
      "           1020868                                                                 borg_train_anchor_model.sh PD .      0:00     1 (Resources)\n",
      "           1020869                                                                 borg_train_anchor_model.sh PD .      0:00     1 (Priority)\n",
      "           1020173                                                                                    jupyter  R .5-22:32:24     1 ada18\n",
      "           1020882                                                                                         sh  R .  12:30:18     1 snubfin0\n",
      "           1020876                                                                                         sh  R .  22:46:30     1 snubfin0\n",
      "           1020863                                                                                         sh  R .1-06:28:19     1 snubfin1\n",
      "           1020860                                                                                         sh  R .1-07:34:16     1 snubfin1\n",
      "           1019880                                                                                    Jupyter  R .6-13:00:03     1 ada17\n",
      "           1020988                              jun26_jun26_4_base-cfr_port_2outcome_lin_avg-100_jun28_port_2  R .  10:53:35     1 vickrey10\n",
      "           1020989                              jun26_jun26_4_base-cfr_port_2outcome_lin_avg-101_jun28_port_2  R .  10:53:35     1 vickrey10\n",
      "           1020985                         jun26_jun26_4_base-cfr_port_2outcome_lin_avg_plus-100_jun28_port_2  R .  10:53:38     1 vickrey09\n",
      "           1020986                         jun26_jun26_4_base-cfr_port_2outcome_lin_avg_plus-101_jun28_port_2  R .  10:53:38     1 vickrey10\n",
      "           1020987                         jun26_jun26_4_base-cfr_port_2outcome_lin_avg_plus-102_jun28_port_2  R .  10:53:38     1 vickrey10\n",
      "           1020983                                jun26_jun26_2_base-cfr_port_2external_plus-101_jun28_port_2  R .  10:53:41     1 vickrey09\n",
      "           1020984                                jun26_jun26_2_base-cfr_port_2external_plus-102_jun28_port_2  R .  10:53:41     1 vickrey09\n",
      "           1020980                              jun26_jun26_2_base-cfr_port_2outcome_lin_avg-101_jun28_port_2  R .  10:53:44     1 vickrey08\n",
      "           1020981                              jun26_jun26_2_base-cfr_port_2outcome_lin_avg-102_jun28_port_2  R .  10:53:44     1 vickrey08\n",
      "           1020982                                jun26_jun26_2_base-cfr_port_2external_plus-100_jun28_port_2  R .  10:53:44     1 vickrey09\n",
      "           1020978                         jun26_jun26_2_base-cfr_port_2outcome_lin_avg_plus-102_jun28_port_2  R .  10:53:47     1 vickrey08\n",
      "           1020979                              jun26_jun26_2_base-cfr_port_2outcome_lin_avg-100_jun28_port_2  R .  10:53:47     1 vickrey08\n",
      "           1020975                        jun26_jun26_0_medium_speed-cfr_port_2external_plus-102_jun28_port_2  R .  10:53:50     1 vickrey07\n",
      "           1020976                         jun26_jun26_2_base-cfr_port_2outcome_lin_avg_plus-100_jun28_port_2  R .  10:53:50     1 vickrey07\n",
      "           1020977                         jun26_jun26_2_base-cfr_port_2outcome_lin_avg_plus-101_jun28_port_2  R .  10:53:50     1 vickrey07\n",
      "           1020973                        jun26_jun26_0_medium_speed-cfr_port_2external_plus-100_jun28_port_2  R .  10:53:53     1 vickrey06\n",
      "           1020974                        jun26_jun26_0_medium_speed-cfr_port_2external_plus-101_jun28_port_2  R .  10:53:53     1 vickrey07\n",
      "           1020972                      jun26_jun26_0_medium_speed-cfr_port_2outcome_lin_avg-102_jun28_port_2  R .  10:53:56     1 vickrey06\n",
      "           1020970                      jun26_jun26_0_medium_speed-cfr_port_2outcome_lin_avg-100_jun28_port_2  R .  10:53:57     1 vickrey06\n",
      "           1020971                      jun26_jun26_0_medium_speed-cfr_port_2outcome_lin_avg-101_jun28_port_2  R .  10:53:57     1 vickrey06\n",
      "           1020968                 jun26_jun26_0_medium_speed-cfr_port_2outcome_lin_avg_plus-101_jun28_port_2  R .  10:53:59     1 vickrey05\n",
      "           1020969                 jun26_jun26_0_medium_speed-cfr_port_2outcome_lin_avg_plus-102_jun28_port_2  R .  10:53:59     1 vickrey05\n",
      "           1020965                          jun26_jun26_2_high_speed-cfr_port_2external_plus-101_jun28_port_2  R .  10:54:02     1 vickrey04\n",
      "           1020966                          jun26_jun26_2_high_speed-cfr_port_2external_plus-102_jun28_port_2  R .  10:54:02     1 vickrey05\n",
      "           1020967                 jun26_jun26_0_medium_speed-cfr_port_2outcome_lin_avg_plus-100_jun28_port_2  R .  10:54:02     1 vickrey05\n",
      "           1020963                        jun26_jun26_2_high_speed-cfr_port_2outcome_lin_avg-102_jun28_port_2  R .  10:54:05     1 vickrey04\n",
      "           1020964                          jun26_jun26_2_high_speed-cfr_port_2external_plus-100_jun28_port_2  R .  10:54:05     1 vickrey04\n",
      "           1020960                   jun26_jun26_2_high_speed-cfr_port_2outcome_lin_avg_plus-102_jun28_port_2  R .  10:54:08     1 vickrey03\n",
      "           1020961                        jun26_jun26_2_high_speed-cfr_port_2outcome_lin_avg-100_jun28_port_2  R .  10:54:08     1 vickrey03\n",
      "           1020962                        jun26_jun26_2_high_speed-cfr_port_2outcome_lin_avg-101_jun28_port_2  R .  10:54:08     1 vickrey04\n",
      "           1020958                   jun26_jun26_2_high_speed-cfr_port_2outcome_lin_avg_plus-100_jun28_port_2  R .  10:54:11     1 vickrey03\n",
      "           1020959                   jun26_jun26_2_high_speed-cfr_port_2outcome_lin_avg_plus-101_jun28_port_2  R .  10:54:11     1 vickrey03\n",
      "           1020955                        jun26_jun26_3_medium_speed-cfr_port_2external_plus-100_jun28_port_2  R .  10:54:14     1 vickrey02\n",
      "           1020956                        jun26_jun26_3_medium_speed-cfr_port_2external_plus-101_jun28_port_2  R .  10:54:14     1 vickrey02\n",
      "           1020957                        jun26_jun26_3_medium_speed-cfr_port_2external_plus-102_jun28_port_2  R .  10:54:14     1 vickrey02\n",
      "           1020954                      jun26_jun26_3_medium_speed-cfr_port_2outcome_lin_avg-102_jun28_port_2  R .  10:54:17     1 vickrey02\n",
      "           1020951                 jun26_jun26_3_medium_speed-cfr_port_2outcome_lin_avg_plus-102_jun28_port_2  R .  10:54:20     1 vickrey01\n",
      "           1020952                      jun26_jun26_3_medium_speed-cfr_port_2outcome_lin_avg-100_jun28_port_2  R .  10:54:20     1 vickrey01\n",
      "           1020953                      jun26_jun26_3_medium_speed-cfr_port_2outcome_lin_avg-101_jun28_port_2  R .  10:54:20     1 vickrey01\n",
      "           1020949                 jun26_jun26_3_medium_speed-cfr_port_2outcome_lin_avg_plus-100_jun28_port_2  R .  10:54:23     1 ada16\n",
      "           1020950                 jun26_jun26_3_medium_speed-cfr_port_2outcome_lin_avg_plus-101_jun28_port_2  R .  10:54:23     1 vickrey01\n",
      "           1020948                          jun26_jun26_0_high_speed-cfr_port_2external_plus-102_jun28_port_2  R .  10:54:26     1 ada16\n",
      "           1020946                          jun26_jun26_0_high_speed-cfr_port_2external_plus-100_jun28_port_2  R .  10:54:27     1 ada16\n",
      "           1020947                          jun26_jun26_0_high_speed-cfr_port_2external_plus-101_jun28_port_2  R .  10:54:27     1 ada16\n",
      "           1020944                        jun26_jun26_0_high_speed-cfr_port_2outcome_lin_avg-101_jun28_port_2  R .  10:54:29     1 ada15\n",
      "           1020945                        jun26_jun26_0_high_speed-cfr_port_2outcome_lin_avg-102_jun28_port_2  R .  10:54:29     1 ada15\n",
      "           1020941                   jun26_jun26_0_high_speed-cfr_port_2outcome_lin_avg_plus-101_jun28_port_2  R .  10:54:32     1 ada14\n",
      "           1020942                   jun26_jun26_0_high_speed-cfr_port_2outcome_lin_avg_plus-102_jun28_port_2  R .  10:54:32     1 ada15\n",
      "           1020943                        jun26_jun26_0_high_speed-cfr_port_2outcome_lin_avg-100_jun28_port_2  R .  10:54:32     1 ada15\n",
      "           1020939                                jun26_jun26_3_base-cfr_port_2external_plus-102_jun28_port_2  R .  10:54:35     1 ada14\n",
      "           1020940                   jun26_jun26_0_high_speed-cfr_port_2outcome_lin_avg_plus-100_jun28_port_2  R .  10:54:35     1 ada14\n",
      "           1020937                                jun26_jun26_3_base-cfr_port_2external_plus-100_jun28_port_2  R .  10:54:38     1 ada13\n",
      "           1020938                                jun26_jun26_3_base-cfr_port_2external_plus-101_jun28_port_2  R .  10:54:38     1 ada14\n",
      "           1020935                              jun26_jun26_3_base-cfr_port_2outcome_lin_avg-101_jun28_port_2  R .  10:54:41     1 ada13\n",
      "           1020936                              jun26_jun26_3_base-cfr_port_2outcome_lin_avg-102_jun28_port_2  R .  10:54:41     1 ada13\n",
      "           1020932                         jun26_jun26_3_base-cfr_port_2outcome_lin_avg_plus-101_jun28_port_2  R .  10:54:44     1 ada12\n",
      "           1020933                         jun26_jun26_3_base-cfr_port_2outcome_lin_avg_plus-102_jun28_port_2  R .  10:54:44     1 ada12\n",
      "           1020934                              jun26_jun26_3_base-cfr_port_2outcome_lin_avg-100_jun28_port_2  R .  10:54:44     1 ada13\n",
      "           1020930                          jun26_jun26_4_high_speed-cfr_port_2external_plus-102_jun28_port_2  R .  10:54:47     1 ada12\n",
      "           1020931                         jun26_jun26_3_base-cfr_port_2outcome_lin_avg_plus-100_jun28_port_2  R .  10:54:47     1 ada12\n",
      "           1020927                        jun26_jun26_4_high_speed-cfr_port_2outcome_lin_avg-102_jun28_port_2  R .  10:54:50     1 ada11\n",
      "           1020928                          jun26_jun26_4_high_speed-cfr_port_2external_plus-100_jun28_port_2  R .  10:54:50     1 ada11\n",
      "           1020929                          jun26_jun26_4_high_speed-cfr_port_2external_plus-101_jun28_port_2  R .  10:54:50     1 ada11\n",
      "           1020925                        jun26_jun26_4_high_speed-cfr_port_2outcome_lin_avg-100_jun28_port_2  R .  10:54:53     1 ada10\n",
      "           1020926                        jun26_jun26_4_high_speed-cfr_port_2outcome_lin_avg-101_jun28_port_2  R .  10:54:53     1 ada11\n",
      "           1020924                   jun26_jun26_4_high_speed-cfr_port_2outcome_lin_avg_plus-102_jun28_port_2  R .  10:54:56     1 ada10\n",
      "           1020922                   jun26_jun26_4_high_speed-cfr_port_2outcome_lin_avg_plus-100_jun28_port_2  R .  10:54:57     1 ada10\n",
      "           1020923                   jun26_jun26_4_high_speed-cfr_port_2outcome_lin_avg_plus-101_jun28_port_2  R .  10:54:57     1 ada10\n",
      "           1020919                        jun26_jun26_4_grace_period-cfr_port_2external_plus-100_jun28_port_2  R .  10:54:59     1 ada09\n",
      "           1020920                        jun26_jun26_4_grace_period-cfr_port_2external_plus-101_jun28_port_2  R .  10:54:59     1 ada09\n",
      "           1020921                        jun26_jun26_4_grace_period-cfr_port_2external_plus-102_jun28_port_2  R .  10:54:59     1 ada09\n",
      "           1020917                      jun26_jun26_4_grace_period-cfr_port_2outcome_lin_avg-101_jun28_port_2  R .  10:55:02     1 ada08\n",
      "           1020918                      jun26_jun26_4_grace_period-cfr_port_2outcome_lin_avg-102_jun28_port_2  R .  10:55:02     1 ada09\n",
      "           1020915                 jun26_jun26_4_grace_period-cfr_port_2outcome_lin_avg_plus-102_jun28_port_2  R .  10:55:05     1 ada08\n",
      "           1020916                      jun26_jun26_4_grace_period-cfr_port_2outcome_lin_avg-100_jun28_port_2  R .  10:55:05     1 ada08\n",
      "           1020912                        jun26_jun26_1_grace_period-cfr_port_2external_plus-102_jun28_port_2  R .  10:55:08     1 ada07\n",
      "           1020913                 jun26_jun26_4_grace_period-cfr_port_2outcome_lin_avg_plus-100_jun28_port_2  R .  10:55:08     1 ada07\n",
      "           1020914                 jun26_jun26_4_grace_period-cfr_port_2outcome_lin_avg_plus-101_jun28_port_2  R .  10:55:08     1 ada08\n",
      "           1020910                        jun26_jun26_1_grace_period-cfr_port_2external_plus-100_jun28_port_2  R .  10:55:11     1 ada07\n",
      "           1020911                        jun26_jun26_1_grace_period-cfr_port_2external_plus-101_jun28_port_2  R .  10:55:11     1 ada07\n",
      "           1020907                      jun26_jun26_1_grace_period-cfr_port_2outcome_lin_avg-100_jun28_port_2  R .  10:55:14     1 ada06\n",
      "           1020908                      jun26_jun26_1_grace_period-cfr_port_2outcome_lin_avg-101_jun28_port_2  R .  10:55:14     1 ada06\n",
      "           1020909                      jun26_jun26_1_grace_period-cfr_port_2outcome_lin_avg-102_jun28_port_2  R .  10:55:14     1 ada06\n",
      "           1020905                 jun26_jun26_1_grace_period-cfr_port_2outcome_lin_avg_plus-101_jun28_port_2  R .  10:55:17     1 ada05\n",
      "           1020906                 jun26_jun26_1_grace_period-cfr_port_2outcome_lin_avg_plus-102_jun28_port_2  R .  10:55:17     1 ada06\n",
      "           1020903                                jun26_jun26_1_base-cfr_port_2external_plus-102_jun28_port_2  R .  10:55:20     1 ada05\n",
      "           1020904                 jun26_jun26_1_grace_period-cfr_port_2outcome_lin_avg_plus-100_jun28_port_2  R .  10:55:20     1 ada05\n",
      "           1020901                                jun26_jun26_1_base-cfr_port_2external_plus-100_jun28_port_2  R .  10:55:23     1 ada04\n",
      "           1020902                                jun26_jun26_1_base-cfr_port_2external_plus-101_jun28_port_2  R .  10:55:23     1 ada05\n",
      "           1020900                              jun26_jun26_1_base-cfr_port_2outcome_lin_avg-102_jun28_port_2  R .  10:55:26     1 ada04\n",
      "           1020898                              jun26_jun26_1_base-cfr_port_2outcome_lin_avg-100_jun28_port_2  R .  10:55:27     1 ada04\n",
      "           1020899                              jun26_jun26_1_base-cfr_port_2outcome_lin_avg-101_jun28_port_2  R .  10:55:27     1 ada04\n",
      "           1020896                         jun26_jun26_1_base-cfr_port_2outcome_lin_avg_plus-101_jun28_port_2  R .  10:55:29     1 ada03\n",
      "           1020897                         jun26_jun26_1_base-cfr_port_2outcome_lin_avg_plus-102_jun28_port_2  R .  10:55:29     1 ada03\n",
      "           1020894                          jun26_jun26_1_high_speed-cfr_port_2external_plus-102_jun28_port_2  R .  10:55:32     1 ada03\n",
      "           1020895                         jun26_jun26_1_base-cfr_port_2outcome_lin_avg_plus-100_jun28_port_2  R .  10:55:32     1 ada03\n",
      "           1020892                          jun26_jun26_1_high_speed-cfr_port_2external_plus-100_jun28_port_2  R .  10:55:35     1 ada02\n",
      "           1020893                          jun26_jun26_1_high_speed-cfr_port_2external_plus-101_jun28_port_2  R .  10:55:35     1 ada02\n",
      "           1020889                        jun26_jun26_1_high_speed-cfr_port_2outcome_lin_avg-100_jun28_port_2  R .  10:55:38     1 ada01\n",
      "           1020890                        jun26_jun26_1_high_speed-cfr_port_2outcome_lin_avg-101_jun28_port_2  R .  10:55:38     1 ada02\n",
      "           1020891                        jun26_jun26_1_high_speed-cfr_port_2outcome_lin_avg-102_jun28_port_2  R .  10:55:38     1 ada02\n",
      "           1020887                   jun26_jun26_1_high_speed-cfr_port_2outcome_lin_avg_plus-101_jun28_port_2  R .  10:55:41     1 ada01\n",
      "           1020888                   jun26_jun26_1_high_speed-cfr_port_2outcome_lin_avg_plus-102_jun28_port_2  R .  10:55:41     1 ada01\n",
      "           1020886                   jun26_jun26_1_high_speed-cfr_port_2outcome_lin_avg_plus-100_jun28_port_2  R .  10:55:44     1 ada01\n",
      "           1020574                                                                                         sh  R .2-04:41:20     1 snubfin0\n",
      "           1020565                                                                                  job_17.sh  R .1-11:05:07     1 plai02\n",
      "           1020567                                                                                  job_19.sh  R .1-11:05:07     1 plai02\n",
      "           1020555                                                                                   job_7.sh  R .2-08:48:16     1 plai12\n",
      "           1020551                                                                                   job_3.sh  R .2-08:48:55     1 plai06\n",
      "           1020552                                                                                   job_4.sh  R .2-08:48:55     1 plai06\n",
      "           1020553                                                                                   job_5.sh  R .2-08:48:55     1 plai06\n",
      "        1020827_17                                                            job_ac-smc-jobs-p-smc.yaml-0.sh  R .   1:58:10     1 plai11\n",
      "         1020844_5                                                            job_ac-smc-jobs-c-smc.yaml-0.sh  R .   2:01:10     1 plai05\n",
      "         1020844_4                                                            job_ac-smc-jobs-c-smc.yaml-0.sh  R .   4:05:34     1 plai05\n",
      "        1020843_17                                                           job_ac-smc-jobs-ac-smc.yaml-0.sh  R .  10:43:02     1 plai07\n",
      "         1020844_2                                                            job_ac-smc-jobs-c-smc.yaml-0.sh  R .  11:24:08     1 plai05\n",
      "         1020844_1                                                            job_ac-smc-jobs-c-smc.yaml-0.sh  R .  12:31:18     1 plai06\n",
      "         1020844_0                                                            job_ac-smc-jobs-c-smc.yaml-0.sh  R .  14:58:00     1 plai05\n",
      "        1020827_16                                                            job_ac-smc-jobs-p-smc.yaml-0.sh  R .  17:22:36     1 plai04\n",
      "        1020843_16                                                           job_ac-smc-jobs-ac-smc.yaml-0.sh  R .  21:16:28     1 plai10\n",
      "        1020843_15                                                           job_ac-smc-jobs-ac-smc.yaml-0.sh  R .  22:45:13     1 plai10\n",
      "        1020843_14                                                           job_ac-smc-jobs-ac-smc.yaml-0.sh  R .  23:45:02     1 plai10\n",
      "        1020843_13                                                           job_ac-smc-jobs-ac-smc.yaml-0.sh  R .1-00:34:07     1 plai12\n",
      "        1020843_12                                                           job_ac-smc-jobs-ac-smc.yaml-0.sh  R .1-01:10:33     1 plai10\n",
      "        1020843_11                                                           job_ac-smc-jobs-ac-smc.yaml-0.sh  R .1-09:42:54     1 plai07\n",
      "        1020827_15                                                            job_ac-smc-jobs-p-smc.yaml-0.sh  R .1-11:03:35     1 plai09\n",
      "         1020843_8                                                           job_ac-smc-jobs-ac-smc.yaml-0.sh  R .1-11:03:25     1 plai07\n",
      "        1020843_10                                                           job_ac-smc-jobs-ac-smc.yaml-0.sh  R .1-11:03:25     1 plai07\n",
      "         1020843_0                                                           job_ac-smc-jobs-ac-smc.yaml-0.sh  R .1-11:03:35     1 plai09\n",
      "         1020843_1                                                           job_ac-smc-jobs-ac-smc.yaml-0.sh  R .1-11:03:35     1 plai09\n",
      "         1020843_2                                                           job_ac-smc-jobs-ac-smc.yaml-0.sh  R .1-11:03:35     1 plai09\n",
      "         1020843_3                                                           job_ac-smc-jobs-ac-smc.yaml-0.sh  R .1-11:03:35     1 plai03\n",
      "         1020843_4                                                           job_ac-smc-jobs-ac-smc.yaml-0.sh  R .1-11:03:35     1 plai03\n",
      "         1020843_5                                                           job_ac-smc-jobs-ac-smc.yaml-0.sh  R .1-11:03:35     1 plai03\n",
      "         1020843_6                                                           job_ac-smc-jobs-ac-smc.yaml-0.sh  R .1-11:03:35     1 plai03\n",
      "         1020827_0                                                            job_ac-smc-jobs-p-smc.yaml-0.sh  R .1-11:03:55     1 plai01\n",
      "         1020827_1                                                            job_ac-smc-jobs-p-smc.yaml-0.sh  R .1-11:03:55     1 plai04\n",
      "         1020827_3                                                            job_ac-smc-jobs-p-smc.yaml-0.sh  R .1-11:03:55     1 plai04\n",
      "         1020827_4                                                            job_ac-smc-jobs-p-smc.yaml-0.sh  R .1-11:03:55     1 plai04\n",
      "         1020827_5                                                            job_ac-smc-jobs-p-smc.yaml-0.sh  R .1-11:03:55     1 plai08\n",
      "         1020827_6                                                            job_ac-smc-jobs-p-smc.yaml-0.sh  R .1-11:03:55     1 plai08\n",
      "         1020827_7                                                            job_ac-smc-jobs-p-smc.yaml-0.sh  R .1-11:03:55     1 plai08\n",
      "         1020827_8                                                            job_ac-smc-jobs-p-smc.yaml-0.sh  R .1-11:03:55     1 plai08\n",
      "         1020827_9                                                            job_ac-smc-jobs-p-smc.yaml-0.sh  R .1-11:03:55     1 plai12\n",
      "        1020827_10                                                            job_ac-smc-jobs-p-smc.yaml-0.sh  R .1-11:03:55     1 plai12\n",
      "        1020827_11                                                            job_ac-smc-jobs-p-smc.yaml-0.sh  R .1-11:03:55     1 plai11\n",
      "        1020827_12                                                            job_ac-smc-jobs-p-smc.yaml-0.sh  R .1-11:03:55     1 plai11\n",
      "        1020827_13                                                            job_ac-smc-jobs-p-smc.yaml-0.sh  R .1-11:03:55     1 plai11\n",
      "         1020823_0                                                              job_ac-smc-jobs-smc.yaml-0.sh  R .1-11:04:10     1 plai01\n",
      "         1020823_1                                                              job_ac-smc-jobs-smc.yaml-0.sh  R .1-11:04:10     1 plai01\n",
      "         1020823_2                                                              job_ac-smc-jobs-smc.yaml-0.sh  R .1-11:04:10     1 plai01\n",
      "           1020870                                                                                         sh  R .1-02:13:34     1 edith1\n",
      "           1018297                                                                                         sh  R .23-08:23:39     1 friday\n",
      "           1018302                                                                                         sh  R .23-05:32:15     1 jarvis4\n",
      "           1018502                                                                                         sh  R .19-09:32:28     2 edith[2-3]\n",
      "           1018501                                                                                         sh  R .19-09:32:39     1 edith3\n",
      "           1018500                                                                                         sh  R .19-09:32:52     1 friday\n",
      "           1020172                                                                                         sh  R .5-23:01:18     1 edith4\n",
      "           1020568                                                                                         sh  R .2-22:39:14     1 edith2\n",
      "           1020569                                                                                         sh  R .2-22:39:14     1 edith2\n",
      "           1019495                                                                                         sh  R .8-03:53:15     1 edith4\n",
      "           1019493                                                                                         sh  R .8-04:37:06     1 jarvis3\n",
      "           1019492                                                                                         sh  R .8-04:42:21     1 jarvis2\n",
      "           1019491                                                                                         sh  R .8-04:52:39     1 jarvis1\n"
     ]
    }
   ],
   "source": [
    "!squeue --format=\"%.18i %.90j %.2t .%.10M%.6D %R\""
   ]
  },
  {
   "cell_type": "code",
   "execution_count": 18,
   "id": "0e80d410-986b-42a1-9d49-1035ef103a0a",
   "metadata": {},
   "outputs": [],
   "source": [
    "# def check_queue():\n",
    "#     !ssh borg.cs.ubc.ca '/opt/slurm/bin/squeue -u newmanne --format=\"%.18i %.90j %.2t .%.10M %.6D %R\"'\n"
   ]
  },
  {
   "cell_type": "code",
   "execution_count": null,
   "id": "3e5c26b7-d158-4ece-a72a-c3b2fd47a56f",
   "metadata": {
    "tags": []
   },
   "outputs": [],
   "source": [
    "check_queue()"
   ]
  },
  {
   "cell_type": "code",
   "execution_count": 21,
   "id": "4373a898-f0f4-4cf6-836b-648c9541a6fb",
   "metadata": {},
   "outputs": [
    {
     "name": "stdout",
     "output_type": "stream",
     "text": [
      "             JOBID                                                                                       NAME ST .      TIME  NODES NODELIST(REASON)\n",
      "           1020173                                                                                    jupyter  R .3-22:37:48      1 ada18\n"
     ]
    }
   ],
   "source": [
    "!squeue -u newmanne --format=\"%.18i %.90j %.2t .%.10M %.6D %R\""
   ]
  },
  {
   "cell_type": "code",
   "execution_count": null,
   "id": "a8ee533f-357a-4bbc-956e-1cf136ef9266",
   "metadata": {},
   "outputs": [],
   "source": [
    "!squeue | wc -l"
   ]
  },
  {
   "cell_type": "code",
   "execution_count": null,
   "id": "a8b665af-771f-44c1-8065-4928e1e5ac91",
   "metadata": {},
   "outputs": [],
   "source": [
    "!squeue | grep \"may30\" | wc -l"
   ]
  },
  {
   "cell_type": "code",
   "execution_count": null,
   "id": "c26b508d-9ee0-4878-9aa1-68c611ab651a",
   "metadata": {},
   "outputs": [],
   "source": [
    "!scancel -u ubuntu"
   ]
  },
  {
   "cell_type": "code",
   "execution_count": null,
   "id": "aee5cc7e-228c-4484-bb31-efb870f59efa",
   "metadata": {},
   "outputs": [],
   "source": [
    "# !scancel  46891 46893"
   ]
  },
  {
   "cell_type": "code",
   "execution_count": null,
   "id": "3aeeeeb6-6c6f-4e37-9566-3eb8d73d97d5",
   "metadata": {},
   "outputs": [],
   "source": [
    "!rm -rf /shared/outputs/minitest/\n",
    "try:\n",
    "    Experiment.objects.get(name='minitest').delete()\n",
    "except:\n",
    "    pass\n",
    "dispatch.dispatch_experiments('feb2', base_job_name='minitest', game_name='tiny', overrides = '--br_portfolio_path feb2 --eval_every 500 --num_training_episodes 1_000 --br_overrides \"--num_training_episodes 1_000\" --eval_overrides \"--num_samples 100\"')"
   ]
  },
  {
   "cell_type": "code",
   "execution_count": null,
   "id": "d4ca4c72-ce03-4d1a-8e9d-1abd642e8407",
   "metadata": {},
   "outputs": [],
   "source": [
    "BestResponse.objects.last()"
   ]
  },
  {
   "cell_type": "code",
   "execution_count": null,
   "id": "da1b3451-a927-4467-a90d-077f2de61767",
   "metadata": {},
   "outputs": [],
   "source": [
    "Experiment.objects.all()"
   ]
  },
  {
   "cell_type": "code",
   "execution_count": null,
   "id": "0547418d-7d14-404e-ad7f-892180cd6e50",
   "metadata": {},
   "outputs": [],
   "source": [
    "!sacct --starttime 2022-03-11 --format=User,JobID,Jobname,partition,state,time,start,end,elapsed,MaxRss,MaxVMSize,nnodes,ncpus,nodelist"
   ]
  },
  {
   "cell_type": "code",
   "execution_count": null,
   "id": "2fc59f9d-3861-481c-bcd2-68c25e19267a",
   "metadata": {},
   "outputs": [],
   "source": [
    "Evaluation.objects.last()"
   ]
  },
  {
   "cell_type": "code",
   "execution_count": null,
   "id": "eda9b8b7-ea2f-41b0-a527-4460fb8249fc",
   "metadata": {},
   "outputs": [],
   "source": [
    "os.system(\"ssh borg.cs.ubc.ca '/opt/slurm/bin/sbatch'\")"
   ]
  },
  {
   "cell_type": "code",
   "execution_count": null,
   "id": "b70ae116-1e70-4d32-8405-b479041c18b5",
   "metadata": {},
   "outputs": [],
   "source": [
    "!squeue --format=\"%.18i %.65j %.2t %.10M %.6D %R\" | grep \"eval\" | awk '{print $1}' | xargs scancel"
   ]
  },
  {
   "cell_type": "code",
   "execution_count": null,
   "id": "d6b4808f-f9ca-4e51-8a92-4445dfb6f883",
   "metadata": {},
   "outputs": [],
   "source": [
    "from compress_pickle import dumps, loads\n"
   ]
  },
  {
   "cell_type": "code",
   "execution_count": null,
   "id": "a9b6c536-b575-48e7-8bd9-8b28e9a9619a",
   "metadata": {},
   "outputs": [],
   "source": [
    "loads?"
   ]
  },
  {
   "cell_type": "code",
   "execution_count": null,
   "id": "27346459-d529-47b5-b84f-32511d1b809f",
   "metadata": {},
   "outputs": [],
   "source": [
    "from compress_pickle.compressers.registry import get_known_compressions"
   ]
  },
  {
   "cell_type": "code",
   "execution_count": null,
   "id": "89557fb5-e0fb-471c-80f4-e7d8d4b76abb",
   "metadata": {},
   "outputs": [],
   "source": [
    "get_known_compressions()"
   ]
  },
  {
   "cell_type": "code",
   "execution_count": null,
   "id": "2b42e2b0-3412-46ed-8a7f-7539bc84f752",
   "metadata": {},
   "outputs": [],
   "source": [
    "x = EquilibriumSolverRunCheckpoint.objects.last().policy"
   ]
  },
  {
   "cell_type": "code",
   "execution_count": null,
   "id": "52401c72-bb34-41be-b7f0-a0c9479f60ff",
   "metadata": {},
   "outputs": [],
   "source": [
    "len(x)"
   ]
  },
  {
   "cell_type": "code",
   "execution_count": null,
   "id": "c19c4b6d-95b9-4730-9f52-66ef55bc2b2d",
   "metadata": {},
   "outputs": [],
   "source": [
    "len(dumps(pickle.loads(x), compression='bz2'))"
   ]
  },
  {
   "cell_type": "code",
   "execution_count": null,
   "id": "3b5590c1-0f89-4562-abdb-d9683160d40c",
   "metadata": {},
   "outputs": [],
   "source": [
    "len(pickle.dumps(pickle.loads(x)))"
   ]
  },
  {
   "cell_type": "code",
   "execution_count": null,
   "id": "0a3eae12-4643-46f1-a4ed-a72b4a18a44f",
   "metadata": {},
   "outputs": [],
   "source": [
    "EquilibriumSolverRunCheckpoint.objects.last().walltime"
   ]
  },
  {
   "cell_type": "code",
   "execution_count": null,
   "id": "33a4992c-5f4f-44df-a3cb-6f2a2bd15b6b",
   "metadata": {},
   "outputs": [],
   "source": [
    "EquilibriumSolverRunCheckpoint.objects.last().t"
   ]
  },
  {
   "cell_type": "code",
   "execution_count": null,
   "id": "cc544fd9-ad6f-4616-b8e6-8881a66bb7c2",
   "metadata": {},
   "outputs": [],
   "source": []
  }
 ],
 "metadata": {
  "kernelspec": {
   "display_name": "Django Shell-Plus",
   "language": "python",
   "name": "django_extensions"
  },
  "language_info": {
   "codemirror_mode": {
    "name": "ipython",
    "version": 3
   },
   "file_extension": ".py",
   "mimetype": "text/x-python",
   "name": "python",
   "nbconvert_exporter": "python",
   "pygments_lexer": "ipython3",
   "version": "3.8.2"
  }
 },
 "nbformat": 4,
 "nbformat_minor": 5
}
