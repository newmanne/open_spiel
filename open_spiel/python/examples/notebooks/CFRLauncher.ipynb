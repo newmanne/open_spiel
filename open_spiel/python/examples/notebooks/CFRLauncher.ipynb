{
 "cells": [
  {
   "cell_type": "code",
   "execution_count": 1,
   "id": "e6f6eef1-52e3-4ff5-af4b-2d5b933ad90b",
   "metadata": {},
   "outputs": [
    {
     "name": "stdout",
     "output_type": "stream",
     "text": [
      "%pylab is deprecated, use %matplotlib inline and import the required libraries.\n",
      "Populating the interactive namespace from numpy and matplotlib\n"
     ]
    }
   ],
   "source": [
    "%load_ext autoreload\n",
    "%autoreload 2\n",
    "%pylab inline"
   ]
  },
  {
   "cell_type": "code",
   "execution_count": 2,
   "id": "53d1f915-16a6-42e9-b93a-3f44564ef069",
   "metadata": {},
   "outputs": [],
   "source": [
    "import sys\n",
    "import glob\n",
    "import pandas as pd\n",
    "import os\n",
    "import seaborn as sns\n",
    "from tqdm import tqdm_notebook as tqdm\n",
    "from statsmodels.distributions.empirical_distribution import ECDF\n",
    "from collections import defaultdict\n",
    "import open_spiel.python.examples.ubc_dispatch as dispatch\n",
    "import os\n",
    "os.environ[\"DJANGO_ALLOW_ASYNC_UNSAFE\"] = \"true\"\n",
    "from sklearn.model_selection import ParameterGrid\n",
    "from pathlib import Path\n",
    "import torch.nn.functional as F\n",
    "import torch\n",
    "import pickle\n"
   ]
  },
  {
   "cell_type": "code",
   "execution_count": 3,
   "id": "a963cf68-f084-47bc-86bf-23882e77f392",
   "metadata": {},
   "outputs": [],
   "source": [
    "game_dir = os.environ[\"CLOCK_AUCTION_CONFIG_DIR\"]"
   ]
  },
  {
   "cell_type": "code",
   "execution_count": 41,
   "id": "48036c62-68f7-4580-82c3-0da36da9c6b4",
   "metadata": {},
   "outputs": [
    {
     "name": "stdout",
     "output_type": "stream",
     "text": [
      "['jun26/jun26_3_spite_grace', 'jun26/jun26_4_risk_averse_tie_break', 'aug31/aug31_0_hide_demand', 'jun26/jun26_0_hide_demand', 'jun26/jun26_2_risk_averse', 'aug31/aug31_4_undersell_allowed', 'aug31/aug31_3_tie_break', 'jun26/jun26_4_hide_demand', 'jun26/jun26_3_spite', 'aug31/aug31_2_undersell_allowed', 'jun26/jun26_3_undersell_allowed', 'jun26/jun26_1_spite', 'aug31/aug31_4_risk_averse_tie_break', 'aug31/aug31_2_risk_averse_tie_break', 'jun26/jun26_2_tie_break', 'jun26/jun26_0_undersell_allowed', 'jun26/jun26_4_tie_break', 'jun26/jun26_1_tie_break', 'jun26/jun26_3_risk_averse_tie_break', 'jun26/jun26_3_tie_break', 'jun26/jun26_0_spite', 'aug31/aug31_0_undersell_allowed', 'jun26/jun26_4_risk_averse', 'jun26/jun26_1_spite_grace', 'aug31/aug31_1_hide_demand', 'aug31/aug31_2_spite', 'aug31/aug31_4_tie_break', 'jun26/jun26_1_risk_averse', 'jun26/jun26_2_undersell_allowed', 'aug31/aug31_3_risk_averse_tie_break', 'jun26/jun26_1_risk_averse_tie_break', 'aug31/aug31_0_spite', 'jun26/jun26_3_hide_demand', 'aug31/aug31_4_spite', 'jun26/jun26_2_spite_grace', 'aug31/aug31_1_risk_averse', 'aug31/aug31_2_risk_averse', 'aug31/aug31_1_tie_break', 'aug31/aug31_0_tie_break', 'aug31/aug31_4_spite_grace', 'aug31/aug31_3_risk_averse', 'aug31/aug31_2_tie_break', 'jun26/jun26_4_undersell_allowed', 'aug31/aug31_3_spite_grace', 'aug31/aug31_2_hide_demand', 'jun26/jun26_4_spite_grace', 'aug31/aug31_0_spite_grace', 'jun26/jun26_2_risk_averse_tie_break', 'jun26/jun26_0_risk_averse_tie_break', 'aug31/aug31_1_risk_averse_tie_break', 'aug31/aug31_0_risk_averse_tie_break', 'jun26/jun26_1_undersell_allowed', 'aug31/aug31_4_hide_demand', 'aug31/aug31_1_undersell_allowed', 'aug31/aug31_3_spite', 'aug31/aug31_2_spite_grace', 'aug31/aug31_3_hide_demand', 'aug31/aug31_4_risk_averse', 'jun26/jun26_0_tie_break', 'aug31/aug31_0_risk_averse', 'jun26/jun26_2_hide_demand', 'aug31/aug31_1_spite', 'jun26/jun26_0_risk_averse', 'aug31/aug31_3_undersell_allowed', 'jun26/jun26_0_spite_grace', 'jun26/jun26_1_hide_demand', 'jun26/jun26_4_spite', 'jun26/jun26_3_risk_averse', 'aug31/aug31_1_spite_grace', 'jun26/jun26_2_spite']\n"
     ]
    }
   ],
   "source": [
    "sats_games = []\n",
    "PREFIXES = ['jun26', 'aug31']\n",
    "for prefix in PREFIXES:\n",
    "    sats_games += [f'{prefix}/' + os.path.basename(x).replace('.json','') for x in glob.glob(f'{game_dir}/{prefix}/*')]\n",
    "    \n",
    "done = set([s for s in sats_games if ('base' in s or 'speed' in s) and 'spite' not in s and 'risk' not in s] \\\n",
    "    + [s for s in sats_games if ('activity' in s) or ('grace' in s and not 'spite' in s)])\n",
    "sats_games = list(set(sats_games) - done)\n",
    "print(sats_games)"
   ]
  },
  {
   "cell_type": "markdown",
   "id": "01e19a7a-7d0c-4d03-963f-2265e950bf0b",
   "metadata": {},
   "source": [
    "# For running the real dumb test case"
   ]
  },
  {
   "cell_type": "code",
   "execution_count": 46,
   "id": "ff77dd62-1983-4468-9c31-fd042294ca5c",
   "metadata": {},
   "outputs": [
    {
     "name": "stdout",
     "output_type": "stream",
     "text": [
      "70\n"
     ]
    }
   ],
   "source": [
    "pgrid = ParameterGrid([\n",
    "    {\n",
    "        # Defaults\n",
    "        'game': [g for g in sats_games]# if 'hide' not in g and 'imperfect' not in g]\n",
    "    },\n",
    "])\n",
    "print(len(pgrid))"
   ]
  },
  {
   "cell_type": "code",
   "execution_count": null,
   "id": "ef682f8a-a882-4937-8b86-21a03ee10607",
   "metadata": {},
   "outputs": [],
   "source": [
    "# num_iters = 999_000_000\n",
    "# time_limit_seconds = int(3600 * 0.5)\n",
    "# for config in pgrid:\n",
    "#     CONFIG = 'cfr_init_2' # The YML network config folder for the main jobs\n",
    "#     N_SEEDS = 1 # Number of seeds of each experiment to launch\n",
    "#     extra_name = ''\n",
    "#     overrides = f'--overwrite_db True --eval_every 999_999_000 --eval_zero false --total_timesteps {num_iters} --dispatch_br false --report_freq 5000 --time_limit_seconds {time_limit_seconds}'      \n",
    "#     dispatch.dispatch_experiments(CONFIG, base_job_name='jun24_cfr_gamut_7', game_name=config['game'], overrides=overrides, n_seeds=N_SEEDS, extra_name=extra_name, alg='cfr')"
   ]
  },
  {
   "cell_type": "code",
   "execution_count": 43,
   "id": "57ec9e6b-aeae-48e2-94e6-43d066a0db1a",
   "metadata": {},
   "outputs": [
    {
     "name": "stdout",
     "output_type": "stream",
     "text": [
      "Submitted batch job 93193\n",
      "Submitted batch job 93194\n",
      "Submitted batch job 93195\n",
      "Submitted batch job 93196\n",
      "Submitted batch job 93197\n",
      "Submitted batch job 93198\n",
      "Submitted batch job 93199\n",
      "Submitted batch job 93200\n",
      "Submitted batch job 93201\n",
      "Submitted batch job 93202\n",
      "Submitted batch job 93203\n",
      "Submitted batch job 93204\n",
      "Submitted batch job 93205\n",
      "Submitted batch job 93206\n",
      "Submitted batch job 93207\n",
      "Submitted batch job 93208\n",
      "Submitted batch job 93209\n",
      "Submitted batch job 93210\n",
      "Submitted batch job 93211\n",
      "Submitted batch job 93212\n",
      "Submitted batch job 93213\n",
      "Submitted batch job 93214\n",
      "Submitted batch job 93215\n",
      "Submitted batch job 93216\n",
      "Submitted batch job 93217\n",
      "Submitted batch job 93218\n",
      "Submitted batch job 93219\n",
      "Submitted batch job 93220\n",
      "Submitted batch job 93221\n",
      "Submitted batch job 93222\n",
      "Submitted batch job 93223\n",
      "Submitted batch job 93224\n",
      "Submitted batch job 93225\n",
      "Submitted batch job 93226\n",
      "Submitted batch job 93227\n",
      "Submitted batch job 93228\n",
      "Submitted batch job 93229\n",
      "Submitted batch job 93230\n",
      "Submitted batch job 93231\n",
      "Submitted batch job 93232\n",
      "Submitted batch job 93233\n",
      "Submitted batch job 93234\n",
      "Submitted batch job 93235\n",
      "Submitted batch job 93236\n",
      "Submitted batch job 93237\n",
      "Submitted batch job 93238\n",
      "Submitted batch job 93239\n",
      "Submitted batch job 93240\n",
      "Submitted batch job 93241\n",
      "Submitted batch job 93242\n",
      "Submitted batch job 93243\n",
      "Submitted batch job 93244\n",
      "Submitted batch job 93245\n",
      "Submitted batch job 93246\n",
      "Submitted batch job 93247\n",
      "Submitted batch job 93248\n",
      "Submitted batch job 93249\n",
      "Submitted batch job 93250\n",
      "Submitted batch job 93251\n",
      "Submitted batch job 93252\n",
      "Submitted batch job 93253\n",
      "Submitted batch job 93254\n",
      "Submitted batch job 93255\n",
      "Submitted batch job 93256\n",
      "Submitted batch job 93257\n",
      "Submitted batch job 93258\n",
      "Submitted batch job 93259\n",
      "Submitted batch job 93260\n",
      "Submitted batch job 93261\n",
      "Submitted batch job 93262\n",
      "Submitted batch job 93263\n",
      "Submitted batch job 93264\n",
      "Submitted batch job 93265\n",
      "Submitted batch job 93266\n",
      "Submitted batch job 93267\n",
      "Submitted batch job 93268\n",
      "Submitted batch job 93269\n",
      "Submitted batch job 93270\n",
      "Submitted batch job 93271\n",
      "Submitted batch job 93272\n",
      "Submitted batch job 93273\n",
      "Submitted batch job 93274\n",
      "Submitted batch job 93275\n",
      "Submitted batch job 93276\n",
      "Submitted batch job 93277\n",
      "Submitted batch job 93278\n",
      "Submitted batch job 93279\n",
      "Submitted batch job 93280\n",
      "Submitted batch job 93281\n",
      "Submitted batch job 93282\n",
      "Submitted batch job 93283\n",
      "Submitted batch job 93284\n",
      "Submitted batch job 93285\n",
      "Submitted batch job 93286\n",
      "Submitted batch job 93287\n",
      "Submitted batch job 93288\n",
      "Submitted batch job 93289\n",
      "Submitted batch job 93290\n",
      "Submitted batch job 93291\n",
      "Submitted batch job 93292\n",
      "Submitted batch job 93293\n",
      "Submitted batch job 93294\n",
      "Submitted batch job 93295\n",
      "Submitted batch job 93296\n",
      "Submitted batch job 93297\n",
      "Submitted batch job 93298\n",
      "Submitted batch job 93299\n",
      "Submitted batch job 93300\n",
      "Submitted batch job 93301\n",
      "Submitted batch job 93302\n",
      "Submitted batch job 93303\n",
      "Submitted batch job 93304\n",
      "Submitted batch job 93305\n",
      "Submitted batch job 93306\n",
      "Submitted batch job 93307\n",
      "Submitted batch job 93308\n",
      "Submitted batch job 93309\n",
      "Submitted batch job 93310\n",
      "Submitted batch job 93311\n",
      "Submitted batch job 93312\n",
      "Submitted batch job 93313\n",
      "Submitted batch job 93314\n",
      "Submitted batch job 93315\n",
      "Submitted batch job 93316\n",
      "Submitted batch job 93317\n",
      "Submitted batch job 93318\n",
      "Submitted batch job 93319\n",
      "Submitted batch job 93320\n",
      "Submitted batch job 93321\n",
      "Submitted batch job 93322\n",
      "Submitted batch job 93323\n",
      "Submitted batch job 93324\n",
      "Submitted batch job 93325\n",
      "Submitted batch job 93326\n",
      "Submitted batch job 93327\n",
      "Submitted batch job 93328\n",
      "Submitted batch job 93329\n",
      "Submitted batch job 93330\n",
      "Submitted batch job 93331\n",
      "Submitted batch job 93332\n",
      "Submitted batch job 93333\n",
      "Submitted batch job 93334\n",
      "Submitted batch job 93335\n",
      "Submitted batch job 93336\n",
      "Submitted batch job 93337\n",
      "Submitted batch job 93338\n",
      "Submitted batch job 93339\n",
      "Submitted batch job 93340\n",
      "Submitted batch job 93341\n",
      "Submitted batch job 93342\n",
      "Submitted batch job 93343\n",
      "Submitted batch job 93344\n",
      "Submitted batch job 93345\n",
      "Submitted batch job 93346\n",
      "Submitted batch job 93347\n",
      "Submitted batch job 93348\n",
      "Submitted batch job 93349\n",
      "Submitted batch job 93350\n",
      "Submitted batch job 93351\n",
      "Submitted batch job 93352\n",
      "Submitted batch job 93353\n",
      "Submitted batch job 93354\n",
      "Submitted batch job 93355\n",
      "Submitted batch job 93356\n",
      "Submitted batch job 93357\n",
      "Submitted batch job 93358\n",
      "Submitted batch job 93359\n",
      "Submitted batch job 93360\n",
      "Submitted batch job 93361\n",
      "Submitted batch job 93362\n",
      "Submitted batch job 93363\n",
      "Submitted batch job 93364\n",
      "Submitted batch job 93365\n",
      "Submitted batch job 93366\n",
      "Submitted batch job 93367\n",
      "Submitted batch job 93368\n",
      "Submitted batch job 93369\n",
      "Submitted batch job 93370\n",
      "Submitted batch job 93371\n",
      "Submitted batch job 93372\n",
      "Submitted batch job 93373\n",
      "Submitted batch job 93374\n",
      "Submitted batch job 93375\n",
      "Submitted batch job 93376\n",
      "Submitted batch job 93377\n",
      "Submitted batch job 93378\n",
      "Submitted batch job 93379\n",
      "Submitted batch job 93380\n",
      "Submitted batch job 93381\n",
      "Submitted batch job 93382\n",
      "Submitted batch job 93383\n",
      "Submitted batch job 93384\n",
      "Submitted batch job 93385\n",
      "Submitted batch job 93386\n",
      "Submitted batch job 93387\n",
      "Submitted batch job 93388\n",
      "Submitted batch job 93389\n",
      "Submitted batch job 93390\n",
      "Submitted batch job 93391\n",
      "Submitted batch job 93392\n",
      "Submitted batch job 93393\n",
      "Submitted batch job 93394\n",
      "Submitted batch job 93395\n",
      "Submitted batch job 93396\n",
      "Submitted batch job 93397\n",
      "Submitted batch job 93398\n",
      "Submitted batch job 93399\n",
      "Submitted batch job 93400\n",
      "Submitted batch job 93401\n",
      "Submitted batch job 93402\n",
      "Submitted batch job 93403\n",
      "Submitted batch job 93404\n",
      "Submitted batch job 93405\n",
      "Submitted batch job 93406\n",
      "Submitted batch job 93407\n",
      "Submitted batch job 93408\n",
      "Submitted batch job 93409\n",
      "Submitted batch job 93410\n",
      "Submitted batch job 93411\n",
      "Submitted batch job 93412\n",
      "Submitted batch job 93413\n",
      "Submitted batch job 93414\n",
      "Submitted batch job 93415\n",
      "Submitted batch job 93416\n",
      "Submitted batch job 93417\n",
      "Submitted batch job 93418\n",
      "Submitted batch job 93419\n",
      "Submitted batch job 93420\n",
      "Submitted batch job 93421\n",
      "Submitted batch job 93422\n",
      "Submitted batch job 93423\n",
      "Submitted batch job 93424\n",
      "Submitted batch job 93425\n",
      "Submitted batch job 93426\n",
      "Submitted batch job 93427\n",
      "Submitted batch job 93428\n",
      "Submitted batch job 93429\n",
      "Submitted batch job 93430\n",
      "Submitted batch job 93431\n",
      "Submitted batch job 93432\n",
      "Submitted batch job 93433\n",
      "Submitted batch job 93434\n",
      "Submitted batch job 93435\n",
      "Submitted batch job 93436\n",
      "Submitted batch job 93437\n",
      "Submitted batch job 93438\n",
      "Submitted batch job 93439\n",
      "Submitted batch job 93440\n",
      "Submitted batch job 93441\n",
      "Submitted batch job 93442\n",
      "Submitted batch job 93443\n",
      "Submitted batch job 93444\n",
      "Submitted batch job 93445\n",
      "Submitted batch job 93446\n",
      "Submitted batch job 93447\n",
      "Submitted batch job 93448\n",
      "Submitted batch job 93449\n",
      "Submitted batch job 93450\n",
      "Submitted batch job 93451\n",
      "Submitted batch job 93452\n",
      "Submitted batch job 93453\n",
      "Submitted batch job 93454\n",
      "Submitted batch job 93455\n",
      "Submitted batch job 93456\n",
      "Submitted batch job 93457\n",
      "Submitted batch job 93458\n",
      "Submitted batch job 93459\n",
      "Submitted batch job 93460\n",
      "Submitted batch job 93461\n",
      "Submitted batch job 93462\n",
      "Submitted batch job 93463\n",
      "Submitted batch job 93464\n",
      "Submitted batch job 93465\n",
      "Submitted batch job 93466\n",
      "Submitted batch job 93467\n",
      "Submitted batch job 93468\n",
      "Submitted batch job 93469\n",
      "Submitted batch job 93470\n",
      "Submitted batch job 93471\n",
      "Submitted batch job 93472\n",
      "Submitted batch job 93473\n",
      "Submitted batch job 93474\n",
      "Submitted batch job 93475\n",
      "Submitted batch job 93476\n",
      "Submitted batch job 93477\n",
      "Submitted batch job 93478\n",
      "Submitted batch job 93479\n",
      "Submitted batch job 93480\n",
      "Submitted batch job 93481\n",
      "Submitted batch job 93482\n",
      "Submitted batch job 93483\n",
      "Submitted batch job 93484\n",
      "Submitted batch job 93485\n",
      "Submitted batch job 93486\n",
      "Submitted batch job 93487\n",
      "Submitted batch job 93488\n",
      "Submitted batch job 93489\n",
      "Submitted batch job 93490\n",
      "Submitted batch job 93491\n",
      "Submitted batch job 93492\n",
      "Submitted batch job 93493\n",
      "Submitted batch job 93494\n",
      "Submitted batch job 93495\n",
      "Submitted batch job 93496\n",
      "Submitted batch job 93497\n",
      "Submitted batch job 93498\n",
      "Submitted batch job 93499\n",
      "Submitted batch job 93500\n",
      "Submitted batch job 93501\n",
      "Submitted batch job 93502\n",
      "Submitted batch job 93503\n",
      "Submitted batch job 93504\n",
      "Submitted batch job 93505\n",
      "Submitted batch job 93506\n",
      "Submitted batch job 93507\n",
      "Submitted batch job 93508\n",
      "Submitted batch job 93509\n",
      "Submitted batch job 93510\n",
      "Submitted batch job 93511\n",
      "Submitted batch job 93512\n",
      "Submitted batch job 93513\n",
      "Submitted batch job 93514\n",
      "Submitted batch job 93515\n",
      "Submitted batch job 93516\n",
      "Submitted batch job 93517\n",
      "Submitted batch job 93518\n",
      "Submitted batch job 93519\n",
      "Submitted batch job 93520\n",
      "Submitted batch job 93521\n",
      "Submitted batch job 93522\n",
      "Submitted batch job 93523\n",
      "Submitted batch job 93524\n",
      "Submitted batch job 93525\n",
      "Submitted batch job 93526\n",
      "Submitted batch job 93527\n",
      "Submitted batch job 93528\n",
      "Submitted batch job 93529\n",
      "Submitted batch job 93530\n",
      "Submitted batch job 93531\n",
      "Submitted batch job 93532\n",
      "Submitted batch job 93533\n",
      "Submitted batch job 93534\n",
      "Submitted batch job 93535\n",
      "Submitted batch job 93536\n",
      "Submitted batch job 93537\n",
      "Submitted batch job 93538\n",
      "Submitted batch job 93539\n",
      "Submitted batch job 93540\n",
      "Submitted batch job 93541\n",
      "Submitted batch job 93542\n",
      "Submitted batch job 93543\n",
      "Submitted batch job 93544\n",
      "Submitted batch job 93545\n",
      "Submitted batch job 93546\n",
      "Submitted batch job 93547\n",
      "Submitted batch job 93548\n",
      "Submitted batch job 93549\n",
      "Submitted batch job 93550\n",
      "Submitted batch job 93551\n",
      "Submitted batch job 93552\n",
      "Submitted batch job 93553\n",
      "Submitted batch job 93554\n",
      "Submitted batch job 93555\n",
      "Submitted batch job 93556\n",
      "Submitted batch job 93557\n",
      "Submitted batch job 93558\n",
      "Submitted batch job 93559\n",
      "Submitted batch job 93560\n",
      "Submitted batch job 93561\n",
      "Submitted batch job 93562\n",
      "Submitted batch job 93563\n",
      "Submitted batch job 93564\n",
      "Submitted batch job 93565\n",
      "Submitted batch job 93566\n",
      "Submitted batch job 93567\n",
      "Submitted batch job 93568\n",
      "Submitted batch job 93569\n",
      "Submitted batch job 93570\n",
      "Submitted batch job 93571\n",
      "Submitted batch job 93572\n",
      "Submitted batch job 93573\n",
      "Submitted batch job 93574\n",
      "Submitted batch job 93575\n",
      "Submitted batch job 93576\n",
      "Submitted batch job 93577\n",
      "Submitted batch job 93578\n",
      "Submitted batch job 93579\n",
      "Submitted batch job 93580\n",
      "Submitted batch job 93581\n",
      "Submitted batch job 93582\n",
      "Submitted batch job 93583\n",
      "Submitted batch job 93584\n",
      "Submitted batch job 93585\n",
      "Submitted batch job 93586\n",
      "Submitted batch job 93587\n",
      "Submitted batch job 93588\n",
      "Submitted batch job 93589\n",
      "Submitted batch job 93590\n",
      "Submitted batch job 93591\n",
      "Submitted batch job 93592\n",
      "Submitted batch job 93593\n",
      "Submitted batch job 93594\n",
      "Submitted batch job 93595\n",
      "Submitted batch job 93596\n",
      "Submitted batch job 93597\n",
      "Submitted batch job 93598\n",
      "Submitted batch job 93599\n",
      "Submitted batch job 93600\n",
      "Submitted batch job 93601\n",
      "Submitted batch job 93602\n",
      "Submitted batch job 93603\n",
      "Submitted batch job 93604\n",
      "Submitted batch job 93605\n",
      "Submitted batch job 93606\n",
      "Submitted batch job 93607\n",
      "Submitted batch job 93608\n",
      "Submitted batch job 93609\n",
      "Submitted batch job 93610\n",
      "Submitted batch job 93611\n",
      "Submitted batch job 93612\n"
     ]
    }
   ],
   "source": [
    "num_iters = 999_000_000\n",
    "time_limit_seconds = int(3600 * 9)\n",
    "for config in pgrid:\n",
    "    CONFIG = 'cfr_port_2_no_ext' # The YML network config folder for the main jobs\n",
    "    N_SEEDS = 3 # Number of seeds of each experiment to launch\n",
    "    extra_name = ''\n",
    "    overrides = f'--overwrite_db True --eval_every 999_999_999 --eval_every_seconds 9000 --eval_zero false --total_timesteps {num_iters} --dispatch_br false --report_freq 5000 --time_limit_seconds {time_limit_seconds}'      \n",
    "    dispatch.dispatch_experiments(CONFIG, base_job_name='sep1', game_name=config['game'], overrides=overrides, n_seeds=N_SEEDS, extra_name=extra_name, alg='cfr')"
   ]
  },
  {
   "cell_type": "code",
   "execution_count": 22,
   "id": "db7ec2c8-edf1-4aae-bbab-b1dd6400cac4",
   "metadata": {},
   "outputs": [],
   "source": [
    "# PREFIX = 'sep1'\n",
    "# sats_games = [f'{PREFIX}/' + os.path.basename(x).replace('.json','') for x in glob.glob(f'{game_dir}/{PREFIX}/*')]\n",
    "# print(sats_games)\n",
    "# sats_games = \\\n",
    "#     [s for s in sats_games if ('hide' in s)]\n",
    "# pgrid = ParameterGrid([\n",
    "#     {\n",
    "#         # Defaults\n",
    "#         'game': [g for g in sats_games]# if 'hide' not in g and 'imperfect' not in g]\n",
    "#     },\n",
    "# ])\n",
    "# list(pgrid)"
   ]
  },
  {
   "cell_type": "code",
   "execution_count": 31,
   "id": "a675bf36-932f-4832-8311-2efc9f6cf361",
   "metadata": {},
   "outputs": [
    {
     "name": "stdout",
     "output_type": "stream",
     "text": [
      "Submitted batch job 93163\n",
      "Submitted batch job 93164\n",
      "Submitted batch job 93165\n",
      "Submitted batch job 93166\n",
      "Submitted batch job 93167\n",
      "Submitted batch job 93168\n",
      "Submitted batch job 93169\n",
      "Submitted batch job 93170\n",
      "Submitted batch job 93171\n",
      "Submitted batch job 93172\n",
      "Submitted batch job 93173\n",
      "Submitted batch job 93174\n",
      "Submitted batch job 93175\n",
      "Submitted batch job 93176\n",
      "Submitted batch job 93177\n",
      "Submitted batch job 93178\n",
      "Submitted batch job 93179\n",
      "Submitted batch job 93180\n",
      "Submitted batch job 93181\n",
      "Submitted batch job 93182\n",
      "Submitted batch job 93183\n",
      "Submitted batch job 93184\n",
      "Submitted batch job 93185\n",
      "Submitted batch job 93186\n",
      "Submitted batch job 93187\n",
      "Submitted batch job 93188\n",
      "Submitted batch job 93189\n",
      "Submitted batch job 93190\n",
      "Submitted batch job 93191\n",
      "Submitted batch job 93192\n"
     ]
    }
   ],
   "source": [
    "### Test 3 players\n",
    "\n",
    "PREFIX = 'sep1'\n",
    "sats_games = [f'{PREFIX}/' + os.path.basename(x).replace('.json','') for x in glob.glob(f'{game_dir}/{PREFIX}/*')]\n",
    "# sats_games = [s for s in sats_games if 'hide' not in s and 'no_activity' not in s and 'undersell' not in s and 'speed' not in s and 'spite' not in s]\n",
    "# sats_games = [s for s in sats_games if ('base' in s or 'grace' in s or 'activity' in s or 'speed' in s) and 'spite' not in s and 'risk' not in s]\n",
    "sats_games = \\\n",
    "    [s for s in sats_games if ('hide' in s)]\n",
    "pgrid = ParameterGrid([\n",
    "    {\n",
    "        # Defaults\n",
    "        'game': [g for g in sats_games]# if 'hide' not in g and 'imperfect' not in g]\n",
    "    },\n",
    "])\n",
    "\n",
    "num_iters = 999_000_000\n",
    "time_limit_seconds = int(3600 * 9)\n",
    "for config in pgrid:\n",
    "    CONFIG = 'cfr_port_2_no_ext' # The YML network config folder for the main jobs\n",
    "    N_SEEDS = 3 # Number of seeds of each experiment to launch\n",
    "    extra_name = ''\n",
    "    overrides = f'--overwrite_db True --eval_every 999_999_999 --eval_every_seconds 9000 --eval_zero false --total_timesteps {num_iters} --dispatch_br false --report_freq 5000 --time_limit_seconds {time_limit_seconds}'      \n",
    "    dispatch.dispatch_experiments(CONFIG, base_job_name='3players_sep1', game_name=config['game'], overrides=overrides, n_seeds=N_SEEDS, extra_name=extra_name, alg='cfr')"
   ]
  },
  {
   "cell_type": "code",
   "execution_count": null,
   "id": "670efe1e-8e7e-4cef-b04d-78fc7a4cbce6",
   "metadata": {},
   "outputs": [],
   "source": [
    "# num_iters = 10_000_000\n",
    "# time_limit_seconds = 3600 * 4\n",
    "# for config in pgrid:\n",
    "#     CONFIG = 'cfr_external' # The YML network config folder for the main jobs\n",
    "#     N_SEEDS = 3 # Number of seeds of each experiment to launch\n",
    "#     extra_name = ''\n",
    "#     overrides = f'--overwrite_db True --eval_every 250_000 --eval_zero false --total_timesteps {num_iters} --dispatch_br false --report_freq 5000 --time_limit_seconds {time_limit_seconds}'      \n",
    "#     dispatch.dispatch_experiments(CONFIG, base_job_name='jun23external', game_name=config['game'], overrides=overrides, n_seeds=N_SEEDS, extra_name=extra_name, alg='cfr')"
   ]
  },
  {
   "cell_type": "code",
   "execution_count": null,
   "id": "457a17e0-3467-49e7-a1fc-ef7b061e49ff",
   "metadata": {},
   "outputs": [],
   "source": [
    "# num_iters = 30_000_000\n",
    "# time_limit_seconds = 3600 * 4\n",
    "# for config in pgrid:\n",
    "#     CONFIG = 'cfr_outcome' # The YML network config folder for the main jobs\n",
    "#     N_SEEDS = 3 # Number of seeds of each experiment to launch\n",
    "#     extra_name = ''\n",
    "#     overrides = f'--overwrite_db True --eval_every 999_000_000 --eval_zero false --total_timesteps {num_iters} --dispatch_br false --report_freq 5000 --time_limit_seconds {time_limit_seconds}'      \n",
    "#     dispatch.dispatch_experiments(CONFIG, base_job_name='jun23outcome_2', game_name=config['game'], overrides=overrides, n_seeds=N_SEEDS, extra_name=extra_name, alg='cfr')"
   ]
  },
  {
   "cell_type": "code",
   "execution_count": null,
   "id": "534e93c4-35cb-4af5-8140-6ca5bb9d859b",
   "metadata": {},
   "outputs": [],
   "source": [
    "# for config in pgrid:\n",
    "#     CONFIG = 'ppo_no_ent_jun14'\n",
    "#     # CONFIG = 'ppo_may31_23' # The YML network config folder for the main jobs\n",
    "#     # BR_CONFIG = 'ppo_may31_23' \n",
    "#     N_SEEDS = 3 # Number of seeds of each experiment to launch\n",
    "#     extra_name = ''\n",
    "#     overrides = f'--overwrite_db True --br_portfolio_path {BR_CONFIG} --eval_every 999_000_000 --eval_zero false --total_timesteps 5_000_000 --dispatch_br false --br_overrides \"--total_timesteps 1_000_000\"'        \n",
    "#     dispatch.dispatch_experiments(CONFIG, base_job_name='jun14ent_3', game_name=config['game'], overrides=overrides, n_seeds=N_SEEDS, extra_name=extra_name)"
   ]
  },
  {
   "cell_type": "code",
   "execution_count": 48,
   "id": "4a6067d6-ea75-47a7-aec8-265ce62ad4aa",
   "metadata": {},
   "outputs": [
    {
     "name": "stdout",
     "output_type": "stream",
     "text": [
      "             JOBID                                                                                       NAME ST .      TIME NODES NODELIST(REASON)\n"
     ]
    }
   ],
   "source": [
    "!squeue --format=\"%.18i %.90j %.2t .%.10M%.6D %R\""
   ]
  },
  {
   "cell_type": "code",
   "execution_count": null,
   "id": "0e80d410-986b-42a1-9d49-1035ef103a0a",
   "metadata": {},
   "outputs": [],
   "source": [
    "def check_queue():\n",
    "    !ssh borg.cs.ubc.ca '/opt/slurm/bin/squeue -u newmanne --format=\"%.18i %.90j %.2t .%.10M %.6D %R\"'\n"
   ]
  },
  {
   "cell_type": "code",
   "execution_count": null,
   "id": "3e5c26b7-d158-4ece-a72a-c3b2fd47a56f",
   "metadata": {
    "tags": []
   },
   "outputs": [],
   "source": [
    "check_queue()"
   ]
  },
  {
   "cell_type": "code",
   "execution_count": 106,
   "id": "a8ee533f-357a-4bbc-956e-1cf136ef9266",
   "metadata": {},
   "outputs": [
    {
     "name": "stdout",
     "output_type": "stream",
     "text": [
      "5\n"
     ]
    }
   ],
   "source": [
    "!squeue | wc -l"
   ]
  },
  {
   "cell_type": "code",
   "execution_count": null,
   "id": "a8b665af-771f-44c1-8065-4928e1e5ac91",
   "metadata": {},
   "outputs": [],
   "source": [
    "!squeue | grep \"may30\" | wc -l"
   ]
  },
  {
   "cell_type": "code",
   "execution_count": 29,
   "id": "c26b508d-9ee0-4878-9aa1-68c611ab651a",
   "metadata": {},
   "outputs": [],
   "source": [
    "!scancel -u ubuntu"
   ]
  },
  {
   "cell_type": "code",
   "execution_count": null,
   "id": "aee5cc7e-228c-4484-bb31-efb870f59efa",
   "metadata": {},
   "outputs": [],
   "source": [
    "# !scancel  46891 46893"
   ]
  },
  {
   "cell_type": "code",
   "execution_count": null,
   "id": "3aeeeeb6-6c6f-4e37-9566-3eb8d73d97d5",
   "metadata": {},
   "outputs": [],
   "source": [
    "!rm -rf /shared/outputs/minitest/\n",
    "try:\n",
    "    Experiment.objects.get(name='minitest').delete()\n",
    "except:\n",
    "    pass\n",
    "dispatch.dispatch_experiments('feb2', base_job_name='minitest', game_name='tiny', overrides = '--br_portfolio_path feb2 --eval_every 500 --num_training_episodes 1_000 --br_overrides \"--num_training_episodes 1_000\" --eval_overrides \"--num_samples 100\"')"
   ]
  },
  {
   "cell_type": "code",
   "execution_count": null,
   "id": "d4ca4c72-ce03-4d1a-8e9d-1abd642e8407",
   "metadata": {},
   "outputs": [],
   "source": [
    "BestResponse.objects.last()"
   ]
  },
  {
   "cell_type": "code",
   "execution_count": null,
   "id": "da1b3451-a927-4467-a90d-077f2de61767",
   "metadata": {},
   "outputs": [],
   "source": [
    "Experiment.objects.all()"
   ]
  },
  {
   "cell_type": "code",
   "execution_count": null,
   "id": "0547418d-7d14-404e-ad7f-892180cd6e50",
   "metadata": {},
   "outputs": [],
   "source": [
    "!sacct --starttime 2022-03-11 --format=User,JobID,Jobname,partition,state,time,start,end,elapsed,MaxRss,MaxVMSize,nnodes,ncpus,nodelist"
   ]
  },
  {
   "cell_type": "code",
   "execution_count": null,
   "id": "2fc59f9d-3861-481c-bcd2-68c25e19267a",
   "metadata": {},
   "outputs": [],
   "source": [
    "Evaluation.objects.last()"
   ]
  },
  {
   "cell_type": "code",
   "execution_count": null,
   "id": "eda9b8b7-ea2f-41b0-a527-4460fb8249fc",
   "metadata": {},
   "outputs": [],
   "source": [
    "os.system(\"ssh borg.cs.ubc.ca '/opt/slurm/bin/sbatch'\")"
   ]
  },
  {
   "cell_type": "code",
   "execution_count": null,
   "id": "b70ae116-1e70-4d32-8405-b479041c18b5",
   "metadata": {},
   "outputs": [],
   "source": [
    "!squeue --format=\"%.18i %.65j %.2t %.10M %.6D %R\" | grep \"eval\" | awk '{print $1}' | xargs scancel"
   ]
  },
  {
   "cell_type": "code",
   "execution_count": null,
   "id": "d6b4808f-f9ca-4e51-8a92-4445dfb6f883",
   "metadata": {},
   "outputs": [],
   "source": [
    "from compress_pickle import dumps, loads\n"
   ]
  },
  {
   "cell_type": "code",
   "execution_count": null,
   "id": "a9b6c536-b575-48e7-8bd9-8b28e9a9619a",
   "metadata": {},
   "outputs": [],
   "source": [
    "loads?"
   ]
  },
  {
   "cell_type": "code",
   "execution_count": null,
   "id": "27346459-d529-47b5-b84f-32511d1b809f",
   "metadata": {},
   "outputs": [],
   "source": [
    "from compress_pickle.compressers.registry import get_known_compressions"
   ]
  },
  {
   "cell_type": "code",
   "execution_count": null,
   "id": "89557fb5-e0fb-471c-80f4-e7d8d4b76abb",
   "metadata": {},
   "outputs": [],
   "source": [
    "get_known_compressions()"
   ]
  },
  {
   "cell_type": "code",
   "execution_count": null,
   "id": "2b42e2b0-3412-46ed-8a7f-7539bc84f752",
   "metadata": {},
   "outputs": [],
   "source": [
    "x = EquilibriumSolverRunCheckpoint.objects.last().policy"
   ]
  },
  {
   "cell_type": "code",
   "execution_count": null,
   "id": "52401c72-bb34-41be-b7f0-a0c9479f60ff",
   "metadata": {},
   "outputs": [],
   "source": [
    "len(x)"
   ]
  },
  {
   "cell_type": "code",
   "execution_count": null,
   "id": "c19c4b6d-95b9-4730-9f52-66ef55bc2b2d",
   "metadata": {},
   "outputs": [],
   "source": [
    "len(dumps(pickle.loads(x), compression='bz2'))"
   ]
  },
  {
   "cell_type": "code",
   "execution_count": null,
   "id": "3b5590c1-0f89-4562-abdb-d9683160d40c",
   "metadata": {},
   "outputs": [],
   "source": [
    "len(pickle.dumps(pickle.loads(x)))"
   ]
  },
  {
   "cell_type": "code",
   "execution_count": null,
   "id": "0a3eae12-4643-46f1-a4ed-a72b4a18a44f",
   "metadata": {},
   "outputs": [],
   "source": [
    "EquilibriumSolverRunCheckpoint.objects.last().walltime"
   ]
  },
  {
   "cell_type": "code",
   "execution_count": null,
   "id": "33a4992c-5f4f-44df-a3cb-6f2a2bd15b6b",
   "metadata": {},
   "outputs": [],
   "source": [
    "EquilibriumSolverRunCheckpoint.objects.last().t"
   ]
  },
  {
   "cell_type": "code",
   "execution_count": null,
   "id": "03993e8f-aa1c-431f-9a5f-8bb5fedd7486",
   "metadata": {},
   "outputs": [],
   "source": []
  }
 ],
 "metadata": {
  "kernelspec": {
   "display_name": "Django Shell-Plus",
   "language": "python",
   "name": "django_extensions"
  },
  "language_info": {
   "codemirror_mode": {
    "name": "ipython",
    "version": 3
   },
   "file_extension": ".py",
   "mimetype": "text/x-python",
   "name": "python",
   "nbconvert_exporter": "python",
   "pygments_lexer": "ipython3",
   "version": "3.8.2"
  }
 },
 "nbformat": 4,
 "nbformat_minor": 5
}
