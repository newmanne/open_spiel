{
 "cells": [
  {
   "cell_type": "code",
   "execution_count": 27,
   "id": "e6f6eef1-52e3-4ff5-af4b-2d5b933ad90b",
   "metadata": {},
   "outputs": [
    {
     "name": "stdout",
     "output_type": "stream",
     "text": [
      "The autoreload extension is already loaded. To reload it, use:\n",
      "  %reload_ext autoreload\n",
      "%pylab is deprecated, use %matplotlib inline and import the required libraries.\n",
      "Populating the interactive namespace from numpy and matplotlib\n"
     ]
    }
   ],
   "source": [
    "%load_ext autoreload\n",
    "%autoreload 2\n",
    "%pylab inline"
   ]
  },
  {
   "cell_type": "code",
   "execution_count": 28,
   "id": "53d1f915-16a6-42e9-b93a-3f44564ef069",
   "metadata": {},
   "outputs": [],
   "source": [
    "import sys\n",
    "import glob\n",
    "import pandas as pd\n",
    "import os\n",
    "import seaborn as sns\n",
    "from tqdm import tqdm_notebook as tqdm\n",
    "from statsmodels.distributions.empirical_distribution import ECDF\n",
    "from collections import defaultdict\n",
    "import open_spiel.python.examples.ubc_dispatch as dispatch\n",
    "import os\n",
    "os.environ[\"DJANGO_ALLOW_ASYNC_UNSAFE\"] = \"true\"\n",
    "from sklearn.model_selection import ParameterGrid\n",
    "from pathlib import Path\n",
    "import torch.nn.functional as F\n",
    "import torch"
   ]
  },
  {
   "cell_type": "code",
   "execution_count": 35,
   "id": "a963cf68-f084-47bc-86bf-23882e77f392",
   "metadata": {},
   "outputs": [],
   "source": [
    "game_dir = os.environ[\"CLOCK_AUCTION_CONFIG_DIR\"]"
   ]
  },
  {
   "cell_type": "code",
   "execution_count": 29,
   "id": "48036c62-68f7-4580-82c3-0da36da9c6b4",
   "metadata": {},
   "outputs": [
    {
     "data": {
      "text/plain": [
       "['jun16/jun16_4_medium_speed',\n",
       " 'jun16/jun16_4_no_activity',\n",
       " 'jun16/jun16_1_undersell_allowed',\n",
       " 'jun16/jun16_3_no_activity',\n",
       " 'jun16/jun16_2_undersell_allowed',\n",
       " 'jun16/jun16_3_medium_speed',\n",
       " 'jun16/jun16_2_medium_speed',\n",
       " 'jun16/jun16_1_no_activity',\n",
       " 'jun16/jun16_0_base',\n",
       " 'jun16/jun16_4_high_speed',\n",
       " 'jun16/jun16_2_high_speed',\n",
       " 'jun16/jun16_1_base',\n",
       " 'jun16/jun16_0_no_activity',\n",
       " 'jun16/jun16_4_undersell_allowed',\n",
       " 'jun16/jun16_0_medium_speed',\n",
       " 'jun16/jun16_2_no_activity',\n",
       " 'jun16/jun16_0_undersell_allowed',\n",
       " 'jun16/jun16_4_base',\n",
       " 'jun16/jun16_3_high_speed',\n",
       " 'jun16/jun16_0_high_speed',\n",
       " 'jun16/jun16_3_undersell_allowed',\n",
       " 'jun16/jun16_3_base',\n",
       " 'jun16/jun16_2_base',\n",
       " 'jun16/jun16_1_medium_speed',\n",
       " 'jun16/jun16_1_high_speed']"
      ]
     },
     "execution_count": 29,
     "metadata": {},
     "output_type": "execute_result"
    }
   ],
   "source": [
    "PREFIX = 'jun16'\n",
    "sats_games = [f'{PREFIX}/' + os.path.basename(x).replace('.json','') for x in glob.glob(f'{game_dir}/{PREFIX}/*')]\n",
    "sats_games"
   ]
  },
  {
   "cell_type": "markdown",
   "id": "01e19a7a-7d0c-4d03-963f-2265e950bf0b",
   "metadata": {},
   "source": [
    "# For running the real dumb test case"
   ]
  },
  {
   "cell_type": "code",
   "execution_count": 30,
   "id": "ff77dd62-1983-4468-9c31-fd042294ca5c",
   "metadata": {},
   "outputs": [
    {
     "name": "stdout",
     "output_type": "stream",
     "text": [
      "25\n"
     ]
    }
   ],
   "source": [
    "pgrid = ParameterGrid([\n",
    "    {\n",
    "        # Defaults\n",
    "        'game': [g for g in sats_games if 'hide' not in g and 'imperfect' not in g]\n",
    "    },\n",
    "])\n",
    "print(len(pgrid))"
   ]
  },
  {
   "cell_type": "code",
   "execution_count": 6,
   "id": "670efe1e-8e7e-4cef-b04d-78fc7a4cbce6",
   "metadata": {},
   "outputs": [],
   "source": [
    "# num_iters = 10_000_000\n",
    "# time_limit_seconds = 3600 * 12\n",
    "# for config in pgrid:\n",
    "#     CONFIG = 'cfr_external' # The YML network config folder for the main jobs\n",
    "#     N_SEEDS = 3 # Number of seeds of each experiment to launch\n",
    "#     extra_name = ''\n",
    "#     overrides = f'--overwrite_db True --eval_every 999_000_000 --eval_zero false --total_timesteps {num_iters} --dispatch_br false --report_freq 5000 --time_limit_seconds {time_limit_seconds}'      \n",
    "#     dispatch.dispatch_experiments(CONFIG, base_job_name='jun15external', game_name=config['game'], overrides=overrides, n_seeds=N_SEEDS, extra_name=extra_name, alg='cfr')"
   ]
  },
  {
   "cell_type": "code",
   "execution_count": 31,
   "id": "457a17e0-3467-49e7-a1fc-ef7b061e49ff",
   "metadata": {},
   "outputs": [
    {
     "name": "stdout",
     "output_type": "stream",
     "text": [
      "Submitted batch job 86450\n",
      "Submitted batch job 86451\n",
      "Submitted batch job 86452\n",
      "Submitted batch job 86453\n",
      "Submitted batch job 86454\n",
      "Submitted batch job 86455\n",
      "Submitted batch job 86456\n",
      "Submitted batch job 86457\n",
      "Submitted batch job 86458\n",
      "Submitted batch job 86459\n",
      "Submitted batch job 86460\n",
      "Submitted batch job 86461\n",
      "Submitted batch job 86462\n",
      "Submitted batch job 86463\n",
      "Submitted batch job 86464\n",
      "Submitted batch job 86465\n",
      "Submitted batch job 86466\n",
      "Submitted batch job 86467\n",
      "Submitted batch job 86468\n",
      "Submitted batch job 86469\n",
      "Submitted batch job 86470\n",
      "Submitted batch job 86471\n",
      "Submitted batch job 86472\n",
      "Submitted batch job 86473\n",
      "Submitted batch job 86474\n",
      "Submitted batch job 86475\n",
      "Submitted batch job 86476\n",
      "Submitted batch job 86477\n",
      "Submitted batch job 86478\n",
      "Submitted batch job 86479\n",
      "Submitted batch job 86480\n",
      "Submitted batch job 86481\n",
      "Submitted batch job 86482\n",
      "Submitted batch job 86483\n",
      "Submitted batch job 86484\n",
      "Submitted batch job 86485\n",
      "Submitted batch job 86486\n",
      "Submitted batch job 86487\n",
      "Submitted batch job 86488\n",
      "Submitted batch job 86489\n",
      "Submitted batch job 86490\n",
      "Submitted batch job 86491\n",
      "Submitted batch job 86492\n",
      "Submitted batch job 86493\n",
      "Submitted batch job 86494\n",
      "Submitted batch job 86495\n",
      "Submitted batch job 86496\n",
      "Submitted batch job 86497\n",
      "Submitted batch job 86498\n",
      "Submitted batch job 86499\n",
      "Submitted batch job 86500\n",
      "Submitted batch job 86501\n",
      "Submitted batch job 86502\n",
      "Submitted batch job 86503\n",
      "Submitted batch job 86504\n",
      "Submitted batch job 86505\n",
      "Submitted batch job 86506\n",
      "Submitted batch job 86507\n",
      "Submitted batch job 86508\n",
      "Submitted batch job 86509\n",
      "Submitted batch job 86510\n",
      "Submitted batch job 86511\n",
      "Submitted batch job 86512\n",
      "Submitted batch job 86513\n",
      "Submitted batch job 86514\n",
      "Submitted batch job 86515\n",
      "Submitted batch job 86516\n",
      "Submitted batch job 86517\n",
      "Submitted batch job 86518\n",
      "Submitted batch job 86519\n",
      "Submitted batch job 86520\n",
      "Submitted batch job 86521\n",
      "Submitted batch job 86522\n",
      "Submitted batch job 86523\n",
      "Submitted batch job 86524\n"
     ]
    }
   ],
   "source": [
    "num_iters = 30_000_000\n",
    "time_limit_seconds = 3600 * 24\n",
    "for config in pgrid:\n",
    "    CONFIG = 'cfr_outcome' # The YML network config folder for the main jobs\n",
    "    N_SEEDS = 3 # Number of seeds of each experiment to launch\n",
    "    extra_name = ''\n",
    "    overrides = f'--overwrite_db True --eval_every 3_000_000 --eval_zero false --total_timesteps {num_iters} --dispatch_br false --report_freq 5000'      \n",
    "    dispatch.dispatch_experiments(CONFIG, base_job_name='jun16outcome', game_name=config['game'], overrides=overrides, n_seeds=N_SEEDS, extra_name=extra_name, alg='cfr')"
   ]
  },
  {
   "cell_type": "code",
   "execution_count": 80,
   "id": "534e93c4-35cb-4af5-8140-6ca5bb9d859b",
   "metadata": {},
   "outputs": [
    {
     "name": "stdout",
     "output_type": "stream",
     "text": [
      "Submitted batch job 84615\n",
      "Submitted batch job 84616\n",
      "Submitted batch job 84617\n",
      "Submitted batch job 84618\n",
      "Submitted batch job 84619\n",
      "Submitted batch job 84620\n",
      "Submitted batch job 84621\n",
      "Submitted batch job 84622\n",
      "Submitted batch job 84623\n",
      "Submitted batch job 84624\n",
      "Submitted batch job 84625\n",
      "Submitted batch job 84626\n",
      "Submitted batch job 84627\n",
      "Submitted batch job 84628\n",
      "Submitted batch job 84629\n",
      "Submitted batch job 84630\n",
      "Submitted batch job 84631\n",
      "Submitted batch job 84632\n",
      "Submitted batch job 84633\n",
      "Submitted batch job 84634\n",
      "Submitted batch job 84635\n",
      "Submitted batch job 84636\n",
      "Submitted batch job 84637\n",
      "Submitted batch job 84638\n",
      "Submitted batch job 84639\n",
      "Submitted batch job 84640\n",
      "Submitted batch job 84641\n",
      "Submitted batch job 84642\n",
      "Submitted batch job 84643\n",
      "Submitted batch job 84644\n",
      "Submitted batch job 84645\n",
      "Submitted batch job 84646\n",
      "Submitted batch job 84647\n",
      "Submitted batch job 84648\n",
      "Submitted batch job 84649\n",
      "Submitted batch job 84650\n",
      "Submitted batch job 84651\n",
      "Submitted batch job 84652\n",
      "Submitted batch job 84653\n",
      "Submitted batch job 84654\n",
      "Submitted batch job 84655\n",
      "Submitted batch job 84656\n",
      "Submitted batch job 84657\n",
      "Submitted batch job 84658\n",
      "Submitted batch job 84659\n",
      "Submitted batch job 84660\n",
      "Submitted batch job 84661\n",
      "Submitted batch job 84662\n",
      "Submitted batch job 84663\n",
      "Submitted batch job 84664\n",
      "Submitted batch job 84665\n",
      "Submitted batch job 84666\n",
      "Submitted batch job 84667\n",
      "Submitted batch job 84668\n",
      "Submitted batch job 84669\n",
      "Submitted batch job 84670\n",
      "Submitted batch job 84671\n",
      "Submitted batch job 84672\n",
      "Submitted batch job 84673\n",
      "Submitted batch job 84674\n",
      "Submitted batch job 84675\n",
      "Submitted batch job 84676\n",
      "Submitted batch job 84677\n",
      "Submitted batch job 84678\n",
      "Submitted batch job 84679\n",
      "Submitted batch job 84680\n",
      "Submitted batch job 84681\n",
      "Submitted batch job 84682\n",
      "Submitted batch job 84683\n",
      "Submitted batch job 84684\n",
      "Submitted batch job 84685\n",
      "Submitted batch job 84686\n",
      "Submitted batch job 84687\n",
      "Submitted batch job 84688\n",
      "Submitted batch job 84689\n",
      "Submitted batch job 84690\n",
      "Submitted batch job 84691\n",
      "Submitted batch job 84692\n",
      "Submitted batch job 84693\n",
      "Submitted batch job 84694\n",
      "Submitted batch job 84695\n",
      "Submitted batch job 84696\n",
      "Submitted batch job 84697\n",
      "Submitted batch job 84698\n",
      "Submitted batch job 84699\n",
      "Submitted batch job 84700\n",
      "Submitted batch job 84701\n",
      "Submitted batch job 84702\n",
      "Submitted batch job 84703\n",
      "Submitted batch job 84704\n",
      "Submitted batch job 84705\n",
      "Submitted batch job 84706\n",
      "Submitted batch job 84707\n",
      "Submitted batch job 84708\n",
      "Submitted batch job 84709\n",
      "Submitted batch job 84710\n",
      "Submitted batch job 84711\n",
      "Submitted batch job 84712\n",
      "Submitted batch job 84713\n",
      "Submitted batch job 84714\n",
      "Submitted batch job 84715\n",
      "Submitted batch job 84716\n",
      "Submitted batch job 84717\n",
      "Submitted batch job 84718\n",
      "Submitted batch job 84719\n",
      "Submitted batch job 84720\n",
      "Submitted batch job 84721\n",
      "Submitted batch job 84722\n",
      "Submitted batch job 84723\n",
      "Submitted batch job 84724\n",
      "Submitted batch job 84725\n",
      "Submitted batch job 84726\n",
      "Submitted batch job 84727\n",
      "Submitted batch job 84728\n",
      "Submitted batch job 84729\n",
      "Submitted batch job 84730\n",
      "Submitted batch job 84731\n",
      "Submitted batch job 84732\n",
      "Submitted batch job 84733\n",
      "Submitted batch job 84734\n",
      "Submitted batch job 84735\n",
      "Submitted batch job 84736\n",
      "Submitted batch job 84737\n",
      "Submitted batch job 84738\n",
      "Submitted batch job 84739\n",
      "Submitted batch job 84740\n",
      "Submitted batch job 84741\n",
      "Submitted batch job 84742\n",
      "Submitted batch job 84743\n",
      "Submitted batch job 84744\n",
      "Submitted batch job 84745\n",
      "Submitted batch job 84746\n",
      "Submitted batch job 84747\n",
      "Submitted batch job 84748\n",
      "Submitted batch job 84749\n"
     ]
    }
   ],
   "source": [
    "for config in pgrid:\n",
    "    CONFIG = 'ppo_no_ent_jun14'\n",
    "    # CONFIG = 'ppo_may31_23' # The YML network config folder for the main jobs\n",
    "    # BR_CONFIG = 'ppo_may31_23' \n",
    "    N_SEEDS = 3 # Number of seeds of each experiment to launch\n",
    "    extra_name = ''\n",
    "    overrides = f'--overwrite_db True --br_portfolio_path {BR_CONFIG} --eval_every 999_000_000 --eval_zero false --total_timesteps 5_000_000 --dispatch_br false --br_overrides \"--total_timesteps 1_000_000\"'        \n",
    "    dispatch.dispatch_experiments(CONFIG, base_job_name='jun14ent_3', game_name=config['game'], overrides=overrides, n_seeds=N_SEEDS, extra_name=extra_name)"
   ]
  },
  {
   "cell_type": "code",
   "execution_count": 37,
   "id": "3e5c26b7-d158-4ece-a72a-c3b2fd47a56f",
   "metadata": {
    "tags": []
   },
   "outputs": [
    {
     "name": "stdout",
     "output_type": "stream",
     "text": [
      "             JOBID                                                                                       NAME ST .      TIME  NODES NODELIST(REASON)\n",
      "             86450                       jun16_jun16_4_medium_speed-cfr_outcomemccfr_outcome-100_jun16outcome  R .   3:59:08      1 ip-10-255-1-169\n",
      "             86452                       jun16_jun16_4_medium_speed-cfr_outcomemccfr_outcome-102_jun16outcome  R .   5:17:13      1 ip-10-255-1-242\n",
      "             86457                  jun16_jun16_1_undersell_allowed-cfr_outcomemccfr_outcome-101_jun16outcome  R .   6:21:46      1 ip-10-255-1-134\n",
      "             86465                       jun16_jun16_3_medium_speed-cfr_outcomemccfr_outcome-100_jun16outcome  R .   4:23:40      1 ip-10-255-1-179\n",
      "             86467                       jun16_jun16_3_medium_speed-cfr_outcomemccfr_outcome-102_jun16outcome  R .   2:50:06      1 ip-10-255-1-153\n",
      "             86469                       jun16_jun16_2_medium_speed-cfr_outcomemccfr_outcome-101_jun16outcome  R .   5:29:17      1 ip-10-255-1-212\n",
      "             86476                               jun16_jun16_0_base-cfr_outcomemccfr_outcome-102_jun16outcome  R .   1:48:32      1 ip-10-255-1-250\n",
      "             86477                         jun16_jun16_4_high_speed-cfr_outcomemccfr_outcome-100_jun16outcome  R .   5:25:42      1 ip-10-255-1-190\n",
      "             86480                         jun16_jun16_2_high_speed-cfr_outcomemccfr_outcome-100_jun16outcome  R .   3:57:43      1 ip-10-255-1-249\n",
      "             86484                               jun16_jun16_1_base-cfr_outcomemccfr_outcome-101_jun16outcome  R .   4:28:44      1 ip-10-255-1-176\n",
      "             86504                         jun16_jun16_3_high_speed-cfr_outcomemccfr_outcome-100_jun16outcome  R .   4:41:45      1 ip-10-255-1-209\n",
      "             86505                         jun16_jun16_3_high_speed-cfr_outcomemccfr_outcome-101_jun16outcome  R .   3:17:38      1 ip-10-255-1-166\n",
      "             86507                         jun16_jun16_0_high_speed-cfr_outcomemccfr_outcome-100_jun16outcome  R .   2:38:41      1 ip-10-255-1-244\n",
      "             86509                         jun16_jun16_0_high_speed-cfr_outcomemccfr_outcome-102_jun16outcome  R .   5:10:46      1 ip-10-255-1-143\n",
      "             86519                       jun16_jun16_1_medium_speed-cfr_outcomemccfr_outcome-100_jun16outcome  R .   3:53:38      1 ip-10-255-1-170\n",
      "             86521                       jun16_jun16_1_medium_speed-cfr_outcomemccfr_outcome-102_jun16outcome  R .   6:20:16      1 ip-10-255-1-178\n"
     ]
    }
   ],
   "source": [
    "!squeue --format=\"%.18i %.90j %.2t .%.10M %.6D %R\""
   ]
  },
  {
   "cell_type": "code",
   "execution_count": 36,
   "id": "a8ee533f-357a-4bbc-956e-1cf136ef9266",
   "metadata": {},
   "outputs": [
    {
     "name": "stdout",
     "output_type": "stream",
     "text": [
      "17\n"
     ]
    }
   ],
   "source": [
    "!squeue | wc -l"
   ]
  },
  {
   "cell_type": "code",
   "execution_count": null,
   "id": "a8b665af-771f-44c1-8065-4928e1e5ac91",
   "metadata": {},
   "outputs": [],
   "source": [
    "!squeue | grep \"may30\" | wc -l"
   ]
  },
  {
   "cell_type": "code",
   "execution_count": 3,
   "id": "c26b508d-9ee0-4878-9aa1-68c611ab651a",
   "metadata": {},
   "outputs": [],
   "source": [
    "!scancel -u ubuntu"
   ]
  },
  {
   "cell_type": "code",
   "execution_count": null,
   "id": "aee5cc7e-228c-4484-bb31-efb870f59efa",
   "metadata": {},
   "outputs": [],
   "source": [
    "# !scancel  46891 46893"
   ]
  },
  {
   "cell_type": "code",
   "execution_count": null,
   "id": "3aeeeeb6-6c6f-4e37-9566-3eb8d73d97d5",
   "metadata": {},
   "outputs": [],
   "source": [
    "!rm -rf /shared/outputs/minitest/\n",
    "try:\n",
    "    Experiment.objects.get(name='minitest').delete()\n",
    "except:\n",
    "    pass\n",
    "dispatch.dispatch_experiments('feb2', base_job_name='minitest', game_name='tiny', overrides = '--br_portfolio_path feb2 --eval_every 500 --num_training_episodes 1_000 --br_overrides \"--num_training_episodes 1_000\" --eval_overrides \"--num_samples 100\"')"
   ]
  },
  {
   "cell_type": "code",
   "execution_count": null,
   "id": "d4ca4c72-ce03-4d1a-8e9d-1abd642e8407",
   "metadata": {},
   "outputs": [],
   "source": [
    "BestResponse.objects.last()"
   ]
  },
  {
   "cell_type": "code",
   "execution_count": null,
   "id": "da1b3451-a927-4467-a90d-077f2de61767",
   "metadata": {},
   "outputs": [],
   "source": [
    "Experiment.objects.all()"
   ]
  },
  {
   "cell_type": "code",
   "execution_count": null,
   "id": "0547418d-7d14-404e-ad7f-892180cd6e50",
   "metadata": {},
   "outputs": [],
   "source": [
    "!sacct --starttime 2022-03-11 --format=User,JobID,Jobname,partition,state,time,start,end,elapsed,MaxRss,MaxVMSize,nnodes,ncpus,nodelist"
   ]
  },
  {
   "cell_type": "code",
   "execution_count": null,
   "id": "2fc59f9d-3861-481c-bcd2-68c25e19267a",
   "metadata": {},
   "outputs": [],
   "source": [
    "Evaluation.objects.last()"
   ]
  },
  {
   "cell_type": "code",
   "execution_count": null,
   "id": "eda9b8b7-ea2f-41b0-a527-4460fb8249fc",
   "metadata": {},
   "outputs": [],
   "source": []
  }
 ],
 "metadata": {
  "kernelspec": {
   "display_name": "Django Shell-Plus",
   "language": "python",
   "name": "django_extensions"
  },
  "language_info": {
   "codemirror_mode": {
    "name": "ipython",
    "version": 3
   },
   "file_extension": ".py",
   "mimetype": "text/x-python",
   "name": "python",
   "nbconvert_exporter": "python",
   "pygments_lexer": "ipython3",
   "version": "3.8.2"
  }
 },
 "nbformat": 4,
 "nbformat_minor": 5
}
