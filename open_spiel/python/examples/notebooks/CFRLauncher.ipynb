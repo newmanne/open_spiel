{
 "cells": [
  {
   "cell_type": "code",
   "execution_count": 2,
   "id": "e6f6eef1-52e3-4ff5-af4b-2d5b933ad90b",
   "metadata": {},
   "outputs": [
    {
     "name": "stdout",
     "output_type": "stream",
     "text": [
      "%pylab is deprecated, use %matplotlib inline and import the required libraries.\n",
      "Populating the interactive namespace from numpy and matplotlib\n"
     ]
    }
   ],
   "source": [
    "%load_ext autoreload\n",
    "%autoreload 2\n",
    "%pylab inline"
   ]
  },
  {
   "cell_type": "code",
   "execution_count": 3,
   "id": "53d1f915-16a6-42e9-b93a-3f44564ef069",
   "metadata": {},
   "outputs": [],
   "source": [
    "import sys\n",
    "import glob\n",
    "import pandas as pd\n",
    "import os\n",
    "import seaborn as sns\n",
    "from tqdm import tqdm_notebook as tqdm\n",
    "from statsmodels.distributions.empirical_distribution import ECDF\n",
    "from collections import defaultdict\n",
    "import open_spiel.python.examples.ubc_dispatch as dispatch\n",
    "import os\n",
    "os.environ[\"DJANGO_ALLOW_ASYNC_UNSAFE\"] = \"true\"\n",
    "from sklearn.model_selection import ParameterGrid\n",
    "from pathlib import Path\n",
    "import torch.nn.functional as F\n",
    "import torch"
   ]
  },
  {
   "cell_type": "code",
   "execution_count": 4,
   "id": "a963cf68-f084-47bc-86bf-23882e77f392",
   "metadata": {},
   "outputs": [],
   "source": [
    "game_dir = os.environ[\"CLOCK_AUCTION_CONFIG_DIR\"]"
   ]
  },
  {
   "cell_type": "code",
   "execution_count": 5,
   "id": "48036c62-68f7-4580-82c3-0da36da9c6b4",
   "metadata": {},
   "outputs": [
    {
     "data": {
      "text/plain": [
       "['jun5/jun5_1_high_speed',\n",
       " 'jun5/jun5_2_hide_demand',\n",
       " 'jun5/jun5_3_high_speed',\n",
       " 'jun5/jun5_3_hide_demand',\n",
       " 'jun5/jun5_4_high_speed',\n",
       " 'jun5/jun5_0_base',\n",
       " 'jun5/jun5_4_hide_demand',\n",
       " 'jun5/jun5_0_hide_demand',\n",
       " 'jun5/jun5_1_hide_demand',\n",
       " 'jun5/jun5_4_base',\n",
       " 'jun5/jun5_2_base',\n",
       " 'jun5/jun5_3_base',\n",
       " 'jun5/jun5_0_high_speed',\n",
       " 'jun5/jun5_1_base',\n",
       " 'jun5/jun5_2_high_speed']"
      ]
     },
     "execution_count": 5,
     "metadata": {},
     "output_type": "execute_result"
    }
   ],
   "source": [
    "PREFIX = 'jun5'\n",
    "sats_games = [f'{PREFIX}/' + os.path.basename(x).replace('.json','') for x in glob.glob(f'{game_dir}/{PREFIX}/*')]\n",
    "sats_games"
   ]
  },
  {
   "cell_type": "markdown",
   "id": "01e19a7a-7d0c-4d03-963f-2265e950bf0b",
   "metadata": {},
   "source": [
    "# For running the real dumb test case"
   ]
  },
  {
   "cell_type": "code",
   "execution_count": 6,
   "id": "ff77dd62-1983-4468-9c31-fd042294ca5c",
   "metadata": {},
   "outputs": [
    {
     "name": "stdout",
     "output_type": "stream",
     "text": [
      "15\n"
     ]
    }
   ],
   "source": [
    "pgrid = ParameterGrid([\n",
    "    {\n",
    "        # Defaults\n",
    "        'game': sats_games\n",
    "    },\n",
    "])\n",
    "print(len(pgrid))"
   ]
  },
  {
   "cell_type": "code",
   "execution_count": 7,
   "id": "670efe1e-8e7e-4cef-b04d-78fc7a4cbce6",
   "metadata": {},
   "outputs": [],
   "source": [
    "# num_iters = 1_000_000\n",
    "# for config in pgrid:\n",
    "#     CONFIG = 'cfr_external' # The YML network config folder for the main jobs\n",
    "#     N_SEEDS = 3 # Number of seeds of each experiment to launch\n",
    "#     extra_name = ''\n",
    "#     overrides = f'--overwrite_db True --eval_every 999_000_000 --eval_zero false --total_timesteps {num_iters} --dispatch_br false --report_freq 5000'      \n",
    "#     dispatch.dispatch_experiments(CONFIG, cpus=4, base_job_name='jun2', game_name=config['game'], overrides=overrides, n_seeds=N_SEEDS, extra_name=extra_name, alg='cfr')"
   ]
  },
  {
   "cell_type": "code",
   "execution_count": 8,
   "id": "457a17e0-3467-49e7-a1fc-ef7b061e49ff",
   "metadata": {},
   "outputs": [
    {
     "name": "stdout",
     "output_type": "stream",
     "text": [
      "Submitted batch job 81834\n",
      "Submitted batch job 81835\n",
      "Submitted batch job 81836\n",
      "Submitted batch job 81837\n",
      "Submitted batch job 81838\n",
      "Submitted batch job 81839\n",
      "Submitted batch job 81840\n",
      "Submitted batch job 81841\n",
      "Submitted batch job 81842\n",
      "Submitted batch job 81843\n",
      "Submitted batch job 81844\n",
      "Submitted batch job 81845\n",
      "Submitted batch job 81846\n",
      "Submitted batch job 81847\n",
      "Submitted batch job 81848\n",
      "Submitted batch job 81849\n",
      "Submitted batch job 81850\n",
      "Submitted batch job 81851\n",
      "Submitted batch job 81852\n",
      "Submitted batch job 81853\n",
      "Submitted batch job 81854\n",
      "Submitted batch job 81855\n",
      "Submitted batch job 81856\n",
      "Submitted batch job 81857\n",
      "Submitted batch job 81858\n",
      "Submitted batch job 81859\n",
      "Submitted batch job 81860\n",
      "Submitted batch job 81861\n",
      "Submitted batch job 81862\n",
      "Submitted batch job 81863\n",
      "Submitted batch job 81864\n",
      "Submitted batch job 81865\n",
      "Submitted batch job 81866\n",
      "Submitted batch job 81867\n",
      "Submitted batch job 81868\n",
      "Submitted batch job 81869\n",
      "Submitted batch job 81870\n",
      "Submitted batch job 81871\n",
      "Submitted batch job 81872\n",
      "Submitted batch job 81873\n",
      "Submitted batch job 81874\n",
      "Submitted batch job 81875\n",
      "Submitted batch job 81876\n",
      "Submitted batch job 81877\n",
      "Submitted batch job 81878\n"
     ]
    }
   ],
   "source": [
    "num_iters = 10_000_000\n",
    "for config in pgrid:\n",
    "    CONFIG = 'cfr_outcome' # The YML network config folder for the main jobs\n",
    "    N_SEEDS = 3 # Number of seeds of each experiment to launch\n",
    "    extra_name = ''\n",
    "    overrides = f'--overwrite_db True --eval_every 999_000_000 --eval_zero false --total_timesteps {num_iters} --dispatch_br false --report_freq 5000'      \n",
    "    dispatch.dispatch_experiments(CONFIG, cpus=4, base_job_name='jun5outcome', game_name=config['game'], overrides=overrides, n_seeds=N_SEEDS, extra_name=extra_name, alg='cfr')"
   ]
  },
  {
   "cell_type": "code",
   "execution_count": 11,
   "id": "3e5c26b7-d158-4ece-a72a-c3b2fd47a56f",
   "metadata": {
    "tags": []
   },
   "outputs": [
    {
     "name": "stdout",
     "output_type": "stream",
     "text": [
      "             JOBID                                                                                       NAME ST .      TIME  NODES NODELIST(REASON)\n",
      "             81838                           jun5_jun5_2_hide_demand-cfr_outcomemccfr_outcome-101_jun5outcome PD .      0:00      1 (Resources)\n",
      "             81839                           jun5_jun5_2_hide_demand-cfr_outcomemccfr_outcome-102_jun5outcome PD .      0:00      1 (Priority)\n",
      "             81840                            jun5_jun5_3_high_speed-cfr_outcomemccfr_outcome-100_jun5outcome PD .      0:00      1 (Priority)\n",
      "             81841                            jun5_jun5_3_high_speed-cfr_outcomemccfr_outcome-101_jun5outcome PD .      0:00      1 (Priority)\n",
      "             81842                            jun5_jun5_3_high_speed-cfr_outcomemccfr_outcome-102_jun5outcome PD .      0:00      1 (Priority)\n",
      "             81843                           jun5_jun5_3_hide_demand-cfr_outcomemccfr_outcome-100_jun5outcome PD .      0:00      1 (Priority)\n",
      "             81844                           jun5_jun5_3_hide_demand-cfr_outcomemccfr_outcome-101_jun5outcome PD .      0:00      1 (Priority)\n",
      "             81845                           jun5_jun5_3_hide_demand-cfr_outcomemccfr_outcome-102_jun5outcome PD .      0:00      1 (Priority)\n",
      "             81846                            jun5_jun5_4_high_speed-cfr_outcomemccfr_outcome-100_jun5outcome PD .      0:00      1 (Priority)\n",
      "             81847                            jun5_jun5_4_high_speed-cfr_outcomemccfr_outcome-101_jun5outcome PD .      0:00      1 (Priority)\n",
      "             81848                            jun5_jun5_4_high_speed-cfr_outcomemccfr_outcome-102_jun5outcome PD .      0:00      1 (Priority)\n",
      "             81849                                  jun5_jun5_0_base-cfr_outcomemccfr_outcome-100_jun5outcome PD .      0:00      1 (Priority)\n",
      "             81850                                  jun5_jun5_0_base-cfr_outcomemccfr_outcome-101_jun5outcome PD .      0:00      1 (Priority)\n",
      "             81851                                  jun5_jun5_0_base-cfr_outcomemccfr_outcome-102_jun5outcome PD .      0:00      1 (Priority)\n",
      "             81852                           jun5_jun5_4_hide_demand-cfr_outcomemccfr_outcome-100_jun5outcome PD .      0:00      1 (Priority)\n",
      "             81853                           jun5_jun5_4_hide_demand-cfr_outcomemccfr_outcome-101_jun5outcome PD .      0:00      1 (Priority)\n",
      "             81854                           jun5_jun5_4_hide_demand-cfr_outcomemccfr_outcome-102_jun5outcome PD .      0:00      1 (Priority)\n",
      "             81855                           jun5_jun5_0_hide_demand-cfr_outcomemccfr_outcome-100_jun5outcome PD .      0:00      1 (Priority)\n",
      "             81856                           jun5_jun5_0_hide_demand-cfr_outcomemccfr_outcome-101_jun5outcome PD .      0:00      1 (Priority)\n",
      "             81857                           jun5_jun5_0_hide_demand-cfr_outcomemccfr_outcome-102_jun5outcome PD .      0:00      1 (Priority)\n",
      "             81858                           jun5_jun5_1_hide_demand-cfr_outcomemccfr_outcome-100_jun5outcome PD .      0:00      1 (Priority)\n",
      "             81859                           jun5_jun5_1_hide_demand-cfr_outcomemccfr_outcome-101_jun5outcome PD .      0:00      1 (Priority)\n",
      "             81860                           jun5_jun5_1_hide_demand-cfr_outcomemccfr_outcome-102_jun5outcome PD .      0:00      1 (Priority)\n",
      "             81861                                  jun5_jun5_4_base-cfr_outcomemccfr_outcome-100_jun5outcome PD .      0:00      1 (Priority)\n",
      "             81862                                  jun5_jun5_4_base-cfr_outcomemccfr_outcome-101_jun5outcome PD .      0:00      1 (Priority)\n",
      "             81863                                  jun5_jun5_4_base-cfr_outcomemccfr_outcome-102_jun5outcome PD .      0:00      1 (Priority)\n",
      "             81864                                  jun5_jun5_2_base-cfr_outcomemccfr_outcome-100_jun5outcome PD .      0:00      1 (Priority)\n",
      "             81865                                  jun5_jun5_2_base-cfr_outcomemccfr_outcome-101_jun5outcome PD .      0:00      1 (Priority)\n",
      "             81866                                  jun5_jun5_2_base-cfr_outcomemccfr_outcome-102_jun5outcome PD .      0:00      1 (Priority)\n",
      "             81867                                  jun5_jun5_3_base-cfr_outcomemccfr_outcome-100_jun5outcome PD .      0:00      1 (Priority)\n",
      "             81868                                  jun5_jun5_3_base-cfr_outcomemccfr_outcome-101_jun5outcome PD .      0:00      1 (Priority)\n",
      "             81869                                  jun5_jun5_3_base-cfr_outcomemccfr_outcome-102_jun5outcome PD .      0:00      1 (Priority)\n",
      "             81870                            jun5_jun5_0_high_speed-cfr_outcomemccfr_outcome-100_jun5outcome PD .      0:00      1 (Priority)\n",
      "             81871                            jun5_jun5_0_high_speed-cfr_outcomemccfr_outcome-101_jun5outcome PD .      0:00      1 (Priority)\n",
      "             81872                            jun5_jun5_0_high_speed-cfr_outcomemccfr_outcome-102_jun5outcome PD .      0:00      1 (Priority)\n",
      "             81873                                  jun5_jun5_1_base-cfr_outcomemccfr_outcome-100_jun5outcome PD .      0:00      1 (Priority)\n",
      "             81874                                  jun5_jun5_1_base-cfr_outcomemccfr_outcome-101_jun5outcome PD .      0:00      1 (Priority)\n",
      "             81875                                  jun5_jun5_1_base-cfr_outcomemccfr_outcome-102_jun5outcome PD .      0:00      1 (Priority)\n",
      "             81876                            jun5_jun5_2_high_speed-cfr_outcomemccfr_outcome-100_jun5outcome PD .      0:00      1 (Priority)\n",
      "             81877                            jun5_jun5_2_high_speed-cfr_outcomemccfr_outcome-101_jun5outcome PD .      0:00      1 (Priority)\n",
      "             81878                            jun5_jun5_2_high_speed-cfr_outcomemccfr_outcome-102_jun5outcome PD .      0:00      1 (Priority)\n",
      "             81834                            jun5_jun5_1_high_speed-cfr_outcomemccfr_outcome-100_jun5outcome  R .      1:00      1 ip-10-255-1-213\n",
      "             81835                            jun5_jun5_1_high_speed-cfr_outcomemccfr_outcome-101_jun5outcome  R .      1:00      1 ip-10-255-1-213\n",
      "             81836                            jun5_jun5_1_high_speed-cfr_outcomemccfr_outcome-102_jun5outcome  R .      1:00      1 ip-10-255-1-213\n",
      "             81837                           jun5_jun5_2_hide_demand-cfr_outcomemccfr_outcome-100_jun5outcome  R .      1:00      1 ip-10-255-1-213\n"
     ]
    }
   ],
   "source": [
    "!squeue --format=\"%.18i %.90j %.2t .%.10M %.6D %R\""
   ]
  },
  {
   "cell_type": "code",
   "execution_count": 47,
   "id": "a8ee533f-357a-4bbc-956e-1cf136ef9266",
   "metadata": {},
   "outputs": [
    {
     "name": "stdout",
     "output_type": "stream",
     "text": [
      "91\n"
     ]
    }
   ],
   "source": [
    "!squeue | wc -l"
   ]
  },
  {
   "cell_type": "code",
   "execution_count": null,
   "id": "a8b665af-771f-44c1-8065-4928e1e5ac91",
   "metadata": {},
   "outputs": [],
   "source": [
    "!squeue | grep \"may30\" | wc -l"
   ]
  },
  {
   "cell_type": "code",
   "execution_count": 21,
   "id": "c26b508d-9ee0-4878-9aa1-68c611ab651a",
   "metadata": {},
   "outputs": [],
   "source": [
    "!scancel -u ubuntu"
   ]
  },
  {
   "cell_type": "code",
   "execution_count": null,
   "id": "aee5cc7e-228c-4484-bb31-efb870f59efa",
   "metadata": {},
   "outputs": [],
   "source": [
    "# !scancel  46891 46893"
   ]
  },
  {
   "cell_type": "code",
   "execution_count": null,
   "id": "3aeeeeb6-6c6f-4e37-9566-3eb8d73d97d5",
   "metadata": {},
   "outputs": [],
   "source": [
    "!rm -rf /shared/outputs/minitest/\n",
    "try:\n",
    "    Experiment.objects.get(name='minitest').delete()\n",
    "except:\n",
    "    pass\n",
    "dispatch.dispatch_experiments('feb2', base_job_name='minitest', game_name='tiny', overrides = '--br_portfolio_path feb2 --eval_every 500 --num_training_episodes 1_000 --br_overrides \"--num_training_episodes 1_000\" --eval_overrides \"--num_samples 100\"')"
   ]
  },
  {
   "cell_type": "code",
   "execution_count": null,
   "id": "d4ca4c72-ce03-4d1a-8e9d-1abd642e8407",
   "metadata": {},
   "outputs": [],
   "source": [
    "BestResponse.objects.last()"
   ]
  },
  {
   "cell_type": "code",
   "execution_count": null,
   "id": "da1b3451-a927-4467-a90d-077f2de61767",
   "metadata": {},
   "outputs": [],
   "source": [
    "Experiment.objects.all()"
   ]
  },
  {
   "cell_type": "code",
   "execution_count": null,
   "id": "0547418d-7d14-404e-ad7f-892180cd6e50",
   "metadata": {},
   "outputs": [],
   "source": [
    "!sacct --starttime 2022-03-11 --format=User,JobID,Jobname,partition,state,time,start,end,elapsed,MaxRss,MaxVMSize,nnodes,ncpus,nodelist"
   ]
  },
  {
   "cell_type": "code",
   "execution_count": 13,
   "id": "2fc59f9d-3861-481c-bcd2-68c25e19267a",
   "metadata": {},
   "outputs": [
    {
     "data": {
      "text/plain": [
       "<Evaluation: Evaluation for may30_may30_0_base-cfr_may20_23mccfr-100 (may30_sats) Iteration 999>"
      ]
     },
     "execution_count": 13,
     "metadata": {},
     "output_type": "execute_result"
    }
   ],
   "source": [
    "Evaluation.objects.last()"
   ]
  },
  {
   "cell_type": "code",
   "execution_count": null,
   "id": "eda9b8b7-ea2f-41b0-a527-4460fb8249fc",
   "metadata": {},
   "outputs": [],
   "source": []
  }
 ],
 "metadata": {
  "kernelspec": {
   "display_name": "Django Shell-Plus",
   "language": "python",
   "name": "django_extensions"
  },
  "language_info": {
   "codemirror_mode": {
    "name": "ipython",
    "version": 3
   },
   "file_extension": ".py",
   "mimetype": "text/x-python",
   "name": "python",
   "nbconvert_exporter": "python",
   "pygments_lexer": "ipython3",
   "version": "3.8.2"
  }
 },
 "nbformat": 4,
 "nbformat_minor": 5
}
