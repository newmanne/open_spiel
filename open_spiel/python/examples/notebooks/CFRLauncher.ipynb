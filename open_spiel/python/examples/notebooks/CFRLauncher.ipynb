{
 "cells": [
  {
   "cell_type": "code",
   "execution_count": null,
   "id": "e6f6eef1-52e3-4ff5-af4b-2d5b933ad90b",
   "metadata": {},
   "outputs": [],
   "source": [
    "%load_ext autoreload\n",
    "%autoreload 2\n",
    "%pylab inline"
   ]
  },
  {
   "cell_type": "code",
   "execution_count": 6,
   "id": "53d1f915-16a6-42e9-b93a-3f44564ef069",
   "metadata": {},
   "outputs": [],
   "source": [
    "import sys\n",
    "import glob\n",
    "import pandas as pd\n",
    "import os\n",
    "import seaborn as sns\n",
    "from tqdm import tqdm_notebook as tqdm\n",
    "from statsmodels.distributions.empirical_distribution import ECDF\n",
    "from collections import defaultdict\n",
    "import open_spiel.python.examples.ubc_dispatch as dispatch\n",
    "import os\n",
    "os.environ[\"DJANGO_ALLOW_ASYNC_UNSAFE\"] = \"true\"\n",
    "from sklearn.model_selection import ParameterGrid\n",
    "from pathlib import Path\n",
    "import torch.nn.functional as F\n",
    "import torch"
   ]
  },
  {
   "cell_type": "code",
   "execution_count": 7,
   "id": "a963cf68-f084-47bc-86bf-23882e77f392",
   "metadata": {},
   "outputs": [],
   "source": [
    "game_dir = os.environ[\"CLOCK_AUCTION_CONFIG_DIR\"]"
   ]
  },
  {
   "cell_type": "code",
   "execution_count": 8,
   "id": "48036c62-68f7-4580-82c3-0da36da9c6b4",
   "metadata": {},
   "outputs": [
    {
     "data": {
      "text/plain": [
       "['jun22/jun22_0_no_activity',\n",
       " 'jun22/jun22_1_base',\n",
       " 'jun22/jun22_1_high_speed',\n",
       " 'jun22/jun22_1_no_activity',\n",
       " 'jun22/jun22_3_base',\n",
       " 'jun22/jun22_3_undersell_allowed',\n",
       " 'jun22/jun22_4_medium_speed',\n",
       " 'jun22/jun22_2_medium_speed',\n",
       " 'jun22/jun22_3_medium_speed',\n",
       " 'jun22/jun22_0_medium_speed',\n",
       " 'jun22/jun22_3_no_activity',\n",
       " 'jun22/jun22_1_undersell_allowed',\n",
       " 'jun22/jun22_1_medium_speed',\n",
       " 'jun22/jun22_2_high_speed',\n",
       " 'jun22/jun22_2_base',\n",
       " 'jun22/jun22_0_undersell_allowed',\n",
       " 'jun22/jun22_0_base',\n",
       " 'jun22/jun22_2_no_activity',\n",
       " 'jun22/jun22_4_undersell_allowed',\n",
       " 'jun22/jun22_3_high_speed',\n",
       " 'jun22/jun22_4_high_speed',\n",
       " 'jun22/jun22_4_no_activity',\n",
       " 'jun22/jun22_2_undersell_allowed',\n",
       " 'jun22/jun22_4_base',\n",
       " 'jun22/jun22_0_high_speed']"
      ]
     },
     "execution_count": 8,
     "metadata": {},
     "output_type": "execute_result"
    }
   ],
   "source": [
    "PREFIX = 'jun22'\n",
    "sats_games = [f'{PREFIX}/' + os.path.basename(x).replace('.json','') for x in glob.glob(f'{game_dir}/{PREFIX}/*')]\n",
    "sats_games"
   ]
  },
  {
   "cell_type": "markdown",
   "id": "01e19a7a-7d0c-4d03-963f-2265e950bf0b",
   "metadata": {},
   "source": [
    "# For running the real dumb test case"
   ]
  },
  {
   "cell_type": "code",
   "execution_count": 10,
   "id": "ff77dd62-1983-4468-9c31-fd042294ca5c",
   "metadata": {},
   "outputs": [
    {
     "name": "stdout",
     "output_type": "stream",
     "text": [
      "25\n"
     ]
    }
   ],
   "source": [
    "pgrid = ParameterGrid([\n",
    "    {\n",
    "        # Defaults\n",
    "        'game': [g for g in sats_games]# if 'hide' not in g and 'imperfect' not in g]\n",
    "    },\n",
    "])\n",
    "print(len(pgrid))"
   ]
  },
  {
   "cell_type": "code",
   "execution_count": 12,
   "id": "670efe1e-8e7e-4cef-b04d-78fc7a4cbce6",
   "metadata": {},
   "outputs": [
    {
     "name": "stdout",
     "output_type": "stream",
     "text": [
      "Submitted batch job 86951\n",
      "Submitted batch job 86952\n",
      "Submitted batch job 86953\n",
      "Submitted batch job 86954\n",
      "Submitted batch job 86955\n",
      "Submitted batch job 86956\n",
      "Submitted batch job 86957\n",
      "Submitted batch job 86958\n",
      "Submitted batch job 86959\n",
      "Submitted batch job 86960\n",
      "Submitted batch job 86961\n",
      "Submitted batch job 86962\n",
      "Submitted batch job 86963\n",
      "Submitted batch job 86964\n",
      "Submitted batch job 86965\n",
      "Submitted batch job 86966\n",
      "Submitted batch job 86967\n",
      "Submitted batch job 86968\n",
      "Submitted batch job 86969\n",
      "Submitted batch job 86970\n",
      "Submitted batch job 86971\n",
      "Submitted batch job 86972\n",
      "Submitted batch job 86973\n",
      "Submitted batch job 86974\n",
      "Submitted batch job 86975\n"
     ]
    }
   ],
   "source": [
    "num_iters = 10_000_000\n",
    "time_limit_seconds = 3600 * 12\n",
    "for config in pgrid:\n",
    "    CONFIG = 'cfr_external' # The YML network config folder for the main jobs\n",
    "    N_SEEDS = 1 # Number of seeds of each experiment to launch\n",
    "    extra_name = ''\n",
    "    overrides = f'--overwrite_db True --eval_every 250_000 --eval_zero false --total_timesteps {num_iters} --dispatch_br false --report_freq 5000 --time_limit_seconds {time_limit_seconds}'      \n",
    "    dispatch.dispatch_experiments(CONFIG, base_job_name='jun23external', game_name=config['game'], overrides=overrides, n_seeds=N_SEEDS, extra_name=extra_name, alg='cfr')"
   ]
  },
  {
   "cell_type": "code",
   "execution_count": 11,
   "id": "457a17e0-3467-49e7-a1fc-ef7b061e49ff",
   "metadata": {},
   "outputs": [
    {
     "name": "stdout",
     "output_type": "stream",
     "text": [
      "Submitted batch job 86876\n",
      "Submitted batch job 86877\n",
      "Submitted batch job 86878\n",
      "Submitted batch job 86879\n",
      "Submitted batch job 86880\n",
      "Submitted batch job 86881\n",
      "Submitted batch job 86882\n",
      "Submitted batch job 86883\n",
      "Submitted batch job 86884\n",
      "Submitted batch job 86885\n",
      "Submitted batch job 86886\n",
      "Submitted batch job 86887\n",
      "Submitted batch job 86888\n",
      "Submitted batch job 86889\n",
      "Submitted batch job 86890\n",
      "Submitted batch job 86891\n",
      "Submitted batch job 86892\n",
      "Submitted batch job 86893\n",
      "Submitted batch job 86894\n",
      "Submitted batch job 86895\n",
      "Submitted batch job 86896\n",
      "Submitted batch job 86897\n",
      "Submitted batch job 86898\n",
      "Submitted batch job 86899\n",
      "Submitted batch job 86900\n",
      "Submitted batch job 86901\n",
      "Submitted batch job 86902\n",
      "Submitted batch job 86903\n",
      "Submitted batch job 86904\n",
      "Submitted batch job 86905\n",
      "Submitted batch job 86906\n",
      "Submitted batch job 86907\n",
      "Submitted batch job 86908\n",
      "Submitted batch job 86909\n",
      "Submitted batch job 86910\n",
      "Submitted batch job 86911\n",
      "Submitted batch job 86912\n",
      "Submitted batch job 86913\n",
      "Submitted batch job 86914\n",
      "Submitted batch job 86915\n",
      "Submitted batch job 86916\n",
      "Submitted batch job 86917\n",
      "Submitted batch job 86918\n",
      "Submitted batch job 86919\n",
      "Submitted batch job 86920\n",
      "Submitted batch job 86921\n",
      "Submitted batch job 86922\n",
      "Submitted batch job 86923\n",
      "Submitted batch job 86924\n",
      "Submitted batch job 86925\n",
      "Submitted batch job 86926\n",
      "Submitted batch job 86927\n",
      "Submitted batch job 86928\n",
      "Submitted batch job 86929\n",
      "Submitted batch job 86930\n",
      "Submitted batch job 86931\n",
      "Submitted batch job 86932\n",
      "Submitted batch job 86933\n",
      "Submitted batch job 86934\n",
      "Submitted batch job 86935\n",
      "Submitted batch job 86936\n",
      "Submitted batch job 86937\n",
      "Submitted batch job 86938\n",
      "Submitted batch job 86939\n",
      "Submitted batch job 86940\n",
      "Submitted batch job 86941\n",
      "Submitted batch job 86942\n",
      "Submitted batch job 86943\n",
      "Submitted batch job 86944\n",
      "Submitted batch job 86945\n",
      "Submitted batch job 86946\n",
      "Submitted batch job 86947\n",
      "Submitted batch job 86948\n",
      "Submitted batch job 86949\n",
      "Submitted batch job 86950\n"
     ]
    }
   ],
   "source": [
    "num_iters = 30_000_000\n",
    "time_limit_seconds = 3600 * 12\n",
    "for config in pgrid:\n",
    "    CONFIG = 'cfr_outcome' # The YML network config folder for the main jobs\n",
    "    N_SEEDS = 3 # Number of seeds of each experiment to launch\n",
    "    extra_name = ''\n",
    "    overrides = f'--overwrite_db True --eval_every 5_000_000 --eval_zero false --total_timesteps {num_iters} --dispatch_br false --report_freq 5000'      \n",
    "    dispatch.dispatch_experiments(CONFIG, base_job_name='jun23outcome', game_name=config['game'], overrides=overrides, n_seeds=N_SEEDS, extra_name=extra_name, alg='cfr')"
   ]
  },
  {
   "cell_type": "code",
   "execution_count": null,
   "id": "534e93c4-35cb-4af5-8140-6ca5bb9d859b",
   "metadata": {},
   "outputs": [],
   "source": [
    "# for config in pgrid:\n",
    "#     CONFIG = 'ppo_no_ent_jun14'\n",
    "#     # CONFIG = 'ppo_may31_23' # The YML network config folder for the main jobs\n",
    "#     # BR_CONFIG = 'ppo_may31_23' \n",
    "#     N_SEEDS = 3 # Number of seeds of each experiment to launch\n",
    "#     extra_name = ''\n",
    "#     overrides = f'--overwrite_db True --br_portfolio_path {BR_CONFIG} --eval_every 999_000_000 --eval_zero false --total_timesteps 5_000_000 --dispatch_br false --br_overrides \"--total_timesteps 1_000_000\"'        \n",
    "#     dispatch.dispatch_experiments(CONFIG, base_job_name='jun14ent_3', game_name=config['game'], overrides=overrides, n_seeds=N_SEEDS, extra_name=extra_name)"
   ]
  },
  {
   "cell_type": "code",
   "execution_count": 14,
   "id": "4a6067d6-ea75-47a7-aec8-265ce62ad4aa",
   "metadata": {},
   "outputs": [
    {
     "name": "stdout",
     "output_type": "stream",
     "text": [
      "             JOBID                                                                                       NAME ST .      TIME  NODES NODELIST(REASON)\n",
      "             86876                        jun22_jun22_0_no_activity-cfr_outcomemccfr_outcome-100_jun23outcome  R .      0:08      1 ip-10-255-1-134\n",
      "             86877                        jun22_jun22_0_no_activity-cfr_outcomemccfr_outcome-101_jun23outcome  R .      0:08      1 ip-10-255-1-134\n",
      "             86878                        jun22_jun22_0_no_activity-cfr_outcomemccfr_outcome-102_jun23outcome  R .      0:08      1 ip-10-255-1-134\n",
      "             86879                               jun22_jun22_1_base-cfr_outcomemccfr_outcome-100_jun23outcome  R .      0:08      1 ip-10-255-1-134\n",
      "             86880                               jun22_jun22_1_base-cfr_outcomemccfr_outcome-101_jun23outcome  R .      0:08      1 ip-10-255-1-146\n",
      "             86881                               jun22_jun22_1_base-cfr_outcomemccfr_outcome-102_jun23outcome  R .      0:08      1 ip-10-255-1-146\n",
      "             86882                         jun22_jun22_1_high_speed-cfr_outcomemccfr_outcome-100_jun23outcome  R .      0:08      1 ip-10-255-1-146\n",
      "             86883                         jun22_jun22_1_high_speed-cfr_outcomemccfr_outcome-101_jun23outcome  R .      0:08      1 ip-10-255-1-146\n",
      "             86884                         jun22_jun22_1_high_speed-cfr_outcomemccfr_outcome-102_jun23outcome  R .      0:08      1 ip-10-255-1-150\n",
      "             86885                        jun22_jun22_1_no_activity-cfr_outcomemccfr_outcome-100_jun23outcome  R .      0:08      1 ip-10-255-1-150\n",
      "             86886                        jun22_jun22_1_no_activity-cfr_outcomemccfr_outcome-101_jun23outcome  R .      0:08      1 ip-10-255-1-150\n",
      "             86887                        jun22_jun22_1_no_activity-cfr_outcomemccfr_outcome-102_jun23outcome  R .      0:08      1 ip-10-255-1-150\n",
      "             86888                               jun22_jun22_3_base-cfr_outcomemccfr_outcome-100_jun23outcome  R .      0:08      1 ip-10-255-1-151\n",
      "             86889                               jun22_jun22_3_base-cfr_outcomemccfr_outcome-101_jun23outcome  R .      0:08      1 ip-10-255-1-151\n",
      "             86890                               jun22_jun22_3_base-cfr_outcomemccfr_outcome-102_jun23outcome  R .      0:08      1 ip-10-255-1-151\n",
      "             86891                  jun22_jun22_3_undersell_allowed-cfr_outcomemccfr_outcome-100_jun23outcome  R .      0:08      1 ip-10-255-1-151\n",
      "             86892                  jun22_jun22_3_undersell_allowed-cfr_outcomemccfr_outcome-101_jun23outcome  R .      0:08      1 ip-10-255-1-155\n",
      "             86893                  jun22_jun22_3_undersell_allowed-cfr_outcomemccfr_outcome-102_jun23outcome  R .      0:08      1 ip-10-255-1-155\n",
      "             86894                       jun22_jun22_4_medium_speed-cfr_outcomemccfr_outcome-100_jun23outcome  R .      0:08      1 ip-10-255-1-155\n",
      "             86895                       jun22_jun22_4_medium_speed-cfr_outcomemccfr_outcome-101_jun23outcome  R .      0:08      1 ip-10-255-1-155\n",
      "             86896                       jun22_jun22_4_medium_speed-cfr_outcomemccfr_outcome-102_jun23outcome  R .      0:08      1 ip-10-255-1-157\n",
      "             86897                       jun22_jun22_2_medium_speed-cfr_outcomemccfr_outcome-100_jun23outcome  R .      0:08      1 ip-10-255-1-157\n",
      "             86898                       jun22_jun22_2_medium_speed-cfr_outcomemccfr_outcome-101_jun23outcome  R .      0:08      1 ip-10-255-1-157\n",
      "             86899                       jun22_jun22_2_medium_speed-cfr_outcomemccfr_outcome-102_jun23outcome  R .      0:08      1 ip-10-255-1-157\n",
      "             86900                       jun22_jun22_3_medium_speed-cfr_outcomemccfr_outcome-100_jun23outcome  R .      0:08      1 ip-10-255-1-158\n",
      "             86901                       jun22_jun22_3_medium_speed-cfr_outcomemccfr_outcome-101_jun23outcome  R .      0:08      1 ip-10-255-1-158\n",
      "             86902                       jun22_jun22_3_medium_speed-cfr_outcomemccfr_outcome-102_jun23outcome  R .      0:08      1 ip-10-255-1-158\n",
      "             86903                       jun22_jun22_0_medium_speed-cfr_outcomemccfr_outcome-100_jun23outcome  R .      0:08      1 ip-10-255-1-158\n",
      "             86904                       jun22_jun22_0_medium_speed-cfr_outcomemccfr_outcome-101_jun23outcome  R .      0:08      1 ip-10-255-1-163\n",
      "             86905                       jun22_jun22_0_medium_speed-cfr_outcomemccfr_outcome-102_jun23outcome  R .      0:08      1 ip-10-255-1-163\n",
      "             86906                        jun22_jun22_3_no_activity-cfr_outcomemccfr_outcome-100_jun23outcome  R .      0:08      1 ip-10-255-1-163\n",
      "             86907                        jun22_jun22_3_no_activity-cfr_outcomemccfr_outcome-101_jun23outcome  R .      0:08      1 ip-10-255-1-163\n",
      "             86908                        jun22_jun22_3_no_activity-cfr_outcomemccfr_outcome-102_jun23outcome  R .      0:08      1 ip-10-255-1-168\n",
      "             86909                  jun22_jun22_1_undersell_allowed-cfr_outcomemccfr_outcome-100_jun23outcome  R .      0:08      1 ip-10-255-1-168\n",
      "             86910                  jun22_jun22_1_undersell_allowed-cfr_outcomemccfr_outcome-101_jun23outcome  R .      0:08      1 ip-10-255-1-168\n",
      "             86911                  jun22_jun22_1_undersell_allowed-cfr_outcomemccfr_outcome-102_jun23outcome  R .      0:08      1 ip-10-255-1-168\n",
      "             86912                       jun22_jun22_1_medium_speed-cfr_outcomemccfr_outcome-100_jun23outcome  R .      0:08      1 ip-10-255-1-172\n",
      "             86913                       jun22_jun22_1_medium_speed-cfr_outcomemccfr_outcome-101_jun23outcome  R .      0:08      1 ip-10-255-1-172\n",
      "             86914                       jun22_jun22_1_medium_speed-cfr_outcomemccfr_outcome-102_jun23outcome  R .      0:08      1 ip-10-255-1-172\n",
      "             86915                         jun22_jun22_2_high_speed-cfr_outcomemccfr_outcome-100_jun23outcome  R .      0:08      1 ip-10-255-1-172\n",
      "             86916                         jun22_jun22_2_high_speed-cfr_outcomemccfr_outcome-101_jun23outcome  R .      0:08      1 ip-10-255-1-175\n",
      "             86917                         jun22_jun22_2_high_speed-cfr_outcomemccfr_outcome-102_jun23outcome  R .      0:08      1 ip-10-255-1-175\n",
      "             86918                               jun22_jun22_2_base-cfr_outcomemccfr_outcome-100_jun23outcome  R .      0:08      1 ip-10-255-1-175\n",
      "             86919                               jun22_jun22_2_base-cfr_outcomemccfr_outcome-101_jun23outcome  R .      0:08      1 ip-10-255-1-175\n",
      "             86920                               jun22_jun22_2_base-cfr_outcomemccfr_outcome-102_jun23outcome  R .      0:08      1 ip-10-255-1-177\n",
      "             86921                  jun22_jun22_0_undersell_allowed-cfr_outcomemccfr_outcome-100_jun23outcome  R .      0:08      1 ip-10-255-1-177\n",
      "             86922                  jun22_jun22_0_undersell_allowed-cfr_outcomemccfr_outcome-101_jun23outcome  R .      0:08      1 ip-10-255-1-177\n",
      "             86923                  jun22_jun22_0_undersell_allowed-cfr_outcomemccfr_outcome-102_jun23outcome  R .      0:08      1 ip-10-255-1-177\n",
      "             86924                               jun22_jun22_0_base-cfr_outcomemccfr_outcome-100_jun23outcome  R .      0:08      1 ip-10-255-1-181\n",
      "             86925                               jun22_jun22_0_base-cfr_outcomemccfr_outcome-101_jun23outcome  R .      0:08      1 ip-10-255-1-181\n",
      "             86926                               jun22_jun22_0_base-cfr_outcomemccfr_outcome-102_jun23outcome  R .      0:08      1 ip-10-255-1-181\n",
      "             86927                        jun22_jun22_2_no_activity-cfr_outcomemccfr_outcome-100_jun23outcome  R .      0:08      1 ip-10-255-1-181\n",
      "             86928                        jun22_jun22_2_no_activity-cfr_outcomemccfr_outcome-101_jun23outcome  R .      0:08      1 ip-10-255-1-182\n",
      "             86929                        jun22_jun22_2_no_activity-cfr_outcomemccfr_outcome-102_jun23outcome  R .      0:08      1 ip-10-255-1-182\n",
      "             86930                  jun22_jun22_4_undersell_allowed-cfr_outcomemccfr_outcome-100_jun23outcome  R .      0:08      1 ip-10-255-1-182\n",
      "             86931                  jun22_jun22_4_undersell_allowed-cfr_outcomemccfr_outcome-101_jun23outcome  R .      0:08      1 ip-10-255-1-182\n",
      "             86932                  jun22_jun22_4_undersell_allowed-cfr_outcomemccfr_outcome-102_jun23outcome  R .      0:08      1 ip-10-255-1-191\n",
      "             86933                         jun22_jun22_3_high_speed-cfr_outcomemccfr_outcome-100_jun23outcome  R .      0:08      1 ip-10-255-1-191\n",
      "             86934                         jun22_jun22_3_high_speed-cfr_outcomemccfr_outcome-101_jun23outcome  R .      0:08      1 ip-10-255-1-191\n",
      "             86935                         jun22_jun22_3_high_speed-cfr_outcomemccfr_outcome-102_jun23outcome  R .      0:08      1 ip-10-255-1-191\n",
      "             86936                         jun22_jun22_4_high_speed-cfr_outcomemccfr_outcome-100_jun23outcome  R .      0:08      1 ip-10-255-1-197\n",
      "             86937                         jun22_jun22_4_high_speed-cfr_outcomemccfr_outcome-101_jun23outcome  R .      0:08      1 ip-10-255-1-197\n",
      "             86938                         jun22_jun22_4_high_speed-cfr_outcomemccfr_outcome-102_jun23outcome  R .      0:08      1 ip-10-255-1-197\n",
      "             86939                        jun22_jun22_4_no_activity-cfr_outcomemccfr_outcome-100_jun23outcome  R .      0:08      1 ip-10-255-1-197\n",
      "             86940                        jun22_jun22_4_no_activity-cfr_outcomemccfr_outcome-101_jun23outcome  R .      0:08      1 ip-10-255-1-201\n",
      "             86941                        jun22_jun22_4_no_activity-cfr_outcomemccfr_outcome-102_jun23outcome  R .      0:08      1 ip-10-255-1-201\n",
      "             86942                  jun22_jun22_2_undersell_allowed-cfr_outcomemccfr_outcome-100_jun23outcome  R .      0:08      1 ip-10-255-1-201\n",
      "             86943                  jun22_jun22_2_undersell_allowed-cfr_outcomemccfr_outcome-101_jun23outcome  R .      0:08      1 ip-10-255-1-201\n",
      "             86944                  jun22_jun22_2_undersell_allowed-cfr_outcomemccfr_outcome-102_jun23outcome  R .      0:08      1 ip-10-255-1-206\n",
      "             86945                               jun22_jun22_4_base-cfr_outcomemccfr_outcome-100_jun23outcome  R .      0:08      1 ip-10-255-1-206\n",
      "             86946                               jun22_jun22_4_base-cfr_outcomemccfr_outcome-101_jun23outcome  R .      0:08      1 ip-10-255-1-206\n",
      "             86947                               jun22_jun22_4_base-cfr_outcomemccfr_outcome-102_jun23outcome  R .      0:08      1 ip-10-255-1-206\n",
      "             86948                         jun22_jun22_0_high_speed-cfr_outcomemccfr_outcome-100_jun23outcome  R .      0:08      1 ip-10-255-1-212\n",
      "             86949                         jun22_jun22_0_high_speed-cfr_outcomemccfr_outcome-101_jun23outcome  R .      0:08      1 ip-10-255-1-212\n",
      "             86950                         jun22_jun22_0_high_speed-cfr_outcomemccfr_outcome-102_jun23outcome  R .      0:08      1 ip-10-255-1-212\n",
      "             86951                     jun22_jun22_0_no_activity-cfr_externalmccfr_external-100_jun23external  R .      0:05      1 ip-10-255-1-212\n",
      "             86952                            jun22_jun22_1_base-cfr_externalmccfr_external-100_jun23external  R .      0:05      1 ip-10-255-1-214\n",
      "             86953                      jun22_jun22_1_high_speed-cfr_externalmccfr_external-100_jun23external  R .      0:05      1 ip-10-255-1-214\n",
      "             86954                     jun22_jun22_1_no_activity-cfr_externalmccfr_external-100_jun23external  R .      0:05      1 ip-10-255-1-214\n",
      "             86955                            jun22_jun22_3_base-cfr_externalmccfr_external-100_jun23external  R .      0:05      1 ip-10-255-1-214\n",
      "             86956               jun22_jun22_3_undersell_allowed-cfr_externalmccfr_external-100_jun23external  R .      0:05      1 ip-10-255-1-221\n",
      "             86957                    jun22_jun22_4_medium_speed-cfr_externalmccfr_external-100_jun23external  R .      0:05      1 ip-10-255-1-221\n",
      "             86958                    jun22_jun22_2_medium_speed-cfr_externalmccfr_external-100_jun23external  R .      0:05      1 ip-10-255-1-221\n",
      "             86959                    jun22_jun22_3_medium_speed-cfr_externalmccfr_external-100_jun23external  R .      0:05      1 ip-10-255-1-221\n",
      "             86960                    jun22_jun22_0_medium_speed-cfr_externalmccfr_external-100_jun23external  R .      0:05      1 ip-10-255-1-226\n",
      "             86961                     jun22_jun22_3_no_activity-cfr_externalmccfr_external-100_jun23external  R .      0:05      1 ip-10-255-1-226\n",
      "             86962               jun22_jun22_1_undersell_allowed-cfr_externalmccfr_external-100_jun23external  R .      0:05      1 ip-10-255-1-226\n",
      "             86963                    jun22_jun22_1_medium_speed-cfr_externalmccfr_external-100_jun23external  R .      0:05      1 ip-10-255-1-226\n",
      "             86964                      jun22_jun22_2_high_speed-cfr_externalmccfr_external-100_jun23external  R .      0:05      1 ip-10-255-1-238\n",
      "             86965                            jun22_jun22_2_base-cfr_externalmccfr_external-100_jun23external  R .      0:05      1 ip-10-255-1-238\n",
      "             86966               jun22_jun22_0_undersell_allowed-cfr_externalmccfr_external-100_jun23external  R .      0:05      1 ip-10-255-1-238\n",
      "             86967                            jun22_jun22_0_base-cfr_externalmccfr_external-100_jun23external  R .      0:05      1 ip-10-255-1-238\n",
      "             86968                     jun22_jun22_2_no_activity-cfr_externalmccfr_external-100_jun23external  R .      0:05      1 ip-10-255-1-240\n",
      "             86969               jun22_jun22_4_undersell_allowed-cfr_externalmccfr_external-100_jun23external  R .      0:05      1 ip-10-255-1-240\n",
      "             86970                      jun22_jun22_3_high_speed-cfr_externalmccfr_external-100_jun23external  R .      0:05      1 ip-10-255-1-240\n",
      "             86971                      jun22_jun22_4_high_speed-cfr_externalmccfr_external-100_jun23external  R .      0:05      1 ip-10-255-1-240\n",
      "             86972                     jun22_jun22_4_no_activity-cfr_externalmccfr_external-100_jun23external  R .      0:05      1 ip-10-255-1-242\n",
      "             86973               jun22_jun22_2_undersell_allowed-cfr_externalmccfr_external-100_jun23external  R .      0:05      1 ip-10-255-1-242\n",
      "             86974                            jun22_jun22_4_base-cfr_externalmccfr_external-100_jun23external  R .      0:05      1 ip-10-255-1-242\n",
      "             86975                      jun22_jun22_0_high_speed-cfr_externalmccfr_external-100_jun23external  R .      0:05      1 ip-10-255-1-242\n"
     ]
    }
   ],
   "source": [
    "!squeue --format=\"%.18i %.90j %.2t .%.10M %.6D %R\""
   ]
  },
  {
   "cell_type": "code",
   "execution_count": null,
   "id": "0e80d410-986b-42a1-9d49-1035ef103a0a",
   "metadata": {},
   "outputs": [],
   "source": [
    "def check_queue():\n",
    "    !ssh borg.cs.ubc.ca '/opt/slurm/bin/squeue -u newmanne --format=\"%.18i %.90j %.2t .%.10M %.6D %R\"'\n"
   ]
  },
  {
   "cell_type": "code",
   "execution_count": 4,
   "id": "d259264e-30e0-4a72-b9dd-5655ad371f6f",
   "metadata": {},
   "outputs": [
    {
     "name": "stdout",
     "output_type": "stream",
     "text": [
      "             JOBID                                                                                       NAME ST .      TIME  NODES NODELIST(REASON)\n"
     ]
    }
   ],
   "source": [
    "!squeue --format \"%.18i %.90j %.2t .%.10M %.6D %R\""
   ]
  },
  {
   "cell_type": "code",
   "execution_count": null,
   "id": "3e5c26b7-d158-4ece-a72a-c3b2fd47a56f",
   "metadata": {
    "tags": []
   },
   "outputs": [],
   "source": [
    "check_queue()"
   ]
  },
  {
   "cell_type": "code",
   "execution_count": 37,
   "id": "a8ee533f-357a-4bbc-956e-1cf136ef9266",
   "metadata": {},
   "outputs": [
    {
     "name": "stdout",
     "output_type": "stream",
     "text": [
      "101\n"
     ]
    }
   ],
   "source": [
    "!squeue | wc -l"
   ]
  },
  {
   "cell_type": "code",
   "execution_count": null,
   "id": "a8b665af-771f-44c1-8065-4928e1e5ac91",
   "metadata": {},
   "outputs": [],
   "source": [
    "!squeue | grep \"may30\" | wc -l"
   ]
  },
  {
   "cell_type": "code",
   "execution_count": 3,
   "id": "c26b508d-9ee0-4878-9aa1-68c611ab651a",
   "metadata": {},
   "outputs": [],
   "source": [
    "!scancel -u ubuntu"
   ]
  },
  {
   "cell_type": "code",
   "execution_count": null,
   "id": "aee5cc7e-228c-4484-bb31-efb870f59efa",
   "metadata": {},
   "outputs": [],
   "source": [
    "# !scancel  46891 46893"
   ]
  },
  {
   "cell_type": "code",
   "execution_count": null,
   "id": "3aeeeeb6-6c6f-4e37-9566-3eb8d73d97d5",
   "metadata": {},
   "outputs": [],
   "source": [
    "!rm -rf /shared/outputs/minitest/\n",
    "try:\n",
    "    Experiment.objects.get(name='minitest').delete()\n",
    "except:\n",
    "    pass\n",
    "dispatch.dispatch_experiments('feb2', base_job_name='minitest', game_name='tiny', overrides = '--br_portfolio_path feb2 --eval_every 500 --num_training_episodes 1_000 --br_overrides \"--num_training_episodes 1_000\" --eval_overrides \"--num_samples 100\"')"
   ]
  },
  {
   "cell_type": "code",
   "execution_count": null,
   "id": "d4ca4c72-ce03-4d1a-8e9d-1abd642e8407",
   "metadata": {},
   "outputs": [],
   "source": [
    "BestResponse.objects.last()"
   ]
  },
  {
   "cell_type": "code",
   "execution_count": null,
   "id": "da1b3451-a927-4467-a90d-077f2de61767",
   "metadata": {},
   "outputs": [],
   "source": [
    "Experiment.objects.all()"
   ]
  },
  {
   "cell_type": "code",
   "execution_count": null,
   "id": "0547418d-7d14-404e-ad7f-892180cd6e50",
   "metadata": {},
   "outputs": [],
   "source": [
    "!sacct --starttime 2022-03-11 --format=User,JobID,Jobname,partition,state,time,start,end,elapsed,MaxRss,MaxVMSize,nnodes,ncpus,nodelist"
   ]
  },
  {
   "cell_type": "code",
   "execution_count": null,
   "id": "2fc59f9d-3861-481c-bcd2-68c25e19267a",
   "metadata": {},
   "outputs": [],
   "source": [
    "Evaluation.objects.last()"
   ]
  },
  {
   "cell_type": "code",
   "execution_count": null,
   "id": "eda9b8b7-ea2f-41b0-a527-4460fb8249fc",
   "metadata": {},
   "outputs": [],
   "source": [
    "os.system(\"ssh borg.cs.ubc.ca '/opt/slurm/bin/sbatch'\")"
   ]
  },
  {
   "cell_type": "code",
   "execution_count": null,
   "id": "b70ae116-1e70-4d32-8405-b479041c18b5",
   "metadata": {},
   "outputs": [],
   "source": []
  }
 ],
 "metadata": {
  "kernelspec": {
   "display_name": "Django Shell-Plus",
   "language": "python",
   "name": "django_extensions"
  },
  "language_info": {
   "codemirror_mode": {
    "name": "ipython",
    "version": 3
   },
   "file_extension": ".py",
   "mimetype": "text/x-python",
   "name": "python",
   "nbconvert_exporter": "python",
   "pygments_lexer": "ipython3",
   "version": "3.8.2"
  }
 },
 "nbformat": 4,
 "nbformat_minor": 5
}
