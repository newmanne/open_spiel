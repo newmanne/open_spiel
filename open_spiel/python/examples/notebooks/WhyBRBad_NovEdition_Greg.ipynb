{
 "cells": [
  {
   "cell_type": "code",
   "execution_count": 1,
   "id": "0a477421-6b10-4b44-ba8e-9a393795aabb",
   "metadata": {},
   "outputs": [],
   "source": [
    "%load_ext autoreload\n",
    "%autoreload 2\n",
    "%matplotlib inline\n",
    "\n",
    "import pyspiel\n",
    "import open_spiel.python.games\n",
    "from open_spiel.python.observation import make_observation\n",
    "from open_spiel.python.examples.ubc_decorators import TakeSingleActionDecorator\n",
    "from open_spiel.python.examples.straightforward_agent import StraightforwardAgent\n",
    "from open_spiel.python.examples.ppo_utils import EnvParams\n",
    "from auctions.webutils import *\n",
    "import os\n",
    "os.environ[\"DJANGO_ALLOW_ASYNC_UNSAFE\"] = \"true\"\n"
   ]
  },
  {
   "cell_type": "code",
   "execution_count": 67,
   "id": "c460fd92-9cc4-410f-9e6b-d3d560a0eac1",
   "metadata": {},
   "outputs": [],
   "source": [
    "# Load checkpoint\n",
    "seed = 1234\n",
    "equilibrium_solver_run_checkpoint = get_checkpoint_by_name('confused_national_wide_test_with_gpu', 'confused_national_with_undersell-aug11ppo_potential_length-100', t=6656)\n",
    "env_params = EnvParams(track_stats=True, seed=seed, num_envs = 1, history_prefix=[0, 0], sync=True)\n",
    "env_and_policy = ppo_db_checkpoint_loader(equilibrium_solver_run_checkpoint, env_params=env_params)\n",
    "env = EnvParams(normalize_rewards=True, observer_params=dict(normalize=False)).make_env(env_and_policy.game)"
   ]
  },
  {
   "cell_type": "code",
   "execution_count": null,
   "id": "25799828-e52c-442d-b6b0-e5b6bfa788ef",
   "metadata": {},
   "outputs": [],
   "source": [
    "env.envs[0]"
   ]
  },
  {
   "cell_type": "code",
   "execution_count": null,
   "id": "1e4c04d1-b1d6-483f-b9b3-27c32598d123",
   "metadata": {},
   "outputs": [],
   "source": [
    "env.envs[0].reset"
   ]
  },
  {
   "cell_type": "code",
   "execution_count": 68,
   "id": "7d8ce853-679e-43c7-aaff-c8da4a01d604",
   "metadata": {},
   "outputs": [
    {
     "name": "stdout",
     "output_type": "stream",
     "text": [
      "True\n",
      "[12.0, 8780.0]\n"
     ]
    }
   ],
   "source": [
    "state = env_and_policy.game.new_initial_state()\n",
    "state.apply_action(3)\n",
    "state.apply_action(0)\n",
    "state.apply_action(9*2 + 1)\n",
    "state.apply_action(3*2 + 1)\n",
    "print(state.is_terminal())\n",
    "print(state.rewards())"
   ]
  },
  {
   "cell_type": "code",
   "execution_count": 69,
   "id": "79fc18f8-28ce-4e4e-8223-13f00dd6fae9",
   "metadata": {},
   "outputs": [
    {
     "name": "stdout",
     "output_type": "stream",
     "text": [
      "True\n",
      "[325.0, 8780.0]\n"
     ]
    }
   ],
   "source": [
    "state = env_and_policy.game.new_initial_state()\n",
    "state.apply_action(3)\n",
    "state.apply_action(0)\n",
    "state.apply_action(1)\n",
    "state.apply_action(3*2 + 1)\n",
    "print(state.is_terminal())\n",
    "print(state.rewards())"
   ]
  },
  {
   "cell_type": "code",
   "execution_count": 51,
   "id": "f0cee2cd-11a5-4bd7-ae5c-ca909b058ca0",
   "metadata": {},
   "outputs": [
    {
     "data": {
      "text/plain": [
       "'Bid for [0 2 1] licenses @ $1640.00 with activity 21'"
      ]
     },
     "execution_count": 51,
     "metadata": {},
     "output_type": "execute_result"
    }
   ],
   "source": []
  },
  {
   "cell_type": "code",
   "execution_count": 48,
   "id": "f507db64-5dfc-48bf-bad2-8ec0bc896138",
   "metadata": {},
   "outputs": [
    {
     "name": "stdout",
     "output_type": "stream",
     "text": [
      "Bid for [2 0 1] licenses @ $1200.00 with activity 15\n",
      "Bid for [0 0 1] licenses @ $400.00 with activity 5\n"
     ]
    }
   ],
   "source": [
    "print(state.action_to_string(9*2 + 1))\n",
    "print(state.action_to_string(1))"
   ]
  },
  {
   "cell_type": "code",
   "execution_count": 30,
   "id": "1c06757e-0b97-42cf-bfe9-fa9e281c51af",
   "metadata": {},
   "outputs": [
    {
     "data": {
      "text/plain": [
       "Round: 1\n",
       "Player 0: EnumeratedValues: [    0   932  1585  2013  3121  3813  4823  6098  6789   556  1578  2269\n",
       "  2723  3780  4485  5700  6813  7518  2931  4093  4785  5239  6343  7048\n",
       "  8216  9376 10081] Budget: 10081\n",
       "Player 1: EnumeratedValues: [    0   963  1533  2099  3167  3757  9113 10420 11010   740  1762  2352\n",
       "  2936  3976  4572 10189 11309 11905  1268  2308  2898  3482  4528  5124\n",
       " 10735 11861 12457] Budget: 12457"
      ]
     },
     "execution_count": 30,
     "metadata": {},
     "output_type": "execute_result"
    }
   ],
   "source": [
    "state"
   ]
  },
  {
   "cell_type": "code",
   "execution_count": 13,
   "id": "d0f892d0-cfff-469b-b1a2-2ea152bb0bd6",
   "metadata": {},
   "outputs": [],
   "source": [
    "time_step = env.reset()"
   ]
  },
  {
   "cell_type": "code",
   "execution_count": 14,
   "id": "ab01c879-188a-4ec2-b147-c110eb330c09",
   "metadata": {},
   "outputs": [
    {
     "data": {
      "text/plain": [
       "0"
      ]
     },
     "execution_count": 14,
     "metadata": {},
     "output_type": "execute_result"
    }
   ],
   "source": [
    "time_step[0].current_player()"
   ]
  },
  {
   "cell_type": "code",
   "execution_count": 16,
   "id": "cb41ddf1-b900-4e04-8c1f-d8ed85111e6b",
   "metadata": {},
   "outputs": [
    {
     "data": {
      "text/plain": [
       "{'player': array([1., 0.], dtype=float32),\n",
       " 'bidder_type': array([0., 1., 0., 0., 0.], dtype=float32),\n",
       " 'activity': array([36.], dtype=float32),\n",
       " 'sor_exposure': array([0.], dtype=float32),\n",
       " 'submitted_demand_history': array([[0., 0., 0.],\n",
       "        [0., 0., 0.],\n",
       "        [0., 0., 0.]], dtype=float32),\n",
       " 'processed_demand_history': array([[0., 0., 0.],\n",
       "        [0., 0., 0.],\n",
       "        [0., 0., 0.]], dtype=float32),\n",
       " 'sor_profits': array([   0.,  532.,  785., 1393., 2101., 2393., 3583., 4458., 4749.,\n",
       "         156.,  778., 1069., 1703., 2360., 2665., 4060., 4773., 5078.,\n",
       "        2131., 2893., 3185., 3819., 4523., 4828., 6176., 6936., 7241.],\n",
       "       dtype=float32),\n",
       " 'clock_profits': array([   0.,  532.,  785., 1393., 2101., 2393., 3583., 4458., 4749.,\n",
       "         156.,  778., 1069., 1703., 2360., 2665., 4060., 4773., 5078.,\n",
       "        2131., 2893., 3185., 3819., 4523., 4828., 6176., 6936., 7241.],\n",
       "       dtype=float32),\n",
       " 'round': array([1., 0., 0., 0., 0., 0., 0., 0., 0., 0., 0., 0., 0., 0., 0., 0., 0.,\n",
       "        0., 0., 0., 0., 0., 0., 0., 0., 0., 0., 0., 0., 0., 0., 0., 0., 0.,\n",
       "        0., 0., 0., 0., 0., 0., 0., 0., 0., 0., 0., 0., 0., 0., 0., 0., 0.,\n",
       "        0., 0., 0., 0., 0., 0., 0., 0., 0., 0., 0., 0., 0., 0., 0., 0., 0.,\n",
       "        0., 0., 0., 0., 0., 0., 0., 0., 0., 0., 0., 0., 0., 0., 0., 0., 0.,\n",
       "        0., 0., 0., 0., 0., 0., 0., 0., 0., 0., 0., 0., 0., 0., 0.],\n",
       "       dtype=float32),\n",
       " 'agg_demand_history': array([[0., 0., 0.],\n",
       "        [0., 0., 0.],\n",
       "        [0., 0., 0.]], dtype=float32),\n",
       " 'posted_price_history': array([[0., 0., 0.],\n",
       "        [0., 0., 0.],\n",
       "        [0., 0., 0.]], dtype=float32),\n",
       " 'clock_prices': array([400., 620., 400.], dtype=float32),\n",
       " 'price_increments': array([0., 0., 0.], dtype=float32)}"
      ]
     },
     "execution_count": 16,
     "metadata": {},
     "output_type": "execute_result"
    }
   ],
   "source": [
    "time_step[0].observations['info_dict'][0]"
   ]
  },
  {
   "cell_type": "code",
   "execution_count": 4,
   "id": "9a0f0fdc-ede9-4bbf-8fc0-95b2148dd7e4",
   "metadata": {},
   "outputs": [
    {
     "data": {
      "text/plain": [
       "{'player': array([0., 1.], dtype=float32),\n",
       " 'bidder_type': array([0., 0., 0., 1., 0.], dtype=float32),\n",
       " 'activity': array([36.], dtype=float32),\n",
       " 'sor_exposure': array([0.], dtype=float32),\n",
       " 'submitted_demand_history': array([[0., 0., 0.],\n",
       "        [0., 0., 0.],\n",
       "        [0., 0., 0.]], dtype=float32),\n",
       " 'processed_demand_history': array([[0., 0., 0.],\n",
       "        [0., 0., 0.],\n",
       "        [0., 0., 0.]], dtype=float32),\n",
       " 'sor_profits': array([   0.,  739., 1394., 1355., 2704., 3565., 2517., 4213., 5075.,\n",
       "         365., 1477., 2339., 2257., 3472., 4402., 3766., 5098., 6028.,\n",
       "         993., 2306., 3167., 3085., 4367., 5297., 4595., 5993., 6923.],\n",
       "       dtype=float32),\n",
       " 'clock_profits': array([   0.,  739., 1394., 1355., 2704., 3565., 2517., 4213., 5075.,\n",
       "         365., 1477., 2339., 2257., 3472., 4402., 3766., 5098., 6028.,\n",
       "         993., 2306., 3167., 3085., 4367., 5297., 4595., 5993., 6923.],\n",
       "       dtype=float32),\n",
       " 'round': array([1., 0., 0., 0., 0., 0., 0., 0., 0., 0., 0., 0., 0., 0., 0., 0., 0.,\n",
       "        0., 0., 0., 0., 0., 0., 0., 0., 0., 0., 0., 0., 0., 0., 0., 0., 0.,\n",
       "        0., 0., 0., 0., 0., 0., 0., 0., 0., 0., 0., 0., 0., 0., 0., 0., 0.,\n",
       "        0., 0., 0., 0., 0., 0., 0., 0., 0., 0., 0., 0., 0., 0., 0., 0., 0.,\n",
       "        0., 0., 0., 0., 0., 0., 0., 0., 0., 0., 0., 0., 0., 0., 0., 0., 0.,\n",
       "        0., 0., 0., 0., 0., 0., 0., 0., 0., 0., 0., 0., 0., 0., 0.],\n",
       "       dtype=float32),\n",
       " 'agg_demand_history': array([[0., 0., 0.],\n",
       "        [0., 0., 0.],\n",
       "        [0., 0., 0.]], dtype=float32),\n",
       " 'posted_price_history': array([[0., 0., 0.],\n",
       "        [0., 0., 0.],\n",
       "        [0., 0., 0.]], dtype=float32),\n",
       " 'clock_prices': array([400., 620., 400.], dtype=float32),\n",
       " 'price_increments': array([0., 0., 0.], dtype=float32)}"
      ]
     },
     "execution_count": 4,
     "metadata": {},
     "output_type": "execute_result"
    }
   ],
   "source": [
    "time_step[0].observations['info_dict'][1]"
   ]
  },
  {
   "cell_type": "code",
   "execution_count": 10,
   "id": "513dae14-dd75-4649-ac74-1327bf2105e3",
   "metadata": {},
   "outputs": [],
   "source": [
    "env_and_policy.agents[1] = straightforward"
   ]
  },
  {
   "cell_type": "code",
   "execution_count": 11,
   "id": "707a2433-315c-4cf6-a542-cce090c16898",
   "metadata": {},
   "outputs": [
    {
     "name": "stdout",
     "output_type": "stream",
     "text": [
      "0 3\n",
      "[False]\n",
      "1 8\n",
      "[False]\n",
      "0 3\n",
      "[False]\n",
      "1 8\n",
      "[False]\n",
      "0 3\n",
      "[False]\n",
      "1 8\n",
      "[False]\n",
      "0 3\n",
      "[False]\n",
      "1 8\n",
      "[False]\n",
      "0 3\n",
      "[False]\n",
      "1 8\n",
      "[False]\n",
      "0 3\n",
      "[False]\n",
      "1 8\n",
      "[False]\n",
      "0 3\n",
      "[False]\n",
      "1 8\n",
      "[False]\n",
      "0 3\n",
      "[False]\n",
      "1 8\n",
      "[False]\n",
      "0 3\n",
      "[False]\n",
      "1 8\n",
      "[False]\n",
      "0 3\n",
      "[False]\n",
      "1 5\n",
      "[True]\n",
      "0 3\n",
      "[False]\n",
      "1 8\n",
      "[False]\n",
      "0 3\n",
      "[False]\n",
      "1 8\n",
      "[False]\n",
      "0 3\n",
      "[False]\n",
      "1 8\n",
      "[False]\n",
      "0 3\n",
      "[False]\n",
      "1 8\n",
      "[False]\n",
      "0 3\n",
      "[False]\n",
      "1 8\n",
      "[False]\n",
      "0 3\n",
      "[False]\n",
      "1 8\n",
      "[False]\n",
      "0 3\n",
      "[False]\n",
      "1 8\n",
      "[False]\n",
      "0 3\n",
      "[False]\n",
      "1 8\n",
      "[False]\n",
      "0 3\n",
      "[False]\n",
      "1 8\n",
      "[False]\n",
      "0 3\n",
      "[False]\n",
      "1 5\n",
      "[True]\n",
      "0 3\n",
      "[False]\n",
      "1 8\n",
      "[False]\n",
      "0 3\n",
      "[False]\n",
      "1 8\n",
      "[False]\n",
      "0 3\n",
      "[False]\n",
      "1 8\n",
      "[False]\n",
      "0 3\n",
      "[False]\n",
      "1 8\n",
      "[False]\n",
      "0 3\n",
      "[False]\n",
      "1 8\n",
      "[False]\n",
      "0 3\n",
      "[False]\n",
      "1 8\n",
      "[False]\n",
      "0 3\n",
      "[False]\n",
      "1 8\n",
      "[False]\n",
      "0 3\n",
      "[False]\n",
      "1 8\n",
      "[False]\n",
      "0 3\n",
      "[False]\n",
      "1 8\n",
      "[False]\n",
      "0 3\n",
      "[False]\n",
      "1 5\n",
      "[True]\n",
      "0 3\n",
      "[False]\n",
      "1 8\n",
      "[False]\n",
      "0 3\n",
      "[False]\n",
      "1 8\n",
      "[False]\n",
      "0 3\n",
      "[False]\n",
      "1 8\n",
      "[False]\n",
      "0 3\n",
      "[False]\n",
      "1 8\n",
      "[False]\n",
      "0 3\n",
      "[False]\n",
      "1 8\n",
      "[False]\n",
      "0 3\n",
      "[False]\n",
      "1 8\n",
      "[False]\n",
      "0 3\n",
      "[False]\n",
      "1 8\n",
      "[False]\n",
      "0 3\n",
      "[False]\n",
      "1 8\n",
      "[False]\n",
      "0 3\n",
      "[False]\n",
      "1 8\n",
      "[False]\n",
      "0 3\n",
      "[False]\n",
      "1 5\n",
      "[True]\n",
      "0 3\n",
      "[False]\n",
      "1 8\n",
      "[False]\n",
      "0 3\n",
      "[False]\n",
      "1 8\n",
      "[False]\n",
      "0 3\n",
      "[False]\n",
      "1 8\n",
      "[False]\n",
      "0 3\n",
      "[False]\n",
      "1 8\n",
      "[False]\n",
      "0 3\n",
      "[False]\n",
      "1 8\n",
      "[False]\n",
      "0 3\n",
      "[False]\n",
      "1 8\n",
      "[False]\n",
      "0 3\n",
      "[False]\n",
      "1 8\n",
      "[False]\n",
      "0 3\n",
      "[False]\n",
      "1 8\n",
      "[False]\n",
      "0 3\n",
      "[False]\n",
      "1 8\n",
      "[False]\n",
      "0 3\n",
      "[False]\n",
      "1 5\n",
      "[True]\n",
      "0 3\n",
      "[False]\n",
      "1 8\n",
      "[False]\n",
      "0 3\n",
      "[False]\n",
      "1 8\n",
      "[False]\n",
      "0 3\n",
      "[False]\n",
      "1 8\n",
      "[False]\n",
      "0 3\n",
      "[False]\n",
      "1 8\n",
      "[False]\n",
      "0 3\n",
      "[False]\n",
      "1 8\n",
      "[False]\n",
      "0 3\n",
      "[False]\n",
      "1 8\n",
      "[False]\n",
      "0 3\n",
      "[False]\n",
      "1 8\n",
      "[False]\n",
      "0 3\n",
      "[False]\n",
      "1 8\n",
      "[False]\n",
      "0 3\n",
      "[False]\n",
      "1 8\n",
      "[False]\n",
      "0 3\n",
      "[False]\n",
      "1 5\n",
      "[True]\n",
      "0 3\n",
      "[False]\n",
      "1 8\n",
      "[False]\n",
      "0 3\n",
      "[False]\n",
      "1 8\n",
      "[False]\n",
      "0 3\n",
      "[False]\n",
      "1 8\n",
      "[False]\n",
      "0 3\n",
      "[False]\n",
      "1 8\n",
      "[False]\n",
      "0 3\n",
      "[False]\n",
      "1 8\n",
      "[False]\n",
      "0 3\n",
      "[False]\n",
      "1 8\n",
      "[False]\n",
      "0 3\n",
      "[False]\n",
      "1 8\n",
      "[False]\n",
      "0 3\n",
      "[False]\n",
      "1 8\n",
      "[False]\n",
      "0 3\n",
      "[False]\n",
      "1 8\n",
      "[False]\n",
      "0 3\n",
      "[False]\n",
      "1 5\n",
      "[True]\n",
      "0 3\n",
      "[False]\n",
      "1 8\n",
      "[False]\n",
      "0 3\n",
      "[False]\n",
      "1 8\n",
      "[False]\n",
      "0 3\n",
      "[False]\n",
      "1 8\n",
      "[False]\n",
      "0 3\n",
      "[False]\n",
      "1 8\n",
      "[False]\n",
      "0 3\n",
      "[False]\n",
      "1 8\n",
      "[False]\n",
      "0 3\n",
      "[False]\n",
      "1 8\n",
      "[False]\n",
      "0 3\n",
      "[False]\n",
      "1 8\n",
      "[False]\n",
      "0 3\n",
      "[False]\n",
      "1 8\n",
      "[False]\n",
      "0 3\n",
      "[False]\n",
      "1 8\n",
      "[False]\n",
      "0 3\n",
      "[False]\n",
      "1 5\n",
      "[True]\n",
      "0 3\n",
      "[False]\n",
      "1 8\n",
      "[False]\n",
      "0 3\n",
      "[False]\n",
      "1 8\n",
      "[False]\n",
      "0 3\n",
      "[False]\n",
      "1 8\n",
      "[False]\n",
      "0 3\n",
      "[False]\n",
      "1 8\n",
      "[False]\n",
      "0 3\n",
      "[False]\n",
      "1 8\n",
      "[False]\n",
      "0 3\n",
      "[False]\n",
      "1 8\n",
      "[False]\n",
      "0 3\n",
      "[False]\n",
      "1 8\n",
      "[False]\n",
      "0 3\n",
      "[False]\n",
      "1 8\n",
      "[False]\n",
      "0 3\n",
      "[False]\n",
      "1 8\n",
      "[False]\n",
      "0 3\n",
      "[False]\n",
      "1 5\n",
      "[True]\n"
     ]
    }
   ],
   "source": [
    "agents = env_and_policy.agents\n",
    "time_step = env.reset()\n",
    "episode_counter = len(env)\n",
    "num_episodes = 10\n",
    "while episode_counter < num_episodes:\n",
    "    for agent in agents:\n",
    "        agent_output = agent.step(time_step, is_evaluation=True)\n",
    "        for output in agent_output:\n",
    "            print(agent.player_id, output.action)\n",
    "        time_step, rewards, dones, _ = env.step(agent_output, reset_if_done=True)\n",
    "        print(dones)\n",
    "    episode_counter += sum(dones)\n",
    "\n"
   ]
  },
  {
   "cell_type": "code",
   "execution_count": null,
   "id": "f4c125ae-65cf-4a3c-8b62-4895679fc266",
   "metadata": {},
   "outputs": [],
   "source": [
    "for ts in time_step:\n",
    "    d = ts.observations['info_dict'][0]\n",
    "    bt = int(d['bidder_type'].nonzero()[0])\n",
    "    print(bt, straightforward.step(ts).action)\n",
    "    print(d['sor_profits'])\n",
    "    \n",
    "    \n",
    "    break"
   ]
  },
  {
   "cell_type": "code",
   "execution_count": 12,
   "id": "d683d7c7-9d87-4704-a2d7-ed0dc8642c08",
   "metadata": {},
   "outputs": [
    {
     "data": {
      "text/plain": [
       "array([[0, 0],\n",
       "       [0, 1],\n",
       "       [0, 2],\n",
       "       [1, 0],\n",
       "       [1, 1],\n",
       "       [1, 2],\n",
       "       [2, 0],\n",
       "       [2, 1],\n",
       "       [2, 2]])"
      ]
     },
     "execution_count": 12,
     "metadata": {},
     "output_type": "execute_result"
    }
   ],
   "source": [
    "game.auction_params.all_bids"
   ]
  },
  {
   "cell_type": "code",
   "execution_count": null,
   "id": "f59d4be5-4b6a-4e2b-95f2-6e6748ba12f3",
   "metadata": {},
   "outputs": [],
   "source": [
    "np.array(game.auction_params.opening_prices)# @@ np.array([2,2])"
   ]
  },
  {
   "cell_type": "code",
   "execution_count": null,
   "id": "207c9d97-7238-49de-9135-a2c5430b60d2",
   "metadata": {},
   "outputs": [],
   "source": [
    "game.auction_params.max_budget"
   ]
  },
  {
   "cell_type": "code",
   "execution_count": null,
   "id": "73cac692-3897-4912-9f04-73d4574ad268",
   "metadata": {},
   "outputs": [],
   "source": [
    "game.auction_params.max_activity"
   ]
  },
  {
   "cell_type": "code",
   "execution_count": null,
   "id": "e8df02d1-ee47-434c-a50f-c8ad96fefb41",
   "metadata": {},
   "outputs": [],
   "source": [
    "game.auction_params.activity"
   ]
  },
  {
   "cell_type": "code",
   "execution_count": null,
   "id": "1e3bf0f0-9da5-4f26-b063-7d2c89df8836",
   "metadata": {},
   "outputs": [],
   "source": [
    "# Action 7 is the way to go (straightforward)\n",
    "# Actual played action is "
   ]
  }
 ],
 "metadata": {
  "kernelspec": {
   "display_name": "Django Shell-Plus",
   "language": "python",
   "name": "django_extensions"
  },
  "language_info": {
   "codemirror_mode": {
    "name": "ipython",
    "version": 3
   },
   "file_extension": ".py",
   "mimetype": "text/x-python",
   "name": "python",
   "nbconvert_exporter": "python",
   "pygments_lexer": "ipython3",
   "version": "3.8.2"
  }
 },
 "nbformat": 4,
 "nbformat_minor": 5
}
