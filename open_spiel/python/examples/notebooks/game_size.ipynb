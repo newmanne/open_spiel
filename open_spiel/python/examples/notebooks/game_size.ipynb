{
 "cells": [
  {
   "cell_type": "code",
   "execution_count": 1,
   "id": "1d6b75f9-f3da-4dfb-ab30-2b8ec4698aba",
   "metadata": {},
   "outputs": [],
   "source": [
    "import pyspiel\n",
    "import pickle\n",
    "import numpy as np\n",
    "import pandas as pd\n",
    "from open_spiel.python.algorithms import cfr, outcome_sampling_mccfr, expected_game_score, exploitability, get_all_states_with_policy\n",
    "from open_spiel.python.examples.ubc_mccfr_cpp_example import state_to_final\n",
    "from open_spiel.python.algorithms import get_all_states\n",
    "from tqdm import tqdm"
   ]
  },
  {
   "cell_type": "code",
   "execution_count": 2,
   "id": "a70d68d4-0abe-4113-bcbf-22dc673bdb16",
   "metadata": {},
   "outputs": [],
   "source": [
    "params = dict()\n",
    "params['filename'] = 'small_game_2.json'\n",
    "game = pyspiel.load_game_as_turn_based('clock_auction', params)"
   ]
  },
  {
   "cell_type": "code",
   "execution_count": null,
   "id": "e5710d17-fc00-47c5-b456-cdff16c0acb8",
   "metadata": {},
   "outputs": [],
   "source": [
    "information_state_string_to_state = get_all_states.get_all_states(game, depth_limit=-1, include_terminals=False, include_chance_states=False, include_mean_field_states=False, to_string=lambda s: s.information_state_string(), stop_if_encountered=False)"
   ]
  },
  {
   "cell_type": "code",
   "execution_count": null,
   "id": "6d96ef02-e483-4b94-82eb-59a272dba2b3",
   "metadata": {},
   "outputs": [],
   "source": [
    "print(len(information_state_string_to_state))"
   ]
  },
  {
   "cell_type": "code",
   "execution_count": null,
   "id": "7c5474ad-22c3-4e7b-b453-a8f7ff5ed6dd",
   "metadata": {},
   "outputs": [],
   "source": []
  }
 ],
 "metadata": {
  "kernelspec": {
   "display_name": "Python 3",
   "language": "python",
   "name": "python3"
  },
  "language_info": {
   "codemirror_mode": {
    "name": "ipython",
    "version": 3
   },
   "file_extension": ".py",
   "mimetype": "text/x-python",
   "name": "python",
   "nbconvert_exporter": "python",
   "pygments_lexer": "ipython3",
   "version": "3.6.9"
  }
 },
 "nbformat": 4,
 "nbformat_minor": 5
}
