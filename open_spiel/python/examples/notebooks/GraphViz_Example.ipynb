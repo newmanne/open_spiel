{
 "cells": [
  {
   "cell_type": "code",
   "execution_count": 12,
   "id": "77615b16-ab01-442c-b1f8-c37a0830efb8",
   "metadata": {},
   "outputs": [
    {
     "name": "stdout",
     "output_type": "stream",
     "text": [
      "The autoreload extension is already loaded. To reload it, use:\n",
      "  %reload_ext autoreload\n",
      "Populating the interactive namespace from numpy and matplotlib\n"
     ]
    },
    {
     "name": "stderr",
     "output_type": "stream",
     "text": [
      "/apps/open_spiel/venv/lib/python3.6/site-packages/IPython/core/magics/pylab.py:160: UserWarning: pylab import has clobbered these variables: ['logging', 'solve', 'random']\n",
      "`%matplotlib` prevents importing * from pylab and numpy\n",
      "  \"\\n`%matplotlib` prevents importing * from pylab and numpy\"\n"
     ]
    }
   ],
   "source": [
    "%load_ext autoreload\n",
    "%autoreload 2\n",
    "%pylab inline\n",
    "\n",
    "import pyspiel\n",
    "import open_spiel.python.examples.ubc_utils\n",
    "from open_spiel.python.visualizations import ubc_treeviz\n",
    "from open_spiel.python.examples.ubc_utils import *\n",
    "from absl import logging\n",
    "logging.set_verbosity(logging.INFO)\n",
    "from open_spiel.python.examples.ubc_nfsp_example import NFSPPolicies, policy_from_checkpoint\n",
    "from open_spiel.python.examples.ubc_br import checkpoint_sub_agent_i, dqn_agent_from_checkpoint"
   ]
  },
  {
   "cell_type": "code",
   "execution_count": 2,
   "id": "ae11a5f2-d2d8-4742-9e87-332793df40f7",
   "metadata": {},
   "outputs": [],
   "source": [
    "EXPERIMENT_DIR = '/shared/outputs/feb8_large/mlp'\n",
    "CHECKPOINT_NAME = 'checkpoint_latest'\n",
    "### Load game\n",
    "game = smart_load_sequential_game('clock_auction', game_parameters=dict(filename=f'{EXPERIMENT_DIR}/game.json'))\n",
    "\n",
    "# CHECKPOINT_NAME = 'checkpoint_1500000'"
   ]
  },
  {
   "cell_type": "code",
   "execution_count": 3,
   "id": "027d1187-ebfd-4822-8cbe-30054d8c1360",
   "metadata": {},
   "outputs": [
    {
     "name": "stderr",
     "output_type": "stream",
     "text": [
      "INFO:absl:Game loaded\n",
      "INFO:absl:Using game instance: turn_based_simultaneous_game\n",
      "INFO:absl:Game has a state size of 1050, 64 distinct actions, and 2 players\n",
      "INFO:absl:Game has 3 products\n",
      "INFO:absl:Creating NFSP using device: cuda for player 0\n",
      "INFO:absl:Double DQN activated for player 0\n",
      "INFO:absl:Creating DQN using device: cuda for player 0\n",
      "INFO:absl:Creating NFSP using device: cuda for player 1\n",
      "INFO:absl:Double DQN activated for player 1\n",
      "INFO:absl:Creating DQN using device: cuda for player 1\n"
     ]
    }
   ],
   "source": [
    "policy = policy_from_checkpoint(EXPERIMENT_DIR, CHECKPOINT_NAME).nfsp_policies\n",
    "\n",
    "# Alternatively, to load a BR\n",
    "# br_agent = dqn_agent_from_checkpoint(EXPERIMENT_DIR, 'checkpoint_3000000', 'checkpoint_3000000_br_0')\n",
    "# policy = checkpoint_sub_agent_i(EXPERIMENT_DIR, 'checkpoint_3000000', br_agent)"
   ]
  },
  {
   "cell_type": "code",
   "execution_count": 4,
   "id": "90d6f37f-589b-425e-80d3-7042ee6ea12f",
   "metadata": {},
   "outputs": [],
   "source": [
    "# Alternatively, to get from CFR directly\n",
    "# solver = pyspiel.CFRSolver(game)\n",
    "# for i in range(1000):\n",
    "#     solver.evaluate_and_update_policy()\n",
    "# policy = solver.average_policy()"
   ]
  },
  {
   "cell_type": "code",
   "execution_count": 5,
   "id": "5dc9a1b4-607c-4cca-b897-e0c26dfe9f9d",
   "metadata": {},
   "outputs": [],
   "source": []
  },
  {
   "cell_type": "code",
   "execution_count": 20,
   "id": "938a7546-89bf-410f-9a21-73b56a4c89a3",
   "metadata": {},
   "outputs": [
    {
     "name": "stderr",
     "output_type": "stream",
     "text": [
      "INFO:absl:Building tree...\n"
     ]
    },
    {
     "name": "stdout",
     "output_type": "stream",
     "text": [
      "0.002065148526165903\n",
      "0.001936977186791981\n",
      "0.0018783658632105787\n",
      "0.0017617869995252013\n",
      "0.0011750582088608144\n",
      "0.001111309710466137\n",
      "0.0012444143877053608\n",
      "0.0012125055466427122\n",
      "0.0015244262513381423\n",
      "0.0014853374434247492\n",
      "0.0015327381054570752\n",
      "0.001437610276442951\n",
      "0.0035746756107657976\n",
      "0.0033528170107406594\n",
      "0.001276844624782337\n",
      "0.0011975985639507793\n",
      "0.0021465046718130458\n",
      "0.0020132840461423874\n",
      "0.001954549736654748\n",
      "0.0018332425984775782\n",
      "0.0012638134239509376\n",
      "0.0010564648876240108\n",
      "0.001164057341905865\n",
      "0.0011774886371115208\n",
      "0.0011472958828763762\n",
      "0.0018537568573445003\n"
     ]
    },
    {
     "name": "stderr",
     "output_type": "stream",
     "text": [
      "INFO:absl:Built tree!\n"
     ]
    },
    {
     "name": "stdout",
     "output_type": "stream",
     "text": [
      "0.001738705326537389\n",
      "0.0016016967287593791\n",
      "0.0015022890530426802\n",
      "0.003731442359613352\n",
      "0.003499854191029584\n",
      "0.0010220605577926584\n",
      "0.002357196775288282\n",
      "0.0017963685878695126\n",
      "0.0010772215286417339\n",
      "0.0010866485537119987\n",
      "0.002010870057994548\n",
      "0.0011103761174767095\n",
      "0.0014670849002336346\n",
      "0.0011178743632798097\n",
      "0.0015450402240454496\n",
      "0.0024684864813336927\n",
      "0.0020903440389067876\n",
      "0.0020341626950035655\n",
      "0.0015411710714793574\n",
      "0.0032662773704517996\n",
      "0.0019300648393056371\n",
      "0.010440998901716651\n",
      "0.003081952603402223\n",
      "0.0033154460434922746\n",
      "0.0036918936988811733\n",
      "0.002011428050809289\n",
      "0.0015645693830767722\n",
      "0.0035115238786442705\n"
     ]
    },
    {
     "name": "stderr",
     "output_type": "stream",
     "text": [
      "INFO:absl:Game tree saved to file: ./graphviz/large_game_2.pdf\n"
     ]
    }
   ],
   "source": [
    "game_name = 'large_game_2'\n",
    "\n",
    "node_policy_decorator, edge_policy_decorator = ubc_treeviz.make_policy_decorators(policy)\n",
    "gametree = ubc_treeviz.GameTree(\n",
    "    game,\n",
    "    node_decorator=node_policy_decorator,\n",
    "    edge_decorator=edge_policy_decorator,\n",
    "    group_infosets=True,\n",
    "    group_terminal=False,\n",
    "    group_pubsets=False, \n",
    "    target_pubset='*',\n",
    "    depth_limit=20,\n",
    "    state_prob_limit=0.001,\n",
    "    action_prob_limit=0.01, \n",
    "    policy=policy\n",
    ")\n",
    "\n",
    "outfile= f'./graphviz/{game_name}.pdf'\n",
    "\n",
    "# logging.info(\"Game tree:\\n%s\", gametree.to_string())\n",
    "\n",
    "gametree.draw(outfile, prog='dot')\n",
    "logging.info(\"Game tree saved to file: %s\", outfile)\n"
   ]
  },
  {
   "cell_type": "code",
   "execution_count": null,
   "id": "ea02126e-7f54-4099-af4b-db6e03136db9",
   "metadata": {},
   "outputs": [],
   "source": []
  },
  {
   "cell_type": "code",
   "execution_count": null,
   "id": "5f18c580-4d6f-41ab-9e58-c45bb102860c",
   "metadata": {},
   "outputs": [],
   "source": []
  }
 ],
 "metadata": {
  "kernelspec": {
   "display_name": "Python 3 (ipykernel)",
   "language": "python",
   "name": "python3"
  },
  "language_info": {
   "codemirror_mode": {
    "name": "ipython",
    "version": 3
   },
   "file_extension": ".py",
   "mimetype": "text/x-python",
   "name": "python",
   "nbconvert_exporter": "python",
   "pygments_lexer": "ipython3",
   "version": "3.8.0"
  }
 },
 "nbformat": 4,
 "nbformat_minor": 5
}
