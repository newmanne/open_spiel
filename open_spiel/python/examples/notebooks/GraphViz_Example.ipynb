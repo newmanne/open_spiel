{
 "cells": [
  {
   "cell_type": "code",
   "execution_count": 21,
   "id": "77615b16-ab01-442c-b1f8-c37a0830efb8",
   "metadata": {},
   "outputs": [
    {
     "name": "stdout",
     "output_type": "stream",
     "text": [
      "The autoreload extension is already loaded. To reload it, use:\n",
      "  %reload_ext autoreload\n",
      "Populating the interactive namespace from numpy and matplotlib\n"
     ]
    }
   ],
   "source": [
    "%load_ext autoreload\n",
    "%autoreload 2\n",
    "%pylab inline\n",
    "\n",
    "import pyspiel\n",
    "import open_spiel.python.examples.ubc_utils\n",
    "from open_spiel.python.visualizations import ubc_treeviz\n",
    "from open_spiel.python.examples.ubc_utils import *\n",
    "from absl import logging\n",
    "logging.set_verbosity(logging.INFO)\n"
   ]
  },
  {
   "cell_type": "code",
   "execution_count": 22,
   "id": "612ffd26-5639-4479-9384-323dee26de14",
   "metadata": {},
   "outputs": [
    {
     "name": "stderr",
     "output_type": "stream",
     "text": [
      "WARNING:absl:clock_auction is not turn-based. Trying to reload game as turn-based.\n"
     ]
    }
   ],
   "source": [
    "### Load game\n",
    "game_name = 'parking_1'\n",
    "game = smart_load_sequential_game('clock_auction', game_parameters=dict(filename=f'{game_name}.json'))\n"
   ]
  },
  {
   "cell_type": "code",
   "execution_count": 20,
   "id": "90d6f37f-589b-425e-80d3-7042ee6ea12f",
   "metadata": {},
   "outputs": [
    {
     "ename": "KeyboardInterrupt",
     "evalue": "",
     "output_type": "error",
     "traceback": [
      "\u001b[0;31m---------------------------------------------------------------------------\u001b[0m",
      "\u001b[0;31mKeyboardInterrupt\u001b[0m                         Traceback (most recent call last)",
      "\u001b[0;32m<ipython-input-20-81b638ccdd60>\u001b[0m in \u001b[0;36m<module>\u001b[0;34m\u001b[0m\n\u001b[1;32m      1\u001b[0m \u001b[0msolver\u001b[0m \u001b[0;34m=\u001b[0m \u001b[0mpyspiel\u001b[0m\u001b[0;34m.\u001b[0m\u001b[0mCFRSolver\u001b[0m\u001b[0;34m(\u001b[0m\u001b[0mgame\u001b[0m\u001b[0;34m)\u001b[0m\u001b[0;34m\u001b[0m\u001b[0;34m\u001b[0m\u001b[0m\n\u001b[1;32m      2\u001b[0m \u001b[0;32mfor\u001b[0m \u001b[0mi\u001b[0m \u001b[0;32min\u001b[0m \u001b[0mrange\u001b[0m\u001b[0;34m(\u001b[0m\u001b[0;36m1000\u001b[0m\u001b[0;34m)\u001b[0m\u001b[0;34m:\u001b[0m\u001b[0;34m\u001b[0m\u001b[0;34m\u001b[0m\u001b[0m\n\u001b[0;32m----> 3\u001b[0;31m     \u001b[0msolver\u001b[0m\u001b[0;34m.\u001b[0m\u001b[0mevaluate_and_update_policy\u001b[0m\u001b[0;34m(\u001b[0m\u001b[0;34m)\u001b[0m\u001b[0;34m\u001b[0m\u001b[0;34m\u001b[0m\u001b[0m\n\u001b[0m\u001b[1;32m      4\u001b[0m \u001b[0mpolicy\u001b[0m \u001b[0;34m=\u001b[0m \u001b[0msolver\u001b[0m\u001b[0;34m.\u001b[0m\u001b[0maverage_policy\u001b[0m\u001b[0;34m(\u001b[0m\u001b[0;34m)\u001b[0m\u001b[0;34m\u001b[0m\u001b[0;34m\u001b[0m\u001b[0m\n",
      "\u001b[0;31mKeyboardInterrupt\u001b[0m: "
     ]
    }
   ],
   "source": [
    "solver = pyspiel.CFRSolver(game)\n",
    "for i in range(1000):\n",
    "    solver.evaluate_and_update_policy()\n",
    "policy = solver.average_policy()"
   ]
  },
  {
   "cell_type": "code",
   "execution_count": 23,
   "id": "5dc9a1b4-607c-4cca-b897-e0c26dfe9f9d",
   "metadata": {},
   "outputs": [],
   "source": [
    "def make_policy_decorators(policy):\n",
    "    def edge_weight_by_policy_decorator(parent_state, unused_child, action, **kwargs):\n",
    "        attrs = ubc_treeviz.default_edge_decorator(parent_state, unused_child, action)  # get default attributes\n",
    "        if parent_state.current_player() < 0:\n",
    "            return attrs\n",
    "        \n",
    "        if '@ $0' in attrs['label']:\n",
    "            attrs['label'] = 'Drop Out'\n",
    "        \n",
    "        action_prob = policy.action_probabilities(parent_state)[action]\n",
    "        attrs['arrowsize'] = action_prob * attrs['arrowsize']\n",
    "        attrs['penwidth'] = action_prob\n",
    "        attrs['label'] = f'[{action_prob:.2f}] {attrs[\"label\"]}'\n",
    "        print(attrs, parent_state.current_player())\n",
    "        return attrs\n",
    "\n",
    "    def node_weight_by_policy_decorator(state, **kwargs):\n",
    "        attrs = ubc_treeviz.default_node_decorator(state)\n",
    "        if state.is_terminal():\n",
    "            return_list = eval(attrs['label'])\n",
    "            attrs['label'] = ', '.join([f'{x:.2f}' for x in return_list])\n",
    "        \n",
    "        # TODO: If terminal, report allocation\n",
    "        # {'label': 'Current player: 0\\np0v125, 125b150\\n', 'fontsize': 8, 'width': 0.25, 'height': 0.25, 'margin': 0.01, 'shape': 'square', 'color': 'blue'}\n",
    "        #         print(attrs)\n",
    "        return attrs\n",
    "\n",
    "    return node_weight_by_policy_decorator, edge_weight_by_policy_decorator\n",
    "\n",
    "node_policy_decorator, edge_policy_decorator = make_policy_decorators(policy)\n",
    "\n",
    "#   player = parent.current_player()\n",
    "#   attrs = {\n",
    "#       \"label\": \" \" + parent.action_to_string(player, action),\n",
    "#       \"fontsize\": _FONTSIZE,\n",
    "#       \"arrowsize\": _ARROWSIZE\n",
    "#   }\n",
    "#   attrs[\"color\"] = _PLAYER_COLORS.get(player, \"black\")\n",
    "#   return attrs\n"
   ]
  },
  {
   "cell_type": "code",
   "execution_count": null,
   "id": "938a7546-89bf-410f-9a21-73b56a4c89a3",
   "metadata": {},
   "outputs": [
    {
     "name": "stderr",
     "output_type": "stream",
     "text": [
      "INFO:absl:Building tree...\n",
      "INFO:absl:Built tree!\n"
     ]
    }
   ],
   "source": [
    "gametree = ubc_treeviz.GameTree(\n",
    "    game,\n",
    "#     node_decorator=node_policy_decorator,\n",
    "#     edge_decorator=edge_policy_decorator,\n",
    "    group_infosets=True,\n",
    "    group_terminal=False,\n",
    "    group_pubsets=False, \n",
    "    target_pubset='*',\n",
    "#     state_prob_limit=0.00000001,\n",
    "#     action_prob_limit=0.01,\n",
    "#     policy=policy\n",
    ")\n",
    "\n",
    "outfile = f'./{game_name}.pdf'\n",
    "\n",
    "# logging.info(\"Game tree:\\n%s\", gametree.to_string())\n",
    "\n",
    "gametree.draw(outfile, prog='dot')\n",
    "logging.info(\"Game tree saved to file: %s\", outfile)\n"
   ]
  },
  {
   "cell_type": "code",
   "execution_count": null,
   "id": "7266b96a-2852-47c6-8e5e-81e3b9c18d20",
   "metadata": {},
   "outputs": [],
   "source": [
    "# TODO: Given a STRATEGY, colour the lines according to thickness?"
   ]
  },
  {
   "cell_type": "code",
   "execution_count": null,
   "id": "70508ebf-e255-4bc5-b489-fb191bbea618",
   "metadata": {},
   "outputs": [],
   "source": [
    "\n"
   ]
  }
 ],
 "metadata": {
  "kernelspec": {
   "display_name": "Python 3",
   "language": "python",
   "name": "python3"
  },
  "language_info": {
   "codemirror_mode": {
    "name": "ipython",
    "version": 3
   },
   "file_extension": ".py",
   "mimetype": "text/x-python",
   "name": "python",
   "nbconvert_exporter": "python",
   "pygments_lexer": "ipython3",
   "version": "3.6.9"
  }
 },
 "nbformat": 4,
 "nbformat_minor": 5
}
