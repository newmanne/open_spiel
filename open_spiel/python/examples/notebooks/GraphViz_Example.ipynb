{
 "cells": [
  {
   "cell_type": "code",
   "execution_count": 23,
   "id": "77615b16-ab01-442c-b1f8-c37a0830efb8",
   "metadata": {},
   "outputs": [
    {
     "name": "stdout",
     "output_type": "stream",
     "text": [
      "The autoreload extension is already loaded. To reload it, use:\n",
      "  %reload_ext autoreload\n"
     ]
    }
   ],
   "source": [
    "%load_ext autoreload\n",
    "%autoreload 2\n",
    "\n",
    "import pyspiel\n",
    "import open_spiel.python.examples.ubc_utils\n",
    "from open_spiel.python.visualizations import ubc_treeviz\n",
    "from open_spiel.python.examples.ubc_utils import *\n",
    "from auctions.webutils import *\n",
    "from absl import logging\n",
    "logging.set_verbosity(logging.INFO)\n",
    "import os\n",
    "os.environ[\"DJANGO_ALLOW_ASYNC_UNSAFE\"] = \"true\"\n",
    "from open_spiel.python.examples.ubc_cma import *\n",
    "from open_spiel.python.examples.ubc_decorators import TakeSingleActionDecorator, TremblingAgentDecorator, ModalAgentDecorator\n"
   ]
  },
  {
   "cell_type": "code",
   "execution_count": 24,
   "id": "ae11a5f2-d2d8-4742-9e87-332793df40f7",
   "metadata": {},
   "outputs": [
    {
     "name": "stdout",
     "output_type": "stream",
     "text": [
      "Found 90 runs\n"
     ]
    }
   ],
   "source": [
    "# load runs from experiments\n",
    "experiments = []\n",
    "experiments += ['jun10ppo']\n",
    "experiments += ['jun10outcome']\n",
    "runs = []\n",
    "for experiment in experiments:\n",
    "    runs += Experiment.objects.get(name=experiment).equilibriumsolverrun_set.all()\n",
    "print(f\"Found {len(runs)} runs\")\n"
   ]
  },
  {
   "cell_type": "code",
   "execution_count": 25,
   "id": "e16c26d4-bfd5-4575-8011-f91c72bb77cb",
   "metadata": {},
   "outputs": [],
   "source": [
    "run = EquilibriumSolverRun.objects.get(name='jun9_jun9_4_high_speed-cfr_outcomemccfr_outcome-101')"
   ]
  },
  {
   "cell_type": "code",
   "execution_count": 26,
   "id": "6a298187-1895-4d4d-b9d1-8a58d6cce2e2",
   "metadata": {},
   "outputs": [],
   "source": [
    "game, checkpoint, policy = get_results(run)\n",
    "# TODO: This is not the policy you want. You want to modify the agents directly and then make a policy from that\n",
    "\n",
    "c = checkpoint.equilibrium_solver_run.config\n",
    "cfr = c.get('solver_type') == 'cfr'\n",
    "\n",
    "# Load the environment\n",
    "env_and_policy = ppo_db_checkpoint_loader(checkpoint, cfr=cfr)\n",
    "\n"
   ]
  },
  {
   "cell_type": "code",
   "execution_count": 27,
   "id": "4ea40694-a459-4459-82e0-b429e707defb",
   "metadata": {},
   "outputs": [],
   "source": [
    "for player in range(game.num_players()):\n",
    "    env_and_policy.agents[player] = ModalAgentDecorator(env_and_policy.agents[player])\n",
    "policy = env_and_policy.make_policy()"
   ]
  },
  {
   "cell_type": "code",
   "execution_count": null,
   "id": "5b289f26-edb3-42d3-b1c3-0f5fc9114d07",
   "metadata": {},
   "outputs": [],
   "source": []
  },
  {
   "cell_type": "code",
   "execution_count": 28,
   "id": "027d1187-ebfd-4822-8cbe-30054d8c1360",
   "metadata": {},
   "outputs": [],
   "source": [
    "# Alternatively, to load a BR\n",
    "\n",
    "# br_player = 0\n",
    "# br_name = 'feb4/lstm'\n",
    "# br_agent = load_dqn_agent(BestResponse.objects.get(\n",
    "#     checkpoint = checkpoint,\n",
    "#     br_player = br_player,\n",
    "#     name = br_name\n",
    "# ))\n",
    "# policy._policies[br_agent.player_id] = br_agent\n"
   ]
  },
  {
   "cell_type": "code",
   "execution_count": 29,
   "id": "90d6f37f-589b-425e-80d3-7042ee6ea12f",
   "metadata": {},
   "outputs": [],
   "source": [
    "# Alternatively, to get from CFR directly\n",
    "# solver = pyspiel.CFRSolver(game)\n",
    "# for i in range(1000):\n",
    "#     solver.evaluate_and_update_policy()\n",
    "# policy = solver.average_policy()"
   ]
  },
  {
   "cell_type": "code",
   "execution_count": 32,
   "id": "938a7546-89bf-410f-9a21-73b56a4c89a3",
   "metadata": {},
   "outputs": [
    {
     "name": "stdout",
     "output_type": "stream",
     "text": [
      "Game tree saved to file ./graphviz/jun9_jun9_4_high_speed-cfr_outcomemccfr_outcome-101 (jun10outcome) Iteration 9999999-jun9_jun9_4_high_speed.json.pdf\n"
     ]
    }
   ],
   "source": [
    "game_name = checkpoint.game.name\n",
    "\n",
    "node_policy_decorator, edge_policy_decorator = ubc_treeviz.make_policy_decorators(policy)\n",
    "gametree = ubc_treeviz.GameTree(\n",
    "    game,\n",
    "    node_decorator=node_policy_decorator,\n",
    "    edge_decorator=edge_policy_decorator,\n",
    "    group_infosets=False,\n",
    "    group_terminal=False,\n",
    "    group_pubsets=False, \n",
    "    target_pubset='*',\n",
    "    depth_limit=20,\n",
    "    state_prob_limit=0.001,\n",
    "    action_prob_limit=0.01, \n",
    "    policy=policy\n",
    ")\n",
    "\n",
    "fname = f'{checkpoint}-{game_name}'\n",
    "fname = fname.replace('/', '_')\n",
    "outfile= f'./graphviz/{fname}.pdf'\n",
    "\n",
    "# logging.info(\"Game tree:\\n%s\", gametree.to_string())\n",
    "\n",
    "gametree.draw(outfile, prog='dot')\n",
    "print(\"Game tree saved to file\", outfile)\n"
   ]
  },
  {
   "cell_type": "code",
   "execution_count": 34,
   "id": "ea02126e-7f54-4099-af4b-db6e03136db9",
   "metadata": {},
   "outputs": [
    {
     "data": {
      "text/plain": [
       "AuctionParams(opening_prices=[32, 19], licenses=array([1, 2]), license_names=['Ontario', 'Quebec'], activity=[32, 19], num_products=2, increment=0.6, reveal_type_round=-1, fold_randomness=True, skip_single_chance_nodes=True, max_round=5, player_types=defaultdict(<class 'list'>, {0: [{'prob': 0.5, 'bidder': <open_spiel.python.games.clock_auction_bidders.EnumeratedValueBidder object at 0x7f2341030700>}, {'prob': 0.5, 'bidder': <open_spiel.python.games.clock_auction_bidders.EnumeratedValueBidder object at 0x7f2341030160>}], 1: [{'prob': 0.5, 'bidder': <open_spiel.python.games.clock_auction_bidders.EnumeratedValueBidder object at 0x7f2341030760>}, {'prob': 0.5, 'bidder': <open_spiel.python.games.clock_auction_bidders.EnumeratedValueBidder object at 0x7f2341030e80>}]}), all_bids=array([[0, 0],\n",
       "       [0, 1],\n",
       "       [0, 2],\n",
       "       [1, 0],\n",
       "       [1, 1],\n",
       "       [1, 2]]), bid_to_index={(0, 0): 0, (0, 1): 1, (0, 2): 2, (1, 0): 3, (1, 1): 4, (1, 2): 5}, all_bids_activity=array([ 0, 19, 38, 32, 51, 70]), activity_policy=<ActivityPolicy.ON: 0>, undersell_policy=<UndersellPolicy.UNDERSELL: 0>, information_policy=<InformationPolicy.SHOW_DEMAND: 0>, agent_memory=5)"
      ]
     },
     "execution_count": 34,
     "metadata": {},
     "output_type": "execute_result"
    }
   ],
   "source": [
    "game.auction_params"
   ]
  },
  {
   "cell_type": "code",
   "execution_count": 37,
   "id": "89fae012-db61-48de-a2ac-f2158e236f6b",
   "metadata": {},
   "outputs": [
    {
     "ename": "NameError",
     "evalue": "name 'gmae' is not defined",
     "output_type": "error",
     "traceback": [
      "\u001b[0;31m---------------------------------------------------------------------------\u001b[0m",
      "\u001b[0;31mNameError\u001b[0m                                 Traceback (most recent call last)",
      "Input \u001b[0;32mIn [37]\u001b[0m, in \u001b[0;36m<module>\u001b[0;34m\u001b[0m\n\u001b[0;32m----> 1\u001b[0m \u001b[38;5;28mdir\u001b[39m(\u001b[43mgmae\u001b[49m)\n",
      "\u001b[0;31mNameError\u001b[0m: name 'gmae' is not defined"
     ]
    }
   ],
   "source": [
    "dir(gmae)"
   ]
  },
  {
   "cell_type": "code",
   "execution_count": null,
   "id": "a38f9616-c92b-448e-afa3-37301193ae26",
   "metadata": {},
   "outputs": [],
   "source": []
  }
 ],
 "metadata": {
  "kernelspec": {
   "display_name": "Django Shell-Plus",
   "language": "python",
   "name": "django_extensions"
  },
  "language_info": {
   "codemirror_mode": {
    "name": "ipython",
    "version": 3
   },
   "file_extension": ".py",
   "mimetype": "text/x-python",
   "name": "python",
   "nbconvert_exporter": "python",
   "pygments_lexer": "ipython3",
   "version": "3.8.2"
  }
 },
 "nbformat": 4,
 "nbformat_minor": 5
}
