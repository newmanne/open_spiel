{
 "cells": [
  {
   "cell_type": "code",
   "execution_count": null,
   "id": "77615b16-ab01-442c-b1f8-c37a0830efb8",
   "metadata": {},
   "outputs": [],
   "source": [
    "%load_ext autoreload\n",
    "%autoreload 2\n",
    "%pylab inline\n",
    "\n",
    "import pyspiel\n",
    "import open_spiel.python.examples.ubc_utils\n",
    "from open_spiel.python.visualizations import ubc_treeviz\n",
    "from open_spiel.python.examples.ubc_utils import *\n",
    "from auctions.webutils import *\n",
    "from absl import logging\n",
    "logging.set_verbosity(logging.INFO)\n",
    "from open_spiel.python.examples.ubc_nfsp_example import NFSPPolicies\n",
    "import os\n",
    "os.environ[\"DJANGO_ALLOW_ASYNC_UNSAFE\"] = \"true\"\n"
   ]
  },
  {
   "cell_type": "code",
   "execution_count": null,
   "id": "ae11a5f2-d2d8-4742-9e87-332793df40f7",
   "metadata": {},
   "outputs": [],
   "source": [
    "EXPERIMENT_NAME = 'minitest'\n",
    "RUN_NAME = 'tiny-feb2lstm-100'\n",
    "checkpoint = get_checkpoint(EXPERIMENT_NAME, RUN_NAME)\n",
    "game = load_game(checkpoint.game)\n",
    "policy = db_checkpoint_loader(checkpoint).nfsp_policies"
   ]
  },
  {
   "cell_type": "code",
   "execution_count": null,
   "id": "027d1187-ebfd-4822-8cbe-30054d8c1360",
   "metadata": {},
   "outputs": [],
   "source": [
    "# Alternatively, to load a BR\n",
    "\n",
    "# br_player = 0\n",
    "# br_name = 'feb4/lstm'\n",
    "# br_agent = load_dqn_agent(BestResponse.objects.get(\n",
    "#     checkpoint = checkpoint,\n",
    "#     br_player = br_player,\n",
    "#     name = br_name\n",
    "# ))\n",
    "# policy._policies[br_agent.player_id] = br_agent\n"
   ]
  },
  {
   "cell_type": "code",
   "execution_count": null,
   "id": "90d6f37f-589b-425e-80d3-7042ee6ea12f",
   "metadata": {},
   "outputs": [],
   "source": [
    "# Alternatively, to get from CFR directly\n",
    "# solver = pyspiel.CFRSolver(game)\n",
    "# for i in range(1000):\n",
    "#     solver.evaluate_and_update_policy()\n",
    "# policy = solver.average_policy()"
   ]
  },
  {
   "cell_type": "code",
   "execution_count": null,
   "id": "938a7546-89bf-410f-9a21-73b56a4c89a3",
   "metadata": {},
   "outputs": [],
   "source": [
    "game_name = checkpoint.game.name\n",
    "\n",
    "node_policy_decorator, edge_policy_decorator = ubc_treeviz.make_policy_decorators(policy)\n",
    "gametree = ubc_treeviz.GameTree(\n",
    "    game,\n",
    "    node_decorator=node_policy_decorator,\n",
    "    edge_decorator=edge_policy_decorator,\n",
    "    group_infosets=True,\n",
    "    group_terminal=False,\n",
    "    group_pubsets=False, \n",
    "    target_pubset='*',\n",
    "    depth_limit=20,\n",
    "    state_prob_limit=0.001,\n",
    "    action_prob_limit=0.01, \n",
    "    policy=policy\n",
    ")\n",
    "\n",
    "outfile= f'./graphviz/{checkpoint}-{game_name}.pdf'\n",
    "\n",
    "# logging.info(\"Game tree:\\n%s\", gametree.to_string())\n",
    "\n",
    "gametree.draw(outfile, prog='dot')\n",
    "logging.info(\"Game tree saved to file: %s\", outfile)\n"
   ]
  },
  {
   "cell_type": "code",
   "execution_count": null,
   "id": "ea02126e-7f54-4099-af4b-db6e03136db9",
   "metadata": {},
   "outputs": [],
   "source": []
  },
  {
   "cell_type": "code",
   "execution_count": null,
   "id": "89fae012-db61-48de-a2ac-f2158e236f6b",
   "metadata": {},
   "outputs": [],
   "source": []
  }
 ],
 "metadata": {
  "kernelspec": {
   "display_name": "Django Shell-Plus",
   "language": "python",
   "name": "django_extensions"
  },
  "language_info": {
   "codemirror_mode": {
    "name": "ipython",
    "version": 3
   },
   "file_extension": ".py",
   "mimetype": "text/x-python",
   "name": "python",
   "nbconvert_exporter": "python",
   "pygments_lexer": "ipython3",
   "version": "3.8.2"
  }
 },
 "nbformat": 4,
 "nbformat_minor": 5
}
