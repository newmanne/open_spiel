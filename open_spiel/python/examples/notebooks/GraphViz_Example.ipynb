{
 "cells": [
  {
   "cell_type": "code",
   "execution_count": 46,
   "id": "77615b16-ab01-442c-b1f8-c37a0830efb8",
   "metadata": {},
   "outputs": [
    {
     "name": "stdout",
     "output_type": "stream",
     "text": [
      "The autoreload extension is already loaded. To reload it, use:\n",
      "  %reload_ext autoreload\n",
      "Populating the interactive namespace from numpy and matplotlib\n"
     ]
    },
    {
     "name": "stderr",
     "output_type": "stream",
     "text": [
      "/apps/open_spiel/venv/lib/python3.6/site-packages/IPython/core/magics/pylab.py:160: UserWarning: pylab import has clobbered these variables: ['solve', 'random', 'logging']\n",
      "`%matplotlib` prevents importing * from pylab and numpy\n",
      "  \"\\n`%matplotlib` prevents importing * from pylab and numpy\"\n"
     ]
    }
   ],
   "source": [
    "%load_ext autoreload\n",
    "%autoreload 2\n",
    "%pylab inline\n",
    "\n",
    "import pyspiel\n",
    "import open_spiel.python.examples.ubc_utils\n",
    "from open_spiel.python.visualizations import ubc_treeviz\n",
    "from open_spiel.python.examples.ubc_utils import *\n",
    "from absl import logging\n",
    "logging.set_verbosity(logging.INFO)\n",
    "from open_spiel.python.examples.ubc_nfsp_example import NFSPPolicies, policy_from_checkpoint\n",
    "from open_spiel.python.examples.ubc_br import checkpoint_sub_agent_i, dqn_agent_from_checkpoint"
   ]
  },
  {
   "cell_type": "code",
   "execution_count": 47,
   "id": "ae11a5f2-d2d8-4742-9e87-332793df40f7",
   "metadata": {},
   "outputs": [],
   "source": [
    "EXPERIMENT_DIR = '/shared/outputs/jan28_big/mlp'\n",
    "CHECKPOINT_NAME = 'checkpoint_latest'\n",
    "### Load game\n",
    "game = smart_load_sequential_game('clock_auction', game_parameters=dict(filename=f'{EXPERIMENT_DIR}/game.json'))\n",
    "\n",
    "# CHECKPOINT_NAME = 'checkpoint_1500000'"
   ]
  },
  {
   "cell_type": "code",
   "execution_count": 48,
   "id": "027d1187-ebfd-4822-8cbe-30054d8c1360",
   "metadata": {},
   "outputs": [
    {
     "name": "stderr",
     "output_type": "stream",
     "text": [
      "INFO:absl:Game loaded\n",
      "INFO:absl:Using game instance: turn_based_simultaneous_game\n",
      "INFO:absl:Game has a state size of 646, 12 distinct actions, and 2 players\n",
      "INFO:absl:Game has 3 products\n",
      "INFO:absl:Creating NFSP using device: cuda for player 0\n",
      "INFO:absl:Double DQN activated for player 0\n",
      "INFO:absl:Creating DQN using device: cuda for player 0\n",
      "INFO:absl:Creating NFSP using device: cuda for player 1\n",
      "INFO:absl:Double DQN activated for player 1\n",
      "INFO:absl:Creating DQN using device: cuda for player 1\n"
     ]
    }
   ],
   "source": [
    "policy = policy_from_checkpoint(EXPERIMENT_DIR, CHECKPOINT_NAME).nfsp_policies\n",
    "\n",
    "# Alternatively, to load a BR\n",
    "# br_agent = dqn_agent_from_checkpoint(EXPERIMENT_DIR, 'checkpoint_3000000', 'checkpoint_3000000_br_0')\n",
    "# policy = checkpoint_sub_agent_i(EXPERIMENT_DIR, 'checkpoint_3000000', br_agent)"
   ]
  },
  {
   "cell_type": "code",
   "execution_count": 15,
   "id": "90d6f37f-589b-425e-80d3-7042ee6ea12f",
   "metadata": {},
   "outputs": [],
   "source": [
    "# Alternatively, to get from CFR directly\n",
    "# solver = pyspiel.CFRSolver(game)\n",
    "# for i in range(1000):\n",
    "#     solver.evaluate_and_update_policy()\n",
    "# policy = solver.average_policy()"
   ]
  },
  {
   "cell_type": "code",
   "execution_count": 49,
   "id": "5dc9a1b4-607c-4cca-b897-e0c26dfe9f9d",
   "metadata": {},
   "outputs": [],
   "source": [
    "node_policy_decorator, edge_policy_decorator = ubc_treeviz.make_policy_decorators(policy)"
   ]
  },
  {
   "cell_type": "code",
   "execution_count": 50,
   "id": "938a7546-89bf-410f-9a21-73b56a4c89a3",
   "metadata": {},
   "outputs": [
    {
     "name": "stderr",
     "output_type": "stream",
     "text": [
      "INFO:absl:Building tree...\n",
      "INFO:absl:Built tree!\n",
      "INFO:absl:Game tree saved to file: ./graphviz/big_game_2.pdf\n"
     ]
    }
   ],
   "source": [
    "gametree = ubc_treeviz.GameTree(\n",
    "    game,\n",
    "    node_decorator=node_policy_decorator,\n",
    "    edge_decorator=edge_policy_decorator,\n",
    "    group_infosets=True,\n",
    "    group_terminal=False,\n",
    "    group_pubsets=False, \n",
    "    target_pubset='*',\n",
    "    depth_limit=10,\n",
    "    state_prob_limit=0.01,\n",
    "    action_prob_limit=0.05, \n",
    "    policy=policy\n",
    ")\n",
    "\n",
    "outfile= f'./graphviz/{game_name}.pdf'\n",
    "\n",
    "# logging.info(\"Game tree:\\n%s\", gametree.to_string())\n",
    "\n",
    "gametree.draw(outfile, prog='dot')\n",
    "logging.info(\"Game tree saved to file: %s\", outfile)\n"
   ]
  },
  {
   "cell_type": "code",
   "execution_count": null,
   "id": "ea02126e-7f54-4099-af4b-db6e03136db9",
   "metadata": {},
   "outputs": [],
   "source": []
  }
 ],
 "metadata": {
  "kernelspec": {
   "display_name": "Python 3",
   "language": "python",
   "name": "python3"
  },
  "language_info": {
   "codemirror_mode": {
    "name": "ipython",
    "version": 3
   },
   "file_extension": ".py",
   "mimetype": "text/x-python",
   "name": "python",
   "nbconvert_exporter": "python",
   "pygments_lexer": "ipython3",
   "version": "3.6.9"
  }
 },
 "nbformat": 4,
 "nbformat_minor": 5
}
