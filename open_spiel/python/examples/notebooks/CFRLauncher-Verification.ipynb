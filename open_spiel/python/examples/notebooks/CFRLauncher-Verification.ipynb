{
 "cells": [
  {
   "cell_type": "code",
   "execution_count": 1,
   "id": "e6f6eef1-52e3-4ff5-af4b-2d5b933ad90b",
   "metadata": {},
   "outputs": [
    {
     "name": "stdout",
     "output_type": "stream",
     "text": [
      "%pylab is deprecated, use %matplotlib inline and import the required libraries.\n",
      "Populating the interactive namespace from numpy and matplotlib\n"
     ]
    }
   ],
   "source": [
    "%load_ext autoreload\n",
    "%autoreload 2\n",
    "%pylab inline"
   ]
  },
  {
   "cell_type": "code",
   "execution_count": 2,
   "id": "53d1f915-16a6-42e9-b93a-3f44564ef069",
   "metadata": {},
   "outputs": [],
   "source": [
    "import sys\n",
    "import glob\n",
    "import pandas as pd\n",
    "import os\n",
    "import seaborn as sns\n",
    "from tqdm import tqdm_notebook as tqdm\n",
    "from statsmodels.distributions.empirical_distribution import ECDF\n",
    "from collections import defaultdict\n",
    "import open_spiel.python.examples.ubc_dispatch as dispatch\n",
    "import os\n",
    "os.environ[\"DJANGO_ALLOW_ASYNC_UNSAFE\"] = \"true\"\n",
    "from sklearn.model_selection import ParameterGrid\n",
    "from pathlib import Path\n",
    "import torch.nn.functional as F\n",
    "import torch\n",
    "import pickle\n"
   ]
  },
  {
   "cell_type": "code",
   "execution_count": 3,
   "id": "a963cf68-f084-47bc-86bf-23882e77f392",
   "metadata": {},
   "outputs": [],
   "source": [
    "game_dir = os.environ[\"CLOCK_AUCTION_CONFIG_DIR\"]"
   ]
  },
  {
   "cell_type": "code",
   "execution_count": 6,
   "id": "48036c62-68f7-4580-82c3-0da36da9c6b4",
   "metadata": {},
   "outputs": [
    {
     "name": "stdout",
     "output_type": "stream",
     "text": [
      "['jun26/jun26_4_base', 'jun26/jun26_3_base', 'jun26/jun26_1_base', 'jun26/jun26_0_base', 'jun26/jun26_2_base', 'aug31/aug31_3_base', 'aug31/aug31_2_base', 'aug31/aug31_1_base', 'aug31/aug31_4_base', 'aug31/aug31_0_base']\n",
      "10\n"
     ]
    }
   ],
   "source": [
    "sats_games = []\n",
    "PREFIXES = ['jun26', 'aug31']\n",
    "for prefix in PREFIXES:\n",
    "    sats_games += [f'{prefix}/' + os.path.basename(x).replace('.json','') for x in glob.glob(f'{game_dir}/{prefix}/*')]\n",
    "    \n",
    "sats_games = [s for s in sats_games if ('base' in s)]\n",
    "print(sats_games) \n",
    "print(len(sats_games))"
   ]
  },
  {
   "cell_type": "markdown",
   "id": "01e19a7a-7d0c-4d03-963f-2265e950bf0b",
   "metadata": {},
   "source": [
    "# For running the real dumb test case"
   ]
  },
  {
   "cell_type": "code",
   "execution_count": 7,
   "id": "ff77dd62-1983-4468-9c31-fd042294ca5c",
   "metadata": {},
   "outputs": [
    {
     "name": "stdout",
     "output_type": "stream",
     "text": [
      "10\n"
     ]
    }
   ],
   "source": [
    "pgrid = ParameterGrid([\n",
    "    {\n",
    "        # Defaults\n",
    "        'game': [g for g in sats_games]# if 'hide' not in g and 'imperfect' not in g]\n",
    "    },\n",
    "])\n",
    "print(len(pgrid))"
   ]
  },
  {
   "cell_type": "code",
   "execution_count": null,
   "id": "ef682f8a-a882-4937-8b86-21a03ee10607",
   "metadata": {},
   "outputs": [],
   "source": [
    "# num_iters = 999_000_000\n",
    "# time_limit_seconds = int(3600 * 0.5)\n",
    "# for config in pgrid:\n",
    "#     CONFIG = 'cfr_init_2' # The YML network config folder for the main jobs\n",
    "#     N_SEEDS = 1 # Number of seeds of each experiment to launch\n",
    "#     extra_name = ''\n",
    "#     overrides = f'--overwrite_db True --eval_every 999_999_000 --eval_zero false --total_timesteps {num_iters} --dispatch_br false --report_freq 5000 --time_limit_seconds {time_limit_seconds}'      \n",
    "#     dispatch.dispatch_experiments(CONFIG, base_job_name='jun24_cfr_gamut_7', game_name=config['game'], overrides=overrides, n_seeds=N_SEEDS, extra_name=extra_name, alg='cfr')"
   ]
  },
  {
   "cell_type": "code",
   "execution_count": 8,
   "id": "57ec9e6b-aeae-48e2-94e6-43d066a0db1a",
   "metadata": {},
   "outputs": [
    {
     "name": "stdout",
     "output_type": "stream",
     "text": [
      "Submitted batch job 93613\n",
      "Submitted batch job 93614\n",
      "Submitted batch job 93615\n",
      "Submitted batch job 93616\n",
      "Submitted batch job 93617\n",
      "Submitted batch job 93618\n",
      "Submitted batch job 93619\n",
      "Submitted batch job 93620\n",
      "Submitted batch job 93621\n",
      "Submitted batch job 93622\n",
      "Submitted batch job 93623\n",
      "Submitted batch job 93624\n",
      "Submitted batch job 93625\n",
      "Submitted batch job 93626\n",
      "Submitted batch job 93627\n",
      "Submitted batch job 93628\n",
      "Submitted batch job 93629\n",
      "Submitted batch job 93630\n",
      "Submitted batch job 93631\n",
      "Submitted batch job 93632\n",
      "Submitted batch job 93633\n",
      "Submitted batch job 93634\n",
      "Submitted batch job 93635\n",
      "Submitted batch job 93636\n",
      "Submitted batch job 93637\n",
      "Submitted batch job 93638\n",
      "Submitted batch job 93639\n",
      "Submitted batch job 93640\n",
      "Submitted batch job 93641\n",
      "Submitted batch job 93642\n",
      "Submitted batch job 93643\n",
      "Submitted batch job 93644\n",
      "Submitted batch job 93645\n",
      "Submitted batch job 93646\n",
      "Submitted batch job 93647\n",
      "Submitted batch job 93648\n",
      "Submitted batch job 93649\n",
      "Submitted batch job 93650\n",
      "Submitted batch job 93651\n",
      "Submitted batch job 93652\n",
      "Submitted batch job 93653\n",
      "Submitted batch job 93654\n",
      "Submitted batch job 93655\n",
      "Submitted batch job 93656\n",
      "Submitted batch job 93657\n",
      "Submitted batch job 93658\n",
      "Submitted batch job 93659\n",
      "Submitted batch job 93660\n",
      "Submitted batch job 93661\n",
      "Submitted batch job 93662\n",
      "Submitted batch job 93663\n",
      "Submitted batch job 93664\n",
      "Submitted batch job 93665\n",
      "Submitted batch job 93666\n",
      "Submitted batch job 93667\n",
      "Submitted batch job 93668\n",
      "Submitted batch job 93669\n",
      "Submitted batch job 93670\n",
      "Submitted batch job 93671\n",
      "Submitted batch job 93672\n",
      "Submitted batch job 93673\n",
      "Submitted batch job 93674\n",
      "Submitted batch job 93675\n",
      "Submitted batch job 93676\n",
      "Submitted batch job 93677\n",
      "Submitted batch job 93678\n",
      "Submitted batch job 93679\n",
      "Submitted batch job 93680\n",
      "Submitted batch job 93681\n",
      "Submitted batch job 93682\n",
      "Submitted batch job 93683\n",
      "Submitted batch job 93684\n",
      "Submitted batch job 93685\n",
      "Submitted batch job 93686\n",
      "Submitted batch job 93687\n",
      "Submitted batch job 93688\n",
      "Submitted batch job 93689\n",
      "Submitted batch job 93690\n",
      "Submitted batch job 93691\n",
      "Submitted batch job 93692\n",
      "Submitted batch job 93693\n",
      "Submitted batch job 93694\n",
      "Submitted batch job 93695\n",
      "Submitted batch job 93696\n",
      "Submitted batch job 93697\n",
      "Submitted batch job 93698\n",
      "Submitted batch job 93699\n",
      "Submitted batch job 93700\n",
      "Submitted batch job 93701\n",
      "Submitted batch job 93702\n",
      "Submitted batch job 93703\n",
      "Submitted batch job 93704\n",
      "Submitted batch job 93705\n",
      "Submitted batch job 93706\n",
      "Submitted batch job 93707\n",
      "Submitted batch job 93708\n",
      "Submitted batch job 93709\n",
      "Submitted batch job 93710\n",
      "Submitted batch job 93711\n",
      "Submitted batch job 93712\n",
      "Submitted batch job 93713\n",
      "Submitted batch job 93714\n",
      "Submitted batch job 93715\n",
      "Submitted batch job 93716\n",
      "Submitted batch job 93717\n",
      "Submitted batch job 93718\n",
      "Submitted batch job 93719\n",
      "Submitted batch job 93720\n",
      "Submitted batch job 93721\n",
      "Submitted batch job 93722\n",
      "Submitted batch job 93723\n",
      "Submitted batch job 93724\n",
      "Submitted batch job 93725\n",
      "Submitted batch job 93726\n",
      "Submitted batch job 93727\n",
      "Submitted batch job 93728\n",
      "Submitted batch job 93729\n",
      "Submitted batch job 93730\n",
      "Submitted batch job 93731\n",
      "Submitted batch job 93732\n"
     ]
    }
   ],
   "source": [
    "num_iters = 999_000_000\n",
    "time_limit_seconds = int(3600 * 9)\n",
    "for config in pgrid:\n",
    "    CONFIG = 'cfr_port_2_no_ext' # The YML network config folder for the main jobs\n",
    "    N_SEEDS = 6 # Number of seeds of each experiment to launch\n",
    "    extra_name = ''\n",
    "    overrides = f'--overwrite_db True --eval_every 999_999_999 --eval_every_seconds 9000 --eval_zero false --total_timesteps {num_iters} --dispatch_br false --report_freq 5000 --time_limit_seconds {time_limit_seconds}'      \n",
    "    dispatch.dispatch_experiments(CONFIG, start_seed=7777, base_job_name='contrast', game_name=config['game'], overrides=overrides, n_seeds=N_SEEDS, extra_name=extra_name, alg='cfr')"
   ]
  },
  {
   "cell_type": "code",
   "execution_count": 22,
   "id": "db7ec2c8-edf1-4aae-bbab-b1dd6400cac4",
   "metadata": {},
   "outputs": [],
   "source": [
    "# PREFIX = 'sep1'\n",
    "# sats_games = [f'{PREFIX}/' + os.path.basename(x).replace('.json','') for x in glob.glob(f'{game_dir}/{PREFIX}/*')]\n",
    "# print(sats_games)\n",
    "# sats_games = \\\n",
    "#     [s for s in sats_games if ('hide' in s)]\n",
    "# pgrid = ParameterGrid([\n",
    "#     {\n",
    "#         # Defaults\n",
    "#         'game': [g for g in sats_games]# if 'hide' not in g and 'imperfect' not in g]\n",
    "#     },\n",
    "# ])\n",
    "# list(pgrid)"
   ]
  },
  {
   "cell_type": "code",
   "execution_count": 31,
   "id": "a675bf36-932f-4832-8311-2efc9f6cf361",
   "metadata": {},
   "outputs": [
    {
     "name": "stdout",
     "output_type": "stream",
     "text": [
      "Submitted batch job 93163\n",
      "Submitted batch job 93164\n",
      "Submitted batch job 93165\n",
      "Submitted batch job 93166\n",
      "Submitted batch job 93167\n",
      "Submitted batch job 93168\n",
      "Submitted batch job 93169\n",
      "Submitted batch job 93170\n",
      "Submitted batch job 93171\n",
      "Submitted batch job 93172\n",
      "Submitted batch job 93173\n",
      "Submitted batch job 93174\n",
      "Submitted batch job 93175\n",
      "Submitted batch job 93176\n",
      "Submitted batch job 93177\n",
      "Submitted batch job 93178\n",
      "Submitted batch job 93179\n",
      "Submitted batch job 93180\n",
      "Submitted batch job 93181\n",
      "Submitted batch job 93182\n",
      "Submitted batch job 93183\n",
      "Submitted batch job 93184\n",
      "Submitted batch job 93185\n",
      "Submitted batch job 93186\n",
      "Submitted batch job 93187\n",
      "Submitted batch job 93188\n",
      "Submitted batch job 93189\n",
      "Submitted batch job 93190\n",
      "Submitted batch job 93191\n",
      "Submitted batch job 93192\n"
     ]
    }
   ],
   "source": [
    "### Test 3 players\n",
    "\n",
    "PREFIX = 'sep1'\n",
    "sats_games = [f'{PREFIX}/' + os.path.basename(x).replace('.json','') for x in glob.glob(f'{game_dir}/{PREFIX}/*')]\n",
    "# sats_games = [s for s in sats_games if 'hide' not in s and 'no_activity' not in s and 'undersell' not in s and 'speed' not in s and 'spite' not in s]\n",
    "# sats_games = [s for s in sats_games if ('base' in s or 'grace' in s or 'activity' in s or 'speed' in s) and 'spite' not in s and 'risk' not in s]\n",
    "sats_games = \\\n",
    "    [s for s in sats_games if ('hide' in s)]\n",
    "pgrid = ParameterGrid([\n",
    "    {\n",
    "        # Defaults\n",
    "        'game': [g for g in sats_games]# if 'hide' not in g and 'imperfect' not in g]\n",
    "    },\n",
    "])\n",
    "\n",
    "num_iters = 999_000_000\n",
    "time_limit_seconds = int(3600 * 9)\n",
    "for config in pgrid:\n",
    "    CONFIG = 'cfr_port_2_no_ext' # The YML network config folder for the main jobs\n",
    "    N_SEEDS = 3 # Number of seeds of each experiment to launch\n",
    "    extra_name = ''\n",
    "    overrides = f'--overwrite_db True --eval_every 999_999_999 --eval_every_seconds 9000 --eval_zero false --total_timesteps {num_iters} --dispatch_br false --report_freq 5000 --time_limit_seconds {time_limit_seconds}'      \n",
    "    dispatch.dispatch_experiments(CONFIG, base_job_name='3players_sep1', game_name=config['game'], overrides=overrides, n_seeds=N_SEEDS, extra_name=extra_name, alg='cfr')"
   ]
  },
  {
   "cell_type": "code",
   "execution_count": null,
   "id": "670efe1e-8e7e-4cef-b04d-78fc7a4cbce6",
   "metadata": {},
   "outputs": [],
   "source": [
    "# num_iters = 10_000_000\n",
    "# time_limit_seconds = 3600 * 4\n",
    "# for config in pgrid:\n",
    "#     CONFIG = 'cfr_external' # The YML network config folder for the main jobs\n",
    "#     N_SEEDS = 3 # Number of seeds of each experiment to launch\n",
    "#     extra_name = ''\n",
    "#     overrides = f'--overwrite_db True --eval_every 250_000 --eval_zero false --total_timesteps {num_iters} --dispatch_br false --report_freq 5000 --time_limit_seconds {time_limit_seconds}'      \n",
    "#     dispatch.dispatch_experiments(CONFIG, base_job_name='jun23external', game_name=config['game'], overrides=overrides, n_seeds=N_SEEDS, extra_name=extra_name, alg='cfr')"
   ]
  },
  {
   "cell_type": "code",
   "execution_count": null,
   "id": "457a17e0-3467-49e7-a1fc-ef7b061e49ff",
   "metadata": {},
   "outputs": [],
   "source": [
    "# num_iters = 30_000_000\n",
    "# time_limit_seconds = 3600 * 4\n",
    "# for config in pgrid:\n",
    "#     CONFIG = 'cfr_outcome' # The YML network config folder for the main jobs\n",
    "#     N_SEEDS = 3 # Number of seeds of each experiment to launch\n",
    "#     extra_name = ''\n",
    "#     overrides = f'--overwrite_db True --eval_every 999_000_000 --eval_zero false --total_timesteps {num_iters} --dispatch_br false --report_freq 5000 --time_limit_seconds {time_limit_seconds}'      \n",
    "#     dispatch.dispatch_experiments(CONFIG, base_job_name='jun23outcome_2', game_name=config['game'], overrides=overrides, n_seeds=N_SEEDS, extra_name=extra_name, alg='cfr')"
   ]
  },
  {
   "cell_type": "code",
   "execution_count": null,
   "id": "534e93c4-35cb-4af5-8140-6ca5bb9d859b",
   "metadata": {},
   "outputs": [],
   "source": [
    "# for config in pgrid:\n",
    "#     CONFIG = 'ppo_no_ent_jun14'\n",
    "#     # CONFIG = 'ppo_may31_23' # The YML network config folder for the main jobs\n",
    "#     # BR_CONFIG = 'ppo_may31_23' \n",
    "#     N_SEEDS = 3 # Number of seeds of each experiment to launch\n",
    "#     extra_name = ''\n",
    "#     overrides = f'--overwrite_db True --br_portfolio_path {BR_CONFIG} --eval_every 999_000_000 --eval_zero false --total_timesteps 5_000_000 --dispatch_br false --br_overrides \"--total_timesteps 1_000_000\"'        \n",
    "#     dispatch.dispatch_experiments(CONFIG, base_job_name='jun14ent_3', game_name=config['game'], overrides=overrides, n_seeds=N_SEEDS, extra_name=extra_name)"
   ]
  },
  {
   "cell_type": "code",
   "execution_count": 9,
   "id": "4a6067d6-ea75-47a7-aec8-265ce62ad4aa",
   "metadata": {},
   "outputs": [
    {
     "name": "stdout",
     "output_type": "stream",
     "text": [
      "             JOBID                                                                                       NAME ST .      TIME NODES NODELIST(REASON)\n",
      "             93613                     jun26_jun26_4_base-cfr_port_2_no_extoutcome_lin_avg_plus-7777_contrast  R .   1:11:07     1 ip-10-255-1-162\n",
      "             93614                     jun26_jun26_4_base-cfr_port_2_no_extoutcome_lin_avg_plus-7778_contrast  R .   1:11:04     1 ip-10-255-1-162\n",
      "             93615                     jun26_jun26_4_base-cfr_port_2_no_extoutcome_lin_avg_plus-7779_contrast  R .   1:08:36     1 ip-10-255-1-132\n",
      "             93616                     jun26_jun26_4_base-cfr_port_2_no_extoutcome_lin_avg_plus-7780_contrast  R .   1:08:36     1 ip-10-255-1-132\n",
      "             93617                     jun26_jun26_4_base-cfr_port_2_no_extoutcome_lin_avg_plus-7781_contrast  R .   1:08:36     1 ip-10-255-1-133\n",
      "             93618                     jun26_jun26_4_base-cfr_port_2_no_extoutcome_lin_avg_plus-7782_contrast  R .   1:08:36     1 ip-10-255-1-133\n",
      "             93619                          jun26_jun26_4_base-cfr_port_2_no_extoutcome_lin_avg-7777_contrast  R .   1:08:36     1 ip-10-255-1-142\n",
      "             93620                          jun26_jun26_4_base-cfr_port_2_no_extoutcome_lin_avg-7778_contrast  R .   1:08:36     1 ip-10-255-1-142\n",
      "             93621                          jun26_jun26_4_base-cfr_port_2_no_extoutcome_lin_avg-7779_contrast  R .   1:08:36     1 ip-10-255-1-144\n",
      "             93622                          jun26_jun26_4_base-cfr_port_2_no_extoutcome_lin_avg-7780_contrast  R .   1:08:36     1 ip-10-255-1-144\n",
      "             93623                          jun26_jun26_4_base-cfr_port_2_no_extoutcome_lin_avg-7781_contrast  R .   1:08:36     1 ip-10-255-1-150\n",
      "             93624                          jun26_jun26_4_base-cfr_port_2_no_extoutcome_lin_avg-7782_contrast  R .   1:08:36     1 ip-10-255-1-150\n",
      "             93625                     jun26_jun26_3_base-cfr_port_2_no_extoutcome_lin_avg_plus-7777_contrast  R .   1:08:36     1 ip-10-255-1-151\n",
      "             93626                     jun26_jun26_3_base-cfr_port_2_no_extoutcome_lin_avg_plus-7778_contrast  R .   1:08:36     1 ip-10-255-1-151\n",
      "             93627                     jun26_jun26_3_base-cfr_port_2_no_extoutcome_lin_avg_plus-7779_contrast  R .   1:08:36     1 ip-10-255-1-154\n",
      "             93628                     jun26_jun26_3_base-cfr_port_2_no_extoutcome_lin_avg_plus-7780_contrast  R .   1:08:36     1 ip-10-255-1-154\n",
      "             93629                     jun26_jun26_3_base-cfr_port_2_no_extoutcome_lin_avg_plus-7781_contrast  R .   1:08:36     1 ip-10-255-1-159\n",
      "             93630                     jun26_jun26_3_base-cfr_port_2_no_extoutcome_lin_avg_plus-7782_contrast  R .   1:08:36     1 ip-10-255-1-159\n",
      "             93631                          jun26_jun26_3_base-cfr_port_2_no_extoutcome_lin_avg-7777_contrast  R .   1:08:36     1 ip-10-255-1-166\n",
      "             93632                          jun26_jun26_3_base-cfr_port_2_no_extoutcome_lin_avg-7778_contrast  R .   1:08:36     1 ip-10-255-1-166\n",
      "             93633                          jun26_jun26_3_base-cfr_port_2_no_extoutcome_lin_avg-7779_contrast  R .   1:08:36     1 ip-10-255-1-175\n",
      "             93634                          jun26_jun26_3_base-cfr_port_2_no_extoutcome_lin_avg-7780_contrast  R .   1:08:36     1 ip-10-255-1-175\n",
      "             93635                          jun26_jun26_3_base-cfr_port_2_no_extoutcome_lin_avg-7781_contrast  R .   1:08:36     1 ip-10-255-1-181\n",
      "             93636                          jun26_jun26_3_base-cfr_port_2_no_extoutcome_lin_avg-7782_contrast  R .   1:08:36     1 ip-10-255-1-181\n",
      "             93637                     jun26_jun26_1_base-cfr_port_2_no_extoutcome_lin_avg_plus-7777_contrast  R .   1:08:36     1 ip-10-255-1-214\n",
      "             93638                     jun26_jun26_1_base-cfr_port_2_no_extoutcome_lin_avg_plus-7778_contrast  R .   1:08:36     1 ip-10-255-1-214\n",
      "             93639                     jun26_jun26_1_base-cfr_port_2_no_extoutcome_lin_avg_plus-7779_contrast  R .   1:08:36     1 ip-10-255-1-224\n",
      "             93640                     jun26_jun26_1_base-cfr_port_2_no_extoutcome_lin_avg_plus-7780_contrast  R .   1:08:36     1 ip-10-255-1-224\n",
      "             93641                     jun26_jun26_1_base-cfr_port_2_no_extoutcome_lin_avg_plus-7781_contrast  R .   1:08:36     1 ip-10-255-1-229\n",
      "             93642                     jun26_jun26_1_base-cfr_port_2_no_extoutcome_lin_avg_plus-7782_contrast  R .   1:08:36     1 ip-10-255-1-229\n",
      "             93643                          jun26_jun26_1_base-cfr_port_2_no_extoutcome_lin_avg-7777_contrast  R .   1:08:36     1 ip-10-255-1-231\n",
      "             93644                          jun26_jun26_1_base-cfr_port_2_no_extoutcome_lin_avg-7778_contrast  R .   1:08:36     1 ip-10-255-1-231\n",
      "             93645                          jun26_jun26_1_base-cfr_port_2_no_extoutcome_lin_avg-7779_contrast  R .   1:08:36     1 ip-10-255-1-233\n",
      "             93646                          jun26_jun26_1_base-cfr_port_2_no_extoutcome_lin_avg-7780_contrast  R .   1:08:36     1 ip-10-255-1-233\n",
      "             93647                          jun26_jun26_1_base-cfr_port_2_no_extoutcome_lin_avg-7781_contrast  R .   1:08:36     1 ip-10-255-1-236\n",
      "             93648                          jun26_jun26_1_base-cfr_port_2_no_extoutcome_lin_avg-7782_contrast  R .   1:08:36     1 ip-10-255-1-236\n",
      "             93649                     jun26_jun26_0_base-cfr_port_2_no_extoutcome_lin_avg_plus-7777_contrast  R .   1:08:36     1 ip-10-255-1-237\n",
      "             93650                     jun26_jun26_0_base-cfr_port_2_no_extoutcome_lin_avg_plus-7778_contrast  R .   1:08:36     1 ip-10-255-1-237\n",
      "             93651                     jun26_jun26_0_base-cfr_port_2_no_extoutcome_lin_avg_plus-7779_contrast  R .   1:08:36     1 ip-10-255-1-247\n",
      "             93652                     jun26_jun26_0_base-cfr_port_2_no_extoutcome_lin_avg_plus-7780_contrast  R .   1:08:36     1 ip-10-255-1-247\n",
      "             93653                     jun26_jun26_0_base-cfr_port_2_no_extoutcome_lin_avg_plus-7781_contrast  R .   1:08:36     1 ip-10-255-1-253\n",
      "             93654                     jun26_jun26_0_base-cfr_port_2_no_extoutcome_lin_avg_plus-7782_contrast  R .   1:08:36     1 ip-10-255-1-253\n",
      "             93655                          jun26_jun26_0_base-cfr_port_2_no_extoutcome_lin_avg-7777_contrast  R .   1:08:06     1 ip-10-255-1-146\n",
      "             93656                          jun26_jun26_0_base-cfr_port_2_no_extoutcome_lin_avg-7778_contrast  R .   1:08:06     1 ip-10-255-1-146\n",
      "             93657                          jun26_jun26_0_base-cfr_port_2_no_extoutcome_lin_avg-7779_contrast  R .   1:08:06     1 ip-10-255-1-160\n",
      "             93658                          jun26_jun26_0_base-cfr_port_2_no_extoutcome_lin_avg-7780_contrast  R .   1:08:06     1 ip-10-255-1-160\n",
      "             93659                          jun26_jun26_0_base-cfr_port_2_no_extoutcome_lin_avg-7781_contrast  R .   1:08:06     1 ip-10-255-1-165\n",
      "             93660                          jun26_jun26_0_base-cfr_port_2_no_extoutcome_lin_avg-7782_contrast  R .   1:08:06     1 ip-10-255-1-165\n",
      "             93661                     jun26_jun26_2_base-cfr_port_2_no_extoutcome_lin_avg_plus-7777_contrast  R .   1:08:06     1 ip-10-255-1-252\n",
      "             93662                     jun26_jun26_2_base-cfr_port_2_no_extoutcome_lin_avg_plus-7778_contrast  R .   1:08:06     1 ip-10-255-1-252\n",
      "             93663                     jun26_jun26_2_base-cfr_port_2_no_extoutcome_lin_avg_plus-7779_contrast  R .   1:08:06     1 ip-10-255-1-135\n",
      "             93664                     jun26_jun26_2_base-cfr_port_2_no_extoutcome_lin_avg_plus-7780_contrast  R .   1:08:06     1 ip-10-255-1-135\n",
      "             93665                     jun26_jun26_2_base-cfr_port_2_no_extoutcome_lin_avg_plus-7781_contrast  R .   1:08:06     1 ip-10-255-1-137\n",
      "             93666                     jun26_jun26_2_base-cfr_port_2_no_extoutcome_lin_avg_plus-7782_contrast  R .   1:08:06     1 ip-10-255-1-137\n",
      "             93667                          jun26_jun26_2_base-cfr_port_2_no_extoutcome_lin_avg-7777_contrast  R .   1:08:06     1 ip-10-255-1-157\n",
      "             93668                          jun26_jun26_2_base-cfr_port_2_no_extoutcome_lin_avg-7778_contrast  R .   1:08:06     1 ip-10-255-1-157\n",
      "             93669                          jun26_jun26_2_base-cfr_port_2_no_extoutcome_lin_avg-7779_contrast  R .   1:08:06     1 ip-10-255-1-158\n",
      "             93670                          jun26_jun26_2_base-cfr_port_2_no_extoutcome_lin_avg-7780_contrast  R .   1:08:06     1 ip-10-255-1-158\n",
      "             93671                          jun26_jun26_2_base-cfr_port_2_no_extoutcome_lin_avg-7781_contrast  R .   1:08:06     1 ip-10-255-1-179\n",
      "             93672                          jun26_jun26_2_base-cfr_port_2_no_extoutcome_lin_avg-7782_contrast  R .   1:08:06     1 ip-10-255-1-179\n",
      "             93673                     aug31_aug31_3_base-cfr_port_2_no_extoutcome_lin_avg_plus-7777_contrast  R .   1:08:06     1 ip-10-255-1-180\n",
      "             93674                     aug31_aug31_3_base-cfr_port_2_no_extoutcome_lin_avg_plus-7778_contrast  R .   1:08:06     1 ip-10-255-1-180\n",
      "             93675                     aug31_aug31_3_base-cfr_port_2_no_extoutcome_lin_avg_plus-7779_contrast  R .   1:08:06     1 ip-10-255-1-182\n",
      "             93676                     aug31_aug31_3_base-cfr_port_2_no_extoutcome_lin_avg_plus-7780_contrast  R .   1:08:06     1 ip-10-255-1-182\n",
      "             93677                     aug31_aug31_3_base-cfr_port_2_no_extoutcome_lin_avg_plus-7781_contrast  R .   1:08:06     1 ip-10-255-1-185\n",
      "             93678                     aug31_aug31_3_base-cfr_port_2_no_extoutcome_lin_avg_plus-7782_contrast  R .   1:08:06     1 ip-10-255-1-185\n",
      "             93679                          aug31_aug31_3_base-cfr_port_2_no_extoutcome_lin_avg-7777_contrast  R .   1:08:06     1 ip-10-255-1-186\n",
      "             93680                          aug31_aug31_3_base-cfr_port_2_no_extoutcome_lin_avg-7778_contrast  R .   1:08:06     1 ip-10-255-1-186\n",
      "             93681                          aug31_aug31_3_base-cfr_port_2_no_extoutcome_lin_avg-7779_contrast  R .   1:08:06     1 ip-10-255-1-168\n",
      "             93682                          aug31_aug31_3_base-cfr_port_2_no_extoutcome_lin_avg-7780_contrast  R .   1:08:06     1 ip-10-255-1-168\n",
      "             93683                          aug31_aug31_3_base-cfr_port_2_no_extoutcome_lin_avg-7781_contrast  R .   1:08:06     1 ip-10-255-1-169\n",
      "             93684                          aug31_aug31_3_base-cfr_port_2_no_extoutcome_lin_avg-7782_contrast  R .   1:08:06     1 ip-10-255-1-169\n",
      "             93685                     aug31_aug31_2_base-cfr_port_2_no_extoutcome_lin_avg_plus-7777_contrast  R .   1:08:06     1 ip-10-255-1-171\n",
      "             93686                     aug31_aug31_2_base-cfr_port_2_no_extoutcome_lin_avg_plus-7778_contrast  R .   1:08:06     1 ip-10-255-1-171\n",
      "             93687                     aug31_aug31_2_base-cfr_port_2_no_extoutcome_lin_avg_plus-7779_contrast  R .   1:08:06     1 ip-10-255-1-172\n",
      "             93688                     aug31_aug31_2_base-cfr_port_2_no_extoutcome_lin_avg_plus-7780_contrast  R .   1:08:06     1 ip-10-255-1-172\n",
      "             93689                     aug31_aug31_2_base-cfr_port_2_no_extoutcome_lin_avg_plus-7781_contrast  R .   1:08:06     1 ip-10-255-1-218\n",
      "             93690                     aug31_aug31_2_base-cfr_port_2_no_extoutcome_lin_avg_plus-7782_contrast  R .   1:08:06     1 ip-10-255-1-218\n",
      "             93691                          aug31_aug31_2_base-cfr_port_2_no_extoutcome_lin_avg-7777_contrast  R .   1:08:06     1 ip-10-255-1-220\n",
      "             93692                          aug31_aug31_2_base-cfr_port_2_no_extoutcome_lin_avg-7778_contrast  R .   1:08:06     1 ip-10-255-1-220\n",
      "             93693                          aug31_aug31_2_base-cfr_port_2_no_extoutcome_lin_avg-7779_contrast  R .   1:08:06     1 ip-10-255-1-221\n",
      "             93694                          aug31_aug31_2_base-cfr_port_2_no_extoutcome_lin_avg-7780_contrast  R .   1:08:06     1 ip-10-255-1-221\n",
      "             93695                          aug31_aug31_2_base-cfr_port_2_no_extoutcome_lin_avg-7781_contrast  R .   1:08:06     1 ip-10-255-1-223\n",
      "             93696                          aug31_aug31_2_base-cfr_port_2_no_extoutcome_lin_avg-7782_contrast  R .   1:08:06     1 ip-10-255-1-223\n",
      "             93697                     aug31_aug31_1_base-cfr_port_2_no_extoutcome_lin_avg_plus-7777_contrast  R .   1:08:06     1 ip-10-255-1-240\n",
      "             93698                     aug31_aug31_1_base-cfr_port_2_no_extoutcome_lin_avg_plus-7778_contrast  R .   1:08:06     1 ip-10-255-1-240\n",
      "             93699                     aug31_aug31_1_base-cfr_port_2_no_extoutcome_lin_avg_plus-7779_contrast  R .   1:08:06     1 ip-10-255-1-241\n",
      "             93700                     aug31_aug31_1_base-cfr_port_2_no_extoutcome_lin_avg_plus-7780_contrast  R .   1:08:06     1 ip-10-255-1-241\n",
      "             93701                     aug31_aug31_1_base-cfr_port_2_no_extoutcome_lin_avg_plus-7781_contrast  R .   1:08:06     1 ip-10-255-1-242\n",
      "             93702                     aug31_aug31_1_base-cfr_port_2_no_extoutcome_lin_avg_plus-7782_contrast  R .   1:08:06     1 ip-10-255-1-242\n",
      "             93703                          aug31_aug31_1_base-cfr_port_2_no_extoutcome_lin_avg-7777_contrast  R .   1:08:06     1 ip-10-255-1-245\n",
      "             93704                          aug31_aug31_1_base-cfr_port_2_no_extoutcome_lin_avg-7778_contrast  R .   1:08:06     1 ip-10-255-1-245\n",
      "             93705                          aug31_aug31_1_base-cfr_port_2_no_extoutcome_lin_avg-7779_contrast  R .   1:08:06     1 ip-10-255-1-191\n",
      "             93706                          aug31_aug31_1_base-cfr_port_2_no_extoutcome_lin_avg-7780_contrast  R .   1:08:06     1 ip-10-255-1-191\n",
      "             93707                          aug31_aug31_1_base-cfr_port_2_no_extoutcome_lin_avg-7781_contrast  R .   1:08:06     1 ip-10-255-1-194\n",
      "             93708                          aug31_aug31_1_base-cfr_port_2_no_extoutcome_lin_avg-7782_contrast  R .   1:08:06     1 ip-10-255-1-194\n",
      "             93709                     aug31_aug31_4_base-cfr_port_2_no_extoutcome_lin_avg_plus-7777_contrast  R .   1:08:06     1 ip-10-255-1-207\n",
      "             93710                     aug31_aug31_4_base-cfr_port_2_no_extoutcome_lin_avg_plus-7778_contrast  R .   1:08:06     1 ip-10-255-1-207\n",
      "             93711                     aug31_aug31_4_base-cfr_port_2_no_extoutcome_lin_avg_plus-7779_contrast  R .   1:08:06     1 ip-10-255-1-209\n",
      "             93712                     aug31_aug31_4_base-cfr_port_2_no_extoutcome_lin_avg_plus-7780_contrast  R .   1:08:06     1 ip-10-255-1-209\n",
      "             93713                     aug31_aug31_4_base-cfr_port_2_no_extoutcome_lin_avg_plus-7781_contrast  R .   1:08:06     1 ip-10-255-1-212\n",
      "             93714                     aug31_aug31_4_base-cfr_port_2_no_extoutcome_lin_avg_plus-7782_contrast  R .   1:08:06     1 ip-10-255-1-212\n",
      "             93715                          aug31_aug31_4_base-cfr_port_2_no_extoutcome_lin_avg-7777_contrast  R .   1:08:03     1 ip-10-255-1-134\n",
      "             93716                          aug31_aug31_4_base-cfr_port_2_no_extoutcome_lin_avg-7778_contrast  R .   1:08:03     1 ip-10-255-1-134\n",
      "             93717                          aug31_aug31_4_base-cfr_port_2_no_extoutcome_lin_avg-7779_contrast  R .   1:08:03     1 ip-10-255-1-143\n",
      "             93718                          aug31_aug31_4_base-cfr_port_2_no_extoutcome_lin_avg-7780_contrast  R .   1:08:03     1 ip-10-255-1-143\n",
      "             93719                          aug31_aug31_4_base-cfr_port_2_no_extoutcome_lin_avg-7781_contrast  R .   1:08:03     1 ip-10-255-1-145\n",
      "             93720                          aug31_aug31_4_base-cfr_port_2_no_extoutcome_lin_avg-7782_contrast  R .   1:08:03     1 ip-10-255-1-145\n",
      "             93721                     aug31_aug31_0_base-cfr_port_2_no_extoutcome_lin_avg_plus-7777_contrast  R .   1:08:03     1 ip-10-255-1-167\n",
      "             93722                     aug31_aug31_0_base-cfr_port_2_no_extoutcome_lin_avg_plus-7778_contrast  R .   1:08:03     1 ip-10-255-1-167\n",
      "             93723                     aug31_aug31_0_base-cfr_port_2_no_extoutcome_lin_avg_plus-7779_contrast  R .   1:08:03     1 ip-10-255-1-190\n",
      "             93724                     aug31_aug31_0_base-cfr_port_2_no_extoutcome_lin_avg_plus-7780_contrast  R .   1:08:03     1 ip-10-255-1-190\n",
      "             93725                     aug31_aug31_0_base-cfr_port_2_no_extoutcome_lin_avg_plus-7781_contrast  R .   1:08:03     1 ip-10-255-1-217\n",
      "             93726                     aug31_aug31_0_base-cfr_port_2_no_extoutcome_lin_avg_plus-7782_contrast  R .   1:08:03     1 ip-10-255-1-217\n",
      "             93727                          aug31_aug31_0_base-cfr_port_2_no_extoutcome_lin_avg-7777_contrast  R .   1:08:03     1 ip-10-255-1-249\n",
      "             93728                          aug31_aug31_0_base-cfr_port_2_no_extoutcome_lin_avg-7778_contrast  R .   1:08:03     1 ip-10-255-1-249\n",
      "             93729                          aug31_aug31_0_base-cfr_port_2_no_extoutcome_lin_avg-7779_contrast  R .   1:08:03     1 ip-10-255-1-163\n",
      "             93730                          aug31_aug31_0_base-cfr_port_2_no_extoutcome_lin_avg-7780_contrast  R .   1:08:03     1 ip-10-255-1-163\n",
      "             93731                          aug31_aug31_0_base-cfr_port_2_no_extoutcome_lin_avg-7781_contrast  R .   1:08:03     1 ip-10-255-1-164\n",
      "             93732                          aug31_aug31_0_base-cfr_port_2_no_extoutcome_lin_avg-7782_contrast  R .   1:08:03     1 ip-10-255-1-164\n"
     ]
    }
   ],
   "source": [
    "!squeue --format=\"%.18i %.90j %.2t .%.10M%.6D %R\""
   ]
  },
  {
   "cell_type": "code",
   "execution_count": null,
   "id": "0e80d410-986b-42a1-9d49-1035ef103a0a",
   "metadata": {},
   "outputs": [],
   "source": [
    "def check_queue():\n",
    "    !ssh borg.cs.ubc.ca '/opt/slurm/bin/squeue -u newmanne --format=\"%.18i %.90j %.2t .%.10M %.6D %R\"'\n"
   ]
  },
  {
   "cell_type": "code",
   "execution_count": null,
   "id": "3e5c26b7-d158-4ece-a72a-c3b2fd47a56f",
   "metadata": {
    "tags": []
   },
   "outputs": [],
   "source": [
    "check_queue()"
   ]
  },
  {
   "cell_type": "code",
   "execution_count": 106,
   "id": "a8ee533f-357a-4bbc-956e-1cf136ef9266",
   "metadata": {},
   "outputs": [
    {
     "name": "stdout",
     "output_type": "stream",
     "text": [
      "5\n"
     ]
    }
   ],
   "source": [
    "!squeue | wc -l"
   ]
  },
  {
   "cell_type": "code",
   "execution_count": null,
   "id": "a8b665af-771f-44c1-8065-4928e1e5ac91",
   "metadata": {},
   "outputs": [],
   "source": [
    "!squeue | grep \"may30\" | wc -l"
   ]
  },
  {
   "cell_type": "code",
   "execution_count": 29,
   "id": "c26b508d-9ee0-4878-9aa1-68c611ab651a",
   "metadata": {},
   "outputs": [],
   "source": [
    "!scancel -u ubuntu"
   ]
  },
  {
   "cell_type": "code",
   "execution_count": null,
   "id": "aee5cc7e-228c-4484-bb31-efb870f59efa",
   "metadata": {},
   "outputs": [],
   "source": [
    "# !scancel  46891 46893"
   ]
  },
  {
   "cell_type": "code",
   "execution_count": null,
   "id": "3aeeeeb6-6c6f-4e37-9566-3eb8d73d97d5",
   "metadata": {},
   "outputs": [],
   "source": [
    "!rm -rf /shared/outputs/minitest/\n",
    "try:\n",
    "    Experiment.objects.get(name='minitest').delete()\n",
    "except:\n",
    "    pass\n",
    "dispatch.dispatch_experiments('feb2', base_job_name='minitest', game_name='tiny', overrides = '--br_portfolio_path feb2 --eval_every 500 --num_training_episodes 1_000 --br_overrides \"--num_training_episodes 1_000\" --eval_overrides \"--num_samples 100\"')"
   ]
  },
  {
   "cell_type": "code",
   "execution_count": null,
   "id": "d4ca4c72-ce03-4d1a-8e9d-1abd642e8407",
   "metadata": {},
   "outputs": [],
   "source": [
    "BestResponse.objects.last()"
   ]
  },
  {
   "cell_type": "code",
   "execution_count": null,
   "id": "da1b3451-a927-4467-a90d-077f2de61767",
   "metadata": {},
   "outputs": [],
   "source": [
    "Experiment.objects.all()"
   ]
  },
  {
   "cell_type": "code",
   "execution_count": null,
   "id": "0547418d-7d14-404e-ad7f-892180cd6e50",
   "metadata": {},
   "outputs": [],
   "source": [
    "!sacct --starttime 2022-03-11 --format=User,JobID,Jobname,partition,state,time,start,end,elapsed,MaxRss,MaxVMSize,nnodes,ncpus,nodelist"
   ]
  },
  {
   "cell_type": "code",
   "execution_count": null,
   "id": "2fc59f9d-3861-481c-bcd2-68c25e19267a",
   "metadata": {},
   "outputs": [],
   "source": [
    "Evaluation.objects.last()"
   ]
  },
  {
   "cell_type": "code",
   "execution_count": null,
   "id": "eda9b8b7-ea2f-41b0-a527-4460fb8249fc",
   "metadata": {},
   "outputs": [],
   "source": [
    "os.system(\"ssh borg.cs.ubc.ca '/opt/slurm/bin/sbatch'\")"
   ]
  },
  {
   "cell_type": "code",
   "execution_count": null,
   "id": "b70ae116-1e70-4d32-8405-b479041c18b5",
   "metadata": {},
   "outputs": [],
   "source": [
    "!squeue --format=\"%.18i %.65j %.2t %.10M %.6D %R\" | grep \"eval\" | awk '{print $1}' | xargs scancel"
   ]
  },
  {
   "cell_type": "code",
   "execution_count": null,
   "id": "d6b4808f-f9ca-4e51-8a92-4445dfb6f883",
   "metadata": {},
   "outputs": [],
   "source": [
    "from compress_pickle import dumps, loads\n"
   ]
  },
  {
   "cell_type": "code",
   "execution_count": null,
   "id": "a9b6c536-b575-48e7-8bd9-8b28e9a9619a",
   "metadata": {},
   "outputs": [],
   "source": [
    "loads?"
   ]
  },
  {
   "cell_type": "code",
   "execution_count": null,
   "id": "27346459-d529-47b5-b84f-32511d1b809f",
   "metadata": {},
   "outputs": [],
   "source": [
    "from compress_pickle.compressers.registry import get_known_compressions"
   ]
  },
  {
   "cell_type": "code",
   "execution_count": null,
   "id": "89557fb5-e0fb-471c-80f4-e7d8d4b76abb",
   "metadata": {},
   "outputs": [],
   "source": [
    "get_known_compressions()"
   ]
  },
  {
   "cell_type": "code",
   "execution_count": null,
   "id": "2b42e2b0-3412-46ed-8a7f-7539bc84f752",
   "metadata": {},
   "outputs": [],
   "source": [
    "x = EquilibriumSolverRunCheckpoint.objects.last().policy"
   ]
  },
  {
   "cell_type": "code",
   "execution_count": null,
   "id": "52401c72-bb34-41be-b7f0-a0c9479f60ff",
   "metadata": {},
   "outputs": [],
   "source": [
    "len(x)"
   ]
  },
  {
   "cell_type": "code",
   "execution_count": null,
   "id": "c19c4b6d-95b9-4730-9f52-66ef55bc2b2d",
   "metadata": {},
   "outputs": [],
   "source": [
    "len(dumps(pickle.loads(x), compression='bz2'))"
   ]
  },
  {
   "cell_type": "code",
   "execution_count": null,
   "id": "3b5590c1-0f89-4562-abdb-d9683160d40c",
   "metadata": {},
   "outputs": [],
   "source": [
    "len(pickle.dumps(pickle.loads(x)))"
   ]
  },
  {
   "cell_type": "code",
   "execution_count": null,
   "id": "0a3eae12-4643-46f1-a4ed-a72b4a18a44f",
   "metadata": {},
   "outputs": [],
   "source": [
    "EquilibriumSolverRunCheckpoint.objects.last().walltime"
   ]
  },
  {
   "cell_type": "code",
   "execution_count": null,
   "id": "33a4992c-5f4f-44df-a3cb-6f2a2bd15b6b",
   "metadata": {},
   "outputs": [],
   "source": [
    "EquilibriumSolverRunCheckpoint.objects.last().t"
   ]
  },
  {
   "cell_type": "code",
   "execution_count": null,
   "id": "03993e8f-aa1c-431f-9a5f-8bb5fedd7486",
   "metadata": {},
   "outputs": [],
   "source": []
  }
 ],
 "metadata": {
  "kernelspec": {
   "display_name": "Django Shell-Plus",
   "language": "python",
   "name": "django_extensions"
  },
  "language_info": {
   "codemirror_mode": {
    "name": "ipython",
    "version": 3
   },
   "file_extension": ".py",
   "mimetype": "text/x-python",
   "name": "python",
   "nbconvert_exporter": "python",
   "pygments_lexer": "ipython3",
   "version": "3.8.2"
  }
 },
 "nbformat": 4,
 "nbformat_minor": 5
}
